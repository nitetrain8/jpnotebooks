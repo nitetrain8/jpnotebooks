{
 "cells": [
  {
   "cell_type": "code",
   "execution_count": 1,
   "metadata": {
    "collapsed": false
   },
   "outputs": [],
   "source": [
    "import numpy as np\n",
    "from hello.pid.lvpid import PIDController\n",
    "from hello.pid.delay import seconds, minutes, hours, days, m2s, s2m, h2s, DelayBuffer, DelaySink\n",
    "from hello.pid.gas_process import HeadspaceProcess, GasController\n",
    "from hello.pid.do_simulation.doprocess import DOProcess, AIR_CNO\n",
    "\n",
    "from hello.pid.do_simulation.options import SimOps, SimConfig\n",
    "from hello.pid.do_simulation.fitness import Fitness2, Fitness3\n",
    "from hello.pid.picker import mk_picker\n",
    "from hello.pid.do_simulation.sim_window import PIDSimFrame\n",
    "from hello.pid.ui import TkQuitHack"
   ]
  },
  {
   "cell_type": "markdown",
   "metadata": {},
   "source": [
    "### Copy this template to ensure all sim options are set correctly"
   ]
  },
  {
   "cell_type": "code",
   "execution_count": 79,
   "metadata": {
    "collapsed": true
   },
   "outputs": [],
   "source": [
    "ops = SimOps()\n",
    "ops.o2_pid.p = 2\n",
    "ops.o2_pid.i = 10\n",
    "ops.o2_pid.d = 0\n",
    "ops.o2_pid.amax = 100\n",
    "ops.o2_pid.amin = 0\n",
    "ops.o2_pid.beta = 1\n",
    "ops.o2_pid.linearity = 1\n",
    "ops.o2_pid.alpha = -1\n",
    "\n",
    "ops.n2_pid.p = 5\n",
    "ops.n2_pid.i = 5\n",
    "ops.n2_pid.d = 0\n",
    "ops.n2_pid.amax = 90\n",
    "ops.n2_pid.amin = 0\n",
    "ops.n2_pid.beta = 1\n",
    "ops.n2_pid.linearity = 1\n",
    "ops.n2_pid.alpha = -1\n",
    "\n",
    "ops.mfcs.co2_max = 1\n",
    "ops.mfcs.o2_max = 10\n",
    "ops.mfcs.n2_max = 10\n",
    "ops.mfcs.air_max = 10\n",
    "\n",
    "ops.plots.xscale = 'auto'\n",
    "ops.plots.xmin = 0\n",
    "ops.plots.xmax = 72\n",
    "ops.plots.xscale_factor = 3600\n",
    "\n",
    "ops.delay = 0\n",
    "ops.end = 10000\n",
    "ops.initial_actual_cno = AIR_CNO\n",
    "ops.initial_request_cno = (0.07, 0, 0)\n",
    "ops.initial_pv = 90\n",
    "ops.set_point = 40\n",
    "ops.set_point_deadband = 1\n",
    "ops.k_mult = 1.1\n",
    "ops.k = None\n",
    "ops.c = None\n",
    "ops.dc = 0\n",
    "ops.d2c = 0\n",
    "ops.mode = \"o2a\"\n",
    "ops.main_gas = 1.0\n",
    "ops.reactor_size = 80\n",
    "ops.reactor_volume = 55\n",
    "ops.time_unit = hours\n",
    "ops.max_iters = 3 * days"
   ]
  },
  {
   "cell_type": "code",
   "execution_count": 80,
   "metadata": {
    "collapsed": false,
    "scrolled": true
   },
   "outputs": [
    {
     "name": "stdout",
     "output_type": "stream",
     "text": [
      "State Value Updated: sp 1.0 \n",
      "State Value Updated: sp 100.0 \n",
      "State Value Updated: sp 100.0 \n",
      "Value Changed: o2_pid.pgain: 10.00\n",
      "Value Changed: o2_pid.itime: 80.00\n",
      "Value Changed: o2_pid.dtime: 0.00\n",
      "Advancing simulation 3600 seconds...\n",
      "Advancing simulation 3600 seconds...\n",
      "Advancing simulation 3600 seconds...\n",
      "Advancing simulation 3600 seconds...\n",
      "Advancing simulation 3600 seconds...\n",
      "Advancing simulation 3600 seconds...\n",
      "Advancing simulation 3600 seconds...\n",
      "Advancing simulation 3600 seconds...\n",
      "Advancing simulation 3600 seconds...\n",
      "Advancing simulation 3600 seconds...\n",
      "TIMEFACTOR_CHANGED : 0.0\n",
      "State Value Updated: sp 150.0 \n",
      "TIMEFACTOR_CHANGED : 200.0\n",
      "Value Changed: n2_pid.pgain: -4.00\n",
      "State Value Updated: sp 100.0 \n",
      "Advancing simulation 36000 seconds...\n",
      "State Value Updated: sp 150.0 \n"
     ]
    }
   ],
   "source": [
    "cfg = SimConfig()\n",
    "cfg.simops = ops\n",
    "def run2():\n",
    "    global root, f\n",
    "    cfg.simops.o2_pid.p = 7\n",
    "    cfg.simops.o2_pid.i = 50\n",
    "    cfg.simops.o2_pid.amax = 100\n",
    "    cfg.simops.o2_pid.deadband = 0\n",
    "    cfg.simops.o2_pid.beta = 0\n",
    "    cfg.simops.o2_pid.man_request = 10\n",
    "\n",
    "    cfg.simops.n2_pid.p = -2\n",
    "    cfg.simops.n2_pid.i = 60\n",
    "    cfg.simops.n2_pid.amax = 90\n",
    "    cfg.simops.n2_pid.deadband = 0\n",
    "    cfg.simops.n2_pid.beta = 0\n",
    "    cfg.simops.n2_pid.man_request = 10\n",
    "    cfg.simops.delay=0*minutes\n",
    "\n",
    "    cfg.update_interval = 50\n",
    "    cfg.time_factor = 200\n",
    "\n",
    "    cfg.simops.initial_pv = 100\n",
    "    cfg.simops.set_point = 100\n",
    "\n",
    "    cfg.xwindow_hrs = 10\n",
    "\n",
    "    root = TkQuitHack()\n",
    "    root.wm_title(\"DO Simulation\")\n",
    "    #root.geometry(\"%dx%d\"%(600, 800))\n",
    "    f = PIDSimFrame(root, cfg)\n",
    "    f.pack()\n",
    "    root.mainloop()\n",
    "run2()"
   ]
  },
  {
   "cell_type": "code",
   "execution_count": 4,
   "metadata": {
    "collapsed": false
   },
   "outputs": [],
   "source": [
    "from hello.pid.do_simulation.do_sim import do_sim_coroutine, do_sim"
   ]
  },
  {
   "cell_type": "code",
   "execution_count": 5,
   "metadata": {
    "collapsed": false
   },
   "outputs": [],
   "source": [
    "# O2 needs an extra padding space because the negative sign\n",
    "# for N2 pgain doesn't count, i guesss\n",
    "def fmt_float(f):\n",
    "    if not f:\n",
    "        return \"0\"\n",
    "    f = str(f)\n",
    "    if \".\" not in f:\n",
    "        return f\n",
    "    else:\n",
    "        f = f.strip(\"0\")\n",
    "        if f[-1] == \".\":\n",
    "            f = f[:-1]\n",
    "        if f[0] == \".\":\n",
    "            f = \"0\" + f\n",
    "    return f\n",
    "def get_text(ops):\n",
    "\n",
    "    text = \\\n",
    "\"\"\"\n",
    "O2: P=%3d  I=%5d  Initial PV: %3d  k: %.4f/hr (%sx Est.)\n",
    "N2: P=%3d  I=%4d  Set Point:  %3d  c: %s%%/hr\n",
    "\n",
    " \"\"\" % (ops.o2_pid.p, ops.o2_pid.i,ops.initial_pv, ops.k*ops.k_mult, fmt_float(ops.k_mult),\n",
    "        ops.n2_pid.p, ops.n2_pid.i, ops.set_point, fmt_float(ops.c))\n",
    "    text = text.strip()\n",
    "    return text"
   ]
  },
  {
   "cell_type": "code",
   "execution_count": 91,
   "metadata": {
    "collapsed": true
   },
   "outputs": [],
   "source": [
    "def run(ops):\n",
    "    global data, data2, text, data3\n",
    "    data, data2, data3 = do_sim(ops)\n",
    "    text = get_text(ops)\n",
    "    plot(ops)\n",
    "    \n",
    "def run2(ops):\n",
    "    global data, data2, text, data3\n",
    "    data, data2, data3 = do_sim(ops)\n",
    "    text = get_text(ops)\n",
    "    plot2(ops)"
   ]
  },
  {
   "cell_type": "code",
   "execution_count": 92,
   "metadata": {
    "collapsed": false
   },
   "outputs": [
    {
     "name": "stdout",
     "output_type": "stream",
     "text": [
      "Using matplotlib backend: TkAgg\n"
     ]
    }
   ],
   "source": [
    "import matplotlib.pyplot as plt\n",
    "from matplotlib.ticker import FuncFormatter\n",
    "%matplotlib\n",
    "\n",
    "def plot(ops):    \n",
    "    print(\"Parsing Data\")\n",
    "    global x, pv, mg, cs, co2_req, n2_req, o2_req, air_req, co2a, n2a, o2a, uk, up, ui, ud\n",
    "    x, pv, cs, co2_req, n2_req, o2_req, air_req = list(zip(*data))\n",
    "    uk, up, ui, ud = list(zip(*data2))\n",
    "    print(\"Closing Plot\")\n",
    "    plt.close()\n",
    "    print(\"Plotting Data\")\n",
    "\n",
    "    step = 100\n",
    "    xs = x[::step]\n",
    "    xs = np.array(xs) / ops.plots.xscale_factor * ops.time_unit\n",
    "    fig = plt.figure()\n",
    "    ax1 = plt.subplot(311)\n",
    "    ax2 = plt.subplot(312)\n",
    "    ax3 = plt.subplot(313)\n",
    "\n",
    "    pvs = np.array(pv[::step])\n",
    "    ax1.plot(xs, pvs, \"blue\", ls=\"-\", label=\"PV\")\n",
    "    ax1.axhline(y=ops.set_point, ls=\"--\", color=\"black\")\n",
    "\n",
    "    ax2.plot(xs, co2_req[::step], \"purple\", ls=\"-\", label=\"CO2\")\n",
    "    ax2.plot(xs, n2_req[::step], \"red\", ls=\"-\", label=\"N2\")\n",
    "    ax2.plot(xs, o2_req[::step], \"green\", ls=\"-\", label=\"O2\")\n",
    "    ax2.plot(xs, air_req[::step], \"cyan\", ls=\"-\", label=\"Air\")\n",
    "    fm1 = FuncFormatter(lambda y, _: \"%.2f%%\"%y)\n",
    "    fm2 = FuncFormatter(lambda y, _: \"%.2f%%\"%(y*100))\n",
    "\n",
    "    ax3.plot(xs, uk[::step], \"blue\", ls=\"-\", label=\"Uk\")\n",
    "    ax3.plot(xs, up[::step], \"red\", ls=\"-\", label=\"Up\")\n",
    "    ax3.plot(xs, ui[::step], \"green\", ls=\"-\", label=\"Ui\")\n",
    "    ax3.plot(xs, ud[::step], \"purple\", ls=\"-\", label=\"Ud\")\n",
    "\n",
    "    ax1.yaxis.set_major_formatter(fm1)\n",
    "    ax2.yaxis.set_major_formatter(fm2)\n",
    "    ax2.set_ylim((0, 1.1))\n",
    "    \n",
    "    m, ma = ax1.get_ylim()\n",
    "    if np.min(pvs) - 1 < m:\n",
    "        m -= 1\n",
    "    if np.max(pvs) + 1 > ma:\n",
    "        ma += 1\n",
    "    ax1.set_ylim((m, ma))\n",
    "    #ax1.set_ylim((sp-5, sp+5))\n",
    "\n",
    "\n",
    "    for a in ax1, ax2, ax3: \n",
    "        b = a.get_position()\n",
    "        a.set_position([b.x0, b.y0, b.width*0.9, b.height])\n",
    "        a.legend(bbox_to_anchor=(0.99, 1.06), loc=\"upper left\")\n",
    "        a.grid()\n",
    "        if ops.plots.xscale == 'man':\n",
    "            a.set_xlim((ops.plots.xmin, ops.plots.xmax))\n",
    "    \n",
    "    fig.text(0.15, 0.95, get_text(ops), transform=ax1.transAxes, fontsize=12,\n",
    "        verticalalignment='top')\n",
    "    \n",
    "    wm=plt.get_current_fig_manager()\n",
    "    wm.window.attributes('-topmost', 1)\n",
    "    wm.window.attributes('-topmost', 0)\n",
    "    # h = wm.window.winfo_height()\n",
    "    # w = wm.window.winfo_width()\n",
    "    wm.window.geometry(\"%sx%s+%s+%s\"%(700,720,50, 20))"
   ]
  },
  {
   "cell_type": "code",
   "execution_count": 93,
   "metadata": {
    "collapsed": true
   },
   "outputs": [],
   "source": [
    "def plot2(ops):    \n",
    "    print(\"Parsing Data\")\n",
    "    global ax1, ax2, fig\n",
    "    global x, pv, mg, cs, co2_req, n2_req, o2_req, air_req, co2a, n2a, o2a, uk, up, ui, ud\n",
    "    x, pv, cs, co2_req, n2_req, o2_req, air_req = list(zip(*data))\n",
    "    print(\"Closing Plot\")\n",
    "    plt.close()\n",
    "    print(\"Plotting Data\")\n",
    "\n",
    "    step = 100\n",
    "    xs = x[::step]\n",
    "    xs = np.array(xs) / ops.plots.xscale_factor * ops.time_unit\n",
    "    fig = plt.figure()\n",
    "    ax1 = plt.subplot(211)\n",
    "    ax2 = plt.subplot(212)\n",
    "\n",
    "    pvs = np.array(pv[::step])\n",
    "    ax1.plot(xs, pvs, \"blue\", ls=\"-\", label=\"PV\")\n",
    "    ax1.axhline(y=ops.set_point, ls=\"--\", color=\"black\")\n",
    "\n",
    "    ax2.plot(xs, co2_req[::step], \"purple\", ls=\"-\", label=\"CO2\")\n",
    "    ax2.plot(xs, n2_req[::step], \"red\", ls=\"-\", label=\"N2\")\n",
    "    ax2.plot(xs, o2_req[::step], \"green\", ls=\"-\", label=\"O2\")\n",
    "    ax2.plot(xs, air_req[::step], \"cyan\", ls=\"-\", label=\"Air\")\n",
    "    fm1 = FuncFormatter(lambda y, _: \"%.2f%%\"%y)\n",
    "    fm2 = FuncFormatter(lambda y, _: \"%.2f%%\"%(y*100))\n",
    "\n",
    "    ax1.yaxis.set_major_formatter(fm1)\n",
    "    ax2.yaxis.set_major_formatter(fm2)\n",
    "    ax2.set_ylim((0, 1.1))\n",
    "    \n",
    "    m, ma = ax1.get_ylim()\n",
    "    if np.min(pvs) - 1 < m:\n",
    "        m -= 1\n",
    "    if np.max(pvs) + 1 > ma:\n",
    "        ma += 1\n",
    "    ax1.set_ylim((m, ma))\n",
    "\n",
    "    for a in ax1, ax2: \n",
    "        b = a.get_position()\n",
    "        a.set_position([b.x0, b.y0, b.width*0.9, b.height])\n",
    "        a.legend(bbox_to_anchor=(0.99, 1.06), loc=\"upper left\")\n",
    "        a.grid()\n",
    "        if ops.plots.xscale == 'man':\n",
    "            a.set_xlim((ops.plots.xmin, ops.plots.xmax))\n",
    "    \n",
    "    fig.text(0.15, 0.95, get_text(ops), transform=ax1.transAxes, fontsize=12,\n",
    "        verticalalignment='top')\n",
    "    \n",
    "    wm=plt.get_current_fig_manager()\n",
    "    wm.window.attributes('-topmost', 1)\n",
    "    wm.window.attributes('-topmost', 0)\n",
    "    # h = wm.window.winfo_height()\n",
    "    # w = wm.window.winfo_width()\n",
    "    wm.window.geometry(\"%sx%s+%s+%s\"%(700,720,50, 20))"
   ]
  },
  {
   "cell_type": "code",
   "execution_count": 98,
   "metadata": {
    "collapsed": false
   },
   "outputs": [
    {
     "name": "stdout",
     "output_type": "stream",
     "text": [
      "Parsing Data\n",
      "Closing Plot\n",
      "Plotting Data\n"
     ]
    },
    {
     "data": {
      "text/plain": [
       "(0, 1)"
      ]
     },
     "execution_count": 98,
     "metadata": {},
     "output_type": "execute_result"
    }
   ],
   "source": [
    "ops = SimOps()\n",
    "ops.o2_pid.p = 10\n",
    "ops.o2_pid.i = 80\n",
    "ops.o2_pid.d = 0\n",
    "ops.o2_pid.amax = 100\n",
    "ops.o2_pid.amin = 0\n",
    "ops.o2_pid.beta = 0\n",
    "ops.o2_pid.linearity = 1\n",
    "ops.o2_pid.alpha = -1\n",
    "\n",
    "ops.n2_pid.p = -4\n",
    "ops.n2_pid.i = 60\n",
    "ops.n2_pid.d = 0\n",
    "ops.n2_pid.amax = 90\n",
    "ops.n2_pid.amin = 0\n",
    "ops.n2_pid.beta = 0\n",
    "ops.n2_pid.linearity = 1\n",
    "ops.n2_pid.alpha = -1\n",
    "\n",
    "ops.mfcs.co2_max = 1\n",
    "ops.mfcs.o2_max = 2\n",
    "ops.mfcs.n2_max = 10\n",
    "ops.mfcs.air_max = 10\n",
    "\n",
    "ops.plots.xscale = 'auto'\n",
    "ops.plots.xmin = 0\n",
    "ops.plots.xmax = 72\n",
    "ops.plots.xscale_factor = 3600\n",
    "\n",
    "ops.delay = 0\n",
    "ops.end = 16*hours\n",
    "ops.initial_actual_cno = AIR_CNO\n",
    "ops.initial_request_cno = 0,0,0\n",
    "ops.initial_pv = 100\n",
    "ops.set_point = 150\n",
    "ops.set_point_deadband = 1\n",
    "ops.k_mult = 1.1\n",
    "ops.k = 0.1306\n",
    "ops.c = 0\n",
    "ops.dc = 0\n",
    "ops.d2c = 0\n",
    "ops.mode = \"o2a\"\n",
    "ops.main_gas = 1.0\n",
    "ops.reactor_size = 80\n",
    "ops.reactor_volume = 57\n",
    "ops.time_unit = hours\n",
    "ops.max_iters = 3 * days\n",
    "\n",
    "run2(ops)\n",
    "\n",
    "from matplotlib.ticker import MultipleLocator\n",
    "l = MultipleLocator(2)\n",
    "for a in plt.gcf().axes:\n",
    "    a.xaxis.set_major_locator(l)\n",
    "\n",
    "#ax1.set_ylim(45, 105)\n",
    "ax2.set_ylim(0, 1)"
   ]
  },
  {
   "cell_type": "code",
   "execution_count": null,
   "metadata": {
    "collapsed": true
   },
   "outputs": [],
   "source": [
    "from hello.pid.do_simulation.fitness import Fitness2, Fitness3\n",
    "from hello.pid.picker import mk_picker"
   ]
  },
  {
   "cell_type": "code",
   "execution_count": 49,
   "metadata": {
    "collapsed": false
   },
   "outputs": [
    {
     "name": "stdout",
     "output_type": "stream",
     "text": [
      "Using matplotlib backend: TkAgg\n"
     ]
    },
    {
     "ename": "NameError",
     "evalue": "name 'do_sim2' is not defined",
     "output_type": "error",
     "traceback": [
      "\u001b[0;31m---------------------------------------------------------------------------\u001b[0m",
      "\u001b[0;31mNameError\u001b[0m                                 Traceback (most recent call last)",
      "\u001b[0;32m<ipython-input-49-770971252986>\u001b[0m in \u001b[0;36m<module>\u001b[0;34m()\u001b[0m\n\u001b[1;32m     61\u001b[0m     \u001b[1;32mif\u001b[0m \u001b[0mi\u001b[0m \u001b[1;32mis\u001b[0m \u001b[1;32mnot\u001b[0m \u001b[1;32mNone\u001b[0m\u001b[1;33m:\u001b[0m\u001b[1;33m\u001b[0m\u001b[0m\n\u001b[1;32m     62\u001b[0m         \u001b[0mops\u001b[0m\u001b[1;33m.\u001b[0m\u001b[0mo2_pid\u001b[0m\u001b[1;33m.\u001b[0m\u001b[0mi\u001b[0m \u001b[1;33m=\u001b[0m \u001b[0mi\u001b[0m\u001b[1;33m\u001b[0m\u001b[0m\n\u001b[0;32m---> 63\u001b[0;31m     \u001b[0md1\u001b[0m\u001b[1;33m,\u001b[0m \u001b[0md2\u001b[0m\u001b[1;33m,\u001b[0m \u001b[0md3\u001b[0m \u001b[1;33m=\u001b[0m \u001b[0mdo_sim2\u001b[0m\u001b[1;33m(\u001b[0m\u001b[0mops\u001b[0m\u001b[1;33m)\u001b[0m\u001b[1;33m\u001b[0m\u001b[0m\n\u001b[0m\u001b[1;32m     64\u001b[0m     \u001b[0mx\u001b[0m\u001b[1;33m,\u001b[0m \u001b[0mpv\u001b[0m\u001b[1;33m,\u001b[0m \u001b[0mcs\u001b[0m\u001b[1;33m,\u001b[0m \u001b[0mco2_req\u001b[0m\u001b[1;33m,\u001b[0m \u001b[0mn2_req\u001b[0m\u001b[1;33m,\u001b[0m \u001b[0mo2_req\u001b[0m\u001b[1;33m,\u001b[0m \u001b[0mair_req\u001b[0m \u001b[1;33m=\u001b[0m \u001b[0mlist\u001b[0m\u001b[1;33m(\u001b[0m\u001b[0mzip\u001b[0m\u001b[1;33m(\u001b[0m\u001b[1;33m*\u001b[0m\u001b[0md1\u001b[0m\u001b[1;33m)\u001b[0m\u001b[1;33m)\u001b[0m\u001b[1;33m\u001b[0m\u001b[0m\n\u001b[1;32m     65\u001b[0m     \u001b[0mplot2\u001b[0m\u001b[1;33m(\u001b[0m\u001b[0mx\u001b[0m\u001b[1;33m,\u001b[0m \u001b[0mpv\u001b[0m\u001b[1;33m,\u001b[0m \u001b[0mo2_req\u001b[0m\u001b[1;33m,\u001b[0m \u001b[0mn2_req\u001b[0m\u001b[1;33m,\u001b[0m \u001b[1;34m\"P:%.1f I:%.1f\"\u001b[0m\u001b[1;33m%\u001b[0m\u001b[1;33m(\u001b[0m\u001b[0mp\u001b[0m\u001b[1;33m,\u001b[0m\u001b[0mi\u001b[0m\u001b[1;33m)\u001b[0m\u001b[1;33m)\u001b[0m\u001b[1;33m\u001b[0m\u001b[0m\n",
      "\u001b[0;31mNameError\u001b[0m: name 'do_sim2' is not defined"
     ]
    }
   ],
   "source": [
    "%matplotlib\n",
    "ops.end = 10 * hours\n",
    "sp = 150\n",
    "\n",
    "ops.o2_pid.p = 1\n",
    "ops.o2_pid.i = 50\n",
    "ops.o2_pid.amax = 100\n",
    "ops.o2_pid.deadband = 0\n",
    "ops.o2_pid.d = 0\n",
    "ops.o2_pid.alpha = -1\n",
    "\n",
    "ops.n2_pid.p = -0.5\n",
    "ops.n2_pid.i = 60\n",
    "ops.n2_pid.amax = 100\n",
    "ops.n2_pid.deadband = 0\n",
    "ops.n2_pid.d = 0\n",
    "ops.n2_pid.alpha = -1\n",
    "\n",
    "ops.initial_pv = 100\n",
    "ops.set_point = sp\n",
    "ops.c = 0\n",
    "ops.dc = 0\n",
    "ops.d2c = 0\n",
    "\n",
    "# k_mult = 1.25\n",
    "ops.k_mult = 1.1\n",
    "ops.k = 0.1306\n",
    "ops.initial_actual_cno = (0.0000, .78, .2095)\n",
    "ops.initial_request_cno = (0.00, 0, 0)\n",
    "ops.mode = 'm2a'\n",
    "ops.plots.xscale = 'auto'\n",
    "ops.plots.xmin = 20\n",
    "ops.plots.xmax = 30\n",
    "ops.set_point_deadband = 1\n",
    "ops.delay = 0\n",
    "\n",
    "results = []\n",
    "f = FuncFormatter(lambda y, _: \"%.1f%%\"%y)\n",
    "plt.close()\n",
    "fig = plt.figure()\n",
    "ax = fig.add_subplot(3,1,1)\n",
    "ax2 = fig.add_subplot(3,1,2)\n",
    "ax3 = fig.add_subplot(3,1,3)\n",
    "ax.axhline(y=sp, ls=\"--\", color=\"black\")\n",
    "ax.grid()\n",
    "\n",
    "ax.yaxis.set_major_formatter(f)\n",
    "ax2.yaxis.set_major_formatter(f)\n",
    "ax3.yaxis.set_major_formatter(f)\n",
    "\n",
    "def plot3(x, pv, o2_req, n2_req, label):\n",
    "    ax.plot(x, pv, label=label)\n",
    "    ax2.plot(x, np.array(o2_req)*100, label=label)\n",
    "    ax3.plot(x, np.array(n2_req)*100, label=label)\n",
    "\n",
    "combos = [(p,i) for p in range(1,2) for i in range(50, 101, 10)]\n",
    "    \n",
    "for p, i in combos:\n",
    "    if p is not None:\n",
    "        ops.o2_pid.p = p\n",
    "    if i is not None:\n",
    "        ops.o2_pid.i = i\n",
    "    d1, d2, d3 = do_sim2(ops)\n",
    "    x, pv, cs, co2_req, n2_req, o2_req, air_req = list(zip(*d1))\n",
    "    plot3(x, pv, o2_req, n2_req, \"P:%.1f I:%.1f\"%(p,i))\n",
    "    \n",
    "    x = np.array(x)\n",
    "    pv = np.array(pv)\n",
    "    ind = peakutils.indexes(pv, thres=0.5, min_dist = 5*minutes)\n",
    "    ax.plot(x[ind], pv[ind], '+', mfc=None, mec='r', mew=2, ms=8)\n",
    "    print(p,i, str(Fitness3(x,pv,150)), ind/3600, pv[ind])\n",
    "\n",
    "for a in (ax, ax2, ax3):\n",
    "    b = a.get_position()\n",
    "    a.set_position([b.x0, b.y0, b.width*0.9, b.height])\n",
    "    a.legend(bbox_to_anchor=(0.99, 1.06), loc=\"upper left\", fontsize=10)\n",
    "    mk_picker(fig, a)"
   ]
  },
  {
   "cell_type": "code",
   "execution_count": 56,
   "metadata": {
    "collapsed": true
   },
   "outputs": [],
   "source": [
    "def sln_space_test(ops):\n",
    "    d1, d2, d3 = do_sim(ops)\n",
    "    x, pv, cs, co2_req, n2_req, o2_req, air_req = [np.array(d) for d in zip(*d1)]\n",
    "    cs = cs\n",
    "    co2_req = co2_req\n",
    "    n2_req = n2_req\n",
    "    o2_req = o2_req\n",
    "    air_req = air_req\n",
    "    del d1, d2, d3  # garbage collect\n",
    "    score = Fitness3(x, pv, ops.set_point)\n",
    "    score2 = Fitness2((x, pv, ops.set_point))\n",
    "    return locals().copy()"
   ]
  },
  {
   "cell_type": "code",
   "execution_count": 100,
   "metadata": {
    "collapsed": true
   },
   "outputs": [],
   "source": [
    "plot_test_results.clear()"
   ]
  },
  {
   "cell_type": "code",
   "execution_count": 103,
   "metadata": {
    "collapsed": false
   },
   "outputs": [
    {
     "name": "stdout",
     "output_type": "stream",
     "text": [
      "Testing P:6 I:50 Result: Total:16.25 Peak:1.56 Settle:3.72 True \n",
      "Testing P:6 I:60 Result: Total:15.13 Peak:1.11 Settle:3.73 True \n",
      "Testing P:6 I:70 Result: Total:14.99 Peak:0.82 Settle:3.78 True \n",
      "Testing P:6 I:80 Result: Total:15.65 Peak:0.80 Settle:3.87 True \n",
      "Testing P:6 I:90 Result: Total:18.18 Peak:0.72 Settle:4.20 True \n",
      "Testing P:6 I:100 Result: Total:22.32 Peak:0.99 Settle:4.62 True \n",
      "Testing P:6 I:110 Result: Total:22.43 Peak:-2.00 Settle:5.14 False Settle 18508 > 18000 \n",
      "Testing P:6 I:120 Result: Total:33.11 Peak:-2.00 Settle:6.09 False Settle 21931 > 18000 \n",
      "Testing P:6 I:130 Result: Total:40.26 Peak:-2.00 Settle:6.65 False Settle 23950 > 18000 \n",
      "Testing P:6 I:140 Result: Total:46.90 Peak:-2.00 Settle:7.13 False Settle 25684 > 18000 \n",
      "Testing P:6 I:150 Result: Total:54.48 Peak:-2.00 Settle:7.65 False Settle 27529 > 18000 \n",
      "Testing P:8 I:50 Result: Total:12.71 Peak:1.21 Settle:3.35 True \n",
      "Testing P:8 I:60 Result: Total:12.35 Peak:0.92 Settle:3.39 True \n",
      "Testing P:8 I:70 Result: Total:12.94 Peak:0.92 Settle:3.48 True \n",
      "Testing P:8 I:80 Result: Total:14.13 Peak:0.85 Settle:3.66 True \n",
      "Testing P:8 I:90 Result: Total:17.02 Peak:1.05 Settle:3.99 True \n",
      "Testing P:8 I:100 Result: Total:22.16 Peak:-2.00 Settle:5.11 False Settle 18413 > 18000 \n",
      "Testing P:8 I:110 Result: Total:28.75 Peak:-2.00 Settle:5.72 False Settle 20601 > 18000 \n",
      "Testing P:8 I:120 Result: Total:33.41 Peak:-2.00 Settle:6.12 False Settle 22019 > 18000 \n",
      "Testing P:8 I:130 Result: Total:39.46 Peak:-2.00 Settle:6.59 False Settle 23734 > 18000 \n",
      "Testing P:8 I:140 Result: Total:47.78 Peak:-2.00 Settle:7.20 False Settle 25905 > 18000 \n",
      "Testing P:8 I:150 Result: Total:56.54 Peak:-2.00 Settle:7.78 False Settle 28010 > 18000 \n",
      "Testing P:10 I:50 Result: Total:10.78 Peak:0.99 Settle:3.13 True \n",
      "Testing P:10 I:60 Result: Total:11.13 Peak:0.95 Settle:3.20 True \n",
      "Testing P:10 I:70 Result: Total:12.21 Peak:1.10 Settle:3.32 True \n",
      "Testing P:10 I:80 Result: Total:14.45 Peak:1.12 Settle:3.63 True \n",
      "Testing P:10 I:90 "
     ]
    },
    {
     "ename": "KeyboardInterrupt",
     "evalue": "",
     "output_type": "error",
     "traceback": [
      "\u001b[0;31m---------------------------------------------------------------------------\u001b[0m",
      "\u001b[0;31mKeyboardInterrupt\u001b[0m                         Traceback (most recent call last)",
      "\u001b[0;32m<ipython-input-103-62aa80910d07>\u001b[0m in \u001b[0;36m<module>\u001b[0;34m()\u001b[0m\n\u001b[1;32m    113\u001b[0m             \u001b[0mpid\u001b[0m\u001b[1;33m.\u001b[0m\u001b[0mp\u001b[0m \u001b[1;33m=\u001b[0m \u001b[0mp\u001b[0m\u001b[1;33m\u001b[0m\u001b[0m\n\u001b[1;32m    114\u001b[0m             \u001b[0mpid\u001b[0m\u001b[1;33m.\u001b[0m\u001b[0mi\u001b[0m \u001b[1;33m=\u001b[0m \u001b[0mi\u001b[0m\u001b[1;33m\u001b[0m\u001b[0m\n\u001b[0;32m--> 115\u001b[0;31m             \u001b[0mdata\u001b[0m \u001b[1;33m=\u001b[0m \u001b[0msln_space_test\u001b[0m\u001b[1;33m(\u001b[0m\u001b[0mops\u001b[0m\u001b[1;33m)\u001b[0m\u001b[1;33m\u001b[0m\u001b[0m\n\u001b[0m\u001b[1;32m    116\u001b[0m             \u001b[0mupdate\u001b[0m \u001b[1;33m=\u001b[0m \u001b[1;32mTrue\u001b[0m\u001b[1;33m\u001b[0m\u001b[0m\n\u001b[1;32m    117\u001b[0m         \u001b[1;32melse\u001b[0m\u001b[1;33m:\u001b[0m\u001b[1;33m\u001b[0m\u001b[0m\n",
      "\u001b[0;32m<ipython-input-56-a124455c0c17>\u001b[0m in \u001b[0;36msln_space_test\u001b[0;34m(ops)\u001b[0m\n\u001b[1;32m      1\u001b[0m \u001b[1;32mdef\u001b[0m \u001b[0msln_space_test\u001b[0m\u001b[1;33m(\u001b[0m\u001b[0mops\u001b[0m\u001b[1;33m)\u001b[0m\u001b[1;33m:\u001b[0m\u001b[1;33m\u001b[0m\u001b[0m\n\u001b[0;32m----> 2\u001b[0;31m     \u001b[0md1\u001b[0m\u001b[1;33m,\u001b[0m \u001b[0md2\u001b[0m\u001b[1;33m,\u001b[0m \u001b[0md3\u001b[0m \u001b[1;33m=\u001b[0m \u001b[0mdo_sim\u001b[0m\u001b[1;33m(\u001b[0m\u001b[0mops\u001b[0m\u001b[1;33m)\u001b[0m\u001b[1;33m\u001b[0m\u001b[0m\n\u001b[0m\u001b[1;32m      3\u001b[0m     \u001b[0mx\u001b[0m\u001b[1;33m,\u001b[0m \u001b[0mpv\u001b[0m\u001b[1;33m,\u001b[0m \u001b[0mcs\u001b[0m\u001b[1;33m,\u001b[0m \u001b[0mco2_req\u001b[0m\u001b[1;33m,\u001b[0m \u001b[0mn2_req\u001b[0m\u001b[1;33m,\u001b[0m \u001b[0mo2_req\u001b[0m\u001b[1;33m,\u001b[0m \u001b[0mair_req\u001b[0m \u001b[1;33m=\u001b[0m \u001b[1;33m[\u001b[0m\u001b[0mnp\u001b[0m\u001b[1;33m.\u001b[0m\u001b[0marray\u001b[0m\u001b[1;33m(\u001b[0m\u001b[0md\u001b[0m\u001b[1;33m)\u001b[0m \u001b[1;32mfor\u001b[0m \u001b[0md\u001b[0m \u001b[1;32min\u001b[0m \u001b[0mzip\u001b[0m\u001b[1;33m(\u001b[0m\u001b[1;33m*\u001b[0m\u001b[0md1\u001b[0m\u001b[1;33m)\u001b[0m\u001b[1;33m]\u001b[0m\u001b[1;33m\u001b[0m\u001b[0m\n\u001b[1;32m      4\u001b[0m     \u001b[0mcs\u001b[0m \u001b[1;33m=\u001b[0m \u001b[0mcs\u001b[0m\u001b[1;33m\u001b[0m\u001b[0m\n\u001b[1;32m      5\u001b[0m     \u001b[0mco2_req\u001b[0m \u001b[1;33m=\u001b[0m \u001b[0mco2_req\u001b[0m\u001b[1;33m\u001b[0m\u001b[0m\n",
      "\u001b[0;32mC:\\Users\\Nathan\\Documents\\Personal\\PBS_Office\\MSOffice\\hello\\pid\\do_simulation\\do_sim.py\u001b[0m in \u001b[0;36mdo_sim\u001b[0;34m(ops)\u001b[0m\n\u001b[1;32m    224\u001b[0m     \u001b[0msim\u001b[0m \u001b[1;33m=\u001b[0m \u001b[0mdo_sim2\u001b[0m\u001b[1;33m(\u001b[0m\u001b[0mops\u001b[0m\u001b[1;33m)\u001b[0m\u001b[1;33m\u001b[0m\u001b[0m\n\u001b[1;32m    225\u001b[0m     \u001b[0mcoro\u001b[0m \u001b[1;33m=\u001b[0m \u001b[0mnext\u001b[0m\u001b[1;33m(\u001b[0m\u001b[0msim\u001b[0m\u001b[1;33m)\u001b[0m\u001b[1;33m\u001b[0m\u001b[0m\n\u001b[0;32m--> 226\u001b[0;31m     \u001b[0mcoro\u001b[0m\u001b[1;33m.\u001b[0m\u001b[0msend\u001b[0m\u001b[1;33m(\u001b[0m\u001b[1;33m(\u001b[0m\u001b[1;34m\"SIM_ITERS\"\u001b[0m\u001b[1;33m,\u001b[0m \u001b[0mops\u001b[0m\u001b[1;33m.\u001b[0m\u001b[0mend\u001b[0m\u001b[1;33m)\u001b[0m\u001b[1;33m)\u001b[0m\u001b[1;33m\u001b[0m\u001b[0m\n\u001b[0m\u001b[1;32m    227\u001b[0m     \u001b[1;32mreturn\u001b[0m \u001b[0mnext\u001b[0m\u001b[1;33m(\u001b[0m\u001b[0msim\u001b[0m\u001b[1;33m)\u001b[0m\u001b[1;33m\u001b[0m\u001b[0m\n",
      "\u001b[0;32mC:\\Users\\Nathan\\Documents\\Personal\\PBS_Office\\MSOffice\\hello\\pid\\do_simulation\\do_sim.py\u001b[0m in \u001b[0;36mdo_sim_coroutine\u001b[0;34m(ops, state, xq, pvq, cq, co2q, n2q, o2q, aq, nukq, nupq, nuiq, nudq, oukq, oupq, ouiq, oudq)\u001b[0m\n\u001b[1;32m    139\u001b[0m                 \u001b[0mo2_req\u001b[0m \u001b[1;33m=\u001b[0m \u001b[0mo2_pid\u001b[0m\u001b[1;33m.\u001b[0m\u001b[0mstep\u001b[0m\u001b[1;33m(\u001b[0m\u001b[0mpv\u001b[0m\u001b[1;33m,\u001b[0m \u001b[0msp\u001b[0m\u001b[1;33m-\u001b[0m\u001b[0mdb\u001b[0m\u001b[1;33m)\u001b[0m \u001b[1;33m/\u001b[0m \u001b[1;36m100\u001b[0m\u001b[1;33m\u001b[0m\u001b[0m\n\u001b[1;32m    140\u001b[0m                 \u001b[0mn2_req\u001b[0m \u001b[1;33m=\u001b[0m \u001b[0mn2_pid\u001b[0m\u001b[1;33m.\u001b[0m\u001b[0mstep\u001b[0m\u001b[1;33m(\u001b[0m\u001b[0mpv\u001b[0m\u001b[1;33m,\u001b[0m \u001b[0msp\u001b[0m\u001b[1;33m+\u001b[0m\u001b[0mdb\u001b[0m\u001b[1;33m)\u001b[0m \u001b[1;33m/\u001b[0m \u001b[1;36m100\u001b[0m\u001b[1;33m\u001b[0m\u001b[0m\n\u001b[0;32m--> 141\u001b[0;31m                 \u001b[0mco2_req\u001b[0m\u001b[1;33m,\u001b[0m \u001b[0mn2_req\u001b[0m\u001b[1;33m,\u001b[0m \u001b[0mo2_req\u001b[0m\u001b[1;33m,\u001b[0m \u001b[0mair_req\u001b[0m \u001b[1;33m=\u001b[0m \u001b[0mctrl\u001b[0m\u001b[1;33m.\u001b[0m\u001b[0mrequest\u001b[0m\u001b[1;33m(\u001b[0m\u001b[0mmg\u001b[0m\u001b[1;33m,\u001b[0m \u001b[0mco2_req\u001b[0m\u001b[1;33m,\u001b[0m \u001b[0mn2_req\u001b[0m\u001b[1;33m,\u001b[0m \u001b[0mo2_req\u001b[0m\u001b[1;33m)\u001b[0m\u001b[1;33m\u001b[0m\u001b[0m\n\u001b[0m\u001b[1;32m    142\u001b[0m                 \u001b[0mpv\u001b[0m \u001b[1;33m=\u001b[0m \u001b[0mproc\u001b[0m\u001b[1;33m.\u001b[0m\u001b[0mstep\u001b[0m\u001b[1;33m(\u001b[0m\u001b[0mpv\u001b[0m\u001b[1;33m,\u001b[0m \u001b[0mco2_req\u001b[0m\u001b[1;33m,\u001b[0m \u001b[0mn2_req\u001b[0m\u001b[1;33m,\u001b[0m \u001b[0mo2_req\u001b[0m\u001b[1;33m,\u001b[0m \u001b[0mair_req\u001b[0m\u001b[1;33m)\u001b[0m\u001b[1;33m\u001b[0m\u001b[0m\n\u001b[1;32m    143\u001b[0m \u001b[1;33m\u001b[0m\u001b[0m\n",
      "\u001b[0;32mC:\\Users\\Nathan\\Documents\\Personal\\PBS_Office\\MSOffice\\hello\\pid\\gas_process.py\u001b[0m in \u001b[0;36mrequest\u001b[0;34m(self, main_gas, co2_req, n2_req, o2_req)\u001b[0m\n\u001b[1;32m     97\u001b[0m     \u001b[1;32mdef\u001b[0m \u001b[0mrequest\u001b[0m\u001b[1;33m(\u001b[0m\u001b[0mself\u001b[0m\u001b[1;33m,\u001b[0m \u001b[0mmain_gas\u001b[0m\u001b[1;33m,\u001b[0m \u001b[0mco2_req\u001b[0m\u001b[1;33m,\u001b[0m \u001b[0mn2_req\u001b[0m\u001b[1;33m,\u001b[0m \u001b[0mo2_req\u001b[0m\u001b[1;33m)\u001b[0m\u001b[1;33m:\u001b[0m\u001b[1;33m\u001b[0m\u001b[0m\n\u001b[1;32m     98\u001b[0m \u001b[1;33m\u001b[0m\u001b[0m\n\u001b[0;32m---> 99\u001b[0;31m         \u001b[1;32mif\u001b[0m \u001b[0mmain_gas\u001b[0m \u001b[1;33m>\u001b[0m \u001b[0mself\u001b[0m\u001b[1;33m.\u001b[0m\u001b[0mmg_max\u001b[0m\u001b[1;33m:\u001b[0m \u001b[0mmain_gas\u001b[0m \u001b[1;33m=\u001b[0m \u001b[0mself\u001b[0m\u001b[1;33m.\u001b[0m\u001b[0mmg_max\u001b[0m\u001b[1;33m\u001b[0m\u001b[0m\n\u001b[0m\u001b[1;32m    100\u001b[0m         \u001b[0mco2_req_max\u001b[0m \u001b[1;33m=\u001b[0m \u001b[1;36m1\u001b[0m\u001b[1;33m\u001b[0m\u001b[0m\n\u001b[1;32m    101\u001b[0m         \u001b[1;32mif\u001b[0m \u001b[0mco2_req\u001b[0m \u001b[1;33m>\u001b[0m \u001b[0mco2_req_max\u001b[0m\u001b[1;33m:\u001b[0m \u001b[0mco2_req\u001b[0m \u001b[1;33m=\u001b[0m \u001b[0mco2_req_max\u001b[0m\u001b[1;33m\u001b[0m\u001b[0m\n",
      "\u001b[0;31mKeyboardInterrupt\u001b[0m: "
     ]
    }
   ],
   "source": [
    "from mpl_toolkits.mplot3d import Axes3D\n",
    "leg_map = {}\n",
    "\n",
    "sp = 150\n",
    "\n",
    "try:\n",
    "    plot_test_results\n",
    "except NameError:\n",
    "    plot_test_results = {}\n",
    "\n",
    "def on_legend_clicked(event):\n",
    "    ll = event.artist\n",
    "    line = leg_map[ll]\n",
    "    line.set_visible(not line.get_visible())\n",
    "    fig.canvas.draw()\n",
    "fig.canvas.mpl_connect(\"pick_event\", on_legend_clicked)\n",
    "\n",
    "\n",
    "def plot2(x, pv, o2_req, n2_req, label, update=True):\n",
    "    l1 = ax.plot(x, pv, label=label)\n",
    "    ax.legend(bbox_to_anchor=(0.99, 1.06), loc=\"upper left\", fontsize=10)\n",
    "    if update:\n",
    "        fig.canvas.draw()\n",
    "        fig.canvas.flush_events()\n",
    "    \n",
    "scatter_data = [[],[],[]]\n",
    "def plot3(p, i, score, update=True):\n",
    "    x,y,z = scatter_data\n",
    "    x.append(p)\n",
    "    y.append(i)\n",
    "    z.append(score)\n",
    "    ax3d.clear()\n",
    "    ax3d.scatter(x,y,z, antialiased=False)\n",
    "    if update:\n",
    "        fig.canvas.draw()\n",
    "        fig.canvas.flush_events()\n",
    "\n",
    "#plt.close()\n",
    "fig = plt.figure()\n",
    "ax = fig.add_subplot(2,1,1)\n",
    "ax3d = fig.add_subplot(2,1,2, projection='3d')\n",
    "ax.axhline(y=sp, ls=\"--\", color=\"black\")\n",
    "ax.grid()\n",
    "ax.axhline(y=sp+3, color=\"black\", ls=\"--\")\n",
    "ax.axhline(y=sp-3, color=\"black\", ls=\"--\")\n",
    "#ax.set_ylim(sp-10, sp+10)\n",
    "\n",
    "f = FuncFormatter(lambda y, _: \"%.1f%%\"%y)\n",
    "ax.yaxis.set_major_formatter(f)\n",
    "\n",
    "ops.o2_pid.p = 10\n",
    "ops.o2_pid.i = 80\n",
    "ops.o2_pid.d = 0\n",
    "ops.o2_pid.amax = 100\n",
    "ops.o2_pid.amin = 0\n",
    "ops.o2_pid.beta = 0\n",
    "ops.o2_pid.linearity = 1\n",
    "ops.o2_pid.alpha = -1\n",
    "\n",
    "ops.n2_pid.p = -4\n",
    "ops.n2_pid.i = 60\n",
    "ops.n2_pid.d = 0\n",
    "ops.n2_pid.amax = 90\n",
    "ops.n2_pid.amin = 0\n",
    "ops.n2_pid.beta=0\n",
    "ops.n2_pid.linearity = 1\n",
    "ops.n2_pid.alpha = -1\n",
    "\n",
    "ops.mfcs.co2_max = 1\n",
    "ops.mfcs.n2_max = 10\n",
    "ops.mfcs.o2_max = 2\n",
    "ops.mfcs.air_max = 10\n",
    "\n",
    "ops.initial_pv = 100\n",
    "ops.set_point = sp\n",
    "ops.mode=\"o2a\"\n",
    "\n",
    "ops.end = 16*hours\n",
    "ops.set_point_deadband = 1\n",
    "ops.delay = 0\n",
    "ops.initial_actual_cno = AIR_CNO\n",
    "ops.initial_request_cno = (0, 0, 0)\n",
    "ops.k_mult = 1.1\n",
    "ops.k = 0.1306\n",
    "ops.reactor_size = 80\n",
    "ops.reactor_volume = 57\n",
    "\n",
    "ops.dc = 0\n",
    "ops.d2c = 0\n",
    "\n",
    "ops.main_gas = 1.0\n",
    "ops.time_unit = hours\n",
    "ops.max_iters = 24 * days\n",
    "\n",
    "axes = [ax, ax3d]\n",
    "\n",
    "for a in axes:\n",
    "    b = a.get_position()\n",
    "    a.set_position([b.x0, b.y0, b.width*0.9, b.height])\n",
    "\n",
    "passing = []\n",
    "update = True\n",
    "noupdate = 0\n",
    "Fitness2.max_overshoot = 3\n",
    "Fitness2.settle_target = 5 * hours\n",
    "\n",
    "pid=ops.o2_pid\n",
    "\n",
    "for p in range(6, 12,2):\n",
    "    for i in range(50,160, 10):\n",
    "        print(\"\\rTesting P:%d I:%d \" % (p,i), end=\"\")\n",
    "        if (p,i) not in plot_test_results:\n",
    "            pid.p = p\n",
    "            pid.i = i\n",
    "            data = sln_space_test(ops)\n",
    "            update = True\n",
    "        else:\n",
    "            data = plot_test_results[(p,i)]\n",
    "            update = False\n",
    "            noupdate += 1\n",
    "            if noupdate > 10:\n",
    "                noupdate = 0\n",
    "                update = True\n",
    "        s2 = Fitness2((data['x'], data['pv'], sp))\n",
    "        res, reason = s2.result_reason()\n",
    "        if res == True:\n",
    "            passing.append((p,i))\n",
    "            label = \"P:%3d I:%3d\" % (p, i)\n",
    "            plot2(data['x'][::120], data['pv'][::120],data['o2_req'], data['n2_req'], label, update)\n",
    "            plot_test_results[(p,i)] = data\n",
    "        plot3(p,i, data['score'].score(), update)\n",
    "        print(\"Result: %s %s %s\" % (str(data['score']), res, reason))\n",
    "        fig.canvas.flush_events()\n",
    "print(\"Done\")"
   ]
  },
  {
   "cell_type": "code",
   "execution_count": 62,
   "metadata": {
    "collapsed": false
   },
   "outputs": [
    {
     "data": {
      "text/plain": [
       "[<matplotlib.lines.Line2D at 0x1d3e7e4edd8>]"
      ]
     },
     "execution_count": 62,
     "metadata": {},
     "output_type": "execute_result"
    }
   ],
   "source": [
    "x = np.linspace(0, 1, 10000)\n",
    "y = 4/(1+x*7)-2\n",
    "plt.plot(x,y)"
   ]
  },
  {
   "cell_type": "code",
   "execution_count": 104,
   "metadata": {
    "collapsed": true
   },
   "outputs": [],
   "source": [
    "mk_picker(fig, ax)"
   ]
  },
  {
   "cell_type": "code",
   "execution_count": null,
   "metadata": {
    "collapsed": false
   },
   "outputs": [],
   "source": [
    "def plot4(pd, sp):\n",
    "    global fig, ax, ax2, ax3\n",
    "    _g_leg_map.clear()\n",
    "    mp = {}\n",
    "    if not plt.get_fignums():\n",
    "        fig = plt.figure()\n",
    "        new = True\n",
    "        ax = fig.add_subplot(311)\n",
    "        ax2 = fig.add_subplot(3,1,2)\n",
    "        ax3 = fig.add_subplot(3,1,3)\n",
    "    else:\n",
    "        new = False\n",
    "        ax.clear()\n",
    "        ax2.clear()\n",
    "        ax3.clear()\n",
    "\n",
    "    f = FuncFormatter(lambda y, _: \"%.1f%%\"%(y*100))\n",
    "    ax2.yaxis.set_major_formatter(f)\n",
    "    ax3.yaxis.set_major_formatter(f)\n",
    "    print(*(\"%-12s\"%a for a in \"p i settle osc\".split()))\n",
    "    def _p(*args):\n",
    "        print(*(\"%-12.1f\"%a for a in args))\n",
    "    for (p,i), (x,pv,n2,o2) in pd.items():\n",
    "        f =  Fitness2()\n",
    "        f.settle_target = 5 * hours\n",
    "        f.calculate((x,pv,50))\n",
    "        s,o = f.result2()\n",
    "        _p(p,i, s/3600, o)\n",
    "        label = \"P:%d I:%d\"%(p,i)\n",
    "        ax.plot(x,pv, label=label + \" PV\")\n",
    "        ax2.plot(x, n2, label=label+\" N2\")\n",
    "        ax3.plot(x, o2, label=label+\" O2\")\n",
    "    for a in (ax, ax2, ax3):\n",
    "        if new:\n",
    "            b = a.get_position()\n",
    "            a.set_position([b.x0, b.y0, b.width*0.80, b.height])\n",
    "        a.legend(bbox_to_anchor=(0.99, 1.06), loc=\"upper left\")\n",
    "        mk_picker(fig, a)\n",
    "    ax.axhline(y=sp-1, ls=\"--\", color=\"black\")\n",
    "    ax.axhline(y=sp+1, ls=\"--\", color=\"black\")\n",
    "    ax.set_ylim(sp-5, sp+5)\n",
    "    #ax2.set_ylim(0, 110)\n",
    "    \n",
    "def test3(ops):\n",
    "    d1, d2, d3 = do_sim2(ops)\n",
    "    x, pv, _, _, n2, o2, *_ = list(zip(*d1))\n",
    "    return x,pv, n2, o2\n",
    "    "
   ]
  },
  {
   "cell_type": "code",
   "execution_count": null,
   "metadata": {
    "collapsed": false
   },
   "outputs": [],
   "source": [
    "# O2 PID\n",
    "pd = {}\n",
    "passing = [\n",
    "    (6, 60),\n",
    "    (7, 50),\n",
    "    (8, 50),\n",
    "    (9, 50),\n",
    "    (10, 50)\n",
    "]\n",
    "sp = 150\n",
    "ops.end = 20*hours\n",
    "ops.initial_pv = 100\n",
    "ops.set_point = sp\n",
    "for p, i in passing:\n",
    "    print(\"Testing P:%d I:%d\"%(p,i))\n",
    "    ops.o2_pid.p = p\n",
    "    ops.o2_pid.i = i\n",
    "#     ops.n2_pid.p = -8\n",
    "#     ops.n2_pid.i = 100\n",
    "    ops.n2_pid.p = -2\n",
    "#    ops.n2_pid.i = 60\n",
    "    pd[(p,i)] = test(ops)"
   ]
  },
  {
   "cell_type": "code",
   "execution_count": null,
   "metadata": {
    "collapsed": false
   },
   "outputs": [],
   "source": [
    "# N2 PID\n",
    "pd = {}\n",
    "ps = (-6, -8, -10)\n",
    "its = (80, 90, 100)\n",
    "params = [(p, i) for p in ps for i in its]\n",
    "ops.end = 20*hours\n",
    "ops.initial_pv = 100\n",
    "sp = 50\n",
    "ops.set_point = sp\n",
    "for p, i in params:\n",
    "    print(\"Testing P:%d I:%d\"%(p,i))\n",
    "    ops.o2_pid.p = 7\n",
    "    ops.o2_pid.i = 50\n",
    "    ops.n2_pid.p = p\n",
    "    ops.n2_pid.i = i\n",
    "    pd[(p,i)] = test(ops)"
   ]
  },
  {
   "cell_type": "code",
   "execution_count": null,
   "metadata": {
    "collapsed": false
   },
   "outputs": [],
   "source": [
    "plot4(pd, sp)"
   ]
  },
  {
   "cell_type": "code",
   "execution_count": null,
   "metadata": {
    "collapsed": false
   },
   "outputs": [],
   "source": [
    "pd = {}\n",
    "sp = 150\n",
    "p,i = -2, 60\n",
    "ops.o2_pid.p = 7\n",
    "ops.o2_pid.i = 50\n",
    "ops.n2_pid.p = p\n",
    "ops.n2_pid.i = i\n",
    "ops.set_point = sp\n",
    "pd[(p,i)] = test(ops)\n",
    "p,i = -0.5, 60\n",
    "ops.n2_pid.p = p\n",
    "ops.n2_pid.i = i\n",
    "pd[(p,i)] = test(ops)\n",
    "plot4(pd, sp)"
   ]
  },
  {
   "cell_type": "code",
   "execution_count": null,
   "metadata": {
    "collapsed": false
   },
   "outputs": [],
   "source": [
    "sp=100\n",
    "ops.o2_pid.p = 7\n",
    "ops.o2_pid.i = 50\n",
    "ops.n2_pid.p = -6\n",
    "ops.n2_pid.i = 90\n",
    "ops.n2_pid.amax = 90\n",
    "ops.n2_pid.beta=0\n",
    "ops.o2_pid.beta = 0\n",
    "ops.initial_pv = 50\n",
    "ops.set_point = sp\n",
    "ops.mfcs.air_max = 2\n",
    "ops.mfcs.n2_max = 2\n",
    "ops.mfcs.co2_max = 0.1\n",
    "ops.mfcs.o2_max = 0.5\n",
    "n2 = 0.49\n",
    "ops.initial_actual_cno = HeadspaceProcess.actual_from_request(0, n2, 0, 1-n2)[:3]\n",
    "ops.initial_request_cno = (0,n2,0)\n",
    "ops.mode = \"a2a\"\n",
    "#ops.k_mult = 0.9\n",
    "pd = {}\n",
    "for km in (0.9, 1.0, 1.1):\n",
    "    ops.k_mult = 1.0\n",
    "    data = test(ops)\n",
    "    pd[(-6, 90)] = data\n",
    "    break\n",
    "plot4(pd, sp)\n",
    "\n",
    "from matplotlib.ticker import MultipleLocator\n",
    "for a in (ax, ax2, ax3):\n",
    "    m = MultipleLocator(2)\n",
    "    a.xaxis.set_major_locator(m)\n",
    "    a.grid()"
   ]
  },
  {
   "cell_type": "markdown",
   "metadata": {},
   "source": [
    "# Begin 3/10/17 Excel Data Comparison"
   ]
  },
  {
   "cell_type": "code",
   "execution_count": null,
   "metadata": {
    "collapsed": true
   },
   "outputs": [],
   "source": [
    "from officelib.xllib import *\n",
    "xl = Excel()\n",
    "for wb in xl.Workbooks:\n",
    "    print(wb.Name)"
   ]
  },
  {
   "cell_type": "code",
   "execution_count": null,
   "metadata": {
    "collapsed": false
   },
   "outputs": [],
   "source": [
    "wb = xl.RecentFiles(1).Open()\n",
    "cells = wb.Worksheets(\"Sheet1\").Cells\n",
    "cell_range = cells.Range"
   ]
  },
  {
   "cell_type": "code",
   "execution_count": null,
   "metadata": {
    "collapsed": true
   },
   "outputs": [],
   "source": [
    "from pysrc.snippets import smooth1"
   ]
  },
  {
   "cell_type": "code",
   "execution_count": null,
   "metadata": {
    "collapsed": false
   },
   "outputs": [],
   "source": [
    "def xlimport(r):\n",
    "    rng = cell_range(r)\n",
    "    data = rng.Value\n",
    "    x,y=list(zip(*data))\n",
    "    sx, sy = smooth1(x,y)\n",
    "    sy = [float(f) for f in sy]\n",
    "    assert sx[:10] == list(range(10))\n",
    "    return sy"
   ]
  },
  {
   "cell_type": "code",
   "execution_count": null,
   "metadata": {
    "collapsed": true
   },
   "outputs": [],
   "source": [
    "n2a = xlimport(\"B2:C1043\")\n",
    "o2a = xlimport(\"J2:K1385\")\n",
    "dopv = xlimport(\"N2:O1018\")\n",
    "n2a=np.array(n2a)/100\n",
    "o2a=np.array(o2a)/100\n",
    "data3 = list(zip(np.arange(min(len(l) for l in (dopv, n2a, o2a)))/3600, dopv, n2a, o2a))"
   ]
  },
  {
   "cell_type": "markdown",
   "metadata": {},
   "source": [
    "## Basic data comparison"
   ]
  },
  {
   "cell_type": "code",
   "execution_count": null,
   "metadata": {
    "collapsed": false
   },
   "outputs": [],
   "source": [
    "def test2(ops):\n",
    "    pv = 51\n",
    "    sp = 100\n",
    "    db = 1\n",
    "    o2_req = 0\n",
    "    n2_req = 0.509\n",
    "    co2_req = 0\n",
    "\n",
    "    sp=100\n",
    "    ops.o2_pid.p = 7\n",
    "    ops.o2_pid.i = 50\n",
    "    ops.n2_pid.p = -6\n",
    "    ops.n2_pid.i = 90\n",
    "    ops.n2_pid.amax = 90\n",
    "    ops.n2_pid.beta=0\n",
    "    ops.o2_pid.beta = 0\n",
    "    ops.initial_pv = pv\n",
    "    ops.set_point = sp\n",
    "    ops.mode=\"a2a\"\n",
    "    ops.initial_actual_cno = HeadspaceProcess.actual_from_request(0, n2_req, 0, 1-n2_req)[:3]\n",
    "    ops.initial_request_cno = (0, n2_req, 0)\n",
    "    ops.mfcs.co2_max = 0.1\n",
    "    ops.mfcs.n2_max = 2\n",
    "    ops.mfcs.o2_max = 0.5\n",
    "    ops.mfcs.air_max = 2\n",
    "    ops.k_mult=1\n",
    "    ops.reactor_size = 15\n",
    "    ops.reactor_volume = 11.5\n",
    "\n",
    "    o2_pid = _mk_pid(ops.o2_pid, pv, sp-db, o2_req*100, \"a2a\")\n",
    "    n2_pid = _mk_pid(ops.n2_pid, pv, sp+db, n2_req*100, \"a2a\")\n",
    "\n",
    "    ctrl = GasController(ops.mfcs.co2_max, ops.mfcs.n2_max, ops.mfcs.o2_max, ops.mfcs.air_max)\n",
    "    mg = 1.0\n",
    "    data = []\n",
    "    for i, pv in enumerate(dopv):\n",
    "        o2_req = o2_pid.step(pv, sp-db) / 100\n",
    "        n2_req = n2_pid.step(pv, sp+db) / 100\n",
    "        co2_req, n2_req, o2_req, air_req = ctrl.request(mg, co2_req, n2_req, o2_req)\n",
    "        data.append((i/3600, pv, n2_req, o2_req))\n",
    "    return data\n"
   ]
  },
  {
   "cell_type": "code",
   "execution_count": null,
   "metadata": {
    "collapsed": false
   },
   "outputs": [],
   "source": [
    "from matplotlib.ticker import FuncFormatter, FormatStrFormatter, MultipleLocator\n",
    "\n",
    "def axfmt(a):\n",
    "    b = a.get_position()\n",
    "    a.set_position([b.x0, b.y0, b.width*0.8, b.height])\n",
    "\n",
    "if not plt.get_fignums():\n",
    "    fig = plt.figure()\n",
    "    ax = fig.add_subplot(111)\n",
    "    ax2 = ax.twinx()\n",
    "    for a in (ax, ax2): axfmt(a)\n",
    "else:\n",
    "    ax.clear()\n",
    "    ax2.clear()\n",
    "\n",
    "def plot5(data, ax, ax2, olbl=\"\"):\n",
    "    ax, ax2 = ax2, ax\n",
    "    x, pv, n2_req, o2_req = list(zip(*data))\n",
    "    f1 = FuncFormatter(lambda y, _: \"%.1f%%\"%(y*100))\n",
    "    f2 = FormatStrFormatter(\"%.1f%%\")\n",
    "    ax.yaxis.set_major_formatter(f2)\n",
    "    ax2.yaxis.set_major_formatter(f1)\n",
    "    l = MultipleLocator(2)\n",
    "    ax.xaxis.set_major_locator(l)\n",
    "    ax.plot(x, pv, color=\"blue\", label=olbl+\"PV\")\n",
    "    ax2.plot(x, o2_req, color=\"green\", label=olbl+\"O2\")\n",
    "    ax2.plot(x, n2_req, color=\"red\", label=olbl+\"N2\")\n",
    "    h1,l1 = ax.get_legend_handles_labels()\n",
    "    h2,l2 = ax2.get_legend_handles_labels()\n",
    "    h1.extend(h2)\n",
    "    l1.extend(l2)\n",
    "    ax.legend(h1, l1, bbox_to_anchor=(1.12, 1.06), loc=\"upper left\")\n",
    "    ax2.grid()\n",
    "    ax.grid()\n",
    "    ax.set_xlim(0, 10)\n",
    "    ax2.set_ylim(.0,1)\n",
    "    ax.set_ylim(80, 110)\n",
    "#plot5(data,ax,ax2)"
   ]
  },
  {
   "cell_type": "code",
   "execution_count": null,
   "metadata": {
    "collapsed": false
   },
   "outputs": [],
   "source": [
    "ops.k_mult=1\n",
    "ops.reactor_size = 15\n",
    "ops.reactor_volume = 11.5\n",
    "data2 = list(zip(*test(ops)))"
   ]
  },
  {
   "cell_type": "code",
   "execution_count": null,
   "metadata": {
    "collapsed": false
   },
   "outputs": [],
   "source": [
    "if not plt.get_fignums():\n",
    "    fig = plt.figure()\n",
    "    ax  = fig.add_subplot(311)\n",
    "    ax2 = ax.twinx()\n",
    "    ax3 = fig.add_subplot(313)\n",
    "    ax4 = ax3.twinx()\n",
    "    ax5 = fig.add_subplot(3,1,2)\n",
    "    ax6 = ax5.twinx()\n",
    "    for a in (ax, ax2, ax3, ax4, ax5, ax6):\n",
    "        axfmt(a)\n",
    "else:\n",
    "    ax.clear()\n",
    "    ax2.clear()\n",
    "    ax3.clear()\n",
    "    ax4.clear()\n",
    "    ax5.clear()\n",
    "    ax6.clear()\n",
    "plot5(data,ax,ax2,\"SimOP \")\n",
    "plot5(data2, ax3, ax4, \"SimALL \")\n",
    "plot5(data3, ax5, ax6, \"Real \")"
   ]
  },
  {
   "cell_type": "code",
   "execution_count": null,
   "metadata": {
    "collapsed": true
   },
   "outputs": [],
   "source": [
    "from time import sleep\n",
    "for k_mult in (1,):\n",
    "    ops.k_mult = k_mult\n",
    "    data2 = list(zip(*test(ops)))\n",
    "    ax.clear()\n",
    "    ax2.clear()\n",
    "    ax3.clear()\n",
    "    ax4.clear()\n",
    "    ax5.clear()\n",
    "    ax6.clear()\n",
    "    plot5(data,ax,ax2,\"SimOP \")\n",
    "    plot5(data2, ax3, ax4, \"SimALL \")\n",
    "    plot5(data3, ax5, ax6, \"Real \")\n",
    "    fig.canvas.flush_events()\n",
    "    fig.canvas.draw()\n",
    "    sleep(3)\n",
    "    "
   ]
  },
  {
   "cell_type": "markdown",
   "metadata": {},
   "source": [
    "# End 3/10/17 Excel Data Comparison"
   ]
  },
  {
   "cell_type": "code",
   "execution_count": null,
   "metadata": {
    "collapsed": false
   },
   "outputs": [],
   "source": [
    "# Maximum value of c that O2 controller can sustain for a given k\n",
    "ops.k*ops.k_mult*(100/20.95)*100"
   ]
  },
  {
   "cell_type": "code",
   "execution_count": null,
   "metadata": {
    "collapsed": false,
    "scrolled": true
   },
   "outputs": [],
   "source": []
  },
  {
   "cell_type": "code",
   "execution_count": null,
   "metadata": {
    "collapsed": false
   },
   "outputs": [],
   "source": []
  },
  {
   "cell_type": "code",
   "execution_count": null,
   "metadata": {
    "collapsed": false
   },
   "outputs": [],
   "source": []
  },
  {
   "cell_type": "code",
   "execution_count": null,
   "metadata": {
    "collapsed": false
   },
   "outputs": [],
   "source": []
  },
  {
   "cell_type": "code",
   "execution_count": null,
   "metadata": {
    "collapsed": false
   },
   "outputs": [],
   "source": [
    "#f.w._current_state['o2_pid'].b"
   ]
  },
  {
   "cell_type": "code",
   "execution_count": null,
   "metadata": {
    "collapsed": true
   },
   "outputs": [],
   "source": []
  },
  {
   "cell_type": "code",
   "execution_count": null,
   "metadata": {
    "collapsed": true
   },
   "outputs": [],
   "source": []
  },
  {
   "cell_type": "code",
   "execution_count": null,
   "metadata": {
    "collapsed": true
   },
   "outputs": [],
   "source": []
  },
  {
   "cell_type": "code",
   "execution_count": null,
   "metadata": {
    "collapsed": true
   },
   "outputs": [],
   "source": []
  }
 ],
 "metadata": {
  "kernelspec": {
   "display_name": "Python 3",
   "language": "python",
   "name": "python3"
  },
  "language_info": {
   "codemirror_mode": {
    "name": "ipython",
    "version": 3
   },
   "file_extension": ".py",
   "mimetype": "text/x-python",
   "name": "python",
   "nbconvert_exporter": "python",
   "pygments_lexer": "ipython3",
   "version": "3.5.2"
  }
 },
 "nbformat": 4,
 "nbformat_minor": 1
}
