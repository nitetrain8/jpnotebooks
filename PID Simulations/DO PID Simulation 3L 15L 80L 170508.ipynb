{
 "cells": [
  {
   "cell_type": "code",
   "execution_count": 10,
   "metadata": {
    "collapsed": false
   },
   "outputs": [],
   "source": [
    "import numpy as np\n",
    "from hello.pid.lvpid import PIDController\n",
    "from hello.pid.delay import seconds, minutes, hours, days, m2s, s2m, h2s, DelayBuffer, DelaySink\n",
    "from hello.pid.gas_process import HeadspaceProcess, GasController\n",
    "from hello.pid.do_simulation.doprocess import DOProcess, AIR_CNO\n",
    "\n",
    "from hello.pid.do_simulation.options import SimOps, SimConfig\n",
    "from hello.pid.do_simulation.fitness import Fitness2, Fitness3\n",
    "from hello.pid.picker import mk_picker\n",
    "from hello.pid.do_simulation.sim_window import PIDSimFrame\n",
    "from hello.pid.ui import TkQuitHack\n",
    "from hello.pid.do_simulation.do_sim import do_sim_coroutine, do_sim\n",
    "from matplotlib.ticker import MultipleLocator, FormatStrFormatter, FuncFormatter"
   ]
  },
  {
   "cell_type": "markdown",
   "metadata": {},
   "source": [
    "### Copy this template to ensure all sim options are set correctly"
   ]
  },
  {
   "cell_type": "code",
   "execution_count": 11,
   "metadata": {
    "collapsed": false
   },
   "outputs": [
    {
     "data": {
      "text/plain": [
       "68.57279236276851"
      ]
     },
     "execution_count": 11,
     "metadata": {},
     "output_type": "execute_result"
    }
   ],
   "source": [
    "ops = SimOps()\n",
    "ops.o2_pid.p = 2\n",
    "ops.o2_pid.i = 10\n",
    "ops.o2_pid.d = 0\n",
    "ops.o2_pid.amax = 100\n",
    "ops.o2_pid.amin = 0\n",
    "ops.o2_pid.beta = 1\n",
    "ops.o2_pid.linearity = 1\n",
    "ops.o2_pid.alpha = -1\n",
    "\n",
    "ops.n2_pid.p = 5\n",
    "ops.n2_pid.i = 5\n",
    "ops.n2_pid.d = 0\n",
    "ops.n2_pid.amax = 90\n",
    "ops.n2_pid.amin = 0\n",
    "ops.n2_pid.beta = 1\n",
    "ops.n2_pid.linearity = 1\n",
    "ops.n2_pid.alpha = -1\n",
    "\n",
    "ops.mfcs.co2_max = 1\n",
    "ops.mfcs.o2_max = 10\n",
    "ops.mfcs.n2_max = 10\n",
    "ops.mfcs.air_max = 10\n",
    "\n",
    "ops.plots.xscale = 'auto'\n",
    "ops.plots.xmin = 0\n",
    "ops.plots.xmax = 72\n",
    "ops.plots.xscale_factor = 3600\n",
    "\n",
    "ops.delay = 0\n",
    "ops.end = 10000\n",
    "ops.initial_actual_cno = AIR_CNO\n",
    "ops.initial_request_cno = (0.07, 0, 0)\n",
    "ops.initial_pv = 90\n",
    "ops.set_point = 40\n",
    "ops.set_point_deadband = 1\n",
    "ops.k_mult = 1.1\n",
    "ops.k = DOProcess.default_k\n",
    "ops.c = None\n",
    "ops.dc = 0\n",
    "ops.d2c = 0\n",
    "ops.mode = \"o2a\"\n",
    "ops.main_gas = 1.0\n",
    "ops.reactor_size = 80\n",
    "ops.reactor_volume = 55\n",
    "ops.time_unit = hours\n",
    "ops.max_iters = 3 * days\n",
    "\n",
    "# Maximum value of c that O2 controller can sustain for a given k\n",
    "ops.k*ops.k_mult*(100/20.95)*100"
   ]
  },
  {
   "cell_type": "code",
   "execution_count": 12,
   "metadata": {
    "collapsed": false,
    "scrolled": true
   },
   "outputs": [],
   "source": [
    "cfg = SimConfig()\n",
    "cfg.simops = ops\n",
    "def run3():\n",
    "    global root, f\n",
    "    cfg.simops.o2_pid.p = 7\n",
    "    cfg.simops.o2_pid.i = 50\n",
    "    cfg.simops.o2_pid.amax = 100\n",
    "    cfg.simops.o2_pid.deadband = 0\n",
    "    cfg.simops.o2_pid.beta = 0\n",
    "    cfg.simops.o2_pid.man_request = 10\n",
    "\n",
    "    cfg.simops.n2_pid.p = -2\n",
    "    cfg.simops.n2_pid.i = 60\n",
    "    cfg.simops.n2_pid.amax = 90\n",
    "    cfg.simops.n2_pid.deadband = 0\n",
    "    cfg.simops.n2_pid.beta = 0\n",
    "    cfg.simops.n2_pid.man_request = 10\n",
    "    cfg.simops.delay=0*minutes\n",
    "\n",
    "    cfg.update_interval = 50\n",
    "    cfg.time_factor = 200\n",
    "\n",
    "    cfg.simops.initial_pv = 100\n",
    "    cfg.simops.set_point = 100\n",
    "\n",
    "    cfg.xwindow_hrs = 10\n",
    "\n",
    "    root = TkQuitHack()\n",
    "    root.wm_title(\"DO Simulation\")\n",
    "    #root.geometry(\"%dx%d\"%(600, 800))\n",
    "    f = PIDSimFrame(root, cfg)\n",
    "    f.pack()\n",
    "    root.mainloop()"
   ]
  },
  {
   "cell_type": "code",
   "execution_count": 13,
   "metadata": {
    "collapsed": false
   },
   "outputs": [],
   "source": [
    "# O2 needs an extra padding space because the negative sign\n",
    "# for N2 pgain doesn't count, i guesss\n",
    "def fmt_float(f):\n",
    "    if not f:\n",
    "        return \"0\"\n",
    "    f = str(f)\n",
    "    if \".\" not in f:\n",
    "        return f\n",
    "    else:\n",
    "        f = f.strip(\"0\")\n",
    "        if f[-1] == \".\":\n",
    "            f = f[:-1]\n",
    "        if f[0] == \".\":\n",
    "            f = \"0\" + f\n",
    "    return f\n",
    "def get_text(ops):\n",
    "\n",
    "    text = \\\n",
    "\"\"\"\n",
    "O2: P=%3d  I=%5d  Initial PV: %3d  k: %.4f/hr (%sx Est.)\n",
    "N2: P=%3d  I=%4d  Set Point:  %3d  c: %s%%/hr\n",
    "\n",
    " \"\"\" % (ops.o2_pid.p, ops.o2_pid.i,ops.initial_pv, ops.k*ops.k_mult, fmt_float(ops.k_mult),\n",
    "        ops.n2_pid.p, ops.n2_pid.i, ops.set_point, fmt_float(ops.c))\n",
    "    text = text.strip()\n",
    "    return text"
   ]
  },
  {
   "cell_type": "code",
   "execution_count": 14,
   "metadata": {
    "collapsed": true
   },
   "outputs": [],
   "source": [
    "def run(ops):\n",
    "    global data, data2, text, data3\n",
    "    data, data2, data3 = do_sim(ops)\n",
    "    text = get_text(ops)\n",
    "    plot(ops)\n",
    "    \n",
    "def run2(ops):\n",
    "    global data, data2, text, data3\n",
    "    data, data2, data3 = do_sim(ops)\n",
    "    text = get_text(ops)\n",
    "    plot1(ops)\n",
    "    \n",
    "def run_int(ops):\n",
    "    global data, data2, text, data3\n",
    "    data, data2, data3 = do_sim(ops)\n",
    "    text = get_text(ops)\n",
    "    plot_int(ops)"
   ]
  },
  {
   "cell_type": "code",
   "execution_count": 15,
   "metadata": {
    "collapsed": false
   },
   "outputs": [
    {
     "name": "stdout",
     "output_type": "stream",
     "text": [
      "Using matplotlib backend: TkAgg\n"
     ]
    }
   ],
   "source": [
    "import matplotlib.pyplot as plt\n",
    "from matplotlib.ticker import FuncFormatter\n",
    "%matplotlib\n",
    "\n",
    "def plot_int(ops):    \n",
    "    print(\"Parsing Data\")\n",
    "    global x, pv, cs, co2_req, n2_req, o2_req, air_req, co2a, n2a, o2a, uk, up, ui, ud\n",
    "    x, pv, cs, co2_req, n2_req, o2_req, air_req, o2a = list(zip(*data))\n",
    "    uk, up, ui, ud = list(zip(*data2))\n",
    "    print(\"Closing Plot\")\n",
    "    plt.close()\n",
    "    print(\"Plotting Data\")\n",
    "\n",
    "    step = 100\n",
    "    xs = x[::step]\n",
    "    xs = np.array(xs) / ops.plots.xscale_factor * ops.time_unit\n",
    "    fig = plt.figure()\n",
    "    ax1 = plt.subplot(311)\n",
    "    ax2 = plt.subplot(312)\n",
    "    ax3 = plt.subplot(313)\n",
    "\n",
    "    pvs = np.array(pv[::step])\n",
    "    ax1.plot(xs, pvs, \"blue\", ls=\"-\", label=\"PV\")\n",
    "    ax1.axhline(y=ops.set_point, ls=\"--\", color=\"black\")\n",
    "\n",
    "    ax2.plot(xs, co2_req[::step], \"purple\", ls=\"-\", label=\"CO2\")\n",
    "    ax2.plot(xs, n2_req[::step], \"red\", ls=\"-\", label=\"N2\")\n",
    "    ax2.plot(xs, o2_req[::step], \"green\", ls=\"-\", label=\"O2\")\n",
    "    ax2.plot(xs, air_req[::step], \"cyan\", ls=\"-\", label=\"Air\")\n",
    "    fm1 = FuncFormatter(lambda y, _: \"%.2f%%\"%y)\n",
    "    fm2 = FuncFormatter(lambda y, _: \"%.2f%%\"%(y*100))\n",
    "\n",
    "    ax3.plot(xs, pvs, \"blue\", ls=\"-\", label=\"O2 sln\")\n",
    "    ax3.plot(xs, np.array(o2a[::step])*100/.2095, \"red\", ls=\"-\", label=\"O2 hs\")\n",
    "\n",
    "    ax1.yaxis.set_major_formatter(fm1)\n",
    "    ax2.yaxis.set_major_formatter(fm2)\n",
    "    ax2.set_ylim((0, 1.1))\n",
    "    \n",
    "    m, ma = ax1.get_ylim()\n",
    "    if np.min(pvs) - 1 < m:\n",
    "        m -= 1\n",
    "    if np.max(pvs) + 1 > ma:\n",
    "        ma += 1\n",
    "    ax1.set_ylim((m, ma))\n",
    "    #ax1.set_ylim((sp-5, sp+5))\n",
    "\n",
    "\n",
    "    for a in ax1, ax2, ax3: \n",
    "        b = a.get_position()\n",
    "        a.set_position([b.x0, b.y0, b.width*0.9, b.height])\n",
    "        a.legend(bbox_to_anchor=(0.99, 1.06), loc=\"upper left\")\n",
    "        a.grid()\n",
    "        if ops.plots.xscale == 'man':\n",
    "            a.set_xlim((ops.plots.xmin, ops.plots.xmax))\n",
    "    \n",
    "    fig.text(0.15, 0.95, get_text(ops), transform=ax1.transAxes, fontsize=12,\n",
    "        verticalalignment='top')\n",
    "    \n",
    "    wm=plt.get_current_fig_manager()\n",
    "    wm.window.attributes('-topmost', 1)\n",
    "    wm.window.attributes('-topmost', 0)\n",
    "    # h = wm.window.winfo_height()\n",
    "    # w = wm.window.winfo_width()\n",
    "    wm.window.geometry(\"%sx%s+%s+%s\"%(700,720,50, 20))"
   ]
  },
  {
   "cell_type": "code",
   "execution_count": 19,
   "metadata": {
    "collapsed": true
   },
   "outputs": [],
   "source": [
    "def test3(ops):\n",
    "    d1, d2, d3 = do_sim(ops)\n",
    "    x, pv, _, _, n2, o2, *_ = list(zip(*d1))\n",
    "    return x,pv, n2, o2"
   ]
  },
  {
   "cell_type": "code",
   "execution_count": 20,
   "metadata": {
    "collapsed": true
   },
   "outputs": [],
   "source": [
    "k_80L = 0.1306\n",
    "k_15L = 0.19314\n",
    "k_3L  = 0.24286"
   ]
  },
  {
   "cell_type": "markdown",
   "metadata": {},
   "source": [
    "# 15L DO Simulations for Results Report"
   ]
  },
  {
   "cell_type": "code",
   "execution_count": 21,
   "metadata": {
    "collapsed": true
   },
   "outputs": [],
   "source": [
    "ops = SimOps()\n",
    "ops.o2_pid.p = 7\n",
    "ops.o2_pid.i = 50\n",
    "ops.o2_pid.d = 0\n",
    "ops.o2_pid.amax = 100\n",
    "ops.o2_pid.amin = 0\n",
    "ops.o2_pid.beta = 0\n",
    "ops.o2_pid.linearity = 1\n",
    "ops.o2_pid.alpha = -1\n",
    "\n",
    "ops.n2_pid.p = -6\n",
    "ops.n2_pid.i = 90\n",
    "ops.n2_pid.d = 0\n",
    "ops.n2_pid.amax = 90\n",
    "ops.n2_pid.amin = 0\n",
    "ops.n2_pid.beta = 0\n",
    "ops.n2_pid.linearity = 1\n",
    "ops.n2_pid.alpha = -1\n",
    "\n",
    "ops.mfcs.co2_max = .1\n",
    "ops.mfcs.o2_max = 0.5\n",
    "ops.mfcs.n2_max = 2\n",
    "ops.mfcs.air_max = 2\n",
    "\n",
    "ops.plots.xscale = 'auto'\n",
    "ops.plots.xmin = 0\n",
    "ops.plots.xmax = 72\n",
    "ops.plots.xscale_factor = 3600\n",
    "\n",
    "ops.delay = 0\n",
    "ops.end = 20*hours\n",
    "ops.initial_actual_cno = AIR_CNO\n",
    "ops.initial_request_cno = (0.00, 0, 0)\n",
    "ops.initial_pv = 100\n",
    "ops.set_point = 50\n",
    "ops.set_point_deadband = 1\n",
    "ops.k_mult = 1.0\n",
    "ops.k = k_15L\n",
    "ops.c = 0\n",
    "ops.dc = 0\n",
    "ops.d2c = 0\n",
    "ops.mode = \"o2a\"\n",
    "ops.main_gas = 1.0\n",
    "ops.reactor_size = 15\n",
    "ops.reactor_volume = 11.5\n",
    "ops.time_unit = hours\n",
    "ops.max_iters = 3 * days"
   ]
  },
  {
   "cell_type": "markdown",
   "metadata": {},
   "source": [
    "### Graph generation for Results report for 100% to 150% ramp"
   ]
  },
  {
   "cell_type": "code",
   "execution_count": 22,
   "metadata": {
    "collapsed": false
   },
   "outputs": [],
   "source": [
    "ops.set_point = 150\n",
    "ops.mfcs.o2_max = 2\n",
    "x, pv, n2, o2 = test3(ops)\n",
    "plt.close()\n",
    "fig = plt.figure()\n",
    "ax = fig.add_subplot(1,1,1)\n",
    "ax2 = ax.twinx()\n",
    "f = FuncFormatter(lambda y, _: \"%.1f%%\"%(y*100))\n",
    "l = MultipleLocator(2)\n",
    "ax.xaxis.set_major_locator(l)\n",
    "ax2.yaxis.set_major_formatter(f)\n",
    "ax.plot(x,pv, \"blue\", ls=\"-\", label=\"PV\")\n",
    "ax2.plot(x,o2, \"green\", ls=\"-\", label=\"O2 Flow\")\n",
    "ax2.plot(x,n2, \"red\", ls=\"-\", label=\"N2 Flow\")\n",
    "ax.xaxis.set_label_text(\"Time(hr)\")\n",
    "ax.yaxis.set_label_text(\"DOPV(%)\")\n",
    "ax2.yaxis.set_label_text(\"Gas Flow Request (%)\")\n",
    "ax.grid()\n",
    "ax.set_ylim(100, 160)\n",
    "ax2.set_ylim(0, .80)\n",
    "fig.text(0.15, 0.96, get_text(ops), transform=ax.transAxes, fontsize=12,\n",
    "        verticalalignment='top')\n",
    "h1, l1 = ax.get_legend_handles_labels()\n",
    "h2, l2 = ax2.get_legend_handles_labels()\n",
    "h1.extend(h2)\n",
    "l1.extend(l2)\n",
    "ax.legend(h1, l1, loc=\"center\", ncol=3, bbox_to_anchor=(0.5, -.15))\n",
    "b = ax.get_position()\n",
    "ax.set_position((b.x0, b.y0+0.05, b.width,b.height*0.9))\n",
    "ax2.set_position((b.x0, b.y0+0.05, b.width,b.height*0.9))"
   ]
  },
  {
   "cell_type": "markdown",
   "metadata": {},
   "source": [
    "### Graph generation for Results report for 100% to 50% ramp"
   ]
  },
  {
   "cell_type": "code",
   "execution_count": 23,
   "metadata": {
    "collapsed": false
   },
   "outputs": [],
   "source": [
    "from matplotlib.ticker import MultipleLocator\n",
    "ops.k_mult = 0.9\n",
    "ops.set_point = 50\n",
    "\n",
    "ops.n2_pid.p = -3\n",
    "x, pv, n2, o2 = test3(ops)\n",
    "plt.close()\n",
    "fig = plt.figure()\n",
    "ax = fig.add_subplot(1,1,1)\n",
    "ax2 = ax.twinx()\n",
    "f = FuncFormatter(lambda y, _: \"%.1f%%\"%(y*100))\n",
    "ax2.yaxis.set_major_formatter(f)\n",
    "l = MultipleLocator(2)\n",
    "ax.xaxis.set_major_locator(l)\n",
    "ax.plot(x,pv, \"blue\", ls=\"-\", label=\"PV\")\n",
    "ax2.plot(x,o2, \"green\", ls=\"-\", label=\"O2 Flow\")\n",
    "ax2.plot(x,n2, \"red\", ls=\"-\", label=\"N2 Flow\")\n",
    "ax.xaxis.set_label_text(\"Time(hr)\")\n",
    "ax.yaxis.set_label_text(\"DOPV(%)\")\n",
    "ax2.yaxis.set_label_text(\"Gas Flow Request (%)\")\n",
    "ax.grid()\n",
    "ax.set_ylim(40, 110)\n",
    "ax2.set_ylim(0, 1.00)\n",
    "fig.text(0.15, 0.96, get_text(ops), transform=ax.transAxes, fontsize=12,\n",
    "        verticalalignment='top')\n",
    "h1, l1 = ax.get_legend_handles_labels()\n",
    "h2, l2 = ax2.get_legend_handles_labels()\n",
    "h1.extend(h2)\n",
    "l1.extend(l2)\n",
    "ax.legend(h1, l1, loc=\"center\", ncol=3, bbox_to_anchor=(0.5, -.15))\n",
    "b = ax.get_position()\n",
    "ax.set_position((b.x0, b.y0+0.05, b.width*0.95,b.height*0.9))\n",
    "ax2.set_position((b.x0, b.y0+0.05, b.width*0.95,b.height*0.9))"
   ]
  },
  {
   "cell_type": "markdown",
   "metadata": {},
   "source": [
    "### Comparison of effect of Main Gas on controller performance"
   ]
  },
  {
   "cell_type": "code",
   "execution_count": 26,
   "metadata": {
    "collapsed": false
   },
   "outputs": [
    {
     "data": {
      "text/plain": [
       "<matplotlib.legend.Legend at 0x256ae26a3c8>"
      ]
     },
     "execution_count": 26,
     "metadata": {},
     "output_type": "execute_result"
    }
   ],
   "source": [
    "ops.set_point = 150\n",
    "plt.close()\n",
    "\n",
    "fig = plt.figure()\n",
    "ax = fig.add_subplot(1,1,1)\n",
    "\n",
    "l = MultipleLocator(2)\n",
    "ax.xaxis.set_major_locator(l)\n",
    "ax.xaxis.set_label_text(\"Time(hr)\")\n",
    "ax.yaxis.set_label_text(\"DOPV(%)\")\n",
    "ax.grid()\n",
    "ax.set_ylim(100, 160)\n",
    "fig.text(0.15, 0.96, get_text(ops), transform=ax.transAxes, fontsize=12,\n",
    "        verticalalignment='top')\n",
    "for mg in (0.1, 0.5, 1.0, 2.0):\n",
    "    ops.main_gas = mg\n",
    "    x, pv, n2, o2 = test3(ops)\n",
    "    ax.plot(x,pv, label=\"%.1f LPM\"%mg)\n",
    "    \n",
    "b = ax.get_position()\n",
    "ax.set_position((b.x0, b.y0+0.05, b.width,b.height*0.9))\n",
    "ax.legend(loc=\"center\", ncol=4, bbox_to_anchor=(0.5, -.15))"
   ]
  },
  {
   "cell_type": "code",
   "execution_count": 25,
   "metadata": {
    "collapsed": false
   },
   "outputs": [
    {
     "data": {
      "text/plain": [
       "<matplotlib.legend.Legend at 0x256adb59048>"
      ]
     },
     "execution_count": 25,
     "metadata": {},
     "output_type": "execute_result"
    }
   ],
   "source": [
    "ops.set_point = 150\n",
    "\n",
    "plt.close()\n",
    "\n",
    "fig = plt.figure()\n",
    "ax = fig.add_subplot(1,1,1)\n",
    "\n",
    "l = MultipleLocator(2)\n",
    "ax.xaxis.set_major_locator(l)\n",
    "ax.xaxis.set_label_text(\"Time(hr)\")\n",
    "ax.yaxis.set_label_text(\"DOPV(%)\")\n",
    "ax.grid()\n",
    "ax.set_ylim(100, 160)\n",
    "fig.text(0.15, 0.96, get_text(ops), transform=ax.transAxes, fontsize=12,\n",
    "        verticalalignment='top')\n",
    "\n",
    "ops.reactor_volume = 11\n",
    "ops.main_gas = 2\n",
    "x, pv, n2, o2 = test3(ops)\n",
    "ax.plot(x,pv, label=\"2 LPM\")\n",
    "    \n",
    "ops.reactor_volume = 13\n",
    "ops.main_gas = mg = 1\n",
    "x, pv, n2, o2 = test3(ops)\n",
    "ax.plot(x,pv, label=\"1 LPM\")\n",
    "    \n",
    "b = ax.get_position()\n",
    "ax.set_position((b.x0, b.y0+0.05, b.width,b.height*0.9))\n",
    "ax.legend(loc=\"center\", ncol=4, bbox_to_anchor=(0.5, -.15))"
   ]
  },
  {
   "cell_type": "markdown",
   "metadata": {},
   "source": [
    "# 80L Simulations for Results Report"
   ]
  },
  {
   "cell_type": "code",
   "execution_count": 27,
   "metadata": {
    "collapsed": true
   },
   "outputs": [],
   "source": [
    "ops = SimOps()\n",
    "ops.o2_pid.p = 3\n",
    "ops.o2_pid.i = 70\n",
    "ops.o2_pid.d = 0\n",
    "ops.o2_pid.amax = 100\n",
    "ops.o2_pid.amin = 0\n",
    "ops.o2_pid.beta = 0\n",
    "ops.o2_pid.linearity = 1\n",
    "ops.o2_pid.alpha = -1\n",
    "\n",
    "ops.n2_pid.p = -3\n",
    "ops.n2_pid.i = 70\n",
    "ops.n2_pid.d = 0\n",
    "ops.n2_pid.amax = 100\n",
    "ops.n2_pid.amin = 0\n",
    "ops.n2_pid.beta = 0\n",
    "ops.n2_pid.linearity = 1\n",
    "ops.n2_pid.alpha = -1\n",
    "\n",
    "ops.mfcs.co2_max = 1\n",
    "ops.mfcs.o2_max = 2\n",
    "ops.mfcs.n2_max = 10\n",
    "ops.mfcs.air_max = 10\n",
    "\n",
    "ops.plots.xscale = 'auto'\n",
    "ops.plots.xmin = 0\n",
    "ops.plots.xmax = 72\n",
    "ops.plots.xscale_factor = 3600\n",
    "\n",
    "ops.delay = 0\n",
    "ops.end = 20*hours\n",
    "ops.initial_actual_cno = AIR_CNO\n",
    "ops.initial_request_cno = (0.00, 0, 0)\n",
    "ops.initial_pv = 100\n",
    "ops.set_point = 150\n",
    "ops.set_point_deadband = 1\n",
    "ops.k_mult = 1.1\n",
    "ops.k = k_80L\n",
    "ops.c = 0\n",
    "ops.dc = 0\n",
    "ops.d2c = 0\n",
    "ops.mode = \"o2a\"\n",
    "ops.main_gas = 2.0\n",
    "ops.reactor_size = 80\n",
    "ops.reactor_volume = 57\n",
    "ops.time_unit = hours\n",
    "ops.max_iters = 3 * days"
   ]
  },
  {
   "cell_type": "code",
   "execution_count": 28,
   "metadata": {
    "collapsed": false
   },
   "outputs": [],
   "source": [
    "ops.set_point = 50\n",
    "x, pv, n2, o2 = test3(ops)"
   ]
  },
  {
   "cell_type": "code",
   "execution_count": 29,
   "metadata": {
    "collapsed": false
   },
   "outputs": [],
   "source": [
    "# Plot configuration\n",
    "plt.close()\n",
    "fig = plt.figure()\n",
    "ax = fig.add_subplot(1,1,1)\n",
    "ax2 = ax.twinx()\n",
    "b = ax.get_position()\n",
    "ax.set_position((b.x0, b.y0+0.05, b.width,b.height*0.9))\n",
    "ax2.set_position((b.x0, b.y0+0.05, b.width,b.height*0.9))\n"
   ]
  },
  {
   "cell_type": "code",
   "execution_count": 30,
   "metadata": {
    "collapsed": false
   },
   "outputs": [],
   "source": [
    "ax.clear()\n",
    "ax2.clear()\n",
    "f = FuncFormatter(lambda y, _: \"%.1f%%\"%(y*100))\n",
    "l = MultipleLocator(2)\n",
    "ax.xaxis.set_major_locator(l)\n",
    "ax2.yaxis.set_major_formatter(f)\n",
    "ax.plot(x,pv, \"blue\", ls=\"-\", label=\"PV\")\n",
    "ax2.plot(x,o2, \"green\", ls=\"-\", label=\"O2 Flow\")\n",
    "ax2.plot(x,n2, \"red\", ls=\"-\", label=\"N2 Flow\")\n",
    "ax.xaxis.set_label_text(\"Time(hr)\")\n",
    "ax.yaxis.set_label_text(\"DOPV(%)\")\n",
    "ax2.yaxis.set_label_text(\"Gas Flow Request (%)\")\n",
    "ax.grid()\n",
    "# ax.set_ylim(100, 160)\n",
    "# ax2.set_ylim(0, .80)\n",
    "ax.set_ylim(40, 110)\n",
    "ax2.set_ylim(0, 1.10)\n",
    "for t in fig.texts: t.remove()\n",
    "fig.text(0.15, 0.96, get_text(ops), transform=ax.transAxes, fontsize=12,\n",
    "        verticalalignment='top')\n",
    "h1, l1 = ax.get_legend_handles_labels()\n",
    "h2, l2 = ax2.get_legend_handles_labels()\n",
    "h1.extend(h2)\n",
    "l1.extend(l2)\n",
    "ax.legend(h1, l1, loc=\"center\", ncol=3, bbox_to_anchor=(0.5, -.15))\n",
    "ax.set_position((b.x0, b.y0+0.05, b.width*0.95,b.height*0.9))\n",
    "ax2.set_position((b.x0, b.y0+0.05, b.width*0.95,b.height*0.9))"
   ]
  },
  {
   "cell_type": "code",
   "execution_count": null,
   "metadata": {
    "collapsed": false
   },
   "outputs": [],
   "source": [
    "ax.set_ylim(145, 155)"
   ]
  },
  {
   "cell_type": "markdown",
   "metadata": {
    "collapsed": false
   },
   "source": [
    "# 3L DO Tuning and Characterization"
   ]
  },
  {
   "cell_type": "code",
   "execution_count": 31,
   "metadata": {
    "collapsed": true
   },
   "outputs": [],
   "source": [
    "from officelib.xllib import *\n",
    "from officelib.const import xlconst as xlc\n",
    "import itertools\n",
    "from pysrc.snippets import smooth1\n",
    "from matplotlib.ticker import FuncFormatter, FormatStrFormatter\n",
    "\n",
    "def clear_data():\n",
    "    xldata.clear()\n",
    "    loaded_data.clear()\n",
    "\n",
    "path = 'C:\\\\PBSCloudStation\\\\(2) R&D-Product Engineering\\\\Software Development\\\\3.0 Project\\\\Phase 2 Working Copy\\\\PID Tuning\\\\DO\\\\raw data\\\\'\n",
    "xldata = []\n",
    "def add_data(fn, pvr, o2r, n2r):\n",
    "    fn = path + fn\n",
    "    xldata.append((fn, pvr, o2r, n2r))"
   ]
  },
  {
   "cell_type": "code",
   "execution_count": 32,
   "metadata": {
    "collapsed": true
   },
   "outputs": [],
   "source": [
    "_ref_cache = {}\n",
    "def clear_cache():\n",
    "    _ref_cache.clear()\n",
    "    \n",
    "def _load(cr, r):\n",
    "    x,y = [np.array(v) for v in list(zip(*cr(r).Value))]\n",
    "    x2, y2 = smooth1(np.rint(x*3600).astype(int), y.astype(float))\n",
    "    x3 = np.array(list(map(float, x2))) / 3600\n",
    "    y3 = np.array(list(map(float, y2)))\n",
    "    return x3, y3    \n",
    "\n",
    "def load_data(data=None):\n",
    "    if data is None:\n",
    "        data = xldata\n",
    "    global loaded_data, _ref_cache\n",
    "    loaded_data = []\n",
    "    xl = None\n",
    "    for fn, pvr, o2r, n2r in data:\n",
    "        cache_key = (fn, pvr, o2r, n2r)\n",
    "        if cache_key in _ref_cache:\n",
    "            (pvx, pvy), (o2x, o2y), (n2x, n2y) = _ref_cache[cache_key]\n",
    "        else:\n",
    "            if xl is None:\n",
    "                xl = Excel()\n",
    "            with screen_lock(xl):\n",
    "                wb = xl.Workbooks.Open(fn)\n",
    "                ws = wb.Worksheets(\"Data2\")\n",
    "                cr = ws.Cells.Range\n",
    "                try:\n",
    "                    pvx, pvy = _load(cr, pvr)\n",
    "                    o2x, o2y = _load(cr, o2r)\n",
    "                    n2x, n2y = _load(cr, n2r)\n",
    "                except:\n",
    "                    print(pvr, o2r, n2r)\n",
    "                    raise\n",
    "                wb.Close()\n",
    "                _ref_cache[cache_key] = (pvx, pvy), (o2x, o2y), (n2x, n2y)\n",
    "        \n",
    "        loaded_data.append(((pvx, pvy), (o2x, o2y), (n2x, n2y)))\n",
    "    if xl is not None:\n",
    "        xl.Quit()\n",
    "        \n",
    "def np_unpack(l):\n",
    "    return [np.array(data) for data in list(zip(*l))]"
   ]
  },
  {
   "cell_type": "markdown",
   "metadata": {},
   "source": [
    "### 3L Basic Options"
   ]
  },
  {
   "cell_type": "code",
   "execution_count": 35,
   "metadata": {
    "collapsed": true
   },
   "outputs": [],
   "source": [
    "ops = SimOps()\n",
    "ops.o2_pid.p = 2\n",
    "ops.o2_pid.i = 40\n",
    "ops.o2_pid.d = 0\n",
    "ops.o2_pid.amax = 100\n",
    "ops.o2_pid.amin = 0\n",
    "ops.o2_pid.beta = 0\n",
    "ops.o2_pid.linearity = 1\n",
    "ops.o2_pid.alpha = -1\n",
    "\n",
    "ops.n2_pid.p = -5\n",
    "ops.n2_pid.i = 40\n",
    "ops.n2_pid.d = 0\n",
    "ops.n2_pid.amax = 90\n",
    "ops.n2_pid.amin = 0\n",
    "ops.n2_pid.beta = 0\n",
    "ops.n2_pid.linearity = 1\n",
    "ops.n2_pid.alpha = -1\n",
    "\n",
    "ops.mfcs.co2_max = .1\n",
    "ops.mfcs.o2_max = .5\n",
    "ops.mfcs.n2_max = .5\n",
    "ops.mfcs.air_max = .5\n",
    "\n",
    "ops.plots.xscale = 'auto'\n",
    "ops.plots.xmin = 0\n",
    "ops.plots.xmax = 72\n",
    "ops.plots.xscale_factor = 3600\n",
    "\n",
    "ops.delay = 0\n",
    "ops.end = 12*hours\n",
    "ops.initial_actual_cno = AIR_CNO\n",
    "ops.initial_request_cno = (0.07, 0, 0)\n",
    "ops.initial_pv = 100\n",
    "ops.set_point = 50\n",
    "ops.set_point_deadband = 1\n",
    "ops.k_mult = 1\n",
    "ops.k = k_3L\n",
    "ops.c = None\n",
    "ops.dc = 0\n",
    "ops.d2c = 0\n",
    "ops.mode = \"o2a\"\n",
    "ops.main_gas = 0.2\n",
    "ops.reactor_size = 3\n",
    "ops.reactor_volume = 2.5\n",
    "ops.time_unit = hours\n",
    "ops.max_iters = 3 * days"
   ]
  },
  {
   "cell_type": "code",
   "execution_count": 36,
   "metadata": {
    "collapsed": true
   },
   "outputs": [],
   "source": [
    "ax_list1 = []\n",
    "fig = None\n",
    "\n",
    "def axes():\n",
    "    return ax_list1\n",
    "\n",
    "def setup1(new=False):\n",
    "    global fig, ax1, ax2, ax3, ax4, ax5, ax6\n",
    "    global ax_list1\n",
    "    \n",
    "    if not plt.get_fignums() or new or not fig:\n",
    "        fig = plt.figure()\n",
    "        ax1 = fig.add_subplot(3,1,1)\n",
    "        ax2 = fig.add_subplot(3,1,2)\n",
    "        ax3 = fig.add_subplot(3,1,3)\n",
    "        for a in ax1, ax2, ax3:\n",
    "            b = a.get_position()\n",
    "            a.set_position([b.x0, b.y0, b.width*0.9, b.height])\n",
    "            a.grid()\n",
    "        ax_list1 = [ax1, ax2, ax3]\n",
    "    else:\n",
    "        for a in axes():\n",
    "            a.clear()\n",
    "            a.grid()\n",
    "        for t in fig.texts:\n",
    "            t.remove()\n",
    "    \n",
    "    \n",
    "    global colors, color\n",
    "    colors = [\n",
    "        \"blue\",\n",
    "        \"red\",\n",
    "        \"green\",\n",
    "        \"cyan\",\n",
    "        \"purple\",\n",
    "        \"orange\",\n",
    "        \"black\"\n",
    "    ]\n",
    "\n",
    "    import itertools\n",
    "    color = itertools.cycle(colors).__next__\n",
    "    \n",
    "def test1(ops):\n",
    "    d1, d2, d3 = do_sim(ops)\n",
    "    x, pv, _, _, n2, o2, *_, o2a = np_unpack(d1)\n",
    "    return x,pv, n2, o2, o2a*100/0.21\n",
    "\n",
    "def _p1(ax, x, y, color, label, ylabel=None):\n",
    "    ax.plot(x,y, color=color, label=label)\n",
    "    if ylabel:\n",
    "        ax.set_ylabel(ylabel)\n",
    "\n",
    "def plot1(x, pv, n2, o2, o2a):\n",
    "    c = color()\n",
    "    _p1(ax1, x, pv, \"blue\", \"pv\", \"DO (%)\")\n",
    "    _p1(ax2, x, o2, \"green\", \"O2\", \"Gas Flow (%)\")\n",
    "    _p1(ax2, x, n2, \"red\", \"N2\")\n",
    "    _p1(ax3, x, pv, \"blue\", \"pv\", \"DO (%)\")\n",
    "    _p1(ax3, x, o2a, \"red\", \"hs\")\n",
    "    \n",
    "    ax1.axhline(y=ops.set_point, ls=\"--\", color=\"black\")\n",
    "    ax1.axhline(y=ops.set_point-ops.set_point_deadband, ls=\"--\", color=\"black\", lw=0.5)\n",
    "    ax1.axhline(y=ops.set_point+ops.set_point_deadband, ls=\"--\", color=\"black\", lw=0.5)\n",
    "    ax1.yaxis.set_major_formatter(FormatStrFormatter(\"%d%%\"))\n",
    "    ax2.yaxis.set_major_formatter(FuncFormatter(lambda y, _: \"%d%%\"%(y*100)))\n",
    "    \n",
    "    for a in axes():\n",
    "        a.xaxis.set_major_locator(MultipleLocator(1))\n",
    "        a.legend(bbox_to_anchor=(0.99, 1.06), loc=\"upper left\")\n",
    "    \n",
    "    fig.canvas.flush_events()\n",
    "    fig.canvas.draw()\n",
    "    \n",
    "def finish1():\n",
    "    for a in axes():\n",
    "        if a.legend_:\n",
    "            mk_picker(fig, a)\n",
    "    \n",
    "def run1(ops):\n",
    "    x, pv, n2, o2, o2a = test1(ops)\n",
    "    plot1(x, pv, n2, o2, o2a)\n",
    "    finish1()"
   ]
  },
  {
   "cell_type": "markdown",
   "metadata": {},
   "source": [
    "### 3L Tuning (Final!)"
   ]
  },
  {
   "cell_type": "code",
   "execution_count": 89,
   "metadata": {
    "collapsed": false
   },
   "outputs": [
    {
     "data": {
      "text/plain": [
       "(140, 160)"
      ]
     },
     "execution_count": 89,
     "metadata": {},
     "output_type": "execute_result"
    }
   ],
   "source": [
    "setup1()\n",
    "ops.initial_request_cno = (0, 0, 0)\n",
    "ops.initial_actual_cno = (0.0004, .78, .21)\n",
    "ops.set_point = 150\n",
    "ops.initial_pv = 100\n",
    "\n",
    "ops.o2_pid.p = 1.5\n",
    "ops.o2_pid.i = 120\n",
    "\n",
    "ops.n2_pid.p = -5\n",
    "ops.n2_pid.i = 50\n",
    "ops.k_mult = 1\n",
    "run1(ops)\n",
    "ax1.set_ylim(140, 160)"
   ]
  },
  {
   "cell_type": "code",
   "execution_count": 33,
   "metadata": {
    "collapsed": false
   },
   "outputs": [
    {
     "data": {
      "text/plain": [
       "(0, 1)"
      ]
     },
     "execution_count": 33,
     "metadata": {},
     "output_type": "execute_result"
    }
   ],
   "source": [
    "setup1()\n",
    "ops.set_point = 50\n",
    "ops.initial_pv = 100\n",
    "ops.initial_request_cno = (0, 0, 0)\n",
    "ops.initial_actual_cno = (0.0004, .78, .21)\n",
    "\n",
    "ops.o2_pid.p = 1.5\n",
    "ops.o2_pid.i = 120\n",
    "\n",
    "ops.n2_pid.p = -5\n",
    "ops.n2_pid.i = 50\n",
    "ops.k_mult = 1\n",
    "run1(ops)\n",
    "ax1.set_ylim(40, 60)\n",
    "ax2.set_ylim(0, 1)"
   ]
  },
  {
   "cell_type": "code",
   "execution_count": 90,
   "metadata": {
    "collapsed": false
   },
   "outputs": [
    {
     "data": {
      "text/plain": [
       "(140, 160)"
      ]
     },
     "execution_count": 90,
     "metadata": {},
     "output_type": "execute_result"
    }
   ],
   "source": [
    "setup1(True)\n",
    "ops.initial_request_cno = (0, 0, 0)\n",
    "ops.initial_actual_cno = (0.0004, .78, .21)\n",
    "ops.set_point = 150\n",
    "ops.initial_pv = 100\n",
    "\n",
    "ops.o2_pid.p = 7\n",
    "ops.o2_pid.i = 50\n",
    "\n",
    "ops.n2_pid.p = -5\n",
    "ops.n2_pid.i = 50\n",
    "ops.k_mult = 1\n",
    "run1(ops)\n",
    "ax1.set_ylim(140, 160)"
   ]
  },
  {
   "cell_type": "code",
   "execution_count": 79,
   "metadata": {
    "collapsed": false
   },
   "outputs": [
    {
     "data": {
      "text/plain": [
       "(0, 1)"
      ]
     },
     "execution_count": 79,
     "metadata": {},
     "output_type": "execute_result"
    }
   ],
   "source": [
    "setup1()\n",
    "ops.set_point = 50\n",
    "ops.initial_pv = 100\n",
    "ops.initial_request_cno = (0, 0, 0)\n",
    "ops.initial_actual_cno = (0.0004, .78, .21)\n",
    "\n",
    "ops.o2_pid.p = 7\n",
    "ops.o2_pid.i = 50\n",
    "\n",
    "ops.n2_pid.p = -5\n",
    "ops.n2_pid.i = 50\n",
    "ops.k_mult = 1\n",
    "run1(ops)\n",
    "ax1.set_ylim(40, 60)\n",
    "ax2.set_ylim(0, 1)"
   ]
  },
  {
   "cell_type": "markdown",
   "metadata": {
    "collapsed": true
   },
   "source": [
    "### 3L Graphs for Report"
   ]
  },
  {
   "cell_type": "code",
   "execution_count": 37,
   "metadata": {
    "collapsed": false
   },
   "outputs": [],
   "source": [
    "ax_list2 = []\n",
    "fig = None\n",
    "\n",
    "def axes():\n",
    "    return ax_list2\n",
    "\n",
    "def setup2(new=False):\n",
    "    global fig, ax1, ax2, ax3, ax4, ax5, ax6\n",
    "    global ax_list2\n",
    "    \n",
    "    if not plt.get_fignums() or new or not fig:\n",
    "        fig = plt.figure()\n",
    "        ax1 = fig.add_subplot(1,1,1)\n",
    "        #ax2 = fig.add_subplot(2,1,2)\n",
    "        ax2 = ax1.twinx()\n",
    "        ax_list2 = [ax1, ax2]\n",
    "        for a in axes():\n",
    "            b = a.get_position()\n",
    "            a.set_position([b.x0, b.y0+.1, b.width*1, b.height*.9])\n",
    "            a.grid()\n",
    "    else:\n",
    "        for a in axes():\n",
    "            a.clear()\n",
    "            a.grid()\n",
    "        for t in fig.texts:\n",
    "            t.remove()\n",
    "    \n",
    "    \n",
    "    global colors, color\n",
    "    colors = [\n",
    "        \"blue\",\n",
    "        \"red\",\n",
    "        \"green\",\n",
    "        \"cyan\",\n",
    "        \"purple\",\n",
    "        \"orange\",\n",
    "        \"black\"\n",
    "    ]\n",
    "\n",
    "    import itertools\n",
    "    color = itertools.cycle(colors).__next__\n",
    "    \n",
    "def test2(ops):\n",
    "    d1, d2, d3 = do_sim(ops)\n",
    "    x, pv, _, _, n2, o2, *_, o2a = np_unpack(d1)\n",
    "    return x,pv, n2, o2, o2a*100/0.21\n",
    "\n",
    "def _p1(ax, x, y, color, label, ylabel=None):\n",
    "    ax.plot(x,y, color=color, label=label)\n",
    "    if ylabel:\n",
    "        ax.set_ylabel(ylabel)\n",
    "\n",
    "def plot2(x, pv, n2, o2, o2a):\n",
    "    c = color()\n",
    "    _p1(ax1, x, pv, \"blue\", \"pv\", \"DO (%)\")\n",
    "    _p1(ax2, x, o2, \"green\", \"O2\", \"Gas Flow (%)\")\n",
    "    _p1(ax2, x, n2, \"red\", \"N2\")\n",
    "    #_p1(ax3, x, pv, \"blue\", \"pv\", \"DO (%)\")\n",
    "    #_p1(ax3, x, o2a, \"red\", \"hs\")\n",
    "    \n",
    "    ax1.axhline(y=ops.set_point, ls=\"--\", color=\"black\")\n",
    "    ax1.axhline(y=ops.set_point-ops.set_point_deadband, ls=\"--\", color=\"black\", lw=0.5)\n",
    "    ax1.axhline(y=ops.set_point+ops.set_point_deadband, ls=\"--\", color=\"black\", lw=0.5)\n",
    "    ax1.yaxis.set_major_formatter(FormatStrFormatter(\"%d%%\"))\n",
    "    ax2.yaxis.set_major_formatter(FuncFormatter(lambda y, _: \"%d%%\"%(y*100)))\n",
    "    \n",
    "    h = []\n",
    "    l = []\n",
    "    for a in axes():\n",
    "        a.xaxis.set_major_locator(MultipleLocator(1))\n",
    "        h_, l_ = a.get_legend_handles_labels()\n",
    "        h.extend(h_)\n",
    "        l.extend(l_)\n",
    "    ax1.legend(h, l, loc=\"center\", ncol=3, bbox_to_anchor=(0.5, -.15))\n",
    "    \n",
    "    fig.canvas.flush_events()\n",
    "    fig.canvas.draw()\n",
    "    \n",
    "def finish2():\n",
    "    for a in axes():\n",
    "        if a.legend_:\n",
    "            mk_picker(fig, a)\n",
    "    \n",
    "def run2(ops):\n",
    "    x, pv, n2, o2, o2a = test2(ops)\n",
    "    plot2(x, pv, n2, o2, o2a)\n",
    "    finish2()"
   ]
  },
  {
   "cell_type": "code",
   "execution_count": 38,
   "metadata": {
    "collapsed": false
   },
   "outputs": [
    {
     "data": {
      "text/plain": [
       "(140, 160)"
      ]
     },
     "execution_count": 38,
     "metadata": {},
     "output_type": "execute_result"
    }
   ],
   "source": [
    "setup2()\n",
    "ops.initial_request_cno = (0, 0, 0)\n",
    "ops.initial_actual_cno = (0.0004, .78, .21)\n",
    "ops.set_point = 150\n",
    "ops.initial_pv = 100\n",
    "ops.end = 20*hours\n",
    "\n",
    "ops.o2_pid.p = 7\n",
    "ops.o2_pid.i = 50\n",
    "\n",
    "ops.n2_pid.p = -6\n",
    "ops.n2_pid.i = 90\n",
    "ops.k_mult = 1\n",
    "run2(ops)\n",
    "ax1.set_ylim(140, 160)\n"
   ]
  },
  {
   "cell_type": "code",
   "execution_count": 39,
   "metadata": {
    "collapsed": false
   },
   "outputs": [
    {
     "data": {
      "text/plain": [
       "(0, 1)"
      ]
     },
     "execution_count": 39,
     "metadata": {},
     "output_type": "execute_result"
    }
   ],
   "source": [
    "setup2()\n",
    "ops.set_point = 50\n",
    "ops.initial_pv = 100\n",
    "ops.initial_request_cno = (0, 0, 0)\n",
    "ops.initial_actual_cno = (0.0004, .78, .21)\n",
    "\n",
    "ops.o2_pid.p = 1.5\n",
    "ops.o2_pid.i = 120\n",
    "\n",
    "ops.n2_pid.p = -5\n",
    "ops.n2_pid.i = 50\n",
    "ops.k_mult = 1\n",
    "run2(ops)\n",
    "ax1.set_ylim(40, 60)\n",
    "ax2.set_ylim(0, 1)"
   ]
  },
  {
   "cell_type": "markdown",
   "metadata": {},
   "source": [
    "### 3L Simulation Window"
   ]
  },
  {
   "cell_type": "code",
   "execution_count": 210,
   "metadata": {
    "collapsed": true
   },
   "outputs": [],
   "source": [
    "ops = SimOps()\n",
    "ops.o2_pid.p = 2\n",
    "ops.o2_pid.i = 40\n",
    "ops.o2_pid.d = 0\n",
    "ops.o2_pid.amax = 100\n",
    "ops.o2_pid.amin = 0\n",
    "ops.o2_pid.beta = 0\n",
    "ops.o2_pid.linearity = 1\n",
    "ops.o2_pid.alpha = -1\n",
    "\n",
    "ops.n2_pid.p = -5\n",
    "ops.n2_pid.i = 40\n",
    "ops.n2_pid.d = 0\n",
    "ops.n2_pid.amax = 90\n",
    "ops.n2_pid.amin = 0\n",
    "ops.n2_pid.beta = 0\n",
    "ops.n2_pid.linearity = 1\n",
    "ops.n2_pid.alpha = -1\n",
    "\n",
    "ops.mfcs.co2_max = .1\n",
    "ops.mfcs.o2_max = .5\n",
    "ops.mfcs.n2_max = .5\n",
    "ops.mfcs.air_max = .5\n",
    "\n",
    "ops.plots.xscale = 'auto'\n",
    "ops.plots.xmin = 0\n",
    "ops.plots.xmax = 72\n",
    "ops.plots.xscale_factor = 3600\n",
    "\n",
    "ops.delay = 0\n",
    "ops.end = 5*hours\n",
    "ops.initial_actual_cno = AIR_CNO\n",
    "ops.initial_request_cno = (0.07, 0, 0)\n",
    "ops.initial_pv = 100\n",
    "ops.set_point = 50\n",
    "ops.set_point_deadband = 1\n",
    "ops.k_mult = 1\n",
    "ops.k = k_3L\n",
    "ops.c = None\n",
    "ops.dc = 0\n",
    "ops.d2c = 0\n",
    "ops.mode = \"o2a\"\n",
    "ops.main_gas = 0.2\n",
    "ops.reactor_size = 3\n",
    "ops.reactor_volume = 2.5\n",
    "ops.time_unit = hours\n",
    "ops.max_iters = 3 * days\n",
    "\n",
    "ops.o2_pid.p = 1.5\n",
    "ops.o2_pid.i = 150\n",
    "\n",
    "ops.n2_pid.p = -3\n",
    "ops.n2_pid.i = 50"
   ]
  },
  {
   "cell_type": "code",
   "execution_count": 211,
   "metadata": {
    "collapsed": true
   },
   "outputs": [],
   "source": [
    "cfg = SimConfig()\n",
    "cfg.simops = ops\n",
    "def run4():\n",
    "    global root, f\n",
    "    cfg.simops.o2_pid.p = 1.5\n",
    "    cfg.simops.o2_pid.i = 150\n",
    "    cfg.simops.o2_pid.amax = 100\n",
    "    cfg.simops.o2_pid.deadband = 0\n",
    "    cfg.simops.o2_pid.beta = 0\n",
    "    cfg.simops.o2_pid.man_request = 10\n",
    "\n",
    "    cfg.simops.n2_pid.p = -3\n",
    "    cfg.simops.n2_pid.i = 50\n",
    "    cfg.simops.n2_pid.amax = 90\n",
    "    cfg.simops.n2_pid.deadband = 0\n",
    "    cfg.simops.n2_pid.beta = 0\n",
    "    cfg.simops.n2_pid.man_request = 10\n",
    "    cfg.simops.delay=0*minutes\n",
    "\n",
    "    cfg.update_interval = 50\n",
    "    cfg.time_factor = 200\n",
    "\n",
    "    cfg.simops.initial_pv = 100\n",
    "    cfg.simops.set_point = 100\n",
    "\n",
    "    cfg.xwindow_hrs = 10\n",
    "\n",
    "    root = TkQuitHack()\n",
    "    root.wm_title(\"DO Simulation\")\n",
    "    #root.geometry(\"%dx%d\"%(600, 800))\n",
    "    f = PIDSimFrame(root, cfg)\n",
    "    f.pack()\n",
    "    root.mainloop()"
   ]
  },
  {
   "cell_type": "code",
   "execution_count": 212,
   "metadata": {
    "collapsed": false
   },
   "outputs": [
    {
     "name": "stdout",
     "output_type": "stream",
     "text": [
      "State Value Updated: pv 50.0 \n",
      "State Value Updated: pv 100.0 \n",
      "Advancing simulation 3600 seconds...\n",
      "Advancing simulation 3600 seconds...\n",
      "Advancing simulation 3600 seconds...\n",
      "Advancing simulation 3600 seconds...\n",
      "Advancing simulation 3600 seconds...\n",
      "Advancing simulation 3600 seconds...\n",
      "Advancing simulation 3600 seconds...\n",
      "Advancing simulation 3600 seconds...\n",
      "Advancing simulation 3600 seconds...\n",
      "Advancing simulation 3600 seconds...\n",
      "Advancing simulation 3600 seconds...\n",
      "Advancing simulation 3600 seconds...\n",
      "Advancing simulation 3600 seconds...\n",
      "Advancing simulation 3600 seconds...\n",
      "Advancing simulation 3600 seconds...\n",
      "Advancing simulation 3600 seconds...\n",
      "Advancing simulation 3600 seconds...\n",
      "Advancing simulation 3600 seconds...\n",
      "Advancing simulation 3600 seconds...\n",
      "Advancing simulation 3600 seconds...\n",
      "Advancing simulation 3600 seconds...\n",
      "State Value Updated: sp 50.0 \n",
      "TIMEFACTOR_CHANGED : 0.0\n"
     ]
    }
   ],
   "source": [
    "run4()"
   ]
  },
  {
   "cell_type": "code",
   "execution_count": null,
   "metadata": {
    "collapsed": true
   },
   "outputs": [],
   "source": []
  }
 ],
 "metadata": {
  "kernelspec": {
   "display_name": "Python 3",
   "language": "python",
   "name": "python3"
  },
  "language_info": {
   "codemirror_mode": {
    "name": "ipython",
    "version": 3
   },
   "file_extension": ".py",
   "mimetype": "text/x-python",
   "name": "python",
   "nbconvert_exporter": "python",
   "pygments_lexer": "ipython3",
   "version": "3.5.2"
  }
 },
 "nbformat": 4,
 "nbformat_minor": 1
}
