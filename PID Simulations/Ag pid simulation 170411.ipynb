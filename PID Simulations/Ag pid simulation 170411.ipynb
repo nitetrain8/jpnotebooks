{
 "cells": [
  {
   "cell_type": "code",
   "execution_count": 10,
   "metadata": {
    "collapsed": true
   },
   "outputs": [],
   "source": [
    "from hello.pid.lvpid import PIDController\n",
    "from hello.pid.delay import *"
   ]
  },
  {
   "cell_type": "code",
   "execution_count": 18,
   "metadata": {
    "collapsed": true
   },
   "outputs": [],
   "source": [
    "from math import sin, pi\n",
    "\n",
    "def rad_s(rpm):\n",
    "    return rpm*2*pi/60\n",
    "\n",
    "\n",
    "class AgMechanism():\n",
    "    def __init__(self):\n",
    "        self._hall_effect_loc = 280 * pi / 180  # approx\n",
    "        self._hall_effect_radius = 10 * pi / 180\n",
    "\n",
    "\n",
    "class AgProcess():\n",
    "    def __init__(self, m=1/2.76, b=0, delay=3, op=0, pv=0, pamplitude=0.01, pperiod=30, ag_min=3):\n",
    "        self.delay = DelayBuffer(delay, pv).cycle\n",
    "        self.m = m\n",
    "        self.b = b\n",
    "        self.x = self.t = 0\n",
    "        self.pamplitude = pamplitude\n",
    "        self.pperiod = pperiod or 1\n",
    "        self.pv = 0\n",
    "        self.ag_min = ag_min\n",
    "\n",
    "    def step(self, op):\n",
    "        self.x += 1\n",
    "        self.t += 1\n",
    "        if self.x >= self.pperiod:\n",
    "            self.x = 0\n",
    "        m = self.m\n",
    "        f = sin(self.x*2*pi/self.pperiod)*self.pamplitude + 1\n",
    "        m *= f\n",
    "        op = self.delay(op)\n",
    "        self.pv = m*op + self.b\n",
    "        if self.pv < self.ag_min:\n",
    "            return 0\n",
    "        return self.pv\n",
    "\n",
    "    def step(self, op):\n",
    "        self.pv = self.m * op + self.b\n",
    "        return max(self.ag_min, self.delay(self.pv))"
   ]
  },
  {
   "cell_type": "code",
   "execution_count": 4,
   "metadata": {
    "collapsed": true
   },
   "outputs": [],
   "source": [
    "def ag_sim(p,i,d,end,delay=3, op=0,pv=0,sp=8, amp=0.05, per=180):\n",
    "    pid = PIDController(p,(i),d,100,0)\n",
    "    pid.man_to_auto(pv, sp, op)\n",
    "    proc = AgProcess(delay=delay, pamplitude=amp, pperiod=per)\n",
    "    t = 0\n",
    "    data = [(t, pv, op)]\n",
    "    while True:\n",
    "        t += 1\n",
    "        if t < 15:\n",
    "            pv = 0\n",
    "        op = pid.step(pv, sp)\n",
    "        data.append((t, pv, op))\n",
    "        pv = proc.step(op)\n",
    "        if t >= end: break\n",
    "    return data"
   ]
  },
  {
   "cell_type": "code",
   "execution_count": 4,
   "metadata": {
    "collapsed": false
   },
   "outputs": [
    {
     "name": "stdout",
     "output_type": "stream",
     "text": [
      "Using matplotlib backend: TkAgg\n"
     ]
    }
   ],
   "source": [
    "%matplotlib\n",
    "import matplotlib.pyplot as plt\n",
    "fig = plt.figure()\n",
    "ax1 = fig.add_subplot(211)\n",
    "ax2 = fig.add_subplot(212)"
   ]
  },
  {
   "cell_type": "code",
   "execution_count": 27,
   "metadata": {
    "collapsed": false
   },
   "outputs": [
    {
     "data": {
      "text/plain": [
       "(0, 180)"
      ]
     },
     "execution_count": 27,
     "metadata": {},
     "output_type": "execute_result"
    }
   ],
   "source": [
    "def ag_sim2(p,i,d,end,delay=3, op=0,pv=0,sp=8, amp=0.05, per=180):\n",
    "    global pid, proc\n",
    "    pid = PIDController(p,i,d,100,0,0)\n",
    "    pid.off_to_auto(pv, sp)\n",
    "    proc = AgProcess(59/100, 0, delay=delay, pv=pv,pamplitude=0, pperiod=1)\n",
    "    t = 0\n",
    "    data = [(t, pv, op)]\n",
    "    while True:\n",
    "        op = pid.step(pv, sp)\n",
    "        data.append((t, pv, op))\n",
    "        pv = proc.step(op)\n",
    "        if t >= end: break\n",
    "        t += 1\n",
    "    return data\n",
    "\n",
    "data = ag_sim2(.1, 0.008, 0, 180, 4, 0, 0, 12)\n",
    "t, pv, op = list(zip(*data))\n",
    "ax1.clear()\n",
    "ax2.clear()\n",
    "ax1.scatter(t, pv, label=\"PV\")\n",
    "ax2.scatter(t, op, label=\"OP\")\n",
    "ax1.set_xlim(0, 180)\n",
    "\n",
    "ax2.set_xlim(0, 180)"
   ]
  },
  {
   "cell_type": "code",
   "execution_count": 6,
   "metadata": {
    "collapsed": true
   },
   "outputs": [],
   "source": [
    "from pysrc.snippets import OptionCategory\n",
    "\n",
    "class PIDOps(OptionCategory):\n",
    "    p = 2\n",
    "    i = 1\n",
    "    d = 0\n",
    "    beta = 0\n",
    "    alpha = -1\n",
    "    linearity = 1\n",
    "    gamma = 0\n",
    "    auto_max = 100\n",
    "    auto_min = 10\n",
    "\n",
    "class SimOps(OptionCategory):\n",
    "    pid = PIDOps()\n",
    "    minimum = 3\n",
    "    "
   ]
  },
  {
   "cell_type": "code",
   "execution_count": 7,
   "metadata": {
    "collapsed": true
   },
   "outputs": [],
   "source": [
    "import sys\n",
    "_g_axes = []\n",
    "def mk_axes():\n",
    "    global _g_axes\n",
    "    _g_axes = []\n",
    "    i = 1\n",
    "    while True:\n",
    "        try:\n",
    "            ax = globals()['ax' + str(i)]\n",
    "        except KeyError:\n",
    "            break\n",
    "        else:\n",
    "            _g_axes.append(ax)\n",
    "        i += 1\n",
    "\n",
    "def axes():\n",
    "    return _g_axes"
   ]
  },
  {
   "cell_type": "code",
   "execution_count": 14,
   "metadata": {
    "collapsed": true
   },
   "outputs": [],
   "source": [
    "def setup1(new=False):\n",
    "    global fig, ax1, ax2, ax3, ax4, ax5, ax6\n",
    "    \n",
    "    if not plt.get_fignums() or new:\n",
    "        fig = plt.figure()\n",
    "        ax1 = fig.add_subplot(2,1,1)\n",
    "        #ax5 = fig.add_subplot(3,2,5)\n",
    "        #ax3 = fig.add_subplot(3,2,3)\n",
    "        #ax4 = fig.add_subplot(3,2,4)\n",
    "        ax2 = fig.add_subplot(2,1,2)\n",
    "        #ax6 = fig.add_subplot(3,2,6)\n",
    "        mk_axes()\n",
    "        for a in ax1,: # ax3, ax5:\n",
    "            b = a.get_position()\n",
    "            a.set_position([b.x0, b.y0, b.width*0.8, b.height])\n",
    "            a.grid()\n",
    "        for a in ax2,: # ax4, ax6:\n",
    "            b = a.get_position()\n",
    "            a.set_position([b.x0+0.1, b.y0, b.width*0.8, b.height])\n",
    "            a.grid()\n",
    "    else:\n",
    "        for a in axes():\n",
    "            a.clear()\n",
    "            a.grid()\n",
    "        for t in fig.texts:\n",
    "            t.remove()\n",
    "    \n",
    "    global colors, color\n",
    "    colors = [\n",
    "        \"blue\",\n",
    "        \"red\",\n",
    "        \"green\",\n",
    "        \"cyan\",\n",
    "        \"purple\",\n",
    "        \"orange\",\n",
    "        \"black\"\n",
    "    ]\n",
    "\n",
    "    import itertools\n",
    "    color = itertools.cycle(colors).__next__\n",
    "    \n"
   ]
  },
  {
   "cell_type": "code",
   "execution_count": 16,
   "metadata": {
    "collapsed": false
   },
   "outputs": [
    {
     "data": {
      "text/plain": [
       "(0, 180)"
      ]
     },
     "execution_count": 16,
     "metadata": {},
     "output_type": "execute_result"
    }
   ],
   "source": [
    "setup1()\n",
    "def ag_sim2(p,i,d,end,delay=3, op=0,pv=0,sp=8, amp=0.05, per=180):\n",
    "    global pid, proc\n",
    "    pid = PIDController(p,i,d,100,0,0)\n",
    "    pid.off_to_auto(pv, sp)\n",
    "    proc = AgProcess(55/100, 0, delay=delay, pv=pv,pamplitude=0, pperiod=1)\n",
    "    t = 0\n",
    "    data = [(t, pv, op)]\n",
    "    while True:\n",
    "        op = pid.step(pv, sp)\n",
    "        data.append((t, pv, op))\n",
    "        pv = proc.step(op)\n",
    "        if t >= end: break\n",
    "        t += 1\n",
    "    return data\n",
    "\n",
    "data = ag_sim2(.1, 0.01, 0, 180, 4, 0, 0, 12)\n",
    "t, pv, op = list(zip(*data))\n",
    "ax1.clear()\n",
    "ax2.clear()\n",
    "ax1.scatter(t, pv, label=\"PV\")\n",
    "ax2.scatter(t, op, label=\"OP\")\n",
    "ax1.set_xlim(0, 180)\n",
    "\n",
    "ax2.set_xlim(0, 180)"
   ]
  },
  {
   "cell_type": "code",
   "execution_count": null,
   "metadata": {
    "collapsed": true
   },
   "outputs": [],
   "source": []
  }
 ],
 "metadata": {
  "kernelspec": {
   "display_name": "Python 3",
   "language": "python",
   "name": "python3"
  },
  "language_info": {
   "codemirror_mode": {
    "name": "ipython",
    "version": 3
   },
   "file_extension": ".py",
   "mimetype": "text/x-python",
   "name": "python",
   "nbconvert_exporter": "python",
   "pygments_lexer": "ipython3",
   "version": "3.5.2"
  }
 },
 "nbformat": 4,
 "nbformat_minor": 1
}
