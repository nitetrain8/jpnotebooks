{
 "cells": [
  {
   "cell_type": "code",
   "execution_count": 1,
   "metadata": {
    "collapsed": true
   },
   "outputs": [],
   "source": [
    "from hello.pid.lvpid import PIDController\n",
    "from hello.pid.delay import *"
   ]
  },
  {
   "cell_type": "code",
   "execution_count": 2,
   "metadata": {
    "collapsed": false
   },
   "outputs": [],
   "source": [
    "from officelib.xllib import *\n",
    "xl = Excel()\n",
    "\n",
    "wb = xl.ActiveWorkbook\n",
    "wb = wb or xl.Workbooks.Add()\n",
    "\n",
    "ws = xl.ActiveSheet\n",
    "ws = ws or wb.Worksheets.Add()\n",
    "\n",
    "cells = ws.Cells\n",
    "cell_range = ws.Cells.Range"
   ]
  },
  {
   "cell_type": "code",
   "execution_count": 8,
   "metadata": {
    "collapsed": true
   },
   "outputs": [],
   "source": [
    "from math import sin, pi\n",
    "class AgProcess():\n",
    "    def __init__(self, m=1/2.76, b=0, delay=3, op=0, pv=0, pamplitude=0.01, pperiod=30, ag_min=3):\n",
    "        self.delay = DelayBuffer(delay, pv).cycle\n",
    "        self.m = m\n",
    "        self.b = b\n",
    "        self.x = self.t = 0\n",
    "        self.pamplitude = pamplitude\n",
    "        self.pperiod = pperiod or 1\n",
    "        self.pv = 0\n",
    "        self.ag_min = ag_min\n",
    "        \n",
    "        \n",
    "    def step(self, op):\n",
    "        self.x += 1\n",
    "        self.t += 1\n",
    "        if self.x >= self.pperiod:\n",
    "            self.x = 0\n",
    "        m = self.m\n",
    "        f = sin(self.x*2*pi/self.pperiod)*self.pamplitude + 1\n",
    "        m *= f\n",
    "        op = self.delay(op)\n",
    "        self.pv = m*op + self.b\n",
    "        if self.pv < self.ag_min:\n",
    "            return 0\n",
    "        return self.pv\n",
    "    \n",
    "    def step(self, op):\n",
    "        self.pv = self.m * op + self.b\n",
    "        return max(self.ag_min, self.delay(self.pv))"
   ]
  },
  {
   "cell_type": "code",
   "execution_count": 4,
   "metadata": {
    "collapsed": true
   },
   "outputs": [],
   "source": [
    "def ag_sim(p,i,d,end,delay=3, op=0,pv=0,sp=8, amp=0.05, per=180):\n",
    "    pid = PIDController(p,(i),d,100,0)\n",
    "    pid.man_to_auto(pv, sp, op)\n",
    "    proc = AgProcess(delay=delay, pamplitude=amp, pperiod=per)\n",
    "    t = 0\n",
    "    data = [(t, pv, op)]\n",
    "    while True:\n",
    "        t += 1\n",
    "        if t < 15:\n",
    "            pv = 0\n",
    "        op = pid.step(pv, sp)\n",
    "        data.append((t, pv, op))\n",
    "        pv = proc.step(op)\n",
    "        if t >= end: break\n",
    "    return data"
   ]
  },
  {
   "cell_type": "code",
   "execution_count": null,
   "metadata": {
    "collapsed": true
   },
   "outputs": [],
   "source": []
  },
  {
   "cell_type": "code",
   "execution_count": 5,
   "metadata": {
    "collapsed": false
   },
   "outputs": [],
   "source": [
    "def paste(cells, data):\n",
    "    cells.Range(cells(1,1), cells(1, 3)).Value = [(\"T\", \"PV\", \"OP\")]\n",
    "    topleft = cells(2,1)\n",
    "    bottomright = topleft.Offset(len(data), len(data[0]))\n",
    "    cells.Range(topleft, bottomright).Clear()\n",
    "    cells.Range(topleft, bottomright).Value = data\n",
    "\n",
    "def clear(cells, data):\n",
    "    topleft = cells(2,1)\n",
    "    bottomright = topleft.Offset(len(data), len(data[0]))\n",
    "    cells.Range(topleft, bottomright).Clear()\n",
    "    "
   ]
  },
  {
   "cell_type": "code",
   "execution_count": null,
   "metadata": {
    "collapsed": false
   },
   "outputs": [],
   "source": [
    "clear(cells, data)\n",
    "data = ag_sim(0.3, 0.02, 0, 180, 10, 0, 0, 8, 0.005*0, 50)\n",
    "paste(cells, data)"
   ]
  },
  {
   "cell_type": "code",
   "execution_count": null,
   "metadata": {
    "collapsed": true
   },
   "outputs": [],
   "source": [
    "data = ag_sim(0.1, 0.01, 0, 180, 4, 0, 0, 12, 0.005, 50)\n",
    "paste(cells, data)"
   ]
  },
  {
   "cell_type": "code",
   "execution_count": 24,
   "metadata": {
    "collapsed": false
   },
   "outputs": [
    {
     "name": "stdout",
     "output_type": "stream",
     "text": [
      "Using matplotlib backend: TkAgg\n"
     ]
    }
   ],
   "source": [
    "%matplotlib\n",
    "import matplotlib.pyplot as plt\n",
    "fig = plt.figure()\n",
    "ax1 = fig.add_subplot(211)\n",
    "ax2 = fig.add_subplot(212)"
   ]
  },
  {
   "cell_type": "code",
   "execution_count": 27,
   "metadata": {
    "collapsed": false
   },
   "outputs": [
    {
     "data": {
      "text/plain": [
       "(0, 180)"
      ]
     },
     "execution_count": 27,
     "metadata": {},
     "output_type": "execute_result"
    }
   ],
   "source": [
    "def ag_sim2(p,i,d,end,delay=3, op=0,pv=0,sp=8, amp=0.05, per=180):\n",
    "    global pid, proc\n",
    "    pid = PIDController(p,i,d,100,0,0)\n",
    "    pid.off_to_auto(pv, sp)\n",
    "    proc = AgProcess(59/100, 0, delay=delay, pv=pv,pamplitude=0, pperiod=1)\n",
    "    t = 0\n",
    "    data = [(t, pv, op)]\n",
    "    while True:\n",
    "        op = pid.step(pv, sp)\n",
    "        data.append((t, pv, op))\n",
    "        pv = proc.step(op)\n",
    "        if t >= end: break\n",
    "        t += 1\n",
    "    return data\n",
    "\n",
    "data = ag_sim2(.1, 0.008, 0, 180, 4, 0, 0, 12)\n",
    "t, pv, op = list(zip(*data))\n",
    "ax1.clear()\n",
    "ax2.clear()\n",
    "ax1.scatter(t, pv, label=\"PV\")\n",
    "ax2.scatter(t, op, label=\"OP\")\n",
    "ax1.set_xlim(0, 180)\n",
    "\n",
    "ax2.set_xlim(0, 180)"
   ]
  },
  {
   "cell_type": "code",
   "execution_count": null,
   "metadata": {
    "collapsed": true
   },
   "outputs": [],
   "source": []
  }
 ],
 "metadata": {
  "kernelspec": {
   "display_name": "Python 3",
   "language": "python",
   "name": "python3"
  },
  "language_info": {
   "codemirror_mode": {
    "name": "ipython",
    "version": 3
   },
   "file_extension": ".py",
   "mimetype": "text/x-python",
   "name": "python",
   "nbconvert_exporter": "python",
   "pygments_lexer": "ipython3",
   "version": "3.5.2"
  }
 },
 "nbformat": 4,
 "nbformat_minor": 1
}
