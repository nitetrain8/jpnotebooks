{
 "cells": [
  {
   "cell_type": "code",
   "execution_count": 3,
   "metadata": {},
   "outputs": [
    {
     "name": "stdout",
     "output_type": "stream",
     "text": [
      "Using matplotlib backend: TkAgg\n"
     ]
    }
   ],
   "source": [
    "import numpy as np\n",
    "from hello.pid.lvpid import PIDController\n",
    "from hello.pid.delay import seconds, minutes, hours, days, m2s, s2m, h2s, DelayBuffer, DelaySink\n",
    "from hello.pid.gas_process import HeadspaceProcess, GasController\n",
    "from hello.pid.do_simulation.doprocess import DOProcess, AIR_CNO\n",
    "\n",
    "from hello.pid.do_simulation.options import SimOps, SimConfig\n",
    "from hello.pid.picker import mk_picker\n",
    "from hello.pid.do_simulation.sim_window import PIDSimFrame\n",
    "from hello.pid.ui import TkQuitHack\n",
    "from hello.pid.do_simulation.do_sim import do_sim_coroutine, do_sim\n",
    "from matplotlib.ticker import MultipleLocator, FormatStrFormatter, FuncFormatter\n",
    "%matplotlib\n",
    "from matplotlib import pyplot as plt"
   ]
  },
  {
   "cell_type": "markdown",
   "metadata": {},
   "source": [
    "### Copy this template to ensure all sim options are set correctly"
   ]
  },
  {
   "cell_type": "code",
   "execution_count": 4,
   "metadata": {},
   "outputs": [
    {
     "data": {
      "text/plain": [
       "68.57279236276851"
      ]
     },
     "execution_count": 4,
     "metadata": {},
     "output_type": "execute_result"
    }
   ],
   "source": [
    "ops = SimOps()\n",
    "ops.o2_pid.p = 2\n",
    "ops.o2_pid.i = 10\n",
    "ops.o2_pid.d = 0\n",
    "ops.o2_pid.amax = 100\n",
    "ops.o2_pid.amin = 0\n",
    "ops.o2_pid.beta = 1\n",
    "ops.o2_pid.linearity = 1\n",
    "ops.o2_pid.alpha = -1\n",
    "\n",
    "ops.n2_pid.p = 5\n",
    "ops.n2_pid.i = 5\n",
    "ops.n2_pid.d = 0\n",
    "ops.n2_pid.amax = 90\n",
    "ops.n2_pid.amin = 0\n",
    "ops.n2_pid.beta = 1\n",
    "ops.n2_pid.linearity = 1\n",
    "ops.n2_pid.alpha = -1\n",
    "\n",
    "ops.mfcs.co2_max = 1\n",
    "ops.mfcs.o2_max = 10\n",
    "ops.mfcs.n2_max = 10\n",
    "ops.mfcs.air_max = 10\n",
    "\n",
    "ops.plots.xscale = 'auto'\n",
    "ops.plots.xmin = 0\n",
    "ops.plots.xmax = 72\n",
    "ops.plots.xscale_factor = 3600\n",
    "\n",
    "ops.delay = 0\n",
    "ops.end = 10000\n",
    "ops.initial_actual_cno = AIR_CNO\n",
    "ops.initial_request_cno = (0.07, 0, 0)\n",
    "ops.initial_pv = 90\n",
    "ops.set_point = 40\n",
    "ops.set_point_deadband = 1\n",
    "ops.k_mult = 1.1\n",
    "ops.k = DOProcess.default_k\n",
    "ops.c = None\n",
    "ops.dc = 0\n",
    "ops.d2c = 0\n",
    "ops.mode = \"o2a\"\n",
    "ops.main_gas = 1.0\n",
    "ops.reactor_size = 80\n",
    "ops.reactor_volume = 55\n",
    "ops.time_unit = hours\n",
    "ops.max_iters = 3 * days\n",
    "\n",
    "# Maximum value of c that O2 controller can sustain for a given k\n",
    "ops.k*ops.k_mult*(100/20.95)*100"
   ]
  },
  {
   "cell_type": "code",
   "execution_count": 5,
   "metadata": {
    "collapsed": true
   },
   "outputs": [],
   "source": [
    "# O2 needs an extra padding space because the negative sign\n",
    "# for N2 pgain doesn't count, i guesss\n",
    "def fmt_float(f):\n",
    "    if not f:\n",
    "        return \"0\"\n",
    "    f = str(f)\n",
    "    if \".\" not in f:\n",
    "        return f\n",
    "    else:\n",
    "        f = f.strip(\"0\")\n",
    "        if f[-1] == \".\":\n",
    "            f = f[:-1]\n",
    "        if f[0] == \".\":\n",
    "            f = \"0\" + f\n",
    "    return f\n",
    "def get_text(ops):\n",
    "\n",
    "    text = \\\n",
    "\"\"\"\n",
    "O2: P=%3d  I=%5d  Initial PV: %3d  k: %.4f/hr (%sx Est.)\n",
    "N2: P=%3d  I=%4d  Set Point:  %3d  c: %s%%/hr\n",
    "\n",
    " \"\"\" % (ops.o2_pid.p, ops.o2_pid.i,ops.initial_pv, ops.k*ops.k_mult, fmt_float(ops.k_mult),\n",
    "        ops.n2_pid.p, ops.n2_pid.i, ops.set_point, fmt_float(ops.c))\n",
    "    text = text.strip()\n",
    "    return text"
   ]
  },
  {
   "cell_type": "code",
   "execution_count": 6,
   "metadata": {
    "collapsed": true
   },
   "outputs": [],
   "source": [
    "k_80L = 0.1306\n",
    "k_15L = 0.19314\n",
    "k_3L  = 0.24286"
   ]
  },
  {
   "cell_type": "code",
   "execution_count": 8,
   "metadata": {
    "collapsed": true
   },
   "outputs": [],
   "source": [
    "def np_unpack(l):\n",
    "    return [np.array(data) for data in list(zip(*l))]"
   ]
  },
  {
   "cell_type": "markdown",
   "metadata": {},
   "source": [
    "# 3L DO Tuning and Characterization"
   ]
  },
  {
   "cell_type": "markdown",
   "metadata": {},
   "source": [
    "### 3L Basic Options"
   ]
  },
  {
   "cell_type": "code",
   "execution_count": 9,
   "metadata": {
    "collapsed": true
   },
   "outputs": [],
   "source": [
    "ops = SimOps()\n",
    "ops.o2_pid.p = 2\n",
    "ops.o2_pid.i = 40\n",
    "ops.o2_pid.d = 0\n",
    "ops.o2_pid.amax = 100\n",
    "ops.o2_pid.amin = 0\n",
    "ops.o2_pid.beta = 0\n",
    "ops.o2_pid.linearity = 1\n",
    "ops.o2_pid.alpha = -1\n",
    "\n",
    "ops.n2_pid.p = -5\n",
    "ops.n2_pid.i = 40\n",
    "ops.n2_pid.d = 0\n",
    "ops.n2_pid.amax = 90\n",
    "ops.n2_pid.amin = 0\n",
    "ops.n2_pid.beta = 0\n",
    "ops.n2_pid.linearity = 1\n",
    "ops.n2_pid.alpha = -1\n",
    "\n",
    "ops.mfcs.co2_max = .1\n",
    "ops.mfcs.o2_max = .5\n",
    "ops.mfcs.n2_max = .5\n",
    "ops.mfcs.air_max = .5\n",
    "\n",
    "ops.plots.xscale = 'auto'\n",
    "ops.plots.xmin = 0\n",
    "ops.plots.xmax = 72\n",
    "ops.plots.xscale_factor = 3600\n",
    "\n",
    "ops.delay = 0\n",
    "ops.end = 12*hours\n",
    "ops.initial_actual_cno = AIR_CNO\n",
    "ops.initial_request_cno = (0.07, 0, 0)\n",
    "ops.initial_pv = 100\n",
    "ops.set_point = 50\n",
    "ops.set_point_deadband = 1\n",
    "ops.k_mult = 1\n",
    "ops.k = k_3L\n",
    "ops.c = None\n",
    "ops.dc = 0\n",
    "ops.d2c = 0\n",
    "ops.mode = \"o2a\"\n",
    "ops.main_gas = 0.2\n",
    "ops.reactor_size = 3\n",
    "ops.reactor_volume = 2.5\n",
    "ops.time_unit = hours\n",
    "ops.max_iters = 3 * days"
   ]
  },
  {
   "cell_type": "markdown",
   "metadata": {
    "collapsed": true
   },
   "source": [
    "### 3L Graphs for Report"
   ]
  },
  {
   "cell_type": "code",
   "execution_count": 10,
   "metadata": {
    "collapsed": true
   },
   "outputs": [],
   "source": [
    "ax_list2 = []\n",
    "fig = None\n",
    "\n",
    "def axes():\n",
    "    return ax_list2\n",
    "\n",
    "def setup2(new=False):\n",
    "    global fig, ax1, ax2, ax3, ax4, ax5, ax6\n",
    "    global ax_list2\n",
    "    \n",
    "    if not plt.get_fignums() or new or not fig:\n",
    "        fig = plt.figure()\n",
    "        ax1 = fig.add_subplot(1,1,1)\n",
    "        #ax2 = fig.add_subplot(2,1,2)\n",
    "        ax2 = ax1.twinx()\n",
    "        ax_list2 = [ax1, ax2]\n",
    "        for a in axes():\n",
    "            b = a.get_position()\n",
    "            a.set_position([b.x0, b.y0+.1, b.width*.95, b.height*.9])\n",
    "            a.grid()\n",
    "    else:\n",
    "        for a in axes():\n",
    "            a.clear()\n",
    "            a.grid()\n",
    "        for t in fig.texts:\n",
    "            t.remove()\n",
    "    \n",
    "    \n",
    "    global colors, color\n",
    "    colors = [\n",
    "        \"blue\",\n",
    "        \"red\",\n",
    "        \"green\",\n",
    "        \"cyan\",\n",
    "        \"purple\",\n",
    "        \"orange\",\n",
    "        \"black\"\n",
    "    ]\n",
    "\n",
    "    import itertools\n",
    "    color = itertools.cycle(colors).__next__\n",
    "    \n",
    "def test2(ops):\n",
    "    d1, d2, d3 = do_sim(ops)\n",
    "    x, pv, _, _, n2, o2, *_, o2a = np_unpack(d1)\n",
    "    return x,pv, n2, o2, o2a*100/0.21\n",
    "\n",
    "def _p1(ax, x, y, color, label, ylabel=None):\n",
    "    ax.plot(x,y, color=color, label=label)\n",
    "    if ylabel:\n",
    "        ax.set_ylabel(ylabel)\n",
    "\n",
    "def plot2(x, pv, n2, o2, o2a):\n",
    "    c = color()\n",
    "    _p1(ax1, x, pv, \"blue\", \"pv\", \"DO (%)\")\n",
    "    _p1(ax2, x, o2, \"green\", \"O2\", \"Gas Flow (%)\")\n",
    "    _p1(ax2, x, n2, \"red\", \"N2\")\n",
    "    #_p1(ax3, x, pv, \"blue\", \"pv\", \"DO (%)\")\n",
    "    #_p1(ax3, x, o2a, \"red\", \"hs\")\n",
    "    \n",
    "    ax1.axhline(y=ops.set_point, ls=\"--\", color=\"black\")\n",
    "    ax1.axhline(y=ops.set_point-ops.set_point_deadband, ls=\"--\", color=\"black\", lw=0.5)\n",
    "    ax1.axhline(y=ops.set_point+ops.set_point_deadband, ls=\"--\", color=\"black\", lw=0.5)\n",
    "    ax1.yaxis.set_major_formatter(FormatStrFormatter(\"%d%%\"))\n",
    "    ax2.yaxis.set_major_formatter(FuncFormatter(lambda y, _: \"%d%%\"%(y*100)))\n",
    "    \n",
    "    h = []\n",
    "    l = []\n",
    "    for a in axes():\n",
    "        a.xaxis.set_major_locator(MultipleLocator(1))\n",
    "        h_, l_ = a.get_legend_handles_labels()\n",
    "        h.extend(h_)\n",
    "        l.extend(l_)\n",
    "    ax1.legend(h, l, loc=\"center\", ncol=3, bbox_to_anchor=(0.5, -.18))\n",
    "    \n",
    "    ax1.set_xlabel(\"Time (hr)\")\n",
    "    \n",
    "    fig.canvas.flush_events()\n",
    "    fig.canvas.draw()\n",
    "    \n",
    "def finish2():\n",
    "    for a in axes():\n",
    "        if a.legend_:\n",
    "            mk_picker(fig, a)\n",
    "    \n",
    "def run2(ops):\n",
    "    x, pv, n2, o2, o2a = test2(ops)\n",
    "    plot2(x, pv, n2, o2, o2a)\n",
    "    finish2()"
   ]
  },
  {
   "cell_type": "markdown",
   "metadata": {},
   "source": [
    "#### Export figures for report"
   ]
  },
  {
   "cell_type": "code",
   "execution_count": 21,
   "metadata": {},
   "outputs": [
    {
     "data": {
      "image/png": "[encoded data removed]",
      "text/plain": [
       "<matplotlib.figure.Figure at 0x1c72ec77588>"
      ]
     },
     "execution_count": 21,
     "metadata": {},
     "output_type": "execute_result"
    }
   ],
   "source": [
    "setup2()\n",
    "ops.initial_request_cno = (0, 0, 0)\n",
    "ops.initial_actual_cno = (0.0004, .78, .21)\n",
    "ops.set_point = 150\n",
    "ops.initial_pv = 100\n",
    "ops.end = 12*hours\n",
    "\n",
    "# Slower\n",
    "ops.o2_pid.p = o2p = 4\n",
    "ops.o2_pid.i = o2i = 55\n",
    "ops.n2_pid.p = n2p = -20\n",
    "ops.n2_pid.i = n2i = 40\n",
    "\n",
    "ops.k_mult = 1\n",
    "run2(ops)\n",
    "ax1.set_xlim(0, 12)\n",
    "ax1.set_ylim(140, 160)\n",
    "a,b = ax2.set_ylim()\n",
    "ax1.yaxis.set_major_locator(MultipleLocator(2))\n",
    "ax2.set_ylim(0, 1)\n",
    "ax1.set_title(\"Ramp Up 100% to 150%\")\n",
    "ax1.text(.7, .91, \"O\\u2082  P:%.1f I:%3d\\nN\\u2082  P:%3d I:%3d\"%(o2p, o2i, n2p, n2i), transform=fig.transFigure)\n",
    "path = 'C:\\\\PBSCloudStation\\\\(2) R&D-Product Engineering\\\\Software Development\\\\3.0 Project\\\\Phase 2 Working Copy\\\\IE00005 PID Tuning\\\\IE00005-06 DO\\\\Raw Data'\n",
    "fig.savefig(path+\"\\\\3L ramp up new 170728.png\")\n",
    "fig"
   ]
  },
  {
   "cell_type": "code",
   "execution_count": 23,
   "metadata": {},
   "outputs": [
    {
     "data": {
      "image/png": "[encoded data removed]",
      "text/plain": [
       "<matplotlib.figure.Figure at 0x1c72ec77588>"
      ]
     },
     "execution_count": 23,
     "metadata": {},
     "output_type": "execute_result"
    }
   ],
   "source": [
    "setup2()\n",
    "ops.set_point = 50\n",
    "ops.initial_pv = 100\n",
    "ops.initial_request_cno = (0, 0, 0)\n",
    "ops.initial_actual_cno = (0.0004, .78, .21)\n",
    "\n",
    "# Slower\n",
    "ops.o2_pid.p = o2p = 4\n",
    "ops.o2_pid.i = o2i = 55\n",
    "ops.n2_pid.p = n2p = -20\n",
    "ops.n2_pid.i = n2i = 40\n",
    "ops.n2_pid.amax = 100\n",
    "\n",
    "ops.k_mult = 1\n",
    "run2(ops)\n",
    "ax1.set_xlim(0, 12)\n",
    "ax1.set_ylim(40, 60)\n",
    "ax2.set_ylim(0, 1)\n",
    "ax1.yaxis.set_major_locator(MultipleLocator(2))\n",
    "ax1.set_title(\"Ramp Down 100% to 50%\")\n",
    "ax1.text(.7, .91, \"O\\u2082  P:%.1f I:%3d\\nN\\u2082  P:%3d I:%3d\"%(o2p, o2i, n2p, n2i), transform=fig.transFigure)\n",
    "path = 'C:\\\\PBSCloudStation\\\\(2) R&D-Product Engineering\\\\Software Development\\\\3.0 Project\\\\Phase 2 Working Copy\\\\IE00005 PID Tuning\\\\IE00005-06 DO\\\\Raw Data'\n",
    "fig.savefig(path+\"\\\\3L ramp down new 170728.png\")\n",
    "fig"
   ]
  },
  {
   "cell_type": "markdown",
   "metadata": {},
   "source": [
    "#### More tuning....."
   ]
  },
  {
   "cell_type": "code",
   "execution_count": 65,
   "metadata": {
    "collapsed": true
   },
   "outputs": [],
   "source": [
    "def rampup(ops, x, y):\n",
    "    setup2(True)\n",
    "    ops.set_point = 150\n",
    "    ops.initial_pv = 100\n",
    "    run2(ops)\n",
    "    ax1.set_xlim(0, 12)\n",
    "    ax1.set_ylim(140, 160)\n",
    "    a,b = ax2.set_ylim()\n",
    "    ax2.set_ylim(0, b)\n",
    "    ax1.set_title(\"Ramp Up: Gradual\")\n",
    "    w=fig.canvas._tkcanvas.master\n",
    "    set_win_sz(w, x, y)\n",
    "    \n",
    "def set_win_sz(win, x,y):\n",
    "    w, h = 565,433\n",
    "    w*= 0.8\n",
    "    h *=0.8\n",
    "    win.geometry('%dx%d+%d+%d'%(w, h, x,y))\n",
    "    \n",
    "def rampdown(ops, x, y):\n",
    "    setup2(True)\n",
    "    ops.set_point = 50\n",
    "    ops.initial_pv = 100\n",
    "    run2(ops)\n",
    "    ax1.set_xlim(0, 12)\n",
    "    ax1.set_ylim(40, 60)\n",
    "    ax2.set_ylim(0, 1)\n",
    "    ax1.set_title(\"Ramp Down: Gradual\")\n",
    "    w=fig.canvas._tkcanvas.master\n",
    "    set_win_sz(w, x, y)\n",
    "    \n",
    "def rampup2(ops):\n",
    "    ops.set_point = 150\n",
    "    ops.initial_pv = 100\n",
    "    return test2(ops)\n",
    "    \n",
    "def rampdown2(ops):\n",
    "    ops.set_point = 50\n",
    "    ops.initial_pv = 100\n",
    "    return test2(ops)\n",
    "    \n",
    "def run3(ops):\n",
    "    x, pv, n2, o2, o2a = test2(ops)\n",
    "    #plot2(x, pv, n2, o2, o2a)\n",
    "    #finish2()\n",
    "    return x, pv, n2, o2, o2a\n",
    "\n",
    "def plot3(x, pv, n2, o2, o2a):\n",
    "    c = color()\n",
    "    _p1(ax1, x, pv, \"blue\", \"pv\", \"DO (%)\")\n",
    "    _p1(ax2, x, o2, \"green\", \"O2\", \"Gas Flow (%)\")\n",
    "    _p1(ax2, x, n2, \"red\", \"N2\")\n",
    "    #_p1(ax3, x, pv, \"blue\", \"pv\", \"DO (%)\")\n",
    "    #_p1(ax3, x, o2a, \"red\", \"hs\")\n",
    "    \n",
    "    ax1.axhline(y=ops.set_point, ls=\"--\", color=\"black\")\n",
    "    ax1.axhline(y=ops.set_point-ops.set_point_deadband, ls=\"--\", color=\"black\", lw=0.5)\n",
    "    ax1.axhline(y=ops.set_point+ops.set_point_deadband, ls=\"--\", color=\"black\", lw=0.5)\n",
    "    ax1.yaxis.set_major_formatter(FormatStrFormatter(\"%d%%\"))\n",
    "    ax2.yaxis.set_major_formatter(FuncFormatter(lambda y, _: \"%d%%\"%(y*100)))\n",
    "    \n",
    "    h = []\n",
    "    l = []\n",
    "    for a in axes():\n",
    "        a.xaxis.set_major_locator(MultipleLocator(1))\n",
    "        h_, l_ = a.get_legend_handles_labels()\n",
    "        h.extend(h_)\n",
    "        l.extend(l_)\n",
    "    ax1.legend(h, l, loc=\"center\", ncol=3, bbox_to_anchor=(0.5, -.18))\n",
    "    \n",
    "    ax1.set_xlabel(\"Time (hr)\")\n",
    "    \n",
    "    fig.canvas.flush_events()\n",
    "    fig.canvas.draw()"
   ]
  },
  {
   "cell_type": "code",
   "execution_count": 45,
   "metadata": {
    "collapsed": true
   },
   "outputs": [],
   "source": [
    "# Balanced?\n",
    "for i in range(100): plt.close()\n",
    "ops.o2_pid.p = 4\n",
    "ops.o2_pid.i = 70\n",
    "ops.n2_pid.p = -5\n",
    "ops.n2_pid.i = 50\n",
    "\n",
    "rampup(ops, 1932, 0)\n",
    "rampdown(ops, 2502, 0)\n",
    "\n",
    "ops.o2_pid.p = 4\n",
    "ops.o2_pid.i = 60\n",
    "ops.n2_pid.p = -5\n",
    "ops.n2_pid.i = 50\n",
    "\n",
    "rampup(ops, 1932, 500)\n",
    "rampdown(ops, 2502, 500)"
   ]
  },
  {
   "cell_type": "code",
   "execution_count": 17,
   "metadata": {
    "collapsed": true
   },
   "outputs": [],
   "source": [
    "def pid_iter():\n",
    "    def lr(a,b, s=1):\n",
    "        return list(range(a,b+s,s))\n",
    "    p  = lr(1, 10) + lr(12, 20, 2)\n",
    "    i = lr(40, 120, 5)\n",
    "    for o2p in p:\n",
    "        for n2p in p:\n",
    "            n2p = -n2p\n",
    "            for o2i in i:\n",
    "                for n2i in i:\n",
    "                    yield o2p, n2p, o2i, n2i"
   ]
  },
  {
   "cell_type": "code",
   "execution_count": 46,
   "metadata": {
    "collapsed": true
   },
   "outputs": [],
   "source": [
    "def getscore(n2, o2_2, pv, pv2):\n",
    "    pv1t = 4*hours\n",
    "    pv2t = 5*hours\n",
    "    pv_where1 = pv[pv1t:]\n",
    "    pv1_passed = np.any(np.abs(149 - pv[:pv1t]) < 1)\n",
    "    pv_where2 = pv2[pv2t:]\n",
    "    pv2_passed = np.any(np.abs(51 - pv2[:pv2t]) < 1)\n",
    "    if not (pv1_passed and pv2_passed):\n",
    "        return -1\n",
    "    score = n2.sum()**2/len(n2) + o2_2.sum()**2/len(o2_2) + (np.abs(149-pv_where1).sum()/len(pv_where1) + np.abs(51-pv_where2).sum()/len(pv_where2))*10\n",
    "    return score"
   ]
  },
  {
   "cell_type": "code",
   "execution_count": 47,
   "metadata": {},
   "outputs": [
    {
     "name": "stdout",
     "output_type": "stream",
     "text": [
      "Input OVERRIDE to continue data reset: OVERRIDE\n",
      "Resetting data!\n"
     ]
    }
   ],
   "source": [
    "o = \"OVERRIDE\"\n",
    "if 'bdata' in globals() and bdata:\n",
    "    r = input(\"Input %s to continue data reset: \"%o)\n",
    "else:\n",
    "    r = o\n",
    "    \n",
    "if r == o:\n",
    "    print(\"Resetting data!\")\n",
    "    best = None\n",
    "    nbest = 0\n",
    "    bdata = {}\n",
    "    bdata2 = {}"
   ]
  },
  {
   "cell_type": "code",
   "execution_count": 48,
   "metadata": {},
   "outputs": [
    {
     "name": "stdout",
     "output_type": "stream",
     "text": [
      "Testing 1 -1 40 40           New Best: 525.1\n",
      "Testing 1 -1 45 40            New Best: 351.6\n",
      "Testing 1 -1 50 40            New Best: 240.4\n",
      "Testing 1 -1 55 40            New Best: 172.7\n",
      "Testing 1 -1 60 40            New Best: 134.6\n",
      "Testing 1 -1 65 40            New Best: 115.1\n",
      "Testing 1 -1 70 40            New Best: 106.8\n",
      "Testing 1 -1 75 40            New Best: 105.4\n",
      "Testing 1 -1 75 60           New Best: 102.7\n",
      "Testing 1 -1 80 60            New Best: 94.7\n",
      "Testing 1 -1 85 60            New Best: 92.7\n",
      "Testing 1 -2 70 40             New Best: 72.3\n",
      "Testing 1 -2 75 40            New Best: 63.9\n",
      "Testing 1 -3 70 40             New Best: 62.5\n",
      "Testing 1 -3 75 40            New Best: 46.2\n",
      "Testing 1 -3 80 40            New Best: 43.1\n",
      "Testing 1 -4 75 40             New Best: 39.3\n",
      "Testing 1 -4 80 40            New Best: 33.2\n",
      "Testing 1 -5 80 40             New Best: 28.1\n",
      "Testing 1 -6 80 40             New Best: 25.1\n",
      "Testing 1 -6 85 40            New Best: 24.9\n",
      "Testing 1 -6 85 45           New Best: 24.8\n",
      "Testing 1 -7 80 40             New Best: 23.2\n",
      "Testing 1 -7 85 40            New Best: 22.3\n",
      "Testing 1 -7 85 45           New Best: 22.1\n",
      "Testing 1 -8 80 40             New Best: 21.9\n",
      "Testing 1 -8 85 40            New Best: 20.5\n",
      "Testing 1 -8 85 45           New Best: 20.2\n",
      "Testing 1 -9 85 40             New Best: 19.1\n",
      "Testing 1 -9 85 45           New Best: 18.8\n",
      "Testing 1 -10 85 40            New Best: 18.1\n",
      "Testing 1 -10 85 45           New Best: 17.8\n",
      "Testing 1 -12 85 40             New Best: 16.6\n",
      "Testing 1 -12 85 45           New Best: 16.4\n",
      "Testing 1 -14 85 40             New Best: 15.6\n",
      "Testing 1 -14 85 45           New Best: 15.4\n",
      "Testing 1 -16 85 40             New Best: 15.0\n",
      "Testing 1 -16 85 45           New Best: 14.7\n",
      "Testing 1 -18 85 40             New Best: 14.4\n",
      "Testing 1 -18 85 45           New Best: 14.3\n",
      "Testing 1 -20 85 40             New Best: 14.0\n",
      "Testing 1 -20 85 45           New Best: 13.9\n",
      "Testing 2 -5 60 40              New Best: 13.8\n",
      "Testing 2 -5 65 40            New Best: 13.7\n",
      "Testing 2 -6 60 40             New Best: 11.7\n",
      "Testing 2 -6 65 40            New Best: 10.4\n",
      "Testing 2 -7 65 40             New Best: 8.3\n",
      "Testing 2 -8 65 40             New Best: 6.8\n",
      "Testing 2 -9 65 40             New Best: 5.8\n",
      "Testing 2 -9 80 65            New Best: 5.5\n",
      "Testing 2 -10 65 40            New Best: 5.0\n",
      "Testing 2 -10 80 65            New Best: 4.6\n",
      "Testing 2 -12 65 40             New Best: 3.9\n",
      "Testing 2 -12 70 50            New Best: 3.9\n",
      "Testing 2 -12 75 55            New Best: 3.7\n",
      "Testing 2 -12 80 65            New Best: 3.3\n",
      "Testing 2 -14 65 40             New Best: 3.2\n",
      "Testing 2 -14 70 50            New Best: 3.2\n",
      "Testing 2 -14 75 55            New Best: 2.8\n",
      "Testing 2 -14 80 65            New Best: 2.6\n",
      "Testing 2 -16 75 55             New Best: 2.2\n",
      "Testing 2 -16 80 65            New Best: 2.1\n",
      "Testing 2 -18 75 55             New Best: 1.8\n",
      "Testing 2 -20 75 55             New Best: 1.5\n",
      "Testing 3 -14 60 45             New Best: 1.2\n",
      "Testing 3 -16 60 45             New Best: 0.9\n",
      "Testing 3 -18 60 45             New Best: 0.7\n",
      "Testing 3 -20 60 45             New Best: 0.5\n",
      "Testing 4 -20 55 40             New Best: 0.5\n",
      "Testing 20 -20 120 120           "
     ]
    }
   ],
   "source": [
    "ops.end=12*hours\n",
    "for i, params in enumerate(pid_iter()):\n",
    "    o2p, n2p, o2i, n2i = params\n",
    "    ops.o2_pid.p = o2p\n",
    "    ops.o2_pid.i = o2i\n",
    "    ops.n2_pid.p = n2p\n",
    "    ops.n2_pid.i = n2i\n",
    "    print(\"\\rTesting %d %d %d %d           \"%(o2p, n2p, o2i, n2i), end=\"\")\n",
    "    x, pv, n2, o2, o2a = rampup2(ops)\n",
    "    x2, pv2, n2_2, o2_2, o2a_2 = rampdown2(ops)\n",
    "    score = getscore(n2, o2_2, pv, pv2)\n",
    "    if best is None or score < best and score >= 0:\n",
    "        nbest += 1\n",
    "        best = score\n",
    "        print(\"New Best: %.1f\"%best)\n",
    "    bdata[params] = score\n",
    "    bdata2[i] = params\n"
   ]
  },
  {
   "cell_type": "code",
   "execution_count": 52,
   "metadata": {
    "collapsed": true
   },
   "outputs": [],
   "source": [
    "import pickle\n",
    "with open(\"do_sim_save\", 'wb') as f:\n",
    "    ob = (bdata, bdata2)\n",
    "    pickle.dump(ob, f)"
   ]
  },
  {
   "cell_type": "code",
   "execution_count": null,
   "metadata": {
    "collapsed": true
   },
   "outputs": [],
   "source": []
  },
  {
   "cell_type": "code",
   "execution_count": 56,
   "metadata": {
    "collapsed": true
   },
   "outputs": [],
   "source": [
    "l = [p for p in bdata.items() if p[1] >=0]"
   ]
  },
  {
   "cell_type": "code",
   "execution_count": 57,
   "metadata": {
    "collapsed": true
   },
   "outputs": [],
   "source": [
    "l.sort(key=lambda p: p[1])"
   ]
  },
  {
   "cell_type": "code",
   "execution_count": 67,
   "metadata": {},
   "outputs": [
    {
     "data": {
      "text/plain": [
       "[((4, -20, 55, 40), 0.46240616196923673),\n",
       " ((3, -20, 60, 45), 0.5122142763641816),\n",
       " ((4, -18, 55, 40), 0.58569785756434622),\n",
       " ((20, -20, 50, 40), 0.59332176237160184),\n",
       " ((20, -18, 50, 40), 0.62364643771723771),\n",
       " ((5, -20, 55, 40), 0.6548185909670633),\n",
       " ((3, -18, 60, 45), 0.65577168669896491),\n",
       " ((18, -20, 50, 40), 0.67417982372886365),\n",
       " ((3, -20, 65, 50), 0.67815996670622714),\n",
       " ((18, -18, 50, 40), 0.68645657169181595)]"
      ]
     },
     "execution_count": 67,
     "metadata": {},
     "output_type": "execute_result"
    }
   ],
   "source": [
    "top10 = l[:10]\n",
    "top10"
   ]
  },
  {
   "cell_type": "code",
   "execution_count": 66,
   "metadata": {
    "collapsed": true
   },
   "outputs": [],
   "source": [
    "i=0\n",
    "[plt.close() for i in range(20)]\n",
    "for (op, n2p, oi, ni), s in top10:\n",
    "    ops.o2_pid.p = op\n",
    "    ops.o2_pid.i = oi\n",
    "    ops.n2_pid.p = n2p\n",
    "    ops.n2_pid.i = ni\n",
    "\n",
    "    rampup(ops, 100*i, 0)\n",
    "    ax1.set_title(\"Ramp Up: %.3f\"%s)\n",
    "    rampdown(ops, 100*i, 400)\n",
    "    ax1.set_title(\"Ramp Down: %.3f\"%s)\n",
    "    \n",
    "    i += 1"
   ]
  },
  {
   "cell_type": "code",
   "execution_count": null,
   "metadata": {
    "collapsed": true
   },
   "outputs": [],
   "source": [
    "mk_test(4, -20, 55, 40)\n",
    "mk_test(20, -20, 50, 40)\n",
    "mk_test(3, -20, 60, 45)"
   ]
  }
 ],
 "metadata": {
  "kernelspec": {
   "display_name": "Python 3",
   "language": "python",
   "name": "python3"
  },
  "language_info": {
   "codemirror_mode": {
    "name": "ipython",
    "version": 3
   },
   "file_extension": ".py",
   "mimetype": "text/x-python",
   "name": "python",
   "nbconvert_exporter": "python",
   "pygments_lexer": "ipython3",
   "version": "3.5.2"
  }
 },
 "nbformat": 4,
 "nbformat_minor": 1
}
