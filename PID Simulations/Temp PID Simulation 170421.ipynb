{
 "cells": [
  {
   "cell_type": "code",
   "execution_count": 1,
   "metadata": {
    "collapsed": false
   },
   "outputs": [
    {
     "name": "stdout",
     "output_type": "stream",
     "text": [
      "Using matplotlib backend: TkAgg\n"
     ]
    }
   ],
   "source": [
    "import numpy as np\n",
    "%matplotlib\n",
    "import matplotlib.pyplot as plt\n",
    "from hello.pid.lvpid import PIDController\n",
    "from hello.pid.delay import m2s, s2m, h2s, seconds, minutes, hours, days, DelayBuffer, DelaySink\n",
    "from matplotlib.ticker import MultipleLocator, FuncFormatter, FormatStrFormatter\n",
    "from hello.pid.picker import mk_picker"
   ]
  },
  {
   "cell_type": "code",
   "execution_count": 2,
   "metadata": {
    "collapsed": true
   },
   "outputs": [],
   "source": [
    "from decimal import Decimal as D\n",
    "import math\n",
    "class DelaySink():\n",
    "    def __init__(self, delay, initial, pc_decay=0.95, scalar=1):\n",
    "        assert 0 < pc_decay <= 1, \"don't be a retard\"\n",
    "        self.df1 = self.calc_df(delay, pc_decay)\n",
    "        self._delay = delay\n",
    "        self._pc = pc_decay\n",
    "        self.df2 = scalar*self.df1\n",
    "        self.dft = self.df1 + self.df2\n",
    "        self.dff1 = self.df1 / self.dft\n",
    "        self.dff2 = self.df2 / self.dft\n",
    "        self.fill_sink(initial)\n",
    "        \n",
    "    def fill_sink(self, value):\n",
    "        if self._delay:\n",
    "            self.sink = value * (1-self.df1) / self.df1\n",
    "        else:\n",
    "            self.sink = 0\n",
    "        \n",
    "    def calc_df(self, delay, pc):\n",
    "        if not delay:\n",
    "            return 1\n",
    "        # Attempt to be precise by temporarily using decimal.Decimal\n",
    "        one = D(1)\n",
    "        return float(one - (one - D(pc))**(one / D(delay)))\n",
    "        \n",
    "    def set_delay(self, delay):\n",
    "        self.df = self.calc_df(delay, self._pc)\n",
    "        self._delay = delay\n",
    "        \n",
    "    def delay(self, v):\n",
    "        \"\"\" Delay the value v and advance the decay model by 1 second.\n",
    "        Add v to the current sink, then allow the sink to decay\n",
    "        according to the decay factor. \n",
    "        \n",
    "        The total decay is given by sink * (df1 + df2). The value\n",
    "        returned to the system is given by sink * df1. The amount\n",
    "        lost (e.g., due to radiative heat losses) is given by \n",
    "        sink * df2. \n",
    "        \n",
    "        \"\"\"\n",
    "        self.sink += v\n",
    "        ds = self.sink*(self.df1 + self.df2)\n",
    "        d1 = ds * self.dff1\n",
    "        d2 = ds * self.dff2\n",
    "        self.sink -= ds\n",
    "        if self.sink < 0:\n",
    "            self.sink = 0\n",
    "        return d1\n",
    "    \n",
    "class DelaySink2(DelaySink):\n",
    "    def calc_df(self, delay, pc):\n",
    "        if not delay:\n",
    "            return 1\n",
    "        return 1-math.e**(math.log(1-pc)/delay)\n",
    "    def fill_sink(self, value):\n",
    "        if self._delay:\n",
    "            self.sink = (1-self.df1)*value/self.df1\n",
    "        else:\n",
    "            self.sink = 0\n",
    "        "
   ]
  },
  {
   "cell_type": "code",
   "execution_count": 3,
   "metadata": {
    "collapsed": false
   },
   "outputs": [],
   "source": [
    "class TempProcess():\n",
    "    def __init__(self, delay, initial=20, output=0, env=18.5, g=0.0019254, k=-0.001579031, g_mult=1):\n",
    "        \"\"\"\n",
    "        :param g: gain in units of C/min/%\n",
    "        :param k: decay rate in units of C/min/dT\n",
    "        \"\"\"\n",
    "        self.tdelay = DelayBuffer(delay, initial).cycle\n",
    "        self.g = g / 60\n",
    "        self.k = k / 60\n",
    "        self.env = env\n",
    "        self.pv = initial\n",
    "        \n",
    "    def step(self, op):\n",
    "        op = self.tdelay(op)\n",
    "        dT = self.pv - self.env\n",
    "        decay = self.k * dT\n",
    "        gain = self.g * op\n",
    "        dpv = decay + gain\n",
    "        self.pv += dpv\n",
    "        return self.pv\n",
    "    \n",
    "class TempProcess2():\n",
    "    def __init__(self, delay, initial=20, output=0, env=18.5, g=0.0019254, k=-0.001579031, decay=1):\n",
    "        \"\"\"\n",
    "        :param g: gain in units of C/min/%\n",
    "        :param k: decay rate in units of C/min/dT\n",
    "        \"\"\"\n",
    "        self.heatsink = DelaySink(delay, output, 0.95, decay)\n",
    "        self.g = g / 60\n",
    "        self.k = k / 60\n",
    "        self.env = env\n",
    "        self.pv = initial\n",
    "        \n",
    "    def step(self, op):\n",
    "        op = self.heatsink.delay(op)\n",
    "        dT = self.pv - self.env\n",
    "        decay = self.k * dT\n",
    "        gain = self.g * op\n",
    "        dpv = decay + gain\n",
    "        self.pv += dpv\n",
    "        return self.pv\n",
    "    \n",
    "class TempProcess3():\n",
    "    def __init__(self, delay, initial=20, output=0, env=18.5, g=0.0019254, k=-0.001579031, decay=1):\n",
    "        \"\"\"\n",
    "        :param g: gain in units of C/min/%\n",
    "        :param k: decay rate in units of C/min/dT\n",
    "        \"\"\"\n",
    "        self.heatsink = DelaySink(delay, 0, 0.95, decay)\n",
    "        self.g = g / 60\n",
    "        self.k = k / 60\n",
    "        self.env = env\n",
    "        self.pv = initial\n",
    "        \n",
    "    def step(self, op):\n",
    "        dT = self.pv - self.env\n",
    "        decay = self.k * dT\n",
    "        gain = self.g * op\n",
    "        gain = self.heatsink.delay(gain)\n",
    "        dpv = decay + gain\n",
    "        self.pv += dpv\n",
    "        return self.pv\n",
    "    \n",
    "from math import sqrt\n",
    "    \n",
    "class TempProcess4():\n",
    "    def __init__(self, delay, initial=20, output=0, env=18.5, g=0.0019254, k=-0.001579031, decay=1):\n",
    "        \"\"\"\n",
    "        :param g: gain in units of C/min/%\n",
    "        :param k: decay rate in units of C/min/dT\n",
    "        \"\"\"\n",
    "        self.heatsink = DelaySink2(delay, 0, 0.95, decay)\n",
    "        self.g = g / 60\n",
    "        self.k = k / 60\n",
    "        self.env = env\n",
    "        self.pv = initial\n",
    "        \n",
    "    def step(self, op):\n",
    "        dT = self.pv - self.env\n",
    "        decay = self.k * dT\n",
    "        gain = self.g * op\n",
    "        gain = self.heatsink.delay(gain)\n",
    "        dpv = decay + gain\n",
    "        self.pv += dpv\n",
    "        return self.pv"
   ]
  },
  {
   "cell_type": "code",
   "execution_count": 4,
   "metadata": {
    "collapsed": false
   },
   "outputs": [],
   "source": [
    "from pysrc.snippets import OptionCategory\n",
    "\n",
    "offset = 0\n",
    "p = 60\n",
    "i = 35\n",
    "data = []\n",
    "delay=m2s(15)\n",
    "\n",
    "class PIDOps(OptionCategory):\n",
    "    # PID \n",
    "    p = 60\n",
    "    i = 35\n",
    "    d = 0\n",
    "    alpha = -1\n",
    "    linearity = 1\n",
    "    beta = 1\n",
    "    gamma = 0\n",
    "    auto_max = 100\n",
    "    auto_min = 0\n",
    "    deadband = 0\n",
    "    mode = 0\n",
    "    man_request = 0\n",
    "    \n",
    "class TempOps(OptionCategory):    \n",
    "    \n",
    "    pid = PIDOps()\n",
    "    \n",
    "    # plant    \n",
    "    k = -0.00357  # C / min * C\n",
    "    g = 0.002053  # C / min * % \n",
    "    k_mult = 1\n",
    "    g_mult = 1\n",
    "    delay = m2s(5)\n",
    "    \n",
    "    # Simulation\n",
    "    initial_pv = 20\n",
    "    env = 20\n",
    "    initial_output = 0\n",
    "    setpoint = 37\n",
    "    end = 5 * hours\n",
    "    mode = 'o2a'\n",
    "    process = TempProcess2\n",
    "    max_iters = 24 * hours\n",
    "    time_unit = hours\n",
    "    sink_decay = 0\n",
    "    "
   ]
  },
  {
   "cell_type": "code",
   "execution_count": 5,
   "metadata": {
    "collapsed": true
   },
   "outputs": [],
   "source": [
    "from hello.pid.plots import RingBuffer\n",
    "\n",
    "class DataQueue():\n",
    "    \"\"\" Standard data container for a single set of data.\n",
    "    Stores permenant data internally in a RingBuffer.\n",
    "    For performance reasons, store pending values \n",
    "    in a simple python list, and push them to the \n",
    "    permanent buffer only when explicitly requested. \n",
    "    \"\"\"\n",
    "    def __init__(self, pts):\n",
    "        self._values = RingBuffer(pts)\n",
    "        self._pending = []\n",
    "        self.put = self._pending.append\n",
    "        \n",
    "    def __len__(self):\n",
    "        return len(self._values)\n",
    "        \n",
    "    def push(self):\n",
    "        self._values.extend(self._pending)\n",
    "        self._pending.clear()\n",
    "        self.put = self._pending.append\n",
    "        \n",
    "    def get(self):\n",
    "        self.push()\n",
    "        return self._values.get()\n",
    "\n",
    "    def clear(self):\n",
    "        self._values.clear()\n",
    "        self._pending.clear()\n",
    "        \n",
    "    def resize(self, new_sz):\n",
    "        self.push()\n",
    "        nv = RingBuffer(new_sz)\n",
    "        nv.extend(self.get())\n",
    "        self._values = nv\n",
    "\n",
    "        \n",
    "def _mk_pid(pidops, pv, sp, req, mode):\n",
    "    c = PIDController(pgain=pidops.p,               itime=pidops.i,\n",
    "                      dtime=pidops.d,               auto_max=pidops.auto_max,\n",
    "                      auto_min=pidops.auto_min,       \n",
    "                      beta=pidops.beta,\n",
    "                      linearity=pidops.linearity,   alpha=pidops.alpha,\n",
    "                      deadband=pidops.deadband,     sp_high=100, sp_low=0,\n",
    "                      gamma=pidops.gamma,           man_request=pidops.man_request,\n",
    "                      mode=pidops.mode)\n",
    "    if mode == \"o2a\":\n",
    "        c.off_to_auto(pv, sp)\n",
    "    elif mode == \"m2a\":\n",
    "        c.man_to_auto(pv, sp, req)\n",
    "    elif mode == \"a2a\":\n",
    "        c.man_to_auto(pv, pv, req)\n",
    "    else:\n",
    "        raise ValueError(mode)\n",
    "    return c\n",
    "        \n",
    "        \n",
    "class TempSim():\n",
    "    def __init__(self, ops, pts=None):\n",
    "        self.ops = ops\n",
    "        if pts is None:\n",
    "            pts = ops.end\n",
    "        self._mi = self.ops.max_iters\n",
    "        self._data = {}\n",
    "        self._pts = pts\n",
    "        vars = [\n",
    "            \"x\", \"pv\", \"env\", \"hd\",\n",
    "            \"uk\", \"up\", \"ui\", \"ud\",\n",
    "        ]\n",
    "        for v in vars:\n",
    "            self._add_queue(v)\n",
    "            \n",
    "        pv = ops.initial_pv\n",
    "        sp = ops.setpoint\n",
    "        hd = ops.initial_output\n",
    "        \n",
    "        def minmax(v): return min(100, max(v, 0))\n",
    "        hd = minmax(hd)\n",
    "            \n",
    "        self._pid = _mk_pid(ops.pid, pv, sp, hd, ops.mode)\n",
    "            \n",
    "        delay = ops.delay\n",
    "        ProcessClass = ops.process\n",
    "    \n",
    "        self._proc = ProcessClass(delay, pv, hd, ops.env, ops.g*ops.g_mult, \n",
    "                                  ops.k*ops.k_mult, ops.sink_decay)\n",
    "        self._time_unit = ops.time_unit\n",
    "            \n",
    "        self._state = s = {}\n",
    "        s['t'] = 0\n",
    "        s['sp'] = sp\n",
    "        s['pv'] = pv\n",
    "        s['k'] = ops.k\n",
    "        s['g'] = ops.g\n",
    "        s['hd'] = hd\n",
    "        s['env'] = ops.env        \n",
    "        \n",
    "    @property\n",
    "    def state(self):\n",
    "        return self._state.copy()\n",
    "        \n",
    "    def _add_queue(self, name):\n",
    "        if name in self._data:\n",
    "            raise ValueError(name)\n",
    "        self._data[name] = DataQueue(self._pts)\n",
    "        setattr(self, \"_\"+name, self._data[name])\n",
    "        \n",
    "    def getq(self, name):\n",
    "        return self._data[name]\n",
    "    \n",
    "    def get(self, name):\n",
    "        return self.getq(name).get()\n",
    "    \n",
    "    def legacy_data(self):\n",
    "        \"\"\" Sloppily return data in legacy format \n",
    "        so I don't have to refactor a bunch of functions. \n",
    "        \"\"\"\n",
    "        return self._x.get(), self._pv.get(), self._hd.get()\n",
    "        \n",
    "    def sim_iters(self, iters=0):\n",
    "        \n",
    "        if iters > self._mi:\n",
    "            iters = self._mi\n",
    "        if iters <= 0:\n",
    "            return\n",
    "            \n",
    "        # Optimize bytecode a bit...\n",
    "        _x = self._x\n",
    "        _pv = self._pv\n",
    "        _env = self._env\n",
    "        _hd = self._hd\n",
    "        _uk = self._uk\n",
    "        _up = self._up\n",
    "        _ui = self._ui\n",
    "        _ud = self._ud\n",
    "\n",
    "        s = self._state\n",
    "        t = s['t']\n",
    "        sp = s['sp']\n",
    "        env = s['env']\n",
    "        pv = s['pv']\n",
    "        \n",
    "        time_unit = self._time_unit\n",
    "        proc = self._proc\n",
    "        pid = self._pid\n",
    "        \n",
    "        while iters > 0:\n",
    "            iters -= 1\n",
    "            t += 1\n",
    "            \n",
    "            op = pid.step(pv, sp)\n",
    "            pv = proc.step(op)\n",
    "\n",
    "            _x.put(t/time_unit)\n",
    "            _pv.put(pv)\n",
    "            _env.put(proc.env)\n",
    "            _hd.put(op)\n",
    "\n",
    "            _uk.put(pid.Uk)\n",
    "            _up.put(pid.Up)\n",
    "            _ui.put(pid.Ui)\n",
    "            _ud.put(pid.Ud)\n",
    "            \n",
    "        s['t'] = t\n",
    "        s['sp'] = sp\n",
    "        s['pv'] = pv\n",
    "        s['hd'] = op\n",
    "        s['env'] = proc.env\n",
    "        \n",
    "    def set_time(self, t):\n",
    "        self._state['t'] = t\n",
    "        \n",
    "    def set_pid_value(self, param, value):\n",
    "        \n",
    "        if param == \"pgain\":\n",
    "            pid.pgain = value\n",
    "        elif param == \"itime\":\n",
    "            pid.itime = m2s(value)\n",
    "        elif param == \"dtime\":\n",
    "            pid.dtime = m2s(value)\n",
    "        elif param == \"beta\":\n",
    "            pid.b = value\n",
    "        elif param == \"mode\":\n",
    "            pid.set_mode(value, pv, sp)\n",
    "        elif param == \"man\":\n",
    "            pid.man_request = float(value)\n",
    "        else:\n",
    "            print(\"Invalid parameter: %r\" % param)\n",
    "    \n",
    "    def set_value(self, name, value):\n",
    "        if name in self._state:\n",
    "            self._state[name] = value\n",
    "            if name == \"env\":\n",
    "                self._proc.env = value\n",
    "        else:\n",
    "            print(\"Error Invalid Value: %r\" % name)\n",
    "            \n",
    "    def get_value(self, name):\n",
    "        if name in self._state:\n",
    "            if name == \"env\":\n",
    "                return self._proc.env\n",
    "            return self._state[name]\n",
    "        print(\"Error Invalid Value: %r\" % name)\n",
    "\n",
    "    def clear_data(self):\n",
    "        for q in self._data.values():\n",
    "            q.clear()\n",
    "        self._state['t'] = 0\n",
    "\n",
    "    def resize(self, n):\n",
    "        for q in self._data.values():\n",
    "            q.resize(n)"
   ]
  },
  {
   "cell_type": "code",
   "execution_count": null,
   "metadata": {
    "collapsed": true
   },
   "outputs": [],
   "source": [
    "def declare_list(name):\n",
    "    if name not in globals():\n",
    "        globals()[name] = []"
   ]
  },
  {
   "cell_type": "markdown",
   "metadata": {},
   "source": [
    "# Test 1: Initial PID Exploration for 3L"
   ]
  },
  {
   "cell_type": "code",
   "execution_count": 126,
   "metadata": {
    "collapsed": true
   },
   "outputs": [],
   "source": [
    "import sys\n",
    "_g_axes = []\n",
    "def mk_axes():\n",
    "    global _g_axes\n",
    "    _g_axes = []\n",
    "    i = 1\n",
    "    while True:\n",
    "        try:\n",
    "            ax = globals()['ax' + str(i)]\n",
    "        except KeyError:\n",
    "            break\n",
    "        else:\n",
    "            _g_axes.append(ax)\n",
    "        i += 1\n",
    "\n",
    "def axes():\n",
    "    return _g_axes"
   ]
  },
  {
   "cell_type": "code",
   "execution_count": 127,
   "metadata": {
    "collapsed": true
   },
   "outputs": [],
   "source": [
    "def setup1(new=False):\n",
    "    global fig, ax1, ax2, ax3, ax4, ax5, ax6\n",
    "    \n",
    "    if not plt.get_fignums() or new:\n",
    "        fig = plt.figure()\n",
    "        ax1 = fig.add_subplot(2,1,1)\n",
    "        ax2 = fig.add_subplot(2,1,2)\n",
    "        mk_axes()\n",
    "        for a in ax1, ax2:\n",
    "            b = a.get_position()\n",
    "            a.set_position([b.x0, b.y0, b.width*0.8, b.height])\n",
    "            a.grid()\n",
    "    else:\n",
    "        for a in axes():\n",
    "            a.clear()\n",
    "            a.grid()\n",
    "        for t in fig.texts:\n",
    "            t.remove()\n",
    "    \n",
    "    global colors, color\n",
    "    colors = [\n",
    "        \"blue\",\n",
    "        \"red\",\n",
    "        \"green\",\n",
    "        \"cyan\",\n",
    "        \"purple\",\n",
    "        \"orange\",\n",
    "        \"black\"\n",
    "    ]\n",
    "\n",
    "    import itertools\n",
    "    color = itertools.cycle(colors).__next__"
   ]
  },
  {
   "cell_type": "code",
   "execution_count": 128,
   "metadata": {
    "collapsed": true
   },
   "outputs": [],
   "source": [
    "def temp_sim1(ops):\n",
    "    global sim\n",
    "    sim = TempSim(ops, ops.end)\n",
    "    sim.sim_iters(ops.end)\n",
    "    x = sim.get('x')\n",
    "    pv = sim.get('pv')\n",
    "    hd = sim.get('hd')\n",
    "    return x, pv, hd\n",
    "\n",
    "def _p1(ax, x, y, color, label, ylabel=None):\n",
    "    ax.plot(x,y, color=color, label=label)\n",
    "    if ylabel:\n",
    "        ax.set_ylabel(ylabel)\n",
    "\n",
    "def plot1(x, pv, hd, label=\"\"):\n",
    "    c = color()\n",
    "    _p1(ax1, x, pv, c, label, \"Temp (C)\")\n",
    "    _p1(ax2, x, hd, c, label, \"Heater Duty (%)\")\n",
    "    \n",
    "    ax1.axhline(y=ops.setpoint, ls=\"--\", color=\"black\")\n",
    "    \n",
    "    ax1.yaxis.set_major_formatter(FormatStrFormatter(\"%.2f\"))\n",
    "    ax2.yaxis.set_major_formatter(FormatStrFormatter(\"%d\"))\n",
    "    \n",
    "    for a in axes():\n",
    "        a.xaxis.set_major_locator(MultipleLocator(30))\n",
    "        a.legend(bbox_to_anchor=(0.99, 1.06), loc=\"upper left\")\n",
    "    \n",
    "    fig.canvas.flush_events()\n",
    "    fig.canvas.draw()\n",
    "    \n",
    "def run1(ops, label=\"\"):\n",
    "    global x, pv, hd\n",
    "    x,pv,hd = temp_sim1(ops)\n",
    "    plot1(x,pv, hd, label)\n",
    "\n",
    "def finish1():\n",
    "    for a in axes():\n",
    "        if a.legend_:\n",
    "            mk_picker(fig, a)\n",
    "    "
   ]
  },
  {
   "cell_type": "code",
   "execution_count": 129,
   "metadata": {
    "collapsed": false
   },
   "outputs": [],
   "source": [
    "ops = TempOps()\n",
    "\n",
    "# PID\n",
    "ops.pid.p = 40\n",
    "ops.pid.i = 6\n",
    "ops.pid.d = 0\n",
    "ops.pid.alpha = -1\n",
    "ops.pid.linearity = 1\n",
    "ops.pid.beta = 0\n",
    "ops.pid.gamma = 0\n",
    "ops.pid.auto_max = 50\n",
    "ops.pid.auto_min = 0\n",
    "ops.pid.deadband = 0\n",
    "ops.pid.mode = 0\n",
    "ops.pid.man_request = 0\n",
    "\n",
    "# plant    \n",
    "ops.k = -0.004209176  # C / min * C\n",
    "ops.g = 0.008794422   # C / min * % \n",
    "ops.delay = m2s(5)\n",
    "\n",
    "# Simulation\n",
    "ops.initial_pv = 22.9\n",
    "ops.env = 22.9\n",
    "ops.initial_output = 0\n",
    "ops.setpoint = 37\n",
    "ops.end = 2 * hours\n",
    "ops.mode = 'o2a'\n",
    "ops.process = TempProcess\n",
    "ops.max_iters = 24 * hours\n",
    "ops.time_unit = minutes"
   ]
  },
  {
   "cell_type": "markdown",
   "metadata": {},
   "source": [
    "# EXECUTE ALL ABOVE!\n",
    "For initial setup"
   ]
  },
  {
   "cell_type": "code",
   "execution_count": null,
   "metadata": {
    "collapsed": false
   },
   "outputs": [],
   "source": [
    "setup1()\n",
    "for d in (3, 5, 10):\n",
    "    ops.delay = d*minutes\n",
    "    run1(ops, \"D: %d\"%d)\n",
    "finish1()"
   ]
  },
  {
   "cell_type": "markdown",
   "metadata": {},
   "source": [
    "# Test 2: Comparison of real vs test data"
   ]
  },
  {
   "cell_type": "code",
   "execution_count": 130,
   "metadata": {
    "collapsed": false
   },
   "outputs": [],
   "source": [
    "def setup2(new=False):\n",
    "    setup1(new)\n",
    "    _p1(ax1, pvx, pvy, \"blue\", \"Real\", \"Temp (C)\")\n",
    "    _p1(ax2, hdx, hdy, \"blue\", \"Real\", \"Heat Duty (%)\")\n",
    "\n",
    "def plot2(x, pv, hd, label=\"\"):\n",
    "    c = \"blue\"\n",
    "    while c == \"blue\":\n",
    "        c = color()\n",
    "    _p1(ax1, x, pv, c, label if label else \"Sim\")\n",
    "    _p1(ax2, x, hd, c, label if label else \"Sim\")\n",
    "    \n",
    "    ax1.axhline(y=ops.setpoint, ls=\"--\", color=\"black\")\n",
    "    ax1.yaxis.set_major_formatter(FormatStrFormatter(\"%.2f\"))\n",
    "    ax2.yaxis.set_major_formatter(FormatStrFormatter(\"%d\"))\n",
    "    \n",
    "    for a in ax1, ax2:\n",
    "        a.xaxis.set_major_locator(MultipleLocator(30))\n",
    "        a.legend(bbox_to_anchor=(0.99, 1.06), loc=\"upper left\")\n",
    "        a.set_xlim(0, 120)\n",
    "        \n",
    "def run2(ops, label=\"\"):\n",
    "    global x, pv, hd\n",
    "    x,pv,hd = temp_sim1(ops)\n",
    "    plot2(x, pv, hd, label)\n",
    "    \n",
    "finish2 = finish1"
   ]
  },
  {
   "cell_type": "markdown",
   "metadata": {},
   "source": [
    "# Test 3: PID Tuning with 3L Model"
   ]
  },
  {
   "cell_type": "code",
   "execution_count": 131,
   "metadata": {
    "collapsed": true
   },
   "outputs": [],
   "source": [
    "def curviness(data):\n",
    "    # giggity\n",
    "    g = np.gradient\n",
    "    d2dt = g(g(data, 1), 1)\n",
    "    return sum(d2dt)**2"
   ]
  },
  {
   "cell_type": "code",
   "execution_count": 132,
   "metadata": {
    "collapsed": true
   },
   "outputs": [],
   "source": [
    "ops = TempOps()\n",
    "\n",
    "# PID\n",
    "ops.pid.p = 40\n",
    "ops.pid.i = 6\n",
    "ops.pid.d = 0\n",
    "ops.pid.alpha = -1\n",
    "ops.pid.linearity = 1\n",
    "ops.pid.beta = 0\n",
    "ops.pid.gamma = 0\n",
    "ops.pid.auto_max = 50\n",
    "ops.pid.auto_min = 0\n",
    "ops.pid.deadband = 0\n",
    "ops.pid.mode = 0\n",
    "ops.pid.man_request = 0\n",
    "\n",
    "# plant    \n",
    "ops.k = -0.004209176  # C / min * C\n",
    "ops.g = 0.008794422   # C / min * % \n",
    "ops.delay = m2s(15)\n",
    "\n",
    "# Simulation\n",
    "ops.initial_pv = 22.9\n",
    "ops.env = 22.9\n",
    "ops.initial_output = 0\n",
    "ops.setpoint = 37\n",
    "ops.end = 2 * hours\n",
    "ops.mode = 'o2a'\n",
    "ops.process = TempProcess2\n",
    "ops.max_iters = 24 * hours\n",
    "ops.time_unit = minutes\n",
    "ops.g_mult = 1.2\n",
    "ops.k_mult = 0.5\n",
    "ops.sink_decay = 0.2"
   ]
  },
  {
   "cell_type": "code",
   "execution_count": 133,
   "metadata": {
    "collapsed": true
   },
   "outputs": [],
   "source": [
    "setup3=setup1\n",
    "plot3=plot1\n",
    "def run3(ops, lbl):\n",
    "    global x,pv,hd\n",
    "    x,pv,hd = temp_sim1(ops)\n",
    "    plot3(x,pv,hd,lbl)\n",
    "def plot3(*args):\n",
    "    plot1(*args)\n",
    "    ax1.set_ylim(36, 38)\n",
    "finish3=finish1    "
   ]
  },
  {
   "cell_type": "code",
   "execution_count": null,
   "metadata": {
    "collapsed": false
   },
   "outputs": [],
   "source": [
    "setup3()\n",
    "for i in (6, 8, 9):\n",
    "    ops.pid.p = 40\n",
    "    ops.pid.i = i\n",
    "    run3(ops, \"i:%d\"%i)\n",
    "finish3()"
   ]
  },
  {
   "cell_type": "code",
   "execution_count": null,
   "metadata": {
    "collapsed": false
   },
   "outputs": [],
   "source": [
    "setup3()\n",
    "for p in (10, 20, 14):\n",
    "    ops.pid.p = p\n",
    "    ops.pid.i = 20\n",
    "    run3(ops, \"P:%d\"%p)\n",
    "finish3()"
   ]
  },
  {
   "cell_type": "code",
   "execution_count": null,
   "metadata": {
    "collapsed": true
   },
   "outputs": [],
   "source": [
    "setup3()\n",
    "ops.pid.p = 14\n",
    "ops.pid.i = 20\n",
    "for env in 16, 20, 24:\n",
    "    ops.env = env\n",
    "    run3(ops, \"E:%d\"%env)\n",
    "finish3()\n",
    "ax1.yaxis.set_major_locator(MultipleLocator(0.2))\n",
    "ops.env=22.9"
   ]
  },
  {
   "cell_type": "markdown",
   "metadata": {},
   "source": [
    "## Test above simulation in excel"
   ]
  },
  {
   "cell_type": "code",
   "execution_count": null,
   "metadata": {
    "collapsed": false
   },
   "outputs": [],
   "source": [
    "wb2 = xl.Workbooks(\"2017042116075752.xlsx\")\n",
    "cell_range = wb2.ActiveSheet.Cells.Range\n",
    "pvx, pvy = get(\"EE2:EF1497\")\n",
    "hdx, hdy = get(\"DU2:DV1434\")"
   ]
  },
  {
   "cell_type": "code",
   "execution_count": null,
   "metadata": {
    "collapsed": false
   },
   "outputs": [],
   "source": [
    "setup2()\n",
    "ops.pid.p = 14\n",
    "ops.pid.i = 20\n",
    "ops.g_mult = 1.07\n",
    "ops.k_mult = 0.5\n",
    "ops.initial_pv = 23.6\n",
    "ops.delay = 17*minutes\n",
    "ops.sink_decay = 0.1\n",
    "ops.env = 18\n",
    "run2(ops, 'test')\n",
    "finish2()\n",
    "ax1.set_ylim(36, 38)\n",
    "ax1.yaxis.set_major_locator(MultipleLocator(0.2))\n",
    "#ax1.set_ylim(23, 25)\n",
    "#ax1.set_xlim(0, 10)"
   ]
  },
  {
   "cell_type": "code",
   "execution_count": null,
   "metadata": {
    "collapsed": false
   },
   "outputs": [],
   "source": [
    "setup3()\n",
    "ops.pid.p = 11\n",
    "\n",
    "for i in 20, 25:\n",
    "    ops.pid.i = i\n",
    "    ops.g_mult = 1.3\n",
    "    ops.k_mult = 0.5\n",
    "    ops.initial_pv = 23.6\n",
    "    ops.delay = 20*minutes\n",
    "    ops.sink_decay = 0.3\n",
    "    ops.env = 18\n",
    "    run3(ops, 'I:%d'%i)\n",
    "finish3()\n",
    "ax1.set_ylim(36, 38)\n",
    "ax1.yaxis.set_major_locator(MultipleLocator(0.2))\n",
    "    #ax1.set_ylim(23, 25)\n",
    "    #ax1.set_xlim(0, 10)"
   ]
  },
  {
   "cell_type": "code",
   "execution_count": 136,
   "metadata": {
    "collapsed": false
   },
   "outputs": [],
   "source": [
    "setup3(False)\n",
    "\n",
    "for p in 12, 13, 14:\n",
    "    for i in 26, 30:\n",
    "        ops.pid.p = p\n",
    "        ops.pid.i = i\n",
    "        ops.g_mult = 1.3\n",
    "        ops.k_mult = 0.5\n",
    "        ops.initial_pv = 23.6\n",
    "        ops.delay = 20*minutes\n",
    "        ops.sink_decay = 0.3\n",
    "        ops.env = 18\n",
    "        run3(ops, 'P:%d I:%d'%(p, i))\n",
    "finish3()\n",
    "ax1.set_ylim(36, 38)\n",
    "ax1.yaxis.set_major_locator(MultipleLocator(0.2))\n",
    "    #ax1.set_ylim(23, 25)\n",
    "    #ax1.set_xlim(0, 10)"
   ]
  },
  {
   "cell_type": "code",
   "execution_count": null,
   "metadata": {
    "collapsed": true
   },
   "outputs": [],
   "source": [
    "setup2()\n",
    "ops.pid.p = 11\n",
    "ops.pid.i = 25\n",
    "ops.g_mult = 1\n",
    "ops.k_mult = 0.2\n",
    "ops.initial_pv = 25.2\n",
    "ops.env = 25.2\n",
    "ops.delay = 20*minutes\n",
    "ops.sink_decay = 0\n",
    "run2(ops, \"Test\")\n",
    "finish2()\n",
    "ax1.set_ylim(36, 38)\n",
    "ax1.yaxis.set_major_locator(MultipleLocator(0.2))"
   ]
  },
  {
   "cell_type": "markdown",
   "metadata": {},
   "source": [
    "# Testing with Excel data for side-by-side comparison"
   ]
  },
  {
   "cell_type": "code",
   "execution_count": null,
   "metadata": {
    "collapsed": false
   },
   "outputs": [],
   "source": [
    "from officelib.xllib import *\n",
    "xl = Excel()\n",
    "wb = xl.ActiveWorkbook\n",
    "cells = wb.ActiveSheet.Cells\n",
    "cell_range = cells.Range"
   ]
  },
  {
   "cell_type": "code",
   "execution_count": null,
   "metadata": {
    "collapsed": true
   },
   "outputs": [],
   "source": [
    "def paste():\n",
    "    x1 = map(float, x)\n",
    "    pv1 = map(float, pv)\n",
    "    hd1 = map(float, hd)\n",
    "    data = list(zip(x1, pv1, hd1))\n",
    "    c1 = cell_range(\"EG2\")\n",
    "    c2 = c1.Offset(len(data), len(data[0]))\n",
    "    cell_range(c1, c2).Value = data"
   ]
  },
  {
   "cell_type": "code",
   "execution_count": null,
   "metadata": {
    "collapsed": false
   },
   "outputs": [],
   "source": [
    "base_g = .397637759 * 1\n",
    "amax = 50\n",
    "base_k = -0.004209176\n",
    "\n",
    "env = 22.9\n",
    "dt = (37+22)/2 - env\n",
    "ops.g = (base_g - dt * base_k) / amax\n",
    "ops.k = base_k\n",
    "ops.delay = 18 * minutes\n",
    "ops.process = TempProcess2\n",
    "\n",
    "setup1()\n",
    "run1(ops, \"test\")\n",
    "run1(ops, \"test2\")\n",
    "paste()"
   ]
  },
  {
   "cell_type": "code",
   "execution_count": null,
   "metadata": {
    "collapsed": true
   },
   "outputs": [],
   "source": [
    "def get(r):\n",
    "    return [np.array(d) for d in list(zip(*cell_range(r).Value))]\n",
    "pvx, pvy = get(\"DY2:DZ998\")\n",
    "hdx, hdy = get(\"DO2:DP930\")"
   ]
  },
  {
   "cell_type": "code",
   "execution_count": null,
   "metadata": {
    "collapsed": false
   },
   "outputs": [],
   "source": [
    "base_g = .397637759 * 1\n",
    "amax = 50\n",
    "base_k = -0.004209176\n",
    "\n",
    "env = 22.9\n",
    "dt = (37+22)/2 - env\n",
    "ops.g = (base_g - dt * base_k) / amax\n",
    "ops.k = base_k\n",
    "ops.delay = 18 * minutes\n",
    "ops.process = TempProcess2\n",
    "\n",
    "setup2()\n",
    "ops.g_mult = 1.4\n",
    "_F = 1/2.5\n",
    "run2(ops)\n",
    "paste()"
   ]
  },
  {
   "cell_type": "code",
   "execution_count": null,
   "metadata": {
    "collapsed": false
   },
   "outputs": [],
   "source": [
    "setup2()\n",
    "ops.env=22.9\n",
    "ops.delay = 15*minutes\n",
    "ops.process = TempProcess2\n",
    "for m in 0.2, 0.4, 0.6:\n",
    "    ops.g_mult = 1 + m\n",
    "    run2(ops, \"M:%.2f\"%(m))\n",
    "finish2()"
   ]
  },
  {
   "cell_type": "code",
   "execution_count": null,
   "metadata": {
    "collapsed": false
   },
   "outputs": [],
   "source": [
    "setup2()\n",
    "d = 20\n",
    "ops.delay = 18*minutes\n",
    "ops.g_mult = 1.5\n",
    "ops.process = TempProcess2\n",
    "run2(ops, \"P1\")\n",
    "ops.process = TempProcess3\n",
    "run2(ops, \"P2\")\n",
    "finish2()"
   ]
  },
  {
   "cell_type": "code",
   "execution_count": null,
   "metadata": {
    "collapsed": true
   },
   "outputs": [],
   "source": [
    "setup2()\n",
    "ops.env = 18\n",
    "ops.delay=15.1*minutes\n",
    "ops.process = TempProcess2\n",
    "ops.k_mult = 0.4\n",
    "x = .1\n",
    "ops.g_mult = 1 + x\n",
    "ops.sink_decay = x \n",
    "run2(ops, \"test\")\n",
    "finish2()\n",
    "paste()"
   ]
  },
  {
   "cell_type": "markdown",
   "metadata": {},
   "source": [
    "## Resuming 4/21/17 after a bit of a break"
   ]
  },
  {
   "cell_type": "code",
   "execution_count": 119,
   "metadata": {
    "collapsed": false
   },
   "outputs": [
    {
     "ename": "TypeError",
     "evalue": "unsupported operand type(s) for *: 'NoneType' and 'int'",
     "output_type": "error",
     "traceback": [
      "\u001b[0;31m---------------------------------------------------------------------------\u001b[0m",
      "\u001b[0;31mTypeError\u001b[0m                                 Traceback (most recent call last)",
      "\u001b[0;32m<ipython-input-119-66a7fb042ba7>\u001b[0m in \u001b[0;36m<module>\u001b[0;34m()\u001b[0m\n\u001b[1;32m      1\u001b[0m \u001b[1;32mfrom\u001b[0m \u001b[0mpysrc\u001b[0m\u001b[1;33m.\u001b[0m\u001b[0msnippets\u001b[0m \u001b[1;32mimport\u001b[0m \u001b[0msmooth1\u001b[0m\u001b[1;33m\u001b[0m\u001b[0m\n\u001b[0;32m----> 2\u001b[0;31m \u001b[0mpvx2\u001b[0m\u001b[1;33m,\u001b[0m \u001b[0mpvy2\u001b[0m \u001b[1;33m=\u001b[0m \u001b[0msmooth1\u001b[0m\u001b[1;33m(\u001b[0m\u001b[1;33m(\u001b[0m\u001b[0mpvx\u001b[0m\u001b[1;33m*\u001b[0m\u001b[1;36m60\u001b[0m\u001b[1;33m)\u001b[0m\u001b[1;33m.\u001b[0m\u001b[0mastype\u001b[0m\u001b[1;33m(\u001b[0m\u001b[0mint\u001b[0m\u001b[1;33m)\u001b[0m\u001b[1;33m,\u001b[0m \u001b[0mpvy\u001b[0m\u001b[1;33m.\u001b[0m\u001b[0mastype\u001b[0m\u001b[1;33m(\u001b[0m\u001b[0mfloat\u001b[0m\u001b[1;33m)\u001b[0m\u001b[1;33m)\u001b[0m\u001b[1;33m\u001b[0m\u001b[0m\n\u001b[0m\u001b[1;32m      3\u001b[0m \u001b[0mhdx2\u001b[0m\u001b[1;33m,\u001b[0m \u001b[0mhdy2\u001b[0m \u001b[1;33m=\u001b[0m \u001b[0msmooth1\u001b[0m\u001b[1;33m(\u001b[0m\u001b[1;33m(\u001b[0m\u001b[0mhdx\u001b[0m\u001b[1;33m*\u001b[0m\u001b[1;36m60\u001b[0m\u001b[1;33m)\u001b[0m\u001b[1;33m.\u001b[0m\u001b[0mastype\u001b[0m\u001b[1;33m(\u001b[0m\u001b[0mint\u001b[0m\u001b[1;33m)\u001b[0m\u001b[1;33m,\u001b[0m \u001b[0mhdy\u001b[0m\u001b[1;33m.\u001b[0m\u001b[0mastype\u001b[0m\u001b[1;33m(\u001b[0m\u001b[0mfloat\u001b[0m\u001b[1;33m)\u001b[0m\u001b[1;33m)\u001b[0m\u001b[1;33m\u001b[0m\u001b[0m\n\u001b[1;32m      4\u001b[0m \u001b[0mpvx2\u001b[0m \u001b[1;33m=\u001b[0m \u001b[0mnp\u001b[0m\u001b[1;33m.\u001b[0m\u001b[0marray\u001b[0m\u001b[1;33m(\u001b[0m\u001b[1;33m[\u001b[0m\u001b[0mfloat\u001b[0m\u001b[1;33m(\u001b[0m\u001b[0mf\u001b[0m\u001b[1;33m)\u001b[0m \u001b[1;32mfor\u001b[0m \u001b[0mf\u001b[0m \u001b[1;32min\u001b[0m \u001b[0mpvx2\u001b[0m\u001b[1;33m]\u001b[0m\u001b[1;33m)\u001b[0m\u001b[1;33m\u001b[0m\u001b[0m\n\u001b[1;32m      5\u001b[0m \u001b[0mpvy2\u001b[0m \u001b[1;33m=\u001b[0m \u001b[0mnp\u001b[0m\u001b[1;33m.\u001b[0m\u001b[0marray\u001b[0m\u001b[1;33m(\u001b[0m\u001b[1;33m[\u001b[0m\u001b[0mfloat\u001b[0m\u001b[1;33m(\u001b[0m\u001b[0mf\u001b[0m\u001b[1;33m)\u001b[0m \u001b[1;32mfor\u001b[0m \u001b[0mf\u001b[0m \u001b[1;32min\u001b[0m \u001b[0mpvy2\u001b[0m\u001b[1;33m]\u001b[0m\u001b[1;33m)\u001b[0m\u001b[1;33m\u001b[0m\u001b[0m\n",
      "\u001b[0;31mTypeError\u001b[0m: unsupported operand type(s) for *: 'NoneType' and 'int'"
     ]
    }
   ],
   "source": [
    "from pysrc.snippets import smooth1\n",
    "pvx2, pvy2 = smooth1((pvx*60).astype(int), pvy.astype(float))\n",
    "hdx2, hdy2 = smooth1((hdx*60).astype(int), hdy.astype(float))\n",
    "pvx2 = np.array([float(f) for f in pvx2])\n",
    "pvy2 = np.array([float(f) for f in pvy2])\n",
    "hdx2 = np.array([float(f) for f in hdx2])\n",
    "hdy2 = np.array([float(f) for f in hdy2])\n",
    "\n",
    "def rerror(s=None, e=None):\n",
    "    s = s or 40*60\n",
    "    e = e or 80*60\n",
    "    er = pvy2[s:e] - pv[s:e]\n",
    "    return sum(abs(er))"
   ]
  },
  {
   "cell_type": "code",
   "execution_count": null,
   "metadata": {
    "collapsed": false
   },
   "outputs": [],
   "source": [
    "import peakutils\n",
    "def slope(x, y):\n",
    "    s = min(np.where(y == np.max(y))[0])\n",
    "    e = np.where(y[s:] < 37)[0]\n",
    "    e = min(e) if e.size else 10000\n",
    "    return np.polyfit(x[s:s+e], y[s:s+e], 1)"
   ]
  },
  {
   "cell_type": "code",
   "execution_count": null,
   "metadata": {
    "collapsed": false,
    "scrolled": true
   },
   "outputs": [],
   "source": [
    "# test impact of env and delay on error\n",
    "setup2()\n",
    "ops.k_mult = 0.4\n",
    "ops.g_mult = 1.3\n",
    "res = []\n",
    "for env in range(18, 23, 2):\n",
    "    for delay in range(16, 19):\n",
    "        ops.env = env\n",
    "        ops.delay = delay * minutes\n",
    "        lbl = \"D%d E%d\"%(delay, env)\n",
    "        run2(ops, lbl)\n",
    "        err = rerror(0, 7200)\n",
    "        res.append((lbl, err))\n",
    "finish2()\n",
    "#paste()\n",
    "ax1.set_ylim(36.8, 37.8)\n",
    "ax1.set_xlim(30, 100)\n",
    "for l,e in sorted(res, key=lambda t: t[1]):\n",
    "    print(l,e)"
   ]
  },
  {
   "cell_type": "code",
   "execution_count": null,
   "metadata": {
    "collapsed": false,
    "scrolled": true
   },
   "outputs": [],
   "source": [
    "# test impact of env and delay on error and slope of PV decay after initial overshoot\n",
    "setup2()\n",
    "ops.k_mult = 0.4\n",
    "ops.g_mult = 1.3\n",
    "res = []\n",
    "print(*slope(pvx2/60, pvy2))\n",
    "for env in 18, 19, 20:\n",
    "    for delay in (16, 17, 18):\n",
    "        ops.delay = delay * minutes\n",
    "        lbl = \"D%d E%d\"%(delay, env)\n",
    "        run2(ops, lbl)\n",
    "        err = rerror(0, 7200)\n",
    "        res.append((lbl, err, slope(x, pv)))\n",
    "finish2()\n",
    "#paste()\n",
    "ax1.set_ylim(36.8, 37.8)\n",
    "ax1.set_xlim(30, 100)\n",
    "for l,e, (m,b) in sorted(res, key=lambda t: t[1]):\n",
    "    print(l,e, m, b)"
   ]
  },
  {
   "cell_type": "code",
   "execution_count": null,
   "metadata": {
    "collapsed": false
   },
   "outputs": [],
   "source": [
    "# test impact of k and g multipliers on error and slope of PV decay after initial overshoot\n",
    "setup2()\n",
    "ops.k_mult = 0.4\n",
    "ops.g_mult = 1.3\n",
    "ops.env = 21\n",
    "ops.delay = 15*minutes\n",
    "res = []\n",
    "print(*slope(pvx2/60, pvy2))\n",
    "for k_mult in range(1, 11):\n",
    "    k_mult = k_mult / 10\n",
    "    ops.k_mult = k_mult\n",
    "    for g_mult in range(10):\n",
    "        g_mult = g_mult / 10 + 1\n",
    "        ops.g_mult = g_mult\n",
    "        lbl = \"k:%.1f g:%.1f\"%(k_mult, g_mult)\n",
    "        x, pv, hd = temp_sim1(ops)\n",
    "        #run2(ops, lbl)\n",
    "        err = rerror(0, 7200)\n",
    "        res.append((k_mult, g_mult, slope(x, pv)))\n",
    "        print(\"\\r\", k_mult, g_mult, slope(x, pv), end=\"\")\n",
    "finish2()\n",
    "#paste()\n",
    "ax1.set_ylim(36.8, 37.8)\n",
    "ax1.set_xlim(30, 100)"
   ]
  },
  {
   "cell_type": "code",
   "execution_count": null,
   "metadata": {
    "collapsed": true
   },
   "outputs": [],
   "source": [
    "s = slope(pvx2/60, pvy2)[0]\n",
    "res2 = sorted(res, key = lambda t: abs(s - t[2][0]))\n",
    "for a, b, (c,d) in res2:\n",
    "    print(a,b,c,d)\n",
    "to_test = [(k,g) for k, g, _ in res2[:10]]"
   ]
  },
  {
   "cell_type": "code",
   "execution_count": null,
   "metadata": {
    "collapsed": false
   },
   "outputs": [],
   "source": [
    "# test impact of k and g multipliers on error and slope of PV decay after initial overshoot\n",
    "setup2()\n",
    "print(slope(pvx2/60, pvy2))\n",
    "for (km, gm) in to_test:\n",
    "    ops.k_mult = km\n",
    "    ops.g_mult = gm\n",
    "    ops.sink_decay = gm - 1\n",
    "    lbl = \"k:%.1f g:%.1f\"%(km, gm)\n",
    "    run2(ops, lbl)\n",
    "    print(slope(x, pv), km, gm)\n",
    "finish2()\n",
    "#paste()\n",
    "ax1.set_ylim(36.8, 37.8)\n",
    "ax1.set_xlim(30, 100)"
   ]
  },
  {
   "cell_type": "code",
   "execution_count": null,
   "metadata": {
    "collapsed": false
   },
   "outputs": [],
   "source": [
    "setup2()\n",
    "ops.k_mult = .5\n",
    "ops.g_mult = 1\n",
    "for sm in (0, 0.1, 0.5):\n",
    "    ops.sink_decay = sm\n",
    "    lbl = \"sm: %.1f\"%sm\n",
    "    run2(ops, lbl)\n",
    "finish2()\n",
    "ax1.set_ylim(36.8, 37.8)\n",
    "ax1.set_xlim(30, 100)"
   ]
  },
  {
   "cell_type": "code",
   "execution_count": null,
   "metadata": {
    "collapsed": true
   },
   "outputs": [],
   "source": [
    "setup2()\n",
    "ops.env = 18\n",
    "ops.delay=15.1*minutes\n",
    "ops.process = TempProcess2\n",
    "ops.k_mult = 0.4\n",
    "x = .1\n",
    "ops.g_mult = 1 + x\n",
    "ops.sink_decay = x \n",
    "run2(ops, \"test\")\n",
    "finish2()\n",
    "paste()"
   ]
  },
  {
   "cell_type": "code",
   "execution_count": null,
   "metadata": {
    "collapsed": true
   },
   "outputs": [],
   "source": [
    "def rand_float(min, max):\n",
    "    r = np.random.random()\n",
    "    rng = max - min\n",
    "    p = r * rng\n",
    "    return min + p"
   ]
  },
  {
   "cell_type": "code",
   "execution_count": null,
   "metadata": {
    "collapsed": true
   },
   "outputs": [],
   "source": [
    "setup2()\n",
    "rf = rand_float\n",
    "best = None\n",
    "i = 0\n",
    "bests = set()\n",
    "tested = set()\n",
    "collisions = 0\n",
    "while True:\n",
    "    \n",
    "    env = rf(10, 23)\n",
    "    g_mult = rf(1, 1.5)\n",
    "    sm = rand_float(0, 0.6)\n",
    "    k_mult = rf(0.3, 1)\n",
    "    delay = rf(10, 20)\n",
    "    \n",
    "    key = \"%.2f %.2f %.2f %.2f %.2f\" % (env, g_mult, sm, k_mult, delay)\n",
    "    if key in tested:\n",
    "        collisions += 1\n",
    "        continue\n",
    "    tested.add(key)\n",
    "    i += 1\n",
    "    \n",
    "    if not i % 100:\n",
    "        print(\"%d tested %d collisions\" % (i, collisions))\n",
    "    \n",
    "    ops.env = env\n",
    "    ops.g_mult = g_mult\n",
    "    ops.sink_decay = sm\n",
    "    ops.k_mult = k_mult\n",
    "    ops.delay = delay * minutes\n",
    "    x, pv, hd = temp_sim1(ops)\n",
    "    e = err2()\n",
    "    if best is None or e < best:\n",
    "        best = e\n",
    "        bests.add((i, e, env, g_mult, sm, k_mult, delay))\n",
    "        s = \"New Best (%.1f): Env %.1f gm %.2f km %.2f sm %.2f delay = %.2f\" % (best, env, g_mult, k_mult, sm, delay)\n",
    "        s += \" %d tested %d bests %d collisions\" % (i, len(bests), collisions)\n",
    "        print(s)\n",
    "        plot2(x, pv, hd)\n",
    "        fig.canvas.flush_events()\n",
    "        fig.canvas.draw()\n",
    "        fig.canvas.flush_events()\n",
    "finish2()"
   ]
  },
  {
   "cell_type": "code",
   "execution_count": null,
   "metadata": {
    "collapsed": false
   },
   "outputs": [],
   "source": [
    "setup2()\n",
    "def fs(*args):\n",
    "    return \" \".join(\"%.2f\"%a for a in args)\n",
    "bests2 = sorted(bests_backup, key = lambda k: k[0])\n",
    "print(\"  i   g     s  k     d     score\")\n",
    "for i, _, e,g,s,k,d in bests2:\n",
    "    \n",
    "    ops.env = e\n",
    "    ops.g_mult = g\n",
    "    ops.sink_decay = s\n",
    "    ops.k_mult = k\n",
    "    ops.delay = d*minutes\n",
    "    run2(ops, str(i))\n",
    "    e = err2()\n",
    "    print(\"%4d\"%i, fs(g,s,k,d, _))\n",
    "finish2()\n",
    "ax1.set_ylim(36.8, 37.8)\n",
    "ax1.set_xlim(30, 100)"
   ]
  },
  {
   "cell_type": "code",
   "execution_count": null,
   "metadata": {
    "collapsed": true
   },
   "outputs": [],
   "source": [
    "def err2():\n",
    "    s = 30*60\n",
    "    e = 90*60\n",
    "    s2 = 70*60\n",
    "    e2 = 120*60\n",
    "    e1s = sum(abs(pvy2[s:e]-pv[s:e]))\n",
    "    e2s = sum(abs(hdy2[s:e]-hd[s:e]))\n",
    "    return np.sqrt(e1s**2 + e2s**2)\n",
    "    #return e1s, e2s"
   ]
  },
  {
   "cell_type": "code",
   "execution_count": null,
   "metadata": {
    "collapsed": false
   },
   "outputs": [],
   "source": [
    "setup2()\n",
    "i, _, e,g,s,k,d = bests2[-1]\n",
    "ops.env = e\n",
    "ops.g_mult = g\n",
    "ops.sink_decay = s\n",
    "ops.k_mult = k\n",
    "ops.delay = d * minutes\n",
    "run2(ops, \"best\")\n",
    "\n",
    "ops.delay = 16*minutes\n",
    "ops.g_mult = 1.2\n",
    "ops.k_mult = .5\n",
    "ops.sink_decay = 0.25\n",
    "run2(ops, \"test\")\n",
    "paste()\n",
    "ax1.set_ylim(36.8, 37.8)\n",
    "ax1.set_xlim(30, 100)"
   ]
  },
  {
   "cell_type": "markdown",
   "metadata": {},
   "source": [
    "# 4/24/17 after weekend test"
   ]
  },
  {
   "cell_type": "code",
   "execution_count": 117,
   "metadata": {
    "collapsed": true
   },
   "outputs": [],
   "source": [
    "from officelib.xllib import *\n",
    "xl = Excel()\n",
    "wb = xl.ActiveWorkbook\n",
    "cells = wb.ActiveSheet.Cells\n",
    "cell_range = cells.Range"
   ]
  },
  {
   "cell_type": "code",
   "execution_count": 118,
   "metadata": {
    "collapsed": false
   },
   "outputs": [
    {
     "ename": "TypeError",
     "evalue": "unsupported operand type(s) for -: 'NoneType' and 'float'",
     "output_type": "error",
     "traceback": [
      "\u001b[0;31m---------------------------------------------------------------------------\u001b[0m",
      "\u001b[0;31mTypeError\u001b[0m                                 Traceback (most recent call last)",
      "\u001b[0;32m<ipython-input-118-715894d1f0d6>\u001b[0m in \u001b[0;36m<module>\u001b[0;34m()\u001b[0m\n\u001b[1;32m      4\u001b[0m \u001b[0mhdx\u001b[0m\u001b[1;33m,\u001b[0m \u001b[0mhdy\u001b[0m \u001b[1;33m=\u001b[0m \u001b[0mget\u001b[0m\u001b[1;33m(\u001b[0m\u001b[1;34m\"DO175:DP350\"\u001b[0m\u001b[1;33m)\u001b[0m\u001b[1;33m\u001b[0m\u001b[0m\n\u001b[1;32m      5\u001b[0m \u001b[0mx0\u001b[0m \u001b[1;33m=\u001b[0m \u001b[1;36m180.03\u001b[0m  \u001b[1;31m# first \"0\" entry for temp mode actual\u001b[0m\u001b[1;33m\u001b[0m\u001b[0m\n\u001b[0;32m----> 6\u001b[0;31m \u001b[0mpvx\u001b[0m \u001b[1;33m-=\u001b[0m \u001b[0mx0\u001b[0m\u001b[1;33m\u001b[0m\u001b[0m\n\u001b[0m\u001b[1;32m      7\u001b[0m \u001b[0mhdx\u001b[0m \u001b[1;33m-=\u001b[0m \u001b[0mx0\u001b[0m\u001b[1;33m\u001b[0m\u001b[0m\n",
      "\u001b[0;31mTypeError\u001b[0m: unsupported operand type(s) for -: 'NoneType' and 'float'"
     ]
    }
   ],
   "source": [
    "def get(r):\n",
    "    return [np.array(d) for d in list(zip(*cell_range(r).Value))]\n",
    "pvx, pvy = get(\"DZ176:EA404\")\n",
    "hdx, hdy = get(\"DO175:DP350\")\n",
    "x0 = 180.03  # first \"0\" entry for temp mode actual\n",
    "pvx -= x0\n",
    "hdx -= x0"
   ]
  },
  {
   "cell_type": "code",
   "execution_count": 138,
   "metadata": {
    "collapsed": false
   },
   "outputs": [],
   "source": [
    "setup3()\n",
    "\n",
    "for p in 12, 13, 14:\n",
    "    for i in 26, 30:\n",
    "        ops.pid.p = p\n",
    "        ops.pid.i = i\n",
    "        ops.g_mult = 1.3\n",
    "        ops.k_mult = 0.5\n",
    "        ops.initial_pv = 25.2\n",
    "        ops.delay = 20*minutes\n",
    "        ops.sink_decay = 0.6\n",
    "        ops.env = 25\n",
    "        run3(ops, 'P:%d I:%d'%(p, i))\n",
    "finish3()\n",
    "ax1.set_ylim(36.5, 37.5)\n",
    "ax1.yaxis.set_major_locator(MultipleLocator(0.2))\n",
    "    #ax1.set_ylim(23, 25)\n",
    "    #ax1.set_xlim(0, 10)"
   ]
  },
  {
   "cell_type": "code",
   "execution_count": 137,
   "metadata": {
    "collapsed": true
   },
   "outputs": [],
   "source": [
    "setup2()\n",
    "ops.pid.p = 12\n",
    "ops.pid.i = 29\n",
    "ops.g_mult = 1.3\n",
    "ops.k_mult = .5\n",
    "ops.initial_pv = 25.2\n",
    "ops.env = 25\n",
    "ops.delay = 25*minutes\n",
    "ops.sink_decay = .6\n",
    "run2(ops, \"Test\")\n",
    "finish2()\n",
    "ax1.set_ylim(36.5, 37.5)\n",
    "ax1.yaxis.set_major_locator(MultipleLocator(0.2))"
   ]
  },
  {
   "cell_type": "markdown",
   "metadata": {},
   "source": [
    "# Multi graph comparison with 3L real data"
   ]
  },
  {
   "cell_type": "code",
   "execution_count": 145,
   "metadata": {
    "collapsed": true
   },
   "outputs": [],
   "source": [
    "from officelib.xllib import *\n",
    "from officelib.const import xlconst as xlc\n",
    "import itertools\n",
    "from pysrc.snippets import smooth1"
   ]
  },
  {
   "cell_type": "code",
   "execution_count": 150,
   "metadata": {
    "collapsed": false
   },
   "outputs": [],
   "source": [
    "def clear_data():\n",
    "    xldata.clear()\n",
    "    loaded_data.clear()\n",
    "\n",
    "path = 'C:\\\\PBSCloudStation\\\\(2) R&D-Product Engineering\\\\Software Development\\\\3.0 Project\\\\Phase 2 Working Copy\\\\PID Tuning\\\\Temperature\\\\raw data\\\\3L\\\\'\n",
    "\n",
    "def new_pid(**kw):\n",
    "    # defaults for this set of tests\n",
    "    pid = PIDOps()\n",
    "    pid.p = 11\n",
    "    pid.i = 25\n",
    "    pid.d = 0\n",
    "    pid.alpha = -1\n",
    "    pid.linearity = 1\n",
    "    pid.beta = 0\n",
    "    pid.gamma = 1\n",
    "    pid.auto_max = 50\n",
    "    pid.auto_min = 0\n",
    "    pid.deadband = 0\n",
    "    pid.mode = 0\n",
    "    pid.man_request = 0\n",
    "    kw2 = {}\n",
    "    for k, v in kw.items(): \n",
    "        try:\n",
    "            setattr(pid, k, v)\n",
    "        except AttributeError:\n",
    "            kw2[k] = v\n",
    "    return pid, kw2\n",
    "\n",
    "def add_data(fn, pvr, hdr, **kw):\n",
    "    fn = path + fn\n",
    "    pid, kw2 = new_pid(**kw)\n",
    "    xldata.append((fn, pvr, hdr, pid, kw2))"
   ]
  },
  {
   "cell_type": "code",
   "execution_count": 151,
   "metadata": {
    "collapsed": false
   },
   "outputs": [],
   "source": [
    "_ref_cache = {}\n",
    "def clear_cache():\n",
    "    _ref_cache.clear()\n",
    "def _load(cr, r):\n",
    "    x,y = [np.array(v) for v in list(zip(*cr(r).Value))]\n",
    "    x2, y2 = smooth1(np.rint(x).astype(int), y.astype(float))\n",
    "    x3 = np.array(list(map(float, x2))) / 60\n",
    "    y3 = np.array(list(map(float, y2)))\n",
    "    return x3, y3    \n",
    "\n",
    "def load_data(data=None):\n",
    "    if data is None:\n",
    "        data = xldata\n",
    "    global loaded_data, _ref_cache\n",
    "    loaded_data = []\n",
    "    xl = None\n",
    "    for fn, pvr, hdr, pid, kw in data:\n",
    "        cache_key = (fn, pvr, hdr)\n",
    "        if cache_key in _ref_cache:\n",
    "            (pvx, pvy), (hdx, hdy) = _ref_cache[cache_key]\n",
    "        else:\n",
    "            if xl is None:\n",
    "                xl = Excel()\n",
    "            with screen_lock(xl):\n",
    "                wb = xl.Workbooks.Open(fn)\n",
    "                ws = wb.Worksheets(\"Data2\")\n",
    "                cr = ws.Cells.Range\n",
    "                try:\n",
    "                    pvx, pvy = _load(cr, pvr)\n",
    "                    hdx, hdy = _load(cr, hdr)\n",
    "                except:\n",
    "                    print(pvr, hdr)\n",
    "                    raise\n",
    "                wb.Close()\n",
    "            _ref_cache[cache_key] = (pvx, pvy), (hdx, hdy)\n",
    "        \n",
    "        loaded_data.append((pid, kw, (pvx, pvy), (hdx, hdy)))\n",
    "    if xl is not None:\n",
    "        xl.Quit()"
   ]
  },
  {
   "cell_type": "code",
   "execution_count": 191,
   "metadata": {
    "collapsed": false
   },
   "outputs": [],
   "source": [
    "def dlb():\n",
    "    from hello.hello3 import HelloApp\n",
    "    import os\n",
    "    h=HelloApp('192.168.1.21')\n",
    "    xl = Excel()\n",
    "    for bn in \"tpid 1.28\", \"tpid 1.29\":\n",
    "        fn = bn+\".csv\"\n",
    "        if not os.path.exists(fn): dl(h, bn, fn)\n",
    "        print('opening workbook')\n",
    "        analyze(fn)\n",
    "    \n",
    "    print(\"Done.\")\n",
    "        \n",
    "def dl(h, bn, fn=None):\n",
    "    fn = fn or bn+\".csv\"\n",
    "    h.login()\n",
    "    print('downloading', bn)\n",
    "    b = h.getdatareport_bybatchname(bn)\n",
    "    print('writing to file')\n",
    "    with open(fn, 'wb') as f:\n",
    "        f.write(b)\n",
    "            \n",
    "def analyze(fn):\n",
    "    fp = os.path.abspath(fn)\n",
    "    xl = Excel()\n",
    "    with screen_lock(xl):\n",
    "        wb = xl.Workbooks.Open(fp)\n",
    "        _analyze(wb)\n",
    "    n = wb.Name\n",
    "    cr = wb.Worksheets(\"Data2\").Cells.Range\n",
    "    r1 = cr(\"A2\", cr(\"A2\").End(xlc.xlDown).Offset(1,2)).Address\n",
    "    r2 = cr(\"D2\", cr(\"D2\").End(xlc.xlDown).Offset(1,2)).Address\n",
    "    stuff = \", \".join(repr(t) for t in (n, r1, r2)).replace(\"'\", '\"')\n",
    "    wb.Close()\n",
    "    print(\"add_data line: add_data(%s)\"%stuff)\n",
    "    \n",
    "def xlp(ws, rc):\n",
    "    cr = ws.Cells.Range\n",
    "    chart = CreateChart(ws, xlc.xlXYScatterLinesNoMarkers)\n",
    "    x1 = cr(rc.Offset(2,2), rc.End(xlc.xlDown).Offset(1,2))\n",
    "    y1 = cr(rc.Offset(2,3), rc.End(xlc.xlDown).Offset(1,3))\n",
    "    chart.ApplyLayout(8)\n",
    "    FormatChart(chart, None, None, \"Time(min)\", rc.Value)\n",
    "    CreateDataSeries(chart, x1, y1)\n",
    "    return chart, x1, y1\n",
    "    \n",
    "def _ref(r,m=1):\n",
    "    n = r.Worksheet.Name\n",
    "    v = [[\"='%s'!%s\"%(n, c.Address)] for c in r]\n",
    "    if m != 1:\n",
    "        s = \"*%s\"%m\n",
    "        for t in v:\n",
    "            t[0]+=s\n",
    "    return v\n",
    "\n",
    "def _cpr(cr, c, r, m=1):\n",
    "    v = _ref(r,m)\n",
    "    cr(c, c.Offset(len(v), 1)).Value = v   \n",
    "    \n",
    "def _analyze(wb):\n",
    "    from officelib.const import xlconst as xlc\n",
    "    ws = wb.Worksheets(1)\n",
    "    cells = ws.Cells\n",
    "    cr = cells.Range\n",
    "    hdc = cells.Find(What=\"TempHeatDutyActual\")\n",
    "    pvc = cells.Find(What=\"TempPV(C)\")\n",
    "    hdc.Offset(1,2).EntireColumn.Insert()\n",
    "    pvc.Offset(1,2).EntireColumn.Insert()\n",
    "    \n",
    "    pvc.Offset(1,2).Value = 1440\n",
    "    a1 = pvc.Offset(2,1).GetAddress(0,0)\n",
    "    a2 = pvc.Offset(2,1).Address\n",
    "    a3 = pvc.Offset(1,2).Address\n",
    "    pvc.Offset(2,2).Value = \"=(%s-%s)*%s\"%(a1, a2, a3)\n",
    "    af = cr(pvc.Offset(2,2), pvc.End(xlc.xlDown).Offset(1,2))\n",
    "    pvc.Offset(2,2).AutoFill(af)\n",
    "    \n",
    "    af2 = cr(hdc.Offset(2,2), hdc.End(xlc.xlDown).Offset(1,2))\n",
    "    a4 = hdc.Offset(2,1).GetAddress(0,0)\n",
    "    hdc.Offset(2,2).Value = \"=(%s-%s)*%s\"%(a4, a2, a3)\n",
    "    hdc.Offset(2,2).AutoFill(af2)\n",
    "    \n",
    "    af.NumberFormat = \"0.00\"\n",
    "    af2.NumberFormat = \"0.00\"\n",
    "    \n",
    "    c1, x1, y1 = xlp(ws, pvc)\n",
    "    c2, x2, y2 = xlp(ws, hdc)\n",
    "    FormatAxesScale(c1, 0, 120, 23, 38)\n",
    "    FormatAxesScale(c2, 0, 120)\n",
    "    c1.HasTitle=False\n",
    "    c2.HasTitle=False\n",
    "    \n",
    "    ws2 = wb.Worksheets.Add()\n",
    "    ws2.Name = \"Data2\"\n",
    "    cells2 = ws2.Cells; cr2 = cells2.Range\n",
    "    \n",
    "    cr2(\"B1\").Value = \"TempPV\"\n",
    "    a2 = cr2(\"A2\")\n",
    "    _cpr(cr2, a2, x1, 60)\n",
    "    _cpr(cr2, a2.Offset(1,2), y1, 1)\n",
    "    \n",
    "    cr2(\"D1\").Value = \"Heat Duty\"\n",
    "    d2 = cr2(\"D2\")\n",
    "    _cpr(cr2, d2, x2, 60)\n",
    "    _cpr(cr2, d2.Offset(1,2), y2, 1)\n",
    "    \n",
    "    wb.SaveAs(path+wb.Name.replace(\".csv\", \".xlsx\"), FileFormat=xlc.xlOpenXMLWorkbook)"
   ]
  },
  {
   "cell_type": "code",
   "execution_count": 185,
   "metadata": {
    "collapsed": true
   },
   "outputs": [],
   "source": [
    "xldata = []\n",
    "loaded_data = []\n",
    "ax_list = []\n",
    "\n",
    "def setup4(new=False):\n",
    "    global fig, ax_list, colors, color\n",
    "    \n",
    "    cols = len(loaded_data)\n",
    "    rows = 2\n",
    "    nplots = cols*rows\n",
    "    \n",
    "    if not plt.get_fignums() or new or not fig or not axes:\n",
    "        ax_list = []\n",
    "        fig = plt.figure()\n",
    "        for i in range(1, cols+1):\n",
    "            a1 = fig.add_subplot(rows, cols, i)\n",
    "            a2 = fig.add_subplot(rows, cols, i+cols)\n",
    "            for ax in a1, a2:\n",
    "                b = ax.get_position()\n",
    "                ax.set_position([b.x0, b.y0, b.width*0.8, b.height])\n",
    "            ax_list.append((a1, a2))\n",
    "            \n",
    "    for a1, a2 in ax_list:\n",
    "        for a in a1, a2:\n",
    "            a.clear()\n",
    "            a.grid()\n",
    "\n",
    "    for t in fig.texts:\n",
    "        t.remove()\n",
    "        \n",
    "    colors = [\n",
    "        \"red\",\n",
    "        \"green\",\n",
    "        \"cyan\",\n",
    "        \"purple\",\n",
    "        \"orange\",\n",
    "        \"black\",\n",
    "        \"brown\"\n",
    "    ]\n",
    "    color = itertools.cycle(colors).__next__"
   ]
  },
  {
   "cell_type": "code",
   "execution_count": 194,
   "metadata": {
    "collapsed": true
   },
   "outputs": [],
   "source": [
    "def plot4(i, x, pv, hd, refpv, refhd):\n",
    "    ax1, ax2 = ax_list[i]\n",
    "    pvx, pvy = refpv\n",
    "    hdx, hdy = refhd\n",
    "    \n",
    "    ax1.plot(pvx, pvy, color=\"blue\", label=\"Real\")\n",
    "    ax1.plot(x, pv, color=\"red\", label=\"Test\")\n",
    "    \n",
    "    ax2.plot(hdx, hdy, color=\"blue\", label=\"Real\")\n",
    "    ax2.plot(x, hd, color=\"red\", label=\"Test\")\n",
    "    \n",
    "def temp_sim5(ops, hdy):\n",
    "    global sim\n",
    "    class DummyPID():\n",
    "        def __init__(self):\n",
    "            self.it = iter(hdy)\n",
    "            self.Uk = 0\n",
    "            self.Ui = 0\n",
    "            self.Up = 0\n",
    "            self.Ud = 0\n",
    "        def step(self, *args):\n",
    "            return next(self.it)\n",
    "    sim = TempSim(ops, ops.end)\n",
    "    sim._pid = DummyPID()\n",
    "    sim.sim_iters(ops.end/2)\n",
    "    sim.set_value('env', sim.get_value('env')-4)\n",
    "    sim.sim_iters(ops.end/2)\n",
    "    x = sim.get('x')\n",
    "    pv = sim.get('pv')\n",
    "    hd = sim.get('hd')\n",
    "    return x, pv, hd\n",
    "    \n",
    "def run4(ops, i, cfg):\n",
    "    pid, kw, pvs, hds = cfg\n",
    "    ops.pid = pid\n",
    "    for k,v in kw.items(): setattr(ops, k, v)\n",
    "    x, pv, hd = temp_sim1(ops)\n",
    "    plot4(i, x, pv, hd, pvs, hds)\n",
    "    \n",
    "def run5(ops, i, cfg):\n",
    "    pid, kw, pvs, hds = cfg\n",
    "    ops.pid = pid\n",
    "    for k,v in kw.items(): setattr(ops, k, v)\n",
    "    x, pv, hd = temp_sim5(ops, hds[1])\n",
    "    plot4(i, x, pv, hd, pvs, hds)\n",
    "    \n",
    "def finish4():\n",
    "    for a in itertools.chain(*ax_list):\n",
    "        a.xaxis.set_major_locator(MultipleLocator(30))\n",
    "        #a.legend(bbox_to_anchor=(0.99, 1.06), loc=\"upper left\")\n",
    "        if a.legend_:\n",
    "            mk_picker(fig, a)\n",
    "        a.set_xlim(0, 180)\n",
    "    for a1, a2 in ax_list:\n",
    "        a1.set_ylabel(\"Temp(C)\")\n",
    "        a2.set_ylabel(\"Heat Duty (%)\")\n",
    "        a1.set_ylim(36, 38)"
   ]
  },
  {
   "cell_type": "code",
   "execution_count": 187,
   "metadata": {
    "collapsed": true
   },
   "outputs": [],
   "source": [
    "def do4(ops):\n",
    "    if not loaded_data:\n",
    "        load_data()\n",
    "    setup4()\n",
    "    for i, d in enumerate(loaded_data):\n",
    "        run4(ops, i, d)\n",
    "    finish4()"
   ]
  },
  {
   "cell_type": "code",
   "execution_count": 188,
   "metadata": {
    "collapsed": true
   },
   "outputs": [],
   "source": [
    "ops = TempOps()\n",
    "\n",
    "# PID\n",
    "ops.pid.p = 40\n",
    "ops.pid.i = 6\n",
    "ops.pid.d = 0\n",
    "ops.pid.alpha = -1\n",
    "ops.pid.linearity = 1\n",
    "ops.pid.beta = 0\n",
    "ops.pid.gamma = 0\n",
    "ops.pid.auto_max = 50\n",
    "ops.pid.auto_min = 0\n",
    "ops.pid.deadband = 0\n",
    "ops.pid.mode = 0\n",
    "ops.pid.man_request = 0\n",
    "\n",
    "# plant    \n",
    "ops.k = -0.004209176  # C / min * C\n",
    "ops.g = 0.008794422   # C / min * % \n",
    "ops.delay = m2s(15)\n",
    "\n",
    "# Simulation\n",
    "ops.initial_pv = 22.9\n",
    "ops.env = 22.9\n",
    "ops.initial_output = 0\n",
    "ops.setpoint = 37\n",
    "ops.end = 2 * hours\n",
    "ops.mode = 'o2a'\n",
    "ops.process = TempProcess2\n",
    "ops.max_iters = 24 * hours\n",
    "ops.time_unit = minutes\n",
    "ops.g_mult = 1.2\n",
    "ops.k_mult = 0.5\n",
    "ops.sink_decay = 0.2"
   ]
  },
  {
   "cell_type": "code",
   "execution_count": 195,
   "metadata": {
    "collapsed": false
   },
   "outputs": [
    {
     "name": "stdout",
     "output_type": "stream",
     "text": [
      "opening workbook\n",
      "add_data line: add_data(\"tpid 1.28.xlsx\", \"$A$2:$B$245\", \"$D$2:$E$185\")\n",
      "opening workbook\n",
      "add_data line: add_data(\"tpid 1.29.xlsx\", \"$A$2:$B$229\", \"$D$2:$E$189\")\n",
      "Done.\n"
     ]
    }
   ],
   "source": [
    "dlb()"
   ]
  },
  {
   "cell_type": "code",
   "execution_count": 196,
   "metadata": {
    "collapsed": true
   },
   "outputs": [],
   "source": [
    "clear_data()\n",
    "add_data(\"verif test 170424.xlsx\", '$B$2:$C$188', '$F$2:$G$133', p=11, i=25)\n",
    "add_data(\"Temperature Ramp 170413.xlsx\", '$B$2:$C$471', '$F$2:$G$418', \n",
    "         p=40, i=6, initial_pv=22.9, env=22.9, g_mult=1.15)\n",
    "add_data(\"tpid 1.28.xlsx\", \"$A$2:$B$245\", \"$D$2:$E$185\", p=12, i=29, initial_pv=24, initial_output=50)\n",
    "add_data(\"tpid 1.29.xlsx\", \"$A$2:$B$229\", \"$D$2:$E$189\", p=13, i=26, initial_pv=26.5)\n",
    "load_data()"
   ]
  },
  {
   "cell_type": "code",
   "execution_count": 198,
   "metadata": {
    "collapsed": false
   },
   "outputs": [],
   "source": [
    "ops.process = TempProcess4\n",
    "ops.g_mult = 1.2\n",
    "ops.k_mult = .5\n",
    "ops.initial_pv = 25.2\n",
    "ops.env = 25\n",
    "ops.delay = 15*minutes\n",
    "ops.sink_decay = 0.2\n",
    "ops.end=180*minutes\n",
    "do4(ops)"
   ]
  },
  {
   "cell_type": "code",
   "execution_count": 83,
   "metadata": {
    "collapsed": false
   },
   "outputs": [
    {
     "ename": "NameError",
     "evalue": "name 'ops' is not defined",
     "output_type": "error",
     "traceback": [
      "\u001b[0;31m---------------------------------------------------------------------------\u001b[0m",
      "\u001b[0;31mNameError\u001b[0m                                 Traceback (most recent call last)",
      "\u001b[0;32m<ipython-input-83-89a8f53e83a6>\u001b[0m in \u001b[0;36m<module>\u001b[0;34m()\u001b[0m\n\u001b[1;32m      7\u001b[0m \u001b[0mload_data\u001b[0m\u001b[1;33m(\u001b[0m\u001b[1;33m)\u001b[0m\u001b[1;33m\u001b[0m\u001b[0m\n\u001b[1;32m      8\u001b[0m \u001b[1;33m\u001b[0m\u001b[0m\n\u001b[0;32m----> 9\u001b[0;31m \u001b[0mops\u001b[0m\u001b[1;33m.\u001b[0m\u001b[0mprocess\u001b[0m \u001b[1;33m=\u001b[0m \u001b[0mTempProcess2\u001b[0m\u001b[1;33m\u001b[0m\u001b[0m\n\u001b[0m\u001b[1;32m     10\u001b[0m \u001b[0mops\u001b[0m\u001b[1;33m.\u001b[0m\u001b[0mg_mult\u001b[0m \u001b[1;33m=\u001b[0m \u001b[1;36m1\u001b[0m\u001b[1;33m\u001b[0m\u001b[0m\n\u001b[1;32m     11\u001b[0m \u001b[0mops\u001b[0m\u001b[1;33m.\u001b[0m\u001b[0mk_mult\u001b[0m \u001b[1;33m=\u001b[0m \u001b[1;36m.5\u001b[0m\u001b[1;33m\u001b[0m\u001b[0m\n",
      "\u001b[0;31mNameError\u001b[0m: name 'ops' is not defined"
     ]
    }
   ],
   "source": [
    "ops.process = TempProcess2\n",
    "ops.g_mult = 1\n",
    "ops.k_mult = .5\n",
    "ops.initial_pv = 25.2\n",
    "ops.env = 25\n",
    "ops.end=180*minutes\n",
    "ops.delay = 15*minutes\n",
    "ops.sink_decay = .2\n",
    "do4(ops)"
   ]
  }
 ],
 "metadata": {
  "kernelspec": {
   "display_name": "Python 3",
   "language": "python",
   "name": "python3"
  },
  "language_info": {
   "codemirror_mode": {
    "name": "ipython",
    "version": 3
   },
   "file_extension": ".py",
   "mimetype": "text/x-python",
   "name": "python",
   "nbconvert_exporter": "python",
   "pygments_lexer": "ipython3",
   "version": "3.5.2"
  }
 },
 "nbformat": 4,
 "nbformat_minor": 1
}
