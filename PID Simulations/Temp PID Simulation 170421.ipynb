{
 "cells": [
  {
   "cell_type": "code",
   "execution_count": 26,
   "metadata": {
    "collapsed": false
   },
   "outputs": [
    {
     "name": "stdout",
     "output_type": "stream",
     "text": [
      "Using matplotlib backend: TkAgg\n"
     ]
    }
   ],
   "source": [
    "import numpy as np\n",
    "%matplotlib\n",
    "import matplotlib.pyplot as plt\n",
    "from hello.pid.lvpid import PIDController\n",
    "from hello.pid.delay import m2s, s2m, h2s, seconds, minutes, hours, days, DelayBuffer, DelaySink\n",
    "from matplotlib.ticker import MultipleLocator, FuncFormatter, FormatStrFormatter\n",
    "from hello.pid.picker import mk_picker"
   ]
  },
  {
   "cell_type": "code",
   "execution_count": 655,
   "metadata": {
    "collapsed": true
   },
   "outputs": [],
   "source": [
    "from decimal import Decimal as D\n",
    "class DelaySink():\n",
    "    def __init__(self, delay, initial, pc_decay=0.95, scalar=1):\n",
    "        assert 0 < pc_decay <= 1, \"don't be a retard\"\n",
    "        self.df1 = self.calc_df(delay, pc_decay)\n",
    "        if delay:\n",
    "            self.sink = initial * (1-self.df1) / self.df1\n",
    "        else:\n",
    "            self.sink = 0\n",
    "        self._delay = delay\n",
    "        self._pc = pc_decay\n",
    "        self.df2 = scalar*self.df1\n",
    "        \n",
    "    def calc_df(self, delay, pc):\n",
    "        if not delay:\n",
    "            return 1\n",
    "        # Attempt to be precise by temporarily using decimal.Decimal\n",
    "        one = D(1)\n",
    "        return float(one - (one - D(pc))**(one / D(delay)))\n",
    "        \n",
    "    def set_delay(self, delay):\n",
    "        self.df = self.calc_df(delay, self._pc)\n",
    "        self._delay = delay\n",
    "        \n",
    "    def delay(self, v):\n",
    "        \"\"\" Delay the value v and advance the decay model by 1 second.\n",
    "        Add v to the current sink, then allow the sink to decay\n",
    "        according to the decay factor. \n",
    "        \n",
    "        The total decay is given by sink * (df1 + df2). The value\n",
    "        returned to the system is given by sink * df1. The amount\n",
    "        lost (e.g., due to radiative heat losses) is given by \n",
    "        sink * df2. \n",
    "        \n",
    "        \"\"\"\n",
    "        self.sink += v\n",
    "        d1 = self.sink*self.df1\n",
    "        d2 = self.sink*self.df2\n",
    "        self.sink -= d1 + d2\n",
    "        return d1"
   ]
  },
  {
   "cell_type": "code",
   "execution_count": 656,
   "metadata": {
    "collapsed": false
   },
   "outputs": [],
   "source": [
    "class TempProcess():\n",
    "    def __init__(self, delay, initial=20, output=0, env=18.5, g=0.0019254, k=-0.001579031, g_mult=1):\n",
    "        \"\"\"\n",
    "        :param g: gain in units of C/min/%\n",
    "        :param k: decay rate in units of C/min/dT\n",
    "        \"\"\"\n",
    "        self.tdelay = DelayBuffer(delay, initial).cycle\n",
    "        self.g = g / 60\n",
    "        self.k = k / 60\n",
    "        self.env = env\n",
    "        self.pv = initial\n",
    "        \n",
    "    def step(self, op):\n",
    "        op = self.tdelay(op)\n",
    "        dT = self.pv - self.env\n",
    "        decay = self.k * dT\n",
    "        gain = self.g * op\n",
    "        dpv = decay + gain\n",
    "        self.pv += dpv\n",
    "        return self.pv\n",
    "    \n",
    "class TempProcess2():\n",
    "    def __init__(self, delay, initial=20, output=0, env=18.5, g=0.0019254, k=-0.001579031, decay=1):\n",
    "        \"\"\"\n",
    "        :param g: gain in units of C/min/%\n",
    "        :param k: decay rate in units of C/min/dT\n",
    "        \"\"\"\n",
    "        self.heatsink = DelaySink(delay, output, 0.95, decay)\n",
    "        self.g = g / 60\n",
    "        self.k = k / 60\n",
    "        self.env = env\n",
    "        self.pv = initial\n",
    "        \n",
    "    def step(self, op):\n",
    "        op = self.heatsink.delay(op)\n",
    "        dT = self.pv - self.env\n",
    "        decay = self.k * dT\n",
    "        gain = self.g * op\n",
    "        dpv = decay + gain\n",
    "        self.pv += dpv\n",
    "        return self.pv\n",
    "    \n",
    "class TempProcess3():\n",
    "    def __init__(self, delay, initial=20, output=0, env=18.5, g=0.0019254, k=-0.001579031, decay=1):\n",
    "        \"\"\"\n",
    "        :param g: gain in units of C/min/%\n",
    "        :param k: decay rate in units of C/min/dT\n",
    "        \"\"\"\n",
    "        self.heatsink = DelaySink(delay, 0, 0.95, decay)\n",
    "        self.g = g / 60\n",
    "        self.k = k / 60\n",
    "        self.env = env\n",
    "        self.pv = initial\n",
    "        \n",
    "    def step(self, op):\n",
    "        dT = self.pv - self.env\n",
    "        decay = self.k * dT\n",
    "        gain = self.g * op\n",
    "        gain = self.heatsink.delay(gain)\n",
    "        dpv = decay + gain\n",
    "        self.pv += dpv\n",
    "        return self.pv\n",
    "    \n",
    "from math import sqrt\n",
    "    \n",
    "class TempProcess4():\n",
    "    k = -0.0046458109010744375\n",
    "    \n",
    "    def __init__(self, delay, initial=20, output=0, env=18.5, g=0.0019254, k=-0.004645810, decay=1):\n",
    "        \"\"\"\n",
    "        :param g: gain in units of C/min/%\n",
    "        :param k: decay rate in units of C/min/dT\n",
    "        \"\"\"\n",
    "        self.heatsink = DelaySink(delay, 0, 0.95, decay)\n",
    "        self.g = g / 60\n",
    "        self.k = k / 60\n",
    "        self.env = env\n",
    "        self.pv = initial\n",
    "        \n",
    "    def step(self, op):\n",
    "        dT = self.pv - self.env\n",
    "        decay = self.k * sqrt(dT)a\n",
    "        gain = self.g * op\n",
    "        gain = self.heatsink.delay(gain)\n",
    "        dpv = decay + gain\n",
    "        self.pv += dpv\n",
    "        return self.pv"
   ]
  },
  {
   "cell_type": "code",
   "execution_count": 657,
   "metadata": {
    "collapsed": false
   },
   "outputs": [],
   "source": [
    "from pysrc.snippets import OptionCategory\n",
    "\n",
    "offset = 0\n",
    "p = 60\n",
    "i = 35\n",
    "data = []\n",
    "delay=m2s(15)\n",
    "\n",
    "class PIDOps(OptionCategory):\n",
    "    # PID \n",
    "    p = 60\n",
    "    i = 35\n",
    "    d = 0\n",
    "    alpha = -1\n",
    "    linearity = 1\n",
    "    beta = 1\n",
    "    gamma = 0\n",
    "    auto_max = 100\n",
    "    auto_min = 0\n",
    "    deadband = 0\n",
    "    mode = 0\n",
    "    man_request = 0\n",
    "    \n",
    "class TempOps(OptionCategory):    \n",
    "    \n",
    "    pid = PIDOps()\n",
    "    \n",
    "    # plant    \n",
    "    k = -0.00357  # C / min * C\n",
    "    g = 0.002053  # C / min * % \n",
    "    k_mult = 1\n",
    "    g_mult = 1\n",
    "    delay = m2s(5)\n",
    "    \n",
    "    # Simulation\n",
    "    initial_pv = 20\n",
    "    env = 20\n",
    "    initial_output = 0\n",
    "    setpoint = 37\n",
    "    end = 5 * hours\n",
    "    mode = 'o2a'\n",
    "    process = TempProcess2\n",
    "    max_iters = 24 * hours\n",
    "    time_unit = hours\n",
    "    sink_decay = 0\n",
    "    "
   ]
  },
  {
   "cell_type": "code",
   "execution_count": 658,
   "metadata": {
    "collapsed": true
   },
   "outputs": [],
   "source": [
    "from hello.pid.plots import RingBuffer\n",
    "\n",
    "class DataQueue():\n",
    "    \"\"\" Standard data container for a single set of data.\n",
    "    Stores permenant data internally in a RingBuffer.\n",
    "    For performance reasons, store pending values \n",
    "    in a simple python list, and push them to the \n",
    "    permanent buffer only when explicitly requested. \n",
    "    \"\"\"\n",
    "    def __init__(self, pts):\n",
    "        self._values = RingBuffer(pts)\n",
    "        self._pending = []\n",
    "        self.put = self._pending.append\n",
    "        \n",
    "    def __len__(self):\n",
    "        return len(self._values)\n",
    "        \n",
    "    def push(self):\n",
    "        self._values.extend(self._pending)\n",
    "        self._pending.clear()\n",
    "        self.put = self._pending.append\n",
    "        \n",
    "    def get(self):\n",
    "        self.push()\n",
    "        return self._values.get()\n",
    "\n",
    "    def clear(self):\n",
    "        self._values.clear()\n",
    "        self._pending.clear()\n",
    "        \n",
    "    def resize(self, new_sz):\n",
    "        self.push()\n",
    "        nv = RingBuffer(new_sz)\n",
    "        nv.extend(self.get())\n",
    "        self._values = nv\n",
    "\n",
    "        \n",
    "def _mk_pid(pidops, pv, sp, req, mode):\n",
    "    c = PIDController(pgain=pidops.p,               itime=pidops.i,\n",
    "                      dtime=pidops.d,               auto_max=pidops.auto_max,\n",
    "                      auto_min=pidops.auto_min,       \n",
    "                      beta=pidops.beta,\n",
    "                      linearity=pidops.linearity,   alpha=pidops.alpha,\n",
    "                      deadband=pidops.deadband,     sp_high=100, sp_low=0,\n",
    "                      gamma=pidops.gamma,           man_request=pidops.man_request,\n",
    "                      mode=pidops.mode)\n",
    "    if mode == \"o2a\":\n",
    "        c.off_to_auto(pv, sp)\n",
    "    elif mode == \"m2a\":\n",
    "        c.man_to_auto(pv, sp, req)\n",
    "    elif mode == \"a2a\":\n",
    "        c.man_to_auto(pv, pv, req)\n",
    "    else:\n",
    "        raise ValueError(mode)\n",
    "    return c\n",
    "        \n",
    "        \n",
    "class TempSim():\n",
    "    def __init__(self, ops, pts=None):\n",
    "        self.ops = ops\n",
    "        if pts is None:\n",
    "            pts = ops.end\n",
    "        self._mi = self.ops.max_iters\n",
    "        self._data = {}\n",
    "        self._pts = pts\n",
    "        vars = [\n",
    "            \"x\", \"pv\", \"env\", \"hd\",\n",
    "            \"uk\", \"up\", \"ui\", \"ud\",\n",
    "        ]\n",
    "        for v in vars:\n",
    "            self._add_queue(v)\n",
    "            \n",
    "        pv = ops.initial_pv\n",
    "        sp = ops.setpoint\n",
    "        hd = ops.initial_output\n",
    "        \n",
    "        def minmax(v): return min(100, max(v, 0))\n",
    "        hd = minmax(hd)\n",
    "            \n",
    "        self._pid = _mk_pid(ops.pid, pv, sp, hd, ops.mode)\n",
    "            \n",
    "        delay = ops.delay\n",
    "        ProcessClass = ops.process\n",
    "    \n",
    "        self._proc = ProcessClass(delay, pv, hd, ops.env, ops.g*ops.g_mult, \n",
    "                                  ops.k*ops.k_mult, ops.sink_decay)\n",
    "        self._time_unit = ops.time_unit\n",
    "            \n",
    "        self._state = s = {}\n",
    "        s['t'] = 0\n",
    "        s['sp'] = sp\n",
    "        s['pv'] = pv\n",
    "        s['k'] = ops.k\n",
    "        s['g'] = ops.g\n",
    "        s['hd'] = hd\n",
    "        s['env'] = ops.env        \n",
    "        \n",
    "    @property\n",
    "    def state(self):\n",
    "        return self._state.copy()\n",
    "        \n",
    "    def _add_queue(self, name):\n",
    "        if name in self._data:\n",
    "            raise ValueError(name)\n",
    "        self._data[name] = DataQueue(self._pts)\n",
    "        setattr(self, \"_\"+name, self._data[name])\n",
    "        \n",
    "    def getq(self, name):\n",
    "        return self._data[name]\n",
    "    \n",
    "    def get(self, name):\n",
    "        return self.getq(name).get()\n",
    "    \n",
    "    def legacy_data(self):\n",
    "        \"\"\" Sloppily return data in legacy format \n",
    "        so I don't have to refactor a bunch of functions. \n",
    "        \"\"\"\n",
    "        return self._x.get(), self._pv.get(), self._hd.get()\n",
    "        \n",
    "    def sim_iters(self, iters=0):\n",
    "        \n",
    "        if iters > self._mi:\n",
    "            iters = self._mi\n",
    "        if iters <= 0:\n",
    "            return\n",
    "            \n",
    "        # Optimize bytecode a bit...\n",
    "        _x = self._x\n",
    "        _pv = self._pv\n",
    "        _env = self._env\n",
    "        _hd = self._hd\n",
    "        _uk = self._uk\n",
    "        _up = self._up\n",
    "        _ui = self._ui\n",
    "        _ud = self._ud\n",
    "\n",
    "        s = self._state\n",
    "        t = s['t']\n",
    "        sp = s['sp']\n",
    "        env = s['env']\n",
    "        pv = s['pv']\n",
    "        \n",
    "        time_unit = self._time_unit\n",
    "        proc = self._proc\n",
    "        pid = self._pid\n",
    "        \n",
    "        while iters > 0:\n",
    "            iters -= 1\n",
    "            t += 1\n",
    "            \n",
    "            op = pid.step(pv, sp)\n",
    "            pv = proc.step(op)\n",
    "\n",
    "            _x.put(t/time_unit)\n",
    "            _pv.put(pv)\n",
    "            _env.put(proc.env)\n",
    "            _hd.put(op)\n",
    "\n",
    "            _uk.put(pid.Uk)\n",
    "            _up.put(pid.Up)\n",
    "            _ui.put(pid.Ui)\n",
    "            _ud.put(pid.Ud)\n",
    "            \n",
    "        s['t'] = t\n",
    "        s['sp'] = sp\n",
    "        s['pv'] = pv\n",
    "        s['hd'] = op\n",
    "        s['env'] = proc.env\n",
    "        \n",
    "    def set_time(self, t):\n",
    "        self._state['t'] = t\n",
    "        \n",
    "    def set_pid_value(self, param, value):\n",
    "        \n",
    "        if param == \"pgain\":\n",
    "            pid.pgain = value\n",
    "        elif param == \"itime\":\n",
    "            pid.itime = m2s(value)\n",
    "        elif param == \"dtime\":\n",
    "            pid.dtime = m2s(value)\n",
    "        elif param == \"beta\":\n",
    "            pid.b = value\n",
    "        elif param == \"mode\":\n",
    "            pid.set_mode(value, pv, sp)\n",
    "        elif param == \"man\":\n",
    "            pid.man_request = float(value)\n",
    "        else:\n",
    "            print(\"Invalid parameter: %r\" % param)\n",
    "    \n",
    "    def set_value(self, name, value):\n",
    "        if name in self._state:\n",
    "            self._state[name] = value\n",
    "            if name == \"env\":\n",
    "                self._proc.env = value\n",
    "        else:\n",
    "            print(\"Error Invalid Value: %r\" % name)\n",
    "\n",
    "    def clear_data(self):\n",
    "        for q in self._data.values():\n",
    "            q.clear()\n",
    "        self._state['t'] = 0\n",
    "\n",
    "    def resize(self, n):\n",
    "        for q in self._data.values():\n",
    "            q.resize(n)"
   ]
  },
  {
   "cell_type": "code",
   "execution_count": 90,
   "metadata": {
    "collapsed": true
   },
   "outputs": [],
   "source": [
    "def declare_list(name):\n",
    "    if name not in globals():\n",
    "        globals()[name] = []"
   ]
  },
  {
   "cell_type": "markdown",
   "metadata": {},
   "source": [
    "# Test 1: Initial PID Exploration for 3L"
   ]
  },
  {
   "cell_type": "code",
   "execution_count": 91,
   "metadata": {
    "collapsed": true
   },
   "outputs": [],
   "source": [
    "import sys\n",
    "_g_axes = []\n",
    "def mk_axes():\n",
    "    global _g_axes\n",
    "    _g_axes = []\n",
    "    i = 1\n",
    "    while True:\n",
    "        try:\n",
    "            ax = globals()['ax' + str(i)]\n",
    "        except KeyError:\n",
    "            break\n",
    "        else:\n",
    "            _g_axes.append(ax)\n",
    "        i += 1\n",
    "\n",
    "def axes():\n",
    "    return _g_axes"
   ]
  },
  {
   "cell_type": "code",
   "execution_count": 376,
   "metadata": {
    "collapsed": true
   },
   "outputs": [],
   "source": [
    "def setup1(new=False):\n",
    "    global fig, ax1, ax2, ax3, ax4, ax5, ax6\n",
    "    \n",
    "    if not plt.get_fignums() or new:\n",
    "        fig = plt.figure()\n",
    "        ax1 = fig.add_subplot(2,1,1)\n",
    "        ax2 = fig.add_subplot(2,1,2)\n",
    "        mk_axes()\n",
    "        for a in ax1, ax2:\n",
    "            b = a.get_position()\n",
    "            a.set_position([b.x0, b.y0, b.width*0.8, b.height])\n",
    "            a.grid()\n",
    "    else:\n",
    "        for a in axes():\n",
    "            a.clear()\n",
    "            a.grid()\n",
    "        for t in fig.texts:\n",
    "            t.remove()\n",
    "    \n",
    "    global colors, color\n",
    "    colors = [\n",
    "        \"blue\",\n",
    "        \"red\",\n",
    "        \"green\",\n",
    "        \"cyan\",\n",
    "        \"purple\",\n",
    "        \"orange\",\n",
    "        \"black\"\n",
    "    ]\n",
    "\n",
    "    import itertools\n",
    "    color = itertools.cycle(colors).__next__"
   ]
  },
  {
   "cell_type": "code",
   "execution_count": 647,
   "metadata": {
    "collapsed": true
   },
   "outputs": [],
   "source": [
    "def temp_sim1(ops):\n",
    "    global sim\n",
    "    sim = TempSim(ops, ops.end)\n",
    "    sim.sim_iters(ops.end)\n",
    "    x = sim.get('x')\n",
    "    pv = sim.get('pv')\n",
    "    hd = sim.get('hd')\n",
    "    return x, pv, hd\n",
    "\n",
    "def _p1(ax, x, y, color, label, ylabel=None):\n",
    "    ax.plot(x,y, color=color, label=label)\n",
    "    if ylabel:\n",
    "        ax.set_ylabel(ylabel)\n",
    "\n",
    "def plot1(x, pv, hd, label=\"\"):\n",
    "    c = color()\n",
    "    _p1(ax1, x, pv, c, label, \"Temp (C)\")\n",
    "    _p1(ax2, x, hd, c, label, \"Heater Duty (%)\")\n",
    "    \n",
    "    ax1.axhline(y=ops.setpoint, ls=\"--\", color=\"black\")\n",
    "    \n",
    "    ax1.yaxis.set_major_formatter(FormatStrFormatter(\"%.2f\"))\n",
    "    ax2.yaxis.set_major_formatter(FormatStrFormatter(\"%d\"))\n",
    "    \n",
    "    for a in axes():\n",
    "        a.xaxis.set_major_locator(MultipleLocator(30))\n",
    "        a.legend(bbox_to_anchor=(0.99, 1.06), loc=\"upper left\")\n",
    "    \n",
    "    fig.canvas.flush_events()\n",
    "    fig.canvas.draw()\n",
    "    \n",
    "def run1(ops, label=\"\"):\n",
    "    global x, pv, hd\n",
    "    x,pv,hd = temp_sim1(ops)\n",
    "    plot1(x,pv, hd, label)\n",
    "\n",
    "def finish1():\n",
    "    for a in axes():\n",
    "        if a.legend_:\n",
    "            mk_picker(fig, a)\n",
    "    "
   ]
  },
  {
   "cell_type": "code",
   "execution_count": 388,
   "metadata": {
    "collapsed": false
   },
   "outputs": [],
   "source": [
    "ops = TempOps()\n",
    "\n",
    "# PID\n",
    "ops.pid.p = 40\n",
    "ops.pid.i = 6\n",
    "ops.pid.d = 0\n",
    "ops.pid.alpha = -1\n",
    "ops.pid.linearity = 1\n",
    "ops.pid.beta = 0\n",
    "ops.pid.gamma = 0\n",
    "ops.pid.auto_max = 50\n",
    "ops.pid.auto_min = 0\n",
    "ops.pid.deadband = 0\n",
    "ops.pid.mode = 0\n",
    "ops.pid.man_request = 0\n",
    "\n",
    "# plant    \n",
    "ops.k = -0.004209176  # C / min * C\n",
    "ops.g = 0.008794422   # C / min * % \n",
    "ops.delay = m2s(5)\n",
    "\n",
    "# Simulation\n",
    "ops.initial_pv = 22.9\n",
    "ops.env = 22.9\n",
    "ops.initial_output = 0\n",
    "ops.setpoint = 37\n",
    "ops.end = 2 * hours\n",
    "ops.mode = 'o2a'\n",
    "ops.process = TempProcess\n",
    "ops.max_iters = 24 * hours\n",
    "ops.time_unit = minutes"
   ]
  },
  {
   "cell_type": "code",
   "execution_count": 118,
   "metadata": {
    "collapsed": false
   },
   "outputs": [],
   "source": [
    "setup1()\n",
    "for d in (3, 5, 10):\n",
    "    ops.delay = d*minutes\n",
    "    run1(ops, \"D: %d\"%d)\n",
    "finish1()"
   ]
  },
  {
   "cell_type": "markdown",
   "metadata": {},
   "source": [
    "# Test 2: Comparison of real vs test data"
   ]
  },
  {
   "cell_type": "code",
   "execution_count": 284,
   "metadata": {
    "collapsed": false
   },
   "outputs": [],
   "source": [
    "def setup2(new=False):\n",
    "    setup1(new)\n",
    "    _p1(ax1, pvx, pvy, \"blue\", \"Real\", \"Temp (C)\")\n",
    "    _p1(ax2, hdx, hdy, \"blue\", \"Real\", \"Heat Duty (%)\")\n",
    "\n",
    "def plot2(x, pv, hd, label=\"\"):\n",
    "    c = \"blue\"\n",
    "    while c == \"blue\":\n",
    "        c = color()\n",
    "    _p1(ax1, x, pv, c, label if label else \"Sim\")\n",
    "    _p1(ax2, x, hd, c, label if label else \"Sim\")\n",
    "    \n",
    "    ax1.axhline(y=ops.setpoint, ls=\"--\", color=\"black\")\n",
    "    ax1.yaxis.set_major_formatter(FormatStrFormatter(\"%.2f\"))\n",
    "    ax2.yaxis.set_major_formatter(FormatStrFormatter(\"%d\"))\n",
    "    \n",
    "    for a in ax1, ax2:\n",
    "        a.xaxis.set_major_locator(MultipleLocator(30))\n",
    "        a.legend(bbox_to_anchor=(0.99, 1.06), loc=\"upper left\")\n",
    "        a.set_xlim(0, 120)\n",
    "        \n",
    "def run2(ops, label=\"\"):\n",
    "    global x, pv, hd\n",
    "    x,pv,hd = temp_sim1(ops)\n",
    "    plot2(x, pv, hd, label)\n",
    "    \n",
    "finish2 = finish1"
   ]
  },
  {
   "cell_type": "markdown",
   "metadata": {},
   "source": [
    "# Test 3: PID Tuning with 3L Model"
   ]
  },
  {
   "cell_type": "code",
   "execution_count": 458,
   "metadata": {
    "collapsed": true
   },
   "outputs": [],
   "source": [
    "def curviness(data):\n",
    "    # giggity\n",
    "    g = np.gradient\n",
    "    d2dt = g(g(data, 1), 1)\n",
    "    return sum(d2dt)**2"
   ]
  },
  {
   "cell_type": "code",
   "execution_count": 877,
   "metadata": {
    "collapsed": true
   },
   "outputs": [],
   "source": [
    "ops = TempOps()\n",
    "\n",
    "# PID\n",
    "ops.pid.p = 40\n",
    "ops.pid.i = 6\n",
    "ops.pid.d = 0\n",
    "ops.pid.alpha = -1\n",
    "ops.pid.linearity = 1\n",
    "ops.pid.beta = 0\n",
    "ops.pid.gamma = 0\n",
    "ops.pid.auto_max = 50\n",
    "ops.pid.auto_min = 0\n",
    "ops.pid.deadband = 0\n",
    "ops.pid.mode = 0\n",
    "ops.pid.man_request = 0\n",
    "\n",
    "# plant    \n",
    "ops.k = -0.004209176  # C / min * C\n",
    "ops.g = 0.008794422   # C / min * % \n",
    "ops.delay = m2s(15)\n",
    "\n",
    "# Simulation\n",
    "ops.initial_pv = 22.9\n",
    "ops.env = 22.9\n",
    "ops.initial_output = 0\n",
    "ops.setpoint = 37\n",
    "ops.end = 2 * hours\n",
    "ops.mode = 'o2a'\n",
    "ops.process = TempProcess2\n",
    "ops.max_iters = 24 * hours\n",
    "ops.time_unit = minutes\n",
    "ops.g_mult = 1.2\n",
    "ops.k_mult = 0.5\n",
    "ops.sink_decay = 0.2"
   ]
  },
  {
   "cell_type": "code",
   "execution_count": 853,
   "metadata": {
    "collapsed": true
   },
   "outputs": [],
   "source": [
    "setup3=setup1\n",
    "plot3=plot1\n",
    "def run3(ops, lbl):\n",
    "    global x,pv,hd\n",
    "    x,pv,hd = temp_sim1(ops)\n",
    "    plot3(x,pv,hd,lbl)\n",
    "def plot3(*args):\n",
    "    plot1(*args)\n",
    "    ax1.set_ylim(36, 38)\n",
    "finish3=finish1    "
   ]
  },
  {
   "cell_type": "code",
   "execution_count": 854,
   "metadata": {
    "collapsed": false
   },
   "outputs": [],
   "source": [
    "setup3()\n",
    "for i in (6, 8, 9):\n",
    "    ops.pid.p = 40\n",
    "    ops.pid.i = i\n",
    "    run3(ops, \"i:%d\"%i)\n",
    "finish3()"
   ]
  },
  {
   "cell_type": "code",
   "execution_count": 855,
   "metadata": {
    "collapsed": false
   },
   "outputs": [],
   "source": [
    "setup3()\n",
    "for p in (10, 20, 14):\n",
    "    ops.pid.p = p\n",
    "    ops.pid.i = 20\n",
    "    run3(ops, \"P:%d\"%p)\n",
    "finish3()"
   ]
  },
  {
   "cell_type": "code",
   "execution_count": 857,
   "metadata": {
    "collapsed": true
   },
   "outputs": [],
   "source": [
    "setup3()\n",
    "ops.pid.p = 14\n",
    "ops.pid.i = 20\n",
    "for env in 16, 20, 24:\n",
    "    ops.env = env\n",
    "    run3(ops, \"E:%d\"%env)\n",
    "finish3()\n",
    "ax1.yaxis.set_major_locator(MultipleLocator(0.2))\n",
    "ops.env=22.9"
   ]
  },
  {
   "cell_type": "markdown",
   "metadata": {},
   "source": [
    "## Test above simulation in excel"
   ]
  },
  {
   "cell_type": "code",
   "execution_count": 863,
   "metadata": {
    "collapsed": false
   },
   "outputs": [],
   "source": [
    "wb2 = xl.Workbooks(\"2017042116075752.xlsx\")\n",
    "cell_range = wb2.ActiveSheet.Cells.Range\n",
    "pvx, pvy = get(\"EE2:EF1497\")\n",
    "hdx, hdy = get(\"DU2:DV1434\")"
   ]
  },
  {
   "cell_type": "code",
   "execution_count": 999,
   "metadata": {
    "collapsed": false
   },
   "outputs": [],
   "source": [
    "setup2()\n",
    "ops.pid.p = 14\n",
    "ops.pid.i = 20\n",
    "ops.g_mult = 1.07\n",
    "ops.k_mult = 0.5\n",
    "ops.initial_pv = 23.6\n",
    "ops.delay = 17*minutes\n",
    "ops.sink_decay = 0.1\n",
    "ops.env = 18\n",
    "run2(ops, 'test')\n",
    "finish2()\n",
    "ax1.set_ylim(36, 38)\n",
    "ax1.yaxis.set_major_locator(MultipleLocator(0.2))\n",
    "#ax1.set_ylim(23, 25)\n",
    "#ax1.set_xlim(0, 10)"
   ]
  },
  {
   "cell_type": "code",
   "execution_count": 1007,
   "metadata": {
    "collapsed": false
   },
   "outputs": [],
   "source": [
    "setup3()\n",
    "ops.pid.p = 11\n",
    "\n",
    "for i in 20, 25:\n",
    "    ops.pid.i = i\n",
    "    ops.g_mult = 1.3\n",
    "    ops.k_mult = 0.5\n",
    "    ops.initial_pv = 23.6\n",
    "    ops.delay = 20*minutes\n",
    "    ops.sink_decay = 0.3\n",
    "    ops.env = 18\n",
    "    run3(ops, 'I:%d'%i)\n",
    "finish3()\n",
    "ax1.set_ylim(36, 38)\n",
    "ax1.yaxis.set_major_locator(MultipleLocator(0.2))\n",
    "    #ax1.set_ylim(23, 25)\n",
    "    #ax1.set_xlim(0, 10)"
   ]
  },
  {
   "cell_type": "code",
   "execution_count": 1034,
   "metadata": {
    "collapsed": true
   },
   "outputs": [],
   "source": [
    "setup3()\n",
    "\n",
    "for p in 10, 11, 12:\n",
    "    for i in 24, 25, 26:\n",
    "        ops.pid.p = p\n",
    "        ops.pid.i = i\n",
    "        ops.g_mult = 1.3\n",
    "        ops.k_mult = 0.5\n",
    "        ops.initial_pv = 23.6\n",
    "        ops.delay = 20*minutes\n",
    "        ops.sink_decay = 0.3\n",
    "        ops.env = 18\n",
    "        run3(ops, 'P:%d I:%d'%(p, i))\n",
    "finish3()\n",
    "ax1.set_ylim(36, 38)\n",
    "ax1.yaxis.set_major_locator(MultipleLocator(0.2))\n",
    "    #ax1.set_ylim(23, 25)\n",
    "    #ax1.set_xlim(0, 10)"
   ]
  },
  {
   "cell_type": "code",
   "execution_count": 1041,
   "metadata": {
    "collapsed": true
   },
   "outputs": [],
   "source": [
    "setup2()\n",
    "ops.pid.p = 11\n",
    "ops.pid.i = 25\n",
    "ops.g_mult = 1\n",
    "ops.k_mult = 0.2\n",
    "ops.initial_pv = 25.2\n",
    "ops.env = 25.2\n",
    "ops.delay = 20*minutes\n",
    "ops.sink_decay = 0\n",
    "run2(ops, \"Test\")\n",
    "finish2()\n",
    "ax1.set_ylim(36, 38)\n",
    "ax1.yaxis.set_major_locator(MultipleLocator(0.2))"
   ]
  },
  {
   "cell_type": "markdown",
   "metadata": {},
   "source": [
    "# Testing with Excel data for side-by-side comparison"
   ]
  },
  {
   "cell_type": "code",
   "execution_count": 1036,
   "metadata": {
    "collapsed": false
   },
   "outputs": [],
   "source": [
    "from officelib.xllib import *\n",
    "xl = Excel()\n",
    "wb = xl.ActiveWorkbook\n",
    "cells = wb.ActiveSheet.Cells\n",
    "cell_range = cells.Range"
   ]
  },
  {
   "cell_type": "code",
   "execution_count": 192,
   "metadata": {
    "collapsed": true
   },
   "outputs": [],
   "source": [
    "def paste():\n",
    "    x1 = map(float, x)\n",
    "    pv1 = map(float, pv)\n",
    "    hd1 = map(float, hd)\n",
    "    data = list(zip(x1, pv1, hd1))\n",
    "    c1 = cell_range(\"EG2\")\n",
    "    c2 = c1.Offset(len(data), len(data[0]))\n",
    "    cell_range(c1, c2).Value = data"
   ]
  },
  {
   "cell_type": "code",
   "execution_count": 402,
   "metadata": {
    "collapsed": false
   },
   "outputs": [],
   "source": [
    "base_g = .397637759 * 1\n",
    "amax = 50\n",
    "base_k = -0.004209176\n",
    "\n",
    "env = 22.9\n",
    "dt = (37+22)/2 - env\n",
    "ops.g = (base_g - dt * base_k) / amax\n",
    "ops.k = base_k\n",
    "ops.delay = 18 * minutes\n",
    "ops.process = TempProcess2\n",
    "\n",
    "setup1()\n",
    "run1(ops, \"test\")\n",
    "run1(ops, \"test2\")\n",
    "paste()"
   ]
  },
  {
   "cell_type": "code",
   "execution_count": 1037,
   "metadata": {
    "collapsed": true
   },
   "outputs": [],
   "source": [
    "def get(r):\n",
    "    return [np.array(d) for d in list(zip(*cell_range(r).Value))]\n",
    "pvx, pvy = get(\"DY2:DZ998\")\n",
    "hdx, hdy = get(\"DO2:DP930\")"
   ]
  },
  {
   "cell_type": "code",
   "execution_count": 466,
   "metadata": {
    "collapsed": false
   },
   "outputs": [],
   "source": [
    "base_g = .397637759 * 1\n",
    "amax = 50\n",
    "base_k = -0.004209176\n",
    "\n",
    "env = 22.9\n",
    "dt = (37+22)/2 - env\n",
    "ops.g = (base_g - dt * base_k) / amax\n",
    "ops.k = base_k\n",
    "ops.delay = 18 * minutes\n",
    "ops.process = TempProcess2\n",
    "\n",
    "setup2()\n",
    "ops.g_mult = 1.4\n",
    "_F = 1/2.5\n",
    "run2(ops)\n",
    "paste()"
   ]
  },
  {
   "cell_type": "code",
   "execution_count": 398,
   "metadata": {
    "collapsed": false
   },
   "outputs": [],
   "source": [
    "setup2()\n",
    "ops.env=22.9\n",
    "ops.delay = 15*minutes\n",
    "ops.process = TempProcess2\n",
    "for m in 0.2, 0.4, 0.6:\n",
    "    ops.g_mult = 1 + m\n",
    "    run2(ops, \"M:%.2f\"%(m))\n",
    "finish2()"
   ]
  },
  {
   "cell_type": "code",
   "execution_count": 465,
   "metadata": {
    "collapsed": false
   },
   "outputs": [],
   "source": [
    "setup2()\n",
    "d = 20\n",
    "ops.delay = 18*minutes\n",
    "ops.g_mult = 1.5\n",
    "ops.process = TempProcess2\n",
    "run2(ops, \"P1\")\n",
    "ops.process = TempProcess3\n",
    "run2(ops, \"P2\")\n",
    "finish2()"
   ]
  },
  {
   "cell_type": "code",
   "execution_count": 713,
   "metadata": {
    "collapsed": true
   },
   "outputs": [],
   "source": [
    "setup2()\n",
    "ops.env = 18\n",
    "ops.delay=15.1*minutes\n",
    "ops.process = TempProcess2\n",
    "ops.k_mult = 0.4\n",
    "x = .1\n",
    "ops.g_mult = 1 + x\n",
    "ops.sink_decay = x \n",
    "run2(ops, \"test\")\n",
    "finish2()\n",
    "paste()"
   ]
  },
  {
   "cell_type": "markdown",
   "metadata": {},
   "source": [
    "## Resuming 4/21/17 after a bit of a break"
   ]
  },
  {
   "cell_type": "code",
   "execution_count": 714,
   "metadata": {
    "collapsed": true
   },
   "outputs": [],
   "source": [
    "from pysrc.snippets import smooth1\n",
    "pvx2, pvy2 = smooth1((pvx*60).astype(int), pvy.astype(float))\n",
    "hdx2, hdy2 = smooth1((hdx*60).astype(int), hdy.astype(float))\n",
    "pvx2 = np.array([float(f) for f in pvx2])\n",
    "pvy2 = np.array([float(f) for f in pvy2])\n",
    "hdx2 = np.array([float(f) for f in hdx2])\n",
    "hdy2 = np.array([float(f) for f in hdy2])\n",
    "\n",
    "def rerror(s=None, e=None):\n",
    "    s = s or 40*60\n",
    "    e = e or 80*60\n",
    "    er = pvy2[s:e] - pv[s:e]\n",
    "    return sum(abs(er))"
   ]
  },
  {
   "cell_type": "code",
   "execution_count": 625,
   "metadata": {
    "collapsed": false
   },
   "outputs": [],
   "source": [
    "import peakutils\n",
    "def slope(x, y):\n",
    "    s = min(np.where(y == np.max(y))[0])\n",
    "    e = np.where(y[s:] < 37)[0]\n",
    "    e = min(e) if e.size else 10000\n",
    "    return np.polyfit(x[s:s+e], y[s:s+e], 1)"
   ]
  },
  {
   "cell_type": "code",
   "execution_count": 525,
   "metadata": {
    "collapsed": false,
    "scrolled": true
   },
   "outputs": [
    {
     "name": "stdout",
     "output_type": "stream",
     "text": [
      "D17 E18 105.543299918\n",
      "D16 E20 144.094834884\n",
      "D16 E22 205.24524067\n",
      "D16 E18 248.577207938\n",
      "D17 E20 261.569868252\n",
      "D18 E18 321.540571178\n",
      "D17 E22 467.738264084\n",
      "D18 E20 524.172192894\n",
      "D18 E22 721.665755739\n"
     ]
    }
   ],
   "source": [
    "# test impact of env and delay on error\n",
    "setup2()\n",
    "ops.k_mult = 0.4\n",
    "ops.g_mult = 1.3\n",
    "res = []\n",
    "for env in range(18, 23, 2):\n",
    "    for delay in range(16, 19):\n",
    "        ops.env = env\n",
    "        ops.delay = delay * minutes\n",
    "        lbl = \"D%d E%d\"%(delay, env)\n",
    "        run2(ops, lbl)\n",
    "        err = rerror(0, 7200)\n",
    "        res.append((lbl, err))\n",
    "finish2()\n",
    "#paste()\n",
    "ax1.set_ylim(36.8, 37.8)\n",
    "ax1.set_xlim(30, 100)\n",
    "for l,e in sorted(res, key=lambda t: t[1]):\n",
    "    print(l,e)"
   ]
  },
  {
   "cell_type": "code",
   "execution_count": 555,
   "metadata": {
    "collapsed": false,
    "scrolled": true
   },
   "outputs": [
    {
     "name": "stdout",
     "output_type": "stream",
     "text": [
      "-0.0292975987715 39.2418989624\n",
      "D16 E18 297.560819505 -0.0235603038964 38.9362500279\n",
      "D16 E19 297.560819505 -0.0235603038964 38.9362500279\n",
      "D16 E20 297.560819505 -0.0235603038964 38.9362500279\n",
      "D17 E18 559.968806574 -0.0232732601046 39.0212063526\n",
      "D17 E19 559.968806574 -0.0232732601046 39.0212063526\n",
      "D17 E20 559.968806574 -0.0232732601046 39.0212063526\n",
      "D18 E18 798.206999431 -0.0228498142741 39.0980882472\n",
      "D18 E19 798.206999431 -0.0228498142741 39.0980882472\n",
      "D18 E20 798.206999431 -0.0228498142741 39.0980882472\n"
     ]
    }
   ],
   "source": [
    "# test impact of env and delay on error and slope of PV decay after initial overshoot\n",
    "setup2()\n",
    "ops.k_mult = 0.4\n",
    "ops.g_mult = 1.3\n",
    "res = []\n",
    "print(*slope(pvx2/60, pvy2))\n",
    "for env in 18, 19, 20:\n",
    "    for delay in (16, 17, 18):\n",
    "        ops.delay = delay * minutes\n",
    "        lbl = \"D%d E%d\"%(delay, env)\n",
    "        run2(ops, lbl)\n",
    "        err = rerror(0, 7200)\n",
    "        res.append((lbl, err, slope(x, pv)))\n",
    "finish2()\n",
    "#paste()\n",
    "ax1.set_ylim(36.8, 37.8)\n",
    "ax1.set_xlim(30, 100)\n",
    "for l,e, (m,b) in sorted(res, key=lambda t: t[1]):\n",
    "    print(l,e, m, b)"
   ]
  },
  {
   "cell_type": "code",
   "execution_count": 636,
   "metadata": {
    "collapsed": false
   },
   "outputs": [
    {
     "name": "stdout",
     "output_type": "stream",
     "text": [
      "-0.0280962200519 39.1502643993\n",
      " 1.0 1.9 [ -0.03988626  38.95239163]"
     ]
    },
    {
     "data": {
      "text/plain": [
       "(30, 100)"
      ]
     },
     "execution_count": 636,
     "metadata": {},
     "output_type": "execute_result"
    }
   ],
   "source": [
    "# test impact of k and g multipliers on error and slope of PV decay after initial overshoot\n",
    "setup2()\n",
    "ops.k_mult = 0.4\n",
    "ops.g_mult = 1.3\n",
    "ops.env = 21\n",
    "ops.delay = 15*minutes\n",
    "res = []\n",
    "print(*slope(pvx2/60, pvy2))\n",
    "for k_mult in range(1, 11):\n",
    "    k_mult = k_mult / 10\n",
    "    ops.k_mult = k_mult\n",
    "    for g_mult in range(10):\n",
    "        g_mult = g_mult / 10 + 1\n",
    "        ops.g_mult = g_mult\n",
    "        lbl = \"k:%.1f g:%.1f\"%(k_mult, g_mult)\n",
    "        x, pv, hd = temp_sim1(ops)\n",
    "        #run2(ops, lbl)\n",
    "        err = rerror(0, 7200)\n",
    "        res.append((k_mult, g_mult, slope(x, pv)))\n",
    "        print(\"\\r\", k_mult, g_mult, slope(x, pv), end=\"\")\n",
    "finish2()\n",
    "#paste()\n",
    "ax1.set_ylim(36.8, 37.8)\n",
    "ax1.set_xlim(30, 100)"
   ]
  },
  {
   "cell_type": "code",
   "execution_count": 637,
   "metadata": {
    "collapsed": true
   },
   "outputs": [
    {
     "name": "stdout",
     "output_type": "stream",
     "text": [
      "0.5 1.6 -0.0280857063078 38.6757169134\n",
      "0.5 1.5 -0.0286068527984 38.7743067073\n",
      "0.5 1.7 -0.0275650297996 38.5887684472\n",
      "0.5 1.4 -0.0291064308504 38.8857343911\n",
      "0.5 1.8 -0.0270398994326 38.5112161078\n",
      "0.5 1.3 -0.0296015451012 39.0141178725\n",
      "0.5 1.9 -0.0265289528344 38.4424773357\n",
      "0.6 1.9 -0.0298225348056 38.5613714016\n",
      "0.5 1.2 -0.0300561721514 39.1613269104\n",
      "0.6 1.8 -0.0303956868874 38.6305369253\n",
      "0.4 1.0 -0.0257912220159 39.3628766051\n",
      "0.5 1.1 -0.0305041395884 39.3348592606\n",
      "0.4 1.1 -0.0254953646513 39.1605240239\n",
      "0.5 1.0 -0.0309360411084 39.5416382655\n",
      "0.4 1.2 -0.0252054161633 38.9926959056\n",
      "0.6 1.7 -0.0310152164614 38.7098674861\n",
      "0.4 1.3 -0.024902005976 38.8504922288\n",
      "0.4 1.4 -0.0245837242112 38.7284487941\n",
      "0.6 1.6 -0.0316779472735 38.8008578461\n",
      "0.4 1.5 -0.0242548979034 38.6228293893\n",
      "0.4 1.6 -0.0239113509656 38.5303275261\n",
      "0.6 1.5 -0.0323260437741 38.9024910619\n",
      "0.4 1.7 -0.0235419107912 38.4479759154\n",
      "0.7 1.9 -0.0327706024414 38.6707408356\n",
      "0.6 1.4 -0.0329727234417 39.017908906\n",
      "0.4 1.8 -0.0231478213715 38.3740310647\n",
      "0.7 1.8 -0.0334059772507 38.7404901656\n",
      "0.4 1.9 -0.0227444872355 38.3078264516\n",
      "0.6 1.3 -0.0336204964658 39.1504432511\n",
      "0.7 1.7 -0.0340723248049 38.8194072766\n",
      "0.6 1.2 -0.0342482717264 39.3030266005\n",
      "0.7 1.6 -0.0347498499762 38.9079943253\n",
      "0.6 1.1 -0.0348627259222 39.4815724281\n",
      "0.8 1.9 -0.035419227364 38.7721160419\n",
      "0.6 1.0 -0.0354489616875 39.692652839\n",
      "0.7 1.5 -0.0355316421571 39.0130183194\n",
      "0.8 1.8 -0.0360524905825 38.8394115027\n",
      "0.3 1.0 -0.020024662173 39.1553052714\n",
      "0.7 1.4 -0.0363080162612 39.1313790124\n",
      "0.3 1.1 -0.0198493567751 38.9581199425\n",
      "0.3 1.2 -0.0196767633922 38.7948419178\n",
      "0.3 1.3 -0.0195110898043 38.6582844776\n",
      "0.8 1.7 -0.0367428434456 38.9168568857\n",
      "0.3 1.4 -0.0193346298549 38.5417277675\n",
      "0.3 1.5 -0.0191507277173 38.4414780002\n",
      "0.7 1.3 -0.037086515388 39.2666359203\n",
      "0.3 1.6 -0.0189604271954 38.3545921977\n",
      "0.3 1.7 -0.0187580156917 38.2783947191\n",
      "0.8 1.6 -0.0374877149491 39.0058993583\n",
      "0.3 1.8 -0.0185352400493 38.2106094735\n",
      "0.9 1.9 -0.0377193162295 38.8627552698\n",
      "0.7 1.2 -0.0378670250225 39.4229305571\n",
      "0.3 1.9 -0.0183007039613 38.1503318787\n",
      "0.8 1.5 -0.0383413845266 39.1112268285\n",
      "0.9 1.8 -0.0384131497106 38.9305523917\n",
      "0.7 1.1 -0.0386319298778 39.6048242403\n",
      "0.9 1.7 -0.0391339572219 39.0069872749\n",
      "0.8 1.4 -0.03921083218 39.2306517671\n",
      "0.7 1.0 -0.0393767603058 39.8195813797\n",
      "1.0 1.9 -0.0398862615465 38.9523916336\n",
      "0.9 1.6 -0.0398867508828 39.0936084943\n",
      "0.8 1.3 -0.0400742205172 39.3661386958\n",
      "1.0 1.8 -0.0405195350894 39.0150950651\n",
      "0.9 1.5 -0.0407845913415 39.1979226239\n",
      "0.8 1.2 -0.0410004188744 39.5255869426\n",
      "1.0 1.7 -0.0412456446585 39.0892199444\n",
      "0.9 1.4 -0.0417578917796 39.3190532799\n",
      "0.8 1.1 -0.0419107568619 39.7102446691\n",
      "1.0 1.6 -0.0420904871313 39.1776680654\n",
      "0.2 1.0 -0.0136677143869 38.9174264673\n",
      "0.2 1.1 -0.0136110139328 38.727456389\n",
      "0.2 1.2 -0.0135265307168 38.5686540689\n",
      "0.9 1.3 -0.0426984280323 39.4545032359\n",
      "0.2 1.3 -0.0134457819808 38.4359469227\n",
      "0.8 1.0 -0.0428128502096 39.9281433176\n",
      "0.2 1.4 -0.0133685774346 38.3239342759\n",
      "0.2 1.5 -0.0132918119022 38.2283868632\n",
      "0.2 1.6 -0.0132152612483 38.1462929411\n",
      "1.0 1.5 -0.0429925066096 39.2791765604\n",
      "0.2 1.7 -0.0131293411582 38.0746649369\n",
      "0.2 1.8 -0.013043680959 38.0124187533\n",
      "0.2 1.9 -0.0129528683219 37.957759687\n",
      "0.9 1.2 -0.0437139695145 39.6139612948\n",
      "1.0 1.4 -0.043940768619 39.3955568627\n",
      "0.9 1.1 -0.0447277251855 39.7989017355\n",
      "1.0 1.3 -0.0449980350069 39.5330310954\n",
      "0.9 1.0 -0.0457655349562 40.01832761\n",
      "1.0 1.2 -0.046081580303 39.691569404\n",
      "1.0 1.1 -0.0472151026371 39.8777357003\n",
      "1.0 1.0 -0.0483239991483 40.0949029921\n",
      "0.1 1.0 -0.00694580110221 38.6624348016\n",
      "0.1 1.1 -0.0069210717962 38.4742063025\n",
      "0.1 1.2 -0.00689479296925 38.3191065165\n",
      "0.1 1.3 -0.0068705096361 38.1898737603\n",
      "0.1 1.4 -0.00684627561429 38.0808421723\n",
      "0.1 1.5 -0.00682526359342 37.9882962887\n",
      "0.1 1.6 -0.00680559226242 37.9090268247\n",
      "0.1 1.7 -0.00678807564841 37.8407967313\n",
      "0.1 1.8 -0.00675554318049 37.7806023211\n",
      "0.1 1.9 -0.00673584788412 37.7290138169\n"
     ]
    }
   ],
   "source": [
    "s = slope(pvx2/60, pvy2)[0]\n",
    "res2 = sorted(res, key = lambda t: abs(s - t[2][0]))\n",
    "for a, b, (c,d) in res2:\n",
    "    print(a,b,c,d)\n",
    "to_test = [(k,g) for k, g, _ in res2[:10]]"
   ]
  },
  {
   "cell_type": "code",
   "execution_count": 644,
   "metadata": {
    "collapsed": false
   },
   "outputs": [
    {
     "name": "stdout",
     "output_type": "stream",
     "text": [
      "[ -2.80962201e-02   3.91502644e+01]\n",
      "[ -3.71320096e-02   4.27935267e+01] 0.5 1.6\n",
      "[ -3.91251794e-02   4.46930218e+01] 0.5 1.5\n",
      "[ -3.55460497e-02   4.14864423e+01] 0.5 1.7\n",
      "[ -4.13344022e-02   4.75769323e+01] 0.5 1.4\n",
      "[ -3.09202597e-02   4.03447990e+01] 0.5 1.8\n",
      "[ -4.24056973e-02   5.22294560e+01] 0.5 1.3\n",
      "[ -2.86550836e-02   3.96222219e+01] 0.5 1.9\n",
      "[ -3.17420610e-02   3.95962358e+01] 0.6 1.9\n",
      "[ -3.54003329e-02   6.03992631e+01] 0.5 1.2\n",
      "[ -3.49652622e-02   4.03415609e+01] 0.6 1.8\n"
     ]
    },
    {
     "data": {
      "text/plain": [
       "(30, 100)"
      ]
     },
     "execution_count": 644,
     "metadata": {},
     "output_type": "execute_result"
    }
   ],
   "source": [
    "# test impact of k and g multipliers on error and slope of PV decay after initial overshoot\n",
    "setup2()\n",
    "print(slope(pvx2/60, pvy2))\n",
    "for (km, gm) in to_test:\n",
    "    ops.k_mult = km\n",
    "    ops.g_mult = gm\n",
    "    ops.sink_decay = gm - 1\n",
    "    lbl = \"k:%.1f g:%.1f\"%(km, gm)\n",
    "    run2(ops, lbl)\n",
    "    print(slope(x, pv), km, gm)\n",
    "finish2()\n",
    "#paste()\n",
    "ax1.set_ylim(36.8, 37.8)\n",
    "ax1.set_xlim(30, 100)"
   ]
  },
  {
   "cell_type": "code",
   "execution_count": 668,
   "metadata": {
    "collapsed": false
   },
   "outputs": [
    {
     "data": {
      "text/plain": [
       "(30, 100)"
      ]
     },
     "execution_count": 668,
     "metadata": {},
     "output_type": "execute_result"
    }
   ],
   "source": [
    "setup2()\n",
    "ops.k_mult = .5\n",
    "ops.g_mult = 1\n",
    "for sm in (0, 0.1, 0.5):\n",
    "    ops.sink_decay = sm\n",
    "    lbl = \"sm: %.1f\"%sm\n",
    "    run2(ops, lbl)\n",
    "finish2()\n",
    "ax1.set_ylim(36.8, 37.8)\n",
    "ax1.set_xlim(30, 100)"
   ]
  },
  {
   "cell_type": "code",
   "execution_count": 715,
   "metadata": {
    "collapsed": true
   },
   "outputs": [],
   "source": [
    "setup2()\n",
    "ops.env = 18\n",
    "ops.delay=15.1*minutes\n",
    "ops.process = TempProcess2\n",
    "ops.k_mult = 0.4\n",
    "x = .1\n",
    "ops.g_mult = 1 + x\n",
    "ops.sink_decay = x \n",
    "run2(ops, \"test\")\n",
    "finish2()\n",
    "paste()"
   ]
  },
  {
   "cell_type": "code",
   "execution_count": 720,
   "metadata": {
    "collapsed": true
   },
   "outputs": [],
   "source": [
    "def rand_float(min, max):\n",
    "    r = np.random.random()\n",
    "    rng = max - min\n",
    "    p = r * rng\n",
    "    return min + p"
   ]
  },
  {
   "cell_type": "code",
   "execution_count": 810,
   "metadata": {
    "collapsed": true
   },
   "outputs": [
    {
     "name": "stdout",
     "output_type": "stream",
     "text": [
      "New Best (17606.0): Env 11.6 gm 1.35 km 0.61 sm 0.34 delay = 18.78 1 tested 1 bests 0 collisions\n",
      "New Best (4408.2): Env 21.3 gm 1.26 km 0.47 sm 0.28 delay = 18.14 4 tested 2 bests 0 collisions\n",
      "100 tested 0 collisions\n",
      "200 tested 0 collisions\n",
      "New Best (3988.4): Env 14.2 gm 1.29 km 0.35 sm 0.32 delay = 15.86 220 tested 3 bests 0 collisions\n",
      "300 tested 0 collisions\n",
      "New Best (3462.9): Env 10.7 gm 1.30 km 0.36 sm 0.24 delay = 19.69 350 tested 4 bests 0 collisions\n"
     ]
    },
    {
     "ename": "KeyboardInterrupt",
     "evalue": "",
     "output_type": "error",
     "traceback": [
      "\u001b[0;31m---------------------------------------------------------------------------\u001b[0m",
      "\u001b[0;31mKeyboardInterrupt\u001b[0m                         Traceback (most recent call last)",
      "\u001b[0;32m<ipython-input-810-960b0367c0fa>\u001b[0m in \u001b[0;36m<module>\u001b[0;34m()\u001b[0m\n\u001b[1;32m     29\u001b[0m     \u001b[0mops\u001b[0m\u001b[1;33m.\u001b[0m\u001b[0mk_mult\u001b[0m \u001b[1;33m=\u001b[0m \u001b[0mk_mult\u001b[0m\u001b[1;33m\u001b[0m\u001b[0m\n\u001b[1;32m     30\u001b[0m     \u001b[0mops\u001b[0m\u001b[1;33m.\u001b[0m\u001b[0mdelay\u001b[0m \u001b[1;33m=\u001b[0m \u001b[0mdelay\u001b[0m \u001b[1;33m*\u001b[0m \u001b[0mminutes\u001b[0m\u001b[1;33m\u001b[0m\u001b[0m\n\u001b[0;32m---> 31\u001b[0;31m     \u001b[0mx\u001b[0m\u001b[1;33m,\u001b[0m \u001b[0mpv\u001b[0m\u001b[1;33m,\u001b[0m \u001b[0mhd\u001b[0m \u001b[1;33m=\u001b[0m \u001b[0mtemp_sim1\u001b[0m\u001b[1;33m(\u001b[0m\u001b[0mops\u001b[0m\u001b[1;33m)\u001b[0m\u001b[1;33m\u001b[0m\u001b[0m\n\u001b[0m\u001b[1;32m     32\u001b[0m     \u001b[0me\u001b[0m \u001b[1;33m=\u001b[0m \u001b[0merr2\u001b[0m\u001b[1;33m(\u001b[0m\u001b[1;33m)\u001b[0m\u001b[1;33m\u001b[0m\u001b[0m\n\u001b[1;32m     33\u001b[0m     \u001b[1;32mif\u001b[0m \u001b[0mbest\u001b[0m \u001b[1;32mis\u001b[0m \u001b[1;32mNone\u001b[0m \u001b[1;32mor\u001b[0m \u001b[0me\u001b[0m \u001b[1;33m<\u001b[0m \u001b[0mbest\u001b[0m\u001b[1;33m:\u001b[0m\u001b[1;33m\u001b[0m\u001b[0m\n",
      "\u001b[0;32m<ipython-input-647-49e350e51a6f>\u001b[0m in \u001b[0;36mtemp_sim1\u001b[0;34m(ops)\u001b[0m\n\u001b[1;32m      2\u001b[0m     \u001b[1;32mglobal\u001b[0m \u001b[0msim\u001b[0m\u001b[1;33m\u001b[0m\u001b[0m\n\u001b[1;32m      3\u001b[0m     \u001b[0msim\u001b[0m \u001b[1;33m=\u001b[0m \u001b[0mTempSim\u001b[0m\u001b[1;33m(\u001b[0m\u001b[0mops\u001b[0m\u001b[1;33m,\u001b[0m \u001b[0mops\u001b[0m\u001b[1;33m.\u001b[0m\u001b[0mend\u001b[0m\u001b[1;33m)\u001b[0m\u001b[1;33m\u001b[0m\u001b[0m\n\u001b[0;32m----> 4\u001b[0;31m     \u001b[0msim\u001b[0m\u001b[1;33m.\u001b[0m\u001b[0msim_iters\u001b[0m\u001b[1;33m(\u001b[0m\u001b[0mops\u001b[0m\u001b[1;33m.\u001b[0m\u001b[0mend\u001b[0m\u001b[1;33m)\u001b[0m\u001b[1;33m\u001b[0m\u001b[0m\n\u001b[0m\u001b[1;32m      5\u001b[0m     \u001b[0mx\u001b[0m \u001b[1;33m=\u001b[0m \u001b[0msim\u001b[0m\u001b[1;33m.\u001b[0m\u001b[0mget\u001b[0m\u001b[1;33m(\u001b[0m\u001b[1;34m'x'\u001b[0m\u001b[1;33m)\u001b[0m\u001b[1;33m\u001b[0m\u001b[0m\n\u001b[1;32m      6\u001b[0m     \u001b[0mpv\u001b[0m \u001b[1;33m=\u001b[0m \u001b[0msim\u001b[0m\u001b[1;33m.\u001b[0m\u001b[0mget\u001b[0m\u001b[1;33m(\u001b[0m\u001b[1;34m'pv'\u001b[0m\u001b[1;33m)\u001b[0m\u001b[1;33m\u001b[0m\u001b[0m\n",
      "\u001b[0;32m<ipython-input-658-2a79c7f64f30>\u001b[0m in \u001b[0;36msim_iters\u001b[0;34m(self, iters)\u001b[0m\n\u001b[1;32m    150\u001b[0m \u001b[1;33m\u001b[0m\u001b[0m\n\u001b[1;32m    151\u001b[0m             \u001b[0mop\u001b[0m \u001b[1;33m=\u001b[0m \u001b[0mpid\u001b[0m\u001b[1;33m.\u001b[0m\u001b[0mstep\u001b[0m\u001b[1;33m(\u001b[0m\u001b[0mpv\u001b[0m\u001b[1;33m,\u001b[0m \u001b[0msp\u001b[0m\u001b[1;33m)\u001b[0m\u001b[1;33m\u001b[0m\u001b[0m\n\u001b[0;32m--> 152\u001b[0;31m             \u001b[0mpv\u001b[0m \u001b[1;33m=\u001b[0m \u001b[0mproc\u001b[0m\u001b[1;33m.\u001b[0m\u001b[0mstep\u001b[0m\u001b[1;33m(\u001b[0m\u001b[0mop\u001b[0m\u001b[1;33m)\u001b[0m\u001b[1;33m\u001b[0m\u001b[0m\n\u001b[0m\u001b[1;32m    153\u001b[0m \u001b[1;33m\u001b[0m\u001b[0m\n\u001b[1;32m    154\u001b[0m             \u001b[0m_x\u001b[0m\u001b[1;33m.\u001b[0m\u001b[0mput\u001b[0m\u001b[1;33m(\u001b[0m\u001b[0mt\u001b[0m\u001b[1;33m/\u001b[0m\u001b[0mtime_unit\u001b[0m\u001b[1;33m)\u001b[0m\u001b[1;33m\u001b[0m\u001b[0m\n",
      "\u001b[0;32m<ipython-input-656-f026ef1e78c7>\u001b[0m in \u001b[0;36mstep\u001b[0;34m(self, op)\u001b[0m\n\u001b[1;32m     33\u001b[0m \u001b[1;33m\u001b[0m\u001b[0m\n\u001b[1;32m     34\u001b[0m     \u001b[1;32mdef\u001b[0m \u001b[0mstep\u001b[0m\u001b[1;33m(\u001b[0m\u001b[0mself\u001b[0m\u001b[1;33m,\u001b[0m \u001b[0mop\u001b[0m\u001b[1;33m)\u001b[0m\u001b[1;33m:\u001b[0m\u001b[1;33m\u001b[0m\u001b[0m\n\u001b[0;32m---> 35\u001b[0;31m         \u001b[0mop\u001b[0m \u001b[1;33m=\u001b[0m \u001b[0mself\u001b[0m\u001b[1;33m.\u001b[0m\u001b[0mheatsink\u001b[0m\u001b[1;33m.\u001b[0m\u001b[0mdelay\u001b[0m\u001b[1;33m(\u001b[0m\u001b[0mop\u001b[0m\u001b[1;33m)\u001b[0m\u001b[1;33m\u001b[0m\u001b[0m\n\u001b[0m\u001b[1;32m     36\u001b[0m         \u001b[0mdT\u001b[0m \u001b[1;33m=\u001b[0m \u001b[0mself\u001b[0m\u001b[1;33m.\u001b[0m\u001b[0mpv\u001b[0m \u001b[1;33m-\u001b[0m \u001b[0mself\u001b[0m\u001b[1;33m.\u001b[0m\u001b[0menv\u001b[0m\u001b[1;33m\u001b[0m\u001b[0m\n\u001b[1;32m     37\u001b[0m         \u001b[0mdecay\u001b[0m \u001b[1;33m=\u001b[0m \u001b[0mself\u001b[0m\u001b[1;33m.\u001b[0m\u001b[0mk\u001b[0m \u001b[1;33m*\u001b[0m \u001b[0mdT\u001b[0m\u001b[1;33m\u001b[0m\u001b[0m\n",
      "\u001b[0;31mKeyboardInterrupt\u001b[0m: "
     ]
    }
   ],
   "source": [
    "setup2()\n",
    "rf = rand_float\n",
    "best = None\n",
    "i = 0\n",
    "bests = set()\n",
    "tested = set()\n",
    "collisions = 0\n",
    "while True:\n",
    "    \n",
    "    env = rf(10, 23)\n",
    "    g_mult = rf(1, 1.5)\n",
    "    sm = rand_float(0, 0.6)\n",
    "    k_mult = rf(0.3, 1)\n",
    "    delay = rf(10, 20)\n",
    "    \n",
    "    key = \"%.2f %.2f %.2f %.2f %.2f\" % (env, g_mult, sm, k_mult, delay)\n",
    "    if key in tested:\n",
    "        collisions += 1\n",
    "        continue\n",
    "    tested.add(key)\n",
    "    i += 1\n",
    "    \n",
    "    if not i % 100:\n",
    "        print(\"%d tested %d collisions\" % (i, collisions))\n",
    "    \n",
    "    ops.env = env\n",
    "    ops.g_mult = g_mult\n",
    "    ops.sink_decay = sm\n",
    "    ops.k_mult = k_mult\n",
    "    ops.delay = delay * minutes\n",
    "    x, pv, hd = temp_sim1(ops)\n",
    "    e = err2()\n",
    "    if best is None or e < best:\n",
    "        best = e\n",
    "        bests.add((i, e, env, g_mult, sm, k_mult, delay))\n",
    "        s = \"New Best (%.1f): Env %.1f gm %.2f km %.2f sm %.2f delay = %.2f\" % (best, env, g_mult, k_mult, sm, delay)\n",
    "        s += \" %d tested %d bests %d collisions\" % (i, len(bests), collisions)\n",
    "        print(s)\n",
    "        plot2(x, pv, hd)\n",
    "        fig.canvas.flush_events()\n",
    "        fig.canvas.draw()\n",
    "        fig.canvas.flush_events()\n",
    "finish2()"
   ]
  },
  {
   "cell_type": "code",
   "execution_count": 812,
   "metadata": {
    "collapsed": false
   },
   "outputs": [
    {
     "name": "stdout",
     "output_type": "stream",
     "text": [
      "  i   g     s  k     d     score\n",
      "   1 1.05 0.35 0.74 15.58 43661.41\n",
      "   2 1.20 0.34 0.58 13.01 16507.37\n",
      "   4 1.41 0.33 0.43 19.87 5605.33\n",
      "   8 1.09 0.01 0.43 18.64 4409.39\n",
      "  12 1.22 0.24 0.37 17.09 4213.56\n",
      " 122 1.42 0.42 0.33 17.93 3727.14\n",
      " 385 1.07 0.02 0.47 16.60 1024.56\n",
      "3037 1.16 0.15 0.67 17.51 705.97\n"
     ]
    },
    {
     "data": {
      "text/plain": [
       "(30, 100)"
      ]
     },
     "execution_count": 812,
     "metadata": {},
     "output_type": "execute_result"
    }
   ],
   "source": [
    "setup2()\n",
    "def fs(*args):\n",
    "    return \" \".join(\"%.2f\"%a for a in args)\n",
    "bests2 = sorted(bests_backup, key = lambda k: k[0])\n",
    "print(\"  i   g     s  k     d     score\")\n",
    "for i, _, e,g,s,k,d in bests2:\n",
    "    \n",
    "    ops.env = e\n",
    "    ops.g_mult = g\n",
    "    ops.sink_decay = s\n",
    "    ops.k_mult = k\n",
    "    ops.delay = d*minutes\n",
    "    run2(ops, str(i))\n",
    "    e = err2()\n",
    "    print(\"%4d\"%i, fs(g,s,k,d, _))\n",
    "finish2()\n",
    "ax1.set_ylim(36.8, 37.8)\n",
    "ax1.set_xlim(30, 100)"
   ]
  },
  {
   "cell_type": "code",
   "execution_count": 802,
   "metadata": {
    "collapsed": true
   },
   "outputs": [],
   "source": [
    "def err2():\n",
    "    s = 30*60\n",
    "    e = 90*60\n",
    "    s2 = 70*60\n",
    "    e2 = 120*60\n",
    "    e1s = sum(abs(pvy2[s:e]-pv[s:e]))\n",
    "    e2s = sum(abs(hdy2[s:e]-hd[s:e]))\n",
    "    return np.sqrt(e1s**2 + e2s**2)\n",
    "    #return e1s, e2s"
   ]
  },
  {
   "cell_type": "code",
   "execution_count": 851,
   "metadata": {
    "collapsed": false
   },
   "outputs": [
    {
     "data": {
      "text/plain": [
       "(30, 100)"
      ]
     },
     "execution_count": 851,
     "metadata": {},
     "output_type": "execute_result"
    }
   ],
   "source": [
    "setup2()\n",
    "i, _, e,g,s,k,d = bests2[-1]\n",
    "ops.env = e\n",
    "ops.g_mult = g\n",
    "ops.sink_decay = s\n",
    "ops.k_mult = k\n",
    "ops.delay = d * minutes\n",
    "run2(ops, \"best\")\n",
    "\n",
    "ops.delay = 16*minutes\n",
    "ops.g_mult = 1.2\n",
    "ops.k_mult = .5\n",
    "ops.sink_decay = 0.25\n",
    "run2(ops, \"test\")\n",
    "paste()\n",
    "ax1.set_ylim(36.8, 37.8)\n",
    "ax1.set_xlim(30, 100)"
   ]
  },
  {
   "cell_type": "markdown",
   "metadata": {},
   "source": [
    "# 4/24/17 after weekend test"
   ]
  },
  {
   "cell_type": "code",
   "execution_count": 1042,
   "metadata": {
    "collapsed": true
   },
   "outputs": [],
   "source": [
    "from officelib.xllib import *\n",
    "xl = Excel()\n",
    "wb = xl.ActiveWorkbook\n",
    "cells = wb.ActiveSheet.Cells\n",
    "cell_range = cells.Range"
   ]
  },
  {
   "cell_type": "code",
   "execution_count": 1060,
   "metadata": {
    "collapsed": false
   },
   "outputs": [],
   "source": [
    "def get(r):\n",
    "    return [np.array(d) for d in list(zip(*cell_range(r).Value))]\n",
    "pvx, pvy = get(\"DZ176:EA404\")\n",
    "hdx, hdy = get(\"DO175:DP350\")\n",
    "x0 = 180.03  # first \"0\" entry for temp mode actual\n",
    "pvx -= x0\n",
    "hdx -= x0"
   ]
  },
  {
   "cell_type": "code",
   "execution_count": 1144,
   "metadata": {
    "collapsed": true
   },
   "outputs": [],
   "source": [
    "setup3()\n",
    "\n",
    "for p in 10, 11, 12:\n",
    "    for i in 24, 25, 26:\n",
    "        ops.pid.p = p\n",
    "        ops.pid.i = i\n",
    "        ops.g_mult = 1.3\n",
    "        ops.k_mult = 0.5\n",
    "        ops.initial_pv = 25.2\n",
    "        ops.delay = 20*minutes\n",
    "        ops.sink_decay = 0.3\n",
    "        ops.env = 25\n",
    "        run3(ops, 'P:%d I:%d'%(p, i))\n",
    "finish3()\n",
    "ax1.set_ylim(36.5, 37.5)\n",
    "ax1.yaxis.set_major_locator(MultipleLocator(0.2))\n",
    "    #ax1.set_ylim(23, 25)\n",
    "    #ax1.set_xlim(0, 10)"
   ]
  },
  {
   "cell_type": "code",
   "execution_count": 1150,
   "metadata": {
    "collapsed": true
   },
   "outputs": [],
   "source": [
    "setup2()\n",
    "ops.pid.p = 11\n",
    "ops.pid.i = 25\n",
    "ops.g_mult = 1.3\n",
    "ops.k_mult = .5\n",
    "ops.initial_pv = 25.2\n",
    "ops.env = 25\n",
    "ops.delay = 25*minutes\n",
    "ops.sink_decay = .6\n",
    "run2(ops, \"Test\")\n",
    "finish2()\n",
    "ax1.set_ylim(36.5, 37.5)\n",
    "ax1.yaxis.set_major_locator(MultipleLocator(0.2))"
   ]
  },
  {
   "cell_type": "code",
   "execution_count": null,
   "metadata": {
    "collapsed": true
   },
   "outputs": [],
   "source": []
  }
 ],
 "metadata": {
  "kernelspec": {
   "display_name": "Python 3",
   "language": "python",
   "name": "python3"
  },
  "language_info": {
   "codemirror_mode": {
    "name": "ipython",
    "version": 3
   },
   "file_extension": ".py",
   "mimetype": "text/x-python",
   "name": "python",
   "nbconvert_exporter": "python",
   "pygments_lexer": "ipython3",
   "version": "3.5.2"
  }
 },
 "nbformat": 4,
 "nbformat_minor": 1
}
