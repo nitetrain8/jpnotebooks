{
 "cells": [
  {
   "cell_type": "code",
   "execution_count": 1,
   "metadata": {},
   "outputs": [],
   "source": [
    "from hello.pid.lvpid import PIDController\n",
    "from hello.pid.delay import *"
   ]
  },
  {
   "cell_type": "code",
   "execution_count": 3,
   "metadata": {},
   "outputs": [],
   "source": [
    "from math import sin, pi\n",
    "\n",
    "def rad_s(rpm):\n",
    "    return rpm*2*pi/60\n",
    "\n",
    "\n",
    "class AgMechanism():\n",
    "    def __init__(self):\n",
    "        self._hall_effect_loc = 280 * pi / 180  # approx\n",
    "        self._hall_effect_radius = 10 * pi / 180\n",
    "\n",
    "\n",
    "class AgProcess():\n",
    "    def __init__(self, m=1/2.76, b=0, delay=3, op=0, pv=0, pamplitude=0.01, pperiod=30, ag_min=3):\n",
    "        self.delay = DelayBuffer(delay, pv).cycle\n",
    "        self.m = m\n",
    "        self.b = b\n",
    "        self.x = self.t = 0\n",
    "        self.pamplitude = pamplitude\n",
    "        self.pperiod = pperiod or 1\n",
    "        self.pv = 0\n",
    "        self.ag_min = ag_min\n",
    "\n",
    "    def step(self, op):\n",
    "        self.x += 1\n",
    "        self.t += 1\n",
    "        if self.x >= self.pperiod:\n",
    "            self.x = 0\n",
    "        m = self.m\n",
    "        f = sin(self.x*2*pi/self.pperiod)*self.pamplitude + 1\n",
    "        m *= f\n",
    "        op = self.delay(op)\n",
    "        self.pv = m*op + self.b\n",
    "        if self.pv < self.ag_min:\n",
    "            return 0\n",
    "        return self.pv\n",
    "\n",
    "    def step(self, op):\n",
    "        self.pv = self.m * op + self.b\n",
    "        pv = self.delay(self.pv)\n",
    "        if pv < self.ag_min:\n",
    "            return 0\n",
    "        return self.pv"
   ]
  },
  {
   "cell_type": "code",
   "execution_count": 4,
   "metadata": {},
   "outputs": [],
   "source": [
    "def ag_sim(p,i,d,end,delay=3, op=0,pv=0,sp=8, amp=0.05, per=180):\n",
    "    pid = PIDController(p,(i),d,100,0)\n",
    "    pid.man_to_auto(pv, sp, op)\n",
    "    proc = AgProcess(delay=delay, pamplitude=amp, pperiod=per)\n",
    "    t = 0\n",
    "    data = [(t, pv, op)]\n",
    "    while True:\n",
    "        t += 1\n",
    "        if t < 15:\n",
    "            pv = 0\n",
    "        op = pid.step(pv, sp)\n",
    "        data.append((t, pv, op))\n",
    "        pv = proc.step(op)\n",
    "        if t >= end: break\n",
    "    return data"
   ]
  },
  {
   "cell_type": "code",
   "execution_count": 5,
   "metadata": {},
   "outputs": [
    {
     "name": "stdout",
     "output_type": "stream",
     "text": [
      "Using matplotlib backend: TkAgg\n"
     ]
    }
   ],
   "source": [
    "%matplotlib\n",
    "import matplotlib.pyplot as plt\n",
    "fig = plt.figure()\n",
    "ax1 = fig.add_subplot(211)\n",
    "ax2 = fig.add_subplot(212)"
   ]
  },
  {
   "cell_type": "code",
   "execution_count": 6,
   "metadata": {},
   "outputs": [
    {
     "data": {
      "text/plain": [
       "(0, 180)"
      ]
     },
     "execution_count": 6,
     "metadata": {},
     "output_type": "execute_result"
    }
   ],
   "source": [
    "def ag_sim2(p,i,d,end,delay=3, op=0,pv=0,sp=8, amp=0.05, per=180):\n",
    "    global pid, proc\n",
    "    pid = PIDController(p,i,d,100,0,0)\n",
    "    pid.off_to_auto(pv, sp)\n",
    "    proc = AgProcess(59/100, 0, delay=delay, pv=pv,pamplitude=0, pperiod=1)\n",
    "    t = 0\n",
    "    data = [(t, pv, op)]\n",
    "    while True:\n",
    "        op = pid.step(pv, sp)\n",
    "        data.append((t, pv, op))\n",
    "        pv = proc.step(op)\n",
    "        if t >= end: break\n",
    "        t += 1\n",
    "    return data\n",
    "\n",
    "data = ag_sim2(.1, 0.008, 0, 180, 4, 0, 0, 12)\n",
    "t, pv, op = list(zip(*data))\n",
    "ax1.clear()\n",
    "ax2.clear()\n",
    "ax1.scatter(t, pv, label=\"PV\")\n",
    "ax2.scatter(t, op, label=\"OP\")\n",
    "ax1.set_xlim(0, 180)\n",
    "\n",
    "ax2.set_xlim(0, 180)"
   ]
  },
  {
   "cell_type": "code",
   "execution_count": 7,
   "metadata": {},
   "outputs": [],
   "source": [
    "from pysrc.snippets import OptionCategory\n",
    "\n",
    "class PIDOps(OptionCategory):\n",
    "    p = 2\n",
    "    i = 1\n",
    "    d = 0\n",
    "    beta = 0\n",
    "    alpha = -1\n",
    "    linearity = 1\n",
    "    gamma = 0\n",
    "    auto_max = 100\n",
    "    auto_min = 10\n",
    "\n",
    "class SimOps(OptionCategory):\n",
    "    pid = PIDOps()\n",
    "    minimum = 3\n",
    "    "
   ]
  },
  {
   "cell_type": "code",
   "execution_count": 8,
   "metadata": {},
   "outputs": [],
   "source": [
    "import sys\n",
    "_g_axes = []\n",
    "def mk_axes():\n",
    "    global _g_axes\n",
    "    _g_axes = []\n",
    "    i = 1\n",
    "    while True:\n",
    "        try:\n",
    "            ax = globals()['ax' + str(i)]\n",
    "        except KeyError:\n",
    "            break\n",
    "        else:\n",
    "            _g_axes.append(ax)\n",
    "        i += 1\n",
    "\n",
    "def axes():\n",
    "    return _g_axes"
   ]
  },
  {
   "cell_type": "code",
   "execution_count": 9,
   "metadata": {},
   "outputs": [],
   "source": [
    "def setup1(new=False):\n",
    "    global fig, ax1, ax2, ax3, ax4, ax5, ax6\n",
    "    \n",
    "    if not plt.get_fignums() or new:\n",
    "        fig = plt.figure()\n",
    "        ax1 = fig.add_subplot(2,1,1)\n",
    "        #ax5 = fig.add_subplot(3,2,5)\n",
    "        #ax3 = fig.add_subplot(3,2,3)\n",
    "        #ax4 = fig.add_subplot(3,2,4)\n",
    "        ax2 = fig.add_subplot(2,1,2)\n",
    "        #ax6 = fig.add_subplot(3,2,6)\n",
    "        mk_axes()\n",
    "        for a in ax1,: # ax3, ax5:\n",
    "            b = a.get_position()\n",
    "            a.set_position([b.x0, b.y0, b.width*0.8, b.height])\n",
    "            a.grid()\n",
    "        for a in ax2,: # ax4, ax6:\n",
    "            b = a.get_position()\n",
    "            a.set_position([b.x0, b.y0, b.width*0.8, b.height])\n",
    "            a.grid()\n",
    "    else:\n",
    "        for a in axes():\n",
    "            a.clear()\n",
    "            a.grid()\n",
    "        for t in fig.texts:\n",
    "            t.remove()\n",
    "    \n",
    "    global colors, color\n",
    "    colors = [\n",
    "        \"blue\",\n",
    "        \"red\",\n",
    "        \"green\",\n",
    "        \"cyan\",\n",
    "        \"purple\",\n",
    "        \"orange\",\n",
    "        \"black\"\n",
    "    ]\n",
    "\n",
    "    import itertools\n",
    "    color = itertools.cycle(colors).__next__\n",
    "    \n"
   ]
  },
  {
   "cell_type": "code",
   "execution_count": 10,
   "metadata": {},
   "outputs": [
    {
     "data": {
      "text/plain": [
       "(0, 180)"
      ]
     },
     "execution_count": 10,
     "metadata": {},
     "output_type": "execute_result"
    }
   ],
   "source": [
    "setup1()\n",
    "def ag_sim2(p,i,d,end,delay=3, op=0,pv=0,sp=8, amp=0.05, ag_min=3):\n",
    "    global pid, proc\n",
    "    pid = PIDController(p,i,d,100,0,0)\n",
    "    pid.off_to_auto(pv, sp)\n",
    "    proc = AgProcess(55/100, 0, delay=delay, pv=pv,pamplitude=0, pperiod=1, ag_min=ag_min)\n",
    "    t = 0\n",
    "    data = [(t, pv, op)]\n",
    "    while True:\n",
    "        op = pid.step(pv, sp)\n",
    "        data.append((t, pv, op))\n",
    "        pv = proc.step(op)\n",
    "        if t >= end: break\n",
    "        t += 1\n",
    "    return data\n",
    "\n",
    "data = ag_sim2(.1, 0.01, 0, 180, 4, 0, 0, 12)\n",
    "t, pv, op = list(zip(*data))\n",
    "ax1.clear()\n",
    "ax2.clear()\n",
    "ax1.scatter(t, pv, label=\"PV\")\n",
    "ax2.scatter(t, op, label=\"OP\")\n",
    "ax1.set_xlim(0, 180)\n",
    "\n",
    "ax2.set_xlim(0, 180)"
   ]
  },
  {
   "cell_type": "code",
   "execution_count": 11,
   "metadata": {},
   "outputs": [],
   "source": [
    "n = int(32000/180)\n",
    "sp = 20\n",
    "t = 120\n",
    "data = ag_sim2(.1, 0.01*n, 0, t*n, 0, 0, 0, sp, 0.05, 3)\n",
    "data = [(a/n, b, c) for a,b,c in data]"
   ]
  },
  {
   "cell_type": "code",
   "execution_count": 18,
   "metadata": {},
   "outputs": [],
   "source": [
    "fig = plt.figure()"
   ]
  },
  {
   "cell_type": "code",
   "execution_count": 19,
   "metadata": {},
   "outputs": [],
   "source": [
    "x, y, z = list(zip(*data))\n",
    "xa, ya = next((t,pv) for t, pv, op in data if pv >= (sp - 0.5))\n",
    "xb = xa + 15\n",
    "yb = next(pv for t,pv,op in data if t >= xb)\n",
    "\n",
    "xc = xa + 60\n",
    "yc = next(pv for t,pv,op in data if t >= xc)\n",
    "\n",
    "fig.clear()\n",
    "ax = fig.add_subplot(211)\n",
    "ax2= fig.add_subplot(212)\n",
    "\n",
    "ax.plot(x,y)\n",
    "ax2.plot(x,y)\n",
    "\n",
    "font = 'calibri'\n",
    "thick_line = 0.75\n",
    "thin_line = 0.5\n",
    "thick_type = \"--\"\n",
    "thin_type = \":\"\n",
    "\n",
    "ax.set_xlabel(\"Time (s)\", fontname=font)\n",
    "ax2.set_xlabel(\"Time (s)\", fontname=font)\n",
    "ax.set_ylabel(\"Ag PV (RPM)\", fontname=font)\n",
    "ax2.set_ylabel(\"Ag PV (RPM)\", fontname=font)\n",
    "\n",
    "xd = (xb+xc)/2\n",
    "\n",
    "for a in ax, ax2:\n",
    "    \n",
    "    # hysteresis limits\n",
    "    a.axhline(sp + 1, 0, t, color=\"black\", linestyle = thick_type, linewidth=thick_line)   # A\n",
    "    a.axhline(sp + 0.5, 0, t, color=\"black\", linestyle = thin_type, linewidth=thin_line)   # B\n",
    "    a.axhline(sp - 0.5, 0, t, color=\"black\", linestyle = thin_type, linewidth=thin_line)   # C\n",
    "    a.axhline(sp - 1, 0, t, color=\"black\", linestyle = thick_type, linewidth=thick_line)   # D\n",
    "    \n",
    "    # time points\n",
    "    a.axvline(xa, 0, sp+10, color=\"black\", linestyle=thick_type, linewidth=thick_line)     # E\n",
    "    a.axvline(xb, 0, sp+10, color=\"black\", linestyle=thin_type, linewidth=thin_line)       # F\n",
    "    a.axvline(xd, 0, sp+10, color=\"black\", linestyle=thick_type, linewidth=thick_line)     # G\n",
    "    a.axvline(xc, 0, sp+10, color=\"black\", linestyle=thin_type, linewidth=thin_line)       # H\n",
    "    \n",
    "    \n",
    "# annotations\n",
    "ax2.annotate(\"A: SP + 1\", (3, sp + 1.1), fontname=font)\n",
    "ax2.annotate(\"B: SP + 0.5\", (3, sp+.2), fontname=font)\n",
    "ax2.annotate(\"C: SP - 0.5\", (3, sp-.4), fontname=font)\n",
    "ax2.annotate(\"D: SP - 1\", (3, sp - 1.35), fontname=font)\n",
    "\n",
    "ax2.annotate(\"E\", (xa-3, sp + 1.7))\n",
    "ax2.annotate(\"F\", (xb-3, sp + 1.7))\n",
    "ax2.annotate(\"G\", (xd-3, sp + 1.7))\n",
    "ax2.annotate(\"H\", (xc-3, sp + 1.7))\n",
    "       \n",
    "ax.set_xlim(0, t)\n",
    "ax.set_ylim(0, sp+10)\n",
    "ax2.set_xlim(0, t)\n",
    "ax2.set_ylim(sp - 2, sp + 2)\n",
    "\n",
    "ax.xaxis.set_major_locator(plt.NullLocator())\n",
    "ax2.xaxis.set_major_locator(plt.NullLocator())\n",
    "ax.yaxis.set_major_locator(plt.NullLocator())\n",
    "ax2.yaxis.set_major_locator(plt.NullLocator())\n",
    "\n",
    "txt = \"\"\"E: Time to SP - 0.5\n",
    "F: E + 15\n",
    "G: E + 60\"\"\"\n",
    "txt = fig.text(0.14, 0.04, txt, fontname=font)\n",
    "\n",
    "fig.show()"
   ]
  },
  {
   "cell_type": "code",
   "execution_count": null,
   "metadata": {},
   "outputs": [],
   "source": []
  }
 ],
 "metadata": {
  "kernelspec": {
   "display_name": "Python 3",
   "language": "python",
   "name": "python3"
  },
  "language_info": {
   "codemirror_mode": {
    "name": "ipython",
    "version": 3
   },
   "file_extension": ".py",
   "mimetype": "text/x-python",
   "name": "python",
   "nbconvert_exporter": "python",
   "pygments_lexer": "ipython3",
   "version": "3.5.2"
  }
 },
 "nbformat": 4,
 "nbformat_minor": 1
}
