{
 "cells": [
  {
   "cell_type": "code",
   "execution_count": 1,
   "metadata": {
    "collapsed": false
   },
   "outputs": [],
   "source": [
    "import numpy as np\n",
    "from hello.pid.lvpid import PIDController\n",
    "from hello.pid.delay import seconds, minutes, hours, days, m2s, s2m, h2s, DelayBuffer, DelaySink\n",
    "from hello.pid.gas_process import HeadspaceProcess, GasController\n",
    "from hello.pid.do_simulation.doprocess import DOProcess, AIR_CNO\n",
    "\n",
    "from hello.pid.do_simulation.options import SimOps, SimConfig\n",
    "from hello.pid.do_simulation.fitness import Fitness2, Fitness3\n",
    "from hello.pid.picker import mk_picker\n",
    "from hello.pid.do_simulation.sim_window import PIDSimFrame\n",
    "from hello.pid.ui import TkQuitHack"
   ]
  },
  {
   "cell_type": "markdown",
   "metadata": {},
   "source": [
    "### Copy this template to ensure all sim options are set correctly"
   ]
  },
  {
   "cell_type": "code",
   "execution_count": 2,
   "metadata": {
    "collapsed": true
   },
   "outputs": [],
   "source": [
    "ops = SimOps()\n",
    "ops.o2_pid.p = 2\n",
    "ops.o2_pid.i = 10\n",
    "ops.o2_pid.d = 0\n",
    "ops.o2_pid.amax = 100\n",
    "ops.o2_pid.amin = 0\n",
    "ops.o2_pid.beta = 1\n",
    "ops.o2_pid.linearity = 1\n",
    "ops.o2_pid.alpha = -1\n",
    "\n",
    "ops.n2_pid.p = 5\n",
    "ops.n2_pid.i = 5\n",
    "ops.n2_pid.d = 0\n",
    "ops.n2_pid.amax = 90\n",
    "ops.n2_pid.amin = 0\n",
    "ops.n2_pid.beta = 1\n",
    "ops.n2_pid.linearity = 1\n",
    "ops.n2_pid.alpha = -1\n",
    "\n",
    "ops.mfcs.co2_max = 1\n",
    "ops.mfcs.o2_max = 10\n",
    "ops.mfcs.n2_max = 10\n",
    "ops.mfcs.air_max = 10\n",
    "\n",
    "ops.plots.xscale = 'auto'\n",
    "ops.plots.xmin = 0\n",
    "ops.plots.xmax = 72\n",
    "ops.plots.xscale_factor = 3600\n",
    "\n",
    "ops.delay = 0\n",
    "ops.end = 10000\n",
    "ops.initial_actual_cno = AIR_CNO\n",
    "ops.initial_request_cno = (0.07, 0, 0)\n",
    "ops.initial_pv = 90\n",
    "ops.set_point = 40\n",
    "ops.set_point_deadband = 1\n",
    "ops.k_mult = 1.1\n",
    "ops.k = None\n",
    "ops.c = None\n",
    "ops.dc = 0\n",
    "ops.d2c = 0\n",
    "ops.mode = \"o2a\"\n",
    "ops.main_gas = 1.0\n",
    "ops.reactor_size = 80\n",
    "ops.reactor_volume = 55\n",
    "ops.time_unit = hours\n",
    "ops.max_iters = 3 * days"
   ]
  },
  {
   "cell_type": "code",
   "execution_count": 80,
   "metadata": {
    "collapsed": false,
    "scrolled": true
   },
   "outputs": [
    {
     "name": "stdout",
     "output_type": "stream",
     "text": [
      "State Value Updated: sp 1.0 \n",
      "State Value Updated: sp 100.0 \n",
      "State Value Updated: sp 100.0 \n",
      "Value Changed: o2_pid.pgain: 10.00\n",
      "Value Changed: o2_pid.itime: 80.00\n",
      "Value Changed: o2_pid.dtime: 0.00\n",
      "Advancing simulation 3600 seconds...\n",
      "Advancing simulation 3600 seconds...\n",
      "Advancing simulation 3600 seconds...\n",
      "Advancing simulation 3600 seconds...\n",
      "Advancing simulation 3600 seconds...\n",
      "Advancing simulation 3600 seconds...\n",
      "Advancing simulation 3600 seconds...\n",
      "Advancing simulation 3600 seconds...\n",
      "Advancing simulation 3600 seconds...\n",
      "Advancing simulation 3600 seconds...\n",
      "TIMEFACTOR_CHANGED : 0.0\n",
      "State Value Updated: sp 150.0 \n",
      "TIMEFACTOR_CHANGED : 200.0\n",
      "Value Changed: n2_pid.pgain: -4.00\n",
      "State Value Updated: sp 100.0 \n",
      "Advancing simulation 36000 seconds...\n",
      "State Value Updated: sp 150.0 \n"
     ]
    }
   ],
   "source": [
    "cfg = SimConfig()\n",
    "cfg.simops = ops\n",
    "def run3():\n",
    "    global root, f\n",
    "    cfg.simops.o2_pid.p = 7\n",
    "    cfg.simops.o2_pid.i = 50\n",
    "    cfg.simops.o2_pid.amax = 100\n",
    "    cfg.simops.o2_pid.deadband = 0\n",
    "    cfg.simops.o2_pid.beta = 0\n",
    "    cfg.simops.o2_pid.man_request = 10\n",
    "\n",
    "    cfg.simops.n2_pid.p = -2\n",
    "    cfg.simops.n2_pid.i = 60\n",
    "    cfg.simops.n2_pid.amax = 90\n",
    "    cfg.simops.n2_pid.deadband = 0\n",
    "    cfg.simops.n2_pid.beta = 0\n",
    "    cfg.simops.n2_pid.man_request = 10\n",
    "    cfg.simops.delay=0*minutes\n",
    "\n",
    "    cfg.update_interval = 50\n",
    "    cfg.time_factor = 200\n",
    "\n",
    "    cfg.simops.initial_pv = 100\n",
    "    cfg.simops.set_point = 100\n",
    "\n",
    "    cfg.xwindow_hrs = 10\n",
    "\n",
    "    root = TkQuitHack()\n",
    "    root.wm_title(\"DO Simulation\")\n",
    "    #root.geometry(\"%dx%d\"%(600, 800))\n",
    "    f = PIDSimFrame(root, cfg)\n",
    "    f.pack()\n",
    "    root.mainloop()\n",
    "run3()"
   ]
  },
  {
   "cell_type": "code",
   "execution_count": 4,
   "metadata": {
    "collapsed": true
   },
   "outputs": [],
   "source": [
    "from hello.pid.lvpid import PIDController\n",
    "from hello.pid.do_simulation.doprocess import DOProcess\n",
    "from hello.pid.delay import m2s\n",
    "from hello.pid.gas_process import GasController\n",
    "\n",
    "def _setpid(ob, state, name, value):\n",
    "    pid = state[ob]\n",
    "    if name == \"pgain\":\n",
    "        pid.pgain = value\n",
    "    elif name == \"itime\":\n",
    "        pid.itime = m2s(value)\n",
    "    elif name == \"dtime\":\n",
    "        pid.dtime = m2s(value)\n",
    "    elif name == \"beta\":\n",
    "        pid.b = value\n",
    "    elif name == \"mode\":\n",
    "        sp = state['sp']\n",
    "        if ob[:2] == \"n2\":\n",
    "            sp += state['db']\n",
    "        elif ob[:2] == 'o2':\n",
    "            sp -= state['db']\n",
    "        else:\n",
    "            print(\"BAD PID\")\n",
    "        pid.set_mode(value, state['pv'], sp)\n",
    "    elif name == \"man\":\n",
    "        pid.man_request = int(value)\n",
    "    else:\n",
    "        print(\"WARNING: Invalid attribute for %r: %r\" % (ob, name, name == \"man\"))\n",
    "\n",
    "def _update_value(ops, state, proc, ob, name, value):\n",
    "    if ob == \"process\":\n",
    "        if name == \"delay\":\n",
    "            value *= 60\n",
    "        proc.set_values(**{name:value})\n",
    "        return\n",
    "    elif ob in (\"o2_pid\", \"n2_pid\"):\n",
    "        _setpid(ob, state, name, value)\n",
    "        return\n",
    "    print(\"WARNING: Invalid attribute or object: %r %r\" % (ob, name))\n",
    "\n",
    "    \n",
    "def _mk_pid(pidops, pv, sp, req, mode):\n",
    "    c = PIDController(pgain=pidops.p,              itime=pidops.i,\n",
    "                            dtime=pidops.d,             auto_max=pidops.amax,\n",
    "                            auto_min=pidops.amin,       \n",
    "                            beta=pidops.beta,\n",
    "                            linearity=pidops.linearity, alpha=pidops.alpha,\n",
    "                            deadband=pidops.deadband,   sp_high=100, sp_low=0,\n",
    "                            gamma=pidops.gamma,         man_request=pidops.man_request,\n",
    "                            mode=pidops.mode)\n",
    "    if mode == \"o2a\":\n",
    "        c.off_to_auto(pv, sp)\n",
    "    elif mode == \"m2a\":\n",
    "        c.man_to_auto(pv, sp, req)\n",
    "    elif mode == \"a2a\":\n",
    "        c.man_to_auto(pv, pv, req)\n",
    "    else:\n",
    "        raise ValueError(mode)\n",
    "    return c\n",
    "    \n",
    "\n",
    "def do_sim_coroutine(ops, state, xq, pvq, cq,\n",
    "                     co2q, n2q, o2q, aq, \n",
    "                     nukq, nupq, nuiq, nudq,\n",
    "                     oukq, oupq, ouiq, oudq, o2aq):\n",
    "    \n",
    "    \"\"\" This is the longest function in the history of man. \n",
    "    Its long becaues there are a *lot* of values to use and unpack for the inner PID loop,\n",
    "    including code needed to synchronize with UI updates.\n",
    "    Yay. \n",
    "    \"\"\"\n",
    "    \n",
    "    co2_req, n2_req, o2_req = ops.initial_request_cno\n",
    "    air_req = max(1-co2_req - n2_req - o2_req, 0)\n",
    "    pv = ops.initial_pv\n",
    "    sp = ops.set_point\n",
    "    mode = ops.mode\n",
    "    db = ops.set_point_deadband\n",
    "    \n",
    "    o2_pid = _mk_pid(ops.o2_pid, pv, sp-db, o2_req*100, mode)\n",
    "    n2_pid = _mk_pid(ops.n2_pid, pv, sp+db, n2_req*100, mode)\n",
    "    \n",
    "    delay = ops.delay\n",
    "    mg = ops.main_gas\n",
    "    co2a, n2a, o2a = ops.initial_actual_cno\n",
    "    \n",
    "    proc = DOProcess(mg, pv,     (co2a, n2a, o2a), \n",
    "                     ops.reactor_size, ops.reactor_volume, \n",
    "                     delay)\n",
    "    \n",
    "    proc.set_values(k=ops.k, k_mult=ops.k_mult, c=ops.c, dc=ops.dc, d2c=ops.d2c)\n",
    "        \n",
    "    ctrl = GasController(ops.mfcs.co2_max, ops.mfcs.n2_max, ops.mfcs.o2_max, ops.mfcs.air_max)\n",
    "    \n",
    "    t = 0\n",
    "    time_unit = ops.time_unit\n",
    "    mi = ops.max_iters\n",
    "    msg = None\n",
    "\n",
    "    while True:\n",
    "\n",
    "        cmd, arg = yield msg\n",
    "        msg = None\n",
    "        \n",
    "        state['c'] = proc.c * 3600\n",
    "        state['dc'] = proc.dc * 3600 * 3600\n",
    "        state['d2c'] = proc.d2c * 3600 * 3600 * 3600\n",
    "        state['k'] = proc.k\n",
    "        state['sp'] = sp\n",
    "        state['db'] = db\n",
    "        state['pv'] = pv\n",
    "        state['mg'] = mg\n",
    "        state['t'] = t\n",
    "        state['co2_req'] = co2_req\n",
    "        state['n2_req'] = n2_req\n",
    "        state['o2_req'] = o2_req\n",
    "        state['air_req'] = air_req\n",
    "        state['o2_pid'] = o2_pid\n",
    "        state['n2_pid'] = n2_pid\n",
    "\n",
    "        if cmd == \"SIM_ITERS\":\n",
    "            \n",
    "            iters = arg\n",
    "            if iters < 0:\n",
    "                continue\n",
    "            elif iters > mi:\n",
    "                iters = mi\n",
    "\n",
    "            # One approximation made in this simulation\n",
    "            # is that no values, including oxygen consumption\n",
    "            # (c), change during the inner iteration period \n",
    "            # outside of modification by the process or PID\n",
    "            # classes themselves. \n",
    "\n",
    "            while iters > 0:\n",
    "\n",
    "                t += 1\n",
    "                iters -= 1\n",
    "                o2_req = o2_pid.step(pv, sp-db) / 100\n",
    "                n2_req = n2_pid.step(pv, sp+db) / 100\n",
    "                co2_req, n2_req, o2_req, air_req = ctrl.request(mg, co2_req, n2_req, o2_req)\n",
    "                pv = proc.step(pv, co2_req, n2_req, o2_req, air_req)\n",
    "\n",
    "                xq.put(t/time_unit)\n",
    "                pvq.put(pv)\n",
    "                cq.put(proc.c * 3600)\n",
    "\n",
    "                co2q.put(co2_req)\n",
    "                n2q.put(n2_req)\n",
    "                o2q.put(o2_req)\n",
    "                aq.put(air_req)\n",
    "                o2aq.put(proc.hp.o2A)\n",
    "\n",
    "                nukq.put(n2_pid.Uk)\n",
    "                nupq.put(n2_pid.Up)\n",
    "                nuiq.put(n2_pid.Ui)\n",
    "                nudq.put(n2_pid.Ud)\n",
    "\n",
    "                oukq.put(o2_pid.Uk)\n",
    "                oupq.put(o2_pid.Up)\n",
    "                ouiq.put(o2_pid.Ui)\n",
    "                oudq.put(o2_pid.Ud)\n",
    "\n",
    "        elif cmd == \"SET_TIME\":\n",
    "            t = arg\n",
    "        elif cmd == \"UPDATE_VALUE\":\n",
    "            ob, name, value = arg\n",
    "            rsp = _update_value(ops, state, proc, ob, name, value)\n",
    "        elif cmd == \"MODIFY_STATE\":\n",
    "            name, value = arg\n",
    "            if name == \"sp\":\n",
    "                sp = state['sp'] = value\n",
    "            elif name == \"pv\":\n",
    "                pv = state['pv'] = value\n",
    "            elif name == \"main_gas\":\n",
    "                mg = state['mg'] = value\n",
    "            else:\n",
    "                print(\"WARNING: Unrecognized name: %r\" % name)\n",
    "        else:\n",
    "            raise ValueError(cmd)\n",
    "\n",
    "    \n",
    "def do_sim2(ops):\n",
    "    # standalone sim function compatible with the do_sim_coroutine\n",
    "    # function used for interactive use\n",
    "    \n",
    "    # This one yields the coroutine instead of calling it automatically\n",
    "    # allowing for complex behavior made by adjusting parameters programmatically\n",
    "    # mid-run. \n",
    "    state = {}\n",
    "    \n",
    "    class MyList(list):\n",
    "        put = list.append\n",
    "    \n",
    "    xq   = MyList()\n",
    "    pvq  = MyList()\n",
    "    cq   = MyList()\n",
    "    co2q = MyList()\n",
    "    n2q  = MyList()\n",
    "    o2q  = MyList()\n",
    "    aq   = MyList()\n",
    "    nukq = MyList()\n",
    "    nupq = MyList()\n",
    "    nuiq = MyList()\n",
    "    nudq = MyList()\n",
    "    oukq = MyList()\n",
    "    oupq = MyList()\n",
    "    ouiq = MyList()\n",
    "    oudq = MyList()\n",
    "    o2aq = MyList()\n",
    "    coro = do_sim_coroutine(ops, state, xq, pvq, cq,\n",
    "                     co2q, n2q, o2q, aq, \n",
    "                     nukq, nupq, nuiq, nudq,\n",
    "                     oukq, oupq, ouiq, oudq, o2aq)\n",
    "    \n",
    "    next(coro)\n",
    "    yield coro\n",
    "    data = list(zip(xq, pvq, cq,\n",
    "                     co2q, n2q, o2q, aq, o2aq))\n",
    "    data2 = list(zip(nukq, nupq, nuiq, nudq))\n",
    "    data3 = list(zip(oukq, oupq, ouiq, oudq))\n",
    "    yield data, data2, data3\n",
    "    \n",
    "\n",
    "def do_sim(ops):\n",
    "    sim = do_sim2(ops)\n",
    "    coro = next(sim)\n",
    "    coro.send((\"SIM_ITERS\", ops.end))\n",
    "    return next(sim)"
   ]
  },
  {
   "cell_type": "code",
   "execution_count": 3,
   "metadata": {
    "collapsed": false
   },
   "outputs": [],
   "source": [
    "from hello.pid.do_simulation.do_sim import do_sim_coroutine, do_sim"
   ]
  },
  {
   "cell_type": "code",
   "execution_count": 5,
   "metadata": {
    "collapsed": false
   },
   "outputs": [],
   "source": [
    "# O2 needs an extra padding space because the negative sign\n",
    "# for N2 pgain doesn't count, i guesss\n",
    "def fmt_float(f):\n",
    "    if not f:\n",
    "        return \"0\"\n",
    "    f = str(f)\n",
    "    if \".\" not in f:\n",
    "        return f\n",
    "    else:\n",
    "        f = f.strip(\"0\")\n",
    "        if f[-1] == \".\":\n",
    "            f = f[:-1]\n",
    "        if f[0] == \".\":\n",
    "            f = \"0\" + f\n",
    "    return f\n",
    "def get_text(ops):\n",
    "\n",
    "    text = \\\n",
    "\"\"\"\n",
    "O2: P=%3d  I=%5d  Initial PV: %3d  k: %.4f/hr (%sx Est.)\n",
    "N2: P=%3d  I=%4d  Set Point:  %3d  c: %s%%/hr\n",
    "\n",
    " \"\"\" % (ops.o2_pid.p, ops.o2_pid.i,ops.initial_pv, ops.k*ops.k_mult, fmt_float(ops.k_mult),\n",
    "        ops.n2_pid.p, ops.n2_pid.i, ops.set_point, fmt_float(ops.c))\n",
    "    text = text.strip()\n",
    "    return text"
   ]
  },
  {
   "cell_type": "code",
   "execution_count": 8,
   "metadata": {
    "collapsed": true
   },
   "outputs": [],
   "source": [
    "def run(ops):\n",
    "    global data, data2, text, data3\n",
    "    data, data2, data3 = do_sim(ops)\n",
    "    text = get_text(ops)\n",
    "    plot(ops)\n",
    "    \n",
    "def run2(ops):\n",
    "    global data, data2, text, data3\n",
    "    data, data2, data3 = do_sim(ops)\n",
    "    text = get_text(ops)\n",
    "    plot1(ops)\n",
    "    \n",
    "def run_int(ops):\n",
    "    global data, data2, text, data3\n",
    "    data, data2, data3 = do_sim(ops)\n",
    "    text = get_text(ops)\n",
    "    plot_int(ops)"
   ]
  },
  {
   "cell_type": "code",
   "execution_count": 9,
   "metadata": {
    "collapsed": false
   },
   "outputs": [
    {
     "name": "stdout",
     "output_type": "stream",
     "text": [
      "Using matplotlib backend: TkAgg\n"
     ]
    }
   ],
   "source": [
    "import matplotlib.pyplot as plt\n",
    "from matplotlib.ticker import FuncFormatter\n",
    "%matplotlib\n",
    "\n",
    "def plot(ops):    \n",
    "    print(\"Parsing Data\")\n",
    "    global x, pv, mg, cs, co2_req, n2_req, o2_req, air_req, co2a, n2a, o2a, uk, up, ui, ud\n",
    "    x, pv, cs, co2_req, n2_req, o2_req, air_req = list(zip(*data))\n",
    "    uk, up, ui, ud = list(zip(*data2))\n",
    "    print(\"Closing Plot\")\n",
    "    plt.close()\n",
    "    print(\"Plotting Data\")\n",
    "\n",
    "    step = 100\n",
    "    xs = x[::step]\n",
    "    xs = np.array(xs) / ops.plots.xscale_factor * ops.time_unit\n",
    "    fig = plt.figure()\n",
    "    ax1 = plt.subplot(311)\n",
    "    ax2 = plt.subplot(312)\n",
    "    ax3 = plt.subplot(313)\n",
    "\n",
    "    pvs = np.array(pv[::step])\n",
    "    ax1.plot(xs, pvs, \"blue\", ls=\"-\", label=\"PV\")\n",
    "    ax1.axhline(y=ops.set_point, ls=\"--\", color=\"black\")\n",
    "\n",
    "    ax2.plot(xs, co2_req[::step], \"purple\", ls=\"-\", label=\"CO2\")\n",
    "    ax2.plot(xs, n2_req[::step], \"red\", ls=\"-\", label=\"N2\")\n",
    "    ax2.plot(xs, o2_req[::step], \"green\", ls=\"-\", label=\"O2\")\n",
    "    ax2.plot(xs, air_req[::step], \"cyan\", ls=\"-\", label=\"Air\")\n",
    "    fm1 = FuncFormatter(lambda y, _: \"%.2f%%\"%y)\n",
    "    fm2 = FuncFormatter(lambda y, _: \"%.2f%%\"%(y*100))\n",
    "\n",
    "    ax3.plot(xs, uk[::step], \"blue\", ls=\"-\", label=\"Uk\")\n",
    "    ax3.plot(xs, up[::step], \"red\", ls=\"-\", label=\"Up\")\n",
    "    ax3.plot(xs, ui[::step], \"green\", ls=\"-\", label=\"Ui\")\n",
    "    ax3.plot(xs, ud[::step], \"purple\", ls=\"-\", label=\"Ud\")\n",
    "\n",
    "    ax1.yaxis.set_major_formatter(fm1)\n",
    "    ax2.yaxis.set_major_formatter(fm2)\n",
    "    ax2.set_ylim((0, 1.1))\n",
    "    \n",
    "    m, ma = ax1.get_ylim()\n",
    "    if np.min(pvs) - 1 < m:\n",
    "        m -= 1\n",
    "    if np.max(pvs) + 1 > ma:\n",
    "        ma += 1\n",
    "    ax1.set_ylim((m, ma))\n",
    "    #ax1.set_ylim((sp-5, sp+5))\n",
    "\n",
    "\n",
    "    for a in ax1, ax2, ax3: \n",
    "        b = a.get_position()\n",
    "        a.set_position([b.x0, b.y0, b.width*0.9, b.height])\n",
    "        a.legend(bbox_to_anchor=(0.99, 1.06), loc=\"upper left\")\n",
    "        a.grid()\n",
    "        if ops.plots.xscale == 'man':\n",
    "            a.set_xlim((ops.plots.xmin, ops.plots.xmax))\n",
    "    \n",
    "    fig.text(0.15, 0.95, get_text(ops), transform=ax1.transAxes, fontsize=12,\n",
    "        verticalalignment='top')\n",
    "    \n",
    "    wm=plt.get_current_fig_manager()\n",
    "    wm.window.attributes('-topmost', 1)\n",
    "    wm.window.attributes('-topmost', 0)\n",
    "    # h = wm.window.winfo_height()\n",
    "    # w = wm.window.winfo_width()\n",
    "    wm.window.geometry(\"%sx%s+%s+%s\"%(700,720,50, 20))"
   ]
  },
  {
   "cell_type": "code",
   "execution_count": 10,
   "metadata": {
    "collapsed": true
   },
   "outputs": [],
   "source": [
    "# Same as plot() but doesn't have the PID internal values plot\n",
    "\n",
    "def plot1(ops):    \n",
    "    print(\"Parsing Data\")\n",
    "    global ax1, ax2, fig\n",
    "    global x, pv, mg, cs, co2_req, n2_req, o2_req, air_req, co2a, n2a, o2a, uk, up, ui, ud\n",
    "    x, pv, cs, co2_req, n2_req, o2_req, air_req = list(zip(*data))\n",
    "    print(\"Closing Plot\")\n",
    "    plt.close()\n",
    "    print(\"Plotting Data\")\n",
    "\n",
    "    step = 100\n",
    "    xs = x[::step]\n",
    "    xs = np.array(xs) / ops.plots.xscale_factor * ops.time_unit\n",
    "    fig = plt.figure()\n",
    "    ax1 = plt.subplot(211)\n",
    "    ax2 = plt.subplot(212)\n",
    "\n",
    "    pvs = np.array(pv[::step])\n",
    "    ax1.plot(xs, pvs, \"blue\", ls=\"-\", label=\"PV\")\n",
    "    ax1.axhline(y=ops.set_point, ls=\"--\", color=\"black\")\n",
    "\n",
    "    ax2.plot(xs, co2_req[::step], \"purple\", ls=\"-\", label=\"CO2\")\n",
    "    ax2.plot(xs, n2_req[::step], \"red\", ls=\"-\", label=\"N2\")\n",
    "    ax2.plot(xs, o2_req[::step], \"green\", ls=\"-\", label=\"O2\")\n",
    "    ax2.plot(xs, air_req[::step], \"cyan\", ls=\"-\", label=\"Air\")\n",
    "    fm1 = FuncFormatter(lambda y, _: \"%.2f%%\"%y)\n",
    "    fm2 = FuncFormatter(lambda y, _: \"%.2f%%\"%(y*100))\n",
    "\n",
    "    ax1.yaxis.set_major_formatter(fm1)\n",
    "    ax2.yaxis.set_major_formatter(fm2)\n",
    "    ax2.set_ylim((0, 1.1))\n",
    "    \n",
    "    m, ma = ax1.get_ylim()\n",
    "    if np.min(pvs) - 1 < m:\n",
    "        m -= 1\n",
    "    if np.max(pvs) + 1 > ma:\n",
    "        ma += 1\n",
    "    ax1.set_ylim((m, ma))\n",
    "\n",
    "    for a in ax1, ax2: \n",
    "        b = a.get_position()\n",
    "        a.set_position([b.x0, b.y0, b.width*0.9, b.height])\n",
    "        a.legend(bbox_to_anchor=(0.99, 1.06), loc=\"upper left\")\n",
    "        a.grid()\n",
    "        if ops.plots.xscale == 'man':\n",
    "            a.set_xlim((ops.plots.xmin, ops.plots.xmax))\n",
    "    \n",
    "    fig.text(0.15, 0.95, get_text(ops), transform=ax1.transAxes, fontsize=12,\n",
    "        verticalalignment='top')\n",
    "    \n",
    "    wm=plt.get_current_fig_manager()\n",
    "    wm.window.attributes('-topmost', 1)\n",
    "    wm.window.attributes('-topmost', 0)\n",
    "    wm.window.geometry(\"%sx%s+%s+%s\"%(700,720,50, 20))"
   ]
  },
  {
   "cell_type": "code",
   "execution_count": 19,
   "metadata": {
    "collapsed": false
   },
   "outputs": [
    {
     "name": "stdout",
     "output_type": "stream",
     "text": [
      "Using matplotlib backend: TkAgg\n"
     ]
    }
   ],
   "source": [
    "import matplotlib.pyplot as plt\n",
    "from matplotlib.ticker import FuncFormatter\n",
    "%matplotlib\n",
    "\n",
    "def plot_int(ops):    \n",
    "    print(\"Parsing Data\")\n",
    "    global x, pv, mg, cs, co2_req, n2_req, o2_req, air_req, co2a, n2a, o2a, uk, up, ui, ud\n",
    "    x, pv, cs, co2_req, n2_req, o2_req, air_req, o2a = list(zip(*data))\n",
    "    uk, up, ui, ud = list(zip(*data2))\n",
    "    print(\"Closing Plot\")\n",
    "    plt.close()\n",
    "    print(\"Plotting Data\")\n",
    "\n",
    "    step = 100\n",
    "    xs = x[::step]\n",
    "    xs = np.array(xs) / ops.plots.xscale_factor * ops.time_unit\n",
    "    fig = plt.figure()\n",
    "    ax1 = plt.subplot(311)\n",
    "    ax2 = plt.subplot(312)\n",
    "    ax3 = plt.subplot(313)\n",
    "\n",
    "    pvs = np.array(pv[::step])\n",
    "    ax1.plot(xs, pvs, \"blue\", ls=\"-\", label=\"PV\")\n",
    "    ax1.axhline(y=ops.set_point, ls=\"--\", color=\"black\")\n",
    "\n",
    "    ax2.plot(xs, co2_req[::step], \"purple\", ls=\"-\", label=\"CO2\")\n",
    "    ax2.plot(xs, n2_req[::step], \"red\", ls=\"-\", label=\"N2\")\n",
    "    ax2.plot(xs, o2_req[::step], \"green\", ls=\"-\", label=\"O2\")\n",
    "    ax2.plot(xs, air_req[::step], \"cyan\", ls=\"-\", label=\"Air\")\n",
    "    fm1 = FuncFormatter(lambda y, _: \"%.2f%%\"%y)\n",
    "    fm2 = FuncFormatter(lambda y, _: \"%.2f%%\"%(y*100))\n",
    "\n",
    "    ax3.plot(xs, pvs, \"blue\", ls=\"-\", label=\"O2 sln\")\n",
    "    ax3.plot(xs, np.array(o2a[::step])*100/.2095, \"red\", ls=\"-\", label=\"O2 hs\")\n",
    "\n",
    "    ax1.yaxis.set_major_formatter(fm1)\n",
    "    ax2.yaxis.set_major_formatter(fm2)\n",
    "    ax2.set_ylim((0, 1.1))\n",
    "    \n",
    "    m, ma = ax1.get_ylim()\n",
    "    if np.min(pvs) - 1 < m:\n",
    "        m -= 1\n",
    "    if np.max(pvs) + 1 > ma:\n",
    "        ma += 1\n",
    "    ax1.set_ylim((m, ma))\n",
    "    #ax1.set_ylim((sp-5, sp+5))\n",
    "\n",
    "\n",
    "    for a in ax1, ax2, ax3: \n",
    "        b = a.get_position()\n",
    "        a.set_position([b.x0, b.y0, b.width*0.9, b.height])\n",
    "        a.legend(bbox_to_anchor=(0.99, 1.06), loc=\"upper left\")\n",
    "        a.grid()\n",
    "        if ops.plots.xscale == 'man':\n",
    "            a.set_xlim((ops.plots.xmin, ops.plots.xmax))\n",
    "    \n",
    "    fig.text(0.15, 0.95, get_text(ops), transform=ax1.transAxes, fontsize=12,\n",
    "        verticalalignment='top')\n",
    "    \n",
    "    wm=plt.get_current_fig_manager()\n",
    "    wm.window.attributes('-topmost', 1)\n",
    "    wm.window.attributes('-topmost', 0)\n",
    "    # h = wm.window.winfo_height()\n",
    "    # w = wm.window.winfo_width()\n",
    "    wm.window.geometry(\"%sx%s+%s+%s\"%(700,720,50, 20))"
   ]
  },
  {
   "cell_type": "code",
   "execution_count": 20,
   "metadata": {
    "collapsed": true
   },
   "outputs": [],
   "source": [
    "k_80L = 0.1306\n",
    "k_15L = 0.19314"
   ]
  },
  {
   "cell_type": "code",
   "execution_count": 21,
   "metadata": {
    "collapsed": false
   },
   "outputs": [
    {
     "name": "stdout",
     "output_type": "stream",
     "text": [
      "Parsing Data\n",
      "Closing Plot\n",
      "Plotting Data\n"
     ]
    }
   ],
   "source": [
    "ops = SimOps()\n",
    "ops.o2_pid.p = 3\n",
    "ops.o2_pid.i = 80\n",
    "ops.o2_pid.d = 0\n",
    "ops.o2_pid.amax = 100\n",
    "ops.o2_pid.amin = 0\n",
    "ops.o2_pid.beta = 0\n",
    "ops.o2_pid.linearity = 1\n",
    "ops.o2_pid.alpha = -1\n",
    "\n",
    "ops.n2_pid.p = -3\n",
    "ops.n2_pid.i = 80\n",
    "ops.n2_pid.d = 0\n",
    "ops.n2_pid.amax = 90\n",
    "ops.n2_pid.amin = 0\n",
    "ops.n2_pid.beta = 0\n",
    "ops.n2_pid.linearity = 1\n",
    "ops.n2_pid.alpha = -1\n",
    "\n",
    "ops.mfcs.co2_max = 1\n",
    "ops.mfcs.o2_max = 2\n",
    "ops.mfcs.n2_max = 10\n",
    "ops.mfcs.air_max = 10\n",
    "\n",
    "ops.plots.xscale = 'auto'\n",
    "ops.plots.xmin = 0\n",
    "ops.plots.xmax = 72\n",
    "ops.plots.xscale_factor = 3600\n",
    "\n",
    "ops.delay = 0\n",
    "ops.end = 16*hours\n",
    "ops.initial_actual_cno = AIR_CNO\n",
    "ops.initial_request_cno = 0,0,0\n",
    "ops.initial_pv = 100\n",
    "ops.set_point = 50\n",
    "ops.set_point_deadband = 1\n",
    "ops.k_mult = 1.1\n",
    "ops.k = 0.1306\n",
    "ops.c = 0\n",
    "ops.dc = 0\n",
    "ops.d2c = 0\n",
    "ops.mode = \"o2a\"\n",
    "ops.main_gas = 2.0\n",
    "ops.reactor_size = 80\n",
    "ops.reactor_volume = 57\n",
    "ops.time_unit = hours\n",
    "ops.max_iters = 3 * days\n",
    "\n",
    "run_int(ops)\n",
    "\n",
    "from matplotlib.ticker import MultipleLocator\n",
    "l = MultipleLocator(2)\n",
    "for a in plt.gcf().axes:\n",
    "    a.xaxis.set_major_locator(l)\n",
    "\n",
    "#ax1.set_ylim(45, 105)\n",
    "#ax2.set_ylim(0, 1)"
   ]
  },
  {
   "cell_type": "code",
   "execution_count": 131,
   "metadata": {
    "collapsed": false
   },
   "outputs": [
    {
     "data": {
      "text/plain": [
       "(145, 155)"
      ]
     },
     "execution_count": 131,
     "metadata": {},
     "output_type": "execute_result"
    }
   ],
   "source": [
    "ax1.set_ylim(145, 155)"
   ]
  },
  {
   "cell_type": "code",
   "execution_count": null,
   "metadata": {
    "collapsed": true
   },
   "outputs": [],
   "source": [
    "from hello.pid.do_simulation.fitness import Fitness2, Fitness3\n",
    "from hello.pid.picker import mk_picker"
   ]
  },
  {
   "cell_type": "code",
   "execution_count": 148,
   "metadata": {
    "collapsed": false
   },
   "outputs": [
    {
     "name": "stdout",
     "output_type": "stream",
     "text": [
      "Using matplotlib backend: TkAgg\n",
      "3 50 Total:100.01 Peak:0.00 Settle:10.00 [] []\n",
      "3 60 Total:100.01 Peak:0.00 Settle:10.00 [] []\n",
      "3 70 Total:100.01 Peak:0.00 Settle:10.00 [] []\n",
      "3 80 Total:100.01 Peak:0.00 Settle:10.00 [] []\n",
      "3 90 Total:100.01 Peak:0.00 Settle:10.00 [] []\n",
      "3 100 Total:100.01 Peak:0.00 Settle:10.00 [] []\n"
     ]
    }
   ],
   "source": [
    "%matplotlib\n",
    "import peakutils\n",
    "ops.end = 10 * hours\n",
    "sp = 50\n",
    "\n",
    "ops.o2_pid.p = 6\n",
    "ops.o2_pid.i = 50\n",
    "ops.o2_pid.amax = 100\n",
    "ops.o2_pid.deadband = 0\n",
    "ops.o2_pid.d = 0\n",
    "ops.o2_pid.alpha = -1\n",
    "\n",
    "ops.n2_pid.p = -3\n",
    "ops.n2_pid.i = 80\n",
    "ops.n2_pid.amax = 100\n",
    "ops.n2_pid.deadband = 0\n",
    "ops.n2_pid.d = 0\n",
    "ops.n2_pid.alpha = -1\n",
    "\n",
    "ops.initial_pv = 100\n",
    "ops.set_point = sp\n",
    "ops.c = 0\n",
    "ops.dc = 0\n",
    "ops.d2c = 0\n",
    "\n",
    "# k_mult = 1.25\n",
    "ops.k_mult = 1.1\n",
    "ops.k = 0.1306\n",
    "ops.initial_actual_cno = (0.0000, .78, .2095)\n",
    "ops.initial_request_cno = (0.00, 0, 0)\n",
    "ops.mode = 'm2a'\n",
    "ops.plots.xscale = 'auto'\n",
    "ops.plots.xmin = 20\n",
    "ops.plots.xmax = 30\n",
    "ops.set_point_deadband = 1\n",
    "ops.delay = 0\n",
    "\n",
    "results = []\n",
    "f = FuncFormatter(lambda y, _: \"%.1f%%\"%y)\n",
    "plt.close()\n",
    "fig = plt.figure()\n",
    "ax = fig.add_subplot(3,1,1)\n",
    "ax2 = fig.add_subplot(3,1,2)\n",
    "ax3 = fig.add_subplot(3,1,3)\n",
    "ax.axhline(y=sp, ls=\"--\", color=\"black\")\n",
    "ax.grid()\n",
    "\n",
    "ax.yaxis.set_major_formatter(f)\n",
    "ax2.yaxis.set_major_formatter(f)\n",
    "ax3.yaxis.set_major_formatter(f)\n",
    "\n",
    "def plot3(x, pv, o2_req, n2_req, label):\n",
    "    ax.plot(x, pv, label=label)\n",
    "    ax2.plot(x, np.array(o2_req)*100, label=label)\n",
    "    ax3.plot(x, np.array(n2_req)*100, label=label)\n",
    "\n",
    "combos = [(3,i) for i in range(50, 101, 10)]\n",
    "    \n",
    "for p, i in combos:\n",
    "    if p is not None:\n",
    "        ops.o2_pid.p = p\n",
    "    if i is not None:\n",
    "        ops.o2_pid.i = i\n",
    "        ops.n2_pid.i = i\n",
    "    d1, d2, d3 = do_sim(ops)\n",
    "    x, pv, cs, co2_req, n2_req, o2_req, air_req = list(zip(*d1))\n",
    "    plot3(x, pv, o2_req, n2_req, \"P:%.1f I:%.1f\"%(p,i))\n",
    "    \n",
    "    x = np.array(x)\n",
    "    pv = np.array(pv)\n",
    "    ind = peakutils.indexes(pv, thres=0.5, min_dist = 5*minutes)\n",
    "    ax.plot(x[ind], pv[ind], '+', mfc=None, mec='r', mew=2, ms=8)\n",
    "    print(p,i, str(Fitness3(x,pv,150)), ind/3600, pv[ind])\n",
    "\n",
    "for a in (ax, ax2, ax3):\n",
    "    b = a.get_position()\n",
    "    a.set_position([b.x0, b.y0, b.width*0.9, b.height])\n",
    "    a.legend(bbox_to_anchor=(0.99, 1.06), loc=\"upper left\", fontsize=10)\n",
    "    mk_picker(fig, a)"
   ]
  },
  {
   "cell_type": "code",
   "execution_count": 138,
   "metadata": {
    "collapsed": true
   },
   "outputs": [],
   "source": [
    "def sln_space_test(ops):\n",
    "    d1, d2, d3 = do_sim(ops)\n",
    "    x, pv, cs, co2_req, n2_req, o2_req, air_req = [np.array(d) for d in zip(*d1)]\n",
    "    cs = cs\n",
    "    co2_req = co2_req\n",
    "    n2_req = n2_req\n",
    "    o2_req = o2_req\n",
    "    air_req = air_req\n",
    "    del d1, d2, d3  # garbage collect\n",
    "    score = Fitness3(x, pv, ops.set_point)\n",
    "    score2 = Fitness2((x, pv, ops.set_point))\n",
    "    return locals().copy()"
   ]
  },
  {
   "cell_type": "code",
   "execution_count": 143,
   "metadata": {
    "collapsed": true
   },
   "outputs": [],
   "source": [
    "plot_test_results.clear()"
   ]
  },
  {
   "cell_type": "code",
   "execution_count": 144,
   "metadata": {
    "collapsed": false
   },
   "outputs": [
    {
     "name": "stdout",
     "output_type": "stream",
     "text": [
      "Testing P:3 I:70 Result: Total:41.42 Peak:3.00 Settle:5.69 False Settle 20499 > 18000 Ovr 49 > 3 \n",
      "Testing P:3 I:80 Result: Total:41.75 Peak:3.00 Settle:5.72 False Settle 20602 > 18000 Ovr 49 > 3 \n",
      "Testing P:3 I:90 Result: Total:42.32 Peak:3.00 Settle:5.77 False Settle 20780 > 18000 Ovr 49 > 3 \n",
      "Testing P:3 I:100 Result: Total:43.19 Peak:3.00 Settle:5.85 False Settle 21051 > 18000 Ovr 49 > 3 \n",
      "Testing P:3 I:110 Result: Total:44.45 Peak:3.00 Settle:5.95 False Settle 21435 > 18000 Ovr 49 > 3 \n",
      "Done\n"
     ]
    }
   ],
   "source": [
    "from mpl_toolkits.mplot3d import Axes3D\n",
    "leg_map = {}\n",
    "\n",
    "sp = 50\n",
    "\n",
    "try:\n",
    "    plot_test_results\n",
    "except NameError:\n",
    "    plot_test_results = {}\n",
    "\n",
    "def on_legend_clicked(event):\n",
    "    ll = event.artist\n",
    "    line = leg_map[ll]\n",
    "    line.set_visible(not line.get_visible())\n",
    "    fig.canvas.draw()\n",
    "fig.canvas.mpl_connect(\"pick_event\", on_legend_clicked)\n",
    "\n",
    "\n",
    "def plot2(x, pv, o2_req, n2_req, label, update=True):\n",
    "    l1 = ax.plot(x, pv, label=label)\n",
    "    ax.legend(bbox_to_anchor=(0.99, 1.06), loc=\"upper left\", fontsize=10)\n",
    "    if update:\n",
    "        fig.canvas.draw()\n",
    "        fig.canvas.flush_events()\n",
    "    \n",
    "scatter_data = [[],[],[]]\n",
    "def plot3(p, i, score, update=True):\n",
    "    x,y,z = scatter_data\n",
    "    x.append(p)\n",
    "    y.append(i)\n",
    "    z.append(score)\n",
    "    ax3d.clear()\n",
    "    ax3d.scatter(x,y,z, antialiased=False)\n",
    "    if update:\n",
    "        fig.canvas.draw()\n",
    "        fig.canvas.flush_events()\n",
    "\n",
    "#plt.close()\n",
    "fig = plt.figure()\n",
    "ax = fig.add_subplot(2,1,1)\n",
    "ax3d = fig.add_subplot(2,1,2, projection='3d')\n",
    "ax.axhline(y=sp, ls=\"--\", color=\"black\")\n",
    "ax.grid()\n",
    "ax.axhline(y=sp+3, color=\"black\", ls=\"--\")\n",
    "ax.axhline(y=sp-3, color=\"black\", ls=\"--\")\n",
    "#ax.set_ylim(sp-10, sp+10)\n",
    "\n",
    "f = FuncFormatter(lambda y, _: \"%.1f%%\"%y)\n",
    "ax.yaxis.set_major_formatter(f)\n",
    "\n",
    "ops.o2_pid.p = 10\n",
    "ops.o2_pid.i = 80\n",
    "ops.o2_pid.d = 0\n",
    "ops.o2_pid.amax = 100\n",
    "ops.o2_pid.amin = 0\n",
    "ops.o2_pid.beta = 0\n",
    "ops.o2_pid.linearity = 1\n",
    "ops.o2_pid.alpha = -1\n",
    "\n",
    "ops.n2_pid.p = -4\n",
    "ops.n2_pid.i = 60\n",
    "ops.n2_pid.d = 0\n",
    "ops.n2_pid.amax = 90\n",
    "ops.n2_pid.amin = 0\n",
    "ops.n2_pid.beta=0\n",
    "ops.n2_pid.linearity = 1\n",
    "ops.n2_pid.alpha = -1\n",
    "\n",
    "ops.mfcs.co2_max = 1\n",
    "ops.mfcs.n2_max = 10\n",
    "ops.mfcs.o2_max = 2\n",
    "ops.mfcs.air_max = 10\n",
    "\n",
    "ops.initial_pv = 100\n",
    "ops.set_point = sp\n",
    "ops.mode=\"o2a\"\n",
    "\n",
    "ops.end = 16*hours\n",
    "ops.set_point_deadband = 1\n",
    "ops.delay = 0\n",
    "ops.initial_actual_cno = AIR_CNO\n",
    "ops.initial_request_cno = (0, 0, 0)\n",
    "ops.k_mult = 1.1\n",
    "ops.k = 0.1306\n",
    "ops.reactor_size = 80\n",
    "ops.reactor_volume = 57\n",
    "\n",
    "ops.dc = 0\n",
    "ops.d2c = 0\n",
    "\n",
    "ops.main_gas = 2.0\n",
    "ops.time_unit = hours\n",
    "ops.max_iters = 24 * days\n",
    "\n",
    "axes = [ax, ax3d]\n",
    "\n",
    "for a in axes:\n",
    "    b = a.get_position()\n",
    "    a.set_position([b.x0, b.y0, b.width*0.9, b.height])\n",
    "\n",
    "passing = []\n",
    "update = True\n",
    "noupdate = 0\n",
    "Fitness2.max_overshoot = 3\n",
    "Fitness2.settle_target = 5 * hours\n",
    "\n",
    "pid=ops.o2_pid\n",
    "\n",
    "for p in (3,):\n",
    "    for i in range(70,111, 10):\n",
    "        print(\"\\rTesting P:%d I:%d \" % (p,i), end=\"\")\n",
    "        if (p,i) not in plot_test_results:\n",
    "            pid.p = p\n",
    "            pid.i = i\n",
    "            data = sln_space_test(ops)\n",
    "            update = True\n",
    "        else:\n",
    "            data = plot_test_results[(p,i)]\n",
    "            update = False\n",
    "            noupdate += 1\n",
    "            if noupdate > 10:\n",
    "                noupdate = 0\n",
    "                update = True\n",
    "        s2 = Fitness2((data['x'], data['pv'], sp))\n",
    "        res, reason = s2.result_reason()\n",
    "        if res == True:\n",
    "            passing.append((p,i))\n",
    "            label = \"P:%3d I:%3d\" % (p, i)\n",
    "            plot2(data['x'][::120], data['pv'][::120],data['o2_req'], data['n2_req'], label, update)\n",
    "            plot_test_results[(p,i)] = data\n",
    "        plot3(p,i, data['score'].score(), update)\n",
    "        print(\"Result: %s %s %s\" % (str(data['score']), res, reason))\n",
    "        fig.canvas.flush_events()\n",
    "print(\"Done\")"
   ]
  },
  {
   "cell_type": "code",
   "execution_count": 104,
   "metadata": {
    "collapsed": true
   },
   "outputs": [],
   "source": [
    "mk_picker(fig, ax)"
   ]
  },
  {
   "cell_type": "code",
   "execution_count": 19,
   "metadata": {
    "collapsed": false
   },
   "outputs": [],
   "source": [
    "try:\n",
    "    _g_leg_map\n",
    "except NameError:\n",
    "    _g_leg_map = {}\n",
    "def plot4(pd, sp):\n",
    "    global fig, ax, ax2, ax3\n",
    "    _g_leg_map.clear()\n",
    "    mp = {}\n",
    "    if not plt.get_fignums():\n",
    "        fig = plt.figure()\n",
    "        new = True\n",
    "        ax = fig.add_subplot(311)\n",
    "        ax2 = fig.add_subplot(3,1,2)\n",
    "        ax3 = fig.add_subplot(3,1,3)\n",
    "    else:\n",
    "        new = False\n",
    "        ax.clear()\n",
    "        ax2.clear()\n",
    "        ax3.clear()\n",
    "\n",
    "    f = FuncFormatter(lambda y, _: \"%.1f%%\"%(y*100))\n",
    "    ax2.yaxis.set_major_formatter(f)\n",
    "    ax3.yaxis.set_major_formatter(f)\n",
    "    print(*(\"%-12s\"%a for a in \"p i settle osc\".split()))\n",
    "    def _p(*args):\n",
    "        print(*(\"%-12.1f\"%a for a in args))\n",
    "    for (p,i), (x,pv,n2,o2) in pd.items():\n",
    "        f =  Fitness2()\n",
    "        f.settle_target = 5 * hours\n",
    "        f.calculate((x,pv,50))\n",
    "        s,o = f.result2()\n",
    "        _p(p,i, s/3600, o)\n",
    "        label = \"P:%d I:%d\"%(p,i)\n",
    "        ax.plot(x,pv, label=label + \" PV\")\n",
    "        ax2.plot(x, n2, label=label+\" N2\")\n",
    "        ax3.plot(x, o2, label=label+\" O2\")\n",
    "    for a in (ax, ax2, ax3):\n",
    "        if new:\n",
    "            b = a.get_position()\n",
    "            a.set_position([b.x0, b.y0, b.width*0.80, b.height])\n",
    "        a.legend(bbox_to_anchor=(0.99, 1.06), loc=\"upper left\")\n",
    "        mk_picker(fig, a)\n",
    "    ax.axhline(y=sp-1, ls=\"--\", color=\"black\")\n",
    "    ax.axhline(y=sp+1, ls=\"--\", color=\"black\")\n",
    "    ax.set_ylim(sp-5, sp+5)\n",
    "    #ax2.set_ylim(0, 110)\n",
    "    \n",
    "def test3(ops):\n",
    "    d1, d2, d3 = do_sim(ops)\n",
    "    x, pv, _, _, n2, o2, *_ = list(zip(*d1))\n",
    "    return x,pv, n2, o2\n",
    "    "
   ]
  },
  {
   "cell_type": "code",
   "execution_count": null,
   "metadata": {
    "collapsed": false
   },
   "outputs": [],
   "source": [
    "plot4(pd, sp)"
   ]
  },
  {
   "cell_type": "markdown",
   "metadata": {},
   "source": [
    "# 15L DO Simulations for Results Report"
   ]
  },
  {
   "cell_type": "code",
   "execution_count": 106,
   "metadata": {
    "collapsed": true
   },
   "outputs": [],
   "source": [
    "ops = SimOps()\n",
    "ops.o2_pid.p = 7\n",
    "ops.o2_pid.i = 50\n",
    "ops.o2_pid.d = 0\n",
    "ops.o2_pid.amax = 100\n",
    "ops.o2_pid.amin = 0\n",
    "ops.o2_pid.beta = 0\n",
    "ops.o2_pid.linearity = 1\n",
    "ops.o2_pid.alpha = -1\n",
    "\n",
    "ops.n2_pid.p = -6\n",
    "ops.n2_pid.i = 90\n",
    "ops.n2_pid.d = 0\n",
    "ops.n2_pid.amax = 90\n",
    "ops.n2_pid.amin = 0\n",
    "ops.n2_pid.beta = 0\n",
    "ops.n2_pid.linearity = 1\n",
    "ops.n2_pid.alpha = -1\n",
    "\n",
    "ops.mfcs.co2_max = .1\n",
    "ops.mfcs.o2_max = 0.5\n",
    "ops.mfcs.n2_max = 2\n",
    "ops.mfcs.air_max = 2\n",
    "\n",
    "ops.plots.xscale = 'auto'\n",
    "ops.plots.xmin = 0\n",
    "ops.plots.xmax = 72\n",
    "ops.plots.xscale_factor = 3600\n",
    "\n",
    "ops.delay = 0\n",
    "ops.end = 20*hours\n",
    "ops.initial_actual_cno = AIR_CNO\n",
    "ops.initial_request_cno = (0.00, 0, 0)\n",
    "ops.initial_pv = 100\n",
    "ops.set_point = 50\n",
    "ops.set_point_deadband = 1\n",
    "ops.k_mult = 1.0\n",
    "ops.k = k_15L\n",
    "ops.c = 0\n",
    "ops.dc = 0\n",
    "ops.d2c = 0\n",
    "ops.mode = \"o2a\"\n",
    "ops.main_gas = 1.0\n",
    "ops.reactor_size = 15\n",
    "ops.reactor_volume = 11.5\n",
    "ops.time_unit = hours\n",
    "ops.max_iters = 3 * days"
   ]
  },
  {
   "cell_type": "code",
   "execution_count": 37,
   "metadata": {
    "collapsed": false
   },
   "outputs": [
    {
     "name": "stdout",
     "output_type": "stream",
     "text": [
      "p            i            settle       osc         \n",
      "7.0          50.0         -0.8         1.0         \n"
     ]
    }
   ],
   "source": [
    "from matplotlib.ticker import MultipleLocator\n",
    "pd = {}\n",
    "sp = 50\n",
    "p = 7\n",
    "i = 50\n",
    "pd[(p,i)] = test3(ops)\n",
    "plot4(pd, sp)\n",
    "for a in (ax, ax2, ax3):\n",
    "    a.grid()\n",
    "    l = MultipleLocator(2)\n",
    "    a.xaxis.set_major_locator(l)"
   ]
  },
  {
   "cell_type": "markdown",
   "metadata": {},
   "source": [
    "### Graph generation for Results report for 100% to 150% ramp"
   ]
  },
  {
   "cell_type": "code",
   "execution_count": 79,
   "metadata": {
    "collapsed": false
   },
   "outputs": [],
   "source": [
    "ops.set_point = 150\n",
    "ops.mfcs.o2_max = 2\n",
    "x, pv, n2, o2 = test3(ops)\n",
    "plt.close()\n",
    "fig = plt.figure()\n",
    "ax = fig.add_subplot(1,1,1)\n",
    "ax2 = ax.twinx()\n",
    "f = FuncFormatter(lambda y, _: \"%.1f%%\"%(y*100))\n",
    "l = MultipleLocator(2)\n",
    "ax.xaxis.set_major_locator(l)\n",
    "ax2.yaxis.set_major_formatter(f)\n",
    "ax.plot(x,pv, \"blue\", ls=\"-\", label=\"PV\")\n",
    "ax2.plot(x,o2, \"green\", ls=\"-\", label=\"O2 Flow\")\n",
    "ax2.plot(x,n2, \"red\", ls=\"-\", label=\"N2 Flow\")\n",
    "ax.xaxis.set_label_text(\"Time(hr)\")\n",
    "ax.yaxis.set_label_text(\"DOPV(%)\")\n",
    "ax2.yaxis.set_label_text(\"Gas Flow Request (%)\")\n",
    "ax.grid()\n",
    "ax.set_ylim(100, 160)\n",
    "ax2.set_ylim(0, .80)\n",
    "fig.text(0.15, 0.96, get_text(ops), transform=ax.transAxes, fontsize=12,\n",
    "        verticalalignment='top')\n",
    "h1, l1 = ax.get_legend_handles_labels()\n",
    "h2, l2 = ax2.get_legend_handles_labels()\n",
    "h1.extend(h2)\n",
    "l1.extend(l2)\n",
    "ax.legend(h1, l1, loc=\"center\", ncol=3, bbox_to_anchor=(0.5, -.15))\n",
    "b = ax.get_position()\n",
    "ax.set_position((b.x0, b.y0+0.05, b.width,b.height*0.9))\n",
    "ax2.set_position((b.x0, b.y0+0.05, b.width,b.height*0.9))"
   ]
  },
  {
   "cell_type": "markdown",
   "metadata": {},
   "source": [
    "### Graph generation for Results report for 100% to 50% ramp"
   ]
  },
  {
   "cell_type": "code",
   "execution_count": 67,
   "metadata": {
    "collapsed": false
   },
   "outputs": [],
   "source": [
    "from matplotlib.ticker import MultipleLocator\n",
    "ops.k_mult = 0.9\n",
    "ops.set_point = 50\n",
    "\n",
    "ops.n2_pid.p = -3\n",
    "x, pv, n2, o2 = test3(ops)\n",
    "plt.close()\n",
    "fig = plt.figure()\n",
    "ax = fig.add_subplot(1,1,1)\n",
    "ax2 = ax.twinx()\n",
    "f = FuncFormatter(lambda y, _: \"%.1f%%\"%(y*100))\n",
    "ax2.yaxis.set_major_formatter(f)\n",
    "l = MultipleLocator(2)\n",
    "ax.xaxis.set_major_locator(l)\n",
    "ax.plot(x,pv, \"blue\", ls=\"-\", label=\"PV\")\n",
    "ax2.plot(x,o2, \"green\", ls=\"-\", label=\"O2 Flow\")\n",
    "ax2.plot(x,n2, \"red\", ls=\"-\", label=\"N2 Flow\")\n",
    "ax.xaxis.set_label_text(\"Time(hr)\")\n",
    "ax.yaxis.set_label_text(\"DOPV(%)\")\n",
    "ax2.yaxis.set_label_text(\"Gas Flow Request (%)\")\n",
    "ax.grid()\n",
    "ax.set_ylim(40, 110)\n",
    "ax2.set_ylim(0, 1.00)\n",
    "fig.text(0.15, 0.96, get_text(ops), transform=ax.transAxes, fontsize=12,\n",
    "        verticalalignment='top')\n",
    "h1, l1 = ax.get_legend_handles_labels()\n",
    "h2, l2 = ax2.get_legend_handles_labels()\n",
    "h1.extend(h2)\n",
    "l1.extend(l2)\n",
    "ax.legend(h1, l1, loc=\"center\", ncol=3, bbox_to_anchor=(0.5, -.15))\n",
    "b = ax.get_position()\n",
    "ax.set_position((b.x0, b.y0+0.05, b.width*0.95,b.height*0.9))\n",
    "ax2.set_position((b.x0, b.y0+0.05, b.width*0.95,b.height*0.9))"
   ]
  },
  {
   "cell_type": "markdown",
   "metadata": {},
   "source": [
    "### Comparison of effect of Main Gas on controller performance"
   ]
  },
  {
   "cell_type": "code",
   "execution_count": 100,
   "metadata": {
    "collapsed": false
   },
   "outputs": [
    {
     "data": {
      "text/plain": [
       "<matplotlib.legend.Legend at 0x27de1a46160>"
      ]
     },
     "execution_count": 100,
     "metadata": {},
     "output_type": "execute_result"
    }
   ],
   "source": [
    "ops.set_point = 150\n",
    "\n",
    "\n",
    "plt.close()\n",
    "\n",
    "fig = plt.figure()\n",
    "ax = fig.add_subplot(1,1,1)\n",
    "\n",
    "l = MultipleLocator(2)\n",
    "ax.xaxis.set_major_locator(l)\n",
    "ax.xaxis.set_label_text(\"Time(hr)\")\n",
    "ax.yaxis.set_label_text(\"DOPV(%)\")\n",
    "ax.grid()\n",
    "ax.set_ylim(100, 160)\n",
    "fig.text(0.15, 0.96, get_text(ops), transform=ax.transAxes, fontsize=12,\n",
    "        verticalalignment='top')\n",
    "for mg in (0.1, 0.5, 1.0, 2.0):\n",
    "    ops.main_gas = mg\n",
    "    x, pv, n2, o2 = test3(ops)\n",
    "    ax.plot(x,pv, label=\"%.1f LPM\"%mg)\n",
    "    \n",
    "    \n",
    "    \n",
    "b = ax.get_position()\n",
    "ax.set_position((b.x0, b.y0+0.05, b.width,b.height*0.9))\n",
    "ax.legend(loc=\"center\", ncol=4, bbox_to_anchor=(0.5, -.15))"
   ]
  },
  {
   "cell_type": "code",
   "execution_count": 109,
   "metadata": {
    "collapsed": false
   },
   "outputs": [
    {
     "data": {
      "text/plain": [
       "<matplotlib.legend.Legend at 0x27de3fdd4a8>"
      ]
     },
     "execution_count": 109,
     "metadata": {},
     "output_type": "execute_result"
    }
   ],
   "source": [
    "ops.set_point = 150\n",
    "\n",
    "plt.close()\n",
    "\n",
    "fig = plt.figure()\n",
    "ax = fig.add_subplot(1,1,1)\n",
    "\n",
    "l = MultipleLocator(2)\n",
    "ax.xaxis.set_major_locator(l)\n",
    "ax.xaxis.set_label_text(\"Time(hr)\")\n",
    "ax.yaxis.set_label_text(\"DOPV(%)\")\n",
    "ax.grid()\n",
    "ax.set_ylim(100, 160)\n",
    "fig.text(0.15, 0.96, get_text(ops), transform=ax.transAxes, fontsize=12,\n",
    "        verticalalignment='top')\n",
    "\n",
    "ops.reactor_volume = 11\n",
    "ops.main_gas = 2\n",
    "x, pv, n2, o2 = test3(ops)\n",
    "ax.plot(x,pv, label=\"2 LPM\")\n",
    "    \n",
    "ops.reactor_volume = 13\n",
    "ops.main_gas = 1\n",
    "x, pv, n2, o2 = test3(ops)\n",
    "ax.plot(x,pv, label=\"1 LPM\"%mg)\n",
    "    \n",
    "b = ax.get_position()\n",
    "ax.set_position((b.x0, b.y0+0.05, b.width,b.height*0.9))\n",
    "ax.legend(loc=\"center\", ncol=4, bbox_to_anchor=(0.5, -.15))"
   ]
  },
  {
   "cell_type": "code",
   "execution_count": 101,
   "metadata": {
    "collapsed": false
   },
   "outputs": [
    {
     "data": {
      "text/plain": [
       "(140, 160)"
      ]
     },
     "execution_count": 101,
     "metadata": {},
     "output_type": "execute_result"
    }
   ],
   "source": [
    "ax.set_ylim(140, 160)"
   ]
  },
  {
   "cell_type": "markdown",
   "metadata": {},
   "source": [
    "# 80L Simulations for Results Report"
   ]
  },
  {
   "cell_type": "code",
   "execution_count": 149,
   "metadata": {
    "collapsed": true
   },
   "outputs": [],
   "source": [
    "ops = SimOps()\n",
    "ops.o2_pid.p = 3\n",
    "ops.o2_pid.i = 70\n",
    "ops.o2_pid.d = 0\n",
    "ops.o2_pid.amax = 100\n",
    "ops.o2_pid.amin = 0\n",
    "ops.o2_pid.beta = 0\n",
    "ops.o2_pid.linearity = 1\n",
    "ops.o2_pid.alpha = -1\n",
    "\n",
    "ops.n2_pid.p = -3\n",
    "ops.n2_pid.i = 70\n",
    "ops.n2_pid.d = 0\n",
    "ops.n2_pid.amax = 100\n",
    "ops.n2_pid.amin = 0\n",
    "ops.n2_pid.beta = 0\n",
    "ops.n2_pid.linearity = 1\n",
    "ops.n2_pid.alpha = -1\n",
    "\n",
    "ops.mfcs.co2_max = 1\n",
    "ops.mfcs.o2_max = 2\n",
    "ops.mfcs.n2_max = 10\n",
    "ops.mfcs.air_max = 10\n",
    "\n",
    "ops.plots.xscale = 'auto'\n",
    "ops.plots.xmin = 0\n",
    "ops.plots.xmax = 72\n",
    "ops.plots.xscale_factor = 3600\n",
    "\n",
    "ops.delay = 0\n",
    "ops.end = 20*hours\n",
    "ops.initial_actual_cno = AIR_CNO\n",
    "ops.initial_request_cno = (0.00, 0, 0)\n",
    "ops.initial_pv = 100\n",
    "ops.set_point = 150\n",
    "ops.set_point_deadband = 1\n",
    "ops.k_mult = 1.1\n",
    "ops.k = k_80L\n",
    "ops.c = 0\n",
    "ops.dc = 0\n",
    "ops.d2c = 0\n",
    "ops.mode = \"o2a\"\n",
    "ops.main_gas = 2.0\n",
    "ops.reactor_size = 80\n",
    "ops.reactor_volume = 57\n",
    "ops.time_unit = hours\n",
    "ops.max_iters = 3 * days"
   ]
  },
  {
   "cell_type": "code",
   "execution_count": 166,
   "metadata": {
    "collapsed": true
   },
   "outputs": [],
   "source": [
    "ops.set_point = 50\n",
    "x, pv, n2, o2 = test3(ops)"
   ]
  },
  {
   "cell_type": "code",
   "execution_count": 174,
   "metadata": {
    "collapsed": false
   },
   "outputs": [],
   "source": [
    "# Plot configuration\n",
    "plt.close()\n",
    "fig = plt.figure()\n",
    "ax = fig.add_subplot(1,1,1)\n",
    "ax2 = ax.twinx()\n",
    "b = ax.get_position()\n",
    "ax.set_position((b.x0, b.y0+0.05, b.width,b.height*0.9))\n",
    "ax2.set_position((b.x0, b.y0+0.05, b.width,b.height*0.9))\n"
   ]
  },
  {
   "cell_type": "code",
   "execution_count": 181,
   "metadata": {
    "collapsed": false
   },
   "outputs": [],
   "source": [
    "ax.clear()\n",
    "ax2.clear()\n",
    "f = FuncFormatter(lambda y, _: \"%.1f%%\"%(y*100))\n",
    "l = MultipleLocator(2)\n",
    "ax.xaxis.set_major_locator(l)\n",
    "ax2.yaxis.set_major_formatter(f)\n",
    "ax.plot(x,pv, \"blue\", ls=\"-\", label=\"PV\")\n",
    "ax2.plot(x,o2, \"green\", ls=\"-\", label=\"O2 Flow\")\n",
    "ax2.plot(x,n2, \"red\", ls=\"-\", label=\"N2 Flow\")\n",
    "ax.xaxis.set_label_text(\"Time(hr)\")\n",
    "ax.yaxis.set_label_text(\"DOPV(%)\")\n",
    "ax2.yaxis.set_label_text(\"Gas Flow Request (%)\")\n",
    "ax.grid()\n",
    "# ax.set_ylim(100, 160)\n",
    "# ax2.set_ylim(0, .80)\n",
    "ax.set_ylim(40, 110)\n",
    "ax2.set_ylim(0, 1.10)\n",
    "for t in fig.texts: t.remove()\n",
    "fig.text(0.15, 0.96, get_text(ops), transform=ax.transAxes, fontsize=12,\n",
    "        verticalalignment='top')\n",
    "h1, l1 = ax.get_legend_handles_labels()\n",
    "h2, l2 = ax2.get_legend_handles_labels()\n",
    "h1.extend(h2)\n",
    "l1.extend(l2)\n",
    "ax.legend(h1, l1, loc=\"center\", ncol=3, bbox_to_anchor=(0.5, -.15))\n",
    "ax.set_position((b.x0, b.y0+0.05, b.width*0.95,b.height*0.9))\n",
    "ax2.set_position((b.x0, b.y0+0.05, b.width*0.95,b.height*0.9))"
   ]
  },
  {
   "cell_type": "code",
   "execution_count": 151,
   "metadata": {
    "collapsed": false
   },
   "outputs": [
    {
     "data": {
      "text/plain": [
       "(145, 155)"
      ]
     },
     "execution_count": 151,
     "metadata": {},
     "output_type": "execute_result"
    }
   ],
   "source": [
    "ax.set_ylim(145, 155)"
   ]
  },
  {
   "cell_type": "code",
   "execution_count": null,
   "metadata": {
    "collapsed": false
   },
   "outputs": [],
   "source": [
    "# Maximum value of c that O2 controller can sustain for a given k\n",
    "ops.k*ops.k_mult*(100/20.95)*100"
   ]
  },
  {
   "cell_type": "code",
   "execution_count": 68,
   "metadata": {
    "collapsed": false,
    "scrolled": true
   },
   "outputs": [],
   "source": [
    "from officelib.xllib import *\n",
    "xl = Excel()"
   ]
  },
  {
   "cell_type": "code",
   "execution_count": 73,
   "metadata": {
    "collapsed": false
   },
   "outputs": [
    {
     "data": {
      "text/plain": [
       "5.161111111047471"
      ]
     },
     "execution_count": 73,
     "metadata": {},
     "output_type": "execute_result"
    }
   ],
   "source": [
    "_"
   ]
  },
  {
   "cell_type": "code",
   "execution_count": 75,
   "metadata": {
    "collapsed": false
   },
   "outputs": [
    {
     "data": {
      "text/plain": [
       "9.6"
      ]
     },
     "execution_count": 75,
     "metadata": {},
     "output_type": "execute_result"
    }
   ],
   "source": [
    "0.16*60"
   ]
  },
  {
   "cell_type": "code",
   "execution_count": null,
   "metadata": {
    "collapsed": false
   },
   "outputs": [],
   "source": [
    "#f.w._current_state['o2_pid'].b"
   ]
  },
  {
   "cell_type": "code",
   "execution_count": null,
   "metadata": {
    "collapsed": true
   },
   "outputs": [],
   "source": []
  },
  {
   "cell_type": "code",
   "execution_count": null,
   "metadata": {
    "collapsed": true
   },
   "outputs": [],
   "source": []
  },
  {
   "cell_type": "code",
   "execution_count": null,
   "metadata": {
    "collapsed": true
   },
   "outputs": [],
   "source": []
  },
  {
   "cell_type": "code",
   "execution_count": null,
   "metadata": {
    "collapsed": true
   },
   "outputs": [],
   "source": []
  }
 ],
 "metadata": {
  "kernelspec": {
   "display_name": "Python 3",
   "language": "python",
   "name": "python3"
  },
  "language_info": {
   "codemirror_mode": {
    "name": "ipython",
    "version": 3
   },
   "file_extension": ".py",
   "mimetype": "text/x-python",
   "name": "python",
   "nbconvert_exporter": "python",
   "pygments_lexer": "ipython3",
   "version": "3.5.2"
  }
 },
 "nbformat": 4,
 "nbformat_minor": 1
}
