{
 "cells": [
  {
   "cell_type": "code",
   "execution_count": 26,
   "metadata": {
    "collapsed": false
   },
   "outputs": [
    {
     "name": "stdout",
     "output_type": "stream",
     "text": [
      "Using matplotlib backend: TkAgg\n"
     ]
    }
   ],
   "source": [
    "import numpy as np\n",
    "%matplotlib\n",
    "import matplotlib.pyplot as plt\n",
    "from hello.pid.lvpid import PIDController\n",
    "from hello.pid.delay import m2s, s2m, h2s, seconds, minutes, hours, days, DelayBuffer, DelaySink\n",
    "from matplotlib.ticker import MultipleLocator, FuncFormatter, FormatStrFormatter\n",
    "from hello.pid.picker import mk_picker"
   ]
  },
  {
   "cell_type": "code",
   "execution_count": 364,
   "metadata": {
    "collapsed": true
   },
   "outputs": [],
   "source": [
    "from decimal import Decimal as D\n",
    "class DelaySink():\n",
    "    def __init__(self, delay, initial, pc_decay=0.95, scalar=1):\n",
    "        assert 0 < pc_decay <= 1, \"don't be a retard\"\n",
    "        self.df1 = self.calc_df(delay, pc_decay)\n",
    "        if delay:\n",
    "            self.sink = initial * (1-self.df1) / self.df1\n",
    "        else:\n",
    "            self.sink = 0\n",
    "        self._delay = delay\n",
    "        self._pc = pc_decay\n",
    "        self.df2 = (scalar - 1)*self.df1\n",
    "        \n",
    "    def calc_df(self, delay, pc):\n",
    "        if not delay:\n",
    "            return 1\n",
    "        # Attempt to be precise by temporarily using decimal.Decimal\n",
    "        one = D(1)\n",
    "        return float(one - (one - D(pc))**(one / D(delay)))\n",
    "        \n",
    "    def set_delay(self, delay):\n",
    "        self.df = self.calc_df(delay, self._pc)\n",
    "        self._delay = delay\n",
    "        \n",
    "    def delay(self, v):\n",
    "        \"\"\" Delay the value v and advance the decay model by 1 second.\n",
    "        Add v to the current sink, then allow the sink to decay\n",
    "        according to the decay factor. \n",
    "        \n",
    "        The total decay is given by sink * (df1 + df2). The value\n",
    "        returned to the system is given by sink * df1. The amount\n",
    "        lost (e.g., due to radiative heat losses) is given by \n",
    "        sink * df2. \n",
    "        \n",
    "        \"\"\"\n",
    "        self.sink += v\n",
    "        d1 = self.sink*self.df1\n",
    "        d2 = self.sink*self.df2\n",
    "        self.sink -= d1 + d2\n",
    "        return d1\n",
    "_F = 1"
   ]
  },
  {
   "cell_type": "code",
   "execution_count": 340,
   "metadata": {
    "collapsed": false
   },
   "outputs": [],
   "source": [
    "class TempProcess():\n",
    "    def __init__(self, delay, initial=20, output=0, env=18.5, g=0.0019254, k=-0.001579031, g_mult=1):\n",
    "        \"\"\"\n",
    "        :param g: gain in units of C/min/%\n",
    "        :param k: decay rate in units of C/min/dT\n",
    "        \"\"\"\n",
    "        self.tdelay = DelayBuffer(delay, initial).cycle\n",
    "        self.g = g / 60\n",
    "        self.k = k / 60\n",
    "        self.env = env\n",
    "        self.pv = initial\n",
    "        \n",
    "    def step(self, op):\n",
    "        op = self.tdelay(op)\n",
    "        dT = self.pv - self.env\n",
    "        decay = self.k * dT\n",
    "        gain = self.g * op\n",
    "        dpv = decay + gain\n",
    "        self.pv += dpv\n",
    "        return self.pv\n",
    "    \n",
    "class TempProcess2():\n",
    "    def __init__(self, delay, initial=20, output=0, env=18.5, g=0.0019254, k=-0.001579031, g_mult=1):\n",
    "        \"\"\"\n",
    "        :param g: gain in units of C/min/%\n",
    "        :param k: decay rate in units of C/min/dT\n",
    "        \"\"\"\n",
    "        self.heatsink = DelaySink(delay, output, 0.95, g_mult)\n",
    "        self.g = g / 60\n",
    "        self.k = k / 60\n",
    "        self.env = env\n",
    "        self.pv = initial\n",
    "        \n",
    "    def step(self, op):\n",
    "        op = self.heatsink.delay(op)\n",
    "        dT = self.pv - self.env\n",
    "        decay = self.k * dT\n",
    "        gain = self.g * op\n",
    "        dpv = decay + gain\n",
    "        self.pv += dpv\n",
    "        return self.pv\n",
    "    \n",
    "class TempProcess3():\n",
    "    def __init__(self, delay, initial=20, output=0, env=18.5, g=0.0019254, k=-0.001579031, g_mult=1):\n",
    "        \"\"\"\n",
    "        :param g: gain in units of C/min/%\n",
    "        :param k: decay rate in units of C/min/dT\n",
    "        \"\"\"\n",
    "        self.heatsink = DelaySink(delay, 0, 0.95, g_mult)\n",
    "        self.g = g / 60\n",
    "        self.k = k / 60\n",
    "        self.env = env\n",
    "        self.pv = initial\n",
    "        \n",
    "    def step(self, op):\n",
    "        dT = self.pv - self.env\n",
    "        decay = self.k * dT\n",
    "        gain = self.g * op\n",
    "        gain = self.heatsink.delay(gain)\n",
    "        dpv = decay + gain\n",
    "        self.pv += dpv\n",
    "        return self.pv"
   ]
  },
  {
   "cell_type": "code",
   "execution_count": 231,
   "metadata": {
    "collapsed": false
   },
   "outputs": [],
   "source": [
    "from pysrc.snippets import OptionCategory\n",
    "\n",
    "offset = 0\n",
    "p = 60\n",
    "i = 35\n",
    "data = []\n",
    "delay=m2s(15)\n",
    "\n",
    "class PIDOps(OptionCategory):\n",
    "    # PID \n",
    "    p = 60\n",
    "    i = 35\n",
    "    d = 0\n",
    "    alpha = -1\n",
    "    linearity = 1\n",
    "    beta = 1\n",
    "    gamma = 0\n",
    "    auto_max = 100\n",
    "    auto_min = 0\n",
    "    deadband = 0\n",
    "    mode = 0\n",
    "    man_request = 0\n",
    "    \n",
    "class TempOps(OptionCategory):    \n",
    "    \n",
    "    pid = PIDOps()\n",
    "    \n",
    "    # plant    \n",
    "    k = -0.00357  # C / min * C\n",
    "    g = 0.002053  # C / min * % \n",
    "    k_mult = 1\n",
    "    g_mult = 1\n",
    "    delay = m2s(5)\n",
    "    \n",
    "    # Simulation\n",
    "    initial_pv = 20\n",
    "    env = 20\n",
    "    initial_output = 0\n",
    "    setpoint = 37\n",
    "    end = 5 * hours\n",
    "    mode = 'o2a'\n",
    "    process = TempProcess2\n",
    "    max_iters = 24 * hours\n",
    "    time_unit = hours\n",
    "    "
   ]
  },
  {
   "cell_type": "code",
   "execution_count": 339,
   "metadata": {
    "collapsed": true
   },
   "outputs": [],
   "source": [
    "from hello.pid.plots import RingBuffer\n",
    "\n",
    "class DataQueue():\n",
    "    \"\"\" Standard data container for a single set of data.\n",
    "    Stores permenant data internally in a RingBuffer.\n",
    "    For performance reasons, store pending values \n",
    "    in a simple python list, and push them to the \n",
    "    permanent buffer only when explicitly requested. \n",
    "    \"\"\"\n",
    "    def __init__(self, pts):\n",
    "        self._values = RingBuffer(pts)\n",
    "        self._pending = []\n",
    "        self.put = self._pending.append\n",
    "        \n",
    "    def __len__(self):\n",
    "        return len(self._values)\n",
    "        \n",
    "    def push(self):\n",
    "        self._values.extend(self._pending)\n",
    "        self._pending.clear()\n",
    "        self.put = self._pending.append\n",
    "        \n",
    "    def get(self):\n",
    "        self.push()\n",
    "        return self._values.get()\n",
    "\n",
    "    def clear(self):\n",
    "        self._values.clear()\n",
    "        self._pending.clear()\n",
    "        \n",
    "    def resize(self, new_sz):\n",
    "        self.push()\n",
    "        nv = RingBuffer(new_sz)\n",
    "        nv.extend(self.get())\n",
    "        self._values = nv\n",
    "\n",
    "        \n",
    "def _mk_pid(pidops, pv, sp, req, mode):\n",
    "    c = PIDController(pgain=pidops.p,               itime=pidops.i,\n",
    "                      dtime=pidops.d,               auto_max=pidops.auto_max,\n",
    "                      auto_min=pidops.auto_min,       \n",
    "                      beta=pidops.beta,\n",
    "                      linearity=pidops.linearity,   alpha=pidops.alpha,\n",
    "                      deadband=pidops.deadband,     sp_high=100, sp_low=0,\n",
    "                      gamma=pidops.gamma,           man_request=pidops.man_request,\n",
    "                      mode=pidops.mode)\n",
    "    if mode == \"o2a\":\n",
    "        c.off_to_auto(pv, sp)\n",
    "    elif mode == \"m2a\":\n",
    "        c.man_to_auto(pv, sp, req)\n",
    "    elif mode == \"a2a\":\n",
    "        c.man_to_auto(pv, pv, req)\n",
    "    else:\n",
    "        raise ValueError(mode)\n",
    "    return c\n",
    "        \n",
    "        \n",
    "class TempSim():\n",
    "    def __init__(self, ops, pts=None):\n",
    "        self.ops = ops\n",
    "        if pts is None:\n",
    "            pts = ops.end\n",
    "        self._mi = self.ops.max_iters\n",
    "        self._data = {}\n",
    "        self._pts = pts\n",
    "        vars = [\n",
    "            \"x\", \"pv\", \"env\", \"hd\",\n",
    "            \"uk\", \"up\", \"ui\", \"ud\",\n",
    "        ]\n",
    "        for v in vars:\n",
    "            self._add_queue(v)\n",
    "            \n",
    "        pv = ops.initial_pv\n",
    "        sp = ops.setpoint\n",
    "        hd = ops.initial_output\n",
    "        \n",
    "        def minmax(v): return min(100, max(v, 0))\n",
    "        hd = minmax(hd)\n",
    "            \n",
    "        self._pid = _mk_pid(ops.pid, pv, sp, hd, ops.mode)\n",
    "            \n",
    "        delay = ops.delay\n",
    "        ProcessClass = ops.process\n",
    "    \n",
    "        self._proc = ProcessClass(delay, pv, hd, ops.env, ops.g*ops.g_mult, ops.k*ops.k_mult, ops.g_mult)\n",
    "        self._time_unit = ops.time_unit\n",
    "            \n",
    "        self._state = s = {}\n",
    "        s['t'] = 0\n",
    "        s['sp'] = sp\n",
    "        s['pv'] = pv\n",
    "        s['k'] = ops.k\n",
    "        s['g'] = ops.g\n",
    "        s['hd'] = hd\n",
    "        s['env'] = ops.env        \n",
    "        \n",
    "    @property\n",
    "    def state(self):\n",
    "        return self._state.copy()\n",
    "        \n",
    "    def _add_queue(self, name):\n",
    "        if name in self._data:\n",
    "            raise ValueError(name)\n",
    "        self._data[name] = DataQueue(self._pts)\n",
    "        setattr(self, \"_\"+name, self._data[name])\n",
    "        \n",
    "    def getq(self, name):\n",
    "        return self._data[name]\n",
    "    \n",
    "    def get(self, name):\n",
    "        return self.getq(name).get()\n",
    "    \n",
    "    def legacy_data(self):\n",
    "        \"\"\" Sloppily return data in legacy format \n",
    "        so I don't have to refactor a bunch of functions. \n",
    "        \"\"\"\n",
    "        return self._x.get(), self._pv.get(), self._hd.get()\n",
    "        \n",
    "    def sim_iters(self, iters=0):\n",
    "        \n",
    "        if iters > self._mi:\n",
    "            iters = self._mi\n",
    "        if iters <= 0:\n",
    "            return\n",
    "            \n",
    "        # Optimize bytecode a bit...\n",
    "        _x = self._x\n",
    "        _pv = self._pv\n",
    "        _env = self._env\n",
    "        _hd = self._hd\n",
    "        _uk = self._uk\n",
    "        _up = self._up\n",
    "        _ui = self._ui\n",
    "        _ud = self._ud\n",
    "\n",
    "        s = self._state\n",
    "        t = s['t']\n",
    "        sp = s['sp']\n",
    "        env = s['env']\n",
    "        pv = s['pv']\n",
    "        \n",
    "        time_unit = self._time_unit\n",
    "        proc = self._proc\n",
    "        pid = self._pid\n",
    "        \n",
    "        while iters > 0:\n",
    "            iters -= 1\n",
    "            t += 1\n",
    "            \n",
    "            op = pid.step(pv, sp)\n",
    "            pv = proc.step(op)\n",
    "\n",
    "            _x.put(t/time_unit)\n",
    "            _pv.put(pv)\n",
    "            _env.put(proc.env)\n",
    "            _hd.put(op)\n",
    "\n",
    "            _uk.put(pid.Uk)\n",
    "            _up.put(pid.Up)\n",
    "            _ui.put(pid.Ui)\n",
    "            _ud.put(pid.Ud)\n",
    "            \n",
    "        s['t'] = t\n",
    "        s['sp'] = sp\n",
    "        s['pv'] = pv\n",
    "        s['hd'] = op\n",
    "        s['env'] = proc.env\n",
    "        \n",
    "    def set_time(self, t):\n",
    "        self._state['t'] = t\n",
    "        \n",
    "    def set_pid_value(self, param, value):\n",
    "        \n",
    "        if param == \"pgain\":\n",
    "            pid.pgain = value\n",
    "        elif param == \"itime\":\n",
    "            pid.itime = m2s(value)\n",
    "        elif param == \"dtime\":\n",
    "            pid.dtime = m2s(value)\n",
    "        elif param == \"beta\":\n",
    "            pid.b = value\n",
    "        elif param == \"mode\":\n",
    "            pid.set_mode(value, pv, sp)\n",
    "        elif param == \"man\":\n",
    "            pid.man_request = float(value)\n",
    "        else:\n",
    "            print(\"Invalid parameter: %r\" % param)\n",
    "    \n",
    "    def set_value(self, name, value):\n",
    "        if name in self._state:\n",
    "            self._state[name] = value\n",
    "            if name == \"env\":\n",
    "                self._proc.env = value\n",
    "        else:\n",
    "            print(\"Error Invalid Value: %r\" % name)\n",
    "\n",
    "    def clear_data(self):\n",
    "        for q in self._data.values():\n",
    "            q.clear()\n",
    "        self._state['t'] = 0\n",
    "\n",
    "    def resize(self, n):\n",
    "        for q in self._data.values():\n",
    "            q.resize(n)"
   ]
  },
  {
   "cell_type": "code",
   "execution_count": 90,
   "metadata": {
    "collapsed": true
   },
   "outputs": [],
   "source": [
    "def declare_list(name):\n",
    "    if name not in globals():\n",
    "        globals()[name] = []"
   ]
  },
  {
   "cell_type": "markdown",
   "metadata": {},
   "source": [
    "# Test 1: Initial PID Exploration for 3L"
   ]
  },
  {
   "cell_type": "code",
   "execution_count": 91,
   "metadata": {
    "collapsed": true
   },
   "outputs": [],
   "source": [
    "import sys\n",
    "_g_axes = []\n",
    "def mk_axes():\n",
    "    global _g_axes\n",
    "    _g_axes = []\n",
    "    i = 1\n",
    "    while True:\n",
    "        try:\n",
    "            ax = globals()['ax' + str(i)]\n",
    "        except KeyError:\n",
    "            break\n",
    "        else:\n",
    "            _g_axes.append(ax)\n",
    "        i += 1\n",
    "\n",
    "def axes():\n",
    "    return _g_axes"
   ]
  },
  {
   "cell_type": "code",
   "execution_count": 376,
   "metadata": {
    "collapsed": true
   },
   "outputs": [],
   "source": [
    "def setup1(new=False):\n",
    "    global fig, ax1, ax2, ax3, ax4, ax5, ax6\n",
    "    \n",
    "    if not plt.get_fignums() or new:\n",
    "        fig = plt.figure()\n",
    "        ax1 = fig.add_subplot(2,1,1)\n",
    "        ax2 = fig.add_subplot(2,1,2)\n",
    "        mk_axes()\n",
    "        for a in ax1, ax2:\n",
    "            b = a.get_position()\n",
    "            a.set_position([b.x0, b.y0, b.width*0.8, b.height])\n",
    "            a.grid()\n",
    "    else:\n",
    "        for a in axes():\n",
    "            a.clear()\n",
    "            a.grid()\n",
    "        for t in fig.texts:\n",
    "            t.remove()\n",
    "    \n",
    "    global colors, color\n",
    "    colors = [\n",
    "        \"blue\",\n",
    "        \"red\",\n",
    "        \"green\",\n",
    "        \"cyan\",\n",
    "        \"purple\",\n",
    "        \"orange\",\n",
    "        \"black\"\n",
    "    ]\n",
    "\n",
    "    import itertools\n",
    "    color = itertools.cycle(colors).__next__"
   ]
  },
  {
   "cell_type": "code",
   "execution_count": 427,
   "metadata": {
    "collapsed": true
   },
   "outputs": [],
   "source": [
    "def temp_sim1(ops):\n",
    "    sim = TempSim(ops, ops.end)\n",
    "    sim.sim_iters(ops.end)\n",
    "    x = sim.get('x')\n",
    "    pv = sim.get('pv')\n",
    "    hd = sim.get('hd')\n",
    "    return x, pv, hd\n",
    "\n",
    "def _p1(ax, x, y, color, label, ylabel=None):\n",
    "    ax.plot(x,y, color=color, label=label)\n",
    "    if ylabel:\n",
    "        ax.set_ylabel(ylabel)\n",
    "\n",
    "def plot1(x, pv, hd, label=\"\"):\n",
    "    c = color()\n",
    "    _p1(ax1, x, pv, c, label, \"Temp (C)\")\n",
    "    _p1(ax2, x, hd, c, label, \"Heater Duty (%)\")\n",
    "    \n",
    "    ax1.axhline(y=ops.setpoint, ls=\"--\", color=\"black\")\n",
    "    \n",
    "    ax1.yaxis.set_major_formatter(FormatStrFormatter(\"%.2f\"))\n",
    "    ax2.yaxis.set_major_formatter(FormatStrFormatter(\"%d\"))\n",
    "    \n",
    "    for a in axes():\n",
    "        a.xaxis.set_major_locator(MultipleLocator(30))\n",
    "        a.legend(bbox_to_anchor=(0.99, 1.06), loc=\"upper left\")\n",
    "    \n",
    "    fig.canvas.flush_events()\n",
    "    fig.canvas.draw()\n",
    "    \n",
    "def run1(ops, label=\"\"):\n",
    "    global x, pv, hd\n",
    "    x,pv,hd = temp_sim1(ops)\n",
    "    plot1(x,pv, hd, label)\n",
    "\n",
    "def finish1():\n",
    "    for a in axes():\n",
    "        if a.legend_:\n",
    "            mk_picker(fig, a)\n",
    "    "
   ]
  },
  {
   "cell_type": "code",
   "execution_count": 388,
   "metadata": {
    "collapsed": false
   },
   "outputs": [],
   "source": [
    "ops = TempOps()\n",
    "\n",
    "# PID\n",
    "ops.pid.p = 40\n",
    "ops.pid.i = 6\n",
    "ops.pid.d = 0\n",
    "ops.pid.alpha = -1\n",
    "ops.pid.linearity = 1\n",
    "ops.pid.beta = 0\n",
    "ops.pid.gamma = 0\n",
    "ops.pid.auto_max = 50\n",
    "ops.pid.auto_min = 0\n",
    "ops.pid.deadband = 0\n",
    "ops.pid.mode = 0\n",
    "ops.pid.man_request = 0\n",
    "\n",
    "# plant    \n",
    "ops.k = -0.004209176  # C / min * C\n",
    "ops.g = 0.008794422   # C / min * % \n",
    "ops.delay = m2s(5)\n",
    "\n",
    "# Simulation\n",
    "ops.initial_pv = 22.9\n",
    "ops.env = 22.9\n",
    "ops.initial_output = 0\n",
    "ops.setpoint = 37\n",
    "ops.end = 2 * hours\n",
    "ops.mode = 'o2a'\n",
    "ops.process = TempProcess\n",
    "ops.max_iters = 24 * hours\n",
    "ops.time_unit = minutes"
   ]
  },
  {
   "cell_type": "code",
   "execution_count": 118,
   "metadata": {
    "collapsed": false
   },
   "outputs": [],
   "source": [
    "setup1()\n",
    "for d in (3, 5, 10):\n",
    "    ops.delay = d*minutes\n",
    "    run1(ops, \"D: %d\"%d)\n",
    "finish1()"
   ]
  },
  {
   "cell_type": "markdown",
   "metadata": {},
   "source": [
    "# Test 2: Comparison of real vs test data"
   ]
  },
  {
   "cell_type": "code",
   "execution_count": 284,
   "metadata": {
    "collapsed": false
   },
   "outputs": [],
   "source": [
    "def setup2(new=False):\n",
    "    setup1(new)\n",
    "    _p1(ax1, pvx, pvy, \"blue\", \"Real\", \"Temp (C)\")\n",
    "    _p1(ax2, hdx, hdy, \"blue\", \"Real\", \"Heat Duty (%)\")\n",
    "\n",
    "def plot2(x, pv, hd, label=\"\"):\n",
    "    c = \"blue\"\n",
    "    while c == \"blue\":\n",
    "        c = color()\n",
    "    _p1(ax1, x, pv, c, label if label else \"Sim\")\n",
    "    _p1(ax2, x, hd, c, label if label else \"Sim\")\n",
    "    \n",
    "    ax1.axhline(y=ops.setpoint, ls=\"--\", color=\"black\")\n",
    "    ax1.yaxis.set_major_formatter(FormatStrFormatter(\"%.2f\"))\n",
    "    ax2.yaxis.set_major_formatter(FormatStrFormatter(\"%d\"))\n",
    "    \n",
    "    for a in ax1, ax2:\n",
    "        a.xaxis.set_major_locator(MultipleLocator(30))\n",
    "        a.legend(bbox_to_anchor=(0.99, 1.06), loc=\"upper left\")\n",
    "        a.set_xlim(0, 120)\n",
    "        \n",
    "def run2(ops, label=\"\"):\n",
    "    global x, pv, hd\n",
    "    x,pv,hd = temp_sim1(ops)\n",
    "    plot2(x, pv, hd, label)\n",
    "    \n",
    "finish2 = finish1"
   ]
  },
  {
   "cell_type": "markdown",
   "metadata": {},
   "source": [
    "# Test 3: PID Tuning with 3L Model"
   ]
  },
  {
   "cell_type": "code",
   "execution_count": 410,
   "metadata": {
    "collapsed": true
   },
   "outputs": [],
   "source": [
    "ops = TempOps()\n",
    "\n",
    "# PID\n",
    "ops.pid.p = 40\n",
    "ops.pid.i = 6\n",
    "ops.pid.d = 0\n",
    "ops.pid.alpha = -1\n",
    "ops.pid.linearity = 1\n",
    "ops.pid.beta = 0\n",
    "ops.pid.gamma = 0\n",
    "ops.pid.auto_max = 50\n",
    "ops.pid.auto_min = 0\n",
    "ops.pid.deadband = 0\n",
    "ops.pid.mode = 0\n",
    "ops.pid.man_request = 0\n",
    "\n",
    "# plant    \n",
    "ops.k = -0.004209176  # C / min * C\n",
    "ops.g = 0.008794422   # C / min * % \n",
    "ops.delay = m2s(15)\n",
    "\n",
    "# Simulation\n",
    "ops.initial_pv = 22.9\n",
    "ops.env = 22.9\n",
    "ops.initial_output = 0\n",
    "ops.setpoint = 37\n",
    "ops.end = 2 * hours\n",
    "ops.mode = 'o2a'\n",
    "ops.process = TempProcess2\n",
    "ops.max_iters = 24 * hours\n",
    "ops.time_unit = minutes\n",
    "ops.g_mult = 1.2\n",
    "ops.k_mult = 0.5"
   ]
  },
  {
   "cell_type": "code",
   "execution_count": 431,
   "metadata": {
    "collapsed": true
   },
   "outputs": [],
   "source": [
    "setup3=setup1\n",
    "plot3=plot1\n",
    "def run3(ops, lbl):\n",
    "    global x,pv,hd\n",
    "    x,pv,hd = temp_sim1(ops)\n",
    "    plot3(x,pv,hd,lbl)\n",
    "def plot3(*args):\n",
    "    plot1(*args)\n",
    "    ax1.set_ylim(36, 38)\n",
    "finish3=finish1    "
   ]
  },
  {
   "cell_type": "code",
   "execution_count": 442,
   "metadata": {
    "collapsed": false
   },
   "outputs": [],
   "source": [
    "setup3()\n",
    "for i in (6, 8, 9):\n",
    "    ops.pid.p = 40\n",
    "    ops.pid.i = i\n",
    "    run3(ops, \"i:%d\"%i)\n",
    "finish3()"
   ]
  },
  {
   "cell_type": "code",
   "execution_count": 449,
   "metadata": {
    "collapsed": false
   },
   "outputs": [],
   "source": [
    "setup3()\n",
    "for p in (10, 20, 14):\n",
    "    ops.pid.p = p\n",
    "    ops.pid.i = 20\n",
    "    run3(ops, \"P:%d\"%p)\n",
    "finish3()"
   ]
  },
  {
   "cell_type": "code",
   "execution_count": 450,
   "metadata": {
    "collapsed": true
   },
   "outputs": [],
   "source": [
    "setup3()\n",
    "ops.pid.p = 14\n",
    "ops.pid.i = 20\n",
    "for env in 16, 20, 24:\n",
    "    ops.env = env\n",
    "    run3(ops, \"E:%d\"%env)\n",
    "finish3()\n",
    "ops.env=22.9"
   ]
  },
  {
   "cell_type": "markdown",
   "metadata": {},
   "source": [
    "# Testing with Excel data for side-by-side comparison"
   ]
  },
  {
   "cell_type": "code",
   "execution_count": 108,
   "metadata": {
    "collapsed": true
   },
   "outputs": [],
   "source": [
    "from officelib.xllib import *\n",
    "xl = Excel()\n",
    "wb = xl.ActiveWorkbook\n",
    "cells = wb.ActiveSheet.Cells\n",
    "cell_range = cells.Range"
   ]
  },
  {
   "cell_type": "code",
   "execution_count": 192,
   "metadata": {
    "collapsed": true
   },
   "outputs": [],
   "source": [
    "def paste():\n",
    "    x1 = map(float, x)\n",
    "    pv1 = map(float, pv)\n",
    "    hd1 = map(float, hd)\n",
    "    data = list(zip(x1, pv1, hd1))\n",
    "    c1 = cell_range(\"EG2\")\n",
    "    c2 = c1.Offset(len(data), len(data[0]))\n",
    "    cell_range(c1, c2).Value = data"
   ]
  },
  {
   "cell_type": "code",
   "execution_count": 402,
   "metadata": {
    "collapsed": false
   },
   "outputs": [],
   "source": [
    "base_g = .397637759 * 1\n",
    "amax = 50\n",
    "base_k = -0.004209176\n",
    "\n",
    "env = 22.9\n",
    "dt = (37+22)/2 - env\n",
    "ops.g = (base_g - dt * base_k) / amax\n",
    "ops.k = base_k\n",
    "ops.delay = 18 * minutes\n",
    "ops.process = TempProcess2\n",
    "\n",
    "setup1()\n",
    "_F = 0\n",
    "run1(ops, \"test\")\n",
    "_F = .5\n",
    "run1(ops, \"test2\")\n",
    "paste()"
   ]
  },
  {
   "cell_type": "code",
   "execution_count": 399,
   "metadata": {
    "collapsed": true
   },
   "outputs": [],
   "source": [
    "def get(r):\n",
    "    return [np.array(d) for d in list(zip(*cell_range(r).Value))]\n",
    "pvx, pvy = get(\"DY2:DZ998\")\n",
    "hdx, hdy = get(\"DO2:DP930\")"
   ]
  },
  {
   "cell_type": "code",
   "execution_count": 390,
   "metadata": {
    "collapsed": false
   },
   "outputs": [],
   "source": [
    "base_g = .397637759 * 1\n",
    "amax = 50\n",
    "base_k = -0.004209176\n",
    "\n",
    "env = 22.9\n",
    "dt = (37+22)/2 - env\n",
    "ops.g = (base_g - dt * base_k) / amax\n",
    "ops.k = base_k\n",
    "ops.delay = 18 * minutes\n",
    "ops.process = TempProcess2\n",
    "\n",
    "setup2()\n",
    "ops.g_mult = 1.4\n",
    "_F = 1/2.5\n",
    "run2(ops)\n",
    "paste()"
   ]
  },
  {
   "cell_type": "code",
   "execution_count": 398,
   "metadata": {
    "collapsed": false
   },
   "outputs": [],
   "source": [
    "setup2()\n",
    "ops.env=22.9\n",
    "ops.delay = 15*minutes\n",
    "ops.process = TempProcess2\n",
    "for m in 0.2, 0.4, 0.6:\n",
    "    ops.g_mult = 1 + m\n",
    "    _F = m\n",
    "    run2(ops, \"M:%.2f\"%(m))\n",
    "finish2()"
   ]
  },
  {
   "cell_type": "code",
   "execution_count": 384,
   "metadata": {
    "collapsed": false
   },
   "outputs": [],
   "source": [
    "setup2()\n",
    "d = 20\n",
    "ops.delay = 18*minutes\n",
    "ops.g_mult = 1.5\n",
    "_F = 0.5\n",
    "ops.process = TempProcess2\n",
    "run2(ops, \"P1\")\n",
    "ops.process = TempProcess3\n",
    "run2(ops, \"P2\")\n",
    "finish2()"
   ]
  },
  {
   "cell_type": "code",
   "execution_count": 409,
   "metadata": {
    "collapsed": true
   },
   "outputs": [],
   "source": [
    "setup2()\n",
    "ops.env = 22.9\n",
    "ops.delay=15*minutes\n",
    "ops.process = TempProcess2\n",
    "ops.k_mult = 0.5\n",
    "ops.g_mult = 1.2\n",
    "run2(ops, \"test\")\n",
    "finish2()"
   ]
  },
  {
   "cell_type": "code",
   "execution_count": 404,
   "metadata": {
    "collapsed": false
   },
   "outputs": [
    {
     "data": {
      "text/plain": [
       "pid: <More Options...>\n",
       "k: -0.004209176\n",
       "g: 0.008508366412\n",
       "k_mult: 1\n",
       "g_mult: 1.2\n",
       "delay: 900\n",
       "initial_pv: 22.9\n",
       "env: 22.9\n",
       "initial_output: 0\n",
       "setpoint: 37\n",
       "end: 7200\n",
       "mode: o2a\n",
       "process: <class '__main__.TempProcess2'>\n",
       "max_iters: 86400\n",
       "time_unit: 60"
      ]
     },
     "execution_count": 404,
     "metadata": {},
     "output_type": "execute_result"
    }
   ],
   "source": [
    "ops"
   ]
  },
  {
   "cell_type": "code",
   "execution_count": null,
   "metadata": {
    "collapsed": true
   },
   "outputs": [],
   "source": []
  }
 ],
 "metadata": {
  "kernelspec": {
   "display_name": "Python 3",
   "language": "python",
   "name": "python3"
  },
  "language_info": {
   "codemirror_mode": {
    "name": "ipython",
    "version": 3
   },
   "file_extension": ".py",
   "mimetype": "text/x-python",
   "name": "python",
   "nbconvert_exporter": "python",
   "pygments_lexer": "ipython3",
   "version": "3.5.2"
  }
 },
 "nbformat": 4,
 "nbformat_minor": 1
}
