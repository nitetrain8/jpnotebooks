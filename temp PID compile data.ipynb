{
 "cells": [
  {
   "cell_type": "code",
   "execution_count": 1,
   "metadata": {
    "collapsed": true
   },
   "outputs": [],
   "source": [
    "from officelib.xllib import *\n",
    "from officelib.const import xlDown, xlToRight, xlA1\n",
    "from hello.pid.ag_pid.agpid import *\n",
    "import types"
   ]
  },
  {
   "cell_type": "code",
   "execution_count": 2,
   "metadata": {
    "collapsed": false
   },
   "outputs": [],
   "source": [
    "# import subprocess\n",
    "# # subprocess.call(\"tskill.exe excel\")\n",
    "# xl = Excel()\n",
    "# for rf in xl.RecentFiles:\n",
    "#     if rf.Name.endswith(\"80L Test Compiled Data.xlsb\"):\n",
    "#         wb = rf.Open()\n",
    "#         break\n",
    "# else:\n",
    "#     raise ValueError(\"Not Found\")\n",
    "# ws = wb.Worksheets(\"Sheet1\")\n",
    "# cells = ws.Cells"
   ]
  },
  {
   "cell_type": "code",
   "execution_count": 12,
   "metadata": {
    "collapsed": true
   },
   "outputs": [],
   "source": [
    "xl = Excel()\n",
    "wb = xl.Workbooks.Add()\n",
    "ws = wb.Worksheets(1)\n",
    "cells = ws.Cells"
   ]
  },
  {
   "cell_type": "code",
   "execution_count": 13,
   "metadata": {
    "collapsed": false,
    "scrolled": false
   },
   "outputs": [
    {
     "name": "stdout",
     "output_type": "stream",
     "text": [
      "Exporting data for OffToAuto Start:24.0 SP:37.0\n",
      "Exporting data for AutoToAuto Start:37.0 SP:35.0\n",
      "Exporting data for AutoToAuto Start:35.0 SP:37.0\n",
      "02/23/17 11:57:51 INFO <plotall>: Copying test data to compiled_data.xlsx\n",
      "02/23/17 11:57:51 INFO <plotall>: Copying data for test 1 of 3\n",
      "02/23/17 11:57:52 INFO <plotall>: Copying data for test 2 of 3\n",
      "02/23/17 11:57:52 INFO <plotall>: Copying data for test 3 of 3\n",
      "02/23/17 11:57:52 INFO <plotall>: Done copying data for 3 tests.\n",
      "02/23/17 11:57:52 INFO <_new_chart>: Initializing chart\n",
      "02/23/17 11:57:52 INFO <_new_chart>: Initializing chart\n",
      "02/23/17 11:57:53 INFO <chartbypid>: Formatting Chart: P: 70.0 I: 20.0 D:0.0 O2A Beta 0.0\n",
      "02/23/17 11:57:53 INFO <chartbypid>: Formatting Chart: P: 70.0 I: 20.0 D:0.0 A2A Beta 0.0\n",
      "Done\n"
     ]
    }
   ],
   "source": [
    "def make_summary(p, i, d, start_mode, st, sp, vol, beta, alpha, gamma, linearity, new_name):\n",
    "    paste_cell.Offset(1, 1).Value = n\n",
    "    paste_cell.Offset(1, 2).Value = p\n",
    "    paste_cell.Offset(1, 3).Value = i\n",
    "    paste_cell.Offset(1, 4).Value = d\n",
    "    paste_cell.Offset(1, 5).Value = start_mode\n",
    "    paste_cell.Offset(1, 6).Value = st\n",
    "    paste_cell.Offset(1, 7).Value = sp\n",
    "    paste_cell.Offset(1, 8).Value = vol\n",
    "    paste_cell.Offset(1, 9).Value = beta\n",
    "    paste_cell.Offset(1, 10).Value = alpha\n",
    "    paste_cell.Offset(1, 11).Value = gamma\n",
    "    paste_cell.Offset(1, 12).Value = linearity\n",
    "    paste_cell.Offset(1, 13).Value = new_name\n",
    "\n",
    "    \n",
    "def get_value(r, c, f=\"var\"):\n",
    "    v = cell.Offset(r, c).Value\n",
    "    if v is None:\n",
    "        raise ValueError(\"No value for %s\" % f)\n",
    "    return v\n",
    "\n",
    "first = cells.Range(\"A1\")\n",
    "cell = first\n",
    "ws2 = wb.Worksheets(\"Sheet2\")\n",
    "ws2.UsedRange.Clear()\n",
    "paste_cell = ws2.Cells.Range(\"B3\")\n",
    "header = ws2.Cells.Range(paste_cell.Offset(0, 1), paste_cell.Offset(0, 9))\n",
    "header.Value = [(\"Test #\", \"PGain\", \"Itime\", \"DTime\", \"Start Mode\", \n",
    "                 \"StartPV\", \"SP\", \"Volume\", \"Beta\", \"Alpha\", \"Gamma\", \n",
    "                 \"Linearity\", \"Name\")]\n",
    "n = 1\n",
    "runner = PIDRunner((), \"compiled_data.xlsx\")\n",
    "while True:\n",
    "    v = cell.Value\n",
    "    if not v:\n",
    "        break\n",
    "    name, start, setpoint = v.split()\n",
    "    _, st = start.split(\":\")\n",
    "    _, sp = setpoint.split(\":\")\n",
    "    print(\"Exporting data for\", name, start, setpoint)\n",
    "    p = get_value(2, 2, \"pgain\")\n",
    "    i = get_value(3, 2, \"itime\")\n",
    "    d = get_value(4, 2, \"dtime\")\n",
    "    # vol = get_value(4, 4, \"volume\")\n",
    "    vol = 12\n",
    "    beta = get_value(4, 4, 'beta')\n",
    "    alpha = get_value(5, 2, \"alpha\")\n",
    "    gamma = get_value(5, 4, \"gamma\")\n",
    "    linearity = get_value(6, 2, \"linearity\")\n",
    "    new_name = \" \".join(v.split()[1:]) + \" Vol:%d\" % vol + \" Beta:%.1f\"%beta\n",
    "    #new_name = \"Test #%d\"%n\n",
    "    start_mode, end_mode = name.split(\"To\")\n",
    "    make_summary(p, i, d, start_mode, st, sp, vol, beta, alpha, gamma, linearity, new_name)\n",
    "    paste_cell = paste_cell.Offset(2, 1)\n",
    "    \n",
    "    if name == \"AutoToAuto\":\n",
    "        klass = TempAutoToAutoTest\n",
    "    elif name == \"OffToAuto\":\n",
    "        klass = TempOffToAutoTest\n",
    "    elif name == \"ManToAuto\":\n",
    "        klass = TempManToAutoTest\n",
    "    elif name == \"ManToMan\":\n",
    "        klass = TempManToManTest\n",
    "    else:\n",
    "        raise ValueError(name)\n",
    "    pi = PIDInfo(p=p, i=i, d=d, alpha=alpha, gamma=gamma, linearity=linearity, beta=beta)\n",
    "    t = klass(pi, st, sp, \"\", None, new_name)\n",
    "    \n",
    "    def sort(self):\n",
    "        other = \"%s Beta %.1f\" % (self.SHORT_NAME, self.pid_info.beta)\n",
    "        return self.pid_info.p, self.pid_info.i, self.pid_info.d, other\n",
    "    \n",
    "    t.get_chart_key = types.MethodType(sort, t)\n",
    "    \n",
    "    tl_data = cell.Offset(8, 1)\n",
    "    br_data = tl_data.End(xlDown).End(xlToRight)\n",
    "    t.data = cells.Range(tl_data, br_data).Value\n",
    "    t.metadata = {'Volume': vol}\n",
    "    \n",
    "    runner.add_test(t)\n",
    "    n += 1\n",
    "    cell = cell.Offset(1, 6)\n",
    "    \n",
    "runner._init_xl()\n",
    "runner.add_to_mru = False\n",
    "with screen_lock(runner._xl):\n",
    "    runner.plotall(30)\n",
    "    runner.chartbypid()\n",
    "runner._wb.Save()\n",
    "print(\"Done\")"
   ]
  },
  {
   "cell_type": "code",
   "execution_count": null,
   "metadata": {
    "collapsed": true
   },
   "outputs": [],
   "source": []
  },
  {
   "cell_type": "code",
   "execution_count": null,
   "metadata": {
    "collapsed": true
   },
   "outputs": [],
   "source": []
  },
  {
   "cell_type": "code",
   "execution_count": null,
   "metadata": {
    "collapsed": true
   },
   "outputs": [],
   "source": []
  }
 ],
 "metadata": {
  "kernelspec": {
   "display_name": "Python 3",
   "language": "python",
   "name": "python3"
  },
  "language_info": {
   "codemirror_mode": {
    "name": "ipython",
    "version": 3
   },
   "file_extension": ".py",
   "mimetype": "text/x-python",
   "name": "python",
   "nbconvert_exporter": "python",
   "pygments_lexer": "ipython3",
   "version": "3.5.2"
  }
 },
 "nbformat": 4,
 "nbformat_minor": 1
}
