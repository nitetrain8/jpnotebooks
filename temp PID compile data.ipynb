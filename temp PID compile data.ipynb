{
 "cells": [
  {
   "cell_type": "code",
   "execution_count": 9,
   "metadata": {
    "collapsed": true
   },
   "outputs": [],
   "source": [
    "from officelib.xllib import *\n",
    "from officelib.const import xlDown, xlToRight, xlA1\n",
    "from hello.pid.ag_pid.agpid import *"
   ]
  },
  {
   "cell_type": "code",
   "execution_count": 10,
   "metadata": {
    "collapsed": false
   },
   "outputs": [
    {
     "data": {
      "text/plain": [
       "0"
      ]
     },
     "execution_count": 10,
     "metadata": {},
     "output_type": "execute_result"
    }
   ],
   "source": [
    "import subprocess\n",
    "subprocess.call(\"tskill.exe excel\")"
   ]
  },
  {
   "cell_type": "code",
   "execution_count": 11,
   "metadata": {
    "collapsed": false
   },
   "outputs": [],
   "source": [
    "xl = Excel()\n",
    "for rf in xl.RecentFiles:\n",
    "    if rf.Name.endswith(\"80L Test Compiled Data.xlsx\"):\n",
    "        wb = rf.Open()\n",
    "        break\n",
    "else:\n",
    "    raise ValueError(\"Not Found\")\n",
    "\n",
    "xl.Selection.Value\n",
    "\n",
    "ws = wb.Worksheets(\"Sheet1\")\n",
    "\n",
    "cells = ws.Cells\n"
   ]
  },
  {
   "cell_type": "code",
   "execution_count": 12,
   "metadata": {
    "collapsed": false,
    "scrolled": false
   },
   "outputs": [
    {
     "name": "stdout",
     "output_type": "stream",
     "text": [
      "Exporting data for AutoToAuto Start:37.0 SP:35.8\n",
      "Exporting data for AutoToAuto Start:35.8 SP:37.0\n",
      "Exporting data for AutoToAuto Start:37.0 SP:35.8\n",
      "Exporting data for AutoToAuto Start:35.8 SP:37.0\n",
      "Exporting data for OffToAuto Start:26.0 SP:37.0\n",
      "Exporting data for AutoToAuto Start:37.0 SP:35.0\n",
      "Exporting data for AutoToAuto Start:35.0 SP:37.0\n",
      "Exporting data for OffToAuto Start:23 SP:37.0\n",
      "Exporting data for AutoToAuto Start:37.0 SP:39.0\n",
      "Exporting data for AutoToAuto Start:39.0 SP:37.0\n",
      "Exporting data for OffToAuto Start:26 SP:37\n",
      "Exporting data for AutoToAuto Start:37.0 SP:39.0\n",
      "Exporting data for AutoToAuto Start:39.0 SP:37.0\n",
      "Exporting data for AutoToAuto Start:37.0 SP:35.8\n",
      "Exporting data for AutoToAuto Start:35.8 SP:37.0\n",
      "Exporting data for AutoToAuto Start:37.0 SP:35.0\n",
      "Exporting data for AutoToAuto Start:35.0 SP:37.0\n",
      "Exporting data for ManToAuto Start:37.0 SP:35.8\n",
      "Exporting data for ManToAuto Start:35.8 SP:37.0\n",
      "Exporting data for ManToAuto Start:37.0 SP:35.0\n",
      "Exporting data for ManToAuto Start:35.0 SP:37.0\n",
      "01/19/17 12:14:04 INFO <plotall>: Copying test data to compiled_data.xlsx\n",
      "01/19/17 12:14:04 INFO <plotall>: Copying data for test 1 of 21\n",
      "01/19/17 12:14:04 INFO <plotall>: Copying data for test 2 of 21\n",
      "01/19/17 12:14:05 INFO <plotall>: Copying data for test 3 of 21\n",
      "01/19/17 12:14:05 INFO <plotall>: Copying data for test 4 of 21\n",
      "01/19/17 12:14:05 INFO <plotall>: Copying data for test 5 of 21\n",
      "01/19/17 12:14:05 INFO <plotall>: Copying data for test 6 of 21\n",
      "01/19/17 12:14:05 INFO <plotall>: Copying data for test 7 of 21\n",
      "01/19/17 12:14:05 INFO <plotall>: Copying data for test 8 of 21\n",
      "01/19/17 12:14:05 INFO <plotall>: Copying data for test 9 of 21\n",
      "01/19/17 12:14:05 INFO <plotall>: Copying data for test 10 of 21\n",
      "01/19/17 12:14:05 INFO <plotall>: Copying data for test 11 of 21\n",
      "01/19/17 12:14:05 INFO <plotall>: Copying data for test 12 of 21\n",
      "01/19/17 12:14:05 INFO <plotall>: Copying data for test 13 of 21\n",
      "01/19/17 12:14:05 INFO <plotall>: Copying data for test 14 of 21\n",
      "01/19/17 12:14:06 INFO <plotall>: Copying data for test 15 of 21\n",
      "01/19/17 12:14:06 INFO <plotall>: Copying data for test 16 of 21\n",
      "01/19/17 12:14:06 INFO <plotall>: Copying data for test 17 of 21\n",
      "01/19/17 12:14:06 INFO <plotall>: Copying data for test 18 of 21\n",
      "01/19/17 12:14:06 INFO <plotall>: Copying data for test 19 of 21\n",
      "01/19/17 12:14:06 INFO <plotall>: Copying data for test 20 of 21\n",
      "01/19/17 12:14:06 INFO <plotall>: Copying data for test 21 of 21\n",
      "01/19/17 12:14:06 INFO <plotall>: Done copying data for 21 tests.\n",
      "01/19/17 12:14:06 INFO <_new_chart>: Initializing chart\n",
      "01/19/17 12:14:06 INFO <_new_chart>: Initializing chart\n",
      "01/19/17 12:14:06 INFO <_new_chart>: Initializing chart\n",
      "01/19/17 12:14:06 INFO <_new_chart>: Initializing chart\n",
      "01/19/17 12:14:06 INFO <_new_chart>: Initializing chart\n",
      "01/19/17 12:14:07 INFO <chartbypid>: Formatting Chart: P: 60.0 I: 35.0 D:0.0 A2A\n",
      "01/19/17 12:14:08 INFO <chartbypid>: Formatting Chart: P: 60.0 I: 35.0 D:0.0 O2A\n",
      "01/19/17 12:14:09 INFO <chartbypid>: Formatting Chart: P: 60.0 I: 19.0 D:0.0 O2A\n",
      "01/19/17 12:14:09 INFO <chartbypid>: Formatting Chart: P: 60.0 I: 19.0 D:0.0 A2A\n",
      "01/19/17 12:14:10 INFO <chartbypid>: Formatting Chart: P: 60.0 I: 19.0 D:0.0 M2A\n",
      "Done\n"
     ]
    }
   ],
   "source": [
    "def make_summary(p, i, d, start_mode, st, sp, vol, new_name):\n",
    "    paste_cell.Offset(1, 1).Value = n\n",
    "    paste_cell.Offset(1, 2).Value = p\n",
    "    paste_cell.Offset(1, 3).Value = i\n",
    "    paste_cell.Offset(1, 4).Value = d\n",
    "    paste_cell.Offset(1, 5).Value = start_mode\n",
    "    paste_cell.Offset(1, 6).Value = st\n",
    "    paste_cell.Offset(1, 7).Value = sp\n",
    "    paste_cell.Offset(1, 8).Value = vol\n",
    "    paste_cell.Offset(1, 9).Value = new_name\n",
    "\n",
    "    \n",
    "def get_value(r, c, f=\"var\"):\n",
    "    v = cell.Offset(r, c).Value\n",
    "    if v is None:\n",
    "        raise ValueError(\"No value for %s\" % f)\n",
    "    return v\n",
    "\n",
    "first = cells.Range(\"A1\")\n",
    "cell = first\n",
    "ws2 = wb.Worksheets(\"Sheet2\")\n",
    "ws2.UsedRange.Clear()\n",
    "paste_cell = ws2.Cells.Range(\"B3\")\n",
    "header = ws2.Cells.Range(paste_cell.Offset(0, 1), paste_cell.Offset(0, 9))\n",
    "header.Value = [(\"Test #\", \"PGain\", \"Itime\", \"DTime\", \"Start Mode\", \"StartPV\", \"SP\", \"Volume\", \"Name\")]\n",
    "n = 1\n",
    "runner = PIDRunner((), \"compiled_data.xlsx\")\n",
    "while True:\n",
    "    v = cell.Value\n",
    "    if not v:\n",
    "        break\n",
    "    name, start, setpoint = v.split()\n",
    "    _, st = start.split(\":\")\n",
    "    _, sp = setpoint.split(\":\")\n",
    "    print(\"Exporting data for\", name, start, setpoint)\n",
    "    p = get_value(2, 2, \"pgain\")\n",
    "    i = get_value(3, 2, \"itime\")\n",
    "    d = get_value(4, 2, \"dtime\")\n",
    "    vol = get_value(4, 4, \"volume\")\n",
    "    new_name = v + \" Vol:%d\" % vol\n",
    "    start_mode, end_mode = name.split(\"To\")\n",
    "    make_summary(p, i, d, start_mode, st, sp, vol, new_name)\n",
    "    paste_cell = paste_cell.Offset(2, 1)\n",
    "    \n",
    "    if name == \"AutoToAuto\":\n",
    "        klass = TempAutoToAutoTest\n",
    "    elif name == \"OffToAuto\":\n",
    "        klass = TempOffToAutoTest\n",
    "    elif name == \"ManToAuto\":\n",
    "        klass = TempManToAutoTest\n",
    "    elif name == \"ManToMan\":\n",
    "        klass = TempManToManTest\n",
    "    else:\n",
    "        raise ValueError(name)\n",
    "    t = klass(p, i, d, st, sp, \"\", None, new_name)\n",
    "    \n",
    "    tl_data = cell.Offset(7, 1)\n",
    "    br_data = tl_data.End(xlDown).End(xlToRight)\n",
    "    t.data = cells.Range(tl_data, br_data).Value\n",
    "    t.metadata = {'Volume': vol, \"Beta\": 1}\n",
    "    \n",
    "    runner.add_test(t)\n",
    "    n += 1\n",
    "    cell = cell.Offset(1, 6)\n",
    "    \n",
    "runner._init_xl()\n",
    "with screen_lock(runner._xl):\n",
    "    runner.plotall()\n",
    "    runner.chartbypid()\n",
    "runner._wb.Save()\n",
    "print(\"Done\")"
   ]
  },
  {
   "cell_type": "code",
   "execution_count": null,
   "metadata": {
    "collapsed": true
   },
   "outputs": [],
   "source": []
  },
  {
   "cell_type": "code",
   "execution_count": null,
   "metadata": {
    "collapsed": true
   },
   "outputs": [],
   "source": []
  }
 ],
 "metadata": {
  "kernelspec": {
   "display_name": "Python 3",
   "language": "python",
   "name": "python3"
  },
  "language_info": {
   "codemirror_mode": {
    "name": "ipython",
    "version": 3
   },
   "file_extension": ".py",
   "mimetype": "text/x-python",
   "name": "python",
   "nbconvert_exporter": "python",
   "pygments_lexer": "ipython3",
   "version": "3.5.2"
  }
 },
 "nbformat": 4,
 "nbformat_minor": 1
}
