{
 "cells": [
  {
   "cell_type": "code",
   "execution_count": 1,
   "metadata": {
    "collapsed": false,
    "scrolled": true
   },
   "outputs": [
    {
     "name": "stdout",
     "output_type": "stream",
     "text": [
      "Using matplotlib backend: TkAgg\n"
     ]
    }
   ],
   "source": [
    "%matplotlib"
   ]
  },
  {
   "cell_type": "code",
   "execution_count": 2,
   "metadata": {
    "collapsed": false
   },
   "outputs": [],
   "source": [
    "import tkinter as tk\n",
    "from pysrc.simplertplot.plotwidget import RTPlotWidget\n",
    "from hello.hello3 import HelloApp, TrueError\n",
    "from time import time\n",
    "import numpy as np"
   ]
  },
  {
   "cell_type": "code",
   "execution_count": 3,
   "metadata": {
    "collapsed": true
   },
   "outputs": [],
   "source": [
    "ip = '192.168.1.85'\n",
    "#ip = '71.189.82.196:86'"
   ]
  },
  {
   "cell_type": "code",
   "execution_count": 4,
   "metadata": {
    "collapsed": false
   },
   "outputs": [
    {
     "data": {
      "text/plain": [
       "1200"
      ]
     },
     "execution_count": 4,
     "metadata": {},
     "output_type": "execute_result"
    }
   ],
   "source": [
    "interval = 100\n",
    "minutes = 2\n",
    "max_pts=minutes*60/(interval/1000)\n",
    "max_pts=int(max_pts)\n",
    "max_pts"
   ]
  },
  {
   "cell_type": "code",
   "execution_count": 5,
   "metadata": {
    "collapsed": true
   },
   "outputs": [],
   "source": [
    "class MyPlotWidget(RTPlotWidget):\n",
    "    def _ma(self, a, n):\n",
    "        rv = np.zeros(len(a))\n",
    "        n //= 2\n",
    "        if n < 1:\n",
    "            n = 1\n",
    "        for i in range(len(a)):\n",
    "            rv[i] = np.mean(a[max(i-n, 0):i+n])\n",
    "        return rv\n",
    "\n",
    "    def _update_data(self):\n",
    "\n",
    "        _plot_x_data = self._ma(self.x_data.get(), 3)\n",
    "        _plot_y_data = self._ma(self.y_data.get(), 3)\n",
    "        self.line.set_data(self.x_data.get(), self.y_data.get())\n",
    "        self.subplot.relim()\n",
    "        self.subplot.autoscale_view(True, True, True)\n",
    "        lower, upper = self.subplot.get_ybound()\n",
    "        self.subplot.set_ylim(lower, upper + (upper - lower) * 0.02, True, None)\n",
    "        self._update()\n"
   ]
  },
  {
   "cell_type": "code",
   "execution_count": 6,
   "metadata": {
    "collapsed": false
   },
   "outputs": [
    {
     "data": {
      "text/plain": [
       "1200"
      ]
     },
     "execution_count": 6,
     "metadata": {},
     "output_type": "execute_result"
    }
   ],
   "source": [
    "root = tk.Tk()\n",
    "root.withdraw()\n",
    "\n",
    "p = RTPlotWidget(root, max_pts=max_pts)\n",
    "p.tkcanvas.config(height=400, width=600)\n",
    "max_pts"
   ]
  },
  {
   "cell_type": "code",
   "execution_count": 7,
   "metadata": {
    "collapsed": false
   },
   "outputs": [],
   "source": [
    "h = HelloApp(ip)\n",
    "h.login()\n",
    "h.getMainValues()\n",
    "pass"
   ]
  },
  {
   "cell_type": "code",
   "execution_count": 8,
   "metadata": {
    "collapsed": true
   },
   "outputs": [],
   "source": [
    "def timer():\n",
    "    start = time()\n",
    "    while True:\n",
    "        current = time()\n",
    "        yield current - start\n",
    "get_time = timer().__next__"
   ]
  },
  {
   "cell_type": "code",
   "execution_count": 9,
   "metadata": {
    "collapsed": true
   },
   "outputs": [],
   "source": [
    "g_stop_tasks = False\n",
    "g_after = None\n",
    "def tk_task(tk, interval, f):\n",
    "    global g_after, g_stop_tasks\n",
    "    def fn(*args, **kw):\n",
    "        try:\n",
    "            return f(*args, **kw)\n",
    "        finally:\n",
    "            if not g_stop_tasks:\n",
    "                g_after = tk.after(interval, fn)\n",
    "            else:\n",
    "                tk.after_cancel(g_after)\n",
    "    g_after = tk.after(interval, fn)"
   ]
  },
  {
   "cell_type": "code",
   "execution_count": 10,
   "metadata": {
    "collapsed": true
   },
   "outputs": [],
   "source": [
    "def update():\n",
    "    mv = h.getMainValues()\n",
    "    ag = mv['agitation']\n",
    "    pv = ag['pv']\n",
    "    t = get_time()\n",
    "    p.add_xy(t, pv)\n",
    "    update_labels(mv)"
   ]
  },
  {
   "cell_type": "code",
   "execution_count": 11,
   "metadata": {
    "collapsed": true
   },
   "outputs": [],
   "source": [
    "def printdir(o):\n",
    "    for a in dir(o):\n",
    "        if not a.startswith(\"_\"):\n",
    "            print(a, getattr(o, a))"
   ]
  },
  {
   "cell_type": "code",
   "execution_count": 12,
   "metadata": {
    "collapsed": true
   },
   "outputs": [],
   "source": [
    "def conf2(ev):\n",
    "    if ev.widget == root:\n",
    "        p.tkcanvas.config(height=ev.height, width=ev.width-rbtn.winfo_width())"
   ]
  },
  {
   "cell_type": "code",
   "execution_count": 13,
   "metadata": {
    "collapsed": false
   },
   "outputs": [],
   "source": [
    "class ILabel(tk.Label):\n",
    "    def __init__(self, master, name, value=0, fmt=\"%.2f\"):\n",
    "        super().__init__(master)\n",
    "        self.fmt = fmt\n",
    "        self.name = name\n",
    "        self.set_value(value)\n",
    "        \n",
    "    def set_value(self, val):\n",
    "        val = self.fmt % val\n",
    "        self.config(text=\"%s: %s\" % (self.name, val))\n",
    "   \n",
    "labels = {}\n",
    "def mk_label(name, val, row):\n",
    "    l = ILabel(root, name, val)\n",
    "    labels[name] = l\n",
    "    l.grid(row=row, column=1)\n",
    "    \n",
    "mk_label(\"PV\", 0, 1)\n",
    "mk_label(\"OP\", 0, 2)\n",
    "    \n",
    "def update_labels(mv):\n",
    "    labels['PV'].set_value(mv['agitation']['pv'])\n",
    "    labels['OP'].set_value(mv['agitation']['output'])\n",
    "\n",
    "    "
   ]
  },
  {
   "cell_type": "code",
   "execution_count": null,
   "metadata": {
    "collapsed": false
   },
   "outputs": [],
   "source": [
    "p.grid(rowspan=20, column=0, row=0)    \n",
    "def reset():\n",
    "    p.reset()\n",
    "    global get_time\n",
    "    get_time = timer().__next__\n",
    "rbtn = tk.Button(root, text=\"Reset\", command=reset)\n",
    "rbtn.grid(column=1, row=0, sticky=\"ew\")\n",
    "root.bind(\"<Configure>\", conf2)\n",
    "p.set_xaxis_text(\"Time (s)\")\n",
    "p.set_yaxis_text(\"DO PV (%)\")\n",
    "def on_closing():\n",
    "    from tkinter import messagebox\n",
    "    if messagebox.askokcancel(\"Quit\", \"Do you want to quit?\"):\n",
    "        global g_stop_tasks\n",
    "        g_stop_tasks = True\n",
    "        root.destroy()\n",
    "\n",
    "root.protocol(\"WM_DELETE_WINDOW\", on_closing)\n",
    "root.wm_deiconify()\n",
    "tk_task(root, interval, update)\n",
    "root.mainloop()"
   ]
  },
  {
   "cell_type": "code",
   "execution_count": null,
   "metadata": {
    "collapsed": true
   },
   "outputs": [],
   "source": []
  },
  {
   "cell_type": "code",
   "execution_count": null,
   "metadata": {
    "collapsed": false
   },
   "outputs": [],
   "source": [
    "import numpy as np\n",
    "a=np.zeros(20)"
   ]
  },
  {
   "cell_type": "code",
   "execution_count": null,
   "metadata": {
    "collapsed": false
   },
   "outputs": [],
   "source": [
    "3//2"
   ]
  },
  {
   "cell_type": "code",
   "execution_count": null,
   "metadata": {
    "collapsed": true
   },
   "outputs": [],
   "source": []
  },
  {
   "cell_type": "code",
   "execution_count": null,
   "metadata": {
    "collapsed": true
   },
   "outputs": [],
   "source": [
    "a=np.array"
   ]
  },
  {
   "cell_type": "code",
   "execution_count": null,
   "metadata": {
    "collapsed": true
   },
   "outputs": [],
   "source": []
  }
 ],
 "metadata": {
  "kernelspec": {
   "display_name": "Python 3",
   "language": "python",
   "name": "python3"
  },
  "language_info": {
   "codemirror_mode": {
    "name": "ipython",
    "version": 3
   },
   "file_extension": ".py",
   "mimetype": "text/x-python",
   "name": "python",
   "nbconvert_exporter": "python",
   "pygments_lexer": "ipython3",
   "version": "3.5.2"
  }
 },
 "nbformat": 4,
 "nbformat_minor": 0
}
