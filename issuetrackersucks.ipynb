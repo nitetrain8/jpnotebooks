{
 "cells": [
  {
   "cell_type": "code",
   "execution_count": 1,
   "metadata": {
    "collapsed": false
   },
   "outputs": [],
   "source": [
    "from scripts.tools.issuetracker import *"
   ]
  },
  {
   "cell_type": "code",
   "execution_count": 7,
   "metadata": {
    "collapsed": false
   },
   "outputs": [],
   "source": [
    "def iter2(task, seen, level):\n",
    "    for i in task.subtasks or ():\n",
    "        seen.add(i)\n",
    "        yield level+1, i\n",
    "        yield from iter2(i, seen, level+1)\n",
    "\n",
    "def iter_subtasks2(issues, seen=None, level=0):\n",
    "    if seen is None:\n",
    "        seen = set()\n",
    "    for i in issues:\n",
    "        if i.parent is not None or i in seen:\n",
    "            continue\n",
    "        seen.add(i)\n",
    "        yield level, i\n",
    "        yield from iter2(i, seen, level+1)\n",
    "    if level == 0:\n",
    "        assert all(i in seen for i in issues)"
   ]
  },
  {
   "cell_type": "code",
   "execution_count": 24,
   "metadata": {
    "collapsed": false
   },
   "outputs": [],
   "source": [
    "from officelib import wordlib\n",
    "from officelib.wordlib import inches_to_points, c as wdconst\n",
    "\n",
    "def format_paragraph(p, add_tabstops=True):\n",
    "    p.Format.SpaceBefore = 0\n",
    "    p.Format.SpaceBeforeAuto = False\n",
    "    p.Format.SpaceAfter = 10\n",
    "    p.Format.SpaceAfterAuto = False\n",
    "    p.Format.LineUnitBefore = 0\n",
    "    p.Format.LineUnitAfter = 0\n",
    "    p.Format.LineSpacingRule = wdconst.wdLineSpaceSingle\n",
    "    if add_tabstops:\n",
    "        p.TabStops.Add(inches_to_points(6), wdconst.wdAlignTabLeft, wdconst.wdTabLeaderDots)\n",
    "\n",
    "def _insert_lines(d, lines):\n",
    "    pgs = d.Paragraphs\n",
    "    p = pgs(pgs.Count)\n",
    "    d.Style.NoSpaceBetweenParagraphsOfSameStyle = True\n",
    "    r = p.Range\n",
    "    for lvl, txt, href in lines:\n",
    "        p=r.Paragraphs(1)\n",
    "        format_paragraph(p)\n",
    "        r.Text = txt + \"\\t\"\n",
    "        r.MoveStart(wdconst.wdCharacter, len(txt)+2)  # Past \"\\t\"\n",
    "        d.Hyperlinks.Add(r, href, \"\", href, \"Link\")\n",
    "        r.InsertAfter(\"\\r\")\n",
    "        r.MoveStart(wdconst.wdCharacter, len(href) + 10)  # Past \"Link\\r\"\n",
    "\n",
    "def insert_lines(d, lines):\n",
    "    d.ScreenUpdating = False\n",
    "    try:\n",
    "        return _insert_lines(d, lines)\n",
    "    finally:\n",
    "        d.ScreenUpdating = True"
   ]
  },
  {
   "cell_type": "code",
   "execution_count": null,
   "metadata": {
    "collapsed": true
   },
   "outputs": [],
   "source": [
    "api = IssuetrackerAPI('issue.pbsbiotech.com', 'nstarkweather', 'kookychemist')\n",
    "api.login()\n",
    "\n",
    "issues= api.download_issues('pbssoftware', modified_on=\">=2016-6-01\")\n",
    "issues = list(issues.values())\n",
    "\n",
    "def filter_cb(iss):\n",
    "    return iss.sprint_milestone.name == \"3.0\" and iss.tracker.name == \"Specification\"\n",
    "\n",
    "path = \"pdfs3\"\n",
    "download_issues_pdf_multithread(api, issues, path, filter_cb)\n",
    "gantt_issues = api.download_gantt('pbssoftware')\n",
    "\n",
    "ss = []\n",
    "lines = []\n",
    "issues2 = {i for i in issues if i.sprint_milestone.name == \"3.0\" and i.tracker.name == 'Specification'}\n",
    "for lvl, i in iter_subtasks2(gantt_issues):\n",
    "    if i not in issues2:\n",
    "        continue\n",
    "    link = api._base_url + \"/\" + \"issues/\" + str(i.id)\n",
    "    s=\"%d,Issue #%d: %s,%s\\n\" % (lvl, i.id, i.subject, link)\n",
    "    lines.append((lvl, \"Issue #%d: %s\" % (i.id, i.subject), link))\n",
    "    ss.append(s)\n",
    "\n",
    "with open(\"pdfs3/issue_outline.txt\", 'wb') as f:\n",
    "    f.write(''.join(ss).encode('utf-8'))"
   ]
  },
  {
   "cell_type": "code",
   "execution_count": 26,
   "metadata": {
    "collapsed": false
   },
   "outputs": [],
   "source": [
    "word = wordlib.Word()\n",
    "d = word.Documents.Add()\n",
    "d.Paragraphs(1).Style.NoSpaceBetweenParagraphsOfSameStyle = True\n",
    "insert_lines(d, lines)"
   ]
  },
  {
   "cell_type": "code",
   "execution_count": 25,
   "metadata": {
    "collapsed": true
   },
   "outputs": [],
   "source": [
    "for p in d.Paragraphs:\n",
    "    format_paragraph(p, False)"
   ]
  },
  {
   "cell_type": "code",
   "execution_count": null,
   "metadata": {
    "collapsed": true
   },
   "outputs": [],
   "source": []
  }
 ],
 "metadata": {
  "kernelspec": {
   "display_name": "Python 3",
   "language": "python",
   "name": "python3"
  },
  "language_info": {
   "codemirror_mode": {
    "name": "ipython",
    "version": 3
   },
   "file_extension": ".py",
   "mimetype": "text/x-python",
   "name": "python",
   "nbconvert_exporter": "python",
   "pygments_lexer": "ipython3",
   "version": "3.5.2"
  }
 },
 "nbformat": 4,
 "nbformat_minor": 0
}
