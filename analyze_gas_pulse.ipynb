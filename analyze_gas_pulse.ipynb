{
 "cells": [
  {
   "cell_type": "code",
   "execution_count": 13,
   "metadata": {
    "collapsed": true
   },
   "outputs": [],
   "source": [
    "from officelib.xllib import *\n",
    "from officelib import const\n",
    "import pywintypes"
   ]
  },
  {
   "cell_type": "code",
   "execution_count": 14,
   "metadata": {
    "collapsed": false
   },
   "outputs": [],
   "source": [
    "def addr(c): \n",
    "    return c.GetAddress(False, False)\n",
    "\n",
    "def sum_pulses(top_cell):\n",
    "    c = top_cell\n",
    "    sum_cells = []\n",
    "    end = start = None\n",
    "    while True:\n",
    "        c = c.End(const.xlDown)\n",
    "        \n",
    "        if c.Offset(1, 0).Value is None:\n",
    "            if end:\n",
    "                end.Value = 0\n",
    "            break  # Ran out of data \n",
    "        if c.Offset(2, 1).Value is None:\n",
    "            continue  # skip stray noise\n",
    "        \n",
    "        start = c\n",
    "        end = c.End(const.xlDown).Offset(2, 1)\n",
    "                \n",
    "        if end.Offset(0,0).Value is None:\n",
    "            break\n",
    "        \n",
    "        end.Value = pulse_sum_formula(end.Row, end.Column-1)\n",
    "        end.Offset(1, 2).Value = \"'*Pulse End\"\n",
    "        \n",
    "        fcell = start.Offset(1, 2)\n",
    "        form = \"=sum(%s:%s)\" % (addr(start), addr(end))\n",
    "        fcell.Value = form\n",
    "        sum_cells.append(fcell)\n",
    "        \n",
    "        c = end\n",
    "        \n",
    "    return sum_cells"
   ]
  },
  {
   "cell_type": "code",
   "execution_count": 42,
   "metadata": {
    "collapsed": true
   },
   "outputs": [],
   "source": [
    "def make_pulse_sum_table(ws, top_left, sum_cells, exp_cell):\n",
    "    pulse_sums = top_left\n",
    "    ps_header = \"Pulse (Raw)\"\n",
    "    \n",
    "    pulse_ml = top_left.Offset(1, 2)\n",
    "    pml_header = \"Pulse (mL)\"\n",
    "    pulse_ml.EntireColumn.NumberFormat = \"0.00\"\n",
    "    \n",
    "    pulse_err = pulse_ml.Offset(1, 2)\n",
    "    ple_header = \"Err\"\n",
    "    pulse_err.EntireColumn.NumberFormat = \"0.00\"\n",
    "    \n",
    "    pulse_pc_err = pulse_err.Offset(1, 2)\n",
    "    plpe_header = \"% Err\"\n",
    "    pulse_pc_err.EntireColumn.NumberFormat = \"0.0%\"\n",
    "    data = [(ps_header, pml_header, ple_header, plpe_header)]\n",
    "    \n",
    "    col = top_left.Column\n",
    "    exp_addr = exp_cell.Address\n",
    "    for row, s in enumerate(sum_cells, top_left.Row + 1):\n",
    "        c1 = \"=\" + addr(s)\n",
    "        c2 = \"=\" + cellStr(row, col) + \"*1000/60\"\n",
    "        c3 = \"=%s-%s\" % (cellStr(row, col+1), exp_addr)\n",
    "        c4 = \"=%s/%s\" % (cellStr(row, col+2), exp_addr)\n",
    "        data.append((c1, c2, c3, c4))\n",
    "    ws.Cells.Range(top_left, top_left.Offset(row, 4)).Value = data\n",
    "    \n",
    "    pulse_ml.EntireColumn.AutoFit()\n",
    "    pulse_sums.EntireColumn.AutoFit()"
   ]
  },
  {
   "cell_type": "code",
   "execution_count": 43,
   "metadata": {
    "collapsed": false
   },
   "outputs": [],
   "source": [
    "def find_baseline(xl, cells, base, d_top):\n",
    "    if base is not None:\n",
    "        return base\n",
    "    d_end = d_top.End(const.xlDown)\n",
    "    d_rng = cells.Range(d_top, d_end)\n",
    "    wsf = xl.WorksheetFunction\n",
    "    try:\n",
    "        mode = wsf.Mode(d_rng)\n",
    "    except pywintypes.com_error:\n",
    "        # mode failed because no non-unique values\n",
    "        # assign 1 to skip mode in if block\n",
    "        mode = 1  \n",
    "        \n",
    "    min_ = wsf.Min(d_rng)\n",
    "    \n",
    "    if mode > 0.01:\n",
    "        # maybe mode doesn't reflect value well?\n",
    "        base = min_\n",
    "    else:\n",
    "        base = mode\n",
    "    \n",
    "    return base\n",
    "\n",
    "def correct_baseline(xl, ws, cells, baseline, bl_header, d_top):\n",
    "    base = find_baseline(xl, cells, baseline, d_top)\n",
    "    c = d_top.Offset(1, 2)\n",
    "    \n",
    "    bl_name = \"Baseline\"\n",
    "    bl_header.Value = bl_name\n",
    "    bl_cell = bl_header.Offset(2, 1)\n",
    "    bl_cell.Value = base\n",
    "    ws.Names.Add(bl_name, bl_cell)\n",
    "    \n",
    "    c.Value = \"=Max(%s-%s, 0)\" % (addr(d_top), bl_name)\n",
    "    tgt = cells.Range(d_top.Offset(1, 2), d_top.End(const.xlDown).Offset(1, 2))\n",
    "    c.AutoFill(tgt)\n",
    "    "
   ]
  },
  {
   "cell_type": "code",
   "execution_count": 44,
   "metadata": {
    "collapsed": false
   },
   "outputs": [],
   "source": [
    "def pulse_sum_formula(row, tl_col):\n",
    "    c1 = cellStr(row - 1, tl_col)\n",
    "    c2 = cellStr(row, tl_col)\n",
    "    c3 = cellStr(row, tl_col-2)\n",
    "    c4 = cellStr(row-1, tl_col-2)\n",
    "    form = \"=((%s+%s)/2)*(%s-%s)\" % (c1, c2, c3, c4)\n",
    "    return form\n",
    "\n",
    "def find_pulses(ws, tl): \n",
    "    rng = ws.Cells.Range(tl, tl.End(const.xlDown))\n",
    "    data = rng.Value\n",
    "    pulse_values = []\n",
    "    tl_col = tl.Column\n",
    "    for row, (d,) in enumerate(data, 1):\n",
    "        if d > 0 and row > 1:\n",
    "            form = pulse_sum_formula(row, tl_col)\n",
    "        else:\n",
    "            form = None\n",
    "        pulse_values.append((form,))\n",
    "    tgt = ws.Cells.Range(tl.Offset(1, 2), tl.End(const.xlDown).Offset(1, 2))\n",
    "    tgt.Value = pulse_values\n",
    "                \n",
    "def autofill_range(c):\n",
    "    return c.Worksheet.Cells.Range(c.Offset(1,2), \n",
    "                                   c.End(const.xlDown).Offset(1,2))\n",
    "    "
   ]
  },
  {
   "cell_type": "code",
   "execution_count": 45,
   "metadata": {
    "collapsed": true
   },
   "outputs": [],
   "source": [
    "def shrink_markers(ob, sz=2):\n",
    "    try:\n",
    "        sc = ob.SeriesCollection()\n",
    "    except AttributeError:\n",
    "        ob.MarkerSize = sz\n",
    "        return\n",
    "    else:\n",
    "        for s in sc:\n",
    "            s.MarkerSize = sz\n",
    "\n",
    "def make_chart(ws, x1, y1, title, x_ax, y_ax):\n",
    "    chart = CreateChart(ws)\n",
    "    cr = ws.Cells.Range\n",
    "    x = cr(x1, x1.End(const.xlDown))\n",
    "    y = cr(y1, y1.End(const.xlDown))\n",
    "    CreateDataSeries(chart, x, y)\n",
    "    FormatChart(chart, None, title, x_ax, y_ax, False, False)\n",
    "    shrink_markers(chart)\n",
    "    return chart"
   ]
  },
  {
   "cell_type": "code",
   "execution_count": 55,
   "metadata": {
    "collapsed": true
   },
   "outputs": [],
   "source": [
    "def analyze_pulses(ws, pulse_cell, tbl_cell, exp_cell):\n",
    "    find_pulses(ws, pulse_cell)\n",
    "    pulses = sum_pulses(pulse_cell.Offset(1, 2))\n",
    "    make_pulse_sum_table(ws, tbl_cell, pulses, exp_cell)\n",
    "    \n",
    "def add_calc_cells(mf_cell, min_flow, on_time):\n",
    "    ot_cell = mf_cell.Offset(1, 2)\n",
    "    ef_cell = ot_cell.Offset(1, 2)\n",
    "    \n",
    "    mf_cell.Value = \"Min Flowrate(LPM)\"\n",
    "    ot_cell.Value = \"On Time(s)\"\n",
    "    ef_cell.Value = \"Exp Pulse (mL)\"\n",
    "    \n",
    "    mf_cell.Offset(2, 1).Value = min_flow\n",
    "    ot_cell.Offset(2, 1).Value = on_time\n",
    "    ef_cell.Offset(2, 1).Value = \"=%s*%s*1000/60\" % (addr(ot_cell.Offset(2,1)), addr(mf_cell.Offset(2,1)))\n",
    "    \n",
    "    for c in (mf_cell, ot_cell, ef_cell):\n",
    "        c.EntireColumn.AutoFit()\n",
    "    \n",
    "def analyze_data(xl, ws, cells, min_flowrate, on_time, bl_header):\n",
    "    mf_cell = bl_header.Offset(1, 2)\n",
    "    add_calc_cells(mf_cell, min_flowrate, on_time)\n",
    "    \n",
    "    analyze_pulses(ws, bl_header.Offset(1, -2), bl_header.Offset(1, 6), mf_cell.Offset(2, 3))\n",
    "    chart = make_chart(ws, cells(1,2), cells(1,4), \"CO2 Pulse Accuracy\",\n",
    "              \"Time(s)\", \"Flow Rate(L/min)\")\n",
    "    ca = chart.ChartArea\n",
    "    ca.Top = 44\n",
    "    ca.Left = 47\n",
    "    ca.Height = 336.5\n",
    "    ca.Width = 544\n",
    "    \n",
    "def add_time_column(xl, ws, cells):\n",
    "    cells.Columns(2).Insert()\n",
    "    ms_top = cells(1,1)\n",
    "    ms_end = ms_top.End(const.xlDown)\n",
    "    \n",
    "    s_top = ms_top.Offset(1, 2)\n",
    "    s_end = ms_end.Offset(1, 2)\n",
    "    \n",
    "    form = \"=%s/1000\" % addr(ms_top)\n",
    "    s_top.Value = form\n",
    "    s_top.AutoFill(cells.Range(s_top, s_end))\n",
    "    \n",
    "    \n",
    "def analyze_sheet(xl, ws, baseline=None, min_flowrate=0.1, on_time=3):\n",
    "    cells = ws.Cells\n",
    "    cr = cells.Range\n",
    "    add_time_column(xl, ws, cells)\n",
    "    bl_header = cr(\"G1\")\n",
    "    correct_baseline(xl, ws, cells, baseline, bl_header, cells(1, 3))\n",
    "    analyze_data(xl, ws, cells, min_flowrate, on_time, bl_header)\n"
   ]
  },
  {
   "cell_type": "code",
   "execution_count": 51,
   "metadata": {
    "collapsed": false,
    "scrolled": true
   },
   "outputs": [
    {
     "data": {
      "text/plain": [
       "[('C:\\\\.replcache\\\\co2pulse\\\\10pCO2_min03_PV.csv', None),\n",
       " ('C:\\\\.replcache\\\\co2pulse\\\\10pCO2_min1_PV.csv', None),\n",
       " ('C:\\\\.replcache\\\\co2pulse\\\\15pCO2_min03_PV.csv', None),\n",
       " ('C:\\\\.replcache\\\\co2pulse\\\\15pCO2_min1_PV.csv', None),\n",
       " ('C:\\\\.replcache\\\\co2pulse\\\\20pCO2_min03_PV.csv', None),\n",
       " ('C:\\\\.replcache\\\\co2pulse\\\\20pCO2_min1_PV.csv', None),\n",
       " ('C:\\\\.replcache\\\\co2pulse\\\\25pCO2_min03_PV.csv', None),\n",
       " ('C:\\\\.replcache\\\\co2pulse\\\\25pCO2_min1_PV.csv', None)]"
      ]
     },
     "execution_count": 51,
     "metadata": {},
     "output_type": "execute_result"
    }
   ],
   "source": [
    "import os\n",
    "os.chdir(\"C:\\\\.replcache\\\\co2pulse\")\n",
    "files = [f for f in os.listdir(\".\") if \"CO2\" in f and f.endswith(\"PV.csv\")]\n",
    "files2 = list(map(os.path.abspath, files))\n",
    "files2\n",
    "files3 = [(f, None) for f in files2]\n",
    "files3"
   ]
  },
  {
   "cell_type": "code",
   "execution_count": 56,
   "metadata": {
    "collapsed": true
   },
   "outputs": [],
   "source": [
    "def analyze_one(xl, f, bl):\n",
    "    print(\"Analyzing file:\", f)\n",
    "    wb = xl.Workbooks.Open(f)\n",
    "    ws = wb.Worksheets(1)\n",
    "    min_flowrate = 0.03 if \"min03_PV\" in f else 0.1\n",
    "    analyze_sheet(xl, ws, bl, min_flowrate, 3)"
   ]
  },
  {
   "cell_type": "code",
   "execution_count": 57,
   "metadata": {
    "collapsed": false
   },
   "outputs": [
    {
     "name": "stdout",
     "output_type": "stream",
     "text": [
      "Analyzing file: C:\\.replcache\\co2pulse\\10pCO2_min03_PV.csv\n"
     ]
    }
   ],
   "source": [
    "\n",
    "\n",
    "xl = Excel()\n",
    "with HiddenXl(xl):\n",
    "    xl.Workbooks.Close()\n",
    "    for f, bl in files3:\n",
    "        analyze_one(xl, f, bl)\n",
    "        break\n",
    "        "
   ]
  },
  {
   "cell_type": "code",
   "execution_count": 62,
   "metadata": {
    "collapsed": false
   },
   "outputs": [],
   "source": [
    "def save_all(xl, pth=\".\"):\n",
    "    for wb in xl.Workbooks:\n",
    "        name = wb.Name\n",
    "        if name.endswith(\".csv\"):\n",
    "            name = name.replace('.csv', '.xlsx')\n",
    "        elif name.endswith(\".xlsx\"):\n",
    "            pass\n",
    "        else:\n",
    "            name = name + \".xlsx\"\n",
    "        sn = os.path.join(pth, wb.Name.replace(\".csv\", \".xlsx\"))\n",
    "        sn = os.path.abspath(sn)\n",
    "        wb.SaveAs(sn, FileFormat=const.xlOpenXMLWorkbook)"
   ]
  },
  {
   "cell_type": "code",
   "execution_count": 58,
   "metadata": {
    "collapsed": false
   },
   "outputs": [
    {
     "data": {
      "text/plain": [
       "[('C:\\\\.replcache\\\\co2pulse\\\\10pCO2_min03_PV.csv', None),\n",
       " ('C:\\\\.replcache\\\\co2pulse\\\\15pCO2_min03_PV.csv', None),\n",
       " ('C:\\\\.replcache\\\\co2pulse\\\\20pCO2_min03_PV.csv', None),\n",
       " ('C:\\\\.replcache\\\\co2pulse\\\\25pCO2_min03_PV.csv', None)]"
      ]
     },
     "execution_count": 58,
     "metadata": {},
     "output_type": "execute_result"
    }
   ],
   "source": [
    "files4 = [f for f in files3 if '03' in f[0]]\n",
    "files4"
   ]
  },
  {
   "cell_type": "code",
   "execution_count": 60,
   "metadata": {
    "collapsed": false
   },
   "outputs": [
    {
     "name": "stdout",
     "output_type": "stream",
     "text": [
      "Analyzing file: C:\\.replcache\\co2pulse\\10pCO2_min03_PV.csv\n",
      "Analyzing file: C:\\.replcache\\co2pulse\\15pCO2_min03_PV.csv\n",
      "Analyzing file: C:\\.replcache\\co2pulse\\20pCO2_min03_PV.csv\n",
      "Analyzing file: C:\\.replcache\\co2pulse\\25pCO2_min03_PV.csv\n"
     ]
    }
   ],
   "source": [
    "files5 = [\n",
    "     ('C:\\\\.replcache\\\\co2pulse\\\\10pCO2_min03_PV.csv', None),\n",
    "     ('C:\\\\.replcache\\\\co2pulse\\\\15pCO2_min03_PV.csv', None),\n",
    "     ('C:\\\\.replcache\\\\co2pulse\\\\20pCO2_min03_PV.csv', None),\n",
    "     ('C:\\\\.replcache\\\\co2pulse\\\\25pCO2_min03_PV.csv', -0.001)\n",
    "]\n",
    "\n",
    "with HiddenXl(xl):\n",
    "    xl.Workbooks.Close()\n",
    "    for f, bl in files5:\n",
    "        analyze_one(xl, f, bl)"
   ]
  },
  {
   "cell_type": "code",
   "execution_count": 65,
   "metadata": {
    "collapsed": false
   },
   "outputs": [],
   "source": [
    "import os\n",
    "os.mkdir(\"analyzed\")\n",
    "save_all(xl, \"analyzed\")"
   ]
  },
  {
   "cell_type": "code",
   "execution_count": null,
   "metadata": {
    "collapsed": true
   },
   "outputs": [],
   "source": []
  }
 ],
 "metadata": {
  "kernelspec": {
   "display_name": "Python 3",
   "language": "python",
   "name": "python3"
  },
  "language_info": {
   "codemirror_mode": {
    "name": "ipython",
    "version": 3
   },
   "file_extension": ".py",
   "mimetype": "text/x-python",
   "name": "python",
   "nbconvert_exporter": "python",
   "pygments_lexer": "ipython3",
   "version": "3.4.1"
  }
 },
 "nbformat": 4,
 "nbformat_minor": 0
}
