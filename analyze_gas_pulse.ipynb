{
 "cells": [
  {
   "cell_type": "code",
   "execution_count": 1,
   "metadata": {
    "collapsed": true
   },
   "outputs": [],
   "source": [
    "from officelib.xllib import *\n",
    "from officelib import const"
   ]
  },
  {
   "cell_type": "code",
   "execution_count": 2,
   "metadata": {
    "collapsed": false
   },
   "outputs": [],
   "source": [
    "def addr(c): \n",
    "    return c.GetAddress(False, False)\n",
    "\n",
    "def sum_pulses(top_cell):\n",
    "    c = top_cell\n",
    "    sum_cells = []\n",
    "    while True:\n",
    "        c = c.End(const.xlDown)\n",
    "        if c.Offset(1, 0).Value is None:\n",
    "            break  # Ran out of data \n",
    "        if c.Offset(2, 1).Value is None:\n",
    "            continue  # skip stray noise\n",
    "        start = c\n",
    "        c = c.End(const.xlDown)\n",
    "        if c.Offset(1,0).Value is None:\n",
    "            break\n",
    "        fcell = start.Offset(1, 2)\n",
    "        form = \"=sum(%s:%s)\" % (addr(start), addr(c))\n",
    "        fcell.Value = form\n",
    "        sum_cells.append(fcell)\n",
    "    return sum_cells"
   ]
  },
  {
   "cell_type": "code",
   "execution_count": 3,
   "metadata": {
    "collapsed": true
   },
   "outputs": [],
   "source": [
    "def make_pulse_sum_table(header_cell, sum_cells):\n",
    "    c = header_cell\n",
    "    c.Value = \"Pulse Sums\"\n",
    "    c.EntireColumn.AutoFit()\n",
    "    for s in sum_cells:\n",
    "        c = c.Offset(2, 1)\n",
    "        c.Value = \"=\" + addr(s)"
   ]
  },
  {
   "cell_type": "code",
   "execution_count": 4,
   "metadata": {
    "collapsed": false
   },
   "outputs": [],
   "source": [
    "def find_baseline(xl, cells):\n",
    "    d_top = cells(1, 2)\n",
    "    d_end = d_top.End(const.xlDown)\n",
    "    d_rng = cells.Range(d_top, d_end)\n",
    "    \n",
    "    wsf = xl.WorksheetFunction\n",
    "    mode = wsf.Mode(d_rng)\n",
    "    min_ = wsf.Min(d_rng)\n",
    "    \n",
    "    if mode > 0.1:\n",
    "        # maybe mode doesn't reflect value well?\n",
    "        base = min_\n",
    "    else:\n",
    "        base = mode\n",
    "    return base\n",
    "\n",
    "def correct_baseline(xl, cells):\n",
    "    base = find_baseline(xl, cells)\n",
    "    d = cells(1, 2)\n",
    "    c = d.Offset(1, 2)\n",
    "    c.Value = \"=%s-%f\" % (addr(d), base)\n",
    "    tgt = cells.Range(d.Offset(1, 2), d.End(const.xlDown).Offset(1, 2))\n",
    "    c.AutoFill(tgt)\n",
    "    "
   ]
  },
  {
   "cell_type": "code",
   "execution_count": 35,
   "metadata": {
    "collapsed": false
   },
   "outputs": [],
   "source": [
    "def find_pulses(ws, tl):\n",
    "    \n",
    "    rng = ws.Cells.Range(tl, tl.End(const.xlDown))\n",
    "    data = rng.Value\n",
    "    to_paste = []\n",
    "    tl_col = tl.Column\n",
    "    for row, (d,) in enumerate(data, 1):\n",
    "        if d > 0:\n",
    "            form = \"=\" + cellStr(row, tl_col)\n",
    "        else:\n",
    "            form = None\n",
    "        to_paste.append((form,))\n",
    "    tgt = ws.Cells.Range(tl.Offset(1, 2), tl.End(const.xlDown).Offset(1, 2))\n",
    "    tgt.Value = to_paste\n",
    "                \n",
    "def autofill_range(c):\n",
    "    return c.Worksheet.Cells.Range(c.Offset(1,2), \n",
    "                                   c.End(const.xlDown).Offset(1,2))\n",
    "    "
   ]
  },
  {
   "cell_type": "code",
   "execution_count": 31,
   "metadata": {
    "collapsed": true
   },
   "outputs": [],
   "source": [
    "def shrink_markers(ob, sz=2):\n",
    "    try:\n",
    "        sc = ob.SeriesCollection()\n",
    "    except AttributeError:\n",
    "        ob.MarkerSize = sz\n",
    "        return\n",
    "    else:\n",
    "        for s in sc:\n",
    "            s.MarkerSize = sz\n",
    "\n",
    "def make_chart(ws, x1, y1, title, x_ax, y_ax):\n",
    "    chart = CreateChart(ws)\n",
    "    cr = ws.Cells.Range\n",
    "    x = cr(x1, x1.End(const.xlDown))\n",
    "    y = cr(y1, y1.End(const.xlDown))\n",
    "    CreateDataSeries(chart, x, y)\n",
    "    FormatChart(chart, None, title, x_ax, y_ax, False, False)\n",
    "    shrink_markers(chart)\n",
    "    return chart"
   ]
  },
  {
   "cell_type": "code",
   "execution_count": 32,
   "metadata": {
    "collapsed": true
   },
   "outputs": [],
   "source": [
    "def analyze_sheet(xl, ws):\n",
    "    cells = ws.Cells\n",
    "    correct_baseline(xl, cells)\n",
    "    pulse_cell = cells(1, 3)\n",
    "    find_pulses(ws, pulse_cell)\n",
    "    pulses = sum_pulses(pulse_cell.Offset(1, 2))\n",
    "    make_pulse_sum_table(pulse_cell.Offset(1, 3), pulses)\n",
    "    make_chart(ws, cells(1,1), cells(1,3), \"CO2 Pulse Accuracy\",\n",
    "              \"Time(ms)\", \"Flow Rate(L/min)\")"
   ]
  },
  {
   "cell_type": "code",
   "execution_count": 36,
   "metadata": {
    "collapsed": false
   },
   "outputs": [],
   "source": [
    "xl = Excel()\n",
    "def run():\n",
    "    with HiddenXl(xl):\n",
    "        analyze_sheet(xl, xl.ActiveSheet)\n",
    "run()"
   ]
  },
  {
   "cell_type": "code",
   "execution_count": null,
   "metadata": {
    "collapsed": true
   },
   "outputs": [],
   "source": []
  }
 ],
 "metadata": {
  "kernelspec": {
   "display_name": "Python 3",
   "language": "python",
   "name": "python3"
  },
  "language_info": {
   "codemirror_mode": {
    "name": "ipython",
    "version": 3
   },
   "file_extension": ".py",
   "mimetype": "text/x-python",
   "name": "python",
   "nbconvert_exporter": "python",
   "pygments_lexer": "ipython3",
   "version": "3.4.1"
  }
 },
 "nbformat": 4,
 "nbformat_minor": 0
}
