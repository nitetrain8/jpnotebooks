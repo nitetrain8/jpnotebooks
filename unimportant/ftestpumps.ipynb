{
 "cells": [
  {
   "cell_type": "code",
   "execution_count": null,
   "metadata": {
    "collapsed": true
   },
   "outputs": [],
   "source": [
    "from hello.hello import *\n",
    "from time import sleep"
   ]
  },
  {
   "cell_type": "code",
   "execution_count": null,
   "metadata": {
    "collapsed": true
   },
   "outputs": [],
   "source": [
    "class Pump():\n",
    "    def __init__(self, func_name, val2, on_sleep, off_sleep):\n",
    "        self.func_name = func_name\n",
    "        self.val2 = val2\n",
    "        self.on_sleep = on_sleep\n",
    "        self.off_sleep = off_sleep\n",
    "    def turn_on(self, app):\n",
    "        getattr(app, self.func_name)(1, self.val2)\n",
    "    def turn_off(self, app):\n",
    "        getattr(app, self.func_name)(0, 0)\n",
    "    def test_cycle(self, app):\n",
    "        self.turn_on(app)\n",
    "        sleep(self.on_sleep)\n",
    "        self.turn_off(app)\n",
    "        sleep(self.off_sleep)\n",
    "\n",
    "class MediaPump(Pump):\n",
    "    def __init__(self, on_time, off_time):\n",
    "        super().__init__('setpumpa', 500, on_time, off_time)\n",
    "        \n",
    "class AddnA(Pump):\n",
    "    def __init__(self, on_time, off_time):\n",
    "        super().__init__('setpumpb', 3, on_time, off_time)\n",
    "        \n",
    "class AddnB(Pump):\n",
    "    def __init__(self, on_time, off_time):\n",
    "        super().__init__('setpumpc', 3, on_time, off_time)\n",
    "        \n",
    "class Sample(Pump):\n",
    "    def __init__(self, on_time, off_time):\n",
    "        super().__init__('setpumpsample', 0, on_time, off_time)\n",
    "    def turn_on(self, app, val2=None):\n",
    "        getattr(app, self.func_name)(1, self.val2 if val2 is None else self.val2)\n",
    "    def turn_off(self, app):\n",
    "        getattr(app, self.func_name)(0, 0)    \n",
    "        \n",
    "media_pump_80 = MediaPump(2, 3.5)\n",
    "media_pump_3 = MediaPump(2, 2)\n",
    "addna = AddnA(2, 2)\n",
    "addnb = AddnB(2, 2)\n",
    "sample = Sample(2, 2)\n",
    "        \n",
    "def test_pumps(ip, sz=80):\n",
    "    app = open_hello(ip)\n",
    "    app.login()\n",
    "        \n",
    "    if sz == 80:\n",
    "        media_pump = media_pump_80\n",
    "    else:\n",
    "        media_pump = media_pump_3\n",
    "    \n",
    "    sample.val2 = 0\n",
    "    \n",
    "    for pump in (media_pump, addna, addnb, sample):\n",
    "        for i in range(10):\n",
    "            pump.test_cycle(app)\n",
    "    \n",
    "    sample.val2 = 1\n",
    "    \n",
    "    for i in range(10):\n",
    "        sample.test_cycle(app)"
   ]
  },
  {
   "cell_type": "code",
   "execution_count": null,
   "metadata": {
    "collapsed": true
   },
   "outputs": [],
   "source": [
    "test_pumps('71.189.82.196:86')"
   ]
  },
  {
   "cell_type": "code",
   "execution_count": 3,
   "metadata": {
    "collapsed": false
   },
   "outputs": [
    {
     "ename": "AttributeError",
     "evalue": "'HelloApp' object has no attribute 'setpumpsample'",
     "output_type": "error",
     "traceback": [
      "\u001b[0;31m---------------------------------------------------------------------------\u001b[0m",
      "\u001b[0;31mAttributeError\u001b[0m                            Traceback (most recent call last)",
      "\u001b[0;32m<ipython-input-3-bcfeefc8d0da>\u001b[0m in \u001b[0;36m<module>\u001b[0;34m()\u001b[0m\n\u001b[0;32m----> 1\u001b[0;31m \u001b[0mtest_pumps\u001b[0m\u001b[1;33m(\u001b[0m\u001b[1;34m'192.168.1.86'\u001b[0m\u001b[1;33m)\u001b[0m\u001b[1;33m\u001b[0m\u001b[0m\n\u001b[0m",
      "\u001b[0;32m<ipython-input-2-de5a6b4bc15f>\u001b[0m in \u001b[0;36mtest_pumps\u001b[0;34m(ip, sz)\u001b[0m\n\u001b[1;32m     54\u001b[0m     \u001b[1;32mfor\u001b[0m \u001b[0mpump\u001b[0m \u001b[1;32min\u001b[0m \u001b[1;33m(\u001b[0m\u001b[0mmedia_pump\u001b[0m\u001b[1;33m,\u001b[0m \u001b[0maddna\u001b[0m\u001b[1;33m,\u001b[0m \u001b[0maddnb\u001b[0m\u001b[1;33m,\u001b[0m \u001b[0msample\u001b[0m\u001b[1;33m)\u001b[0m\u001b[1;33m:\u001b[0m\u001b[1;33m\u001b[0m\u001b[0m\n\u001b[1;32m     55\u001b[0m         \u001b[1;32mfor\u001b[0m \u001b[0mi\u001b[0m \u001b[1;32min\u001b[0m \u001b[0mrange\u001b[0m\u001b[1;33m(\u001b[0m\u001b[1;36m10\u001b[0m\u001b[1;33m)\u001b[0m\u001b[1;33m:\u001b[0m\u001b[1;33m\u001b[0m\u001b[0m\n\u001b[0;32m---> 56\u001b[0;31m             \u001b[0mpump\u001b[0m\u001b[1;33m.\u001b[0m\u001b[0mtest_cycle\u001b[0m\u001b[1;33m(\u001b[0m\u001b[0mapp\u001b[0m\u001b[1;33m)\u001b[0m\u001b[1;33m\u001b[0m\u001b[0m\n\u001b[0m\u001b[1;32m     57\u001b[0m \u001b[1;33m\u001b[0m\u001b[0m\n\u001b[1;32m     58\u001b[0m     \u001b[0msample\u001b[0m\u001b[1;33m.\u001b[0m\u001b[0mval2\u001b[0m \u001b[1;33m=\u001b[0m \u001b[1;36m1\u001b[0m\u001b[1;33m\u001b[0m\u001b[0m\n",
      "\u001b[0;32m<ipython-input-2-de5a6b4bc15f>\u001b[0m in \u001b[0;36mtest_cycle\u001b[0;34m(self, app)\u001b[0m\n\u001b[1;32m     10\u001b[0m         \u001b[0mgetattr\u001b[0m\u001b[1;33m(\u001b[0m\u001b[0mapp\u001b[0m\u001b[1;33m,\u001b[0m \u001b[0mself\u001b[0m\u001b[1;33m.\u001b[0m\u001b[0mfunc_name\u001b[0m\u001b[1;33m)\u001b[0m\u001b[1;33m(\u001b[0m\u001b[1;36m0\u001b[0m\u001b[1;33m,\u001b[0m \u001b[1;36m0\u001b[0m\u001b[1;33m)\u001b[0m\u001b[1;33m\u001b[0m\u001b[0m\n\u001b[1;32m     11\u001b[0m     \u001b[1;32mdef\u001b[0m \u001b[0mtest_cycle\u001b[0m\u001b[1;33m(\u001b[0m\u001b[0mself\u001b[0m\u001b[1;33m,\u001b[0m \u001b[0mapp\u001b[0m\u001b[1;33m)\u001b[0m\u001b[1;33m:\u001b[0m\u001b[1;33m\u001b[0m\u001b[0m\n\u001b[0;32m---> 12\u001b[0;31m         \u001b[0mself\u001b[0m\u001b[1;33m.\u001b[0m\u001b[0mturn_on\u001b[0m\u001b[1;33m(\u001b[0m\u001b[0mapp\u001b[0m\u001b[1;33m)\u001b[0m\u001b[1;33m\u001b[0m\u001b[0m\n\u001b[0m\u001b[1;32m     13\u001b[0m         \u001b[0msleep\u001b[0m\u001b[1;33m(\u001b[0m\u001b[0mself\u001b[0m\u001b[1;33m.\u001b[0m\u001b[0mon_sleep\u001b[0m\u001b[1;33m)\u001b[0m\u001b[1;33m\u001b[0m\u001b[0m\n\u001b[1;32m     14\u001b[0m         \u001b[0mself\u001b[0m\u001b[1;33m.\u001b[0m\u001b[0mturn_off\u001b[0m\u001b[1;33m(\u001b[0m\u001b[0mapp\u001b[0m\u001b[1;33m)\u001b[0m\u001b[1;33m\u001b[0m\u001b[0m\n",
      "\u001b[0;32m<ipython-input-2-de5a6b4bc15f>\u001b[0m in \u001b[0;36mturn_on\u001b[0;34m(self, app, val2)\u001b[0m\n\u001b[1;32m     31\u001b[0m         \u001b[0msuper\u001b[0m\u001b[1;33m(\u001b[0m\u001b[1;33m)\u001b[0m\u001b[1;33m.\u001b[0m\u001b[0m__init__\u001b[0m\u001b[1;33m(\u001b[0m\u001b[1;34m'setpumpsample'\u001b[0m\u001b[1;33m,\u001b[0m \u001b[1;36m0\u001b[0m\u001b[1;33m,\u001b[0m \u001b[0mon_time\u001b[0m\u001b[1;33m,\u001b[0m \u001b[0moff_time\u001b[0m\u001b[1;33m)\u001b[0m\u001b[1;33m\u001b[0m\u001b[0m\n\u001b[1;32m     32\u001b[0m     \u001b[1;32mdef\u001b[0m \u001b[0mturn_on\u001b[0m\u001b[1;33m(\u001b[0m\u001b[0mself\u001b[0m\u001b[1;33m,\u001b[0m \u001b[0mapp\u001b[0m\u001b[1;33m,\u001b[0m \u001b[0mval2\u001b[0m\u001b[1;33m=\u001b[0m\u001b[1;32mNone\u001b[0m\u001b[1;33m)\u001b[0m\u001b[1;33m:\u001b[0m\u001b[1;33m\u001b[0m\u001b[0m\n\u001b[0;32m---> 33\u001b[0;31m         \u001b[0mgetattr\u001b[0m\u001b[1;33m(\u001b[0m\u001b[0mapp\u001b[0m\u001b[1;33m,\u001b[0m \u001b[0mself\u001b[0m\u001b[1;33m.\u001b[0m\u001b[0mfunc_name\u001b[0m\u001b[1;33m)\u001b[0m\u001b[1;33m(\u001b[0m\u001b[1;36m1\u001b[0m\u001b[1;33m,\u001b[0m \u001b[0mself\u001b[0m\u001b[1;33m.\u001b[0m\u001b[0mval2\u001b[0m \u001b[1;32mif\u001b[0m \u001b[0mval2\u001b[0m \u001b[1;32mis\u001b[0m \u001b[1;32mNone\u001b[0m \u001b[1;32melse\u001b[0m \u001b[0mself\u001b[0m\u001b[1;33m.\u001b[0m\u001b[0mval2\u001b[0m\u001b[1;33m)\u001b[0m\u001b[1;33m\u001b[0m\u001b[0m\n\u001b[0m\u001b[1;32m     34\u001b[0m     \u001b[1;32mdef\u001b[0m \u001b[0mturn_off\u001b[0m\u001b[1;33m(\u001b[0m\u001b[0mself\u001b[0m\u001b[1;33m,\u001b[0m \u001b[0mapp\u001b[0m\u001b[1;33m)\u001b[0m\u001b[1;33m:\u001b[0m\u001b[1;33m\u001b[0m\u001b[0m\n\u001b[1;32m     35\u001b[0m         \u001b[0mgetattr\u001b[0m\u001b[1;33m(\u001b[0m\u001b[0mapp\u001b[0m\u001b[1;33m,\u001b[0m \u001b[0mself\u001b[0m\u001b[1;33m.\u001b[0m\u001b[0mfunc_name\u001b[0m\u001b[1;33m)\u001b[0m\u001b[1;33m(\u001b[0m\u001b[1;36m0\u001b[0m\u001b[1;33m,\u001b[0m \u001b[1;36m0\u001b[0m\u001b[1;33m)\u001b[0m\u001b[1;33m\u001b[0m\u001b[0m\n",
      "\u001b[0;31mAttributeError\u001b[0m: 'HelloApp' object has no attribute 'setpumpsample'"
     ]
    }
   ],
   "source": [
    "test_pumps('192.168.1.86')"
   ]
  },
  {
   "cell_type": "code",
   "execution_count": null,
   "metadata": {
    "collapsed": true
   },
   "outputs": [],
   "source": []
  }
 ],
 "metadata": {
  "kernelspec": {
   "display_name": "Python 3",
   "language": "python",
   "name": "python3"
  },
  "language_info": {
   "codemirror_mode": {
    "name": "ipython",
    "version": 3
   },
   "file_extension": ".py",
   "mimetype": "text/x-python",
   "name": "python",
   "nbconvert_exporter": "python",
   "pygments_lexer": "ipython3",
   "version": "3.5.2"
  }
 },
 "nbformat": 4,
 "nbformat_minor": 0
}
