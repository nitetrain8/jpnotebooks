{
 "cells": [
  {
   "cell_type": "code",
   "execution_count": 2,
   "metadata": {
    "collapsed": true
   },
   "outputs": [],
   "source": [
    "from hello.hello import *\n",
    "from time import sleep"
   ]
  },
  {
   "cell_type": "code",
   "execution_count": 12,
   "metadata": {
    "collapsed": true
   },
   "outputs": [],
   "source": [
    "class Pump():\n",
    "    def __init__(self, func_name, val2, on_sleep, off_sleep):\n",
    "        self.func_name = func_name\n",
    "        self.val2 = val2\n",
    "        self.on_sleep = on_sleep\n",
    "        self.off_sleep = off_sleep\n",
    "    def turn_on(self, app):\n",
    "        getattr(app, func_name)(1, self.val2)\n",
    "    def turn_off(self, app):\n",
    "        getattr(app, func_name)(0, 0)\n",
    "    def test_cycle(self, app):\n",
    "        self.turn_on(app)\n",
    "        sleep(self.on_sleep)\n",
    "        self.turn_off(app)\n",
    "        sleep(self.off_sleep)\n",
    "\n",
    "class MediaPump(Pump):\n",
    "    def __init__(self, on_time, off_time):\n",
    "        super().__init__('setpumpa', 500, on_time, off_time)\n",
    "        \n",
    "class AddnA(Pump):\n",
    "    def __init__(self, on_time, off_time):\n",
    "        super().__init__('setpumpb', 3, on_time, off_time)\n",
    "        \n",
    "class AddnB(Pump):\n",
    "    def __init__(self, on_time, off_time):\n",
    "        super().__init__('setpumpc', 3, on_time, off_time)\n",
    "        \n",
    "class Sample(Pump):\n",
    "    def __init__(self, on_time, off_time):\n",
    "        super().__init__('setpumpsample', 0, on_time, off_time)\n",
    "    def turn_on(self, app, val2=None):\n",
    "        getattr(app, self.func_name)(1, self.val2 if val2 is None else self.val2)\n",
    "    def turn_off(self, app):\n",
    "        getattr(app, self.func_name)(0, 0)    \n",
    "        \n",
    "media_pump_80 = MediaPump(2, 3.5)\n",
    "media_pump_3 = MediaPump(2, 2)\n",
    "addna = AddnA(2, 2)\n",
    "addnb = AddnB(2, 2)\n",
    "sample = Sample(2, 2)\n",
    "        \n",
    "def test_pumps(ip, sz=80):\n",
    "    app = open_hello(ip)\n",
    "    app.login()\n",
    "        \n",
    "    if sz == 80:\n",
    "        media_pump = media_pump_80\n",
    "    else:\n",
    "        media_pump = media_pump_3\n",
    "    \n",
    "    sample.val2 = 0\n",
    "    \n",
    "    for pump in (media_pump, addna, addnb, sample):\n",
    "        for i in range(10):\n",
    "            pump.test_cycle(app)\n",
    "    \n",
    "    sample.val2 = 1\n",
    "    \n",
    "    for i in range(10):\n",
    "        sample.test_cycle(app)"
   ]
  },
  {
   "cell_type": "code",
   "execution_count": 6,
   "metadata": {
    "collapsed": true
   },
   "outputs": [],
   "source": [
    "test_pumps('71.189.82.196:7')"
   ]
  }
 ],
 "metadata": {
  "kernelspec": {
   "display_name": "Python 3",
   "language": "python",
   "name": "python3"
  },
  "language_info": {
   "codemirror_mode": {
    "name": "ipython",
    "version": 3
   },
   "file_extension": ".py",
   "mimetype": "text/x-python",
   "name": "python",
   "nbconvert_exporter": "python",
   "pygments_lexer": "ipython3",
   "version": "3.5.2"
  }
 },
 "nbformat": 4,
 "nbformat_minor": 0
}
