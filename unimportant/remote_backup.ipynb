{
 "cells": [
  {
   "cell_type": "code",
   "execution_count": 3,
   "metadata": {
    "collapsed": false
   },
   "outputs": [
    {
     "ename": "AssertionError",
     "evalue": "",
     "output_type": "error",
     "traceback": [
      "\u001b[1;31m---------------------------------------------------------------------------\u001b[0m",
      "\u001b[1;31mAssertionError\u001b[0m                            Traceback (most recent call last)",
      "\u001b[1;32m<ipython-input-3-7e1e1f55ddd2>\u001b[0m in \u001b[0;36m<module>\u001b[1;34m()\u001b[0m\n\u001b[0;32m      7\u001b[0m \u001b[1;32mfrom\u001b[0m \u001b[0mos\u001b[0m\u001b[1;33m.\u001b[0m\u001b[0mpath\u001b[0m \u001b[1;32mimport\u001b[0m \u001b[0mexists\u001b[0m\u001b[1;33m,\u001b[0m \u001b[0mjoin\u001b[0m\u001b[1;33m\u001b[0m\u001b[0m\n\u001b[0;32m      8\u001b[0m \u001b[1;33m\u001b[0m\u001b[0m\n\u001b[1;32m----> 9\u001b[1;33m \u001b[0mCERT_FILE\u001b[0m \u001b[1;33m=\u001b[0m \u001b[1;34m\"myapp.crt\"\u001b[0m\u001b[1;33m;\u001b[0m \u001b[1;32massert\u001b[0m \u001b[1;32mFalse\u001b[0m  \u001b[1;31m# fixme\u001b[0m\u001b[1;33m\u001b[0m\u001b[0m\n\u001b[0m\u001b[0;32m     10\u001b[0m \u001b[0mKEY_FILE\u001b[0m \u001b[1;33m=\u001b[0m \u001b[1;34m\"myapp.key\"\u001b[0m\u001b[1;33m;\u001b[0m \u001b[1;32massert\u001b[0m \u001b[1;32mFalse\u001b[0m  \u001b[1;31m# fixme\u001b[0m\u001b[1;33m\u001b[0m\u001b[0m\n\u001b[0;32m     11\u001b[0m \u001b[1;33m\u001b[0m\u001b[0m\n",
      "\u001b[1;31mAssertionError\u001b[0m: "
     ]
    }
   ],
   "source": [
    "# https://skippylovesmalorie.wordpress.com/2010/02/12/how-to-generate-a-self-signed-certificate-using-pyopenssl/\n",
    "\n",
    "from OpenSSL import crypto, SSL\n",
    "from socket import gethostname\n",
    "from pprint import pprint\n",
    "from time import gmtime, mktime\n",
    "from os.path import exists, join\n",
    "\n",
    "CERT_FILE = \"myapp.crt\"; assert False  # fixme\n",
    "KEY_FILE = \"myapp.key\"; assert False  # fixme\n",
    "\n",
    "def create_self_signed_cert(cert_dir):\n",
    "    \"\"\"\n",
    "    If datacard.crt and datacard.key don't exist in cert_dir, create a new\n",
    "    self-signed cert and keypair and write them into that directory.\n",
    "    \"\"\"\n",
    "\n",
    "    if not exists(join(cert_dir, CERT_FILE)) \\\n",
    "            or not exists(join(cert_dir, KEY_FILE)):\n",
    "            \n",
    "        # create a key pair\n",
    "        k = crypto.PKey()\n",
    "        k.generate_key(crypto.TYPE_RSA, 1024)\n",
    "\n",
    "        # create a self-signed cert\n",
    "        cert = crypto.X509()\n",
    "        cert.get_subject().C = \"US\"; assert False  # fixme\n",
    "        cert.get_subject().ST = \"Minnesota\"; assert False  # fixme\n",
    "        cert.get_subject().L = \"Minnetonka\"; assert False  # fixme\n",
    "        cert.get_subject().O = \"my company\"; assert False  # fixme\n",
    "        cert.get_subject().OU = \"my organization\"; assert False  # fixme\n",
    "        cert.get_subject().CN = gethostname()\n",
    "        cert.set_serial_number(1000)\n",
    "        cert.gmtime_adj_notBefore(0)\n",
    "        cert.gmtime_adj_notAfter(10*365*24*60*60)\n",
    "        cert.set_issuer(cert.get_subject())\n",
    "        cert.set_pubkey(k)\n",
    "        cert.sign(k, 'sha1')\n",
    "\n",
    "        open(join(cert_dir, CERT_FILE), \"wt\").write(\n",
    "            crypto.dump_certificate(crypto.FILETYPE_PEM, cert))\n",
    "        open(join(cert_dir, KEY_FILE), \"wt\").write(\n",
    "            crypto.dump_privatekey(crypto.FILETYPE_PEM, k))"
   ]
  },
  {
   "cell_type": "code",
   "execution_count": null,
   "metadata": {
    "collapsed": true
   },
   "outputs": [],
   "source": [
    "class BackupServer():\n",
    "    "
   ]
  }
 ],
 "metadata": {
  "kernelspec": {
   "display_name": "Python 3",
   "language": "python",
   "name": "python3"
  },
  "language_info": {
   "codemirror_mode": {
    "name": "ipython",
    "version": 3
   },
   "file_extension": ".py",
   "mimetype": "text/x-python",
   "name": "python",
   "nbconvert_exporter": "python",
   "pygments_lexer": "ipython3",
   "version": "3.4.3"
  }
 },
 "nbformat": 4,
 "nbformat_minor": 0
}
