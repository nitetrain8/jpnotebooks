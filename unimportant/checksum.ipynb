{
 "cells": [
  {
   "cell_type": "code",
   "execution_count": 4,
   "metadata": {
    "collapsed": true
   },
   "outputs": [],
   "source": [
    "import hashlib\n",
    "from base64 import b64encode as b64\n",
    "import sys, os, pathlib\n",
    "import itertools"
   ]
  },
  {
   "cell_type": "code",
   "execution_count": 5,
   "metadata": {
    "collapsed": true
   },
   "outputs": [],
   "source": [
    "def fmt_hash(typ, meth, h):\n",
    "    return \"%s %s:%s\" % (typ, meth, h)\n",
    "\n",
    "def print_hash(typ, meth, h, f=None):\n",
    "    s = fmt_hash(typ, meth, h)\n",
    "    print(s, file=f or sys.stdout)\n",
    "    \n",
    "def print_hex(h, meth='', f=None):\n",
    "    print_hash('hex', meth, h, f)\n",
    "    \n",
    "def print_HEX(h, meth='', f=None):\n",
    "    print_hash('HEX', meth, h, f)\n",
    "    \n",
    "def print_b64(h, meth='', f=None):\n",
    "    print_hash('base64', meth, h, f)"
   ]
  },
  {
   "cell_type": "code",
   "execution_count": 36,
   "metadata": {
    "collapsed": true
   },
   "outputs": [],
   "source": [
    "def bhH(d):\n",
    "    b64s = b64(d)\n",
    "    hexs = ':'.join(hex(i)[2:] for i in d)\n",
    "    HEXS = hexs.upper()\n",
    "    return b64s, hexs, HEXS  "
   ]
  },
  {
   "cell_type": "code",
   "execution_count": 7,
   "metadata": {
    "collapsed": true
   },
   "outputs": [],
   "source": [
    "def calc_checksum_sha256(s):\n",
    "    if not isinstance(s, bytes):\n",
    "        s = s.encode('ascii')\n",
    "    d = hashlib.sha256(s).digest()\n",
    "    b, h, H = bhH(d)\n",
    "    return d, b, h, H\n",
    "\n",
    "def checksum_sha256(s):\n",
    "    d, b, h, H = calc_checksum_sha256(s)\n",
    "    m = 'sha256'\n",
    "    print_hex(h, m)\n",
    "    print_HEX(H, m)\n",
    "    print_b64(b, m)\n",
    "    return d, b, h, H"
   ]
  },
  {
   "cell_type": "code",
   "execution_count": 8,
   "metadata": {
    "collapsed": true
   },
   "outputs": [],
   "source": [
    "class UnknownMethod(ValueError):\n",
    "    def __init__(self, msg):\n",
    "        super().__init__(\"unsupported hash method: %s\" % hash_method)\n",
    "\n",
    "        \n",
    "def print_checksum(b, h, H, hash_method):\n",
    "    m = hash_method \n",
    "    print_hex(h, m)\n",
    "    print_HEX(H, m)\n",
    "    print_b64(b, m)\n",
    "    \n",
    "def calc_checksum(s, meth):\n",
    "    d = meth(s)\n",
    "    b, h, H = bhH(d)\n",
    "    return d, b, h, H\n",
    "        \n",
    "def do_checksum(s, meth):\n",
    "    if not isinstance(s, bytes):\n",
    "        s = s.encode('ascii')\n",
    "    d = meth(s)\n",
    "    b, h, H = bhH(d)\n",
    "    return d, b, h, H\n",
    "\n",
    "def meth_lookup(hash_method):\n",
    "    if hash_method=='sha256':\n",
    "        meth = hashlib.sha256\n",
    "    elif hash_method=='sha1':\n",
    "        meth = hashlib.sha1\n",
    "    else:\n",
    "        raise UnknownMethod(hash_method)\n",
    "    return meth\n",
    "        \n",
    "def checksum(ob, hash_method='sha256', display=True):\n",
    "    if isinstance(ob, (str)):\n",
    "        ob = ob.encode('ascii')\n",
    "    elif isinstance(ob, bytes):\n",
    "        pass\n",
    "    elif hasattr(ob, 'read'):\n",
    "        ob = ob.read()\n",
    "    else:\n",
    "        raise TypeError(type(ob))\n",
    "        \n",
    "    meth = meth_lookup(hash_method)\n",
    "    \n",
    "    d, b, h, H = do_checksum(ob, meth)\n",
    "    if display:\n",
    "        print_checksum(b, h, H, hash_method)\n",
    "    return d, b, h, H"
   ]
  },
  {
   "cell_type": "code",
   "execution_count": 37,
   "metadata": {
    "collapsed": false
   },
   "outputs": [],
   "source": [
    "def pl2s(p):\n",
    "    return str(p)\n",
    "\n",
    "def get_bytes(ob):\n",
    "    if isinstance(ob, bytes):\n",
    "        return ob\n",
    "    if isinstance(ob, str):\n",
    "        return ob.encode('ascii')\n",
    "    if isinstance(ob, pathlib.Path):\n",
    "        with open(pl2s(ob), 'rb') as f:\n",
    "            return f.read()\n",
    "    if hasattr(ob, 'read'):\n",
    "        return ob.read()\n",
    "    raise TypeError(type(ob))\n",
    "    \n",
    "    \n",
    "def _iter_update(n, sz):\n",
    "    unit = 'bytes'\n",
    "    if sz > 1024:\n",
    "        sz //= 1024; n //=1024\n",
    "        unit = 'KB'\n",
    "    if sz > 1024:\n",
    "        sz //= 1024; n //=1024\n",
    "        unit = 'MB'\n",
    "    print(\"\\rReading file %d/%d %s %.1f%%         \" % (n, sz, unit, n/sz*100), end=\"\")\n",
    "    \n",
    "def checksum_file(file, method='sha256'):\n",
    "    if isinstance(file, (str, pathlib.Path)):\n",
    "        if isinstance(file, pathlib.Path):\n",
    "            file = pl2s(file)\n",
    "        meth = meth_lookup(method)\n",
    "        with open(file, 'rb') as f:\n",
    "            o = meth()\n",
    "            sz = os.stat(file).st_size\n",
    "            n = 0\n",
    "            while True:\n",
    "                b = f.read(1024*1024*10)\n",
    "                if not b:\n",
    "                    break\n",
    "                n += len(b)\n",
    "                o.update(b)\n",
    "                _iter_update(n, sz)\n",
    "            print(\"\\n\")\n",
    "            d = o.digest()\n",
    "            b, h, H = bhH(d)\n",
    "            print_checksum(b, h, H, method)                \n",
    "    else:\n",
    "        return checksum(file, method)"
   ]
  },
  {
   "cell_type": "code",
   "execution_count": 38,
   "metadata": {
    "collapsed": false
   },
   "outputs": [
    {
     "name": "stdout",
     "output_type": "stream",
     "text": [
      "\r",
      "Reading file 16/16 KB 100.0%         \n",
      "\n",
      "hex sha256:fd:25:47:72:4b:50:5f:48:7e:6d:cb:29:ec:2e:cf:f3:af:35:a8:41:a7:7a:b2:e8:5f:d8:73:50:ab:d3:65:70\n",
      "HEX sha256:FD:25:47:72:4B:50:5F:48:7E:6D:CB:29:EC:2E:CF:F3:AF:35:A8:41:A7:7A:B2:E8:5F:D8:73:50:AB:D3:65:70\n",
      "base64 sha256:b'/SVHcktQX0h+bcsp7C7P8681qEGnerLoX9hzUKvTZXA='\n"
     ]
    }
   ],
   "source": [
    "file = \"E:\\\\BizHawk-1.11.6\\\\Firmware\\\\GBA.BIOS\"\n",
    "d=checksum_file(file)"
   ]
  },
  {
   "cell_type": "code",
   "execution_count": 39,
   "metadata": {
    "collapsed": false
   },
   "outputs": [],
   "source": [
    "def compare(h1, h2, method, typ):\n",
    "    match = \"MATCH\"\n",
    "    if h1 != h2:\n",
    "        match = \"MISMATCH\"\n",
    "    print(match)\n",
    "    print_hash(typ, method, h1)\n",
    "    print_hash(typ, method, h2)\n",
    "    def putc(c): print(c, end=\"\")\n",
    "    if h1 != h2:\n",
    "        f1, f2 = fmt_hash(typ, method, h1), fmt_hash(typ, method, h2)\n",
    "        for a, b in itertools.zip_longest(f1, f2, fillvalue=\" \"):\n",
    "            if a != b:\n",
    "                putc(\"^\")\n",
    "            else:\n",
    "                putc(\" \")\n",
    "            \n",
    "                \n",
    "    \n",
    "\n",
    "def compare_checksum(ob, cs, cs_type='hex', method='sha256'):\n",
    "    s = get_bytes(ob)\n",
    "    if method=='sha256':\n",
    "        d, b, h, H = calc_checksum_sha256(s)\n",
    "    else:\n",
    "        raise UnknownMethod(method)\n",
    "    if cs_type == 'hex':\n",
    "        compare(h, cs, method, cs_type)\n",
    "    elif cs_type == 'HEX':\n",
    "        compare(H, cs, method, cs_type)\n",
    "    elif cs_type in ('b64', 'base64'):\n",
    "        compare(b, cs, method, cs_type)\n",
    "    else:\n",
    "        raise UnknownMethod(cs_type)\n",
    "        \n",
    "        \n",
    "            \n",
    "    "
   ]
  },
  {
   "cell_type": "code",
   "execution_count": 40,
   "metadata": {
    "collapsed": true
   },
   "outputs": [],
   "source": [
    "def test():\n",
    "    p = pathlib.Path(file)\n",
    "    cs = \"FD2547724B505F487E6DCB29EC2ECFF3AF35A841A77Aa2E85FD87350ABD36570\"\n",
    "    compare_checksum(p, cs, 'HEX')"
   ]
  },
  {
   "cell_type": "code",
   "execution_count": 41,
   "metadata": {
    "collapsed": false
   },
   "outputs": [],
   "source": [
    "def main():\n",
    "    fp, cs = sys.argv[1:3]\n",
    "    for typ in ('HEX', 'hex', 'base64', 'HEX'):\n",
    "        if typ in sys.argv:\n",
    "            break\n",
    "    for meth in (\"sha256\",):\n",
    "        if meth in sys.argv:\n",
    "            break\n",
    "    fp = pathlib.Path(fp)\n",
    "    compare_checksum(fp, cs, typ, meth)"
   ]
  },
  {
   "cell_type": "code",
   "execution_count": 16,
   "metadata": {
    "collapsed": false
   },
   "outputs": [
    {
     "ename": "NameError",
     "evalue": "name 'p' is not defined",
     "output_type": "error",
     "traceback": [
      "\u001b[1;31m---------------------------------------------------------------------------\u001b[0m",
      "\u001b[1;31mNameError\u001b[0m                                 Traceback (most recent call last)",
      "\u001b[1;32m<ipython-input-16-7b5eb9363035>\u001b[0m in \u001b[0;36m<module>\u001b[1;34m()\u001b[0m\n\u001b[1;32m----> 1\u001b[1;33m \u001b[0msys\u001b[0m\u001b[1;33m.\u001b[0m\u001b[0margv\u001b[0m\u001b[1;33m[\u001b[0m\u001b[1;36m1\u001b[0m\u001b[1;33m:\u001b[0m\u001b[1;36m3\u001b[0m\u001b[1;33m]\u001b[0m \u001b[1;33m=\u001b[0m \u001b[1;33m[\u001b[0m\u001b[0mp\u001b[0m\u001b[1;33m,\u001b[0m \u001b[0mcs\u001b[0m\u001b[1;33m]\u001b[0m\u001b[1;33m\u001b[0m\u001b[0m\n\u001b[0m\u001b[0;32m      2\u001b[0m \u001b[1;32mif\u001b[0m \u001b[0m__name__\u001b[0m \u001b[1;33m==\u001b[0m \u001b[1;34m'__main__'\u001b[0m\u001b[1;33m:\u001b[0m\u001b[1;33m\u001b[0m\u001b[0m\n\u001b[0;32m      3\u001b[0m     \u001b[0mmain\u001b[0m\u001b[1;33m(\u001b[0m\u001b[1;33m)\u001b[0m\u001b[1;33m\u001b[0m\u001b[0m\n",
      "\u001b[1;31mNameError\u001b[0m: name 'p' is not defined"
     ]
    }
   ],
   "source": [
    "sys.argv[1:3] = [p, cs]\n",
    "if __name__ == '__main__':\n",
    "    main()"
   ]
  },
  {
   "cell_type": "code",
   "execution_count": 34,
   "metadata": {
    "collapsed": false
   },
   "outputs": [],
   "source": [
    "from os import listdir as ls\n",
    "\n",
    "p = [f for f in ls(\"E:\\\\downloads\\\\\") if 'river' in f]\n",
    "import os.path\n",
    "p = os.path.join(\"E:\\\\downloads\", p[0])"
   ]
  },
  {
   "cell_type": "code",
   "execution_count": 42,
   "metadata": {
    "collapsed": false
   },
   "outputs": [
    {
     "name": "stdout",
     "output_type": "stream",
     "text": [
      "Reading file 3167/3167 MB 100.0%         \n",
      "\n",
      "hex sha1:b:cf:c5:40:19:ea:17:5b:1e:e5:1f:6d:2b:20:7a:3d:14:dd:2b:58\n",
      "HEX sha1:B:CF:C5:40:19:EA:17:5B:1E:E5:1F:6D:2B:20:7A:3D:14:DD:2B:58\n",
      "base64 sha1:b'C8/FQBnqF1se5R9tKyB6PRTdK1g='\n"
     ]
    }
   ],
   "source": [
    "checksum_file(p, 'sha1')"
   ]
  }
 ],
 "metadata": {
  "kernelspec": {
   "display_name": "Python 3",
   "language": "python",
   "name": "python3"
  },
  "language_info": {
   "codemirror_mode": {
    "name": "ipython",
    "version": 3
   },
   "file_extension": ".py",
   "mimetype": "text/x-python",
   "name": "python",
   "nbconvert_exporter": "python",
   "pygments_lexer": "ipython3",
   "version": "3.4.3"
  }
 },
 "nbformat": 4,
 "nbformat_minor": 0
}
