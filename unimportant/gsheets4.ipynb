{
 "cells": [
  {
   "cell_type": "code",
   "execution_count": 1,
   "metadata": {
    "collapsed": true
   },
   "outputs": [],
   "source": [
    "from urllib.request import urlopen\n",
    "from collections import OrderedDict\n",
    "url = \"https://sheets.googleapis.com/$discovery/rest?version=v4\"\n",
    "\n",
    "r = urlopen(url).read()\n",
    "import json\n",
    "j=json.loads(r.decode(), object_hook=OrderedDict)\n",
    "\n",
    "def dump_l(l, indent=0):\n",
    "    for item in l:\n",
    "        if isinstance(item, list):\n",
    "            dump_l(item, indent+1)\n",
    "        elif isinstance(item, dict):\n",
    "            dump_d(item, indent+1)\n",
    "        else:\n",
    "            print(indent*\" \", item, sep=\"\")\n",
    "        \n",
    "def dump_d(d, indent=0):\n",
    "    for k, v in d.items():\n",
    "        if isinstance(v, dict):\n",
    "            print(indent*\" \", k, \":\", sep=\"\")\n",
    "            dump_d(v, indent+1)\n",
    "        elif isinstance(v, list):\n",
    "            dump_l(v, indent+1)\n",
    "        else:\n",
    "            assert isinstance(v, (int, str)), type(v)\n",
    "            print(indent*\" \", k, ': ', v, sep=\"\")\n",
    "            \n",
    "def dump_resources(d, indent=0):\n",
    "    for k, v in d.items():\n",
    "        if k == 'resources':\n",
    "            for k2, v2 in v.items():\n",
    "                print(indent*\" \", k2, \":\", sep=\"\")\n",
    "                dump_resources(v2, indent+1)"
   ]
  },
  {
   "cell_type": "code",
   "execution_count": 2,
   "metadata": {
    "collapsed": true
   },
   "outputs": [],
   "source": [
    "def reload():\n",
    "    import sys\n",
    "    for m in list(sys.modules):\n",
    "        if 'goffice3' in m:\n",
    "            del sys.modules[m]\n",
    "    exec(\"from goffice3 import *\", globals(), globals())\n",
    "reload()"
   ]
  },
  {
   "cell_type": "code",
   "execution_count": 3,
   "metadata": {
    "collapsed": false
   },
   "outputs": [
    {
     "name": "stderr",
     "output_type": "stream",
     "text": [
      "1465786977.691819 goffice3._base DEBUG (49): NEW: instance of <Session>.\n",
      "1465786977.695819 goffice3._base DEBUG (49): NEW: instance of <SheetsAPI>.\n",
      "1465786977.697819 goffice3._base DEBUG (49): NEW: instance of <SpreadsheetsCollectionAPI>.\n",
      "1465786977.700819 goffice3._base DEBUG (49): NEW: instance of <SheetsCollectionAPI>.\n",
      "1465786977.70382 goffice3._base DEBUG (49): NEW: instance of <ValuesColletionAPI>.\n",
      "1465786977.70582 goffice3._base DEBUG (49): NEW: instance of <Drive>.\n",
      "1465786977.70882 goffice3._base DEBUG (49): NEW: instance of <Session>.\n",
      "1465786977.71282 goffice3._base DEBUG (49): NEW: instance of <DriveAPI>.\n",
      "1465786977.71582 goffice3._base DEBUG (49): NEW: instance of <FilesAPI>.\n",
      "1465786977.718821 goffice3.session DEBUG (72): Refreshing authentication key\n",
      "1465786981.035034 goffice3.session DEBUG (77): GET: https://www.googleapis.com/drive/v3/files/?\n",
      "1465786981.322053 goffice3._base DEBUG (49): NEW: instance of <DriveFiles>.\n",
      "1465786981.324053 goffice3._base DEBUG (49): NEW: instance of <SpreadsheetFile>.\n",
      "1465786981.326053 goffice3._base DEBUG (49): NEW: instance of <DriveFile>.\n",
      "1465786981.327053 goffice3._base DEBUG (34): DESTROYED: DriveFiles([SpreadsheetFile(\"Slayer Tasks\"), DriveFile(\"How to get started with Drive\")]) object.\n",
      "1465786981.329053 goffice3._base DEBUG (34): DESTROYED: DriveFile(\"How to get started with Drive\") object.\n",
      "1465786981.331054 goffice3._base DEBUG (34): DESTROYED: SpreadsheetFile(\"Slayer Tasks\") object.\n",
      "1465786981.332054 goffice3.session DEBUG (77): GET: https://sheets.googleapis.com/v4/spreadsheets/10x9ziXbfVm5ZcchAZjW1Zi7L0c0tDJfPhIvsnryvQZY/values/A2/?\n"
     ]
    }
   ],
   "source": [
    "import os\n",
    "from goffice3 import load_creds, Session, Drive, SheetsAPI\n",
    "import json\n",
    "\n",
    "os.chdir(os.path.expanduser(\"~/Documents/pyprojects/google_auths/.auth\"))\n",
    "creds = load_creds('_exp_auth_key.json')\n",
    "s = Session(creds)\n",
    "sapi = SheetsAPI(s)\n",
    "d = Drive(creds)\n",
    "\n",
    "ssid = d.Files['Slayer Tasks'].id\n",
    "\n",
    "c = sapi.spreadsheets.values.raw_get(ssid, \"A2\")"
   ]
  },
  {
   "cell_type": "code",
   "execution_count": 4,
   "metadata": {
    "collapsed": false
   },
   "outputs": [
    {
     "name": "stderr",
     "output_type": "stream",
     "text": [
      "1465786981.88909 goffice3._base DEBUG (49): NEW: instance of <Drive>.\n",
      "1465786981.89009 goffice3._base DEBUG (49): NEW: instance of <DriveAPI>.\n",
      "1465786981.89209 goffice3._base DEBUG (49): NEW: instance of <FilesAPI>.\n",
      "1465786981.89309 goffice3._base DEBUG (34): DESTROYED: <goffice3.drive.drive.Drive object at 0x0000000004EDEEF0> object.\n",
      "1465786981.89509 goffice3.session DEBUG (77): GET: https://www.googleapis.com/drive/v3/files/?\n",
      "1465786982.103103 goffice3._base DEBUG (49): NEW: instance of <DriveFiles>.\n",
      "1465786982.104103 goffice3._base DEBUG (49): NEW: instance of <SpreadsheetFile>.\n",
      "1465786982.107104 goffice3._base DEBUG (49): NEW: instance of <DriveFile>.\n",
      "1465786982.109104 goffice3._base DEBUG (34): DESTROYED: DriveFiles([SpreadsheetFile(\"Slayer Tasks\"), DriveFile(\"How to get started with Drive\")]) object.\n",
      "1465786982.112104 goffice3._base DEBUG (34): DESTROYED: DriveFile(\"How to get started with Drive\") object.\n",
      "1465786982.113104 goffice3._base DEBUG (34): DESTROYED: SpreadsheetFile(\"Slayer Tasks\") object.\n"
     ]
    },
    {
     "data": {
      "text/plain": [
       "{'id': '10x9ziXbfVm5ZcchAZjW1Zi7L0c0tDJfPhIvsnryvQZY',\n",
       " 'kind': 'drive#file',\n",
       " 'mimeType': 'application/vnd.google-apps.spreadsheet',\n",
       " 'name': 'Slayer Tasks'}"
      ]
     },
     "execution_count": 4,
     "metadata": {},
     "output_type": "execute_result"
    }
   ],
   "source": [
    "d = Drive(session=s)\n",
    "d.Files[0]._js_ob"
   ]
  },
  {
   "cell_type": "code",
   "execution_count": 5,
   "metadata": {
    "collapsed": false
   },
   "outputs": [
    {
     "name": "stderr",
     "output_type": "stream",
     "text": [
      "1465786982.139106 goffice3.session DEBUG (77): GET: https://www.googleapis.com/drive/v3/files/?\n",
      "1465786982.261113 goffice3._base DEBUG (49): NEW: instance of <DriveFiles>.\n",
      "1465786982.262114 goffice3._base DEBUG (49): NEW: instance of <SpreadsheetFile>.\n",
      "1465786982.263114 goffice3._base DEBUG (49): NEW: instance of <DriveFile>.\n",
      "1465786982.265114 goffice3._base DEBUG (34): DESTROYED: DriveFiles([SpreadsheetFile(\"Slayer Tasks\"), DriveFile(\"How to get started with Drive\")]) object.\n",
      "1465786982.266114 goffice3._base DEBUG (34): DESTROYED: DriveFile(\"How to get started with Drive\") object.\n",
      "1465786982.267114 goffice3._base DEBUG (34): DESTROYED: SpreadsheetFile(\"Slayer Tasks\") object.\n"
     ]
    },
    {
     "name": "stdout",
     "output_type": "stream",
     "text": [
      "SpreadsheetFile(\"Slayer Tasks\")\n"
     ]
    }
   ],
   "source": [
    "print(d.Files[0])"
   ]
  },
  {
   "cell_type": "code",
   "execution_count": 6,
   "metadata": {
    "collapsed": false
   },
   "outputs": [
    {
     "name": "stderr",
     "output_type": "stream",
     "text": [
      "1465786995.1614 goffice3.session DEBUG (77): GET: https://www.googleapis.com/drive/v3/files/?\n",
      "1465786995.348411 goffice3._base DEBUG (49): NEW: instance of <DriveFiles>.\n",
      "1465786995.349411 goffice3._base DEBUG (49): NEW: instance of <SpreadsheetFile>.\n",
      "1465786995.350411 goffice3._base DEBUG (49): NEW: instance of <DriveFile>.\n"
     ]
    },
    {
     "data": {
      "text/plain": [
       "DriveFiles([SpreadsheetFile(\"Slayer Tasks\"), DriveFile(\"How to get started with Drive\")])"
      ]
     },
     "execution_count": 6,
     "metadata": {},
     "output_type": "execute_result"
    }
   ],
   "source": [
    "d.Files"
   ]
  },
  {
   "cell_type": "code",
   "execution_count": 7,
   "metadata": {
    "collapsed": false
   },
   "outputs": [
    {
     "name": "stderr",
     "output_type": "stream",
     "text": [
      "1465787094.929218 goffice3.session DEBUG (77): GET: https://sheets.googleapis.com/v4/spreadsheets/10x9ziXbfVm5ZcchAZjW1Zi7L0c0tDJfPhIvsnryvQZY/values/A1:L1/?\n"
     ]
    },
    {
     "data": {
      "text/plain": [
       "{'majorDimension': 'ROWS',\n",
       " 'range': 'Tasks!A1:L1',\n",
       " 'values': [['Monster',\n",
       "   'Style',\n",
       "   'Invo',\n",
       "   'Food?',\n",
       "   'Pots',\n",
       "   'Pet',\n",
       "   'High Pop World?',\n",
       "   'Do/Pref/Skip/Block',\n",
       "   'Slayer xp',\n",
       "   'Combat xp',\n",
       "   'GP/hr',\n",
       "   'Notes']]}"
      ]
     },
     "execution_count": 7,
     "metadata": {},
     "output_type": "execute_result"
    }
   ],
   "source": [
    "sapi.spreadsheets.values.raw_get(ssid, \"A1:L1\")"
   ]
  },
  {
   "cell_type": "code",
   "execution_count": null,
   "metadata": {
    "collapsed": true
   },
   "outputs": [],
   "source": []
  }
 ],
 "metadata": {
  "celltoolbar": "Raw Cell Format",
  "kernelspec": {
   "display_name": "Python 3",
   "language": "python",
   "name": "python3"
  },
  "language_info": {
   "codemirror_mode": {
    "name": "ipython",
    "version": 3
   },
   "file_extension": ".py",
   "mimetype": "text/x-python",
   "name": "python",
   "nbconvert_exporter": "python",
   "pygments_lexer": "ipython3",
   "version": "3.4.3"
  }
 },
 "nbformat": 4,
 "nbformat_minor": 0
}
