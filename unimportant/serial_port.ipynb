{
 "cells": [
  {
   "cell_type": "code",
   "execution_count": 1,
   "metadata": {
    "collapsed": true
   },
   "outputs": [],
   "source": [
    "class SerialPort():\n",
    "    def __init__(self):\n",
    "        pass"
   ]
  },
  {
   "cell_type": "code",
   "execution_count": 17,
   "metadata": {
    "collapsed": true
   },
   "outputs": [],
   "source": [
    "from ctypes import *\n",
    "from pywintypes import *\n",
    "from ctypes.wintypes import *\n",
    "from win32file import *\n",
    "from win32api import CloseHandle\n",
    "import win32file\n",
    "\n",
    "LPCHAR = POINTER(CHAR)"
   ]
  },
  {
   "cell_type": "code",
   "execution_count": 18,
   "metadata": {
    "collapsed": true
   },
   "outputs": [],
   "source": [
    "user32 = windll.user32\n",
    "kernel32 = windll.kernel32"
   ]
  },
  {
   "cell_type": "code",
   "execution_count": 42,
   "metadata": {
    "collapsed": false
   },
   "outputs": [],
   "source": [
    "CreateFile = win32file.CreateFile\n",
    "def create_file(filename, access=GENERIC_READ|GENERIC_WRITE, share=0, sec=None, disp=OPEN_EXISTING, attrib=0, htmpl=None):\n",
    "    return CreateFile(filename, access, share, sec, disp, attrib, htmpl)\n",
    "\n",
    "GetCommState = win32file.GetCommState"
   ]
  },
  {
   "cell_type": "code",
   "execution_count": 58,
   "metadata": {
    "collapsed": false
   },
   "outputs": [],
   "source": [
    "hfile = create_file('\\\\\\\\.\\\\COM1')"
   ]
  },
  {
   "cell_type": "code",
   "execution_count": 59,
   "metadata": {
    "collapsed": true
   },
   "outputs": [],
   "source": [
    "dcb = GetCommState(hfile)"
   ]
  },
  {
   "cell_type": "code",
   "execution_count": 61,
   "metadata": {
    "collapsed": false
   },
   "outputs": [
    {
     "ename": "NameError",
     "evalue": "name 'GetCommProperties' is not defined",
     "output_type": "error",
     "traceback": [
      "\u001b[1;31m---------------------------------------------------------------------------\u001b[0m",
      "\u001b[1;31mNameError\u001b[0m                                 Traceback (most recent call last)",
      "\u001b[1;32m<ipython-input-61-85cdf4804dc5>\u001b[0m in \u001b[0;36m<module>\u001b[1;34m()\u001b[0m\n\u001b[1;32m----> 1\u001b[1;33m \u001b[0mcomprop\u001b[0m \u001b[1;33m=\u001b[0m \u001b[0mGetCommProperties\u001b[0m\u001b[1;33m(\u001b[0m\u001b[0mhfile\u001b[0m\u001b[1;33m)\u001b[0m\u001b[1;33m\u001b[0m\u001b[0m\n\u001b[0m",
      "\u001b[1;31mNameError\u001b[0m: name 'GetCommProperties' is not defined"
     ]
    }
   ],
   "source": [
    "comprop = GetCo(hfile)"
   ]
  },
  {
   "cell_type": "code",
   "execution_count": 60,
   "metadata": {
    "collapsed": false
   },
   "outputs": [
    {
     "name": "stdout",
     "output_type": "stream",
     "text": [
      "BaudRate 1200\n",
      "ByteSize 7\n",
      "EofChar \u0000\n",
      "ErrorChar \u0000\n",
      "EvtChar \u0000\n",
      "Parity 0\n",
      "StopBits 0\n",
      "XoffChar \u0013\n",
      "XoffLim 512\n",
      "XonChar \u0011\n",
      "XonLim 2048\n",
      "wReserved 0\n",
      "wReserved1 0\n"
     ]
    }
   ],
   "source": [
    "for attr in dir(dcb):\n",
    "    if not attr.startswith(\"__\"):\n",
    "        print(attr, getattr(dcb, attr))"
   ]
  },
  {
   "cell_type": "code",
   "execution_count": 51,
   "metadata": {
    "collapsed": true
   },
   "outputs": [],
   "source": [
    "CloseHandle(hfile)"
   ]
  },
  {
   "cell_type": "code",
   "execution_count": null,
   "metadata": {
    "collapsed": true
   },
   "outputs": [],
   "source": []
  }
 ],
 "metadata": {
  "kernelspec": {
   "display_name": "Python 3",
   "language": "python",
   "name": "python3"
  },
  "language_info": {
   "codemirror_mode": {
    "name": "ipython",
    "version": 3
   },
   "file_extension": ".py",
   "mimetype": "text/x-python",
   "name": "python",
   "nbconvert_exporter": "python",
   "pygments_lexer": "ipython3",
   "version": "3.4.3"
  }
 },
 "nbformat": 4,
 "nbformat_minor": 0
}
