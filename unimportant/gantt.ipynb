{
 "cells": [
  {
   "cell_type": "code",
   "execution_count": 1,
   "metadata": {
    "collapsed": false
   },
   "outputs": [
    {
     "data": {
      "text/plain": [
       "' GanttProject csv file generator \\n\\nHelper script for generating CSV files for proper importing into GanttProject '"
      ]
     },
     "execution_count": 1,
     "metadata": {},
     "output_type": "execute_result"
    }
   ],
   "source": [
    "\"\"\" GanttProject csv file generator \n",
    "\n",
    "Helper script for generating CSV files for proper importing into GanttProject \"\"\""
   ]
  },
  {
   "cell_type": "code",
   "execution_count": 2,
   "metadata": {
    "collapsed": false
   },
   "outputs": [],
   "source": [
    "_fields_str = \"ID,Name,Begin date,End date,Duration,Completion,Cost,Coordinator,Predecessors,Outline number,Resources,Web Link,Notes\"\n",
    "_fields = _fields_str.split(\",\")\n",
    "_fields2 = [(f, f.lower().replace(\" \", \"_\")) for f in _fields]"
   ]
  },
  {
   "cell_type": "code",
   "execution_count": 3,
   "metadata": {
    "collapsed": false
   },
   "outputs": [],
   "source": [
    "import itertools\n",
    "import io\n",
    "import datetime\n",
    "import collections\n",
    "\n",
    "def __get_id():\n",
    "    c = itertools.count(1)\n",
    "    while True:\n",
    "        yield next(c)\n",
    "        \n",
    "_get_id = __get_id().__next__\n",
    "\n",
    "\n",
    "class _GanttData():\n",
    "    \"\"\" POD class for CSV data representation. \"\"\"\n",
    "    _fields_ = _fields2.copy()\n",
    "    def __init__(self, id=0, name=\"\",begin_date=\"\",\n",
    "                     end_date=\"\",duration=\"\",completion=\"\",\n",
    "                     cost=\"\",coordinator=\"\",predecessors=\"\",\n",
    "                     outline_number=\"\",resources=\"\",web_link=\"\",notes=\"\"):\n",
    "        \n",
    "        # fields corresponding to csv fields\n",
    "        self.id = id\n",
    "        self.name = name\n",
    "        self.begin_date = begin_date\n",
    "        self.end_date = end_date\n",
    "        self.duration = duration\n",
    "        self.completion = completion\n",
    "        self.cost = cost\n",
    "        self.coordinator = coordinator\n",
    "        self.predecessors = predecessors\n",
    "        self.outline_number = outline_number\n",
    "        self.resources = resources\n",
    "        self.web_link = web_link\n",
    "        self.notes = notes\n",
    "        \n",
    "    def csv_line(self):\n",
    "        return \",\".join(str(getattr(self, attr)) for _, attr in self._fields_)\n",
    "    \n",
    "    \n",
    "\n",
    "class GanttTask(_GanttData):\n",
    "    _fields_ = _fields2.copy()\n",
    "    def __init__(self, name, project, parent=None, id=None, begin_date=None,\n",
    "                         duration=1, completion=0,\n",
    "                         cost=\"\",coordinator=\"\",predecessors=\"\", resources=\"\",web_link=\"\",notes=\"\"):\n",
    "        \n",
    "        super().__init__(id, name, begin_date, \"\", duration, completion,\n",
    "                               cost, coordinator, predecessors, \"\", resources, web_link, notes)\n",
    "        \n",
    "        # internal use\n",
    "        self.project = project    # project reference\n",
    "        self._subtasks = []       # child tasks\n",
    "        self.parent = parent      # parent task\n",
    "    \n",
    "    def write(self, b):\n",
    "        b.write(self.csv_line())\n",
    "        for c in self._subtasks:\n",
    "            c.write(b)\n",
    "    \n",
    "    def add_subtask(self, c):\n",
    "        self._subtasks.append(c)\n",
    "        \n",
    "    def subtask(self, name=\"\",begin_date=\"\",\n",
    "                         end_date=\"\",duration=\"\",completion=\"\",\n",
    "                         cost=\"\",coordinator=\"\",predecessors=\"\",\n",
    "                         resources=\"\",web_link=\"\",notes=\"\"):\n",
    "        t = self.project.subtask(self, name, begin_date, duration, completion, cost, coordinator, \n",
    "                                predecessors, resources, web_link, notes)\n",
    "        return t\n",
    "        \n",
    "    def count_subtasks(self):\n",
    "        n = 0\n",
    "        n += len(self._subtasks)\n",
    "        for c in self._subtasks:\n",
    "            n += c.count_subtasks()\n",
    "        return n\n",
    "    \n",
    "    def iter_tasks(self):\n",
    "        for c in self._subtasks:\n",
    "            yield c\n",
    "            yield from c.iter_tasks()\n",
    "            \n",
    "    def index(self, item):\n",
    "        return self._subtasks.index(item)\n",
    "    \n",
    "    def resolve_outlines(self, ol):\n",
    "        self.outline_number = ol\n",
    "        for i, st in enumerate(self._subtasks, 1):\n",
    "            s = str(i)\n",
    "            st.resolve_outlines(ol + \".\" + s)\n",
    "        \n",
    "class GanttProject():\n",
    "    _fields_ = _fields2\n",
    "    def __init__(self, name=\"Project\"):\n",
    "        self.name = name\n",
    "        self._tasks = []\n",
    "        self._id_counter = itertools.count(1)\n",
    "        \n",
    "    def __getitem__(self, i):\n",
    "        return self._tasks[i]\n",
    "        \n",
    "    def _next_id(self):\n",
    "        #n = 0\n",
    "        #n += len(self._tasks)\n",
    "        #for t in self._tasks:\n",
    "        #    n += t.count_subtasks()\n",
    "        #return n\n",
    "        #return next(self._id_counter)\n",
    "        return self.total_tasks()\n",
    "    \n",
    "    def total_tasks(self):\n",
    "        n = len(self._tasks)\n",
    "        for t in self._tasks:\n",
    "            n += t.count_subtasks()\n",
    "        return n\n",
    "        \n",
    "    def new_task(self, name=\"\", begin_date=None,\n",
    "                         duration=None, completion=0,\n",
    "                         cost=0, coordinator=\"\", predecessors=\"\", \n",
    "                         resources=\"\", web_link=\"\", notes=\"\"):\n",
    "        id = self._next_id()\n",
    "        t = GanttTask(name, self, self, id, begin_date, duration, completion, cost, coordinator, \n",
    "                     predecessors, resources, web_link, notes)\n",
    "        self._tasks.append(t)\n",
    "        t.outline_number = self._calc_outline(self, t)\n",
    "        return t\n",
    "    \n",
    "    def _calc_outline(self, parent, task):\n",
    "        if self is parent:\n",
    "            return str(self._tasks.index(task)+1)\n",
    "        else:\n",
    "            return parent.outline_number + \".\" + str(parent.index(task) + 1)\n",
    "    \n",
    "    def subtask(self, parent, name=\"\", begin_date=None,\n",
    "                         duration=None, completion=0,\n",
    "                         cost=0, coordinator=\"\", predecessors=\"\", \n",
    "                        resources=\"\", web_link=\"\", notes=\"\"):\n",
    "        id = self._next_id()\n",
    "        t = GanttTask(name, self, parent, id, begin_date, duration, completion, cost, \n",
    "                      coordinator, predecessors, resources, web_link, notes)\n",
    "        parent.add_subtask(t)\n",
    "        t.outline_number = self._calc_outline(parent, t)\n",
    "        return t\n",
    "    \n",
    "    def iter_tasks(self):\n",
    "        for t in self._tasks:\n",
    "            yield t\n",
    "            yield from t.iter_tasks()\n",
    "        \n",
    "    def write(self, b):\n",
    "        b.write(\",\".join(f for f, _ in self._fields_))\n",
    "        b.write(\"\\n\")\n",
    "        for t in self.iter_tasks():\n",
    "            if not t.outline_number:\n",
    "                t.outline_number = t.id\n",
    "            if not t.duration:\n",
    "                t.duration = 1\n",
    "            if not t.begin_date:\n",
    "                t.begin_date = _today()\n",
    "            b.write(t.csv_line())\n",
    "            b.write(\"\\n\")\n",
    "    \n",
    "    def to_csv(self):\n",
    "        b = io.StringIO()\n",
    "        self.write(b)\n",
    "        return b.getvalue()\n",
    "    \n",
    "    \n",
    "def _fmt_date(d):\n",
    "    return d.strftime(\"%m/%e/%y\")\n",
    "    \n",
    "def _today():\n",
    "    return _fmt_date(_today_dt())\n",
    "\n",
    "def _today_dt():\n",
    "    return datetime.datetime.now()\n",
    "\n",
    "def _today_plus(days=1):\n",
    "    return _fmt_date(_today_dt() + datetime.timedelta(days=days))"
   ]
  },
  {
   "cell_type": "code",
   "execution_count": 4,
   "metadata": {
    "collapsed": false
   },
   "outputs": [
    {
     "name": "stdout",
     "output_type": "stream",
     "text": [
      "new_task\n",
      "subtask\n",
      "subtask\n",
      "subtask\n",
      "subtask\n",
      "subtask\n",
      "subtask\n",
      "subtask\n",
      "new_task\n",
      "new_task\n",
      "new_task\n",
      "new_task\n",
      "new_task\n",
      "new_task\n",
      "ID,Name,Begin date,End date,Duration,Completion,Cost,Coordinator,Predecessors,Outline number,Resources,Web Link,Notes\n",
      "0,Updated Deliverables,08/10/16,,1,0,0,,,1,,,\n",
      "1, Purpose Statement,08/10/16,,1,,,,,1.1,,,\n",
      "2, User Requirements Specification,08/10/16,,1,,,,,1.2,,,\n",
      "3, Risk Analysis,08/10/16,,1,,,,,1.3,,,\n",
      "4, Project Plan,08/10/16,,1,,,,,1.4,,,\n",
      "5, Product Requirement Checklist,08/10/16,,1,,,,,1.5,,,\n",
      "6, Functional Requirements Specification,08/10/16,,1,,,,,1.6,,,\n",
      "7, Software Design Specification,08/10/16,,1,,,,,1.7,,,\n",
      "8,LabVIEW Code Review,08/10/16,,1,0,0,,,2,,,\n",
      "9,Commit Log,08/10/16,,1,0,0,,,3,,,\n",
      "10,Requirements and Code Matrix,08/10/16,,1,0,0,,,4,,,\n",
      "11,Requirements and Unit Test Matrix,08/10/16,,1,0,0,,,5,,,\n",
      "12,Unit Testing Report,08/10/16,,1,0,0,,,6,,,\n",
      "13,Phase 2 Completion Approval,08/10/16,,1,0,0,,,7,,,\n",
      "\n"
     ]
    }
   ],
   "source": [
    "tasks = \"\"\"Updated Deliverables\n",
    " Purpose Statement\n",
    " User Requirements Specification\n",
    " Risk Analysis\n",
    " Project Plan\n",
    " Product Requirement Checklist\n",
    " Functional Requirements Specification\n",
    " Software Design Specification\n",
    "LabVIEW Code Review\n",
    "Commit Log\n",
    "Requirements and Code Matrix\n",
    "Requirements and Unit Test Matrix\n",
    "Unit Testing Report\n",
    "Phase 2 Completion Approval\"\"\".splitlines()\n",
    "p = GanttProject()\n",
    "for s in tasks:\n",
    "    if s.startswith(\" \"):\n",
    "        p[-1].subtask(s)\n",
    "        print(\"subtask\")\n",
    "    else:\n",
    "        t = p.new_task(s)\n",
    "        print(\"new_task\")\n",
    "s=p.to_csv()\n",
    "print(s)"
   ]
  },
  {
   "cell_type": "code",
   "execution_count": null,
   "metadata": {
    "collapsed": false
   },
   "outputs": [],
   "source": [
    "with open(\"C:/.replcache/gantt_test.csv\", 'w') as f:\n",
    "    f.write(p.to_csv())"
   ]
  },
  {
   "cell_type": "code",
   "execution_count": 5,
   "metadata": {
    "collapsed": false
   },
   "outputs": [],
   "source": [
    "from officelib.xllib import *\n",
    "xl = Excel()"
   ]
  },
  {
   "cell_type": "code",
   "execution_count": null,
   "metadata": {
    "collapsed": false
   },
   "outputs": [],
   "source": [
    "xl.RecentFiles(1).Open()\n",
    "xl.Selection"
   ]
  },
  {
   "cell_type": "code",
   "execution_count": 17,
   "metadata": {
    "collapsed": false
   },
   "outputs": [],
   "source": [
    "def project_plan_to_gantt(rang):\n",
    "    p = GanttProject()\n",
    "    ps = [p.new_task, None, None, None]\n",
    "    c = rang\n",
    "    while True:\n",
    "        v = c.Value\n",
    "        if not v: break\n",
    "        i = c.IndentLevel\n",
    "        create = ps[i]\n",
    "        t = create(v)\n",
    "        ps[i+1] = t.subtask\n",
    "        c = c.Offset(2,1)\n",
    "    return p\n",
    "pp2g = project_plan_to_gantt"
   ]
  },
  {
   "cell_type": "code",
   "execution_count": 19,
   "metadata": {
    "collapsed": false
   },
   "outputs": [
    {
     "name": "stdout",
     "output_type": "stream",
     "text": [
      "ID,Name,Begin date,End date,Duration,Completion,Cost,Coordinator,Predecessors,Outline number,Resources,Web Link,Notes\n",
      "0,Phase 1: Project Proposal,08/10/16,,1,0,0,,,1,,,\n",
      "1,User Requirements Specification,08/10/16,,1,,,,,1.1,,,\n",
      "2,Risk Analysis,08/10/16,,1,,,,,1.2,,,\n",
      "3,Project Plan,08/10/16,,1,,,,,1.3,,,\n",
      "4,Functional Requirements Specification,08/10/16,,1,,,,,1.4,,,\n",
      "5,Phase 1 Completion Approval / Kick Off,08/10/16,,1,,,,,1.5,,,\n",
      "6,Phase 2: Development,08/10/16,,1,0,0,,,2,,,\n",
      "7,Updated Deliverables,08/10/16,,1,,,,,2.1,,,\n",
      "8,User Requirements Specification,08/10/16,,1,,,,,2.1.1,,,\n",
      "9,Risk Analysis,08/10/16,,1,,,,,2.1.2,,,\n",
      "10,Project Plan,08/10/16,,1,,,,,2.1.3,,,\n",
      "11,Functional Requirements Specification,08/10/16,,1,,,,,2.1.4,,,\n",
      "12,Code,08/10/16,,1,,,,,2.2,,,\n",
      "13,LabVIEW Code,08/10/16,,1,,,,,2.2.1,,,\n",
      "14,LabVIEW Debug,08/10/16,,1,,,,,2.2.2,,,\n",
      "15,Web UI Code,08/10/16,,1,,,,,2.2.3,,,\n",
      "16,Web UI Debug,08/10/16,,1,,,,,2.2.4,,,\n",
      "17,Review and Unit Testing,08/10/16,,1,,,,,2.3,,,\n",
      "18,LabVIEW Code Review,08/10/16,,1,,,,,2.3.1,,,\n",
      "19,Requirements and Code Matrix,08/10/16,,1,,,,,2.3.2,,,\n",
      "20,Requirements and Unit Test Matrix,08/10/16,,1,,,,,2.3.3,,,\n",
      "21,Unit Testing Execution & Report,08/10/16,,1,,,,,2.3.4,,,\n",
      "22,Internal Use Master HD,08/10/16,,1,,,,,2.3.5,,,\n",
      "23,First Pass Functional User Test,08/10/16,,1,,,,,2.3.6,,,\n",
      "24,Phase 2 Completion Approval,08/10/16,,1,,,,,2.3.7,,,\n",
      "25,Phase 3: User Testing,08/10/16,,1,0,0,,,3,,,\n",
      "26,Updated Deliverables,08/10/16,,1,,,,,3.1,,,\n",
      "27,User Requirements Specification,08/10/16,,1,,,,,3.1.1,,,\n",
      "28,Risk Analysis,08/10/16,,1,,,,,3.1.2,,,\n",
      "29,Project Plan,08/10/16,,1,,,,,3.1.3,,,\n",
      "30,Product Requirement Checklist,08/10/16,,1,,,,,3.1.4,,,\n",
      "31,Functional Requirements Specification,08/10/16,,1,,,,,3.1.5,,,\n",
      "32,Requirements and Code Matrix,08/10/16,,1,,,,,3.1.6,,,\n",
      "33,Requirements and Unit Test Matrix,08/10/16,,1,,,,,3.1.7,,,\n",
      "34,User Testing ,08/10/16,,1,,,,,3.2,,,\n",
      "35,User Test Protocol,08/10/16,,1,,,,,3.2.1,,,\n",
      "36,User Test Execution & Report,08/10/16,,1,,,,,3.2.2,,,\n",
      "37,Requirements Matrices Review,08/10/16,,1,,,,,3.2.3,,,\n",
      "38,Source Code and Build Script,08/10/16,,1,,,,,3.2.4,,,\n",
      "39,Phase 3 Completion Approval,08/10/16,,1,,,,,3.2.5,,,\n",
      "40,Phase 4: Release,08/10/16,,1,0,0,,,4,,,\n",
      "41,Updated Deliverables,08/10/16,,1,,,,,4.1,,,\n",
      "42,Beta Testing Strategy,08/10/16,,1,,,,,4.1.1,,,\n",
      "43,Beta Testing Execution & Report,08/10/16,,1,,,,,4.1.2,,,\n",
      "44,User Documentation,08/10/16,,1,,,,,4.1.3,,,\n",
      "45,Software Configuration Procedure,08/10/16,,1,,,,,4.1.4,,,\n",
      "46,Phase 4 Completion Approval / Product Release,08/10/16,,1,,,,,4.1.5,,,\n",
      "\n"
     ]
    }
   ],
   "source": [
    "import tempfile\n",
    "print(pp2g(xl.Selection).to_csv())"
   ]
  },
  {
   "cell_type": "code",
   "execution_count": 12,
   "metadata": {
    "collapsed": false
   },
   "outputs": [
    {
     "ename": "PermissionError",
     "evalue": "[WinError 32] The process cannot access the file because it is being used by another process: 'C:\\\\Users\\\\Nathan\\\\AppData\\\\Local\\\\Temp\\\\tmp6vbsaoy1.csv'",
     "output_type": "error",
     "traceback": [
      "\u001b[0;31m---------------------------------------------------------------------------\u001b[0m",
      "\u001b[0;31mPermissionError\u001b[0m                           Traceback (most recent call last)",
      "\u001b[0;32m<ipython-input-12-a2fdcc35b364>\u001b[0m in \u001b[0;36m<module>\u001b[0;34m()\u001b[0m\n\u001b[1;32m      5\u001b[0m \u001b[0;32mfrom\u001b[0m \u001b[0mtime\u001b[0m \u001b[0;32mimport\u001b[0m \u001b[0msleep\u001b[0m\u001b[0;34m\u001b[0m\u001b[0m\n\u001b[1;32m      6\u001b[0m \u001b[0msleep\u001b[0m\u001b[0;34m(\u001b[0m\u001b[0;36m5\u001b[0m\u001b[0;34m)\u001b[0m\u001b[0;34m\u001b[0m\u001b[0m\n\u001b[0;32m----> 7\u001b[0;31m \u001b[0mos\u001b[0m\u001b[0;34m.\u001b[0m\u001b[0mremove\u001b[0m\u001b[0;34m(\u001b[0m\u001b[0mf\u001b[0m\u001b[0;34m.\u001b[0m\u001b[0mname\u001b[0m\u001b[0;34m)\u001b[0m\u001b[0;34m\u001b[0m\u001b[0m\n\u001b[0m\u001b[1;32m      8\u001b[0m \u001b[0;34m\u001b[0m\u001b[0m\n",
      "\u001b[0;31mPermissionError\u001b[0m: [WinError 32] The process cannot access the file because it is being used by another process: 'C:\\\\Users\\\\Nathan\\\\AppData\\\\Local\\\\Temp\\\\tmp6vbsaoy1.csv'"
     ]
    }
   ],
   "source": [
    "import os\n",
    "with tempfile.NamedTemporaryFile(mode='w', suffix='.csv', delete=False) as f:\n",
    "    f.write(p.to_csv())\n",
    "os.startfile(f.name)\n",
    "from time import sleep\n",
    "sleep(5)\n",
    "os.remove(f.name)\n",
    "                   "
   ]
  }
 ],
 "metadata": {
  "kernelspec": {
   "display_name": "Python 3",
   "language": "python",
   "name": "python3"
  },
  "language_info": {
   "codemirror_mode": {
    "name": "ipython",
    "version": 3
   },
   "file_extension": ".py",
   "mimetype": "text/x-python",
   "name": "python",
   "nbconvert_exporter": "python",
   "pygments_lexer": "ipython3",
   "version": "3.5.2"
  }
 },
 "nbformat": 4,
 "nbformat_minor": 0
}
