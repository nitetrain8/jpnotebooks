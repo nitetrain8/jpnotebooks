{
 "cells": [
  {
   "cell_type": "code",
   "execution_count": 1,
   "metadata": {
    "collapsed": true
   },
   "outputs": [],
   "source": [
    "from Cython.Build import cythonize"
   ]
  },
  {
   "cell_type": "code",
   "execution_count": 2,
   "metadata": {
    "collapsed": true
   },
   "outputs": [],
   "source": [
    "emptypy = \"C:\\\\Users\\\\Administrator\\\\Documents\\\\pyprojects\\\\python\\\\scripts\\\\toys\\\\empty.pyx\""
   ]
  },
  {
   "cell_type": "code",
   "execution_count": 9,
   "metadata": {
    "collapsed": false
   },
   "outputs": [
    {
     "name": "stdout",
     "output_type": "stream",
     "text": [
      "Compiling C:\\Users\\Administrator\\Documents\\pyprojects\\python\\scripts\\toys\\empty.pyx because it changed.\n",
      "[1/1] Cythonizing C:\\Users\\Administrator\\Documents\\pyprojects\\python\\scripts\\toys\\empty.pyx\n"
     ]
    }
   ],
   "source": [
    "import os\n",
    "from Cython.Build import cythonize\n",
    "emptypy = \"C:\\\\Users\\\\Administrator\\\\Documents\\\\pyprojects\\\\python\\\\scripts\\\\toys\\\\empty.pyx\"\n",
    "emptyc = emptypy.replace(\".pyx\", '.c')\n",
    "if os.path.exists(emptyc):\n",
    "    os.remove(emptyc)\n",
    "c = cythonize(emptypy)"
   ]
  },
  {
   "cell_type": "code",
   "execution_count": 10,
   "metadata": {
    "collapsed": false
   },
   "outputs": [],
   "source": [
    "import string\n",
    "letters = string.ascii_lowercase"
   ]
  },
  {
   "cell_type": "code",
   "execution_count": 12,
   "metadata": {
    "collapsed": false
   },
   "outputs": [
    {
     "data": {
      "text/plain": [
       "'b'"
      ]
     },
     "execution_count": 12,
     "metadata": {},
     "output_type": "execute_result"
    }
   ],
   "source": [
    "letters[1\n",
    "    %26]"
   ]
  },
  {
   "cell_type": "code",
   "execution_count": null,
   "metadata": {
    "collapsed": true
   },
   "outputs": [],
   "source": [
    "out = "
   ]
  }
 ],
 "metadata": {
  "kernelspec": {
   "display_name": "Python 3",
   "language": "python",
   "name": "python3"
  },
  "language_info": {
   "codemirror_mode": {
    "name": "ipython",
    "version": 3
   },
   "file_extension": ".py",
   "mimetype": "text/x-python",
   "name": "python",
   "nbconvert_exporter": "python",
   "pygments_lexer": "ipython3",
   "version": "3.4.3"
  }
 },
 "nbformat": 4,
 "nbformat_minor": 0
}
