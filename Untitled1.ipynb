{
 "cells": [
  {
   "cell_type": "code",
   "execution_count": 8,
   "metadata": {
    "collapsed": true
   },
   "outputs": [],
   "source": [
    "from officelib.xllib import *\n",
    "from officelib.const import xlDown, xlToRight\n",
    "from hello.pid.ag_pid.agpid import *"
   ]
  },
  {
   "cell_type": "code",
   "execution_count": 4,
   "metadata": {
    "collapsed": false
   },
   "outputs": [],
   "source": [
    "xl = Excel()\n",
    "wb = xl.RecentFiles(2).Open()\n",
    "\n",
    "\n",
    "xl.Selection.Value\n",
    "\n",
    "ws = wb.Worksheets(\"Sheet1\")\n",
    "\n",
    "cells = ws.Cells\n"
   ]
  },
  {
   "cell_type": "code",
   "execution_count": 12,
   "metadata": {
    "collapsed": false
   },
   "outputs": [
    {
     "name": "stdout",
     "output_type": "stream",
     "text": [
      "AutoToAuto Start:37.0 SP:35.8\n",
      "AutoToAuto Start:35.8 SP:37.0\n",
      "AutoToAuto Start:37.0 SP:35.8\n",
      "AutoToAuto Start:35.8 SP:37.0\n",
      "OffToAuto Start:26.0 SP:37.0\n",
      "AutoToAuto Start:37.0 SP:35.0\n",
      "AutoToAuto Start:35.0 SP:37.0\n",
      "OffToAuto Start:23 SP:37.0\n",
      "AutoToAuto Start:37.0 SP:39.0\n",
      "AutoToAuto Start:39.0 SP:37.0\n",
      "OffToAuto Start:26 SP:37\n",
      "AutoToAuto Start:37.0 SP:39.0\n",
      "AutoToAuto Start:39.0 SP:37.0\n",
      "01/17/17 15:58:05 INFO <plotall>: Copying test data to compiled_data.xlsx\n",
      "01/17/17 15:58:05 INFO <plotall>: Copying data for test 1 of 13\n",
      "01/17/17 15:58:06 INFO <plotall>: Copying data for test 2 of 13\n",
      "01/17/17 15:58:06 INFO <plotall>: Copying data for test 3 of 13\n",
      "01/17/17 15:58:06 INFO <plotall>: Copying data for test 4 of 13\n",
      "01/17/17 15:58:06 INFO <plotall>: Copying data for test 5 of 13\n",
      "01/17/17 15:58:06 INFO <plotall>: Copying data for test 6 of 13\n",
      "01/17/17 15:58:06 INFO <plotall>: Copying data for test 7 of 13\n",
      "01/17/17 15:58:07 INFO <plotall>: Copying data for test 8 of 13\n",
      "01/17/17 15:58:07 INFO <plotall>: Copying data for test 9 of 13\n",
      "01/17/17 15:58:07 INFO <plotall>: Copying data for test 10 of 13\n",
      "01/17/17 15:58:07 INFO <plotall>: Copying data for test 11 of 13\n",
      "01/17/17 15:58:07 INFO <plotall>: Copying data for test 12 of 13\n",
      "01/17/17 15:58:07 INFO <plotall>: Copying data for test 13 of 13\n",
      "01/17/17 15:58:07 INFO <plotall>: Done copying data for 13 tests.\n",
      "01/17/17 15:58:07 INFO <_new_chart>: Initializing chart\n",
      "01/17/17 15:58:10 INFO <_new_chart>: Initializing chart\n",
      "01/17/17 15:58:15 INFO <_new_chart>: Initializing chart\n",
      "01/17/17 15:58:17 INFO <_new_chart>: Initializing chart\n",
      "Done\n"
     ]
    }
   ],
   "source": [
    "\n",
    "first = cells.Range(\"A1\")\n",
    "cell = first\n",
    "ws2 = wb.Worksheets(\"Sheet2\")\n",
    "paste_cell = ws2.Cells.Range(\"B3\")\n",
    "n = 1\n",
    "runner = PIDRunner((), \"compiled_data.xlsx\")\n",
    "while True:\n",
    "    v = cell.Value\n",
    "    if not v:\n",
    "        break\n",
    "    name, start, setpoint = v.split()\n",
    "    _, st = start.split(\":\")\n",
    "    _, sp = setpoint.split(\":\")\n",
    "    print(name, start, setpoint)\n",
    "    p = cell.Offset(2, 2).Value\n",
    "    i = cell.Offset(3, 2).Value\n",
    "    d = cell.Offset(4, 2).Value\n",
    "    vol = cell.Offset(4, 4).Value\n",
    "    new_name = v + \" Vol:%d\" % vol\n",
    "    start_mode, end_mode = name.split(\"To\")\n",
    "    paste_cell.Offset(1, 1).Value = n\n",
    "    paste_cell.Offset(1, 2).Value = p\n",
    "    paste_cell.Offset(1, 3).Value = i\n",
    "    paste_cell.Offset(1, 4).Value = d\n",
    "    paste_cell.Offset(1, 5).Value = start_mode\n",
    "    paste_cell.Offset(1, 6).Value = st\n",
    "    paste_cell.Offset(1, 7).Value = sp\n",
    "    paste_cell.Offset(1, 8).Value = vol\n",
    "    paste_cell.Offset(1, 9).Value = new_name\n",
    "    paste_cell = paste_cell.Offset(2, 1)\n",
    "    \n",
    "    if name == \"AutoToAuto\":\n",
    "        klass = TempAutoToAutoTest\n",
    "    elif name == \"OffToAuto\":\n",
    "        klass = TempOffToAutoTest\n",
    "    elif name == \"ManToAuto\":\n",
    "        klass = TempManToAutoTest\n",
    "    elif name == \"ManToMan\":\n",
    "        klass = TempManToManTest\n",
    "    else:\n",
    "        raise ValueError(name)\n",
    "    t = klass(p, i, d, st, sp, \"\", None, new_name)\n",
    "    \n",
    "    tl_data = cell.Offset(6, 1)\n",
    "    br_data = tl_data.End(xlDown).End(xlToRight)\n",
    "    t.data = cells.Range(tl_data, br_data).Value\n",
    "    \n",
    "    runner.add_test(t)\n",
    "    \n",
    "    n += 1\n",
    "    cell = cell.Offset(1, 6)\n",
    "with HiddenXl(xl):\n",
    "    runner.plotall()\n",
    "    runner.chartbypid()\n",
    "print(\"Done\")"
   ]
  },
  {
   "cell_type": "code",
   "execution_count": null,
   "metadata": {
    "collapsed": true
   },
   "outputs": [],
   "source": []
  }
 ],
 "metadata": {
  "kernelspec": {
   "display_name": "Python 3",
   "language": "python",
   "name": "python3"
  },
  "language_info": {
   "codemirror_mode": {
    "name": "ipython",
    "version": 3
   },
   "file_extension": ".py",
   "mimetype": "text/x-python",
   "name": "python",
   "nbconvert_exporter": "python",
   "pygments_lexer": "ipython3",
   "version": "3.5.2"
  }
 },
 "nbformat": 4,
 "nbformat_minor": 1
}
