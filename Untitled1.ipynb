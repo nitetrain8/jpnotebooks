{
 "cells": [
  {
   "cell_type": "code",
   "execution_count": 1,
   "metadata": {
    "collapsed": true
   },
   "outputs": [],
   "source": [
    "from matplotlib import pyplot as plt\n",
    "import numpy as np"
   ]
  },
  {
   "cell_type": "code",
   "execution_count": 2,
   "metadata": {
    "collapsed": false
   },
   "outputs": [
    {
     "name": "stdout",
     "output_type": "stream",
     "text": [
      "Using matplotlib backend: TkAgg\n"
     ]
    }
   ],
   "source": [
    "%matplotlib"
   ]
  },
  {
   "cell_type": "code",
   "execution_count": 211,
   "metadata": {
    "collapsed": false
   },
   "outputs": [],
   "source": [
    "def lowpass(a):\n",
    "    def f(x):\n",
    "        n = x\n",
    "        d = 1 + n*x\n",
    "        return n/d\n",
    "    return f\n",
    "\n",
    "def highpass2(a):\n",
    "    assert 0 <= a <= 1\n",
    "    def f(y_1, x, x_1):\n",
    "        return a*y_1+a*(x-x_1)\n",
    "    return f\n",
    "        \n",
    "cutoff=.5\n",
    "f = lowpass(cutoff)\n",
    "x = np.linspace(0, 0.5, 1000)\n",
    "y = f(x)\n",
    "ax, = plt.plot(x,y)\n",
    "plt.axvline(x=cutoff)\n",
    "#plt.gca().set_xscale('log')\n",
    "plt.show()"
   ]
  },
  {
   "cell_type": "code",
   "execution_count": null,
   "metadata": {
    "collapsed": true
   },
   "outputs": [],
   "source": []
  },
  {
   "cell_type": "code",
   "execution_count": 92,
   "metadata": {
    "collapsed": false
   },
   "outputs": [
    {
     "name": "stdout",
     "output_type": "stream",
     "text": [
      "20000.0\n"
     ]
    }
   ],
   "source": [
    "def Hmag(cf):\n",
    "    tc = 1 / cf\n",
    "    def f(w):\n",
    "        n = w*tc\n",
    "        d = np.sqrt(1+n*n)\n",
    "        return n / d\n",
    "    return f\n",
    "\n",
    "def Hmag2(cf):\n",
    "    tc = 1/cf\n",
    "    def f(w):\n",
    "        n = w*tc\n",
    "        return 20 * np.log10(n)-20*np.log10(np.sqrt(1+n*n))\n",
    "    return f\n",
    "\n",
    "def Hphase(cf):\n",
    "    tc = 1 / cf\n",
    "    def f(w):\n",
    "        return 90 - np.arctan(w*tc*np.pi/180)*180/np.pi\n",
    "    return f\n",
    "    \n",
    "cutoff=20000\n",
    "f = Hmag2(cutoff)\n",
    "f2 = Hphase(10000)\n",
    "#x = np.arange(1e3, 1e8, 10)\n",
    "x = np.linspace(1e3, 1e8, 100000)\n",
    "y = f(x)\n",
    "y2 = f2(x)\n",
    "plt.close()\n",
    "ax=plt.subplot(211)\n",
    "ax2=plt.subplot(2,1,2)\n",
    "line,=ax.plot(x,y)\n",
    "line2,=ax2.plot(x,y2)\n",
    "ax.set_xscale('log')\n",
    "ax2.set_xscale('log')\n",
    "ax.axvline(x=cutoff)\n",
    "c=0\n",
    "for a, b in zip(x,y):\n",
    "    if b > -3:\n",
    "        print(c)\n",
    "        break\n",
    "    c = a\n",
    "plt.show()"
   ]
  },
  {
   "cell_type": "code",
   "execution_count": 187,
   "metadata": {
    "collapsed": false
   },
   "outputs": [],
   "source": [
    "def lowpass(a, td):\n",
    "    def f(x):\n",
    "        return x*td/(1+a*x*td)\n",
    "    return f\n",
    "td=19/2.5\n",
    "x = np.linspace(0, 0.02, 100)\n",
    "plt.close()\n",
    "cfs = (20, 50, 100)\n",
    "ax=plt.subplot(111)\n",
    "for i, a in enumerate(cfs):\n",
    "    a/=10\n",
    "    y = lowpass(a, td)(x)\n",
    "    line,=ax.plot(x,y, label=\"a=%.3f\"%a)\n",
    "plt.legend()\n",
    "plt.show()\n"
   ]
  },
  {
   "cell_type": "code",
   "execution_count": 179,
   "metadata": {
    "collapsed": false
   },
   "outputs": [
    {
     "name": "stdout",
     "output_type": "stream",
     "text": [
      "0.00354                  "
     ]
    }
   ],
   "source": [
    "from hello.hello3 import HelloApp\n",
    "app = HelloApp('71.189.82.196:85')\n",
    "from time import sleep\n",
    "def run():\n",
    "    last_pv = app.gpmv()['temperature']['pv']\n",
    "    pvs = []\n",
    "    try:\n",
    "        while True:\n",
    "            mv = app.gpmv()\n",
    "            pv = mv['temperature']['pv']\n",
    "            dpv = pv - last_pv\n",
    "            Ud = -dpv * td\n",
    "            print(\"\\r%.5f\"%Ud, '                 ', end=\"\")\n",
    "            last_pv = pv\n",
    "            pvs.append(Ud)\n",
    "            sleep(1)\n",
    "    except KeyboardInterrupt:\n",
    "        pass\n",
    "    return pvs\n",
    "\n",
    "def coerce(v, lo, hi):\n",
    "    if v < lo: return lo\n",
    "    if v > hi: return hi\n",
    "    return v\n",
    "\n",
    "#pvs = [i/100 for i in range(100)]\n",
    "uds = run()\n",
    "plt.close()\n",
    "ax = plt.subplot(111)\n",
    "plt.hist(uds, 20, color='green')\n",
    "plt.show()"
   ]
  },
  {
   "cell_type": "code",
   "execution_count": null,
   "metadata": {
    "collapsed": true
   },
   "outputs": [],
   "source": []
  }
 ],
 "metadata": {
  "kernelspec": {
   "display_name": "Python 3",
   "language": "python",
   "name": "python3"
  },
  "language_info": {
   "codemirror_mode": {
    "name": "ipython",
    "version": 3
   },
   "file_extension": ".py",
   "mimetype": "text/x-python",
   "name": "python",
   "nbconvert_exporter": "python",
   "pygments_lexer": "ipython3",
   "version": "3.5.2"
  }
 },
 "nbformat": 4,
 "nbformat_minor": 1
}
