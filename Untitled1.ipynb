{
 "cells": [
  {
   "cell_type": "code",
   "execution_count": 98,
   "metadata": {
    "collapsed": false
   },
   "outputs": [],
   "source": [
    "class PIDController():\n",
    "\n",
    "    AUTO_MODE = 1\n",
    "    OFF_MODE = 0\n",
    "\n",
    "    def __init__(self, pgain=1, itime=1, dtime=0, automax=100,\n",
    "                 auto_min=0, out_high=100, out_low=0, l=1, b=1, ideal=True):\n",
    "        \"\"\"\n",
    "        @type set_point: int | float\n",
    "        @type pgain: int | float\n",
    "        @type itime: int | float\n",
    "        @type dtime: int | float\n",
    "        @type automax: int | float\n",
    "        @param auto_min: int | float\n",
    "        @type auto_min: int | float\n",
    "        @type out_high: int | float\n",
    "        @type out_low: int | float\n",
    "        @type l: int | float\n",
    "        @type b: int | float\n",
    "        @return:\n",
    "        @rtype:\n",
    "        \"\"\"\n",
    "        self.auto_min = auto_min\n",
    "        self.out_low = out_low\n",
    "        self.out_high = out_high\n",
    "        self.out_range = out_high - out_low / 2\n",
    "        self.auto_max = automax\n",
    "        self.pgain = pgain\n",
    "        self.itime = itime\n",
    "        self.oneoveritime = 1 / self.itime  # used to calc accumulated_error time\n",
    "        self.dtime = dtime\n",
    "        self.ideal = ideal\n",
    "\n",
    "        self.L = l\n",
    "        self.B = b\n",
    "\n",
    "        self.accumulated_error = 0\n",
    "        self.current_output = 0\n",
    "        self.bump = 0\n",
    "        self.last_error = 0\n",
    "        self.last_pv = 0\n",
    "\n",
    "    def off_to_auto(self, pv):\n",
    "        \"\"\"\n",
    "        Turn the reactor on in auto mode at pv, aka\n",
    "        calculate the bump.\n",
    "\n",
    "        @param pv: current process temp to use for bumpless xfer calculation\n",
    "        @type pv: int | float | decimal.Decimal\n",
    "        \"\"\"\n",
    "        self.man_to_auto(0, pv)\n",
    "\n",
    "    def man_to_auto(self, sp, hd, pv):\n",
    "        \"\"\"\n",
    "        @param hd: current heat duty, for bumpless xfer calculation\n",
    "        @type hd: int | float | decimal.Decimal\n",
    "        @param pv: current process temp to use for bumpless xfer calculation\n",
    "        @type pv: int | float | decimal.Decimal\n",
    "        \"\"\"\n",
    "        err = sp - pv\n",
    "        uk0 = self.pgain * err\n",
    "        self.bump = hd - uk0\n",
    "\n",
    "    def reset(self):\n",
    "        self.bump = 0\n",
    "        self.accumulated_error = 0\n",
    "\n",
    "    def _calc_output(self, error, dpv, accum_error):\n",
    "        return pid_ideal(self.pgain, self.itime, self.dtime, self.auto_max, self.auto_min, \n",
    "                        self.bump, error, accum_error, dpv)\n",
    "#         Ui = self.oneoveritime * accum_error\n",
    "\n",
    "#         # Trapezoidal integration\n",
    "#         # out_range = self.out_range\n",
    "#         # Ui = self._oneoveritime * self._accumulated_error / (1 + (10 * error * error) / (out_range * out_range))\n",
    "#         # print(pv - self.last_pv)\n",
    "\n",
    "#         Ud = self.dtime * dpv\n",
    "\n",
    "#         if self.ideal:\n",
    "#             Uk = self.bump + self.pgain * (error + Ui + Ud)\n",
    "#         else:\n",
    "#             Uk = self.bump + self.pgain * error + Ui + Ud\n",
    "\n",
    "#         if Uk > self.automax:\n",
    "#             Uk = self.automax\n",
    "#         elif Uk < self.auto_min:\n",
    "#             Uk = self.auto_min\n",
    "\n",
    "#         return Uk\n",
    "    \n",
    "    def _process_err(self, sp, pv, dt):\n",
    "        err = sp - pv\n",
    "        dpv = pv - self.last_pv\n",
    "        self.last_pv = pv\n",
    "        accum = self.accumulated_error\n",
    "        self.accumulated_error += dt * err\n",
    "        return err, dpv, accum\n",
    "\n",
    "    def step_output(self, sp, pv, dt=1):\n",
    "        err, dpv, accum = self._process_err(sp, pv, dt)\n",
    "        out = self._calc_output(err, dpv, accum)\n",
    "        self.current_output = out\n",
    "        return out\n",
    "    \n",
    "    step = step_output\n",
    "\n",
    "    def __repr__(self):\n",
    "        return \"Output: %.2f Pgain: %.1f Itime: %.2f AccumError: %.4f\" % (self.current_output,\n",
    "                                                                          self.pgain,\n",
    "                                                                          self.itime,\n",
    "                                                                          self.accumulated_error)\n",
    "    __str__ = __repr__\n",
    "    \n",
    "def pid_ideal(p, i, d, imax, imin, bump, err, ierr, dpv):\n",
    "    \n",
    "    ui = (1 / i) * ierr\n",
    "    ud = d * dpv\n",
    "    uk = bump + p * (err + ui + ud)\n",
    "    if uk > imax:\n",
    "        uk = imax\n",
    "    elif uk < imin:\n",
    "        uk = imin\n",
    "    return uk\n",
    "    "
   ]
  },
  {
   "cell_type": "code",
   "execution_count": 102,
   "metadata": {
    "collapsed": true
   },
   "outputs": [],
   "source": [
    "def m2s(m):\n",
    "    return m*60\n",
    "def s2m(s):\n",
    "    return s/60"
   ]
  },
  {
   "cell_type": "code",
   "execution_count": 53,
   "metadata": {
    "collapsed": false
   },
   "outputs": [],
   "source": [
    "from collections import deque\n",
    "class DelayBuffer(deque):\n",
    "\n",
    "    def __init__(self, delay=30, startvalue=0):\n",
    "        # No maxlen- let potential delay size\n",
    "        # be dynamicly determinable by caller\n",
    "        super().__init__(startvalue for _ in range(delay + 1))\n",
    "\n",
    "    def cycle(self, hd, rot=deque.rotate):\n",
    "        self[0] = hd\n",
    "        rot(self, 1)\n",
    "        return self[0]"
   ]
  },
  {
   "cell_type": "code",
   "execution_count": 54,
   "metadata": {
    "collapsed": true
   },
   "outputs": [],
   "source": [
    "class DOSim():\n",
    "\n",
    "    def __init__(self, pv, gain, n2_flowrate, nf):\n",
    "        self.pv = pv\n",
    "        self.gain = gain\n",
    "        self.air_gain = gain / 5\n",
    "        self.nf = nf\n",
    "        self.n2_flowrate = n2_flowrate\n",
    "        \n",
    "    def step(self, o2_in, air_in, dt):\n",
    "        n2 = self.n2_flowrate * self.nf\n",
    "        o2 = o2_in\n",
    "        air = air_in * self.air_gain\n",
    "        dpv = o2 + air - n2\n",
    "        self.pv += dpv\n",
    "        return self.pv\n",
    "        "
   ]
  },
  {
   "cell_type": "code",
   "execution_count": 55,
   "metadata": {
    "collapsed": true
   },
   "outputs": [],
   "source": [
    "class MainGas():\n",
    "    def __init__(self):\n",
    "        self.air_max = 2\n",
    "        self.n2_max = 2\n",
    "        self.o2_max = 0.5\n",
    "        self.co2_max = 0.1\n",
    "        \n",
    "        self.n2_pc = 0\n",
    "        self.o2_pc = 100\n",
    "        self.co2_pc = 93\n",
    "        \n",
    "        self.n2_max = 100\n",
    "        self.o2_max = 100\n",
    "        self.co2_max = 100\n",
    "        \n",
    "    def o2_flow(self, main_gas):\n",
    "        \n",
    "        co2_pc = min(self.co2_pc, self.co2_max)\n",
    "        co2_pc = max(co2_pc, 0)\n",
    "        \n",
    "        \n",
    "        "
   ]
  },
  {
   "cell_type": "code",
   "execution_count": 56,
   "metadata": {
    "collapsed": false
   },
   "outputs": [],
   "source": [
    "p = PIDController()\n",
    "s = DOSim(40, .1, 0.035, .465/.035)"
   ]
  },
  {
   "cell_type": "code",
   "execution_count": 77,
   "metadata": {
    "collapsed": true
   },
   "outputs": [],
   "source": [
    "def run(t=3600, interval=0.3):\n",
    "    cycles = int(t/interval)\n",
    "    p = PIDController(40, 1, 10, 0, 100)\n",
    "    s = DOSim(40, 0.1, 0.035, 0.465/0.035)\n",
    "    sp = 40\n",
    "    pv = 40\n",
    "    mg = 0.5\n",
    "    co2 = 0.7\n",
    "    co2_flow = co2 * mg\n",
    "    x = []\n",
    "    y = []\n",
    "    t = 0\n",
    "    for _ in range(cycles):\n",
    "        op = p.step(sp, pv, interval)\n",
    "        o2_flow = op * mg\n",
    "        air_flow = (1-(co2_flow + o2_flow))\n",
    "        pv = s.step(o2_flow, air_flow, interval)\n",
    "        x.append(t)\n",
    "        y.append(pv)\n",
    "        t += interval\n",
    "        print(o2_flow, pv, t)\n",
    "    return x, y\n",
    "        "
   ]
  },
  {
   "cell_type": "code",
   "execution_count": 78,
   "metadata": {
    "collapsed": false
   },
   "outputs": [
    {
     "name": "stdout",
     "output_type": "stream",
     "text": [
      "0.0 39.548 0.3\n",
      "50.0 88.096 0.6\n",
      "0.0 87.644 0.8999999999999999\n",
      "50.0 136.192 1.2\n",
      "0.0 135.74 1.5\n",
      "50.0 184.288 1.8\n",
      "0.0 183.836 2.1\n",
      "50.0 232.38400000000001 2.4\n",
      "0.0 231.93200000000002 2.6999999999999997\n",
      "50.0 280.48 2.9999999999999996\n",
      "50.0 329.028 3.2999999999999994\n",
      "50.0 377.576 3.599999999999999\n",
      "50.0 426.124 3.899999999999999\n",
      "50.0 474.672 4.199999999999999\n",
      "50.0 523.22 4.499999999999999\n",
      "50.0 571.768 4.799999999999999\n"
     ]
    }
   ],
   "source": [
    "x,y = run(5)"
   ]
  },
  {
   "cell_type": "code",
   "execution_count": 62,
   "metadata": {
    "collapsed": true
   },
   "outputs": [],
   "source": [
    "import matplotlib\n",
    "import matplotlib.pyplot as plt"
   ]
  },
  {
   "cell_type": "code",
   "execution_count": 66,
   "metadata": {
    "collapsed": false
   },
   "outputs": [
    {
     "data": {
      "image/png": "[encoded data removed]",
      "text/plain": [
       "<matplotlib.figure.Figure at 0x2815c592cf8>"
      ]
     },
     "metadata": {},
     "output_type": "display_data"
    }
   ],
   "source": [
    "x1 = x[:600]\n",
    "y1 = y[:600]\n",
    "plt.plot(x1,y1)\n",
    "plt.show()"
   ]
  },
  {
   "cell_type": "code",
   "execution_count": 104,
   "metadata": {
    "collapsed": false
   },
   "outputs": [
    {
     "data": {
      "text/plain": [
       "1.5"
      ]
     },
     "execution_count": 104,
     "metadata": {},
     "output_type": "execute_result"
    }
   ],
   "source": [
    "p = PIDController(1, m2s(2), 0)\n",
    "p.step(40, 39, 60)\n",
    "p.step(40, 39, 60)"
   ]
  },
  {
   "cell_type": "code",
   "execution_count": null,
   "metadata": {
    "collapsed": true
   },
   "outputs": [],
   "source": []
  }
 ],
 "metadata": {
  "kernelspec": {
   "display_name": "Python 3",
   "language": "python",
   "name": "python3"
  },
  "language_info": {
   "codemirror_mode": {
    "name": "ipython",
    "version": 3
   },
   "file_extension": ".py",
   "mimetype": "text/x-python",
   "name": "python",
   "nbconvert_exporter": "python",
   "pygments_lexer": "ipython3",
   "version": "3.5.2"
  }
 },
 "nbformat": 4,
 "nbformat_minor": 1
}
