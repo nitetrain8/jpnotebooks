{
 "cells": [
  {
   "cell_type": "code",
   "execution_count": 1,
   "metadata": {
    "collapsed": true
   },
   "outputs": [],
   "source": [
    "from matplotlib import pyplot as plt\n",
    "import numpy as np"
   ]
  },
  {
   "cell_type": "code",
   "execution_count": 2,
   "metadata": {
    "collapsed": false
   },
   "outputs": [
    {
     "name": "stdout",
     "output_type": "stream",
     "text": [
      "Using matplotlib backend: TkAgg\n"
     ]
    }
   ],
   "source": [
    "%matplotlib"
   ]
  },
  {
   "cell_type": "code",
   "execution_count": 3,
   "metadata": {
    "collapsed": false
   },
   "outputs": [],
   "source": [
    "def lowpass(a):\n",
    "    def f(x):\n",
    "        n = x\n",
    "        d = 1 + n*x\n",
    "        return n/d\n",
    "    return f\n",
    "\n",
    "def highpass2(a):\n",
    "    assert 0 <= a <= 1\n",
    "    def f(y_1, x, x_1):\n",
    "        return a*y_1+a*(x-x_1)\n",
    "    return f\n",
    "        \n",
    "cutoff=.5\n",
    "f = lowpass(cutoff)\n",
    "x = np.linspace(0, 0.5, 1000)\n",
    "y = f(x)\n",
    "ax, = plt.plot(x,y)\n",
    "plt.axvline(x=cutoff)\n",
    "#plt.gca().set_xscale('log')\n",
    "plt.show()"
   ]
  },
  {
   "cell_type": "code",
   "execution_count": null,
   "metadata": {
    "collapsed": true
   },
   "outputs": [],
   "source": []
  },
  {
   "cell_type": "code",
   "execution_count": 4,
   "metadata": {
    "collapsed": false
   },
   "outputs": [
    {
     "name": "stdout",
     "output_type": "stream",
     "text": [
      "20000.0\n"
     ]
    }
   ],
   "source": [
    "def Hmag(cf):\n",
    "    tc = 1 / cf\n",
    "    def f(w):\n",
    "        n = w*tc\n",
    "        d = np.sqrt(1+n*n)\n",
    "        return n / d\n",
    "    return f\n",
    "\n",
    "def Hmag2(cf):\n",
    "    tc = 1/cf\n",
    "    def f(w):\n",
    "        n = w*tc\n",
    "        return 20 * np.log10(n)-20*np.log10(np.sqrt(1+n*n))\n",
    "    return f\n",
    "\n",
    "def Hphase(cf):\n",
    "    tc = 1 / cf\n",
    "    def f(w):\n",
    "        return 90 - np.arctan(w*tc*np.pi/180)*180/np.pi\n",
    "    return f\n",
    "    \n",
    "cutoff=20000\n",
    "f = Hmag2(cutoff)\n",
    "f2 = Hphase(10000)\n",
    "#x = np.arange(1e3, 1e8, 10)\n",
    "x = np.linspace(1e3, 1e8, 100000)\n",
    "y = f(x)\n",
    "y2 = f2(x)\n",
    "plt.close()\n",
    "ax=plt.subplot(211)\n",
    "ax2=plt.subplot(2,1,2)\n",
    "line,=ax.plot(x,y)\n",
    "line2,=ax2.plot(x,y2)\n",
    "ax.set_xscale('log')\n",
    "ax2.set_xscale('log')\n",
    "ax.axvline(x=cutoff)\n",
    "c=0\n",
    "for a, b in zip(x,y):\n",
    "    if b > -3:\n",
    "        print(c)\n",
    "        break\n",
    "    c = a\n",
    "plt.show()"
   ]
  },
  {
   "cell_type": "code",
   "execution_count": 5,
   "metadata": {
    "collapsed": false
   },
   "outputs": [],
   "source": [
    "def lowpass(a, td):\n",
    "    def f(x):\n",
    "        return x*td/(1+a*x*td)\n",
    "    return f\n",
    "td=19/2.5\n",
    "x = np.linspace(0, 0.02, 100)\n",
    "plt.close()\n",
    "cfs = (20, 50, 100)\n",
    "ax=plt.subplot(111)\n",
    "for i, a in enumerate(cfs):\n",
    "    a/=10\n",
    "    y = lowpass(a, td)(x)\n",
    "    line,=ax.plot(x,y, label=\"a=%.3f\"%a)\n",
    "plt.legend()\n",
    "plt.show()\n"
   ]
  },
  {
   "cell_type": "code",
   "execution_count": 6,
   "metadata": {
    "collapsed": false
   },
   "outputs": [],
   "source": [
    "# from hello.hello3 import HelloApp\n",
    "# app = HelloApp('71.189.82.196:85')\n",
    "# from time import sleep\n",
    "# def run():\n",
    "#     last_pv = app.gpmv()['temperature']['pv']\n",
    "#     pvs = []\n",
    "#     try:\n",
    "#         while True:\n",
    "#             mv = app.gpmv()\n",
    "#             pv = mv['temperature']['pv']\n",
    "#             dpv = pv - last_pv\n",
    "#             Ud = -dpv * td\n",
    "#             print(\"\\r%.5f\"%Ud, '                 ', end=\"\")\n",
    "#             last_pv = pv\n",
    "#             pvs.append(Ud)\n",
    "#             sleep(1)\n",
    "#     except KeyboardInterrupt:\n",
    "#         pass\n",
    "#     return pvs\n",
    "\n",
    "# def coerce(v, lo, hi):\n",
    "#     if v < lo: return lo\n",
    "#     if v > hi: return hi\n",
    "#     return v\n",
    "\n",
    "# #pvs = [i/100 for i in range(100)]\n",
    "# uds = run()\n",
    "# plt.close()\n",
    "# ax = plt.subplot(111)\n",
    "# plt.hist(uds, 20, color='green')\n",
    "# plt.show()"
   ]
  },
  {
   "cell_type": "code",
   "execution_count": 7,
   "metadata": {
    "collapsed": false
   },
   "outputs": [
    {
     "data": {
      "text/plain": [
       "[<matplotlib.lines.Line2D at 0x2c11fe2a128>]"
      ]
     },
     "execution_count": 7,
     "metadata": {},
     "output_type": "execute_result"
    }
   ],
   "source": [
    "import math\n",
    "def getgausscurve(cal):\n",
    "    curve = [None for _ in range(cal-1)]\n",
    "    height = 1\n",
    "    center = cal / 2 - 0.5\n",
    "    bellwidth = center / 3\n",
    "    for i in range(cal-1):\n",
    "        curve[i] = math.pow(height*math.e, \n",
    "                            -(math.pow(i-center, 2)/(2*math.pow(bellwidth,2))))\n",
    "    return curve\n",
    "def getgausscurvefactor(curve):\n",
    "    return sum(curve)\n",
    "\n",
    "hhr = 60\n",
    "bc = getgausscurve(hhr)\n",
    "bcf = getgausscurvefactor(bc)\n",
    "plt.close()\n",
    "plt.plot(bc)"
   ]
  },
  {
   "cell_type": "code",
   "execution_count": 8,
   "metadata": {
    "collapsed": true
   },
   "outputs": [],
   "source": [
    "import math"
   ]
  },
  {
   "cell_type": "code",
   "execution_count": 9,
   "metadata": {
    "collapsed": false
   },
   "outputs": [
    {
     "ename": "NameError",
     "evalue": "name 'D' is not defined",
     "output_type": "error",
     "traceback": [
      "\u001b[0;31m---------------------------------------------------------------------------\u001b[0m",
      "\u001b[0;31mNameError\u001b[0m                                 Traceback (most recent call last)",
      "\u001b[0;32m<ipython-input-9-e9b78e9af4cb>\u001b[0m in \u001b[0;36m<module>\u001b[0;34m()\u001b[0m\n\u001b[0;32m----> 1\u001b[0;31m \u001b[0md\u001b[0m\u001b[1;33m=\u001b[0m\u001b[0mD\u001b[0m\u001b[1;33m(\u001b[0m\u001b[1;36m1\u001b[0m\u001b[1;33m)\u001b[0m\u001b[1;33m\u001b[0m\u001b[0m\n\u001b[0m",
      "\u001b[0;31mNameError\u001b[0m: name 'D' is not defined"
     ]
    }
   ],
   "source": [
    "d=D(1)"
   ]
  },
  {
   "cell_type": "code",
   "execution_count": 2,
   "metadata": {
    "collapsed": false
   },
   "outputs": [],
   "source": [
    "from decimal import Decimal as D\n",
    "def calcy(x, output, step_size, delay, pc=0.95):\n",
    "    sink = D(0)\n",
    "    y = np.zeros(len(x), dtype=np.float64)\n",
    "    step_size = D(step_size)\n",
    "    decay = D(1-pc)**(D(step_size)/D(delay))\n",
    "    incr = D(output)*step_size\n",
    "    decay = 1 - decay\n",
    "    for i in range(len(x)):\n",
    "        sink += incr\n",
    "        dNdt = decay * sink\n",
    "        sink -= dNdt\n",
    "        y[i] = float(dNdt/step_size)\n",
    "    return y\n",
    "\n",
    "def calcy2(x, output, step_size, delay, pc=0.95):\n",
    "    sink = D(0)\n",
    "    y = np.zeros(len(x), dtype=np.float64)\n",
    "    pc_at_delay=D(1)/(1-D(pc))\n",
    "    step_size = D(step_size)\n",
    "    decay = pc_at_delay.ln()/D(delay)*step_size\n",
    "    incr = D(output)*step_size\n",
    "    for i in range(len(x)):\n",
    "        sink += incr\n",
    "        dndt = decay*sink\n",
    "        sink -= dndt\n",
    "        y[i] = float(dndt/step_size)\n",
    "    return y"
   ]
  },
  {
   "cell_type": "code",
   "execution_count": 6,
   "metadata": {
    "collapsed": false
   },
   "outputs": [
    {
     "name": "stdout",
     "output_type": "stream",
     "text": [
      "Using matplotlib backend: TkAgg\n",
      "300 0.9999699997 299.99099991\n",
      "600 0.9999699997 599.98199982\n",
      "900 1.0000100001 900.00900009\n",
      "1200 1.0 1200.0\n",
      "1500 0.99999399994 1499.99099991\n",
      "1800 1.0000100001 1800.01800018\n",
      "2100 1.00000428576 2100.00900009\n",
      "2400 1.0 2400.0\n",
      "2700 1.0000100001 2700.02700027\n",
      "3000 1.00000600006 3000.01800018\n"
     ]
    },
    {
     "data": {
      "text/plain": [
       "<matplotlib.lines.Line2D at 0x212bd2138d0>"
      ]
     },
     "execution_count": 6,
     "metadata": {},
     "output_type": "execute_result"
    }
   ],
   "source": [
    "nsteps = 10**5\n",
    "nmax=60*60\n",
    "x = np.linspace(0, nmax, nsteps)\n",
    "step_size = nmax / nsteps\n",
    "output=20\n",
    "plt.close()\n",
    "fig = plt.figure()\n",
    "sp = fig.add_subplot(1,1,1)\n",
    "pc = 0.95\n",
    "for t in range(5, 51, 5):\n",
    "    t *= 60\n",
    "    y=calcy(x, output, step_size, t, pc)\n",
    "    pc_95 = next((n for n, v in zip(x,y) if v > (pc*output)), -1)/t\n",
    "    print(t, pc_95, pc_95*t)\n",
    "    plt.plot(x,y, label=\"delay=%.3f %d%%:%.1f\"%(t, int(pc*100), pc_95*t))\n",
    "    plt.gca().axvline(x=pc_95*t, color='black', ls='--')\n",
    "plt.legend(loc='lower right')\n",
    "plt.gca().axhline(y=pc*output, color='black', ls='--')"
   ]
  },
  {
   "cell_type": "code",
   "execution_count": 10,
   "metadata": {
    "collapsed": false
   },
   "outputs": [
    {
     "data": {
      "text/plain": [
       "array([ 0.99940103,  0.99880242,  0.99820418, ...,  0.002503  ,\n",
       "        0.0025015 ,  0.0025    ])"
      ]
     },
     "execution_count": 10,
     "metadata": {},
     "output_type": "execute_result"
    }
   ],
   "source": [
    "t_95 = 60\n",
    "nsteps = 10000\n",
    "nmax = 2*60\n",
    "step_size = nmax / nsteps\n",
    "x = np.linspace(0, nmax, nsteps)\n",
    "\n",
    "A0 = 1\n",
    "A = A0 * (0.05)**(x/t_95)\n",
    "d = []\n",
    "lastv = A0\n",
    "df = 0.05**(step_size/t_95)\n",
    "for n in x:\n",
    "    v = df * lastv\n",
    "    d.append(v)\n",
    "    lastv=v\n",
    "d = np.array(d)\n",
    "plt.close()\n",
    "plt.plot(x, A)\n",
    "offs = 10\n",
    "plt.plot(x+offs, d+offs/100)\n",
    "n = next(n for n, v in zip(x,A) if v < 0.05)\n",
    "plt.gca().axvline(x=n, color='black', ls='--')\n",
    "plt.gca().axhline(y=0.05, color='black', ls='--')\n",
    "d"
   ]
  },
  {
   "cell_type": "markdown",
   "metadata": {
    "collapsed": true
   },
   "source": [
    "# PH Titration Curve Stuff"
   ]
  },
  {
   "cell_type": "code",
   "execution_count": 2,
   "metadata": {
    "collapsed": false
   },
   "outputs": [
    {
     "name": "stdout",
     "output_type": "stream",
     "text": [
      "Using matplotlib backend: TkAgg\n"
     ]
    },
    {
     "data": {
      "text/plain": [
       "(0, 14)"
      ]
     },
     "execution_count": 2,
     "metadata": {},
     "output_type": "execute_result"
    }
   ],
   "source": [
    "import math\n",
    "import numpy as np\n",
    "%matplotlib\n",
    "import matplotlib.pyplot as plt\n",
    "# carbonic acid\n",
    "ka = 4.5e-7\n",
    "pka = 6.35\n",
    "\n",
    "mm_bicarb = 84.0066\n",
    "c_bicarb = 2.02 # g / L\n",
    "m_bicarb = c_bicarb / mm_bicarb\n",
    "amax = 20\n",
    "acid = np.linspace(1e-10, amax, 1000)\n",
    "\n",
    "def pH(co2):\n",
    "    #ph = pka + np.log10(base/acid)\n",
    "    #ph = -np.log10(np.sqrt(ka*acid))\n",
    "    a = 1\n",
    "    b = 5.4e-7\n",
    "    c = -4.5e-7*co2\n",
    "    x = -b+np.sqrt(b**2-4*a*c)\n",
    "    x /= 2*a\n",
    "    x = 1e-7+x\n",
    "    ph = -np.log10(x)\n",
    "    return ph\n",
    "\n",
    "ph = pH(acid)\n",
    "plt.close()\n",
    "plt.plot(acid, ph)\n",
    "plt.gca().set_xlim((0, amax))\n",
    "plt.gca().set_ylim((0, 14))"
   ]
  },
  {
   "cell_type": "code",
   "execution_count": 4,
   "metadata": {
    "collapsed": false
   },
   "outputs": [],
   "source": [
    "def qf(a,b,c):\n",
    "    return (-b+np.sqrt(b**2-4*a*c))/(2*a)\n",
    "\n",
    "def qf2(a,b,c):\n",
    "    return (-b-np.sqrt(b**2-4*a*c))/(2*a)"
   ]
  },
  {
   "cell_type": "code",
   "execution_count": 140,
   "metadata": {
    "collapsed": false
   },
   "outputs": [
    {
     "data": {
      "text/plain": [
       "6.5991807461669625"
      ]
     },
     "execution_count": 140,
     "metadata": {},
     "output_type": "execute_result"
    }
   ],
   "source": [
    "c1=.4*3.4e-2\n",
    "c2=1e-7\n",
    "c3=2.02/84\n",
    "ka=4.45e-7\n",
    "a = 1\n",
    "b = (c2+c3+ka)\n",
    "c = (c2*c3-ka*c1)\n",
    "x=qf(a,b,c)\n",
    "-np.log10(c2+x)"
   ]
  },
  {
   "cell_type": "code",
   "execution_count": 136,
   "metadata": {
    "collapsed": true
   },
   "outputs": [],
   "source": [
    "def pH(co2_pc, bicarb):\n",
    "    c1 = co2_pc * 3.4e-2  # henry's law\n",
    "    c2 = 1e-7\n",
    "    c3 = bicarb\n",
    "    ka = 4.45e-7\n",
    "    a = 1\n",
    "    b = c2+c3+ka\n",
    "    c = c2*c3-ka*c1\n",
    "    x=qf(a,b,c)\n",
    "    return -np.log10(c2+x)"
   ]
  },
  {
   "cell_type": "code",
   "execution_count": 196,
   "metadata": {
    "collapsed": false
   },
   "outputs": [
    {
     "data": {
      "text/plain": [
       "[<matplotlib.lines.Line2D at 0x15792a69208>]"
      ]
     },
     "execution_count": 196,
     "metadata": {},
     "output_type": "execute_result"
    }
   ],
   "source": [
    "# \"Titration\" curve 2.02 g/mol bicarb\n",
    "c1=np.linspace(0, 1, 1000)\n",
    "c3=2.02/84\n",
    "y=pH(c1, c3)\n",
    "plt.close()\n",
    "plt.plot(c1,y)"
   ]
  },
  {
   "cell_type": "code",
   "execution_count": 195,
   "metadata": {
    "collapsed": false
   },
   "outputs": [
    {
     "data": {
      "text/plain": [
       "[<matplotlib.lines.Line2D at 0x1579272f390>]"
      ]
     },
     "execution_count": 195,
     "metadata": {},
     "output_type": "execute_result"
    }
   ],
   "source": [
    "# \"Titration\" curve 0 g/mol bicarb\n",
    "plt.close()\n",
    "x = np.linspace(0, 1, 100000)\n",
    "y = pH(x, 0)\n",
    "plt.plot(x,y)"
   ]
  },
  {
   "cell_type": "code",
   "execution_count": 192,
   "metadata": {
    "collapsed": false
   },
   "outputs": [
    {
     "data": {
      "text/plain": [
       "[<matplotlib.lines.Line2D at 0x157908cc048>]"
      ]
     },
     "execution_count": 192,
     "metadata": {},
     "output_type": "execute_result"
    }
   ],
   "source": [
    "c1=np.linspace(0, 1, 1000)\n",
    "y = pH(c1, 0)\n",
    "plt.close()\n",
    "plt.plot(c1,y)"
   ]
  },
  {
   "cell_type": "code",
   "execution_count": 150,
   "metadata": {
    "collapsed": false
   },
   "outputs": [
    {
     "data": {
      "text/plain": [
       "(6.5975331750145241, 6.5975331750145241)"
      ]
     },
     "execution_count": 150,
     "metadata": {},
     "output_type": "execute_result"
    }
   ],
   "source": [
    "def henderson_hasselbach(acid, conj, pka):\n",
    "    return pka + np.log10(conj/acid)\n",
    "6.35+np.log10(c3/c1), henderson_hasselbach(c1, c3, 6.35)"
   ]
  },
  {
   "cell_type": "code",
   "execution_count": 198,
   "metadata": {
    "collapsed": false
   },
   "outputs": [
    {
     "data": {
      "text/plain": [
       "1e-06"
      ]
     },
     "execution_count": 198,
     "metadata": {},
     "output_type": "execute_result"
    }
   ],
   "source": [
    "1/1000000"
   ]
  },
  {
   "cell_type": "code",
   "execution_count": 172,
   "metadata": {
    "collapsed": true
   },
   "outputs": [],
   "source": [
    "hh = henderson_hasselbach\n",
    "co2_henry = 3.4e-2\n",
    "def chh(c):\n",
    "    return hh(c/100*co2_henry, 2.02/84, 6.35)\n",
    "def chh2(c):\n",
    "    return hh(c/100, 2.02/84, 6.35)"
   ]
  },
  {
   "cell_type": "code",
   "execution_count": 200,
   "metadata": {
    "collapsed": true
   },
   "outputs": [],
   "source": [
    "def polyprotic(x, ka1, ka2, i):\n",
    "    w = 1e-7\n",
    "    n = (ka1 * i)*(x*x+2*ka2)\n",
    "    d = x*x + x*ka1+ka1*ka2\n",
    "    y = w + n/d - x*x\n",
    "    return y\n",
    "\n",
    "def polyprotic2(ph, pka1, pka2, i):\n",
    "    x=10**-ph\n",
    "    ka1=10**-pka1\n",
    "    ka2=10**-pka2\n",
    "    return polyprotic(x, ka1, ka2, i)"
   ]
  },
  {
   "cell_type": "code",
   "execution_count": null,
   "metadata": {
    "collapsed": true
   },
   "outputs": [],
   "source": [
    "polyprotic2(7, 6.35, )"
   ]
  }
 ],
 "metadata": {
  "kernelspec": {
   "display_name": "Python 3",
   "language": "python",
   "name": "python3"
  },
  "language_info": {
   "codemirror_mode": {
    "name": "ipython",
    "version": 3
   },
   "file_extension": ".py",
   "mimetype": "text/x-python",
   "name": "python",
   "nbconvert_exporter": "python",
   "pygments_lexer": "ipython3",
   "version": "3.5.2"
  }
 },
 "nbformat": 4,
 "nbformat_minor": 1
}
