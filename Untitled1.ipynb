{
 "cells": [
  {
   "cell_type": "code",
   "execution_count": 1,
   "metadata": {
    "collapsed": true
   },
   "outputs": [],
   "source": [
    "from officelib.wordlib import *"
   ]
  },
  {
   "cell_type": "code",
   "execution_count": 7,
   "metadata": {
    "collapsed": false
   },
   "outputs": [],
   "source": [
    "w = Word()\n",
    "d = w.ActiveDocument"
   ]
  },
  {
   "cell_type": "code",
   "execution_count": 10,
   "metadata": {
    "collapsed": false
   },
   "outputs": [],
   "source": [
    "s = d.Styles(\"FRS_ITEM_REVIEWED\")"
   ]
  },
  {
   "cell_type": "code",
   "execution_count": 11,
   "metadata": {
    "collapsed": false
   },
   "outputs": [
    {
     "data": {
      "text/plain": [
       "['Application',\n",
       " 'AutomaticallyUpdate',\n",
       " 'BaseStyle',\n",
       " 'Borders',\n",
       " 'BuiltIn',\n",
       " 'Creator',\n",
       " 'Description',\n",
       " 'Font',\n",
       " 'Frame',\n",
       " 'Hidden',\n",
       " 'InUse',\n",
       " 'LanguageID',\n",
       " 'LanguageIDFarEast',\n",
       " 'LinkStyle',\n",
       " 'Linked',\n",
       " 'ListLevelNumber',\n",
       " 'ListTemplate',\n",
       " 'Locked',\n",
       " 'NameLocal',\n",
       " 'NextParagraphStyle',\n",
       " 'NoProofing',\n",
       " 'NoSpaceBetweenParagraphsOfSameStyle',\n",
       " 'ParagraphFormat',\n",
       " 'Parent',\n",
       " 'Priority',\n",
       " 'QuickStyle',\n",
       " 'Shading',\n",
       " 'Table',\n",
       " 'Type',\n",
       " 'UnhideWhenUsed',\n",
       " 'Visibility']"
      ]
     },
     "execution_count": 11,
     "metadata": {},
     "output_type": "execute_result"
    }
   ],
   "source": [
    "sorted(s._prop_map_get_.keys())"
   ]
  },
  {
   "cell_type": "code",
   "execution_count": 16,
   "metadata": {
    "collapsed": false
   },
   "outputs": [
    {
     "name": "stdout",
     "output_type": "stream",
     "text": [
      "FRS2905\n",
      "FRS2908.1.1\n",
      "FRS2908.2.1\n",
      "FRS2908.3.1\n",
      "Conclusion\n"
     ]
    }
   ],
   "source": [
    "for p in d.Paragraphs:\n",
    "    if p.Style.NameLocal == s.NameLocal:\n",
    "        r = p.Range\n",
    "        t = r.Text\n",
    "        frs = t.split(\":\", 1)[0]\n",
    "        print(frs)"
   ]
  },
  {
   "cell_type": "code",
   "execution_count": 17,
   "metadata": {
    "collapsed": false
   },
   "outputs": [
    {
     "name": "stdout",
     "output_type": "stream",
     "text": [
      "Code Review Meeting\r\n",
      "Date\n",
      "Subject\n",
      "Attendees\n",
      "Document ID\n",
      "\r\n",
      "Summary\n",
      "\r\n",
      "Items Reviewed\n",
      "FRS2905\n",
      "FRS2908.1.1\n",
      "FRS2908.2.1\n",
      "FRS2908.3.1\n",
      "Conclusion\n"
     ]
    }
   ],
   "source": [
    "for p in d.Paragraphs:\n",
    "    try:\n",
    "        t = p.Range.Text.split(\":\", 1)[0]\n",
    "    except:\n",
    "        pass\n",
    "    else:\n",
    "        print(t)"
   ]
  },
  {
   "cell_type": "code",
   "execution_count": null,
   "metadata": {
    "collapsed": true
   },
   "outputs": [],
   "source": []
  }
 ],
 "metadata": {
  "kernelspec": {
   "display_name": "Python 3",
   "language": "python",
   "name": "python3"
  },
  "language_info": {
   "codemirror_mode": {
    "name": "ipython",
    "version": 3
   },
   "file_extension": ".py",
   "mimetype": "text/x-python",
   "name": "python",
   "nbconvert_exporter": "python",
   "pygments_lexer": "ipython3",
   "version": "3.5.2"
  }
 },
 "nbformat": 4,
 "nbformat_minor": 1
}
