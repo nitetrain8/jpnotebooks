{
 "cells": [
  {
   "cell_type": "code",
   "execution_count": 1,
   "metadata": {
    "collapsed": false,
    "scrolled": true
   },
   "outputs": [
    {
     "name": "stdout",
     "output_type": "stream",
     "text": [
      "Using matplotlib backend: TkAgg\n"
     ]
    }
   ],
   "source": [
    "%matplotlib"
   ]
  },
  {
   "cell_type": "code",
   "execution_count": 2,
   "metadata": {
    "collapsed": false
   },
   "outputs": [],
   "source": [
    "import tkinter as tk\n",
    "from pysrc.simplertplot.plotwidget import RTPlotWidget\n",
    "from pysrc.simplertplot import queues\n",
    "from hello.hello3 import HelloApp, TrueError\n",
    "from time import time, sleep\n",
    "import numpy as np\n",
    "from matplotlib.ticker import NullFormatter, NullLocator, FormatStrFormatter"
   ]
  },
  {
   "cell_type": "code",
   "execution_count": 3,
   "metadata": {
    "collapsed": true
   },
   "outputs": [],
   "source": [
    "#ip = '192.168.1.85'\n",
    "ip = '71.189.82.196:88'"
   ]
  },
  {
   "cell_type": "code",
   "execution_count": 4,
   "metadata": {
    "collapsed": false
   },
   "outputs": [
    {
     "data": {
      "text/plain": [
       "3600"
      ]
     },
     "execution_count": 4,
     "metadata": {},
     "output_type": "execute_result"
    }
   ],
   "source": [
    "interval = 1000\n",
    "minutes = 60\n",
    "max_pts=minutes*60/(interval/1000)\n",
    "max_pts=int(max_pts)\n",
    "max_pts"
   ]
  },
  {
   "cell_type": "code",
   "execution_count": 15,
   "metadata": {
    "collapsed": false
   },
   "outputs": [],
   "source": [
    "class MyPlotWidget(RTPlotWidget):\n",
    "    def __init__(self, *args, **kw):\n",
    "        super().__init__(*args, **kw)\n",
    "        self.y = None\n",
    "        self.x = None\n",
    "        #self._special()\n",
    "\n",
    "    def _update_data(self):\n",
    "        self.line.set_data(self.x_data.get(), self.y_data.get())\n",
    "        #self.line2.set_data(self.x_data.get(), self.y_data2.get())\n",
    "        self.subplot.relim()\n",
    "        self.subplot.autoscale_view(True, True, True)\n",
    "        #self.ax2.relim()\n",
    "        #self.ax2.autoscale_view(True,True,True)\n",
    "        lower, upper = self.subplot.get_ybound()\n",
    "        self.subplot.set_ylim(lower-0.2, upper+0.2, True, None)\n",
    "        #lower, upper = self.ax2.get_ybound()\n",
    "        #self.ax2.set_ylim(lower-1, upper+1, True, None)\n",
    "        self._update()\n",
    "        \n",
    "    def _special(self):\n",
    "        self.ax2 = self.subplot.twinx()\n",
    "        self.y_data2 = queues.RingBuffer(self.max_pts)\n",
    "        self.line2, = self.ax2.plot(self.x_data.get(), self.y_data2.get(), 'g-')\n",
    "        self.yaxis2 = self.ax2.yaxis\n",
    "        self.yaxis2.set_major_formatter(FormatStrFormatter(\"%.2f\"))\n",
    "\n",
    "    def extend_xy(self, x, y, y2):\n",
    "        \n",
    "        if self.y is None:\n",
    "            self.x = x\n",
    "            self.y = y\n",
    "        else:\n",
    "            self.y += (x-self.x)*(y-self.y)*0.1\n",
    "            y = self.y\n",
    "        self.x_data.extend(x)\n",
    "        self.y_data.extend(y)\n",
    "        \n",
    "        #self.y_data2.extend(y2)\n",
    "        self._update_data()\n",
    "        \n",
    "    def legend(self, text1):\n",
    "        self.line.set_label(text1)\n",
    "        #self.line2.set_label(text2)\n",
    "#         l1.set_text(text1)\n",
    "#         l2.set_text(text2)\n",
    "        h1, l1 = self.subplot.get_legend_handles_labels()\n",
    "        #h2, l2 = self.ax2.get_legend_handles_labels()\n",
    "        #h1.extend(h2)\n",
    "        #l1.extend(l2)\n",
    "        self.subplot.legend(h1, l1)\n",
    "        #self.subplot.legend(loc='upper right')\n",
    "        #self.ax2.legend(loc='lower right')\n",
    "        \n",
    "    def reset(self):\n",
    "        self.x_data.clear()\n",
    "        self.y_data.clear()\n",
    "        #self.y_data2.clear()\n",
    "        self._update_data()\n",
    "        self.x = self.y = None\n",
    "\n",
    "    def add_xy(self, x, y):\n",
    "        if self.y is None:\n",
    "            self.x = x\n",
    "            self.y = y\n",
    "        else:\n",
    "            self.y += (x-self.x)*(y-self.y)*0.1\n",
    "            #y = self.y\n",
    "            self.y = y\n",
    "            self.x = x\n",
    "        self.x_data.put(x)\n",
    "        self.y_data.put(y)\n",
    "        self._update_data()"
   ]
  },
  {
   "cell_type": "code",
   "execution_count": 16,
   "metadata": {
    "collapsed": true
   },
   "outputs": [],
   "source": [
    "def timer():\n",
    "    start = time()\n",
    "    while True:\n",
    "        current = time()\n",
    "        yield current - start\n",
    "get_time = timer().__next__"
   ]
  },
  {
   "cell_type": "code",
   "execution_count": 17,
   "metadata": {
    "collapsed": true
   },
   "outputs": [],
   "source": [
    "g_stop_tasks = False\n",
    "g_after = None\n",
    "def tk_task(tk, interval, f):\n",
    "    global g_after, g_stop_tasks\n",
    "    def fn(*args, **kw):\n",
    "        global g_after\n",
    "        try:\n",
    "            return f(*args, **kw)\n",
    "        finally:\n",
    "            if not g_stop_tasks:\n",
    "                g_after = tk.after(interval, fn)\n",
    "    g_after = tk.after(interval, fn)"
   ]
  },
  {
   "cell_type": "code",
   "execution_count": 18,
   "metadata": {
    "collapsed": true
   },
   "outputs": [],
   "source": [
    "controller = 'level'"
   ]
  },
  {
   "cell_type": "code",
   "execution_count": 19,
   "metadata": {
    "collapsed": false
   },
   "outputs": [],
   "source": [
    "import threading\n",
    "class Model():\n",
    "    def __init__(self, app, ctrl, interval=0.1):\n",
    "        self.mv = app.getMainValues()  # prepopulate\n",
    "        self.time = get_time()\n",
    "        self.lock = threading.RLock()\n",
    "        self.running = threading.Event()\n",
    "        self.thread = None\n",
    "        self.app = app\n",
    "        self.interval = interval\n",
    "        self.ctrl = ctrl\n",
    "    def getvalues(self):\n",
    "        with self.lock:\n",
    "            pv = self.mv[self.ctrl]['pv']\n",
    "            t = self.time\n",
    "        return t, pv\n",
    "    def getMainValues(self):\n",
    "        return self.mv\n",
    "    def run_update(self):\n",
    "        self.running.set()\n",
    "        self.thread = threading.Thread(None, self._run_update, daemon=True)\n",
    "        self.thread.start()\n",
    "    def _run_update(self):\n",
    "        while self.running.is_set():\n",
    "            try:\n",
    "                mv = self.app.getMainValues()\n",
    "            except Exception:\n",
    "                self.app.reconnect()\n",
    "                continue\n",
    "            with self.lock:\n",
    "                self.mv = mv\n",
    "                self.time = get_time()\n",
    "            sleep(self.interval)\n",
    "    def stop(self):\n",
    "        self.running.clear()\n",
    "        self.thread.join(timeout=10)\n",
    "        if self.thread.is_alive():\n",
    "            raise RuntimeError(\"Failed to stop thread\")\n",
    "    def reset(self):\n",
    "        self.time = get_time()\n",
    "        self.stop()\n",
    "        self.run_update()\n",
    "\n",
    "h = HelloApp(ip)\n",
    "m = Model(h, controller, 0.5)\n",
    "m.run_update()\n",
    "\n",
    "def update():\n",
    "    t, pv= m.getvalues()\n",
    "    p.add_xy(t, pv)\n",
    "    update_labels(pv)"
   ]
  },
  {
   "cell_type": "code",
   "execution_count": 20,
   "metadata": {
    "collapsed": true
   },
   "outputs": [],
   "source": [
    "def printdir(o):\n",
    "    for a in dir(o):\n",
    "        if not a.startswith(\"_\"):\n",
    "            print(a, getattr(o, a))"
   ]
  },
  {
   "cell_type": "code",
   "execution_count": 21,
   "metadata": {
    "collapsed": true
   },
   "outputs": [],
   "source": [
    "def conf2(ev):\n",
    "    if ev.widget == root:\n",
    "        p.tkcanvas.config(height=ev.height, width=ev.width-rbtn.winfo_width())"
   ]
  },
  {
   "cell_type": "code",
   "execution_count": 22,
   "metadata": {
    "collapsed": false
   },
   "outputs": [
    {
     "data": {
      "text/plain": [
       "3600"
      ]
     },
     "execution_count": 22,
     "metadata": {},
     "output_type": "execute_result"
    }
   ],
   "source": [
    "root = tk.Tk()\n",
    "root.withdraw()\n",
    "\n",
    "p = MyPlotWidget(root, max_pts=max_pts)\n",
    "p.tkcanvas.config(height=400, width=600)\n",
    "max_pts\n"
   ]
  },
  {
   "cell_type": "code",
   "execution_count": 23,
   "metadata": {
    "collapsed": false
   },
   "outputs": [],
   "source": [
    "class ILabel(tk.Label):\n",
    "    def __init__(self, master, name, value=0, fmt=\"%.2f\"):\n",
    "        super().__init__(master)\n",
    "        self.fmt = fmt\n",
    "        self.name = name\n",
    "        self.set_value(value)\n",
    "        \n",
    "    def set_value(self, val):\n",
    "        val = self.fmt % val\n",
    "        self.config(text=\"%s: %s\" % (self.name, val))\n",
    "   \n",
    "labels = {}\n",
    "def mk_label(name, val, row):\n",
    "    l = ILabel(root, name, val)\n",
    "    labels[name] = l\n",
    "    l.grid(row=row, column=1)\n",
    "    \n",
    "mk_label(\"PV\", 0, 1)\n",
    "p.legend(\"PV\")\n",
    "    \n",
    "def update_labels(pv):\n",
    "    labels['PV'].set_value(pv)\n",
    "\n",
    "    "
   ]
  },
  {
   "cell_type": "code",
   "execution_count": 24,
   "metadata": {
    "collapsed": false
   },
   "outputs": [],
   "source": [
    "p.grid(rowspan=20, column=0, row=0)    \n",
    "def reset():\n",
    "    p.reset()\n",
    "    global get_time\n",
    "    get_time = timer().__next__\n",
    "    m.reset()\n",
    "rbtn = tk.Button(root, text=\"Reset\", command=reset)\n",
    "rbtn.grid(column=1, row=0, sticky=\"ew\")\n",
    "root.bind(\"<Configure>\", conf2)\n",
    "p.set_xaxis_text(\"Time (s)\")\n",
    "p.set_yaxis_text(\"%s PV\" % controller.title())\n",
    "def on_closing():\n",
    "    from tkinter import messagebox\n",
    "    if messagebox.askokcancel(\"Quit\", \"Do you want to quit?\"):\n",
    "        global g_stop_tasks, g_after\n",
    "        g_stop_tasks = True\n",
    "        root.after_cancel(g_after)\n",
    "        root.quit()\n",
    "        root.destroy()\n",
    "p.subplot.grid()\n",
    "root.protocol(\"WM_DELETE_WINDOW\", on_closing)\n",
    "root.wm_deiconify()\n",
    "tk_task(root, interval, update)\n",
    "try:\n",
    "    root.mainloop()\n",
    "finally:\n",
    "    m.stop()\n"
   ]
  },
  {
   "cell_type": "code",
   "execution_count": null,
   "metadata": {
    "collapsed": true
   },
   "outputs": [],
   "source": []
  },
  {
   "cell_type": "code",
   "execution_count": null,
   "metadata": {
    "collapsed": true
   },
   "outputs": [],
   "source": []
  }
 ],
 "metadata": {
  "kernelspec": {
   "display_name": "Python 3",
   "language": "python",
   "name": "python3"
  },
  "language_info": {
   "codemirror_mode": {
    "name": "ipython",
    "version": 3
   },
   "file_extension": ".py",
   "mimetype": "text/x-python",
   "name": "python",
   "nbconvert_exporter": "python",
   "pygments_lexer": "ipython3",
   "version": "3.5.2"
  }
 },
 "nbformat": 4,
 "nbformat_minor": 0
}
