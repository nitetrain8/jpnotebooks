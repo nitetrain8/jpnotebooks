{
 "cells": [
  {
   "cell_type": "code",
   "execution_count": 6,
   "metadata": {},
   "outputs": [],
   "source": [
    "from datetime import datetime, timedelta"
   ]
  },
  {
   "cell_type": "code",
   "execution_count": 7,
   "metadata": {},
   "outputs": [],
   "source": [
    "DATE_FMT = \"%I:%M %p %m/%d/%y\"\n",
    "TOTAL = 0\n",
    "def strptime(d):\n",
    "    return datetime.strptime(d, DATE_FMT)\n",
    "\n",
    "def dt(d1, d2):\n",
    "    global TOTAL\n",
    "    t = strptime(d2) - strptime(d1)\n",
    "    h = (t.total_seconds() / 3600)\n",
    "    TOTAL += h\n",
    "    print(\"Current: %.1f Total: %.1f\"%(h,TOTAL))\n",
    "\n",
    "def reset():\n",
    "    global TOTAL\n",
    "    TOTAL = 0"
   ]
  },
  {
   "cell_type": "code",
   "execution_count": 8,
   "metadata": {},
   "outputs": [
    {
     "name": "stdout",
     "output_type": "stream",
     "text": [
      "Current: 21.0 Total: 21.0\n",
      "Current: 122.0 Total: 143.0\n",
      "Current: 45.0 Total: 188.0\n"
     ]
    }
   ],
   "source": [
    "d1s = \"4:30 pm 11/21/17\"\n",
    "d1f = \"1:30 pm 11/22/17\"\n",
    "\n",
    "d2s = \"1:30 pm 11/22/17\"\n",
    "d2f = \"3:30 pm 11/27/17\"\n",
    "\n",
    "d3s = \"3:30 pm 11/27/17\"\n",
    "d3f = \"12:30 pm 11/29/17\"\n",
    "\n",
    "dt(d1s,d1f)\n",
    "dt(d2s,d2f)\n",
    "dt(d3s,d3f)"
   ]
  },
  {
   "cell_type": "code",
   "execution_count": 7,
   "metadata": {},
   "outputs": [
    {
     "data": {
      "text/plain": [
       "'Current: 96.5 Total: 116.5'"
      ]
     },
     "execution_count": 7,
     "metadata": {},
     "output_type": "execute_result"
    }
   ],
   "source": [
    "d3 = d2\n",
    "d4 = \"1:30 pm 12/11/17\"\n",
    "dt(d3, d4)"
   ]
  },
  {
   "cell_type": "code",
   "execution_count": 8,
   "metadata": {},
   "outputs": [
    {
     "data": {
      "text/plain": [
       "'Current: 20.5 Total: 137.0'"
      ]
     },
     "execution_count": 8,
     "metadata": {},
     "output_type": "execute_result"
    }
   ],
   "source": [
    "d5 = \"4:00 pm 12/11/17\"\n",
    "d6 = \"12:30 pm 12/12/17\"\n",
    "dt(d5, d6)"
   ]
  },
  {
   "cell_type": "code",
   "execution_count": null,
   "metadata": {},
   "outputs": [],
   "source": []
  }
 ],
 "metadata": {
  "kernelspec": {
   "display_name": "Python 3",
   "language": "python",
   "name": "python3"
  },
  "language_info": {
   "codemirror_mode": {
    "name": "ipython",
    "version": 3
   },
   "file_extension": ".py",
   "mimetype": "text/x-python",
   "name": "python",
   "nbconvert_exporter": "python",
   "pygments_lexer": "ipython3",
   "version": "3.5.2"
  }
 },
 "nbformat": 4,
 "nbformat_minor": 2
}
