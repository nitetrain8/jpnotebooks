{
 "cells": [
  {
   "cell_type": "code",
   "execution_count": 1,
   "metadata": {},
   "outputs": [],
   "source": [
    "from datetime import datetime, timedelta"
   ]
  },
  {
   "cell_type": "code",
   "execution_count": 2,
   "metadata": {},
   "outputs": [],
   "source": [
    "DATE_FMT = \"%I:%M %p %m/%d/%y\"\n",
    "TOTAL = 0\n",
    "def strptime(d):\n",
    "    return datetime.strptime(d, DATE_FMT)\n",
    "\n",
    "def dt(d1, d2):\n",
    "    global TOTAL\n",
    "    t = strptime(d2) - strptime(d1)\n",
    "    h = (t.total_seconds() / 3600)\n",
    "    TOTAL += h\n",
    "    print(\"Current: %.1f Total: %.1f\"%(h,TOTAL))\n",
    "\n",
    "def reset():\n",
    "    global TOTAL\n",
    "    TOTAL = 0"
   ]
  },
  {
   "cell_type": "code",
   "execution_count": 3,
   "metadata": {},
   "outputs": [
    {
     "name": "stdout",
     "output_type": "stream",
     "text": [
      "Current: 73.2 Total: 73.2\n",
      "Current: 17.8 Total: 91.0\n"
     ]
    }
   ],
   "source": [
    "d1s = \"3:30 pm 11/2/18\"\n",
    "d1f = \"4:45 pm 11/5/18\"\n",
    "\n",
    "d2s = \"6:00 pm 11/8/18\"\n",
    "d2f = \"11:45 am 11/9/18\"\n",
    "\n",
    "# d3s = \"3:30 pm 11/27/17\"\n",
    "# d3f = \"12:30 pm 11/29/17\"\n",
    "\n",
    "dt(d1s,d1f)\n",
    "dt(d2s,d2f)\n",
    "# dt(d3s,d3f)"
   ]
  },
  {
   "cell_type": "code",
   "execution_count": 7,
   "metadata": {},
   "outputs": [
    {
     "data": {
      "text/plain": [
       "'Current: 96.5 Total: 116.5'"
      ]
     },
     "execution_count": 7,
     "metadata": {},
     "output_type": "execute_result"
    }
   ],
   "source": [
    "d3 = d2\n",
    "d4 = \"1:30 pm 12/11/17\"\n",
    "dt(d3, d4)"
   ]
  },
  {
   "cell_type": "code",
   "execution_count": 3,
   "metadata": {},
   "outputs": [
    {
     "name": "stdout",
     "output_type": "stream",
     "text": [
      "Current: 163.8 Total: 163.8\n"
     ]
    }
   ],
   "source": [
    "d5 = \"3:15 pm 12/5/19\"\n",
    "d6 = \"11:00 am 12/12/19\"\n",
    "dt(d5, d6)"
   ]
  },
  {
   "cell_type": "code",
   "execution_count": 4,
   "metadata": {},
   "outputs": [
    {
     "data": {
      "text/plain": [
       "188.3"
      ]
     },
     "execution_count": 4,
     "metadata": {},
     "output_type": "execute_result"
    }
   ],
   "source": [
    "163.8+24.5"
   ]
  },
  {
   "cell_type": "code",
   "execution_count": null,
   "metadata": {},
   "outputs": [],
   "source": []
  }
 ],
 "metadata": {
  "kernelspec": {
   "display_name": "Python 3",
   "language": "python",
   "name": "python3"
  },
  "language_info": {
   "codemirror_mode": {
    "name": "ipython",
    "version": 3
   },
   "file_extension": ".py",
   "mimetype": "text/x-python",
   "name": "python",
   "nbconvert_exporter": "python",
   "pygments_lexer": "ipython3",
   "version": "3.5.2"
  }
 },
 "nbformat": 4,
 "nbformat_minor": 2
}
