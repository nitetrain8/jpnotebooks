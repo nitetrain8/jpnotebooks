{
 "cells": [
  {
   "cell_type": "code",
   "execution_count": 1,
   "metadata": {
    "collapsed": false
   },
   "outputs": [
    {
     "name": "stdout",
     "output_type": "stream",
     "text": [
      "Using matplotlib backend: TkAgg\n"
     ]
    }
   ],
   "source": [
    "%matplotlib\n",
    "from matplotlib import pyplot as plt\n",
    "import numpy as np"
   ]
  },
  {
   "cell_type": "code",
   "execution_count": 5,
   "metadata": {
    "collapsed": false
   },
   "outputs": [],
   "source": [
    "f = plt.figure()\n",
    "ax = f.add_subplot(1,1,1)\n",
    "#line, = ax.plot(x, y1)"
   ]
  },
  {
   "cell_type": "code",
   "execution_count": 6,
   "metadata": {
    "collapsed": false
   },
   "outputs": [],
   "source": [
    "sp = 7.2\n",
    "ohigh = 0.2\n",
    "olow = 0.6\n",
    "bshutoff = 0.1\n",
    "\n",
    "x = np.arange(1000)/50\n",
    "y2 = np.sin(x)*(1/(x+.1)**1.5)\n",
    "y2 += sp\n",
    "ax.clear()\n",
    "co2_line, = ax.plot(x, y2)\n",
    "\n",
    "spy = np.full(len(x), sp, dtype=float)\n",
    "sp_line, = ax.plot(x, spy)\n",
    "ax.set_ylim(6.5, 8)\n",
    "\n",
    "pband_high = spy - ohigh\n",
    "pband_low = spy - olow\n",
    "pb_high_line, pb_low_line = ax.plot(x, pband_low, \"r:\", x, pband_high, \"r:\")\n",
    "bshutoff_line, = ax.plot(x, pband_high+bshutoff, (\"m:\"))\n",
    "\n",
    "bprops = dict(boxstyle=\"square\", edgecolor=\"none\", fc=\"w\")\n",
    "\n",
    "ann_bshutoff = ax.annotate(\"Base Shutoff\", xy=(10, sp-ohigh+bshutoff), ha='center', va='center', bbox=bprops)\n",
    "ann_20base = ax.annotate(\"Base On, 20%% (%.1f)\"%(sp-ohigh), xy=(10, sp-ohigh), ha='center', va='center', bbox=bprops)\n",
    "ann_100base = ax.annotate(\"Base Max, 100%% (%.1f)\"%(sp-olow), xy=(10, sp-olow), ha='center', va='center', bbox=bprops)\n",
    "ann_co2 = ax.annotate(\"CO2 controlled PV\", xy=(2.5, 7.5))"
   ]
  },
  {
   "cell_type": "code",
   "execution_count": 113,
   "metadata": {
    "collapsed": false
   },
   "outputs": [],
   "source": []
  },
  {
   "cell_type": "code",
   "execution_count": 97,
   "metadata": {
    "collapsed": false
   },
   "outputs": [],
   "source": []
  },
  {
   "cell_type": "code",
   "execution_count": null,
   "metadata": {
    "collapsed": true
   },
   "outputs": [],
   "source": []
  }
 ],
 "metadata": {
  "kernelspec": {
   "display_name": "Python 3",
   "language": "python",
   "name": "python3"
  },
  "language_info": {
   "codemirror_mode": {
    "name": "ipython",
    "version": 3
   },
   "file_extension": ".py",
   "mimetype": "text/x-python",
   "name": "python",
   "nbconvert_exporter": "python",
   "pygments_lexer": "ipython3",
   "version": "3.5.2"
  }
 },
 "nbformat": 4,
 "nbformat_minor": 1
}
