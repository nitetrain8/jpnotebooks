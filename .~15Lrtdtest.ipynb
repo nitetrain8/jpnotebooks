{
 "cells": [
  {
   "cell_type": "code",
   "execution_count": 23,
   "metadata": {
    "collapsed": true
   },
   "outputs": [],
   "source": [
    "from officelib.xllib import *\n",
    "from officelib import const as c\n",
    "from hello.hello import *\n",
    "import os\n",
    "os.chdir(\"C:/.replcache\")"
   ]
  },
  {
   "cell_type": "code",
   "execution_count": 24,
   "metadata": {
    "collapsed": false
   },
   "outputs": [],
   "source": [
    "def download(ip, name, fp):\n",
    "    app = open_hello(ip)\n",
    "    app.login()\n",
    "    r = app.getdatareport_bybatchname(name)\n",
    "    with open(fp, 'wb') as f:\n",
    "        f.write(r)"
   ]
  },
  {
   "cell_type": "code",
   "execution_count": 25,
   "metadata": {
    "collapsed": false
   },
   "outputs": [],
   "source": [
    "def find_column(rng, header):\n",
    "    return rng.Find(header, SearchOrder=c.xlByColumns)\n",
    "\n",
    "def fudge_column(cells):\n",
    "    \"\"\" For some reason, cells.Find() can't find \n",
    "    the requested header if the header occurs in the \n",
    "    first column, so insert a dummy here \"\"\"\n",
    "    cells.Columns(1).Insert()\n",
    "\n",
    "def get_header_data(cells, h):\n",
    "    col = find_column(cells, h)\n",
    "    s = col.Offset(2,2)\n",
    "    e = s.End(c.xlDown)\n",
    "    rows = e.Row-s.Row + 1\n",
    "    return col, s, e, rows\n",
    "\n",
    "def make_col(ref, offset, header):\n",
    "    c = ref.Offset(1, offset)\n",
    "    c.Value = header\n",
    "    s = c.Offset(2, 1)\n",
    "    return c, s\n",
    "\n",
    "def create_data(cells):\n",
    "    rng=cells.Rows(1)\n",
    "    fo = get_data(\"FilterOvenPV(C)\")\n",
    "    ta = get_data(\"TempA(C)\")\n",
    "    tb = get_data(\"TempB(C)\")\n",
    "    \n",
    "    amb = tb.Offset(1,4)\n",
    "    diff = amb.Offset(1,2)\n",
    "    \n",
    "    amb.Value = \"Ambient\"\n",
    "    diff.Value = \"Diff A-B\"\n",
    "    \n",
    "    return fo, ta, tb, amb, diff\n",
    "\n",
    "def make_amb_diff(cells):\n",
    "    fo, fo_start, fo_end, fo_r = get_header_data(cells, \"FilterOvenPV(C)\")\n",
    "    tempa, tempa_start, tempa_end, tempa_r = get_header_data(cells, \"TempA(C)\")\n",
    "    tempb, tempb_start, tempb_end, tempb_r = get_header_data(cells, \"TempB(C)\")\n",
    "\n",
    "    assert (fo_r == tempa_r and fo_r == tempb_r)\n",
    "    \n",
    "    amb, amb_start = make_col(tempb, 4, \"Ambient\")\n",
    "    diff, diff_start = make_col(amb, 2, \"Diff A-B\")\n",
    "\n",
    "    amb_form = \"=%s\" % addr(fo_start)\n",
    "    diff_form = \"=%s-%s\" % (addr(tempa_start), addr(tempb_start))\n",
    "\n",
    "    amb_start.Value = amb_form\n",
    "    diff_start.Value = diff_form\n",
    "    \n",
    "    form_rng = cells.Range(amb_start, diff_start)\n",
    "    dst = cells.Range(amb_start, diff_start.Offset(fo_r, 1))\n",
    "    form_rng.AutoFill(dst)\n",
    "    \n",
    "    return amb_start, diff_start\n",
    "\n",
    "def addr(r):\n",
    "    return r.GetAddress(False, False)\n",
    "\n",
    "def chart_data_rng(cells, xc, yc):\n",
    "    x = cells.Range(xc, xc.End(c.xlDown))\n",
    "    y = cells.Range(yc, yc.End(c.xlDown))\n",
    "    return x, y\n",
    "\n",
    "def min_and_max(cells, x_start, ystart):\n",
    "    rng = cells.Range(x_start, x_start.End(c.xlDown))\n",
    "    yrng = cells.Range(ystart, ystart.End(c.xlDown))\n",
    "    x = [x1[0] for x1 in rng.Value]\n",
    "    y = [y1[0] for y1 in yrng.Value]\n",
    "    xmin = min(x)\n",
    "    xmax = max(x)\n",
    "    ymin = min(y)\n",
    "    ymax = max(y)\n",
    "    return xmin, xmax, ymin, ymax\n",
    "\n",
    "def shrink_markers(c, sz=2):\n",
    "    for s in c.SeriesCollection():\n",
    "        s.MarkerSize=sz\n",
    "\n",
    "def analyze_rtd_data(pth, title):\n",
    "    \n",
    "    fp = os.path.abspath(pth)\n",
    "    \n",
    "    # Init ctx\n",
    "    xl = Excel(visible=False)\n",
    "    with HiddenXl(xl):\n",
    "        wb = xl.Workbooks.Open(fp)\n",
    "        ws = wb.Worksheets(1)\n",
    "        cells = ws.Cells  \n",
    "        _analyze_rtd_data_inner(xl, wb, ws, cells, title)\n",
    "\n",
    "def _analyze_rtd_data_inner(xl, wb, ws, cells, title):\n",
    "    # data analysis \n",
    "    fudge_column(cells)\n",
    "    amb_start, diff_start = make_amb_diff(cells)\n",
    "    \n",
    "    # create chart ambient vs rtd error\n",
    "    c1 = CreateChart(ws)\n",
    "    x, y = chart_data_rng(cells, amb_start, diff_start)\n",
    "    series = CreateDataSeries(c1, x, y)\n",
    "    \n",
    "    FormatChart(c1, None, title, \"Ambient Temp(C)\", \"Err A-B\", True, False)\n",
    "    shrink_markers(c1)\n",
    "    \n",
    "    xmin, xmax, ymin, ymax = min_and_max(cells, amb_start, diff_start)\n",
    "    FormatAxesScale(c1, int(xmin)-2, int(xmax)+2, round(ymin-.2, 1), round(ymax+.2, 1))\n",
    "        \n",
    "    c1.Location(c.xlLocationAsNewSheet, \"AmbRTD\")\n",
    "    c1 = wb.Charts(\"AmbRTD\")\n",
    "    \n",
    "    # create chart amb v. time and diff v. time\n",
    "    \n",
    "    # time data\n",
    "    tb = find_column(cells, \"TempB\")\n",
    "    ts = tb.Offset(2,1)\n",
    "    te = ts.End(c.xlDown)\n",
    "    t = cells.Range(ts, te)\n",
    "    \n",
    "    c2 = CreateChart(ws)\n",
    "    s2 = CreateDataSeries(c2, t, x, \"Ambient\")\n",
    "    s3 = CreateDataSeries(c2, t, y, \"Diff\")\n",
    "    FormatChart(c2, None, title, \"Time\", \"Temp(C)\")\n",
    "    s3.AxisGroup = 2\n",
    "    y2ax = c2.Axes(2, c.xlSecondary); y2ax.HasTitle=True; y2ax.AxisTitle.Text = \"Diff A-B\"\n",
    "    \n",
    "    \n",
    "    xmin, xmax, y1min, y1max = min_and_max(cells, ts, amb_start)\n",
    "    _, _, y2min, y2max = min_and_max(cells, ts, diff_start)\n",
    "    y1min = int(y1min-1)\n",
    "    y1max = int(y1max+1)\n",
    "    y2min = round(y2min-.2,1)\n",
    "    y2max = round(y2max+.2,1)\n",
    "    FormatAxesScale(c2, None, None, y1min, y1max, y2min, y2max)    \n",
    "    shrink_markers(c2)\n",
    "    c2.Axes(1).TickLabels.NumberFormat = \"[$-409]h:mm AM/PM;@\"\n",
    "    c2.Location(c.xlLocationAsNewSheet, \"vs Time\")\n",
    "    return c1, c2"
   ]
  },
  {
   "cell_type": "code",
   "execution_count": 26,
   "metadata": {
    "collapsed": true
   },
   "outputs": [],
   "source": [
    "def download_and_analyze(ip, name, title):\n",
    "    os.chdir(\"C:/.replcache\")\n",
    "    fp = name+\".csv\"\n",
    "    download(ip, name, fp)\n",
    "    analyze_rtd_data(fp, title)"
   ]
  },
  {
   "cell_type": "code",
   "execution_count": 27,
   "metadata": {
    "collapsed": true
   },
   "outputs": [
    {
     "ename": "com_error",
     "evalue": "(-2147352567, 'Exception occurred.', (0, None, None, None, 0, -2147467259), None)",
     "output_type": "error",
     "traceback": [
      "\u001b[1;31m---------------------------------------------------------------------------\u001b[0m",
      "\u001b[1;31mcom_error\u001b[0m                                 Traceback (most recent call last)",
      "\u001b[1;32m<ipython-input-27-4f7c91992cab>\u001b[0m in \u001b[0;36m<module>\u001b[1;34m()\u001b[0m\n\u001b[1;32m----> 1\u001b[1;33m \u001b[0mdownload_and_analyze\u001b[0m\u001b[1;33m(\u001b[0m\u001b[1;34m'71.189.82.196:6'\u001b[0m\u001b[1;33m,\u001b[0m \u001b[1;34m'rtdtest'\u001b[0m\u001b[1;33m,\u001b[0m \u001b[1;34m'15L Ambient RTD Effect'\u001b[0m\u001b[1;33m)\u001b[0m\u001b[1;33m\u001b[0m\u001b[0m\n\u001b[0m",
      "\u001b[1;32m<ipython-input-26-4a3c434e9742>\u001b[0m in \u001b[0;36mdownload_and_analyze\u001b[1;34m(ip, name, title)\u001b[0m\n\u001b[0;32m      3\u001b[0m     \u001b[0mfp\u001b[0m \u001b[1;33m=\u001b[0m \u001b[0mname\u001b[0m\u001b[1;33m+\u001b[0m\u001b[1;34m\".csv\"\u001b[0m\u001b[1;33m\u001b[0m\u001b[0m\n\u001b[0;32m      4\u001b[0m     \u001b[0mdownload\u001b[0m\u001b[1;33m(\u001b[0m\u001b[0mip\u001b[0m\u001b[1;33m,\u001b[0m \u001b[0mname\u001b[0m\u001b[1;33m,\u001b[0m \u001b[0mfp\u001b[0m\u001b[1;33m)\u001b[0m\u001b[1;33m\u001b[0m\u001b[0m\n\u001b[1;32m----> 5\u001b[1;33m     \u001b[0manalyze_rtd_data\u001b[0m\u001b[1;33m(\u001b[0m\u001b[0mfp\u001b[0m\u001b[1;33m,\u001b[0m \u001b[0mtitle\u001b[0m\u001b[1;33m)\u001b[0m\u001b[1;33m\u001b[0m\u001b[0m\n\u001b[0m",
      "\u001b[1;32m<ipython-input-25-5bad2c43f2c3>\u001b[0m in \u001b[0;36manalyze_rtd_data\u001b[1;34m(pth, title)\u001b[0m\n\u001b[0;32m     90\u001b[0m         \u001b[0mws\u001b[0m \u001b[1;33m=\u001b[0m \u001b[0mwb\u001b[0m\u001b[1;33m.\u001b[0m\u001b[0mWorksheets\u001b[0m\u001b[1;33m(\u001b[0m\u001b[1;36m1\u001b[0m\u001b[1;33m)\u001b[0m\u001b[1;33m\u001b[0m\u001b[0m\n\u001b[0;32m     91\u001b[0m         \u001b[0mcells\u001b[0m \u001b[1;33m=\u001b[0m \u001b[0mws\u001b[0m\u001b[1;33m.\u001b[0m\u001b[0mCells\u001b[0m\u001b[1;33m\u001b[0m\u001b[0m\n\u001b[1;32m---> 92\u001b[1;33m         \u001b[0m_analyze_rtd_data_inner\u001b[0m\u001b[1;33m(\u001b[0m\u001b[0mxl\u001b[0m\u001b[1;33m,\u001b[0m \u001b[0mwb\u001b[0m\u001b[1;33m,\u001b[0m \u001b[0mws\u001b[0m\u001b[1;33m,\u001b[0m \u001b[0mcells\u001b[0m\u001b[1;33m,\u001b[0m \u001b[0mtitle\u001b[0m\u001b[1;33m)\u001b[0m\u001b[1;33m\u001b[0m\u001b[0m\n\u001b[0m\u001b[0;32m     93\u001b[0m \u001b[1;33m\u001b[0m\u001b[0m\n\u001b[0;32m     94\u001b[0m \u001b[1;32mdef\u001b[0m \u001b[0m_analyze_rtd_data_inner\u001b[0m\u001b[1;33m(\u001b[0m\u001b[0mxl\u001b[0m\u001b[1;33m,\u001b[0m \u001b[0mwb\u001b[0m\u001b[1;33m,\u001b[0m \u001b[0mws\u001b[0m\u001b[1;33m,\u001b[0m \u001b[0mcells\u001b[0m\u001b[1;33m,\u001b[0m \u001b[0mtitle\u001b[0m\u001b[1;33m)\u001b[0m\u001b[1;33m:\u001b[0m\u001b[1;33m\u001b[0m\u001b[0m\n",
      "\u001b[1;32m<ipython-input-25-5bad2c43f2c3>\u001b[0m in \u001b[0;36m_analyze_rtd_data_inner\u001b[1;34m(xl, wb, ws, cells, title)\u001b[0m\n\u001b[0;32m    123\u001b[0m     \u001b[0ms3\u001b[0m \u001b[1;33m=\u001b[0m \u001b[0mCreateDataSeries\u001b[0m\u001b[1;33m(\u001b[0m\u001b[0mc2\u001b[0m\u001b[1;33m,\u001b[0m \u001b[0mt\u001b[0m\u001b[1;33m,\u001b[0m \u001b[0my\u001b[0m\u001b[1;33m,\u001b[0m \u001b[1;34m\"Diff\"\u001b[0m\u001b[1;33m)\u001b[0m\u001b[1;33m\u001b[0m\u001b[0m\n\u001b[0;32m    124\u001b[0m     \u001b[0mFormatChart\u001b[0m\u001b[1;33m(\u001b[0m\u001b[0mc2\u001b[0m\u001b[1;33m,\u001b[0m \u001b[1;32mNone\u001b[0m\u001b[1;33m,\u001b[0m \u001b[0mtitle\u001b[0m\u001b[1;33m,\u001b[0m \u001b[1;34m\"Time\"\u001b[0m\u001b[1;33m,\u001b[0m \u001b[1;34m\"Temp(C)\"\u001b[0m\u001b[1;33m)\u001b[0m\u001b[1;33m\u001b[0m\u001b[0m\n\u001b[1;32m--> 125\u001b[1;33m     \u001b[0my2ax\u001b[0m \u001b[1;33m=\u001b[0m \u001b[0mc2\u001b[0m\u001b[1;33m.\u001b[0m\u001b[0mAxes\u001b[0m\u001b[1;33m(\u001b[0m\u001b[1;36m2\u001b[0m\u001b[1;33m,\u001b[0m \u001b[0mc\u001b[0m\u001b[1;33m.\u001b[0m\u001b[0mxlSecondary\u001b[0m\u001b[1;33m)\u001b[0m\u001b[1;33m;\u001b[0m \u001b[0my2ax\u001b[0m\u001b[1;33m.\u001b[0m\u001b[0mHasTitle\u001b[0m\u001b[1;33m=\u001b[0m\u001b[1;32mTrue\u001b[0m\u001b[1;33m;\u001b[0m \u001b[0my2ax\u001b[0m\u001b[1;33m.\u001b[0m\u001b[0mAxisTitle\u001b[0m\u001b[1;33m.\u001b[0m\u001b[0mText\u001b[0m \u001b[1;33m=\u001b[0m \u001b[1;34m\"Diff A-B\"\u001b[0m\u001b[1;33m\u001b[0m\u001b[0m\n\u001b[0m\u001b[0;32m    126\u001b[0m     \u001b[0ms3\u001b[0m\u001b[1;33m.\u001b[0m\u001b[0mAxisGroup\u001b[0m \u001b[1;33m=\u001b[0m \u001b[1;36m2\u001b[0m\u001b[1;33m\u001b[0m\u001b[0m\n\u001b[0;32m    127\u001b[0m \u001b[1;33m\u001b[0m\u001b[0m\n",
      "\u001b[1;32mc:\\python34\\lib\\site-packages\\win32com\\gen_py\\00020813-0000-0000-C000-000000000046x0x1x6\\_Chart.py\u001b[0m in \u001b[0;36mAxes\u001b[1;34m(self, Type, AxisGroup)\u001b[0m\n\u001b[0;32m     72\u001b[0m         \u001b[1;32mdef\u001b[0m \u001b[0mAxes\u001b[0m\u001b[1;33m(\u001b[0m\u001b[0mself\u001b[0m\u001b[1;33m,\u001b[0m \u001b[0mType\u001b[0m\u001b[1;33m=\u001b[0m\u001b[0mdefaultNamedNotOptArg\u001b[0m\u001b[1;33m,\u001b[0m \u001b[0mAxisGroup\u001b[0m\u001b[1;33m=\u001b[0m\u001b[1;36m1\u001b[0m\u001b[1;33m)\u001b[0m\u001b[1;33m:\u001b[0m\u001b[1;33m\u001b[0m\u001b[0m\n\u001b[0;32m     73\u001b[0m \t\tret = self._oleobj_.InvokeTypes(23, LCID, 1, (9, 0), ((12, 17), (3, 49)),Type\n\u001b[1;32m---> 74\u001b[1;33m \t\t\t, AxisGroup)\n\u001b[0m\u001b[0;32m     75\u001b[0m                 \u001b[1;32mif\u001b[0m \u001b[0mret\u001b[0m \u001b[1;32mis\u001b[0m \u001b[1;32mnot\u001b[0m \u001b[1;32mNone\u001b[0m\u001b[1;33m:\u001b[0m\u001b[1;33m\u001b[0m\u001b[0m\n\u001b[0;32m     76\u001b[0m                         \u001b[0mret\u001b[0m \u001b[1;33m=\u001b[0m \u001b[0mDispatch\u001b[0m\u001b[1;33m(\u001b[0m\u001b[0mret\u001b[0m\u001b[1;33m,\u001b[0m \u001b[1;34m'Axes'\u001b[0m\u001b[1;33m,\u001b[0m \u001b[1;32mNone\u001b[0m\u001b[1;33m)\u001b[0m\u001b[1;33m\u001b[0m\u001b[0m\n",
      "\u001b[1;31mcom_error\u001b[0m: (-2147352567, 'Exception occurred.', (0, None, None, None, 0, -2147467259), None)"
     ]
    }
   ],
   "source": [
    "download_and_analyze('71.189.82.196:6', 'rtdtest', '15L Ambient RTD Effect')"
   ]
  },
  {
   "cell_type": "code",
   "execution_count": null,
   "metadata": {
    "collapsed": true
   },
   "outputs": [],
   "source": [
    "analyze_rtd_data"
   ]
  },
  {
   "cell_type": "code",
   "execution_count": null,
   "metadata": {
    "collapsed": true
   },
   "outputs": [],
   "source": []
  }
 ],
 "metadata": {
  "kernelspec": {
   "display_name": "Python 3",
   "language": "python",
   "name": "python3"
  },
  "language_info": {
   "codemirror_mode": {
    "name": "ipython",
    "version": 3
   },
   "file_extension": ".py",
   "mimetype": "text/x-python",
   "name": "python",
   "nbconvert_exporter": "python",
   "pygments_lexer": "ipython3",
   "version": "3.4.1"
  }
 },
 "nbformat": 4,
 "nbformat_minor": 0
}
