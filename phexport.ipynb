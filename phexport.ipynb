{
 "cells": [
  {
   "cell_type": "code",
   "execution_count": 1,
   "metadata": {
    "collapsed": true
   },
   "outputs": [],
   "source": [
    "from hello.hello3 import *\n",
    "from datetime import datetime,timedelta"
   ]
  },
  {
   "cell_type": "code",
   "execution_count": 18,
   "metadata": {
    "collapsed": false,
    "scrolled": true
   },
   "outputs": [
    {
     "name": "stdout",
     "output_type": "stream",
     "text": [
      "Downloading from 02/23/17 05:30PM to 02/23/17 09:30PM\n",
      "Downloading from 02/23/17 09:30PM to 02/24/17 01:30AM\n",
      "Downloading from 02/24/17 01:30AM to 02/24/17 05:30AM\n",
      "Downloading from 02/24/17 05:30AM to 02/24/17 09:30AM\n",
      "Downloading from 02/24/17 09:30AM to 02/24/17 01:30PM\n",
      "Downloading from 02/24/17 01:30PM to 02/24/17 05:30PM\n",
      "Downloading from 02/24/17 05:30PM to 02/24/17 09:30PM\n",
      "Downloading from 02/24/17 09:30PM to 02/25/17 01:30AM\n",
      "Downloading from 02/25/17 01:30AM to 02/25/17 05:30AM\n",
      "Downloading from 02/25/17 05:30AM to 02/25/17 09:30AM\n",
      "Downloading from 02/25/17 09:30AM to 02/25/17 01:30PM\n",
      "Downloading from 02/25/17 01:30PM to 02/25/17 05:30PM\n",
      "Downloading from 02/25/17 05:30PM to 02/25/17 09:30PM\n",
      "Downloading from 02/25/17 09:30PM to 02/26/17 01:30AM\n",
      "Downloading from 02/26/17 01:30AM to 02/26/17 05:30AM\n",
      "Downloading from 02/26/17 05:30AM to 02/26/17 09:30AM\n",
      "Downloading from 02/26/17 09:30AM to 02/26/17 01:30PM\n",
      "Downloading from 02/26/17 01:30PM to 02/26/17 05:30PM\n",
      "Downloading from 02/26/17 05:30PM to 02/26/17 09:30PM\n",
      "Downloading from 02/26/17 09:30PM to 02/27/17 01:30AM\n",
      "Downloading from 02/27/17 01:30AM to 02/27/17 05:30AM\n",
      "Downloading from 02/27/17 05:30AM to 02/27/17 09:30AM\n",
      "Downloading from 02/27/17 09:30AM to 02/27/17 01:30PM\n",
      "Downloading from 02/27/17 01:30PM to 02/27/17 05:30PM\n",
      "Downloading from 02/27/17 05:30PM to 02/27/17 09:30PM\n",
      "Downloading from 02/27/17 09:30PM to 02/28/17 01:30AM\n",
      "Downloading from 02/28/17 01:30AM to 02/28/17 05:30AM\n",
      "Downloading from 02/28/17 05:30AM to 02/28/17 09:30AM\n",
      "Downloading from 02/28/17 09:30AM to 02/28/17 01:30PM\n",
      "Downloading from 02/28/17 01:30PM to 02/28/17 05:30PM\n",
      "Downloading from 02/28/17 05:30PM to 02/28/17 09:30PM\n",
      "Downloading from 02/28/17 09:30PM to 03/01/17 01:30AM\n",
      "Done\n"
     ]
    }
   ],
   "source": [
    "d1 = datetime(2017, 2, 23, 17, 30)\n",
    "\n",
    "span = timedelta(hours=4)\n",
    "end = datetime(2017, 3, 1)\n",
    "#end = d1+timedelta(hours=12)\n",
    "\n",
    "def hts(d):\n",
    "    return int(d.timestamp()*1)\n",
    "\n",
    "def fmt(d):\n",
    "    return d.strftime(\"%m/%d/%y %I:%M%p\")\n",
    "\n",
    "h = HelloApp('71.189.82.196:85')\n",
    "\n",
    "def download(h, d1, d2):\n",
    "    s1 = hts(d1)\n",
    "    s2 = hts(d2)\n",
    "    while True:\n",
    "        try:\n",
    "            h.login()\n",
    "            fn = h.getReport('byDate', 'process_data', s1, s2)\n",
    "        except BadError:\n",
    "            print(\"Error occurred during getReport\")\n",
    "            continue\n",
    "        else:\n",
    "            break\n",
    "    while True:\n",
    "        try:\n",
    "            h.login()\n",
    "            b = h.getfile(fn)\n",
    "        except BadError:\n",
    "            print(\"Error occurred during getfile\")\n",
    "            continue\n",
    "        else:\n",
    "            break\n",
    "    return b\n",
    "            \n",
    "path = \"ph downloads\\\\\"\n",
    "import os\n",
    "os.makedirs(path, exist_ok=True)\n",
    "while d1 < end:\n",
    "    d2 = d1+span\n",
    "\n",
    "    print(\"Downloading from %s to %s\" % (fmt(d1),fmt(d2)))\n",
    "    b = download(h, d1, d2)\n",
    "    dfmt = \"%m-%d-%y %H.%M\"\n",
    "    fn = path + \"%s to %s.csv\" % (d1.strftime(dfmt), d2.strftime(dfmt))\n",
    "    with open(fn, 'wb') as f:\n",
    "        f.write(b)\n",
    "    d1 += span\n",
    "    \n",
    "print(\"Done\")"
   ]
  },
  {
   "cell_type": "code",
   "execution_count": null,
   "metadata": {
    "collapsed": true
   },
   "outputs": [],
   "source": []
  }
 ],
 "metadata": {
  "kernelspec": {
   "display_name": "Python 3",
   "language": "python",
   "name": "python3"
  },
  "language_info": {
   "codemirror_mode": {
    "name": "ipython",
    "version": 3
   },
   "file_extension": ".py",
   "mimetype": "text/x-python",
   "name": "python",
   "nbconvert_exporter": "python",
   "pygments_lexer": "ipython3",
   "version": "3.5.2"
  }
 },
 "nbformat": 4,
 "nbformat_minor": 1
}
