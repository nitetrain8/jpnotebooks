{
 "cells": [
  {
   "cell_type": "code",
   "execution_count": 1,
   "metadata": {},
   "outputs": [],
   "source": [
    "from scripts.tools import active_dev_worksheet as adw\n",
    "from officelib.xllib import *\n",
    "import gc\n",
    "import time"
   ]
  },
  {
   "cell_type": "code",
   "execution_count": 2,
   "metadata": {},
   "outputs": [],
   "source": [
    "def save_to_sharepoint(wb, fp):\n",
    "    print(\"Saving to sharepoint...\")\n",
    "    try:\n",
    "        adw.save_to_sharepoint(wb, save_path)\n",
    "    except com_error:\n",
    "        print(\"Save failed :(\")\n",
    "    else:\n",
    "        print(\"Success! Wrapping up...\")\n",
    "    \n",
    "def make_worksheet(ws, g, ad_map):\n",
    "    print(\"Creating worksheet...\")\n",
    "    visitor = adw.PlanInitVisitor(ws, g, ad_map)\n",
    "    with screen_lock(ws.Application):\n",
    "        visitor.visit_all()\n",
    "        visitor.finish()\n",
    "        \n",
    "def open_worksheet(xl, template_path):\n",
    "    wb = xl.Workbooks.Open(template_path)\n",
    "    ws = wb.Worksheets(\"Outline\")\n",
    "    return wb, ws\n",
    "    \n",
    "def begin(api_key): \n",
    "    \"\"\" Should be separate methods\n",
    "    but too lazy.... \n",
    "    \"\"\"\n",
    "    print(\"Downloading issues and making graph...\")\n",
    "    g, ad_map = adw.make_graph(api_key)\n",
    "    \n",
    "    print(\"Opening background Excel task...\")\n",
    "    xl = adw.background_excel()\n",
    "    \n",
    "    return xl, g, ad_map\n",
    "    \n",
    "def finish(xl):\n",
    "    xl.ActiveWindow.WindowState = xlc.xlNormal\n",
    "    \n",
    "    \n",
    "def main(api_key, template_path, save_path):\n",
    "    start = time.time()\n",
    "    \n",
    "    xl, g, ad_map = begin(api_key)\n",
    "    with HiddenXl(xl):\n",
    "        wb, ws = open_worksheet(xl, template_path)\n",
    "        make_worksheet(ws, g, ad_map)\n",
    "        save_to_sharepoint(wb, save_path)\n",
    "        finish(xl)\n",
    "\n",
    "    # release & clean up COM object references\n",
    "    del xl, wb, ws\n",
    "    gc.collect()\n",
    "    gc.collect()  # just in case :)"
   ]
  },
  {
   "cell_type": "code",
   "execution_count": 3,
   "metadata": {},
   "outputs": [
    {
     "name": "stdout",
     "output_type": "stream",
     "text": [
      "Downloading issues and making graph...\n",
      "Opening background Excel task...\n",
      "Creating worksheet...\n"
     ]
    },
    {
     "ename": "AttributeError",
     "evalue": "module 'scripts.tools.active_dev_worksheet' has no attribute 'PlanInitVisitor'",
     "output_type": "error",
     "traceback": [
      "\u001b[1;31m---------------------------------------------------------------------------\u001b[0m",
      "\u001b[1;31mAttributeError\u001b[0m                            Traceback (most recent call last)",
      "\u001b[1;32m<ipython-input-3-d4becccfc43e>\u001b[0m in \u001b[0;36m<module>\u001b[1;34m\u001b[0m\n\u001b[0;32m      4\u001b[0m \u001b[0mtemplate_path\u001b[0m \u001b[1;33m=\u001b[0m \u001b[0mos\u001b[0m\u001b[1;33m.\u001b[0m\u001b[0mpath\u001b[0m\u001b[1;33m.\u001b[0m\u001b[0mexpanduser\u001b[0m\u001b[1;33m(\u001b[0m\u001b[1;34m\"~\\\\documents\\\\pbs\\\\wip procedures-reports\\\\project task template2.xlsx\"\u001b[0m\u001b[1;33m)\u001b[0m\u001b[1;33m\u001b[0m\u001b[1;33m\u001b[0m\u001b[0m\n\u001b[0;32m      5\u001b[0m \u001b[1;33m\u001b[0m\u001b[0m\n\u001b[1;32m----> 6\u001b[1;33m \u001b[0mmain\u001b[0m\u001b[1;33m(\u001b[0m\u001b[0mkey\u001b[0m\u001b[1;33m,\u001b[0m \u001b[0mtemplate_path\u001b[0m\u001b[1;33m,\u001b[0m \u001b[0msave_path\u001b[0m\u001b[1;33m)\u001b[0m\u001b[1;33m\u001b[0m\u001b[1;33m\u001b[0m\u001b[0m\n\u001b[0m",
      "\u001b[1;32m<ipython-input-2-4714abdcf437>\u001b[0m in \u001b[0;36mmain\u001b[1;34m(api_key, template_path, save_path)\u001b[0m\n\u001b[0;32m     42\u001b[0m     \u001b[1;32mwith\u001b[0m \u001b[0mHiddenXl\u001b[0m\u001b[1;33m(\u001b[0m\u001b[0mxl\u001b[0m\u001b[1;33m)\u001b[0m\u001b[1;33m:\u001b[0m\u001b[1;33m\u001b[0m\u001b[1;33m\u001b[0m\u001b[0m\n\u001b[0;32m     43\u001b[0m         \u001b[0mwb\u001b[0m\u001b[1;33m,\u001b[0m \u001b[0mws\u001b[0m \u001b[1;33m=\u001b[0m \u001b[0mopen_worksheet\u001b[0m\u001b[1;33m(\u001b[0m\u001b[0mxl\u001b[0m\u001b[1;33m,\u001b[0m \u001b[0mtemplate_path\u001b[0m\u001b[1;33m)\u001b[0m\u001b[1;33m\u001b[0m\u001b[1;33m\u001b[0m\u001b[0m\n\u001b[1;32m---> 44\u001b[1;33m         \u001b[0mmake_worksheet\u001b[0m\u001b[1;33m(\u001b[0m\u001b[0mws\u001b[0m\u001b[1;33m,\u001b[0m \u001b[0mg\u001b[0m\u001b[1;33m,\u001b[0m \u001b[0mad_map\u001b[0m\u001b[1;33m)\u001b[0m\u001b[1;33m\u001b[0m\u001b[1;33m\u001b[0m\u001b[0m\n\u001b[0m\u001b[0;32m     45\u001b[0m         \u001b[0msave_to_sharepoint\u001b[0m\u001b[1;33m(\u001b[0m\u001b[0mwb\u001b[0m\u001b[1;33m,\u001b[0m \u001b[0msave_path\u001b[0m\u001b[1;33m)\u001b[0m\u001b[1;33m\u001b[0m\u001b[1;33m\u001b[0m\u001b[0m\n\u001b[0;32m     46\u001b[0m         \u001b[0mfinish\u001b[0m\u001b[1;33m(\u001b[0m\u001b[0mxl\u001b[0m\u001b[1;33m)\u001b[0m\u001b[1;33m\u001b[0m\u001b[1;33m\u001b[0m\u001b[0m\n",
      "\u001b[1;32m<ipython-input-2-4714abdcf437>\u001b[0m in \u001b[0;36mmake_worksheet\u001b[1;34m(ws, g, ad_map)\u001b[0m\n\u001b[0;32m     10\u001b[0m \u001b[1;32mdef\u001b[0m \u001b[0mmake_worksheet\u001b[0m\u001b[1;33m(\u001b[0m\u001b[0mws\u001b[0m\u001b[1;33m,\u001b[0m \u001b[0mg\u001b[0m\u001b[1;33m,\u001b[0m \u001b[0mad_map\u001b[0m\u001b[1;33m)\u001b[0m\u001b[1;33m:\u001b[0m\u001b[1;33m\u001b[0m\u001b[1;33m\u001b[0m\u001b[0m\n\u001b[0;32m     11\u001b[0m     \u001b[0mprint\u001b[0m\u001b[1;33m(\u001b[0m\u001b[1;34m\"Creating worksheet...\"\u001b[0m\u001b[1;33m)\u001b[0m\u001b[1;33m\u001b[0m\u001b[1;33m\u001b[0m\u001b[0m\n\u001b[1;32m---> 12\u001b[1;33m     \u001b[0mvisitor\u001b[0m \u001b[1;33m=\u001b[0m \u001b[0madw\u001b[0m\u001b[1;33m.\u001b[0m\u001b[0mPlanInitVisitor\u001b[0m\u001b[1;33m(\u001b[0m\u001b[0mws\u001b[0m\u001b[1;33m,\u001b[0m \u001b[0mg\u001b[0m\u001b[1;33m,\u001b[0m \u001b[0mad_map\u001b[0m\u001b[1;33m)\u001b[0m\u001b[1;33m\u001b[0m\u001b[1;33m\u001b[0m\u001b[0m\n\u001b[0m\u001b[0;32m     13\u001b[0m     \u001b[1;32mwith\u001b[0m \u001b[0mscreen_lock\u001b[0m\u001b[1;33m(\u001b[0m\u001b[0mws\u001b[0m\u001b[1;33m.\u001b[0m\u001b[0mApplication\u001b[0m\u001b[1;33m)\u001b[0m\u001b[1;33m:\u001b[0m\u001b[1;33m\u001b[0m\u001b[1;33m\u001b[0m\u001b[0m\n\u001b[0;32m     14\u001b[0m         \u001b[0mvisitor\u001b[0m\u001b[1;33m.\u001b[0m\u001b[0mvisit_all\u001b[0m\u001b[1;33m(\u001b[0m\u001b[1;33m)\u001b[0m\u001b[1;33m\u001b[0m\u001b[1;33m\u001b[0m\u001b[0m\n",
      "\u001b[1;31mAttributeError\u001b[0m: module 'scripts.tools.active_dev_worksheet' has no attribute 'PlanInitVisitor'"
     ]
    }
   ],
   "source": [
    "save_path = \"https://pbsbiotech.sharepoint.com/sites/SoftwareEngineeringLV1\" + \\\n",
    "        \"/Shared Documents/Project Management/Software Active Development.xlsx\"\n",
    "key = \"7676add9cac6631410403671cdd7850311987898\"\n",
    "template_path = os.path.expanduser(\"~\\\\documents\\\\pbs\\\\wip procedures-reports\\\\project task template2.xlsx\")\n",
    "\n",
    "main(key, template_path, save_path)"
   ]
  },
  {
   "cell_type": "code",
   "execution_count": null,
   "metadata": {},
   "outputs": [],
   "source": []
  }
 ],
 "metadata": {
  "kernelspec": {
   "display_name": "Python 3",
   "language": "python",
   "name": "python3"
  },
  "language_info": {
   "codemirror_mode": {
    "name": "ipython",
    "version": 3
   },
   "file_extension": ".py",
   "mimetype": "text/x-python",
   "name": "python",
   "nbconvert_exporter": "python",
   "pygments_lexer": "ipython3",
   "version": "3.8.2"
  }
 },
 "nbformat": 4,
 "nbformat_minor": 4
}
