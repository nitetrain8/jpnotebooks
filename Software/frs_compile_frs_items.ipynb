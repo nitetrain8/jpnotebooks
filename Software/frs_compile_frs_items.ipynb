{
 "cells": [
  {
   "cell_type": "code",
   "execution_count": 6,
   "metadata": {
    "collapsed": true
   },
   "outputs": [],
   "source": [
    "import os, re\n",
    "from scripts.tools.issuetracker import IssuetrackerAPI\n",
    "from datetime import date"
   ]
  },
  {
   "cell_type": "code",
   "execution_count": 7,
   "metadata": {
    "collapsed": true
   },
   "outputs": [],
   "source": [
    "toplevel_match = re.compile(r\"^\\>?([\\+\\*]{2})(FRS\\d+)([\\+\\*]{2})(.*)$\").match\n",
    "subitem_match = re.compile(r\"^\\>?([\\+\\*]+)\\s\\*(FRS)([\\d\\.]+)\\:\\*(.+)$\").match\n",
    "header_match = re.compile(r\"^\\>?([\\+\\*]{2})([\\w]+[^\\:]+)(\\:)?([\\+\\*]{2})(\\:)?(.*)$\").match"
   ]
  },
  {
   "cell_type": "code",
   "execution_count": 10,
   "metadata": {
    "collapsed": true
   },
   "outputs": [],
   "source": [
    "cache = None\n",
    "api = None\n",
    "sync_date = None\n",
    "def _download():\n",
    "    global cache, api, sync_date\n",
    "    if api is None:\n",
    "        api = IssuetrackerAPI('issue.pbsbiotech.com', 'nstarkweather', 'kookychemist')\n",
    "    cache = api.download_issues(project_id=\"pbssoftware\")\n",
    "    sync_date = date.today()\n",
    "    \n",
    "def download(force=False):\n",
    "    global cache, sync_date\n",
    "    reason = None\n",
    "    if cache is None:\n",
    "        reason = \"cache is None\"\n",
    "    elif force:\n",
    "        reason = \"forced re-cache\"\n",
    "    elif sync_date is None:\n",
    "        reason = \"can't determine last sync date\"\n",
    "    elif date.today() != sync_date:\n",
    "        reason = \"cache age > 0 days\"\n",
    "    if reason:\n",
    "        print(\"Downloading issues:\", reason)\n",
    "        _download()\n",
    "        filter_issues()\n",
    "        \n",
    "skip = {\n",
    "    3057,  # 3.0 Web FRS\n",
    "    3066,  # 3.0 Web FRS\n",
    "    3194,  # URS\n",
    "}\n",
    "def relevant(i):\n",
    "    if i.id in skip:\n",
    "        return False\n",
    "    if i.sprint_milestone != \"3.0\" or i.tracker != \"Specification\":\n",
    "        return False\n",
    "    if i.status in (\"Rejected\", \"Closed\"):\n",
    "        return False\n",
    "    return True\n",
    "\n",
    "def filter_issues():\n",
    "    global cache, issues_30\n",
    "    issues_30 = [i for i in cache.values() if relevant(i)]\n",
    "    print(\"Filtered %d relevant issues\" % len(issues_30))\n",
    "\n",
    "\n",
    "def get_issues(recache=False):\n",
    "    download(recache)\n",
    "    return issues_30.copy()"
   ]
  },
  {
   "cell_type": "code",
   "execution_count": 13,
   "metadata": {
    "collapsed": false
   },
   "outputs": [],
   "source": [
    "def extract_descr(d):\n",
    "    it = iter(d.strip().splitlines())\n",
    "    frs = []\n",
    "    m = None\n",
    "    while not m:\n",
    "        line = next(it, None)\n",
    "        if line is None:\n",
    "            return frs\n",
    "        m = toplevel_match(line)\n",
    "        if m:\n",
    "            while True:\n",
    "                frs.append(line)\n",
    "                line = next(it, None)\n",
    "                if line is None:\n",
    "                    break\n",
    "                if header_match(line):\n",
    "                    break\n",
    "    return frs\n",
    "                \n",
    "\n",
    "def write_frs(f, frs):\n",
    "    for i, lines in frs:\n",
    "        tl = lines[0]\n",
    "        f.write(tl + \" %s (#%d)\\n\" % (i.subject, i.id))\n",
    "        for line in lines[1:]: f.write(line+\"\\n\")\n",
    "        f.write(\"\\n\\n\")\n",
    "        \n",
    "def write_frs2(f, frs):\n",
    "    w = f.write\n",
    "    for i, lines in frs:\n",
    "        w(\"*+Issue #%d+*: %s\\n\" % (i.id, i.subject))\n",
    "        for line in lines:\n",
    "            w(\">\"+line+\"\\n\")\n",
    "        w(\"\\n\\n\")\n",
    "    \n",
    "def extract_frs():\n",
    "    frs = []\n",
    "    for i in get_issues():\n",
    "        lines = extract_descr(i.description)\n",
    "        if not lines: continue\n",
    "        frs.append((i, lines))\n",
    "    frs.sort(key=lambda v:v[0].id)\n",
    "    return frs\n",
    "        \n",
    "\n",
    "def write_frs_numbers(fn): \n",
    "    \"\"\"\n",
    "    Verify the script found all FRS lines for the compiled\n",
    "    FRS, by first extracting all possible lines directly from\n",
    "    issue descriptions, then scanning the extracted FRS lines. \n",
    "    \"\"\"\n",
    "\n",
    "    frs = extract_frs()\n",
    "    with open(fn, \"w\") as f:\n",
    "        write_frs2(f, frs)\n",
    "    \n",
    "fn = \"full_frs.txt\"\n",
    "write_frs_numbers(fn)\n",
    "os.startfile(fn)\n",
    "                \n",
    "                "
   ]
  },
  {
   "cell_type": "code",
   "execution_count": null,
   "metadata": {
    "collapsed": true
   },
   "outputs": [],
   "source": []
  }
 ],
 "metadata": {
  "kernelspec": {
   "display_name": "Python 3",
   "language": "python",
   "name": "python3"
  },
  "language_info": {
   "codemirror_mode": {
    "name": "ipython",
    "version": 3
   },
   "file_extension": ".py",
   "mimetype": "text/x-python",
   "name": "python",
   "nbconvert_exporter": "python",
   "pygments_lexer": "ipython3",
   "version": "3.5.2"
  }
 },
 "nbformat": 4,
 "nbformat_minor": 1
}
