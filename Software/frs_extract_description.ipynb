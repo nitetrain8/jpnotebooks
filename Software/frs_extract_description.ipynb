{
 "cells": [
  {
   "cell_type": "code",
   "execution_count": 1,
   "metadata": {
    "collapsed": false
   },
   "outputs": [
    {
     "name": "stdout",
     "output_type": "stream",
     "text": [
      "Downloading projects...\n",
      "Downloading issues: 658/658      \n"
     ]
    }
   ],
   "source": [
    "from scripts.tools.issuetracker import IssuetrackerAPI\n",
    "import re\n",
    "\n",
    "api = IssuetrackerAPI('issue.pbsbiotech.com', 'nstarkweather', 'kookychemist')\n",
    "issues = api.download_issues(project_id=\"pbssoftware\")\n",
    "filtered = [i for i in issues.values() if i.sprint_milestone.name == \"3.0\"]\n",
    "\n",
    "\n",
    "magic = re.compile(r\"[\\+\\*]+(3.0Web)?(FRS\\d+[0-9\\.]+)\")\n",
    "magic2 = re.compile(r\"(3.0Web)?(FRS\\d+[0-9\\.]+)\")"
   ]
  },
  {
   "cell_type": "code",
   "execution_count": null,
   "metadata": {
    "collapsed": false,
    "scrolled": true
   },
   "outputs": [],
   "source": [
    "frs = set()\n",
    "frs2 = set()\n",
    "\n",
    "for v in filtered:\n",
    "    d = v.description or \"\"\n",
    "    l = magic.findall(d)\n",
    "    for w, f in l:\n",
    "        w = w or \"\"\n",
    "        if \".\" not in f and v.assigned_to.name == \"Christian Nilsson\" and not w:\n",
    "            w = \"3.0Web\"\n",
    "        result = (v.id, w+f)\n",
    "        frs.add(result)\n",
    "    l = magic2.findall(d)\n",
    "    for w, f in l:\n",
    "        w = w or \"\"\n",
    "        if \".\" not in f and v.assigned_to.name == \"Christian Nilsson\" and not w:\n",
    "            w = \"3.0Web\"\n",
    "        result = (v.id, w+f)\n",
    "        frs2.add(result)\n",
    "    \n",
    "sorted(frs)"
   ]
  },
  {
   "cell_type": "code",
   "execution_count": null,
   "metadata": {
    "collapsed": false
   },
   "outputs": [],
   "source": [
    "class FRSItem():\n",
    "    def __init__(self, issue, levels):\n",
    "        self.issue = issue\n",
    "        self.levels = levels\n",
    "    \n",
    "    @classmethod\n",
    "    def from_str(cls, s):\n",
    "        id, *nums = s.split(\".\")\n",
    "        issue = id[3:]\n",
    "        print(s, id, nums)\n",
    "        issue = int(issue)\n",
    "        level = [int(n) for n in nums]\n",
    "        return cls(issue, level)\n",
    "    \n",
    "    def is_child(self, parent):\n",
    "        if len(parent.level) >= len(self.level):\n",
    "            return False\n",
    "        for c, p in zip(self.level, parent.level):\n",
    "            if c != p:\n",
    "                return False\n",
    "            \n",
    "        # Don't need to check for parent level == child level \n",
    "        # already checked for matching level + matching level len\n",
    "        return True\n",
    "        \n",
    "    def is_parent(self, child):\n",
    "        if len(self.level) >= len(child.level):\n",
    "               return False\n",
    "        for c, p in zip(child.level, self.level):\n",
    "               if c != p:\n",
    "                   return False\n",
    "        return True\n",
    "            "
   ]
  },
  {
   "cell_type": "code",
   "execution_count": null,
   "metadata": {
    "collapsed": false
   },
   "outputs": [],
   "source": [
    "class Failure(AssertionError):\n",
    "    pass\n",
    "\n",
    "def assert_(exp, msg=None, *args):\n",
    "    if not exp:\n",
    "        if msg and args:\n",
    "            msg = msg % args\n",
    "        raise Failure(msg)\n",
    "    \n",
    "def check_regex(m, exp):\n",
    "    assert_(m, \"No match found\")\n",
    "    assert_(m == exp, \"%r != %r\", m, exp)\n",
    "\n",
    "def check_frs_findall(s, exp):\n",
    "    check_regex(frs_findall(s), exp)\n",
    "\n",
    "check_frs_findall(\"*FRS1234*\", [\"FRS1234\"])\n",
    "check_frs_findall(\"*FRS1234.5*\", [\"FRS1234.5\"])\n",
    "check_frs_findall(\"*FRS1234.5.6\", [\"FRS1234.5.6\"])\n",
    "check_frs_findall(\"* *FRS1234.5.6*\", [\"FRS1234.5.6\"])\n",
    "check_frs_findall(\"*FRS2851.0.3* Time stamps for edge cases during generation by batch:\", \n",
    "                  [\"FRS2851.0.3\"])"
   ]
  },
  {
   "cell_type": "code",
   "execution_count": null,
   "metadata": {
    "collapsed": false
   },
   "outputs": [],
   "source": [
    "frs = []\n",
    "frs_re = re.compile(r\"^(?:[\\*\\# ]+)?(FRS\\d+[0-9\\.]+)\")\n",
    "frs_match = frs_re.match\n",
    "frs_findall = frs_re.findall\n",
    "\n",
    "for v in filtered:\n",
    "    d = v.description or \"\"\n",
    "    l = frs_findall(d)\n",
    "    for f in l:\n",
    "        frs.append(f[1])\n",
    "len(frs)\n",
    "print(frs)\n",
    "len(filtered), len(frs)"
   ]
  },
  {
   "cell_type": "code",
   "execution_count": null,
   "metadata": {
    "collapsed": false
   },
   "outputs": [],
   "source": [
    "FRSItem.from_str(frs[20])"
   ]
  },
  {
   "cell_type": "code",
   "execution_count": null,
   "metadata": {
    "collapsed": true
   },
   "outputs": [],
   "source": []
  },
  {
   "cell_type": "code",
   "execution_count": null,
   "metadata": {
    "collapsed": false
   },
   "outputs": [],
   "source": [
    "from scripts.tools.issuetracker import IssuetrackerAPI\n",
    "import re\n",
    "try:\n",
    "    cache\n",
    "except NameError:\n",
    "    cache = None\n",
    "cache = cache or {}\n",
    "magic = re.compile(r\"[\\+\\*\\s]*(3.0Web)?(FRS\\d+[0-9\\.]+)[\\+\\*: \\-]*\")\n",
    "\n",
    "def get_issues():\n",
    "    global cache\n",
    "    if not cache:\n",
    "        api = IssuetrackerAPI('issue.pbsbiotech.com', 'nstarkweather', 'kookychemist')\n",
    "        iss = api.download_issues(project_id=\"pbssoftware\")\n",
    "        cache = iss.copy()\n",
    "    else:\n",
    "        iss = cache.copy()\n",
    "    return iss\n",
    "\n",
    "def extract_frs_items2():\n",
    "    iss = get_issues()\n",
    "    filtered = [i for i in iss.values() if i.sprint_milestone.name == \"3.0\"]\n",
    "    reqs = []\n",
    "    frs = set()\n",
    "    for v in filtered:\n",
    "        d = v.description or \"\"\n",
    "        lines = d.split(\"\\r\\n\")\n",
    "        i = 0\n",
    "        while i < len(lines):\n",
    "            l = lines[i]\n",
    "            m = magic.search(l)\n",
    "            if m:\n",
    "                web, fr = m.groups()\n",
    "                web = web or \"\"\n",
    "                rest = l[m.end():]\n",
    "                other = []\n",
    "                i += 1\n",
    "                while i < len(lines):\n",
    "                    l = lines[i]\n",
    "                    if not l.strip():\n",
    "                        break\n",
    "                    elif magic.search(l):\n",
    "                        break\n",
    "                    else:\n",
    "                        other.append(l.strip())\n",
    "                    i += 1                        \n",
    "                result = (v.id, web + fr, rest, \"\\n\".join(other))\n",
    "                reqs.append(result)\n",
    "            i += 1    \n",
    "    reqs.sort()\n",
    "    return reqs\n",
    "\n",
    "reqs= extract_frs_items2()\n",
    "with open(\"test.txt\", 'w') as f:\n",
    "    for id, fr, rest, other in reqs:\n",
    "        f.write(\"*%s*%s\\n\"%(fr, \": %s\" % rest if rest else \"\"))\n",
    "        f.write(other)\n",
    "        f.write(\"\\n\\n\")\n",
    "import os; os.startfile(f.name)"
   ]
  },
  {
   "cell_type": "code",
   "execution_count": 1,
   "metadata": {
    "collapsed": false
   },
   "outputs": [],
   "source": [
    "from scripts.tools.issuetracker import IssuetrackerAPI\n",
    "import re\n",
    "try:\n",
    "    cache\n",
    "except NameError:\n",
    "    cache = {}\n",
    "magic = re.compile(r\"[\\+\\*\\s]*(3.0Web)?(FRS\\d+[0-9\\.]+)[\\+\\*: \\-]*\")\n",
    "\n",
    "def get_issues():\n",
    "    global cache\n",
    "    if not cache:\n",
    "        api = IssuetrackerAPI('issue.pbsbiotech.com', 'nstarkweather', 'kookychemist')\n",
    "        iss = api.download_issues(project_id=\"pbssoftware\")\n",
    "        cache = iss\n",
    "    else:\n",
    "        iss = cache\n",
    "    return [i for i in iss.values() if i.sprint_milestone.name == \"3.0\"]\n",
    "\n",
    "def extract_frs_items3():\n",
    "    filtered = get_issues()\n",
    "    reqs = []\n",
    "    for v in filtered:\n",
    "        d = v.description or \"\"\n",
    "        if magic.search(d):\n",
    "            reqs.append((v.id, d.strip().replace(\"\\r\\n\", \"\\n\")))\n",
    "    reqs.sort()\n",
    "    return reqs\n",
    "\n",
    "# reqs= extract_frs_items3()\n",
    "# with open(\"compiled_frs_descriptions.txt\", 'w', newline=\"\\r\\n\") as f:\n",
    "#     for id, desc in reqs:\n",
    "#         f.write(\"+*Issue %d:*+\\n\" % id)\n",
    "#         f.write(desc)\n",
    "#         f.write(\"\\n\\n\")\n",
    "# import os; os.startfile(f.name)"
   ]
  },
  {
   "cell_type": "code",
   "execution_count": 2,
   "metadata": {
    "collapsed": false
   },
   "outputs": [
    {
     "name": "stdout",
     "output_type": "stream",
     "text": [
      "Downloading projects...\n",
      "Downloading issues: 657/657      \n"
     ]
    }
   ],
   "source": [
    "def extract_word_items(word=\"login\", exclude=()):\n",
    "    filtered = get_issues()\n",
    "    exclude = frozenset(exclude)\n",
    "    logins = []\n",
    "    for v in filtered:\n",
    "        if v.id in exclude: continue\n",
    "        if magic.search(v.description) and word in v.description.lower():\n",
    "            logins.append((v.id, v.description.strip().replace(\"\\r\\n\", \"\\n\")))\n",
    "    logins.sort()\n",
    "    return logins\n",
    "\n",
    "exclude = 1073, 2828, 1759, 2367, 2445, 2878, 2881, 2911, 3077\n",
    "logins = extract_word_items(\"login\", exclude)\n",
    "def write_word_items(word, items):\n",
    "    with open(\"%s_issues.txt\" % word, 'w') as f:\n",
    "        for id, desc in items:\n",
    "            f.write(\"+*Issue %d:*+\\n\" % id)\n",
    "            f.write(desc)\n",
    "            f.write(\"\\n\\n\")\n",
    "    return f.name\n",
    "#import os; os.startfile(write_word_items(\"login\", logins))"
   ]
  },
  {
   "cell_type": "code",
   "execution_count": 3,
   "metadata": {
    "collapsed": true
   },
   "outputs": [],
   "source": [
    "def extract(word):\n",
    "    import os; os.startfile(write_word_items(word, extract_word_items(word)))"
   ]
  },
  {
   "cell_type": "code",
   "execution_count": null,
   "metadata": {
    "collapsed": true
   },
   "outputs": [],
   "source": [
    "import os; os.startfile(write_word_items(\"permission\", extract_word_items(\"permission\")))"
   ]
  },
  {
   "cell_type": "code",
   "execution_count": null,
   "metadata": {
    "collapsed": true
   },
   "outputs": [],
   "source": [
    "extract(\"user events\")"
   ]
  },
  {
   "cell_type": "code",
   "execution_count": null,
   "metadata": {
    "collapsed": true
   },
   "outputs": [],
   "source": [
    "extract(\"midnight\")"
   ]
  },
  {
   "cell_type": "code",
   "execution_count": 6,
   "metadata": {
    "collapsed": true
   },
   "outputs": [],
   "source": [
    "extract(\"graph\")"
   ]
  },
  {
   "cell_type": "code",
   "execution_count": 7,
   "metadata": {
    "collapsed": true
   },
   "outputs": [],
   "source": [
    "extract(\"database\")"
   ]
  },
  {
   "cell_type": "code",
   "execution_count": 4,
   "metadata": {
    "collapsed": true
   },
   "outputs": [],
   "source": [
    "extract(\"unknown user\")"
   ]
  },
  {
   "cell_type": "code",
   "execution_count": null,
   "metadata": {
    "collapsed": true
   },
   "outputs": [],
   "source": []
  }
 ],
 "metadata": {
  "kernelspec": {
   "display_name": "Python 3",
   "language": "python",
   "name": "python3"
  },
  "language_info": {
   "codemirror_mode": {
    "name": "ipython",
    "version": 3
   },
   "file_extension": ".py",
   "mimetype": "text/x-python",
   "name": "python",
   "nbconvert_exporter": "python",
   "pygments_lexer": "ipython3",
   "version": "3.5.2"
  }
 },
 "nbformat": 4,
 "nbformat_minor": 1
}
