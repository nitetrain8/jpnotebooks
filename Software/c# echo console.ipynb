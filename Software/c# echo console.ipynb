{
 "cells": [
  {
   "cell_type": "code",
   "execution_count": 14,
   "metadata": {},
   "outputs": [],
   "source": [
    "import socket, select, time\n",
    "\n",
    "class Server():\n",
    "    def __init__(self, host, port):\n",
    "        self.host = host\n",
    "        self.port = port\n",
    "        self.socket = None\n",
    "        \n",
    "    def run(self):\n",
    "        with socket.socket() as server_socket:\n",
    "            server_socket.settimeout(2)\n",
    "            server_socket.bind((self.host, self.port))\n",
    "            server_socket.listen(1)\n",
    "            try:\n",
    "                self._run(server_socket)\n",
    "            except KeyboardInterrupt:\n",
    "                pass\n",
    "        \n",
    "    def _run(self, server_socket):\n",
    "        while True:\n",
    "            r,w,x = select.select([server_socket], [], [], 0.2)\n",
    "            if r:\n",
    "                c,a = server_socket.accept()\n",
    "                self._echo(c)\n",
    "                \n",
    "    def _echo(self, peersock):\n",
    "        print(\"-------- Connection: %s:%d --------\"%peersock.getpeername())\n",
    "        nl = True\n",
    "        while True:\n",
    "            try:\n",
    "                r,w,x = select.select([peersock], [], [], 1)\n",
    "                if r:\n",
    "                    msg = peersock.recv(4096)\n",
    "            except (ConnectionResetError, ConnectionAbortedError):\n",
    "                # peer closed\n",
    "                if not nl:\n",
    "                    print()\n",
    "                print(\"-------- Connection: Closed ------------------\")\n",
    "                return\n",
    "            else:\n",
    "                try:\n",
    "                    string = msg.decode('utf-8')\n",
    "                except UnicodeDecodeError:\n",
    "                    print(\"Error decoding string: %r\"%string,end=\"\")\n",
    "                else:\n",
    "                    print(string,end=\"\")\n",
    "                    nl = string.endswith(\"\\n\");"
   ]
  },
  {
   "cell_type": "code",
   "execution_count": 15,
   "metadata": {},
   "outputs": [
    {
     "name": "stdout",
     "output_type": "stream",
     "text": [
      "-------- Connection: 127.0.0.1:56649 --------\n",
      "test zzz..\n",
      "-------- Connection: Closed ------------------\n",
      "-------- Connection: 127.0.0.1:56652 --------\n",
      "test zzz..\n",
      "-------- Connection: Closed ------------------\n",
      "-------- Connection: 127.0.0.1:56655 --------\n",
      "test zzz..\n",
      "-------- Connection: Closed ------------------\n",
      "-------- Connection: 127.0.0.1:56662 --------\n",
      "Test2test2\n",
      "-------- Connection: Closed ------------------\n",
      "-------- Connection: 127.0.0.1:56670 --------\n",
      "Remote console connected\n",
      "Testtesttest\n",
      "Found case: .\\case\\calc\\test_basic\n",
      "Found case: .\\case\\create\\test_batch_basic\n",
      "Found case: .\\case\\create\\test_single_basic\n",
      "Found case: .\\case\\verify\\test_basic\n",
      "-------- Connection: Closed ------------------\n",
      "-------- Connection: 127.0.0.1:56685 --------\n",
      "Remote console connected\n",
      "Found case: .\\case\\calc\\test_basic\n",
      "DEBUG: Found case: .\\case\\calc\\test_basic\n",
      "Found case: .\\case\\create\\test_batch_basic\n",
      "DEBUG: Found case: .\\case\\create\\test_batch_basic\n",
      "Found case: .\\case\\create\\test_single_basic\n",
      "DEBUG: Found case: .\\case\\create\\test_single_basic\n",
      "Found case: .\\case\\verify\\test_basic\n",
      "DEBUG: Found case: .\\case\\verify\\test_basic\n",
      "-------- Connection: Closed ------------------\n"
     ]
    }
   ],
   "source": [
    "s = Server(\"localhost\", 56252)\n",
    "s.run()"
   ]
  },
  {
   "cell_type": "code",
   "execution_count": null,
   "metadata": {},
   "outputs": [],
   "source": []
  }
 ],
 "metadata": {
  "kernelspec": {
   "display_name": "Python 3",
   "language": "python",
   "name": "python3"
  },
  "language_info": {
   "codemirror_mode": {
    "name": "ipython",
    "version": 3
   },
   "file_extension": ".py",
   "mimetype": "text/x-python",
   "name": "python",
   "nbconvert_exporter": "python",
   "pygments_lexer": "ipython3",
   "version": "3.5.2"
  }
 },
 "nbformat": 4,
 "nbformat_minor": 2
}
