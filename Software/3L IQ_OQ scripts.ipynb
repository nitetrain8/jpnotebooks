{
 "cells": [
  {
   "cell_type": "code",
   "execution_count": null,
   "metadata": {},
   "outputs": [],
   "source": [
    "import subprocess\n",
    "def export_firewall_settings(file):\n",
    "    if \" \" in file and not (file[0] == file[1] == '\"':\n",
    "        file = '\"%s\"'%file\n",
    "    cmd = \"powershell -command \\\"Get-NetFirewallRule | export-csv %s -NoTypeInformation\\\"\" % file\n",
    "    subprocess.call(cmd)"
   ]
  },
  {
   "cell_type": "code",
   "execution_count": null,
   "metadata": {},
   "outputs": [],
   "source": [
    "def lines(csv):\n",
    "    with open(csv, 'r') as f:\n",
    "        lines = [[s.strip('\"') for s in l.split(\",\")] for l in f.read().splitlines()]\n",
    "    return sorted(lines)\n",
    "def compare_firewall_settings(ref, tmpfile):\n",
    "    rlines = lines(ref)\n",
    "    tlines = lines(tmpfile)\n",
    "    return rlines == tlines"
   ]
  }
 ],
 "metadata": {
  "kernelspec": {
   "display_name": "Python 3",
   "language": "python",
   "name": "python3"
  },
  "language_info": {
   "codemirror_mode": {
    "name": "ipython",
    "version": 3
   },
   "file_extension": ".py",
   "mimetype": "text/x-python",
   "name": "python",
   "nbconvert_exporter": "python",
   "pygments_lexer": "ipython3",
   "version": "3.5.2"
  }
 },
 "nbformat": 4,
 "nbformat_minor": 2
}
