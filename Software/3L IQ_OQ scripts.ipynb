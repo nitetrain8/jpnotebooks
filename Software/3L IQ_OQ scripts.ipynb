{
 "cells": [
  {
   "cell_type": "code",
   "execution_count": 14,
   "metadata": {},
   "outputs": [],
   "source": [
    "import tempfile\n",
    "import subprocess\n",
    "import os\n",
    "from os.path import join as path_join\n",
    "# jupyter path hack...\n",
    "import sys; sys.path.append(\"C:\\\\users\\\\nathan\\\\documents\\\\dropbox\\\\python\\\\scripts\\\\tools\\\\filecompare\\\\src\\\\filecompare\")\n",
    "from comparer import compare2 as file_compare"
   ]
  },
  {
   "cell_type": "code",
   "execution_count": 17,
   "metadata": {},
   "outputs": [],
   "source": [
    "IQ_DIR = \"D:\\\\IQOQ_3L_Mag\\\\\"\n",
    "IQ_FILES_DIR = IQ_DIR  # update per customer??\n",
    "LOG_DIR = os.path.join(IQ_DIR, \"log\")\n",
    "CONFIG_FILES_DIR = os.path.join(IQ_DIR, \"config_file_references\")\n",
    "FIREWALL_DIR = os.path.join(IQ_DIR, \"FirewallSettings\")\n",
    "LV_DIR = \"C:\\\\pbs\\\\LabVIEW Data\\\\\"\n",
    "\n",
    "\n",
    "def get_ref(*paths):\n",
    "    return os.path.join(CONFIG_FILES_DIR, *paths)\n",
    "def get_usr(*paths):\n",
    "    return os.path.join(LV_DIR, *paths)\n",
    "def get_fw():\n",
    "    return os.path.join(FIREWALL_DIR, \"firewall.csv\")\n",
    "def get_logf(*paths):\n",
    "    return os.path.join(LOG_DIR, *paths)"
   ]
  },
  {
   "cell_type": "code",
   "execution_count": 18,
   "metadata": {},
   "outputs": [],
   "source": [
    "def export_firewall_settings(file):\n",
    "    if \" \" in file and not (file[0] == file[1] == '\"'):\n",
    "        file = '\"%s\"'%file\n",
    "    cmd = \"powershell -command \\\"Get-NetFirewallRule | export-csv %s -NoTypeInformation\\\"\" % file\n",
    "    subprocess.call(cmd)"
   ]
  },
  {
   "cell_type": "code",
   "execution_count": 19,
   "metadata": {},
   "outputs": [],
   "source": [
    "def lines(csv):\n",
    "    with open(csv, 'r') as f:\n",
    "        lines = [[s.strip('\"') for s in l.split(\",\")] for l in f.read().splitlines()]\n",
    "    return sorted(lines)\n",
    "\n",
    "def firewall_compare(ref, tmpfile):\n",
    "    rlines = lines(ref)\n",
    "    tlines = lines(tmpfile)\n",
    "    return rlines == tlines\n",
    "\n",
    "def compare_firewall_settings():\n",
    "    with tempfile.TemporaryDirectory() as p:\n",
    "        ref = get_fw()\n",
    "        tmp = os.path.join(p, \"fw_settings.csv\")\n",
    "        export_firewall_settings(tmp)\n",
    "        eq = firewall_compare(ref, tmp)\n",
    "    if eq:\n",
    "        print(\"Firewall match success\")\n",
    "    else:\n",
    "        print(\"Firewall match failure\")"
   ]
  },
  {
   "cell_type": "code",
   "execution_count": 26,
   "metadata": {},
   "outputs": [],
   "source": [
    "def compare_config_files():\n",
    "    files = [\n",
    "        (\"sysvars\", \"System Variables.sys\"),\n",
    "        (\"alarms\", \"Alarms Off.alm\"),\n",
    "        (\"alarms\", \"Alarms On.alm\"),\n",
    "        (\"loggersettings\", \"Logging Off.log\"),\n",
    "        (\"loggersettings\", \"Logging On.log\"),\n",
    "        (\"emailsettings\", \"Email Alerts Settings.xml\"),\n",
    "    ]\n",
    "    for typ, fn in files:\n",
    "        ref = get_ref(fn)\n",
    "        usr = get_usr(fn)\n",
    "        lf  = get_logf(typ+\" report.txt\")\n",
    "        n, report = file_compare(typ, ref, usr, outfmt=\"txt\", always_show_names=False)\n",
    "        if n:\n",
    "            print(\"%d Setting(s) mismatch:\"%n)\n",
    "            print(report)\n",
    "        else:\n",
    "            print(\"%s: Match\"%fn)\n",
    "        with open(lf, 'w') as f:\n",
    "            f.write(report)"
   ]
  },
  {
   "cell_type": "code",
   "execution_count": 28,
   "metadata": {},
   "outputs": [
    {
     "name": "stdout",
     "output_type": "stream",
     "text": [
      "Firewall match failure\n"
     ]
    },
    {
     "ename": "FileNotFoundError",
     "evalue": "[Errno 2] No such file or directory: 'C:\\\\pbs\\\\LabVIEW Data\\\\System Variables.sys'",
     "output_type": "error",
     "traceback": [
      "\u001b[1;31m---------------------------------------------------------------------------\u001b[0m",
      "\u001b[1;31mFileNotFoundError\u001b[0m                         Traceback (most recent call last)",
      "\u001b[1;32m<ipython-input-28-5f1c9e0d7332>\u001b[0m in \u001b[0;36m<module>\u001b[1;34m()\u001b[0m\n\u001b[0;32m      1\u001b[0m \u001b[1;32mif\u001b[0m \u001b[0m__name__\u001b[0m \u001b[1;33m==\u001b[0m \u001b[1;34m\"__main__\"\u001b[0m\u001b[1;33m:\u001b[0m\u001b[1;33m\u001b[0m\u001b[0m\n\u001b[0;32m      2\u001b[0m     \u001b[0mcompare_firewall_settings\u001b[0m\u001b[1;33m(\u001b[0m\u001b[1;33m)\u001b[0m\u001b[1;33m\u001b[0m\u001b[0m\n\u001b[1;32m----> 3\u001b[1;33m     \u001b[0mcompare_config_files\u001b[0m\u001b[1;33m(\u001b[0m\u001b[1;33m)\u001b[0m\u001b[1;33m\u001b[0m\u001b[0m\n\u001b[0m",
      "\u001b[1;32m<ipython-input-26-0742f364814d>\u001b[0m in \u001b[0;36mcompare_config_files\u001b[1;34m()\u001b[0m\n\u001b[0;32m     12\u001b[0m         \u001b[0musr\u001b[0m \u001b[1;33m=\u001b[0m \u001b[0mget_usr\u001b[0m\u001b[1;33m(\u001b[0m\u001b[0mfn\u001b[0m\u001b[1;33m)\u001b[0m\u001b[1;33m\u001b[0m\u001b[0m\n\u001b[0;32m     13\u001b[0m         \u001b[0mlf\u001b[0m  \u001b[1;33m=\u001b[0m \u001b[0mget_logf\u001b[0m\u001b[1;33m(\u001b[0m\u001b[0mtyp\u001b[0m\u001b[1;33m+\u001b[0m\u001b[1;34m\" report.txt\"\u001b[0m\u001b[1;33m)\u001b[0m\u001b[1;33m\u001b[0m\u001b[0m\n\u001b[1;32m---> 14\u001b[1;33m         \u001b[0mn\u001b[0m\u001b[1;33m,\u001b[0m \u001b[0mreport\u001b[0m \u001b[1;33m=\u001b[0m \u001b[0mfile_compare\u001b[0m\u001b[1;33m(\u001b[0m\u001b[0mtyp\u001b[0m\u001b[1;33m,\u001b[0m \u001b[0mref\u001b[0m\u001b[1;33m,\u001b[0m \u001b[0musr\u001b[0m\u001b[1;33m,\u001b[0m \u001b[0moutfmt\u001b[0m\u001b[1;33m=\u001b[0m\u001b[1;34m\"txt\"\u001b[0m\u001b[1;33m,\u001b[0m \u001b[0malways_show_names\u001b[0m\u001b[1;33m=\u001b[0m\u001b[1;32mFalse\u001b[0m\u001b[1;33m)\u001b[0m\u001b[1;33m\u001b[0m\u001b[0m\n\u001b[0m\u001b[0;32m     15\u001b[0m         \u001b[1;32mif\u001b[0m \u001b[0mn\u001b[0m\u001b[1;33m:\u001b[0m\u001b[1;33m\u001b[0m\u001b[0m\n\u001b[0;32m     16\u001b[0m             \u001b[0mprint\u001b[0m\u001b[1;33m(\u001b[0m\u001b[1;34m\"%d Setting(s) mismatch:\"\u001b[0m\u001b[1;33m%\u001b[0m\u001b[0mn\u001b[0m\u001b[1;33m)\u001b[0m\u001b[1;33m\u001b[0m\u001b[0m\n",
      "\u001b[1;32mC:\\users\\nathan\\documents\\dropbox\\python\\scripts\\tools\\filecompare\\src\\filecompare\\comparer.py\u001b[0m in \u001b[0;36mcompare2\u001b[1;34m(ctype, ref, always_show_names, always_show_values, err_on_notfound, outfmt, *files)\u001b[0m\n\u001b[0;32m    264\u001b[0m     \u001b[1;31m# way, and I'm too lazy to refactor.\u001b[0m\u001b[1;33m\u001b[0m\u001b[1;33m\u001b[0m\u001b[0m\n\u001b[0;32m    265\u001b[0m     \u001b[0mc\u001b[0m \u001b[1;33m=\u001b[0m \u001b[0mcls\u001b[0m\u001b[1;33m(\u001b[0m\u001b[0malways_show_names\u001b[0m\u001b[1;33m,\u001b[0m \u001b[0malways_show_values\u001b[0m\u001b[1;33m,\u001b[0m \u001b[0merr_on_notfound\u001b[0m\u001b[1;33m,\u001b[0m \u001b[0mFC\u001b[0m\u001b[1;33m)\u001b[0m\u001b[1;33m\u001b[0m\u001b[0m\n\u001b[1;32m--> 266\u001b[1;33m     \u001b[0mc\u001b[0m\u001b[1;33m.\u001b[0m\u001b[0mcompare\u001b[0m\u001b[1;33m(\u001b[0m\u001b[0mref\u001b[0m\u001b[1;33m,\u001b[0m \u001b[1;33m*\u001b[0m\u001b[0mfiles\u001b[0m\u001b[1;33m)\u001b[0m\u001b[1;33m\u001b[0m\u001b[0m\n\u001b[0m\u001b[0;32m    267\u001b[0m     \u001b[1;32mreturn\u001b[0m \u001b[0mc\u001b[0m\u001b[1;33m\u001b[0m\u001b[0m\n",
      "\u001b[1;32mC:\\users\\nathan\\documents\\dropbox\\python\\scripts\\tools\\filecompare\\src\\filecompare\\comparer.py\u001b[0m in \u001b[0;36mcompare\u001b[1;34m(self, rfn, *fns)\u001b[0m\n\u001b[0;32m    133\u001b[0m         \u001b[0mfiles\u001b[0m \u001b[1;33m=\u001b[0m \u001b[1;33m[\u001b[0m\u001b[1;33m]\u001b[0m\u001b[1;33m\u001b[0m\u001b[0m\n\u001b[0;32m    134\u001b[0m         \u001b[1;32mfor\u001b[0m \u001b[0mfn\u001b[0m \u001b[1;32min\u001b[0m \u001b[0mfns\u001b[0m\u001b[1;33m:\u001b[0m\u001b[1;33m\u001b[0m\u001b[0m\n\u001b[1;32m--> 135\u001b[1;33m             \u001b[0mf\u001b[0m \u001b[1;33m=\u001b[0m \u001b[0mself\u001b[0m\u001b[1;33m.\u001b[0m\u001b[0mparse\u001b[0m\u001b[1;33m(\u001b[0m\u001b[0mfn\u001b[0m\u001b[1;33m)\u001b[0m\u001b[1;33m\u001b[0m\u001b[0m\n\u001b[0m\u001b[0;32m    136\u001b[0m             \u001b[0mfi\u001b[0m \u001b[1;33m=\u001b[0m \u001b[0m_FileInfo\u001b[0m\u001b[1;33m(\u001b[0m\u001b[0mfn\u001b[0m\u001b[1;33m,\u001b[0m \u001b[0mf\u001b[0m\u001b[1;33m)\u001b[0m\u001b[1;33m\u001b[0m\u001b[0m\n\u001b[0;32m    137\u001b[0m             \u001b[0mfiles\u001b[0m\u001b[1;33m.\u001b[0m\u001b[0mappend\u001b[0m\u001b[1;33m(\u001b[0m\u001b[0mfi\u001b[0m\u001b[1;33m)\u001b[0m\u001b[1;33m\u001b[0m\u001b[0m\n",
      "\u001b[1;32mC:\\users\\nathan\\documents\\dropbox\\python\\scripts\\tools\\filecompare\\src\\filecompare\\comparer.py\u001b[0m in \u001b[0;36mparse\u001b[1;34m(self, ff)\u001b[0m\n\u001b[0;32m    193\u001b[0m \u001b[1;32mclass\u001b[0m \u001b[0mLVXMLComparer\u001b[0m\u001b[1;33m(\u001b[0m\u001b[0mBaseComparer\u001b[0m\u001b[1;33m)\u001b[0m\u001b[1;33m:\u001b[0m\u001b[1;33m\u001b[0m\u001b[0m\n\u001b[0;32m    194\u001b[0m     \u001b[1;32mdef\u001b[0m \u001b[0mparse\u001b[0m\u001b[1;33m(\u001b[0m\u001b[0mself\u001b[0m\u001b[1;33m,\u001b[0m \u001b[0mff\u001b[0m\u001b[1;33m)\u001b[0m\u001b[1;33m:\u001b[0m\u001b[1;33m\u001b[0m\u001b[0m\n\u001b[1;32m--> 195\u001b[1;33m         \u001b[1;32mreturn\u001b[0m \u001b[0mfile_parse\u001b[0m\u001b[1;33m.\u001b[0m\u001b[0mparse_lvxml\u001b[0m\u001b[1;33m(\u001b[0m\u001b[0mff\u001b[0m\u001b[1;33m)\u001b[0m\u001b[1;33m\u001b[0m\u001b[0m\n\u001b[0m\u001b[0;32m    196\u001b[0m \u001b[1;33m\u001b[0m\u001b[0m\n\u001b[0;32m    197\u001b[0m \u001b[1;32mclass\u001b[0m \u001b[0mSysVarsComparer\u001b[0m\u001b[1;33m(\u001b[0m\u001b[0mLVXMLComparer\u001b[0m\u001b[1;33m)\u001b[0m\u001b[1;33m:\u001b[0m\u001b[1;33m\u001b[0m\u001b[0m\n",
      "\u001b[1;32mC:\\users\\nathan\\documents\\dropbox\\python\\scripts\\tools\\filecompare\\src\\filecompare\\file_parse.py\u001b[0m in \u001b[0;36mparse_lvxml\u001b[1;34m(ff)\u001b[0m\n\u001b[0;32m      4\u001b[0m \u001b[1;33m\u001b[0m\u001b[0m\n\u001b[0;32m      5\u001b[0m \u001b[1;32mdef\u001b[0m \u001b[0mparse_lvxml\u001b[0m\u001b[1;33m(\u001b[0m\u001b[0mff\u001b[0m\u001b[1;33m)\u001b[0m\u001b[1;33m:\u001b[0m\u001b[1;33m\u001b[0m\u001b[0m\n\u001b[1;32m----> 6\u001b[1;33m     \u001b[0mLV\u001b[0m \u001b[1;33m=\u001b[0m \u001b[0mlv_parse\u001b[0m\u001b[1;33m.\u001b[0m\u001b[0mfromfn\u001b[0m\u001b[1;33m(\u001b[0m\u001b[0mff\u001b[0m\u001b[1;33m)\u001b[0m\u001b[1;33m\u001b[0m\u001b[0m\n\u001b[0m\u001b[0;32m      7\u001b[0m     \u001b[0md\u001b[0m \u001b[1;33m=\u001b[0m \u001b[0mlv_parse\u001b[0m\u001b[1;33m.\u001b[0m\u001b[0mflatten\u001b[0m\u001b[1;33m(\u001b[0m\u001b[0mLV\u001b[0m\u001b[1;33m)\u001b[0m\u001b[1;33m\u001b[0m\u001b[0m\n\u001b[0;32m      8\u001b[0m     \u001b[0md\u001b[0m\u001b[1;33m.\u001b[0m\u001b[0mLV\u001b[0m \u001b[1;33m=\u001b[0m \u001b[0mLV\u001b[0m\u001b[1;33m\u001b[0m\u001b[0m\n",
      "\u001b[1;32mC:\\users\\nathan\\documents\\dropbox\\python\\scripts\\tools\\filecompare\\src\\filecompare\\lv_parse.py\u001b[0m in \u001b[0;36mfromfn\u001b[1;34m(fn)\u001b[0m\n\u001b[0;32m    266\u001b[0m \u001b[1;33m\u001b[0m\u001b[0m\n\u001b[0;32m    267\u001b[0m \u001b[1;32mdef\u001b[0m \u001b[0mfromfn\u001b[0m\u001b[1;33m(\u001b[0m\u001b[0mfn\u001b[0m\u001b[1;33m)\u001b[0m\u001b[1;33m:\u001b[0m\u001b[1;33m\u001b[0m\u001b[0m\n\u001b[1;32m--> 268\u001b[1;33m     \u001b[1;32mwith\u001b[0m \u001b[0mopen\u001b[0m\u001b[1;33m(\u001b[0m\u001b[0mfn\u001b[0m\u001b[1;33m,\u001b[0m \u001b[1;34m'r'\u001b[0m\u001b[1;33m)\u001b[0m \u001b[1;32mas\u001b[0m \u001b[0mf\u001b[0m\u001b[1;33m:\u001b[0m\u001b[1;33m\u001b[0m\u001b[0m\n\u001b[0m\u001b[0;32m    269\u001b[0m         \u001b[1;32mreturn\u001b[0m \u001b[0mlv_parse_file\u001b[0m\u001b[1;33m(\u001b[0m\u001b[0mf\u001b[0m\u001b[1;33m)\u001b[0m\u001b[1;33m\u001b[0m\u001b[0m\n\u001b[0;32m    270\u001b[0m \u001b[1;33m\u001b[0m\u001b[0m\n",
      "\u001b[1;31mFileNotFoundError\u001b[0m: [Errno 2] No such file or directory: 'C:\\\\pbs\\\\LabVIEW Data\\\\System Variables.sys'"
     ]
    }
   ],
   "source": [
    "if __name__ == \"__main__\":\n",
    "    compare_firewall_settings()\n",
    "    compare_config_files()"
   ]
  },
  {
   "cell_type": "code",
   "execution_count": null,
   "metadata": {},
   "outputs": [],
   "source": []
  }
 ],
 "metadata": {
  "kernelspec": {
   "display_name": "Python 3",
   "language": "python",
   "name": "python3"
  },
  "language_info": {
   "codemirror_mode": {
    "name": "ipython",
    "version": 3
   },
   "file_extension": ".py",
   "mimetype": "text/x-python",
   "name": "python",
   "nbconvert_exporter": "python",
   "pygments_lexer": "ipython3",
   "version": "3.5.2"
  }
 },
 "nbformat": 4,
 "nbformat_minor": 2
}
