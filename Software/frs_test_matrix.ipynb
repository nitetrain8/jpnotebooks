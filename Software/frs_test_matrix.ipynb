{
 "cells": [
  {
   "cell_type": "code",
   "execution_count": 1,
   "metadata": {},
   "outputs": [],
   "source": [
    "from scripts.software_frs import frs_traceability2\n",
    "FRS = frs_traceability2\n",
    "from officelib.xllib import *\n",
    "from officelib.const import xlconst as xlc\n",
    "import sys\n",
    "import os\n",
    "import re"
   ]
  },
  {
   "cell_type": "code",
   "execution_count": 2,
   "metadata": {},
   "outputs": [],
   "source": [
    "_frs_match = re.compile(r\"(.*FRS\\d+)\\.?([\\d\\.]*)\").match\n",
    "_toplevel_match = re.compile(r\"^\\>?[\\+\\*]{2}(FRS\\d+)[\\+\\*]{2}(.*)$\").match\n",
    "_subitem_match = re.compile(r\"^\\>?[\\+\\*]+\\s\\*(FRS[\\d\\.]+)\\:?\\*\\:?(.*)$\").match\n",
    "_canceled_match = re.compile(r\"^[\\+\\*]+\\s\\-\\*(FRS[\\d\\.]+)\\:?\\*\\:?(.*)\\-\").match\n",
    "_header_match = re.compile(r\"^\\>?[\\+\\*]{2}([\\d\\.\\w]+)[\\+\\*]{2}\").match"
   ]
  },
  {
   "cell_type": "code",
   "execution_count": 3,
   "metadata": {},
   "outputs": [],
   "source": [
    "_item_match = re.compile(r\"^\\>?[\\*]*\\s*[\\+\\*]+(FRS[\\d\\.]+)\\:?[\\+\\*]*\\:?(.*)$\").match"
   ]
  },
  {
   "cell_type": "code",
   "execution_count": 4,
   "metadata": {},
   "outputs": [],
   "source": [
    "def _extract_frs_lines(lines):\n",
    "    start_matches = (\n",
    "        (_item_match, 0),\n",
    "        (_canceled_match, FRS.FRS_NA),\n",
    "    )\n",
    "    end_matches = (\n",
    "        _item_match,\n",
    "        _canceled_match,\n",
    "    )\n",
    "    i = 0\n",
    "    while True:\n",
    "        try:\n",
    "            line = lines[i]\n",
    "        except IndexError:\n",
    "            break\n",
    "        i += 1\n",
    "        for match, flags in start_matches:\n",
    "            done = False\n",
    "            if not line:\n",
    "                m = None\n",
    "            else:\n",
    "                m = match(line)\n",
    "            if m:\n",
    "                f = m.group(1)\n",
    "                t = m.group(2).strip()\n",
    "                l = [t]\n",
    "                while True:\n",
    "                    try:\n",
    "                        line = lines[i]\n",
    "                    except IndexError:\n",
    "                        done = True\n",
    "                        break\n",
    "                    if any(m(line) for m in end_matches):\n",
    "                        done = True\n",
    "                        break\n",
    "                    l.append(\" \" + line.strip())\n",
    "                    i += 1\n",
    "                text = \"\\n\".join(l)\n",
    "                # if l and not t:\n",
    "                #     text = \"\\n\" + text\n",
    "                yield f, flags, text\n",
    "            if done:\n",
    "                break"
   ]
  },
  {
   "cell_type": "code",
   "execution_count": 5,
   "metadata": {},
   "outputs": [],
   "source": [
    "def t(s):\n",
    "    if not _item_match(s):\n",
    "        print(\"FAIL:\", s)\n",
    "t(\"* *FRS1234*:\")\n",
    "t(\"*+FRS1234.1+*\")"
   ]
  },
  {
   "cell_type": "code",
   "execution_count": 6,
   "metadata": {},
   "outputs": [],
   "source": [
    "_cache = None"
   ]
  },
  {
   "cell_type": "code",
   "execution_count": 76,
   "metadata": {},
   "outputs": [],
   "source": [
    "# caching scheme for test purposes. \n",
    "\n",
    "def _lffi():\n",
    "    global _cache\n",
    "    if _cache is None:\n",
    "        issues = FRS._download_issues()\n",
    "        _cache = issues\n",
    "    else:\n",
    "        issues = _cache\n",
    "    relevant = FRS.filter_relevant_issues(issues)\n",
    "    all_frs = {(None, 0, \"\")}\n",
    "    for v in relevant:\n",
    "        lines = v.description.splitlines()\n",
    "        for frs in _extract_frs_lines(lines):\n",
    "            all_frs.add(frs)\n",
    "    all_frs.remove((None, 0, \"\"))\n",
    "    return all_frs\n",
    "    \n",
    "def load_frs_from_issuetracker():\n",
    "    return _lffi()\n",
    "\n",
    "def filter_relevant_issues(issues):\n",
    "    relevant = []\n",
    "    for v in issues.values():\n",
    "        if v.sprint_milestone == \"Legacy\" and v.status not in (\"Closed\", \"Rejected\"):\n",
    "                relevant.append(v)\n",
    "    return relevant\n",
    "\n",
    "frs_traceability2.load_frs_from_issuetracker = load_frs_from_issuetracker\n",
    "FRS.filter_relevant_issues = filter_relevant_issues"
   ]
  },
  {
   "cell_type": "code",
   "execution_count": 77,
   "metadata": {},
   "outputs": [],
   "source": [
    "def ws_data(ws):\n",
    "    cr = ws.Cells.Range\n",
    "    first = cr(\"A2\")\n",
    "    last_col = cr(\"A1\").End(xlc.xlToRight).Column\n",
    "    last = first.End(xlc.xlDown).Offset(1, last_col)\n",
    "    return cr(first, last).Value\n",
    "\n",
    "def split_frs(frs):\n",
    "    return [f for f in frs.split() if f]\n",
    "\n",
    "def load_test_list(user_tests):\n",
    "    xl = Excel(visible=False)\n",
    "    with HiddenXl(xl):\n",
    "        wb = xl.Workbooks.Open(user_tests)\n",
    "        ws = wb.Worksheets(1)\n",
    "        id_test, name, purpose, start, steps, accept, frs = \\\n",
    "                        frs_traceability2.find_cols(ws, \n",
    "                            \"ID_TEST\", \"NAME\", \"PURPOSE\", \"STARTING POINT\", \n",
    "                            \"STEPS\", \"ACCEPTANCE_CRITERIA\", \"List Web FRS\")\n",
    "        data = ws_data(ws)\n",
    "    \n",
    "    wb.Close(False)\n",
    "    xl.Quit()\n",
    "    \n",
    "    res = []\n",
    "    for row in data:\n",
    "        i = row[id_test]\n",
    "        n = row[name]\n",
    "        p = row[purpose]\n",
    "        sta = row[start]\n",
    "        ste = row[steps]\n",
    "        a = row[accept]\n",
    "        f = row[frs]\n",
    "        if not f: continue\n",
    "        res.append((i, n, p, sta, ste, a, split_frs(f)))\n",
    "    res.sort(key=lambda t: t[0])\n",
    "    return res"
   ]
  },
  {
   "cell_type": "code",
   "execution_count": 78,
   "metadata": {},
   "outputs": [],
   "source": [
    "def node_data(node):\n",
    "    return node.id, node.text.strip()\n",
    "\n",
    "def make_frs_line(items):\n",
    "    lines = []\n",
    "    items2 = sorted(items, key=frs_traceability2.sort_frs_item)\n",
    "    for id, line in items2:\n",
    "        if not line:\n",
    "            lines.append(\"%s\" % id)\n",
    "        else:\n",
    "            lines.append(\"%s: %s\" % (id, line.rstrip()))\n",
    "    return \"\\n\".join(lines)\n",
    "\n",
    "def ifmt(i):\n",
    "    if int(i) == i:\n",
    "        return \"%d\" % i\n",
    "    return \"%s\" % i\n",
    "\n",
    "def write_test(reqs, test, file):\n",
    "    tmplt = _frs_tmplt\n",
    "    i, name, p, sta, ste, a, frs = test\n",
    "    items = set()\n",
    "    for f in frs:\n",
    "        node = reqs.lookup(f)\n",
    "        if not node: raise ValueError(f)\n",
    "        if node.is_na(): continue\n",
    "        items.add((node.id, node.text))\n",
    "        indent = node.id.count(\".\")\n",
    "        for n in node.iter():\n",
    "            nindent = n.id.count(\".\") - indent\n",
    "            items.add((\" \" * nindent + n.id, n.text))\n",
    "    frs_line = make_frs_line(items)\n",
    "    s = tmplt % (ifmt(i), name, frs_line, p.rstrip(), sta.rstrip(), ste.rstrip(), a.rstrip())\n",
    "    print(s, file=file)"
   ]
  },
  {
   "cell_type": "code",
   "execution_count": 79,
   "metadata": {},
   "outputs": [],
   "source": [
    "try:\n",
    "    _reqs\n",
    "except NameError:\n",
    "    _reqs = None"
   ]
  },
  {
   "cell_type": "code",
   "execution_count": 80,
   "metadata": {},
   "outputs": [],
   "source": [
    "def make_paste_data(root):\n",
    "    data = [(\"FRS Number\", \"Level\", \"id_test\", \"Tested\", \"Is Leaf?\", \"Is Holdup?\")]\n",
    "    di = data[0].index(\"Tested\") + 1\n",
    "    for i, node in enumerate(root.iter(), 2):\n",
    "        f = node.id\n",
    "        tests = FRS.TEST_ITEM_SEP.join(str(i) for i in node.get_tests())\n",
    "        if node.is_leaf():\n",
    "            if node.is_tested():\n",
    "                tested = \"Y\"\n",
    "                holdup = \"\"\n",
    "            elif node.is_na():\n",
    "                tested = \"n/a\"\n",
    "                holdup = \"\"\n",
    "            else:\n",
    "                tested = \"\"\n",
    "                holdup = \"Y\"\n",
    "            leaf = \"Y\"\n",
    "        else:\n",
    "            if node.is_na():\n",
    "                tested = \"n/a\"\n",
    "            else:\n",
    "                tested = FRS._xl_child_yes(i, di, node.total_len())\n",
    "            leaf = \"\"\n",
    "            holdup = \"\"\n",
    "            \n",
    "        if not tests and node.has_children() and node.is_tested():\n",
    "            tests = \"'--\"\n",
    "        \n",
    "        if f[:3] == \"3.0\":\n",
    "            count = 0\n",
    "        else:\n",
    "            count = f.count(\".\")\n",
    "        data.append((f, count, tests, tested, leaf, holdup))\n",
    "    return data"
   ]
  },
  {
   "cell_type": "code",
   "execution_count": 81,
   "metadata": {},
   "outputs": [],
   "source": [
    "from officelib.xllib import *\n",
    "\n",
    "def main(user_tests):\n",
    "    xl = Excel()\n",
    "    all_frs_items = FRS.load_frs_from_issuetracker()\n",
    "    reqs = FRS.build_frs_tree(all_frs_items)\n",
    "\n",
    "    with screen_lock(xl):\n",
    "        print(\"Loading User Test Matrix...\")\n",
    "        FRS.process_user_tests(xl, reqs, user_tests)\n",
    "\n",
    "    print(\"Compiling data for final matrix\")\n",
    "    data = make_paste_data(reqs)\n",
    "    \n",
    "    ws = FRS.get_matrix_sheet(xl)\n",
    "    FRS.paste_data(ws, data)\n",
    "    print(\"Done\")\n",
    "    "
   ]
  },
  {
   "cell_type": "code",
   "execution_count": 82,
   "metadata": {},
   "outputs": [
    {
     "name": "stdout",
     "output_type": "stream",
     "text": [
      "Downloading projects...\n",
      "Downloading issues: 578/578      \n",
      "Loading User Test Matrix...\n",
      "Compiling data for final matrix\n",
      "Pasting test data\n",
      "Applying alignment formatting\n",
      "Marking untested cells\n",
      "Applying column autofit\n",
      "Applying row autofit\n",
      "Done\n"
     ]
    }
   ],
   "source": [
    "trace_path = \"C:\\\\Users\\\\Nathan\\\\Documents\\\\PBS\\\\SW test\\\\FRS Project\"\n",
    "user_tests = \"FRS Tests 180827 1.xlsx\"\n",
    "p1 = os.path.join(trace_path, user_tests)\n",
    "main(p1)"
   ]
  },
  {
   "cell_type": "code",
   "execution_count": 31,
   "metadata": {},
   "outputs": [
    {
     "data": {
      "text/plain": [
       "Root('')"
      ]
     },
     "execution_count": 31,
     "metadata": {},
     "output_type": "execute_result"
    }
   ],
   "source": [
    "all_frs_items = FRS.load_frs_from_issuetracker()\n",
    "reqs = FRS.build_frs_tree(all_frs_items)\n",
    "reqs"
   ]
  }
 ],
 "metadata": {
  "kernelspec": {
   "display_name": "Python 3",
   "language": "python",
   "name": "python3"
  },
  "language_info": {
   "codemirror_mode": {
    "name": "ipython",
    "version": 3
   },
   "file_extension": ".py",
   "mimetype": "text/x-python",
   "name": "python",
   "nbconvert_exporter": "python",
   "pygments_lexer": "ipython3",
   "version": "3.5.2"
  }
 },
 "nbformat": 4,
 "nbformat_minor": 1
}
