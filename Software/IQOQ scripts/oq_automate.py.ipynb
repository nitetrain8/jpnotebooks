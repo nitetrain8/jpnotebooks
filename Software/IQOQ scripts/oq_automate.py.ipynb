{
 "cells": [
  {
   "cell_type": "code",
   "execution_count": 7,
   "metadata": {},
   "outputs": [],
   "source": [
    "import time\n",
    "import contextlib"
   ]
  },
  {
   "cell_type": "code",
   "execution_count": 1,
   "metadata": {},
   "outputs": [],
   "source": [
    "class Section():\n",
    "    def __init__(self, n, name, func):\n",
    "        self.n = n\n",
    "        self.name = name\n",
    "        self.func = func\n",
    "    \n",
    "    def run(self):\n",
    "        self.func()"
   ]
  },
  {
   "cell_type": "code",
   "execution_count": null,
   "metadata": {},
   "outputs": [],
   "source": [
    "def test_stability(pvfunc, sp, margin, duration, maxtime, waitt=1):\n",
    "    end = time.time() + maxtime\n",
    "    pmin = sp-margin\n",
    "    pmax = sp+margin\n",
    "    stable_start = time.time()\n",
    "    \n",
    "    while time.time() < end:\n",
    "        time.sleep(waitt)\n",
    "        pv = pvfunc()\n",
    "        if pv > pmax or pv < pmin:\n",
    "            stable_start = time.time()\n",
    "        \n",
    "    return (time.time() - stable_time) >= duration\n",
    "            \n",
    "wait = time.sleep\n",
    "\n",
    "def collect_for(func, duration, interval):\n",
    "    end = time.time() + duration\n",
    "    rv = []\n",
    "    while time.time() < end:\n",
    "        rv.append(func())\n",
    "        wait(interval)\n",
    "    return rv\n",
    "    \n",
    "def test_agitation():\n",
    "    AUTO = 0\n",
    "    MAN  = 1\n",
    "    OFF  = 2\n",
    "    \n",
    "    setag(AUTO, 20)\n",
    "    wait(60)\n",
    "    setag(MAN, 60)\n",
    "    wait(30)\n",
    "    setag(OFF)\n",
    "    wait(20)\n",
    "    setag(MAN, 100)\n",
    "    "
   ]
  },
  {
   "cell_type": "code",
   "execution_count": 6,
   "metadata": {},
   "outputs": [
    {
     "name": "stdout",
     "output_type": "stream",
     "text": [
      "5.000456094741821\n"
     ]
    }
   ],
   "source": [
    "t1=time.time()\n",
    "time.sleep(5)\n",
    "print(time.time()-t1)"
   ]
  },
  {
   "cell_type": "code",
   "execution_count": null,
   "metadata": {},
   "outputs": [],
   "source": []
  }
 ],
 "metadata": {
  "kernelspec": {
   "display_name": "Python 3",
   "language": "python",
   "name": "python3"
  },
  "language_info": {
   "codemirror_mode": {
    "name": "ipython",
    "version": 3
   },
   "file_extension": ".py",
   "mimetype": "text/x-python",
   "name": "python",
   "nbconvert_exporter": "python",
   "pygments_lexer": "ipython3",
   "version": "3.5.2"
  }
 },
 "nbformat": 4,
 "nbformat_minor": 2
}
