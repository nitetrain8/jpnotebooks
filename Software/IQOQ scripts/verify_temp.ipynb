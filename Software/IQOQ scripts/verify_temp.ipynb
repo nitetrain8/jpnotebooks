{
 "cells": [
  {
   "cell_type": "code",
   "execution_count": 70,
   "metadata": {},
   "outputs": [
    {
     "name": "stdout",
     "output_type": "stream",
     "text": [
      "Using matplotlib backend: TkAgg\n"
     ]
    }
   ],
   "source": [
    "%matplotlib\n",
    "from matplotlib import pyplot as plt"
   ]
  },
  {
   "cell_type": "code",
   "execution_count": 67,
   "metadata": {},
   "outputs": [],
   "source": [
    "def parse_csv(header, txt):\n",
    "    # trim columns\n",
    "    r1 = header.split(',')\n",
    "    ilast = r1.index(\"Batch Name\") - 1\n",
    "    lines = []\n",
    "    for line in txt:\n",
    "        lines.append(line.split(\",\")[:ilast])\n",
    "    return r1[:ilast], list(zip(*lines))\n",
    "\n",
    "def read_csv(fn):\n",
    "    with open(fn, 'r') as f:\n",
    "        header = f.readline()\n",
    "        txt = f.read().splitlines()\n",
    "    return header, txt\n",
    "\n",
    "import datetime\n",
    "def read_date(date):\n",
    "    return datetime.datetime.strptime(date, \"%m/%d/%Y %I:%M:%S %p\")"
   ]
  },
  {
   "cell_type": "code",
   "execution_count": 68,
   "metadata": {},
   "outputs": [],
   "source": [
    "fn = \"D:/2018031916533844.csv\"\n",
    "h, c = read_csv(fn)"
   ]
  },
  {
   "cell_type": "code",
   "execution_count": 76,
   "metadata": {},
   "outputs": [],
   "source": [
    "header, csv = parse_csv(h, c)\n",
    "itpv = header.index(\"TempPV(C)\")\n",
    "dtx = [read_date(d) for d in csv[itpv]]\n",
    "y = csv[itpv+1]\n",
    "x0 = dtx[0]\n",
    "x = [(d-x0).total_seconds()/60 for d in dtx]"
   ]
  },
  {
   "cell_type": "code",
   "execution_count": 78,
   "metadata": {},
   "outputs": [],
   "source": [
    "fig = plt.figure()\n",
    "ax = fig.add_subplot(1,1,1)\n",
    "line, = ax.plot(x,y)"
   ]
  },
  {
   "cell_type": "code",
   "execution_count": 81,
   "metadata": {},
   "outputs": [
    {
     "data": {
      "text/plain": [
       "(0, 180)"
      ]
     },
     "execution_count": 81,
     "metadata": {},
     "output_type": "execute_result"
    }
   ],
   "source": [
    "ax.set_xlim(0, 180)"
   ]
  },
  {
   "cell_type": "code",
   "execution_count": null,
   "metadata": {},
   "outputs": [],
   "source": []
  }
 ],
 "metadata": {
  "kernelspec": {
   "display_name": "Python 3",
   "language": "python",
   "name": "python3"
  },
  "language_info": {
   "codemirror_mode": {
    "name": "ipython",
    "version": 3
   },
   "file_extension": ".py",
   "mimetype": "text/x-python",
   "name": "python",
   "nbconvert_exporter": "python",
   "pygments_lexer": "ipython3",
   "version": "3.5.2"
  }
 },
 "nbformat": 4,
 "nbformat_minor": 2
}
