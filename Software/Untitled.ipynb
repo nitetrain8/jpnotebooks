{
 "cells": [
  {
   "cell_type": "code",
   "execution_count": null,
   "metadata": {
    "collapsed": true
   },
   "outputs": [],
   "source": [
    "class StateMachineError(Exception): pass\n",
    "class EventNotFound(StateMachineError, ValueError): pass\n",
    "class CallbackNotFound(StateMachineError, ValueError): pass\n",
    "\n",
    "class EventRegistry():\n",
    "    def __init__(self):\n",
    "        self.events = {}\n",
    "    def create_event(self, ev):\n",
    "        self.events[ev] = []\n",
    "    def _get_handlers(self, ev):\n",
    "        handlers = self.events.get(ev)\n",
    "        if not handlers:\n",
    "            raise EventNotFound(ev)\n",
    "        return handlers\n",
    "    def register_event(self, ev, callback):\n",
    "        handlers = self._get_handlers(ev)\n",
    "        handlers.append(callback)\n",
    "    def unregister_event(self, ev, callback):\n",
    "        handlers = self._get_handlers(ev)\n",
    "        try:\n",
    "            handlers.remove(callback)\n",
    "        except ValueError:\n",
    "            raise CallbackNotFound(\"%r not found for %s\" % (ev, callback)) from None\n",
    "            \n",
    "    def callback_event(self, ev, *args):\n",
    "        handlers = self._get_handlers(ev)\n",
    "        for cb in handlers:\n",
    "            try:\n",
    "                cb(*args)\n",
    "            except TypeError as e:\n",
    "                print(\"Callback %r failed: %s\" % (cb, str(e)))\n",
    "    \n",
    "    "
   ]
  }
 ],
 "metadata": {
  "kernelspec": {
   "display_name": "Python 3",
   "language": "python",
   "name": "python3"
  },
  "language_info": {
   "codemirror_mode": {
    "name": "ipython",
    "version": 3
   },
   "file_extension": ".py",
   "mimetype": "text/x-python",
   "name": "python",
   "nbconvert_exporter": "python",
   "pygments_lexer": "ipython3",
   "version": "3.5.2"
  }
 },
 "nbformat": 4,
 "nbformat_minor": 1
}
