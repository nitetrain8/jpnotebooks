{
 "cells": [
  {
   "cell_type": "code",
   "execution_count": 8,
   "metadata": {},
   "outputs": [
    {
     "name": "stdout",
     "output_type": "stream",
     "text": [
      "The autoreload extension is already loaded. To reload it, use:\n",
      "  %reload_ext autoreload\n"
     ]
    }
   ],
   "source": [
    "%load_ext autoreload\n",
    "%autoreload 2\n",
    "\n",
    "import os, time, pickle\n",
    "from scripts.tools.issuetracker import IssuetrackerAPI\n",
    "from scripts.tools.issuetracker.issues import Issues\n",
    "from jpnotebooks.Software.frs_tools import extract, matchers\n",
    "from jpnotebooks.Software.frs_tools.extract import *"
   ]
  },
  {
   "cell_type": "code",
   "execution_count": 9,
   "metadata": {},
   "outputs": [],
   "source": [
    "def expired(loaded, expires):\n",
    "    now = time.time()\n",
    "    age = (now-loaded)/3600\n",
    "    return age > expires\n",
    "\n",
    "class IssueCache():\n",
    "    def __init__(self, issues=None, dltime=None, expires=12, api=None):\n",
    "        self.issues = None\n",
    "        self._parse_issues(issues, api)\n",
    "        self.loaded = dltime or time.time()\n",
    "        self.expires = expires\n",
    "        \n",
    "    def _parse_issues(self, issues, api):\n",
    "        if isinstance(issues, dict):\n",
    "            self.issues = Issues(api, list(issues.values()))\n",
    "        elif issues:\n",
    "            self.issues = Issues(api, list(issues))\n",
    "            \n",
    "    def age(self):\n",
    "        return self._age(self.loaded)\n",
    "    \n",
    "    def get(self):\n",
    "        return self.issues.find()  # copies all issues\n",
    "    \n",
    "    @classmethod\n",
    "    def from_dl(cls, api, *a, expires=12, **k):\n",
    "        s = cls(expires=expires)\n",
    "        s.reload(api, *a, **k)\n",
    "        return s\n",
    "    \n",
    "    def reload(self, api, *a, **k):\n",
    "        iss = api.download_issues(*a, **k)\n",
    "        self._parse_issues(iss, api)\n",
    "        self.loaded = time.time()\n",
    "    \n",
    "    def _age(self, t):\n",
    "        now = time.time()\n",
    "        hrs = (now - t)/3600\n",
    "        return hrs        \n",
    "    \n",
    "    def expired(self):\n",
    "        return self.age() > self.expires\n",
    "    \n",
    "    def save(self, fn):\n",
    "        with open(fn, 'wb') as f:\n",
    "            pickle.dump((self.loaded, self.issues), f)\n",
    "            \n",
    "    @classmethod\n",
    "    def open(cls, fn, api, *a, expires=12, **k):\n",
    "        try:\n",
    "            s = cls.load(fn, expires)\n",
    "        except (FileNotFoundError, EOFError, pickle.PickleError):\n",
    "            s = cls(None, -1)  # trigger expired\n",
    "            \n",
    "        if s.expired():\n",
    "            s.reload(api, *a, **k)\n",
    "            s.save(fn)\n",
    "        return s\n",
    "        \n",
    "    @classmethod\n",
    "    def load(cls, fn, expires=12):\n",
    "        with open(fn, 'rb') as f:\n",
    "            ob = pickle.load(f)\n",
    "        loaded, issues = ob\n",
    "        return cls(issues, loaded, expires)     "
   ]
  },
  {
   "cell_type": "code",
   "execution_count": 15,
   "metadata": {},
   "outputs": [],
   "source": [
    "it = IssuetrackerAPI(\"issue.pbsbiotech.com\", \"nstarkweather@pbsbiotech.com\", \"kookychemist\")\n",
    "sf = \"./.issuetracker/issue_cache.pkl\"\n",
    "\n",
    "def refresh(sf=sf, it=it):\n",
    "    global c, issues\n",
    "    c = IssueCache.from_dl(it, \"pbssoftware\")\n",
    "    c.save(sf)\n",
    "    issues = Issues(it, c.get())\n",
    "    return c.get()\n",
    "\n",
    "if not os.path.exists(sf):\n",
    "    os.makedirs(os.path.dirname(sf), exist_ok=True)\n",
    "c = IssueCache.open(sf, it, \"pbssoftware\")\n",
    "iss = c.get()\n",
    "issues = Issues(it, iss)"
   ]
  },
  {
   "cell_type": "code",
   "execution_count": 11,
   "metadata": {},
   "outputs": [
    {
     "name": "stdout",
     "output_type": "stream",
     "text": [
      "Downloading projects...\n",
      "Downloading issues: 504/504      \n"
     ]
    },
    {
     "data": {
      "text/plain": [
       "<Issues Object: 504 Issues>"
      ]
     },
     "execution_count": 11,
     "metadata": {},
     "output_type": "execute_result"
    }
   ],
   "source": [
    "refresh()"
   ]
  },
  {
   "cell_type": "code",
   "execution_count": 16,
   "metadata": {},
   "outputs": [],
   "source": [
    "import sys\n",
    "class ReleaseNotesFormatter():\n",
    "    def __init__(self, issues, header=True):\n",
    "        self.issues = issues\n",
    "        self.release_notes = []\n",
    "        self.sections = []\n",
    "        self.include_header = header\n",
    "        self.parse()\n",
    "        \n",
    "    def check(self, **kw):\n",
    "        if not self.sections:\n",
    "            self._extract()\n",
    "        \n",
    "        def match(i):\n",
    "            for k,v in kw.items():\n",
    "                if isinstance(v, tuple):\n",
    "                    if getattr(i, k) not in v:\n",
    "                        return False\n",
    "                else:\n",
    "                    if getattr(i, k) != v:\n",
    "                        return False\n",
    "            return True\n",
    "        \n",
    "        iset = {i.id for i in self.issues if match(i)}\n",
    "        iset2 = {t[0].id for t in self.sections}\n",
    "        diff = iset - iset2\n",
    "        if diff:\n",
    "            print(\"Issues without Release Notes:\")\n",
    "            ldiff = sorted(diff)\n",
    "            for i in ldiff:\n",
    "                print(\" \", i)\n",
    "            return ldiff\n",
    "        return []\n",
    "        \n",
    "    def _extract(self):\n",
    "        extractor = extract.IssuesExtractor(self.issues)\n",
    "        self.sections = extractor.extract(\"Release Notes\")\n",
    "        \n",
    "    def parse(self):\n",
    "        self._extract()\n",
    "        self.release_notes = rnl = []\n",
    "        for issue, notes in self.sections:\n",
    "            if notes.lower() == \"* n/a\":\n",
    "                continue\n",
    "            if self.include_header:\n",
    "                rns = \"%s:\\n%s\"%(_header(issue), notes)\n",
    "            else:\n",
    "                rns = notes\n",
    "            rnl.append(rns)\n",
    "            \n",
    "    def write(self, b):\n",
    "        b.write(\"\\n\".join(self.release_notes))\n",
    "        \n",
    "    def write2(self, fn):\n",
    "        with open(fn, 'w') as f:\n",
    "            self.write(f)\n",
    "        \n",
    "    def print(self):\n",
    "        self.write(sys.stdout)\n",
    "        \n",
    "    def parse2(self):\n",
    "        self.parse()\n",
    "        self.print()\n",
    "        \n",
    "    def categorize(self, *cat):\n",
    "        # attempt to categorize issues by subject based on provided categories\n",
    "        self.release_notes = rnl = []\n",
    "        cat = [c.lower() for c in cat]\n",
    "        cats = {c: [] for c in cat}\n",
    "        cats[\"other\"] = []\n",
    "        cats[\"Bug Fixes\"] = []\n",
    "        for iss, notes in self.sections:\n",
    "            key = None\n",
    "            if iss.tracker == \"Bug\":\n",
    "                key = \"Bug Fixes\"\n",
    "            else:\n",
    "                sub = iss.subject.lower()\n",
    "                for c in cat:\n",
    "                    if c in sub:\n",
    "                        key = c\n",
    "                        break\n",
    "                else:\n",
    "                    key = \"other\"\n",
    "            if notes.lower() == \"* n/a\":\n",
    "                continue\n",
    "            lines = notes.splitlines()\n",
    "            #lines2 = [\"  %d - %s\"%(iss.id, iss.subject)]\n",
    "            lines2 = []\n",
    "            for l in lines:\n",
    "                stars, note = l.split(\" \", 1)\n",
    "                note = \"    \"*(len(stars)) + \"* \" + note\n",
    "                lines2.append(note)\n",
    "            #lines2.append(\"\\n\")\n",
    "            cats[key].append(lines2)\n",
    "        \n",
    "        for category, notes in cats.items():\n",
    "            rnl.append(\"\\n%s:\"%category.title())\n",
    "            for inotes in notes:\n",
    "                for line in inotes:\n",
    "                    rnl.append(line)\n",
    "                    \n",
    "    def categorize2(self, *cat):\n",
    "        # attempt to categorize issues by subject based on provided categories\n",
    "        self.release_notes = rnl = []\n",
    "        for iss, notes in self.sections:\n",
    "            key = None\n",
    "            if notes.lower() == \"* n/a\":\n",
    "                continue\n",
    "            if iss.tracker == \"Bug\":\n",
    "                key = \"bug fixes\"\n",
    "            else:\n",
    "                sub = iss.subject.lower()\n",
    "                for c in cat:\n",
    "                    c = c.lower()\n",
    "                    if c in sub:\n",
    "                        key = c\n",
    "                        break\n",
    "                else:\n",
    "                    key = \"other\"\n",
    "            lines = notes.splitlines()\n",
    "            for l in lines:\n",
    "                stars, note = l.split(\" \", 1)\n",
    "                note = \"|\".join((key, str(iss.id), stars, note))\n",
    "                rnl.append(note)\n",
    "                    \n",
    "def _header(issue):\n",
    "    return \"Issue #%d - %s - %s\"%(issue.id, issue.tracker, issue.subject)"
   ]
  },
  {
   "cell_type": "code",
   "execution_count": 20,
   "metadata": {},
   "outputs": [
    {
     "name": "stdout",
     "output_type": "stream",
     "text": [
      "Duplicate Key Warning ('FRS1234')\n",
      "Duplicate Key Warning ('Specification')\n",
      "Duplicate Key Warning ('Specification')\n",
      "Duplicate Key Warning ('Specification')\n",
      "Duplicate Key Warning ('Motivation')\n",
      "Got 5 warning(s) while parsing issue #3287\n",
      "\n"
     ]
    }
   ],
   "source": [
    "categories = \"Agitation\", \"Pumps\", \"Temperature\", \"DO\", \"pH\", \"MFCs\", \"Shell\", \"Desktop\", \"Hello\"\n",
    "sprint = \"3.0\"\n",
    "formatter = ReleaseNotesFormatter(issues.find2(sprint_milestone=sprint), False)\n",
    "formatter.categorize2(*categories)\n",
    "formatter.write2(\"release notes test %s categorize.txt\"%sprint)"
   ]
  },
  {
   "cell_type": "code",
   "execution_count": 18,
   "metadata": {},
   "outputs": [
    {
     "name": "stdout",
     "output_type": "stream",
     "text": [
      "Duplicate Key Warning ('FRS1234')\n",
      "Duplicate Key Warning ('Specification')\n",
      "Duplicate Key Warning ('Specification')\n",
      "Duplicate Key Warning ('Specification')\n",
      "Duplicate Key Warning ('Motivation')\n",
      "Got 5 warning(s) while parsing issue #3287\n",
      "\n"
     ]
    }
   ],
   "source": [
    "formatter = ReleaseNotesFormatter(issues.find2(sprint_milestone=sprint), False)\n",
    "unchecked = formatter.check()\n",
    "\n",
    "for m in unchecked:\n",
    "    url = \"https://issue.pbsbiotech.com/issues/%s\"%str(m)\n",
    "    print(\"Issue %s: %s\"%(m,url))"
   ]
  },
  {
   "cell_type": "code",
   "execution_count": 18,
   "metadata": {},
   "outputs": [],
   "source": [
    "# import time\n",
    "# import webbrowser\n",
    "# for i, m in enumerate(unchecked, 1):\n",
    "#     url = \"https://issue.pbsbiotech.com/issues/%s\"%str(m)\n",
    "#     if not i%5: input(\"Press enter to continue\")\n",
    "#     time.sleep(0.5)\n",
    "#     webbrowser.open_new_tab(url)"
   ]
  },
  {
   "cell_type": "code",
   "execution_count": null,
   "metadata": {},
   "outputs": [],
   "source": []
  }
 ],
 "metadata": {
  "kernelspec": {
   "display_name": "Python 3",
   "language": "python",
   "name": "python3"
  },
  "language_info": {
   "codemirror_mode": {
    "name": "ipython",
    "version": 3
   },
   "file_extension": ".py",
   "mimetype": "text/x-python",
   "name": "python",
   "nbconvert_exporter": "python",
   "pygments_lexer": "ipython3",
   "version": "3.5.2"
  }
 },
 "nbformat": 4,
 "nbformat_minor": 2
}
