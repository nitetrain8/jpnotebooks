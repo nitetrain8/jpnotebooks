{
 "cells": [
  {
   "cell_type": "code",
   "execution_count": 8,
   "metadata": {},
   "outputs": [],
   "source": [
    "import os, re, sys\n",
    "from datetime import date\n",
    "import importlib\n",
    "import jpnotebooks.Software.SDLC_traceability_tools.issuetracker_item_extracter2 as iie\n",
    "import jpnotebooks.Software.SDLC_traceability_tools.user_tests_parser as utp\n",
    "import scripts.tools.redmine_cache as rmc\n",
    "from scripts.software_frs import frs_traceability2 as FRS\n",
    "\n",
    "def reload():\n",
    "    global iie, utp, rmc, UserTestsParser, RequirementExtracter\n",
    "    \n",
    "    iie = importlib.reload(iie)\n",
    "    utp = importlib.reload(utp)\n",
    "    rmc = importlib.reload(rmc)\n",
    "    UserTestsParser = utp.UserTestsParser\n",
    "    RequirementExtracter = iie.RequirementExtracter\n",
    "\n",
    "reload()"
   ]
  },
  {
   "cell_type": "code",
   "execution_count": 9,
   "metadata": {},
   "outputs": [],
   "source": [
    "_client = None\n",
    "\n",
    "def _get_client():\n",
    "    global _client\n",
    "    _client = _client or rmc.RedmineClient()\n",
    "    return _client\n",
    "\n",
    "def load_issues():\n",
    "    return _get_client().get_filtered([('project.identifier', '==', 'pbssoftware')])"
   ]
  },
  {
   "cell_type": "code",
   "execution_count": 10,
   "metadata": {},
   "outputs": [],
   "source": [
    "rtags = [\n",
    "    \"URS\",\n",
    "    \"FRS\",\n",
    "    \"SWDS\",\n",
    "    \"CS\",\n",
    "    \"BUG\"\n",
    "]\n",
    "\n",
    "ttags = [\n",
    "    \"USR\"\n",
    "]\n",
    "\n",
    "_ignore = {3194, 3287}\n",
    "_sprints = {\n",
    "    'Legacy',\n",
    "    '3.0',\n",
    "    '3.0.1',\n",
    "    '3.0.2',\n",
    "    '3.0.3',\n",
    "    '3.0.4',\n",
    "    '3.0.5',\n",
    "    '3.0.6',\n",
    "    '3.0.7'\n",
    "}\n",
    "\n",
    "def relevant(i):\n",
    "    return i.sprint_milestone.name in _sprints and i.id not in _ignore and i.status != \"Rejected\"\n",
    "\n",
    "def relevent38(i):\n",
    "    return i.sprint_milestone.name == \"3.0.8\" and i.id not in _ignore and i.status != \"Rejected\""
   ]
  },
  {
   "cell_type": "code",
   "execution_count": 11,
   "metadata": {
    "scrolled": false
   },
   "outputs": [],
   "source": [
    "issues = load_issues()\n",
    "issues2 = list(filter(relevant, issues.values()))\n",
    "\n",
    "parser = iie.IssuetrackerParser(rtags)\n",
    "reqs = parser.parse_all(issues2)\n",
    "\n",
    "parser2 = UserTestsParser()\n",
    "tests = parser2.parse_excel(\"C:\\\\Users\\\\Nathan\\\\Documents\\\\Dropbox\\\\FRS\\\\FRS Tests 190226.xlsx\")\n",
    "\n",
    "parser3 = WebFRSIssuetrackerParser(rtags)\n",
    "reqs2 = parser3.parse_all(issues2)\n",
    "\n",
    "allitems = reqs + tests + reqs2\n",
    "\n",
    "def missing_parents(req, ref, reqs):\n",
    "    if req.type == \"TEST\":\n",
    "        return 'ignore'\n",
    "    else:\n",
    "        return 'fix'\n",
    "\n",
    "rex = RequirementExtracter(rtags, ttags)\n",
    "rex.config.missing_parents = missing_parents\n",
    "rows = rex.extract(allitems)"
   ]
  },
  {
   "cell_type": "code",
   "execution_count": 12,
   "metadata": {},
   "outputs": [],
   "source": [
    "import networkx as nx\n",
    "import itertools\n",
    "\n",
    "def impacted_nodes(G, node):\n",
    "    a = nx.shortest_path_length(G, target=node)\n",
    "    d = nx.shortest_path_length(G, source=node)\n",
    "    return {n for n in itertools.chain(a, d)}\n",
    "\n",
    "def impact_graph(G, node):\n",
    "    r = impacted_nodes(G, node)\n",
    "    return G.subgraph(r)\n",
    "\n",
    "def items_to_graph(items, reqs):\n",
    "    G = nx.DiGraph()\n",
    "    for req in items:\n",
    "        if not req.obs:\n",
    "            for ref in req.refs:\n",
    "                if ref in reqs:\n",
    "                    G.add_edge(ref, req.tag)\n",
    "    return G\n",
    "\n",
    "def dictify(items):\n",
    "    out = {}\n",
    "    for i in items:\n",
    "        if not i.obs:\n",
    "            if i.tag in out:\n",
    "                print(\"Warning: duplicate for tag: %s\"%i.tag)\n",
    "            out[i.tag] = i\n",
    "    return out\n",
    "\n",
    "def add_implicit_local_refs(items):\n",
    "    for req in items:\n",
    "        hpref = req.tag.rsplit(\".\", 1)[0]\n",
    "        if hpref != req.tag:\n",
    "            req.refs.add(hpref)\n",
    "            \n",
    "def make_impact_graph(G, node, file):\n",
    "    SG = impact_graph(G, node)\n",
    "    nx.write_graphml(G, file)"
   ]
  },
  {
   "cell_type": "code",
   "execution_count": 13,
   "metadata": {},
   "outputs": [],
   "source": [
    "_imkey = re.compile(r\"(%s)(\\d+)\\.?([\\d\\.]*)\" % \"|\".join(['URS', 'FRS', 'SDS'])).match\n",
    "\n",
    "def key_match(key):\n",
    "    m = _imkey(key)\n",
    "    if m:\n",
    "        type, first, others = m.groups()\n",
    "        return type+first, others\n",
    "    return key, \"\"\n",
    "\n",
    "def root_for_type(items, typ):\n",
    "    root = FRS.Root(key_match)\n",
    "    for req in items:\n",
    "        if req.type == typ and not req.obs:\n",
    "            root.add(req.tag, 0)\n",
    "    return root"
   ]
  },
  {
   "cell_type": "code",
   "execution_count": 16,
   "metadata": {},
   "outputs": [],
   "source": [
    "def condensed_implement_graph(G, node, reqs):\n",
    "    d = nx.shortest_path_length(G, source=node)\n",
    "    return condensed_graph(d, reqs)\n",
    "\n",
    "def combined_implement_graph(G, nodes, reqs):\n",
    "    d = set()\n",
    "    for n in nodes:\n",
    "        try:\n",
    "            nrefs = impacted_nodes(G, n)\n",
    "        except nx.NodeNotFound:\n",
    "            pass\n",
    "        else:\n",
    "            d.update(nrefs)\n",
    "    return condensed_graph(d, reqs)"
   ]
  },
  {
   "cell_type": "code",
   "execution_count": 17,
   "metadata": {},
   "outputs": [],
   "source": [
    "def copysubgraph(G, nodes):\n",
    "    G2 = nx.DiGraph()\n",
    "    G2.add_nodes_from(nodes)\n",
    "    for s,t in G.edges():\n",
    "        if s in G2 and t in G2:\n",
    "            G2.add_edge(s,t)\n",
    "    return G2\n",
    "\n",
    "def combined_implement_graph3(G, new):\n",
    "    d = set()\n",
    "    for n in new:\n",
    "        try:\n",
    "            nrefs = impacted_nodes(G, n)\n",
    "        except nx.NodeNotFound:\n",
    "            pass\n",
    "        else:\n",
    "            d.update(nrefs)\n",
    "    return combined_implement_graph2(G, d)\n",
    "\n",
    "def combined_implement_graph2(G, new):\n",
    "    #G2 = copysubgraph(G, new)\n",
    "    return condensed_graph2(G2)\n",
    "    \n",
    "def condensed_graph2(G):\n",
    "    return nx.algorithms.dag.transitive_reduction(G)"
   ]
  },
  {
   "cell_type": "code",
   "execution_count": 27,
   "metadata": {},
   "outputs": [],
   "source": [
    "import py2cytoscape\n",
    "from py2cytoscape.data.cyrest_client import CyRestClient\n",
    "\n",
    "cy = CyRestClient()"
   ]
  },
  {
   "cell_type": "code",
   "execution_count": 28,
   "metadata": {},
   "outputs": [],
   "source": [
    "def remove_interface_refs(G):\n",
    "    interface = \"4370\", \"4374\"\n",
    "    \n",
    "    edges = list(G.edges())\n",
    "    for a,b in edges:\n",
    "        an = a[3:7]\n",
    "        bn = b[3:7]\n",
    "        if (an in interface) != (bn in interface):\n",
    "            G.remove_edge(a,b)"
   ]
  },
  {
   "cell_type": "code",
   "execution_count": 132,
   "metadata": {},
   "outputs": [],
   "source": [
    "def remove_diffnum_refs(G):\n",
    "    edges = list(G.edges())\n",
    "    G2 = nx.DiGraph()\n",
    "    def g(r): return r[3:7]\n",
    "    for a, b in edges:\n",
    "        if g(a) != g(b):\n",
    "            G2.add_edge(a,b)\n",
    "    for n in list(G2.nodes()):\n",
    "        p = n.rsplit(\".\", 1)[0]\n",
    "        if p in G2 and n != p:\n",
    "            G2.add_edge(p, n)\n",
    "    return G2\n",
    "\n",
    "def type_only(G, typ):\n",
    "    G2 = nx.DiGraph()\n",
    "    for a,b in list(G.edges()):\n",
    "        if a.startswith(typ) and b.startswith(typ):\n",
    "            G2.add_edge(a,b)\n",
    "    return G2"
   ]
  },
  {
   "cell_type": "code",
   "execution_count": 154,
   "metadata": {},
   "outputs": [],
   "source": [
    "import random\n",
    "def rand_color():\n",
    "    b16 = \"0123456789ABCDEF\"\n",
    "    def c(): return random.randint(127, 255)\n",
    "    return \"#%02x%02x%02x\"%(c(), c(), c())\n",
    "    return \"#\" + \"\".join(b16[random.randint(0, 15)] for _ in range(6))"
   ]
  },
  {
   "cell_type": "code",
   "execution_count": 160,
   "metadata": {
    "scrolled": true
   },
   "outputs": [],
   "source": [
    "   \n",
    "apn = allitems\n",
    "apn = [n for n in apn if n.type != \"TEST\"]\n",
    "add_implicit_local_refs(apn)\n",
    "reqs = dictify(apn)\n",
    "\n",
    "G = items_to_graph(apn, reqs)\n",
    "#remove_interface_refs(G)\n",
    "G2 = type_only(G, \"URS\")\n",
    "remove_interface_refs(G2)\n",
    "G3 = condensed_graph2(G2)\n",
    "\n",
    "cy.session.delete()\n",
    "\n",
    "data = py2cytoscape.util.from_networkx(G2)\n",
    "mappings = {}\n",
    "for node in data['elements']['nodes']:\n",
    "    node = node['data']\n",
    "    req = reqs[node['id']]\n",
    "    node['type'] = req.type\n",
    "    node['group'] = req.num.split('.',1)[0]\n",
    "    mappings[node['group']] = mappings.get(node['group'], rand_color())\n",
    "    node['new'] = reqs[node['id']].milestone == '3.0.8'\n",
    "    \n",
    "nw = cy.network.create(None, name=\"test2\", collection=\"Test2\", data=data)\n",
    "cy.layout.apply(\"force-directed\", nw)\n",
    "style = cy.style.create(\"pbs_reqs\", cy.style.get(\"default\"))\n",
    "style.create_discrete_mapping(\"group\", \"String\", \"NODE_FILL_COLOR\", mappings)\n",
    "cy.style.apply(style, nw)\n",
    "#cy.style.apply(style, nw)"
   ]
  },
  {
   "cell_type": "code",
   "execution_count": 159,
   "metadata": {},
   "outputs": [],
   "source": [
    "cy.style.apply(style, nw)"
   ]
  },
  {
   "cell_type": "code",
   "execution_count": 128,
   "metadata": {},
   "outputs": [],
   "source": [
    "nx.algorithms.dag.is_directed_acyclic_graph??"
   ]
  },
  {
   "cell_type": "code",
   "execution_count": 62,
   "metadata": {},
   "outputs": [],
   "source": [
    "style = cy.style.create(\"test\", cy.style.get(\"default\"))"
   ]
  },
  {
   "cell_type": "code",
   "execution_count": 115,
   "metadata": {},
   "outputs": [],
   "source": [
    "style.create_discrete_mapping(\"group\", \"String\", \"NODE_FILL_COLOR\", mappings)"
   ]
  },
  {
   "cell_type": "code",
   "execution_count": 143,
   "metadata": {},
   "outputs": [
    {
     "ename": "HTTPError",
     "evalue": "404 Client Error: Not Found for url: http://localhost:1234/v1/styles/pbs_reqs/mappings",
     "output_type": "error",
     "traceback": [
      "\u001b[1;31m---------------------------------------------------------------------------\u001b[0m",
      "\u001b[1;31mHTTPError\u001b[0m                                 Traceback (most recent call last)",
      "\u001b[1;32m<ipython-input-143-68b0614381c7>\u001b[0m in \u001b[0;36m<module>\u001b[1;34m()\u001b[0m\n\u001b[0;32m      5\u001b[0m         \u001b[0mr\u001b[0m\u001b[1;33m.\u001b[0m\u001b[0mraise_for_status\u001b[0m\u001b[1;33m(\u001b[0m\u001b[1;33m)\u001b[0m\u001b[1;33m\u001b[0m\u001b[0m\n\u001b[0;32m      6\u001b[0m \u001b[0mstyle\u001b[0m \u001b[1;33m=\u001b[0m \u001b[0mMyStyle\u001b[0m\u001b[1;33m(\u001b[0m\u001b[1;34m'pbs_reqs'\u001b[0m\u001b[1;33m)\u001b[0m\u001b[1;33m\u001b[0m\u001b[0m\n\u001b[1;32m----> 7\u001b[1;33m \u001b[0mstyle\u001b[0m\u001b[1;33m.\u001b[0m\u001b[0mcreate_discrete_mapping\u001b[0m\u001b[1;33m(\u001b[0m\u001b[1;34m\"group\"\u001b[0m\u001b[1;33m,\u001b[0m \u001b[1;34m\"String\"\u001b[0m\u001b[1;33m,\u001b[0m \u001b[1;34m\"NODE_FILL_COLOR\"\u001b[0m\u001b[1;33m,\u001b[0m \u001b[0mmappings\u001b[0m\u001b[1;33m)\u001b[0m\u001b[1;33m\u001b[0m\u001b[0m\n\u001b[0m",
      "\u001b[1;32mc:\\program files\\python35\\lib\\site-packages\\py2cytoscape\\data\\style.py\u001b[0m in \u001b[0;36mcreate_discrete_mapping\u001b[1;34m(self, column, col_type, vp, mappings)\u001b[0m\n\u001b[0;32m     41\u001b[0m         return self.__call_create_mapping(\n\u001b[0;32m     42\u001b[0m             self.__get_discrete(column=column, col_type=col_type, vp=vp,\n\u001b[1;32m---> 43\u001b[1;33m                                 mappings=mappings))\n\u001b[0m\u001b[0;32m     44\u001b[0m \u001b[1;33m\u001b[0m\u001b[0m\n\u001b[0;32m     45\u001b[0m     def create_continuous_mapping(self, column=None, col_type='String',\n",
      "\u001b[1;32m<ipython-input-143-68b0614381c7>\u001b[0m in \u001b[0;36m_Style__call_create_mapping\u001b[1;34m(self, mapping)\u001b[0m\n\u001b[0;32m      3\u001b[0m         \u001b[0murl\u001b[0m \u001b[1;33m=\u001b[0m \u001b[0mself\u001b[0m\u001b[1;33m.\u001b[0m\u001b[0m_Style__url\u001b[0m \u001b[1;33m+\u001b[0m \u001b[1;34m'mappings'\u001b[0m\u001b[1;33m\u001b[0m\u001b[0m\n\u001b[0;32m      4\u001b[0m         \u001b[0mr\u001b[0m \u001b[1;33m=\u001b[0m \u001b[0mrequests\u001b[0m\u001b[1;33m.\u001b[0m\u001b[0mpost\u001b[0m\u001b[1;33m(\u001b[0m\u001b[0murl\u001b[0m\u001b[1;33m,\u001b[0m \u001b[0mdata\u001b[0m\u001b[1;33m=\u001b[0m\u001b[0mjson\u001b[0m\u001b[1;33m.\u001b[0m\u001b[0mdumps\u001b[0m\u001b[1;33m(\u001b[0m\u001b[1;33m[\u001b[0m\u001b[0mmapping\u001b[0m\u001b[1;33m]\u001b[0m\u001b[1;33m)\u001b[0m\u001b[1;33m,\u001b[0m \u001b[0mheaders\u001b[0m\u001b[1;33m=\u001b[0m\u001b[0mpy2cytoscape\u001b[0m\u001b[1;33m.\u001b[0m\u001b[0mdata\u001b[0m\u001b[1;33m.\u001b[0m\u001b[0mHEADERS\u001b[0m\u001b[1;33m)\u001b[0m\u001b[1;33m\u001b[0m\u001b[0m\n\u001b[1;32m----> 5\u001b[1;33m         \u001b[0mr\u001b[0m\u001b[1;33m.\u001b[0m\u001b[0mraise_for_status\u001b[0m\u001b[1;33m(\u001b[0m\u001b[1;33m)\u001b[0m\u001b[1;33m\u001b[0m\u001b[0m\n\u001b[0m\u001b[0;32m      6\u001b[0m \u001b[0mstyle\u001b[0m \u001b[1;33m=\u001b[0m \u001b[0mMyStyle\u001b[0m\u001b[1;33m(\u001b[0m\u001b[1;34m'pbs_reqs'\u001b[0m\u001b[1;33m)\u001b[0m\u001b[1;33m\u001b[0m\u001b[0m\n\u001b[0;32m      7\u001b[0m \u001b[0mstyle\u001b[0m\u001b[1;33m.\u001b[0m\u001b[0mcreate_discrete_mapping\u001b[0m\u001b[1;33m(\u001b[0m\u001b[1;34m\"group\"\u001b[0m\u001b[1;33m,\u001b[0m \u001b[1;34m\"String\"\u001b[0m\u001b[1;33m,\u001b[0m \u001b[1;34m\"NODE_FILL_COLOR\"\u001b[0m\u001b[1;33m,\u001b[0m \u001b[0mmappings\u001b[0m\u001b[1;33m)\u001b[0m\u001b[1;33m\u001b[0m\u001b[0m\n",
      "\u001b[1;32mc:\\program files\\python35\\lib\\site-packages\\requests\\models.py\u001b[0m in \u001b[0;36mraise_for_status\u001b[1;34m(self)\u001b[0m\n\u001b[0;32m    935\u001b[0m \u001b[1;33m\u001b[0m\u001b[0m\n\u001b[0;32m    936\u001b[0m         \u001b[1;32mif\u001b[0m \u001b[0mhttp_error_msg\u001b[0m\u001b[1;33m:\u001b[0m\u001b[1;33m\u001b[0m\u001b[0m\n\u001b[1;32m--> 937\u001b[1;33m             \u001b[1;32mraise\u001b[0m \u001b[0mHTTPError\u001b[0m\u001b[1;33m(\u001b[0m\u001b[0mhttp_error_msg\u001b[0m\u001b[1;33m,\u001b[0m \u001b[0mresponse\u001b[0m\u001b[1;33m=\u001b[0m\u001b[0mself\u001b[0m\u001b[1;33m)\u001b[0m\u001b[1;33m\u001b[0m\u001b[0m\n\u001b[0m\u001b[0;32m    938\u001b[0m \u001b[1;33m\u001b[0m\u001b[0m\n\u001b[0;32m    939\u001b[0m     \u001b[1;32mdef\u001b[0m \u001b[0mclose\u001b[0m\u001b[1;33m(\u001b[0m\u001b[0mself\u001b[0m\u001b[1;33m)\u001b[0m\u001b[1;33m:\u001b[0m\u001b[1;33m\u001b[0m\u001b[0m\n",
      "\u001b[1;31mHTTPError\u001b[0m: 404 Client Error: Not Found for url: http://localhost:1234/v1/styles/pbs_reqs/mappings"
     ]
    }
   ],
   "source": [
    "class MyStyle(py2cytoscape.data.style.Style):\n",
    "    def _Style__call_create_mapping(self, mapping):\n",
    "        url = self._Style__url + 'mappings'\n",
    "        r = requests.post(url, data=json.dumps([mapping]), headers=py2cytoscape.data.HEADERS)\n",
    "        r.raise_for_status()\n",
    "style = MyStyle('pbs_reqs')\n",
    "style.create_discrete_mapping(\"group\", \"String\", \"NODE_FILL_COLOR\", mappings)"
   ]
  },
  {
   "cell_type": "code",
   "execution_count": 87,
   "metadata": {},
   "outputs": [],
   "source": [
    "py2cytoscape.data.style.Style??"
   ]
  },
  {
   "cell_type": "code",
   "execution_count": 72,
   "metadata": {},
   "outputs": [],
   "source": [
    "mappings = {\n",
    "    '4370': '#F21519'\n",
    "}\n",
    "style.create_discrete_mapping(\"group\", 'String', \"NODE_FILL_COLOR\", mappings)"
   ]
  },
  {
   "cell_type": "code",
   "execution_count": 65,
   "metadata": {},
   "outputs": [],
   "source": [
    "style.create_discrete_mapping??"
   ]
  },
  {
   "cell_type": "code",
   "execution_count": 75,
   "metadata": {},
   "outputs": [],
   "source": [
    "cy.style.apply(style, nw)"
   ]
  },
  {
   "cell_type": "code",
   "execution_count": 71,
   "metadata": {},
   "outputs": [
    {
     "data": {
      "text/plain": [
       "201"
      ]
     },
     "execution_count": 71,
     "metadata": {},
     "output_type": "execute_result"
    }
   ],
   "source": [
    "style.get_mapping(\"NODE_FILL_COLOR\")\n",
    "\n",
    "mapping = {'map': [{'key': 'FRS', 'value': '#FFFF00'}],\n",
    " 'mappingColumn': 'type',\n",
    " 'mappingColumnType': 'String',\n",
    " 'mappingType': 'discrete',\n",
    " 'visualProperty': 'NODE_FILL_COLOR'}\n",
    "\n",
    "r =requests.post(\"http://localhost:1234/v1/styles/test/mappings\", data=json.dumps([mapping]), headers={'Content-Type':'application/json'})\n",
    "r.status_code"
   ]
  },
  {
   "cell_type": "code",
   "execution_count": 56,
   "metadata": {},
   "outputs": [
    {
     "name": "stdout",
     "output_type": "stream",
     "text": [
      "NODE_SELECTED_PAINT #FFFF00\n",
      "NODE_PAINT #787878\n",
      "NODE_LABEL_COLOR #000000\n",
      "NODE_BORDER_PAINT #000000\n",
      "NODE_FILL_COLOR #C80000\n"
     ]
    }
   ],
   "source": [
    "import requests, json\n",
    "c = requests.get(\"http://localhost:1234/v1/styles/visualproperties\").content\n",
    "d = json.loads(c.decode())\n",
    "for vp in d:\n",
    "    k = vp['visualProperty']\n",
    "    v = vp.get('default', '')\n",
    "    if k.startswith(\"NODE\") and v.startswith(\"#\"):\n",
    "        print(vp['visualProperty'], vp.get('default', \"\"))"
   ]
  },
  {
   "cell_type": "code",
   "execution_count": 51,
   "metadata": {},
   "outputs": [
    {
     "data": {
      "text/plain": [
       "34"
      ]
     },
     "execution_count": 51,
     "metadata": {},
     "output_type": "execute_result"
    }
   ],
   "source": [
    "c[2]"
   ]
  },
  {
   "cell_type": "code",
   "execution_count": 61,
   "metadata": {},
   "outputs": [
    {
     "data": {
      "text/plain": [
       "{'defaults': [{'value': 10.0, 'visualProperty': 'COMPOUND_NODE_PADDING'},\n",
       "  {'value': 'ROUND_RECTANGLE', 'visualProperty': 'COMPOUND_NODE_SHAPE'},\n",
       "  {'value': 'org.cytoscape.view.presentation.property.NullVisualProperty$NullDataTypeImpl@3956b6ba',\n",
       "   'visualProperty': 'DING_RENDERING_ENGINE_ROOT'},\n",
       "  {'value': 'DefaultVisualizableVisualProperty(id=EDGE, name=Edge Visual Property)',\n",
       "   'visualProperty': 'EDGE'},\n",
       "  {'value': '', 'visualProperty': 'EDGE_BEND'},\n",
       "  {'value': True, 'visualProperty': 'EDGE_CURVED'},\n",
       "  {'value': '', 'visualProperty': 'EDGE_LABEL'},\n",
       "  {'value': '#000000', 'visualProperty': 'EDGE_LABEL_COLOR'},\n",
       "  {'value': 'Dialog.plain,plain,10', 'visualProperty': 'EDGE_LABEL_FONT_FACE'},\n",
       "  {'value': 10, 'visualProperty': 'EDGE_LABEL_FONT_SIZE'},\n",
       "  {'value': 255, 'visualProperty': 'EDGE_LABEL_TRANSPARENCY'},\n",
       "  {'value': 200.0, 'visualProperty': 'EDGE_LABEL_WIDTH'},\n",
       "  {'value': 'SOLID', 'visualProperty': 'EDGE_LINE_TYPE'},\n",
       "  {'value': '#323232', 'visualProperty': 'EDGE_PAINT'},\n",
       "  {'value': False, 'visualProperty': 'EDGE_SELECTED'},\n",
       "  {'value': '#FF0000', 'visualProperty': 'EDGE_SELECTED_PAINT'},\n",
       "  {'value': '#FFFF00', 'visualProperty': 'EDGE_SOURCE_ARROW_SELECTED_PAINT'},\n",
       "  {'value': 'NONE', 'visualProperty': 'EDGE_SOURCE_ARROW_SHAPE'},\n",
       "  {'value': 6.0, 'visualProperty': 'EDGE_SOURCE_ARROW_SIZE'},\n",
       "  {'value': '#000000', 'visualProperty': 'EDGE_SOURCE_ARROW_UNSELECTED_PAINT'},\n",
       "  {'value': '#FF0000', 'visualProperty': 'EDGE_STROKE_SELECTED_PAINT'},\n",
       "  {'value': '#848484', 'visualProperty': 'EDGE_STROKE_UNSELECTED_PAINT'},\n",
       "  {'value': '#FFFF00', 'visualProperty': 'EDGE_TARGET_ARROW_SELECTED_PAINT'},\n",
       "  {'value': 'NONE', 'visualProperty': 'EDGE_TARGET_ARROW_SHAPE'},\n",
       "  {'value': 6.0, 'visualProperty': 'EDGE_TARGET_ARROW_SIZE'},\n",
       "  {'value': '#000000', 'visualProperty': 'EDGE_TARGET_ARROW_UNSELECTED_PAINT'},\n",
       "  {'value': '', 'visualProperty': 'EDGE_TOOLTIP'},\n",
       "  {'value': 255, 'visualProperty': 'EDGE_TRANSPARENCY'},\n",
       "  {'value': '#404040', 'visualProperty': 'EDGE_UNSELECTED_PAINT'},\n",
       "  {'value': True, 'visualProperty': 'EDGE_VISIBLE'},\n",
       "  {'value': 2.0, 'visualProperty': 'EDGE_WIDTH'},\n",
       "  {'value': 'DefaultVisualizableVisualProperty(id=NETWORK, name=Network Visual Property)',\n",
       "   'visualProperty': 'NETWORK'},\n",
       "  {'value': False, 'visualProperty': 'NETWORK_ANNOTATION_SELECTION'},\n",
       "  {'value': '#FFFFFF', 'visualProperty': 'NETWORK_BACKGROUND_PAINT'},\n",
       "  {'value': 0.0, 'visualProperty': 'NETWORK_CENTER_X_LOCATION'},\n",
       "  {'value': 0.0, 'visualProperty': 'NETWORK_CENTER_Y_LOCATION'},\n",
       "  {'value': 0.0, 'visualProperty': 'NETWORK_CENTER_Z_LOCATION'},\n",
       "  {'value': 0.0, 'visualProperty': 'NETWORK_DEPTH'},\n",
       "  {'value': True, 'visualProperty': 'NETWORK_EDGE_SELECTION'},\n",
       "  {'value': 400.0, 'visualProperty': 'NETWORK_HEIGHT'},\n",
       "  {'value': True, 'visualProperty': 'NETWORK_NODE_SELECTION'},\n",
       "  {'value': 1.0, 'visualProperty': 'NETWORK_SCALE_FACTOR'},\n",
       "  {'value': 550.0, 'visualProperty': 'NETWORK_SIZE'},\n",
       "  {'value': '', 'visualProperty': 'NETWORK_TITLE'},\n",
       "  {'value': 550.0, 'visualProperty': 'NETWORK_WIDTH'},\n",
       "  {'value': 'DefaultVisualizableVisualProperty(id=NODE, name=Node Visual Property)',\n",
       "   'visualProperty': 'NODE'},\n",
       "  {'value': '#CCCCCC', 'visualProperty': 'NODE_BORDER_PAINT'},\n",
       "  {'value': 'SOLID', 'visualProperty': 'NODE_BORDER_STROKE'},\n",
       "  {'value': 255, 'visualProperty': 'NODE_BORDER_TRANSPARENCY'},\n",
       "  {'value': 0.0, 'visualProperty': 'NODE_BORDER_WIDTH'},\n",
       "  {'value': 'org.cytoscape.ding.customgraphics.NullCustomGraphics,0,[ Remove Graphics ],',\n",
       "   'visualProperty': 'NODE_CUSTOMGRAPHICS_1'},\n",
       "  {'value': 'org.cytoscape.ding.customgraphics.NullCustomGraphics,0,[ Remove Graphics ],',\n",
       "   'visualProperty': 'NODE_CUSTOMGRAPHICS_2'},\n",
       "  {'value': 'org.cytoscape.ding.customgraphics.NullCustomGraphics,0,[ Remove Graphics ],',\n",
       "   'visualProperty': 'NODE_CUSTOMGRAPHICS_3'},\n",
       "  {'value': 'org.cytoscape.ding.customgraphics.NullCustomGraphics,0,[ Remove Graphics ],',\n",
       "   'visualProperty': 'NODE_CUSTOMGRAPHICS_4'},\n",
       "  {'value': 'org.cytoscape.ding.customgraphics.NullCustomGraphics,0,[ Remove Graphics ],',\n",
       "   'visualProperty': 'NODE_CUSTOMGRAPHICS_5'},\n",
       "  {'value': 'org.cytoscape.ding.customgraphics.NullCustomGraphics,0,[ Remove Graphics ],',\n",
       "   'visualProperty': 'NODE_CUSTOMGRAPHICS_6'},\n",
       "  {'value': 'org.cytoscape.ding.customgraphics.NullCustomGraphics,0,[ Remove Graphics ],',\n",
       "   'visualProperty': 'NODE_CUSTOMGRAPHICS_7'},\n",
       "  {'value': 'org.cytoscape.ding.customgraphics.NullCustomGraphics,0,[ Remove Graphics ],',\n",
       "   'visualProperty': 'NODE_CUSTOMGRAPHICS_8'},\n",
       "  {'value': 'org.cytoscape.ding.customgraphics.NullCustomGraphics,0,[ Remove Graphics ],',\n",
       "   'visualProperty': 'NODE_CUSTOMGRAPHICS_9'},\n",
       "  {'value': 'C,C,c,0.00,0.00',\n",
       "   'visualProperty': 'NODE_CUSTOMGRAPHICS_POSITION_1'},\n",
       "  {'value': 'C,C,c,0.00,0.00',\n",
       "   'visualProperty': 'NODE_CUSTOMGRAPHICS_POSITION_2'},\n",
       "  {'value': 'C,C,c,0.00,0.00',\n",
       "   'visualProperty': 'NODE_CUSTOMGRAPHICS_POSITION_3'},\n",
       "  {'value': 'C,C,c,0.00,0.00',\n",
       "   'visualProperty': 'NODE_CUSTOMGRAPHICS_POSITION_4'},\n",
       "  {'value': 'C,C,c,0.00,0.00',\n",
       "   'visualProperty': 'NODE_CUSTOMGRAPHICS_POSITION_5'},\n",
       "  {'value': 'C,C,c,0.00,0.00',\n",
       "   'visualProperty': 'NODE_CUSTOMGRAPHICS_POSITION_6'},\n",
       "  {'value': 'C,C,c,0.00,0.00',\n",
       "   'visualProperty': 'NODE_CUSTOMGRAPHICS_POSITION_7'},\n",
       "  {'value': 'C,C,c,0.00,0.00',\n",
       "   'visualProperty': 'NODE_CUSTOMGRAPHICS_POSITION_8'},\n",
       "  {'value': 'C,C,c,0.00,0.00',\n",
       "   'visualProperty': 'NODE_CUSTOMGRAPHICS_POSITION_9'},\n",
       "  {'value': 50.0, 'visualProperty': 'NODE_CUSTOMGRAPHICS_SIZE_1'},\n",
       "  {'value': 50.0, 'visualProperty': 'NODE_CUSTOMGRAPHICS_SIZE_2'},\n",
       "  {'value': 50.0, 'visualProperty': 'NODE_CUSTOMGRAPHICS_SIZE_3'},\n",
       "  {'value': 50.0, 'visualProperty': 'NODE_CUSTOMGRAPHICS_SIZE_4'},\n",
       "  {'value': 50.0, 'visualProperty': 'NODE_CUSTOMGRAPHICS_SIZE_5'},\n",
       "  {'value': 50.0, 'visualProperty': 'NODE_CUSTOMGRAPHICS_SIZE_6'},\n",
       "  {'value': 50.0, 'visualProperty': 'NODE_CUSTOMGRAPHICS_SIZE_7'},\n",
       "  {'value': 50.0, 'visualProperty': 'NODE_CUSTOMGRAPHICS_SIZE_8'},\n",
       "  {'value': 50.0, 'visualProperty': 'NODE_CUSTOMGRAPHICS_SIZE_9'},\n",
       "  {'value': 'DefaultVisualizableVisualProperty(id=NODE_CUSTOMPAINT_1, name=Node Custom Paint 1)',\n",
       "   'visualProperty': 'NODE_CUSTOMPAINT_1'},\n",
       "  {'value': 'DefaultVisualizableVisualProperty(id=NODE_CUSTOMPAINT_2, name=Node Custom Paint 2)',\n",
       "   'visualProperty': 'NODE_CUSTOMPAINT_2'},\n",
       "  {'value': 'DefaultVisualizableVisualProperty(id=NODE_CUSTOMPAINT_3, name=Node Custom Paint 3)',\n",
       "   'visualProperty': 'NODE_CUSTOMPAINT_3'},\n",
       "  {'value': 'DefaultVisualizableVisualProperty(id=NODE_CUSTOMPAINT_4, name=Node Custom Paint 4)',\n",
       "   'visualProperty': 'NODE_CUSTOMPAINT_4'},\n",
       "  {'value': 'DefaultVisualizableVisualProperty(id=NODE_CUSTOMPAINT_5, name=Node Custom Paint 5)',\n",
       "   'visualProperty': 'NODE_CUSTOMPAINT_5'},\n",
       "  {'value': 'DefaultVisualizableVisualProperty(id=NODE_CUSTOMPAINT_6, name=Node Custom Paint 6)',\n",
       "   'visualProperty': 'NODE_CUSTOMPAINT_6'},\n",
       "  {'value': 'DefaultVisualizableVisualProperty(id=NODE_CUSTOMPAINT_7, name=Node Custom Paint 7)',\n",
       "   'visualProperty': 'NODE_CUSTOMPAINT_7'},\n",
       "  {'value': 'DefaultVisualizableVisualProperty(id=NODE_CUSTOMPAINT_8, name=Node Custom Paint 8)',\n",
       "   'visualProperty': 'NODE_CUSTOMPAINT_8'},\n",
       "  {'value': 'DefaultVisualizableVisualProperty(id=NODE_CUSTOMPAINT_9, name=Node Custom Paint 9)',\n",
       "   'visualProperty': 'NODE_CUSTOMPAINT_9'},\n",
       "  {'value': 0.0, 'visualProperty': 'NODE_DEPTH'},\n",
       "  {'value': '#89D0F5', 'visualProperty': 'NODE_FILL_COLOR'},\n",
       "  {'value': 35.0, 'visualProperty': 'NODE_HEIGHT'},\n",
       "  {'value': '', 'visualProperty': 'NODE_LABEL'},\n",
       "  {'value': '#000000', 'visualProperty': 'NODE_LABEL_COLOR'},\n",
       "  {'value': 'SansSerif.plain,plain,12',\n",
       "   'visualProperty': 'NODE_LABEL_FONT_FACE'},\n",
       "  {'value': 12, 'visualProperty': 'NODE_LABEL_FONT_SIZE'},\n",
       "  {'value': 'C,C,c,0.00,0.00', 'visualProperty': 'NODE_LABEL_POSITION'},\n",
       "  {'value': 255, 'visualProperty': 'NODE_LABEL_TRANSPARENCY'},\n",
       "  {'value': 200.0, 'visualProperty': 'NODE_LABEL_WIDTH'},\n",
       "  {'value': True, 'visualProperty': 'NODE_NESTED_NETWORK_IMAGE_VISIBLE'},\n",
       "  {'value': '#1E90FF', 'visualProperty': 'NODE_PAINT'},\n",
       "  {'value': False, 'visualProperty': 'NODE_SELECTED'},\n",
       "  {'value': '#FFFF00', 'visualProperty': 'NODE_SELECTED_PAINT'},\n",
       "  {'value': 'ROUND_RECTANGLE', 'visualProperty': 'NODE_SHAPE'},\n",
       "  {'value': 35.0, 'visualProperty': 'NODE_SIZE'},\n",
       "  {'value': '', 'visualProperty': 'NODE_TOOLTIP'},\n",
       "  {'value': 255, 'visualProperty': 'NODE_TRANSPARENCY'},\n",
       "  {'value': True, 'visualProperty': 'NODE_VISIBLE'},\n",
       "  {'value': 75.0, 'visualProperty': 'NODE_WIDTH'},\n",
       "  {'value': 0.0, 'visualProperty': 'NODE_X_LOCATION'},\n",
       "  {'value': 0.0, 'visualProperty': 'NODE_Y_LOCATION'},\n",
       "  {'value': 0.0, 'visualProperty': 'NODE_Z_LOCATION'}],\n",
       " 'mappings': [{'mappingColumn': 'name',\n",
       "   'mappingColumnType': 'String',\n",
       "   'mappingType': 'passthrough',\n",
       "   'visualProperty': 'NODE_LABEL'}],\n",
       " 'title': 'default'}"
      ]
     },
     "execution_count": 61,
     "metadata": {},
     "output_type": "execute_result"
    }
   ],
   "source": [
    "cy.style.get(\"default\")"
   ]
  },
  {
   "cell_type": "code",
   "execution_count": null,
   "metadata": {},
   "outputs": [],
   "source": []
  }
 ],
 "metadata": {
  "kernelspec": {
   "display_name": "Python 3",
   "language": "python",
   "name": "python3"
  },
  "language_info": {
   "codemirror_mode": {
    "name": "ipython",
    "version": 3
   },
   "file_extension": ".py",
   "mimetype": "text/x-python",
   "name": "python",
   "nbconvert_exporter": "python",
   "pygments_lexer": "ipython3",
   "version": "3.5.2"
  }
 },
 "nbformat": 4,
 "nbformat_minor": 2
}
