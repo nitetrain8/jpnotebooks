{
 "cells": [
  {
   "cell_type": "code",
   "execution_count": 2,
   "metadata": {},
   "outputs": [],
   "source": [
    "import os, re, sys\n",
    "from datetime import date\n",
    "import importlib\n",
    "import jpnotebooks.Software.SDLC_traceability_tools.issuetracker_item_extracter2 as iie\n",
    "import jpnotebooks.Software.SDLC_traceability_tools.user_tests_parser as utp\n",
    "import scripts.tools.redmine_cache as rmc\n",
    "\n",
    "iie = importlib.reload(iie)\n",
    "utp = importlib.reload(utp)\n",
    "rmc = importlib.reload(rmc)\n",
    "\n",
    "UserTestsParser = utp.UserTestsParser\n",
    "RequirementExtracter = iie.RequirementExtracter"
   ]
  },
  {
   "cell_type": "code",
   "execution_count": 3,
   "metadata": {},
   "outputs": [],
   "source": [
    "_cache = None\n",
    "_age = None\n",
    "_client = None\n",
    "\n",
    "def _get_client():\n",
    "    global _client\n",
    "    if _client is None:\n",
    "        _client = rmc.RedmineClient()\n",
    "    return _client\n",
    "\n",
    "def _download_issues():\n",
    "    _client = _get_client()\n",
    "    return _client.get_filtered([('project.identifier', '==', 'pbssoftware')])\n",
    "\n",
    "def load_issues():\n",
    "    return _download_issues()\n"
   ]
  },
  {
   "cell_type": "code",
   "execution_count": 4,
   "metadata": {},
   "outputs": [],
   "source": [
    "import re\n",
    "class WebFRSIssuetrackerParser(iie.IssuetrackerParser):\n",
    "    def __init__(self, types=(\"URS\", \"FRS\", \"SDS\", \"SWDS\")):\n",
    "        types = list(types) + [\"3.0WebFRS\"]\n",
    "        super().__init__(types)\n",
    "        \n",
    "    def _get_result_for_line(self, line):\n",
    "        \"\"\" identical to parent function, but checks the type after\n",
    "        scanning the line to return only 3.0WebFRS items, converted\n",
    "        to plain FRS items. \n",
    "        \"\"\"\n",
    "        if not line or line.isspace():\n",
    "            return self._EMPTY_LINE, None, None, None, True\n",
    "\n",
    "        m = self._item_match(line)\n",
    "        if m is None: \n",
    "            return self._RAW_LINE, \"\", \"\", line.strip(), False\n",
    "        \n",
    "        dash1, typ, num, text, dash2 = m.groups()\n",
    "        if typ != '3.0WebFRS':\n",
    "            return self._EMPTY_LINE, None, None, None, True\n",
    "        else:\n",
    "            typ = 'FRS'\n",
    "            num = \"3.\" + num\n",
    "        cancel = dash1 == dash2 and dash1 != \"\"\n",
    "        return self._REQ_RESULT, typ, num, text, cancel"
   ]
  },
  {
   "cell_type": "code",
   "execution_count": 5,
   "metadata": {},
   "outputs": [],
   "source": [
    "rtags = [\n",
    "    \"URS\",\n",
    "    \"FRS\",\n",
    "    \"SWDS\",\n",
    "    \"CS\",\n",
    "    \"BUG\"\n",
    "]\n",
    "\n",
    "ttags = [\n",
    "    \"USR\"\n",
    "]\n",
    "\n",
    "_ignore = {3194, 3287}\n",
    "_sprints = {\n",
    "    'Legacy',\n",
    "    '3.0',\n",
    "    '3.0.1',\n",
    "    '3.0.2',\n",
    "    '3.0.3',\n",
    "    '3.0.4',\n",
    "    '3.0.5',\n",
    "    '3.0.6',\n",
    "    '3.0.7'\n",
    "}\n",
    "\n",
    "def relevant(i):\n",
    "    return i.sprint_milestone.name in _sprints and i.id not in _ignore and i.status != \"Rejected\""
   ]
  },
  {
   "cell_type": "code",
   "execution_count": 25,
   "metadata": {
    "scrolled": false
   },
   "outputs": [],
   "source": [
    "iie = importlib.reload(iie)\n",
    "utp = importlib.reload(utp)\n",
    "UserTestsParser = utp.UserTestsParser\n",
    "RequirementExtracter = iie.RequirementExtracter\n",
    "\n",
    "force = True\n",
    "force = False\n",
    "issues = load_issues()\n",
    "issues2 = list(filter(relevant, issues.values()))\n",
    "parser = iie.IssuetrackerParser(rtags)\n",
    "reqs = parser.parse_all(issues2)\n",
    "\n",
    "parser2 = UserTestsParser()\n",
    "tests = parser2.parse_excel(\"C:\\\\Users\\\\Nathan\\\\Documents\\\\Dropbox\\\\FRS\\\\FRS Tests 190226.xlsx\")\n",
    "\n",
    "parser3 = WebFRSIssuetrackerParser(rtags)\n",
    "reqs2 = parser3.parse_all(issues2)\n",
    "\n",
    "allitems = reqs + tests + reqs2\n",
    "\n",
    "def missing_parents(req, ref, reqs):\n",
    "    if req.type == \"TEST\":\n",
    "        return 'ignore'\n",
    "    else:\n",
    "        return 'fix'\n",
    "\n",
    "rex = RequirementExtracter(rtags, ttags)\n",
    "rex.config.missing_parents = missing_parents\n",
    "rows = rex.extract(allitems)"
   ]
  },
  {
   "cell_type": "code",
   "execution_count": 7,
   "metadata": {},
   "outputs": [],
   "source": [
    "import networkx as nx"
   ]
  },
  {
   "cell_type": "code",
   "execution_count": 22,
   "metadata": {},
   "outputs": [],
   "source": [
    "all2 = []\n",
    "seen = set()\n",
    "for item in allitems:\n",
    "    if not item.obs:\n",
    "        all2.append(item)\n",
    "        \n",
    "for item in all2:\n",
    "    if item.tag in seen:\n",
    "        print(item.tag)\n",
    "    seen.add(item.tag)"
   ]
  },
  {
   "cell_type": "code",
   "execution_count": 27,
   "metadata": {},
   "outputs": [],
   "source": [
    "G= nx.DiGraph()\n",
    "\n",
    "for req in allitems:\n",
    "    G.add_node(req.tag)\n",
    "    for ref in req.refs:\n",
    "        G.add_edge(ref, req.tag)\n",
    "        \n",
    "nx.write_graphml(G, \"text.xml\")"
   ]
  },
  {
   "cell_type": "code",
   "execution_count": 18,
   "metadata": {},
   "outputs": [],
   "source": []
  },
  {
   "cell_type": "code",
   "execution_count": 19,
   "metadata": {},
   "outputs": [],
   "source": [
    "nx.DiGraph.add_edge?"
   ]
  },
  {
   "cell_type": "code",
   "execution_count": null,
   "metadata": {},
   "outputs": [],
   "source": []
  }
 ],
 "metadata": {
  "kernelspec": {
   "display_name": "Python 3",
   "language": "python",
   "name": "python3"
  },
  "language_info": {
   "codemirror_mode": {
    "name": "ipython",
    "version": 3
   },
   "file_extension": ".py",
   "mimetype": "text/x-python",
   "name": "python",
   "nbconvert_exporter": "python",
   "pygments_lexer": "ipython3",
   "version": "3.5.2"
  }
 },
 "nbformat": 4,
 "nbformat_minor": 2
}
