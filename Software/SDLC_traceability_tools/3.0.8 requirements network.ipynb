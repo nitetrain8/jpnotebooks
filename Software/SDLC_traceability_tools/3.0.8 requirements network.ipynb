{
 "cells": [
  {
   "cell_type": "code",
   "execution_count": 1,
   "metadata": {},
   "outputs": [],
   "source": [
    "import os, re, sys\n",
    "from datetime import date\n",
    "import importlib\n",
    "import jpnotebooks.Software.SDLC_traceability_tools.issuetracker_item_extracter2 as iie\n",
    "import jpnotebooks.Software.SDLC_traceability_tools.user_tests_parser as utp\n",
    "import scripts.tools.redmine_cache as rmc\n",
    "from scripts.software_frs import frs_traceability2 as FRS\n",
    "\n",
    "iie = importlib.reload(iie)\n",
    "utp = importlib.reload(utp)\n",
    "rmc = importlib.reload(rmc)\n",
    "\n",
    "UserTestsParser = utp.UserTestsParser\n",
    "RequirementExtracter = iie.RequirementExtracter"
   ]
  },
  {
   "cell_type": "code",
   "execution_count": 2,
   "metadata": {},
   "outputs": [],
   "source": [
    "_cache = None\n",
    "_age = None\n",
    "_client = None\n",
    "\n",
    "def _get_client():\n",
    "    global _client\n",
    "    if _client is None:\n",
    "        _client = rmc.RedmineClient()\n",
    "    return _client\n",
    "\n",
    "def _download_issues():\n",
    "    _client = _get_client()\n",
    "    return _client.get_filtered([('project.identifier', '==', 'pbssoftware')])\n",
    "\n",
    "def load_issues():\n",
    "    return _download_issues()\n"
   ]
  },
  {
   "cell_type": "code",
   "execution_count": 3,
   "metadata": {},
   "outputs": [],
   "source": [
    "import re\n",
    "class WebFRSIssuetrackerParser(iie.IssuetrackerParser):\n",
    "    def __init__(self, types=(\"URS\", \"FRS\", \"SDS\", \"SWDS\")):\n",
    "        types = list(types) + [\"3.0WebFRS\"]\n",
    "        super().__init__(types)\n",
    "        \n",
    "    def _get_result_for_line(self, line):\n",
    "        \"\"\" identical to parent function, but checks the type after\n",
    "        scanning the line to return only 3.0WebFRS items, converted\n",
    "        to plain FRS items. \n",
    "        \"\"\"\n",
    "        if not line or line.isspace():\n",
    "            return self._EMPTY_LINE, None, None, None, True\n",
    "\n",
    "        m = self._item_match(line)\n",
    "        if m is None: \n",
    "            return self._RAW_LINE, \"\", \"\", line.strip(), False\n",
    "        \n",
    "        dash1, typ, num, text, dash2 = m.groups()\n",
    "        if typ != '3.0WebFRS':\n",
    "            return self._EMPTY_LINE, None, None, None, True\n",
    "        else:\n",
    "            typ = 'FRS'\n",
    "            num = \"3.\" + num\n",
    "        cancel = dash1 == dash2 and dash1 != \"\"\n",
    "        return self._REQ_RESULT, typ, num, text, cancel"
   ]
  },
  {
   "cell_type": "code",
   "execution_count": 110,
   "metadata": {},
   "outputs": [],
   "source": [
    "rtags = [\n",
    "    \"URS\",\n",
    "    \"FRS\",\n",
    "    \"SWDS\",\n",
    "    \"CS\",\n",
    "    \"BUG\"\n",
    "]\n",
    "\n",
    "ttags = [\n",
    "    \"USR\"\n",
    "]\n",
    "\n",
    "_ignore = {3194, 3287}\n",
    "_sprints = {\n",
    "    'Legacy',\n",
    "    '3.0',\n",
    "    '3.0.1',\n",
    "    '3.0.2',\n",
    "    '3.0.3',\n",
    "    '3.0.4',\n",
    "    '3.0.5',\n",
    "    '3.0.6',\n",
    "    '3.0.7'\n",
    "}\n",
    "\n",
    "def relevant(i):\n",
    "    return i.sprint_milestone.name in _sprints and i.id not in _ignore and i.status != \"Rejected\"\n",
    "\n",
    "def relevent38(i):\n",
    "    return i.sprint_milestone.name == \"3.0.8\" and i.id not in _ignore and i.status != \"Rejected\""
   ]
  },
  {
   "cell_type": "code",
   "execution_count": 126,
   "metadata": {
    "scrolled": false
   },
   "outputs": [],
   "source": [
    "iie = importlib.reload(iie)\n",
    "utp = importlib.reload(utp)\n",
    "UserTestsParser = utp.UserTestsParser\n",
    "RequirementExtracter = iie.RequirementExtracter\n",
    "\n",
    "force = True\n",
    "force = False\n",
    "issues = load_issues()\n",
    "issues2 = list(filter(relevant, issues.values()))\n",
    "\n",
    "parser = iie.IssuetrackerParser(rtags)\n",
    "reqs = parser.parse_all(issues2)\n",
    "\n",
    "parser2 = UserTestsParser()\n",
    "tests = parser2.parse_excel(\"C:\\\\Users\\\\Nathan\\\\Documents\\\\Dropbox\\\\FRS\\\\FRS Tests 190226.xlsx\")\n",
    "\n",
    "parser3 = WebFRSIssuetrackerParser(rtags)\n",
    "reqs2 = parser3.parse_all(issues2)\n",
    "\n",
    "allitems = reqs + tests + reqs2\n",
    "\n",
    "def missing_parents(req, ref, reqs):\n",
    "    if req.type == \"TEST\":\n",
    "        return 'ignore'\n",
    "    else:\n",
    "        return 'fix'\n",
    "\n",
    "rex = RequirementExtracter(rtags, ttags)\n",
    "rex.config.missing_parents = missing_parents\n",
    "rows = rex.extract(allitems)"
   ]
  },
  {
   "cell_type": "code",
   "execution_count": 127,
   "metadata": {},
   "outputs": [],
   "source": [
    "from officelib.xllib import *\n",
    "class JamesExcelFileRequirementsParser():\n",
    "    def __init__(self, rtags):\n",
    "        self.rtags = rtags\n",
    "    \n",
    "    def extract(self, fp, sprint=\"3.0.8\", close=False):\n",
    "        xl = Excel()\n",
    "        with screen_lock(xl):\n",
    "            wb = xl.Workbooks.Open(fp)\n",
    "            ws = wb.Worksheets(\"specs list\")\n",
    "            ws2 = wb.Worksheets(\"issues\")\n",
    "            issues = self._parse_sprints(ws2, sprint)\n",
    "            reqs = self._extract(ws, issues)\n",
    "            if close:\n",
    "                wb.Close(False)\n",
    "        return reqs\n",
    "    \n",
    "    def _parse_sprints(self, ws, sprint):\n",
    "        cells = ws.Cells\n",
    "        cr = cells.Range\n",
    "        c1 = cr(\"A2\")\n",
    "        c2 = c1.End(xlc.xlDown).End(xlc.xlToRight)\n",
    "        allsprints = cr(c1, c2).Value2\n",
    "        irel = set()\n",
    "        for iss, isprint, text, priority in allsprints:\n",
    "            if isprint == sprint:\n",
    "                irel.add(iss)\n",
    "        return irel\n",
    "    \n",
    "    def _extract(self, ws, issues):\n",
    "        cells = ws.Cells\n",
    "        cr = cells.Range\n",
    "        c1 = cr(\"A1\")\n",
    "        er = c1.End(xlc.xlDown).Row\n",
    "        c2 = c1.End(xlc.xlToRight).GetOffset(er - c1.Row, 0)\n",
    "        data = cr(c1.GetOffset(1, 0), c2).Value2\n",
    "        return self._get_data(data, issues)\n",
    "    \n",
    "    def _get_data(self, data, issues):\n",
    "        out = []\n",
    "        for iss, num, text, refs, uprefs, iss2 in data:\n",
    "            if iss not in issues:\n",
    "                continue\n",
    "            if num.startswith(\"<\"):\n",
    "                continue\n",
    "            refs = [s.strip() for s in (refs or \"\").replace(\",\", \"\").split()]\n",
    "            if num.startswith(\"FRS\") or num.startswith(\"URS\"):\n",
    "                typ = num[:3]\n",
    "                num = num[3:]\n",
    "            else:\n",
    "                typ = \"FRS\"\n",
    "            ref = iie.Reference(typ, num, False, refs)\n",
    "            out.append(ref)\n",
    "        return out"
   ]
  },
  {
   "cell_type": "code",
   "execution_count": 338,
   "metadata": {},
   "outputs": [],
   "source": [
    "issues = load_issues()\n",
    "issues3 = list(filter(relevent38, issues.values()))\n",
    "newitems = parser.parse_all(issues3)\n",
    "newitems2 = JamesExcelFileRequirementsParser(rtags).extract(\"C:\\\\Users\\\\Nathan\\\\Documents\\\\Personal\\\\test\\\\NewPumpFeatures.xlsx\")\n",
    "newitems.extend(newitems2)"
   ]
  },
  {
   "cell_type": "code",
   "execution_count": 263,
   "metadata": {},
   "outputs": [],
   "source": [
    "import networkx as nx\n",
    "\n",
    "import itertools\n",
    "\n",
    "def impacted_nodes(G, node):\n",
    "    a = nx.shortest_path_length(G, target=node)\n",
    "    d = nx.shortest_path_length(G, source=node)\n",
    "    return {n for n in itertools.chain(a, d)}\n",
    "\n",
    "def impact_graph(G, node):\n",
    "    r = impacted_nodes(G, node)\n",
    "    return G.subgraph(r)\n",
    "\n",
    "def items_to_graph(items, reqs):\n",
    "    G = nx.DiGraph()\n",
    "    for req in items:\n",
    "        if not req.obs:\n",
    "            for ref in req.refs:\n",
    "                if ref in reqs:\n",
    "                    G.add_edge(ref, req.tag)\n",
    "    return G\n",
    "\n",
    "def dictify(items):\n",
    "    out = {}\n",
    "    for i in items:\n",
    "        if not i.obs:\n",
    "            if i.tag in out:\n",
    "                print(\"Warning: duplicate for tag: %s\"%i.tag)\n",
    "            out[i.tag] = i\n",
    "    return out\n",
    "\n",
    "def add_implicit_local_refs(items):\n",
    "    for req in items:\n",
    "        hpref = req.tag.rsplit(\".\", 1)[0]\n",
    "        if hpref != req.tag:\n",
    "            req.refs.add(hpref)\n",
    "            \n",
    "def make_impact_graph(G, node, file):\n",
    "    SG = impact_graph(G, node)\n",
    "    nx.write_graphml(G, file)"
   ]
  },
  {
   "cell_type": "code",
   "execution_count": 141,
   "metadata": {},
   "outputs": [],
   "source": [
    "FRS = importlib.reload(FRS)\n",
    "_imkey = re.compile(r\"(%s)(\\d+)\\.?([\\d\\.]*)\" % \"|\".join(['URS', 'FRS', 'SDS'])).match\n",
    "\n",
    "def key_match(key):\n",
    "    m = _imkey(key)\n",
    "    if m:\n",
    "        type, first, others = m.groups()\n",
    "        return type+first, others\n",
    "    return key, \"\"\n",
    "\n",
    "def root_for_type(items, typ):\n",
    "    root = FRS.Root(key_match)\n",
    "    for req in items:\n",
    "        if req.type == typ and not req.obs:\n",
    "            root.add(req.tag, 0)\n",
    "    return root"
   ]
  },
  {
   "cell_type": "code",
   "execution_count": 84,
   "metadata": {},
   "outputs": [
    {
     "name": "stdout",
     "output_type": "stream",
     "text": [
      "URS3652.7 {'URS3652'}\n"
     ]
    }
   ],
   "source": [
    "add_implicit_local_refs(allitems)\n",
    "add_implicit_local_refs(newitems)\n",
    "urs = root_for_type(allitems, \"URS\")\n",
    "G = items_to_graph(allitems)\n",
    "reqs = dictify(allitems)\n",
    "\n",
    "with open(\"test.nnf\", 'w') as f:\n",
    "    for u in urs.iter():\n",
    "        if u.is_leaf():\n",
    "            desc = nx.shortest_path_length(G, source=u.id)\n",
    "            G2 = condensed_graph(desc, reqs)\n",
    "            f.write(\"topN SWDev xx Req:%s\\n\"%(u.id))\n",
    "            for a,b in G2.edges():\n",
    "                f.write(\"Req:%s %s xx %s\\n\"%(u.id, a, b))\n",
    "            "
   ]
  },
  {
   "cell_type": "code",
   "execution_count": 146,
   "metadata": {},
   "outputs": [],
   "source": [
    "add_implicit_local_refs(allitems)\n",
    "G = items_to_graph(allitems)\n",
    "reqs = dictify(allitems)\n",
    "\n",
    "def condensed_graph(impacted, reqs):\n",
    "\n",
    "    # Impacted is a set of all nodes impacted, but has no edge data\n",
    "    # Edge data is contained in G\n",
    "\n",
    "    G2 = nx.DiGraph()\n",
    "\n",
    "    # \"fold\" references into horizontal hierarchy whereever \n",
    "    # a parent of the same requirement type has the same URS as \n",
    "    # its children\n",
    "\n",
    "    for node in impacted:\n",
    "        req = reqs.get(node)\n",
    "        if req is None:\n",
    "            print(\"Warning! Skipping non-existent node %s\"%node)\n",
    "            continue\n",
    "        hiparent = req.tag.rsplit(\".\", 1)[0]\n",
    "        if hiparent == req.tag or hiparent not in impacted:\n",
    "            # no parents to this req. just add refs\n",
    "            for ref in req.refs:\n",
    "                if ref not in impacted:\n",
    "                    continue\n",
    "                G2.add_edge(ref, req.tag)\n",
    "        else:\n",
    "            # maybe has refs to fold\n",
    "            parent = reqs[hiparent]\n",
    "            for ref in req.refs:\n",
    "                if ref not in impacted:\n",
    "                    continue\n",
    "                if ref in parent.refs:\n",
    "                    G2.add_edge(parent.tag, req.tag)\n",
    "                else:\n",
    "                    G2.add_edge(ref, req.tag)\n",
    "    return G2\n",
    "\n",
    "def condensed_impact_graph(G, epicenter, reqs):\n",
    "    impacted = impacted_nodes(G, epicenter)\n",
    "    # use a different color for epicenter\n",
    "    G.add_node(epicenter, color=\"yellow\")\n",
    "    return condensed_graph(impacted, reqs)\n",
    "    \n",
    "# G2 = condensed_impact_graph(G, \"FRS4401.2.3\")\n",
    "# nx.write_graphml(G2, \"test.xml\")"
   ]
  },
  {
   "cell_type": "code",
   "execution_count": 143,
   "metadata": {},
   "outputs": [],
   "source": [
    "def condensed_implement_graph(G, node, reqs):\n",
    "    d = nx.shortest_path_length(G, source=node)\n",
    "    return condensed_graph(d, reqs)"
   ]
  },
  {
   "cell_type": "code",
   "execution_count": 144,
   "metadata": {},
   "outputs": [],
   "source": [
    "def combined_implement_graph(G, nodes, reqs):\n",
    "    d = set()\n",
    "    for n in nodes:\n",
    "        try:\n",
    "            nrefs = impacted_nodes(G, n)\n",
    "        except nx.NodeNotFound:\n",
    "            pass\n",
    "        else:\n",
    "            d.update(nrefs)\n",
    "    return condensed_graph(d, reqs)"
   ]
  },
  {
   "cell_type": "code",
   "execution_count": 45,
   "metadata": {},
   "outputs": [],
   "source": [
    "target = \"URS4370.6.2\"\n",
    "G2 = condensed_implement_graph(G, target, reqs)\n",
    "nx.write_graphml(G2, \"test.xml\")\n",
    "with open(\"colors.csv\", 'w') as f:\n",
    "    for node in G2.nodes():\n",
    "        if node == target:\n",
    "            color = \"yellow\"\n",
    "        else:\n",
    "            color=\"blue\"\n",
    "        f.write(\"%s,%s\\n\"%(node, color))"
   ]
  },
  {
   "cell_type": "code",
   "execution_count": 334,
   "metadata": {},
   "outputs": [],
   "source": [
    "def copysubgraph(G, nodes):\n",
    "    G2 = nx.DiGraph()\n",
    "    G2.add_nodes_from(nodes)\n",
    "    for s,t in G.edges():\n",
    "        if s in G2 and t in G2:\n",
    "            G2.add_edge(s,t)\n",
    "    return G2\n",
    "\n",
    "def combined_implement_graph3(G, new):\n",
    "    d = set()\n",
    "    for n in new:\n",
    "        try:\n",
    "            nrefs = impacted_nodes(G, n)\n",
    "        except nx.NodeNotFound:\n",
    "            pass\n",
    "        else:\n",
    "            d.update(nrefs)\n",
    "    return combined_implement_graph2(G, d)\n",
    "\n",
    "def combined_implement_graph2(G, new):\n",
    "    #G2 = copysubgraph(G, new)\n",
    "    return condensed_graph2(G2)\n",
    "    \n",
    "def condensed_graph2(G):\n",
    "    return nx.algorithms.dag.transitive_reduction(G)\n",
    "    \n",
    "    "
   ]
  },
  {
   "cell_type": "code",
   "execution_count": 200,
   "metadata": {},
   "outputs": [],
   "source": [
    "import py2cytoscape\n",
    "from py2cytoscape.data.cyrest_client import CyRestClient\n",
    "\n",
    "cy = CyRestClient()"
   ]
  },
  {
   "cell_type": "code",
   "execution_count": 377,
   "metadata": {
    "scrolled": true
   },
   "outputs": [
    {
     "name": "stdout",
     "output_type": "stream",
     "text": [
      "Warning: duplicate for tag: FRS3664.8.1\n",
      "running big long operation...\n",
      "big long operation done\n"
     ]
    }
   ],
   "source": [
    "new = {n.tag for n in newitems}\n",
    "\n",
    "for a in allitems:\n",
    "    if a.tag in new:\n",
    "        a.obs = True\n",
    "\n",
    "apn = allitems + newitems\n",
    "add_implicit_local_refs(apn)\n",
    "reqs = dictify(apn)\n",
    "\n",
    "apn = [n for n in apn if n.type != \"TEST\"]\n",
    "\n",
    "G = items_to_graph(apn, reqs)\n",
    "\n",
    "print(\"running big long operation...\")\n",
    "#G2 = combined_implement_graph2(G, new, reqs)#\n",
    "#G2 = copysubgraph(G, new)\n",
    "\n",
    "G2 = combined_implement_graph3(G, new)\n",
    "G2 = condensed_graph2(G)\n",
    "\n",
    "print(\"big long operation done\")\n",
    "nx.write_graphml(G2, \"test.xml\")\n",
    "\n",
    "cy.session.delete()\n",
    "\n",
    "data = py2cytoscape.util.from_networkx(G2)\n",
    "for node in data['elements']['nodes']:\n",
    "    node = node['data']\n",
    "    req = reqs[node['id']]\n",
    "    node['type'] = req.type\n",
    "    node['group'] = req.num.split('.',1)[0]\n",
    "    node['new'] = str(node['id'] in new)\n",
    "    \n",
    "nw = cy.network.create(None, name=\"test\", collection=\"Test1\", data=data)\n",
    "cy.layout.apply(\"force-directed\", nw)"
   ]
  },
  {
   "cell_type": "code",
   "execution_count": 366,
   "metadata": {},
   "outputs": [
    {
     "name": "stdout",
     "output_type": "stream",
     "text": [
      "<p style=\"color:blue;margin-top:0px;margin-bottom:5px;\">Available commands for 'network':</p>\n",
      "<p style=\"color:black;margin-left:10px;margin-top:0px;margin-bottom:5px;\">  add</p>\n",
      "<p style=\"color:black;margin-left:10px;margin-top:0px;margin-bottom:5px;\">  add edge</p>\n",
      "<p style=\"color:black;margin-left:10px;margin-top:0px;margin-bottom:5px;\">  add node</p>\n",
      "<p style=\"color:black;margin-left:10px;margin-top:0px;margin-bottom:5px;\">  clone</p>\n",
      "<p style=\"color:black;margin-left:10px;margin-top:0px;margin-bottom:5px;\">  connect nodes</p>\n",
      "<p style=\"color:black;margin-left:10px;margin-top:0px;margin-bottom:5px;\">  create</p>\n",
      "<p style=\"color:black;margin-left:10px;margin-top:0px;margin-bottom:5px;\">  create attribute</p>\n",
      "<p style=\"color:black;margin-left:10px;margin-top:0px;margin-bottom:5px;\">  create empty</p>\n",
      "<p style=\"color:black;margin-left:10px;margin-top:0px;margin-bottom:5px;\">  delete</p>\n",
      "<p style=\"color:black;margin-left:10px;margin-top:0px;margin-bottom:5px;\">  deselect</p>\n",
      "<p style=\"color:black;margin-left:10px;margin-top:0px;margin-bottom:5px;\">  destroy</p>\n",
      "<p style=\"color:black;margin-left:10px;margin-top:0px;margin-bottom:5px;\">  export</p>\n",
      "<p style=\"color:black;margin-left:10px;margin-top:0px;margin-bottom:5px;\">  get</p>\n",
      "<p style=\"color:black;margin-left:10px;margin-top:0px;margin-bottom:5px;\">  get attribute</p>\n",
      "<p style=\"color:black;margin-left:10px;margin-top:0px;margin-bottom:5px;\">  get properties</p>\n",
      "<p style=\"color:black;margin-left:10px;margin-top:0px;margin-bottom:5px;\">  hide</p>\n",
      "<p style=\"color:black;margin-left:10px;margin-top:0px;margin-bottom:5px;\">  import file</p>\n",
      "<p style=\"color:black;margin-left:10px;margin-top:0px;margin-bottom:5px;\">  import url</p>\n",
      "<p style=\"color:black;margin-left:10px;margin-top:0px;margin-bottom:5px;\">  list</p>\n",
      "<p style=\"color:black;margin-left:10px;margin-top:0px;margin-bottom:5px;\">  list attributes</p>\n",
      "<p style=\"color:black;margin-left:10px;margin-top:0px;margin-bottom:5px;\">  list properties</p>\n",
      "<p style=\"color:black;margin-left:10px;margin-top:0px;margin-bottom:5px;\">  load file</p>\n",
      "<p style=\"color:black;margin-left:10px;margin-top:0px;margin-bottom:5px;\">  load url</p>\n",
      "<p style=\"color:black;margin-left:10px;margin-top:0px;margin-bottom:5px;\">  rename</p>\n",
      "<p style=\"color:black;margin-left:10px;margin-top:0px;margin-bottom:5px;\">  select</p>\n",
      "<p style=\"color:black;margin-left:10px;margin-top:0px;margin-bottom:5px;\">  set attribute</p>\n",
      "<p style=\"color:black;margin-left:10px;margin-top:0px;margin-bottom:5px;\">  set current</p>\n",
      "<p style=\"color:black;margin-left:10px;margin-top:0px;margin-bottom:5px;\">  set properties</p>\n",
      "<p style=\"color:black;margin-left:10px;margin-top:0px;margin-bottom:5px;\">  show</p>\n",
      "\n"
     ]
    }
   ],
   "source": [
    "print(requests.get(\"http://localhost:1234/v1/commands/network\").content.decode())"
   ]
  },
  {
   "cell_type": "code",
   "execution_count": 370,
   "metadata": {},
   "outputs": [],
   "source": [
    "view = nw.get_view(nw.get_views()[0], format='view')"
   ]
  },
  {
   "cell_type": "code",
   "execution_count": 358,
   "metadata": {},
   "outputs": [
    {
     "data": {
      "text/plain": [
       "200"
      ]
     },
     "execution_count": 358,
     "metadata": {},
     "output_type": "execute_result"
    }
   ],
   "source": [
    "import requests\n",
    "rsp = requests.get(cy.layout._LayoutClient__url+\"/\"+'force-directed'+'/'+str(nw.get_id()) + '?'+\"column=feature\")\n",
    "rsp.status_code"
   ]
  },
  {
   "cell_type": "code",
   "execution_count": 374,
   "metadata": {
    "scrolled": true
   },
   "outputs": [],
   "source": [
    "import py2cytoscape.cytoscapejs as cyjs"
   ]
  },
  {
   "cell_type": "code",
   "execution_count": 376,
   "metadata": {},
   "outputs": [
    {
     "data": {
      "text/plain": [
       "{'Breadthfirst': 'breadthfirst',\n",
       " 'Circle': 'circle',\n",
       " 'Concentric': 'concentric',\n",
       " 'Grid': 'grid',\n",
       " 'Preset': 'preset',\n",
       " 'Spring': 'cose'}"
      ]
     },
     "execution_count": 376,
     "metadata": {},
     "output_type": "execute_result"
    }
   ],
   "source": [
    "requests.get(\"http://localhost:1234/v1/colle\")"
   ]
  },
  {
   "cell_type": "code",
   "execution_count": 331,
   "metadata": {},
   "outputs": [
    {
     "data": {
      "text/plain": [
       "{'FRS4400',\n",
       " 'FRS4400.1',\n",
       " 'FRS4400.1.2',\n",
       " 'FRS4400.1.2.2',\n",
       " 'URS3664',\n",
       " 'URS3664.3',\n",
       " 'URS4400',\n",
       " 'URS4400.1'}"
      ]
     },
     "execution_count": 331,
     "metadata": {},
     "output_type": "execute_result"
    }
   ],
   "source": [
    "impacted_nodes(G, \"FRS4400.1.2.2\")"
   ]
  },
  {
   "cell_type": "code",
   "execution_count": null,
   "metadata": {},
   "outputs": [],
   "source": []
  }
 ],
 "metadata": {
  "kernelspec": {
   "display_name": "Python 3",
   "language": "python",
   "name": "python3"
  },
  "language_info": {
   "codemirror_mode": {
    "name": "ipython",
    "version": 3
   },
   "file_extension": ".py",
   "mimetype": "text/x-python",
   "name": "python",
   "nbconvert_exporter": "python",
   "pygments_lexer": "ipython3",
   "version": "3.5.2"
  }
 },
 "nbformat": 4,
 "nbformat_minor": 2
}
