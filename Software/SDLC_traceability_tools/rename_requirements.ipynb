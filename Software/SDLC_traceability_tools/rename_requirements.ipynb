{
 "cells": [
  {
   "cell_type": "code",
   "execution_count": 1,
   "metadata": {},
   "outputs": [],
   "source": [
    "import os, re, sys\n",
    "from datetime import date\n",
    "import importlib\n",
    "import jpnotebooks.Software.SDLC_traceability_tools.issuetracker_item_extracter2 as iie\n",
    "import jpnotebooks.Software.SDLC_traceability_tools.user_tests_parser as utp\n",
    "import scripts.tools.redmine_cache as rmc\n",
    "from scripts.software_frs import frs_traceability2 as FRS\n",
    "\n",
    "def reload():\n",
    "    global iie, utp, rmc, UserTestsParser, RequirementExtracter\n",
    "    \n",
    "    iie = importlib.reload(iie)\n",
    "    utp = importlib.reload(utp)\n",
    "    rmc = importlib.reload(rmc)\n",
    "    UserTestsParser = utp.UserTestsParser\n",
    "    RequirementExtracter = iie.RequirementExtracter\n",
    "\n",
    "reload()"
   ]
  },
  {
   "cell_type": "code",
   "execution_count": 12,
   "metadata": {},
   "outputs": [],
   "source": [
    "_client = None\n",
    "def get_client():\n",
    "    global _client\n",
    "    _client = _client or rmc.RedmineClient()\n",
    "    return _client"
   ]
  },
  {
   "cell_type": "code",
   "execution_count": 33,
   "metadata": {},
   "outputs": [],
   "source": [
    "from officelib.xllib import *\n",
    "typnum = re.compile(r\"([a-zA-Z]+)([0-9\\.]+)\").match\n",
    "\n",
    "class XLRequirementsExtractor():\n",
    "    def __init__(self):\n",
    "        pass\n",
    "    \n",
    "    def extract(self, fp):\n",
    "        xl = Excel()\n",
    "        with screen_lock(xl):\n",
    "            wb = xl.Workbooks.Open(fp)\n",
    "            ws = wb.Worksheets(1)\n",
    "            return self._extract(xl, wb, ws)\n",
    "            \n",
    "    def _extract(self, xl, wb, ws):\n",
    "        cells = ws.Cells\n",
    "        cr = cells.Range\n",
    "        c1 = cr(\"A2\")\n",
    "        c2 = c1.End(xlc.xlDown).GetOffset(0, 4)\n",
    "        data = cr(c1, c2).Value2\n",
    "        out = []\n",
    "        for rid, text, refs, crit, milestone in data:\n",
    "            refs = refs.split()\n",
    "            typ, num = typnum(rid).groups()\n",
    "            ref = iie.Reference(typ, num, False, refs, text)\n",
    "            ref.priority = crit\n",
    "            ref.milestone = milestone\n",
    "            out.append(ref)\n",
    "        return out"
   ]
  },
  {
   "cell_type": "code",
   "execution_count": 34,
   "metadata": {},
   "outputs": [],
   "source": [
    "basefp = \"C:\\\\users\\\\nathan\\\\documents\\\\personal\\\\test\"\n",
    "ftp = \"%s 190329.xlsx\"\n",
    "files = [ftp % typ for typ in ('URS', 'FRS', 'SWDS', 'BUG')]\n",
    "x = XLRequirementsExtractor()\n",
    "reqs = {}\n",
    "for typ in ('URS', 'FRS', 'SWDS', 'BUG'):\n",
    "    f = ftp%typ\n",
    "    fp = os.path.join(basefp, f)\n",
    "    reqs[typ] = x.extract(fp)"
   ]
  },
  {
   "cell_type": "code",
   "execution_count": 9,
   "metadata": {},
   "outputs": [],
   "source": [
    "def newref(ref, map):\n",
    "    s = ref.num.split(\".\", 1)\n",
    "    if len(s) == 2:\n",
    "        cat, num = s\n",
    "        dash = \"-\"\n",
    "    else:\n",
    "        cat = s\n",
    "        num = \"\"\n",
    "        dash = \"\"\n",
    "    return \"%s-%s%s%s\" % (ref.type, map[cat], dash, num)"
   ]
  },
  {
   "cell_type": "code",
   "execution_count": null,
   "metadata": {},
   "outputs": [],
   "source": [
    "themap = {\n",
    "    '1583': 'SENS',\n",
    "    '2304': 'PERM',\n",
    "    '2375': 'GMP',\n",
    "    '3646': 'AG',\n",
    "    '3651': 'TEMP',\n",
    "    '3652': 'DO',\n",
    "    '3653': 'pH',\n",
    "    '3654': 'GAS',\n",
    "    #'3655': 'COND',\n",
    "    \n",
    "}"
   ]
  },
  {
   "cell_type": "code",
   "execution_count": 19,
   "metadata": {},
   "outputs": [
    {
     "name": "stdout",
     "output_type": "stream",
     "text": [
      "1583 Sensor Selection\n",
      "2304 Granular permissions\n",
      "2735 Web Server Encryption\n",
      "2890 Configuration File State Recorder\n",
      "3646 Agitation Control\n",
      "3651 Temperature\n",
      "3652 DO\n",
      "3653 pH\n",
      "3654 Main Gas\n",
      "3655 Filter Oven\n",
      "3657 Pressure\n",
      "3658 Level\n",
      "3664 Pumps\n",
      "3824 Recipes\n",
      "3882 Light\n",
      "3883 Power Options\n",
      "3884 Alarm emails if delayed\n",
      "3892 Calibration\n",
      "3909 Load Bag\n",
      "3910 Report Generation\n",
      "3911 Display historic data\n",
      "3912 Batch\n",
      "3913 Integrity Test\n",
      "3914 Harvest\n",
      "4089 Interlocks\n",
      "4090 Alarms\n",
      "4094 Data Logger\n",
      "4095 Reactor Name\n",
      "4096 Door Control\n",
      "4363 Record Retention and Protection\n",
      "4364 Automated Audit Trails\n",
      "4365 User Accounts and Security\n",
      "4366 PID Controller Requirements\n",
      "4370 Hello Interface\n",
      "4374 Desktop Interface\n",
      "4394 E-Stop Hardware Interlock\n",
      "4399 System Variables\n",
      "4400 Global Variables\n",
      "4401 Web Server\n",
      "4402 Embedded Controller Requirements\n",
      "4404 Other Requirements\n",
      "4407 Bioreactor Configuration Settings\n",
      "4409 SMTP Messaging\n",
      "4446 System Installers \n"
     ]
    }
   ],
   "source": [
    "unique = set()\n",
    "for v in reqs['URS']:\n",
    "#     for r in v:\n",
    "        unique.add(v.num.split(\".\",1)[0])\n",
    "\n",
    "issues = get_client().get_all()\n",
    "for u in sorted(unique):\n",
    "    print(u, issues[int(u)].subject)"
   ]
  },
  {
   "cell_type": "code",
   "execution_count": 35,
   "metadata": {},
   "outputs": [],
   "source": [
    "sample = [r for r in reqs['URS'] if r.num.split(\".\",1)[0] == '3654']"
   ]
  },
  {
   "cell_type": "code",
   "execution_count": 36,
   "metadata": {},
   "outputs": [],
   "source": [
    "def q\n",
    "with open(\"innoslate_import_test.csv\", 'w') as f:\n",
    "    f.write(\"Number,Name,Description,References,Milestone\\n\")\n",
    "    for i, r in enumerate(sample, 1):\n",
    "        num = r.tag\n",
    "        name = \"name %d\"%i\n",
    "        desc = r.text\n",
    "        refs = \";\".join(r.refs)\n",
    "        milestone = r.milestone\n",
    "        f.write(\"%s,%s,%s,%s,%s\\n\"%(num, name, desc, refs, milestone))\n",
    "    "
   ]
  },
  {
   "cell_type": "code",
   "execution_count": 37,
   "metadata": {},
   "outputs": [
    {
     "data": {
      "text/plain": [
       "''"
      ]
     },
     "execution_count": 37,
     "metadata": {},
     "output_type": "execute_result"
    }
   ],
   "source": [
    "refs"
   ]
  },
  {
   "cell_type": "code",
   "execution_count": 38,
   "metadata": {},
   "outputs": [
    {
     "name": "stdout",
     "output_type": "stream",
     "text": [
      "Gas Flow Control\n",
      "Common\n",
      "If the flow rate for an individual gas is below the minimum output, the system will \"pulse\" the flow of that gas such that proper average output is achieved.\n",
      "Initial O2 output will be throttled until the system can detect or reasonably assume that the gas line has been purged of liquid.\n",
      "If the requested percentages of individual gases is less than 100%, the system will fill the remainder of the gas mixture with Air.\n",
      "If the requested percentages of individual gases exceeds 100% the system will fully satisfy requests in the following order, until 100% of flow rate is achieved: CO2, O2, N2, Air. Unfulfilled requests will be silently discarded. Gases in this list will be treated as 0% request if they are not included in main gas flow. Air will be treated as though there is always a request for 100% air.\n",
      "The system will generate an alarm if actual flow rates for any individual gas differ from the requested flow rate.\n",
      "MagDrive\n",
      "Users will be able to manually set main gas flow rate or turn gas flow off.\n",
      "Main Gas flow will output a mixture of Air, O2, CO2, and N2 gas.\n",
      "AirDrive\n",
      "Main Gas flow rate will be determined by the Agitation Controller.\n",
      "Main Gas flow will output a mixture of Air, CO2, and N2 gas.\n",
      "Micro gas flow will output oxygen gas as a flow rate separate from main gas.\n"
     ]
    }
   ],
   "source": [
    "for s in sample:\n",
    "    print(s.text)"
   ]
  },
  {
   "cell_type": "code",
   "execution_count": null,
   "metadata": {},
   "outputs": [],
   "source": []
  }
 ],
 "metadata": {
  "kernelspec": {
   "display_name": "Python 3",
   "language": "python",
   "name": "python3"
  },
  "language_info": {
   "codemirror_mode": {
    "name": "ipython",
    "version": 3
   },
   "file_extension": ".py",
   "mimetype": "text/x-python",
   "name": "python",
   "nbconvert_exporter": "python",
   "pygments_lexer": "ipython3",
   "version": "3.5.2"
  }
 },
 "nbformat": 4,
 "nbformat_minor": 2
}
