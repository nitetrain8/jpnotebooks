{
 "cells": [
  {
   "cell_type": "code",
   "execution_count": 1,
   "metadata": {},
   "outputs": [],
   "source": [
    "import os, re, sys\n",
    "from scripts.tools.issuetracker import IssuetrackerAPI\n",
    "from datetime import date\n",
    "from officelib.xllib import *\n",
    "from jpnotebooks.Software.SDLC_traceability_tools.issuetracker_item_extracter import RequirementExtracter"
   ]
  },
  {
   "cell_type": "code",
   "execution_count": 9,
   "metadata": {},
   "outputs": [],
   "source": [
    "_cache = None\n",
    "_api = None\n",
    "_sync_date = None\n",
    "def _download(**kw):\n",
    "    global _cache, _api, _sync_date\n",
    "    if _api is None:\n",
    "        _api = IssuetrackerAPI('issue.pbsbiotech.com', 'nstarkweather', 'kookychemist')\n",
    "    _cache = _api.download_issues(project_id=\"pbssoftware\", **kw)\n",
    "    _sync_date = date.today()\n",
    "    \n",
    "def download(force=False, **kw):\n",
    "    global _cache, _sync_date\n",
    "    reason = None\n",
    "    if _cache is None:\n",
    "        reason = \"cache is None\"\n",
    "    elif force:\n",
    "        reason = \"forced re-cache\"\n",
    "    elif _sync_date is None:\n",
    "        reason = \"can't determine last sync time\"\n",
    "    elif date.today() != _sync_date:\n",
    "        reason = \"cache age > 0 days\"\n",
    "    if reason:\n",
    "        print(\"Downloading issues:\", reason)\n",
    "        _download(**kw)\n",
    "    return _cache.copy()\n",
    "\n",
    "def load_issues(**kw):\n",
    "    return download(**kw)"
   ]
  },
  {
   "cell_type": "code",
   "execution_count": 13,
   "metadata": {},
   "outputs": [],
   "source": [
    "tags = [\n",
    "    \"URS\",\n",
    "    \"FRS\",\n",
    "    \"SDS\",\n",
    "]\n",
    "issues = load_issues()\n",
    "#issues = list(issues.values())\n",
    "rows = RequirementExtracter(tags).extract_text(issues[3646].description)"
   ]
  },
  {
   "cell_type": "code",
   "execution_count": 14,
   "metadata": {},
   "outputs": [],
   "source": [
    "def paste(cr, c1, data):\n",
    "    c2 = c1.Offset(len(data), len(data[0]))\n",
    "    cr(c1, c2).Value = data"
   ]
  },
  {
   "cell_type": "code",
   "execution_count": 15,
   "metadata": {},
   "outputs": [],
   "source": [
    "xl, wb = xlBook2()\n",
    "ws = wb.Worksheets(1)\n",
    "cells = ws.Cells\n",
    "cr = cells.Range\n",
    "paste(cr, cells(1,1), rows)"
   ]
  },
  {
   "cell_type": "code",
   "execution_count": null,
   "metadata": {},
   "outputs": [],
   "source": []
  }
 ],
 "metadata": {
  "kernelspec": {
   "display_name": "Python 3",
   "language": "python",
   "name": "python3"
  },
  "language_info": {
   "codemirror_mode": {
    "name": "ipython",
    "version": 3
   },
   "file_extension": ".py",
   "mimetype": "text/x-python",
   "name": "python",
   "nbconvert_exporter": "python",
   "pygments_lexer": "ipython3",
   "version": "3.5.2"
  }
 },
 "nbformat": 4,
 "nbformat_minor": 2
}
