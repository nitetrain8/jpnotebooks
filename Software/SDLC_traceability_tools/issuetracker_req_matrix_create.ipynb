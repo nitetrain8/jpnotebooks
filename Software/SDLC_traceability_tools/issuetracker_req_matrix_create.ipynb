{
 "cells": [
  {
   "cell_type": "code",
   "execution_count": 10,
   "metadata": {},
   "outputs": [],
   "source": [
    "import os, re, sys\n",
    "from scripts.tools.issuetracker import IssuetrackerAPI\n",
    "from datetime import date\n",
    "from officelib.xllib import *\n",
    "import importlib\n",
    "try:\n",
    "    importlib.reload(jpnotebooks.Software.SDLC_traceability_tools.issuetracker_item_extracter)\n",
    "except NameError:\n",
    "    pass\n",
    "import jpnotebooks.Software.SDLC_traceability_tools.issuetracker_item_extracter as iie\n",
    "from jpnotebooks.Software.SDLC_traceability_tools.user_tests_parser import UserTestsParser\n",
    "RequirementExtracter = iie.RequirementExtracter"
   ]
  },
  {
   "cell_type": "code",
   "execution_count": 3,
   "metadata": {},
   "outputs": [],
   "source": [
    "_cache = None\n",
    "_api = None\n",
    "_sync_date = None\n",
    "def _download(**kw):\n",
    "    global _cache, _api, _sync_date\n",
    "    if _api is None:\n",
    "        _api = IssuetrackerAPI('issue.pbsbiotech.com', 'nstarkweather', 'kookychemist')\n",
    "    _cache = _api.download_issues(project_id=\"pbssoftware\", **kw)\n",
    "    _sync_date = date.today()\n",
    "    \n",
    "def download(force=False, **kw):\n",
    "    global _cache, _sync_date\n",
    "    reason = None\n",
    "    if _cache is None:\n",
    "        reason = \"cache is None\"\n",
    "    elif force:\n",
    "        reason = \"forced re-cache\"\n",
    "    elif _sync_date is None:\n",
    "        reason = \"can't determine last sync time\"\n",
    "    elif date.today() != _sync_date:\n",
    "        reason = \"cache age > 0 days\"\n",
    "    if reason:\n",
    "        print(\"Downloading issues:\", reason)\n",
    "        _download(**kw)\n",
    "    return _cache.copy()\n",
    "\n",
    "def load_issues(**kw):\n",
    "    return download(**kw)"
   ]
  },
  {
   "cell_type": "code",
   "execution_count": 17,
   "metadata": {},
   "outputs": [
    {
     "ename": "ValueError",
     "evalue": "Can't find item 'FRS3664.4.3' referenced by 'USR2521'",
     "output_type": "error",
     "traceback": [
      "\u001b[1;31m---------------------------------------------------------------------------\u001b[0m",
      "\u001b[1;31mValueError\u001b[0m                                Traceback (most recent call last)",
      "\u001b[1;32m<ipython-input-17-f4b1f09de6b7>\u001b[0m in \u001b[0;36m<module>\u001b[1;34m()\u001b[0m\n\u001b[0;32m     22\u001b[0m \u001b[0mparser2\u001b[0m \u001b[1;33m=\u001b[0m \u001b[0mUserTestsParser\u001b[0m\u001b[1;33m(\u001b[0m\u001b[1;33m)\u001b[0m\u001b[1;33m\u001b[0m\u001b[0m\n\u001b[0;32m     23\u001b[0m \u001b[0mtests\u001b[0m \u001b[1;33m=\u001b[0m \u001b[0mparser2\u001b[0m\u001b[1;33m.\u001b[0m\u001b[0mparse_excel\u001b[0m\u001b[1;33m(\u001b[0m\u001b[1;34m\"C:\\\\Users\\\\Nathan\\\\Documents\\\\Dropbox\\\\FRS\\\\FRS Tests 190225.xlsx\"\u001b[0m\u001b[1;33m)\u001b[0m\u001b[1;33m\u001b[0m\u001b[0m\n\u001b[1;32m---> 24\u001b[1;33m \u001b[0mrows\u001b[0m \u001b[1;33m=\u001b[0m \u001b[0mRequirementExtracter\u001b[0m\u001b[1;33m(\u001b[0m\u001b[0mrtags\u001b[0m\u001b[1;33m,\u001b[0m \u001b[0mttags\u001b[0m\u001b[1;33m)\u001b[0m\u001b[1;33m.\u001b[0m\u001b[0mextract\u001b[0m\u001b[1;33m(\u001b[0m\u001b[0mreqs\u001b[0m \u001b[1;33m+\u001b[0m \u001b[0mtests\u001b[0m\u001b[1;33m)\u001b[0m\u001b[1;33m\u001b[0m\u001b[0m\n\u001b[0m",
      "\u001b[1;32m~\\Documents\\Dropbox\\Python\\jpnotebooks\\Software\\SDLC_traceability_tools\\issuetracker_item_extracter.py\u001b[0m in \u001b[0;36mextract\u001b[1;34m(self, lreqs)\u001b[0m\n\u001b[0;32m    570\u001b[0m         \u001b[0mr\u001b[0m\u001b[1;33m,\u001b[0m \u001b[0mp\u001b[0m\u001b[1;33m,\u001b[0m \u001b[0mc\u001b[0m \u001b[1;33m=\u001b[0m \u001b[0mself\u001b[0m\u001b[1;33m.\u001b[0m\u001b[0m_create_empties\u001b[0m\u001b[1;33m(\u001b[0m\u001b[1;33m)\u001b[0m\u001b[1;33m\u001b[0m\u001b[0m\n\u001b[0;32m    571\u001b[0m         \u001b[0mreqs\u001b[0m\u001b[1;33m.\u001b[0m\u001b[0mupdate\u001b[0m\u001b[1;33m(\u001b[0m\u001b[0mr\u001b[0m\u001b[1;33m)\u001b[0m\u001b[1;33m\u001b[0m\u001b[0m\n\u001b[1;32m--> 572\u001b[1;33m         \u001b[1;32mreturn\u001b[0m \u001b[0mself\u001b[0m\u001b[1;33m.\u001b[0m\u001b[0m_extract_finish\u001b[0m\u001b[1;33m(\u001b[0m\u001b[0mreqs\u001b[0m\u001b[1;33m,\u001b[0m \u001b[0mp\u001b[0m\u001b[1;33m,\u001b[0m \u001b[0mc\u001b[0m\u001b[1;33m)\u001b[0m\u001b[1;33m\u001b[0m\u001b[0m\n\u001b[0m\u001b[0;32m    573\u001b[0m \u001b[1;33m\u001b[0m\u001b[0m\n\u001b[0;32m    574\u001b[0m \u001b[1;33m\u001b[0m\u001b[0m\n",
      "\u001b[1;32m~\\Documents\\Dropbox\\Python\\jpnotebooks\\Software\\SDLC_traceability_tools\\issuetracker_item_extracter.py\u001b[0m in \u001b[0;36m_extract_finish\u001b[1;34m(self, reqs, empty_parents, empty_children)\u001b[0m\n\u001b[0;32m    547\u001b[0m         \"\"\"\n\u001b[0;32m    548\u001b[0m         \u001b[0mself\u001b[0m\u001b[1;33m.\u001b[0m\u001b[0m_fixify_tests\u001b[0m\u001b[1;33m(\u001b[0m\u001b[0mreqs\u001b[0m\u001b[1;33m)\u001b[0m\u001b[1;33m\u001b[0m\u001b[0m\n\u001b[1;32m--> 549\u001b[1;33m         \u001b[0mself\u001b[0m\u001b[1;33m.\u001b[0m\u001b[0m_finish_set_parents\u001b[0m\u001b[1;33m(\u001b[0m\u001b[0mreqs\u001b[0m\u001b[1;33m,\u001b[0m \u001b[0mempty_parents\u001b[0m\u001b[1;33m)\u001b[0m\u001b[1;33m\u001b[0m\u001b[0m\n\u001b[0m\u001b[0;32m    550\u001b[0m         \u001b[0mself\u001b[0m\u001b[1;33m.\u001b[0m\u001b[0m_finish_set_empty_children\u001b[0m\u001b[1;33m(\u001b[0m\u001b[0mreqs\u001b[0m\u001b[1;33m,\u001b[0m \u001b[0mempty_children\u001b[0m\u001b[1;33m)\u001b[0m\u001b[1;33m\u001b[0m\u001b[0m\n\u001b[0;32m    551\u001b[0m         \u001b[0mlistified\u001b[0m \u001b[1;33m=\u001b[0m \u001b[0mself\u001b[0m\u001b[1;33m.\u001b[0m\u001b[0m_do_childify\u001b[0m\u001b[1;33m(\u001b[0m\u001b[0mreqs\u001b[0m\u001b[1;33m)\u001b[0m\u001b[1;33m\u001b[0m\u001b[0m\n",
      "\u001b[1;32m~\\Documents\\Dropbox\\Python\\jpnotebooks\\Software\\SDLC_traceability_tools\\issuetracker_item_extracter.py\u001b[0m in \u001b[0;36m_finish_set_parents\u001b[1;34m(self, reqs, empty_parents)\u001b[0m\n\u001b[0;32m    434\u001b[0m                 \u001b[0mparent\u001b[0m \u001b[1;33m=\u001b[0m \u001b[0mreqs\u001b[0m\u001b[1;33m.\u001b[0m\u001b[0mget\u001b[0m\u001b[1;33m(\u001b[0m\u001b[0mref\u001b[0m\u001b[1;33m)\u001b[0m\u001b[1;33m\u001b[0m\u001b[0m\n\u001b[0;32m    435\u001b[0m                 \u001b[1;32mif\u001b[0m \u001b[0mparent\u001b[0m \u001b[1;32mis\u001b[0m \u001b[1;32mNone\u001b[0m\u001b[1;33m:\u001b[0m\u001b[1;33m\u001b[0m\u001b[0m\n\u001b[1;32m--> 436\u001b[1;33m                     \u001b[1;32mraise\u001b[0m \u001b[0mValueError\u001b[0m\u001b[1;33m(\u001b[0m\u001b[1;34m\"Can't find item '%s' referenced by '%s'\"\u001b[0m\u001b[1;33m%\u001b[0m\u001b[1;33m(\u001b[0m\u001b[0mref\u001b[0m\u001b[1;33m,\u001b[0m \u001b[0mreq\u001b[0m\u001b[1;33m.\u001b[0m\u001b[0mtag\u001b[0m\u001b[1;33m)\u001b[0m\u001b[1;33m)\u001b[0m\u001b[1;33m\u001b[0m\u001b[0m\n\u001b[0m\u001b[0;32m    437\u001b[0m \u001b[1;33m\u001b[0m\u001b[0m\n\u001b[0;32m    438\u001b[0m                 \u001b[1;31m# This is some fancy code that adds blank intermediates\u001b[0m\u001b[1;33m\u001b[0m\u001b[1;33m\u001b[0m\u001b[0m\n",
      "\u001b[1;31mValueError\u001b[0m: Can't find item 'FRS3664.4.3' referenced by 'USR2521'"
     ]
    }
   ],
   "source": [
    "rtags = [\n",
    "    \"URS\",\n",
    "    \"FRS\",\n",
    "    \"SDS\",\n",
    "    \"CS\",\n",
    "    \"BUG\"\n",
    "]\n",
    "\n",
    "ttags = [\n",
    "    \"USR\"\n",
    "]\n",
    "\n",
    "_ignore = {3194, 3287}\n",
    "def relevant(i):\n",
    "    return (i.sprint_milestone == \"Legacy\" or i.sprint_milestone == '3.0') and i.id not in _ignore and i.status != \"Rejected\"\n",
    "\n",
    "\n",
    "issues = load_issues()\n",
    "issues = list(filter(relevant, issues.values()))\n",
    "parser = iie.IssuetrackerParser(tags)\n",
    "reqs = parser.parse_all(issues)\n",
    "parser2 = UserTestsParser()\n",
    "tests = parser2.parse_excel(\"C:\\\\Users\\\\Nathan\\\\Documents\\\\Dropbox\\\\FRS\\\\FRS Tests 190225.xlsx\")\n",
    "rows = RequirementExtracter(rtags, ttags).extract(reqs + tests)"
   ]
  },
  {
   "cell_type": "code",
   "execution_count": 13,
   "metadata": {},
   "outputs": [],
   "source": [
    "def paste(cr, c1, data):\n",
    "    c2 = c1.Offset(len(data), len(data[0]))\n",
    "    cr(c1, c2).Value = data"
   ]
  },
  {
   "cell_type": "code",
   "execution_count": 14,
   "metadata": {},
   "outputs": [],
   "source": [
    "xl, wb = xlBook2()\n",
    "ws = wb.Worksheets(1)\n",
    "cells = ws.Cells\n",
    "cr = cells.Range\n",
    "paste(cr, cells(1,1), rows)"
   ]
  },
  {
   "cell_type": "code",
   "execution_count": null,
   "metadata": {},
   "outputs": [],
   "source": []
  }
 ],
 "metadata": {
  "kernelspec": {
   "display_name": "Python 3",
   "language": "python",
   "name": "python3"
  },
  "language_info": {
   "codemirror_mode": {
    "name": "ipython",
    "version": 3
   },
   "file_extension": ".py",
   "mimetype": "text/x-python",
   "name": "python",
   "nbconvert_exporter": "python",
   "pygments_lexer": "ipython3",
   "version": "3.5.2"
  }
 },
 "nbformat": 4,
 "nbformat_minor": 2
}
