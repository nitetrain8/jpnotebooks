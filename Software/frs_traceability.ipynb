{
 "cells": [
  {
   "cell_type": "code",
   "execution_count": 221,
   "metadata": {
    "collapsed": false
   },
   "outputs": [],
   "source": [
    "from officelib.xllib import *\n",
    "from officelib.const import xlconst as xlc\n",
    "from pywintypes import com_error\n",
    "from scripts.tools.issuetracker import IssuetrackerAPI"
   ]
  },
  {
   "cell_type": "code",
   "execution_count": 229,
   "metadata": {
    "collapsed": true
   },
   "outputs": [],
   "source": []
  },
  {
   "cell_type": "code",
   "execution_count": 232,
   "metadata": {
    "collapsed": false
   },
   "outputs": [
    {
     "name": "stdout",
     "output_type": "stream",
     "text": [
      "IS00038B1 Rev A 3.0 software project progress.xlsm Traceability Matrix (Reqs and VI) with full FRS check 161109.xlsx\n"
     ]
    }
   ],
   "source": [
    "xl = Excel(new=False)\n",
    "wb2 = xl.RecentFiles(1).Open()\n",
    "wb1 = xl.RecentFiles(3).Open()\n",
    "print(wb1.Name, wb2.Name)"
   ]
  },
  {
   "cell_type": "code",
   "execution_count": 12,
   "metadata": {
    "collapsed": false
   },
   "outputs": [
    {
     "name": "stdout",
     "output_type": "stream",
     "text": [
      "$A$2:$A$1229 $P$2:$P$1229\n"
     ]
    }
   ],
   "source": [
    "ws = wb2.ActiveSheet\n",
    "cells = ws.Cells\n",
    "cr = cells.Range\n",
    "id_start = cr(\"A2\")\n",
    "id_end = id_start.End(xlc.xlDown)\n",
    "frs_start = cr(\"P2\")\n",
    "frs_end = frs_start.Offset(id_end.Row - id_start.Row + 1, 1)\n",
    "print(cr(id_start, id_end).Address, cr(frs_start, frs_end).Address)\n"
   ]
  },
  {
   "cell_type": "code",
   "execution_count": 222,
   "metadata": {
    "collapsed": false
   },
   "outputs": [
    {
     "name": "stdout",
     "output_type": "stream",
     "text": [
      "Downloading projects...\n",
      "Downloading issues: 658/658      \n"
     ]
    }
   ],
   "source": [
    "api = IssuetrackerAPI('issue.pbsbiotech.com', 'nstarkweather', 'kookychemist')\n",
    "issues = api.download_issues(\"pbssoftware\")"
   ]
  },
  {
   "cell_type": "code",
   "execution_count": 223,
   "metadata": {
    "collapsed": false
   },
   "outputs": [],
   "source": [
    "relevant = []\n",
    "for v in issues.values():\n",
    "    if v.sprint_milestone == \"3.0\" and \\\n",
    "        v.tracker == \"Specification\" and \\\n",
    "        v.status not in (\"Closed\", \"Rejected\"):\n",
    "            relevant.append(v) \n"
   ]
  },
  {
   "cell_type": "code",
   "execution_count": 224,
   "metadata": {
    "collapsed": false
   },
   "outputs": [
    {
     "ename": "com_error",
     "evalue": "(-2147352567, 'Exception occurred.', (0, None, None, None, 0, -2146827284), None)",
     "output_type": "error",
     "traceback": [
      "\u001b[0;31m---------------------------------------------------------------------------\u001b[0m",
      "\u001b[0;31mcom_error\u001b[0m                                 Traceback (most recent call last)",
      "\u001b[0;32m<ipython-input-224-40e9364202db>\u001b[0m in \u001b[0;36m<module>\u001b[0;34m()\u001b[0m\n\u001b[1;32m      1\u001b[0m \u001b[0mtest_map\u001b[0m \u001b[1;33m=\u001b[0m \u001b[1;33m[\u001b[0m\u001b[1;33m]\u001b[0m\u001b[1;33m\u001b[0m\u001b[0m\n\u001b[1;32m      2\u001b[0m \u001b[0mtest_map2\u001b[0m \u001b[1;33m=\u001b[0m \u001b[1;33m{\u001b[0m\u001b[1;33m}\u001b[0m\u001b[1;33m\u001b[0m\u001b[0m\n\u001b[0;32m----> 3\u001b[0;31m \u001b[0mtest_data\u001b[0m \u001b[1;33m=\u001b[0m \u001b[0mcr\u001b[0m\u001b[1;33m(\u001b[0m\u001b[0mid_start\u001b[0m\u001b[1;33m,\u001b[0m \u001b[0mfrs_end\u001b[0m\u001b[1;33m)\u001b[0m\u001b[1;33m.\u001b[0m\u001b[0mValue\u001b[0m\u001b[1;33m\u001b[0m\u001b[0m\n\u001b[0m\u001b[1;32m      4\u001b[0m \u001b[1;32mfor\u001b[0m \u001b[0mrow\u001b[0m \u001b[1;32min\u001b[0m \u001b[0mtest_data\u001b[0m\u001b[1;33m:\u001b[0m\u001b[1;33m\u001b[0m\u001b[0m\n\u001b[1;32m      5\u001b[0m     \u001b[0mid_test\u001b[0m \u001b[1;33m=\u001b[0m \u001b[0mrow\u001b[0m\u001b[1;33m[\u001b[0m\u001b[1;36m0\u001b[0m\u001b[1;33m]\u001b[0m\u001b[1;33m\u001b[0m\u001b[0m\n",
      "\u001b[0;32mc:\\program files\\python35\\lib\\site-packages\\win32com\\gen_py\\00020813-0000-0000-C000-000000000046x0x1x6\\Range.py\u001b[0m in \u001b[0;36mRange\u001b[0;34m(self, Cell1, Cell2)\u001b[0m\n\u001b[1;32m    342\u001b[0m         \u001b[1;32mdef\u001b[0m \u001b[0mRange\u001b[0m\u001b[1;33m(\u001b[0m\u001b[0mself\u001b[0m\u001b[1;33m,\u001b[0m \u001b[0mCell1\u001b[0m\u001b[1;33m=\u001b[0m\u001b[0mdefaultNamedNotOptArg\u001b[0m\u001b[1;33m,\u001b[0m \u001b[0mCell2\u001b[0m\u001b[1;33m=\u001b[0m\u001b[0mdefaultNamedOptArg\u001b[0m\u001b[1;33m)\u001b[0m\u001b[1;33m:\u001b[0m\u001b[1;33m\u001b[0m\u001b[0m\n\u001b[1;32m    343\u001b[0m \t\tret = self._oleobj_.InvokeTypes(197, LCID, 2, (9, 0), ((12, 1), (12, 17)),Cell1\n\u001b[0;32m--> 344\u001b[0;31m \t\t\t, Cell2)\n\u001b[0m\u001b[1;32m    345\u001b[0m                 \u001b[1;32mif\u001b[0m \u001b[0mret\u001b[0m \u001b[1;32mis\u001b[0m \u001b[1;32mnot\u001b[0m \u001b[1;32mNone\u001b[0m\u001b[1;33m:\u001b[0m\u001b[1;33m\u001b[0m\u001b[0m\n\u001b[1;32m    346\u001b[0m                         \u001b[0mret\u001b[0m \u001b[1;33m=\u001b[0m \u001b[0mDispatch\u001b[0m\u001b[1;33m(\u001b[0m\u001b[0mret\u001b[0m\u001b[1;33m,\u001b[0m \u001b[1;34m'Range'\u001b[0m\u001b[1;33m,\u001b[0m \u001b[1;34m'{00020846-0000-0000-C000-000000000046}'\u001b[0m\u001b[1;33m)\u001b[0m\u001b[1;33m\u001b[0m\u001b[0m\n",
      "\u001b[0;31mcom_error\u001b[0m: (-2147352567, 'Exception occurred.', (0, None, None, None, 0, -2146827284), None)"
     ]
    }
   ],
   "source": [
    "test_map = []\n",
    "test_map2 = {}\n",
    "test_data = cr(id_start, frs_end).Value\n",
    "for row in test_data:\n",
    "    id_test = row[0]\n",
    "    iid_test = int(id_test)\n",
    "    if iid_test == id_test:\n",
    "        id_test = iid_test\n",
    "    list_web = row[-1] or \"\"\n",
    "    frs = list_web.split(\"\\n\")\n",
    "    \n",
    "    for f in filter(None, frs):\n",
    "        f=f.strip()\n",
    "        test_map.append((f, id_test))\n",
    "        flist = test_map2.get(f, None)\n",
    "        if flist is None:\n",
    "            flist = test_map2[f] = []\n",
    "        flist.append(id_test)"
   ]
  },
  {
   "cell_type": "code",
   "execution_count": null,
   "metadata": {
    "collapsed": true
   },
   "outputs": [],
   "source": [
    "def frs_nums(s):\n",
    "    pos = s.find(\"FRS\")\n",
    "    num = s[pos+3:]\n",
    "    return num.split(\".\")\n",
    "\n",
    "def num_tuple(s):\n",
    "    return tuple(int(i) for i in frs_nums(s))\n",
    "    \n",
    "def sort_key(t):\n",
    "    return num_tuple(t[0])\n",
    "\n",
    "        \n",
    "test_map.sort(key=sort_key)\n",
    "test_map"
   ]
  },
  {
   "cell_type": "code",
   "execution_count": null,
   "metadata": {
    "collapsed": true
   },
   "outputs": [],
   "source": []
  },
  {
   "cell_type": "code",
   "execution_count": null,
   "metadata": {
    "collapsed": false
   },
   "outputs": [],
   "source": [
    "import re\n",
    "toplevel_match = re.compile(r\"^\\>?[\\+\\*]{2}(FRS\\d+)[\\+\\*]{2}.*$\").match\n",
    "subitem_match = re.compile(r\"^\\>?[\\+\\*]+\\s\\*(FRS[\\d\\.]+)\\:?\\*\\:?.*$\").match\n",
    "all_frs = []\n",
    "for v in relevant:\n",
    "    lines = v.description.splitlines()\n",
    "    for line in lines:\n",
    "        for match in (toplevel_match, subitem_match):\n",
    "            m = match(line)\n",
    "            if m:\n",
    "                frs = m.group(1)\n",
    "                all_frs.append(frs)\n",
    "all_frs.sort(key=sort_frs_item)\n",
    "all_frs"
   ]
  },
  {
   "cell_type": "code",
   "execution_count": null,
   "metadata": {
    "collapsed": true
   },
   "outputs": [],
   "source": []
  },
  {
   "cell_type": "code",
   "execution_count": 225,
   "metadata": {
    "collapsed": false
   },
   "outputs": [
    {
     "name": "stdout",
     "output_type": "stream",
     "text": [
      "{'FRS2877.1.1', 'FRS2877.2.1', 'FRS2856.2.8', 'FRS2851.5'}\n",
      "set()\n"
     ]
    }
   ],
   "source": [
    "def dump(node, level=0):\n",
    "    for k, v in sorted(node.children.items()):\n",
    "        print(\" \"*level + str(v.id))\n",
    "        dump(v, level+1)\n",
    "\n",
    "class Node():\n",
    "    def __init__(self, id, parent):\n",
    "        self.id = id\n",
    "        self.parent = parent\n",
    "        self.children = {}\n",
    "        self.tests = []\n",
    "        \n",
    "    def get(self, id):\n",
    "        child = self.children.get(id, None)\n",
    "        if child is None:\n",
    "            child = self.mk_child(id)\n",
    "            self.children[id] = child\n",
    "        return child\n",
    "    \n",
    "    def mk_child(self, id):\n",
    "        return Node(\"%s.%s\"%(self.id, id), self)\n",
    "    \n",
    "    def _find(self, path):\n",
    "        id = path.pop()\n",
    "        child = self.get(id)\n",
    "        if not path:\n",
    "            return child\n",
    "        return child._find\n",
    "    \n",
    "    def iter(self):\n",
    "        for k, v in sorted(self.children.items()):\n",
    "            yield v\n",
    "            yield from v.iter()\n",
    "        \n",
    "    \n",
    "frs_match = re.compile(r\"(.*FRS\\d+)\\.?([\\d\\.]*)\").match\n",
    "    \n",
    "class Root(Node):\n",
    "    def __init__(self):\n",
    "        super().__init__(\"\", None)\n",
    "        \n",
    "    def mk_child(self, id):\n",
    "        return Node(id, self)\n",
    "        \n",
    "    def add(self, key):\n",
    "        frs, nums = frs_match(key).groups()\n",
    "        child = self.get(frs)\n",
    "        if not nums:\n",
    "            return child\n",
    "        path = [int(i) for i in nums.split(\".\")]\n",
    "        path.reverse()\n",
    "        node = child\n",
    "        while path:\n",
    "            id = path.pop()\n",
    "            node = node.get(id)\n",
    "        return node\n",
    "        \n",
    "root = Root()\n",
    "for f in all_frs:\n",
    "    id_test = test_map2.get(f, ())\n",
    "    node = root.add(f)\n",
    "    \n",
    "    \n",
    "#dump(root)\n",
    "ids = [v.id for v in root.iter()]\n",
    "print(set(ids) - set(all_frs))\n",
    "print(set(all_frs) - set(ids))"
   ]
  },
  {
   "cell_type": "code",
   "execution_count": 102,
   "metadata": {
    "collapsed": false
   },
   "outputs": [],
   "source": [
    "def num_tuples(f1, f2):\n",
    "    return num_tuple(f1), num_tuple(f2)\n",
    "\n",
    "def is_parent(f1, f2):\n",
    "    t1, t2 = num_tuples(f1, f2)\n",
    "    for a, b in zip(t1, t2):\n",
    "        if a != b:\n",
    "            return False\n",
    "    return len(t1) < len(t2)\n",
    "\n",
    "def is_child(f1, f2):\n",
    "    t1, t2 = num_tuples(f1, f2)\n",
    "    for a, b in zip(t1, t2):\n",
    "        if a != b:\n",
    "            return False\n",
    "    return len(t2) > len(t1)\n",
    "\n",
    "paste_data = []\n",
    "for s in all_frs:\n",
    "    tests = test_map2.get(s, ())\n",
    "    tests = sorted(tests)\n",
    "    test_str = \"\\n\".join(map(str,tests))\n",
    "    paste_data.append((s, test_str, \"'True\" if test_str else \"\"))"
   ]
  },
  {
   "cell_type": "code",
   "execution_count": 112,
   "metadata": {
    "collapsed": false
   },
   "outputs": [
    {
     "data": {
      "text/plain": [
       "('$A$2', '$C$609')"
      ]
     },
     "execution_count": 112,
     "metadata": {},
     "output_type": "execute_result"
    }
   ],
   "source": [
    "try:\n",
    "    ws2 = wb2.Worksheets(\"Matrix\")\n",
    "    ws2.UsedRange.Clear()\n",
    "except com_error:\n",
    "    ws2 = wb2.Worksheets.Add()\n",
    "    ws2.Name = \"Matrix\"\n",
    "\n",
    "cells2 = ws2.Cells\n",
    "cr2 = cells2.Range\n",
    "    \n",
    "headers = [(\"FRS Number\", \"id_test\", \"Tested\")]\n",
    "cr2(cr2(\"A1\"), cr2(\"A1\").Offset(1, len(headers[0]))).Value = headers\n",
    "\n",
    "frs_start = cr2(\"A2\")\n",
    "frs_end = frs_start.Offset(len(paste_data), 1)\n",
    "\n",
    "id_start = frs_start.Offset(1, 2)\n",
    "id_end = frs_end.Offset(1, 2)\n",
    "\n",
    "tested_start = id_start.Offset(1,2)\n",
    "tested_end = id_end.Offset(1,2)\n",
    "\n",
    "paste_start = frs_start\n",
    "paste_end = tested_end\n",
    "paste_start.Address, paste_end.Address"
   ]
  },
  {
   "cell_type": "code",
   "execution_count": 113,
   "metadata": {
    "collapsed": false
   },
   "outputs": [],
   "source": [
    "paste_range = cr2(paste_start, paste_end)\n",
    "paste_range.Value = paste_data\n",
    "\n",
    "cr2(frs_start, frs_end).VerticalAlignment = xlc.xlTop\n",
    "cr2(id_start, id_end).HorizontalAlignment = xlc.xlRight\n",
    "cr2(tested_start, tested_end).HorizontalAlignment = xlc.xlRight\n",
    "cr2(tested_start, tested_end).VerticalAlignment = xlc.xlTop"
   ]
  },
  {
   "cell_type": "code",
   "execution_count": 89,
   "metadata": {
    "collapsed": false
   },
   "outputs": [
    {
     "data": {
      "text/plain": [
       "'$A$2:$B$20'"
      ]
     },
     "execution_count": 89,
     "metadata": {},
     "output_type": "execute_result"
    }
   ],
   "source": []
  },
  {
   "cell_type": "code",
   "execution_count": null,
   "metadata": {
    "collapsed": true
   },
   "outputs": [],
   "source": []
  }
 ],
 "metadata": {
  "kernelspec": {
   "display_name": "Python 3",
   "language": "python",
   "name": "python3"
  },
  "language_info": {
   "codemirror_mode": {
    "name": "ipython",
    "version": 3
   },
   "file_extension": ".py",
   "mimetype": "text/x-python",
   "name": "python",
   "nbconvert_exporter": "python",
   "pygments_lexer": "ipython3",
   "version": "3.5.2"
  }
 },
 "nbformat": 4,
 "nbformat_minor": 1
}
