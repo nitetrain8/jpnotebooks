{
 "cells": [
  {
   "cell_type": "code",
   "execution_count": 1,
   "metadata": {
    "collapsed": false
   },
   "outputs": [],
   "source": [
    "from officelib.xllib import *\n",
    "from officelib.const import xlconst as xlc\n",
    "from pywintypes import com_error\n",
    "from scripts.tools.issuetracker import IssuetrackerAPI\n",
    "from os.path import join as pjoin\n",
    "import re"
   ]
  },
  {
   "cell_type": "code",
   "execution_count": 2,
   "metadata": {
    "collapsed": true
   },
   "outputs": [],
   "source": [
    "trace_path = \"C:\\\\Users\\\\Nathan\\\\Documents\\\\PBS\\\\SW test\\\\3.0 User Test\\\\Traceability\"\n",
    "file1 = \"Tests 161111 1.xlsx\""
   ]
  },
  {
   "cell_type": "code",
   "execution_count": 3,
   "metadata": {
    "collapsed": false
   },
   "outputs": [],
   "source": [
    "xl = Excel(new=False)\n",
    "wb = xl.Workbooks.Open(pjoin(trace_path, file1))"
   ]
  },
  {
   "cell_type": "code",
   "execution_count": 4,
   "metadata": {
    "collapsed": false
   },
   "outputs": [],
   "source": [
    "ws = wb.Worksheets(\"Sheet1\")\n",
    "cells = ws.Cells\n",
    "cr = cells.Range\n",
    "id_start = cells.Find(\"ID_TEST\").Offset(2, 1)\n",
    "id_end = id_start.End(xlc.xlDown)\n",
    "frs_start = cells.Find(\"List Web FRS\").Offset(2, 1)\n",
    "frs_end = frs_start.Offset(id_end.Row - id_start.Row + 1, 1)\n",
    "test_data = cr(id_start, frs_end).Value"
   ]
  },
  {
   "cell_type": "code",
   "execution_count": 5,
   "metadata": {
    "collapsed": false
   },
   "outputs": [
    {
     "name": "stdout",
     "output_type": "stream",
     "text": [
      "Downloading projects...\n",
      "Downloading issues: 658/658      \n"
     ]
    }
   ],
   "source": [
    "api = IssuetrackerAPI('issue.pbsbiotech.com', 'nstarkweather', 'kookychemist')\n",
    "issues = api.download_issues(\"pbssoftware\")"
   ]
  },
  {
   "cell_type": "code",
   "execution_count": 6,
   "metadata": {
    "collapsed": false
   },
   "outputs": [],
   "source": [
    "relevant = []\n",
    "for v in issues.values():\n",
    "    if v.sprint_milestone == \"3.0\" and \\\n",
    "        v.tracker == \"Specification\" and \\\n",
    "        v.status not in (\"Closed\", \"Rejected\"):\n",
    "            relevant.append(v) \n"
   ]
  },
  {
   "cell_type": "code",
   "execution_count": 17,
   "metadata": {
    "collapsed": false
   },
   "outputs": [
    {
     "name": "stdout",
     "output_type": "stream",
     "text": [
      "3.0WebFRS121\n",
      "3.0WebFRS119\n",
      "3.0WebFRS001\n",
      "3.0WebFRS002\n"
     ]
    }
   ],
   "source": [
    "webfrs_re = re.compile(r\"(3\\.0WebFRS\\d\\d\\d)\")\n",
    "for i in relevant:\n",
    "    for f in webfrs_re.findall(i.description):\n",
    "        print(f)"
   ]
  },
  {
   "cell_type": "code",
   "execution_count": 7,
   "metadata": {
    "collapsed": false
   },
   "outputs": [],
   "source": [
    "test_map = []\n",
    "test_map2 = {}\n",
    "id_strings = set()\n",
    "frs_strings = set()\n",
    "for row in test_data:\n",
    "    id_test = row[0]\n",
    "    iid_test = int(id_test)\n",
    "    if iid_test == id_test:\n",
    "        id_test = iid_test\n",
    "    list_web = row[-1] or \"\"\n",
    "    frs = list_web.split(\"\\n\")\n",
    "    id_strings.add(id_test)\n",
    "    for f in filter(None, frs):\n",
    "        f=f.strip()\n",
    "        frs_strings.add(f)\n",
    "        test_map.append((f, id_test))\n",
    "        flist = test_map2.get(f, None)\n",
    "        if flist is None:\n",
    "            flist = test_map2[f] = []\n",
    "        flist.append(id_test)"
   ]
  },
  {
   "cell_type": "code",
   "execution_count": 8,
   "metadata": {
    "collapsed": false
   },
   "outputs": [],
   "source": [
    "def frs_nums(s):\n",
    "    pos = s.find(\"FRS\")\n",
    "    num = s[pos+3:]\n",
    "    return num.split(\".\")\n",
    "\n",
    "def num_tuple(s):\n",
    "    return tuple(int(i) for i in frs_nums(s))\n",
    "    \n",
    "def sort_key(t):\n",
    "    return num_tuple(t[0])\n",
    "     \n",
    "test_map.sort(key=sort_key)"
   ]
  },
  {
   "cell_type": "code",
   "execution_count": 18,
   "metadata": {
    "collapsed": false
   },
   "outputs": [
    {
     "data": {
      "text/plain": [
       "['3.0WebFRS001',\n",
       " '3.0WebFRS002',\n",
       " '3.0WebFRS003',\n",
       " '3.0WebFRS004',\n",
       " '3.0WebFRS005',\n",
       " '3.0WebFRS006',\n",
       " '3.0WebFRS007',\n",
       " '3.0WebFRS008',\n",
       " '3.0WebFRS009',\n",
       " '3.0WebFRS010']"
      ]
     },
     "execution_count": 18,
     "metadata": {},
     "output_type": "execute_result"
    }
   ],
   "source": [
    "def sort_frs_item(s):\n",
    "    return num_tuple(s)\n",
    "\n",
    "toplevel_match = re.compile(r\"^\\>?[\\+\\*]{2}(FRS\\d+)[\\+\\*]{2}.*$\").match\n",
    "subitem_match = re.compile(r\"^\\>?[\\+\\*]+\\s\\*(FRS[\\d\\.]+)\\:?\\*\\:?.*$\").match\n",
    "all_frs = set()\n",
    "for v in relevant:\n",
    "    lines = v.description.splitlines()\n",
    "    for line in lines:\n",
    "        for match in (toplevel_match, subitem_match):\n",
    "            m = match(line)\n",
    "            if m:\n",
    "                frs = m.group(1)\n",
    "                all_frs.add(frs)\n",
    "for i in range(1, 121 + 1):\n",
    "    all_frs.add(\"3.0WebFRS%03d\" % i)\n",
    "all_frs2 = sorted(all_frs, key=sort_frs_item)\n",
    "all_frs2[:10]"
   ]
  },
  {
   "cell_type": "code",
   "execution_count": 19,
   "metadata": {
    "collapsed": false
   },
   "outputs": [
    {
     "name": "stdout",
     "output_type": "stream",
     "text": [
      "No Bad Tests Found\n"
     ]
    }
   ],
   "source": [
    "diff = frs_strings - all_frs\n",
    "bad_tests = {}\n",
    "for d in diff:\n",
    "    tests = test_map2.get(d)\n",
    "    for t in tests:\n",
    "        bad = bad_tests.get(t, None)\n",
    "        if bad is None:\n",
    "            bad_tests[t] = bad = []\n",
    "        bad.append(d)\n",
    "#     print(test_map2.get(d), d)\n",
    "for t, frs in sorted(bad_tests.items()):\n",
    "    print(t, frs)\n",
    "if not bad_tests:\n",
    "    print(\"No Bad Tests Found\")\n",
    "else:\n",
    "    assert False, \"Bad Tests found\""
   ]
  },
  {
   "cell_type": "code",
   "execution_count": 20,
   "metadata": {
    "collapsed": false
   },
   "outputs": [],
   "source": [
    "def dump(node, level=0):\n",
    "    for k, v in sorted(node.children.items()):\n",
    "        print(\" \"*level + str(v.id)+ \" \"+str(v._tests))\n",
    "        dump(v, level+1)\n",
    "\n",
    "class Node():\n",
    "    def __init__(self, id, parent):\n",
    "        self.id = id\n",
    "        self.parent = parent\n",
    "        self.children = {}\n",
    "        self._tests = []\n",
    "        \n",
    "    def add_test(self, id_test):\n",
    "        self._tests.append(id_test)\n",
    "        for c in self.children.values():\n",
    "            c.add_test(id_test)\n",
    "        \n",
    "    def get_tests(self):\n",
    "        return sorted(self._tests)\n",
    "        \n",
    "    def get(self, id):\n",
    "        return self.children.get(id, None)\n",
    "        \n",
    "    def add_child(self, id):\n",
    "        child = self.mk_child(id)\n",
    "        self.children[id] = child\n",
    "        return child\n",
    "    \n",
    "    def mk_child(self, id):\n",
    "        return self.__class__(\"%s.%s\"%(self.id, id), self)\n",
    "    \n",
    "    def iter(self):\n",
    "        # use .items() instead of .values() to sort\n",
    "        for _, v in sorted(self.children.items()):\n",
    "            yield v\n",
    "            yield from v.iter()\n",
    "            \n",
    "    def __repr__(self):\n",
    "        return \"%s(%r)\" % (self.__class__.__name__, self.id)\n",
    "    \n",
    "    def is_tested(self):\n",
    "        if self._tests:\n",
    "            return True\n",
    "        elif not self.children:\n",
    "            return False\n",
    "        else:\n",
    "            for c in self.children.values():\n",
    "                if not c.is_tested():\n",
    "                    return False\n",
    "            return True\n",
    "        \n",
    "    \n",
    "frs_match = re.compile(r\"(.*FRS\\d+)\\.?([\\d\\.]*)\").match\n",
    "    \n",
    "class Root(Node):\n",
    "    def __init__(self):\n",
    "        super().__init__(\"\", None)\n",
    "        \n",
    "    def mk_child(self, id):\n",
    "        return Node(id, self)\n",
    "        \n",
    "    def add(self, key):\n",
    "        frs, nums = frs_match(key).groups()\n",
    "        child = self.get(frs)\n",
    "        if not child:\n",
    "            child = self.add_child(frs)\n",
    "        if not nums:\n",
    "            return child\n",
    "        path = [int(i) for i in nums.split(\".\")]\n",
    "        path.reverse()\n",
    "        node = child\n",
    "        while path:\n",
    "            id = path.pop()\n",
    "            child = node.get(id)\n",
    "            if child is None:\n",
    "                child = node.add_child(id)\n",
    "            node = child\n",
    "        return node\n",
    "    \n",
    "    def lookup(self, key):\n",
    "        frs, nums = frs_match(key).groups()\n",
    "        node = self.get(frs)\n",
    "        if not node or not nums:\n",
    "            return node\n",
    "        path = [int(i) for i in nums.split(\".\")][::-1]\n",
    "        while path and node:\n",
    "            id = path.pop()\n",
    "            node = node.get(id)\n",
    "        return node\n",
    "        \n",
    "        \n",
    "root_reqs = Root()\n",
    "for f in all_frs:\n",
    "    node = root_reqs.add(f)\n",
    "for f in all_frs:\n",
    "    tests = test_map2.get(f, ())\n",
    "    node = root_reqs.lookup(f)\n",
    "    assert node, f\n",
    "    for t in tests:\n",
    "        node.add_test(t)\n",
    "    \n",
    "    \n",
    "#dump(root_reqs)\n",
    "ids = [v.id for v in root_reqs.iter()]\n",
    "set_ids = set(ids)\n",
    "set_allfrs = set(all_frs)\n",
    "assert set_ids == set_allfrs\n",
    "for id in set_ids:\n",
    "    assert root_reqs.lookup(id).id == id"
   ]
  },
  {
   "cell_type": "code",
   "execution_count": 21,
   "metadata": {
    "collapsed": false
   },
   "outputs": [
    {
     "name": "stdout",
     "output_type": "stream",
     "text": [
      "Seen tests success\n"
     ]
    }
   ],
   "source": [
    "seen_tests = set()\n",
    "for v in root_reqs.iter():\n",
    "    for t in v.get_tests():\n",
    "        seen_tests.add(t)\n",
    "set_map2 = set()\n",
    "for v in test_map2.values():\n",
    "    for t in v:\n",
    "        set_map2.add(t)\n",
    "diff = seen_tests - set_map2\n",
    "assert not diff, diff\n",
    "print(\"Seen tests success\")"
   ]
  },
  {
   "cell_type": "code",
   "execution_count": 30,
   "metadata": {
    "collapsed": false
   },
   "outputs": [],
   "source": [
    "paste_data = []\n",
    "for f in all_frs2:\n",
    "    node = root_reqs.lookup(f)\n",
    "    if not node:\n",
    "        tests = ()\n",
    "        tested = \"\"\n",
    "    else:\n",
    "        tests = \"\\n\".join(str(i) for i in node.get_tests())\n",
    "        tested = \"Y\" if node.is_tested() else \"\"\n",
    "    paste_data.append((f, f.count(\".\"), tests, tested))"
   ]
  },
  {
   "cell_type": "code",
   "execution_count": 40,
   "metadata": {
    "collapsed": false
   },
   "outputs": [],
   "source": [
    "try:\n",
    "    ws2 = wb.Worksheets(\"Matrix\")\n",
    "    # clear twice to clear autofilter\n",
    "    ws2.UsedRange.Clear()\n",
    "    ws2.UsedRange.Clear()\n",
    "except com_error:\n",
    "    ws2 = wb.Worksheets.Add()\n",
    "    ws2.Name = \"Matrix\"\n",
    "\n",
    "cells2 = ws2.Cells\n",
    "cr2 = cells2.Range\n",
    "    \n",
    "headers = [(\"FRS Number\", \"Level\", \"id_test\", \"Tested\")]\n",
    "cr2(cr2(\"A1\"), cr2(\"A1\").Offset(1, len(headers[0]))).Value = headers\n",
    "\n",
    "frs_start = cr2(\"A2\")\n",
    "frs_end = frs_start.Offset(len(paste_data), 1)\n",
    "\n",
    "id_start = frs_start.Offset(1, 2)\n",
    "id_end = frs_end.Offset(1, 2)\n",
    "\n",
    "tested_start = id_start.Offset(1,2)\n",
    "tested_end = id_end.Offset(1,2)\n",
    "\n",
    "paste_start = frs_start\n",
    "paste_end = frs_end.Offset(1, len(paste_data[0]))"
   ]
  },
  {
   "cell_type": "code",
   "execution_count": 41,
   "metadata": {
    "collapsed": false
   },
   "outputs": [],
   "source": [
    "with screen_lock(xl):\n",
    "    paste_range = cr2(paste_start, paste_end)\n",
    "    paste_range.Value = paste_data\n",
    "\n",
    "    cr2(frs_start, frs_end).VerticalAlignment = xlc.xlTop\n",
    "    cr2(id_start, id_end).HorizontalAlignment = xlc.xlRight\n",
    "    cr2(tested_start, tested_end).HorizontalAlignment = xlc.xlRight\n",
    "    cr2(tested_start, tested_end).VerticalAlignment = xlc.xlTop\n",
    "    \n",
    "    col_os = paste_end.Column - paste_start.Column + 1\n",
    "    for offset, (item, level, _, tested) in enumerate(paste_data, 1):\n",
    "        if not tested:\n",
    "            row = cr2(paste_start.Offset(offset, 1), paste_start.Offset(offset, col_os))\n",
    "            row.Interior.Pattern = xlc.xlSolid\n",
    "            row.Interior.PatternColorIndex = xlc.xlAutomatic\n",
    "            row.Interior.ThemeColor = xlc.xlThemeColorAccent2\n",
    "            row.Interior.TintAndShade = 0.399975585192419\n",
    "            row.Interior.PatternTintAndShade = 0\n",
    "            row[1].IndentLevel = level\n",
    " \n",
    "    cr2(paste_start.Offset(0, 1), paste_end).AutoFilter(Field=col_os, Criteria1=\"=\")\n",
    "    \n",
    "    # fit after filter to account for width of filter icon\n",
    "    for c in paste_range.Columns:\n",
    "        c.EntireColumn.AutoFit()\n",
    "    "
   ]
  },
  {
   "cell_type": "code",
   "execution_count": 25,
   "metadata": {
    "collapsed": true
   },
   "outputs": [
    {
     "name": "stdout",
     "output_type": "stream",
     "text": [
      "FRS2819\n",
      "FRS2320\n",
      "FRS2769\n",
      "FRS3288\n",
      "FRS2884\n",
      "FRS2906\n",
      "FRS2871\n",
      "FRS1073\n",
      "FRS3176\n",
      "FRS2877\n",
      "FRS2796\n",
      "FRS2828\n",
      "FRS2905\n",
      "FRS2891\n",
      "FRS1902\n",
      "FRS2851\n",
      "FRS2888\n",
      "FRS2907\n",
      "FRS3226\n",
      "FRS2875\n",
      "FRS2304\n",
      "FRS2321\n",
      "FRS3225\n",
      "FRS420\n",
      "FRS2908\n",
      "FRS2926\n",
      "FRS2880\n",
      "FRS1583\n",
      "FRS2367\n",
      "FRS2865\n",
      "FRS2876\n",
      "FRS1759\n",
      "FRS2881\n",
      "FRS2860\n",
      "FRS3010\n",
      "FRS3289\n",
      "FRS2856\n"
     ]
    }
   ],
   "source": [
    "\n"
   ]
  },
  {
   "cell_type": "code",
   "execution_count": null,
   "metadata": {
    "collapsed": true
   },
   "outputs": [],
   "source": []
  }
 ],
 "metadata": {
  "kernelspec": {
   "display_name": "Python 3",
   "language": "python",
   "name": "python3"
  },
  "language_info": {
   "codemirror_mode": {
    "name": "ipython",
    "version": 3
   },
   "file_extension": ".py",
   "mimetype": "text/x-python",
   "name": "python",
   "nbconvert_exporter": "python",
   "pygments_lexer": "ipython3",
   "version": "3.5.2"
  }
 },
 "nbformat": 4,
 "nbformat_minor": 1
}
