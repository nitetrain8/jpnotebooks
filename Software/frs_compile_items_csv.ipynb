{
 "cells": [
  {
   "cell_type": "code",
   "execution_count": 8,
   "metadata": {},
   "outputs": [],
   "source": [
    "import os, re\n",
    "from scripts.tools.issuetracker import IssuetrackerAPI\n",
    "from datetime import date"
   ]
  },
  {
   "cell_type": "code",
   "execution_count": 9,
   "metadata": {},
   "outputs": [],
   "source": [
    "toplevel_match = re.compile(r\"^\\>?([\\+\\*]{2})(FRS\\d+)([\\+\\*]{2})(.*)$\").match\n",
    "subitem_match = re.compile(r\"^\\>?([\\+\\*]+)\\s\\*(FRS)([\\d\\.]+)\\:\\*(.+)$\").match\n",
    "header_match = re.compile(r\"^\\>?([\\+\\*]{2})([\\w]+[^\\:]+)(\\:)?([\\+\\*]{2})(\\:)?(.*)$\").match"
   ]
  },
  {
   "cell_type": "code",
   "execution_count": 16,
   "metadata": {},
   "outputs": [],
   "source": [
    "cache = None\n",
    "api = None\n",
    "sync_date = None\n",
    "def _download():\n",
    "    global cache, api, sync_date\n",
    "    if api is None:\n",
    "        api = IssuetrackerAPI('issue.pbsbiotech.com', 'nstarkweather', 'kookychemist')\n",
    "    cache = api.download_issues(project_id=\"pbssoftware\")\n",
    "    sync_date = date.today()\n",
    "    return cache.copy()"
   ]
  },
  {
   "cell_type": "code",
   "execution_count": 196,
   "metadata": {},
   "outputs": [],
   "source": [
    "\n",
    "    \n",
    "def download(force=False):\n",
    "    global cache, sync_date\n",
    "    reason = None\n",
    "    if cache is None:\n",
    "        reason = \"cache is None\"\n",
    "    elif force:\n",
    "        reason = \"forced re-cache\"\n",
    "    elif sync_date is None:\n",
    "        reason = \"can't determine last sync date\"\n",
    "    elif date.today() != sync_date:\n",
    "        reason = \"cache age > 0 days\"\n",
    "    if reason:\n",
    "        print(\"Downloading issues:\", reason)\n",
    "        issues = _download()\n",
    "    else:\n",
    "        issues = cache\n",
    "    return issues\n",
    "    \n",
    "        \n",
    "skip = {\n",
    "    3057,  # 3.0 Web FRS\n",
    "    3066,  # 3.0 Web FRS\n",
    "    3194,  # URS\n",
    "}\n",
    "def relevant(i, sprint_milestone):\n",
    "    if i.id in skip:\n",
    "        return False\n",
    "    if i.sprint_milestone != sprint_milestone:\n",
    "        return False\n",
    "    if i.tracker != \"Specification\":\n",
    "        return False\n",
    "    if i.status in (\"Rejected\", \"Closed\"):\n",
    "        return False\n",
    "    return True\n",
    "\n",
    "def filter_issues(issues, sm):\n",
    "    rv = [i for i in issues.values() if relevant(i, sm)]\n",
    "    print(\"Filtered %d relevant issues\" % len(rv))\n",
    "    return rv\n",
    "\n",
    "def get_issues(sm, *, recache=False):\n",
    "    issues = download(recache)\n",
    "    return filter_issues(issues, sm)"
   ]
  },
  {
   "cell_type": "code",
   "execution_count": 197,
   "metadata": {},
   "outputs": [],
   "source": [
    "from scripts.software_frs import frs_traceability2 as FRS\n",
    "\n",
    "from officelib.xllib import *\n",
    "\n",
    "xl = Excel(new=False)\n",
    "ws = xl.Selection.Parent\n",
    "cells = ws.Cells"
   ]
  },
  {
   "cell_type": "code",
   "execution_count": 198,
   "metadata": {},
   "outputs": [],
   "source": [
    "_frs_match = re.compile(r\"(.*FRS\\d+)\\.?([\\d\\.]*)\").match\n",
    "_toplevel_match = re.compile(r\"^\\>?[\\*\\+\\s]*[\\+\\*]{2}(FRS[\\d\\.]+)\\:?[\\+\\*]{2}\\:?\\s*(.*)$\").match\n",
    "_subitem_match = re.compile(r\"^\\>?[\\+\\*]+\\s\\*(FRS[\\d\\.]+)\\:?\\*\\:?(.*)$\").match\n",
    "_canceled_match = re.compile(r\"^[\\+\\*]+\\s\\-\\*(FRS[\\d\\.]+)\\:?\\*\\:?(.*)\\-\").match\n",
    "_header_match = re.compile(r\"^\\>?[\\+\\*]{2}([\\s\\d\\.\\w]+)[\\+\\*]{2}\").match\n",
    "\n",
    "def _extract_frs_lines(lines):\n",
    "    start_matches = (\n",
    "        (_toplevel_match, 0),\n",
    "        (_subitem_match, 0),\n",
    "        (_canceled_match, FRS_NA),\n",
    "    )\n",
    "    end_matches = (\n",
    "        _toplevel_match,\n",
    "        _subitem_match,\n",
    "        _canceled_match,\n",
    "        _header_match\n",
    "    )\n",
    "    i = 0\n",
    "    while True:\n",
    "        try:\n",
    "            line = lines[i]\n",
    "        except IndexError:\n",
    "            break\n",
    "        i += 1\n",
    "        for match, flags in start_matches:\n",
    "            done = False\n",
    "            m = match(line)\n",
    "            if m:\n",
    "                f = m.group(1)\n",
    "                t = m.group(2).strip()\n",
    "                l = [t]\n",
    "                while True:\n",
    "                    try:\n",
    "                        line = lines[i]\n",
    "                    except IndexError:\n",
    "                        done = True\n",
    "                        break\n",
    "                    if any(m(line) for m in end_matches):\n",
    "                        done = True\n",
    "                        break\n",
    "                    l.append(\" \" + line.strip())\n",
    "                    i += 1\n",
    "                text = \"\\n\".join(l)\n",
    "                # if l and not t:\n",
    "                #     text = \"\\n\" + text\n",
    "                yield f, flags, text\n",
    "            if done:\n",
    "                break"
   ]
  },
  {
   "cell_type": "code",
   "execution_count": 218,
   "metadata": {},
   "outputs": [],
   "source": [
    "maybe_frs = re.compile(\".*(FRS[\\d\\.]+)\").match\n",
    "def load_frs_from_issuetracker(sm):\n",
    "    relevant = get_issues(sm)\n",
    "    all_frs = {(None, 0, \"\")}\n",
    "    seen = set()\n",
    "    for v in relevant:\n",
    "        lines = v.description.splitlines()\n",
    "        found = False\n",
    "        for frs in _extract_frs_lines(lines):\n",
    "            all_frs.add(frs)\n",
    "            seen.add(frs[0])\n",
    "            found = True\n",
    "        if not found:\n",
    "            print(\"UH OH: \", v.id, v.tracker.name)\n",
    "        for line in lines:\n",
    "            m = maybe_frs(line)\n",
    "            if m:\n",
    "                if m.group(1) not in seen:\n",
    "                    print(\"HMM \", m.group(1))\n",
    "    all_frs.remove((None, 0, \"\"))\n",
    "    return all_frs"
   ]
  },
  {
   "cell_type": "code",
   "execution_count": 219,
   "metadata": {},
   "outputs": [],
   "source": [
    "def make_paste_data(sm, root):\n",
    "    data = []\n",
    "    for i, node in enumerate(root.iter(), 2):\n",
    "        f = node.id\n",
    "        t = node.text.strip()\n",
    "        #if t:\n",
    "        data.append((sm, f, t))\n",
    "    return data"
   ]
  },
  {
   "cell_type": "code",
   "execution_count": 220,
   "metadata": {},
   "outputs": [
    {
     "name": "stdout",
     "output_type": "stream",
     "text": [
      "Filtered 1 relevant issues\n",
      "Filtered 1 relevant issues\n",
      "Filtered 3 relevant issues\n",
      "UH OH:  3787 Specification\n",
      "Filtered 3 relevant issues\n",
      "UH OH:  3825 Specification\n",
      "Filtered 0 relevant issues\n",
      "Filtered 1 relevant issues\n",
      "Filtered 6 relevant issues\n",
      "UH OH:  3757 Specification\n",
      "UH OH:  3800 Specification\n",
      "UH OH:  3865 Specification\n",
      "UH OH:  3900 Specification\n",
      "UH OH:  4047 Specification\n"
     ]
    }
   ],
   "source": [
    "ad = [(\"Version\", \"Number\", \"Item\")]\n",
    "smissues = []\n",
    "for i in range(1, 8):\n",
    "    sm = \"3.0.%d\"%i\n",
    "    smissues.append((sm, load_frs_from_issuetracker(sm)))\n",
    "    \n",
    "for sm, frs in smissues:\n",
    "    reqs = FRS.build_frs_tree(frs)\n",
    "    ad.extend(make_paste_data(sm, reqs))"
   ]
  },
  {
   "cell_type": "code",
   "execution_count": 185,
   "metadata": {},
   "outputs": [
    {
     "data": {
      "text/plain": [
       "True"
      ]
     },
     "execution_count": 185,
     "metadata": {},
     "output_type": "execute_result"
    }
   ],
   "source": [
    "ws.UsedRange.Clear()\n",
    "s = cells(2,2)\n",
    "ds = s.Offset(2, 1)\n",
    "tr = cells.Range(s, s.Offset(len(ad), len(ad[0])))\n",
    "dr = cells.Range(ds, ds.Offset(len(ad)-1, len(ad[0])))\n",
    "tr.Value = ad\n",
    "tr.Columns.AutoFit()\n",
    "tr.Rows.AutoFit()"
   ]
  },
  {
   "cell_type": "code",
   "execution_count": 186,
   "metadata": {},
   "outputs": [],
   "source": [
    "for row in dr.Rows:\n",
    "    row.Cells(1, 2).IndentLevel = row.Cells(1, 2).Value.count(\".\")"
   ]
  },
  {
   "cell_type": "code",
   "execution_count": null,
   "metadata": {},
   "outputs": [],
   "source": []
  }
 ],
 "metadata": {
  "kernelspec": {
   "display_name": "Python 3",
   "language": "python",
   "name": "python3"
  },
  "language_info": {
   "codemirror_mode": {
    "name": "ipython",
    "version": 3
   },
   "file_extension": ".py",
   "mimetype": "text/x-python",
   "name": "python",
   "nbconvert_exporter": "python",
   "pygments_lexer": "ipython3",
   "version": "3.5.2"
  }
 },
 "nbformat": 4,
 "nbformat_minor": 1
}
