{
 "cells": [
  {
   "cell_type": "code",
   "execution_count": null,
   "metadata": {
    "collapsed": false
   },
   "outputs": [],
   "source": [
    "import os\n",
    "os.chdir(os.path.join(os.path.abspath(os.path.expanduser(\"~\")), \"Documents\", \"Personal\", \"Test\"))\n",
    "from scripts.tools.issuetracker import IssuetrackerAPI as _ISAPI, Issue\n",
    "import pickle\n",
    "\n",
    "import datetime, dateutil\n",
    "from_date = datetime.datetime(2016, 6, 1, tzinfo=dateutil.tz.tzutc())\n",
    "today =datetime.date.today()\n",
    "to_date = datetime.datetime(today.year, today.month, today.day, tzinfo=dateutil.tz.tzutc())\n",
    "\n",
    "\n",
    "class IssuetrackerAPI(_ISAPI):\n",
    "    \n",
    "    def make_pickle_cache(self, *args):\n",
    "        issues = super().download_issues(*args)\n",
    "        with open(\"gantt_dummy.pkl\", 'wb') as f:\n",
    "            pickle.dump(issues, f)\n",
    "        return issues\n",
    "    def download_issues(self, *args):\n",
    "        if not os.path.exists(\"gantt_dummy.pkl\"):\n",
    "            return self.make_pickle_cache(*args)\n",
    "        else:\n",
    "            with open(\"gantt_dummy.pkl\", 'rb') as f:\n",
    "                try:\n",
    "                    issues = pickle.load(f)\n",
    "                except (pickle.PickleError, OSError, EOFError):\n",
    "                    pass\n",
    "                else:\n",
    "                    return issues\n",
    "            return self.make_pickle_cache(*args)\n",
    "        return issues\n"
   ]
  },
  {
   "cell_type": "code",
   "execution_count": null,
   "metadata": {
    "collapsed": true
   },
   "outputs": [],
   "source": [
    "from officelib import wordlib\n",
    "from scripts.tools.issuetracker.frs_update import main\n",
    "import shutil\n",
    "word = wordlib.Word()\n",
    "pdfpth = \"pdfs6\"\n",
    "try:\n",
    "    word.ActiveDocument.Close(False)\n",
    "except:\n",
    "    pass\n",
    "try:\n",
    "    shutil.rmtree(pdfpth)\n",
    "except FileNotFoundError:\n",
    "    pass\n",
    "print(\"Begin Main\", flush=True)\n",
    "res = main(\"issue.pbsbiotech.com\", 'nstarkweather', 'kookychemist', 'pbssoftware', \"2016-6-1\", \n",
    "     \"today\", 'Hello v3.0 FRS Update', pdfpth, \"FRS Update\", \n",
    "     \"IS00038B2 Rev A Functional Requirements Specification Updates\")\n",
    "#os.startfile('\"%s\"'%res)\n",
    "print()\n",
    "print(\"Done\")"
   ]
  },
  {
   "cell_type": "markdown",
   "metadata": {},
   "source": [
    "# 3/2/2017 and 4/5/2017"
   ]
  },
  {
   "cell_type": "code",
   "execution_count": null,
   "metadata": {
    "collapsed": false
   },
   "outputs": [],
   "source": [
    "from officelib import wordlib\n",
    "from scripts.tools.issuetracker.frs_update import main\n",
    "import shutil\n",
    "word = wordlib.Word()\n",
    "pdfpth = \"Software_FRS_170405\"\n",
    "try:\n",
    "    word.ActiveDocument.Close(False)\n",
    "except:\n",
    "    pass\n",
    "try:\n",
    "    shutil.rmtree(pdfpth)\n",
    "except FileNotFoundError:\n",
    "    pass\n",
    "print(\"Begin Main\", flush=True)\n",
    "res = main(\"issue.pbsbiotech.com\", 'nstarkweather', 'kookychemist', 'pbssoftware', None, \n",
    "     \"today\", 'Hello v3.0 FRS Update', pdfpth, \"FRS Update\", \n",
    "     \"IS00038B2 Rev A Functional Requirements Specification\")\n",
    "#os.startfile('\"%s\"'%res)\n",
    "print()\n",
    "print(\"Done\")"
   ]
  },
  {
   "cell_type": "markdown",
   "metadata": {
    "collapsed": true
   },
   "source": [
    "# 5/4/2017"
   ]
  },
  {
   "cell_type": "code",
   "execution_count": 1,
   "metadata": {
    "collapsed": false
   },
   "outputs": [
    {
     "name": "stdout",
     "output_type": "stream",
     "text": [
      "Begin Main\n",
      "\n",
      "Logging into Issuetracker...Downloading projects...\n",
      "Downloading issues: 489/489      \n",
      "\n",
      "Got update: PGS_BEGIN_PROCESS_PDFS \n",
      "Creating PDF Index...\n",
      "Creating Word Document...\n",
      "Creating index 84 of 84                    \n",
      "Got update: PGS_IPG_FLAG_WAITING \n",
      "Downloading (51/84)                    \n",
      "Got update: PGS_IPG_FLAG_WAITING 2\n",
      "Downloading (81/84)                    \n",
      "Got update: PGS_IPG_FLAG_WAITING 3\n",
      "Downloading (81/84)                    \n",
      "Got update: PGS_IPG_FLAG_WAITING 4\n",
      "Downloading (81/84)                    \n",
      "Got update: PGS_IPG_FLAG_WAITING 5\n",
      "Downloading (81/84)                    \n",
      "Got update: PGS_IPG_FLAG_WAITING 6\n",
      "Downloading (81/84)                    \n",
      "Got update: PGS_IPG_FLAG_WAITING 7\n",
      "Downloading (81/84)                    \n",
      "Got update: PGS_IPG_FLAG_WAITING 8\n",
      "Downloading (81/84)                    \n",
      "Got update: PGS_IPG_FLAG_WAITING 9\n",
      "Downloading (81/84)                    \n",
      "Got update: PGS_IPG_FLAG_WAITING 10\n",
      "Downloading (81/84)                    \n",
      "Got update: PGS_IPG_FLAG_WAITING 11\n",
      "Downloading (81/84)                    \n",
      "Got update: PGS_IPG_FLAG_WAITING 12\n",
      "Downloading (81/84)                    \n",
      "Got update: PGS_IPG_FLAG_WAITING 13\n",
      "Downloading (81/84)                    \n",
      "Got update: PGS_IPG_FLAG_WAITING 14\n",
      "Downloading (81/84)Got bad gateway error for issue #2865: retrying\n",
      "Got bad gateway error for issue #2881: retrying\n",
      "Downloading (81/84)                    Got bad gateway error for issue #3289: retrying\n",
      "Downloading (81/84)                    \n",
      "Got update: MPD_ALL_COMPLETE \n",
      "Got update: PGS_PDFTK_INFO_BEGIN \n",
      "Getting PDF Page Info (81/81)                    \n",
      "Got update: PGS_PDFTK_INFO_DONE \n",
      "Got update: PGS_PROCESS_PDFS_DONE \n",
      "Got update: PGS_PREPARE_POSTSCRIPT "
     ]
    },
    {
     "ename": "KeyError",
     "evalue": "Issue(author=User(name='James Small', id=42), custom_fields={...}, sprint_milestone=ResourceWithID(name='3.0', id=52), category=None, status=ResourceWithID(name='Unit Test', id=10), company=None, created_on=datetime.datetime(2015, 10, 29, 21, 10, 11, tzinfo=tzutc()), description='*+FRS2865+*\\r\\n!Alarm_Editor.png!\\r\\n*Image 1*: Alarm Editor Panel\\r\\n\\r\\n!Alarm_Editor_Numbered.png!\\r\\n*Image 2*: Numbered Mockup\\r\\n\\r\\n* *FRS2865.1:* Appearance\\r\\n** Item 1 is a path indicator labeled Filename\\r\\n** Item 2 is a Boolean button labeled Open\\r\\n** Item 3 is a Boolean button labeled Save\\r\\n** Item 4 is a Boolean button labeled Make Active\\r\\n** Item 5 is a Boolean button labeled Reset\\r\\n** Item 6 is an array control containing alarm condition enum followed by a cluster of checkboxes labeled at the top of each column with N, A, and E, with a key at the bottom defining each, N: Notify, A: Audible, E: Email.\\r\\n** Item 7 is an array control of strings. The control is labeled Email List.\\r\\n** Item 8 is a string control. The label is Subject.\\r\\n** Item 9 is a string control. The label is Return Address.\\r\\n** Item 10 is a string control. The label is Password. It will use password display.\\r\\n** Item 11 is a string control. The label is SMTP Server.\\r\\n** Item 12 is an integer control. The label is SMTP Port (587)\\r\\n** Item 13 is a Boolean button labeled Send a test email.\\r\\n** Item 14 is a checkbox labeled \"Enable SSL?\" with a \"TRUE\" when the box is checked and \"FALSE\" when it is unchecked.\\r\\n** Item 15 is a Boolean button labeled Add\\r\\n** Item 16 is a Boolean button labeled Delete\\r\\n\\r\\n* *FRS2865.2:* Functionality\\r\\n** *FRS2865.2.1*: When a change is made in the editor, the Shell navigation buttons will be grayed out.\\r\\n** *FRS2865.2.2*: On Initialization:\\r\\n*** When the editor is first opened, no file should be opened.\\r\\n*** Item 3, 4, and 5 will be disabled and grayed out.\\r\\n*** Item 6-11 will be blank.\\r\\n*** -Item 12 will have 587 in the control.-\\r\\n** *FRS2865.2.3*: Item 1 Actions\\r\\n*** *FRS2865.2.3.1*: If a file is currently loaded, it should indicate the currently edited file. \\r\\n*** *FRS2865.2.3.2*: If there is no current file, it should be empty.\\r\\n** *FRS2865.2.4*: Item 2 Actions\\r\\n*** *FRS2865.2.4.1*: Clicking on the item will show a custom file dialog box, allowing the user to select the desired Alarm files in LabVIEW Data folder.\\r\\n*** *FRS2865.2.4.2*: When an alarm file is opened, Item 4 and 5 will be enabled.\\r\\n*** *FRS2865.2.4.3*: The dialog must be modal.\\r\\n** *FRS2865.2.5*: Item 3 Actions:\\r\\n*** *FRS2865.2.5.1*: On click, will show a custom file dialog box in modal mode. \\r\\n*** *FRS2865.2.5.2*: User will be allowed to save the file as XXX.alm, where XXX is the name desired by the user.  \\r\\n*** *FRS2865.2.5.3*: It will have a \"Save\" and \"Cancel\" button.  \\r\\n*** *FRS2865.2.5.4*: Cancel just closes the dialog.  \\r\\n*** *FRS2865.2.5.5*: Save button actions, if the file name entered is valid:\\r\\n**** *FRS2865.2.5.5.1*: Save the file\\r\\n**** *FRS2865.2.5.5.2*: If the user edited any email options besides the email password, generate a user event recording the entire contents of the Email Alerts Settings.xml file.\\r\\n**** *FRS2865.2.5.5.3*: Also if the user edited the email password, generate a user event indicating the user changed the email password.\\r\\n**** *FRS2865.2.5.5.4*: The Shell navigation buttons the user has access to will no longer be grayed \\r\\n*** *FRS2865.2.5.6*: Save Button actions, if the file name entered is not valid:\\r\\n**** *FRS2865.2.5.6.1*: Show an alert that the user needs to enter a valid file name\\r\\n**** *FRS2865.2.5.6.2*: Return to previous state before the save\\r\\n** *FRS2865.2.6*: Item 4 Actions:\\r\\n*** *FRS2865.2.6.1*: If there are unsaved changes, or no file is open, gray out this button and don\\'t allow clicking it.\\r\\n*** *FRS2865.2.6.2*: Transfer the file to the RIO and update the alarm configuration. \\r\\n*** *FRS2865.2.6.3*: Generate a user event to database and include the contents of the file to be made active in the description.\\r\\n** *FRS2865.2.7*: Clicking item 5 will throw out all changes made by the user, reset the menu to show the contents of the saved file, and the Shell navigation buttons will no longer be grayed out.\\r\\n** *FRS2865.2.8*: When a user clicks on Item 13, the bioreactor will send a test email to the email addresses in the email list.\\r\\n** *FRS2865.2.9*: If there is an error, an error dialog will pop up.\\r\\n** -*FRS2865.2.10*: The tab order will be: 7, 8, 9, 10, 11-\\r\\n** *FRS2865.2.11*: When user press on Item 2 and 5 and there is unsaved changes, user will be prompted to continue or cancel. If the user press continue, the user action is performed. If the user press cancel, the program returns to the previous state.\\r\\n** *FRS2865.2.12*: Clicking on Item 14 when it is unmarked results in an X appearing in the box and the text that reads “FALSE” will change to read “TRUE”.  When Item 14 is marked, clicking on it results in the X disappearing from the box and the text that reads “TRUE” will change to read “FALSE”.\\r\\n** *FRS2865.2.13*: When a user clicks on Item 15, an onscreen keyboard will come up with a field labeled “Email List”.\\r\\n** *FRS2865.2.14*: When a user clicks on Item 16, the currently selected email in Item 7 will be deleted.', subject='Changes to Alarm editor', done_ratio=None, crm_reply_token=None, updated_on=datetime.datetime(2016, 12, 2, 19, 34, 52, tzinfo=tzutc()), id=2865, project=_Project(id=5, name='Software', identifier='pbssoftware', description='This project collects all issues and features in regards to software', parent=None, status=1, is_public=False, custom_fields={'Customer Information': {'value': None, 'id': '2', 'name': 'Customer Information'}}, created_on=datetime.datetime(2010, 10, 14, 10, 55, 55, tzinfo=tzutc()), updated_on=datetime.datetime(2010, 10, 14, 11, 7, 58, tzinfo=tzutc())), contact=None, priority=ResourceWithID(name='Normal', id=4), due_date=None, estimated_hours=1.5, tracker=ResourceWithID(name='Specification', id=13), parent=Issue(...), closed_on=None, start_date=datetime.datetime(2015, 10, 29, 0, 0), tracking_uri=None, assigned_to=User(name='James Small', id=42))",
     "output_type": "error",
     "traceback": [
      "\u001b[0;31m---------------------------------------------------------------------------\u001b[0m",
      "\u001b[0;31mKeyError\u001b[0m                                  Traceback (most recent call last)",
      "\u001b[0;32m<ipython-input-1-72f62fbd6101>\u001b[0m in \u001b[0;36m<module>\u001b[0;34m()\u001b[0m\n\u001b[1;32m     15\u001b[0m res = main(\"issue.pbsbiotech.com\", 'nstarkweather', 'kookychemist', 'pbssoftware', None, \n\u001b[1;32m     16\u001b[0m      \u001b[1;34m\"today\"\u001b[0m\u001b[1;33m,\u001b[0m \u001b[1;34m'Hello v3.0 FRS Update'\u001b[0m\u001b[1;33m,\u001b[0m \u001b[0mpdfpth\u001b[0m\u001b[1;33m,\u001b[0m \u001b[1;34m\"FRS Update\"\u001b[0m\u001b[1;33m,\u001b[0m\u001b[1;33m\u001b[0m\u001b[0m\n\u001b[0;32m---> 17\u001b[0;31m      \"IS00038C2 Rev A Functional Requirements Specification\")\n\u001b[0m\u001b[1;32m     18\u001b[0m \u001b[1;31m#os.startfile('\"%s\"'%res)\u001b[0m\u001b[1;33m\u001b[0m\u001b[1;33m\u001b[0m\u001b[0m\n\u001b[1;32m     19\u001b[0m \u001b[0mprint\u001b[0m\u001b[1;33m(\u001b[0m\u001b[1;33m)\u001b[0m\u001b[1;33m\u001b[0m\u001b[0m\n",
      "\u001b[0;32mC:\\Users\\Nathan\\Documents\\Personal\\PBS_Office\\MSOffice\\scripts\\tools\\issuetracker\\frs_update.py\u001b[0m in \u001b[0;36mmain\u001b[0;34m(domain, user, password, project, from_date, to_date, index_title, pdf_path, index_pdf_name, out_file_name)\u001b[0m\n\u001b[1;32m    501\u001b[0m     \u001b[1;32mdel\u001b[0m \u001b[0mpdf_thread\u001b[0m\u001b[1;33m\u001b[0m\u001b[0m\n\u001b[1;32m    502\u001b[0m     \u001b[0mstate\u001b[0m\u001b[1;33m.\u001b[0m\u001b[0mupdate\u001b[0m\u001b[1;33m(\u001b[0m\u001b[0mPGS_PREPARE_POSTSCRIPT\u001b[0m\u001b[1;33m)\u001b[0m\u001b[1;33m\u001b[0m\u001b[0m\n\u001b[0;32m--> 503\u001b[0;31m     \u001b[0msrc\u001b[0m\u001b[1;33m,\u001b[0m \u001b[0minput_files\u001b[0m \u001b[1;33m=\u001b[0m \u001b[0mmake_src\u001b[0m\u001b[1;33m(\u001b[0m\u001b[0missues\u001b[0m\u001b[1;33m,\u001b[0m \u001b[0mstate\u001b[0m\u001b[1;33m.\u001b[0m\u001b[0mipg_map\u001b[0m\u001b[1;33m,\u001b[0m \u001b[0mindex\u001b[0m\u001b[1;33m)\u001b[0m\u001b[1;33m\u001b[0m\u001b[0m\n\u001b[0m\u001b[1;32m    504\u001b[0m \u001b[1;33m\u001b[0m\u001b[0m\n\u001b[1;32m    505\u001b[0m \u001b[1;33m\u001b[0m\u001b[0m\n",
      "\u001b[0;32mC:\\Users\\Nathan\\Documents\\Personal\\PBS_Office\\MSOffice\\scripts\\tools\\issuetracker\\frs_update.py\u001b[0m in \u001b[0;36mmake_src\u001b[0;34m(issues, ipg_map, index)\u001b[0m\n\u001b[1;32m    393\u001b[0m \u001b[1;33m\u001b[0m\u001b[0m\n\u001b[1;32m    394\u001b[0m     \u001b[1;32mfor\u001b[0m \u001b[0miss\u001b[0m \u001b[1;32min\u001b[0m \u001b[0missues\u001b[0m\u001b[1;33m:\u001b[0m\u001b[1;33m\u001b[0m\u001b[0m\n\u001b[0;32m--> 395\u001b[0;31m         \u001b[0mnpgs\u001b[0m\u001b[1;33m,\u001b[0m \u001b[0mfp\u001b[0m \u001b[1;33m=\u001b[0m \u001b[0mipg_map\u001b[0m\u001b[1;33m[\u001b[0m\u001b[0miss\u001b[0m\u001b[1;33m]\u001b[0m\u001b[1;33m\u001b[0m\u001b[0m\n\u001b[0m\u001b[1;32m    396\u001b[0m         \u001b[0mtitle\u001b[0m \u001b[1;33m=\u001b[0m \u001b[1;34m\"Issue #%d: %s\"\u001b[0m \u001b[1;33m%\u001b[0m \u001b[1;33m(\u001b[0m\u001b[0miss\u001b[0m\u001b[1;33m.\u001b[0m\u001b[0mid\u001b[0m\u001b[1;33m,\u001b[0m \u001b[0miss\u001b[0m\u001b[1;33m.\u001b[0m\u001b[0msubject\u001b[0m\u001b[1;33m)\u001b[0m\u001b[1;33m\u001b[0m\u001b[0m\n\u001b[1;32m    397\u001b[0m         \u001b[0mprepare_input\u001b[0m\u001b[1;33m(\u001b[0m\u001b[0mi\u001b[0m\u001b[1;33m,\u001b[0m \u001b[0mfp\u001b[0m\u001b[1;33m,\u001b[0m \u001b[0mtitle\u001b[0m\u001b[1;33m,\u001b[0m \u001b[0msrc\u001b[0m\u001b[1;33m,\u001b[0m \u001b[0min_files\u001b[0m\u001b[1;33m)\u001b[0m\u001b[1;33m\u001b[0m\u001b[0m\n",
      "\u001b[0;31mKeyError\u001b[0m: Issue(author=User(name='James Small', id=42), custom_fields={...}, sprint_milestone=ResourceWithID(name='3.0', id=52), category=None, status=ResourceWithID(name='Unit Test', id=10), company=None, created_on=datetime.datetime(2015, 10, 29, 21, 10, 11, tzinfo=tzutc()), description='*+FRS2865+*\\r\\n!Alarm_Editor.png!\\r\\n*Image 1*: Alarm Editor Panel\\r\\n\\r\\n!Alarm_Editor_Numbered.png!\\r\\n*Image 2*: Numbered Mockup\\r\\n\\r\\n* *FRS2865.1:* Appearance\\r\\n** Item 1 is a path indicator labeled Filename\\r\\n** Item 2 is a Boolean button labeled Open\\r\\n** Item 3 is a Boolean button labeled Save\\r\\n** Item 4 is a Boolean button labeled Make Active\\r\\n** Item 5 is a Boolean button labeled Reset\\r\\n** Item 6 is an array control containing alarm condition enum followed by a cluster of checkboxes labeled at the top of each column with N, A, and E, with a key at the bottom defining each, N: Notify, A: Audible, E: Email.\\r\\n** Item 7 is an array control of strings. The control is labeled Email List.\\r\\n** Item 8 is a string control. The label is Subject.\\r\\n** Item 9 is a string control. The label is Return Address.\\r\\n** Item 10 is a string control. The label is Password. It will use password display.\\r\\n** Item 11 is a string control. The label is SMTP Server.\\r\\n** Item 12 is an integer control. The label is SMTP Port (587)\\r\\n** Item 13 is a Boolean button labeled Send a test email.\\r\\n** Item 14 is a checkbox labeled \"Enable SSL?\" with a \"TRUE\" when the box is checked and \"FALSE\" when it is unchecked.\\r\\n** Item 15 is a Boolean button labeled Add\\r\\n** Item 16 is a Boolean button labeled Delete\\r\\n\\r\\n* *FRS2865.2:* Functionality\\r\\n** *FRS2865.2.1*: When a change is made in the editor, the Shell navigation buttons will be grayed out.\\r\\n** *FRS2865.2.2*: On Initialization:\\r\\n*** When the editor is first opened, no file should be opened.\\r\\n*** Item 3, 4, and 5 will be disabled and grayed out.\\r\\n*** Item 6-11 will be blank.\\r\\n*** -Item 12 will have 587 in the control.-\\r\\n** *FRS2865.2.3*: Item 1 Actions\\r\\n*** *FRS2865.2.3.1*: If a file is currently loaded, it should indicate the currently edited file. \\r\\n*** *FRS2865.2.3.2*: If there is no current file, it should be empty.\\r\\n** *FRS2865.2.4*: Item 2 Actions\\r\\n*** *FRS2865.2.4.1*: Clicking on the item will show a custom file dialog box, allowing the user to select the desired Alarm files in LabVIEW Data folder.\\r\\n*** *FRS2865.2.4.2*: When an alarm file is opened, Item 4 and 5 will be enabled.\\r\\n*** *FRS2865.2.4.3*: The dialog must be modal.\\r\\n** *FRS2865.2.5*: Item 3 Actions:\\r\\n*** *FRS2865.2.5.1*: On click, will show a custom file dialog box in modal mode. \\r\\n*** *FRS2865.2.5.2*: User will be allowed to save the file as XXX.alm, where XXX is the name desired by the user.  \\r\\n*** *FRS2865.2.5.3*: It will have a \"Save\" and \"Cancel\" button.  \\r\\n*** *FRS2865.2.5.4*: Cancel just closes the dialog.  \\r\\n*** *FRS2865.2.5.5*: Save button actions, if the file name entered is valid:\\r\\n**** *FRS2865.2.5.5.1*: Save the file\\r\\n**** *FRS2865.2.5.5.2*: If the user edited any email options besides the email password, generate a user event recording the entire contents of the Email Alerts Settings.xml file.\\r\\n**** *FRS2865.2.5.5.3*: Also if the user edited the email password, generate a user event indicating the user changed the email password.\\r\\n**** *FRS2865.2.5.5.4*: The Shell navigation buttons the user has access to will no longer be grayed \\r\\n*** *FRS2865.2.5.6*: Save Button actions, if the file name entered is not valid:\\r\\n**** *FRS2865.2.5.6.1*: Show an alert that the user needs to enter a valid file name\\r\\n**** *FRS2865.2.5.6.2*: Return to previous state before the save\\r\\n** *FRS2865.2.6*: Item 4 Actions:\\r\\n*** *FRS2865.2.6.1*: If there are unsaved changes, or no file is open, gray out this button and don\\'t allow clicking it.\\r\\n*** *FRS2865.2.6.2*: Transfer the file to the RIO and update the alarm configuration. \\r\\n*** *FRS2865.2.6.3*: Generate a user event to database and include the contents of the file to be made active in the description.\\r\\n** *FRS2865.2.7*: Clicking item 5 will throw out all changes made by the user, reset the menu to show the contents of the saved file, and the Shell navigation buttons will no longer be grayed out.\\r\\n** *FRS2865.2.8*: When a user clicks on Item 13, the bioreactor will send a test email to the email addresses in the email list.\\r\\n** *FRS2865.2.9*: If there is an error, an error dialog will pop up.\\r\\n** -*FRS2865.2.10*: The tab order will be: 7, 8, 9, 10, 11-\\r\\n** *FRS2865.2.11*: When user press on Item 2 and 5 and there is unsaved changes, user will be prompted to continue or cancel. If the user press continue, the user action is performed. If the user press cancel, the program returns to the previous state.\\r\\n** *FRS2865.2.12*: Clicking on Item 14 when it is unmarked results in an X appearing in the box and the text that reads “FALSE” will change to read “TRUE”.  When Item 14 is marked, clicking on it results in the X disappearing from the box and the text that reads “TRUE” will change to read “FALSE”.\\r\\n** *FRS2865.2.13*: When a user clicks on Item 15, an onscreen keyboard will come up with a field labeled “Email List”.\\r\\n** *FRS2865.2.14*: When a user clicks on Item 16, the currently selected email in Item 7 will be deleted.', subject='Changes to Alarm editor', done_ratio=None, crm_reply_token=None, updated_on=datetime.datetime(2016, 12, 2, 19, 34, 52, tzinfo=tzutc()), id=2865, project=_Project(id=5, name='Software', identifier='pbssoftware', description='This project collects all issues and features in regards to software', parent=None, status=1, is_public=False, custom_fields={'Customer Information': {'value': None, 'id': '2', 'name': 'Customer Information'}}, created_on=datetime.datetime(2010, 10, 14, 10, 55, 55, tzinfo=tzutc()), updated_on=datetime.datetime(2010, 10, 14, 11, 7, 58, tzinfo=tzutc())), contact=None, priority=ResourceWithID(name='Normal', id=4), due_date=None, estimated_hours=1.5, tracker=ResourceWithID(name='Specification', id=13), parent=Issue(...), closed_on=None, start_date=datetime.datetime(2015, 10, 29, 0, 0), tracking_uri=None, assigned_to=User(name='James Small', id=42))"
     ]
    }
   ],
   "source": [
    "from scripts.tools.issuetracker.frs_update import main\n",
    "import shutil\n",
    "import datetime\n",
    "\n",
    "def bt():\n",
    "    return datetime.date.today().strftime(\"%y%m%d\")\n",
    "    \n",
    "pdfpth = \"Software_FRS_\" + bt()\n",
    "\n",
    "try:\n",
    "    shutil.rmtree(pdfpth)\n",
    "except FileNotFoundError:\n",
    "    pass\n",
    "print(\"Begin Main\", flush=True)\n",
    "res = main(\"issue.pbsbiotech.com\", 'nstarkweather', 'kookychemist', 'pbssoftware', None, \n",
    "     \"today\", 'Hello v3.0 FRS Update', pdfpth, \"FRS Update\", \n",
    "     \"IS00038C2 Rev A Functional Requirements Specification\")\n",
    "#os.startfile('\"%s\"'%res)\n",
    "print()\n",
    "print(\"Done\")"
   ]
  },
  {
   "cell_type": "code",
   "execution_count": null,
   "metadata": {
    "collapsed": true
   },
   "outputs": [],
   "source": []
  }
 ],
 "metadata": {
  "kernelspec": {
   "display_name": "Python 3",
   "language": "python",
   "name": "python3"
  },
  "language_info": {
   "codemirror_mode": {
    "name": "ipython",
    "version": 3
   },
   "file_extension": ".py",
   "mimetype": "text/x-python",
   "name": "python",
   "nbconvert_exporter": "python",
   "pygments_lexer": "ipython3",
   "version": "3.5.2"
  }
 },
 "nbformat": 4,
 "nbformat_minor": 1
}
