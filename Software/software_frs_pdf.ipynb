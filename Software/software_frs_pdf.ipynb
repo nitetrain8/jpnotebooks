{
 "cells": [
  {
   "cell_type": "code",
   "execution_count": 1,
   "metadata": {
    "collapsed": false
   },
   "outputs": [],
   "source": [
    "import os\n",
    "os.chdir(os.path.join(os.path.abspath(os.path.expanduser(\"~\")), \"Documents\", \"Personal\", \"Test\"))\n",
    "from scripts.tools.issuetracker import IssuetrackerAPI as _ISAPI, Issue\n",
    "import pickle\n",
    "\n",
    "import datetime, dateutil\n",
    "from_date = datetime.datetime(2016, 6, 1, tzinfo=dateutil.tz.tzutc())\n",
    "today =datetime.date.today()\n",
    "to_date = datetime.datetime(today.year, today.month, today.day, tzinfo=dateutil.tz.tzutc())\n",
    "\n",
    "\n",
    "class IssuetrackerAPI(_ISAPI):\n",
    "    \n",
    "    def make_pickle_cache(self, *args):\n",
    "        issues = super().download_issues(*args)\n",
    "        with open(\"gantt_dummy.pkl\", 'wb') as f:\n",
    "            pickle.dump(issues, f)\n",
    "        return issues\n",
    "    def download_issues(self, *args):\n",
    "        if not os.path.exists(\"gantt_dummy.pkl\"):\n",
    "            return self.make_pickle_cache(*args)\n",
    "        else:\n",
    "            with open(\"gantt_dummy.pkl\", 'rb') as f:\n",
    "                try:\n",
    "                    issues = pickle.load(f)\n",
    "                except (pickle.PickleError, OSError, EOFError):\n",
    "                    pass\n",
    "                else:\n",
    "                    return issues\n",
    "            return self.make_pickle_cache(*args)\n",
    "        return issues\n"
   ]
  },
  {
   "cell_type": "code",
   "execution_count": 2,
   "metadata": {
    "collapsed": true
   },
   "outputs": [
    {
     "name": "stdout",
     "output_type": "stream",
     "text": [
      "Begin Main\n",
      "\n",
      "Logging into Issuetracker...Downloading projects...\n",
      "Downloading issues: 671/671      \n",
      "\n",
      "Got update: PGS_BEGIN_PROCESS_PDFS \n",
      "Creating PDF Index...\n",
      "Creating Word Document...\n",
      "Creating index 1 of 34\n",
      "Downloading 34 items ...\n",
      "Creating index 6 of 34                    \n",
      "Downloading 34 items ...\n",
      "Creating index 9 of 34                    \n",
      "Downloading 34 items ...\n",
      "Creating index 16 of 34                    \n",
      "Downloading 34 items ...\n",
      "Creating index 22 of 34                    \n",
      "Downloading 34 items ...\n",
      "Creating index 29 of 34                    \n",
      "Downloading (3/34)\n",
      "Creating index 34 of 34                    \n",
      "Downloading (6/34)\n",
      "Got update: PGS_IPG_FLAG_WAITING \n",
      "Downloading (34/34)                    \n",
      "Got update: MPD_ALL_COMPLETE \n",
      "Got update: PGS_PDFTK_INFO_BEGIN \n",
      "Getting PDF Page Info (29/34)\n",
      "Got update: PGS_IPG_FLAG_WAITING 2\n",
      "Getting PDF Page Info (34/34)\n",
      "Got update: PGS_PDFTK_INFO_DONE \n",
      "Got update: PGS_PROCESS_PDFS_DONE \n",
      "Got update: PGS_PREPARE_POSTSCRIPT \n",
      "Got update: PGS_BEGIN_BIND_PDF \n",
      "Got update: PGS_DONE \n",
      "Done\n"
     ]
    }
   ],
   "source": [
    "from officelib import wordlib\n",
    "from scripts.tools.issuetracker.frs_update import main\n",
    "import shutil\n",
    "word = wordlib.Word()\n",
    "pdfpth = \"pdfs6\"\n",
    "try:\n",
    "    word.ActiveDocument.Close(False)\n",
    "except:\n",
    "    pass\n",
    "try:\n",
    "    shutil.rmtree(pdfpth)\n",
    "except FileNotFoundError:\n",
    "    pass\n",
    "print(\"Begin Main\", flush=True)\n",
    "res = main(\"issue.pbsbiotech.com\", 'nstarkweather', 'kookychemist', 'pbssoftware', \"2016-6-1\", \n",
    "     \"today\", 'Hello v3.0 FRS Update', pdfpth, \"FRS Update\", \n",
    "     \"IS00038B2 Rev A Functional Requirements Specification Updates\")\n",
    "#os.startfile('\"%s\"'%res)\n",
    "print()\n",
    "print(\"Done\")"
   ]
  },
  {
   "cell_type": "code",
   "execution_count": 3,
   "metadata": {
    "collapsed": false
   },
   "outputs": [
    {
     "name": "stdout",
     "output_type": "stream",
     "text": [
      "Begin Main\n",
      "\n",
      "Logging into Issuetracker...Downloading projects...\n",
      "Downloading issues: 664/664      \n",
      "\n",
      "Got update: PGS_BEGIN_PROCESS_PDFS \n",
      "Creating PDF Index...\n",
      "Creating Word Document...\n",
      "Creating index 17 of 86                    \n",
      "Downloading 86 items ...\n",
      "Creating index 48 of 86                    \n",
      "Downloading (6/86)\n",
      "Creating index 81 of 86                    \n",
      "Downloading (14/86)\n",
      "Creating index 86 of 86                    \n",
      "Got update: PGS_IPG_FLAG_WAITING \n",
      "Downloading (63/86)                    \n",
      "Got update: PGS_IPG_FLAG_WAITING 2\n",
      "Downloading (86/86)                    \n",
      "Got update: MPD_ALL_COMPLETE \n",
      "Got update: PGS_PDFTK_INFO_BEGIN \n",
      "Getting PDF Page Info (86/86)                    \n",
      "Got update: PGS_PDFTK_INFO_DONE \n",
      "Got update: PGS_PROCESS_PDFS_DONE \n",
      "Got update: PGS_PREPARE_POSTSCRIPT \n",
      "Got update: PGS_BEGIN_BIND_PDF \n",
      "Got update: PGS_DONE \n",
      "Done\n"
     ]
    }
   ],
   "source": [
    "# 3/2/2017\n",
    "from officelib import wordlib\n",
    "from scripts.tools.issuetracker.frs_update import main\n",
    "import shutil\n",
    "word = wordlib.Word()\n",
    "pdfpth = \"Software_FRS_170302\"\n",
    "try:\n",
    "    word.ActiveDocument.Close(False)\n",
    "except:\n",
    "    pass\n",
    "try:\n",
    "    shutil.rmtree(pdfpth)\n",
    "except FileNotFoundError:\n",
    "    pass\n",
    "print(\"Begin Main\", flush=True)\n",
    "res = main(\"issue.pbsbiotech.com\", 'nstarkweather', 'kookychemist', 'pbssoftware', None, \n",
    "     \"today\", 'Hello v3.0 FRS Update', pdfpth, \"FRS Update\", \n",
    "     \"IS00038B2 Rev A Functional Requirements Specification\")\n",
    "#os.startfile('\"%s\"'%res)\n",
    "print()\n",
    "print(\"Done\")"
   ]
  },
  {
   "cell_type": "code",
   "execution_count": null,
   "metadata": {
    "collapsed": true
   },
   "outputs": [],
   "source": []
  }
 ],
 "metadata": {
  "kernelspec": {
   "display_name": "Python 3",
   "language": "python",
   "name": "python3"
  },
  "language_info": {
   "codemirror_mode": {
    "name": "ipython",
    "version": 3
   },
   "file_extension": ".py",
   "mimetype": "text/x-python",
   "name": "python",
   "nbconvert_exporter": "python",
   "pygments_lexer": "ipython3",
   "version": "3.5.2"
  }
 },
 "nbformat": 4,
 "nbformat_minor": 1
}
