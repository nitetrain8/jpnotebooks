{
 "cells": [
  {
   "cell_type": "code",
   "execution_count": 1,
   "metadata": {},
   "outputs": [],
   "source": [
    "import os\n",
    "os.chdir(os.path.join(os.path.abspath(os.path.expanduser(\"~\")), \"Documents\", \"Personal\", \"Test\"))\n",
    "from scripts.tools.issuetracker import IssuetrackerAPI as _ISAPI, Issue\n",
    "import pickle\n",
    "\n",
    "import datetime, dateutil\n",
    "from_date = datetime.datetime(2016, 6, 1, tzinfo=dateutil.tz.tzutc())\n",
    "today =datetime.date.today()\n",
    "to_date = datetime.datetime(today.year, today.month, today.day, tzinfo=dateutil.tz.tzutc())\n",
    "\n",
    "\n",
    "class IssuetrackerAPI(_ISAPI):\n",
    "    \n",
    "    def make_pickle_cache(self, *args):\n",
    "        issues = super().download_issues(*args)\n",
    "        with open(\"gantt_dummy.pkl\", 'wb') as f:\n",
    "            pickle.dump(issues, f)\n",
    "        return issues\n",
    "    def download_issues(self, *args):\n",
    "        if not os.path.exists(\"gantt_dummy.pkl\"):\n",
    "            return self.make_pickle_cache(*args)\n",
    "        else:\n",
    "            with open(\"gantt_dummy.pkl\", 'rb') as f:\n",
    "                try:\n",
    "                    issues = pickle.load(f)\n",
    "                except (pickle.PickleError, OSError, EOFError):\n",
    "                    pass\n",
    "                else:\n",
    "                    return issues\n",
    "            return self.make_pickle_cache(*args)\n",
    "        return issues\n"
   ]
  },
  {
   "cell_type": "markdown",
   "metadata": {},
   "source": [
    "# 8/15/17"
   ]
  },
  {
   "cell_type": "code",
   "execution_count": 2,
   "metadata": {
    "scrolled": false
   },
   "outputs": [
    {
     "name": "stdout",
     "output_type": "stream",
     "text": [
      "Begin Main\n",
      "\n",
      "Logging into Issuetracker...Downloading projects...\n",
      "Downloading issues: 502/502      \n",
      "\n",
      "Got update: PGS_BEGIN_PROCESS_PDFS \n",
      "Creating PDF Index...\n",
      "Creating Word Document...\n",
      "Creating index 14 of 92                    \n",
      "Downloading 92 items ...\n",
      "Creating index 40 of 92                    \n",
      "Downloading (11/92)\n",
      "Creating index 65 of 92                    \n",
      "Downloading (24/92)\n",
      "Creating index 92 of 92                    \n",
      "Downloading (42/92)\n",
      "Got update: PGS_IPG_FLAG_WAITING \n",
      "Empty Queue, exiting download worker #0\n",
      "Empty Queue, exiting download worker #1\n",
      "Empty Queue, exiting download worker #3\n",
      "Empty Queue, exiting download worker #7\n",
      "Empty Queue, exiting download worker #6\n",
      "Empty Queue, exiting download worker #5\n",
      "Empty Queue, exiting download worker #4\n",
      "Empty Queue, exiting download worker #2\n",
      "Downloading (92/92)                    \n",
      "Got update: MPD_ALL_COMPLETE \n",
      "Got update: PGS_PDFTK_INFO_BEGIN \n",
      "Getting PDF Page Info (92/92)                    \n",
      "Got update: PGS_PDFTK_INFO_DONE \n",
      "Got update: PGS_PROCESS_PDFS_DONE \n",
      "Got update: PGS_PREPARE_POSTSCRIPT \n",
      "Got update: PGS_BEGIN_BIND_PDF \n",
      "Got update: PGS_DONE \n",
      "Done\n"
     ]
    }
   ],
   "source": [
    "from scripts.tools.issuetracker.frs_update import main\n",
    "import shutil\n",
    "import datetime\n",
    "\n",
    "def bt():\n",
    "    return datetime.date.today().strftime(\"%y%m%d\")\n",
    "    \n",
    "pdfpth = \"Software_FRS_\" + bt()\n",
    "\n",
    "try:\n",
    "    shutil.rmtree(pdfpth)\n",
    "except FileNotFoundError:\n",
    "    pass\n",
    "print(\"Begin Main\", flush=True)\n",
    "res = main(\"issue.pbsbiotech.com\", 'nstarkweather', 'kookychemist', 'pbssoftware', None, \n",
    "     \"today\", 'Hello v3.0 FRS Update', pdfpth, \"FRS Update\", \n",
    "     \"IS00038D2 Rev A Functional Requirements Specification\")\n",
    "#os.startfile('\"%s\"'%res)\n",
    "print()\n",
    "print(\"Done\")"
   ]
  },
  {
   "cell_type": "code",
   "execution_count": 3,
   "metadata": {},
   "outputs": [
    {
     "data": {
      "text/plain": [
       "'Software_FRS_171127\\\\IS00038D2 Rev A Functional Requirements Specification.pdf'"
      ]
     },
     "execution_count": 3,
     "metadata": {},
     "output_type": "execute_result"
    }
   ],
   "source": [
    "res"
   ]
  },
  {
   "cell_type": "code",
   "execution_count": null,
   "metadata": {},
   "outputs": [],
   "source": []
  }
 ],
 "metadata": {
  "kernelspec": {
   "display_name": "Python 3",
   "language": "python",
   "name": "python3"
  },
  "language_info": {
   "codemirror_mode": {
    "name": "ipython",
    "version": 3
   },
   "file_extension": ".py",
   "mimetype": "text/x-python",
   "name": "python",
   "nbconvert_exporter": "python",
   "pygments_lexer": "ipython3",
   "version": "3.5.2"
  }
 },
 "nbformat": 4,
 "nbformat_minor": 1
}
