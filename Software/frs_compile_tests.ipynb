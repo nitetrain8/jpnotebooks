{
 "cells": [
  {
   "cell_type": "code",
   "execution_count": 1,
   "metadata": {},
   "outputs": [],
   "source": [
    "from scripts.software_frs import frs_traceability2\n",
    "from officelib.xllib import *\n",
    "from officelib.const import xlconst as xlc\n",
    "import sys\n",
    "import os"
   ]
  },
  {
   "cell_type": "code",
   "execution_count": 2,
   "metadata": {},
   "outputs": [],
   "source": [
    "# caching scheme for test purposes. \n",
    "try:\n",
    "    _cache\n",
    "except NameError:\n",
    "    _cache = None\n",
    "\n",
    "try:\n",
    "    _lffi\n",
    "except NameError:\n",
    "    _lffi = frs_traceability2.load_frs_from_issuetracker\n",
    "    \n",
    "def load_frs_from_issuetracker():\n",
    "    global _cache\n",
    "    if _cache is None:\n",
    "        frs = _lffi()\n",
    "        _cache = frs\n",
    "    else:\n",
    "        frs = _cache\n",
    "    return frs\n",
    "\n",
    "frs_traceability2.load_frs_from_issuetracker = load_frs_from_issuetracker"
   ]
  },
  {
   "cell_type": "code",
   "execution_count": 3,
   "metadata": {},
   "outputs": [],
   "source": [
    "def ws_data(ws):\n",
    "    cr = ws.Cells.Range\n",
    "    first = cr(\"A2\")\n",
    "    last_col = cr(\"A1\").End(xlc.xlToRight).Column\n",
    "    last = first.End(xlc.xlDown).Offset(1, last_col)\n",
    "    return cr(first, last).Value\n",
    "\n",
    "def split_frs(frs):\n",
    "    return [f for f in frs.split() if f]\n",
    "\n",
    "def load_test_list(user_tests):\n",
    "    xl = Excel(visible=False)\n",
    "    with HiddenXl(xl):\n",
    "        wb = xl.Workbooks.Open(user_tests)\n",
    "        ws = wb.Worksheets(1)\n",
    "        id_test, name, purpose, start, steps, accept, frs = \\\n",
    "                        frs_traceability2.find_cols(ws, \n",
    "                            \"ID_TEST\", \"NAME\", \"PURPOSE\", \"STARTING POINT\", \n",
    "                            \"STEPS\", \"ACCEPTANCE_CRITERIA\", \"List Web FRS\")\n",
    "        data = ws_data(ws)\n",
    "    \n",
    "    wb.Close(False)\n",
    "    xl.Quit()\n",
    "    \n",
    "    res = []\n",
    "    for row in data:\n",
    "        i = row[id_test]\n",
    "        n = row[name]\n",
    "        p = row[purpose]\n",
    "        sta = row[start]\n",
    "        ste = row[steps]\n",
    "        a = row[accept]\n",
    "        f = row[frs]\n",
    "        if not f: continue\n",
    "        res.append((i, n, p, sta, ste, a, split_frs(f)))\n",
    "    res.sort(key=lambda t: t[0])\n",
    "    return res"
   ]
  },
  {
   "cell_type": "code",
   "execution_count": 4,
   "metadata": {},
   "outputs": [],
   "source": [
    "def node_data(node):\n",
    "    return node.id, node.text.strip()\n",
    "\n",
    "def make_frs_line(items):\n",
    "    lines = []\n",
    "    items2 = sorted(items, key=frs_traceability2.sort_frs_item)\n",
    "    for id, line in items2:\n",
    "        if not line:\n",
    "            lines.append(\"%s\" % id)\n",
    "        else:\n",
    "            lines.append(\"%s: %s\" % (id, line.rstrip()))\n",
    "    return \"\\n\".join(lines)\n",
    "\n",
    "def ifmt(i):\n",
    "    if int(i) == i:\n",
    "        return \"%d\" % i\n",
    "    return \"%s\" % i\n",
    "\n",
    "def write_test(reqs, test, file):\n",
    "    tmplt = _frs_tmplt\n",
    "    i, name, p, sta, ste, a, frs = test\n",
    "    items = set()\n",
    "    for f in frs:\n",
    "        node = reqs.lookup(f)\n",
    "        if not node: raise ValueError(f)\n",
    "        if node.is_na(): continue\n",
    "        items.add((node.id, node.text))\n",
    "        indent = node.id.count(\".\")\n",
    "        for n in node.iter():\n",
    "            nindent = n.id.count(\".\") - indent\n",
    "            items.add((\" \" * nindent + n.id, n.text))\n",
    "    frs_line = make_frs_line(items)\n",
    "    s = tmplt % (ifmt(i), name, frs_line, p.rstrip(), sta.rstrip(), ste.rstrip(), a.rstrip())\n",
    "    print(s, file=file)"
   ]
  },
  {
   "cell_type": "code",
   "execution_count": 5,
   "metadata": {},
   "outputs": [
    {
     "ename": "AttributeError",
     "evalue": "module 'scripts.software_frs.frs_traceability2' has no attribute 'download_relevant_issues'",
     "output_type": "error",
     "traceback": [
      "\u001b[1;31m---------------------------------------------------------------------------\u001b[0m",
      "\u001b[1;31mNameError\u001b[0m                                 Traceback (most recent call last)",
      "\u001b[1;32m<ipython-input-5-8f4d636b1546>\u001b[0m in \u001b[0;36m<module>\u001b[1;34m()\u001b[0m\n\u001b[0;32m     11\u001b[0m \u001b[1;32mtry\u001b[0m\u001b[1;33m:\u001b[0m\u001b[1;33m\u001b[0m\u001b[0m\n\u001b[1;32m---> 12\u001b[1;33m     \u001b[0m_dl\u001b[0m\u001b[1;33m\u001b[0m\u001b[0m\n\u001b[0m\u001b[0;32m     13\u001b[0m \u001b[1;32mexcept\u001b[0m \u001b[0mNameError\u001b[0m\u001b[1;33m:\u001b[0m\u001b[1;33m\u001b[0m\u001b[0m\n",
      "\u001b[1;31mNameError\u001b[0m: name '_dl' is not defined",
      "\nDuring handling of the above exception, another exception occurred:\n",
      "\u001b[1;31mAttributeError\u001b[0m                            Traceback (most recent call last)",
      "\u001b[1;32m<ipython-input-5-8f4d636b1546>\u001b[0m in \u001b[0;36m<module>\u001b[1;34m()\u001b[0m\n\u001b[0;32m     12\u001b[0m     \u001b[0m_dl\u001b[0m\u001b[1;33m\u001b[0m\u001b[0m\n\u001b[0;32m     13\u001b[0m \u001b[1;32mexcept\u001b[0m \u001b[0mNameError\u001b[0m\u001b[1;33m:\u001b[0m\u001b[1;33m\u001b[0m\u001b[0m\n\u001b[1;32m---> 14\u001b[1;33m     \u001b[0m_dl\u001b[0m \u001b[1;33m=\u001b[0m \u001b[0mfrs_traceability2\u001b[0m\u001b[1;33m.\u001b[0m\u001b[0mdownload_relevant_issues\u001b[0m\u001b[1;33m\u001b[0m\u001b[0m\n\u001b[0m\u001b[0;32m     15\u001b[0m     \u001b[0mfrs_traceability2\u001b[0m\u001b[1;33m.\u001b[0m\u001b[0mdownload_relevant_issues\u001b[0m \u001b[1;33m=\u001b[0m \u001b[0mdownload_relevant_issues\u001b[0m\u001b[1;33m\u001b[0m\u001b[0m\n",
      "\u001b[1;31mAttributeError\u001b[0m: module 'scripts.software_frs.frs_traceability2' has no attribute 'download_relevant_issues'"
     ]
    }
   ],
   "source": [
    "_c = \"cache.pkl\"\n",
    "import os, pickle\n",
    "def download_relevant_issues():\n",
    "    global _c\n",
    "    if os.path.exists(_c):\n",
    "        return pickle.load(open(_c, 'rb'))\n",
    "    else:\n",
    "        d = _dl()\n",
    "        pickle.dump(d, open(_c, 'wb'))\n",
    "        return d\n",
    "try:\n",
    "    _dl\n",
    "except NameError:\n",
    "    _dl = frs_traceability2.download_relevant_issues\n",
    "    frs_traceability2.download_relevant_issues = download_relevant_issues"
   ]
  },
  {
   "cell_type": "code",
   "execution_count": 6,
   "metadata": {},
   "outputs": [],
   "source": [
    "try:\n",
    "    _reqs\n",
    "except NameError:\n",
    "    _reqs = None\n",
    "\n",
    "def main(user_tests, unit_tests, code_reviews, fp=None):\n",
    "    global _reqs\n",
    "    reqs = _reqs or frs_traceability2.full_frs_tree(user_tests, unit_tests, code_reviews)\n",
    "    _reqs = reqs\n",
    "    test_list = load_test_list(user_tests)\n",
    "    if fp is None:\n",
    "        f = sys.stdout\n",
    "        close = False\n",
    "    else:\n",
    "        f = open(fp, 'w')\n",
    "        close = True\n",
    "    try:\n",
    "        for test in test_list: write_test(reqs, test, f)\n",
    "    finally:\n",
    "        if close:\n",
    "            f.close()\n",
    "    "
   ]
  },
  {
   "cell_type": "code",
   "execution_count": 7,
   "metadata": {},
   "outputs": [],
   "source": [
    "trace_path = \"C:\\\\Users\\\\Nathan\\\\Documents\\\\PBS\\\\SW test\\\\3.0 User Test\\\\Traceability\"\n",
    "user_tests = \"Hello tests 161122 1.xlsx\"\n",
    "unit_tests = \"Traceability Matrix (Reqs and VI) 161123.csv\"\n",
    "code_review_path = '\\\\\\\\PBSSTATION\\\\PBSCloudShare\\\\(2) R&D-Product Engineering\\\\Software Development\\\\3.0 Project\\\\Phase 2 Working Copy\\\\IS00038B6 Rev A Code Reviews\\\\'\n",
    "p1 = os.path.join(trace_path, user_tests)\n",
    "p2 = os.path.join(trace_path, unit_tests)\n",
    "p3 = code_review_path"
   ]
  },
  {
   "cell_type": "code",
   "execution_count": 8,
   "metadata": {},
   "outputs": [],
   "source": [
    "_frs_tmplt = \\\n",
    "\"\"\"\n",
    "=============================================\n",
    "Id: %s\n",
    "Name: %s\n",
    "=============================================\n",
    "FRS:\n",
    "%s\n",
    "\n",
    "Purpose: %s\n",
    "\n",
    "Starting Point:\n",
    "%s\n",
    "\n",
    "Steps:\n",
    "%s\n",
    "\n",
    "Acceptance Criteria:\n",
    "%s\n",
    "\"\"\""
   ]
  },
  {
   "cell_type": "code",
   "execution_count": 9,
   "metadata": {},
   "outputs": [],
   "source": [
    "from datetime import date\n",
    "def dateify(f):\n",
    "    a, b = f.split(\".\")\n",
    "    t = date.today()\n",
    "    a += \"_\" + t.strftime(\"%y%m%d\")\n",
    "    return \".\".join((a,b))"
   ]
  },
  {
   "cell_type": "code",
   "execution_count": 10,
   "metadata": {},
   "outputs": [
    {
     "name": "stdout",
     "output_type": "stream",
     "text": [
      "Downloading FRS items from issuetracker...\n",
      "Loading User Test Matrix...\n",
      "Loading Unit Test Matrix...\n",
      "Loading Code Review Matrix...\n"
     ]
    }
   ],
   "source": [
    "_reqs = None\n",
    "#os.remove(_relcache)\n",
    "f = \"frs.txt\"\n",
    "f = dateify(f)\n",
    "main(p1, p2, p3, f)\n",
    "os.startfile(f)"
   ]
  },
  {
   "cell_type": "code",
   "execution_count": 11,
   "metadata": {
    "scrolled": true
   },
   "outputs": [
    {
     "name": "stdout",
     "output_type": "stream",
     "text": [
      "Downloading FRS items from issuetracker...\n",
      "Downloading projects...\n",
      "Downloading issues: 663/663      \n",
      "Loading User Test Matrix...\n",
      "Loading Unit Test Matrix...\n",
      "Loading Code Review Matrix...\n"
     ]
    },
    {
     "ename": "TypeError",
     "evalue": "This COM object can not automate the makepy process - please run makepy manually for this object",
     "output_type": "error",
     "traceback": [
      "\u001b[0;31m---------------------------------------------------------------------------\u001b[0m",
      "\u001b[0;31mcom_error\u001b[0m                                 Traceback (most recent call last)",
      "\u001b[0;32mc:\\program files\\python35\\lib\\site-packages\\win32com\\client\\gencache.py\u001b[0m in \u001b[0;36mEnsureDispatch\u001b[0;34m(prog_id, bForDemand)\u001b[0m\n\u001b[1;32m    535\u001b[0m                 \u001b[1;32mtry\u001b[0m\u001b[1;33m:\u001b[0m\u001b[1;33m\u001b[0m\u001b[0m\n\u001b[0;32m--> 536\u001b[0;31m                         \u001b[0mti\u001b[0m \u001b[1;33m=\u001b[0m \u001b[0mdisp\u001b[0m\u001b[1;33m.\u001b[0m\u001b[0m_oleobj_\u001b[0m\u001b[1;33m.\u001b[0m\u001b[0mGetTypeInfo\u001b[0m\u001b[1;33m(\u001b[0m\u001b[1;33m)\u001b[0m\u001b[1;33m\u001b[0m\u001b[0m\n\u001b[0m\u001b[1;32m    537\u001b[0m                         \u001b[0mdisp_clsid\u001b[0m \u001b[1;33m=\u001b[0m \u001b[0mti\u001b[0m\u001b[1;33m.\u001b[0m\u001b[0mGetTypeAttr\u001b[0m\u001b[1;33m(\u001b[0m\u001b[1;33m)\u001b[0m\u001b[1;33m[\u001b[0m\u001b[1;36m0\u001b[0m\u001b[1;33m]\u001b[0m\u001b[1;33m\u001b[0m\u001b[0m\n",
      "\u001b[0;31mcom_error\u001b[0m: (-2147418111, 'Call was rejected by callee.', None, None)",
      "\nDuring handling of the above exception, another exception occurred:\n",
      "\u001b[0;31mTypeError\u001b[0m                                 Traceback (most recent call last)",
      "\u001b[0;32m<ipython-input-11-7bc51d639730>\u001b[0m in \u001b[0;36m<module>\u001b[0;34m()\u001b[0m\n\u001b[0;32m----> 1\u001b[0;31m \u001b[0mmain\u001b[0m\u001b[1;33m(\u001b[0m\u001b[0mp1\u001b[0m\u001b[1;33m,\u001b[0m \u001b[0mp2\u001b[0m\u001b[1;33m,\u001b[0m \u001b[0mp3\u001b[0m\u001b[1;33m)\u001b[0m\u001b[1;33m\u001b[0m\u001b[0m\n\u001b[0m",
      "\u001b[0;32m<ipython-input-6-8daf8f729629>\u001b[0m in \u001b[0;36mmain\u001b[0;34m(user_tests, unit_tests, code_reviews, fp)\u001b[0m\n\u001b[1;32m      8\u001b[0m     \u001b[0mreqs\u001b[0m \u001b[1;33m=\u001b[0m \u001b[0m_reqs\u001b[0m \u001b[1;32mor\u001b[0m \u001b[0mfrs_traceability2\u001b[0m\u001b[1;33m.\u001b[0m\u001b[0mfull_frs_tree\u001b[0m\u001b[1;33m(\u001b[0m\u001b[0muser_tests\u001b[0m\u001b[1;33m,\u001b[0m \u001b[0munit_tests\u001b[0m\u001b[1;33m,\u001b[0m \u001b[0mcode_reviews\u001b[0m\u001b[1;33m)\u001b[0m\u001b[1;33m\u001b[0m\u001b[0m\n\u001b[1;32m      9\u001b[0m     \u001b[0m_reqs\u001b[0m \u001b[1;33m=\u001b[0m \u001b[0mreqs\u001b[0m\u001b[1;33m\u001b[0m\u001b[0m\n\u001b[0;32m---> 10\u001b[0;31m     \u001b[0mtest_list\u001b[0m \u001b[1;33m=\u001b[0m \u001b[0mload_test_list\u001b[0m\u001b[1;33m(\u001b[0m\u001b[0muser_tests\u001b[0m\u001b[1;33m)\u001b[0m\u001b[1;33m\u001b[0m\u001b[0m\n\u001b[0m\u001b[1;32m     11\u001b[0m     \u001b[1;32mif\u001b[0m \u001b[0mfp\u001b[0m \u001b[1;32mis\u001b[0m \u001b[1;32mNone\u001b[0m\u001b[1;33m:\u001b[0m\u001b[1;33m\u001b[0m\u001b[0m\n\u001b[1;32m     12\u001b[0m         \u001b[0mf\u001b[0m \u001b[1;33m=\u001b[0m \u001b[0msys\u001b[0m\u001b[1;33m.\u001b[0m\u001b[0mstdout\u001b[0m\u001b[1;33m\u001b[0m\u001b[0m\n",
      "\u001b[0;32m<ipython-input-3-0fbc4885f176>\u001b[0m in \u001b[0;36mload_test_list\u001b[0;34m(user_tests)\u001b[0m\n\u001b[1;32m     10\u001b[0m \u001b[1;33m\u001b[0m\u001b[0m\n\u001b[1;32m     11\u001b[0m \u001b[1;32mdef\u001b[0m \u001b[0mload_test_list\u001b[0m\u001b[1;33m(\u001b[0m\u001b[0muser_tests\u001b[0m\u001b[1;33m)\u001b[0m\u001b[1;33m:\u001b[0m\u001b[1;33m\u001b[0m\u001b[0m\n\u001b[0;32m---> 12\u001b[0;31m     \u001b[0mxl\u001b[0m \u001b[1;33m=\u001b[0m \u001b[0mExcel\u001b[0m\u001b[1;33m(\u001b[0m\u001b[0mvisible\u001b[0m\u001b[1;33m=\u001b[0m\u001b[1;32mFalse\u001b[0m\u001b[1;33m)\u001b[0m\u001b[1;33m\u001b[0m\u001b[0m\n\u001b[0m\u001b[1;32m     13\u001b[0m     \u001b[1;32mwith\u001b[0m \u001b[0mHiddenXl\u001b[0m\u001b[1;33m(\u001b[0m\u001b[0mxl\u001b[0m\u001b[1;33m)\u001b[0m\u001b[1;33m:\u001b[0m\u001b[1;33m\u001b[0m\u001b[0m\n\u001b[1;32m     14\u001b[0m         \u001b[0mwb\u001b[0m \u001b[1;33m=\u001b[0m \u001b[0mxl\u001b[0m\u001b[1;33m.\u001b[0m\u001b[0mWorkbooks\u001b[0m\u001b[1;33m.\u001b[0m\u001b[0mOpen\u001b[0m\u001b[1;33m(\u001b[0m\u001b[0muser_tests\u001b[0m\u001b[1;33m)\u001b[0m\u001b[1;33m\u001b[0m\u001b[0m\n",
      "\u001b[0;32mC:\\Users\\Nathan\\Documents\\Personal\\PBS_Office\\MSOffice\\officelib\\xllib\\xlcom.py\u001b[0m in \u001b[0;36mExcel\u001b[0;34m(new, visible)\u001b[0m\n\u001b[1;32m    179\u001b[0m         \u001b[0mv_print\u001b[0m\u001b[1;33m(\u001b[0m\u001b[1;34m\"New Excel instance created, returning object.\"\u001b[0m\u001b[1;33m)\u001b[0m\u001b[1;33m\u001b[0m\u001b[0m\n\u001b[1;32m    180\u001b[0m     \u001b[1;32melse\u001b[0m\u001b[1;33m:\u001b[0m\u001b[1;33m\u001b[0m\u001b[0m\n\u001b[0;32m--> 181\u001b[0;31m         \u001b[0mxl\u001b[0m \u001b[1;33m=\u001b[0m \u001b[0mwin32com\u001b[0m\u001b[1;33m.\u001b[0m\u001b[0mclient\u001b[0m\u001b[1;33m.\u001b[0m\u001b[0mgencache\u001b[0m\u001b[1;33m.\u001b[0m\u001b[0mEnsureDispatch\u001b[0m\u001b[1;33m(\u001b[0m\u001b[1;34m\"Excel.Application\"\u001b[0m\u001b[1;33m)\u001b[0m\u001b[1;33m\u001b[0m\u001b[0m\n\u001b[0m\u001b[1;32m    182\u001b[0m         \u001b[0mv_print\u001b[0m\u001b[1;33m(\u001b[0m\u001b[1;34m\"Opening Excel instance.\"\u001b[0m\u001b[1;33m)\u001b[0m\u001b[1;33m\u001b[0m\u001b[0m\n\u001b[1;32m    183\u001b[0m \u001b[1;33m\u001b[0m\u001b[0m\n",
      "\u001b[0;32mc:\\program files\\python35\\lib\\site-packages\\win32com\\client\\gencache.py\u001b[0m in \u001b[0;36mEnsureDispatch\u001b[0;34m(prog_id, bForDemand)\u001b[0m\n\u001b[1;32m    545\u001b[0m                         \u001b[0mdisp\u001b[0m \u001b[1;33m=\u001b[0m \u001b[0mdisp_class\u001b[0m\u001b[1;33m(\u001b[0m\u001b[0mdisp\u001b[0m\u001b[1;33m.\u001b[0m\u001b[0m_oleobj_\u001b[0m\u001b[1;33m)\u001b[0m\u001b[1;33m\u001b[0m\u001b[0m\n\u001b[1;32m    546\u001b[0m                 \u001b[1;32mexcept\u001b[0m \u001b[0mpythoncom\u001b[0m\u001b[1;33m.\u001b[0m\u001b[0mcom_error\u001b[0m\u001b[1;33m:\u001b[0m\u001b[1;33m\u001b[0m\u001b[0m\n\u001b[0;32m--> 547\u001b[0;31m                         \u001b[1;32mraise\u001b[0m \u001b[0mTypeError\u001b[0m\u001b[1;33m(\u001b[0m\u001b[1;34m\"This COM object can not automate the makepy process - please run makepy manually for this object\"\u001b[0m\u001b[1;33m)\u001b[0m\u001b[1;33m\u001b[0m\u001b[0m\n\u001b[0m\u001b[1;32m    548\u001b[0m         \u001b[1;32mreturn\u001b[0m \u001b[0mdisp\u001b[0m\u001b[1;33m\u001b[0m\u001b[0m\n\u001b[1;32m    549\u001b[0m \u001b[1;33m\u001b[0m\u001b[0m\n",
      "\u001b[0;31mTypeError\u001b[0m: This COM object can not automate the makepy process - please run makepy manually for this object"
     ]
    }
   ],
   "source": [
    "main(p1, p2, p3)"
   ]
  }
 ],
 "metadata": {
  "kernelspec": {
   "display_name": "Python 3",
   "language": "python",
   "name": "python3"
  },
  "language_info": {
   "codemirror_mode": {
    "name": "ipython",
    "version": 3
   },
   "file_extension": ".py",
   "mimetype": "text/x-python",
   "name": "python",
   "nbconvert_exporter": "python",
   "pygments_lexer": "ipython3",
   "version": "3.5.2"
  }
 },
 "nbformat": 4,
 "nbformat_minor": 1
}
