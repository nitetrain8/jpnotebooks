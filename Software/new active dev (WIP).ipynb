{
 "cells": [
  {
   "cell_type": "code",
   "execution_count": 1,
   "metadata": {},
   "outputs": [
    {
     "ename": "SyntaxError",
     "evalue": "invalid syntax (api.py, line 229)",
     "output_type": "error",
     "traceback": [
      "Traceback \u001b[1;36m(most recent call last)\u001b[0m:\n",
      "  File \u001b[0;32m\"c:\\program files\\python36\\lib\\site-packages\\IPython\\core\\interactiveshell.py\"\u001b[0m, line \u001b[0;32m2910\u001b[0m, in \u001b[0;35mrun_code\u001b[0m\n    exec(code_obj, self.user_global_ns, self.user_ns)\n",
      "  File \u001b[0;32m\"<ipython-input-1-fd0fa59aa4c6>\"\u001b[0m, line \u001b[0;32m1\u001b[0m, in \u001b[0;35m<module>\u001b[0m\n    from scripts.tools import active_dev_worksheet as adw\n",
      "\u001b[1;36m  File \u001b[1;32m\"C:\\Users\\Administrator\\Dropbox\\Python\\scripts\\tools\\active_dev_worksheet\\__init__.py\"\u001b[1;36m, line \u001b[1;32m12\u001b[1;36m, in \u001b[1;35m<module>\u001b[1;36m\u001b[0m\n\u001b[1;33m    from .redmine import api\u001b[0m\n",
      "\u001b[1;36m  File \u001b[1;32m\"C:\\Users\\Administrator\\Dropbox\\Python\\scripts\\tools\\active_dev_worksheet\\redmine\\api.py\"\u001b[1;36m, line \u001b[1;32m229\u001b[0m\n\u001b[1;33m    def filter(self, /, **opts):\u001b[0m\n\u001b[1;37m                     ^\u001b[0m\n\u001b[1;31mSyntaxError\u001b[0m\u001b[1;31m:\u001b[0m invalid syntax\n"
     ]
    }
   ],
   "source": [
    "from scripts.tools import active_dev_worksheet as adw\n",
    "from officelib.xllib import *\n",
    "import gc\n",
    "import time"
   ]
  },
  {
   "cell_type": "code",
   "execution_count": 6,
   "metadata": {
    "collapsed": true
   },
   "outputs": [],
   "source": [
    "def save_to_sharepoint(wb, fp):\n",
    "    print(\"Saving to sharepoint...\")\n",
    "    try:\n",
    "        adw.save_to_sharepoint(wb, save_path)\n",
    "    except com_error:\n",
    "        print(\"Save failed :(\")\n",
    "    else:\n",
    "        print(\"Success! Wrapping up...\")\n",
    "    \n",
    "# def make_worksheet(ws, g, ad_map):\n",
    "#     print(\"Creating worksheet...\")\n",
    "#     visitor = adw.PlanInitVisitor(ws, g, ad_map)\n",
    "#     with screen_lock(ws.Application):\n",
    "#         visitor.visit_all()\n",
    "#         visitor.finish()\n",
    "        \n",
    "def open_worksheet(xl, template_path):\n",
    "    wb = xl.Workbooks.Open(template_path)\n",
    "    ws = wb.Worksheets(\"Outline\")\n",
    "    return wb, ws\n",
    "    \n",
    "def begin(api_key): \n",
    "    \"\"\" Should be separate methods\n",
    "    but too lazy.... \n",
    "    \"\"\"\n",
    "    print(\"Downloading issues and making graph...\")\n",
    "    g, ad_map = adw.make_graph(api_key)\n",
    "    \n",
    "    print(\"Opening background Excel task...\")\n",
    "    xl = adw.background_excel()\n",
    "    \n",
    "    return xl, g, ad_map\n",
    "    \n",
    "def finish(xl):\n",
    "    xl.ActiveWindow.WindowState = xlc.xlNormal\n",
    "    \n",
    "    \n",
    "def main(api_key, template_path, save_path):\n",
    "    start = time.time()\n",
    "    \n",
    "    xl, g, ad_map = begin(api_key)\n",
    "    with HiddenXl(xl):\n",
    "        wb, ws = open_worksheet(xl, template_path)\n",
    "        make_worksheet(ws, g, ad_map)\n",
    "        save_to_sharepoint(wb, save_path)\n",
    "        finish(xl)\n",
    "\n",
    "    # release & clean up COM object references\n",
    "    del xl, wb, ws\n",
    "    gc.collect()\n",
    "    gc.collect()  # just in case :)"
   ]
  },
  {
   "cell_type": "code",
   "execution_count": null,
   "metadata": {
    "collapsed": true
   },
   "outputs": [],
   "source": [
    "def simple_background(xlrange, color):\n",
    "    interior = xlrange.interior\n",
    "    if color == \"darker_gray\":\n",
    "        interior.Pattern = xlc.xlSolid\n",
    "        interior.PatternColorIndex = xlc.xlAutomatic\n",
    "        interior.ThemeColor = xlc.xlThemeColorDark1\n",
    "        interior.TintAndShade = -0.349986266670736\n",
    "        interior.PatternTintAndShade = 0\n",
    "    else:\n",
    "        raise ValueError(f\"Unsupported simple color: '{color}'\")\n",
    "\n",
    "class TaskTable:\n",
    "    def __init__(self, ws, top_left):\n",
    "        self.ws = ws\n",
    "        self.top_left = top_left\n",
    "        \n",
    "    @classmethod\n",
    "    def Create(cls, ws, top_left):\n",
    "        \n",
    "\n",
    "class TestVisitor():\n",
    "        def __init__(self, ws, g, ad_map):\n",
    "            self.ws = ws\n",
    "        def init(self):\n",
    "            \n",
    "\n",
    "def make_worksheet(ws, g, ad_map):\n",
    "    "
   ]
  },
  {
   "cell_type": "code",
   "execution_count": 9,
   "metadata": {},
   "outputs": [
    {
     "name": "stdout",
     "output_type": "stream",
     "text": [
      "Downloading issues and making graph...\n",
      "Opening background Excel task...\n",
      "Creating worksheet...\n",
      "Applying formatting\n",
      "Pasting data...\n",
      "Adding fancy formatting...\n",
      "Saving to sharepoint...\n",
      "Success! Wrapping up...\n"
     ]
    }
   ],
   "source": [
    "save_path = \"https://pbsbiotech.sharepoint.com/sites/SoftwareEngineeringLV1\" + \\\n",
    "        \"/Shared Documents/Project Management/Software Active Development.xlsx\"\n",
    "key = \"7676add9cac6631410403671cdd7850311987898\"\n",
    "template_path = os.path.expanduser(\"~\\\\documents\\\\pbs\\\\wip procedures-reports\\\\project task template2.xlsx\")\n",
    "\n",
    "main(key, template_path, save_path)"
   ]
  },
  {
   "cell_type": "code",
   "execution_count": null,
   "metadata": {
    "collapsed": true
   },
   "outputs": [],
   "source": []
  }
 ],
 "metadata": {
  "kernelspec": {
   "display_name": "Python 3",
   "language": "python",
   "name": "python3"
  },
  "language_info": {
   "codemirror_mode": {
    "name": "ipython",
    "version": 3
   },
   "file_extension": ".py",
   "mimetype": "text/x-python",
   "name": "python",
   "nbconvert_exporter": "python",
   "pygments_lexer": "ipython3",
   "version": "3.8.3"
  }
 },
 "nbformat": 4,
 "nbformat_minor": 4
}
