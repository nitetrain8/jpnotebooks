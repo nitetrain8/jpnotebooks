{
 "cells": [
  {
   "cell_type": "code",
   "execution_count": 6,
   "metadata": {
    "collapsed": true
   },
   "outputs": [],
   "source": [
    "from hello.hello import *\n",
    "from officelib.xllib import *\n",
    "from officelib import const"
   ]
  },
  {
   "cell_type": "code",
   "execution_count": 37,
   "metadata": {
    "collapsed": false
   },
   "outputs": [],
   "source": [
    "class MFC():\n",
    "    def __init__(self, name, max, off_setting=None):\n",
    "        self.name = name\n",
    "        self.max = max\n",
    "        if off_setting is None:\n",
    "            off_setting = \"%s_Off_(V)\" % name\n",
    "        self.off_setting = off_setting\n",
    "    \n",
    "    def set_lpm(self, app, lpm):\n",
    "        v = lpm / self.max * 5\n",
    "        app.setconfig(\"Gas_Data\", self.off_setting, v)\n",
    "\n",
    "def controls_on(app):\n",
    "    app.setag(0, 37)\n",
    "    app.settoplight(1)\n",
    "    app.setpumpa(1, 500)\n",
    "    app.setpumpb(1, 3)\n",
    "    app.setpumpc(1, 3)\n",
    "    app.setpumpsample(1, 0)\n",
    "    input(\"Must Turn on Back Panel Fans Manually\")\n",
    "    \n",
    "def controls_off(app):\n",
    "    app.setag(2, 0)\n",
    "    app.settoplight(0)\n",
    "    app.setpumpa(0, 500)\n",
    "    app.setpumpb(0, 3)\n",
    "    app.setpumpc(0, 3)\n",
    "    app.setpumpsample(0, 0)\n",
    "    print(\"Must Turn on Back Panel Fans Manually\")\n",
    "    \n",
    "def mfc_set(app, mfc, lpm):\n",
    "    mfc.set_lpm(app, lpm)\n",
    "        \n",
    "def backup_settings(app):\n",
    "    return app.getConfig()\n",
    "\n",
    "def restore_settings(app, settings):\n",
    "    for group, v1 in settings.items():\n",
    "        for setting, v2 in v1.items():\n",
    "            print(\"Restoring setting:\", group, setting, v2)\n",
    "            try:\n",
    "                app.setconfig(group, setting, v2)\n",
    "            except HelloError:\n",
    "                app.login()\n",
    "                app.setconfig(group, setting, v2)                \n",
    "\n",
    "                \n",
    "def set_requests(app, air, n2, o2, co2):\n",
    "    pass\n",
    "                \n",
    "\n",
    "def main():\n",
    "    app = open_hello('71.189.82.196:7')\n",
    "    bkup_cfg = backup_settings(app)\n",
    "    \n",
    "    air = MFC(\"Air\", 10)\n",
    "    n2 = MFC(\"N2\", 10)\n",
    "    o2 = MFC(\"O2\", 10)\n",
    "    co2 = MFC(\"CO2\", 2)\n",
    "    \n",
    "    set_requests(app, air, n2, o2, co2)\n",
    "    \n",
    "    restore_settings(app, bkup_cfg)\n",
    "    "
   ]
  },
  {
   "cell_type": "code",
   "execution_count": 8,
   "metadata": {
    "collapsed": false
   },
   "outputs": [
    {
     "data": {
      "text/plain": [
       "{'Agitation': {'Auto_Max_Startup_(%)': 20.0,\n",
       "  'D_Time_(min)': 0.0,\n",
       "  'I_Time_(min)': 0.01,\n",
       "  'Lookup_Factor_(%/RPM)': 2.924,\n",
       "  'Lookup_Mode_Timeout_(s)': 60.0,\n",
       "  'Min_Mag_Interval_(s)': 0.1,\n",
       "  'Minimum_(RPM)': 3.0,\n",
       "  'Number_of_Magnets': 2,\n",
       "  'P_Gain__(%/RPM)': 0.3,\n",
       "  'Power_Auto_Max_(%)': 100.0,\n",
       "  'Power_Auto_Min_(%)': 3.5,\n",
       "  'Power_Manual_Max_(%)': 100.0,\n",
       "  'Pulse_Mode_Timeout_(s)': 60.0,\n",
       "  'Samples_To_Average': 3},\n",
       " 'DO': {'Deadband_(DO%)': 1.0,\n",
       "  'Max_Delta': 5.0,\n",
       "  'N2_Auto_Max_(%)': 90.0,\n",
       "  'N2_D_Time_(min)': 0.0,\n",
       "  'N2_I_Time_(min)': 10.0,\n",
       "  'N2_Manual_Max_(%)': 100.0,\n",
       "  'N2_P_Gain_(%/DO%)': -5.0,\n",
       "  'O2_Auto_Max_(%)': 500.0,\n",
       "  'O2_D_Time_(min)': 0.0,\n",
       "  'O2_I_Time_(min)': 0.1,\n",
       "  'O2_Manual_Max_(%)': 500.0,\n",
       "  'O2_P_Gain_(LPM/DO%)': 0.00533,\n",
       "  'Valid_High_(DO%)': 200.0,\n",
       "  'Valid_Low_(DO%)': -10.0},\n",
       " 'Filter_Oven': {'D_Time_(min)': 0.0,\n",
       "  'Enable_Heater_(0_or_1)': 1,\n",
       "  'Heat_Auto_Max_(%)': 50.0,\n",
       "  'Heat_Manual_Max_(%)': 50.0,\n",
       "  'I_Time_(min)': 0.03,\n",
       "  'PWM_Period_(ms)': 1000.0,\n",
       "  'P_Gain_(%/C)': 100.0},\n",
       " 'Gas_Data': {'Air_LPM/V': 2.0,\n",
       "  'Air_Min_(LPM)': 0.1,\n",
       "  'Air_Off_(V)': 0.0,\n",
       "  'CO2_LPM/V': 0.4,\n",
       "  'CO2_Min_(LPM)': 0.1,\n",
       "  'CO2_Off_(V)': 0.0,\n",
       "  'Manual_Max_(LPM)': 10.0,\n",
       "  'Mismatch_Thresh_(V)': 0.1,\n",
       "  'N2_LPM/V': 2.0,\n",
       "  'N2_Min_(LPM)': 0.11,\n",
       "  'N2_Off_(V)': 0.0,\n",
       "  'O2_LPM/V': 2.0,\n",
       "  'O2_Min_(LPM)': 0.2,\n",
       "  'O2_Min_Volume_(L)': 0.1,\n",
       "  'O2_Off_(V)': 0.0,\n",
       "  'PWM_Max_Period_(s)': 60.0,\n",
       "  'PWM_On_Time_(s)': 3.0},\n",
       " 'Level': {'Bottom_Gap_(cm)': 0.0,\n",
       "  'CalLevelInterceptMax(psi)': 10000.0,\n",
       "  'CalLevelInterceptMin(psi)': -10000.0,\n",
       "  'CalLevelSlopeMax(psi/V)': 10000.0,\n",
       "  'CalLevelSlopeMin(psi/V)': -10000.0,\n",
       "  'Empty_Level_(L)': 8.0,\n",
       "  'Empty_Level_(V)': 0.0,\n",
       "  'Enable_Pressure_Differential_(0_or_1)': 0,\n",
       "  'Enable_Sensor_(0_or_1)': 1,\n",
       "  'LevelTempCompFactor(1/C)': 0.0,\n",
       "  'Radius_(cm)': 24.5,\n",
       "  'Vessel_Depth_(cm)': 26.0,\n",
       "  'cm/psi': 70.358},\n",
       " 'Pressure': {'CalPressureInterceptMax(psi)': 1.5,\n",
       "  'CalPressureInterceptMin(psi)': -1.5,\n",
       "  'CalPressureSlopeMax(psi/V)': 250.0,\n",
       "  'CalPressureSlopeMin(psi/V)': 150.0,\n",
       "  'Disconnected_Pressure_(V)': 1.0,\n",
       "  'Reusable_Sensor_(0_or_1)': 1},\n",
       " 'Process_Alarms': {'Agitation_High_(RPM)': 18.0,\n",
       "  'Agitation_High_High_(RPM)': 20.0,\n",
       "  'Agitation_Low_(RPM)': 9.0,\n",
       "  'Agitation_Low_Low_(RPM)': 7.0,\n",
       "  'DO_High_(%)': 60.0,\n",
       "  'DO_High_High_(%)': 70.0,\n",
       "  'DO_Low_(%)': 40.0,\n",
       "  'DO_Low_Low_(%)': 30.0,\n",
       "  'Filter_Oven_High_(C)': 38.0,\n",
       "  'Filter_Oven_High_High_(C)': 40.0,\n",
       "  'Filter_Oven_Low_(C)': 32.0,\n",
       "  'Filter_Oven_Low_Low_(C)': 30.0,\n",
       "  'Level_High_(L)': 80.0,\n",
       "  'Level_High_High_(L)': 85.0,\n",
       "  'Level_Low_(L)': 35.0,\n",
       "  'Level_Low_Low_(L)': 10.0,\n",
       "  'Main_Gas_High_(LPM)': 8.0,\n",
       "  'Main_Gas_High_High_(LPM)': 9.0,\n",
       "  'Main_Gas_Low_(LPM)': 2.0,\n",
       "  'Main_Gas_Low_Low_(LPM)': 1.0,\n",
       "  'Pressure_High_(psi)': 0.2,\n",
       "  'Pressure_High_High_(psi)': 0.3,\n",
       "  'Pressure_Low_(psi)': -0.5,\n",
       "  'Pressure_Low_Low_(psi)': -1.0,\n",
       "  'Temp_High_(C)': 38.0,\n",
       "  'Temp_High_High_(C)': 39.0,\n",
       "  'Temp_Low_(C)': 36.0,\n",
       "  'Temp_Low_Low_(C)': 35.0,\n",
       "  'pH_High': 7.25,\n",
       "  'pH_High_High': 7.3,\n",
       "  'pH_Low': 7.15,\n",
       "  'pH_Low_Low': 7.1},\n",
       " 'Pumps': {'Analog_Base_Speed_(RPM)': 50.0,\n",
       "  'Aux_Low_Duty': 20000,\n",
       "  'Aux_Med_Duty': 30000,\n",
       "  'Base_Max_Period_(s)': 240.0,\n",
       "  'Base_On_Time_(s)': 0.1},\n",
       " 'Safety': {'Buzzer_Period_(ms)': 100.0,\n",
       "  'DoorPressureSensor_(0_or_1)': 0,\n",
       "  'Main_Temp_Max_(C)': 45.0,\n",
       "  'Max_Level_(L)': 85.0,\n",
       "  'Max_Pressure_(psi)': 0.5,\n",
       "  'Max_Pressure_Door_(psi)': 0.1,\n",
       "  'Min_Ag_Power_(%)': 10.0,\n",
       "  'Min_Level_(L)': 10.0},\n",
       " 'Sample_Settings': {'Drain_1_(s)': 4.0,\n",
       "  'Drain_2_(s)': 6.0,\n",
       "  'Presample_1_(s)': 5.0,\n",
       "  'Presample_2_(s)': 2.0,\n",
       "  'Reverse_CW_and_CCW_(0_or_1)': 0,\n",
       "  'Sample_Time_b_(s)': 2.25,\n",
       "  'Sample_Time_m_(s/mL)': 0.748},\n",
       " 'Secondary_Heat': {'Heat_Auto_Max_(%)': 0.0, 'Heat_Manual_Max_(%)': 0.0},\n",
       " 'System': {'Alarm_Snooze_Time_(s)': 300.0,\n",
       "  'Max_Data_Log_Interval_(min)': 60.0},\n",
       " 'Temperature': {'D_Time_(min)': 0.0,\n",
       "  'Heat_Auto_Max_(%)': 100.0,\n",
       "  'Heat_Manual_Max_(%)': 100.0,\n",
       "  'I_Time_(min)': 10.0,\n",
       "  'Max_Delta_(C)': 0.4,\n",
       "  'PWM_Period_(ms)': 1000.0,\n",
       "  'P_Gain_(%/C)': 30.0,\n",
       "  'Valid_High_(C)': 110.0,\n",
       "  'Valid_Low_(C)': -5.0},\n",
       " 'pH': {'A_Use_Temp_Comp?': 1,\n",
       "  'B_Use_Temp_Comp?': 1,\n",
       "  'Base_Auto_Max_(%)': 100.0,\n",
       "  'Base_D_Time_(min)': 0.0,\n",
       "  'Base_I_Time_(min)': 10.0,\n",
       "  'Base_Manual_Max_(%)': 100.0,\n",
       "  'Base_P_Gain_(%/pH)': 10.0,\n",
       "  'Base_Wait_Time_(s)': 60.0,\n",
       "  'CO2_Auto_Max_(%)': 20.0,\n",
       "  'CO2_D_Time_(min)': 0.0,\n",
       "  'CO2_I_Time_(min)': 2.0,\n",
       "  'CO2_Manual_Max_(%)': 100.0,\n",
       "  'CO2_P_Gain_(%/pH)': -200.0,\n",
       "  'Deadband': 0.02,\n",
       "  'Fail_Rate_(pH/min)': 1.0,\n",
       "  'Max_Delta': 0.05,\n",
       "  'Valid_High_(pH)': 14.0,\n",
       "  'Valid_Low_(pH)': 0.0}}"
      ]
     },
     "execution_count": 8,
     "metadata": {},
     "output_type": "execute_result"
    }
   ],
   "source": [
    "app = HelloApp('71.189.82.196:7')\n",
    "app.getConfig()"
   ]
  },
  {
   "cell_type": "code",
   "execution_count": 9,
   "metadata": {
    "collapsed": false
   },
   "outputs": [
    {
     "name": "stdout",
     "output_type": "stream",
     "text": [
      "Must Turn on Back Panel Fans Manually\n"
     ]
    }
   ],
   "source": [
    "app.login()\n",
    "controls_off(app)"
   ]
  },
  {
   "cell_type": "code",
   "execution_count": 11,
   "metadata": {
    "collapsed": true
   },
   "outputs": [],
   "source": [
    "xl = Excel()\n",
    "s = xl.Selection\n",
    "s.Value"
   ]
  },
  {
   "cell_type": "code",
   "execution_count": 30,
   "metadata": {
    "collapsed": false
   },
   "outputs": [],
   "source": [
    "air = MFC(\"Air\", 10)\n",
    "n2 = MFC(\"N2\", 10)\n",
    "o2 = MFC(\"O2\", 1)\n",
    "co2 = MFC(\"CO2\", 2)"
   ]
  },
  {
   "cell_type": "code",
   "execution_count": 44,
   "metadata": {
    "collapsed": false
   },
   "outputs": [
    {
     "data": {
      "text/plain": [
       "True"
      ]
     },
     "execution_count": 44,
     "metadata": {},
     "output_type": "execute_result"
    }
   ],
   "source": [
    "app.login()\n",
    "air.set_lpm(app, 0)\n",
    "n2.set_lpm(app, 0)\n",
    "o2.set_lpm(app, 0)\n",
    "co2.set_lpm(app, 0)\n",
    "app.setconfig(\"Gas_Data\", \"O2_Min_Volume_(L)\", .1)"
   ]
  },
  {
   "cell_type": "code",
   "execution_count": 36,
   "metadata": {
    "collapsed": false
   },
   "outputs": [
    {
     "name": "stdout",
     "output_type": "stream",
     "text": [
      "Must Turn on Back Panel Fans Manually\n"
     ]
    }
   ],
   "source": [
    "controls_on(app)"
   ]
  },
  {
   "cell_type": "code",
   "execution_count": null,
   "metadata": {
    "collapsed": true
   },
   "outputs": [],
   "source": []
  }
 ],
 "metadata": {
  "kernelspec": {
   "display_name": "Python 3",
   "language": "python",
   "name": "python3"
  },
  "language_info": {
   "codemirror_mode": {
    "name": "ipython",
    "version": 3
   },
   "file_extension": ".py",
   "mimetype": "text/x-python",
   "name": "python",
   "nbconvert_exporter": "python",
   "pygments_lexer": "ipython3",
   "version": "3.4.1"
  }
 },
 "nbformat": 4,
 "nbformat_minor": 0
}
