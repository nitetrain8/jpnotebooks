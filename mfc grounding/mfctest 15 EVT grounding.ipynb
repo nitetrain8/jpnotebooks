{
 "cells": [
  {
   "cell_type": "code",
   "execution_count": null,
   "metadata": {
    "collapsed": true
   },
   "outputs": [],
   "source": [
    "from hello.hello import *\n",
    "from officelib.xllib import *\n",
    "from officelib import const"
   ]
  },
  {
   "cell_type": "code",
   "execution_count": 45,
   "metadata": {
    "collapsed": false
   },
   "outputs": [],
   "source": [
    "app = HelloApp(\"71.189.82.196:6\")\n",
    "from time import sleep\n",
    "def set_mg(sp):\n",
    "    try:\n",
    "        app.setmg(1, sp)\n",
    "    except HelloError:\n",
    "        app.login()\n",
    "        app.setmg(1, sp)\n",
    "        \n",
    "def update_ss(cell, val):\n",
    "    cell.Value = val\n",
    "    c = cell.Offset(2, 1)\n",
    "    c.Select()\n",
    "    return c\n",
    "        \n",
    "def frange(start, stop, step):\n",
    "    i = 0\n",
    "    v = start + i * step\n",
    "    while v < stop:\n",
    "        yield v\n",
    "        i += 1\n",
    "        v = start + i * step\n",
    "        \n",
    "\n",
    "def run_test(name, mfc_max, c=None):\n",
    "    tmin = mfc_max / 10\n",
    "    print(\"Testing \", name, \"MFC: %.1f LPM Max\" % mfc_max)\n",
    "    for fr in frange(tmin, mfc_max+tmin/2, tmin):\n",
    "        set_mg(fr)\n",
    "        v = input(\"%.2f LPM:\" % fr)\n",
    "        if v.lower() in (\"break\", \"quit\", \"q\", \"stop\"):\n",
    "            break\n",
    "        c = update_ss(c, v)\n",
    "    \n",
    "\n",
    "xl = Excel()\n",
    "def s():\n",
    "    return xl.Selection\n",
    "\n",
    "def run(name, mfcm):\n",
    "    run_test(name, mfcm, s())\n",
    "    \n",
    "def all_on():\n",
    "    app.login()\n",
    "    for sp in range(20, 101, 20):\n",
    "        app.setag(1, sp)\n",
    "        sleep(0.5)\n",
    "    app.setfillpump(1, 500)\n",
    "    app.setpumpb(1, 3)\n",
    "    app.setpumpc(1, 3)\n",
    "    app.setpumpsample(1, 1)\n",
    "    app.settoplight(1)\n",
    "    \n",
    "def all_off():\n",
    "    app.login()\n",
    "    app.setag(2, 0)\n",
    "    app.setfillpump(0, 0)\n",
    "    app.setpumpb(0, 0)\n",
    "    app.setpumpc(0, 0)\n",
    "    app.setpumpsample(0, 0)\n",
    "    app.settoplight(0)"
   ]
  },
  {
   "cell_type": "code",
   "execution_count": 48,
   "metadata": {
    "collapsed": false
   },
   "outputs": [],
   "source": [
    "all_off()"
   ]
  },
  {
   "cell_type": "code",
   "execution_count": 39,
   "metadata": {
    "collapsed": false
   },
   "outputs": [
    {
     "name": "stdout",
     "output_type": "stream",
     "text": [
      "Testing  co2 off MFC: 0.1 LPM Max\n",
      "0.01 LPM:'--\n",
      "0.02 LPM:'--\n",
      "0.03 LPM:30.0\n",
      "0.04 LPM:40.2\n",
      "0.05 LPM:50.5\n",
      "0.06 LPM:60.6\n",
      "0.07 LPM:70.7\n",
      "0.08 LPM:80.6\n",
      "0.09 LPM:90.7\n",
      "0.10 LPM:100.1\n"
     ]
    }
   ],
   "source": [
    "run(\"co2 off\", .1)"
   ]
  },
  {
   "cell_type": "code",
   "execution_count": 42,
   "metadata": {
    "collapsed": false
   },
   "outputs": [
    {
     "name": "stdout",
     "output_type": "stream",
     "text": [
      "Testing  air off MFC: 2.0 LPM Max\n",
      "0.20 LPM:.226\n",
      "0.40 LPM:.429\n",
      "0.60 LPM:.632\n",
      "0.80 LPM:.836\n",
      "1.00 LPM:1.037\n",
      "1.20 LPM:1.235\n",
      "1.40 LPM:1.433\n",
      "1.60 LPM:1.640\n",
      "1.80 LPM:1.842\n",
      "2.00 LPM:2.033\n"
     ]
    }
   ],
   "source": [
    "run(\"air off\", 2)"
   ]
  },
  {
   "cell_type": "code",
   "execution_count": 51,
   "metadata": {
    "collapsed": false
   },
   "outputs": [
    {
     "name": "stdout",
     "output_type": "stream",
     "text": [
      "Testing  n2 off MFC: 2.0 LPM Max\n",
      "0.20 LPM:.225\n",
      "0.40 LPM:.431\n",
      "0.60 LPM:.633\n",
      "0.80 LPM:.839\n",
      "1.00 LPM:1.042\n",
      "1.20 LPM:1.238\n",
      "1.40 LPM:1.440\n",
      "1.60 LPM:1.643\n",
      "1.80 LPM:1.844\n",
      "2.00 LPM:2.033\n"
     ]
    }
   ],
   "source": [
    "run(\"n2 off\", 2)"
   ]
  },
  {
   "cell_type": "code",
   "execution_count": 40,
   "metadata": {
    "collapsed": false
   },
   "outputs": [
    {
     "name": "stdout",
     "output_type": "stream",
     "text": [
      "Testing  o2 off MFC: 0.5 LPM Max\n",
      "0.05 LPM:0.0565\n",
      "0.10 LPM:0.1058\n",
      "0.15 LPM:.1549\n",
      "0.20 LPM:.2042\n",
      "0.25 LPM:.2544\n",
      "0.30 LPM:.3058\n",
      "0.35 LPM:.3548\n",
      "0.40 LPM:.4042\n",
      "0.45 LPM:.4526\n",
      "0.50 LPM:.4974\n"
     ]
    }
   ],
   "source": [
    "run(\"o2 off\", 0.5)"
   ]
  },
  {
   "cell_type": "code",
   "execution_count": 52,
   "metadata": {
    "collapsed": true
   },
   "outputs": [],
   "source": [
    "all_on()"
   ]
  },
  {
   "cell_type": "code",
   "execution_count": 56,
   "metadata": {
    "collapsed": false
   },
   "outputs": [
    {
     "name": "stdout",
     "output_type": "stream",
     "text": [
      "Testing  co2 on MFC: 0.1 LPM Max\n",
      "0.01 LPM:'--\n",
      "0.02 LPM:'00\n",
      "0.03 LPM:.0304\n",
      "0.04 LPM:.0405\n",
      "0.05 LPM:.0511\n",
      "0.06 LPM:.0612\n",
      "0.07 LPM:0.0712\n",
      "0.08 LPM:.0811\n",
      "0.09 LPM:.0914\n",
      "0.10 LPM:.990\n"
     ]
    }
   ],
   "source": [
    "run(\"co2 on\", .1)"
   ]
  },
  {
   "cell_type": "code",
   "execution_count": 54,
   "metadata": {
    "collapsed": false
   },
   "outputs": [
    {
     "name": "stdout",
     "output_type": "stream",
     "text": [
      "Testing  air on MFC: 2.0 LPM Max\n",
      "0.20 LPM:.265\n",
      "0.40 LPM:.463\n",
      "0.60 LPM:.668\n",
      "0.80 LPM:.869\n",
      "1.00 LPM:1.071\n",
      "1.20 LPM:1.266\n",
      "1.40 LPM:1.468\n",
      "1.60 LPM:1.670\n",
      "1.80 LPM:1.871\n",
      "2.00 LPM:2.026\n"
     ]
    }
   ],
   "source": [
    "run(\"air on\", 2)"
   ]
  },
  {
   "cell_type": "code",
   "execution_count": 53,
   "metadata": {
    "collapsed": false
   },
   "outputs": [
    {
     "name": "stdout",
     "output_type": "stream",
     "text": [
      "Testing  n2 on MFC: 2.0 LPM Max\n",
      "0.20 LPM:.261\n",
      "0.40 LPM:.465\n",
      "0.60 LPM:.667\n",
      "0.80 LPM:.870\n",
      "1.00 LPM:1.069\n",
      "1.20 LPM:1.270\n",
      "1.40 LPM:1.472\n",
      "1.60 LPM:1.674\n",
      "1.80 LPM:1.875\n",
      "2.00 LPM:2.031\n"
     ]
    }
   ],
   "source": [
    "run(\"n2 on\", 2)"
   ]
  },
  {
   "cell_type": "code",
   "execution_count": 55,
   "metadata": {
    "collapsed": false
   },
   "outputs": [
    {
     "name": "stdout",
     "output_type": "stream",
     "text": [
      "Testing  o2 on MFC: 0.5 LPM Max\n",
      "0.05 LPM:.0638\n",
      "0.10 LPM:.1132\n",
      "0.15 LPM:.1626\n",
      "0.20 LPM:.2122\n",
      "0.25 LPM:.2624\n",
      "0.30 LPM:.3128\n",
      "0.35 LPM:.3621\n",
      "0.40 LPM:.4108\n",
      "0.45 LPM:.4593\n",
      "0.50 LPM:.496.2\n"
     ]
    }
   ],
   "source": [
    "run(\"o2 on\", 0.5)"
   ]
  },
  {
   "cell_type": "code",
   "execution_count": 69,
   "metadata": {
    "collapsed": false
   },
   "outputs": [],
   "source": [
    "for se in s().Parent.SeriesCollection():\n",
    "    se.MarkerSize=4"
   ]
  },
  {
   "cell_type": "code",
   "execution_count": null,
   "metadata": {
    "collapsed": true
   },
   "outputs": [],
   "source": []
  }
 ],
 "metadata": {
  "kernelspec": {
   "display_name": "Python 3",
   "language": "python",
   "name": "python3"
  },
  "language_info": {
   "codemirror_mode": {
    "name": "ipython",
    "version": 3
   },
   "file_extension": ".py",
   "mimetype": "text/x-python",
   "name": "python",
   "nbconvert_exporter": "python",
   "pygments_lexer": "ipython3",
   "version": "3.4.1"
  }
 },
 "nbformat": 4,
 "nbformat_minor": 0
}
