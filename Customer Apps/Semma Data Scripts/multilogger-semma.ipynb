{
 "cells": [
  {
   "cell_type": "markdown",
   "metadata": {},
   "source": [
    "## Imports from multilogger module"
   ]
  },
  {
   "cell_type": "code",
   "execution_count": null,
   "metadata": {},
   "outputs": [],
   "source": [
    "import multilogger\n",
    "from multilogger import HelloMultiLogger, MLCallback"
   ]
  },
  {
   "cell_type": "markdown",
   "metadata": {},
   "source": [
    "## Simple Example: Basic structure of generic callback routine receiving all events:"
   ]
  },
  {
   "cell_type": "code",
   "execution_count": null,
   "metadata": {},
   "outputs": [],
   "source": [
    "def callback(event, payload):\n",
    "    if event == \"ML_BEGIN_LOG\":\n",
    "        pass\n",
    "    elif event == \"ML_LOG_DATA\":\n",
    "        pass\n",
    "    elif event == \"ML_END_LOG\":\n",
    "        pass\n",
    "    else:\n",
    "        print(\"Received unknown event: %r\"%event)"
   ]
  },
  {
   "cell_type": "markdown",
   "metadata": {},
   "source": [
    "## Simple Example #2: A callback displaying the event name and payload"
   ]
  },
  {
   "cell_type": "code",
   "execution_count": null,
   "metadata": {},
   "outputs": [],
   "source": [
    "def my_callback(event, payload):\n",
    "    print(\"Got event:\", event)\n",
    "    if event == \"ML_BEGIN_LOG\":\n",
    "        print(*payload)\n",
    "    elif event == \"ML_LOG_DATA\":\n",
    "        print(*payload)\n",
    "    elif event == \"ML_END_LOG\":\n",
    "        pass\n",
    "    else:\n",
    "        print(\"Received unknown event: %r\"%event)"
   ]
  },
  {
   "cell_type": "markdown",
   "metadata": {},
   "source": [
    "## Simple CSV Writer: Using callbacks to open a file, log data received, and close file when done"
   ]
  },
  {
   "cell_type": "code",
   "execution_count": null,
   "metadata": {},
   "outputs": [],
   "source": [
    "def csv_writer(filename):\n",
    "    \n",
    "    if os.path.exists(filename):\n",
    "        raise FileExistsError(filename)\n",
    "    \n",
    "    f = None\n",
    "    pvars = None\n",
    "    \n",
    "    def log(data):\n",
    "        nonlocal f\n",
    "        f.write(\",\".join(map(str, data))); f.write(\"\\n\")\n",
    "    \n",
    "    def csv_writer_cb(event, payload):\n",
    "        nonlocal f, pvars\n",
    "        \n",
    "        if event == \"ML_BEGIN_LOG\":\n",
    "            f = open(filename, 'w')\n",
    "            \n",
    "            # create pvars\n",
    "            pvars = []\n",
    "            for tag, vl in payload:\n",
    "                for v in vl:\n",
    "                    pvars.append(tag + \".\" + v)\n",
    "            log(pvars)\n",
    "        \n",
    "        elif event == \"ML_LOG_DATA\":\n",
    "            line = []\n",
    "            for tag, vl in payload:\n",
    "                for v in vl:\n",
    "                    line.append(v)\n",
    "            log(line)\n",
    "        \n",
    "        elif event == \"ML_END_LOG\":\n",
    "            f.close()\n",
    "        \n",
    "        else:\n",
    "            raise ValueError(\"Unknown event: %r\"%event)\n",
    "    \n",
    "    return csv_writer_cb"
   ]
  },
  {
   "cell_type": "markdown",
   "metadata": {},
   "source": [
    "## Simple CSV Writer #2: Class based callback handler.\n",
    "\n",
    "Instead of using a callback function to process all events, the MLCallback class provides methods to shutter specific events to specific functions"
   ]
  },
  {
   "cell_type": "code",
   "execution_count": null,
   "metadata": {},
   "outputs": [],
   "source": [
    "class CSVWriter(MLCallback):\n",
    "    def __init__(self, filename):\n",
    "        super().__init__()\n",
    "        if os.path.exists(filename):\n",
    "            raise FileExistsError(filename)\n",
    "        self._filename = filename\n",
    "        self._f = None\n",
    "        self._pvars = None\n",
    "        \n",
    "    def log_data(self, data):\n",
    "        if self._f is None:\n",
    "            raise ValueError(\"File not initialized\")\n",
    "        self._f.write(\",\".join(map(str,data)))\n",
    "        self._f.write(\"\\n\")\n",
    "        \n",
    "    def onBeginLog(self, payload):\n",
    "        \n",
    "        # check file existance again when starting, just in case\n",
    "        if os.path.exists(self._filename):\n",
    "            raise FileExistsError(self._filename)\n",
    "        \n",
    "        self._f = open(self._filename, 'w')\n",
    "        \n",
    "        self._pvars = []\n",
    "        for tag, vl in payload:\n",
    "            for v in vl:\n",
    "                self._pvars.append(tag + \".\" + v)\n",
    "                \n",
    "        self.log_data(self._pvars)\n",
    "        \n",
    "    def onDataReceived(self, payload):\n",
    "        line = []\n",
    "        for tag, vl in payload:\n",
    "            for v in vl:\n",
    "                line.append(v)\n",
    "                \n",
    "        self.log_data(line)\n",
    "        \n",
    "    def onEndLog(self, payload):\n",
    "        self._f.close()\n",
    "        self._f = None"
   ]
  },
  {
   "cell_type": "markdown",
   "metadata": {},
   "source": [
    "## Example Usage of HelloMultiLogger"
   ]
  },
  {
   "cell_type": "code",
   "execution_count": null,
   "metadata": {},
   "outputs": [],
   "source": [
    "import time\n",
    "\n",
    "# Choose all variables to log. All reactors will log the same variables.\n",
    "# If you need to find out what variables are loggable, call multilogger.get_loggable_vars()\n",
    "\n",
    "vars_i_care_about = [\n",
    "    'agitation.pv',\n",
    "    'temperature.pv'\n",
    "]\n",
    "\n",
    "# Create logger \n",
    "ml = HelloMultiLogger(vars_i_care_about, 3)\n",
    "\n",
    "# Add each bioreactor spec as a separate logger\n",
    "ml.add_logger(\"192.168.1.12\", \"R&D1\", 1)\n",
    "ml.add_logger(\"192.168.1.16\", \"R&D2\", 1)\n",
    "\n",
    "# Add some simple callbacks (see above)\n",
    "ml.add_callback(my_callback)\n",
    "ml.add_callback(csv_writer(\"test_multilogger.csv\"))\n",
    "\n",
    "# These two are equivalent\n",
    "ml.add_callback(CSVWriter(\"test_multilogger2.csv\"))\n",
    "ml.add_callback(CSVWriter(\"test_multilogger3.csv\").onEvent)\n",
    "\n",
    "ml.start()"
   ]
  },
  {
   "cell_type": "code",
   "execution_count": null,
   "metadata": {
    "scrolled": true
   },
   "outputs": [],
   "source": [
    "ml.stop()"
   ]
  },
  {
   "cell_type": "markdown",
   "metadata": {},
   "source": [
    "## The multilogger refuses to overwrite existing CSV Files\n",
    "\n",
    "Clean up after this example is done so we can rerun it again. Don't do this if you're collecting real data!"
   ]
  },
  {
   "cell_type": "code",
   "execution_count": null,
   "metadata": {},
   "outputs": [],
   "source": [
    "os.remove(\"test_multilogger.csv\")\n",
    "os.remove(\"test_multilogger2.csv\")\n",
    "os.remove(\"test_multilogger3.csv\")"
   ]
  },
  {
   "cell_type": "code",
   "execution_count": null,
   "metadata": {},
   "outputs": [],
   "source": []
  }
 ],
 "metadata": {
  "kernelspec": {
   "display_name": "multilogger",
   "language": "python",
   "name": "multilogger"
  },
  "language_info": {
   "codemirror_mode": {
    "name": "ipython",
    "version": 3
   },
   "file_extension": ".py",
   "mimetype": "text/x-python",
   "name": "python",
   "nbconvert_exporter": "python",
   "pygments_lexer": "ipython3",
   "version": "3.5.2"
  }
 },
 "nbformat": 4,
 "nbformat_minor": 2
}
