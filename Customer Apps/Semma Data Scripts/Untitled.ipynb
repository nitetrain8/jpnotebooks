{
 "cells": [
  {
   "cell_type": "code",
   "execution_count": 35,
   "metadata": {},
   "outputs": [],
   "source": [
    "import win32com\n",
    "import win32com.client\n",
    "xl = win32com.client.gencache.EnsureDispatch(\"Excel.Application\")"
   ]
  },
  {
   "cell_type": "code",
   "execution_count": 7,
   "metadata": {},
   "outputs": [],
   "source": [
    "from officelib.xllib import *\n",
    "xl = Excel()"
   ]
  },
  {
   "cell_type": "code",
   "execution_count": 9,
   "metadata": {},
   "outputs": [],
   "source": [
    "wb = xl.RecentFiles(1).Open()"
   ]
  },
  {
   "cell_type": "code",
   "execution_count": 11,
   "metadata": {},
   "outputs": [],
   "source": [
    "wb2 = xl.ActiveWorkbook"
   ]
  },
  {
   "cell_type": "code",
   "execution_count": 14,
   "metadata": {},
   "outputs": [],
   "source": [
    "wb3 = xl.Workbooks(\"csvfix_test2_input.csv\")"
   ]
  },
  {
   "cell_type": "code",
   "execution_count": 17,
   "metadata": {},
   "outputs": [],
   "source": [
    "data = xl.Selection.Value"
   ]
  },
  {
   "cell_type": "code",
   "execution_count": 25,
   "metadata": {},
   "outputs": [],
   "source": [
    "ws = wb3.Worksheets(1)\n",
    "chart = CreateChart(ws)\n",
    "xdata = xl.Selection\n",
    "ydata = xl.Selection\n",
    "CreateDataSeries(chart, xdata, ydata)"
   ]
  },
  {
   "cell_type": "code",
   "execution_count": 30,
   "metadata": {},
   "outputs": [],
   "source": [
    "chart.Left = 0\n",
    "chart.Top = 0"
   ]
  },
  {
   "cell_type": "code",
   "execution_count": 32,
   "metadata": {},
   "outputs": [],
   "source": [
    "ws = wb3.Worksheets(1)\n",
    "cells = ws.Cells\n",
    "cr = cells.Range"
   ]
  },
  {
   "cell_type": "code",
   "execution_count": 34,
   "metadata": {},
   "outputs": [
    {
     "data": {
      "text/plain": [
       "<win32com.gen_py.Microsoft Excel 12.0 Object Library.Series instance at 0x1970486257480>"
      ]
     },
     "execution_count": 34,
     "metadata": {},
     "output_type": "execute_result"
    }
   ],
   "source": [
    "topleft = cr(\"A2\")\n",
    "botleft = topleft.End(xlc.xlDown)\n",
    "\n",
    "ytopright = topleft.Offset(1, 2)\n",
    "ybotright = botleft.Offset(1, 2)\n",
    "\n",
    "chart = CreateChart(ws)\n",
    "xdata = cr(topleft, botleft)\n",
    "ydata = cr(ytopright, ybotright)\n",
    "CreateDataSeries(chart, xdata, ydata)"
   ]
  },
  {
   "cell_type": "code",
   "execution_count": null,
   "metadata": {},
   "outputs": [],
   "source": []
  }
 ],
 "metadata": {
  "kernelspec": {
   "display_name": "Python 3",
   "language": "python",
   "name": "python3"
  },
  "language_info": {
   "codemirror_mode": {
    "name": "ipython",
    "version": 3
   },
   "file_extension": ".py",
   "mimetype": "text/x-python",
   "name": "python",
   "nbconvert_exporter": "python",
   "pygments_lexer": "ipython3",
   "version": "3.5.2"
  }
 },
 "nbformat": 4,
 "nbformat_minor": 2
}
