{
 "cells": [
  {
   "cell_type": "code",
   "execution_count": 1,
   "metadata": {},
   "outputs": [],
   "source": [
    "import sys, os\n",
    "sys.path.remove('C:\\\\Users\\\\Nathan\\\\Documents\\\\Dropbox\\\\Python')\n",
    "sys.path.remove('C:\\\\users\\\\nathan\\\\documents\\\\Dropbox\\\\Python\\\\jpnotebooks\\\\Customer Apps\\\\Semma Data Scripts\\\\ C:\\\\program files\\\\python35\\\\Lib\\\\site-packages')\n",
    "sys.path.append('C:\\\\Users\\\\Nathan\\\\Documents\\\\Dropbox\\\\Python\\\\scripts\\\\customer_apps\\\\csvfix\\\\src\\\\csvfix')"
   ]
  },
  {
   "cell_type": "code",
   "execution_count": 2,
   "metadata": {},
   "outputs": [],
   "source": [
    "os.chdir(\"..\\semma_demo\")"
   ]
  },
  {
   "cell_type": "code",
   "execution_count": 3,
   "metadata": {},
   "outputs": [],
   "source": [
    "from csvfix import make_condensed_file, make_sparse_file, make_interpolate_file\n",
    "import csvfix"
   ]
  },
  {
   "cell_type": "code",
   "execution_count": 18,
   "metadata": {},
   "outputs": [],
   "source": [
    "make_condensed_file(\"csvfix_test_input.csv\", \"csvfix_condense_output.csv\")\n",
    "make_sparse_file(\"csvfix_test2_input.csv\", \"csvfix_sparse_output.csv\")\n",
    "make_interpolate_file(\"csvfix_test2_input.csv\", \"csvfix_interpolate_output.csv\")"
   ]
  },
  {
   "cell_type": "code",
   "execution_count": 19,
   "metadata": {},
   "outputs": [],
   "source": [
    "def group_files(files, output):\n",
    "    \"\"\"Summary\n",
    "    \n",
    "    Args:\n",
    "        *files: list of tuples (tag, filepath)\n",
    "    \"\"\"\n",
    "    group = []\n",
    "    for tag, filepath in files:\n",
    "        contents = csvfix._get_contents(filepath)\n",
    "        prefix = tag + \".\"\n",
    "        for t, pv in csvfix._iter_data(contents):\n",
    "            t = list(t)\n",
    "            pv = list(pv)\n",
    "            t[0] = prefix + t[0]\n",
    "            pv[0] = prefix + pv[0]\n",
    "            \n",
    "            group.append(t)\n",
    "            group.append(pv)\n",
    "            group.append([]) \n",
    "            \n",
    "    data = csvfix._transpose(group)\n",
    "    csvfix.write_data(output, data)"
   ]
  },
  {
   "cell_type": "code",
   "execution_count": 23,
   "metadata": {},
   "outputs": [],
   "source": [
    "files = [\n",
    "    (\"R&D1\", \"csvfix_test_input.csv\"),\n",
    "    (\"R&D2\", \"csvfix_test2_input.csv\")\n",
    "]\n",
    "group_files(files, \"csvfix_group_output.csv\")\n",
    "make_sparse_file(\"csvfix_group_output.csv\", \"csvfix_sparsegroup_output.csv\")\n",
    "make_interpolate_file(\"csvfix_group_output.csv\", \"csvfix_interpolategroup_output.csv\")"
   ]
  },
  {
   "cell_type": "code",
   "execution_count": 22,
   "metadata": {},
   "outputs": [],
   "source": [
    "files = [\n",
    "    \"csvfix_condense_output.csv\",\n",
    "    \"csvfix_sparse_output.csv\",\n",
    "    \"csvfix_interpolate_output.csv\",\n",
    "    \"csvfix_sparsegroup_output.csv\",\n",
    "    \"csvfix_interpolategroup_output.csv\",\n",
    "]\n",
    "\n",
    "for f in files:\n",
    "    try:\n",
    "        os.remove(f)\n",
    "    except FileNotFoundError:\n",
    "        pass"
   ]
  },
  {
   "cell_type": "code",
   "execution_count": null,
   "metadata": {},
   "outputs": [],
   "source": []
  }
 ],
 "metadata": {
  "kernelspec": {
   "display_name": "csvfix",
   "language": "python",
   "name": "csvfix"
  },
  "language_info": {
   "codemirror_mode": {
    "name": "ipython",
    "version": 3
   },
   "file_extension": ".py",
   "mimetype": "text/x-python",
   "name": "python",
   "nbconvert_exporter": "python",
   "pygments_lexer": "ipython3",
   "version": "3.5.2"
  }
 },
 "nbformat": 4,
 "nbformat_minor": 2
}
