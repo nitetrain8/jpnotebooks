{
 "cells": [
  {
   "cell_type": "code",
   "execution_count": 1,
   "metadata": {},
   "outputs": [],
   "source": [
    "import sys\n",
    "sys.path.remove('C:\\\\Users\\\\Nathan\\\\Documents\\\\Dropbox\\\\Python')\n",
    "sys.path.remove('C:\\\\users\\\\nathan\\\\documents\\\\Dropbox\\\\Python\\\\jpnotebooks\\\\Customer Apps\\\\Semma Data Scripts\\\\ C:\\\\program files\\\\python35\\\\Lib\\\\site-packages')\n",
    "sys.path.append('C:\\\\Users\\\\Nathan\\\\Documents\\\\Dropbox\\\\Python\\\\scripts\\\\customer_apps\\\\csvfix\\\\src\\\\csvfix')"
   ]
  },
  {
   "cell_type": "code",
   "execution_count": 2,
   "metadata": {},
   "outputs": [],
   "source": [
    "from csvfix import make_condensed_file, make_sparse_file, make_interpolate_file"
   ]
  },
  {
   "cell_type": "code",
   "execution_count": 3,
   "metadata": {},
   "outputs": [],
   "source": [
    "make_condensed_file(\"csvfix_test_semma.csv\", \"csvfix_test_output.csv\")\n",
    "make_sparse_file(\"csvfix_test2_input.csv\", \"csvfix_sparse_output.csv\")\n",
    "make_interpolate_file(\"csvfix_test2_input.csv\", \"csvfix_interpolate_output.csv\")"
   ]
  },
  {
   "cell_type": "code",
   "execution_count": null,
   "metadata": {},
   "outputs": [],
   "source": []
  }
 ],
 "metadata": {
  "kernelspec": {
   "display_name": "csvfix",
   "language": "python",
   "name": "csvfix"
  },
  "language_info": {
   "codemirror_mode": {
    "name": "ipython",
    "version": 3
   },
   "file_extension": ".py",
   "mimetype": "text/x-python",
   "name": "python",
   "nbconvert_exporter": "python",
   "pygments_lexer": "ipython3",
   "version": "3.5.2"
  }
 },
 "nbformat": 4,
 "nbformat_minor": 2
}
