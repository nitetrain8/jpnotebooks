{
 "cells": [
  {
   "cell_type": "code",
   "execution_count": 3,
   "metadata": {
    "collapsed": true
   },
   "outputs": [
    {
     "ename": "ValueError",
     "evalue": "list.remove(x): x not in list",
     "output_type": "error",
     "traceback": [
      "\u001b[1;31m---------------------------------------------------------------------------\u001b[0m",
      "\u001b[1;31mValueError\u001b[0m                                Traceback (most recent call last)",
      "\u001b[1;32m<ipython-input-3-368aaa07e490>\u001b[0m in \u001b[0;36m<module>\u001b[1;34m\u001b[0m\n\u001b[0;32m      1\u001b[0m \u001b[1;32mimport\u001b[0m \u001b[0msys\u001b[0m\u001b[1;33m,\u001b[0m \u001b[0mos\u001b[0m\u001b[1;33m\u001b[0m\u001b[0m\n\u001b[1;32m----> 2\u001b[1;33m \u001b[0msys\u001b[0m\u001b[1;33m.\u001b[0m\u001b[0mpath\u001b[0m\u001b[1;33m.\u001b[0m\u001b[0mremove\u001b[0m\u001b[1;33m(\u001b[0m\u001b[1;34m'C:\\\\Users\\\\Nathan\\\\Documents\\\\Dropbox\\\\Python'\u001b[0m\u001b[1;33m)\u001b[0m\u001b[1;33m\u001b[0m\u001b[0m\n\u001b[0m\u001b[0;32m      3\u001b[0m \u001b[0msys\u001b[0m\u001b[1;33m.\u001b[0m\u001b[0mpath\u001b[0m\u001b[1;33m.\u001b[0m\u001b[0mremove\u001b[0m\u001b[1;33m(\u001b[0m\u001b[1;34m'C:\\\\users\\\\nathan\\\\documents\\\\Dropbox\\\\Python\\\\jpnotebooks\\\\Customer Apps\\\\Semma Data Scripts\\\\ C:\\\\program files\\\\python35\\\\Lib\\\\site-packages'\u001b[0m\u001b[1;33m)\u001b[0m\u001b[1;33m\u001b[0m\u001b[0m\n\u001b[0;32m      4\u001b[0m \u001b[0msys\u001b[0m\u001b[1;33m.\u001b[0m\u001b[0mpath\u001b[0m\u001b[1;33m.\u001b[0m\u001b[0mappend\u001b[0m\u001b[1;33m(\u001b[0m\u001b[1;34m'C:\\\\Users\\\\Nathan\\\\Documents\\\\Dropbox\\\\Python\\\\scripts\\\\customer_apps\\\\csvfix\\\\src\\\\csvfix'\u001b[0m\u001b[1;33m)\u001b[0m\u001b[1;33m\u001b[0m\u001b[0m\n",
      "\u001b[1;31mValueError\u001b[0m: list.remove(x): x not in list"
     ]
    }
   ],
   "source": [
    "import sys, os\n",
    "sys.path.remove('C:\\\\Users\\\\Nathan\\\\Documents\\\\Dropbox\\\\Python')\n",
    "sys.path.remove('C:\\\\users\\\\nathan\\\\documents\\\\Dropbox\\\\Python\\\\jpnotebooks\\\\Customer Apps\\\\Semma Data Scripts\\\\ C:\\\\program files\\\\python35\\\\Lib\\\\site-packages')\n",
    "sys.path.append('C:\\\\Users\\\\Nathan\\\\Documents\\\\Dropbox\\\\Python\\\\scripts\\\\customer_apps\\\\csvfix\\\\src\\\\csvfix')"
   ]
  },
  {
   "cell_type": "code",
   "execution_count": 6,
   "metadata": {},
   "outputs": [],
   "source": [
    "os.chdir(\"..\\semma_demo\")"
   ]
  },
  {
   "cell_type": "code",
   "execution_count": 7,
   "metadata": {},
   "outputs": [],
   "source": [
    "from csvfix import make_condensed_file, make_sparse_file, make_interpolate_file"
   ]
  },
  {
   "cell_type": "code",
   "execution_count": 10,
   "metadata": {},
   "outputs": [],
   "source": [
    "make_condensed_file(\"csvfix_test_input.csv\", \"csvfix_condense_output.csv\")\n",
    "make_sparse_file(\"csvfix_test2_input.csv\", \"csvfix_sparse_output.csv\")\n",
    "make_interpolate_file(\"csvfix_test2_input.csv\", \"csvfix_interpolate_output.csv\")"
   ]
  },
  {
   "cell_type": "code",
   "execution_count": 11,
   "metadata": {},
   "outputs": [],
   "source": [
    "os.remove(\"csvfix_condense_output.csv\")\n",
    "os.remove(\"csvfix_sparse_output.csv\")\n",
    "os.remove(\"csvfix_interpolate_output.csv\")"
   ]
  }
 ],
 "metadata": {
  "kernelspec": {
   "display_name": "csvfix",
   "language": "python",
   "name": "csvfix"
  },
  "language_info": {
   "codemirror_mode": {
    "name": "ipython",
    "version": 3
   },
   "file_extension": ".py",
   "mimetype": "text/x-python",
   "name": "python",
   "nbconvert_exporter": "python",
   "pygments_lexer": "ipython3",
   "version": "3.5.2"
  }
 },
 "nbformat": 4,
 "nbformat_minor": 2
}
