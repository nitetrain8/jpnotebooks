{
 "cells": [
  {
   "cell_type": "markdown",
   "metadata": {},
   "source": [
    "## Imports"
   ]
  },
  {
   "cell_type": "code",
   "execution_count": null,
   "metadata": {},
   "outputs": [],
   "source": [
    "from csvfix import make_condensed_file, make_sparse_file, make_interpolate_file, group_files"
   ]
  },
  {
   "cell_type": "markdown",
   "metadata": {},
   "source": [
    "## Process individual files"
   ]
  },
  {
   "cell_type": "code",
   "execution_count": null,
   "metadata": {},
   "outputs": [],
   "source": [
    "make_condensed_file(\"csvfix_test_input.csv\", \"csvfix_condense_output.csv\")\n",
    "make_sparse_file(\"csvfix_test2_input.csv\", \"csvfix_sparse_output.csv\")\n",
    "make_interpolate_file(\"csvfix_test2_input.csv\", \"csvfix_interpolate_output.csv\")"
   ]
  },
  {
   "cell_type": "markdown",
   "metadata": {},
   "source": [
    "## Use group_files() to group files into one CSV, then perform other operations on them"
   ]
  },
  {
   "cell_type": "code",
   "execution_count": null,
   "metadata": {},
   "outputs": [],
   "source": [
    "files = [\n",
    "    (\"R&D1\", \"csvfix_test_input.csv\"),\n",
    "    (\"R&D2\", \"csvfix_test2_input.csv\")\n",
    "]\n",
    "group_files(files, \"csvfix_group_output.csv\")\n",
    "make_sparse_file(\"csvfix_group_output.csv\", \"csvfix_sparsegroup_output.csv\")\n",
    "make_interpolate_file(\"csvfix_group_output.csv\", \"csvfix_interpolategroup_output.csv\")"
   ]
  },
  {
   "cell_type": "code",
   "execution_count": null,
   "metadata": {},
   "outputs": [],
   "source": [
    "# This is just cleanup; not part of the example\n",
    "\n",
    "files = [\n",
    "    \"csvfix_condense_output.csv\",\n",
    "    \"csvfix_sparse_output.csv\",\n",
    "    \"csvfix_interpolate_output.csv\",\n",
    "    \"csvfix_sparsegroup_output.csv\",\n",
    "    \"csvfix_interpolategroup_output.csv\",\n",
    "]\n",
    "\n",
    "for f in files:\n",
    "    try:\n",
    "        os.remove(f)\n",
    "    except FileNotFoundError:\n",
    "        pass"
   ]
  },
  {
   "cell_type": "code",
   "execution_count": null,
   "metadata": {},
   "outputs": [],
   "source": []
  },
  {
   "cell_type": "code",
   "execution_count": null,
   "metadata": {},
   "outputs": [],
   "source": []
  }
 ],
 "metadata": {
  "kernelspec": {
   "display_name": "csvfix",
   "language": "python",
   "name": "csvfix"
  },
  "language_info": {
   "codemirror_mode": {
    "name": "ipython",
    "version": 3
   },
   "file_extension": ".py",
   "mimetype": "text/x-python",
   "name": "python",
   "nbconvert_exporter": "python",
   "pygments_lexer": "ipython3",
   "version": "3.5.2"
  }
 },
 "nbformat": 4,
 "nbformat_minor": 2
}
