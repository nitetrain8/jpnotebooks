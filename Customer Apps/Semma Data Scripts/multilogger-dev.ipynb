{
 "cells": [
  {
   "cell_type": "code",
   "execution_count": 1,
   "metadata": {},
   "outputs": [],
   "source": [
    "import sys, os\n",
    "sys.path.remove('C:\\\\Users\\\\Nathan\\\\Documents\\\\Dropbox\\\\Python')\n",
    "sys.path.remove('C:\\\\users\\\\nathan\\\\documents\\\\Dropbox\\\\Python\\\\jpnotebooks\\\\Customer Apps\\\\Semma Data Scripts\\\\ C:\\\\program files\\\\python35\\\\Lib\\\\site-packages')\n",
    "sys.path.append('C:\\\\Users\\\\Nathan\\\\Documents\\\\Dropbox\\\\Python\\\\scripts\\\\customer_apps\\\\multilogger\\\\src\\\\')\n",
    "os.chdir(\"..\\semma_demo\")"
   ]
  },
  {
   "cell_type": "markdown",
   "metadata": {},
   "source": [
    "## Imports from multilogger module"
   ]
  },
  {
   "cell_type": "code",
   "execution_count": 2,
   "metadata": {},
   "outputs": [],
   "source": [
    "from multilogger import HelloMultiLogger, MLCallback"
   ]
  },
  {
   "cell_type": "markdown",
   "metadata": {},
   "source": [
    "## Simple Example: Basic structure of generic callback routine receiving all events:"
   ]
  },
  {
   "cell_type": "code",
   "execution_count": 3,
   "metadata": {},
   "outputs": [],
   "source": [
    "def callback(event, payload):\n",
    "    if event == \"ML_BEGIN_LOG\":\n",
    "        pass\n",
    "    elif event == \"ML_LOG_DATA\":\n",
    "        pass\n",
    "    elif event == \"ML_END_LOG\":\n",
    "        pass\n",
    "    else:\n",
    "        print(\"Received unknown event: %r\"%event)"
   ]
  },
  {
   "cell_type": "markdown",
   "metadata": {},
   "source": [
    "## Simple Example #2: A callback displaying the event name and payload"
   ]
  },
  {
   "cell_type": "code",
   "execution_count": 4,
   "metadata": {},
   "outputs": [],
   "source": [
    "def my_callback(event, payload):\n",
    "    print(\"Got event:\", event)\n",
    "    if event == \"ML_BEGIN_LOG\":\n",
    "        print(*payload)\n",
    "    elif event == \"ML_LOG_DATA\":\n",
    "        print(*payload)\n",
    "    elif event == \"ML_END_LOG\":\n",
    "        pass\n",
    "    else:\n",
    "        print(\"Received unknown event: %r\"%event)"
   ]
  },
  {
   "cell_type": "markdown",
   "metadata": {},
   "source": [
    "## Simple CSV Writer: Using callbacks to open a file, log data received, and close file when done"
   ]
  },
  {
   "cell_type": "code",
   "execution_count": 5,
   "metadata": {},
   "outputs": [],
   "source": [
    "def csv_writer(filename):\n",
    "    f = None\n",
    "    pvars = None\n",
    "    \n",
    "    def log(data):\n",
    "        nonlocal f\n",
    "        f.write(\",\".join(map(str, data))); f.write(\"\\n\")\n",
    "    \n",
    "    def csv_writer_cb(event, payload):\n",
    "        nonlocal f, pvars\n",
    "        \n",
    "        if event == \"ML_BEGIN_LOG\":\n",
    "            f = open(filename, 'w')\n",
    "            \n",
    "            # create pvars\n",
    "            pvars = []\n",
    "            for tag, vl in payload:\n",
    "                for v in vl:\n",
    "                    pvars.append(tag + \".\" + v)\n",
    "            log(pvars)\n",
    "        \n",
    "        elif event == \"ML_LOG_DATA\":\n",
    "            line = []\n",
    "            for tag, vl in payload:\n",
    "                for v in vl:\n",
    "                    line.append(v)\n",
    "            log(line)\n",
    "        \n",
    "        elif event == \"ML_END_LOG\":\n",
    "            f.close()\n",
    "        \n",
    "        else:\n",
    "            raise ValueError(\"Unknown event: %r\"%event)\n",
    "    \n",
    "    return csv_writer_cb"
   ]
  },
  {
   "cell_type": "markdown",
   "metadata": {},
   "source": [
    "## Simple CSV Writer #2: Class based callback handler.\n",
    "\n",
    "Instead of using a callback function to process all events, the MLCallback class provides methods to shutter specific events to specific functions"
   ]
  },
  {
   "cell_type": "code",
   "execution_count": 6,
   "metadata": {},
   "outputs": [],
   "source": [
    "class CSVWriter(MLCallback):\n",
    "    def __init__(self, filename):\n",
    "        super().__init__()\n",
    "        if os.path.exists(filename):\n",
    "            raise FileExistsError(filename)\n",
    "        self._filename = filename\n",
    "        self._f = None\n",
    "        self._pvars = None\n",
    "        \n",
    "    def log_data(self, data):\n",
    "        if self._f is None:\n",
    "            raise ValueError(\"File not initialized\")\n",
    "        self._f.write(\",\".join(map(str,data)))\n",
    "        self._f.write(\"\\n\")\n",
    "        \n",
    "    def onBeginLog(self, payload):\n",
    "        \n",
    "        # check file existance again when starting, just in case\n",
    "        if os.path.exists(self._filename):\n",
    "            raise FileExistsError(self._filename)\n",
    "        \n",
    "        self._f = open(self._filename, 'w')\n",
    "        \n",
    "        self._pvars = []\n",
    "        for tag, vl in payload:\n",
    "            for v in vl:\n",
    "                self._pvars.append(tag + \".\" + v)\n",
    "                \n",
    "        self.log_data(self._pvars)\n",
    "        \n",
    "    def onDataReceived(self, payload):\n",
    "        line = []\n",
    "        for tag, vl in payload:\n",
    "            for v in vl:\n",
    "                line.append(v)\n",
    "                \n",
    "        self.log_data(line)\n",
    "        \n",
    "    def onEndLog(self, payload):\n",
    "        self._f.close()\n",
    "        self._f = None"
   ]
  },
  {
   "cell_type": "markdown",
   "metadata": {},
   "source": [
    "## Example Usage of HelloMultiLogger"
   ]
  },
  {
   "cell_type": "code",
   "execution_count": 7,
   "metadata": {},
   "outputs": [
    {
     "name": "stdout",
     "output_type": "stream",
     "text": [
      "Got event: ML_BEGIN_LOG\n",
      "('ML', ['Timestamp.Last', 'Elapsed Time.hr']) ('R&D1', ['Timestamp.Last', 'Elapsed Time.hr', 'agitation.pv', 'temperature.pv']) ('R&D2', ['Timestamp.Last', 'Elapsed Time.hr', 'agitation.pv', 'temperature.pv'])\n",
      "Got event: ML_LOG_DATA\n",
      "('ML', [datetime.datetime(2018, 10, 11, 10, 23, 54, 364985), 2.8469444444444445e-05]) ('R&D1', [datetime.datetime(2018, 10, 11, 10, 23, 54, 353017), 2.6799444444444442e-05, 0, 20.959339141845703]) ('R&D2', [datetime.datetime(2018, 10, 11, 10, 23, 54, 349112), 2.4890833333333336e-05, 0, 23.1851806640625])\n",
      "Got event: ML_LOG_DATA\n",
      "('ML', [datetime.datetime(2018, 10, 11, 10, 23, 57, 365197), 0.0008618616666666666]) ('R&D1', [datetime.datetime(2018, 10, 11, 10, 23, 56, 613737), 0.0006547772222222222, 0, 20.952314376831055]) ('R&D2', [datetime.datetime(2018, 10, 11, 10, 23, 56, 457586), 0.0006105780555555556, 0, 23.187776565551758])\n",
      "Got event: ML_LOG_DATA\n",
      "('ML', [datetime.datetime(2018, 10, 11, 10, 24, 0, 366438), 0.0016955397222222222]) ('R&D1', [datetime.datetime(2018, 10, 11, 10, 23, 59, 597338), 0.0014835552777777777, 0, 20.948299407958984]) ('R&D2', [datetime.datetime(2018, 10, 11, 10, 23, 59, 597338), 0.001482731388888889, 0, 23.190675735473633])\n",
      "Got event: ML_LOG_DATA\n",
      "('ML', [datetime.datetime(2018, 10, 11, 10, 24, 3, 367561), 0.002529185]) ('R&D1', [datetime.datetime(2018, 10, 11, 10, 24, 2, 497247), 0.0022890855555555553, 0, 20.94683074951172]) ('R&D2', [datetime.datetime(2018, 10, 11, 10, 24, 2, 488829), 0.002285923333333333, 0, 23.192203521728516])\n",
      "Got event: ML_END_LOG\n"
     ]
    }
   ],
   "source": [
    "import time\n",
    "\n",
    "# Choose all variables to log. All reactors will log the same variables.\n",
    "vars_i_care_about = [\n",
    "    'agitation.pv',\n",
    "    'temperature.pv'\n",
    "]\n",
    "\n",
    "# Create logger \n",
    "ml = HelloMultiLogger(vars_i_care_about, 3)\n",
    "\n",
    "ml.add_logger(\"192.168.1.12\", \"R&D1\", 1)\n",
    "ml.add_logger(\"192.168.1.16\", \"R&D2\", 1)\n",
    "\n",
    "ml.add_callback(my_callback)\n",
    "ml.add_callback(csv_writer(\"test_multilogger.csv\"))\n",
    "\n",
    "# These two are equivalent\n",
    "ml.add_callback(CSVWriter(\"test_multilogger2.csv\"))\n",
    "ml.add_callback(CSVWriter(\"test_multilogger3.csv\").onEvent)\n",
    "\n",
    "ml.start()\n",
    "time.sleep(12)\n",
    "ml.stop()"
   ]
  },
  {
   "cell_type": "code",
   "execution_count": 8,
   "metadata": {},
   "outputs": [],
   "source": [
    "os.remove(\"test_multilogger.csv\")\n",
    "os.remove(\"test_multilogger2.csv\")\n",
    "os.remove(\"test_multilogger3.csv\")"
   ]
  },
  {
   "cell_type": "code",
   "execution_count": 9,
   "metadata": {},
   "outputs": [
    {
     "name": "stdout",
     "output_type": "stream",
     "text": [
      "Using matplotlib backend: TkAgg\n"
     ]
    }
   ],
   "source": [
    "%matplotlib\n",
    "import matplotlib\n",
    "import matplotlib.pyplot as plt"
   ]
  },
  {
   "cell_type": "code",
   "execution_count": 13,
   "metadata": {},
   "outputs": [
    {
     "data": {
      "image/png": "[encoded data removed]",
      "text/plain": [
       "<Figure size 904x361 with 2 Axes>"
      ]
     },
     "execution_count": 13,
     "metadata": {},
     "output_type": "execute_result"
    }
   ],
   "source": [
    "from threading import Lock\n",
    "ml = HelloMultiLogger(vars_i_care_about, 3)\n",
    "\n",
    "plt.close()\n",
    "fig = plt.figure()\n",
    "tempax = fig.add_subplot(1,2,1, title=\"Temperature\")\n",
    "agax   = fig.add_subplot(1,2,2, title=\"Agitation\")\n",
    "\n",
    "class Line():\n",
    "    def __init__(self, ax):\n",
    "        self.line = ax.plot([], [])[0]\n",
    "        self.xd = []\n",
    "        self.yd = []\n",
    "        self.lock = Lock()\n",
    "        self._stale = False\n",
    "        \n",
    "        \n",
    "    def add(self, x, y):\n",
    "        with self.lock:\n",
    "            self.xd.append(x)\n",
    "            self.yd.append(y)\n",
    "            self._stale = True\n",
    "        \n",
    "    def update(self):\n",
    "        if self._stale:\n",
    "            with self.lock:\n",
    "                self.line.set_data(self.xd, self.yd)\n",
    "                self._stale = False\n",
    "                return True\n",
    "        return False\n",
    "\n",
    "bioreactors = [\n",
    "    (\"192.168.1.12\", \"R&D1\"),\n",
    "    (\"192.168.1.16\", \"R&D2\"),\n",
    "]\n",
    "\n",
    "lines = {}\n",
    "        \n",
    "for ip, br in bioreactors:\n",
    "    ml.add_logger(ip, br, 1)    \n",
    "    brm = lines[br] = {}\n",
    "    brm[\"temp\"] = Line(tempax)\n",
    "    brm[\"ag\"] = Line(agax)\n",
    "    \n",
    "def mpl_cb():\n",
    "    tidx = -1\n",
    "    agidx = -1\n",
    "    def mpl_cb_inner(ev, payload):\n",
    "        nonlocal tidx, agidx\n",
    "        if ev == \"ML_BEGIN_LOG\":\n",
    "            vl = payload[1][1]\n",
    "            for i, v in enumerate(vl):\n",
    "                if v == \"temperature.pv\":\n",
    "                    tidx = i\n",
    "                elif v == \"agitation.pv\":\n",
    "                    agidx = i\n",
    "            if tidx == -1 or agidx == -1:\n",
    "                raise ValueError(\"failed to find proper index\")\n",
    "                \n",
    "        elif ev == \"ML_LOG_DATA\":\n",
    "            for tag, vl in payload:\n",
    "                if tag in lines:\n",
    "                    brm = lines[tag]\n",
    "                    x = vl[1]\n",
    "                    ytemp = vl[tidx]\n",
    "                    yag = vl[agidx]\n",
    "\n",
    "                    brm[\"temp\"].add(x*3600, ytemp)\n",
    "                    brm[\"ag\"].add(x*3600, yag)                   \n",
    "                    \n",
    "    return mpl_cb_inner\n",
    "\n",
    "ml.add_callback(mpl_cb())\n",
    "\n",
    "def update_plots():\n",
    "    update = False\n",
    "    for m in lines.values():\n",
    "        for line in m.values():\n",
    "            if line.update():\n",
    "                update = True\n",
    "    if update:\n",
    "        for ax in (tempax, agax):\n",
    "            ax.relim(True)\n",
    "            ax.autoscale_view(True,True,True)\n",
    "        fig.canvas.draw()\n",
    "    fig.canvas.flush_events()\n",
    "\n",
    "ml.start()\n",
    "end = time.time() + 30\n",
    "while time.time() < end:\n",
    "    time.sleep(0.1)\n",
    "    update_plots()\n",
    "ml.stop()\n",
    "plt.close()\n",
    "fig"
   ]
  },
  {
   "cell_type": "code",
   "execution_count": null,
   "metadata": {},
   "outputs": [],
   "source": [
    "class _BRInfo():\n",
    "    def __init__(self):\n",
    "        self._idxl = []\n",
    "    \n",
    "    def add_index(self, idx):\n",
    "        self._idxl.append(idx)\n",
    "\n",
    "class MPLCallback(MLCallback):\n",
    "    \n",
    "    def __init__(self, variables):\n",
    "        super().__init__()\n",
    "        self._variables = variables\n",
    "        self._tags = {}\n",
    "        \n",
    "    def onBeginLog(self, payload):\n",
    "        it = iter(payload); next(it)  # discard ML\n",
    "        for tag, vl in it:\n",
    "            info = BRInfo()\n",
    "            for v in self._variables:\n",
    "                info.add_index(vl.index(v))\n",
    "            self._tags[tag] = info\n",
    "            \n",
    "    \n",
    "    def onDataRecieved(self, payload):\n",
    "        pass\n",
    "    \n",
    "    def onEndLog(self, payload):\n",
    "        pass"
   ]
  },
  {
   "cell_type": "code",
   "execution_count": null,
   "metadata": {},
   "outputs": [],
   "source": [
    "\n",
    "\n",
    "def plot_vars(br_config, variables):\n",
    "    fig = plt.figure()\n",
    "    ml = HelloMultiLogger(variables)\n",
    "    axes = {}\n",
    "    for ip, br in br_config:\n",
    "        "
   ]
  }
 ],
 "metadata": {
  "kernelspec": {
   "display_name": "multilogger",
   "language": "python",
   "name": "multilogger"
  },
  "language_info": {
   "codemirror_mode": {
    "name": "ipython",
    "version": 3
   },
   "file_extension": ".py",
   "mimetype": "text/x-python",
   "name": "python",
   "nbconvert_exporter": "python",
   "pygments_lexer": "ipython3",
   "version": "3.5.2"
  }
 },
 "nbformat": 4,
 "nbformat_minor": 2
}
