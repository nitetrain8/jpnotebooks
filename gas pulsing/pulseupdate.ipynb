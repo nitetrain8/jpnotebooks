{
 "cells": [
  {
   "cell_type": "code",
   "execution_count": 1,
   "metadata": {
    "collapsed": true
   },
   "outputs": [],
   "source": [
    "from officelib.xllib import *\n",
    "xl = Excel()"
   ]
  },
  {
   "cell_type": "code",
   "execution_count": 3,
   "metadata": {
    "collapsed": false
   },
   "outputs": [],
   "source": [
    "wbs = [w for w in xl.Workbooks\n",
    "    ]"
   ]
  },
  {
   "cell_type": "code",
   "execution_count": 4,
   "metadata": {
    "collapsed": false
   },
   "outputs": [
    {
     "data": {
      "text/plain": [
       "[<win32com.gen_py.None.Workbook>,\n",
       " <win32com.gen_py.None.Workbook>,\n",
       " <win32com.gen_py.None.Workbook>,\n",
       " <win32com.gen_py.None.Workbook>]"
      ]
     },
     "execution_count": 4,
     "metadata": {},
     "output_type": "execute_result"
    }
   ],
   "source": [
    "wbs"
   ]
  },
  {
   "cell_type": "code",
   "execution_count": 13,
   "metadata": {
    "collapsed": false
   },
   "outputs": [],
   "source": [
    "xl = Excel()\n",
    "wbs = [w for w in xl.Workbooks]\n",
    "for wb in wbs:\n",
    "    ws = wb.Worksheets(1)\n",
    "    ws.Rows(1).Insert()\n",
    "    cr = ws.Cells.Range\n",
    "    c = ws.Cells\n",
    "    cr(c(1,1), c(1,5)).Value = [(\"Time(ms)\", \"Time(s)\", \"PulsePV\", \"Pulse(corr.)\", \"Sum\")]\n",
    "    for i in range(1, 6):\n",
    "        ws.Columns(i).AutoFit()"
   ]
  },
  {
   "cell_type": "code",
   "execution_count": 15,
   "metadata": {
    "collapsed": false
   },
   "outputs": [],
   "source": [
    "xl = Excel()\n",
    "wbs = [w for w in xl.Workbooks]\n",
    "for wb in wbs:\n",
    "    cells = wb.Worksheets(1).Cells\n",
    "    cr = cells.Range\n",
    "    cr(\"E1:F1\").Value = [(\"Integral\", \"Sum\")]"
   ]
  },
  {
   "cell_type": "code",
   "execution_count": 16,
   "metadata": {
    "collapsed": false
   },
   "outputs": [
    {
     "data": {
      "text/plain": [
       "True"
      ]
     },
     "execution_count": 16,
     "metadata": {},
     "output_type": "execute_result"
    }
   ],
   "source": [
    "xl.Selection.Delete()"
   ]
  },
  {
   "cell_type": "code",
   "execution_count": null,
   "metadata": {
    "collapsed": true
   },
   "outputs": [],
   "source": []
  }
 ],
 "metadata": {
  "kernelspec": {
   "display_name": "Python 3",
   "language": "python",
   "name": "python3"
  },
  "language_info": {
   "codemirror_mode": {
    "name": "ipython",
    "version": 3
   },
   "file_extension": ".py",
   "mimetype": "text/x-python",
   "name": "python",
   "nbconvert_exporter": "python",
   "pygments_lexer": "ipython3",
   "version": "3.4.1"
  }
 },
 "nbformat": 4,
 "nbformat_minor": 0
}
