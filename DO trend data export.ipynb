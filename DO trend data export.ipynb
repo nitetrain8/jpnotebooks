{
 "cells": [
  {
   "cell_type": "code",
   "execution_count": 41,
   "metadata": {
    "collapsed": true
   },
   "outputs": [],
   "source": [
    "from hello import hello3\n",
    "from matplotlib import pyplot as plt\n",
    "import numpy\n",
    "from officelib.xllib import *\n",
    "import datetime"
   ]
  },
  {
   "cell_type": "code",
   "execution_count": 28,
   "metadata": {
    "collapsed": true
   },
   "outputs": [],
   "source": [
    "def date(ts):\n",
    "    return datetime.datetime.fromtimestamp(ts/1000).strftime(\"%m/%d/%y %I:%M:%S %p\")\n",
    "\n",
    "def td2xld(data):\n",
    "    td = data['last']\n",
    "    l = [(\"Time\", \"DOPV(%)\")]\n",
    "    l.extend((date(ts), pv) for ts, pv in td)\n",
    "    return l\n",
    "\n",
    "def paste(cells, xld):\n",
    "    tl = cells.Range(\"A1\")\n",
    "    tr = tl.Offset(1, len(xld[0]))\n",
    "    br = tr.Offset(len(xld), 1)\n",
    "    cells.Range(tl, br).Value = xld\n",
    "    "
   ]
  },
  {
   "cell_type": "code",
   "execution_count": 31,
   "metadata": {
    "collapsed": true
   },
   "outputs": [],
   "source": [
    "def main():\n",
    "    ip = '71.189.82.196:85'\n",
    "    h = hello3.HelloApp(ip)\n",
    "    data = h.getTrendData('12hr', 'do')\n",
    "    xld = td2xld(data)\n",
    "    xl, wb, ws, cells = xlObjs()\n",
    "    paste(cells, xld)\n",
    "    wb.Name = \"Foo.Bar\""
   ]
  },
  {
   "cell_type": "code",
   "execution_count": 43,
   "metadata": {
    "collapsed": false
   },
   "outputs": [],
   "source": [
    "xl = Excel()\n",
    "for f in xl.RecentFiles:\n",
    "    if f.Name.lower().startswith(\"80l do decay\"):\n",
    "        wb = f.Open()\n",
    "        break\n",
    "else:\n",
    "    raise ValueError(\"uhoh\")\n",
    "ws = wb.Worksheets(1)\n",
    "cells = ws.Cells"
   ]
  },
  {
   "cell_type": "code",
   "execution_count": 44,
   "metadata": {
    "collapsed": false
   },
   "outputs": [
    {
     "name": "stdout",
     "output_type": "stream",
     "text": [
      "testing x=5.450done\n"
     ]
    }
   ],
   "source": [
    "xc = cells.Range(\"BR1\")\n",
    "yc = cells.Range(\"BT1\")\n",
    "data = []\n",
    "topleft = cells.Range(\"BV6\")\n",
    "with screen_lock(xl):\n",
    "    for i in range(54400, 54600, 1):\n",
    "        x = i/10000\n",
    "        if not i % 100:\n",
    "            print(\"\\rtesting x=%.3f\"%x, end=\"\")\n",
    "        xc.Value = x\n",
    "        y = yc.Value\n",
    "        data.append((x,y))\n",
    "    br = topleft.Offset(len(data), 2)\n",
    "    cells.Range(topleft, br).Value = data\n",
    "    print(\"done\")"
   ]
  },
  {
   "cell_type": "code",
   "execution_count": null,
   "metadata": {
    "collapsed": true
   },
   "outputs": [],
   "source": []
  }
 ],
 "metadata": {
  "kernelspec": {
   "display_name": "Python 3",
   "language": "python",
   "name": "python3"
  },
  "language_info": {
   "codemirror_mode": {
    "name": "ipython",
    "version": 3
   },
   "file_extension": ".py",
   "mimetype": "text/x-python",
   "name": "python",
   "nbconvert_exporter": "python",
   "pygments_lexer": "ipython3",
   "version": "3.5.2"
  }
 },
 "nbformat": 4,
 "nbformat_minor": 1
}
