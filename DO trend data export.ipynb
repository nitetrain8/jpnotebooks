{
 "cells": [
  {
   "cell_type": "code",
   "execution_count": 45,
   "metadata": {
    "collapsed": true
   },
   "outputs": [],
   "source": [
    "from hello import hello3\n",
    "from matplotlib import pyplot as plt\n",
    "import numpy\n",
    "from officelib.xllib import *\n",
    "import datetime"
   ]
  },
  {
   "cell_type": "code",
   "execution_count": 28,
   "metadata": {
    "collapsed": true
   },
   "outputs": [],
   "source": [
    "def date(ts):\n",
    "    return datetime.datetime.fromtimestamp(ts/1000).strftime(\"%m/%d/%y %I:%M:%S %p\")\n",
    "\n",
    "def td2xld(data):\n",
    "    td = data['last']\n",
    "    l = [(\"Time\", \"DOPV(%)\")]\n",
    "    l.extend((date(ts), pv) for ts, pv in td)\n",
    "    return l\n",
    "\n",
    "def paste(cells, xld):\n",
    "    tl = cells.Range(\"A1\")\n",
    "    tr = tl.Offset(1, len(xld[0]))\n",
    "    br = tr.Offset(len(xld), 1)\n",
    "    cells.Range(tl, br).Value = xld\n",
    "    "
   ]
  },
  {
   "cell_type": "code",
   "execution_count": 31,
   "metadata": {
    "collapsed": true
   },
   "outputs": [],
   "source": [
    "def main():\n",
    "    ip = '71.189.82.196:85'\n",
    "    h = hello3.HelloApp(ip)\n",
    "    data = h.getTrendData('12hr', 'do')\n",
    "    xld = td2xld(data)\n",
    "    xl, wb, ws, cells = xlObjs()\n",
    "    paste(cells, xld)\n",
    "    wb.Name = \"Foo.Bar\""
   ]
  },
  {
   "cell_type": "code",
   "execution_count": 43,
   "metadata": {
    "collapsed": false
   },
   "outputs": [],
   "source": [
    "xl = Excel()\n",
    "for f in xl.RecentFiles:\n",
    "    if f.Name.lower().startswith(\"80l do decay\"):\n",
    "        wb = f.Open()\n",
    "        break\n",
    "else:\n",
    "    raise ValueError(\"uhoh\")\n",
    "ws = wb.Worksheets(1)\n",
    "cells = ws.Cells"
   ]
  },
  {
   "cell_type": "code",
   "execution_count": 44,
   "metadata": {
    "collapsed": false
   },
   "outputs": [
    {
     "name": "stdout",
     "output_type": "stream",
     "text": [
      "testing x=5.450done\n"
     ]
    }
   ],
   "source": [
    "xc = cells.Range(\"BR1\")\n",
    "yc = cells.Range(\"BT1\")\n",
    "data = []\n",
    "topleft = cells.Range(\"BV6\")\n",
    "with screen_lock(xl):\n",
    "    for i in range(54400, 54600, 1):\n",
    "        x = i/10000\n",
    "        if not i % 100:\n",
    "            print(\"\\rtesting x=%.3f\"%x, end=\"\")\n",
    "        xc.Value = x\n",
    "        y = yc.Value\n",
    "        data.append((x,y))\n",
    "    br = topleft.Offset(len(data), 2)\n",
    "    cells.Range(topleft, br).Value = data\n",
    "    print(\"done\")"
   ]
  },
  {
   "cell_type": "code",
   "execution_count": 139,
   "metadata": {
    "collapsed": false
   },
   "outputs": [
    {
     "data": {
      "text/plain": [
       "'Overnight Stability Test 170215.xlsb'"
      ]
     },
     "execution_count": 139,
     "metadata": {},
     "output_type": "execute_result"
    }
   ],
   "source": [
    "from officelib.const import xlconst as xlc\n",
    "from pywintypes import com_error\n",
    "xl = Excel()\n",
    "\n",
    "wb = xl.ActiveWorkbook\n",
    "if not wb:\n",
    "    wb = xl.RecentFiles(1).Open()\n",
    "ws1 = wb.Worksheets(1)\n",
    "try:\n",
    "    ws2 = wb.Worksheets(2)\n",
    "except com_error:\n",
    "    ws2 = wb.Worksheets.Add()\n",
    "wb.Name"
   ]
  },
  {
   "cell_type": "code",
   "execution_count": 140,
   "metadata": {
    "collapsed": false
   },
   "outputs": [
    {
     "name": "stdout",
     "output_type": "stream",
     "text": [
      "Done                            \n"
     ]
    }
   ],
   "source": [
    "ws2.UsedRange.Clear()\n",
    "max_data = 20000\n",
    "with screen_lock(xl):\n",
    "    c1 = ws1.Cells.Range(\"A1\")\n",
    "    c2 = ws2.Cells.Range(\"A1\")\n",
    "    while True:\n",
    "        print(\"\\rExtracting data from %s     \"%c1.GetAddress(0,0), end=\"\")\n",
    "        v = c1.Value\n",
    "        if v == \"Start Time\":\n",
    "            break\n",
    "        tl = c1\n",
    "        br = c1.End(xlc.xlDown).Offset(1,2)\n",
    "        data = ws1.Cells.Range(tl, br).Value\n",
    "        if len(data) > max_data:\n",
    "            skip = len(data) // max_data + 1\n",
    "        data = data[::skip]\n",
    "\n",
    "        ptl = c2\n",
    "        pbr = c2.Offset(len(data), 2)\n",
    "        ws2.Cells.Range(ptl, pbr).Value = data\n",
    "\n",
    "        c1 = c1.Offset(1, 4)\n",
    "        c2 = c2.Offset(1, 4)\n",
    "print(\"\\rDone                            \")"
   ]
  },
  {
   "cell_type": "code",
   "execution_count": 141,
   "metadata": {
    "collapsed": false
   },
   "outputs": [
    {
     "data": {
      "text/plain": [
       "True"
      ]
     },
     "execution_count": 141,
     "metadata": {},
     "output_type": "execute_result"
    }
   ],
   "source": [
    "def getref():\n",
    "    dopv = ws2.Cells.Find(What=\"DOPV(%)\", SearchOrder=xlc.xlByRows)\n",
    "    ref = dopv.Offset(2, 1)\n",
    "    factor = dopv.Offset(1,2)\n",
    "    minus = dopv.Offset(1, 4)\n",
    "    return ref, factor, minus\n",
    "dopv = ws2.Cells.Find(What=\"DOPV(%)\", SearchOrder=xlc.xlByRows)\n",
    "dopv.Offset(1,2).EntireColumn.Insert()"
   ]
  },
  {
   "cell_type": "code",
   "execution_count": 142,
   "metadata": {
    "collapsed": false
   },
   "outputs": [],
   "source": [
    "def elapsed(cells, c, insert=True): \n",
    "    if insert:\n",
    "        c.Offset(1,2).EntireColumn.Insert()\n",
    "    #ref, factor = getref()\n",
    "    form = \"=(%s-%s)*%s - %s\" %(c.GetAddress(0,0), ref.Address, \n",
    "                                factor.Address, minus.Address)\n",
    "    ar = cells.Range(c.Offset(1,2), c.End(xlc.xlDown).Offset(1,2))\n",
    "    ar.NumberFormat = \"0.00\"\n",
    "    c.Offset(1,2).Value = form\n",
    "    c.Offset(1,2).AutoFill(ar)\n",
    "    \n",
    "c1 = ws2.Cells.Range(\"A1\")\n",
    "with screen_lock(xl):\n",
    "    while True:\n",
    "        ref, factor, minus = getref()\n",
    "        if c1.Value == \"DOPV(%)\":\n",
    "            insert = False\n",
    "        else:\n",
    "            insert = True\n",
    "        if c1.Value is None:\n",
    "            break\n",
    "        elapsed(ws2.Cells, c1.Offset(2,1), insert)\n",
    "        c1 = c1.Offset(1,5)\n",
    "factor.Value = 24\n",
    "minus.Value = 0"
   ]
  },
  {
   "cell_type": "code",
   "execution_count": 150,
   "metadata": {
    "collapsed": true
   },
   "outputs": [],
   "source": [
    "c1, c2, c3 = wb.Worksheets(\"Sheet1\").ChartObjects()"
   ]
  },
  {
   "cell_type": "code",
   "execution_count": 155,
   "metadata": {
    "collapsed": false
   },
   "outputs": [],
   "source": [
    "class myint(int):\n",
    "    def __bool__(self):\n",
    "        return True\n",
    "for c in c1, c2, c3:\n",
    "    FormatAxesScale(c.Chart, myint(0), 16)\n",
    "    "
   ]
  },
  {
   "cell_type": "code",
   "execution_count": null,
   "metadata": {
    "collapsed": true
   },
   "outputs": [],
   "source": []
  }
 ],
 "metadata": {
  "kernelspec": {
   "display_name": "Python 3",
   "language": "python",
   "name": "python3"
  },
  "language_info": {
   "codemirror_mode": {
    "name": "ipython",
    "version": 3
   },
   "file_extension": ".py",
   "mimetype": "text/x-python",
   "name": "python",
   "nbconvert_exporter": "python",
   "pygments_lexer": "ipython3",
   "version": "3.5.2"
  }
 },
 "nbformat": 4,
 "nbformat_minor": 1
}
