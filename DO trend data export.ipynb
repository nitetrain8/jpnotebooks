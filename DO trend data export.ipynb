{
 "cells": [
  {
   "cell_type": "code",
   "execution_count": 24,
   "metadata": {
    "collapsed": true
   },
   "outputs": [],
   "source": [
    "from hello import hello3\n",
    "from matplotlib import pyplot as plt\n",
    "import numpy\n",
    "from officelib.xllib import *\n",
    "import datetime"
   ]
  },
  {
   "cell_type": "code",
   "execution_count": 28,
   "metadata": {
    "collapsed": true
   },
   "outputs": [],
   "source": [
    "def date(ts):\n",
    "    return datetime.datetime.fromtimestamp(ts/1000).strftime(\"%m/%d/%y %I:%M:%S %p\")\n",
    "\n",
    "def td2xld(data):\n",
    "    td = data['last']\n",
    "    l = [(\"Time\", \"DOPV(%)\")]\n",
    "    l.extend((date(ts), pv) for ts, pv in td)\n",
    "    return l\n",
    "\n",
    "def paste(cells, xld):\n",
    "    tl = cells.Range(\"A1\")\n",
    "    tr = tl.Offset(1, len(xld[0]))\n",
    "    br = tr.Offset(len(xld), 1)\n",
    "    cells.Range(tl, br).Value = xld\n",
    "    "
   ]
  },
  {
   "cell_type": "code",
   "execution_count": 31,
   "metadata": {
    "collapsed": true
   },
   "outputs": [],
   "source": [
    "def main():\n",
    "    ip = '71.189.82.196:85'\n",
    "    h = hello3.HelloApp(ip)\n",
    "    data = h.getTrendData('12hr', 'do')\n",
    "    xld = td2xld(data)\n",
    "    xl, wb, ws, cells = xlObjs()\n",
    "    paste(cells, xld)\n",
    "    wb.Name = \"Foo.Bar\""
   ]
  },
  {
   "cell_type": "code",
   "execution_count": 32,
   "metadata": {
    "collapsed": false
   },
   "outputs": [],
   "source": [
    "main()"
   ]
  },
  {
   "cell_type": "code",
   "execution_count": null,
   "metadata": {
    "collapsed": true
   },
   "outputs": [],
   "source": []
  }
 ],
 "metadata": {
  "kernelspec": {
   "display_name": "Python 3",
   "language": "python",
   "name": "python3"
  }
 },
 "nbformat": 4,
 "nbformat_minor": 1
}
