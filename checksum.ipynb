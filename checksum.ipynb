{
 "cells": [
  {
   "cell_type": "code",
   "execution_count": 91,
   "metadata": {
    "collapsed": true
   },
   "outputs": [],
   "source": [
    "import hashlib\n",
    "from base64 import b64encode as b64\n",
    "import sys, os, pathlib\n",
    "import itertools"
   ]
  },
  {
   "cell_type": "code",
   "execution_count": 110,
   "metadata": {
    "collapsed": true
   },
   "outputs": [],
   "source": [
    "def fmt_hash(typ, meth, h):\n",
    "    return \"%s %s:%s\" % (typ, meth, h)\n",
    "\n",
    "def print_hash(typ, meth, h, f=None):\n",
    "    s = fmt_hash(typ, meth, h)\n",
    "    print(s, file=f or sys.stdout)\n",
    "    \n",
    "def print_hex(h, meth='', f=None):\n",
    "    print_hash('hex', meth, h, f)\n",
    "    \n",
    "def print_HEX(h, meth='', f=None):\n",
    "    print_hash('HEX', meth, h, f)\n",
    "    \n",
    "def print_b64(h, meth='', f=None):\n",
    "    print_hash('base64', meth, h, f)"
   ]
  },
  {
   "cell_type": "code",
   "execution_count": 111,
   "metadata": {
    "collapsed": true
   },
   "outputs": [],
   "source": [
    "def bhH(d):\n",
    "    b64s = b64(d)\n",
    "    hexs = ''.join(hex(i)[2:] for i in d)\n",
    "    HEXS = hexs.upper()\n",
    "    return b64s, hexs, HEXS  "
   ]
  },
  {
   "cell_type": "code",
   "execution_count": 112,
   "metadata": {
    "collapsed": true
   },
   "outputs": [],
   "source": [
    "def calc_checksum_sha256(s):\n",
    "    if not isinstance(s, bytes):\n",
    "        s = s.encode('ascii')\n",
    "    d = hashlib.sha256(s).digest()\n",
    "    b, h, H = bhH(d)\n",
    "    return d, b, h, H\n",
    "\n",
    "def checksum_sha256(s):\n",
    "    d, b, h, H = calc_checksum_sha256(s)\n",
    "    m = 'sha256'\n",
    "    print_hex(h, m)\n",
    "    print_HEX(H, m)\n",
    "    print_b64(b, m)\n",
    "    return d, b, h, H"
   ]
  },
  {
   "cell_type": "code",
   "execution_count": 113,
   "metadata": {
    "collapsed": true
   },
   "outputs": [],
   "source": [
    "class UnknownMethod(ValueError):\n",
    "    def __init__(self, msg):\n",
    "        super().__init__(\"unsupported hash method: %s\" % hash_method)\n",
    "\n",
    "def checksum(ob, hash_method='sha256'):\n",
    "    if isinstance(ob, (str)):\n",
    "        ob = ob.encode('ascii')\n",
    "    elif isinstance(ob, bytes):\n",
    "        pass\n",
    "    elif hasattr(ob, 'read'):\n",
    "        ob = ob.read()\n",
    "    else:\n",
    "        raise TypeError(type(ob))\n",
    "        \n",
    "    if hash_method=='sha256':\n",
    "        return checksum_sha256(ob)\n",
    "    else:\n",
    "        raise UnknownMethod(hash_method)"
   ]
  },
  {
   "cell_type": "code",
   "execution_count": 114,
   "metadata": {
    "collapsed": false
   },
   "outputs": [],
   "source": [
    "def pl2s(p):\n",
    "    return str(p)\n",
    "\n",
    "def get_bytes(ob):\n",
    "    if isinstance(ob, bytes):\n",
    "        return ob\n",
    "    if isinstance(ob, str):\n",
    "        return ob.encode('ascii')\n",
    "    if isinstance(ob, pathlib.Path):\n",
    "        with open(pl2s(ob), 'rb') as f:\n",
    "            return f.read()\n",
    "    if hasattr(ob, 'read'):\n",
    "        return ob.read()\n",
    "    raise TypeError(type(ob))\n",
    "    \n",
    "def checksum_file(file, method='sha256'):\n",
    "    if isinstance(file, (str, pathlib.Path)):\n",
    "        if isinstance(file, pathlib.Path):\n",
    "            file = pl2s(file)\n",
    "        with open(file, 'rb') as f:\n",
    "            return checksum(f.read(), method)\n",
    "    else:\n",
    "        return checksum(file, method)"
   ]
  },
  {
   "cell_type": "code",
   "execution_count": 115,
   "metadata": {
    "collapsed": false
   },
   "outputs": [
    {
     "name": "stdout",
     "output_type": "stream",
     "text": [
      "hex sha256:fd2547724b505f487e6dcb29ec2ecff3af35a841a77ab2e85fd87350abd36570\n",
      "HEX sha256:FD2547724B505F487E6DCB29EC2ECFF3AF35A841A77AB2E85FD87350ABD36570\n",
      "base64 sha256:b'/SVHcktQX0h+bcsp7C7P8681qEGnerLoX9hzUKvTZXA='\n"
     ]
    }
   ],
   "source": [
    "file = \"E:\\\\BizHawk-1.11.6\\\\Firmware\\\\GBA.BIOS\"\n",
    "d=checksum_file(file)"
   ]
  },
  {
   "cell_type": "code",
   "execution_count": 123,
   "metadata": {
    "collapsed": false
   },
   "outputs": [],
   "source": [
    "def compare(h1, h2, method, typ):\n",
    "    match = \"MATCH\"\n",
    "    if h1 != h2:\n",
    "        match = \"MISMATCH\"\n",
    "    print(match)\n",
    "    print_hash(typ, method, h1)\n",
    "    print_hash(typ, method, h2)\n",
    "    def putc(c): print(c, end=\"\")\n",
    "    if h1 != h2:\n",
    "        f1, f2 = fmt_hash(typ, method, h1), fmt_hash(typ, method, h2)\n",
    "        for a, b in itertools.zip_longest(f1, f2, fillvalue=\" \"):\n",
    "            if a != b:\n",
    "                putc(\"^\")\n",
    "            else:\n",
    "                putc(\" \")\n",
    "            \n",
    "                \n",
    "    \n",
    "\n",
    "def compare_checksum(ob, cs, cs_type='hex', method='sha256'):\n",
    "    s = get_bytes(ob)\n",
    "    if method=='sha256':\n",
    "        d, b, h, H = calc_checksum_sha256(s)\n",
    "    else:\n",
    "        raise UnknownMethod(method)\n",
    "    if cs_type == 'hex':\n",
    "        compare(h, cs, method, cs_type)\n",
    "    elif cs_type == 'HEX':\n",
    "        compare(H, cs, method, cs_type)\n",
    "    elif cs_type in ('b64', 'base64'):\n",
    "        compare(b, cs, method, cs_type)\n",
    "    else:\n",
    "        raise UnknownMethod(cs_type)\n",
    "        \n",
    "        \n",
    "            \n",
    "    "
   ]
  },
  {
   "cell_type": "code",
   "execution_count": 124,
   "metadata": {
    "collapsed": true
   },
   "outputs": [],
   "source": [
    "def test():\n",
    "    p = pathlib.Path(file)\n",
    "    cs = \"FD2547724B505F487E6DCB29EC2ECFF3AF35A841A77Aa2E85FD87350ABD36570\"\n",
    "    compare_checksum(p, cs, 'HEX')"
   ]
  },
  {
   "cell_type": "code",
   "execution_count": 125,
   "metadata": {
    "collapsed": false
   },
   "outputs": [],
   "source": [
    "def main():\n",
    "    fp, cs = sys.argv[1:3]\n",
    "    for typ in ('HEX', 'hex', 'base64', 'HEX'):\n",
    "        if typ in sys.argv:\n",
    "            break\n",
    "    for meth in (\"sha256\",):\n",
    "        if meth in sys.argv:\n",
    "            break\n",
    "    fp = pathlib.Path(fp)\n",
    "    compare_checksum(fp, cs, typ, meth)"
   ]
  },
  {
   "cell_type": "code",
   "execution_count": 126,
   "metadata": {
    "collapsed": false
   },
   "outputs": [
    {
     "name": "stdout",
     "output_type": "stream",
     "text": [
      "MISMATCH\n",
      "HEX sha256:FD2547724B505F487E6DCB29EC2ECFF3AF35A841A77AB2E85FD87350ABD36570\n",
      "HEX sha256:FD2547724B505F487E6DCB29EC2ECFF3AF35A841A77Aa2E85FD87350ABD36570\n",
      "                                                       ^                   "
     ]
    }
   ],
   "source": [
    "sys.argv[1:3] = [p, cs]\n",
    "if __name__ == '__main__':\n",
    "    main()"
   ]
  },
  {
   "cell_type": "code",
   "execution_count": null,
   "metadata": {
    "collapsed": true
   },
   "outputs": [],
   "source": []
  }
 ],
 "metadata": {
  "kernelspec": {
   "display_name": "Python 3",
   "language": "python",
   "name": "python3"
  },
  "language_info": {
   "codemirror_mode": {
    "name": "ipython",
    "version": 3
   },
   "file_extension": ".py",
   "mimetype": "text/x-python",
   "name": "python",
   "nbconvert_exporter": "python",
   "pygments_lexer": "ipython3",
   "version": "3.4.3"
  }
 },
 "nbformat": 4,
 "nbformat_minor": 0
}
