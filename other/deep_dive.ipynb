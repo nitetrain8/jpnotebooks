{
 "cells": [
  {
   "cell_type": "code",
   "execution_count": 15,
   "metadata": {
    "collapsed": true
   },
   "outputs": [],
   "source": [
    "# coding: utf-8\n",
    "\n",
    "import os\n",
    "import clipboard\n",
    "import csv\n",
    "\n",
    "dld = \"C:/users/administrator/downloads\"\n",
    "dld = os.path.normpath(dld)\n",
    "\n",
    "def gfp(fn):\n",
    "    return os.path.join(dld, fn)\n",
    "\n",
    "def ofp():\n",
    "    with open(gfp(\"Warcraft Logs - Combat Analysis for Warcraft.csv\"), 'r', encoding=\"utf-8-sig\") as f:\n",
    "     return f.read()\n",
    "     \n",
    "def get():\n",
    "    lines = pfp()\n",
    "    header = lines[0]\n",
    "    hidx = {h:i for i, h in enumerate(header)}\n",
    "    plines = lines[1:]\n",
    "    out = []\n",
    "    def vals(p): return p[hidx[\"Name\"]], p[hidx[\"DPS\"]]\n",
    "    for p in plines:\n",
    "        out.append(\"    %-15s %s\"%vals(p))\n",
    "    s = \"\\n\".join(out)\n",
    "    clipboard.copy(s)\n",
    "       \n",
    "def pfp():\n",
    "    s = ofp()\n",
    "    return list(csv.reader(s.splitlines()))\n",
    "    \n",
    "def get():\n",
    "    lines = pfp()\n",
    "    header = lines[0]\n",
    "    hidx = {h:i for i, h in enumerate(header)}\n",
    "    plines = lines[1:]\n",
    "    out = []\n",
    "    def vals(p): return p[hidx[\"Name\"]], p[hidx[\"Amount\"]].split(\"%\")[-1]\n",
    "    for p in plines:\n",
    "        out.append(\"    %-15s %s\"%vals(p))\n",
    "    s = \"\\n\".join(out)\n",
    "    clipboard.copy(s)\n",
    "      \n",
    "def get2():\n",
    "    lines = pfp()\n",
    "    header = lines[0]\n",
    "    hidx = {h:i for i, h in enumerate(header)}\n",
    "    plines = lines[1:]\n",
    "    def player(p): return p[hidx[\"Name\"]]\n",
    "    def amt1(p): return int(p[hidx[\"Amount\"]].split(\"$\")[0])\n",
    "    def amt2(p): return p[hidx[\"Amount\"]].split(\"%\")[1]\n",
    "    pl = [(player(p), amt1(p), amt2(p)) for p in plines]\n",
    "    pl.sort(key=lambda na: na[1], reverse=True)\n",
    "    m = pl[0][1]\n",
    "    out = []\n",
    "    for name, a1, a2 in pl:\n",
    "        bar = int(a1/m * 20) * \"#\"\n",
    "        out.append(\"        %-15s %-20s %s\"%(name, bar, a2))\n",
    "    return \"\\n\".join(out)"
   ]
  },
  {
   "cell_type": "code",
   "execution_count": 24,
   "metadata": {},
   "outputs": [],
   "source": [
    "def get3():\n",
    "    clipboard.copy(get2())\n",
    "get3()"
   ]
  },
  {
   "cell_type": "code",
   "execution_count": null,
   "metadata": {
    "collapsed": true
   },
   "outputs": [],
   "source": []
  }
 ],
 "metadata": {
  "kernelspec": {
   "display_name": "Python 3",
   "language": "python",
   "name": "python3"
  },
  "language_info": {
   "codemirror_mode": {
    "name": "ipython",
    "version": 3
   },
   "file_extension": ".py",
   "mimetype": "text/x-python",
   "name": "python",
   "nbconvert_exporter": "python",
   "pygments_lexer": "ipython3",
   "version": "3.6.1"
  }
 },
 "nbformat": 4,
 "nbformat_minor": 2
}
