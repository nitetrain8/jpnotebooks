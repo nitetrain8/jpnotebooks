{
 "cells": [
  {
   "cell_type": "code",
   "execution_count": 1,
   "metadata": {},
   "outputs": [],
   "source": [
    "from scripts.tools import active_dev_worksheet as adw\n",
    "# import adw\n",
    "import networkx as nx\n",
    "from pywintypes import com_error"
   ]
  },
  {
   "cell_type": "code",
   "execution_count": 109,
   "metadata": {},
   "outputs": [],
   "source": [
    "def graph_all(issues):\n",
    "    g = nx.DiGraph()\n",
    "    for i in issues:\n",
    "        iid = i.id\n",
    "        g.add_node(iid)\n",
    "        pid = i.parent\n",
    "        if pid is not None:\n",
    "            g.add_edge(pid, iid)\n",
    "    if not nx.is_forest(g):  # should not be possible\n",
    "        raise ValueError(\"Circles in graph :(\") \n",
    "    return g\n",
    "     \n",
    "    \n",
    "def _get_versioned_roots(g, idmap):\n",
    "    allroots = find_roots(g)\n",
    "    fvroots = collections.defaultdict(list)\n",
    "    for root in allroots:\n",
    "        iss = idmap[root]\n",
    "        fvn = adw.api.resource_attrib(iss.fixed_version, \"name\")\n",
    "        fvroots[fvn].append(root)\n",
    "    return fvroots\n",
    "    \n",
    "def find_roots(g):\n",
    "    return [n for n, ind in g.in_degree() if ind == 0]\n",
    "    \n",
    "def _dfs_visit(g, parent, visit, depth):\n",
    "    for node in sorted(g.successors(parent)):\n",
    "        visit(parent, node, depth)\n",
    "        _dfs_visit(g, node, visit, depth + 1)\n",
    "\n",
    "        \n",
    "def dfs_visit(g, node, visit):\n",
    "    visit(None, node, 0)\n",
    "    _dfs_visit(g, node, visit, 1)\n",
    "\n",
    "    \n",
    "def graph_versions(allg, idmap, versions):\n",
    "    \n",
    "    def visit(graph):\n",
    "        def do_visit(parent, node, _depth):\n",
    "            graph.add_node(node)\n",
    "            if parent is not None:\n",
    "                graph.add_edge(parent, node)\n",
    "        return do_visit\n",
    "    \n",
    "    fvroots = _get_versioned_roots(g, idmap)\n",
    "    graphs = {}\n",
    "    for fv in versions:\n",
    "        graphs[fv.name] = subg = nx.DiGraph()\n",
    "        roots = fvroots.get(fv.name, ())\n",
    "        for r in roots:\n",
    "            dfs_visit(allg, r, visit(subg))\n",
    "            \n",
    "    # for un-sprinted issues, we only care about\n",
    "    # ones for PBS Software\n",
    "    sw_proj_id = 5\n",
    "    no_sprint = fvroots.get(None, ())\n",
    "    graphs['<No Sprint>'] = subg = nx.DiGraph()\n",
    "    for r in no_sprint:\n",
    "        iss = idmap[r]\n",
    "        if iss.project.id == sw_proj_id:\n",
    "            dfs_visit(allg, r, visit(subg))\n",
    "        \n",
    "    return graphs"
   ]
  },
  {
   "cell_type": "code",
   "execution_count": 117,
   "metadata": {},
   "outputs": [],
   "source": [
    "def download(force=False):\n",
    "    if \"issues\" in globals() and not force:\n",
    "        return\n",
    "    global issues, idmap, versions\n",
    "    url = \"https://issue.pbsbiotech.com\"\n",
    "    key = \"7676add9cac6631410403671cdd7850311987898\"\n",
    "    client = adw.api.Client(url, key)\n",
    "\n",
    "    issues = client.Issues.filter(status_id=\"*\")\n",
    "    idmap = {i.id:i for i in issues}\n",
    "    versions = client.Projects.filter_versions(\"pbssoftware\")\n",
    "    versions = [v for v in versions if v.status == \"open\"]\n",
    "download()"
   ]
  },
  {
   "cell_type": "code",
   "execution_count": 2,
   "metadata": {},
   "outputs": [],
   "source": [
    "xl = adw.open_excel()\n",
    "wb = xl.Workbooks.Add()\n",
    "ws = wb.Worksheets(1)"
   ]
  },
  {
   "cell_type": "code",
   "execution_count": 118,
   "metadata": {},
   "outputs": [],
   "source": [
    "import importlib\n",
    "importlib.reload(adw.xlhelpers)\n",
    "importlib.reload(adw.unionify)\n",
    "importlib.reload(adw.api)\n",
    "importlib.reload(adw.table)\n",
    "adt = importlib.reload(adw.adtable)\n",
    "adw = importlib.reload(adw)\n",
    "globals().update(adt.__dict__)"
   ]
  },
  {
   "cell_type": "code",
   "execution_count": 119,
   "metadata": {},
   "outputs": [],
   "source": [
    "g = graph_all(issues)\n",
    "vgraphs = graph_versions(g, idmap, versions)"
   ]
  },
  {
   "cell_type": "code",
   "execution_count": 120,
   "metadata": {},
   "outputs": [
    {
     "name": "stdout",
     "output_type": "stream",
     "text": [
      "creating worksheet 'Future Release'\n",
      "creating worksheet '3.0'\n",
      "creating worksheet 'Legacy'\n",
      "creating worksheet '3.1.0'\n",
      "creating worksheet 'IM229 C'\n",
      "creating worksheet 'IC03405 J'\n",
      "creating worksheet 'Active Development'\n",
      "creating worksheet '<No Sprint>'\n"
     ]
    }
   ],
   "source": [
    "def delete_worksheets(wb):\n",
    "    while wb.Worksheets.Count > 1:\n",
    "        wb.Worksheets(wb.Worksheets.Count).Delete()\n",
    "    ws.UsedRange.Clear()\n",
    "    ws.Name = \"Sheet1\"\n",
    "    return wb.Worksheets(1)\n",
    "\n",
    "with adw.screen_lock(xl):\n",
    "    ws = delete_worksheets(wb)\n",
    "    tc = adw.TableCreator()\n",
    "    for name, vg in vgraphs.items():\n",
    "        if name is None:\n",
    "            name = \"<Uncategorized>\"\n",
    "        print(f\"creating worksheet '{name}'\")\n",
    "        ws = wb.Worksheets.Add()\n",
    "        ws.Name = name\n",
    "        tc.create(ws, vg, idmap)\n",
    "    wb.Worksheets(\"Sheet1\").Delete()"
   ]
  },
  {
   "cell_type": "code",
   "execution_count": 63,
   "metadata": {},
   "outputs": [],
   "source": [
    "\n",
    "\n",
    "ws.UsedRange.Clear()\n",
    "\n",
    "ad = adw.TableCreator()\n",
    "tbl = ad.create(ws, g, idmap)"
   ]
  },
  {
   "cell_type": "code",
   "execution_count": null,
   "metadata": {},
   "outputs": [],
   "source": [
    "sorted(issues[0].__dict__.keys())"
   ]
  },
  {
   "cell_type": "code",
   "execution_count": null,
   "metadata": {},
   "outputs": [],
   "source": []
  }
 ],
 "metadata": {
  "kernelspec": {
   "display_name": "Python 3",
   "language": "python",
   "name": "python3"
  },
  "language_info": {
   "codemirror_mode": {
    "name": "ipython",
    "version": 3
   },
   "file_extension": ".py",
   "mimetype": "text/x-python",
   "name": "python",
   "nbconvert_exporter": "python",
   "pygments_lexer": "ipython3",
   "version": "3.8.2"
  }
 },
 "nbformat": 4,
 "nbformat_minor": 4
}
