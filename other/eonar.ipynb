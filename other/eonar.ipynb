{
 "cells": [
  {
   "cell_type": "code",
   "execution_count": 15,
   "metadata": {
    "collapsed": true
   },
   "outputs": [],
   "source": [
    "s=\"\"\"    {0, \"Mid(Both - Destructor + felguards + felhounds\"},\n",
    "    {40, [[Top(smuft) Bot(Nova)\n",
    "Top - Destructor + fel Lords + felhoudns(late) stay up\n",
    "Bot - felhounds + obsfucator]]},\n",
    "    {60, \"Legion Ship(1) - Loluka(s), Hort(S), Kuraga(N), Rhogax(S)\"},\n",
    "    {65, \"Mid(Nova) - Felguards + Purifier\"},\n",
    "    {117, \"Bot(Both) - Fel Lords + Destructor + felhounds\"},\n",
    "    {136, \"Mid(Nova) - Fel Lords + Purifier\"},\n",
    "    {2*60+38, \"Top(Smuft)-Felhounds - help mid after felhounds dead\"},\n",
    "    {3*60+15, \"Legion Ship(2) - Dicho, Sharoon, Abearcat, Immadeofbeef\"},\n",
    "    {3*60+30, [[Bats(Ranged+Smuft Healers/Hitable) + Bot(Both)\n",
    "Bot - Felguards + Purifier]]},\n",
    "    {4*60+40, [[Legion Ship(3) Nyteki Pharoh Midna Bradley]]},\n",
    "    {4*40+45, [[Bats (Ranged + Smuft Healers/hitable) + mid(both)\n",
    "Fel Lord + Obsfucator]]},\n",
    "    {5*60+5, [[Bot(Damnation/Slow Mobs) - Felhounds]]},\n",
    "    {5*60+32, [[Top(Nova) - Felguards + Obsfucator + Felhunters(late) + Purifier(really late)]]},\n",
    "    {6*60+23, [[Bats(Damnation/slow mobs) ALREDADY WEAK BC EONAR]]},\n",
    "    {6*60+30, [[Legion Ship 4 - Shadow(S), Decenary, Katakuri, Relax]]},\n",
    "    {6*60+55, [[Mid(Both only a little) - Destructor (Focus) + Fel Lords(2)]]},\n",
    "    {7*60+5, [[Bot (Damnation/Slow) - Obsfucator + Fel Lords(2)]]},\n",
    "    {7*60+15, [[Top(Smuft) - Destructor + Fel Lords (2)]]},\n",
    "    {8*60+5,[[Bats (Damnation + Ravoks/Hittable]]},\n",
    "    {8*60+25, [[Victory]]},\"\"\"\n"
   ]
  },
  {
   "cell_type": "code",
   "execution_count": 3,
   "metadata": {
    "collapsed": true
   },
   "outputs": [],
   "source": [
    "s = s.replace(\"[[\", '\"\"\"').replace(\"]]\", '\"\"\"').replace(\"{\", \"(\").replace(\"}\", \")\")\n",
    "print(s)"
   ]
  },
  {
   "cell_type": "code",
   "execution_count": 64,
   "metadata": {
    "collapsed": true
   },
   "outputs": [],
   "source": [
    "from time import *\n",
    "class AuraEnv():\n",
    "    pass\n",
    "aura_env = AuraEnv()\n",
    "\n",
    "_start = time()\n",
    "def GetTime():\n",
    "    return (time() - _start)*1000"
   ]
  },
  {
   "cell_type": "code",
   "execution_count": 72,
   "metadata": {
    "collapsed": true
   },
   "outputs": [],
   "source": [
    "aura_env.encounter_start = GetTime()\n",
    "aura_env.data = [\n",
    "    (0, \"\"), # 1 based index\n",
    "    (0, \"Mid(Both - Destructor + felguards + felhounds\"),\n",
    "    (40, \"\"\"Top(smuft) Bot(Nova)\n",
    "Top - Destructor + fel Lords + felhoudns(late) stay up\n",
    "Bot - felhounds + obsfucator\"\"\"),\n",
    "    (60, \"Legion Ship(1) - Loluka(s), Hort(S), Kuraga(N), Rhogax(S)\"),\n",
    "    (65, \"Mid(Nova) - Felguards + Purifier\"),\n",
    "    (117, \"Bot(Both) - Fel Lords + Destructor + felhounds\"),\n",
    "    (136, \"Mid(Nova) - Fel Lords + Purifier\"),\n",
    "    (2*60+38, \"Top(Smuft)-Felhounds - help mid after felhounds dead\"),\n",
    "    (3*60+15, \"Legion Ship(2) - Dicho, Sharoon, Abearcat, Immadeofbeef\"),\n",
    "    (3*60+30, \"\"\"Bats(Ranged+Smuft Healers/Hitable) + Bot(Both)\n",
    "Bot - Felguards + Purifier\"\"\"),\n",
    "    (4*60+40, \"\"\"Legion Ship(3) Nyteki Pharoh Midna Bradley\"\"\"),\n",
    "    (4*40+45, \"\"\"Bats (Ranged + Smuft Healers/hitable) + mid(both)\n",
    "Fel Lord + Obsfucator\"\"\"),\n",
    "    (5*60+5, \"\"\"Bot(Damnation/Slow Mobs) - Felhounds\"\"\"),\n",
    "    (5*60+32, \"\"\"Top(Nova) - Felguards + Obsfucator + Felhunters(late) + Purifier(really late)\"\"\"),\n",
    "    (6*60+23, \"\"\"Bats(Damnation/slow mobs) ALREDADY WEAK BC EONAR\"\"\"),\n",
    "    (6*60+30, \"\"\"Legion Ship 4 - Shadow(S), Decenary, Katakuri, Relax\"\"\"),\n",
    "    (6*60+55, \"\"\"Mid(Both only a little) - Destructor (Focus) + Fel Lords(2)\"\"\"),\n",
    "    (7*60+5, \"\"\"Bot (Damnation/Slow) - Obsfucator + Fel Lords(2)\"\"\"),\n",
    "    (7*60+15, \"\"\"Top(Smuft) - Destructor + Fel Lords (2)\"\"\"),\n",
    "    (8*60+5,\"\"\"Bats (Damnation + Ravoks/Hittable\"\"\"),\n",
    "    (8*60+25, \"\"\"Victory\"\"\"),\n",
    "]\n",
    "for i, v in enumerate(aura_env.data):\n",
    "    aura_env.data[i] = (i,)+v  # 1 based index artifact for func below\n",
    "\n",
    "def hms(s):\n",
    "    m = s // 60\n",
    "    s = s - 60*m\n",
    "    return \"%d:%.1f\"%(m,s)\n",
    "\n",
    "def func():\n",
    "    if aura_env.encounter_start == None:\n",
    "        return \"\"\n",
    "    now = (GetTime() - aura_env.encounter_start) / 1000\n",
    "    out = [\"%s\"%hms(now)]\n",
    "    idx = tidx = 0\n",
    "    \n",
    "    for i, v in enumerate(aura_env.data):\n",
    "        if i == 0: \n",
    "            continue  # skip 1 based index artifact\n",
    "        time = v[1]\n",
    "        if now < time:\n",
    "            break\n",
    "    idx = i - 1\n",
    "        \n",
    "    for i in range(idx-2, idx+3):\n",
    "        if i < 1: continue\n",
    "        try:\n",
    "            s = aura_env.data[i][2]\n",
    "        except IndexError:\n",
    "            continue\n",
    "        s = s.replace(\"\\n\", \"\\n      \")\n",
    "        if i == idx:\n",
    "            s = \">>|cff7d0a\" + s + \"|\"\n",
    "        out.append(\"%d     %s\"%(i,s))\n",
    "    return \"\\n\".join(out)"
   ]
  },
  {
   "cell_type": "code",
   "execution_count": 63,
   "metadata": {},
   "outputs": [
    {
     "name": "stdout",
     "output_type": "stream",
     "text": [
      "0:45.0\n",
      "1     Mid(Both - Destructor + felguards + felhounds\n",
      "2     |cff7d0aTop(smuft) Bot(Nova)\n",
      "      Top - Destructor + fel Lords + felhoudns(late) stay up\n",
      "      Bot - felhounds + obsfucator|\n",
      "3     Legion Ship(1) - Loluka(s), Hort(S), Kuraga(N), Rhogax(S)\n",
      "4     Mid(Nova) - Felguards + Purifier\n"
     ]
    }
   ],
   "source": [
    "print(func(45))"
   ]
  },
  {
   "cell_type": "code",
   "execution_count": 73,
   "metadata": {
    "collapsed": true
   },
   "outputs": [],
   "source": [
    "_running = True\n",
    "def stop_running():\n",
    "    global _running\n",
    "    _running = False\n",
    "\n",
    "def run_forever():\n",
    "    if _running:\n",
    "        s = func()\n",
    "        l.config(text=s)\n",
    "        root.after(100, run_forever)"
   ]
  },
  {
   "cell_type": "code",
   "execution_count": 74,
   "metadata": {},
   "outputs": [],
   "source": [
    "from tkinter import *\n",
    "import tkinter as tk\n",
    "root = Tk()\n",
    "frame = tk.Frame(root)\n",
    "l = tk.Label(frame, justify=tk.LEFT)\n",
    "frame.grid()\n",
    "l.grid()\n",
    "l.config(text=\"hello world\")\n",
    "btn = tk.Button(root, text=\"Stop\", command=stop_running)\n",
    "root.after(1000, run_forever)\n",
    "root.mainloop()"
   ]
  },
  {
   "cell_type": "code",
   "execution_count": null,
   "metadata": {
    "collapsed": true
   },
   "outputs": [],
   "source": [
    "function()\n",
    "    if aura_env.encounter_start == nil then\n",
    "        return\n",
    "    elseif WeakAuras.IsOptionsOpen() then\n",
    "        return\n",
    "    end\n",
    "    \n",
    "    local i, v, line\n",
    "    local out = {}\n",
    "    local time, s\n",
    "    local idx = 0\n",
    "    local tidx = 0\n",
    "    local now = (GetTime() - aura_env.encounter_start) / 1000\n",
    "    for i, v in pairs(aura_env.data) do\n",
    "        time = v[1]\n",
    "        if idx == 0 then\n",
    "            if now < time then\n",
    "                idx = i\n",
    "            end\n",
    "        end\n",
    "    end\n",
    "    for i = idx-2,idx+2 do\n",
    "        s = aura_env.data[i][2]\n",
    "        if s ~= nil then\n",
    "            if i == idx then\n",
    "                s = \"|cff7d0a\" .. s .. \"|\"\n",
    "            end\n",
    "            out[#out+1] = s\n",
    "        end\n",
    "    end\n",
    "    return table.concat(out, \"\\n\")\n",
    "    \n",
    "end"
   ]
  },
  {
   "cell_type": "code",
   "execution_count": null,
   "metadata": {
    "collapsed": true
   },
   "outputs": [],
   "source": []
  }
 ],
 "metadata": {
  "kernelspec": {
   "display_name": "Python 3",
   "language": "python",
   "name": "python3"
  },
  "language_info": {
   "codemirror_mode": {
    "name": "ipython",
    "version": 3
   },
   "file_extension": ".py",
   "mimetype": "text/x-python",
   "name": "python",
   "nbconvert_exporter": "python",
   "pygments_lexer": "ipython3",
   "version": "3.6.1"
  }
 },
 "nbformat": 4,
 "nbformat_minor": 2
}
