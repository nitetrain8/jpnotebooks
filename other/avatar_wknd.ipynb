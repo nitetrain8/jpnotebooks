{
 "cells": [
  {
   "cell_type": "code",
   "execution_count": 1,
   "metadata": {
    "collapsed": true
   },
   "outputs": [],
   "source": [
    "from jpnotebooks.other.wql import *\n",
    "import collections\n",
    "import types\n",
    "import datetime\n",
    "import itertools\n",
    "%load_ext autoreload\n",
    "%autoreload 2"
   ]
  },
  {
   "cell_type": "code",
   "execution_count": 9,
   "metadata": {
    "collapsed": true
   },
   "outputs": [],
   "source": [
    "MIDNA = 'Mîdna'\n",
    "SERVER = 'Turalyon'\n",
    "OWNER = \"nintendobratkat\"\n",
    "GUILD = \"Synthesis\"\n",
    "ZONE = \"Tomb of Sargeras\"\n",
    "MYTHIC = 5\n",
    "api_key = \"192b298b50ad53497d9f2b4ce7910af2\"\n",
    "\n",
    "try:\n",
    "    zraw\n",
    "except NameError:\n",
    "    zraw = Api(api_key).zones._raw\n",
    "    \n",
    "def connect(api_key=api_key):\n",
    "    global api\n",
    "    api = Api(api_key)\n",
    "    api.zones_ = Zones(api, zraw)\n",
    "    return api\n",
    "\n",
    "def pd(o):  # printdir\n",
    "    for a in dir(o):\n",
    "        if not a.startswith(\"__\"):\n",
    "            v = getattr(o,a,\"<Error>\")\n",
    "            if not isinstance(v, (types.FunctionType, types.MethodType)):\n",
    "                print(a, \"::\", v)\n",
    "\n",
    "                \n",
    "# TODO: move these to wql.py once I'm confident they works properly\n",
    "\n",
    "\n",
    "def _clstrfk(events, l):\n",
    "    try:\n",
    "        _clstrfk2(events, l)\n",
    "    except ValueError:\n",
    "        for c in l:\n",
    "            for e in c:\n",
    "                print(e.timestamp, actor(f, e))\n",
    "            print()\n",
    "    return l\n",
    "    \n",
    "def _clstrfk2(events, l):\n",
    "    # debug sanity check\n",
    "    seen = set()\n",
    "    evd = dict.fromkeys(events, False)\n",
    "    for c in l:\n",
    "        for e in c:\n",
    "            if evd[e] == True:\n",
    "                raise ValueError(\"Duplicate event!\")\n",
    "            evd[e] = True\n",
    "            \n",
    "def cluster2(events, before=100, after=100):\n",
    "    l = set()\n",
    "    for e in events:\n",
    "        l.add(tuple(events_near(events, e, before, after)))\n",
    "    _clstrfk(events, l)\n",
    "    return sorted(map(list,l), key=lambda c: c[0].timestamp)\n",
    "\n",
    "def cluster(events, before=100, after=100):\n",
    "    l = cluster2(events, before, after)\n",
    "    l = [(c[0].timestamp, c) for c in l]\n",
    "    return sorted(l, key=lambda t: t[0])\n",
    "   \n",
    "def hms2(t):\n",
    "    t = t / 1000\n",
    "    h = t // 3600\n",
    "    m = (t-3600*h) // 60\n",
    "    s = (t-3600*h-60*m)\n",
    "    ms = (s - int(s))*1000\n",
    "    return \"%.2d:%.2d.%.3d\" %(m,s, ms)\n",
    "                \n",
    "connect()\n",
    "api.verbose = False"
   ]
  },
  {
   "cell_type": "code",
   "execution_count": 3,
   "metadata": {
    "collapsed": true
   },
   "outputs": [],
   "source": [
    "def deaths_near_bad(f, *bad, before=100, after=10000, cutoff=8):\n",
    "    fs_deaths = 'type=\"death\"'\n",
    "    deaths = [e for e in f.events(fs_deaths, cutoff=cutoff) if e.targetID and f.actor(e.targetID).is_player()]\n",
    "    fs_bads = 'type=\"damage\" AND (%s)' % \" OR \".join('ability.name=\"%s\"'%b for b in bad)\n",
    "    bads = f.events(fs_bads, cutoff=cutoff)\n",
    "    fails = set()\n",
    "    for d in deaths:\n",
    "        t = tuple(events_near(bads, d, before, after)), d\n",
    "        fails.add(t)\n",
    "    return fails\n",
    "\n",
    "def deaths_near_bad2(f, *bad, before=100, after=10000, cutoff=8):\n",
    "    fails = deaths_near_bad(f, *bad, before=before, after=after, cutoff=cutoff)\n",
    "    fails2 = set()\n",
    "    deaths = set()\n",
    "    for ev, d in fails:\n",
    "        fails2.update(ev)\n",
    "        deaths.add(d)\n",
    "    key = lambda e: e.timestamp\n",
    "    return sorted(fails2, key=key), sorted(deaths, key=key)\n",
    "\n",
    "def hit_by_bad(f, *bad, cutoff=8):\n",
    "    fs = 'type=\"damage\" AND (%s)' % \" OR \".join('ability.name=\"%s\"'%b for b in bad)\n",
    "    return f.events(fs, cutoff=cutoff)"
   ]
  },
  {
   "cell_type": "code",
   "execution_count": 4,
   "metadata": {
    "collapsed": true
   },
   "outputs": [],
   "source": [
    "cache = {}\n",
    "def get(url):\n",
    "    global cache\n",
    "    if url in cache:\n",
    "        return cache[url]\n",
    "    rv = api.sess.request(\"GET\", url).content.decode()\n",
    "    cache[url] = rv\n",
    "    return rv\n",
    "def query(s):\n",
    "    return pyquery.PyQuery(s)(\"#reports-table > tbody > tr\")"
   ]
  },
  {
   "cell_type": "code",
   "execution_count": null,
   "metadata": {
    "collapsed": true
   },
   "outputs": [],
   "source": [
    "def throttle(t):\n",
    "    def _throttle(f):\n",
    "        l = time.time()\n",
    "        n = l + t\n",
    "        def func(*args, **kw):\n",
    "            c = time.time()\n",
    "            s = n-c\n",
    "            if s > 0:\n",
    "                time.sleep(s)\n",
    "            try:\n",
    "                rv = f(*args, **kw)\n",
    "            finally:\n",
    "                l = c\n",
    "                n = c + t\n",
    "            return rv\n",
    "        return func\n",
    "    return _throttle\n",
    "\n",
    "@throttle(1/3)\n",
    "def hf(id_):\n",
    "    fights = api.fights(id_)\n",
    "    if fights.find(kill=True, difficulty=5, boss=2038).fights:\n",
    "        return True"
   ]
  },
  {
   "cell_type": "code",
   "execution_count": 62,
   "metadata": {},
   "outputs": [
    {
     "name": "stdout",
     "output_type": "stream",
     "text": [
      "<ReportMetadata: 'What what in the butt butt (ToS)', 'Tomb of Sargeras', 'nintendobratkat'>\n",
      "<ReportMetadata: 'Smallest ToS Run EVER', 'Tomb of Sargeras', 'nintendobratkat'>\n",
      "<ReportMetadata: 'Squiggly Lines (ToS)', 'Tomb of Sargeras', 'nintendobratkat'>\n",
      "<ReportMetadata: 'Okay Instance Servers (ToS)', 'Tomb of Sargeras', 'nintendobratkat'>\n"
     ]
    },
    {
     "data": {
      "text/plain": [
       "[<jpnotebooks.other.wql.Fight at 0x2363b8a4ac8>,\n",
       " <jpnotebooks.other.wql.Fight at 0x2363b8a4c50>,\n",
       " <jpnotebooks.other.wql.Fight at 0x2363b8a4ef0>,\n",
       " <jpnotebooks.other.wql.Fight at 0x2363b8a4e48>,\n",
       " <jpnotebooks.other.wql.Fight at 0x2363b8a4898>,\n",
       " <jpnotebooks.other.wql.Fight at 0x2363b8334e0>,\n",
       " <jpnotebooks.other.wql.Fight at 0x2363b833400>,\n",
       " <jpnotebooks.other.wql.Fight at 0x2363b833ac8>,\n",
       " <jpnotebooks.other.wql.Fight at 0x2363b833f60>,\n",
       " <jpnotebooks.other.wql.Fight at 0x2363b833588>,\n",
       " <jpnotebooks.other.wql.Fight at 0x2363b833da0>,\n",
       " <jpnotebooks.other.wql.Fight at 0x2363a5f79b0>,\n",
       " <jpnotebooks.other.wql.Fight at 0x2363b82fbe0>,\n",
       " <jpnotebooks.other.wql.Fight at 0x2363b82f9b0>,\n",
       " <jpnotebooks.other.wql.Fight at 0x2363b82f5f8>,\n",
       " <jpnotebooks.other.wql.Fight at 0x2363b82f7f0>,\n",
       " <jpnotebooks.other.wql.Fight at 0x2363b82fcc0>,\n",
       " <jpnotebooks.other.wql.Fight at 0x2363d1b4048>]"
      ]
     },
     "execution_count": 62,
     "metadata": {},
     "output_type": "execute_result"
    }
   ],
   "source": [
    "reports = []\n",
    "bosses = collections.defaultdict(list)\n",
    "start = datetime.datetime.now() - datetime.timedelta(weeks=1)\n",
    "for r in api.reports(GUILD, SERVER, \"US\").find(owner=OWNER, zone=ZONE, func=lambda r: r.start > start):\n",
    "    print(r)\n",
    "    fights = r.fights()\n",
    "    fl = fights.find(difficulty=MYTHIC)\n",
    "    for f in fl:\n",
    "        bosses[f.name].append(f)\n",
    "        \n",
    "for v in bosses.values():\n",
    "    v = sorted(set(v),key=lambda f: f.id)\n",
    "bosses['Fallen Avatar']"
   ]
  },
  {
   "cell_type": "code",
   "execution_count": 37,
   "metadata": {},
   "outputs": [
    {
     "data": {
      "text/plain": [
       "['ability',\n",
       " 'attackPower',\n",
       " 'classResources',\n",
       " 'hitPoints',\n",
       " 'itemLevel',\n",
       " 'maxHitPoints',\n",
       " 'otherResourceChange',\n",
       " 'pin',\n",
       " 'resolve',\n",
       " 'resourceActor',\n",
       " 'resourceChange',\n",
       " 'resourceChangeType',\n",
       " 'sourceID',\n",
       " 'sourceInstance',\n",
       " 'sourceIsFriendly',\n",
       " 'sourceMarker',\n",
       " 'spellPower',\n",
       " 'targetID',\n",
       " 'targetIsFriendly',\n",
       " 'targetMarker',\n",
       " 'timestamp',\n",
       " 'type',\n",
       " 'waste',\n",
       " 'x',\n",
       " 'y']"
      ]
     },
     "execution_count": 37,
     "metadata": {},
     "output_type": "execute_result"
    }
   ],
   "source": [
    "energize = set()\n",
    "drain = set()\n",
    "keys = set()\n",
    "for e in events:\n",
    "    if e.type == 'energize':\n",
    "        energize.update(set(e.keys()))\n",
    "    elif e.type == 'drain':\n",
    "        drain.update(set(e.keys()))\n",
    "    else:\n",
    "        raise ValueError(e.type)\n",
    "    keys.update(set(e.keys()))\n",
    "sorted(keys)"
   ]
  },
  {
   "cell_type": "code",
   "execution_count": 1,
   "metadata": {
    "collapsed": true
   },
   "outputs": [],
   "source": [
    "import json\n",
    "\n",
    "def avatar_energy(f):\n",
    "    # WQL doesn't return avatar's energy resources via\n",
    "    # energize or drain events. The only way I've found so \n",
    "    # far to get that data is to extract the raw data used \n",
    "    # to populate the resources graph. \n",
    "    \n",
    "    # manually get json data via url. \"103\" is the resource type. The other values should be left as is. \n",
    "    js = \"/\".join(map(str,(f.report_id, f.id, f.start_time, f.end_time, \"103\", \"1\", \"0\", \"0\", \"-1.0.-1\",\"0\",\"Any\",\"\")))\n",
    "    url = 'https://www.warcraftlogs.com/reports/resources_graph/'+js\n",
    "    r = f.api.sess.get(url)\n",
    "    r.raise_for_status()\n",
    "    j = json.loads(r.content)\n",
    "    \n",
    "    # Data is returned for both avatar and maiden \n",
    "    for s in j['series']:\n",
    "        if s['name'] == 'Fallen Avatar':\n",
    "            data = s['data']\n",
    "            break\n",
    "    else:\n",
    "        raise ValueError(\"Failed to find Fallen Avatar's energy\")\n",
    "    \n",
    "    # The events we're interested in are those\n",
    "    # where avatar gains more energy than normal. \n",
    "    # normal gain is 1 point of energy every 3.5 seconds\n",
    "    # (alternating between 3 seconds and 4 seconds).\n",
    "    # \n",
    "    evl = []\n",
    "    for i in range(len(data)-1):\n",
    "        x1, y1 = data[i]\n",
    "        x2, y2 = data[i+1]\n",
    "        if y2-y1 > 1:\n",
    "            d = {\"type\":\"energize\", \"timestamp\":x2, \"gain\":(y2-y1)}\n",
    "            evl.append(Struct2(d))\n",
    "    return evl\n",
    "    "
   ]
  },
  {
   "cell_type": "code",
   "execution_count": 120,
   "metadata": {
    "collapsed": true
   },
   "outputs": [],
   "source": [
    "for s in j['series']:\n",
    "    if s['name'] == 'Fallen Avatar':\n",
    "        data = s['data']"
   ]
  },
  {
   "cell_type": "code",
   "execution_count": 124,
   "metadata": {},
   "outputs": [
    {
     "name": "stdout",
     "output_type": "stream",
     "text": [
      "Beam hit boss: 31 -> 35\n",
      "Beam hit boss: 35 -> 39\n",
      "Beam hit boss: 39 -> 43\n",
      "Beam hit boss: 43 -> 47\n",
      "Beam hit boss: 47 -> 48\n",
      "Beam hit boss: 62 -> 66\n",
      "Beam hit boss: 66 -> 70\n",
      "Beam hit boss: 70 -> 71\n",
      "Beam hit boss: 71 -> 75\n",
      "Beam hit boss: 75 -> 79\n",
      "Beam hit boss: 79 -> 83\n",
      "Beam hit boss: 83 -> 84\n",
      "Beam hit boss: 84 -> 88\n",
      "Beam hit boss: 88 -> 92\n",
      "Beam hit boss: 92 -> 96\n",
      "Beam hit boss: 96 -> 100\n"
     ]
    }
   ],
   "source": [
    "l = len(data)\n",
    "for i in range(l-1):\n",
    "    x1, y1 = data[i]\n",
    "    x2, y2= data[i+1]\n",
    "    el = x2-x1\n",
    "    if el < 2500:\n",
    "        print(\"Beam hit boss: %s -> %s\" %(y1, y2))"
   ]
  },
  {
   "cell_type": "code",
   "execution_count": 125,
   "metadata": {},
   "outputs": [
    {
     "data": {
      "text/plain": [
       "14"
      ]
     },
     "execution_count": 125,
     "metadata": {},
     "output_type": "execute_result"
    }
   ],
   "source": [
    "f.id"
   ]
  },
  {
   "cell_type": "code",
   "execution_count": null,
   "metadata": {
    "collapsed": true
   },
   "outputs": [],
   "source": []
  }
 ],
 "metadata": {
  "kernelspec": {
   "display_name": "Python 3",
   "language": "python",
   "name": "python3"
  },
  "language_info": {
   "codemirror_mode": {
    "name": "ipython",
    "version": 3
   },
   "file_extension": ".py",
   "mimetype": "text/x-python",
   "name": "python",
   "nbconvert_exporter": "python",
   "pygments_lexer": "ipython3",
   "version": "3.5.0"
  }
 },
 "nbformat": 4,
 "nbformat_minor": 2
}
