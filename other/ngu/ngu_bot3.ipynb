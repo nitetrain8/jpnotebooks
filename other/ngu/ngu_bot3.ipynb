{
 "cells": [
  {
   "cell_type": "code",
   "execution_count": 31,
   "metadata": {
    "collapsed": true
   },
   "outputs": [],
   "source": [
    "import sys\n",
    "import clipboard\n",
    "import gc\n",
    "import PIL, numpy as np, cv2\n",
    "from PIL.ImageGrab import grab as screenshot\n",
    "from PIL import Image\n",
    "sys.path.append('C:\\\\Users\\\\Administrator\\\\source\\\\repos\\\\mycvtools\\\\x64\\\\Release\\\\')\n",
    "import mycvtools\n",
    "import importlib\n",
    "import os"
   ]
  },
  {
   "cell_type": "code",
   "execution_count": 2,
   "metadata": {
    "collapsed": true
   },
   "outputs": [],
   "source": [
    "ss = screenshot((200, 395, 400, 495))\n",
    "ssa = np.array(ss)"
   ]
  },
  {
   "cell_type": "code",
   "execution_count": 3,
   "metadata": {},
   "outputs": [
    {
     "data": {
      "text/plain": [
       "(48, 43, 49)"
      ]
     },
     "execution_count": 3,
     "metadata": {},
     "output_type": "execute_result"
    }
   ],
   "source": [
    "mycvtools.average_color(ssa)"
   ]
  },
  {
   "cell_type": "code",
   "execution_count": 4,
   "metadata": {
    "scrolled": true
   },
   "outputs": [],
   "source": [
    "mycvtools.mask_background(ssa)"
   ]
  },
  {
   "cell_type": "code",
   "execution_count": 5,
   "metadata": {},
   "outputs": [
    {
     "data": {
      "image/png": "[encoded data removed]",
      "text/plain": [
       "<PIL.Image.Image image mode=RGB size=200x100 at 0x1BD3671B390>"
      ]
     },
     "execution_count": 5,
     "metadata": {},
     "output_type": "execute_result"
    }
   ],
   "source": [
    "ss"
   ]
  },
  {
   "cell_type": "code",
   "execution_count": 6,
   "metadata": {},
   "outputs": [
    {
     "data": {
      "text/plain": [
       "(132, 125, 133)"
      ]
     },
     "execution_count": 6,
     "metadata": {},
     "output_type": "execute_result"
    }
   ],
   "source": [
    "mycvtools.average_color(ssa)"
   ]
  },
  {
   "cell_type": "code",
   "execution_count": 7,
   "metadata": {},
   "outputs": [
    {
     "data": {
      "image/png": "[encoded data removed]",
      "text/plain": [
       "<PIL.Image.Image image mode=RGB size=200x100 at 0x1BD3DD09940>"
      ]
     },
     "execution_count": 7,
     "metadata": {},
     "output_type": "execute_result"
    }
   ],
   "source": [
    "PIL.Image.fromarray(ssa)"
   ]
  },
  {
   "cell_type": "code",
   "execution_count": 19,
   "metadata": {
    "collapsed": true
   },
   "outputs": [],
   "source": [
    "def fulllistdir(fp):\n",
    "    return [os.path.join(fp, f) for f in os.listdir(fp)]"
   ]
  },
  {
   "cell_type": "code",
   "execution_count": 93,
   "metadata": {},
   "outputs": [],
   "source": [
    "fp = \"C:\\\\Users\\\\Administrator\\\\Dropbox\\\\Python\\\\jpnotebooks\\\\other\\\\ngu\\\\images\"\n",
    "images = []\n",
    "\n",
    "ncols = 5\n",
    "maxrow = 0\n",
    "heights = [0, 0]\n",
    "row = 0\n",
    "for i, file in enumerate(os.listdir(fp), 1):\n",
    "    if file == (\"inventory.bmp\"): continue\n",
    "    img = cv2.imread(os.path.join(fp, file))\n",
    "    img = cv2.cvtColor(img, cv2.COLOR_BGR2RGB)\n",
    "    #mycvtools.mask_background(img)\n",
    "    images.append(img)\n",
    "    row += img.shape[0]\n",
    "    if img.shape[1] > heights[-1]:\n",
    "        heights[-1] = img.shape[1]\n",
    "    if i % ncols == 0:\n",
    "        if row > maxrow:\n",
    "            maxrow = row\n",
    "        row = 0\n",
    "        heights.append(0)\n",
    "        \n",
    "for i in range(1, len(heights)):\n",
    "    heights[i] += heights[i - 1]"
   ]
  },
  {
   "cell_type": "code",
   "execution_count": 94,
   "metadata": {},
   "outputs": [
    {
     "data": {
      "image/png": "[encoded data removed]",
      "text/plain": [
       "<PIL.Image.Image image mode=RGB size=230x230 at 0x1BD3E145780>"
      ]
     },
     "execution_count": 94,
     "metadata": {},
     "output_type": "execute_result"
    }
   ],
   "source": [
    "aimg = Image.new('RGB', (maxrow, heights[-1]))\n",
    "lastw = 0\n",
    "lasth = 0\n",
    "for i, img in enumerate(images):\n",
    "    pimg = Image.fromarray(img, \"RGB\")\n",
    "    aimg.paste(pimg, ((i % 5) * lastw, heights[i // 5]))\n",
    "    lastw = pimg.width\n",
    "aimg"
   ]
  },
  {
   "cell_type": "code",
   "execution_count": 92,
   "metadata": {},
   "outputs": [
    {
     "name": "stdout",
     "output_type": "stream",
     "text": [
      "(51, 73, 146)\n",
      "(135, 150, 146)\n",
      "(184, 175, 175)\n",
      "(183, 37, 162)\n",
      "(128, 128, 129)\n",
      "(123, 39, 150)\n",
      "(123, 39, 150)\n",
      "(133, 30, 177)\n",
      "(114, 81, 80)\n",
      "(101, 100, 102)\n",
      "(113, 102, 110)\n",
      "(101, 98, 100)\n",
      "(89, 81, 81)\n",
      "(107, 73, 100)\n",
      "(173, 173, 173)\n",
      "(0, 0, 0)\n",
      "(176, 45, 99)\n",
      "(177, 68, 80)\n",
      "(176, 21, 168)\n",
      "(124, 64, 64)\n",
      "(0, 0, 0)\n",
      "(114, 163, 153)\n",
      "(158, 37, 135)\n"
     ]
    }
   ],
   "source": [
    "for img in images:\n",
    "    print(mycvtools.average_color(img))"
   ]
  },
  {
   "cell_type": "code",
   "execution_count": 101,
   "metadata": {},
   "outputs": [
    {
     "data": {
      "text/plain": [
       "1.4285714285714286"
      ]
     },
     "execution_count": 101,
     "metadata": {},
     "output_type": "execute_result"
    }
   ],
   "source": [
    "(2000*7 - 1000 * 5 - 4000 ) / 3500"
   ]
  },
  {
   "cell_type": "code",
   "execution_count": null,
   "metadata": {
    "collapsed": true
   },
   "outputs": [],
   "source": []
  }
 ],
 "metadata": {
  "kernelspec": {
   "display_name": "Python 3",
   "language": "python",
   "name": "python3"
  },
  "language_info": {
   "codemirror_mode": {
    "name": "ipython",
    "version": 3
   },
   "file_extension": ".py",
   "mimetype": "text/x-python",
   "name": "python",
   "nbconvert_exporter": "python",
   "pygments_lexer": "ipython3",
   "version": "3.6.1"
  }
 },
 "nbformat": 4,
 "nbformat_minor": 2
}
