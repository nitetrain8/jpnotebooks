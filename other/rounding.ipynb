{
 "cells": [
  {
   "cell_type": "code",
   "execution_count": 1,
   "metadata": {},
   "outputs": [],
   "source": [
    "prices = [.7, 2.8, 4.9]"
   ]
  },
  {
   "cell_type": "code",
   "execution_count": 73,
   "metadata": {},
   "outputs": [],
   "source": [
    "import math\n",
    "def rtm(prices, t=8):\n",
    "    smax = sum(map(math.ceil, prices))\n",
    "    smin = sum(map(math.floor, prices))\n",
    "    if smin <= t <= smax:\n",
    "        prices2 = [(math.ceil(p), 1 - (math.ceil(p) - p)) for p in prices]\n",
    "        prices2.sort(key=lambda t: t[1])\n",
    "        round_down = prices2[:smax-t]\n",
    "        round_up = prices2[smax-t:]\n",
    "        err = 0\n",
    "        out = []\n",
    "        for n, e in round_down:\n",
    "            out.append(n-1)\n",
    "            err += e\n",
    "        for n, e in round_up:\n",
    "            out.append(n)\n",
    "            err += 1-e\n",
    "        print(prices2)\n",
    "        return out, err\n",
    "    else:\n",
    "        print(\"Can't meet target\")\n",
    "        return None"
   ]
  },
  {
   "cell_type": "code",
   "execution_count": 74,
   "metadata": {},
   "outputs": [
    {
     "name": "stdout",
     "output_type": "stream",
     "text": [
      "[(1, 0.7), (3, 0.7999999999999998), (5, 0.9000000000000004)]\n"
     ]
    },
    {
     "data": {
      "text/plain": [
       "([0, 2, 4], 2.4000000000000004)"
      ]
     },
     "execution_count": 74,
     "metadata": {},
     "output_type": "execute_result"
    }
   ],
   "source": [
    "random.shuffle(prices)\n",
    "rtm(list(reversed(prices)), 6)"
   ]
  },
  {
   "cell_type": "code",
   "execution_count": 67,
   "metadata": {},
   "outputs": [],
   "source": [
    "import random"
   ]
  },
  {
   "cell_type": "code",
   "execution_count": 70,
   "metadata": {},
   "outputs": [],
   "source": [
    "random.shuffle(prices)"
   ]
  },
  {
   "cell_type": "code",
   "execution_count": 90,
   "metadata": {},
   "outputs": [],
   "source": [
    "import math\n",
    "def rtm2(prices, t=8):\n",
    "    smax = sum(map(math.ceil, prices))\n",
    "    smin = sum(map(math.floor, prices))\n",
    "    if smin <= t <= smax:\n",
    "        prices.sort(key=lambda t: 1-(math.ceil(t) - t))\n",
    "        round_down = prices[:smax-t]\n",
    "        round_up = prices[smax-t:]\n",
    "        err = 0\n",
    "        out = []\n",
    "        for n in round_down:\n",
    "            out.append(math.floor(n))\n",
    "            err += n - math.floor(n)\n",
    "        for n in round_up:\n",
    "            out.append(math.ceil(n))\n",
    "            err += math.ceil(n) - n\n",
    "        print(prices)\n",
    "        return out, err\n",
    "    else:\n",
    "        print(\"Can't meet target\")\n",
    "        return None"
   ]
  },
  {
   "cell_type": "code",
   "execution_count": 95,
   "metadata": {},
   "outputs": [],
   "source": [
    "random.shuffle(prices)"
   ]
  },
  {
   "cell_type": "code",
   "execution_count": 96,
   "metadata": {},
   "outputs": [
    {
     "name": "stdout",
     "output_type": "stream",
     "text": [
      "[0.7, 2.8, 4.9]\n"
     ]
    },
    {
     "data": {
      "text/plain": [
       "([0, 3, 5], 0.9999999999999998)"
      ]
     },
     "execution_count": 96,
     "metadata": {},
     "output_type": "execute_result"
    }
   ],
   "source": [
    "rtm2(prices.copy(), 8)"
   ]
  },
  {
   "cell_type": "code",
   "execution_count": null,
   "metadata": {},
   "outputs": [],
   "source": []
  }
 ],
 "metadata": {
  "kernelspec": {
   "display_name": "Python 3",
   "language": "python",
   "name": "python3"
  },
  "language_info": {
   "codemirror_mode": {
    "name": "ipython",
    "version": 3
   },
   "file_extension": ".py",
   "mimetype": "text/x-python",
   "name": "python",
   "nbconvert_exporter": "python",
   "pygments_lexer": "ipython3",
   "version": "3.5.2"
  }
 },
 "nbformat": 4,
 "nbformat_minor": 2
}
