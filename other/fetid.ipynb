{
 "cells": [
  {
   "cell_type": "code",
   "execution_count": 1,
   "metadata": {
    "collapsed": true
   },
   "outputs": [],
   "source": [
    "from jpnotebooks.other.wql import *\n",
    "import collections\n",
    "import types\n",
    "import datetime\n",
    "import itertools\n",
    "import time\n",
    "%load_ext autoreload\n",
    "%autoreload 2"
   ]
  },
  {
   "cell_type": "code",
   "execution_count": 2,
   "metadata": {},
   "outputs": [
    {
     "name": "stdout",
     "output_type": "stream",
     "text": [
      "Requesting '/zones?api_key=192b298b50ad53497d9f2b4ce7910af2'\n"
     ]
    }
   ],
   "source": [
    "MIDNA = 'Mîdna'\n",
    "SERVER = 'Turalyon'\n",
    "OWNER = \"warbill\"\n",
    "GUILD = \"Synthesis\"\n",
    "ZONE = \"Uldir\"\n",
    "MYTHIC = 5\n",
    "api_key = \"192b298b50ad53497d9f2b4ce7910af2\"\n",
    "\n",
    "try:\n",
    "    zraw\n",
    "except NameError:\n",
    "    zraw = Api(api_key).zones._raw\n",
    "    \n",
    "def connect(api_key=api_key):\n",
    "    global api\n",
    "    api = Api(api_key)\n",
    "    api.zones_ = Zones(api, zraw)\n",
    "    return api\n",
    "\n",
    "def pd(o):  # printdir\n",
    "    for a in dir(o):\n",
    "        if not a.startswith(\"__\"):\n",
    "            v = getattr(o,a,\"<Error>\")\n",
    "            if not isinstance(v, (types.FunctionType, types.MethodType)):\n",
    "                print(a, \"::\", v)\n",
    "\n",
    "                \n",
    "# TODO: move these to wql.py once I'm confident they work properly\n",
    "\n",
    "\n",
    "def _clstrfk(events, l):\n",
    "    try:\n",
    "        _clstrfk2(events, l)\n",
    "    except ValueError:\n",
    "        for c in l:\n",
    "            for e in c:\n",
    "                print(e.timestamp, actor(f, e))\n",
    "            print()\n",
    "    return l\n",
    "    \n",
    "def _clstrfk2(events, l):\n",
    "    # debug sanity check\n",
    "    seen = set()\n",
    "    evd = dict.fromkeys(events, False)\n",
    "    for c in l:\n",
    "        for e in c:\n",
    "            if evd[e] == True:\n",
    "                raise ValueError(\"Duplicate event!\")\n",
    "            evd[e] = True\n",
    "            \n",
    "def cluster2(events, before=100, after=100):\n",
    "    l = set()\n",
    "    for e in events:\n",
    "        l.add(tuple(events_near(events, e, before, after)))\n",
    "    _clstrfk(events, l)\n",
    "    return sorted(map(list,l), key=lambda c: c[0].timestamp)\n",
    "\n",
    "def cluster(events, before=100, after=100):\n",
    "    l = cluster2(events, before, after)\n",
    "    l = [(c[0].timestamp, c) for c in l]\n",
    "    return sorted(l, key=lambda t: t[0])\n",
    "   \n",
    "def hms2(t):\n",
    "    t = t / 1000\n",
    "    h = t // 3600\n",
    "    m = (t-3600*h) // 60\n",
    "    s = (t-3600*h-60*m)\n",
    "    ms = (s - int(s))*1000\n",
    "    return \"%.2d:%.2d.%.3d\" %(m,s, ms)\n",
    "                \n",
    "connect()\n",
    "api.verbose = False"
   ]
  },
  {
   "cell_type": "code",
   "execution_count": 3,
   "metadata": {
    "collapsed": true
   },
   "outputs": [],
   "source": [
    "def deaths_near_bad(f, *bad, before=100, after=10000, cutoff=8):\n",
    "    fs_deaths = 'type=\"death\"'\n",
    "    deaths = [e for e in f.events(fs_deaths, cutoff=cutoff) if e.targetID and f.actor(e.targetID).is_player()]\n",
    "    fs_bads = 'type=\"damage\" AND (%s)' % \" OR \".join('ability.name=\"%s\"'%b for b in bad)\n",
    "    bads = f.events(fs_bads, cutoff=cutoff)\n",
    "    fails = set()\n",
    "    for d in deaths:\n",
    "        t = tuple(events_near(bads, d, before, after)), d\n",
    "        fails.add(t)\n",
    "    return fails\n",
    "\n",
    "def deaths_near_bad2(f, *bad, before=100, after=10000, cutoff=8):\n",
    "    fails = deaths_near_bad(f, *bad, before=before, after=after, cutoff=cutoff)\n",
    "    fails2 = set()\n",
    "    deaths = set()\n",
    "    for ev, d in fails:\n",
    "        fails2.update(ev)\n",
    "        deaths.add(d)\n",
    "    key = lambda e: e.timestamp\n",
    "    return sorted(fails2, key=key), sorted(deaths, key=key)\n",
    "\n",
    "def hit_by_bad(f, *bad, cutoff=8):\n",
    "    fs = 'type=\"damage\" AND (%s)' % \" OR \".join('ability.name=\"%s\"'%b for b in bad)\n",
    "    return f.events(fs, cutoff=cutoff)"
   ]
  },
  {
   "cell_type": "code",
   "execution_count": 4,
   "metadata": {
    "collapsed": true
   },
   "outputs": [],
   "source": [
    "cache = {}\n",
    "def get(url):\n",
    "    global cache\n",
    "    if url in cache:\n",
    "        return cache[url]\n",
    "    rv = api.sess.request(\"GET\", url).content.decode()\n",
    "    cache[url] = rv\n",
    "    return rv\n",
    "def query(s):\n",
    "    return pyquery.PyQuery(s)(\"#reports-table > tbody > tr\")"
   ]
  },
  {
   "cell_type": "code",
   "execution_count": 5,
   "metadata": {
    "collapsed": true
   },
   "outputs": [],
   "source": [
    "def throttle(t):\n",
    "    def _throttle(f):\n",
    "        l = time.time()\n",
    "        n = l + t\n",
    "        def func(*args, **kw):\n",
    "            nonlocal l, n\n",
    "            c = time.time()\n",
    "            s = n-c\n",
    "            if s > 0:\n",
    "                time.sleep(s)\n",
    "            try:\n",
    "                rv = f(*args, **kw)\n",
    "            finally:\n",
    "                l = c\n",
    "                n = c + t\n",
    "            return rv\n",
    "        return func\n",
    "    return _throttle"
   ]
  },
  {
   "cell_type": "code",
   "execution_count": 12,
   "metadata": {
    "collapsed": true
   },
   "outputs": [],
   "source": [
    "def actor(f, id):\n",
    "    return f.actor(id).name"
   ]
  },
  {
   "cell_type": "code",
   "execution_count": 6,
   "metadata": {
    "collapsed": true
   },
   "outputs": [],
   "source": [
    "GUILD = \"Nurfed\"\n",
    "SERVER = \"Tichondrius\"\n",
    "reports = api.reports(GUILD, SERVER, \"US\")\n",
    "rs = reports.find(title=\"Uldir\")"
   ]
  },
  {
   "cell_type": "code",
   "execution_count": 25,
   "metadata": {
    "collapsed": true
   },
   "outputs": [],
   "source": [
    "def hms(s):\n",
    "    h, s = divmod(s, 3600)\n",
    "    m, s = divmod(s, 60)\n",
    "    return \"%02d:%02d:%02d\"%(h,m,s)\n",
    "\n",
    "def hms2(ms):\n",
    "    return hms(ms/1000)"
   ]
  },
  {
   "cell_type": "code",
   "execution_count": 26,
   "metadata": {},
   "outputs": [
    {
     "name": "stdout",
     "output_type": "stream",
     "text": [
      "00:00:24             Rosael               Obliteration Blast\n",
      "00:00:24             Namiyo               Obliteration Blast\n",
      "00:00:24             Midnaught            Obliteration Blast\n",
      "00:00:25             Jukie                Obliteration Blast\n",
      "00:01:25             Monkerboii           Obliteration Blast\n",
      "00:01:26             Vandarkholme         Obliteration Blast\n",
      "00:01:38             Rosael               Obliteration Blast\n",
      "00:01:58             Akalic               Obliteration Blast\n",
      "00:02:23             Bladedguilt          Obliteration Beam\n",
      "00:02:38             Rialai               Obliteration Beam\n",
      "00:02:38             Qwezek               Obliteration Beam\n",
      "00:02:38             Yarmageddon          Obliteration Beam\n",
      "00:02:38             Monkerboii           Obliteration Beam\n",
      "00:02:38             Vandarkholme         Obliteration Beam\n",
      "00:02:39             Rialai               Obliteration Beam\n",
      "00:02:39             Yarmageddon          Obliteration Beam\n",
      "00:02:39             Monkerboii           Obliteration Beam\n",
      "00:02:39             Rialai               Obliteration Beam\n",
      "00:02:53             Monkerboii           Obliteration Beam\n",
      "00:02:53             Phue                 Obliteration Beam\n",
      "00:02:53             Namiyo               Obliteration Beam\n",
      "00:02:53             Weebfist             Obliteration Beam\n",
      "00:02:53             Akalic               Obliteration Beam\n",
      "00:02:53             Bladedguilt          Obliteration Beam\n",
      "00:02:53             Strifelol            Obliteration Beam\n",
      "00:02:53             Rialai               Obliteration Beam\n",
      "00:02:54             Monkerboii           Obliteration Beam\n",
      "00:02:54             Namiyo               Obliteration Beam\n",
      "00:02:54             Akalic               Obliteration Beam\n",
      "00:02:54             Rialai               Obliteration Beam\n",
      "00:02:54             Rialai               Obliteration Beam\n",
      "00:02:54             Akalic               Obliteration Beam\n",
      "00:02:55             Midnaught            Obliteration Beam\n",
      "00:02:56             Midnaught            Obliteration Beam\n",
      "00:02:56             Midnaught            Obliteration Beam\n",
      "00:02:56             Midnaught            Obliteration Beam\n",
      "00:02:57             Strifelol            Obliteration Beam\n",
      "00:02:57             Strifelol            Obliteration Beam\n",
      "00:03:08             Akalic               Obliteration Beam\n",
      "00:03:09             Phue                 Obliteration Beam\n",
      "00:03:09             Namiyo               Obliteration Beam\n",
      "00:03:09             Qwezek               Obliteration Beam\n",
      "00:03:09             Strifelol            Obliteration Beam\n",
      "00:03:09             Namiyo               Obliteration Beam\n",
      "00:03:09             Namiyo               Obliteration Beam\n",
      "00:03:42             Namiyo               Obliteration Blast\n",
      "00:03:53             Phue                 Obliteration Blast\n",
      "00:04:41             Yarmageddon          Obliteration Blast\n",
      "00:05:15             Rialai               Obliteration Blast\n",
      "00:05:55             Rosael               Obliteration Beam\n",
      "00:05:55             Strifelol            Obliteration Beam\n",
      "00:05:55             Ragemeter            Obliteration Beam\n",
      "00:05:55             Namiyo               Obliteration Beam\n",
      "00:05:55             Vandarkholme         Obliteration Beam\n",
      "00:05:55             Ragemeter            Obliteration Beam\n",
      "00:05:55             Namiyo               Obliteration Beam\n",
      "00:05:55             Namiyo               Obliteration Beam\n",
      "00:05:56             Namiyo               Obliteration Beam\n",
      "00:05:58             Monkerboii           Obliteration Beam\n",
      "00:05:58             Monkerboii           Obliteration Beam\n",
      "00:06:24             Ragemeter            Obliteration Beam\n",
      "00:06:24             Weebfist             Obliteration Beam\n",
      "00:06:28             Namiyo               Obliteration Beam\n",
      "00:06:58             Ws                   Obliteration Blast\n"
     ]
    }
   ],
   "source": [
    "fights = api.fights(\"BJTwtdGVFqnr12kb\")\n",
    "mythrax = fights.find(name=\"Mythrax\")\n",
    "for f in mythrax:\n",
    "    start = f.events('type=\"encounterstart\"')[0]['timestamp']\n",
    "    baddies = hit_by_bad(f, \"Obliteration Blast\", \"Obliteration Beam\")\n",
    "    for b in baddies:\n",
    "        pid = b['targetID']\n",
    "        if pid != -1:\n",
    "            player = actor(f, pid)\n",
    "            print(\"%-20s %-20s %s\"%(hms2(b.timestamp - start), player, b['ability']['name']))"
   ]
  },
  {
   "cell_type": "code",
   "execution_count": 22,
   "metadata": {},
   "outputs": [
    {
     "data": {
      "text/plain": [
       "{'ability': {'abilityIcon': 'ability_priest_voidentropy.jpg',\n",
       "  'guid': 273554,\n",
       "  'name': 'Obliteration Blast',\n",
       "  'type': 32},\n",
       " 'absorbed': 57317,\n",
       " 'amount': 19759,\n",
       " 'armor': 4128,\n",
       " 'attackPower': 10234,\n",
       " 'classResources': [{'amount': 841, 'max': 1000, 'type': 6}],\n",
       " 'facing': 12,\n",
       " 'hitPoints': 98639,\n",
       " 'hitType': 1,\n",
       " 'itemLevel': 386,\n",
       " 'mapID': 1155,\n",
       " 'maxHitPoints': 198960,\n",
       " 'mitigated': 1929,\n",
       " 'pin': '0',\n",
       " 'resourceActor': 2,\n",
       " 'source': {'guid': 0,\n",
       "  'icon': 'NPC-warcraft-0',\n",
       "  'id': -1,\n",
       "  'name': 'Environment',\n",
       "  'type': 'NPC'},\n",
       " 'sourceIsFriendly': False,\n",
       " 'spellPower': 873,\n",
       " 'targetID': 11,\n",
       " 'targetIsFriendly': True,\n",
       " 'timestamp': 12660801,\n",
       " 'type': 'damage',\n",
       " 'unmitigatedAmount': 79005,\n",
       " 'x': 26320,\n",
       " 'y': 24256}"
      ]
     },
     "execution_count": 22,
     "metadata": {},
     "output_type": "execute_result"
    }
   ],
   "source": [
    "b"
   ]
  },
  {
   "cell_type": "code",
   "execution_count": null,
   "metadata": {
    "collapsed": true
   },
   "outputs": [],
   "source": []
  },
  {
   "cell_type": "code",
   "execution_count": 115,
   "metadata": {},
   "outputs": [
    {
     "name": "stdout",
     "output_type": "stream",
     "text": [
      "Add #1:\n",
      "    Adam            1.52 3107\n",
      "    Aurelas         1.60 3240\n",
      "    Shalakittena    3.09 837\n",
      "    Stevex          3.13 1621\n",
      "    Conrad          3.27 11781\n",
      "    spiritMROOSE    3.55 7027\n",
      "    Naenow          4.12 3609\n",
      "    Mend            5.13 7014\n",
      "    Leaxaxo         6.97 7566\n",
      "    Zestycrouton    8.04 44614\n",
      "    Treant          12.81 1223\n",
      "Add #2:\n",
      "    Thecucker       2.42 6278\n",
      "    Handidh         3.43 2083\n",
      "    Piecez          4.12 23681\n",
      "    Voomkin         4.48 2128\n",
      "    classicwhen     5.36 13440\n",
      "    Ub              6.73 87267\n",
      "    Stevex          8.68 2155\n",
      "    Ovid            9.10 3227\n",
      "    Treant          12.22 1363\n",
      "Add #3:\n",
      "    Stevex          1.72 1643\n",
      "    Shalakittena    2.06 976\n",
      "    Aurelas         2.60 6739\n",
      "    Adam            2.78 3574\n",
      "    Naenow          3.52 3647\n",
      "    spiritMROOSE    4.16 19261\n",
      "    Zestycrouton    6.68 15383\n",
      "    Mend            7.58 10389\n",
      "    Baconmuffin     8.17 4085\n",
      "    Treant          8.17 1187\n",
      "    Leaxaxo         9.05 3333\n",
      "Add #4:\n",
      "    Piecez          1.48 1836\n",
      "    Voomkin         1.67 1750\n",
      "    Handidh         2.33 2902\n",
      "    Ub              2.86 25376\n",
      "    Thecucker       3.06 3722\n",
      "    Ovid            4.60 3111\n",
      "    classicwhen     6.08 8068\n",
      "    Pirateswift     11.62 4188\n",
      "Add #5:\n",
      "    Naenow          0.36 720\n",
      "    Voomkin         1.60 4207\n",
      "    Thecucker       2.16 2904\n",
      "    Piecez          3.15 23178\n",
      "    Handidh         3.32 2491\n",
      "    classicwhen     4.06 6720\n",
      "    Treant          4.07 1333\n",
      "    Ub              4.71 22535\n",
      "    Baconmuffin     12.87 3064\n",
      "    Ovid            13.69 3266\n",
      "Add #6:\n",
      "    Shalakittena    0.67 1691\n",
      "    Adam            1.82 3166\n",
      "    Stevex          2.77 1662\n",
      "    Aurelas         3.29 4113\n",
      "    Treant          4.56 1187\n",
      "    spiritMROOSE    4.78 7273\n",
      "    Mend            4.81 2966\n",
      "    Zestycrouton    5.90 27442\n",
      "    Naenow          5.96 586\n",
      "Add #7:\n",
      "Add #8:\n",
      "    Thecucker       1.38 16597\n",
      "    Handidh         1.41 2999\n",
      "    Mend            2.06 5931\n",
      "    Voomkin         2.82 3554\n",
      "    Mappr           2.82 2940\n",
      "    spiritMROOSE    3.34 2390\n",
      "    classicwhen     6.49 3537\n"
     ]
    }
   ],
   "source": [
    "fights = api.fights(\"BJTwtdGVFqnr12kb\").find(name=\"Mythrax\")\n",
    "f = fights.fights[-1]\n",
    "\n",
    "start_cast = kill.events('type=\"begincast\" AND ability.name=\"Enticing Essence\" AND source.name=\"Corruption Corpuscle\"')\n",
    "damage = kill.events('type=\"damage\" and target.name=\"Corruption Corpuscle\"')\n",
    "\n",
    "adds = {e.sourceInstance: {} for e in start_cast}\n",
    "ts = {e.sourceInstance: e.timestamp for e in start_cast}\n",
    "\n",
    "for d in damage:\n",
    "    p = actor(kill, d.sourceID)\n",
    "    a = d.targetInstance\n",
    "    g = adds[a]\n",
    "    if p not in g:\n",
    "        g[p] = d.timestamp, d.amount\n",
    "    else:\n",
    "        if d.timestamp < g[p][0]:\n",
    "            amt = g[p][1]\n",
    "            g[p] = d.timestamp, amt + d.amount\n",
    "\n",
    "for aid, ahits in sorted(adds.items(), key=lambda t: t[0]):\n",
    "    first = ts[aid]\n",
    "    hits = []\n",
    "    for p, (t, a) in ahits.items():\n",
    "        hits.append((p, (t-first)/1000, a) )\n",
    "    hits.sort(key=lambda t: t[1])\n",
    "    print(\"Add #%d:\"%aid)\n",
    "    for h in hits:\n",
    "        print(\"    %-15s %.2f %d\"%(h))\n",
    "        \n",
    "    "
   ]
  },
  {
   "cell_type": "code",
   "execution_count": 124,
   "metadata": {
    "collapsed": true
   },
   "outputs": [],
   "source": [
    "def event_damage(*abilities):\n",
    "    tmpl = \"ability.name=\\\"%s\\\"\"\n",
    "    al = [tmpl%a for a in abilities]\n",
    "    base = \" OR \".join(al)\n",
    "    return \"(type=\\\"damage\\\" AND (%s))\"%base\n",
    "    \n",
    "def crushing_fear():\n",
    "    cf = 'ability.name=\"Crushing Fear\"'\n",
    "    tmpl = '(type=\"%s\")'\n",
    "    evt = \"damage\", \"applydebuff\", \"applydebuffstack\", \"removedebuff\"\n",
    "    fs = \"%s AND (%s)\"%(cf, \" OR \".join(map(tmpl.__mod__, evt)))\n",
    "    return fs"
   ]
  },
  {
   "cell_type": "code",
   "execution_count": 80,
   "metadata": {
    "collapsed": true
   },
   "outputs": [],
   "source": [
    "pstatus = {player.name: collections.defaultdict(lambda: 0) for player in f.friendlies.players().friendlies}\n",
    "pdamage = {player.name: 0 for player in f.friendlies.players().friendlies}"
   ]
  },
  {
   "cell_type": "code",
   "execution_count": null,
   "metadata": {
    "collapsed": true
   },
   "outputs": [],
   "source": []
  }
 ],
 "metadata": {
  "kernelspec": {
   "display_name": "Python 3",
   "language": "python",
   "name": "python3"
  },
  "language_info": {
   "codemirror_mode": {
    "name": "ipython",
    "version": 3
   },
   "file_extension": ".py",
   "mimetype": "text/x-python",
   "name": "python",
   "nbconvert_exporter": "python",
   "pygments_lexer": "ipython3",
   "version": "3.6.1"
  }
 },
 "nbformat": 4,
 "nbformat_minor": 2
}
