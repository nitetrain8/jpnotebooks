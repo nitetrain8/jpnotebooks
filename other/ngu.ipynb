{
 "cells": [
  {
   "cell_type": "code",
   "execution_count": 11,
   "metadata": {
    "collapsed": true
   },
   "outputs": [],
   "source": [
    "import pytesseract\n",
    "from PIL import Image\n",
    "import PIL\n",
    "from PIL.ImageGrab import grab as screenshot\n",
    "import pyautogui\n",
    "import os\n",
    "\n",
    "import tempfile\n",
    "import numpy as np"
   ]
  },
  {
   "cell_type": "code",
   "execution_count": 12,
   "metadata": {
    "collapsed": true
   },
   "outputs": [],
   "source": [
    "tempdir = \"ngu\"\n",
    "os.makedirs(tempdir, exist_ok=True)"
   ]
  },
  {
   "cell_type": "code",
   "execution_count": 13,
   "metadata": {
    "collapsed": true
   },
   "outputs": [],
   "source": [
    "def get_wire():\n",
    "    bbox = 53, 754, 237, 774\n",
    "    return screenshot(bbox)"
   ]
  },
  {
   "cell_type": "code",
   "execution_count": 14,
   "metadata": {
    "collapsed": true
   },
   "outputs": [],
   "source": [
    "import win32api, math\n",
    "SCREEN_X = win32api.GetSystemMetrics(78)\n",
    "SCREEN_Y = win32api.GetSystemMetrics(79)\n",
    "\n",
    "def norm(x, y):\n",
    "    return math.ceil(x / (SCREEN_X) * 65535), math.ceil(y / (SCREEN_Y) * 65536)\n",
    "\n",
    "def denorm(x,y):\n",
    "    return math.floor((x / 65535) * SCREEN_X), math.floor((y / 65536) * SCREEN_Y)\n",
    "\n",
    "def get_pos(normalize=True):\n",
    "    x, y = win32api.GetCursorPos()\n",
    "    if normalize:\n",
    "        x, y = norm(x, y)\n",
    "    return x,y\n",
    "\n",
    "def right_click_down():\n",
    "    return win32api.GetKeyState(0x02) & 0x8000"
   ]
  },
  {
   "cell_type": "code",
   "execution_count": 15,
   "metadata": {
    "collapsed": true
   },
   "outputs": [],
   "source": [
    "import contextlib\n",
    "@contextlib.contextmanager\n",
    "def tmpf(suff):\n",
    "    with tempfile.NamedTemporaryFile(\"wb+\", dir=tempdir, suffix=suff, delete=False) as f:\n",
    "        try:\n",
    "            yield f\n",
    "        except:\n",
    "            raise\n",
    "def tmpn(suffix):\n",
    "    return tempfile.NamedTemporaryFile(\"wb+\", dir=tempdir, suffix=suffix, delete=False).name"
   ]
  },
  {
   "cell_type": "code",
   "execution_count": 16,
   "metadata": {
    "collapsed": true
   },
   "outputs": [],
   "source": [
    "import tkinter as tk, tkinter.ttk as ttk\n",
    "def coord_box():\n",
    "    root = tk.Tk()\n",
    "    f = tk.Frame(root)\n",
    "    sv = tk.StringVar()\n",
    "    sv2 = tk.StringVar()\n",
    "    label = ttk.Label(f, textvariable=sv)\n",
    "    space = ttk.Label(f, textvariable=sv2)\n",
    "    sv.set(\"(0, 0)\")\n",
    "    sv2.set(\" \"*12)\n",
    "    SF = False\n",
    "    def stop():\n",
    "        nonlocal SF\n",
    "        SF = True\n",
    "        root.destroy()\n",
    "        \n",
    "    exit = ttk.Button(f, text=\"Stop\", command=stop)\n",
    "    label.grid(row=0, column=0)\n",
    "    space.grid(row=0, column=1)\n",
    "    exit.grid(row=0, column=2)\n",
    "    f.grid()\n",
    "    \n",
    "    X = 0\n",
    "    Y = 0\n",
    "    RCD = False\n",
    "    def poll():\n",
    "        nonlocal sv, SF, RCD, X, Y\n",
    "        if SF:\n",
    "            return\n",
    "        x,y = get_pos(False)\n",
    "        sv.set(\"x=%d y=%d\"%(x,y))\n",
    "        if right_click_down():\n",
    "            if not RCD:\n",
    "                RCD = True\n",
    "                X, Y = get_pos(False)\n",
    "            \n",
    "            sv2.set(\"%12s\" % (\"w=%d h=%d\"%(abs(X-x), abs(Y-y))))\n",
    "        else:\n",
    "            if RCD:\n",
    "                print(\"bbox = (%d, %d, %d, %d)\"%(min(x, X), min(y, Y), max(X,x), max(Y,y)))\n",
    "            RCD = False\n",
    "        root.after(100, poll)\n",
    "    root.after(1, poll)\n",
    "    \n",
    "    root.mainloop()"
   ]
  },
  {
   "cell_type": "code",
   "execution_count": 132,
   "metadata": {},
   "outputs": [
    {
     "name": "stdout",
     "output_type": "stream",
     "text": [
      "bbox = (1010, 483, 1072, 503)\n"
     ]
    }
   ],
   "source": [
    "coord_box()"
   ]
  },
  {
   "cell_type": "code",
   "execution_count": 33,
   "metadata": {
    "collapsed": true
   },
   "outputs": [],
   "source": [
    "bbox_tm_level = (1034+5, 459, 1058, 478)\n",
    "bbox_gold = (208, 558, 282, 570)\n",
    "bbox_dscissors_lvl = (897, 517, 928, 538)\n",
    "bbox = (892, 459, 954, 480)"
   ]
  },
  {
   "cell_type": "code",
   "execution_count": 170,
   "metadata": {
    "collapsed": true
   },
   "outputs": [],
   "source": [
    "def read_num(img):\n",
    "    # the char whitelist doesn't work in tesseract 4.0\n",
    "    # so need to manually fix the string \n",
    "    # convert e.g. s -> 5, S -> 5, and so on\n",
    "    s = pytesseract.image_to_string(img, config=\"--psm 7 -l eng\")\n",
    "#     out = []\n",
    "#     for c in s:\n",
    "#         if c in \"sS\":\n",
    "#             c = \"5\"\n",
    "#         elif c in \"oO\":\n",
    "#             c = \"0\"\n",
    "#         out.append(c)\n",
    "    return s #\"\".join(out)"
   ]
  },
  {
   "cell_type": "code",
   "execution_count": 148,
   "metadata": {
    "collapsed": true
   },
   "outputs": [],
   "source": [
    "def dist(r,g,b, bg):\n",
    "    return math.sqrt((r-bg[0])**2 + (g-bg[1])**2 + (b-bg[2])**2)"
   ]
  },
  {
   "cell_type": "code",
   "execution_count": 139,
   "metadata": {
    "scrolled": false
   },
   "outputs": [
    {
     "name": "stdout",
     "output_type": "stream",
     "text": [
      "659,988\n"
     ]
    },
    {
     "data": {
      "image/png": "[encoded data removed]",
      "text/plain": [
       "<PIL.Image.Image image mode=L size=62x20 at 0x25E7C9FD940>"
      ]
     },
     "execution_count": 139,
     "metadata": {},
     "output_type": "execute_result"
    }
   ],
   "source": [
    "bbox1 = (1007, 510, 1078, 563)\n",
    "bbox2 = (182, 453, 299, 552)\n",
    "bbox = (1010, 483, 1072, 503)\n",
    "img = screenshot(bbox)\n",
    "img2 = np.asarray(img, dtype=np.uint8)\n",
    "background = img2[0,0]\n",
    "\n",
    "dist = np.sqrt(np.sum((img2-background)**2, axis=2))\n",
    "black = (dist < 5) * np.uint8(255)\n",
    "img_out = PIL.Image.fromarray((black))\n",
    "s = pytesseract.image_to_string(img_out, config=\"--psm 8\")\n",
    "print(s)\n",
    "img_out"
   ]
  },
  {
   "cell_type": "code",
   "execution_count": 162,
   "metadata": {},
   "outputs": [
    {
     "data": {
      "image/png": "[encoded data removed]",
      "text/plain": [
       "<PIL.Image.Image image mode=1 size=310x100 at 0x25E7CA18F60>"
      ]
     },
     "execution_count": 162,
     "metadata": {},
     "output_type": "execute_result"
    }
   ],
   "source": [
    "import numpy as np\n",
    "img = screenshot(bbox)\n",
    "img2 = np.asarray(img)\n",
    "img3 = np.empty_like(img2, dtype=np.uint8)\n",
    "a,d,c = img2.shape\n",
    "bg = img2[0,0]\n",
    "f = open(\"test.txt\", 'w')\n",
    "for i in range(a):\n",
    "    for j in range(d):\n",
    "        r,g,b = img2[i,j]\n",
    "        #print(dist(r,g,b))\n",
    "        #st = dist(r,g,b, bg)\n",
    "        #print(st)\n",
    "        if (r,g,b) != (0,0,0):\n",
    "            r,g,b = 255, 255, 255\n",
    "#         if st < 110:\n",
    "#             r,g,b = 255, 255, 255\n",
    "#             st = 0\n",
    "#         else:\n",
    "#             r,g,b = 0,0,0\n",
    "        img3[i,j] = r,g,b\n",
    "#         st = int(st)\n",
    "#         if st == 0:\n",
    "#             st = \"   \"\n",
    "#         else:\n",
    "#             st = \"%3d\"%st\n",
    "#         print(st, end=\" \", file=f)\n",
    "        if j == d-1:\n",
    "            print(file=f)\n",
    "f.close()\n",
    "img4 = PIL.Image.fromarray(img3)\n",
    "s=5\n",
    "img4.convert(\"1\").resize((img4.width*s, img4.height*s))"
   ]
  },
  {
   "cell_type": "code",
   "execution_count": 175,
   "metadata": {},
   "outputs": [
    {
     "data": {
      "text/plain": [
       "'8.165E+009'"
      ]
     },
     "execution_count": 175,
     "metadata": {},
     "output_type": "execute_result"
    }
   ],
   "source": [
    "s = 5\n",
    "bbox = (207, 551, 281, 564)\n",
    "img = screenshot(bbox)\n",
    "big=img.resize((img.width*s, img.height*s))\n",
    "read_num(img)"
   ]
  },
  {
   "cell_type": "code",
   "execution_count": 174,
   "metadata": {},
   "outputs": [
    {
     "name": "stdout",
     "output_type": "stream",
     "text": [
      "bbox = (207, 551, 281, 564)\n"
     ]
    }
   ],
   "source": [
    "coord_box()"
   ]
  },
  {
   "cell_type": "code",
   "execution_count": null,
   "metadata": {
    "collapsed": true
   },
   "outputs": [],
   "source": []
  },
  {
   "cell_type": "code",
   "execution_count": null,
   "metadata": {
    "collapsed": true
   },
   "outputs": [],
   "source": []
  },
  {
   "cell_type": "code",
   "execution_count": 215,
   "metadata": {
    "collapsed": true
   },
   "outputs": [],
   "source": [
    "import cv2\n",
    "cv2.imshow(\"snip\",np.asarray(img4))"
   ]
  },
  {
   "cell_type": "code",
   "execution_count": 125,
   "metadata": {
    "collapsed": true
   },
   "outputs": [],
   "source": [
    "img2 = img.convert(\"L\")\n",
    "import numpy as np\n",
    "img3 = np.asarray(img2, dtype=np.uint8)\n",
    "img4 = (img3 < 199)*255"
   ]
  },
  {
   "cell_type": "code",
   "execution_count": 140,
   "metadata": {},
   "outputs": [
    {
     "data": {
      "text/plain": [
       "'5'"
      ]
     },
     "execution_count": 140,
     "metadata": {},
     "output_type": "execute_result"
    }
   ],
   "source": [
    "img3 = img2.point(lambda x: 255 if x > 190 else 0, mode='1')\n",
    "pytesseract.image_to_string(img3, config=\"--psm 8\")"
   ]
  },
  {
   "cell_type": "code",
   "execution_count": null,
   "metadata": {
    "collapsed": true
   },
   "outputs": [],
   "source": []
  },
  {
   "cell_type": "code",
   "execution_count": 20,
   "metadata": {},
   "outputs": [
    {
     "data": {
      "text/plain": [
       "(-8, -8, 1608, 868)"
      ]
     },
     "execution_count": 20,
     "metadata": {},
     "output_type": "execute_result"
    }
   ],
   "source": [
    "import win32gui\n",
    "\n",
    "hwnd = win32gui.FindWindow(None, 'Play NGU IDLE, a free online game on Kongregate - Google Chrome')\n",
    "bbox = win32gui.GetWindowRect(hwnd)\n",
    "img = screenshot((0, 0, bbox[2], bbox[3]))\n",
    "bbox"
   ]
  },
  {
   "cell_type": "code",
   "execution_count": null,
   "metadata": {
    "collapsed": true
   },
   "outputs": [],
   "source": [
    "import cv2, numpy, numpy as np\n",
    "opencvImage = cv2.cvtColor(numpy.array(img), cv2.COLOR_RGB2GRAY)"
   ]
  },
  {
   "cell_type": "code",
   "execution_count": null,
   "metadata": {
    "collapsed": true,
    "scrolled": true
   },
   "outputs": [],
   "source": [
    "img = opencvImage\n",
    "h, w = img.shape[:2]\n",
    "kernel = np.ones((15,15),np.uint8)\n",
    "\n",
    "e = cv2.erode(img,kernel,iterations = 2)  \n",
    "d = cv2.dilate(e,kernel,iterations = 1)\n",
    "ret, th = cv2.threshold(d, 1, 255, cv2.THRESH_BINARY)\n",
    "\n",
    "mask = np.zeros((h+2, w+2), np.uint8)\n",
    "cv2.floodFill(th, mask, (200,200), 255); # position = (200,200)\n",
    "out = cv2.bitwise_not(th)\n",
    "out= cv2.dilate(out,kernel,iterations = 3)\n",
    "_, cnt, h = cv2.findContours(out,cv2.RETR_TREE,cv2.CHAIN_APPROX_SIMPLE)\n",
    "for i in range(len(cnt)):\n",
    "            area = cv2.contourArea(cnt[i])\n",
    "            if(area>100 and area<10000000):\n",
    "                  mask = np.zeros_like(img)\n",
    "                  cv2.drawContours(mask, cnt, i, 255, -1)\n",
    "                  x,y,w,h = cv2.boundingRect(cnt[i])\n",
    "                  crop= img[y:h+y,x:w+x]\n",
    "                  cv2.imshow(\"snip\",crop )\n",
    "                  if(cv2.waitKey(0))==27:break\n",
    "\n",
    "cv2.destroyAllWindows()"
   ]
  },
  {
   "cell_type": "code",
   "execution_count": null,
   "metadata": {
    "collapsed": true
   },
   "outputs": [],
   "source": []
  }
 ],
 "metadata": {
  "kernelspec": {
   "display_name": "Python 3",
   "language": "python",
   "name": "python3"
  },
  "language_info": {
   "codemirror_mode": {
    "name": "ipython",
    "version": 3
   },
   "file_extension": ".py",
   "mimetype": "text/x-python",
   "name": "python",
   "nbconvert_exporter": "python",
   "pygments_lexer": "ipython3",
   "version": "3.6.1"
  }
 },
 "nbformat": 4,
 "nbformat_minor": 2
}
