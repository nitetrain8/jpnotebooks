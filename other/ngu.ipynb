{
 "cells": [
  {
   "cell_type": "code",
   "execution_count": 1,
   "metadata": {
    "collapsed": true
   },
   "outputs": [],
   "source": [
    "import pytesseract\n",
    "from PIL import Image\n",
    "import PIL\n",
    "from PIL.ImageGrab import grab as screenshot\n",
    "import pyautogui\n",
    "import os\n",
    "\n",
    "import tempfile\n",
    "import numpy as np"
   ]
  },
  {
   "cell_type": "code",
   "execution_count": 12,
   "metadata": {
    "collapsed": true
   },
   "outputs": [],
   "source": [
    "tempdir = \"ngu\"\n",
    "os.makedirs(tempdir, exist_ok=True)"
   ]
  },
  {
   "cell_type": "code",
   "execution_count": 13,
   "metadata": {
    "collapsed": true
   },
   "outputs": [],
   "source": [
    "def get_wire():\n",
    "    bbox = 53, 754, 237, 774\n",
    "    return screenshot(bbox)"
   ]
  },
  {
   "cell_type": "code",
   "execution_count": 14,
   "metadata": {
    "collapsed": true
   },
   "outputs": [],
   "source": [
    "import win32api, math\n",
    "SCREEN_X = win32api.GetSystemMetrics(78)\n",
    "SCREEN_Y = win32api.GetSystemMetrics(79)\n",
    "\n",
    "def norm(x, y):\n",
    "    return math.ceil(x / (SCREEN_X) * 65535), math.ceil(y / (SCREEN_Y) * 65536)\n",
    "\n",
    "def denorm(x,y):\n",
    "    return math.floor((x / 65535) * SCREEN_X), math.floor((y / 65536) * SCREEN_Y)\n",
    "\n",
    "def get_pos(normalize=True):\n",
    "    x, y = win32api.GetCursorPos()\n",
    "    if normalize:\n",
    "        x, y = norm(x, y)\n",
    "    return x,y\n",
    "\n",
    "def right_click_down():\n",
    "    return win32api.GetKeyState(0x02) & 0x8000"
   ]
  },
  {
   "cell_type": "code",
   "execution_count": 15,
   "metadata": {
    "collapsed": true
   },
   "outputs": [],
   "source": [
    "import contextlib\n",
    "@contextlib.contextmanager\n",
    "def tmpf(suff):\n",
    "    with tempfile.NamedTemporaryFile(\"wb+\", dir=tempdir, suffix=suff, delete=False) as f:\n",
    "        try:\n",
    "            yield f\n",
    "        except:\n",
    "            raise\n",
    "def tmpn(suffix):\n",
    "    return tempfile.NamedTemporaryFile(\"wb+\", dir=tempdir, suffix=suffix, delete=False).name"
   ]
  },
  {
   "cell_type": "code",
   "execution_count": 16,
   "metadata": {
    "collapsed": true
   },
   "outputs": [],
   "source": [
    "import tkinter as tk, tkinter.ttk as ttk\n",
    "def coord_box():\n",
    "    root = tk.Tk()\n",
    "    f = tk.Frame(root)\n",
    "    sv = tk.StringVar()\n",
    "    sv2 = tk.StringVar()\n",
    "    label = ttk.Label(f, textvariable=sv)\n",
    "    space = ttk.Label(f, textvariable=sv2)\n",
    "    sv.set(\"(0, 0)\")\n",
    "    sv2.set(\" \"*12)\n",
    "    SF = False\n",
    "    def stop():\n",
    "        nonlocal SF\n",
    "        SF = True\n",
    "        root.destroy()\n",
    "        \n",
    "    exit = ttk.Button(f, text=\"Stop\", command=stop)\n",
    "    label.grid(row=0, column=0)\n",
    "    space.grid(row=0, column=1)\n",
    "    exit.grid(row=0, column=2)\n",
    "    f.grid()\n",
    "    \n",
    "    X = 0\n",
    "    Y = 0\n",
    "    RCD = False\n",
    "    def poll():\n",
    "        nonlocal sv, SF, RCD, X, Y\n",
    "        if SF:\n",
    "            return\n",
    "        x,y = get_pos(False)\n",
    "        sv.set(\"x=%d y=%d\"%(x,y))\n",
    "        if right_click_down():\n",
    "            if not RCD:\n",
    "                RCD = True\n",
    "                X, Y = get_pos(False)\n",
    "            \n",
    "            sv2.set(\"%12s\" % (\"w=%d h=%d\"%(abs(X-x), abs(Y-y))))\n",
    "        else:\n",
    "            if RCD:\n",
    "                print(\"bbox = (%d, %d, %d, %d)\"%(min(x, X), min(y, Y), max(X,x), max(Y,y)))\n",
    "            RCD = False\n",
    "        root.after(100, poll)\n",
    "    root.after(1, poll)\n",
    "    \n",
    "    root.mainloop()"
   ]
  },
  {
   "cell_type": "code",
   "execution_count": 132,
   "metadata": {},
   "outputs": [
    {
     "name": "stdout",
     "output_type": "stream",
     "text": [
      "bbox = (1010, 483, 1072, 503)\n"
     ]
    }
   ],
   "source": [
    "coord_box()"
   ]
  },
  {
   "cell_type": "code",
   "execution_count": 33,
   "metadata": {
    "collapsed": true
   },
   "outputs": [],
   "source": [
    "bbox_tm_level = (1034+5, 459, 1058, 478)\n",
    "bbox_gold = (208, 558, 282, 570)\n",
    "bbox_dscissors_lvl = (897, 517, 928, 538)\n",
    "bbox = (892, 459, 954, 480)"
   ]
  },
  {
   "cell_type": "code",
   "execution_count": 170,
   "metadata": {
    "collapsed": true
   },
   "outputs": [],
   "source": [
    "def read_num(img):\n",
    "    # the char whitelist doesn't work in tesseract 4.0\n",
    "    # so need to manually fix the string \n",
    "    # convert e.g. s -> 5, S -> 5, and so on\n",
    "    s = pytesseract.image_to_string(img, config=\"--psm 7 -l eng\")\n",
    "#     out = []\n",
    "#     for c in s:\n",
    "#         if c in \"sS\":\n",
    "#             c = \"5\"\n",
    "#         elif c in \"oO\":\n",
    "#             c = \"0\"\n",
    "#         out.append(c)\n",
    "    return s #\"\".join(out)"
   ]
  },
  {
   "cell_type": "code",
   "execution_count": 148,
   "metadata": {
    "collapsed": true
   },
   "outputs": [],
   "source": [
    "def dist(r,g,b, bg):\n",
    "    return math.sqrt((r-bg[0])**2 + (g-bg[1])**2 + (b-bg[2])**2)"
   ]
  },
  {
   "cell_type": "code",
   "execution_count": 139,
   "metadata": {
    "scrolled": false
   },
   "outputs": [
    {
     "name": "stdout",
     "output_type": "stream",
     "text": [
      "659,988\n"
     ]
    },
    {
     "data": {
      "image/png": "[encoded data removed]",
      "text/plain": [
       "<PIL.Image.Image image mode=L size=62x20 at 0x25E7C9FD940>"
      ]
     },
     "execution_count": 139,
     "metadata": {},
     "output_type": "execute_result"
    }
   ],
   "source": [
    "bbox1 = (1007, 510, 1078, 563)\n",
    "bbox2 = (182, 453, 299, 552)\n",
    "bbox = (1010, 483, 1072, 503)\n",
    "img = screenshot(bbox)\n",
    "img2 = np.asarray(img, dtype=np.uint8)\n",
    "background = img2[0,0]\n",
    "\n",
    "dist = np.sqrt(np.sum((img2-background)**2, axis=2))\n",
    "black = (dist < 5) * np.uint8(255)\n",
    "img_out = PIL.Image.fromarray((black))\n",
    "s = pytesseract.image_to_string(img_out, config=\"--psm 8\")\n",
    "print(s)\n",
    "img_out"
   ]
  },
  {
   "cell_type": "code",
   "execution_count": 162,
   "metadata": {},
   "outputs": [
    {
     "data": {
      "image/png": "[encoded data removed]",
      "text/plain": [
       "<PIL.Image.Image image mode=1 size=310x100 at 0x25E7CA18F60>"
      ]
     },
     "execution_count": 162,
     "metadata": {},
     "output_type": "execute_result"
    }
   ],
   "source": [
    "import numpy as np\n",
    "img = screenshot(bbox)\n",
    "img2 = np.asarray(img)\n",
    "img3 = np.empty_like(img2, dtype=np.uint8)\n",
    "a,d,c = img2.shape\n",
    "bg = img2[0,0]\n",
    "f = open(\"test.txt\", 'w')\n",
    "for i in range(a):\n",
    "    for j in range(d):\n",
    "        r,g,b = img2[i,j]\n",
    "        #print(dist(r,g,b))\n",
    "        #st = dist(r,g,b, bg)\n",
    "        #print(st)\n",
    "        if (r,g,b) != (0,0,0):\n",
    "            r,g,b = 255, 255, 255\n",
    "#         if st < 110:\n",
    "#             r,g,b = 255, 255, 255\n",
    "#             st = 0\n",
    "#         else:\n",
    "#             r,g,b = 0,0,0\n",
    "        img3[i,j] = r,g,b\n",
    "#         st = int(st)\n",
    "#         if st == 0:\n",
    "#             st = \"   \"\n",
    "#         else:\n",
    "#             st = \"%3d\"%st\n",
    "#         print(st, end=\" \", file=f)\n",
    "        if j == d-1:\n",
    "            print(file=f)\n",
    "f.close()\n",
    "img4 = PIL.Image.fromarray(img3)\n",
    "s=5\n",
    "img4.convert(\"1\").resize((img4.width*s, img4.height*s))"
   ]
  },
  {
   "cell_type": "code",
   "execution_count": 175,
   "metadata": {},
   "outputs": [
    {
     "data": {
      "text/plain": [
       "'8.165E+009'"
      ]
     },
     "execution_count": 175,
     "metadata": {},
     "output_type": "execute_result"
    }
   ],
   "source": [
    "s = 5\n",
    "bbox = (207, 551, 281, 564)\n",
    "img = screenshot(bbox)\n",
    "big=img.resize((img.width*s, img.height*s))\n",
    "read_num(img)"
   ]
  },
  {
   "cell_type": "code",
   "execution_count": 174,
   "metadata": {},
   "outputs": [
    {
     "name": "stdout",
     "output_type": "stream",
     "text": [
      "bbox = (207, 551, 281, 564)\n"
     ]
    }
   ],
   "source": [
    "coord_box()"
   ]
  },
  {
   "cell_type": "code",
   "execution_count": null,
   "metadata": {
    "collapsed": true
   },
   "outputs": [],
   "source": []
  },
  {
   "cell_type": "code",
   "execution_count": null,
   "metadata": {
    "collapsed": true
   },
   "outputs": [],
   "source": []
  },
  {
   "cell_type": "code",
   "execution_count": 215,
   "metadata": {
    "collapsed": true
   },
   "outputs": [],
   "source": [
    "import cv2\n",
    "cv2.imshow(\"snip\",np.asarray(img4))"
   ]
  },
  {
   "cell_type": "code",
   "execution_count": 125,
   "metadata": {
    "collapsed": true
   },
   "outputs": [],
   "source": [
    "img2 = img.convert(\"L\")\n",
    "import numpy as np\n",
    "img3 = np.asarray(img2, dtype=np.uint8)\n",
    "img4 = (img3 < 199)*255"
   ]
  },
  {
   "cell_type": "code",
   "execution_count": 140,
   "metadata": {},
   "outputs": [
    {
     "data": {
      "text/plain": [
       "'5'"
      ]
     },
     "execution_count": 140,
     "metadata": {},
     "output_type": "execute_result"
    }
   ],
   "source": [
    "img3 = img2.point(lambda x: 255 if x > 190 else 0, mode='1')\n",
    "pytesseract.image_to_string(img3, config=\"--psm 8\")"
   ]
  },
  {
   "cell_type": "code",
   "execution_count": null,
   "metadata": {
    "collapsed": true
   },
   "outputs": [],
   "source": []
  },
  {
   "cell_type": "code",
   "execution_count": 20,
   "metadata": {},
   "outputs": [
    {
     "data": {
      "text/plain": [
       "(-8, -8, 1608, 868)"
      ]
     },
     "execution_count": 20,
     "metadata": {},
     "output_type": "execute_result"
    }
   ],
   "source": [
    "import win32gui\n",
    "\n",
    "hwnd = win32gui.FindWindow(None, 'Play NGU IDLE, a free online game on Kongregate - Google Chrome')\n",
    "bbox = win32gui.GetWindowRect(hwnd)\n",
    "img = screenshot((0, 0, bbox[2], bbox[3]))\n",
    "bbox"
   ]
  },
  {
   "cell_type": "code",
   "execution_count": null,
   "metadata": {
    "collapsed": true
   },
   "outputs": [],
   "source": [
    "import cv2, numpy, numpy as np\n",
    "opencvImage = cv2.cvtColor(numpy.array(img), cv2.COLOR_RGB2GRAY)"
   ]
  },
  {
   "cell_type": "code",
   "execution_count": null,
   "metadata": {
    "collapsed": true,
    "scrolled": true
   },
   "outputs": [],
   "source": [
    "img = opencvImage\n",
    "h, w = img.shape[:2]\n",
    "kernel = np.ones((15,15),np.uint8)\n",
    "\n",
    "e = cv2.erode(img,kernel,iterations = 2)  \n",
    "d = cv2.dilate(e,kernel,iterations = 1)\n",
    "ret, th = cv2.threshold(d, 1, 255, cv2.THRESH_BINARY)\n",
    "\n",
    "mask = np.zeros((h+2, w+2), np.uint8)\n",
    "cv2.floodFill(th, mask, (200,200), 255); # position = (200,200)\n",
    "out = cv2.bitwise_not(th)\n",
    "out= cv2.dilate(out,kernel,iterations = 3)\n",
    "_, cnt, h = cv2.findContours(out,cv2.RETR_TREE,cv2.CHAIN_APPROX_SIMPLE)\n",
    "for i in range(len(cnt)):\n",
    "            area = cv2.contourArea(cnt[i])\n",
    "            if(area>100 and area<10000000):\n",
    "                  mask = np.zeros_like(img)\n",
    "                  cv2.drawContours(mask, cnt, i, 255, -1)\n",
    "                  x,y,w,h = cv2.boundingRect(cnt[i])\n",
    "                  crop= img[y:h+y,x:w+x]\n",
    "                  cv2.imshow(\"snip\",crop )\n",
    "                  if(cv2.waitKey(0))==27:break\n",
    "\n",
    "cv2.destroyAllWindows()"
   ]
  },
  {
   "cell_type": "code",
   "execution_count": 4,
   "metadata": {
    "collapsed": true
   },
   "outputs": [],
   "source": [
    "import requests, gzip, os, zlib"
   ]
  },
  {
   "cell_type": "code",
   "execution_count": 16,
   "metadata": {},
   "outputs": [
    {
     "ename": "error",
     "evalue": "Error -3 while decompressing data: unknown compression method",
     "output_type": "error",
     "traceback": [
      "\u001b[1;31m---------------------------------------------------------------------------\u001b[0m",
      "\u001b[1;31merror\u001b[0m                                     Traceback (most recent call last)",
      "\u001b[1;32m<ipython-input-16-922d5059c4d5>\u001b[0m in \u001b[0;36m<module>\u001b[1;34m()\u001b[0m\n\u001b[0;32m      1\u001b[0m \u001b[1;32mwith\u001b[0m \u001b[0mopen\u001b[0m\u001b[1;33m(\u001b[0m\u001b[1;34m\"Kong.asm.memory.unityweb\"\u001b[0m\u001b[1;33m,\u001b[0m \u001b[1;34m'rb'\u001b[0m\u001b[1;33m)\u001b[0m \u001b[1;32mas\u001b[0m \u001b[0mf\u001b[0m\u001b[1;33m:\u001b[0m\u001b[1;33m\u001b[0m\u001b[0m\n\u001b[0;32m      2\u001b[0m     \u001b[0mb\u001b[0m \u001b[1;33m=\u001b[0m \u001b[0mf\u001b[0m\u001b[1;33m.\u001b[0m\u001b[0mread\u001b[0m\u001b[1;33m(\u001b[0m\u001b[1;33m)\u001b[0m\u001b[1;33m\u001b[0m\u001b[0m\n\u001b[1;32m----> 3\u001b[1;33m \u001b[0mb2\u001b[0m \u001b[1;33m=\u001b[0m \u001b[0mzlib\u001b[0m\u001b[1;33m.\u001b[0m\u001b[0mdecompress\u001b[0m\u001b[1;33m(\u001b[0m\u001b[0mb\u001b[0m\u001b[1;33m)\u001b[0m\u001b[1;33m\u001b[0m\u001b[0m\n\u001b[0m",
      "\u001b[1;31merror\u001b[0m: Error -3 while decompressing data: unknown compression method"
     ]
    }
   ],
   "source": [
    "with open(\"Kong.asm.memory.unityweb\", 'rb') as f:\n",
    "    b = f.read()\n",
    "b2 = zlib.decompress(b)"
   ]
  },
  {
   "cell_type": "code",
   "execution_count": 31,
   "metadata": {
    "collapsed": true
   },
   "outputs": [],
   "source": [
    "rsp = sess.get(\"https://game287709.konggames.com/gamez/0028/7709/live/Build/Kong.data.unityweb\")\n",
    "content = rsp.content\n",
    "with open(\"test2.gz\", 'wb') as f:\n",
    "    f.write(content)\n",
    "content = gzip.decompress(content)"
   ]
  },
  {
   "cell_type": "code",
   "execution_count": 25,
   "metadata": {
    "collapsed": true
   },
   "outputs": [],
   "source": [
    "with open(\"test.bin\", 'wb') as f:\n",
    "    f.write(content)"
   ]
  },
  {
   "cell_type": "code",
   "execution_count": 6,
   "metadata": {},
   "outputs": [
    {
     "name": "stdout",
     "output_type": "stream",
     "text": [
      "Requesting: https://game287709.konggames.com/gamez/0028/7709/live/Build/Kong.asm.code.unityweb\n",
      "Requesting: https://game287709.konggames.com/gamez/0028/7709/live/Build/Kong.asm.memory.unityweb\n",
      "Requesting: https://game287709.konggames.com/gamez/0028/7709/live/Build/Kong.asm.framework.unityweb\n",
      "Requesting: https://game287709.konggames.com/gamez/0028/7709/live/Build/Kong.data.unityweb\n"
     ]
    }
   ],
   "source": [
    "import requests, os, gzip\n",
    "os.chdir(\"C:\\\\users\\\\administrator\\\\documents\")\n",
    "\n",
    "sess=  requests.Session()\n",
    "base = \"https://game287709.konggames.com/gamez/0028/7709/live/Build/\"\n",
    "files = [\n",
    "    \"Kong.asm.code.unityweb\",\n",
    "    \"Kong.asm.memory.unityweb\",\n",
    "    \"Kong.asm.framework.unityweb\",\n",
    "    \"Kong.data.unityweb\",\n",
    "#     \"UnityLoader.js\"\n",
    "]\n",
    "for fp in files:\n",
    "    url = base + fp\n",
    "    print(\"Requesting: %s\"%url)\n",
    "    rsp = sess.get(url)\n",
    "    rsp.raise_for_status()\n",
    "    b = rsp.content\n",
    "    b2 = gzip.decompress(b)\n",
    "    with open(fp, 'wb') as f:\n",
    "        f.write(b2)"
   ]
  },
  {
   "cell_type": "code",
   "execution_count": 17,
   "metadata": {
    "collapsed": true
   },
   "outputs": [],
   "source": [
    "s = jsbeautifier.beautify_file(files[2])\n",
    "with open(files[2], 'w') as f:\n",
    "    f.write(s)"
   ]
  },
  {
   "cell_type": "code",
   "execution_count": 12,
   "metadata": {
    "collapsed": true
   },
   "outputs": [],
   "source": [
    "jsbeautifier.beautify_file??"
   ]
  },
  {
   "cell_type": "code",
   "execution_count": 58,
   "metadata": {},
   "outputs": [
    {
     "name": "stdout",
     "output_type": "stream",
     "text": [
      "b'Resources/unity_default_resources'\n",
      "b'Managed/mono/2.0/machine.config'\n",
      "b'Il2CppData/Metadata/global-metadata.dat'\n",
      "b'data.unity3d'\n",
      "b'methods_pointedto_by_uievents.xml'\n",
      "b'preserved_derived_types.xml'\n",
      "b'resources.resource'\n"
     ]
    }
   ],
   "source": [
    "import unitypack, os\n",
    "import unitypack.utils\n",
    "os.chdir(\"C:\\\\users\\\\administrator\\\\documents\")\n",
    "with open(\"Kong.data.unityweb\", 'rb') as f:\n",
    "    text = f.read()\n",
    "    f.seek(0,0)\n",
    "    buf = unitypack.utils.BinaryReader(f, endian=\"<\")\n",
    "    pos = 0\n",
    "    header = b\"UnityWebData1.0\\0\"\n",
    "    sig = buf.read(len(header))\n",
    "    assert sig\n",
    "    #assert sig.decode(\"utf-16\") == header, (sig.decode(\"utf-16\"), header)\n",
    "    pos += len(sig)\n",
    "    #print(sig, pos, text[:pos])\n",
    "    flen = buf.read_uint()\n",
    "    pos += 4\n",
    "    #print(sig, pos, flen)\n",
    "    while pos < flen:\n",
    "        s = buf.read_uint(); pos += 4\n",
    "        d = buf.read_uint(); pos += 4\n",
    "        #print(pos); break\n",
    "        l = buf.read_uint(); pos += 4\n",
    "        f = buf.read(l);\n",
    "        pos += len(f)\n",
    "        u = 0\n",
    "        print(f)\n",
    "        f = f.replace(b\"/\", b\"_\")\n",
    "        with open(f.decode(), 'wb') as fd:\n",
    "            fd.write(text[s:s+d])\n",
    "        \n",
    "            \n",
    "            \n",
    "            \n",
    "            #print(len(text[s:s+d]))\n",
    "        "
   ]
  },
  {
   "cell_type": "code",
   "execution_count": null,
   "metadata": {
    "collapsed": true
   },
   "outputs": [],
   "source": [
    "f = b'Managed/mono/2.0/machine.config'\n",
    "c = f.index(b\"/\", 0) + 1\n",
    "u = c\n"
   ]
  },
  {
   "cell_type": "code",
   "execution_count": null,
   "metadata": {
    "collapsed": true
   },
   "outputs": [],
   "source": []
  },
  {
   "cell_type": "code",
   "execution_count": 60,
   "metadata": {},
   "outputs": [
    {
     "data": {
      "text/plain": [
       "b')\\x01\\x00\\x00'"
      ]
     },
     "execution_count": 60,
     "metadata": {},
     "output_type": "execute_result"
    }
   ],
   "source": [
    "text[len(header):len(header)+4]"
   ]
  },
  {
   "cell_type": "code",
   "execution_count": 62,
   "metadata": {},
   "outputs": [
    {
     "data": {
      "text/plain": [
       "(687931392,)"
      ]
     },
     "execution_count": 62,
     "metadata": {},
     "output_type": "execute_result"
    }
   ],
   "source": [
    "struct.unpack(\">I\",b')\\x01\\x00\\x00')"
   ]
  },
  {
   "cell_type": "code",
   "execution_count": 39,
   "metadata": {},
   "outputs": [
    {
     "data": {
      "text/plain": [
       "b'\\x0b\\x00!\\x00\\x00\\x00Resources/unity_default_resourcesY9\\x0b\\x00\\xe9'"
      ]
     },
     "execution_count": 39,
     "metadata": {},
     "output_type": "execute_result"
    }
   ],
   "source": [
    "text[26:70]"
   ]
  },
  {
   "cell_type": "code",
   "execution_count": 40,
   "metadata": {},
   "outputs": [
    {
     "data": {
      "text/plain": [
       "33"
      ]
     },
     "execution_count": 40,
     "metadata": {},
     "output_type": "execute_result"
    }
   ],
   "source": [
    "expected = \"Resources/unity_default_resources\"\n",
    "len(expected)"
   ]
  },
  {
   "cell_type": "code",
   "execution_count": 48,
   "metadata": {},
   "outputs": [
    {
     "data": {
      "text/plain": [
       "(687931392, 808979200)"
      ]
     },
     "execution_count": 48,
     "metadata": {},
     "output_type": "execute_result"
    }
   ],
   "source": [
    "s,d"
   ]
  },
  {
   "cell_type": "code",
   "execution_count": 46,
   "metadata": {},
   "outputs": [
    {
     "data": {
      "text/plain": [
       "b'!\\x00\\x00\\x00'"
      ]
     },
     "execution_count": 46,
     "metadata": {},
     "output_type": "execute_result"
    }
   ],
   "source": [
    "b = text[28:32]\n",
    "b"
   ]
  },
  {
   "cell_type": "code",
   "execution_count": 45,
   "metadata": {},
   "outputs": [
    {
     "data": {
      "text/plain": [
       "33"
      ]
     },
     "execution_count": 45,
     "metadata": {},
     "output_type": "execute_result"
    }
   ],
   "source": [
    "b\"!\"[0]"
   ]
  },
  {
   "cell_type": "code",
   "execution_count": 47,
   "metadata": {},
   "outputs": [
    {
     "data": {
      "text/plain": [
       "(33,)"
      ]
     },
     "execution_count": 47,
     "metadata": {},
     "output_type": "execute_result"
    }
   ],
   "source": [
    "struct.unpack(\"<I\",b)"
   ]
  },
  {
   "cell_type": "code",
   "execution_count": 51,
   "metadata": {},
   "outputs": [
    {
     "data": {
      "text/plain": [
       "687931392"
      ]
     },
     "execution_count": 51,
     "metadata": {},
     "output_type": "execute_result"
    }
   ],
   "source": [
    "flen"
   ]
  },
  {
   "cell_type": "code",
   "execution_count": null,
   "metadata": {
    "collapsed": true
   },
   "outputs": [],
   "source": []
  },
  {
   "cell_type": "code",
   "execution_count": 23,
   "metadata": {},
   "outputs": [
    {
     "data": {
      "text/plain": [
       "(297,)"
      ]
     },
     "execution_count": 23,
     "metadata": {},
     "output_type": "execute_result"
    }
   ],
   "source": [
    "import struct\n",
    "struct.unpack(\"<I\", text[len(header):len(header)+4])"
   ]
  },
  {
   "cell_type": "code",
   "execution_count": null,
   "metadata": {
    "collapsed": true
   },
   "outputs": [],
   "source": []
  },
  {
   "cell_type": "code",
   "execution_count": 49,
   "metadata": {},
   "outputs": [
    {
     "ename": "error",
     "evalue": "char format requires a bytes object of length 1",
     "output_type": "error",
     "traceback": [
      "\u001b[1;31m---------------------------------------------------------------------------\u001b[0m",
      "\u001b[1;31merror\u001b[0m                                     Traceback (most recent call last)",
      "\u001b[1;32m<ipython-input-49-aa7fca4cdc64>\u001b[0m in \u001b[0;36m<module>\u001b[1;34m()\u001b[0m\n\u001b[0;32m      1\u001b[0m \u001b[1;32mimport\u001b[0m \u001b[0mstruct\u001b[0m\u001b[1;33m\u001b[0m\u001b[0m\n\u001b[1;32m----> 2\u001b[1;33m \u001b[1;33m[\u001b[0m\u001b[0mstruct\u001b[0m\u001b[1;33m.\u001b[0m\u001b[0mpack\u001b[0m\u001b[1;33m(\u001b[0m\u001b[1;34m\">c\"\u001b[0m\u001b[1;33m,\u001b[0m \u001b[0mb\u001b[0m\u001b[1;33m)\u001b[0m\u001b[1;33m.\u001b[0m\u001b[0mdecode\u001b[0m\u001b[1;33m(\u001b[0m\u001b[1;33m)\u001b[0m \u001b[1;32mfor\u001b[0m \u001b[0mb\u001b[0m \u001b[1;32min\u001b[0m \u001b[0msig\u001b[0m\u001b[1;33m]\u001b[0m\u001b[1;33m\u001b[0m\u001b[0m\n\u001b[0m",
      "\u001b[1;32m<ipython-input-49-aa7fca4cdc64>\u001b[0m in \u001b[0;36m<listcomp>\u001b[1;34m(.0)\u001b[0m\n\u001b[0;32m      1\u001b[0m \u001b[1;32mimport\u001b[0m \u001b[0mstruct\u001b[0m\u001b[1;33m\u001b[0m\u001b[0m\n\u001b[1;32m----> 2\u001b[1;33m \u001b[1;33m[\u001b[0m\u001b[0mstruct\u001b[0m\u001b[1;33m.\u001b[0m\u001b[0mpack\u001b[0m\u001b[1;33m(\u001b[0m\u001b[1;34m\">c\"\u001b[0m\u001b[1;33m,\u001b[0m \u001b[0mb\u001b[0m\u001b[1;33m)\u001b[0m\u001b[1;33m.\u001b[0m\u001b[0mdecode\u001b[0m\u001b[1;33m(\u001b[0m\u001b[1;33m)\u001b[0m \u001b[1;32mfor\u001b[0m \u001b[0mb\u001b[0m \u001b[1;32min\u001b[0m \u001b[0msig\u001b[0m\u001b[1;33m]\u001b[0m\u001b[1;33m\u001b[0m\u001b[0m\n\u001b[0m",
      "\u001b[1;31merror\u001b[0m: char format requires a bytes object of length 1"
     ]
    }
   ],
   "source": [
    "import struct\n",
    "[struct.pack(\">c\", b).decode() for b in sig]"
   ]
  },
  {
   "cell_type": "code",
   "execution_count": 68,
   "metadata": {},
   "outputs": [
    {
     "ename": "UnicodeDecodeError",
     "evalue": "'utf-16-le' codec can't decode byte 0x00 in position 0: truncated data",
     "output_type": "error",
     "traceback": [
      "\u001b[1;31m---------------------------------------------------------------------------\u001b[0m",
      "\u001b[1;31mUnicodeDecodeError\u001b[0m                        Traceback (most recent call last)",
      "\u001b[1;32m<ipython-input-68-9bdcd5d50c91>\u001b[0m in \u001b[0;36m<module>\u001b[1;34m()\u001b[0m\n\u001b[1;32m----> 1\u001b[1;33m \u001b[0mstruct\u001b[0m\u001b[1;33m.\u001b[0m\u001b[0mpack\u001b[0m\u001b[1;33m(\u001b[0m\u001b[1;34m\">p\"\u001b[0m\u001b[1;33m,\u001b[0m \u001b[1;34mb\"UnityWebData1.0\"\u001b[0m\u001b[1;33m)\u001b[0m\u001b[1;33m.\u001b[0m\u001b[0mdecode\u001b[0m\u001b[1;33m(\u001b[0m\u001b[1;34m\"utf-16\"\u001b[0m\u001b[1;33m)\u001b[0m\u001b[1;33m\u001b[0m\u001b[0m\n\u001b[0m",
      "\u001b[1;31mUnicodeDecodeError\u001b[0m: 'utf-16-le' codec can't decode byte 0x00 in position 0: truncated data"
     ]
    }
   ],
   "source": [
    "struct.pack(\">p\", b\"UnityWebData1.0\").decode(\"utf-16\")"
   ]
  },
  {
   "cell_type": "code",
   "execution_count": 69,
   "metadata": {},
   "outputs": [
    {
     "data": {
      "text/plain": [
       "[85, 110, 105, 116, 121, 87, 101, 98, 68, 97, 116, 97, 49, 46, 48, 0]"
      ]
     },
     "execution_count": 69,
     "metadata": {},
     "output_type": "execute_result"
    }
   ],
   "source": [
    "[b for b in sig]"
   ]
  },
  {
   "cell_type": "code",
   "execution_count": 27,
   "metadata": {},
   "outputs": [
    {
     "data": {
      "text/plain": [
       "b'!\\x00\\x00\\x00'"
      ]
     },
     "execution_count": 27,
     "metadata": {},
     "output_type": "execute_result"
    }
   ],
   "source": [
    "d_loc = len(sig)+4+4+4\n",
    "text[d_loc:d_loc+4]"
   ]
  },
  {
   "cell_type": "code",
   "execution_count": 20,
   "metadata": {},
   "outputs": [
    {
     "name": "stderr",
     "output_type": "stream",
     "text": [
      "IOPub data rate exceeded.\n",
      "The notebook server will temporarily stop sending output\n",
      "to the client in order to avoid crashing it.\n",
      "To change this limit, set the config variable\n",
      "`--NotebookApp.iopub_data_rate_limit`.\n"
     ]
    }
   ],
   "source": [
    "text[pos:pos+l]"
   ]
  },
  {
   "cell_type": "code",
   "execution_count": 21,
   "metadata": {},
   "outputs": [
    {
     "data": {
      "text/plain": [
       "(32, 553648128)"
      ]
     },
     "execution_count": 21,
     "metadata": {},
     "output_type": "execute_result"
    }
   ],
   "source": [
    "pos, l"
   ]
  },
  {
   "cell_type": "code",
   "execution_count": 12,
   "metadata": {
    "collapsed": true
   },
   "outputs": [],
   "source": [
    "unitypack.utils.BinaryReader.read_int??"
   ]
  },
  {
   "cell_type": "code",
   "execution_count": 61,
   "metadata": {},
   "outputs": [
    {
     "name": "stderr",
     "output_type": "stream",
     "text": [
      "WARNING:root:-9 absent from structs.dat\n",
      "WARNING:root:-5 absent from structs.dat\n",
      "WARNING:root:-3 absent from structs.dat\n",
      "WARNING:root:-156 absent from structs.dat\n",
      "WARNING:root:-69 absent from structs.dat\n",
      "WARNING:root:-155 absent from structs.dat\n",
      "WARNING:root:-158 absent from structs.dat\n",
      "WARNING:root:-163 absent from structs.dat\n",
      "WARNING:root:-162 absent from structs.dat\n",
      "WARNING:root:-39 absent from structs.dat\n",
      "WARNING:root:-29 absent from structs.dat\n",
      "WARNING:root:-43 absent from structs.dat\n",
      "WARNING:root:-75 absent from structs.dat\n",
      "WARNING:root:-144 absent from structs.dat\n",
      "WARNING:root:-140 absent from structs.dat\n",
      "WARNING:root:-189 absent from structs.dat\n",
      "WARNING:root:-196 absent from structs.dat\n",
      "WARNING:root:-52 absent from structs.dat\n",
      "WARNING:root:-66 absent from structs.dat\n",
      "WARNING:root:-143 absent from structs.dat\n",
      "WARNING:root:-128 absent from structs.dat\n",
      "WARNING:root:-142 absent from structs.dat\n",
      "WARNING:root:-166 absent from structs.dat\n",
      "WARNING:root:-193 absent from structs.dat\n",
      "WARNING:root:-117 absent from structs.dat\n",
      "WARNING:root:-11 absent from structs.dat\n",
      "WARNING:root:-23 absent from structs.dat\n",
      "WARNING:root:-16 absent from structs.dat\n",
      "WARNING:root:-8 absent from structs.dat\n",
      "WARNING:root:-186 absent from structs.dat\n",
      "WARNING:root:-188 absent from structs.dat\n",
      "WARNING:root:-7 absent from structs.dat\n",
      "WARNING:root:-195 absent from structs.dat\n",
      "WARNING:root:-185 absent from structs.dat\n",
      "WARNING:root:-36 absent from structs.dat\n",
      "WARNING:root:-59 absent from structs.dat\n",
      "WARNING:root:-141 absent from structs.dat\n",
      "WARNING:root:-10 absent from structs.dat\n",
      "WARNING:root:-90 absent from structs.dat\n",
      "WARNING:root:-26 absent from structs.dat\n",
      "WARNING:root:-175 absent from structs.dat\n",
      "WARNING:root:-145 absent from structs.dat\n",
      "WARNING:root:-183 absent from structs.dat\n",
      "WARNING:root:-123 absent from structs.dat\n",
      "WARNING:root:-139 absent from structs.dat\n",
      "WARNING:root:-167 absent from structs.dat\n",
      "WARNING:root:-184 absent from structs.dat\n",
      "WARNING:root:-194 absent from structs.dat\n",
      "WARNING:root:-115 absent from structs.dat\n",
      "WARNING:root:-55 absent from structs.dat\n",
      "WARNING:root:-131 absent from structs.dat\n",
      "WARNING:root:-116 absent from structs.dat\n",
      "WARNING:root:-47 absent from structs.dat\n",
      "WARNING:root:-118 absent from structs.dat\n",
      "WARNING:root:-18 absent from structs.dat\n",
      "WARNING:root:-41 absent from structs.dat\n",
      "WARNING:root:-165 absent from structs.dat\n",
      "WARNING:root:-61 absent from structs.dat\n",
      "WARNING:root:-132 absent from structs.dat\n",
      "WARNING:root:-136 absent from structs.dat\n",
      "WARNING:root:-2 absent from structs.dat\n",
      "WARNING:root:-4 absent from structs.dat\n",
      "WARNING:root:-192 absent from structs.dat\n",
      "WARNING:root:-25 absent from structs.dat\n",
      "WARNING:root:-182 absent from structs.dat\n",
      "WARNING:root:-67 absent from structs.dat\n",
      "WARNING:root:-58 absent from structs.dat\n"
     ]
    },
    {
     "name": "stdout",
     "output_type": "stream",
     "text": [
      "OrderedDict([('m_Scripts', [ObjectPointer(file_id=1, path_id=11998), ObjectPointer(file_id=1, path_id=12001), ObjectPointer(file_id=3, path_id=225), ObjectPointer(file_id=3, path_id=184), ObjectPointer(file_id=3, path_id=201), ObjectPointer(file_id=3, path_id=144), ObjectPointer(file_id=3, path_id=86), ObjectPointer(file_id=3, path_id=113), ObjectPointer(file_id=3, path_id=75), ObjectPointer(file_id=3, path_id=216), ObjectPointer(file_id=3, path_id=183), ObjectPointer(file_id=3, path_id=150), ObjectPointer(file_id=3, path_id=283), ObjectPointer(file_id=3, path_id=209), ObjectPointer(file_id=3, path_id=196), ObjectPointer(file_id=3, path_id=329), ObjectPointer(file_id=3, path_id=204), ObjectPointer(file_id=3, path_id=82), ObjectPointer(file_id=3, path_id=214), ObjectPointer(file_id=3, path_id=115), ObjectPointer(file_id=3, path_id=176), ObjectPointer(file_id=3, path_id=96), ObjectPointer(file_id=3, path_id=239), ObjectPointer(file_id=3, path_id=307), ObjectPointer(file_id=3, path_id=291), ObjectPointer(file_id=3, path_id=265), ObjectPointer(file_id=3, path_id=199), ObjectPointer(file_id=3, path_id=71), ObjectPointer(file_id=3, path_id=245), ObjectPointer(file_id=3, path_id=149), ObjectPointer(file_id=3, path_id=270), ObjectPointer(file_id=3, path_id=122), ObjectPointer(file_id=3, path_id=114), ObjectPointer(file_id=3, path_id=242), ObjectPointer(file_id=3, path_id=197), ObjectPointer(file_id=3, path_id=321), ObjectPointer(file_id=3, path_id=153), ObjectPointer(file_id=3, path_id=121), ObjectPointer(file_id=3, path_id=227), ObjectPointer(file_id=3, path_id=257), ObjectPointer(file_id=3, path_id=171), ObjectPointer(file_id=3, path_id=254), ObjectPointer(file_id=3, path_id=175), ObjectPointer(file_id=3, path_id=133), ObjectPointer(file_id=3, path_id=29), ObjectPointer(file_id=3, path_id=365), ObjectPointer(file_id=3, path_id=10), ObjectPointer(file_id=3, path_id=377), ObjectPointer(file_id=3, path_id=23), ObjectPointer(file_id=3, path_id=369), ObjectPointer(file_id=3, path_id=388), ObjectPointer(file_id=3, path_id=382), ObjectPointer(file_id=3, path_id=349), ObjectPointer(file_id=3, path_id=52), ObjectPointer(file_id=3, path_id=8), ObjectPointer(file_id=3, path_id=339), ObjectPointer(file_id=3, path_id=363), ObjectPointer(file_id=3, path_id=4), ObjectPointer(file_id=3, path_id=58), ObjectPointer(file_id=3, path_id=347), ObjectPointer(file_id=3, path_id=49), ObjectPointer(file_id=3, path_id=343), ObjectPointer(file_id=3, path_id=379), ObjectPointer(file_id=3, path_id=56), ObjectPointer(file_id=3, path_id=33), ObjectPointer(file_id=3, path_id=21), ObjectPointer(file_id=3, path_id=39), ObjectPointer(file_id=3, path_id=17), ObjectPointer(file_id=3, path_id=47), ObjectPointer(file_id=3, path_id=31), ObjectPointer(file_id=3, path_id=384), ObjectPointer(file_id=3, path_id=66), ObjectPointer(file_id=3, path_id=62), ObjectPointer(file_id=3, path_id=6), ObjectPointer(file_id=3, path_id=367), ObjectPointer(file_id=3, path_id=60), ObjectPointer(file_id=3, path_id=372), ObjectPointer(file_id=3, path_id=64), ObjectPointer(file_id=3, path_id=355), ObjectPointer(file_id=3, path_id=345), ObjectPointer(file_id=3, path_id=392), ObjectPointer(file_id=3, path_id=35), ObjectPointer(file_id=3, path_id=390), ObjectPointer(file_id=3, path_id=341), ObjectPointer(file_id=3, path_id=361), ObjectPointer(file_id=3, path_id=206), ObjectPointer(file_id=3, path_id=186), ObjectPointer(file_id=3, path_id=167), ObjectPointer(file_id=3, path_id=28), ObjectPointer(file_id=3, path_id=364), ObjectPointer(file_id=3, path_id=9), ObjectPointer(file_id=3, path_id=376), ObjectPointer(file_id=3, path_id=22), ObjectPointer(file_id=3, path_id=368), ObjectPointer(file_id=3, path_id=387), ObjectPointer(file_id=3, path_id=381), ObjectPointer(file_id=3, path_id=348), ObjectPointer(file_id=3, path_id=51), ObjectPointer(file_id=3, path_id=7), ObjectPointer(file_id=3, path_id=338), ObjectPointer(file_id=3, path_id=362), ObjectPointer(file_id=3, path_id=3), ObjectPointer(file_id=3, path_id=57), ObjectPointer(file_id=3, path_id=346), ObjectPointer(file_id=3, path_id=48), ObjectPointer(file_id=3, path_id=342), ObjectPointer(file_id=3, path_id=378), ObjectPointer(file_id=3, path_id=55), ObjectPointer(file_id=3, path_id=32), ObjectPointer(file_id=3, path_id=20), ObjectPointer(file_id=3, path_id=38), ObjectPointer(file_id=3, path_id=16), ObjectPointer(file_id=3, path_id=46), ObjectPointer(file_id=3, path_id=30), ObjectPointer(file_id=3, path_id=383), ObjectPointer(file_id=3, path_id=65), ObjectPointer(file_id=3, path_id=61), ObjectPointer(file_id=3, path_id=5), ObjectPointer(file_id=3, path_id=366), ObjectPointer(file_id=3, path_id=59), ObjectPointer(file_id=3, path_id=371), ObjectPointer(file_id=3, path_id=63), ObjectPointer(file_id=3, path_id=354), ObjectPointer(file_id=3, path_id=344), ObjectPointer(file_id=3, path_id=391), ObjectPointer(file_id=3, path_id=34), ObjectPointer(file_id=3, path_id=389), ObjectPointer(file_id=3, path_id=340), ObjectPointer(file_id=3, path_id=360), ObjectPointer(file_id=3, path_id=198), ObjectPointer(file_id=3, path_id=162), ObjectPointer(file_id=3, path_id=112), ObjectPointer(file_id=3, path_id=243), ObjectPointer(file_id=3, path_id=246), ObjectPointer(file_id=3, path_id=268), ObjectPointer(file_id=3, path_id=188), ObjectPointer(file_id=3, path_id=202), ObjectPointer(file_id=3, path_id=103), ObjectPointer(file_id=3, path_id=90), ObjectPointer(file_id=3, path_id=200), ObjectPointer(file_id=3, path_id=235), ObjectPointer(file_id=3, path_id=286), ObjectPointer(file_id=3, path_id=271), ObjectPointer(file_id=3, path_id=139), ObjectPointer(file_id=3, path_id=319), ObjectPointer(file_id=3, path_id=194), ObjectPointer(file_id=3, path_id=215), ObjectPointer(file_id=3, path_id=308), ObjectPointer(file_id=3, path_id=67), ObjectPointer(file_id=3, path_id=217), ObjectPointer(file_id=3, path_id=374), ObjectPointer(file_id=3, path_id=25), ObjectPointer(file_id=3, path_id=19), ObjectPointer(file_id=3, path_id=337), ObjectPointer(file_id=3, path_id=41), ObjectPointer(file_id=3, path_id=333), ObjectPointer(file_id=3, path_id=45), ObjectPointer(file_id=3, path_id=331), ObjectPointer(file_id=3, path_id=357), ObjectPointer(file_id=3, path_id=359), ObjectPointer(file_id=3, path_id=37), ObjectPointer(file_id=3, path_id=12), ObjectPointer(file_id=3, path_id=27), ObjectPointer(file_id=3, path_id=43), ObjectPointer(file_id=3, path_id=289), ObjectPointer(file_id=3, path_id=110), ObjectPointer(file_id=3, path_id=314), ObjectPointer(file_id=3, path_id=244), ObjectPointer(file_id=3, path_id=318), ObjectPointer(file_id=3, path_id=256), ObjectPointer(file_id=3, path_id=205), ObjectPointer(file_id=3, path_id=72), ObjectPointer(file_id=3, path_id=195), ObjectPointer(file_id=3, path_id=259), ObjectPointer(file_id=3, path_id=302), ObjectPointer(file_id=3, path_id=232), ObjectPointer(file_id=3, path_id=138), ObjectPointer(file_id=3, path_id=255), ObjectPointer(file_id=3, path_id=299), ObjectPointer(file_id=3, path_id=166), ObjectPointer(file_id=3, path_id=219), ObjectPointer(file_id=3, path_id=185), ObjectPointer(file_id=3, path_id=104), ObjectPointer(file_id=3, path_id=305), ObjectPointer(file_id=3, path_id=134), ObjectPointer(file_id=3, path_id=353), ObjectPointer(file_id=3, path_id=386), ObjectPointer(file_id=3, path_id=351), ObjectPointer(file_id=3, path_id=15), ObjectPointer(file_id=3, path_id=335), ObjectPointer(file_id=3, path_id=54), ObjectPointer(file_id=3, path_id=237), ObjectPointer(file_id=3, path_id=85), ObjectPointer(file_id=3, path_id=92), ObjectPointer(file_id=3, path_id=211), ObjectPointer(file_id=3, path_id=264), ObjectPointer(file_id=3, path_id=173), ObjectPointer(file_id=3, path_id=276), ObjectPointer(file_id=3, path_id=84), ObjectPointer(file_id=3, path_id=292), ObjectPointer(file_id=3, path_id=80), ObjectPointer(file_id=3, path_id=177), ObjectPointer(file_id=3, path_id=294), ObjectPointer(file_id=3, path_id=320), ObjectPointer(file_id=3, path_id=323), ObjectPointer(file_id=3, path_id=182), ObjectPointer(file_id=3, path_id=258), ObjectPointer(file_id=3, path_id=128), ObjectPointer(file_id=3, path_id=213), ObjectPointer(file_id=3, path_id=192), ObjectPointer(file_id=3, path_id=116), ObjectPointer(file_id=3, path_id=226), ObjectPointer(file_id=3, path_id=91), ObjectPointer(file_id=3, path_id=126), ObjectPointer(file_id=3, path_id=140), ObjectPointer(file_id=3, path_id=228), ObjectPointer(file_id=3, path_id=123), ObjectPointer(file_id=3, path_id=273), ObjectPointer(file_id=3, path_id=146), ObjectPointer(file_id=3, path_id=93), ObjectPointer(file_id=3, path_id=135), ObjectPointer(file_id=3, path_id=159), ObjectPointer(file_id=3, path_id=251), ObjectPointer(file_id=3, path_id=107), ObjectPointer(file_id=3, path_id=311), ObjectPointer(file_id=3, path_id=179), ObjectPointer(file_id=3, path_id=278), ObjectPointer(file_id=3, path_id=69), ObjectPointer(file_id=3, path_id=324), ObjectPointer(file_id=3, path_id=160), ObjectPointer(file_id=3, path_id=296), ObjectPointer(file_id=3, path_id=157), ObjectPointer(file_id=3, path_id=315), ObjectPointer(file_id=3, path_id=187), ObjectPointer(file_id=3, path_id=87), ObjectPointer(file_id=3, path_id=156), ObjectPointer(file_id=3, path_id=262), ObjectPointer(file_id=3, path_id=229), ObjectPointer(file_id=3, path_id=234), ObjectPointer(file_id=3, path_id=325), ObjectPointer(file_id=3, path_id=98), ObjectPointer(file_id=3, path_id=282), ObjectPointer(file_id=3, path_id=120), ObjectPointer(file_id=3, path_id=309), ObjectPointer(file_id=3, path_id=203), ObjectPointer(file_id=3, path_id=105), ObjectPointer(file_id=3, path_id=274), ObjectPointer(file_id=3, path_id=253), ObjectPointer(file_id=3, path_id=241), ObjectPointer(file_id=3, path_id=303), ObjectPointer(file_id=3, path_id=127), ObjectPointer(file_id=3, path_id=247), ObjectPointer(file_id=3, path_id=260), ObjectPointer(file_id=3, path_id=284), ObjectPointer(file_id=3, path_id=70), ObjectPointer(file_id=3, path_id=223), ObjectPointer(file_id=3, path_id=373), ObjectPointer(file_id=3, path_id=24), ObjectPointer(file_id=3, path_id=18), ObjectPointer(file_id=3, path_id=336), ObjectPointer(file_id=3, path_id=40), ObjectPointer(file_id=3, path_id=332), ObjectPointer(file_id=3, path_id=44), ObjectPointer(file_id=3, path_id=330), ObjectPointer(file_id=3, path_id=356), ObjectPointer(file_id=3, path_id=358), ObjectPointer(file_id=3, path_id=36), ObjectPointer(file_id=3, path_id=11), ObjectPointer(file_id=3, path_id=26), ObjectPointer(file_id=3, path_id=42), ObjectPointer(file_id=3, path_id=310), ObjectPointer(file_id=3, path_id=124), ObjectPointer(file_id=3, path_id=125), ObjectPointer(file_id=3, path_id=131), ObjectPointer(file_id=3, path_id=290), ObjectPointer(file_id=3, path_id=272), ObjectPointer(file_id=3, path_id=168), ObjectPointer(file_id=3, path_id=263), ObjectPointer(file_id=3, path_id=300), ObjectPointer(file_id=3, path_id=169), ObjectPointer(file_id=3, path_id=151), ObjectPointer(file_id=3, path_id=312), ObjectPointer(file_id=3, path_id=224), ObjectPointer(file_id=3, path_id=317), ObjectPointer(file_id=3, path_id=147), ObjectPointer(file_id=3, path_id=161), ObjectPointer(file_id=3, path_id=301), ObjectPointer(file_id=3, path_id=207), ObjectPointer(file_id=3, path_id=148), ObjectPointer(file_id=3, path_id=231), ObjectPointer(file_id=3, path_id=375), ObjectPointer(file_id=3, path_id=13), ObjectPointer(file_id=3, path_id=287), ObjectPointer(file_id=3, path_id=218), ObjectPointer(file_id=3, path_id=100), ObjectPointer(file_id=3, path_id=189), ObjectPointer(file_id=3, path_id=79), ObjectPointer(file_id=3, path_id=220), ObjectPointer(file_id=3, path_id=252), ObjectPointer(file_id=3, path_id=180), ObjectPointer(file_id=3, path_id=88), ObjectPointer(file_id=3, path_id=208), ObjectPointer(file_id=3, path_id=68), ObjectPointer(file_id=3, path_id=99), ObjectPointer(file_id=3, path_id=261), ObjectPointer(file_id=3, path_id=212), ObjectPointer(file_id=3, path_id=269), ObjectPointer(file_id=3, path_id=277), ObjectPointer(file_id=3, path_id=106), ObjectPointer(file_id=3, path_id=95), ObjectPointer(file_id=3, path_id=221), ObjectPointer(file_id=3, path_id=238), ObjectPointer(file_id=3, path_id=352), ObjectPointer(file_id=3, path_id=385), ObjectPointer(file_id=3, path_id=350), ObjectPointer(file_id=3, path_id=14), ObjectPointer(file_id=3, path_id=334), ObjectPointer(file_id=3, path_id=53), ObjectPointer(file_id=3, path_id=119), ObjectPointer(file_id=3, path_id=74), ObjectPointer(file_id=3, path_id=89), ObjectPointer(file_id=3, path_id=281), ObjectPointer(file_id=3, path_id=118), ObjectPointer(file_id=3, path_id=190), ObjectPointer(file_id=3, path_id=111), ObjectPointer(file_id=3, path_id=158), ObjectPointer(file_id=3, path_id=142), ObjectPointer(file_id=3, path_id=316), ObjectPointer(file_id=3, path_id=152), ObjectPointer(file_id=3, path_id=322), ObjectPointer(file_id=3, path_id=108), ObjectPointer(file_id=3, path_id=143), ObjectPointer(file_id=3, path_id=275), ObjectPointer(file_id=3, path_id=73), ObjectPointer(file_id=3, path_id=165), ObjectPointer(file_id=3, path_id=295), ObjectPointer(file_id=3, path_id=249), ObjectPointer(file_id=3, path_id=109), ObjectPointer(file_id=3, path_id=233), ObjectPointer(file_id=3, path_id=154), ObjectPointer(file_id=3, path_id=313), ObjectPointer(file_id=3, path_id=155), ObjectPointer(file_id=3, path_id=297), ObjectPointer(file_id=3, path_id=145), ObjectPointer(file_id=3, path_id=172), ObjectPointer(file_id=3, path_id=181), ObjectPointer(file_id=3, path_id=174), ObjectPointer(file_id=3, path_id=163), ObjectPointer(file_id=3, path_id=248), ObjectPointer(file_id=3, path_id=50), ObjectPointer(file_id=3, path_id=240), ObjectPointer(file_id=3, path_id=327), ObjectPointer(file_id=3, path_id=130), ObjectPointer(file_id=3, path_id=230), ObjectPointer(file_id=3, path_id=81), ObjectPointer(file_id=3, path_id=141), ObjectPointer(file_id=3, path_id=191), ObjectPointer(file_id=3, path_id=279), ObjectPointer(file_id=3, path_id=102), ObjectPointer(file_id=3, path_id=326), ObjectPointer(file_id=3, path_id=222), ObjectPointer(file_id=3, path_id=193), ObjectPointer(file_id=3, path_id=293), ObjectPointer(file_id=3, path_id=328), ObjectPointer(file_id=3, path_id=267), ObjectPointer(file_id=3, path_id=288), ObjectPointer(file_id=3, path_id=78), ObjectPointer(file_id=3, path_id=83), ObjectPointer(file_id=3, path_id=117), ObjectPointer(file_id=3, path_id=164), ObjectPointer(file_id=3, path_id=178), ObjectPointer(file_id=3, path_id=170), ObjectPointer(file_id=3, path_id=236), ObjectPointer(file_id=3, path_id=306), ObjectPointer(file_id=3, path_id=298), ObjectPointer(file_id=3, path_id=210), ObjectPointer(file_id=3, path_id=266), ObjectPointer(file_id=3, path_id=136), ObjectPointer(file_id=3, path_id=304), ObjectPointer(file_id=3, path_id=280), ObjectPointer(file_id=3, path_id=97), ObjectPointer(file_id=3, path_id=285), ObjectPointer(file_id=3, path_id=250), ObjectPointer(file_id=3, path_id=370), ObjectPointer(file_id=3, path_id=380), ObjectPointer(file_id=3, path_id=132), ObjectPointer(file_id=3, path_id=94), ObjectPointer(file_id=3, path_id=129), ObjectPointer(file_id=3, path_id=77), ObjectPointer(file_id=3, path_id=137), ObjectPointer(file_id=3, path_id=101), ObjectPointer(file_id=3, path_id=76)]), ('m_AssemblyNames', ['UnityEngine.dll', '', 'Assembly-CSharp.dll', 'UnityEngine.UI.dll', 'UnityEngine.Networking.dll'])])\n"
     ]
    },
    {
     "name": "stderr",
     "output_type": "stream",
     "text": [
      "WARNING:root:-98 absent from structs.dat\n",
      "WARNING:root:-174 absent from structs.dat\n",
      "WARNING:root:-138 absent from structs.dat\n",
      "WARNING:root:-96 absent from structs.dat\n",
      "WARNING:root:-73 absent from structs.dat\n",
      "WARNING:root:-20 absent from structs.dat\n",
      "WARNING:root:-53 absent from structs.dat\n",
      "WARNING:root:-71 absent from structs.dat\n",
      "WARNING:root:-168 absent from structs.dat\n",
      "WARNING:root:-33 absent from structs.dat\n",
      "WARNING:root:-199 absent from structs.dat\n",
      "WARNING:root:-76 absent from structs.dat\n",
      "WARNING:root:-190 absent from structs.dat\n",
      "WARNING:root:-197 absent from structs.dat\n",
      "WARNING:root:-81 absent from structs.dat\n",
      "WARNING:root:-129 absent from structs.dat\n",
      "WARNING:root:-159 absent from structs.dat\n",
      "WARNING:root:-151 absent from structs.dat\n",
      "WARNING:root:-42 absent from structs.dat\n",
      "WARNING:root:-170 absent from structs.dat\n",
      "WARNING:root:-50 absent from structs.dat\n",
      "WARNING:root:-57 absent from structs.dat\n",
      "WARNING:root:-152 absent from structs.dat\n",
      "WARNING:root:-30 absent from structs.dat\n",
      "WARNING:root:-35 absent from structs.dat\n",
      "WARNING:root:-62 absent from structs.dat\n",
      "WARNING:root:-95 absent from structs.dat\n",
      "WARNING:root:-125 absent from structs.dat\n",
      "WARNING:root:-100 absent from structs.dat\n",
      "WARNING:root:-112 absent from structs.dat\n",
      "WARNING:root:-27 absent from structs.dat\n",
      "WARNING:root:-19 absent from structs.dat\n",
      "WARNING:root:-106 absent from structs.dat\n",
      "WARNING:root:-89 absent from structs.dat\n",
      "WARNING:root:-12 absent from structs.dat\n",
      "WARNING:root:-135 absent from structs.dat\n",
      "WARNING:root:-72 absent from structs.dat\n",
      "WARNING:root:-77 absent from structs.dat\n",
      "WARNING:root:-86 absent from structs.dat\n",
      "WARNING:root:-191 absent from structs.dat\n",
      "WARNING:root:-198 absent from structs.dat\n",
      "WARNING:root:-92 absent from structs.dat\n",
      "WARNING:root:-93 absent from structs.dat\n",
      "WARNING:root:-64 absent from structs.dat\n",
      "WARNING:root:-177 absent from structs.dat\n",
      "WARNING:root:-149 absent from structs.dat\n",
      "WARNING:root:-200 absent from structs.dat\n",
      "WARNING:root:-51 absent from structs.dat\n",
      "WARNING:root:-179 absent from structs.dat\n",
      "WARNING:root:-49 absent from structs.dat\n",
      "WARNING:root:-14 absent from structs.dat\n",
      "WARNING:root:-80 absent from structs.dat\n",
      "WARNING:root:-124 absent from structs.dat\n",
      "WARNING:root:-148 absent from structs.dat\n",
      "WARNING:root:-146 absent from structs.dat\n",
      "WARNING:root:-68 absent from structs.dat\n",
      "WARNING:root:-164 absent from structs.dat\n",
      "WARNING:root:-104 absent from structs.dat\n",
      "WARNING:root:-97 absent from structs.dat\n",
      "WARNING:root:-84 absent from structs.dat\n",
      "WARNING:root:-172 absent from structs.dat\n",
      "WARNING:root:-34 absent from structs.dat\n",
      "WARNING:root:-150 absent from structs.dat\n",
      "WARNING:root:-127 absent from structs.dat\n",
      "WARNING:root:-157 absent from structs.dat\n",
      "WARNING:root:-180 absent from structs.dat\n",
      "WARNING:root:-15 absent from structs.dat\n",
      "WARNING:root:-78 absent from structs.dat\n",
      "WARNING:root:-109 absent from structs.dat\n",
      "WARNING:root:-88 absent from structs.dat\n",
      "WARNING:root:-70 absent from structs.dat\n",
      "WARNING:root:-83 absent from structs.dat\n",
      "WARNING:root:-119 absent from structs.dat\n",
      "WARNING:root:-114 absent from structs.dat\n",
      "WARNING:root:-17 absent from structs.dat\n",
      "WARNING:root:-65 absent from structs.dat\n",
      "WARNING:root:-60 absent from structs.dat\n",
      "WARNING:root:-187 absent from structs.dat\n",
      "WARNING:root:-134 absent from structs.dat\n",
      "WARNING:root:-181 absent from structs.dat\n",
      "WARNING:root:-103 absent from structs.dat\n",
      "WARNING:root:-45 absent from structs.dat\n",
      "WARNING:root:-79 absent from structs.dat\n",
      "WARNING:root:-13 absent from structs.dat\n",
      "WARNING:root:-102 absent from structs.dat\n",
      "WARNING:root:-101 absent from structs.dat\n",
      "WARNING:root:-130 absent from structs.dat\n",
      "WARNING:root:-137 absent from structs.dat\n",
      "WARNING:root:-173 absent from structs.dat\n",
      "WARNING:root:-110 absent from structs.dat\n",
      "WARNING:root:-99 absent from structs.dat\n",
      "WARNING:root:-82 absent from structs.dat\n",
      "WARNING:root:-108 absent from structs.dat\n",
      "WARNING:root:-176 absent from structs.dat\n",
      "WARNING:root:-24 absent from structs.dat\n",
      "WARNING:root:-111 absent from structs.dat\n",
      "WARNING:root:-160 absent from structs.dat\n",
      "WARNING:root:-178 absent from structs.dat\n",
      "WARNING:root:-171 absent from structs.dat\n",
      "WARNING:root:-37 absent from structs.dat\n",
      "WARNING:root:-105 absent from structs.dat\n",
      "WARNING:root:-63 absent from structs.dat\n",
      "WARNING:root:-31 absent from structs.dat\n",
      "WARNING:root:-147 absent from structs.dat\n",
      "WARNING:root:-85 absent from structs.dat\n",
      "WARNING:root:-28 absent from structs.dat\n",
      "WARNING:root:-44 absent from structs.dat\n",
      "WARNING:root:-46 absent from structs.dat\n",
      "WARNING:root:-107 absent from structs.dat\n",
      "WARNING:root:-154 absent from structs.dat\n",
      "WARNING:root:-122 absent from structs.dat\n",
      "WARNING:root:-56 absent from structs.dat\n",
      "WARNING:root:-94 absent from structs.dat\n",
      "WARNING:root:-120 absent from structs.dat\n",
      "WARNING:root:-87 absent from structs.dat\n",
      "WARNING:root:-6 absent from structs.dat\n",
      "WARNING:root:-40 absent from structs.dat\n",
      "WARNING:root:-38 absent from structs.dat\n",
      "WARNING:root:-22 absent from structs.dat\n",
      "WARNING:root:-169 absent from structs.dat\n",
      "WARNING:root:-54 absent from structs.dat\n",
      "WARNING:root:-153 absent from structs.dat\n",
      "WARNING:root:-161 absent from structs.dat\n",
      "WARNING:root:-91 absent from structs.dat\n",
      "WARNING:root:-126 absent from structs.dat\n",
      "WARNING:root:-21 absent from structs.dat\n",
      "WARNING:root:-121 absent from structs.dat\n",
      "WARNING:root:-74 absent from structs.dat\n",
      "WARNING:root:-48 absent from structs.dat\n",
      "WARNING:root:-133 absent from structs.dat\n",
      "WARNING:root:-32 absent from structs.dat\n",
      "WARNING:root:-113 absent from structs.dat\n"
     ]
    },
    {
     "ename": "KeyError",
     "evalue": "-9",
     "output_type": "error",
     "traceback": [
      "\u001b[1;31m---------------------------------------------------------------------------\u001b[0m",
      "\u001b[1;31mKeyError\u001b[0m                                  Traceback (most recent call last)",
      "\u001b[1;32m<ipython-input-61-5cdd7ec7756a>\u001b[0m in \u001b[0;36m<module>\u001b[1;34m()\u001b[0m\n\u001b[0;32m      9\u001b[0m         \u001b[1;32mfor\u001b[0m \u001b[0mid\u001b[0m\u001b[1;33m,\u001b[0m \u001b[0mobject\u001b[0m \u001b[1;32min\u001b[0m \u001b[0masset\u001b[0m\u001b[1;33m.\u001b[0m\u001b[0mobjects\u001b[0m\u001b[1;33m.\u001b[0m\u001b[0mitems\u001b[0m\u001b[1;33m(\u001b[0m\u001b[1;33m)\u001b[0m\u001b[1;33m:\u001b[0m\u001b[1;33m\u001b[0m\u001b[0m\n\u001b[0;32m     10\u001b[0m             \u001b[1;31m# Let's say we only want TextAsset objects\u001b[0m\u001b[1;33m\u001b[0m\u001b[1;33m\u001b[0m\u001b[0m\n\u001b[1;32m---> 11\u001b[1;33m             \u001b[0mtypes\u001b[0m\u001b[1;33m.\u001b[0m\u001b[0madd\u001b[0m\u001b[1;33m(\u001b[0m\u001b[0mobject\u001b[0m\u001b[1;33m.\u001b[0m\u001b[0mtype\u001b[0m\u001b[1;33m)\u001b[0m\u001b[1;33m\u001b[0m\u001b[0m\n\u001b[0m\u001b[0;32m     12\u001b[0m             \u001b[1;32mif\u001b[0m \u001b[0mobject\u001b[0m\u001b[1;33m.\u001b[0m\u001b[0mtype\u001b[0m \u001b[1;33m==\u001b[0m \u001b[1;34m\"MonoManager\"\u001b[0m\u001b[1;33m:\u001b[0m\u001b[1;33m\u001b[0m\u001b[0m\n\u001b[0;32m     13\u001b[0m                 \u001b[0mprint\u001b[0m\u001b[1;33m(\u001b[0m\u001b[0mobject\u001b[0m\u001b[1;33m.\u001b[0m\u001b[0mread\u001b[0m\u001b[1;33m(\u001b[0m\u001b[1;33m)\u001b[0m\u001b[1;33m)\u001b[0m\u001b[1;33m\u001b[0m\u001b[0m\n",
      "\u001b[1;32mc:\\program files\\python36\\lib\\site-packages\\unitypack\\object.py\u001b[0m in \u001b[0;36mtype\u001b[1;34m(self)\u001b[0m\n\u001b[0;32m     28\u001b[0m                         \u001b[1;32mreturn\u001b[0m \u001b[0mUnityClass\u001b[0m\u001b[1;33m(\u001b[0m\u001b[0mself\u001b[0m\u001b[1;33m.\u001b[0m\u001b[0mtype_id\u001b[0m\u001b[1;33m)\u001b[0m\u001b[1;33m\u001b[0m\u001b[0m\n\u001b[0;32m     29\u001b[0m                 \u001b[1;32melif\u001b[0m \u001b[0mself\u001b[0m\u001b[1;33m.\u001b[0m\u001b[0mtype_id\u001b[0m \u001b[1;32mnot\u001b[0m \u001b[1;32min\u001b[0m \u001b[0mself\u001b[0m\u001b[1;33m.\u001b[0m\u001b[0masset\u001b[0m\u001b[1;33m.\u001b[0m\u001b[0mtypenames\u001b[0m\u001b[1;33m:\u001b[0m\u001b[1;33m\u001b[0m\u001b[0m\n\u001b[1;32m---> 30\u001b[1;33m                         \u001b[0mscript\u001b[0m \u001b[1;33m=\u001b[0m \u001b[0mself\u001b[0m\u001b[1;33m.\u001b[0m\u001b[0mread\u001b[0m\u001b[1;33m(\u001b[0m\u001b[1;33m)\u001b[0m\u001b[1;33m[\u001b[0m\u001b[1;34m\"m_Script\"\u001b[0m\u001b[1;33m]\u001b[0m\u001b[1;33m\u001b[0m\u001b[0m\n\u001b[0m\u001b[0;32m     31\u001b[0m                         \u001b[1;32mif\u001b[0m \u001b[0mscript\u001b[0m\u001b[1;33m:\u001b[0m\u001b[1;33m\u001b[0m\u001b[0m\n\u001b[0;32m     32\u001b[0m                                 \u001b[1;32mtry\u001b[0m\u001b[1;33m:\u001b[0m\u001b[1;33m\u001b[0m\u001b[0m\n",
      "\u001b[1;32mc:\\program files\\python36\\lib\\site-packages\\unitypack\\object.py\u001b[0m in \u001b[0;36mread\u001b[1;34m(self)\u001b[0m\n\u001b[0;32m     82\u001b[0m                 \u001b[0mbuf\u001b[0m\u001b[1;33m.\u001b[0m\u001b[0mseek\u001b[0m\u001b[1;33m(\u001b[0m\u001b[0mself\u001b[0m\u001b[1;33m.\u001b[0m\u001b[0masset\u001b[0m\u001b[1;33m.\u001b[0m\u001b[0m_buf_ofs\u001b[0m \u001b[1;33m+\u001b[0m \u001b[0mself\u001b[0m\u001b[1;33m.\u001b[0m\u001b[0mdata_offset\u001b[0m\u001b[1;33m)\u001b[0m\u001b[1;33m\u001b[0m\u001b[0m\n\u001b[0;32m     83\u001b[0m                 \u001b[0mobject_buf\u001b[0m \u001b[1;33m=\u001b[0m \u001b[0mbuf\u001b[0m\u001b[1;33m.\u001b[0m\u001b[0mread\u001b[0m\u001b[1;33m(\u001b[0m\u001b[0mself\u001b[0m\u001b[1;33m.\u001b[0m\u001b[0msize\u001b[0m\u001b[1;33m)\u001b[0m\u001b[1;33m\u001b[0m\u001b[0m\n\u001b[1;32m---> 84\u001b[1;33m                 \u001b[1;32mreturn\u001b[0m \u001b[0mself\u001b[0m\u001b[1;33m.\u001b[0m\u001b[0mread_value\u001b[0m\u001b[1;33m(\u001b[0m\u001b[0mself\u001b[0m\u001b[1;33m.\u001b[0m\u001b[0mtype_tree\u001b[0m\u001b[1;33m,\u001b[0m \u001b[0mBinaryReader\u001b[0m\u001b[1;33m(\u001b[0m\u001b[0mBytesIO\u001b[0m\u001b[1;33m(\u001b[0m\u001b[0mobject_buf\u001b[0m\u001b[1;33m)\u001b[0m\u001b[1;33m)\u001b[0m\u001b[1;33m)\u001b[0m\u001b[1;33m\u001b[0m\u001b[0m\n\u001b[0m\u001b[0;32m     85\u001b[0m \u001b[1;33m\u001b[0m\u001b[0m\n\u001b[0;32m     86\u001b[0m         \u001b[1;32mdef\u001b[0m \u001b[0mread_value\u001b[0m\u001b[1;33m(\u001b[0m\u001b[0mself\u001b[0m\u001b[1;33m,\u001b[0m \u001b[0mtype\u001b[0m\u001b[1;33m,\u001b[0m \u001b[0mbuf\u001b[0m\u001b[1;33m)\u001b[0m\u001b[1;33m:\u001b[0m\u001b[1;33m\u001b[0m\u001b[0m\n",
      "\u001b[1;32mc:\\program files\\python36\\lib\\site-packages\\unitypack\\object.py\u001b[0m in \u001b[0;36mtype_tree\u001b[1;34m(self)\u001b[0m\n\u001b[0;32m     49\u001b[0m                         \u001b[1;32melif\u001b[0m \u001b[0mself\u001b[0m\u001b[1;33m.\u001b[0m\u001b[0mclass_id\u001b[0m \u001b[1;32min\u001b[0m \u001b[0mtype_trees\u001b[0m\u001b[1;33m:\u001b[0m\u001b[1;33m\u001b[0m\u001b[0m\n\u001b[0;32m     50\u001b[0m                                 \u001b[1;32mreturn\u001b[0m \u001b[0mtype_trees\u001b[0m\u001b[1;33m[\u001b[0m\u001b[0mself\u001b[0m\u001b[1;33m.\u001b[0m\u001b[0mclass_id\u001b[0m\u001b[1;33m]\u001b[0m\u001b[1;33m\u001b[0m\u001b[0m\n\u001b[1;32m---> 51\u001b[1;33m                         \u001b[1;32mreturn\u001b[0m \u001b[0mTypeMetadata\u001b[0m\u001b[1;33m.\u001b[0m\u001b[0mdefault\u001b[0m\u001b[1;33m(\u001b[0m\u001b[0mself\u001b[0m\u001b[1;33m.\u001b[0m\u001b[0masset\u001b[0m\u001b[1;33m)\u001b[0m\u001b[1;33m.\u001b[0m\u001b[0mtype_trees\u001b[0m\u001b[1;33m[\u001b[0m\u001b[0mself\u001b[0m\u001b[1;33m.\u001b[0m\u001b[0mclass_id\u001b[0m\u001b[1;33m]\u001b[0m\u001b[1;33m\u001b[0m\u001b[0m\n\u001b[0m\u001b[0;32m     52\u001b[0m                 \u001b[1;32mreturn\u001b[0m \u001b[0mself\u001b[0m\u001b[1;33m.\u001b[0m\u001b[0masset\u001b[0m\u001b[1;33m.\u001b[0m\u001b[0mtypes\u001b[0m\u001b[1;33m[\u001b[0m\u001b[0mself\u001b[0m\u001b[1;33m.\u001b[0m\u001b[0mtype_id\u001b[0m\u001b[1;33m]\u001b[0m\u001b[1;33m\u001b[0m\u001b[0m\n\u001b[0;32m     53\u001b[0m \u001b[1;33m\u001b[0m\u001b[0m\n",
      "\u001b[1;31mKeyError\u001b[0m: -9"
     ]
    }
   ],
   "source": [
    "import os\n",
    "import requests, os, gzip\n",
    "os.chdir(\"C:\\\\users\\\\administrator\\\\documents\\\\test\")\n",
    "import unitypack\n",
    "types = set()\n",
    "with open(\"out.unity3d\", 'rb') as f:\n",
    "    stuff = unitypack.load(f)\n",
    "    for asset in stuff.assets:\n",
    "        for id, object in asset.objects.items():\n",
    "            # Let's say we only want TextAsset objects\n",
    "            types.add(object.type)\n",
    "            if object.type == \"MonoManager\":\n",
    "                print(object.read())\n",
    "#             if object.type == \"MonoScript\":\n",
    "#                 # We avoid reading the data, unless it's a TextAsset\n",
    "#                 data = object.read()\n",
    "#                 print(data)\n"
   ]
  },
  {
   "cell_type": "code",
   "execution_count": 60,
   "metadata": {},
   "outputs": [
    {
     "data": {
      "text/plain": [
       "{'<Unknown #301>',\n",
       " '<Unknown #310>',\n",
       " 'AudioListener',\n",
       " 'AudioManager',\n",
       " 'BuildSettings',\n",
       " 'Camera',\n",
       " 'Canvas',\n",
       " 'CanvasRenderer',\n",
       " 'DelayedCallManager',\n",
       " 'FlareLayer',\n",
       " 'Font',\n",
       " 'GUILayer',\n",
       " 'GameObject',\n",
       " 'GraphicsSettings',\n",
       " 'InputManager',\n",
       " 'LightmapSettings',\n",
       " 'Material',\n",
       " 'MonoManager',\n",
       " 'MonoScript',\n",
       " 'NavMeshAreas',\n",
       " 'Physics2DSettings',\n",
       " 'PhysicsManager',\n",
       " 'PlayerSettings',\n",
       " 'PreloadData',\n",
       " 'QualitySettings',\n",
       " 'RectTransform',\n",
       " 'RenderSettings',\n",
       " 'ResourceManager',\n",
       " 'RuntimeInitializeOnLoadManager',\n",
       " 'ScriptMapper',\n",
       " 'Shader',\n",
       " 'Sprite',\n",
       " 'TagManager',\n",
       " 'Texture2D',\n",
       " 'TimeManager',\n",
       " 'Transform'}"
      ]
     },
     "execution_count": 60,
     "metadata": {},
     "output_type": "execute_result"
    }
   ],
   "source": [
    "types"
   ]
  },
  {
   "cell_type": "code",
   "execution_count": 63,
   "metadata": {},
   "outputs": [
    {
     "data": {
      "text/plain": [
       "{}"
      ]
     },
     "execution_count": 63,
     "metadata": {},
     "output_type": "execute_result"
    }
   ],
   "source": [
    "asset."
   ]
  },
  {
   "cell_type": "code",
   "execution_count": null,
   "metadata": {
    "collapsed": true
   },
   "outputs": [],
   "source": []
  }
 ],
 "metadata": {
  "kernelspec": {
   "display_name": "Python 3",
   "language": "python",
   "name": "python3"
  },
  "language_info": {
   "codemirror_mode": {
    "name": "ipython",
    "version": 3
   },
   "file_extension": ".py",
   "mimetype": "text/x-python",
   "name": "python",
   "nbconvert_exporter": "python",
   "pygments_lexer": "ipython3",
   "version": "3.6.1"
  }
 },
 "nbformat": 4,
 "nbformat_minor": 2
}
