{
 "cells": [
  {
   "cell_type": "code",
   "execution_count": 7,
   "metadata": {},
   "outputs": [
    {
     "name": "stdout",
     "output_type": "stream",
     "text": [
      "The autoreload extension is already loaded. To reload it, use:\n",
      "  %reload_ext autoreload\n"
     ]
    }
   ],
   "source": [
    "%load_ext autoreload\n",
    "%autoreload 2"
   ]
  },
  {
   "cell_type": "code",
   "execution_count": 11,
   "metadata": {},
   "outputs": [
    {
     "name": "stdout",
     "output_type": "stream",
     "text": [
      "Login Successful\n"
     ]
    }
   ],
   "source": [
    "from pysrc import mfp\n",
    "from datetime import datetime, timedelta\n",
    "m = mfp.MFP()"
   ]
  },
  {
   "cell_type": "code",
   "execution_count": 13,
   "metadata": {},
   "outputs": [
    {
     "name": "stdout",
     "output_type": "stream",
     "text": [
      "Loading calories from 2017-09-21 (7/7)                          \n"
     ]
    },
    {
     "data": {
      "text/plain": [
       "[(datetime.datetime(2017, 9, 15, 19, 13, 2, 321713), 0),\n",
       " (datetime.datetime(2017, 9, 16, 19, 13, 2, 321713), 0),\n",
       " (datetime.datetime(2017, 9, 17, 19, 13, 2, 321713), 0),\n",
       " (datetime.datetime(2017, 9, 18, 19, 13, 2, 321713), 0),\n",
       " (datetime.datetime(2017, 9, 19, 19, 13, 2, 321713), 0),\n",
       " (datetime.datetime(2017, 9, 20, 19, 13, 2, 321713), 0),\n",
       " (datetime.datetime(2017, 9, 21, 19, 13, 2, 321713), 968)]"
      ]
     },
     "execution_count": 13,
     "metadata": {},
     "output_type": "execute_result"
    }
   ],
   "source": [
    "today = datetime.today()\n",
    "week = timedelta(days=6)\n",
    "start = today-week\n",
    "m.load_cals_range(start, today)"
   ]
  },
  {
   "cell_type": "code",
   "execution_count": null,
   "metadata": {
    "collapsed": true
   },
   "outputs": [],
   "source": [
    "m."
   ]
  }
 ],
 "metadata": {
  "kernelspec": {
   "display_name": "Python 3",
   "language": "python",
   "name": "python3"
  },
  "language_info": {
   "codemirror_mode": {
    "name": "ipython",
    "version": 3
   },
   "file_extension": ".py",
   "mimetype": "text/x-python",
   "name": "python",
   "nbconvert_exporter": "python",
   "pygments_lexer": "ipython3",
   "version": "3.6.1"
  }
 },
 "nbformat": 4,
 "nbformat_minor": 2
}
