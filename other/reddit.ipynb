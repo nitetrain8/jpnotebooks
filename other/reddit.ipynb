{
 "cells": [
  {
   "cell_type": "code",
   "execution_count": 6,
   "metadata": {},
   "outputs": [],
   "source": [
    "import requests, json\n",
    "s = requests.Session()\n",
    "ua = \"bob-test\"\n",
    "headers = {'accept': 'text/html,application/xhtml+xml', 'accept-encoding': 'gzip, deflate, br', 'user-agent': 'Mozilla/5.0 (Windows NT 10.0; Win64; x64) AppleWebKit/537.36 (KHTML, like Gecko) Chrome/71.0.3578.98 Safari/537.36'}"
   ]
  },
  {
   "cell_type": "code",
   "execution_count": 11,
   "metadata": {
    "collapsed": true
   },
   "outputs": [],
   "source": [
    "def get(url, params):\n",
    "    return json.loads(get_url(url, params).decode())\n",
    "cache = {}\n",
    "def get_url(url, params):\n",
    "    prep = requests.Request(\"GET\", url, params=params, headers=headers).prepare()\n",
    "    url = prep.url\n",
    "    if url in cache:\n",
    "        content = cache[url]\n",
    "    else:\n",
    "        rsp = requests.get(url, headers=headers)\n",
    "        try:\n",
    "            rsp.raise_for_status()\n",
    "        except:\n",
    "            if url in cache:\n",
    "                del cache[url]\n",
    "            raise\n",
    "        content = rsp.content\n",
    "        cache[url] = content\n",
    "    return content"
   ]
  },
  {
   "cell_type": "code",
   "execution_count": 12,
   "metadata": {},
   "outputs": [],
   "source": [
    "baseurl = \"https://old.reddit.com/r/all.json\"\n",
    "qp = {\n",
    "    \"limit\": 100,\n",
    "}"
   ]
  },
  {
   "cell_type": "code",
   "execution_count": 13,
   "metadata": {},
   "outputs": [],
   "source": [
    "import webbrowser\n",
    "url = 'www.google.com'\n",
    "chrome_path = 'C:/Program Files (x86)/Google/Chrome/Application/chrome.exe %s --incognito'\n",
    "#webbrowser.get(chrome_path).open_new(url)"
   ]
  },
  {
   "cell_type": "code",
   "execution_count": 21,
   "metadata": {
    "collapsed": true
   },
   "outputs": [],
   "source": [
    "qp.pop('after', None)\n",
    "sub_filter = {\n",
    "    \"smashbros\",\n",
    "    \"vegan\",\n",
    "    \"dogswithjobs\",\n",
    "    \"FiftyFifty\",\n",
    "    \"ImGoingToHellForThis\",\n",
    "    \"traps\",\n",
    "    \"jesuschristreddit\",\n",
    "    \"madlads\",\n",
    "    \"traphentai\"\n",
    "}"
   ]
  },
  {
   "cell_type": "code",
   "execution_count": 30,
   "metadata": {},
   "outputs": [
    {
     "name": "stdout",
     "output_type": "stream",
     "text": [
      "TinyTits             Two pair                                           https://i.redd.it/x4811wrdwta21.jpg\n",
      "yiff                 Didn't check for mimics [FT] (Giik)                https://gfycat.com/RareUntriedLacewing\n",
      "bowsette             Bowsette fights in Super Smash                     https://i.imgur.com/Do0et5t.jpg\n",
      "futanari             Upskirt                                            https://i.imgur.com/RJq0LSD.png\n",
      "Amateur              Spongebob square panties                           https://imgur.com/3YLQjyT\n",
      "wifesharing          Celebrating one year on Reddit with a full frontal! [F 41] https://i.redd.it/hi86iqllpsa21.jpg\n",
      "PetiteGoneWild       [f34] 5’1” 100lbs. Fit and petite. Jizz worthy?    https://i.redd.it/np5trwpa9ua21.jpg\n",
      "altgonewild          writing on your boobs is kinda hard 🍒              https://gfycat.com/criminalsadelephantbeetle\n",
      "traphentai           Sexy little cock and thigh-highs                   https://imgur.com/DuvN7I2\n",
      "AsianHotties         MissReinaT                                         https://i.redd.it/8ytftwwu1ua21.jpg\n",
      "copypasta            🗿                                                  https://old.reddit.com/r/copypasta/comments/agjnog/_/\n",
      "celebnsfw            Lindsay Lohan playboy shoot                        https://i.redd.it/8fv6t7ewtra21.jpg\n",
      "lingerie             Lace set                                           https://i.imgur.com/xuQs7nx.gifv\n"
     ]
    }
   ],
   "source": [
    "import time\n",
    "s = requests.Session()\n",
    "j = get(\"https://old.reddit.com/r/all.json\", params=qp)\n",
    "for post in j[\"data\"][\"children\"]:\n",
    "    data = post[\"data\"]\n",
    "    qp[\"after\"] = data[\"name\"]\n",
    "    if data['subreddit'] in sub_filter:\n",
    "        continue\n",
    "    if data[\"over_18\"]:\n",
    "        if \"url\" not in data:\n",
    "            durl = \"https://old.reddit.com\" + data[\"permalink\"]\n",
    "        else:\n",
    "            durl = data[\"url\"]\n",
    "        print(\"%-20s %-50s %s\" % (data['subreddit'], data[\"title\"], durl))\n",
    "        webbrowser.get(chrome_path).open_new(durl)\n",
    "#time.sleep(1)"
   ]
  },
  {
   "cell_type": "code",
   "execution_count": null,
   "metadata": {
    "collapsed": true
   },
   "outputs": [],
   "source": []
  }
 ],
 "metadata": {
  "kernelspec": {
   "display_name": "Python 3",
   "language": "python",
   "name": "python3"
  },
  "language_info": {
   "codemirror_mode": {
    "name": "ipython",
    "version": 3
   },
   "file_extension": ".py",
   "mimetype": "text/x-python",
   "name": "python",
   "nbconvert_exporter": "python",
   "pygments_lexer": "ipython3",
   "version": "3.6.1"
  }
 },
 "nbformat": 4,
 "nbformat_minor": 2
}
