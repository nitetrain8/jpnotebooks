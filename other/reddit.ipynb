{
 "cells": [
  {
   "cell_type": "code",
   "execution_count": 124,
   "metadata": {
    "collapsed": true
   },
   "outputs": [],
   "source": [
    "import requests, json\n",
    "s = requests.Session()\n",
    "ua = \"bob-test\"\n",
    "headers = {'accept': 'text/html,application/xhtml+xml', 'accept-encoding': 'gzip, deflate, br', 'user-agent': 'Mozilla/5.0 (Windows NT 10.0; Win64; x64) AppleWebKit/537.36 (KHTML, like Gecko) Chrome/71.0.3578.98 Safari/537.36'}"
   ]
  },
  {
   "cell_type": "code",
   "execution_count": 125,
   "metadata": {
    "collapsed": true
   },
   "outputs": [],
   "source": [
    "def get(url, params):\n",
    "    return json.loads(get_url(url, params).decode())\n",
    "cache = {}\n",
    "def get_url(url, params):\n",
    "    prep = requests.Request(\"GET\", url, params=params, headers=headers).prepare()\n",
    "    url = prep.url\n",
    "    if url in cache:\n",
    "        content = cache[url]\n",
    "    else:\n",
    "        rsp = requests.get(url, headers=headers)\n",
    "        try:\n",
    "            rsp.raise_for_status()\n",
    "        except:\n",
    "            if url in cache:\n",
    "                del cache[url]\n",
    "            raise\n",
    "        content = rsp.content\n",
    "        cache[url] = content\n",
    "    return content"
   ]
  },
  {
   "cell_type": "code",
   "execution_count": 126,
   "metadata": {
    "collapsed": true
   },
   "outputs": [],
   "source": [
    "baseurl = \"https://old.reddit.com/r/all.json\"\n",
    "qp = {\n",
    "    \"limit\": 100,\n",
    "}"
   ]
  },
  {
   "cell_type": "code",
   "execution_count": 127,
   "metadata": {
    "collapsed": true
   },
   "outputs": [],
   "source": [
    "import webbrowser\n",
    "url = 'www.google.com'\n",
    "chrome_path = 'C:/Program Files (x86)/Google/Chrome/Application/chrome.exe %s --incognito'\n",
    "#webbrowser.get(chrome_path).open_new(url)"
   ]
  },
  {
   "cell_type": "code",
   "execution_count": 128,
   "metadata": {
    "collapsed": true
   },
   "outputs": [],
   "source": [
    "sub_filter = {\n",
    "    \"smashbros\",\n",
    "    \"vegan\",\n",
    "    \"dogswithjobs\",\n",
    "    \"FiftyFifty\",\n",
    "    \"ImGoingToHellForThis\",\n",
    "    \"traps\",\n",
    "    \"jesuschristreddit\",\n",
    "    \"madlads\",\n",
    "    \"traphentai\",\n",
    "    \"NatureIsFuckingLit\",\n",
    "    \"WTF\",\n",
    "    \"ComedyCemetery\",\n",
    "    \"tifu\",\n",
    "    \"MorbidReality\"\n",
    "}"
   ]
  },
  {
   "cell_type": "code",
   "execution_count": 143,
   "metadata": {
    "collapsed": true
   },
   "outputs": [],
   "source": [
    "base = \"\"\"<!DOCTYPE html>\n",
    "<html>\n",
    "<body>\n",
    "\n",
    "%s\n",
    "\n",
    "/*<script>\n",
    "    var vids = document.getElementsByClassName(\"myvid\");\n",
    "    for (var i = 0; i < vids.length; ++i)\n",
    "    {\n",
    "        vids[i].play();\n",
    "    }\n",
    "</script>*/\n",
    "\n",
    "</body>\n",
    "</html>\"\"\"\n",
    "\n",
    "isrc = \"\"\"<h3>%s: %s</h3>\n",
    "<img src=\"%s\" width=\"500px\" height=\"auto\">\"\"\"\n",
    "\n",
    "hsrc = \"\"\"<h3>%s: %s</h3>\n",
    "<a href=\"%s\" target=\"_blank\" >%s</a>\"\"\"\n",
    "\n",
    "#<video width=\"500px\" height=\"auto\" autoplay playsinline preload=\"auto\" controls>\n",
    "vsrc = \"\"\"<h3>%s: %s</h3>\n",
    "<video alt=\"GIF\" height=\"auto\" width=\"400px\" playsinline=\"\" preload loop controls onclick=\"this.paused ? this.play() : this.pause();\">\n",
    "<source src=\"%s.webm\" type=\"video/webm\">\n",
    "<source src=\"%s.mp4\" type=\"video/mp4\">\n",
    "</video>\"\"\"\n"
   ]
  },
  {
   "cell_type": "code",
   "execution_count": 144,
   "metadata": {
    "collapsed": true
   },
   "outputs": [],
   "source": [
    "import time\n",
    "from urllib3.util import parse_url\n",
    "\n",
    "def nsfw(qp):\n",
    "    s = requests.Session()\n",
    "    j = get(\"https://old.reddit.com/r/all.json\", params=qp)\n",
    "    for post in j[\"data\"][\"children\"]:\n",
    "        data = post[\"data\"]\n",
    "        qp[\"after\"] = data[\"name\"]\n",
    "        if data['subreddit'] in sub_filter:\n",
    "            continue\n",
    "        if data[\"over_18\"]:\n",
    "            if \"url\" not in data:\n",
    "                durl = \"https://old.reddit.com\" + data[\"permalink\"]\n",
    "            else:\n",
    "                durl = data[\"url\"]\n",
    "            yield data['subreddit'], data['title'], durl\n",
    "        #print(\"%-20s %-50s %s\" % (data['subreddit'], data[\"title\"], durl))\n",
    "        #webbrowser.get(chrome_path).open_new(durl)\n",
    "        #imgs.append(isrc%(data['subreddit'], data['title'], durl))\n",
    "#time.sleep(1)"
   ]
  },
  {
   "cell_type": "code",
   "execution_count": 147,
   "metadata": {},
   "outputs": [
    {
     "name": "stdout",
     "output_type": "stream",
     "text": [
      "MMA                  [SPOILER] Henry Cejudo vs. TJ Dillashaw            https://streamable.com/uef6y\n",
      "gonewild             [F] they’re small without my hands on thm ;_;      http://i.imgur.com/9CLuwFl.jpg\n",
      "PetiteGoneWild       At 5'1 I'm pretty small, but that just makes my boobs look bigger in comparison 😋 https://i.imgur.com/QFzQwBh.jpg\n",
      "MMA                  [SPOILER] Alexander Hernandez vs. Donald \"Cowboy\" Cerrone https://streamable.com/eyc74\n",
      "AskReddit            Reddit, what's your family's dark secret? [NSFW]   https://old.reddit.com/r/AskReddit/comments/ahqlbo/reddit_whats_your_familys_dark_secret_nsfw/\n",
      "NSFW_GIF             lucky bear                                         https://i.imgur.com/7X22uP2.gifv\n",
      "nsfw                 What A Beautiful Boob On A Beautiful Woman         https://i.redd.it/3ttyjtvgkgb21.jpg\n",
      "adorableporn         Two Cuties                                         https://gfycat.com/MajesticDiligentHarpyeagle\n",
      "badwomensanatomy     Wrong hole, my dude                                https://i.redd.it/it8cx8191hb21.jpg\n",
      "rule34               A rule 34 version of Ariana Grande getting it [?] (Xizrax) https://i.redd.it/kyfiwiu9bgb21.jpg\n",
      "BustyPetite          Busty enough?                                      https://gfycat.com/FearlessEthicalHornshark\n",
      "GirlsFinishingTheJob POV finish                                         https://gfycat.com/ForcefulFlawlessIrishredandwhitesetter\n",
      "curvy                Perfect amateur build 😍                            https://i.redd.it/2hwcbdje7hb21.jpg\n",
      "bodyperfection       Music for the eyes                                 https://i.imgur.com/AqihyJY.jpg\n",
      "hentai               Nozomi ass [Love Live]                             https://i.redd.it/0jsw5xe4jgb21.jpg\n",
      "TittyDrop            My tight bra made the titty drop a little hard     https://gfycat.com/singlefrankkillifish\n",
      "gonewild             To be continue [f]                                 https://i.redd.it/khoroxhl3gb21.jpg\n",
      "LegalTeens           Those eyes 😍                                       https://i.redd.it/bt49eo9xafb21.jpg\n",
      "BiggerThanYouThought Goodness 😍                                         https://gfycat.com/DisguisedLimpFossa\n",
      "simps                Happy Saturday! 🐈                                  https://i.redd.it/p5czgh6w0ib21.jpg\n",
      "RealGirls            a little back view for you                         https://i.imgur.com/UhhyYkn.jpg\n",
      "MMA                  [Spoiler] Conor McGregor calls out the winner of Hernandez/Cerrone https://twitter.com/thenotoriousmma/status/1086821125110329344?s=21\n",
      "cumsluts             Just did my tongue workout [f]                     https://i.imgur.com/BWdCFX0.jpg\n",
      "goddesses            Julia Crown                                        https://i.redd.it/km0f28huohb21.jpg\n",
      "juicyasians          Sexy Slow Motion Boobiez                           https://gfycat.com/InfantileScaredBumblebee\n",
      "TinyTits             19F you guys love my last one so here is another❤  https://i.redd.it/v8klb4lhwhb21.jpg\n",
      "grool                Damn 😍                                             https://gfycat.com/GrimSpicyDotterel\n",
      "ass                  Sasha Grey                                         https://i.redd.it/wmloxwehngb21.jpg\n",
      "Amateur              Guys seem to be intimidated by me, would you? (F)  https://i.imgur.com/Ypgl3Ju.jpg\n",
      "gonewildcurvy        hello, it's me                                     http://i.imgur.com/qmc3BGK.jpg\n",
      "hentai               Best mirror shot ever                              https://i.redd.it/9nipcc0ubhb21.jpg\n",
      "pawg                 All that ASS                                       https://gfycat.com/CoolFlakyDrever\n",
      "RealAhegao           What’s up gamers!? 😎💕                              https://i.redd.it/num76ao63ib21.jpg\n",
      "ecchi                Scathach                                           https://i.imgur.com/pgizfla.jpg\n",
      "AsiansGoneWild       A got woken up with a good ass pounding this morning. How’s your day been? https://i.redd.it/a137tjwxreb21.jpg\n",
      "asstastic            Grabbing it [f]                                    https://i.redd.it/ja0bk4ghihb21.jpg\n",
      "GoneMild             [F] ^^                                             https://i.redd.it/g8i6i6po1ib21.jpg\n",
      "HappyEmbarrassedGirls i love that smile though                           https://gfycat.com/WideeyedHandyGoa\n",
      "bigtiddygothgf       No make up, but all the boobs and the piercings 😍  https://i.redd.it/52v2r97seib21.jpg\n",
      "porninfifteenseconds Kali Roses Gets Tricked Into Fucking During A Birdbox Challenge https://gfycat.com/FarWhoppingArcticduck\n",
      "milf                 Naughty or nice ?                                  https://i.redd.it/a7bp0v9xwfb21.jpg\n",
      "2busty2hide          Such a classic 😍                                   https://i.redd.it/kl1b3vaqlgb21.jpg\n",
      "RealGirls            Ignore my friend’s messy room and pay attention to my body instead ;) https://i.redd.it/ro1ptc6ylhb21.jpg\n",
      "BigBoobsGW           Rate my rack                                       https://i.redd.it/7c7w84596fb21.jpg\n",
      "LivestreamFail       Homeless guy selling jokes on the streets of Portland https://clips.twitch.tv/BlatantDiligentCardEleGiggle\n",
      "rule34               Korr(a)'ss (Owler)[Avatar the Last Airbender]      https://i.imgur.com/xUTJrZX.jpg\n",
      "Boxing               [POST FIGHT THREAD] Manny Pacquiao vs Adrien Broner https://old.reddit.com/r/Boxing/comments/ahv337/post_fight_thread_manny_pacquiao_vs_adrien_broner/\n",
      "Overwatch_Porn       Ashe Riding (tabesc3d)                             https://gfycat.com/CookedWastefulLangur\n",
      "futanari             Ruby getting spitroasted                           https://i.redd.it/lhzuasy4agb21.jpg\n",
      "TittyDrop            I'm Jade - I'm new here. DROP FLASH OC NSFW        https://gfycat.com/WhirlwindBruisedBushsqueaker\n",
      "IndiansGoneWild      Finally turned to 19 [F,19]                        https://i.redd.it/dxaw25vc4ib21.jpg\n",
      "Blowjobs             Must feel like heaven                              https://gfycat.com/ImprobableDevotedDormouse\n",
      "GodPussy             Perfect tight little pussy                         https://i.imgur.com/pQWZHyQ.jpg\n",
      "pussy                Just this once.                                    https://i.redd.it/4nshcicibib21.jpg\n",
      "AsianHotties         Imagine walking up to the bathroom and you see this https://i.redd.it/25cxkms7zhb21.jpg\n",
      "GWCouples            Squats (f) (m)                                     https://i.imgur.com/mNvrOC1.jpg\n",
      "PokePorn             Dawn                                               https://i.redd.it/x2y6r8uifhb21.jpg\n",
      "BestOfReports        I want to die                                      https://i.redd.it/rlwtoo6fbhb21.png\n",
      "thighdeology         Maid                                               https://i.imgur.com/hIvHGMz.jpg\n",
      "bigasses             Belenxyy                                           https://i.redd.it/oq0wsz8qtfb21.jpg\n",
      "GirlswithGlasses     Those eyes😍😍                                       https://i.redd.it/z91wrxtmuhb21.jpg\n",
      "dirtysmall           Gf Riding Like Crazy                               https://gfycat.com/OnlyComposedAfricancivet\n",
      "paag                 Left or right?                                     https://i.redd.it/t7diwz8uemk11.jpg\n",
      "ginger               White makes me look innocent right? [F]            https://i.redd.it/ip2dy9tjlgb21.jpg\n",
      "BustyPetite          Perfection                                         https://i.imgur.com/gTcr1GJ.jpg\n",
      "showerbeer           Peace. Love. Lagunitas.                            https://i.redd.it/7zlktczzogb21.jpg\n",
      "hugeboobs            Hand bra                                           https://i.redd.it/4pjdfrm56gb21.jpg\n",
      "palegirls            [F]ull Frontal For You 😘                           https://i.imgur.com/ajNMmY3.jpg\n",
      "adorableporn         Cute butt                                          https://i.redd.it/5om0v4sefib21.jpg\n",
      "homegrowntits        Back to the basics! [Image]                        https://i.imgur.com/UZgTp9O.jpg\n",
      "quiver               August Ames vs a Sybian (with sound)               https://gfycat.com/LimpingBogusIndiancow\n",
      "wifesharing          F39. Mirror Selfie                                 https://i.redd.it/w75jcylu9hb21.jpg\n",
      "BokuNoEroAcademia    Outfit Mishap                                      https://i.redd.it/yhv5ndf4rhb21.jpg\n",
      "bowsette             She Got ASS. 💕                                     https://i.imgur.com/L9CPCdR.jpg\n",
      "Shadman              CHEERLEADER LOCKER ROOM                            https://i.imgur.com/iA5ysdH.jpg\n",
      "InstaThots           @genesismialopez                                   https://v.redd.it/fl0owa1s2ib21\n",
      "aa_cups              I'm shy. But I wanna show my tits for you guy, who always ask for them https://i.imgur.com/S0kwKtW.jpg\n",
      "StraightGirlsPlaying [F] My best friend has the most perfect ass, do you agree? 🙊👀 https://gfycat.com/ImprobableShallowHoneycreeper\n"
     ]
    },
    {
     "name": "stdout",
     "output_type": "stream",
     "text": [
      "BBW                  They're so heavy                                   https://gfycat.com/DefenselessCluelessIchidna\n",
      "GWNerdy              [F] I hope my D&amp;D group doesn't mind that I'm not wearing a bra! https://i.redd.it/z93ek5p5tgb21.jpg\n",
      "WomenOfColor         Afrocentric tits ✨😋✨                               https://i.redd.it/74zse5fw9hb21.jpg\n",
      "GoneWildHairy        One month of growth! Have any ideas for what I should do before I shave it? https://i.imgur.com/QJWDeS1.jpg\n",
      "hardbodies           Haven't posted here in a while, here's some OC     https://i.imgur.com/Ypgl3Ju.jpg\n",
      "HugeDickTinyChick    Letting a couple of tall hung niggas pound your little white pussy. (x-post r/BBCparadise) https://gfycat.com/fatsingleinvisiblerail\n",
      "gonewild             Smile (f)or boobs!                                 https://i.redd.it/wbv727qy7ib21.jpg\n",
      "JiggleFuck           Cassidy Banks. Literally doggy style.              https://gfycat.com/LightSimilarDipper\n"
     ]
    }
   ],
   "source": [
    "#qp.pop('after', None)\n",
    "#cache.clear()\n",
    "pornpath=\"C:\\\\Users\\\\Administrator\\\\Documents\\\\personal\\\\pix.html\"\n",
    "qp.pop('after', None)\n",
    "imgs = []\n",
    "for i in range(10):\n",
    "    for sr, title, durl in nsfw(qp):\n",
    "        print(\"%-20s %-50s %s\" % (sr, title, durl))\n",
    "        p = parse_url(durl)\n",
    "        if p.host == \"gfycat.com\":\n",
    "            durl = \"https://giant.gfycat.com\" + p.path\n",
    "            imgs.append(vsrc%(sr, title, durl, durl))\n",
    "        elif durl[-4] != \".\":\n",
    "            imgs.append(hsrc%(sr, title, durl, durl))\n",
    "        else:\n",
    "            imgs.append(isrc%(sr, title, durl))\n",
    "        \n",
    "with open(pornpath, 'wb') as f:\n",
    "    f.write((base%\"\\n\".join(imgs)).encode('utf-8'))"
   ]
  },
  {
   "cell_type": "code",
   "execution_count": 148,
   "metadata": {},
   "outputs": [
    {
     "data": {
      "text/plain": [
       "True"
      ]
     },
     "execution_count": 148,
     "metadata": {},
     "output_type": "execute_result"
    }
   ],
   "source": [
    "webbrowser.get(chrome_path).open_new(pornpath)"
   ]
  },
  {
   "cell_type": "code",
   "execution_count": null,
   "metadata": {
    "collapsed": true
   },
   "outputs": [],
   "source": []
  }
 ],
 "metadata": {
  "kernelspec": {
   "display_name": "Python 3",
   "language": "python",
   "name": "python3"
  },
  "language_info": {
   "codemirror_mode": {
    "name": "ipython",
    "version": 3
   },
   "file_extension": ".py",
   "mimetype": "text/x-python",
   "name": "python",
   "nbconvert_exporter": "python",
   "pygments_lexer": "ipython3",
   "version": "3.6.1"
  }
 },
 "nbformat": 4,
 "nbformat_minor": 2
}
