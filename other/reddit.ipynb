{
 "cells": [
  {
   "cell_type": "code",
   "execution_count": 124,
   "metadata": {
    "collapsed": true
   },
   "outputs": [],
   "source": [
    "import requests, json\n",
    "s = requests.Session()\n",
    "ua = \"bob-test\"\n",
    "headers = {'accept': 'text/html,application/xhtml+xml', 'accept-encoding': 'gzip, deflate, br', 'user-agent': 'Mozilla/5.0 (Windows NT 10.0; Win64; x64) AppleWebKit/537.36 (KHTML, like Gecko) Chrome/71.0.3578.98 Safari/537.36'}"
   ]
  },
  {
   "cell_type": "code",
   "execution_count": 125,
   "metadata": {
    "collapsed": true
   },
   "outputs": [],
   "source": [
    "def get(url, params):\n",
    "    return json.loads(get_url(url, params).decode())\n",
    "cache = {}\n",
    "def get_url(url, params):\n",
    "    prep = requests.Request(\"GET\", url, params=params, headers=headers).prepare()\n",
    "    url = prep.url\n",
    "    if url in cache:\n",
    "        content = cache[url]\n",
    "    else:\n",
    "        rsp = requests.get(url, headers=headers)\n",
    "        try:\n",
    "            rsp.raise_for_status()\n",
    "        except:\n",
    "            if url in cache:\n",
    "                del cache[url]\n",
    "            raise\n",
    "        content = rsp.content\n",
    "        cache[url] = content\n",
    "    return content"
   ]
  },
  {
   "cell_type": "code",
   "execution_count": 126,
   "metadata": {
    "collapsed": true
   },
   "outputs": [],
   "source": [
    "baseurl = \"https://old.reddit.com/r/all.json\"\n",
    "qp = {\n",
    "    \"limit\": 100,\n",
    "}"
   ]
  },
  {
   "cell_type": "code",
   "execution_count": 127,
   "metadata": {
    "collapsed": true
   },
   "outputs": [],
   "source": [
    "import webbrowser\n",
    "url = 'www.google.com'\n",
    "chrome_path = 'C:/Program Files (x86)/Google/Chrome/Application/chrome.exe %s --incognito'\n",
    "#webbrowser.get(chrome_path).open_new(url)"
   ]
  },
  {
   "cell_type": "code",
   "execution_count": 128,
   "metadata": {
    "collapsed": true
   },
   "outputs": [],
   "source": [
    "sub_filter = {\n",
    "    \"smashbros\",\n",
    "    \"vegan\",\n",
    "    \"dogswithjobs\",\n",
    "    \"FiftyFifty\",\n",
    "    \"ImGoingToHellForThis\",\n",
    "    \"traps\",\n",
    "    \"jesuschristreddit\",\n",
    "    \"madlads\",\n",
    "    \"traphentai\",\n",
    "    \"NatureIsFuckingLit\",\n",
    "    \"WTF\",\n",
    "    \"ComedyCemetery\",\n",
    "    \"tifu\",\n",
    "    \"MorbidReality\"\n",
    "}"
   ]
  },
  {
   "cell_type": "code",
   "execution_count": 129,
   "metadata": {
    "collapsed": true
   },
   "outputs": [],
   "source": [
    "base = \"\"\"<!DOCTYPE html>\n",
    "<html>\n",
    "<body>\n",
    "\n",
    "%s\n",
    "\n",
    "<script>\n",
    "    var vids = document.getElementsByClassName(\"myvid\");\n",
    "    for (var i = 0; i < vids.length; ++i)\n",
    "    {\n",
    "        vids[i].play();\n",
    "    }\n",
    "</script>\n",
    "\n",
    "</body>\n",
    "</html>\"\"\"\n",
    "\n",
    "isrc = \"\"\"<h3>%s: %s</h3>\n",
    "<img src=\"%s\" width=\"500px\" height=\"auto\">\"\"\"\n",
    "\n",
    "hsrc = \"\"\"<h3>%s: %s</h3>\n",
    "<a href=\"%s\" target=\"_blank\" >%s</a>\"\"\"\n",
    "\n",
    "#<video width=\"500px\" height=\"auto\" autoplay playsinline preload=\"auto\" controls>\n",
    "vsrc = \"\"\"<h3>%s: %s</h3>\n",
    "<video alt=\"GIF\" height=\"auto\" width=\"400px\" autoplay playsinline=\"\" preload loop controls onclick=\"this.play();\">\n",
    "<source src=\"%s.webm\" type=\"video/webm\">\n",
    "<source src=\"%s.mp4\" type=\"video/mp4\">\n",
    "</video>\"\"\"\n"
   ]
  },
  {
   "cell_type": "code",
   "execution_count": 130,
   "metadata": {
    "collapsed": true
   },
   "outputs": [],
   "source": [
    "import time\n",
    "from urllib3.util import parse_url\n",
    "\n",
    "def nsfw(qp):\n",
    "    s = requests.Session()\n",
    "    j = get(\"https://old.reddit.com/r/all.json\", params=qp)\n",
    "    for post in j[\"data\"][\"children\"]:\n",
    "        data = post[\"data\"]\n",
    "        qp[\"after\"] = data[\"name\"]\n",
    "        if data['subreddit'] in sub_filter:\n",
    "            continue\n",
    "        if data[\"over_18\"]:\n",
    "            if \"url\" not in data:\n",
    "                durl = \"https://old.reddit.com\" + data[\"permalink\"]\n",
    "            else:\n",
    "                durl = data[\"url\"]\n",
    "            yield data['subreddit'], data['title'], durl\n",
    "        #print(\"%-20s %-50s %s\" % (data['subreddit'], data[\"title\"], durl))\n",
    "        #webbrowser.get(chrome_path).open_new(durl)\n",
    "        #imgs.append(isrc%(data['subreddit'], data['title'], durl))\n",
    "#time.sleep(1)"
   ]
  },
  {
   "cell_type": "code",
   "execution_count": 131,
   "metadata": {},
   "outputs": [
    {
     "name": "stdout",
     "output_type": "stream",
     "text": [
      "RealGirls            [F] Happy Saturday! Sorry friends you’ll be seeing a lot of my hilarious tan lines till my vacay is over. https://i.redd.it/0u32gb53aeb21.jpg\n",
      "LegalTeens           Those eyes 😍                                       https://i.redd.it/bt49eo9xafb21.jpg\n",
      "gonewild             Pants on/o(f)f. How does my ass look better?       https://i.redd.it/jyr4sc4ohdb21.jpg\n",
      "NSFW_GIF             Always remember to share                           https://gfycat.com/OldfashionedEminentLhasaapso\n",
      "pawg                 All that ASS                                       https://gfycat.com/CoolFlakyDrever\n",
      "AsiansGoneWild       A got woken up with a good ass pounding this morning. How’s your day been? https://i.redd.it/a137tjwxreb21.jpg\n",
      "BigBoobsGW           Rate my rack                                       https://i.redd.it/7c7w84596fb21.jpg\n",
      "videos               Mexicans stealing Fuel from a pipeline when some smokers show up. results in a huge explosion. https://www.youtube.com/watch?v=vtRZQUOn0T0&amp;t=1s\n",
      "PetiteGoneWild       can’t beat that morning light                      https://i.redd.it/iqv4zb9ndeb21.jpg\n",
      "adorableporn         Thought my PJ’s were a little cute ☺️              https://i.imgur.com/jeWcB7U.jpg\n",
      "nsfw                 Perky perfection!                                  https://i.redd.it/t1eleht8tdb21.jpg\n",
      "rule34               Korr(a)'ss (Owler)[Avatar the Last Airbender]      https://i.imgur.com/xUTJrZX.jpg\n",
      "ass                  Heather                                            https://i.redd.it/gmfoj650xdb21.jpg\n",
      "BustyPetite          Beautiful                                          https://gfycat.com/WideeyedHandyGoa\n",
      "palegirls            [F]ull Frontal For You 😘                           https://i.imgur.com/ajNMmY3.jpg\n",
      "holdthemoan          I'm here to get screwed. I mean screws [GIF]       https://gfycat.com/MiniatureFrenchCygnet\n",
      "StraightGirlsPlaying [F] My best friend has the most perfect ass, do you agree? 🙊👀 https://gfycat.com/ImprobableShallowHoneycreeper\n",
      "badwomensanatomy     Sex causes elephant ears                           https://i.redd.it/7x40agh2adb21.png\n",
      "TittyDrop            [18][OC] On my back                                https://gfycat.com/CoarseMajorArachnid\n",
      "hentai               Those are nice                                     https://i.redd.it/ejiwf8indeb21.jpg\n",
      "BiggerThanYouThought Goodness 😍                                         https://gfycat.com/DisguisedLimpFossa\n",
      "WatchItForThePlot    Catherine Reitman - Workin Moms s03e03             https://gfycat.com/AggressivePoliteGibbon\n",
      "BreedingMaterial     I'm all hips and tits (F30)                        https://i.imgur.com/KDHDH4N.jpg\n",
      "milf                 Naughty or nice ?                                  https://i.redd.it/a7bp0v9xwfb21.jpg\n",
      "milf                 Naughty or nice ?                                  https://i.redd.it/a7bp0v9xwfb21.jpg\n",
      "BreedingMaterial     I'm all hips and tits (F30)                        https://i.imgur.com/KDHDH4N.jpg\n",
      "thick                Does she fit in here?                              https://imgur.com/WS0T3dR.jpg\n",
      "curvy                I think I look cute in green.. [OC]                https://gfycat.com/powerfulbitesizedkakapo\n",
      "NSFWFunny            World Record Egg Makes it on Pornhub               https://imgur.com/8AYhk0j\n",
      "TinyTits             Completely flat                                    https://i.imgur.com/hWCvVbq.jpg\n",
      "relationship_advice  Caught my (m28) newly married wife(f34) texting other guys https://old.reddit.com/r/relationship_advice/comments/ahlzaf/caught_my_m28_newly_married_wifef34_texting_other/\n",
      "thighdeology         Maid                                               https://i.imgur.com/hIvHGMz.jpg\n",
      "nsfw_gifs            Unexpected turn of events for her                  https://gfycat.com/ScaredDownrightCowrie\n",
      "bigasses             Belenxyy                                           https://i.redd.it/oq0wsz8qtfb21.jpg\n",
      "cumsluts             Fucking teen's mouth, and cumming right into her mouth https://gfycat.com/BarrenFarflungLeafhopper\n",
      "LipsThatGrip         Nothing makes me cum harder than getting stuffed with thick hard cock. https://gfycat.com/blackwarpedaztecant\n",
      "assholegonewild      All 3 of my holes, one per[f]ect photo! Which would you like first? https://i.redd.it/snn8l43iteb21.jpg\n",
      "collegesluts         The way she licks his tip                          https://gfycat.com/SmoggySpectacularAustralianfurseal\n",
      "GodPussy             Perfect tight little pussy                         https://i.imgur.com/pQWZHyQ.jpg\n",
      "porninfifteenseconds Kali Roses Gets Tricked Into Fucking During A Birdbox Challenge https://gfycat.com/FarWhoppingArcticduck\n",
      "gwcumsluts           Content with his load but lol at the bit dripping from my nose https://i.redd.it/jiqefi9i9fb21.jpg\n",
      "anal                 [F] It felt so good.. - More in comments.          https://gfycat.com/niceharmlesscorydorascatfish\n",
      "celebnsfw            Catherine Reitman - Workin Moms s03e03             https://gfycat.com/AggressivePoliteGibbon\n",
      "Shadman              CHEERLEADER LOCKER ROOM                            https://i.imgur.com/iA5ysdH.jpg\n",
      "MassiveCock          Dad Dick                                           https://i.redd.it/3y4bsqm8ffb21.jpg\n",
      "juicyasians          Sexy Slow Motion Boobiez                           https://gfycat.com/InfantileScaredBumblebee\n",
      "trashyboners         Sitting on a dumpster (x-post from /r/Celebhub)    https://i.imgur.com/5NowcKx.jpg\n",
      "Animemes             Mmmm YES                                           https://i.redd.it/8p5fzlfbpfb21.png\n",
      "onmww                Just hanging out naked, doing naked stuff          https://i.redd.it/skzux5aszeb21.jpg\n",
      "dirtysmall           Gf Riding Like Crazy                               https://gfycat.com/OnlyComposedAfricancivet\n",
      "fitgirls             Marie-Alex Lelièvre                                https://i.redd.it/2368bqsycfb21.jpg\n",
      "Boobies              Excellent proportions                              https://i.imgur.com/jkPxjNA.jpg\n",
      "rule34               A rule 34 version of Ariana Grande getting it [?] (Xizrax) https://i.redd.it/kyfiwiu9bgb21.jpg\n",
      "TooCuteForPorn       Misty Lovelace                                     https://i.imgur.com/8MFR4dC.jpg\n",
      "Blowjobs             A little bit of everything.                        https://gfycat.com/longuntidyelectriceel\n",
      "MilitaryGfys         PKK fighters killed with .50 cal RWS by Turkish Armed Forces https://gfycat.com/ImprobableWillingBlackbuck\n",
      "redheads             Wow                                                https://i.imgur.com/2i6Crr3.jpg\n",
      "gonewild             I want to be the (f)irst thing reddit sees today   https://i.imgur.com/JYg5Ene.jpg\n",
      "BustyPetite          Busty enough?                                      https://gfycat.com/FearlessEthicalHornshark\n",
      "paag                 An actual paag for once.                           https://gfycat.com/fairsimpleisopod\n",
      "AsianHotties         \"are we there yet?\"                                https://i.imgur.com/Eb0viCf.jpg\n",
      "rearpussy            Pink                                               https://i.imgur.com/PtbwfAb.jpg\n",
      "SnowWhites           First post here as an ~approved submitter~ 🍎🌲      http://i.imgur.com/IGyqskg.jpg\n",
      "GirlswithNeonHair    Do you like my outfit? ❤️ [OC]                     https://i.redd.it/2902qrc4rfb21.jpg\n",
      "HENTAI_GIF           RFB [Girls' Frontline]                             https://gfycat.com/FragrantTatteredCaribou\n",
      "Celebswithbigtits    Milana Vayntrub                                    https://imgur.com/j2UtYv0\n",
      "showerbeer           Peace. Love. Lagunitas.                            https://i.redd.it/7zlktczzogb21.jpg\n",
      "suicidegirls         Roxyrevolution                                     https://i.imgur.com/VTr7q7v.jpg\n",
      "bodyperfection       Alyssa Arce(34DD-25-34) or Emily Ratajkowski(32C-24-34) https://gfycat.com/DownrightGiftedHogget\n",
      "realasians           The highlight                                      https://i.redd.it/0i4289ubjfb21.gif\n",
      "Overwatch_Porn       Mercy and Pharah getting ready to be played with [Ming Xing] https://i.redd.it/5unbl2bp6fb21.jpg\n",
      "cosplaygirls         [Self] Malicious smile for a malicious ca.. Witch! ~ Blair from Soul Eater ~ by Mikomi Hokina ♥ https://i.redd.it/azpmconwqdb21.png\n",
      "sarah_xxx            Help me win my first award 😄 🎉 Today is your last chance to vote! 😱 Don't miss out on free nudes and amazing deals! 😍 https://gfycat.com/totaldizzycranefly\n",
      "chubby               21F - New account. Hope you like me!               https://i.redd.it/ub1uj6rundb21.jpg\n",
      "workgonewild         When you’re working the auto show and the urge to take pix strikes you...48(f) https://i.redd.it/ut051iy91db21.jpg\n",
      "Dollywinks           Punish my little booty 🍑                           https://i.imgur.com/jy2tg3J.jpg\n",
      "fortyfivefiftyfive   Lighting....                                       https://i.redd.it/p359gt5o1eb21.jpg\n",
      "hugeboobs            Tough choice                                       https://i.imgur.com/aCh6hP2.jpg\n",
      "freeuse              Freeuse but opposite                               https://gfycat.com/SkinnyCheeryAmericanshorthair\n",
      "SexyFlowerWater      Who wants to lick me clean?                        https://i.imgur.com/gXy9FbX.png\n",
      "GWCouples            Squats (f) (m)                                     https://i.imgur.com/mNvrOC1.jpg\n",
      "2busty2hide          Such a classic 😍                                   https://i.redd.it/kl1b3vaqlgb21.jpg\n",
      "altgonewild          Your view from below, don't you just want to reach up and grab them? [oc][f] https://i.imgur.com/c11yIIC.jpg\n",
      "CuteLittleButts      Bite it                                            http://i.imgur.com/XjGnM7W.jpg\n",
      "ecchi                *pomf*                                             https://i.imgur.com/xRVzcFJ.jpg\n",
      "DarlingInTheFranxx   Bunnygirl 002                                      https://i.redd.it/1vd8hoek4eb21.png\n",
      "Stacked              Stacked                                            https://i.redd.it/ns40bo7akdb21.jpg\n",
      "asstastic            I [F]eel you wouldn't mind watching me stretch 😜   https://gfycat.com/impassionedseveralasianpiedstarling\n",
      "futanari             Alison's throbbing cock leaks cum as Nessie claims her pussy at a house party (Lewdua) https://i.imgur.com/GQxxptR.gifv\n"
     ]
    }
   ],
   "source": [
    "#qp.pop('after', None)\n",
    "pornpath=\"C:\\\\Users\\\\Administrator\\\\Documents\\\\personal\\\\pix.html\"\n",
    "qp.pop('after', None)\n",
    "imgs = []\n",
    "for i in range(10):\n",
    "    for sr, title, durl in nsfw(qp):\n",
    "        print(\"%-20s %-50s %s\" % (sr, title, durl))\n",
    "        p = parse_url(durl)\n",
    "        if p.host == \"gfycat.com\":\n",
    "            durl = \"https://giant.gfycat.com\" + p.path\n",
    "            imgs.append(vsrc%(sr, title, durl, durl))\n",
    "        elif durl[-4] != \".\":\n",
    "            imgs.append(hsrc%(sr, title, durl, durl))\n",
    "        else:\n",
    "            imgs.append(isrc%(sr, title, durl))\n",
    "        \n",
    "with open(pornpath, 'wb') as f:\n",
    "    f.write((base%\"\\n\".join(imgs)).encode('utf-8'))"
   ]
  },
  {
   "cell_type": "code",
   "execution_count": 123,
   "metadata": {},
   "outputs": [
    {
     "data": {
      "text/plain": [
       "True"
      ]
     },
     "execution_count": 123,
     "metadata": {},
     "output_type": "execute_result"
    }
   ],
   "source": [
    "webbrowser.get(chrome_path).open_new(pornpath)"
   ]
  },
  {
   "cell_type": "code",
   "execution_count": null,
   "metadata": {
    "collapsed": true
   },
   "outputs": [],
   "source": []
  }
 ],
 "metadata": {
  "kernelspec": {
   "display_name": "Python 3",
   "language": "python",
   "name": "python3"
  },
  "language_info": {
   "codemirror_mode": {
    "name": "ipython",
    "version": 3
   },
   "file_extension": ".py",
   "mimetype": "text/x-python",
   "name": "python",
   "nbconvert_exporter": "python",
   "pygments_lexer": "ipython3",
   "version": "3.6.1"
  }
 },
 "nbformat": 4,
 "nbformat_minor": 2
}
