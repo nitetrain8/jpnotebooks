{
 "cells": [
  {
   "cell_type": "code",
   "execution_count": 1,
   "metadata": {
    "collapsed": true
   },
   "outputs": [],
   "source": [
    "import requests, json\n",
    "s = requests.Session()\n",
    "ua = \"bob-test\"\n",
    "headers = {'accept': 'text/html,application/xhtml+xml', 'accept-encoding': 'gzip, deflate, br', 'user-agent': 'Mozilla/5.0 (Windows NT 10.0; Win64; x64) AppleWebKit/537.36 (KHTML, like Gecko) Chrome/71.0.3578.98 Safari/537.36'}"
   ]
  },
  {
   "cell_type": "code",
   "execution_count": 2,
   "metadata": {
    "collapsed": true
   },
   "outputs": [],
   "source": [
    "def get(url, params):\n",
    "    return json.loads(get_url(url, params).decode())\n",
    "cache = {}\n",
    "def get_url(url, params):\n",
    "    prep = requests.Request(\"GET\", url, params=params, headers=headers).prepare()\n",
    "    url = prep.url\n",
    "    if url in cache:\n",
    "        content = cache[url]\n",
    "    else:\n",
    "        rsp = requests.get(url, headers=headers)\n",
    "        try:\n",
    "            rsp.raise_for_status()\n",
    "        except:\n",
    "            if url in cache:\n",
    "                del cache[url]\n",
    "            raise\n",
    "        content = rsp.content\n",
    "        cache[url] = content\n",
    "    return content"
   ]
  },
  {
   "cell_type": "code",
   "execution_count": 3,
   "metadata": {
    "collapsed": true
   },
   "outputs": [],
   "source": [
    "baseurl = \"https://old.reddit.com/r/all.json\"\n",
    "qp = {\n",
    "    \"limit\": 100,\n",
    "}"
   ]
  },
  {
   "cell_type": "code",
   "execution_count": 4,
   "metadata": {
    "collapsed": true
   },
   "outputs": [],
   "source": [
    "import webbrowser\n",
    "url = 'www.google.com'\n",
    "chrome_path = 'C:/Program Files (x86)/Google/Chrome/Application/chrome.exe %s --incognito'\n",
    "#webbrowser.get(chrome_path).open_new(url)"
   ]
  },
  {
   "cell_type": "code",
   "execution_count": 39,
   "metadata": {
    "collapsed": true
   },
   "outputs": [],
   "source": [
    "qp.pop('after', None)\n",
    "sub_filter = {\n",
    "    \"smashbros\",\n",
    "    \"vegan\",\n",
    "    \"dogswithjobs\",\n",
    "    \"FiftyFifty\",\n",
    "    \"ImGoingToHellForThis\",\n",
    "    \"traps\",\n",
    "    \"jesuschristreddit\",\n",
    "    \"madlads\",\n",
    "    \"traphentai\",\n",
    "    \"NatureIsFuckingLit\"\n",
    "}"
   ]
  },
  {
   "cell_type": "code",
   "execution_count": 40,
   "metadata": {
    "collapsed": true
   },
   "outputs": [],
   "source": [
    "base = \"\"\"<!DOCTYPE html>\n",
    "<html>\n",
    "<body>\n",
    "\n",
    "%s\n",
    "\n",
    "</body>\n",
    "</html>\"\"\"\n",
    "\n",
    "isrc = \"\"\"<h3>%s: %s</h3>\n",
    "<img src=\"%s\">\"\"\"\n",
    "\n",
    "hsrc = \"\"\"<h3>%s: %s</h3>\n",
    "<a href=\"%s\" target=\"_blank\">%s</a>\"\"\"\n",
    "\n",
    "imgs = []"
   ]
  },
  {
   "cell_type": "code",
   "execution_count": 41,
   "metadata": {},
   "outputs": [],
   "source": [
    "import time\n",
    "\n",
    "def nsfw(qp):\n",
    "    s = requests.Session()\n",
    "    j = get(\"https://old.reddit.com/r/all.json\", params=qp)\n",
    "    for post in j[\"data\"][\"children\"]:\n",
    "        data = post[\"data\"]\n",
    "        qp[\"after\"] = data[\"name\"]\n",
    "        if data['subreddit'] in sub_filter:\n",
    "            continue\n",
    "        if data[\"over_18\"]:\n",
    "            if \"url\" not in data:\n",
    "                durl = \"https://old.reddit.com\" + data[\"permalink\"]\n",
    "            else:\n",
    "                durl = data[\"url\"]\n",
    "            yield data['subreddit'], data['title'], durl\n",
    "        #print(\"%-20s %-50s %s\" % (data['subreddit'], data[\"title\"], durl))\n",
    "        #webbrowser.get(chrome_path).open_new(durl)\n",
    "        #imgs.append(isrc%(data['subreddit'], data['title'], durl))\n",
    "#time.sleep(1)"
   ]
  },
  {
   "cell_type": "code",
   "execution_count": 42,
   "metadata": {},
   "outputs": [
    {
     "name": "stdout",
     "output_type": "stream",
     "text": [
      "NSFW_GIF             Millennial meets Gen X                             https://gfycat.com/EnviousAdolescentGuppy\n",
      "TittyDrop            A titty drop I'm especially proud of 😌😌 Do you like it? [OC] https://gfycat.com/MemorableAnguishedAntlion\n",
      "gonewild             And [f]or my next magic trick, I will attempt to make your cock rise!!😜 https://i.redd.it/d400erjpa1b21.jpg\n",
      "BustyPetite          You Can Stand Under Our Umbrella                   https://i.imgur.com/UhWHpiO.jpg\n",
      "nsfw                 Pale rider...                                      https://i.redd.it/tsnnkzrb01b21.jpg\n",
      "HappyEmbarrassedGirls Gillian Barnes (x-post from /r/Celebhub)           https://gfycat.com/DelayedPoliticalBighornsheep/\n",
      "rule34               Peni Parker (Spiderman) [BADCOMPZERO]              https://i.imgur.com/XV6GvOR.jpg\n",
      "rule34               Peni Parker (Spiderman) [BADCOMPZERO]              https://i.imgur.com/XV6GvOR.jpg\n",
      "goddesses            Lily Ivy                                           https://i.redd.it/v5zz4qxc63b21.jpg\n",
      "askscience           Are genitalia sexualized differently in cultures where standards of clothing differ greatly from Western standards? https://old.reddit.com/r/askscience/comments/ah0fj9/are_genitalia_sexualized_differently_in_cultures/\n",
      "theratio             Felt like this pose accentuated my hourglass shape! http://i.imgur.com/p6JIoej.jpg\n",
      "collegesluts         This dress is perfect for a quickie before class 😋 [oc] https://i.imgur.com/L3nyE3x.jpg\n",
      "pawg                 Janie.Fit always showing off her PAWG status       https://i.redd.it/1eltfuidr2b21.jpg\n",
      "PetiteGoneWild       Petite but strong 🏋️‍♀️ [f]                        https://i.redd.it/govgzzwbm1b21.jpg\n",
      "18_19                (F) 18 4'9 90lbs overly horny and having fun showing off and getting attention. Like what you see? https://i.redd.it/e0p4wtrv52b21.png\n",
      "thick                Saving lives                                       https://i.imgur.com/3sctioL.png\n",
      "hentai               Thought sports clothes are always nice             https://i.redd.it/imqu5kom62b21.png\n",
      "porninfifteenseconds Kendra Spade &amp; Gia Derza - Do Not Distract Me! [Reality Kings] https://gfycat.com/DentalHandyIsopod\n",
      "badwomensanatomy     School girl forced to bleed in class               https://i.redd.it/w4ckilt18ra21.jpg\n",
      "AsiansGoneWild       I’m shy in real life 🤫                             https://i.imgur.com/IiRYQWG.jpg\n",
      "BiggerThanYouThought Girl with a nice T shirt GIF                       https://gfycat.com/lonebonyaltiplanochinchillamouse\n",
      "RealGirls            Restroom nudes are my new favorite thing           https://i.redd.it/ce616izmuza21.jpg\n",
      "bigtiddygothgf       I turned 22 today! Birthday underboob!             https://i.redd.it/kd1moq7qm2b21.jpg\n",
      "adorableporn         Just do it                                         https://i.imgur.com/ZizPi9f.jpg\n",
      "BigBoobsGW           If you’re sorting new and in the mood to upvote here’s a present for you https://i.redd.it/ghoogiq193b21.jpg\n",
      "altgonewild          My roommates asleep on the couch 5 feet away 😇😛 33f, bored and working from home today https://gfycat.com/AnguishedLargeAsianpiedstarling\n",
      "Boobies              Teddy Bear                                         https://i.imgur.com/yiGiJSS.jpg\n",
      "juicyasians          Game. Set. Match.                                  https://i.imgur.com/UJwc7VM.jpg\n",
      "palegirls            (f) 18 4'9\" 90lbs just a pale horny girl who likes attention and showing off https://i.redd.it/phee7vnh22b21.png\n",
      "RealAhegao           u make me drool 🤤                                  https://gfycat.com/DefinitiveZestyAruanas\n",
      "gettingherselfoff    Taped                                              https://gfycat.com/LastSneakyBear\n",
      "specializedtools     Now everyone can use the bathroom standing up.     https://i.redd.it/b3o20lyc60b21.jpg\n",
      "trashy               Dancing on a dead whale...                         https://v.redd.it/mvtd6euup1b21\n",
      "nsfw_gifs            Imaging Waking Up To These                         https://gfycat.com/FearlessEthicalHornshark\n",
      "Hotchickswithtattoos A perfect inverted heart                           https://i.imgur.com/VTE16Ke.png\n",
      "BreedingMaterial     I can’t even imagine them getting any bigger when the milk comes (oc) https://i.imgur.com/KblHhJ7.jpg\n",
      "ecchi                Gothic Swimsuit                                    https://imgur.com/MLzEz03\n",
      "holdthemoan          [OC] Wishing the hotel users a good morning [IMG]  https://i.imgur.com/veTz5b8.jpg\n",
      "SnowWhites           I'd bite your apple any day.                       http://i.imgur.com/sCTCSUu.jpg\n",
      "u_SrGrafo            Its fun AF to read the comments, thank you all     https://i.redd.it/lmq0t93831b21.jpg\n",
      "bodyperfection       Lily Ivy                                           https://i.imgur.com/1tOdEyf.jpg\n",
      "curvy                [OC] I know you think about this slim thick body while you fuck your girlfriend. You can’t help it https://i.redd.it/1gc983uht0b21.jpg\n",
      "Kawaiiikitten        Spot the butt 😂                                    https://i.redd.it/sh6ib1g972b21.jpg\n",
      "workgonewild         Front and center. Line forms here. (F)             https://i.redd.it/frejcr1rp2b21.jpg\n",
      "JiggleFuck           Ava Addams                                         https://i.imgur.com/MmhjptB.gifv\n",
      "LabiaGW              (f) 18 4'9\" 90lbs first time posting here. Hope it does well. https://i.redd.it/b64s30lqy1b21.png\n",
      "ass                  It’s been a while [f] 😁                            https://i.imgur.com/SAceMO8.jpg\n",
      "GoneMild             my back view for you ♥️                            https://i.imgur.com/jI5h3ti.jpg\n",
      "suicidegirls         Juju                                               https://i.imgur.com/rrXxaw2.jpg\n",
      "Amateur              This is what 34 looks like 😽 I love natural light! (OC) https://i.redd.it/hapfqavcq0b21.jpg\n",
      "asshole              Literally Nothing I Like To Do More Than Show Off My Big Brown Asshole 😂😘😜 (F) 26 - Lucia King https://i.redd.it/t0w1ui6qx1b21.jpg\n",
      "assholegonewild      Bend me over the couch &amp; [F]uck me? 😇          https://i.redd.it/mpy4poeyv2b21.jpg\n",
      "paag                 Aya Sazanami                                       https://gfycat.com/AnxiousPaleBeardedcollie\n",
      "bigasses             a soft touch!                                      https://gfycat.com/homelygenerousamericanpainthorse\n",
      "TinyTits             (F)irst post(:                                     https://i.redd.it/sapfr5lpk3b21.jpg\n",
      "LipsThatGrip         [FamilyXXX] - Cecilia Lion - Going Bananas For Her Step Dads Cock https://gfycat.com/OldFearlessCrab\n",
      "bowsette             In need of assistance                              https://i.imgur.com/BXnHjBb.jpg\n",
      "pussy                It's time to lick my pussy, isn't it? 😍 (OC)       https://i.imgur.com/QcUrRJb.jpg\n",
      "Cuckold              Someone else's cum on my face! 😉                   https://i.imgur.com/dP76dwi.jpg\n",
      "Tgirls               Romantic vacation with Khloe Kay                   https://i.imgur.com/AzYru3S.jpg\n",
      "Blowjobs             This technique should be mandatory learning material https://i.imgur.com/uQyw71G.gifv\n",
      "xsmallgirls          First post of the new year, what do you think of the new landing strip I'm experimenting with? 😜 https://i.imgur.com/cAqmZ6Y.jpg\n",
      "trashyboners         Mia Malkova got a ride to her porn shoot from her mom and she stayed to watch her suck dick https://gfycat.com/GleefulInfantileFinnishspitz\n",
      "AzureLane            Shoukaku’s challenge – can you eat all the pocky?  https://i.redd.it/bo4ycltcm2b21.jpg\n",
      "boobs                Pleasantly surprised 🙊💕💕                           https://gfycat.com/mediumadolescentjavalina\n",
      "ladybonersgw         +beard. -chest hair.                               http://imgur.com/12S6sRd\n",
      "AssholeBehindThong   Both holes barely covered                          https://i.redd.it/l96r6swzl1b21.jpg\n",
      "HugeDickTinyChick    She seems happy                                    https://i.imgur.com/UlclsMM.gifv\n",
      "jobuds               1 upvote = 10 strokes to her                       https://i.redd.it/ys3jfaar93b21.jpg\n",
      "ghostnipples         First ever gif! They're small but they can still \"drop\" ;) (OC) https://gfycat.com/MiniatureFlatFawn\n",
      "nsfwcosplay          Chuckie Finster from Rug Rats by K-a-t-z           https://i.imgur.com/1InAr0k.jpg\n",
      "LegalTeens           Would you pull out of this babe?                   https://i.redd.it/z8cgzbzk73b21.jpg\n",
      "futanari             Big Bad dragon                                     https://i.redd.it/egq5buw0s2b21.jpg\n",
      "lanarhoades          In position                                        https://i.redd.it/wa67p09a72b21.jpg\n",
      "gonewild             Same silly vid, new account—reposting a[f]ter popular demand💋💋 https://gfycat.com/SecondhandPopularHorseshoebat\n",
      "MorbidReality        Birth mother tells adoptive couple for several months that she will give them her newborn, but turns out to not even be pregnant https://www.denverpost.com/2018/12/10/california-couple-bizarre-botched-adoption/amp/\n",
      "BigBoobsGonewild     The space between them is empty 😏                  https://i.redd.it/ehfyu2mpa1b21.jpg\n",
      "cumsluts             Happy                                              https://i.redd.it/bibbhc81dza21.jpg\n",
      "girlskissing         Actress Yolanthe Cabaut showing off her tongue skills https://gfycat.com/WindyPoliticalBudgie\n",
      "anal                 Hot Anal For Jynx                                  https://gfycat.com/ScaredBoilingCockerspaniel\n",
      "GodPussy             Great breakfast for good boys 😂 [F]                https://i.imgur.com/DYf119l.jpg\n",
      "burstingout          Small girl with a large chest.                     https://i.redd.it/y0fp9lvpr1b21.png\n",
      "Innie                Sorry [f]or posting so much. Last one for the day, close up per request https://i.redd.it/rvgvjqzwt2b21.jpg\n",
      "wifesharing          Poised and ready. 😈                                https://i.redd.it/3zrod7thz1b21.jpg\n",
      "amateurgirlsbigcocks My favorite cock                                   https://i.imgur.com/ggOpDLW.jpg\n",
      "deepthroat           Hold me down 😇💕                                    https://gfycat.com/VainEmbellishedArctichare\n",
      "GoneWildTrans        Go easy on me, it’s my first post!                 https://i.redd.it/qm67j0lzr2b21.jpg\n",
      "boltedontits         Fishnet Babe                                       https://gfycat.com/badslighthornbill\n",
      "SexyFrex             Makeup-free Kesha selfie                           https://i.imgur.com/Wz2N9p3.jpg\n",
      "grool                Yes. It has sound. Enjoy! [OC]                     https://gfycat.com/InnocentDelectableCurassow\n",
      "Overwatch_Porn       Mercy Sugar Plum playing with her boobs (Bewyx)    https://gfycat.com/SorrowfulDiscreteAngwantibo\n",
      "AsianHotties         🍯 Cute                                             https://i.redd.it/fuv3cn6cu2b21.jpg\n",
      "NSFWFunny            Mia Malkova got a ride to work from her mom and she stayed to watch her daughter suck dick https://gfycat.com/GleefulInfantileFinnishspitz\n",
      "asstastic            Waiting for you to use me [f]                      https://i.imgur.com/sxuUSW5.png\n",
      "CuteLittleButts      I was told I would not get any hate from here. If it turns out well, I’ll post more ❤️ https://i.imgur.com/c1EQws9.jpg\n",
      "thighdeology         Maid in lingerie                                   https://i.redd.it/25evl675g0b21.jpg\n",
      "GWNerdy              Tonight's DnD out[f]it                             https://i.imgur.com/dAs4tCp.jpg\n",
      "gonewildcurvy        Bouncin'                                           https://gfycat.com/MiserableGlumChimneyswift\n",
      "boobbounce           Ride of a lifetime                                 https://i.redd.it/u0aqtyqvk1b21.gif\n",
      "chubby               Cake for breakfast anyone? 🍰 Check out my profile for more pics and follow me 🍑 Laylagotback https://i.redd.it/tu8x2ozeg1b21.jpg\n",
      "facedownassup        Love to be bent like this                          https://i.imgur.com/mhqcI4C.jpg\n",
      "overlord             lewd the Doppelganger                              https://i.redd.it/r8mzso7mp1b21.jpg\n",
      "60fpsporn            spanking ( with sound)                             https://gfycat.com/UniqueGreatEnglishpointer\n",
      "quiver               Anal quiver                                        https://gfycat.com/palepeskybeardedcollie\n",
      "2busty2hide          Incredible bust                                    http://i.imgur.com/o2Ol8z2.jpg\n",
      "RWBYNSFW             Weiss thoroughly filled (Sinccubi)                 https://i.redd.it/lom4hwa0d2b21.jpg\n",
      "NostalgiaFapping     Julianna Guill in Friday the 13th                  https://gfycat.com/spottedraggedfinnishspitz\n",
      "HungryButts          lazy day at home                                   https://i.redd.it/e22wl4sv93b21.jpg\n",
      "milf                 Do soft mom bods make you hard? 😉                  https://i.redd.it/dc7wirkdkza21.jpg\n",
      "fitgirls             Shyness                                            https://i.redd.it/4if0nqjlx1b21.jpg\n",
      "yiff                 Lesbian Couples Are The Cutest [FF] (Iskra)        https://i.redd.it/y5mt1tecl1b21.jpg\n",
      "BelleDelphine        Neat image.                                        https://i.redd.it/ul45y65ax2b21.jpg\n",
      "PetiteGoneWild       Any day is a good day to be nude [f]               https://i.imgur.com/GE1zZ6S.jpg\n",
      "lesbians             Twinning                                           https://i.imgur.com/Qh2U1M8.gifv\n",
      "HENTAI_GIF           [Kyonyuu Hitozuma Onna Kyoushi Saimin]             https://gfycat.com/WellinformedInfatuatedFrog\n",
      "onmww                Call in sick, I’ve got plans for you. 🔥(f45)       https://i.redd.it/7wngwbjqy3b21.jpg\n",
      "squirting            Cute Melody Wylde squirting on a glass table [AUDIO] https://gfycat.com/WeepyGiddyFieldmouse\n"
     ]
    }
   ],
   "source": [
    "#qp.pop('after', None)\n",
    "for i in range(10):\n",
    "    for sr, title, durl in nsfw(qp):\n",
    "        print(\"%-20s %-50s %s\" % (sr, title, durl))\n",
    "        if durl[-4] != \".\":\n",
    "            imgs.append(hsrc%(sr, title, durl, durl))\n",
    "        else:\n",
    "            imgs.append(isrc%(sr, title, durl))\n",
    "        \n",
    "with open(\"C:\\\\Users\\\\Administrator\\\\Documents\\\\personal\\\\pix.html\", 'wb') as f:\n",
    "    f.write((base%\"\\n\".join(imgs)).encode('utf-8'))"
   ]
  },
  {
   "cell_type": "code",
   "execution_count": 18,
   "metadata": {},
   "outputs": [],
   "source": [
    "with open(\"C:\\\\Users\\\\Administrator\\\\Documents\\\\personal\\\\pix.html\", 'wb') as f:\n",
    "    f.write((base%\"\\n\".join(imgs)).encode('utf-8'))"
   ]
  },
  {
   "cell_type": "code",
   "execution_count": 15,
   "metadata": {},
   "outputs": [
    {
     "name": "stdout",
     "output_type": "stream",
     "text": [
      "<h3>rule34: Peni Parker (Spiderman) [BADCOMPZERO]</h3>\n",
      "<img src=\"https://i.imgur.com/XV6GvOR.jpg\">\n",
      "<h3>goddesses: Lily Ivy</h3>\n",
      "<img src=\"https://i.redd.it/v5zz4qxc63b21.jpg\">\n",
      "<h3>askscience: Are genitalia sexualized differently in cultures where standards of clothing differ greatly from Western standards?</h3>\n",
      "<img src=\"https://old.reddit.com/r/askscience/comments/ah0fj9/are_genitalia_sexualized_differently_in_cultures/\">\n",
      "<h3>theratio: Felt like this pose accentuated my hourglass shape!</h3>\n",
      "<img src=\"http://i.imgur.com/p6JIoej.jpg\">\n",
      "<h3>collegesluts: This dress is perfect for a quickie before class 😋 [oc]</h3>\n",
      "<img src=\"https://i.imgur.com/L3nyE3x.jpg\">\n",
      "<h3>pawg: Janie.Fit always showing off her PAWG status</h3>\n",
      "<img src=\"https://i.redd.it/1eltfuidr2b21.jpg\">\n",
      "<h3>PetiteGoneWild: Petite but strong 🏋️‍♀️ [f]</h3>\n",
      "<img src=\"https://i.redd.it/govgzzwbm1b21.jpg\">\n",
      "<h3>18_19: (F) 18 4'9 90lbs overly horny and having fun showing off and getting attention. Like what you see?</h3>\n",
      "<img src=\"https://i.redd.it/e0p4wtrv52b21.png\">\n"
     ]
    }
   ],
   "source": [
    "print(\"\\n\".join(imgs))"
   ]
  },
  {
   "cell_type": "code",
   "execution_count": null,
   "metadata": {
    "collapsed": true
   },
   "outputs": [],
   "source": []
  }
 ],
 "metadata": {
  "kernelspec": {
   "display_name": "Python 3",
   "language": "python",
   "name": "python3"
  },
  "language_info": {
   "codemirror_mode": {
    "name": "ipython",
    "version": 3
   },
   "file_extension": ".py",
   "mimetype": "text/x-python",
   "name": "python",
   "nbconvert_exporter": "python",
   "pygments_lexer": "ipython3",
   "version": "3.6.1"
  }
 },
 "nbformat": 4,
 "nbformat_minor": 2
}
