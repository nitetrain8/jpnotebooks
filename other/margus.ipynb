{
 "cells": [
  {
   "cell_type": "code",
   "execution_count": 15,
   "metadata": {},
   "outputs": [
    {
     "name": "stdout",
     "output_type": "stream",
     "text": [
      "The autoreload extension is already loaded. To reload it, use:\n",
      "  %reload_ext autoreload\n"
     ]
    }
   ],
   "source": [
    "from jpnotebooks.other.wql import *\n",
    "import collections\n",
    "import types\n",
    "import datetime\n",
    "import itertools\n",
    "import time\n",
    "%load_ext autoreload\n",
    "%autoreload 2"
   ]
  },
  {
   "cell_type": "code",
   "execution_count": 16,
   "metadata": {},
   "outputs": [],
   "source": [
    "MIDNA = 'Mîdna'\n",
    "SERVER = 'Turalyon'\n",
    "OWNER = \"nintendobratkat\"\n",
    "GUILD = \"Synthesis\"\n",
    "ZONE = \"Tomb of Sargeras\"\n",
    "MYTHIC = 5\n",
    "api_key = \"192b298b50ad53497d9f2b4ce7910af2\"\n",
    "\n",
    "try:\n",
    "    zraw\n",
    "except NameError:\n",
    "    zraw = Api(api_key).zones._raw\n",
    "    \n",
    "def connect(api_key=api_key):\n",
    "    global api\n",
    "    api = Api(api_key)\n",
    "    api.zones_ = Zones(api, zraw)\n",
    "    return api\n",
    "\n",
    "def pd(o):  # printdir\n",
    "    for a in dir(o):\n",
    "        if not a.startswith(\"__\"):\n",
    "            v = getattr(o,a,\"<Error>\")\n",
    "            if not isinstance(v, (types.FunctionType, types.MethodType)):\n",
    "                print(a, \"::\", v)\n",
    "\n",
    "                \n",
    "# TODO: move these to wql.py once I'm confident they works properly\n",
    "\n",
    "\n",
    "def _clstrfk(events, l):\n",
    "    try:\n",
    "        _clstrfk2(events, l)\n",
    "    except ValueError:\n",
    "        for c in l:\n",
    "            for e in c:\n",
    "                print(e.timestamp, actor(f, e))\n",
    "            print()\n",
    "    return l\n",
    "    \n",
    "def _clstrfk2(events, l):\n",
    "    # debug sanity check\n",
    "    seen = set()\n",
    "    evd = dict.fromkeys(events, False)\n",
    "    for c in l:\n",
    "        for e in c:\n",
    "            if evd[e] == True:\n",
    "                raise ValueError(\"Duplicate event!\")\n",
    "            evd[e] = True\n",
    "            \n",
    "def cluster2(events, before=100, after=100):\n",
    "    l = set()\n",
    "    for e in events:\n",
    "        l.add(tuple(events_near(events, e, before, after)))\n",
    "    _clstrfk(events, l)\n",
    "    return sorted(map(list,l), key=lambda c: c[0].timestamp)\n",
    "\n",
    "def cluster(events, before=100, after=100):\n",
    "    l = cluster2(events, before, after)\n",
    "    l = [(c[0].timestamp, c) for c in l]\n",
    "    return sorted(l, key=lambda t: t[0])\n",
    "   \n",
    "def hms2(t):\n",
    "    t = t / 1000\n",
    "    h = t // 3600\n",
    "    m = (t-3600*h) // 60\n",
    "    s = (t-3600*h-60*m)\n",
    "    ms = (s - int(s))*1000\n",
    "    return \"%.2d:%.2d.%.3d\" %(m,s, ms)\n",
    "                \n",
    "connect()\n",
    "api.verbose = False"
   ]
  },
  {
   "cell_type": "code",
   "execution_count": 17,
   "metadata": {
    "collapsed": true
   },
   "outputs": [],
   "source": [
    "def deaths_near_bad(f, *bad, before=100, after=10000, cutoff=8):\n",
    "    fs_deaths = 'type=\"death\"'\n",
    "    deaths = [e for e in f.events(fs_deaths, cutoff=cutoff) if e.targetID and f.actor(e.targetID).is_player()]\n",
    "    fs_bads = 'type=\"damage\" AND (%s)' % \" OR \".join('ability.name=\"%s\"'%b for b in bad)\n",
    "    bads = f.events(fs_bads, cutoff=cutoff)\n",
    "    fails = set()\n",
    "    for d in deaths:\n",
    "        t = tuple(events_near(bads, d, before, after)), d\n",
    "        fails.add(t)\n",
    "    return fails\n",
    "\n",
    "def deaths_near_bad2(f, *bad, before=100, after=10000, cutoff=8):\n",
    "    fails = deaths_near_bad(f, *bad, before=before, after=after, cutoff=cutoff)\n",
    "    fails2 = set()\n",
    "    deaths = set()\n",
    "    for ev, d in fails:\n",
    "        fails2.update(ev)\n",
    "        deaths.add(d)\n",
    "    key = lambda e: e.timestamp\n",
    "    return sorted(fails2, key=key), sorted(deaths, key=key)\n",
    "\n",
    "def hit_by_bad(f, *bad, cutoff=8):\n",
    "    fs = 'type=\"damage\" AND (%s)' % \" OR \".join('ability.name=\"%s\"'%b for b in bad)\n",
    "    return f.events(fs, cutoff=cutoff)"
   ]
  },
  {
   "cell_type": "code",
   "execution_count": 18,
   "metadata": {
    "collapsed": true
   },
   "outputs": [],
   "source": [
    "cache = {}\n",
    "def get(url):\n",
    "    global cache\n",
    "    if url in cache:\n",
    "        return cache[url]\n",
    "    rv = api.sess.request(\"GET\", url).content.decode()\n",
    "    cache[url] = rv\n",
    "    return rv\n",
    "def query(s):\n",
    "    return pyquery.PyQuery(s)(\"#reports-table > tbody > tr\")"
   ]
  },
  {
   "cell_type": "code",
   "execution_count": 19,
   "metadata": {
    "collapsed": true
   },
   "outputs": [],
   "source": [
    "def throttle(t):\n",
    "    def _throttle(f):\n",
    "        l = time.time()\n",
    "        n = l + t\n",
    "        def func(*args, **kw):\n",
    "            c = time.time()\n",
    "            s = n-c\n",
    "            if s > 0:\n",
    "                time.sleep(s)\n",
    "            try:\n",
    "                rv = f(*args, **kw)\n",
    "            finally:\n",
    "                l = c\n",
    "                n = c + t\n",
    "            return rv\n",
    "        return func\n",
    "    return _throttle\n",
    "\n",
    "@throttle(1/3)\n",
    "def hf(id_):\n",
    "    fights = api.fights(id_)\n",
    "    if fights.find(kill=True, difficulty=5, boss=2038).fights:\n",
    "        return True"
   ]
  },
  {
   "cell_type": "code",
   "execution_count": 20,
   "metadata": {
    "collapsed": true
   },
   "outputs": [],
   "source": [
    "reports =api.reports(GUILD, SERVER, \"US\")\n",
    "report_margus = reports.find(id=\"nC1YMGzb9kQwdDV6\")\n",
    "fights = report_margus.reports[0].fights()\n",
    "f = fights.fights[0]"
   ]
  },
  {
   "cell_type": "code",
   "execution_count": 124,
   "metadata": {
    "collapsed": true
   },
   "outputs": [],
   "source": [
    "def event_damage(*abilities):\n",
    "    tmpl = \"ability.name=\\\"%s\\\"\"\n",
    "    al = [tmpl%a for a in abilities]\n",
    "    base = \" OR \".join(al)\n",
    "    return \"(type=\\\"damage\\\" AND (%s))\"%base\n",
    "    \n",
    "def crushing_fear():\n",
    "    cf = 'ability.name=\"Crushing Fear\"'\n",
    "    tmpl = '(type=\"%s\")'\n",
    "    evt = \"damage\", \"applydebuff\", \"applydebuffstack\", \"removedebuff\"\n",
    "    fs = \"%s AND (%s)\"%(cf, \" OR \".join(map(tmpl.__mod__, evt)))\n",
    "    return fs"
   ]
  },
  {
   "cell_type": "code",
   "execution_count": 80,
   "metadata": {},
   "outputs": [],
   "source": [
    "pstatus = {player.name: collections.defaultdict(lambda: 0) for player in f.friendlies.players().friendlies}\n",
    "pdamage = {player.name: 0 for player in f.friendlies.players().friendlies}"
   ]
  },
  {
   "cell_type": "code",
   "execution_count": 168,
   "metadata": {
    "collapsed": true
   },
   "outputs": [],
   "source": [
    "def actor(f, id):\n",
    "    return f.actor(id).name\n",
    "\n",
    "def fear_damage(f, cutoff, fs=crushing_fear()):\n",
    "    pstatus = {player.name: 0 for player in f.friendlies.players().friendlies}\n",
    "    admg = {player.name: 0 for player in f.friendlies.players().friendlies}\n",
    "    ntick = {player.name: 0 for player in f.friendlies.players().friendlies}\n",
    "    fdmg = {player.name: 0 for player in f.friendlies.players().friendlies}\n",
    "    _actor = actor\n",
    "    for e in f.events(fs, cutoff=cutoff):\n",
    "        name = _actor(f, e.targetID)\n",
    "        if e.type == \"damage\":\n",
    "            stacks = pstatus[name]\n",
    "            if stacks > 1:\n",
    "                ticks = ntick[name]\n",
    "                if not ticks:\n",
    "                    ad = 400000  # base damage\n",
    "                else:\n",
    "                    ad = admg[name] / ticks\n",
    "                fdmg[name] += e.amount + e.absorbed - ad\n",
    "            else:\n",
    "                ntick[name] += 1\n",
    "                admg[name] += e.amount + e.absorbed\n",
    "        elif e.type == \"applydebuff\":\n",
    "            pstatus[name] += 1\n",
    "        elif e.type == \"applydebuffstack\":\n",
    "            pstatus[name] = int(e.stack)\n",
    "        elif e.type == \"removedebuff\":\n",
    "            pstatus[name] = 0\n",
    "        else:\n",
    "            raise TypeError(e.type)\n",
    "    return fdmg"
   ]
  },
  {
   "cell_type": "code",
   "execution_count": 169,
   "metadata": {
    "scrolled": true
   },
   "outputs": [],
   "source": [
    "f = fights[4]\n",
    "_=fear_damage(f, 4)\n",
    "#f.events(crushing_fear())"
   ]
  },
  {
   "cell_type": "code",
   "execution_count": 170,
   "metadata": {},
   "outputs": [
    {
     "name": "stdout",
     "output_type": "stream",
     "text": [
      "Requesting '/report/events/nC1YMGzb9kQwdDV6?start=315225&end=606076&filter=%28type%3D%22damage%22+AND+%28ability.name%3D%22Death+Fog%22+OR+ability.name%3D%22Unleashed+Rage%22+OR+ability.name%3D%22Edge+of+Annihiliation%22%29%29&cutoff=10&api_key=192b298b50ad53497d9f2b4ce7910af2'\n",
      "Requesting '/report/events/nC1YMGzb9kQwdDV6?start=315225&end=606076&filter=ability.name%3D%22Crushing+Fear%22+AND+%28%28type%3D%22damage%22%29+OR+%28type%3D%22applydebuff%22%29+OR+%28type%3D%22applydebuffstack%22%29+OR+%28type%3D%22removedebuff%22%29+OR+%28type%3D%22removedebuffstack%22%29%29&cutoff=10&api_key=192b298b50ad53497d9f2b4ce7910af2'\n",
      "Requesting '/report/events/nC1YMGzb9kQwdDV6?start=866129&end=1349451&filter=%28type%3D%22damage%22+AND+%28ability.name%3D%22Death+Fog%22+OR+ability.name%3D%22Unleashed+Rage%22+OR+ability.name%3D%22Edge+of+Annihiliation%22%29%29&cutoff=18&api_key=192b298b50ad53497d9f2b4ce7910af2'\n",
      "Requesting '/report/events/nC1YMGzb9kQwdDV6?start=1081115&end=1349451&filter=%28type%3D%22damage%22+AND+%28ability.name%3D%22Death+Fog%22+OR+ability.name%3D%22Unleashed+Rage%22+OR+ability.name%3D%22Edge+of+Annihiliation%22%29%29&cutoff=18&api_key=192b298b50ad53497d9f2b4ce7910af2'\n",
      "Requesting '/report/events/nC1YMGzb9kQwdDV6?start=866129&end=1349451&filter=ability.name%3D%22Crushing+Fear%22+AND+%28%28type%3D%22damage%22%29+OR+%28type%3D%22applydebuff%22%29+OR+%28type%3D%22applydebuffstack%22%29+OR+%28type%3D%22removedebuff%22%29+OR+%28type%3D%22removedebuffstack%22%29%29&cutoff=18&api_key=192b298b50ad53497d9f2b4ce7910af2'\n",
      "Requesting '/report/events/nC1YMGzb9kQwdDV6?start=1098051&end=1349451&filter=ability.name%3D%22Crushing+Fear%22+AND+%28%28type%3D%22damage%22%29+OR+%28type%3D%22applydebuff%22%29+OR+%28type%3D%22applydebuffstack%22%29+OR+%28type%3D%22removedebuff%22%29+OR+%28type%3D%22removedebuffstack%22%29%29&cutoff=18&api_key=192b298b50ad53497d9f2b4ce7910af2'\n",
      "Requesting '/report/events/nC1YMGzb9kQwdDV6?start=1695820&end=1799303&filter=%28type%3D%22damage%22+AND+%28ability.name%3D%22Death+Fog%22+OR+ability.name%3D%22Unleashed+Rage%22+OR+ability.name%3D%22Edge+of+Annihiliation%22%29%29&cutoff=5&api_key=192b298b50ad53497d9f2b4ce7910af2'\n",
      "Requesting '/report/events/nC1YMGzb9kQwdDV6?start=1905376&end=2002013&filter=%28type%3D%22damage%22+AND+%28ability.name%3D%22Death+Fog%22+OR+ability.name%3D%22Unleashed+Rage%22+OR+ability.name%3D%22Edge+of+Annihiliation%22%29%29&cutoff=3&api_key=192b298b50ad53497d9f2b4ce7910af2'\n",
      "Requesting '/report/events/nC1YMGzb9kQwdDV6?start=1905376&end=2002013&filter=ability.name%3D%22Crushing+Fear%22+AND+%28%28type%3D%22damage%22%29+OR+%28type%3D%22applydebuff%22%29+OR+%28type%3D%22applydebuffstack%22%29+OR+%28type%3D%22removedebuff%22%29+OR+%28type%3D%22removedebuffstack%22%29%29&cutoff=3&api_key=192b298b50ad53497d9f2b4ce7910af2'\n",
      "Requesting '/report/events/nC1YMGzb9kQwdDV6?start=2100207&end=2415546&filter=%28type%3D%22damage%22+AND+%28ability.name%3D%22Death+Fog%22+OR+ability.name%3D%22Unleashed+Rage%22+OR+ability.name%3D%22Edge+of+Annihiliation%22%29%29&cutoff=13&api_key=192b298b50ad53497d9f2b4ce7910af2'\n",
      "Requesting '/report/events/nC1YMGzb9kQwdDV6?start=2197388&end=2415546&filter=%28type%3D%22damage%22+AND+%28ability.name%3D%22Death+Fog%22+OR+ability.name%3D%22Unleashed+Rage%22+OR+ability.name%3D%22Edge+of+Annihiliation%22%29%29&cutoff=13&api_key=192b298b50ad53497d9f2b4ce7910af2'\n",
      "Requesting '/report/events/nC1YMGzb9kQwdDV6?start=2242836&end=2415546&filter=%28type%3D%22damage%22+AND+%28ability.name%3D%22Death+Fog%22+OR+ability.name%3D%22Unleashed+Rage%22+OR+ability.name%3D%22Edge+of+Annihiliation%22%29%29&cutoff=13&api_key=192b298b50ad53497d9f2b4ce7910af2'\n",
      "Requesting '/report/events/nC1YMGzb9kQwdDV6?start=2100207&end=2415546&filter=ability.name%3D%22Crushing+Fear%22+AND+%28%28type%3D%22damage%22%29+OR+%28type%3D%22applydebuff%22%29+OR+%28type%3D%22applydebuffstack%22%29+OR+%28type%3D%22removedebuff%22%29+OR+%28type%3D%22removedebuffstack%22%29%29&cutoff=13&api_key=192b298b50ad53497d9f2b4ce7910af2'\n",
      "Requesting '/report/events/nC1YMGzb9kQwdDV6?start=2229575&end=2415546&filter=ability.name%3D%22Crushing+Fear%22+AND+%28%28type%3D%22damage%22%29+OR+%28type%3D%22applydebuff%22%29+OR+%28type%3D%22applydebuffstack%22%29+OR+%28type%3D%22removedebuff%22%29+OR+%28type%3D%22removedebuffstack%22%29%29&cutoff=13&api_key=192b298b50ad53497d9f2b4ce7910af2'\n",
      "Requesting '/report/events/nC1YMGzb9kQwdDV6?start=2611234&end=2874057&filter=%28type%3D%22damage%22+AND+%28ability.name%3D%22Death+Fog%22+OR+ability.name%3D%22Unleashed+Rage%22+OR+ability.name%3D%22Edge+of+Annihiliation%22%29%29&cutoff=5&api_key=192b298b50ad53497d9f2b4ce7910af2'\n",
      "Requesting '/report/events/nC1YMGzb9kQwdDV6?start=2611234&end=2874057&filter=ability.name%3D%22Crushing+Fear%22+AND+%28%28type%3D%22damage%22%29+OR+%28type%3D%22applydebuff%22%29+OR+%28type%3D%22applydebuffstack%22%29+OR+%28type%3D%22removedebuff%22%29+OR+%28type%3D%22removedebuffstack%22%29%29&cutoff=5&api_key=192b298b50ad53497d9f2b4ce7910af2'\n",
      "Requesting '/report/events/nC1YMGzb9kQwdDV6?start=2968165&end=3095801&filter=%28type%3D%22damage%22+AND+%28ability.name%3D%22Death+Fog%22+OR+ability.name%3D%22Unleashed+Rage%22+OR+ability.name%3D%22Edge+of+Annihiliation%22%29%29&cutoff=4&api_key=192b298b50ad53497d9f2b4ce7910af2'\n",
      "Requesting '/report/events/nC1YMGzb9kQwdDV6?start=2968165&end=3095801&filter=ability.name%3D%22Crushing+Fear%22+AND+%28%28type%3D%22damage%22%29+OR+%28type%3D%22applydebuff%22%29+OR+%28type%3D%22applydebuffstack%22%29+OR+%28type%3D%22removedebuff%22%29+OR+%28type%3D%22removedebuffstack%22%29%29&cutoff=4&api_key=192b298b50ad53497d9f2b4ce7910af2'\n",
      "Requesting '/report/events/nC1YMGzb9kQwdDV6?start=4185363&end=4402939&filter=%28type%3D%22damage%22+AND+%28ability.name%3D%22Death+Fog%22+OR+ability.name%3D%22Unleashed+Rage%22+OR+ability.name%3D%22Edge+of+Annihiliation%22%29%29&cutoff=5&api_key=192b298b50ad53497d9f2b4ce7910af2'\n",
      "Requesting '/report/events/nC1YMGzb9kQwdDV6?start=4185363&end=4402939&filter=ability.name%3D%22Crushing+Fear%22+AND+%28%28type%3D%22damage%22%29+OR+%28type%3D%22applydebuff%22%29+OR+%28type%3D%22applydebuffstack%22%29+OR+%28type%3D%22removedebuff%22%29+OR+%28type%3D%22removedebuffstack%22%29%29&cutoff=5&api_key=192b298b50ad53497d9f2b4ce7910af2'\n",
      "Requesting '/report/events/nC1YMGzb9kQwdDV6?start=4793585&end=4883900&filter=%28type%3D%22damage%22+AND+%28ability.name%3D%22Death+Fog%22+OR+ability.name%3D%22Unleashed+Rage%22+OR+ability.name%3D%22Edge+of+Annihiliation%22%29%29&cutoff=2&api_key=192b298b50ad53497d9f2b4ce7910af2'\n",
      "Requesting '/report/events/nC1YMGzb9kQwdDV6?start=4793585&end=4883900&filter=ability.name%3D%22Crushing+Fear%22+AND+%28%28type%3D%22damage%22%29+OR+%28type%3D%22applydebuff%22%29+OR+%28type%3D%22applydebuffstack%22%29+OR+%28type%3D%22removedebuff%22%29+OR+%28type%3D%22removedebuffstack%22%29%29&cutoff=2&api_key=192b298b50ad53497d9f2b4ce7910af2'\n",
      "Requesting '/report/events/nC1YMGzb9kQwdDV6?start=4986127&end=5055283&filter=%28type%3D%22damage%22+AND+%28ability.name%3D%22Death+Fog%22+OR+ability.name%3D%22Unleashed+Rage%22+OR+ability.name%3D%22Edge+of+Annihiliation%22%29%29&cutoff=3&api_key=192b298b50ad53497d9f2b4ce7910af2'\n",
      "Requesting '/report/events/nC1YMGzb9kQwdDV6?start=4986127&end=5055283&filter=ability.name%3D%22Crushing+Fear%22+AND+%28%28type%3D%22damage%22%29+OR+%28type%3D%22applydebuff%22%29+OR+%28type%3D%22applydebuffstack%22%29+OR+%28type%3D%22removedebuff%22%29+OR+%28type%3D%22removedebuffstack%22%29%29&cutoff=3&api_key=192b298b50ad53497d9f2b4ce7910af2'\n",
      "Requesting '/report/events/nC1YMGzb9kQwdDV6?start=5239563&end=5482634&filter=%28type%3D%22damage%22+AND+%28ability.name%3D%22Death+Fog%22+OR+ability.name%3D%22Unleashed+Rage%22+OR+ability.name%3D%22Edge+of+Annihiliation%22%29%29&cutoff=10&api_key=192b298b50ad53497d9f2b4ce7910af2'\n",
      "Requesting '/report/events/nC1YMGzb9kQwdDV6?start=5239563&end=5482634&filter=ability.name%3D%22Crushing+Fear%22+AND+%28%28type%3D%22damage%22%29+OR+%28type%3D%22applydebuff%22%29+OR+%28type%3D%22applydebuffstack%22%29+OR+%28type%3D%22removedebuff%22%29+OR+%28type%3D%22removedebuffstack%22%29%29&cutoff=10&api_key=192b298b50ad53497d9f2b4ce7910af2'\n",
      "Requesting '/report/events/nC1YMGzb9kQwdDV6?start=5469564&end=5482634&filter=ability.name%3D%22Crushing+Fear%22+AND+%28%28type%3D%22damage%22%29+OR+%28type%3D%22applydebuff%22%29+OR+%28type%3D%22applydebuffstack%22%29+OR+%28type%3D%22removedebuff%22%29+OR+%28type%3D%22removedebuffstack%22%29%29&cutoff=10&api_key=192b298b50ad53497d9f2b4ce7910af2'\n",
      "Requesting '/report/events/nC1YMGzb9kQwdDV6?start=5590338&end=5866947&filter=%28type%3D%22damage%22+AND+%28ability.name%3D%22Death+Fog%22+OR+ability.name%3D%22Unleashed+Rage%22+OR+ability.name%3D%22Edge+of+Annihiliation%22%29%29&cutoff=10&api_key=192b298b50ad53497d9f2b4ce7910af2'\n"
     ]
    },
    {
     "name": "stdout",
     "output_type": "stream",
     "text": [
      "Requesting '/report/events/nC1YMGzb9kQwdDV6?start=5590338&end=5866947&filter=ability.name%3D%22Crushing+Fear%22+AND+%28%28type%3D%22damage%22%29+OR+%28type%3D%22applydebuff%22%29+OR+%28type%3D%22applydebuffstack%22%29+OR+%28type%3D%22removedebuff%22%29+OR+%28type%3D%22removedebuffstack%22%29%29&cutoff=10&api_key=192b298b50ad53497d9f2b4ce7910af2'\n",
      "Requesting '/report/events/nC1YMGzb9kQwdDV6?start=5994389&end=6086037&filter=%28type%3D%22damage%22+AND+%28ability.name%3D%22Death+Fog%22+OR+ability.name%3D%22Unleashed+Rage%22+OR+ability.name%3D%22Edge+of+Annihiliation%22%29%29&cutoff=2&api_key=192b298b50ad53497d9f2b4ce7910af2'\n",
      "Requesting '/report/events/nC1YMGzb9kQwdDV6?start=5994389&end=6086037&filter=ability.name%3D%22Crushing+Fear%22+AND+%28%28type%3D%22damage%22%29+OR+%28type%3D%22applydebuff%22%29+OR+%28type%3D%22applydebuffstack%22%29+OR+%28type%3D%22removedebuff%22%29+OR+%28type%3D%22removedebuffstack%22%29%29&cutoff=2&api_key=192b298b50ad53497d9f2b4ce7910af2'\n",
      "Requesting '/report/events/nC1YMGzb9kQwdDV6?start=6220922&end=6682296&filter=%28type%3D%22damage%22+AND+%28ability.name%3D%22Death+Fog%22+OR+ability.name%3D%22Unleashed+Rage%22+OR+ability.name%3D%22Edge+of+Annihiliation%22%29%29&cutoff=11&api_key=192b298b50ad53497d9f2b4ce7910af2'\n",
      "Requesting '/report/events/nC1YMGzb9kQwdDV6?start=6495319&end=6682296&filter=%28type%3D%22damage%22+AND+%28ability.name%3D%22Death+Fog%22+OR+ability.name%3D%22Unleashed+Rage%22+OR+ability.name%3D%22Edge+of+Annihiliation%22%29%29&cutoff=11&api_key=192b298b50ad53497d9f2b4ce7910af2'\n",
      "Requesting '/report/events/nC1YMGzb9kQwdDV6?start=6220922&end=6682296&filter=ability.name%3D%22Crushing+Fear%22+AND+%28%28type%3D%22damage%22%29+OR+%28type%3D%22applydebuff%22%29+OR+%28type%3D%22applydebuffstack%22%29+OR+%28type%3D%22removedebuff%22%29+OR+%28type%3D%22removedebuffstack%22%29%29&cutoff=11&api_key=192b298b50ad53497d9f2b4ce7910af2'\n",
      "Requesting '/report/events/nC1YMGzb9kQwdDV6?start=6332160&end=6682296&filter=ability.name%3D%22Crushing+Fear%22+AND+%28%28type%3D%22damage%22%29+OR+%28type%3D%22applydebuff%22%29+OR+%28type%3D%22applydebuffstack%22%29+OR+%28type%3D%22removedebuff%22%29+OR+%28type%3D%22removedebuffstack%22%29%29&cutoff=11&api_key=192b298b50ad53497d9f2b4ce7910af2'\n",
      "Requesting '/report/events/nC1YMGzb9kQwdDV6?start=6922444&end=7400420&filter=%28type%3D%22damage%22+AND+%28ability.name%3D%22Death+Fog%22+OR+ability.name%3D%22Unleashed+Rage%22+OR+ability.name%3D%22Edge+of+Annihiliation%22%29%29&cutoff=11&api_key=192b298b50ad53497d9f2b4ce7910af2'\n",
      "Requesting '/report/events/nC1YMGzb9kQwdDV6?start=7022654&end=7400420&filter=%28type%3D%22damage%22+AND+%28ability.name%3D%22Death+Fog%22+OR+ability.name%3D%22Unleashed+Rage%22+OR+ability.name%3D%22Edge+of+Annihiliation%22%29%29&cutoff=11&api_key=192b298b50ad53497d9f2b4ce7910af2'\n",
      "Requesting '/report/events/nC1YMGzb9kQwdDV6?start=6922444&end=7400420&filter=ability.name%3D%22Crushing+Fear%22+AND+%28%28type%3D%22damage%22%29+OR+%28type%3D%22applydebuff%22%29+OR+%28type%3D%22applydebuffstack%22%29+OR+%28type%3D%22removedebuff%22%29+OR+%28type%3D%22removedebuffstack%22%29%29&cutoff=11&api_key=192b298b50ad53497d9f2b4ce7910af2'\n",
      "Requesting '/report/events/nC1YMGzb9kQwdDV6?start=7161050&end=7400420&filter=ability.name%3D%22Crushing+Fear%22+AND+%28%28type%3D%22damage%22%29+OR+%28type%3D%22applydebuff%22%29+OR+%28type%3D%22applydebuffstack%22%29+OR+%28type%3D%22removedebuff%22%29+OR+%28type%3D%22removedebuffstack%22%29%29&cutoff=11&api_key=192b298b50ad53497d9f2b4ce7910af2'\n",
      "Requesting '/report/events/nC1YMGzb9kQwdDV6?start=7609331&end=7709012&filter=%28type%3D%22damage%22+AND+%28ability.name%3D%22Death+Fog%22+OR+ability.name%3D%22Unleashed+Rage%22+OR+ability.name%3D%22Edge+of+Annihiliation%22%29%29&cutoff=4&api_key=192b298b50ad53497d9f2b4ce7910af2'\n",
      "Requesting '/report/events/nC1YMGzb9kQwdDV6?start=7609331&end=7709012&filter=ability.name%3D%22Crushing+Fear%22+AND+%28%28type%3D%22damage%22%29+OR+%28type%3D%22applydebuff%22%29+OR+%28type%3D%22applydebuffstack%22%29+OR+%28type%3D%22removedebuff%22%29+OR+%28type%3D%22removedebuffstack%22%29%29&cutoff=4&api_key=192b298b50ad53497d9f2b4ce7910af2'\n",
      "Requesting '/report/events/nC1YMGzb9kQwdDV6?start=7777438&end=7870352&filter=%28type%3D%22damage%22+AND+%28ability.name%3D%22Death+Fog%22+OR+ability.name%3D%22Unleashed+Rage%22+OR+ability.name%3D%22Edge+of+Annihiliation%22%29%29&cutoff=3&api_key=192b298b50ad53497d9f2b4ce7910af2'\n",
      "Requesting '/report/events/nC1YMGzb9kQwdDV6?start=7777438&end=7870352&filter=ability.name%3D%22Crushing+Fear%22+AND+%28%28type%3D%22damage%22%29+OR+%28type%3D%22applydebuff%22%29+OR+%28type%3D%22applydebuffstack%22%29+OR+%28type%3D%22removedebuff%22%29+OR+%28type%3D%22removedebuffstack%22%29%29&cutoff=3&api_key=192b298b50ad53497d9f2b4ce7910af2'\n",
      "Requesting '/report/events/nC1YMGzb9kQwdDV6?start=7962676&end=8088103&filter=%28type%3D%22damage%22+AND+%28ability.name%3D%22Death+Fog%22+OR+ability.name%3D%22Unleashed+Rage%22+OR+ability.name%3D%22Edge+of+Annihiliation%22%29%29&cutoff=6&api_key=192b298b50ad53497d9f2b4ce7910af2'\n",
      "Requesting '/report/events/nC1YMGzb9kQwdDV6?start=7962676&end=8088103&filter=ability.name%3D%22Crushing+Fear%22+AND+%28%28type%3D%22damage%22%29+OR+%28type%3D%22applydebuff%22%29+OR+%28type%3D%22applydebuffstack%22%29+OR+%28type%3D%22removedebuff%22%29+OR+%28type%3D%22removedebuffstack%22%29%29&cutoff=6&api_key=192b298b50ad53497d9f2b4ce7910af2'\n",
      "Requesting '/report/events/nC1YMGzb9kQwdDV6?start=8208343&end=8721515&filter=%28type%3D%22damage%22+AND+%28ability.name%3D%22Death+Fog%22+OR+ability.name%3D%22Unleashed+Rage%22+OR+ability.name%3D%22Edge+of+Annihiliation%22%29%29&cutoff=4&api_key=192b298b50ad53497d9f2b4ce7910af2'\n",
      "Requesting '/report/events/nC1YMGzb9kQwdDV6?start=8911796&end=9018589&filter=%28type%3D%22damage%22+AND+%28ability.name%3D%22Death+Fog%22+OR+ability.name%3D%22Unleashed+Rage%22+OR+ability.name%3D%22Edge+of+Annihiliation%22%29%29&cutoff=3&api_key=192b298b50ad53497d9f2b4ce7910af2'\n",
      "Requesting '/report/events/nC1YMGzb9kQwdDV6?start=8911796&end=9018589&filter=ability.name%3D%22Crushing+Fear%22+AND+%28%28type%3D%22damage%22%29+OR+%28type%3D%22applydebuff%22%29+OR+%28type%3D%22applydebuffstack%22%29+OR+%28type%3D%22removedebuff%22%29+OR+%28type%3D%22removedebuffstack%22%29%29&cutoff=3&api_key=192b298b50ad53497d9f2b4ce7910af2'\n",
      "Requesting '/report/events/nC1YMGzb9kQwdDV6?start=9099392&end=9194227&filter=%28type%3D%22damage%22+AND+%28ability.name%3D%22Death+Fog%22+OR+ability.name%3D%22Unleashed+Rage%22+OR+ability.name%3D%22Edge+of+Annihiliation%22%29%29&cutoff=3&api_key=192b298b50ad53497d9f2b4ce7910af2'\n",
      "Requesting '/report/events/nC1YMGzb9kQwdDV6?start=9099392&end=9194227&filter=ability.name%3D%22Crushing+Fear%22+AND+%28%28type%3D%22damage%22%29+OR+%28type%3D%22applydebuff%22%29+OR+%28type%3D%22applydebuffstack%22%29+OR+%28type%3D%22removedebuff%22%29+OR+%28type%3D%22removedebuffstack%22%29%29&cutoff=3&api_key=192b298b50ad53497d9f2b4ce7910af2'\n",
      "Requesting '/report/events/nC1YMGzb9kQwdDV6?start=9275382&end=9835267&filter=%28type%3D%22damage%22+AND+%28ability.name%3D%22Death+Fog%22+OR+ability.name%3D%22Unleashed+Rage%22+OR+ability.name%3D%22Edge+of+Annihiliation%22%29%29&cutoff=8&api_key=192b298b50ad53497d9f2b4ce7910af2'\n",
      "Requesting '/report/events/nC1YMGzb9kQwdDV6?start=9275382&end=9835267&filter=ability.name%3D%22Crushing+Fear%22+AND+%28%28type%3D%22damage%22%29+OR+%28type%3D%22applydebuff%22%29+OR+%28type%3D%22applydebuffstack%22%29+OR+%28type%3D%22removedebuff%22%29+OR+%28type%3D%22removedebuffstack%22%29%29&cutoff=8&api_key=192b298b50ad53497d9f2b4ce7910af2'\n",
      "Requesting '/report/events/nC1YMGzb9kQwdDV6?start=9433041&end=9835267&filter=ability.name%3D%22Crushing+Fear%22+AND+%28%28type%3D%22damage%22%29+OR+%28type%3D%22applydebuff%22%29+OR+%28type%3D%22applydebuffstack%22%29+OR+%28type%3D%22removedebuff%22%29+OR+%28type%3D%22removedebuffstack%22%29%29&cutoff=8&api_key=192b298b50ad53497d9f2b4ce7910af2'\n",
      "Requesting '/report/events/nC1YMGzb9kQwdDV6?start=9983156&end=10157239&filter=%28type%3D%22damage%22+AND+%28ability.name%3D%22Death+Fog%22+OR+ability.name%3D%22Unleashed+Rage%22+OR+ability.name%3D%22Edge+of+Annihiliation%22%29%29&cutoff=4&api_key=192b298b50ad53497d9f2b4ce7910af2'\n",
      "Requesting '/report/events/nC1YMGzb9kQwdDV6?start=10090771&end=10157239&filter=%28type%3D%22damage%22+AND+%28ability.name%3D%22Death+Fog%22+OR+ability.name%3D%22Unleashed+Rage%22+OR+ability.name%3D%22Edge+of+Annihiliation%22%29%29&cutoff=4&api_key=192b298b50ad53497d9f2b4ce7910af2'\n",
      "Requesting '/report/events/nC1YMGzb9kQwdDV6?start=9983156&end=10157239&filter=ability.name%3D%22Crushing+Fear%22+AND+%28%28type%3D%22damage%22%29+OR+%28type%3D%22applydebuff%22%29+OR+%28type%3D%22applydebuffstack%22%29+OR+%28type%3D%22removedebuff%22%29+OR+%28type%3D%22removedebuffstack%22%29%29&cutoff=4&api_key=192b298b50ad53497d9f2b4ce7910af2'\n"
     ]
    }
   ],
   "source": [
    "pdamage = {}\n",
    "pulls = {}\n",
    "api.verbose = True\n",
    "\n",
    "for f in fights:\n",
    "    fl = f.friendlies.players().friendlies\n",
    "    for pl in fl:\n",
    "        if pl.name not in pdamage:\n",
    "            pdamage[pl.name] = 0\n",
    "            pulls[pl.name] = 0\n",
    "            \n",
    "fs = event_damage(\"Death Fog\", \"Unleashed Rage\", \"Edge of Annihiliation\")\n",
    "for cut, f in zip(cutoffs, fights):\n",
    "    for p in f.friendlies.players().friendlies:\n",
    "        pulls[p.name] += 1\n",
    "    n, c = cut\n",
    "    assert n == f.id\n",
    "    events = f.events(fs, cutoff=c)\n",
    "    for e in events:\n",
    "        damage = e.amount + e.absorbed\n",
    "        player = f.actor(e.targetID).name\n",
    "        pdamage[player] += damage\n",
    "    fdmg = fear_damage(f, c)\n",
    "    for pname in fdmg:\n",
    "        pdamage[pname] += fdmg[pname]\n"
   ]
  },
  {
   "cell_type": "code",
   "execution_count": 171,
   "metadata": {},
   "outputs": [
    {
     "name": "stdout",
     "output_type": "stream",
     "text": [
      "Player         : Total     | Per Pull\n",
      "Lowenherz      : 354.37    | 14.77   \n",
      "Rosael         : 284.75    | 11.86   \n",
      "Kôrboov        : 210.81    | 8.78    \n",
      "Phue           : 198.83    | 8.28    \n",
      "Renewed        : 183.88    | 7.66    \n",
      "Warbill        : 178.38    | 7.43    \n",
      "Namiyo         : 174.05    | 7.25    \n",
      "Midnaught      : 155.33    | 6.47    \n",
      "Dookú          : 147.69    | 6.15    \n",
      "Grasping       : 147.34    | 6.14    \n",
      "Kandlicious    : 140.29    | 5.85    \n",
      "Abearcat       : 138.25    | 5.76    \n",
      "Goblinguide    : 125.96    | 5.25    \n",
      "Shinitai       : 121.73    | 5.07    \n",
      "Owl            : 111.24    | 6.54    \n",
      "Hrothgarth     : 80.50     | 3.50    \n",
      "Ws             : 80.23     | 3.34    \n",
      "Ragemeter      : 78.74     | 9.84    \n",
      "Refanone       : 74.34     | 3.10    \n",
      "Jermaine       : 73.12     | 3.05    \n",
      "Nvrwastaken    : 61.30     | 2.55    \n"
     ]
    }
   ],
   "source": [
    "dmg_taken = list(pdamage.items())\n",
    "dmg_taken.sort(key=lambda t: t[1], reverse=True)\n",
    "fmt = \"%-15s: %-8s  | %-8s\" \n",
    "print(fmt%(\"Player\", \"Total\", \"Per Pull\"))\n",
    "for player, dmg in dmg_taken:\n",
    "    dmg /= 1000000\n",
    "    ppdmg = dmg / pulls[player]\n",
    "    sdmg = \"%.2f\"%dmg\n",
    "    ppsdmg = \"%.2f\"%ppdmg\n",
    "    print(fmt %(player, sdmg, ppsdmg))"
   ]
  },
  {
   "cell_type": "code",
   "execution_count": 176,
   "metadata": {},
   "outputs": [
    {
     "data": {
      "text/plain": [
       "True"
      ]
     },
     "execution_count": 176,
     "metadata": {},
     "output_type": "execute_result"
    }
   ],
   "source": [
    "f.friendlies.friendlies[0].is_player()"
   ]
  },
  {
   "cell_type": "code",
   "execution_count": 183,
   "metadata": {},
   "outputs": [
    {
     "name": "stdout",
     "output_type": "stream",
     "text": [
      "Dookú\n",
      "Dookú\n",
      "Kôrboov\n",
      "Abearcat\n"
     ]
    }
   ],
   "source": [
    "players = list(fights[4].friendlies.players().id2f)\n",
    "ed = [e for e in fights[4].events('type=\"death\"', cutoff=4) if e.targetID in players]\n",
    "for e in ed:\n",
    "    print(actor(fights[4], e.targetID))"
   ]
  },
  {
   "cell_type": "code",
   "execution_count": 104,
   "metadata": {},
   "outputs": [
    {
     "data": {
      "text/plain": [
       "'Kôrboov'"
      ]
     },
     "execution_count": 104,
     "metadata": {},
     "output_type": "execute_result"
    }
   ],
   "source": [
    "dmg_taken[0]"
   ]
  },
  {
   "cell_type": "code",
   "execution_count": 95,
   "metadata": {
    "collapsed": true
   },
   "outputs": [],
   "source": [
    "cutoffs = [\n",
    "    (1, 3),\n",
    "    (2, 10),\n",
    "    (3, 18),\n",
    "    (4, 5),\n",
    "    (5, 3),\n",
    "    (6, 13),\n",
    "    (7, 5),\n",
    "    (8, 4),\n",
    "    (9, 5),\n",
    "    (10, 2),\n",
    "    (11, 3),\n",
    "    (12, 10),\n",
    "    (13, 10),\n",
    "    (14, 2),\n",
    "    (15, 11),\n",
    "    (16, 11),\n",
    "    (17, 4),\n",
    "    (18, 3),\n",
    "    (19, 6),\n",
    "    (20, 4),\n",
    "    (21, 3),\n",
    "    (22, 3),\n",
    "    (23, 8),\n",
    "    (24, 4),\n",
    "]"
   ]
  },
  {
   "cell_type": "code",
   "execution_count": 81,
   "metadata": {},
   "outputs": [],
   "source": [
    "import webbrowser\n",
    "\"https://www.warcraftlogs.com/reports/nC1YMGzb9kQwdDV6/#fight=%d&type=deaths\"\n",
    "turl = \"https://www.warcraftlogs.com/reports/nC1YMGzb9kQwdDV6/#fight=%d&type=deaths\"\n",
    "for i in range(1,25):\n",
    "    url = turl%i\n",
    "    webbrowser.open_new_tab(url)"
   ]
  },
  {
   "cell_type": "code",
   "execution_count": 83,
   "metadata": {},
   "outputs": [
    {
     "name": "stdout",
     "output_type": "stream",
     "text": [
      "wiped = [\n",
      "    (1, 0),\n",
      "    (2, 0),\n",
      "    (3, 0),\n",
      "    (4, 0),\n",
      "    (5, 0),\n",
      "    (6, 0),\n",
      "    (7, 0),\n",
      "    (8, 0),\n",
      "    (9, 0),\n",
      "    (10, 0),\n",
      "    (11, 0),\n",
      "    (12, 0),\n",
      "    (13, 0),\n",
      "    (14, 0),\n",
      "    (15, 0),\n",
      "    (16, 0),\n",
      "    (17, 0),\n",
      "    (18, 0),\n",
      "    (19, 0),\n",
      "    (20, 0),\n",
      "    (21, 0),\n",
      "    (22, 0),\n",
      "    (23, 0),\n",
      "    (24, 0),\n",
      "]\n"
     ]
    }
   ],
   "source": [
    "print(\"wiped = [\")\n",
    "for i in range(1,25):\n",
    "    print(\"    (%d, 0),\"%i)\n",
    "print(\"]\")\n",
    "    "
   ]
  },
  {
   "cell_type": "code",
   "execution_count": null,
   "metadata": {
    "collapsed": true
   },
   "outputs": [],
   "source": []
  }
 ],
 "metadata": {
  "kernelspec": {
   "display_name": "Python 3",
   "language": "python",
   "name": "python3"
  },
  "language_info": {
   "codemirror_mode": {
    "name": "ipython",
    "version": 3
   },
   "file_extension": ".py",
   "mimetype": "text/x-python",
   "name": "python",
   "nbconvert_exporter": "python",
   "pygments_lexer": "ipython3",
   "version": "3.6.1"
  }
 },
 "nbformat": 4,
 "nbformat_minor": 2
}
