{
 "cells": [
  {
   "cell_type": "code",
   "execution_count": 1,
   "metadata": {
    "collapsed": true
   },
   "outputs": [],
   "source": [
    "from officelib.xllib import *\n",
    "from officelib import const as c"
   ]
  },
  {
   "cell_type": "code",
   "execution_count": 2,
   "metadata": {
    "collapsed": false
   },
   "outputs": [],
   "source": [
    "xl = Excel()\n",
    "s = xl.Selection"
   ]
  },
  {
   "cell_type": "code",
   "execution_count": 12,
   "metadata": {
    "collapsed": true
   },
   "outputs": [],
   "source": [
    "def after(cell, value, func=lambda arg:arg):\n",
    "    end = cell.End(c.xlDown)\n",
    "    data = [x[0] for x in cell.Parent.Cells.Range(cell, end).Value]\n",
    "    r = next((i for i, d in enumerate(data) if func(d) > value), None)\n",
    "    if r is None:  # Stopiteration\n",
    "        r = len(data) - 1\n",
    "    return r + cell.Row"
   ]
  },
  {
   "cell_type": "code",
   "execution_count": 6,
   "metadata": {
    "collapsed": false
   },
   "outputs": [
    {
     "data": {
      "text/plain": [
       "5"
      ]
     },
     "execution_count": 6,
     "metadata": {},
     "output_type": "execute_result"
    }
   ],
   "source": [
    "from datetime import datetime, timedelta\n",
    "t = datetime(2016, 4, 20, 12, 45) - timedelta(hours=7)\n",
    "def ddt(*args, dt=timedelta(hours=7)):\n",
    "    return (datetime(*args)-dt).timestamp()\n",
    "    \n",
    "def f(v): return v.timestamp()\n",
    "after(s, t.timestamp(), f)"
   ]
  },
  {
   "cell_type": "code",
   "execution_count": 13,
   "metadata": {
    "collapsed": false
   },
   "outputs": [],
   "source": [
    "t = ddt(2016, 4, 20, 11)\n",
    "assert after(s, t, f) == 2\n",
    "assert after(s, ddt(2016, 4, 20, 11, 32), f) == 4\n",
    "assert after(s, ddt(2016, 5, 3, 14), f) == 14560"
   ]
  },
  {
   "cell_type": "code",
   "execution_count": 14,
   "metadata": {
    "collapsed": true
   },
   "outputs": [],
   "source": [
    "s = xl.Selection\n",
    "ws = s.Parent\n",
    "cells = ws.Cells\n",
    "data = cells.Range(s, s.End(c.xlDown).Offset(1,2)).Value"
   ]
  },
  {
   "cell_type": "code",
   "execution_count": 21,
   "metadata": {
    "collapsed": true
   },
   "outputs": [],
   "source": [
    "def avg_data(data):\n",
    "    avg = []\n",
    "    cx, cy = data[0]\n",
    "    idx = 0\n",
    "    td = timedelta(seconds=30)\n",
    "    ld = len(data)\n",
    "    while idx < ld-1:\n",
    "        cx, cy = data[idx]\n",
    "        cur_sum = cy\n",
    "        cur_cnt = 1\n",
    "        x, y = data[idx + cur_cnt]\n",
    "        while x < cx + td:\n",
    "            x, y = data[idx + cur_cnt]\n",
    "            cur_sum += y\n",
    "            cur_cnt += 1\n",
    "            if idx + cur_cnt > ld-1:\n",
    "                break\n",
    "        av = cur_sum / cur_cnt\n",
    "        avg.append((x, av))\n",
    "        idx += 1\n",
    "        \n",
    "    return avg\n",
    "        \n",
    "        \n"
   ]
  },
  {
   "cell_type": "code",
   "execution_count": 22,
   "metadata": {
    "collapsed": false
   },
   "outputs": [],
   "source": [
    "res = avg_data(data)"
   ]
  },
  {
   "cell_type": "code",
   "execution_count": 29,
   "metadata": {
    "collapsed": false
   },
   "outputs": [],
   "source": [
    "cells.Range(xl.Selection, xl.Selection.Offset(len(res), 2)).Value = res"
   ]
  },
  {
   "cell_type": "code",
   "execution_count": null,
   "metadata": {
    "collapsed": true
   },
   "outputs": [],
   "source": []
  }
 ],
 "metadata": {
  "kernelspec": {
   "display_name": "Python 3",
   "language": "python",
   "name": "python3"
  },
  "language_info": {
   "codemirror_mode": {
    "name": "ipython",
    "version": 3
   },
   "file_extension": ".py",
   "mimetype": "text/x-python",
   "name": "python",
   "nbconvert_exporter": "python",
   "pygments_lexer": "ipython3",
   "version": "3.4.1"
  }
 },
 "nbformat": 4,
 "nbformat_minor": 0
}
