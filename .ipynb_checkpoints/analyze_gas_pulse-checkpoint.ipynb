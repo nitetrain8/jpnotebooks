{
 "cells": [
  {
   "cell_type": "code",
   "execution_count": 132,
   "metadata": {
    "collapsed": true
   },
   "outputs": [],
   "source": [
    "from officelib.xllib import *\n",
    "from officelib import const"
   ]
  },
  {
   "cell_type": "code",
   "execution_count": 133,
   "metadata": {
    "collapsed": false
   },
   "outputs": [],
   "source": [
    "def addr(c): \n",
    "    return c.GetAddress(False, False)\n",
    "\n",
    "def sum_pulses(top_cell):\n",
    "    c = top_cell\n",
    "    sum_cells = []\n",
    "    \n",
    "    while True:\n",
    "        c = c.End(const.xlDown)\n",
    "        if c.Offset(1, 0).Value is None:\n",
    "            break  # Ran out of data \n",
    "        if c.Offset(2, 1).Value is None:\n",
    "            continue  # skip stray noise\n",
    "        start = c\n",
    "        end = c = c.End(const.xlDown)\n",
    "        if c.Offset(1,0).Value is None:\n",
    "            break\n",
    "        fcell = start.Offset(1, 2)\n",
    "        form = \"=sum(%s:%s)\" % (addr(start), addr(end))\n",
    "        fcell.Value = form\n",
    "        sum_cells.append(fcell)\n",
    "    return sum_cells"
   ]
  },
  {
   "cell_type": "code",
   "execution_count": 134,
   "metadata": {
    "collapsed": true
   },
   "outputs": [],
   "source": [
    "def make_pulse_sum_table(header_cell, sum_cells, exp_cell):\n",
    "    c = header_cell\n",
    "    c.Value = \"Pulse Sums\"\n",
    "    c.EntireColumn.AutoFit()\n",
    "    for s in sum_cells:\n",
    "        c = c.Offset(2, 1)\n",
    "        c.Value = \"=\" + addr(s)\n",
    "        c.Offset(1, 2).Value = \"=%s-%s\" % (exp_cell.Address - addr(c))"
   ]
  },
  {
   "cell_type": "code",
   "execution_count": 135,
   "metadata": {
    "collapsed": false
   },
   "outputs": [],
   "source": [
    "def find_baseline(xl, cells, base):\n",
    "    if base is not None:\n",
    "        return base\n",
    "    d_top = cells(1, 2)\n",
    "    d_end = d_top.End(const.xlDown)\n",
    "    d_rng = cells.Range(d_top, d_end)\n",
    "    \n",
    "    wsf = xl.WorksheetFunction\n",
    "    mode = wsf.Mode(d_rng)\n",
    "    min_ = wsf.Min(d_rng)\n",
    "    \n",
    "    if mode > 0.01:\n",
    "        # maybe mode doesn't reflect value well?\n",
    "        base = min_\n",
    "    else:\n",
    "        base = mode\n",
    "    \n",
    "    return base\n",
    "\n",
    "def correct_baseline(xl, ws, cells, baseline):\n",
    "    base = find_baseline(xl, cells, baseline)\n",
    "    d = cells(1, 2)\n",
    "    c = d.Offset(1, 2)\n",
    "    \n",
    "    bl_name = \"Baseline\"\n",
    "    bl_header = d.Offset(1, 4)\n",
    "    bl_header.Value = bl_name\n",
    "    bl_cell = bl_header.Offset(2, 1)\n",
    "    bl_cell.Value = base\n",
    "    ws.Names.Add(bl_name, bl_cell)\n",
    "    \n",
    "    c.Value = \"=%s-%s\" % (addr(d), bl_name)\n",
    "    tgt = cells.Range(d.Offset(1, 2), d.End(const.xlDown).Offset(1, 2))\n",
    "    c.AutoFill(tgt)\n",
    "    "
   ]
  },
  {
   "cell_type": "code",
   "execution_count": 136,
   "metadata": {
    "collapsed": false
   },
   "outputs": [],
   "source": [
    "def find_pulses(ws, tl): \n",
    "    rng = ws.Cells.Range(tl, tl.End(const.xlDown))\n",
    "    data = rng.Value\n",
    "    pulse_values = []\n",
    "    tl_col = tl.Column\n",
    "    for row, (d,) in enumerate(data, 1):\n",
    "        if d > 0 and row > 1:\n",
    "            form = \"=\" + cellStr(row, tl_col) + \"*(%s-%s)\" %(cellStr(row, tl_col-2), cellStr(row-1, tl_col-2))\n",
    "        else:\n",
    "            form = None\n",
    "        pulse_values.append((form,))\n",
    "    tgt = ws.Cells.Range(tl.Offset(1, 2), tl.End(const.xlDown).Offset(1, 2))\n",
    "    tgt.Value = pulse_values\n",
    "                \n",
    "def autofill_range(c):\n",
    "    return c.Worksheet.Cells.Range(c.Offset(1,2), \n",
    "                                   c.End(const.xlDown).Offset(1,2))\n",
    "    "
   ]
  },
  {
   "cell_type": "code",
   "execution_count": 137,
   "metadata": {
    "collapsed": true
   },
   "outputs": [],
   "source": [
    "def shrink_markers(ob, sz=2):\n",
    "    try:\n",
    "        sc = ob.SeriesCollection()\n",
    "    except AttributeError:\n",
    "        ob.MarkerSize = sz\n",
    "        return\n",
    "    else:\n",
    "        for s in sc:\n",
    "            s.MarkerSize = sz\n",
    "\n",
    "def make_chart(ws, x1, y1, title, x_ax, y_ax):\n",
    "    chart = CreateChart(ws)\n",
    "    cr = ws.Cells.Range\n",
    "    x = cr(x1, x1.End(const.xlDown))\n",
    "    y = cr(y1, y1.End(const.xlDown))\n",
    "    CreateDataSeries(chart, x, y)\n",
    "    FormatChart(chart, None, title, x_ax, y_ax, False, False)\n",
    "    shrink_markers(chart)\n",
    "    return chart"
   ]
  },
  {
   "cell_type": "code",
   "execution_count": 143,
   "metadata": {
    "collapsed": true
   },
   "outputs": [],
   "source": [
    "def analyze_pulses(ws, pulse_cell, tbl_cell, exp_cell):\n",
    "    find_pulses(ws, pulse_cell)\n",
    "    pulses = sum_pulses(pulse_cell.Offset(1, 2))\n",
    "    make_pulse_sum_table(tbl_cell, pulses, exp_cell)\n",
    "    \n",
    "def add_calc_cells(mf_cell, min_flow, on_time):\n",
    "    ot_cell = mf_cell.Offset(1, 2)\n",
    "    ef_cell = ot_cell.Offset(1, 2)\n",
    "    \n",
    "    mf_cell.Value = \"Min Flowrate(LPM)\"\n",
    "    ot_cell.Value = \"On Time(s)\"\n",
    "    ef_cell.Value = \"Exp Pulse (mL)\"\n",
    "    \n",
    "    mf_cell.Offset(2, 1).Value = min_flow\n",
    "    ot_cell.Offset(2, 1).Value = on_time\n",
    "    ef_cell.Offset(2, 1).Value = \"=%s*%s*1000/60\" % (addr(ot_cell.Offset(2,1)), addr(mf_cell.Offset(2,1)))\n",
    "    \n",
    "    for c in (mf_cell, ot_cell, ef_cell):\n",
    "        c.EntireColumn.AutoFit()\n",
    "    \n",
    "def analyze_sheet(xl, ws, baseline=None, min_flowrate=0.1, on_time=3):\n",
    "    cells = ws.Cells\n",
    "    cr = cells.Range\n",
    "    correct_baseline(xl, ws, cells, baseline)\n",
    "    \n",
    "    mf_cell = cr(\"F1\")\n",
    "    add_calc_cells(mf_cell, min_flowrate, on_time)\n",
    "    \n",
    "    analyze_pulses(ws, cr(\"C1\"), cr(\"J1\"), mf_cell.Offset(2, 3))\n",
    "    chart = make_chart(ws, cells(1,1), cells(1,3), \"CO2 Pulse Accuracy\",\n",
    "              \"Time(ms)\", \"Flow Rate(L/min)\")\n",
    "    ca = chart.ChartArea\n",
    "    ca.Top = 15\n",
    "    ca.Left = 347\n",
    "    ca.Height = 336.5\n",
    "    ca.Width = 544"
   ]
  },
  {
   "cell_type": "code",
   "execution_count": 144,
   "metadata": {
    "collapsed": false
   },
   "outputs": [],
   "source": [
    "#xl = Excel()\n",
    "#def run(xl, ws=None):\n",
    "#    if ws is None:\n",
    " #       ws = xl.ActiveSheet\n",
    "  #  with HiddenXl(xl):\n",
    "   #     analyze_sheet(xl, ws)\n",
    "#run(xl)"
   ]
  },
  {
   "cell_type": "code",
   "execution_count": 145,
   "metadata": {
    "collapsed": false,
    "scrolled": true
   },
   "outputs": [
    {
     "data": {
      "text/plain": [
       "['C:\\\\.replcache\\\\co2pulse\\\\10pCO2_min03_PV.csv',\n",
       " 'C:\\\\.replcache\\\\co2pulse\\\\10pCO2_min1_PV.csv',\n",
       " 'C:\\\\.replcache\\\\co2pulse\\\\15pCO2_min03_PV.csv',\n",
       " 'C:\\\\.replcache\\\\co2pulse\\\\15pCO2_min1_PV.csv',\n",
       " 'C:\\\\.replcache\\\\co2pulse\\\\20pCO2_min03_PV.csv',\n",
       " 'C:\\\\.replcache\\\\co2pulse\\\\20pCO2_min1_PV.csv',\n",
       " 'C:\\\\.replcache\\\\co2pulse\\\\25pCO2_min03_PV.csv',\n",
       " 'C:\\\\.replcache\\\\co2pulse\\\\25pCO2_min1_PV.csv']"
      ]
     },
     "execution_count": 145,
     "metadata": {},
     "output_type": "execute_result"
    }
   ],
   "source": [
    "import os\n",
    "os.chdir(\"C:\\\\.replcache\\\\co2pulse\")\n",
    "files = [f for f in os.listdir(\".\") if \"CO2\" in f and f.endswith(\"PV.csv\")]\n",
    "files2 = list(map(os.path.abspath, files))\n",
    "files2"
   ]
  },
  {
   "cell_type": "code",
   "execution_count": 146,
   "metadata": {
    "collapsed": false
   },
   "outputs": [
    {
     "name": "stdout",
     "output_type": "stream",
     "text": [
      "Analyzing file: C:\\.replcache\\co2pulse\\10pCO2_min03_PV.csv\n"
     ]
    }
   ],
   "source": [
    "xl = Excel()\n",
    "#with HiddenXl(xl):\n",
    "if 1:   \n",
    "    xl.Workbooks.Close()\n",
    "    for f in files2:\n",
    "        print(\"Analyzing file:\", f)\n",
    "        wb = xl.Workbooks.Open(f)\n",
    "        ws = wb.Worksheets(1)\n",
    "        min_flowrate = 0.03 if \"min03_PV\" in f else 0.1\n",
    "        analyze_sheet(xl, ws, None, min_flowrate, 3)\n",
    "        break"
   ]
  },
  {
   "cell_type": "code",
   "execution_count": null,
   "metadata": {
    "collapsed": true
   },
   "outputs": [],
   "source": [
    "#analyze_pulses(xl.ActiveSheet, xl.ActiveSheet.Cells(1,3))"
   ]
  },
  {
   "cell_type": "code",
   "execution_count": null,
   "metadata": {
    "collapsed": true
   },
   "outputs": [],
   "source": []
  }
 ],
 "metadata": {
  "kernelspec": {
   "display_name": "Python 3",
   "language": "python",
   "name": "python3"
  },
  "language_info": {
   "codemirror_mode": {
    "name": "ipython",
    "version": 3
   },
   "file_extension": ".py",
   "mimetype": "text/x-python",
   "name": "python",
   "nbconvert_exporter": "python",
   "pygments_lexer": "ipython3",
   "version": "3.4.1"
  }
 },
 "nbformat": 4,
 "nbformat_minor": 0
}
