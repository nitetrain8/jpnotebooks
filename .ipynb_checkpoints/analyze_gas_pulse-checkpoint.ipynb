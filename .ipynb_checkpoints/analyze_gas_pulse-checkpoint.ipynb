{
 "cells": [
  {
   "cell_type": "code",
   "execution_count": 75,
   "metadata": {
    "collapsed": true
   },
   "outputs": [],
   "source": [
    "from officelib.xllib import *\n",
    "from officelib import const"
   ]
  },
  {
   "cell_type": "code",
   "execution_count": 76,
   "metadata": {
    "collapsed": true
   },
   "outputs": [],
   "source": [
    "xl = Excel()\n",
    "ws = xl.Selection.Worksheet"
   ]
  },
  {
   "cell_type": "code",
   "execution_count": 77,
   "metadata": {
    "collapsed": false
   },
   "outputs": [],
   "source": [
    "def addr(c): \n",
    "    return c.GetAddress(False, False)\n",
    "\n",
    "def sum_pulses(top_cell):\n",
    "    c = top_cell\n",
    "    sum_cells = []\n",
    "    while True:\n",
    "        c = c.End(const.xlDown)\n",
    "        if c.Offset(1, 0).Value is None:\n",
    "            break  # Ran out of data \n",
    "        if c.Offset(2, 1).Value is None:\n",
    "            continue  # skip stray noise\n",
    "        start = c\n",
    "        c = c.End(const.xlDown)\n",
    "        if c.Offset(1,0).Value is None:\n",
    "            break\n",
    "        fcell = start.Offset(1, 2)\n",
    "        form = \"=sum(%s:%s)\" % (addr(start), addr(c))\n",
    "        fcell.Value = form\n",
    "        sum_cells.append(fcell)\n",
    "    return sum_cells"
   ]
  },
  {
   "cell_type": "code",
   "execution_count": 78,
   "metadata": {
    "collapsed": true
   },
   "outputs": [],
   "source": [
    "def make_pulse_sum_table(header_cell, sum_cells):\n",
    "    c = header_cell\n",
    "    c.Value = \"Pulse Sums\"\n",
    "    c.EntireColumn.AutoFit()\n",
    "    for s in sum_cells:\n",
    "        c = c.Offset(2, 1)\n",
    "        c.Value = \"=\" + addr(s)"
   ]
  },
  {
   "cell_type": "code",
   "execution_count": 79,
   "metadata": {
    "collapsed": false
   },
   "outputs": [],
   "source": [
    "def find_baseline(xl, cells):\n",
    "    d_top = cells(1, 2)\n",
    "    d_end = d_top.End(const.xlDown)\n",
    "    d_rng = cells.Range(d_top, d_end)\n",
    "    \n",
    "    wsf = xl.WorksheetFunction\n",
    "    mode = wsf.Mode(d_rng)\n",
    "    min_ = wsf.Min(d_rng)\n",
    "    \n",
    "    if mode > 0.1:\n",
    "        # maybe mode doesn't reflect value well?\n",
    "        base = min_\n",
    "    else:\n",
    "        base = mode\n",
    "    return base\n",
    "\n",
    "def correct_baseline(xl, cells):\n",
    "    base = find_baseline(xl, cells)\n",
    "    d = cells(1, 2)\n",
    "    c = d.Offset(1, 2)\n",
    "    c.Value = \"=%s-%f\" % (addr(d), base)\n",
    "    tgt = cells.Range(d.Offset(1, 2), d.End(const.xlDown).Offset(1, 2))\n",
    "    c.AutoFill(tgt)\n",
    "    "
   ]
  },
  {
   "cell_type": "code",
   "execution_count": 84,
   "metadata": {
    "collapsed": false
   },
   "outputs": [],
   "source": [
    "def find_pulses(tl):\n",
    "    rng = ws.Cells.Range(tl, tl.End(const.xlDown))\n",
    "    data = list(enumerate((x[0] for x in rng.Value), 1))\n",
    "    \n",
    "    for offset, d in data:\n",
    "        if d > 0:\n",
    "            form = \"=\" + tl.Offset(offset,1).GetAddress(False,False)\n",
    "            try:\n",
    "                tl.Offset(offset, 2).Value = form\n",
    "            except:\n",
    "                print(offset, d, tl.Offset(offset, 1).Address)\n",
    "                raise\n",
    "                \n",
    "def autofill_range(c):\n",
    "    return c.Worksheet.Cells.Range(c.Offset(1,2), \n",
    "                                   c.End(const.xlDown).Offset(1,2))\n",
    "                \n",
    "def find_pulses2(xl, tl):\n",
    "    if_pulse = tl.Offset(1, 2)\n",
    "    if_pulse.Value = \"=if(%s>0, %s, \\\"\\\")\" % (addr(tl), addr(tl))\n",
    "    if_pulse.AutoFill(autofill_range(tl))\n",
    "    "
   ]
  },
  {
   "cell_type": "code",
   "execution_count": 85,
   "metadata": {
    "collapsed": true
   },
   "outputs": [],
   "source": [
    "def shrink_markers(ob, sz=2):\n",
    "    try:\n",
    "        sc = ob.SeriesCollection()\n",
    "    except AttributeError:\n",
    "        ob.MarkerSize = sz\n",
    "        return\n",
    "    else:\n",
    "        for s in sc:\n",
    "            s.MarkerSize = sz\n",
    "\n",
    "def make_chart(ws, x1, y1, title, x_ax, y_ax):\n",
    "    chart = CreateChart(ws)\n",
    "    cr = ws.Cells.Range\n",
    "    x = cr(x1, x1.End(const.xlDown))\n",
    "    y = cr(y1, y1.End(const.xlDown))\n",
    "    CreateDataSeries(chart, x, y)\n",
    "    FormatChart(chart, None, title, x_ax, y_ax, False, False)\n",
    "    shrink_markers(chart)\n",
    "    return chart"
   ]
  },
  {
   "cell_type": "code",
   "execution_count": 86,
   "metadata": {
    "collapsed": true
   },
   "outputs": [],
   "source": [
    "def analyze_sheet(xl, ws):\n",
    "    cells = ws.Cells\n",
    "    correct_baseline(xl, cells)\n",
    "    pulse_cell = cells(1, 3)\n",
    "    find_pulses(pulse_cell)\n",
    "    pulses = sum_pulses(pulse_cell)\n",
    "    make_pulse_sum_table(pulse_cell.Offset(1, 3), pulses)\n",
    "    make_chart(ws, cells(1,1), cells(1,3), \"CO2 Pulse Accuracy\",\n",
    "              \"Time(ms)\", \"Flow Rate(L/min)\")"
   ]
  },
  {
   "cell_type": "code",
   "execution_count": 87,
   "metadata": {
    "collapsed": false
   },
   "outputs": [
    {
     "name": "stdout",
     "output_type": "stream",
     "text": [
      "4577 0.002999999999999999 $C$1\n"
     ]
    },
    {
     "ename": "com_error",
     "evalue": "(-2147352567, 'Exception occurred.', (0, None, None, None, 0, -2146777998), None)",
     "output_type": "error",
     "traceback": [
      "\u001b[1;31m---------------------------------------------------------------------------\u001b[0m",
      "\u001b[1;31mcom_error\u001b[0m                                 Traceback (most recent call last)",
      "\u001b[1;32m<ipython-input-87-ae3d9cf2813d>\u001b[0m in \u001b[0;36m<module>\u001b[1;34m()\u001b[0m\n\u001b[1;32m----> 1\u001b[1;33m \u001b[0manalyze_sheet\u001b[0m\u001b[1;33m(\u001b[0m\u001b[0mxl\u001b[0m\u001b[1;33m,\u001b[0m \u001b[0mxl\u001b[0m\u001b[1;33m.\u001b[0m\u001b[0mActiveSheet\u001b[0m\u001b[1;33m)\u001b[0m\u001b[1;33m\u001b[0m\u001b[0m\n\u001b[0m",
      "\u001b[1;32m<ipython-input-86-3de39dc911f8>\u001b[0m in \u001b[0;36manalyze_sheet\u001b[1;34m(xl, ws)\u001b[0m\n\u001b[0;32m      3\u001b[0m     \u001b[0mcorrect_baseline\u001b[0m\u001b[1;33m(\u001b[0m\u001b[0mxl\u001b[0m\u001b[1;33m,\u001b[0m \u001b[0mcells\u001b[0m\u001b[1;33m)\u001b[0m\u001b[1;33m\u001b[0m\u001b[0m\n\u001b[0;32m      4\u001b[0m     \u001b[0mpulse_cell\u001b[0m \u001b[1;33m=\u001b[0m \u001b[0mcells\u001b[0m\u001b[1;33m(\u001b[0m\u001b[1;36m1\u001b[0m\u001b[1;33m,\u001b[0m \u001b[1;36m3\u001b[0m\u001b[1;33m)\u001b[0m\u001b[1;33m\u001b[0m\u001b[0m\n\u001b[1;32m----> 5\u001b[1;33m     \u001b[0mfind_pulses\u001b[0m\u001b[1;33m(\u001b[0m\u001b[0mpulse_cell\u001b[0m\u001b[1;33m)\u001b[0m\u001b[1;33m\u001b[0m\u001b[0m\n\u001b[0m\u001b[0;32m      6\u001b[0m     \u001b[0mpulses\u001b[0m \u001b[1;33m=\u001b[0m \u001b[0msum_pulses\u001b[0m\u001b[1;33m(\u001b[0m\u001b[0mpulse_cell\u001b[0m\u001b[1;33m)\u001b[0m\u001b[1;33m\u001b[0m\u001b[0m\n\u001b[0;32m      7\u001b[0m     \u001b[0mmake_pulse_sum_table\u001b[0m\u001b[1;33m(\u001b[0m\u001b[0mpulse_cell\u001b[0m\u001b[1;33m.\u001b[0m\u001b[0mOffset\u001b[0m\u001b[1;33m(\u001b[0m\u001b[1;36m1\u001b[0m\u001b[1;33m,\u001b[0m \u001b[1;36m3\u001b[0m\u001b[1;33m)\u001b[0m\u001b[1;33m,\u001b[0m \u001b[0mpulses\u001b[0m\u001b[1;33m)\u001b[0m\u001b[1;33m\u001b[0m\u001b[0m\n",
      "\u001b[1;32m<ipython-input-84-3b654b614bb8>\u001b[0m in \u001b[0;36mfind_pulses\u001b[1;34m(tl)\u001b[0m\n\u001b[0;32m      6\u001b[0m         \u001b[1;32mif\u001b[0m \u001b[0md\u001b[0m \u001b[1;33m>\u001b[0m \u001b[1;36m0\u001b[0m\u001b[1;33m:\u001b[0m\u001b[1;33m\u001b[0m\u001b[0m\n\u001b[0;32m      7\u001b[0m             \u001b[1;32mtry\u001b[0m\u001b[1;33m:\u001b[0m\u001b[1;33m\u001b[0m\u001b[0m\n\u001b[1;32m----> 8\u001b[1;33m                 \u001b[0mtl\u001b[0m\u001b[1;33m.\u001b[0m\u001b[0mOffset\u001b[0m\u001b[1;33m(\u001b[0m\u001b[0moffset\u001b[0m\u001b[1;33m,\u001b[0m \u001b[1;36m2\u001b[0m\u001b[1;33m)\u001b[0m\u001b[1;33m.\u001b[0m\u001b[0mValue\u001b[0m \u001b[1;33m=\u001b[0m \u001b[1;34m\"=\"\u001b[0m \u001b[1;33m+\u001b[0m                   \u001b[0mtl\u001b[0m\u001b[1;33m.\u001b[0m\u001b[0mOffset\u001b[0m\u001b[1;33m(\u001b[0m\u001b[0moffset\u001b[0m\u001b[1;33m,\u001b[0m\u001b[1;36m1\u001b[0m\u001b[1;33m)\u001b[0m\u001b[1;33m.\u001b[0m\u001b[0mGetAddress\u001b[0m\u001b[1;33m(\u001b[0m\u001b[1;32mFalse\u001b[0m\u001b[1;33m,\u001b[0m\u001b[1;32mFalse\u001b[0m\u001b[1;33m)\u001b[0m\u001b[1;33m\u001b[0m\u001b[0m\n\u001b[0m\u001b[0;32m      9\u001b[0m             \u001b[1;32mexcept\u001b[0m\u001b[1;33m:\u001b[0m\u001b[1;33m\u001b[0m\u001b[0m\n\u001b[0;32m     10\u001b[0m                 \u001b[0mprint\u001b[0m\u001b[1;33m(\u001b[0m\u001b[0moffset\u001b[0m\u001b[1;33m,\u001b[0m \u001b[0md\u001b[0m\u001b[1;33m,\u001b[0m \u001b[0mtl\u001b[0m\u001b[1;33m.\u001b[0m\u001b[0mAddress\u001b[0m\u001b[1;33m)\u001b[0m\u001b[1;33m\u001b[0m\u001b[0m\n",
      "\u001b[1;32mc:\\python34\\lib\\site-packages\\win32com\\client\\__init__.py\u001b[0m in \u001b[0;36m__setattr__\u001b[1;34m(self, attr, value)\u001b[0m\n\u001b[0;32m    472\u001b[0m                 \u001b[1;32mexcept\u001b[0m \u001b[0mKeyError\u001b[0m\u001b[1;33m:\u001b[0m\u001b[1;33m\u001b[0m\u001b[0m\n\u001b[0;32m    473\u001b[0m                         \u001b[1;32mraise\u001b[0m \u001b[0mAttributeError\u001b[0m\u001b[1;33m(\u001b[0m\u001b[1;34m\"'%s' object has no attribute '%s'\"\u001b[0m \u001b[1;33m%\u001b[0m \u001b[1;33m(\u001b[0m\u001b[0mrepr\u001b[0m\u001b[1;33m(\u001b[0m\u001b[0mself\u001b[0m\u001b[1;33m)\u001b[0m\u001b[1;33m,\u001b[0m \u001b[0mattr\u001b[0m\u001b[1;33m)\u001b[0m\u001b[1;33m)\u001b[0m\u001b[1;33m\u001b[0m\u001b[0m\n\u001b[1;32m--> 474\u001b[1;33m                 \u001b[0mself\u001b[0m\u001b[1;33m.\u001b[0m\u001b[0m_oleobj_\u001b[0m\u001b[1;33m.\u001b[0m\u001b[0mInvoke\u001b[0m\u001b[1;33m(\u001b[0m\u001b[1;33m*\u001b[0m\u001b[1;33m(\u001b[0m\u001b[0margs\u001b[0m \u001b[1;33m+\u001b[0m \u001b[1;33m(\u001b[0m\u001b[0mvalue\u001b[0m\u001b[1;33m,\u001b[0m\u001b[1;33m)\u001b[0m \u001b[1;33m+\u001b[0m \u001b[0mdefArgs\u001b[0m\u001b[1;33m)\u001b[0m\u001b[1;33m)\u001b[0m\u001b[1;33m\u001b[0m\u001b[0m\n\u001b[0m\u001b[0;32m    475\u001b[0m         \u001b[1;32mdef\u001b[0m \u001b[0m_get_good_single_object_\u001b[0m\u001b[1;33m(\u001b[0m\u001b[0mself\u001b[0m\u001b[1;33m,\u001b[0m \u001b[0mobj\u001b[0m\u001b[1;33m,\u001b[0m \u001b[0mobUserName\u001b[0m\u001b[1;33m=\u001b[0m\u001b[1;32mNone\u001b[0m\u001b[1;33m,\u001b[0m \u001b[0mresultCLSID\u001b[0m\u001b[1;33m=\u001b[0m\u001b[1;32mNone\u001b[0m\u001b[1;33m)\u001b[0m\u001b[1;33m:\u001b[0m\u001b[1;33m\u001b[0m\u001b[0m\n\u001b[0;32m    476\u001b[0m                 \u001b[1;32mreturn\u001b[0m \u001b[0m_get_good_single_object_\u001b[0m\u001b[1;33m(\u001b[0m\u001b[0mobj\u001b[0m\u001b[1;33m,\u001b[0m \u001b[0mobUserName\u001b[0m\u001b[1;33m,\u001b[0m \u001b[0mresultCLSID\u001b[0m\u001b[1;33m)\u001b[0m\u001b[1;33m\u001b[0m\u001b[0m\n",
      "\u001b[1;31mcom_error\u001b[0m: (-2147352567, 'Exception occurred.', (0, None, None, None, 0, -2146777998), None)"
     ]
    }
   ],
   "source": [
    "analyze_sheet(xl, xl.ActiveSheet)"
   ]
  },
  {
   "cell_type": "code",
   "execution_count": null,
   "metadata": {
    "collapsed": true
   },
   "outputs": [],
   "source": []
  }
 ],
 "metadata": {
  "kernelspec": {
   "display_name": "Python 3",
   "language": "python",
   "name": "python3"
  },
  "language_info": {
   "codemirror_mode": {
    "name": "ipython",
    "version": 3
   },
   "file_extension": ".py",
   "mimetype": "text/x-python",
   "name": "python",
   "nbconvert_exporter": "python",
   "pygments_lexer": "ipython3",
   "version": "3.4.1"
  }
 },
 "nbformat": 4,
 "nbformat_minor": 0
}
