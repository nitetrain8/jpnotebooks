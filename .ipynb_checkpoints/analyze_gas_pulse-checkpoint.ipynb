{
 "cells": [
  {
   "cell_type": "code",
   "execution_count": 1,
   "metadata": {
    "collapsed": true
   },
   "outputs": [],
   "source": [
    "from officelib.xllib import *\n",
    "from officelib import const"
   ]
  },
  {
   "cell_type": "code",
   "execution_count": 2,
   "metadata": {
    "collapsed": false
   },
   "outputs": [],
   "source": [
    "def addr(c): \n",
    "    return c.GetAddress(False, False)\n",
    "\n",
    "def sum_pulses(top_cell):\n",
    "    c = top_cell\n",
    "    sum_cells = []\n",
    "    while True:\n",
    "        c = c.End(const.xlDown)\n",
    "        if c.Offset(1, 0).Value is None:\n",
    "            break  # Ran out of data \n",
    "        if c.Offset(2, 1).Value is None:\n",
    "            continue  # skip stray noise\n",
    "        start = c\n",
    "        c = c.End(const.xlDown)\n",
    "        if c.Offset(1,0).Value is None:\n",
    "            break\n",
    "        fcell = start.Offset(1, 2)\n",
    "        form = \"=sum(%s:%s)\" % (addr(start), addr(c))\n",
    "        fcell.Value = form\n",
    "        sum_cells.append(fcell)\n",
    "    return sum_cells"
   ]
  },
  {
   "cell_type": "code",
   "execution_count": 3,
   "metadata": {
    "collapsed": true
   },
   "outputs": [],
   "source": [
    "def make_pulse_sum_table(header_cell, sum_cells):\n",
    "    c = header_cell\n",
    "    c.Value = \"Pulse Sums\"\n",
    "    c.EntireColumn.AutoFit()\n",
    "    for s in sum_cells:\n",
    "        c = c.Offset(2, 1)\n",
    "        c.Value = \"=\" + addr(s)"
   ]
  },
  {
   "cell_type": "code",
   "execution_count": 4,
   "metadata": {
    "collapsed": false
   },
   "outputs": [],
   "source": [
    "def find_baseline(xl, cells):\n",
    "    d_top = cells(1, 2)\n",
    "    d_end = d_top.End(const.xlDown)\n",
    "    d_rng = cells.Range(d_top, d_end)\n",
    "    \n",
    "    wsf = xl.WorksheetFunction\n",
    "    mode = wsf.Mode(d_rng)\n",
    "    min_ = wsf.Min(d_rng)\n",
    "    \n",
    "    if mode > 0.1:\n",
    "        # maybe mode doesn't reflect value well?\n",
    "        base = min_\n",
    "    else:\n",
    "        base = mode\n",
    "    return base\n",
    "\n",
    "def correct_baseline(xl, cells):\n",
    "    base = find_baseline(xl, cells)\n",
    "    d = cells(1, 2)\n",
    "    c = d.Offset(1, 2)\n",
    "    c.Value = \"=%s-%f\" % (addr(d), base)\n",
    "    tgt = cells.Range(d.Offset(1, 2), d.End(const.xlDown).Offset(1, 2))\n",
    "    c.AutoFill(tgt)\n",
    "    "
   ]
  },
  {
   "cell_type": "code",
   "execution_count": 20,
   "metadata": {
    "collapsed": false
   },
   "outputs": [],
   "source": [
    "def find_pulses(ws, tl):\n",
    "    \"\"\" This function is currently very slow, due to the number of calls made \n",
    "    through COM. It could be made faster by queueing an entire set of data to\n",
    "    be send in one call at once. \"\"\"\n",
    "    rng = ws.Cells.Range(tl, tl.End(const.xlDown))\n",
    "    data = rng.Value\n",
    "    to_paste = []\n",
    "    \n",
    "    tl_col = tl.Column\n",
    "    for row, (d,) in enumerate(data, 1):\n",
    "        if d > 0:\n",
    "            form = \"=\" + cellStr(row, tl_col)\n",
    "        else:\n",
    "            form = None\n",
    "        to_paste.append((form,))\n",
    "    tgt = ws.Cells.Range(tl.Offset(1, 2), tl.End(const.xlDown).Offset(2, 1))\n",
    "    tgt.Value = to_paste\n",
    "                \n",
    "def autofill_range(c):\n",
    "    return c.Worksheet.Cells.Range(c.Offset(1,2), \n",
    "                                   c.End(const.xlDown).Offset(1,2))\n",
    "                \n",
    "def find_pulses2(xl, tl):\n",
    "    if_pulse = tl.Offset(1, 2)\n",
    "    if_pulse.Value = \"=if(%s>0, %s, \\\"\\\")\" % (addr(tl), addr(tl))\n",
    "    if_pulse.AutoFill(autofill_range(tl))\n",
    "    "
   ]
  },
  {
   "cell_type": "code",
   "execution_count": 6,
   "metadata": {
    "collapsed": true
   },
   "outputs": [],
   "source": [
    "def shrink_markers(ob, sz=2):\n",
    "    try:\n",
    "        sc = ob.SeriesCollection()\n",
    "    except AttributeError:\n",
    "        ob.MarkerSize = sz\n",
    "        return\n",
    "    else:\n",
    "        for s in sc:\n",
    "            s.MarkerSize = sz\n",
    "\n",
    "def make_chart(ws, x1, y1, title, x_ax, y_ax):\n",
    "    chart = CreateChart(ws)\n",
    "    cr = ws.Cells.Range\n",
    "    x = cr(x1, x1.End(const.xlDown))\n",
    "    y = cr(y1, y1.End(const.xlDown))\n",
    "    CreateDataSeries(chart, x, y)\n",
    "    FormatChart(chart, None, title, x_ax, y_ax, False, False)\n",
    "    shrink_markers(chart)\n",
    "    return chart"
   ]
  },
  {
   "cell_type": "code",
   "execution_count": 7,
   "metadata": {
    "collapsed": true
   },
   "outputs": [],
   "source": [
    "def analyze_sheet(xl, ws):\n",
    "    cells = ws.Cells\n",
    "    correct_baseline(xl, cells)\n",
    "    pulse_cell = cells(1, 3)\n",
    "    find_pulses(ws, pulse_cell)\n",
    "    pulses = sum_pulses(pulse_cell.Offset(1, 2))\n",
    "    make_pulse_sum_table(pulse_cell.Offset(1, 3), pulses)\n",
    "    make_chart(ws, cells(1,1), cells(1,3), \"CO2 Pulse Accuracy\",\n",
    "              \"Time(ms)\", \"Flow Rate(L/min)\")"
   ]
  },
  {
   "cell_type": "code",
   "execution_count": 21,
   "metadata": {
    "collapsed": false
   },
   "outputs": [
    {
     "ename": "NameError",
     "evalue": "name 'col' is not defined",
     "output_type": "error",
     "traceback": [
      "\u001b[1;31m---------------------------------------------------------------------------\u001b[0m",
      "\u001b[1;31mNameError\u001b[0m                                 Traceback (most recent call last)",
      "\u001b[1;32m<ipython-input-21-839bd07db693>\u001b[0m in \u001b[0;36m<module>\u001b[1;34m()\u001b[0m\n\u001b[0;32m      3\u001b[0m     \u001b[1;32mwith\u001b[0m \u001b[0mHiddenXl\u001b[0m\u001b[1;33m(\u001b[0m\u001b[0mxl\u001b[0m\u001b[1;33m)\u001b[0m\u001b[1;33m:\u001b[0m\u001b[1;33m\u001b[0m\u001b[0m\n\u001b[0;32m      4\u001b[0m         \u001b[0manalyze_sheet\u001b[0m\u001b[1;33m(\u001b[0m\u001b[0mxl\u001b[0m\u001b[1;33m,\u001b[0m \u001b[0mxl\u001b[0m\u001b[1;33m.\u001b[0m\u001b[0mActiveSheet\u001b[0m\u001b[1;33m)\u001b[0m\u001b[1;33m\u001b[0m\u001b[0m\n\u001b[1;32m----> 5\u001b[1;33m \u001b[0mrun\u001b[0m\u001b[1;33m(\u001b[0m\u001b[1;33m)\u001b[0m\u001b[1;33m\u001b[0m\u001b[0m\n\u001b[0m",
      "\u001b[1;32m<ipython-input-21-839bd07db693>\u001b[0m in \u001b[0;36mrun\u001b[1;34m()\u001b[0m\n\u001b[0;32m      2\u001b[0m \u001b[1;32mdef\u001b[0m \u001b[0mrun\u001b[0m\u001b[1;33m(\u001b[0m\u001b[1;33m)\u001b[0m\u001b[1;33m:\u001b[0m\u001b[1;33m\u001b[0m\u001b[0m\n\u001b[0;32m      3\u001b[0m     \u001b[1;32mwith\u001b[0m \u001b[0mHiddenXl\u001b[0m\u001b[1;33m(\u001b[0m\u001b[0mxl\u001b[0m\u001b[1;33m)\u001b[0m\u001b[1;33m:\u001b[0m\u001b[1;33m\u001b[0m\u001b[0m\n\u001b[1;32m----> 4\u001b[1;33m         \u001b[0manalyze_sheet\u001b[0m\u001b[1;33m(\u001b[0m\u001b[0mxl\u001b[0m\u001b[1;33m,\u001b[0m \u001b[0mxl\u001b[0m\u001b[1;33m.\u001b[0m\u001b[0mActiveSheet\u001b[0m\u001b[1;33m)\u001b[0m\u001b[1;33m\u001b[0m\u001b[0m\n\u001b[0m\u001b[0;32m      5\u001b[0m \u001b[0mrun\u001b[0m\u001b[1;33m(\u001b[0m\u001b[1;33m)\u001b[0m\u001b[1;33m\u001b[0m\u001b[0m\n",
      "\u001b[1;32m<ipython-input-7-c13365af105a>\u001b[0m in \u001b[0;36manalyze_sheet\u001b[1;34m(xl, ws)\u001b[0m\n\u001b[0;32m      3\u001b[0m     \u001b[0mcorrect_baseline\u001b[0m\u001b[1;33m(\u001b[0m\u001b[0mxl\u001b[0m\u001b[1;33m,\u001b[0m \u001b[0mcells\u001b[0m\u001b[1;33m)\u001b[0m\u001b[1;33m\u001b[0m\u001b[0m\n\u001b[0;32m      4\u001b[0m     \u001b[0mpulse_cell\u001b[0m \u001b[1;33m=\u001b[0m \u001b[0mcells\u001b[0m\u001b[1;33m(\u001b[0m\u001b[1;36m1\u001b[0m\u001b[1;33m,\u001b[0m \u001b[1;36m3\u001b[0m\u001b[1;33m)\u001b[0m\u001b[1;33m\u001b[0m\u001b[0m\n\u001b[1;32m----> 5\u001b[1;33m     \u001b[0mfind_pulses\u001b[0m\u001b[1;33m(\u001b[0m\u001b[0mws\u001b[0m\u001b[1;33m,\u001b[0m \u001b[0mpulse_cell\u001b[0m\u001b[1;33m)\u001b[0m\u001b[1;33m\u001b[0m\u001b[0m\n\u001b[0m\u001b[0;32m      6\u001b[0m     \u001b[0mpulses\u001b[0m \u001b[1;33m=\u001b[0m \u001b[0msum_pulses\u001b[0m\u001b[1;33m(\u001b[0m\u001b[0mpulse_cell\u001b[0m\u001b[1;33m.\u001b[0m\u001b[0mOffset\u001b[0m\u001b[1;33m(\u001b[0m\u001b[1;36m1\u001b[0m\u001b[1;33m,\u001b[0m \u001b[1;36m2\u001b[0m\u001b[1;33m)\u001b[0m\u001b[1;33m)\u001b[0m\u001b[1;33m\u001b[0m\u001b[0m\n\u001b[0;32m      7\u001b[0m     \u001b[0mmake_pulse_sum_table\u001b[0m\u001b[1;33m(\u001b[0m\u001b[0mpulse_cell\u001b[0m\u001b[1;33m.\u001b[0m\u001b[0mOffset\u001b[0m\u001b[1;33m(\u001b[0m\u001b[1;36m1\u001b[0m\u001b[1;33m,\u001b[0m \u001b[1;36m3\u001b[0m\u001b[1;33m)\u001b[0m\u001b[1;33m,\u001b[0m \u001b[0mpulses\u001b[0m\u001b[1;33m)\u001b[0m\u001b[1;33m\u001b[0m\u001b[0m\n",
      "\u001b[1;32m<ipython-input-20-08162ff6880a>\u001b[0m in \u001b[0;36mfind_pulses\u001b[1;34m(ws, tl)\u001b[0m\n\u001b[0;32m     10\u001b[0m     \u001b[1;32mfor\u001b[0m \u001b[0mrow\u001b[0m\u001b[1;33m,\u001b[0m \u001b[1;33m(\u001b[0m\u001b[0md\u001b[0m\u001b[1;33m,\u001b[0m\u001b[1;33m)\u001b[0m \u001b[1;32min\u001b[0m \u001b[0menumerate\u001b[0m\u001b[1;33m(\u001b[0m\u001b[0mdata\u001b[0m\u001b[1;33m,\u001b[0m \u001b[1;36m1\u001b[0m\u001b[1;33m)\u001b[0m\u001b[1;33m:\u001b[0m\u001b[1;33m\u001b[0m\u001b[0m\n\u001b[0;32m     11\u001b[0m         \u001b[1;32mif\u001b[0m \u001b[0md\u001b[0m \u001b[1;33m>\u001b[0m \u001b[1;36m0\u001b[0m\u001b[1;33m:\u001b[0m\u001b[1;33m\u001b[0m\u001b[0m\n\u001b[1;32m---> 12\u001b[1;33m             \u001b[0mform\u001b[0m \u001b[1;33m=\u001b[0m \u001b[1;34m\"=\"\u001b[0m \u001b[1;33m+\u001b[0m \u001b[0mcellStr\u001b[0m\u001b[1;33m(\u001b[0m\u001b[0mrow\u001b[0m\u001b[1;33m,\u001b[0m \u001b[0mcol\u001b[0m\u001b[1;33m)\u001b[0m\u001b[1;33m\u001b[0m\u001b[0m\n\u001b[0m\u001b[0;32m     13\u001b[0m         \u001b[1;32melse\u001b[0m\u001b[1;33m:\u001b[0m\u001b[1;33m\u001b[0m\u001b[0m\n\u001b[0;32m     14\u001b[0m             \u001b[0mform\u001b[0m \u001b[1;33m=\u001b[0m \u001b[1;32mNone\u001b[0m\u001b[1;33m\u001b[0m\u001b[0m\n",
      "\u001b[1;31mNameError\u001b[0m: name 'col' is not defined"
     ]
    }
   ],
   "source": [
    "xl = Excel()\n",
    "def run():\n",
    "    with HiddenXl(xl):\n",
    "        analyze_sheet(xl, xl.ActiveSheet)\n",
    "run()"
   ]
  },
  {
   "cell_type": "code",
   "execution_count": null,
   "metadata": {
    "collapsed": true
   },
   "outputs": [],
   "source": []
  }
 ],
 "metadata": {
  "kernelspec": {
   "display_name": "Python 3",
   "language": "python",
   "name": "python3"
  },
  "language_info": {
   "codemirror_mode": {
    "name": "ipython",
    "version": 3
   },
   "file_extension": ".py",
   "mimetype": "text/x-python",
   "name": "python",
   "nbconvert_exporter": "python",
   "pygments_lexer": "ipython3",
   "version": "3.4.1"
  }
 },
 "nbformat": 4,
 "nbformat_minor": 0
}
