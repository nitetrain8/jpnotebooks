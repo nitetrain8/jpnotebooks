{
 "cells": [
  {
   "cell_type": "code",
   "execution_count": 39,
   "metadata": {
    "collapsed": true
   },
   "outputs": [],
   "source": [
    "from Cython.Build import cythonize"
   ]
  },
  {
   "cell_type": "code",
   "execution_count": 40,
   "metadata": {
    "collapsed": true
   },
   "outputs": [],
   "source": [
    "emptypy = \"C:\\\\Users\\\\Administrator\\\\Documents\\\\pyprojects\\\\python\\\\scripts\\\\toys\\\\empty.pyx\""
   ]
  },
  {
   "cell_type": "code",
   "execution_count": 41,
   "metadata": {
    "collapsed": false
   },
   "outputs": [],
   "source": [
    "emptypy = \"C:\\\\Users\\\\Administrator\\\\Documents\\\\pyprojects\\\\python\\\\scripts\\\\toys\\\\empty.pyx\"\n",
    "c = cythonize(emptypy)"
   ]
  },
  {
   "cell_type": "code",
   "execution_count": 42,
   "metadata": {
    "collapsed": false
   },
   "outputs": [],
   "source": [
    "c = c[0]"
   ]
  },
  {
   "cell_type": "code",
   "execution_count": 43,
   "metadata": {
    "collapsed": false
   },
   "outputs": [
    {
     "ename": "SyntaxError",
     "evalue": "invalid syntax (<ipython-input-43-fcdd94312687>, line 1)",
     "output_type": "error",
     "traceback": [
      "\u001b[1;36m  File \u001b[1;32m\"<ipython-input-43-fcdd94312687>\"\u001b[1;36m, line \u001b[1;32m1\u001b[0m\n\u001b[1;33m    c.\u001b[0m\n\u001b[1;37m      ^\u001b[0m\n\u001b[1;31mSyntaxError\u001b[0m\u001b[1;31m:\u001b[0m invalid syntax\n"
     ]
    }
   ],
   "source": []
  },
  {
   "cell_type": "code",
   "execution_count": 17,
   "metadata": {
    "collapsed": false
   },
   "outputs": [
    {
     "data": {
      "text/plain": [
       "'typedef struct _typeobject {\\n    PyObject_VAR_HEAD\\n    const char *tp_name; /* For printing, in format \"<module>.<name>\" */\\n    Py_ssize_t tp_basicsize, tp_itemsize; /* For allocation */\\n\\n    /* Methods to implement standard operations */\\n\\n    destructor tp_dealloc;\\n    printfunc tp_print;\\n    getattrfunc tp_getattr;\\n    setattrfunc tp_setattr;\\n    PyAsyncMethods *tp_as_async; /* formerly known as tp_compare (Python 2)\\n                                    or tp_reserved (Python 3) */\\n    reprfunc tp_repr;\\n\\n    /* Method suites for standard classes */\\n\\n    PyNumberMethods *tp_as_number;\\n    PySequenceMethods *tp_as_sequence;\\n    PyMappingMethods *tp_as_mapping;\\n\\n    /* More standard operations (here for binary compatibility) */\\n\\n    hashfunc tp_hash;\\n    ternaryfunc tp_call;\\n    reprfunc tp_str;\\n    getattrofunc tp_getattro;\\n    setattrofunc tp_setattro;\\n\\n    /* Functions to access object as input/output buffer */\\n    PyBufferProcs *tp_as_buffer;\\n\\n    /* Flags to define presence of optional/expanded features */\\n    unsigned long tp_flags;\\n\\n    const char *tp_doc; /* Documentation string */\\n\\n    /* Assigned meaning in release 2.0 */\\n    /* call function for all accessible objects */\\n    traverseproc tp_traverse;\\n\\n    /* delete references to contained objects */\\n    inquiry tp_clear;\\n\\n    /* Assigned meaning in release 2.1 */\\n    /* rich comparisons */\\n    richcmpfunc tp_richcompare;\\n\\n    /* weak reference enabler */\\n    Py_ssize_t tp_weaklistoffset;\\n\\n    /* Iterators */\\n    getiterfunc tp_iter;\\n    iternextfunc tp_iternext;\\n\\n    /* Attribute descriptor and subclassing stuff */\\n    struct PyMethodDef *tp_methods;\\n    struct PyMemberDef *tp_members;\\n    struct PyGetSetDef *tp_getset;\\n    struct _typeobject *tp_base;\\n    PyObject *tp_dict;\\n    descrgetfunc tp_descr_get;\\n    descrsetfunc tp_descr_set;\\n    Py_ssize_t tp_dictoffset;\\n    initproc tp_init;\\n    allocfunc tp_alloc;\\n    newfunc tp_new;\\n    freefunc tp_free; /* Low-level free-memory routine */\\n    inquiry tp_is_gc; /* For PyObject_IS_GC */\\n    PyObject *tp_bases;\\n    PyObject *tp_mro; /* method resolution order */\\n    PyObject *tp_cache;\\n    PyObject *tp_subclasses;\\n    PyObject *tp_weaklist;\\n    destructor tp_del;\\n\\n    /* Type attribute cache version tag. Added in version 2.6 */\\n    unsigned int tp_version_tag;\\n\\n    destructor tp_finalize;\\n\\n#ifdef COUNT_ALLOCS\\n    /* these must be last and never explicitly initialized */\\n    Py_ssize_t tp_allocs;\\n    Py_ssize_t tp_frees;\\n    Py_ssize_t tp_maxalloc;\\n    struct _typeobject *tp_prev;\\n    struct _typeobject *tp_next;\\n#endif\\n} PyTypeObject;'"
      ]
     },
     "execution_count": 17,
     "metadata": {},
     "output_type": "execute_result"
    }
   ],
   "source": [
    "with open(\"C:/.replcache/pytypeobject.txt\", 'r') as f:\n",
    "    pto = f.read()\n",
    "pto"
   ]
  },
  {
   "cell_type": "code",
   "execution_count": 22,
   "metadata": {
    "collapsed": false
   },
   "outputs": [],
   "source": [
    "import string\n",
    "\n",
    "ident = string.ascii_lowercase + string.ascii_uppercase + string.digits\n",
    "ident_start = \n",
    "\n",
    "def tokenize_word(word):\n",
    "    n = len(s)\n",
    "    pos = 0\n",
    "    while pos < n: pass\n",
    "        \n",
    "def parse_pytyeobject(s):\n",
    "    n = len(s)\n",
    "    pos = -1\n",
    "    typs = []\n",
    "    cur_type = None\n",
    "    cur_ident = None\n",
    "    in_comment = False\n",
    "    tokens = []\n",
    "    \n",
    "    def getchar():\n",
    "        nonlocal s, pos\n",
    "        c = s[pos]\n",
    "        pos += 1\n",
    "        return c\n",
    "    \n",
    "    def unget():\n",
    "        nonlocal s, pos\n",
    "        pos -= 1\n",
    "            \n",
    "    while pos < n:\n",
    "        c = getchar()\n",
    "        # consume whitespace\n",
    "        if c in string.whitespace:\n",
    "            continue \n",
    "        # consume comments\n",
    "        elif c == '/':\n",
    "            c = getchar()\n",
    "            # line comment\n",
    "            if c == '/':\n",
    "                while c != '\\n':\n",
    "                    try:\n",
    "                        c = getchar()\n",
    "                    except IndexError:\n",
    "                        raise IndexError(\"EOF parsing line comment\") from None\n",
    "            elif c == '*':\n",
    "                while True:\n",
    "                    c = getchar()\n",
    "                    if c == '*':\n",
    "                        c = getchar()\n",
    "                        if c == '/':\n",
    "                            break\n",
    "                continue    \n",
    "        elif c == ';':\n",
    "            continue\n",
    "        \n",
    "        \n",
    "    return tokens\n",
    "\n"
   ]
  },
  {
   "cell_type": "code",
   "execution_count": null,
   "metadata": {
    "collapsed": true
   },
   "outputs": [],
   "source": []
  }
 ],
 "metadata": {
  "kernelspec": {
   "display_name": "Python 3",
   "language": "python",
   "name": "python3"
  },
  "language_info": {
   "codemirror_mode": {
    "name": "ipython",
    "version": 3
   },
   "file_extension": ".py",
   "mimetype": "text/x-python",
   "name": "python",
   "nbconvert_exporter": "python",
   "pygments_lexer": "ipython3",
   "version": "3.4.3"
  }
 },
 "nbformat": 4,
 "nbformat_minor": 0
}
