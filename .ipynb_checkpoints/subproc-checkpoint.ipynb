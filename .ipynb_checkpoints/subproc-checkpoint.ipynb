{
 "cells": [
  {
   "cell_type": "code",
   "execution_count": 21,
   "metadata": {
    "collapsed": true
   },
   "outputs": [],
   "source": [
    "import subprocess\n",
    "from subprocess import *\n",
    "import os"
   ]
  },
  {
   "cell_type": "code",
   "execution_count": 22,
   "metadata": {
    "collapsed": false
   },
   "outputs": [],
   "source": [
    "p=Popen(\"ping\",stdout=PIPE)\n",
    "out, err = p.communicate()"
   ]
  },
  {
   "cell_type": "code",
   "execution_count": 31,
   "metadata": {
    "collapsed": false
   },
   "outputs": [],
   "source": [
    "os.chdir(\"C:\\\\Users\\\\Administrator\\\\Documents\\\\visual studio 2013\\\\Projects\\\\mywebsocket\\\\Debug\\\\\")"
   ]
  },
  {
   "cell_type": "code",
   "execution_count": 32,
   "metadata": {
    "collapsed": false
   },
   "outputs": [
    {
     "data": {
      "text/plain": [
       "os.stat_result(st_mode=33279, st_ino=26177172834319609, st_dev=2589114373, st_nlink=1, st_uid=0, st_gid=0, st_size=31232, st_atime=1463895750, st_mtime=1463895750, st_ctime=1463895750)"
      ]
     },
     "execution_count": 32,
     "metadata": {},
     "output_type": "execute_result"
    }
   ],
   "source": [
    "os.stat(\"ws_test.exe\")"
   ]
  },
  {
   "cell_type": "code",
   "execution_count": 33,
   "metadata": {
    "collapsed": true
   },
   "outputs": [],
   "source": [
    "\n",
    "import os, sys, subprocess, time\n",
    "\n",
    "\n",
    "def autorun(target):\n",
    "    p = subprocess.Popen(target, stdout=subprocess.PIPE)\n",
    "    out, err = p.communicate()\n",
    "    print(out.decode())\n",
    "    return p.wait()\n",
    "\n",
    "def mtime(f):\n",
    "    return os.stat(f).st_mtime\n",
    "\n",
    "\n",
    "def main():\n",
    "    target = \"ws_test.exe\"\n",
    "    m_time = mtime(target)\n",
    "    if not os.path.exists(target):\n",
    "        raise SystemExit(\"ws_test.exe not found, cannot continue\")\n",
    "    \n",
    "    while 1:\n",
    "        t = mtime(target)\n",
    "        if t != m_time:\n",
    "            print(\"New build detected, running autorun on %s\" % target)\n",
    "            m_time = t\n",
    "            autorun(target)\n",
    "        else:\n",
    "            sleep(1)\n",
    "        "
   ]
  },
  {
   "cell_type": "code",
   "execution_count": null,
   "metadata": {
    "collapsed": true
   },
   "outputs": [],
   "source": []
  }
 ],
 "metadata": {
  "kernelspec": {
   "display_name": "Python 3",
   "language": "python",
   "name": "python3"
  },
  "language_info": {
   "codemirror_mode": {
    "name": "ipython",
    "version": 3
   },
   "file_extension": ".py",
   "mimetype": "text/x-python",
   "name": "python",
   "nbconvert_exporter": "python",
   "pygments_lexer": "ipython3",
   "version": "3.4.3"
  }
 },
 "nbformat": 4,
 "nbformat_minor": 0
}
