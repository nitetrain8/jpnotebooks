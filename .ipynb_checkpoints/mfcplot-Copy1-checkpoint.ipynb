{
 "cells": [
  {
   "cell_type": "code",
   "execution_count": 38,
   "metadata": {
    "collapsed": false
   },
   "outputs": [
    {
     "name": "stdout",
     "output_type": "stream",
     "text": [
      "Using matplotlib backend: TkAgg\n"
     ]
    }
   ],
   "source": [
    "%matplotlib\n",
    "import  matplotlib.pyplot as plt\n",
    "from hello.hello import open_hello, HelloError\n",
    "\n",
    "fig = plt.figure()\n",
    "sp = fig.add_subplot(1,1,1)\n",
    "\n",
    "app = open_hello('71.189.82.196:6')"
   ]
  },
  {
   "cell_type": "code",
   "execution_count": 39,
   "metadata": {
    "collapsed": false
   },
   "outputs": [],
   "source": [
    "temp = []\n",
    "fo = []\n",
    "from time import time\n",
    "\n",
    "def test_time(f):\n",
    "    def func(*args, **kwargs):\n",
    "        start = time()\n",
    "        rv = f(*args, **kwargs)\n",
    "        end = time()\n",
    "        print(f.__name__, \"%.2f\" % (end - start))\n",
    "\n",
    "def update():\n",
    "    try:\n",
    "        mv = app.gmv()\n",
    "    except HelloError:\n",
    "        print(\"HelloError getting main values\")\n",
    "        return\n",
    "    t = mv['temperature']['pv']\n",
    "    f = mv['condenser']['pv']\n",
    "    temp.append(t)\n",
    "    fo.append(f)"
   ]
  },
  {
   "cell_type": "code",
   "execution_count": 40,
   "metadata": {
    "collapsed": true
   },
   "outputs": [],
   "source": [
    "#"
   ]
  },
  {
   "cell_type": "code",
   "execution_count": 41,
   "metadata": {
    "collapsed": false
   },
   "outputs": [],
   "source": [
    "sp.ticklabel_format(useOffset=False, style='plain')"
   ]
  },
  {
   "cell_type": "code",
   "execution_count": 42,
   "metadata": {
    "collapsed": false
   },
   "outputs": [],
   "source": [
    "line, = sp.plot(fo, temp, '.r')"
   ]
  },
  {
   "cell_type": "code",
   "execution_count": 43,
   "metadata": {
    "collapsed": true
   },
   "outputs": [],
   "source": [
    "#for _ in range(100):\n",
    "#    fo.append(_/10)\n",
    "#    temp.append(_/10 +.5)"
   ]
  },
  {
   "cell_type": "code",
   "execution_count": 44,
   "metadata": {
    "collapsed": true
   },
   "outputs": [],
   "source": [
    "def anim():\n",
    "    line.set_data(fo, temp)\n",
    "    sp.relim()\n",
    "    sp.autoscale_view(1,1,1)"
   ]
  },
  {
   "cell_type": "code",
   "execution_count": null,
   "metadata": {
    "collapsed": true
   },
   "outputs": [],
   "source": [
    "r = fig.canvas.get_renderer()\n",
    "while True:\n",
    "    update()\n",
    "    anim()\n",
    "    line.draw(r)\n",
    "    fig.canvas.draw()\n",
    "    fig.canvas.flush_events()"
   ]
  }
 ],
 "metadata": {
  "kernelspec": {
   "display_name": "Python 3",
   "language": "python",
   "name": "python3"
  },
  "language_info": {
   "codemirror_mode": {
    "name": "ipython",
    "version": 3
   },
   "file_extension": ".py",
   "mimetype": "text/x-python",
   "name": "python",
   "nbconvert_exporter": "python",
   "pygments_lexer": "ipython3",
   "version": "3.4.1"
  }
 },
 "nbformat": 4,
 "nbformat_minor": 0
}
