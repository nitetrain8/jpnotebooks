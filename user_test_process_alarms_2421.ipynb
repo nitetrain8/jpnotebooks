{
 "cells": [
  {
   "cell_type": "code",
   "execution_count": 1,
   "metadata": {
    "collapsed": true
   },
   "outputs": [],
   "source": [
    "from hello.hello import *"
   ]
  },
  {
   "cell_type": "code",
   "execution_count": 2,
   "metadata": {
    "collapsed": true
   },
   "outputs": [],
   "source": [
    "app = open_hello('71.189.82.196:6')"
   ]
  },
  {
   "cell_type": "code",
   "execution_count": 7,
   "metadata": {
    "collapsed": false
   },
   "outputs": [],
   "source": [
    "alarms = [\n",
    "    \"%s_Low_Low%s\",\n",
    "    \"%s_Low%s\",\n",
    "    \"%s_High%s\",\n",
    "    \"%s_High_High%s\",\n",
    "]\n",
    "\n",
    "stuff = (\"Agitation\", \"RPM\"), (\"DO\", \"%\"), (\"Filter_Oven\", \"C\"),\\\n",
    "        (\"Pressure\", \"psi\"), (\"Temp\", \"C\"), (\"Total_Gas\", \"LPM\"),\\\n",
    "        (\"pH\", \"\")\n",
    "def mk_alrm(grp, unit, templates):\n",
    "    if unit:\n",
    "        unit = \"_(%s)\" % unit\n",
    "    return [t % (grp, unit) for t in templates]\n",
    "\n",
    "alrms = [mk_alrm(g, u, alarms) for g, u in stuff]"
   ]
  },
  {
   "cell_type": "code",
   "execution_count": null,
   "metadata": {
    "collapsed": true
   },
   "outputs": [],
   "source": [
    "cfg = app.getConfig()['Process_Alarms']\n",
    "assert all(k in cfg for g in alrms for k in g)"
   ]
  },
  {
   "cell_type": "code",
   "execution_count": 78,
   "metadata": {
    "collapsed": false
   },
   "outputs": [],
   "source": [
    "from time import sleep\n",
    "\n",
    "\n",
    "def test_alarm(app, alrm, pv, offset, cfg):\n",
    "    app.login()\n",
    "    app.setconfig(\"Process_Alarms\", alrm, pv + offset)\n",
    "    yield\n",
    "    app.login()\n",
    "    app.setconfig(\"Process_Alarms\", alrm, cfg[alrm])\n",
    "\n",
    "def test_alarm_group(app, alrm_grp, unit, mv_func, cfg):\n",
    "    alrms = mk_alrm(alrm_grp, unit, alarms)\n",
    "    offsets = (20, 10, -10, -20)\n",
    "    exp_code = 90, 40, 50, 100\n",
    "    tests = zip(alrms, offsets, exp_code)\n",
    "    \n",
    "    for a, o, c in tests:\n",
    "        t = test_alarm(app, a, mv_func()['pv'], o, cfg)\n",
    "        while mv_func()['error'] != 0: sleep(0.1)\n",
    "        num_alarms = app.getUnAckCount()\n",
    "        next(t)\n",
    "        while mv_func()['error'] == 0: sleep(0.1)\n",
    "        while app.getUnAckCount() <= num_alarms: sleep(0.1)\n",
    "        e = mv_func()['error']\n",
    "        res = 'pass' if c == e else 'fail'\n",
    "        print(a, 'error:', e, \"...\", res)\n",
    "        next(t, None)\n",
    "\n",
    "def test_ag(app, cfg):\n",
    "    for a in mk_alrm('Agitation', 'RPM', alarms):\n",
    "        app.login()\n",
    "        print(\"\\rSetting config:\", a, cfg[a], \"                \",end=\"\")\n",
    "        app.setconfig('Process_Alarms', a, cfg[a])\n",
    "    print(\"\\r                                  \")\n",
    "    f = lambda: app.gpmv()['agitation']\n",
    "    test_alarm_group(app, 'Agitation', 'RPM', f, cfg)\n",
    "\n",
    "def test_grp(app, grp, unit, mv_grp, cfg):\n",
    "    for a in mk_alrm(grp, unit, alarms):\n",
    "        app.login()\n",
    "        print(\"\\rSetting config:\", a, cfg[a], \"                \",end=\"\")\n",
    "        app.setconfig('Process_Alarms', a, cfg[a])\n",
    "    print(\"\\r                                  \\r\", end=\"\")\n",
    "    f = lambda: app.gpmv()[mv_grp]\n",
    "    test_alarm_group(app, grp, unit, f, cfg)"
   ]
  },
  {
   "cell_type": "code",
   "execution_count": 79,
   "metadata": {
    "collapsed": false
   },
   "outputs": [],
   "source": [
    "groups = (\n",
    "     ('Agitation', 'RPM', 'agitation'),\n",
    "     ('DO', '%', 'do'),\n",
    "     ('Filter_Oven', 'C', 'condenser'),\n",
    "     ('Pressure', 'psi', 'pressure'),\n",
    "     ('Temp', 'C', 'temperature'),\n",
    "     ('Total_Gas', 'LPM', 'maingas'),\n",
    "     ('pH', '', 'ph'),\n",
    "     ('Level', 'L', 'level')\n",
    ")"
   ]
  },
  {
   "cell_type": "code",
   "execution_count": 80,
   "metadata": {
    "collapsed": false
   },
   "outputs": [],
   "source": [
    "def run_test(app, groups, cfg):\n",
    "    for g, u, mvg in groups:\n",
    "        print(\"Testing\", g)\n",
    "        test_grp(app, g, u, mvg, cfg)"
   ]
  },
  {
   "cell_type": "code",
   "execution_count": 81,
   "metadata": {
    "collapsed": false
   },
   "outputs": [
    {
     "name": "stdout",
     "output_type": "stream",
     "text": [
      "Testing Agitation\n",
      "Agitation_Low_Low_(RPM) error: 90 ... pass\n",
      "Agitation_Low_(RPM) error: 40 ... pass\n",
      "Agitation_High_(RPM) error: 50 ... pass\n",
      "Agitation_High_High_(RPM) error: 100 ... pass\n",
      "Testing DO\n",
      "DO_Low_Low_(%) error: 90 ... pass\n",
      "DO_Low_(%) error: 40 ... pass\n",
      "DO_High_(%) error: 50 ... pass\n",
      "DO_High_High_(%) error: 100 ... pass\n",
      "Testing Filter_Oven\n",
      "Filter_Oven_Low_Low_(C) error: 90 ... pass\n",
      "Filter_Oven_Low_(C) error: 40 ... pass\n",
      "Filter_Oven_High_(C) error: 50 ... pass\n",
      "Filter_Oven_High_High_(C) error: 100 ... pass\n",
      "Testing Pressure\n",
      "Pressure_Low_Low_(psi) error: 90 ... pass\n",
      "Pressure_Low_(psi) error: 40 ... pass\n",
      "Pressure_High_(psi) error: 50 ... pass\n",
      "Pressure_High_High_(psi) error: 100 ... pass\n",
      "Testing Temp\n",
      "Temp_Low_Low_(C) error: 90 ... pass\n",
      "Temp_Low_(C) error: 40 ... pass\n",
      "Temp_High_(C) error: 50 ... pass\n",
      "Temp_High_High_(C) error: 100 ... pass\n",
      "Testing Total_Gas\n",
      "Total_Gas_Low_Low_(LPM) error: 90 ... pass\n",
      "Total_Gas_Low_(LPM) error: 40 ... pass\n",
      "Total_Gas_High_(LPM) error: 50 ... pass\n",
      "Total_Gas_High_High_(LPM) error: 100 ... pass\n",
      "Testing pH\n",
      "pH_Low_Low error: 90 ... pass\n",
      "pH_Low error: 40 ... pass\n",
      "pH_High error: 50 ... pass\n",
      "pH_High_High error: 100 ... pass\n"
     ]
    }
   ],
   "source": [
    "run_test(app, groups, cfg)"
   ]
  }
 ],
 "metadata": {
  "kernelspec": {
   "display_name": "Python 3",
   "language": "python",
   "name": "python3"
  },
  "language_info": {
   "codemirror_mode": {
    "name": "ipython",
    "version": 3
   },
   "file_extension": ".py",
   "mimetype": "text/x-python",
   "name": "python",
   "nbconvert_exporter": "python",
   "pygments_lexer": "ipython3",
   "version": "3.4.1"
  }
 },
 "nbformat": 4,
 "nbformat_minor": 0
}
