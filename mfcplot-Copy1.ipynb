{
 "cells": [
  {
   "cell_type": "code",
   "execution_count": 54,
   "metadata": {
    "collapsed": false
   },
   "outputs": [
    {
     "name": "stdout",
     "output_type": "stream",
     "text": [
      "Using matplotlib backend: TkAgg\n"
     ]
    }
   ],
   "source": [
    "%matplotlib\n",
    "import  matplotlib.pyplot as plt\n",
    "from hello.hello import open_hello, HelloError\n",
    "\n",
    "fig = plt.figure()\n",
    "sp = fig.add_subplot(1,1,1)\n",
    "\n",
    "app = open_hello('71.189.82.196:6')"
   ]
  },
  {
   "cell_type": "code",
   "execution_count": 55,
   "metadata": {
    "collapsed": false
   },
   "outputs": [],
   "source": [
    "temp = []\n",
    "fo = []\n",
    "from time import time\n",
    "\n",
    "def test_time(f):\n",
    "    def func(*args, **kwargs):\n",
    "        start = time()\n",
    "        rv = f(*args, **kwargs)\n",
    "        end = time()\n",
    "        print(f.__name__, \"%.2f\" % (end - start))\n",
    "        return rv\n",
    "    return func\n",
    "\n",
    "def update():\n",
    "    try:\n",
    "        mv = app.gmv()\n",
    "    except HelloError:\n",
    "        print(\"HelloError getting main values\")\n",
    "        return\n",
    "    t = mv['temperature']['pv']\n",
    "    f = mv['condenser']['pv']\n",
    "    temp.append(t)\n",
    "    fo.append(f)"
   ]
  },
  {
   "cell_type": "code",
   "execution_count": 56,
   "metadata": {
    "collapsed": true
   },
   "outputs": [],
   "source": [
    "#"
   ]
  },
  {
   "cell_type": "code",
   "execution_count": 57,
   "metadata": {
    "collapsed": false
   },
   "outputs": [],
   "source": [
    "sp.ticklabel_format(useOffset=False, style='plain')"
   ]
  },
  {
   "cell_type": "code",
   "execution_count": 58,
   "metadata": {
    "collapsed": false
   },
   "outputs": [],
   "source": [
    "line, = sp.plot(fo, temp, '.r')"
   ]
  },
  {
   "cell_type": "code",
   "execution_count": 59,
   "metadata": {
    "collapsed": true
   },
   "outputs": [],
   "source": [
    "#for _ in range(100):\n",
    "#    fo.append(_/10)\n",
    "#    temp.append(_/10 +.5)"
   ]
  },
  {
   "cell_type": "code",
   "execution_count": 60,
   "metadata": {
    "collapsed": true
   },
   "outputs": [],
   "source": [
    "def anim():\n",
    "    line.set_data(fo, temp)\n",
    "    sp.relim()\n",
    "    sp.autoscale_view(1,1,1)"
   ]
  },
  {
   "cell_type": "code",
   "execution_count": 61,
   "metadata": {
    "collapsed": false
   },
   "outputs": [
    {
     "name": "stdout",
     "output_type": "stream",
     "text": [
      "update 0.21\n",
      "update 0.11\n",
      "update 0.09\n",
      "update 0.10\n",
      "update 0.11\n",
      "update 0.13\n",
      "update 0.10\n",
      "update 0.11\n",
      "update 0.11\n",
      "update 0.13\n",
      "update 0.14\n",
      "update 0.09\n",
      "update 0.08\n",
      "update 0.05\n",
      "update 0.14\n",
      "update 0.11\n",
      "update 0.11\n",
      "update 0.11\n",
      "update 0.12\n",
      "update 0.12\n",
      "update 0.23\n",
      "update 0.14\n",
      "update 0.13\n",
      "update 0.08\n",
      "update 0.10\n",
      "update 0.12\n",
      "update 0.11\n",
      "update 0.11\n",
      "update 0.11\n",
      "update 0.14\n",
      "update 0.20\n",
      "update 0.11\n",
      "update 0.13\n",
      "update 0.11\n",
      "update 0.10\n",
      "update 0.11\n",
      "update 0.11\n",
      "update 0.12\n",
      "update 0.11\n",
      "update 0.11\n",
      "update 0.14\n",
      "update 0.11\n",
      "update 0.09\n",
      "update 0.08\n",
      "update 0.11\n",
      "update 0.11\n",
      "update 0.12\n",
      "update 0.12\n",
      "update 0.11\n",
      "update 0.11\n",
      "update 0.18\n",
      "update 0.16\n",
      "update 0.10\n",
      "update 0.10\n",
      "update 0.10\n",
      "update 0.10\n",
      "update 0.13\n",
      "update 0.11\n",
      "update 0.12\n",
      "update 0.13\n",
      "update 0.12\n",
      "update 0.19\n",
      "update 0.11\n",
      "update 0.09\n",
      "update 0.09\n",
      "update 0.09\n",
      "update 0.12\n",
      "update 0.11\n",
      "update 0.11\n",
      "update 0.11\n",
      "update 0.12\n",
      "update 0.18\n",
      "update 0.11\n",
      "update 0.11\n",
      "update 0.10\n",
      "update 0.11\n",
      "update 0.11\n",
      "update 0.11\n",
      "update 0.11\n",
      "update 0.10\n",
      "update 0.12\n",
      "update 0.17\n",
      "update 0.09\n",
      "update 0.09\n",
      "update 0.10\n",
      "update 0.11\n",
      "update 0.11\n",
      "update 0.11\n",
      "update 0.11\n",
      "update 0.11\n",
      "update 0.11\n",
      "update 0.18\n",
      "update 0.11\n",
      "update 0.09\n",
      "update 0.08\n",
      "update 0.11\n",
      "update 0.11\n",
      "update 0.11\n",
      "update 0.11\n",
      "update 0.12\n",
      "update 0.12\n",
      "update 0.18\n",
      "update 0.13\n",
      "update 0.10\n",
      "update 0.09\n",
      "update 0.10\n",
      "update 0.12\n",
      "update 0.11\n",
      "update 0.10\n",
      "update 0.13\n",
      "update 0.10\n",
      "update 0.62\n",
      "update 0.38\n"
     ]
    },
    {
     "ename": "TclError",
     "evalue": "this isn't a Tk application",
     "output_type": "error",
     "traceback": [
      "\u001b[1;31m---------------------------------------------------------------------------\u001b[0m",
      "\u001b[1;31mTclError\u001b[0m                                  Traceback (most recent call last)",
      "\u001b[1;32mc:\\python34\\lib\\site-packages\\matplotlib\\backends\\tkagg.py\u001b[0m in \u001b[0;36mblit\u001b[1;34m(photoimage, aggimage, bbox, colormode)\u001b[0m\n\u001b[0;32m     21\u001b[0m             \u001b[1;34m\"PyAggImagePhoto\"\u001b[0m\u001b[1;33m,\u001b[0m \u001b[0mphotoimage\u001b[0m\u001b[1;33m,\u001b[0m\u001b[1;33m\u001b[0m\u001b[0m\n\u001b[1;32m---> 22\u001b[1;33m             id(data), colormode, id(bbox_array))\n\u001b[0m\u001b[0;32m     23\u001b[0m     \u001b[1;32mexcept\u001b[0m \u001b[0mTk\u001b[0m\u001b[1;33m.\u001b[0m\u001b[0mTclError\u001b[0m\u001b[1;33m:\u001b[0m\u001b[1;33m\u001b[0m\u001b[0m\n",
      "\u001b[1;31mTclError\u001b[0m: this isn't a Tk application",
      "\nDuring handling of the above exception, another exception occurred:\n",
      "\u001b[1;31mTclError\u001b[0m                                  Traceback (most recent call last)",
      "\u001b[1;32m<ipython-input-61-c17aad352e8e>\u001b[0m in \u001b[0;36m<module>\u001b[1;34m()\u001b[0m\n\u001b[0;32m      4\u001b[0m     \u001b[0manim\u001b[0m\u001b[1;33m(\u001b[0m\u001b[1;33m)\u001b[0m\u001b[1;33m\u001b[0m\u001b[0m\n\u001b[0;32m      5\u001b[0m     \u001b[0mline\u001b[0m\u001b[1;33m.\u001b[0m\u001b[0mdraw\u001b[0m\u001b[1;33m(\u001b[0m\u001b[0mr\u001b[0m\u001b[1;33m)\u001b[0m\u001b[1;33m\u001b[0m\u001b[0m\n\u001b[1;32m----> 6\u001b[1;33m     \u001b[0mfig\u001b[0m\u001b[1;33m.\u001b[0m\u001b[0mcanvas\u001b[0m\u001b[1;33m.\u001b[0m\u001b[0mdraw\u001b[0m\u001b[1;33m(\u001b[0m\u001b[1;33m)\u001b[0m\u001b[1;33m\u001b[0m\u001b[0m\n\u001b[0m\u001b[0;32m      7\u001b[0m     \u001b[0mfig\u001b[0m\u001b[1;33m.\u001b[0m\u001b[0mcanvas\u001b[0m\u001b[1;33m.\u001b[0m\u001b[0mflush_events\u001b[0m\u001b[1;33m(\u001b[0m\u001b[1;33m)\u001b[0m\u001b[1;33m\u001b[0m\u001b[0m\n",
      "\u001b[1;32mc:\\python34\\lib\\site-packages\\matplotlib\\backends\\backend_tkagg.py\u001b[0m in \u001b[0;36mdraw\u001b[1;34m(self)\u001b[0m\n\u001b[0;32m    353\u001b[0m     \u001b[1;32mdef\u001b[0m \u001b[0mdraw\u001b[0m\u001b[1;33m(\u001b[0m\u001b[0mself\u001b[0m\u001b[1;33m)\u001b[0m\u001b[1;33m:\u001b[0m\u001b[1;33m\u001b[0m\u001b[0m\n\u001b[0;32m    354\u001b[0m         \u001b[0mFigureCanvasAgg\u001b[0m\u001b[1;33m.\u001b[0m\u001b[0mdraw\u001b[0m\u001b[1;33m(\u001b[0m\u001b[0mself\u001b[0m\u001b[1;33m)\u001b[0m\u001b[1;33m\u001b[0m\u001b[0m\n\u001b[1;32m--> 355\u001b[1;33m         \u001b[0mtkagg\u001b[0m\u001b[1;33m.\u001b[0m\u001b[0mblit\u001b[0m\u001b[1;33m(\u001b[0m\u001b[0mself\u001b[0m\u001b[1;33m.\u001b[0m\u001b[0m_tkphoto\u001b[0m\u001b[1;33m,\u001b[0m \u001b[0mself\u001b[0m\u001b[1;33m.\u001b[0m\u001b[0mrenderer\u001b[0m\u001b[1;33m.\u001b[0m\u001b[0m_renderer\u001b[0m\u001b[1;33m,\u001b[0m \u001b[0mcolormode\u001b[0m\u001b[1;33m=\u001b[0m\u001b[1;36m2\u001b[0m\u001b[1;33m)\u001b[0m\u001b[1;33m\u001b[0m\u001b[0m\n\u001b[0m\u001b[0;32m    356\u001b[0m         \u001b[0mself\u001b[0m\u001b[1;33m.\u001b[0m\u001b[0m_master\u001b[0m\u001b[1;33m.\u001b[0m\u001b[0mupdate_idletasks\u001b[0m\u001b[1;33m(\u001b[0m\u001b[1;33m)\u001b[0m\u001b[1;33m\u001b[0m\u001b[0m\n\u001b[0;32m    357\u001b[0m \u001b[1;33m\u001b[0m\u001b[0m\n",
      "\u001b[1;32mc:\\python34\\lib\\site-packages\\matplotlib\\backends\\tkagg.py\u001b[0m in \u001b[0;36mblit\u001b[1;34m(photoimage, aggimage, bbox, colormode)\u001b[0m\n\u001b[0;32m     28\u001b[0m                 \u001b[0m_tkagg\u001b[0m\u001b[1;33m.\u001b[0m\u001b[0mtkinit\u001b[0m\u001b[1;33m(\u001b[0m\u001b[0mid\u001b[0m\u001b[1;33m(\u001b[0m\u001b[0mtk\u001b[0m\u001b[1;33m)\u001b[0m\u001b[1;33m,\u001b[0m \u001b[1;36m0\u001b[0m\u001b[1;33m)\u001b[0m\u001b[1;33m\u001b[0m\u001b[0m\n\u001b[0;32m     29\u001b[0m             tk.call(\"PyAggImagePhoto\", photoimage,\n\u001b[1;32m---> 30\u001b[1;33m                     id(data), colormode, id(bbox_array))\n\u001b[0m\u001b[0;32m     31\u001b[0m         \u001b[1;32mexcept\u001b[0m \u001b[1;33m(\u001b[0m\u001b[0mImportError\u001b[0m\u001b[1;33m,\u001b[0m \u001b[0mAttributeError\u001b[0m\u001b[1;33m,\u001b[0m \u001b[0mTk\u001b[0m\u001b[1;33m.\u001b[0m\u001b[0mTclError\u001b[0m\u001b[1;33m)\u001b[0m\u001b[1;33m:\u001b[0m\u001b[1;33m\u001b[0m\u001b[0m\n\u001b[0;32m     32\u001b[0m             \u001b[1;32mraise\u001b[0m\u001b[1;33m\u001b[0m\u001b[0m\n",
      "\u001b[1;31mTclError\u001b[0m: this isn't a Tk application"
     ]
    }
   ],
   "source": [
    "r = fig.canvas.get_renderer()\n",
    "while True:\n",
    "    update()\n",
    "    anim()\n",
    "    line.draw(r)\n",
    "    fig.canvas.draw()\n",
    "    fig.canvas.flush_events()"
   ]
  }
 ],
 "metadata": {
  "kernelspec": {
   "display_name": "Python 3",
   "language": "python",
   "name": "python3"
  },
  "language_info": {
   "codemirror_mode": {
    "name": "ipython",
    "version": 3
   },
   "file_extension": ".py",
   "mimetype": "text/x-python",
   "name": "python",
   "nbconvert_exporter": "python",
   "pygments_lexer": "ipython3",
   "version": "3.4.1"
  }
 },
 "nbformat": 4,
 "nbformat_minor": 0
}
