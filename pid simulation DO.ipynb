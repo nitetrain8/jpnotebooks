{
 "cells": [
  {
   "cell_type": "code",
   "execution_count": 1,
   "metadata": {
    "collapsed": false
   },
   "outputs": [],
   "source": [
    "class PIDController():\n",
    "\n",
    "    AUTO_MODE = 1\n",
    "    OFF_MODE = 0\n",
    "\n",
    "    def __init__(self, pgain=1, itime=1, dtime=0, auto_max=100,\n",
    "                 auto_min=0, do_ifactor=False, anti_windup_backcalc=True,\n",
    "                 beta=1, linearity=1):\n",
    "\n",
    "        self.auto_min = auto_min\n",
    "        self.auto_max = auto_max\n",
    "        self.pgain = pgain\n",
    "        self.itime = itime\n",
    "        if self.itime:\n",
    "            self.oneoveritime = 1 / self.itime\n",
    "        else:\n",
    "            self.oneoveritime = 0\n",
    "        self.dtime = dtime\n",
    "        self.dif = do_ifactor\n",
    "        self.awb = anti_windup_backcalc\n",
    "\n",
    "        self.accumulated_error = 0\n",
    "        self.bump = 0\n",
    "        self.last_output = 0\n",
    "        self.last_error = 0\n",
    "        self.last_pv = 0\n",
    "        self.b = beta\n",
    "        self.l = linearity\n",
    "\n",
    "    def off_to_auto(self, pv, sp):\n",
    "        \"\"\"\n",
    "        Calculate bump for off-to-auto transfer\n",
    "        :param pv: current process temp to use for bumpless xfer calculation\n",
    "        \"\"\"\n",
    "        self.man_to_auto(pv, sp, 0)\n",
    "\n",
    "    def man_to_auto(self, pv, sp, op):\n",
    "        err_for_pgain = (self.b*sp-pv)*(self.l+(1-self.l)*(abs(self.b*sp-pv))/100)\n",
    "        uk0 = self.pgain * err_for_pgain\n",
    "        self.bump = op - uk0\n",
    "        self.last_pv = pv\n",
    "        \n",
    "    set_bump = man_to_auto\n",
    "\n",
    "    def reset(self):\n",
    "        self.accumulated_error = 0\n",
    "        self.last_pv = 0\n",
    "        self.last_error = 0        \n",
    "    \n",
    "    def step(self, pv, sp, dt=1):\n",
    "        err = sp - pv\n",
    "        dpv = pv - self.last_pv\n",
    "        ierr = (err + self.last_error) / 2 * dt\n",
    "        \n",
    "        # SP_Range is taken to be 100 for both of the below lines\n",
    "        # since range is calculated as +/- middle (?)\n",
    "        # so -100-100 is actually range of 100 according to LV (??)\n",
    "        err_for_pgain = (self.b*sp-pv)*(self.l+(1-self.l)*(abs(self.b*sp-pv))/100)\n",
    "        if self.dif:\n",
    "            ierr *= 1 / (1 + err * err * 10 / (100*100))  # Labview's ifactor thingy\n",
    "        \n",
    "        # bump (aka controller bias) isn't normally\n",
    "        # included in Up, but no one else reads my \n",
    "        # code :)\n",
    "        Up = self.bump + self.pgain * err_for_pgain\n",
    "        Ui = self.oneoveritime * (ierr + self.accumulated_error) * self.pgain\n",
    "        Ud = self.dtime * dpv * self.pgain\n",
    "        Uk = Up + Ui + Ud\n",
    "        \n",
    "        # XXX debugging\n",
    "        self.Ui = Ui * self.pgain\n",
    "        self.Uk = Uk\n",
    "        self.Ud = Ud * self.pgain\n",
    "        self.Up = Up\n",
    "        \n",
    "        # Coercion & back calculation      \n",
    "        back_calc = False\n",
    "        if Uk > self.auto_max:\n",
    "            Uk = self.auto_max\n",
    "            back_calc = True\n",
    "            am = self.auto_max\n",
    "        elif Uk < self.auto_min:\n",
    "            Uk = self.auto_min\n",
    "            back_calc = True\n",
    "            am = self.auto_min\n",
    "            \n",
    "        if back_calc and self.awb:\n",
    "            ierr = self.itime / self.pgain * (am - Up - Ud) - self.accumulated_error\n",
    "            \n",
    "        self.accumulated_error += ierr\n",
    "        self.last_output = Uk\n",
    "        self.last_pv = pv\n",
    "        self.last_error = err\n",
    "        self.last_ierr = ierr\n",
    "        \n",
    "        return Uk\n",
    "\n",
    "    def __repr__(self):\n",
    "        return \"Output: %.2f Pgain: %.1f Itime: %.2f AccumError: %.4f\" % (self.last_output,\n",
    "                                                                          self.pgain,\n",
    "                                                                          self.itime,\n",
    "                                                                          self.accumulated_error)\n",
    "    __str__ = __repr__\n",
    "    "
   ]
  },
  {
   "cell_type": "code",
   "execution_count": 2,
   "metadata": {
    "collapsed": false
   },
   "outputs": [],
   "source": [
    "def assert_equal(a,b):\n",
    "    assert a == b, (a, b)\n",
    "def test_trap_integration1():\n",
    "    data = [\n",
    "        (0, 1, .5),\n",
    "        (0, 2, 2),\n",
    "        (0, 3, 4.5)\n",
    "    ]\n",
    "    p = PIDController(1,1)\n",
    "    for pv, sp, op in data:\n",
    "        p.off_to_auto(pv, sp)\n",
    "        res_op = p.step(pv, sp)\n",
    "        assert_equal(p.last_error, sp)\n",
    "        assert_equal(p.accumulated_error, op)\n",
    "        assert_equal(res_op, op)\n",
    "test_trap_integration1()\n",
    "\n",
    "def check_Ui_backcalc(it, pg, Up, Ud, ierr, accum, val):\n",
    "    Ui2 = it * (ierr + accum) * pg\n",
    "    Uk2 = Up + Ud + Ui\n",
    "    Uk2 = round(Uk2, 8)\n",
    "    am = round(val, 8)\n",
    "    assert Uk2 == am, (Up, Ud, Ui, Uk2, val)"
   ]
  },
  {
   "cell_type": "code",
   "execution_count": 3,
   "metadata": {
    "collapsed": true
   },
   "outputs": [],
   "source": [
    "def m2s(m):\n",
    "    return m*60\n",
    "def s2m(s):\n",
    "    return s/60\n",
    "def h2s(h):\n",
    "    return m2s(h*60)"
   ]
  },
  {
   "cell_type": "code",
   "execution_count": 4,
   "metadata": {
    "collapsed": true
   },
   "outputs": [],
   "source": [
    "from types import FunctionType, MethodType\n",
    "def printdir(o):\n",
    "    for a in dir(o):\n",
    "        if not a.startswith(\"__\"):\n",
    "            v = getattr(o, a)\n",
    "            if not isinstance(v, (FunctionType, MethodType)):\n",
    "                print(a, v)"
   ]
  },
  {
   "cell_type": "code",
   "execution_count": 5,
   "metadata": {
    "collapsed": false
   },
   "outputs": [],
   "source": [
    "from collections import deque\n",
    "class DelayBuffer(deque):\n",
    "    def __init__(self, delay=30, startvalue=0):\n",
    "        delay = int(delay)\n",
    "        self.delay = delay\n",
    "        super().__init__(startvalue for _ in range(delay + 1))\n",
    "\n",
    "    def cycle(self, hd):\n",
    "        self[0] = hd\n",
    "        self.rotate(1)\n",
    "        return self[0]"
   ]
  },
  {
   "cell_type": "code",
   "execution_count": 125,
   "metadata": {
    "collapsed": false
   },
   "outputs": [],
   "source": [
    "import numpy as np\n",
    "class DOProcess():\n",
    "    def __init__(self, delay, initial=20, env=18.5, g=0.0019254, k=-0.001579031):\n",
    "        \"\"\"\n",
    "        :param g: gain in units of C/min/%\n",
    "        :param k: decay rate in units of C/min/dT\n",
    "        \"\"\"\n",
    "        self.tdelay = DelayBuffer(delay, initial).cycle\n",
    "        self.g = g / 60\n",
    "        self.k = k / 60\n",
    "        self.env = env\n",
    "        \n",
    "    def step(self, pv, op):\n",
    "        op = self.tdelay(op)\n",
    "        dT = pv - self.env\n",
    "        decay = self.k * dT\n",
    "        gain = self.g * op\n",
    "        dpv = decay + gain\n",
    "        return pv + dpv\n",
    "    \n",
    "class Delay():\n",
    "    def __init__(self, delay, initial, pc_at_delay=0.95):\n",
    "        assert 0 < pc_at_delay <= 1, \"don't be a retard\"\n",
    "        if delay:\n",
    "            self.df = np.log(1/(1-pc_at_delay)) / delay\n",
    "        else:\n",
    "            self.df = 1\n",
    "        self.sink = initial / self.df  - initial # fill the sink\n",
    "        if self.sink < 0:\n",
    "            self.sink = 0\n",
    "        \n",
    "    def delay(self, op, dt):\n",
    "        self.sink += op * dt\n",
    "        dNdt = self.df * self.sink * dt\n",
    "        self.sink -= dNdt\n",
    "        return dNdt\n",
    "        \n",
    "    \n",
    "class DOProcess2():\n",
    "    def __init__(self, delay, initial=20, g=0.0019254, k=-0.001579031):\n",
    "        \"\"\"\n",
    "        :param g: gain in units of C/min/%\n",
    "        :param k: decay rate in units of C/min/dT\n",
    "        \"\"\"\n",
    "        self.heatsink = Delay(delay, initial, 0.95)\n",
    "        self.g = g / 60\n",
    "        self.k = k / 60\n",
    "        \n",
    "    def step(self, pv, op):\n",
    "        op = self.heatsink.delay(op, 1)\n",
    "        dT = 100 - pv\n",
    "        decay = self.k * dT\n",
    "        gain = self.g * op\n",
    "        dpv = decay + gain\n",
    "        return pv + dpv\n",
    "\n",
    "\n",
    "class HeadspaceProcess():\n",
    "    def __init__(self, vol, main_gas, co2R=0, n2R=0, o2R=0, co2A=0, n2A=0.78, o2A=0.21):\n",
    "        \"\"\" \n",
    "        vol: volume headspace (L)\n",
    "        main_gas: main gas flow rate (L/min)\n",
    "        co2: CO2 request (%)\n",
    "        n2: N2 request (%)\n",
    "        \n",
    "        Calculate headspace concentration. DT = 1 second. \n",
    "        \"\"\"\n",
    "        self.vol = vol\n",
    "        self.main_gas = main_gas\n",
    "        self.co2R = co2R\n",
    "        self.n2R = n2R\n",
    "        self.o2R = o2R\n",
    "        self.airR = 1 - (co2R+n2R+o2R)\n",
    "        self.co2A = co2A\n",
    "        self.n2A = n2A\n",
    "        self.o2A = o2A\n",
    "        self.airA = 1 - (co2A+n2A+o2A)\n",
    "    \n",
    "    def calc_gas(self):\n",
    "        \"\"\" Calculate new headspace gas concentration.\n",
    "        Assumptions:\n",
    "            Mixing time is 0 seconds, i.e. gas mixture is always perfectly mixed\n",
    "            Gas lost from headspace is always equal to gas entering headspace\n",
    "            Concentration of individual gasses lost match headspace concentration of gasses. \n",
    "            Mass transfer coefficient of Air <-> liquid k <<< Mg (no concentration change across liquid boundary)\n",
    "            Air O2: 20.95%, N2: 78.09%, CO2=0.04%, other = 1-(o2+n2+co2)\n",
    "        \"\"\"\n",
    "        mg = self.main_gas / 60\n",
    "        \n",
    "        # volume of gas lost\n",
    "        co2L = mg * self.co2A\n",
    "        n2L = mg * self.n2A\n",
    "        o2L = mg * self.o2A\n",
    "        airL = mg * self.airA\n",
    "        \n",
    "        # volume of gas gained\n",
    "        # airG is non-corrected volume of air added\n",
    "        co2G = mg * self.co2R\n",
    "        n2G = mg * self.n2R\n",
    "        o2G = mg * self.o2R\n",
    "        airG = mg * self.airR\n",
    "        \n",
    "        # air contribution to gases\n",
    "        # airG is corrected to reflect\n",
    "        # the volume of non-tracked gases\n",
    "        # ie the 1% of trace elements or so\n",
    "        co2G += 0.0004 * airG\n",
    "        o2G += 0.2095 * airG\n",
    "        n2G += 0.7809 * airG\n",
    "        airG = (1 - (0.0004+.2095+.7809)) * airG\n",
    "        \n",
    "        # new volume of each gas\n",
    "        co2V = co2G - co2L + self.co2A * self.vol\n",
    "        n2V = n2G - n2L + self.n2A * self.vol\n",
    "        o2V = o2G - o2L + self.o2A * self.vol\n",
    "        airV = airG - airL + self.airA * self.vol\n",
    "        \n",
    "        # finally, new percentages\n",
    "        self.co2A = co2V / self.vol\n",
    "        self.n2A = n2V / self.vol\n",
    "        self.o2A = o2V / self.vol\n",
    "        \n",
    "        # sanity check\n",
    "        assert self.vol == round(co2V + n2V + o2V+airV, 6), (self.vol, co2V, n2V, o2V, sum((co2V, n2V, o2V)))\n",
    "        \n",
    "        \n",
    "    "
   ]
  },
  {
   "cell_type": "code",
   "execution_count": 126,
   "metadata": {
    "collapsed": true
   },
   "outputs": [],
   "source": [
    "h = HeadspaceProcess(30, 0.5, 0.07, .10, .40)\n",
    "def step():\n",
    "    h.calc_gas()"
   ]
  },
  {
   "cell_type": "code",
   "execution_count": 128,
   "metadata": {
    "collapsed": false
   },
   "outputs": [],
   "source": [
    "y1 = []"
   ]
  },
  {
   "cell_type": "code",
   "execution_count": null,
   "metadata": {
    "collapsed": true
   },
   "outputs": [],
   "source": []
  },
  {
   "cell_type": "code",
   "execution_count": 21,
   "metadata": {
    "collapsed": true
   },
   "outputs": [],
   "source": [
    "def do_sim(p, i, d, delay, amax, amin, end, op=0, pv=20, sp=37, \n",
    "             g=0.0019254, k=-0.001579031, mode='m2a', beta=1):\n",
    "    pid = PIDController(p,m2s(i),m2s(d),amax,amin, do_ifactor=True, beta=beta)\n",
    "    if mode == 'm2a':\n",
    "        pid.man_to_auto(pv, sp, op)\n",
    "    else:\n",
    "        pid.man_to_auto(pv, pv, op)\n",
    "    proc = DOProcess2(delay, op, g=g, k=k)\n",
    "    t = 0\n",
    "    data = [(t, pv, op)]\n",
    "    while True:\n",
    "        t += 1\n",
    "        op = pid.step(pv, sp)\n",
    "        pv = proc.step(pv, op)\n",
    "        data.append((t, pv, op))\n",
    "        if t >= end:\n",
    "            break\n",
    "    return data\n",
    "\n",
    "    "
   ]
  },
  {
   "cell_type": "code",
   "execution_count": 22,
   "metadata": {
    "collapsed": false
   },
   "outputs": [],
   "source": [
    "def paste(cells, data, offset=0):\n",
    "    with screen_lock(xl):\n",
    "        cells.Range(cells(1,1+offset), cells(1, 3+offset)).Value = [(\"T\", \"PV\", \"OP\")]\n",
    "        topleft = cells(2,1+offset)\n",
    "        bottomright = topleft.Offset(len(data), len(data[0]))\n",
    "        cells.Range(topleft, bottomright).Clear()\n",
    "        cells.Range(topleft, bottomright).Value = data\n",
    "    \n",
    "def clear(cells, data, offset=0):\n",
    "    if not data: return\n",
    "    with screen_lock(xl):\n",
    "        topleft = cells(2,1+offset)\n",
    "        bottomright = topleft.Offset(len(data), len(data[0]))\n",
    "        cells.Range(topleft, bottomright).Clear()"
   ]
  },
  {
   "cell_type": "code",
   "execution_count": 23,
   "metadata": {
    "collapsed": false
   },
   "outputs": [],
   "source": [
    "from officelib.xllib import *\n",
    "xl = Excel()\n",
    "\n",
    "wb = xl.ActiveWorkbook\n",
    "wb = wb or xl.Workbooks.Add()\n",
    "\n",
    "ws = xl.ActiveSheet\n",
    "ws = ws or wb.Worksheets.Add()\n",
    "\n",
    "cells = ws.Cells\n",
    "cell_range = ws.Cells.Range"
   ]
  },
  {
   "cell_type": "code",
   "execution_count": 24,
   "metadata": {
    "collapsed": true
   },
   "outputs": [],
   "source": [
    "offset = 0\n",
    "p = 60\n",
    "i = 35\n",
    "data = []\n",
    "delay=m2s(15)"
   ]
  },
  {
   "cell_type": "code",
   "execution_count": 43,
   "metadata": {
    "collapsed": false
   },
   "outputs": [],
   "source": [
    "clear(cells, data, 0)\n",
    "data = do_sim(p=1, i=10, d=0, delay=m2s(5), k=0.0005,\n",
    "                    amax=100, amin=0, end=m2s(480), op=0, \n",
    "                    pv=30, sp=40, mode='a2a', beta=0)\n",
    "paste(cells, data)"
   ]
  },
  {
   "cell_type": "code",
   "execution_count": 38,
   "metadata": {
    "collapsed": false
   },
   "outputs": [
    {
     "data": {
      "text/plain": [
       "0.00028935185185185184"
      ]
     },
     "execution_count": 38,
     "metadata": {},
     "output_type": "execute_result"
    }
   ],
   "source": [
    "50/(2*24*60*60)"
   ]
  },
  {
   "cell_type": "code",
   "execution_count": null,
   "metadata": {
    "collapsed": true
   },
   "outputs": [],
   "source": []
  }
 ],
 "metadata": {
  "kernelspec": {
   "display_name": "Python 3",
   "language": "python",
   "name": "python3"
  },
  "language_info": {
   "codemirror_mode": {
    "name": "ipython",
    "version": 3
   },
   "file_extension": ".py",
   "mimetype": "text/x-python",
   "name": "python",
   "nbconvert_exporter": "python",
   "pygments_lexer": "ipython3",
   "version": "3.5.2"
  }
 },
 "nbformat": 4,
 "nbformat_minor": 1
}
