{
 "cells": [
  {
   "cell_type": "code",
   "execution_count": 4,
   "metadata": {
    "collapsed": true
   },
   "outputs": [],
   "source": [
    "from officelib.wordlib import Word\n",
    "import os\n",
    "from clipboard import *"
   ]
  },
  {
   "cell_type": "code",
   "execution_count": 14,
   "metadata": {},
   "outputs": [],
   "source": [
    "ims = '\\\\\\\\pbsstation\\\\pbsicmi\\\\Documents\\\\Manufacturing\\\\Mfg Released\\\\%s\\\\'\n",
    "\n",
    "def findit(im, typ=\".docx\"):\n",
    "    fp = os.path.join(ims%im[:2], im)\n",
    "    files = os.listdir(fp)\n",
    "    files = [f for f in files if im in f and f.endswith(typ)]\n",
    "    if len(files) > 1:\n",
    "        raise ValueError(\"Multiple files for %r\"%im)\n",
    "    elif len(files) == 0:\n",
    "        raise ValueError(\"Could not find %s for %r\"%(typ,im))\n",
    "    return os.path.join(fp, files[0])"
   ]
  },
  {
   "cell_type": "code",
   "execution_count": 6,
   "metadata": {
    "collapsed": true
   },
   "outputs": [],
   "source": [
    "proc_list = {\n",
    "    '3L': (153, 154),\n",
    "    '15L': (158, 159),\n",
    "    '80L': (164, 165),\n",
    "    'software': (186, 211),\n",
    "}"
   ]
  },
  {
   "cell_type": "code",
   "execution_count": 16,
   "metadata": {
    "collapsed": true
   },
   "outputs": [],
   "source": [
    "def _iname(i):\n",
    "    return \"IM%05d\"%i\n",
    "\n",
    "def printout_im(w, im, copies=1):\n",
    "    fp = findit(im)\n",
    "    print(\"Printing document for %r... \"%im, end=\"\")\n",
    "    d = w.Documents.Open(fp)\n",
    "    d.PrintOut(Copies=copies)\n",
    "    d.Close(False)\n",
    "    print(\"Done\")\n",
    "\n",
    "def printout(sz, sw=True, copies=1):\n",
    "    if sz not in proc_list:\n",
    "        raise ValueError(sz)\n",
    "    if sz == 'software':\n",
    "        sw = False  # don't double print\n",
    "    w = Word()\n",
    "    if sw:\n",
    "        for i in proc_list['software']:\n",
    "            printout_im(w, _iname(i), copies)\n",
    "    for i in proc_list[sz]:\n",
    "        printout_im(w, _iname(i), copies)\n",
    "    w.Quit()"
   ]
  },
  {
   "cell_type": "code",
   "execution_count": 40,
   "metadata": {},
   "outputs": [
    {
     "name": "stdout",
     "output_type": "stream",
     "text": [
      "Printing document for 'IM00186'... Done\n",
      "Printing document for 'IM00211'... Done\n",
      "Printing document for 'IM00153'... Done\n",
      "Printing document for 'IM00154'... Done\n"
     ]
    }
   ],
   "source": [
    "printout(\"3L\")"
   ]
  },
  {
   "cell_type": "code",
   "execution_count": 17,
   "metadata": {},
   "outputs": [
    {
     "name": "stdout",
     "output_type": "stream",
     "text": [
      "Printing document for 'IM00186'... Done\n",
      "Printing document for 'IM00211'... Done\n"
     ]
    }
   ],
   "source": [
    "printout('software', False, 4)"
   ]
  },
  {
   "cell_type": "code",
   "execution_count": 3,
   "metadata": {
    "collapsed": true
   },
   "outputs": [],
   "source": [
    "fldr = 'C:\\\\Users\\\\Nathan\\\\Documents\\\\PBS' + \"\\\\KLS Trip October 2017\""
   ]
  },
  {
   "cell_type": "code",
   "execution_count": 10,
   "metadata": {},
   "outputs": [
    {
     "name": "stdout",
     "output_type": "stream",
     "text": [
      "Copying IM00158\n",
      "Copying IM00159\n",
      "Copying IM00153\n",
      "Copying IM00154\n",
      "Copying IM00186\n",
      "Copying IM00211\n",
      "Copying IM00164\n",
      "Copying IM00165\n"
     ]
    }
   ],
   "source": [
    "for k in proc_list:\n",
    "    for v in proc_list[k]:\n",
    "        im = _iname(v)\n",
    "        print(\"Copying\", im)\n",
    "        p = os.path.join(fldr, im)\n",
    "        with open(findit(im), 'rb') as f1:\n",
    "            stuff = f1.read()\n",
    "        with open(p+\".docx\", 'wb') as f2:\n",
    "            f2.write(stuff)"
   ]
  },
  {
   "cell_type": "code",
   "execution_count": 15,
   "metadata": {},
   "outputs": [
    {
     "name": "stdout",
     "output_type": "stream",
     "text": [
      "Copying IM00155\n",
      "Copying IM00156\n",
      "Copying IM00213\n",
      "Copying IQ00035\n",
      "Copying IF00113\n"
     ]
    }
   ],
   "source": [
    "names = [\"IM00213\", \"IQ00035\", \"IF00113\"]\n",
    "for name in names:\n",
    "        print(\"Copying\", name)\n",
    "        p = os.path.join(fldr, name)\n",
    "        try:\n",
    "            fp = findit(name, \".docx\")\n",
    "        except ValueError:\n",
    "            fp = findit(name, \".pdf\")\n",
    "        with open(fp, 'rb') as f1:\n",
    "            stuff = f1.read()\n",
    "        with open(p+\".\"+fp.split(\".\")[-1], 'wb') as f2:\n",
    "            f2.write(stuff)"
   ]
  },
  {
   "cell_type": "code",
   "execution_count": null,
   "metadata": {
    "collapsed": true
   },
   "outputs": [],
   "source": []
  }
 ],
 "metadata": {
  "kernelspec": {
   "display_name": "Python 3",
   "language": "python",
   "name": "python3"
  },
  "language_info": {
   "codemirror_mode": {
    "name": "ipython",
    "version": 3
   },
   "file_extension": ".py",
   "mimetype": "text/x-python",
   "name": "python",
   "nbconvert_exporter": "python",
   "pygments_lexer": "ipython3",
   "version": "3.5.2"
  }
 },
 "nbformat": 4,
 "nbformat_minor": 2
}
