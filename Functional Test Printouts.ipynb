{
 "cells": [
  {
   "cell_type": "code",
   "execution_count": 1,
   "metadata": {},
   "outputs": [],
   "source": [
    "from officelib.wordlib import Word\n",
    "import os\n",
    "\n",
    "ims = '\\\\\\\\pbsstation\\\\pbsicmi\\\\Documents\\\\Manufacturing\\\\Mfg Released\\\\IM\\\\'\n",
    "\n",
    "def findit(im):\n",
    "    fp = os.path.join(ims, im)\n",
    "    files = os.listdir(fp)\n",
    "    files = [f for f in files if im in f and f[-5:] == \".docx\"]\n",
    "    if len(files) > 1:\n",
    "        raise ValueError(\"Multiple files for %r\"%im)\n",
    "    elif len(files) == 0:\n",
    "        raise ValueError(\"Could not find .docx for %r\"%im)\n",
    "    return os.path.join(fp, files[0])\n",
    "\n",
    "proc_list = {\n",
    "    '3l': (153, 154),\n",
    "    '15l': (158, 159),\n",
    "    '80l': (164, 165),\n",
    "    'software': (186, 211),\n",
    "}\n",
    "\n",
    "def _iname(i):\n",
    "    return \"IM%05d\"%i\n",
    "\n",
    "def printout_im(w, im, copies=1, close=True):\n",
    "    fp = findit(im)\n",
    "    print(\"Printing document for %r... \"%im, end=\"\")\n",
    "    d = w.Documents.Open(fp)\n",
    "    d.PrintOut(Copies=copies)\n",
    "    if close:\n",
    "        d.Close(False)\n",
    "    print(\"Done\")\n",
    "\n",
    "def printout(sz, sw=True, copies=1):\n",
    "    sz = sz.lower()\n",
    "    if sz == \"software\":\n",
    "        sz = None\n",
    "        sw = True\n",
    "    else:\n",
    "        if sz not in proc_list:\n",
    "            raise ValueError(sz)\n",
    "    w = Word()\n",
    "    if sw:\n",
    "        for i in proc_list['software']:\n",
    "            printout_im(w, _iname(i), copies)\n",
    "    if sz is not None:\n",
    "        for i in proc_list[sz]:\n",
    "            printout_im(w, _iname(i), copies)\n",
    "    w.Quit()"
   ]
  },
  {
   "cell_type": "code",
   "execution_count": 3,
   "metadata": {},
   "outputs": [
    {
     "name": "stdout",
     "output_type": "stream",
     "text": [
      "Printing document for 'IM00153'... Done\n",
      "Printing document for 'IM00154'... Done\n"
     ]
    }
   ],
   "source": [
    "printout(\"3L\", False)"
   ]
  },
  {
   "cell_type": "code",
   "execution_count": null,
   "metadata": {},
   "outputs": [],
   "source": []
  }
 ],
 "metadata": {
  "kernelspec": {
   "display_name": "Python 3",
   "language": "python",
   "name": "python3"
  },
  "language_info": {
   "codemirror_mode": {
    "name": "ipython",
    "version": 3
   },
   "file_extension": ".py",
   "mimetype": "text/x-python",
   "name": "python",
   "nbconvert_exporter": "python",
   "pygments_lexer": "ipython3",
   "version": "3.5.2"
  }
 },
 "nbformat": 4,
 "nbformat_minor": 2
}
