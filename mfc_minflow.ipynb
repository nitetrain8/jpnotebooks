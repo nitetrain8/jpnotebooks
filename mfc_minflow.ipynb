{
 "cells": [
  {
   "cell_type": "code",
   "execution_count": 1,
   "metadata": {
    "collapsed": true
   },
   "outputs": [],
   "source": [
    "from hello import hello, hello3\n",
    "from time import sleep"
   ]
  },
  {
   "cell_type": "code",
   "execution_count": 4,
   "metadata": {
    "collapsed": true
   },
   "outputs": [],
   "source": [
    "def call_v3(f, *args):\n",
    "    s = \"(\" + \", \".join(map(repr, args)) + \")\"\n",
    "    print(\"Calling %s%s\" % (f.__name__, s))\n",
    "    while True:\n",
    "        try:\n",
    "            rv = f(*args)\n",
    "        except hello3.NotLoggedInError:\n",
    "            h.login()\n",
    "        except requests.exceptions.ConnectTimeout as e:\n",
    "            print(str(e))\n",
    "            print(\"Make sure you're on the right network!\")\n",
    "        else:\n",
    "            return rv\n",
    "        \n",
    "def call_v2(f, *args):\n",
    "    s = \"(\" + \", \".join(map(repr, args)) + \")\"\n",
    "    print(\"Calling %s%s\" % (f.__name__, s))\n",
    "    fail = 0\n",
    "    while True:\n",
    "        try:\n",
    "            rv = f(*args)\n",
    "        except Exception:\n",
    "            if fail == 1:\n",
    "                raise\n",
    "            h.login()\n",
    "            fail = 1\n",
    "        except requests.exceptions.ConnectTimeout as e:\n",
    "            print(str(e))\n",
    "            print(\"Make sure you're on the right network!\")\n",
    "        else:\n",
    "            return rv\n",
    "        \n",
    "def mg(sp):\n",
    "    return call(h.setmg, 1, sp)\n",
    "\n",
    "def off():\n",
    "    call(h.setmg, 2, 0)\n",
    "    call(h.setdo, 2, 0, 0)\n",
    "    call(h.setph, 2, 0, 0)\n",
    "\n",
    "def getconfig():\n",
    "    global co2max, airmin, n2min, o2min, co2min\n",
    "    cfg = call(h.getConfig)\n",
    "    co2max = cfg['pH']['CO2_Manual_Max_(%)']\n",
    "    \n",
    "    airmin = cfg['Gas_Data']['Air_Min_(LPM)']\n",
    "    n2min = cfg['Gas_Data']['N2_Min_(LPM)']\n",
    "    o2min = cfg['Gas_Data']['O2_Min_(LPM)']\n",
    "    co2min = cfg['Gas_Data']['CO2_Min_(LPM)']\n",
    "    \n",
    "    call(h.setconfig, 'pH', 'CO2_Manual_Max_(%)', 100)\n",
    "    \n",
    "def fixconfig():\n",
    "    call(h.setconfig, 'pH', 'CO2_Manual_Max_(%)', co2max)\n",
    "    \n",
    "def n2on():\n",
    "    call(h.setdo, 1, 100, 0)\n",
    "    mg(n2min)\n",
    "    \n",
    "def o2on_v2():\n",
    "    call(h.setdo, 1, 0, o2min*1000)\n",
    "    \n",
    "def o2on_v3():\n",
    "    call(h.setdo, 1, 0, 100)\n",
    "    mg(o2min)\n",
    "    \n",
    "def airon():\n",
    "    mg(airmin)\n",
    "    \n",
    "def co2on():\n",
    "    call(h.setph, 1, 100, 0)\n",
    "    mg(co2min)\n",
    "    \n",
    "def verify(v):\n",
    "    assert input(\"Verify Flow (%s) \"%v) != \"n\"\n",
    "    \n",
    "def main(ip, v):\n",
    "    global call, o2on\n",
    "    global h\n",
    "    \n",
    "    if v == 2:\n",
    "        call = call_v2\n",
    "        K = hello.HelloApp\n",
    "        o2on = o2on_v2\n",
    "    else:\n",
    "        call = call_v3\n",
    "        K = hello3.HelloApp\n",
    "        o2on = o2on_v3\n",
    "        \n",
    "    h = K(ip)\n",
    "    getconfig()\n",
    "    for f in airon, n2on, co2on, o2on:\n",
    "        off()\n",
    "        sleep(4)\n",
    "        f()\n",
    "        verify(f.__name__[:-2])\n",
    "    fixconfig()"
   ]
  },
  {
   "cell_type": "code",
   "execution_count": 5,
   "metadata": {},
   "outputs": [
    {
     "name": "stdout",
     "output_type": "stream",
     "text": [
      "Calling getConfig()\n",
      "Calling setconfig('pH', 'CO2_Manual_Max_(%)', 100)\n",
      "Calling setmg(2, 0)\n",
      "Calling setdo(2, 0, 0)\n",
      "Calling setph(2, 0, 0)\n",
      "Calling setmg(1, 0.03)\n",
      "Verify Flow (air) \n",
      "Calling setmg(2, 0)\n",
      "Calling setdo(2, 0, 0)\n",
      "Calling setph(2, 0, 0)\n",
      "Calling setdo(1, 100, 0)\n",
      "Calling setmg(1, 0.03)\n",
      "Verify Flow (n2) \n",
      "Calling setmg(2, 0)\n",
      "Calling setdo(2, 0, 0)\n",
      "Calling setph(2, 0, 0)\n",
      "Calling setph(1, 100, 0)\n",
      "Calling setmg(1, 0.03)\n",
      "Verify Flow (co2) \n",
      "Calling setmg(2, 0)\n",
      "Calling setdo(2, 0, 0)\n",
      "Calling setph(2, 0, 0)\n",
      "Calling setdo(1, 0, 100)\n",
      "Calling setmg(1, 0.02)\n",
      "Verify Flow (o2on_) \n",
      "Calling setconfig('pH', 'CO2_Manual_Max_(%)', 100.0)\n"
     ]
    }
   ],
   "source": [
    "main('192.168.1.12', 3)"
   ]
  },
  {
   "cell_type": "code",
   "execution_count": null,
   "metadata": {
    "collapsed": true
   },
   "outputs": [],
   "source": []
  }
 ],
 "metadata": {
  "kernelspec": {
   "display_name": "Python 3",
   "language": "python",
   "name": "python3"
  },
  "language_info": {
   "codemirror_mode": {
    "name": "ipython",
    "version": 3
   },
   "file_extension": ".py",
   "mimetype": "text/x-python",
   "name": "python",
   "nbconvert_exporter": "python",
   "pygments_lexer": "ipython3",
   "version": "3.5.2"
  }
 },
 "nbformat": 4,
 "nbformat_minor": 2
}
