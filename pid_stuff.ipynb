{
 "cells": [
  {
   "cell_type": "code",
   "execution_count": 318,
   "metadata": {
    "collapsed": false
   },
   "outputs": [],
   "source": [
    "class PIDController():\n",
    "\n",
    "    AUTO_MODE = 1\n",
    "    OFF_MODE = 0\n",
    "\n",
    "    def __init__(self, pgain=1, itime=1, dtime=0, auto_max=100,\n",
    "                 auto_min=0, do_ifactor=False):\n",
    "\n",
    "        self.auto_min = auto_min\n",
    "        self.auto_max = auto_max\n",
    "        self.pgain = pgain\n",
    "        self.itime = itime\n",
    "        self.oneoveritime = 1 / self.itime  # used to calc accumulated_error time\n",
    "        self.dtime = dtime\n",
    "        self.dif = do_ifactor\n",
    "\n",
    "        self.accumulated_error = 0\n",
    "        self.bump = 0\n",
    "        self.last_output = 0\n",
    "        self.last_error = 0\n",
    "        self.last_pv = 0\n",
    "\n",
    "    def off_to_auto(self, pv, sp):\n",
    "        \"\"\"\n",
    "        Calculate bump for off-to-auto transfer\n",
    "        :param pv: current process temp to use for bumpless xfer calculation\n",
    "        \"\"\"\n",
    "        self.man_to_auto(pv, sp, 0)\n",
    "\n",
    "    def man_to_auto(self, pv, sp, op):\n",
    "        err = sp - pv\n",
    "        uk0 = self.pgain * err\n",
    "        self.bump = op - uk0\n",
    "        \n",
    "    set_bump = man_to_auto\n",
    "\n",
    "    def reset(self):\n",
    "        self.accumulated_error = 0\n",
    "        self.last_pv = 0\n",
    "        self.last_error = 0        \n",
    "\n",
    "    def _calc_output(self, error, dpv, accum_error):\n",
    "        Ui = self.oneoveritime * accum_error\n",
    "        Ud = self.dtime * dpv\n",
    "        Uk = self.bump + self.pgain * (error + Ui + Ud)\n",
    "\n",
    "        if Uk > self.auto_max:\n",
    "            Uk = self.auto_max\n",
    "        elif Uk < self.auto_min:\n",
    "            Uk = self.auto_min\n",
    "\n",
    "        return Uk\n",
    "    \n",
    "    def _process_err(self, pv, sp, dt):\n",
    "        err = sp - pv\n",
    "        dpv = pv - self.last_pv\n",
    "        self.last_pv = pv\n",
    "        accum = self.accumulated_error\n",
    "        self.accumulated_error += dt * err\n",
    "        return err, dpv, accum\n",
    "\n",
    "    def step_output(self, pv, sp, dt=1):\n",
    "        err, dpv, accum = self._process_err(pv, sp, dt)\n",
    "        out = self._calc_output(err, dpv, accum)\n",
    "        self.last_output = out\n",
    "        return out\n",
    "    \n",
    "    def step_output2(self, pv, sp, dt=1):\n",
    "        err = sp - pv\n",
    "        dpv = pv - self.last_pv\n",
    "        ierr = (err + self.last_error) / 2 * dt\n",
    "        \n",
    "        if self.dif:\n",
    "            ierr *= 1 / (1 + err * err / 250)  # Labview's ifactor thingy\n",
    "        \n",
    "        # bump (aka controller bias) isn't normally\n",
    "        # included in Up, but no one else reads my \n",
    "        # code :)\n",
    "        Up = self.bump + self.pgain * err\n",
    "        Ui = self.oneoveritime * (ierr + self.accumulated_error) * self.pgain\n",
    "        Ud = self.dtime * dpv * self.pgain\n",
    "        Uk = Up + Ui + Ud\n",
    "        \n",
    "        # XXX debugging\n",
    "        self.Ui = Ui * self.pgain\n",
    "        self.Uk = Uk\n",
    "        self.Ud = Ud * self.pgain\n",
    "        self.Up = Up\n",
    "        \n",
    "        def assert_(val):\n",
    "            Uk2 = Up + Ud + Ui2\n",
    "            Uk2 = round(Uk2, 8)\n",
    "            am = round(val, 8)\n",
    "            assert Uk2 == am, (Up, Ud, Ui2, Uk2, val)\n",
    "        \n",
    "        # Coercion & back calculation      \n",
    "        back_calc = False\n",
    "        if Uk > self.auto_max:\n",
    "            Uk = self.auto_max\n",
    "            back_calc = True\n",
    "            am = self.auto_max\n",
    "        elif Uk < self.auto_min:\n",
    "            Uk = self.auto_min\n",
    "            back_calc = True\n",
    "            am = self.auto_min\n",
    "            \n",
    "        if back_calc:\n",
    "            ierr = self.itime / self.pgain *(am - Up - Ud) - self.accumulated_error\n",
    "            \n",
    "        self.accumulated_error += ierr\n",
    "        self.last_output = Uk\n",
    "        self.last_pv = pv\n",
    "        self.last_error = err\n",
    "        self.last_ierr = ierr\n",
    "        \n",
    "        return Uk\n",
    "        \n",
    "    step = step_output2\n",
    "\n",
    "    def __repr__(self):\n",
    "        return \"Output: %.2f Pgain: %.1f Itime: %.2f AccumError: %.4f\" % (self.last_output,\n",
    "                                                                          self.pgain,\n",
    "                                                                          self.itime,\n",
    "                                                                          self.accumulated_error)\n",
    "    __str__ = __repr__\n",
    "    \n",
    "def pid_ideal(p, i, d, imax, imin, bump, err, ierr, dpv):\n",
    "    ui = (1 / i) * ierr\n",
    "    ud = d * dpv\n",
    "    uk = bump + p * (err + ui + ud)\n",
    "    if uk > imax:\n",
    "        uk = imax\n",
    "    elif uk < imin:\n",
    "        uk = imin\n",
    "    return uk\n",
    "    "
   ]
  },
  {
   "cell_type": "code",
   "execution_count": 300,
   "metadata": {
    "collapsed": false
   },
   "outputs": [],
   "source": [
    "def assert_equal(a,b):\n",
    "    assert a == b, (a, b)\n",
    "def test_trap_integration1():\n",
    "    data = [\n",
    "        (0, 1, .5),\n",
    "        (0, 2, 2),\n",
    "        (0, 3, 4.5)\n",
    "    ]\n",
    "    p = PIDController(1,1)\n",
    "    for pv, sp, op in data:\n",
    "        p.off_to_auto(pv, sp)\n",
    "        res_op = p.step(pv, sp)\n",
    "        assert_equal(p.last_error, sp)\n",
    "        assert_equal(p.accumulated_error, op)\n",
    "        assert_equal(res_op, op)\n",
    "test_trap_integration1()\n",
    "\n",
    "def check_Ui_backcalc(it, pg, Up, Ud, ierr, accum, val):\n",
    "    Ui2 = it * (ierr + accum) * pg\n",
    "    Uk2 = Up + Ud + Ui\n",
    "    Uk2 = round(Uk2, 8)\n",
    "    am = round(val, 8)\n",
    "    assert Uk2 == am, (Up, Ud, Ui, Uk2, val)"
   ]
  },
  {
   "cell_type": "code",
   "execution_count": null,
   "metadata": {
    "collapsed": true
   },
   "outputs": [],
   "source": []
  },
  {
   "cell_type": "code",
   "execution_count": null,
   "metadata": {
    "collapsed": true
   },
   "outputs": [],
   "source": []
  },
  {
   "cell_type": "code",
   "execution_count": 105,
   "metadata": {
    "collapsed": true
   },
   "outputs": [],
   "source": [
    "def m2s(m):\n",
    "    return m*60\n",
    "def s2m(s):\n",
    "    return s/60\n",
    "def h2s(h):\n",
    "    return m2s(h*60)"
   ]
  },
  {
   "cell_type": "code",
   "execution_count": 330,
   "metadata": {
    "collapsed": false
   },
   "outputs": [],
   "source": [
    "from collections import deque\n",
    "class DelayBuffer(deque):\n",
    "    def __init__(self, delay=30, startvalue=0):\n",
    "        delay = int(delay)\n",
    "        self.delay = delay\n",
    "        super().__init__(startvalue for _ in range(delay + 1))\n",
    "\n",
    "    def cycle(self, hd):\n",
    "        self[0] = hd\n",
    "        self.rotate(1)\n",
    "        return self[0]"
   ]
  },
  {
   "cell_type": "code",
   "execution_count": 104,
   "metadata": {
    "collapsed": true
   },
   "outputs": [],
   "source": [
    "def run(t=3600, interval=0.3):\n",
    "    cycles = int(t/interval)\n",
    "    p = PIDController(40, 1, 10, 0, 100)\n",
    "    s = DOSim(40, 0.1, 0.035, 0.465/0.035)\n",
    "    sp = 40\n",
    "    pv = 40\n",
    "    mg = 0.5\n",
    "    co2 = 0.7\n",
    "    co2_flow = co2 * mg\n",
    "    x = []\n",
    "    y = []\n",
    "    t = 0\n",
    "    for _ in range(cycles):\n",
    "        op = p.step(sp, pv, interval)\n",
    "        o2_flow = op * mg\n",
    "        air_flow = (1-(co2_flow + o2_flow))\n",
    "        pv = s.step(o2_flow, air_flow, interval)\n",
    "        x.append(t)\n",
    "        y.append(pv)\n",
    "        t += interval\n",
    "        print(o2_flow, pv, t)\n",
    "    return x, y\n",
    "        "
   ]
  },
  {
   "cell_type": "code",
   "execution_count": 106,
   "metadata": {
    "collapsed": true
   },
   "outputs": [],
   "source": [
    "from types import FunctionType, MethodType\n",
    "def printdir(o):\n",
    "    for a in dir(o):\n",
    "        if not a.startswith(\"__\"):\n",
    "            v = getattr(o, a)\n",
    "            if not isinstance(v, (FunctionType, MethodType)):\n",
    "                print(a, v)"
   ]
  },
  {
   "cell_type": "code",
   "execution_count": 121,
   "metadata": {
    "collapsed": true
   },
   "outputs": [
    {
     "name": "stdout",
     "output_type": "stream",
     "text": [
      "Up: 3 Ui: 0.021929824561403514\n",
      "Up: 3 Ui: 0.04385964912280703\n",
      "Up: 3 Ui: 0.06578947368421054\n",
      "Up: 3 Ui: 0.08771929824561406\n",
      "Up: 3 Ui: 0.10964912280701755\n",
      "Up: 3 Ui: 0.13157894736842107\n",
      "Up: 3 Ui: 0.1535087719298246\n",
      "Up: 3 Ui: 0.17543859649122812\n",
      "Up: 3 Ui: 0.1973684210526316\n",
      "Up: 3 Ui: 0.2192982456140351\n",
      "AUTO_MODE 1\n",
      "OFF_MODE 0\n",
      "accumulated_error 10\n",
      "auto_max 100\n",
      "auto_min 0\n",
      "bump -3\n",
      "dtime 0\n",
      "itime 136.79999999999998\n",
      "last_error 1\n",
      "last_output 0.2192982456140351\n",
      "last_pv 39\n",
      "oneoveritime 0.007309941520467838\n",
      "pgain 3\n"
     ]
    }
   ],
   "source": [
    "p = PIDController(3, m2s(2.28), 0)\n",
    "steps = 10\n",
    "p.set_bump(39, 40, 0)\n",
    "for _ in range(steps):\n",
    "    op = p.step(39, 40, 1)\n",
    "printdir(p)"
   ]
  },
  {
   "cell_type": "code",
   "execution_count": 214,
   "metadata": {
    "collapsed": false
   },
   "outputs": [],
   "source": [
    "def coerce(val, low, high):\n",
    "    if val > high:\n",
    "        return high\n",
    "    elif val < low:\n",
    "        return low \n",
    "    return val\n",
    "\n",
    "class GasController():\n",
    "    def __init__(self):\n",
    "        self.co2_req = 7\n",
    "        self.o2_max = 500\n",
    "        \n",
    "    def calc_o2(self, pc):\n",
    "        maxo2 = 100-self.co2_req\n",
    "        o2pc = coerce(pc, 0, maxo2)\n",
    "        return o2pc * self.o2_max / 100\n",
    "                \n",
    "\n",
    "class DOProcess():\n",
    "    def __init__(self, pv, gain, decay, delay=0):\n",
    "        self.gain = gain\n",
    "        self.decay = decay\n",
    "        self.pv = pv\n",
    "        self.initial_pv = pv\n",
    "        self.delay = delay\n",
    "        self.gdelay = DelayBuffer(self.delay, 0).cycle\n",
    "        \n",
    "    def reset(self):\n",
    "        self.gdelay = DelayBuffer(self.delay, 0).cycle\n",
    "        self.pv = self.initial_pv\n",
    "        \n",
    "    def calc(self, o2flow, dt):\n",
    "        step_gain = self.gain * dt * o2flow\n",
    "        step_decay = self.decay * dt\n",
    "        return step_gain, step_decay\n",
    "    \n",
    "    def step(self, o2flow, dt):\n",
    "        g, d = self.calc(o2flow, dt)\n",
    "        g = self.gdelay(g)\n",
    "        self.pv = self.pv + g + d\n",
    "        return self.pv"
   ]
  },
  {
   "cell_type": "code",
   "execution_count": 11,
   "metadata": {
    "collapsed": false
   },
   "outputs": [],
   "source": [
    "from officelib.xllib import *\n",
    "xl = Excel()\n",
    "wb = xl.ActiveWorkbook\n",
    "if wb is None:\n",
    "    wb = xl.Workbooks.Add()\n",
    "ws = xl.ActiveSheet\n",
    "if ws is None:\n",
    "    ws = wb.Worksheets.Add()\n",
    "cell_range = ws.Cells.Range"
   ]
  },
  {
   "cell_type": "code",
   "execution_count": 242,
   "metadata": {
    "collapsed": false
   },
   "outputs": [],
   "source": [
    "def run2(pid, iters=1000):\n",
    "    p, i, d = pid\n",
    "    \n",
    "    sp = 40\n",
    "    pv = 39\n",
    "    op = 0\n",
    "    dt = 1\n",
    "    c = PIDController(p, i, d)\n",
    "    c.set_bump(pv, sp, op)\n",
    "    proc = DOProcess(pv, .0001, -.0003)\n",
    "    ctrl = GasController()\n",
    "    o2 = ctrl.calc_o2(op)\n",
    "    data = [(pv, op, o2)]\n",
    "    for i in range(iters):\n",
    "        pv = proc.step(o2, dt)\n",
    "        op = c.step(pv, sp, dt)\n",
    "        o2 = ctrl.calc_o2(op)    \n",
    "        data.append((pv, op, o2))\n",
    "    sp = 40\n",
    "    pv = 39\n",
    "    op = 0\n",
    "    dt = 1\n",
    "    o2 = ctrl.calc_o2(op)\n",
    "    c.reset()\n",
    "    proc.reset()\n",
    "    data = [(pv, op, o2)]\n",
    "    for i in range(iters):\n",
    "        pv = proc.step(o2, dt)\n",
    "        op = c.step(pv, sp, dt)\n",
    "        o2 = ctrl.calc_o2(op)    \n",
    "        data.append((pv, op, o2))\n",
    "\n",
    "    return data"
   ]
  },
  {
   "cell_type": "code",
   "execution_count": 326,
   "metadata": {
    "collapsed": false
   },
   "outputs": [],
   "source": [
    "def run3(iters, o2, sp, pid, ctrl, proc, dt):\n",
    "    data = []; dap = data.append\n",
    "    abs_ = abs\n",
    "    s = 0\n",
    "    for _ in range(iters):\n",
    "        pv = proc.step(o2, dt)\n",
    "        op = pid.step(pv, sp, dt)\n",
    "        o2 = ctrl.calc_o2(op)\n",
    "        dap((pv, op, abs_(sp-pv)))\n",
    "    return data\n",
    "#         s += abs_(pv - sp)\n",
    "#     return s\n",
    "    \n",
    "def run_test(p, i, d, pv=39, sp=40, gain=0.0001, decay=-0.0003, delay=0):\n",
    "    ctrl = GasController()\n",
    "    op = 0\n",
    "    pid = PIDController(p, m2s(i), d)\n",
    "    pid.set_bump(pv, sp, op)\n",
    "    o2 = ctrl.calc_o2(op)\n",
    "    proc = DOProcess(pv, gain, decay, delay)\n",
    "    data = run3(3600, o2, sp, pid, ctrl, proc, 1)\n",
    "    return data\n",
    "\n",
    "def run_test2(p, i, d):\n",
    "    return run_test(p, i, d, 39, 40, 0.0001, -0.0003)\n",
    "\n",
    "def abs_integral_sum(data):\n",
    "    return sum(d[2] for d in data)\n",
    "\n",
    "def test():\n",
    "    p = 3\n",
    "    d = 0\n",
    "    res = []\n",
    "    i = 1\n",
    "    di = 1\n",
    "    lasts = 99999999999999999999\n",
    "    while abs(di) > 0.0001:\n",
    "        d = run_test2(p, i, d, 39, 40, .0001, -.0003)\n",
    "        s = abs_integral_sum(d)\n",
    "        res.append((s, (p, i, d)))\n",
    "        if s > lasts:\n",
    "            di = -di/2\n",
    "        i += di\n",
    "        lasts = s\n",
    "        #print(\"\\rS: %s I: %s DI: %s           \" % (s, i, di), end=\"\")\n",
    "    print(\"%d simulations run\" % len(res))\n",
    "    for s, (p, i, d) in sorted(res, key=lambda t:t[0])[:10]:\n",
    "        print(s, \"P: %s I: %s\" % (p, i))\n",
    "    min(res, key=lambda t:t[0])\n",
    "\n",
    "    \n",
    "def test2():\n",
    "    vals = []\n",
    "    n = 0\n",
    "    for p in range(1, 30):\n",
    "        p /= 10\n",
    "        for i in range(1, 100):\n",
    "            i /= 10\n",
    "            d = run_test2(p, i, 0)\n",
    "            s = abs_integral_sum(d)\n",
    "            vals.append((p, i, s))\n",
    "            n += 1\n",
    "            if not n % 100:\n",
    "                print(\"\\rRan test #%d\" % n, end=\"\")\n",
    "    vals.sort(key=lambda t: t[2])\n",
    "    print()\n",
    "    print(\"%d simulations run\" % len(vals))\n",
    "    for p, i, s in vals[:10]:\n",
    "        print(s, \"P: %s I: %s\" % (p, i))\n",
    "    return vals\n",
    "    \n",
    "def print_res(res):\n",
    "    for p, i, s in res:\n",
    "        print(s, \"P: %s I: %s\" % (p, i))\n",
    "        \n",
    "def sort_res(res):\n",
    "    return sorted(res, key=lambda t: t[0])\n",
    "\n",
    "def test3():\n",
    "    p = 2.9\n",
    "    i = 0.1\n",
    "    d = 0\n",
    "    delay=0\n",
    "    dat = run_test(p, i, d, delay=delay)\n",
    "    s = abs_integral_sum(dat)\n",
    "    print(s, \"P: %s I: %s\" % (p, i))\n",
    "    "
   ]
  },
  {
   "cell_type": "code",
   "execution_count": 282,
   "metadata": {
    "collapsed": false
   },
   "outputs": [
    {
     "name": "stdout",
     "output_type": "stream",
     "text": [
      "Ran test #2800\n",
      "2871 simulations run\n",
      "1039.1484331098536 P: 2.9 I: 3.4\n",
      "1039.152705766263 P: 2.9 I: 3.3\n",
      "1039.2646630827749 P: 2.9 I: 3.5\n",
      "1039.2875436908234 P: 2.9 I: 3.2\n",
      "1039.4643229848307 P: 2.9 I: 3.6\n",
      "1039.5633007865115 P: 2.9 I: 3.1\n",
      "1039.7000303805062 P: 2.9 I: 3.7\n",
      "1039.9393504308468 P: 2.9 I: 3.8\n",
      "1039.988945710738 P: 2.9 I: 3.0\n",
      "1040.1620144736798 P: 2.9 I: 3.9\n"
     ]
    }
   ],
   "source": [
    "# test()\n",
    "vals = test2()\n",
    "#test3()"
   ]
  },
  {
   "cell_type": "code",
   "execution_count": 333,
   "metadata": {
    "collapsed": true
   },
   "outputs": [],
   "source": [
    "from officelib.xllib import *\n",
    "from officelib.const import xlconst\n",
    "from pywintypes import com_error\n",
    "\n",
    "def get_xl():\n",
    "    xl = Excel()\n",
    "    wb = xl.Workbooks(\"PID Model 160921.xlsx\")\n",
    "    ws = wb.Worksheets(\"PID (2)\")\n",
    "    cr = ws.Cells.Range\n",
    "    return xl, wb, ws, cr\n",
    "\n",
    "def plugin_data1(p, i, delay):\n",
    "    xl, wb, ws, cr = get_xl()\n",
    "    with screen_lock(xl):\n",
    "        pr = cr(\"B3\")\n",
    "        ir = cr(\"C3\")\n",
    "        dr = cr(\"Q3\")\n",
    "        pr.Value = p\n",
    "        ir.Value = i\n",
    "        dr.Value = delay\n",
    "\n",
    "def plugin_data2(data):\n",
    "    \"\"\"\n",
    "    :param data: list of tuples (p, i, abs_error)\n",
    "    \"\"\"\n",
    "    xl, wb, ws, cr = get_xl()\n",
    "    with screen_lock(xl):\n",
    "        topleft = cr(\"D34\")\n",
    "        botright = topleft.Offset(len(data), 3)\n",
    "        botright2 = topleft.End(xlconst.xlDown).Offset(1, 3)\n",
    "        cr(topleft, botright2).Clear()\n",
    "        cr(topleft, botright).Value = data"
   ]
  },
  {
   "cell_type": "code",
   "execution_count": 325,
   "metadata": {
    "collapsed": false
   },
   "outputs": [
    {
     "name": "stdout",
     "output_type": "stream",
     "text": [
      "Ran test #2200\n",
      "2280 simulations run\n",
      "2222.7939878347884 P: 1.9 I: 19.0\n",
      "2222.7948516976426 P: 1.9 I: 18.9\n",
      "2222.870864644803 P: 1.9 I: 19.1\n",
      "2222.874045310199 P: 1.9 I: 18.8\n",
      "2223.0248958976485 P: 1.9 I: 19.2\n",
      "2223.0321604520896 P: 1.9 I: 18.7\n",
      "2223.255514673854 P: 1.9 I: 19.3\n",
      "2223.2698587467758 P: 1.9 I: 18.6\n",
      "2223.5623823264104 P: 1.9 I: 19.4\n",
      "2223.5877074329997 P: 1.9 I: 18.5\n"
     ]
    }
   ],
   "source": [
    "def test4():\n",
    "    vals = []\n",
    "    n = 0\n",
    "    delay=400\n",
    "    for p in range(1, 20):\n",
    "        p /= 10\n",
    "        for i in range(1, 200):\n",
    "            i /= 10\n",
    "            d = run_test(p, i, 0, delay=delay)\n",
    "            s = abs_integral_sum(d)\n",
    "            vals.append((p, i, s))\n",
    "            n += 1\n",
    "            if not n % 100:\n",
    "                print(\"\\rRan test #%d\" % n, end=\"\")\n",
    "    vals.sort(key=lambda t: t[2])\n",
    "    print()\n",
    "    print(\"%d simulations run\" % len(vals))\n",
    "    for p, i, s in vals[:10]:\n",
    "        print(s, \"P: %s I: %s\" % (p, i))\n",
    "    p, i, _ = vals[0]\n",
    "    plugin_data(p, i, delay)\n",
    "    return vals\n",
    "vals4 = test4()"
   ]
  },
  {
   "cell_type": "code",
   "execution_count": 334,
   "metadata": {
    "collapsed": true
   },
   "outputs": [],
   "source": [
    "def sum_error(p, i, delay=0):\n",
    "    d = run_test(p, i, 0, delay=delay)\n",
    "    plugin_data1(p, i, delay)\n",
    "    plugin_data2(d)\n",
    "    s = abs_integral_sum(d)\n",
    "    return s"
   ]
  },
  {
   "cell_type": "code",
   "execution_count": 336,
   "metadata": {
    "collapsed": false
   },
   "outputs": [
    {
     "data": {
      "text/plain": [
       "1252.439816018017"
      ]
     },
     "execution_count": 336,
     "metadata": {},
     "output_type": "execute_result"
    }
   ],
   "source": [
    "sum_error(2, 3, 10)"
   ]
  },
  {
   "cell_type": "code",
   "execution_count": 246,
   "metadata": {
    "collapsed": false
   },
   "outputs": [
    {
     "name": "stdout",
     "output_type": "stream",
     "text": [
      "decay -0.0003\n",
      "delay 0\n",
      "gain 0.0001\n",
      "initial_pv 39\n",
      "pv 39\n",
      "AUTO_MODE 1\n",
      "OFF_MODE 0\n",
      "accumulated_error 0\n",
      "auto_max 100\n",
      "auto_min 0\n",
      "bump -3\n",
      "dtime 0\n",
      "itime 60\n",
      "last_error 0\n",
      "last_output 0\n",
      "last_pv 0\n",
      "oneoveritime 0.016666666666666666\n",
      "pgain 3\n"
     ]
    }
   ],
   "source": [
    "try:\n",
    "    pr.Clear()\n",
    "except NameError:\n",
    "    pass\n",
    "data = run2((3,m2s(1),0), 3601)\n",
    "s = cell_range(\"D33\")\n",
    "pr = cell_range(s, s.Offset(len(data), 3))\n",
    "pr.Value = data"
   ]
  },
  {
   "cell_type": "code",
   "execution_count": 116,
   "metadata": {
    "collapsed": true
   },
   "outputs": [],
   "source": [
    "from officelib.xllib import *\n",
    "xl = Excel()\n",
    "\n",
    "wb = xl.ActiveWorkbook\n",
    "wb = wb or xl.Workbooks.Add()\n",
    "\n",
    "ws = xl.ActiveSheet\n",
    "ws = ws or wb.Worksheets.Add()\n",
    "\n",
    "cells = ws.Cells\n",
    "cell_range = ws.Cells.Range"
   ]
  },
  {
   "cell_type": "code",
   "execution_count": 224,
   "metadata": {
    "collapsed": false
   },
   "outputs": [],
   "source": [
    "# from decimal import Decimal as D\n",
    "class TempProcess():\n",
    "    def __init__(self, delay, env=18.5, g=0.0019254, k=-0.001579031):\n",
    "        \"\"\"\n",
    "        :param g: gain in units of C/min/%\n",
    "        :param k: decay rate in units of C/min/dT\n",
    "        \"\"\"\n",
    "        self.tdelay = DelayBuffer(delay).cycle\n",
    "        self.g = g / 60\n",
    "        self.k = k / 60\n",
    "        self.env = env\n",
    "        \n",
    "    def step(self, pv, op):\n",
    "        op = self.tdelay(op)\n",
    "        dT = pv - self.env\n",
    "        decay = self.k * dT\n",
    "        gain = self.g * op\n",
    "        dpv = decay + gain\n",
    "        return pv + dpv"
   ]
  },
  {
   "cell_type": "code",
   "execution_count": 290,
   "metadata": {
    "collapsed": true
   },
   "outputs": [],
   "source": [
    "def temp_sim(p, i, d, delay, amax, amin, end, op=0, pv=20, sp=37):\n",
    "    pid = PIDController(p,m2s(i),d,amax,amin, do_ifactor=True)\n",
    "    pid.man_to_auto(pv, sp, op)\n",
    "    proc = TempProcess(delay)\n",
    "    t = 0\n",
    "    data = [(t, pv, op, 0, 0, 0, 0)]\n",
    "    while True:\n",
    "        t += 1\n",
    "        op = pid.step(pv, sp)\n",
    "        pv = proc.step(pv, op)\n",
    "        data.append((t, pv, op, pid.accumulated_error, pid.Uk, pid.Up, pid.Ui))\n",
    "        if t >= end:\n",
    "            break\n",
    "    return data\n",
    "    "
   ]
  },
  {
   "cell_type": "code",
   "execution_count": 301,
   "metadata": {
    "collapsed": false
   },
   "outputs": [],
   "source": [
    "def paste(cells, data):\n",
    "    cells.Range(cells(1,1), cells(1, 3)).Value = [(\"T\", \"PV\", \"OP\")]\n",
    "    topleft = cells(2,1)\n",
    "    bottomright = topleft.Offset(len(data), len(data[0]))\n",
    "    cells.Range(topleft, bottomright).Clear()\n",
    "    cells.Range(topleft, bottomright).Value = data\n",
    "    "
   ]
  },
  {
   "cell_type": "code",
   "execution_count": 346,
   "metadata": {
    "collapsed": false
   },
   "outputs": [],
   "source": [
    "data = temp_sim(60, 19, 0, m2s(4.7), 100, 0, m2s(600), 0, 21.4)\n",
    "paste(cells, data)"
   ]
  },
  {
   "cell_type": "code",
   "execution_count": null,
   "metadata": {
    "collapsed": true
   },
   "outputs": [],
   "source": []
  },
  {
   "cell_type": "code",
   "execution_count": 336,
   "metadata": {
    "collapsed": false
   },
   "outputs": [
    {
     "data": {
      "text/plain": [
       "4.6999999999999975"
      ]
     },
     "execution_count": 336,
     "metadata": {},
     "output_type": "execute_result"
    }
   ],
   "source": [
    "cell = ws.Cells.Range(\"H3\")\n",
    "delay = 4\n",
    "with screen_lock(xl):\n",
    "    while True:\n",
    "        data = temp_sim(30, 10, 0, m2s(delay), 100, 0, m2s(600), 0, 21.4)\n",
    "        paste(cells, data)\n",
    "        if cell.Value > 38.28:\n",
    "            break\n",
    "        delay += .1\n",
    "delay"
   ]
  },
  {
   "cell_type": "code",
   "execution_count": null,
   "metadata": {
    "collapsed": true
   },
   "outputs": [],
   "source": []
  }
 ],
 "metadata": {
  "kernelspec": {
   "display_name": "Python 3",
   "language": "python",
   "name": "python3"
  },
  "language_info": {
   "codemirror_mode": {
    "name": "ipython",
    "version": 3
   },
   "file_extension": ".py",
   "mimetype": "text/x-python",
   "name": "python",
   "nbconvert_exporter": "python",
   "pygments_lexer": "ipython3",
   "version": "3.5.2"
  }
 },
 "nbformat": 4,
 "nbformat_minor": 1
}
