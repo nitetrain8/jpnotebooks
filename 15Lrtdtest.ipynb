{
 "cells": [
  {
   "cell_type": "code",
   "execution_count": 101,
   "metadata": {
    "collapsed": true
   },
   "outputs": [],
   "source": [
    "from officelib.xllib import *\n",
    "from officelib import const as c\n",
    "from hello.hello import *\n",
    "import os\n",
    "os.chdir(\"C:/.replcache\")"
   ]
  },
  {
   "cell_type": "code",
   "execution_count": 79,
   "metadata": {
    "collapsed": false
   },
   "outputs": [],
   "source": [
    "def download(ip, name, fp):\n",
    "    app = open_hello(ip)\n",
    "    app.login()\n",
    "    r = app.getdatareport_bybatchname(name)\n",
    "    with open(fp, 'wb') as f:\n",
    "        f.write(r)\n",
    "#download(\"71.189.82.196:6\", \"rtdtest\", \"rtdtest.csv\")"
   ]
  },
  {
   "cell_type": "code",
   "execution_count": null,
   "metadata": {
    "collapsed": false
   },
   "outputs": [],
   "source": []
  },
  {
   "cell_type": "code",
   "execution_count": 80,
   "metadata": {
    "collapsed": false
   },
   "outputs": [],
   "source": [
    "def find_column(rng, header):\n",
    "    return rng.Find(header, SearchOrder=c.xlByColumns)"
   ]
  },
  {
   "cell_type": "code",
   "execution_count": 81,
   "metadata": {
    "collapsed": false
   },
   "outputs": [],
   "source": [
    "def fudge_column(cells):\n",
    "    \"\"\" For some reason, cells.Find() can't find \n",
    "    the requested header if the header occurs in the \n",
    "    first column, so insert a dummy here \"\"\"\n",
    "    cells.Columns(1).Insert()"
   ]
  },
  {
   "cell_type": "code",
   "execution_count": 82,
   "metadata": {
    "collapsed": false
   },
   "outputs": [],
   "source": [
    "def get_header_data(cells, h):\n",
    "    c = find_column(cells, h)\n",
    "    s = c.Offset(2,2)\n",
    "    e = s.End(c.xlDown)\n",
    "    rows = e.Row-s.Row + 1\n",
    "    return c, s, e, rows\n",
    "\n",
    "def make_col(ref, offset, header):\n",
    "    c = ref.Offset(1, offset)\n",
    "    c.Value = header\n",
    "    s = c.Offset(2, 1)\n",
    "    return c, s\n",
    "\n",
    "def create_data(cells):\n",
    "    rng=cells.Rows(1)\n",
    "    fo = get_data(\"FilterOvenPV(C)\")\n",
    "    ta = get_data(\"TempA(C)\")\n",
    "    tb = get_data(\"TempB(C)\")\n",
    "    \n",
    "    amb = tb.Offset(1,4)\n",
    "    diff = amb.Offset(1,2)\n",
    "    \n",
    "    amb.Value = \"Ambient\"\n",
    "    diff.Value = \"Diff A-B\"\n",
    "    \n",
    "    return fo, ta, tb, amb, diff\n",
    "\n",
    "def make_amb_diff(cells):\n",
    "    fo, fo_start, fo_end, fo_r = get_header_data(cells, \"FilterOvenPV(C)\")\n",
    "    tempa, tempa_start, tempa_end, tempa_r = get_header_data(cells, \"TempA(C)\")\n",
    "    tempb, tempb_start, tempb_end, tempb_r = get_header_data(cells, \"TempB(C)\")\n",
    "\n",
    "    assert (fo_r == tempa_r and fo_r == tempb_r)\n",
    "    \n",
    "    amb, amb_start = make_col(tempb, 4, \"Ambient\")\n",
    "    diff, diff_start = make_col(amb, 2, \"Diff A-B\")\n",
    "\n",
    "    amb_form = \"=%s\" % addr(fo_start)\n",
    "    diff_form = \"=%s-%s\" % (addr(tempa_start), addr(tempb_start))\n",
    "\n",
    "    amb_start.Value = amb_form\n",
    "    diff_start.Value = diff_form\n",
    "    \n",
    "    form_rng = cells.Range(amb_start, diff_start)\n",
    "    dst = cells.Range(amb_start, diff_start.Offset(fo_r, 1))\n",
    "    form_rng.AutoFill(dst)\n",
    "    \n",
    "    return amb, diff\n",
    "    \n",
    "def addr(r):\n",
    "    return r.GetAddress(False, False)\n",
    "\n"
   ]
  },
  {
   "cell_type": "code",
   "execution_count": 83,
   "metadata": {
    "collapsed": false
   },
   "outputs": [],
   "source": [
    "def chart_data_rng(cells, xc, yc):\n",
    "    x = cells.Range(xc, xc.End(c.xlDown))\n",
    "    y = cells.Range(yc, yc.End(c.xlDown))\n",
    "    return x, y"
   ]
  },
  {
   "cell_type": "code",
   "execution_count": 108,
   "metadata": {
    "collapsed": true
   },
   "outputs": [],
   "source": [
    "def min_and_max(cells, x_start, ystart):\n",
    "    rng = cells.Range(x_start, x_start.End(c.xlDown))\n",
    "    yrng = cells.Range(ystart, ystart.End(c.xlDown))\n",
    "    x = [x1[0] for x1 in rng.Value]\n",
    "    y = [y1[0] for y1 in yrng.Value]\n",
    "    xmin = min(x)\n",
    "    xmax = max(x)\n",
    "    ymin = min(y)\n",
    "    ymax = max(y)\n",
    "    return xmin, xmax, ymin, ymax\n",
    "\n",
    "def shrink_markers(c, sz=2):\n",
    "    for s in c.SeriesCollection():\n",
    "        s.MarkerSize=sz\n",
    "\n",
    "def analyze_rtd_data(pth, title):\n",
    "    \n",
    "    # Init ctx\n",
    "    xl = Excel()\n",
    "    fp = os.path.abspath(pth)\n",
    "    wb = xl.Workbooks.Open(fp)\n",
    "    ws = wb.Worksheets(1)\n",
    "    cells = ws.Cells\n",
    "    \n",
    "    # data analysis \n",
    "    fudge_column(cells)\n",
    "    amb, diff = make_amb_diff(cells)\n",
    "    amb_start = amb.Offset(2,1)\n",
    "    diff_start = diff.Offset(2,1)\n",
    "    \n",
    "    # create chart ambient vs rtd error\n",
    "    c1 = CreateChart(ws)\n",
    "    x, y = chart_data_rng(cells, amb_start, diff_start)\n",
    "    series = CreateDataSeries(c1, x, y)\n",
    "    \n",
    "    FormatChart(c1, None, title, \"Ambient Temp(C)\", \"Err A-B\", True, False)\n",
    "    shrink_markers(c1)\n",
    "    \n",
    "    xmin, xmax, ymin, ymax = min_and_max(cells, amb_start, diff_start)\n",
    "    FormatAxesScale(c, int(xmin)-2, int(xmax)+2, round(ymin-.2, 1), round(ymax+.2, 1))\n",
    "        \n",
    "    c1.Location(c.xlLocationAsNewSheet, \"AmbRTD\")\n",
    "    c1 = wb.Charts(\"AmbRTD\")\n",
    "    \n",
    "    # create chart amb v. time and diff v. time\n",
    "    \n",
    "    # time data\n",
    "    tb = find_column(\"TempB\")\n",
    "    ts = tb.Offset(2,1)\n",
    "    te = ts.End(c.xlDown)\n",
    "    t = cells.Range(ts, te)\n",
    "    \n",
    "    c2 = CreateChart(ws)\n",
    "    s2 = CreateDataSeries(c2, t, x, \"Ambient\")\n",
    "    s3 = CreateDataSeries(c2, t, y, \"Diff v. Time\")\n",
    "    s3.AxisGroup = 2\n",
    "    \n",
    "    xmin, xmax, y1min, y1max = min_and_max(cells, ts, amb_start)\n",
    "    _, _, y2min, y2max = min_and_max(cells, ts, diff_start)\n",
    "    y1min = int(y1min-1)\n",
    "    y1max = int(y1max+1)\n",
    "    y2min = int(y2min-1)\n",
    "    y2max = int(y2max+1)\n",
    "    FormatAxesScale(c, None, None, y1min, y1max, y2min, y2max)    \n",
    "    shrink_markers(c)\n",
    "    c2.Location(c.xlLocationAsNewSheet, \"vs Time\")\n",
    "    \n",
    "    return c"
   ]
  },
  {
   "cell_type": "code",
   "execution_count": 109,
   "metadata": {
    "collapsed": false
   },
   "outputs": [
    {
     "ename": "AttributeError",
     "evalue": "'module' object has no attribute 'Axes'",
     "output_type": "error",
     "traceback": [
      "\u001b[1;31m---------------------------------------------------------------------------\u001b[0m",
      "\u001b[1;31mAttributeError\u001b[0m                            Traceback (most recent call last)",
      "\u001b[1;32m<ipython-input-109-e9882f18785a>\u001b[0m in \u001b[0;36m<module>\u001b[1;34m()\u001b[0m\n\u001b[1;32m----> 1\u001b[1;33m \u001b[0manalyze_rtd_data\u001b[0m\u001b[1;33m(\u001b[0m\u001b[1;34m\"rtdtest.csv\"\u001b[0m\u001b[1;33m,\u001b[0m \u001b[1;34m\"15L Ambient RTD Effect\"\u001b[0m\u001b[1;33m)\u001b[0m\u001b[1;33m\u001b[0m\u001b[0m\n\u001b[0m",
      "\u001b[1;32m<ipython-input-108-ff3a0a13e046>\u001b[0m in \u001b[0;36manalyze_rtd_data\u001b[1;34m(pth, title)\u001b[0m\n\u001b[0;32m     38\u001b[0m \u001b[1;33m\u001b[0m\u001b[0m\n\u001b[0;32m     39\u001b[0m     \u001b[0mxmin\u001b[0m\u001b[1;33m,\u001b[0m \u001b[0mxmax\u001b[0m\u001b[1;33m,\u001b[0m \u001b[0mymin\u001b[0m\u001b[1;33m,\u001b[0m \u001b[0mymax\u001b[0m \u001b[1;33m=\u001b[0m \u001b[0mmin_and_max\u001b[0m\u001b[1;33m(\u001b[0m\u001b[0mcells\u001b[0m\u001b[1;33m,\u001b[0m \u001b[0mamb_start\u001b[0m\u001b[1;33m,\u001b[0m \u001b[0mdiff_start\u001b[0m\u001b[1;33m)\u001b[0m\u001b[1;33m\u001b[0m\u001b[0m\n\u001b[1;32m---> 40\u001b[1;33m     \u001b[0mFormatAxesScale\u001b[0m\u001b[1;33m(\u001b[0m\u001b[0mc\u001b[0m\u001b[1;33m,\u001b[0m \u001b[0mint\u001b[0m\u001b[1;33m(\u001b[0m\u001b[0mxmin\u001b[0m\u001b[1;33m)\u001b[0m\u001b[1;33m-\u001b[0m\u001b[1;36m2\u001b[0m\u001b[1;33m,\u001b[0m \u001b[0mint\u001b[0m\u001b[1;33m(\u001b[0m\u001b[0mxmax\u001b[0m\u001b[1;33m)\u001b[0m\u001b[1;33m+\u001b[0m\u001b[1;36m2\u001b[0m\u001b[1;33m,\u001b[0m \u001b[0mround\u001b[0m\u001b[1;33m(\u001b[0m\u001b[0mymin\u001b[0m\u001b[1;33m-\u001b[0m\u001b[1;36m.2\u001b[0m\u001b[1;33m,\u001b[0m \u001b[1;36m1\u001b[0m\u001b[1;33m)\u001b[0m\u001b[1;33m,\u001b[0m \u001b[0mround\u001b[0m\u001b[1;33m(\u001b[0m\u001b[0mymax\u001b[0m\u001b[1;33m+\u001b[0m\u001b[1;36m.2\u001b[0m\u001b[1;33m,\u001b[0m \u001b[1;36m1\u001b[0m\u001b[1;33m)\u001b[0m\u001b[1;33m)\u001b[0m\u001b[1;33m\u001b[0m\u001b[0m\n\u001b[0m\u001b[0;32m     41\u001b[0m \u001b[1;33m\u001b[0m\u001b[0m\n\u001b[0;32m     42\u001b[0m     \u001b[0mc1\u001b[0m\u001b[1;33m.\u001b[0m\u001b[0mLocation\u001b[0m\u001b[1;33m(\u001b[0m\u001b[0mc\u001b[0m\u001b[1;33m.\u001b[0m\u001b[0mxlLocationAsNewSheet\u001b[0m\u001b[1;33m,\u001b[0m \u001b[1;34m\"AmbRTD\"\u001b[0m\u001b[1;33m)\u001b[0m\u001b[1;33m\u001b[0m\u001b[0m\n",
      "\u001b[1;32mC:\\Users\\PBS Biotech\\Documents\\Personal\\PBS_Office\\MSOffice\\officelib\\xllib\\xlcom.py\u001b[0m in \u001b[0;36mFormatAxesScale\u001b[1;34m(chart, XAxisMin, XAxisMax, Y1AxisMin, Y1AxisMax, Y2AxisMin, Y2AxisMax)\u001b[0m\n\u001b[0;32m    646\u001b[0m \u001b[1;33m\u001b[0m\u001b[0m\n\u001b[0;32m    647\u001b[0m     \u001b[1;32mif\u001b[0m \u001b[0mXAxisMin\u001b[0m \u001b[1;32mor\u001b[0m \u001b[0mXAxisMax\u001b[0m\u001b[1;33m:\u001b[0m\u001b[1;33m\u001b[0m\u001b[0m\n\u001b[1;32m--> 648\u001b[1;33m         \u001b[0mxAxis\u001b[0m \u001b[1;33m=\u001b[0m \u001b[0mchart\u001b[0m\u001b[1;33m.\u001b[0m\u001b[0mAxes\u001b[0m\u001b[1;33m(\u001b[0m\u001b[0mxlCategory\u001b[0m\u001b[1;33m,\u001b[0m \u001b[0mxlPrimary\u001b[0m\u001b[1;33m)\u001b[0m\u001b[1;33m\u001b[0m\u001b[0m\n\u001b[0m\u001b[0;32m    649\u001b[0m         \u001b[1;32mif\u001b[0m \u001b[0mXAxisMin\u001b[0m\u001b[1;33m:\u001b[0m\u001b[1;33m\u001b[0m\u001b[0m\n\u001b[0;32m    650\u001b[0m             \u001b[0mxAxis\u001b[0m\u001b[1;33m.\u001b[0m\u001b[0mMinimumScale\u001b[0m \u001b[1;33m=\u001b[0m \u001b[0mXAxisMin\u001b[0m\u001b[1;33m\u001b[0m\u001b[0m\n",
      "\u001b[1;31mAttributeError\u001b[0m: 'module' object has no attribute 'Axes'"
     ]
    }
   ],
   "source": [
    "analyze_rtd_data(\"rtdtest.csv\", \"15L Ambient RTD Effect\")"
   ]
  },
  {
   "cell_type": "code",
   "execution_count": 96,
   "metadata": {
    "collapsed": true
   },
   "outputs": [],
   "source": []
  },
  {
   "cell_type": "code",
   "execution_count": null,
   "metadata": {
    "collapsed": true
   },
   "outputs": [],
   "source": []
  }
 ],
 "metadata": {
  "kernelspec": {
   "display_name": "Python 3",
   "language": "python",
   "name": "python3"
  },
  "language_info": {
   "codemirror_mode": {
    "name": "ipython",
    "version": 3
   },
   "file_extension": ".py",
   "mimetype": "text/x-python",
   "name": "python",
   "nbconvert_exporter": "python",
   "pygments_lexer": "ipython3",
   "version": "3.4.1"
  }
 },
 "nbformat": 4,
 "nbformat_minor": 0
}
