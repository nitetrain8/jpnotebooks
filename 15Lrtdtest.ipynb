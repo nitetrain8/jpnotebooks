{
 "cells": [
  {
   "cell_type": "code",
   "execution_count": 78,
   "metadata": {
    "collapsed": true
   },
   "outputs": [],
   "source": [
    "from officelib.xllib import *\n",
    "from officelib.const import *\n",
    "from hello.hello import *\n",
    "import os\n",
    "os.chdir(\"C:/.replcache\")"
   ]
  },
  {
   "cell_type": "code",
   "execution_count": 79,
   "metadata": {
    "collapsed": false
   },
   "outputs": [],
   "source": [
    "def download(ip, name, fp):\n",
    "    app = open_hello(ip)\n",
    "    app.login()\n",
    "    r = app.getdatareport_bybatchname(name)\n",
    "    with open(fp, 'wb') as f:\n",
    "        f.write(r)\n",
    "#download(\"71.189.82.196:6\", \"rtdtest\", \"rtdtest.csv\")"
   ]
  },
  {
   "cell_type": "code",
   "execution_count": null,
   "metadata": {
    "collapsed": false
   },
   "outputs": [],
   "source": []
  },
  {
   "cell_type": "code",
   "execution_count": 80,
   "metadata": {
    "collapsed": false
   },
   "outputs": [],
   "source": [
    "def find_column(rng, header):\n",
    "    return rng.Find(header, SearchOrder=xlByColumns)"
   ]
  },
  {
   "cell_type": "code",
   "execution_count": 81,
   "metadata": {
    "collapsed": false
   },
   "outputs": [],
   "source": [
    "def fudge_column(cells):\n",
    "    \"\"\" For some reason, cells.Find() can't find \n",
    "    the requested header if the header occurs in the \n",
    "    first column, so insert a dummy here \"\"\"\n",
    "    cells.Columns(1).Insert()"
   ]
  },
  {
   "cell_type": "code",
   "execution_count": 82,
   "metadata": {
    "collapsed": false
   },
   "outputs": [],
   "source": [
    "def get_header_data(cells, h):\n",
    "    c = find_column(cells, h)\n",
    "    s = c.Offset(2,2)\n",
    "    e = s.End(xlDown)\n",
    "    rows = e.Row-s.Row + 1\n",
    "    return c, s, e, rows\n",
    "\n",
    "def make_col(ref, offset, header):\n",
    "    c = ref.Offset(1, offset)\n",
    "    c.Value = header\n",
    "    s = c.Offset(2, 1)\n",
    "    return c, s\n",
    "\n",
    "def create_data(cells):\n",
    "    rng=cells.Rows(1)\n",
    "    fo = get_data(\"FilterOvenPV(C)\")\n",
    "    ta = get_data(\"TempA(C)\")\n",
    "    tb = get_data(\"TempB(C)\")\n",
    "    \n",
    "    amb = tb.Offset(1,4)\n",
    "    diff = amb.Offset(1,2)\n",
    "    \n",
    "    amb.Value = \"Ambient\"\n",
    "    diff.Value = \"Diff A-B\"\n",
    "    \n",
    "    return fo, ta, tb, amb, diff\n",
    "\n",
    "def make_amb_diff(cells):\n",
    "    fo, fo_start, fo_end, fo_r = get_header_data(cells, \"FilterOvenPV(C)\")\n",
    "    tempa, tempa_start, tempa_end, tempa_r = get_header_data(cells, \"TempA(C)\")\n",
    "    tempb, tempb_start, tempb_end, tempb_r = get_header_data(cells, \"TempB(C)\")\n",
    "\n",
    "    assert (fo_r == tempa_r and fo_r == tempb_r)\n",
    "    \n",
    "    amb, amb_start = make_col(tempb, 4, \"Ambient\")\n",
    "    diff, diff_start = make_col(amb, 2, \"Diff A-B\")\n",
    "\n",
    "    amb_form = \"=%s\" % addr(fo_start)\n",
    "    diff_form = \"=%s-%s\" % (addr(tempa_start), addr(tempb_start))\n",
    "\n",
    "    amb_start.Value = amb_form\n",
    "    diff_start.Value = diff_form\n",
    "    \n",
    "    form_rng = cells.Range(amb_start, diff_start)\n",
    "    dst = cells.Range(amb_start, diff_start.Offset(fo_r, 1))\n",
    "    form_rng.AutoFill(dst)\n",
    "    \n",
    "    return amb, diff\n",
    "    \n",
    "def addr(r):\n",
    "    return r.GetAddress(False, False)\n",
    "\n"
   ]
  },
  {
   "cell_type": "code",
   "execution_count": 83,
   "metadata": {
    "collapsed": false
   },
   "outputs": [],
   "source": [
    "def chart_data_rng(cells, xc, yc):\n",
    "    x = cells.Range(xc, xc.End(xlDown))\n",
    "    y = cells.Range(yc, yc.End(xlDown))\n",
    "    return x, y"
   ]
  },
  {
   "cell_type": "code",
   "execution_count": 97,
   "metadata": {
    "collapsed": true
   },
   "outputs": [],
   "source": [
    "def min_and_max(cells, x_start):\n",
    "    end = x_start.End(xlDown).Offset(1,2)\n",
    "    rng = cells.Range(x_start, end)\n",
    "    x, y = list(zip(*rng.Value))\n",
    "    xmin = min(x)\n",
    "    xmax = max(x)\n",
    "    ymin = min(y)\n",
    "    ymax = max(y)\n",
    "    return xmin, xmax, ymin, ymax\n",
    "\n",
    "def analyze_rtd_data(pth, title):\n",
    "    xl = Excel()\n",
    "    fp = os.path.abspath(pth)\n",
    "    wb = xl.Workbooks.Open(fp)\n",
    "    ws = wb.Worksheets(1)\n",
    "    cells = ws.Cells\n",
    "    \n",
    "    fudge_column(cells)\n",
    "    amb, diff = make_amb_diff(cells)\n",
    "    amb_start = amb.Offset(2,1)\n",
    "    diff_start = diff.Offset(2,1)\n",
    "    \n",
    "    c = CreateChart(ws)\n",
    "    x, y = chart_data_rng(cells, amb_start, diff_start)\n",
    "    CreateDataSeries(c, x, y)\n",
    "    FormatChart(c, None, title, \"Ambient Temp(C)\", \"Err A-B\", True, False)\n",
    "    xmin, xmax, ymin, ymax = min_and_max(cells, amb_start)\n",
    "    FormatAxesScale(c, int(xmin)-2, int(xmax)+2, \n",
    "                        round(ymin-.2, 1), round(ymax+.2, 1))\n",
    "    c.Location(xlLocationAsNewSheet, \"AmbRTD\")\n",
    "    c = wb.Charts(\"AmbRTD\")"
   ]
  },
  {
   "cell_type": "code",
   "execution_count": 98,
   "metadata": {
    "collapsed": false
   },
   "outputs": [],
   "source": [
    "analyze_rtd_data(\"rtdtest.csv\", \"15L Ambient RTD Effect\")"
   ]
  },
  {
   "cell_type": "code",
   "execution_count": 96,
   "metadata": {
    "collapsed": true
   },
   "outputs": [],
   "source": []
  },
  {
   "cell_type": "code",
   "execution_count": null,
   "metadata": {
    "collapsed": true
   },
   "outputs": [],
   "source": []
  }
 ],
 "metadata": {
  "kernelspec": {
   "display_name": "Python 3",
   "language": "python",
   "name": "python3"
  },
  "language_info": {
   "codemirror_mode": {
    "name": "ipython",
    "version": 3
   },
   "file_extension": ".py",
   "mimetype": "text/x-python",
   "name": "python",
   "nbconvert_exporter": "python",
   "pygments_lexer": "ipython3",
   "version": "3.4.1"
  }
 },
 "nbformat": 4,
 "nbformat_minor": 0
}
