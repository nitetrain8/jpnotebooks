{
 "cells": [
  {
   "cell_type": "code",
   "execution_count": 8,
   "metadata": {
    "collapsed": true
   },
   "outputs": [],
   "source": [
    "from scripts.tools.issuetracker import *\n",
    "import os\n",
    "import shutil\n",
    "from officelib import wordlib\n",
    "import dateutil.parser\n",
    "import dateutil.tz\n",
    "import datetime"
   ]
  },
  {
   "cell_type": "code",
   "execution_count": 190,
   "metadata": {
    "collapsed": true
   },
   "outputs": [],
   "source": [
    "\n",
    "def iter_gantt_outline(gantt):\n",
    "    seen = set()\n",
    "    level = 0\n",
    "    for i in gantt:\n",
    "        seen.clear()\n",
    "        p = i\n",
    "        level = 0\n",
    "        while True:\n",
    "            if p in seen:\n",
    "                raise ValueError(\"Circular graph detected: %s\" % seen)\n",
    "            seen.add(p)\n",
    "            p = p.parent\n",
    "            if p is None:\n",
    "                break\n",
    "            level += 1\n",
    "        yield level, i\n",
    "                \n",
    "            \n",
    "def make_tree(gantt):\n",
    "    tree = {}\n",
    "    set_gantt = set(gantt)\n",
    "    \n",
    "    def leaf(iss):\n",
    "        return not any(i in set_gantt for i in iss.subtasks)\n",
    "    \n",
    "    for iss in gantt:\n",
    "        if not leaf(iss):\n",
    "            continue\n",
    "        path = [iss]\n",
    "        p = iss.parent\n",
    "        while p is not None:\n",
    "            path.append(p)\n",
    "            p = p.parent\n",
    "        v = tree\n",
    "        while path:\n",
    "            i = path.pop()\n",
    "            if i not in v:\n",
    "                v[i] = {}\n",
    "            v = v[i]\n",
    "    return tree\n",
    "\n",
    "def parse_tree(tree, lines=None, level=0):\n",
    "    if lines is None:\n",
    "        lines = []\n",
    "    for k in tree:\n",
    "        lines.append((level, k.id))\n",
    "        parse_tree(tree[k], lines, level+1)\n",
    "    return lines\n",
    "            \n",
    "    \n",
    "def create_outline(gantt, domain, set_gantt):\n",
    "    lines = []\n",
    "    \n",
    "    def append(lvl, issue):\n",
    "        link = \"https://\" + domain + \"/issues/%d\" % issue.id\n",
    "        lines.append((lvl, \"Issue #%d: %s\" % (issue.id, issue.subject), link))\n",
    "        \n",
    "    for lvl, issue in iter_gantt_outline(gantt):\n",
    "        p = issue.parent\n",
    "        plvl = lvl - 1\n",
    "        while p is not None and p not in set_gantt:\n",
    "            set_gantt.add(p)\n",
    "            append(plvl, p)\n",
    "            p = p.parent\n",
    "            plvl -= 1\n",
    "        append(lvl, issue)\n",
    "    return lines"
   ]
  },
  {
   "cell_type": "code",
   "execution_count": 191,
   "metadata": {
    "collapsed": false
   },
   "outputs": [],
   "source": [
    "def make_style(doc, name=\"PY_FRS_TITLE\", font_size=24, font=\"Calibri\", \n",
    "                     alignment=None, indent=None, tabstops=None):\n",
    "    if alignment is None:\n",
    "        alignment = wordlib.c.wdAlignParagraphCenter\n",
    "    style = doc.Styles.Add(name)\n",
    "    style.Font.Size = font_size\n",
    "    style.Font.Name = font\n",
    "    style.ParagraphFormat.Alignment = alignment\n",
    "    style.ParagraphFormat.SpaceBeforeAuto = False\n",
    "    style.ParagraphFormat.SpaceAfterAuto = False\n",
    "    style.ParagraphFormat.LineSpacingRule = wordlib.c.wdLineSpaceSingle\n",
    "    if indent is not None:\n",
    "        style.ParagraphFormat.LeftIndent = wordlib.inches_to_points(indent)\n",
    "    style.NoSpaceBetweenParagraphsOfSameStyle = True\n",
    "    if tabstops is not None:\n",
    "        style.ParagraphFormat.TabStops.Add(wordlib.inches_to_points(tabstops), wordlib.c.wdAlignTabLeft, wordlib.c.wdTabLeaderDots)\n",
    "    return style"
   ]
  },
  {
   "cell_type": "code",
   "execution_count": 192,
   "metadata": {
    "collapsed": true
   },
   "outputs": [],
   "source": [
    "def move(r, n):\n",
    "    r.MoveStart(wordlib.c.wdCharacter, n)\n",
    "\n",
    "def add_index_lines(doc, r, lines):\n",
    "    styles = {}\n",
    "    nlines = len(lines)\n",
    "    for i, (lvl, itxt, href) in enumerate(lines, 1):\n",
    "        print(\"\\rCreating index %d of %d       \" % (i, nlines), end=\"\")\n",
    "        style_name = \"PY_FRS_BODY_%d\" % lvl\n",
    "        if style_name not in styles:\n",
    "            indent = lvl * 0.1\n",
    "            style = make_style(doc, style_name, 12, \"Calibri\", wordlib.c.wdAlignParagraphLeft, indent, 6)\n",
    "            styles[style_name] = style\n",
    "        else:\n",
    "            style = styles[style_name]\n",
    "        \n",
    "        r.Text = itxt + \"\\t\"\n",
    "        r.Style = style\n",
    "\n",
    "        move(r, len(itxt) + 2)\n",
    "        doc.Hyperlinks.Add(r, href, \"\", href, \"Link\")\n",
    "        r.InsertAfter(\"\\r\")\n",
    "        move(r, 20)  # enough for \"link\"\n",
    "        doc.Paragraphs.Add()\n",
    "    print()\n",
    "\n",
    "def create_word_index(lines, doc, index_title, from_date, to_date):\n",
    "    \n",
    "    print(\"Creating Word Document...\")\n",
    "    \n",
    "    pgs = doc.Paragraphs\n",
    "    \n",
    "    # title\n",
    "    r = pgs(1).Range\n",
    "    r.Text = index_title\n",
    "    r.Style = make_style(doc, \"PY_FRS_TITLE\", 24, \"Calibri\")\n",
    "    r.InsertAfter(\"\\r\")\n",
    "    \n",
    "    #subtitle\n",
    "    move(r, len(index_title) + 2)\n",
    "    ds1 = \"%d/%d/%d\" % (from_date.month, from_date.day, from_date.year)\n",
    "    ds2 = \"%d/%d/%d\" % (to_date.month, to_date.day, to_date.year)\n",
    "    txt = \"Updated Specifications from %s to %s\" % (ds1, ds2)\n",
    "    r.Text = txt\n",
    "    r.Style = make_style(doc, \"PY_FRS_SUBTITLE\", 12)\n",
    "    r.InsertAfter(\"\\r\")\n",
    "    \n",
    "    # index\n",
    "    move(r, len(txt) + 2)\n",
    "    add_index_lines(doc, r, lines)\n",
    "    \n",
    "\n",
    "def create_pdf_index(gantt, domain, index_title, from_date, to_date, set_gantt):\n",
    "    print(\"Creating PDF Index...\")\n",
    "    lines = create_outline(gantt, domain, set_gantt)\n",
    "    word = wordlib.Word()\n",
    "    doc = word.Documents.Add()\n",
    "    with wordlib.lock_screen(word):\n",
    "        create_word_index(lines, doc, index_title, from_date, to_date)\n",
    "    #create_word_index(lines, doc, index_title, from_date, to_date)\n",
    "    "
   ]
  },
  {
   "cell_type": "code",
   "execution_count": 193,
   "metadata": {
    "collapsed": false
   },
   "outputs": [],
   "source": [
    "def should_include_issue(iss, from_date, to_date):\n",
    "    return (iss.sprint_milestone.name == '3.0' and \n",
    "            iss.tracker.name == 'Specification' and\n",
    "            from_date <= iss.updated_on <= to_date)\n",
    "    \n",
    "def parse_date(date):\n",
    "    if isinstance(date, str):\n",
    "        dt = dateutil.parser.parse(date)\n",
    "        if dt.tzinfo is None:\n",
    "            return datetime.datetime(dt.year, dt.month, dt.day, tzinfo=dateutil.tz.tzutc())\n",
    "        return dt\n",
    "    return date\n",
    "\n",
    "def today():\n",
    "    td = datetime.datetime.today()\n",
    "    return datetime.datetime(td.year, td.month, td.day, tzinfo=dateutil.tz.tzutc())"
   ]
  },
  {
   "cell_type": "code",
   "execution_count": 194,
   "metadata": {
    "collapsed": true
   },
   "outputs": [],
   "source": [
    "def main(domain, user, password, from_date=None, to_date=None, index_title=\"FRS Update\"):\n",
    "    \n",
    "    if from_date is None:\n",
    "        from_date = datetime.datetime(1900, 1, 1, tzinfo=dateutil.tz.tzutc())\n",
    "    else:\n",
    "        from_date = parse_date(from_date)\n",
    "\n",
    "    if to_date is None or to_date.lower() == \"today\":\n",
    "        to_date = today()\n",
    "    else:\n",
    "        from_date = parse_date(to_date)\n",
    "        \n",
    "    \n",
    "    api = IssuetrackerAPI(domain, user, password)\n",
    "    gantt = api.download_issues('pbssoftware').values()\n",
    "    gantt = [i for i in gantt if should_include_issue(i, from_date, to_date)]\n",
    "    set_gantt = set(gantt)\n",
    "    create_pdf_index(gantt, domain, index_title, from_date, to_date, set_gantt)\n",
    "    #return gantt\n",
    "    "
   ]
  },
  {
   "cell_type": "code",
   "execution_count": 195,
   "metadata": {
    "collapsed": false
   },
   "outputs": [
    {
     "name": "stdout",
     "output_type": "stream",
     "text": [
      "Creating PDF Index...\n",
      "Creating Word Document...\n",
      "Creating index 34 of 34       \n"
     ]
    }
   ],
   "source": [
    "main(\"issue.pbsbiotech.com\", 'nstarkweather', 'kookychemist', \"2016-6-1\", \"today\", 'Hello v3.0 FRS Update')"
   ]
  },
  {
   "cell_type": "code",
   "execution_count": null,
   "metadata": {
    "collapsed": true
   },
   "outputs": [],
   "source": []
  },
  {
   "cell_type": "code",
   "execution_count": 151,
   "metadata": {
    "collapsed": false
   },
   "outputs": [
    {
     "name": "stdout",
     "output_type": "stream",
     "text": [
      "Downloading projects...\n",
      "Downloading issues: 671/671      \n"
     ]
    }
   ],
   "source": [
    "#from scripts.tools.issuetracker import IssuetrackerAPI\n",
    "#api a= IssuetrackerAPI(\"issue.pbsbiotech.com\", 'nstarkweather', 'kookychemist')\n",
    "#issues = api.download_issues('pbssoftware')\n",
    "#gantt = issues.values()\n",
    "#gantt2 = [i for i in gantt if should_include_issue(i, from_date, to_date)]"
   ]
  },
  {
   "cell_type": "code",
   "execution_count": 152,
   "metadata": {
    "collapsed": true
   },
   "outputs": [],
   "source": [
    "class IssuetrackerAPI():\n",
    "    def __init__(self, *args):\n",
    "        pass\n",
    "    def download_gantt(self, *args):\n",
    "        return gantt\n",
    "    def download_issues(self, *args):\n",
    "        return issues"
   ]
  },
  {
   "cell_type": "code",
   "execution_count": 153,
   "metadata": {
    "collapsed": true
   },
   "outputs": [],
   "source": [
    "from_date = parse_date(\"2016-6-1\")\n",
    "to_date = today()"
   ]
  },
  {
   "cell_type": "code",
   "execution_count": 154,
   "metadata": {
    "collapsed": false
   },
   "outputs": [
    {
     "data": {
      "text/plain": [
       "671"
      ]
     },
     "execution_count": 154,
     "metadata": {},
     "output_type": "execute_result"
    }
   ],
   "source": [
    "len(gantt)"
   ]
  },
  {
   "cell_type": "code",
   "execution_count": 141,
   "metadata": {
    "collapsed": false
   },
   "outputs": [
    {
     "data": {
      "text/plain": [
       "<generator object iter_gantt_outline at 0x000001C8A39049E8>"
      ]
     },
     "execution_count": 141,
     "metadata": {},
     "output_type": "execute_result"
    }
   ],
   "source": [
    "g=iter_gantt_outline(gantt)\n",
    "filtered = [i for i in gantt if should_include_issue(i, from_date, to_date)]\n",
    "g2=iter_gantt_outline(filtered)\n",
    "for i in gantt:\n",
    "    if should_include_issue(i, from_date, to_date):\n",
    "        pass\n",
    "        #print(i.id)\n",
    "x, y = list(zip(*g2))\n",
    "iter_gantt_outline(filtered)"
   ]
  },
  {
   "cell_type": "code",
   "execution_count": 177,
   "metadata": {
    "collapsed": true
   },
   "outputs": [],
   "source": [
    "oldrepr = Issue.__repr__"
   ]
  },
  {
   "cell_type": "code",
   "execution_count": 217,
   "metadata": {
    "collapsed": true
   },
   "outputs": [],
   "source": [
    "newrepr = lambda self: \"Issue(%d)\" % self.id\n",
    "Issue.__repr__ = Issue.__str__ = newrepr"
   ]
  },
  {
   "cell_type": "code",
   "execution_count": 218,
   "metadata": {
    "collapsed": false
   },
   "outputs": [],
   "source": [
    "_oldrepr = oldrepr"
   ]
  },
  {
   "cell_type": "code",
   "execution_count": 230,
   "metadata": {
    "collapsed": false
   },
   "outputs": [],
   "source": [
    "def parse_tree(tree, lines=None, level=0):\n",
    "    if lines is None:\n",
    "        lines = []\n",
    "    for k in tree:\n",
    "        lines.append((level, k.id))\n",
    "        parse_tree(tree[k], lines, level+1)\n",
    "    return lines\n",
    "\n",
    "\n"
   ]
  },
  {
   "cell_type": "code",
   "execution_count": 232,
   "metadata": {
    "collapsed": false
   },
   "outputs": [
    {
     "name": "stdout",
     "output_type": "stream",
     "text": [
      " 2712\n",
      "  2851\n",
      "  1845\n",
      "  989\n",
      "  2825\n",
      "  2828\n",
      "  2725\n",
      "   1073\n",
      "   2908\n",
      "  2814\n",
      "  3001\n",
      "   2859\n",
      "   2819\n",
      "   2922\n",
      "   2856\n",
      "  2758\n",
      "  2808\n",
      "  1885\n",
      " 2716\n",
      "  1583\n",
      "  2787\n",
      " 2857\n",
      "  2880\n",
      " 2876\n"
     ]
    }
   ],
   "source": [
    "tree=make_tree(filtered)\n",
    "p=parse_tree(tree)\n",
    "for lvl, id in p:\n",
    "    print(\" \"*lvl, id)"
   ]
  },
  {
   "cell_type": "code",
   "execution_count": null,
   "metadata": {
    "collapsed": true
   },
   "outputs": [],
   "source": []
  }
 ],
 "metadata": {
  "kernelspec": {
   "display_name": "Python 3",
   "language": "python",
   "name": "python3"
  },
  "language_info": {
   "codemirror_mode": {
    "name": "ipython",
    "version": 3
   },
   "file_extension": ".py",
   "mimetype": "text/x-python",
   "name": "python",
   "nbconvert_exporter": "python",
   "pygments_lexer": "ipython3",
   "version": "3.5.2"
  }
 },
 "nbformat": 4,
 "nbformat_minor": 1
}
