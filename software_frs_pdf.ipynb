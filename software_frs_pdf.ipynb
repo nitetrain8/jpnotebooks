{
 "cells": [
  {
   "cell_type": "code",
   "execution_count": 8,
   "metadata": {
    "collapsed": true
   },
   "outputs": [],
   "source": [
    "from scripts.tools.issuetracker import *\n",
    "import os\n",
    "import shutil\n",
    "from officelib import wordlib\n",
    "import dateutil.parser\n",
    "import dateutil.tz\n",
    "import datetime"
   ]
  },
  {
   "cell_type": "code",
   "execution_count": 261,
   "metadata": {
    "collapsed": true
   },
   "outputs": [],
   "source": [
    "\n",
    "def iter_gantt_outline(gantt):\n",
    "    seen = set()\n",
    "    level = 0\n",
    "    for i in gantt:\n",
    "        seen.clear()\n",
    "        p = i\n",
    "        level = 0\n",
    "        while True:\n",
    "            if p in seen:\n",
    "                raise ValueError(\"Circular graph detected: %s\" % seen)\n",
    "            seen.add(p)\n",
    "            p = p.parent\n",
    "            if p is None:\n",
    "                break\n",
    "            level += 1\n",
    "        yield level, i\n",
    "                \n",
    "            \n",
    "def make_tree(gantt):\n",
    "    tree = {}\n",
    "\n",
    "    for iss in gantt:\n",
    "        path = [iss]\n",
    "        p = iss.parent\n",
    "        while p is not None:\n",
    "            path.append(p)\n",
    "            p = p.parent\n",
    "        v = tree\n",
    "        while path:\n",
    "            i = path.pop()\n",
    "            if i not in v:\n",
    "                v[i] = {}\n",
    "            v = v[i]\n",
    "    return tree\n",
    "\n",
    "\n",
    "def append_line(lvl, issue, domain):\n",
    "    nonlocal lines\n",
    "    link = \"https://\" + domain + \"/issues/%d\" % issue.id\n",
    "    lines.append((lvl, \"Issue #%d: %s\" % (issue.id, issue.subject), link))\n",
    "\n",
    "\n",
    "def parse_tree(tree, lines, domain, level=0):\n",
    "    for k in tree:\n",
    "        append_lines(level, k, domain)\n",
    "        parse_tree(tree[k], append, level+1)\n",
    "            \n",
    "\n",
    "def create_outline(gantt, domain):\n",
    "    \n",
    "    lines = []\n",
    "    tree = make_tree(gantt)\n",
    "    parse_tree(tree, lines, domain, 0)\n",
    "    return lines\n",
    "    \n",
    "    \n",
    "# def create_outline(gantt, domain, set_gantt):\n",
    "#     lines = []\n",
    "    \n",
    "#     def append(lvl, issue):\n",
    "#         link = \"https://\" + domain + \"/issues/%d\" % issue.id\n",
    "#         lines.append((lvl, \"Issue #%d: %s\" % (issue.id, issue.subject), link))\n",
    "        \n",
    "#     for lvl, issue in iter_gantt_outline(gantt):\n",
    "#         p = issue.parent\n",
    "#         plvl = lvl - 1\n",
    "#         while p is not None and p not in set_gantt:\n",
    "#             set_gantt.add(p)\n",
    "#             append(plvl, p)\n",
    "#             p = p.parent\n",
    "#             plvl -= 1\n",
    "#         append(lvl, issue)\n",
    "#     return lines"
   ]
  },
  {
   "cell_type": "code",
   "execution_count": 262,
   "metadata": {
    "collapsed": false
   },
   "outputs": [],
   "source": [
    "def make_style(doc, name=\"PY_FRS_TITLE\", font_size=24, font=\"Calibri\", \n",
    "                     alignment=None, indent=None, tabstops=None):\n",
    "    if alignment is None:\n",
    "        alignment = wordlib.c.wdAlignParagraphCenter\n",
    "    style = doc.Styles.Add(name)\n",
    "    style.Font.Size = font_size\n",
    "    style.Font.Name = font\n",
    "    style.ParagraphFormat.Alignment = alignment\n",
    "    style.ParagraphFormat.SpaceBeforeAuto = False\n",
    "    style.ParagraphFormat.SpaceAfterAuto = False\n",
    "    style.ParagraphFormat.LineSpacingRule = wordlib.c.wdLineSpaceSingle\n",
    "    if indent is not None:\n",
    "        style.ParagraphFormat.LeftIndent = wordlib.inches_to_points(indent)\n",
    "    style.NoSpaceBetweenParagraphsOfSameStyle = True\n",
    "    if tabstops is not None:\n",
    "        style.ParagraphFormat.TabStops.Add(wordlib.inches_to_points(tabstops), wordlib.c.wdAlignTabLeft, wordlib.c.wdTabLeaderDots)\n",
    "    return style"
   ]
  },
  {
   "cell_type": "code",
   "execution_count": 263,
   "metadata": {
    "collapsed": true
   },
   "outputs": [],
   "source": [
    "def move(r, n):\n",
    "    r.MoveStart(wordlib.c.wdCharacter, n)\n",
    "\n",
    "def add_index_lines(doc, r, lines):\n",
    "    styles = {}\n",
    "    nlines = len(lines)\n",
    "    for i, (lvl, itxt, href) in enumerate(lines, 1):\n",
    "        print(\"\\rCreating index %d of %d       \" % (i, nlines), end=\"\")\n",
    "        style_name = \"PY_FRS_BODY_%d\" % lvl\n",
    "        if style_name not in styles:\n",
    "            indent = lvl * 0.1\n",
    "            style = make_style(doc, style_name, 12, \"Calibri\", wordlib.c.wdAlignParagraphLeft, indent, 6)\n",
    "            styles[style_name] = style\n",
    "        else:\n",
    "            style = styles[style_name]\n",
    "        \n",
    "        r.Text = itxt + \"\\t\"\n",
    "        r.Style = style\n",
    "\n",
    "        move(r, len(itxt) + 2)\n",
    "        doc.Hyperlinks.Add(r, href, \"\", href, \"Link\")\n",
    "        r.InsertAfter(\"\\r\")\n",
    "        move(r, 20)  # enough for \"link\"\n",
    "        doc.Paragraphs.Add()\n",
    "    print()\n",
    "\n",
    "def create_word_index(lines, doc, index_title, from_date, to_date):\n",
    "    \n",
    "    print(\"Creating Word Document...\")\n",
    "    \n",
    "    pgs = doc.Paragraphs\n",
    "    \n",
    "    # title\n",
    "    r = pgs(1).Range\n",
    "    r.Text = index_title\n",
    "    r.Style = make_style(doc, \"PY_FRS_TITLE\", 24, \"Calibri\")\n",
    "    r.InsertAfter(\"\\r\")\n",
    "    \n",
    "    #subtitle\n",
    "    move(r, len(index_title) + 2)\n",
    "    ds1 = \"%d/%d/%d\" % (from_date.month, from_date.day, from_date.year)\n",
    "    ds2 = \"%d/%d/%d\" % (to_date.month, to_date.day, to_date.year)\n",
    "    txt = \"Updated Specifications from %s to %s\" % (ds1, ds2)\n",
    "    r.Text = txt\n",
    "    r.Style = make_style(doc, \"PY_FRS_SUBTITLE\", 12)\n",
    "    r.InsertAfter(\"\\r\")\n",
    "    \n",
    "    # index\n",
    "    move(r, len(txt) + 2)\n",
    "    add_index_lines(doc, r, lines)\n",
    "    \n",
    "\n",
    "def create_pdf_index(gantt, domain, index_title, from_date, to_date, set_gantt):\n",
    "    print(\"Creating PDF Index...\")\n",
    "    lines = create_outline(gantt, domain)\n",
    "    word = wordlib.Word()\n",
    "    doc = word.Documents.Add()\n",
    "    with wordlib.lock_screen(word):\n",
    "        create_word_index(lines, doc, index_title, from_date, to_date)\n",
    "    #create_word_index(lines, doc, index_title, from_date, to_date)\n",
    "    "
   ]
  },
  {
   "cell_type": "code",
   "execution_count": 264,
   "metadata": {
    "collapsed": false
   },
   "outputs": [],
   "source": [
    "def should_include_issue(iss, from_date, to_date):\n",
    "    return (iss.sprint_milestone.name == '3.0' and \n",
    "            iss.tracker.name == 'Specification' and\n",
    "            from_date <= iss.updated_on <= to_date)\n",
    "    \n",
    "def parse_date(date):\n",
    "    if isinstance(date, str):\n",
    "        dt = dateutil.parser.parse(date)\n",
    "        if dt.tzinfo is None:\n",
    "            return datetime.datetime(dt.year, dt.month, dt.day, tzinfo=dateutil.tz.tzutc())\n",
    "        return dt\n",
    "    return date\n",
    "\n",
    "def today():\n",
    "    td = datetime.datetime.today()\n",
    "    return datetime.datetime(td.year, td.month, td.day, tzinfo=dateutil.tz.tzutc())"
   ]
  },
  {
   "cell_type": "code",
   "execution_count": 265,
   "metadata": {
    "collapsed": true
   },
   "outputs": [],
   "source": [
    "def main(domain, user, password, from_date=None, to_date=None, index_title=\"FRS Update\"):\n",
    "    \n",
    "    if from_date is None:\n",
    "        from_date = datetime.datetime(1900, 1, 1, tzinfo=dateutil.tz.tzutc())\n",
    "    else:\n",
    "        from_date = parse_date(from_date)\n",
    "\n",
    "    if to_date is None or to_date.lower() == \"today\":\n",
    "        to_date = today()\n",
    "    else:\n",
    "        from_date = parse_date(to_date)\n",
    "        \n",
    "    \n",
    "    api = IssuetrackerAPI(domain, user, password)\n",
    "    gantt = api.download_issues('pbssoftware').values()\n",
    "    gantt = [i for i in gantt if should_include_issue(i, from_date, to_date)]\n",
    "    set_gantt = set(gantt)\n",
    "    create_pdf_index(gantt, domain, index_title, from_date, to_date, set_gantt)\n",
    "    #return gantt\n",
    "    "
   ]
  },
  {
   "cell_type": "code",
   "execution_count": 266,
   "metadata": {
    "collapsed": false
   },
   "outputs": [
    {
     "name": "stdout",
     "output_type": "stream",
     "text": [
      "Creating PDF Index...\n",
      "Creating Word Document...\n",
      "Creating index 34 of 34       \n"
     ]
    }
   ],
   "source": [
    "main(\"issue.pbsbiotech.com\", 'nstarkweather', 'kookychemist', \"2016-6-1\", \"today\", 'Hello v3.0 FRS Update')"
   ]
  },
  {
   "cell_type": "code",
   "execution_count": null,
   "metadata": {
    "collapsed": true
   },
   "outputs": [],
   "source": []
  },
  {
   "cell_type": "code",
   "execution_count": 151,
   "metadata": {
    "collapsed": false
   },
   "outputs": [
    {
     "name": "stdout",
     "output_type": "stream",
     "text": [
      "Downloading projects...\n",
      "Downloading issues: 671/671      \n"
     ]
    }
   ],
   "source": [
    "#from scripts.tools.issuetracker import IssuetrackerAPI\n",
    "#api a= IssuetrackerAPI(\"issue.pbsbiotech.com\", 'nstarkweather', 'kookychemist')\n",
    "#issues = api.download_issues('pbssoftware')\n",
    "#gantt = issues.values()\n",
    "#gantt2 = [i for i in gantt if should_include_issue(i, from_date, to_date)]"
   ]
  },
  {
   "cell_type": "code",
   "execution_count": 152,
   "metadata": {
    "collapsed": true
   },
   "outputs": [],
   "source": [
    "class IssuetrackerAPI():\n",
    "    def __init__(self, *args):\n",
    "        pass\n",
    "    def download_gantt(self, *args):\n",
    "        return gantt\n",
    "    def download_issues(self, *args):\n",
    "        return issues"
   ]
  },
  {
   "cell_type": "code",
   "execution_count": 153,
   "metadata": {
    "collapsed": true
   },
   "outputs": [],
   "source": [
    "from_date = parse_date(\"2016-6-1\")\n",
    "to_date = today()"
   ]
  },
  {
   "cell_type": "code",
   "execution_count": 154,
   "metadata": {
    "collapsed": false
   },
   "outputs": [
    {
     "data": {
      "text/plain": [
       "671"
      ]
     },
     "execution_count": 154,
     "metadata": {},
     "output_type": "execute_result"
    }
   ],
   "source": [
    "len(gantt)"
   ]
  },
  {
   "cell_type": "code",
   "execution_count": 141,
   "metadata": {
    "collapsed": false
   },
   "outputs": [
    {
     "data": {
      "text/plain": [
       "<generator object iter_gantt_outline at 0x000001C8A39049E8>"
      ]
     },
     "execution_count": 141,
     "metadata": {},
     "output_type": "execute_result"
    }
   ],
   "source": [
    "g=iter_gantt_outline(gantt)\n",
    "filtered = [i for i in gantt if should_include_issue(i, from_date, to_date)]\n",
    "g2=iter_gantt_outline(filtered)\n",
    "for i in gantt:\n",
    "    if should_include_issue(i, from_date, to_date):\n",
    "        pass\n",
    "        #print(i.id)\n",
    "x, y = list(zip(*g2))\n",
    "iter_gantt_outline(filtered)"
   ]
  },
  {
   "cell_type": "code",
   "execution_count": 177,
   "metadata": {
    "collapsed": true
   },
   "outputs": [],
   "source": [
    "oldrepr = Issue.__repr__"
   ]
  },
  {
   "cell_type": "code",
   "execution_count": 217,
   "metadata": {
    "collapsed": true
   },
   "outputs": [],
   "source": [
    "newrepr = lambda self: \"Issue(%d)\" % self.id\n",
    "Issue.__repr__ = Issue.__str__ = newrepr"
   ]
  },
  {
   "cell_type": "code",
   "execution_count": 218,
   "metadata": {
    "collapsed": false
   },
   "outputs": [],
   "source": [
    "_oldrepr = oldrepr"
   ]
  },
  {
   "cell_type": "code",
   "execution_count": 247,
   "metadata": {
    "collapsed": false
   },
   "outputs": [],
   "source": [
    "def make_tree(gantt):\n",
    "    tree = {}\n",
    "\n",
    "    for iss in gantt:\n",
    "        path = [iss]\n",
    "        p = iss.parent\n",
    "        while p is not None:\n",
    "            path.append(p)\n",
    "            p = p.parent\n",
    "        v = tree\n",
    "        while path:\n",
    "            i = path.pop()\n",
    "            if i not in v:\n",
    "                v[i] = {}\n",
    "            v = v[i]\n",
    "    return tree\n",
    "\n",
    "\n",
    "def parse_tree(tree, append, level=0):\n",
    "    for k in tree:\n",
    "        append(level, k)\n",
    "        parse_tree(tree[k], append, level+1)\n",
    "            \n",
    "\n",
    "def create_outline(gantt, domain):\n",
    "    print(\"Create_outline\")\n",
    "    lines = []\n",
    "    \n",
    "    def append(lvl, issue):\n",
    "        nonlocal lines\n",
    "        link = \"https://\" + domain + \"/issues/%d\" % issue.id\n",
    "        lines.append((lvl, \"Issue #%d: %s\" % (issue.id, issue.subject), link))\n",
    "    \n",
    "    tree = make_tree(gantt)\n",
    "    print(tree)\n",
    "    lines = parse_tree(tree, append, 0)\n",
    "    return lines"
   ]
  },
  {
   "cell_type": "code",
   "execution_count": 248,
   "metadata": {
    "collapsed": false
   },
   "outputs": [
    {
     "name": "stdout",
     "output_type": "stream",
     "text": [
      "Create_outline\n",
      "{Issue(1921): {}, Issue(2591): {}, Issue(2042): {}, Issue(2579): {}, Issue(2978): {}, Issue(3242): {}, Issue(1230): {}, Issue(1959): {}, Issue(2958): {}, Issue(2534): {}, Issue(2956): {}, Issue(2931): {}, Issue(2059): {}, Issue(2607): {}, Issue(3058): {}, Issue(3178): {}, Issue(3018): {}, Issue(3253): {}, Issue(3237): {}, Issue(3245): {}, Issue(2536): {}, Issue(2092): {}, Issue(2802): {}, Issue(2598): {}, Issue(3250): {}, Issue(2557): {}, Issue(3040): {}, Issue(2798): {}, Issue(2847): {}, Issue(2655): {}, Issue(2692): {}, Issue(1843): {}, Issue(2952): {}, Issue(2513): {}, Issue(3167): {}, Issue(1678): {}, Issue(2329): {}, Issue(3075): {}, Issue(2744): {}, Issue(2087): {}, Issue(2573): {}, Issue(3107): {}, Issue(2248): {}, Issue(1842): {}, Issue(2722): {}, Issue(2044): {}, Issue(1758): {}, Issue(2717): {}, Issue(3108): {}, Issue(2843): {}, Issue(3109): {}, Issue(2938): {}, Issue(2640): {}, Issue(1098): {}, Issue(2980): {}, Issue(2610): {}, Issue(3163): {}, Issue(3067): {}, Issue(3198): {}, Issue(2822): {}, Issue(3045): {}, Issue(3134): {}, Issue(2852): {}, Issue(1054): {}, Issue(3223): {}, Issue(2693): {}, Issue(1553): {}, Issue(2594): {}, Issue(3219): {}, Issue(2547): {}, Issue(2549): {}, Issue(3154): {}, Issue(3024): {}, Issue(2666): {}, Issue(2896): {}, Issue(1310): {}, Issue(2065): {}, Issue(2602): {}, Issue(3010): {}, Issue(3240): {}, Issue(2089): {}, Issue(2572): {}, Issue(214): {}, Issue(3251): {}, Issue(2872): {}, Issue(3016): {}, Issue(1503): {}, Issue(3029): {}, Issue(2562): {}, Issue(3191): {}, Issue(1311): {}, Issue(2501): {}, Issue(3121): {}, Issue(1778): {}, Issue(2141): {}, Issue(2870): {}, Issue(2632): {}, Issue(2606): {}, Issue(2950): {}, Issue(3150): {}, Issue(3199): {}, Issue(2620): {}, Issue(2933): {}, Issue(3164): {}, Issue(2535): {}, Issue(3063): {}, Issue(3102): {}, Issue(2730): {}, Issue(3235): {}, Issue(3057): {}, Issue(3026): {}, Issue(2444): {}, Issue(2791): {}, Issue(2714): {}, Issue(3194): {}, Issue(1746): {}, Issue(3213): {}, Issue(2599): {}, Issue(1319): {}, Issue(2552): {}, Issue(2686): {}, Issue(3106): {}, Issue(2550): {}, Issue(2580): {}, Issue(3248): {}, Issue(2327): {}, Issue(3268): {}, Issue(2944): {}, Issue(3261): {}, Issue(2374): {}, Issue(2708): {}, Issue(1747): {}, Issue(3231): {}, Issue(3233): {}, Issue(3101): {}, Issue(2574): {}, Issue(2438): {}, Issue(2660): {}, Issue(3246): {}, Issue(2970): {}, Issue(3269): {}, Issue(2625): {}, Issue(3234): {}, Issue(3224): {}, Issue(2871): {}, Issue(2544): {}, Issue(2697): {}, Issue(2108): {}, Issue(2366): {}, Issue(2683): {}, Issue(2656): {}, Issue(2546): {}, Issue(2743): {}, Issue(1954): {}, Issue(3080): {}, Issue(1901): {}, Issue(566): {}, Issue(1164): {}, Issue(2609): {}, Issue(3243): {}, Issue(3138): {}, Issue(2545): {}, Issue(1500): {}, Issue(3135): {}, Issue(3049): {}, Issue(2914): {}, Issue(3216): {}, Issue(2600): {}, Issue(2626): {}, Issue(3252): {}, Issue(2291): {}, Issue(3112): {}, Issue(3083): {}, Issue(2680): {}, Issue(2611): {}, Issue(2575): {}, Issue(2604): {}, Issue(2699): {}, Issue(2974): {}, Issue(3079): {}, Issue(3249): {}, Issue(2490): {}, Issue(2523): {}, Issue(2551): {}, Issue(2751): {}, Issue(2713): {Issue(2320): {}, Issue(2805): {}, Issue(2321): {}, Issue(2231): {}, Issue(2331): {}, Issue(1783): {}, Issue(2516): {}}, Issue(2509): {}, Issue(3177): {}, Issue(2589): {}, Issue(2704): {}, Issue(2979): {}, Issue(3078): {}, Issue(2648): {}, Issue(2946): {}, Issue(1810): {}, Issue(1753): {}, Issue(2595): {}, Issue(3131): {}, Issue(2585): {}, Issue(2633): {}, Issue(2636): {}, Issue(2654): {}, Issue(2538): {}, Issue(3047): {}, Issue(1282): {}, Issue(2306): {}, Issue(2873): {}, Issue(3071): {}, Issue(2650): {}, Issue(1100): {}, Issue(2689): {}, Issue(1303): {}, Issue(2553): {}, Issue(3202): {}, Issue(3012): {}, Issue(2511): {}, Issue(2639): {}, Issue(2818): {}, Issue(3247): {}, Issue(3206): {}, Issue(2638): {}, Issue(3124): {}, Issue(3229): {}, Issue(3046): {}, Issue(1844): {}, Issue(3210): {}, Issue(2643): {}, Issue(3104): {}, Issue(2292): {}, Issue(3254): {}, Issue(2904): {}, Issue(1756): {}, Issue(3020): {}, Issue(3212): {}, Issue(2971): {}, Issue(3064): {}, Issue(2854): {}, Issue(2663): {}, Issue(2555): {}, Issue(3015): {}, Issue(2764): {}, Issue(3225): {}, Issue(2957): {}, Issue(2630): {}, Issue(401): {}, Issue(3260): {}, Issue(3244): {}, Issue(3270): {}, Issue(1685): {}, Issue(2940): {}, Issue(2515): {}, Issue(2548): {}, Issue(2921): {}, Issue(2603): {}, Issue(3062): {}, Issue(2383): {}, Issue(2919): {}, Issue(2658): {}, Issue(2673): {}, Issue(2619): {}, Issue(2482): {}, Issue(1541): {}, Issue(3217): {}, Issue(2576): {}, Issue(2920): {}, Issue(1767): {}, Issue(3074): {}, Issue(2916): {}, Issue(3077): {}, Issue(1527): {}, Issue(1951): {}, Issue(1931): {}, Issue(2668): {}, Issue(2729): {}, Issue(2701): {}, Issue(3073): {}, Issue(2991): {}, Issue(2614): {}, Issue(2754): {}, Issue(3201): {}, Issue(3059): {}, Issue(2830): {}, Issue(2755): {}, Issue(2716): {Issue(2727): {}, Issue(2035): {}, Issue(2500): {}, Issue(2304): {}, Issue(1694): {}, Issue(977): {}, Issue(2866): {}, Issue(2031): {}, Issue(2809): {}, Issue(1868): {}, Issue(2210): {}, Issue(1754): {}, Issue(1572): {}, Issue(1749): {}, Issue(1583): {}, Issue(2769): {}, Issue(2868): {}, Issue(2415): {}, Issue(2789): {}, Issue(2780): {}, Issue(2476): {}, Issue(2251): {}, Issue(2394): {}, Issue(2711): {}, Issue(2404): {}, Issue(2776): {}, Issue(2796): {}, Issue(2460): {}, Issue(2877): {}, Issue(1902): {}, Issue(2774): {}, Issue(2395): {}, Issue(1952): {}, Issue(2230): {}, Issue(2787): {}, Issue(2469): {}}, Issue(1316): {}, Issue(2948): {}, Issue(2687): {}, Issue(2879): {}, Issue(2056): {}, Issue(2616): {}, Issue(3200): {}, Issue(2583): {}, Issue(3093): {}, Issue(3044): {}, Issue(2590): {}, Issue(3192): {}, Issue(2560): {}, Issue(680): {}, Issue(3264): {}, Issue(1043): {}, Issue(3066): {}, Issue(3241): {}, Issue(3218): {}, Issue(1048): {}, Issue(3069): {}, Issue(1680): {}, Issue(3159): {}, Issue(2661): {}, Issue(2728): {}, Issue(2446): {}, Issue(2634): {}, Issue(2649): {}, Issue(3114): {}, Issue(2597): {}, Issue(935): {}, Issue(3188): {}, Issue(645): {}, Issue(2561): {}, Issue(2801): {}, Issue(2644): {}, Issue(990): {}, Issue(3208): {}, Issue(2570): {}, Issue(3176): {}, Issue(2748): {}, Issue(3081): {}, Issue(3220): {}, Issue(1076): {}, Issue(3209): {}, Issue(2682): {}, Issue(2582): {}, Issue(2703): {}, Issue(2813): {}, Issue(1713): {}, Issue(2581): {}, Issue(3236): {}, Issue(3175): {}, Issue(2502): {}, Issue(1815): {}, Issue(2953): {}, Issue(1764): {}, Issue(1192): {}, Issue(2765): {}, Issue(2416): {}, Issue(2541): {}, Issue(2568): {}, Issue(3156): {}, Issue(2662): {}, Issue(2706): {}, Issue(2617): {}, Issue(2913): {}, Issue(2651): {}, Issue(3090): {}, Issue(3065): {}, Issue(2797): {}, Issue(3120): {}, Issue(2563): {}, Issue(3238): {}, Issue(2493): {}, Issue(2929): {}, Issue(2901): {}, Issue(2571): {}, Issue(1119): {}, Issue(3272): {}, Issue(2615): {}, Issue(2759): {}, Issue(2287): {}, Issue(3141): {}, Issue(2487): {}, Issue(2925): {}, Issue(3145): {}, Issue(2667): {}, Issue(2652): {}, Issue(1020): {}, Issue(2675): {}, Issue(2903): {}, Issue(2605): {}, Issue(3267): {}, Issue(1069): {}, Issue(3158): {}, Issue(2109): {}, Issue(2559): {}, Issue(2647): {}, Issue(2032): {}, Issue(3226): {}, Issue(2618): {}, Issue(3055): {}, Issue(3168): {}, Issue(2900): {}, Issue(3111): {}, Issue(3070): {}, Issue(2365): {}, Issue(3008): {}, Issue(2530): {}, Issue(3259): {}, Issue(2543): {}, Issue(2558): {}, Issue(2665): {}, Issue(3239): {}, Issue(1755): {}, Issue(2486): {}, Issue(3072): {}, Issue(2766): {}, Issue(1786): {}, Issue(3132): {}, Issue(1338): {}, Issue(2554): {}, Issue(1830): {}, Issue(2741): {}, Issue(2637): {}, Issue(2037): {}, Issue(3122): {}, Issue(3051): {}, Issue(2584): {}, Issue(2943): {}, Issue(2917): {}, Issue(2977): {}, Issue(3052): {}, Issue(2674): {Issue(2525): {}}, Issue(2593): {}, Issue(3204): {}, Issue(3014): {}, Issue(2328): {}, Issue(3133): {}, Issue(1312): {}, Issue(3003): {Issue(2681): {}, Issue(2747): {}, Issue(2303): {}, Issue(2883): {}, Issue(2794): {}, Issue(2756): {}, Issue(2862): {}, Issue(2863): {}, Issue(2726): {}, Issue(2752): {}, Issue(2767): {}}, Issue(3153): {}, Issue(1062): {}, Issue(1961): {}, Issue(3266): {}, Issue(3118): {}, Issue(2694): {}, Issue(2326): {}, Issue(2488): {}, Issue(2912): {}, Issue(3205): {}, Issue(2564): {}, Issue(2653): {}, Issue(3211): {}, Issue(3033): {}, Issue(3027): {}, Issue(1869): {}, Issue(2982): {}, Issue(3152): {}, Issue(2893): {}, Issue(1197): {}, Issue(3230): {}, Issue(2955): {}, Issue(1729): {}, Issue(3028): {}, Issue(2676): {}, Issue(3214): {}, Issue(2495): {}, Issue(2613): {}, Issue(1817): {}, Issue(3186): {}, Issue(2503): {}, Issue(3157): {}, Issue(3258): {}, Issue(2641): {}, Issue(3207): {}, Issue(3068): {}, Issue(2792): {}, Issue(2392): {}, Issue(1183): {}, Issue(2739): {}, Issue(3048): {}, Issue(2928): {}, Issue(2684): {}, Issue(3136): {}, Issue(3155): {}, Issue(3043): {}, Issue(2642): {}, Issue(2088): {}, Issue(2712): {Issue(2522): {}, Issue(2902): {}, Issue(2911): {}, Issue(2841): {}, Issue(2815): {}, Issue(2851): {}, Issue(1262): {}, Issue(2905): {}, Issue(2596): {}, Issue(2907): {}, Issue(2808): {}, Issue(2875): {}, Issue(2309): {}, Issue(2895): {}, Issue(1793): {}, Issue(2824): {}, Issue(396): {}, Issue(2316): {}, Issue(2855): {}, Issue(2994): {}, Issue(2833): {}, Issue(2835): {}, Issue(1953): {}, Issue(2721): {}, Issue(1263): {}, Issue(2592): {}, Issue(2890): {}, Issue(2715): {}, Issue(2725): {Issue(2458): {}, Issue(1073): {}, Issue(1637): {}, Issue(2906): {}, Issue(2445): {}, Issue(2908): {}, Issue(2909): {}, Issue(2115): {}}, Issue(2998): {}, Issue(989): {}, Issue(2996): {}, Issue(2838): {}, Issue(2814): {}, Issue(2827): {}, Issue(2484): {}, Issue(2810): {}, Issue(2973): {}, Issue(2840): {}, Issue(2993): {}, Issue(2828): {}, Issue(2757): {}, Issue(2758): {}, Issue(1759): {}, Issue(2825): {}, Issue(2733): {}, Issue(2734): {}, Issue(3001): {Issue(2891): {}, Issue(2886): {}, Issue(2856): {}, Issue(2859): {}, Issue(2884): {}, Issue(2819): {}, Issue(2995): {}, Issue(2885): {}, Issue(2922): {}}, Issue(1845): {}, Issue(1885): {}, Issue(3002): {Issue(2367): {}, Issue(2735): {}, Issue(2878): {}, Issue(2848): {}, Issue(2897): {}, Issue(2842): {}, Issue(2990): {}, Issue(2924): {}, Issue(2894): {}, Issue(2927): {}, Issue(2888): {}, Issue(2975): {}, Issue(2910): {}, Issue(2918): {}}, Issue(420): {}, Issue(2997): {}}, Issue(3025): {}, Issue(2669): {}, Issue(3076): {}, Issue(2981): {}, Issue(1144): {}, Issue(3165): {}, Issue(3146): {}, Issue(2659): {}, Issue(1693): {}, Issue(3215): {}, Issue(3130): {}, Issue(3189): {}, Issue(2876): {}, Issue(3161): {}, Issue(3166): {}, Issue(1750): {}, Issue(2930): {}, Issue(2941): {}, Issue(3053): {}, Issue(1510): {}, Issue(2947): {}, Issue(2698): {}, Issue(2678): {}, Issue(2542): {}, Issue(2646): {}, Issue(2857): {Issue(2812): {}, Issue(2860): {}, Issue(2926): {}, Issue(2881): {}, Issue(2880): {}, Issue(2864): {}, Issue(2865): {}}, Issue(3203): {}, Issue(2635): {}, Issue(2569): {}, Issue(2832): {}, Issue(3183): {}, Issue(3087): {}, Issue(3099): {}, Issue(2142): {}, Issue(2608): {}, Issue(2601): {}, Issue(2485): {}, Issue(3011): {}, Issue(1109): {}, Issue(1760): {}, Issue(2800): {}, Issue(3031): {}, Issue(2587): {}, Issue(2742): {}, Issue(3255): {}, Issue(2537): {}, Issue(3039): {}, Issue(2874): {}, Issue(3005): {}, Issue(2677): {}}\n"
     ]
    }
   ],
   "source": [
    "create_outline(gantt, 'issue.pbsbiotech.com')"
   ]
  },
  {
   "cell_type": "code",
   "execution_count": 235,
   "metadata": {
    "collapsed": false
   },
   "outputs": [
    {
     "name": "stdout",
     "output_type": "stream",
     "text": [
      " 2712\n",
      "  2851\n",
      "  1845\n",
      "  989\n",
      "  2825\n",
      "  2828\n",
      "  2725\n",
      "   1073\n",
      "   2908\n",
      "  2814\n",
      "  3001\n",
      "   2859\n",
      "   2819\n",
      "   2922\n",
      "   2856\n",
      "  2758\n",
      "  2808\n",
      "  1885\n",
      " 2716\n",
      "  1583\n",
      "  2787\n",
      " 2857\n",
      "  2880\n",
      " 2876\n"
     ]
    }
   ],
   "source": [
    "tree=make_tree(filtered)\n",
    "p=parse_tree(tree)\n",
    "for lvl, id in p:\n",
    "    print(\" \"*lvl, id)"
   ]
  },
  {
   "cell_type": "code",
   "execution_count": 232,
   "metadata": {
    "collapsed": false
   },
   "outputs": [
    {
     "name": "stdout",
     "output_type": "stream",
     "text": [
      " 2712\n",
      "  2851\n",
      "  1845\n",
      "  989\n",
      "  2825\n",
      "  2828\n",
      "  2725\n",
      "   1073\n",
      "   2908\n",
      "  2814\n",
      "  3001\n",
      "   2859\n",
      "   2819\n",
      "   2922\n",
      "   2856\n",
      "  2758\n",
      "  2808\n",
      "  1885\n",
      " 2716\n",
      "  1583\n",
      "  2787\n",
      " 2857\n",
      "  2880\n",
      " 2876\n"
     ]
    }
   ],
   "source": [
    "tree=make_tree(filtered)\n",
    "p=parse_tree(tree)\n",
    "for lvl, id in p:\n",
    "    print(\" \"*lvl, id)"
   ]
  },
  {
   "cell_type": "code",
   "execution_count": 243,
   "metadata": {
    "collapsed": false
   },
   "outputs": [
    {
     "data": {
      "text/plain": [
       "Issue(2712)"
      ]
     },
     "execution_count": 243,
     "metadata": {},
     "output_type": "execute_result"
    }
   ],
   "source": [
    "issues[2715].parent"
   ]
  },
  {
   "cell_type": "code",
   "execution_count": null,
   "metadata": {
    "collapsed": true
   },
   "outputs": [],
   "source": []
  }
 ],
 "metadata": {
  "kernelspec": {
   "display_name": "Python 3",
   "language": "python",
   "name": "python3"
  },
  "language_info": {
   "codemirror_mode": {
    "name": "ipython",
    "version": 3
   },
   "file_extension": ".py",
   "mimetype": "text/x-python",
   "name": "python",
   "nbconvert_exporter": "python",
   "pygments_lexer": "ipython3",
   "version": "3.5.2"
  }
 },
 "nbformat": 4,
 "nbformat_minor": 1
}
