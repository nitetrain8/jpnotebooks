{
 "cells": [
  {
   "cell_type": "code",
   "execution_count": 7,
   "metadata": {
    "collapsed": true
   },
   "outputs": [],
   "source": [
    "from scripts.tools.issuetracker import *\n",
    "import os\n",
    "import shutil\n",
    "from officelib import wordlib\n",
    "import dateutil.parser\n",
    "import dateutil.tz\n",
    "import datetime"
   ]
  },
  {
   "cell_type": "code",
   "execution_count": 189,
   "metadata": {
    "collapsed": false
   },
   "outputs": [],
   "source": [
    "\n",
    "def iter_gantt_outline(gantt):\n",
    "    seen = set()\n",
    "    level = 0\n",
    "    for i in gantt:\n",
    "        seen.clear()\n",
    "        p = i\n",
    "        level = 0\n",
    "        while True:\n",
    "            if p in seen:\n",
    "                raise ValueError(\"Circular graph detected: %s\" % seen)\n",
    "            seen.add(p)\n",
    "            p = p.parent\n",
    "            if p is None:\n",
    "                break\n",
    "            level += 1\n",
    "        yield level, i\n",
    "                \n",
    "            \n",
    "def make_tree(gantt):\n",
    "    tree = {}\n",
    "\n",
    "    for iss in gantt:\n",
    "        path = [iss]\n",
    "        p = iss.parent\n",
    "        while p is not None:\n",
    "            path.append(p)\n",
    "            p = p.parent\n",
    "        v = tree\n",
    "        while path:\n",
    "            i = path.pop()\n",
    "            if i not in v:\n",
    "                v[i] = {}\n",
    "            v = v[i]\n",
    "    return tree\n",
    "\n",
    "\n",
    "def make_tree2(gantt):\n",
    "    tree = {}\n",
    "    seen = set()\n",
    "    for iss in gantt:\n",
    "        path = [iss]\n",
    "        if iss in seen:\n",
    "            continue\n",
    "        seen.add(iss)\n",
    "        p = iss.parent\n",
    "        while p is not None:\n",
    "            path.append(p)\n",
    "            seen.add(p)\n",
    "            p = p.parent\n",
    "        v = tree\n",
    "        while path:\n",
    "            i = path.pop()\n",
    "            if i not in v:\n",
    "                v[i] = {}\n",
    "            v = v[i]\n",
    "    return tree\n",
    "\n",
    "\n",
    "def append_line(lines, lvl, issue, domain):\n",
    "    link = \"https://\" + domain + \"/issues/%d\" % issue.id\n",
    "    lines.append((lvl, \"Issue #%d: %s\" % (issue.id, issue.subject), link, issue))\n",
    "\n",
    "\n",
    "def parse_tree(tree, lines, domain, level, set_gantt, unmodified):\n",
    "    for k in sorted(tree, key=lambda iss: iss.id):\n",
    "        if k not in set_gantt:\n",
    "            unmodified.add(k)\n",
    "        append_line(lines, level, k, domain)\n",
    "        parse_tree(tree[k], lines, domain, level+1, set_gantt, unmodified)\n",
    "            \n",
    "\n",
    "def create_outline(gantt, domain, set_gantt):\n",
    "    lines = []\n",
    "    tree = make_tree2(gantt)\n",
    "    unmodified = set()\n",
    "    parse_tree(tree, lines, domain, 0, set_gantt, unmodified)\n",
    "    return lines, unmodified\n",
    "    \n",
    "    \n",
    "# def create_outline(gantt, domain, set_gantt):\n",
    "#     lines = []\n",
    "    \n",
    "#     def append(lvl, issue):\n",
    "#         link = \"https://\" + domain + \"/issues/%d\" % issue.id\n",
    "#         lines.append((lvl, \"Issue #%d: %s\" % (issue.id, issue.subject), link))\n",
    "        \n",
    "#     for lvl, issue in iter_gantt_outline(gantt):\n",
    "#         p = issue.parent\n",
    "#         plvl = lvl - 1\n",
    "#         while p is not None and p not in set_gantt:\n",
    "#             set_gantt.add(p)\n",
    "#             append(plvl, p)\n",
    "#             p = p.parent\n",
    "#             plvl -= 1\n",
    "#         append(lvl, issue)\n",
    "#     return lines"
   ]
  },
  {
   "cell_type": "code",
   "execution_count": 190,
   "metadata": {
    "collapsed": false
   },
   "outputs": [],
   "source": [
    "def make_style(doc, name=\"PY_FRS_TITLE\", font_size=24, font=\"Calibri\", \n",
    "                     alignment=None, indent=None, tabstops=None, space_after=None):\n",
    "    \n",
    "    if alignment is None:\n",
    "        alignment = wordlib.c.wdAlignParagraphCenter\n",
    "    \n",
    "    style = doc.Styles.Add(name)\n",
    "    style.BaseStyle = doc.Styles(\"Normal\")\n",
    "    style.NoSpaceBetweenParagraphsOfSameStyle = True\n",
    "    \n",
    "    style.Font.Size = font_size\n",
    "    style.Font.Name = font\n",
    "    \n",
    "    style.ParagraphFormat.Alignment = alignment\n",
    "    style.ParagraphFormat.SpaceBeforeAuto = False\n",
    "    style.ParagraphFormat.SpaceAfterAuto = False\n",
    "    style.ParagraphFormat.LineSpacingRule = wordlib.c.wdLineSpaceSingle\n",
    "    \n",
    "    if indent is not None:\n",
    "        style.ParagraphFormat.LeftIndent = wordlib.inches_to_points(indent)\n",
    "    \n",
    "    if tabstops is not None:\n",
    "        style.ParagraphFormat.TabStops.Add(wordlib.inches_to_points(tabstops), \n",
    "                                           wordlib.c.wdAlignTabLeft, \n",
    "                                           wordlib.c.wdTabLeaderDots)\n",
    "    \n",
    "    if space_after is not None:\n",
    "        style.ParagraphFormat.SpaceAfter = space_after\n",
    "    \n",
    "    return style"
   ]
  },
  {
   "cell_type": "code",
   "execution_count": 191,
   "metadata": {
    "collapsed": true
   },
   "outputs": [],
   "source": [
    "def move(r, n):\n",
    "    r.MoveStart(wordlib.c.wdCharacter, n)\n",
    "\n",
    "def add_index_lines(doc, r, lines, unmodified):\n",
    "    styles = {}\n",
    "    nlines = len(lines)\n",
    "    for i, (lvl, itxt, href, issue) in enumerate(lines, 1):\n",
    "        \n",
    "        print(\"\\rCreating index %d of %d       \" % (i, nlines), end=\"\")\n",
    "        \n",
    "        style_name = \"PY_FRS_BODY_%d\" % lvl\n",
    "        style = styles.get(style_name)\n",
    "        if style is None:\n",
    "            indent = lvl * 0.1\n",
    "            style = make_style(doc, style_name, 12, \"Calibri\", \n",
    "                               wordlib.c.wdAlignParagraphLeft, indent, 6, 3)\n",
    "            styles[style_name] = style\n",
    "        \n",
    "        r.Text = itxt\n",
    "        r.Style = style\n",
    "        \n",
    "        if issue in unmodified:\n",
    "            move(r, len(itxt))\n",
    "            r.Text = \" [unmodified]\\t\"\n",
    "            r.Font.Size = 10\n",
    "            move(r, len(\" [unmodified]\\t\"))\n",
    "        else:\n",
    "            r.InsertAfter(\"\\t\")\n",
    "            move(r, len(itxt)+1)\n",
    "        \n",
    "        doc.Hyperlinks.Add(r, href, \"\", href, \"Link\")\n",
    "        r.InsertAfter(\"\\r\")\n",
    "        move(r, 20)  # enough for \"link\"\n",
    "        doc.Paragraphs.Add()\n",
    "    print()\n",
    "\n",
    "def create_word_index(lines, doc, index_title, from_date, to_date, unmodified):\n",
    "    \n",
    "    print(\"Creating Word Document...\")\n",
    "    \n",
    "    pgs = doc.Paragraphs\n",
    "    \n",
    "    # title\n",
    "    r = pgs(1).Range\n",
    "    r.Text = index_title\n",
    "    r.Style = make_style(doc, \"PY_FRS_TITLE\", 24, \"Calibri\", space_after=0)\n",
    "    r.InsertAfter(\"\\r\")\n",
    "    \n",
    "    #subtitle\n",
    "    move(r, len(index_title) + 2)\n",
    "    ds1 = \"%d/%d/%d\" % (from_date.month, from_date.day, from_date.year)\n",
    "    ds2 = \"%d/%d/%d\" % (to_date.month, to_date.day, to_date.year)\n",
    "    txt = \"Updated Specifications from %s to %s\" % (ds1, ds2)\n",
    "    r.Text = txt\n",
    "    r.Style = make_style(doc, \"PY_FRS_SUBTITLE\", 12)\n",
    "    r.InsertAfter(\"\\r\")\n",
    "    \n",
    "    # index\n",
    "    move(r, len(txt) + 2)\n",
    "    add_index_lines(doc, r, lines, unmodified)\n",
    "    \n",
    "\n",
    "def create_pdf_index(gantt, domain, index_title, from_date, to_date, set_gantt):\n",
    "    print(\"Creating PDF Index...\")\n",
    "    lines, unmodified = create_outline(gantt, domain, set_gantt)\n",
    "    word = wordlib.Word()\n",
    "    doc = word.Documents.Add()\n",
    "    with wordlib.lock_screen(word):\n",
    "        create_word_index(lines, doc, index_title, from_date, to_date, unmodified)\n",
    "    #create_word_index(lines, doc, index_title, from_date, to_date)\n",
    "    "
   ]
  },
  {
   "cell_type": "code",
   "execution_count": 192,
   "metadata": {
    "collapsed": false
   },
   "outputs": [],
   "source": [
    "def should_include_issue(iss, from_date, to_date):\n",
    "    return (iss.sprint_milestone.name == '3.0' and \n",
    "            iss.tracker.name == 'Specification' and\n",
    "            from_date <= iss.updated_on <= to_date)\n",
    "    \n",
    "def parse_date(date):\n",
    "    if isinstance(date, str):\n",
    "        dt = dateutil.parser.parse(date)\n",
    "        if dt.tzinfo is None:\n",
    "            return datetime.datetime(dt.year, dt.month, dt.day, tzinfo=dateutil.tz.tzutc())\n",
    "        return dt\n",
    "    return date\n",
    "\n",
    "def today():\n",
    "    td = datetime.datetime.today()\n",
    "    return datetime.datetime(td.year, td.month, td.day, tzinfo=dateutil.tz.tzutc())"
   ]
  },
  {
   "cell_type": "code",
   "execution_count": 193,
   "metadata": {
    "collapsed": true
   },
   "outputs": [],
   "source": [
    "def main(domain, user, password, from_date=None, to_date=None, index_title=\"FRS Update\"):\n",
    "    \n",
    "    if from_date is None:\n",
    "        from_date = datetime.datetime(1900, 1, 1, tzinfo=dateutil.tz.tzutc())\n",
    "    else:\n",
    "        from_date = parse_date(from_date)\n",
    "\n",
    "    if to_date is None or to_date.lower() == \"today\":\n",
    "        to_date = today()\n",
    "    else:\n",
    "        from_date = parse_date(to_date)\n",
    "        \n",
    "    api = IssuetrackerAPI(domain, user, password)\n",
    "    gantt = api.download_issues('pbssoftware').values()\n",
    "    gantt = [i for i in gantt if should_include_issue(i, from_date, to_date)]\n",
    "    set_gantt = set(gantt)\n",
    "    create_pdf_index(gantt, domain, index_title, from_date, to_date, set_gantt)\n",
    "    #return gantt\n",
    "    "
   ]
  },
  {
   "cell_type": "code",
   "execution_count": 194,
   "metadata": {
    "collapsed": false
   },
   "outputs": [
    {
     "name": "stdout",
     "output_type": "stream",
     "text": [
      "Creating PDF Index...\n",
      "Creating Word Document...\n",
      "Creating index 34 of 34       \n"
     ]
    }
   ],
   "source": [
    "word.ActiveDocument.Close(False)\n",
    "main(\"issue.pbsbiotech.com\", 'nstarkweather', 'kookychemist', \"2016-6-1\", \"today\", 'Hello v3.0 FRS Update')"
   ]
  },
  {
   "cell_type": "code",
   "execution_count": null,
   "metadata": {
    "collapsed": true
   },
   "outputs": [],
   "source": []
  },
  {
   "cell_type": "code",
   "execution_count": 17,
   "metadata": {
    "collapsed": false
   },
   "outputs": [],
   "source": [
    "# from scripts.tools.issuetracker import IssuetrackerAPI\n",
    "# api= IssuetrackerAPI(\"issue.pbsbiotech.com\", 'nstarkweather', 'kookychemist')\n",
    "# issues = api.download_issues('pbssoftware')\n",
    "# gantt = issues.values()\n",
    "# gantt2 = [i for i in gantt if should_include_issue(i, from_date, to_date)]"
   ]
  },
  {
   "cell_type": "code",
   "execution_count": 18,
   "metadata": {
    "collapsed": true
   },
   "outputs": [],
   "source": [
    "class IssuetrackerAPI():\n",
    "    def __init__(self, *args):\n",
    "        pass\n",
    "    def download_gantt(self, *args):\n",
    "        return gantt\n",
    "    def download_issues(self, *args):\n",
    "        return issues"
   ]
  },
  {
   "cell_type": "code",
   "execution_count": 16,
   "metadata": {
    "collapsed": true
   },
   "outputs": [],
   "source": [
    "from_date = parse_date(\"2016-6-1\")\n",
    "to_date = today()"
   ]
  },
  {
   "cell_type": "code",
   "execution_count": 141,
   "metadata": {
    "collapsed": false
   },
   "outputs": [
    {
     "data": {
      "text/plain": [
       "<generator object iter_gantt_outline at 0x000001C8A39049E8>"
      ]
     },
     "execution_count": 141,
     "metadata": {},
     "output_type": "execute_result"
    }
   ],
   "source": [
    "g=iter_gantt_outline(gantt)\n",
    "filtered = [i for i in gantt if should_include_issue(i, from_date, to_date)]\n",
    "g2=iter_gantt_outline(filtered)\n",
    "for i in gantt:\n",
    "    if should_include_issue(i, from_date, to_date):\n",
    "        pass\n",
    "        #print(i.id)\n",
    "x, y = list(zip(*g2))\n",
    "iter_gantt_outline(filtered)"
   ]
  },
  {
   "cell_type": "code",
   "execution_count": 20,
   "metadata": {
    "collapsed": true
   },
   "outputs": [],
   "source": [
    "oldrepr = Issue.__repr__\n",
    "newrepr = lambda self: \"Issue(%d)\" % self.id\n",
    "Issue.__repr__ = Issue.__str__ = newrepr\n",
    "_oldrepr = oldrepr"
   ]
  },
  {
   "cell_type": "code",
   "execution_count": 187,
   "metadata": {
    "collapsed": true
   },
   "outputs": [],
   "source": [
    "def make_tree2(gantt):\n",
    "    tree = {}\n",
    "    seen = set()\n",
    "    for iss in gantt:\n",
    "        path = [iss]\n",
    "        if iss in seen:\n",
    "            continue\n",
    "        seen.add(iss)\n",
    "        p = iss.parent\n",
    "        while p is not None:\n",
    "            path.append(p)\n",
    "            seen.add(p)\n",
    "            p = p.parent\n",
    "        v = tree\n",
    "        while path:\n",
    "            i = path.pop()\n",
    "            if i not in v:\n",
    "                v[i] = {}\n",
    "            v = v[i]\n",
    "    return tree"
   ]
  },
  {
   "cell_type": "code",
   "execution_count": 188,
   "metadata": {
    "collapsed": false
   },
   "outputs": [
    {
     "name": "stdout",
     "output_type": "stream",
     "text": [
      "0 2712     0 2712           True\n",
      " 1 989      1 989           True\n",
      " 1 1845     1 1845          True\n",
      " 1 1885     1 1885          True\n",
      " 1 2725     1 2725          True\n",
      "  2 1073     2 1073         True\n",
      "  2 2908     2 2908         True\n",
      " 1 2758     1 2758          True\n",
      " 1 2808     1 2808          True\n",
      " 1 2814     1 2814          True\n",
      " 1 2825     1 2825          True\n",
      " 1 2828     1 2828          True\n",
      " 1 2851     1 2851          True\n",
      " 1 3001     1 3001          True\n",
      "  2 2819     2 2819         True\n",
      "  2 2856     2 2856         True\n",
      "  2 2859     2 2859         True\n",
      "  2 2922     2 2922         True\n",
      "0 2716     0 2716           True\n",
      " 1 1583     1 1583          True\n",
      " 1 2787     1 2787          True\n",
      "0 2857     0 2857           True\n",
      " 1 2880     1 2880          True\n",
      "0 2876     0 2876           True\n",
      "0 3165     0 3165           True\n",
      "0 3176     0 3176           True\n",
      "0 3178     0 3178           True\n",
      "0 3194     0 3194           True\n",
      "0 3223     0 3223           True\n",
      "0 3225     0 3225           True\n",
      "0 3226     0 3226           True\n",
      "0 3230     0 3230           True\n",
      "0 3240     0 3240           True\n",
      "0 3260     0 3260           True\n",
      "34 34\n"
     ]
    }
   ],
   "source": [
    "p = []\n",
    "p2 = []\n",
    "domain = 'issue.pbsbiotech.com'\n",
    "tree=make_tree(gantt2)\n",
    "parse_tree(tree, p, domain, 0, set(), set())\n",
    "tree2=make_tree2(gantt2)\n",
    "parse_tree(tree2, p2, domain, 0, set(), set())\n",
    "from itertools import zip_longest\n",
    "class Dummy():\n",
    "    id = \"\"\n",
    "for (lvl, _, _, i1), (l2, _, _, i2) in zip_longest(p,p2, fillvalue = (0, \"\",\"\",Dummy())):\n",
    "    s1 = \" \" * lvl + str(lvl) + \" \"+ str(i1.id)\n",
    "    s1 = \"%-10s\"%s1\n",
    "    s2 = \" \" * lvl + str(lvl) +\" \"+ str(i2.id)\n",
    "    s2 = \"%-10s\"%s2\n",
    "    print(s1, s2, \"%10s\"% bool(i1==i2))\n",
    "print(len(p), len(p2))"
   ]
  },
  {
   "cell_type": "code",
   "execution_count": 155,
   "metadata": {
    "collapsed": false
   },
   "outputs": [
    {
     "data": {
      "text/plain": [
       "Issue(2712)"
      ]
     },
     "execution_count": 155,
     "metadata": {},
     "output_type": "execute_result"
    }
   ],
   "source": [
    "issues[2758].parent"
   ]
  },
  {
   "cell_type": "code",
   "execution_count": 183,
   "metadata": {
    "collapsed": false
   },
   "outputs": [
    {
     "name": "stdout",
     "output_type": "stream",
     "text": [
      " Issue(3194)\n",
      " Issue(3176)\n",
      " Issue(2716)\n",
      "  Issue(1583)\n",
      "  Issue(2787)\n",
      " Issue(3226)\n",
      " Issue(3240)\n",
      " Issue(3260)\n",
      " Issue(2712)\n",
      "  Issue(2725)\n",
      "   Issue(2908)\n",
      "   Issue(1073)\n",
      "  Issue(3001)\n",
      "   Issue(2859)\n",
      "   Issue(2922)\n",
      "   Issue(2819)\n",
      "   Issue(2856)\n",
      "  Issue(2814)\n",
      "  Issue(2808)\n",
      "  Issue(1885)\n",
      "  Issue(2828)\n",
      "  Issue(1845)\n",
      "  Issue(2758)\n",
      "  Issue(2851)\n",
      "  Issue(989)\n",
      "  Issue(2825)\n",
      " Issue(3225)\n",
      " Issue(3230)\n",
      " Issue(3178)\n",
      " Issue(3165)\n",
      " Issue(2876)\n",
      " Issue(2857)\n",
      "  Issue(2880)\n",
      " Issue(3223)\n",
      "_________________\n",
      " Issue(3194)\n",
      " Issue(3176)\n",
      " Issue(2716)\n",
      "  Issue(1583)\n",
      "  Issue(2787)\n",
      " Issue(3001)\n",
      "  Issue(2859)\n",
      "  Issue(2922)\n",
      "  Issue(2819)\n",
      "  Issue(2856)\n",
      " Issue(3226)\n",
      " Issue(3240)\n",
      " Issue(3260)\n",
      " Issue(2712)\n",
      "  Issue(1845)\n",
      "  Issue(2814)\n",
      "  Issue(2808)\n",
      "  Issue(1885)\n",
      "  Issue(2828)\n",
      "  Issue(2758)\n",
      "  Issue(2851)\n",
      "  Issue(989)\n",
      "  Issue(2825)\n",
      " Issue(3225)\n",
      " Issue(3230)\n",
      " Issue(2857)\n",
      "  Issue(2880)\n",
      " Issue(3178)\n",
      " Issue(3165)\n",
      " Issue(2876)\n",
      " Issue(2725)\n",
      "  Issue(2908)\n",
      "  Issue(1073)\n",
      " Issue(3223)\n"
     ]
    }
   ],
   "source": [
    "def dump(d, level=0):\n",
    "    for k in d:\n",
    "        print(level * \" \", k)\n",
    "        dump(d[k], level+1)\n",
    "\n",
    "dump(tree)\n",
    "print(\"_________________\")\n",
    "dump(tree2)"
   ]
  },
  {
   "cell_type": "code",
   "execution_count": null,
   "metadata": {
    "collapsed": true
   },
   "outputs": [],
   "source": []
  }
 ],
 "metadata": {
  "kernelspec": {
   "display_name": "Python 3",
   "language": "python",
   "name": "python3"
  },
  "language_info": {
   "codemirror_mode": {
    "name": "ipython",
    "version": 3
   },
   "file_extension": ".py",
   "mimetype": "text/x-python",
   "name": "python",
   "nbconvert_exporter": "python",
   "pygments_lexer": "ipython3",
   "version": "3.5.2"
  }
 },
 "nbformat": 4,
 "nbformat_minor": 1
}
