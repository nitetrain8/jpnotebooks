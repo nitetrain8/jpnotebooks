{
 "cells": [
  {
   "cell_type": "code",
   "execution_count": 1,
   "metadata": {
    "collapsed": false
   },
   "outputs": [],
   "source": [
    "import os\n",
    "os.chdir(os.path.join(os.path.abspath(os.path.expanduser(\"~\")), \"Documents\", \"Personal\", \"Test\"))\n",
    "from scripts.tools.issuetracker import IssuetrackerAPI as _ISAPI, Issue\n",
    "import pickle\n",
    "\n",
    "import datetime, dateutil\n",
    "from_date = datetime.datetime(2016, 6, 1, tzinfo=dateutil.tz.tzutc())\n",
    "today =datetime.date.today()\n",
    "to_date = datetime.datetime(today.year, today.month, today.day, tzinfo=dateutil.tz.tzutc())\n",
    "\n",
    "\n",
    "class IssuetrackerAPI(_ISAPI):\n",
    "    \n",
    "    def make_pickle_cache(self, *args):\n",
    "        issues = super().download_issues(*args)\n",
    "        with open(\"gantt_dummy.pkl\", 'wb') as f:\n",
    "            pickle.dump(issues, f)\n",
    "        return issues\n",
    "    def download_issues(self, *args):\n",
    "        if not os.path.exists(\"gantt_dummy.pkl\"):\n",
    "            return self.make_pickle_cache(*args)\n",
    "        else:\n",
    "            with open(\"gantt_dummy.pkl\", 'rb') as f:\n",
    "                try:\n",
    "                    issues = pickle.load(f)\n",
    "                except (pickle.PickleError, OSError, EOFError):\n",
    "                    pass\n",
    "                else:\n",
    "                    return issues\n",
    "            return self.make_pickle_cache(*args)\n",
    "        return issues\n"
   ]
  },
  {
   "cell_type": "code",
   "execution_count": 4,
   "metadata": {
    "collapsed": false,
    "scrolled": true
   },
   "outputs": [
    {
     "name": "stdout",
     "output_type": "stream",
     "text": [
      "Begin Main\n",
      "Downloading projects...\n",
      "Downloading issues: 671/671      \n",
      "\n",
      "Got update: PGS_BEGIN_PROCESS_PDFS \n",
      "Creating PDF Index...\n",
      "Creating Word Document...\n",
      "Creating index 34 of 34                    \n",
      "Got update: PGS_IPG_FLAG_WAITING \n",
      "Got update: MPD_ALL_COMPLETE \n",
      "Got update: PGS_PDFTK_INFO_BEGIN \n",
      "Got update: PGS_PDFTK_INFO_DONE \n",
      "Got update: PGS_PROCESS_PDFS_DONE \n",
      "Got update: PGS_PREPARE_POSTSCRIPT \n",
      "Got update: PGS_BEGIN_BIND_PDF \n",
      "Got update: PGS_DONE \n",
      "Done\n",
      "\"C:\\Program Files (x86)\\Adobe\\Acrobat Reader DC\\Reader\\AcroRd32.exe\" /A \"pdfs5\\IS00038B2 Rev A Functional Requirements Specification Updates.pdf\"\n"
     ]
    },
    {
     "data": {
      "text/plain": [
       "<subprocess.Popen at 0x272fc5b2cc0>"
      ]
     },
     "execution_count": 4,
     "metadata": {},
     "output_type": "execute_result"
    }
   ],
   "source": [
    "from officelib import wordlib\n",
    "from scripts.tools.issuetracker.frs_update import main\n",
    "import shutil\n",
    "word = wordlib.Word()\n",
    "try:\n",
    "    word.ActiveDocument.Close(False)\n",
    "except:\n",
    "    pass\n",
    "try:\n",
    "    shutil.rmtree(\"pdfs5\")\n",
    "except FileNotFoundError:\n",
    "    pass\n",
    "print(\"Begin Main\", flush=True)\n",
    "res = main(\"issue.pbsbiotech.com\", 'nstarkweather', 'kookychemist', 'pbssoftware', \"2016-6-1\", \n",
    "     \"today\", 'Hello v3.0 FRS Update', \"pdfs5\", \"FRS Update\", \n",
    "     \"IS00038B2 Rev A Functional Requirements Specification Updates\")\n",
    "#os.startfile('\"%s\"'%res)\n",
    "print()\n",
    "print(\"Done\")\n",
    "import subprocess\n",
    "adobe = \"C:\\\\Program Files (x86)\\Adobe\\\\Acrobat Reader DC\\\\Reader\\\\AcroRd32.exe\"\n",
    "cmd = '\"%s\" /A \"%s\"' % (adobe, res)\n",
    "print(cmd)\n",
    "subprocess.Popen(cmd)"
   ]
  },
  {
   "cell_type": "code",
   "execution_count": null,
   "metadata": {
    "collapsed": false
   },
   "outputs": [],
   "source": [
    "from scripts.tools.issuetracker.frs_update import *\n",
    "len(state2name)"
   ]
  },
  {
   "cell_type": "code",
   "execution_count": 3,
   "metadata": {
    "collapsed": false
   },
   "outputs": [
    {
     "ename": "NameError",
     "evalue": "name 'res' is not defined",
     "output_type": "error",
     "traceback": [
      "\u001b[0;31m---------------------------------------------------------------------------\u001b[0m",
      "\u001b[0;31mNameError\u001b[0m                                 Traceback (most recent call last)",
      "\u001b[0;32m<ipython-input-3-41a0db25bac4>\u001b[0m in \u001b[0;36m<module>\u001b[0;34m()\u001b[0m\n\u001b[0;32m----> 1\u001b[0;31m \u001b[0mres\u001b[0m\u001b[1;33m\u001b[0m\u001b[0m\n\u001b[0m",
      "\u001b[0;31mNameError\u001b[0m: name 'res' is not defined"
     ]
    }
   ],
   "source": [
    "res"
   ]
  },
  {
   "cell_type": "code",
   "execution_count": null,
   "metadata": {
    "collapsed": true
   },
   "outputs": [],
   "source": []
  }
 ],
 "metadata": {
  "kernelspec": {
   "display_name": "Python 3",
   "language": "python",
   "name": "python3"
  }
 },
 "nbformat": 4,
 "nbformat_minor": 1
}
