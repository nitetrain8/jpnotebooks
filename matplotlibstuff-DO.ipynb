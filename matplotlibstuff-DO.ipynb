{
 "cells": [
  {
   "cell_type": "code",
   "execution_count": 1,
   "metadata": {
    "collapsed": false,
    "scrolled": true
   },
   "outputs": [
    {
     "name": "stdout",
     "output_type": "stream",
     "text": [
      "Using matplotlib backend: TkAgg\n"
     ]
    }
   ],
   "source": [
    "%matplotlib"
   ]
  },
  {
   "cell_type": "code",
   "execution_count": 2,
   "metadata": {
    "collapsed": false
   },
   "outputs": [],
   "source": [
    "import tkinter as tk\n",
    "from pysrc.simplertplot.plotwidget import RTPlotWidget\n",
    "from pysrc.simplertplot import queues\n",
    "from hello.hello import HelloApp, TrueError\n",
    "from time import time, sleep\n",
    "import numpy as np\n",
    "from matplotlib.ticker import NullFormatter, NullLocator, FormatStrFormatter\n",
    "from collections import OrderedDict"
   ]
  },
  {
   "cell_type": "code",
   "execution_count": 3,
   "metadata": {
    "collapsed": true
   },
   "outputs": [],
   "source": [
    "ip = '192.168.1.83'\n",
    "#ip = '71.189.82.196:85'\n",
    "#ip = '71.189.82.196:83'"
   ]
  },
  {
   "cell_type": "code",
   "execution_count": 4,
   "metadata": {
    "collapsed": false
   },
   "outputs": [
    {
     "data": {
      "text/plain": [
       "3600"
      ]
     },
     "execution_count": 4,
     "metadata": {},
     "output_type": "execute_result"
    }
   ],
   "source": [
    "interval = 1000\n",
    "minutes = 60\n",
    "max_pts=minutes*60/(interval/1000)\n",
    "max_pts=int(max_pts)\n",
    "max_pts"
   ]
  },
  {
   "cell_type": "code",
   "execution_count": 5,
   "metadata": {
    "collapsed": false
   },
   "outputs": [],
   "source": [
    "class MyPlotWidget(RTPlotWidget):\n",
    "    def __init__(self, *args, **kw):\n",
    "        super().__init__(*args, **kw)\n",
    "        self._special()\n",
    "\n",
    "    def _update_data(self):\n",
    "        self.line.set_data(self.x_data.get(), self.y_data.get())\n",
    "        self.line2.set_data(self.x_data.get(), self.y_data2.get())\n",
    "        self.line3.set_data(self.x_data.get(), self.y_data3.get())\n",
    "        self.subplot.relim()\n",
    "        self.subplot.autoscale_view(True, True, True)\n",
    "        self.ax2.relim()\n",
    "        self.ax2.autoscale_view(True,True,True)\n",
    "        lower, upper = self.subplot.get_ybound()\n",
    "        self.subplot.set_ylim(lower-0.2, upper+0.2, True, None)\n",
    "        lower, upper = self.ax2.get_ybound()\n",
    "        self.ax2.set_ylim(lower-1, upper+1, True, None)\n",
    "        self._update()\n",
    "        \n",
    "    def _special(self):\n",
    "        self.ax2 = self.subplot.twinx()\n",
    "        self.y_data2 = queues.RingBuffer(self.max_pts)\n",
    "        self.line2, = self.ax2.plot(self.x_data.get(), self.y_data2.get(), 'g-')\n",
    "        self.yaxis2 = self.ax2.yaxis\n",
    "        self.yaxis2.set_major_formatter(FormatStrFormatter(\"%.2f\"))\n",
    "        \n",
    "        self.y_data3 = queues.RingBuffer(self.max_pts)\n",
    "        self.line3, = self.ax2.plot(self.x_data.get(), self.y_data2.get(), 'r-')\n",
    "\n",
    "    def extend_xy(self, x, y, y2, y3):\n",
    "        self.x_data.extend(x)\n",
    "        self.y_data.extend(y)\n",
    "        self.y_data2.extend(y2)\n",
    "        self.y_data3.xtend(y3)\n",
    "        self._update_data()\n",
    "        \n",
    "    def legend(self, text1, text2, text3):\n",
    "        self.line.set_label(text1)\n",
    "        self.line2.set_label(text2)\n",
    "        self.line3.set_label(text3)\n",
    "\n",
    "        h1, l1 = self.subplot.get_legend_handles_labels()\n",
    "        h2, l2 = self.ax2.get_legend_handles_labels()\n",
    "        h1.extend(h2)\n",
    "        l1.extend(l2)\n",
    "        self.subplot.legend(h1, l1)\n",
    "        #self.subplot.legend(loc='upper right')\n",
    "        #self.ax2.legend(loc='lower right')\n",
    "        \n",
    "    def reset(self):\n",
    "        self.x_data.clear()\n",
    "        self.y_data.clear()\n",
    "        self.y_data2.clear()\n",
    "        self.y_data3.clear()\n",
    "        self._update_data()\n",
    "\n",
    "    def add_xy(self, x, y, y2, y3):\n",
    "        self.x_data.put(x)\n",
    "        self.y_data.put(y)\n",
    "        self.y_data2.put(y2)\n",
    "        self.y_data3.put(y3)\n",
    "        self._update_data()"
   ]
  },
  {
   "cell_type": "code",
   "execution_count": 6,
   "metadata": {
    "collapsed": true
   },
   "outputs": [],
   "source": [
    "def timer():\n",
    "    start = time()\n",
    "    while True:\n",
    "        current = time()\n",
    "        yield current - start\n",
    "get_time = timer().__next__"
   ]
  },
  {
   "cell_type": "code",
   "execution_count": 7,
   "metadata": {
    "collapsed": true
   },
   "outputs": [],
   "source": [
    "g_stop_tasks = False\n",
    "g_after = None\n",
    "def tk_task(tk, interval, f):\n",
    "    global g_after, g_stop_tasks\n",
    "    def fn(*args, **kw):\n",
    "        global g_after\n",
    "        try:\n",
    "            return f(*args, **kw)\n",
    "        finally:\n",
    "            if not g_stop_tasks:\n",
    "                g_after = tk.after(interval, fn)\n",
    "    g_after = tk.after(interval, fn)"
   ]
  },
  {
   "cell_type": "code",
   "execution_count": 8,
   "metadata": {
    "collapsed": true
   },
   "outputs": [],
   "source": [
    "controller = 'do'"
   ]
  },
  {
   "cell_type": "code",
   "execution_count": 9,
   "metadata": {
    "collapsed": false
   },
   "outputs": [],
   "source": [
    "import threading\n",
    "class Model():\n",
    "    def __init__(self, app, ctrl, interval=0.1):\n",
    "        self.mv = app.getMainValues()  # prepopulate\n",
    "        self.advv = app.getadvv()\n",
    "        self.time = get_time()\n",
    "        self.lock = threading.RLock()\n",
    "        self.running = threading.Event()\n",
    "        self.thread = None\n",
    "        self.app = app\n",
    "        self.interval = interval\n",
    "        self.ctrl = ctrl\n",
    "    def getvalues(self):\n",
    "        with self.lock:\n",
    "            pv = self.mv[self.ctrl]['pv']\n",
    "            op = self.advv['O2 Flow (%)']\n",
    "            op2 = self.advv[\"N2 Flow (%)\"]\n",
    "            t = self.time\n",
    "        return t, pv, op, op2\n",
    "    def getMainValues(self):\n",
    "        return self.mv\n",
    "    def run_update(self):\n",
    "        self.running.set()\n",
    "        self.thread = threading.Thread(None, self._run_update, daemon=True)\n",
    "        self.thread.start()\n",
    "    def reconnect(self):\n",
    "        try:\n",
    "            self.app.reconnect()\n",
    "        except Exception:\n",
    "            pass\n",
    "    def _run_update(self):\n",
    "        while self.running.is_set():\n",
    "            self.time = get_time()\n",
    "            try:\n",
    "                mv = self.app.getMainValues()\n",
    "            except Exception:\n",
    "                self.reconnect()\n",
    "            else:\n",
    "                with self.lock:\n",
    "                    self.mv = mv\n",
    "            try:\n",
    "                adv = self.app.getadvv()\n",
    "            except Exception:\n",
    "                self.reconnect()\n",
    "            else:\n",
    "                with self.lock:\n",
    "                    self.advv = adv\n",
    "                \n",
    "            sleep(self.interval)\n",
    "    def stop(self):\n",
    "        self.running.clear()\n",
    "        self.thread.join(timeout=10)\n",
    "        if self.thread.is_alive():\n",
    "            raise RuntimeError(\"Failed to stop thread\")\n",
    "    def reset(self):\n",
    "        self.time = get_time()\n",
    "        self.stop()\n",
    "        self.run_update()\n",
    "\n",
    "h = HelloApp(ip)\n",
    "m = Model(h, controller, 0.5)\n",
    "m.run_update()\n",
    "yk = m.getvalues()[1]\n",
    "def filter_(pv):\n",
    "    global yk\n",
    "    yk += (pv - yk) / 4\n",
    "    return yk\n",
    "    \n",
    "def update():\n",
    "    t, pv, op, op2 = m.getvalues()\n",
    "    #pv2 = filter_(pv)\n",
    "    p.add_xy(t, pv, op, op2)\n",
    "    update_labels(pv, op, op2)"
   ]
  },
  {
   "cell_type": "code",
   "execution_count": 10,
   "metadata": {
    "collapsed": false
   },
   "outputs": [],
   "source": [
    "# import threading\n",
    "# class Model():\n",
    "#     def __init__(self, app, ctrl, interval=0.1):\n",
    "#         self.mv = app.getMainValues()  # prepopulate\n",
    "#         self.time = get_time()\n",
    "#         self.lock = threading.RLock()\n",
    "#         self.running = threading.Event()\n",
    "#         self.thread = None\n",
    "#         self.app = app\n",
    "#         self.interval = interval\n",
    "#         self.ctrl = ctrl\n",
    "#     def getvalues(self):\n",
    "#         with self.lock:\n",
    "#             pv = self.mv[self.ctrl]['pv']\n",
    "#             op = self.mv[self.ctrl]['outputUp']\n",
    "#             op2 = self.mv[self.ctrl]['outputDown']\n",
    "#             t = self.time\n",
    "#         return t, pv, op, op2\n",
    "#     def getMainValues(self):\n",
    "#         return self.mv\n",
    "#     def run_update(self):\n",
    "#         self.running.set()\n",
    "#         self.thread = threading.Thread(None, self._run_update, daemon=True)\n",
    "#         self.thread.start()\n",
    "#     def _run_update(self):\n",
    "#         while self.running.is_set():\n",
    "#             try:\n",
    "#                 mv = self.app.getMainValues()\n",
    "#             except Exception:\n",
    "#                 self.app.reconnect()\n",
    "#                 continue\n",
    "#             with self.lock:\n",
    "#                 self.mv = mv\n",
    "#                 self.time = get_time()\n",
    "#             sleep(self.interval)\n",
    "#     def stop(self):\n",
    "#         self.running.clear()\n",
    "#         self.thread.join(timeout=10)\n",
    "#         if self.thread.is_alive():\n",
    "#             raise RuntimeError(\"Failed to stop thread\")\n",
    "#     def reset(self):\n",
    "#         self.time = get_time()\n",
    "#         self.stop()\n",
    "#         self.run_update()\n",
    "\n",
    "# h = HelloApp(ip)\n",
    "# m = Model(h, controller, 0.5)\n",
    "# m.run_update()\n",
    "# yk = m.getvalues()[1]\n",
    "# def filter_(pv):\n",
    "#     global yk\n",
    "#     yk += (pv - yk) / 4\n",
    "#     return yk\n",
    "    \n",
    "# def update():\n",
    "#     t, pv, op, op2 = m.getvalues()\n",
    "#     #pv2 = filter_(pv)\n",
    "#     p.add_xy(t, pv, op, op2)\n",
    "#     update_labels(pv, op, op2)"
   ]
  },
  {
   "cell_type": "code",
   "execution_count": 11,
   "metadata": {
    "collapsed": false
   },
   "outputs": [
    {
     "data": {
      "text/plain": [
       "{'CO2Duty(%)': 0.0,\n",
       " 'CondenserDuty': 50.0,\n",
       " 'FilterOvenDutyUser(%)': 8.0,\n",
       " 'FilterOvenSP(C)': 35.0,\n",
       " 'GasOut%': 37.19576644897461,\n",
       " 'GasOutLPM': 0.000634722760878503,\n",
       " 'Lq Duty (%)': 0.0,\n",
       " 'MFCAirFlowFeedback(LPM)': 0.000114464761281852,\n",
       " 'MFCCO2FlowFeedback(LPM)': 9.21058599487878e-05,\n",
       " 'MFCN2FlowFeedback(LPM)': 0.000149512299685739,\n",
       " 'MFCO2FlowFeedback(LPM)': 0.000278639810858294,\n",
       " 'MainHeatDuty(%)': 6.05626344680786,\n",
       " 'ManGasOut%M A': 0.0,\n",
       " 'N2 Flow (%)': 0.0,\n",
       " 'O2 Flow (%)': nan,\n",
       " 'ReqMainGasMode A': 2,\n",
       " 'SH Duty': 0.0,\n",
       " 'SH Setpoint A': 0.0,\n",
       " 'User SH Duty A': 0.0}"
      ]
     },
     "execution_count": 11,
     "metadata": {},
     "output_type": "execute_result"
    }
   ],
   "source": [
    "h.getadvv()"
   ]
  },
  {
   "cell_type": "code",
   "execution_count": 12,
   "metadata": {
    "collapsed": true
   },
   "outputs": [],
   "source": [
    "def printdir(o):\n",
    "    for a in dir(o):\n",
    "        if not a.startswith(\"_\"):\n",
    "            print(a, getattr(o, a))"
   ]
  },
  {
   "cell_type": "code",
   "execution_count": 13,
   "metadata": {
    "collapsed": true
   },
   "outputs": [],
   "source": [
    "def conf2(ev):\n",
    "    if ev.widget == root:\n",
    "        other_height = sum(w.winfo_height() for w in (clbl, cbox, cout))\n",
    "        p.tkcanvas.config(height=ev.height-other_height, width=ev.width-rbtn.winfo_width())"
   ]
  },
  {
   "cell_type": "code",
   "execution_count": 14,
   "metadata": {
    "collapsed": false
   },
   "outputs": [
    {
     "data": {
      "text/plain": [
       "3600"
      ]
     },
     "execution_count": 14,
     "metadata": {},
     "output_type": "execute_result"
    }
   ],
   "source": [
    "root = tk.Tk()\n",
    "root.withdraw()\n",
    "\n",
    "p = MyPlotWidget(root, max_pts=max_pts)\n",
    "p.tkcanvas.config(height=400, width=600)\n",
    "max_pts\n"
   ]
  },
  {
   "cell_type": "code",
   "execution_count": 15,
   "metadata": {
    "collapsed": false
   },
   "outputs": [],
   "source": [
    "class ILabel(tk.Label):\n",
    "    def __init__(self, master, name, value=0, fmt=\"%.2f\"):\n",
    "        super().__init__(master)\n",
    "        self.fmt = fmt\n",
    "        self.name = name\n",
    "        self.set_value(value)\n",
    "        \n",
    "    def set_value(self, val):\n",
    "        val = self.fmt % val\n",
    "        self.config(text=\"%s: %s\" % (self.name, val))\n",
    "   \n",
    "labels = OrderedDict()\n",
    "def mk_label(name, val, row):\n",
    "    l = ILabel(root, name, val)\n",
    "    labels[name] = l\n",
    "    l.grid(row=row, column=2)\n",
    "    \n",
    "mk_label(\"PV\", 0, 1)\n",
    "mk_label(\"O2\", 0, 2)\n",
    "mk_label(\"N2\", 0, 3)\n",
    "p.legend(\"PV\", \"O2\", \"N2\")\n",
    "        \n",
    "def update_labels(*args):\n",
    "    for a, l in zip(args, labels.values()):\n",
    "        l.set_value(a)\n",
    "\n",
    "    "
   ]
  },
  {
   "cell_type": "code",
   "execution_count": 16,
   "metadata": {
    "collapsed": false
   },
   "outputs": [
    {
     "name": "stdout",
     "output_type": "stream",
     "text": [
      "None\n",
      "(1.3984363079071045, 2325.17578125, 52.89700012207031, 86.282000732421878)\n",
      "0.01434521229960032\n",
      "51.64276427856115\n",
      "None\n",
      "True\n",
      "True\n",
      "True\n",
      "{'sp': 40.0, 'manUp': 0.0, 'mode': 0, 'manDown': 100.0, 'error': 90, 'pv': 4.9648}\n",
      "None\n",
      "'aaaaaaaaaaaaaaaaaaaaaaaaaaaaaaaaaaaaaaaaaaaaaaaaaa'\n",
      "'aaaaaaaaaaaaaaaaaaaaaaaaaaaaaaaaaaaaaaaaaaaaaaaaaaaaaaaaaaaaaaaaaaaaaaaaaaaaaaaaaaaaaaaaaaaaaaaaaaaaaaaaaaaaaaaaaaaaaaaaaaaaaaaaaaaaaaaaaaaaaaaaaaaaaaaaaaaaaaaaaaaaaaaaaaaaaaaaaaaaaaaaaaaaaaaaaaaaaaaa'\n"
     ]
    },
    {
     "name": "stderr",
     "output_type": "stream",
     "text": [
      "=====================================\n",
      "UNKNOWN ERROR OCCURRED DURING REQUEST\n",
      "IPV4 ADDRESS: 192.168.1.83\n",
      "REQUESTED URL: </webservice/interface/?&call=getAdvancedValues>\n",
      "[WinError 10051] A socket operation was attempted to an unreachable network\n",
      "=====================================\n",
      "=====================================\n",
      "UNKNOWN ERROR OCCURRED DURING REQUEST\n",
      "IPV4 ADDRESS: 192.168.1.83\n",
      "REQUESTED URL: </webservice/interface/?&call=getAdvancedValues>\n",
      "[WinError 10051] A socket operation was attempted to an unreachable network\n",
      "=====================================\n"
     ]
    },
    {
     "name": "stdout",
     "output_type": "stream",
     "text": [
      "<matplotlib.legend.Legend object at 0x0000027DBB919630>\n",
      "None\n",
      "None\n",
      "<matplotlib.legend.Legend object at 0x0000027DBB8A5F60>\n"
     ]
    }
   ],
   "source": [
    "p.grid(rowspan=20, column=0, row=0, columnspan=2)    \n",
    "def reset():\n",
    "    p.reset()\n",
    "    global get_time\n",
    "    get_time = timer().__next__\n",
    "    m.reset()\n",
    "rbtn = tk.Button(root, text=\"Reset\", command=reset)\n",
    "rbtn.grid(column=2, row=0, sticky=\"ew\")\n",
    "root.bind(\"<Configure>\", conf2)\n",
    "p.set_xaxis_text(\"Time (s)\")\n",
    "p.set_yaxis_text(\"%s PV\" % controller.title())\n",
    "\n",
    "clbl = tk.Label(root, text=\"Console:\")\n",
    "clbl.grid(row=21, column=0, sticky=tk.W)\n",
    "cbox = tk.Entry(root)\n",
    "cbox.grid(row=22, column=0, sticky=(tk.E, tk.W), columnspan=2)\n",
    "cout = tk.Label(root)\n",
    "cout.grid(row=23, column=0, sticky=(tk.E, tk.W), columnspan=2)\n",
    "\n",
    "def exc_cmd(_):\n",
    "    cmd = cbox.get()\n",
    "    res = nores = object()\n",
    "    err1 = None\n",
    "    if cmd:\n",
    "        try:\n",
    "            try:\n",
    "                res = eval(cmd, globals(), globals())\n",
    "            except SyntaxError as e:\n",
    "                err1 = e\n",
    "            if err1:\n",
    "                try:\n",
    "                    exec(cmd, globals(), globals())\n",
    "                except SyntaxError:\n",
    "                    raise err1 from None\n",
    "        except Exception:\n",
    "            import traceback, io\n",
    "            f = io.StringIO()\n",
    "            traceback.print_exc(file=f)\n",
    "            #print(f.getvalue())\n",
    "            cout.config(text=f.getvalue())\n",
    "        else:\n",
    "            if res is not nores:\n",
    "                print(repr(res))\n",
    "                cout.config(text=repr(res))\n",
    "            else:\n",
    "                cout.config(text=\"\")\n",
    "        finally:\n",
    "            cbox.delete(0, tk.END)\n",
    "            \n",
    "        \n",
    "cbox.bind(\"<Return>\", exc_cmd)\n",
    "\n",
    "def on_closing():\n",
    "    from tkinter import messagebox\n",
    "    if messagebox.askokcancel(\"Quit\", \"Do you want to quit?\"):\n",
    "        global g_stop_tasks, g_after\n",
    "        g_stop_tasks = True\n",
    "        root.after_cancel(g_after)\n",
    "        root.quit()\n",
    "        root.destroy()\n",
    "\n",
    "root.protocol(\"WM_DELETE_WINDOW\", on_closing)\n",
    "root.wm_deiconify()\n",
    "tk_task(root, interval, update)\n",
    "try:\n",
    "    root.mainloop()\n",
    "finally:\n",
    "    m.stop()\n"
   ]
  },
  {
   "cell_type": "code",
   "execution_count": null,
   "metadata": {
    "collapsed": true
   },
   "outputs": [],
   "source": []
  },
  {
   "cell_type": "code",
   "execution_count": 17,
   "metadata": {
    "collapsed": false
   },
   "outputs": [],
   "source": [
    "# import matplotlib.pyplot as plt\n",
    "# import numpy as np\n",
    "# np.random.seed(123456789)   # repeatable results\n",
    "# f0 = 4\n",
    "# t = np.arange(0,1.0,1.0/65536)\n",
    "# mysignal = (np.mod(f0*t,1) < 0.5)*2.0-1\n",
    "# mynoise = 1.0*np.random.randn(*mysignal.shape)\n",
    "# plt.figure(figsize=(8,6))\n",
    "# plt.plot(t, mysignal+mynoise, 'gray',\n",
    "#          t, mysignal,         'black');\n",
    "# delta_t = t[1]-t[0]"
   ]
  },
  {
   "cell_type": "code",
   "execution_count": 18,
   "metadata": {
    "collapsed": false
   },
   "outputs": [],
   "source": [
    "# mynoise2 = 0.1*np.random.randn(*mysignal.shape)\n",
    "# alpha=delta_t/0.0005\n",
    "# alpha=1/4\n",
    "# def lpf(y, alpha):\n",
    "#     y2 = np.zeros_like(y)\n",
    "#     yk = y[0]\n",
    "#     for i in range(len(y)):\n",
    "#         yk += alpha * (y[i] - yk)\n",
    "#         y2[i] = yk\n",
    "#     return y2\n",
    "# lpf_out2 = lpf(mysignal+mynoise2, alpha=alpha)\n",
    "# fig=plt.figure(figsize=(8,10))\n",
    "# ax=fig.add_subplot(3,1,1)\n",
    "# ax.plot(t,mysignal+mynoise2,t,mysignal)\n",
    "# ax.set_ylabel('original signal')\n",
    "# ax2=fig.add_subplot(3,1,2)\n",
    "# ax2.plot(t,lpf_out2)\n",
    "# ax2.set_ylabel('lpf output')\n",
    "# #ax3=fig.add_subplot(3,1,3)\n",
    "# #ax3.plot(t,lpf_out2)\n",
    "# #ax3.set_ylim(-1.05,-0.95)\n",
    "# #ax3.set_ylabel('lpf output, zoom')"
   ]
  },
  {
   "cell_type": "code",
   "execution_count": null,
   "metadata": {
    "collapsed": true
   },
   "outputs": [],
   "source": []
  },
  {
   "cell_type": "code",
   "execution_count": null,
   "metadata": {
    "collapsed": true
   },
   "outputs": [],
   "source": []
  }
 ],
 "metadata": {
  "kernelspec": {
   "display_name": "Python 3",
   "language": "python",
   "name": "python3"
  },
  "language_info": {
   "codemirror_mode": {
    "name": "ipython",
    "version": 3
   },
   "file_extension": ".py",
   "mimetype": "text/x-python",
   "name": "python",
   "nbconvert_exporter": "python",
   "pygments_lexer": "ipython3",
   "version": "3.5.2"
  }
 },
 "nbformat": 4,
 "nbformat_minor": 0
}
