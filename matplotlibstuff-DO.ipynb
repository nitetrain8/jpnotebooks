{
 "cells": [
  {
   "cell_type": "code",
   "execution_count": 164,
   "metadata": {
    "collapsed": false,
    "scrolled": true
   },
   "outputs": [
    {
     "name": "stdout",
     "output_type": "stream",
     "text": [
      "Using matplotlib backend: TkAgg\n"
     ]
    }
   ],
   "source": [
    "%matplotlib"
   ]
  },
  {
   "cell_type": "code",
   "execution_count": 165,
   "metadata": {
    "collapsed": false
   },
   "outputs": [],
   "source": [
    "import tkinter as tk\n",
    "from pysrc.simplertplot.plotwidget import RTPlotWidget\n",
    "from pysrc.simplertplot import queues\n",
    "from hello.hello3 import HelloApp, TrueError\n",
    "from time import time, sleep\n",
    "import numpy as np\n",
    "from matplotlib.ticker import NullFormatter, NullLocator, FormatStrFormatter\n",
    "from collections import OrderedDict"
   ]
  },
  {
   "cell_type": "code",
   "execution_count": 166,
   "metadata": {
    "collapsed": true
   },
   "outputs": [],
   "source": [
    "#ip = '192.168.1.83'\n",
    "ip = '71.189.82.196:85'\n",
    "#ip = '71.189.82.196:83'"
   ]
  },
  {
   "cell_type": "code",
   "execution_count": 167,
   "metadata": {
    "collapsed": false
   },
   "outputs": [
    {
     "data": {
      "text/plain": [
       "3600"
      ]
     },
     "execution_count": 167,
     "metadata": {},
     "output_type": "execute_result"
    }
   ],
   "source": [
    "interval = 1000\n",
    "minutes = 60\n",
    "max_pts=minutes*60/(interval/1000)\n",
    "max_pts=int(max_pts)\n",
    "max_pts"
   ]
  },
  {
   "cell_type": "code",
   "execution_count": 168,
   "metadata": {
    "collapsed": false
   },
   "outputs": [],
   "source": [
    "class MyPlotWidget(RTPlotWidget):\n",
    "    def __init__(self, *args, **kw):\n",
    "        super().__init__(*args, **kw)\n",
    "        self._special()\n",
    "\n",
    "    def _update_data(self):\n",
    "        self.line.set_data(self.x_data.get(), self.y_data.get())\n",
    "        self.line2.set_data(self.x_data.get(), self.y_data2.get())\n",
    "        self.line3.set_data(self.x_data.get(), self.y_data3.get())\n",
    "        self.line4.set_data(self.x_data.get(), self.y_data4.get())\n",
    "        self.subplot.relim()\n",
    "        self.subplot.autoscale_view(True, True, True)\n",
    "        self.ax2.relim()\n",
    "        self.ax2.autoscale_view(True,True,True)\n",
    "        lower, upper = self.subplot.get_ybound()\n",
    "        self.subplot.set_ylim(lower-0.2, upper+0.2, True, None)\n",
    "        lower, upper = self.ax2.get_ybound()\n",
    "        self.ax2.set_ylim(lower-1, upper+1, True, None)\n",
    "        self._update()\n",
    "        \n",
    "    def _special(self):\n",
    "        self.ax2 = self.subplot.twinx()\n",
    "        self.y_data2 = queues.RingBuffer(self.max_pts)\n",
    "        self.line2, = self.ax2.plot(self.x_data.get(), self.y_data2.get(), 'g-')\n",
    "        self.yaxis2 = self.ax2.yaxis\n",
    "        self.yaxis2.set_major_formatter(FormatStrFormatter(\"%.2f\"))\n",
    "        \n",
    "        self.y_data3 = queues.RingBuffer(self.max_pts)\n",
    "        self.line3, = self.ax2.plot(self.x_data.get(), self.y_data3.get(), 'r-')\n",
    "        \n",
    "        self.y_data4 = queues.RingBuffer(self.max_pts)\n",
    "        self.line4, = self.ax2.plot(self.x_data.get(), self.y_data4.get(), color='purple', ls=\"-\")\n",
    "\n",
    "    def extend_xy(self, x, y, y2, y3):\n",
    "        self.x_data.extend(x)\n",
    "        self.y_data.extend(y)\n",
    "        self.y_data2.extend(y2)\n",
    "        self.y_data3.xtend(y3)\n",
    "        self._update_data()\n",
    "        \n",
    "    def legend(self, text1, text2, text3, text4, loc='upper right'):\n",
    "        self.line.set_label(text1)\n",
    "        self.line2.set_label(text2)\n",
    "        self.line3.set_label(text3)\n",
    "        self.line4.set_label(text4)\n",
    "\n",
    "        h1, l1 = self.subplot.get_legend_handles_labels()\n",
    "        h2, l2 = self.ax2.get_legend_handles_labels()\n",
    "        h1.extend(h2)\n",
    "        l1.extend(l2)\n",
    "        self.subplot.legend(h1, l1, loc=loc)\n",
    "        #self.subplot.legend(loc='upper right')\n",
    "        #self.ax2.legend(loc='lower right')\n",
    "        \n",
    "    def reset(self):\n",
    "        self.x_data.clear()\n",
    "        self.y_data.clear()\n",
    "        self.y_data2.clear()\n",
    "        self.y_data3.clear()\n",
    "        self.y_data4.clear()\n",
    "        self._update_data()\n",
    "\n",
    "    def add_xy(self, x, y, y2, y3, y4):\n",
    "        self.x_data.put(x)\n",
    "        self.y_data.put(y)\n",
    "        self.y_data2.put(y2)\n",
    "        self.y_data3.put(y3)\n",
    "        self.y_data4.put(y4)\n",
    "        self._update_data()"
   ]
  },
  {
   "cell_type": "code",
   "execution_count": 169,
   "metadata": {
    "collapsed": true
   },
   "outputs": [],
   "source": [
    "def timer():\n",
    "    start = time()\n",
    "    while True:\n",
    "        current = time()\n",
    "        yield current - start\n",
    "get_time = timer().__next__"
   ]
  },
  {
   "cell_type": "code",
   "execution_count": 170,
   "metadata": {
    "collapsed": true
   },
   "outputs": [],
   "source": [
    "g_stop_tasks = False\n",
    "after_ids = {}\n",
    "\n",
    "def tk_task(tk, interval, f, aid=None):\n",
    "    if aid is None:\n",
    "        aid = id(f)\n",
    "    def fn(*args, **kw):\n",
    "        try:\n",
    "            return f(*args, **kw)\n",
    "        finally:\n",
    "            if not g_stop_tasks:\n",
    "                after_ids[aid] = tk.after(interval, fn)\n",
    "    after_ids[aid] = tk.after(interval, fn)\n",
    "    return aid\n",
    "\n",
    "def task_cancel(aid):\n",
    "    after_id = after_ids[aid]\n",
    "    if after_id is not None:\n",
    "        tk.after_cancel(after_id)"
   ]
  },
  {
   "cell_type": "code",
   "execution_count": 171,
   "metadata": {
    "collapsed": true
   },
   "outputs": [],
   "source": [
    "controller = 'do'"
   ]
  },
  {
   "cell_type": "code",
   "execution_count": 172,
   "metadata": {
    "collapsed": false
   },
   "outputs": [],
   "source": [
    "# import threading\n",
    "# class Model():\n",
    "#     def __init__(self, app, ctrl, interval=0.1):\n",
    "#         self.mv = app.getMainValues()  # prepopulate\n",
    "#         self.advv = app.getadvv()\n",
    "#         self.time = get_time()\n",
    "#         self.lock = threading.RLock()\n",
    "#         self.running = threading.Event()\n",
    "#         self.thread = None\n",
    "#         self.app = app\n",
    "#         self.interval = interval\n",
    "#         self.ctrl = ctrl\n",
    "#     def getvalues(self):\n",
    "#         with self.lock:\n",
    "#             pv = self.mv[self.ctrl]['pv']\n",
    "#             op = self.advv['O2 Flow (%)']\n",
    "#             op2 = self.advv[\"N2 Flow (%)\"]\n",
    "#             t = self.time\n",
    "#         return t, pv, op, op2\n",
    "#     def getMainValues(self):\n",
    "#         return self.mv\n",
    "#     def run_update(self):\n",
    "#         self.running.set()\n",
    "#         self.thread = threading.Thread(None, self._run_update, daemon=True)\n",
    "#         self.thread.start()\n",
    "#     def reconnect(self):\n",
    "#         try:\n",
    "#             self.app.reconnect()\n",
    "#         except Exception:\n",
    "#             pass\n",
    "#     def _run_update(self):\n",
    "#         while self.running.is_set():\n",
    "#             self.time = get_time()\n",
    "#             try:\n",
    "#                 mv = self.app.getMainValues()\n",
    "#             except Exception:\n",
    "#                 self.reconnect()\n",
    "#             else:\n",
    "#                 with self.lock:\n",
    "#                     self.mv = mv\n",
    "#             try:\n",
    "#                 adv = self.app.getadvv()\n",
    "#             except Exception:\n",
    "#                 self.reconnect()\n",
    "#             else:\n",
    "#                 with self.lock:\n",
    "#                     self.advv = adv\n",
    "                \n",
    "#             sleep(self.interval)\n",
    "#     def stop(self):\n",
    "#         self.running.clear()\n",
    "#         self.thread.join(timeout=10)\n",
    "#         if self.thread.is_alive():\n",
    "#             raise RuntimeError(\"Failed to stop thread\")\n",
    "#     def reset(self):\n",
    "#         self.time = get_time()\n",
    "#         self.stop()\n",
    "#         self.run_update()\n",
    "\n",
    "# h = HelloApp(ip)\n",
    "# m = Model(h, controller, 0.5)\n",
    "# m.run_update()\n",
    "# yk = m.getvalues()[1]\n",
    "# def filter_(pv):\n",
    "#     global yk\n",
    "#     yk += (pv - yk) / 4\n",
    "#     return yk\n",
    "    \n",
    "# def update():\n",
    "#     t, pv, op, op2 = m.getvalues()\n",
    "#     #pv2 = filter_(pv)\n",
    "#     p.add_xy(t, pv, op, op2)\n",
    "#     update_labels(pv, op, op2)"
   ]
  },
  {
   "cell_type": "code",
   "execution_count": 173,
   "metadata": {
    "collapsed": false
   },
   "outputs": [],
   "source": [
    "import threading\n",
    "class Model():\n",
    "    def __init__(self, app, ctrl, interval=0.1):\n",
    "        self.mv = app.getMainValues()  # prepopulate\n",
    "        self.time = get_time()\n",
    "        self.lock = threading.RLock()\n",
    "        self.running = threading.Event()\n",
    "        self.thread = None\n",
    "        self.app = app\n",
    "        self.interval = interval\n",
    "        self.ctrl = ctrl\n",
    "    def getvalues(self):\n",
    "        with self.lock:\n",
    "            pv = self.mv[self.ctrl]['pv']\n",
    "            op = self.mv[self.ctrl]['outputUp']\n",
    "            op2 = self.mv[self.ctrl]['outputDown']\n",
    "            op3 = 100 - (self.mv['ph']['outputDown'] + op + op2)\n",
    "            t = self.time\n",
    "        return t, pv, op, op2, op3\n",
    "    def getMainValues(self):\n",
    "        return self.mv\n",
    "    def run_update(self):\n",
    "        self.running.set()\n",
    "        self.thread = threading.Thread(None, self._run_update, daemon=True)\n",
    "        self.thread.start()\n",
    "    def _run_update(self):\n",
    "        while self.running.is_set():\n",
    "            try:\n",
    "                mv = self.app.getMainValues()\n",
    "            except Exception:\n",
    "                self.app.reconnect()\n",
    "            else:\n",
    "                with self.lock:\n",
    "                    self.mv = mv\n",
    "                    self.time = get_time()\n",
    "            sleep(self.interval)\n",
    "    def stop(self):\n",
    "        self.running.clear()\n",
    "        self.thread.join(timeout=10)\n",
    "        if self.thread.is_alive():\n",
    "            raise RuntimeError(\"Failed to stop thread\")\n",
    "    def reset(self):\n",
    "        self.time = get_time()\n",
    "        self.stop()\n",
    "        self.run_update()\n",
    "\n",
    "h = HelloApp(ip, timeout=1, retry_count=1)\n",
    "m = Model(h, controller, 0.5)\n",
    "m.run_update()\n",
    "yk = m.getvalues()[1]\n",
    "def filter_(pv):\n",
    "    global yk\n",
    "    yk += (pv - yk) / 4\n",
    "    return yk\n",
    "    \n",
    "def update():\n",
    "    t, pv, *ops = m.getvalues()\n",
    "    #pv2 = filter_(pv)\n",
    "    p.add_xy(t, pv, *ops)\n",
    "    update_labels(pv, *ops)"
   ]
  },
  {
   "cell_type": "code",
   "execution_count": 174,
   "metadata": {
    "collapsed": true
   },
   "outputs": [],
   "source": [
    "def printdir(o):\n",
    "    for a in dir(o):\n",
    "        if not a.startswith(\"_\"):\n",
    "            print(a, getattr(o, a))"
   ]
  },
  {
   "cell_type": "code",
   "execution_count": 175,
   "metadata": {
    "collapsed": true
   },
   "outputs": [],
   "source": [
    "def conf2(ev):\n",
    "    if ev.widget == root:\n",
    "        other_height = sum(w.winfo_height() for w in (clbl, cbox, cout))\n",
    "        p.tkcanvas.config(height=ev.height-other_height, width=ev.width-rbtn.winfo_width())"
   ]
  },
  {
   "cell_type": "code",
   "execution_count": 176,
   "metadata": {
    "collapsed": false
   },
   "outputs": [
    {
     "data": {
      "text/plain": [
       "3600"
      ]
     },
     "execution_count": 176,
     "metadata": {},
     "output_type": "execute_result"
    }
   ],
   "source": [
    "root = tk.Tk()\n",
    "root.withdraw()\n",
    "\n",
    "p = MyPlotWidget(root, max_pts=max_pts)\n",
    "p.tkcanvas.config(height=400, width=600)\n",
    "max_pts\n"
   ]
  },
  {
   "cell_type": "code",
   "execution_count": 177,
   "metadata": {
    "collapsed": false
   },
   "outputs": [],
   "source": [
    "class ILabel(tk.Label):\n",
    "    def __init__(self, master, name, value=0, fmt=\"%.2f\"):\n",
    "        super().__init__(master)\n",
    "        self.fmt = fmt\n",
    "        self.name = name\n",
    "        self.set_value(value)\n",
    "        \n",
    "    def set_value(self, val):\n",
    "        val = self.fmt % val\n",
    "        self.config(text=\"%s: %s\" % (self.name, val))\n",
    "   \n",
    "labels = OrderedDict()\n",
    "def mk_label(name, val, row):\n",
    "    l = ILabel(root, name, val)\n",
    "    labels[name] = l\n",
    "    l.grid(row=row, column=2)\n",
    "    \n",
    "mk_label(\"PV\", 0, 1)\n",
    "mk_label(\"O2\", 0, 2)\n",
    "mk_label(\"N2\", 0, 3)\n",
    "mk_label(\"Air\", 0, 4)\n",
    "p.legend(\"PV\", \"O2\", \"N2\", \"Air\")\n",
    "        \n",
    "def update_labels(*args):\n",
    "    for a, l in zip(args, labels.values()):\n",
    "        l.set_value(a)\n",
    "\n",
    "    "
   ]
  },
  {
   "cell_type": "code",
   "execution_count": 178,
   "metadata": {
    "collapsed": false
   },
   "outputs": [
    {
     "name": "stdout",
     "output_type": "stream",
     "text": [
      "bob\n",
      "foo\n",
      "\"print('bob'); sleep(5); print('foo')\": None\n"
     ]
    }
   ],
   "source": [
    "p.grid(rowspan=20, column=0, row=0, columnspan=2)    \n",
    "def reset():\n",
    "    p.reset()\n",
    "    global get_time\n",
    "    get_time = timer().__next__\n",
    "    m.reset()\n",
    "rbtn = tk.Button(root, text=\"Reset\", command=reset)\n",
    "rbtn.grid(column=2, row=0, sticky=\"ew\")\n",
    "root.bind(\"<Configure>\", conf2)\n",
    "p.set_xaxis_text(\"Time (s)\")\n",
    "p.set_yaxis_text(\"%s PV\" % controller.title())\n",
    "\n",
    "clbl = tk.Label(root, text=\"Console:\")\n",
    "clbl.grid(row=21, column=0, sticky=tk.W)\n",
    "cbox = tk.Entry(root)\n",
    "cbox.grid(row=22, column=0, sticky=(tk.E, tk.W), columnspan=2)\n",
    "cout = tk.Label(root)\n",
    "cout.grid(row=23, column=0, sticky=(tk.E, tk.W), columnspan=2)\n",
    "\n",
    "def exc_cmd(_):\n",
    "    cmd = cbox.get()\n",
    "    res = nores = object()\n",
    "    err1 = None\n",
    "    if cmd:\n",
    "        try:\n",
    "            try:\n",
    "                res = eval(cmd, globals(), globals())\n",
    "            except SyntaxError as e:\n",
    "                err1 = e\n",
    "            if err1:\n",
    "                try:\n",
    "                    exec(cmd, globals(), globals())\n",
    "                except SyntaxError:\n",
    "                    raise err1 from None\n",
    "        except Exception:\n",
    "            import traceback, io\n",
    "            f = io.StringIO()\n",
    "            traceback.print_exc(file=f)\n",
    "            #print(f.getvalue())\n",
    "            cout.config(text=f.getvalue())\n",
    "        else:\n",
    "            if res is not nores:\n",
    "                msg = repr(cmd) + \": \" + repr(res)\n",
    "                print(msg)\n",
    "                cout.config(text=msg)\n",
    "            else:\n",
    "                cout.config(text=\"\")\n",
    "        finally:\n",
    "            cbox.delete(0, tk.END)\n",
    "            \n",
    "def exc_cmd2(_):\n",
    "    cmd = cbox.get()\n",
    "    exc_cmd_thread(cmd)\n",
    "            \n",
    "def exc_cmd_thread(cmd):\n",
    "    res = None\n",
    "    nores = object()\n",
    "    def exc():\n",
    "        nonlocal res\n",
    "        err1 = None\n",
    "        try:\n",
    "            res = eval(cmd, globals(), globals())\n",
    "        except SyntaxError as e:\n",
    "            err1 = e\n",
    "        except Exception:\n",
    "            import traceback, io\n",
    "            f = StringIO()\n",
    "            traceback.print_exc(file=f)\n",
    "            res = f.getvalue()\n",
    "            return\n",
    "        if err1:\n",
    "            try:\n",
    "                exec(cmd, globals(), globals())\n",
    "            except SyntaxError:\n",
    "                res = err1\n",
    "    def done():\n",
    "        if res is not nores:\n",
    "            msg = repr(cmd) + \": \" + repr(res)\n",
    "            print(msg)\n",
    "            cout.config(text=msg)\n",
    "        else:\n",
    "            cout.config(text=\"\")\n",
    "    def func():\n",
    "        cbox.config(state='disabled')\n",
    "        try:\n",
    "            exc()\n",
    "        finally:\n",
    "            done()\n",
    "        cbox.config(state='normal')\n",
    "        cbox.delete(0, tk.END)\n",
    "    threading.Thread(None, func, daemon=True).start()\n",
    "        \n",
    "            \n",
    "        \n",
    "cbox.bind(\"<Return>\", exc_cmd2)\n",
    "\n",
    "def on_closing():\n",
    "    from tkinter import messagebox\n",
    "    if messagebox.askokcancel(\"Quit\", \"Do you want to quit?\"):\n",
    "        global g_stop_tasks, g_after\n",
    "        g_stop_tasks = True\n",
    "        root.after_cancel(g_after)\n",
    "        root.quit()\n",
    "        root.destroy()\n",
    "\n",
    "root.protocol(\"WM_DELETE_WINDOW\", on_closing)\n",
    "root.wm_deiconify()\n",
    "tk_task(root, interval, update)\n",
    "try:\n",
    "    root.mainloop()\n",
    "finally:\n",
    "    m.stop()\n"
   ]
  },
  {
   "cell_type": "code",
   "execution_count": null,
   "metadata": {
    "collapsed": true
   },
   "outputs": [],
   "source": []
  },
  {
   "cell_type": "code",
   "execution_count": 179,
   "metadata": {
    "collapsed": false
   },
   "outputs": [],
   "source": [
    "# import matplotlib.pyplot as plt\n",
    "# import numpy as np\n",
    "# np.random.seed(123456789)   # repeatable results\n",
    "# f0 = 4\n",
    "# t = np.arange(0,1.0,1.0/65536)\n",
    "# mysignal = (np.mod(f0*t,1) < 0.5)*2.0-1\n",
    "# mynoise = 1.0*np.random.randn(*mysignal.shape)\n",
    "# plt.figure(figsize=(8,6))\n",
    "# plt.plot(t, mysignal+mynoise, 'gray',\n",
    "#          t, mysignal,         'black');\n",
    "# delta_t = t[1]-t[0]"
   ]
  },
  {
   "cell_type": "code",
   "execution_count": 180,
   "metadata": {
    "collapsed": false
   },
   "outputs": [],
   "source": [
    "# mynoise2 = 0.1*np.random.randn(*mysignal.shape)\n",
    "# alpha=delta_t/0.0005\n",
    "# alpha=1/4\n",
    "# def lpf(y, alpha):\n",
    "#     y2 = np.zeros_like(y)\n",
    "#     yk = y[0]\n",
    "#     for i in range(len(y)):\n",
    "#         yk += alpha * (y[i] - yk)\n",
    "#         y2[i] = yk\n",
    "#     return y2\n",
    "# lpf_out2 = lpf(mysignal+mynoise2, alpha=alpha)\n",
    "# fig=plt.figure(figsize=(8,10))\n",
    "# ax=fig.add_subplot(3,1,1)\n",
    "# ax.plot(t,mysignal+mynoise2,t,mysignal)\n",
    "# ax.set_ylabel('original signal')\n",
    "# ax2=fig.add_subplot(3,1,2)\n",
    "# ax2.plot(t,lpf_out2)\n",
    "# ax2.set_ylabel('lpf output')\n",
    "# #ax3=fig.add_subplot(3,1,3)\n",
    "# #ax3.plot(t,lpf_out2)\n",
    "# #ax3.set_ylim(-1.05,-0.95)\n",
    "# #ax3.set_ylabel('lpf output, zoom')"
   ]
  },
  {
   "cell_type": "code",
   "execution_count": null,
   "metadata": {
    "collapsed": true
   },
   "outputs": [],
   "source": []
  },
  {
   "cell_type": "code",
   "execution_count": null,
   "metadata": {
    "collapsed": true
   },
   "outputs": [],
   "source": []
  }
 ],
 "metadata": {
  "kernelspec": {
   "display_name": "Python 3",
   "language": "python",
   "name": "python3"
  },
  "language_info": {
   "codemirror_mode": {
    "name": "ipython",
    "version": 3
   },
   "file_extension": ".py",
   "mimetype": "text/x-python",
   "name": "python",
   "nbconvert_exporter": "python",
   "pygments_lexer": "ipython3",
   "version": "3.5.2"
  }
 },
 "nbformat": 4,
 "nbformat_minor": 0
}
