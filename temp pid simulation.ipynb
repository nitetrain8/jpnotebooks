{
 "cells": [
  {
   "cell_type": "code",
   "execution_count": 100,
   "metadata": {
    "collapsed": false
   },
   "outputs": [],
   "source": [
    "class PIDController():\n",
    "\n",
    "    AUTO_MODE = 1\n",
    "    OFF_MODE = 0\n",
    "\n",
    "    def __init__(self, pgain=1, itime=1, dtime=0, auto_max=100,\n",
    "                 auto_min=0, do_ifactor=False, anti_windup_backcalc=True):\n",
    "\n",
    "        self.auto_min = auto_min\n",
    "        self.auto_max = auto_max\n",
    "        self.pgain = pgain\n",
    "        self.itime = itime\n",
    "        if self.itime:\n",
    "            self.oneoveritime = 1 / self.itime\n",
    "        else:\n",
    "            self.oneoveritime = 0\n",
    "        self.dtime = dtime\n",
    "        self.dif = do_ifactor\n",
    "        self.awb = anti_windup_backcalc\n",
    "\n",
    "        self.accumulated_error = 0\n",
    "        self.bump = 0\n",
    "        self.last_output = 0\n",
    "        self.last_error = 0\n",
    "        self.last_pv = 0\n",
    "\n",
    "    def off_to_auto(self, pv, sp):\n",
    "        \"\"\"\n",
    "        Calculate bump for off-to-auto transfer\n",
    "        :param pv: current process temp to use for bumpless xfer calculation\n",
    "        \"\"\"\n",
    "        self.man_to_auto(pv, sp, 0)\n",
    "\n",
    "    def man_to_auto(self, pv, sp, op):\n",
    "        err = sp - pv\n",
    "        uk0 = self.pgain * err\n",
    "        self.bump = op - uk0\n",
    "        \n",
    "    set_bump = man_to_auto\n",
    "\n",
    "    def reset(self):\n",
    "        self.accumulated_error = 0\n",
    "        self.last_pv = 0\n",
    "        self.last_error = 0        \n",
    "    \n",
    "    def step(self, pv, sp, dt=1):\n",
    "        err = sp - pv\n",
    "        dpv = pv - self.last_pv\n",
    "        ierr = (err + self.last_error) / 2 * dt\n",
    "        \n",
    "        if self.dif:\n",
    "            ierr *= 1 / (1 + err * err / 250)  # Labview's ifactor thingy\n",
    "        \n",
    "        # bump (aka controller bias) isn't normally\n",
    "        # included in Up, but no one else reads my \n",
    "        # code :)\n",
    "        Up = self.bump + self.pgain * err\n",
    "        Ui = self.oneoveritime * (ierr + self.accumulated_error) * self.pgain\n",
    "        Ud = self.dtime * dpv * self.pgain\n",
    "        Uk = Up + Ui + Ud\n",
    "        \n",
    "        # XXX debugging\n",
    "        self.Ui = Ui * self.pgain\n",
    "        self.Uk = Uk\n",
    "        self.Ud = Ud * self.pgain\n",
    "        self.Up = Up\n",
    "        \n",
    "        # Coercion & back calculation      \n",
    "        back_calc = False\n",
    "        if Uk > self.auto_max:\n",
    "            Uk = self.auto_max\n",
    "            back_calc = True\n",
    "            am = self.auto_max\n",
    "        elif Uk < self.auto_min:\n",
    "            Uk = self.auto_min\n",
    "            back_calc = True\n",
    "            am = self.auto_min\n",
    "            \n",
    "        if back_calc and self.awb:\n",
    "            ierr = self.itime / self.pgain * (am - Up - Ud) - self.accumulated_error\n",
    "            \n",
    "        self.accumulated_error += ierr\n",
    "        self.last_output = Uk\n",
    "        self.last_pv = pv\n",
    "        self.last_error = err\n",
    "        self.last_ierr = ierr\n",
    "        \n",
    "        return Uk\n",
    "\n",
    "    def __repr__(self):\n",
    "        return \"Output: %.2f Pgain: %.1f Itime: %.2f AccumError: %.4f\" % (self.last_output,\n",
    "                                                                          self.pgain,\n",
    "                                                                          self.itime,\n",
    "                                                                          self.accumulated_error)\n",
    "    __str__ = __repr__\n",
    "    "
   ]
  },
  {
   "cell_type": "code",
   "execution_count": 2,
   "metadata": {
    "collapsed": false
   },
   "outputs": [],
   "source": [
    "def assert_equal(a,b):\n",
    "    assert a == b, (a, b)\n",
    "def test_trap_integration1():\n",
    "    data = [\n",
    "        (0, 1, .5),\n",
    "        (0, 2, 2),\n",
    "        (0, 3, 4.5)\n",
    "    ]\n",
    "    p = PIDController(1,1)\n",
    "    for pv, sp, op in data:\n",
    "        p.off_to_auto(pv, sp)\n",
    "        res_op = p.step(pv, sp)\n",
    "        assert_equal(p.last_error, sp)\n",
    "        assert_equal(p.accumulated_error, op)\n",
    "        assert_equal(res_op, op)\n",
    "test_trap_integration1()\n",
    "\n",
    "def check_Ui_backcalc(it, pg, Up, Ud, ierr, accum, val):\n",
    "    Ui2 = it * (ierr + accum) * pg\n",
    "    Uk2 = Up + Ud + Ui\n",
    "    Uk2 = round(Uk2, 8)\n",
    "    am = round(val, 8)\n",
    "    assert Uk2 == am, (Up, Ud, Ui, Uk2, val)"
   ]
  },
  {
   "cell_type": "code",
   "execution_count": null,
   "metadata": {
    "collapsed": true
   },
   "outputs": [],
   "source": []
  },
  {
   "cell_type": "code",
   "execution_count": null,
   "metadata": {
    "collapsed": true
   },
   "outputs": [],
   "source": []
  },
  {
   "cell_type": "code",
   "execution_count": 3,
   "metadata": {
    "collapsed": true
   },
   "outputs": [],
   "source": [
    "def m2s(m):\n",
    "    return m*60\n",
    "def s2m(s):\n",
    "    return s/60\n",
    "def h2s(h):\n",
    "    return m2s(h*60)"
   ]
  },
  {
   "cell_type": "code",
   "execution_count": 4,
   "metadata": {
    "collapsed": true
   },
   "outputs": [],
   "source": [
    "from types import FunctionType, MethodType\n",
    "def printdir(o):\n",
    "    for a in dir(o):\n",
    "        if not a.startswith(\"__\"):\n",
    "            v = getattr(o, a)\n",
    "            if not isinstance(v, (FunctionType, MethodType)):\n",
    "                print(a, v)"
   ]
  },
  {
   "cell_type": "code",
   "execution_count": 5,
   "metadata": {
    "collapsed": false
   },
   "outputs": [],
   "source": [
    "from collections import deque\n",
    "class DelayBuffer(deque):\n",
    "    def __init__(self, delay=30, startvalue=0):\n",
    "        delay = int(delay)\n",
    "        self.delay = delay\n",
    "        super().__init__(startvalue for _ in range(delay + 1))\n",
    "\n",
    "    def cycle(self, hd):\n",
    "        self[0] = hd\n",
    "        self.rotate(1)\n",
    "        return self[0]"
   ]
  },
  {
   "cell_type": "code",
   "execution_count": 6,
   "metadata": {
    "collapsed": true
   },
   "outputs": [],
   "source": [
    "from officelib.xllib import *\n",
    "xl = Excel()\n",
    "\n",
    "wb = xl.ActiveWorkbook\n",
    "wb = wb or xl.Workbooks.Add()\n",
    "\n",
    "ws = xl.ActiveSheet\n",
    "ws = ws or wb.Worksheets.Add()\n",
    "\n",
    "cells = ws.Cells\n",
    "cell_range = ws.Cells.Range"
   ]
  },
  {
   "cell_type": "code",
   "execution_count": 7,
   "metadata": {
    "collapsed": false
   },
   "outputs": [],
   "source": [
    "\n",
    "class TempProcess():\n",
    "    def __init__(self, delay, initial=20, env=18.5, g=0.0019254, k=-0.001579031):\n",
    "        \"\"\"\n",
    "        :param g: gain in units of C/min/%\n",
    "        :param k: decay rate in units of C/min/dT\n",
    "        \"\"\"\n",
    "        self.tdelay = DelayBuffer(delay, initial).cycle\n",
    "        self.g = g / 60\n",
    "        self.k = k / 60\n",
    "        self.env = env\n",
    "        \n",
    "    def step(self, pv, op):\n",
    "        op = self.tdelay(op)\n",
    "        dT = pv - self.env\n",
    "        decay = self.k * dT\n",
    "        gain = self.g * op\n",
    "        dpv = decay + gain\n",
    "        return pv + dpv"
   ]
  },
  {
   "cell_type": "code",
   "execution_count": 54,
   "metadata": {
    "collapsed": true
   },
   "outputs": [],
   "source": [
    "def temp_sim(p, i, d, delay, amax, amin, end, op=0, pv=20, sp=37, \n",
    "             g=0.0019254, k=-0.001579031, mode='m2a'):\n",
    "    pid = PIDController(p,m2s(i),d,amax,amin, do_ifactor=True)\n",
    "    if mode == 'm2a':\n",
    "        pid.man_to_auto(pv, sp, op)\n",
    "    else:\n",
    "        pid.man_to_auto(pv, pv, op)\n",
    "    proc = TempProcess(delay, op, g=g, k=k)\n",
    "    t = 0\n",
    "    data = [(t, pv, op)]\n",
    "    while True:\n",
    "        t += 1\n",
    "        op = pid.step(pv, sp)\n",
    "        pv = proc.step(pv, op)\n",
    "        data.append((t, pv, op))\n",
    "        if t >= end:\n",
    "            break\n",
    "    return data\n",
    "    "
   ]
  },
  {
   "cell_type": "code",
   "execution_count": 77,
   "metadata": {
    "collapsed": false
   },
   "outputs": [],
   "source": [
    "def paste(cells, data, offset=0):\n",
    "    cells.Range(cells(1,1+offset), cells(1, 3+offset)).Value = [(\"T\", \"PV\", \"OP\")]\n",
    "    topleft = cells(2,1+offset)\n",
    "    bottomright = topleft.Offset(len(data), len(data[0]))\n",
    "    cells.Range(topleft, bottomright).Clear()\n",
    "    cells.Range(topleft, bottomright).Value = data\n",
    "    \n",
    "def clear(cells, data, offset=0):\n",
    "    topleft = cells(2,1+offset)\n",
    "    bottomright = topleft.Offset(len(data), len(data[0]))\n",
    "    cells.Range(topleft, bottomright).Clear()"
   ]
  },
  {
   "cell_type": "code",
   "execution_count": 176,
   "metadata": {
    "collapsed": true
   },
   "outputs": [],
   "source": [
    "offset = 0\n",
    "p = 60\n",
    "i = 35"
   ]
  },
  {
   "cell_type": "code",
   "execution_count": 168,
   "metadata": {
    "collapsed": false
   },
   "outputs": [],
   "source": [
    "clear(cells, data, 0)\n",
    "data = temp_sim(p=p, i=i, d=0, delay=m2s(4.7), \n",
    "                amax=100, amin=0, end=m2s(600), op=0, \n",
    "                pv=23, sp=37, g=0.0019254*50/80, k=-0.001579031*50/80, mode='a2a')\n",
    "paste(cells, data, 0)"
   ]
  },
  {
   "cell_type": "code",
   "execution_count": 169,
   "metadata": {
    "collapsed": true
   },
   "outputs": [],
   "source": [
    "clear(cells, data, 0)\n",
    "data = temp_sim(p=p, i=i, d=0, delay=m2s(4.7), \n",
    "                amax=100, amin=0, end=m2s(600), op=0, \n",
    "                pv=23, sp=37)\n",
    "paste(cells, data)"
   ]
  },
  {
   "cell_type": "code",
   "execution_count": 177,
   "metadata": {
    "collapsed": true
   },
   "outputs": [],
   "source": [
    "clear(cells, data, 0)\n",
    "data = temp_sim(p=p, i=i, d=0, delay=m2s(4.7), \n",
    "                amax=100, amin=0, end=m2s(300), op=15, \n",
    "                pv=38, sp=39, mode='a2a')\n",
    "paste(cells, data)"
   ]
  },
  {
   "cell_type": "code",
   "execution_count": 124,
   "metadata": {
    "collapsed": false
   },
   "outputs": [
    {
     "name": "stdout",
     "output_type": "stream",
     "text": [
      "10/12/17 3:16:45\n",
      "1484254382.720792\n"
     ]
    }
   ],
   "source": [
    "print(\"10/12/17 3:16:45\")\n",
    "print(\"1484254382.720792\")"
   ]
  },
  {
   "cell_type": "code",
   "execution_count": 126,
   "metadata": {
    "collapsed": false
   },
   "outputs": [
    {
     "data": {
      "text/plain": [
       "'01/12/17 13:52:09'"
      ]
     },
     "execution_count": 126,
     "metadata": {},
     "output_type": "execute_result"
    }
   ],
   "source": [
    "import datetime\n",
    "d = datetime.datetime.now()\n",
    "d.strftime(\"%m/%d/%y %H:%M:%S\")"
   ]
  },
  {
   "cell_type": "code",
   "execution_count": null,
   "metadata": {
    "collapsed": true
   },
   "outputs": [],
   "source": []
  }
 ],
 "metadata": {
  "kernelspec": {
   "display_name": "Python 3",
   "language": "python",
   "name": "python3"
  },
  "language_info": {
   "codemirror_mode": {
    "name": "ipython",
    "version": 3
   },
   "file_extension": ".py",
   "mimetype": "text/x-python",
   "name": "python",
   "nbconvert_exporter": "python",
   "pygments_lexer": "ipython3",
   "version": "3.5.2"
  }
 },
 "nbformat": 4,
 "nbformat_minor": 1
}
