{
 "cells": [
  {
   "cell_type": "code",
   "execution_count": 26,
   "metadata": {
    "collapsed": false
   },
   "outputs": [],
   "source": [
    "class PIDController():\n",
    "\n",
    "    AUTO_MODE = 1\n",
    "    OFF_MODE = 0\n",
    "\n",
    "    def __init__(self, pgain=1, itime=1, dtime=0, auto_max=100,\n",
    "                 auto_min=0, do_ifactor=False, anti_windup_backcalc=True):\n",
    "\n",
    "        self.auto_min = auto_min\n",
    "        self.auto_max = auto_max\n",
    "        self.pgain = pgain\n",
    "        self.itime = itime\n",
    "        if self.itime:\n",
    "            self.oneoveritime = 1 / self.itime\n",
    "        else:\n",
    "            self.oneoveritime = 0\n",
    "        self.dtime = dtime\n",
    "        self.dif = do_ifactor\n",
    "        self.awb = anti_windup_backcalc\n",
    "\n",
    "        self.accumulated_error = 0\n",
    "        self.bump = 0\n",
    "        self.last_output = 0\n",
    "        self.last_error = 0\n",
    "        self.last_pv = 0\n",
    "\n",
    "    def off_to_auto(self, pv, sp):\n",
    "        \"\"\"\n",
    "        Calculate bump for off-to-auto transfer\n",
    "        :param pv: current process temp to use for bumpless xfer calculation\n",
    "        \"\"\"\n",
    "        self.man_to_auto(pv, sp, 0)\n",
    "\n",
    "    def man_to_auto(self, pv, sp, op):\n",
    "        err = sp - pv\n",
    "        uk0 = self.pgain * err\n",
    "        self.bump = op - uk0\n",
    "        \n",
    "    set_bump = man_to_auto\n",
    "\n",
    "    def reset(self):\n",
    "        self.accumulated_error = 0\n",
    "        self.last_pv = 0\n",
    "        self.last_error = 0        \n",
    "    \n",
    "    def step(self, pv, sp, dt=1):\n",
    "        err = sp - pv\n",
    "        dpv = pv - self.last_pv\n",
    "        ierr = (err + self.last_error) / 2 * dt\n",
    "        \n",
    "        if self.dif:\n",
    "            ierr *= 1 / (1 + err * err / 250)  # Labview's ifactor thingy\n",
    "        \n",
    "        # bump (aka controller bias) isn't normally\n",
    "        # included in Up, but no one else reads my \n",
    "        # code :)\n",
    "        Up = self.bump + self.pgain * err\n",
    "        Ui = self.oneoveritime * (ierr + self.accumulated_error) * self.pgain\n",
    "        Ud = self.dtime * dpv * self.pgain\n",
    "        Uk = Up + Ui + Ud\n",
    "        \n",
    "        # XXX debugging\n",
    "        self.Ui = Ui * self.pgain\n",
    "        self.Uk = Uk\n",
    "        self.Ud = Ud * self.pgain\n",
    "        self.Up = Up\n",
    "        \n",
    "        # Coercion & back calculation      \n",
    "        back_calc = False\n",
    "        if Uk > self.auto_max:\n",
    "            Uk = self.auto_max\n",
    "            back_calc = True\n",
    "            am = self.auto_max\n",
    "        elif Uk < self.auto_min:\n",
    "            Uk = self.auto_min\n",
    "            back_calc = True\n",
    "            am = self.auto_min\n",
    "            \n",
    "        if back_calc and self.awb:\n",
    "            ierr = self.itime / self.pgain * (am - Up - Ud) - self.accumulated_error\n",
    "            \n",
    "        self.accumulated_error += ierr\n",
    "        self.last_output = Uk\n",
    "        self.last_pv = pv\n",
    "        self.last_error = err\n",
    "        self.last_ierr = ierr\n",
    "        \n",
    "        return Uk\n",
    "\n",
    "    def __repr__(self):\n",
    "        return \"Output: %.2f Pgain: %.1f Itime: %.2f AccumError: %.4f\" % (self.last_output,\n",
    "                                                                          self.pgain,\n",
    "                                                                          self.itime,\n",
    "                                                                          self.accumulated_error)\n",
    "    __str__ = __repr__\n",
    "    "
   ]
  },
  {
   "cell_type": "code",
   "execution_count": 27,
   "metadata": {
    "collapsed": false
   },
   "outputs": [],
   "source": [
    "def assert_equal(a,b):\n",
    "    assert a == b, (a, b)\n",
    "def test_trap_integration1():\n",
    "    data = [\n",
    "        (0, 1, .5),\n",
    "        (0, 2, 2),\n",
    "        (0, 3, 4.5)\n",
    "    ]\n",
    "    p = PIDController(1,1)\n",
    "    for pv, sp, op in data:\n",
    "        p.off_to_auto(pv, sp)\n",
    "        res_op = p.step(pv, sp)\n",
    "        assert_equal(p.last_error, sp)\n",
    "        assert_equal(p.accumulated_error, op)\n",
    "        assert_equal(res_op, op)\n",
    "test_trap_integration1()\n",
    "\n",
    "def check_Ui_backcalc(it, pg, Up, Ud, ierr, accum, val):\n",
    "    Ui2 = it * (ierr + accum) * pg\n",
    "    Uk2 = Up + Ud + Ui\n",
    "    Uk2 = round(Uk2, 8)\n",
    "    am = round(val, 8)\n",
    "    assert Uk2 == am, (Up, Ud, Ui, Uk2, val)"
   ]
  },
  {
   "cell_type": "code",
   "execution_count": 28,
   "metadata": {
    "collapsed": true
   },
   "outputs": [],
   "source": [
    "def m2s(m):\n",
    "    return m*60\n",
    "def s2m(s):\n",
    "    return s/60\n",
    "def h2s(h):\n",
    "    return m2s(h*60)"
   ]
  },
  {
   "cell_type": "code",
   "execution_count": 29,
   "metadata": {
    "collapsed": true
   },
   "outputs": [],
   "source": [
    "from types import FunctionType, MethodType\n",
    "def printdir(o):\n",
    "    for a in dir(o):\n",
    "        if not a.startswith(\"__\"):\n",
    "            v = getattr(o, a)\n",
    "            if not isinstance(v, (FunctionType, MethodType)):\n",
    "                print(a, v)"
   ]
  },
  {
   "cell_type": "code",
   "execution_count": 30,
   "metadata": {
    "collapsed": false
   },
   "outputs": [],
   "source": [
    "from collections import deque\n",
    "class DelayBuffer(deque):\n",
    "    def __init__(self, delay=30, startvalue=0):\n",
    "        delay = int(delay)\n",
    "        self.delay = delay\n",
    "        super().__init__(startvalue for _ in range(delay + 1))\n",
    "\n",
    "    def cycle(self, hd):\n",
    "        self[0] = hd\n",
    "        self.rotate(1)\n",
    "        return self[0]"
   ]
  },
  {
   "cell_type": "code",
   "execution_count": 31,
   "metadata": {
    "collapsed": true
   },
   "outputs": [],
   "source": [
    "from officelib.xllib import *\n",
    "xl = Excel()\n",
    "\n",
    "wb = xl.ActiveWorkbook\n",
    "wb = wb or xl.Workbooks.Add()\n",
    "\n",
    "ws = xl.ActiveSheet\n",
    "ws = ws or wb.Worksheets.Add()\n",
    "\n",
    "cells = ws.Cells\n",
    "cell_range = ws.Cells.Range"
   ]
  },
  {
   "cell_type": "code",
   "execution_count": 32,
   "metadata": {
    "collapsed": false
   },
   "outputs": [],
   "source": [
    "\n",
    "class TempProcess():\n",
    "    def __init__(self, delay, initial=20, env=18.5, g=0.0019254, k=-0.001579031):\n",
    "        \"\"\"\n",
    "        :param g: gain in units of C/min/%\n",
    "        :param k: decay rate in units of C/min/dT\n",
    "        \"\"\"\n",
    "        self.tdelay = DelayBuffer(delay, initial).cycle\n",
    "        self.g = g / 60\n",
    "        self.k = k / 60\n",
    "        self.env = env\n",
    "        \n",
    "    def step(self, pv, op):\n",
    "        op = self.tdelay(op)\n",
    "        dT = pv - self.env\n",
    "        decay = self.k * dT\n",
    "        gain = self.g * op\n",
    "        dpv = decay + gain\n",
    "        return pv + dpv"
   ]
  },
  {
   "cell_type": "code",
   "execution_count": 33,
   "metadata": {
    "collapsed": true
   },
   "outputs": [],
   "source": [
    "def temp_sim(p, i, d, delay, amax, amin, end, op=0, pv=20, sp=37, \n",
    "             g=0.0019254, k=-0.001579031, mode='m2a'):\n",
    "    pid = PIDController(p,m2s(i),d,amax,amin, do_ifactor=True)\n",
    "    if mode == 'm2a':\n",
    "        pid.man_to_auto(pv, sp, op)\n",
    "    else:\n",
    "        pid.man_to_auto(pv, pv, op)\n",
    "    proc = TempProcess(delay, op, g=g, k=k)\n",
    "    t = 0\n",
    "    data = [(t, pv, op)]\n",
    "    while True:\n",
    "        t += 1\n",
    "        op = pid.step(pv, sp)\n",
    "        pv = proc.step(pv, op)\n",
    "        data.append((t, pv, op))\n",
    "        if t >= end:\n",
    "            break\n",
    "    return data\n",
    "    "
   ]
  },
  {
   "cell_type": "code",
   "execution_count": 41,
   "metadata": {
    "collapsed": false
   },
   "outputs": [],
   "source": [
    "def paste(cells, data, offset=0):\n",
    "    cells.Range(cells(1,1+offset), cells(1, 3+offset)).Value = [(\"T\", \"PV\", \"OP\")]\n",
    "    topleft = cells(2,1+offset)\n",
    "    bottomright = topleft.Offset(len(data), len(data[0]))\n",
    "    cells.Range(topleft, bottomright).Clear()\n",
    "    cells.Range(topleft, bottomright).Value = data\n",
    "    \n",
    "def clear(cells, data, offset=0):\n",
    "    if not data: return\n",
    "    topleft = cells(2,1+offset)\n",
    "    bottomright = topleft.Offset(len(data), len(data[0]))\n",
    "    cells.Range(topleft, bottomright).Clear()"
   ]
  },
  {
   "cell_type": "code",
   "execution_count": 56,
   "metadata": {
    "collapsed": true
   },
   "outputs": [],
   "source": [
    "offset = 0\n",
    "p = 60 / 2\n",
    "i = 35 / 2 \n",
    "data = []"
   ]
  },
  {
   "cell_type": "code",
   "execution_count": 43,
   "metadata": {
    "collapsed": false
   },
   "outputs": [],
   "source": [
    "clear(cells, data, 0)\n",
    "data = temp_sim(p=p, i=i, d=0, delay=m2s(4.7), \n",
    "                amax=100, amin=0, end=m2s(600), op=0, \n",
    "                pv=23, sp=37, g=0.0019254*50/80, k=-0.001579031*50/80, mode='a2a')\n",
    "paste(cells, data, 0)"
   ]
  },
  {
   "cell_type": "code",
   "execution_count": 57,
   "metadata": {
    "collapsed": false
   },
   "outputs": [],
   "source": [
    "clear(cells, data, 0)\n",
    "data = temp_sim(p=p, i=i, d=0, delay=m2s(4.7), \n",
    "                amax=100, amin=0, end=m2s(600), op=0, \n",
    "                pv=23, sp=37)\n",
    "paste(cells, data)"
   ]
  },
  {
   "cell_type": "code",
   "execution_count": 212,
   "metadata": {
    "collapsed": true
   },
   "outputs": [],
   "source": [
    "clear(cells, data, 0)\n",
    "data = temp_sim(p=p, i=i, d=0, delay=m2s(4.7), \n",
    "                amax=100, amin=0, end=m2s(300), op=13.5317397598376, \n",
    "                pv=35.8, sp=37, mode='a2a')\n",
    "paste(cells, data)"
   ]
  },
  {
   "cell_type": "code",
   "execution_count": 209,
   "metadata": {
    "collapsed": false
   },
   "outputs": [
    {
     "name": "stdout",
     "output_type": "stream",
     "text": [
      " Testing with Start=37.0\n",
      "highest 37.350761910615724\n",
      "start 35.8\n"
     ]
    }
   ],
   "source": [
    "n = 0\n",
    "highest = 36\n",
    "highest_n = 0\n",
    "with screen_lock(xl):\n",
    "    while True:\n",
    "        print(\"\\r Testing with Start=%.1f\" % (35+n), end=\"\")\n",
    "        clear(cells, data, 0)\n",
    "        data = temp_sim(p=p, i=i, d=0, delay=m2s(4.7), \n",
    "                        amax=100, amin=0, end=m2s(300), op=13.5317397598376, \n",
    "                        pv=35+n, sp=37, mode='a2a')\n",
    "        paste(cells, data)\n",
    "        v = cells.Range(\"D1\").Value\n",
    "        if v > highest:\n",
    "            highest = v\n",
    "            highest_n = n\n",
    "        if n > 2:\n",
    "            break\n",
    "        n += 0.1\n",
    "print()\n",
    "print(\"highest\", highest)\n",
    "print(\"start\", highest_n+35)"
   ]
  },
  {
   "cell_type": "code",
   "execution_count": 7,
   "metadata": {
    "collapsed": true
   },
   "outputs": [],
   "source": [
    "xl = Excel()\n",
    "wb = xl.RecentFiles(1).Open()"
   ]
  },
  {
   "cell_type": "code",
   "execution_count": 10,
   "metadata": {
    "collapsed": false
   },
   "outputs": [
    {
     "data": {
      "text/plain": [
       "'ManToAuto Start:10.0 SP:8.0'"
      ]
     },
     "execution_count": 10,
     "metadata": {},
     "output_type": "execute_result"
    }
   ],
   "source": [
    "\n",
    "xl.Selection.Value"
   ]
  },
  {
   "cell_type": "code",
   "execution_count": 9,
   "metadata": {
    "collapsed": false
   },
   "outputs": [],
   "source": [
    "ws = wb.Worksheets(\"Sheet1\")"
   ]
  },
  {
   "cell_type": "code",
   "execution_count": 10,
   "metadata": {
    "collapsed": false
   },
   "outputs": [],
   "source": [
    "cells = ws.Cells"
   ]
  },
  {
   "cell_type": "code",
   "execution_count": 25,
   "metadata": {
    "collapsed": false
   },
   "outputs": [
    {
     "name": "stdout",
     "output_type": "stream",
     "text": [
      "ManToAuto Start:10.0 SP:8.0\n",
      "AutoToAuto Start:10.0 SP:8.0\n",
      "ManToMan Start:10.0 SP:8.0\n",
      "OffToAuto Start:0 SP:8.0\n",
      "ManToAuto Start:12.0 SP:10.0\n",
      "AutoToAuto Start:12.0 SP:10.0\n",
      "ManToMan Start:12 SP:10\n",
      "OffToAuto Start:0 SP:10\n",
      "ManToAuto Start:14.0 SP:12.0\n",
      "AutoToAuto Start:14.0 SP:12.0\n",
      "ManToMan Start:14 SP:12\n",
      "OffToAuto Start:0 SP:12\n",
      "ManToAuto Start:8.0 SP:10.0\n",
      "AutoToAuto Start:8.0 SP:10.0\n",
      "ManToAuto Start:8 SP:10\n",
      "OffToAuto Start:0 SP:10\n",
      "ManToAuto Start:10.0 SP:12.0\n",
      "AutoToAuto Start:10.0 SP:12.0\n",
      "ManToMan Start:10 SP:12\n",
      "OffToAuto Start:0 SP:12\n",
      "ManToAuto Start:12.0 SP:14.0\n",
      "AutoToAuto Start:12.0 SP:14.0\n",
      "ManToMan Start:0 SP:12\n",
      "OffToAuto Start:0 SP:14\n"
     ]
    }
   ],
   "source": [
    "first = cells.Range(\"A1\")\n",
    "cell = first\n",
    "ws2 = wb.Worksheets(\"Sheet2\")\n",
    "paste_cell = ws2.Cells.Range(\"B3\")\n",
    "n = 1\n",
    "while True:\n",
    "    v = cell.Value\n",
    "    if not v:\n",
    "        break\n",
    "    name, start, setpoint = v.split()\n",
    "    assert start.startswith(\"Start:\")\n",
    "    _, st = start.split(\":\")\n",
    "    _, sp = setpoint.split(\":\")\n",
    "    assert name in (\"OffToAuto\", \"AutoToAuto\", \"ManToAuto\", \"ManToMan\"), cell.Address\n",
    "    assert setpoint.startswith(\"SP:\"), sp\n",
    "    print(name, start, setpoint)\n",
    "    p = cell.Offset(2, 2).Value\n",
    "    i = cell.Offset(3, 2).Value\n",
    "    d = cell.Offset(4, 2).Value\n",
    "    start_mode, end_mode = name.split(\"To\")\n",
    "    paste_cell.Offset(1, 1).Value = n\n",
    "    paste_cell.Offset(1, 2).Value = p\n",
    "    paste_cell.Offset(1, 3).Value = i\n",
    "    paste_cell.Offset(1, 4).Value = d\n",
    "    paste_cell.Offset(1, 5).Value = start_mode\n",
    "    paste_cell.Offset(1, 6).Value = st\n",
    "    paste_cell.Offset(1, 7).Value = sp\n",
    "    paste_cell.Offset(1, 8).Value = v\n",
    "    paste_cell = paste_cell.Offset(2, 1)\n",
    "    n += 1\n",
    "    cell = cell.Offset(1, 6)"
   ]
  },
  {
   "cell_type": "code",
   "execution_count": null,
   "metadata": {
    "collapsed": true
   },
   "outputs": [],
   "source": []
  }
 ],
 "metadata": {
  "kernelspec": {
   "display_name": "Python 3",
   "language": "python",
   "name": "python3"
  },
  "language_info": {
   "codemirror_mode": {
    "name": "ipython",
    "version": 3
   },
   "file_extension": ".py",
   "mimetype": "text/x-python",
   "name": "python",
   "nbconvert_exporter": "python",
   "pygments_lexer": "ipython3",
   "version": "3.5.2"
  }
 },
 "nbformat": 4,
 "nbformat_minor": 1
}
