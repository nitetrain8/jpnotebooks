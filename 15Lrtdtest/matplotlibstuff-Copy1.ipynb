{
 "cells": [
  {
   "cell_type": "code",
   "execution_count": 1,
   "metadata": {
    "collapsed": false,
    "scrolled": true
   },
   "outputs": [
    {
     "name": "stdout",
     "output_type": "stream",
     "text": [
      "Using matplotlib backend: TkAgg\n"
     ]
    }
   ],
   "source": [
    "%matplotlib"
   ]
  },
  {
   "cell_type": "code",
   "execution_count": 2,
   "metadata": {
    "collapsed": false
   },
   "outputs": [],
   "source": [
    "import tkinter as tk\n",
    "from pysrc.simplertplot.plotwidget import RTPlotWidget\n",
    "from hello.hello3 import HelloApp, TrueError\n",
    "from time import time"
   ]
  },
  {
   "cell_type": "code",
   "execution_count": 3,
   "metadata": {
    "collapsed": true
   },
   "outputs": [],
   "source": [
    "ip = '192.168.1.84'\n",
    "#ip = '71.189.82.196:86'"
   ]
  },
  {
   "cell_type": "code",
   "execution_count": 4,
   "metadata": {
    "collapsed": true
   },
   "outputs": [],
   "source": [
    "root = tk.Tk()\n",
    "root.withdraw()\n",
    "p = RTPlotWidget(root, max_pts=3600)\n",
    "p.tkcanvas.config(height=400, width=600)"
   ]
  },
  {
   "cell_type": "code",
   "execution_count": 5,
   "metadata": {
    "collapsed": false
   },
   "outputs": [],
   "source": [
    "h = HelloApp(ip)\n",
    "h.login()\n",
    "h.getMainValues()\n",
    "pass"
   ]
  },
  {
   "cell_type": "code",
   "execution_count": 6,
   "metadata": {
    "collapsed": true
   },
   "outputs": [],
   "source": [
    "def actual_rate(n2, o2, co2):\n",
    "    _, pc_1, _ = pc(0, o2, co2)\n",
    "    _, pc_2, _ = pc(n2, o2, co2)\n",
    "    ratio = pc_1/pc_2\n",
    "    actual_n2 = n2 * ratio\n",
    "    return actual_n2\n",
    "\n",
    "def pc(a, b, c):\n",
    "    t = a + b + c\n",
    "    return a/t, b/t, c/t"
   ]
  },
  {
   "cell_type": "code",
   "execution_count": 7,
   "metadata": {
    "collapsed": true
   },
   "outputs": [],
   "source": [
    "def timer():\n",
    "    start = time()\n",
    "    while True:\n",
    "        current = time()\n",
    "        yield current - start\n",
    "get_time = timer().__next__"
   ]
  },
  {
   "cell_type": "code",
   "execution_count": 8,
   "metadata": {
    "collapsed": true
   },
   "outputs": [],
   "source": [
    "g_stop_tasks = False\n",
    "g_after = None\n",
    "def tk_task(tk, interval, f):\n",
    "    global g_after, g_stop_tasks\n",
    "    def fn(*args, **kw):\n",
    "        try:\n",
    "            return f(*args, **kw)\n",
    "        finally:\n",
    "            if not g_stop_tasks:\n",
    "                g_after = tk.after(interval, fn)\n",
    "            else:\n",
    "                tk.after_cancel(g_after)\n",
    "    g_after = tk.after(interval, fn)"
   ]
  },
  {
   "cell_type": "code",
   "execution_count": 9,
   "metadata": {
    "collapsed": true
   },
   "outputs": [],
   "source": [
    "def update():\n",
    "    mv = h.getMainValues()\n",
    "    do = mv['do']\n",
    "    pv = do['pv']\n",
    "    t = get_time()\n",
    "    p.add_xy(t, pv)\n",
    "    update_labels(mv)"
   ]
  },
  {
   "cell_type": "code",
   "execution_count": 10,
   "metadata": {
    "collapsed": true
   },
   "outputs": [],
   "source": [
    "def printdir(o):\n",
    "    for a in dir(o):\n",
    "        if not a.startswith(\"_\"):\n",
    "            print(a, getattr(o, a))"
   ]
  },
  {
   "cell_type": "code",
   "execution_count": 11,
   "metadata": {
    "collapsed": true
   },
   "outputs": [],
   "source": [
    "def conf2(ev):\n",
    "    if ev.widget == root:\n",
    "        p.tkcanvas.config(height=ev.height, width=ev.width-rbtn.winfo_width())"
   ]
  },
  {
   "cell_type": "code",
   "execution_count": 12,
   "metadata": {
    "collapsed": false
   },
   "outputs": [],
   "source": [
    "class ILabel(tk.Label):\n",
    "    def __init__(self, master, name, value=0, fmt=\"%.2f\"):\n",
    "        super().__init__(master)\n",
    "        self.fmt = fmt\n",
    "        self.name = name\n",
    "        self.set_value(value)\n",
    "        \n",
    "    def set_value(self, val):\n",
    "        val = self.fmt % val\n",
    "        self.config(text=\"%s: %s\" % (self.name, val))\n",
    "   \n",
    "dos = {}\n",
    "def mk_label(name, val, row):\n",
    "    l = ILabel(root, name, val)\n",
    "    dos[name] = l\n",
    "    l.grid(row=row, column=1)\n",
    "    \n",
    "mk_label(\"PV\", 0, 1)\n",
    "mk_label(\"O2 Flow %\", 0, 2)\n",
    "mk_label(\"O2 Flow LPM\", 0, 3)\n",
    "    \n",
    "def update_labels(mv):\n",
    "    while True:\n",
    "        try:\n",
    "            av = h.getAdvancedValues()\n",
    "        except TrueError:\n",
    "            pass\n",
    "        else:\n",
    "            break\n",
    "\n",
    "    dos['PV'].set_value(mv['do']['pv'])\n",
    "    dos['O2 Flow %'].set_value(av['O2 Flow (%)'])\n",
    "    dos['O2 Flow LPM'].set_value(av['MFCO2FlowFeedback(LPM)'])\n",
    "    "
   ]
  },
  {
   "cell_type": "code",
   "execution_count": null,
   "metadata": {
    "collapsed": false
   },
   "outputs": [
    {
     "name": "stderr",
     "output_type": "stream",
     "text": [
      "Exception in Tkinter callback\n",
      "Traceback (most recent call last):\n",
      "  File \"c:\\program files\\python35\\lib\\tkinter\\__init__.py\", line 1550, in __call__\n",
      "    return self.func(*args)\n",
      "  File \"c:\\program files\\python35\\lib\\tkinter\\__init__.py\", line 596, in callit\n",
      "    func(*args)\n",
      "  File \"<ipython-input-8-a36d465b896c>\", line 7, in fn\n",
      "    return f(*args, **kw)\n",
      "  File \"<ipython-input-9-390824dfceab>\", line 7, in update\n",
      "    update_labels(mv)\n",
      "  File \"<ipython-input-12-fb64b880de87>\", line 25, in update_labels\n",
      "    av = h.getAdvancedValues()\n",
      "AttributeError: 'HelloApp' object has no attribute 'getAdvancedValues'\n",
      "Exception in Tkinter callback\n",
      "Traceback (most recent call last):\n",
      "  File \"c:\\program files\\python35\\lib\\tkinter\\__init__.py\", line 1550, in __call__\n",
      "    return self.func(*args)\n",
      "  File \"c:\\program files\\python35\\lib\\tkinter\\__init__.py\", line 596, in callit\n",
      "    func(*args)\n",
      "  File \"<ipython-input-8-a36d465b896c>\", line 7, in fn\n",
      "    return f(*args, **kw)\n",
      "  File \"<ipython-input-9-390824dfceab>\", line 7, in update\n",
      "    update_labels(mv)\n",
      "  File \"<ipython-input-12-fb64b880de87>\", line 25, in update_labels\n",
      "    av = h.getAdvancedValues()\n",
      "AttributeError: 'HelloApp' object has no attribute 'getAdvancedValues'\n",
      "Exception in Tkinter callback\n",
      "Traceback (most recent call last):\n",
      "  File \"c:\\program files\\python35\\lib\\tkinter\\__init__.py\", line 1550, in __call__\n",
      "    return self.func(*args)\n",
      "  File \"c:\\program files\\python35\\lib\\tkinter\\__init__.py\", line 596, in callit\n",
      "    func(*args)\n",
      "  File \"<ipython-input-8-a36d465b896c>\", line 7, in fn\n",
      "    return f(*args, **kw)\n",
      "  File \"<ipython-input-9-390824dfceab>\", line 7, in update\n",
      "    update_labels(mv)\n",
      "  File \"<ipython-input-12-fb64b880de87>\", line 25, in update_labels\n",
      "    av = h.getAdvancedValues()\n",
      "AttributeError: 'HelloApp' object has no attribute 'getAdvancedValues'\n",
      "Exception in Tkinter callback\n",
      "Traceback (most recent call last):\n",
      "  File \"c:\\program files\\python35\\lib\\tkinter\\__init__.py\", line 1550, in __call__\n",
      "    return self.func(*args)\n",
      "  File \"c:\\program files\\python35\\lib\\tkinter\\__init__.py\", line 596, in callit\n",
      "    func(*args)\n",
      "  File \"<ipython-input-8-a36d465b896c>\", line 7, in fn\n",
      "    return f(*args, **kw)\n",
      "  File \"<ipython-input-9-390824dfceab>\", line 7, in update\n",
      "    update_labels(mv)\n",
      "  File \"<ipython-input-12-fb64b880de87>\", line 25, in update_labels\n",
      "    av = h.getAdvancedValues()\n",
      "AttributeError: 'HelloApp' object has no attribute 'getAdvancedValues'\n",
      "Exception in Tkinter callback\n",
      "Traceback (most recent call last):\n",
      "  File \"c:\\program files\\python35\\lib\\tkinter\\__init__.py\", line 1550, in __call__\n",
      "    return self.func(*args)\n",
      "  File \"c:\\program files\\python35\\lib\\tkinter\\__init__.py\", line 596, in callit\n",
      "    func(*args)\n",
      "  File \"<ipython-input-8-a36d465b896c>\", line 7, in fn\n",
      "    return f(*args, **kw)\n",
      "  File \"<ipython-input-9-390824dfceab>\", line 7, in update\n",
      "    update_labels(mv)\n",
      "  File \"<ipython-input-12-fb64b880de87>\", line 25, in update_labels\n",
      "    av = h.getAdvancedValues()\n",
      "AttributeError: 'HelloApp' object has no attribute 'getAdvancedValues'\n",
      "Exception in Tkinter callback\n",
      "Traceback (most recent call last):\n",
      "  File \"c:\\program files\\python35\\lib\\tkinter\\__init__.py\", line 1550, in __call__\n",
      "    return self.func(*args)\n",
      "  File \"c:\\program files\\python35\\lib\\tkinter\\__init__.py\", line 596, in callit\n",
      "    func(*args)\n",
      "  File \"<ipython-input-8-a36d465b896c>\", line 7, in fn\n",
      "    return f(*args, **kw)\n",
      "  File \"<ipython-input-9-390824dfceab>\", line 7, in update\n",
      "    update_labels(mv)\n",
      "  File \"<ipython-input-12-fb64b880de87>\", line 25, in update_labels\n",
      "    av = h.getAdvancedValues()\n",
      "AttributeError: 'HelloApp' object has no attribute 'getAdvancedValues'\n",
      "Exception in Tkinter callback\n",
      "Traceback (most recent call last):\n",
      "  File \"c:\\program files\\python35\\lib\\tkinter\\__init__.py\", line 1550, in __call__\n",
      "    return self.func(*args)\n",
      "  File \"c:\\program files\\python35\\lib\\tkinter\\__init__.py\", line 596, in callit\n",
      "    func(*args)\n",
      "  File \"<ipython-input-8-a36d465b896c>\", line 7, in fn\n",
      "    return f(*args, **kw)\n",
      "  File \"<ipython-input-9-390824dfceab>\", line 7, in update\n",
      "    update_labels(mv)\n",
      "  File \"<ipython-input-12-fb64b880de87>\", line 25, in update_labels\n",
      "    av = h.getAdvancedValues()\n",
      "AttributeError: 'HelloApp' object has no attribute 'getAdvancedValues'\n",
      "Exception in Tkinter callback\n",
      "Traceback (most recent call last):\n",
      "  File \"c:\\program files\\python35\\lib\\tkinter\\__init__.py\", line 1550, in __call__\n",
      "    return self.func(*args)\n",
      "  File \"c:\\program files\\python35\\lib\\tkinter\\__init__.py\", line 596, in callit\n",
      "    func(*args)\n",
      "  File \"<ipython-input-8-a36d465b896c>\", line 7, in fn\n",
      "    return f(*args, **kw)\n",
      "  File \"<ipython-input-9-390824dfceab>\", line 7, in update\n",
      "    update_labels(mv)\n",
      "  File \"<ipython-input-12-fb64b880de87>\", line 25, in update_labels\n",
      "    av = h.getAdvancedValues()\n",
      "AttributeError: 'HelloApp' object has no attribute 'getAdvancedValues'\n",
      "Exception in Tkinter callback\n",
      "Traceback (most recent call last):\n",
      "  File \"c:\\program files\\python35\\lib\\tkinter\\__init__.py\", line 1550, in __call__\n",
      "    return self.func(*args)\n",
      "  File \"c:\\program files\\python35\\lib\\tkinter\\__init__.py\", line 596, in callit\n",
      "    func(*args)\n",
      "  File \"<ipython-input-8-a36d465b896c>\", line 7, in fn\n",
      "    return f(*args, **kw)\n",
      "  File \"<ipython-input-9-390824dfceab>\", line 7, in update\n",
      "    update_labels(mv)\n",
      "  File \"<ipython-input-12-fb64b880de87>\", line 25, in update_labels\n",
      "    av = h.getAdvancedValues()\n",
      "AttributeError: 'HelloApp' object has no attribute 'getAdvancedValues'\n",
      "Exception in Tkinter callback\n",
      "Traceback (most recent call last):\n",
      "  File \"c:\\program files\\python35\\lib\\tkinter\\__init__.py\", line 1550, in __call__\n",
      "    return self.func(*args)\n",
      "  File \"c:\\program files\\python35\\lib\\tkinter\\__init__.py\", line 596, in callit\n",
      "    func(*args)\n",
      "  File \"<ipython-input-8-a36d465b896c>\", line 7, in fn\n",
      "    return f(*args, **kw)\n",
      "  File \"<ipython-input-9-390824dfceab>\", line 7, in update\n",
      "    update_labels(mv)\n",
      "  File \"<ipython-input-12-fb64b880de87>\", line 25, in update_labels\n",
      "    av = h.getAdvancedValues()\n",
      "AttributeError: 'HelloApp' object has no attribute 'getAdvancedValues'\n",
      "Exception in Tkinter callback\n",
      "Traceback (most recent call last):\n",
      "  File \"c:\\program files\\python35\\lib\\tkinter\\__init__.py\", line 1550, in __call__\n",
      "    return self.func(*args)\n",
      "  File \"c:\\program files\\python35\\lib\\tkinter\\__init__.py\", line 596, in callit\n",
      "    func(*args)\n",
      "  File \"<ipython-input-8-a36d465b896c>\", line 7, in fn\n",
      "    return f(*args, **kw)\n",
      "  File \"<ipython-input-9-390824dfceab>\", line 7, in update\n",
      "    update_labels(mv)\n",
      "  File \"<ipython-input-12-fb64b880de87>\", line 25, in update_labels\n",
      "    av = h.getAdvancedValues()\n",
      "AttributeError: 'HelloApp' object has no attribute 'getAdvancedValues'\n",
      "Exception in Tkinter callback\n",
      "Traceback (most recent call last):\n",
      "  File \"c:\\program files\\python35\\lib\\tkinter\\__init__.py\", line 1550, in __call__\n",
      "    return self.func(*args)\n",
      "  File \"c:\\program files\\python35\\lib\\tkinter\\__init__.py\", line 596, in callit\n",
      "    func(*args)\n",
      "  File \"<ipython-input-8-a36d465b896c>\", line 7, in fn\n",
      "    return f(*args, **kw)\n",
      "  File \"<ipython-input-9-390824dfceab>\", line 7, in update\n",
      "    update_labels(mv)\n",
      "  File \"<ipython-input-12-fb64b880de87>\", line 25, in update_labels\n",
      "    av = h.getAdvancedValues()\n",
      "AttributeError: 'HelloApp' object has no attribute 'getAdvancedValues'\n",
      "Exception in Tkinter callback\n",
      "Traceback (most recent call last):\n",
      "  File \"c:\\program files\\python35\\lib\\tkinter\\__init__.py\", line 1550, in __call__\n",
      "    return self.func(*args)\n",
      "  File \"c:\\program files\\python35\\lib\\tkinter\\__init__.py\", line 596, in callit\n",
      "    func(*args)\n",
      "  File \"<ipython-input-8-a36d465b896c>\", line 7, in fn\n",
      "    return f(*args, **kw)\n",
      "  File \"<ipython-input-9-390824dfceab>\", line 7, in update\n",
      "    update_labels(mv)\n",
      "  File \"<ipython-input-12-fb64b880de87>\", line 25, in update_labels\n",
      "    av = h.getAdvancedValues()\n",
      "AttributeError: 'HelloApp' object has no attribute 'getAdvancedValues'\n",
      "Exception in Tkinter callback\n",
      "Traceback (most recent call last):\n",
      "  File \"c:\\program files\\python35\\lib\\tkinter\\__init__.py\", line 1550, in __call__\n",
      "    return self.func(*args)\n",
      "  File \"c:\\program files\\python35\\lib\\tkinter\\__init__.py\", line 596, in callit\n",
      "    func(*args)\n",
      "  File \"<ipython-input-8-a36d465b896c>\", line 7, in fn\n",
      "    return f(*args, **kw)\n",
      "  File \"<ipython-input-9-390824dfceab>\", line 7, in update\n",
      "    update_labels(mv)\n",
      "  File \"<ipython-input-12-fb64b880de87>\", line 25, in update_labels\n",
      "    av = h.getAdvancedValues()\n",
      "AttributeError: 'HelloApp' object has no attribute 'getAdvancedValues'\n",
      "Exception in Tkinter callback\n",
      "Traceback (most recent call last):\n",
      "  File \"c:\\program files\\python35\\lib\\tkinter\\__init__.py\", line 1550, in __call__\n",
      "    return self.func(*args)\n",
      "  File \"c:\\program files\\python35\\lib\\tkinter\\__init__.py\", line 596, in callit\n",
      "    func(*args)\n",
      "  File \"<ipython-input-8-a36d465b896c>\", line 7, in fn\n",
      "    return f(*args, **kw)\n",
      "  File \"<ipython-input-9-390824dfceab>\", line 7, in update\n",
      "    update_labels(mv)\n",
      "  File \"<ipython-input-12-fb64b880de87>\", line 25, in update_labels\n",
      "    av = h.getAdvancedValues()\n",
      "AttributeError: 'HelloApp' object has no attribute 'getAdvancedValues'\n",
      "Exception in Tkinter callback\n",
      "Traceback (most recent call last):\n",
      "  File \"c:\\program files\\python35\\lib\\tkinter\\__init__.py\", line 1550, in __call__\n",
      "    return self.func(*args)\n",
      "  File \"c:\\program files\\python35\\lib\\tkinter\\__init__.py\", line 596, in callit\n",
      "    func(*args)\n",
      "  File \"<ipython-input-8-a36d465b896c>\", line 7, in fn\n",
      "    return f(*args, **kw)\n",
      "  File \"<ipython-input-9-390824dfceab>\", line 7, in update\n",
      "    update_labels(mv)\n",
      "  File \"<ipython-input-12-fb64b880de87>\", line 25, in update_labels\n",
      "    av = h.getAdvancedValues()\n",
      "AttributeError: 'HelloApp' object has no attribute 'getAdvancedValues'\n",
      "Exception in Tkinter callback\n",
      "Traceback (most recent call last):\n",
      "  File \"c:\\program files\\python35\\lib\\tkinter\\__init__.py\", line 1550, in __call__\n",
      "    return self.func(*args)\n",
      "  File \"c:\\program files\\python35\\lib\\tkinter\\__init__.py\", line 596, in callit\n",
      "    func(*args)\n",
      "  File \"<ipython-input-8-a36d465b896c>\", line 7, in fn\n",
      "    return f(*args, **kw)\n",
      "  File \"<ipython-input-9-390824dfceab>\", line 7, in update\n",
      "    update_labels(mv)\n",
      "  File \"<ipython-input-12-fb64b880de87>\", line 25, in update_labels\n",
      "    av = h.getAdvancedValues()\n",
      "AttributeError: 'HelloApp' object has no attribute 'getAdvancedValues'\n",
      "Exception in Tkinter callback\n",
      "Traceback (most recent call last):\n",
      "  File \"c:\\program files\\python35\\lib\\tkinter\\__init__.py\", line 1550, in __call__\n",
      "    return self.func(*args)\n",
      "  File \"c:\\program files\\python35\\lib\\tkinter\\__init__.py\", line 596, in callit\n",
      "    func(*args)\n",
      "  File \"<ipython-input-8-a36d465b896c>\", line 7, in fn\n",
      "    return f(*args, **kw)\n",
      "  File \"<ipython-input-9-390824dfceab>\", line 7, in update\n",
      "    update_labels(mv)\n",
      "  File \"<ipython-input-12-fb64b880de87>\", line 25, in update_labels\n",
      "    av = h.getAdvancedValues()\n",
      "AttributeError: 'HelloApp' object has no attribute 'getAdvancedValues'\n"
     ]
    }
   ],
   "source": [
    "p.grid(rowspan=20, column=0, row=0)    \n",
    "rbtn = tk.Button(root, text=\"Reset\", command=lambda: p.reset())\n",
    "rbtn.grid(column=1, row=0, sticky=\"ew\")\n",
    "root.bind(\"<Configure>\", conf2)\n",
    "p.set_xaxis_text(\"Time (s)\")\n",
    "p.set_yaxis_text(\"DO PV (%)\")\n",
    "def on_closing():\n",
    "    from tkinter import messagebox\n",
    "    if messagebox.askokcancel(\"Quit\", \"Do you want to quit?\"):\n",
    "        global g_stop_tasks\n",
    "        g_stop_tasks = True\n",
    "        root.destroy()\n",
    "\n",
    "root.protocol(\"WM_DELETE_WINDOW\", on_closing)\n",
    "root.wm_deiconify()\n",
    "tk_task(root, 500, update)\n",
    "root.mainloop()"
   ]
  },
  {
   "cell_type": "code",
   "execution_count": null,
   "metadata": {
    "collapsed": true
   },
   "outputs": [],
   "source": []
  }
 ],
 "metadata": {
  "kernelspec": {
   "display_name": "Python 3",
   "language": "python",
   "name": "python3"
  },
  "language_info": {
   "codemirror_mode": {
    "name": "ipython",
    "version": 3
   },
   "file_extension": ".py",
   "mimetype": "text/x-python",
   "name": "python",
   "nbconvert_exporter": "python",
   "pygments_lexer": "ipython3",
   "version": "3.5.2"
  }
 },
 "nbformat": 4,
 "nbformat_minor": 0
}
