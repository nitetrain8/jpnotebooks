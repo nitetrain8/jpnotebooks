{
 "cells": [
  {
   "cell_type": "markdown",
   "metadata": {
    "collapsed": true
   },
   "source": [
    "# PH Titration Curve Stuff"
   ]
  },
  {
   "cell_type": "code",
   "execution_count": 6,
   "metadata": {
    "collapsed": false
   },
   "outputs": [
    {
     "name": "stdout",
     "output_type": "stream",
     "text": [
      "Using matplotlib backend: TkAgg\n"
     ]
    },
    {
     "name": "stderr",
     "output_type": "stream",
     "text": [
      "c:\\program files\\python35\\lib\\site-packages\\ipykernel\\__main__.py:10: RuntimeWarning: invalid value encountered in log10\n"
     ]
    },
    {
     "data": {
      "text/plain": [
       "(0, 14)"
      ]
     },
     "execution_count": 6,
     "metadata": {},
     "output_type": "execute_result"
    }
   ],
   "source": [
    "import math\n",
    "import numpy as np\n",
    "%matplotlib\n",
    "import matplotlib.pyplot as plt\n",
    "# carbonic acid\n",
    "ka = 4.5e-7\n",
    "pka = 6.35\n",
    "\n",
    "mm_bicarb = 84.0066\n",
    "c_bicarb = 2.02 # g / L\n",
    "m_bicarb = c_bicarb / mm_bicarb\n",
    "amax = 20\n",
    "acid = np.linspace(1e-10, amax, 1000)\n",
    "\n",
    "ph = pH(acid, mm_bicarb)\n",
    "plt.close()\n",
    "plt.plot(acid, ph)\n",
    "plt.gca().set_xlim((0, amax))\n",
    "plt.gca().set_ylim((0, 14))"
   ]
  },
  {
   "cell_type": "code",
   "execution_count": 7,
   "metadata": {
    "collapsed": false
   },
   "outputs": [
    {
     "data": {
      "text/plain": [
       "6.5991807461669625"
      ]
     },
     "execution_count": 7,
     "metadata": {},
     "output_type": "execute_result"
    }
   ],
   "source": [
    "c1=.4*3.4e-2\n",
    "c2=1e-7\n",
    "c3=2.02/84\n",
    "ka=4.45e-7\n",
    "a = 1\n",
    "b = (c2+c3+ka)\n",
    "c = (c2*c3-ka*c1)\n",
    "x=qf(a,b,c)\n",
    "-np.log10(c2+x)"
   ]
  },
  {
   "cell_type": "code",
   "execution_count": 8,
   "metadata": {
    "collapsed": false
   },
   "outputs": [],
   "source": [
    "def qf(a,b,c):\n",
    "    return (-b+np.sqrt(b**2-4*a*c))/(2*a)\n",
    "\n",
    "def qf2(a,b,c):\n",
    "    return (-b-np.sqrt(b**2-4*a*c))/(2*a)\n",
    "\n",
    "def general_ph(c1, c2, c3, ka):\n",
    "    a = 1\n",
    "    b = c2+c3+ka\n",
    "    c = c2*c3-ka*c1\n",
    "    x=qf(a,b,c)\n",
    "    return -np.log10(c2+x)\n",
    "\n",
    "def pH(co2, bicarb):\n",
    "    c1 = co2 * 3.4e-2  # henry's law\n",
    "    c2 = 1e-7\n",
    "    c3 = bicarb\n",
    "    ka = 4.45e-7\n",
    "    return general_ph(c1, c2, c3, ka)"
   ]
  },
  {
   "cell_type": "code",
   "execution_count": 118,
   "metadata": {
    "collapsed": false
   },
   "outputs": [
    {
     "data": {
      "text/plain": [
       "(5.9694534046890366, 14.730886878706285)"
      ]
     },
     "execution_count": 118,
     "metadata": {},
     "output_type": "execute_result"
    }
   ],
   "source": [
    "c1=2.02/84\n",
    "c2=1e-10\n",
    "c3=0\n",
    "ka=10**-10.32\n",
    "general_ph(c1, c2, c3, ka), general_ph(0, c2, c1, 10**-6.35)"
   ]
  },
  {
   "cell_type": "code",
   "execution_count": 119,
   "metadata": {
    "collapsed": false
   },
   "outputs": [
    {
     "data": {
      "text/plain": [
       "6.8032971085323002"
      ]
     },
     "execution_count": 119,
     "metadata": {},
     "output_type": "execute_result"
    }
   ],
   "source": [
    "pH(0.25, c1)"
   ]
  },
  {
   "cell_type": "code",
   "execution_count": 123,
   "metadata": {
    "collapsed": false
   },
   "outputs": [
    {
     "data": {
      "text/plain": [
       "7.5991479169018135"
      ]
     },
     "execution_count": 123,
     "metadata": {},
     "output_type": "execute_result"
    }
   ],
   "source": [
    "pH(0.04, c1)"
   ]
  },
  {
   "cell_type": "code",
   "execution_count": 10,
   "metadata": {
    "collapsed": false
   },
   "outputs": [
    {
     "data": {
      "text/plain": [
       "[<matplotlib.lines.Line2D at 0x24044260f98>]"
      ]
     },
     "execution_count": 10,
     "metadata": {},
     "output_type": "execute_result"
    }
   ],
   "source": [
    "# \"Titration\" curve 2.02 g/mol bicarb\n",
    "c1=np.linspace(0, 1, 1000)\n",
    "c3=2.02/84\n",
    "y=pH(c1, c3)\n",
    "plt.close()\n",
    "plt.plot(c1,y)"
   ]
  },
  {
   "cell_type": "code",
   "execution_count": 11,
   "metadata": {
    "collapsed": false
   },
   "outputs": [
    {
     "data": {
      "text/plain": [
       "[<matplotlib.lines.Line2D at 0x2404415e7b8>]"
      ]
     },
     "execution_count": 11,
     "metadata": {},
     "output_type": "execute_result"
    }
   ],
   "source": [
    "# \"Titration\" curve 0 g/mol bicarb\n",
    "plt.close()\n",
    "x = np.linspace(0, 1, 100000)\n",
    "y = pH(x, 0)\n",
    "plt.plot(x,y)"
   ]
  },
  {
   "cell_type": "code",
   "execution_count": 12,
   "metadata": {
    "collapsed": false
   },
   "outputs": [
    {
     "data": {
      "text/plain": [
       "[<matplotlib.lines.Line2D at 0x240441c6be0>]"
      ]
     },
     "execution_count": 12,
     "metadata": {},
     "output_type": "execute_result"
    }
   ],
   "source": [
    "c1=np.linspace(0, 1, 1000)\n",
    "y = pH(c1, 0)\n",
    "plt.close()\n",
    "plt.plot(c1,y)"
   ]
  },
  {
   "cell_type": "code",
   "execution_count": 14,
   "metadata": {
    "collapsed": false,
    "scrolled": true
   },
   "outputs": [
    {
     "data": {
      "text/plain": [
       "(6.5975331750145241, 6.5975331750145241)"
      ]
     },
     "execution_count": 14,
     "metadata": {},
     "output_type": "execute_result"
    }
   ],
   "source": [
    "c1=.4*3.4e-2\n",
    "c3=2.02/84\n",
    "def henderson_hasselbach(acid, conj, pka):\n",
    "    return pka + np.log10(conj/acid)\n",
    "6.35+np.log10(c3/c1), henderson_hasselbach(c1, c3, 6.35)"
   ]
  },
  {
   "cell_type": "code",
   "execution_count": 50,
   "metadata": {
    "collapsed": true
   },
   "outputs": [],
   "source": [
    "hh = henderson_hasselbach\n",
    "co2_henry = 3.4e-2\n",
    "hco2 = co2_henry\n",
    "def chh(c):\n",
    "    return hh(c/100*co2_henry, 2.02/84, 6.35)\n",
    "def chh2(c):\n",
    "    return hh(c/100, 2.02/84, 6.35)"
   ]
  },
  {
   "cell_type": "code",
   "execution_count": 75,
   "metadata": {
    "collapsed": true
   },
   "outputs": [],
   "source": [
    "def polyprotic(x, ka1, ka2, i):\n",
    "    w = 1e-7\n",
    "    n = (ka1 * i)*(x*x+2*ka2)\n",
    "    d = x*x + x*ka1+ka1*ka2\n",
    "    y = w + n/d - x*x\n",
    "    return y\n",
    "\n",
    "def polyprotic2(ph, pka1, pka2, i):\n",
    "    x=10**(-ph)\n",
    "    ka1=10**(-pka1)\n",
    "    ka2=10**(-pka2)\n",
    "    return polyprotic(x, ka1, ka2, i)"
   ]
  },
  {
   "cell_type": "code",
   "execution_count": 121,
   "metadata": {
    "collapsed": false
   },
   "outputs": [
    {
     "data": {
      "text/plain": [
       "6.8016531576704491"
      ]
     },
     "execution_count": 121,
     "metadata": {},
     "output_type": "execute_result"
    }
   ],
   "source": [
    "chh(25)"
   ]
  },
  {
   "cell_type": "code",
   "execution_count": 76,
   "metadata": {
    "collapsed": true
   },
   "outputs": [],
   "source": [
    "from scipy.optimize import fsolve"
   ]
  },
  {
   "cell_type": "code",
   "execution_count": 77,
   "metadata": {
    "collapsed": false
   },
   "outputs": [
    {
     "name": "stdout",
     "output_type": "stream",
     "text": [
      "[10] <class 'numpy.ndarray'>\n",
      "[ 10.] <class 'numpy.ndarray'>\n",
      "[ 10.] <class 'numpy.ndarray'>\n",
      "[ 10.00000015] <class 'numpy.ndarray'>\n",
      "[ 2.01555617] <class 'numpy.ndarray'>\n",
      "[ 2.01555608] <class 'numpy.ndarray'>\n",
      "[ 2.01555608] <class 'numpy.ndarray'>\n",
      "[ 2.01555608] <class 'numpy.ndarray'>\n",
      "[ 2.01555611] <class 'numpy.ndarray'>\n",
      "[ 2.01555608] <class 'numpy.ndarray'>\n"
     ]
    },
    {
     "data": {
      "text/plain": [
       "2.015556083595706"
      ]
     },
     "execution_count": 77,
     "metadata": {},
     "output_type": "execute_result"
    }
   ],
   "source": [
    "def func(x):\n",
    "    return polyprotic2(3, 6.35, 10.32, x)\n",
    "fsolve(func, 10)[0]"
   ]
  },
  {
   "cell_type": "code",
   "execution_count": 42,
   "metadata": {
    "collapsed": false
   },
   "outputs": [],
   "source": [
    "x=np.linspace(-.00014, -.00012, 1000)\n",
    "#y=polyprotic2(7, 6.35, 10.32, x)\n",
    "y=func(x)\n",
    "plt.close()\n",
    "plt.plot(x,y)\n",
    "plt.grid()"
   ]
  },
  {
   "cell_type": "code",
   "execution_count": 49,
   "metadata": {
    "collapsed": false
   },
   "outputs": [
    {
     "data": {
      "text/plain": [
       "4.7234548926729465"
      ]
     },
     "execution_count": 49,
     "metadata": {},
     "output_type": "execute_result"
    }
   ],
   "source": [
    "-np.log10(polyprotic2(7, 6.35, 10.32, 2.02/84))"
   ]
  },
  {
   "cell_type": "code",
   "execution_count": null,
   "metadata": {
    "collapsed": true
   },
   "outputs": [],
   "source": []
  },
  {
   "cell_type": "code",
   "execution_count": null,
   "metadata": {
    "collapsed": true
   },
   "outputs": [],
   "source": []
  }
 ],
 "metadata": {
  "kernelspec": {
   "display_name": "Python 3",
   "language": "python",
   "name": "python3"
  },
  "language_info": {
   "codemirror_mode": {
    "name": "ipython",
    "version": 3
   },
   "file_extension": ".py",
   "mimetype": "text/x-python",
   "name": "python",
   "nbconvert_exporter": "python",
   "pygments_lexer": "ipython3",
   "version": "3.5.2"
  }
 },
 "nbformat": 4,
 "nbformat_minor": 1
}
