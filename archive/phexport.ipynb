{
 "cells": [
  {
   "cell_type": "code",
   "execution_count": 1,
   "metadata": {
    "collapsed": true
   },
   "outputs": [],
   "source": [
    "from hello.hello3 import *\n",
    "from datetime import datetime,timedelta"
   ]
  },
  {
   "cell_type": "code",
   "execution_count": 34,
   "metadata": {
    "collapsed": false,
    "scrolled": true
   },
   "outputs": [
    {
     "name": "stdout",
     "output_type": "stream",
     "text": [
      "Downloading from 02/23/17 05:30PM to 02/23/17 09:30PM\n",
      "Done\n"
     ]
    }
   ],
   "source": [
    "d1 = datetime(2017, 2, 23, 17, 30)\n",
    "\n",
    "span = timedelta(hours=4)\n",
    "end = datetime(2017, 3, 1)\n",
    "#end = d1+timedelta(hours=12)\n",
    "\n",
    "def hts(d):\n",
    "    return int(d.timestamp()*1)\n",
    "\n",
    "def fmt(d):\n",
    "    return d.strftime(\"%m/%d/%y %I:%M%p\")\n",
    "\n",
    "h = HelloApp('71.189.82.196:85')\n",
    "\n",
    "def download(h, d1, d2):\n",
    "    s1 = hts(d1)\n",
    "    s2 = hts(d2)\n",
    "    while True:\n",
    "        try:\n",
    "            h.login()\n",
    "            fn = h.getReport('byDate', 'process_data', s1, s2)\n",
    "        except BadError:\n",
    "            print(\"Error occurred during getReport\")\n",
    "            continue\n",
    "        else:\n",
    "            break\n",
    "    while True:\n",
    "        try:\n",
    "            h.login()\n",
    "            b = h.getfile(fn)\n",
    "        except BadError:\n",
    "            print(\"Error occurred during getfile\")\n",
    "            continue\n",
    "        else:\n",
    "            break\n",
    "    return b\n",
    "            \n",
    "path = \"ph downloads\\\\\"\n",
    "import os\n",
    "os.makedirs(path, exist_ok=True)\n",
    "while d1 < end:\n",
    "    d2 = d1+span\n",
    "\n",
    "    print(\"Downloading from %s to %s\" % (fmt(d1),fmt(d2)))\n",
    "    b = download(h, d1, d2)\n",
    "    dfmt = \"%m-%d-%y %H.%M\"\n",
    "    fn = path + \"%s to %s.csv\" % (d1.strftime(dfmt), d2.strftime(dfmt))\n",
    "    with open(fn, 'wb') as f:\n",
    "        f.write(b)\n",
    "    d1 += span\n",
    "print(\"Done\")"
   ]
  },
  {
   "cell_type": "code",
   "execution_count": 30,
   "metadata": {
    "collapsed": false
   },
   "outputs": [],
   "source": [
    "files = os.listdir(path)\n",
    "files.sort(key=lambda s: datetime.strptime(s.split(\" to \")[0], \"%m-%d-%y %H.%M\"))"
   ]
  },
  {
   "cell_type": "code",
   "execution_count": 31,
   "metadata": {
    "collapsed": false
   },
   "outputs": [
    {
     "data": {
      "text/plain": [
       "['02-23-17 17.30 to 02-23-17 21.30.csv',\n",
       " '02-23-17 21.30 to 02-24-17 01.30.csv',\n",
       " '02-24-17 01.30 to 02-24-17 05.30.csv',\n",
       " '02-24-17 05.30 to 02-24-17 09.30.csv',\n",
       " '02-24-17 09.30 to 02-24-17 13.30.csv',\n",
       " '02-24-17 13.30 to 02-24-17 17.30.csv',\n",
       " '02-24-17 17.30 to 02-24-17 21.30.csv',\n",
       " '02-24-17 21.30 to 02-25-17 01.30.csv',\n",
       " '02-25-17 01.30 to 02-25-17 05.30.csv',\n",
       " '02-25-17 05.30 to 02-25-17 09.30.csv',\n",
       " '02-25-17 09.30 to 02-25-17 13.30.csv',\n",
       " '02-25-17 13.30 to 02-25-17 17.30.csv',\n",
       " '02-25-17 17.30 to 02-25-17 21.30.csv',\n",
       " '02-25-17 21.30 to 02-26-17 01.30.csv',\n",
       " '02-26-17 01.30 to 02-26-17 05.30.csv',\n",
       " '02-26-17 05.30 to 02-26-17 09.30.csv',\n",
       " '02-26-17 09.30 to 02-26-17 13.30.csv',\n",
       " '02-26-17 13.30 to 02-26-17 17.30.csv',\n",
       " '02-26-17 17.30 to 02-26-17 21.30.csv',\n",
       " '02-26-17 21.30 to 02-27-17 01.30.csv',\n",
       " '02-27-17 01.30 to 02-27-17 05.30.csv',\n",
       " '02-27-17 05.30 to 02-27-17 09.30.csv',\n",
       " '02-27-17 09.30 to 02-27-17 13.30.csv',\n",
       " '02-27-17 13.30 to 02-27-17 17.30.csv',\n",
       " '02-27-17 17.30 to 02-27-17 21.30.csv',\n",
       " '02-27-17 21.30 to 02-28-17 01.30.csv',\n",
       " '02-28-17 01.30 to 02-28-17 05.30.csv',\n",
       " '02-28-17 05.30 to 02-28-17 09.30.csv',\n",
       " '02-28-17 09.30 to 02-28-17 13.30.csv',\n",
       " '02-28-17 13.30 to 02-28-17 17.30.csv',\n",
       " '02-28-17 17.30 to 02-28-17 21.30.csv',\n",
       " '02-28-17 21.30 to 03-01-17 01.30.csv']"
      ]
     },
     "execution_count": 31,
     "metadata": {},
     "output_type": "execute_result"
    }
   ],
   "source": [
    "files"
   ]
  },
  {
   "cell_type": "code",
   "execution_count": 35,
   "metadata": {
    "collapsed": false,
    "scrolled": true
   },
   "outputs": [
    {
     "name": "stdout",
     "output_type": "stream",
     "text": [
      "Compiling 02-23-17 17.30 to 02-23-17 21.30.csv...\n",
      "Compiling 02-23-17 21.30 to 02-24-17 01.30.csv...\n",
      "Compiling 02-24-17 01.30 to 02-24-17 05.30.csv...\n",
      "Compiling 02-24-17 05.30 to 02-24-17 09.30.csv...\n",
      "Compiling 02-24-17 09.30 to 02-24-17 13.30.csv...\n",
      "Compiling 02-24-17 13.30 to 02-24-17 17.30.csv...\n",
      "Compiling 02-24-17 17.30 to 02-24-17 21.30.csv...\n",
      "Compiling 02-24-17 21.30 to 02-25-17 01.30.csv...\n",
      "Compiling 02-25-17 01.30 to 02-25-17 05.30.csv...\n",
      "Compiling 02-25-17 05.30 to 02-25-17 09.30.csv...\n",
      "Compiling 02-25-17 09.30 to 02-25-17 13.30.csv...\n",
      "Compiling 02-25-17 13.30 to 02-25-17 17.30.csv...\n",
      "Compiling 02-25-17 17.30 to 02-25-17 21.30.csv...\n",
      "Compiling 02-25-17 21.30 to 02-26-17 01.30.csv...\n",
      "Compiling 02-26-17 01.30 to 02-26-17 05.30.csv...\n",
      "Compiling 02-26-17 05.30 to 02-26-17 09.30.csv...\n",
      "Compiling 02-26-17 09.30 to 02-26-17 13.30.csv...\n",
      "Compiling 02-26-17 13.30 to 02-26-17 17.30.csv...\n",
      "Compiling 02-26-17 17.30 to 02-26-17 21.30.csv...\n",
      "Compiling 02-26-17 21.30 to 02-27-17 01.30.csv...\n",
      "Compiling 02-27-17 01.30 to 02-27-17 05.30.csv...\n",
      "Compiling 02-27-17 05.30 to 02-27-17 09.30.csv...\n",
      "Compiling 02-27-17 09.30 to 02-27-17 13.30.csv...\n",
      "Compiling 02-27-17 13.30 to 02-27-17 17.30.csv...\n",
      "Compiling 02-27-17 17.30 to 02-27-17 21.30.csv...\n",
      "Compiling 02-27-17 21.30 to 02-28-17 01.30.csv...\n",
      "Compiling 02-28-17 01.30 to 02-28-17 05.30.csv...\n",
      "Compiling 02-28-17 05.30 to 02-28-17 09.30.csv...\n",
      "Compiling 02-28-17 09.30 to 02-28-17 13.30.csv...\n",
      "Compiling 02-28-17 13.30 to 02-28-17 17.30.csv...\n",
      "Compiling 02-28-17 17.30 to 02-28-17 21.30.csv...\n",
      "Compiling 02-28-17 21.30 to 03-01-17 01.30.csv...\n"
     ]
    }
   ],
   "source": [
    "with open(\"compiled.csv\", 'w') as bigf:\n",
    "    for file in files:\n",
    "        print(\"Compiling %s...\"%file)\n",
    "        with open(path + file, 'r') as f:\n",
    "            chunk = f.read()\n",
    "        bigf.write(chunk)\n",
    "        if chunk[-1] != \"\\n\":\n",
    "            bigf.write(\"\\n\")"
   ]
  },
  {
   "cell_type": "code",
   "execution_count": 69,
   "metadata": {
    "collapsed": false
   },
   "outputs": [],
   "source": [
    "file = files[0]\n",
    "\n",
    "def columnify(text):\n",
    "    data = list(zip(*(l.split(\",\") for l in txt.splitlines())))\n",
    "    return [list(l) for l in data]\n",
    "\n",
    "def textify(data):\n",
    "    data = list(zip(*data))\n",
    "    data = [\",\".join(l) for l in data]\n",
    "    return \"\\n\".join(data)\n",
    "\n",
    "def merge(src, dst):\n",
    "    if len(src) != len(dst):\n",
    "        raise ValueError(\"Data length mismatch: %s != %s\" % (len(src), len(dst)))\n",
    "    for s, d in zip(src, dst):\n",
    "        d.extend(c for c in s[1:] if c is not None)\n",
    "\n",
    "with open(path+file, 'r') as f:\n",
    "    txt = f.read()\n",
    "data = columnify(txt)\n",
    "for file in files[1:]:\n",
    "    with open(path+file, 'r') as f:\n",
    "        txt = f.read()\n",
    "    new = columnify(txt)\n",
    "    merge(new, data)\n",
    "txt = textify(data)\n",
    "with open(\"compiled2.csv\", 'w') as bigf:\n",
    "    bigf.write(txt)"
   ]
  },
  {
   "cell_type": "code",
   "execution_count": 49,
   "metadata": {
    "collapsed": true
   },
   "outputs": [],
   "source": [
    "from officelib.xllib import *\n",
    "from officelib.const import xlconst as xlc"
   ]
  },
  {
   "cell_type": "code",
   "execution_count": 86,
   "metadata": {
    "collapsed": true
   },
   "outputs": [],
   "source": [
    "xl = Excel()\n",
    "wb = xl.RecentFiles(1).Open()"
   ]
  },
  {
   "cell_type": "code",
   "execution_count": 87,
   "metadata": {
    "collapsed": true
   },
   "outputs": [],
   "source": [
    "ws = wb.Worksheets(1)\n",
    "cells = ws.Cells\n",
    "cell_range = cells.Range"
   ]
  },
  {
   "cell_type": "code",
   "execution_count": 47,
   "metadata": {
    "collapsed": false
   },
   "outputs": [
    {
     "data": {
      "text/plain": [
       "dict_keys(['EntireRow', 'FormulaLabel', 'UseStandardWidth', 'ListObject', 'Creator', 'Locked', 'ColumnWidth', 'PageBreak', 'FormulaR1C1Local', 'DirectPrecedents', 'Characters', 'RowHeight', 'UseStandardHeight', 'ShrinkToFit', 'Parent', 'Areas', 'QueryTable', 'Errors', 'AllowEdit', 'MergeCells', 'ServerActions', 'AddressLocal', 'Rows', 'Offset', 'Precedents', 'HasArray', 'ReadingOrder', 'AddIndent', 'Previous', 'Formula', 'FormulaHidden', 'Hidden', 'Validation', 'FormulaR1C1', 'Font', 'Address', 'WrapText', 'FormatConditions', 'LocationInTable', 'PivotItem', 'Width', 'Worksheet', 'Text', 'SmartTags', 'DirectDependents', '_Default', 'HasFormula', 'Columns', 'Value2', 'VerticalAlignment', 'Top', 'Row', 'Style', 'Phonetic', 'PivotCell', 'Dependents', 'ShowDetail', 'Phonetics', 'Value', 'Interior', 'MergeArea', 'ListHeaderRows', 'Next', 'FormulaLocal', 'PivotField', 'EntireColumn', 'NumberFormatLocal', 'FormulaArray', 'ID', 'XPath', 'IndentLevel', 'Height', 'Summary', 'Count', 'Comment', 'Name', 'NumberFormat', 'CountLarge', 'CurrentRegion', 'Left', 'Orientation', 'PrefixCharacter', 'HorizontalAlignment', 'OutlineLevel', 'MDX', 'Resize', 'Application', 'CurrentArray', 'Column', 'Hyperlinks', 'SoundNote', 'Borders', 'PivotTable', 'Cells'])"
      ]
     },
     "execution_count": 47,
     "metadata": {},
     "output_type": "execute_result"
    }
   ],
   "source": [
    "cell_range(\"CM1\").EntireColumn._prop_map_get_.keys()"
   ]
  },
  {
   "cell_type": "code",
   "execution_count": 53,
   "metadata": {
    "collapsed": false
   },
   "outputs": [
    {
     "data": {
      "text/plain": [
       "'$CM$6114'"
      ]
     },
     "execution_count": 53,
     "metadata": {},
     "output_type": "execute_result"
    }
   ],
   "source": [
    "cell_range(\"CM1\").End(xlc.xlDown).End(xlc.xlDown).Address"
   ]
  },
  {
   "cell_type": "code",
   "execution_count": 56,
   "metadata": {
    "collapsed": false
   },
   "outputs": [],
   "source": [
    "xlDown=xlc.xlDown\n",
    "c = cell_range(\"CM1\")\n",
    "while True:\n",
    "    c = c.End(xlDown)\n",
    "    c2 = c.End(xlDown)\n",
    "    if c2.Value != \"pHPV\":\n",
    "        break\n",
    "    c = c2"
   ]
  },
  {
   "cell_type": "code",
   "execution_count": 58,
   "metadata": {
    "collapsed": false
   },
   "outputs": [
    {
     "data": {
      "text/plain": [
       "'$CM$44577'"
      ]
     },
     "execution_count": 58,
     "metadata": {},
     "output_type": "execute_result"
    }
   ],
   "source": [
    "c.Address"
   ]
  },
  {
   "cell_type": "code",
   "execution_count": 83,
   "metadata": {
    "collapsed": false
   },
   "outputs": [],
   "source": [
    "def find_range(c):\n",
    "    c1 = c\n",
    "    c1v = c1.Value\n",
    "    while True:\n",
    "        c = c.End(xlDown)\n",
    "        c2 = c.End(xlDown)\n",
    "        if c2.Value != c1v:\n",
    "            break\n",
    "        c = c2\n",
    "    return cell_range(c1, c.Offset(1,2))\n",
    "def fix_data(d):\n",
    "    c1v = d[0][0]\n",
    "    return [(a,b) for a,b in d if a is not None and a != c1v]"
   ]
  },
  {
   "cell_type": "code",
   "execution_count": 77,
   "metadata": {
    "collapsed": false
   },
   "outputs": [],
   "source": [
    "r = find_range(cell_range(\"CM1\"))\n",
    "d = r.Value\n",
    "c1v = cell_range(\"CM1\").Value\n",
    "# only need to check a or b for None and header values\n",
    "d2 = [(a, b) for a, b in d if a is not None and a != c1v]\n",
    "r.Clear()\n",
    "def paste(data, cell):\n",
    "    rows = len(data)\n",
    "    columns = len(data[0])\n",
    "    br = cell.Offset(rows, columns)\n",
    "    cell_range(cell, br).Value = data\n",
    "paste(d2, cell_range(\"CM1\"))"
   ]
  },
  {
   "cell_type": "code",
   "execution_count": 78,
   "metadata": {
    "collapsed": false
   },
   "outputs": [],
   "source": [
    "paste(d2, cell_range(\"CM2\"))"
   ]
  },
  {
   "cell_type": "code",
   "execution_count": 79,
   "metadata": {
    "collapsed": false
   },
   "outputs": [
    {
     "data": {
      "text/plain": [
       "7637"
      ]
     },
     "execution_count": 79,
     "metadata": {},
     "output_type": "execute_result"
    }
   ],
   "source": [
    "len([r for r in d if r[0]])"
   ]
  },
  {
   "cell_type": "code",
   "execution_count": 88,
   "metadata": {
    "collapsed": false
   },
   "outputs": [
    {
     "name": "stdout",
     "output_type": "stream",
     "text": [
      "Fixing data for AgPV(RPM)\n",
      "Fixing data for DODeadband(%)\n",
      "Fixing data for DON2Control.DTime(min)\n",
      "Fixing data for DON2Control.ITime(min)\n",
      "Fixing data for DON2Control.PGain(%/%)\n",
      "Fixing data for DON2ControlAlpha\n",
      "Fixing data for DON2ControlBeta\n",
      "Fixing data for DON2ControlGamma\n",
      "Fixing data for DON2ControlLinearity\n",
      "Fixing data for DON2FlowActualRequest(%)\n",
      "Fixing data for DON2RangeAuto(%).Max\n",
      "Fixing data for DON2RangeAuto(%).Min\n",
      "Fixing data for DOO2ControlAlpha\n",
      "Fixing data for DOO2ControlBeta\n",
      "Fixing data for DOO2ControlGamma\n",
      "Fixing data for DOO2ControlLinearity\n",
      "Fixing data for DOO2ControlMag.DTime(min)\n",
      "Fixing data for DOO2ControlMag.ITime(min)\n",
      "Fixing data for DOO2ControlMag.PGain(%/%)\n",
      "Fixing data for DOO2FlowControllerRequestLimited(%)\n",
      "Fixing data for DOO2RangeAuto(%).Max\n",
      "Fixing data for DOO2RangeAuto(%).Min\n",
      "Fixing data for DOPV(%)\n",
      "Fixing data for DOSP(%)\n",
      "Fixing data for MainGasFeedback(LPM)\n",
      "Fixing data for MFCAirFlowFeedback(LPM)\n",
      "Fixing data for MFCCO2FlowFeedback(LPM)\n",
      "Fixing data for MFCN2FlowFeedback(LPM)\n",
      "Fixing data for MFCO2FlowFeedback(LPM)\n",
      "Fixing data for pHB\n",
      "Fixing data for pHPV\n",
      "Fixing data for TempPV(C)\n"
     ]
    }
   ],
   "source": [
    "c = cell_range(\"A1\")\n",
    "while True:\n",
    "    print(\"Fixing data for\", c.Value)\n",
    "    r = find_range(c)\n",
    "    v = r.Value\n",
    "    d = fix_data(v)\n",
    "    hr = cell_range(c, c.Offset(1,2))\n",
    "    header = hr.Value\n",
    "    r.Clear()\n",
    "    hr.Value = header\n",
    "    paste(d, c.Offset(2,1))\n",
    "    c = c.Offset(1, 4)\n",
    "    if c.Value == \"Start Time\":\n",
    "        break"
   ]
  },
  {
   "cell_type": "code",
   "execution_count": 91,
   "metadata": {
    "collapsed": false
   },
   "outputs": [],
   "source": [
    "cells = wb.Worksheets(\"100%\").Cells\n",
    "cell_range = cells.Range\n",
    "phxp_data = cell_range(\"CZ7\")\n",
    "diff_data = phxp_data.Offset(1,2)\n",
    "phxp = cell_range(\"CY2\")\n",
    "diff = cell_range(\"DB4\")\n",
    "with screen_lock(xl):\n",
    "    for i in range(30):\n",
    "        i /= 100\n",
    "        xp = 6+i\n",
    "        phxp.Value = xp\n",
    "        phxp_data.Value = xp\n",
    "        diff_data.Value = diff.Value\n",
    "        phxp_data = phxp_data.Offset(2,1)\n",
    "        diff_data = diff_data.Offset(2,1)"
   ]
  },
  {
   "cell_type": "markdown",
   "metadata": {
    "collapsed": true
   },
   "source": [
    "# pH Model Analysis 3/14/17"
   ]
  },
  {
   "cell_type": "code",
   "execution_count": 6,
   "metadata": {
    "collapsed": true
   },
   "outputs": [],
   "source": [
    "from officelib.xllib import *\n",
    "xl = Excel()"
   ]
  },
  {
   "cell_type": "code",
   "execution_count": 7,
   "metadata": {
    "collapsed": true
   },
   "outputs": [],
   "source": [
    "wb = xl.RecentFiles(2).Open()"
   ]
  },
  {
   "cell_type": "code",
   "execution_count": 9,
   "metadata": {
    "collapsed": true
   },
   "outputs": [],
   "source": [
    "ws = wb.Worksheets(\"40%\")\n",
    "cells = ws.Cells\n",
    "cell_range = cells.Range"
   ]
  },
  {
   "cell_type": "code",
   "execution_count": 18,
   "metadata": {
    "collapsed": false
   },
   "outputs": [
    {
     "name": "stdout",
     "output_type": "stream",
     "text": [
      "Testing fudge = 0.29"
     ]
    }
   ],
   "source": [
    "fudge = cell_range(\"CS2\")\n",
    "k = cell_range(\"DH5\")\n",
    "x = []\n",
    "y = []\n",
    "xl_nan = -2146826273\n",
    "with screen_lock(xl):\n",
    "    for i in range(30):\n",
    "        fudge.Value = i/100\n",
    "        v = k.Value\n",
    "        if v != xl_nan:\n",
    "            x.append(i/100)\n",
    "            y.append(v)\n",
    "        print(\"\\rTesting fudge = %.2f\" % (i/100), end=\"\")"
   ]
  },
  {
   "cell_type": "code",
   "execution_count": 19,
   "metadata": {
    "collapsed": false
   },
   "outputs": [
    {
     "name": "stdout",
     "output_type": "stream",
     "text": [
      "Using matplotlib backend: TkAgg\n"
     ]
    },
    {
     "data": {
      "text/plain": [
       "[<matplotlib.lines.Line2D at 0x1cca67a66d8>]"
      ]
     },
     "execution_count": 19,
     "metadata": {},
     "output_type": "execute_result"
    }
   ],
   "source": [
    "%matplotlib\n",
    "import matplotlib.pyplot as plt\n",
    "plt.plot(x,y)"
   ]
  },
  {
   "cell_type": "code",
   "execution_count": 38,
   "metadata": {
    "collapsed": false
   },
   "outputs": [],
   "source": [
    "c = xl.Selection\n",
    "br = c.Offset(len(y), 2)\n",
    "cell_range(c,br).Value = list(zip(x,y))"
   ]
  },
  {
   "cell_type": "code",
   "execution_count": 29,
   "metadata": {
    "collapsed": false
   },
   "outputs": [
    {
     "name": "stdout",
     "output_type": "stream",
     "text": [
      "Testing hcp = 0.024"
     ]
    }
   ],
   "source": [
    "hcpc = cell_range(\"DI3\")\n",
    "hcp = 3.4e-2\n",
    "x = []\n",
    "y = []\n",
    "for offs in range(11):\n",
    "    newv = hcp - offs/1000\n",
    "    hcpc.Value = newv\n",
    "    v = k.Value\n",
    "    if v != xl_nan:\n",
    "        x.append(newv)\n",
    "        y.append(-v)\n",
    "    print(\"\\rTesting hcp = %.3f\" % (newv), end=\"\")"
   ]
  },
  {
   "cell_type": "code",
   "execution_count": 26,
   "metadata": {
    "collapsed": false
   },
   "outputs": [
    {
     "data": {
      "text/plain": [
       "[<matplotlib.lines.Line2D at 0x1cca7476320>]"
      ]
     },
     "execution_count": 26,
     "metadata": {},
     "output_type": "execute_result"
    }
   ],
   "source": [
    "plt.plot(x,y)"
   ]
  },
  {
   "cell_type": "code",
   "execution_count": 37,
   "metadata": {
    "collapsed": false
   },
   "outputs": [],
   "source": [
    "import numpy as np\n",
    "bicarb = cell_range(\"DG3\")\n",
    "bicarbs = np.linspace(0.018, 0.026, 10)\n",
    "bicarb_value = bicarb.Value\n",
    "x,y = [],[]\n",
    "with screen_lock(xl):\n",
    "    for bc in bicarbs:\n",
    "        bicarb.Value = bc\n",
    "        v = k.Value\n",
    "        if v != xl_nan:\n",
    "            x.append(bc)\n",
    "            y.append(-v)\n",
    "    bicarb.Value = bicarb_value"
   ]
  },
  {
   "cell_type": "code",
   "execution_count": null,
   "metadata": {
    "collapsed": true
   },
   "outputs": [],
   "source": []
  }
 ],
 "metadata": {
  "kernelspec": {
   "display_name": "Python 3",
   "language": "python",
   "name": "python3"
  },
  "language_info": {
   "codemirror_mode": {
    "name": "ipython",
    "version": 3
   },
   "file_extension": ".py",
   "mimetype": "text/x-python",
   "name": "python",
   "nbconvert_exporter": "python",
   "pygments_lexer": "ipython3",
   "version": "3.5.2"
  }
 },
 "nbformat": 4,
 "nbformat_minor": 1
}
