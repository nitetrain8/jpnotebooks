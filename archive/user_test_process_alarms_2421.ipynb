{
 "cells": [
  {
   "cell_type": "code",
   "execution_count": 2,
   "metadata": {
    "collapsed": true
   },
   "outputs": [],
   "source": [
    "from hello.hello import *"
   ]
  },
  {
   "cell_type": "code",
   "execution_count": 3,
   "metadata": {
    "collapsed": false
   },
   "outputs": [],
   "source": [
    "alarms = [\n",
    "    \"%s_Low_Low%s\",\n",
    "    \"%s_Low%s\",\n",
    "    \"%s_High%s\",\n",
    "    \"%s_High_High%s\",\n",
    "]\n",
    "\n",
    "\n",
    "def mk_alrm(grp, unit, templates):\n",
    "    if unit:\n",
    "        unit = \"_(%s)\" % unit\n",
    "    return [t % (grp, unit) for t in templates]\n",
    "\n"
   ]
  },
  {
   "cell_type": "code",
   "execution_count": 13,
   "metadata": {
    "collapsed": false
   },
   "outputs": [],
   "source": [
    "from time import sleep\n",
    "\n",
    "\n",
    "def test_alarm(app, alrm, pv, offset):\n",
    "    app.login()\n",
    "    app.setconfig(\"Process_Alarms\", alrm, pv + offset)\n",
    "    \n",
    "    \n",
    "def restore_alarm(app, alrm, cfg):\n",
    "    app.login()\n",
    "    app.setconfig(\"Process_Alarms\", alrm, cfg[alrm])\n",
    "\n",
    "def test_alarm_group(app, alrm_grp, unit, mv_func, cfg):\n",
    "    alrms = mk_alrm(alrm_grp, unit, alarms)\n",
    "    offsets = (20, 10, -10, -20)\n",
    "    exp_code = 90, 40, 50, 100\n",
    "    tests = zip(alrms, offsets, exp_code)\n",
    "    \n",
    "    for a, o, c in tests:\n",
    "        while mv_func()['error'] != 0: \n",
    "            sleep(0.1)\n",
    "        \n",
    "        num_alarms = app.getUnAckCount()\n",
    "        test_alarm(app, a, mv_func()['pv'], o)\n",
    "        \n",
    "        while mv_func()['error'] == 0 or app.getUnAckCount() <= num_alarms: \n",
    "            sleep(0.1)\n",
    "        \n",
    "        e = mv_func()['error']\n",
    "        res = 'pass' if c == e else 'fail'\n",
    "        print(a, 'error:', e, \"...\", res)\n",
    "        restore_alarm(app, a, cfg)\n",
    "        \n",
    "    print(\"Done\")\n",
    "\n",
    "def announce_set_config(app, alrm, cfg):\n",
    "    app.login()\n",
    "    print(\"\\rSetting config:\", a, cfg[a], \"                \",end=\"\")\n",
    "    app.setconfig('Process_Alarms', a, cfg[a])\n",
    "    \n",
    "def test_grp(app, grp, unit, mv_grp, cfg):\n",
    "    for a in mk_alrm(grp, unit, alarms):\n",
    "        announce_set_config(app, a, cfg)\n",
    "    print(\"\\r                                  \\r\", end=\"\")\n",
    "    f = lambda: app.gpmv()[mv_grp]\n",
    "    test_alarm_group(app, grp, unit, f, cfg)"
   ]
  },
  {
   "cell_type": "code",
   "execution_count": 11,
   "metadata": {
    "collapsed": false
   },
   "outputs": [],
   "source": [
    "def run_test(app, groups, cfg):\n",
    "    for g, u, mvg in groups:\n",
    "        print(\"Testing\", g)\n",
    "        test_grp(app, g, u, mvg, cfg)"
   ]
  },
  {
   "cell_type": "code",
   "execution_count": 9,
   "metadata": {
    "collapsed": true
   },
   "outputs": [],
   "source": [
    "groups = (\n",
    "     ('Agitation', 'RPM', 'agitation'),\n",
    "     ('DO', '%', 'do'),\n",
    "     ('Filter_Oven', 'C', 'condenser'),\n",
    "     ('Pressure', 'psi', 'pressure'),\n",
    "     ('Temp', 'C', 'temperature'),\n",
    "     ('Total_Gas', 'LPM', 'maingas'),\n",
    "     ('pH', '', 'ph'),\n",
    "     ('Level', 'L', 'level')\n",
    ")\n",
    "stuff = (\"Agitation\", \"RPM\"), (\"DO\", \"%\"), (\"Filter_Oven\", \"C\"),\\\n",
    "        (\"Pressure\", \"psi\"), (\"Temp\", \"C\"), (\"Total_Gas\", \"LPM\"),\\\n",
    "        (\"pH\", \"\")\n",
    "alrms = [mk_alrm(g, u, alarms) for g, u in stuff]\n",
    "app = open_hello('71.189.82.196:6')\n",
    "cfg = app.getConfig()['Process_Alarms']\n",
    "assert all(k in cfg for g in alrms for k in g)"
   ]
  },
  {
   "cell_type": "code",
   "execution_count": 15,
   "metadata": {
    "collapsed": false
   },
   "outputs": [
    {
     "name": "stdout",
     "output_type": "stream",
     "text": [
      "Testing Level\n",
      "Level_Low_Low_(L) error: 90 ... pass\n",
      "Level_Low_(L) error: 40 ... pass\n",
      "Level_High_(L) error: 50 ... pass\n",
      "Level_High_High_(L) error: 100 ... pass\n",
      "Done\n",
      "Testing Total_Gas\n",
      "Total_Gas_Low_Low_(LPM) error: 90 ... pass\n",
      "Total_Gas_Low_(LPM) error: 40 ... pass\n",
      "Total_Gas_High_(LPM) error: 50 ... pass\n",
      "Total_Gas_High_High_(LPM) error: 100 ... pass\n",
      "Done\n"
     ]
    }
   ],
   "source": [
    "run_test(app, groups, cfg)"
   ]
  },
  {
   "cell_type": "code",
   "execution_count": null,
   "metadata": {
    "collapsed": true
   },
   "outputs": [],
   "source": []
  }
 ],
 "metadata": {
  "kernelspec": {
   "display_name": "Python 3",
   "language": "python",
   "name": "python3"
  }
 },
 "nbformat": 4,
 "nbformat_minor": 0
}
