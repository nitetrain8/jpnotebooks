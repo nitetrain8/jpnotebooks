{
 "cells": [
  {
   "cell_type": "code",
   "execution_count": 24,
   "metadata": {
    "collapsed": true
   },
   "outputs": [],
   "source": [
    "from hello.hello3 import HelloApp, NotLoggedInError\n",
    "from time import sleep\n",
    "import time"
   ]
  },
  {
   "cell_type": "code",
   "execution_count": 4,
   "metadata": {
    "collapsed": false
   },
   "outputs": [
    {
     "data": {
      "text/plain": [
       "<hello.hello3.HelloXML at 0x16e7f97e630>"
      ]
     },
     "execution_count": 4,
     "metadata": {},
     "output_type": "execute_result"
    }
   ],
   "source": [
    "h = HelloApp(\"71.189.82.196:88\")\n",
    "h.login()\n",
    "h.setag(0, 15)"
   ]
  },
  {
   "cell_type": "code",
   "execution_count": 9,
   "metadata": {
    "collapsed": true
   },
   "outputs": [],
   "source": [
    "def _bn():\n",
    "    i = 4\n",
    "    while True:\n",
    "        yield \"ph 1.%d\"%i\n",
    "        i += 1\n",
    "bn = _bn().__next__"
   ]
  },
  {
   "cell_type": "code",
   "execution_count": 20,
   "metadata": {
    "collapsed": true
   },
   "outputs": [],
   "source": [
    "def call(f, *args):\n",
    "    print(\"Calling \", f.__name__, repr(args), sep=\"\")\n",
    "    for i in range(100):\n",
    "        try:\n",
    "            return f(*args)\n",
    "        except NotLoggedInError:\n",
    "            h.login()\n",
    "        except Exception as e:\n",
    "            print(repr(e))"
   ]
  },
  {
   "cell_type": "code",
   "execution_count": 25,
   "metadata": {
    "collapsed": false
   },
   "outputs": [
    {
     "name": "stdout",
     "output_type": "stream",
     "text": [
      "Calling batchrunning()\n",
      "Calling endbatch()\n",
      "Calling setph(0, 7.3)\n",
      "Calling startbatch('ph 1.11',)\n",
      "Calling endbatch()\n",
      "Calling setph(0, 7.5)\n",
      "Calling startbatch('ph 1.12',)\n",
      "Calling endbatch()\n",
      "Calling setph(0, 7.3)\n",
      "Calling startbatch('ph 1.13',)\n",
      "Calling endbatch()\n",
      "Calling setph(2, 0, 0)\n"
     ]
    },
    {
     "data": {
      "text/plain": [
       "<hello.hello3.HelloXML at 0x16e000ae978>"
      ]
     },
     "execution_count": 25,
     "metadata": {},
     "output_type": "execute_result"
    }
   ],
   "source": [
    "hour = 3600\n",
    "h.login()\n",
    "if call(h.batchrunning):\n",
    "    call(h.endbatch)\n",
    "call(h.setph, 0, 7.3)\n",
    "call(h.startbatch, bn())\n",
    "time.sleep(8*hour)\n",
    "call(h.endbatch)\n",
    "call(h.setph, 0, 7.5)\n",
    "call(h.startbatch, bn())\n",
    "time.sleep(10*hour)\n",
    "call(h.endbatch)\n",
    "call(h.setph, 0, 7.3)\n",
    "call(h.startbatch, bn())\n",
    "time.sleep(10*hour)\n",
    "call(h.endbatch)\n",
    "call(h.setph, 2, 0, 0)"
   ]
  },
  {
   "cell_type": "code",
   "execution_count": 26,
   "metadata": {
    "collapsed": true
   },
   "outputs": [],
   "source": [
    "import clipboard\n",
    "s = clipboard.paste()\n",
    "s = repr(s)\n",
    "clipboard.copy(s)"
   ]
  },
  {
   "cell_type": "code",
   "execution_count": 28,
   "metadata": {
    "collapsed": false
   },
   "outputs": [
    {
     "name": "stdout",
     "output_type": "stream",
     "text": [
      "Downloading ph 1.11 ...  Done\n",
      "Downloading ph 1.12 ...  Done\n",
      "Downloading ph 1.13 ...  Done\n"
     ]
    }
   ],
   "source": [
    "path = 'C:\\\\PBSCloudStation\\\\(2) R&D-Product Engineering\\\\Software Development\\\\3.0 Project\\\\Phase 2 Working Copy\\\\PID Tuning\\\\pH\\\\Raw Data\\\\'\n",
    "batches = ['ph 1.11', 'ph 1.12', 'ph 1.13']\n",
    "h.login()\n",
    "for b in batches:\n",
    "    print(\"Downloading\", b, \"...\", end=\" \")\n",
    "    s = h.getdatareport_bybatchname(b)\n",
    "    fp = path + b + \" 170410.csv\"\n",
    "    with open(fp, 'wb') as f:\n",
    "        f.write(s)\n",
    "    print(\" Done\")"
   ]
  },
  {
   "cell_type": "code",
   "execution_count": 162,
   "metadata": {
    "collapsed": true
   },
   "outputs": [],
   "source": [
    "from officelib.xllib import *\n",
    "xl = Excel()"
   ]
  },
  {
   "cell_type": "code",
   "execution_count": 159,
   "metadata": {
    "collapsed": false
   },
   "outputs": [
    {
     "ename": "AttributeError",
     "evalue": "'<win32com.gen_py.Microsoft Excel 12.0 Object Library.Axis instance at 0x1572034292872>' object has no attribute 'Value'",
     "output_type": "error",
     "traceback": [
      "\u001b[0;31m---------------------------------------------------------------------------\u001b[0m",
      "\u001b[0;31mAttributeError\u001b[0m                            Traceback (most recent call last)",
      "\u001b[0;32m<ipython-input-159-0c072ced825a>\u001b[0m in \u001b[0;36m<module>\u001b[0;34m()\u001b[0m\n\u001b[0;32m----> 1\u001b[0;31m \u001b[0mphx\u001b[0m\u001b[1;33m,\u001b[0m \u001b[0mphy\u001b[0m \u001b[1;33m=\u001b[0m \u001b[0mlist\u001b[0m\u001b[1;33m(\u001b[0m\u001b[0mzip\u001b[0m\u001b[1;33m(\u001b[0m\u001b[1;33m*\u001b[0m\u001b[0mxl\u001b[0m\u001b[1;33m.\u001b[0m\u001b[0mSelection\u001b[0m\u001b[1;33m.\u001b[0m\u001b[0mValue\u001b[0m\u001b[1;33m)\u001b[0m\u001b[1;33m)\u001b[0m\u001b[1;33m\u001b[0m\u001b[0m\n\u001b[0m",
      "\u001b[0;32mc:\\program files\\python35\\lib\\site-packages\\win32com\\client\\__init__.py\u001b[0m in \u001b[0;36m__getattr__\u001b[0;34m(self, attr)\u001b[0m\n\u001b[1;32m    463\u001b[0m                 \u001b[0margs\u001b[0m\u001b[1;33m=\u001b[0m\u001b[0mself\u001b[0m\u001b[1;33m.\u001b[0m\u001b[0m_prop_map_get_\u001b[0m\u001b[1;33m.\u001b[0m\u001b[0mget\u001b[0m\u001b[1;33m(\u001b[0m\u001b[0mattr\u001b[0m\u001b[1;33m)\u001b[0m\u001b[1;33m\u001b[0m\u001b[0m\n\u001b[1;32m    464\u001b[0m                 \u001b[1;32mif\u001b[0m \u001b[0margs\u001b[0m \u001b[1;32mis\u001b[0m \u001b[1;32mNone\u001b[0m\u001b[1;33m:\u001b[0m\u001b[1;33m\u001b[0m\u001b[0m\n\u001b[0;32m--> 465\u001b[0;31m                         \u001b[1;32mraise\u001b[0m \u001b[0mAttributeError\u001b[0m\u001b[1;33m(\u001b[0m\u001b[1;34m\"'%s' object has no attribute '%s'\"\u001b[0m \u001b[1;33m%\u001b[0m \u001b[1;33m(\u001b[0m\u001b[0mrepr\u001b[0m\u001b[1;33m(\u001b[0m\u001b[0mself\u001b[0m\u001b[1;33m)\u001b[0m\u001b[1;33m,\u001b[0m \u001b[0mattr\u001b[0m\u001b[1;33m)\u001b[0m\u001b[1;33m)\u001b[0m\u001b[1;33m\u001b[0m\u001b[0m\n\u001b[0m\u001b[1;32m    466\u001b[0m                 \u001b[1;32mreturn\u001b[0m \u001b[0mself\u001b[0m\u001b[1;33m.\u001b[0m\u001b[0m_ApplyTypes_\u001b[0m\u001b[1;33m(\u001b[0m\u001b[1;33m*\u001b[0m\u001b[0margs\u001b[0m\u001b[1;33m)\u001b[0m\u001b[1;33m\u001b[0m\u001b[0m\n\u001b[1;32m    467\u001b[0m \u001b[1;33m\u001b[0m\u001b[0m\n",
      "\u001b[0;31mAttributeError\u001b[0m: '<win32com.gen_py.Microsoft Excel 12.0 Object Library.Axis instance at 0x1572034292872>' object has no attribute 'Value'"
     ]
    }
   ],
   "source": [
    "phx, phy = list(zip(*xl.Selection.Value))"
   ]
  },
  {
   "cell_type": "code",
   "execution_count": 160,
   "metadata": {
    "collapsed": false
   },
   "outputs": [
    {
     "data": {
      "text/plain": [
       "'15L ph 1.3 170410.xlsx'"
      ]
     },
     "execution_count": 160,
     "metadata": {},
     "output_type": "execute_result"
    }
   ],
   "source": [
    "xl.ActiveWorkbook.Name"
   ]
  },
  {
   "cell_type": "code",
   "execution_count": null,
   "metadata": {
    "collapsed": true
   },
   "outputs": [],
   "source": []
  }
 ],
 "metadata": {
  "kernelspec": {
   "display_name": "Python 3",
   "language": "python",
   "name": "python3"
  },
  "language_info": {
   "codemirror_mode": {
    "name": "ipython",
    "version": 3
   },
   "file_extension": ".py",
   "mimetype": "text/x-python",
   "name": "python",
   "nbconvert_exporter": "python",
   "pygments_lexer": "ipython3",
   "version": "3.5.2"
  }
 },
 "nbformat": 4,
 "nbformat_minor": 1
}
