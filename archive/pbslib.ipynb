{
 "cells": [
  {
   "cell_type": "code",
   "execution_count": 19,
   "metadata": {
    "collapsed": false
   },
   "outputs": [
    {
     "data": {
      "text/plain": [
       "\" PbsLib: Utilities for interacting with PBS's \\ndata reports through Excel using win32com. \""
      ]
     },
     "execution_count": 19,
     "metadata": {},
     "output_type": "execute_result"
    }
   ],
   "source": [
    "\"\"\" PbsLib: Utilities for interacting with PBS's \n",
    "data reports through Excel using win32com. \"\"\""
   ]
  },
  {
   "cell_type": "code",
   "execution_count": null,
   "metadata": {
    "collapsed": false
   },
   "outputs": [],
   "source": [
    "from officelib.xllib import xlcom\n",
    "from officelib import const as xlc\n",
    "\n",
    "class DataReport():\n",
    "    \n",
    "    def __init__(self, filename=None, xl=None, wb=None):\n",
    "        self.filename = filename\n",
    "        \n",
    "        if xl is None:\n",
    "            if wb is None:\n",
    "                xl = xlcom.Excel()\n",
    "            else:\n",
    "                xl = wb.Application\n",
    "        if wb is None:\n",
    "            wb = xlcom.xlBook2(filename, xl=xl)\n",
    "        \n",
    "        self.xl = xl\n",
    "        self.wb = wb\n",
    "        \n",
    "        self.ws = wb.Worksheets(1)\n",
    "        self.cells = ws.Cells\n",
    "        self.header_row = 1\n",
    "        self.first_col = 1\n",
    "\n",
    "    def cell_range(self, c1, c2):\n",
    "        return self.cells.Range(c1, c2)\n",
    "    \n",
    "\n",
    "class Data():\n",
    "    def __init__(self, ws, header_cell):\n",
    "        self.header = header_cell\n",
    "        self.xl = ws.Application\n",
    "        self.ws = ws\n",
    "        self.cells = ws.Cells\n",
    "        self.cr = ws.Cells.Range\n",
    "        self.xs = header_cell.Offset(2, 1)\n",
    "        self.ys = self.xs.Offset(1, 2)\n",
    "        self.rows = None\n",
    "    \n",
    "    def _get_data(self, c, rows=None):\n",
    "        if rows is None:\n",
    "            return self.cr(c, c.End(xlc.xlDown))\n",
    "        else:\n",
    "            return self.cr(c, c.Offset(rows, 1))\n",
    "    \n",
    "    @property\n",
    "    def x(self):\n",
    "        return self._get_data(self.x, self.rows)\n",
    "        \n",
    "    def \n",
    "        "
   ]
  },
  {
   "cell_type": "code",
   "execution_count": null,
   "metadata": {
    "collapsed": false
   },
   "outputs": [],
   "source": [
    "xl = xlcom.Excel()\n",
    "wb = xl.Workbooks.Add()\n",
    "ws = wb.Worksheets(1)\n",
    "cells = ws.Cells"
   ]
  },
  {
   "cell_type": "code",
   "execution_count": null,
   "metadata": {
    "collapsed": true
   },
   "outputs": [],
   "source": [
    "cells.Range()b"
   ]
  },
  {
   "cell_type": "code",
   "execution_count": null,
   "metadata": {
    "collapsed": false
   },
   "outputs": [],
   "source": [
    "ws._prop_map_get_.keys()"
   ]
  },
  {
   "cell_type": "code",
   "execution_count": null,
   "metadata": {
    "collapsed": true
   },
   "outputs": [],
   "source": []
  }
 ],
 "metadata": {
  "kernelspec": {
   "display_name": "Python 3",
   "language": "python",
   "name": "python3"
  },
  "language_info": {
   "codemirror_mode": {
    "name": "ipython",
    "version": 3
   },
   "file_extension": ".py",
   "mimetype": "text/x-python",
   "name": "python",
   "nbconvert_exporter": "python",
   "pygments_lexer": "ipython3",
   "version": "3.5.2"
  }
 },
 "nbformat": 4,
 "nbformat_minor": 0
}
