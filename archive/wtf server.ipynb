{
 "cells": [
  {
   "cell_type": "code",
   "execution_count": 20,
   "metadata": {
    "collapsed": true
   },
   "outputs": [],
   "source": [
    "from hello.hello3 import HelloApp"
   ]
  },
  {
   "cell_type": "code",
   "execution_count": 21,
   "metadata": {
    "collapsed": true
   },
   "outputs": [],
   "source": [
    "h = HelloApp('71.189.82.196:82')"
   ]
  },
  {
   "cell_type": "code",
   "execution_count": 3,
   "metadata": {
    "collapsed": true
   },
   "outputs": [],
   "source": [
    "import time\n",
    "time.sleep(1)\n",
    "mode=0\n",
    "val=37\n",
    "s1 = h.send_request(\"?&call=set&group=temperature&mode=%s&val1=%s\" % (2, 25)).content\n",
    "h.login()\n",
    "s2 = h.send_request(\"?&call=set&group=temperature&mode=%s&val1=%s\" % (0, 37)).content"
   ]
  },
  {
   "cell_type": "code",
   "execution_count": 4,
   "metadata": {},
   "outputs": [
    {
     "name": "stdout",
     "output_type": "stream",
     "text": [
      "0 37\n"
     ]
    }
   ],
   "source": [
    "tmp=h.gpmv()['temperature']\n",
    "rm, rs = tmp['mode'], tmp['sp']\n",
    "print(rm,rs)"
   ]
  },
  {
   "cell_type": "code",
   "execution_count": 112,
   "metadata": {},
   "outputs": [
    {
     "data": {
      "text/plain": [
       "{'Message': '', 'Result': True}"
      ]
     },
     "execution_count": 112,
     "metadata": {},
     "output_type": "execute_result"
    }
   ],
   "source": [
    "h.login()"
   ]
  },
  {
   "cell_type": "code",
   "execution_count": 35,
   "metadata": {},
   "outputs": [
    {
     "name": "stdout",
     "output_type": "stream",
     "text": [
      "<?xml version=\"1.0\" encoding=\"windows-1252\" standalone=\"no\" ?>\n",
      "<Reply>\n",
      "<Result>True</Result>\n",
      "<Message>True</Message>\n",
      "</Reply>\n",
      "\n",
      "<?xml version=\"1.0\" encoding=\"windows-1252\" standalone=\"no\" ?>\n",
      "<Reply>\n",
      "<Result>True</Result>\n",
      "<Message>True</Message>\n",
      "</Reply>\n"
     ]
    }
   ],
   "source": [
    "print(s1.decode())\n",
    "print()\n",
    "print(s2.decode())"
   ]
  },
  {
   "cell_type": "code",
   "execution_count": 42,
   "metadata": {},
   "outputs": [
    {
     "name": "stdout",
     "output_type": "stream",
     "text": [
      "2 37\n"
     ]
    }
   ],
   "source": [
    "#res=h.settemp(2, 25)\n",
    "res = h.send_request(\"?&call=set&group=temperature&mode=%s&val1=%s\" % (2, 25)).content\n",
    "tmp=h.gpmv()['temperature']\n",
    "rm, rs = tmp['mode'], tmp['sp']\n",
    "print(rm,rs)"
   ]
  },
  {
   "cell_type": "code",
   "execution_count": 45,
   "metadata": {},
   "outputs": [
    {
     "name": "stdout",
     "output_type": "stream",
     "text": [
      "2 37\n"
     ]
    }
   ],
   "source": [
    "#h.settemp(0, 37)\n",
    "res = h.send_request(\"?&call=set&group=temperature&mode=%s&val1=%s\" % (0, 25)).content\n",
    "tmp=h.gpmv()['temperature']\n",
    "rm, rs = tmp['mode'], tmp['sp']\n",
    "print(rm,rs)"
   ]
  },
  {
   "cell_type": "code",
   "execution_count": 48,
   "metadata": {},
   "outputs": [
    {
     "name": "stdout",
     "output_type": "stream",
     "text": [
      "0 25\n"
     ]
    }
   ],
   "source": [
    "tmp=h.gpmv()['temperature']\n",
    "rm, rs = tmp['mode'], tmp['sp']\n",
    "print(rm,rs)"
   ]
  },
  {
   "cell_type": "code",
   "execution_count": null,
   "metadata": {
    "collapsed": true
   },
   "outputs": [],
   "source": []
  }
 ],
 "metadata": {
  "kernelspec": {
   "display_name": "Python 3",
   "language": "python",
   "name": "python3"
  },
  "language_info": {
   "codemirror_mode": {
    "name": "ipython",
    "version": 3
   },
   "file_extension": ".py",
   "mimetype": "text/x-python",
   "name": "python",
   "nbconvert_exporter": "python",
   "pygments_lexer": "ipython3",
   "version": "3.5.2"
  }
 },
 "nbformat": 4,
 "nbformat_minor": 2
}
