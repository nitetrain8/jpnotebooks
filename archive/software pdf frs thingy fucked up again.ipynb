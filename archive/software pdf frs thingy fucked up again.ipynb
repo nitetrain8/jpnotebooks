{
 "cells": [
  {
   "cell_type": "code",
   "execution_count": 1,
   "metadata": {
    "collapsed": false
   },
   "outputs": [
    {
     "name": "stdout",
     "output_type": "stream",
     "text": [
      "Begin Main\n",
      "\n",
      "Logging into Issuetracker...Downloading projects...\n",
      "Downloading issues: 489/489      \n",
      "\n",
      "Got update: PGS_BEGIN_PROCESS_PDFS \n",
      "Creating PDF Index...\n",
      "Creating Word Document...\n",
      "Creating index 14 of 14                    \n",
      "Got update: PGS_IPG_FLAG_WAITING \n",
      "Empty Queue, exiting download worker #1\n",
      "Empty Queue, exiting download worker #2\n",
      "Empty Queue, exiting download worker #4\n",
      "Empty Queue, exiting download worker #3\n",
      "Empty Queue, exiting download worker #7\n",
      "Empty Queue, exiting download worker #6\n",
      "Empty Queue, exiting download worker #5\n",
      "Empty Queue, exiting download worker #0\n",
      "Downloading (14/14)                    \n",
      "Got update: MPD_ALL_COMPLETE \n",
      "Got update: PGS_PDFTK_INFO_BEGIN \n",
      "Getting PDF Page Info (14/14)\n",
      "Got update: PGS_PDFTK_INFO_DONE \n",
      "Got update: PGS_PROCESS_PDFS_DONE \n",
      "Got update: PGS_PREPARE_POSTSCRIPT \n",
      "Got update: PGS_BEGIN_BIND_PDF \n",
      "Got update: PGS_DONE \n",
      "Done\n"
     ]
    }
   ],
   "source": [
    "from scripts.tools.issuetracker.frs_update import main\n",
    "import shutil\n",
    "import datetime\n",
    "\n",
    "def bt():\n",
    "    return datetime.date.today().strftime(\"%y%m%d\")\n",
    "    \n",
    "pdfpth = \"Software_FRS_\" + bt()\n",
    "\n",
    "try:\n",
    "    shutil.rmtree(pdfpth)\n",
    "except FileNotFoundError:\n",
    "    pass\n",
    "print(\"Begin Main\", flush=True)\n",
    "res = main(\"issue.pbsbiotech.com\", 'nstarkweather', 'kookychemist', 'pbssoftware', \"3/2/2017\",\n",
    "     \"today\", 'Hello v3.0 FRS Update', pdfpth, \"FRS Update\", \n",
    "     \"IS00038C2 Rev A Functional Requirements Specification\")\n",
    "#os.startfile('\"%s\"'%res)\n",
    "print()\n",
    "print(\"Done\")"
   ]
  },
  {
   "cell_type": "code",
   "execution_count": 2,
   "metadata": {
    "collapsed": false
   },
   "outputs": [],
   "source": [
    "os.startfile('\"%s\"'%res)"
   ]
  },
  {
   "cell_type": "code",
   "execution_count": null,
   "metadata": {
    "collapsed": true
   },
   "outputs": [],
   "source": []
  }
 ],
 "metadata": {
  "kernelspec": {
   "display_name": "Python 3",
   "language": "python",
   "name": "python3"
  },
  "language_info": {
   "codemirror_mode": {
    "name": "ipython",
    "version": 3
   },
   "file_extension": ".py",
   "mimetype": "text/x-python",
   "name": "python",
   "nbconvert_exporter": "python",
   "pygments_lexer": "ipython3",
   "version": "3.5.2"
  }
 },
 "nbformat": 4,
 "nbformat_minor": 1
}
