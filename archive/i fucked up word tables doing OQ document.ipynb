{
 "cells": [
  {
   "cell_type": "code",
   "execution_count": 1,
   "metadata": {},
   "outputs": [],
   "source": [
    "from officelib.wordlib import Word, c"
   ]
  },
  {
   "cell_type": "code",
   "execution_count": 5,
   "metadata": {},
   "outputs": [],
   "source": [
    "w = Word()\n",
    "d = w.RecentFiles(1).Open()"
   ]
  },
  {
   "cell_type": "code",
   "execution_count": 16,
   "metadata": {},
   "outputs": [],
   "source": [
    "def fixborder(t, b, ls, lw):\n",
    "    bo = t.Borders(b)\n",
    "    bo.LineStyle = ls\n",
    "    bo.LineWidth = lw\n",
    "    bo.Color = c.wdColorAutomatic\n",
    "\n",
    "def fixtable(t):\n",
    "    t.Borders(c.wdBorderTop).LineStyle = c.wdLineStyleNone\n",
    "    t.Borders(c.wdBorderLeft).LineStyle = c.wdLineStyleNone\n",
    "    t.Borders(c.wdBorderBottom).LineStyle = c.wdLineStyleNone\n",
    "    t.Borders(c.wdBorderRight).LineStyle = c.wdLineStyleNone\n",
    "    t.Borders(c.wdBorderHorizontal).LineStyle = c.wdLineStyleNone\n",
    "    t.Borders(c.wdBorderVertical).LineStyle = c.wdLineStyleNone\n",
    "    t.Borders(c.wdBorderDiagonalDown).LineStyle = c.wdLineStyleNone\n",
    "    t.Borders(c.wdBorderDiagonalUp).LineStyle = c.wdLineStyleNone\n",
    "    \n",
    "    fixborder(t, c.wdBorderLeft, c.wdLineStyleDouble, c.wdLineWidth050pt)\n",
    "    fixborder(t, c.wdBorderRight, c.wdLineStyleDouble, c.wdLineWidth050pt)\n",
    "    fixborder(t, c.wdBorderTop, c.wdLineStyleDouble, c.wdLineWidth050pt)\n",
    "    fixborder(t, c.wdBorderBottom, c.wdLineStyleDouble, c.wdLineWidth050pt)\n",
    "    \n",
    "    fixborder(t, c.wdBorderHorizontal, c.wdLineStyleSingle, c.wdLineWidth050pt)\n",
    "    fixborder(t, c.wdBorderVertical, c.wdLineStyleSingle, c.wdLineWidth050pt)\n",
    "    \n",
    "def tables(d):\n",
    "    return enumerate(d.Tables, 1)"
   ]
  },
  {
   "cell_type": "code",
   "execution_count": 11,
   "metadata": {},
   "outputs": [
    {
     "name": "stdout",
     "output_type": "stream",
     "text": [
      "1\n",
      "2\n",
      "3\n",
      "4\n",
      "5\n",
      "6\n",
      "7\n",
      "8\n",
      "9\n",
      "10\n",
      "11\n",
      "12\n",
      "13\n",
      "14\n",
      "15\n",
      "16\n",
      "17\n",
      "18\n",
      "19\n"
     ]
    }
   ],
   "source": [
    "for i, t in tables(d):\n",
    "    print(i)\n",
    "    fixtable(t)"
   ]
  },
  {
   "cell_type": "code",
   "execution_count": 17,
   "metadata": {},
   "outputs": [],
   "source": [
    "for i, t in tables(d):\n",
    "    if i == 14: continue\n",
    "    t.Rows(1).Range.Font.Bold = True"
   ]
  },
  {
   "cell_type": "code",
   "execution_count": 14,
   "metadata": {},
   "outputs": [
    {
     "data": {
      "text/plain": [
       "dict_keys(['Duplicate', 'SizeBi', 'BoldBi', 'Shading', 'NameOther', 'EmphasisMark', 'Italic', 'Size', 'DoubleStrikeThrough', 'ColorIndex', 'Creator', 'Kerning', 'Bold', 'Parent', 'StrikeThrough', 'Engrave', 'Position', 'Outline', 'Animation', 'Application', 'Spacing', 'NameBi', 'SmallCaps', 'Borders', 'Underline', 'Shadow', 'NameFarEast', 'Hidden', 'NameAscii', 'Superscript', 'AllCaps', 'DisableCharacterSpaceGrid', 'DiacriticColor', 'Scaling', 'ColorIndexBi', 'ItalicBi', 'Emboss', 'UnderlineColor', 'Color', 'Subscript', 'Name'])"
      ]
     },
     "execution_count": 14,
     "metadata": {},
     "output_type": "execute_result"
    }
   ],
   "source": [
    "t.Rows(1).Range.Font._prop_map_get_.keys()"
   ]
  },
  {
   "cell_type": "code",
   "execution_count": null,
   "metadata": {},
   "outputs": [],
   "source": []
  }
 ],
 "metadata": {
  "kernelspec": {
   "display_name": "Python 3",
   "language": "python",
   "name": "python3"
  },
  "language_info": {
   "codemirror_mode": {
    "name": "ipython",
    "version": 3
   },
   "file_extension": ".py",
   "mimetype": "text/x-python",
   "name": "python",
   "nbconvert_exporter": "python",
   "pygments_lexer": "ipython3",
   "version": "3.5.2"
  }
 },
 "nbformat": 4,
 "nbformat_minor": 2
}
