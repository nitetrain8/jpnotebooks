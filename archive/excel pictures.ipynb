{
 "cells": [
  {
   "cell_type": "code",
   "execution_count": 14,
   "metadata": {
    "collapsed": true
   },
   "outputs": [],
   "source": [
    "from officelib.xllib import *\n",
    "import os"
   ]
  },
  {
   "cell_type": "code",
   "execution_count": 5,
   "metadata": {
    "collapsed": false
   },
   "outputs": [],
   "source": [
    "xl = Excel()"
   ]
  },
  {
   "cell_type": "code",
   "execution_count": 8,
   "metadata": {
    "collapsed": false
   },
   "outputs": [],
   "source": [
    "wb = xl.RecentFiles(1).Open()"
   ]
  },
  {
   "cell_type": "code",
   "execution_count": 10,
   "metadata": {
    "collapsed": false
   },
   "outputs": [],
   "source": [
    "ws2 = wb.Worksheets(2)"
   ]
  },
  {
   "cell_type": "code",
   "execution_count": 20,
   "metadata": {
    "collapsed": false
   },
   "outputs": [],
   "source": [
    "pth = \"C:\\\\Users\\\\PBS Biotech\\\\Pictures\\\\harvest valve\"\n",
    "def j(f): return os.path.join(pth, f)\n",
    "imgs = [j(f) for f in os.listdir(pth)]"
   ]
  },
  {
   "cell_type": "code",
   "execution_count": 24,
   "metadata": {
    "collapsed": false
   },
   "outputs": [],
   "source": [
    "xlimgs = [ws2.Pictures().Insert(i) for i in imgs]"
   ]
  },
  {
   "cell_type": "code",
   "execution_count": 69,
   "metadata": {
    "collapsed": false
   },
   "outputs": [],
   "source": [
    "l = 0\n",
    "height = 200\n",
    "per_row = 3\n",
    "ypad = ws2.Rows(1).Height * 2 \n",
    "ytop = ws2.Rows(1).Height * 2+3\n",
    "xpad = 30\n",
    "for n, i in enumerate(xlimgs):\n",
    "    h = i.Height\n",
    "    w = i.Width\n",
    "    r = h / w\n",
    "    i.Height = height\n",
    "    w = height / r\n",
    "    i.Left = (l+xpad) * (n % per_row)\n",
    "    l = w\n",
    "    i.Top = ytop + n // per_row * (height+ypad)\n",
    "    "
   ]
  },
  {
   "cell_type": "code",
   "execution_count": 104,
   "metadata": {
    "collapsed": true
   },
   "outputs": [],
   "source": [
    "def import_img(p):\n",
    "    p = os.path.abspath(p)\n",
    "    n = os.path.basename(p)\n",
    "    i = ws2.Pictures().Insert(p)\n",
    "    i.Name = n\n",
    "    i.Height = height\n",
    "    return i"
   ]
  },
  {
   "cell_type": "code",
   "execution_count": 48,
   "metadata": {
    "collapsed": false
   },
   "outputs": [],
   "source": [
    "for i, n in zip(xlimgs, imgs):\n",
    "    i.Name = os.path.basename(n)"
   ]
  },
  {
   "cell_type": "code",
   "execution_count": 68,
   "metadata": {
    "collapsed": false
   },
   "outputs": [
    {
     "name": "stdout",
     "output_type": "stream",
     "text": [
      "HV 2 turns left overnight pre-fill.JPG\n",
      "HV 2 turns left overnight start of test.JPG\n",
      "HV 2 turns left overnight after 30 min.JPG\n",
      "HV 2 turns left over after wipedown #1.JPG\n",
      "HV 2 turns left overnight 40 min after wipedown #1.JPG\n"
     ]
    }
   ],
   "source": [
    "for i in xlimgs: print(i.Name)"
   ]
  },
  {
   "cell_type": "code",
   "execution_count": 63,
   "metadata": {
    "collapsed": true
   },
   "outputs": [],
   "source": [
    "def swap(i1, i2):\n",
    "    tmp = xlimgs[i1]\n",
    "    xlimgs[i1] = xlimgs[i2]\n",
    "    xlimgs[i2] = tmp"
   ]
  },
  {
   "cell_type": "code",
   "execution_count": 71,
   "metadata": {
    "collapsed": false
   },
   "outputs": [],
   "source": [
    "xl.Selection.Value = xlimgs[0].Name"
   ]
  },
  {
   "cell_type": "code",
   "execution_count": 72,
   "metadata": {
    "collapsed": true
   },
   "outputs": [],
   "source": [
    "ws1 = wb.Worksheets(\"Test\")"
   ]
  },
  {
   "cell_type": "code",
   "execution_count": 73,
   "metadata": {
    "collapsed": true
   },
   "outputs": [],
   "source": [
    "w = ws1.Columns(1).Width"
   ]
  },
  {
   "cell_type": "code",
   "execution_count": 82,
   "metadata": {
    "collapsed": true
   },
   "outputs": [],
   "source": [
    "n = ws1.Cells.Range(\"J1\").EntireColumn.Column\n",
    "n2 = ws1.Cells.Range(\"S1\").EntireColumn.Column"
   ]
  },
  {
   "cell_type": "code",
   "execution_count": 86,
   "metadata": {
    "collapsed": true
   },
   "outputs": [],
   "source": [
    "pg1i = ws1.Pictures(1), ws1.Pictures(2), ws1.Pictures(3)\n",
    "pg2i = ws1.Pictures(4), ws1.Pictures(5)"
   ]
  },
  {
   "cell_type": "code",
   "execution_count": null,
   "metadata": {
    "collapsed": true
   },
   "outputs": [],
   "source": [
    "l = sum(ws1.Columns(i).Width for i in range(1, n+1))\n",
    "for i in pg2i:\n",
    "    i.Left = l\n",
    "\n",
    "l2 = sum(ws1.Columns(i).Width for i in range(1, n2+1))\n",
    "for i in pg1i:\n",
    "    i.Left = l2"
   ]
  },
  {
   "cell_type": "code",
   "execution_count": 97,
   "metadata": {
    "collapsed": true
   },
   "outputs": [],
   "source": [
    "p1_w = sum(c.Width for c in ws1.Cells.Range(\"A1:I1\"))"
   ]
  },
  {
   "cell_type": "code",
   "execution_count": 98,
   "metadata": {
    "collapsed": true
   },
   "outputs": [],
   "source": [
    "p2_w = sum(c.Width for c in ws1.Cells.Range(\"J1:R1\"))"
   ]
  },
  {
   "cell_type": "code",
   "execution_count": 106,
   "metadata": {
    "collapsed": false
   },
   "outputs": [],
   "source": [
    "p3_w = p2_w\n",
    "cw = ws1.Cells(1, 40).Width"
   ]
  },
  {
   "cell_type": "code",
   "execution_count": 103,
   "metadata": {
    "collapsed": false
   },
   "outputs": [
    {
     "name": "stdout",
     "output_type": "stream",
     "text": [
      "C:\\Users\\PBS Biotech\\Pictures\\harvest valve\\HV 2 turns left overnight after test #3.JPG\n"
     ]
    }
   ],
   "source": [
    "p=\"HV 2 turns left overnight after test #3.JPG\"\n",
    "i = import_img(p)"
   ]
  },
  {
   "cell_type": "code",
   "execution_count": 111,
   "metadata": {
    "collapsed": false
   },
   "outputs": [],
   "source": [
    "i = ws1.Pictures(6)\n",
    "i.Left = p1_w+p2_w+p3_w+cw"
   ]
  },
  {
   "cell_type": "code",
   "execution_count": null,
   "metadata": {
    "collapsed": true
   },
   "outputs": [],
   "source": []
  }
 ],
 "metadata": {
  "kernelspec": {
   "display_name": "Python 3",
   "language": "python",
   "name": "python3"
  },
  "language_info": {
   "codemirror_mode": {
    "name": "ipython",
    "version": 3
   },
   "file_extension": ".py",
   "mimetype": "text/x-python",
   "name": "python",
   "nbconvert_exporter": "python",
   "pygments_lexer": "ipython3",
   "version": "3.4.1"
  }
 },
 "nbformat": 4,
 "nbformat_minor": 0
}
