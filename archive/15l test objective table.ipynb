{
 "cells": [
  {
   "cell_type": "code",
   "execution_count": 2,
   "metadata": {},
   "outputs": [
    {
     "data": {
      "text/plain": [
       "'15L Mag Drive DVT Objective Table 170707.xlsx'"
      ]
     },
     "execution_count": 2,
     "metadata": {},
     "output_type": "execute_result"
    }
   ],
   "source": [
    "from officelib.xllib import *\n",
    "from officeli\n",
    "xl = Excel()\n",
    "xl.ActiveWorkbook.Name"
   ]
  },
  {
   "cell_type": "code",
   "execution_count": 4,
   "metadata": {},
   "outputs": [],
   "source": [
    "wb = xl.ActiveWorkbook\n",
    "ws = wb.Worksheets(1)\n",
    "cells = ws.Cells\n",
    "cr = cells.Range"
   ]
  },
  {
   "cell_type": "code",
   "execution_count": 5,
   "metadata": {
    "collapsed": true
   },
   "outputs": [],
   "source": [
    "sel = cr(\"A67:A99\")\n",
    "frs = \"\"\n",
    "n = 10"
   ]
  },
  {
   "cell_type": "code",
   "execution_count": 9,
   "metadata": {},
   "outputs": [],
   "source": [
    "from officelib.const import xlconst as xlc\n",
    "for c in sel:\n",
    "    if \".\" not in c.Value:\n",
    "        frs = c.Value + \".%d\"\n",
    "        n = 10\n",
    "    else:\n",
    "        c.Value = frs % n\n",
    "        n += 10\n",
    "        c.IndentLevel = 1\n",
    "        c.EntireRow.Interior.Pattern = xlc.xlNone\n",
    "        c.EntireRow.Interior.TintAndShade = 0\n",
    "        c.EntireRow.Interior.PatternTintAndShade = 0\n",
    "        "
   ]
  },
  {
   "cell_type": "code",
   "execution_count": null,
   "metadata": {
    "collapsed": true
   },
   "outputs": [],
   "source": []
  }
 ],
 "metadata": {
  "kernelspec": {
   "display_name": "Python 3",
   "language": "python",
   "name": "python3"
  },
  "language_info": {
   "codemirror_mode": {
    "name": "ipython",
    "version": 3
   },
   "file_extension": ".py",
   "mimetype": "text/x-python",
   "name": "python",
   "nbconvert_exporter": "python",
   "pygments_lexer": "ipython3",
   "version": "3.5.2"
  }
 },
 "nbformat": 4,
 "nbformat_minor": 2
}
