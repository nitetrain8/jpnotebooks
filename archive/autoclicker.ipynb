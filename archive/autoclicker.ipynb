{
 "cells": [
  {
   "cell_type": "code",
   "execution_count": 1,
   "metadata": {
    "collapsed": true
   },
   "outputs": [],
   "source": [
    "import ctypes\n",
    "from ctypes import wintypes as wt\n",
    "from ctypes import sizeof\n",
    "from time import sleep, time"
   ]
  },
  {
   "cell_type": "code",
   "execution_count": 2,
   "metadata": {
    "collapsed": true
   },
   "outputs": [],
   "source": [
    "INPUT_MOUSE = 0\n",
    "INPUT_KEYBOARD = 1\n",
    "INPUT_HARDWARE = 2\n",
    "\n",
    "MOUSEEVENTF_ABSOLUTE = 0x8000\n",
    "MOUSEEVENTF_LEFTDOWN = 0x0002 \n",
    "MOUSEEVENTF_LEFTUP = 0x0004\n",
    "MOUSEEVENTF_MOVE = 0x0001\n",
    "MOUSEEVENTF_RIGHTDOWN = 0x0008\n",
    "MOUSEEVENTF_RIGHTUP = 0x0010\n",
    "MOUSEEVENTF_VIRTUALDESK = 0x4000"
   ]
  },
  {
   "cell_type": "code",
   "execution_count": 3,
   "metadata": {
    "collapsed": true
   },
   "outputs": [],
   "source": [
    "ULONG_PTR = ctypes.POINTER(ctypes.c_ulong)\n",
    "LONG = ctypes.c_long\n",
    "\n",
    "# These depend on whether UNICODE is defined\n",
    "LPCTSTR = wt.LPCSTR  # LPCWSTR or LPCSTR\n",
    "LPTSTR = wt.LPSTR  # LPWSTR or LPSTR\n",
    "\n",
    "WNDENUMPROC = ctypes.WINFUNCTYPE(wt.BOOL, wt.HWND, wt.LPARAM)"
   ]
  },
  {
   "cell_type": "code",
   "execution_count": 4,
   "metadata": {
    "collapsed": true
   },
   "outputs": [],
   "source": [
    "class KEYBDINPUT(ctypes.Structure):\n",
    "    _fields_ = [\n",
    "        ('wVk', wt.WORD),\n",
    "        ('wScan', wt.WORD),\n",
    "        (\"dwFlags\", wt.DWORD),\n",
    "        (\"time\", wt.DWORD),\n",
    "        (\"dwextraInfo\", ULONG_PTR)\n",
    "    ]\n",
    "    \n",
    "class MOUSEINPUT(ctypes.Structure):\n",
    "    _fields_ = [\n",
    "        ('dx', LONG),\n",
    "        ('dy', LONG),\n",
    "        ('mouseData', wt.DWORD),\n",
    "        ('dwFlags', wt.DWORD),\n",
    "        ('time', wt.DWORD),\n",
    "        ('dwExtraInfo', ULONG_PTR),\n",
    "    ]\n",
    "    \n",
    "class HARDWAREINPUT(ctypes.Structure):\n",
    "    _fields_ = [\n",
    "        ('uMsg', wt.DWORD),\n",
    "        ('wParamL', wt.WORD),\n",
    "        ('wParamH', wt.WORD)\n",
    "    ]\n",
    "    "
   ]
  },
  {
   "cell_type": "code",
   "execution_count": 5,
   "metadata": {
    "collapsed": true
   },
   "outputs": [],
   "source": [
    "class InptUnion(ctypes.Union):\n",
    "    _fields_ = [\n",
    "        ('mi', MOUSEINPUT),\n",
    "        ('ki', KEYBDINPUT),\n",
    "        ('hi', HARDWAREINPUT)\n",
    "    ]\n",
    "\n",
    "class INPUT(ctypes.Structure):\n",
    "    _fields_ = [\n",
    "        ('type', wt.DWORD),\n",
    "        ('ip', InptUnion)\n",
    "    ]\n",
    "    \n",
    "PINPUT = ctypes.POINTER(INPUT)"
   ]
  },
  {
   "cell_type": "code",
   "execution_count": 6,
   "metadata": {
    "collapsed": true
   },
   "outputs": [],
   "source": [
    "def make_kb_input(keycode, scan_code=0, flags=0):\n",
    "    ip = INPUT()\n",
    "    ip.type = INPUT_KEYBOARD\n",
    "    \n",
    "    ki = KEYBDINPUT()\n",
    "    ki.wVk = keycode\n",
    "    ki.wScan = scan_code\n",
    "    ki.dwFlags = flags\n",
    "    \n",
    "    ip.ip.ki = ki\n",
    "    return ip    "
   ]
  },
  {
   "cell_type": "code",
   "execution_count": 7,
   "metadata": {
    "collapsed": true
   },
   "outputs": [],
   "source": [
    "# Raw exported windows API functions\n",
    "\n",
    "user32 = ctypes.windll.user32\n",
    "k32 = ctypes.windll.kernel32\n",
    "\n",
    "_SendInput = user32.SendInput\n",
    "_SendInput.argtypes = [wt.UINT, PINPUT, ctypes.c_int]\n",
    "_SendInput.restype = wt.UINT\n",
    "\n",
    "def SendInput(*args):\n",
    "    res = _SendInput(*args)\n",
    "    if not res:\n",
    "        raise OSError(k32.GetLastError())\n",
    "    return res\n",
    "\n",
    "FindWindow = user32.FindWindowA\n",
    "FindWindow.argtypes = [LPCTSTR, LPCTSTR]\n",
    "FindWindow.restype = wt.HWND\n",
    "\n",
    "CloseHandle = k32.CloseHandle\n",
    "CloseHandle.argtypes = [wt.HANDLE]\n",
    "CloseHandle.restype = wt.BOOL\n",
    "\n",
    "EnumWindows = user32.EnumWindows\n",
    "EnumWindows.argtypes = [WNDENUMPROC, wt.LPARAM]\n",
    "EnumWindows.restype = wt.BOOL\n",
    "\n",
    "GetWindowText = user32.GetWindowTextA\n",
    "GetWindowText.argtypes = [wt.HWND, LPTSTR, ctypes.c_int]\n",
    "GetWindowText.restype = ctypes.c_int\n",
    "\n",
    "SetActiveWindow = user32.SetActiveWindow\n",
    "SetActiveWindow.argtypes = [wt.HWND]\n",
    "SetActiveWindow.restype = wt.HWND\n",
    "\n",
    "SetForegroundWindow = user32.SetForegroundWindow\n",
    "SetForegroundWindow.argtypes = [wt.HWND]\n",
    "SetForegroundWindow.restype = wt.BOOL\n",
    "\n",
    "GetLastError = k32.GetLastError\n",
    "GetLastError.argtypes = []\n",
    "GetLastError.restype = ctypes.c_int"
   ]
  },
  {
   "cell_type": "code",
   "execution_count": 9,
   "metadata": {
    "collapsed": true
   },
   "outputs": [],
   "source": [
    "def make_mouse_move(x,y):\n",
    "    ip = INPUT()\n",
    "    ip.type = INPUT_MOUSE\n",
    "    \n",
    "    mi = MOUSEINPUT()\n",
    "    mi.dx = x\n",
    "    mi.dy = y\n",
    "    mi.mouseData = 0\n",
    "    mi.time = 0\n",
    "    mi.dwFlags=(MOUSEEVENTF_MOVE) | MOUSEEVENTF_ABSOLUTE | MOUSEEVENTF_VIRTUALDESK\n",
    "    ip.ip.mi = mi\n",
    "    return ip"
   ]
  },
  {
   "cell_type": "code",
   "execution_count": 10,
   "metadata": {
    "collapsed": true
   },
   "outputs": [],
   "source": [
    "def make_mouse_left_click(dwFlags):\n",
    "    ip = INPUT()\n",
    "    ip.type = INPUT_MOUSE\n",
    "    \n",
    "    mi = MOUSEINPUT()\n",
    "    mi.dx = 0\n",
    "    mi.dy = 0\n",
    "    mi.mouseData = 0\n",
    "    mi.time = 0\n",
    "    mi.dwFlags = MOUSEEVENTF_ABSOLUTE | MOUSEEVENTF_VIRTUALDESK | dwFlags\n",
    "    ip.ip.mi = mi\n",
    "    return ip"
   ]
  },
  {
   "cell_type": "code",
   "execution_count": 11,
   "metadata": {
    "collapsed": true
   },
   "outputs": [],
   "source": [
    "import win32api\n",
    "SCREEN_X = win32api.GetSystemMetrics(78)\n",
    "SCREEN_Y = win32api.GetSystemMetrics(79)\n",
    "\n",
    "def norm(p):\n",
    "    return int(p.x / (SCREEN_X) * 65535), int(p.y / (SCREEN_Y) * 65536)\n",
    "\n",
    "def norm2(p):\n",
    "    return int(p[0] / (SCREEN_X) * 65535), int(p[1] / (SCREEN_Y) * 65536)"
   ]
  },
  {
   "cell_type": "code",
   "execution_count": 12,
   "metadata": {
    "collapsed": true
   },
   "outputs": [],
   "source": [
    "def send_keyboard_input(keycode, scan_code=0, flags=0):\n",
    "    ip = make_kb_input(keycode, scan_code, flags)\n",
    "    return SendInput(1, PINPUT(ip), ctypes.sizeof(ip))\n",
    "\n",
    "def mouse_move(x,y):\n",
    "    ip = make_mouse_move(x,y)\n",
    "    return SendInput(1, PINPUT(ip), ctypes.sizeof(ip))\n",
    "    \n",
    "def mouse_click():\n",
    "    ip2 = make_mouse_left_click(MOUSEEVENTF_LEFTDOWN)\n",
    "    ip3 = make_mouse_left_click(MOUSEEVENTF_LEFTUP)\n",
    "    send_inputs(ip2, ip3)\n",
    "\n",
    "def send_inputs(*ips):\n",
    "    sz = ctypes.sizeof(ips[0])\n",
    "    array = (INPUT * len(ips))(*ips)\n",
    "    return SendInput(len(ips), array, sz)"
   ]
  },
  {
   "cell_type": "code",
   "execution_count": 13,
   "metadata": {
    "collapsed": true
   },
   "outputs": [],
   "source": [
    "def get_pos():\n",
    "    point = ctypes.wintypes.POINT()\n",
    "    ctypes.windll.user32.GetCursorPos(ctypes.byref(point))\n",
    "    x, y = norm(point)\n",
    "    return x,y\n",
    "\n",
    "def get_pos2():\n",
    "    point = ctypes.wintypes.POINT()\n",
    "    ctypes.windll.user32.GetCursorPos(ctypes.byref(point))\n",
    "    return point.x, point.y"
   ]
  },
  {
   "cell_type": "code",
   "execution_count": 14,
   "metadata": {
    "collapsed": true
   },
   "outputs": [],
   "source": [
    "def run_clicks(wait=0.05):\n",
    "    xs, ys = get_pos()\n",
    "    try:\n",
    "        while True:\n",
    "            mouse_click()\n",
    "            sleep(wait)\n",
    "        #sleep(5)\n",
    "            xs2, xy2 = get_pos()\n",
    "            if xs2 != xs or xy2 != ys:\n",
    "                return\n",
    "    except KeyboardInterrupt:\n",
    "        pass\n",
    "\n",
    "def run_clicks2(x, y, wait=0.05):\n",
    "    while True:\n",
    "        x1, y1 = get_pos()\n",
    "        mouse_move(x, y)\n",
    "        mouse_click()\n",
    "        mouse_move(x1, y1)\n",
    "        sleep(wait)\n",
    "        if win32api.GetKeyState(0x02) & 0x8000:\n",
    "            return\n",
    "        "
   ]
  },
  {
   "cell_type": "code",
   "execution_count": 15,
   "metadata": {
    "collapsed": true
   },
   "outputs": [],
   "source": [
    "# def right_click_down():\n",
    "#     return win32api.GetKeyState(0x02) & 0x8000\n",
    "\n",
    "# def click_for(t, w=0.05):\n",
    "#     n = time()\n",
    "#     e = n + t\n",
    "#     x,y = get_pos()\n",
    "#     while time() < e:\n",
    "#         mouse_click()\n",
    "#         sleep(w)\n",
    "#         x2, y2 = get_pos()\n",
    "#         if x != x2 or y != y2 or right_click_down():\n",
    "#             raise StopIteration\n",
    "\n",
    "# def mouse_move2(p):\n",
    "#     x,y = p; mouse_move(x,y)\n",
    "    \n",
    "# c2a = 50897, 31602\n",
    "# gh = 50681, 38666\n",
    "# hl = 50681, 34952\n",
    "# mid = 44365, 33132\n",
    "\n",
    "# while True:\n",
    "#     if right_click_down():\n",
    "#         break\n",
    "#     mouse_move2(c2a)\n",
    "#     mouse_click()\n",
    "    \n",
    "#     mouse_move2(gh)\n",
    "#     mouse_click()\n",
    "    \n",
    "#     mouse_move2(mid)\n",
    "#     click_for(16)\n",
    "    \n",
    "#     mouse_move2(hl)\n",
    "#     mouse_click()\n",
    "    \n",
    "#     mouse_move2(mid)\n",
    "#     click_for(21)"
   ]
  },
  {
   "cell_type": "code",
   "execution_count": 16,
   "metadata": {
    "collapsed": true
   },
   "outputs": [],
   "source": [
    "def get_cursor_hwnd():\n",
    "    return win32gui.WindowFromPoint(get_pos2())"
   ]
  },
  {
   "cell_type": "code",
   "execution_count": 47,
   "metadata": {
    "collapsed": true
   },
   "outputs": [],
   "source": [
    "from time import sleep, time\n",
    "import tkinter as tk\n",
    "import tkinter.ttk as ttk\n",
    "import win32gui\n",
    "import os\n",
    "import threading"
   ]
  },
  {
   "cell_type": "code",
   "execution_count": 66,
   "metadata": {
    "collapsed": true
   },
   "outputs": [],
   "source": [
    "SK_X = 0\n",
    "SK_Y = 0\n",
    "CLICK_WAIT = 0\n",
    "\n",
    "def counter(i=0):\n",
    "    def counter():\n",
    "        nonlocal i\n",
    "        while True:\n",
    "            yield i\n",
    "            i += 1\n",
    "    c = counter()\n",
    "    next(c)\n",
    "    return c.__next__\n",
    "\n",
    "def get_coord():\n",
    "    global SK_X, SK_Y\n",
    "    sleep(2)\n",
    "    SK_X, SK_Y = get_pos()\n",
    "    print(\"pos got!\")\n",
    "    \n",
    "def do_click():\n",
    "    x, y = get_pos()\n",
    "    mouse_move(SK_X, SK_Y)\n",
    "    run_clicks(CLICK_WAIT)\n",
    "    mouse_move(x, y)\n",
    "    \n",
    "def set_topmost(hwnd):\n",
    "    GWL_EXSTYLE = -20\n",
    "    WS_EX_TOPMOST = 0x00000008\n",
    "    dwExStyle = win32gui.GetWindowLong(hwnd, GWL_EXSTYLE);\n",
    "    dwExStyle |= WS_EX_TOPMOST;\n",
    "    win32gui.SetWindowLong(hwnd, GWL_EXSTYLE, dwExStyle);\n",
    "    \n",
    "def allow_set_foreground():\n",
    "    if not ctypes.windll.user32.AllowSetForegroundWindow(os.getpid()):\n",
    "        raise OSError(win32api.GetLastError())\n",
    "    \n",
    "# Since pressing the space bar ends up clicking the \n",
    "# action button, these actually use the backtick key\n",
    "VK_FOR_CLICKS = 0xC0  # VK_OEM_3\n",
    "do_click_if_space = True\n",
    "space_on = True\n",
    "\n",
    "def click_if_space():\n",
    "    while do_click_if_space:\n",
    "        if space_on and win32api.GetKeyState(VK_FOR_CLICKS) & 0x8000:\n",
    "            mouse_click()\n",
    "        sleep(CLICK_WAIT)\n",
    "        \n",
    "def is_space_on():\n",
    "    global space_on\n",
    "    return \"Space On\" if space_on else \"Space Off\"\n",
    "        \n",
    "def space_toggle(button):\n",
    "    global space_on\n",
    "    space_on = not space_on\n",
    "    button.config(text=is_space_on())\n",
    "            \n",
    "def sendkeys(wait=0.05):\n",
    "    global do_click_if_space, CLICK_WAIT\n",
    "    r = tk.Tk()\n",
    "    f = ttk.LabelFrame(r, text=\"click\")\n",
    "    \n",
    "    CLICK_WAIT = wait\n",
    "    tv = tk.DoubleVar()\n",
    "    \n",
    "    wait_entry = ttk.Entry(f, textvariable=tv)\n",
    "    update = ttk.Button(f, text=\"Update Wait Time(ms)\", command=lambda: update_wait())\n",
    "    tv.set(wait*1000)\n",
    "    \n",
    "    def update_wait():\n",
    "        global CLICK_WAIT\n",
    "        try:\n",
    "            wait = tv.get() / 1000\n",
    "        except ValueError:\n",
    "            pass\n",
    "        else:\n",
    "            CLICK_WAIT = wait\n",
    "        \n",
    "    coord = ttk.Button(f, text=\"Get Pos\", command=get_coord)\n",
    "    click = ttk.Button(f, text=\"Click\", command=lambda: do_click())\n",
    "    space = ttk.Button(f, text=is_space_on(), command=lambda: space_toggle(space))\n",
    "    stop  = ttk.Button(f, text=\"Stop\", command=lambda: r.destroy())\n",
    "    \n",
    "    space_on = True\n",
    "    do_click_if_space = True\n",
    "    space_clicker = threading.Thread(None, click_if_space, None, daemon=True)\n",
    "    space_clicker.start()\n",
    "   \n",
    "    f.grid()\n",
    "    col = counter()\n",
    "    wait_entry.grid(row=0, column=1)\n",
    "    update.grid(row=0, column=2)\n",
    "    coord.grid(row=1, column=col())\n",
    "    click.grid(row=1, column=col())\n",
    "    space.grid(row=1, column=col())\n",
    "    stop.grid(row=1, column=col())\n",
    "    set_topmost(r.winfo_id())\n",
    "    \n",
    "    r.mainloop()\n",
    "    do_click_if_space = False\n",
    "    space_clicker.join()\n",
    "    "
   ]
  },
  {
   "cell_type": "code",
   "execution_count": 70,
   "metadata": {
    "collapsed": true
   },
   "outputs": [],
   "source": [
    "sendkeys(0.05)"
   ]
  }
 ],
 "metadata": {
  "kernelspec": {
   "display_name": "Python 3",
   "language": "python",
   "name": "python3"
  },
  "language_info": {
   "codemirror_mode": {
    "name": "ipython",
    "version": 3
   },
   "file_extension": ".py",
   "mimetype": "text/x-python",
   "name": "python",
   "nbconvert_exporter": "python",
   "pygments_lexer": "ipython3",
   "version": "3.6.1"
  }
 },
 "nbformat": 4,
 "nbformat_minor": 1
}
