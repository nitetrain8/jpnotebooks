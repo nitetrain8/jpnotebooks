{
 "cells": [
  {
   "cell_type": "code",
   "execution_count": 1,
   "metadata": {},
   "outputs": [],
   "source": [
    "def _get_data(k,v):\n",
    "    q = \"reg query %s /v %s\" % (k,v)\n",
    "    p = subprocess.Popen(q, stdout=subprocess.PIPE)\n",
    "    if p.wait():  # key not found\n",
    "        return []\n",
    "    lines = p.stdout.read().decode().splitlines()\n",
    "    for l in lines:\n",
    "        l = re.sub(\"\\s+\", \" \", l.strip())\n",
    "        vals = l.split(\" \")\n",
    "        if vals[0].lower() == v.lower():\n",
    "            return vals[2].split(\";\")\n",
    "\n",
    "def _set_data(k,v,t,d):\n",
    "    data = \";\".join(d)\n",
    "    if data:\n",
    "        dc = \"/d %s\"%data\n",
    "    else:\n",
    "        dc = \"\"\n",
    "    c = \"reg add %s /v %s /t %s %s /f\"%(k,v,t,dc)\n",
    "    cmd(c)\n",
    "\n",
    "_DELETE_VALUE = 0\n",
    "_EMPTY_VALUE = 1\n",
    "_IGNORE_VALUE = 2\n",
    "    \n",
    "def allow_bat():\n",
    "    key = \"HKEY_CURRENT_USER\\\\Software\\\\Microsoft\\\\Windows\\\\CurrentVersion\\\\Policies\\\\Associations\"\n",
    "    value = \"LowRiskFileTypes\"\n",
    "    data = _get_data(key,value)\n",
    "    if \".bat\" not in data:\n",
    "        if not data:\n",
    "            rv = _DELETE_VALUE\n",
    "        else:\n",
    "            rv = _EMPTY_VALUE\n",
    "        data.append(\".bat\")\n",
    "        _set_data(key, value, \"REG_SZ\", data)\n",
    "    else:\n",
    "        rv = _IGNORE_VALUE\n",
    "    return rv\n",
    "    \n",
    "def _delete_data(k,v):\n",
    "    c = \"reg delete %s /v %s /f\"%(k,v)\n",
    "    cmd(c)\n",
    "    \n",
    "def disable_bat(action=_DELETE_VALUE):\n",
    "    key = \"HKEY_CURRENT_USER\\\\Software\\\\Microsoft\\\\Windows\\\\CurrentVersion\\\\Policies\\\\Associations\"\n",
    "    value = \"LowRiskFileTypes\"\n",
    "    if action == _IGNORE_VALUE:\n",
    "        return\n",
    "    elif action == _EMPTY_VALUE:\n",
    "        data = _get_data(key,value)\n",
    "        if \".bat\" in data:\n",
    "            data.remove(\".bat\")\n",
    "            _set_data(key, value, \"REG_SZ\", data)\n",
    "    elif action == _DELETE_VALUE:\n",
    "        _delete_data(key,value)\n",
    "    \n",
    "    \n",
    "def cmd(c, check=True, shell=False):\n",
    "    print(c)\n",
    "    return subprocess.run(c, check=check, shell=shell)\n",
    "    \n",
    "import re,subprocess"
   ]
  },
  {
   "cell_type": "code",
   "execution_count": 11,
   "metadata": {
    "scrolled": true
   },
   "outputs": [],
   "source": [
    "a=allow_bat()"
   ]
  },
  {
   "cell_type": "code",
   "execution_count": 12,
   "metadata": {},
   "outputs": [
    {
     "data": {
      "text/plain": [
       "2"
      ]
     },
     "execution_count": 12,
     "metadata": {},
     "output_type": "execute_result"
    }
   ],
   "source": [
    "a"
   ]
  },
  {
   "cell_type": "code",
   "execution_count": 13,
   "metadata": {},
   "outputs": [],
   "source": [
    "disable_bat(a)"
   ]
  },
  {
   "cell_type": "code",
   "execution_count": null,
   "metadata": {},
   "outputs": [],
   "source": []
  }
 ],
 "metadata": {
  "kernelspec": {
   "display_name": "Python 3",
   "language": "python",
   "name": "python3"
  },
  "language_info": {
   "codemirror_mode": {
    "name": "ipython",
    "version": 3
   },
   "file_extension": ".py",
   "mimetype": "text/x-python",
   "name": "python",
   "nbconvert_exporter": "python",
   "pygments_lexer": "ipython3",
   "version": "3.5.2"
  }
 },
 "nbformat": 4,
 "nbformat_minor": 2
}
