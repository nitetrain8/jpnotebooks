{
 "cells": [
  {
   "cell_type": "code",
   "execution_count": 6,
   "metadata": {},
   "outputs": [],
   "source": [
    "src = \\\n",
    "\"\"\"\n",
    "Set the %s Low Alarm above the current %s PV. Restore when complete. \n",
    "Set the %s Low Low Alarm above the current %s PV. Restore when complete.\n",
    "Set the %s High Alarm below the current %s PV. Restore when complete.\n",
    "Set the %s High High Alarm below the current %s PV. Restore when complete.\n",
    "\"\"\""
   ]
  },
  {
   "cell_type": "code",
   "execution_count": 9,
   "metadata": {
    "scrolled": true
   },
   "outputs": [
    {
     "name": "stdout",
     "output_type": "stream",
     "text": [
      "\n",
      "Set the Agitation Low Alarm above the current Agitation PV. Restore when complete. \n",
      "Set the Agitation Low Low Alarm above the current Agitation PV. Restore when complete.\n",
      "Set the Agitation High Alarm below the current Agitation PV. Restore when complete.\n",
      "Set the Agitation High High Alarm below the current Agitation PV. Restore when complete.\n",
      "\n",
      "\n",
      "\n",
      "Set the Temperature Low Alarm above the current Temperature PV. Restore when complete. \n",
      "Set the Temperature Low Low Alarm above the current Temperature PV. Restore when complete.\n",
      "Set the Temperature High Alarm below the current Temperature PV. Restore when complete.\n",
      "Set the Temperature High High Alarm below the current Temperature PV. Restore when complete.\n",
      "\n",
      "\n",
      "\n",
      "Set the pH Low Alarm above the current pH PV. Restore when complete. \n",
      "Set the pH Low Low Alarm above the current pH PV. Restore when complete.\n",
      "Set the pH High Alarm below the current pH PV. Restore when complete.\n",
      "Set the pH High High Alarm below the current pH PV. Restore when complete.\n",
      "\n",
      "\n",
      "\n",
      "Set the DO Low Alarm above the current DO PV. Restore when complete. \n",
      "Set the DO Low Low Alarm above the current DO PV. Restore when complete.\n",
      "Set the DO High Alarm below the current DO PV. Restore when complete.\n",
      "Set the DO High High Alarm below the current DO PV. Restore when complete.\n",
      "\n",
      "\n",
      "\n",
      "Set the Level Low Alarm above the current Level PV. Restore when complete. \n",
      "Set the Level Low Low Alarm above the current Level PV. Restore when complete.\n",
      "Set the Level High Alarm below the current Level PV. Restore when complete.\n",
      "Set the Level High High Alarm below the current Level PV. Restore when complete.\n",
      "\n",
      "\n",
      "\n",
      "Set the Main Gas Low Alarm above the current Main Gas PV. Restore when complete. \n",
      "Set the Main Gas Low Low Alarm above the current Main Gas PV. Restore when complete.\n",
      "Set the Main Gas High Alarm below the current Main Gas PV. Restore when complete.\n",
      "Set the Main Gas High High Alarm below the current Main Gas PV. Restore when complete.\n",
      "\n",
      "\n"
     ]
    }
   ],
   "source": [
    "for alm in (\"Agitation\", \"Temperature\", \"pH\", \"DO\", \"Level\", \"Main Gas\"):\n",
    "#    print(\"\\n\")\n",
    "    a = (alm,)*8\n",
    "    s = (src % a)\n",
    "    import clipboard\n",
    "    clipboard.copy(s.strip())\n",
    "    print(s)\n",
    "    if input() == 'q':\n",
    "        break\n"
   ]
  },
  {
   "cell_type": "code",
   "execution_count": 10,
   "metadata": {},
   "outputs": [],
   "source": [
    "clipboard.copy((src%((\"Filter Oven\",)*8)).strip())"
   ]
  },
  {
   "cell_type": "code",
   "execution_count": null,
   "metadata": {},
   "outputs": [],
   "source": []
  }
 ],
 "metadata": {
  "kernelspec": {
   "display_name": "Python 3",
   "language": "python",
   "name": "python3"
  },
  "language_info": {
   "codemirror_mode": {
    "name": "ipython",
    "version": 3
   },
   "file_extension": ".py",
   "mimetype": "text/x-python",
   "name": "python",
   "nbconvert_exporter": "python",
   "pygments_lexer": "ipython3",
   "version": "3.5.2"
  }
 },
 "nbformat": 4,
 "nbformat_minor": 2
}
