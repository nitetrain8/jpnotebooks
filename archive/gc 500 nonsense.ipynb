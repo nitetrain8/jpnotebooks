{
 "cells": [
  {
   "cell_type": "code",
   "execution_count": 170,
   "metadata": {},
   "outputs": [
    {
     "name": "stdout",
     "output_type": "stream",
     "text": [
      "0 gc 500 nonsense.xlsx\n"
     ]
    }
   ],
   "source": [
    "from officelib.xllib import *\n",
    "from officelib.const import xlconst as xlc\n",
    "from pywintypes import com_error\n",
    "xl = Excel()\n",
    "w,i = None, None\n",
    "for i, w in enumerate(xl.Workbooks):\n",
    "    print(i, w.Name)\n",
    "del w"
   ]
  },
  {
   "cell_type": "code",
   "execution_count": 158,
   "metadata": {},
   "outputs": [],
   "source": [
    "fp = \"C:/users/nathan/downloads/gc 500 nonsense.xlsx\"\n",
    "wb = xl.Workbooks.Open(fp)"
   ]
  },
  {
   "cell_type": "code",
   "execution_count": 159,
   "metadata": {},
   "outputs": [],
   "source": [
    "ws = wb.Worksheets(1)\n",
    "cells = ws.Cells\n",
    "cr = cells.Range"
   ]
  },
  {
   "cell_type": "code",
   "execution_count": 160,
   "metadata": {},
   "outputs": [],
   "source": [
    "charts = []\n",
    "\n",
    "LEFT = 5230\n",
    "\n",
    "def drange(c):\n",
    "    x1 = c.Offset(2,1)\n",
    "    x2 = x1.End(xlc.xlDown)\n",
    "    y1 = x1.Offset(1,2)\n",
    "    y2 = x2.Offset(1,2)\n",
    "    return x1, x2, y1, y2\n",
    "    \n",
    "def drangen(name):\n",
    "    c = cells.Find(name)\n",
    "    if c is not None:\n",
    "        return drange(c)\n",
    "    else:\n",
    "        raise ValueError(name)\n",
    "        \n",
    "def data(n):\n",
    "    x1, x2, y1, y2 = drangen(n)\n",
    "    return list(zip(*cr(x1, y2).Value))\n",
    "\n",
    "def mkchart(c, name=\"\", i=0):\n",
    "    x1, x2, y1, y2 = drange(c)\n",
    "    xd = cr(x1,x2)\n",
    "    yd = cr(y1,y2)\n",
    "    ch = CreateChart(ws, xlc.xlXYScatterLinesNoMarkers)\n",
    "    \n",
    "    FormatChart(ch, None, name, \"Date\", Legend=False)\n",
    "    \n",
    "    co = ch.Parent  # ChartObject\n",
    "    co.Left = LEFT\n",
    "    co.Height = 300\n",
    "    co.Top  = 50 + (co.Height+20) * i\n",
    "    co.Width = 500\n",
    "    \n",
    "    CreateDataSeries(ch, xd, yd, name)\n",
    "    return ch\n",
    "\n",
    "def chartv(name, i=0):\n",
    "    c = cells.Find(name)\n",
    "    if c is not None:\n",
    "        return mkchart(c, name, i)\n",
    "    else:\n",
    "        raise NameError(name)\n",
    "        \n",
    "co = None\n",
    "for co in ws.ChartObjects():\n",
    "    co.Delete()\n",
    "del co\n",
    "        \n",
    "vars = (\n",
    "        \"TempHeatDutyActual(%)\", \n",
    "        \"TempPV(C)\", \n",
    "    #    \"TempModeActual\", \n",
    "        \"TempSP(C)\"\n",
    "    )\n",
    "for i, v in enumerate(vars):\n",
    "    ch = chartv(v, i)\n",
    "    charts.append(ch)\n",
    "    \n"
   ]
  },
  {
   "cell_type": "code",
   "execution_count": 161,
   "metadata": {},
   "outputs": [],
   "source": [
    "import datetime\n",
    "EPOCH = datetime.datetime(1900, 1, 1)\n",
    "def xl2dt(n):\n",
    "    return EPOCH + datetime.timedelta(days=n-2)\n",
    "\n",
    "def dt2xl(dt):\n",
    "    return (dt - EPOCH).total_seconds()/(60*60*24) + 2"
   ]
  },
  {
   "cell_type": "code",
   "execution_count": 162,
   "metadata": {},
   "outputs": [],
   "source": [
    "def setxax(xmin, xmax):\n",
    "    x1 = dt2xl(xmin)\n",
    "    x2 = dt2xl(xmax)\n",
    "    for ch in charts:\n",
    "        FormatAxesScale(ch, x1, x2)"
   ]
  },
  {
   "cell_type": "code",
   "execution_count": 163,
   "metadata": {},
   "outputs": [],
   "source": [
    "def date(s):\n",
    "    fmts = (\n",
    "        \"%m/%d/%y %H:%M:%S\",\n",
    "        \"%m/%d/%y %I:%M:%S %p\",\n",
    "        \"%m/%d/%y %I:%M %p\",\n",
    "        \"%m/%d/%y %H:%M\",\n",
    "        \"%m/%d/%Y %H:%M:%S\",\n",
    "        \"%m/%d/%Y %H:%M\",\n",
    "        \"%m/%d/%Y %I:%M:%S %p\",\n",
    "        \"%m/%d/%Y %I:%M %p\",\n",
    "    )\n",
    "    for f in fmts:\n",
    "        try:\n",
    "            return datetime.datetime.strptime(s,f)\n",
    "        except ValueError:\n",
    "            pass\n",
    "    raise ValueError(\"%r does not match a date format\"%s)"
   ]
  },
  {
   "cell_type": "code",
   "execution_count": 164,
   "metadata": {},
   "outputs": [],
   "source": [
    "def charttype(t):\n",
    "    for ch in charts:\n",
    "        ch.ChartType = t"
   ]
  },
  {
   "cell_type": "code",
   "execution_count": 165,
   "metadata": {},
   "outputs": [],
   "source": [
    "d1 = date(\"12/18/2017  11:06:54 AM\")\n",
    "d2 = date(\"12/18/2017  11:17:10 AM\")"
   ]
  },
  {
   "cell_type": "code",
   "execution_count": 155,
   "metadata": {},
   "outputs": [],
   "source": [
    "setxax(d1, d2)"
   ]
  },
  {
   "cell_type": "code",
   "execution_count": 75,
   "metadata": {},
   "outputs": [],
   "source": [
    "types = [xlc.xlXYScatter, xlc.xlXYScatterLinesNoMarkers]\n",
    "charttype(types[i])\n",
    "i = 1-i"
   ]
  },
  {
   "cell_type": "code",
   "execution_count": 76,
   "metadata": {},
   "outputs": [],
   "source": [
    "i = 0\n",
    "import time\n",
    "while True:\n",
    "    try:\n",
    "        charttype(types[i])\n",
    "        i = 1-i\n",
    "        time.sleep(1)\n",
    "    except KeyboardInterrupt:\n",
    "        break"
   ]
  },
  {
   "cell_type": "code",
   "execution_count": 125,
   "metadata": {},
   "outputs": [],
   "source": [
    "REFDT = datetime.datetime(2017, 12, 18).timestamp()\n",
    "\n",
    "def xl2mpl(dt):\n",
    "    return (dt.timestamp()-REFDT)/60"
   ]
  },
  {
   "cell_type": "code",
   "execution_count": 113,
   "metadata": {},
   "outputs": [
    {
     "name": "stdout",
     "output_type": "stream",
     "text": [
      "Using matplotlib backend: TkAgg\n"
     ]
    }
   ],
   "source": [
    "%matplotlib\n",
    "import matplotlib.pyplot as plt\n",
    "import numpy as np"
   ]
  },
  {
   "cell_type": "code",
   "execution_count": 114,
   "metadata": {},
   "outputs": [],
   "source": [
    "def mpd(d):\n",
    "    return np.array(d)\n"
   ]
  },
  {
   "cell_type": "code",
   "execution_count": 121,
   "metadata": {},
   "outputs": [],
   "source": [
    "plt.close('all')\n",
    "for v in vars:\n",
    "    x,y = data(v)\n",
    "    x = map(xl2mpl, x)\n",
    "    x = mpd(list(x))\n",
    "    y = mpd(y)\n",
    "    f = plt.figure()\n",
    "    ax = f.add_subplot(111)\n",
    "    ax.plot(x,y)\n",
    "    ax.set_title(v)"
   ]
  },
  {
   "cell_type": "code",
   "execution_count": 144,
   "metadata": {},
   "outputs": [
    {
     "data": {
      "text/plain": [
       "(180, 200)"
      ]
     },
     "execution_count": 144,
     "metadata": {},
     "output_type": "execute_result"
    }
   ],
   "source": [
    "plt.close('all')\n",
    "def mkfig(v):\n",
    "    x,y = data(v)\n",
    "    x = map(xl2mpl, x)\n",
    "    x = mpd(list(x))\n",
    "    y = mpd(y)\n",
    "    f = plt.figure()\n",
    "    ax = f.add_subplot(111)\n",
    "    ax.plot(x,y)\n",
    "    ax.set_title(v)\n",
    "    return ax\n",
    "ax = mkfig(\"TempHeatDutyActual(%)\")\n",
    "xmode,ymode = data(\"TempModeActual\")\n",
    "xmin = 180\n",
    "xmax = 200\n",
    "ax.set_xlim(xmin, xmax)"
   ]
  },
  {
   "cell_type": "code",
   "execution_count": 145,
   "metadata": {},
   "outputs": [],
   "source": [
    "t = ymode[0]\n",
    "i = 0\n",
    "l = len(xmode)\n",
    "while i < l:\n",
    "    y = ymode[i]\n",
    "    x = xl2mpl(xmode[i])\n",
    "    #if y != t:\n",
    "    if y == 0:\n",
    "        ax.axvline(x, 0, 100, ls=\"--\", color=\"orange\", linewidth=1)\n",
    "    elif y == 2:\n",
    "        #ax.axvline(x, 0, 100, ls=\"--\", color=\"blue\", linewidth=1)\n",
    "        t = y\n",
    "    i = i + 1"
   ]
  },
  {
   "cell_type": "code",
   "execution_count": 146,
   "metadata": {},
   "outputs": [],
   "source": [
    "xsp, ysp = data(\"TempSP(C)\")\n",
    "i = 0\n",
    "l = len(xsp)\n",
    "while i < l:\n",
    "    y = ysp[i]\n",
    "    x = xl2mpl(xsp[i])\n",
    "    ax.plot(x,y, \"+\", mfc=None, mec=\"r\", mew=2, ms=8)\n",
    "    i += 1"
   ]
  },
  {
   "cell_type": "code",
   "execution_count": 180,
   "metadata": {},
   "outputs": [],
   "source": [
    "class XLCtx():\n",
    "    def __init__(self, xl, wb):\n",
    "        self.xl = xl\n",
    "        if isinstance(wb, str):\n",
    "            # active?\n",
    "            try:\n",
    "                wb = xl.Workbooks(wb)\n",
    "            except com_error:\n",
    "                try:\n",
    "                    wb = xl.Workbooks.Open(wb)\n",
    "                except com_error:\n",
    "                    raise FileNotFoundError(wb) from None\n",
    "        self.wb = wb\n",
    "        self.ws = wb.Worksheets(1)\n",
    "        self.cells = self.ws.Cells\n",
    "        self.cr = self.cells.Range\n",
    "        \n",
    "    @classmethod\n",
    "    def from_recent_file(cls, xl, fn):\n",
    "        for rf in xl.RecentFiles:\n",
    "            if rf.Name == fn:\n",
    "                break\n",
    "        else:\n",
    "            raise FileNotFoundError(fn)\n",
    "        return cls(xl, rf.Path)\n",
    "    from_recent = from_rf = from_recent_file"
   ]
  },
  {
   "cell_type": "code",
   "execution_count": 181,
   "metadata": {},
   "outputs": [],
   "source": [
    "ue = XLCtx.from_recent_file(xl, \"gc user events.xlsx\")"
   ]
  },
  {
   "cell_type": "code",
   "execution_count": 185,
   "metadata": {},
   "outputs": [],
   "source": [
    "data = ue.cr(ue.cr(\"A2\"), ue.cr(\"A2\").End(xlc.xlDown).Offset(1,2)).Value\n",
    "data2 = cr(\"\")"
   ]
  },
  {
   "cell_type": "code",
   "execution_count": 194,
   "metadata": {},
   "outputs": [
    {
     "name": "stdout",
     "output_type": "stream",
     "text": [
      "12/18 11:04:49 Temp Auto: 30.0\n",
      "12/18 11:17:09 Temp Off\n",
      "12/18 12:49:52 Temp Auto: 0.0\n",
      "12/18 12:52:11 Temp Off\n",
      "01/02 15:31:53 Temp Off\n",
      "01/02 15:36:44 Temp Auto: 37.0\n",
      "01/04 10:02:58 Temp Off\n",
      "01/04 10:29:48 Temp Off\n"
     ]
    }
   ],
   "source": [
    "start = data[0][1]\n",
    "fmt = \"%m/%d %H:%M:%S\"\n",
    "for e, t in data:\n",
    "    if e.startswith(\"temp sensor\"):\n",
    "        a,b,c = e.split(\";\")\n",
    "        mode = b.split()[0]\n",
    "        dt = (t-start).total_seconds()/60\n",
    "        if mode.lower() == \"auto\":\n",
    "            sp = c.split()[-1].rstrip(\".\")\n",
    "            sp = float(sp)\n",
    "            print(t.strftime(fmt), \"Temp %s: %.1f\"%(mode, sp))\n",
    "        else:\n",
    "            print(t.strftime(fmt), \"Temp %s\"%mode)"
   ]
  },
  {
   "cell_type": "code",
   "execution_count": 208,
   "metadata": {},
   "outputs": [],
   "source": [
    "def l2v(l):\n",
    "    return l/20*5"
   ]
  },
  {
   "cell_type": "code",
   "execution_count": 212,
   "metadata": {},
   "outputs": [
    {
     "name": "stdout",
     "output_type": "stream",
     "text": [
      "12/18 11:04:43  Agitation Auto:    25.0              6.2       True\n",
      "12/18 11:06:48  Agitation Man:     1.1               0.3      False\n",
      "12/18 11:07:01  Agitation Auto:    25.0              6.2       True\n",
      "12/18 11:07:14  Agitation Man:     1.1               0.3      False\n",
      "12/18 11:07:24  Agitation Man:     2.0               0.5       True\n",
      "12/18 11:07:36  Agitation Man:     3.0               0.8       True\n",
      "12/18 11:07:45  Agitation Man:     4.0               1.0       True\n",
      "12/18 11:07:55  Agitation Man:     5.0               1.2       True\n",
      "12/18 11:08:11  Agitation Man:     7.0               1.8       True\n",
      "12/18 11:08:25  Agitation Man:     10.0              2.5       True\n",
      "12/18 11:08:51  Agitation Off:                                False\n",
      "12/18 11:08:56  Agitation Off:                                False\n",
      "12/18 11:09:46  Agitation Auto:    25.0              6.2       True\n",
      "12/18 11:10:40  Agitation Auto:    25.0              6.2       True\n",
      "12/18 11:10:50  Agitation Man:     15.0              3.8       True\n",
      "12/18 11:11:29  Agitation Man:     10.0              2.5       True\n",
      "12/18 11:12:01  Agitation Off:                                False\n",
      "12/18 11:12:04  Agitation Man:     10.0              2.5       True\n",
      "12/18 11:12:13  Agitation Man:     15.0              3.8       True\n",
      "12/18 11:12:41  Agitation Man:     5.0               1.2       True\n",
      "12/18 11:12:57  Agitation Man:     4.0               1.0       True\n",
      "12/18 11:13:54  Agitation Man:     7.0               1.8       True\n",
      "12/18 11:14:43  Agitation Man:     15.0              3.8       True\n",
      "12/18 11:15:24  Agitation Man:     1.0               0.2      False\n",
      "12/18 11:15:44  Agitation Man:     2.0               0.5       True\n",
      "12/18 11:16:33  Agitation Man:     3.0               0.8       True\n",
      "12/18 11:17:06  Agitation Off:                                False\n",
      "12/18 12:47:12  Agitation Auto:    20.0              5.0       True\n",
      "12/18 12:48:31  Agitation Auto:    10.0              2.5       True\n",
      "12/18 12:49:25  Agitation Man:     3.0               0.8       True\n",
      "12/18 12:52:14  Agitation Off:                                False\n",
      "12/18 14:55:29  Agitation Auto:    10.0              2.5       True\n",
      "12/18 14:55:57  Agitation Auto:    10.0              2.5       True\n",
      "12/18 14:57:28  Agitation Off:                                False\n",
      "12/18 14:58:12  Agitation Auto:    10.0              2.5       True\n",
      "12/18 14:58:44  Agitation Off:                                False\n",
      "12/19 02:34:27  Agitation Man:     1.0               0.2      False\n",
      "12/19 02:36:59  Agitation Man:     5.0               1.2       True\n",
      "12/19 02:39:34  Agitation Off:                                False\n",
      "12/19 09:13:23  Agitation Man:     5.0               1.2       True\n",
      "12/19 09:14:21  Agitation Off:                                False\n",
      "12/19 09:17:15  Agitation Off:                                False\n",
      "12/19 09:19:31  Agitation Off:                                False\n",
      "12/19 09:21:47  Agitation Off:                                False\n",
      "12/19 10:11:31  Agitation Auto:    10.0              2.5       True\n",
      "12/19 10:17:57  Agitation Off:                                False\n",
      "12/19 15:02:01  Agitation Auto:    10.0              2.5       True\n",
      "12/19 15:05:38  Agitation Off:                                False\n",
      "01/02 15:31:59  Agitation Man:     5.0               1.2       True\n",
      "01/02 15:34:48  Agitation Auto:    10.0              2.5       True\n",
      "01/02 15:38:26  Agitation Auto:    15.0              3.8       True\n",
      "01/02 15:41:42  Agitation Man:     5.0               1.2       True\n",
      "01/02 15:42:07  Agitation Man:     10.0              2.5       True\n",
      "01/04 10:02:54  Agitation Off:                                False\n"
     ]
    }
   ],
   "source": [
    "start = data[0][1]\n",
    "fmt = \"%m/%d %H:%M:%S\"\n",
    "for e, t in data:\n",
    "    if e.startswith(\"agitation sensor\"):\n",
    "        a,b,c = e.split(\";\")\n",
    "        mode = b.split()[0]\n",
    "        dt = (t-start).total_seconds()/60\n",
    "        if mode.lower() in (\"auto\", \"man\"):\n",
    "            sp = c.split()[-1].rstrip(\".\")\n",
    "            sp = float(sp)\n",
    "            sps = \"%.1f\"%sp\n",
    "            lvs = \"%-.1f\"%(l2v(sp))\n",
    "            lvs2 = str(l2v(sp) > 0.3)\n",
    "        else:\n",
    "            sps = \"\"\n",
    "            lvs = \"\"\n",
    "            lvs2 = \"False\"\n",
    "        print(\"%-15s %s %-8s %-10s %10s %10s\" %(t.strftime(fmt), \"Agitation\", mode+\":\", sps, lvs, lvs2))"
   ]
  },
  {
   "cell_type": "code",
   "execution_count": null,
   "metadata": {},
   "outputs": [],
   "source": []
  },
  {
   "cell_type": "code",
   "execution_count": null,
   "metadata": {},
   "outputs": [],
   "source": []
  }
 ],
 "metadata": {
  "kernelspec": {
   "display_name": "Python 3",
   "language": "python",
   "name": "python3"
  },
  "language_info": {
   "codemirror_mode": {
    "name": "ipython",
    "version": 3
   },
   "file_extension": ".py",
   "mimetype": "text/x-python",
   "name": "python",
   "nbconvert_exporter": "python",
   "pygments_lexer": "ipython3",
   "version": "3.5.2"
  }
 },
 "nbformat": 4,
 "nbformat_minor": 2
}
