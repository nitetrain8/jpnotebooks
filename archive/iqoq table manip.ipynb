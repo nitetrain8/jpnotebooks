{
 "cells": [
  {
   "cell_type": "code",
   "execution_count": 1,
   "metadata": {},
   "outputs": [],
   "source": [
    "from officelib.wordlib import *\n",
    "from pywintypes import com_error\n",
    "w=Word()"
   ]
  },
  {
   "cell_type": "code",
   "execution_count": 2,
   "metadata": {},
   "outputs": [],
   "source": [
    "d = w.RecentFiles(1).Open()"
   ]
  },
  {
   "cell_type": "code",
   "execution_count": 5,
   "metadata": {},
   "outputs": [
    {
     "name": "stdout",
     "output_type": "stream",
     "text": [
      "Error accessing table 1\n",
      "Error accessing table 11\n",
      "Error accessing table 12\n",
      "Error accessing table 15\n"
     ]
    }
   ],
   "source": [
    "for i, t in enumerate(d.Tables, 1):\n",
    "    try:\n",
    "        rc = list(t.Rows(1).Cells)[-1]\n",
    "    except com_error:\n",
    "        print(\"Error accessing table %d\"%i)\n",
    "    else:\n",
    "        t = rc.Range.Text\n",
    "        if \"Results\" in t:\n",
    "            rc.Range.Text = t.replace(\"Results\", \"Result\")"
   ]
  },
  {
   "cell_type": "code",
   "execution_count": 39,
   "metadata": {},
   "outputs": [],
   "source": [
    "for t in d.Tables:\n",
    "    t.Rows.WrapAroundText = False\n",
    "    t.Rows.Alignment = c.wdAlignRowCenter"
   ]
  },
  {
   "cell_type": "code",
   "execution_count": 13,
   "metadata": {},
   "outputs": [],
   "source": [
    "def pmg(t):\n",
    "    return sorted(t._prop_map_get_.keys())"
   ]
  },
  {
   "cell_type": "code",
   "execution_count": 77,
   "metadata": {},
   "outputs": [],
   "source": [
    "from collections import OrderedDict\n",
    "from scripts.tools.patcher.src.merge import lv_parse\n",
    "\n",
    "refp = \"D:\\\\auto_hd_install\\\\default configs\\\\IM00226 Rev C\\\\Mag 03\"\n",
    "\n",
    "class SanityError(Exception): pass\n",
    "\n",
    "def parse_logger(ff):\n",
    "    with open(ff, 'r') as f:\n",
    "        lines = f.read().splitlines()\n",
    "    return [l.split(\"\\t\") for l in lines]\n",
    "\n",
    "def parse_sv(ff):\n",
    "    return lv_parse.fromfn(ff)\n",
    "\n",
    "def j(f):\n",
    "    return os.path.join(refp, f)\n",
    "\n",
    "def parse_alarms(fp):\n",
    "    with open(fp, 'r') as f:\n",
    "        lines = f.read().splitlines()\n",
    "    lines = [l.split(\",\") for l in lines]\n",
    "    return lines\n",
    "\n",
    "def parse_email(fp):\n",
    "    with open(fp, 'r') as f:\n",
    "        lines = f.read().splitlines()\n",
    "    lines = [l.split(\",\",1) for l in lines]\n",
    "    return lines"
   ]
  },
  {
   "cell_type": "code",
   "execution_count": 50,
   "metadata": {},
   "outputs": [],
   "source": [
    "sv = parse_sv(j(\"System Variables.sys\"))\n",
    "sv = lv_parse.flatten(sv)"
   ]
  },
  {
   "cell_type": "code",
   "execution_count": 42,
   "metadata": {},
   "outputs": [],
   "source": [
    "w = Word()"
   ]
  },
  {
   "cell_type": "code",
   "execution_count": 44,
   "metadata": {},
   "outputs": [],
   "source": [
    "iq = w.Documents(\"IQ Draft 2 180305.docx\")"
   ]
  },
  {
   "cell_type": "code",
   "execution_count": 54,
   "metadata": {},
   "outputs": [],
   "source": [
    "from officelib.xllib import *\n",
    "xl = Excel()"
   ]
  },
  {
   "cell_type": "code",
   "execution_count": 55,
   "metadata": {},
   "outputs": [],
   "source": [
    "xl,wb= xlBook2()"
   ]
  },
  {
   "cell_type": "code",
   "execution_count": 57,
   "metadata": {},
   "outputs": [],
   "source": [
    "ws = wb.Worksheets(1)\n",
    "cr = ws.Cells.Range"
   ]
  },
  {
   "cell_type": "code",
   "execution_count": 62,
   "metadata": {},
   "outputs": [],
   "source": [
    "d = []\n",
    "for n,v in sv.items():\n",
    "    d.append((n, v.tostr()))\n",
    "c1 = cr(\"A1\")\n",
    "c2 = c1.Offset(len(d), 2)\n",
    "cr(c1, c2).Value = d"
   ]
  },
  {
   "cell_type": "code",
   "execution_count": 70,
   "metadata": {},
   "outputs": [],
   "source": [
    "def paste(l):\n",
    "    ocs = len(l[0])\n",
    "    ors = len(l)\n",
    "    c1 = xl.Selection\n",
    "    c2 = c1.Offset(ors, ocs)\n",
    "    cr(c1,c2).Value = l"
   ]
  },
  {
   "cell_type": "code",
   "execution_count": 72,
   "metadata": {},
   "outputs": [],
   "source": [
    "paste(parse_alarms(j(\"Alarms On.alm\")))"
   ]
  },
  {
   "cell_type": "code",
   "execution_count": 76,
   "metadata": {},
   "outputs": [],
   "source": [
    "paste(parse_logger(j(\"Logging On.log\")))"
   ]
  },
  {
   "cell_type": "code",
   "execution_count": 79,
   "metadata": {},
   "outputs": [],
   "source": [
    "paste(parse_email(j(\"Email Alerts Settings.xml\")))"
   ]
  },
  {
   "cell_type": "code",
   "execution_count": null,
   "metadata": {},
   "outputs": [],
   "source": []
  }
 ],
 "metadata": {
  "kernelspec": {
   "display_name": "Python 3",
   "language": "python",
   "name": "python3"
  },
  "language_info": {
   "codemirror_mode": {
    "name": "ipython",
    "version": 3
   },
   "file_extension": ".py",
   "mimetype": "text/x-python",
   "name": "python",
   "nbconvert_exporter": "python",
   "pygments_lexer": "ipython3",
   "version": "3.5.2"
  }
 },
 "nbformat": 4,
 "nbformat_minor": 2
}
