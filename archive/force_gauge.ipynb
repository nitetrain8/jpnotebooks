{
 "cells": [
  {
   "cell_type": "code",
   "execution_count": 6,
   "metadata": {
    "collapsed": false
   },
   "outputs": [],
   "source": [
    "import ctypes, pywintypes as wt\n",
    "from ctypes import *\n",
    "from win32con import GENERIC_READ, GENERIC_WRITE, OPEN_EXISTING, FILE_SHARE_READ, FILE_SHARE_WRITE\n",
    "\n",
    "BOOL = c_int\n",
    "LPVOID = c_void_p\n",
    "DWORD = c_ulong\n",
    "LPDWORD = POINTER(DWORD)\n",
    "HANDLE = c_void_p\n",
    "LPCHAR = POINTER(c_char)\n",
    "\n",
    "CloseHandle = windll.kernel32.CloseHandle\n",
    "\n",
    "_rft = ctypes.CFUNCTYPE(BOOL, HANDLE, LPVOID, DWORD, LPDWORD, LPVOID)\n",
    "_read_file = _rft(windll.kernel32.ReadFile)\n",
    "\n",
    "def read_file(hfile, nbytes):\n",
    "    buf = (c_char*nbytes)()\n",
    "    lpread = LPDWORD()\n",
    "    lpread.value = 0\n",
    "    overlapped = None\n",
    "    res = _read_file(hfile, buf, nbytes, lpread, overlapped)\n",
    "    if res == 0:\n",
    "        raise OSError(windll.kernel32.GetLastError())\n",
    "    return buf.value\n",
    "\n",
    "_wft = ctypes.CFUNCTYPE(BOOL, HANDLE, LPVOID, DWORD, LPDWORD, LPVOID)\n",
    "_write_file = _wft(windll.kernel32.WriteFile)\n",
    "def write_file(hfile, buf, n=None):\n",
    "    if n is None:\n",
    "        n = len(buf)\n",
    "    lpwritten = LPDWORD()\n",
    "    lpwritten.value = 0\n",
    "    overlapped=None\n",
    "    res = _write_file(hfile, buf, n, lpwritten, overlapped)\n",
    "    if res == 0: \n",
    "        raise OSError(windll.kernel32.GetLastError())\n",
    "    return lpwritten.value\n",
    "\n",
    "_cft = ctypes.CFUNCTYPE(HANDLE, LPCHAR, DWORD, DWORD, LPVOID, DWORD, DWORD, HANDLE)\n",
    "_create_file = _cft(windll.kernel32.CreateFileA)\n",
    "def create_file(filename, access=GENERIC_READ|GENERIC_WRITE, share=0, sec=None, disp=OPEN_EXISTING, attrib=0, htmpl=None):\n",
    "    if not isinstance(filename, bytes):\n",
    "        filename = filename.encode('ascii')\n",
    "    rv = _create_file(filename, access, share, sec, disp, attrib, htmpl)\n",
    "    if rv == 4294967295:\n",
    "        raise OSError(windll.kernel32.GetLastError())\n",
    "    return rv\n",
    "    "
   ]
  },
  {
   "cell_type": "code",
   "execution_count": 7,
   "metadata": {
    "collapsed": false
   },
   "outputs": [],
   "source": [
    "class M10Driver():\n",
    "    def __init__(self, port=\"\\\\\\\\.\\\\COM4\"):\n",
    "        self.port = port\n",
    "        self.handle = create_file(port)\n",
    "        \n",
    "    def write(self, msg):\n",
    "        if not isinstance(msg, bytes):\n",
    "            msg = msg.encode('ascii')\n",
    "        return write_file(self.handle, msg)\n",
    "    \n",
    "    def read(self, n=128):\n",
    "        return read_file(self.handle, n)\n",
    "    \n",
    "    def close(self, _close=CloseHandle):\n",
    "        if self.handle:\n",
    "            _close(self.handle)\n",
    "        self.handle = None\n",
    "    \n",
    "    def __del__(self):\n",
    "        self.close()\n",
    "    \n",
    "    \n",
    "class M10Gauge():\n",
    "    def __init__(self, port_or_driver):\n",
    "        if isinstance(port_or_driver, M10Driver):\n",
    "            self.driver = port_or_driver\n",
    "        else:\n",
    "            self.driver = M10Driver(port)\n",
    "        self._buf = []\n",
    "        \n",
    "    def readline(self):\n",
    "        if len(self._buf) <=1:\n",
    "            self._read_driver(1024)\n",
    "        return self._buf.pop(0)\n",
    "        \n",
    "    def _read_driver(self, n):\n",
    "        buf = self.driver.read(n)\n",
    "        if self._buf:\n",
    "            b2 = self._buf.pop()\n",
    "            b2.extend(buf)\n",
    "        else:\n",
    "            b2 = bytearray(buf)\n",
    "        lines = buf.split(b'\\r\\n')\n",
    "        self._buf.extend(lines)\n",
    "        \n",
    "    def read_display(self):\n",
    "        self.driver.write(b\"?\\r\\n\")\n",
    "        msg = b''\n",
    "        while not msg.endswith(b'\\r\\n'):\n",
    "            \n",
    "            msg += self.driver.read()\n",
    "           "
   ]
  },
  {
   "cell_type": "code",
   "execution_count": 8,
   "metadata": {
    "collapsed": true
   },
   "outputs": [],
   "source": [
    "def read_forever():\n",
    "    from time import sleep\n",
    "    g = M10Gauge(M10Driver())\n",
    "    try:\n",
    "        while True:\n",
    "            d = g.read_display()\n",
    "            print(\"\\r%s       \\r\" % d, end=\"\")\n",
    "            sleep(0.5)\n",
    "    finally:\n",
    "        g.driver.close()\n",
    "        \n",
    "    "
   ]
  },
  {
   "cell_type": "code",
   "execution_count": 9,
   "metadata": {
    "collapsed": false
   },
   "outputs": [],
   "source": [
    "#read_forever()"
   ]
  },
  {
   "cell_type": "code",
   "execution_count": null,
   "metadata": {
    "collapsed": true
   },
   "outputs": [],
   "source": []
  },
  {
   "cell_type": "code",
   "execution_count": 10,
   "metadata": {
    "collapsed": false
   },
   "outputs": [],
   "source": [
    "g = M10Gauge(M10Driver())"
   ]
  },
  {
   "cell_type": "code",
   "execution_count": 11,
   "metadata": {
    "collapsed": true
   },
   "outputs": [],
   "source": [
    "h = g.driver.handle"
   ]
  },
  {
   "cell_type": "code",
   "execution_count": 12,
   "metadata": {
    "collapsed": false
   },
   "outputs": [
    {
     "data": {
      "text/plain": [
       "1"
      ]
     },
     "execution_count": 12,
     "metadata": {},
     "output_type": "execute_result"
    }
   ],
   "source": [
    "n = 1\n",
    "buf = c_char * n\n",
    "buf = buf()\n",
    "read = DWORD()\n",
    "_read_file(h, buf, n, byref(read), None)"
   ]
  },
  {
   "cell_type": "code",
   "execution_count": 13,
   "metadata": {
    "collapsed": true
   },
   "outputs": [],
   "source": [
    "def ReadFile(hfile, n):\n",
    "    buf = (c_char * n)()\n",
    "    read = DWORD()\n",
    "    ovl = None\n",
    "    rv= _read_file(hfile, buf, n, byref(read), ovl)\n",
    "    return buf.value"
   ]
  },
  {
   "cell_type": "code",
   "execution_count": 17,
   "metadata": {
    "collapsed": false
   },
   "outputs": [
    {
     "data": {
      "text/plain": [
       "b''"
      ]
     },
     "execution_count": 17,
     "metadata": {},
     "output_type": "execute_result"
    }
   ],
   "source": [
    "ReadFile(h, 10)"
   ]
  },
  {
   "cell_type": "code",
   "execution_count": null,
   "metadata": {
    "collapsed": true
   },
   "outputs": [],
   "source": []
  }
 ],
 "metadata": {
  "kernelspec": {
   "display_name": "Python 3",
   "language": "python",
   "name": "python3"
  },
  "language_info": {
   "codemirror_mode": {
    "name": "ipython",
    "version": 3
   },
   "file_extension": ".py",
   "mimetype": "text/x-python",
   "name": "python",
   "nbconvert_exporter": "python",
   "pygments_lexer": "ipython3",
   "version": "3.4.3"
  }
 },
 "nbformat": 4,
 "nbformat_minor": 0
}
