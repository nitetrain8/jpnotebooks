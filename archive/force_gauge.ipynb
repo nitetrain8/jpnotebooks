{
 "cells": [
  {
   "cell_type": "code",
   "execution_count": 10,
   "metadata": {},
   "outputs": [],
   "source": [
    "import ctypes, pywintypes as wt\n",
    "from ctypes import *\n",
    "from win32con import GENERIC_READ, GENERIC_WRITE, OPEN_EXISTING, FILE_SHARE_READ, FILE_SHARE_WRITE\n",
    "\n",
    "BOOL = c_int\n",
    "LPVOID = c_void_p\n",
    "DWORD = c_ulong\n",
    "LPDWORD = POINTER(DWORD)\n",
    "HANDLE = c_void_p\n",
    "LPCHAR = POINTER(c_char)\n",
    "\n",
    "CloseHandle = windll.kernel32.CloseHandle\n",
    "\n",
    "_rft = ctypes.CFUNCTYPE(BOOL, HANDLE, LPVOID, DWORD, LPDWORD, LPVOID)\n",
    "_read_file = _rft(windll.kernel32.ReadFile)\n",
    "\n",
    "def read_file(hfile, nbytes):\n",
    "    buf = (c_char*nbytes)()\n",
    "    lpread = LPDWORD()\n",
    "    lpread.value = 0\n",
    "    overlapped = None\n",
    "    print(hfile, buf, nbytes, lpread, overlapped)\n",
    "    res = _read_file(hfile, buf, nbytes, lpread, overlapped)\n",
    "    if res == 0:\n",
    "        raise OSError(windll.kernel32.GetLastError())\n",
    "    return buf.value\n",
    "\n",
    "_wft = ctypes.CFUNCTYPE(BOOL, HANDLE, LPVOID, DWORD, LPDWORD, LPVOID)\n",
    "_write_file = _wft(windll.kernel32.WriteFile)\n",
    "def write_file(hfile, buf, n=None):\n",
    "    if n is None:\n",
    "        n = len(buf)\n",
    "    lpwritten = LPDWORD()\n",
    "    lpwritten.value = 0\n",
    "    overlapped=None\n",
    "    res = _write_file(hfile, buf, n, lpwritten, overlapped)\n",
    "    if res == 0: \n",
    "        raise OSError(windll.kernel32.GetLastError())\n",
    "    return lpwritten.value\n",
    "\n",
    "_cft = ctypes.CFUNCTYPE(HANDLE, LPCHAR, DWORD, DWORD, LPVOID, DWORD, DWORD, HANDLE)\n",
    "_create_file = _cft(windll.kernel32.CreateFileA)\n",
    "def create_file(filename, access=GENERIC_READ|GENERIC_WRITE, share=0, sec=None, disp=OPEN_EXISTING, attrib=0, htmpl=None):\n",
    "    if not isinstance(filename, bytes):\n",
    "        filename = filename.encode('ascii')\n",
    "    rv = _create_file(filename, access, share, sec, disp, attrib, htmpl)\n",
    "    if rv == 4294967295:\n",
    "        raise OSError(windll.kernel32.GetLastError())\n",
    "    return rv\n",
    "    "
   ]
  },
  {
   "cell_type": "code",
   "execution_count": 11,
   "metadata": {},
   "outputs": [],
   "source": [
    "class M10Driver():\n",
    "    def __init__(self, port=\"\\\\\\\\.\\\\COM4\"):\n",
    "        self.port = port\n",
    "        self.handle = create_file(port)\n",
    "        \n",
    "    def write(self, msg):\n",
    "        if not isinstance(msg, bytes):\n",
    "            msg = msg.encode('ascii')\n",
    "        return write_file(self.handle, msg)\n",
    "    \n",
    "    def read(self, n=128):\n",
    "        return read_file(self.handle, n)\n",
    "    \n",
    "    def close(self, _close=CloseHandle):\n",
    "        if self.handle:\n",
    "            _close(self.handle)\n",
    "        self.handle = None\n",
    "    \n",
    "    def __del__(self):\n",
    "        self.close()\n",
    "    \n",
    "    \n",
    "class M10Gauge():\n",
    "    def __init__(self, port_or_driver):\n",
    "        if isinstance(port_or_driver, M10Driver):\n",
    "            self.driver = port_or_driver\n",
    "        else:\n",
    "            self.driver = M10Driver(port)\n",
    "        self._buf = []\n",
    "        \n",
    "    def readline(self):\n",
    "        if len(self._buf) <=1:\n",
    "            self._read_driver(1024)\n",
    "        return self._buf.pop(0)\n",
    "        \n",
    "    def _read_driver(self, n):\n",
    "        buf = self.driver.read(n)\n",
    "        if self._buf:\n",
    "            b2 = self._buf.pop()\n",
    "            b2.extend(buf)\n",
    "        else:\n",
    "            b2 = bytearray(buf)\n",
    "        lines = buf.split(b'\\r\\n')\n",
    "        self._buf.extend(lines)\n",
    "        \n",
    "    def read_display(self):\n",
    "        self.driver.write(b\"?\\r\\n\")\n",
    "        msg = b''\n",
    "        while not msg.endswith(b'\\r\\n'):\n",
    "            \n",
    "            msg += self.driver.read()\n",
    "           "
   ]
  },
  {
   "cell_type": "code",
   "execution_count": 12,
   "metadata": {},
   "outputs": [],
   "source": [
    "def read_forever(port):\n",
    "    from time import sleep\n",
    "    g = M10Gauge(M10Driver(port))\n",
    "    try:\n",
    "        while True:\n",
    "            d = g.read_display()\n",
    "            print(\"\\r%s       \\r\" % d, end=\"\")\n",
    "            sleep(0.5)\n",
    "    finally:\n",
    "        g.driver.close()\n",
    "        \n",
    "    "
   ]
  },
  {
   "cell_type": "code",
   "execution_count": 18,
   "metadata": {},
   "outputs": [],
   "source": [
    "d = M10Driver(\"\\\\\\\\.\\\\COM3\")"
   ]
  },
  {
   "cell_type": "code",
   "execution_count": 20,
   "metadata": {},
   "outputs": [
    {
     "ename": "ArgumentError",
     "evalue": "argument 1: <class 'OverflowError'>: int too long to convert",
     "output_type": "error",
     "traceback": [
      "\u001b[1;31m---------------------------------------------------------------------------\u001b[0m",
      "\u001b[1;31mArgumentError\u001b[0m                             Traceback (most recent call last)",
      "\u001b[1;32m<ipython-input-20-ef507f445a30>\u001b[0m in \u001b[0;36m<module>\u001b[1;34m()\u001b[0m\n\u001b[1;32m----> 1\u001b[1;33m \u001b[0md\u001b[0m\u001b[1;33m.\u001b[0m\u001b[0mclose\u001b[0m\u001b[1;33m(\u001b[0m\u001b[1;33m)\u001b[0m\u001b[1;33m\u001b[0m\u001b[0m\n\u001b[0m",
      "\u001b[1;32m<ipython-input-11-e07ea7454d2c>\u001b[0m in \u001b[0;36mclose\u001b[1;34m(self, _close)\u001b[0m\n\u001b[0;32m     14\u001b[0m     \u001b[1;32mdef\u001b[0m \u001b[0mclose\u001b[0m\u001b[1;33m(\u001b[0m\u001b[0mself\u001b[0m\u001b[1;33m,\u001b[0m \u001b[0m_close\u001b[0m\u001b[1;33m=\u001b[0m\u001b[0mCloseHandle\u001b[0m\u001b[1;33m)\u001b[0m\u001b[1;33m:\u001b[0m\u001b[1;33m\u001b[0m\u001b[0m\n\u001b[0;32m     15\u001b[0m         \u001b[1;32mif\u001b[0m \u001b[0mself\u001b[0m\u001b[1;33m.\u001b[0m\u001b[0mhandle\u001b[0m\u001b[1;33m:\u001b[0m\u001b[1;33m\u001b[0m\u001b[0m\n\u001b[1;32m---> 16\u001b[1;33m             \u001b[0m_close\u001b[0m\u001b[1;33m(\u001b[0m\u001b[0mself\u001b[0m\u001b[1;33m.\u001b[0m\u001b[0mhandle\u001b[0m\u001b[1;33m)\u001b[0m\u001b[1;33m\u001b[0m\u001b[0m\n\u001b[0m\u001b[0;32m     17\u001b[0m         \u001b[0mself\u001b[0m\u001b[1;33m.\u001b[0m\u001b[0mhandle\u001b[0m \u001b[1;33m=\u001b[0m \u001b[1;32mNone\u001b[0m\u001b[1;33m\u001b[0m\u001b[0m\n\u001b[0;32m     18\u001b[0m \u001b[1;33m\u001b[0m\u001b[0m\n",
      "\u001b[1;31mArgumentError\u001b[0m: argument 1: <class 'OverflowError'>: int too long to convert"
     ]
    }
   ],
   "source": [
    "d.close()"
   ]
  },
  {
   "cell_type": "code",
   "execution_count": 14,
   "metadata": {},
   "outputs": [
    {
     "name": "stdout",
     "output_type": "stream",
     "text": [
      "18446744073709551615 <__main__.c_char_Array_1 object at 0x0000019F119E0648> 1 <ctypes.wintypes.LP_c_ulong object at 0x0000019F119E0448> None\n"
     ]
    },
    {
     "name": "stderr",
     "output_type": "stream",
     "text": [
      "Exception ignored in: <bound method M10Driver.__del__ of <__main__.M10Driver object at 0x0000019F119ECA20>>\n",
      "Traceback (most recent call last):\n",
      "  File \"<ipython-input-3-e07ea7454d2c>\", line 20, in __del__\n",
      "  File \"<ipython-input-3-e07ea7454d2c>\", line 16, in close\n",
      "ctypes.ArgumentError: argument 1: <class 'OverflowError'>: int too long to convert\n"
     ]
    },
    {
     "ename": "ArgumentError",
     "evalue": "argument 1: <class 'OverflowError'>: int too long to convert",
     "output_type": "error",
     "traceback": [
      "\u001b[1;31m---------------------------------------------------------------------------\u001b[0m",
      "\u001b[1;31mArgumentError\u001b[0m                             Traceback (most recent call last)",
      "\u001b[1;32m_ctypes/callbacks.c\u001b[0m in \u001b[0;36m'calling callback function'\u001b[1;34m()\u001b[0m\n",
      "\u001b[1;31mArgumentError\u001b[0m: argument 1: <class 'OverflowError'>: int too long to convert"
     ]
    },
    {
     "data": {
      "text/plain": [
       "b''"
      ]
     },
     "execution_count": 14,
     "metadata": {},
     "output_type": "execute_result"
    }
   ],
   "source": [
    "d.read(1)"
   ]
  },
  {
   "cell_type": "code",
   "execution_count": 8,
   "metadata": {},
   "outputs": [],
   "source": [
    "g = M10Gauge(M10Driver())"
   ]
  },
  {
   "cell_type": "code",
   "execution_count": null,
   "metadata": {},
   "outputs": [],
   "source": [
    "h = g.driver.handle"
   ]
  },
  {
   "cell_type": "code",
   "execution_count": null,
   "metadata": {},
   "outputs": [],
   "source": [
    "n = 1\n",
    "buf = c_char * n\n",
    "buf = buf()\n",
    "read = DWORD()\n",
    "_read_file(h, buf, n, byref(read), None)"
   ]
  },
  {
   "cell_type": "code",
   "execution_count": null,
   "metadata": {},
   "outputs": [],
   "source": [
    "def ReadFile(hfile, n):\n",
    "    buf = (c_char * n)()\n",
    "    read = DWORD()\n",
    "    ovl = None\n",
    "    rv= _read_file(hfile, buf, n, byref(read), ovl)\n",
    "    return buf.value"
   ]
  },
  {
   "cell_type": "code",
   "execution_count": null,
   "metadata": {},
   "outputs": [],
   "source": [
    "ReadFile(h, 10)"
   ]
  },
  {
   "cell_type": "code",
   "execution_count": null,
   "metadata": {},
   "outputs": [],
   "source": []
  }
 ],
 "metadata": {
  "kernelspec": {
   "display_name": "Python 3",
   "language": "python",
   "name": "python3"
  },
  "language_info": {
   "codemirror_mode": {
    "name": "ipython",
    "version": 3
   },
   "file_extension": ".py",
   "mimetype": "text/x-python",
   "name": "python",
   "nbconvert_exporter": "python",
   "pygments_lexer": "ipython3",
   "version": "3.5.2"
  }
 },
 "nbformat": 4,
 "nbformat_minor": 1
}
