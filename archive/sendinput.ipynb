{
 "cells": [
  {
   "cell_type": "code",
   "execution_count": 1,
   "metadata": {
    "collapsed": true
   },
   "outputs": [],
   "source": [
    "import ctypes\n",
    "from ctypes import wintypes as wt\n",
    "from ctypes import sizeof\n",
    "from time import sleep, time"
   ]
  },
  {
   "cell_type": "code",
   "execution_count": 2,
   "metadata": {
    "collapsed": true
   },
   "outputs": [],
   "source": [
    "INPUT_MOUSE = 0\n",
    "INPUT_KEYBOARD = 1\n",
    "INPUT_HARDWARE = 2\n",
    "\n",
    "MOUSEEVENTF_ABSOLUTE = 0x8000\n",
    "MOUSEEVENTF_LEFTDOWN = 0x0002 \n",
    "MOUSEEVENTF_LEFTUP = 0x0004\n",
    "MOUSEEVENTF_MOVE = 0x0001\n",
    "MOUSEEVENTF_RIGHTDOWN = 0x0008\n",
    "MOUSEEVENTF_RIGHTUP = 0x0010\n",
    "MOUSEEVENTF_VIRTUALDESK = 0x4000"
   ]
  },
  {
   "cell_type": "code",
   "execution_count": 3,
   "metadata": {
    "collapsed": true
   },
   "outputs": [],
   "source": [
    "ULONG_PTR = ctypes.POINTER(ctypes.c_ulong)\n",
    "LONG = ctypes.c_long\n",
    "\n",
    "# These depend on whether UNICODE is defined\n",
    "LPCTSTR = wt.LPCSTR  # LPCWSTR or LPCSTR\n",
    "LPTSTR = wt.LPSTR  # LPWSTR or LPSTR\n",
    "\n",
    "WNDENUMPROC = ctypes.WINFUNCTYPE(wt.BOOL, wt.HWND, wt.LPARAM)"
   ]
  },
  {
   "cell_type": "code",
   "execution_count": 4,
   "metadata": {
    "collapsed": true
   },
   "outputs": [],
   "source": [
    "class KEYBDINPUT(ctypes.Structure):\n",
    "    _fields_ = [\n",
    "        ('wVk', wt.WORD),\n",
    "        ('wScan', wt.WORD),\n",
    "        (\"dwFlags\", wt.DWORD),\n",
    "        (\"time\", wt.DWORD),\n",
    "        (\"dwextraInfo\", ULONG_PTR)\n",
    "    ]\n",
    "    \n",
    "class MOUSEINPUT(ctypes.Structure):\n",
    "    _fields_ = [\n",
    "        ('dx', LONG),\n",
    "        ('dy', LONG),\n",
    "        ('mouseData', wt.DWORD),\n",
    "        ('dwFlags', wt.DWORD),\n",
    "        ('time', wt.DWORD),\n",
    "        ('dwExtraInfo', ULONG_PTR),\n",
    "    ]\n",
    "    \n",
    "class HARDWAREINPUT(ctypes.Structure):\n",
    "    _fields_ = [\n",
    "        ('uMsg', wt.DWORD),\n",
    "        ('wParamL', wt.WORD),\n",
    "        ('wParamH', wt.WORD)\n",
    "    ]\n",
    "    "
   ]
  },
  {
   "cell_type": "code",
   "execution_count": 5,
   "metadata": {
    "collapsed": true
   },
   "outputs": [],
   "source": [
    "class InptUnion(ctypes.Union):\n",
    "    _fields_ = [\n",
    "        ('mi', MOUSEINPUT),\n",
    "        ('ki', KEYBDINPUT),\n",
    "        ('hi', HARDWAREINPUT)\n",
    "    ]\n",
    "\n",
    "class INPUT(ctypes.Structure):\n",
    "    _fields_ = [\n",
    "        ('type', wt.DWORD),\n",
    "        ('ip', InptUnion)\n",
    "    ]\n",
    "    \n",
    "PINPUT = ctypes.POINTER(INPUT)"
   ]
  },
  {
   "cell_type": "code",
   "execution_count": 6,
   "metadata": {
    "collapsed": true
   },
   "outputs": [],
   "source": [
    "def make_kb_input(keycode, scan_code=0, flags=0):\n",
    "    ip = INPUT()\n",
    "    ip.type = INPUT_KEYBOARD\n",
    "    \n",
    "    ki = KEYBDINPUT()\n",
    "    ki.wVk = keycode\n",
    "    ki.wScan = scan_code\n",
    "    ki.dwFlags = flags\n",
    "    \n",
    "    ip.ip.ki = ki\n",
    "    return ip    "
   ]
  },
  {
   "cell_type": "code",
   "execution_count": 7,
   "metadata": {
    "collapsed": true
   },
   "outputs": [],
   "source": [
    "# Raw exported windows API functions\n",
    "\n",
    "user32 = ctypes.windll.user32\n",
    "k32 = ctypes.windll.kernel32\n",
    "\n",
    "_SendInput = user32.SendInput\n",
    "_SendInput.argtypes = [wt.UINT, PINPUT, ctypes.c_int]\n",
    "_SendInput.restype = wt.UINT\n",
    "\n",
    "def SendInput(*args):\n",
    "    res = _SendInput(*args)\n",
    "    if not res:\n",
    "        raise OSError(k32.GetLastError())\n",
    "    return res\n",
    "\n",
    "FindWindow = user32.FindWindowA\n",
    "FindWindow.argtypes = [LPCTSTR, LPCTSTR]\n",
    "FindWindow.restype = wt.HWND\n",
    "\n",
    "CloseHandle = k32.CloseHandle\n",
    "CloseHandle.argtypes = [wt.HANDLE]\n",
    "CloseHandle.restype = wt.BOOL\n",
    "\n",
    "EnumWindows = user32.EnumWindows\n",
    "EnumWindows.argtypes = [WNDENUMPROC, wt.LPARAM]\n",
    "EnumWindows.restype = wt.BOOL\n",
    "\n",
    "GetWindowText = user32.GetWindowTextA\n",
    "GetWindowText.argtypes = [wt.HWND, LPTSTR, ctypes.c_int]\n",
    "GetWindowText.restype = ctypes.c_int\n",
    "\n",
    "SetActiveWindow = user32.SetActiveWindow\n",
    "SetActiveWindow.argtypes = [wt.HWND]\n",
    "SetActiveWindow.restype = wt.HWND\n",
    "\n",
    "SetForegroundWindow = user32.SetForegroundWindow\n",
    "SetForegroundWindow.argtypes = [wt.HWND]\n",
    "SetForegroundWindow.restype = wt.BOOL\n",
    "\n",
    "GetLastError = k32.GetLastError\n",
    "GetLastError.argtypes = []\n",
    "GetLastError.restype = ctypes.c_int\n",
    "\n",
    "GetForegroundWindow = user32.GetForegroundWindow\n",
    "GetForegroundWindow.argtypes = []\n",
    "GetForegroundWindow.restype = wt.HWND\n",
    "\n",
    "AttachThreadInput = user32.AttachThreadInput\n",
    "AttachThreadInput.argtypes = [wt.DWORD, wt.DWORD, wt.BOOL]\n",
    "AttachThreadInput.restype = wt.BOOL"
   ]
  },
  {
   "cell_type": "code",
   "execution_count": 8,
   "metadata": {
    "collapsed": true
   },
   "outputs": [],
   "source": [
    "def get_window_text(hwnd):\n",
    "    sz = 256\n",
    "    buf = ctypes.create_string_buffer(sz)\n",
    "    r = GetWindowText(hwnd, buf, sz)\n",
    "    if not r:\n",
    "        return \"\"\n",
    "    else:\n",
    "        return buf.value.decode('ascii')\n",
    "\n",
    "def _windows_cb(hwnd, lparam):\n",
    "    \"\"\" Example callback for EnumWindows()\"\"\"\n",
    "    sz = 100\n",
    "    buf = ctypes.create_string_buffer(sz)\n",
    "    r = GetWindowText(hwnd, buf, sz)\n",
    "    if r == 0:\n",
    "        e = GetLastError()\n",
    "        if e:\n",
    "            print(\"RV was 0:\", GetLastError())\n",
    "    else:\n",
    "        print(buf.value)\n",
    "    # return 1 to continue iteration\n",
    "    # return 0 to stop iteration\n",
    "    return 1\n",
    "\n",
    "windows_cb = WNDENUMPROC(_windows_cb)\n",
    "\n",
    "def enum_windows():\n",
    "    EnumWindows(windows_cb, 0)"
   ]
  },
  {
   "cell_type": "code",
   "execution_count": 9,
   "metadata": {
    "collapsed": true
   },
   "outputs": [],
   "source": [
    "def make_mouse_move(x,y):\n",
    "    ip = INPUT()\n",
    "    ip.type = INPUT_MOUSE\n",
    "    \n",
    "    mi = MOUSEINPUT()\n",
    "    mi.dx = x\n",
    "    mi.dy = y\n",
    "    mi.mouseData = 0\n",
    "    mi.time = 0\n",
    "    mi.dwFlags=(MOUSEEVENTF_MOVE) | MOUSEEVENTF_ABSOLUTE | MOUSEEVENTF_VIRTUALDESK\n",
    "    ip.ip.mi = mi\n",
    "    return ip"
   ]
  },
  {
   "cell_type": "code",
   "execution_count": 10,
   "metadata": {
    "collapsed": true
   },
   "outputs": [],
   "source": [
    "def make_mouse_left_click(dwFlags):\n",
    "    ip = INPUT()\n",
    "    ip.type = INPUT_MOUSE\n",
    "    \n",
    "    mi = MOUSEINPUT()\n",
    "    mi.dx = 0\n",
    "    mi.dy = 0\n",
    "    mi.mouseData = 0\n",
    "    mi.time = 0\n",
    "    mi.dwFlags = MOUSEEVENTF_ABSOLUTE | MOUSEEVENTF_VIRTUALDESK | dwFlags\n",
    "    ip.ip.mi = mi\n",
    "    return ip"
   ]
  },
  {
   "cell_type": "code",
   "execution_count": 11,
   "metadata": {
    "collapsed": true
   },
   "outputs": [],
   "source": [
    "import win32api\n",
    "SCREEN_X = win32api.GetSystemMetrics(78)\n",
    "SCREEN_Y = win32api.GetSystemMetrics(79)\n",
    "\n",
    "def norm(p):\n",
    "    return int(p.x / (SCREEN_X) * 65535), int(p.y / (SCREEN_Y) * 65536)\n",
    "\n",
    "def norm2(p):\n",
    "    return int(p[0] / (SCREEN_X) * 65535), int(p[1] / (SCREEN_Y) * 65536)"
   ]
  },
  {
   "cell_type": "code",
   "execution_count": 12,
   "metadata": {
    "collapsed": true
   },
   "outputs": [],
   "source": [
    "def send_keyboard_input(keycode, scan_code=0, flags=0):\n",
    "    ip = make_kb_input(keycode, scan_code, flags)\n",
    "    return SendInput(1, PINPUT(ip), ctypes.sizeof(ip))\n",
    "\n",
    "def mouse_move(x,y):\n",
    "    ip = make_mouse_move(x,y)\n",
    "    return SendInput(1, PINPUT(ip), ctypes.sizeof(ip))\n",
    "    \n",
    "def mouse_click():\n",
    "    #ip = make_mouse_left_click(x,y, MOUSEEVENTF_LEFTDOWN)\n",
    "    #SendInput(1, PINPUT(ip), ctypes.sizeof(ip))\n",
    "    #ip = make_mouse_left_click(x, y, MOUSEEVENTF_LEFTUP)\n",
    "    \n",
    "    ip2 = make_mouse_left_click(MOUSEEVENTF_LEFTDOWN)\n",
    "    #SendInput(1, PINPUT(ip), ctypes.sizeof(ip))\n",
    "    ip3 = make_mouse_left_click(MOUSEEVENTF_LEFTUP)\n",
    "    #SendInput(1, PINPUT(ip), ctypes.sizeof(ip))\n",
    "    send_inputs(ip2, ip3)\n",
    "\n",
    "def send_inputs(*ips):\n",
    "    typ = ips[0].type\n",
    "    sz = ctypes.sizeof(ips[0])\n",
    "    assert all(ip.type == typ for ip in ips)\n",
    "    assert all(ctypes.sizeof(ip) == sz for ip in ips)\n",
    "    array = (INPUT * len(ips))()\n",
    "    for i, ip in enumerate(ips):\n",
    "        array[i] = ip\n",
    "    return SendInput(len(ips), array, sz)"
   ]
  },
  {
   "cell_type": "code",
   "execution_count": 13,
   "metadata": {
    "collapsed": true
   },
   "outputs": [],
   "source": [
    "def get_pos():\n",
    "    point = ctypes.wintypes.POINT()\n",
    "    ctypes.windll.user32.GetCursorPos(ctypes.byref(point))\n",
    "    x, y = norm(point)\n",
    "    return x,y\n",
    "\n",
    "def get_pos2():\n",
    "    point = ctypes.wintypes.POINT()\n",
    "    ctypes.windll.user32.GetCursorPos(ctypes.byref(point))\n",
    "    return point.x, point.y"
   ]
  },
  {
   "cell_type": "code",
   "execution_count": 14,
   "metadata": {
    "collapsed": true
   },
   "outputs": [],
   "source": [
    "def run_clicks(wait=0.05):\n",
    "    xs, ys = get_pos()\n",
    "    try:\n",
    "        while True:\n",
    "            mouse_click()\n",
    "            sleep(wait)\n",
    "        #sleep(5)\n",
    "            xs2, xy2 = get_pos()\n",
    "            if xs2 != xs or xy2 != ys:\n",
    "                return\n",
    "    except KeyboardInterrupt:\n",
    "        pass\n",
    "\n",
    "def run_clicks2(x, y, wait=0.05):\n",
    "    while True:\n",
    "        x1, y1 = get_pos()\n",
    "        mouse_move(x, y)\n",
    "        mouse_click()\n",
    "        mouse_move(x1, y1)\n",
    "        sleep(wait)\n",
    "        if win32api.GetKeyState(0x02) & 0x8000:\n",
    "            return\n",
    "        "
   ]
  },
  {
   "cell_type": "code",
   "execution_count": 15,
   "metadata": {},
   "outputs": [],
   "source": [
    "# def right_click_down():\n",
    "#     return win32api.GetKeyState(0x02) & 0x8000\n",
    "\n",
    "# def click_for(t, w=0.05):\n",
    "#     n = time()\n",
    "#     e = n + t\n",
    "#     x,y = get_pos()\n",
    "#     while time() < e:\n",
    "#         mouse_click()\n",
    "#         sleep(w)\n",
    "#         x2, y2 = get_pos()\n",
    "#         if x != x2 or y != y2 or right_click_down():\n",
    "#             raise StopIteration\n",
    "\n",
    "# def mouse_move2(p):\n",
    "#     x,y = p; mouse_move(x,y)\n",
    "    \n",
    "# c2a = 50897, 31602\n",
    "# gh = 50681, 38666\n",
    "# hl = 50681, 34952\n",
    "# mid = 44365, 33132\n",
    "\n",
    "# while True:\n",
    "#     if right_click_down():\n",
    "#         break\n",
    "#     mouse_move2(c2a)\n",
    "#     mouse_click()\n",
    "    \n",
    "#     mouse_move2(gh)\n",
    "#     mouse_click()\n",
    "    \n",
    "#     mouse_move2(mid)\n",
    "#     click_for(16)\n",
    "    \n",
    "#     mouse_move2(hl)\n",
    "#     mouse_click()\n",
    "    \n",
    "#     mouse_move2(mid)\n",
    "#     click_for(21)"
   ]
  },
  {
   "cell_type": "code",
   "execution_count": null,
   "metadata": {
    "collapsed": true
   },
   "outputs": [],
   "source": []
  },
  {
   "cell_type": "code",
   "execution_count": 16,
   "metadata": {
    "collapsed": true
   },
   "outputs": [],
   "source": [
    "def get_cursor_hwnd():\n",
    "    return win32gui.WindowFromPoint(get_pos2())"
   ]
  },
  {
   "cell_type": "code",
   "execution_count": 17,
   "metadata": {
    "collapsed": true,
    "scrolled": true
   },
   "outputs": [],
   "source": [
    "class NotFound(NameError): pass\n",
    "def find_window(title):\n",
    "    if not isinstance(title, bytes):\n",
    "        title = title.encode('ascii')\n",
    "    h = FindWindow(None, title)\n",
    "    if not h:\n",
    "        raise NameError(title)\n",
    "    return h\n"
   ]
  },
  {
   "cell_type": "code",
   "execution_count": 18,
   "metadata": {
    "collapsed": true
   },
   "outputs": [],
   "source": [
    "def is_foreground(hcmp):\n",
    "    hfgd = GetForegroundWindow()\n",
    "    if hfgd == hcmp:\n",
    "        rv = True\n",
    "    else:\n",
    "        rv = False\n",
    "    return rv"
   ]
  },
  {
   "cell_type": "code",
   "execution_count": 19,
   "metadata": {
    "collapsed": true
   },
   "outputs": [],
   "source": [
    "from time import sleep\n",
    "import tkinter as tk\n",
    "import tkinter.ttk as ttk\n",
    "import win32gui\n",
    "import os"
   ]
  },
  {
   "cell_type": "code",
   "execution_count": 20,
   "metadata": {
    "collapsed": true
   },
   "outputs": [],
   "source": [
    "SK_X = 0\n",
    "SK_Y = 0\n",
    "\n",
    "def get_coord():\n",
    "    global SK_X, SK_Y\n",
    "    sleep(2)\n",
    "    SK_X, SK_Y = get_pos()\n",
    "    print(\"pos got!\")\n",
    "    \n",
    "def do_click(wait):\n",
    "    x, y = get_pos()\n",
    "    mouse_move(SK_X, SK_Y)\n",
    "    run_clicks(wait)\n",
    "    mouse_move(x, y)\n",
    "    \n",
    "def set_topmost(hwnd):\n",
    "    GWL_EXSTYLE = -20\n",
    "    WS_EX_TOPMOST = 0x00000008\n",
    "    dwExStyle = win32gui.GetWindowLong(hwnd, GWL_EXSTYLE);\n",
    "    dwExStyle |= WS_EX_TOPMOST;\n",
    "    win32gui.SetWindowLong(hwnd, GWL_EXSTYLE, dwExStyle);\n",
    "    \n",
    "def allow_set_foreground():\n",
    "    if not ctypes.windll.user32.AllowSetForegroundWindow(os.getpid()):\n",
    "        raise OSError(win32api.GetLastError())\n",
    "    \n",
    "def sendkeys(wait=0.05):\n",
    "    r = tk.Tk()\n",
    "    f = ttk.LabelFrame(r, text=\"click\")\n",
    "    coord = ttk.Button(f, text=\"Get Pos\", command=get_coord)\n",
    "    click = ttk.Button(f, text=\"Click\", command=lambda: do_click(wait))\n",
    "    stop  = ttk.Button(f, text=\"Stop\", command=lambda: r.destroy())\n",
    "   \n",
    "    f.grid()\n",
    "    coord.grid(row=1, column=0)\n",
    "    click.grid(row=1, column=1)\n",
    "    stop.grid(row=1, column=2)\n",
    "    set_topmost(r.winfo_id())\n",
    "    \n",
    "    r.mainloop()"
   ]
  },
  {
   "cell_type": "code",
   "execution_count": 21,
   "metadata": {},
   "outputs": [
    {
     "name": "stdout",
     "output_type": "stream",
     "text": [
      "pos got!\n"
     ]
    }
   ],
   "source": [
    "sendkeys(0.05)"
   ]
  },
  {
   "cell_type": "code",
   "execution_count": null,
   "metadata": {
    "collapsed": true
   },
   "outputs": [],
   "source": [
    "def set_topmost(hwnd):\n",
    "    GWL_EXSTYLE = -20\n",
    "    GWL_EXSTYLE = 0x00000008L\n",
    "    dwExStyle = win32gui.GetWindowLong(hwnd, GWL_EXSTYLE);\n",
    "    dwExStyle &= ~WS_EX_TOPMOST;\n",
    "    win32gui.SetWindowLong(hwnd, GWL_EXSTYLE, dwExStyle);"
   ]
  },
  {
   "cell_type": "code",
   "execution_count": 18,
   "metadata": {
    "collapsed": true
   },
   "outputs": [],
   "source": [
    "class SendKeysClient():\n",
    "    def __init__(self, hwnd=0):\n",
    "        if isinstance(hwnd, int):\n",
    "            self.hwnd = hwnd\n",
    "        elif isinstance(hwnd, (str, bytes)):\n",
    "            self.hwnd = find_window(hwnd)\n",
    "        else:\n",
    "            raise TypeError(type(hwnd))\n",
    "                \n",
    "    def is_foreground(self):\n",
    "        return is_foreground(self.hwnd)\n",
    "    \n",
    "    def get_window_name(self):\n",
    "        return get_window_text(self.hwnd)\n",
    "    \n",
    "    def send_key(self, key):\n",
    "        while not self.is_foreground():\n",
    "            sleep(0.1)\n",
    "        send_keyboard_input(key)\n",
    "        \n",
    "    def __del__(self):\n",
    "        if self.hwnd:\n",
    "            CloseHandle(self.hwnd)\n",
    "  "
   ]
  },
  {
   "cell_type": "code",
   "execution_count": 19,
   "metadata": {
    "collapsed": true
   },
   "outputs": [],
   "source": [
    "class SimpleButton(ttk.Button):\n",
    "    def __init__(self, parent, text, cmd):\n",
    "        super().__init__(parent, text=text, command=cmd)\n",
    "        \n",
    "class SimpleLabel(ttk.Label):\n",
    "    def __init__(self, parent, text):\n",
    "        self.var = tk.StringVar(None, text)\n",
    "        super().__init__(parent, textvariable=self.var)\n",
    "        \n",
    "    def get(self):\n",
    "        return self.var.get()\n",
    "    \n",
    "    def set(self, s):\n",
    "        self.var.set(s)\n",
    "        \n",
    "\n",
    "class _StatusFrameField():\n",
    "    def __init__(self, parent, name, value=\"\"):\n",
    "        self.l_name = SimpleLabel(parent, text=name)\n",
    "        self.l_value = SimpleLabel(parent, text=value)\n",
    "    \n",
    "    def grid(self, row=0, col=0):\n",
    "        sticky_WN = (tk.W, tk.N)\n",
    "        self.l_name.grid(row=row, column=col, sticky=sticky_WN)\n",
    "        self.l_value.grid(row=row, column=col+1, sticky=sticky_WN)\n",
    "        \n",
    "    def grid_forget(self):\n",
    "        self.frame.grid_forget()\n",
    "        \n",
    "    def set_value(self, v):\n",
    "        self.l_value.set(str(v))\n",
    "        \n",
    "    def set_name(self, n):\n",
    "        self.l_name.set(n)\n",
    "        \n",
    "        \n",
    "class StatusFrame():\n",
    "    def __init__(self, parent, title=\"StatusFrame\", fields=()):\n",
    "        self.frame = ttk.LabelFrame(parent, text=title)\n",
    "        self.field_labels = {}\n",
    "        for f in fields:\n",
    "            self.add_field(f)\n",
    "    \n",
    "    def add_field(self, key, text, value=\"\"):\n",
    "        f = _StatusFrameField(self.frame, text, value)\n",
    "        self.field_labels[key] = f\n",
    "        return f\n",
    "        \n",
    "    def grid(self, row=0, column=0, **kw):\n",
    "        rows = len(self.field_labels) or 1\n",
    "        self.frame.grid(row=row, column=column, rowspan=rows, columnspan=2, **kw)\n",
    "        for i, f in enumerate(self.field_labels.values()):\n",
    "            f.grid(i)\n",
    "            \n",
    "    def __getitem__(self, key):\n",
    "        return self.field_labels[key]\n",
    "    \n",
    "    def update_field(self, key, text=None, value=None):\n",
    "        f = self.field_labels[key]\n",
    "        if text:\n",
    "            f.l_name.set(text)\n",
    "        if value:\n",
    "            f.l_value.set(value)\n",
    "        \n",
    "    def update_field_value(self, key, value):\n",
    "        self.update_field(key, None, value)\n",
    "    \n",
    "    def update_field_text(self, key, text):\n",
    "        self.update_field(key, text, None)\n",
    "                "
   ]
  },
  {
   "cell_type": "code",
   "execution_count": 20,
   "metadata": {
    "collapsed": true
   },
   "outputs": [],
   "source": [
    "class SendKeysFrame():\n",
    "    def __init__(self, parent, text):\n",
    "        self.frame = ttk.LabelFrame(parent, text=text)\n",
    "        self.expl_label = SimpleLabel(self.frame, text=\"\")\n",
    "        self.start = SimpleButton(self.frame, \"Start\", lambda: self.start_cmd())\n",
    "        self.stop = SimpleButton(self.frame, \"Stop\", lambda: self.stop_cmd())\n",
    "        self.status = StatusFrame(parent, \"Status:\")\n",
    "        \n",
    "    def start_cmd(self):\n",
    "        pass\n",
    "    \n",
    "    def stop_cmd(self):\n",
    "        pass\n",
    "    \n",
    "    def grid(self, row=0, col=0):\n",
    "        self.frame.grid(row=row, column=col, sticky=tk.W)\n",
    "        self.start.grid(row=0, column=0)\n",
    "        self.stop.grid(row=0, column=1)\n",
    "        self.status.grid(row=row+1, column=0)\n",
    "        \n",
    "    def grid_forget(self):\n",
    "        self.frame.grid_forget()\n",
    "        self.start.grid_forget()\n",
    "        self.stop.grid_forget()\n",
    "        \n",
    "    def set_explain(self, e):\n",
    "        self.expl_label.set(e)\n",
    "        \n",
    "    def add_status(self, name, val=\"\"):\n",
    "        return self.status.add_field(name, val)\n",
    "    "
   ]
  },
  {
   "cell_type": "code",
   "execution_count": 21,
   "metadata": {
    "collapsed": true
   },
   "outputs": [],
   "source": [
    "def test1():\n",
    "    r = tk.Tk()\n",
    "    f = ttk.LabelFrame(r, text=\"My Frame\")\n",
    "    start = ttk.Button(f, text=\"Start\")\n",
    "    stop = ttk.Button(f, text=\"Stop\", command=lambda: r.destroy())\n",
    "    label = ttk.Label(f, text=\"Send key presses to application\")\n",
    "    status = StatusFrame(f)\n",
    "    status.add_field(\"foo\", \"bar\")\n",
    "    status.add_field(\"baz\", \"hi\")\n",
    "    status.add_field(\"hello\", \"world\")\n",
    "\n",
    "    f.grid()\n",
    "    label.grid(row=0, column=0, columnspan=2)\n",
    "    start.grid(row=1, column=0)\n",
    "    stop.grid(row=1, column=1)\n",
    "    status.grid(2, 0)\n",
    "    status['foo'].set_value(\"foobar\")\n",
    "\n",
    "    r.mainloop()"
   ]
  },
  {
   "cell_type": "code",
   "execution_count": 22,
   "metadata": {
    "collapsed": true
   },
   "outputs": [],
   "source": [
    "class DiabloMacroApp():\n",
    "    def __init__(self, hwnd=0):\n",
    "        self.client = DiabloKeysClient(hwnd)\n",
    "        self.root = tk.Tk()\n",
    "        self.frame = SendKeysFrame(self.root, \"Diablo Macro App\")\n",
    "        self.frame.start_cmd = self.start\n",
    "        self.frame.stop_cmd = self.stop\n",
    "        \n",
    "        self.update_counter = 0\n",
    "        self.hbt_f = self.frame.add_status(\"Update Counter:\", 0)\n",
    "        self.wtitle_f = self.frame.add_status(\"Window:\", self.client.get_window_name())\n",
    "        self.hwnd_f = self.frame.add_status(\"hWnd:\", self.client.hwnd)\n",
    "        self.fgd_f = self.frame.add_status(\"In Foreground:\", False)\n",
    "        self.debug_f = self.frame.add_status(\"Debug_Info:\", \"\")\n",
    "        self.debug_f.counter = 0\n",
    "        \n",
    "        # Misc\n",
    "        self.root.bind(\"<Visibility>\", self.event_handler)\n",
    "        self.root.bind(\"<Map>\", self.event_handler)\n",
    "        self.root.bind(\"\")\n",
    "        \n",
    "        # tkinter handling\n",
    "        self._update_id = None\n",
    "        self._update_interval = 100\n",
    "        \n",
    "    def event_handler(self, e):\n",
    "        self.debug_f.counter += 1\n",
    "        s = \"%s\\n%s\\n%s\" % (self.debug_f.counter, str(e), fmt_dir(e))\n",
    "        self.debug_f.set_value(s)\n",
    "\n",
    "    def run(self):\n",
    "        self.schedule_update()\n",
    "        self.frame.grid()\n",
    "        self.root.lift()\n",
    "        self.root.mainloop()\n",
    "        \n",
    "    def start(self):\n",
    "        pass\n",
    "        \n",
    "    def stop(self):\n",
    "        pass\n",
    "        \n",
    "    def schedule_update(self):\n",
    "        try:\n",
    "            self._update()\n",
    "        finally:\n",
    "            self._update_id = self.root.after(self._update_interval, self.schedule_update)\n",
    "            \n",
    "    def _update(self):\n",
    "        self.update_counter += 1\n",
    "        self.hbt_f.set_value(self.update_counter)\n",
    "        \n",
    "        title = self.client.get_window_name()\n",
    "        self.wtitle_f.set_value(title)\n",
    "        \n",
    "        in_fg = self.client.is_foreground()\n",
    "        self.fgd_f.set_value(in_fg)"
   ]
  },
  {
   "cell_type": "code",
   "execution_count": 23,
   "metadata": {
    "collapsed": true
   },
   "outputs": [],
   "source": [
    "def test2(title='Diablo III'):\n",
    "    d = DiabloMacroApp(hwnd=find_window(title))\n",
    "    d.run()\n",
    "    return d"
   ]
  },
  {
   "cell_type": "code",
   "execution_count": 24,
   "metadata": {
    "collapsed": true
   },
   "outputs": [],
   "source": [
    "def find_npp():\n",
    "    h = 0\n",
    "    def find_wnd_cb(hwnd, lparam):\n",
    "        nonlocal h\n",
    "        wnd_frag = ctypes.cast(lparam, py_object_p).contents.value\n",
    "        if wnd_frag in get_window_text(hwnd):\n",
    "            h = hwnd\n",
    "            return 0\n",
    "        return 1\n",
    "    find_npp = WNDENUMPROC(_find_npp)\n",
    "    py_object_p = ctypes.POINTER(ctypes.py_object)\n",
    "    foo = ctypes.py_object(\"Notepad++\")\n",
    "    foo = py_object_p(foo)\n",
    "    lp = ctypes.cast(foo, ctypes.c_void_p)\n",
    "    EnumWindows(find_npp, wt.LPARAM(lp.value))\n",
    "    assert h, \"npp not running\"\n",
    "    return h"
   ]
  },
  {
   "cell_type": "code",
   "execution_count": 25,
   "metadata": {
    "collapsed": true
   },
   "outputs": [],
   "source": [
    "import types\n",
    "\n",
    "def trunc(s, n=20):\n",
    "    return str(s)[:20]\n",
    "\n",
    "def is_magic(a): return a.startswith(\"__\") and a.endswith(\"__\")\n",
    "def is_func(v): return isinstance(v, (types.MethodType, types.FunctionType))\n",
    "def is_private(a): return a.startswith(\"_\")\n",
    "    \n",
    "def fmt_dir(o, sep='\\n', skip_private=False, skip_functions=True, skip_magic=True):\n",
    "    attrs = dir(o)\n",
    "    buf = []\n",
    "    for a in attrs:\n",
    "        if skip_private and is_private(a): continue\n",
    "        if skip_magic and is_magic(a): continue\n",
    "        \n",
    "        try:\n",
    "            v = getattr(o, a)\n",
    "        except AttributeError:\n",
    "            v = \"<error>\"\n",
    "            \n",
    "        if skip_functions and is_func(v): continue\n",
    "        \n",
    "        buf.append(\"%s: %s\" % (trunc(a), trunc(v)))\n",
    "    return sep.join(buf)    "
   ]
  },
  {
   "cell_type": "code",
   "execution_count": 32,
   "metadata": {
    "collapsed": true
   },
   "outputs": [],
   "source": [
    "WM_LBUTTONDOWN = 0x0201\n",
    "WM_LBUTTONUP = 0x0202\n",
    "x2, y2 = norm2((x, y))\n",
    "win32api.SendMessage(4196156, WM_LBUTTONDOWN, 0x0001, pack_coord(x2, y2))\n",
    "win32api.SendMessage(4196156, WM_LBUTTONUP, 0, pack_coord(x2, y2))\n",
    "\n",
    "def pack_coord(x, y):\n",
    "    return ((y & 0xffff) << 16) | (x & 0xffff)test1()"
   ]
  },
  {
   "cell_type": "code",
   "execution_count": null,
   "metadata": {
    "collapsed": true
   },
   "outputs": [],
   "source": []
  },
  {
   "cell_type": "code",
   "execution_count": null,
   "metadata": {
    "collapsed": true
   },
   "outputs": [],
   "source": []
  },
  {
   "cell_type": "code",
   "execution_count": null,
   "metadata": {
    "collapsed": true
   },
   "outputs": [],
   "source": []
  }
 ],
 "metadata": {
  "kernelspec": {
   "display_name": "Python 3",
   "language": "python",
   "name": "python3"
  },
  "language_info": {
   "codemirror_mode": {
    "name": "ipython",
    "version": 3
   },
   "file_extension": ".py",
   "mimetype": "text/x-python",
   "name": "python",
   "nbconvert_exporter": "python",
   "pygments_lexer": "ipython3",
   "version": "3.6.1"
  }
 },
 "nbformat": 4,
 "nbformat_minor": 1
}
