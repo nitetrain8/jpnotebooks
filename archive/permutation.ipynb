{
 "cells": [
  {
   "cell_type": "code",
   "execution_count": 27,
   "metadata": {},
   "outputs": [],
   "source": [
    "def perm(l):\n",
    "    i = j = len(l) - 1\n",
    "    k = 0\n",
    "    \n",
    "    def swap(a,b):\n",
    "        tmp = l[a]\n",
    "        l[a] = l[b]\n",
    "        l[b] = tmp\n",
    "    \n",
    "    while k < len(l):\n",
    "        while i > k:\n",
    "            while j >= k:\n",
    "                swap(i, j)\n",
    "                print(k, j, i, l)\n",
    "#                 print(l)\n",
    "                yield l\n",
    "                j -= 1\n",
    "            # j == k\n",
    "            #swap(i, j)\n",
    "            i -= 1\n",
    "            j = i - 1\n",
    "        i = len(l) - 1\n",
    "        swap(k, i)\n",
    "        k += 1\n",
    "        j = i - 1\n",
    "            \n",
    "            "
   ]
  },
  {
   "cell_type": "code",
   "execution_count": 28,
   "metadata": {},
   "outputs": [
    {
     "name": "stdout",
     "output_type": "stream",
     "text": [
      "0 2 2 [1, 2, 3]\n",
      "0 1 2 [1, 3, 2]\n",
      "0 0 2 [2, 3, 1]\n",
      "0 0 1 [3, 2, 1]\n",
      "1 1 2 [1, 3, 2]\n"
     ]
    }
   ],
   "source": [
    "for i in perm([1,2,3]):\n",
    "    pass\n",
    "#     print(i)"
   ]
  },
  {
   "cell_type": "code",
   "execution_count": null,
   "metadata": {},
   "outputs": [],
   "source": []
  }
 ],
 "metadata": {
  "kernelspec": {
   "display_name": "Python 3",
   "language": "python",
   "name": "python3"
  },
  "language_info": {
   "codemirror_mode": {
    "name": "ipython",
    "version": 3
   },
   "file_extension": ".py",
   "mimetype": "text/x-python",
   "name": "python",
   "nbconvert_exporter": "python",
   "pygments_lexer": "ipython3",
   "version": "3.5.2"
  }
 },
 "nbformat": 4,
 "nbformat_minor": 2
}
