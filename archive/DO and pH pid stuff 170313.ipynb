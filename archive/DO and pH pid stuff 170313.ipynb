{
 "cells": [
  {
   "cell_type": "code",
   "execution_count": 1,
   "metadata": {
    "collapsed": true
   },
   "outputs": [],
   "source": [
    "from hello import hello3\n",
    "\n",
    "h = hello3.open_hello('71.189.82.196:88')\n",
    "h.login()\n",
    "\n",
    "data = {}\n",
    "for group in (\"agitation\", \"temperature\", \"ph\", \"do\"):\n",
    "    td = h.getTrendData(\"15min\", group)\n",
    "    data[group] = td['last']\n",
    "\n",
    "len(data.keys())\n",
    "\n",
    "%matplotlib\n",
    "import matplotlib.pyplot as plt\n",
    "\n",
    "from datetime import datetime\n",
    "fig = plt.figure()\n",
    "ax = fig.add_subplot(111)\n",
    "for g in data:\n",
    "    d = data[g]\n",
    "    x,y = list(zip(*d))\n",
    "    t = [datetime.fromtimestamp(z/1000) for z in x]\n",
    "    ax.plot(x,y, label=g)\n",
    "\n",
    "ax.legend()"
   ]
  },
  {
   "cell_type": "code",
   "execution_count": 55,
   "metadata": {
    "collapsed": false
   },
   "outputs": [],
   "source": [
    "from officelib.xllib import *\n",
    "from officelib.const import xlconst as xlc\n",
    "\n",
    "\n",
    "def process_data(ws, cell, all_chart):\n",
    "    cell.Offset(1,2).EntireColumn.Insert()\n",
    "    formula = \"=(%s-%s)*%s\"\n",
    "    a1 = cell.Offset(2,1).GetAddress(False,False)\n",
    "    a2 = cell.Offset(2,1).Address\n",
    "    a3 = cell.Offset(1,2).Address\n",
    "    cell.Offset(2,2).Value = formula % (a1, a2, a3)\n",
    "    af_rng = cell_range(cell.Offset(2,2), cell.End(xlc.xlDown).Offset(1,2))\n",
    "    cell.Offset(2,2).AutoFill(af_rng)\n",
    "    af_rng.NumberFormat = \"0.00\"\n",
    "    cell.Offset(1,2).Value = 24\n",
    "    make_charts(ws, cell.Offset(1,2), all_chart)\n",
    "    \n",
    "def get_chart_range(cell):\n",
    "    x = cell_range(cell.Offset(2,1), cell.End(xlc.xlDown))\n",
    "    y = cell_range(cell.Offset(2,2), cell.End(xlc.xlDown).Offset(1,2))\n",
    "    return x,y\n",
    "    \n",
    "def make_charts(ws, cell, all_chart):\n",
    "    x,y = get_chart_range(cell)\n",
    "    chart = CreateChart(ws, xlc.xlXYScatterLinesNoMarkers)\n",
    "    CreateDataSeries(chart, x, y, cell.Offset(1,2).Value)\n",
    "    CreateDataSeries(all_chart, x, y, cell.Offset(1,2).Value)\n",
    "    chart.ApplyLayout(8)\n",
    "    return chart\n",
    "\n",
    "def do_import(fn, variables):\n",
    "    global xl, wb, ws, cells, cell_range\n",
    "    xl = Excel()\n",
    "    wb = xl.Workbooks.Open(fn)\n",
    "    ws = wb.Worksheets(1)\n",
    "    cells = ws.Cells\n",
    "    cell_range = cells.Range\n",
    "    \n",
    "\n",
    "    \n",
    "    all_chart = CreateChart(ws, xlc.xlXYScatterLinesNoMarkers)\n",
    "    all_chart.ApplyLayout(8)\n",
    "    \n",
    "    FormatChart(all_chart, None, \"\", \"Time(hr)\", \"DOPV(%)\")\n",
    "    for v in variables:\n",
    "        c = cells.Find(What=v, SearchOrder=xlc.xlByRows)\n",
    "        if c is None:\n",
    "            raise ValueError(v)\n",
    "        process_data(ws, c, all_chart)\n",
    "        \n",
    "    for i, s in enumerate(all_chart.SeriesCollection()):\n",
    "        if i == 0: continue\n",
    "        s.AxisGroup = 2\n",
    "    all_chart.Axes(xlc.xlSecondary, xlc.xlValue).HasTitle = True\n",
    "    all_chart.Axes(xlc.xlSecondary, xlc.xlValue).AxisTitle.Text = \"Flow Request (%)\"\n",
    "    all_chart.Location(xlc.xlLocationAsNewSheet)\n",
    "    \n",
    "    "
   ]
  },
  {
   "cell_type": "code",
   "execution_count": 60,
   "metadata": {
    "collapsed": true
   },
   "outputs": [],
   "source": [
    "variables = [\n",
    "    \"DOPV(%)\",\n",
    "    \"DON2FlowActualRequest(%)\",\n",
    "    \"DOO2FlowControllerRequestLimited(%)\",\n",
    "]\n",
    "\n",
    "do_import('C:\\\\Users\\\\Nathan\\\\Downloads\\\\2017031310394614.csv', variables)"
   ]
  },
  {
   "cell_type": "code",
   "execution_count": 61,
   "metadata": {
    "collapsed": false
   },
   "outputs": [],
   "source": [
    "variables[1] = \"MFCN2FlowFeedback(LPM)\"\n",
    "do_import('C:\\\\PBSCloudStation\\\\(2) R&D-Product Engineering\\\\Software Development\\\\3.0 Project\\\\Phase 2 Working Copy\\\\PID Tuning\\\\DO\\\\Raw Data\\\\15L DO stabilize 100% to 50% 170309.csv', variables)"
   ]
  },
  {
   "cell_type": "code",
   "execution_count": 135,
   "metadata": {
    "collapsed": true
   },
   "outputs": [],
   "source": [
    "import numpy as np\n",
    "\n",
    "\n",
    "def qf(a,b,c):\n",
    "    return (-b+np.sqrt(b**2-4*a*c))/(2*a)\n",
    "\n",
    "def ph_to_co2(ph, hco3):\n",
    "    h = 10**(-ph)\n",
    "    w = 1e-7\n",
    "    ka = 4.45e-7\n",
    "    bc = hco3 + h - w\n",
    "    co2 = bc * h / ka\n",
    "    return co2 / 3.4e-2\n",
    "\n",
    "def cpH(co2, bicarb):\n",
    "    # co2 as fraction of atmosphere\n",
    "    c1 = co2 * 3.4e-2  # henry's law\n",
    "    c2 = 1e-7\n",
    "    c3 = bicarb\n",
    "    ka = 4.45e-7  # pka 6.35\n",
    "    a = 1\n",
    "    b = c2+c3+ka\n",
    "    c = c2*c3-ka*c1\n",
    "    x=qf(a,b,c)\n",
    "    return -np.log10(c2+x)"
   ]
  },
  {
   "cell_type": "code",
   "execution_count": 137,
   "metadata": {
    "collapsed": false
   },
   "outputs": [],
   "source": [
    "from decimal import Decimal as D\n",
    "for ph in 3, 4, 5, 6, 7, 8, 9, 10, 11, 12, 13:\n",
    "    co2_exp = ph_to_co2(ph, 2.02/84)\n",
    "    "
   ]
  },
  {
   "cell_type": "code",
   "execution_count": 119,
   "metadata": {
    "collapsed": false
   },
   "outputs": [
    {
     "data": {
      "text/plain": [
       "4.45e-07"
      ]
     },
     "execution_count": 119,
     "metadata": {},
     "output_type": "execute_result"
    }
   ],
   "source": [
    "m = 2.02/84\n",
    "ph = 13\n",
    "co2 = ph4(ph, m)\n",
    "\n",
    "w=1e-7\n",
    "h=10**(-ph)\n",
    "bc = m + h - w\n",
    "x = co2\n",
    "h * bc / x"
   ]
  },
  {
   "cell_type": "code",
   "execution_count": 123,
   "metadata": {
    "collapsed": false
   },
   "outputs": [
    {
     "data": {
      "text/plain": [
       "5.403936864655966e-09"
      ]
     },
     "execution_count": 123,
     "metadata": {},
     "output_type": "execute_result"
    }
   ],
   "source": [
    "x"
   ]
  },
  {
   "cell_type": "code",
   "execution_count": 129,
   "metadata": {
    "collapsed": false
   },
   "outputs": [
    {
     "data": {
      "text/plain": [
       "11.732718352753357"
      ]
     },
     "execution_count": 129,
     "metadata": {},
     "output_type": "execute_result"
    }
   ],
   "source": [
    "cpH(0, m)"
   ]
  },
  {
   "cell_type": "code",
   "execution_count": null,
   "metadata": {
    "collapsed": true
   },
   "outputs": [],
   "source": []
  }
 ],
 "metadata": {
  "kernelspec": {
   "display_name": "Python 3",
   "language": "python",
   "name": "python3"
  },
  "language_info": {
   "codemirror_mode": {
    "name": "ipython",
    "version": 3
   },
   "file_extension": ".py",
   "mimetype": "text/x-python",
   "name": "python",
   "nbconvert_exporter": "python",
   "pygments_lexer": "ipython3",
   "version": "3.5.2"
  }
 },
 "nbformat": 4,
 "nbformat_minor": 1
}
