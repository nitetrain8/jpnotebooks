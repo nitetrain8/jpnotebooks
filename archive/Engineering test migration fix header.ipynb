{
 "cells": [
  {
   "cell_type": "code",
   "execution_count": 1,
   "metadata": {
    "collapsed": true
   },
   "outputs": [],
   "source": [
    "from officelib.wordlib import *\n",
    "from officelib.const import wdconst as wc"
   ]
  },
  {
   "cell_type": "code",
   "execution_count": 6,
   "metadata": {
    "collapsed": true
   },
   "outputs": [],
   "source": [
    "def pd(o):\n",
    "    return sorted(o._prop_map_get_.keys())"
   ]
  },
  {
   "cell_type": "code",
   "execution_count": 86,
   "metadata": {
    "collapsed": false
   },
   "outputs": [],
   "source": [
    "def fh(d, ids):\n",
    "    h = d.Sections(1).Headers(wc.wdHeaderFooterFirstPage)\n",
    "    h.Range.Cut()\n",
    "    r = d.Range()\n",
    "    r.Move(wc.wdStory, -1)\n",
    "    r.Paste()\n",
    "    \n",
    "    hr = h.Range\n",
    "    hr.Text = ids\n",
    "    hr.ParagraphFormat.Alignment = wc.wdAlignParagraphRight\n",
    "    "
   ]
  },
  {
   "cell_type": "code",
   "execution_count": 153,
   "metadata": {
    "collapsed": true
   },
   "outputs": [],
   "source": [
    "istr = re.compile(r\"IE\\d{5}-\\d{2}\").match\n",
    "def fix(p, fn):\n",
    "    print(\"Updating %s\"%fn)\n",
    "    ids = fn.split()[0]\n",
    "    fp = os.path.join(p, fn)\n",
    "    d = w.Documents.Open(fp)\n",
    "    fh(d, ids)\n",
    "    os.makedirs((os.path.join(p, 'conv')), exist_ok=True)\n",
    "    d.SaveAs(os.path.join(p, \"conv\", fn))\n",
    "    d.Close()\n",
    "    \n",
    "def fix2(p):\n",
    "    global w\n",
    "    try:\n",
    "        w.Visible\n",
    "    except Exception:  # com_error\n",
    "        w = Word()\n",
    "    files=os.listdir(p)\n",
    "    files = filter(lambda f: istr(f) and f.endswith(\".docx\"), files)\n",
    "    for file in files:\n",
    "        fix(p, file)"
   ]
  },
  {
   "cell_type": "code",
   "execution_count": 70,
   "metadata": {
    "collapsed": true
   },
   "outputs": [],
   "source": [
    "e1 = '\\\\\\\\PBSStation\\\\pbsicmi\\\\Engineering\\\\Phase Books - Current 15-2-4\\\\15L-80L Mag Drive\\\\Phase 2\\\\IE00001'"
   ]
  },
  {
   "cell_type": "code",
   "execution_count": 93,
   "metadata": {
    "collapsed": false
   },
   "outputs": [],
   "source": [
    "fix2(e1)"
   ]
  },
  {
   "cell_type": "code",
   "execution_count": 154,
   "metadata": {
    "collapsed": false
   },
   "outputs": [],
   "source": [
    "import re\n",
    "isdate = re.compile(r\"\\d{1,2}/\\d{1,2}/\\d{2,4}\").match\n",
    "\n",
    "def ff(f, ds):\n",
    "    r = f.Result\n",
    "    s = r.Text\n",
    "    if isdate(s) and s[-2:] == \"17\":\n",
    "        f.Delete()\n",
    "        r.Text = ds\n",
    "\n",
    "def fixdates(d, ds):\n",
    "    for f in d.Fields:\n",
    "        ff(f, ds)\n",
    "    for s in d.Sections:\n",
    "        for typ in (wc.wdHeaderFooterFirstPage, wc.wdHeaderFooterPrimary):\n",
    "            foot = s.Footers(typ)\n",
    "            for f in foot.Range.Fields:\n",
    "                ff(f, ds)"
   ]
  },
  {
   "cell_type": "code",
   "execution_count": 155,
   "metadata": {
    "collapsed": false
   },
   "outputs": [],
   "source": [
    "def fixdir(p):\n",
    "    files = [f for f in os.listdir(p) if istr(f) and f.endswith(\".docx\")]\n",
    "    fds = []\n",
    "    for f in files:\n",
    "        ds = f.split()[1].split(\".\")[0]\n",
    "        y = ds[:2]\n",
    "        m = ds[2:4]\n",
    "        d = ds[4:]\n",
    "        s = \"%s/%s/%s\"%(m, d, y)\n",
    "        fds.append((f, s))\n",
    "    for f, s in fds:\n",
    "        fp = os.path.join(p, f)\n",
    "        d = w.Documents.Open(fp)\n",
    "        fixdates(d, s)\n",
    "        d.Save()\n",
    "        d.Close()"
   ]
  },
  {
   "cell_type": "code",
   "execution_count": null,
   "metadata": {
    "collapsed": true
   },
   "outputs": [],
   "source": [
    "fixdir(e1)"
   ]
  },
  {
   "cell_type": "code",
   "execution_count": 138,
   "metadata": {
    "collapsed": false
   },
   "outputs": [
    {
     "data": {
      "text/plain": [
       "['IE00002-02 160415.docx',\n",
       " 'IE00002-11 160422.docx',\n",
       " 'IE00002-14 160422.docx',\n",
       " 'IE00002-18 160427.docx']"
      ]
     },
     "execution_count": 138,
     "metadata": {},
     "output_type": "execute_result"
    }
   ],
   "source": [
    "e2 = \"\\\\\\\\PBSStation\\\\pbsicmi\\\\Nathan's Stuff\\\\IE00002-WIP\"\n",
    "files=os.listdir(e2)\n",
    "files = filter(lambda f: istr(f) and f.endswith(\".docx\"), files)\n",
    "files = list(files)\n",
    "files"
   ]
  },
  {
   "cell_type": "code",
   "execution_count": 140,
   "metadata": {
    "collapsed": false
   },
   "outputs": [
    {
     "name": "stdout",
     "output_type": "stream",
     "text": [
      "Updating IE00002-02 160415.docx\n",
      "Updating IE00002-11 160422.docx\n",
      "Updating IE00002-14 160422.docx\n",
      "Updating IE00002-18 160427.docx\n"
     ]
    }
   ],
   "source": [
    "w = Word()\n",
    "for file in files:\n",
    "    fix(e2, file)\n",
    "\n",
    "fixdir(e2)"
   ]
  },
  {
   "cell_type": "code",
   "execution_count": 148,
   "metadata": {
    "collapsed": true
   },
   "outputs": [],
   "source": [
    "e3 = 'C:\\\\Users\\\\Nathan\\\\Documents\\\\PBS\\\\WIP procedures-reports\\\\IE00003-WIP'\n",
    "e4 = 'C:\\\\Users\\\\Nathan\\\\Documents\\\\PBS\\\\WIP procedures-reports\\\\IE00004-WIP'"
   ]
  },
  {
   "cell_type": "code",
   "execution_count": 156,
   "metadata": {
    "collapsed": false
   },
   "outputs": [
    {
     "name": "stdout",
     "output_type": "stream",
     "text": [
      "Updating IE00003-01 151027.docx\n",
      "Updating IE00003-02 151104.docx\n",
      "Updating IE00003-03 151102.docx\n",
      "Updating IE00003-04 151214.docx\n",
      "Updating IE00003-05 151123.docx\n",
      "Updating IE00003-06.docx\n",
      "Updating IE00003-07.docx\n",
      "Updating IE00003-08.docx\n",
      "Updating IE00003-09.docx\n",
      "Updating IE00003-10.docx\n",
      "Updating IE00003-11 160502.docx\n",
      "Updating IE00003-15 160525.docx\n",
      "Updating IE00003-20 161214.docx\n",
      "Updating IE00003-21 161229.docx\n",
      "Updating IE00003-22 161227.docx\n",
      "Updating IE00003-24 170120.docx\n",
      "Updating IE00003-25 170510.docx\n",
      "Updating IE00004-01.docx\n",
      "Updating IE00004-02 160324.docx\n",
      "Updating IE00004-03 160425.docx\n",
      "Updating IE00004-04 160502.docx\n",
      "Updating IE00004-06 160509.docx\n"
     ]
    }
   ],
   "source": [
    "fix2(e3)\n",
    "fix2(e4)"
   ]
  },
  {
   "cell_type": "code",
   "execution_count": 160,
   "metadata": {
    "collapsed": false
   },
   "outputs": [],
   "source": [
    "w = Word()\n",
    "fixdir(e3)\n",
    "fixdir(e4)"
   ]
  },
  {
   "cell_type": "code",
   "execution_count": 167,
   "metadata": {
    "collapsed": false
   },
   "outputs": [],
   "source": [
    "w=Word()\n",
    "e='C:\\\\Users\\\\Nathan\\\\Documents\\\\PBS\\\\WIP procedures-reports\\\\IE00003-WIP\\\\conv'\n",
    "for file in os.listdir(e):\n",
    "    w.Documents.Open(e+\"/\"+file)"
   ]
  },
  {
   "cell_type": "code",
   "execution_count": 168,
   "metadata": {
    "collapsed": true
   },
   "outputs": [],
   "source": [
    "w = Word()\n",
    "for file in sorted(os.listdir(e3)):\n",
    "    if file.endswith(\".docx\"):\n",
    "        fp = os.path.join(e3, file)\n",
    "        d = w.Documents.Open(fp)\n",
    "        d.PrintOut()"
   ]
  },
  {
   "cell_type": "code",
   "execution_count": 169,
   "metadata": {
    "collapsed": false
   },
   "outputs": [
    {
     "name": "stdout",
     "output_type": "stream",
     "text": [
      "IE00003 15L Test Report Summary 170531.docx\n",
      "IE00003-02 151104.docx\n",
      "IE00003-02a 151106.xlsx\n",
      "IE00003-03 151102.docx\n",
      "IE00003-04 151214.docx\n",
      "IE00003-04a 151214.xlsx\n",
      "IE00003-05 151123.docx\n",
      "IE00003-05a.xlsx\n",
      "IE00003-05b.xlsx\n",
      "IE00003-06 151217.docx\n",
      "IE00003-06a 160120.xlsx\n",
      "IE00003-07 151123.docx\n",
      "IE00003-07a.xlsx\n",
      "IE00003-07b.xlsx\n",
      "IE00003-07c\n",
      "IE00003-08 160119.docx\n",
      "IE00003-08a.xlsx\n",
      "IE00003-08b.xlsx\n",
      "IE00003-08c\n",
      "IE00003-09 160120.docx\n",
      "IE00003-09a.xlsx\n",
      "IE00003-10 160202.docx\n",
      "IE00003-11 160502.docx\n",
      "IE00003-11a 160429.xlsx\n",
      "IE00003-12 160510.xlsx\n",
      "IE00003-12b raw data 160506\n",
      "IE00003-13 160516.xlsx\n",
      "IE00003-14a with back panel 160518.xlsx\n",
      "IE00003-14b without back panel 160520.xlsx\n",
      "IE00003-14c 160523.xlsx\n",
      "IE00003-14d single heater #1 160525.xlsx\n",
      "IE00003-14e single heater #2 160526.xlsx\n",
      "IE00003-14f single heater 9L 160527.xlsx\n",
      "IE00003-14g in bio lab 160811.xlsx\n",
      "IE00003-15 160525.docx\n",
      "IE00003-15a raw data 160525\n",
      "IE00003-15b analyzed data 160525\n",
      "IE00003-16 160811.xlsx\n",
      "IE00003-17 160606.xlsx\n",
      "IE00003-18 50% max temp b control 160609.xlsx\n",
      "IE00003-18a auto 50% max 160607.xlsx\n",
      "IE00003-18b auto 100% max 160608.xlsx\n",
      "IE00003-19 160705.xlsx\n",
      "IE00003-20 161214.docx\n",
      "IE00003-21 161229.docx\n",
      "IE00003-21 data 161229.xlsx\n",
      "IE00003-21 raw and analyzed data 161229\n",
      "IE00003-22 161227.docx\n",
      "IE00003-22 data 161227.xlsx\n",
      "IE00003-23 data\n",
      "IE00003-24 170120.docx\n",
      "IE00003-24a 170120.xlsx\n",
      "IE00003-24b 170120.xlsb\n",
      "IE00003-25 170510.docx\n",
      "IE00003-25a 170501.xlsx\n",
      "IE00003-25b 170509.xlsb\n",
      "IE00003A 15L Engineering Test Report Index 170601.xlsx\n",
      "conv\n",
      "~$00003 15L Test Report Summary 170531.docx\n",
      "~$00003-02 151104.docx\n",
      "~$00003-03 151102.docx\n",
      "~$00003-04 151214.docx\n",
      "~$00003-05 151123.docx\n",
      "~$00003-06 151217.docx\n",
      "~$00003-07 151123.docx\n",
      "~$00003-08 160119.docx\n",
      "~$00003-09 160120.docx\n",
      "~$00003-10 160202.docx\n",
      "~$00003-11 160502.docx\n",
      "~$00003-15 160525.docx\n",
      "~$00003-20 161214.docx\n",
      "~$00003-21 161229.docx\n",
      "~$00003-22 161227.docx\n",
      "~$00003-24 170120.docx\n",
      "~$00003-25 170510.docx\n"
     ]
    }
   ],
   "source": [
    "for file in sorted(os.listdir(e3)):\n",
    "    print(file)"
   ]
  },
  {
   "cell_type": "code",
   "execution_count": null,
   "metadata": {
    "collapsed": true
   },
   "outputs": [],
   "source": []
  }
 ],
 "metadata": {
  "kernelspec": {
   "display_name": "Python 3",
   "language": "python",
   "name": "python3"
  },
  "language_info": {
   "codemirror_mode": {
    "name": "ipython",
    "version": 3
   },
   "file_extension": ".py",
   "mimetype": "text/x-python",
   "name": "python",
   "nbconvert_exporter": "python",
   "pygments_lexer": "ipython3",
   "version": "3.5.2"
  }
 },
 "nbformat": 4,
 "nbformat_minor": 1
}
