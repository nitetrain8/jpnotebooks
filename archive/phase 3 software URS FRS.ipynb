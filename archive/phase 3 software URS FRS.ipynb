{
 "cells": [
  {
   "cell_type": "code",
   "execution_count": 1,
   "metadata": {
    "collapsed": true
   },
   "outputs": [],
   "source": [
    "from scripts.tools.issuetracker import *"
   ]
  },
  {
   "cell_type": "code",
   "execution_count": 35,
   "metadata": {
    "collapsed": true
   },
   "outputs": [],
   "source": [
    "_cache = None\n",
    "def dl():\n",
    "    global _cache\n",
    "    if _cache is not None:\n",
    "        return _cache.copy()\n",
    "    issues = it.download_issues()\n",
    "    _cache = issues\n",
    "    return issues.copy()"
   ]
  },
  {
   "cell_type": "code",
   "execution_count": 36,
   "metadata": {
    "collapsed": true
   },
   "outputs": [],
   "source": [
    "def is_v3(iss):\n",
    "    return iss.sprint_milestone == \"3.0\" and iss.tracker == \"Specification\"\n",
    "\n",
    "def filter_v3(issues):\n",
    "    return [i for i in issues.values() if is_v3(i)]\n",
    "\n",
    "def get_issues():\n",
    "    l = filter_v3(dl())\n",
    "    print(\"Returning %d issues\" % len(l))\n",
    "    return l"
   ]
  },
  {
   "cell_type": "code",
   "execution_count": 37,
   "metadata": {
    "collapsed": false
   },
   "outputs": [
    {
     "name": "stdout",
     "output_type": "stream",
     "text": [
      "Downloading issues...Downloading projects...\n",
      "Downloading issues: 919/919      \n",
      "Returning 82 issues\n"
     ]
    }
   ],
   "source": [
    "it = IssuetrackerAPI(\"issue.pbsbiotech.com\", 'nstarkweather', 'kookychemist')\n",
    "issues = get_issues()"
   ]
  },
  {
   "cell_type": "code",
   "execution_count": 38,
   "metadata": {
    "collapsed": true
   },
   "outputs": [],
   "source": [
    "iss = issues[0]"
   ]
  },
  {
   "cell_type": "code",
   "execution_count": 39,
   "metadata": {
    "collapsed": false
   },
   "outputs": [],
   "source": [
    "def filter_user(l):\n",
    "    l2 = [i for i in l if \"*User\" in i.description or \"+User\" in i.description]\n",
    "    print(\"Returning %d issues with User Requirements\"%len(l2))\n",
    "    return l2"
   ]
  },
  {
   "cell_type": "code",
   "execution_count": 40,
   "metadata": {
    "collapsed": false
   },
   "outputs": [
    {
     "name": "stdout",
     "output_type": "stream",
     "text": [
      "Returning 11 issues with User Requirements\n"
     ]
    }
   ],
   "source": [
    "issues2 = filter_user(issues)"
   ]
  },
  {
   "cell_type": "code",
   "execution_count": 41,
   "metadata": {
    "collapsed": false
   },
   "outputs": [
    {
     "name": "stdout",
     "output_type": "stream",
     "text": [
      "2828     *+User Requirements+*\n",
      "2851     *+User Requirements+*\n",
      "2860     *+User Requirements+*\n",
      "2875     *+User Requirements+*\n",
      "2906     *+User Requirements+*\n",
      "2908     *+User Requirements+*\n",
      "2910     *+User Requirements+*\n",
      "2926     *+User Requirements+*\n",
      "3402     *+User Requirements+*: When Agitation is in Auto and the comb plate is reset:\n",
      "3474     *+User Requirements+*\n",
      "1845     *+User Requirements+*\n"
     ]
    }
   ],
   "source": [
    "for i in issues2:\n",
    "    #print(\"Issue #%d: %s\" % (i.id, i.subject))\n",
    "    for line in i.description.splitlines():\n",
    "        if \"*User\" in line or \"+User\" in line:\n",
    "            print(i.id, \"   \", line)"
   ]
  },
  {
   "cell_type": "code",
   "execution_count": 46,
   "metadata": {
    "collapsed": false
   },
   "outputs": [],
   "source": [
    "import re, os\n",
    "f = open(\"test.txt\", 'w')\n",
    "header_match = re.compile(r\"[\\*\\+]{2}([^*+]+)[\\*\\+]{2}\").match\n",
    "for i in issues2:\n",
    "    \n",
    "    lines = i.description.splitlines()\n",
    "    lines = iter(lines)\n",
    "    while True:\n",
    "        l = next(lines, None)\n",
    "        if l is None:\n",
    "            break\n",
    "        m = header_match(l)\n",
    "        if m:\n",
    "            if \"User\" in m.group(0):\n",
    "                print(\"Issue #%d: %s\" % (i.id, i.subject), file=f)\n",
    "                while True:\n",
    "                    l = next(lines)\n",
    "                    if header_match(l):\n",
    "                        break\n",
    "                    else:\n",
    "                        print(l, file=f)\n",
    "f.close()\n",
    "os.startfile(f.name)"
   ]
  },
  {
   "cell_type": "code",
   "execution_count": null,
   "metadata": {
    "collapsed": true
   },
   "outputs": [],
   "source": []
  }
 ],
 "metadata": {
  "kernelspec": {
   "display_name": "Python 3",
   "language": "python",
   "name": "python3"
  },
  "language_info": {
   "codemirror_mode": {
    "name": "ipython",
    "version": 3
   },
   "file_extension": ".py",
   "mimetype": "text/x-python",
   "name": "python",
   "nbconvert_exporter": "python",
   "pygments_lexer": "ipython3",
   "version": "3.5.2"
  }
 },
 "nbformat": 4,
 "nbformat_minor": 1
}
