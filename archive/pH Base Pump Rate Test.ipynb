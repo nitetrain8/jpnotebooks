{
 "cells": [
  {
   "cell_type": "code",
   "execution_count": 3,
   "metadata": {
    "collapsed": false
   },
   "outputs": [],
   "source": [
    "from hello.hello3 import HelloApp\n",
    "import time\n",
    "time_time = time.time"
   ]
  },
  {
   "cell_type": "code",
   "execution_count": 4,
   "metadata": {
    "collapsed": false
   },
   "outputs": [
    {
     "data": {
      "text/plain": [
       "True"
      ]
     },
     "execution_count": 4,
     "metadata": {},
     "output_type": "execute_result"
    }
   ],
   "source": [
    "h = HelloApp('71.189.82.196:88')\n",
    "h.login()"
   ]
  },
  {
   "cell_type": "code",
   "execution_count": 6,
   "metadata": {
    "collapsed": true
   },
   "outputs": [],
   "source": [
    "def call_time(func, *args):\n",
    "    start = time_time()\n",
    "    func(*args)\n",
    "    end = time_time()\n",
    "    ave = (end + start) / 2\n",
    "    return ave\n",
    "\n",
    "def _hms(t):\n",
    "    h = t // 3600\n",
    "    m = (t % 3600) // 60\n",
    "    s = t - 3600*h - 60*m\n",
    "    return h,m,s\n",
    "\n",
    "def hms(t):\n",
    "    return \"%d:%.2d:%.1f\" % (_hms(t))\n",
    "\n",
    "import tkinter as tk\n",
    "def stopwatch(start):\n",
    "    root = tk.Tk()\n",
    "    \n",
    "    def cmd():\n",
    "        root.destroy()\n",
    "    def update():\n",
    "        display.config(text=hms(time_time()-start))\n",
    "        root.after(100, update)\n",
    "    root.after(100, update)\n",
    "    root.wm_title(\"Base Test\")\n",
    "    display = tk.Label(root, text=\"\")\n",
    "    button = tk.Button(root, text=\"Stop Test\", command=cmd)\n",
    "    button.focus()\n",
    "    button.bind(\"<Return>\", lambda e=None: button.invoke())\n",
    "    display.grid(column=0, row=0)\n",
    "    button.grid(column=0, row=1)\n",
    "    root.mainloop()"
   ]
  },
  {
   "cell_type": "code",
   "execution_count": 7,
   "metadata": {
    "collapsed": true
   },
   "outputs": [],
   "source": [
    "def test(pc):\n",
    "    global start, end\n",
    "    h.login()\n",
    "    start = call_time(h.setph, 1, 0, pc)\n",
    "    stopwatch(start)\n",
    "    h.login()\n",
    "    end = call_time(h.setph, 2, 0, pc)\n",
    "    print(\"Time: %.1f seconds\" % (end - start))\n",
    "    "
   ]
  },
  {
   "cell_type": "code",
   "execution_count": 72,
   "metadata": {
    "collapsed": false
   },
   "outputs": [
    {
     "name": "stdout",
     "output_type": "stream",
     "text": [
      "Time: 180.8 seconds\n"
     ]
    }
   ],
   "source": [
    "test(10)"
   ]
  },
  {
   "cell_type": "code",
   "execution_count": 73,
   "metadata": {
    "collapsed": false
   },
   "outputs": [
    {
     "name": "stdout",
     "output_type": "stream",
     "text": [
      "Time: 95.3 seconds\n"
     ]
    }
   ],
   "source": [
    "test(20)"
   ]
  },
  {
   "cell_type": "code",
   "execution_count": 74,
   "metadata": {
    "collapsed": false
   },
   "outputs": [
    {
     "name": "stdout",
     "output_type": "stream",
     "text": [
      "Time: 69.5 seconds\n"
     ]
    }
   ],
   "source": [
    "test(30)"
   ]
  },
  {
   "cell_type": "code",
   "execution_count": 76,
   "metadata": {
    "collapsed": false
   },
   "outputs": [
    {
     "name": "stdout",
     "output_type": "stream",
     "text": [
      "Time: 51.5 seconds\n"
     ]
    }
   ],
   "source": [
    "test(40)"
   ]
  },
  {
   "cell_type": "code",
   "execution_count": 78,
   "metadata": {
    "collapsed": false
   },
   "outputs": [
    {
     "name": "stdout",
     "output_type": "stream",
     "text": [
      "Time: 39.5 seconds\n"
     ]
    }
   ],
   "source": [
    "test(50)"
   ]
  },
  {
   "cell_type": "code",
   "execution_count": 79,
   "metadata": {
    "collapsed": false
   },
   "outputs": [
    {
     "name": "stdout",
     "output_type": "stream",
     "text": [
      "Time: 36.7 seconds\n"
     ]
    }
   ],
   "source": [
    "test(60)"
   ]
  },
  {
   "cell_type": "code",
   "execution_count": 80,
   "metadata": {
    "collapsed": false
   },
   "outputs": [
    {
     "name": "stdout",
     "output_type": "stream",
     "text": [
      "Time: 34.3 seconds\n"
     ]
    }
   ],
   "source": [
    "test(70)"
   ]
  },
  {
   "cell_type": "code",
   "execution_count": 81,
   "metadata": {
    "collapsed": false
   },
   "outputs": [
    {
     "name": "stdout",
     "output_type": "stream",
     "text": [
      "Time: 34.1 seconds\n"
     ]
    }
   ],
   "source": [
    "test(80)"
   ]
  },
  {
   "cell_type": "code",
   "execution_count": 82,
   "metadata": {
    "collapsed": false
   },
   "outputs": [
    {
     "name": "stdout",
     "output_type": "stream",
     "text": [
      "Time: 32.1 seconds\n"
     ]
    }
   ],
   "source": [
    "test(90)"
   ]
  },
  {
   "cell_type": "code",
   "execution_count": 83,
   "metadata": {
    "collapsed": false
   },
   "outputs": [
    {
     "name": "stdout",
     "output_type": "stream",
     "text": [
      "Time: 30.5 seconds\n"
     ]
    }
   ],
   "source": [
    "test(100)"
   ]
  },
  {
   "cell_type": "code",
   "execution_count": 157,
   "metadata": {
    "collapsed": false
   },
   "outputs": [],
   "source": [
    "# base duty, flow rate (mL/s)\n",
    "data = [\n",
    "     (0, 0),\n",
    "     (10, 0.45630531),\n",
    "     (20, 0.910807975),\n",
    "     (30, 1.294964029),\n",
    "     (40, 1.825242718),\n",
    "     (50, 2.303797468),\n",
    "     (60, 2.506811989),\n",
    "     (70, 2.711370262),\n",
    "     (80, 2.815249267),\n",
    "     (90, 3.052959502),\n",
    "     (100, 3.213114754)\n",
    "]"
   ]
  },
  {
   "cell_type": "code",
   "execution_count": 158,
   "metadata": {
    "collapsed": false
   },
   "outputs": [],
   "source": [
    "from pysrc.snippets import smooth1\n",
    "x,y = smooth1(*zip(*data))\n",
    "data2 = [(int(a), float(b)) for a,b in zip(x,y)]"
   ]
  },
  {
   "cell_type": "code",
   "execution_count": 161,
   "metadata": {
    "collapsed": false
   },
   "outputs": [
    {
     "name": "stdout",
     "output_type": "stream",
     "text": [
      "Using matplotlib backend: TkAgg\n"
     ]
    },
    {
     "data": {
      "text/plain": [
       "[<matplotlib.lines.Line2D at 0x1c9c0c3f7f0>]"
      ]
     },
     "execution_count": 161,
     "metadata": {},
     "output_type": "execute_result"
    }
   ],
   "source": [
    "%matplotlib\n",
    "import matplotlib.pyplot as plt\n",
    "plt.plot(x,y)"
   ]
  },
  {
   "cell_type": "code",
   "execution_count": 166,
   "metadata": {
    "collapsed": true
   },
   "outputs": [],
   "source": [
    "from math import floor, ceil\n",
    "def interp(x, y):\n",
    "    f = int(x)\n",
    "    y1 = y[f]\n",
    "    if f == x:\n",
    "        return y1\n",
    "    y2 = y[f+1]\n",
    "    p = (x - f)\n",
    "    y3 = y1 + (y2 - y1) * p\n",
    "    return y3"
   ]
  },
  {
   "cell_type": "code",
   "execution_count": 167,
   "metadata": {
    "collapsed": false
   },
   "outputs": [
    {
     "data": {
      "text/plain": [
       "<matplotlib.collections.PathCollection at 0x1c9c0dce1d0>"
      ]
     },
     "execution_count": 167,
     "metadata": {},
     "output_type": "execute_result"
    }
   ],
   "source": [
    "x1, y1 = list(zip(*data))\n",
    "plt.scatter(x1, y1, 100, None, \"+\")"
   ]
  },
  {
   "cell_type": "code",
   "execution_count": 168,
   "metadata": {
    "collapsed": false
   },
   "outputs": [],
   "source": [
    "y = [float(v) for v in y]"
   ]
  },
  {
   "cell_type": "code",
   "execution_count": 169,
   "metadata": {
    "collapsed": false
   },
   "outputs": [
    {
     "data": {
      "text/plain": [
       "[<matplotlib.lines.Line2D at 0x1c9c0e432b0>]"
      ]
     },
     "execution_count": 169,
     "metadata": {},
     "output_type": "execute_result"
    }
   ],
   "source": [
    "import numpy as np\n",
    "x = np.linspace(0, 100, 10000)\n",
    "y2 = [interp(a, y) for a in x]\n",
    "plt.plot(x,y2)"
   ]
  },
  {
   "cell_type": "code",
   "execution_count": 165,
   "metadata": {
    "collapsed": false
   },
   "outputs": [
    {
     "name": "stdout",
     "output_type": "stream",
     "text": [
      "{'y3': 0.2509679205, 'f': 5, 'p': 0.5, 'y2': 0.273783186, 'x': 5.5, 'y1': 0.228152655}\n"
     ]
    },
    {
     "data": {
      "text/plain": [
       "0.2509679205"
      ]
     },
     "execution_count": 165,
     "metadata": {},
     "output_type": "execute_result"
    }
   ],
   "source": [
    "interp(5.5, y)"
   ]
  },
  {
   "cell_type": "code",
   "execution_count": 164,
   "metadata": {
    "collapsed": false
   },
   "outputs": [
    {
     "data": {
      "text/plain": [
       "[0.0,\n",
       " 0.045630531,\n",
       " 0.091261062,\n",
       " 0.136891593,\n",
       " 0.182522124,\n",
       " 0.228152655,\n",
       " 0.273783186,\n",
       " 0.319413717,\n",
       " 0.365044248,\n",
       " 0.410674779]"
      ]
     },
     "execution_count": 164,
     "metadata": {},
     "output_type": "execute_result"
    }
   ],
   "source": [
    "y[:10]"
   ]
  },
  {
   "cell_type": "code",
   "execution_count": 8,
   "metadata": {
    "collapsed": false
   },
   "outputs": [
    {
     "name": "stdout",
     "output_type": "stream",
     "text": [
      "Time: 1801.9 seconds\n"
     ]
    }
   ],
   "source": [
    "test(1)"
   ]
  },
  {
   "cell_type": "code",
   "execution_count": null,
   "metadata": {
    "collapsed": true
   },
   "outputs": [],
   "source": []
  }
 ],
 "metadata": {
  "kernelspec": {
   "display_name": "Python 3",
   "language": "python",
   "name": "python3"
  },
  "language_info": {
   "codemirror_mode": {
    "name": "ipython",
    "version": 3
   },
   "file_extension": ".py",
   "mimetype": "text/x-python",
   "name": "python",
   "nbconvert_exporter": "python",
   "pygments_lexer": "ipython3",
   "version": "3.5.2"
  }
 },
 "nbformat": 4,
 "nbformat_minor": 1
}
