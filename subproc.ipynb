{
 "cells": [
  {
   "cell_type": "code",
   "execution_count": 21,
   "metadata": {
    "collapsed": true
   },
   "outputs": [],
   "source": [
    "import subprocess\n",
    "from subprocess import *\n",
    "import os"
   ]
  },
  {
   "cell_type": "code",
   "execution_count": 22,
   "metadata": {
    "collapsed": false
   },
   "outputs": [],
   "source": [
    "p=Popen(\"ping\",stdout=PIPE)\n",
    "out, err = p.communicate()"
   ]
  },
  {
   "cell_type": "code",
   "execution_count": 31,
   "metadata": {
    "collapsed": false
   },
   "outputs": [],
   "source": [
    "os.chdir(\"C:\\\\Users\\\\Administrator\\\\Documents\\\\visual studio 2013\\\\Projects\\\\mywebsocket\\\\Debug\\\\\")"
   ]
  },
  {
   "cell_type": "code",
   "execution_count": 32,
   "metadata": {
    "collapsed": false
   },
   "outputs": [
    {
     "data": {
      "text/plain": [
       "os.stat_result(st_mode=33279, st_ino=26177172834319609, st_dev=2589114373, st_nlink=1, st_uid=0, st_gid=0, st_size=31232, st_atime=1463895750, st_mtime=1463895750, st_ctime=1463895750)"
      ]
     },
     "execution_count": 32,
     "metadata": {},
     "output_type": "execute_result"
    }
   ],
   "source": [
    "os.stat(\"ws_test.exe\")"
   ]
  },
  {
   "cell_type": "code",
   "execution_count": 57,
   "metadata": {
    "collapsed": true
   },
   "outputs": [],
   "source": [
    "\n",
    "import os, sys, subprocess, time\n",
    "\n",
    "\n",
    "def autorun(target):\n",
    "    print(\"autorun called\"); time.sleep(3);return\n",
    "    p = subprocess.Popen(target, stdout=subprocess.PIPE)\n",
    "    out, err = p.communicate()\n",
    "    print(out.decode())\n",
    "    return p.wait()\n",
    "\n",
    "def mtime(f):\n",
    "    return os.stat(f).st_mtime\n",
    "\n",
    "\n",
    "def modified(f, time):\n",
    "    mt = mtime(f)\n",
    "    if mt > time:\n",
    "        return True, mt\n",
    "    return False, mt\n",
    "\n",
    "import itertools\n",
    "\n",
    "def main():\n",
    "    target = \"ws_test.exe\"\n",
    "    dll = \"mywebsocket.dll\"\n",
    "    t_mtime = d_mtime = 0\n",
    "    dots = itertools.cycle(\".\"*i for i in range(1,5))\n",
    "    if not os.path.exists(target):\n",
    "        raise SystemExit(\"ws_test.exe not found, cannot continue\")\n",
    "    \n",
    "    while 1:\n",
    "        run = False\n",
    "        mod, mt = modified(target, t_mtime)\n",
    "        if mod:\n",
    "            run = True\n",
    "            t_mtime = mt\n",
    "        mod, mt = modified(dll, d_mtime)\n",
    "        if mod:\n",
    "            run = True\n",
    "            d_mtime = mt\n",
    "        \n",
    "        if run:\n",
    "            print(\"New build detected, running autorun on %s\" % target)\n",
    "            autorun(target)\n",
    "        else:\n",
    "            time.sleep(1)\n",
    "            print(\"\\rWaiting for new build%s      \" % next(dots), end=\"\")\n",
    "        "
   ]
  },
  {
   "cell_type": "code",
   "execution_count": null,
   "metadata": {
    "collapsed": false
   },
   "outputs": [
    {
     "name": "stdout",
     "output_type": "stream",
     "text": [
      "New build detected, running autorun on ws_test.exe\n",
      "autorun called\n",
      "Waiting for new build....      "
     ]
    }
   ],
   "source": [
    "main()"
   ]
  },
  {
   "cell_type": "code",
   "execution_count": null,
   "metadata": {
    "collapsed": true
   },
   "outputs": [],
   "source": []
  }
 ],
 "metadata": {
  "kernelspec": {
   "display_name": "Python 3",
   "language": "python",
   "name": "python3"
  },
  "language_info": {
   "codemirror_mode": {
    "name": "ipython",
    "version": 3
   },
   "file_extension": ".py",
   "mimetype": "text/x-python",
   "name": "python",
   "nbconvert_exporter": "python",
   "pygments_lexer": "ipython3",
   "version": "3.4.3"
  }
 },
 "nbformat": 4,
 "nbformat_minor": 0
}
