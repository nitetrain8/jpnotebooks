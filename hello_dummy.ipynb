{
 "cells": [
  {
   "cell_type": "code",
   "execution_count": 1,
   "metadata": {
    "collapsed": true
   },
   "outputs": [],
   "source": [
    "import tkinter as tk\n",
    "import tkinter.ttk as ttk\n",
    "from collections import OrderedDict"
   ]
  },
  {
   "cell_type": "code",
   "execution_count": 53,
   "metadata": {
    "collapsed": false
   },
   "outputs": [],
   "source": [
    "sticky_all = (tk.N, tk.E, tk.W, tk.S)\n",
    "\n",
    "class Item():\n",
    "    def __init__(self, master, name, value=0, decimals=2):\n",
    "        self.name = name\n",
    "        #self.frame = tk.Frame(master)\n",
    "        self.label = ttk.Label(master, text=name, width=12)\n",
    "        self.entry = ttk.Entry(master)\n",
    "        self.report = ttk.Label(master)\n",
    "        self.fmt = \"%%.%df\" % decimals\n",
    "        self.update_report(value)\n",
    "        self.value = value\n",
    "        \n",
    "    def update_value(self):\n",
    "        value = self.get_value()\n",
    "        self.report.config(text=value)\n",
    "        self.value = value\n",
    "\n",
    "    def get_value(self):\n",
    "        return self.entry.get()\n",
    "    \n",
    "    def grid(self, row=1, col=1):\n",
    "        #self.frame.grid(row=row, column=col)\n",
    "        self.label.grid(column=1, row=row, sticky=(tk.E,))\n",
    "        self.entry.grid(column=2, row=row, sticky=(tk.E, tk.W))\n",
    "        self.report.grid(column=3, row=row, sticky=(tk.E,))\n",
    "        return 1\n",
    "        \n",
    "    def update_report(self, val):\n",
    "        val = self.fmt % val\n",
    "        self.report.config(text=val)\n",
    "\n",
    "class ItemList():\n",
    "    def __init__(self, master, name, fields):\n",
    "        self.frame = tk.LabelFrame(master, text=name)\n",
    "        self.items = OrderedDict()\n",
    "        for f, val in fields.items():\n",
    "            self.items[f] = Item(self.frame, f, val)\n",
    "            \n",
    "    def grid(self, row=1, col=1, cur_row=0):\n",
    "        self.frame.grid(row=row, column=col, sticky=sticky_all)\n",
    "        nrows = 0\n",
    "        for i, item in enumerate(self.items.values()):\n",
    "            nrows += item.grid(i+cur_row, col*3)\n",
    "        return nrows\n",
    "            \n",
    "class MainFrame():\n",
    "    def __init__(self, master, mv):\n",
    "        self.groups = OrderedDict()\n",
    "        self.frame = ttk.LabelFrame(master, text=\"HELLO!\")\n",
    "        for group in mv:\n",
    "            self.groups[group] = ItemList(self.frame, group, mv[group])\n",
    "        self.apply_btn = ttk.Button(self.frame, text=\"Apply\", command=lambda: self.apply())\n",
    "            \n",
    "    def apply(self):\n",
    "        pass\n",
    "    \n",
    "    def grid(self):\n",
    "        subcols = 3\n",
    "        nrows = 0\n",
    "        for i, frame in enumerate(self.groups.values()):\n",
    "            nrows += frame.grid(i//subcols, i%subcols, nrows)   \n",
    "        self.frame.grid(columnspan=subcols*3, rowspan=nrows)\n",
    "        self.apply_btn.grid(column=1, row=nrows+1)\n",
    "        for frame in self.groups.values():\n",
    "            for item in frame.items.values():\n",
    "                item.label.config(width=12)\n",
    "                item.report.config(width=6)\n",
    "                \n",
    "        \n",
    "            \n",
    "        "
   ]
  },
  {
   "cell_type": "code",
   "execution_count": 54,
   "metadata": {
    "collapsed": false
   },
   "outputs": [],
   "source": [
    "root = tk.Tk()\n",
    "mf = MainFrame(root, mv)\n",
    "mf.grid()\n",
    "root.mainloop()"
   ]
  },
  {
   "cell_type": "code",
   "execution_count": 36,
   "metadata": {
    "collapsed": true
   },
   "outputs": [],
   "source": [
    "import json\n",
    "mj = \"\"\"{\"agitation\":{\"pv\":0,\"sp\":30,\"man\":20,\"mode\":2,\"error\":0,\"interlocked\":0,\"output\":0},\"temperature\":{\"pv\":21.674983978271484,\"sp\":37,\"man\":0,\"mode\":0,\"error\":0,\"interlocked\":0,\"output\":100},\"do\":{\"pv\":107.49867248535156,\"sp\":50,\"manUp\":0,\"manDown\":50,\"mode\":2,\"error\":0,\"outputUp\":0,\"outputDown\":0},\"ph\":{\"pv\":14,\"sp\":7,\"manUp\":50,\"manDown\":7,\"mode\":2,\"error\":200,\"outputUp\":0,\"outputDown\":0},\"pressure\":{\"pv\":-0.00034421682357788086,\"error\":0},\"level\":{\"pv\":0,\"error\":0},\"condenser\":{\"pv\":25.133401870727539,\"sp\":35,\"man\":0,\"mode\":0,\"error\":0,\"output\":19.733196258544922},\"maingas\":{\"pv\":46.17816162109375,\"man\":5,\"mode\":1,\"error\":0,\"interlocked\":0},\"MFCs\":{\"air\":30.75819206237793,\"co2\":7.6610736846923828,\"n2\":7.7588958740234375,\"o2\":7.6193175315856934}}\"\"\""
   ]
  },
  {
   "cell_type": "code",
   "execution_count": 7,
   "metadata": {
    "collapsed": false
   },
   "outputs": [],
   "source": [
    "mv = json.loads(mj)"
   ]
  },
  {
   "cell_type": "code",
   "execution_count": 8,
   "metadata": {
    "collapsed": false
   },
   "outputs": [
    {
     "name": "stdout",
     "output_type": "stream",
     "text": [
      "{\n",
      "    \"condenser\": {\n",
      "        \"output\": 19.733196258544922,\n",
      "        \"sp\": 35,\n",
      "        \"mode\": 0,\n",
      "        \"pv\": 25.13340187072754,\n",
      "        \"man\": 0,\n",
      "        \"error\": 0\n",
      "    },\n",
      "    \"level\": {\n",
      "        \"pv\": 0,\n",
      "        \"error\": 0\n",
      "    },\n",
      "    \"maingas\": {\n",
      "        \"interlocked\": 0,\n",
      "        \"pv\": 46.17816162109375,\n",
      "        \"man\": 5,\n",
      "        \"error\": 0,\n",
      "        \"mode\": 1\n",
      "    },\n",
      "    \"MFCs\": {\n",
      "        \"n2\": 7.7588958740234375,\n",
      "        \"air\": 30.75819206237793,\n",
      "        \"o2\": 7.619317531585693,\n",
      "        \"co2\": 7.661073684692383\n",
      "    },\n",
      "    \"temperature\": {\n",
      "        \"output\": 100,\n",
      "        \"sp\": 37,\n",
      "        \"mode\": 0,\n",
      "        \"interlocked\": 0,\n",
      "        \"pv\": 21.674983978271484,\n",
      "        \"man\": 0,\n",
      "        \"error\": 0\n",
      "    },\n",
      "    \"ph\": {\n",
      "        \"sp\": 7,\n",
      "        \"outputDown\": 0,\n",
      "        \"error\": 200,\n",
      "        \"manUp\": 50,\n",
      "        \"mode\": 2,\n",
      "        \"pv\": 14,\n",
      "        \"manDown\": 7,\n",
      "        \"outputUp\": 0\n",
      "    },\n",
      "    \"do\": {\n",
      "        \"sp\": 50,\n",
      "        \"outputDown\": 0,\n",
      "        \"error\": 0,\n",
      "        \"manUp\": 0,\n",
      "        \"mode\": 2,\n",
      "        \"pv\": 107.49867248535156,\n",
      "        \"manDown\": 50,\n",
      "        \"outputUp\": 0\n",
      "    },\n",
      "    \"agitation\": {\n",
      "        \"output\": 0,\n",
      "        \"sp\": 30,\n",
      "        \"mode\": 2,\n",
      "        \"interlocked\": 0,\n",
      "        \"pv\": 0,\n",
      "        \"man\": 20,\n",
      "        \"error\": 0\n",
      "    },\n",
      "    \"pressure\": {\n",
      "        \"pv\": -0.00034421682357788086,\n",
      "        \"error\": 0\n",
      "    }\n",
      "}\n"
     ]
    }
   ],
   "source": [
    "import json\n",
    "print(json.dumps(json.loads(mj), indent=4))"
   ]
  },
  {
   "cell_type": "code",
   "execution_count": 10,
   "metadata": {
    "collapsed": false
   },
   "outputs": [],
   "source": [
    "tk.StringVar?"
   ]
  },
  {
   "cell_type": "code",
   "execution_count": 13,
   "metadata": {
    "collapsed": false
   },
   "outputs": [],
   "source": [
    "ttk.Entry?"
   ]
  },
  {
   "cell_type": "code",
   "execution_count": null,
   "metadata": {
    "collapsed": true
   },
   "outputs": [],
   "source": []
  }
 ],
 "metadata": {
  "kernelspec": {
   "display_name": "Python 3",
   "language": "python",
   "name": "python3"
  }
 },
 "nbformat": 4,
 "nbformat_minor": 1
}
