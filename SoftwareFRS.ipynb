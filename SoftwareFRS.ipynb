{
 "cells": [
  {
   "cell_type": "code",
   "execution_count": 4,
   "metadata": {
    "collapsed": false
   },
   "outputs": [],
   "source": [
    "from officelib.xllib import *\n",
    "from pywintypes import com_error\n",
    "import officelib.const as xlc\n"
   ]
  },
  {
   "cell_type": "code",
   "execution_count": 24,
   "metadata": {
    "collapsed": true
   },
   "outputs": [],
   "source": [
    "def extract_data(ws):\n",
    "    ur = ws.UsedRange\n",
    "    fc = ur.Columns(1)\n",
    "\n",
    "    data = ur.Value\n",
    "    splitdata = []\n",
    "    for d in data:\n",
    "        frs = d[0]\n",
    "        if not frs:\n",
    "            splitdata.append(d)\n",
    "            continue\n",
    "        frs = frs.split(\"\\n\")\n",
    "        frs = [f.strip() for f in frs]\n",
    "        frs = [f for f in frs if f]\n",
    "        for f in frs:\n",
    "            new = (f,) + d[1:]\n",
    "            splitdata.append(new)\n",
    "    return splitdata\n"
   ]
  },
  {
   "cell_type": "code",
   "execution_count": 25,
   "metadata": {
    "collapsed": false
   },
   "outputs": [],
   "source": [
    "\n",
    "\n",
    "def remake_sheet(wb, name):\n",
    "    try:\n",
    "        ws2 = wb.Worksheets(name)\n",
    "        ws2.Delete()\n",
    "    except com_error:\n",
    "        pass\n",
    "    ws2 = wb.Worksheets.Add()\n",
    "    ws2.Name = name\n",
    "    return ws2\n",
    "\n",
    "def calc_range(ws, data):\n",
    "    # Data should be rectangular matrix - uneven row lengths\n",
    "    # not supported!\n",
    "    c1 = ws.Cells(1,1)\n",
    "    c2 = c1.Offset(len(data), len(data[0]))\n",
    "    paste_range = ws.Cells.Range(c1, c2)\n",
    "    return paste_range\n",
    "\n",
    "def format_data(paste_range):\n",
    "    print(\"Updating Column Widths...\")\n",
    "    for c in paste_range.Columns:\n",
    "        c.AutoFit()\n",
    "        if c.ColumnWidth > 50:\n",
    "            c.ColumnWidth=50\n",
    "    paste_range.WrapText = True\n",
    "    print(\"Updating Row Heights...\")\n",
    "    for r in paste_range.Rows:\n",
    "        r.AutoFit()\n",
    "    print(\"Updating Formatting...\")\n",
    "    paste_range.HorizontalAlignment = xlc.xlLeft\n",
    "    paste_range.VerticalAlignment = xlc.xlTop\n",
    "    paste_range.Font.Size = 9\n",
    "\n",
    "def paste_data1(ws, splitdata):\n",
    "    paste_range = calc_range(ws, splitdata)\n",
    "    print(\"Pasting Data...\")\n",
    "    paste_range.Value = splitdata\n",
    "    format_data(paste_range)"
   ]
  },
  {
   "cell_type": "code",
   "execution_count": 26,
   "metadata": {
    "collapsed": false
   },
   "outputs": [],
   "source": [
    "def paste_data2(ws, splitdata):\n",
    "    data = [d[:7] for d in splitdata]\n",
    "    paste_range = calc_range(ws, data)\n",
    "    paste_range.Value = data\n",
    "    format_data(paste_range)\n",
    "    \n",
    "    \n",
    "def main(wb):\n",
    "    ws=wb.Worksheets(\"Sheet1\")\n",
    "    data = extract_data(ws)\n",
    "\n",
    "    with screen_lock(xl):\n",
    "        ws2 = remake_sheet(wb, \"FRS\")\n",
    "        paste_data1(ws2, data)\n",
    "\n",
    "    with screen_lock(xl):\n",
    "        ws3 = remake_sheet(wb, \"ID Matrix\")\n",
    "        paste_data2(ws3, data)"
   ]
  },
  {
   "cell_type": "code",
   "execution_count": 27,
   "metadata": {
    "collapsed": false
   },
   "outputs": [
    {
     "name": "stdout",
     "output_type": "stream",
     "text": [
      "Pasting Data...\n",
      "Updating Column Widths...\n",
      "Updating Row Heights...\n",
      "Updating Formatting...\n",
      "Done\n",
      "Updating Column Widths...\n",
      "Updating Row Heights...\n",
      "Updating Formatting...\n"
     ]
    }
   ],
   "source": [
    "xl = Excel()\n",
    "wb = xl.ActiveWorkbook\n",
    "main(wb)"
   ]
  },
  {
   "cell_type": "code",
   "execution_count": null,
   "metadata": {
    "collapsed": true
   },
   "outputs": [],
   "source": []
  }
 ],
 "metadata": {
  "kernelspec": {
   "display_name": "Python 3",
   "language": "python",
   "name": "python3"
  },
  "language_info": {
   "codemirror_mode": {
    "name": "ipython",
    "version": 3
   },
   "file_extension": ".py",
   "mimetype": "text/x-python",
   "name": "python",
   "nbconvert_exporter": "python",
   "pygments_lexer": "ipython3",
   "version": "3.5.2"
  }
 },
 "nbformat": 4,
 "nbformat_minor": 1
}
