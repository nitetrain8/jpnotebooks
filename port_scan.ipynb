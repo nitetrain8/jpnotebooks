{
 "cells": [
  {
   "cell_type": "code",
   "execution_count": 1,
   "metadata": {
    "collapsed": true
   },
   "outputs": [],
   "source": [
    "import httplib2"
   ]
  },
  {
   "cell_type": "code",
   "execution_count": 2,
   "metadata": {
    "collapsed": true
   },
   "outputs": [],
   "source": [
    "h = httplib2.Http()"
   ]
  },
  {
   "cell_type": "code",
   "execution_count": 3,
   "metadata": {
    "collapsed": true
   },
   "outputs": [],
   "source": [
    "def scan(ports):\n",
    "    h = httplib2.Http()\n",
    "    for p in ports:\n",
    "        print(\"\\rScanning %d...\" % p, end=\"\")\n",
    "        rv = scan_one(h, p)\n",
    "        if rv is not None:\n",
    "            r, c = rv\n",
    "            print(c, p)\n",
    "            \n",
    "        \n",
    "def scan_one(h, p, ut=\"127.0.0.%d\"):\n",
    "    try:\n",
    "        return h.request(\"http://\" + ut % p + \"/\")\n",
    "    except httplib2.HttpLib2Error as e:\n",
    "        print(e.args)\n",
    "        return None\n",
    "    except ConnectionRefusedError:\n",
    "        return None\n",
    "    except OSError as e:\n",
    "        print(e.args)\n",
    "        return None\n",
    "    \n",
    "def worker(func, q):\n",
    "    while True:\n",
    "        \n",
    "    "
   ]
  },
  {
   "cell_type": "code",
   "execution_count": 4,
   "metadata": {
    "collapsed": true
   },
   "outputs": [],
   "source": [
    "ports = range(2, 255)"
   ]
  },
  {
   "cell_type": "code",
   "execution_count": 5,
   "metadata": {
    "collapsed": false
   },
   "outputs": [
    {
     "name": "stdout",
     "output_type": "stream",
     "text": [
      "Scanning 254..."
     ]
    }
   ],
   "source": [
    "scan(ports)"
   ]
  },
  {
   "cell_type": "code",
   "execution_count": null,
   "metadata": {
    "collapsed": true
   },
   "outputs": [],
   "source": []
  }
 ],
 "metadata": {
  "kernelspec": {
   "display_name": "Python 3",
   "language": "python",
   "name": "python3"
  },
  "language_info": {
   "codemirror_mode": {
    "name": "ipython",
    "version": 3
   },
   "file_extension": ".py",
   "mimetype": "text/x-python",
   "name": "python",
   "nbconvert_exporter": "python",
   "pygments_lexer": "ipython3",
   "version": "3.4.1"
  }
 },
 "nbformat": 4,
 "nbformat_minor": 0
}
