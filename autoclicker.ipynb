{
 "cells": [
  {
   "cell_type": "code",
   "execution_count": 1,
   "metadata": {
    "collapsed": true
   },
   "outputs": [],
   "source": [
    "import ctypes\n",
    "from ctypes import wintypes as wt\n",
    "from ctypes import sizeof\n",
    "from time import sleep, time"
   ]
  },
  {
   "cell_type": "code",
   "execution_count": 2,
   "metadata": {
    "collapsed": true
   },
   "outputs": [],
   "source": [
    "INPUT_MOUSE = 0\n",
    "INPUT_KEYBOARD = 1\n",
    "INPUT_HARDWARE = 2\n",
    "\n",
    "MOUSEEVENTF_ABSOLUTE = 0x8000\n",
    "MOUSEEVENTF_LEFTDOWN = 0x0002 \n",
    "MOUSEEVENTF_LEFTUP = 0x0004\n",
    "MOUSEEVENTF_MOVE = 0x0001\n",
    "MOUSEEVENTF_RIGHTDOWN = 0x0008\n",
    "MOUSEEVENTF_RIGHTUP = 0x0010\n",
    "MOUSEEVENTF_VIRTUALDESK = 0x4000"
   ]
  },
  {
   "cell_type": "code",
   "execution_count": 3,
   "metadata": {
    "collapsed": true
   },
   "outputs": [],
   "source": [
    "ULONG_PTR = ctypes.POINTER(ctypes.c_ulong)\n",
    "LONG = ctypes.c_long\n",
    "\n",
    "# These depend on whether UNICODE is defined\n",
    "LPCTSTR = wt.LPCSTR  # LPCWSTR or LPCSTR\n",
    "LPTSTR = wt.LPSTR  # LPWSTR or LPSTR\n",
    "\n",
    "WNDENUMPROC = ctypes.WINFUNCTYPE(wt.BOOL, wt.HWND, wt.LPARAM)"
   ]
  },
  {
   "cell_type": "code",
   "execution_count": 4,
   "metadata": {
    "collapsed": true
   },
   "outputs": [],
   "source": [
    "class KEYBDINPUT(ctypes.Structure):\n",
    "    _fields_ = [\n",
    "        ('wVk', wt.WORD),\n",
    "        ('wScan', wt.WORD),\n",
    "        (\"dwFlags\", wt.DWORD),\n",
    "        (\"time\", wt.DWORD),\n",
    "        (\"dwextraInfo\", ULONG_PTR)\n",
    "    ]\n",
    "    \n",
    "class MOUSEINPUT(ctypes.Structure):\n",
    "    _fields_ = [\n",
    "        ('dx', LONG),\n",
    "        ('dy', LONG),\n",
    "        ('mouseData', wt.DWORD),\n",
    "        ('dwFlags', wt.DWORD),\n",
    "        ('time', wt.DWORD),\n",
    "        ('dwExtraInfo', ULONG_PTR),\n",
    "    ]\n",
    "    \n",
    "class HARDWAREINPUT(ctypes.Structure):\n",
    "    _fields_ = [\n",
    "        ('uMsg', wt.DWORD),\n",
    "        ('wParamL', wt.WORD),\n",
    "        ('wParamH', wt.WORD)\n",
    "    ]\n",
    "    "
   ]
  },
  {
   "cell_type": "code",
   "execution_count": 5,
   "metadata": {
    "collapsed": true
   },
   "outputs": [],
   "source": [
    "class InptUnion(ctypes.Union):\n",
    "    _fields_ = [\n",
    "        ('mi', MOUSEINPUT),\n",
    "        ('ki', KEYBDINPUT),\n",
    "        ('hi', HARDWAREINPUT)\n",
    "    ]\n",
    "\n",
    "class INPUT(ctypes.Structure):\n",
    "    _fields_ = [\n",
    "        ('type', wt.DWORD),\n",
    "        ('ip', InptUnion)\n",
    "    ]\n",
    "    \n",
    "PINPUT = ctypes.POINTER(INPUT)"
   ]
  },
  {
   "cell_type": "code",
   "execution_count": 6,
   "metadata": {
    "collapsed": true
   },
   "outputs": [],
   "source": [
    "def make_kb_input(keycode, scan_code=0, flags=0):\n",
    "    ip = INPUT()\n",
    "    ip.type = INPUT_KEYBOARD\n",
    "    \n",
    "    ki = KEYBDINPUT()\n",
    "    ki.wVk = keycode\n",
    "    ki.wScan = scan_code\n",
    "    ki.dwFlags = flags\n",
    "    \n",
    "    ip.ip.ki = ki\n",
    "    return ip    "
   ]
  },
  {
   "cell_type": "code",
   "execution_count": 7,
   "metadata": {
    "collapsed": true
   },
   "outputs": [],
   "source": [
    "# Raw exported windows API functions\n",
    "\n",
    "user32 = ctypes.windll.user32\n",
    "k32 = ctypes.windll.kernel32\n",
    "\n",
    "_SendInput = user32.SendInput\n",
    "_SendInput.argtypes = [wt.UINT, PINPUT, ctypes.c_int]\n",
    "_SendInput.restype = wt.UINT\n",
    "\n",
    "def SendInput(*args):\n",
    "    res = _SendInput(*args)\n",
    "    if not res:\n",
    "        raise OSError(k32.GetLastError())\n",
    "    return res\n",
    "\n",
    "FindWindow = user32.FindWindowA\n",
    "FindWindow.argtypes = [LPCTSTR, LPCTSTR]\n",
    "FindWindow.restype = wt.HWND\n",
    "\n",
    "CloseHandle = k32.CloseHandle\n",
    "CloseHandle.argtypes = [wt.HANDLE]\n",
    "CloseHandle.restype = wt.BOOL\n",
    "\n",
    "EnumWindows = user32.EnumWindows\n",
    "EnumWindows.argtypes = [WNDENUMPROC, wt.LPARAM]\n",
    "EnumWindows.restype = wt.BOOL\n",
    "\n",
    "GetWindowText = user32.GetWindowTextA\n",
    "GetWindowText.argtypes = [wt.HWND, LPTSTR, ctypes.c_int]\n",
    "GetWindowText.restype = ctypes.c_int\n",
    "\n",
    "SetActiveWindow = user32.SetActiveWindow\n",
    "SetActiveWindow.argtypes = [wt.HWND]\n",
    "SetActiveWindow.restype = wt.HWND\n",
    "\n",
    "SetForegroundWindow = user32.SetForegroundWindow\n",
    "SetForegroundWindow.argtypes = [wt.HWND]\n",
    "SetForegroundWindow.restype = wt.BOOL\n",
    "\n",
    "GetLastError = k32.GetLastError\n",
    "GetLastError.argtypes = []\n",
    "GetLastError.restype = ctypes.c_int"
   ]
  },
  {
   "cell_type": "code",
   "execution_count": 8,
   "metadata": {
    "collapsed": true
   },
   "outputs": [],
   "source": [
    "def make_mouse_move(x,y):\n",
    "    ip = INPUT()\n",
    "    ip.type = INPUT_MOUSE\n",
    "    \n",
    "    mi = MOUSEINPUT()\n",
    "    mi.dx = x\n",
    "    mi.dy = y\n",
    "    mi.mouseData = 0\n",
    "    mi.time = 0\n",
    "    mi.dwFlags=(MOUSEEVENTF_MOVE) | MOUSEEVENTF_ABSOLUTE | MOUSEEVENTF_VIRTUALDESK\n",
    "    ip.ip.mi = mi\n",
    "    return ip"
   ]
  },
  {
   "cell_type": "code",
   "execution_count": 21,
   "metadata": {
    "collapsed": true
   },
   "outputs": [],
   "source": [
    "def make_mouse_left_click(dwFlags):\n",
    "    ip = INPUT()\n",
    "    ip.type = INPUT_MOUSE\n",
    "    \n",
    "    mi = MOUSEINPUT()\n",
    "    mi.dx = 0\n",
    "    mi.dy = 0\n",
    "    mi.mouseData = 0\n",
    "    mi.time = 0\n",
    "    mi.dwFlags = MOUSEEVENTF_ABSOLUTE | MOUSEEVENTF_VIRTUALDESK | dwFlags\n",
    "    ip.ip.mi = mi\n",
    "    return ip"
   ]
  },
  {
   "cell_type": "code",
   "execution_count": null,
   "metadata": {
    "collapsed": true
   },
   "outputs": [],
   "source": []
  },
  {
   "cell_type": "code",
   "execution_count": 24,
   "metadata": {
    "collapsed": true
   },
   "outputs": [],
   "source": [
    "import win32api\n",
    "SCREEN_X = win32api.GetSystemMetrics(78)\n",
    "SCREEN_Y = win32api.GetSystemMetrics(79)\n",
    "\n",
    "def norm(p):\n",
    "    return int(p.x / (SCREEN_X) * 65535), int(p.y / (SCREEN_Y) * 65536)\n",
    "\n",
    "def norm2(p):\n",
    "    return int(p[0] / (SCREEN_X) * 65535), int(p[1] / (SCREEN_Y) * 65536)"
   ]
  },
  {
   "cell_type": "code",
   "execution_count": 25,
   "metadata": {
    "collapsed": true
   },
   "outputs": [],
   "source": [
    "def send_keyboard_input(keycode, scan_code=0, flags=0):\n",
    "    ip = make_kb_input(keycode, scan_code, flags)\n",
    "    return SendInput(1, PINPUT(ip), ctypes.sizeof(ip))\n",
    "\n",
    "def mouse_move(x,y):\n",
    "    ip = make_mouse_move(x,y)\n",
    "    return SendInput(1, PINPUT(ip), ctypes.sizeof(ip))\n",
    "    \n",
    "def mouse_click():\n",
    "    ip2 = make_mouse_left_click(MOUSEEVENTF_LEFTDOWN)\n",
    "    ip3 = make_mouse_left_click(MOUSEEVENTF_LEFTUP)\n",
    "    send_inputs(ip2, ip3)\n",
    "\n",
    "def send_inputs(*ips):\n",
    "    sz = ctypes.sizeof(ips[0])\n",
    "    array = (INPUT * len(ips))(*ips)\n",
    "    return SendInput(len(ips), array, sz)"
   ]
  },
  {
   "cell_type": "code",
   "execution_count": 26,
   "metadata": {
    "collapsed": true
   },
   "outputs": [],
   "source": [
    "def get_pos():\n",
    "    point = ctypes.wintypes.POINT()\n",
    "    ctypes.windll.user32.GetCursorPos(ctypes.byref(point))\n",
    "    x, y = norm(point)\n",
    "    return x,y\n",
    "\n",
    "def get_pos2():\n",
    "    point = ctypes.wintypes.POINT()\n",
    "    ctypes.windll.user32.GetCursorPos(ctypes.byref(point))\n",
    "    return point.x, point.y"
   ]
  },
  {
   "cell_type": "code",
   "execution_count": 27,
   "metadata": {
    "collapsed": true
   },
   "outputs": [],
   "source": [
    "def run_clicks(wait=0.05):\n",
    "    xs, ys = get_pos()\n",
    "    try:\n",
    "        while True:\n",
    "            mouse_click()\n",
    "            sleep(wait)\n",
    "        #sleep(5)\n",
    "            xs2, xy2 = get_pos()\n",
    "            if xs2 != xs or xy2 != ys:\n",
    "                return\n",
    "    except KeyboardInterrupt:\n",
    "        pass\n",
    "\n",
    "def run_clicks2(x, y, wait=0.05):\n",
    "    while True:\n",
    "        x1, y1 = get_pos()\n",
    "        mouse_move(x, y)\n",
    "        mouse_click()\n",
    "        mouse_move(x1, y1)\n",
    "        sleep(wait)\n",
    "        if win32api.GetKeyState(0x02) & 0x8000:\n",
    "            return\n",
    "        "
   ]
  },
  {
   "cell_type": "code",
   "execution_count": 28,
   "metadata": {
    "collapsed": true
   },
   "outputs": [],
   "source": [
    "def clickfind():\n",
    "    down = False\n",
    "    while True:\n",
    "        try:\n",
    "            sleep(0.01)\n",
    "            print(\"\\r    (%d, %d),\"%get_pos(), end=\"\")\n",
    "            if win32api.GetKeyState(0xC0) & 0x8000:\n",
    "                if not down:\n",
    "                    print()\n",
    "                    down = True\n",
    "            else:\n",
    "                down = False\n",
    "        except:\n",
    "            break"
   ]
  },
  {
   "cell_type": "code",
   "execution_count": 41,
   "metadata": {
    "collapsed": true
   },
   "outputs": [],
   "source": [
    "buttons = [\n",
    "    (29780, 22300),\n",
    "    (29652, 25637),\n",
    "    (29823, 29430),\n",
    "    (29908, 33147),\n",
    "    (29908, 36864),\n",
    "    (24106, 40884),\n",
    "]\n",
    "\n",
    "for x,y in buttons:\n",
    "    mouse_move(x,y)\n",
    "    sleep(.3)"
   ]
  },
  {
   "cell_type": "code",
   "execution_count": null,
   "metadata": {
    "collapsed": true
   },
   "outputs": [],
   "source": []
  },
  {
   "cell_type": "code",
   "execution_count": null,
   "metadata": {
    "collapsed": true
   },
   "outputs": [],
   "source": []
  },
  {
   "cell_type": "code",
   "execution_count": 49,
   "metadata": {
    "collapsed": true
   },
   "outputs": [],
   "source": [
    "def right_click_down():\n",
    "    return win32api.GetKeyState(0x02) & 0x8000\n",
    "\n",
    "buttons = [\n",
    "    (29780, 22300),\n",
    "    (29652, 25637),\n",
    "    (29823, 29430),\n",
    "    (29908, 33147),\n",
    "    (29908, 36864),\n",
    "    (24106, 40884),\n",
    "]\n",
    "\n",
    "CLICK_COORD = buttons[5]\n",
    "\n",
    "SLEEP_TIME = 0.05\n",
    "TAX = 0\n",
    "CALL_TO_ARMS = 1\n",
    "HOLY_LIGHT = 2\n",
    "GODS_HAND = 3\n",
    "DIAMOND_AXE = 4\n",
    "\n",
    "def wait(s):\n",
    "    end = time() + s\n",
    "    while True:\n",
    "        left = end - time()\n",
    "        if left > 0:\n",
    "            sleep(min(left, 0.1))\n",
    "        else:\n",
    "            break\n",
    "            \n",
    "def autoclick(idx):\n",
    "    x, y = buttons[idx]\n",
    "    mouse_move(x,y)\n",
    "    mouse_click()\n",
    "            \n",
    "class StopClick(Exception):\n",
    "    pass\n",
    "\n",
    "def click_for(s):\n",
    "    x, y = CLICK_COORD\n",
    "    mouse_move(x,y)\n",
    "    end = time() + s\n",
    "    ST = SLEEP_TIME\n",
    "    while True:\n",
    "        if right_click_down():\n",
    "            raise StopClick()\n",
    "        else:\n",
    "            mouse_click()\n",
    "        if time() > end:\n",
    "            break\n",
    "        sleep(ST)\n",
    "        \n",
    "def click_angels_66mps(mps=66, mana=1900):\n",
    "    s1 = 300+800\n",
    "    s2 = 800+900\n",
    "    safety = 0.1\n",
    "    t1 = (s2 - (mana - s1)) / mps + safety\n",
    "    t2 = mana / mps + safety\n",
    "    while True:\n",
    "        try:\n",
    "            autoclick(GODS_HAND)\n",
    "            autoclick(CALL_TO_ARMS)\n",
    "            click_for(t1)\n",
    "            autoclick(HOLY_LIGHT)\n",
    "            autoclick(DIAMOND_AXE)\n",
    "            click_for(t2)\n",
    "        except StopClick:\n",
    "            break  "
   ]
  },
  {
   "cell_type": "code",
   "execution_count": 50,
   "metadata": {
    "collapsed": true
   },
   "outputs": [],
   "source": [
    "click_angels_66mps(69.54, 1919)"
   ]
  },
  {
   "cell_type": "code",
   "execution_count": null,
   "metadata": {
    "collapsed": true
   },
   "outputs": [],
   "source": []
  }
 ],
 "metadata": {
  "kernelspec": {
   "display_name": "Python 3",
   "language": "python",
   "name": "python3"
  },
  "language_info": {
   "codemirror_mode": {
    "name": "ipython",
    "version": 3
   },
   "file_extension": ".py",
   "mimetype": "text/x-python",
   "name": "python",
   "nbconvert_exporter": "python",
   "pygments_lexer": "ipython3",
   "version": "3.6.1"
  }
 },
 "nbformat": 4,
 "nbformat_minor": 1
}
