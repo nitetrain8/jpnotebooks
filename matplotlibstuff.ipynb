{
 "cells": [
  {
   "cell_type": "code",
   "execution_count": 1,
   "metadata": {
    "collapsed": false,
    "scrolled": true
   },
   "outputs": [
    {
     "name": "stdout",
     "output_type": "stream",
     "text": [
      "Using matplotlib backend: TkAgg\n"
     ]
    }
   ],
   "source": [
    "%matplotlib"
   ]
  },
  {
   "cell_type": "code",
   "execution_count": 2,
   "metadata": {
    "collapsed": false
   },
   "outputs": [],
   "source": [
    "import tkinter as tk\n",
    "from pysrc.simplertplot.plotwidget import RTPlotWidget\n",
    "from hello.hello import HelloApp\n",
    "from time import time"
   ]
  },
  {
   "cell_type": "code",
   "execution_count": 3,
   "metadata": {
    "collapsed": true
   },
   "outputs": [],
   "source": [
    "ip = '192.168.1.86'"
   ]
  },
  {
   "cell_type": "code",
   "execution_count": 4,
   "metadata": {
    "collapsed": true
   },
   "outputs": [],
   "source": [
    "root = tk.Tk()\n",
    "p = RTPlotWidget(root)\n",
    "p.pack()"
   ]
  },
  {
   "cell_type": "code",
   "execution_count": 5,
   "metadata": {
    "collapsed": true
   },
   "outputs": [],
   "source": [
    "h = HelloApp(ip)\n",
    "h.login()\n",
    "h.getMainValues()\n",
    "pass"
   ]
  },
  {
   "cell_type": "code",
   "execution_count": null,
   "metadata": {
    "collapsed": true
   },
   "outputs": [],
   "source": [
    "def actual_rate(n2, o2, co2):\n",
    "    _, pc_1, _ = pc(0, o2, co2)\n",
    "    _, pc_2, _ = pc(n2, o2, co2)\n",
    "    ratio = pc_1/pc_2\n",
    "    actual_n2 = n2 * ratio\n",
    "    return actual_n2\n",
    "\n",
    "def pc(a, b, c):\n",
    "    t = a + b + c\n",
    "    return a/t, b/t, c/t"
   ]
  },
  {
   "cell_type": "code",
   "execution_count": 6,
   "metadata": {
    "collapsed": true
   },
   "outputs": [],
   "source": [
    "def timer():\n",
    "    start = time()\n",
    "    while True:\n",
    "        current = time()\n",
    "        yield current - start\n",
    "get_time = timer().__next__"
   ]
  },
  {
   "cell_type": "code",
   "execution_count": 7,
   "metadata": {
    "collapsed": true
   },
   "outputs": [],
   "source": [
    "def tk_task(tk, interval, f):\n",
    "    def fn(*args, **kw):\n",
    "        try:\n",
    "            return f(*args, **kw)\n",
    "        finally:\n",
    "            tk.after(interval, fn)\n",
    "    tk.after(interval, fn)"
   ]
  },
  {
   "cell_type": "code",
   "execution_count": 8,
   "metadata": {
    "collapsed": true
   },
   "outputs": [],
   "source": [
    "def update():\n",
    "    mv = h.getMainValues()\n",
    "    do = mv['do']\n",
    "    pv = do['pv']\n",
    "    t = get_time()\n",
    "    p.add_xy(t, pv)"
   ]
  },
  {
   "cell_type": "code",
   "execution_count": 9,
   "metadata": {
    "collapsed": false
   },
   "outputs": [],
   "source": [
    "tk_task(root, 500, update)"
   ]
  },
  {
   "cell_type": "code",
   "execution_count": null,
   "metadata": {
    "collapsed": false
   },
   "outputs": [],
   "source": [
    "#root.geometry(\"%dx%d\" % (600, 800))\n",
    "root.mainloop()"
   ]
  },
  {
   "cell_type": "code",
   "execution_count": null,
   "metadata": {
    "collapsed": true
   },
   "outputs": [],
   "source": []
  }
 ],
 "metadata": {
  "kernelspec": {
   "display_name": "Python 3",
   "language": "python",
   "name": "python3"
  },
  "language_info": {
   "codemirror_mode": {
    "name": "ipython",
    "version": 3
   },
   "file_extension": ".py",
   "mimetype": "text/x-python",
   "name": "python",
   "nbconvert_exporter": "python",
   "pygments_lexer": "ipython3",
   "version": "3.5.2"
  }
 },
 "nbformat": 4,
 "nbformat_minor": 0
}
