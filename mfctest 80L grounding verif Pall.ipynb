{
 "cells": [
  {
   "cell_type": "code",
   "execution_count": 2,
   "metadata": {
    "collapsed": true
   },
   "outputs": [],
   "source": [
    "from hello.hello import *\n",
    "from officelib.xllib import *\n",
    "from officelib import const"
   ]
  },
  {
   "cell_type": "code",
   "execution_count": 8,
   "metadata": {
    "collapsed": false
   },
   "outputs": [],
   "source": [
    "app = HelloApp(\"71.189.82.196:8\")\n",
    "from time import sleep\n",
    "def set_mg(sp):\n",
    "    try:\n",
    "        app.setmg(1, sp)\n",
    "    except HelloError:\n",
    "        app.login()\n",
    "        app.setmg(1, sp)\n",
    "        \n",
    "def update_ss(cell, val):\n",
    "    cell.Value = val\n",
    "    c = cell.Offset(2, 1)\n",
    "    c.Select()\n",
    "    return c\n",
    "        \n",
    "def frange(start, stop, step):\n",
    "    i = 0\n",
    "    v = start + i * step\n",
    "    while v < stop:\n",
    "        yield v\n",
    "        i += 1\n",
    "        v = start + i * step\n",
    "        \n",
    "\n",
    "def run_test(name, mfc_max, c=None):\n",
    "    tmin = mfc_max / 10\n",
    "    print(\"Testing \", name, \"MFC: %.1f LPM Max\" % mfc_max)\n",
    "    for fr in frange(tmin, mfc_max+tmin/2, tmin):\n",
    "        set_mg(fr)\n",
    "        v = input(\"%.2f LPM:\" % fr)\n",
    "        if v.lower() in (\"break\", \"quit\", \"q\", \"stop\"):\n",
    "            break\n",
    "        c = update_ss(c, v)\n",
    "    \n",
    "\n",
    "xl = Excel()\n",
    "def s():\n",
    "    return xl.Selection\n",
    "\n",
    "def run(name, mfcm):\n",
    "    print(\"Verify pH/DO settings are correct!\")\n",
    "    run_test(name, mfcm, s())\n",
    "    \n",
    "def all_on():\n",
    "    app.login()\n",
    "    for sp in range(20, 101, 20):\n",
    "        app.setag(1, sp)\n",
    "        sleep(0.5)\n",
    "    app.setfillpump(1, 500)\n",
    "    app.setpumpb(1, 3)\n",
    "    app.setpumpc(1, 3)\n",
    "    app.setpumpsample(1, 1)\n",
    "    app.settoplight(1)\n",
    "    print(\"Remember to turn on fans!\")\n",
    "    \n",
    "def all_off():\n",
    "    app.login()\n",
    "    app.setag(2, 0)\n",
    "    app.setfillpump(0, 0)\n",
    "    app.setpumpb(0, 0)\n",
    "    app.setpumpc(0, 0)\n",
    "    app.setpumpsample(0, 0)\n",
    "    app.settoplight(0)\n",
    "    print(\"Remember to turn off fans!\")"
   ]
  },
  {
   "cell_type": "code",
   "execution_count": 7,
   "metadata": {
    "collapsed": false
   },
   "outputs": [
    {
     "name": "stdout",
     "output_type": "stream",
     "text": [
      "Remember to turn off fans!\n"
     ]
    }
   ],
   "source": [
    "all_off()"
   ]
  },
  {
   "cell_type": "code",
   "execution_count": 9,
   "metadata": {
    "collapsed": false
   },
   "outputs": [
    {
     "name": "stdout",
     "output_type": "stream",
     "text": [
      "Verify pH/DO settings are correct!\n",
      "Testing  co2 off MFC: 2.0 LPM Max\n",
      "0.20 LPM:.235\n",
      "0.40 LPM:.436\n",
      "0.60 LPM:.641\n",
      "0.80 LPM:.846\n",
      "1.00 LPM:1.048\n",
      "1.20 LPM:1.249\n",
      "1.40 LPM:1.450\n",
      "1.60 LPM:1.654\n",
      "1.80 LPM:1.856\n",
      "2.00 LPM:2.045\n"
     ]
    }
   ],
   "source": [
    "run(\"co2 off\", 2)"
   ]
  },
  {
   "cell_type": "code",
   "execution_count": 10,
   "metadata": {
    "collapsed": false
   },
   "outputs": [
    {
     "name": "stdout",
     "output_type": "stream",
     "text": [
      "Verify pH/DO settings are correct!\n",
      "Testing  air off MFC: 10.0 LPM Max\n",
      "1.00 LPM:1.10\n",
      "2.00 LPM:2.13\n",
      "3.00 LPM:3.19\n",
      "4.00 LPM:4.22\n",
      "5.00 LPM:5.25\n",
      "6.00 LPM:6.28\n",
      "7.00 LPM:7.31\n",
      "8.00 LPM:8.34\n",
      "9.00 LPM:9.37\n",
      "10.00 LPM:10.35\n"
     ]
    }
   ],
   "source": [
    "run(\"air off\", 10)"
   ]
  },
  {
   "cell_type": "code",
   "execution_count": 11,
   "metadata": {
    "collapsed": false
   },
   "outputs": [
    {
     "name": "stdout",
     "output_type": "stream",
     "text": [
      "Verify pH/DO settings are correct!\n",
      "Testing  n2 off MFC: 10.0 LPM Max\n",
      "1.00 LPM:1.12\n",
      "2.00 LPM:2.18\n",
      "3.00 LPM:3.25\n",
      "4.00 LPM:4.30\n",
      "5.00 LPM:5.35\n",
      "6.00 LPM:6.40\n",
      "7.00 LPM:7.44\n",
      "8.00 LPM:8.49\n",
      "9.00 LPM:9.54\n",
      "10.00 LPM:10.55\n"
     ]
    }
   ],
   "source": [
    "run(\"n2 off\", 10)"
   ]
  },
  {
   "cell_type": "code",
   "execution_count": 13,
   "metadata": {
    "collapsed": false
   },
   "outputs": [
    {
     "name": "stdout",
     "output_type": "stream",
     "text": [
      "Verify pH/DO settings are correct!\n",
      "Testing  o2 off MFC: 10.0 LPM Max\n",
      "1.00 LPM:1.10\n",
      "2.00 LPM:2.11\n",
      "3.00 LPM:3.12\n",
      "4.00 LPM:4.15\n",
      "5.00 LPM:5.17\n",
      "6.00 LPM:6.21\n",
      "7.00 LPM:7.22\n",
      "8.00 LPM:8.23\n",
      "9.00 LPM:9.26\n",
      "10.00 LPM:10.22\n"
     ]
    }
   ],
   "source": [
    "run(\"o2 off\", 10)"
   ]
  },
  {
   "cell_type": "code",
   "execution_count": 14,
   "metadata": {
    "collapsed": false
   },
   "outputs": [
    {
     "name": "stdout",
     "output_type": "stream",
     "text": [
      "Remember to turn on fans!\n"
     ]
    }
   ],
   "source": [
    "all_on()"
   ]
  },
  {
   "cell_type": "code",
   "execution_count": 15,
   "metadata": {
    "collapsed": false
   },
   "outputs": [
    {
     "name": "stdout",
     "output_type": "stream",
     "text": [
      "Verify pH/DO settings are correct!\n",
      "Testing  o2 on MFC: 10.0 LPM Max\n",
      "1.00 LPM:1.27\n",
      "2.00 LPM:2.46\n",
      "3.00 LPM:3.48\n",
      "4.00 LPM:4.51\n",
      "5.00 LPM:4.54\n",
      "6.00 LPM:6.56\n",
      "7.00 LPM:7.60\n",
      "8.00 LPM:8.60\n",
      "9.00 LPM:9.64\n",
      "10.00 LPM:10.49\n"
     ]
    }
   ],
   "source": [
    "run(\"o2 on\", 10)"
   ]
  },
  {
   "cell_type": "code",
   "execution_count": 16,
   "metadata": {
    "collapsed": false
   },
   "outputs": [
    {
     "name": "stdout",
     "output_type": "stream",
     "text": [
      "Verify pH/DO settings are correct!\n",
      "Testing  air on MFC: 10.0 LPM Max\n",
      "1.00 LPM:1.44\n",
      "2.00 LPM:2.50\n",
      "3.00 LPM:3.52\n",
      "4.00 LPM:4.56\n",
      "5.00 LPM:5.58\n",
      "6.00 LPM:6.62\n",
      "7.00 LPM:7.65\n",
      "8.00 LPM:8.65\n",
      "9.00 LPM:9.68\n",
      "10.00 LPM:10.56\n"
     ]
    }
   ],
   "source": [
    "run(\"air on\", 10)"
   ]
  },
  {
   "cell_type": "code",
   "execution_count": 17,
   "metadata": {
    "collapsed": false
   },
   "outputs": [
    {
     "name": "stdout",
     "output_type": "stream",
     "text": [
      "Verify pH/DO settings are correct!\n",
      "Testing  n2 on MFC: 10.0 LPM Max\n",
      "1.00 LPM:1.43\n",
      "2.00 LPM:2.48\n",
      "3.00 LPM:3.55\n",
      "4.00 LPM:4.6\n",
      "5.00 LPM:5.64\n",
      "6.00 LPM:6.68\n",
      "7.00 LPM:7.7\n",
      "8.00 LPM:8.73\n",
      "9.00 LPM:9.77\n",
      "10.00 LPM:10.67\n"
     ]
    }
   ],
   "source": [
    "run(\"n2 on\", 10)"
   ]
  },
  {
   "cell_type": "code",
   "execution_count": 18,
   "metadata": {
    "collapsed": false
   },
   "outputs": [
    {
     "name": "stdout",
     "output_type": "stream",
     "text": [
      "Verify pH/DO settings are correct!\n",
      "Testing  co2 on MFC: 2.0 LPM Max\n",
      "0.20 LPM:.466\n",
      "0.40 LPM:.673\n",
      "0.60 LPM:.875\n",
      "0.80 LPM:1.082\n",
      "1.00 LPM:1.284\n",
      "1.20 LPM:1.485\n",
      "1.40 LPM:1.688\n",
      "1.60 LPM:1.892\n",
      "1.80 LPM:2.094\n",
      "2.00 LPM:2.263\n"
     ]
    }
   ],
   "source": [
    "run(\"co2 on\", 2)"
   ]
  },
  {
   "cell_type": "code",
   "execution_count": 19,
   "metadata": {
    "collapsed": true
   },
   "outputs": [],
   "source": [
    "\n",
    "r = s().Parent.Cells.Range\n",
    "def r2(c):\n",
    "    return r(\"%s:%s\" % (c+str(5), c+str(14)))\n",
    "\n",
    "x = r2(\"B\")\n",
    "air=r2(\"E\")\n",
    "n2 = r2(\"H\")\n",
    "o2 = r2(\"K\")\n",
    "co2=r2(\"O\")\n",
    "x2 = r2(\"L\")"
   ]
  },
  {
   "cell_type": "code",
   "execution_count": 36,
   "metadata": {
    "collapsed": true
   },
   "outputs": [
    {
     "ename": "AttributeError",
     "evalue": "'<win32com.gen_py.Microsoft Excel 12.0 Object Library.ChartObject instance at 0x62651120>' object has no attribute 'Workbook'",
     "output_type": "error",
     "traceback": [
      "\u001b[1;31m---------------------------------------------------------------------------\u001b[0m",
      "\u001b[1;31mAttributeError\u001b[0m                            Traceback (most recent call last)",
      "\u001b[1;32m<ipython-input-36-8c89570b055c>\u001b[0m in \u001b[0;36m<module>\u001b[1;34m()\u001b[0m\n\u001b[0;32m     14\u001b[0m \u001b[0mws\u001b[0m \u001b[1;33m=\u001b[0m \u001b[0mc1\u001b[0m\u001b[1;33m.\u001b[0m\u001b[0mParent\u001b[0m\u001b[1;33m\u001b[0m\u001b[0m\n\u001b[0;32m     15\u001b[0m \u001b[0mc1\u001b[0m\u001b[1;33m.\u001b[0m\u001b[0mLocation\u001b[0m\u001b[1;33m(\u001b[0m\u001b[0mconst\u001b[0m\u001b[1;33m.\u001b[0m\u001b[0mxlLocationAsNewSheet\u001b[0m\u001b[1;33m,\u001b[0m \u001b[0mloc\u001b[0m\u001b[1;33m)\u001b[0m\u001b[1;33m\u001b[0m\u001b[0m\n\u001b[1;32m---> 16\u001b[1;33m \u001b[0mc1\u001b[0m \u001b[1;33m=\u001b[0m \u001b[0mws\u001b[0m\u001b[1;33m.\u001b[0m\u001b[0mWorkbook\u001b[0m\u001b[1;33m.\u001b[0m\u001b[0mCharts\u001b[0m\u001b[1;33m(\u001b[0m\u001b[0mloc\u001b[0m\u001b[1;33m)\u001b[0m\u001b[1;33m\u001b[0m\u001b[0m\n\u001b[0m",
      "\u001b[1;32mc:\\python34\\lib\\site-packages\\win32com\\client\\__init__.py\u001b[0m in \u001b[0;36m__getattr__\u001b[1;34m(self, attr)\u001b[0m\n\u001b[0;32m    463\u001b[0m                 \u001b[0margs\u001b[0m\u001b[1;33m=\u001b[0m\u001b[0mself\u001b[0m\u001b[1;33m.\u001b[0m\u001b[0m_prop_map_get_\u001b[0m\u001b[1;33m.\u001b[0m\u001b[0mget\u001b[0m\u001b[1;33m(\u001b[0m\u001b[0mattr\u001b[0m\u001b[1;33m)\u001b[0m\u001b[1;33m\u001b[0m\u001b[0m\n\u001b[0;32m    464\u001b[0m                 \u001b[1;32mif\u001b[0m \u001b[0margs\u001b[0m \u001b[1;32mis\u001b[0m \u001b[1;32mNone\u001b[0m\u001b[1;33m:\u001b[0m\u001b[1;33m\u001b[0m\u001b[0m\n\u001b[1;32m--> 465\u001b[1;33m                         \u001b[1;32mraise\u001b[0m \u001b[0mAttributeError\u001b[0m\u001b[1;33m(\u001b[0m\u001b[1;34m\"'%s' object has no attribute '%s'\"\u001b[0m \u001b[1;33m%\u001b[0m \u001b[1;33m(\u001b[0m\u001b[0mrepr\u001b[0m\u001b[1;33m(\u001b[0m\u001b[0mself\u001b[0m\u001b[1;33m)\u001b[0m\u001b[1;33m,\u001b[0m \u001b[0mattr\u001b[0m\u001b[1;33m)\u001b[0m\u001b[1;33m)\u001b[0m\u001b[1;33m\u001b[0m\u001b[0m\n\u001b[0m\u001b[0;32m    466\u001b[0m                 \u001b[1;32mreturn\u001b[0m \u001b[0mself\u001b[0m\u001b[1;33m.\u001b[0m\u001b[0m_ApplyTypes_\u001b[0m\u001b[1;33m(\u001b[0m\u001b[1;33m*\u001b[0m\u001b[0margs\u001b[0m\u001b[1;33m)\u001b[0m\u001b[1;33m\u001b[0m\u001b[0m\n\u001b[0;32m    467\u001b[0m \u001b[1;33m\u001b[0m\u001b[0m\n",
      "\u001b[1;31mAttributeError\u001b[0m: '<win32com.gen_py.Microsoft Excel 12.0 Object Library.ChartObject instance at 0x62651120>' object has no attribute 'Workbook'"
     ]
    }
   ],
   "source": [
    "c1 = CreateChart(s().Worksheet)\n",
    "\n",
    "s_air = CreateDataSeries(c1, x, air, \"air\")\n",
    "s_n2 = CreateDataSeries(c1, x, n2, \"n2\")\n",
    "s_co2 = CreateDataSeries(c1, x2, co2, \"co2\")\n",
    "s_o2 = CreateDataSeries(c1, x, o2, \"o2\")\n",
    "\n",
    "FormatChart(c1, None, \"80L Pall MFC Grounding Test\", \"Flow Rate\", \"% Error\", None, True)\n",
    "\n",
    "for se in c1.SeriesCollection():\n",
    "    se.MarkerSize=4\n",
    "\n",
    "loc = \"GndTest\"\n",
    "ws = c1.Parent.Parent\n",
    "c1.Location(const.xlLocationAsNewSheet, loc)\n",
    "c1 = ws.Workbook.Charts(loc)"
   ]
  },
  {
   "cell_type": "code",
   "execution_count": 41,
   "metadata": {
    "collapsed": false
   },
   "outputs": [
    {
     "name": "stdout",
     "output_type": "stream",
     "text": [
      "Remember to turn on fans!\n"
     ]
    }
   ],
   "source": [
    "all_on()"
   ]
  },
  {
   "cell_type": "code",
   "execution_count": null,
   "metadata": {
    "collapsed": true
   },
   "outputs": [],
   "source": []
  }
 ],
 "metadata": {
  "kernelspec": {
   "display_name": "Python 3",
   "language": "python",
   "name": "python3"
  },
  "language_info": {
   "codemirror_mode": {
    "name": "ipython",
    "version": 3
   },
   "file_extension": ".py",
   "mimetype": "text/x-python",
   "name": "python",
   "nbconvert_exporter": "python",
   "pygments_lexer": "ipython3",
   "version": "3.4.1"
  }
 },
 "nbformat": 4,
 "nbformat_minor": 0
}
