{
 "cells": [
  {
   "cell_type": "code",
   "execution_count": 2,
   "metadata": {
    "collapsed": true
   },
   "outputs": [],
   "source": [
    "from hello.hello import *\n",
    "from officelib.xllib import *\n",
    "from officelib import const"
   ]
  },
  {
   "cell_type": "code",
   "execution_count": 10,
   "metadata": {
    "collapsed": false
   },
   "outputs": [],
   "source": [
    "app = HelloApp(\"71.189.82.196:8\")\n",
    "from time import sleep\n",
    "def set_mg(sp):\n",
    "    try:\n",
    "        app.setmg(1, sp)\n",
    "    except HelloError:\n",
    "        app.login()\n",
    "        app.setmg(1, sp)\n",
    "        \n",
    "def update_ss(cell, val):\n",
    "    cell.Value = val\n",
    "    c = cell.Offset(2, 1)\n",
    "    c.Select()\n",
    "    return c\n",
    "        \n",
    "def frange(start, stop, step):\n",
    "    i = 0\n",
    "    v = start + i * step\n",
    "    while v < stop:\n",
    "        yield v\n",
    "        i += 1\n",
    "        v = start + i * step\n",
    "        \n",
    "\n",
    "def run_test(name, mfc_max, c=None):\n",
    "    tmin = mfc_max / 10\n",
    "    print(\"Testing \", name, \"MFC: %.1f LPM Max\" % mfc_max)\n",
    "    for fr in frange(tmin, mfc_max+tmin/2, tmin):\n",
    "        set_mg(fr)\n",
    "        v = input(\"%.2f LPM:\" % fr)\n",
    "        if v.lower() in (\"break\", \"quit\", \"q\", \"stop\"):\n",
    "            break\n",
    "        c = update_ss(c, v)\n",
    "    \n",
    "\n",
    "xl = Excel()\n",
    "def s():\n",
    "    return xl.Selection\n",
    "\n",
    "def run(name, mfcm):\n",
    "    print(\"Verify pH/DO settings are correct!\")\n",
    "    run_test(name, mfcm, s())\n",
    "    \n",
    "def all_on():\n",
    "    app.login()\n",
    "    for sp in range(20, 101, 20):\n",
    "        app.setag(1, sp)\n",
    "        sleep(0.5)\n",
    "    app.setfillpump(1, 500)\n",
    "    app.setpumpb(1, 3)\n",
    "    app.setpumpc(1, 3)\n",
    "    app.setpumpsample(1, 1)\n",
    "    app.settoplight(1)\n",
    "    print(\"Remember to turn on fans!\")\n",
    "    \n",
    "def all_off():\n",
    "    app.login()\n",
    "    app.setag(2, 0)\n",
    "    app.setfillpump(0, 0)\n",
    "    app.setpumpb(0, 0)\n",
    "    app.setpumpc(0, 0)\n",
    "    app.setpumpsample(0, 0)\n",
    "    app.settoplight(0)\n",
    "    print(\"Remember to turn off fans!\")\n",
    "    \n",
    "def air_on():\n",
    "    app.login()\n",
    "    app.setph(2, 0)\n",
    "    app.setdo(2, 0)\n",
    "\n",
    "def co2_on():\n",
    "    app.login()\n",
    "    app.setph(1, 100, 0)\n",
    "    app.setdo(2, 0)\n",
    "    print(\"Verify CO2 Manual Max!\")\n",
    "    \n",
    "def n2_on():\n",
    "    app.login()\n",
    "    app.setph(2, 0)\n",
    "    app.setdo(1, 100, 0)\n",
    "    \n",
    "def o2_on():\n",
    "    app.login()\n",
    "    app.setph(2, 0)\n",
    "    app.setdo(1, 0, 100)"
   ]
  },
  {
   "cell_type": "code",
   "execution_count": 16,
   "metadata": {
    "collapsed": false
   },
   "outputs": [
    {
     "name": "stdout",
     "output_type": "stream",
     "text": [
      "Remember to turn off fans!\n"
     ]
    }
   ],
   "source": [
    "all_off()"
   ]
  },
  {
   "cell_type": "code",
   "execution_count": 12,
   "metadata": {
    "collapsed": false
   },
   "outputs": [
    {
     "name": "stdout",
     "output_type": "stream",
     "text": [
      "Verify CO2 Manual Max!\n",
      "Verify pH/DO settings are correct!\n",
      "Testing  co2 off MFC: 2.0 LPM Max\n",
      "0.20 LPM:.228\n",
      "0.40 LPM:.431\n",
      "0.60 LPM:.637\n",
      "0.80 LPM:.842\n",
      "1.00 LPM:1.046\n",
      "1.20 LPM:1.247\n",
      "1.40 LPM:1.449\n",
      "1.60 LPM:1.654\n",
      "1.80 LPM:1.856\n",
      "2.00 LPM:2.046\n"
     ]
    }
   ],
   "source": [
    "co2_on()\n",
    "run(\"co2 off\", 2)"
   ]
  },
  {
   "cell_type": "code",
   "execution_count": null,
   "metadata": {
    "collapsed": false
   },
   "outputs": [],
   "source": [
    "run(\"air off\", 10)"
   ]
  },
  {
   "cell_type": "code",
   "execution_count": null,
   "metadata": {
    "collapsed": false
   },
   "outputs": [],
   "source": [
    "run(\"n2 off\", 10)"
   ]
  },
  {
   "cell_type": "code",
   "execution_count": null,
   "metadata": {
    "collapsed": false
   },
   "outputs": [],
   "source": [
    "run(\"o2 off\", 10)"
   ]
  },
  {
   "cell_type": "code",
   "execution_count": 13,
   "metadata": {
    "collapsed": false
   },
   "outputs": [
    {
     "name": "stdout",
     "output_type": "stream",
     "text": [
      "Remember to turn on fans!\n"
     ]
    }
   ],
   "source": [
    "all_on()"
   ]
  },
  {
   "cell_type": "code",
   "execution_count": null,
   "metadata": {
    "collapsed": false
   },
   "outputs": [],
   "source": [
    "run(\"o2 on\", 10)"
   ]
  },
  {
   "cell_type": "code",
   "execution_count": null,
   "metadata": {
    "collapsed": false
   },
   "outputs": [],
   "source": [
    "run(\"air on\", 10)"
   ]
  },
  {
   "cell_type": "code",
   "execution_count": null,
   "metadata": {
    "collapsed": false
   },
   "outputs": [],
   "source": [
    "run(\"n2 on\", 10)"
   ]
  },
  {
   "cell_type": "code",
   "execution_count": null,
   "metadata": {
    "collapsed": false
   },
   "outputs": [],
   "source": [
    "run(\"co2 on\", 2)"
   ]
  },
  {
   "cell_type": "code",
   "execution_count": null,
   "metadata": {
    "collapsed": true
   },
   "outputs": [],
   "source": [
    "\n",
    "r = s().Parent.Cells.Range\n",
    "def r2(c):\n",
    "    return r(\"%s:%s\" % (c+str(5), c+str(14)))\n",
    "\n",
    "x = r2(\"B\")\n",
    "air=r2(\"E\")\n",
    "n2 = r2(\"H\")\n",
    "o2 = r2(\"K\")\n",
    "co2=r2(\"O\")\n",
    "x2 = r2(\"L\")"
   ]
  },
  {
   "cell_type": "code",
   "execution_count": null,
   "metadata": {
    "collapsed": true
   },
   "outputs": [],
   "source": [
    "c1 = CreateChart(s().Worksheet)\n",
    "\n",
    "s_air = CreateDataSeries(c1, x, air, \"air\")\n",
    "s_n2 = CreateDataSeries(c1, x, n2, \"n2\")\n",
    "s_co2 = CreateDataSeries(c1, x2, co2, \"co2\")\n",
    "s_o2 = CreateDataSeries(c1, x, o2, \"o2\")\n",
    "\n",
    "FormatChart(c1, None, \"80L Pall MFC Grounding Test\", \"Flow Rate\", \"% Error\", None, True)\n",
    "\n",
    "for se in c1.SeriesCollection():\n",
    "    se.MarkerSize=4\n",
    "\n",
    "loc = \"GndTest\"\n",
    "ws = c1.Parent.Parent\n",
    "c1.Location(const.xlLocationAsNewSheet, loc)\n",
    "c1 = ws.Workbook.Charts(loc)"
   ]
  },
  {
   "cell_type": "code",
   "execution_count": null,
   "metadata": {
    "collapsed": false
   },
   "outputs": [],
   "source": [
    "all_on()"
   ]
  },
  {
   "cell_type": "code",
   "execution_count": null,
   "metadata": {
    "collapsed": true
   },
   "outputs": [],
   "source": []
  }
 ],
 "metadata": {
  "kernelspec": {
   "display_name": "Python 3",
   "language": "python",
   "name": "python3"
  },
  "language_info": {
   "codemirror_mode": {
    "name": "ipython",
    "version": 3
   },
   "file_extension": ".py",
   "mimetype": "text/x-python",
   "name": "python",
   "nbconvert_exporter": "python",
   "pygments_lexer": "ipython3",
   "version": "3.4.1"
  }
 },
 "nbformat": 4,
 "nbformat_minor": 0
}
