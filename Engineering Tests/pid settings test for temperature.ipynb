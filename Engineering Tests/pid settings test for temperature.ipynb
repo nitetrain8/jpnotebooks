{
 "cells": [
  {
   "cell_type": "code",
   "execution_count": 1,
   "metadata": {
    "collapsed": false
   },
   "outputs": [],
   "source": [
    "from hello.hello3 import HelloApp\n",
    "from hello import hello3\n",
    "from hello import hello\n",
    "from hello.pid.ag_pid import agpid\n",
    "from hello.pid.ag_pid.agpid import *"
   ]
  },
  {
   "cell_type": "code",
   "execution_count": null,
   "metadata": {
    "collapsed": true
   },
   "outputs": [],
   "source": [
    "def runagpid(r):\n",
    "    try:\n",
    "        r.doall()\n",
    "    except Exception as e:\n",
    "        import traceback\n",
    "        traceback.print_exc()\n",
    "    finally:\n",
    "        return r\n",
    "\n",
    "    \n",
    "def run_80Ltests(ip='71.189.82.196:85'):\n",
    "    p = 60\n",
    "    i = 19\n",
    "    d = 0\n",
    "    app = hello3.open_hello(ip)\n",
    "    t1 = TempAutoToAutoTest(p, i, d, 39, PIDTest.CURRENT_PV, app, name=\"80L Temp Verif\")\n",
    "    t2 = TempAutoToAutoTest(p, i, d, 37, 39, app, name=\"80L Temp Verif\")   \n",
    "    r = PIDRunner([t1, t2], wb_name='temp_80L_test.xlsx')\n",
    "    return runagpid(r)\n",
    "    "
   ]
  },
  {
   "cell_type": "code",
   "execution_count": null,
   "metadata": {
    "collapsed": false,
    "scrolled": false
   },
   "outputs": [
    {
     "name": "stdout",
     "output_type": "stream",
     "text": [
      "1484184004.368393 INFO <runall>: Running test 1 of 2: P:60.000 I:19.000 D:0.0000 SP:39\n",
      "1484184004.369394 INFO <run>: Beginning test run for AutoToAuto Start:37.0 SP:39.0\n",
      "1484184004.370397 INFO <setup_settings>: Setting PID Settings\n",
      "1484184006.291784 INFO <setup_test>: Setting Temperature to AUTO 37 C and waiting until stable for 1800 seconds (3600 second timeout)\n",
      "1484184006.292788 INFO <auto>: Setting Temperature to 37 C\n",
      "1484184006.821072 INFO <wait_for_settle>: Waiting for PV to settle\n"
     ]
    }
   ],
   "source": [
    "r = run_80Ltests()"
   ]
  },
  {
   "cell_type": "code",
   "execution_count": null,
   "metadata": {
    "collapsed": true
   },
   "outputs": [],
   "source": [
    "\"22222222222222222222222222222222222222222222222222222222222222222222\""
   ]
  },
  {
   "cell_type": "code",
   "execution_count": null,
   "metadata": {
    "collapsed": true
   },
   "outputs": [],
   "source": [
    "len(_)"
   ]
  },
  {
   "cell_type": "code",
   "execution_count": null,
   "metadata": {
    "collapsed": true
   },
   "outputs": [],
   "source": []
  }
 ],
 "metadata": {
  "kernelspec": {
   "display_name": "Python 3",
   "language": "python",
   "name": "python3"
  },
  "language_info": {
   "codemirror_mode": {
    "name": "ipython",
    "version": 3
   },
   "file_extension": ".py",
   "mimetype": "text/x-python",
   "name": "python",
   "nbconvert_exporter": "python",
   "pygments_lexer": "ipython3",
   "version": "3.5.2"
  }
 },
 "nbformat": 4,
 "nbformat_minor": 1
}
