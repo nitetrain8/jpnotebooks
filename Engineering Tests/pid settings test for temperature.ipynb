{
 "cells": [
  {
   "cell_type": "code",
   "execution_count": 1,
   "metadata": {
    "collapsed": false
   },
   "outputs": [],
   "source": [
    "from hello.hello3 import HelloApp\n",
    "from hello import hello3\n",
    "from hello import hello\n",
    "from hello.pid.ag_pid import agpid\n",
    "from hello.pid.ag_pid.agpid import *"
   ]
  },
  {
   "cell_type": "code",
   "execution_count": 2,
   "metadata": {
    "collapsed": true
   },
   "outputs": [],
   "source": [
    "def runagpid(r):\n",
    "    try:\n",
    "        r.doall()\n",
    "    except Exception as e:\n",
    "        import traceback\n",
    "        traceback.print_exc()\n",
    "    finally:\n",
    "        return r\n",
    "\n",
    "    \n",
    "def run_80Ltests(ip='71.189.82.196:85'):\n",
    "    p = 60\n",
    "    i = 19\n",
    "    d = 0\n",
    "    app = hello3.open_hello(ip)\n",
    "    t1 = TempAutoToAutoTest(p, i, d, 39, PIDTest.CURRENT_PV, app, name=\"80L Temp Verif\")\n",
    "    t2 = TempAutoToAutoTest(p, i, d, 37, 39, app, name=\"80L Temp Verif\")   \n",
    "    r = PIDRunner([t1, t2], wb_name='temp_80L_test.xlsx')\n",
    "    return runagpid(r)\n",
    "    "
   ]
  },
  {
   "cell_type": "code",
   "execution_count": 3,
   "metadata": {
    "collapsed": false,
    "scrolled": false
   },
   "outputs": [],
   "source": [
    "#r = run_80Ltests()\n",
    "_minute = 60\n",
    "_hour = 60* _minute"
   ]
  },
  {
   "cell_type": "code",
   "execution_count": 4,
   "metadata": {
    "collapsed": true
   },
   "outputs": [],
   "source": [
    "def a2a_fmt(a2a):\n",
    "    # reference for A2A configuration Settings\n",
    "    a2a.pretest_stabilize           = 30 * _minute\n",
    "    a2a.pretest_stabilize_timeout   = 60 * _minute\n",
    "    a2a.pretest_stabilize_margin    = 0.2\n",
    "    a2a.settle_time                 = 30 * _minute\n",
    "    a2a.timeout                     = 3 * _hour\n",
    "    a2a.error_band                  = 0.1\n",
    "    a2a.mintime                     = 2 * _hour\n",
    "    a2a.agitation_sp                = 12\n",
    "\n",
    "\n",
    "def run_80Ltests2(ip='71.189.82.196:85'):\n",
    "    TempOffToAutoTest.SHORT_NAME = \"O2A\"  # hotfix\n",
    "    p = 60\n",
    "    i = 35\n",
    "    d = 0\n",
    "    app = hello3.open_hello(ip)\n",
    "    app.retry_count = -1\n",
    "    \n",
    "    t0 = TempOffToAutoTest(p, i, d, 26, 37, app)\n",
    "    t0.pretest_stabilize_timeout   = 18 * _hour\n",
    "    t0.pretest_stabilize_margin    = 0.2\n",
    "    t0.settle_time                 = 60 * _minute\n",
    "    t0.timeout                     = 3 * _hour\n",
    "    t0.error_band                  = 0.1\n",
    "    t0.mintime                     = 3 * _hour\n",
    "    t0.wait_for_cooling            = True\n",
    "    t0.agitation_sp                = 12\n",
    "    \n",
    "    # t0 sets up t1, t1 sets up t2\n",
    "    # so pretest stable time can be short\n",
    "    # previous testing showed that mintime\n",
    "    # was a bit short, so bump to 2 hr and \n",
    "    # shrink error band to 0.1\n",
    "    t1 = TempAutoToAutoTest(p, i, d, 37, 35, app)\n",
    "    t1.pretest_stabilize = 10*_minute\n",
    "    t1.mintime = _hour * 2\n",
    "    t1.error_band = 0.1\n",
    "    \n",
    "    t2 = TempAutoToAutoTest(p, i, d, 35, 37, app)   \n",
    "    t2.pretest_stabilize = 10 * _minute\n",
    "    t2.mintime = 2 * _hour\n",
    "    t2.error_band = 0.1\n",
    "    \n",
    "    r = PIDRunner([t0, t1, t2], wb_name='temp_80L_test_80L_a2a_60.35.0.xlsx')\n",
    "    return runagpid(r)\n"
   ]
  },
  {
   "cell_type": "code",
   "execution_count": 5,
   "metadata": {
    "collapsed": true
   },
   "outputs": [],
   "source": [
    "def run_80Ltests3():\n",
    "    ip='71.189.82.196:85'\n",
    "    p = 60\n",
    "    i = 35\n",
    "    d = 0\n",
    "    app = hello3.open_hello(ip)\n",
    "    app.retry_count = -1\n",
    "    r2 = PIDRunner(wb_name='temp_80L_test_80L_a2a_60.35.0 worst case.xlsx')\n",
    "    t1 = TempAutoToAutoTest(p, i, d, 37, 35.8, app)\n",
    "    t1.pretest_stabilize = 10*_minute\n",
    "    t1.mintime = _hour * 2\n",
    "    t1.error_band = 0.1\n",
    "    t1.settle_time = _hour * 1\n",
    "    \n",
    "    t2 = TempAutoToAutoTest(p, i, d, 35.8, 37, app)   \n",
    "    t2.pretest_stabilize = 10 * _minute\n",
    "    t2.mintime = 2 * _hour\n",
    "    t2.error_band = 0.1\n",
    "    t2.settle_time = _hour * 1\n",
    "    \n",
    "    r2.add_test(t1)\n",
    "    r2.add_test(t2)\n",
    "    return runagpid(r2)"
   ]
  },
  {
   "cell_type": "code",
   "execution_count": null,
   "metadata": {
    "collapsed": true
   },
   "outputs": [],
   "source": []
  },
  {
   "cell_type": "code",
   "execution_count": 6,
   "metadata": {
    "collapsed": true
   },
   "outputs": [],
   "source": [
    "#r=run_80Ltests2()"
   ]
  },
  {
   "cell_type": "code",
   "execution_count": 7,
   "metadata": {
    "collapsed": true
   },
   "outputs": [],
   "source": [
    "# r2 = run_80Ltests3()"
   ]
  },
  {
   "cell_type": "code",
   "execution_count": 8,
   "metadata": {
    "collapsed": true
   },
   "outputs": [],
   "source": [
    "def run_80Ltests4():\n",
    "    ip='71.189.82.196:85'\n",
    "    p = 60\n",
    "    i = 35\n",
    "    d = 0\n",
    "    app = hello3.open_hello(ip)\n",
    "    app.retry_count = -1\n",
    "    r2 = PIDRunner(wb_name='temp_80L_test_50L_a2a_60.35.0 worst case.xlsx')\n",
    "    t1 = TempAutoToAutoTest(p, i, d, 37, 35.8, app)\n",
    "    t1.pretest_stabilize = 10*_minute\n",
    "    t1.mintime = _hour * 2\n",
    "    t1.error_band = 0.1\n",
    "    t1.settle_time = _hour * 1\n",
    "    \n",
    "    t2 = TempAutoToAutoTest(p, i, d, 35.8, 37, app)   \n",
    "    t2.pretest_stabilize = 10 * _minute\n",
    "    t2.mintime = 2 * _hour\n",
    "    t2.error_band = 0.1\n",
    "    t2.settle_time = _hour * 1\n",
    "    \n",
    "    r2.add_test(t1)\n",
    "    r2.add_test(t2)\n",
    "    return runagpid(r2)"
   ]
  },
  {
   "cell_type": "code",
   "execution_count": 9,
   "metadata": {
    "collapsed": true
   },
   "outputs": [],
   "source": [
    "# f4 = run_80Ltests4()"
   ]
  },
  {
   "cell_type": "code",
   "execution_count": 10,
   "metadata": {
    "collapsed": true
   },
   "outputs": [],
   "source": [
    "def run_80Ltests5():\n",
    "    ip='71.189.82.196:85'\n",
    "    p = 60\n",
    "    i = 19\n",
    "    d = 0\n",
    "    app = hello3.open_hello(ip)\n",
    "    app.retry_count = -1\n",
    "    r2 = PIDRunner(wb_name='temp_80L_test_50L_a2a_%d.%d.0 worst case.xlsx'%(p,i))\n",
    "    t1 = TempAutoToAutoTest(p, i, d, 35.8, 37, app)\n",
    "    t1.pretest_stabilize = 1 * _hour\n",
    "    t1.pretest_stabilize_timeout = 3 * _hour\n",
    "    t1.mintime = _hour * 2\n",
    "    t1.error_band = 0.1\n",
    "    t1.settle_time = _hour * 1\n",
    "    \n",
    "    t2 = TempAutoToAutoTest(p, i, d, 35, 37, app)   \n",
    "    t2.pretest_stabilize = 1 * _hour\n",
    "    t2.pretest_stabilize_timeout = 3 * _hour\n",
    "    t2.mintime = 2 * _hour\n",
    "    t2.error_band = 0.1\n",
    "    t2.settle_time = _hour * 1\n",
    "    \n",
    "    t3 = TempAutoToAutoTest(p, i, d, 37, 35.8, app)\n",
    "    t3.pretest_stabilize = 10 * _minute\n",
    "    t3.mintime = _hour * 2\n",
    "    t3.error_band = 0.1\n",
    "    t3.settle_time = _hour * 1\n",
    "    \n",
    "    t4 = TempAutoToAutoTest(p, i, d, 37, 35, app)\n",
    "    t4.pretest_stabilize = 10 * _minute\n",
    "    t4.mintime = _hour * 2\n",
    "    t4.error_band = 0.1\n",
    "    t4.settle_time = _hour * 1\n",
    "    \n",
    "    r2.add_test(t3)\n",
    "    r2.add_test(t1)\n",
    "    r2.add_test(t4)\n",
    "    r2.add_test(t2)\n",
    "    return runagpid(r2)"
   ]
  },
  {
   "cell_type": "code",
   "execution_count": 11,
   "metadata": {
    "collapsed": true
   },
   "outputs": [],
   "source": [
    "# r5 = run_80Ltests5()"
   ]
  },
  {
   "cell_type": "code",
   "execution_count": null,
   "metadata": {
    "collapsed": true
   },
   "outputs": [],
   "source": [
    "def run_80Ltests6():\n",
    "    ip='71.189.82.196:85'\n",
    "    p = 60\n",
    "    i = 19\n",
    "    d = 0\n",
    "    app = hello3.open_hello(ip)\n",
    "    app.retry_count = -1\n",
    "    r2 = PIDRunner(wb_name='temp_80L_test_50L_m2a_%d.%d.0 nobump.xlsx'%(p,i))\n",
    "    t1 = TempManToAutoTest(p, i, d, 35.8, 37, app)\n",
    "    t1.pretest_stabilize = 10 * _minute\n",
    "    t1.pretest_stabilize_timeout = 3 * _hour\n",
    "    t1.mintime = _hour * 2\n",
    "    t1.error_band = 0.1\n",
    "    t1.settle_time = _hour * 1\n",
    "    \n",
    "    t2 = TempManToAutoTest(p, i, d, 35, 37, app)   \n",
    "    t2.pretest_stabilize = 10 * _minute\n",
    "    t2.pretest_stabilize_timeout = 3 * _hour\n",
    "    t2.mintime = 2 * _hour\n",
    "    t2.error_band = 0.1\n",
    "    t2.settle_time = _hour * 1\n",
    "    \n",
    "    t3 = TempManToAutoTest(p, i, d, 37, 35.8, app)\n",
    "    t3.pretest_stabilize = 10 * _minute\n",
    "    t3.mintime = _hour * 2\n",
    "    t3.error_band = 0.1\n",
    "    t3.settle_time = _hour * 1\n",
    "    \n",
    "    t4 = TempManToAutoTest(p, i, d, 37, 35, app)\n",
    "    t4.pretest_stabilize = 10 * _minute\n",
    "    t4.mintime = _hour * 2\n",
    "    t4.error_band = 0.1\n",
    "    t4.settle_time = _hour * 1\n",
    "    \n",
    "    r2.add_test(t3)\n",
    "    r2.add_test(t1)\n",
    "    r2.add_test(t4)\n",
    "    r2.add_test(t2)\n",
    "    return runagpid(r2)"
   ]
  },
  {
   "cell_type": "code",
   "execution_count": null,
   "metadata": {
    "collapsed": false
   },
   "outputs": [
    {
     "name": "stdout",
     "output_type": "stream",
     "text": [
      "01/18/17 14:13:46 INFO <runall>: Running test 1 of 4: P:60.000 I:19.000 D:0.0000 SP:35\n",
      "01/18/17 14:13:46 INFO <run>: Beginning test run for ManToAuto Start:37.0 SP:35.8\n",
      "01/18/17 14:13:46 INFO <setup_settings>: Setting PID Settings\n",
      "01/18/17 14:13:50 INFO <setup_test>: Setting Controller to AUTO 37 C and waiting until stable for 600 seconds (10800 second timeout)\n",
      "01/18/17 14:13:50 INFO <auto>: Setting Temperature to 37 C\n",
      "01/18/17 14:13:50 INFO <wait_for_settle>: Waiting for PV to settle\n",
      "01/18/17 14:13:50 INFO <wait_for_settle>: Update: PV: 36.99 SP: 37.00 Settle Remaining: 599 Timeout: 10799\n",
      "01/18/17 14:14:51 INFO <wait_for_settle>: Update: PV: 36.99 SP: 37.00 Settle Remaining: 539 Timeout: 10739\n"
     ]
    }
   ],
   "source": [
    "r6 = run_80Ltests6()"
   ]
  },
  {
   "cell_type": "code",
   "execution_count": null,
   "metadata": {
    "collapsed": true
   },
   "outputs": [],
   "source": []
  }
 ],
 "metadata": {
  "kernelspec": {
   "display_name": "Python 3",
   "language": "python",
   "name": "python3"
  },
  "language_info": {
   "codemirror_mode": {
    "name": "ipython",
    "version": 3
   },
   "file_extension": ".py",
   "mimetype": "text/x-python",
   "name": "python",
   "nbconvert_exporter": "python",
   "pygments_lexer": "ipython3",
   "version": "3.5.2"
  }
 },
 "nbformat": 4,
 "nbformat_minor": 1
}
