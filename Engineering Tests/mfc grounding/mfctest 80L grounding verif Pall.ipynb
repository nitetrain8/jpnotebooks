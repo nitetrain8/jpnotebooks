{
 "cells": [
  {
   "cell_type": "code",
   "execution_count": 1,
   "metadata": {
    "collapsed": true
   },
   "outputs": [],
   "source": [
    "from hello.hello import *\n",
    "from officelib.xllib import *\n",
    "from officelib import const"
   ]
  },
  {
   "cell_type": "code",
   "execution_count": 2,
   "metadata": {
    "collapsed": false
   },
   "outputs": [],
   "source": [
    "app = HelloApp(\"71.189.82.196:8\")\n",
    "from time import sleep\n",
    "def set_mg(sp):\n",
    "    try:\n",
    "        app.setmg(1, sp)\n",
    "    except HelloError:\n",
    "        app.login()\n",
    "        app.setmg(1, sp)\n",
    "        \n",
    "def update_ss(cell, val):\n",
    "    cell.Value = val\n",
    "    c = cell.Offset(2, 1)\n",
    "    c.Select()\n",
    "    return c\n",
    "        \n",
    "def frange(start, stop, step):\n",
    "    i = 0\n",
    "    v = start + i * step\n",
    "    while v < stop:\n",
    "        yield v\n",
    "        i += 1\n",
    "        v = start + i * step\n",
    "        \n",
    "\n",
    "def run_test(name, mfc_max, c=None):\n",
    "    tmin = mfc_max / 10\n",
    "    print(\"Testing \", name, \"MFC: %.1f LPM Max\" % mfc_max)\n",
    "    for fr in frange(tmin, mfc_max+tmin/2, tmin):\n",
    "        set_mg(fr)\n",
    "        v = input(\"%.2f LPM:\" % fr)\n",
    "        if v.lower() in (\"break\", \"quit\", \"q\", \"stop\"):\n",
    "            break\n",
    "        c = update_ss(c, v)\n",
    "    \n",
    "\n",
    "xl = Excel()\n",
    "def s():\n",
    "    return xl.Selection\n",
    "\n",
    "def run(name, mfcm):\n",
    "    print(\"Verify pH/DO settings are correct!\")\n",
    "    run_test(name, mfcm, s())\n",
    "    \n",
    "def all_on():\n",
    "    app.login()\n",
    "    for sp in range(20, 101, 20):\n",
    "        app.setag(1, sp)\n",
    "        sleep(0.5)\n",
    "    app.setfillpump(1, 500)\n",
    "    app.setpumpb(1, 3)\n",
    "    app.setpumpc(1, 3)\n",
    "    app.setpumpsample(1, 1)\n",
    "    app.settoplight(1)\n",
    "    print(\"Remember to turn on fans!\")\n",
    "    \n",
    "def all_off():\n",
    "    app.login()\n",
    "    app.setag(2, 0)\n",
    "    app.setfillpump(0, 0)\n",
    "    app.setpumpb(0, 0)\n",
    "    app.setpumpc(0, 0)\n",
    "    app.setpumpsample(0, 0)\n",
    "    app.settoplight(0)\n",
    "    print(\"Remember to turn off fans!\")\n",
    "    \n",
    "def air_on():\n",
    "    app.login()\n",
    "    app.setph(2, 0)\n",
    "    app.setdo(2, 0)\n",
    "\n",
    "def co2_on():\n",
    "    app.login()\n",
    "    app.setph(1, 100, 0)\n",
    "    app.setdo(2, 0)\n",
    "    print(\"Verify CO2 Manual Max!\")\n",
    "    \n",
    "def n2_on():\n",
    "    app.login()\n",
    "    app.setph(2, 0)\n",
    "    app.setdo(1, 100, 0)\n",
    "    \n",
    "def o2_on():\n",
    "    app.login()\n",
    "    app.setph(2, 0)\n",
    "    app.setdo(1, 0, 100)"
   ]
  },
  {
   "cell_type": "code",
   "execution_count": 17,
   "metadata": {
    "collapsed": true
   },
   "outputs": [],
   "source": [
    "\n",
    "r = s().Parent.Cells.Range\n",
    "def r2(c):\n",
    "    return r(\"%s:%s\" % (c+str(5), c+str(14)))\n",
    "\n",
    "x = r2(\"B\")\n",
    "air=r2(\"E\")\n",
    "n2 = r2(\"H\")\n",
    "o2 = r2(\"K\")\n",
    "co2=r2(\"O\")\n",
    "x2 = r2(\"L\")\n",
    "def select_off(mfc):\n",
    "    mfc.Offset(1, -1).Select()\n",
    "    \n",
    "def select_on(mfc):\n",
    "    mfc.Offset(1, 0).Select()"
   ]
  },
  {
   "cell_type": "code",
   "execution_count": 8,
   "metadata": {
    "collapsed": false
   },
   "outputs": [
    {
     "name": "stdout",
     "output_type": "stream",
     "text": [
      "Remember to turn off fans!\n"
     ]
    }
   ],
   "source": [
    "all_off()"
   ]
  },
  {
   "cell_type": "code",
   "execution_count": 6,
   "metadata": {
    "collapsed": false
   },
   "outputs": [
    {
     "name": "stdout",
     "output_type": "stream",
     "text": [
      "Verify CO2 Manual Max!\n",
      "Verify pH/DO settings are correct!\n",
      "Testing  co2 off MFC: 2.0 LPM Max\n",
      "0.20 LPM:.220\n",
      "0.40 LPM:.425\n",
      "0.60 LPM:.632\n",
      "0.80 LPM:.838\n",
      "1.00 LPM:1.042\n",
      "1.20 LPM:1.1244\n",
      "1.40 LPM:1.1446\n",
      "1.60 LPM:1.650\n",
      "1.80 LPM:1.853\n",
      "2.00 LPM:2.052\n"
     ]
    }
   ],
   "source": [
    "co2_on()\n",
    "select_off(co2)\n",
    "run(\"co2 off\", 2)"
   ]
  },
  {
   "cell_type": "code",
   "execution_count": 11,
   "metadata": {
    "collapsed": false
   },
   "outputs": [
    {
     "name": "stdout",
     "output_type": "stream",
     "text": [
      "Verify pH/DO settings are correct!\n",
      "Testing  air off MFC: 10.0 LPM Max\n",
      "1.00 LPM:1.05\n",
      "2.00 LPM:2.09\n",
      "3.00 LPM:3.14\n",
      "4.00 LPM:4.17\n",
      "5.00 LPM:5.20\n",
      "6.00 LPM:6.24\n",
      "7.00 LPM:7.27\n",
      "8.00 LPM:8.31\n",
      "9.00 LPM:9.32\n",
      "10.00 LPM:10.35\n"
     ]
    }
   ],
   "source": [
    "air_on()\n",
    "select_off(air)\n",
    "run(\"air off\", 10)"
   ]
  },
  {
   "cell_type": "code",
   "execution_count": 13,
   "metadata": {
    "collapsed": false
   },
   "outputs": [
    {
     "name": "stdout",
     "output_type": "stream",
     "text": [
      "Verify pH/DO settings are correct!\n",
      "Testing  n2 off MFC: 10.0 LPM Max\n",
      "1.00 LPM:1.06\n",
      "2.00 LPM:2.12\n",
      "3.00 LPM:3.17\n",
      "4.00 LPM:4.23\n",
      "5.00 LPM:5.27\n",
      "6.00 LPM:6.31\n",
      "7.00 LPM:7.34\n",
      "8.00 LPM:8.37\n",
      "9.00 LPM:9.41\n",
      "10.00 LPM:10.47\n"
     ]
    }
   ],
   "source": [
    "n2_on()\n",
    "select_off(n2)\n",
    "run(\"n2 off\", 10)"
   ]
  },
  {
   "cell_type": "code",
   "execution_count": 16,
   "metadata": {
    "collapsed": false
   },
   "outputs": [
    {
     "name": "stdout",
     "output_type": "stream",
     "text": [
      "Verify pH/DO settings are correct!\n",
      "Testing  o2 off MFC: 10.0 LPM Max\n",
      "1.00 LPM:1.04\n",
      "2.00 LPM:2.06\n",
      "3.00 LPM:3.08\n",
      "4.00 LPM:4.10\n",
      "5.00 LPM:5.13\n",
      "6.00 LPM:6.15\n",
      "7.00 LPM:7.17\n",
      "8.00 LPM:8.18\n",
      "9.00 LPM:9.15\n",
      "10.00 LPM:10.21\n"
     ]
    }
   ],
   "source": [
    "o2_on()\n",
    "select_off(o2)\n",
    "run(\"o2 off\", 10)"
   ]
  },
  {
   "cell_type": "code",
   "execution_count": 18,
   "metadata": {
    "collapsed": false
   },
   "outputs": [
    {
     "name": "stdout",
     "output_type": "stream",
     "text": [
      "Remember to turn on fans!\n"
     ]
    }
   ],
   "source": [
    "all_on()"
   ]
  },
  {
   "cell_type": "code",
   "execution_count": 19,
   "metadata": {
    "collapsed": false
   },
   "outputs": [
    {
     "name": "stdout",
     "output_type": "stream",
     "text": [
      "Verify pH/DO settings are correct!\n",
      "Testing  o2 on MFC: 10.0 LPM Max\n",
      "1.00 LPM:1.09\n",
      "2.00 LPM:2.11\n",
      "3.00 LPM:3.12\n",
      "4.00 LPM:4.14\n",
      "5.00 LPM:5.16\n",
      "6.00 LPM:6.20\n",
      "7.00 LPM:7.20\n",
      "8.00 LPM:8.22\n",
      "9.00 LPM:9.24\n",
      "10.00 LPM:10.22\n"
     ]
    }
   ],
   "source": [
    "o2_on()\n",
    "select_on(o2)\n",
    "run(\"o2 on\", 10)"
   ]
  },
  {
   "cell_type": "code",
   "execution_count": 20,
   "metadata": {
    "collapsed": false
   },
   "outputs": [
    {
     "name": "stdout",
     "output_type": "stream",
     "text": [
      "Verify pH/DO settings are correct!\n",
      "Testing  air on MFC: 10.0 LPM Max\n",
      "1.00 LPM:1.09\n",
      "2.00 LPM:2.12\n",
      "3.00 LPM:3.18\n",
      "4.00 LPM:4.22\n",
      "5.00 LPM:5.25\n",
      "6.00 LPM:6.28\n",
      "7.00 LPM:7.31\n",
      "8.00 LPM:8.34\n",
      "9.00 LPM:9.35\n",
      "10.00 LPM:10.35\n"
     ]
    }
   ],
   "source": [
    "air_on()\n",
    "select_on(air)\n",
    "run(\"air on\", 10)"
   ]
  },
  {
   "cell_type": "code",
   "execution_count": 21,
   "metadata": {
    "collapsed": false
   },
   "outputs": [
    {
     "name": "stdout",
     "output_type": "stream",
     "text": [
      "Verify pH/DO settings are correct!\n",
      "Testing  n2 on MFC: 10.0 LPM Max\n",
      "1.00 LPM:1.10\n",
      "2.00 LPM:2.16\n",
      "3.00 LPM:3.21\n",
      "4.00 LPM:4.27\n",
      "5.00 LPM:5.31\n",
      "6.00 LPM:6.35\n",
      "7.00 LPM:7.38\n",
      "8.00 LPM:8.40\n",
      "9.00 LPM:9.45\n",
      "10.00 LPM:10.48\n"
     ]
    }
   ],
   "source": [
    "n2_on()\n",
    "select_on(n2)\n",
    "run(\"n2 on\", 10)"
   ]
  },
  {
   "cell_type": "code",
   "execution_count": 23,
   "metadata": {
    "collapsed": false
   },
   "outputs": [
    {
     "name": "stdout",
     "output_type": "stream",
     "text": [
      "Verify CO2 Manual Max!\n",
      "Verify pH/DO settings are correct!\n",
      "Testing  co2 on MFC: 2.0 LPM Max\n",
      "0.20 LPM:.228\n",
      "0.40 LPM:.432\n",
      "0.60 LPM:.639\n",
      "0.80 LPM:.845\n",
      "1.00 LPM:1.049\n",
      "1.20 LPM:1.250\n",
      "1.40 LPM:1.453\n",
      "1.60 LPM:1.655\n",
      "1.80 LPM:1.858\n",
      "2.00 LPM:2.051\n"
     ]
    }
   ],
   "source": [
    "co2_on()\n",
    "select_on(co2)\n",
    "run(\"co2 on\", 2)"
   ]
  },
  {
   "cell_type": "code",
   "execution_count": null,
   "metadata": {
    "collapsed": true
   },
   "outputs": [],
   "source": [
    "c1 = CreateChart(s().Worksheet)\n",
    "\n",
    "s_air = CreateDataSeries(c1, x, air, \"air\")\n",
    "s_n2 = CreateDataSeries(c1, x, n2, \"n2\")\n",
    "s_co2 = CreateDataSeries(c1, x2, co2, \"co2\")\n",
    "s_o2 = CreateDataSeries(c1, x, o2, \"o2\")\n",
    "\n",
    "FormatChart(c1, None, \"80L Pall MFC Grounding Test\", \"Flow Rate\", \"% Error\", None, True)\n",
    "\n",
    "for se in c1.SeriesCollection():\n",
    "    se.MarkerSize=4\n",
    "\n",
    "loc = \"GndTest\"\n",
    "ws = c1.Parent.Parent\n",
    "c1.Location(const.xlLocationAsNewSheet, loc)\n",
    "c1 = ws.Workbook.Charts(loc)"
   ]
  }
 ],
 "metadata": {
  "kernelspec": {
   "display_name": "Python 3",
   "language": "python",
   "name": "python3"
  },
  "language_info": {
   "codemirror_mode": {
    "name": "ipython",
    "version": 3
   },
   "file_extension": ".py",
   "mimetype": "text/x-python",
   "name": "python",
   "nbconvert_exporter": "python",
   "pygments_lexer": "ipython3",
   "version": "3.4.1"
  }
 },
 "nbformat": 4,
 "nbformat_minor": 0
}
