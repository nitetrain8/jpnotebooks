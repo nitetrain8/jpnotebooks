{
 "cells": [
  {
   "cell_type": "code",
   "execution_count": 1,
   "metadata": {
    "collapsed": false
   },
   "outputs": [],
   "source": [
    "from hello.hello3 import HelloApp\n",
    "from hello import hello3\n",
    "from hello import hello\n",
    "from hello.pid.ag_pid import agpid\n",
    "from hello.pid.ag_pid.agpid import *"
   ]
  },
  {
   "cell_type": "code",
   "execution_count": 2,
   "metadata": {
    "collapsed": true
   },
   "outputs": [],
   "source": [
    "def run(r):\n",
    "    try:\n",
    "        r.doall()\n",
    "    except Exception as e:\n",
    "        import traceback\n",
    "        traceback.print_exc()\n",
    "    finally:\n",
    "        return r\n"
   ]
  },
  {
   "cell_type": "code",
   "execution_count": 3,
   "metadata": {
    "collapsed": false,
    "scrolled": false
   },
   "outputs": [],
   "source": [
    "#r = run_80Ltests()\n",
    "_minute = 60\n",
    "_hour = 60* _minute"
   ]
  },
  {
   "cell_type": "code",
   "execution_count": 4,
   "metadata": {
    "collapsed": true
   },
   "outputs": [],
   "source": [
    "def a2a_fmt(a2a):\n",
    "    # reference for A2A configuration Settings\n",
    "    a2a.pretest_stabilize           = 30 * _minute\n",
    "    a2a.pretest_stabilize_timeout   = 60 * _minute\n",
    "    a2a.pretest_stabilize_margin    = 0.2\n",
    "    a2a.settle_time                 = 30 * _minute\n",
    "    a2a.timeout                     = 3 * _hour\n",
    "    a2a.error_band                  = 0.1\n",
    "    a2a.mintime                     = 2 * _hour\n",
    "    a2a.agitation_sp                = 12\n",
    "\n",
    "\n",
    "def tests1(ip='71.189.82.196:88'):\n",
    "\n",
    "    app = hello3.open_hello(ip)\n",
    "    app.retry_count = -1\n",
    "    \n",
    "    info = PIDInfo()\n",
    "    info.p = 70\n",
    "    info.i = 20\n",
    "    info.d = 0\n",
    "    info.beta = 0\n",
    "    \n",
    "    t0 = TempOffToAutoTest(info, 24, 37, app)\n",
    "    t0.pretest_stabilize_timeout   = 18 * _hour\n",
    "    t0.pretest_stabilize_margin    = 0.2\n",
    "    t0.settle_time                 = 60 * _minute\n",
    "    t0.timeout                     = 3 * _hour\n",
    "    t0.error_band                  = 0.1\n",
    "    t0.mintime                     = 3 * _hour\n",
    "    t0.wait_for_cooling            = True\n",
    "    t0.agitation_sp                = 12\n",
    "    \n",
    "    # t0 sets up t1, t1 sets up t2\n",
    "    # so pretest stable time can be short\n",
    "    # previous testing showed that mintime\n",
    "    # was a bit short, so bump to 2 hr and \n",
    "    # shrink error band to 0.1\n",
    "    \n",
    "    t1 = TempAutoToAutoTest(info, 37, 35, app)\n",
    "    t1.pretest_stabilize = 10*_minute\n",
    "    t1.mintime = _hour * 2\n",
    "    t1.error_band = 0.1\n",
    "    \n",
    "    t2 = TempAutoToAutoTest(info, 35, 37, app)   \n",
    "    t2.pretest_stabilize = 10 * _minute\n",
    "    t2.mintime = 2 * _hour\n",
    "    t2.error_band = 0.1\n",
    "    \n",
    "    r = PIDRunner([t0, t1, t2], wb_name='temp_15L_test_70.20.0.xlsx')\n",
    "    return run(r)\n"
   ]
  },
  {
   "cell_type": "code",
   "execution_count": null,
   "metadata": {
    "collapsed": false
   },
   "outputs": [
    {
     "name": "stdout",
     "output_type": "stream",
     "text": [
      "02/22/17 17:57:35 INFO <runall>: Running test 1 of 3: P:70.000 I:20.000 D:0.0000 SP:37\n",
      "02/22/17 17:57:35 INFO <run>: Beginning test run for OffToAuto Start:24.0 SP:37.0\n",
      "02/22/17 17:57:35 INFO <setup_settings>: Setting PID Settings\n",
      "02/22/17 17:57:35 INFO <setconfig>: Setting Temperature P_Gain_(%/C) to 70\n",
      "02/22/17 17:57:37 INFO <setconfig>: Setting Temperature I_Time_(min) to 20\n",
      "02/22/17 17:57:38 INFO <setconfig>: Setting Temperature D_Time_(min) to 0\n",
      "02/22/17 17:57:38 INFO <setconfig>: Setting Temperature Beta to 0\n",
      "02/22/17 17:57:39 INFO <off>: Setting Temperature to Off\n"
     ]
    }
   ],
   "source": [
    "tests1()"
   ]
  },
  {
   "cell_type": "code",
   "execution_count": null,
   "metadata": {
    "collapsed": true
   },
   "outputs": [],
   "source": [
    "def run_80Ltests3():\n",
    "    ip='71.189.82.196:85'\n",
    "    p = 60\n",
    "    i = 35\n",
    "    d = 0\n",
    "    app = hello3.open_hello(ip)\n",
    "    app.retry_count = -1\n",
    "    r2 = PIDRunner(wb_name='temp_80L_test_80L_a2a_60.35.0 worst case.xlsx')\n",
    "    t1 = TempAutoToAutoTest(p, i, d, 37, 35.8, app)\n",
    "    t1.pretest_stabilize = 10*_minute\n",
    "    t1.mintime = _hour * 2\n",
    "    t1.error_band = 0.1\n",
    "    t1.settle_time = _hour * 1\n",
    "    \n",
    "    t2 = TempAutoToAutoTest(p, i, d, 35.8, 37, app)   \n",
    "    t2.pretest_stabilize = 10 * _minute\n",
    "    t2.mintime = 2 * _hour\n",
    "    t2.error_band = 0.1\n",
    "    t2.settle_time = _hour * 1\n",
    "    \n",
    "    r2.add_test(t1)\n",
    "    r2.add_test(t2)\n",
    "    return runagpid(r2)"
   ]
  },
  {
   "cell_type": "code",
   "execution_count": null,
   "metadata": {
    "collapsed": true
   },
   "outputs": [],
   "source": []
  },
  {
   "cell_type": "code",
   "execution_count": null,
   "metadata": {
    "collapsed": true
   },
   "outputs": [],
   "source": [
    "#r=run_80Ltests2()"
   ]
  },
  {
   "cell_type": "code",
   "execution_count": null,
   "metadata": {
    "collapsed": true
   },
   "outputs": [],
   "source": [
    "# r2 = run_80Ltests3()"
   ]
  },
  {
   "cell_type": "code",
   "execution_count": null,
   "metadata": {
    "collapsed": true
   },
   "outputs": [],
   "source": [
    "def run_80Ltests4():\n",
    "    ip='71.189.82.196:85'\n",
    "    p = 60\n",
    "    i = 35\n",
    "    d = 0\n",
    "    app = hello3.open_hello(ip)\n",
    "    app.retry_count = -1\n",
    "    r2 = PIDRunner(wb_name='temp_80L_test_50L_a2a_60.35.0 worst case.xlsx')\n",
    "    t1 = TempAutoToAutoTest(p, i, d, 37, 35.8, app)\n",
    "    t1.pretest_stabilize = 10*_minute\n",
    "    t1.mintime = _hour * 2\n",
    "    t1.error_band = 0.1\n",
    "    t1.settle_time = _hour * 1\n",
    "    \n",
    "    t2 = TempAutoToAutoTest(p, i, d, 35.8, 37, app)   \n",
    "    t2.pretest_stabilize = 10 * _minute\n",
    "    t2.mintime = 2 * _hour\n",
    "    t2.error_band = 0.1\n",
    "    t2.settle_time = _hour * 1\n",
    "    \n",
    "    r2.add_test(t1)\n",
    "    r2.add_test(t2)\n",
    "    return runagpid(r2)"
   ]
  },
  {
   "cell_type": "code",
   "execution_count": null,
   "metadata": {
    "collapsed": true
   },
   "outputs": [],
   "source": [
    "# f4 = run_80Ltests4()"
   ]
  },
  {
   "cell_type": "code",
   "execution_count": null,
   "metadata": {
    "collapsed": true
   },
   "outputs": [],
   "source": [
    "def run_80Ltests5():\n",
    "    ip='71.189.82.196:85'\n",
    "    p = 60\n",
    "    i = 19\n",
    "    d = 0\n",
    "    app = hello3.open_hello(ip)\n",
    "    app.retry_count = -1\n",
    "    r2 = PIDRunner(wb_name='temp_80L_test_50L_a2a_%d.%d.0 worst case.xlsx'%(p,i))\n",
    "    t1 = TempAutoToAutoTest(p, i, d, 35.8, 37, app)\n",
    "    t1.pretest_stabilize = 1 * _hour\n",
    "    t1.pretest_stabilize_timeout = 3 * _hour\n",
    "    t1.mintime = _hour * 2\n",
    "    t1.error_band = 0.1\n",
    "    t1.settle_time = _hour * 1\n",
    "    \n",
    "    t2 = TempAutoToAutoTest(p, i, d, 35, 37, app)   \n",
    "    t2.pretest_stabilize = 1 * _hour\n",
    "    t2.pretest_stabilize_timeout = 3 * _hour\n",
    "    t2.mintime = 2 * _hour\n",
    "    t2.error_band = 0.1\n",
    "    t2.settle_time = _hour * 1\n",
    "    \n",
    "    t3 = TempAutoToAutoTest(p, i, d, 37, 35.8, app)\n",
    "    t3.pretest_stabilize = 10 * _minute\n",
    "    t3.mintime = _hour * 2\n",
    "    t3.error_band = 0.1\n",
    "    t3.settle_time = _hour * 1\n",
    "    \n",
    "    t4 = TempAutoToAutoTest(p, i, d, 37, 35, app)\n",
    "    t4.pretest_stabilize = 10 * _minute\n",
    "    t4.mintime = _hour * 2\n",
    "    t4.error_band = 0.1\n",
    "    t4.settle_time = _hour * 1\n",
    "    \n",
    "    r2.add_test(t3)\n",
    "    r2.add_test(t1)\n",
    "    r2.add_test(t4)\n",
    "    r2.add_test(t2)\n",
    "    return runagpid(r2)"
   ]
  },
  {
   "cell_type": "code",
   "execution_count": null,
   "metadata": {
    "collapsed": true
   },
   "outputs": [],
   "source": [
    "# r5 = run_80Ltests5()"
   ]
  },
  {
   "cell_type": "code",
   "execution_count": null,
   "metadata": {
    "collapsed": true
   },
   "outputs": [],
   "source": []
  },
  {
   "cell_type": "code",
   "execution_count": null,
   "metadata": {
    "collapsed": true
   },
   "outputs": [],
   "source": [
    "def run_80Ltests7():\n",
    "    ip='71.189.82.196:85'\n",
    "    p = 60\n",
    "    i = 22\n",
    "    d = 0\n",
    "    beta = 0\n",
    "    app = hello3.open_hello(ip)\n",
    "    app.login()\n",
    "    app.setconfig(\"temperature\", \"beta\", beta)\n",
    "    app.retry_count = -1\n",
    "    r2 = PIDRunner(wb_name='temp_80L_test_50L_all_%d.%d.0 beta %.1f.xlsx'%(p,i,beta))\n",
    "    t1 = TempAutoToAutoTest(p, i, d, 35.8, 37, app)\n",
    "    t1.pretest_stabilize = 1 * _hour\n",
    "    t1.pretest_stabilize_timeout = 3 * _hour\n",
    "    t1.mintime = _hour * 2\n",
    "    t1.error_band = 0.1\n",
    "    t1.settle_time = _hour * 1\n",
    "    \n",
    "    t2 = TempAutoToAutoTest(p, i, d, 35, 37, app)   \n",
    "    t2.pretest_stabilize = 1 * _hour\n",
    "    t2.pretest_stabilize_timeout = 3 * _hour\n",
    "    t2.mintime = 2 * _hour\n",
    "    t2.error_band = 0.1\n",
    "    t2.settle_time = _hour * 1\n",
    "    \n",
    "    t3 = TempAutoToAutoTest(p, i, d, 37, 35.8, app)\n",
    "    t3.pretest_stabilize = 10 * _minute\n",
    "    t3.mintime = _hour * 2\n",
    "    t3.error_band = 0.1\n",
    "    t3.settle_time = _hour * 1\n",
    "    \n",
    "    t4 = TempAutoToAutoTest(p, i, d, 37, 35, app)\n",
    "    t4.pretest_stabilize = 10 * _minute\n",
    "    t4.mintime = _hour * 2\n",
    "    t4.error_band = 0.1\n",
    "    t4.settle_time = _hour * 1\n",
    "    \n",
    "    t0 = TempOffToAutoTest(p, i, d, 26, 37, app)\n",
    "    t0.pretest_stabilize_timeout   = 18 * _hour\n",
    "    t0.pretest_stabilize_margin    = 0.2\n",
    "    t0.settle_time                 = 60 * _minute\n",
    "    t0.timeout                     = 3 * _hour\n",
    "    t0.error_band                  = 0.1\n",
    "    t0.mintime                     = 3 * _hour\n",
    "    t0.wait_for_cooling            = True\n",
    "    t0.agitation_sp                = 12\n",
    "    \n",
    "    for t in (t0, t1, t2, t3, t4):\n",
    "        t.metadata['Beta'] = beta\n",
    "    \n",
    "    r2.add_test(t3)\n",
    "    r2.add_test(t1)\n",
    "    r2.add_test(t4)\n",
    "    r2.add_test(t2)\n",
    "    r2.add_test(t0)\n",
    "    \n",
    "    return runagpid(r2)"
   ]
  },
  {
   "cell_type": "code",
   "execution_count": null,
   "metadata": {
    "collapsed": false
   },
   "outputs": [],
   "source": [
    "r7 = run_80Ltests7()"
   ]
  },
  {
   "cell_type": "code",
   "execution_count": null,
   "metadata": {
    "collapsed": true
   },
   "outputs": [],
   "source": [
    "def run_80Ltests8():\n",
    "    ip='71.189.82.196:85'\n",
    "    p = 60\n",
    "    i = 20\n",
    "    d = 0\n",
    "    beta = 0\n",
    "    app = hello3.open_hello(ip)\n",
    "    app.login()\n",
    "    app.set_mode('temperature', 1, 17)\n",
    "    app.setconfig(\"temperature\", \"beta\", beta)\n",
    "    app.retry_count = -1\n",
    "    r2 = PIDRunner(wb_name='temp_80L_test_50L_all_%d.%d.0 beta %.1f.xlsx'%(p,i,beta))\n",
    "    t1 = TempAutoToAutoTest(p, i, d, 35.8, 37, app)\n",
    "    t1.pretest_stabilize = 1 * _hour\n",
    "    t1.pretest_stabilize_timeout = 3 * _hour\n",
    "    t1.mintime = _hour * 2\n",
    "    t1.error_band = 0.1\n",
    "    t1.settle_time = _hour * 1\n",
    "    \n",
    "    t2 = TempAutoToAutoTest(p, i, d, 35, 37, app)   \n",
    "    t2.pretest_stabilize = 1 * _hour\n",
    "    t2.pretest_stabilize_timeout = 3 * _hour\n",
    "    t2.mintime = 2 * _hour\n",
    "    t2.error_band = 0.1\n",
    "    t2.settle_time = _hour * 1\n",
    "    \n",
    "    t3 = TempAutoToAutoTest(p, i, d, 37, 35.8, app)\n",
    "    t3.pretest_stabilize = 10 * _minute\n",
    "    t3.mintime = _hour * 2\n",
    "    t3.error_band = 0.1\n",
    "    t3.settle_time = _hour * 1\n",
    "    \n",
    "    t4 = TempAutoToAutoTest(p, i, d, 37, 35, app)\n",
    "    t4.pretest_stabilize = 10 * _minute\n",
    "    t4.mintime = _hour * 2\n",
    "    t4.error_band = 0.1\n",
    "    t4.settle_time = _hour * 1\n",
    "    \n",
    "    t0 = TempOffToAutoTest(p, i, d, 26, 37, app)\n",
    "    t0.pretest_stabilize_timeout   = 18 * _hour\n",
    "    t0.pretest_stabilize_margin    = 0.2\n",
    "    t0.settle_time                 = 60 * _minute\n",
    "    t0.timeout                     = 3 * _hour\n",
    "    t0.error_band                  = 0.1\n",
    "    t0.mintime                     = 3 * _hour\n",
    "    t0.wait_for_cooling            = True\n",
    "    t0.agitation_sp                = 12\n",
    "    \n",
    "    for t in (t0, t1, t2, t3, t4):\n",
    "        t.metadata['Beta'] = beta\n",
    "    \n",
    "    r2.add_test(t3)\n",
    "    r2.add_test(t1)\n",
    "    r2.add_test(t4)\n",
    "    r2.add_test(t2)\n",
    "    r2.add_test(t0)\n",
    "    \n",
    "    return runagpid(r2)"
   ]
  },
  {
   "cell_type": "code",
   "execution_count": null,
   "metadata": {
    "collapsed": false
   },
   "outputs": [],
   "source": [
    "r8 = run_80Ltests8()"
   ]
  },
  {
   "cell_type": "code",
   "execution_count": null,
   "metadata": {
    "collapsed": true
   },
   "outputs": [],
   "source": []
  }
 ],
 "metadata": {
  "kernelspec": {
   "display_name": "Python 3",
   "language": "python",
   "name": "python3"
  },
  "language_info": {
   "codemirror_mode": {
    "name": "ipython",
    "version": 3
   },
   "file_extension": ".py",
   "mimetype": "text/x-python",
   "name": "python",
   "nbconvert_exporter": "python",
   "pygments_lexer": "ipython3",
   "version": "3.5.2"
  }
 },
 "nbformat": 4,
 "nbformat_minor": 1
}
