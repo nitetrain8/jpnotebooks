{
 "cells": [
  {
   "cell_type": "code",
   "execution_count": 1,
   "metadata": {
    "collapsed": true
   },
   "outputs": [],
   "source": [
    "from hello.hello3 import HelloApp, NotLoggedInError, BadError\n",
    "import time, datetime\n",
    "import requests"
   ]
  },
  {
   "cell_type": "code",
   "execution_count": 2,
   "metadata": {
    "collapsed": true
   },
   "outputs": [],
   "source": [
    "def wait1(s):\n",
    "    dend = (datetime.datetime.now() + datetime.timedelta(seconds=s)).strftime(\"%m/%d/%Y %I:%M:%S %p\")\n",
    "    tprint(\"Sleeping %d seconds, ending at %s\" %(s,dend))\n",
    "    start = time.time()\n",
    "    end = start + s\n",
    "    try:\n",
    "        while time.time() < end:\n",
    "            time.sleep(5)\n",
    "    except KeyboardInterrupt:\n",
    "        pass\n",
    "\n",
    "def wait2(s):\n",
    "    pass\n",
    "wait = wait1\n",
    "\n",
    "hours = 3600\n",
    "minutes = 60\n",
    "seconds = 1\n",
    "\n",
    "def now():\n",
    "    return datetime.datetime.now().strftime(\"%H:%M:%S\")\n",
    "    \n",
    "class H():\n",
    "    def __init__(self, ip):\n",
    "        self.ip = ip\n",
    "        self.h = HelloApp(ip)\n",
    "        \n",
    "    def call(self, f, *args, _message=True, **kw):\n",
    "        s = \"(\" + \", \".join(map(repr, args)) + \", \".join(\"%s=%r\" %(k,v) for k,v in kw.items()) + \")\"\n",
    "        m = \"%s %s: %s%s\" % (self.ip, now(), f.__name__, s)\n",
    "        if _message:\n",
    "            tprint(m)\n",
    "        while True:\n",
    "            try:\n",
    "                rv = f(*args, **kw)\n",
    "            except NotLoggedInError:\n",
    "                self.h.login()\n",
    "            except requests.exceptions.ConnectTimeout as e:\n",
    "                tprint(str(e))\n",
    "                tprint(\"Make sure you're on the right network!\")\n",
    "            except (BadError, IOError) as e:\n",
    "                tprint(str(e))\n",
    "            except Exception as e: \n",
    "                tprint(str(e))\n",
    "            else:\n",
    "                return rv\n",
    "\n",
    "    def startbatch(self, name):\n",
    "        if self.call(self.h.batchrunning):\n",
    "            self.call(self.h.endbatch)\n",
    "        return self.call(self.h.startbatch, name)\n",
    "\n",
    "    def setdo(self, mode, n2_or_sp, o2=None):\n",
    "        self.call(self.h.setdo, mode, n2_or_sp,o2)\n",
    "\n",
    "    def doman(self, n2, o2):\n",
    "        self.setdo(1, n2, o2)\n",
    "\n",
    "    def doauto(self, sp):\n",
    "        self.setdo(0, sp)\n",
    "\n",
    "    def dooff(self):\n",
    "        self.setdo(2, 0, 0)\n",
    "\n",
    "    def phoff(self):\n",
    "        self.setph(2, 0, 0)\n",
    "\n",
    "    def setph(self, mode, co2, base=None):\n",
    "        self.call(self.h.setph, mode, co2, base)\n",
    "\n",
    "    def phauto(self, sp):\n",
    "        self.setph(0, sp)\n",
    "\n",
    "    def endbatch(self):\n",
    "        self.call(self.h.endbatch)\n",
    "\n",
    "    def agauto(self, sp):\n",
    "        self.call(self.h.setag, 0, sp)\n",
    "\n",
    "    def setmg(self, sp):\n",
    "        self.call(self.h.setmg, 1, sp)\n",
    "        \n",
    "    def getphpv(self):\n",
    "        return self.call(self.h.gpmv, _message=False)['ph']['pv']\n"
   ]
  },
  {
   "cell_type": "markdown",
   "metadata": {},
   "source": [
    "# CO2 Ramp Up/Down + Base"
   ]
  },
  {
   "cell_type": "code",
   "execution_count": 3,
   "metadata": {},
   "outputs": [],
   "source": [
    "def test_co2_up(h):\n",
    "    h.startbatch(\"ip80 2.2\")\n",
    "    h.phauto(7.5)\n",
    "    \n",
    "    # ramp up to at least 7.45\n",
    "    while h.getphpv() < 7.45:\n",
    "        wait(1*minutes)\n",
    "    \n",
    "    # the procedure calls to wait for 3 hours for stability \"at set point\"\n",
    "    # before proceeding. In leu of more complex logic, just wait 6 hours instead\n",
    "    wait(6* hours)\n",
    "    \n",
    "    h.endbatch()\n",
    "    \n",
    "def test_co2_down(h):\n",
    "    h.startbatch(\"ip80 2.3\")\n",
    "    h.phauto(7.0)\n",
    "    \n",
    "    # ramp up to at least 7.45\n",
    "    while h.getphpv() > 7.05:\n",
    "        wait(1*minutes)\n",
    "    \n",
    "    # the procedure calls to wait for 3 hours for stability \"at set point\"\n",
    "    # before proceeding. In leu of more complex logic, just wait 6 hours instead\n",
    "    wait(6* hours)\n",
    "    \n",
    "    h.endbatch()\n",
    "    \n",
    "def test_base(h):\n",
    "    h.startbatch(\"ip80 2.5\")\n",
    "    h.doman(65, 0)\n",
    "    wait(5* hours)\n",
    "    h.endbatch()"
   ]
  },
  {
   "cell_type": "code",
   "execution_count": 4,
   "metadata": {
    "collapsed": true
   },
   "outputs": [],
   "source": [
    "import threading\n",
    "class HThread(threading.Thread):\n",
    "    def __init__(self, ip):\n",
    "        self.ip = ip\n",
    "        super().__init__(daemon=True)\n",
    "    def run(self):\n",
    "        tprint(\"%s %s: Connecting\"%(self.ip, now()))\n",
    "        h = H(self.ip)\n",
    "        #tprint(\"%s %s: Beginning CO2 Ramp Up\"%(self.ip, now()))\n",
    "        #test_co2_up(h)\n",
    "        #tprint(\"%s %s: Beginning CO2 Ramp Down\"%(self.ip, now()))\n",
    "        #test_co2_down(h)\n",
    "        tprint(\"%s %s: Beginning Base Test\"%(self.ip, now()))\n",
    "        test_base(h)\n",
    "        tprint(\"%s %s: Testing Completed\"%(self.ip, now()))"
   ]
  },
  {
   "cell_type": "code",
   "execution_count": 7,
   "metadata": {
    "collapsed": true
   },
   "outputs": [],
   "source": [
    "class TP():\n",
    "    def __init__(self):\n",
    "        self.threads = set()\n",
    "        self._started = False\n",
    "    def add(self, *args, **kw):\n",
    "        t = HThread(*args, **kw)\n",
    "        if self._started:\n",
    "            t.start()\n",
    "        self.threads.add(t)\n",
    "    def start(self):\n",
    "        for t in self.threads:\n",
    "            t.start()\n",
    "    def join(self):\n",
    "        active = self.threads.copy()\n",
    "        while True:\n",
    "            threads = active.copy()\n",
    "            for t in threads:\n",
    "                if not t.is_alive():\n",
    "                    active.remove(t)\n",
    "            if not active:\n",
    "                break\n",
    "            time.sleep(5*minutes)"
   ]
  },
  {
   "cell_type": "code",
   "execution_count": 8,
   "metadata": {
    "collapsed": true
   },
   "outputs": [],
   "source": [
    "import queue\n",
    "tq = queue.Queue()\n",
    "tsentinel = object()\n",
    "def tprint(*args, **kw):\n",
    "    tq.put((args, kw))\n",
    "    \n",
    "def twork():\n",
    "    while True:\n",
    "        args, kw = tq.get()\n",
    "        if args is tsentinel:\n",
    "            break\n",
    "        print(*args, **kw)"
   ]
  },
  {
   "cell_type": "code",
   "execution_count": 9,
   "metadata": {},
   "outputs": [
    {
     "name": "stdout",
     "output_type": "stream",
     "text": [
      "192.168.1.11 17:06:11: Connecting\n",
      "192.168.1.11 17:06:11: Beginning Base Test\n",
      "192.168.1.11 17:06:11: batchrunning()\n",
      "192.168.1.6 17:06:11: Connecting\n",
      "192.168.1.6 17:06:11: Beginning Base Test\n",
      "192.168.1.6 17:06:11: batchrunning()\n",
      "192.168.1.9 17:06:11: Connecting\n",
      "192.168.1.9 17:06:11: Beginning Base Test\n",
      "192.168.1.9 17:06:11: batchrunning()\n",
      "192.168.1.9 17:06:12: startbatch('ip80 2.4')\n",
      "192.168.1.6 17:06:12: startbatch('ip80 2.4')\n",
      "192.168.1.11 17:06:13: startbatch('ip80 2.4')\n",
      "192.168.1.9 17:06:13: setdo(1, 65, 0)\n",
      "192.168.1.6 17:06:13: setdo(1, 65, 0)\n",
      "192.168.1.11 17:06:13: setdo(1, 65, 0)\n",
      "Sleeping 18000 seconds, ending at 07/26/2018 10:06:17 PM\n",
      "Sleeping 18000 seconds, ending at 07/26/2018 10:06:17 PM\n",
      "Sleeping 18000 seconds, ending at 07/26/2018 10:06:17 PM\n",
      "192.168.1.6 22:06:18: endbatch()\n",
      "192.168.1.11 22:06:18: endbatch()\n",
      "192.168.1.9 22:06:19: endbatch()\n",
      "192.168.1.6 22:06:20: Testing Completed\n",
      "192.168.1.11 22:06:20: Testing Completed\n",
      "192.168.1.9 22:06:20: Testing Completed\n"
     ]
    }
   ],
   "source": [
    "tp = TP()\n",
    "for ip in (\"192.168.1.6\", \"192.168.1.9\", \"192.168.1.11\"):\n",
    "    tp.add(ip)\n",
    "tp.start()\n",
    "printer = threading.Thread(target=twork, daemon=True)\n",
    "printer.start()"
   ]
  },
  {
   "cell_type": "code",
   "execution_count": null,
   "metadata": {
    "collapsed": true
   },
   "outputs": [],
   "source": [
    "tq.put((tsentinel, None))"
   ]
  },
  {
   "cell_type": "code",
   "execution_count": 10,
   "metadata": {
    "collapsed": true
   },
   "outputs": [],
   "source": [
    "tp.join()"
   ]
  },
  {
   "cell_type": "markdown",
   "metadata": {},
   "source": [
    "### 3L Analysis"
   ]
  },
  {
   "cell_type": "code",
   "execution_count": 40,
   "metadata": {
    "collapsed": true
   },
   "outputs": [],
   "source": [
    "#h = H('192.168.1.6')\n",
    "basep='C:\\\\users\\\\natha\\\\documents\\\\test\\\\'\n",
    "\n",
    "def bt():\n",
    "    import datetime; return datetime.datetime.now().strftime(\"%y%m%d\")\n",
    "\n",
    "def dl(bn):\n",
    "    if isinstance(bn, str):\n",
    "        b = h.call(h.h.getdatareport_bybatchname, bn)\n",
    "    elif isinstance(bn, tuple):\n",
    "        name, d1, d2 = bn\n",
    "        b = h.call(h.h.getreport_bydate, 'process_data', d1, d2)\n",
    "        bn = name\n",
    "    fn = p+bn+\" \" + bt() + \".csv\"\n",
    "    with open(fn, 'wb') as f:\n",
    "        f.write(b)\n",
    "    return fn"
   ]
  },
  {
   "cell_type": "code",
   "execution_count": 60,
   "metadata": {},
   "outputs": [],
   "source": [
    "d1 = datetime.datetime(2018, 7, 26, 12+5, 7, 1) \n",
    "d2 = d1 + datetime.timedelta(hours = 12)\n",
    "args = ((\"IP80 2.5\"), d1, d2)\n",
    "ps = []\n",
    "for ip in (\"192.168.1.6\", \"192.168.1.9\", \"192.168.1.11\"):\n",
    "    h = H(ip)\n",
    "    p = basep + h.h.reactorname() + \"\\\\\"\n",
    "    os.makedirs(p, exist_ok=True)\n",
    "    for s in (\"IP80 2.2\", \"IP80 2.3\", args):\n",
    "        resp = tofilename(s) if isinstance(s, str) else tofilename(s[0])\n",
    "        ps.append(resp)\n",
    "        dl(s)\n",
    "        if not os.path.exists(resp):\n",
    "            raise ValueError(resp)"
   ]
  },
  {
   "cell_type": "code",
   "execution_count": null,
   "metadata": {
    "collapsed": true
   },
   "outputs": [],
   "source": []
  },
  {
   "cell_type": "code",
   "execution_count": 46,
   "metadata": {
    "collapsed": true
   },
   "outputs": [],
   "source": [
    "from officelib.xllib import *\n",
    "from officelib.const import xlconst as xlc\n",
    "\n",
    "\n",
    "def open_file(file):\n",
    "    global xl, wb, ws, cells, cr\n",
    "    try:\n",
    "        xl\n",
    "    except NameError:\n",
    "        xl = Excel()\n",
    "    wb = xl.Workbooks.Open(file)\n",
    "    ws = wb.Worksheets(1)\n",
    "    cells = ws.Cells\n",
    "    cr = cells.Range\n",
    "\n",
    "def elform(c, ref):\n",
    "    a1 = c.GetAddress(0,0)\n",
    "    a2 = ref.GetAddress(1,1)\n",
    "    a3 = ref.Offset(0,2).GetAddress(1,1)\n",
    "    form = \"=(%s-%s)*%s\"%(a1, a2, a3)\n",
    "    return form\n",
    "    \n",
    "def mk_elapsed(c, ref, ins=True):\n",
    "    \n",
    "    if ins:\n",
    "        c.Offset(1,2).EntireColumn.Insert()\n",
    "    top = c.Offset(1,2)\n",
    "    bot = c.End(xlc.xlDown).Offset(1,2)\n",
    "    top.Value = elform(c, ref)\n",
    "    r = cr(top, bot)\n",
    "    top.AutoFill(r)\n",
    "    r.NumberFormat = \"0.00\"\n",
    "    \n",
    "def chart_rng(c):\n",
    "    x1 = c.Offset(1,2)\n",
    "    x2 = x1.End(xlc.xlDown)\n",
    "    y1 = c.Offset(1,3)\n",
    "    y2 = y1.End(xlc.xlDown)\n",
    "    return cr(x1, x2), cr(y1, y2)\n",
    "\n",
    "def mkch(c,v):\n",
    "    chart = CreateChart(ws, xlc.xlXYScatterLinesNoMarkers)\n",
    "    mkser(chart, c,v)\n",
    "    \n",
    "def mkser(ch, c,v):\n",
    "    x, y = chart_rng(c)\n",
    "    CreateDataSeries(ch, x, y, v)\n",
    "    \n",
    "def fixaxes():\n",
    "    for co in ws.ChartObjects():\n",
    "        ax = co.Chart.Axes(xlCategory, xlPrimary)\n",
    "        ax.MinimumScale = 0\n",
    "        \n",
    "def analf(f, save=True):\n",
    "    open_file(f)\n",
    "    return analyze(f, save)"
   ]
  },
  {
   "cell_type": "code",
   "execution_count": 47,
   "metadata": {
    "collapsed": true
   },
   "outputs": [],
   "source": [
    "def analyze(fn, save=True):\n",
    "    c1 = cells.Find(\"pHPV\")\n",
    "    ref = c1 = c1.Offset(2,1)\n",
    "    mk_elapsed(c1, ref)\n",
    "    ref.Offset(0, 2).Value = \"24\"\n",
    "    mkch(c1,\"pHPV\")\n",
    "    ch2 = CreateChart(ws, xlc.xlXYScatterLinesNoMarkers)\n",
    "    mkser(ch2, c1, \"pHPV\")\n",
    "    \n",
    "    for v in \"pHCO2ActualRequest(%)\", \"pHBaseDutyActual(%)\":\n",
    "        c = cells.Find(v).Offset(2,1)\n",
    "        mk_elapsed(c, ref)\n",
    "        mkch(c,v)\n",
    "        mkser(ch2, c, v)\n",
    "    fixaxes()\n",
    "    if save:\n",
    "        wb.SaveAs(fn.replace('.csv','.xlsx'), FileFormat=xlc.xlOpenXMLWorkbook)\n",
    "    return wb"
   ]
  },
  {
   "cell_type": "code",
   "execution_count": 48,
   "metadata": {
    "collapsed": true
   },
   "outputs": [],
   "source": [
    "def tofilename(bn):\n",
    "    return p + bn + \" \" + bt() + \".csv\""
   ]
  },
  {
   "cell_type": "code",
   "execution_count": 73,
   "metadata": {
    "scrolled": true
   },
   "outputs": [
    {
     "name": "stdout",
     "output_type": "stream",
     "text": [
      "True\n",
      "True\n",
      "True\n",
      "True\n",
      "True\n",
      "True\n",
      "True\n",
      "True\n",
      "True\n"
     ]
    }
   ],
   "source": [
    "files = ps.copy()\n",
    "ps2 = []\n",
    "for file in files: \n",
    "    parts = file.split(\"\\\\\")\n",
    "    parts[-1] = parts[-2] +\" \" +parts[-1]\n",
    "    file2 = \"\\\\\".join(parts)\n",
    "    os.rename(file, file2)\n",
    "    ps2.append(file2)"
   ]
  },
  {
   "cell_type": "code",
   "execution_count": 74,
   "metadata": {},
   "outputs": [],
   "source": [
    "import os\n",
    "xl = Excel()\n",
    "files = ps\n",
    "with screen_lock(xl):\n",
    "    xl.DisplayAlerts = False\n",
    "    for file in ps2:\n",
    "        analf(os.path.abspath(file))\n",
    "# "
   ]
  },
  {
   "cell_type": "code",
   "execution_count": 75,
   "metadata": {
    "collapsed": true
   },
   "outputs": [],
   "source": [
    "wbs = list(xl.Workbooks)"
   ]
  },
  {
   "cell_type": "code",
   "execution_count": 76,
   "metadata": {
    "collapsed": true
   },
   "outputs": [],
   "source": [
    "for wb in wbs:\n",
    "    wb.Worksheets(1).ChartObjects(2).Chart.SeriesCollection(2).AxisGroup = xlc.xlSecondary\n",
    "    wb.Worksheets(1).ChartObjects(2).Chart.SeriesCollection(3).AxisGroup = xlc.xlSecondary"
   ]
  },
  {
   "cell_type": "code",
   "execution_count": 85,
   "metadata": {},
   "outputs": [],
   "source": [
    "for wb in wbs:\n",
    "    ch = wb.Worksheets(1).ChartObjects(2).Chart\n",
    "    ch.SeriesCollection(2).Name = \"CO\\u2082 Flow\"\n",
    "    ch.SeriesCollection(3).Name = \"Base Flow\""
   ]
  },
  {
   "cell_type": "code",
   "execution_count": 89,
   "metadata": {},
   "outputs": [],
   "source": [
    "for wb in wbs:\n",
    "    for co in wb.Worksheets(1).ChartObjects():\n",
    "        ch = co.Chart\n",
    "        ch.Axes(xlValue).HasMajorGridlines=True"
   ]
  },
  {
   "cell_type": "code",
   "execution_count": 103,
   "metadata": {},
   "outputs": [],
   "source": [
    "with screen_lock(xl):\n",
    "    for i, wb in enumerate(wbs):\n",
    "        ws = wb.Worksheets(1)\n",
    "        ws.ChartObjects(1).Chart.HasLegend = False\n",
    "        ws.ChartObjects(2).Chart.HasLegend = True\n",
    "        name = wb.Name.split(\"IP80\")[0]\n",
    "        if i % 3 == 0:\n",
    "            name += \" 7.0 to 7.5 CO\\u2082 Only\"\n",
    "        elif i % 3 == 1:\n",
    "            name += \" 7.5 to 7.0 CO\\u2082 Only\"\n",
    "        else:\n",
    "            name += \" Base Stability 50% CO\\u2082\"\n",
    "        FormatChart(ws.ChartObjects(1).Chart, None, name, \"Time(hr)\", \"pHPV\")\n",
    "        FormatChart(ws.ChartObjects(2).Chart, None, name, \"Time(hr)\", \"pHPV\")\n",
    "        ax = ws.ChartObjects(2).Chart.Axes(xlc.xlValue, xlc.xlSecondary)\n",
    "        ax.HasTitle = True\n",
    "        ax.AxisTitle.Text = \"Controller Request(%)\""
   ]
  },
  {
   "cell_type": "code",
   "execution_count": 104,
   "metadata": {
    "collapsed": true
   },
   "outputs": [],
   "source": [
    "with screen_lock(xl):\n",
    "    for wb in wbs:\n",
    "        for co in list(wb.Worksheets(1).ChartObjects())[:2]:\n",
    "            co.Chart.Location(xlc.xlLocationAsNewSheet)"
   ]
  },
  {
   "cell_type": "code",
   "execution_count": 117,
   "metadata": {},
   "outputs": [],
   "source": [
    "with screen_lock(xl):\n",
    "    for i, wb in enumerate(wbs):\n",
    "        if i < 3:\n",
    "            unit = \"Unit A\"\n",
    "        elif i < 6:\n",
    "            unit = \"Unit C\"\n",
    "        else:\n",
    "            unit = \"Unit B\"\n",
    "        m = i % 3\n",
    "        if m == 0:\n",
    "            name = \" 7.0 to 7.5 CO\\u2082 Only\"\n",
    "        elif m == 1:\n",
    "            name = \" 7.5 to 7.0 CO\\u2082 Only\"\n",
    "        else:\n",
    "            name = \" Base Stability 50% CO\\u2082\"\n",
    "        ch = wb.Charts(\"Chart2\")\n",
    "        #print(ch.ChartTitle.Text)\n",
    "        ch.ChartTitle.Text = unit + name"
   ]
  },
  {
   "cell_type": "code",
   "execution_count": 125,
   "metadata": {},
   "outputs": [],
   "source": [
    "for wb in wbs:\n",
    "    wb.Charts(\"Chart2\").PrintOut()"
   ]
  },
  {
   "cell_type": "code",
   "execution_count": 29,
   "metadata": {
    "collapsed": true
   },
   "outputs": [],
   "source": [
    "def phxtime(idx, a, b):\n",
    "    wb = wbs[idx]\n",
    "    for co in wb.Worksheets(1).ChartObjects():\n",
    "        ch = co.Chart\n",
    "        FormatAxesScale(ch, a, b)\n",
    "        \n",
    "def phytime(idx, a, b):\n",
    "    wb = wbs[idx]\n",
    "    for co in wb.Worksheets(1).ChartObjects():\n",
    "        ch = co.Chart\n",
    "        FormatAxesScale(ch, None, None, a, b)\n",
    "        \n",
    "def phctype(idx, typ):\n",
    "    wb = wbs[idx]\n",
    "    wb.Worksheets(1).ChartObjects(1).Chart.ChartType = typ"
   ]
  },
  {
   "cell_type": "code",
   "execution_count": 80,
   "metadata": {},
   "outputs": [],
   "source": [
    "for i in range(2, 9, 3):\n",
    "    phytime(i, 6.94, 7.06)"
   ]
  },
  {
   "cell_type": "code",
   "execution_count": null,
   "metadata": {
    "collapsed": true
   },
   "outputs": [],
   "source": [
    "phytime(0, 7.45, 7.55)\n",
    "ph"
   ]
  },
  {
   "cell_type": "code",
   "execution_count": null,
   "metadata": {
    "collapsed": true
   },
   "outputs": [],
   "source": [
    "phxtime(0, 2, 6)\n",
    "phxtime(2, 2, 6)"
   ]
  },
  {
   "cell_type": "code",
   "execution_count": null,
   "metadata": {
    "collapsed": true
   },
   "outputs": [],
   "source": [
    "phxtime(2, 10, 14)"
   ]
  },
  {
   "cell_type": "code",
   "execution_count": null,
   "metadata": {
    "collapsed": true
   },
   "outputs": [],
   "source": [
    "phctype(0, xlc.xlXYScatterLines)\n",
    "phctype(2, xlc.xlXYScatterLines)"
   ]
  },
  {
   "cell_type": "code",
   "execution_count": null,
   "metadata": {
    "collapsed": true
   },
   "outputs": [],
   "source": [
    "phxtime(1, 2,6)\n",
    "phxtime(3, 10, 14)"
   ]
  },
  {
   "cell_type": "code",
   "execution_count": null,
   "metadata": {
    "collapsed": true
   },
   "outputs": [],
   "source": [
    "def bgetc(idx):\n",
    "    return xl.Workbooks(\"IE21 CO2 Test 180607.xlsx\").Worksheets(1).ChartObjects(idx).Chart\n",
    "\n",
    "def bxfix(idx, a, b):\n",
    "    ch = bgetc(idx)\n",
    "    FormatAxesScale(ch, a, b)\n",
    "    \n",
    "def byfix(idx, a, b):\n",
    "    ch = bgetc(idx)\n",
    "    FormatAxesScale(ch, None, None, a, b)"
   ]
  },
  {
   "cell_type": "code",
   "execution_count": null,
   "metadata": {
    "collapsed": true
   },
   "outputs": [],
   "source": [
    "for co in xl.Workbooks(5).Worksheets(1).ChartObjects():\n",
    "    ch = co.Chart\n",
    "    FormatAxesScale(ch, 0, 6)"
   ]
  }
 ],
 "metadata": {
  "kernelspec": {
   "display_name": "Python 3",
   "language": "python",
   "name": "python3"
  },
  "language_info": {
   "codemirror_mode": {
    "name": "ipython",
    "version": 3
   },
   "file_extension": ".py",
   "mimetype": "text/x-python",
   "name": "python",
   "nbconvert_exporter": "python",
   "pygments_lexer": "ipython3",
   "version": "3.5.0"
  }
 },
 "nbformat": 4,
 "nbformat_minor": 1
}
