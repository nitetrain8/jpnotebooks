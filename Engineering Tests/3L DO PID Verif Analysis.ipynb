{
 "cells": [
  {
   "cell_type": "markdown",
   "metadata": {},
   "source": [
    "### Some analysis"
   ]
  },
  {
   "cell_type": "code",
   "execution_count": 1,
   "metadata": {
    "collapsed": true
   },
   "outputs": [],
   "source": [
    "from officelib.xllib import *\n",
    "from officelib.const import xlconst as xlc\n",
    "import os\n",
    "import re"
   ]
  },
  {
   "cell_type": "code",
   "execution_count": 2,
   "metadata": {
    "collapsed": true
   },
   "outputs": [],
   "source": [
    "keys = {\n",
    "    'temperature.pv',\n",
    "    'agitation.pv',\n",
    "    'ph.outputDown',\n",
    "    'ph.manDown',\n",
    "    'do.manUp',\n",
    "    'do.outputDown',\n",
    "    'do.pv',\n",
    "    'do.manDown',\n",
    "    'do.outputUp',\n",
    "    'maingas.man',\n",
    "    'maingas.mode',\n",
    "    'maingas.pv',\n",
    "    'MFCs.air',\n",
    "    'MFCs.n2',\n",
    "    'MFCs.o2',\n",
    "    'MFCs.co2',\n",
    "    'level.pv',\n",
    "    'Elapsed',\n",
    "    'Elapsed.hr',\n",
    "    'Time'\n",
    "}\n",
    "def hide_columns(ws):\n",
    "    for col in ws.UsedRange.Columns:\n",
    "        c = col.Cells(1,1)\n",
    "        if c.Value not in keys:\n",
    "            col.Hidden=True"
   ]
  },
  {
   "cell_type": "code",
   "execution_count": 3,
   "metadata": {
    "collapsed": true
   },
   "outputs": [],
   "source": [
    "def data_range(ws, name, begin_offset=0):\n",
    "    c1 = ws.Cells.Find(name)\n",
    "    if c1 is None: raise ValueError(name)\n",
    "    c1 = c1.Offset(2+begin_offset,1)\n",
    "    c2 = c1.End(xlc.xlDown)\n",
    "    return c1, c2\n",
    "\n",
    "class SeriesProxy():\n",
    "    def __init__(self, ws, name, xname=\"Elapsed\", yax=1, begin_offset=0):\n",
    "        self.ws = ws\n",
    "        self.name = name\n",
    "        self.yax = yax\n",
    "        self.s = None\n",
    "        self.xname = xname\n",
    "        self.begin_offset=begin_offset\n",
    "        \n",
    "    def create(self, chart):\n",
    "        e1, e2 = data_range(self.ws, self.xname, self.begin_offset)\n",
    "        c1, c2 = data_range(self.ws, self.name, self.begin_offset)\n",
    "        cr = self.ws.Cells.Range\n",
    "        self.xr = cr(e1, e2)\n",
    "        self.yr = cr(c1, c2)\n",
    "        self.s = CreateDataSeries(chart, self.xr, self.yr, self.name)\n",
    "        \n",
    "    def set_name(self, n):\n",
    "        self.s.Name = n \n",
    "        \n",
    "class ChartProxy():\n",
    "    def __init__(self, ws, chart=None, *args):\n",
    "        self.ws = ws\n",
    "        self.chart = chart or CreateChart(ws, *args)\n",
    "        self.chart.ChartStyle = 240  # Excel 2017 style\n",
    "        self.series = []\n",
    "        \n",
    "    def make_series(self, series):\n",
    "        for s in series:\n",
    "            s.create(self.chart)\n",
    "            self.series.append(s)\n",
    "            \n",
    "    def _axlabel(self, ax, t):\n",
    "        ax.HasTitle=True\n",
    "        ax.AxisTitle.Text=t\n",
    "    \n",
    "    def xlabel(self, t):\n",
    "        xax = self.chart.Axes(xlc.xlCategory, xlc.xlPrimary)\n",
    "        self._axlabel(xax, t)\n",
    "        \n",
    "    def ylabel(self, t):\n",
    "        yax = self.chart.Axes(xlc.xlValue, xlc.xlPrimary)\n",
    "        self._axlabel(yax, t)\n",
    "        \n",
    "    def ylabel2(self, t):\n",
    "        yax = self.chart.Axes(xlc.xlValue, xlc.xlSecondary)\n",
    "        self._axlabel(yax, t)\n",
    "        \n",
    "    def title(self, t):\n",
    "        self.chart.HasTitle = True\n",
    "        self.chart.ChartTitle.Text = t\n",
    "        \n",
    "    def copyto(self, r):\n",
    "        # chart parent -> ChartObject\n",
    "        self.chart.Parent.Copy()\n",
    "        r.Paste()\n",
    "         \n",
    "def _listify(args):\n",
    "    l = []\n",
    "    if isinstance(args, str):\n",
    "        return [args]\n",
    "    for a in args:\n",
    "        if isinstance(a, (list,tuple)):\n",
    "            l.extend(_listify(a))\n",
    "        else:\n",
    "            l.append(a)\n",
    "    return l\n",
    "    \n",
    "def make_chart(names, title=None, xlabel=None, ylabel=None, xname=\"Elapsed\", *, uws=None, begin_offset=0):\n",
    "    uws = uws or ws\n",
    "    c = ChartProxy(uws)\n",
    "        \n",
    "    names = _listify(names)\n",
    "    c.make_series(SeriesProxy(uws,n, xname, 1, begin_offset) for n in names)\n",
    "    \n",
    "    # optional setup\n",
    "    if title: c.title(title)\n",
    "    if xlabel: c.xlabel(xlabel)\n",
    "    if ylabel: c.ylabel(ylabel)\n",
    "    \n",
    "    return c"
   ]
  },
  {
   "cell_type": "markdown",
   "metadata": {},
   "source": [
    "### Example code for now to use functions"
   ]
  },
  {
   "cell_type": "code",
   "execution_count": 4,
   "metadata": {
    "collapsed": true
   },
   "outputs": [],
   "source": [
    "# # MFCs\n",
    "# mfcc = [\n",
    "#     \"MFCs.Air\",\n",
    "#     \"MFCs.O2\",\n",
    "#     \"MFCs.N2\",\n",
    "#     \"MFCs.CO2\"\n",
    "# ]\n",
    "# make_chart(mfcc, \"MFC Flow\", \"Time(s)\", \"Flow Rate (LPM)\")\n",
    "# make_chart(\"do.pv\", \"DO PV\", \"Time(s)\", \"DO PV (%)\")"
   ]
  },
  {
   "cell_type": "markdown",
   "metadata": {},
   "source": [
    "#### Some analysis"
   ]
  },
  {
   "cell_type": "code",
   "execution_count": 36,
   "metadata": {
    "collapsed": true,
    "scrolled": true
   },
   "outputs": [],
   "source": [
    "def column_data(name):\n",
    "    c1 = ws.Cells.Find(name)\n",
    "    c2 = c1.End(xlc.xlDown)\n",
    "    data = ws.Cells.Range(c1.Offset(2,1),c2).Value\n",
    "    return [d[0] for d in data]\n",
    "    \n",
    "def add_af1(name, new, form):\n",
    "    e1 = ws.Cells.Find(name)\n",
    "    e1.Offset(1,2).EntireColumn.Insert()\n",
    "    e1.Offset(1,2).Value = new\n",
    "    \n",
    "    c1 = e1.Offset(2,2)\n",
    "    c2 = e1.End(xlc.xlDown).Offset(1,2)\n",
    "    c1.Value = form % e1.Offset(2,1).GetAddress(0,0)\n",
    "    afr = ws.Cells.Range(c1, c2)\n",
    "    c1.AutoFill(afr)\n",
    "    return c1, c2\n",
    "    \n",
    "\n",
    "def nch(ws, n):\n",
    "    c = CreateChart(ws)\n",
    "    c.Location(xlc.xlLocationAsNewSheet, n)\n",
    "    return ws.Parent.Charts(n)\n",
    "\n",
    "def gfp(f): return os.path.abspath(f)\n",
    "\n",
    "\n",
    "def sorteddir():\n",
    "    return sorted((f for f in os.listdir() if os.path.isfile(f)))\n",
    "\n",
    "def trendclr(c):\n",
    "    ns = c.SeriesCollection().Count\n",
    "    l = c.Legend.LegendEntries\n",
    "    for i in range(2*ns, ns, -1):\n",
    "        l(i).Delete()\n",
    "        \n",
    "def mktrend(c):\n",
    "    AddTrendlines(c)\n",
    "    trendclr(c)\n",
    "    \n",
    "    \n",
    "def anylf(wb,ws,name):\n",
    "    e1, e2 = add_af1(\"Elapsed\", \"Elapsed.hr\", \"=%s/3600\")\n",
    "    ws.Cells.Range(e1, e2).NumberFormat = \"0.000\"\n",
    "\n",
    "    c1 = make_chart(\"do.pv\", name, \"Time(hr)\", \n",
    "                   \"DO PV (%)\", \"Elapsed.hr\", uws=ws)\n",
    "    # MFCs\n",
    "    mfcc = [\n",
    "        \"MFCs.Air\",\n",
    "        \"MFCs.O2\",\n",
    "        \"MFCs.N2\",\n",
    "        \"MFCs.CO2\"\n",
    "    ]\n",
    "    c2 = make_chart(mfcc, \"MFC Flow\", \"Time(s)\", \"Flow Rate (LPM)\")\n",
    "    \n",
    "    return c1, c2\n",
    "    \n",
    "def analyze(files):\n",
    "    # globals make debugging easy\n",
    "    global wb, ws, nwb, ws1, ws2\n",
    "    xl.DisplayAlerts=False\n",
    "    \n",
    "    nwb = xl.Workbooks.Add()\n",
    "    ws1 = nwb.Worksheets(1)\n",
    "    ws2 = nwb.Worksheets.Add()  # new workbook only comes with 1 ....\n",
    "    n1 = n2 = 0\n",
    "    \n",
    "    for f in files:\n",
    "        print(\"Analyzing\", f)\n",
    "        _, ppii, st_sp, ctrls, idn = f.split()\n",
    "        idn = idn.split(\".\")[0].split(\"_\")[1]\n",
    "        start, _, sp = st_sp.split(\"_\")\n",
    "        ag, mg, temp = ctrls.split(\"_\")\n",
    "        \n",
    "        \n",
    "        wb = xl.Workbooks.Open(gfp(f))\n",
    "        ws = wb.Worksheets(1)\n",
    "        \n",
    "        name = \"%s to %s %s LPM\" % (start, sp, mg)\n",
    "        c1, c2 = anylf(wb,ws,name)\n",
    "        \n",
    "        if mg == \"0.1\":\n",
    "            c1.copyto(ws1)\n",
    "            nc1 = ws1.ChartObjects(n1*2+1)\n",
    "            nc1.Left = 12\n",
    "            nc1.Height = 300\n",
    "            nc1.Width = 510\n",
    "            nc1.Top  = 10 + 310 * n1\n",
    "            \n",
    "            c2.copyto(ws1)\n",
    "            nc2 = ws1.ChartObjects(n1*2+2)\n",
    "            nc2.Left = 550\n",
    "            nc2.Height = 300\n",
    "            nc2.Width = 510\n",
    "            nc2.Top = 10 + 310 * n1\n",
    "            \n",
    "            n1 += 1\n",
    "        else:\n",
    "            c1.copyto(ws2)\n",
    "            nc1 = ws2.ChartObjects(n2*2+1)\n",
    "            nc1.Left = 12\n",
    "            nc1.Height = 300\n",
    "            nc1.Width = 510\n",
    "            nc1.Top  = 10 + 310 * n2\n",
    "            \n",
    "            c2.copyto(ws2)\n",
    "            nc2 = ws2.ChartObjects(n2*2+2)\n",
    "            nc2.Left = 550\n",
    "            nc2.Height = 300\n",
    "            nc2.Width = 510\n",
    "            nc2.Top = 10 + 310 * n2\n",
    "            \n",
    "            n2 += 1\n",
    "            \n",
    "        wb.SaveAs(gfp(\".\\\\analyzed\\\\\"+f.replace(\".csv\", \".xlsx\")), FileFormat=xlc.xlOpenXMLWorkbook)\n",
    "        wb.Close(True)\n",
    "        \n",
    "    print(\"Finished analysis!\")"
   ]
  },
  {
   "cell_type": "code",
   "execution_count": 37,
   "metadata": {},
   "outputs": [
    {
     "name": "stdout",
     "output_type": "stream",
     "text": [
      "Analyzing 3L_do_pid 4_-20_55_40 100_to_150 32_0.1_37 id_21.1.csv\n",
      "Analyzing 3L_do_pid 4_-20_55_40 100_to_150 32_0.5_37 id_22.1.csv\n",
      "Analyzing 3L_do_pid 4_-20_55_40 100_to_50 32_0.1_37 id_21.3.csv\n",
      "Analyzing 3L_do_pid 4_-20_55_40 100_to_50 32_0.5_37 id_22.3.csv\n",
      "Analyzing 3L_do_pid 4_-20_55_40 150_to_100 32_0.1_37 id_21.2.csv\n",
      "Analyzing 3L_do_pid 4_-20_55_40 150_to_100 32_0.5_37 id_22.2.csv\n",
      "Finished analysis!\n"
     ]
    }
   ],
   "source": [
    "fp = 'C:\\\\Users\\\\natha\\\\Documents\\\\test\\\\do_3L_verif_ms_diptube 170920'\n",
    "xl = Excel()\n",
    "os.chdir(fp)\n",
    "os.makedirs(\"analyzed\", exist_ok=True)\n",
    "files = sorteddir()\n",
    "with screen_lock(xl):\n",
    "    for wb in xl.Workbooks: wb.Close(False)\n",
    "    analyze(files)"
   ]
  },
  {
   "cell_type": "code",
   "execution_count": 33,
   "metadata": {},
   "outputs": [
    {
     "data": {
      "text/plain": [
       "(7.0, 506.3333070866142, 298.8, 11.399921417236328)"
      ]
     },
     "execution_count": 33,
     "metadata": {},
     "output_type": "execute_result"
    }
   ],
   "source": [
    "s = xl.Selection\n",
    "s.Top, s.Width, s.Height, s.Left"
   ]
  },
  {
   "cell_type": "code",
   "execution_count": null,
   "metadata": {
    "collapsed": true
   },
   "outputs": [],
   "source": []
  }
 ],
 "metadata": {
  "kernelspec": {
   "display_name": "Python 3",
   "language": "python",
   "name": "python3"
  },
  "language_info": {
   "codemirror_mode": {
    "name": "ipython",
    "version": 3
   },
   "file_extension": ".py",
   "mimetype": "text/x-python",
   "name": "python",
   "nbconvert_exporter": "python",
   "pygments_lexer": "ipython3",
   "version": "3.5.0"
  }
 },
 "nbformat": 4,
 "nbformat_minor": 2
}
