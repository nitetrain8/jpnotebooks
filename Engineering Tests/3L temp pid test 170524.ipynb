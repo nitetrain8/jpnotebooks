{
 "cells": [
  {
   "cell_type": "code",
   "execution_count": 1,
   "metadata": {
    "collapsed": true
   },
   "outputs": [],
   "source": [
    "from hello.hello3 import HelloApp, NotLoggedInError, BadError\n",
    "import time, datetime\n",
    "import requests"
   ]
  },
  {
   "cell_type": "code",
   "execution_count": 2,
   "metadata": {
    "collapsed": true
   },
   "outputs": [],
   "source": [
    "def wait1(s):\n",
    "    dend = (datetime.datetime.now() + datetime.timedelta(seconds=s)).strftime(\"%m/%d/%Y %I:%M:%S %p\")\n",
    "    print(\"Sleeping %d seconds, ending at %s\" %(s,dend))\n",
    "    start = time.time()\n",
    "    end = start + s\n",
    "    try:\n",
    "        while time.time() < end:\n",
    "            time.sleep(5)\n",
    "    except KeyboardInterrupt:\n",
    "        pass\n",
    "    \n",
    "def wait2(s):\n",
    "    pass\n",
    "wait = wait1\n",
    "\n",
    "def call(f, *args):\n",
    "    s = \"(\" + \", \".join(map(repr, args)) + \")\"\n",
    "    print(\"Calling %s%s\" % (f.__name__, s))\n",
    "    while True:\n",
    "        try:\n",
    "            rv = f(*args)\n",
    "        except NotLoggedInError:\n",
    "            h.login()\n",
    "        except requests.exceptions.ConnectTimeout as e:\n",
    "            print(str(e))\n",
    "            print(\"Make sure you're on the right network!\")\n",
    "        except (BadError, IOError) as e:\n",
    "            print(str(e))\n",
    "        else:\n",
    "            return rv"
   ]
  },
  {
   "cell_type": "markdown",
   "metadata": {},
   "source": [
    "### Global functions and routines"
   ]
  },
  {
   "cell_type": "code",
   "execution_count": 3,
   "metadata": {
    "collapsed": true
   },
   "outputs": [],
   "source": [
    "def startbatch(name):\n",
    "    if call(h.batchrunning):\n",
    "        call(h.endbatch)\n",
    "    return call(h.startbatch, name)\n",
    "\n",
    "def settemp(sp):\n",
    "    if sp == 0:\n",
    "        call(h.settemp, 2, 37)\n",
    "    else:\n",
    "        call(h.settemp, 0, sp)\n",
    "        \n",
    "def endbatch():\n",
    "    call(h.endbatch)\n",
    "    \n",
    "def pid1():\n",
    "    call(h.setconfig, \"Temperature\", \"P_Gain_(%/C)\", 12)\n",
    "    call(h.setconfig, \"Temperature\", 'I_Time_(min)', 29)\n",
    "    \n",
    "def pid2():\n",
    "    call(h.setconfig, \"Temperature\", \"P_Gain_(%/C)\", 13)\n",
    "    call(h.setconfig, \"Temperature\", 'I_Time_(min)', 26)\n",
    "    \n",
    "def pid3():\n",
    "    call(h.setconfig, \"Temperature\", \"P_Gain_(%/C)\", 14)\n",
    "    call(h.setconfig, \"Temperature\", 'I_Time_(min)', 26)"
   ]
  },
  {
   "cell_type": "code",
   "execution_count": 4,
   "metadata": {
    "collapsed": false
   },
   "outputs": [],
   "source": [
    "_bni = 1\n",
    "def nb(pref, i=1, n=1):\n",
    "    bl = call(h.getBatches)\n",
    "    b = bl.names_to_batches\n",
    "    s = \"%s %d.%d\" % (pref, i, n)\n",
    "    while s in b:\n",
    "        n += 1\n",
    "        s = \"%s %d.%d\" % (pref, i, n)\n",
    "    startbatch(s)\n",
    "\n",
    "def tempoff():\n",
    "    settemp(0)\n",
    "    \n",
    "def setbn(i):\n",
    "    global _bni\n",
    "    _bni = i\n",
    "\n",
    "def o2a():\n",
    "    nb(\"tpid\", _bni)\n",
    "    settemp(37)\n",
    "    wait(3*hours)\n",
    "    endbatch()\n",
    "    \n",
    "def cool(hrs=8):\n",
    "    tempoff()\n",
    "    wait(hrs*hours)\n",
    "    \n",
    "def a2a(end):\n",
    "    nb(\"tpid\", _bni)\n",
    "    settemp(end)\n",
    "    wait(3*hours)\n",
    "    endbatch()\n",
    "\n",
    "def verify(pid):\n",
    "    print(\"Verifying settings\")\n",
    "    pid()\n",
    "    o2a()\n",
    "    a2a(35)\n",
    "    a2a(37)\n",
    "    \n",
    "def pid4():\n",
    "    call(h.setconfig, \"Temperature\", \"P_Gain_(%/C)\", 13)\n",
    "    call(h.setconfig, \"Temperature\", 'I_Time_(min)', 28) "
   ]
  },
  {
   "cell_type": "markdown",
   "metadata": {
    "collapsed": true
   },
   "source": [
    "## Round 4 5/24/17\n",
    "Temp looked a bit unstable in real life in the bio lab. According to simulation, a much higher gain value doens't actually hurt performance, so trying the test out again. "
   ]
  },
  {
   "cell_type": "code",
   "execution_count": 5,
   "metadata": {
    "collapsed": true
   },
   "outputs": [],
   "source": [
    "def pid5():\n",
    "    call(h.setconfig, \"Temperature\", \"P_Gain_(%/C)\", 50)\n",
    "    call(h.setconfig, \"Temperature\", 'I_Time_(min)', 26) \n",
    "hours = 3600"
   ]
  },
  {
   "cell_type": "code",
   "execution_count": 11,
   "metadata": {
    "collapsed": false
   },
   "outputs": [
    {
     "name": "stdout",
     "output_type": "stream",
     "text": [
      "Calling settemp(2, 37)\n",
      "Sleeping 36000 seconds, ending at 05/25/2017 03:16:34 AM\n",
      "Verifying settings\n",
      "Calling setconfig('Temperature', 'P_Gain_(%/C)', 50)\n",
      "Calling setconfig('Temperature', 'I_Time_(min)', 26)\n",
      "Calling getBatches()\n",
      "Calling batchrunning()\n",
      "Calling startbatch('tpid 1.1')\n",
      "Calling settemp(0, 37)\n",
      "Sleeping 10800 seconds, ending at 05/25/2017 06:16:40 AM\n",
      "Calling endbatch()\n",
      "Calling getBatches()\n",
      "Calling batchrunning()\n",
      "Calling startbatch('tpid 1.2')\n",
      "Calling settemp(0, 35)\n",
      "Sleeping 10800 seconds, ending at 05/25/2017 09:16:43 AM\n",
      "Calling endbatch()\n",
      "Calling getBatches()\n",
      "Calling batchrunning()\n",
      "Calling startbatch('tpid 1.3')\n",
      "Calling settemp(0, 37)\n",
      "Sleeping 10800 seconds, ending at 05/25/2017 12:16:46 PM\n",
      "Calling endbatch()\n",
      "Calling settemp(2, 37)\n"
     ]
    }
   ],
   "source": [
    "h = HelloApp('71.189.82.196:81')\n",
    "wait = wait1\n",
    "cool(10)\n",
    "setbn(1)\n",
    "verify(pid5)\n",
    "tempoff()"
   ]
  },
  {
   "cell_type": "code",
   "execution_count": 16,
   "metadata": {
    "collapsed": true
   },
   "outputs": [],
   "source": [
    "h = HelloApp('71.189.82.196:81')\n",
    "p='C:\\\\PBSCloudStation\\\\(2) R&D-Product Engineering\\\\Software Development\\\\3.0 Project\\\\Phase 2 Working Copy\\\\PID Tuning\\\\Temperature\\\\Raw Data\\\\'\n",
    "\n",
    "def bt():\n",
    "    import datetime; return datetime.datetime.now().strftime(\"%y%m%d\")\n",
    "\n",
    "def dl(bn):\n",
    "    if isinstance(bn, str):\n",
    "        b = call(h.getdatareport_bybatchname, bn)\n",
    "    elif isinstance(bn, tuple):\n",
    "        name, d1, d2 = bn\n",
    "        b = call(h.getreport_bydate, 'process_data', d1, d2)\n",
    "        bn = name\n",
    "    fn = p+bn+\"3L \" + bt() + \".csv\"\n",
    "    with open(fn, 'wb') as f:\n",
    "        f.write(b)\n",
    "    return fn"
   ]
  },
  {
   "cell_type": "code",
   "execution_count": 19,
   "metadata": {
    "collapsed": true
   },
   "outputs": [],
   "source": [
    "from officelib.xllib import *\n",
    "from officelib.const import xlconst as xlc\n",
    "\n",
    "\n",
    "def open_file(file):\n",
    "    global xl, wb, ws, cells, cr\n",
    "    try:\n",
    "        xl\n",
    "    except NameError:\n",
    "        xl = Excel()\n",
    "    wb = xl.Workbooks.Open(file)\n",
    "    ws = wb.Worksheets(1)\n",
    "    cells = ws.Cells\n",
    "    cr = cells.Range\n",
    "\n",
    "def elform(c, ref):\n",
    "    a1 = c.GetAddress(0,0)\n",
    "    a2 = ref.GetAddress(1,1)\n",
    "    a3 = ref.Offset(0,2).GetAddress(1,1)\n",
    "    form = \"=(%s-%s)*%s\"%(a1, a2, a3)\n",
    "    return form\n",
    "    \n",
    "def mk_elapsed(c, ref, ins=True):\n",
    "    \n",
    "    if ins:\n",
    "        c.Offset(1,2).EntireColumn.Insert()\n",
    "    top = c.Offset(1,2)\n",
    "    bot = c.End(xlc.xlDown).Offset(1,2)\n",
    "    top.Value = elform(c, ref)\n",
    "    r = cr(top, bot)\n",
    "    top.AutoFill(r)\n",
    "    r.NumberFormat = \"0.00\"\n",
    "    \n",
    "def chart_rng(c):\n",
    "    x1 = c.Offset(1,2)\n",
    "    x2 = x1.End(xlc.xlDown)\n",
    "    y1 = c.Offset(1,3)\n",
    "    y2 = y1.End(xlc.xlDown)\n",
    "    return cr(x1, x2), cr(y1, y2)\n",
    "\n",
    "def mkch(c,v):\n",
    "    chart = CreateChart(ws, xlc.xlXYScatterLinesNoMarkers)\n",
    "    mkser(chart, c,v)\n",
    "    \n",
    "def mkser(ch, c,v):\n",
    "    x, y = chart_rng(c)\n",
    "    CreateDataSeries(ch, x, y, v)\n",
    "    \n",
    "def fixaxes():\n",
    "    for co in ws.ChartObjects():\n",
    "        ax = co.Chart.Axes(xlCategory, xlPrimary)\n",
    "        ax.MinimumScale = 0\n",
    "    \n",
    "def analyze(fn):\n",
    "    c1 = cells.Find(\"TempPV(C)\")\n",
    "    ref = c1 = c1.Offset(2,1)\n",
    "    mk_elapsed(c1, ref)\n",
    "    ref.Offset(0, 2).Value = \"1440\"\n",
    "    mkch(c1,\"TempPV(C)\")\n",
    "    ch2 = CreateChart(ws, xlc.xlXYScatterLinesNoMarkers)\n",
    "    \n",
    "#     for v in \"TempHeatDutyActual(%)\",:\n",
    "#         c = cells.Find(v).Offset(2,1)\n",
    "#         mk_elapsed(c, ref)\n",
    "#         mkch(c,v)\n",
    "#         mkser(ch2, c, v)\n",
    "    fixaxes()\n",
    "    wb.SaveAs(fn.replace('.csv','.xlsx'), FileFormat=xlc.xlOpenXMLWorkbook)\n",
    "        \n",
    "def analf(f):\n",
    "    open_file(f)\n",
    "    analyze(f)"
   ]
  },
  {
   "cell_type": "code",
   "execution_count": 21,
   "metadata": {
    "collapsed": false
   },
   "outputs": [
    {
     "name": "stdout",
     "output_type": "stream",
     "text": [
      "Calling getdatareport_bybatchname('tpid 1.1')\n",
      "Calling getdatareport_bybatchname('tpid 1.2')\n",
      "Calling getdatareport_bybatchname('tpid 1.3')\n"
     ]
    }
   ],
   "source": [
    "bl = ['tpid 1.%d' % i for i in (1,2,3)]\n",
    "files = []\n",
    "for b in bl:\n",
    "    fn = dl(b)\n",
    "    files.append(fn)\n",
    "xl = Excel()\n",
    "for file in files: analf(file)"
   ]
  },
  {
   "cell_type": "code",
   "execution_count": null,
   "metadata": {
    "collapsed": true
   },
   "outputs": [],
   "source": []
  }
 ],
 "metadata": {
  "kernelspec": {
   "display_name": "Python 3",
   "language": "python",
   "name": "python3"
  },
  "language_info": {
   "codemirror_mode": {
    "name": "ipython",
    "version": 3
   },
   "file_extension": ".py",
   "mimetype": "text/x-python",
   "name": "python",
   "nbconvert_exporter": "python",
   "pygments_lexer": "ipython3",
   "version": "3.5.2"
  }
 },
 "nbformat": 4,
 "nbformat_minor": 1
}
