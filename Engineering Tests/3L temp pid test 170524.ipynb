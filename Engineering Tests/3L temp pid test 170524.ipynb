{
 "cells": [
  {
   "cell_type": "code",
   "execution_count": 1,
   "metadata": {
    "collapsed": true
   },
   "outputs": [],
   "source": [
    "from hello.hello3 import HelloApp, NotLoggedInError, BadError\n",
    "import time, datetime\n",
    "import requests"
   ]
  },
  {
   "cell_type": "code",
   "execution_count": 2,
   "metadata": {
    "collapsed": true
   },
   "outputs": [],
   "source": [
    "def wait1(s):\n",
    "    dend = (datetime.datetime.now() + datetime.timedelta(seconds=s)).strftime(\"%m/%d/%Y %I:%M:%S %p\")\n",
    "    print(\"Sleeping %d seconds, ending at %s\" %(s,dend))\n",
    "    start = time.time()\n",
    "    end = start + s\n",
    "    try:\n",
    "        while time.time() < end:\n",
    "            time.sleep(5)\n",
    "    except KeyboardInterrupt:\n",
    "        pass\n",
    "    \n",
    "def wait2(s):\n",
    "    pass\n",
    "wait = wait1\n",
    "\n",
    "def call(f, *args):\n",
    "    s = \"(\" + \", \".join(map(repr, args)) + \")\"\n",
    "    print(\"Calling %s%s\" % (f.__name__, s))\n",
    "    while True:\n",
    "        try:\n",
    "            rv = f(*args)\n",
    "        except NotLoggedInError:\n",
    "            h.login()\n",
    "        except requests.exceptions.ConnectTimeout as e:\n",
    "            print(str(e))\n",
    "            print(\"Make sure you're on the right network!\")\n",
    "        except (BadError, IOError) as e:\n",
    "            print(str(e))\n",
    "        else:\n",
    "            return rv"
   ]
  },
  {
   "cell_type": "markdown",
   "metadata": {},
   "source": [
    "### Global functions and routines"
   ]
  },
  {
   "cell_type": "code",
   "execution_count": 3,
   "metadata": {
    "collapsed": true
   },
   "outputs": [],
   "source": [
    "def startbatch(name):\n",
    "    if call(h.batchrunning):\n",
    "        call(h.endbatch)\n",
    "    return call(h.startbatch, name)\n",
    "\n",
    "def settemp(sp):\n",
    "    if sp == 0:\n",
    "        call(h.settemp, 2, 37)\n",
    "    else:\n",
    "        call(h.settemp, 0, sp)\n",
    "        \n",
    "def endbatch():\n",
    "    call(h.endbatch)\n",
    "    \n",
    "def pid1():\n",
    "    call(h.setconfig, \"Temperature\", \"P_Gain_(%/C)\", 12)\n",
    "    call(h.setconfig, \"Temperature\", 'I_Time_(min)', 29)\n",
    "    \n",
    "def pid2():\n",
    "    call(h.setconfig, \"Temperature\", \"P_Gain_(%/C)\", 13)\n",
    "    call(h.setconfig, \"Temperature\", 'I_Time_(min)', 26)\n",
    "    \n",
    "def pid3():\n",
    "    call(h.setconfig, \"Temperature\", \"P_Gain_(%/C)\", 14)\n",
    "    call(h.setconfig, \"Temperature\", 'I_Time_(min)', 26)"
   ]
  },
  {
   "cell_type": "code",
   "execution_count": 4,
   "metadata": {
    "collapsed": false
   },
   "outputs": [],
   "source": [
    "_bni = 1\n",
    "def nb(pref, i=1, n=1):\n",
    "    bl = call(h.getBatches)\n",
    "    b = bl.names_to_batches\n",
    "    s = \"%s %d.%d\" % (pref, i, n)\n",
    "    while s in b:\n",
    "        n += 1\n",
    "        s = \"%s %d.%d\" % (pref, i, n)\n",
    "    startbatch(s)\n",
    "\n",
    "def tempoff():\n",
    "    settemp(0)\n",
    "    \n",
    "def setbn(i):\n",
    "    global _bni\n",
    "    _bni = i\n",
    "\n",
    "def o2a():\n",
    "    nb(\"tpid\", _bni)\n",
    "    settemp(37)\n",
    "    wait(3*hours)\n",
    "    endbatch()\n",
    "    \n",
    "def cool(hrs=8):\n",
    "    tempoff()\n",
    "    wait(hrs*hours)\n",
    "    \n",
    "def a2a(end):\n",
    "    nb(\"tpid\", _bni)\n",
    "    settemp(end)\n",
    "    wait(3*hours)\n",
    "    endbatch()\n",
    "\n",
    "def verify(pid):\n",
    "    print(\"Verifying settings\")\n",
    "    pid()\n",
    "    o2a()\n",
    "    a2a(35)\n",
    "    a2a(37)\n",
    "    \n",
    "def pid4():\n",
    "    call(h.setconfig, \"Temperature\", \"P_Gain_(%/C)\", 13)\n",
    "    call(h.setconfig, \"Temperature\", 'I_Time_(min)', 28) "
   ]
  },
  {
   "cell_type": "markdown",
   "metadata": {
    "collapsed": true
   },
   "source": [
    "## Round 4 5/24/17\n",
    "Temp looked a bit unstable in real life in the bio lab. According to simulation, a much higher gain value doens't actually hurt performance, so trying the test out again. "
   ]
  },
  {
   "cell_type": "code",
   "execution_count": 5,
   "metadata": {
    "collapsed": true
   },
   "outputs": [],
   "source": [
    "def pid5():\n",
    "    call(h.setconfig, \"Temperature\", \"P_Gain_(%/C)\", 50)\n",
    "    call(h.setconfig, \"Temperature\", 'I_Time_(min)', 26) \n",
    "hours = 3600"
   ]
  },
  {
   "cell_type": "code",
   "execution_count": null,
   "metadata": {
    "collapsed": false
   },
   "outputs": [
    {
     "name": "stdout",
     "output_type": "stream",
     "text": [
      "Calling settemp(2, 37)\n",
      "Sleeping 36000 seconds, ending at 05/25/2017 03:16:34 AM\n"
     ]
    }
   ],
   "source": [
    "h = HelloApp('71.189.82.196:81')\n",
    "wait = wait1\n",
    "cool(10)\n",
    "setbn(1)\n",
    "verify(pid5)\n",
    "tempoff()"
   ]
  },
  {
   "cell_type": "code",
   "execution_count": null,
   "metadata": {
    "collapsed": true
   },
   "outputs": [],
   "source": []
  }
 ],
 "metadata": {
  "kernelspec": {
   "display_name": "Python 3",
   "language": "python",
   "name": "python3"
  },
  "language_info": {
   "codemirror_mode": {
    "name": "ipython",
    "version": 3
   },
   "file_extension": ".py",
   "mimetype": "text/x-python",
   "name": "python",
   "nbconvert_exporter": "python",
   "pygments_lexer": "ipython3",
   "version": "3.5.2"
  }
 },
 "nbformat": 4,
 "nbformat_minor": 1
}
