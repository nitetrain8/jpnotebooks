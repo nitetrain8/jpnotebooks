{
 "cells": [
  {
   "cell_type": "markdown",
   "metadata": {},
   "source": [
    "### Some analysis"
   ]
  },
  {
   "cell_type": "code",
   "execution_count": 1,
   "metadata": {
    "collapsed": true
   },
   "outputs": [],
   "source": [
    "from officelib.xllib import *\n",
    "from officelib.const import xlconst as xlc\n",
    "import os"
   ]
  },
  {
   "cell_type": "code",
   "execution_count": 2,
   "metadata": {
    "collapsed": true
   },
   "outputs": [],
   "source": [
    "keys = {\n",
    "    'temperature.pv',\n",
    "    'agitation.pv',\n",
    "    'ph.outputDown',\n",
    "    'ph.manDown',\n",
    "    'do.manUp',\n",
    "    'do.outputDown',\n",
    "    'do.pv',\n",
    "    'do.manDown',\n",
    "    'do.outputUp',\n",
    "    'maingas.man',\n",
    "    'maingas.mode',\n",
    "    'maingas.pv',\n",
    "    'MFCs.air',\n",
    "    'MFCs.n2',\n",
    "    'MFCs.o2',\n",
    "    'MFCs.co2',\n",
    "    'Elapsed',\n",
    "    'Time'\n",
    "}\n",
    "def hide_columns(ws):\n",
    "    for col in ws.UsedRange.Columns:\n",
    "        c = col.Cells(1,1)\n",
    "        if c.Value not in keys:\n",
    "            col.Hidden=True"
   ]
  },
  {
   "cell_type": "code",
   "execution_count": 13,
   "metadata": {
    "collapsed": true
   },
   "outputs": [],
   "source": [
    "def data_range(ws, name):\n",
    "    c1 = ws.Cells.Find(name)\n",
    "    if c1 is None: raise ValueError(name)\n",
    "    c1 = c1.Offset(2,1)\n",
    "    c2 = c1.End(xlc.xlDown)\n",
    "    return c1, c2\n",
    "\n",
    "class SeriesProxy():\n",
    "    def __init__(self, ws, var, xvar=\"Elapsed\", yax=1, name=None):\n",
    "        self.ws = ws\n",
    "        self.var = var\n",
    "        self.yax = yax\n",
    "        self.s = None\n",
    "        self.xvar = xvar\n",
    "        self.name = name if name else var\n",
    "        \n",
    "    def create(self, chart):\n",
    "        e1, e2 = data_range(self.ws, self.xvar)\n",
    "        c1, c2 = data_range(self.ws, self.var)\n",
    "        cr = self.ws.Cells.Range\n",
    "        self.xr = cr(e1, e2)\n",
    "        self.yr = cr(c1, c2)\n",
    "        self.s = CreateDataSeries(chart, self.xr, self.yr, self.name)\n",
    "        if self.yax != 1:\n",
    "            self.s.AxisGroup = self.yax\n",
    "        \n",
    "    def set_name(self, n):\n",
    "        self.name = n\n",
    "        self.s.Name = n \n",
    "        \n",
    "class ChartProxy():\n",
    "    def __init__(self, ws, chart=None, *args):\n",
    "        self.ws = ws\n",
    "        self.chart = chart or CreateChart(ws, *args)\n",
    "        self.chart.ChartStyle = 240  # Excel 2017 style\n",
    "        self.series = []\n",
    "        \n",
    "    def add_series(self, var, xvar=\"Elapsed\", yax=1, name=None):\n",
    "        s = SeriesProxy(self.ws, var, xvar, yax, name)\n",
    "        self.make_series([s])\n",
    "        return s\n",
    "        \n",
    "    def make_series(self, series):\n",
    "        for s in series:\n",
    "            s.create(self.chart)\n",
    "            self.series.append(s)\n",
    "            \n",
    "    def _axlabel(self, ax, t):\n",
    "        ax.HasTitle=True\n",
    "        ax.AxisTitle.Text=t\n",
    "    \n",
    "    def xlabel(self, t):\n",
    "        xax = self.chart.Axes(xlc.xlCategory, xlc.xlPrimary)\n",
    "        self._axlabel(xax, t)\n",
    "        \n",
    "    def ylabel(self, t):\n",
    "        yax = self.chart.Axes(xlc.xlValue, xlc.xlPrimary)\n",
    "        self._axlabel(yax, t)\n",
    "        \n",
    "    def ylabel2(self, t):\n",
    "        yax = self.chart.Axes(xlc.xlValue, xlc.xlSecondary)\n",
    "        self._axlabel(yax, t)\n",
    "        \n",
    "    def title(self, t):\n",
    "        self.chart.HasTitle = True\n",
    "        self.chart.ChartTitle.Text = t\n",
    "        \n",
    "    def copyto(self, r):\n",
    "        # chart parent -> ChartObject\n",
    "        self.chart.Parent.Copy()\n",
    "        r.Paste()\n",
    "         \n",
    "def _listify(args):\n",
    "    l = []\n",
    "    if isinstance(args, str):\n",
    "        return [args]\n",
    "    for a in args:\n",
    "        if isinstance(a, (list,tuple)):\n",
    "            l.extend(_listify(a))\n",
    "        else:\n",
    "            l.append(a)\n",
    "    return l\n",
    "    \n",
    "def make_chart(names, title=None, xlabel=None, ylabel=None, xname=\"Elapsed\", *, uws=None):\n",
    "    uws = uws or ws\n",
    "    c = ChartProxy(uws)\n",
    "        \n",
    "    names = _listify(names)\n",
    "    c.make_series(SeriesProxy(uws,n, xname) for n in names)\n",
    "    \n",
    "    # optional setup\n",
    "    if title: c.title(title)\n",
    "    if xlabel: c.xlabel(xlabel)\n",
    "    if ylabel: c.ylabel(ylabel)\n",
    "    \n",
    "    return c"
   ]
  },
  {
   "cell_type": "markdown",
   "metadata": {},
   "source": [
    "### Example code for now to use functions"
   ]
  },
  {
   "cell_type": "code",
   "execution_count": 14,
   "metadata": {
    "collapsed": true
   },
   "outputs": [],
   "source": [
    "# # MFCs\n",
    "# mfcc = [\n",
    "#     \"MFCs.Air\",\n",
    "#     \"MFCs.O2\",\n",
    "#     \"MFCs.N2\",\n",
    "#     \"MFCs.CO2\"\n",
    "# ]\n",
    "# make_chart(mfcc, \"MFC Flow\", \"Time(s)\", \"Flow Rate (LPM)\")\n",
    "# make_chart(\"do.pv\", \"DO PV\", \"Time(s)\", \"DO PV (%)\")"
   ]
  },
  {
   "cell_type": "markdown",
   "metadata": {},
   "source": [
    "#### Some analysis"
   ]
  },
  {
   "cell_type": "code",
   "execution_count": 15,
   "metadata": {},
   "outputs": [],
   "source": [
    "xl = Excel()\n",
    "for wb in xl.Workbooks: wb.Close(False)\n",
    "    \n",
    "def add_af1(name, new, form):\n",
    "    e1 = ws.Cells.Find(name)\n",
    "    e1.Offset(1,2).EntireColumn.Insert()\n",
    "    e1.Offset(1,2).Value = new\n",
    "    \n",
    "    c1 = e1.Offset(2,2)\n",
    "    c2 = e1.End(xlc.xlDown).Offset(1,2)\n",
    "    c1.Value = form % e1.Offset(2,1).GetAddress(0,0)\n",
    "    afr = ws.Cells.Range(c1, c2)\n",
    "    c1.AutoFill(afr)\n",
    "    return c1, c2\n",
    "    \n",
    "\n",
    "def nch(ws, n):\n",
    "    c = CreateChart(ws)\n",
    "    c.Location(xlc.xlLocationAsNewSheet, n)\n",
    "    return ws.Parent.Charts(n)\n",
    "    \n",
    "def gfp(f): return os.path.abspath(f)\n",
    "    \n",
    "def analyze2():\n",
    "    # globals make debugging easy\n",
    "    global wb, ws\n",
    "    os.chdir('C:\\\\Users\\\\natha\\\\Documents\\\\test\\\\do_3L_verif_hs_new 170727\\\\')\n",
    "    os.makedirs(\"analyzed\", exist_ok=True)\n",
    "    xl.DisplayAlerts=False\n",
    "    for f in filter(os.path.isfile, os.listdir()):\n",
    "        print(\"Analyzing\", f)\n",
    "        wb = xl.Workbooks.Open(gfp(f))\n",
    "        ws = wb.Worksheets(1)\n",
    "        e1, e2 = add_af1(\"Elapsed\", \"Elapsed.hr\", \"=%s/3600\")\n",
    "        ws.Cells.Range(e1, e2).NumberFormat = \"0.000\"\n",
    "        \n",
    "        typ = \" \".join(f.split()[-3:])[:-4]\n",
    "            \n",
    "        c = make_chart('do.pv', typ, \"Time(hr)\", \n",
    "                       \"DO PV (%)\", \"Elapsed.hr\", uws=ws)\n",
    "        c.add_series(\"do.outputUp\", \"Elapsed.hr\", 2, \"O2 Request\")\n",
    "        c.add_series(\"do.outputDown\", \"Elapsed.hr\", 2, \"N2 Request\") \n",
    "        \n",
    "        c2 = make_chart([\n",
    "                \"MFCs.air\",\n",
    "                \"MFCs.O2\",\n",
    "                \"MFCs.N2\",\n",
    "            ], \"MFC Gas Flow\", \"Time(hr)\", \"Flow Rate(LPM)\", \"Elapsed.hr\", uws=ws)\n",
    "        \n",
    "        if typ == \"100 to 150\":\n",
    "            y1, y2 = 140, 160\n",
    "        elif typ == \"100 to 50\":\n",
    "            y1, y2 = 40, 60\n",
    "        else:\n",
    "            y1, y2 = None, None\n",
    "        \n",
    "        FormatAxesScale(c.chart, None, None, y1, y2, Y2AxisMin=0, Y2AxisMax=100)\n",
    "        wb.SaveAs(gfp(\"analyzed\\\\\"+f.replace(\".csv\", \".xlsx\")), FileFormat=xlc.xlOpenXMLWorkbook)\n",
    "        if \"4.\" not in f:\n",
    "            wb.Close(True)"
   ]
  },
  {
   "cell_type": "code",
   "execution_count": 16,
   "metadata": {},
   "outputs": [
    {
     "name": "stdout",
     "output_type": "stream",
     "text": [
      "Analyzing 3L_do_pid 4.-20.55.40 repeat 100 to 50.csv\n"
     ]
    }
   ],
   "source": [
    "analyze2()"
   ]
  },
  {
   "cell_type": "code",
   "execution_count": null,
   "metadata": {
    "collapsed": true
   },
   "outputs": [],
   "source": []
  }
 ],
 "metadata": {
  "kernelspec": {
   "display_name": "Python 3",
   "language": "python",
   "name": "python3"
  },
  "language_info": {
   "codemirror_mode": {
    "name": "ipython",
    "version": 3
   },
   "file_extension": ".py",
   "mimetype": "text/x-python",
   "name": "python",
   "nbconvert_exporter": "python",
   "pygments_lexer": "ipython3",
   "version": "3.5.0"
  }
 },
 "nbformat": 4,
 "nbformat_minor": 2
}
