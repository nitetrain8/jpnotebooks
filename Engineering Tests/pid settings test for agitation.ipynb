{
 "cells": [
  {
   "cell_type": "code",
   "execution_count": 2,
   "metadata": {
    "collapsed": false
   },
   "outputs": [],
   "source": [
    "from hello.hello3 import HelloApp\n",
    "from hello import hello3\n",
    "from hello import hello\n",
    "from hello.pid.ag_pid import agpid\n",
    "from hello.pid.ag_pid.agpid import SimplePIDRunner, PIDRunner, OffToAutoTest, ManToAutoTest, AutoToAutoTest"
   ]
  },
  {
   "cell_type": "code",
   "execution_count": 5,
   "metadata": {
    "collapsed": false
   },
   "outputs": [],
   "source": [
    "with open(agpid.__file__, 'r') as f:\n",
    "    src = f.read()\n",
    "ns = {}\n",
    "exec(src, ns, ns)\n",
    "SimplePIDRunner = ns['SimplePIDRunner']\n",
    "PIDRunner = ns['PIDRunner']\n",
    "OffToAutoTest = ns['OffToAutoTest']\n",
    "ManToAutoTest = ns['ManToAutoTest']\n",
    "AutoToAutoTest = ns['AutoToAutoTest']\n",
    "ManToManTest = ns['ManToManTest']"
   ]
  },
  {
   "cell_type": "code",
   "execution_count": 6,
   "metadata": {
    "collapsed": true
   },
   "outputs": [],
   "source": [
    "def runagpid(r):\n",
    "    try:\n",
    "        _runagpid(r)\n",
    "    except Exception as e:\n",
    "        import traceback\n",
    "        traceback.print_exc()\n",
    "    finally:\n",
    "        return r\n",
    "\n",
    "def _runagpid(r):\n",
    "    r.doall()\n",
    "    return r\n",
    "\n",
    "def the80Lalreadyworks_settings():\n",
    "    pgains = (0.1,)\n",
    "    itimes = (0.01, 0.02, 0.05)\n",
    "    dtimes = (0,)\n",
    "    sps = (8, 12, 20)\n",
    "    return pgains, itimes, dtimes, sps\n",
    "\n",
    "def settings2():\n",
    "    sps = 8, 12, 20\n",
    "    c1 = [(.3, .02, 0, sp) for sp in sps]\n",
    "    c2 = [(.1, .01, 0, sp) for sp in sps]\n",
    "    return (), (), (), (), c1+c2\n",
    "\n",
    "def run_the80Lalreadyworks(ip='71.189.82.196:85'):\n",
    "    settings = the80Lalreadyworks_settings()\n",
    "    app = HelloApp(ip)\n",
    "    r = SimplePIDRunner(*settings, app_or_ipv4=app)\n",
    "    try:\n",
    "        runagpid(r)\n",
    "    except Exception as e:\n",
    "        import traceback\n",
    "        traceback.print_exc()\n",
    "    finally:\n",
    "        return r\n",
    "    \n",
    "def run_80Lothertests(ip='71.189.82.196:85'):\n",
    "    p = 0.1\n",
    "    i = 0.01\n",
    "    d = 0\n",
    "    app = hello3.open_hello(ip)\n",
    "    tests = []\n",
    "    for sp in (8, 10, 12, 14):\n",
    "        t = OffToAutoTest(p, i, d, sp, app)\n",
    "        tests.append(t)\n",
    "        break\n",
    "    for start_pv in (10, 12, 14):\n",
    "        t1 = ManToAutoTest(p, i, d, start_pv-2, app, start_pv)\n",
    "        t2 = AutoToAutoTest(p, i, d, start_pv-2, app, start_pv)\n",
    "        t3 = ManToManTest(p, i, d, start_pv-2, app, start_pv)\n",
    "        tests.extend((t1, t2, t3))\n",
    "        break\n",
    "    for start_pv in (8, 10, 12):\n",
    "        break\n",
    "        t1 = ManToAutoTest(p, i, d, start_pv+2, app, start_pv)\n",
    "        t2 = AutoToAutoTest(p, i, d, start_pv+2, app, start_pv)\n",
    "        t3 = ManToManTest(p, i, d, start_pv+2, app, start_pv)\n",
    "        tests.extend((t1, t2, t3))\n",
    "    r = PIDRunner(tests, wb_name='test.xlsx')\n",
    "    return runagpid(r)\n",
    "    "
   ]
  },
  {
   "cell_type": "code",
   "execution_count": null,
   "metadata": {
    "collapsed": false,
    "scrolled": false
   },
   "outputs": [
    {
     "name": "stdout",
     "output_type": "stream",
     "text": [
      "1484097892.322021 INFO <runall>: Running test 1 of 4: P:0.100 I:0.010 D:0.0000 SP:8\n",
      "1484097892.324033 INFO <run>: Beginning test run for OffToAuto SP:8.0\n",
      "1484097892.326030 INFO <setup_settings>: Setting PID Settings\n",
      "1484097895.328742 INFO <setup_test>: Setting Agitation to OFF and waiting 30 seconds\n",
      "1484097895.329746 INFO <off>: Setting Agitation to Off\n"
     ]
    }
   ],
   "source": [
    "r = run_80Lothertests()"
   ]
  },
  {
   "cell_type": "code",
   "execution_count": null,
   "metadata": {
    "collapsed": false
   },
   "outputs": [],
   "source": [
    "r=run_the80Lalreadyworks()"
   ]
  },
  {
   "cell_type": "code",
   "execution_count": null,
   "metadata": {
    "collapsed": true
   },
   "outputs": [],
   "source": []
  },
  {
   "cell_type": "code",
   "execution_count": null,
   "metadata": {
    "collapsed": false
   },
   "outputs": [],
   "source": [
    "def test_mantoman(ip='71.189.82.196:85'):\n",
    "    p = 0.1\n",
    "    i = 0.01\n",
    "    d = 0\n",
    "    app = hello3.open_hello(ip)\n",
    "    tests = []\n",
    "    t1 = ManToManTest(p, i, d, 20, app, 15)\n",
    "    t2 = ManToAutoTest(p,i,d,20, app, 15)\n",
    "    t3 = OffToAutoTest(p,i,d,20, app)\n",
    "    t4 = AutoToAutoTest(p,i,d,20, app, 15)\n",
    "    tests = [t1, t2, t3, t4]\n",
    "    for t in tests:\n",
    "        t.mintime = 60\n",
    "    r = PIDRunner(tests, wb_name=\"test.xlsx\")\n",
    "    return runagpid(r)\n",
    "test_mantoman()"
   ]
  },
  {
   "cell_type": "code",
   "execution_count": null,
   "metadata": {
    "collapsed": false
   },
   "outputs": [],
   "source": [
    "app = hello3.open_hello('71.189.82.196:85')\n",
    "t = ManToManTest(0.1, 0.01, 0, 10, app, 10)\n",
    "r = PIDRunner([t], 'test.xlsx')\n",
    "d = t.data\n",
    "from time import time, sleep\n",
    "start = time()\n",
    "end = start + 50\n",
    "def data():\n",
    "    ag = app.gpmv()['agitation']\n",
    "    pv = ag['pv']; op = ag['output']\n",
    "    return time(), pv, op\n",
    "\n",
    "while time() < end:\n",
    "    p = data()\n",
    "    d.append(p)\n",
    "    sleep(0.5)\n",
    "r.plotall()\n",
    "r.chartbypid()"
   ]
  },
  {
   "cell_type": "code",
   "execution_count": null,
   "metadata": {
    "collapsed": true
   },
   "outputs": [],
   "source": []
  }
 ],
 "metadata": {
  "kernelspec": {
   "display_name": "Python 3",
   "language": "python",
   "name": "python3"
  },
  "language_info": {
   "codemirror_mode": {
    "name": "ipython",
    "version": 3
   },
   "file_extension": ".py",
   "mimetype": "text/x-python",
   "name": "python",
   "nbconvert_exporter": "python",
   "pygments_lexer": "ipython3",
   "version": "3.5.2"
  }
 },
 "nbformat": 4,
 "nbformat_minor": 1
}
