{
 "cells": [
  {
   "cell_type": "code",
   "execution_count": 1,
   "metadata": {
    "collapsed": false
   },
   "outputs": [],
   "source": [
    "from hello.hello3 import HelloApp\n",
    "from hello.pid.ag_pid.agpid import SimplePIDRunner"
   ]
  },
  {
   "cell_type": "code",
   "execution_count": 2,
   "metadata": {
    "collapsed": true
   },
   "outputs": [],
   "source": [
    "ip='71.189.82.196:85'\n",
    "#ip = '192.168.1.85'"
   ]
  },
  {
   "cell_type": "code",
   "execution_count": 3,
   "metadata": {
    "collapsed": true
   },
   "outputs": [],
   "source": [
    "def runagpid(r):\n",
    "    \"\"\"\n",
    "    \"\"\"\n",
    "    r.doall()\n",
    "    r.close()\n",
    "    return r\n",
    "\n",
    "def the80Lalreadyworks_settings():\n",
    "    pgains = (0.3,)\n",
    "    itimes = (0.02,)\n",
    "    dtimes = ()\n",
    "    sps = (8, 12, 20)\n",
    "    return pgains, itimes, dtimes, sps\n",
    "\n",
    "def settings2():\n",
    "    sps = 8, 12, 20\n",
    "    c1 = [(.3, .02, 0, sp) for sp in sps]\n",
    "    c2 = [(.1, .01, 0, sp) for sp in sps]\n",
    "    return (), (), (), (), c1+c2\n",
    "\n",
    "def run_the80Lalreadyworks():\n",
    "    settings = settings2()\n",
    "    app = HelloApp(ip)\n",
    "    r = SimplePIDRunner(*settings, app_or_ipv4=app)\n",
    "    try:\n",
    "        runagpid(r)\n",
    "    except Exception as e:\n",
    "        import traceback\n",
    "        traceback.print_exc()\n",
    "    finally:\n",
    "        return r"
   ]
  },
  {
   "cell_type": "code",
   "execution_count": 4,
   "metadata": {
    "collapsed": false
   },
   "outputs": [
    {
     "name": "stderr",
     "output_type": "stream",
     "text": [
      "1483741065.009456 INFO <_init_settings>: Initializing Settings\n",
      "1483741065.010491 INFO <_init_settings>: Initialization Successful\n",
      "1483741065.011461 INFO <runall>: Running test 1 of 6 P:0.30 I:0.020 D: 0.0000 SP: 8.00\n",
      "1483741065.012463 INFO <run>: Setting PID Settings\n",
      "1483741066.722731 INFO <run>: Setting agitation to OFF and waiting 30 seconds\n",
      "1483741097.075545 INFO <run>: Setting Agitation to 8 RPM\n",
      "1483741097.199128 INFO <run>: Beginning test\n",
      "1483741277.512726 INFO <runall>: Successful test\n",
      "1483741277.513970 INFO <runall>: Running test 2 of 6 P:0.30 I:0.020 D: 0.0000 SP: 12.00\n",
      "1483741277.514968 INFO <run>: Setting PID Settings\n",
      "1483741279.184707 INFO <run>: Setting agitation to OFF and waiting 30 seconds\n",
      "1483741309.513841 INFO <run>: Setting Agitation to 12 RPM\n",
      "1483741309.626714 INFO <run>: Beginning test\n",
      "1483741489.829039 INFO <runall>: Successful test\n",
      "1483741489.831721 INFO <runall>: Running test 3 of 6 P:0.30 I:0.020 D: 0.0000 SP: 20.00\n",
      "1483741489.833725 INFO <run>: Setting PID Settings\n",
      "1483741491.558907 INFO <run>: Setting agitation to OFF and waiting 30 seconds\n",
      "1483741521.742081 INFO <run>: Setting Agitation to 20 RPM\n",
      "1483741521.844759 INFO <run>: Beginning test\n",
      "1483741702.459728 INFO <runall>: Successful test\n",
      "1483741702.462507 INFO <runall>: Running test 4 of 6 P:0.10 I:0.010 D: 0.0000 SP: 8.00\n",
      "1483741702.465008 INFO <run>: Setting PID Settings\n",
      "1483741704.274300 INFO <run>: Setting agitation to OFF and waiting 30 seconds\n",
      "1483741734.833976 INFO <run>: Setting Agitation to 8 RPM\n",
      "1483741734.975680 INFO <run>: Beginning test\n",
      "1483741915.129980 INFO <runall>: Successful test\n",
      "1483741915.131731 INFO <runall>: Running test 5 of 6 P:0.10 I:0.010 D: 0.0000 SP: 12.00\n",
      "1483741915.133729 INFO <run>: Setting PID Settings\n",
      "1483741916.902225 INFO <run>: Setting agitation to OFF and waiting 30 seconds\n",
      "1483741947.130017 INFO <run>: Setting Agitation to 12 RPM\n",
      "1483741947.256892 INFO <run>: Beginning test\n",
      "1483742127.834462 INFO <runall>: Successful test\n",
      "1483742127.837769 INFO <runall>: Running test 6 of 6 P:0.10 I:0.010 D: 0.0000 SP: 20.00\n",
      "1483742127.840776 INFO <run>: Setting PID Settings\n",
      "1483742129.690481 INFO <run>: Setting agitation to OFF and waiting 30 seconds\n",
      "1483742160.111052 INFO <run>: Setting Agitation to 20 RPM\n",
      "1483742160.409257 INFO <run>: Beginning test\n",
      "1483742340.427564 INFO <runall>: Successful test\n",
      "1483742341.208197 INFO <plotall>: Copying test data to AgPIDTest 06-01-17 14-17.xlsx\n",
      "1483742341.209199 INFO <plotall>: Copying data for test 1 of 6\n",
      "1483742341.476779 INFO <plotall>: Success!\n",
      "1483742341.477782 INFO <plotall>: Copying data for test 2 of 6\n",
      "1483742341.510854 INFO <plotall>: Success!\n",
      "1483742341.511861 INFO <plotall>: Copying data for test 3 of 6\n",
      "1483742341.587018 INFO <plotall>: Success!\n",
      "1483742341.590029 INFO <plotall>: Copying data for test 4 of 6\n",
      "1483742341.636123 INFO <plotall>: Success!\n",
      "1483742341.637125 INFO <plotall>: Copying data for test 5 of 6\n",
      "1483742341.676711 INFO <plotall>: Success!\n",
      "1483742341.678214 INFO <plotall>: Copying data for test 6 of 6\n",
      "1483742341.712288 INFO <plotall>: Success!\n",
      "1483742341.715294 INFO <plotall>: Done copying data for 6 tests.\n",
      "1483742341.992898 INFO <_init_chart>: Initializing chart\n",
      "1483742342.468134 INFO <_init_chart>: Initializing chart\n",
      "1483742343.913737 ERROR <close>: Couldn't pickle data\n",
      "Traceback (most recent call last):\n",
      "  File \"C:\\Users\\Nathan\\Documents\\Personal\\PBS_Office\\MSOffice\\hello\\pid\\ag_pid\\agpid.py\", line 550, in close\n",
      "    safe_pickle(self, fpth)\n",
      "  File \"C:\\Users\\Nathan\\Documents\\Personal\\PBS_Office\\MSOffice\\pysrc\\snippets\\safe_write.py\", line 36, in safe_pickle\n",
      "    pickle_dump(obj, temp, **kwargs)\n",
      "  File \"c:\\program files\\python35\\lib\\socket.py\", line 175, in __getstate__\n",
      "    raise TypeError(\"Cannot serialize socket object\")\n",
      "TypeError: Cannot serialize socket object\n"
     ]
    }
   ],
   "source": [
    "r = run_the80Lalreadyworks()"
   ]
  },
  {
   "cell_type": "code",
   "execution_count": null,
   "metadata": {
    "collapsed": true
   },
   "outputs": [],
   "source": []
  }
 ],
 "metadata": {
  "kernelspec": {
   "display_name": "Python 3",
   "language": "python",
   "name": "python3"
  },
  "language_info": {
   "codemirror_mode": {
    "name": "ipython",
    "version": 3
   },
   "file_extension": ".py",
   "mimetype": "text/x-python",
   "name": "python",
   "nbconvert_exporter": "python",
   "pygments_lexer": "ipython3",
   "version": "3.5.2"
  }
 },
 "nbformat": 4,
 "nbformat_minor": 1
}
