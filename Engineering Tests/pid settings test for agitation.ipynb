{
 "cells": [
  {
   "cell_type": "code",
   "execution_count": 1,
   "metadata": {
    "collapsed": false
   },
   "outputs": [],
   "source": [
    "from hello.hello3 import HelloApp\n",
    "from hello import hello3\n",
    "from hello import hello\n",
    "from hello.pid.ag_pid import agpid\n",
    "from hello.pid.ag_pid.agpid import *"
   ]
  },
  {
   "cell_type": "code",
   "execution_count": 2,
   "metadata": {
    "collapsed": true
   },
   "outputs": [],
   "source": [
    "def runagpid(r):\n",
    "    try:\n",
    "        _runagpid(r)\n",
    "    except Exception as e:\n",
    "        import traceback\n",
    "        traceback.print_exc()\n",
    "    finally:\n",
    "        return r\n",
    "\n",
    "def _runagpid(r):\n",
    "    r.doall()\n",
    "    return r\n",
    "\n",
    "def the80Lalreadyworks_settings():\n",
    "    pgains = (0.1,)\n",
    "    itimes = (0.01, 0.02, 0.05)\n",
    "    dtimes = (0,)\n",
    "    sps = (8, 12, 20)\n",
    "    return pgains, itimes, dtimes, sps\n",
    "\n",
    "def settings2():\n",
    "    sps = 8, 12, 20\n",
    "    c1 = [(.3, .02, 0, sp) for sp in sps]\n",
    "    c2 = [(.1, .01, 0, sp) for sp in sps]\n",
    "    return (), (), (), (), c1+c2\n",
    "\n",
    "def run_the80Lalreadyworks(ip='71.189.82.196:85'):\n",
    "    settings = the80Lalreadyworks_settings()\n",
    "    app = HelloApp(ip)\n",
    "    r = SimplePIDRunner(*settings, app_or_ipv4=app)\n",
    "    try:\n",
    "        runagpid(r)\n",
    "    except Exception as e:\n",
    "        import traceback\n",
    "        traceback.print_exc()\n",
    "    finally:\n",
    "        return r\n",
    "    \n",
    "def run_80Lothertests(ip='71.189.82.196:85'):\n",
    "    p = 0.1\n",
    "    i = 0.01\n",
    "    d = 0\n",
    "    app = hello3.open_hello(ip)\n",
    "    tests = []\n",
    "    for sp in (8, 10, 12, 14):\n",
    "        t = OffToAutoTest(p, i, d, sp, app)\n",
    "        tests.append(t)\n",
    "        break\n",
    "    for start_pv in (10, 12, 14):\n",
    "        t1 = AgManToAutoTest(p, i, d, start_pv-2, start_pv, app)\n",
    "        t2 = AgAutoToAutoTest(p, i, d, start_pv-2, start_pv, app)\n",
    "        t3 = AgManToManTest(p, i, d, start_pv-2, start_pv, app)\n",
    "        tests.extend((t1, t2, t3))\n",
    "        break\n",
    "    for start_pv in (8, 10, 12):\n",
    "        break\n",
    "        t1 = AgManToAutoTest(p, i, d, start_pv+2, start_pv, app)\n",
    "        t2 = AgAutoToAutoTest(p, i, d, start_pv+2, start_pv, app)\n",
    "        t3 = AgManToManTest(p, i, d, start_pv+2, start_pv, app)\n",
    "        tests.extend((t1, t2, t3))\n",
    "    r = PIDRunner(tests, wb_name='test.xlsx')\n",
    "    return runagpid(r)\n",
    "    "
   ]
  },
  {
   "cell_type": "code",
   "execution_count": 3,
   "metadata": {
    "collapsed": true
   },
   "outputs": [],
   "source": [
    "#r = run_80Lothertests()"
   ]
  },
  {
   "cell_type": "code",
   "execution_count": 4,
   "metadata": {
    "collapsed": false
   },
   "outputs": [],
   "source": [
    "#r=run_the80Lalreadyworks()"
   ]
  },
  {
   "cell_type": "code",
   "execution_count": 5,
   "metadata": {
    "collapsed": true
   },
   "outputs": [],
   "source": [
    "def test1(ip='71.189.82.196:85'):\n",
    "    p = 0.1\n",
    "    i = 0.01\n",
    "    d = 0\n",
    "    app = hello3.open_hello(ip)\n",
    "    tests = []\n",
    "    for start_pv in (10, 12, 14):\n",
    "        t2 = AgAutoToAutoTest(p, i, d, start_pv-2, start_pv, app)\n",
    "        tests.append(t2)\n",
    "        break\n",
    "    for start_pv in (8, 10, 12):\n",
    "        break\n",
    "        t1 = AgManToAutoTest(p, i, d, start_pv+2, start_pv, app)\n",
    "        t2 = AgAutoToAutoTest(p, i, d, start_pv+2, start_pv, app)\n",
    "        t3 = AgManToManTest(p, i, d, start_pv+2, start_pv, app)\n",
    "        tests.extend((t1, t2, t3))\n",
    "    r = PIDRunner(tests, wb_name='test.xlsx')\n",
    "    return runagpid(r)"
   ]
  },
  {
   "cell_type": "code",
   "execution_count": 6,
   "metadata": {
    "collapsed": false
   },
   "outputs": [
    {
     "name": "stdout",
     "output_type": "stream",
     "text": [
      "1484246259.365799 INFO <runall>: Running test 1 of 1: P:0.100 I:0.010 D:0.0000 SP:8\n",
      "1484246259.367802 INFO <run>: Beginning test run for AutoToAuto Start:10.0 SP:8.0\n",
      "1484246259.370811 INFO <setup_settings>: Setting PID Settings\n",
      "1484246262.399797 INFO <setup_test>: Setting Agitation to AUTO 10 RPM and waiting until stable for 30 seconds (60 second timeout)\n",
      "1484246262.401996 INFO <auto>: Setting Agitation to 10 RPM\n",
      "1484246262.620093 INFO <wait_for_settle>: Waiting for PV to settle\n",
      "1484246347.146482 INFO <start_test>: Starting Test\n",
      "1484246347.148482 INFO <auto>: Setting Agitation to 8 RPM\n",
      "1484246347.429831 INFO <wait_for_settle>: Waiting for PV to settle\n",
      "1484246480.863745 INFO <wait_for_min_time>: Waiting 46 seconds to finish test\n",
      "1484246527.461890 INFO <run>: Finished Test\n",
      "1484246527.466893 INFO <runall>: Successful test\n",
      "1484246528.995431 INFO <plotall>: Copying test data to test.xlsx\n",
      "1484246528.996433 INFO <plotall>: Copying data for test 1 of 1\n",
      "1484246529.093691 INFO <plotall>: Done copying data for 1 tests.\n",
      "1484246529.293223 INFO <_new_chart>: Initializing chart\n"
     ]
    },
    {
     "data": {
      "text/plain": [
       "<hello.pid.ag_pid.agpid.PIDRunner at 0x206c5dc9278>"
      ]
     },
     "execution_count": 6,
     "metadata": {},
     "output_type": "execute_result"
    }
   ],
   "source": [
    "test1()"
   ]
  },
  {
   "cell_type": "code",
   "execution_count": null,
   "metadata": {
    "collapsed": true
   },
   "outputs": [],
   "source": []
  }
 ],
 "metadata": {
  "kernelspec": {
   "display_name": "Python 3",
   "language": "python",
   "name": "python3"
  },
  "language_info": {
   "codemirror_mode": {
    "name": "ipython",
    "version": 3
   },
   "file_extension": ".py",
   "mimetype": "text/x-python",
   "name": "python",
   "nbconvert_exporter": "python",
   "pygments_lexer": "ipython3",
   "version": "3.5.2"
  }
 },
 "nbformat": 4,
 "nbformat_minor": 1
}
