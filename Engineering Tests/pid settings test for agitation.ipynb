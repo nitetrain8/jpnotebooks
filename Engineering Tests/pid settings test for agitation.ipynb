{
 "cells": [
  {
   "cell_type": "code",
   "execution_count": 1,
   "metadata": {
    "collapsed": false
   },
   "outputs": [],
   "source": [
    "from hello.hello3 import HelloApp\n",
    "from hello import hello3\n",
    "from hello import hello\n",
    "from hello.pid.ag_pid import agpid\n",
    "from hello.pid.ag_pid.agpid import SimplePIDRunner, PIDRunner, OffToAutoTest, ManToAutoTest, AutoToAutoTest"
   ]
  },
  {
   "cell_type": "code",
   "execution_count": 5,
   "metadata": {
    "collapsed": false
   },
   "outputs": [],
   "source": [
    "with open(agpid.__file__, 'r') as f:\n",
    "    src = f.read()\n",
    "ns = {}\n",
    "exec(src, ns, ns)\n",
    "SimplePIDRunner = ns['SimplePIDRunner']\n",
    "PIDRunner = ns['PIDRunner']\n",
    "OffToAutoTest = ns['OffToAutoTest']\n",
    "ManToAutoTest = ns['ManToAutoTest']\n",
    "AutoToAutoTest = ns['AutoToAutoTest']\n",
    "ManToManTest = ns['ManToManTest']"
   ]
  },
  {
   "cell_type": "code",
   "execution_count": 13,
   "metadata": {
    "collapsed": true
   },
   "outputs": [],
   "source": [
    "def runagpid(r):\n",
    "    try:\n",
    "        _runagpid(r)\n",
    "    except Exception as e:\n",
    "        import traceback\n",
    "        traceback.print_exc()\n",
    "    finally:\n",
    "        return r\n",
    "\n",
    "def _runagpid(r):\n",
    "    r.doall()\n",
    "    return r\n",
    "\n",
    "def the80Lalreadyworks_settings():\n",
    "    pgains = (0.1,)\n",
    "    itimes = (0.01, 0.02, 0.05)\n",
    "    dtimes = (0,)\n",
    "    sps = (8, 12, 20)\n",
    "    return pgains, itimes, dtimes, sps\n",
    "\n",
    "def settings2():\n",
    "    sps = 8, 12, 20\n",
    "    c1 = [(.3, .02, 0, sp) for sp in sps]\n",
    "    c2 = [(.1, .01, 0, sp) for sp in sps]\n",
    "    return (), (), (), (), c1+c2\n",
    "\n",
    "def run_the80Lalreadyworks(ip='71.189.82.196:85'):\n",
    "    settings = the80Lalreadyworks_settings()\n",
    "    app = HelloApp(ip)\n",
    "    r = SimplePIDRunner(*settings, app_or_ipv4=app)\n",
    "    try:\n",
    "        runagpid(r)\n",
    "    except Exception as e:\n",
    "        import traceback\n",
    "        traceback.print_exc()\n",
    "    finally:\n",
    "        return r\n",
    "    \n",
    "def run_80Lothertests(ip='71.189.82.196:85'):\n",
    "    p = 0.1\n",
    "    i = 0.01\n",
    "    d = 0\n",
    "    app = hello3.open_hello(ip)\n",
    "    tests = []\n",
    "    for start_pv in (10, 12, 14):\n",
    "        t = ManToAutoTest(p, i, d, start_pv-2, app, start_pv)\n",
    "        t2 = AutoToAutoTest(p, i, d, start_pv-2, app, start_pv)\n",
    "        tests.append(t)\n",
    "        tests.append(t2)\n",
    "    for start_pv in (8, 10, 12):\n",
    "        t = ManToAutoTest(p, i, d, start_pv+2, app, start_pv)\n",
    "        t2 = AutoToAutoTest(p, i, d, start_pv+2, app, start_pv)\n",
    "        tests.append(t)\n",
    "        tests.append(t2)\n",
    "    r = PIDRunner(tests)\n",
    "    return runagpid(r)\n",
    "    "
   ]
  },
  {
   "cell_type": "code",
   "execution_count": 4,
   "metadata": {
    "collapsed": true
   },
   "outputs": [
    {
     "name": "stdout",
     "output_type": "stream",
     "text": [
      "1484008035.168893 INFO <runall>: Running test 1 of 12: P:0.100 I:0.010 D:0.0000 SP:8\n",
      "1484008035.170899 INFO <run>: Beginning test run for ManToAuto Start:10.0 SP:8.0\n",
      "1484008035.171905 INFO <setup_settings>: Setting PID Settings\n",
      "1484008038.091161 INFO <setup_test>: Setting agitation to AUTO 10 RPM and waiting 60 seconds\n",
      "1484008099.330889 INFO <setup_test>: Setting agitation to MAN at output (27.37) for PV (10 RPM)\n",
      "1484008104.565162 INFO <start_test>: Setting Agitation to 8 RPM\n",
      "1484008104.904778 INFO <wait_for_settle>: Waiting for PV to settle\n",
      "1484008241.311036 INFO <wait_for_min_time>: Waiting 43 seconds to finish test\n",
      "1484008284.730829 INFO <run>: Finished Test\n",
      "1484008284.731835 INFO <runall>: Successful test\n",
      "1484008284.735844 INFO <runall>: Running test 2 of 12: P:0.100 I:0.010 D:0.0000 SP:8\n",
      "1484008284.736846 INFO <run>: Beginning test run for AutoToAuto Start:10.0 SP:8.0\n",
      "1484008284.745182 INFO <setup_settings>: Setting PID Settings\n",
      "1484008286.630152 INFO <setup_test>: Setting agitation to AUTO 10 RPM and waiting 60 seconds\n",
      "1484008347.108881 INFO <start_test>: Setting Agitation to 8 RPM\n",
      "1484008347.349065 INFO <wait_for_settle>: Waiting for PV to settle\n",
      "1484008484.907482 INFO <wait_for_min_time>: Waiting 42 seconds to finish test\n",
      "1484008527.717045 INFO <run>: Finished Test\n",
      "1484008527.719028 INFO <runall>: Successful test\n",
      "1484008527.722037 INFO <runall>: Running test 3 of 12: P:0.100 I:0.010 D:0.0000 SP:10\n",
      "1484008527.726047 INFO <run>: Beginning test run for ManToAuto Start:12.0 SP:10.0\n",
      "1484008527.729056 INFO <setup_settings>: Setting PID Settings\n",
      "1484008529.567509 INFO <setup_test>: Setting agitation to AUTO 12 RPM and waiting 60 seconds\n",
      "1484008590.097123 INFO <setup_test>: Setting agitation to MAN at output (32.53) for PV (12 RPM)\n",
      "1484008595.418394 INFO <start_test>: Setting Agitation to 10 RPM\n",
      "1484008595.778749 INFO <wait_for_settle>: Waiting for PV to settle\n",
      "1484008728.884660 INFO <wait_for_min_time>: Waiting 46 seconds to finish test\n",
      "1484008776.007179 INFO <run>: Finished Test\n",
      "1484008776.008682 INFO <runall>: Successful test\n",
      "1484008776.010688 INFO <runall>: Running test 4 of 12: P:0.100 I:0.010 D:0.0000 SP:10\n",
      "1484008776.011691 INFO <run>: Beginning test run for AutoToAuto Start:12.0 SP:10.0\n",
      "1484008776.012695 INFO <setup_settings>: Setting PID Settings\n",
      "1484008777.835928 INFO <setup_test>: Setting agitation to AUTO 12 RPM and waiting 60 seconds\n",
      "1484008838.284701 INFO <start_test>: Setting Agitation to 10 RPM\n",
      "1484008838.513748 INFO <wait_for_settle>: Waiting for PV to settle\n",
      "1484008972.162178 INFO <wait_for_min_time>: Waiting 46 seconds to finish test\n",
      "1484009018.774049 INFO <run>: Finished Test\n",
      "1484009018.776058 INFO <runall>: Successful test\n",
      "1484009018.778073 INFO <runall>: Running test 5 of 12: P:0.100 I:0.010 D:0.0000 SP:12\n",
      "1484009018.780070 INFO <run>: Beginning test run for ManToAuto Start:14.0 SP:12.0\n",
      "1484009018.789102 INFO <setup_settings>: Setting PID Settings\n",
      "1484009020.692352 INFO <setup_test>: Setting agitation to AUTO 14 RPM and waiting 60 seconds\n",
      "1484009081.263213 INFO <setup_test>: Setting agitation to MAN at output (38.51) for PV (14 RPM)\n",
      "1484009086.503978 INFO <start_test>: Setting Agitation to 12 RPM\n",
      "1484009086.781604 INFO <wait_for_settle>: Waiting for PV to settle\n",
      "1484009221.160904 INFO <wait_for_min_time>: Waiting 45 seconds to finish test\n",
      "1484009266.722147 INFO <run>: Finished Test\n",
      "1484009266.723487 INFO <runall>: Successful test\n",
      "1484009266.726662 INFO <runall>: Running test 6 of 12: P:0.100 I:0.010 D:0.0000 SP:12\n",
      "1484009266.730184 INFO <run>: Beginning test run for AutoToAuto Start:14.0 SP:12.0\n",
      "1484009266.738239 INFO <setup_settings>: Setting PID Settings\n",
      "1484009268.630363 INFO <setup_test>: Setting agitation to AUTO 14 RPM and waiting 60 seconds\n",
      "1484009329.169836 INFO <start_test>: Setting Agitation to 12 RPM\n",
      "1484009329.391591 INFO <wait_for_settle>: Waiting for PV to settle\n",
      "1484009463.588179 INFO <wait_for_min_time>: Waiting 45 seconds to finish test\n",
      "1484009509.478400 INFO <run>: Finished Test\n",
      "1484009509.480389 INFO <runall>: Successful test\n",
      "1484009509.483392 INFO <runall>: Running test 7 of 12: P:0.100 I:0.010 D:0.0000 SP:10\n",
      "1484009509.486399 INFO <run>: Beginning test run for ManToAuto Start:8.0 SP:10.0\n",
      "1484009509.492773 INFO <setup_settings>: Setting PID Settings\n",
      "1484009511.150163 INFO <setup_test>: Setting agitation to AUTO 8 RPM and waiting 60 seconds\n"
     ]
    },
    {
     "name": "stderr",
     "output_type": "stream",
     "text": [
      "=====================================\n",
      "ERROR OCCURRED DURING REQUEST\n",
      "IPV4 ADDRESS: 71.189.82.196:85\n",
      "REQUESTED URL: </webservice/interface/?&call=getMainValues&json=true>\n",
      "MESSAGE: ConnectionError(('Connection aborted.', RemoteDisconnected('Remote end closed connection without response',)))\n",
      "=====================================\n"
     ]
    },
    {
     "name": "stdout",
     "output_type": "stream",
     "text": [
      "1484009572.556858 INFO <setup_test>: Setting agitation to MAN at output (21.50) for PV (8 RPM)\n",
      "1484009577.928722 INFO <start_test>: Setting Agitation to 10 RPM\n",
      "1484009578.296713 INFO <wait_for_settle>: Waiting for PV to settle\n",
      "1484009713.725952 INFO <wait_for_min_time>: Waiting 44 seconds to finish test\n",
      "1484009758.016217 INFO <run>: Finished Test\n",
      "1484009758.019218 INFO <runall>: Successful test\n",
      "1484009758.022225 INFO <runall>: Running test 8 of 12: P:0.100 I:0.010 D:0.0000 SP:10\n",
      "1484009758.024231 INFO <run>: Beginning test run for AutoToAuto Start:8.0 SP:10.0\n",
      "1484009758.027243 INFO <setup_settings>: Setting PID Settings\n",
      "1484009759.855931 INFO <setup_test>: Setting agitation to AUTO 8 RPM and waiting 60 seconds\n",
      "1484009820.414802 INFO <start_test>: Setting Agitation to 10 RPM\n",
      "1484009820.724529 INFO <wait_for_settle>: Waiting for PV to settle\n",
      "1484009956.933426 INFO <wait_for_min_time>: Waiting 43 seconds to finish test\n",
      "1484010000.773858 INFO <run>: Finished Test\n",
      "1484010000.775673 INFO <runall>: Successful test\n",
      "1484010000.777655 INFO <runall>: Running test 9 of 12: P:0.100 I:0.010 D:0.0000 SP:12\n",
      "1484010000.779655 INFO <run>: Beginning test run for ManToAuto Start:10.0 SP:12.0\n",
      "1484010000.788681 INFO <setup_settings>: Setting PID Settings\n",
      "1484010002.583775 INFO <setup_test>: Setting agitation to AUTO 10 RPM and waiting 60 seconds\n",
      "1484010063.193079 INFO <setup_test>: Setting agitation to MAN at output (27.37) for PV (10 RPM)\n",
      "1484010069.013288 INFO <start_test>: Setting Agitation to 12 RPM\n",
      "1484010069.263209 INFO <wait_for_settle>: Waiting for PV to settle\n",
      "1484010205.201161 INFO <wait_for_min_time>: Waiting 43 seconds to finish test\n",
      "1484010249.181914 INFO <run>: Finished Test\n",
      "1484010249.183678 INFO <runall>: Successful test\n",
      "1484010249.184676 INFO <runall>: Running test 10 of 12: P:0.100 I:0.010 D:0.0000 SP:12\n",
      "1484010249.186682 INFO <run>: Beginning test run for AutoToAuto Start:10.0 SP:12.0\n",
      "1484010249.188688 INFO <setup_settings>: Setting PID Settings\n",
      "1484010250.963188 INFO <setup_test>: Setting agitation to AUTO 10 RPM and waiting 60 seconds\n"
     ]
    },
    {
     "name": "stderr",
     "output_type": "stream",
     "text": [
      "=====================================\n",
      "ERROR OCCURRED DURING REQUEST\n",
      "IPV4 ADDRESS: 71.189.82.196:85\n",
      "REQUESTED URL: </webservice/interface/?&call=getMainValues&json=true>\n",
      "MESSAGE: ConnectionError(('Connection aborted.', RemoteDisconnected('Remote end closed connection without response',)))\n",
      "=====================================\n"
     ]
    },
    {
     "name": "stdout",
     "output_type": "stream",
     "text": [
      "1484010312.290237 INFO <start_test>: Setting Agitation to 12 RPM\n",
      "1484010312.520483 INFO <wait_for_settle>: Waiting for PV to settle\n",
      "1484010447.683246 INFO <wait_for_min_time>: Waiting 44 seconds to finish test\n",
      "1484010492.668985 INFO <run>: Finished Test\n",
      "1484010492.671012 INFO <runall>: Successful test\n",
      "1484010492.673982 INFO <runall>: Running test 11 of 12: P:0.100 I:0.010 D:0.0000 SP:14\n",
      "1484010492.676027 INFO <run>: Beginning test run for ManToAuto Start:12.0 SP:14.0\n",
      "1484010492.678030 INFO <setup_settings>: Setting PID Settings\n",
      "1484010494.399495 INFO <setup_test>: Setting agitation to AUTO 12 RPM and waiting 60 seconds\n",
      "1484010555.208183 INFO <setup_test>: Setting agitation to MAN at output (32.48) for PV (12 RPM)\n",
      "1484010560.440724 INFO <start_test>: Setting Agitation to 14 RPM\n",
      "1484010560.813377 INFO <wait_for_settle>: Waiting for PV to settle\n",
      "1484010694.977142 INFO <wait_for_min_time>: Waiting 45 seconds to finish test\n",
      "1484010740.616238 INFO <run>: Finished Test\n",
      "1484010740.617994 INFO <runall>: Successful test\n",
      "1484010740.619996 INFO <runall>: Running test 12 of 12: P:0.100 I:0.010 D:0.0000 SP:14\n",
      "1484010740.622001 INFO <run>: Beginning test run for AutoToAuto Start:12.0 SP:14.0\n",
      "1484010740.625009 INFO <setup_settings>: Setting PID Settings\n",
      "1484010743.086195 INFO <setup_test>: Setting agitation to AUTO 12 RPM and waiting 60 seconds\n",
      "1484010804.536052 INFO <start_test>: Setting Agitation to 14 RPM\n",
      "1484010804.836229 INFO <wait_for_settle>: Waiting for PV to settle\n",
      "1484010939.684439 INFO <wait_for_min_time>: Waiting 44 seconds to finish test\n",
      "1484010985.045991 INFO <run>: Finished Test\n",
      "1484010985.047998 INFO <runall>: Successful test\n",
      "1484010986.326309 INFO <plotall>: Copying test data to AgPIDTest 09-01-17 16-27.xlsx\n",
      "1484010986.327311 INFO <plotall>: Copying data for test 1 of 12\n",
      "1484010986.793051 INFO <plotall>: Success!\n",
      "1484010986.794053 INFO <plotall>: Copying data for test 2 of 12\n",
      "1484010987.004112 INFO <plotall>: Success!\n",
      "1484010987.005114 INFO <plotall>: Copying data for test 3 of 12\n",
      "1484010987.050234 INFO <plotall>: Success!\n",
      "1484010987.051237 INFO <plotall>: Copying data for test 4 of 12\n",
      "1484010987.092356 INFO <plotall>: Success!\n",
      "1484010987.093360 INFO <plotall>: Copying data for test 5 of 12\n",
      "1484010987.134469 INFO <plotall>: Success!\n",
      "1484010987.135472 INFO <plotall>: Copying data for test 6 of 12\n",
      "1484010987.179614 INFO <plotall>: Success!\n",
      "1484010987.179614 INFO <plotall>: Copying data for test 7 of 12\n",
      "1484010987.218718 INFO <plotall>: Success!\n",
      "1484010987.219721 INFO <plotall>: Copying data for test 8 of 12\n",
      "1484010987.258328 INFO <plotall>: Success!\n",
      "1484010987.259331 INFO <plotall>: Copying data for test 9 of 12\n",
      "1484010987.302625 INFO <plotall>: Success!\n",
      "1484010987.303627 INFO <plotall>: Copying data for test 10 of 12\n",
      "1484010987.349755 INFO <plotall>: Success!\n",
      "1484010987.350255 INFO <plotall>: Copying data for test 11 of 12\n",
      "1484010987.389863 INFO <plotall>: Success!\n",
      "1484010987.389863 INFO <plotall>: Copying data for test 12 of 12\n",
      "1484010987.428968 INFO <plotall>: Success!\n",
      "1484010987.429970 INFO <plotall>: Done copying data for 12 tests.\n",
      "1484010987.641069 INFO <_init_chart>: Initializing chart\n"
     ]
    }
   ],
   "source": [
    "r = run_80Lothertests()"
   ]
  },
  {
   "cell_type": "code",
   "execution_count": null,
   "metadata": {
    "collapsed": false
   },
   "outputs": [
    {
     "name": "stdout",
     "output_type": "stream",
     "text": [
      "1484012759.590351 INFO <runall>: Running test 1 of 9: P:0.100 I:0.010 D:0.0000 SP:8\n",
      "1484012759.591352 INFO <run>: Beginning test run for None\n",
      "1484012759.593357 INFO <setup_settings>: Setting PID Settings\n",
      "1484012762.337810 INFO <setup_test>: Setting agitation to OFF and waiting 30 seconds\n",
      "1484012792.887480 INFO <start_test>: Setting Agitation to 8 RPM\n",
      "1484012793.207988 INFO <wait_for_settle>: Waiting for PV to settle\n"
     ]
    }
   ],
   "source": [
    "r=run_the80Lalreadyworks()"
   ]
  },
  {
   "cell_type": "code",
   "execution_count": null,
   "metadata": {
    "collapsed": true
   },
   "outputs": [],
   "source": []
  },
  {
   "cell_type": "code",
   "execution_count": 7,
   "metadata": {
    "collapsed": false
   },
   "outputs": [
    {
     "name": "stdout",
     "output_type": "stream",
     "text": [
      "1484012333.385233 INFO <runall>: Running test 1 of 1: P:0.100 I:0.010 D:0.0000 SP:55\n",
      "1484012333.391240 INFO <run>: Beginning test run for None\n",
      "1484012333.396253 INFO <setup_settings>: Setting PID Settings\n",
      "1484012366.351156 INFO <setup_test>: Setting agitation to MAN at output (40.83) for PV (15 RPM)\n",
      "1484012371.811032 INFO <wait_for_settle>: Waiting for PV to settle\n",
      "1484012551.919344 INFO <run>: Finished Test\n",
      "1484012551.922351 INFO <runall>: Successful test\n",
      "1484012552.713912 INFO <plotall>: Copying test data to test.xlsx\n",
      "1484012552.714914 INFO <plotall>: Copying data for test 1 of 1\n",
      "1484012553.409333 INFO <plotall>: Success!\n",
      "1484012553.410335 INFO <plotall>: Done copying data for 1 tests.\n",
      "1484012553.563277 INFO <_init_chart>: Initializing chart\n"
     ]
    },
    {
     "data": {
      "text/plain": [
       "<PIDRunner at 0x1c14f1cbcf8>"
      ]
     },
     "execution_count": 7,
     "metadata": {},
     "output_type": "execute_result"
    }
   ],
   "source": [
    "def test_mantoman(ip='71.189.82.196:85'):\n",
    "    p = 0.1\n",
    "    i = 0.01\n",
    "    d = 0\n",
    "    app = hello3.open_hello(ip)\n",
    "    tests = []\n",
    "    t = ManToManTest(p, i, d, 20 * 2.77, app, 15)\n",
    "    tests.append(t)\n",
    "    r = PIDRunner(tests, wb_name=\"test.xlsx\")\n",
    "    return runagpid(r)\n",
    "test_mantoman()"
   ]
  },
  {
   "cell_type": "code",
   "execution_count": null,
   "metadata": {
    "collapsed": true
   },
   "outputs": [],
   "source": [
    "app = hello3.open_hello('71.189.82.196:85')\n",
    "t = ManToManTest(0.1, 0.01, 0, 10, hello3.open_hello('71.'))"
   ]
  }
 ],
 "metadata": {
  "kernelspec": {
   "display_name": "Python 3",
   "language": "python",
   "name": "python3"
  },
  "language_info": {
   "codemirror_mode": {
    "name": "ipython",
    "version": 3
   },
   "file_extension": ".py",
   "mimetype": "text/x-python",
   "name": "python",
   "nbconvert_exporter": "python",
   "pygments_lexer": "ipython3",
   "version": "3.5.2"
  }
 },
 "nbformat": 4,
 "nbformat_minor": 1
}
