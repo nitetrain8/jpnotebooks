{
 "cells": [
  {
   "cell_type": "code",
   "execution_count": 4,
   "metadata": {
    "collapsed": true
   },
   "outputs": [],
   "source": [
    "from hello.hello3 import HelloApp, NotLoggedInError, BadError\n",
    "import time, datetime\n",
    "import requests"
   ]
  },
  {
   "cell_type": "code",
   "execution_count": 5,
   "metadata": {
    "collapsed": true
   },
   "outputs": [],
   "source": [
    "def wait1(s):\n",
    "    dend = (datetime.datetime.now() + datetime.timedelta(seconds=s)).strftime(\"%m/%d/%Y %I:%M:%S %p\")\n",
    "    print(\"Sleeping %d seconds, ending at %s\" %(s,dend))\n",
    "    start = time.time()\n",
    "    end = start + s\n",
    "    try:\n",
    "        while time.time() < end:\n",
    "            time.sleep(5)\n",
    "    except KeyboardInterrupt:\n",
    "        pass\n",
    "    \n",
    "def call(f, *args):\n",
    "    s = \"(\" + \", \".join(map(repr, args)) + \")\"\n",
    "    print(\"Calling %s%s\" % (f.__name__, s))\n",
    "    while True:\n",
    "        try:\n",
    "            rv = f(*args)\n",
    "        except NotLoggedInError:\n",
    "            h.login()\n",
    "        except requests.exceptions.ConnectTimeout as e:\n",
    "            print(str(e))\n",
    "            print(\"Make sure you're on the right network!\")\n",
    "        except (BadError, IOError) as e:\n",
    "            print(str(e))\n",
    "        else:\n",
    "            return rv\n",
    "        \n",
    "def startbatch(name):\n",
    "    if call(h.batchrunning):\n",
    "        call(h.endbatch)\n",
    "    return call(h.startbatch, name)\n",
    "\n",
    "def setdo(mode, n2_or_sp, o2=None):\n",
    "    call(h.setdo, mode, n2_or_sp,o2)\n",
    "    \n",
    "def doman(n2, o2):\n",
    "    setdo(1, n2, o2)\n",
    "    \n",
    "def doauto(sp):\n",
    "    setdo(0, sp)\n",
    "    \n",
    "def dooff():\n",
    "    setdo(2, 0, 0)\n",
    "        \n",
    "def endbatch():\n",
    "    call(h.endbatch)\n",
    "\n",
    "def wait2(s):\n",
    "    pass\n",
    "wait = wait1"
   ]
  },
  {
   "cell_type": "code",
   "execution_count": 7,
   "metadata": {
    "collapsed": false
   },
   "outputs": [
    {
     "name": "stdout",
     "output_type": "stream",
     "text": [
      "Calling setdo(2, 0, 0)\n",
      "Sleeping 36000 seconds, ending at 05/06/2017 04:02:38 AM\n",
      "Calling batchrunning()\n",
      "Calling startbatch('dopid 1.1')\n",
      "Calling setdo(0, 150, None)\n",
      "Sleeping 72000 seconds, ending at 05/07/2017 12:02:44 AM\n",
      "Calling endbatch()\n",
      "Calling batchrunning()\n",
      "Calling startbatch('dopid 1.2')\n",
      "Calling setdo(0, 100, None)\n",
      "Sleeping 72000 seconds, ending at 05/07/2017 08:02:50 PM\n",
      "Calling endbatch()\n",
      "Calling batchrunning()\n",
      "Calling startbatch('dopid 1.3')\n",
      "Calling setdo(0, 50, None)\n",
      "Sleeping 72000 seconds, ending at 05/08/2017 04:02:53 PM\n",
      "Calling endbatch()\n"
     ]
    }
   ],
   "source": [
    "h = HelloApp('71.189.82.196:85')\n",
    "wait = wait1\n",
    "dooff()\n",
    "wait(3600*10)\n",
    "startbatch(\"dopid 1.1\")\n",
    "doauto(150)\n",
    "wait(3600*20)\n",
    "endbatch()\n",
    "startbatch(\"dopid 1.2\")\n",
    "doauto(100)\n",
    "wait(3600*20)\n",
    "endbatch()\n",
    "startbatch(\"dopid 1.3\")\n",
    "doauto(50)\n",
    "wait(3600*20)\n",
    "endbatch()"
   ]
  },
  {
   "cell_type": "markdown",
   "metadata": {},
   "source": [
    "## Download the Spoils of War"
   ]
  },
  {
   "cell_type": "code",
   "execution_count": 11,
   "metadata": {
    "collapsed": false
   },
   "outputs": [],
   "source": [
    "h = HelloApp('71.189.82.196:85')\n",
    "p='C:\\\\PBSCloudStation\\\\(2) R&D-Product Engineering\\\\Software Development\\\\3.0 Project\\\\Phase 2 Working Copy\\\\PID Tuning\\\\DO\\\\Raw Data\\\\'\n",
    "def dl(bn):\n",
    "    b = call(h.getdatareport_bybatchname, bn)\n",
    "    with open(p+bn+\".csv\", 'wb') as f:\n",
    "        f.write(b)"
   ]
  },
  {
   "cell_type": "code",
   "execution_count": 12,
   "metadata": {
    "collapsed": false
   },
   "outputs": [
    {
     "name": "stdout",
     "output_type": "stream",
     "text": [
      "Calling getdatareport_bybatchname('dopid 1.1')\n",
      "Calling getdatareport_bybatchname('dopid 1.2')\n",
      "Calling getdatareport_bybatchname('dopid 1.3')\n"
     ]
    }
   ],
   "source": [
    "for i in (1,2,3):\n",
    "    dl(\"dopid 1.%d\"%i)"
   ]
  },
  {
   "cell_type": "markdown",
   "metadata": {},
   "source": [
    "## Analysis"
   ]
  },
  {
   "cell_type": "code",
   "execution_count": 13,
   "metadata": {
    "collapsed": true
   },
   "outputs": [],
   "source": [
    "files = [p + bn + '.csv' for bn in ['dopid 1.%d'%d for d in (1,2,3)]]"
   ]
  },
  {
   "cell_type": "code",
   "execution_count": 60,
   "metadata": {
    "collapsed": true
   },
   "outputs": [],
   "source": [
    "from officelib.xllib import *\n",
    "from officelib.const import xlconst as xlc\n",
    "\n",
    "\n",
    "def open_file(file):\n",
    "    global wb, ws, cells, cr\n",
    "    wb = xl.Workbooks.Open(file)\n",
    "    ws = wb.Worksheets(1)\n",
    "    cells = ws.Cells\n",
    "    cr = cells.Range\n",
    "\n",
    "def elform(c, ref):\n",
    "    a1 = c.GetAddress(0,0)\n",
    "    a2 = ref.GetAddress(1,1)\n",
    "    a3 = ref.Offset(0,2).GetAddress(1,1)\n",
    "    form = \"=(%s-%s)*%s\"%(a1, a2, a3)\n",
    "    return form\n",
    "    \n",
    "def mk_elapsed(c, ref, ins=True):\n",
    "    \n",
    "    if ins:\n",
    "        c.Offset(1,2).EntireColumn.Insert()\n",
    "    top = c.Offset(1,2)\n",
    "    bot = c.End(xlc.xlDown).Offset(1,2)\n",
    "    top.Value = elform(c, ref)\n",
    "    r = cr(top, bot)\n",
    "    top.AutoFill(r)\n",
    "    r.NumberFormat = \"0.00\"\n",
    "    \n",
    "def chart_rng(c):\n",
    "    x1 = c.Offset(1,2)\n",
    "    x2 = x1.End(xlc.xlDown)\n",
    "    y1 = c.Offset(1,3)\n",
    "    y2 = y1.End(xlc.xlDown)\n",
    "    return cr(x1, x2), cr(y1, y2)\n",
    "\n",
    "def mkch(c,v):\n",
    "    chart = CreateChart(ws, xlc.xlXYScatterLinesNoMarkers)\n",
    "    x, y = chart_rng(c)\n",
    "    CreateDataSeries(chart, x, y, v)\n",
    "    \n",
    "    \n",
    "def analyze():\n",
    "    global c1\n",
    "    c1 = cells.Find(\"DOPV(%)\")\n",
    "    ref = c1 = c1.Offset(2,1)\n",
    "    mk_elapsed(c1, ref)\n",
    "    ref.Offset(0, 2).Value = \"1440\"\n",
    "    mkch(c1,\"DOPV(%)\")\n",
    "    \n",
    "    for v in \"DON2FlowActualRequest(%)\", \"DOO2FlowControllerRequestLimited(%)\":\n",
    "        c = cells.Find(v).Offset(2,1)\n",
    "        mk_elapsed(c, ref)\n",
    "        mkch(c,v)\n",
    "        \n",
    "    "
   ]
  },
  {
   "cell_type": "code",
   "execution_count": 61,
   "metadata": {
    "collapsed": false
   },
   "outputs": [],
   "source": [
    "xl = Excel()\n",
    "open_file(files[0])\n",
    "analyze()"
   ]
  },
  {
   "cell_type": "code",
   "execution_count": 47,
   "metadata": {
    "collapsed": false
   },
   "outputs": [
    {
     "data": {
      "text/plain": [
       "'$BQ$2'"
      ]
     },
     "execution_count": 47,
     "metadata": {},
     "output_type": "execute_result"
    }
   ],
   "source": [
    "c1.Address"
   ]
  },
  {
   "cell_type": "code",
   "execution_count": null,
   "metadata": {
    "collapsed": true
   },
   "outputs": [],
   "source": []
  }
 ],
 "metadata": {
  "kernelspec": {
   "display_name": "Python 3",
   "language": "python",
   "name": "python3"
  },
  "language_info": {
   "codemirror_mode": {
    "name": "ipython",
    "version": 3
   },
   "file_extension": ".py",
   "mimetype": "text/x-python",
   "name": "python",
   "nbconvert_exporter": "python",
   "pygments_lexer": "ipython3",
   "version": "3.5.2"
  }
 },
 "nbformat": 4,
 "nbformat_minor": 1
}
