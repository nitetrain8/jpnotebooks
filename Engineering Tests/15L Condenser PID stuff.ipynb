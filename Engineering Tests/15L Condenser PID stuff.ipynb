{
 "cells": [
  {
   "cell_type": "code",
   "execution_count": 5,
   "metadata": {},
   "outputs": [],
   "source": [
    "from hello import hello_logger\n",
    "import os"
   ]
  },
  {
   "cell_type": "code",
   "execution_count": 17,
   "metadata": {
    "collapsed": true
   },
   "outputs": [],
   "source": [
    "keys = [\n",
    "    'condenser.output',\n",
    "    'condenser.pv',\n",
    "]"
   ]
  },
  {
   "cell_type": "code",
   "execution_count": 7,
   "metadata": {
    "collapsed": true
   },
   "outputs": [],
   "source": [
    "fp = 'C:\\\\Users\\\\natha\\\\Documents\\\\test'\n",
    "os.chdir(fp)"
   ]
  },
  {
   "cell_type": "code",
   "execution_count": 8,
   "metadata": {},
   "outputs": [],
   "source": [
    "fn = \"15L PID Test 2.csv\"\n",
    "h = hello_logger.HelloLogger('192.168.1.7', 10, fn, keys)\n",
    "h.start()"
   ]
  },
  {
   "cell_type": "code",
   "execution_count": 18,
   "metadata": {
    "collapsed": true
   },
   "outputs": [],
   "source": [
    "h.stop()"
   ]
  },
  {
   "cell_type": "markdown",
   "metadata": {},
   "source": [
    "### WIP analysis 15L with PID on"
   ]
  },
  {
   "cell_type": "code",
   "execution_count": 21,
   "metadata": {},
   "outputs": [],
   "source": [
    "from officelib.xllib import *\n",
    "from officelib.const import xlconst as xlc\n",
    "xl = Excel()\n",
    "xl.DisplayAlerts = False\n",
    "wb = xl.Workbooks.Open(fn)\n",
    "wb.SaveAs(fn.replace(\".csv\", \".xlsb\"), FileFormat=xlc.xlExcel12)\n",
    "ws = wb.Worksheets(1)\n",
    "cells = ws.Cells\n",
    "cr = cells.Range"
   ]
  },
  {
   "cell_type": "code",
   "execution_count": 23,
   "metadata": {
    "collapsed": true
   },
   "outputs": [],
   "source": [
    "def fixdata():\n",
    "    top = cr(\"A1\")\n",
    "    bot = top.End(xlc.xlDown)\n",
    "    bot = top.End(xlc.xlToRight).Offset(bot.Row, 1)\n",
    "\n",
    "    data = cr(top, bot).Value\n",
    "    from itertools import zip_longest\n",
    "    data = list(map(list, zip_longest(*data)))\n",
    "    rows = len(data[0])\n",
    "    cols = len(data)\n",
    "    for i in range(cols):\n",
    "        cdat = data[i]\n",
    "        for j in range(rows):\n",
    "            v = cdat[j]\n",
    "            if v in {None, \"\"}:\n",
    "                cdat[j] = cdat[j-1]\n",
    "    data = list(zip_longest(*data))\n",
    "    cr(top, bot).Value = data\n"
   ]
  },
  {
   "cell_type": "code",
   "execution_count": 24,
   "metadata": {},
   "outputs": [],
   "source": [
    "fixdata()"
   ]
  },
  {
   "cell_type": "code",
   "execution_count": 25,
   "metadata": {
    "collapsed": true
   },
   "outputs": [],
   "source": [
    "with screen_lock(xl):\n",
    "    for c in ws.Columns:\n",
    "        v = c.Cells(1,1).Value\n",
    "        if v is None:\n",
    "            break\n",
    "        elif v in {\"Time\", \"Elapsed\"}:\n",
    "            continue\n",
    "        elif \"condenser\" not in c.Cells(1,1).Value:\n",
    "            c.Hidden = True"
   ]
  },
  {
   "cell_type": "code",
   "execution_count": 26,
   "metadata": {},
   "outputs": [
    {
     "data": {
      "text/plain": [
       "True"
      ]
     },
     "execution_count": 26,
     "metadata": {},
     "output_type": "execute_result"
    }
   ],
   "source": [
    "op_top = cells.Find(\"condenser.output\")\n",
    "op_bot = op_top.End(xlc.xlDown)\n",
    "pv_top = cells.Find(\"condenser.pv\")\n",
    "pv_bot = pv_top.End(xlc.xlDown)\n",
    "\n",
    "el = cells.Find(\"Elapsed\")\n",
    "el.Offset(1,2).EntireColumn.Insert()\n",
    "el2 = el.Offset(2,2)\n",
    "el2.Value = \"=%s/3600\"%el.Offset(2,1).GetAddress(0,0)\n",
    "el_bot = el2.Offset(pv_bot.Row-pv_top.Row, 1)\n",
    "afr = cr(el2, el_bot)\n",
    "el2.AutoFill(afr)\n"
   ]
  },
  {
   "cell_type": "code",
   "execution_count": 27,
   "metadata": {
    "collapsed": true
   },
   "outputs": [],
   "source": [
    "chart = CreateChart(ws)\n",
    "chart.ChartStyle = 240\n",
    "CreateDataSeries(chart, cr(el2, el_bot), cr(pv_top, pv_bot), pv_top)\n",
    "CreateDataSeries(chart, cr(el2, el_bot), cr(op_top, op_bot), op_top).AxisGroup = xlc.xlSecondary"
   ]
  },
  {
   "cell_type": "code",
   "execution_count": 28,
   "metadata": {},
   "outputs": [],
   "source": [
    "xax = chart.Axes(xlc.xlCategory, xlc.xlPrimary)\n",
    "yax = chart.Axes(xlc.xlValue, xlc.xlPrimary)\n",
    "yax2 = chart.Axes(xlc.xlValue, xlc.xlSecondary)\n",
    "\n",
    "for ax in (xax, yax, yax2):\n",
    "    ax.HasTitle = True\n",
    "    \n",
    "xax.AxisTitle.Text = \"Time\"\n",
    "yax.AxisTitle.Text = \"Temp (C)\"\n",
    "yax2.AxisTitle.Text = \"Heat Duty (%)\""
   ]
  },
  {
   "cell_type": "code",
   "execution_count": null,
   "metadata": {
    "collapsed": true
   },
   "outputs": [],
   "source": []
  }
 ],
 "metadata": {
  "kernelspec": {
   "display_name": "Python 3",
   "language": "python",
   "name": "python3"
  },
  "language_info": {
   "codemirror_mode": {
    "name": "ipython",
    "version": 3
   },
   "file_extension": ".py",
   "mimetype": "text/x-python",
   "name": "python",
   "nbconvert_exporter": "python",
   "pygments_lexer": "ipython3",
   "version": "3.5.0"
  }
 },
 "nbformat": 4,
 "nbformat_minor": 2
}
