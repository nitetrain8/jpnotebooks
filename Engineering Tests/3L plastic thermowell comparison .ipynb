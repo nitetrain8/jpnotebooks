{
 "cells": [
  {
   "cell_type": "code",
   "execution_count": 1,
   "metadata": {
    "collapsed": true
   },
   "outputs": [],
   "source": [
    "from hello.hello3 import HelloApp, NotLoggedInError\n",
    "import datetime\n",
    "from hello import hello_logger\n",
    "import os\n",
    "import requests\n",
    "import time"
   ]
  },
  {
   "cell_type": "code",
   "execution_count": 2,
   "metadata": {
    "collapsed": true
   },
   "outputs": [],
   "source": [
    "# General functions\n",
    "\n",
    "def call(f, *a, _quiet=False, **k):\n",
    "    if not _quiet:\n",
    "        now = datetime.datetime.now().strftime(\"%H:%M:%S\")\n",
    "        s = \"(\" + \", \".join(map(repr, a)) + \")\"\n",
    "        print(\"%s Calling %s%s\" % (now, f.__name__, s))\n",
    "    while True:\n",
    "        try:\n",
    "            return f(*a, **k)\n",
    "        except NotLoggedInError:\n",
    "            h.login()\n",
    "        except requests.exceptions.Timeout as e:\n",
    "            print(\"Got timeout! Make sure you're on the right network!\")\n",
    "        except (BadError, IOError, requests.exceptions.ConnectionError) as e:\n",
    "            print(\"Error occurred:\", e.__class__)   \n",
    "        time.sleep(1)\n",
    "            \n",
    "def connect(ip, *args):\n",
    "    global h\n",
    "    h = HelloApp(ip, *args)\n",
    "    \n",
    "def dfmt(d):\n",
    "    return d.strftime(\"%m/%d/%Y %I:%M:%S %p\")\n",
    "    \n",
    "def wait1(s):\n",
    "    if s <= 0: return\n",
    "    dend = dfmt(datetime.datetime.now() + datetime.timedelta(seconds=s))\n",
    "    print(\"Sleeping %d seconds, ending at %s\" %(s,dend))\n",
    "    start = time.time()\n",
    "    end = start + s\n",
    "    while time.time() < end:\n",
    "        time.sleep(5)\n",
    "    \n",
    "def wait3(s, src):\n",
    "    start = datetime.datetime.now()\n",
    "    end = start + datetime.timedelta(seconds=s)\n",
    "    m1 = dfmt(start)\n",
    "    m2 = dfmt(end)\n",
    "    print(\"\\r(%s) Sleeping %d seconds from %s to %s          \" % (src, s, m1, m2), end=\"\")\n",
    "    tend = time.time() + s\n",
    "    while time.time() < tend:\n",
    "        time.sleep(5)\n",
    "    \n",
    "def wait2(s, *a, **kw):\n",
    "    pass\n",
    "wait = wait1"
   ]
  },
  {
   "cell_type": "code",
   "execution_count": 3,
   "metadata": {
    "collapsed": true
   },
   "outputs": [],
   "source": [
    "# Specific functions\n",
    "\n",
    "# globals\n",
    "logger = None\n",
    "_mv = None\n",
    "\n",
    "def setconfig(g, s, v):\n",
    "    call(h.setconfig, g, s, v)\n",
    "\n",
    "def getmv():\n",
    "    global _mv\n",
    "    _mv = call(h.gpmv, _quiet=True)\n",
    "    return _mv\n",
    "    \n",
    "def setup_controls(rpm=18):\n",
    "    setag(rpm)\n",
    "    call(h.setmg, 2, 0)\n",
    "    \n",
    "def setag(rpm):\n",
    "    call(h.setag, 0, rpm)\n",
    "    \n",
    "def settemp(t):\n",
    "    while True:\n",
    "        call(h.settemp, 0, t)\n",
    "        mv = getmv()\n",
    "        tm = mv['temperature']\n",
    "        if tm['sp'] == t and tm['mode'] == 0:\n",
    "            break\n",
    "        else:\n",
    "            print(\"Retrying call, failed to set temp\")\n",
    "    \n",
    "def tempoff():\n",
    "    call(h.settemp, 2, getmv()['temperature']['sp'])\n",
    "    \n",
    "def endbatch():\n",
    "    if call(h.batchrunning):\n",
    "        call(h.endbatch)\n",
    "    \n",
    "def startbatch(n):\n",
    "    endbatch()\n",
    "    call(h.startbatch, n)\n",
    "    \n",
    "def temppv():\n",
    "    return getmv()['temperature']['pv']\n",
    "    \n",
    "def waittemp_lower(t, timeout=8*3600):\n",
    "    waited = 0\n",
    "    while temppv() > t and (timeout<=0 or waited<timeout):\n",
    "        wait3(60, 'waittemp_lower')\n",
    "        waited += 60\n",
    "    print()\n",
    "    \n",
    "def waittemp_higher(t, timeout=8*3600):\n",
    "    waited = 0\n",
    "    while temppv() < t and (timeout<=0 or waited<timeout):\n",
    "        wait3(60, 'waittemp_higher')\n",
    "        waited += 60\n",
    "    print()  \n",
    "\n",
    "    \n",
    "def rampup(sp, pm=0.05, timeout=4*3600):\n",
    "    settemp(sp)\n",
    "    waittemp_higher(sp-pm, timeout)\n",
    "    \n",
    "def rampdown(sp, pm=0.0, timeout=10*3600):\n",
    "    tempoff()\n",
    "    waittemp_lower(sp+pm, timeout)\n",
    "    \n",
    "def newbatch(i, j):\n",
    "    startbatch(batch_tmpl%(i,j))"
   ]
  },
  {
   "cell_type": "code",
   "execution_count": 4,
   "metadata": {
    "collapsed": true
   },
   "outputs": [],
   "source": [
    "def setup_logger(interval=10):\n",
    "    global logger\n",
    "    keys = [\n",
    "        'temperature.pv',\n",
    "        'condenser.pv',\n",
    "        'agitation.pv',\n",
    "#         'MFCs.air',\n",
    "#         'MFCs.n2',\n",
    "#         'MFCs.o2',\n",
    "#         'MFCs.co2',\n",
    "        'level.pv',\n",
    "    ]\n",
    "    if logger is not None:\n",
    "        logger.stop()\n",
    "    logger = hello_logger.HelloLogger(h, interval, None, keys)\n",
    "    logger.start()\n",
    "    \n",
    "def logfile(fn):\n",
    "    print(\"Creating new file: %r\"%fn)\n",
    "    logger.new_file(fn)\n",
    "    \n",
    "def endlog():\n",
    "    logger.new_file(None)"
   ]
  },
  {
   "cell_type": "code",
   "execution_count": 5,
   "metadata": {
    "collapsed": true
   },
   "outputs": [],
   "source": [
    "def ntests(n):\n",
    "    return range(1,n+1)"
   ]
  },
  {
   "cell_type": "markdown",
   "metadata": {},
   "source": [
    "### Test Utilities"
   ]
  },
  {
   "cell_type": "code",
   "execution_count": 6,
   "metadata": {
    "collapsed": true
   },
   "outputs": [],
   "source": [
    "fn_tmpl = \"Temp thermowell test %s %s %s.csv\"\n",
    "\n",
    "def new_file(typ, name):\n",
    "    logfile(fn_tmpl% (typ, name, bt()))\n",
    "\n",
    "def dotest(mg, o2, i):\n",
    "    new_file(\"rampdown\", i)\n",
    "    rampdown(mg)\n",
    "    endlog()\n",
    "    flushheadspace('air')\n",
    "    new_file(\"rampup\", i)\n",
    "    rampup(mg, o2)\n",
    "    endlog()\n",
    "    dooff()\n",
    "    \n",
    "def temptest(name, i):\n",
    "    new_file(name, i)\n",
    "    rampup(32)\n",
    "    wait(2*3600)\n",
    "    rampup(37)\n",
    "    wait(2*3600)\n",
    "    endlog()\n",
    "    tempoff()\n",
    "    \n",
    "def temptest2(name, i):\n",
    "    new_file(name, i)\n",
    "    rampup(37)\n",
    "    wait(2*3600)\n",
    "    endlog()\n",
    "    tempoff()\n",
    "    \n",
    "def bt(): \n",
    "    return datetime.datetime.now().strftime(\"%y%m%d\")\n",
    "\n",
    "def mkfldr(p):\n",
    "    path = \"C:\\\\Users\\\\natha\\\\Documents\\\\test\\\\\"+p\n",
    "    os.makedirs(path, exist_ok=True)\n",
    "    os.chdir(path)\n",
    "    \n",
    "def chd(p):\n",
    "    os.chdir(\"C:\\\\Users\\\\natha\\\\Documents\\\\test\\\\\"+p)"
   ]
  },
  {
   "cell_type": "markdown",
   "metadata": {},
   "source": [
    "### Pre-Test Setup"
   ]
  },
  {
   "cell_type": "code",
   "execution_count": null,
   "metadata": {},
   "outputs": [
    {
     "name": "stdout",
     "output_type": "stream",
     "text": [
      "12:42:09 Calling setag(0, 18)\n",
      "12:42:12 Calling setmg(2, 0)\n",
      "Sleeping 36000 seconds, ending at 09/10/2018 10:42:13 PM\n"
     ]
    }
   ],
   "source": [
    "connect('192.168.1.14')\n",
    "setup_controls(18)\n",
    "wait(10*3600)\n",
    "setup_logger()\n",
    "mkfldr(\"Plastic Thermowell Test\")\n",
    "temptest2(\"Ramp Test\", 1)    "
   ]
  },
  {
   "cell_type": "code",
   "execution_count": null,
   "metadata": {
    "collapsed": true
   },
   "outputs": [],
   "source": [
    "connect('192.168.1.81')\n",
    "setup_controls(32)\n",
    "setup_logger()\n",
    "wait(10*60)\n",
    "mkfldr(\"Sam Thermowell Test\")\n",
    "temptest2(\"Ramp Test RT to 37\", 1)    "
   ]
  },
  {
   "cell_type": "code",
   "execution_count": 7,
   "metadata": {
    "scrolled": false
   },
   "outputs": [
    {
     "name": "stdout",
     "output_type": "stream",
     "text": [
      "11:59:41 Calling setag(0, 32)\n",
      "11:59:44 Calling setmg(2, 0)\n",
      "Creating new file: 'Temp thermowell test Ramp Test RT to 37 1 170831.csv'\n",
      "11:59:45 Calling settemp(0, 37)\n",
      "(waittemp_higher) Sleeping 60 seconds from 08/31/2017 02:11:05 PM to 08/31/2017 02:12:05 PM          \n",
      "Sleeping 7200 seconds, ending at 08/31/2017 04:12:06 PM\n",
      "16:12:10 Calling settemp(2, 37)\n"
     ]
    },
    {
     "ename": "NameError",
     "evalue": "name 'BadError' is not defined",
     "output_type": "error",
     "traceback": [
      "\u001b[1;31m---------------------------------------------------------------------------\u001b[0m",
      "\u001b[1;31mServerCallError\u001b[0m                           Traceback (most recent call last)",
      "\u001b[1;32m<ipython-input-2-08200306a4fd>\u001b[0m in \u001b[0;36mcall\u001b[1;34m(f, _quiet, *a, **k)\u001b[0m\n\u001b[0;32m      9\u001b[0m         \u001b[1;32mtry\u001b[0m\u001b[1;33m:\u001b[0m\u001b[1;33m\u001b[0m\u001b[0m\n\u001b[1;32m---> 10\u001b[1;33m             \u001b[1;32mreturn\u001b[0m \u001b[0mf\u001b[0m\u001b[1;33m(\u001b[0m\u001b[1;33m*\u001b[0m\u001b[0ma\u001b[0m\u001b[1;33m,\u001b[0m \u001b[1;33m**\u001b[0m\u001b[0mk\u001b[0m\u001b[1;33m)\u001b[0m\u001b[1;33m\u001b[0m\u001b[0m\n\u001b[0m\u001b[0;32m     11\u001b[0m         \u001b[1;32mexcept\u001b[0m \u001b[0mNotLoggedInError\u001b[0m\u001b[1;33m:\u001b[0m\u001b[1;33m\u001b[0m\u001b[0m\n",
      "\u001b[1;32m~\\Documents\\Dropbox\\Python\\hello\\hello3.py\u001b[0m in \u001b[0;36msettemp\u001b[1;34m(self, mode, val)\u001b[0m\n\u001b[0;32m    550\u001b[0m         \u001b[0mrsp\u001b[0m \u001b[1;33m=\u001b[0m \u001b[0mself\u001b[0m\u001b[1;33m.\u001b[0m\u001b[0msend_request\u001b[0m\u001b[1;33m(\u001b[0m\u001b[0mquery\u001b[0m\u001b[1;33m)\u001b[0m\u001b[1;33m\u001b[0m\u001b[0m\n\u001b[1;32m--> 551\u001b[1;33m         \u001b[1;32mreturn\u001b[0m \u001b[0mself\u001b[0m\u001b[1;33m.\u001b[0m\u001b[0m_validate_rsp\u001b[0m\u001b[1;33m(\u001b[0m\u001b[0mrsp\u001b[0m\u001b[1;33m,\u001b[0m \u001b[1;32mFalse\u001b[0m\u001b[1;33m)\u001b[0m\u001b[1;33m\u001b[0m\u001b[0m\n\u001b[0m\u001b[0;32m    552\u001b[0m \u001b[1;33m\u001b[0m\u001b[0m\n",
      "\u001b[1;32m~\\Documents\\Dropbox\\Python\\hello\\hello3.py\u001b[0m in \u001b[0;36m_validate_rsp\u001b[1;34m(self, rsp, json)\u001b[0m\n\u001b[0;32m    260\u001b[0m             \u001b[0mdata\u001b[0m \u001b[1;33m=\u001b[0m \u001b[0mHelloXML\u001b[0m\u001b[1;33m(\u001b[0m\u001b[0mrsp\u001b[0m\u001b[1;33m)\u001b[0m\u001b[1;33m\u001b[0m\u001b[0m\n\u001b[1;32m--> 261\u001b[1;33m             \u001b[1;32mreturn\u001b[0m \u001b[0mself\u001b[0m\u001b[1;33m.\u001b[0m\u001b[0m_verify_xml\u001b[0m\u001b[1;33m(\u001b[0m\u001b[0mdata\u001b[0m\u001b[1;33m)\u001b[0m\u001b[1;33m\u001b[0m\u001b[0m\n\u001b[0m\u001b[0;32m    262\u001b[0m \u001b[1;33m\u001b[0m\u001b[0m\n",
      "\u001b[1;32m~\\Documents\\Dropbox\\Python\\hello\\hello3.py\u001b[0m in \u001b[0;36m_verify_xml\u001b[1;34m(self, xml)\u001b[0m\n\u001b[0;32m    264\u001b[0m         \u001b[1;32mif\u001b[0m \u001b[1;32mnot\u001b[0m \u001b[0mxml\u001b[0m\u001b[1;33m.\u001b[0m\u001b[0mresult\u001b[0m\u001b[1;33m:\u001b[0m\u001b[1;33m\u001b[0m\u001b[0m\n\u001b[1;32m--> 265\u001b[1;33m             \u001b[1;32mraise\u001b[0m \u001b[0mself\u001b[0m\u001b[1;33m.\u001b[0m\u001b[0m_verify_fail\u001b[0m\u001b[1;33m(\u001b[0m\u001b[0mxml\u001b[0m\u001b[1;33m.\u001b[0m\u001b[0mdata\u001b[0m\u001b[1;33m)\u001b[0m\u001b[1;33m\u001b[0m\u001b[0m\n\u001b[0m\u001b[0;32m    266\u001b[0m         \u001b[1;32mreturn\u001b[0m \u001b[0mxml\u001b[0m\u001b[1;33m\u001b[0m\u001b[0m\n",
      "\u001b[1;31mServerCallError\u001b[0m: Cannot perform call set - user  is missing the following permissions: Hello Access, Controls, Remote Access\nCustom Error Message.vi->Determine User Permission for Call.vi->Webservice Command Handler.vi->PBS_WebServer.vi->PBS_WebServer.vi.ProxyCaller 5033",
      "\nDuring handling of the above exception, another exception occurred:\n",
      "\u001b[1;31mNameError\u001b[0m                                 Traceback (most recent call last)",
      "\u001b[1;32m<ipython-input-7-11c39c28c49d>\u001b[0m in \u001b[0;36m<module>\u001b[1;34m()\u001b[0m\n\u001b[0;32m      4\u001b[0m \u001b[1;31m#wait(10*60)\u001b[0m\u001b[1;33m\u001b[0m\u001b[1;33m\u001b[0m\u001b[0m\n\u001b[0;32m      5\u001b[0m \u001b[0mmkfldr\u001b[0m\u001b[1;33m(\u001b[0m\u001b[1;34m\"Server Test\"\u001b[0m\u001b[1;33m)\u001b[0m\u001b[1;33m\u001b[0m\u001b[0m\n\u001b[1;32m----> 6\u001b[1;33m \u001b[0mtemptest2\u001b[0m\u001b[1;33m(\u001b[0m\u001b[1;34m\"Ramp Test RT to 37\"\u001b[0m\u001b[1;33m,\u001b[0m \u001b[1;36m1\u001b[0m\u001b[1;33m)\u001b[0m\u001b[1;33m\u001b[0m\u001b[0m\n\u001b[0m",
      "\u001b[1;32m<ipython-input-6-ae48a8d7b850>\u001b[0m in \u001b[0;36mtemptest2\u001b[1;34m(name, i)\u001b[0m\n\u001b[0;32m     28\u001b[0m     \u001b[0mwait\u001b[0m\u001b[1;33m(\u001b[0m\u001b[1;36m2\u001b[0m\u001b[1;33m*\u001b[0m\u001b[1;36m3600\u001b[0m\u001b[1;33m)\u001b[0m\u001b[1;33m\u001b[0m\u001b[0m\n\u001b[0;32m     29\u001b[0m     \u001b[0mendlog\u001b[0m\u001b[1;33m(\u001b[0m\u001b[1;33m)\u001b[0m\u001b[1;33m\u001b[0m\u001b[0m\n\u001b[1;32m---> 30\u001b[1;33m     \u001b[0mtempoff\u001b[0m\u001b[1;33m(\u001b[0m\u001b[1;33m)\u001b[0m\u001b[1;33m\u001b[0m\u001b[0m\n\u001b[0m\u001b[0;32m     31\u001b[0m \u001b[1;33m\u001b[0m\u001b[0m\n\u001b[0;32m     32\u001b[0m \u001b[1;32mdef\u001b[0m \u001b[0mbt\u001b[0m\u001b[1;33m(\u001b[0m\u001b[1;33m)\u001b[0m\u001b[1;33m:\u001b[0m\u001b[1;33m\u001b[0m\u001b[0m\n",
      "\u001b[1;32m<ipython-input-3-187778990c17>\u001b[0m in \u001b[0;36mtempoff\u001b[1;34m()\u001b[0m\n\u001b[0;32m     31\u001b[0m \u001b[1;33m\u001b[0m\u001b[0m\n\u001b[0;32m     32\u001b[0m \u001b[1;32mdef\u001b[0m \u001b[0mtempoff\u001b[0m\u001b[1;33m(\u001b[0m\u001b[1;33m)\u001b[0m\u001b[1;33m:\u001b[0m\u001b[1;33m\u001b[0m\u001b[0m\n\u001b[1;32m---> 33\u001b[1;33m     \u001b[0mcall\u001b[0m\u001b[1;33m(\u001b[0m\u001b[0mh\u001b[0m\u001b[1;33m.\u001b[0m\u001b[0msettemp\u001b[0m\u001b[1;33m,\u001b[0m \u001b[1;36m2\u001b[0m\u001b[1;33m,\u001b[0m \u001b[0mgetmv\u001b[0m\u001b[1;33m(\u001b[0m\u001b[1;33m)\u001b[0m\u001b[1;33m[\u001b[0m\u001b[1;34m'temperature'\u001b[0m\u001b[1;33m]\u001b[0m\u001b[1;33m[\u001b[0m\u001b[1;34m'sp'\u001b[0m\u001b[1;33m]\u001b[0m\u001b[1;33m)\u001b[0m\u001b[1;33m\u001b[0m\u001b[0m\n\u001b[0m\u001b[0;32m     34\u001b[0m \u001b[1;33m\u001b[0m\u001b[0m\n\u001b[0;32m     35\u001b[0m \u001b[1;32mdef\u001b[0m \u001b[0mendbatch\u001b[0m\u001b[1;33m(\u001b[0m\u001b[1;33m)\u001b[0m\u001b[1;33m:\u001b[0m\u001b[1;33m\u001b[0m\u001b[0m\n",
      "\u001b[1;32m<ipython-input-2-08200306a4fd>\u001b[0m in \u001b[0;36mcall\u001b[1;34m(f, _quiet, *a, **k)\u001b[0m\n\u001b[0;32m     13\u001b[0m         \u001b[1;32mexcept\u001b[0m \u001b[0mrequests\u001b[0m\u001b[1;33m.\u001b[0m\u001b[0mexceptions\u001b[0m\u001b[1;33m.\u001b[0m\u001b[0mTimeout\u001b[0m \u001b[1;32mas\u001b[0m \u001b[0me\u001b[0m\u001b[1;33m:\u001b[0m\u001b[1;33m\u001b[0m\u001b[0m\n\u001b[0;32m     14\u001b[0m             \u001b[0mprint\u001b[0m\u001b[1;33m(\u001b[0m\u001b[1;34m\"Got timeout! Make sure you're on the right network!\"\u001b[0m\u001b[1;33m)\u001b[0m\u001b[1;33m\u001b[0m\u001b[0m\n\u001b[1;32m---> 15\u001b[1;33m         \u001b[1;32mexcept\u001b[0m \u001b[1;33m(\u001b[0m\u001b[0mBadError\u001b[0m\u001b[1;33m,\u001b[0m \u001b[0mIOError\u001b[0m\u001b[1;33m,\u001b[0m \u001b[0mrequests\u001b[0m\u001b[1;33m.\u001b[0m\u001b[0mexceptions\u001b[0m\u001b[1;33m.\u001b[0m\u001b[0mConnectionError\u001b[0m\u001b[1;33m)\u001b[0m \u001b[1;32mas\u001b[0m \u001b[0me\u001b[0m\u001b[1;33m:\u001b[0m\u001b[1;33m\u001b[0m\u001b[0m\n\u001b[0m\u001b[0;32m     16\u001b[0m             \u001b[0mprint\u001b[0m\u001b[1;33m(\u001b[0m\u001b[1;34m\"Error occurred:\"\u001b[0m\u001b[1;33m,\u001b[0m \u001b[0me\u001b[0m\u001b[1;33m.\u001b[0m\u001b[0m__class__\u001b[0m\u001b[1;33m)\u001b[0m\u001b[1;33m\u001b[0m\u001b[0m\n\u001b[0;32m     17\u001b[0m         \u001b[0mtime\u001b[0m\u001b[1;33m.\u001b[0m\u001b[0msleep\u001b[0m\u001b[1;33m(\u001b[0m\u001b[1;36m1\u001b[0m\u001b[1;33m)\u001b[0m\u001b[1;33m\u001b[0m\u001b[0m\n",
      "\u001b[1;31mNameError\u001b[0m: name 'BadError' is not defined"
     ]
    }
   ],
   "source": [
    "connect('192.168.1.17')\n",
    "setup_controls(32)\n",
    "setup_logger()\n",
    "#wait(10*60)\n",
    "mkfldr(\"Server Test\")\n",
    "temptest2(\"Ramp Test RT to 37\", 1)    "
   ]
  },
  {
   "cell_type": "code",
   "execution_count": null,
   "metadata": {
    "collapsed": true
   },
   "outputs": [],
   "source": []
  }
 ],
 "metadata": {
  "kernelspec": {
   "display_name": "Python 3",
   "language": "python",
   "name": "python3"
  },
  "language_info": {
   "codemirror_mode": {
    "name": "ipython",
    "version": 3
   },
   "file_extension": ".py",
   "mimetype": "text/x-python",
   "name": "python",
   "nbconvert_exporter": "python",
   "pygments_lexer": "ipython3",
   "version": "3.5.0"
  }
 },
 "nbformat": 4,
 "nbformat_minor": 2
}
