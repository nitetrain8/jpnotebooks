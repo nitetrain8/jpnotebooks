{
 "cells": [
  {
   "cell_type": "code",
   "execution_count": 8,
   "metadata": {
    "collapsed": true
   },
   "outputs": [],
   "source": [
    "from hello.hello3 import HelloApp, NotLoggedInError, BadError\n",
    "import time, datetime\n",
    "import requests"
   ]
  },
  {
   "cell_type": "code",
   "execution_count": 9,
   "metadata": {
    "collapsed": true
   },
   "outputs": [],
   "source": [
    "def wait(s):\n",
    "    dend = (datetime.datetime.now() + datetime.timedelta(seconds=s)).strftime(\"%m/%d/%Y %I:%M:%S %p\")\n",
    "    print(\"Sleeping %d seconds, ending at %s\" %(s,dend))\n",
    "    start = time.time()\n",
    "    end = start + s\n",
    "    try:\n",
    "        while time.time() < end:\n",
    "            time.sleep(5)\n",
    "    except KeyboardInterrupt:\n",
    "        pass"
   ]
  },
  {
   "cell_type": "code",
   "execution_count": 10,
   "metadata": {
    "collapsed": true
   },
   "outputs": [],
   "source": [
    "def call(f, *args):\n",
    "    s = \"(\" + \", \".join(map(repr, args)) + \")\"\n",
    "    print(\"Calling %s%s\" % (f.__name__, s))\n",
    "    while True:\n",
    "        try:\n",
    "            rv = f(*args)\n",
    "        except NotLoggedInError:\n",
    "            h.login()\n",
    "        except requests.exceptions.ConnectTimeout as e:\n",
    "            print(str(e))\n",
    "            print(\"Make sure you're on the right network!\")\n",
    "        except (BadError, IOError) as e:\n",
    "            print(str(e))\n",
    "        else:\n",
    "            return rv"
   ]
  },
  {
   "cell_type": "markdown",
   "metadata": {},
   "source": [
    "### Global functions and routines"
   ]
  },
  {
   "cell_type": "code",
   "execution_count": 11,
   "metadata": {
    "collapsed": true
   },
   "outputs": [],
   "source": [
    "def startbatch(name):\n",
    "    if call(h.batchrunning):\n",
    "        call(h.endbatch)\n",
    "    return call(h.startbatch, name)\n",
    "\n",
    "def settemp(sp):\n",
    "    if sp == 0:\n",
    "        call(h.settemp, 2, 37)\n",
    "    else:\n",
    "        call(h.settemp, 0, sp)\n",
    "        \n",
    "def endbatch():\n",
    "    call(h.endbatch)\n",
    "    \n",
    "def pid1():\n",
    "    call(h.setconfig, \"Temperature\", \"P_Gain_(%/C)\", 12)\n",
    "    call(h.setconfig, \"Temperature\", 'I_Time_(min)', 29)\n",
    "    \n",
    "def pid2():\n",
    "    call(h.setconfig, \"Temperature\", \"P_Gain_(%/C)\", 13)\n",
    "    call(h.setconfig, \"Temperature\", 'I_Time_(min)', 26)\n",
    "    \n",
    "def pid3():\n",
    "    call(h.setconfig, \"Temperature\", \"P_Gain_(%/C)\", 14)\n",
    "    call(h.setconfig, \"Temperature\", 'I_Time_(min)', 26)"
   ]
  },
  {
   "cell_type": "code",
   "execution_count": 12,
   "metadata": {
    "collapsed": true
   },
   "outputs": [],
   "source": [
    "h = HelloApp('192.168.1.21')"
   ]
  },
  {
   "cell_type": "markdown",
   "metadata": {},
   "source": [
    "### Round 2 Characterization Tests"
   ]
  },
  {
   "cell_type": "code",
   "execution_count": 10,
   "metadata": {
    "collapsed": false
   },
   "outputs": [
    {
     "name": "stdout",
     "output_type": "stream",
     "text": [
      "Calling batchrunning()\n",
      "Calling endbatch()\n",
      "Calling startbatch('tpid 1.28')\n",
      "Calling setconfig('Temperature', 'P_Gain_(%/C)', 12)\n",
      "Calling setconfig('Temperature', 'I_Time_(min)', 29)\n",
      "Calling settemp(0, 37)\n",
      "Sleeping 10800 seconds, ending at 21:15:47\n",
      "Calling endbatch()\n",
      "Calling settemp(2, 37)\n",
      "Sleeping 28800 seconds, ending at 05:15:49\n",
      "Calling batchrunning()\n",
      "Calling startbatch('tpid 1.29')\n",
      "Calling setconfig('Temperature', 'P_Gain_(%/C)', 13)\n",
      "Calling setconfig('Temperature', 'I_Time_(min)', 26)\n",
      "Calling settemp(0, 37)\n",
      "Sleeping 10800 seconds, ending at 08:15:55\n",
      "Calling endbatch()\n",
      "Calling settemp(2, 37)\n",
      "Sleeping 28800 seconds, ending at 16:15:58\n",
      "Calling batchrunning()\n",
      "Calling startbatch('tpid 1.30')\n",
      "Calling setconfig('Temperature', 'P_Gain_(%/C)', 14)\n",
      "Calling setconfig('Temperature', 'I_Time_(min)', 26)\n",
      "Calling settemp(0, 37)\n",
      "Sleeping 10800 seconds, ending at 19:16:04\n",
      "Calling endbatch()\n"
     ]
    }
   ],
   "source": [
    "hours = 3600\n",
    "startbatch(\"tpid 1.28\")\n",
    "pid1()\n",
    "settemp(37)\n",
    "wait(3*hours)\n",
    "endbatch()\n",
    "settemp(0)\n",
    "wait(8*hours)\n",
    "startbatch(\"tpid 1.29\")\n",
    "pid2()\n",
    "settemp(37)\n",
    "wait(3*hours)\n",
    "endbatch()\n",
    "settemp(0)\n",
    "wait(8*hours)\n",
    "startbatch(\"tpid 1.30\")\n",
    "pid3()\n",
    "settemp(37)\n",
    "wait(3*hours)\n",
    "endbatch()"
   ]
  },
  {
   "cell_type": "markdown",
   "metadata": {},
   "source": [
    "### Round 3 verification routines"
   ]
  },
  {
   "cell_type": "code",
   "execution_count": 13,
   "metadata": {
    "collapsed": false
   },
   "outputs": [],
   "source": [
    "def gbn(j=3, i=1):\n",
    "    def _gbn(x, n):\n",
    "        while True:\n",
    "            yield \"tpid v %d.%d\"%(x,n)\n",
    "            n += 1\n",
    "    return _gbn(j, i).__next__\n",
    "\n",
    "def mgbn(j):\n",
    "    global getbatchname\n",
    "    getbatchname = gbn(j, 1)\n",
    "mgbn(2)\n",
    "\n",
    "def tempoff():\n",
    "    settemp(0)\n",
    "    \n",
    "def sbgn():\n",
    "    startbatch(getbatchname())\n",
    "\n",
    "def o2a():\n",
    "    sbgn()\n",
    "    settemp(37)\n",
    "    wait(3*hours)\n",
    "    endbatch()\n",
    "    \n",
    "def cool():\n",
    "    tempoff()\n",
    "    wait(8*hours)\n",
    "    \n",
    "def a2a(end):\n",
    "    sbgn()\n",
    "    settemp(end)\n",
    "    wait(3*hours)\n",
    "    endbatch()\n",
    "\n",
    "def verify(pid):\n",
    "    print(\"Verifying settings\")\n",
    "    pid()\n",
    "    o2a()\n",
    "    a2a(35)\n",
    "    a2a(37)\n",
    "    \n",
    "def pid4():\n",
    "    call(h.setconfig, \"Temperature\", \"P_Gain_(%/C)\", 13)\n",
    "    call(h.setconfig, \"Temperature\", 'I_Time_(min)', 28) "
   ]
  },
  {
   "cell_type": "code",
   "execution_count": 27,
   "metadata": {
    "collapsed": false
   },
   "outputs": [
    {
     "name": "stdout",
     "output_type": "stream",
     "text": [
      "Sleeping 300 seconds, ending at 04/27/2017 01:17:56 PM\n",
      "Verifying settings\n",
      "Calling setconfig('Temperature', 'P_Gain_(%/C)', 14)\n",
      "Calling setconfig('Temperature', 'I_Time_(min)', 26)\n",
      "Calling batchrunning()\n",
      "Calling startbatch('tpid v 3.1')\n",
      "Calling settemp(0, 37)\n",
      "Sleeping 10800 seconds, ending at 04/27/2017 04:17:58 PM\n",
      "Calling endbatch()\n",
      "Calling batchrunning()\n",
      "Calling startbatch('tpid v 3.2')\n",
      "Calling settemp(0, 35)\n",
      "Sleeping 10800 seconds, ending at 04/27/2017 07:18:01 PM\n",
      "Calling endbatch()\n",
      "Calling batchrunning()\n",
      "Calling startbatch('tpid v 3.3')\n",
      "Calling settemp(0, 37)\n",
      "Sleeping 10800 seconds, ending at 04/27/2017 10:18:04 PM\n",
      "Calling endbatch()\n",
      "Calling settemp(2, 37)\n",
      "Sleeping 28800 seconds, ending at 04/28/2017 06:18:06 AM\n",
      "Verifying settings\n",
      "Calling setconfig('Temperature', 'P_Gain_(%/C)', 13)\n",
      "Calling setconfig('Temperature', 'I_Time_(min)', 28)\n",
      "Calling batchrunning()\n",
      "Calling startbatch('tpid v 4.1')\n",
      "Calling settemp(0, 37)\n",
      "Sleeping 10800 seconds, ending at 04/28/2017 09:18:12 AM\n",
      "Calling endbatch()\n",
      "Calling batchrunning()\n",
      "Calling startbatch('tpid v 4.2')\n",
      "Calling settemp(0, 35)\n",
      "Sleeping 10800 seconds, ending at 04/28/2017 12:18:15 PM\n",
      "Calling endbatch()\n",
      "Calling batchrunning()\n",
      "Calling startbatch('tpid v 4.3')\n",
      "Calling settemp(0, 37)\n",
      "Sleeping 10800 seconds, ending at 04/28/2017 03:18:18 PM\n",
      "Calling endbatch()\n",
      "Calling settemp(2, 37)\n"
     ]
    }
   ],
   "source": [
    "wait(300)\n",
    "mgbn(3)\n",
    "verify(pid3)\n",
    "cool()\n",
    "mgbn(4)\n",
    "verify(pid4)\n",
    "tempoff()"
   ]
  },
  {
   "cell_type": "code",
   "execution_count": 6,
   "metadata": {
    "collapsed": false
   },
   "outputs": [
    {
     "name": "stdout",
     "output_type": "stream",
     "text": [
      "1 14 26 0 Off RT 37 2.5 0\n",
      "2 14 26 0 Auto 37 35 2.5 0\n",
      "3 14 26 0 Auto 35 37 2.5 0\n",
      "4 13 28 0 Off RT 37 2.5 0\n",
      "5 13 28 0 Auto 37 35 2.5 0\n",
      "6 13 28 0 Auto 35 37 2.5 0\n"
     ]
    }
   ],
   "source": [
    "vol = 2.5\n",
    "beta = 0\n",
    "data = []\n",
    "def add(*args):\n",
    "    data.append(args)\n",
    "for p, i in ((14, 26), (13, 28)):\n",
    "    add(p, i, 0, \"Off\", \"RT\", 37, vol, beta)\n",
    "    add(p, i, 0, \"Auto\", 37, 35, vol, beta)\n",
    "    add(p, i, 0, \"Auto\", 35, 37, vol, beta)\n",
    "for i, args in enumerate(data, 1):\n",
    "    print(i, *args) #\"%d %d %d %s %s %d %d %d\"%args)"
   ]
  },
  {
   "cell_type": "code",
   "execution_count": 20,
   "metadata": {
    "collapsed": false
   },
   "outputs": [
    {
     "name": "stdout",
     "output_type": "stream",
     "text": [
      "Calling batchrunning()\n",
      "Calling endbatch()\n",
      "Calling startbatch('do 1.3')\n",
      "Calling setmg(1, 0.2)\n"
     ]
    },
    {
     "data": {
      "text/plain": [
       "<hello.hello3.HelloXML at 0x2277b888940>"
      ]
     },
     "execution_count": 20,
     "metadata": {},
     "output_type": "execute_result"
    }
   ],
   "source": [
    "startbatch(\"do 1.3\")\n",
    "call(h.setmg, 1, .2)"
   ]
  },
  {
   "cell_type": "code",
   "execution_count": null,
   "metadata": {
    "collapsed": true
   },
   "outputs": [],
   "source": []
  }
 ],
 "metadata": {
  "kernelspec": {
   "display_name": "Python 3",
   "language": "python",
   "name": "python3"
  },
  "language_info": {
   "codemirror_mode": {
    "name": "ipython",
    "version": 3
   },
   "file_extension": ".py",
   "mimetype": "text/x-python",
   "name": "python",
   "nbconvert_exporter": "python",
   "pygments_lexer": "ipython3",
   "version": "3.5.2"
  }
 },
 "nbformat": 4,
 "nbformat_minor": 1
}
