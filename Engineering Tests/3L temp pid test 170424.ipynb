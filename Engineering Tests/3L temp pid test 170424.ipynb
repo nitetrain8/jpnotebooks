{
 "cells": [
  {
   "cell_type": "code",
   "execution_count": 3,
   "metadata": {
    "collapsed": true
   },
   "outputs": [],
   "source": [
    "from hello.hello3 import HelloApp, NotLoggedInError, BadError\n",
    "import time, datetime\n",
    "import requests"
   ]
  },
  {
   "cell_type": "code",
   "execution_count": 8,
   "metadata": {
    "collapsed": true
   },
   "outputs": [],
   "source": [
    "def wait1(s):\n",
    "    dend = (datetime.datetime.now() + datetime.timedelta(seconds=s)).strftime(\"%m/%d/%Y %I:%M:%S %p\")\n",
    "    print(\"Sleeping %d seconds, ending at %s\" %(s,dend))\n",
    "    start = time.time()\n",
    "    end = start + s\n",
    "    try:\n",
    "        while time.time() < end:\n",
    "            time.sleep(5)\n",
    "    except KeyboardInterrupt:\n",
    "        pass\n",
    "    \n",
    "def wait2(s):\n",
    "    pass\n",
    "wait = wait1"
   ]
  },
  {
   "cell_type": "code",
   "execution_count": 5,
   "metadata": {
    "collapsed": true
   },
   "outputs": [],
   "source": [
    "def call(f, *args):\n",
    "    s = \"(\" + \", \".join(map(repr, args)) + \")\"\n",
    "    print(\"Calling %s%s\" % (f.__name__, s))\n",
    "    while True:\n",
    "        try:\n",
    "            rv = f(*args)\n",
    "        except NotLoggedInError:\n",
    "            h.login()\n",
    "        except requests.exceptions.ConnectTimeout as e:\n",
    "            print(str(e))\n",
    "            print(\"Make sure you're on the right network!\")\n",
    "        except (BadError, IOError) as e:\n",
    "            print(str(e))\n",
    "        else:\n",
    "            return rv"
   ]
  },
  {
   "cell_type": "markdown",
   "metadata": {},
   "source": [
    "### Global functions and routines"
   ]
  },
  {
   "cell_type": "code",
   "execution_count": 6,
   "metadata": {
    "collapsed": true
   },
   "outputs": [],
   "source": [
    "def startbatch(name):\n",
    "    if call(h.batchrunning):\n",
    "        call(h.endbatch)\n",
    "    return call(h.startbatch, name)\n",
    "\n",
    "def settemp(sp):\n",
    "    if sp == 0:\n",
    "        call(h.settemp, 2, 37)\n",
    "    else:\n",
    "        call(h.settemp, 0, sp)\n",
    "        \n",
    "def endbatch():\n",
    "    call(h.endbatch)\n",
    "    \n",
    "def pid1():\n",
    "    call(h.setconfig, \"Temperature\", \"P_Gain_(%/C)\", 12)\n",
    "    call(h.setconfig, \"Temperature\", 'I_Time_(min)', 29)\n",
    "    \n",
    "def pid2():\n",
    "    call(h.setconfig, \"Temperature\", \"P_Gain_(%/C)\", 13)\n",
    "    call(h.setconfig, \"Temperature\", 'I_Time_(min)', 26)\n",
    "    \n",
    "def pid3():\n",
    "    call(h.setconfig, \"Temperature\", \"P_Gain_(%/C)\", 14)\n",
    "    call(h.setconfig, \"Temperature\", 'I_Time_(min)', 26)"
   ]
  },
  {
   "cell_type": "code",
   "execution_count": 12,
   "metadata": {
    "collapsed": true
   },
   "outputs": [],
   "source": [
    "h = HelloApp('192.168.1.21')"
   ]
  },
  {
   "cell_type": "markdown",
   "metadata": {},
   "source": [
    "### Round 2 Characterization Tests"
   ]
  },
  {
   "cell_type": "code",
   "execution_count": 10,
   "metadata": {
    "collapsed": false
   },
   "outputs": [
    {
     "name": "stdout",
     "output_type": "stream",
     "text": [
      "Calling batchrunning()\n",
      "Calling endbatch()\n",
      "Calling startbatch('tpid 1.28')\n",
      "Calling setconfig('Temperature', 'P_Gain_(%/C)', 12)\n",
      "Calling setconfig('Temperature', 'I_Time_(min)', 29)\n",
      "Calling settemp(0, 37)\n",
      "Sleeping 10800 seconds, ending at 21:15:47\n",
      "Calling endbatch()\n",
      "Calling settemp(2, 37)\n",
      "Sleeping 28800 seconds, ending at 05:15:49\n",
      "Calling batchrunning()\n",
      "Calling startbatch('tpid 1.29')\n",
      "Calling setconfig('Temperature', 'P_Gain_(%/C)', 13)\n",
      "Calling setconfig('Temperature', 'I_Time_(min)', 26)\n",
      "Calling settemp(0, 37)\n",
      "Sleeping 10800 seconds, ending at 08:15:55\n",
      "Calling endbatch()\n",
      "Calling settemp(2, 37)\n",
      "Sleeping 28800 seconds, ending at 16:15:58\n",
      "Calling batchrunning()\n",
      "Calling startbatch('tpid 1.30')\n",
      "Calling setconfig('Temperature', 'P_Gain_(%/C)', 14)\n",
      "Calling setconfig('Temperature', 'I_Time_(min)', 26)\n",
      "Calling settemp(0, 37)\n",
      "Sleeping 10800 seconds, ending at 19:16:04\n",
      "Calling endbatch()\n"
     ]
    }
   ],
   "source": [
    "hours = 3600\n",
    "startbatch(\"tpid 1.28\")\n",
    "pid1()\n",
    "settemp(37)\n",
    "wait(3*hours)\n",
    "endbatch()\n",
    "settemp(0)\n",
    "wait(8*hours)\n",
    "startbatch(\"tpid 1.29\")\n",
    "pid2()\n",
    "settemp(37)\n",
    "wait(3*hours)\n",
    "endbatch()\n",
    "settemp(0)\n",
    "wait(8*hours)\n",
    "startbatch(\"tpid 1.30\")\n",
    "pid3()\n",
    "settemp(37)\n",
    "wait(3*hours)\n",
    "endbatch()"
   ]
  },
  {
   "cell_type": "markdown",
   "metadata": {},
   "source": [
    "### Round 3 verification routines"
   ]
  },
  {
   "cell_type": "code",
   "execution_count": 7,
   "metadata": {
    "collapsed": false
   },
   "outputs": [],
   "source": [
    "_bni = 1\n",
    "def nb(pref, i=1, n=1):\n",
    "    bl = call(h.getBatches)\n",
    "    b = bl.names_to_batches\n",
    "    s = \"%s %d.%d\" % (pref, i, n)\n",
    "    while s in b:\n",
    "        n += 1\n",
    "        s = \"%s %d.%d\" % (pref, i, n)\n",
    "    startbatch(s)\n",
    "\n",
    "def tempoff():\n",
    "    settemp(0)\n",
    "    \n",
    "def setbn(i):\n",
    "    global _bni\n",
    "    _bni = i\n",
    "\n",
    "def o2a():\n",
    "    nb(\"tpid\", _bni)\n",
    "    settemp(37)\n",
    "    wait(3*hours)\n",
    "    endbatch()\n",
    "    \n",
    "def cool(hrs=8):\n",
    "    tempoff()\n",
    "    wait(hrs*hours)\n",
    "    \n",
    "def a2a(end):\n",
    "    nb(\"tpid\", _bni)\n",
    "    settemp(end)\n",
    "    wait(3*hours)\n",
    "    endbatch()\n",
    "\n",
    "def verify(pid):\n",
    "    print(\"Verifying settings\")\n",
    "    pid()\n",
    "    o2a()\n",
    "    a2a(35)\n",
    "    a2a(37)\n",
    "    \n",
    "def pid4():\n",
    "    call(h.setconfig, \"Temperature\", \"P_Gain_(%/C)\", 13)\n",
    "    call(h.setconfig, \"Temperature\", 'I_Time_(min)', 28) "
   ]
  },
  {
   "cell_type": "code",
   "execution_count": 27,
   "metadata": {
    "collapsed": false
   },
   "outputs": [
    {
     "name": "stdout",
     "output_type": "stream",
     "text": [
      "Sleeping 300 seconds, ending at 04/27/2017 01:17:56 PM\n",
      "Verifying settings\n",
      "Calling setconfig('Temperature', 'P_Gain_(%/C)', 14)\n",
      "Calling setconfig('Temperature', 'I_Time_(min)', 26)\n",
      "Calling batchrunning()\n",
      "Calling startbatch('tpid v 3.1')\n",
      "Calling settemp(0, 37)\n",
      "Sleeping 10800 seconds, ending at 04/27/2017 04:17:58 PM\n",
      "Calling endbatch()\n",
      "Calling batchrunning()\n",
      "Calling startbatch('tpid v 3.2')\n",
      "Calling settemp(0, 35)\n",
      "Sleeping 10800 seconds, ending at 04/27/2017 07:18:01 PM\n",
      "Calling endbatch()\n",
      "Calling batchrunning()\n",
      "Calling startbatch('tpid v 3.3')\n",
      "Calling settemp(0, 37)\n",
      "Sleeping 10800 seconds, ending at 04/27/2017 10:18:04 PM\n",
      "Calling endbatch()\n",
      "Calling settemp(2, 37)\n",
      "Sleeping 28800 seconds, ending at 04/28/2017 06:18:06 AM\n",
      "Verifying settings\n",
      "Calling setconfig('Temperature', 'P_Gain_(%/C)', 13)\n",
      "Calling setconfig('Temperature', 'I_Time_(min)', 28)\n",
      "Calling batchrunning()\n",
      "Calling startbatch('tpid v 4.1')\n",
      "Calling settemp(0, 37)\n",
      "Sleeping 10800 seconds, ending at 04/28/2017 09:18:12 AM\n",
      "Calling endbatch()\n",
      "Calling batchrunning()\n",
      "Calling startbatch('tpid v 4.2')\n",
      "Calling settemp(0, 35)\n",
      "Sleeping 10800 seconds, ending at 04/28/2017 12:18:15 PM\n",
      "Calling endbatch()\n",
      "Calling batchrunning()\n",
      "Calling startbatch('tpid v 4.3')\n",
      "Calling settemp(0, 37)\n",
      "Sleeping 10800 seconds, ending at 04/28/2017 03:18:18 PM\n",
      "Calling endbatch()\n",
      "Calling settemp(2, 37)\n"
     ]
    }
   ],
   "source": [
    "wait(300)\n",
    "mgbn(3)\n",
    "verify(pid3)\n",
    "cool()\n",
    "mgbn(4)\n",
    "verify(pid4)\n",
    "tempoff()"
   ]
  },
  {
   "cell_type": "code",
   "execution_count": 6,
   "metadata": {
    "collapsed": false
   },
   "outputs": [
    {
     "name": "stdout",
     "output_type": "stream",
     "text": [
      "1 14 26 0 Off RT 37 2.5 0\n",
      "2 14 26 0 Auto 37 35 2.5 0\n",
      "3 14 26 0 Auto 35 37 2.5 0\n",
      "4 13 28 0 Off RT 37 2.5 0\n",
      "5 13 28 0 Auto 37 35 2.5 0\n",
      "6 13 28 0 Auto 35 37 2.5 0\n"
     ]
    }
   ],
   "source": [
    "vol = 2.5\n",
    "beta = 0\n",
    "data = []\n",
    "def add(*args):\n",
    "    data.append(args)\n",
    "for p, i in ((14, 26), (13, 28)):\n",
    "    add(p, i, 0, \"Off\", \"RT\", 37, vol, beta)\n",
    "    add(p, i, 0, \"Auto\", 37, 35, vol, beta)\n",
    "    add(p, i, 0, \"Auto\", 35, 37, vol, beta)\n",
    "for i, args in enumerate(data, 1):\n",
    "    print(i, *args) #\"%d %d %d %s %s %d %d %d\"%args)"
   ]
  },
  {
   "cell_type": "code",
   "execution_count": 20,
   "metadata": {
    "collapsed": false
   },
   "outputs": [
    {
     "name": "stdout",
     "output_type": "stream",
     "text": [
      "Calling batchrunning()\n",
      "Calling endbatch()\n",
      "Calling startbatch('do 1.3')\n",
      "Calling setmg(1, 0.2)\n"
     ]
    },
    {
     "data": {
      "text/plain": [
       "<hello.hello3.HelloXML at 0x2277b888940>"
      ]
     },
     "execution_count": 20,
     "metadata": {},
     "output_type": "execute_result"
    }
   ],
   "source": [
    "startbatch(\"do 1.3\")\n",
    "call(h.setmg, 1, .2)"
   ]
  },
  {
   "cell_type": "markdown",
   "metadata": {
    "collapsed": true
   },
   "source": [
    "## Round 4 5/24/17\n",
    "Temp looked a bit unstable in real life in the bio lab. According to simulation, a much higher gain value doens't actually hurt performance, so trying the test out again. "
   ]
  },
  {
   "cell_type": "code",
   "execution_count": 10,
   "metadata": {
    "collapsed": true
   },
   "outputs": [],
   "source": [
    "def pid5():\n",
    "    call(h.setconfig, \"Temperature\", \"P_Gain_(%/C)\", 50)\n",
    "    call(h.setconfig, \"Temperature\", 'I_Time_(min)', 26) \n",
    "hours = 3600"
   ]
  },
  {
   "cell_type": "code",
   "execution_count": 11,
   "metadata": {
    "collapsed": false
   },
   "outputs": [
    {
     "name": "stdout",
     "output_type": "stream",
     "text": [
      "Calling settemp(2, 37)\n",
      "Verifying settings\n",
      "Calling setconfig('Temperature', 'P_Gain_(%/C)', 50)\n",
      "Calling setconfig('Temperature', 'I_Time_(min)', 26)\n",
      "Calling getBatches()\n"
     ]
    },
    {
     "ename": "KeyError",
     "evalue": "'ID'",
     "output_type": "error",
     "traceback": [
      "\u001b[0;31m---------------------------------------------------------------------------\u001b[0m",
      "\u001b[0;31mKeyError\u001b[0m                                  Traceback (most recent call last)",
      "\u001b[0;32m<ipython-input-11-97d0d5ce61da>\u001b[0m in \u001b[0;36m<module>\u001b[0;34m()\u001b[0m\n\u001b[1;32m      3\u001b[0m \u001b[0mcool\u001b[0m\u001b[1;33m(\u001b[0m\u001b[1;36m10\u001b[0m\u001b[1;33m)\u001b[0m\u001b[1;33m\u001b[0m\u001b[0m\n\u001b[1;32m      4\u001b[0m \u001b[0msetbn\u001b[0m\u001b[1;33m(\u001b[0m\u001b[1;36m0\u001b[0m\u001b[1;33m)\u001b[0m\u001b[1;33m\u001b[0m\u001b[0m\n\u001b[0;32m----> 5\u001b[0;31m \u001b[0mverify\u001b[0m\u001b[1;33m(\u001b[0m\u001b[0mpid5\u001b[0m\u001b[1;33m)\u001b[0m\u001b[1;33m\u001b[0m\u001b[0m\n\u001b[0m\u001b[1;32m      6\u001b[0m \u001b[0mtempoff\u001b[0m\u001b[1;33m(\u001b[0m\u001b[1;33m)\u001b[0m\u001b[1;33m\u001b[0m\u001b[0m\n",
      "\u001b[0;32m<ipython-input-7-6d47522918f8>\u001b[0m in \u001b[0;36mverify\u001b[0;34m(pid)\u001b[0m\n\u001b[1;32m     35\u001b[0m     \u001b[0mprint\u001b[0m\u001b[1;33m(\u001b[0m\u001b[1;34m\"Verifying settings\"\u001b[0m\u001b[1;33m)\u001b[0m\u001b[1;33m\u001b[0m\u001b[0m\n\u001b[1;32m     36\u001b[0m     \u001b[0mpid\u001b[0m\u001b[1;33m(\u001b[0m\u001b[1;33m)\u001b[0m\u001b[1;33m\u001b[0m\u001b[0m\n\u001b[0;32m---> 37\u001b[0;31m     \u001b[0mo2a\u001b[0m\u001b[1;33m(\u001b[0m\u001b[1;33m)\u001b[0m\u001b[1;33m\u001b[0m\u001b[0m\n\u001b[0m\u001b[1;32m     38\u001b[0m     \u001b[0ma2a\u001b[0m\u001b[1;33m(\u001b[0m\u001b[1;36m35\u001b[0m\u001b[1;33m)\u001b[0m\u001b[1;33m\u001b[0m\u001b[0m\n\u001b[1;32m     39\u001b[0m     \u001b[0ma2a\u001b[0m\u001b[1;33m(\u001b[0m\u001b[1;36m37\u001b[0m\u001b[1;33m)\u001b[0m\u001b[1;33m\u001b[0m\u001b[0m\n",
      "\u001b[0;32m<ipython-input-7-6d47522918f8>\u001b[0m in \u001b[0;36mo2a\u001b[0;34m()\u001b[0m\n\u001b[1;32m     17\u001b[0m \u001b[1;33m\u001b[0m\u001b[0m\n\u001b[1;32m     18\u001b[0m \u001b[1;32mdef\u001b[0m \u001b[0mo2a\u001b[0m\u001b[1;33m(\u001b[0m\u001b[1;33m)\u001b[0m\u001b[1;33m:\u001b[0m\u001b[1;33m\u001b[0m\u001b[0m\n\u001b[0;32m---> 19\u001b[0;31m     \u001b[0mnb\u001b[0m\u001b[1;33m(\u001b[0m\u001b[1;34m\"tpid\"\u001b[0m\u001b[1;33m,\u001b[0m \u001b[0m_bni\u001b[0m\u001b[1;33m)\u001b[0m\u001b[1;33m\u001b[0m\u001b[0m\n\u001b[0m\u001b[1;32m     20\u001b[0m     \u001b[0msettemp\u001b[0m\u001b[1;33m(\u001b[0m\u001b[1;36m37\u001b[0m\u001b[1;33m)\u001b[0m\u001b[1;33m\u001b[0m\u001b[0m\n\u001b[1;32m     21\u001b[0m     \u001b[0mwait\u001b[0m\u001b[1;33m(\u001b[0m\u001b[1;36m3\u001b[0m\u001b[1;33m*\u001b[0m\u001b[0mhours\u001b[0m\u001b[1;33m)\u001b[0m\u001b[1;33m\u001b[0m\u001b[0m\n",
      "\u001b[0;32m<ipython-input-7-6d47522918f8>\u001b[0m in \u001b[0;36mnb\u001b[0;34m(pref, i, n)\u001b[0m\n\u001b[1;32m      1\u001b[0m \u001b[0m_bni\u001b[0m \u001b[1;33m=\u001b[0m \u001b[1;36m1\u001b[0m\u001b[1;33m\u001b[0m\u001b[0m\n\u001b[1;32m      2\u001b[0m \u001b[1;32mdef\u001b[0m \u001b[0mnb\u001b[0m\u001b[1;33m(\u001b[0m\u001b[0mpref\u001b[0m\u001b[1;33m,\u001b[0m \u001b[0mi\u001b[0m\u001b[1;33m=\u001b[0m\u001b[1;36m1\u001b[0m\u001b[1;33m,\u001b[0m \u001b[0mn\u001b[0m\u001b[1;33m=\u001b[0m\u001b[1;36m1\u001b[0m\u001b[1;33m)\u001b[0m\u001b[1;33m:\u001b[0m\u001b[1;33m\u001b[0m\u001b[0m\n\u001b[0;32m----> 3\u001b[0;31m     \u001b[0mbl\u001b[0m \u001b[1;33m=\u001b[0m \u001b[0mcall\u001b[0m\u001b[1;33m(\u001b[0m\u001b[0mh\u001b[0m\u001b[1;33m.\u001b[0m\u001b[0mgetBatches\u001b[0m\u001b[1;33m)\u001b[0m\u001b[1;33m\u001b[0m\u001b[0m\n\u001b[0m\u001b[1;32m      4\u001b[0m     \u001b[0mb\u001b[0m \u001b[1;33m=\u001b[0m \u001b[0mbl\u001b[0m\u001b[1;33m.\u001b[0m\u001b[0mnames_to_batches\u001b[0m\u001b[1;33m\u001b[0m\u001b[0m\n\u001b[1;32m      5\u001b[0m     \u001b[0ms\u001b[0m \u001b[1;33m=\u001b[0m \u001b[1;34m\"%s %d.%d\"\u001b[0m \u001b[1;33m%\u001b[0m \u001b[1;33m(\u001b[0m\u001b[0mpref\u001b[0m\u001b[1;33m,\u001b[0m \u001b[0mi\u001b[0m\u001b[1;33m,\u001b[0m \u001b[0mn\u001b[0m\u001b[1;33m)\u001b[0m\u001b[1;33m\u001b[0m\u001b[0m\n",
      "\u001b[0;32m<ipython-input-5-98cc6e78f7fb>\u001b[0m in \u001b[0;36mcall\u001b[0;34m(f, *args)\u001b[0m\n\u001b[1;32m      4\u001b[0m     \u001b[1;32mwhile\u001b[0m \u001b[1;32mTrue\u001b[0m\u001b[1;33m:\u001b[0m\u001b[1;33m\u001b[0m\u001b[0m\n\u001b[1;32m      5\u001b[0m         \u001b[1;32mtry\u001b[0m\u001b[1;33m:\u001b[0m\u001b[1;33m\u001b[0m\u001b[0m\n\u001b[0;32m----> 6\u001b[0;31m             \u001b[0mrv\u001b[0m \u001b[1;33m=\u001b[0m \u001b[0mf\u001b[0m\u001b[1;33m(\u001b[0m\u001b[1;33m*\u001b[0m\u001b[0margs\u001b[0m\u001b[1;33m)\u001b[0m\u001b[1;33m\u001b[0m\u001b[0m\n\u001b[0m\u001b[1;32m      7\u001b[0m         \u001b[1;32mexcept\u001b[0m \u001b[0mNotLoggedInError\u001b[0m\u001b[1;33m:\u001b[0m\u001b[1;33m\u001b[0m\u001b[0m\n\u001b[1;32m      8\u001b[0m             \u001b[0mh\u001b[0m\u001b[1;33m.\u001b[0m\u001b[0mlogin\u001b[0m\u001b[1;33m(\u001b[0m\u001b[1;33m)\u001b[0m\u001b[1;33m\u001b[0m\u001b[0m\n",
      "\u001b[0;32mC:\\Users\\Nathan\\Documents\\Personal\\PBS_Office\\MSOffice\\hello\\hello3.py\u001b[0m in \u001b[0;36mgetBatches\u001b[0;34m(self)\u001b[0m\n\u001b[1;32m    492\u001b[0m         \u001b[0mquery\u001b[0m \u001b[1;33m=\u001b[0m \u001b[1;34m\"?&call=getBatches&loader=Loading+batches...\"\u001b[0m\u001b[1;33m\u001b[0m\u001b[0m\n\u001b[1;32m    493\u001b[0m         \u001b[0mrsp\u001b[0m \u001b[1;33m=\u001b[0m \u001b[0mself\u001b[0m\u001b[1;33m.\u001b[0m\u001b[0msend_request\u001b[0m\u001b[1;33m(\u001b[0m\u001b[0mquery\u001b[0m\u001b[1;33m)\u001b[0m\u001b[1;33m\u001b[0m\u001b[0m\n\u001b[0;32m--> 494\u001b[0;31m         \u001b[0mxml\u001b[0m \u001b[1;33m=\u001b[0m \u001b[0mBatchListXML\u001b[0m\u001b[1;33m(\u001b[0m\u001b[0mrsp\u001b[0m\u001b[1;33m)\u001b[0m\u001b[1;33m\u001b[0m\u001b[0m\n\u001b[0m\u001b[1;32m    495\u001b[0m         \u001b[1;32mreturn\u001b[0m \u001b[0mself\u001b[0m\u001b[1;33m.\u001b[0m\u001b[0m_verify_xml\u001b[0m\u001b[1;33m(\u001b[0m\u001b[0mxml\u001b[0m\u001b[1;33m)\u001b[0m\u001b[1;33m\u001b[0m\u001b[0m\n\u001b[1;32m    496\u001b[0m \u001b[1;33m\u001b[0m\u001b[0m\n",
      "\u001b[0;32mC:\\Users\\Nathan\\Documents\\Personal\\PBS_Office\\MSOffice\\hello\\hello3.py\u001b[0m in \u001b[0;36m__init__\u001b[0;34m(self, xml)\u001b[0m\n\u001b[1;32m    746\u001b[0m \u001b[1;33m\u001b[0m\u001b[0m\n\u001b[1;32m    747\u001b[0m         \u001b[0mself\u001b[0m\u001b[1;33m.\u001b[0m\u001b[0m_parse_types\u001b[0m \u001b[1;33m=\u001b[0m \u001b[0mself\u001b[0m\u001b[1;33m.\u001b[0m\u001b[0m_get_parse_types\u001b[0m\u001b[1;33m(\u001b[0m\u001b[1;33m)\u001b[0m\u001b[1;33m\u001b[0m\u001b[0m\n\u001b[0;32m--> 748\u001b[0;31m         \u001b[0mself\u001b[0m\u001b[1;33m.\u001b[0m\u001b[0m_init\u001b[0m\u001b[1;33m(\u001b[0m\u001b[0mroot\u001b[0m\u001b[1;33m)\u001b[0m\u001b[1;33m\u001b[0m\u001b[0m\n\u001b[0m\u001b[1;32m    749\u001b[0m \u001b[1;33m\u001b[0m\u001b[0m\n\u001b[1;32m    750\u001b[0m     \u001b[1;32mdef\u001b[0m \u001b[0m_get_parse_types\u001b[0m\u001b[1;33m(\u001b[0m\u001b[0mself\u001b[0m\u001b[1;33m)\u001b[0m\u001b[1;33m:\u001b[0m\u001b[1;33m\u001b[0m\u001b[0m\n",
      "\u001b[0;32mC:\\Users\\Nathan\\Documents\\Personal\\PBS_Office\\MSOffice\\hello\\hello3.py\u001b[0m in \u001b[0;36m_init\u001b[0;34m(self, root)\u001b[0m\n\u001b[1;32m    920\u001b[0m             \u001b[0mself\u001b[0m\u001b[1;33m.\u001b[0m\u001b[0mdata\u001b[0m \u001b[1;33m=\u001b[0m \u001b[1;33m{\u001b[0m\u001b[1;33m}\u001b[0m\u001b[1;33m\u001b[0m\u001b[0m\n\u001b[1;32m    921\u001b[0m         \u001b[1;32melse\u001b[0m\u001b[1;33m:\u001b[0m\u001b[1;33m\u001b[0m\u001b[0m\n\u001b[0;32m--> 922\u001b[0;31m             \u001b[0mdata\u001b[0m \u001b[1;33m=\u001b[0m \u001b[0mself\u001b[0m\u001b[1;33m.\u001b[0m\u001b[0mbegin_parse\u001b[0m\u001b[1;33m(\u001b[0m\u001b[0mroot\u001b[0m\u001b[1;33m)\u001b[0m\u001b[1;33m\u001b[0m\u001b[0m\n\u001b[0m\u001b[1;32m    923\u001b[0m \u001b[1;33m\u001b[0m\u001b[0m\n\u001b[1;32m    924\u001b[0m             \u001b[1;31m# Bad things happen if this code tries to proceed\u001b[0m\u001b[1;33m\u001b[0m\u001b[1;33m\u001b[0m\u001b[0m\n",
      "\u001b[0;32mC:\\Users\\Nathan\\Documents\\Personal\\PBS_Office\\MSOffice\\hello\\hello3.py\u001b[0m in \u001b[0;36mbegin_parse\u001b[0;34m(self, root)\u001b[0m\n\u001b[1;32m    785\u001b[0m     \u001b[1;32mdef\u001b[0m \u001b[0mbegin_parse\u001b[0m\u001b[1;33m(\u001b[0m\u001b[0mself\u001b[0m\u001b[1;33m,\u001b[0m \u001b[0mroot\u001b[0m\u001b[1;33m)\u001b[0m\u001b[1;33m:\u001b[0m\u001b[1;33m\u001b[0m\u001b[0m\n\u001b[1;32m    786\u001b[0m         \u001b[0mrv\u001b[0m \u001b[1;33m=\u001b[0m \u001b[1;33m{\u001b[0m\u001b[1;33m}\u001b[0m\u001b[1;33m\u001b[0m\u001b[0m\n\u001b[0;32m--> 787\u001b[0;31m         \u001b[0mself\u001b[0m\u001b[1;33m.\u001b[0m\u001b[0mparse\u001b[0m\u001b[1;33m(\u001b[0m\u001b[0mroot\u001b[0m\u001b[1;33m,\u001b[0m \u001b[0mrv\u001b[0m\u001b[1;33m)\u001b[0m\u001b[1;33m\u001b[0m\u001b[0m\n\u001b[0m\u001b[1;32m    788\u001b[0m         \u001b[1;32mreturn\u001b[0m \u001b[0mrv\u001b[0m\u001b[1;33m\u001b[0m\u001b[0m\n\u001b[1;32m    789\u001b[0m \u001b[1;33m\u001b[0m\u001b[0m\n",
      "\u001b[0;32mC:\\Users\\Nathan\\Documents\\Personal\\PBS_Office\\MSOffice\\hello\\hello3.py\u001b[0m in \u001b[0;36mparse\u001b[0;34m(self, e, ns)\u001b[0m\n\u001b[1;32m    795\u001b[0m         \u001b[1;32melse\u001b[0m\u001b[1;33m:\u001b[0m\u001b[1;33m\u001b[0m\u001b[0m\n\u001b[1;32m    796\u001b[0m             \u001b[0mval\u001b[0m \u001b[1;33m=\u001b[0m \u001b[1;33m{\u001b[0m\u001b[1;33m}\u001b[0m\u001b[1;33m\u001b[0m\u001b[0m\n\u001b[0;32m--> 797\u001b[0;31m             \u001b[0mself\u001b[0m\u001b[1;33m.\u001b[0m\u001b[0mparse_children\u001b[0m\u001b[1;33m(\u001b[0m\u001b[0mchildren\u001b[0m\u001b[1;33m,\u001b[0m \u001b[0mval\u001b[0m\u001b[1;33m)\u001b[0m\u001b[1;33m\u001b[0m\u001b[0m\n\u001b[0m\u001b[1;32m    798\u001b[0m             \u001b[0mns\u001b[0m\u001b[1;33m[\u001b[0m\u001b[0mname\u001b[0m\u001b[1;33m]\u001b[0m \u001b[1;33m=\u001b[0m \u001b[0mval\u001b[0m\u001b[1;33m\u001b[0m\u001b[0m\n\u001b[1;32m    799\u001b[0m \u001b[1;33m\u001b[0m\u001b[0m\n",
      "\u001b[0;32mC:\\Users\\Nathan\\Documents\\Personal\\PBS_Office\\MSOffice\\hello\\hello3.py\u001b[0m in \u001b[0;36mparse_children\u001b[0;34m(self, elems, ns)\u001b[0m\n\u001b[1;32m    809\u001b[0m                 \u001b[0mparser\u001b[0m\u001b[1;33m(\u001b[0m\u001b[0mc\u001b[0m\u001b[1;33m,\u001b[0m \u001b[0mns\u001b[0m\u001b[1;33m)\u001b[0m\u001b[1;33m\u001b[0m\u001b[0m\n\u001b[1;32m    810\u001b[0m             \u001b[1;32melse\u001b[0m\u001b[1;33m:\u001b[0m\u001b[1;33m\u001b[0m\u001b[0m\n\u001b[0;32m--> 811\u001b[0;31m                 \u001b[0mself\u001b[0m\u001b[1;33m.\u001b[0m\u001b[0mparse\u001b[0m\u001b[1;33m(\u001b[0m\u001b[0mc\u001b[0m\u001b[1;33m,\u001b[0m \u001b[0mns\u001b[0m\u001b[1;33m)\u001b[0m\u001b[1;33m\u001b[0m\u001b[0m\n\u001b[0m\u001b[1;32m    812\u001b[0m \u001b[1;33m\u001b[0m\u001b[0m\n\u001b[1;32m    813\u001b[0m     \u001b[1;32mdef\u001b[0m \u001b[0mparse_int\u001b[0m\u001b[1;33m(\u001b[0m\u001b[0mself\u001b[0m\u001b[1;33m,\u001b[0m \u001b[0me\u001b[0m\u001b[1;33m,\u001b[0m \u001b[0mns\u001b[0m\u001b[1;33m)\u001b[0m\u001b[1;33m:\u001b[0m\u001b[1;33m\u001b[0m\u001b[0m\n",
      "\u001b[0;32mC:\\Users\\Nathan\\Documents\\Personal\\PBS_Office\\MSOffice\\hello\\hello3.py\u001b[0m in \u001b[0;36mparse\u001b[0;34m(self, e, ns)\u001b[0m\n\u001b[1;32m    795\u001b[0m         \u001b[1;32melse\u001b[0m\u001b[1;33m:\u001b[0m\u001b[1;33m\u001b[0m\u001b[0m\n\u001b[1;32m    796\u001b[0m             \u001b[0mval\u001b[0m \u001b[1;33m=\u001b[0m \u001b[1;33m{\u001b[0m\u001b[1;33m}\u001b[0m\u001b[1;33m\u001b[0m\u001b[0m\n\u001b[0;32m--> 797\u001b[0;31m             \u001b[0mself\u001b[0m\u001b[1;33m.\u001b[0m\u001b[0mparse_children\u001b[0m\u001b[1;33m(\u001b[0m\u001b[0mchildren\u001b[0m\u001b[1;33m,\u001b[0m \u001b[0mval\u001b[0m\u001b[1;33m)\u001b[0m\u001b[1;33m\u001b[0m\u001b[0m\n\u001b[0m\u001b[1;32m    798\u001b[0m             \u001b[0mns\u001b[0m\u001b[1;33m[\u001b[0m\u001b[0mname\u001b[0m\u001b[1;33m]\u001b[0m \u001b[1;33m=\u001b[0m \u001b[0mval\u001b[0m\u001b[1;33m\u001b[0m\u001b[0m\n\u001b[1;32m    799\u001b[0m \u001b[1;33m\u001b[0m\u001b[0m\n",
      "\u001b[0;32mC:\\Users\\Nathan\\Documents\\Personal\\PBS_Office\\MSOffice\\hello\\hello3.py\u001b[0m in \u001b[0;36mparse_children\u001b[0;34m(self, elems, ns)\u001b[0m\n\u001b[1;32m    807\u001b[0m             \u001b[0mparser\u001b[0m \u001b[1;33m=\u001b[0m \u001b[0mget_parser\u001b[0m\u001b[1;33m(\u001b[0m\u001b[0mc\u001b[0m\u001b[1;33m.\u001b[0m\u001b[0mtag\u001b[0m\u001b[1;33m)\u001b[0m\u001b[1;33m\u001b[0m\u001b[0m\n\u001b[1;32m    808\u001b[0m             \u001b[1;32mif\u001b[0m \u001b[0mparser\u001b[0m\u001b[1;33m:\u001b[0m\u001b[1;33m\u001b[0m\u001b[0m\n\u001b[0;32m--> 809\u001b[0;31m                 \u001b[0mparser\u001b[0m\u001b[1;33m(\u001b[0m\u001b[0mc\u001b[0m\u001b[1;33m,\u001b[0m \u001b[0mns\u001b[0m\u001b[1;33m)\u001b[0m\u001b[1;33m\u001b[0m\u001b[0m\n\u001b[0m\u001b[1;32m    810\u001b[0m             \u001b[1;32melse\u001b[0m\u001b[1;33m:\u001b[0m\u001b[1;33m\u001b[0m\u001b[0m\n\u001b[1;32m    811\u001b[0m                 \u001b[0mself\u001b[0m\u001b[1;33m.\u001b[0m\u001b[0mparse\u001b[0m\u001b[1;33m(\u001b[0m\u001b[0mc\u001b[0m\u001b[1;33m,\u001b[0m \u001b[0mns\u001b[0m\u001b[1;33m)\u001b[0m\u001b[1;33m\u001b[0m\u001b[0m\n",
      "\u001b[0;32mC:\\Users\\Nathan\\Documents\\Personal\\PBS_Office\\MSOffice\\hello\\hello3.py\u001b[0m in \u001b[0;36mparse_cluster\u001b[0;34m(self, e, ns)\u001b[0m\n\u001b[1;32m   1002\u001b[0m             \u001b[0mval\u001b[0m \u001b[1;33m=\u001b[0m \u001b[1;33m{\u001b[0m\u001b[1;33m}\u001b[0m\u001b[1;33m\u001b[0m\u001b[0m\n\u001b[1;32m   1003\u001b[0m             \u001b[0mself\u001b[0m\u001b[1;33m.\u001b[0m\u001b[0mparse_children\u001b[0m\u001b[1;33m(\u001b[0m\u001b[0me\u001b[0m\u001b[1;33m[\u001b[0m\u001b[1;36m2\u001b[0m\u001b[1;33m:\u001b[0m\u001b[1;33m]\u001b[0m\u001b[1;33m,\u001b[0m \u001b[0mval\u001b[0m\u001b[1;33m)\u001b[0m\u001b[1;33m\u001b[0m\u001b[0m\n\u001b[0;32m-> 1004\u001b[0;31m         \u001b[0mname\u001b[0m \u001b[1;33m=\u001b[0m \u001b[0mval\u001b[0m\u001b[1;33m[\u001b[0m\u001b[1;34m'ID'\u001b[0m\u001b[1;33m]\u001b[0m\u001b[1;33m\u001b[0m\u001b[0m\n\u001b[0m\u001b[1;32m   1005\u001b[0m         \u001b[0mns\u001b[0m\u001b[1;33m[\u001b[0m\u001b[0mname\u001b[0m\u001b[1;33m]\u001b[0m \u001b[1;33m=\u001b[0m \u001b[0mval\u001b[0m\u001b[1;33m\u001b[0m\u001b[0m\n\u001b[1;32m   1006\u001b[0m \u001b[1;33m\u001b[0m\u001b[0m\n",
      "\u001b[0;31mKeyError\u001b[0m: 'ID'"
     ]
    }
   ],
   "source": [
    "h = HelloApp('71.189.82.196:81')\n",
    "wait = wait2\n",
    "cool(10)\n",
    "setbn(0)\n",
    "verify(pid5)\n",
    "tempoff()"
   ]
  },
  {
   "cell_type": "code",
   "execution_count": 52,
   "metadata": {
    "collapsed": false
   },
   "outputs": [
    {
     "name": "stdout",
     "output_type": "stream",
     "text": [
      "Calling getBatches()\n"
     ]
    },
    {
     "ename": "KeyError",
     "evalue": "'ID'",
     "output_type": "error",
     "traceback": [
      "\u001b[0;31m---------------------------------------------------------------------------\u001b[0m",
      "\u001b[0;31mKeyError\u001b[0m                                  Traceback (most recent call last)",
      "\u001b[0;32m<ipython-input-52-20b37462a5a8>\u001b[0m in \u001b[0;36m<module>\u001b[0;34m()\u001b[0m\n\u001b[1;32m      1\u001b[0m \u001b[0mh\u001b[0m\u001b[1;33m.\u001b[0m\u001b[0mlogin\u001b[0m\u001b[1;33m(\u001b[0m\u001b[1;33m)\u001b[0m\u001b[1;33m\u001b[0m\u001b[0m\n\u001b[0;32m----> 2\u001b[0;31m \u001b[0mcall\u001b[0m\u001b[1;33m(\u001b[0m\u001b[0mh\u001b[0m\u001b[1;33m.\u001b[0m\u001b[0mgetBatches\u001b[0m\u001b[1;33m)\u001b[0m\u001b[1;33m\u001b[0m\u001b[0m\n\u001b[0m",
      "\u001b[0;32m<ipython-input-5-98cc6e78f7fb>\u001b[0m in \u001b[0;36mcall\u001b[0;34m(f, *args)\u001b[0m\n\u001b[1;32m      4\u001b[0m     \u001b[1;32mwhile\u001b[0m \u001b[1;32mTrue\u001b[0m\u001b[1;33m:\u001b[0m\u001b[1;33m\u001b[0m\u001b[0m\n\u001b[1;32m      5\u001b[0m         \u001b[1;32mtry\u001b[0m\u001b[1;33m:\u001b[0m\u001b[1;33m\u001b[0m\u001b[0m\n\u001b[0;32m----> 6\u001b[0;31m             \u001b[0mrv\u001b[0m \u001b[1;33m=\u001b[0m \u001b[0mf\u001b[0m\u001b[1;33m(\u001b[0m\u001b[1;33m*\u001b[0m\u001b[0margs\u001b[0m\u001b[1;33m)\u001b[0m\u001b[1;33m\u001b[0m\u001b[0m\n\u001b[0m\u001b[1;32m      7\u001b[0m         \u001b[1;32mexcept\u001b[0m \u001b[0mNotLoggedInError\u001b[0m\u001b[1;33m:\u001b[0m\u001b[1;33m\u001b[0m\u001b[0m\n\u001b[1;32m      8\u001b[0m             \u001b[0mh\u001b[0m\u001b[1;33m.\u001b[0m\u001b[0mlogin\u001b[0m\u001b[1;33m(\u001b[0m\u001b[1;33m)\u001b[0m\u001b[1;33m\u001b[0m\u001b[0m\n",
      "\u001b[0;32mC:\\Users\\Nathan\\Documents\\Personal\\PBS_Office\\MSOffice\\hello\\hello3.py\u001b[0m in \u001b[0;36mgetBatches\u001b[0;34m(self)\u001b[0m\n\u001b[1;32m    492\u001b[0m         \u001b[0mquery\u001b[0m \u001b[1;33m=\u001b[0m \u001b[1;34m\"?&call=getBatches&loader=Loading+batches...\"\u001b[0m\u001b[1;33m\u001b[0m\u001b[0m\n\u001b[1;32m    493\u001b[0m         \u001b[0mrsp\u001b[0m \u001b[1;33m=\u001b[0m \u001b[0mself\u001b[0m\u001b[1;33m.\u001b[0m\u001b[0msend_request\u001b[0m\u001b[1;33m(\u001b[0m\u001b[0mquery\u001b[0m\u001b[1;33m)\u001b[0m\u001b[1;33m\u001b[0m\u001b[0m\n\u001b[0;32m--> 494\u001b[0;31m         \u001b[0mxml\u001b[0m \u001b[1;33m=\u001b[0m \u001b[0mBatchListXML\u001b[0m\u001b[1;33m(\u001b[0m\u001b[0mrsp\u001b[0m\u001b[1;33m)\u001b[0m\u001b[1;33m\u001b[0m\u001b[0m\n\u001b[0m\u001b[1;32m    495\u001b[0m         \u001b[1;32mreturn\u001b[0m \u001b[0mself\u001b[0m\u001b[1;33m.\u001b[0m\u001b[0m_verify_xml\u001b[0m\u001b[1;33m(\u001b[0m\u001b[0mxml\u001b[0m\u001b[1;33m)\u001b[0m\u001b[1;33m\u001b[0m\u001b[0m\n\u001b[1;32m    496\u001b[0m \u001b[1;33m\u001b[0m\u001b[0m\n",
      "\u001b[0;32mC:\\Users\\Nathan\\Documents\\Personal\\PBS_Office\\MSOffice\\hello\\hello3.py\u001b[0m in \u001b[0;36m__init__\u001b[0;34m(self, xml)\u001b[0m\n\u001b[1;32m    746\u001b[0m \u001b[1;33m\u001b[0m\u001b[0m\n\u001b[1;32m    747\u001b[0m         \u001b[0mself\u001b[0m\u001b[1;33m.\u001b[0m\u001b[0m_parse_types\u001b[0m \u001b[1;33m=\u001b[0m \u001b[0mself\u001b[0m\u001b[1;33m.\u001b[0m\u001b[0m_get_parse_types\u001b[0m\u001b[1;33m(\u001b[0m\u001b[1;33m)\u001b[0m\u001b[1;33m\u001b[0m\u001b[0m\n\u001b[0;32m--> 748\u001b[0;31m         \u001b[0mself\u001b[0m\u001b[1;33m.\u001b[0m\u001b[0m_init\u001b[0m\u001b[1;33m(\u001b[0m\u001b[0mroot\u001b[0m\u001b[1;33m)\u001b[0m\u001b[1;33m\u001b[0m\u001b[0m\n\u001b[0m\u001b[1;32m    749\u001b[0m \u001b[1;33m\u001b[0m\u001b[0m\n\u001b[1;32m    750\u001b[0m     \u001b[1;32mdef\u001b[0m \u001b[0m_get_parse_types\u001b[0m\u001b[1;33m(\u001b[0m\u001b[0mself\u001b[0m\u001b[1;33m)\u001b[0m\u001b[1;33m:\u001b[0m\u001b[1;33m\u001b[0m\u001b[0m\n",
      "\u001b[0;32mC:\\Users\\Nathan\\Documents\\Personal\\PBS_Office\\MSOffice\\hello\\hello3.py\u001b[0m in \u001b[0;36m_init\u001b[0;34m(self, root)\u001b[0m\n\u001b[1;32m    920\u001b[0m             \u001b[0mself\u001b[0m\u001b[1;33m.\u001b[0m\u001b[0mdata\u001b[0m \u001b[1;33m=\u001b[0m \u001b[1;33m{\u001b[0m\u001b[1;33m}\u001b[0m\u001b[1;33m\u001b[0m\u001b[0m\n\u001b[1;32m    921\u001b[0m         \u001b[1;32melse\u001b[0m\u001b[1;33m:\u001b[0m\u001b[1;33m\u001b[0m\u001b[0m\n\u001b[0;32m--> 922\u001b[0;31m             \u001b[0mdata\u001b[0m \u001b[1;33m=\u001b[0m \u001b[0mself\u001b[0m\u001b[1;33m.\u001b[0m\u001b[0mbegin_parse\u001b[0m\u001b[1;33m(\u001b[0m\u001b[0mroot\u001b[0m\u001b[1;33m)\u001b[0m\u001b[1;33m\u001b[0m\u001b[0m\n\u001b[0m\u001b[1;32m    923\u001b[0m \u001b[1;33m\u001b[0m\u001b[0m\n\u001b[1;32m    924\u001b[0m             \u001b[1;31m# Bad things happen if this code tries to proceed\u001b[0m\u001b[1;33m\u001b[0m\u001b[1;33m\u001b[0m\u001b[0m\n",
      "\u001b[0;32mC:\\Users\\Nathan\\Documents\\Personal\\PBS_Office\\MSOffice\\hello\\hello3.py\u001b[0m in \u001b[0;36mbegin_parse\u001b[0;34m(self, root)\u001b[0m\n\u001b[1;32m    785\u001b[0m     \u001b[1;32mdef\u001b[0m \u001b[0mbegin_parse\u001b[0m\u001b[1;33m(\u001b[0m\u001b[0mself\u001b[0m\u001b[1;33m,\u001b[0m \u001b[0mroot\u001b[0m\u001b[1;33m)\u001b[0m\u001b[1;33m:\u001b[0m\u001b[1;33m\u001b[0m\u001b[0m\n\u001b[1;32m    786\u001b[0m         \u001b[0mrv\u001b[0m \u001b[1;33m=\u001b[0m \u001b[1;33m{\u001b[0m\u001b[1;33m}\u001b[0m\u001b[1;33m\u001b[0m\u001b[0m\n\u001b[0;32m--> 787\u001b[0;31m         \u001b[0mself\u001b[0m\u001b[1;33m.\u001b[0m\u001b[0mparse\u001b[0m\u001b[1;33m(\u001b[0m\u001b[0mroot\u001b[0m\u001b[1;33m,\u001b[0m \u001b[0mrv\u001b[0m\u001b[1;33m)\u001b[0m\u001b[1;33m\u001b[0m\u001b[0m\n\u001b[0m\u001b[1;32m    788\u001b[0m         \u001b[1;32mreturn\u001b[0m \u001b[0mrv\u001b[0m\u001b[1;33m\u001b[0m\u001b[0m\n\u001b[1;32m    789\u001b[0m \u001b[1;33m\u001b[0m\u001b[0m\n",
      "\u001b[0;32mC:\\Users\\Nathan\\Documents\\Personal\\PBS_Office\\MSOffice\\hello\\hello3.py\u001b[0m in \u001b[0;36mparse\u001b[0;34m(self, e, ns)\u001b[0m\n\u001b[1;32m    795\u001b[0m         \u001b[1;32melse\u001b[0m\u001b[1;33m:\u001b[0m\u001b[1;33m\u001b[0m\u001b[0m\n\u001b[1;32m    796\u001b[0m             \u001b[0mval\u001b[0m \u001b[1;33m=\u001b[0m \u001b[1;33m{\u001b[0m\u001b[1;33m}\u001b[0m\u001b[1;33m\u001b[0m\u001b[0m\n\u001b[0;32m--> 797\u001b[0;31m             \u001b[0mself\u001b[0m\u001b[1;33m.\u001b[0m\u001b[0mparse_children\u001b[0m\u001b[1;33m(\u001b[0m\u001b[0mchildren\u001b[0m\u001b[1;33m,\u001b[0m \u001b[0mval\u001b[0m\u001b[1;33m)\u001b[0m\u001b[1;33m\u001b[0m\u001b[0m\n\u001b[0m\u001b[1;32m    798\u001b[0m             \u001b[0mns\u001b[0m\u001b[1;33m[\u001b[0m\u001b[0mname\u001b[0m\u001b[1;33m]\u001b[0m \u001b[1;33m=\u001b[0m \u001b[0mval\u001b[0m\u001b[1;33m\u001b[0m\u001b[0m\n\u001b[1;32m    799\u001b[0m \u001b[1;33m\u001b[0m\u001b[0m\n",
      "\u001b[0;32mC:\\Users\\Nathan\\Documents\\Personal\\PBS_Office\\MSOffice\\hello\\hello3.py\u001b[0m in \u001b[0;36mparse_children\u001b[0;34m(self, elems, ns)\u001b[0m\n\u001b[1;32m    809\u001b[0m                 \u001b[0mparser\u001b[0m\u001b[1;33m(\u001b[0m\u001b[0mc\u001b[0m\u001b[1;33m,\u001b[0m \u001b[0mns\u001b[0m\u001b[1;33m)\u001b[0m\u001b[1;33m\u001b[0m\u001b[0m\n\u001b[1;32m    810\u001b[0m             \u001b[1;32melse\u001b[0m\u001b[1;33m:\u001b[0m\u001b[1;33m\u001b[0m\u001b[0m\n\u001b[0;32m--> 811\u001b[0;31m                 \u001b[0mself\u001b[0m\u001b[1;33m.\u001b[0m\u001b[0mparse\u001b[0m\u001b[1;33m(\u001b[0m\u001b[0mc\u001b[0m\u001b[1;33m,\u001b[0m \u001b[0mns\u001b[0m\u001b[1;33m)\u001b[0m\u001b[1;33m\u001b[0m\u001b[0m\n\u001b[0m\u001b[1;32m    812\u001b[0m \u001b[1;33m\u001b[0m\u001b[0m\n\u001b[1;32m    813\u001b[0m     \u001b[1;32mdef\u001b[0m \u001b[0mparse_int\u001b[0m\u001b[1;33m(\u001b[0m\u001b[0mself\u001b[0m\u001b[1;33m,\u001b[0m \u001b[0me\u001b[0m\u001b[1;33m,\u001b[0m \u001b[0mns\u001b[0m\u001b[1;33m)\u001b[0m\u001b[1;33m:\u001b[0m\u001b[1;33m\u001b[0m\u001b[0m\n",
      "\u001b[0;32mC:\\Users\\Nathan\\Documents\\Personal\\PBS_Office\\MSOffice\\hello\\hello3.py\u001b[0m in \u001b[0;36mparse\u001b[0;34m(self, e, ns)\u001b[0m\n\u001b[1;32m    795\u001b[0m         \u001b[1;32melse\u001b[0m\u001b[1;33m:\u001b[0m\u001b[1;33m\u001b[0m\u001b[0m\n\u001b[1;32m    796\u001b[0m             \u001b[0mval\u001b[0m \u001b[1;33m=\u001b[0m \u001b[1;33m{\u001b[0m\u001b[1;33m}\u001b[0m\u001b[1;33m\u001b[0m\u001b[0m\n\u001b[0;32m--> 797\u001b[0;31m             \u001b[0mself\u001b[0m\u001b[1;33m.\u001b[0m\u001b[0mparse_children\u001b[0m\u001b[1;33m(\u001b[0m\u001b[0mchildren\u001b[0m\u001b[1;33m,\u001b[0m \u001b[0mval\u001b[0m\u001b[1;33m)\u001b[0m\u001b[1;33m\u001b[0m\u001b[0m\n\u001b[0m\u001b[1;32m    798\u001b[0m             \u001b[0mns\u001b[0m\u001b[1;33m[\u001b[0m\u001b[0mname\u001b[0m\u001b[1;33m]\u001b[0m \u001b[1;33m=\u001b[0m \u001b[0mval\u001b[0m\u001b[1;33m\u001b[0m\u001b[0m\n\u001b[1;32m    799\u001b[0m \u001b[1;33m\u001b[0m\u001b[0m\n",
      "\u001b[0;32mC:\\Users\\Nathan\\Documents\\Personal\\PBS_Office\\MSOffice\\hello\\hello3.py\u001b[0m in \u001b[0;36mparse_children\u001b[0;34m(self, elems, ns)\u001b[0m\n\u001b[1;32m    807\u001b[0m             \u001b[0mparser\u001b[0m \u001b[1;33m=\u001b[0m \u001b[0mget_parser\u001b[0m\u001b[1;33m(\u001b[0m\u001b[0mc\u001b[0m\u001b[1;33m.\u001b[0m\u001b[0mtag\u001b[0m\u001b[1;33m)\u001b[0m\u001b[1;33m\u001b[0m\u001b[0m\n\u001b[1;32m    808\u001b[0m             \u001b[1;32mif\u001b[0m \u001b[0mparser\u001b[0m\u001b[1;33m:\u001b[0m\u001b[1;33m\u001b[0m\u001b[0m\n\u001b[0;32m--> 809\u001b[0;31m                 \u001b[0mparser\u001b[0m\u001b[1;33m(\u001b[0m\u001b[0mc\u001b[0m\u001b[1;33m,\u001b[0m \u001b[0mns\u001b[0m\u001b[1;33m)\u001b[0m\u001b[1;33m\u001b[0m\u001b[0m\n\u001b[0m\u001b[1;32m    810\u001b[0m             \u001b[1;32melse\u001b[0m\u001b[1;33m:\u001b[0m\u001b[1;33m\u001b[0m\u001b[0m\n\u001b[1;32m    811\u001b[0m                 \u001b[0mself\u001b[0m\u001b[1;33m.\u001b[0m\u001b[0mparse\u001b[0m\u001b[1;33m(\u001b[0m\u001b[0mc\u001b[0m\u001b[1;33m,\u001b[0m \u001b[0mns\u001b[0m\u001b[1;33m)\u001b[0m\u001b[1;33m\u001b[0m\u001b[0m\n",
      "\u001b[0;32mC:\\Users\\Nathan\\Documents\\Personal\\PBS_Office\\MSOffice\\hello\\hello3.py\u001b[0m in \u001b[0;36mparse_cluster\u001b[0;34m(self, e, ns)\u001b[0m\n\u001b[1;32m   1002\u001b[0m             \u001b[0mval\u001b[0m \u001b[1;33m=\u001b[0m \u001b[1;33m{\u001b[0m\u001b[1;33m}\u001b[0m\u001b[1;33m\u001b[0m\u001b[0m\n\u001b[1;32m   1003\u001b[0m             \u001b[0mself\u001b[0m\u001b[1;33m.\u001b[0m\u001b[0mparse_children\u001b[0m\u001b[1;33m(\u001b[0m\u001b[0me\u001b[0m\u001b[1;33m[\u001b[0m\u001b[1;36m2\u001b[0m\u001b[1;33m:\u001b[0m\u001b[1;33m]\u001b[0m\u001b[1;33m,\u001b[0m \u001b[0mval\u001b[0m\u001b[1;33m)\u001b[0m\u001b[1;33m\u001b[0m\u001b[0m\n\u001b[0;32m-> 1004\u001b[0;31m         \u001b[0mname\u001b[0m \u001b[1;33m=\u001b[0m \u001b[0mval\u001b[0m\u001b[1;33m[\u001b[0m\u001b[1;34m'ID'\u001b[0m\u001b[1;33m]\u001b[0m\u001b[1;33m\u001b[0m\u001b[0m\n\u001b[0m\u001b[1;32m   1005\u001b[0m         \u001b[0mns\u001b[0m\u001b[1;33m[\u001b[0m\u001b[0mname\u001b[0m\u001b[1;33m]\u001b[0m \u001b[1;33m=\u001b[0m \u001b[0mval\u001b[0m\u001b[1;33m\u001b[0m\u001b[0m\n\u001b[1;32m   1006\u001b[0m \u001b[1;33m\u001b[0m\u001b[0m\n",
      "\u001b[0;31mKeyError\u001b[0m: 'ID'"
     ]
    }
   ],
   "source": [
    "h.login()\n",
    "call(h.getBatches)"
   ]
  },
  {
   "cell_type": "code",
   "execution_count": 35,
   "metadata": {
    "collapsed": false
   },
   "outputs": [
    {
     "name": "stdout",
     "output_type": "stream",
     "text": [
      "<?xml version=\"1.0\" encoding=\"UTF-8\" standalone=\"no\" ?><Reply><Result>False</Result><Message>No user associated with the getbatches call\n",
      "Custom Error Message.vi-&gt;Determine User Permission for Call.vi-&gt;Webservice Command Handler.vi-&gt;PBS_WebServer.vi-&gt;PBS_WebServer.vi.ProxyCaller 5038</Message></Reply>\n"
     ]
    }
   ],
   "source": [
    "print(h.send_request('?call=getBatches').content.decode())"
   ]
  },
  {
   "cell_type": "code",
   "execution_count": 38,
   "metadata": {
    "collapsed": false
   },
   "outputs": [],
   "source": [
    "c = h.send_request('?call=getBatches').content\n",
    "import lxml.etree\n",
    "root = lxml.etree.XML(c)"
   ]
  },
  {
   "cell_type": "code",
   "execution_count": 39,
   "metadata": {
    "collapsed": false
   },
   "outputs": [],
   "source": [
    "m = root[1]\n",
    "a = m[0]\n",
    "for c in a[2:]:\n",
    "    for e in c:\n",
    "        if e.tag == \"I32\":\n",
    "            if e[0].text == \"ID\":\n",
    "                break\n",
    "    else:\n",
    "        lxml.etree.dump(c)"
   ]
  },
  {
   "cell_type": "code",
   "execution_count": 51,
   "metadata": {
    "collapsed": false
   },
   "outputs": [
    {
     "name": "stdout",
     "output_type": "stream",
     "text": [
      "ID\n",
      "ID\n",
      "ID\n",
      "ID\n",
      "ID\n",
      "ID\n",
      "ID\n",
      "ID\n"
     ]
    }
   ],
   "source": [
    "for e in root.xpath(\"//Cluster\"):\n",
    "    print(e[2][0].text)"
   ]
  },
  {
   "cell_type": "code",
   "execution_count": null,
   "metadata": {
    "collapsed": true
   },
   "outputs": [],
   "source": []
  }
 ],
 "metadata": {
  "kernelspec": {
   "display_name": "Python 3",
   "language": "python",
   "name": "python3"
  },
  "language_info": {
   "codemirror_mode": {
    "name": "ipython",
    "version": 3
   },
   "file_extension": ".py",
   "mimetype": "text/x-python",
   "name": "python",
   "nbconvert_exporter": "python",
   "pygments_lexer": "ipython3",
   "version": "3.5.2"
  }
 },
 "nbformat": 4,
 "nbformat_minor": 1
}
