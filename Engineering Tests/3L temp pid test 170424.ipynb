{
 "cells": [
  {
   "cell_type": "code",
   "execution_count": 9,
   "metadata": {
    "collapsed": true
   },
   "outputs": [],
   "source": [
    "from hello.hello3 import HelloApp, NotLoggedInError, BadError\n",
    "import time, datetime"
   ]
  },
  {
   "cell_type": "code",
   "execution_count": 2,
   "metadata": {
    "collapsed": true
   },
   "outputs": [],
   "source": [
    "def wait(s):\n",
    "    dend = (datetime.datetime.now() + datetime.timedelta(seconds=s)).strftime(\"%H:%M:%S\")\n",
    "    print(\"Sleeping %d seconds, ending at %s\" %(s,dend))\n",
    "    start = time.time()\n",
    "    end = start + s\n",
    "    while time.time() < end:\n",
    "        time.sleep(5)"
   ]
  },
  {
   "cell_type": "code",
   "execution_count": 3,
   "metadata": {
    "collapsed": true
   },
   "outputs": [],
   "source": [
    "def call(f, *args):\n",
    "    s = \"(\" + \", \".join(map(repr, args)) + \")\"\n",
    "    print(\"Calling %s%s\" % (f.__name__, s))\n",
    "    while True:\n",
    "        try:\n",
    "            rv = f(*args)\n",
    "        except NotLoggedInError:\n",
    "            h.login()\n",
    "        except BadError:\n",
    "            raise\n",
    "        except Exception:\n",
    "            raise\n",
    "        else:\n",
    "            return rv"
   ]
  },
  {
   "cell_type": "code",
   "execution_count": 4,
   "metadata": {
    "collapsed": true
   },
   "outputs": [],
   "source": [
    "def startbatch(name):\n",
    "    if call(h.batchrunning):\n",
    "        call(h.endbatch)\n",
    "    return call(h.startbatch, name)\n",
    "\n",
    "def settemp(sp):\n",
    "    if sp == 0:\n",
    "        call(h.settemp, 2, 37)\n",
    "    else:\n",
    "        call(h.settemp, 0, sp)\n",
    "        \n",
    "def endbatch():\n",
    "    call(h.endbatch)\n",
    "    \n",
    "def pid1():\n",
    "    call(h.setconfig, \"Temperature\", \"P_Gain_(%/C)\", 12)\n",
    "    call(h.setconfig, \"Temperature\", 'I_Time_(min)', 29)\n",
    "    \n",
    "def pid2():\n",
    "    call(h.setconfig, \"Temperature\", \"P_Gain_(%/C)\", 13)\n",
    "    call(h.setconfig, \"Temperature\", 'I_Time_(min)', 26)\n",
    "    \n",
    "def pid3():\n",
    "    call(h.setconfig, \"Temperature\", \"P_Gain_(%/C)\", 14)\n",
    "    call(h.setconfig, \"Temperature\", 'I_Time_(min)', 26)"
   ]
  },
  {
   "cell_type": "code",
   "execution_count": 5,
   "metadata": {
    "collapsed": true
   },
   "outputs": [],
   "source": [
    "h = HelloApp('192.168.1.21')"
   ]
  },
  {
   "cell_type": "code",
   "execution_count": 6,
   "metadata": {
    "collapsed": false
   },
   "outputs": [
    {
     "name": "stdout",
     "output_type": "stream",
     "text": [
      "Calling getConfig()\n"
     ]
    },
    {
     "data": {
      "text/plain": [
       "{'Alpha': -1.0,\n",
       " 'Beta': 0.0,\n",
       " 'D_Time_(min)': 0.0,\n",
       " 'Gamma': 0.0,\n",
       " 'Heat_Auto_Max_(%)': 50.0,\n",
       " 'Heat_Manual_Max_(%)': 50.0,\n",
       " 'I_Time_(min)': 29.0,\n",
       " 'Linearity': 1.0,\n",
       " 'Mismatch_Thresh_(C)': 0.4,\n",
       " 'P_Gain_(%/C)': 12.0,\n",
       " 'Valid_High_(C)': 110.0,\n",
       " 'Valid_Low_(C)': -5.0}"
      ]
     },
     "execution_count": 6,
     "metadata": {},
     "output_type": "execute_result"
    }
   ],
   "source": [
    "call(h.getconfig)['Temperature']"
   ]
  },
  {
   "cell_type": "code",
   "execution_count": 7,
   "metadata": {
    "collapsed": false
   },
   "outputs": [
    {
     "name": "stdout",
     "output_type": "stream",
     "text": [
      "Calling setag(0, 10)\n"
     ]
    },
    {
     "data": {
      "text/plain": [
       "<hello.hello3.HelloXML at 0x27af498cdd8>"
      ]
     },
     "execution_count": 7,
     "metadata": {},
     "output_type": "execute_result"
    }
   ],
   "source": [
    "call(h.setag, 0, 10)"
   ]
  },
  {
   "cell_type": "code",
   "execution_count": null,
   "metadata": {
    "collapsed": false
   },
   "outputs": [
    {
     "name": "stdout",
     "output_type": "stream",
     "text": [
      "Calling batchrunning()\n",
      "Calling endbatch()\n",
      "Calling startbatch('tpid 1.28')\n",
      "Calling setconfig('Temperature', 'P_Gain_(%/C)', 12)\n",
      "Calling setconfig('Temperature', 'I_Time_(min)', 29)\n",
      "Calling settemp(0, 37)\n",
      "Sleeping 10800 seconds, ending at 21:15:47\n"
     ]
    }
   ],
   "source": [
    "hours = 3600\n",
    "startbatch(\"tpid 1.28\")\n",
    "pid1()\n",
    "settemp(37)\n",
    "wait(3*hours)\n",
    "endbatch()\n",
    "settemp(0)\n",
    "wait(8*hours)\n",
    "startbatch(\"tpid 1.29\")\n",
    "pid2()\n",
    "settemp(37)\n",
    "wait(3*hours)\n",
    "endbatch()\n",
    "settemp(0)\n",
    "wait(8*hours)\n",
    "startbatch(\"tpid 1.30\")\n",
    "pid3()\n",
    "settemp(37)\n",
    "wait(3*hours)\n",
    "endbatch()"
   ]
  },
  {
   "cell_type": "code",
   "execution_count": null,
   "metadata": {
    "collapsed": true
   },
   "outputs": [],
   "source": []
  }
 ],
 "metadata": {
  "kernelspec": {
   "display_name": "Python 3",
   "language": "python",
   "name": "python3"
  },
  "language_info": {
   "codemirror_mode": {
    "name": "ipython",
    "version": 3
   },
   "file_extension": ".py",
   "mimetype": "text/x-python",
   "name": "python",
   "nbconvert_exporter": "python",
   "pygments_lexer": "ipython3",
   "version": "3.5.2"
  }
 },
 "nbformat": 4,
 "nbformat_minor": 1
}
