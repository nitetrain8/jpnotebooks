{
 "cells": [
  {
   "cell_type": "markdown",
   "metadata": {},
   "source": [
    "### Some analysis"
   ]
  },
  {
   "cell_type": "code",
   "execution_count": 2,
   "metadata": {
    "collapsed": true
   },
   "outputs": [],
   "source": [
    "from officelib.xllib import *\n",
    "from officelib.const import xlconst as xlc\n",
    "import os\n",
    "import re"
   ]
  },
  {
   "cell_type": "code",
   "execution_count": 3,
   "metadata": {
    "collapsed": true
   },
   "outputs": [],
   "source": [
    "keys = {\n",
    "    'temperature.pv',\n",
    "    'agitation.pv',\n",
    "    'ph.outputDown',\n",
    "    'ph.manDown',\n",
    "    'do.manUp',\n",
    "    'do.outputDown',\n",
    "    'do.pv',\n",
    "    'do.manDown',\n",
    "    'do.outputUp',\n",
    "    'maingas.man',\n",
    "    'maingas.mode',\n",
    "    'maingas.pv',\n",
    "    'MFCs.air',\n",
    "    'MFCs.n2',\n",
    "    'MFCs.o2',\n",
    "    'MFCs.co2',\n",
    "    'level.pv',\n",
    "    'Elapsed',\n",
    "    'Elapsed.hr',\n",
    "    'Time'\n",
    "}\n",
    "def hide_columns(ws):\n",
    "    for col in ws.UsedRange.Columns:\n",
    "        c = col.Cells(1,1)\n",
    "        if c.Value not in keys:\n",
    "            col.Hidden=True"
   ]
  },
  {
   "cell_type": "code",
   "execution_count": 4,
   "metadata": {
    "collapsed": true
   },
   "outputs": [],
   "source": [
    "def data_range(ws, name, begin_offset=0):\n",
    "    c1 = ws.Cells.Find(name)\n",
    "    if c1 is None: raise ValueError(name)\n",
    "    c1 = c1.Offset(2+begin_offset,1)\n",
    "    c2 = c1.End(xlc.xlDown)\n",
    "    return c1, c2\n",
    "\n",
    "class SeriesProxy():\n",
    "    def __init__(self, ws, name, xname=\"Elapsed\", yax=1, begin_offset=0):\n",
    "        self.ws = ws\n",
    "        self.name = name\n",
    "        self.yax = yax\n",
    "        self.s = None\n",
    "        self.xname = xname\n",
    "        self.begin_offset=begin_offset\n",
    "        \n",
    "    def create(self, chart):\n",
    "        e1, e2 = data_range(self.ws, self.xname, self.begin_offset)\n",
    "        c1, c2 = data_range(self.ws, self.name, self.begin_offset)\n",
    "        cr = self.ws.Cells.Range\n",
    "        self.xr = cr(e1, e2)\n",
    "        self.yr = cr(c1, c2)\n",
    "        self.s = CreateDataSeries(chart, self.xr, self.yr, self.name)\n",
    "        \n",
    "    def set_name(self, n):\n",
    "        self.s.Name = n \n",
    "        \n",
    "class ChartProxy():\n",
    "    def __init__(self, ws, chart=None, *args):\n",
    "        self.ws = ws\n",
    "        self.chart = chart or CreateChart(ws, *args)\n",
    "        self.chart.ChartStyle = 240  # Excel 2017 style\n",
    "        self.series = []\n",
    "        \n",
    "    def make_series(self, series):\n",
    "        for s in series:\n",
    "            s.create(self.chart)\n",
    "            self.series.append(s)\n",
    "            \n",
    "    def _axlabel(self, ax, t):\n",
    "        ax.HasTitle=True\n",
    "        ax.AxisTitle.Text=t\n",
    "    \n",
    "    def xlabel(self, t):\n",
    "        xax = self.chart.Axes(xlc.xlCategory, xlc.xlPrimary)\n",
    "        self._axlabel(xax, t)\n",
    "        \n",
    "    def ylabel(self, t):\n",
    "        yax = self.chart.Axes(xlc.xlValue, xlc.xlPrimary)\n",
    "        self._axlabel(yax, t)\n",
    "        \n",
    "    def ylabel2(self, t):\n",
    "        yax = self.chart.Axes(xlc.xlValue, xlc.xlSecondary)\n",
    "        self._axlabel(yax, t)\n",
    "        \n",
    "    def title(self, t):\n",
    "        self.chart.HasTitle = True\n",
    "        self.chart.ChartTitle.Text = t\n",
    "        \n",
    "    def copyto(self, r):\n",
    "        # chart parent -> ChartObject\n",
    "        self.chart.Parent.Copy()\n",
    "        r.Paste()\n",
    "         \n",
    "def _listify(args):\n",
    "    l = []\n",
    "    if isinstance(args, str):\n",
    "        return [args]\n",
    "    for a in args:\n",
    "        if isinstance(a, (list,tuple)):\n",
    "            l.extend(_listify(a))\n",
    "        else:\n",
    "            l.append(a)\n",
    "    return l\n",
    "    \n",
    "def make_chart(names, title=None, xlabel=None, ylabel=None, xname=\"Elapsed\", *, uws=None, begin_offset=0):\n",
    "    uws = uws or ws\n",
    "    c = ChartProxy(uws)\n",
    "        \n",
    "    names = _listify(names)\n",
    "    c.make_series(SeriesProxy(uws,n, xname, 1, begin_offset) for n in names)\n",
    "    \n",
    "    # optional setup\n",
    "    if title: c.title(title)\n",
    "    if xlabel: c.xlabel(xlabel)\n",
    "    if ylabel: c.ylabel(ylabel)\n",
    "    \n",
    "    return c"
   ]
  },
  {
   "cell_type": "markdown",
   "metadata": {},
   "source": [
    "### Example code for now to use functions"
   ]
  },
  {
   "cell_type": "code",
   "execution_count": 5,
   "metadata": {
    "collapsed": true
   },
   "outputs": [],
   "source": [
    "# # MFCs\n",
    "# mfcc = [\n",
    "#     \"MFCs.Air\",\n",
    "#     \"MFCs.O2\",\n",
    "#     \"MFCs.N2\",\n",
    "#     \"MFCs.CO2\"\n",
    "# ]\n",
    "# make_chart(mfcc, \"MFC Flow\", \"Time(s)\", \"Flow Rate (LPM)\")\n",
    "# make_chart(\"do.pv\", \"DO PV\", \"Time(s)\", \"DO PV (%)\")"
   ]
  },
  {
   "cell_type": "markdown",
   "metadata": {},
   "source": [
    "#### Some analysis"
   ]
  },
  {
   "cell_type": "code",
   "execution_count": 6,
   "metadata": {
    "collapsed": true,
    "scrolled": true
   },
   "outputs": [],
   "source": [
    "def column_data(name):\n",
    "    c1 = ws.Cells.Find(name)\n",
    "    c2 = c1.End(xlc.xlDown)\n",
    "    data = ws.Cells.Range(c1.Offset(2,1),c2).Value\n",
    "    return [d[0] for d in data]\n",
    "    \n",
    "def add_af1(name, new, form):\n",
    "    e1 = ws.Cells.Find(name)\n",
    "    e1.Offset(1,2).EntireColumn.Insert()\n",
    "    e1.Offset(1,2).Value = new\n",
    "    \n",
    "    c1 = e1.Offset(2,2)\n",
    "    c2 = e1.End(xlc.xlDown).Offset(1,2)\n",
    "    c1.Value = form % e1.Offset(2,1).GetAddress(0,0)\n",
    "    afr = ws.Cells.Range(c1, c2)\n",
    "    c1.AutoFill(afr)\n",
    "    return c1, c2\n",
    "    \n",
    "\n",
    "def nch(ws, n):\n",
    "    c = CreateChart(ws)\n",
    "    c.Location(xlc.xlLocationAsNewSheet, n)\n",
    "    return ws.Parent.Charts(n)\n",
    "\n",
    "def linest(s):\n",
    "    c = ws.Cells(1,1).End(xlc.xlToRight).Offset(1, 3)\n",
    "    c.Value = \"kLa\"\n",
    "    c2 = c.Offset(2,1)\n",
    "    c2.Value = \"=Index(Linest(%s,%s), 1)\" % (s.yr.Address, s.xr.Address)\n",
    "    return c2\n",
    "\n",
    "def mkcmp():\n",
    "    global nwb, nws, cmpc\n",
    "    nwb = xl.Workbooks.Add()\n",
    "    nws = nwb.Worksheets(1)\n",
    "    cmpc = nch(nws, \"Comparison\")\n",
    "    c1 = nws.Cells.Range(\"B2\")\n",
    "    c1.Value = \"Name\"\n",
    "    c1.Offset(1,2).Value = \"LPM\"\n",
    "    c1.Offset(1,3).Value = \"kla.val\"\n",
    "    nws.Cells.Range(c1.Offset(0, 1), c1.Offset(0, 2)).Merge()\n",
    "    c1.Offset(0, 1).Value = \"Compiled kLA Data\"\n",
    "        \n",
    "    \n",
    "def lincmp(name, kla):\n",
    "    c1 = nws.Cells.Range(\"B3\")\n",
    "    if not c1.Value:\n",
    "        c = c1\n",
    "    elif c1.Value and not c1.Offset(2,1).Value:\n",
    "        c = c1.Offset(2,1)\n",
    "    else:\n",
    "        c = c1.End(xlc.xlDown).Offset(2,1)\n",
    "    c.Value = name\n",
    "    c.Offset(1,2).Value = re.match(r\".*(\\d+\\.\\d+)LPM\", name).groups()[0]\n",
    "    c.Offset(1,3).Value = kla\n",
    "        \n",
    "    \n",
    "def gfp(f): return os.path.abspath(f)\n",
    "\n",
    "def check_no_flow(name, nmax=2):\n",
    "    down = column_data(name)\n",
    "    ndown = len([d for d in down if d > 0])\n",
    "    if ndown > nmax:\n",
    "        print(\"ERROR: Check %s for %r\"%(name, f))\n",
    "        \n",
    "def check_flow(name, exp, nmax=5):\n",
    "    flow = column_data(name)\n",
    "    nflow = len([d for d in flow if round(d, 0) != round(exp, 0)])\n",
    "    if nflow > nmax:\n",
    "        print(\"ERROR: Check %s for current file\"%(name))\n",
    "\n",
    "    \n",
    "def sorteddir():\n",
    "    return sorted((f for f in os.listdir() if os.path.isfile(f)))\n",
    "\n",
    "def trendclr(c):\n",
    "    ns = c.SeriesCollection().Count\n",
    "    l = c.Legend.LegendEntries\n",
    "    for i in range(2*ns, ns, -1):\n",
    "        l(i).Delete()\n",
    "        \n",
    "def mktrend(c):\n",
    "    AddTrendlines(c)\n",
    "    trendclr(c)\n",
    "    \n",
    "    \n",
    "def anylf(wb,ws,name,min_start=0,rampdown=False):\n",
    "    e1, e2 = add_af1(\"Elapsed\", \"Elapsed.hr\", \"=%s/3600\")\n",
    "    ws.Cells.Range(e1, e2).NumberFormat = \"0.000\"\n",
    "    \n",
    "    # calculate time offset\n",
    "    tdat = column_data('Elapsed.hr')\n",
    "    offs = next((i for i, t in enumerate(tdat) if t > min_start), 0)\n",
    "    \n",
    "    if rampdown:\n",
    "        cname = \"Ramp Down\"\n",
    "        target = \"do.pv\"\n",
    "        yax = \"DO PV (%)\"\n",
    "    else:\n",
    "        cname = \"Ramp Up\"\n",
    "        target = \"-do.ln(pv)\"\n",
    "        yax = \"-LN(100-DOPV)\"\n",
    "        add_af1(\"do.pv\", target, \"=-ln(100-%s)\")\n",
    "\n",
    "    c = make_chart(target, \"%s %s\"%(name, cname), \"Time(hr)\", \n",
    "                   yax, \"Elapsed.hr\", uws=ws, begin_offset=offs)\n",
    "    c.series[0].set_name(name)\n",
    "    mktrend(c.chart)\n",
    "\n",
    "    if rampdown:\n",
    "        # by the time 4 values are recorded, maingas should be set to the test's sp....\n",
    "        cd = column_data('maingas.man')\n",
    "        if len(cd) < 4:\n",
    "            mg = cd[-1]\n",
    "        else:\n",
    "            mg = cd[3]\n",
    "        check_flow(\"ph.outputDown\", 0.1/mg*100)\n",
    "        kla=0\n",
    "    else:\n",
    "        check_no_flow(\"ph.outputDown\")\n",
    "        check_no_flow(\"do.outputDown\")\n",
    "        check_flow(\"do.outputUp\", 100)  # flow is always 100 for Sam's tests\n",
    "        \n",
    "        # MFCs\n",
    "        mfcc = [\n",
    "            \"MFCs.Air\",\n",
    "            \"MFCs.O2\",\n",
    "            \"MFCs.N2\",\n",
    "            \"MFCs.CO2\"\n",
    "        ]\n",
    "        make_chart(mfcc, \"MFC Flow\", \"Time(s)\", \"Flow Rate (LPM)\")\n",
    "        make_chart(\"do.pv\", \"DO PV\", \"Time(s)\", \"DO PV (%)\")\n",
    "        \n",
    "        lc = linest(c.series[0])\n",
    "        kla = lc.Value\n",
    "        \n",
    "    return c, kla\n",
    "    \n",
    "def analyze3(files, min_start=0.0, cmp_name=\"compiled\"):\n",
    "    # globals make debugging easy\n",
    "    global nwb, nws, nc, wb, ws, e1, e2, pc, c, cmpc\n",
    "    mkcmp()\n",
    "    xl.DisplayAlerts=False\n",
    "    for f in files:\n",
    "        print(\"Analyzing\", f)\n",
    "        _, _, _, ramp, *name, _ = f.split()\n",
    "        name = ' '.join(name)\n",
    "        rampdown = ramp == 'rampdown'\n",
    "        wb = xl.Workbooks.Open(gfp(f))\n",
    "        ws = wb.Worksheets(1)\n",
    "        \n",
    "        c, kla = anylf(wb,ws,name,min_start,rampdown)\n",
    "             \n",
    "        if not rampdown:\n",
    "            c.copyto(cmpc)\n",
    "            lincmp(name, kla)\n",
    "            \n",
    "        wb.SaveAs(gfp(\".\\\\analyzed\\\\\"+f.replace(\".csv\", \".xlsx\")), FileFormat=xlc.xlOpenXMLWorkbook)\n",
    "        wb.Close(True)\n",
    "        \n",
    "    make_chart(\"kla.val\", \"kLa\", \"Main Gas\", \"kLa\", \"LPM\", uws=nws)\n",
    "        \n",
    "    nwb.SaveAs(gfp(\".\\\\analyzed\\\\%s.xlsx\"%cmp_name))\n",
    "    print(\"Finished analysis!\")"
   ]
  },
  {
   "cell_type": "code",
   "execution_count": 64,
   "metadata": {
    "collapsed": true
   },
   "outputs": [
    {
     "name": "stdout",
     "output_type": "stream",
     "text": [
      "Analyzing DO micro test rampdown L plate A 0.100LPM 1 170817.csv\n",
      "Analyzing DO micro test rampdown L plate A 0.100LPM 2 170818.csv\n",
      "Analyzing DO micro test rampdown L plate A 0.100LPM 3 170818.csv\n",
      "Analyzing DO micro test rampdown L plate A 0.125LPM 1 170817.csv\n",
      "Analyzing DO micro test rampdown L plate A 0.125LPM 2 170818.csv\n",
      "Analyzing DO micro test rampdown L plate A 0.125LPM 3 170818.csv\n",
      "Analyzing DO micro test rampdown L plate A 0.150LPM 1 170817.csv\n",
      "Analyzing DO micro test rampdown L plate A 0.150LPM 2 170818.csv\n",
      "Analyzing DO micro test rampdown L plate A 0.150LPM 3 170818.csv\n",
      "Analyzing DO micro test rampdown L plate A 0.175LPM 1 170817.csv\n",
      "Analyzing DO micro test rampdown L plate A 0.175LPM 2 170818.csv\n",
      "Analyzing DO micro test rampdown L plate A 0.175LPM 3 170819.csv\n",
      "Analyzing DO micro test rampdown L plate A 0.200LPM 1 170818.csv\n",
      "Analyzing DO micro test rampdown L plate A 0.200LPM 2 170818.csv\n",
      "Analyzing DO micro test rampdown L plate A 0.200LPM 3 170819.csv\n",
      "Analyzing DO micro test rampup L plate A 0.100LPM 1 170817.csv\n"
     ]
    },
    {
     "ename": "AttributeError",
     "evalue": "'NoneType' object has no attribute 'groups'",
     "output_type": "error",
     "traceback": [
      "\u001b[1;31m---------------------------------------------------------------------------\u001b[0m",
      "\u001b[1;31mAttributeError\u001b[0m                            Traceback (most recent call last)",
      "\u001b[1;32m<ipython-input-64-a0b8272fe5ac>\u001b[0m in \u001b[0;36m<module>\u001b[1;34m()\u001b[0m\n\u001b[0;32m      6\u001b[0m \u001b[1;32mwith\u001b[0m \u001b[0mscreen_lock\u001b[0m\u001b[1;33m(\u001b[0m\u001b[0mxl\u001b[0m\u001b[1;33m)\u001b[0m\u001b[1;33m:\u001b[0m\u001b[1;33m\u001b[0m\u001b[0m\n\u001b[0;32m      7\u001b[0m     \u001b[1;32mfor\u001b[0m \u001b[0mwb\u001b[0m \u001b[1;32min\u001b[0m \u001b[0mxl\u001b[0m\u001b[1;33m.\u001b[0m\u001b[0mWorkbooks\u001b[0m\u001b[1;33m:\u001b[0m \u001b[0mwb\u001b[0m\u001b[1;33m.\u001b[0m\u001b[0mClose\u001b[0m\u001b[1;33m(\u001b[0m\u001b[1;32mFalse\u001b[0m\u001b[1;33m)\u001b[0m\u001b[1;33m\u001b[0m\u001b[0m\n\u001b[1;32m----> 8\u001b[1;33m     \u001b[0manalyze3\u001b[0m\u001b[1;33m(\u001b[0m\u001b[0mfiles\u001b[0m\u001b[1;33m,\u001b[0m \u001b[1;36m0.2\u001b[0m\u001b[1;33m,\u001b[0m \u001b[1;34m\"L Place C data\"\u001b[0m\u001b[1;33m)\u001b[0m\u001b[1;33m\u001b[0m\u001b[0m\n\u001b[0m",
      "\u001b[1;32m<ipython-input-63-2bec50203906>\u001b[0m in \u001b[0;36manalyze3\u001b[1;34m(files, min_start, cmp_name)\u001b[0m\n\u001b[0;32m    154\u001b[0m         \u001b[1;32mif\u001b[0m \u001b[1;32mnot\u001b[0m \u001b[0mrampdown\u001b[0m\u001b[1;33m:\u001b[0m\u001b[1;33m\u001b[0m\u001b[0m\n\u001b[0;32m    155\u001b[0m             \u001b[0mc\u001b[0m\u001b[1;33m.\u001b[0m\u001b[0mcopyto\u001b[0m\u001b[1;33m(\u001b[0m\u001b[0mcmpc\u001b[0m\u001b[1;33m)\u001b[0m\u001b[1;33m\u001b[0m\u001b[0m\n\u001b[1;32m--> 156\u001b[1;33m             \u001b[0mlincmp\u001b[0m\u001b[1;33m(\u001b[0m\u001b[0mname\u001b[0m\u001b[1;33m,\u001b[0m \u001b[0mkla\u001b[0m\u001b[1;33m)\u001b[0m\u001b[1;33m\u001b[0m\u001b[0m\n\u001b[0m\u001b[0;32m    157\u001b[0m \u001b[1;33m\u001b[0m\u001b[0m\n\u001b[0;32m    158\u001b[0m         \u001b[0mwb\u001b[0m\u001b[1;33m.\u001b[0m\u001b[0mSaveAs\u001b[0m\u001b[1;33m(\u001b[0m\u001b[0mgfp\u001b[0m\u001b[1;33m(\u001b[0m\u001b[1;34m\".\\\\analyzed\\\\\"\u001b[0m\u001b[1;33m+\u001b[0m\u001b[0mf\u001b[0m\u001b[1;33m.\u001b[0m\u001b[0mreplace\u001b[0m\u001b[1;33m(\u001b[0m\u001b[1;34m\".csv\"\u001b[0m\u001b[1;33m,\u001b[0m \u001b[1;34m\".xlsx\"\u001b[0m\u001b[1;33m)\u001b[0m\u001b[1;33m)\u001b[0m\u001b[1;33m,\u001b[0m \u001b[0mFileFormat\u001b[0m\u001b[1;33m=\u001b[0m\u001b[0mxlc\u001b[0m\u001b[1;33m.\u001b[0m\u001b[0mxlOpenXMLWorkbook\u001b[0m\u001b[1;33m)\u001b[0m\u001b[1;33m\u001b[0m\u001b[0m\n",
      "\u001b[1;32m<ipython-input-63-2bec50203906>\u001b[0m in \u001b[0;36mlincmp\u001b[1;34m(name, kla)\u001b[0m\n\u001b[0;32m     52\u001b[0m         \u001b[0mc\u001b[0m \u001b[1;33m=\u001b[0m \u001b[0mc1\u001b[0m\u001b[1;33m.\u001b[0m\u001b[0mEnd\u001b[0m\u001b[1;33m(\u001b[0m\u001b[0mxlc\u001b[0m\u001b[1;33m.\u001b[0m\u001b[0mxlDown\u001b[0m\u001b[1;33m)\u001b[0m\u001b[1;33m.\u001b[0m\u001b[0mOffset\u001b[0m\u001b[1;33m(\u001b[0m\u001b[1;36m2\u001b[0m\u001b[1;33m,\u001b[0m\u001b[1;36m1\u001b[0m\u001b[1;33m)\u001b[0m\u001b[1;33m\u001b[0m\u001b[0m\n\u001b[0;32m     53\u001b[0m     \u001b[0mc\u001b[0m\u001b[1;33m.\u001b[0m\u001b[0mValue\u001b[0m \u001b[1;33m=\u001b[0m \u001b[0mname\u001b[0m\u001b[1;33m\u001b[0m\u001b[0m\n\u001b[1;32m---> 54\u001b[1;33m     \u001b[0mc\u001b[0m\u001b[1;33m.\u001b[0m\u001b[0mOffset\u001b[0m\u001b[1;33m(\u001b[0m\u001b[1;36m1\u001b[0m\u001b[1;33m,\u001b[0m\u001b[1;36m2\u001b[0m\u001b[1;33m)\u001b[0m\u001b[1;33m.\u001b[0m\u001b[0mValue\u001b[0m \u001b[1;33m=\u001b[0m \u001b[0mre\u001b[0m\u001b[1;33m.\u001b[0m\u001b[0mmatch\u001b[0m\u001b[1;33m(\u001b[0m\u001b[1;34m\"\\d+LPM\"\u001b[0m\u001b[1;33m,\u001b[0m \u001b[0mname\u001b[0m\u001b[1;33m)\u001b[0m\u001b[1;33m.\u001b[0m\u001b[0mgroups\u001b[0m\u001b[1;33m(\u001b[0m\u001b[1;33m)\u001b[0m\u001b[1;33m[\u001b[0m\u001b[1;36m0\u001b[0m\u001b[1;33m]\u001b[0m\u001b[1;33m\u001b[0m\u001b[0m\n\u001b[0m\u001b[0;32m     55\u001b[0m     \u001b[0mc\u001b[0m\u001b[1;33m.\u001b[0m\u001b[0mOffset\u001b[0m\u001b[1;33m(\u001b[0m\u001b[1;36m1\u001b[0m\u001b[1;33m,\u001b[0m\u001b[1;36m3\u001b[0m\u001b[1;33m)\u001b[0m\u001b[1;33m.\u001b[0m\u001b[0mValue\u001b[0m \u001b[1;33m=\u001b[0m \u001b[0mkla\u001b[0m\u001b[1;33m\u001b[0m\u001b[0m\n\u001b[0;32m     56\u001b[0m \u001b[1;33m\u001b[0m\u001b[0m\n",
      "\u001b[1;31mAttributeError\u001b[0m: 'NoneType' object has no attribute 'groups'"
     ]
    }
   ],
   "source": [
    "fp = 'C:\\\\Users\\\\natha\\\\Documents\\\\test\\\\Sam Microsparger Test\\\\L Plate C 0.1-0.2 overnight 170817'\n",
    "xl = Excel()\n",
    "os.chdir(fp)\n",
    "os.makedirs(\"analyzed\", exist_ok=True)\n",
    "files = sorteddir()\n",
    "with screen_lock(xl):\n",
    "    for wb in xl.Workbooks: wb.Close(False)\n",
    "    analyze3(files, 0.2, \"L Place C data\")"
   ]
  },
  {
   "cell_type": "code",
   "execution_count": 41,
   "metadata": {
    "collapsed": true
   },
   "outputs": [
    {
     "name": "stdout",
     "output_type": "stream",
     "text": [
      "Analyzing DO micro test rampup L plate C 0.2LPM 1 170817.csv\n"
     ]
    },
    {
     "ename": "com_error",
     "evalue": "(-2147352567, 'Exception occurred.', (0, 'Microsoft Excel', \"Sorry, we couldn't find C:\\\\Users\\\\natha\\\\Documents\\\\test\\\\Sam Microsparger Test\\\\DO micro test rampup L plate C 0.2LPM 1 170817.csv. Is it possible it was moved, renamed or deleted?\", 'xlmain11.chm', 0, -2146827284), None)",
     "output_type": "error",
     "traceback": [
      "\u001b[1;31m---------------------------------------------------------------------------\u001b[0m",
      "\u001b[1;31mcom_error\u001b[0m                                 Traceback (most recent call last)",
      "\u001b[1;32m<ipython-input-41-2fabe379798a>\u001b[0m in \u001b[0;36m<module>\u001b[1;34m()\u001b[0m\n\u001b[0;32m      6\u001b[0m \u001b[1;32mwith\u001b[0m \u001b[0mscreen_lock\u001b[0m\u001b[1;33m(\u001b[0m\u001b[0mxl\u001b[0m\u001b[1;33m)\u001b[0m\u001b[1;33m:\u001b[0m\u001b[1;33m\u001b[0m\u001b[0m\n\u001b[0;32m      7\u001b[0m     \u001b[1;32mfor\u001b[0m \u001b[0mwb\u001b[0m \u001b[1;32min\u001b[0m \u001b[0mxl\u001b[0m\u001b[1;33m.\u001b[0m\u001b[0mWorkbooks\u001b[0m\u001b[1;33m:\u001b[0m \u001b[0mwb\u001b[0m\u001b[1;33m.\u001b[0m\u001b[0mClose\u001b[0m\u001b[1;33m(\u001b[0m\u001b[1;32mFalse\u001b[0m\u001b[1;33m)\u001b[0m\u001b[1;33m\u001b[0m\u001b[0m\n\u001b[1;32m----> 8\u001b[1;33m     \u001b[0manalyze3\u001b[0m\u001b[1;33m(\u001b[0m\u001b[0mfiles\u001b[0m\u001b[1;33m,\u001b[0m \u001b[1;36m0.2\u001b[0m\u001b[1;33m,\u001b[0m \u001b[1;34m\"out\"\u001b[0m\u001b[1;33m)\u001b[0m\u001b[1;33m\u001b[0m\u001b[0m\n\u001b[0m",
      "\u001b[1;32m<ipython-input-9-ffee29ef69b8>\u001b[0m in \u001b[0;36manalyze3\u001b[1;34m(files, min_start, cmp_name)\u001b[0m\n\u001b[0;32m    140\u001b[0m         \u001b[0mname\u001b[0m \u001b[1;33m=\u001b[0m \u001b[1;34m' '\u001b[0m\u001b[1;33m.\u001b[0m\u001b[0mjoin\u001b[0m\u001b[1;33m(\u001b[0m\u001b[0mname\u001b[0m\u001b[1;33m)\u001b[0m\u001b[1;33m\u001b[0m\u001b[0m\n\u001b[0;32m    141\u001b[0m         \u001b[0mrampdown\u001b[0m \u001b[1;33m=\u001b[0m \u001b[0mramp\u001b[0m \u001b[1;33m==\u001b[0m \u001b[1;34m'rampdown'\u001b[0m\u001b[1;33m\u001b[0m\u001b[0m\n\u001b[1;32m--> 142\u001b[1;33m         \u001b[0mwb\u001b[0m \u001b[1;33m=\u001b[0m \u001b[0mxl\u001b[0m\u001b[1;33m.\u001b[0m\u001b[0mWorkbooks\u001b[0m\u001b[1;33m.\u001b[0m\u001b[0mOpen\u001b[0m\u001b[1;33m(\u001b[0m\u001b[0mgfp\u001b[0m\u001b[1;33m(\u001b[0m\u001b[0mf\u001b[0m\u001b[1;33m)\u001b[0m\u001b[1;33m)\u001b[0m\u001b[1;33m\u001b[0m\u001b[0m\n\u001b[0m\u001b[0;32m    143\u001b[0m         \u001b[0mws\u001b[0m \u001b[1;33m=\u001b[0m \u001b[0mwb\u001b[0m\u001b[1;33m.\u001b[0m\u001b[0mWorksheets\u001b[0m\u001b[1;33m(\u001b[0m\u001b[1;36m1\u001b[0m\u001b[1;33m)\u001b[0m\u001b[1;33m\u001b[0m\u001b[0m\n\u001b[0;32m    144\u001b[0m \u001b[1;33m\u001b[0m\u001b[0m\n",
      "\u001b[1;32mc:\\program files\\python 3.5\\lib\\site-packages\\win32com\\gen_py\\00020813-0000-0000-C000-000000000046x0x1x9\\Workbooks.py\u001b[0m in \u001b[0;36mOpen\u001b[1;34m(self, Filename, UpdateLinks, ReadOnly, Format, Password, WriteResPassword, IgnoreReadOnlyRecommended, Origin, Delimiter, Editable, Notify, Converter, AddToMru, Local, CorruptLoad)\u001b[0m\n\u001b[0;32m     76\u001b[0m                         \u001b[1;33m,\u001b[0m \u001b[0mUpdateLinks\u001b[0m\u001b[1;33m,\u001b[0m \u001b[0mReadOnly\u001b[0m\u001b[1;33m,\u001b[0m \u001b[0mFormat\u001b[0m\u001b[1;33m,\u001b[0m \u001b[0mPassword\u001b[0m\u001b[1;33m,\u001b[0m \u001b[0mWriteResPassword\u001b[0m\u001b[1;33m\u001b[0m\u001b[0m\n\u001b[0;32m     77\u001b[0m                         \u001b[1;33m,\u001b[0m \u001b[0mIgnoreReadOnlyRecommended\u001b[0m\u001b[1;33m,\u001b[0m \u001b[0mOrigin\u001b[0m\u001b[1;33m,\u001b[0m \u001b[0mDelimiter\u001b[0m\u001b[1;33m,\u001b[0m \u001b[0mEditable\u001b[0m\u001b[1;33m,\u001b[0m \u001b[0mNotify\u001b[0m\u001b[1;33m\u001b[0m\u001b[0m\n\u001b[1;32m---> 78\u001b[1;33m \t\t\t, Converter, AddToMru, Local, CorruptLoad)\n\u001b[0m\u001b[0;32m     79\u001b[0m                 \u001b[1;32mif\u001b[0m \u001b[0mret\u001b[0m \u001b[1;32mis\u001b[0m \u001b[1;32mnot\u001b[0m \u001b[1;32mNone\u001b[0m\u001b[1;33m:\u001b[0m\u001b[1;33m\u001b[0m\u001b[0m\n\u001b[0;32m     80\u001b[0m                         \u001b[1;31m# See if this IUnknown is really an IDispatch\u001b[0m\u001b[1;33m\u001b[0m\u001b[1;33m\u001b[0m\u001b[0m\n",
      "\u001b[1;31mcom_error\u001b[0m: (-2147352567, 'Exception occurred.', (0, 'Microsoft Excel', \"Sorry, we couldn't find C:\\\\Users\\\\natha\\\\Documents\\\\test\\\\Sam Microsparger Test\\\\DO micro test rampup L plate C 0.2LPM 1 170817.csv. Is it possible it was moved, renamed or deleted?\", 'xlmain11.chm', 0, -2146827284), None)"
     ]
    }
   ],
   "source": [
    "fp = 'C:\\\\Users\\\\natha\\\\Documents\\\\test\\\\Sam Microsparger Test'\n",
    "xl = Excel()\n",
    "os.chdir(fp)\n",
    "os.makedirs(\"analyzed\", exist_ok=True)\n",
    "files = [\"DO micro test rampup L plate C 0.2LPM 1 170817.csv\"]\n",
    "with screen_lock(xl):\n",
    "    for wb in xl.Workbooks: wb.Close(False)\n",
    "    analyze3(files, 0.2, \"out\")"
   ]
  },
  {
   "cell_type": "code",
   "execution_count": 122,
   "metadata": {},
   "outputs": [
    {
     "name": "stdout",
     "output_type": "stream",
     "text": [
      "Analyzing DO micro test rampup L plate D 0.100LPM 1 170901.csv\n",
      "Analyzing DO micro test rampup L plate D 0.100LPM 1 170904.csv\n",
      "Analyzing DO micro test rampup L plate D 0.100LPM 2 170901.csv\n",
      "Analyzing DO micro test rampup L plate D 0.100LPM 2 170904.csv\n",
      "Analyzing DO micro test rampup L plate D 0.100LPM 3 170901.csv\n",
      "Analyzing DO micro test rampup L plate D 0.100LPM 3 170904.csv\n",
      "Analyzing DO micro test rampup L plate D 0.125LPM 1 170901.csv\n",
      "Analyzing DO micro test rampup L plate D 0.125LPM 1 170904.csv\n",
      "Analyzing DO micro test rampup L plate D 0.125LPM 2 170901.csv\n",
      "Analyzing DO micro test rampup L plate D 0.125LPM 2 170904.csv\n",
      "Analyzing DO micro test rampup L plate D 0.125LPM 3 170901.csv\n",
      "Analyzing DO micro test rampup L plate D 0.125LPM 3 170904.csv\n",
      "Analyzing DO micro test rampup L plate D 0.150LPM 1 170901.csv\n",
      "Analyzing DO micro test rampup L plate D 0.150LPM 1 170904.csv\n",
      "Analyzing DO micro test rampup L plate D 0.150LPM 2 170901.csv\n",
      "Analyzing DO micro test rampup L plate D 0.150LPM 2 170904.csv\n",
      "Analyzing DO micro test rampup L plate D 0.150LPM 3 170901.csv\n",
      "Analyzing DO micro test rampup L plate D 0.150LPM 3 170905.csv\n",
      "Analyzing DO micro test rampup L plate D 0.175LPM 1 170901.csv\n",
      "Analyzing DO micro test rampup L plate D 0.175LPM 1 170904.csv\n",
      "Analyzing DO micro test rampup L plate D 0.175LPM 2 170901.csv\n",
      "Analyzing DO micro test rampup L plate D 0.175LPM 2 170904.csv\n",
      "Analyzing DO micro test rampup L plate D 0.175LPM 3 170901.csv\n",
      "Analyzing DO micro test rampup L plate D 0.175LPM 3 170905.csv\n",
      "Analyzing DO micro test rampup L plate D 0.200LPM 1 170901.csv\n",
      "Analyzing DO micro test rampup L plate D 0.200LPM 1 170904.csv\n",
      "Analyzing DO micro test rampup L plate D 0.200LPM 2 170901.csv\n",
      "Analyzing DO micro test rampup L plate D 0.200LPM 2 170904.csv\n",
      "Analyzing DO micro test rampup L plate D 0.200LPM 3 170901.csv\n",
      "Analyzing DO micro test rampup L plate D 0.200LPM 3 170905.csv\n",
      "Finished analysis!\n"
     ]
    }
   ],
   "source": [
    "fp = 'C:\\\\Users\\\\natha\\\\Documents\\\\test\\\\Sam Microsparger Test\\\\L Plate D 0.1-0.2 overnight 170831'\n",
    "xl = Excel()\n",
    "os.chdir(fp)\n",
    "os.makedirs(\"analyzed\", exist_ok=True)\n",
    "files = [f for f in sorteddir() if \"%\" not in f and \"rampup\" in f]\n",
    "with screen_lock(xl):\n",
    "    for wb in xl.Workbooks: wb.Close(False)\n",
    "    analyze3(files, 0.2, \"L Plate D data\")"
   ]
  },
  {
   "cell_type": "code",
   "execution_count": 121,
   "metadata": {
    "scrolled": false
   },
   "outputs": [
    {
     "name": "stdout",
     "output_type": "stream",
     "text": [
      "Analyzing DO micro test rampup L plate D 2mm 0.100LPM 1 170905.csv\n",
      "Analyzing DO micro test rampup L plate D 2mm 0.100LPM 2 170906.csv\n",
      "Analyzing DO micro test rampup L plate D 2mm 0.100LPM 3 170906.csv\n",
      "Analyzing DO micro test rampup L plate D 2mm 0.125LPM 1 170905.csv\n",
      "Analyzing DO micro test rampup L plate D 2mm 0.125LPM 2 170906.csv\n",
      "Analyzing DO micro test rampup L plate D 2mm 0.125LPM 3 170906.csv\n",
      "Analyzing DO micro test rampup L plate D 2mm 0.150LPM 1 170906.csv\n",
      "Analyzing DO micro test rampup L plate D 2mm 0.150LPM 2 170906.csv\n",
      "Analyzing DO micro test rampup L plate D 2mm 0.150LPM 3 170906.csv\n",
      "Analyzing DO micro test rampup L plate D 2mm 0.175LPM 1 170906.csv\n",
      "Analyzing DO micro test rampup L plate D 2mm 0.175LPM 2 170906.csv\n",
      "Analyzing DO micro test rampup L plate D 2mm 0.175LPM 3 170906.csv\n",
      "Analyzing DO micro test rampup L plate D 2mm 0.200LPM 1 170906.csv\n",
      "Analyzing DO micro test rampup L plate D 2mm 0.200LPM 2 170906.csv\n",
      "Analyzing DO micro test rampup L plate D 2mm 0.200LPM 3 170906.csv\n",
      "Finished analysis!\n"
     ]
    }
   ],
   "source": [
    "fp = 'C:\\\\Users\\\\natha\\\\Documents\\\\test\\\\Sam Microsparger Test\\\\L Plate D 2mm 0.1-0.2 overnight 170831'\n",
    "xl = Excel()\n",
    "os.chdir(fp)\n",
    "os.makedirs(\"analyzed\", exist_ok=True)\n",
    "files = [f for f in sorteddir() if \"%\" not in f and \"rampup\" in f]\n",
    "with screen_lock(xl):\n",
    "    for wb in xl.Workbooks: wb.Close(False)\n",
    "    analyze3(files, 0.2, \"L Plate D 2mm data\")"
   ]
  },
  {
   "cell_type": "code",
   "execution_count": 17,
   "metadata": {
    "scrolled": true
   },
   "outputs": [
    {
     "name": "stdout",
     "output_type": "stream",
     "text": [
      "Analyzing DO micro test rampup L plate E 4mm 0.100LPM 1 170916.csv\n",
      "Analyzing DO micro test rampup L plate E 4mm 0.100LPM 2 170916.csv\n",
      "Analyzing DO micro test rampup L plate E 4mm 0.100LPM 3 170916.csv\n",
      "Analyzing DO micro test rampup L plate E 4mm 0.125LPM 1 170916.csv\n",
      "Analyzing DO micro test rampup L plate E 4mm 0.125LPM 2 170916.csv\n",
      "Analyzing DO micro test rampup L plate E 4mm 0.125LPM 3 170916.csv\n",
      "Analyzing DO micro test rampup L plate E 4mm 0.150LPM 1 170916.csv\n",
      "Analyzing DO micro test rampup L plate E 4mm 0.150LPM 2 170916.csv\n",
      "Analyzing DO micro test rampup L plate E 4mm 0.150LPM 3 170917.csv\n",
      "Analyzing DO micro test rampup L plate E 4mm 0.175LPM 1 170916.csv\n",
      "Analyzing DO micro test rampup L plate E 4mm 0.175LPM 2 170916.csv\n",
      "Analyzing DO micro test rampup L plate E 4mm 0.175LPM 3 170917.csv\n",
      "Analyzing DO micro test rampup L plate E 4mm 0.200LPM 1 170916.csv\n",
      "Analyzing DO micro test rampup L plate E 4mm 0.200LPM 2 170916.csv\n",
      "Analyzing DO micro test rampup L plate E 4mm 0.200LPM 3 170917.csv\n",
      "Finished analysis!\n"
     ]
    }
   ],
   "source": [
    "fp = 'C:\\\\Users\\\\natha\\\\Documents\\\\test\\\\Sam Microsparger Test\\\\L Plate E 4mm 0.1-0.2 overnight 170915'\n",
    "xl = Excel()\n",
    "os.chdir(fp)\n",
    "os.makedirs(\"analyzed\", exist_ok=True)\n",
    "files = [f for f in sorteddir() if \"%\" not in f and \"rampup\" in f]\n",
    "with screen_lock(xl):\n",
    "    for wb in xl.Workbooks: wb.Close(False)\n",
    "    analyze3(files, 0.2, \"L Plate E 4mm data\")"
   ]
  },
  {
   "cell_type": "code",
   "execution_count": null,
   "metadata": {
    "collapsed": true
   },
   "outputs": [],
   "source": []
  }
 ],
 "metadata": {
  "kernelspec": {
   "display_name": "Python 3",
   "language": "python",
   "name": "python3"
  },
  "language_info": {
   "codemirror_mode": {
    "name": "ipython",
    "version": 3
   },
   "file_extension": ".py",
   "mimetype": "text/x-python",
   "name": "python",
   "nbconvert_exporter": "python",
   "pygments_lexer": "ipython3",
   "version": "3.5.0"
  }
 },
 "nbformat": 4,
 "nbformat_minor": 2
}
