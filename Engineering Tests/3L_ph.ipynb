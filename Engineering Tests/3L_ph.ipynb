{
 "cells": [
  {
   "cell_type": "code",
   "execution_count": 1,
   "metadata": {
    "collapsed": true
   },
   "outputs": [],
   "source": [
    "from hello.hello3 import HelloApp, NotLoggedInError, BadError\n",
    "import time, datetime\n",
    "import requests"
   ]
  },
  {
   "cell_type": "code",
   "execution_count": 2,
   "metadata": {
    "collapsed": true
   },
   "outputs": [],
   "source": [
    "def wait1(s):\n",
    "    dend = (datetime.datetime.now() + datetime.timedelta(seconds=s)).strftime(\"%m/%d/%Y %I:%M:%S %p\")\n",
    "    print(\"Sleeping %d seconds, ending at %s\" %(s,dend))\n",
    "    start = time.time()\n",
    "    end = start + s\n",
    "    try:\n",
    "        while time.time() < end:\n",
    "            time.sleep(5)\n",
    "    except KeyboardInterrupt:\n",
    "        pass\n",
    "    \n",
    "def call(f, *args):\n",
    "    s = \"(\" + \", \".join(map(repr, args)) + \")\"\n",
    "    print(\"Calling %s%s\" % (f.__name__, s))\n",
    "    while True:\n",
    "        try:\n",
    "            rv = f(*args)\n",
    "        except NotLoggedInError:\n",
    "            h.login()\n",
    "        except requests.exceptions.ConnectTimeout as e:\n",
    "            print(str(e))\n",
    "            print(\"Make sure you're on the right network!\")\n",
    "        except (BadError, IOError) as e:\n",
    "            print(str(e))\n",
    "        else:\n",
    "            return rv\n",
    "        \n",
    "def startbatch(name):\n",
    "    if call(h.batchrunning):\n",
    "        call(h.endbatch)\n",
    "    return call(h.startbatch, name)\n",
    "\n",
    "def setdo(mode, n2_or_sp, o2=None):\n",
    "    call(h.setdo, mode, n2_or_sp,o2)\n",
    "    \n",
    "def doman(n2, o2):\n",
    "    setdo(1, n2, o2)\n",
    "    \n",
    "def doauto(sp):\n",
    "    setdo(0, sp)\n",
    "    \n",
    "def dooff():\n",
    "    setdo(2, 0, 0)\n",
    "        \n",
    "def endbatch():\n",
    "    call(h.endbatch)\n",
    "\n",
    "def wait2(s):\n",
    "    pass\n",
    "wait = wait1"
   ]
  }
 ],
 "metadata": {
  "kernelspec": {
   "display_name": "Python 3",
   "language": "python",
   "name": "python3"
  },
  "language_info": {
   "codemirror_mode": {
    "name": "ipython",
    "version": 3
   },
   "file_extension": ".py",
   "mimetype": "text/x-python",
   "name": "python",
   "nbconvert_exporter": "python",
   "pygments_lexer": "ipython3",
   "version": "3.5.2"
  }
 },
 "nbformat": 4,
 "nbformat_minor": 1
}
