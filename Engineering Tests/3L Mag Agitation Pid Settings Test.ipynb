{
 "cells": [
  {
   "cell_type": "code",
   "execution_count": 1,
   "metadata": {
    "collapsed": false
   },
   "outputs": [],
   "source": [
    "from hello.hello3 import HelloApp\n",
    "from hello import hello3\n",
    "from hello import hello\n",
    "from hello.pid.ag_pid import agpid\n",
    "from hello.pid.ag_pid.agpid import *"
   ]
  },
  {
   "cell_type": "code",
   "execution_count": null,
   "metadata": {
    "collapsed": true
   },
   "outputs": [],
   "source": [
    "def runagpid(r):\n",
    "    try:\n",
    "        r.doall()\n",
    "    except Exception as e:\n",
    "        import traceback\n",
    "        traceback.print_exc()\n",
    "    finally:\n",
    "        return r\n",
    "    \n",
    "def test1(ip='192.168.1.21'):\n",
    "    p = 0.1\n",
    "    i = 0.01\n",
    "    d = 0\n",
    "    info=PIDInfo(p, i, d, beta=0)\n",
    "    app = hello3.open_hello(ip)\n",
    "    tests = []\n",
    "    for sp in (8, 10, 12, 14, 30, 55):\n",
    "        t = AgOffToAutoTest(info, 0, sp, app)\n",
    "        tests.append(t)\n",
    "    for start_pv in (10, 12, 14):\n",
    "        t1 = AgManToAutoTest(info, start_pv, start_pv-2, app)\n",
    "        t2 = AgAutoToAutoTest(info, start_pv, start_pv-2, app)\n",
    "        tests.extend((t1, t2))\n",
    "    for start_pv in (8, 10, 12):\n",
    "        t1 = AgManToAutoTest(info, start_pv, start_pv+2, app)\n",
    "        t2 = AgAutoToAutoTest(info, start_pv, start_pv+2, app)\n",
    "        tests.extend((t1, t2))\n",
    "    r = PIDRunner(tests, wb_name='3L Mag Drive Agitation Test.xlsx')\n",
    "    return runagpid(r)\n",
    "    "
   ]
  },
  {
   "cell_type": "code",
   "execution_count": null,
   "metadata": {
    "collapsed": false,
    "scrolled": true
   },
   "outputs": [],
   "source": [
    "r=test1()"
   ]
  },
  {
   "cell_type": "code",
   "execution_count": null,
   "metadata": {
    "collapsed": true
   },
   "outputs": [],
   "source": [
    "def test2(ip='192.168.1.21'):\n",
    "    p = 0.1\n",
    "    i = 0.01\n",
    "    d = 0\n",
    "    app = hello3.open_hello(ip)\n",
    "    tests = []\n",
    "    for start_pv in (10, 12, 14):\n",
    "        t2 = AgAutoToAutoTest(p, i, d, start_pv-2, start_pv, app)\n",
    "        tests.append(t2)\n",
    "    for start_pv in (8, 10, 12):\n",
    "        t1 = AgManToAutoTest(p, i, d, start_pv+2, start_pv, app)\n",
    "        t2 = AgAutoToAutoTest(p, i, d, start_pv+2, start_pv, app)\n",
    "        # t3 = AgManToManTest(p, i, d, start_pv+2, start_pv, app)\n",
    "        tests.extend((t1, t2))\n",
    "    r = PIDRunner(tests, wb_name='test.xlsx')\n",
    "    return runagpid(r)"
   ]
  },
  {
   "cell_type": "code",
   "execution_count": null,
   "metadata": {
    "collapsed": false
   },
   "outputs": [],
   "source": [
    "from officelib.xllib import *\n",
    "r.plotall()\n",
    "r.chartbypid()"
   ]
  },
  {
   "cell_type": "code",
   "execution_count": null,
   "metadata": {
    "collapsed": true
   },
   "outputs": [],
   "source": [
    "def test3(ip='192.168.1.21'):\n",
    "    pid = PIDInfo(.1, 0.01, 0, 0)\n",
    "    tests = []\n",
    "    for sp in 12, 20, 50:\n",
    "        t = AgOffToAutoTest(pid, 0, sp, ip)\n",
    "        tests.append(t)\n",
    "    r = PIDRunner(tests, \"test3L.xlsx\")\n",
    "    r.runall()"
   ]
  },
  {
   "cell_type": "code",
   "execution_count": null,
   "metadata": {
    "collapsed": false
   },
   "outputs": [],
   "source": [
    "test3()"
   ]
  },
  {
   "cell_type": "code",
   "execution_count": null,
   "metadata": {
    "collapsed": true
   },
   "outputs": [],
   "source": []
  }
 ],
 "metadata": {
  "kernelspec": {
   "display_name": "Python 3",
   "language": "python",
   "name": "python3"
  },
  "language_info": {
   "codemirror_mode": {
    "name": "ipython",
    "version": 3
   },
   "file_extension": ".py",
   "mimetype": "text/x-python",
   "name": "python",
   "nbconvert_exporter": "python",
   "pygments_lexer": "ipython3",
   "version": "3.5.2"
  }
 },
 "nbformat": 4,
 "nbformat_minor": 1
}
