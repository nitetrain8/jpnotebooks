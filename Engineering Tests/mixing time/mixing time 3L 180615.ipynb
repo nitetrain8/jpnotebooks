{
 "cells": [
  {
   "cell_type": "code",
   "execution_count": 10,
   "metadata": {},
   "outputs": [],
   "source": [
    "from hello.hello3 import HelloApp, NotLoggedInError\n",
    "from scripts.archive.analysis.mixingtime import CompiledMixingTime, CompiledMixingSaveAsInfo\n",
    "import os\n",
    "import re\n",
    "\n",
    "path = \"C:\\\\users\\\\natha\\\\documents\\\\personal\\\\test\\\\mixing_time_raw2\\\\\"\n",
    "mixing_test_re = re.compile(r\"cond_c_(\\d+)\")\n",
    "from pysrc import logger\n",
    "\n",
    "logger = logger.BuiltinLogger(__name__)\n",
    "\n",
    "def dl_all_batchnames(ipv4='192.168.1.14'):\n",
    "    \"\"\"\n",
    "    download all batchnames from the given reactor and\n",
    "    analyze them.\n",
    "    \"\"\"\n",
    "    app = HelloApp(ipv4)\n",
    "    app.login()\n",
    "    batches = app.getBatches()\n",
    "    ids = batches.ids_to_batches.keys()\n",
    "\n",
    "    try:\n",
    "        os.makedirs(path)\n",
    "    except FileExistsError:\n",
    "        pass\n",
    "\n",
    "    for id in ids:\n",
    "        name = batches.getbatchname(id)\n",
    "        if name.startswith(\"cond_c_\"):\n",
    "            logger.info(\"Downloading Batch File: (%d) \\\"%s\\\"\", id, name)\n",
    "            report = app.getdatareport_bybatchid(id)\n",
    "\n",
    "            with open(path + name + \".csv\", 'wb') as f:\n",
    "                f.write(report)\n",
    "\n",
    "def analyze_batches():\n",
    "    si = CompiledMixingSaveAsInfo(path.replace(\"_raw\", \"\"))\n",
    "    c = CompiledMixingTime(saveas_info=si)\n",
    "    for file in os.listdir(path):\n",
    "        c.add_csv(path + file)\n",
    "    c.analyze_all()\n",
    "\n",
    "def analyze_position_test():\n",
    "    si = CompiledMixingSaveAsInfo(path.replace(\"_raw\", \"_positions\"))\n",
    "    c = CompiledMixingTime(saveas_info=si)\n",
    "    for file in os.listdir(path):\n",
    "        m = mixing_test_re.match(file)\n",
    "        if not m:\n",
    "            continue\n",
    "        c.add_csv(path + file)\n",
    "    c.analyze_all()\n",
    "\n",
    "def analyze_mixing_time(files):\n",
    "    si = CompiledMixingSaveAsInfo(path.replace(\"_raw\", \"_mixing\"))\n",
    "    c = CompiledMixingTime(saveas_info=si, logger=logger, tests_per_group=5)\n",
    "    c.logger.setLevel(20)\n",
    "    for file in files:\n",
    "        m = mixing_test_re.match(file)\n",
    "        if not m:\n",
    "            continue\n",
    "        c.add_csv(path + file, 'pHBRaw')\n",
    "    c.sort_tests(key=lambda t: int(mixing_test_re.match(t.name).groups()[0]))\n",
    "    c.analyze_all()\n",
    "\n",
    "def main_161229():\n",
    "    #dl_all_batchnames()\n",
    "    analyze_mixing_time(os.listdir(path))"
   ]
  },
  {
   "cell_type": "code",
   "execution_count": 2,
   "metadata": {
    "collapsed": true
   },
   "outputs": [],
   "source": [
    "import time\n",
    "\n",
    "def call(f, *args, **kw):\n",
    "    s = \"(\" + \", \".join(map(repr, args)) + \")\"\n",
    "    m = \"%s%s\" % (f.__name__, s)\n",
    "    #print(m)\n",
    "    while True:\n",
    "        try:\n",
    "            rv = f(*args, **kw)\n",
    "        except NotLoggedInError:\n",
    "            h.login()\n",
    "        except requests.exceptions.ConnectTimeout as e:\n",
    "            print(str(e))\n",
    "            print(\"Make sure you're on the right network!\")\n",
    "        except (BadError, IOError) as e:\n",
    "            print(str(e))\n",
    "        except Exception: \n",
    "            print(str(e))\n",
    "        else:\n",
    "            return rv\n",
    "        \n",
    "def startbatch(name):\n",
    "    if call(h.batchrunning):\n",
    "        call(h.endbatch)\n",
    "    return call(h.startbatch, name)\n",
    "\n",
    "def endbatch():\n",
    "    call(h.endbatch)\n",
    "    \n",
    "def runrecipe(name):\n",
    "    call(h.runrecipe, name)\n",
    "\n",
    "def start_test(num):\n",
    "    global h\n",
    "    h = HelloApp('192.168.1.14')\n",
    "    call(h.login)\n",
    "    endbatch()\n",
    "    bn = \"cond_c_%d\" % (num)\n",
    "    startbatch(bn)\n",
    "    input(\"Press enter to start recipe\")\n",
    "    runrecipe(\"conductivity\")\n",
    "    input(\"Press enter when PV is stable\")\n",
    "    end = time.time() + 80\n",
    "    print(\"Waiting 80 seconds. Press ctrl-c to cancel\")\n",
    "    try:\n",
    "        while time.time() < end:\n",
    "            time.sleep(0.1)\n",
    "    except KeyboardInterrupt:\n",
    "        pass\n",
    "    call(h.login)\n",
    "    endbatch()\n",
    "    "
   ]
  },
  {
   "cell_type": "code",
   "execution_count": 3,
   "metadata": {
    "collapsed": true
   },
   "outputs": [],
   "source": [
    "i = 1"
   ]
  },
  {
   "cell_type": "code",
   "execution_count": 4,
   "metadata": {
    "collapsed": true
   },
   "outputs": [
    {
     "name": "stdout",
     "output_type": "stream",
     "text": [
      "Press enter to start recipe\n"
     ]
    },
    {
     "ename": "KeyboardInterrupt",
     "evalue": "",
     "output_type": "error",
     "traceback": [
      "\u001b[1;31m---------------------------------------------------------------------------\u001b[0m",
      "\u001b[1;31mKeyboardInterrupt\u001b[0m                         Traceback (most recent call last)",
      "\u001b[1;32mc:\\program files\\python 3.5\\lib\\site-packages\\ipykernel\\kernelbase.py\u001b[0m in \u001b[0;36m_input_request\u001b[1;34m(self, prompt, ident, parent, password)\u001b[0m\n\u001b[0;32m    729\u001b[0m             \u001b[1;32mtry\u001b[0m\u001b[1;33m:\u001b[0m\u001b[1;33m\u001b[0m\u001b[0m\n\u001b[1;32m--> 730\u001b[1;33m                 \u001b[0mident\u001b[0m\u001b[1;33m,\u001b[0m \u001b[0mreply\u001b[0m \u001b[1;33m=\u001b[0m \u001b[0mself\u001b[0m\u001b[1;33m.\u001b[0m\u001b[0msession\u001b[0m\u001b[1;33m.\u001b[0m\u001b[0mrecv\u001b[0m\u001b[1;33m(\u001b[0m\u001b[0mself\u001b[0m\u001b[1;33m.\u001b[0m\u001b[0mstdin_socket\u001b[0m\u001b[1;33m,\u001b[0m \u001b[1;36m0\u001b[0m\u001b[1;33m)\u001b[0m\u001b[1;33m\u001b[0m\u001b[0m\n\u001b[0m\u001b[0;32m    731\u001b[0m             \u001b[1;32mexcept\u001b[0m \u001b[0mException\u001b[0m\u001b[1;33m:\u001b[0m\u001b[1;33m\u001b[0m\u001b[0m\n",
      "\u001b[1;32mc:\\program files\\python 3.5\\lib\\site-packages\\jupyter_client\\session.py\u001b[0m in \u001b[0;36mrecv\u001b[1;34m(self, socket, mode, content, copy)\u001b[0m\n\u001b[0;32m    777\u001b[0m         \u001b[1;32mtry\u001b[0m\u001b[1;33m:\u001b[0m\u001b[1;33m\u001b[0m\u001b[0m\n\u001b[1;32m--> 778\u001b[1;33m             \u001b[0mmsg_list\u001b[0m \u001b[1;33m=\u001b[0m \u001b[0msocket\u001b[0m\u001b[1;33m.\u001b[0m\u001b[0mrecv_multipart\u001b[0m\u001b[1;33m(\u001b[0m\u001b[0mmode\u001b[0m\u001b[1;33m,\u001b[0m \u001b[0mcopy\u001b[0m\u001b[1;33m=\u001b[0m\u001b[0mcopy\u001b[0m\u001b[1;33m)\u001b[0m\u001b[1;33m\u001b[0m\u001b[0m\n\u001b[0m\u001b[0;32m    779\u001b[0m         \u001b[1;32mexcept\u001b[0m \u001b[0mzmq\u001b[0m\u001b[1;33m.\u001b[0m\u001b[0mZMQError\u001b[0m \u001b[1;32mas\u001b[0m \u001b[0me\u001b[0m\u001b[1;33m:\u001b[0m\u001b[1;33m\u001b[0m\u001b[0m\n",
      "\u001b[1;32mc:\\program files\\python 3.5\\lib\\site-packages\\zmq\\sugar\\socket.py\u001b[0m in \u001b[0;36mrecv_multipart\u001b[1;34m(self, flags, copy, track)\u001b[0m\n\u001b[0;32m    394\u001b[0m         \"\"\"\n\u001b[1;32m--> 395\u001b[1;33m         \u001b[0mparts\u001b[0m \u001b[1;33m=\u001b[0m \u001b[1;33m[\u001b[0m\u001b[0mself\u001b[0m\u001b[1;33m.\u001b[0m\u001b[0mrecv\u001b[0m\u001b[1;33m(\u001b[0m\u001b[0mflags\u001b[0m\u001b[1;33m,\u001b[0m \u001b[0mcopy\u001b[0m\u001b[1;33m=\u001b[0m\u001b[0mcopy\u001b[0m\u001b[1;33m,\u001b[0m \u001b[0mtrack\u001b[0m\u001b[1;33m=\u001b[0m\u001b[0mtrack\u001b[0m\u001b[1;33m)\u001b[0m\u001b[1;33m]\u001b[0m\u001b[1;33m\u001b[0m\u001b[0m\n\u001b[0m\u001b[0;32m    396\u001b[0m         \u001b[1;31m# have first part already, only loop while more to receive\u001b[0m\u001b[1;33m\u001b[0m\u001b[1;33m\u001b[0m\u001b[0m\n",
      "\u001b[1;32mzmq\\backend\\cython\\socket.pyx\u001b[0m in \u001b[0;36mzmq.backend.cython.socket.Socket.recv (zmq\\backend\\cython\\socket.c:7683)\u001b[1;34m()\u001b[0m\n",
      "\u001b[1;32mzmq\\backend\\cython\\socket.pyx\u001b[0m in \u001b[0;36mzmq.backend.cython.socket.Socket.recv (zmq\\backend\\cython\\socket.c:7460)\u001b[1;34m()\u001b[0m\n",
      "\u001b[1;32mzmq\\backend\\cython\\socket.pyx\u001b[0m in \u001b[0;36mzmq.backend.cython.socket._recv_copy (zmq\\backend\\cython\\socket.c:2344)\u001b[1;34m()\u001b[0m\n",
      "\u001b[1;32mc:\\program files\\python 3.5\\lib\\site-packages\\zmq\\backend\\cython\\checkrc.pxd\u001b[0m in \u001b[0;36mzmq.backend.cython.checkrc._check_rc (zmq\\backend\\cython\\socket.c:9621)\u001b[1;34m()\u001b[0m\n",
      "\u001b[1;31mKeyboardInterrupt\u001b[0m: ",
      "\nDuring handling of the above exception, another exception occurred:\n",
      "\u001b[1;31mKeyboardInterrupt\u001b[0m                         Traceback (most recent call last)",
      "\u001b[1;32m<ipython-input-4-965fe041d831>\u001b[0m in \u001b[0;36m<module>\u001b[1;34m()\u001b[0m\n\u001b[0;32m      1\u001b[0m \u001b[1;32mwhile\u001b[0m \u001b[1;32mTrue\u001b[0m\u001b[1;33m:\u001b[0m\u001b[1;33m\u001b[0m\u001b[0m\n\u001b[1;32m----> 2\u001b[1;33m     \u001b[0mstart_test\u001b[0m\u001b[1;33m(\u001b[0m\u001b[0mi\u001b[0m\u001b[1;33m)\u001b[0m\u001b[1;33m\u001b[0m\u001b[0m\n\u001b[0m\u001b[0;32m      3\u001b[0m     \u001b[0mi\u001b[0m \u001b[1;33m+=\u001b[0m \u001b[1;36m1\u001b[0m\u001b[1;33m\u001b[0m\u001b[0m\n\u001b[0;32m      4\u001b[0m     \u001b[0mb\u001b[0m \u001b[1;33m=\u001b[0m \u001b[0minput\u001b[0m\u001b[1;33m(\u001b[0m\u001b[1;34m\"Press enter to continue (or type \\\"quit\\\" and press enter to quit)\"\u001b[0m\u001b[1;33m)\u001b[0m\u001b[1;33m\u001b[0m\u001b[0m\n\u001b[0;32m      5\u001b[0m     \u001b[1;32mif\u001b[0m \u001b[0mb\u001b[0m\u001b[1;33m.\u001b[0m\u001b[0mlower\u001b[0m\u001b[1;33m(\u001b[0m\u001b[1;33m)\u001b[0m \u001b[1;32min\u001b[0m \u001b[1;33m(\u001b[0m\u001b[1;34m\"q\"\u001b[0m\u001b[1;33m,\u001b[0m \u001b[1;34m\"quit\"\u001b[0m\u001b[1;33m)\u001b[0m\u001b[1;33m:\u001b[0m\u001b[1;33m\u001b[0m\u001b[0m\n",
      "\u001b[1;32m<ipython-input-2-ca9fc0cdccd5>\u001b[0m in \u001b[0;36mstart_test\u001b[1;34m(num)\u001b[0m\n\u001b[0;32m     38\u001b[0m     \u001b[0mbn\u001b[0m \u001b[1;33m=\u001b[0m \u001b[1;34m\"cond_c_%d\"\u001b[0m \u001b[1;33m%\u001b[0m \u001b[1;33m(\u001b[0m\u001b[0mnum\u001b[0m\u001b[1;33m)\u001b[0m\u001b[1;33m\u001b[0m\u001b[0m\n\u001b[0;32m     39\u001b[0m     \u001b[0mstartbatch\u001b[0m\u001b[1;33m(\u001b[0m\u001b[0mbn\u001b[0m\u001b[1;33m)\u001b[0m\u001b[1;33m\u001b[0m\u001b[0m\n\u001b[1;32m---> 40\u001b[1;33m     \u001b[0minput\u001b[0m\u001b[1;33m(\u001b[0m\u001b[1;34m\"Press enter to start recipe\"\u001b[0m\u001b[1;33m)\u001b[0m\u001b[1;33m\u001b[0m\u001b[0m\n\u001b[0m\u001b[0;32m     41\u001b[0m     \u001b[0mrunrecipe\u001b[0m\u001b[1;33m(\u001b[0m\u001b[1;34m\"conductivity\"\u001b[0m\u001b[1;33m)\u001b[0m\u001b[1;33m\u001b[0m\u001b[0m\n\u001b[0;32m     42\u001b[0m     \u001b[0minput\u001b[0m\u001b[1;33m(\u001b[0m\u001b[1;34m\"Press enter when PV is stable\"\u001b[0m\u001b[1;33m)\u001b[0m\u001b[1;33m\u001b[0m\u001b[0m\n",
      "\u001b[1;32mc:\\program files\\python 3.5\\lib\\site-packages\\ipykernel\\kernelbase.py\u001b[0m in \u001b[0;36mraw_input\u001b[1;34m(self, prompt)\u001b[0m\n\u001b[0;32m    703\u001b[0m             \u001b[0mself\u001b[0m\u001b[1;33m.\u001b[0m\u001b[0m_parent_ident\u001b[0m\u001b[1;33m,\u001b[0m\u001b[1;33m\u001b[0m\u001b[0m\n\u001b[0;32m    704\u001b[0m             \u001b[0mself\u001b[0m\u001b[1;33m.\u001b[0m\u001b[0m_parent_header\u001b[0m\u001b[1;33m,\u001b[0m\u001b[1;33m\u001b[0m\u001b[0m\n\u001b[1;32m--> 705\u001b[1;33m             \u001b[0mpassword\u001b[0m\u001b[1;33m=\u001b[0m\u001b[1;32mFalse\u001b[0m\u001b[1;33m,\u001b[0m\u001b[1;33m\u001b[0m\u001b[0m\n\u001b[0m\u001b[0;32m    706\u001b[0m         )\n\u001b[0;32m    707\u001b[0m \u001b[1;33m\u001b[0m\u001b[0m\n",
      "\u001b[1;32mc:\\program files\\python 3.5\\lib\\site-packages\\ipykernel\\kernelbase.py\u001b[0m in \u001b[0;36m_input_request\u001b[1;34m(self, prompt, ident, parent, password)\u001b[0m\n\u001b[0;32m    733\u001b[0m             \u001b[1;32mexcept\u001b[0m \u001b[0mKeyboardInterrupt\u001b[0m\u001b[1;33m:\u001b[0m\u001b[1;33m\u001b[0m\u001b[0m\n\u001b[0;32m    734\u001b[0m                 \u001b[1;31m# re-raise KeyboardInterrupt, to truncate traceback\u001b[0m\u001b[1;33m\u001b[0m\u001b[1;33m\u001b[0m\u001b[0m\n\u001b[1;32m--> 735\u001b[1;33m                 \u001b[1;32mraise\u001b[0m \u001b[0mKeyboardInterrupt\u001b[0m\u001b[1;33m\u001b[0m\u001b[0m\n\u001b[0m\u001b[0;32m    736\u001b[0m             \u001b[1;32melse\u001b[0m\u001b[1;33m:\u001b[0m\u001b[1;33m\u001b[0m\u001b[0m\n\u001b[0;32m    737\u001b[0m                 \u001b[1;32mbreak\u001b[0m\u001b[1;33m\u001b[0m\u001b[0m\n",
      "\u001b[1;31mKeyboardInterrupt\u001b[0m: "
     ]
    }
   ],
   "source": [
    "while True:\n",
    "    start_test(i)\n",
    "    i += 1\n",
    "    b = input(\"Press enter to continue (or type \\\"quit\\\" and press enter to quit)\")\n",
    "    if b.lower() in (\"q\", \"quit\"):\n",
    "        break"
   ]
  },
  {
   "cell_type": "code",
   "execution_count": null,
   "metadata": {
    "collapsed": true
   },
   "outputs": [],
   "source": [
    "# app = HelloApp('192.168.1.15')\n",
    "# app.login()\n",
    "# for rpm in (12, 15, 19):\n",
    "#     for i in range(1, 6):\n",
    "#         bn = \"mt %drpm 5.%d\" % (rpm, i)\n",
    "#         print(\"Downloading:\", bn)\n",
    "#         b = app.getdatareport_bybatchname(bn)\n",
    "#         with open(path + \"\\\\%s.csv\" % bn, 'wb') as f:\n",
    "#             f.write(b)"
   ]
  },
  {
   "cell_type": "code",
   "execution_count": 5,
   "metadata": {
    "collapsed": true
   },
   "outputs": [],
   "source": [
    "def download(num, app=None):\n",
    "    call(h.login)\n",
    "    bn = \"cond_c_%d\" % num\n",
    "    print(\"Downloading %s\"%bn)\n",
    "    b = call(h.getdatareport_bybatchname, bn)\n",
    "    with open(path + \"\\\\%s.csv\" % bn, 'wb') as f:\n",
    "        f.write(b)"
   ]
  },
  {
   "cell_type": "code",
   "execution_count": 36,
   "metadata": {},
   "outputs": [
    {
     "name": "stdout",
     "output_type": "stream",
     "text": [
      "Downloading cond_c_6\n",
      "Downloading cond_c_7\n",
      "Downloading cond_c_8\n",
      "Downloading cond_c_9\n",
      "Downloading cond_c_10\n",
      "Downloading cond_c_11\n",
      "Downloading cond_c_12\n",
      "Downloading cond_c_13\n",
      "Downloading cond_c_14\n",
      "Downloading cond_c_16\n",
      "Downloading cond_c_17\n",
      "Downloading cond_c_18\n",
      "Downloading cond_c_19\n",
      "Downloading cond_c_20\n",
      "Downloading cond_c_21\n",
      "Downloading cond_c_22\n",
      "Downloading cond_c_23\n",
      "Downloading cond_c_24\n"
     ]
    }
   ],
   "source": [
    "for i in range(2, 25):\n",
    "#     if i == 15:\n",
    "#         continue\n",
    "    if i == 10:\n",
    "        continue\n",
    "    download(i)"
   ]
  },
  {
   "cell_type": "code",
   "execution_count": 9,
   "metadata": {
    "scrolled": false
   },
   "outputs": [
    {
     "name": "stdout",
     "output_type": "stream",
     "text": [
      "06/15/18 14:36:01 INFO <analyze_all>: Running analysis on 19 tests.\n",
      "06/15/18 14:36:01 INFO <run_analysis>: Beginning analysis on: cond_c_6.csv\n",
      "06/15/18 14:36:04 INFO <run_analysis>: Beginning analysis on: cond_c_7.csv\n",
      "06/15/18 14:36:06 INFO <run_analysis>: Beginning analysis on: cond_c_8.csv\n",
      "06/15/18 14:36:09 INFO <run_analysis>: Beginning analysis on: cond_c_9.csv\n",
      "06/15/18 14:36:12 INFO <run_analysis>: Beginning analysis on: cond_c_10.csv\n",
      "06/15/18 14:36:14 INFO <run_analysis>: Beginning analysis on: cond_c_11.csv\n",
      "06/15/18 14:36:17 INFO <run_analysis>: Beginning analysis on: cond_c_12.csv\n",
      "06/15/18 14:36:19 INFO <run_analysis>: Beginning analysis on: cond_c_13.csv\n",
      "06/15/18 14:36:22 INFO <run_analysis>: Beginning analysis on: cond_c_14.csv\n",
      "06/15/18 14:36:25 INFO <run_analysis>: Beginning analysis on: cond_c_15.csv\n",
      "06/15/18 14:36:27 INFO <run_analysis>: Beginning analysis on: cond_c_16.csv\n",
      "06/15/18 14:36:30 INFO <run_analysis>: Beginning analysis on: cond_c_17.csv\n",
      "06/15/18 14:36:32 INFO <run_analysis>: Beginning analysis on: cond_c_18.csv\n",
      "06/15/18 14:36:35 INFO <run_analysis>: Beginning analysis on: cond_c_19.csv\n",
      "06/15/18 14:36:37 INFO <run_analysis>: Beginning analysis on: cond_c_20.csv\n",
      "06/15/18 14:36:40 INFO <run_analysis>: Beginning analysis on: cond_c_21.csv\n",
      "06/15/18 14:36:43 INFO <run_analysis>: Beginning analysis on: cond_c_22.csv\n",
      "06/15/18 14:36:45 INFO <run_analysis>: Beginning analysis on: cond_c_23.csv\n",
      "06/15/18 14:36:48 INFO <run_analysis>: Beginning analysis on: cond_c_24.csv\n",
      "06/15/18 14:36:54 INFO <analyze_all>: Saving compiled data sheet.\n"
     ]
    }
   ],
   "source": [
    "analyze_mixing_time(os.listdir(path))"
   ]
  },
  {
   "cell_type": "code",
   "execution_count": null,
   "metadata": {},
   "outputs": [],
   "source": [
    "def main():\n",
    "    import subprocess\n",
    "    subprocess.call(\"tskill.exe excel\")\n",
    "    from time import sleep\n",
    "    sleep(1)\n",
    "    main_161229()"
   ]
  },
  {
   "cell_type": "code",
   "execution_count": null,
   "metadata": {},
   "outputs": [],
   "source": [
    "def finish_formatting():\n",
    "    from officelib.xllib import *\n",
    "    for chart in xl.Selection:\n",
    "        xlcom.FormatAxesScale(chart.Chart, None, 100)\n",
    "\n",
    "    for i, co in enumerate(xl.Selection):\n",
    "        row = i // 5\n",
    "        col = i % 5\n",
    "        co.Top = row * co.Height + 20\n",
    "        co.Left = co.Width * col + 20"
   ]
  },
  {
   "cell_type": "code",
   "execution_count": null,
   "metadata": {
    "collapsed": true
   },
   "outputs": [],
   "source": []
  }
 ],
 "metadata": {
  "kernelspec": {
   "display_name": "Python 3",
   "language": "python",
   "name": "python3"
  },
  "language_info": {
   "codemirror_mode": {
    "name": "ipython",
    "version": 3
   },
   "file_extension": ".py",
   "mimetype": "text/x-python",
   "name": "python",
   "nbconvert_exporter": "python",
   "pygments_lexer": "ipython3",
   "version": "3.5.0"
  }
 },
 "nbformat": 4,
 "nbformat_minor": 1
}
