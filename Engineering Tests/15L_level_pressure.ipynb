{
 "cells": [
  {
   "cell_type": "code",
   "execution_count": 2,
   "metadata": {
    "collapsed": true
   },
   "outputs": [],
   "source": [
    "from hello.hello3 import HelloApp, NotLoggedInError, BadError\n",
    "import time, datetime\n",
    "import requests"
   ]
  },
  {
   "cell_type": "code",
   "execution_count": 7,
   "metadata": {
    "collapsed": true
   },
   "outputs": [],
   "source": [
    "def wait1(s):\n",
    "    dend = (datetime.datetime.now() + datetime.timedelta(seconds=s)).strftime(\"%m/%d/%Y %I:%M:%S %p\")\n",
    "    print(\"Sleeping %d seconds, ending at %s\" %(s,dend))\n",
    "    start = time.time()\n",
    "    end = start + s\n",
    "    try:\n",
    "        while time.time() < end:\n",
    "            time.sleep(5)\n",
    "    except KeyboardInterrupt:\n",
    "        pass\n",
    "    \n",
    "def call(f, *args):\n",
    "    s = \"(\" + \", \".join(map(repr, args)) + \")\"\n",
    "    print(\"Calling %s%s\" % (f.__name__, s))\n",
    "    while True:\n",
    "        try:\n",
    "            rv = f(*args)\n",
    "        except NotLoggedInError:\n",
    "            h.login()\n",
    "        except requests.exceptions.ConnectTimeout as e:\n",
    "            print(str(e))\n",
    "            print(\"Make sure you're on the right network!\")\n",
    "        except (BadError, IOError) as e:\n",
    "            print(str(e))\n",
    "        else:\n",
    "            return rv\n",
    "        \n",
    "def startbatch(name):\n",
    "    if call(h.batchrunning):\n",
    "        call(h.endbatch)\n",
    "    return call(h.startbatch, name)\n",
    "\n",
    "def setdo(mode, n2_or_sp, o2=None):\n",
    "    call(h.setdo, mode, n2_or_sp,o2)\n",
    "    \n",
    "def doman(n2, o2):\n",
    "    setdo(1, n2, o2)\n",
    "    \n",
    "def doauto(sp):\n",
    "    setdo(0, sp)\n",
    "    \n",
    "def dooff():\n",
    "    setdo(2, 0, 0)\n",
    "        \n",
    "def endbatch():\n",
    "    call(h.endbatch)\n",
    "\n",
    "def wait2(s):\n",
    "    pass\n",
    "wait = wait1\n",
    "\n",
    "def agauto(sp):\n",
    "    call(h.setag, 0, sp)\n",
    "    \n",
    "def setmg(sp):\n",
    "    call(h.setmg, 1, sp)\n",
    "\n",
    "def pid1():\n",
    "    call(h.setconfig, \"DO\", \"O2_P_Gain_(%/DO%)\", 1.5)\n",
    "    call(h.setconfig, \"DO\", 'O2_I_Time_(min)', 120)\n",
    "    call(h.setconfig, \"DO\", 'O2_D_Time_(min)', 0)\n",
    "    call(h.setconfig, \"DO\", 'O2_Beta', 0)\n",
    "    \n",
    "    \n",
    "    call(h.setconfig, \"DO\", \"N2_P_Gain_(%/DO%)\", -5)\n",
    "    call(h.setconfig, \"DO\", 'N2_I_Time_(min)', 50)\n",
    "    call(h.setconfig, \"DO\", 'N2_D_Time_(min)', 0)\n",
    "    call(h.setconfig, \"DO\", 'N2_Beta', 0)\n",
    "    \n",
    "def maxpsi(v):\n",
    "    call(h.setconfig, \"Safety\", \"Max_Pressure_(psi)\", v)\n",
    "    "
   ]
  },
  {
   "cell_type": "code",
   "execution_count": 8,
   "metadata": {
    "collapsed": false
   },
   "outputs": [],
   "source": [
    "h = HelloApp('71.189.82.196:88')"
   ]
  },
  {
   "cell_type": "code",
   "execution_count": 18,
   "metadata": {
    "collapsed": false
   },
   "outputs": [
    {
     "name": "stdout",
     "output_type": "stream",
     "text": [
      "Calling setconfig('Safety', 'Max_Pressure_(psi)', 0.0)\n"
     ]
    }
   ],
   "source": [
    "maxpsi(0.0)"
   ]
  },
  {
   "cell_type": "code",
   "execution_count": 17,
   "metadata": {
    "collapsed": false
   },
   "outputs": [
    {
     "name": "stdout",
     "output_type": "stream",
     "text": [
      "Calling setconfig('Safety', 'Max_Pressure_(psi)', 0.1)\n"
     ]
    }
   ],
   "source": [
    "maxpsi(0.1)"
   ]
  },
  {
   "cell_type": "code",
   "execution_count": 16,
   "metadata": {
    "collapsed": false
   },
   "outputs": [
    {
     "name": "stdout",
     "output_type": "stream",
     "text": [
      "Calling setconfig('Safety', 'Max_Pressure_(psi)', 0.2)\n"
     ]
    }
   ],
   "source": [
    "maxpsi(0.2)"
   ]
  },
  {
   "cell_type": "code",
   "execution_count": 15,
   "metadata": {
    "collapsed": false
   },
   "outputs": [
    {
     "name": "stdout",
     "output_type": "stream",
     "text": [
      "Calling setconfig('Safety', 'Max_Pressure_(psi)', 0.3)\n"
     ]
    }
   ],
   "source": [
    "maxpsi(0.3)"
   ]
  },
  {
   "cell_type": "code",
   "execution_count": 14,
   "metadata": {
    "collapsed": false
   },
   "outputs": [
    {
     "name": "stdout",
     "output_type": "stream",
     "text": [
      "Calling setconfig('Safety', 'Max_Pressure_(psi)', 0.4)\n"
     ]
    }
   ],
   "source": [
    "maxpsi(0.4)"
   ]
  },
  {
   "cell_type": "code",
   "execution_count": 13,
   "metadata": {
    "collapsed": false
   },
   "outputs": [
    {
     "name": "stdout",
     "output_type": "stream",
     "text": [
      "Calling setconfig('Safety', 'Max_Pressure_(psi)', 0.5)\n"
     ]
    }
   ],
   "source": [
    "maxpsi(0.5)"
   ]
  },
  {
   "cell_type": "code",
   "execution_count": 19,
   "metadata": {
    "collapsed": true
   },
   "outputs": [],
   "source": [
    "from officelib.xllib import *\n",
    "import numpy as np"
   ]
  },
  {
   "cell_type": "code",
   "execution_count": 24,
   "metadata": {
    "collapsed": false
   },
   "outputs": [],
   "source": [
    "xl = Excel()\n",
    "wb = xl.RecentFiles(4).Open()\n"
   ]
  },
  {
   "cell_type": "code",
   "execution_count": 29,
   "metadata": {
    "collapsed": true
   },
   "outputs": [],
   "source": [
    "cr = wb.Worksheets(\"DrainFill\").Cells.Range"
   ]
  },
  {
   "cell_type": "code",
   "execution_count": 124,
   "metadata": {
    "collapsed": false
   },
   "outputs": [],
   "source": [
    "dx, dy = list(zip(*cr(\"C3:D17\").Value))\n",
    "dx = dx[::-1]\n",
    "dy = dy[::-1]"
   ]
  },
  {
   "cell_type": "code",
   "execution_count": 125,
   "metadata": {
    "collapsed": true
   },
   "outputs": [],
   "source": [
    "fx, fy = list(zip(*cr(\"H3:I14\").Value))"
   ]
  },
  {
   "cell_type": "code",
   "execution_count": 126,
   "metadata": {
    "collapsed": false
   },
   "outputs": [],
   "source": [
    "dx2 = [dx[0]]\n",
    "dx2.extend(range(1,16))\n",
    "dy2 = np.interp(dx2, dx, dy)"
   ]
  },
  {
   "cell_type": "code",
   "execution_count": 131,
   "metadata": {
    "collapsed": false
   },
   "outputs": [],
   "source": [
    "fx2 = [fx[0]]\n",
    "fx2.extend(np.arange(1,13))\n",
    "fy2 = np.interp(fx2, fx, fy)"
   ]
  },
  {
   "cell_type": "code",
   "execution_count": 135,
   "metadata": {
    "collapsed": false
   },
   "outputs": [],
   "source": [
    "c1 = cr(\"t3\")\n",
    "c2 = c1.Offset(len(dy2), 2)\n",
    "cr(c1, c2).Value = [(x,y) for x,y in zip(map(float,dx2), map(float, dy2))]"
   ]
  },
  {
   "cell_type": "code",
   "execution_count": 136,
   "metadata": {
    "collapsed": true
   },
   "outputs": [],
   "source": [
    "c1 = cr(\"w3\")\n",
    "c2 = c1.Offset(len(fy2), 2)\n",
    "cr(c1, c2).Value = [(x,y) for x,y in zip(map(float,fx2), map(float, fy2))]"
   ]
  },
  {
   "cell_type": "code",
   "execution_count": 134,
   "metadata": {
    "collapsed": false
   },
   "outputs": [
    {
     "data": {
      "text/plain": [
       "0.9"
      ]
     },
     "execution_count": 134,
     "metadata": {},
     "output_type": "execute_result"
    }
   ],
   "source": [
    "dx[0]"
   ]
  },
  {
   "cell_type": "code",
   "execution_count": null,
   "metadata": {
    "collapsed": true
   },
   "outputs": [],
   "source": []
  }
 ],
 "metadata": {
  "kernelspec": {
   "display_name": "Python 3",
   "language": "python",
   "name": "python3"
  },
  "language_info": {
   "codemirror_mode": {
    "name": "ipython",
    "version": 3
   },
   "file_extension": ".py",
   "mimetype": "text/x-python",
   "name": "python",
   "nbconvert_exporter": "python",
   "pygments_lexer": "ipython3",
   "version": "3.5.2"
  }
 },
 "nbformat": 4,
 "nbformat_minor": 1
}
