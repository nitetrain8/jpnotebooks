{
 "cells": [
  {
   "cell_type": "code",
   "execution_count": null,
   "metadata": {
    "collapsed": false
   },
   "outputs": [],
   "source": [
    "from hello.hello3 import HelloApp\n",
    "from hello import hello3\n",
    "from hello import hello\n",
    "from hello.pid.ag_pid import agpid\n",
    "from hello.pid.ag_pid.agpid import *\n",
    "import traceback"
   ]
  },
  {
   "cell_type": "code",
   "execution_count": null,
   "metadata": {
    "collapsed": true
   },
   "outputs": [],
   "source": [
    "def runagpid(r):\n",
    "    try:\n",
    "        r.doall()\n",
    "    except Exception:\n",
    "        traceback.print_exc()\n",
    "    finally:\n",
    "        return r\n",
    "\n",
    "def settings1():\n",
    "    pgains = (0.1,)\n",
    "    itimes = (0.01, 0.02, 0.05)\n",
    "    dtimes = (0,)\n",
    "    sps = (8, 12, 20)\n",
    "    return pgains, itimes, dtimes, sps\n",
    "\n",
    "def settings2():\n",
    "    sps = 8, 12, 20\n",
    "    c1 = [(.3, .02, 0, sp) for sp in sps]\n",
    "    c2 = [(.1, .01, 0, sp) for sp in sps]\n",
    "    return (), (), (), (), c1\n",
    "\n",
    "    \n",
    "def run_80Lothertests(ip='71.189.82.196:85'):\n",
    "    p = 0.1\n",
    "    i = 0.01\n",
    "    d = 0\n",
    "    app = hello3.open_hello(ip)\n",
    "    tests = []\n",
    "    for sp in (8, 10, 12, 14):\n",
    "        t = OffToAutoTest(p, i, d, sp, app)\n",
    "        tests.append(t)\n",
    "        break\n",
    "    for start_pv in (10, 12, 14):\n",
    "        t1 = AgManToAutoTest(p, i, d, start_pv-2, start_pv, app)\n",
    "        t2 = AgAutoToAutoTest(p, i, d, start_pv-2, start_pv, app)\n",
    "        t3 = AgManToManTest(p, i, d, start_pv-2, start_pv, app)\n",
    "        tests.extend((t1, t2, t3))\n",
    "        break\n",
    "    for start_pv in (8, 10, 12):\n",
    "        break\n",
    "        t1 = AgManToAutoTest(p, i, d, start_pv+2, start_pv, app)\n",
    "        t2 = AgAutoToAutoTest(p, i, d, start_pv+2, start_pv, app)\n",
    "        t3 = AgManToManTest(p, i, d, start_pv+2, start_pv, app)\n",
    "        tests.extend((t1, t2, t3))\n",
    "    r = PIDRunner(tests, wb_name='test.xlsx')\n",
    "    return runagpid(r)\n",
    "    "
   ]
  },
  {
   "cell_type": "code",
   "execution_count": null,
   "metadata": {
    "collapsed": true
   },
   "outputs": [],
   "source": [
    "#r = run_80Lothertests()"
   ]
  },
  {
   "cell_type": "code",
   "execution_count": null,
   "metadata": {
    "collapsed": false
   },
   "outputs": [],
   "source": [
    "#r=run_the80Lalreadyworks()"
   ]
  },
  {
   "cell_type": "code",
   "execution_count": null,
   "metadata": {
    "collapsed": true
   },
   "outputs": [],
   "source": [
    "def test1(ip='192.168.1.23'):\n",
    "    p = 0.2\n",
    "    i = 0.01\n",
    "    d = 0\n",
    "    app = hello.open_hello(ip)\n",
    "    tests = []\n",
    "    for start_pv in (10, 12, 14, 20, 40):\n",
    "        t2 = AgAutoToAutoTest(p, i, d, start_pv-2, start_pv, app)\n",
    "        tests.append(t2)\n",
    "    for start_pv in (8, 10, 12, 20, 40):\n",
    "        t1 = AgManToAutoTest(p, i, d, start_pv+2, start_pv, app)\n",
    "        t2 = AgAutoToAutoTest(p, i, d, start_pv+2, start_pv, app)\n",
    "        t3 = AgManToManTest(p, i, d, start_pv+2, start_pv, app)\n",
    "        tests.extend((t1, t2, t3))\n",
    "    r = PIDRunner(tests, wb_name='test.xlsx')\n",
    "    return runagpid(r)"
   ]
  },
  {
   "cell_type": "code",
   "execution_count": null,
   "metadata": {
    "collapsed": false
   },
   "outputs": [],
   "source": [
    "h = hello.open_hello(\"192.168.1.23\")\n",
    "h.getConfig()['Temperature']"
   ]
  },
  {
   "cell_type": "code",
   "execution_count": null,
   "metadata": {
    "collapsed": false
   },
   "outputs": [],
   "source": [
    "test1()"
   ]
  },
  {
   "cell_type": "code",
   "execution_count": null,
   "metadata": {
    "collapsed": true
   },
   "outputs": [],
   "source": []
  }
 ],
 "metadata": {
  "kernelspec": {
   "display_name": "Python 3",
   "language": "python",
   "name": "python3"
  },
  "language_info": {
   "codemirror_mode": {
    "name": "ipython",
    "version": 3
   },
   "file_extension": ".py",
   "mimetype": "text/x-python",
   "name": "python",
   "nbconvert_exporter": "python",
   "pygments_lexer": "ipython3",
   "version": "3.5.2"
  }
 },
 "nbformat": 4,
 "nbformat_minor": 1
}
