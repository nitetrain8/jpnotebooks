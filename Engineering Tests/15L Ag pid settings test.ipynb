{
 "cells": [
  {
   "cell_type": "code",
   "execution_count": 2,
   "metadata": {
    "collapsed": false
   },
   "outputs": [],
   "source": [
    "from hello.hello3 import HelloApp\n",
    "from hello import hello3\n",
    "from hello import hello\n",
    "from hello.pid.ag_pid import agpid\n",
    "from hello.pid.ag_pid.agpid import *\n",
    "import traceback"
   ]
  },
  {
   "cell_type": "code",
   "execution_count": 3,
   "metadata": {
    "collapsed": true
   },
   "outputs": [],
   "source": [
    "def runagpid(r):\n",
    "    try:\n",
    "        r.doall()\n",
    "    except Exception:\n",
    "        traceback.print_exc()\n",
    "    finally:\n",
    "        return r\n",
    "\n",
    "def settings1():\n",
    "    pgains = (0.1,)\n",
    "    itimes = (0.01, 0.02, 0.05)\n",
    "    dtimes = (0,)\n",
    "    sps = (8, 12, 20)\n",
    "    return pgains, itimes, dtimes, sps\n",
    "\n",
    "def settings2():\n",
    "    sps = 8, 12, 20\n",
    "    c1 = [(.3, .02, 0, sp) for sp in sps]\n",
    "    c2 = [(.1, .01, 0, sp) for sp in sps]\n",
    "    return (), (), (), (), c1\n",
    "\n",
    "    \n",
    "def run_80Lothertests(ip='71.189.82.196:85'):\n",
    "    p = 0.1\n",
    "    i = 0.01\n",
    "    d = 0\n",
    "    app = hello3.open_hello(ip)\n",
    "    tests = []\n",
    "    for sp in (8, 10, 12, 14):\n",
    "        t = OffToAutoTest(p, i, d, sp, app)\n",
    "        tests.append(t)\n",
    "        break\n",
    "    for start_pv in (10, 12, 14):\n",
    "        t1 = AgManToAutoTest(p, i, d, start_pv-2, start_pv, app)\n",
    "        t2 = AgAutoToAutoTest(p, i, d, start_pv-2, start_pv, app)\n",
    "        t3 = AgManToManTest(p, i, d, start_pv-2, start_pv, app)\n",
    "        tests.extend((t1, t2, t3))\n",
    "        break\n",
    "    for start_pv in (8, 10, 12):\n",
    "        break\n",
    "        t1 = AgManToAutoTest(p, i, d, start_pv+2, start_pv, app)\n",
    "        t2 = AgAutoToAutoTest(p, i, d, start_pv+2, start_pv, app)\n",
    "        t3 = AgManToManTest(p, i, d, start_pv+2, start_pv, app)\n",
    "        tests.extend((t1, t2, t3))\n",
    "    r = PIDRunner(tests, wb_name='test.xlsx')\n",
    "    return runagpid(r)\n",
    "    "
   ]
  },
  {
   "cell_type": "code",
   "execution_count": 4,
   "metadata": {
    "collapsed": true
   },
   "outputs": [],
   "source": [
    "#r = run_80Lothertests()"
   ]
  },
  {
   "cell_type": "code",
   "execution_count": 5,
   "metadata": {
    "collapsed": false
   },
   "outputs": [],
   "source": [
    "#r=run_the80Lalreadyworks()"
   ]
  },
  {
   "cell_type": "code",
   "execution_count": 8,
   "metadata": {
    "collapsed": true
   },
   "outputs": [],
   "source": [
    "def test1(ip='192.168.1.23'):\n",
    "    p = 0.2\n",
    "    i = 0.01\n",
    "    d = 0\n",
    "    app = hello.open_hello(ip)\n",
    "    tests = []\n",
    "    for start_pv in (10, 12, 14, 20, 40):\n",
    "        t2 = AgAutoToAutoTest(p, i, d, start_pv-2, start_pv, app)\n",
    "        tests.append(t2)\n",
    "    for start_pv in (8, 10, 12, 20, 40):\n",
    "        t1 = AgManToAutoTest(p, i, d, start_pv+2, start_pv, app)\n",
    "        t2 = AgAutoToAutoTest(p, i, d, start_pv+2, start_pv, app)\n",
    "        t3 = AgManToManTest(p, i, d, start_pv+2, start_pv, app)\n",
    "        tests.extend((t1, t2, t3))\n",
    "    r = PIDRunner(tests, wb_name='test.xlsx')\n",
    "    return runagpid(r)"
   ]
  },
  {
   "cell_type": "code",
   "execution_count": 15,
   "metadata": {
    "collapsed": false
   },
   "outputs": [
    {
     "ename": "NotLoggedInError",
     "evalue": "No user associated with the getconfig call\nCustom Error Message.vi->Determine User Permission for Call.vi->Webservice Command Handler.vi->PBS_WebServer.vi->PBS_WebServer.vi.ProxyCaller 5040",
     "output_type": "error",
     "traceback": [
      "\u001b[0;31m---------------------------------------------------------------------------\u001b[0m",
      "\u001b[0;31mNotLoggedInError\u001b[0m                          Traceback (most recent call last)",
      "\u001b[0;32m<ipython-input-15-21044ed47349>\u001b[0m in \u001b[0;36m<module>\u001b[0;34m()\u001b[0m\n\u001b[1;32m      1\u001b[0m \u001b[0mh\u001b[0m \u001b[1;33m=\u001b[0m \u001b[0mhello3\u001b[0m\u001b[1;33m.\u001b[0m\u001b[0mopen_hello\u001b[0m\u001b[1;33m(\u001b[0m\u001b[1;34m\"71.189.82.196:88\"\u001b[0m\u001b[1;33m)\u001b[0m\u001b[1;33m\u001b[0m\u001b[0m\n\u001b[0;32m----> 2\u001b[0;31m \u001b[0mh\u001b[0m\u001b[1;33m.\u001b[0m\u001b[0mgetConfig\u001b[0m\u001b[1;33m(\u001b[0m\u001b[1;33m)\u001b[0m\u001b[1;33m[\u001b[0m\u001b[1;34m'Temperature'\u001b[0m\u001b[1;33m]\u001b[0m\u001b[1;33m\u001b[0m\u001b[0m\n\u001b[0m",
      "\u001b[0;32mC:\\Users\\Nathan\\Documents\\Personal\\PBS_Office\\MSOffice\\hello\\hello3.py\u001b[0m in \u001b[0;36mgetConfig\u001b[0;34m(self)\u001b[0m\n\u001b[1;32m    676\u001b[0m         \u001b[0mrsp\u001b[0m \u001b[1;33m=\u001b[0m \u001b[0mself\u001b[0m\u001b[1;33m.\u001b[0m\u001b[0msend_request\u001b[0m\u001b[1;33m(\u001b[0m\u001b[0mquery\u001b[0m\u001b[1;33m)\u001b[0m\u001b[1;33m\u001b[0m\u001b[0m\n\u001b[1;32m    677\u001b[0m         \u001b[0mxml\u001b[0m \u001b[1;33m=\u001b[0m \u001b[0mHelloXML\u001b[0m\u001b[1;33m(\u001b[0m\u001b[0mrsp\u001b[0m\u001b[1;33m)\u001b[0m\u001b[1;33m\u001b[0m\u001b[0m\n\u001b[0;32m--> 678\u001b[0;31m         \u001b[0mself\u001b[0m\u001b[1;33m.\u001b[0m\u001b[0m_verify_xml\u001b[0m\u001b[1;33m(\u001b[0m\u001b[0mxml\u001b[0m\u001b[1;33m)\u001b[0m\u001b[1;33m\u001b[0m\u001b[0m\n\u001b[0m\u001b[1;32m    679\u001b[0m         \u001b[1;31m# apparently Hello works just fine with either\u001b[0m\u001b[1;33m\u001b[0m\u001b[1;33m\u001b[0m\u001b[0m\n\u001b[1;32m    680\u001b[0m         \u001b[1;31m# of these, so the server can send back either one\u001b[0m\u001b[1;33m\u001b[0m\u001b[1;33m\u001b[0m\u001b[0m\n",
      "\u001b[0;32mC:\\Users\\Nathan\\Documents\\Personal\\PBS_Office\\MSOffice\\hello\\hello3.py\u001b[0m in \u001b[0;36m_verify_xml\u001b[0;34m(self, xml)\u001b[0m\n\u001b[1;32m    279\u001b[0m     \u001b[1;32mdef\u001b[0m \u001b[0m_verify_xml\u001b[0m\u001b[1;33m(\u001b[0m\u001b[0mself\u001b[0m\u001b[1;33m,\u001b[0m \u001b[0mxml\u001b[0m\u001b[1;33m)\u001b[0m\u001b[1;33m:\u001b[0m\u001b[1;33m\u001b[0m\u001b[0m\n\u001b[1;32m    280\u001b[0m         \u001b[1;32mif\u001b[0m \u001b[1;32mnot\u001b[0m \u001b[0mxml\u001b[0m\u001b[1;33m.\u001b[0m\u001b[0mresult\u001b[0m\u001b[1;33m:\u001b[0m\u001b[1;33m\u001b[0m\u001b[0m\n\u001b[0;32m--> 281\u001b[0;31m             \u001b[1;32mraise\u001b[0m \u001b[0mself\u001b[0m\u001b[1;33m.\u001b[0m\u001b[0m_verify_fail\u001b[0m\u001b[1;33m(\u001b[0m\u001b[0mxml\u001b[0m\u001b[1;33m.\u001b[0m\u001b[0mdata\u001b[0m\u001b[1;33m)\u001b[0m\u001b[1;33m\u001b[0m\u001b[0m\n\u001b[0m\u001b[1;32m    282\u001b[0m         \u001b[1;32mreturn\u001b[0m \u001b[0mxml\u001b[0m\u001b[1;33m\u001b[0m\u001b[0m\n\u001b[1;32m    283\u001b[0m \u001b[1;33m\u001b[0m\u001b[0m\n",
      "\u001b[0;31mNotLoggedInError\u001b[0m: No user associated with the getconfig call\nCustom Error Message.vi->Determine User Permission for Call.vi->Webservice Command Handler.vi->PBS_WebServer.vi->PBS_WebServer.vi.ProxyCaller 5040"
     ]
    }
   ],
   "source": [
    "h = hello3.open_hello(\"71.189.82.196:88\")\n",
    "h.getConfig()['Temperature']"
   ]
  },
  {
   "cell_type": "code",
   "execution_count": null,
   "metadata": {
    "collapsed": false
   },
   "outputs": [],
   "source": [
    "test1()"
   ]
  },
  {
   "cell_type": "code",
   "execution_count": 22,
   "metadata": {
    "collapsed": true
   },
   "outputs": [],
   "source": [
    "def test2(ip='192.168.1.23'):\n",
    "    p = 0.2\n",
    "    i = 0.01\n",
    "    d = 0\n",
    "    app = hello3.open_hello(ip)\n",
    "    tests = []\n",
    "\n",
    "    t = AgAutoToAutoTest((p, i, d), 0, 20, app)\n",
    "    tests.append(t)\n",
    "    t2 = AgAutoToAutoTest((p, i, d), 0, 20, app)\n",
    "    tests.append(t2)\n",
    "    \n",
    "    app.login()\n",
    "    app.settemp(2, 37)\n",
    "    t.run()\n",
    "    app.login()\n",
    "    app.settemp(0, 37)\n",
    "    t2.run()\n",
    "    \n",
    "    r = PIDRunner(tests, wb_name='test.xlsx')\n",
    "    return runagpid(r)"
   ]
  },
  {
   "cell_type": "code",
   "execution_count": 23,
   "metadata": {
    "collapsed": false
   },
   "outputs": [
    {
     "name": "stdout",
     "output_type": "stream",
     "text": [
      "02/20/17 14:39:37 INFO <run>: Beginning test run for AutoToAuto Start:0.0 SP:20.0\n",
      "02/20/17 14:39:37 INFO <setup_settings>: Setting PID Settings\n",
      "02/20/17 14:39:39 INFO <setup_test>: Setting Agitation to AUTO 0 RPM and waiting until stable for 30 seconds (60 second timeout)\n",
      "02/20/17 14:39:39 INFO <auto>: Setting Agitation to 0RPM\n",
      "02/20/17 14:39:39 INFO <wait_for_settle>: Waiting for PV to settle\n",
      "02/20/17 14:39:39 INFO <wait_for_settle>: Update: PV: 14.12 SP: 0.00 Settle Remaining: 30 Timeout: 59\n",
      "02/20/17 14:39:55 INFO <wait_for_settle>: Update: PV: 3.43 SP: 0.00 Settle Remaining: 30 Timeout: 44\n",
      "02/20/17 14:40:09 INFO <wait_for_settle>: Update: PV: 0.00 SP: 0.00 Settle Remaining: 16 Timeout: 29\n",
      "02/20/17 14:40:25 INFO <wait_for_settle>: Update: PV: 0.00 SP: 0.00 Settle Remaining: 0 Timeout: 14\n",
      "02/20/17 14:40:26 INFO <start_test>: Starting Test\n",
      "02/20/17 14:40:26 INFO <auto>: Setting Agitation to 20RPM\n",
      "02/20/17 14:40:26 INFO <wait_for_settle>: Waiting for PV to settle\n",
      "02/20/17 14:40:27 INFO <wait_for_settle>: Update: PV: 0.00 SP: 20.00 Settle Remaining: 120 Timeout: 179\n",
      "02/20/17 14:40:41 INFO <wait_for_settle>: Update: PV: 6.18 SP: 20.00 Settle Remaining: 120 Timeout: 164\n",
      "02/20/17 14:40:56 INFO <wait_for_settle>: Update: PV: 20.10 SP: 20.00 Settle Remaining: 117 Timeout: 149\n",
      "02/20/17 14:41:11 INFO <wait_for_settle>: Update: PV: 19.95 SP: 20.00 Settle Remaining: 102 Timeout: 134\n",
      "02/20/17 14:41:26 INFO <wait_for_settle>: Update: PV: 19.94 SP: 20.00 Settle Remaining: 87 Timeout: 119\n",
      "02/20/17 14:41:41 INFO <wait_for_settle>: Update: PV: 19.95 SP: 20.00 Settle Remaining: 72 Timeout: 104\n",
      "02/20/17 14:41:56 INFO <wait_for_settle>: Update: PV: 19.95 SP: 20.00 Settle Remaining: 57 Timeout: 89\n",
      "02/20/17 14:42:11 INFO <wait_for_settle>: Update: PV: 19.94 SP: 20.00 Settle Remaining: 42 Timeout: 74\n",
      "02/20/17 14:42:26 INFO <wait_for_settle>: Update: PV: 19.95 SP: 20.00 Settle Remaining: 27 Timeout: 59\n",
      "02/20/17 14:42:41 INFO <wait_for_settle>: Update: PV: 19.97 SP: 20.00 Settle Remaining: 12 Timeout: 44\n",
      "02/20/17 14:42:54 INFO <wait_for_min_time>: Waiting 32 seconds to finish test\n",
      "02/20/17 14:43:09 INFO <wait_for_min_time>: Update: Waiting 17 seconds to finish test.\n",
      "02/20/17 14:43:25 INFO <wait_for_min_time>: Update: Waiting 1 seconds to finish test.\n",
      "02/20/17 14:43:27 INFO <run>: Finished Test\n",
      "02/20/17 14:43:27 INFO <run>: Beginning test run for AutoToAuto Start:0.0 SP:20.0\n",
      "02/20/17 14:43:27 INFO <setup_settings>: Setting PID Settings\n",
      "02/20/17 14:43:30 INFO <setup_test>: Setting Agitation to AUTO 0 RPM and waiting until stable for 30 seconds (60 second timeout)\n",
      "02/20/17 14:43:30 INFO <auto>: Setting Agitation to 0RPM\n",
      "02/20/17 14:43:30 INFO <wait_for_settle>: Waiting for PV to settle\n",
      "02/20/17 14:43:30 INFO <wait_for_settle>: Update: PV: 19.96 SP: 0.00 Settle Remaining: 30 Timeout: 59\n",
      "02/20/17 14:43:45 INFO <wait_for_settle>: Update: PV: 0.00 SP: 0.00 Settle Remaining: 29 Timeout: 44\n",
      "02/20/17 14:44:00 INFO <wait_for_settle>: Update: PV: 0.00 SP: 0.00 Settle Remaining: 14 Timeout: 29\n",
      "02/20/17 14:44:15 INFO <start_test>: Starting Test\n",
      "02/20/17 14:44:15 INFO <auto>: Setting Agitation to 20RPM\n",
      "02/20/17 14:44:15 INFO <wait_for_settle>: Waiting for PV to settle\n",
      "02/20/17 14:44:15 INFO <wait_for_settle>: Update: PV: 0.00 SP: 20.00 Settle Remaining: 120 Timeout: 179\n",
      "02/20/17 14:44:31 INFO <wait_for_settle>: Update: PV: 5.84 SP: 20.00 Settle Remaining: 120 Timeout: 164\n",
      "02/20/17 14:44:45 INFO <wait_for_settle>: Update: PV: 20.03 SP: 20.00 Settle Remaining: 117 Timeout: 149\n",
      "02/20/17 14:45:00 INFO <wait_for_settle>: Update: PV: 19.94 SP: 20.00 Settle Remaining: 102 Timeout: 134\n",
      "02/20/17 14:45:15 INFO <wait_for_settle>: Update: PV: 19.95 SP: 20.00 Settle Remaining: 87 Timeout: 119\n",
      "02/20/17 14:45:30 INFO <wait_for_settle>: Update: PV: 19.95 SP: 20.00 Settle Remaining: 72 Timeout: 104\n",
      "02/20/17 14:45:45 INFO <wait_for_settle>: Update: PV: 20.20 SP: 20.00 Settle Remaining: 57 Timeout: 89\n",
      "02/20/17 14:46:00 INFO <wait_for_settle>: Update: PV: 19.94 SP: 20.00 Settle Remaining: 42 Timeout: 74\n",
      "02/20/17 14:46:15 INFO <wait_for_settle>: Update: PV: 19.95 SP: 20.00 Settle Remaining: 27 Timeout: 59\n",
      "02/20/17 14:46:30 INFO <wait_for_settle>: Update: PV: 19.95 SP: 20.00 Settle Remaining: 12 Timeout: 44\n",
      "02/20/17 14:46:43 INFO <wait_for_min_time>: Waiting 32 seconds to finish test\n",
      "02/20/17 14:46:58 INFO <wait_for_min_time>: Update: Waiting 16 seconds to finish test.\n",
      "02/20/17 14:47:13 INFO <wait_for_min_time>: Update: Waiting 1 seconds to finish test.\n",
      "02/20/17 14:47:15 INFO <run>: Finished Test\n",
      "02/20/17 14:47:15 INFO <runall>: Running test 1 of 2: P:0.200 I:0.010 D:0.0000 SP:20\n",
      "02/20/17 14:47:15 INFO <run>: Beginning test run for AutoToAuto Start:0.0 SP:20.0\n",
      "02/20/17 14:47:15 INFO <setup_settings>: Setting PID Settings\n",
      "02/20/17 14:47:18 INFO <setup_test>: Setting Agitation to AUTO 0 RPM and waiting until stable for 30 seconds (60 second timeout)\n",
      "02/20/17 14:47:18 INFO <auto>: Setting Agitation to 0RPM\n",
      "02/20/17 14:47:18 INFO <wait_for_settle>: Waiting for PV to settle\n",
      "02/20/17 14:47:19 INFO <wait_for_settle>: Update: PV: 20.09 SP: 0.00 Settle Remaining: 30 Timeout: 59\n",
      "02/20/17 14:47:33 INFO <wait_for_settle>: Update: PV: 3.36 SP: 0.00 Settle Remaining: 30 Timeout: 44\n",
      "02/20/17 14:47:49 INFO <wait_for_settle>: Update: PV: 0.00 SP: 0.00 Settle Remaining: 23 Timeout: 29\n",
      "02/20/17 14:48:03 INFO <wait_for_settle>: Update: PV: 0.00 SP: 0.00 Settle Remaining: 8 Timeout: 14\n",
      "02/20/17 14:48:12 INFO <start_test>: Starting Test\n",
      "02/20/17 14:48:12 INFO <auto>: Setting Agitation to 20RPM\n",
      "02/20/17 14:48:13 INFO <wait_for_settle>: Waiting for PV to settle\n",
      "02/20/17 14:48:13 INFO <wait_for_settle>: Update: PV: 0.00 SP: 20.00 Settle Remaining: 120 Timeout: 179\n",
      "02/20/17 14:48:28 INFO <wait_for_settle>: Update: PV: 8.90 SP: 20.00 Settle Remaining: 120 Timeout: 164\n",
      "02/20/17 14:48:43 INFO <wait_for_settle>: Update: PV: 19.72 SP: 20.00 Settle Remaining: 116 Timeout: 149\n",
      "02/20/17 14:48:57 INFO <wait_for_settle>: Update: PV: 19.95 SP: 20.00 Settle Remaining: 101 Timeout: 134\n",
      "02/20/17 14:49:13 INFO <wait_for_settle>: Update: PV: 20.15 SP: 20.00 Settle Remaining: 86 Timeout: 119\n",
      "02/20/17 14:49:28 INFO <wait_for_settle>: Update: PV: 20.06 SP: 20.00 Settle Remaining: 71 Timeout: 104\n",
      "02/20/17 14:49:42 INFO <wait_for_settle>: Update: PV: 19.95 SP: 20.00 Settle Remaining: 56 Timeout: 89\n",
      "02/20/17 14:49:58 INFO <wait_for_settle>: Update: PV: 19.96 SP: 20.00 Settle Remaining: 41 Timeout: 74\n",
      "02/20/17 14:50:13 INFO <wait_for_settle>: Update: PV: 20.24 SP: 20.00 Settle Remaining: 25 Timeout: 59\n",
      "02/20/17 14:50:27 INFO <wait_for_settle>: Update: PV: 19.96 SP: 20.00 Settle Remaining: 11 Timeout: 44\n",
      "02/20/17 14:50:39 INFO <wait_for_min_time>: Waiting 33 seconds to finish test\n",
      "02/20/17 14:50:55 INFO <wait_for_min_time>: Update: Waiting 18 seconds to finish test.\n",
      "02/20/17 14:51:10 INFO <wait_for_min_time>: Update: Waiting 3 seconds to finish test.\n",
      "02/20/17 14:51:13 INFO <run>: Finished Test\n",
      "02/20/17 14:51:13 INFO <runall>: Successful test\n",
      "02/20/17 14:51:13 INFO <runall>: Running test 2 of 2: P:0.200 I:0.010 D:0.0000 SP:20\n",
      "02/20/17 14:51:13 INFO <run>: Beginning test run for AutoToAuto Start:0.0 SP:20.0\n",
      "02/20/17 14:51:13 INFO <setup_settings>: Setting PID Settings\n",
      "02/20/17 14:51:17 INFO <setup_test>: Setting Agitation to AUTO 0 RPM and waiting until stable for 30 seconds (60 second timeout)\n",
      "02/20/17 14:51:17 INFO <auto>: Setting Agitation to 0RPM\n",
      "02/20/17 14:51:18 INFO <wait_for_settle>: Waiting for PV to settle\n",
      "02/20/17 14:51:18 INFO <wait_for_settle>: Update: PV: 19.95 SP: 0.00 Settle Remaining: 30 Timeout: 59\n",
      "02/20/17 14:51:33 INFO <wait_for_settle>: Update: PV: 0.00 SP: 0.00 Settle Remaining: 28 Timeout: 44\n",
      "02/20/17 14:51:48 INFO <wait_for_settle>: Update: PV: 0.00 SP: 0.00 Settle Remaining: 12 Timeout: 29\n",
      "02/20/17 14:52:01 INFO <start_test>: Starting Test\n",
      "02/20/17 14:52:01 INFO <auto>: Setting Agitation to 20RPM\n",
      "02/20/17 14:52:02 INFO <wait_for_settle>: Waiting for PV to settle\n",
      "02/20/17 14:52:02 INFO <wait_for_settle>: Update: PV: 0.00 SP: 20.00 Settle Remaining: 120 Timeout: 179\n",
      "02/20/17 14:52:16 INFO <wait_for_settle>: Update: PV: 8.93 SP: 20.00 Settle Remaining: 120 Timeout: 164\n",
      "02/20/17 14:52:31 INFO <wait_for_settle>: Update: PV: 19.68 SP: 20.00 Settle Remaining: 116 Timeout: 149\n",
      "02/20/17 14:52:46 INFO <wait_for_settle>: Update: PV: 19.95 SP: 20.00 Settle Remaining: 101 Timeout: 134\n",
      "02/20/17 14:53:01 INFO <wait_for_settle>: Update: PV: 19.95 SP: 20.00 Settle Remaining: 86 Timeout: 119\n",
      "02/20/17 14:53:16 INFO <wait_for_settle>: Update: PV: 19.94 SP: 20.00 Settle Remaining: 71 Timeout: 104\n",
      "02/20/17 14:53:31 INFO <wait_for_settle>: Update: PV: 19.94 SP: 20.00 Settle Remaining: 56 Timeout: 89\n",
      "02/20/17 14:53:46 INFO <wait_for_settle>: Update: PV: 19.95 SP: 20.00 Settle Remaining: 41 Timeout: 74\n",
      "02/20/17 14:54:01 INFO <wait_for_settle>: Update: PV: 19.95 SP: 20.00 Settle Remaining: 26 Timeout: 59\n",
      "02/20/17 14:54:16 INFO <wait_for_settle>: Update: PV: 20.22 SP: 20.00 Settle Remaining: 11 Timeout: 44\n",
      "02/20/17 14:54:28 INFO <wait_for_min_time>: Waiting 33 seconds to finish test\n",
      "02/20/17 14:54:43 INFO <wait_for_min_time>: Update: Waiting 18 seconds to finish test.\n",
      "02/20/17 14:54:58 INFO <wait_for_min_time>: Update: Waiting 3 seconds to finish test.\n",
      "02/20/17 14:55:02 INFO <run>: Finished Test\n",
      "02/20/17 14:55:02 INFO <runall>: Successful test\n",
      "02/20/17 14:55:04 INFO <plotall>: Copying test data to test.xlsx\n",
      "02/20/17 14:55:04 INFO <plotall>: Copying data for test 1 of 2\n",
      "02/20/17 14:55:04 INFO <plotall>: Copying data for test 2 of 2\n",
      "02/20/17 14:55:04 INFO <plotall>: Done copying data for 2 tests.\n",
      "02/20/17 14:55:04 INFO <_new_chart>: Initializing chart\n",
      "02/20/17 14:55:04 INFO <chartbypid>: Formatting Chart: P: 0.2 I: 0.01 D:0 A2A\n"
     ]
    },
    {
     "data": {
      "text/plain": [
       "<hello.pid.ag_pid.agpid.PIDRunner at 0x16fed9329b0>"
      ]
     },
     "execution_count": 23,
     "metadata": {},
     "output_type": "execute_result"
    }
   ],
   "source": [
    "test2('71.189.82.196:88')"
   ]
  },
  {
   "cell_type": "code",
   "execution_count": null,
   "metadata": {
    "collapsed": true
   },
   "outputs": [],
   "source": []
  }
 ],
 "metadata": {
  "kernelspec": {
   "display_name": "Python 3",
   "language": "python",
   "name": "python3"
  },
  "language_info": {
   "codemirror_mode": {
    "name": "ipython",
    "version": 3
   },
   "file_extension": ".py",
   "mimetype": "text/x-python",
   "name": "python",
   "nbconvert_exporter": "python",
   "pygments_lexer": "ipython3",
   "version": "3.5.2"
  }
 },
 "nbformat": 4,
 "nbformat_minor": 1
}
