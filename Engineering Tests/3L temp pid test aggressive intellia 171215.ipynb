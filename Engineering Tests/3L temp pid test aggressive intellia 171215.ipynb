{
 "cells": [
  {
   "cell_type": "code",
   "execution_count": 10,
   "metadata": {
    "collapsed": true
   },
   "outputs": [],
   "source": [
    "from hello.hello3 import HelloApp, NotLoggedInError\n",
    "import datetime\n",
    "from hello import hello_logger\n",
    "import os\n",
    "import requests\n",
    "import time"
   ]
  },
  {
   "cell_type": "code",
   "execution_count": 11,
   "metadata": {
    "collapsed": true
   },
   "outputs": [],
   "source": [
    "# General functions\n",
    "\n",
    "def call(f, *a, _quiet=False, **k):\n",
    "    if not _quiet:\n",
    "        now = datetime.datetime.now().strftime(\"%H:%M:%S\")\n",
    "        s = \"(\" + \", \".join(map(repr, a)) + \")\"\n",
    "        print(\"%s Calling %s%s\" % (now, f.__name__, s))\n",
    "    while True:\n",
    "        try:\n",
    "            return f(*a, **k)\n",
    "        except NotLoggedInError:\n",
    "            h.login()\n",
    "        except requests.exceptions.Timeout as e:\n",
    "            print(\"Got timeout! Make sure you're on the right network!\")\n",
    "        except (BadError, IOError, requests.exceptions.ConnectionError) as e:\n",
    "            print(\"Error occurred:\", e.__class__)   \n",
    "        time.sleep(1)\n",
    "            \n",
    "def connect(ip, *args):\n",
    "    global h\n",
    "    h = HelloApp(ip, *args)\n",
    "    \n",
    "def dfmt(d):\n",
    "    return d.strftime(\"%m/%d/%Y %I:%M:%S %p\")\n",
    "    \n",
    "def wait1(s):\n",
    "    if s <= 0: return\n",
    "    dend = dfmt(datetime.datetime.now() + datetime.timedelta(seconds=s))\n",
    "    print(\"Sleeping %d seconds, ending at %s\" %(s,dend))\n",
    "    start = time.time()\n",
    "    end = start + s\n",
    "    while time.time() < end:\n",
    "        time.sleep(5)\n",
    "    \n",
    "def wait3(s, src):\n",
    "    start = datetime.datetime.now()\n",
    "    end = start + datetime.timedelta(seconds=s)\n",
    "    m1 = dfmt(start)\n",
    "    m2 = dfmt(end)\n",
    "    print(\"\\r(%s) Sleeping %d seconds from %s to %s          \" % (src, s, m1, m2), end=\"\")\n",
    "    tend = time.time() + s\n",
    "    while time.time() < tend:\n",
    "        time.sleep(5)\n",
    "    \n",
    "def wait2(s, *a, **kw):\n",
    "    pass\n",
    "wait = wait1"
   ]
  },
  {
   "cell_type": "markdown",
   "metadata": {},
   "source": [
    "### Global functions and routines"
   ]
  },
  {
   "cell_type": "code",
   "execution_count": 12,
   "metadata": {
    "collapsed": true
   },
   "outputs": [],
   "source": [
    "# Specific functions\n",
    "\n",
    "# globals\n",
    "logger = None\n",
    "_mv = None\n",
    "\n",
    "def setconfig(g, s, v):\n",
    "    call(h.setconfig, g, s, v)\n",
    "\n",
    "def getmv():\n",
    "    global _mv\n",
    "    _mv = call(h.gpmv, _quiet=True)\n",
    "    return _mv\n",
    "    \n",
    "def setup_controls(rpm=18):\n",
    "    setag(rpm)\n",
    "    call(h.setmg, 2, 0)\n",
    "    \n",
    "def setag(rpm):\n",
    "    call(h.setag, 0, rpm)\n",
    "    \n",
    "def settemp(t):\n",
    "    while True:\n",
    "        call(h.settemp, 0, t)\n",
    "        mv = getmv()\n",
    "        tm = mv['temperature']\n",
    "        if tm['sp'] == t and tm['mode'] == 0:\n",
    "            break\n",
    "        else:\n",
    "            print(\"Retrying call, failed to set temp\")\n",
    "    \n",
    "def tempoff():\n",
    "    call(h.settemp, 2, getmv()['temperature']['sp'])\n",
    "    \n",
    "def endbatch():\n",
    "    if call(h.batchrunning):\n",
    "        call(h.endbatch)\n",
    "    \n",
    "def startbatch(n):\n",
    "    endbatch()\n",
    "    call(h.startbatch, n)\n",
    "    \n",
    "def temppv():\n",
    "    return getmv()['temperature']['pv']\n",
    "    \n",
    "def waittemp_lower(t, timeout=8*3600):\n",
    "    waited = 0\n",
    "    while temppv() > t and (timeout<=0 or waited<timeout):\n",
    "        wait3(60, 'waittemp_lower')\n",
    "        waited += 60\n",
    "    print()\n",
    "    \n",
    "def waittemp_higher(t, timeout=8*3600):\n",
    "    waited = 0\n",
    "    while temppv() < t and (timeout<=0 or waited<timeout):\n",
    "        wait3(60, 'waittemp_higher')\n",
    "        waited += 60\n",
    "    print()  \n",
    "\n",
    "    \n",
    "def rampup(sp, pm=0.05, timeout=4*3600):\n",
    "    settemp(sp)\n",
    "    waittemp_higher(sp-pm, timeout)\n",
    "    \n",
    "def rampdown(sp, pm=0.0, timeout=10*3600):\n",
    "    tempoff()\n",
    "    waittemp_lower(sp+pm, timeout)\n",
    "    \n",
    "def newbatch(i, j):\n",
    "    startbatch(batch_tmpl%(i,j))\n",
    "    \n",
    "def mkpid(p, i):\n",
    "    def pid():\n",
    "        call(h.setconfig, \"Temperature\", \"P_Gain_(%/C)\", p)\n",
    "        call(h.setconfig, \"Temperature\", 'I_Time_(min)', i)\n",
    "    return pid\n",
    "        "
   ]
  },
  {
   "cell_type": "code",
   "execution_count": 38,
   "metadata": {
    "collapsed": true
   },
   "outputs": [],
   "source": [
    "_bni = 1\n",
    "def nb(pref, i=1, n=1):\n",
    "    bl = call(h.getBatches)\n",
    "    b = bl.names_to_batches\n",
    "    s = \"%s %d.%d\" % (pref, i, n)\n",
    "    while s in b:\n",
    "        n += 1\n",
    "        s = \"%s %d.%d\" % (pref, i, n)\n",
    "    startbatch(s)\n",
    "\n",
    "def tempoff():\n",
    "    settemp(0)\n",
    "    \n",
    "def setbn(i):\n",
    "    global _bni\n",
    "    _bni = i\n",
    "\n",
    "def o2a():\n",
    "    nb(\"tpid\", _bni)\n",
    "    settemp(37)\n",
    "    wait(3*hours)\n",
    "    endbatch()\n",
    "    \n",
    "def cool(hrs=8):\n",
    "    tempoff()\n",
    "    wait(hrs*hours)\n",
    "    \n",
    "def a2a(end):\n",
    "    nb(\"tpid\", _bni)\n",
    "    settemp(end)\n",
    "    wait(3*hours)\n",
    "    endbatch()\n",
    "\n",
    "def verify(pid):\n",
    "    print(\"Verifying settings\")\n",
    "    pid()\n",
    "    o2a()\n",
    "    a2a(35)\n",
    "    a2a(37)\n",
    "    \n",
    "def verify2(pid):\n",
    "    print(\"Verifying settings\")\n",
    "    pid()\n",
    "    o2a()\n",
    " \n",
    "def tpv():\n",
    "    return call(h.gpmv)['temperature']['pv']\n",
    "\n",
    "def waitcool(sp, t=3600):\n",
    "    tempoff()\n",
    "    while tpv() >= sp:\n",
    "        print(\"waitcool\")\n",
    "        wait(t)\n",
    "        \n",
    "def runrecipe(recipe):\n",
    "    call(h.login)\n",
    "    return call(h.call, \"runrecipe\", recipe=recipe)"
   ]
  },
  {
   "cell_type": "code",
   "execution_count": 39,
   "metadata": {
    "collapsed": true
   },
   "outputs": [],
   "source": [
    "def setup_logger(interval=10):\n",
    "    global logger\n",
    "    keys = [\n",
    "        'temperature.pv',\n",
    "        'temperature.output',\n",
    "        'temperature.sp',\n",
    "        'agitation.pv',\n",
    "        'level.pv',\n",
    "    ]\n",
    "    if logger is not None:\n",
    "        logger.stop()\n",
    "    logger = hello_logger.HelloLogger(h, interval, None, keys)\n",
    "    logger.start()\n",
    "    \n",
    "def logfile(fn):\n",
    "    print(\"Creating new file: %r\"%fn)\n",
    "    logger.new_file(fn)\n",
    "    \n",
    "def endlog():\n",
    "    logger.new_file(None)\n",
    "def ntests(n):\n",
    "    return range(1,n+1)"
   ]
  },
  {
   "cell_type": "code",
   "execution_count": 40,
   "metadata": {
    "collapsed": true
   },
   "outputs": [],
   "source": [
    "fn_tmpl = \"Heating test %s %s.csv\"\n",
    "\n",
    "def new_file(name):\n",
    "    logfile(fn_tmpl% (name, bt()))\n",
    "\n",
    "def bt(): \n",
    "    return datetime.datetime.now().strftime(\"%y%m%d\")\n",
    "\n",
    "def mkfldr(p):\n",
    "    path = \"C:\\\\Users\\\\natha\\\\Documents\\\\test\\\\\"+p\n",
    "    os.makedirs(path, exist_ok=True)\n",
    "    os.chdir(path)\n",
    "    \n",
    "def chd(p):\n",
    "    os.chdir(\"C:\\\\Users\\\\natha\\\\Documents\\\\test\\\\\"+p)"
   ]
  },
  {
   "cell_type": "code",
   "execution_count": 49,
   "metadata": {},
   "outputs": [
    {
     "name": "stdout",
     "output_type": "stream",
     "text": [
      "Sleeping 60 seconds, ending at 12/15/2017 02:43:00 PM\n",
      "Creating new file: 'Heating test Man Recipe 100pc off 33 171215.csv'\n",
      "14:43:00 Calling login()\n",
      "14:43:00 Calling call('runrecipe')\n"
     ]
    },
    {
     "data": {
      "text/plain": [
       "<Response [200]>"
      ]
     },
     "execution_count": 49,
     "metadata": {},
     "output_type": "execute_result"
    }
   ],
   "source": [
    "connect('192.168.1.7')\n",
    "setup_logger()\n",
    "wait(60)\n",
    "mkfldr(\"Intellia 3L Mag Rapid Heat Test\")\n",
    "new_file(\"Man Recipe 100pc off 33\")\n",
    "runrecipe(\"intelliaheat\")"
   ]
  },
  {
   "cell_type": "code",
   "execution_count": 1,
   "metadata": {
    "collapsed": true
   },
   "outputs": [],
   "source": [
    "#logger.write_to_file()"
   ]
  },
  {
   "cell_type": "code",
   "execution_count": 46,
   "metadata": {
    "collapsed": true
   },
   "outputs": [],
   "source": [
    "logger.stop()"
   ]
  },
  {
   "cell_type": "code",
   "execution_count": null,
   "metadata": {
    "collapsed": true
   },
   "outputs": [],
   "source": []
  }
 ],
 "metadata": {
  "kernelspec": {
   "display_name": "Python 3",
   "language": "python",
   "name": "python3"
  },
  "language_info": {
   "codemirror_mode": {
    "name": "ipython",
    "version": 3
   },
   "file_extension": ".py",
   "mimetype": "text/x-python",
   "name": "python",
   "nbconvert_exporter": "python",
   "pygments_lexer": "ipython3",
   "version": "3.5.2"
  }
 },
 "nbformat": 4,
 "nbformat_minor": 1
}
