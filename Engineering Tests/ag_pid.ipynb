{
 "cells": [
  {
   "cell_type": "code",
   "execution_count": 1,
   "metadata": {
    "collapsed": false
   },
   "outputs": [],
   "source": [
    "from hello.hello3 import HelloApp\n",
    "from hello.pid.ag_pid.agpid import SimplePIDRunner"
   ]
  },
  {
   "cell_type": "code",
   "execution_count": 2,
   "metadata": {
    "collapsed": true
   },
   "outputs": [],
   "source": [
    "ip='71.189.82.196:85'\n",
    "ip = '192.168.1.85'"
   ]
  },
  {
   "cell_type": "code",
   "execution_count": 3,
   "metadata": {
    "collapsed": true
   },
   "outputs": [],
   "source": [
    "def runagpid(r):\n",
    "    \"\"\"\n",
    "    \"\"\"\n",
    "    r.runall()\n",
    "    r.plotall()\n",
    "    r.chartbypid()\n",
    "    r.close()\n",
    "    return r\n",
    "\n",
    "def the80Lalreadyworks_settings():\n",
    "    pgains = (0.1,)\n",
    "    itimes = (0.01,)\n",
    "    dtimes = ()\n",
    "    sps = (8, 12, 20, 36)\n",
    "    return pgains, itimes, dtimes, sps\n",
    "\n",
    "def run_the80Lalreadyworks():\n",
    "    settings = the80Lalreadyworks_settings()\n",
    "    app = HelloApp(ip)\n",
    "    r = SimplePIDRunner(*settings, app_or_ipv4=app)\n",
    "    try:\n",
    "        runagpid(r)\n",
    "    except Exception as e:\n",
    "        import traceback\n",
    "        traceback.print_exc()\n",
    "    finally:\n",
    "        return r"
   ]
  },
  {
   "cell_type": "code",
   "execution_count": 4,
   "metadata": {
    "collapsed": false
   },
   "outputs": [
    {
     "name": "stderr",
     "output_type": "stream",
     "text": [
      "1482454029.332379 INFO <run>: Setting PID Settings\n"
     ]
    },
    {
     "name": "stdout",
     "output_type": "stream",
     "text": [
      "12/22/2016 16-47-09 \t Initializing Settings\n",
      "12/22/2016 16-47-09 \t Initialization Successful\n",
      "12/22/2016 16-47-09 \t Running test 1 of 4 P:0.10 I:0.010 D: 0.0000 SP: 8.00\n"
     ]
    },
    {
     "name": "stderr",
     "output_type": "stream",
     "text": [
      "1482454030.924599 INFO <run>: Setting agitation to OFF and waiting 30 seconds\n",
      "1482454061.154755 INFO <run>: Setting Agitation to 8 RPM\n",
      "1482454061.271187 INFO <run>: Beginning test\n",
      "1482454241.327223 INFO <run>: Setting PID Settings\n"
     ]
    },
    {
     "name": "stdout",
     "output_type": "stream",
     "text": [
      "12/22/2016 16-50-41 \t Successful test\n",
      "12/22/2016 16-50-41 \t Running test 2 of 4 P:0.10 I:0.010 D: 0.0000 SP: 12.00\n"
     ]
    },
    {
     "name": "stderr",
     "output_type": "stream",
     "text": [
      "1482454242.897088 INFO <run>: Setting agitation to OFF and waiting 30 seconds\n",
      "1482454273.342194 INFO <run>: Setting Agitation to 12 RPM\n",
      "1482454273.467704 INFO <run>: Beginning test\n",
      "1482454453.483908 INFO <run>: Setting PID Settings\n"
     ]
    },
    {
     "name": "stdout",
     "output_type": "stream",
     "text": [
      "12/22/2016 16-54-13 \t Successful test\n",
      "12/22/2016 16-54-13 \t Running test 3 of 4 P:0.10 I:0.010 D: 0.0000 SP: 20.00\n"
     ]
    },
    {
     "name": "stderr",
     "output_type": "stream",
     "text": [
      "1482454454.948015 INFO <run>: Setting agitation to OFF and waiting 30 seconds\n",
      "1482454485.178080 INFO <run>: Setting Agitation to 20 RPM\n",
      "1482454485.277448 INFO <run>: Beginning test\n",
      "1482454668.313225 INFO <run>: Setting PID Settings\n"
     ]
    },
    {
     "name": "stdout",
     "output_type": "stream",
     "text": [
      "12/22/2016 16-57-48 \t Successful test\n",
      "12/22/2016 16-57-48 \t Running test 4 of 4 P:0.10 I:0.010 D: 0.0000 SP: 36.00\n"
     ]
    },
    {
     "name": "stderr",
     "output_type": "stream",
     "text": [
      "1482454669.833866 INFO <run>: Setting agitation to OFF and waiting 30 seconds\n",
      "1482454700.041371 INFO <run>: Setting Agitation to 36 RPM\n",
      "1482454700.133890 INFO <run>: Beginning test\n"
     ]
    },
    {
     "name": "stdout",
     "output_type": "stream",
     "text": [
      "12/22/2016 17-01-44 \t Successful test\n"
     ]
    },
    {
     "name": "stderr",
     "output_type": "stream",
     "text": [
      "Traceback (most recent call last):\n",
      "  File \"<ipython-input-3-d81982bd1f3f>\", line 22, in run_the80Lalreadyworks\n",
      "    runagpid(r)\n",
      "  File \"<ipython-input-3-d81982bd1f3f>\", line 5, in runagpid\n",
      "    r.plotall()\n",
      "  File \"C:\\Users\\Nathan\\Documents\\Personal\\PBS_Office\\MSOffice\\hello\\pid\\ag_pid\\agpid.py\", line 477, in plotall\n",
      "    self._xl, self._wb, self._ws = self._init_xl()\n",
      "  File \"C:\\Users\\Nathan\\Documents\\Personal\\PBS_Office\\MSOffice\\hello\\pid\\ag_pid\\agpid.py\", line 405, in _init_xl\n",
      "    wb.SaveAs(self._full_xl_name, AddToMru=True)\n",
      "  File \"c:\\program files\\python35\\lib\\site-packages\\win32com\\gen_py\\00020813-0000-0000-C000-000000000046x0x1x6\\_Workbook.py\", line 253, in SaveAs\n",
      "    , Local)\n",
      "pywintypes.com_error: (-2147352567, 'Exception occurred.', (0, 'Microsoft Office Excel', \"The file could not be accessed. Try one of the following:\\n\\n• Make sure the specified folder exists. \\n• Make sure the folder that contains the file is not read-only.\\n• Make sure the file name does not contain any of the following characters:  <  >  ?  [  ]  :  | or  *\\n• Make sure the file/path name doesn't contain more than 218 characters.\", 'C:\\\\Program Files (x86)\\\\Microsoft Office\\\\Office12\\\\1033\\\\XLMAIN11.CHM', 0, -2146827284), None)\n"
     ]
    }
   ],
   "source": [
    "r = run_the80Lalreadyworks()"
   ]
  },
  {
   "cell_type": "code",
   "execution_count": 8,
   "metadata": {
    "collapsed": false
   },
   "outputs": [],
   "source": [
    "r._full_xl_name = \"C:\\\\Users\\\\Nathan\\\\Documents\\\\Agitation\\\\Mag Wheel PID\\\\\""
   ]
  },
  {
   "cell_type": "code",
   "execution_count": 9,
   "metadata": {
    "collapsed": false
   },
   "outputs": [
    {
     "name": "stdout",
     "output_type": "stream",
     "text": [
      "12/22/2016 17-03-19 \t Uh oh, existing workbook.\n",
      "12/22/2016 17-03-19 \t Modifying filename.\n",
      "12/22/2016 17-03-20 \t Copying test data to  AgPIDTest 22-12-16 16:47.xlsx\n",
      "12/22/2016 17-03-20 \t \tCopying data for test 1 of 4 P:0.100 I:0.010 D:0.0000 Passed: True 12/22/2016 17-03-21 \t Success!\n",
      "12/22/2016 17-03-21 \t \tCopying data for test 2 of 4 P:0.100 I:0.010 D:0.0000 Passed: True 12/22/2016 17-03-21 \t Success!\n",
      "12/22/2016 17-03-21 \t \tCopying data for test 3 of 4 P:0.100 I:0.010 D:0.0000 Passed: True 12/22/2016 17-03-21 \t Success!\n",
      "12/22/2016 17-03-21 \t \tCopying data for test 4 of 4 P:0.100 I:0.010 D:0.0000 Passed: True 12/22/2016 17-03-21 \t Success!\n",
      "12/22/2016 17-03-21 \t Done copying data for 4 tests.\n",
      "12/22/2016 17-03-21 \t Initializing chart\n"
     ]
    }
   ],
   "source": [
    "r.plotall()\n",
    "r.chartbypid()"
   ]
  },
  {
   "cell_type": "code",
   "execution_count": 6,
   "metadata": {
    "collapsed": true
   },
   "outputs": [],
   "source": [
    "def fn():\n",
    "    try:\n",
    "        raise ValueError()\n",
    "    finally:\n",
    "        return 5\n",
    "a = fn()"
   ]
  },
  {
   "cell_type": "code",
   "execution_count": null,
   "metadata": {
    "collapsed": false
   },
   "outputs": [],
   "source": []
  },
  {
   "cell_type": "code",
   "execution_count": null,
   "metadata": {
    "collapsed": true
   },
   "outputs": [],
   "source": []
  }
 ],
 "metadata": {
  "kernelspec": {
   "display_name": "Python 3",
   "language": "python",
   "name": "python3"
  },
  "language_info": {
   "codemirror_mode": {
    "name": "ipython",
    "version": 3
   },
   "file_extension": ".py",
   "mimetype": "text/x-python",
   "name": "python",
   "nbconvert_exporter": "python",
   "pygments_lexer": "ipython3",
   "version": "3.5.2"
  }
 },
 "nbformat": 4,
 "nbformat_minor": 1
}
