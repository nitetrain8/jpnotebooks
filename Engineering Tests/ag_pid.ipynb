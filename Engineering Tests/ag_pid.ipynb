{
 "cells": [
  {
   "cell_type": "code",
   "execution_count": 2,
   "metadata": {
    "collapsed": false
   },
   "outputs": [],
   "source": [
    "from hello.hello3 import HelloApp\n",
    "from hello.pid.ag_pid.agpid import SimplePIDRunner"
   ]
  },
  {
   "cell_type": "code",
   "execution_count": 3,
   "metadata": {
    "collapsed": true
   },
   "outputs": [],
   "source": [
    "ip='71.189.82.196:85'\n",
    "#ip = '192.168.1.85'"
   ]
  },
  {
   "cell_type": "code",
   "execution_count": 6,
   "metadata": {
    "collapsed": true
   },
   "outputs": [],
   "source": [
    "def runagpid(r):\n",
    "    \"\"\"\n",
    "    \"\"\"\n",
    "    r.runall()\n",
    "    r.plotall()\n",
    "    r.chartbypid()\n",
    "    r.close()\n",
    "    return r\n",
    "\n",
    "def the80Lalreadyworks_settings():\n",
    "    pgains = (0.3,)\n",
    "    itimes = (0.01,)\n",
    "    dtimes = ()\n",
    "    sps = (8, 12, 20, 36)\n",
    "    return pgains, itimes, dtimes, sps\n",
    "\n",
    "def run_the80Lalreadyworks():\n",
    "    settings = the80Lalreadyworks_settings()\n",
    "    app = HelloApp(ip)\n",
    "    r = SimplePIDRunner(*settings, app_or_ipv4=app)\n",
    "    try:\n",
    "        runagpid(r)\n",
    "    except Exception as e:\n",
    "        import traceback\n",
    "        traceback.print_exc()\n",
    "    finally:\n",
    "        return r"
   ]
  },
  {
   "cell_type": "code",
   "execution_count": 7,
   "metadata": {
    "collapsed": false
   },
   "outputs": [
    {
     "name": "stderr",
     "output_type": "stream",
     "text": [
      "1483664374.769614 INFO <run>: Setting PID Settings\n"
     ]
    },
    {
     "name": "stdout",
     "output_type": "stream",
     "text": [
      "01/05/2017 16-59-34 \t Initializing Settings\n",
      "01/05/2017 16-59-34 \t Initialization Successful\n",
      "01/05/2017 16-59-34 \t Running test 1 of 4 P:0.30 I:0.010 D: 0.0000 SP: 8.00\n"
     ]
    },
    {
     "name": "stderr",
     "output_type": "stream",
     "text": [
      "1483664377.163473 INFO <run>: Setting agitation to OFF and waiting 30 seconds\n",
      "1483664407.584286 INFO <run>: Setting Agitation to 8 RPM\n",
      "1483664407.802590 INFO <run>: Beginning test\n",
      "1483664588.168404 INFO <run>: Setting PID Settings\n"
     ]
    },
    {
     "name": "stdout",
     "output_type": "stream",
     "text": [
      "01/05/2017 17-03-08 \t Successful test\n",
      "01/05/2017 17-03-08 \t Running test 2 of 4 P:0.30 I:0.010 D: 0.0000 SP: 12.00\n"
     ]
    },
    {
     "name": "stderr",
     "output_type": "stream",
     "text": [
      "1483664589.865125 INFO <run>: Setting agitation to OFF and waiting 30 seconds\n",
      "1483664620.104800 INFO <run>: Setting Agitation to 12 RPM\n",
      "1483664620.208700 INFO <run>: Beginning test\n",
      "1483664800.553960 INFO <run>: Setting PID Settings\n"
     ]
    },
    {
     "name": "stdout",
     "output_type": "stream",
     "text": [
      "01/05/2017 17-06-40 \t Successful test\n",
      "01/05/2017 17-06-40 \t Running test 3 of 4 P:0.30 I:0.010 D: 0.0000 SP: 20.00\n"
     ]
    },
    {
     "name": "stderr",
     "output_type": "stream",
     "text": [
      "1483664802.407428 INFO <run>: Setting agitation to OFF and waiting 30 seconds\n",
      "1483664832.884226 INFO <run>: Setting Agitation to 20 RPM\n",
      "1483664833.055007 INFO <run>: Beginning test\n",
      "1483665013.277569 INFO <run>: Setting PID Settings\n"
     ]
    },
    {
     "name": "stdout",
     "output_type": "stream",
     "text": [
      "01/05/2017 17-10-13 \t Successful test\n",
      "01/05/2017 17-10-13 \t Running test 4 of 4 P:0.30 I:0.010 D: 0.0000 SP: 36.00\n"
     ]
    },
    {
     "name": "stderr",
     "output_type": "stream",
     "text": [
      "1483665014.964572 INFO <run>: Setting agitation to OFF and waiting 30 seconds\n",
      "1483665045.167018 INFO <run>: Setting Agitation to 36 RPM\n",
      "1483665045.322293 INFO <run>: Beginning test\n"
     ]
    },
    {
     "name": "stdout",
     "output_type": "stream",
     "text": [
      "01/05/2017 17-13-45 \t Successful test\n",
      "01/05/2017 17-13-46 \t Copying test data to  AgPIDTest 05-01-17 16-59.xlsx\n",
      "01/05/2017 17-13-46 \t \tCopying data for test 1 of 4 P:0.300 I:0.010 D:0.0000 Passed: True 01/05/2017 17-13-46 \t Success!\n",
      "01/05/2017 17-13-46 \t \tCopying data for test 2 of 4 P:0.300 I:0.010 D:0.0000 Passed: True 01/05/2017 17-13-46 \t Success!\n",
      "01/05/2017 17-13-46 \t \tCopying data for test 3 of 4 P:0.300 I:0.010 D:0.0000 Passed: True 01/05/2017 17-13-46 \t Success!\n",
      "01/05/2017 17-13-46 \t \tCopying data for test 4 of 4 P:0.300 I:0.010 D:0.0000 Passed: True 01/05/2017 17-13-47 \t Success!\n",
      "01/05/2017 17-13-47 \t Done copying data for 4 tests.\n",
      "01/05/2017 17-13-47 \t Initializing chart\n"
     ]
    },
    {
     "name": "stderr",
     "output_type": "stream",
     "text": [
      "Traceback (most recent call last):\n",
      "  File \"<ipython-input-6-310e052e91e2>\", line 22, in run_the80Lalreadyworks\n",
      "    runagpid(r)\n",
      "  File \"<ipython-input-6-310e052e91e2>\", line 7, in runagpid\n",
      "    r.close()\n",
      "  File \"C:\\Users\\Nathan\\Documents\\Personal\\PBS_Office\\MSOffice\\hello\\pid\\ag_pid\\agpid.py\", line 557, in close\n",
      "    safe_pickle(self, fpth)\n",
      "  File \"C:\\Users\\Nathan\\Documents\\Personal\\PBS_Office\\MSOffice\\pysrc\\snippets\\safe_write.py\", line 36, in safe_pickle\n",
      "    pickle_dump(obj, temp, **kwargs)\n",
      "  File \"c:\\program files\\python35\\lib\\socket.py\", line 175, in __getstate__\n",
      "    raise TypeError(\"Cannot serialize socket object\")\n",
      "TypeError: Cannot serialize socket object\n"
     ]
    }
   ],
   "source": [
    "r = run_the80Lalreadyworks()"
   ]
  },
  {
   "cell_type": "code",
   "execution_count": null,
   "metadata": {
    "collapsed": true
   },
   "outputs": [],
   "source": []
  }
 ],
 "metadata": {
  "kernelspec": {
   "display_name": "Python 3",
   "language": "python",
   "name": "python3"
  },
  "language_info": {
   "codemirror_mode": {
    "name": "ipython",
    "version": 3
   },
   "file_extension": ".py",
   "mimetype": "text/x-python",
   "name": "python",
   "nbconvert_exporter": "python",
   "pygments_lexer": "ipython3",
   "version": "3.5.2"
  }
 },
 "nbformat": 4,
 "nbformat_minor": 1
}
