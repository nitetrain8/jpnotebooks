{
 "cells": [
  {
   "cell_type": "code",
   "execution_count": 1,
   "metadata": {
    "collapsed": true
   },
   "outputs": [],
   "source": [
    "from hello import hello_logger"
   ]
  },
  {
   "cell_type": "code",
   "execution_count": 2,
   "metadata": {
    "collapsed": true
   },
   "outputs": [],
   "source": [
    "hello_logger.print_keys()"
   ]
  },
  {
   "cell_type": "code",
   "execution_count": 3,
   "metadata": {
    "collapsed": true
   },
   "outputs": [],
   "source": [
    "keys = [\n",
    "    'temperature.output',\n",
    "    'temperature.pv',\n",
    "    'agitation.output',\n",
    "    'agitation.pv',\n",
    "    'agitation.error',\n",
    "    'do.outputDown',\n",
    "    'do.pv',\n",
    "    'do.sp',\n",
    "    'do.outputUp',\n",
    "    'maingas.pv',\n",
    "    'MFCs.air',\n",
    "    'MFCs.n2',\n",
    "    'MFCs.o2',\n",
    "    'MFCs.co2',\n",
    "    'condenser.output',\n",
    "    'condenser.pv',\n",
    "    'level.pv',\n",
    "]"
   ]
  },
  {
   "cell_type": "code",
   "execution_count": 4,
   "metadata": {
    "collapsed": true
   },
   "outputs": [],
   "source": [
    "fp = 'C:\\\\Users\\\\natha\\\\Documents\\\\test'"
   ]
  },
  {
   "cell_type": "code",
   "execution_count": 5,
   "metadata": {
    "collapsed": true
   },
   "outputs": [],
   "source": [
    "fn = fp +\"/3L condensor and DO test data 170712.csv\"\n",
    "h = hello_logger.HelloLogger('71.189.82.196:81', 30, fn, keys)\n",
    "h.start()"
   ]
  },
  {
   "cell_type": "code",
   "execution_count": 8,
   "metadata": {
    "collapsed": true
   },
   "outputs": [
    {
     "name": "stderr",
     "output_type": "stream",
     "text": [
      "Traceback (most recent call last):\n",
      "  File \"C:\\Users\\natha\\Documents\\Dropbox\\Python\\hello\\hello_logger.py\", line 250, in run\n",
      "    self.fn()\n",
      "  File \"C:\\Users\\natha\\Documents\\Dropbox\\Python\\hello\\hello_logger.py\", line 164, in log_data\n",
      "    d = self._query()\n",
      "  File \"C:\\Users\\natha\\Documents\\Dropbox\\Python\\hello\\hello_logger.py\", line 151, in _query\n",
      "    mv = self._gmv()\n",
      "  File \"C:\\Users\\natha\\Documents\\Dropbox\\Python\\hello\\hello_logger.py\", line 148, in _gmv\n",
      "    return self._call(self._h.gpmv)\n",
      "  File \"C:\\Users\\natha\\Documents\\Dropbox\\Python\\hello\\hello_logger.py\", line 134, in _call\n",
      "    return f(*args, **kw)\n",
      "  File \"C:\\Users\\natha\\Documents\\Dropbox\\Python\\hello\\hello3.py\", line 585, in getMainValues\n",
      "    mv = json_loads(rsp.read().decode('utf-8'))\n",
      "  File \"c:\\program files\\python 3.5\\lib\\json\\__init__.py\", line 319, in loads\n",
      "    return _default_decoder.decode(s)\n",
      "  File \"c:\\program files\\python 3.5\\lib\\json\\decoder.py\", line 339, in decode\n",
      "    obj, end = self.raw_decode(s, idx=_w(s, 0).end())\n",
      "  File \"c:\\program files\\python 3.5\\lib\\json\\decoder.py\", line 357, in raw_decode\n",
      "    raise JSONDecodeError(\"Expecting value\", s, err.value) from None\n",
      "json.decoder.JSONDecodeError: Expecting value: line 1 column 1 (char 0)\n"
     ]
    }
   ],
   "source": [
    "fn2 = fp + \"\\\\15L condensor and DO test data 170712.csv\"\n",
    "h2 = hello_logger.HelloLogger('192.168.1.7', 30, fn2, keys)\n",
    "h2.start()"
   ]
  },
  {
   "cell_type": "markdown",
   "metadata": {},
   "source": [
    "# Analysis"
   ]
  },
  {
   "cell_type": "code",
   "execution_count": 38,
   "metadata": {
    "collapsed": true
   },
   "outputs": [],
   "source": [
    "from officelib.xllib import *\n",
    "from officelib.const import xlconst as xlc\n",
    "xl = Excel()"
   ]
  },
  {
   "cell_type": "markdown",
   "metadata": {},
   "source": [
    "## 3L"
   ]
  },
  {
   "cell_type": "code",
   "execution_count": 41,
   "metadata": {
    "collapsed": true
   },
   "outputs": [],
   "source": [
    "wb = xl.Workbooks(\"3L condensor and DO test data 170706.csv\")\n",
    "ws = wb.Worksheets(1)\n",
    "cells = ws.Cells\n",
    "cr = cells.Range"
   ]
  },
  {
   "cell_type": "code",
   "execution_count": 42,
   "metadata": {
    "collapsed": true
   },
   "outputs": [],
   "source": [
    "def fixdata():\n",
    "    top = cr(\"A1\")\n",
    "    bot = top.End(xlc.xlDown)\n",
    "    bot = top.End(xlc.xlToRight).Offset(bot.Row, 1)\n",
    "\n",
    "    data = cr(top, bot).Value\n",
    "    from itertools import zip_longest\n",
    "    data = list(map(list, zip_longest(*data)))\n",
    "    rows = len(data[0])\n",
    "    cols = len(data)\n",
    "    for i in range(cols):\n",
    "        cdat = data[i]\n",
    "        for j in range(rows):\n",
    "            v = cdat[j]\n",
    "            if v in {None, \"\"}:\n",
    "                cdat[j] = cdat[j-1]\n",
    "    data = list(zip_longest(*data))\n",
    "    cr(top, bot).Value = data\n"
   ]
  },
  {
   "cell_type": "code",
   "execution_count": 43,
   "metadata": {
    "collapsed": true
   },
   "outputs": [],
   "source": [
    "fixdata()"
   ]
  },
  {
   "cell_type": "code",
   "execution_count": null,
   "metadata": {
    "collapsed": true
   },
   "outputs": [],
   "source": [
    "with screen_lock(xl):\n",
    "    for c in ws.Columns:\n",
    "        if c.Column < 4:\n",
    "            continue\n",
    "        if c.Cells(1,1).Value is None:\n",
    "            break\n",
    "        print(c.Cells(1,1).Value)\n",
    "        if \"condenser\" not in c.Cells(1,1).Value:\n",
    "            c.Hidden = True"
   ]
  },
  {
   "cell_type": "code",
   "execution_count": 50,
   "metadata": {
    "collapsed": true
   },
   "outputs": [],
   "source": [
    "chart = ws.ChartObjects(1).Chart\n",
    "chart.SeriesCollection(1).AxisGroup = xlc.xlSecondary"
   ]
  },
  {
   "cell_type": "code",
   "execution_count": 51,
   "metadata": {
    "collapsed": true
   },
   "outputs": [],
   "source": [
    "xax = chart.Axes(xlc.xlCategory, xlc.xlPrimary)\n",
    "yax = chart.Axes(xlc.xlValue, xlc.xlPrimary)\n",
    "yax2 = chart.Axes(xlc.xlValue, xlc.xlSecondary)\n",
    "\n",
    "for ax in (xax, yax, yax2):\n",
    "    ax.HasTitle = True\n",
    "    \n",
    "xax.AxisTitle.Text = \"Time\"\n",
    "yax.AxisTitle.Text = \"Temp (C)\"\n",
    "yax2.AxisTitle.Text = \"Heat Duty (%)\""
   ]
  },
  {
   "cell_type": "markdown",
   "metadata": {},
   "source": [
    "## 15L "
   ]
  },
  {
   "cell_type": "code",
   "execution_count": null,
   "metadata": {
    "collapsed": true
   },
   "outputs": [],
   "source": [
    "wb = xl.Workbooks(\"15L condensor and DO test data 170706.xlsb\")\n",
    "ws = wb.Worksheets(1)\n",
    "cells = ws.Cells\n",
    "cr = cells.Range"
   ]
  },
  {
   "cell_type": "code",
   "execution_count": 55,
   "metadata": {
    "collapsed": true
   },
   "outputs": [],
   "source": [
    "fixdata()"
   ]
  },
  {
   "cell_type": "code",
   "execution_count": 66,
   "metadata": {},
   "outputs": [
    {
     "name": "stdout",
     "output_type": "stream",
     "text": [
      "do.sp\n",
      "maingas.pv\n",
      "MFCs.o2\n",
      "MFCs.co2\n",
      "do.pv\n",
      "condenser.output\n",
      "level.pv\n",
      "agitation.error\n",
      "agitation.pv\n",
      "temperature.output\n",
      "agitation.output\n",
      "do.outputDown\n",
      "MFCs.air\n",
      "condenser.pv\n",
      "MFCs.n2\n",
      "temperature.pv\n",
      "do.outputUp\n"
     ]
    }
   ],
   "source": [
    "with screen_lock(xl):\n",
    "    for c in ws.Columns:\n",
    "        if c.Column < 4:\n",
    "            continue\n",
    "        if c.Cells(1,1).Value is None:\n",
    "            break\n",
    "        print(c.Cells(1,1).Value)\n",
    "        if \"condenser\" not in c.Cells(1,1).Value:\n",
    "            c.Hidden = True"
   ]
  },
  {
   "cell_type": "code",
   "execution_count": 71,
   "metadata": {},
   "outputs": [],
   "source": [
    "\n",
    "chart = xl.Selection.Parent\n",
    "chart.SeriesCollection(1).AxisGroup = xlc.xlSecondary"
   ]
  },
  {
   "cell_type": "code",
   "execution_count": 72,
   "metadata": {
    "collapsed": true
   },
   "outputs": [],
   "source": [
    "xax = chart.Axes(xlc.xlCategory, xlc.xlPrimary)\n",
    "yax = chart.Axes(xlc.xlValue, xlc.xlPrimary)\n",
    "yax2 = chart.Axes(xlc.xlValue, xlc.xlSecondary)\n",
    "\n",
    "for ax in (xax, yax, yax2):\n",
    "    ax.HasTitle = True\n",
    "    \n",
    "xax.AxisTitle.Text = \"Time\"\n",
    "yax.AxisTitle.Text = \"Temp (C)\"\n",
    "yax2.AxisTitle.Text = \"Heat Duty (%)\""
   ]
  },
  {
   "cell_type": "code",
   "execution_count": 73,
   "metadata": {
    "collapsed": true
   },
   "outputs": [],
   "source": [
    "fn3 = fp +\"/3L condensor pid 170713.csv\"\n",
    "h = hello_logger.HelloLogger('71.189.82.196:81', 30, fn3, keys)\n",
    "h.start()"
   ]
  },
  {
   "cell_type": "code",
   "execution_count": 76,
   "metadata": {
    "collapsed": true
   },
   "outputs": [],
   "source": [
    "fn4 = fp + \"\\\\15L condensor PID data 170713 2.csv\"\n",
    "h4 = hello_logger.HelloLogger('192.168.1.7', 10, fn4, keys)\n",
    "h4.start()"
   ]
  },
  {
   "cell_type": "code",
   "execution_count": null,
   "metadata": {
    "collapsed": true
   },
   "outputs": [],
   "source": []
  },
  {
   "cell_type": "code",
   "execution_count": null,
   "metadata": {
    "collapsed": true
   },
   "outputs": [],
   "source": []
  },
  {
   "cell_type": "code",
   "execution_count": 107,
   "metadata": {
    "collapsed": true
   },
   "outputs": [],
   "source": [
    "h4.stop()"
   ]
  },
  {
   "cell_type": "markdown",
   "metadata": {},
   "source": [
    "### WIP analysis 15L with PID on"
   ]
  },
  {
   "cell_type": "code",
   "execution_count": 97,
   "metadata": {},
   "outputs": [],
   "source": [
    "wb = xl.Workbooks(\"_15L PID Test.xlsb\")\n",
    "ws = wb.Worksheets(1)\n",
    "cells = ws.Cells\n",
    "cr = cells.Range"
   ]
  },
  {
   "cell_type": "code",
   "execution_count": 98,
   "metadata": {
    "collapsed": true
   },
   "outputs": [],
   "source": [
    "fixdata()"
   ]
  },
  {
   "cell_type": "code",
   "execution_count": 99,
   "metadata": {
    "collapsed": true
   },
   "outputs": [],
   "source": [
    "with screen_lock(xl):\n",
    "    for c in ws.Columns:\n",
    "        v = c.Cells(1,1).Value\n",
    "        if v is None:\n",
    "            break\n",
    "        elif v in {\"Time\", \"Elapsed\"}:\n",
    "            continue\n",
    "        elif \"condenser\" not in c.Cells(1,1).Value:\n",
    "            c.Hidden = True"
   ]
  },
  {
   "cell_type": "code",
   "execution_count": 103,
   "metadata": {},
   "outputs": [
    {
     "data": {
      "text/plain": [
       "True"
      ]
     },
     "execution_count": 103,
     "metadata": {},
     "output_type": "execute_result"
    }
   ],
   "source": [
    "\n",
    "op_top = cells.Find(\"condenser.output\")\n",
    "op_bot = op_top.End(xlc.xlDown)\n",
    "pv_top = cells.Find(\"condenser.pv\")\n",
    "pv_bot = pv_top.End(xlc.xlDown)\n",
    "\n",
    "el = cells.Find(\"Elapsed\")\n",
    "el.Offset(1,2).EntireColumn.Insert()\n",
    "el2 = el.Offset(2,2)\n",
    "el2.Value = \"=%s/3600\"%el.Offset(2,1).GetAddress(0,0)\n",
    "el_bot = el2.Offset(pv_bot.Row-pv_top.Row, 1)\n",
    "afr = cr(el2, el_bot)\n",
    "el2.AutoFill(afr)\n"
   ]
  },
  {
   "cell_type": "code",
   "execution_count": 106,
   "metadata": {
    "collapsed": true
   },
   "outputs": [],
   "source": [
    "\n",
    "chart = CreateChart(ws)\n",
    "chart.ChartStyle = 240\n",
    "CreateDataSeries(chart, cr(el2, el_bot), cr(pv_top, pv_bot), pv_top)\n",
    "CreateDataSeries(chart, cr(el2, el_bot), cr(op_top, op_bot), op_top).AxisGroup = xlc.xlSecondary"
   ]
  },
  {
   "cell_type": "code",
   "execution_count": 102,
   "metadata": {
    "collapsed": true
   },
   "outputs": [],
   "source": [
    "xax = chart.Axes(xlc.xlCategory, xlc.xlPrimary)\n",
    "yax = chart.Axes(xlc.xlValue, xlc.xlPrimary)\n",
    "yax2 = chart.Axes(xlc.xlValue, xlc.xlSecondary)\n",
    "\n",
    "for ax in (xax, yax, yax2):\n",
    "    ax.HasTitle = True\n",
    "    \n",
    "xax.AxisTitle.Text = \"Time\"\n",
    "yax.AxisTitle.Text = \"Temp (C)\"\n",
    "yax2.AxisTitle.Text = \"Heat Duty (%)\""
   ]
  },
  {
   "cell_type": "code",
   "execution_count": null,
   "metadata": {
    "collapsed": true
   },
   "outputs": [],
   "source": []
  }
 ],
 "metadata": {
  "kernelspec": {
   "display_name": "Python 3",
   "language": "python",
   "name": "python3"
  },
  "language_info": {
   "codemirror_mode": {
    "name": "ipython",
    "version": 3
   },
   "file_extension": ".py",
   "mimetype": "text/x-python",
   "name": "python",
   "nbconvert_exporter": "python",
   "pygments_lexer": "ipython3",
   "version": "3.5.0"
  }
 },
 "nbformat": 4,
 "nbformat_minor": 2
}
