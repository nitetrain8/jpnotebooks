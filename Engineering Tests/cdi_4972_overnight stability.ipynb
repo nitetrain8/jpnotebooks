{
 "cells": [
  {
   "cell_type": "code",
   "execution_count": 10,
   "metadata": {},
   "outputs": [],
   "source": [
    "import os\n",
    "from hello.hello3 import open_hello\n",
    "import datetime"
   ]
  },
  {
   "cell_type": "code",
   "execution_count": 6,
   "metadata": {},
   "outputs": [],
   "source": [
    "app = open_hello(\"192.168.5.81\")"
   ]
  },
  {
   "cell_type": "code",
   "execution_count": 17,
   "metadata": {},
   "outputs": [],
   "source": [
    "def record(f,val):\n",
    "    now = str(datetime.datetime.now())\n",
    "    print(\"%s,%s\"%(now,val), file=f)\n",
    "\n",
    "def run(f): \n",
    "    last = 0\n",
    "    while True:\n",
    "        ph = app.gpmv()['ph']['pv']\n",
    "        if ph != last:\n",
    "            record(f,ph)\n",
    "        last = ph"
   ]
  },
  {
   "cell_type": "code",
   "execution_count": 20,
   "metadata": {},
   "outputs": [],
   "source": [
    "def main():\n",
    "    with open(\"cdi_4972.csv\", 'w') as f:\n",
    "        print(\"Time,pHPV\",file=f)\n",
    "        try:\n",
    "            run(f)\n",
    "        except KeyboardInterrupt:\n",
    "            pass\n",
    "        except BaseException as e:  # do not lose data under any circumstance\n",
    "            print(\"Warning: nonstandard exit \"+str(e))"
   ]
  },
  {
   "cell_type": "code",
   "execution_count": 21,
   "metadata": {},
   "outputs": [
    {
     "name": "stdout",
     "output_type": "stream",
     "text": [
      "Warning: nonstandard exit ('Connection aborted.', RemoteDisconnected('Remote end closed connection without response'))\n"
     ]
    }
   ],
   "source": [
    "main()"
   ]
  },
  {
   "cell_type": "code",
   "execution_count": null,
   "metadata": {},
   "outputs": [],
   "source": []
  }
 ],
 "metadata": {
  "kernelspec": {
   "display_name": "Python 3",
   "language": "python",
   "name": "python3"
  },
  "language_info": {
   "codemirror_mode": {
    "name": "ipython",
    "version": 3
   },
   "file_extension": ".py",
   "mimetype": "text/x-python",
   "name": "python",
   "nbconvert_exporter": "python",
   "pygments_lexer": "ipython3",
   "version": "3.8.2"
  }
 },
 "nbformat": 4,
 "nbformat_minor": 4
}
