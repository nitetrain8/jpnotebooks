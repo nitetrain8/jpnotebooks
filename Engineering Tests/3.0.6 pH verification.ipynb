{
 "cells": [
  {
   "cell_type": "code",
   "execution_count": 1,
   "metadata": {
    "collapsed": true
   },
   "outputs": [],
   "source": [
    "from hello.hello3 import HelloApp, NotLoggedInError, BadError\n",
    "import time, datetime\n",
    "import requests"
   ]
  },
  {
   "cell_type": "code",
   "execution_count": 2,
   "metadata": {
    "collapsed": true
   },
   "outputs": [],
   "source": [
    "def wait1(s):\n",
    "    dend = (datetime.datetime.now() + datetime.timedelta(seconds=s)).strftime(\"%m/%d/%Y %I:%M:%S %p\")\n",
    "    print(\"Sleeping %d seconds, ending at %s\" %(s,dend))\n",
    "    start = time.time()\n",
    "    end = start + s\n",
    "    try:\n",
    "        while time.time() < end:\n",
    "            time.sleep(5)\n",
    "    except KeyboardInterrupt:\n",
    "        pass\n",
    "    \n",
    "def call(f, *args, m=None):\n",
    "    if m is None:\n",
    "        s = \"(\" + \", \".join(map(repr, args)) + \")\"\n",
    "        m = \"%s%s\" % (f.__name__, s)\n",
    "    print(m)\n",
    "    while True:\n",
    "        try:\n",
    "            rv = f(*args)\n",
    "        except NotLoggedInError:\n",
    "            h.login()\n",
    "        except requests.exceptions.ConnectTimeout as e:\n",
    "            print(str(e))\n",
    "            print(\"Make sure you're on the right network!\")\n",
    "        except (BadError, IOError) as e:\n",
    "            print(str(e))\n",
    "        except Exception: \n",
    "            print(str(e))\n",
    "        else:\n",
    "            return rv\n",
    "        \n",
    "def startbatch(name):\n",
    "    if call(h.batchrunning):\n",
    "        call(h.endbatch)\n",
    "    return call(h.startbatch, name)\n",
    "\n",
    "def setdo(mode, n2_or_sp, o2=None):\n",
    "    call(h.setdo, mode, n2_or_sp,o2)\n",
    "    \n",
    "def doman(n2, o2):\n",
    "    setdo(1, n2, o2)\n",
    "    \n",
    "def doauto(sp):\n",
    "    setdo(0, sp)\n",
    "    \n",
    "def dooff():\n",
    "    setdo(2, 0, 0)\n",
    "    \n",
    "def phoff():\n",
    "    setph(2, 0, 0)\n",
    "    \n",
    "def setph(mode, co2, base=None):\n",
    "    call(h.setph, mode, co2, base)\n",
    "    \n",
    "def phauto(sp):\n",
    "    setph(0, sp)\n",
    "        \n",
    "def endbatch():\n",
    "    call(h.endbatch)\n",
    "\n",
    "def wait2(s):\n",
    "    pass\n",
    "wait = wait1\n",
    "\n",
    "def agauto(sp):\n",
    "    call(h.setag, 0, sp)\n",
    "    \n",
    "def setmg(sp):\n",
    "    call(h.setmg, 1, sp)\n",
    "\n",
    "def pid1():\n",
    "    call(h.setconfig, \"DO\", \"O2_P_Gain_(%/DO%)\", 1.5)\n",
    "    call(h.setconfig, \"DO\", 'O2_I_Time_(min)', 120)\n",
    "    call(h.setconfig, \"DO\", 'O2_D_Time_(min)', 0)\n",
    "    call(h.setconfig, \"DO\", 'O2_Beta', 0)\n",
    "    \n",
    "    \n",
    "    call(h.setconfig, \"DO\", \"N2_P_Gain_(%/DO%)\", -5)\n",
    "    call(h.setconfig, \"DO\", 'N2_I_Time_(min)', 50)\n",
    "    call(h.setconfig, \"DO\", 'N2_D_Time_(min)', 0)\n",
    "    call(h.setconfig, \"DO\", 'N2_Beta', 0)\n",
    "    "
   ]
  },
  {
   "cell_type": "code",
   "execution_count": null,
   "metadata": {},
   "outputs": [
    {
     "name": "stdout",
     "output_type": "stream",
     "text": [
      "setph(2, 0, 0)\n",
      "setph(0, 7.2, None)\n",
      "Sleeping 21600 seconds, ending at 06/06/2018 06:55:01 PM\n",
      "batchrunning()\n",
      "startbatch('IE21 1.3')\n",
      "setph(0, 7.5, None)\n",
      "Sleeping 21600 seconds, ending at 06/07/2018 12:55:07 AM\n"
     ]
    }
   ],
   "source": [
    "hours = 3600\n",
    "h = HelloApp('192.168.1.14')\n",
    "wait = wait1\n",
    "phoff()\n",
    "phauto(7.2)\n",
    "wait(6*hours)\n",
    "startbatch(\"IE21 1.3\")\n",
    "phauto(7.5)\n",
    "wait(6*hours)\n",
    "endbatch()\n",
    "startbatch(\"IE21 1.4\")\n",
    "phauto(7.0)\n",
    "wait(6*hours)\n",
    "endbatch()"
   ]
  },
  {
   "cell_type": "markdown",
   "metadata": {},
   "source": [
    "# 3L Analysis"
   ]
  },
  {
   "cell_type": "code",
   "execution_count": 10,
   "metadata": {
    "collapsed": true
   },
   "outputs": [],
   "source": [
    "h = HelloApp('192.168.1.14')\n",
    "p=''\n",
    "\n",
    "def bt():\n",
    "    import datetime; return datetime.datetime.now().strftime(\"%y%m%d\")\n",
    "\n",
    "def dl(bn):\n",
    "    if isinstance(bn, str):\n",
    "        b = call(h.getdatareport_bybatchname, bn)\n",
    "    elif isinstance(bn, tuple):\n",
    "        name, d1, d2 = bn\n",
    "        b = call(h.getreport_bydate, 'process_data', d1, d2)\n",
    "        bn = name\n",
    "    fn = p+bn+\" \" + bt() + \".csv\"\n",
    "    with open(fn, 'wb') as f:\n",
    "        f.write(b)\n",
    "    return fn"
   ]
  },
  {
   "cell_type": "code",
   "execution_count": null,
   "metadata": {},
   "outputs": [],
   "source": [
    "for s in (\"IE21 1.3\", \"IE21 1.4\"):\n",
    "    dl(s)"
   ]
  },
  {
   "cell_type": "code",
   "execution_count": 4,
   "metadata": {
    "collapsed": true
   },
   "outputs": [],
   "source": [
    "from officelib.xllib import *\n",
    "from officelib.const import xlconst as xlc\n",
    "\n",
    "\n",
    "def open_file(file):\n",
    "    global xl, wb, ws, cells, cr\n",
    "    try:\n",
    "        xl\n",
    "    except NameError:\n",
    "        xl = Excel()\n",
    "    wb = xl.Workbooks.Open(file)\n",
    "    ws = wb.Worksheets(1)\n",
    "    cells = ws.Cells\n",
    "    cr = cells.Range\n",
    "\n",
    "def elform(c, ref):\n",
    "    a1 = c.GetAddress(0,0)\n",
    "    a2 = ref.GetAddress(1,1)\n",
    "    a3 = ref.Offset(0,2).GetAddress(1,1)\n",
    "    form = \"=(%s-%s)*%s\"%(a1, a2, a3)\n",
    "    return form\n",
    "    \n",
    "def mk_elapsed(c, ref, ins=True):\n",
    "    \n",
    "    if ins:\n",
    "        c.Offset(1,2).EntireColumn.Insert()\n",
    "    top = c.Offset(1,2)\n",
    "    bot = c.End(xlc.xlDown).Offset(1,2)\n",
    "    top.Value = elform(c, ref)\n",
    "    r = cr(top, bot)\n",
    "    top.AutoFill(r)\n",
    "    r.NumberFormat = \"0.00\"\n",
    "    \n",
    "def chart_rng(c):\n",
    "    x1 = c.Offset(1,2)\n",
    "    x2 = x1.End(xlc.xlDown)\n",
    "    y1 = c.Offset(1,3)\n",
    "    y2 = y1.End(xlc.xlDown)\n",
    "    return cr(x1, x2), cr(y1, y2)\n",
    "\n",
    "def mkch(c,v):\n",
    "    chart = CreateChart(ws, xlc.xlXYScatterLinesNoMarkers)\n",
    "    mkser(chart, c,v)\n",
    "    \n",
    "def mkser(ch, c,v):\n",
    "    x, y = chart_rng(c)\n",
    "    CreateDataSeries(ch, x, y, v)\n",
    "    \n",
    "def fixaxes():\n",
    "    for co in ws.ChartObjects():\n",
    "        ax = co.Chart.Axes(xlCategory, xlPrimary)\n",
    "        ax.MinimumScale = 0\n",
    "        \n",
    "def analf(f):\n",
    "    open_file(f)\n",
    "    return analyze(f)"
   ]
  },
  {
   "cell_type": "markdown",
   "metadata": {},
   "source": [
    "### pH Stuff"
   ]
  },
  {
   "cell_type": "code",
   "execution_count": 5,
   "metadata": {
    "collapsed": true
   },
   "outputs": [],
   "source": [
    "def analyze(fn):\n",
    "    c1 = cells.Find(\"pHPV\")\n",
    "    ref = c1 = c1.Offset(2,1)\n",
    "    mk_elapsed(c1, ref)\n",
    "    ref.Offset(0, 2).Value = \"24\"\n",
    "    mkch(c1,\"pHPV\")\n",
    "    ch2 = CreateChart(ws, xlc.xlXYScatterLinesNoMarkers)\n",
    "    \n",
    "    for v in \"pHPV\", \"pHCO2ActualRequest(%)\":\n",
    "        c = cells.Find(v).Offset(2,1)\n",
    "        mk_elapsed(c, ref)\n",
    "        mkch(c,v)\n",
    "        mkser(ch2, c, v)\n",
    "    fixaxes()\n",
    "    wb.SaveAs(fn.replace('.csv','.xlsx'), FileFormat=xlc.xlOpenXMLWorkbook)"
   ]
  },
  {
   "cell_type": "code",
   "execution_count": 8,
   "metadata": {},
   "outputs": [],
   "source": [
    "import os\n",
    "files = [p+bn+\" \" + bt() + \".csv\" for bn in (\"IE21 1.3\", \"IE21 1.4\")]\n",
    "xl = Excel()\n",
    "for file in files: wb = analf(os.path.abspath(file))"
   ]
  },
  {
   "cell_type": "code",
   "execution_count": null,
   "metadata": {
    "collapsed": true
   },
   "outputs": [],
   "source": []
  }
 ],
 "metadata": {
  "kernelspec": {
   "display_name": "Python 3",
   "language": "python",
   "name": "python3"
  },
  "language_info": {
   "codemirror_mode": {
    "name": "ipython",
    "version": 3
   },
   "file_extension": ".py",
   "mimetype": "text/x-python",
   "name": "python",
   "nbconvert_exporter": "python",
   "pygments_lexer": "ipython3",
   "version": "3.5.0"
  }
 },
 "nbformat": 4,
 "nbformat_minor": 1
}
