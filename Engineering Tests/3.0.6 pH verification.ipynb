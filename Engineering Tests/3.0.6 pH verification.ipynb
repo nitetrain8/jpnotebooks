{
 "cells": [
  {
   "cell_type": "code",
   "execution_count": 1,
   "metadata": {
    "collapsed": true
   },
   "outputs": [],
   "source": [
    "from hello.hello3 import HelloApp, NotLoggedInError, BadError\n",
    "import time, datetime\n",
    "import requests"
   ]
  },
  {
   "cell_type": "code",
   "execution_count": 72,
   "metadata": {
    "collapsed": true
   },
   "outputs": [],
   "source": [
    "def wait1(s):\n",
    "    dend = (datetime.datetime.now() + datetime.timedelta(seconds=s)).strftime(\"%m/%d/%Y %I:%M:%S %p\")\n",
    "    print(\"Sleeping %d seconds, ending at %s\" %(s,dend))\n",
    "    start = time.time()\n",
    "    end = start + s\n",
    "    try:\n",
    "        while time.time() < end:\n",
    "            time.sleep(5)\n",
    "    except KeyboardInterrupt:\n",
    "        pass\n",
    "    \n",
    "def call(f, *args, **kw):\n",
    "    s = \"(\" + \", \".join(map(repr, args)) + \")\"\n",
    "    m = \"%s%s\" % (f.__name__, s)\n",
    "    print(m)\n",
    "    while True:\n",
    "        try:\n",
    "            rv = f(*args, **kw)\n",
    "        except NotLoggedInError:\n",
    "            h.login()\n",
    "        except requests.exceptions.ConnectTimeout as e:\n",
    "            print(str(e))\n",
    "            print(\"Make sure you're on the right network!\")\n",
    "        except (BadError, IOError) as e:\n",
    "            print(str(e))\n",
    "        except Exception: \n",
    "            print(str(e))\n",
    "        else:\n",
    "            return rv\n",
    "        \n",
    "def startbatch(name):\n",
    "    if call(h.batchrunning):\n",
    "        call(h.endbatch)\n",
    "    return call(h.startbatch, name)\n",
    "\n",
    "def setdo(mode, n2_or_sp, o2=None):\n",
    "    call(h.setdo, mode, n2_or_sp,o2)\n",
    "    \n",
    "def doman(n2, o2):\n",
    "    setdo(1, n2, o2)\n",
    "    \n",
    "def doauto(sp):\n",
    "    setdo(0, sp)\n",
    "    \n",
    "def dooff():\n",
    "    setdo(2, 0, 0)\n",
    "    \n",
    "def phoff():\n",
    "    setph(2, 0, 0)\n",
    "    \n",
    "def setph(mode, co2, base=None):\n",
    "    call(h.setph, mode, co2, base)\n",
    "    \n",
    "def phauto(sp):\n",
    "    setph(0, sp)\n",
    "        \n",
    "def endbatch():\n",
    "    call(h.endbatch)\n",
    "\n",
    "def wait2(s):\n",
    "    pass\n",
    "wait = wait1\n",
    "\n",
    "def agauto(sp):\n",
    "    call(h.setag, 0, sp)\n",
    "    \n",
    "def setmg(sp):\n",
    "    call(h.setmg, 1, sp)\n",
    "\n",
    "def pid1():\n",
    "    call(h.setconfig, \"DO\", \"O2_P_Gain_(%/DO%)\", 1.5)\n",
    "    call(h.setconfig, \"DO\", 'O2_I_Time_(min)', 120)\n",
    "    call(h.setconfig, \"DO\", 'O2_D_Time_(min)', 0)\n",
    "    call(h.setconfig, \"DO\", 'O2_Beta', 0)\n",
    "    \n",
    "    \n",
    "    call(h.setconfig, \"DO\", \"N2_P_Gain_(%/DO%)\", -5)\n",
    "    call(h.setconfig, \"DO\", 'N2_I_Time_(min)', 50)\n",
    "    call(h.setconfig, \"DO\", 'N2_D_Time_(min)', 0)\n",
    "    call(h.setconfig, \"DO\", 'N2_Beta', 0)\n",
    "    "
   ]
  },
  {
   "cell_type": "markdown",
   "metadata": {},
   "source": [
    "# CO2 Test"
   ]
  },
  {
   "cell_type": "code",
   "execution_count": 11,
   "metadata": {},
   "outputs": [
    {
     "name": "stdout",
     "output_type": "stream",
     "text": [
      "setph(2, 0, 0)\n",
      "setph(0, 7.2, None)\n",
      "Sleeping 21600 seconds, ending at 06/06/2018 06:55:01 PM\n",
      "batchrunning()\n",
      "startbatch('IE21 1.3')\n",
      "setph(0, 7.5, None)\n",
      "Sleeping 21600 seconds, ending at 06/07/2018 12:55:07 AM\n",
      "endbatch()\n",
      "batchrunning()\n",
      "startbatch('IE21 1.4')\n",
      "setph(0, 7.0, None)\n",
      "Sleeping 21600 seconds, ending at 06/07/2018 06:55:14 AM\n",
      "endbatch()\n"
     ]
    }
   ],
   "source": [
    "hours = 3600\n",
    "h = HelloApp('192.168.1.14')\n",
    "wait = wait1\n",
    "phoff()\n",
    "phauto(7.2)\n",
    "wait(6*hours)\n",
    "startbatch(\"IE21 1.3\")\n",
    "phauto(7.5)\n",
    "wait(6*hours)\n",
    "endbatch()\n",
    "startbatch(\"IE21 1.4\")\n",
    "phauto(7.0)\n",
    "wait(6*hours)\n",
    "endbatch()"
   ]
  },
  {
   "cell_type": "markdown",
   "metadata": {},
   "source": [
    "# Base Test"
   ]
  },
  {
   "cell_type": "code",
   "execution_count": null,
   "metadata": {},
   "outputs": [
    {
     "name": "stdout",
     "output_type": "stream",
     "text": [
      "setph(0, 7.0, None)\n",
      "setdo(1, 100, 0)\n",
      "setmg(1, 0.1)\n",
      "Sleeping 21600 seconds, ending at 06/07/2018 11:23:38 PM\n"
     ]
    }
   ],
   "source": [
    "hours = 3600\n",
    "h = HelloApp('192.168.1.14')\n",
    "wait = wait1\n",
    "phauto(7.0)\n",
    "doman(100, 0)\n",
    "setmg(0.1)\n",
    "wait(6*hours)\n",
    "setmg(0.3)\n",
    "startbatch(\"IE21 2.1\")\n",
    "call(h.call, \"setbasepump\", val1=1)\n",
    "wait(2*hours)\n",
    "endbatch()"
   ]
  },
  {
   "cell_type": "markdown",
   "metadata": {},
   "source": [
    "# 3L Analysis"
   ]
  },
  {
   "cell_type": "code",
   "execution_count": 12,
   "metadata": {
    "collapsed": true
   },
   "outputs": [],
   "source": [
    "h = HelloApp('192.168.1.14')\n",
    "p=''\n",
    "\n",
    "def bt():\n",
    "    import datetime; return datetime.datetime.now().strftime(\"%y%m%d\")\n",
    "\n",
    "def dl(bn):\n",
    "    if isinstance(bn, str):\n",
    "        b = call(h.getdatareport_bybatchname, bn)\n",
    "    elif isinstance(bn, tuple):\n",
    "        name, d1, d2 = bn\n",
    "        b = call(h.getreport_bydate, 'process_data', d1, d2)\n",
    "        bn = name\n",
    "    fn = p+bn+\" \" + bt() + \".csv\"\n",
    "    with open(fn, 'wb') as f:\n",
    "        f.write(b)\n",
    "    return fn"
   ]
  },
  {
   "cell_type": "code",
   "execution_count": 13,
   "metadata": {},
   "outputs": [
    {
     "name": "stdout",
     "output_type": "stream",
     "text": [
      "getdatareport_bybatchname('IE21 1.3')\n",
      "getdatareport_bybatchname('IE21 1.4')\n"
     ]
    }
   ],
   "source": [
    "for s in (\"IE21 1.3\", \"IE21 1.4\"):\n",
    "    dl(s)"
   ]
  },
  {
   "cell_type": "code",
   "execution_count": 27,
   "metadata": {
    "collapsed": true
   },
   "outputs": [],
   "source": [
    "from officelib.xllib import *\n",
    "from officelib.const import xlconst as xlc\n",
    "\n",
    "\n",
    "def open_file(file):\n",
    "    global xl, wb, ws, cells, cr\n",
    "    try:\n",
    "        xl\n",
    "    except NameError:\n",
    "        xl = Excel()\n",
    "    wb = xl.Workbooks.Open(file)\n",
    "    ws = wb.Worksheets(1)\n",
    "    cells = ws.Cells\n",
    "    cr = cells.Range\n",
    "\n",
    "def elform(c, ref):\n",
    "    a1 = c.GetAddress(0,0)\n",
    "    a2 = ref.GetAddress(1,1)\n",
    "    a3 = ref.Offset(0,2).GetAddress(1,1)\n",
    "    form = \"=(%s-%s)*%s\"%(a1, a2, a3)\n",
    "    return form\n",
    "    \n",
    "def mk_elapsed(c, ref, ins=True):\n",
    "    \n",
    "    if ins:\n",
    "        c.Offset(1,2).EntireColumn.Insert()\n",
    "    top = c.Offset(1,2)\n",
    "    bot = c.End(xlc.xlDown).Offset(1,2)\n",
    "    top.Value = elform(c, ref)\n",
    "    r = cr(top, bot)\n",
    "    top.AutoFill(r)\n",
    "    r.NumberFormat = \"0.00\"\n",
    "    \n",
    "def chart_rng(c):\n",
    "    x1 = c.Offset(1,2)\n",
    "    x2 = x1.End(xlc.xlDown)\n",
    "    y1 = c.Offset(1,3)\n",
    "    y2 = y1.End(xlc.xlDown)\n",
    "    return cr(x1, x2), cr(y1, y2)\n",
    "\n",
    "def mkch(c,v):\n",
    "    chart = CreateChart(ws, xlc.xlXYScatterLinesNoMarkers)\n",
    "    mkser(chart, c,v)\n",
    "    \n",
    "def mkser(ch, c,v):\n",
    "    x, y = chart_rng(c)\n",
    "    CreateDataSeries(ch, x, y, v)\n",
    "    \n",
    "def fixaxes():\n",
    "    for co in ws.ChartObjects():\n",
    "        ax = co.Chart.Axes(xlCategory, xlPrimary)\n",
    "        ax.MinimumScale = 0\n",
    "        \n",
    "def analf(f, save=True):\n",
    "    open_file(f)\n",
    "    return analyze(f, save)"
   ]
  },
  {
   "cell_type": "code",
   "execution_count": 45,
   "metadata": {
    "collapsed": true
   },
   "outputs": [],
   "source": [
    "def analyze(fn, save=True):\n",
    "    c1 = cells.Find(\"pHPV\")\n",
    "    ref = c1 = c1.Offset(2,1)\n",
    "    mk_elapsed(c1, ref)\n",
    "    ref.Offset(0, 2).Value = \"24\"\n",
    "    mkch(c1,\"pHPV\")\n",
    "    ch2 = CreateChart(ws, xlc.xlXYScatterLinesNoMarkers)\n",
    "    mkser(ch2, c1, \"pHPV\")\n",
    "    \n",
    "    for v in \"pHCO2ActualRequest(%)\",:\n",
    "        c = cells.Find(v).Offset(2,1)\n",
    "        mk_elapsed(c, ref)\n",
    "        mkch(c,v)\n",
    "        mkser(ch2, c, v)\n",
    "    fixaxes()\n",
    "    if save:\n",
    "        wb.SaveAs(fn.replace('.csv','.xlsx'), FileFormat=xlc.xlOpenXMLWorkbook)\n",
    "    return wb"
   ]
  },
  {
   "cell_type": "code",
   "execution_count": 49,
   "metadata": {
    "collapsed": true
   },
   "outputs": [],
   "source": [
    "import os\n",
    "files = [p+bn+\" \" + bt() + \".csv\" for bn in (\"IE21 1.3\", \"IE21 1.4\")]\n",
    "xl = Excel()\n",
    "with screen_lock(xl):\n",
    "    xl.DisplayAlerts = False\n",
    "    for file in files: \n",
    "        analf(os.path.abspath(file))\n",
    "\n",
    "    # these two are reference files generated by Erica running through the draft OQ\n",
    "    p2 = \"C:\\\\PBSCloudStation\\\\(2) R&D-Product Engineering\\\\IQ OQ\\\\\"\n",
    "    fns = \"2018050114414412.csv\", \"2018050308540168.csv\", \n",
    "    fns = [\n",
    "        (fns[0], \"7.2 to 7.5\"),\n",
    "        (fns[1], \"7.5 to 7.0\")\n",
    "    ]\n",
    "\n",
    "    for fn, s in fns:\n",
    "        fp = p2 + fn\n",
    "        wb = analf(fp, False)\n",
    "        wb.SaveAs(p + (\"OQ CO2 %s \"%s)+ bt()+\".xlsx\", FileFormat = xlc.xlOpenXMLWorkbook)\n",
    "    xl.DisplayAlerts = True\n",
    "wbs = list(xl.Workbooks)"
   ]
  },
  {
   "cell_type": "code",
   "execution_count": 54,
   "metadata": {
    "collapsed": true
   },
   "outputs": [],
   "source": [
    "for wb in wbs:\n",
    "    wb.Worksheets(1).ChartObjects(2).Chart.SeriesCollection(2).AxisGroup = xlc.xlSecondary"
   ]
  },
  {
   "cell_type": "code",
   "execution_count": 62,
   "metadata": {
    "collapsed": true
   },
   "outputs": [],
   "source": [
    "def phxtime(idx, a, b):\n",
    "    wb = wbs[idx]\n",
    "    for co in wb.Worksheets(1).ChartObjects():\n",
    "        ch = co.Chart\n",
    "        FormatAxesScale(ch, a, b)\n",
    "        \n",
    "\n",
    "        \n",
    "def phctype(idx, typ):\n",
    "    wb = wbs[idx]\n",
    "    wb.Worksheets(1).ChartObjects(1).Chart.ChartType = typ"
   ]
  },
  {
   "cell_type": "code",
   "execution_count": 55,
   "metadata": {
    "collapsed": true
   },
   "outputs": [],
   "source": [
    "phxtime(0, 2, 6)\n",
    "phxtime(2, 2, 6)"
   ]
  },
  {
   "cell_type": "code",
   "execution_count": 56,
   "metadata": {
    "collapsed": true
   },
   "outputs": [],
   "source": [
    "phxtime(2, 10, 14)"
   ]
  },
  {
   "cell_type": "code",
   "execution_count": 63,
   "metadata": {
    "collapsed": true
   },
   "outputs": [],
   "source": [
    "phctype(0, xlc.xlXYScatterLines)\n",
    "phctype(2, xlc.xlXYScatterLines)"
   ]
  },
  {
   "cell_type": "code",
   "execution_count": 64,
   "metadata": {
    "collapsed": true
   },
   "outputs": [],
   "source": [
    "phxtime(1, 2,6)\n",
    "phxtime(3, 10, 14)"
   ]
  },
  {
   "cell_type": "code",
   "execution_count": 69,
   "metadata": {
    "collapsed": true
   },
   "outputs": [],
   "source": [
    "def bgetc(idx):\n",
    "    return xl.Workbooks(\"IE21 CO2 Test 180607.xlsx\").Worksheets(1).ChartObjects(idx).Chart\n",
    "\n",
    "def bxfix(idx, a, b):\n",
    "    ch = bgetc(idx)\n",
    "    FormatAxesScale(ch, a, b)\n",
    "    \n",
    "def byfix(idx, a, b):\n",
    "    ch = bgetc(idx)\n",
    "    FormatAxesScale(ch, None, None, a, b)"
   ]
  },
  {
   "cell_type": "code",
   "execution_count": 66,
   "metadata": {
    "collapsed": true
   },
   "outputs": [],
   "source": [
    "for co in xl.Workbooks(5).Worksheets(1).ChartObjects():\n",
    "    ch = co.Chart\n",
    "    FormatAxesScale(ch, 0, 6)"
   ]
  },
  {
   "cell_type": "code",
   "execution_count": 70,
   "metadata": {
    "collapsed": true
   },
   "outputs": [],
   "source": [
    "byfix(1, 7.2, 7.6)\n",
    "byfix(2, 7.2, 7.6)"
   ]
  },
  {
   "cell_type": "code",
   "execution_count": 71,
   "metadata": {
    "collapsed": true
   },
   "outputs": [],
   "source": [
    "byfix(3, 6.9, 7.6)\n",
    "byfix(4, 6.9, 7.6)"
   ]
  },
  {
   "cell_type": "code",
   "execution_count": null,
   "metadata": {
    "collapsed": true
   },
   "outputs": [],
   "source": []
  }
 ],
 "metadata": {
  "kernelspec": {
   "display_name": "Python 3",
   "language": "python",
   "name": "python3"
  },
  "language_info": {
   "codemirror_mode": {
    "name": "ipython",
    "version": 3
   },
   "file_extension": ".py",
   "mimetype": "text/x-python",
   "name": "python",
   "nbconvert_exporter": "python",
   "pygments_lexer": "ipython3",
   "version": "3.5.0"
  }
 },
 "nbformat": 4,
 "nbformat_minor": 1
}
