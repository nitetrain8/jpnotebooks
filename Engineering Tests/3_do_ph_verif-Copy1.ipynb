{
 "cells": [
  {
   "cell_type": "code",
   "execution_count": 2,
   "metadata": {
    "collapsed": true
   },
   "outputs": [],
   "source": [
    "from hello.hello3 import HelloApp, NotLoggedInError, BadError\n",
    "import time, datetime\n",
    "import requests"
   ]
  },
  {
   "cell_type": "code",
   "execution_count": 3,
   "metadata": {
    "collapsed": true
   },
   "outputs": [],
   "source": [
    "def wait1(s):\n",
    "    dend = (datetime.datetime.now() + datetime.timedelta(seconds=s)).strftime(\"%m/%d/%Y %I:%M:%S %p\")\n",
    "    print(\"Sleeping %d seconds, ending at %s\" %(s,dend))\n",
    "    start = time.time()\n",
    "    end = start + s\n",
    "    try:\n",
    "        while time.time() < end:\n",
    "            time.sleep(5)\n",
    "    except KeyboardInterrupt:\n",
    "        pass\n",
    "    \n",
    "def call(f, *args):\n",
    "    s = \"(\" + \", \".join(map(repr, args)) + \")\"\n",
    "    print(\"Calling %s%s\" % (f.__name__, s))\n",
    "    while True:\n",
    "        try:\n",
    "            rv = f(*args)\n",
    "        except NotLoggedInError:\n",
    "            h.login()\n",
    "        except requests.exceptions.ConnectTimeout as e:\n",
    "            print(str(e))\n",
    "            print(\"Make sure you're on the right network!\")\n",
    "        except (BadError, IOError) as e:\n",
    "            print(str(e))\n",
    "        else:\n",
    "            return rv\n",
    "        \n",
    "def startbatch(name):\n",
    "    if call(h.batchrunning):\n",
    "        call(h.endbatch)\n",
    "    return call(h.startbatch, name)\n",
    "\n",
    "def setdo(mode, n2_or_sp, o2=None):\n",
    "    call(h.setdo, mode, n2_or_sp,o2)\n",
    "    \n",
    "def doman(n2, o2):\n",
    "    setdo(1, n2, o2)\n",
    "    \n",
    "def doauto(sp):\n",
    "    setdo(0, sp)\n",
    "    \n",
    "def dooff():\n",
    "    setdo(2, 0, 0)\n",
    "        \n",
    "def endbatch():\n",
    "    call(h.endbatch)\n",
    "\n",
    "def wait2(s):\n",
    "    pass\n",
    "wait = wait1\n",
    "\n",
    "def agauto(sp):\n",
    "    call(h.setag, 0, sp)\n",
    "    \n",
    "def setmg(sp):\n",
    "    call(h.setmg, 1, sp)\n",
    "\n",
    "def pid1():\n",
    "    call(h.setconfig, \"DO\", \"O2_P_Gain_(%/DO%)\", 1.5)\n",
    "    call(h.setconfig, \"DO\", 'O2_I_Time_(min)', 120)\n",
    "    call(h.setconfig, \"DO\", 'O2_D_Time_(min)', 0)\n",
    "    call(h.setconfig, \"DO\", 'O2_Beta', 0)\n",
    "    \n",
    "    \n",
    "    call(h.setconfig, \"DO\", \"N2_P_Gain_(%/DO%)\", -5)\n",
    "    call(h.setconfig, \"DO\", 'N2_I_Time_(min)', 50)\n",
    "    call(h.setconfig, \"DO\", 'N2_D_Time_(min)', 0)\n",
    "    call(h.setconfig, \"DO\", 'N2_Beta', 0)\n",
    "    "
   ]
  },
  {
   "cell_type": "code",
   "execution_count": null,
   "metadata": {
    "collapsed": false
   },
   "outputs": [
    {
     "name": "stdout",
     "output_type": "stream",
     "text": [
      "Calling setdo(2, 0, 0)\n",
      "Calling setconfig('DO', 'O2_P_Gain_(%/DO%)', 1.5)\n",
      "Calling setconfig('DO', 'O2_I_Time_(min)', 120)\n",
      "Calling setconfig('DO', 'O2_D_Time_(min)', 0)\n",
      "Calling setconfig('DO', 'O2_Beta', 0)\n",
      "Calling setconfig('DO', 'N2_P_Gain_(%/DO%)', -5)\n",
      "Calling setconfig('DO', 'N2_I_Time_(min)', 50)\n",
      "Calling setconfig('DO', 'N2_D_Time_(min)', 0)\n",
      "Calling setconfig('DO', 'N2_Beta', 0)\n",
      "Calling setag(0, 12)\n",
      "Calling setmg(1, 0.5)\n",
      "Sleeping 36000 seconds, ending at 05/10/2017 02:14:55 AM\n"
     ]
    }
   ],
   "source": [
    "h = HelloApp('71.189.82.196:81')\n",
    "wait = wait1\n",
    "dooff()\n",
    "pid1()\n",
    "agauto(12)\n",
    "setmg(0.5)\n",
    "\n",
    "wait(3600*10)\n",
    "startbatch(\"dopid test\")\n",
    "doauto(150)\n",
    "setmg(0.2)\n",
    "wait(3600*10)\n",
    "endbatch()\n",
    "startbatch(\"dopid test2\")\n",
    "doauto(100)\n",
    "wait(3600*10)\n",
    "endbatch()\n",
    "startbatch(\"dopid test3\")\n",
    "doauto(50)\n",
    "wait(3600*10)\n",
    "endbatch()\n",
    "dooff()"
   ]
  },
  {
   "cell_type": "code",
   "execution_count": null,
   "metadata": {
    "collapsed": false
   },
   "outputs": [
    {
     "name": "stdout",
     "output_type": "stream",
     "text": [
      "Calling setdo(2, 0, 0)\n",
      "Calling setconfig('DO', 'O2_P_Gain_(%/DO%)', 1.5)\n",
      "Calling setconfig('DO', 'O2_I_Time_(min)', 120)\n",
      "Calling setconfig('DO', 'O2_D_Time_(min)', 0)\n",
      "Calling setconfig('DO', 'O2_Beta', 0)\n",
      "Calling setconfig('DO', 'N2_P_Gain_(%/DO%)', -5)\n",
      "Calling setconfig('DO', 'N2_I_Time_(min)', 50)\n",
      "Calling setconfig('DO', 'N2_D_Time_(min)', 0)\n",
      "Calling setconfig('DO', 'N2_Beta', 0)\n",
      "Calling setag(0, 12)\n",
      "Calling setmg(1, 0.5)\n",
      "Calling batchrunning()\n",
      "Calling startbatch('dopid test')\n",
      "Calling setdo(0, 150, None)\n",
      "Calling setmg(1, 0.2)\n",
      "Sleeping 36000 seconds, ending at 05/10/2017 08:34:56 PM\n"
     ]
    }
   ],
   "source": [
    "h = HelloApp('71.189.82.196:81')\n",
    "wait = wait1\n",
    "dooff()\n",
    "pid1()\n",
    "agauto(12)\n",
    "setmg(0.5)\n",
    "startbatch(\"dopid test\")\n",
    "doauto(150)\n",
    "setmg(0.2)\n",
    "wait(3600*10)\n",
    "endbatch()\n",
    "startbatch(\"dopid test2\")\n",
    "doauto(100)\n",
    "wait(3600*10)\n",
    "endbatch()\n",
    "startbatch(\"dopid test3\")\n",
    "doauto(50)\n",
    "wait(3600*10)\n",
    "endbatch()\n",
    "dooff()"
   ]
  },
  {
   "cell_type": "code",
   "execution_count": 29,
   "metadata": {
    "collapsed": false
   },
   "outputs": [
    {
     "name": "stdout",
     "output_type": "stream",
     "text": [
      "Calling setdo(2, 0, 0)\n",
      "Calling setconfig('DO', 'O2_P_Gain_(%/DO%)', 1.5)\n",
      "Calling setconfig('DO', 'O2_I_Time_(min)', 120)\n",
      "Calling setconfig('DO', 'O2_D_Time_(min)', 0)\n",
      "Calling setconfig('DO', 'O2_Beta', 0)\n",
      "Calling setconfig('DO', 'N2_P_Gain_(%/DO%)', -5)\n",
      "Calling setconfig('DO', 'N2_I_Time_(min)', 50)\n",
      "Calling setconfig('DO', 'N2_D_Time_(min)', 0)\n",
      "Calling setconfig('DO', 'N2_Beta', 0)\n",
      "Calling setag(0, 12)\n",
      "Calling setmg(1, 0.5)\n",
      "Sleeping 36000 seconds, ending at 05/17/2017 04:10:12 AM\n",
      "Calling batchrunning()\n",
      "Calling startbatch('dopid test4')\n",
      "Calling setdo(0, 150, None)\n",
      "Calling setmg(1, 0.2)\n",
      "Sleeping 36000 seconds, ending at 05/17/2017 02:10:17 PM\n",
      "Calling endbatch()\n"
     ]
    }
   ],
   "source": [
    "h = HelloApp('71.189.82.196:81')\n",
    "wait = wait1\n",
    "dooff()\n",
    "pid1()\n",
    "agauto(12)\n",
    "setmg(0.5)\n",
    "wait(3600*10)\n",
    "startbatch(\"dopid test4\")\n",
    "doauto(150)\n",
    "setmg(0.2)\n",
    "wait(3600*10)\n",
    "endbatch()"
   ]
  },
  {
   "cell_type": "markdown",
   "metadata": {},
   "source": [
    "# 3L Analysis"
   ]
  },
  {
   "cell_type": "code",
   "execution_count": 26,
   "metadata": {
    "collapsed": false
   },
   "outputs": [],
   "source": [
    "h = HelloApp('71.189.82.196:81')\n",
    "p='C:\\\\PBSCloudStation\\\\(2) R&D-Product Engineering\\\\Software Development\\\\3.0 Project\\\\Phase 2 Working Copy\\\\PID Tuning\\\\DO\\\\Raw Data\\\\'\n",
    "\n",
    "def bt():\n",
    "    import datetime; return datetime.datetime.now().strftime(\"%y%m%d\")\n",
    "\n",
    "def dl(bn):\n",
    "    if isinstance(bn, str):\n",
    "        b = call(h.getdatareport_bybatchname, bn)\n",
    "    elif isinstance(bn, tuple):\n",
    "        name, d1, d2 = bn\n",
    "        b = call(h.getreport_bydate, 'process_data', d1, d2)\n",
    "        bn = name\n",
    "    fn = p+bn+\"3L \" + bt() + \".csv\"\n",
    "    with open(fn, 'wb') as f:\n",
    "        f.write(b)\n",
    "    return fn"
   ]
  },
  {
   "cell_type": "code",
   "execution_count": 25,
   "metadata": {
    "collapsed": false
   },
   "outputs": [
    {
     "name": "stdout",
     "output_type": "stream",
     "text": [
      "Calling getdatareport_bybatchname('dopid test (continued01)')\n",
      "Calling getdatareport_bybatchname('dopid test2')\n",
      "Calling getdatareport_bybatchname('dopid test3')\n"
     ]
    }
   ],
   "source": [
    "for s in (\" (continued01)\", 2,3):\n",
    "    dl(\"dopid test%s\"%s)"
   ]
  },
  {
   "cell_type": "code",
   "execution_count": 7,
   "metadata": {
    "collapsed": false
   },
   "outputs": [],
   "source": [
    "from officelib.xllib import *\n",
    "from officelib.const import xlconst as xlc\n",
    "\n",
    "\n",
    "def open_file(file):\n",
    "    global xl, wb, ws, cells, cr\n",
    "    try:\n",
    "        xl\n",
    "    except NameError:\n",
    "        xl = Excel()\n",
    "    wb = xl.Workbooks.Open(file)\n",
    "    ws = wb.Worksheets(1)\n",
    "    cells = ws.Cells\n",
    "    cr = cells.Range\n",
    "\n",
    "def elform(c, ref):\n",
    "    a1 = c.GetAddress(0,0)\n",
    "    a2 = ref.GetAddress(1,1)\n",
    "    a3 = ref.Offset(0,2).GetAddress(1,1)\n",
    "    form = \"=(%s-%s)*%s\"%(a1, a2, a3)\n",
    "    return form\n",
    "    \n",
    "def mk_elapsed(c, ref, ins=True):\n",
    "    \n",
    "    if ins:\n",
    "        c.Offset(1,2).EntireColumn.Insert()\n",
    "    top = c.Offset(1,2)\n",
    "    bot = c.End(xlc.xlDown).Offset(1,2)\n",
    "    top.Value = elform(c, ref)\n",
    "    r = cr(top, bot)\n",
    "    top.AutoFill(r)\n",
    "    r.NumberFormat = \"0.00\"\n",
    "    \n",
    "def chart_rng(c):\n",
    "    x1 = c.Offset(1,2)\n",
    "    x2 = x1.End(xlc.xlDown)\n",
    "    y1 = c.Offset(1,3)\n",
    "    y2 = y1.End(xlc.xlDown)\n",
    "    return cr(x1, x2), cr(y1, y2)\n",
    "\n",
    "def mkch(c,v):\n",
    "    chart = CreateChart(ws, xlc.xlXYScatterLinesNoMarkers)\n",
    "    mkser(chart, c,v)\n",
    "    \n",
    "def mkser(ch, c,v):\n",
    "    x, y = chart_rng(c)\n",
    "    CreateDataSeries(ch, x, y, v)\n",
    "    \n",
    "def fixaxes():\n",
    "    for co in ws.ChartObjects():\n",
    "        ax = co.Chart.Axes(xlCategory, xlPrimary)\n",
    "        ax.MinimumScale = 0\n",
    "    \n",
    "def analyze(fn):\n",
    "    c1 = cells.Find(\"DOPV(%)\")\n",
    "    ref = c1 = c1.Offset(2,1)\n",
    "    mk_elapsed(c1, ref)\n",
    "    ref.Offset(0, 2).Value = \"24\"\n",
    "    mkch(c1,\"DOPV(%)\")\n",
    "    ch2 = CreateChart(ws, xlc.xlXYScatterLinesNoMarkers)\n",
    "    \n",
    "    for v in \"DON2FlowActualRequest(%)\", \"DOO2FlowControllerRequestLimited(%)\":\n",
    "        c = cells.Find(v).Offset(2,1)\n",
    "        mk_elapsed(c, ref)\n",
    "        mkch(c,v)\n",
    "        mkser(ch2, c, v)\n",
    "    fixaxes()\n",
    "    wb.SaveAs(fn.replace('.csv','.xlsx'), FileFormat=xlc.xlOpenXMLWorkbook)\n",
    "        \n",
    "def analf(f):\n",
    "    open_file(f)\n",
    "    analyze(f)"
   ]
  },
  {
   "cell_type": "code",
   "execution_count": 27,
   "metadata": {
    "collapsed": true
   },
   "outputs": [],
   "source": [
    "files = [p+bn+\"3L \" + bt() + \".csv\" for bn in ['dopid test%s'%d for d in (\" (continued01)\", 2,3)]]\n",
    "xl = Excel()\n",
    "for file in files: analf(file)"
   ]
  },
  {
   "cell_type": "code",
   "execution_count": 8,
   "metadata": {
    "collapsed": false
   },
   "outputs": [
    {
     "name": "stdout",
     "output_type": "stream",
     "text": [
      "Calling getdatareport_bybatchname('dopid test4')\n"
     ]
    }
   ],
   "source": [
    "fn = dl('dopid test4')\n",
    "analf(fn)"
   ]
  },
  {
   "cell_type": "code",
   "execution_count": 12,
   "metadata": {
    "collapsed": false
   },
   "outputs": [],
   "source": [
    "for c in ws.ChartObjects():\n",
    "    a=c.Chart.Axes(1,1).MaximumScale = 10"
   ]
  },
  {
   "cell_type": "code",
   "execution_count": 27,
   "metadata": {
    "collapsed": false
   },
   "outputs": [
    {
     "name": "stdout",
     "output_type": "stream",
     "text": [
      "Calling getreport_bydate('process_data', datetime.datetime(2017, 5, 17, 4, 10, 20), datetime.datetime(2017, 5, 17, 20, 10, 27))\n"
     ]
    }
   ],
   "source": [
    "h.login()\n",
    "bl = h.getbatches()\n",
    "b = bl.names_to_batches['dopid test4']\n",
    "d1 = b.start_time\n",
    "d2 = b.stop_time\n",
    "import datetime\n",
    "d2 += datetime.timedelta(hours=6)\n",
    "n = \"dopid test4 extended\"\n",
    "fn = dl((n, d1, d2))\n",
    "analf(fn)"
   ]
  },
  {
   "cell_type": "code",
   "execution_count": null,
   "metadata": {
    "collapsed": true
   },
   "outputs": [],
   "source": []
  }
 ],
 "metadata": {
  "kernelspec": {
   "display_name": "Python 3",
   "language": "python",
   "name": "python3"
  },
  "language_info": {
   "codemirror_mode": {
    "name": "ipython",
    "version": 3
   },
   "file_extension": ".py",
   "mimetype": "text/x-python",
   "name": "python",
   "nbconvert_exporter": "python",
   "pygments_lexer": "ipython3",
   "version": "3.5.2"
  }
 },
 "nbformat": 4,
 "nbformat_minor": 1
}
