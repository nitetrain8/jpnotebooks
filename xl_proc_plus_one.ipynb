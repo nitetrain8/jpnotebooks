{
 "cells": [
  {
   "cell_type": "code",
   "execution_count": 1,
   "metadata": {
    "collapsed": true
   },
   "outputs": [],
   "source": [
    "from officelib.xllib import *\n",
    "from officelib import const as const"
   ]
  },
  {
   "cell_type": "code",
   "execution_count": 2,
   "metadata": {
    "collapsed": true
   },
   "outputs": [],
   "source": [
    "def plus_one(c):\n",
    "    v = c.Value\n",
    "    n, o = v.split(\".\", 1)\n",
    "    n = int(n)\n",
    "    n += 1\n",
    "    v = \"%s.%s\" % (n, o)\n",
    "    c.Value = v\n",
    "    \n",
    "_xl = None\n",
    "def get_xl():\n",
    "    global _xl\n",
    "    if _xl is None:\n",
    "        _xl = Excel()\n",
    "    return _xl\n",
    "    \n",
    "def s():\n",
    "    return get_xl().Selection\n",
    "    \n",
    "def fix_numbers():\n",
    "    c = s()\n",
    "    while c.Value:\n",
    "        plus_one(c)\n",
    "        c = c.Offset(1, 2)"
   ]
  },
  {
   "cell_type": "code",
   "execution_count": null,
   "metadata": {
    "collapsed": true
   },
   "outputs": [],
   "source": [
    "fix_numbers()"
   ]
  }
 ],
 "metadata": {
  "kernelspec": {
   "display_name": "Python 3",
   "language": "python",
   "name": "python3"
  },
  "language_info": {
   "codemirror_mode": {
    "name": "ipython",
    "version": 3
   },
   "file_extension": ".py",
   "mimetype": "text/x-python",
   "name": "python",
   "nbconvert_exporter": "python",
   "pygments_lexer": "ipython3",
   "version": "3.4.1"
  }
 },
 "nbformat": 4,
 "nbformat_minor": 0
}
