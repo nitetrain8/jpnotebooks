{
 "cells": [
  {
   "cell_type": "code",
   "execution_count": 1,
   "metadata": {
    "collapsed": true
   },
   "outputs": [],
   "source": [
    "from hello import hello, hello3\n",
    "from officelib.xllib import *\n",
    "from officelib import const"
   ]
  },
  {
   "cell_type": "code",
   "execution_count": 17,
   "metadata": {
    "collapsed": false
   },
   "outputs": [],
   "source": [
    "HERR = (hello.HelloError, hello3.HelloError)\n",
    "NLI = (hello.HelloError, hello3.NotLoggedInError)\n",
    "\n",
    "from time import sleep\n",
    "def set_mg(sp):\n",
    "    call(app.setmg, 1, sp)        \n",
    "        \n",
    "def call(f, *args):\n",
    "    \n",
    "    while True:\n",
    "        try:\n",
    "            rv = f(*args)\n",
    "        except NLI:\n",
    "            app.login()\n",
    "        except requests.exceptions.ConnectTimeout as e:\n",
    "            print(str(e))\n",
    "            print(\"Make sure you're on the right network!\")\n",
    "        else:\n",
    "            return rv\n",
    "        \n",
    "        \n",
    "def update_ss(cell, val):\n",
    "    cell.Value = val\n",
    "    c = cell.Offset(2, 1)\n",
    "    c.Select()\n",
    "    return c\n",
    "        \n",
    "def frange(start, stop, step):\n",
    "    i = 0\n",
    "    v = start + i * step\n",
    "    while v < stop:\n",
    "        yield v\n",
    "        i += 1\n",
    "        v = start + i * step\n",
    "        \n",
    "\n",
    "def run_test(name, mfc_max, c=None):\n",
    "    tmin = mfc_max / 10\n",
    "    print(\"Testing \", name, \"MFC: %.1f LPM Max\" % mfc_max)\n",
    "    app.login()\n",
    "    for fr in frange(tmin, mfc_max+tmin/2, tmin):\n",
    "        set_mg(fr)\n",
    "        v = input(\"%.2f LPM:\" % fr)\n",
    "        if v.lower() in (\"break\", \"quit\", \"q\", \"stop\"):\n",
    "            break\n",
    "        c = update_ss(c, v)\n",
    "\n",
    "def air_on(v):\n",
    "    app.setph(2,0,0)\n",
    "    app.setdo(2,0,0)\n",
    "    \n",
    "def n2_on(v):\n",
    "    app.setph(2,0,0)\n",
    "    app.setdo(1, 100, 0)\n",
    "    \n",
    "def o2_on(v):\n",
    "    app.setph(2,0,0)\n",
    "    app.setdo(1, 0, 100)\n",
    "    \n",
    "def co2_on(v):\n",
    "    app.setconfig(\"pH\", \"CO2_Manual_Max_(%)\", 100)\n",
    "    app.setph(1, 100, 0)\n",
    "    app.setdo(2, 0, 0)\n",
    "    app.setmg(1, v)\n",
    "    input(\"Purging line of air. Press enter when done.\")\n",
    "    \n",
    "\n",
    "cc = {\n",
    "    \"co2\": 4,\n",
    "    \"air\": 1,\n",
    "    \"n2\": 2,\n",
    "    \"o2\": 3\n",
    "}\n",
    "\n",
    "on_fn = {\n",
    "    \"co2\": co2_on,\n",
    "    \"air\": air_on,\n",
    "    \"n2\": n2_on,\n",
    "    \"o2\": o2_on\n",
    "}\n",
    "\n",
    "    \n",
    "def s():\n",
    "    return xl.Selection\n",
    "\n",
    "def run(name, mfcm):\n",
    "    c = cc[name]\n",
    "    app.login()\n",
    "    if name == \"co2\":\n",
    "        co2m = app.getConfig()['pH']['CO2_Manual_Max_(%)']\n",
    "    on_fn[name](mfcm)\n",
    "    run_test(name, mfcm, cells(2,c))\n",
    "    if name == \"co2\":\n",
    "        app.login()\n",
    "        app.setconfig(\"pH\", \"CO2_Manual_Max_(%)\", co2m)\n",
    "\n",
    "def all_off():\n",
    "    app.login()\n",
    "    app.setag(0, 12)\n",
    "    app.setpumpa(0, 0)\n",
    "    app.setpumpb(0, 0)\n",
    "    app.setpumpc(0, 0)\n",
    "    app.setpumpsample(0, 0)\n",
    "    \n",
    "def connect():\n",
    "    global app\n",
    "    v = input(\"Version: \").lower()\n",
    "    ip = input(\"Enter IP Address: \")\n",
    "    if v == \"3\":\n",
    "        app = hello3.HelloApp(ip)\n",
    "    else:\n",
    "        app = hello.HelloApp(ip)\n",
    "    app.getConfig = types.MethodType(getConfig, app)\n",
    "    \n",
    "def init():\n",
    "    global xl, wb, ws, cells, cell_range\n",
    "    xl, wb, ws, cells = xlObjs()\n",
    "    cell_range = cells.Range\n",
    "    cell_range(\"A1:D1\").Value = [(\"Air\", \"N2\", \"O2\", \"CO2\")]\n",
    "    "
   ]
  },
  {
   "cell_type": "code",
   "execution_count": 7,
   "metadata": {
    "collapsed": true
   },
   "outputs": [],
   "source": [
    "from hello.hello3 import HelloXML\n",
    "def getConfig(self):\n",
    "    query = \"?&call=getConfig\"\n",
    "    rsp = self.send_request(query)\n",
    "    xml = HelloXML(rsp)\n",
    "    self._verify_xml(xml)\n",
    "    # James renamed the clusters to SV_Air\n",
    "    # and SV_Mag to make it easier for him\n",
    "    # to keep track of. The \"proper\" solution\n",
    "    # would be to just return the proper XML \n",
    "    # element when parsing. The easiest solution\n",
    "    # is to just check for the key, since conversion\n",
    "    # from XML to dict occurs upstream. \n",
    "    try:\n",
    "        return xml.data['System_Variables_Mag']\n",
    "    except KeyError:\n",
    "        return xml.data['System_Variables']\n",
    "import types"
   ]
  },
  {
   "cell_type": "code",
   "execution_count": 13,
   "metadata": {
    "collapsed": false
   },
   "outputs": [
    {
     "name": "stdout",
     "output_type": "stream",
     "text": [
      "Version: 3\n",
      "Enter IP Address: 192.168.1.13\n"
     ]
    },
    {
     "name": "stderr",
     "output_type": "stream",
     "text": [
      "Error processing request: HTTPSConnectionPool(host='192.168.1.13', port=443): Max retries exceeded with url: /webservice/interface/?&call=login&val1=user1&val2=12345&json=1 (Caused by NewConnectionError('<requests.packages.urllib3.connection.VerifiedHTTPSConnection object at 0x000002DC11EAEB00>: Failed to establish a new connection: [WinError 10060] A connection attempt failed because the connected party did not properly respond after a period of time, or established connection failed because connected host has failed to respond',))\n",
      "Error processing request: HTTPSConnectionPool(host='192.168.1.13', port=443): Max retries exceeded with url: /webservice/interface/?&call=login&val1=user1&val2=12345&json=1 (Caused by NewConnectionError('<requests.packages.urllib3.connection.VerifiedHTTPSConnection object at 0x000002DC10C04198>: Failed to establish a new connection: [WinError 10053] An established connection was aborted by the software in your host machine',))\n"
     ]
    }
   ],
   "source": [
    "init()\n",
    "connect()\n",
    "all_off()"
   ]
  },
  {
   "cell_type": "code",
   "execution_count": 19,
   "metadata": {
    "collapsed": false
   },
   "outputs": [
    {
     "name": "stdout",
     "output_type": "stream",
     "text": [
      "Testing  air MFC: 2.0 LPM Max\n",
      "0.20 LPM:.233\n",
      "0.40 LPM:.438\n",
      "0.60 LPM:.643\n",
      "0.80 LPM:.846\n",
      "1.00 LPM:1.045\n",
      "1.20 LPM:1.246\n",
      "1.40 LPM:1.442\n",
      "1.60 LPM:1.646\n",
      "1.80 LPM:1.845\n",
      "2.00 LPM:2.022\n"
     ]
    }
   ],
   "source": [
    "run(\"air\", 2)"
   ]
  },
  {
   "cell_type": "code",
   "execution_count": 20,
   "metadata": {
    "collapsed": false
   },
   "outputs": [
    {
     "name": "stdout",
     "output_type": "stream",
     "text": [
      "Testing  n2 MFC: 2.0 LPM Max\n",
      "0.20 LPM:0.234\n",
      "0.40 LPM:.438\n",
      "0.60 LPM:0.642\n",
      "0.80 LPM:0.848\n",
      "1.00 LPM:1.050\n",
      "1.20 LPM:1.248\n",
      "1.40 LPM:1.452\n",
      "1.60 LPM:1.654\n",
      "1.80 LPM:1.857\n",
      "2.00 LPM:2.033\n"
     ]
    }
   ],
   "source": [
    "run(\"n2\", 2)"
   ]
  },
  {
   "cell_type": "code",
   "execution_count": 18,
   "metadata": {
    "collapsed": false
   },
   "outputs": [
    {
     "name": "stdout",
     "output_type": "stream",
     "text": [
      "Testing  o2 MFC: 0.5 LPM Max\n",
      "0.05 LPM:59.1\n",
      "0.10 LPM:110.0\n",
      "0.15 LPM:161.0\n",
      "0.20 LPM:212.2\n",
      "0.25 LPM:263.8\n",
      "0.30 LPM:316.4\n",
      "0.35 LPM:367.0\n",
      "0.40 LPM:417.0\n",
      "0.45 LPM:466.6\n",
      "0.50 LPM:509.6\n"
     ]
    }
   ],
   "source": [
    "run(\"o2\", .5)"
   ]
  },
  {
   "cell_type": "code",
   "execution_count": 21,
   "metadata": {
    "collapsed": false
   },
   "outputs": [
    {
     "name": "stdout",
     "output_type": "stream",
     "text": [
      "Purging line of air. Press enter when done.\n",
      "Testing  co2 MFC: 0.3 LPM Max\n",
      "0.03 LPM:34.6\n",
      "0.06 LPM:65.8\n",
      "0.09 LPM:96.9\n",
      "0.12 LPM:127.6\n",
      "0.15 LPM:159.3\n",
      "0.18 LPM:190.8\n",
      "0.21 LPM:222.0\n",
      "0.24 LPM:253.8\n",
      "0.27 LPM:285.2\n",
      "0.30 LPM:313.2\n"
     ]
    }
   ],
   "source": [
    "run(\"co2\", .3)"
   ]
  },
  {
   "cell_type": "code",
   "execution_count": null,
   "metadata": {
    "collapsed": true
   },
   "outputs": [],
   "source": []
  }
 ],
 "metadata": {
  "kernelspec": {
   "display_name": "Python 3",
   "language": "python",
   "name": "python3"
  },
  "language_info": {
   "codemirror_mode": {
    "name": "ipython",
    "version": 3
   },
   "file_extension": ".py",
   "mimetype": "text/x-python",
   "name": "python",
   "nbconvert_exporter": "python",
   "pygments_lexer": "ipython3",
   "version": "3.5.2"
  }
 },
 "nbformat": 4,
 "nbformat_minor": 0
}
