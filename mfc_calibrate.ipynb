{
 "cells": [
  {
   "cell_type": "code",
   "execution_count": 1,
   "metadata": {
    "collapsed": true
   },
   "outputs": [],
   "source": [
    "from hello import hello, hello3\n",
    "from officelib.xllib import *\n",
    "from officelib import const"
   ]
  },
  {
   "cell_type": "code",
   "execution_count": 2,
   "metadata": {
    "collapsed": false
   },
   "outputs": [],
   "source": [
    "HERR = (hello.HelloError, hello3.HelloError)\n",
    "\n",
    "from time import sleep\n",
    "def set_mg(sp):\n",
    "    try:\n",
    "        app.setmg(1, sp)\n",
    "    except HERR:\n",
    "        app.login()\n",
    "        app.setmg(1, sp)\n",
    "        \n",
    "def update_ss(cell, val):\n",
    "    cell.Value = val\n",
    "    c = cell.Offset(2, 1)\n",
    "    c.Select()\n",
    "    return c\n",
    "        \n",
    "def frange(start, stop, step):\n",
    "    i = 0\n",
    "    v = start + i * step\n",
    "    while v < stop:\n",
    "        yield v\n",
    "        i += 1\n",
    "        v = start + i * step\n",
    "        \n",
    "\n",
    "def run_test(name, mfc_max, c=None):\n",
    "    tmin = mfc_max / 10\n",
    "    print(\"Testing \", name, \"MFC: %.1f LPM Max\" % mfc_max)\n",
    "    app.login()\n",
    "    for fr in frange(tmin, mfc_max+tmin/2, tmin):\n",
    "        set_mg(fr)\n",
    "        v = input(\"%.2f LPM:\" % fr)\n",
    "        if v.lower() in (\"break\", \"quit\", \"q\", \"stop\"):\n",
    "            break\n",
    "        c = update_ss(c, v)\n",
    "\n",
    "def air_on():\n",
    "    app.setph(2,0,0)\n",
    "    app.setdo(2,0,0)\n",
    "    \n",
    "def n2_on():\n",
    "    app.setph(2,0,0)\n",
    "    app.setdo(1, 100, 0)\n",
    "    \n",
    "def o2_on():\n",
    "    app.setph(2,0,0)\n",
    "    app.setdo(1, 0, 100)\n",
    "    \n",
    "def co2_on():\n",
    "    app.setconfig(\"pH\", \"CO2_Manual_Max_(%)\", 100)\n",
    "    app.setph(1, 100, 0)\n",
    "    app.setdo(2, 0, 0)\n",
    "    \n",
    "\n",
    "cc = {\n",
    "    \"co2\": 4,\n",
    "    \"air\": 1,\n",
    "    \"n2\": 2,\n",
    "    \"o2\": 3\n",
    "}\n",
    "\n",
    "on_fn = {\n",
    "    \"co2\": co2_on,\n",
    "    \"air\": air_on,\n",
    "    \"n2\": n2_on,\n",
    "    \"o2\": o2_on\n",
    "}\n",
    "\n",
    "    \n",
    "def s():\n",
    "    return xl.Selection\n",
    "\n",
    "def run(name, mfcm):\n",
    "    c = cc[name]\n",
    "    app.login()\n",
    "    if name == \"co2\":\n",
    "        co2m = app.getConfig()['pH']['CO2_Manual_Max_(%)']\n",
    "    on_fn[name]()\n",
    "    run_test(name, mfcm, cells(2,c))\n",
    "    if name == \"co2\":\n",
    "        app.login()\n",
    "        app.setconfig(\"pH\", \"CO2_Manual_Max_(%)\", co2m)\n",
    "\n",
    "def all_off():\n",
    "    app.login()\n",
    "    app.setag(0, 12)\n",
    "    app.setpumpa(0, 0)\n",
    "    app.setpumpb(0, 0)\n",
    "    app.setpumpc(0, 0)\n",
    "    app.setpumpsample(0, 0)\n",
    "    \n",
    "def connect():\n",
    "    global app\n",
    "    v = input(\"Version: \").lower()\n",
    "    ip = input(\"Enter IP Address: \")\n",
    "    if v == \"3\":\n",
    "        app = hello3.HelloApp(ip)\n",
    "    else:\n",
    "        app = hello.HelloApp(ip)\n",
    "    \n",
    "def init():\n",
    "    global xl, wb, ws, cells, cell_range\n",
    "    xl, wb, ws, cells = xlObjs()\n",
    "    cell_range = cells.Range\n",
    "    cell_range(\"A1:D1\").Value = [(\"Air\", \"N2\", \"O2\", \"CO2\")]\n",
    "    "
   ]
  },
  {
   "cell_type": "code",
   "execution_count": 4,
   "metadata": {
    "collapsed": false
   },
   "outputs": [
    {
     "name": "stdout",
     "output_type": "stream",
     "text": [
      "Version: 2\n",
      "Enter IP Address: 192.168.1.9\n"
     ]
    }
   ],
   "source": [
    "init()\n",
    "connect()\n",
    "all_off()"
   ]
  },
  {
   "cell_type": "code",
   "execution_count": 5,
   "metadata": {
    "collapsed": false
   },
   "outputs": [
    {
     "name": "stdout",
     "output_type": "stream",
     "text": [
      "Testing  air MFC: 10.0 LPM Max\n",
      "1.00 LPM:1.05\n",
      "2.00 LPM:2.10\n",
      "3.00 LPM:3.13\n",
      "4.00 LPM:4.16\n",
      "5.00 LPM:5.19\n",
      "6.00 LPM:6.23\n",
      "7.00 LPM:7.25\n",
      "8.00 LPM:8.28\n",
      "9.00 LPM:9.32\n",
      "10.00 LPM:10.29\n"
     ]
    }
   ],
   "source": [
    "run(\"air\", 10)"
   ]
  },
  {
   "cell_type": "code",
   "execution_count": 6,
   "metadata": {
    "collapsed": false
   },
   "outputs": [
    {
     "name": "stdout",
     "output_type": "stream",
     "text": [
      "Testing  n2 MFC: 10.0 LPM Max\n",
      "1.00 LPM:1.02\n",
      "2.00 LPM:2.06\n",
      "3.00 LPM:3.09\n",
      "4.00 LPM:4.11\n",
      "5.00 LPM:5.14\n",
      "6.00 LPM:6.16\n",
      "7.00 LPM:7.18\n",
      "8.00 LPM:8.20\n",
      "9.00 LPM:9.23\n",
      "10.00 LPM:10.26\n"
     ]
    }
   ],
   "source": [
    "run(\"n2\", 10)"
   ]
  },
  {
   "cell_type": "code",
   "execution_count": 5,
   "metadata": {
    "collapsed": false
   },
   "outputs": [
    {
     "name": "stdout",
     "output_type": "stream",
     "text": [
      "Testing  o2 MFC: 1.0 LPM Max\n",
      "0.10 LPM:.107\n",
      "0.20 LPM:.210\n",
      "0.30 LPM:.313\n",
      "0.40 LPM:.416\n",
      "0.50 LPM:.519\n",
      "0.60 LPM:.622\n",
      "0.70 LPM:.725\n",
      "0.80 LPM:.828\n",
      "0.90 LPM:.930\n",
      "1.00 LPM:1.030\n"
     ]
    }
   ],
   "source": [
    "run(\"o2\", 1)"
   ]
  },
  {
   "cell_type": "code",
   "execution_count": 6,
   "metadata": {
    "collapsed": false
   },
   "outputs": [
    {
     "name": "stdout",
     "output_type": "stream",
     "text": [
      "Testing  co2 MFC: 2.0 LPM Max\n",
      "0.20 LPM:0.213\n",
      "0.40 LPM:0.417\n",
      "0.60 LPM:0.623\n",
      "0.80 LPM:0.826\n",
      "1.00 LPM:1.030\n",
      "1.20 LPM:1.233\n",
      "1.40 LPM:1.435\n",
      "1.60 LPM:1.638\n",
      "1.80 LPM:1.842\n",
      "2.00 LPM:2.042\n"
     ]
    }
   ],
   "source": [
    "run(\"co2\", 2)"
   ]
  },
  {
   "cell_type": "code",
   "execution_count": null,
   "metadata": {
    "collapsed": true
   },
   "outputs": [],
   "source": []
  }
 ],
 "metadata": {
  "kernelspec": {
   "display_name": "Python 3",
   "language": "python",
   "name": "python3"
  },
  "language_info": {
   "codemirror_mode": {
    "name": "ipython",
    "version": 3
   },
   "file_extension": ".py",
   "mimetype": "text/x-python",
   "name": "python",
   "nbconvert_exporter": "python",
   "pygments_lexer": "ipython3",
   "version": "3.5.2"
  }
 },
 "nbformat": 4,
 "nbformat_minor": 0
}
