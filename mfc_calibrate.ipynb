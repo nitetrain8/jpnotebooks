{
 "cells": [
  {
   "cell_type": "code",
   "execution_count": 1,
   "metadata": {
    "collapsed": true
   },
   "outputs": [],
   "source": [
    "from hello import hello, hello3\n",
    "from officelib.xllib import *\n",
    "from officelib import const\n",
    "import requests\n",
    "\n",
    "HERR = (hello.HelloError, hello3.HelloError)\n",
    "NLI = (hello.HelloError, hello3.NotLoggedInError)\n",
    "\n",
    "from time import sleep\n",
    "def set_mg(sp):\n",
    "    call(app.setmg, 1, sp)        \n",
    "        \n",
    "def call(f, *args):\n",
    "    \n",
    "    while True:\n",
    "        try:\n",
    "            rv = f(*args)\n",
    "        except NLI:\n",
    "            app.login()\n",
    "        except requests.exceptions.ConnectTimeout as e:\n",
    "            print(str(e))\n",
    "            print(\"Make sure you're on the right network!\")\n",
    "        else:\n",
    "            return rv\n",
    "        \n",
    "        \n",
    "def update_ss(cell, val):\n",
    "    cell.Value = val\n",
    "    c = cell.Offset(2, 1)\n",
    "    c.Select()\n",
    "    return c\n",
    "        \n",
    "def frange(start, stop, step):\n",
    "    i = 0\n",
    "    v = start + i * step\n",
    "    while v < stop:\n",
    "        yield v\n",
    "        i += 1\n",
    "        v = start + i * step\n",
    "        \n",
    "\n",
    "def run_test(name, mfc_max, c=None):\n",
    "    tmin = mfc_max / 10\n",
    "    print(\"Testing \", name, \"MFC: %.1f LPM Max\" % mfc_max)\n",
    "    app.login()\n",
    "    for fr in frange(tmin, mfc_max+tmin/2, tmin):\n",
    "        set_mg(fr)\n",
    "        v = input(\"%.2f LPM:\" % fr)\n",
    "        if v.lower() in (\"break\", \"quit\", \"q\", \"stop\"):\n",
    "            break\n",
    "        c = update_ss(c, v)\n",
    "\n",
    "def air_on(v):\n",
    "    app.setph(2,0,0)\n",
    "    app.setdo(2,0,0)\n",
    "    \n",
    "def n2_on(v):\n",
    "    app.setph(2,0,0)\n",
    "    app.setdo(1, 100, 0)\n",
    "    \n",
    "def o2_on(v):\n",
    "    app.setph(2,0,0)\n",
    "    app.setdo(1, 0, 100)\n",
    "    \n",
    "def co2_on(v):\n",
    "    app.setconfig(\"pH\", \"CO2_Manual_Max_(%)\", 100)\n",
    "    app.setph(1, 100, 0)\n",
    "    app.setdo(2, 0, 0)\n",
    "    app.setmg(1, v)\n",
    "    input(\"Purging line of air. Press enter when done.\")\n",
    "    \n",
    "\n",
    "cc = {\n",
    "    \"co2\": 4,\n",
    "    \"air\": 1,\n",
    "    \"n2\": 2,\n",
    "    \"o2\": 3\n",
    "}\n",
    "\n",
    "on_fn = {\n",
    "    \"co2\": co2_on,\n",
    "    \"air\": air_on,\n",
    "    \"n2\": n2_on,\n",
    "    \"o2\": o2_on\n",
    "}\n",
    "\n",
    "    \n",
    "def s():\n",
    "    return xl.Selection\n",
    "\n",
    "def run(name, mfcm):\n",
    "    c = cc[name]\n",
    "    app.login()\n",
    "    if name == \"co2\":\n",
    "        co2m = app.getConfig()['pH']['CO2_Manual_Max_(%)']\n",
    "    on_fn[name](mfcm)\n",
    "    run_test(name, mfcm, cells(2,c))\n",
    "    if name == \"co2\":\n",
    "        app.login()\n",
    "        app.setconfig(\"pH\", \"CO2_Manual_Max_(%)\", co2m)\n",
    "\n",
    "def all_off():\n",
    "    app.login()\n",
    "    app.setag(2, 12)\n",
    "    app.setpumpa(0, 0)\n",
    "    app.setpumpb(0, 0)\n",
    "    app.setpumpc(0, 0)\n",
    "    app.setpumpsample(0, 0)\n",
    "    \n",
    "def connect(ip=None, v=None):\n",
    "    global app\n",
    "    v = v or input(\"Version: \").lower()\n",
    "    ip = ip or input(\"Enter IP Address: \")\n",
    "    if str(v)[0] == \"3\":\n",
    "        app = hello3.HelloApp(ip)\n",
    "    else:\n",
    "        app = hello.HelloApp(ip)\n",
    "    \n",
    "def init():\n",
    "    global xl, wb, ws, cells, cell_range\n",
    "    xl, wb, ws, cells = xlObjs()\n",
    "    cell_range = cells.Range\n",
    "    cell_range(\"A1:D1\").Value = [(\"Air\", \"N2\", \"O2\", \"CO2\")]\n",
    "    "
   ]
  },
  {
   "cell_type": "code",
   "execution_count": 2,
   "metadata": {},
   "outputs": [
    {
     "name": "stdout",
     "output_type": "stream",
     "text": [
      "Already on pbstech\n"
     ]
    }
   ],
   "source": [
    "from scripts import wlan\n",
    "wlan.ensure_wifi('pbstech')"
   ]
  },
  {
   "cell_type": "code",
   "execution_count": 17,
   "metadata": {
    "collapsed": true
   },
   "outputs": [],
   "source": [
    "init()\n",
    "connect('169.254.110.21', 3)\n",
    "all_off()"
   ]
  },
  {
   "cell_type": "code",
   "execution_count": 19,
   "metadata": {},
   "outputs": [
    {
     "name": "stdout",
     "output_type": "stream",
     "text": [
      "Testing  air MFC: 0.5 LPM Max\n",
      "0.05 LPM:\n",
      "0.10 LPM:\n",
      "0.15 LPM:\n",
      "0.20 LPM:\n",
      "0.25 LPM:\n",
      "0.30 LPM:\n",
      "0.35 LPM:\n",
      "0.40 LPM:418.7\n",
      "0.45 LPM:470.5\n",
      "0.50 LPM:516.9\n"
     ]
    }
   ],
   "source": [
    "run(\"air\", 0.5)"
   ]
  },
  {
   "cell_type": "code",
   "execution_count": 20,
   "metadata": {},
   "outputs": [
    {
     "name": "stdout",
     "output_type": "stream",
     "text": [
      "Testing  n2 MFC: 0.5 LPM Max\n",
      "0.05 LPM:56.5\n",
      "0.10 LPM:106.5\n",
      "0.15 LPM:158.7\n",
      "0.20 LPM:210.1\n",
      "0.25 LPM:262.5\n",
      "0.30 LPM:315.2\n",
      "0.35 LPM:366.8\n",
      "0.40 LPM:418.3\n",
      "0.45 LPM:470.2\n",
      "0.50 LPM:517.2\n"
     ]
    }
   ],
   "source": [
    "run(\"n2\", 0.5)"
   ]
  },
  {
   "cell_type": "code",
   "execution_count": 22,
   "metadata": {},
   "outputs": [
    {
     "name": "stdout",
     "output_type": "stream",
     "text": [
      "Testing  o2 MFC: 0.5 LPM Max\n",
      "0.05 LPM:56.8\n",
      "0.10 LPM:107.1\n",
      "0.15 LPM:158.5\n",
      "0.20 LPM:210\n",
      "0.25 LPM:261.5\n",
      "0.30 LPM:313.7\n",
      "0.35 LPM:365.4\n",
      "0.40 LPM:416.2\n",
      "0.45 LPM:467.2\n",
      "0.50 LPM:516.8\n"
     ]
    }
   ],
   "source": [
    "run(\"o2\", .5)"
   ]
  },
  {
   "cell_type": "code",
   "execution_count": 21,
   "metadata": {},
   "outputs": [
    {
     "name": "stdout",
     "output_type": "stream",
     "text": [
      "Purging line of air. Press enter when done.\n",
      "Testing  co2 MFC: 0.1 LPM Max\n",
      "0.01 LPM:30.1\n",
      "0.02 LPM:\n",
      "0.03 LPM:30.1\n",
      "0.04 LPM:40.6\n",
      "0.05 LPM:51.1\n",
      "0.06 LPM:61.9\n",
      "0.07 LPM:72.2\n",
      "0.08 LPM:82.4\n",
      "0.09 LPM:92.8\n",
      "0.10 LPM:102.8\n"
     ]
    }
   ],
   "source": [
    "run(\"co2\", .1)"
   ]
  },
  {
   "cell_type": "code",
   "execution_count": null,
   "metadata": {
    "collapsed": true
   },
   "outputs": [],
   "source": []
  }
 ],
 "metadata": {
  "kernelspec": {
   "display_name": "Python 3",
   "language": "python",
   "name": "python3"
  },
  "language_info": {
   "codemirror_mode": {
    "name": "ipython",
    "version": 3
   },
   "file_extension": ".py",
   "mimetype": "text/x-python",
   "name": "python",
   "nbconvert_exporter": "python",
   "pygments_lexer": "ipython3",
   "version": "3.5.0"
  }
 },
 "nbformat": 4,
 "nbformat_minor": 1
}
