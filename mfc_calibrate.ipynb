{
 "cells": [
  {
   "cell_type": "code",
   "execution_count": 1,
   "metadata": {
    "collapsed": true
   },
   "outputs": [],
   "source": [
    "from hello import hello, hello3\n",
    "from officelib.xllib import *\n",
    "from officelib import const"
   ]
  },
  {
   "cell_type": "code",
   "execution_count": 20,
   "metadata": {
    "collapsed": false
   },
   "outputs": [],
   "source": [
    "HERR = (hello.HelloError, hello3.HelloError)\n",
    "\n",
    "from time import sleep\n",
    "def set_mg(sp):\n",
    "    try:\n",
    "        app.setmg(1, sp)\n",
    "    except HERR:\n",
    "        app.login()\n",
    "        app.setmg(1, sp)\n",
    "        \n",
    "def update_ss(cell, val):\n",
    "    cell.Value = val\n",
    "    c = cell.Offset(2, 1)\n",
    "    c.Select()\n",
    "    return c\n",
    "        \n",
    "def frange(start, stop, step):\n",
    "    i = 0\n",
    "    v = start + i * step\n",
    "    while v < stop:\n",
    "        yield v\n",
    "        i += 1\n",
    "        v = start + i * step\n",
    "        \n",
    "\n",
    "def run_test(name, mfc_max, c=None):\n",
    "    tmin = mfc_max / 10\n",
    "    print(\"Testing \", name, \"MFC: %.1f LPM Max\" % mfc_max)\n",
    "    app.login()\n",
    "    for fr in frange(tmin, mfc_max+tmin/2, tmin):\n",
    "        set_mg(fr)\n",
    "        v = input(\"%.2f LPM:\" % fr)\n",
    "        if v.lower() in (\"break\", \"quit\", \"q\", \"stop\"):\n",
    "            break\n",
    "        c = update_ss(c, v)\n",
    "\n",
    "def air_on():\n",
    "    app.setph(2,0,0)\n",
    "    app.setdo(2,0,0)\n",
    "    \n",
    "def n2_on():\n",
    "    app.setph(2,0,0)\n",
    "    app.setdo(1, 100, 0)\n",
    "    \n",
    "def o2_on():\n",
    "    app.setph(2,0,0)\n",
    "    app.setdo(1, 0, 100)\n",
    "    \n",
    "def co2_on():\n",
    "    app.setconfig(\"pH\", \"CO2_Manual_Max_(%)\", 100)\n",
    "    app.setph(1, 100, 0)\n",
    "    app.setdo(2, 0, 0)\n",
    "    app.setmg(1, 0.1)\n",
    "    input(\"Purging line of air. Press enter when done.\")\n",
    "    \n",
    "\n",
    "cc = {\n",
    "    \"co2\": 4,\n",
    "    \"air\": 1,\n",
    "    \"n2\": 2,\n",
    "    \"o2\": 3\n",
    "}\n",
    "\n",
    "on_fn = {\n",
    "    \"co2\": co2_on,\n",
    "    \"air\": air_on,\n",
    "    \"n2\": n2_on,\n",
    "    \"o2\": o2_on\n",
    "}\n",
    "\n",
    "    \n",
    "def s():\n",
    "    return xl.Selection\n",
    "\n",
    "def run(name, mfcm):\n",
    "    c = cc[name]\n",
    "    app.login()\n",
    "    if name == \"co2\":\n",
    "        co2m = app.getConfig()['pH']['CO2_Manual_Max_(%)']\n",
    "    on_fn[name]()\n",
    "    run_test(name, mfcm, cells(2,c))\n",
    "    if name == \"co2\":\n",
    "        app.login()\n",
    "        app.setconfig(\"pH\", \"CO2_Manual_Max_(%)\", co2m)\n",
    "\n",
    "def all_off():\n",
    "    app.login()\n",
    "    app.setag(0, 12)\n",
    "    app.setpumpa(0, 0)\n",
    "    app.setpumpb(0, 0)\n",
    "    app.setpumpc(0, 0)\n",
    "    app.setpumpsample(0, 0)\n",
    "    \n",
    "def connect():\n",
    "    global app\n",
    "    v = input(\"Version: \").lower()\n",
    "    ip = input(\"Enter IP Address: \")\n",
    "    if v == \"3\":\n",
    "        app = hello3.HelloApp(ip)\n",
    "    else:\n",
    "        app = hello.HelloApp(ip)\n",
    "    \n",
    "def init():\n",
    "    global xl, wb, ws, cells, cell_range\n",
    "    xl, wb, ws, cells = xlObjs()\n",
    "    cell_range = cells.Range\n",
    "    cell_range(\"A1:D1\").Value = [(\"Air\", \"N2\", \"O2\", \"CO2\")]\n",
    "    "
   ]
  },
  {
   "cell_type": "code",
   "execution_count": 3,
   "metadata": {
    "collapsed": false
   },
   "outputs": [
    {
     "name": "stdout",
     "output_type": "stream",
     "text": [
      "Version: 3\n",
      "Enter IP Address: 192.168.1.4\n"
     ]
    }
   ],
   "source": [
    "init()\n",
    "connect()\n",
    "all_off()"
   ]
  },
  {
   "cell_type": "code",
   "execution_count": 6,
   "metadata": {
    "collapsed": false
   },
   "outputs": [
    {
     "name": "stdout",
     "output_type": "stream",
     "text": [
      "Testing  air MFC: 0.5 LPM Max\n",
      "0.05 LPM:.0561\n",
      "0.10 LPM:.1072\n",
      "0.15 LPM:.1584\n",
      "0.20 LPM:.2098\n",
      "0.25 LPM:.2616\n",
      "0.30 LPM:.3145\n",
      "0.35 LPM:.3658\n",
      "0.40 LPM:.4163\n",
      "0.45 LPM:.4664\n",
      "0.50 LPM:.5143\n"
     ]
    }
   ],
   "source": [
    "run(\"air\", .5)"
   ]
  },
  {
   "cell_type": "code",
   "execution_count": 7,
   "metadata": {
    "collapsed": false
   },
   "outputs": [
    {
     "name": "stdout",
     "output_type": "stream",
     "text": [
      "Testing  n2 MFC: 0.5 LPM Max\n",
      "0.05 LPM:.0564\n",
      "0.10 LPM:.1078\n",
      "0.15 LPM:.159\n",
      "0.20 LPM:.2108\n",
      "0.25 LPM:.2628\n",
      "0.30 LPM:.3158\n",
      "0.35 LPM:.3678\n",
      "0.40 LPM:.4192\n",
      "0.45 LPM:.4693\n",
      "0.50 LPM:.5175\n"
     ]
    }
   ],
   "source": [
    "run(\"n2\", 0.5)"
   ]
  },
  {
   "cell_type": "code",
   "execution_count": 5,
   "metadata": {
    "collapsed": false
   },
   "outputs": [
    {
     "name": "stdout",
     "output_type": "stream",
     "text": [
      "Testing  o2 MFC: 0.5 LPM Max\n",
      "0.05 LPM:.0573\n",
      "0.10 LPM:.1079\n",
      "0.15 LPM:.1596\n",
      "0.20 LPM:.2102\n",
      "0.25 LPM:.2628\n",
      "0.30 LPM:.3163\n",
      "0.35 LPM:.3668\n",
      "0.40 LPM:.418\n",
      "0.45 LPM:.469\n",
      "0.50 LPM:.5172\n"
     ]
    }
   ],
   "source": [
    "run(\"o2\", .5)"
   ]
  },
  {
   "cell_type": "code",
   "execution_count": 21,
   "metadata": {
    "collapsed": false
   },
   "outputs": [
    {
     "name": "stdout",
     "output_type": "stream",
     "text": [
      "Purging line of air. Press enter when done.\n",
      "Testing  co2 MFC: 0.1 LPM Max\n",
      "0.01 LPM:0\n",
      "0.02 LPM:0\n",
      "0.03 LPM:0.0305\n",
      "0.04 LPM:0.041.2\n",
      "0.05 LPM:0.0521\n",
      "0.06 LPM:0.0625\n",
      "0.07 LPM:0.0731\n",
      "0.08 LPM:0.0836\n",
      "0.09 LPM:0.0943\n",
      "0.10 LPM:0.103\n"
     ]
    }
   ],
   "source": [
    "run(\"co2\", .1)"
   ]
  },
  {
   "cell_type": "code",
   "execution_count": null,
   "metadata": {
    "collapsed": true
   },
   "outputs": [],
   "source": []
  }
 ],
 "metadata": {
  "kernelspec": {
   "display_name": "Python 3",
   "language": "python",
   "name": "python3"
  },
  "language_info": {
   "codemirror_mode": {
    "name": "ipython",
    "version": 3
   },
   "file_extension": ".py",
   "mimetype": "text/x-python",
   "name": "python",
   "nbconvert_exporter": "python",
   "pygments_lexer": "ipython3",
   "version": "3.5.2"
  }
 },
 "nbformat": 4,
 "nbformat_minor": 0
}
