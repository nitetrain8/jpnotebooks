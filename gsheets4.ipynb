{
 "cells": [
  {
   "cell_type": "code",
   "execution_count": 1,
   "metadata": {
    "collapsed": true
   },
   "outputs": [],
   "source": [
    "from urllib.request import urlopen\n",
    "from collections import OrderedDict\n",
    "url = \"https://sheets.googleapis.com/$discovery/rest?version=v4\"\n",
    "\n",
    "r = urlopen(url).read()\n",
    "import json\n",
    "j=json.loads(r.decode(), object_hook=OrderedDict)\n",
    "\n",
    "def dump_l(l, indent=0):\n",
    "    for item in l:\n",
    "        if isinstance(item, list):\n",
    "            dump_l(item, indent+1)\n",
    "        elif isinstance(item, dict):\n",
    "            dump_d(item, indent+1)\n",
    "        else:\n",
    "            print(indent*\" \", item, sep=\"\")\n",
    "        \n",
    "def dump_d(d, indent=0):\n",
    "    for k, v in d.items():\n",
    "        if isinstance(v, dict):\n",
    "            print(indent*\" \", k, \":\", sep=\"\")\n",
    "            dump_d(v, indent+1)\n",
    "        elif isinstance(v, list):\n",
    "            dump_l(v, indent+1)\n",
    "        else:\n",
    "            assert isinstance(v, (int, str)), type(v)\n",
    "            print(indent*\" \", k, ': ', v, sep=\"\")\n",
    "            \n",
    "def dump_resources(d, indent=0):\n",
    "    for k, v in d.items():\n",
    "        if k == 'resources':\n",
    "            for k2, v2 in v.items():\n",
    "                print(indent*\" \", k2, \":\", sep=\"\")\n",
    "                dump_resources(v2, indent+1)"
   ]
  },
  {
   "cell_type": "code",
   "execution_count": 2,
   "metadata": {
    "collapsed": false
   },
   "outputs": [
    {
     "name": "stdout",
     "output_type": "stream",
     "text": [
      "spreadsheets:\n",
      " values:\n",
      " sheets:\n"
     ]
    }
   ],
   "source": [
    "dump_resources(j)"
   ]
  },
  {
   "cell_type": "code",
   "execution_count": 3,
   "metadata": {
    "collapsed": true
   },
   "outputs": [],
   "source": [
    "from goffice3.sheets import load_creds\n",
    "from goffice3.sheets import GSession"
   ]
  },
  {
   "cell_type": "code",
   "execution_count": 4,
   "metadata": {
    "collapsed": true
   },
   "outputs": [],
   "source": [
    "SPREADSHEETS_URL_BASE = \"https://sheets.googleapis.com/v4/spreadsheets/\"\n",
    "\n",
    "ujoin = \"/\".join\n",
    "qjoin = \"&\".join"
   ]
  },
  {
   "cell_type": "code",
   "execution_count": 5,
   "metadata": {
    "collapsed": false
   },
   "outputs": [],
   "source": [
    "class Dimension():\n",
    "    \"\"\" Dimension enum \"\"\"\n",
    "    DIMENSION_UNSPECIFIED = \"DIMENSION_UNSPECIFIED\"\n",
    "    ROWS = \"ROWS\"\n",
    "    COLUMNS = \"COLUMNS\"\n",
    "\n",
    "class ValueRenderOption():\n",
    "    \"\"\" ValueRenderOption enum \"\"\"\n",
    "    FORMATTED_VALUE = \"FORMATTED_VALUE\"\n",
    "    UNFORMATTED_VALUE = \"UNFORMATTED_VALUE\"\n",
    "    FORMULA = \"FORMULA\"\n",
    "    \n",
    "class DateTimeRenderOption():\n",
    "    SERIAL_NUMBER = \"SERIAL_NUMBER\"\n",
    "    FORMATTED_STRING = \"FORMATTED_STRING\"    \n",
    "    \n",
    "# brevity\n",
    "D = Dimension\n",
    "V = ValueRenderOption\n",
    "DT = DateTimeRenderOption\n",
    "\n",
    "class GSheetsAPI():\n",
    "    \"\"\" This API layer implements the raw google sheets \n",
    "    v4 api via 1-1 translation from python to the REST\n",
    "    api endpoint(s). \n",
    "    \n",
    "    This api is defined as a hierarchy of collections in \n",
    "    the same way as the actual google api, to make \n",
    "    implementation directly reflect the google api structure. \n",
    "    \n",
    "    All Api subobjects (spreadsheets, values...) retain reference\n",
    "    to the top level api object as a just-in-case implemented in early\n",
    "    programming. \n",
    "    \"\"\"\n",
    "    def __init__(self, session):\n",
    "        self.session = session\n",
    "        self.spreadsheets = SpreadsheetsAPICollection(session, self)\n",
    "        \n",
    "    @classmethod\n",
    "    def from_creds(cls, creds):\n",
    "        return cls(GSession(creds))\n",
    "    \n",
    "    \n",
    "class SpreadsheetsAPICollection():\n",
    "    def __init__(self, session, api):\n",
    "        self.session = session\n",
    "        self.api = api\n",
    "        self.sheets = SheetsAPICollection(session, api)\n",
    "        self.values = ValuesAPICollection(session, api)\n",
    "        \n",
    "    def batchUpdate(self, ssid, updates):\n",
    "        raise NotImplementedError\n",
    "        \n",
    "    def create(self):\n",
    "        raise NotImplementedError\n",
    "        \n",
    "    def get(self):\n",
    "        raise NotImplementedError\n",
    "        \n",
    "        \n",
    "class ValuesAPICollection():\n",
    "    def __init__(self, session, api):\n",
    "        self.session = session\n",
    "        self.api = api\n",
    "\n",
    "    def batchGet(self, ssid):\n",
    "        raise NotImplementedError\n",
    "    \n",
    "    def batchUpdate(self, ssid):\n",
    "        raise NotImplementedError\n",
    "        \n",
    "    def get(self, ssid, ss_range, major_dim=D.ROWS, value_render=V.FORMATTED_VALUE, datetime_render=DT.FORMATTED_STRING):\n",
    "        query = qjoin(major_dim, value_render, datetime_render)\n",
    "        url = ujoin(SPREADSHEETS_URL_BASE, str(ssid), \"values\", ss_range, query)\n",
    "        return self.session.get(url)\n",
    "    \n",
    "    def update(self, ssid, ss_range):\n",
    "        raise NotImplementedError\n",
    "        \n",
    "        \n",
    "class SheetsAPICollection():\n",
    "    def __init__(self, session, api):\n",
    "        self.session = session\n",
    "        self.api = api\n",
    "    \n",
    "    def copyTo(self):\n",
    "        raise NotImplementedError"
   ]
  },
  {
   "cell_type": "code",
   "execution_count": 6,
   "metadata": {
    "collapsed": false
   },
   "outputs": [],
   "source": [
    "import os\n",
    "os.chdir(os.path.expanduser(\"~/Documents/pyprojects/google_auths/.auth\"))\n",
    "c = GSheetsAPI(GSession(load_creds('_exp_auth_key.json')))"
   ]
  },
  {
   "cell_type": "code",
   "execution_count": 7,
   "metadata": {
    "collapsed": false
   },
   "outputs": [],
   "source": [
    "s = GSession(load_creds('_exp_auth_key.json'))"
   ]
  },
  {
   "cell_type": "code",
   "execution_count": 10,
   "metadata": {
    "collapsed": false
   },
   "outputs": [
    {
     "name": "stderr",
     "output_type": "stream",
     "text": [
      "1465539484.496945 goffice3.sheets.session DEBUG (60): Performing GET request: https://www.googleapis.com/drive/v3/files\n"
     ]
    }
   ],
   "source": [
    "import json\n",
    "dv3u = \"https://www.googleapis.com/drive/v3\"\n",
    "dv3fileslist = dv3u+\"/files\"\n",
    "r, c = s.get(dv3fileslist)\n",
    "j=json.loads(c.decode())"
   ]
  },
  {
   "cell_type": "code",
   "execution_count": 11,
   "metadata": {
    "collapsed": false
   },
   "outputs": [
    {
     "data": {
      "text/plain": [
       "[{'id': '10x9ziXbfVm5ZcchAZjW1Zi7L0c0tDJfPhIvsnryvQZY',\n",
       "  'kind': 'drive#file',\n",
       "  'mimeType': 'application/vnd.google-apps.spreadsheet',\n",
       "  'name': 'Slayer Tasks'},\n",
       " {'id': '0B85fKUTk3Dmbc3RhcnRlcl9maWxl',\n",
       "  'kind': 'drive#file',\n",
       "  'mimeType': 'application/pdf',\n",
       "  'name': 'How to get started with Drive'}]"
      ]
     },
     "execution_count": 11,
     "metadata": {},
     "output_type": "execute_result"
    }
   ],
   "source": [
    "j['files']"
   ]
  },
  {
   "cell_type": "code",
   "execution_count": null,
   "metadata": {
    "collapsed": true
   },
   "outputs": [],
   "source": []
  }
 ],
 "metadata": {
  "celltoolbar": "Raw Cell Format",
  "kernelspec": {
   "display_name": "Python 3",
   "language": "python",
   "name": "python3"
  },
  "language_info": {
   "codemirror_mode": {
    "name": "ipython",
    "version": 3
   },
   "file_extension": ".py",
   "mimetype": "text/x-python",
   "name": "python",
   "nbconvert_exporter": "python",
   "pygments_lexer": "ipython3",
   "version": "3.4.3"
  }
 },
 "nbformat": 4,
 "nbformat_minor": 0
}
