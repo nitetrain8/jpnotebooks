{
 "cells": [
  {
   "cell_type": "code",
   "execution_count": 1,
   "metadata": {
    "collapsed": true
   },
   "outputs": [],
   "source": [
    "from urllib.request import urlopen\n",
    "from collections import OrderedDict\n",
    "url = \"https://sheets.googleapis.com/$discovery/rest?version=v4\"\n",
    "\n",
    "r = urlopen(url).read()\n",
    "import json\n",
    "j=json.loads(r.decode(), object_hook=OrderedDict)\n",
    "\n",
    "def dump_l(l, indent=0):\n",
    "    for item in l:\n",
    "        if isinstance(item, list):\n",
    "            dump_l(item, indent+1)\n",
    "        elif isinstance(item, dict):\n",
    "            dump_d(item, indent+1)\n",
    "        else:\n",
    "            print(indent*\" \", item, sep=\"\")\n",
    "        \n",
    "def dump_d(d, indent=0):\n",
    "    for k, v in d.items():\n",
    "        if isinstance(v, dict):\n",
    "            print(indent*\" \", k, \":\", sep=\"\")\n",
    "            dump_d(v, indent+1)\n",
    "        elif isinstance(v, list):\n",
    "            dump_l(v, indent+1)\n",
    "        else:\n",
    "            assert isinstance(v, (int, str)), type(v)\n",
    "            print(indent*\" \", k, ': ', v, sep=\"\")\n",
    "            \n",
    "def dump_resources(d, indent=0):\n",
    "    for k, v in d.items():\n",
    "        if k == 'resources':\n",
    "            for k2, v2 in v.items():\n",
    "                print(indent*\" \", k2, \":\", sep=\"\")\n",
    "                dump_resources(v2, indent+1)"
   ]
  },
  {
   "cell_type": "code",
   "execution_count": 2,
   "metadata": {
    "collapsed": false
   },
   "outputs": [
    {
     "name": "stdout",
     "output_type": "stream",
     "text": [
      "spreadsheets:\n",
      " values:\n",
      " sheets:\n"
     ]
    }
   ],
   "source": [
    "dump_resources(j)"
   ]
  },
  {
   "cell_type": "code",
   "execution_count": 3,
   "metadata": {
    "collapsed": false
   },
   "outputs": [
    {
     "name": "stdout",
     "output_type": "stream",
     "text": [
      "C:\\Users\\Administrator\\Documents\\pyprojects\\goffice3\n"
     ]
    }
   ],
   "source": [
    "%cd ../pyprojects/goffice3"
   ]
  },
  {
   "cell_type": "code",
   "execution_count": 4,
   "metadata": {
    "collapsed": false
   },
   "outputs": [
    {
     "name": "stdout",
     "output_type": "stream",
     "text": [
      "FOOFOOFOOFOOFOOFOOFOOFOOFOOFOO\n"
     ]
    }
   ],
   "source": [
    "# %load sheets/api.py\n",
    "\"\"\"\n",
    "\n",
    "Created by: Nathan Starkweather\n",
    "Created on: 06/10/2016\n",
    "Created in: PyCharm Community Edition\n",
    "\n",
    "\n",
    "\"\"\"\n",
    "__author__ = 'Nathan Starkweather'\n",
    "\n",
    "import logging\n",
    "\n",
    "logger = logging.getLogger(__name__)\n",
    "_h = logging.StreamHandler()\n",
    "_f = logging.Formatter(\"%(created)s %(name)s %(levelname)s (%(lineno)s): %(message)s\")\n",
    "_h.setFormatter(_f)\n",
    "logger.addHandler(_h)\n",
    "logger.propagate = False\n",
    "logger.setLevel(logging.DEBUG)\n",
    "del _h, _f\n",
    "\n",
    "from goffice3 import GSession\n",
    "from goffice3 import GObject\n",
    "import json\n",
    "\n",
    "\n",
    "SPREADSHEETS_URL_BASE = \"https://sheets.googleapis.com/v4/spreadsheets\"\n",
    "\n",
    "url_join = \"/\".join\n",
    "ajoin = \"&\".join\n",
    "eqjoin = \"=\".join\n",
    "def _pc(c): return json.loads(c.decode('ascii'))\n",
    "\n",
    "\n",
    "def make_query(options):\n",
    "    kvs = [eqjoin((k, v)) for k, v in options if v is not None]\n",
    "    return \"?\"+ajoin(kvs)\n",
    "\n",
    "\n",
    "class Dimension(GObject):\n",
    "    \"\"\" Dimension enum \"\"\"\n",
    "    DIMENSION_UNSPECIFIED = \"DIMENSION_UNSPECIFIED\"\n",
    "    ROWS = \"ROWS\"\n",
    "    COLUMNS = \"COLUMNS\"\n",
    "\n",
    "\n",
    "class ValueRenderOption(GObject):\n",
    "    \"\"\" ValueRenderOption enum \"\"\"\n",
    "    FORMATTED_VALUE = \"FORMATTED_VALUE\"\n",
    "    UNFORMATTED_VALUE = \"UNFORMATTED_VALUE\"\n",
    "    FORMULA = \"FORMULA\"\n",
    "\n",
    "\n",
    "class DateTimeRenderOption(GObject):\n",
    "    SERIAL_NUMBER = \"SERIAL_NUMBER\"\n",
    "    FORMATTED_STRING = \"FORMATTED_STRING\"\n",
    "\n",
    "\n",
    "# brevity\n",
    "D = Dimension\n",
    "V = ValueRenderOption\n",
    "DT = DateTimeRenderOption\n",
    "\n",
    "\n",
    "class SheetsAPI(GObject):\n",
    "    \"\"\" This API layer implements the raw google sheets\n",
    "    v4 api via 1-1 translation from python to the REST\n",
    "    api endpoint(s).\n",
    "\n",
    "    This api is defined as a hierarchy of collections in\n",
    "    the same way as the actual google api, to make\n",
    "    implementation directly reflect the google api structure.\n",
    "\n",
    "    All Api subobjects (spreadsheets, values...) retain reference\n",
    "    to the top level api object as a just-in-case implemented in early\n",
    "    programming.\n",
    "    \"\"\"\n",
    "\n",
    "    def __init__(self, session):\n",
    "        self.session = session\n",
    "        self.spreadsheets = SpreadsheetsCollectionAPI(session)\n",
    "\n",
    "    @classmethod\n",
    "    def from_creds(cls, creds):\n",
    "        return cls(GSession(creds))\n",
    "\n",
    "\n",
    "class SpreadsheetsCollectionAPI(GObject):\n",
    "    def __init__(self, session):\n",
    "        self.session = session\n",
    "        self.sheets = SheetsCollectionAPI(session)\n",
    "        self.values = ValuesColletionAPI(session)\n",
    "\n",
    "    def raw_batchUpdate(self, ssid, updates):\n",
    "        raise NotImplementedError\n",
    "\n",
    "    def raw_create(self):\n",
    "        raise NotImplementedError\n",
    "\n",
    "    def raw_get(self):\n",
    "        raise NotImplementedError\n",
    "\n",
    "\n",
    "class ValuesColletionAPI(GObject):\n",
    "    def __init__(self, session):\n",
    "        self.session = session\n",
    "\n",
    "    def raw_batchGet(self, ssid):\n",
    "        raise NotImplementedError\n",
    "\n",
    "    def raw_batchUpdate(self, ssid):\n",
    "        raise NotImplementedError\n",
    "\n",
    "    def raw_get(self, ssid, ss_range, majorDimension=None, valueRenderOption=None,\n",
    "            dateTimeRenderOption=None):\n",
    "        query_options = (\n",
    "            ('majorDimension', majorDimension),\n",
    "            ('valueRenderOption', valueRenderOption),\n",
    "            ('dateTimeRenderOption', dateTimeRenderOption)\n",
    "        )\n",
    "        query = make_query(query_options)\n",
    "\n",
    "        url = url_join((SPREADSHEETS_URL_BASE, str(ssid), \"values\", ss_range, query))\n",
    "        r, c = self.session.get(url)\n",
    "        return _pc(c)\n",
    "\n",
    "    def raw_update(self, ssid, ss_range):\n",
    "        raise NotImplementedError\n",
    "\n",
    "\n",
    "class SheetsCollectionAPI(GObject):\n",
    "    def __init__(self, session):\n",
    "        self.session = session\n",
    "\n",
    "    def raw_copyTo(self):\n",
    "        raise NotImplementedError\n"
   ]
  },
  {
   "cell_type": "code",
   "execution_count": 5,
   "metadata": {
    "collapsed": false
   },
   "outputs": [
    {
     "name": "stderr",
     "output_type": "stream",
     "text": [
      "1465774571.110973 goffice3.baseobject DEBUG (47): New instance of <GSession>.\n",
      "1465774571.112973 goffice3.baseobject DEBUG (47): New instance of <SheetsAPI>.\n",
      "1465774571.114973 goffice3.baseobject DEBUG (47): New instance of <SpreadsheetsCollectionAPI>.\n",
      "1465774571.115973 goffice3.baseobject DEBUG (47): New instance of <SheetsCollectionAPI>.\n",
      "1465774571.117974 goffice3.baseobject DEBUG (47): New instance of <ValuesColletionAPI>.\n",
      "1465774571.119974 goffice3.session DEBUG (71): Refreshing authentication key\n",
      "1465774574.536194 goffice3.session DEBUG (76): GET: https://www.googleapis.com/drive/v3/files\n",
      "1465774574.811212 goffice3.session DEBUG (76): GET: https://sheets.googleapis.com/v4/spreadsheets/10x9ziXbfVm5ZcchAZjW1Zi7L0c0tDJfPhIvsnryvQZY/values/A2/?\n",
      "1465774575.24924 goffice3.session DEBUG (76): GET: https://sheets.googleapis.com/v4/spreadsheets/10x9ziXbfVm5ZcchAZjW1Zi7L0c0tDJfPhIvsnryvQZY/values/A5/?\n"
     ]
    }
   ],
   "source": [
    "def parse_content(c):\n",
    "    return json.loads(c.decode('ascii'))\n",
    "\n",
    "import os\n",
    "from goffice3 import load_creds, GSession\n",
    "import json\n",
    "os.chdir(os.path.expanduser(\"~/Documents/pyprojects/google_auths/.auth\"))\n",
    "creds = load_creds('_exp_auth_key.json')\n",
    "s = GSession(creds)\n",
    "api = SheetsAPI(s)\n",
    "\n",
    "dv3u = \"https://www.googleapis.com/drive/v3\"\n",
    "dv3fileslist = dv3u+\"/files\"\n",
    "r, c = s.get(dv3fileslist)\n",
    "j=json.loads(c.decode())\n",
    "\n",
    "ssid = j['files'][0]['id']\n",
    "j['files']\n",
    "\n",
    "c = api.spreadsheets.values.raw_get(ssid, \"A2\")\n",
    "c2 = api.spreadsheets.values.raw_get(ssid, \"A5\")"
   ]
  },
  {
   "cell_type": "code",
   "execution_count": 6,
   "metadata": {
    "collapsed": false
   },
   "outputs": [
    {
     "data": {
      "text/plain": [
       "{'id': '10x9ziXbfVm5ZcchAZjW1Zi7L0c0tDJfPhIvsnryvQZY',\n",
       " 'kind': 'drive#file',\n",
       " 'mimeType': 'application/vnd.google-apps.spreadsheet',\n",
       " 'name': 'Slayer Tasks'}"
      ]
     },
     "execution_count": 6,
     "metadata": {},
     "output_type": "execute_result"
    }
   ],
   "source": [
    "j['files'][0]"
   ]
  },
  {
   "cell_type": "code",
   "execution_count": 7,
   "metadata": {
    "collapsed": false
   },
   "outputs": [],
   "source": [
    "DRIVE_URL_V3 = \"https://www.googleapis.com/drive/v3\"\n",
    "DRIVE_URL_V2 = \"https://www.googleapis.com/drive/v2\"\n",
    "\n",
    "class DriveAPI(GObject):\n",
    "    def __init__(self, session):\n",
    "        self.session = session\n",
    "        self.Files = FilesAPI(self, session)\n",
    "        \n",
    "class FilesAPI(GObject):\n",
    "    def __init__(self, drive, session):\n",
    "        self.drive = drive\n",
    "        self.session = session\n",
    "        \n",
    "    def list(self, maxResults=None, orderBy=None, pageToken=None, q=None, spaces=None, corpus=None):\n",
    "        \"\"\" https://developers.google.com/drive/v2/reference/files/list \"\"\"\n",
    "        ops = (\n",
    "            ('maxResults', maxResults),\n",
    "            (\"orderBy\", orderBy),\n",
    "            (\"pageToken\", pageToken),\n",
    "            (\"q\", q),\n",
    "            (\"spaces\", spaces),\n",
    "            (\"spaces\", corpus)\n",
    "        )\n",
    "        query = make_query(ops)\n",
    "        url = url_join((DRIVE_URL_V3, 'files', query))\n",
    "        r, c = self.session.get(url)\n",
    "        return _pc(c)"
   ]
  },
  {
   "cell_type": "code",
   "execution_count": 8,
   "metadata": {
    "collapsed": false
   },
   "outputs": [],
   "source": [
    "class DataObject(GObject):\n",
    "    def __init__(self, api, js=None):\n",
    "        \"\"\" \n",
    "        :type js: json object with file attributes \n",
    "        \"\"\"\n",
    "        if not isinstance(js, (type(None), dict)):\n",
    "            print(js)\n",
    "        self._js_ob = js or {}\n",
    "        self._api = api\n",
    "        \n",
    "    def _js_get(self, key):\n",
    "        try:\n",
    "            return self._js_ob[key]\n",
    "        except KeyError:\n",
    "            raise AttributeError(key) from None\n",
    "                    \n",
    "    \n",
    "class DriveFiles(DataObject):\n",
    "    def __init__(self, api, ob):\n",
    "        super().__init__(api)\n",
    "        self._dfs = [DriveFile(api, f) for f in ob]\n",
    "        self._files = {df.name: df for df in self._dfs}\n",
    "        \n",
    "    def __getitem__(self, key):\n",
    "        if isinstance(key, int):\n",
    "            return self._dfs[key]\n",
    "        elif isinstance(key, str):\n",
    "            return self._files[key]\n",
    "        else:\n",
    "            raise TypeError(key)\n",
    "            \n",
    "    def __iter__(self):\n",
    "        return iter(self._dfs)\n",
    "    \n",
    "    def __repr__(self):\n",
    "        tmpl = \"%s(\\n %s\\n)\"\n",
    "        l = ',\\n '.join(repr(df) for df in self._dfs)\n",
    "        return tmpl % (self.__class__.__name__, l)\n",
    "\n",
    "        \n",
    "class DriveFile(DataObject):\n",
    "    @property\n",
    "    def id(self):\n",
    "        return self._js_get('id')\n",
    "    \n",
    "    @property\n",
    "    def kind(self):\n",
    "        return self._js_get('kind')\n",
    "    \n",
    "    @property\n",
    "    def mimeType(self):\n",
    "        return self._js_get('mimeType')\n",
    "    \n",
    "    @property\n",
    "    def name(self):\n",
    "        return self._js_get('name')\n",
    "    \n",
    "    def __repr__(self):\n",
    "        return \"%s(\\\"%s\\\")\" % (self.__class__.__name__, self.name)\n",
    "    \n",
    "    \n",
    "class Drive(GObject):\n",
    "    \"\"\" Drive object is the top-level object, so it gets initialized a bit differently \"\"\"\n",
    "    \n",
    "    def __init__(self, auth_key=None):\n",
    "        if auth_key is not None:\n",
    "            api = DriveAPI(GSession(auth_key))\n",
    "        else:\n",
    "            api = None\n",
    "        self.api = api\n",
    "\n",
    "    @classmethod\n",
    "    def from_session(cls, sess):\n",
    "        api = DriveAPI(sess)\n",
    "        self = cls()\n",
    "        self.api = api\n",
    "        return self\n",
    "    \n",
    "    @classmethod\n",
    "    def from_api(cls, api):\n",
    "        self = cls()\n",
    "        self.api = api\n",
    "        return self\n",
    "\n",
    "    @property\n",
    "    def Files(self):\n",
    "        files = self.api.Files.list()\n",
    "        return DriveFiles(self.api, files['files'])\n",
    "        "
   ]
  },
  {
   "cell_type": "code",
   "execution_count": 9,
   "metadata": {
    "collapsed": false
   },
   "outputs": [
    {
     "name": "stderr",
     "output_type": "stream",
     "text": [
      "1465774575.943285 goffice3.baseobject DEBUG (47): New instance of <DriveAPI>.\n",
      "1465774575.944285 goffice3.baseobject DEBUG (47): New instance of <FilesAPI>.\n",
      "1465774575.946285 goffice3.baseobject DEBUG (47): New instance of <Drive>.\n",
      "1465774575.948285 goffice3.session DEBUG (76): GET: https://www.googleapis.com/drive/v3/files/?\n",
      "1465774576.128297 goffice3.baseobject DEBUG (47): New instance of <DriveFiles>.\n",
      "1465774576.130297 goffice3.baseobject DEBUG (47): New instance of <DriveFile>.\n",
      "1465774576.131297 goffice3.baseobject DEBUG (47): New instance of <DriveFile>.\n",
      "1465774576.133297 goffice3.baseobject DEBUG (32): <weakref at 0x0000000004D1FEA8; to 'DriveFiles' at 0x0000000005BB0400> object destroyed.\n",
      "1465774576.135297 goffice3.baseobject DEBUG (32): <weakref at 0x0000000004D15AE8; to 'DriveFile' at 0x0000000005BB01D0> object destroyed.\n",
      "1465774576.136297 goffice3.baseobject DEBUG (32): <weakref at 0x000000000672A408; to 'DriveFile' at 0x0000000005BB0198> object destroyed.\n"
     ]
    },
    {
     "data": {
      "text/plain": [
       "{'id': '10x9ziXbfVm5ZcchAZjW1Zi7L0c0tDJfPhIvsnryvQZY',\n",
       " 'kind': 'drive#file',\n",
       " 'mimeType': 'application/vnd.google-apps.spreadsheet',\n",
       " 'name': 'Slayer Tasks'}"
      ]
     },
     "execution_count": 9,
     "metadata": {},
     "output_type": "execute_result"
    }
   ],
   "source": [
    "d = Drive.from_session(s)\n",
    "d.Files[0]._js_ob"
   ]
  },
  {
   "cell_type": "code",
   "execution_count": 10,
   "metadata": {
    "collapsed": false
   },
   "outputs": [],
   "source": [
    "def reload():\n",
    "    for m in list(sys.modules):\n",
    "        if 'goffice3' in m:\n",
    "            del sys.modules[m]"
   ]
  },
  {
   "cell_type": "code",
   "execution_count": 11,
   "metadata": {
    "collapsed": false
   },
   "outputs": [],
   "source": [
    "from goffice3.session import *"
   ]
  },
  {
   "cell_type": "code",
   "execution_count": null,
   "metadata": {
    "collapsed": true
   },
   "outputs": [],
   "source": []
  }
 ],
 "metadata": {
  "celltoolbar": "Raw Cell Format",
  "kernelspec": {
   "display_name": "Python 3",
   "language": "python",
   "name": "python3"
  },
  "language_info": {
   "codemirror_mode": {
    "name": "ipython",
    "version": 3
   },
   "file_extension": ".py",
   "mimetype": "text/x-python",
   "name": "python",
   "nbconvert_exporter": "python",
   "pygments_lexer": "ipython3",
   "version": "3.4.3"
  }
 },
 "nbformat": 4,
 "nbformat_minor": 0
}
