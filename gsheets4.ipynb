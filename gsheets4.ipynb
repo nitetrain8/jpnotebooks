{
 "cells": [
  {
   "cell_type": "code",
   "execution_count": 37,
   "metadata": {
    "collapsed": true
   },
   "outputs": [],
   "source": [
    "from urllib.request import urlopen\n",
    "from collections import OrderedDict\n",
    "url = \"https://sheets.googleapis.com/$discovery/rest?version=v4\"\n",
    "\n",
    "r = urlopen(url).read()\n",
    "import json\n",
    "j=json.loads(r.decode(), object_hook=OrderedDict)\n",
    "\n",
    "def dump_l(l, indent=0):\n",
    "    for item in l:\n",
    "        if isinstance(item, list):\n",
    "            dump_l(item, indent+1)\n",
    "        elif isinstance(item, dict):\n",
    "            dump_d(item, indent+1)\n",
    "        else:\n",
    "            print(indent*\" \", item, sep=\"\")\n",
    "        \n",
    "def dump_d(d, indent=0):\n",
    "    for k, v in d.items():\n",
    "        if isinstance(v, dict):\n",
    "            print(indent*\" \", k, \":\", sep=\"\")\n",
    "            dump_d(v, indent+1)\n",
    "        elif isinstance(v, list):\n",
    "            dump_l(v, indent+1)\n",
    "        else:\n",
    "            assert isinstance(v, (int, str)), type(v)\n",
    "            print(indent*\" \", k, ': ', v, sep=\"\")\n",
    "            \n",
    "def dump_resources(d, indent=0):\n",
    "    for k, v in d.items():\n",
    "        if k == 'resources':\n",
    "            for k2, v2 in v.items():\n",
    "                print(indent*\" \", k2, \":\", sep=\"\")\n",
    "                dump_resources(v2, indent+1)"
   ]
  },
  {
   "cell_type": "code",
   "execution_count": 38,
   "metadata": {
    "collapsed": false
   },
   "outputs": [
    {
     "name": "stdout",
     "output_type": "stream",
     "text": [
      "spreadsheets:\n",
      " sheets:\n",
      " values:\n"
     ]
    }
   ],
   "source": [
    "dump_resources(j)"
   ]
  },
  {
   "cell_type": "code",
   "execution_count": 1,
   "metadata": {
    "collapsed": true
   },
   "outputs": [],
   "source": [
    "from goffice3.sheets import load_creds\n",
    "from goffice3.sheets import GSession"
   ]
  },
  {
   "cell_type": "code",
   "execution_count": 2,
   "metadata": {
    "collapsed": true
   },
   "outputs": [],
   "source": [
    "class GClient():\n",
    "    \"\"\" The client layer performs backend requests using \n",
    "    the given session object. Client implements the v4 api. \n",
    "    The client is defined as a hierarchy of collections in \n",
    "    the same way as the actual google api, to make \n",
    "    implementation directly reflect the google api structure. \"\"\"\n",
    "    def __init__(self, session):\n",
    "        self.session = session\n",
    "        self.spreadsheets = GCSpreadsheets(session)\n",
    "        \n",
    "    @classmethod\n",
    "    def from_creds(cls, creds):\n",
    "        return cls(GSession(creds))\n",
    "    \n",
    "    \n",
    "class GCSpreadsheets():\n",
    "    def __init__(self, session):\n",
    "        self.session = session\n",
    "        self.sheets = GCSheets(session)\n",
    "        self.values = GCValues(session)\n",
    "        \n",
    "    def batchUpdate(self, ssid, updates):\n",
    "        raise NotImplementedError\n",
    "        \n",
    "    def create(self):\n",
    "        raise NotImplementedError\n",
    "        \n",
    "    def get(self):\n",
    "        raise NotImplementedError\n",
    "        \n",
    "        \n",
    "class GCValues():\n",
    "    def __init__(self, session):\n",
    "        self.session = session\n",
    "\n",
    "    def batchGet(self, ssid):\n",
    "        raise NotImplementedError\n",
    "    \n",
    "    def batchUpdate(self, ssid):\n",
    "        raise NotImplementedError\n",
    "        \n",
    "    def get(self, ssid, ss_range):\n",
    "        raise NotImplementedError\n",
    "    \n",
    "    def update(self, ssid, ss_range):\n",
    "        raise NotImplementedError\n",
    "        \n",
    "        \n",
    "class GCSheets():\n",
    "    def __init__(self, session):\n",
    "        self.session = session\n",
    "    \n",
    "    def copyTo(self):\n",
    "        raise NotImplementedError"
   ]
  },
  {
   "cell_type": "code",
   "execution_count": 3,
   "metadata": {
    "collapsed": false
   },
   "outputs": [],
   "source": [
    "import os\n",
    "os.chdir(os.path.expanduser(\"~/Documents/pyprojects/google_auths/.auth\"))\n",
    "c = GClient(GSession(load_creds('_exp_auth_key.json')))"
   ]
  },
  {
   "cell_type": "code",
   "execution_count": null,
   "metadata": {
    "collapsed": true
   },
   "outputs": [],
   "source": []
  }
 ],
 "metadata": {
  "celltoolbar": "Raw Cell Format",
  "kernelspec": {
   "display_name": "Python 3",
   "language": "python",
   "name": "python3"
  },
  "language_info": {
   "codemirror_mode": {
    "name": "ipython",
    "version": 3
   },
   "file_extension": ".py",
   "mimetype": "text/x-python",
   "name": "python",
   "nbconvert_exporter": "python",
   "pygments_lexer": "ipython3",
   "version": "3.4.3"
  }
 },
 "nbformat": 4,
 "nbformat_minor": 0
}
