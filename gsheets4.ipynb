{
 "cells": [
  {
   "cell_type": "code",
   "execution_count": 1,
   "metadata": {
    "collapsed": true
   },
   "outputs": [],
   "source": [
    "from urllib.request import urlopen\n",
    "from collections import OrderedDict\n",
    "url = \"https://sheets.googleapis.com/$discovery/rest?version=v4\"\n",
    "\n",
    "r = urlopen(url).read()\n",
    "import json\n",
    "j=json.loads(r.decode(), object_hook=OrderedDict)\n",
    "\n",
    "def dump_l(l, indent=0):\n",
    "    for item in l:\n",
    "        if isinstance(item, list):\n",
    "            dump_l(item, indent+1)\n",
    "        elif isinstance(item, dict):\n",
    "            dump_d(item, indent+1)\n",
    "        else:\n",
    "            print(indent*\" \", item, sep=\"\")\n",
    "        \n",
    "def dump_d(d, indent=0):\n",
    "    for k, v in d.items():\n",
    "        if isinstance(v, dict):\n",
    "            print(indent*\" \", k, \":\", sep=\"\")\n",
    "            dump_d(v, indent+1)\n",
    "        elif isinstance(v, list):\n",
    "            dump_l(v, indent+1)\n",
    "        else:\n",
    "            assert isinstance(v, (int, str)), type(v)\n",
    "            print(indent*\" \", k, ': ', v, sep=\"\")\n",
    "            \n",
    "def dump_resources(d, indent=0):\n",
    "    for k, v in d.items():\n",
    "        if k == 'resources':\n",
    "            for k2, v2 in v.items():\n",
    "                print(indent*\" \", k2, \":\", sep=\"\")\n",
    "                dump_resources(v2, indent+1)"
   ]
  },
  {
   "cell_type": "code",
   "execution_count": 2,
   "metadata": {
    "collapsed": false
   },
   "outputs": [
    {
     "name": "stdout",
     "output_type": "stream",
     "text": [
      "spreadsheets:\n",
      " sheets:\n",
      " values:\n"
     ]
    }
   ],
   "source": [
    "dump_resources(j)"
   ]
  },
  {
   "cell_type": "code",
   "execution_count": 3,
   "metadata": {
    "collapsed": false
   },
   "outputs": [
    {
     "name": "stdout",
     "output_type": "stream",
     "text": [
      "C:\\Users\\Administrator\\Documents\\pyprojects\\goffice3\n"
     ]
    }
   ],
   "source": [
    "%cd ../pyprojects/goffice3"
   ]
  },
  {
   "cell_type": "code",
   "execution_count": 12,
   "metadata": {
    "collapsed": false
   },
   "outputs": [],
   "source": [
    "# %load sheets/api.py\n",
    "\"\"\"\n",
    "\n",
    "Created by: Nathan Starkweather\n",
    "Created on: 06/10/2016\n",
    "Created in: PyCharm Community Edition\n",
    "\n",
    "\n",
    "\"\"\"\n",
    "__author__ = 'Nathan Starkweather'\n",
    "\n",
    "import logging\n",
    "\n",
    "logger = logging.getLogger(__name__)\n",
    "_h = logging.StreamHandler()\n",
    "_f = logging.Formatter(\"%(created)s %(name)s %(levelname)s (%(lineno)s): %(message)s\")\n",
    "_h.setFormatter(_f)\n",
    "logger.addHandler(_h)\n",
    "logger.propagate = False\n",
    "logger.setLevel(logging.DEBUG)\n",
    "del _h, _f\n",
    "\n",
    "from goffice3 import GSession\n",
    "from goffice3 import GObject\n",
    "\n",
    "\n",
    "SPREADSHEETS_URL_BASE = \"https://sheets.googleapis.com/v4/spreadsheets/\"\n",
    "\n",
    "def ujoin(*args): return \"/\".join(args)\n",
    "def qjoin(*args): return \"&\".join(args)\n",
    "def eqjoin(*args): return \"=\".join(args)\n",
    "\n",
    "\n",
    "def make_query(options):\n",
    "    kvs = [eqjoin(k, v) for k, v in options if v is not None]\n",
    "    if not kvs:\n",
    "        return \"\"\n",
    "    return qjoin(*kvs)\n",
    "\n",
    "\n",
    "class Dimension(GObject):\n",
    "    \"\"\" Dimension enum \"\"\"\n",
    "    DIMENSION_UNSPECIFIED = \"DIMENSION_UNSPECIFIED\"\n",
    "    ROWS = \"ROWS\"\n",
    "    COLUMNS = \"COLUMNS\"\n",
    "\n",
    "\n",
    "class ValueRenderOption(GObject):\n",
    "    \"\"\" ValueRenderOption enum \"\"\"\n",
    "    FORMATTED_VALUE = \"FORMATTED_VALUE\"\n",
    "    UNFORMATTED_VALUE = \"UNFORMATTED_VALUE\"\n",
    "    FORMULA = \"FORMULA\"\n",
    "\n",
    "\n",
    "class DateTimeRenderOption(GObject):\n",
    "    SERIAL_NUMBER = \"SERIAL_NUMBER\"\n",
    "    FORMATTED_STRING = \"FORMATTED_STRING\"\n",
    "\n",
    "\n",
    "# brevity\n",
    "D = Dimension\n",
    "V = ValueRenderOption\n",
    "DT = DateTimeRenderOption\n",
    "\n",
    "\n",
    "class GSheetsAPI(GObject):\n",
    "    \"\"\" This API layer implements the raw google sheets\n",
    "    v4 api via 1-1 translation from python to the REST\n",
    "    api endpoint(s).\n",
    "\n",
    "    This api is defined as a hierarchy of collections in\n",
    "    the same way as the actual google api, to make\n",
    "    implementation directly reflect the google api structure.\n",
    "\n",
    "    All Api subobjects (spreadsheets, values...) retain reference\n",
    "    to the top level api object as a just-in-case implemented in early\n",
    "    programming.\n",
    "    \"\"\"\n",
    "\n",
    "    def __init__(self, session):\n",
    "        self.session = session\n",
    "        self.spreadsheets = SpreadsheetsAPICollection(session, self)\n",
    "\n",
    "    @classmethod\n",
    "    def from_creds(cls, creds):\n",
    "        return cls(GSession(creds))\n",
    "\n",
    "\n",
    "class SpreadsheetsAPICollection(GObject):\n",
    "    def __init__(self, session, api):\n",
    "        self.session = session\n",
    "        self.api = api\n",
    "        self.sheets = SheetsAPICollection(session, api)\n",
    "        self.values = ValuesAPICollection(session, api)\n",
    "\n",
    "    def batchUpdate(self, ssid, updates):\n",
    "        raise NotImplementedError\n",
    "\n",
    "    def create(self):\n",
    "        raise NotImplementedError\n",
    "\n",
    "    def get(self):\n",
    "        raise NotImplementedError\n",
    "\n",
    "\n",
    "class ValuesAPICollection(GObject):\n",
    "    def __init__(self, session, api):\n",
    "        self.session = session\n",
    "        self.api = api\n",
    "\n",
    "    def batchGet(self, ssid):\n",
    "        raise NotImplementedError\n",
    "\n",
    "    def batchUpdate(self, ssid):\n",
    "        raise NotImplementedError\n",
    "\n",
    "    def get(self, ssid, ss_range, majorDimension=None, valueRenderOption=None,\n",
    "            dateTimeRenderOption=None):\n",
    "        query_options = (\n",
    "            ('majorDimension', majorDimension),\n",
    "            ('valueRenderOption', valueRenderOption),\n",
    "            ('dateTimeRenderOption', dateTimeRenderOption)\n",
    "        )\n",
    "        query = make_query(query_options)\n",
    "\n",
    "        url = ujoin(SPREADSHEETS_URL_BASE, str(ssid), \"values\", ss_range, query)\n",
    "        return self.session.get(url)\n",
    "\n",
    "    def update(self, ssid, ss_range):\n",
    "        raise NotImplementedError\n",
    "\n",
    "\n",
    "class SheetsAPICollection(GObject):\n",
    "    def __init__(self, session, api):\n",
    "        self.session = session\n",
    "        self.api = api\n",
    "\n",
    "    def copyTo(self):\n",
    "        raise NotImplementedError\n"
   ]
  },
  {
   "cell_type": "code",
   "execution_count": 7,
   "metadata": {
    "collapsed": false
   },
   "outputs": [
    {
     "name": "stderr",
     "output_type": "stream",
     "text": [
      "1465618041.266726 goffice3.baseobject DEBUG (47): New instance of <GSession>.\n",
      "1465618041.270726 goffice3.baseobject DEBUG (47): New instance of <GSheetsAPI>.\n",
      "1465618041.271726 goffice3.baseobject DEBUG (47): New instance of <SpreadsheetsAPICollection>.\n",
      "1465618041.273726 goffice3.baseobject DEBUG (47): New instance of <SheetsAPICollection>.\n",
      "1465618041.275727 goffice3.baseobject DEBUG (47): New instance of <ValuesAPICollection>.\n",
      "1465618041.451738 goffice3.session DEBUG (62): GET: https://www.googleapis.com/drive/v3/files\n"
     ]
    },
    {
     "data": {
      "text/plain": [
       "[{'id': '10x9ziXbfVm5ZcchAZjW1Zi7L0c0tDJfPhIvsnryvQZY',\n",
       "  'kind': 'drive#file',\n",
       "  'mimeType': 'application/vnd.google-apps.spreadsheet',\n",
       "  'name': 'Slayer Tasks'},\n",
       " {'id': '0B85fKUTk3Dmbc3RhcnRlcl9maWxl',\n",
       "  'kind': 'drive#file',\n",
       "  'mimeType': 'application/pdf',\n",
       "  'name': 'How to get started with Drive'}]"
      ]
     },
     "execution_count": 7,
     "metadata": {},
     "output_type": "execute_result"
    }
   ],
   "source": [
    "import os\n",
    "from goffice3 import load_creds\n",
    "import json\n",
    "os.chdir(os.path.expanduser(\"~/Documents/pyprojects/google_auths/.auth\"))\n",
    "s = GSession(load_creds('_exp_auth_key.json'))\n",
    "api = GSheetsAPI(s)\n",
    "\n",
    "dv3u = \"https://www.googleapis.com/drive/v3\"\n",
    "dv3fileslist = dv3u+\"/files\"\n",
    "r, c = s.get(dv3fileslist)\n",
    "j=json.loads(c.decode())\n",
    "\n",
    "ssid = j['files'][0]['id']\n",
    "j['files']"
   ]
  },
  {
   "cell_type": "code",
   "execution_count": 13,
   "metadata": {
    "collapsed": false
   },
   "outputs": [
    {
     "name": "stderr",
     "output_type": "stream",
     "text": [
      "1465618310.502929 goffice3.session DEBUG (62): GET: https://sheets.googleapis.com/v4/spreadsheets//10x9ziXbfVm5ZcchAZjW1Zi7L0c0tDJfPhIvsnryvQZY/values/A5/\n"
     ]
    },
    {
     "ename": "GSessionError",
     "evalue": "404: b'<!DOCTYPE html>\\n<html lang=en>\\n  <meta charset=utf-8>\\n  <meta name=viewport content=\"initial-scale=1, minimum-scale=1, width=device-width\">\\n  <title>Error 404 (Not Found)!!1</title>\\n  <style>\\n    *{margin:0;padding:0}html,code{font:15px/22px arial,sans-serif}html{background:#fff;color:#222;padding:15px}body{margin:7% auto 0;max-width:390px;min-height:180px;padding:30px 0 15px}* > body{background:url(//www.google.com/images/errors/robot.png) 100% 5px no-repeat;padding-right:205px}p{margin:11px 0 22px;overflow:hidden}ins{color:#777;text-decoration:none}a img{border:0}@media screen and (max-width:772px){body{background:none;margin-top:0;max-width:none;padding-right:0}}#logo{background:url(//www.google.com/images/branding/googlelogo/1x/googlelogo_color_150x54dp.png) no-repeat;margin-left:-5px}@media only screen and (min-resolution:192dpi){#logo{background:url(//www.google.com/images/branding/googlelogo/2x/googlelogo_color_150x54dp.png) no-repeat 0% 0%/100% 100%;-moz-border-image:url(//www.google.com/images/branding/googlelogo/2x/googlelogo_color_150x54dp.png) 0}}@media only screen and (-webkit-min-device-pixel-ratio:2){#logo{background:url(//www.google.com/images/branding/googlelogo/2x/googlelogo_color_150x54dp.png) no-repeat;-webkit-background-size:100% 100%}}#logo{display:inline-block;height:54px;width:150px}\\n  </style>\\n  <a href=//www.google.com/><span id=logo aria-label=Google></span></a>\\n  <p><b>404.</b> <ins>That\\xe2\\x80\\x99s an error.</ins>\\n  <p>The requested URL <code>/v4/spreadsheets//10x9ziXbfVm5ZcchAZjW1Zi7L0c0tDJfPhIvsnryvQZY/values/A5/</code> was not found on this server.  <ins>That\\xe2\\x80\\x99s all we know.</ins>\\n'",
     "output_type": "error",
     "traceback": [
      "\u001b[1;31m---------------------------------------------------------------------------\u001b[0m",
      "\u001b[1;31mGSessionError\u001b[0m                             Traceback (most recent call last)",
      "\u001b[1;32m<ipython-input-13-9c004463d932>\u001b[0m in \u001b[0;36m<module>\u001b[1;34m()\u001b[0m\n\u001b[1;32m----> 1\u001b[1;33m \u001b[0mapi\u001b[0m\u001b[1;33m.\u001b[0m\u001b[0mspreadsheets\u001b[0m\u001b[1;33m.\u001b[0m\u001b[0mvalues\u001b[0m\u001b[1;33m.\u001b[0m\u001b[0mget\u001b[0m\u001b[1;33m(\u001b[0m\u001b[0mssid\u001b[0m\u001b[1;33m,\u001b[0m \u001b[1;34m\"A5\"\u001b[0m\u001b[1;33m)\u001b[0m\u001b[1;33m\u001b[0m\u001b[0m\n\u001b[0m",
      "\u001b[1;32m<ipython-input-4-33a6b336570e>\u001b[0m in \u001b[0;36mget\u001b[1;34m(self, ssid, ss_range, majorDimension, valueRenderOption, dateTimeRenderOption)\u001b[0m\n\u001b[0;32m    122\u001b[0m \u001b[1;33m\u001b[0m\u001b[0m\n\u001b[0;32m    123\u001b[0m         \u001b[0murl\u001b[0m \u001b[1;33m=\u001b[0m \u001b[0mujoin\u001b[0m\u001b[1;33m(\u001b[0m\u001b[0mSPREADSHEETS_URL_BASE\u001b[0m\u001b[1;33m,\u001b[0m \u001b[0mstr\u001b[0m\u001b[1;33m(\u001b[0m\u001b[0mssid\u001b[0m\u001b[1;33m)\u001b[0m\u001b[1;33m,\u001b[0m \u001b[1;34m\"values\"\u001b[0m\u001b[1;33m,\u001b[0m \u001b[0mss_range\u001b[0m\u001b[1;33m,\u001b[0m \u001b[0mquery\u001b[0m\u001b[1;33m)\u001b[0m\u001b[1;33m\u001b[0m\u001b[0m\n\u001b[1;32m--> 124\u001b[1;33m         \u001b[1;32mreturn\u001b[0m \u001b[0mself\u001b[0m\u001b[1;33m.\u001b[0m\u001b[0msession\u001b[0m\u001b[1;33m.\u001b[0m\u001b[0mget\u001b[0m\u001b[1;33m(\u001b[0m\u001b[0murl\u001b[0m\u001b[1;33m)\u001b[0m\u001b[1;33m\u001b[0m\u001b[0m\n\u001b[0m\u001b[0;32m    125\u001b[0m \u001b[1;33m\u001b[0m\u001b[0m\n\u001b[0;32m    126\u001b[0m     \u001b[1;32mdef\u001b[0m \u001b[0mupdate\u001b[0m\u001b[1;33m(\u001b[0m\u001b[0mself\u001b[0m\u001b[1;33m,\u001b[0m \u001b[0mssid\u001b[0m\u001b[1;33m,\u001b[0m \u001b[0mss_range\u001b[0m\u001b[1;33m)\u001b[0m\u001b[1;33m:\u001b[0m\u001b[1;33m\u001b[0m\u001b[0m\n",
      "\u001b[1;32mC:\\Users\\Administrator\\Documents\\pyprojects\\goffice3\\session.py\u001b[0m in \u001b[0;36mget\u001b[1;34m(self, url, headers)\u001b[0m\n\u001b[0;32m     75\u001b[0m         \u001b[1;33m:\u001b[0m\u001b[0mrtype\u001b[0m\u001b[1;33m:\u001b[0m \u001b[1;33m(\u001b[0m\u001b[0mhttplib2\u001b[0m\u001b[1;33m.\u001b[0m\u001b[0mResponse\u001b[0m\u001b[1;33m,\u001b[0m \u001b[0mstr\u001b[0m\u001b[1;33m)\u001b[0m\u001b[1;33m\u001b[0m\u001b[0m\n\u001b[0;32m     76\u001b[0m         \"\"\"\n\u001b[1;32m---> 77\u001b[1;33m         \u001b[1;32mreturn\u001b[0m \u001b[0mself\u001b[0m\u001b[1;33m.\u001b[0m\u001b[0mrun_request\u001b[0m\u001b[1;33m(\u001b[0m\u001b[0murl\u001b[0m\u001b[1;33m,\u001b[0m \u001b[1;34m\"GET\"\u001b[0m\u001b[1;33m,\u001b[0m \u001b[1;32mNone\u001b[0m\u001b[1;33m,\u001b[0m \u001b[0mheaders\u001b[0m\u001b[1;33m)\u001b[0m\u001b[1;33m\u001b[0m\u001b[0m\n\u001b[0m\u001b[0;32m     78\u001b[0m \u001b[1;33m\u001b[0m\u001b[0m\n\u001b[0;32m     79\u001b[0m     \u001b[1;32mdef\u001b[0m \u001b[0mpost\u001b[0m\u001b[1;33m(\u001b[0m\u001b[0mself\u001b[0m\u001b[1;33m,\u001b[0m \u001b[0murl\u001b[0m\u001b[1;33m,\u001b[0m \u001b[0mmsg\u001b[0m\u001b[1;33m,\u001b[0m \u001b[0mheaders\u001b[0m\u001b[1;33m=\u001b[0m\u001b[1;33m(\u001b[0m\u001b[1;33m)\u001b[0m\u001b[1;33m)\u001b[0m\u001b[1;33m:\u001b[0m\u001b[1;33m\u001b[0m\u001b[0m\n",
      "\u001b[1;32mC:\\Users\\Administrator\\Documents\\pyprojects\\goffice3\\session.py\u001b[0m in \u001b[0;36mrun_request\u001b[1;34m(self, url, method, body, headers)\u001b[0m\n\u001b[0;32m     63\u001b[0m         \u001b[0mrsp\u001b[0m\u001b[1;33m,\u001b[0m \u001b[0mcontent\u001b[0m \u001b[1;33m=\u001b[0m \u001b[0mself\u001b[0m\u001b[1;33m.\u001b[0m\u001b[0mhttp\u001b[0m\u001b[1;33m.\u001b[0m\u001b[0mrequest\u001b[0m\u001b[1;33m(\u001b[0m\u001b[0murl\u001b[0m\u001b[1;33m,\u001b[0m \u001b[0mmethod\u001b[0m\u001b[1;33m,\u001b[0m \u001b[0mbody\u001b[0m\u001b[1;33m,\u001b[0m \u001b[0mh\u001b[0m\u001b[1;33m)\u001b[0m\u001b[1;33m\u001b[0m\u001b[0m\n\u001b[0;32m     64\u001b[0m         \u001b[1;32mif\u001b[0m \u001b[0mrsp\u001b[0m\u001b[1;33m.\u001b[0m\u001b[0mstatus\u001b[0m \u001b[1;32mnot\u001b[0m \u001b[1;32min\u001b[0m \u001b[0m_ok_status_codes\u001b[0m\u001b[1;33m:\u001b[0m\u001b[1;33m\u001b[0m\u001b[0m\n\u001b[1;32m---> 65\u001b[1;33m             \u001b[1;32mraise\u001b[0m \u001b[0mGSessionError\u001b[0m\u001b[1;33m(\u001b[0m\u001b[0mrsp\u001b[0m\u001b[1;33m.\u001b[0m\u001b[0mstatus\u001b[0m\u001b[1;33m,\u001b[0m \u001b[0mcontent\u001b[0m\u001b[1;33m)\u001b[0m\u001b[1;33m\u001b[0m\u001b[0m\n\u001b[0m\u001b[0;32m     66\u001b[0m         \u001b[1;32mreturn\u001b[0m \u001b[0mrsp\u001b[0m\u001b[1;33m,\u001b[0m \u001b[0mcontent\u001b[0m\u001b[1;33m\u001b[0m\u001b[0m\n\u001b[0;32m     67\u001b[0m \u001b[1;33m\u001b[0m\u001b[0m\n",
      "\u001b[1;31mGSessionError\u001b[0m: 404: b'<!DOCTYPE html>\\n<html lang=en>\\n  <meta charset=utf-8>\\n  <meta name=viewport content=\"initial-scale=1, minimum-scale=1, width=device-width\">\\n  <title>Error 404 (Not Found)!!1</title>\\n  <style>\\n    *{margin:0;padding:0}html,code{font:15px/22px arial,sans-serif}html{background:#fff;color:#222;padding:15px}body{margin:7% auto 0;max-width:390px;min-height:180px;padding:30px 0 15px}* > body{background:url(//www.google.com/images/errors/robot.png) 100% 5px no-repeat;padding-right:205px}p{margin:11px 0 22px;overflow:hidden}ins{color:#777;text-decoration:none}a img{border:0}@media screen and (max-width:772px){body{background:none;margin-top:0;max-width:none;padding-right:0}}#logo{background:url(//www.google.com/images/branding/googlelogo/1x/googlelogo_color_150x54dp.png) no-repeat;margin-left:-5px}@media only screen and (min-resolution:192dpi){#logo{background:url(//www.google.com/images/branding/googlelogo/2x/googlelogo_color_150x54dp.png) no-repeat 0% 0%/100% 100%;-moz-border-image:url(//www.google.com/images/branding/googlelogo/2x/googlelogo_color_150x54dp.png) 0}}@media only screen and (-webkit-min-device-pixel-ratio:2){#logo{background:url(//www.google.com/images/branding/googlelogo/2x/googlelogo_color_150x54dp.png) no-repeat;-webkit-background-size:100% 100%}}#logo{display:inline-block;height:54px;width:150px}\\n  </style>\\n  <a href=//www.google.com/><span id=logo aria-label=Google></span></a>\\n  <p><b>404.</b> <ins>That\\xe2\\x80\\x99s an error.</ins>\\n  <p>The requested URL <code>/v4/spreadsheets//10x9ziXbfVm5ZcchAZjW1Zi7L0c0tDJfPhIvsnryvQZY/values/A5/</code> was not found on this server.  <ins>That\\xe2\\x80\\x99s all we know.</ins>\\n'"
     ]
    }
   ],
   "source": [
    "try:\n",
    "    api.spreadsheets.values.get(ssid, \"A5\")\n",
    "except "
   ]
  },
  {
   "cell_type": "code",
   "execution_count": null,
   "metadata": {
    "collapsed": true
   },
   "outputs": [],
   "source": []
  }
 ],
 "metadata": {
  "celltoolbar": "Raw Cell Format",
  "kernelspec": {
   "display_name": "Python 3",
   "language": "python",
   "name": "python3"
  },
  "language_info": {
   "codemirror_mode": {
    "name": "ipython",
    "version": 3
   },
   "file_extension": ".py",
   "mimetype": "text/x-python",
   "name": "python",
   "nbconvert_exporter": "python",
   "pygments_lexer": "ipython3",
   "version": "3.4.3"
  }
 },
 "nbformat": 4,
 "nbformat_minor": 0
}
