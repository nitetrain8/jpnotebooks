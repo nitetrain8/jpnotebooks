{
 "cells": [
  {
   "cell_type": "code",
   "execution_count": 1,
   "metadata": {
    "collapsed": true
   },
   "outputs": [],
   "source": [
    "import cv2, PIL, numpy as np\n",
    "import PIL.ImageGrab"
   ]
  },
  {
   "cell_type": "code",
   "execution_count": null,
   "metadata": {
    "collapsed": true
   },
   "outputs": [],
   "source": [
    "screenshot = PIL.ImageGrab.grab"
   ]
  },
  {
   "cell_type": "code",
   "execution_count": null,
   "metadata": {},
   "outputs": [],
   "source": [
    "ss = screenshot()\n",
    "ss2 = cv2.cvtColor(np.array(ss), cv2.COLOR_RGB2GRAY)\n",
    "PIL.Image.fromarray(ss2)"
   ]
  },
  {
   "cell_type": "code",
   "execution_count": null,
   "metadata": {},
   "outputs": [],
   "source": [
    "img_rgb = np.array(screenshot())\n",
    "img_gray = cv2.cvtColor((img_rgb), cv2.COLOR_BGR2GRAY)\n",
    "template = cv2.imread('cheese.png',0)\n",
    "w, h = template.shape[::-1]\n",
    "res = cv2.matchTemplate(img_gray,template,cv2.TM_CCOEFF_NORMED)\n",
    "threshold = 0.8\n",
    "loc = np.where( res >= threshold)\n",
    "for pt in zip(*loc[::-1]):\n",
    "    cv2.rectangle(img_rgb, pt, (pt[0] + w, pt[1] + h), (0,0,255), 2)\n",
    "#cv2.imshow(\"test\", img_rgb)\n",
    "\n",
    "PIL.Image.fromarray(img_rgb)"
   ]
  },
  {
   "cell_type": "code",
   "execution_count": null,
   "metadata": {},
   "outputs": [],
   "source": [
    "xv, yv = loc\n",
    "for x, y in zip(xv, yv):\n",
    "    print(x,y)"
   ]
  },
  {
   "cell_type": "code",
   "execution_count": null,
   "metadata": {},
   "outputs": [],
   "source": [
    "np.array(screenshot()).shape"
   ]
  },
  {
   "cell_type": "code",
   "execution_count": null,
   "metadata": {
    "collapsed": true
   },
   "outputs": [],
   "source": [
    "import win32gui\n",
    "import win32con\n",
    "\n",
    "hwnd = win32gui.FindWindow(None, 'Microsoft Excel - IE000XX Matt Croughan Procedure Planning.xlsx')\n",
    "win32gui.SetWindowPos(hwnd, win32con.HWND_TOPMOST, 100, 100, 300, 200, win32con.SWP_NOMOVE | win32con.SWP_NOSIZE) "
   ]
  },
  {
   "cell_type": "code",
   "execution_count": 50,
   "metadata": {},
   "outputs": [],
   "source": [
    "import ctypes\n",
    "FreeLibrary = ctypes.windll.kernel32.FreeLibrary\n",
    "FreeLibrary.argtypes = [ctypes.c_void_p]\n",
    "def unload(dll):\n",
    "    # Unload the DLL so that it can be rebuilt\n",
    "    ctypes.windll.kernel32.FreeLibrary(dll._handle)"
   ]
  },
  {
   "cell_type": "code",
   "execution_count": 83,
   "metadata": {},
   "outputs": [],
   "source": [
    "unload(tess)\n",
    "unload(lept)\n",
    "unload(ssdll)\n",
    "del tess\n",
    "del lept\n",
    "del ssdll"
   ]
  },
  {
   "cell_type": "code",
   "execution_count": 82,
   "metadata": {},
   "outputs": [],
   "source": [
    "bin_dir = 'C:\\\\Program Files (x86)\\\\Tesseract-OCR'\n",
    "tessfp = \"libtesseract-4.dll\"\n",
    "leptfp = \"liblept-5.dll\"\n",
    "ssfp = 'C:\\\\Users\\\\Administrator\\\\source\\\\repos\\\\tesstest\\\\x64\\\\Debug\\\\screencap.dll'\n",
    "tess = ctypes.cdll.LoadLibrary(tessfp)\n",
    "lept = ctypes.cdll.LoadLibrary(leptfp)\n",
    "ssdll = ctypes.cdll.LoadLibrary(ssfp)\n",
    "\n",
    "pixReadMemBmp = lept.pixReadMemBmp\n",
    "pixReadMemBmp.argtypes = [ctypes.c_char_p, ctypes.c_size_t]\n",
    "pixReadMemBmp.restype = ctypes.c_uint64\n",
    "\n",
    "_screengrab = ssdll.screenshot\n",
    "_screengrab.argtypes = [ctypes.c_int, ctypes.c_int, ctypes.c_int, ctypes.c_int, ctypes.POINTER(ctypes.wintypes.DWORD)]\n",
    "_screengrab.restype = ctypes.c_int64\n",
    "_free_mem = ssdll.free_mem\n",
    "_free_mem.argtypes = [ctypes.c_int64]\n",
    "LP_c_DWORD = ctypes.POINTER(ctypes.wintypes.DWORD)\n",
    "\n",
    "def screengrab(x,y,w,h):\n",
    "    _size = ctypes.wintypes.DWORD(0)\n",
    "    _ptr = _screengrab(x,y,w,h, ctypes.byref(_size))\n",
    "    try:\n",
    "        b = ctypes.string_at(_ptr, _size.value)\n",
    "    finally:\n",
    "        _free_mem(_ptr)\n",
    "    return b\n",
    "b = screengrab(0,0,1600,900)"
   ]
  },
  {
   "cell_type": "code",
   "execution_count": 63,
   "metadata": {
    "collapsed": true
   },
   "outputs": [],
   "source": [
    "bin_dir = 'C:\\\\Program Files (x86)\\\\Tesseract-OCR'\n",
    "tessfp = \"libtesseract-4.dll\"\n",
    "leptfp = \"liblept-5.dll\"\n",
    "ssfp = 'C:\\\\Users\\\\Administrator\\\\source\\\\repos\\\\tesstest\\\\x64\\\\Debug\\\\screencap.dll'\n",
    "tess = ctypes.cdll.LoadLibrary(tessfp)\n",
    "lept = ctypes.cdll.LoadLibrary(leptfp)\n",
    "ssdll = ctypes.cdll.LoadLibrary(ssfp)\n",
    "\n",
    "pixReadMemBmp = lept.pixReadMemBmp\n",
    "pixReadMemBmp.argtypes = [ctypes.c_char_p, ctypes.c_size_t]\n",
    "pixReadMemBmp.restype = ctypes.c_uint64\n",
    "\n",
    "_screengrab = ssdll.screenshot\n",
    "_screengrab.argtypes = [ctypes.c_int, ctypes.c_int, ctypes.c_int, ctypes.c_int, ctypes.POINTER(ctypes.wintypes.DWORD)]\n",
    "_screengrab.restype = ctypes.c_int64\n",
    "_free_mem = ssdll.free_mem\n",
    "_free_mem.argtypes = [ctypes.c_int64]\n",
    "LP_c_DWORD = ctypes.POINTER(ctypes.wintypes.DWORD)\n",
    "\n",
    "def screengrab(x,y,w,h):\n",
    "    _size = ctypes.wintypes.DWORD(0)\n",
    "    _ptr = _screengrab(x,y,w,h, ctypes.byref(_size))\n",
    "    try:\n",
    "        b = ctypes.string_at(_ptr, _size.value)\n",
    "    finally:\n",
    "        _free_mem(_ptr)\n",
    "    return b\n",
    "b = screengrab(0,0,1600,900)"
   ]
  },
  {
   "cell_type": "code",
   "execution_count": 64,
   "metadata": {},
   "outputs": [],
   "source": [
    "\n",
    "# pix = pixReadMemBmp(b, len(b))\n",
    "# print(pix)"
   ]
  },
  {
   "cell_type": "code",
   "execution_count": 45,
   "metadata": {},
   "outputs": [
    {
     "data": {
      "text/plain": [
       "(b'B',)"
      ]
     },
     "execution_count": 45,
     "metadata": {},
     "output_type": "execute_result"
    }
   ],
   "source": [
    "import struct\n",
    "struct.unpack(\"<c\", b'B')"
   ]
  },
  {
   "cell_type": "code",
   "execution_count": 55,
   "metadata": {},
   "outputs": [
    {
     "name": "stderr",
     "output_type": "stream",
     "text": [
      "IOPub data rate exceeded.\n",
      "The notebook server will temporarily stop sending output\n",
      "to the client in order to avoid crashing it.\n",
      "To change this limit, set the config variable\n",
      "`--NotebookApp.iopub_data_rate_limit`.\n"
     ]
    }
   ],
   "source": [
    "b"
   ]
  },
  {
   "cell_type": "code",
   "execution_count": 35,
   "metadata": {},
   "outputs": [
    {
     "data": {
      "text/plain": [
       "b'BM'"
      ]
     },
     "execution_count": 35,
     "metadata": {},
     "output_type": "execute_result"
    }
   ],
   "source": [
    "b'BM'"
   ]
  },
  {
   "cell_type": "code",
   "execution_count": null,
   "metadata": {},
   "outputs": [],
   "source": [
    "img = screenshot()\n",
    "img = img.convert(mode=\"1\")\n",
    "stuff = img.tobitmap()"
   ]
  },
  {
   "cell_type": "code",
   "execution_count": null,
   "metadata": {},
   "outputs": [],
   "source": [
    "PIL.Image.frombytes(b)"
   ]
  },
  {
   "cell_type": "code",
   "execution_count": null,
   "metadata": {
    "collapsed": true
   },
   "outputs": [],
   "source": [
    "PIL.Image.frombytes?"
   ]
  },
  {
   "cell_type": "code",
   "execution_count": null,
   "metadata": {},
   "outputs": [],
   "source": [
    "stuff"
   ]
  },
  {
   "cell_type": "code",
   "execution_count": null,
   "metadata": {
    "collapsed": true
   },
   "outputs": [],
   "source": [
    "clipboard.copy(repr(clipboard.paste()))"
   ]
  },
  {
   "cell_type": "code",
   "execution_count": null,
   "metadata": {
    "collapsed": true
   },
   "outputs": [],
   "source": []
  }
 ],
 "metadata": {
  "kernelspec": {
   "display_name": "Python 3",
   "language": "python",
   "name": "python3"
  },
  "language_info": {
   "codemirror_mode": {
    "name": "ipython",
    "version": 3
   },
   "file_extension": ".py",
   "mimetype": "text/x-python",
   "name": "python",
   "nbconvert_exporter": "python",
   "pygments_lexer": "ipython3",
   "version": "3.6.1"
  }
 },
 "nbformat": 4,
 "nbformat_minor": 2
}
