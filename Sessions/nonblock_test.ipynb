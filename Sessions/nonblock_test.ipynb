{
 "cells": [
  {
   "cell_type": "code",
   "execution_count": 1,
   "metadata": {},
   "outputs": [],
   "source": [
    "import os\n",
    "import select\n",
    "import sys\n",
    "import threading\n",
    "import queue\n",
    "__name__ = \"__jpnotebook__\""
   ]
  },
  {
   "cell_type": "code",
   "execution_count": 2,
   "metadata": {},
   "outputs": [],
   "source": [
    "from time import sleep\n",
    "def func():\n",
    "    i = 1\n",
    "    while i < 11:\n",
    "        print(\"client %d\"%i, flush=True)\n",
    "        sleep(3)\n",
    "        i += 1\n",
    "if __name__ == \"__main__\":\n",
    "    func()"
   ]
  },
  {
   "cell_type": "code",
   "execution_count": 3,
   "metadata": {},
   "outputs": [],
   "source": [
    "fn = \"nonblock_test.py\"\n",
    "with open(fn, 'w') as f:\n",
    "    f.write(In[-2])"
   ]
  },
  {
   "cell_type": "code",
   "execution_count": 4,
   "metadata": {},
   "outputs": [],
   "source": [
    "import subprocess\n",
    "mk_popen = lambda: subprocess.Popen(\"python %s\"%fn, 0, shell=False, stdout=subprocess.PIPE)"
   ]
  },
  {
   "cell_type": "code",
   "execution_count": 9,
   "metadata": {},
   "outputs": [],
   "source": [
    "class AsyncPipeReader(threading.Thread):\n",
    "    def __init__(self, fp, q):\n",
    "        super().__init__(None, daemon=True)\n",
    "        self.fp = fp\n",
    "        self.q = q\n",
    "        self.running = False\n",
    "        self.eof = False\n",
    "        \n",
    "    def run(self):\n",
    "        self.running = True\n",
    "        while self.running:\n",
    "            try:\n",
    "                c = self.fp.read(1)\n",
    "            except Exception:\n",
    "                break\n",
    "            if c == b\"\":\n",
    "                self.eof = True\n",
    "                break\n",
    "            else:\n",
    "                self.q.put(c)\n",
    "     \n",
    "def _read_all(q):\n",
    "    b = []\n",
    "    with q.mutex:\n",
    "        while q.queue:\n",
    "            b.append(q.queue.popleft())\n",
    "    return b\n",
    "    \n",
    "def _read_async(reader, q):\n",
    "    readall = _read_all\n",
    "    while True:\n",
    "        b = readall(q)\n",
    "        yield b\"\".join(b)\n",
    "        if reader.eof:\n",
    "            break\n",
    "    reader.running = False\n",
    "    yield\n",
    "            \n",
    "def read_async(p):\n",
    "    global reader\n",
    "    q = queue.Queue()\n",
    "    reader = AsyncPipeReader(p.stdout, q)\n",
    "    reader.start()\n",
    "    gen = _read_async(reader, q)\n",
    "    gen.reader = reader\n",
    "    gen.q = q\n",
    "    next(gen)\n",
    "    return gen.__next__"
   ]
  },
  {
   "cell_type": "code",
   "execution_count": 10,
   "metadata": {},
   "outputs": [
    {
     "ename": "AttributeError",
     "evalue": "'generator' object has no attribute 'reader'",
     "output_type": "error",
     "traceback": [
      "\u001b[1;31m---------------------------------------------------------------------------\u001b[0m",
      "\u001b[1;31mAttributeError\u001b[0m                            Traceback (most recent call last)",
      "\u001b[1;32m<ipython-input-10-de43a3eaed50>\u001b[0m in \u001b[0;36m<module>\u001b[1;34m()\u001b[0m\n\u001b[1;32m----> 1\u001b[1;33m \u001b[0mread\u001b[0m \u001b[1;33m=\u001b[0m \u001b[0mread_async\u001b[0m\u001b[1;33m(\u001b[0m\u001b[0mmk_popen\u001b[0m\u001b[1;33m(\u001b[0m\u001b[1;33m)\u001b[0m\u001b[1;33m)\u001b[0m\u001b[1;33m\u001b[0m\u001b[0m\n\u001b[0m\u001b[0;32m      2\u001b[0m \u001b[0mprint\u001b[0m\u001b[1;33m(\u001b[0m\u001b[1;34m\"beginning\"\u001b[0m\u001b[1;33m)\u001b[0m\u001b[1;33m\u001b[0m\u001b[0m\n\u001b[0;32m      3\u001b[0m \u001b[0mi\u001b[0m \u001b[1;33m=\u001b[0m \u001b[1;36m0\u001b[0m\u001b[1;33m\u001b[0m\u001b[0m\n\u001b[0;32m      4\u001b[0m \u001b[1;32mwhile\u001b[0m \u001b[1;32mTrue\u001b[0m\u001b[1;33m:\u001b[0m\u001b[1;33m\u001b[0m\u001b[0m\n\u001b[0;32m      5\u001b[0m     \u001b[0mi\u001b[0m \u001b[1;33m+=\u001b[0m \u001b[1;36m1\u001b[0m\u001b[1;33m\u001b[0m\u001b[0m\n",
      "\u001b[1;32m<ipython-input-9-61cb9423751f>\u001b[0m in \u001b[0;36mread_async\u001b[1;34m(p)\u001b[0m\n\u001b[0;32m     43\u001b[0m     \u001b[0mreader\u001b[0m\u001b[1;33m.\u001b[0m\u001b[0mstart\u001b[0m\u001b[1;33m(\u001b[0m\u001b[1;33m)\u001b[0m\u001b[1;33m\u001b[0m\u001b[0m\n\u001b[0;32m     44\u001b[0m     \u001b[0mgen\u001b[0m \u001b[1;33m=\u001b[0m \u001b[0m_read_async\u001b[0m\u001b[1;33m(\u001b[0m\u001b[0mreader\u001b[0m\u001b[1;33m,\u001b[0m \u001b[0mq\u001b[0m\u001b[1;33m)\u001b[0m\u001b[1;33m\u001b[0m\u001b[0m\n\u001b[1;32m---> 45\u001b[1;33m     \u001b[0mgen\u001b[0m\u001b[1;33m.\u001b[0m\u001b[0mreader\u001b[0m \u001b[1;33m=\u001b[0m \u001b[0mreader\u001b[0m\u001b[1;33m\u001b[0m\u001b[0m\n\u001b[0m\u001b[0;32m     46\u001b[0m     \u001b[0mgen\u001b[0m\u001b[1;33m.\u001b[0m\u001b[0mq\u001b[0m \u001b[1;33m=\u001b[0m \u001b[0mq\u001b[0m\u001b[1;33m\u001b[0m\u001b[0m\n\u001b[0;32m     47\u001b[0m     \u001b[0mnext\u001b[0m\u001b[1;33m(\u001b[0m\u001b[0mgen\u001b[0m\u001b[1;33m)\u001b[0m\u001b[1;33m\u001b[0m\u001b[0m\n",
      "\u001b[1;31mAttributeError\u001b[0m: 'generator' object has no attribute 'reader'"
     ]
    }
   ],
   "source": [
    "read = read_async(mk_popen())\n",
    "print(\"beginning\")\n",
    "i = 0\n",
    "while True:\n",
    "    i += 1\n",
    "    c = read()\n",
    "    if c:\n",
    "        sys.stdout.write(c)\n",
    "        sys.stdout.flush()\n",
    "    elif c == b\"\":\n",
    "        print(\"\\ri=%d\"%i, end=\"\")\n",
    "    else:\n",
    "        break\n",
    "    sleep(0.1)"
   ]
  },
  {
   "cell_type": "code",
   "execution_count": 11,
   "metadata": {},
   "outputs": [],
   "source": [
    "queue??"
   ]
  },
  {
   "cell_type": "code",
   "execution_count": null,
   "metadata": {},
   "outputs": [],
   "source": []
  }
 ],
 "metadata": {
  "kernelspec": {
   "display_name": "Python 3",
   "language": "python",
   "name": "python3"
  },
  "language_info": {
   "codemirror_mode": {
    "name": "ipython",
    "version": 3
   },
   "file_extension": ".py",
   "mimetype": "text/x-python",
   "name": "python",
   "nbconvert_exporter": "python",
   "pygments_lexer": "ipython3",
   "version": "3.5.2"
  }
 },
 "nbformat": 4,
 "nbformat_minor": 2
}
