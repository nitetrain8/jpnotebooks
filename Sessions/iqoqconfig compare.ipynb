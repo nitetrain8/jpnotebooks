{
 "cells": [
  {
   "cell_type": "code",
   "execution_count": 80,
   "metadata": {},
   "outputs": [],
   "source": [
    "from subprocess import call, check_output, Popen\n",
    "import subprocess\n",
    "def fc(t, a, b):\n",
    "    cmd = 'python C:\\\\users\\\\nathan\\\\documents\\\\dropbox\\\\python\\\\scripts\\\\tools\\\\filecompare\\\\src\\\\filecompare\\\\filecompare.py \"%s\" \"%s\" \"%s\" --verbose' % (t, a, b)\n",
    "    p = Popen(cmd, shell=True, stderr=subprocess.PIPE, stdout=subprocess.PIPE)\n",
    "    print(p.stderr.read().decode(), p.stdout.read().decode())"
   ]
  },
  {
   "cell_type": "code",
   "execution_count": 26,
   "metadata": {},
   "outputs": [],
   "source": [
    "import tkinter as tk\n",
    "import tkinter.ttk as ttk\n",
    "\n",
    "root = tk.Tk()\n",
    "e1 = ttk.Entry()\n",
    "b1 = ttk.Button(command=)\n",
    "\n",
    "from clipboard import copy, paste"
   ]
  },
  {
   "cell_type": "code",
   "execution_count": 28,
   "metadata": {},
   "outputs": [],
   "source": [
    "def new(f):\n",
    "    return \"C:\\\\users\\\\nathan\\\\documents\\\\pbs\\\\sw test\\\\iqoq config files\\\\3L\\\\3.0.6\\\\\" + f\n",
    "\n",
    "def old(f):\n",
    "    return \"D:\\\\iqoq_3L_Mag\\\\Config\\\\\" + f"
   ]
  },
  {
   "cell_type": "code",
   "execution_count": 90,
   "metadata": {},
   "outputs": [
    {
     "name": "stdout",
     "output_type": "stream",
     "text": [
      " Alarms identical:                        'OQ - Alarms Verification.alm', 'OQ - Alarms Verification.alm'\r\n",
      "\r\n",
      "\n"
     ]
    }
   ],
   "source": [
    "n = new(\"OQ - Alarms Verification.alm\")\n",
    "o = old(\"OQ - Alarms Verification.alm\")\n",
    "fc(\"alarms\", o, n)"
   ]
  },
  {
   "cell_type": "code",
   "execution_count": 98,
   "metadata": {},
   "outputs": [],
   "source": [
    "def cmp(t, a, b):\n",
    "    fc(t, old(a), new(b))"
   ]
  },
  {
   "cell_type": "code",
   "execution_count": 101,
   "metadata": {},
   "outputs": [
    {
     "name": "stdout",
     "output_type": "stream",
     "text": [
      " System Variables      |  <OQ - Alarms Ve...> |  <OQ - Alarms Ve...>\r\n",
      "-------------------------------------------------------------------\r\n",
      "pH.CO2 I Time (min)   |              2.00000 |             10.00000\r\n",
      "pH.Base I Time (min)  |             10.00000 |             50.00000\r\n",
      "Safety.Max Level (L)  |              3.50000 |              4.00000\r\n",
      "\r\n",
      "\n"
     ]
    }
   ],
   "source": [
    "cmp(\"sysvars\", \"OQ - Alarms Verification.sys\", \"OQ - Alarms Verification.sys\")"
   ]
  },
  {
   "cell_type": "code",
   "execution_count": 103,
   "metadata": {},
   "outputs": [
    {
     "name": "stdout",
     "output_type": "stream",
     "text": [
      " Loggersettings identical:                'OQ - DO Verification.log', 'OQ - DO Verification.log'\r\n",
      "\r\n",
      "\n"
     ]
    }
   ],
   "source": [
    "cmp(\"loggersettings\", \"OQ - DO Verification.log\", \"OQ - DO Verification.log\")"
   ]
  },
  {
   "cell_type": "code",
   "execution_count": 105,
   "metadata": {},
   "outputs": [
    {
     "name": "stdout",
     "output_type": "stream",
     "text": [
      " Logger Settings  |  <OQ - pH Verifi...> |  <OQ - pH Verifi...>\r\n",
      "--------------------------------------------------------------\r\n",
      "pHModeActual     |                 0  T |                 1  T\r\n",
      "\r\n",
      "\n"
     ]
    }
   ],
   "source": [
    "cmp(\"loggersettings\", \"OQ - pH Verification.log\", \"OQ - pH Verification.log\")"
   ]
  },
  {
   "cell_type": "code",
   "execution_count": 108,
   "metadata": {},
   "outputs": [
    {
     "name": "stdout",
     "output_type": "stream",
     "text": [
      " Loggersettings identical:                'OQ - Temp Verification.log', 'OQ - Temp Verification.log'\r\n",
      "\r\n",
      "\n"
     ]
    }
   ],
   "source": [
    "cmp(\"loggersettings\", \"OQ - Temp Verification.log\", \"OQ - Temp Verification.log\")"
   ]
  },
  {
   "cell_type": "code",
   "execution_count": null,
   "metadata": {},
   "outputs": [],
   "source": []
  }
 ],
 "metadata": {
  "kernelspec": {
   "display_name": "Python 3",
   "language": "python",
   "name": "python3"
  },
  "language_info": {
   "codemirror_mode": {
    "name": "ipython",
    "version": 3
   },
   "file_extension": ".py",
   "mimetype": "text/x-python",
   "name": "python",
   "nbconvert_exporter": "python",
   "pygments_lexer": "ipython3",
   "version": "3.5.2"
  }
 },
 "nbformat": 4,
 "nbformat_minor": 2
}
