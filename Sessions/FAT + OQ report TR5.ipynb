{
 "cells": [
  {
   "cell_type": "code",
   "execution_count": 1,
   "metadata": {},
   "outputs": [],
   "source": [
    "from officelib.xllib import *"
   ]
  },
  {
   "cell_type": "code",
   "execution_count": 35,
   "metadata": {},
   "outputs": [],
   "source": [
    "def _stripify(c):\n",
    "    if c is None: return \"\"\n",
    "    t = c.strip().split(\" \")\n",
    "    return \" \".join(t[2:])\n",
    "\n",
    "def _unpack(row):\n",
    "    return [c or \"\" for c in row]\n",
    "\n",
    "def _parse_row(row):\n",
    "    feature, fd, req, test = _unpack(row)\n",
    "    feature = _stripify(feature)\n",
    "    test = _stripify(test)\n",
    "    return feature, test\n",
    "\n",
    "def _superfit(c):\n",
    "    c.ColumnWidth = 255\n",
    "    c.AutoFit()\n",
    "\n",
    "def _worksheet2(wb):\n",
    "    if wb.Worksheets.Count < 2:\n",
    "        return wb.Worksheets.Add()\n",
    "    return wb.Worksheets(2)\n",
    "    \n",
    "def xfer(xl, wb, ws, cells, cr):\n",
    "    # get data for copy to sheet2\n",
    "    tl = cr(\"A2\")\n",
    "    br = tl.End(xlc.xlDown).GetOffset(0, 3)\n",
    "\n",
    "    # (Feature, Functional Design, System Requirements, Test Cases)\n",
    "    data = cr(tl, br).Value2\n",
    "\n",
    "    from collections import defaultdict\n",
    "\n",
    "    # paste data\n",
    "    ws2 = _worksheet2(wb)\n",
    "    cr2 = ws2.Cells.Range\n",
    "    ws2.UsedRange.Clear()\n",
    "\n",
    "    fmap = defaultdict(set)\n",
    "    for row in data:\n",
    "        feature, test = _parse_row(row)\n",
    "        fmap[feature].add(test)\n",
    "    \n",
    "    paste_data = []\n",
    "    for feature, tests in fmap.items():\n",
    "        tests_list = \"\\n\".join(sorted(filter(None, tests)))\n",
    "        if not tests_list:\n",
    "            pass\n",
    "#             continue\n",
    "        row = (feature, tests_list)\n",
    "        paste_data.append(row)\n",
    "    \n",
    "    tl2 = cr2(\"A2\")\n",
    "    br2 = tl2.GetOffset(len(paste_data) - 1, len(paste_data[0]) - 1)\n",
    "    \n",
    "    cr2(tl2, br2).Value2 = paste_data\n",
    "    \n",
    "    cr2(\"A1:B1\").Value2 = [(\"Feature\", \"Factory & OQ Test Sections\")]\n",
    "    \n",
    "    for col in (1,2):\n",
    "        _superfit(ws2.Columns(col))\n",
    "    \n",
    "    ur = ws2.UsedRange\n",
    "    ur.Rows.AutoFit()\n",
    "    ur.VerticalAlignment = xlc.xlTop\n",
    "    "
   ]
  },
  {
   "cell_type": "code",
   "execution_count": 38,
   "metadata": {},
   "outputs": [],
   "source": [
    "def import_helix_mtrx(xl):\n",
    "    wb = xl.ActiveWorkbook\n",
    "    ws = wb.Worksheets(1)\n",
    "    cells = ws.Cells\n",
    "    cr = cells.Range\n",
    "\n",
    "    with screen_lock(xl):\n",
    "        xfer(xl, wb, ws, cells, cr)\n",
    "    \n",
    "xl = Excel()\n",
    "import_helix_mtrx(xl)"
   ]
  },
  {
   "cell_type": "code",
   "execution_count": null,
   "metadata": {},
   "outputs": [],
   "source": []
  }
 ],
 "metadata": {
  "kernelspec": {
   "display_name": "Python 3",
   "language": "python",
   "name": "python3"
  },
  "language_info": {
   "codemirror_mode": {
    "name": "ipython",
    "version": 3
   },
   "file_extension": ".py",
   "mimetype": "text/x-python",
   "name": "python",
   "nbconvert_exporter": "python",
   "pygments_lexer": "ipython3",
   "version": "3.8.2"
  }
 },
 "nbformat": 4,
 "nbformat_minor": 4
}
