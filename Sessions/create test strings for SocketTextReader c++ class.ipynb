{
 "cells": [
  {
   "cell_type": "code",
   "execution_count": 176,
   "metadata": {},
   "outputs": [],
   "source": [
    "import clipboard, io"
   ]
  },
  {
   "cell_type": "code",
   "execution_count": 177,
   "metadata": {},
   "outputs": [],
   "source": [
    "nouns = (\"puppy\", \"car\", \"rabbit\", \"girl\", \"monkey\")\n",
    "verbs = (\"runs\", \"hits\", \"jumps\", \"drives\", \"fucks\") \n",
    "adv = (\"crazily\", \"dutifully\", \"foolishly\", \"merrily\", \"occasionally\")\n",
    "adj = (\"adorable\", \"clueless\", \"dirty\", \"odd\", \"stupid\")\n",
    "\n",
    "articles = (\"A\", \"The\")\n",
    "pronouns = (\"who\", \"that\")\n",
    "\n",
    "\n",
    "import random\n",
    "def sentence(n):\n",
    "    parts = []\n",
    "#     parts.append(random.choice(articles))\n",
    "#     parts.append(random.choice(nouns))\n",
    "    for i in range(n):\n",
    "        if not i % 2:\n",
    "            part = \" \".join((random.choice(articles), random.choice(adj), random.choice(nouns)))\n",
    "        else:\n",
    "            part = \" \".join((random.choice(adv), random.choice(verbs)))\n",
    "        parts.append(part)\n",
    "    return \" \".join(parts)"
   ]
  },
  {
   "cell_type": "code",
   "execution_count": 178,
   "metadata": {},
   "outputs": [],
   "source": [
    "CR = 1\n",
    "LF = 2\n",
    "CRLF = 3\n",
    "UNI = 4\n",
    "EOLs = [\n",
    "    \"\",\n",
    "    \"CR\",\n",
    "    \"LF\",\n",
    "    \"CRLF\"\n",
    "]\n",
    "EOLs2 = {\n",
    "    \"CR\": CR,\n",
    "    \"LF\": LF,\n",
    "    \"CRLF\": CRLF\n",
    "}\n",
    "class StringStorage():\n",
    "    def __init__(self, eol, string, parts):\n",
    "        self.eol = eol\n",
    "        self.string = string\n",
    "        self.parts = parts"
   ]
  },
  {
   "cell_type": "code",
   "execution_count": 218,
   "metadata": {},
   "outputs": [],
   "source": [
    "def printr(s): print('\"', s, '\"', sep=\"\")\n",
    "    \n",
    "class Strings():\n",
    "    def __init__(self):\n",
    "        self.strings = []\n",
    "        self.maxn = 0\n",
    "        \n",
    "    def add(self, eol, s, frag):\n",
    "        ss = StringStorage(eol, s, frag)\n",
    "        self.strings.append(ss)\n",
    "        if (len(frag) > self.maxn):\n",
    "            self.maxn = len(frag)\n",
    "    def __len__(self):\n",
    "        return len(self.strings)\n",
    "    \n",
    "    def __iter__(self):\n",
    "        return iter(self.strings)\n",
    "\n",
    "\n",
    "def _readline_fix(line, eol):\n",
    "    if line.endswith(eol):\n",
    "        return line[:len(line)-len(eol)]\n",
    "    return line\n",
    "         \n",
    "def _flatten(ob, l):\n",
    "    for o in ob:\n",
    "        if isinstance(o, (tuple, list)):\n",
    "            _flatten(o, l)\n",
    "        else:\n",
    "            l.append(o)\n",
    "    \n",
    "def flatten(ob):\n",
    "    ret = []\n",
    "    _flatten(ob, ret)\n",
    "    return ret\n",
    "    \n",
    "def generate(n):\n",
    "    STRINGS = Strings()\n",
    "    for i in range(2):\n",
    "        slen = random.randint(1,3)\n",
    "        eol = \"\\r\", \"\\n\", \"\\r\\n\"\n",
    "        raw = sentence(slen)\n",
    "        for sep in eol:\n",
    "            s = raw.replace(\" \", sep)\n",
    "            for nl in \"\\r\", \"\\n\", \"\\r\\n\", None:\n",
    "                b = io.StringIO(s, nl)\n",
    "                if nl:\n",
    "                    fragments = s.split(nl)\n",
    "                else:\n",
    "                    fragments = s.split(\"\\r\\n\")\n",
    "                    for i in range(len(fragments)):\n",
    "                        fragments[i] = fragments[i].split(\"\\n\")\n",
    "                    for i in range(len(fragments)):\n",
    "                        for j in range(len(fragments[i])):\n",
    "                            fragments[i][j] = fragments[i][j].split(\"\\r\")\n",
    "                    fragments = flatten(fragments)\n",
    "                STRINGS.add(nl, s, fragments)\n",
    "    return STRINGS"
   ]
  },
  {
   "cell_type": "code",
   "execution_count": 219,
   "metadata": {},
   "outputs": [],
   "source": [
    "tmpl = \"\"\"const int MAXPARTS = %d;\n",
    "struct StringStorage {\n",
    "    EOL eol; int nparts;\n",
    "    const char *string;\n",
    "    const char *parts[MAXPARTS];\n",
    "};\n",
    "\n",
    "StringStorage strings[] = {\n",
    "    %s\n",
    "};\"\"\"\n",
    "\n",
    "def crepr(s):\n",
    "    return repr(s).replace(\"'\", '\"')\n",
    "\n",
    "\n",
    "    \n",
    "\n",
    "ssarr = []\n",
    "STRINGS = generate(2)\n",
    "for s in STRINGS:\n",
    "    st = crepr(s.string)\n",
    "    if s.eol == \"\\r\":\n",
    "        ieol = \"CR\"\n",
    "    elif s.eol == '\\n':\n",
    "        ieol = \"LF\"\n",
    "    elif s.eol == \"\\r\\n\":\n",
    "        ieol = \"CRLF\"\n",
    "    elif s.eol is None:\n",
    "        ieol = \"ANY\"\n",
    "    else:\n",
    "        raise ValueError(s.eol)\n",
    "    partsline = [crepr(p) for p in s.parts]\n",
    "    for _ in range(STRINGS.maxn - len(s.parts)):\n",
    "        partsline.append(\"0\")\n",
    "    parts = \", \".join(partsline)\n",
    "    ssarr.append(\"{EOL::%s,%s %d, %s, {%s}}\" % (ieol, \" \" * (4-len(ieol)), \n",
    "                                                len(s.parts), crepr(s.string), parts))"
   ]
  },
  {
   "cell_type": "code",
   "execution_count": 220,
   "metadata": {},
   "outputs": [
    {
     "name": "stdout",
     "output_type": "stream",
     "text": [
      "const int MAXPARTS = 3;\n",
      "struct StringStorage {\n",
      "    EOL eol; int nparts;\n",
      "    const char *string;\n",
      "    const char *parts[MAXPARTS];\n",
      "};\n",
      "\n",
      "StringStorage strings[] = {\n",
      "    {EOL::CR,   3, \"A\\radorable\\rpuppy\", {\"A\", \"adorable\", \"puppy\"}},\n",
      "    {EOL::LF,   1, \"A\\radorable\\rpuppy\", {\"A\\radorable\\rpuppy\", 0, 0}},\n",
      "    {EOL::CRLF, 1, \"A\\radorable\\rpuppy\", {\"A\\radorable\\rpuppy\", 0, 0}},\n",
      "    {EOL::ANY,  3, \"A\\radorable\\rpuppy\", {\"A\", \"adorable\", \"puppy\"}},\n",
      "    {EOL::CR,   1, \"A\\nadorable\\npuppy\", {\"A\\nadorable\\npuppy\", 0, 0}},\n",
      "    {EOL::LF,   3, \"A\\nadorable\\npuppy\", {\"A\", \"adorable\", \"puppy\"}},\n",
      "    {EOL::CRLF, 1, \"A\\nadorable\\npuppy\", {\"A\\nadorable\\npuppy\", 0, 0}},\n",
      "    {EOL::ANY,  3, \"A\\nadorable\\npuppy\", {\"A\", \"adorable\", \"puppy\"}},\n",
      "    {EOL::CR,   3, \"A\\r\\nadorable\\r\\npuppy\", {\"A\", \"\\nadorable\", \"\\npuppy\"}},\n",
      "    {EOL::LF,   3, \"A\\r\\nadorable\\r\\npuppy\", {\"A\\r\", \"adorable\\r\", \"puppy\"}},\n",
      "    {EOL::CRLF, 3, \"A\\r\\nadorable\\r\\npuppy\", {\"A\", \"adorable\", \"puppy\"}},\n",
      "    {EOL::ANY,  3, \"A\\r\\nadorable\\r\\npuppy\", {\"A\", \"adorable\", \"puppy\"}},\n",
      "    {EOL::CR,   3, \"A\\rdirty\\rgirl\", {\"A\", \"dirty\", \"girl\"}},\n",
      "    {EOL::LF,   1, \"A\\rdirty\\rgirl\", {\"A\\rdirty\\rgirl\", 0, 0}},\n",
      "    {EOL::CRLF, 1, \"A\\rdirty\\rgirl\", {\"A\\rdirty\\rgirl\", 0, 0}},\n",
      "    {EOL::ANY,  3, \"A\\rdirty\\rgirl\", {\"A\", \"dirty\", \"girl\"}},\n",
      "    {EOL::CR,   1, \"A\\ndirty\\ngirl\", {\"A\\ndirty\\ngirl\", 0, 0}},\n",
      "    {EOL::LF,   3, \"A\\ndirty\\ngirl\", {\"A\", \"dirty\", \"girl\"}},\n",
      "    {EOL::CRLF, 1, \"A\\ndirty\\ngirl\", {\"A\\ndirty\\ngirl\", 0, 0}},\n",
      "    {EOL::ANY,  3, \"A\\ndirty\\ngirl\", {\"A\", \"dirty\", \"girl\"}},\n",
      "    {EOL::CR,   3, \"A\\r\\ndirty\\r\\ngirl\", {\"A\", \"\\ndirty\", \"\\ngirl\"}},\n",
      "    {EOL::LF,   3, \"A\\r\\ndirty\\r\\ngirl\", {\"A\\r\", \"dirty\\r\", \"girl\"}},\n",
      "    {EOL::CRLF, 3, \"A\\r\\ndirty\\r\\ngirl\", {\"A\", \"dirty\", \"girl\"}},\n",
      "    {EOL::ANY,  3, \"A\\r\\ndirty\\r\\ngirl\", {\"A\", \"dirty\", \"girl\"}}\n",
      "};\n"
     ]
    }
   ],
   "source": [
    "strings = \",\\n    \".join(ssarr)\n",
    "result = tmpl % (STRINGS.maxn, strings)\n",
    "print(result)\n",
    "clipboard.copy(result)"
   ]
  },
  {
   "cell_type": "code",
   "execution_count": 206,
   "metadata": {},
   "outputs": [
    {
     "data": {
      "text/plain": [
       "['A\\r', '\\r', 'odd\\r', '\\r', 'monkey']"
      ]
     },
     "execution_count": 206,
     "metadata": {},
     "output_type": "execute_result"
    }
   ],
   "source": [
    "io.StringIO(\"A\\r\\nodd\\r\\nmonkey\", \"\\r\").readlines()"
   ]
  },
  {
   "cell_type": "code",
   "execution_count": null,
   "metadata": {},
   "outputs": [],
   "source": []
  }
 ],
 "metadata": {
  "kernelspec": {
   "display_name": "Python 3",
   "language": "python",
   "name": "python3"
  },
  "language_info": {
   "codemirror_mode": {
    "name": "ipython",
    "version": 3
   },
   "file_extension": ".py",
   "mimetype": "text/x-python",
   "name": "python",
   "nbconvert_exporter": "python",
   "pygments_lexer": "ipython3",
   "version": "3.5.2"
  }
 },
 "nbformat": 4,
 "nbformat_minor": 2
}
