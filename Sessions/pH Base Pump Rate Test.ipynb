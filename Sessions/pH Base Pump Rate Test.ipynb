{
 "cells": [
  {
   "cell_type": "code",
   "execution_count": 9,
   "metadata": {
    "collapsed": true
   },
   "outputs": [],
   "source": [
    "from hello.hello3 import HelloApp\n",
    "import time\n",
    "time_time = time.time"
   ]
  },
  {
   "cell_type": "code",
   "execution_count": 10,
   "metadata": {
    "collapsed": false
   },
   "outputs": [
    {
     "data": {
      "text/plain": [
       "True"
      ]
     },
     "execution_count": 10,
     "metadata": {},
     "output_type": "execute_result"
    }
   ],
   "source": [
    "h = HelloApp('71.189.82.196:88')\n",
    "h.login()"
   ]
  },
  {
   "cell_type": "code",
   "execution_count": 11,
   "metadata": {
    "collapsed": true
   },
   "outputs": [],
   "source": [
    "def call_time(func, *args):\n",
    "    start = time_time()\n",
    "    func(*args)\n",
    "    end = time_time()\n",
    "    ave = (end + start) / 2\n",
    "    return ave"
   ]
  },
  {
   "cell_type": "code",
   "execution_count": 12,
   "metadata": {
    "collapsed": false
   },
   "outputs": [
    {
     "data": {
      "text/plain": [
       "5"
      ]
     },
     "execution_count": 12,
     "metadata": {},
     "output_type": "execute_result"
    }
   ],
   "source": [
    "t1 = call_time(h.login)\n",
    "time.sleep(5)\n",
    "t2 = call_time(h.login)\n",
    "\n",
    "int(t2-t1)"
   ]
  },
  {
   "cell_type": "code",
   "execution_count": 21,
   "metadata": {
    "collapsed": false
   },
   "outputs": [
    {
     "name": "stdout",
     "output_type": "stream",
     "text": [
      "Press Enter to End Test\n",
      "Time: 132.7 seconds\n"
     ]
    }
   ],
   "source": [
    "test(10)"
   ]
  },
  {
   "cell_type": "code",
   "execution_count": 66,
   "metadata": {
    "collapsed": true
   },
   "outputs": [],
   "source": [
    "def _hms(t):\n",
    "    h = t // 3600\n",
    "    m = (t % 3600) // 60\n",
    "    s = t - 3600*h - 60*m\n",
    "    return h,m,s"
   ]
  },
  {
   "cell_type": "code",
   "execution_count": 67,
   "metadata": {
    "collapsed": false
   },
   "outputs": [],
   "source": [
    "def hms(t):\n",
    "    return \"%d:%.2d:%.1f\" % (_hms(t))"
   ]
  },
  {
   "cell_type": "code",
   "execution_count": 75,
   "metadata": {
    "collapsed": true
   },
   "outputs": [],
   "source": [
    "import tkinter as tk\n",
    "def stopwatch(start):\n",
    "    root = tk.Tk()\n",
    "    \n",
    "    def cmd():\n",
    "        root.destroy()\n",
    "    def update():\n",
    "        display.config(text=hms(time_time()-start))\n",
    "        root.after(100, update)\n",
    "    root.after(100, update)\n",
    "    root.wm_title(\"Base Test\")\n",
    "    display = tk.Label(root, text=\"\")\n",
    "    button = tk.Button(root, text=\"Stop Test\", command=cmd)\n",
    "    button.focus()\n",
    "    button.bind(\"<Return>\", lambda e=None: button.invoke())\n",
    "    display.grid(column=0, row=0)\n",
    "    button.grid(column=0, row=1)\n",
    "    root.mainloop()"
   ]
  },
  {
   "cell_type": "code",
   "execution_count": 71,
   "metadata": {
    "collapsed": true
   },
   "outputs": [],
   "source": [
    "def test(pc):\n",
    "    global start, end\n",
    "    h.login()\n",
    "    start = call_time(h.setph, 1, 0, pc)\n",
    "    stopwatch(start)\n",
    "    h.login()\n",
    "    end = call_time(h.setph, 2, 0, pc)\n",
    "    print(\"Time: %.1f seconds\" % (end - start))\n",
    "    "
   ]
  },
  {
   "cell_type": "code",
   "execution_count": 72,
   "metadata": {
    "collapsed": false
   },
   "outputs": [
    {
     "name": "stdout",
     "output_type": "stream",
     "text": [
      "Time: 180.8 seconds\n"
     ]
    }
   ],
   "source": [
    "test(10)"
   ]
  },
  {
   "cell_type": "code",
   "execution_count": 73,
   "metadata": {
    "collapsed": false
   },
   "outputs": [
    {
     "name": "stdout",
     "output_type": "stream",
     "text": [
      "Time: 95.3 seconds\n"
     ]
    }
   ],
   "source": [
    "test(20)"
   ]
  },
  {
   "cell_type": "code",
   "execution_count": 74,
   "metadata": {
    "collapsed": false
   },
   "outputs": [
    {
     "name": "stdout",
     "output_type": "stream",
     "text": [
      "Time: 69.5 seconds\n"
     ]
    }
   ],
   "source": [
    "test(30)"
   ]
  },
  {
   "cell_type": "code",
   "execution_count": 76,
   "metadata": {
    "collapsed": false
   },
   "outputs": [
    {
     "name": "stdout",
     "output_type": "stream",
     "text": [
      "Time: 51.5 seconds\n"
     ]
    }
   ],
   "source": [
    "test(40)"
   ]
  },
  {
   "cell_type": "code",
   "execution_count": 78,
   "metadata": {
    "collapsed": false
   },
   "outputs": [
    {
     "name": "stdout",
     "output_type": "stream",
     "text": [
      "Time: 39.5 seconds\n"
     ]
    }
   ],
   "source": [
    "test(50)"
   ]
  },
  {
   "cell_type": "code",
   "execution_count": 79,
   "metadata": {
    "collapsed": false
   },
   "outputs": [
    {
     "name": "stdout",
     "output_type": "stream",
     "text": [
      "Time: 36.7 seconds\n"
     ]
    }
   ],
   "source": [
    "test(60)"
   ]
  },
  {
   "cell_type": "code",
   "execution_count": 80,
   "metadata": {
    "collapsed": false
   },
   "outputs": [
    {
     "name": "stdout",
     "output_type": "stream",
     "text": [
      "Time: 34.3 seconds\n"
     ]
    }
   ],
   "source": [
    "test(70)"
   ]
  },
  {
   "cell_type": "code",
   "execution_count": 81,
   "metadata": {
    "collapsed": false
   },
   "outputs": [
    {
     "name": "stdout",
     "output_type": "stream",
     "text": [
      "Time: 34.1 seconds\n"
     ]
    }
   ],
   "source": [
    "test(80)"
   ]
  },
  {
   "cell_type": "code",
   "execution_count": 82,
   "metadata": {
    "collapsed": false
   },
   "outputs": [
    {
     "name": "stdout",
     "output_type": "stream",
     "text": [
      "Time: 32.1 seconds\n"
     ]
    }
   ],
   "source": [
    "test(90)"
   ]
  },
  {
   "cell_type": "code",
   "execution_count": 83,
   "metadata": {
    "collapsed": false
   },
   "outputs": [
    {
     "name": "stdout",
     "output_type": "stream",
     "text": [
      "Time: 30.5 seconds\n"
     ]
    }
   ],
   "source": [
    "test(100)"
   ]
  },
  {
   "cell_type": "code",
   "execution_count": null,
   "metadata": {
    "collapsed": true
   },
   "outputs": [],
   "source": []
  }
 ],
 "metadata": {
  "kernelspec": {
   "display_name": "Python 3",
   "language": "python",
   "name": "python3"
  },
  "language_info": {
   "codemirror_mode": {
    "name": "ipython",
    "version": 3
   },
   "file_extension": ".py",
   "mimetype": "text/x-python",
   "name": "python",
   "nbconvert_exporter": "python",
   "pygments_lexer": "ipython3",
   "version": "3.5.2"
  }
 },
 "nbformat": 4,
 "nbformat_minor": 1
}
