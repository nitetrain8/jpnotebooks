{
 "cells": [
  {
   "cell_type": "code",
   "execution_count": 1,
   "metadata": {},
   "outputs": [],
   "source": [
    "import os\n",
    "from clipboard import *\n",
    "import PyPDF2"
   ]
  },
  {
   "cell_type": "code",
   "execution_count": 3,
   "metadata": {},
   "outputs": [],
   "source": [
    "fd = 'C:\\\\Users\\\\Nathan\\\\Documents\\\\PBS\\\\IQOQ'\n",
    "os.chdir(fd)\n",
    "files = os.listdir()\n",
    "fp = files[0]"
   ]
  },
  {
   "cell_type": "code",
   "execution_count": 37,
   "metadata": {},
   "outputs": [
    {
     "name": "stdout",
     "output_type": "stream",
     "text": [
      "Found comment on page 3\n",
      "Found comment on page 3\n",
      "Found comment on page 3\n",
      "Found comment on page 4\n",
      "Found comment on page 4\n",
      "Found comment on page 5\n",
      "Found comment on page 7\n",
      "Found comment on page 7\n",
      "Found comment on page 8\n",
      "Found comment on page 8\n",
      "Found comment on page 8\n",
      "Found comment on page 8\n",
      "Found comment on page 9\n",
      "Found comment on page 9\n",
      "Found comment on page 9\n",
      "Found comment on page 9\n",
      "Found comment on page 9\n",
      "Found comment on page 9\n",
      "Found comment on page 10\n",
      "Found comment on page 10\n",
      "Found comment on page 10\n",
      "Found comment on page 11\n",
      "Found comment on page 11\n",
      "Found comment on page 11\n",
      "Found comment on page 11\n",
      "Found comment on page 11\n",
      "Found comment on page 12\n",
      "Found comment on page 13\n",
      "Found comment on page 14\n",
      "Found comment on page 16\n",
      "Found comment on page 16\n",
      "Found comment on page 18\n",
      "Found comment on page 39\n",
      "Found comment on page 54\n"
     ]
    }
   ],
   "source": [
    "comments = []\n",
    "with open(fp, 'rb') as f:\n",
    "    r = PyPDF2.PdfFileReader(f)\n",
    "    for i, p in enumerate(r.pages, 1):\n",
    "        annots = p.get('/Annots')\n",
    "        if annots:\n",
    "            if isinstance(annots, PyPDF2.generic.IndirectObject):\n",
    "                annots = annots.getObject()\n",
    "            for o in annots:\n",
    "                ob = o.getObject()\n",
    "                if ob['/Subtype'] == '/Text':\n",
    "                    print(\"Found comment on page %d\" % i)\n",
    "                    comments.append((i, ob['/Contents']))"
   ]
  },
  {
   "cell_type": "code",
   "execution_count": 38,
   "metadata": {},
   "outputs": [],
   "source": [
    "from officelib.wordlib import *\n",
    "wdc = c\n",
    "\n",
    "def wtype(r, text):\n",
    "    r.Text = text\n",
    "    r.MoveStart(wdc.wdCharacter, len(text))"
   ]
  },
  {
   "cell_type": "code",
   "execution_count": 39,
   "metadata": {},
   "outputs": [],
   "source": [
    "w = Word()\n",
    "d = w.Documents.Add()\n",
    "r = d.Paragraphs(1).Range"
   ]
  },
  {
   "cell_type": "code",
   "execution_count": 40,
   "metadata": {},
   "outputs": [],
   "source": [
    "for pg, cmnt in comments:\n",
    "    wtype(r, \"Page %d: %s\\n\"%(pg, cmnt))"
   ]
  },
  {
   "cell_type": "code",
   "execution_count": null,
   "metadata": {},
   "outputs": [],
   "source": []
  }
 ],
 "metadata": {
  "kernelspec": {
   "display_name": "Python 3",
   "language": "python",
   "name": "python3"
  },
  "language_info": {
   "codemirror_mode": {
    "name": "ipython",
    "version": 3
   },
   "file_extension": ".py",
   "mimetype": "text/x-python",
   "name": "python",
   "nbconvert_exporter": "python",
   "pygments_lexer": "ipython3",
   "version": "3.5.2"
  }
 },
 "nbformat": 4,
 "nbformat_minor": 2
}
