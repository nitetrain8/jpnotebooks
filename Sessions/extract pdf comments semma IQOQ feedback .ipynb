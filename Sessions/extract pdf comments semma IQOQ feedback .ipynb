{
 "cells": [
  {
   "cell_type": "code",
   "execution_count": 42,
   "metadata": {},
   "outputs": [],
   "source": [
    "import os\n",
    "from clipboard import *\n",
    "import PyPDF2"
   ]
  },
  {
   "cell_type": "code",
   "execution_count": 47,
   "metadata": {},
   "outputs": [
    {
     "data": {
      "text/plain": [
       "'IS00044 C-draft - PBS 3 MAG Operational Qualification 181023.pdf'"
      ]
     },
     "execution_count": 47,
     "metadata": {},
     "output_type": "execute_result"
    }
   ],
   "source": [
    "fd = 'C:\\\\Users\\\\Nathan\\\\Documents\\\\PBS\\\\IQOQ'\n",
    "os.chdir(fd)\n",
    "files = [f for f in os.listdir() if \"IS000\" in f]\n",
    "fp = files[1]\n",
    "fp"
   ]
  },
  {
   "cell_type": "code",
   "execution_count": 48,
   "metadata": {},
   "outputs": [
    {
     "name": "stdout",
     "output_type": "stream",
     "text": [
      "Found comment on page 4\n",
      "Found comment on page 4\n",
      "Found comment on page 4\n",
      "Found comment on page 4\n",
      "Found comment on page 4\n",
      "Found comment on page 6\n",
      "Found comment on page 7\n",
      "Found comment on page 7\n",
      "Found comment on page 8\n",
      "Found comment on page 9\n",
      "Found comment on page 12\n",
      "Found comment on page 22\n",
      "Found comment on page 22\n",
      "Found comment on page 23\n",
      "Found comment on page 26\n",
      "Found comment on page 26\n",
      "Found comment on page 26\n",
      "Found comment on page 29\n",
      "Found comment on page 47\n"
     ]
    }
   ],
   "source": [
    "comments = []\n",
    "with open(fp, 'rb') as f:\n",
    "    r = PyPDF2.PdfFileReader(f)\n",
    "    for i, p in enumerate(r.pages, 1):\n",
    "        annots = p.get('/Annots')\n",
    "        if annots:\n",
    "            if isinstance(annots, PyPDF2.generic.IndirectObject):\n",
    "                annots = annots.getObject()\n",
    "            for o in annots:\n",
    "                ob = o.getObject()\n",
    "                if ob['/Subtype'] == '/Text':\n",
    "                    print(\"Found comment on page %d\" % i)\n",
    "                    comments.append((i, ob['/Contents']))"
   ]
  },
  {
   "cell_type": "code",
   "execution_count": 49,
   "metadata": {},
   "outputs": [],
   "source": [
    "from officelib.wordlib import *\n",
    "wdc = c\n",
    "\n",
    "def wtype(r, text):\n",
    "    r.Text = text\n",
    "    r.MoveStart(wdc.wdCharacter, len(text))"
   ]
  },
  {
   "cell_type": "code",
   "execution_count": 50,
   "metadata": {},
   "outputs": [],
   "source": [
    "w = Word()\n",
    "d = w.Documents.Add()\n",
    "r = d.Paragraphs(1).Range"
   ]
  },
  {
   "cell_type": "code",
   "execution_count": 51,
   "metadata": {},
   "outputs": [],
   "source": [
    "for pg, cmnt in comments:\n",
    "    wtype(r, \"Page %d: %s\\n\"%(pg, cmnt))"
   ]
  },
  {
   "cell_type": "code",
   "execution_count": null,
   "metadata": {},
   "outputs": [],
   "source": []
  }
 ],
 "metadata": {
  "kernelspec": {
   "display_name": "Python 3",
   "language": "python",
   "name": "python3"
  },
  "language_info": {
   "codemirror_mode": {
    "name": "ipython",
    "version": 3
   },
   "file_extension": ".py",
   "mimetype": "text/x-python",
   "name": "python",
   "nbconvert_exporter": "python",
   "pygments_lexer": "ipython3",
   "version": "3.5.2"
  }
 },
 "nbformat": 4,
 "nbformat_minor": 2
}
