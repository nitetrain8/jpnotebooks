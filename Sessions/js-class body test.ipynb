{
 "cells": [
  {
   "cell_type": "code",
   "execution_count": 5,
   "metadata": {},
   "outputs": [
    {
     "ename": "SyntaxError",
     "evalue": "Unexpected identifier",
     "output_type": "error",
     "traceback": [
      "evalmachine.<anonymous>:2",
      "    var self = this;",
      "        ^^^^",
      "",
      "SyntaxError: Unexpected identifier",
      "    at new Script (vm.js:74:7)",
      "    at createScript (vm.js:246:10)",
      "    at Object.runInThisContext (vm.js:298:10)",
      "    at run ([eval]:1054:15)",
      "    at onRunRequest ([eval]:888:18)",
      "    at onMessage ([eval]:848:13)",
      "    at process.emit (events.js:182:13)",
      "    at emit (internal/child_process.js:807:12)",
      "    at process._tickCallback (internal/process/next_tick.js:63:19)"
     ]
    }
   ],
   "source": [
    "class Test {\n",
    "    var self = this;\n",
    "    constructor(){}\n",
    "}"
   ]
  },
  {
   "cell_type": "code",
   "execution_count": null,
   "metadata": {},
   "outputs": [],
   "source": []
  }
 ],
 "metadata": {
  "kernelspec": {
   "display_name": "Javascript (Node.js)",
   "language": "javascript",
   "name": "javascript"
  },
  "language_info": {
   "file_extension": ".js",
   "mimetype": "application/javascript",
   "name": "javascript",
   "version": "10.1.0"
  }
 },
 "nbformat": 4,
 "nbformat_minor": 2
}
