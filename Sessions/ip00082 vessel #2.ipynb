{
 "cells": [
  {
   "cell_type": "code",
   "execution_count": 2,
   "metadata": {
    "collapsed": true
   },
   "outputs": [],
   "source": [
    "from officelib.xllib import *\n",
    "import os"
   ]
  },
  {
   "cell_type": "code",
   "execution_count": 44,
   "metadata": {},
   "outputs": [],
   "source": [
    "files = [\n",
    "    (\"2019022612591216.csv\", \"Vessel #2 Test #1\"),\n",
    "    (\"2019022613354663.csv\", \"Vessel #2 Test #2\"),\n",
    "    (\"2019022613400888.csv\", \"Vessel #2 Test #3\")\n",
    "]\n",
    "def getfp(f):\n",
    "    return os.path.join(\"C:\\\\users\\\\natha\\\\downloads\", f)"
   ]
  },
  {
   "cell_type": "code",
   "execution_count": 45,
   "metadata": {},
   "outputs": [],
   "source": [
    "def data_range(c1):\n",
    "    tl = c1.GetOffset(1, 0)\n",
    "    bl = tl.End(xlc.xlDown)\n",
    "    tr = tl.GetOffset(0, 1)\n",
    "    br = bl.GetOffset(0, 1)\n",
    "    return tl, bl, tr, br\n",
    "\n",
    "def plotfull(c1, name=\"\", title=\"\"):\n",
    "    tl, bl, tr, br = data_range(c1)\n",
    "    ch = CreateChart(ws)\n",
    "    CreateDataSeries(ch, cr(tl, bl), cr(tr, br), name)\n",
    "    FormatChart(ch, None, title, \"Date\", name, Legend=False)\n",
    "    ch.Parent.Width = 622.6\n",
    "    ch.Parent.Height = 369.56\n",
    "    return ch"
   ]
  },
  {
   "cell_type": "code",
   "execution_count": 46,
   "metadata": {},
   "outputs": [],
   "source": [
    "xl = Excel()\n",
    "\n",
    "with screen_lock(xl):\n",
    "    for f,t in files:\n",
    "        wb = xl.Workbooks.Open(getfp(f))\n",
    "        ws = wb.Worksheets(1)\n",
    "        cells = ws.Cells\n",
    "        cr = cells.Range\n",
    "        dopv = cells.Find(\"DOPV(%)\", SearchOrder=xlc.xlByRows)\n",
    "        phpv = cells.Find(\"pHPV\", SearchOrder=xlc.xlByRows)\n",
    "\n",
    "        fmt = \"%s: %s\"\n",
    "        ch1 = plotfull(dopv, \"DOPV(%)\", fmt % (t, \"Dissolved Oxygen\"))\n",
    "        ch2 = plotfull(phpv, \"pHPH\", fmt % (t, \"pH\"))\n",
    "        ch2.Parent.Left = ch1.Parent.Left + ch1.Parent.Width + 20\n",
    "        "
   ]
  },
  {
   "cell_type": "code",
   "execution_count": 51,
   "metadata": {},
   "outputs": [],
   "source": [
    "for wb in xl.Workbooks:\n",
    "    ws = wb.Worksheets(1)\n",
    "    for co in ws.ChartObjects():\n",
    "        co.Chart.PrintOut()"
   ]
  },
  {
   "cell_type": "code",
   "execution_count": null,
   "metadata": {
    "collapsed": true
   },
   "outputs": [],
   "source": []
  }
 ],
 "metadata": {
  "kernelspec": {
   "display_name": "Python 3",
   "language": "python",
   "name": "python3"
  },
  "language_info": {
   "codemirror_mode": {
    "name": "ipython",
    "version": 3
   },
   "file_extension": ".py",
   "mimetype": "text/x-python",
   "name": "python",
   "nbconvert_exporter": "python",
   "pygments_lexer": "ipython3",
   "version": "3.5.0"
  }
 },
 "nbformat": 4,
 "nbformat_minor": 2
}
