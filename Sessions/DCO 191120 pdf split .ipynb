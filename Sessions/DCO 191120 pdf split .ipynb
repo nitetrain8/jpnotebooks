{
 "cells": [
  {
   "cell_type": "code",
   "execution_count": 10,
   "metadata": {},
   "outputs": [],
   "source": [
    "import os, pdfrw, shutil, clipboard\n",
    "os.chdir('Z:\\\\Document Control\\\\Document Change Orders (DCOs)\\\\DCO 1911XX')"
   ]
  },
  {
   "cell_type": "code",
   "execution_count": 6,
   "metadata": {},
   "outputs": [],
   "source": [
    "pdfs = [\n",
    "    ('DCO', '1-6'),\n",
    "    ('IS00043_Verif', '7-56'),\n",
    "    ('IA-3-BQ-004_Redline', '57'),\n",
    "    ('IA-3-BQ-005_Redline', '58'),\n",
    "    ('IF00127_Redline', '59-59'),\n",
    "    ('IL00357_Redline', '70-78'),\n",
    "    ('IM00231_Redline', '79-93'),\n",
    "    ('IM00240_Redline', '94-99'),\n",
    "    ('IQ00115_Redline', '100-107'),\n",
    "    ('IS00043_Redline', '108-222'),\n",
    "    ('IS00044_Redline', '223-363'),\n",
    "    ('IA-3-BQ-004_RevC_Superceded', '364-365'),\n",
    "    ('IA-3-BQ-005_RevA_Superceded', '366'),\n",
    "    ('IL00357_RevA_Superceded', '367-371'),\n",
    "    ('IM00231_RevC_Superceded', '372-382'),\n",
    "    ('IM00240_RevA_Superceded', '383-387'),\n",
    "    ('IQ00115_RevA_Superceded', '388-392'),\n",
    "    ('IS00043_RevE_Superceded', '393-458'),\n",
    "    ('IS00044_RevE_Superceded', '459-530')\n",
    "]"
   ]
  },
  {
   "cell_type": "code",
   "execution_count": 11,
   "metadata": {},
   "outputs": [
    {
     "name": "stdout",
     "output_type": "stream",
     "text": [
      "creating DCO.pdf\n",
      "creating IS00043_Verif.pdf\n",
      "creating IA-3-BQ-004_Redline.pdf\n",
      "creating IA-3-BQ-005_Redline.pdf\n",
      "creating IF00127_Redline.pdf\n",
      "creating IL00357_Redline.pdf\n",
      "creating IM00231_Redline.pdf\n",
      "creating IM00240_Redline.pdf\n",
      "creating IQ00115_Redline.pdf\n",
      "creating IS00043_Redline.pdf\n",
      "creating IS00044_Redline.pdf\n",
      "creating IA-3-BQ-004_RevC_Superceded.pdf\n",
      "creating IA-3-BQ-005_RevA_Superceded.pdf\n",
      "creating IL00357_RevA_Superceded.pdf\n",
      "creating IM00231_RevC_Superceded.pdf\n",
      "creating IM00240_RevA_Superceded.pdf\n",
      "creating IQ00115_RevA_Superceded.pdf\n",
      "creating IS00043_RevE_Superceded.pdf\n",
      "creating IS00044_RevE_Superceded.pdf\n"
     ]
    }
   ],
   "source": [
    "outd = \"C:\\\\Users\\\\Nathan\\\\Documents\\\\Personal\\\\test\\\\dco_191120_split\"\n",
    "try:\n",
    "    shutil.rmtree(outd)\n",
    "except FileNotFoundError:\n",
    "    pass\n",
    "os.makedirs(outd, exist_ok=True)\n",
    "\n",
    "src = pdfrw.PdfFileReader(\"DCO 191120.pdf\")\n",
    "\n",
    "print(\"finished opening source file,beginning split...\")\n",
    "\n",
    "for fn, rng in pdfs:\n",
    "    fname = \"%s\\\\%s.pdf\"%(outd,fn)\n",
    "    print(\"creating %s.pdf\"%fn)\n",
    "    dst = pdfrw.PdfFileWriter(fname)\n",
    "    ranges = rng.split(\",\")\n",
    "    for r in ranges:\n",
    "        if \"-\" in r:\n",
    "            a,b = r.split(\"-\")\n",
    "        else:\n",
    "            a = r\n",
    "            b = r\n",
    "        for page in range(int(a), int(b)+1):\n",
    "            p = src.getPage(page-1)\n",
    "            dst.addPage(p)\n",
    "    dst.write()\n",
    "    \n",
    "del dst\n",
    "del src"
   ]
  },
  {
   "cell_type": "code",
   "execution_count": null,
   "metadata": {},
   "outputs": [],
   "source": []
  }
 ],
 "metadata": {
  "kernelspec": {
   "display_name": "Python 3",
   "language": "python",
   "name": "python3"
  },
  "language_info": {
   "codemirror_mode": {
    "name": "ipython",
    "version": 3
   },
   "file_extension": ".py",
   "mimetype": "text/x-python",
   "name": "python",
   "nbconvert_exporter": "python",
   "pygments_lexer": "ipython3",
   "version": "3.5.2"
  }
 },
 "nbformat": 4,
 "nbformat_minor": 2
}
