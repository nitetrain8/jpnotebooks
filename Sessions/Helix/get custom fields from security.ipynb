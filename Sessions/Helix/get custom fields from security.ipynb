{
 "cells": [
  {
   "cell_type": "code",
   "execution_count": 1,
   "metadata": {},
   "outputs": [],
   "source": [
    "import os\n",
    "from lxml import etree as lxml\n",
    "import zipfile, itertools\n",
    "import io\n",
    "from officelib.xllib import *"
   ]
  },
  {
   "cell_type": "code",
   "execution_count": 2,
   "metadata": {},
   "outputs": [],
   "source": [
    "os.chdir(\"C:\\\\Users\\\\Nathan\\\\Downloads\")"
   ]
  },
  {
   "cell_type": "code",
   "execution_count": 3,
   "metadata": {},
   "outputs": [],
   "source": [
    "def load_xml(z):\n",
    "    with z.open(\"archive_manifest.xml\", 'r') as f:\n",
    "        tree = lxml.parse(f)\n",
    "    return tree\n",
    "\n",
    "def load_zip(file):\n",
    "    return zipfile.ZipFile(file)"
   ]
  },
  {
   "cell_type": "code",
   "execution_count": 4,
   "metadata": {},
   "outputs": [],
   "source": [
    "tree = lxml.parse(\"test\\\\ViewOnlySecurity.xml\")\n",
    "root = tree.getroot()\n",
    "for c in root.findall(\"security-group\"):\n",
    "    if c.find(\"name\").text == \"View\":\n",
    "        break\n",
    "else:\n",
    "    raise ValueError(\"oops\")"
   ]
  },
  {
   "cell_type": "code",
   "execution_count": 5,
   "metadata": {},
   "outputs": [],
   "source": [
    "xl = Excel()\n",
    "wb = None\n",
    "_wb = None\n",
    "for _wb in xl.Workbooks:\n",
    "    if _wb.Name == \"helix_security.xlsx\":\n",
    "        wb = _wb\n",
    "        break\n",
    "del _wb\n",
    "if wb is None:\n",
    "    wb = xl.Workbooks.Add()\n",
    "    wb.Name = \"helix_security.xlsx\"\n",
    "ws = wb.Worksheets(1)\n",
    "cells = ws.Cells\n",
    "cr = cells.Range\n",
    "\n",
    "def switch_sheet(id):\n",
    "    global ws, cells, cr\n",
    "    ws = wb.Worksheets(id)\n",
    "    cells = ws.Cells\n",
    "    cr = cells.Range"
   ]
  },
  {
   "cell_type": "code",
   "execution_count": 6,
   "metadata": {},
   "outputs": [],
   "source": [
    "def paste(cell, data):\n",
    "    c2 = cell.GetOffset(len(data) - 1, len(data[0]) - 1)\n",
    "    target = cell.Range(cell, c2)\n",
    "    target.NumberFormat = \"@\"\n",
    "    target.Value = data\n",
    "    "
   ]
  },
  {
   "cell_type": "code",
   "execution_count": 31,
   "metadata": {},
   "outputs": [],
   "source": [
    "out = []\n",
    "\n",
    "def_fields_elem = root.xpath(\"security-group/field-security/field-type[@name=\\\"Artifacts\\\"]/field-subtype[@name=\\\"Default\\\"]/field-category[@name=\\\"Custom Fields\\\"]\")[0]\n",
    "for e in root.xpath(\"security-group/field-security/field-type[@name=\\\"Artifacts\\\"]/field-subtype[@override-default]\"):\n",
    "    if e.attrib['name'] == 'Default':\n",
    "        continue\n",
    "    thelist = []\n",
    "    out.append(thelist)\n",
    "    thelist.append(e.attrib['name'])\n",
    "    custom_fields = e.xpath(\"./field-category[@name=\\\"Custom Fields\\\"]\")[0]\n",
    "    for field in custom_fields:\n",
    "        if field.attrib['onAdd'] != field.attrib['onEdit']:\n",
    "            raise ValueError(\"???\")\n",
    "        if field.attrib['onAdd'] != 'Hidden':\n",
    "            thelist.append(field.text)\n",
    "        \n",
    "    \n",
    "        "
   ]
  },
  {
   "cell_type": "code",
   "execution_count": 33,
   "metadata": {},
   "outputs": [],
   "source": [
    "from itertools import zip_longest"
   ]
  },
  {
   "cell_type": "code",
   "execution_count": 34,
   "metadata": {},
   "outputs": [],
   "source": [
    "data = list(zip_longest(*out))\n",
    "paste(cr(\"A1\"),data)"
   ]
  },
  {
   "cell_type": "code",
   "execution_count": null,
   "metadata": {},
   "outputs": [],
   "source": []
  }
 ],
 "metadata": {
  "kernelspec": {
   "display_name": "Python 3",
   "language": "python",
   "name": "python3"
  },
  "language_info": {
   "codemirror_mode": {
    "name": "ipython",
    "version": 3
   },
   "file_extension": ".py",
   "mimetype": "text/x-python",
   "name": "python",
   "nbconvert_exporter": "python",
   "pygments_lexer": "ipython3",
   "version": "3.5.2"
  }
 },
 "nbformat": 4,
 "nbformat_minor": 2
}
