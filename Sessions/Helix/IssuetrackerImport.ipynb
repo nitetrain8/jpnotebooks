{
 "cells": [
  {
   "cell_type": "code",
   "execution_count": 1,
   "metadata": {},
   "outputs": [],
   "source": [
    "import os\n",
    "from lxml import etree as lxml\n",
    "import zipfile, itertools\n",
    "import io"
   ]
  },
  {
   "cell_type": "code",
   "execution_count": 2,
   "metadata": {},
   "outputs": [],
   "source": [
    "def load_xml(z):\n",
    "    with z.open(\"archive_manifest.xml\", 'r') as f:\n",
    "        tree = lxml.parse(f)\n",
    "    return tree\n",
    "\n",
    "def load_zip(file):\n",
    "    return zipfile.ZipFile(file)"
   ]
  },
  {
   "cell_type": "code",
   "execution_count": 9,
   "metadata": {},
   "outputs": [],
   "source": [
    "def docopy(q, z1, z2):\n",
    "    for file in q:\n",
    "        docopy_inner(file, z1, z2)\n",
    "\n",
    "def docopy_inner(file, z1, z2):\n",
    "    print(\"Copying attachment '%s'...\"%file, end=\"\")\n",
    "    with z1.open(file, 'r') as src:\n",
    "        z2.writestr(file, src.read())\n",
    "        print(\"Done\")"
   ]
  },
  {
   "cell_type": "code",
   "execution_count": 3,
   "metadata": {},
   "outputs": [],
   "source": [
    "from scripts.tools.redmine_cache import RedmineClient\n",
    "_client = None\n",
    "\n",
    "def _get_client():\n",
    "    global _client\n",
    "    if _client is None:\n",
    "        _client = RedmineClient()\n",
    "    return _client\n",
    "def _download_issues():\n",
    "    _client = _get_client()\n",
    "    return _client.get_filtered([('project.identifier', '==', 'pbssoftware')])\n",
    "\n",
    "def get_issues():\n",
    "    return _download_issues()"
   ]
  },
  {
   "cell_type": "code",
   "execution_count": 31,
   "metadata": {},
   "outputs": [],
   "source": [
    "import datetime, pytz\n",
    "\n",
    "def dfmt(dt):\n",
    "    return dt.astimezone(pytz.timezone('US/Pacific')).strftime(\"%m/%d/%Y %I:%M:%S %p\")"
   ]
  },
  {
   "cell_type": "code",
   "execution_count": 36,
   "metadata": {},
   "outputs": [
    {
     "data": {
      "text/plain": [
       "61"
      ]
     },
     "execution_count": 36,
     "metadata": {},
     "output_type": "execute_result"
    }
   ],
   "source": [
    "issues = get_issues()\n",
    "issues2 = [i for i in issues.values() if i.sprint_milestone.name in (\"3.1.0\", \"3.1.1\", \"Future Release\") and i.tracker.name == 'Bug' and i.status.name not in (\"Closed\", \"Rejected\")]\n",
    "len(issues2)"
   ]
  },
  {
   "cell_type": "code",
   "execution_count": 76,
   "metadata": {},
   "outputs": [],
   "source": [
    "root = lxml.Element(\"TestTrackData\", version=\"1638912\")\n",
    "\n",
    "for i in issues2:\n",
    "    defect = lxml.SubElement(root, \"defect\")\n",
    "    lxml.SubElement(defect, \"summary\").text = i.subject\n",
    "    lxml.SubElement(defect, \"type\").text = \"Defect\"\n",
    "    \n",
    "    if i.author.name in ('James Small', 'Nathan Starkweather', 'Yas Hashimura'):\n",
    "        first, last = i.author.name.split()\n",
    "    else:\n",
    "        if i.author.name == 'Daniel Giroux' or i.author.name == 'Christian Nilsson':\n",
    "            first, last = 'James', 'Small'\n",
    "        else:\n",
    "            raise NameError(i.author.name)\n",
    "        \n",
    "    entered_by = lxml.SubElement(defect, \"entered-by\")\n",
    "    created_by = lxml.SubElement(defect, \"created-by\")\n",
    "    \n",
    "    for e in (entered_by, created_by):\n",
    "        lxml.SubElement(e, 'last-name').text = last\n",
    "        lxml.SubElement(e, 'first-name').text = first\n",
    "        lxml.SubElement(e, 'middle-name')  # unused\n",
    "    \n",
    "    lxml.SubElement(defect, 'defect-status').text = 'Defects'\n",
    "    lxml.SubElement(defect, 'date-entered').text = i.created_on.strftime(\"%m/%d/%Y\")\n",
    "    lxml.SubElement(defect, \"date-created\").text = dfmt(i.created_on)\n",
    "    lxml.SubElement(defect, \"date-last-modified\").text = dfmt(i.modified_on)\n",
    "    \n",
    "    record = lxml.SubElement(defect, 'reported-by-record')\n",
    "    found_by = lxml.SubElement(record, 'found-by')\n",
    "    lxml.SubElement(found_by, 'last-name').text = last\n",
    "    lxml.SubElement(found_by, 'first-name').text = first\n",
    "    lxml.SubElement(found_by, 'middle-name')  # unused\n",
    "    \n",
    "    lxml.SubElement(record, 'date-found').text = i.created_on.strftime(\"%m/%d/%Y\")\n",
    "    lxml.SubElement(record, 'description').text = i.description\n",
    "    \n",
    "    "
   ]
  },
  {
   "cell_type": "code",
   "execution_count": 77,
   "metadata": {},
   "outputs": [],
   "source": [
    "def write_root(r, fn):\n",
    "    tree = lxml.ElementTree(r)\n",
    "    with open(fn, 'wb') as f:\n",
    "        tree.write(f, pretty_print=True, xml_declaration=True, standalone=False, encoding='UTF-8', doctype=b'<!DOCTYPE TestTrackData SYSTEM \"TestTrackData.dtd\">')"
   ]
  },
  {
   "cell_type": "code",
   "execution_count": 78,
   "metadata": {},
   "outputs": [],
   "source": [
    "write_root(root, \"defect_test.xml\")"
   ]
  },
  {
   "cell_type": "code",
   "execution_count": 93,
   "metadata": {},
   "outputs": [],
   "source": [
    "rawxml = \"\"\"<defect>\n",
    "\t<summary>{summary}</summary>\n",
    "\t<entered-by><last-name>{last_name}</last-name><first-name>{first_name}</first-name><middle-name/></entered-by>\n",
    "\t<date-entered>{date_entered}</date-entered>\n",
    "\t<type>Defect</type>\n",
    "\t<workaround has-formatting=\"true\"></workaround>\t\t\n",
    "    <reported-by-record>\n",
    "\t\t<found-by><last-name>{last_name}</last-name><first-name>{first_name}</first-name><middle-name/></found-by>\n",
    "\t\t<date-found>{date_entered}</date-found>\n",
    "\t\t<description has-formatting=\"false\">{description}</description>\n",
    "\t\t<steps-to-reproduce has-formatting=\"true\"></steps-to-reproduce>\n",
    "\t\t<computer-config type=\"users\"/>\n",
    "\t\t<other-hardware-and-software has-formatting=\"true\"></other-hardware-and-software>\n",
    "\t</reported-by-record>\n",
    "\t<defect-status>Defects</defect-status>\n",
    "\t<created-by><last-name>{last_name}</last-name><first-name>{first_name}</first-name><middle-name/></created-by>\n",
    "\t<date-created>4/5/2019 3:49:28 PM</date-created>\n",
    "\t<creation-method>Add window</creation-method>\n",
    "\t<last-modified-by><last-name>{last_name}</last-name><first-name>{first_name}</first-name><middle-name/></last-modified-by>\n",
    "\t<date-last-modified>{long_date}</date-last-modified>\n",
    "</defect>\"\"\"\n",
    "\n",
    "raw = []\n",
    "from xml.sax.saxutils import escape as xesc\n",
    "for i in issues2:\n",
    "    if i.author.name in ('James Small', 'Nathan Starkweather', 'Yas Hashimura'):\n",
    "        first, last = i.author.name.split()\n",
    "    else:\n",
    "        if i.author.name == 'Daniel Giroux' or i.author.name == 'Christian Nilsson':\n",
    "            first, last = 'James', 'Small'\n",
    "        else:\n",
    "            raise NameError(i.author.name)\n",
    "    desc = i.description.replace(\"\\r\\n\", \"\\n\")  # .replace(\"\\r\", \"&#13;\").replace(\"\\n\", \"&#10;\")\n",
    "    x = rawxml.format(summary=xesc(i.subject), last_name=last, first_name=first, description=xesc(desc), \n",
    "                      date_entered=i.created_on.strftime(\"%m/%d/%Y\"), long_date=dfmt(i.created_on))\n",
    "    raw.append(x)"
   ]
  },
  {
   "cell_type": "code",
   "execution_count": 94,
   "metadata": {},
   "outputs": [],
   "source": [
    "root = lxml.Element(\"TestTrackData\", version=\"1638912\")\n",
    "for x in raw:\n",
    "    try:\n",
    "        e = lxml.fromstring(x)\n",
    "        root.append(e)\n",
    "    except:\n",
    "        print(x)\n",
    "        raise\n",
    "        \n",
    "write_root(root, 'test.xml')"
   ]
  },
  {
   "cell_type": "code",
   "execution_count": 95,
   "metadata": {},
   "outputs": [
    {
     "name": "stdout",
     "output_type": "stream",
     "text": [
      "b'<?xml version=\"1.0\" encoding=\"UTF-8\" standalone=\"no\"?>\\r\\n<!DOCTYPE TestTrackData SYSTEM \"TestTrackData.dtd\">\\r\\n<TestTrackData version=\"1638912\">\\r\\n\\r\\n<defect>\\r\\n\\t<record-id>123</record-id>\\r\\n\\t<defect-number>123</defect-number>\\r\\n\\t<summary>Problems with \"Configure Users\" tab</summary>\\r\\n\\t<entered-by><last-name>Small</last-name><first-name>James</first-name><middle-name></middle-name></entered-by>\\r\\n\\t<date-entered>7/9/2018</date-entered>\\r\\n\\t<type>Defect</type>\\r\\n\\t<workaround has-formatting=\"false\"></workaround>\\t\\t<custom-field-value field-name=\"Risk\" field-value=\"\" />\\r\\n\\r\\n\\t<custom-field-value field-name=\"Acceptance Criteria\">\\r\\n\\r\\n\\t\\t<multi-line-text has-formatting=\"false\"></multi-line-text>\\r\\n\\t</custom-field-value>\\t\\t<custom-field-value field-name=\"Days Open to Close\" field-value=\" Days\" />\\r\\n\\r\\n\\t<reported-by-record>\\r\\n\\t\\t<found-by><last-name>Small</last-name><first-name>James</first-name><middle-name></middle-name></found-by>\\r\\n\\t\\t<date-found>7/9/2018</date-found>\\r\\n\\t\\t<description has-formatting=\"false\">It\\'s possible to change the sort order of the list of usernames, without an explicit corresponding user event, as follows:\\nStarting point: there are at least 3 users with the &quot;Hello Access&quot; permission, and a 4th user which has the &quot;Account Management&quot; permission# Log in as the user with the &quot;Account Management&quot; permission#\\nClick &quot;Account&quot; &gt; &quot;Manage&quot;# Click on the &quot;Configure Users&quot; tab, if not already selected# Rearrange the order of the users with Hello Access, so if any were deleted, the sort order would still be different# Click on one of the users with Hello Access (not the one currently selected)# Click the &quot;Delete&quot; button, and confirm you want to delete the user.Result: the user list is saved in the new sort order, the user is indeed deleted, but the only user event is about deleting the user.On its own this isn\\'t a CFR violation, since the only thing changed without a record is the sort order of the users displayed in the Hello UI, and that\\'s not actually a functional difference. And because we never actually created a specification regarding the ability to rearrange the list via \\'click and drag\\' action, this isn\\'t a violation of a written specification.However, it\\'s sloppy, and from a user perspective it seems like something\\'s wrong.The general fix is, if the user changes the order of the usernames, keep the &quot;Edit User,&quot; &quot;Add User,&quot; and &quot;Delete User&quot; buttons grayed out until the user clicks either the &quot;Save&quot; or &quot;Reset&quot; buttons.There is also a problem with the &quot;Save&quot; and &quot;Reset&quot; buttons in that tab: they should be grayed out unless the user has changed the order of the user names; they have no function otherwise.*+Release Notes+** A bug was fixed where the &quot;Edit User,&quot; &quot;Add User,&quot; and &quot;Delete User&quot; buttons in the &quot;Account Management&quot; menu\\'s &quot;Configure Users&quot; tab were not always grayed out when they should have been. This had made it possible for a user to change the order of users displayed in the Hello UI &quot;Login&quot; page, without a corresponding user event being recorded to the database.* A bug was fixed where the &quot;Save&quot; and &quot;Reset&quot; buttons in the &quot;Account Management&quot; menu\\'s &quot;Configure Users&quot; tab were always active. They are now only active after a user changes the order of the users.</description>\\r\\n\\t\\t<steps-to-reproduce has-formatting=\"false\"></steps-to-reproduce>\\r\\n\\t\\t<computer-config type=\"users\"></computer-config>\\r\\n\\t\\t<other-hardware-and-software has-formatting=\"false\"></other-hardware-and-software>\\r\\n\\t</reported-by-record>\\r\\n\\t<defect-event>\\r\\n\\t\\t<event-name>AUTO: Defects</event-name>\\r\\n\\t\\t<event-date>5/30/2019 10:15:49 PM</event-date>\\r\\n\\t\\t<event-author><last-name>Starkweather</last-name><first-name>Nathan</first-name><middle-name></middle-name></event-author>\\r\\n\\t\\t<mark-dependents-suspect>yes</mark-dependents-suspect>\\r\\n\\t</defect-event>\\r\\n\\t<defect-status>Defects</defect-status>\\r\\n\\t<created-by><last-name>Starkweather</last-name><first-name>Nathan</first-name><middle-name></middle-name></created-by>\\r\\n\\t<date-created>5/30/2019 10:22:00 PM</date-created>\\r\\n\\t<creation-method>XML file import</creation-method>\\r\\n\\t<last-modified-by><last-name>Starkweather</last-name><first-name>Nathan</first-name><middle-name></middle-name></last-modified-by>\\r\\n\\t<date-last-modified>5/30/2019 10:24:56 PM</date-last-modified>\\r\\n</defect>\\r\\n</TestTrackData>'\n"
     ]
    }
   ],
   "source": [
    "with open(\"XML_Export.xml\", 'rb') as f:\n",
    "    print(f.read())"
   ]
  },
  {
   "cell_type": "code",
   "execution_count": null,
   "metadata": {},
   "outputs": [],
   "source": []
  },
  {
   "cell_type": "code",
   "execution_count": null,
   "metadata": {},
   "outputs": [],
   "source": []
  },
  {
   "cell_type": "code",
   "execution_count": 67,
   "metadata": {},
   "outputs": [],
   "source": [
    "def write_root(newroot, attachments, name):\n",
    "    newtree = lxml.ElementTree(newroot)\n",
    "    \n",
    "    with io.BytesIO() as f:\n",
    "        newtree.write(f, pretty_print=True, xml_declaration=True, standalone=False, encoding='UTF-8', doctype=b'<!DOCTYPE TestTrackData SYSTEM \"TestTrackData.dtd\">')\n",
    "        data = f.getvalue()\n",
    "    \n",
    "    with zipfile.ZipFile(\"Helix Migration Test\\\\%s.zip\"%name, 'w', zipfile.ZIP_DEFLATED) as newzip:\n",
    "        for fp in attachments:\n",
    "            docopy_inner(fp, thezip, newzip)\n",
    "        \n",
    "        newzip.writestr(\"archive_manifest.xml\", data)\n",
    "\n",
    "def create_zip_file_for(root, type, name):\n",
    "    newroot = _simple_copy(root)\n",
    "    for e in root.xpath(\"%s\"%type):\n",
    "        _deep_copy(newroot, e)\n",
    "\n",
    "    attachments = []\n",
    "    for attachment in newroot.xpath(\"%s/*[local-name()='attachment' or local-name()='tcm-attachment']\"%type):\n",
    "        fp = attachment.attrib['filespec']\n",
    "        attachments.append(fp)\n",
    "        \n",
    "    write_root(newroot, attachments, name)\n",
    "        \n",
    "#     with open(\"Helix Migration Test\\\\archive_manifest_%s.xml\"%type, 'wb') as f:\n",
    "#         f.write(data)\n",
    "    "
   ]
  },
  {
   "cell_type": "code",
   "execution_count": 34,
   "metadata": {},
   "outputs": [
    {
     "name": "stdout",
     "output_type": "stream",
     "text": [
      "Copying attachment '00066982.dat'...Done\n",
      "Copying attachment '00067000.dat'...Done\n",
      "Copying attachment '00066999.dat'...Done\n",
      "Copying attachment '00066984.dat'...Done\n"
     ]
    }
   ],
   "source": [
    "#create_zip_file_for(uc.root, 'requirement', 'RequirementImport')\n",
    "create_zip_file_for(uc.root, 'test-case', 'TestCaseImport')\n",
    "#create_zip_file_for(uc.root, 'requirement-document', 'RequirementDocumentImport')\n",
    "create_zip_file_for(uc.root, 'defect', 'DefectImport')"
   ]
  },
  {
   "cell_type": "code",
   "execution_count": 35,
   "metadata": {},
   "outputs": [],
   "source": [
    "def create_zip_root_docs(root):\n",
    "    newroot = _simple_copy(root)\n",
    "    seen = set()\n",
    "    for rid in root.xpath(\"requirement-document/document-tree-node/node-requirement-id/text()\"):\n",
    "        if rid not in seen:\n",
    "            seen.add(rid)\n",
    "            e = themap[rid]\n",
    "            e = copy_element(e)\n",
    "            newroot.append(e)\n",
    "        \n",
    "    for req in root.xpath(\"requirement\"):\n",
    "        rid = req.find(\"record-id\").text\n",
    "        if rid not in seen:\n",
    "            seen.add(rid)\n",
    "            _deep_copy(newroot, req)\n",
    "    \n",
    "    for doc in root.xpath(\"requirement-document\"):\n",
    "        _deep_copy(newroot, doc)\n",
    "    \n",
    "    attachments = []\n",
    "    for attachment in newroot.xpath(\"requirement/*[local-name()='attachment' or local-name()='tcm-attachment']\"):\n",
    "        fp = attachment.attrib['filespec']\n",
    "        attachments.append(fp)\n",
    "        \n",
    "    write_root(newroot, attachments, \"RequirementDocumentImport\")\n",
    "        \n",
    "#     with open(\"Helix Migration Test\\\\archive_manifest_requirement-document.xml\", 'wb') as f:\n",
    "#         f.write(data)"
   ]
  },
  {
   "cell_type": "code",
   "execution_count": 36,
   "metadata": {},
   "outputs": [
    {
     "name": "stdout",
     "output_type": "stream",
     "text": [
      "Copying attachment '00066972.dat'...Done\n",
      "Copying attachment '00066971.dat'...Done\n",
      "Copying attachment '00066973.dat'...Done\n",
      "Copying attachment '00066974.dat'...Done\n",
      "Copying attachment '00066975.dat'...Done\n",
      "Copying attachment '00066978.dat'...Done\n",
      "Copying attachment '00066977.dat'...Done\n",
      "Copying attachment '00066976.dat'...Done\n",
      "Copying attachment '00066990.dat'...Done\n",
      "Copying attachment '00066980.dat'...Done\n",
      "Copying attachment '00066994.dat'...Done\n",
      "Copying attachment '00066993.dat'...Done\n",
      "Copying attachment '00066997.dat'...Done\n",
      "Copying attachment '00066996.dat'...Done\n",
      "Copying attachment '00066995.dat'...Done\n"
     ]
    }
   ],
   "source": [
    "create_zip_root_docs(uc.root)"
   ]
  },
  {
   "cell_type": "code",
   "execution_count": null,
   "metadata": {},
   "outputs": [],
   "source": []
  }
 ],
 "metadata": {
  "kernelspec": {
   "display_name": "Python 3",
   "language": "python",
   "name": "python3"
  },
  "language_info": {
   "codemirror_mode": {
    "name": "ipython",
    "version": 3
   },
   "file_extension": ".py",
   "mimetype": "text/x-python",
   "name": "python",
   "nbconvert_exporter": "python",
   "pygments_lexer": "ipython3",
   "version": "3.5.2"
  }
 },
 "nbformat": 4,
 "nbformat_minor": 2
}
