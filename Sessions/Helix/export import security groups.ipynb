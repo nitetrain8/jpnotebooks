{
 "cells": [
  {
   "cell_type": "code",
   "execution_count": 67,
   "metadata": {},
   "outputs": [],
   "source": [
    "import os\n",
    "from lxml import etree as lxml\n",
    "import zipfile, itertools\n",
    "import io\n",
    "from officelib.xllib import *"
   ]
  },
  {
   "cell_type": "code",
   "execution_count": 68,
   "metadata": {},
   "outputs": [],
   "source": [
    "os.chdir(\"C:\\\\Users\\\\Nathan\\\\Downloads\")"
   ]
  },
  {
   "cell_type": "code",
   "execution_count": 69,
   "metadata": {},
   "outputs": [],
   "source": [
    "def load_xml(z):\n",
    "    with z.open(\"archive_manifest.xml\", 'r') as f:\n",
    "        tree = lxml.parse(f)\n",
    "    return tree\n",
    "\n",
    "def load_zip(file):\n",
    "    return zipfile.ZipFile(file)"
   ]
  },
  {
   "cell_type": "code",
   "execution_count": 71,
   "metadata": {},
   "outputs": [],
   "source": [
    "tree = lxml.parse(\"test\\\\ViewOnlySecurity.xml\")\n",
    "root = tree.getroot()\n",
    "for c in root.findall(\"security-group\"):\n",
    "    if c.find(\"name\").text == \"View\":\n",
    "        break\n",
    "else:\n",
    "    raise ValueError(\"oops\")"
   ]
  },
  {
   "cell_type": "code",
   "execution_count": 72,
   "metadata": {},
   "outputs": [],
   "source": [
    "xl = Excel()\n",
    "wb = None\n",
    "_wb = None\n",
    "for _wb in xl.Workbooks:\n",
    "    if _wb.Name == \"helix_security.xlsx\":\n",
    "        wb = _wb\n",
    "        break\n",
    "del _wb\n",
    "if wb is None:\n",
    "    wb = xl.Workbooks.Add()\n",
    "    wb.Name = \"helix_security.xlsx\"\n",
    "ws = wb.Worksheets(1)\n",
    "cells = ws.Cells\n",
    "cr = cells.Range\n",
    "\n",
    "def switch_sheet(id):\n",
    "    global ws, cells, cr\n",
    "    ws = wb.Worksheets(id)\n",
    "    cells = ws.Cells\n",
    "    cr = cells.Range"
   ]
  },
  {
   "cell_type": "code",
   "execution_count": 73,
   "metadata": {},
   "outputs": [],
   "source": [
    "def paste(cell, data):\n",
    "    c2 = cell.GetOffset(len(data) - 1, len(data[0]) - 1)\n",
    "    target = cell.Range(cell, c2)\n",
    "    target.NumberFormat = \"@\"\n",
    "    target.Value = data\n",
    "    "
   ]
  },
  {
   "cell_type": "code",
   "execution_count": 63,
   "metadata": {},
   "outputs": [],
   "source": [
    "tree = lxml.parse(\"test\\\\security_groups_out.xml\")\n",
    "root = tree.getroot()"
   ]
  },
  {
   "cell_type": "code",
   "execution_count": 65,
   "metadata": {},
   "outputs": [],
   "source": [
    "data = []\n",
    "for cat in root.xpath(\"security-group/command-categories/command-category\"):\n",
    "    attrib = cat.attrib\n",
    "    name = attrib[\"name\"]\n",
    "    data.append((name, \", \".join(attrib.keys())))\n",
    "\n",
    "ws.UsedRange.Clear()\n",
    "cr(\"A1:C1\").Value = [(\"Command\", \"Key\", \"Value\")]\n",
    "paste(cr(\"A2\"),data)"
   ]
  },
  {
   "cell_type": "code",
   "execution_count": 66,
   "metadata": {},
   "outputs": [
    {
     "name": "stdout",
     "output_type": "stream",
     "text": [
      "Artifacts\n"
     ]
    }
   ],
   "source": [
    "for cmd in root.xpath(\"security-group/command-categories/command-category[./command-subtype]\"):\n",
    "    print(cmd.attrib['name'])"
   ]
  },
  {
   "cell_type": "code",
   "execution_count": null,
   "metadata": {},
   "outputs": [],
   "source": []
  },
  {
   "cell_type": "code",
   "execution_count": null,
   "metadata": {},
   "outputs": [],
   "source": []
  },
  {
   "cell_type": "code",
   "execution_count": 20,
   "metadata": {},
   "outputs": [],
   "source": [
    "newroot = lxml.Element(root.tag, root.attrib)\n",
    "newroot.text = root.text\n",
    "newroot.tail = root.tail\n",
    "newroot.append(c)"
   ]
  },
  {
   "cell_type": "code",
   "execution_count": 24,
   "metadata": {},
   "outputs": [
    {
     "ename": "TypeError",
     "evalue": "'type' object is not subscriptable",
     "output_type": "error",
     "traceback": [
      "\u001b[1;31m---------------------------------------------------------------------------\u001b[0m",
      "\u001b[1;31mTypeError\u001b[0m                                 Traceback (most recent call last)",
      "\u001b[1;32m<ipython-input-24-923cb7160030>\u001b[0m in \u001b[0;36m<module>\u001b[1;34m()\u001b[0m\n\u001b[0;32m     12\u001b[0m     \u001b[1;32mreturn\u001b[0m \u001b[0mdoc\u001b[0m\u001b[1;33m\u001b[0m\u001b[0m\n\u001b[0;32m     13\u001b[0m \u001b[1;33m\u001b[0m\u001b[0m\n\u001b[1;32m---> 14\u001b[1;33m \u001b[1;32mdef\u001b[0m \u001b[0madd_command_category\u001b[0m\u001b[1;33m(\u001b[0m\u001b[0mcategories\u001b[0m\u001b[1;33m,\u001b[0m \u001b[0mname\u001b[0m\u001b[1;33m:\u001b[0m \u001b[0mstr\u001b[0m\u001b[1;33m,\u001b[0m \u001b[0mevents\u001b[0m\u001b[1;33m:\u001b[0m \u001b[0mstr\u001b[0m\u001b[1;33m,\u001b[0m \u001b[0moptions\u001b[0m\u001b[1;33m:\u001b[0m \u001b[0mlist\u001b[0m\u001b[1;33m[\u001b[0m\u001b[0mtuple\u001b[0m\u001b[1;33m]\u001b[0m\u001b[1;33m)\u001b[0m\u001b[1;33m:\u001b[0m\u001b[1;33m\u001b[0m\u001b[0m\n\u001b[0m\u001b[0;32m     15\u001b[0m     \u001b[0mcat\u001b[0m \u001b[1;33m=\u001b[0m \u001b[0mlxml\u001b[0m\u001b[1;33m.\u001b[0m\u001b[0mSubElement\u001b[0m\u001b[1;33m(\u001b[0m\u001b[0mcategories\u001b[0m\u001b[1;33m,\u001b[0m \u001b[0mname\u001b[0m\u001b[1;33m=\u001b[0m\u001b[0mname\u001b[0m\u001b[1;33m,\u001b[0m \u001b[0mevents\u001b[0m\u001b[1;33m=\u001b[0m\u001b[0mevents\u001b[0m\u001b[1;33m)\u001b[0m\u001b[1;33m\u001b[0m\u001b[0m\n",
      "\u001b[1;31mTypeError\u001b[0m: 'type' object is not subscriptable"
     ]
    }
   ],
   "source": [
    "def create_template(name, description):\n",
    "    doc = lxml.Element(\"TestTrackData\", version=\"1638912\")\n",
    "    \n",
    "    sec = lxml.SubElement(doc, \"security-group\")\n",
    "    lxml.SubElement(sec, \"name\").text = name\n",
    "    lxml.SubElement(sec, \"description\").text = description\n",
    "    lxml.SubElement(sec, \"users-in-popup\").text = \"Yes\"\n",
    "    lxml.SubElement(sec, \"customers-in-popup\").text = \"No\"\n",
    "    \n",
    "    lxml.SubElement(sec, \"command-categories\")\n",
    "    lxml.SubElement(sec, \"field-security\")\n",
    "    return doc\n",
    "\n",
    "def add_commands_to_category(category, commands):\n",
    "    for name, enabled in commands:\n",
    "        if isinstance(enabled, bool):\n",
    "            enabled = str(enabled).lower()\n",
    "        lxml.SubElement(category, \"command\", enabled=enabled).text = name\n",
    "\n",
    "def add_basic_command_category(cats_elem, name: str, events: str, commands: list):\n",
    "    cat = lxml.SubElement(cats_elem, name=name, events=events)\n",
    "    add_commands_to_category(cat, commands)\n",
    "    \n",
    "def add_type_category(cats_elem, name, commands, onlyReportingUser=\"no\", workWithLabel=\"\", filter=\"$lt;All&gt;\"):\n",
    "    attrib = {\n",
    "        'name': name,\n",
    "        'nameLowerCase': name.lower(),\n",
    "        'events': \"false\",\n",
    "        'onlyReportingUser': onlyReportingUser,\n",
    "        'workWithLabel': workWithLabel,\n",
    "        'filter': filter\n",
    "    }\n",
    "    cat = lxml.SubElement(cats_elem, \"command-category\", attrib)\n",
    "    add_commands(cat, commands)\n",
    "        \n",
    "def create_artifacts_category(cats_elem, commands, onlyReportingUser=\"no\", workWithLabel=\"All Artifacts\", filter=\"$lt;All&gt;\"):\n",
    "    attrib = {\n",
    "        'name': \"Artifacts\",\n",
    "        'nameLowerCase': \"artifacts\",\n",
    "        'events': \"false\",\n",
    "        'onlyReportingUser': onlyReportingUser,\n",
    "        'workWithLabel': workWithLabel,\n",
    "        'filter': filter\n",
    "    }\n",
    "    return lxml.SubElement(cats_elem, \"command-category\", attrib)\n",
    "\n",
    "def add_artifacts_subtype(artifacts, name, override_default=\"false\", subtype_id=\"0\"):\n",
    "    \n",
    "    \n",
    "    "
   ]
  },
  {
   "cell_type": "code",
   "execution_count": 21,
   "metadata": {},
   "outputs": [],
   "source": [
    "newtree = lxml.ElementTree(newroot)\n",
    "with open(\"test\\\\security_groups_out.xml\", 'wb') as f:\n",
    "    newtree.write(f, pretty_print=True, xml_declaration=True, standalone=False, encoding='UTF-8', \n",
    "                  doctype=b'<!DOCTYPE TestTrackData SYSTEM \"TestTrackData.dtd\">')"
   ]
  },
  {
   "cell_type": "code",
   "execution_count": null,
   "metadata": {},
   "outputs": [],
   "source": []
  }
 ],
 "metadata": {
  "kernelspec": {
   "display_name": "Python 3",
   "language": "python",
   "name": "python3"
  },
  "language_info": {
   "codemirror_mode": {
    "name": "ipython",
    "version": 3
   },
   "file_extension": ".py",
   "mimetype": "text/x-python",
   "name": "python",
   "nbconvert_exporter": "python",
   "pygments_lexer": "ipython3",
   "version": "3.5.2"
  }
 },
 "nbformat": 4,
 "nbformat_minor": 2
}
