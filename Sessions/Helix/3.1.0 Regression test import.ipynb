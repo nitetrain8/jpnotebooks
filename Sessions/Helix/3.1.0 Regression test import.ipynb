{
 "cells": [
  {
   "cell_type": "code",
   "execution_count": 1,
   "metadata": {},
   "outputs": [],
   "source": [
    "import os\n",
    "from officelib.xllib import *\n",
    "\n",
    "\n",
    "dl = \"C:/users/nathan/downloads\"\n",
    "fn = \"3.1.0 regression tests.xlsx\""
   ]
  },
  {
   "cell_type": "code",
   "execution_count": 2,
   "metadata": {},
   "outputs": [],
   "source": [
    "xl = Excel()\n",
    "wb = xl.Workbooks.Open(os.path.join(dl, fn))\n",
    "ws = wb.Worksheets(1)"
   ]
  },
  {
   "cell_type": "code",
   "execution_count": 7,
   "metadata": {},
   "outputs": [],
   "source": [
    "class Data():\n",
    "    def __init__(self):\n",
    "        self.number = None\n",
    "        self.summary = None\n",
    "        self.assigned = []\n",
    "        self.status = None\n",
    "        self.fm_id = None\n",
    "        self.link = None\n",
    "        \n",
    "    @classmethod\n",
    "    def from_list(cls, list):\n",
    "        # columns for this were number, summary, status, assiged to, fm id\n",
    "        self = cls()\n",
    "        self.number = list[0]\n",
    "        self.summary = list[1]\n",
    "        self.status = list[2]\n",
    "        self.assigned = list[3].split(\"; \")\n",
    "        self.fm_id = list[4]\n",
    "        self.link = list[5]\n",
    "        return self"
   ]
  },
  {
   "cell_type": "code",
   "execution_count": 10,
   "metadata": {},
   "outputs": [],
   "source": [
    "data = xl.Selection.Value2\n",
    "data2 = [Data.from_list(row) for row in data]"
   ]
  },
  {
   "cell_type": "code",
   "execution_count": 11,
   "metadata": {},
   "outputs": [
    {
     "name": "stdout",
     "output_type": "stream",
     "text": [
      "2414.0\n",
      "988.0\n",
      "989.0\n",
      "990.0\n",
      "996.0\n",
      "998.0\n",
      "999.0\n",
      "1000.0\n",
      "2143.0\n",
      "2524.0\n",
      "2866.0\n",
      "2875.0\n",
      "2835.0\n",
      "3051.0\n",
      "2275.0\n",
      "2648.0\n",
      "2846.0\n",
      "2862.0\n",
      "2863.0\n",
      "3109.0\n",
      "3110.0\n",
      "3089.0\n",
      "2587.0\n"
     ]
    }
   ],
   "source": [
    "for d in data2:\n",
    "    if d.status == \"Approved\":\n",
    "        print(d.fm_id)"
   ]
  },
  {
   "cell_type": "code",
   "execution_count": 12,
   "metadata": {},
   "outputs": [],
   "source": [
    "imp = {d.fm_id for d in data2 if d.status == \"Approved\"}"
   ]
  },
  {
   "cell_type": "code",
   "execution_count": 13,
   "metadata": {},
   "outputs": [],
   "source": [
    "fn2 = \"report tests 190826 1 all fixified.csv\"\n",
    "wb2 = xl.Workbooks.Open(os.path.join(dl, fn2))\n",
    "ws2 = wb2.Worksheets(1)\n",
    "data3 = ws2.UsedRange.Value2\n",
    "match = [row for row in data3 if row[0] in imp]"
   ]
  },
  {
   "cell_type": "code",
   "execution_count": 16,
   "metadata": {},
   "outputs": [
    {
     "name": "stdout",
     "output_type": "stream",
     "text": [
      "23 23\n"
     ]
    }
   ],
   "source": [
    "print(len(match), len(imp))"
   ]
  },
  {
   "cell_type": "code",
   "execution_count": 20,
   "metadata": {},
   "outputs": [],
   "source": [
    "wb3 = xl.Workbooks.Add()\n",
    "ws3 = wb3.Worksheets(1)\n",
    "cells = ws3.Cells\n",
    "cr = cells.Range\n",
    "\n",
    "c1 = cr(\"A2\")\n",
    "br = c1.GetOffset(len(match)-1, len(match[0])-1)\n",
    "cr(c1, br).Value = match"
   ]
  },
  {
   "cell_type": "code",
   "execution_count": null,
   "metadata": {},
   "outputs": [],
   "source": []
  }
 ],
 "metadata": {
  "kernelspec": {
   "display_name": "Python 3",
   "language": "python",
   "name": "python3"
  },
  "language_info": {
   "codemirror_mode": {
    "name": "ipython",
    "version": 3
   },
   "file_extension": ".py",
   "mimetype": "text/x-python",
   "name": "python",
   "nbconvert_exporter": "python",
   "pygments_lexer": "ipython3",
   "version": "3.5.2"
  }
 },
 "nbformat": 4,
 "nbformat_minor": 2
}
