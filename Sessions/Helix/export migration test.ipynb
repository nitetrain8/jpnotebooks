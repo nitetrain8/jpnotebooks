{
 "cells": [
  {
   "cell_type": "code",
   "execution_count": 1,
   "metadata": {},
   "outputs": [],
   "source": [
    "import os\n",
    "from lxml import etree as lxml\n",
    "import zipfile, itertools\n",
    "import io"
   ]
  },
  {
   "cell_type": "code",
   "execution_count": 2,
   "metadata": {},
   "outputs": [],
   "source": [
    "os.chdir(\"C:\\\\Users\\\\Nathan\\\\Downloads\")"
   ]
  },
  {
   "cell_type": "code",
   "execution_count": 3,
   "metadata": {},
   "outputs": [],
   "source": [
    "def load_xml(z):\n",
    "    with z.open(\"archive_manifest.xml\", 'r') as f:\n",
    "        tree = lxml.parse(f)\n",
    "    return tree\n",
    "\n",
    "def load_zip(file):\n",
    "    return zipfile.ZipFile(file)"
   ]
  },
  {
   "cell_type": "markdown",
   "metadata": {},
   "source": [
    "When executed, the below cells gather artifacts and artifact documents exported via XML export to \"ArtifactDocumentsExport.zip\" into data structures using lxml. \n",
    "\n",
    "They then build a fresh zip file that includes only the indicated documents as well as artifacts contained \n",
    "in those specific documents, cutting out custom field values as well to reduce file size and minimize errors \n",
    "during this simple import process. "
   ]
  },
  {
   "cell_type": "code",
   "execution_count": 4,
   "metadata": {},
   "outputs": [],
   "source": [
    "# documents to scan for artifacts\n",
    "documents = [\n",
    "    'PBS Bioreactor Market Requirements Document',\n",
    "    '3.0.9 Test Plan',\n",
    "    '3.0.9 Requirements'\n",
    "]"
   ]
  },
  {
   "cell_type": "code",
   "execution_count": 5,
   "metadata": {},
   "outputs": [
    {
     "name": "stdout",
     "output_type": "stream",
     "text": [
      "creating zip file\n",
      "copying attachments\n",
      "done\n"
     ]
    }
   ],
   "source": [
    "# load the data\n",
    "azip = load_zip(\"ArtifactsExport.zip\")\n",
    "dzip = load_zip(\"ArtifactDocumentsExport.zip\")\n",
    "\n",
    "atree = load_xml(azip)\n",
    "dtree = load_xml(dzip)\n",
    "\n",
    "aroot = atree.getroot()\n",
    "droot = dtree.getroot()\n",
    "\n",
    "# map record id <-> artifact\n",
    "amap = {}\n",
    "for req in droot.xpath(\"requirement\"):\n",
    "    amap[req.find(\"record-id\").text] = req\n",
    "    \n",
    "# loop over documents and flag artifacts for import\n",
    "# this is done to only import artifacts that were part of the document\n",
    "art_seen = set()\n",
    "to_import = []\n",
    "docs = []\n",
    "for d in documents:\n",
    "    doc = droot.xpath(\"requirement-document[./summary/text()=%r]\"%d)[0]\n",
    "    docs.append(doc)\n",
    "    for id in doc.xpath(\"document-tree-node/node-requirement-id/text()\"):\n",
    "        if id not in art_seen:\n",
    "            art_seen.add(id)\n",
    "            to_import.append(id)\n",
    "            \n",
    "def file_namer():\n",
    "    _attach_fileno = itertools.count(4)\n",
    "    while True:\n",
    "        yield \"%08d.dat\"%next(_attach_fileno)\n",
    "new_filename = file_namer().__next__\n",
    "\n",
    "class ZipQueue():\n",
    "    def __init__(self):\n",
    "        self.q = []\n",
    "    def add(self, name, dst):\n",
    "        self.q.append((name, dst))\n",
    "    def docopy(self, z1, z2):\n",
    "        for name, dst in self.q:\n",
    "            with z1.open(name, 'r') as src:\n",
    "                z2.writestr(dst, src.read())\n",
    "            \n",
    "zipq = ZipQueue()\n",
    "\n",
    "newroot = lxml.Element(droot.tag, droot.attrib)\n",
    "newroot.text = droot.text\n",
    "    \n",
    "for rid in to_import:\n",
    "    req = amap[rid]\n",
    "    elem = lxml.SubElement(newroot, req.tag, req.attrib)\n",
    "    elem.text = req.text\n",
    "    elem.tail = req.tail\n",
    "    to_replace = []\n",
    "    for e in req:\n",
    "        if e.tag == 'custom-field-value' and e.attrib['field-name'] != 'Release Notes':\n",
    "            continue\n",
    "        elif e.tag == 'record-id':\n",
    "            continue\n",
    "        elif e.tag == 'requirement-number':\n",
    "            continue\n",
    "        elif e.tag == 'attachment':\n",
    "            a = lxml.SubElement(elem, e.tag, e.attrib)\n",
    "            nfn = new_filename()\n",
    "            ofn = a.attrib['filespec']\n",
    "            zipq.add(ofn, nfn)\n",
    "            to_replace.append((ofn, nfn))\n",
    "            a.attrib['filespec'] = nfn\n",
    "        else:\n",
    "            elem.append(e)\n",
    "            \n",
    "    # enqueued text replace\n",
    "    if to_replace:\n",
    "        d = elem.find(\"description\")\n",
    "        t = d.text\n",
    "        for a,b in to_replace:\n",
    "            t = t.replace(a,b)\n",
    "        d.text = t\n",
    "\n",
    "for doc in docs:\n",
    "    newroot.append(doc)\n",
    "\n",
    "nzip = zipfile.ZipFile(\"test\\\\test.zip\", mode='w')\n",
    "\n",
    "print(\"creating zip file\")\n",
    "newtree = lxml.ElementTree(newroot)\n",
    "with io.BytesIO() as f:\n",
    "    newtree.write(f, pretty_print=True, xml_declaration=True, standalone=False, encoding='UTF-8', doctype=b'<!DOCTYPE TestTrackData SYSTEM \"TestTrackData.dtd\">')\n",
    "    data = f.getvalue()\n",
    "    \n",
    "nzip.writestr(\"archive_manifest.xml\", data)\n",
    "    \n",
    "print(\"copying attachments\")\n",
    "zipq.docopy(dzip, nzip)\n",
    "print(\"done\")\n",
    "nzip.close()"
   ]
  },
  {
   "cell_type": "code",
   "execution_count": 67,
   "metadata": {},
   "outputs": [],
   "source": [
    "tzip = load_zip(\"TestCases.zip\")\n",
    "ttree = load_xml(tzip)\n",
    "troot = ttree.getroot()\n",
    "\n",
    "newroot = lxml.Element(troot.tag, troot.attrib)\n",
    "newroot.text = troot.text\n",
    "\n",
    "for t in troot.xpath(\"test-case[./folder-path[contains(text(), '3.0.9')]]\"):\n",
    "    newroot.append(t)\n",
    "    for e in t.xpath(\"workflow-event/custom-field-value[@field-value='']\"):\n",
    "        e.getparent().remove(e)\n",
    "    for e in t.xpath(\"custom-field-value[@field-value='']\"):\n",
    "        e.getparent().remove(e)\n",
    "    \n",
    "newtree = lxml.ElementTree(newroot)\n",
    "with open(\"test\\\\out.xml\", 'wb') as f:\n",
    "    newtree.write(f, pretty_print=True, xml_declaration=True, standalone=False, encoding='UTF-8', \n",
    "                  doctype=b'<!DOCTYPE TestTrackData SYSTEM \"TestTrackData.dtd\">')"
   ]
  },
  {
   "cell_type": "code",
   "execution_count": null,
   "metadata": {},
   "outputs": [],
   "source": []
  }
 ],
 "metadata": {
  "kernelspec": {
   "display_name": "Python 3",
   "language": "python",
   "name": "python3"
  },
  "language_info": {
   "codemirror_mode": {
    "name": "ipython",
    "version": 3
   },
   "file_extension": ".py",
   "mimetype": "text/x-python",
   "name": "python",
   "nbconvert_exporter": "python",
   "pygments_lexer": "ipython3",
   "version": "3.5.2"
  }
 },
 "nbformat": 4,
 "nbformat_minor": 2
}
