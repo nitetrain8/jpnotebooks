{
 "cells": [
  {
   "cell_type": "code",
   "execution_count": 1,
   "metadata": {},
   "outputs": [],
   "source": [
    "from helixalmclient.ApiClient import ApiClient\n",
    "from helixalmclient.api.Security import Security\n",
    "from helixalmclient.api.Requirements import Requirements\n",
    "\n",
    "api_key = \"b0f1e58cb68a9d61cd320df4534d03b12c5a538ee8f5975a5a47944512f14f5b:5edab3331ae2316090c126895ae0c52ba6a9b64fa3918ac5f442f264b3e17ea1\"\n",
    "\n",
    "client = ApiClient()\n",
    "client.authorize_apikey(api_key)\n",
    "security = Security(client)\n",
    "token = security.getAccessToken(\"PBS Biotech\")\n",
    "client.authorize_token(token.accessToken)\n",
    "requirements = Requirements(client)\n",
    "\n",
    "from helixalmclient.api.Documents import Documents\n",
    "rdocs = Documents(client)\n",
    "\n",
    "doc = rdocs.getDocumentByID(\"PBS Biotech\", 13)"
   ]
  },
  {
   "cell_type": "code",
   "execution_count": 3,
   "metadata": {},
   "outputs": [],
   "source": [
    "import helixalmclient.api.DocumentTrees\n",
    "doctrees = helixalmclient.api.DocumentTrees.DocumentTrees(client)"
   ]
  },
  {
   "cell_type": "code",
   "execution_count": 4,
   "metadata": {},
   "outputs": [],
   "source": [
    "tree = doctrees.getDocumentTreeNodes(\"PBS Biotech\", 13, recursive=True)"
   ]
  },
  {
   "cell_type": "code",
   "execution_count": 5,
   "metadata": {},
   "outputs": [
    {
     "name": "stdout",
     "output_type": "stream",
     "text": [
      "INFO-447\n",
      "INFO-448\n",
      "MRKT-377\n",
      "SYS-385\n",
      "SYS-386\n",
      "SYS-397\n",
      "SYS-402\n",
      "SYS-401\n",
      "SYS-417\n",
      "SYS-423\n",
      "SYS-431\n",
      "SYS-445\n",
      "MRKT-453\n",
      "SYS-430\n",
      "SYS-359\n",
      "SYS-957\n"
     ]
    }
   ],
   "source": [
    "def print_children(n, l):\n",
    "    s = \" \" * l\n",
    "    for c in doctrees.getDocumentTreeChildNodes(\"PBS Biotech\", 13, n.id).childNodes:\n",
    "        print(s, c.tag)\n",
    "        print_children(c, l+1)\n",
    "\n",
    "for node in tree.nodesData:\n",
    "    print(node.tag)\n",
    "    #print_children(node, 1)"
   ]
  },
  {
   "cell_type": "code",
   "execution_count": 10,
   "metadata": {},
   "outputs": [],
   "source": [
    "doctrees.getDocumentTreeChildNodes?"
   ]
  },
  {
   "cell_type": "code",
   "execution_count": null,
   "metadata": {},
   "outputs": [],
   "source": [
    "reqs = requirements.getRequirements(\"PBS Biotech\")\n",
    "reql = reqs.requirements"
   ]
  },
  {
   "cell_type": "code",
   "execution_count": 61,
   "metadata": {},
   "outputs": [],
   "source": [
    "def request(self, method, path, qparams=None, body=None, responses=None):\n",
    "    headers = {'Connection': 'Keep-Alive'}\n",
    "    self._set_auth_header(headers)\n",
    "    params = {}\n",
    "    if qparams:\n",
    "        for k,v in qparams.items():\n",
    "            if isinstance(v, bool):\n",
    "                v = str(v).lower()\n",
    "            elif v is None:\n",
    "                pass\n",
    "            else:\n",
    "                params[k] = v\n",
    "\n",
    "    if body and body.content_type:\n",
    "        headers['Content-Type'] = body.content_type\n",
    "    rsp = self._session.request(method, path, params=params, headers=headers, verify=False)\n",
    "    return rsp\n",
    "\n",
    "projectID = \"PBS Biotech\"\n",
    "itemID = 13\n",
    "nodeID = node['id']\n",
    "recursive= True\n",
    "path = \"/{projectID}/documentTrees/{itemID}/nodes\"\n",
    "url = path.format(projectID=projectID, itemID=itemID)\n",
    "query = {\n",
    "    \"recursive\": recursive,\n",
    "    \"expand\": \"childNodes\"\n",
    "}\n",
    "res = request(client, \"GET\", client._server_url + url, query, None).json()"
   ]
  },
  {
   "cell_type": "code",
   "execution_count": 62,
   "metadata": {},
   "outputs": [
    {
     "name": "stdout",
     "output_type": "stream",
     "text": [
      "INFO-447\n",
      "INFO-448\n",
      "MRKT-377\n",
      "  SPEC-388\n",
      "  SYS-973\n",
      "   DES-381\n",
      "   DES-387\n",
      "   DES-391\n",
      "  SYS-413\n",
      "   DES-378\n",
      "   DES-379\n",
      "   DES-380\n",
      "   DES-382\n",
      "   DES-390\n",
      "   DES-383\n",
      "   DES-384\n",
      "  SYS-414\n",
      "   DES-392\n",
      "   DES-393\n",
      "   DES-394\n",
      "   DES-395\n",
      "   DES-396\n",
      "SYS-385\n",
      "SYS-386\n",
      "SYS-397\n",
      "  DES-398\n",
      "  DES-399\n",
      "  DES-400\n",
      "SYS-402\n",
      "  DES-403\n",
      "  DES-404\n",
      "  DES-405\n",
      "  DES-406\n",
      "  DES-407\n",
      "  DES-408\n",
      "  DES-410\n",
      "  DES-409\n",
      "  DES-411\n",
      "  DES-412\n",
      "SYS-401\n",
      "  DES-403\n",
      "  DES-404\n",
      "  DES-416\n",
      "  DES-415\n",
      "  DES-418\n",
      "  DES-419\n",
      "  DES-420\n",
      "  DES-421\n",
      "SYS-417\n",
      "SYS-423\n",
      "  DES-424\n",
      "SYS-431\n",
      "  DES-432\n",
      "  DES-433\n",
      "   IMPL-434\n",
      "  DES-435\n",
      "  DES-436\n",
      "  DES-437\n",
      "  DES-438\n",
      "  DES-439\n",
      "  DES-440\n",
      "  DES-441\n",
      "  DES-442\n",
      "  DES-443\n",
      "  DES-444\n",
      "SYS-445\n",
      "  DES-446\n",
      "MRKT-453\n",
      "  SYS-454\n",
      "  SYS-455\n",
      "  SYS-456\n",
      "SYS-430\n",
      "  DES-356\n",
      "  DES-360\n",
      "  DES-358\n",
      "  DES-357\n",
      "SYS-359\n",
      "  DES-429\n",
      "  DES-428\n",
      "SYS-957\n",
      "  DES-351\n",
      "   IMPL-313\n",
      "   IMPL-858\n",
      "   IMPL-859\n",
      "   IMPL-860\n",
      "  DES-354\n",
      "  DES-355\n"
     ]
    }
   ],
   "source": [
    "def print_children(n, l, dl):\n",
    "#     global __node\n",
    "#     __node = n\n",
    "    s = \" \" * l\n",
    "    if dl:\n",
    "        lnk = n['childNodes']['self']\n",
    "        rsp = request(client, \"GET\", lnk).json()\n",
    "        ob = rsp['childNodesData']\n",
    "    else:\n",
    "        ob = n['childNodes']['childNodesData']\n",
    "    \n",
    "    for c in ob:\n",
    "        print(s, c['tag'])\n",
    "        print_children(c, l+1, True)\n",
    "\n",
    "for node in res['nodesData']:\n",
    "    print(node['tag'])\n",
    "    print_children(node, 1, False)"
   ]
  },
  {
   "cell_type": "code",
   "execution_count": 60,
   "metadata": {},
   "outputs": [
    {
     "data": {
      "text/plain": [
       "{'childNodes': {'self': 'https://pbsbiotech.helixalm.cloud:8443/helix-alm/api/v0/PBS%20Biotech/documentTrees/13/nodes/24/childNodes'},\n",
       " 'id': 24,\n",
       " 'outlineNumber': '3.1',\n",
       " 'requirementID': 388,\n",
       " 'requirementLink': 'https://pbsbiotech.helixalm.cloud:8443/helix-alm/api/v0/PBS%20Biotech/requirements/388',\n",
       " 'self': 'https://pbsbiotech.helixalm.cloud:8443/helix-alm/api/v0/PBS%20Biotech/documentTrees/13/nodes/24',\n",
       " 'tag': 'SPEC-388'}"
      ]
     },
     "execution_count": 60,
     "metadata": {},
     "output_type": "execute_result"
    }
   ],
   "source": [
    "__n"
   ]
  },
  {
   "cell_type": "code",
   "execution_count": null,
   "metadata": {},
   "outputs": [],
   "source": [
    "def download_with_paging(method, args, listfield, arraytype=list):\n",
    "    ret = arraytype()\n",
    "\n",
    "    page = 1\n",
    "    total_pages = 1\n",
    "    while page <= total_pages:\n",
    "        print(\"Downloading page %d of %d\" % (page, total_pages))\n",
    "        container = method(*args, page=page)\n",
    "        paging = container.paging\n",
    "        if page != paging.page:\n",
    "            raise ValueError(\"Page value mismatch: expected '%s' got '%s\"%(page, paging.page))\n",
    "        total_pages = paging.totalPages\n",
    "        page += 1\n",
    "        ret.extend(getattr(container, listfield))\n",
    "    return ret\n",
    "        "
   ]
  },
  {
   "cell_type": "code",
   "execution_count": null,
   "metadata": {},
   "outputs": [],
   "source": [
    "reqs = download_with_paging(requirements.getRequirements, (\"PBS Biotech\",), \"requirements\")"
   ]
  },
  {
   "cell_type": "code",
   "execution_count": null,
   "metadata": {},
   "outputs": [],
   "source": []
  }
 ],
 "metadata": {
  "kernelspec": {
   "display_name": "Python 3",
   "language": "python",
   "name": "python3"
  },
  "language_info": {
   "codemirror_mode": {
    "name": "ipython",
    "version": 3
   },
   "file_extension": ".py",
   "mimetype": "text/x-python",
   "name": "python",
   "nbconvert_exporter": "python",
   "pygments_lexer": "ipython3",
   "version": "3.5.2"
  }
 },
 "nbformat": 4,
 "nbformat_minor": 2
}
