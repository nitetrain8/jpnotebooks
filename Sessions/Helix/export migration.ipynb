{
 "cells": [
  {
   "cell_type": "code",
   "execution_count": 1,
   "metadata": {},
   "outputs": [],
   "source": [
    "import os\n",
    "from lxml import etree as lxml\n",
    "import zipfile, itertools\n",
    "import io"
   ]
  },
  {
   "cell_type": "code",
   "execution_count": 2,
   "metadata": {},
   "outputs": [],
   "source": [
    "def load_xml(z):\n",
    "    with z.open(\"archive_manifest.xml\", 'r') as f:\n",
    "        tree = lxml.parse(f)\n",
    "    return tree\n",
    "\n",
    "def load_zip(file):\n",
    "    return zipfile.ZipFile(file)"
   ]
  },
  {
   "cell_type": "code",
   "execution_count": 17,
   "metadata": {},
   "outputs": [],
   "source": [
    "# documents to scan for artifacts\n",
    "documents = [\n",
    "    'PBS Bioreactor Market Requirements Document',\n",
    "    '3.0.9 Test Plan',\n",
    "    '3.0.9 Requirements',\n",
    "    'ID00013A2 Master Project Document',\n",
    "]\n",
    "\n",
    "folders = [\n",
    "    (\"/Public/Public/Bioreactor Development/PBS Software/v3 Release/3.0.9\", \"/Public/Software Development/Bioreactor Control Software/v3.0+/3.0.9\")\n",
    "]"
   ]
  },
  {
   "cell_type": "code",
   "execution_count": 4,
   "metadata": {},
   "outputs": [],
   "source": [
    "# load the data\n",
    "thezip = load_zip(\"Helix Migration Test\\ExportData.zip\")\n",
    "thetree = load_xml(thezip)\n",
    "theroot = thetree.getroot()"
   ]
  },
  {
   "cell_type": "code",
   "execution_count": 5,
   "metadata": {},
   "outputs": [
    {
     "data": {
      "text/plain": [
       "{'defect',\n",
       " 'folder',\n",
       " 'link',\n",
       " 'requirement',\n",
       " 'requirement-document',\n",
       " 'test-case'}"
      ]
     },
     "execution_count": 5,
     "metadata": {},
     "output_type": "execute_result"
    }
   ],
   "source": [
    "s = set()\n",
    "for e in theroot:\n",
    "    s.add(e.tag)\n"
   ]
  },
  {
   "cell_type": "code",
   "execution_count": 9,
   "metadata": {},
   "outputs": [
    {
     "name": "stdout",
     "output_type": "stream",
     "text": [
      "folder-name\n",
      "folder-description\n",
      "is-locked\n",
      "permissions\n",
      "task-board\n",
      "folder-access\n",
      "folder-path\n",
      "folder-type\n",
      "folder-notes\n",
      "folder-public-details\n"
     ]
    }
   ],
   "source": [
    "for e in theroot.xpath(\"folder\"):\n",
    "    break\n",
    "for el in e:\n",
    "    print(el.tag)"
   ]
  },
  {
   "cell_type": "code",
   "execution_count": 44,
   "metadata": {},
   "outputs": [
    {
     "name": "stdout",
     "output_type": "stream",
     "text": [
      "/Public/Software Development/Bioreactor Control Software/v3.0+/3.0.9\n",
      "/Public/Software Development/Bioreactor Control Software/v3.0+/3.0.9/Tests\n",
      "/Public/Software Development/Bioreactor Control Software/v3.0+/3.0.9/Results\n",
      "/Public/Software Development/Bioreactor Control Software/v3.0+/3.0.9/Tests\n",
      "/Public/Software Development/Bioreactor Control Software/v3.0+/3.0.9/Tests\n",
      "/Public/Software Development/Bioreactor Control Software/v3.0+/3.0.9/Tests\n",
      "/Public/Software Development/Bioreactor Control Software/v3.0+/3.0.9/Tests\n",
      "/Public/Software Development/Bioreactor Control Software/v3.0+/3.0.9/Tests\n",
      "/Public/Software Development/Bioreactor Control Software/v3.0+/3.0.9/Tests\n",
      "/Public/Software Development/Bioreactor Control Software/v3.0+/3.0.9/Tests\n",
      "/Public/Software Development/Bioreactor Control Software/v3.0+/3.0.9/Tests\n",
      "/Public/Software Development/Bioreactor Control Software/v3.0+/3.0.9/Tests\n",
      "/Public/Software Development/Bioreactor Control Software/v3.0+/3.0.9/Tests\n",
      "/Public/Software Development/Bioreactor Control Software/v3.0+/3.0.9/Tests\n",
      "/Public/Software Development/Bioreactor Control Software/v3.0+/3.0.9/Tests\n",
      "/Public/Software Development/Bioreactor Control Software/v3.0+/3.0.9/Tests\n",
      "/Public/Software Development/Bioreactor Control Software/v3.0+/3.0.9/Tests\n",
      "/Public/Software Development/Bioreactor Control Software/v3.0+/3.0.9/Tests\n",
      "/Public/Software Development/Bioreactor Control Software/v3.0+/3.0.9/Tests\n",
      "/Public/Software Development/Bioreactor Control Software/v3.0+/3.0.9\n",
      "/Public/Software Development/Bioreactor Control Software/v3.0+/3.0.9\n",
      "/Public/Software Development/Bioreactor Control Software/v3.0+/3.0.9\n",
      "/Public/Software Development/Bioreactor Control Software/v3.0+/3.0.9\n",
      "/Public/Software Development/Bioreactor Control Software/v3.0+/3.0.9\n",
      "/Public/Software Development/Bioreactor Control Software/v3.0+/3.0.9\n",
      "/Public/Software Development/Bioreactor Control Software/v3.0+/3.0.9\n",
      "/Public/Software Development/Bioreactor Control Software/v3.0+/3.0.9\n",
      "/Public/Software Development/Bioreactor Control Software/v3.0+/3.0.9\n",
      "/Public/Software Development/Bioreactor Control Software/v3.0+/3.0.9\n",
      "/Public/Software Development/Bioreactor Control Software/v3.0+/3.0.9\n",
      "/Public/Software Development/Bioreactor Control Software/v3.0+/3.0.9\n",
      "/Public/Software Development/Bioreactor Control Software/v3.0+/3.0.9\n",
      "/Public/Software Development/Bioreactor Control Software/v3.0+/3.0.9\n",
      "/Public/Software Development/Bioreactor Control Software/v3.0+/3.0.9\n",
      "/Public/Software Development/Bioreactor Control Software/v3.0+/3.0.9\n",
      "/Public/Software Development/Bioreactor Control Software/v3.0+/3.0.9\n",
      "/Public/Software Development/Bioreactor Control Software/v3.0+/3.0.9\n",
      "/Public/Software Development/Bioreactor Control Software/v3.0+/3.0.9\n",
      "/Public/Software Development/Bioreactor Control Software/v3.0+/3.0.9\n",
      "/Public/Software Development/Bioreactor Control Software/v3.0+/3.0.9\n",
      "/Public/Software Development/Bioreactor Control Software/v3.0+/3.0.9\n"
     ]
    }
   ],
   "source": [
    "s = set()\n",
    "# load the data\n",
    "thezip = load_zip(\"Helix Migration Test\\ExportData.zip\")\n",
    "thetree = load_xml(thezip)\n",
    "theroot = thetree.getroot()\n",
    "for fldr in theroot.xpath(\"*/folder-path\"):\n",
    "    for old, new in folders:\n",
    "        if old in fldr.text:\n",
    "            fldr.text = fldr.text.replace(old, new)\n",
    "            print(fldr.text)"
   ]
  },
  {
   "cell_type": "code",
   "execution_count": 56,
   "metadata": {},
   "outputs": [
    {
     "name": "stdout",
     "output_type": "stream",
     "text": [
      "<Element folder at 0x211ffce9508>\n",
      "<Element folder at 0x211ffd11348>\n",
      "<Element folder at 0x211ffd11f48>\n"
     ]
    }
   ],
   "source": [
    "xp = \"*[./folder-path[contains(text(), %s)]]\" % \" | \".join(\"'%s'\"%f for _, f in folders)\n",
    "for item in theroot.xpath(xp):\n",
    "   # print(item)\n",
    "    if item.find(\"record-id\") is None:\n",
    "        print(item)"
   ]
  },
  {
   "cell_type": "code",
   "execution_count": 5,
   "metadata": {},
   "outputs": [
    {
     "name": "stdout",
     "output_type": "stream",
     "text": [
      "creating zip file\n",
      "copying attachments\n",
      "done\n"
     ]
    }
   ],
   "source": [
    "\n",
    "# map record id <-> artifact\n",
    "themap = {}\n",
    "for req in theroot.xpath(\"requirement\"):\n",
    "    themap[req.find(\"record-id\").text] = req\n",
    "    \n",
    "# loop over documents and flag artifacts for import\n",
    "# this is done to only import artifacts that were part of the document\n",
    "art_seen = set()\n",
    "to_import = []\n",
    "docs = []\n",
    "\n",
    "xp = \"requirement-document[./summary/text()=(%s)]\"% \", \".join('\"%s\"' % d for d in documents)\n",
    "\n",
    "for doc in theroot.xpath(xp)\n",
    "    docs.append(doc)\n",
    "    for id in doc.xpath(\"document-tree-node/node-requirement-id/text()\"):\n",
    "        if id not in art_seen:\n",
    "            art_seen.add(id)\n",
    "            to_import.append(id)\n",
    "            \n",
    "# documents in the indicated folders are also included\n",
    "for item in theroot.xpath(\"*/\")\n",
    "            \n",
    "def docopy(q, z1, z2):\n",
    "    for name, dst in q:\n",
    "        with z1.open(name, 'r') as src:\n",
    "            z2.writestr(dst, src.read())\n",
    "zipq = []\n",
    "\n",
    "newroot = lxml.Element(theroot.tag, theroot.attrib)\n",
    "newroot.text = theroot.text\n",
    "    \n",
    "for rid in to_import:\n",
    "    req = themap[rid]\n",
    "    elem = lxml.SubElement(newroot, req.tag, req.attrib)\n",
    "    elem.text = req.text\n",
    "    elem.tail = req.tail\n",
    "    to_replace = []\n",
    "    for e in req:\n",
    "        if e.tag == 'custom-field-value' and e.attrib['field-name'] != 'Release Notes':\n",
    "            continue\n",
    "        elif e.tag == 'record-id':\n",
    "            continue\n",
    "        elif e.tag == 'requirement-number':\n",
    "            continue\n",
    "        elif e.tag == 'attachment':\n",
    "            a = lxml.SubElement(elem, e.tag, e.attrib)\n",
    "            ofn = a.attrib['filespec']\n",
    "            zipq.append(ofn)\n",
    "        else:\n",
    "            elem.append(e)\n",
    "\n",
    "for doc in docs:\n",
    "    newroot.append(doc)\n",
    "\n",
    "nzip = zipfile.ZipFile(\"test\\\\test.zip\", mode='w')\n",
    "\n",
    "print(\"creating zip file\")\n",
    "newtree = lxml.ElementTree(newroot)\n",
    "with io.BytesIO() as f:\n",
    "    newtree.write(f, pretty_print=True, xml_declaration=True, standalone=False, encoding='UTF-8', doctype=b'<!DOCTYPE TestTrackData SYSTEM \"TestTrackData.dtd\">')\n",
    "    data = f.getvalue()\n",
    "    \n",
    "nzip.writestr(\"archive_manifest.xml\", data)\n",
    "    \n",
    "print(\"copying attachments\")\n",
    "zipq.docopy(dzip, nzip)\n",
    "print(\"done\")\n",
    "nzip.close()"
   ]
  },
  {
   "cell_type": "code",
   "execution_count": 67,
   "metadata": {},
   "outputs": [],
   "source": [
    "tzip = load_zip(\"TestCases.zip\")\n",
    "ttree = load_xml(tzip)\n",
    "troot = ttree.getroot()\n",
    "\n",
    "newroot = lxml.Element(troot.tag, troot.attrib)\n",
    "newroot.text = troot.text\n",
    "\n",
    "for t in troot.xpath(\"test-case[./folder-path[contains(text(), '3.0.9')]]\"):\n",
    "    newroot.append(t)\n",
    "    for e in t.xpath(\"workflow-event/custom-field-value[@field-value='']\"):\n",
    "        e.getparent().remove(e)\n",
    "    for e in t.xpath(\"custom-field-value[@field-value='']\"):\n",
    "        e.getparent().remove(e)\n",
    "    \n",
    "newtree = lxml.ElementTree(newroot)\n",
    "with open(\"test\\\\out.xml\", 'wb') as f:\n",
    "    newtree.write(f, pretty_print=True, xml_declaration=True, standalone=False, encoding='UTF-8', \n",
    "                  doctype=b'<!DOCTYPE TestTrackData SYSTEM \"TestTrackData.dtd\">')"
   ]
  },
  {
   "cell_type": "code",
   "execution_count": null,
   "metadata": {},
   "outputs": [],
   "source": []
  }
 ],
 "metadata": {
  "kernelspec": {
   "display_name": "Python 3",
   "language": "python",
   "name": "python3"
  },
  "language_info": {
   "codemirror_mode": {
    "name": "ipython",
    "version": 3
   },
   "file_extension": ".py",
   "mimetype": "text/x-python",
   "name": "python",
   "nbconvert_exporter": "python",
   "pygments_lexer": "ipython3",
   "version": "3.5.2"
  }
 },
 "nbformat": 4,
 "nbformat_minor": 2
}
