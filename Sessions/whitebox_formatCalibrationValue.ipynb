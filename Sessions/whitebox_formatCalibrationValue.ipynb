{
 "cells": [
  {
   "cell_type": "code",
   "execution_count": 1,
   "metadata": {},
   "outputs": [],
   "source": [
    "var fs = require('fs');\n",
    "var sprintf = require('sprintf-js').sprintf;\n",
    "var value = 123456789000000;"
   ]
  },
  {
   "cell_type": "code",
   "execution_count": 34,
   "metadata": {},
   "outputs": [
    {
     "data": {
      "text/plain": [
       "[Function]"
      ]
     },
     "execution_count": 34,
     "metadata": {},
     "output_type": "execute_result"
    }
   ],
   "source": [
    "HelloApplication = {};\n",
    "HelloApplication.View = {};\n",
    "var source = 'C:\\\\Users\\\\Nathan\\\\Documents\\\\Personal\\\\test\\\\uidev_311_dualsens\\\\js\\\\views\\\\Calibration.js';\n",
    "var rawCode = fs.readFileSync(source).toString();\n",
    "var vm = require('vm');\n",
    "var ctx = vm.createContext({HelloApplication});\n",
    "vm.runInContext(rawCode, ctx);\n",
    "var formatCalibrationValue = ctx._formatCalibrationValue;"
   ]
  },
  {
   "cell_type": "code",
   "execution_count": 35,
   "metadata": {},
   "outputs": [
    {
     "name": "stdout",
     "output_type": "stream",
     "text": [
      "    AbsValue              Positive             Negative            \n",
      "----------------------------------------------------------------------\n",
      "123456789000000           1.235e+14            9     -1.235e+14           10   \n",
      "12345678900000            1.235e+13            9     -1.235e+13           10   \n",
      "1234567890000             1.235e+12            9     -1.235e+12           10   \n",
      "123456789000              1.235e+11            9     -1.235e+11           10   \n",
      "12345678900               1.235e+10            9     -1.235e+10           10   \n",
      "1234567890                1.235e+9             8     -1.235e+9            9    \n",
      "123456789                 1.235e+8             8     -1.235e+8            9    \n",
      "12345678.9                1.235e+7             8     -1.235e+7            9    \n",
      "1234567.89                1.235e+6             8     -1.235e+6            9    \n",
      "123456.789                1.235e+5             8     -1.235e+5            9    \n",
      "12345.6789                12345.679            9     -12345.679           10   \n",
      "1234.56789                1234.568             8     -1234.568            9    \n",
      "123.456789                123.457              7     -123.457             8    \n",
      "12.3456789                12.346               6     -12.346              7    \n",
      "1.23456789                1.235                5     -1.235               6    \n",
      "0.123456789               0.1235               6     -0.1235              7    \n",
      "0.0123456789              0.01235              7     -0.01235             8    \n",
      "0.00123456789             0.001235             8     -0.001235            9    \n",
      "0.000123456789            0.0001235            9     -0.0001235           10   \n",
      "0.0000123456789           1.235e-5             8     -1.235e-5            9    \n",
      "0.00000123456789          1.235e-6             8     -1.235e-6            9    \n",
      "1.23456789e-7             1.235e-7             8     -1.235e-7            9    \n",
      "1.23456789e-8             1.235e-8             8     -1.235e-8            9    \n",
      "1.2345678900000001e-9     1.235e-9             8     -1.235e-9            9    \n",
      "1.23456789e-10            1.235e-10            9     -1.235e-10           10   \n",
      "1.2345678899999998e-11    1.235e-11            9     -1.235e-11           10   \n",
      "1.23456789e-12            1.235e-12            9     -1.235e-12           10   \n",
      "1.23456789e-13            1.235e-13            9     -1.235e-13           10   \n",
      "1.2345678900000001e-14    1.235e-14            9     -1.235e-14           10   \n",
      "1.23456789e-15            1.235e-15            9     -1.235e-15           10   \n"
     ]
    }
   ],
   "source": [
    "console.log(sprintf(\"    %-21s %-20s %-20s\", \"AbsValue\", \"Positive\", \"Negative\"));\n",
    "console.log(\"----------------------------------------------------------------------\")\n",
    "for (var i = 0; i < 30; ++i){\n",
    "    v = value / (10 ** i);\n",
    "    v1 = formatCalibrationValue(v);\n",
    "    v2 = formatCalibrationValue(-v);\n",
    "    console.log(sprintf(\"%-25f %-20s %-5d %-20s %-5d\", v, v1, v1.length, v2, v2.length));\n",
    "}"
   ]
  },
  {
   "cell_type": "code",
   "execution_count": 31,
   "metadata": {},
   "outputs": [
    {
     "data": {
      "text/plain": [
       "8"
      ]
     },
     "execution_count": 31,
     "metadata": {},
     "output_type": "execute_result"
    }
   ],
   "source": [
    "v1.length"
   ]
  },
  {
   "cell_type": "code",
   "execution_count": null,
   "metadata": {},
   "outputs": [],
   "source": []
  }
 ],
 "metadata": {
  "kernelspec": {
   "display_name": "Javascript (Node.js)",
   "language": "javascript",
   "name": "javascript"
  },
  "language_info": {
   "file_extension": ".js",
   "mimetype": "application/javascript",
   "name": "javascript",
   "version": "10.1.0"
  }
 },
 "nbformat": 4,
 "nbformat_minor": 2
}
