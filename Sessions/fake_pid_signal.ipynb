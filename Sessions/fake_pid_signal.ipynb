{
 "cells": [
  {
   "cell_type": "code",
   "execution_count": 1,
   "metadata": {},
   "outputs": [],
   "source": [
    "from officelib.xllib import *\n",
    "from hello.pid.lvpid import PIDController as PID\n",
    "from hello.pid.delay import DelayBuffer as DB"
   ]
  },
  {
   "cell_type": "code",
   "execution_count": 2,
   "metadata": {},
   "outputs": [],
   "source": [
    "xl = Excel()\n",
    "wb = xl.Workbooks(1)\n",
    "ws = wb.Worksheets(1)\n",
    "cells = ws.Cells\n",
    "cr = cells.Range"
   ]
  },
  {
   "cell_type": "code",
   "execution_count": 34,
   "metadata": {},
   "outputs": [],
   "source": [
    "def paste(x,y,op):\n",
    "    c1 = cr(\"B3\")\n",
    "    c2 = c1.GetOffset(len(x) - 1, 2)\n",
    "    target = cr(c1, c2)\n",
    "    data = list(zip(x,y,op))\n",
    "    target.Value = data"
   ]
  },
  {
   "cell_type": "code",
   "execution_count": 4,
   "metadata": {},
   "outputs": [
    {
     "name": "stdout",
     "output_type": "stream",
     "text": [
      "Using matplotlib backend: TkAgg\n"
     ]
    }
   ],
   "source": [
    "%matplotlib\n",
    "from matplotlib import pyplot as plt\n",
    "plt.ion()"
   ]
  },
  {
   "cell_type": "code",
   "execution_count": 72,
   "metadata": {},
   "outputs": [],
   "source": [
    "p = .11\n",
    "i = 0.01\n",
    "\n",
    "pid = PID(p,i, mode=PID.OFF)\n",
    "pid.set_mode(PID.AUTO, 0, 20)\n",
    "\n",
    "db = DB(8)\n",
    "\n",
    "def o2r(o):\n",
    "    return 0.55 * o\n",
    "\n",
    "x = list(range(120))\n",
    "pv = 0\n",
    "sp = 20\n",
    "o = 0\n",
    "y = []\n",
    "op = []\n",
    "for _ in x:\n",
    "    y.append(pv)\n",
    "    op.append(o)\n",
    "    o = pid.step(pv, sp)\n",
    "    pv = o2r(o)\n",
    "    pv = db.cycle(pv)\n",
    "    \n",
    "paste(x,y,op)"
   ]
  },
  {
   "cell_type": "code",
   "execution_count": 6,
   "metadata": {},
   "outputs": [
    {
     "data": {
      "text/plain": [
       "<matplotlib.collections.PathCollection at 0xdde9a48>"
      ]
     },
     "execution_count": 6,
     "metadata": {},
     "output_type": "execute_result"
    }
   ],
   "source": [
    "plt.scatter(x,y)"
   ]
  },
  {
   "cell_type": "code",
   "execution_count": null,
   "metadata": {},
   "outputs": [],
   "source": []
  }
 ],
 "metadata": {
  "kernelspec": {
   "display_name": "Python 3",
   "language": "python",
   "name": "python3"
  },
  "language_info": {
   "codemirror_mode": {
    "name": "ipython",
    "version": 3
   },
   "file_extension": ".py",
   "mimetype": "text/x-python",
   "name": "python",
   "nbconvert_exporter": "python",
   "pygments_lexer": "ipython3",
   "version": "3.8.2"
  }
 },
 "nbformat": 4,
 "nbformat_minor": 4
}
