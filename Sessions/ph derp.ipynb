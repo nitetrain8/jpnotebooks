{
 "cells": [
  {
   "cell_type": "code",
   "execution_count": 49,
   "metadata": {},
   "outputs": [
    {
     "name": "stdout",
     "output_type": "stream",
     "text": [
      "Using matplotlib backend: TkAgg\n"
     ]
    }
   ],
   "source": [
    "import numpy as np\n",
    "from matplotlib import pyplot as plt\n",
    "%matplotlib"
   ]
  },
  {
   "cell_type": "code",
   "execution_count": 67,
   "metadata": {},
   "outputs": [],
   "source": [
    "# Henry's law\n",
    "def calc_hcp(T):\n",
    "    C = 2400 \n",
    "    T0 = 298\n",
    "    hcp0 = 3.4e-2\n",
    "    return hcp0*np.exp(C*(1/T - 1/T0))\n",
    "hcp = calc_hcp(T=273.15 + 37)\n",
    "\n",
    "def qf(a,b,c):\n",
    "    return (-b+np.sqrt(b**2-4*a*c))/(2*a)\n",
    "\n",
    "def equil(c1, c2, c3, ka):\n",
    "    \"\"\" Calculate equilibrium for the reaction A -> B + C.\n",
    "    Includes an optional alpha parameter to \"slow\" the reaction rate. \n",
    "    \"\"\"\n",
    "    a = 1\n",
    "    b = c2+c3+ka\n",
    "    c = c2*c3 - ka*c1\n",
    "    x = qf(a,b,c)\n",
    "    return c1-x, c2+x, c3+x\n",
    "\n",
    "def ph_to_co2(ph, hco3, hcp=hcp):\n",
    "    h = 10**(-ph)\n",
    "    w = 1e-7\n",
    "    ka = 4.45e-7\n",
    "    bc = hco3 + h - w\n",
    "    co2 = bc * h / ka\n",
    "    return co2 / hcp\n",
    "\n",
    "def ph_to_hco3(ph, co2, hcp=hcp):\n",
    "    \"\"\" \n",
    "    co2: % co2 atm\n",
    "    \"\"\"\n",
    "    h=10**(-ph)\n",
    "    co2 = co2 * hcp * 0.01\n",
    "    return ka*co2/h * 84\n",
    "\n",
    "def deltab(ph1, ph2, co2):\n",
    "    \"\"\" \n",
    "    co2: % co2 atm\n",
    "    \"\"\"\n",
    "    c = co2 * hcp * 0.01\n",
    "    h1 = 10**(-ph1)\n",
    "    h2 = 10**(-ph2)\n",
    "    db = ka*c*(h1-h2)/(h2*h1)\n",
    "    return db * 84  # M -> g/L\n",
    "\n",
    "def co2_dissolved(ph, b):\n",
    "    h = 10**(-ph)\n",
    "    return h*b/ka"
   ]
  },
  {
   "cell_type": "code",
   "execution_count": 34,
   "metadata": {},
   "outputs": [
    {
     "data": {
      "text/plain": [
       "(0.0049600832993608318, 1e-07, 0.024047619047619047)"
      ]
     },
     "execution_count": 34,
     "metadata": {},
     "output_type": "execute_result"
    }
   ],
   "source": [
    "ka = 4.45e-7\n",
    "co2 = 20 * hcp * 0.01 # % CO2 atm -> mol/L equilibrium in water\n",
    "hplus = 1e-7\n",
    "bicarb = 2.02 / 84  # g/L -> mol/L\n",
    "co2, hplus, bicarb"
   ]
  },
  {
   "cell_type": "code",
   "execution_count": 35,
   "metadata": {},
   "outputs": [
    {
     "data": {
      "text/plain": [
       "(0.0049600915130815805, 9.1786279251310128e-08, 0.024047610833898298)"
      ]
     },
     "execution_count": 35,
     "metadata": {},
     "output_type": "execute_result"
    }
   ],
   "source": [
    "equil(co2, hplus, bicarb, ka)"
   ]
  },
  {
   "cell_type": "code",
   "execution_count": 36,
   "metadata": {},
   "outputs": [
    {
     "data": {
      "text/plain": [
       "7.0372222348205753"
      ]
     },
     "execution_count": 36,
     "metadata": {},
     "output_type": "execute_result"
    }
   ],
   "source": [
    "-np.log10(_[1])"
   ]
  },
  {
   "cell_type": "code",
   "execution_count": 55,
   "metadata": {},
   "outputs": [
    {
     "data": {
      "text/plain": [
       "0.003708158274602157"
      ]
     },
     "execution_count": 55,
     "metadata": {},
     "output_type": "execute_result"
    }
   ],
   "source": [
    "ph_to_hco3(7.037, 0.04)"
   ]
  },
  {
   "cell_type": "code",
   "execution_count": 47,
   "metadata": {},
   "outputs": [
    {
     "data": {
      "text/plain": [
       "0.30290255924387011"
      ]
     },
     "execution_count": 47,
     "metadata": {},
     "output_type": "execute_result"
    }
   ],
   "source": [
    "ph_to_hco3(6.9, 20)-ph_to_hco3(6.8, 20)"
   ]
  },
  {
   "cell_type": "code",
   "execution_count": 48,
   "metadata": {},
   "outputs": [
    {
     "data": {
      "text/plain": [
       "0.30290255924387"
      ]
     },
     "execution_count": 48,
     "metadata": {},
     "output_type": "execute_result"
    }
   ],
   "source": [
    "deltab(6.8, 6.9, 20)"
   ]
  },
  {
   "cell_type": "code",
   "execution_count": 57,
   "metadata": {},
   "outputs": [
    {
     "data": {
      "text/plain": [
       "2.3286181139657858"
      ]
     },
     "execution_count": 57,
     "metadata": {},
     "output_type": "execute_result"
    }
   ],
   "source": [
    "ph_to_hco3(7.4,10)"
   ]
  },
  {
   "cell_type": "code",
   "execution_count": 60,
   "metadata": {},
   "outputs": [
    {
     "data": {
      "text/plain": [
       "0.1588923027743224"
      ]
     },
     "execution_count": 60,
     "metadata": {},
     "output_type": "execute_result"
    }
   ],
   "source": [
    "ph_to_co2(7.4,3.7/84)"
   ]
  },
  {
   "cell_type": "code",
   "execution_count": 76,
   "metadata": {},
   "outputs": [
    {
     "data": {
      "text/plain": [
       "3.6542073536545927"
      ]
     },
     "execution_count": 76,
     "metadata": {},
     "output_type": "execute_result"
    }
   ],
   "source": [
    "ph_to_hco3(7.4, 10, calc_hcp(273+32))*84/61"
   ]
  },
  {
   "cell_type": "code",
   "execution_count": null,
   "metadata": {},
   "outputs": [],
   "source": []
  }
 ],
 "metadata": {
  "kernelspec": {
   "display_name": "Python 3",
   "language": "python",
   "name": "python3"
  },
  "language_info": {
   "codemirror_mode": {
    "name": "ipython",
    "version": 3
   },
   "file_extension": ".py",
   "mimetype": "text/x-python",
   "name": "python",
   "nbconvert_exporter": "python",
   "pygments_lexer": "ipython3",
   "version": "3.5.2"
  }
 },
 "nbformat": 4,
 "nbformat_minor": 2
}
