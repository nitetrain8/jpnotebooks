{
 "cells": [
  {
   "cell_type": "code",
   "execution_count": 2,
   "metadata": {
    "collapsed": true
   },
   "outputs": [],
   "source": [
    "from hello.hello3 import *\n",
    "import time; import datetime"
   ]
  },
  {
   "cell_type": "code",
   "execution_count": 25,
   "metadata": {
    "collapsed": true
   },
   "outputs": [],
   "source": [
    "def call(f, *args):\n",
    "    while True:\n",
    "        try:\n",
    "            return f(*args)\n",
    "        except HelloError as e:\n",
    "            print(repr(e))\n",
    "            h.logout()\n",
    "            h.login(\"pbstech\", 727246)\n",
    "\n",
    "def test_once(bid):\n",
    "    start = time.time()\n",
    "    call(h.getbatches)\n",
    "    call(h.getdatareport_bybatchid, bid)\n",
    "    return time.time() - start"
   ]
  },
  {
   "cell_type": "code",
   "execution_count": 26,
   "metadata": {
    "collapsed": true
   },
   "outputs": [],
   "source": [
    "from collections import defaultdict\n",
    "results = defaultdict(list)\n",
    "def test(b):\n",
    "    print(\"Downloading (%d/%d) %r...\"%(j, n, b.name), end=\"\")\n",
    "    t = test_once(b.id)\n",
    "    print(\" completed in %.1f seconds\"%t)\n",
    "    tag = \"%s(%d)\"%(b.name, b.id)\n",
    "    results[tag].append(t)"
   ]
  },
  {
   "cell_type": "code",
   "execution_count": 22,
   "metadata": {},
   "outputs": [
    {
     "data": {
      "text/plain": [
       "102.32905340194702"
      ]
     },
     "execution_count": 22,
     "metadata": {},
     "output_type": "execute_result"
    }
   ],
   "source": [
    "h = HelloApp('192.168.1.9')\n",
    "h.login(\"pbstech\", 727246)\n",
    "test_once(bl.names_to_batches.get('da run 06_2').id)"
   ]
  },
  {
   "cell_type": "code",
   "execution_count": null,
   "metadata": {
    "collapsed": true
   },
   "outputs": [],
   "source": []
  },
  {
   "cell_type": "code",
   "execution_count": 27,
   "metadata": {},
   "outputs": [
    {
     "name": "stdout",
     "output_type": "stream",
     "text": [
      "Downloading (1/70) 'hla ips perf r01'...ServerCallError('The operation took longer than the specified timeout of 150000 ms\\nCustom Error Message.vi->Timeout.vi->Get Report for Web UI.vi->GenerateReport.vi->GenerateReport.vi.ProxyCaller',)\n",
      "ServerCallError('Cannot generate a report because one is being generated for user \"pbstech\" in Hello UI\\nCustom Error Message.vi->Check if Report Being Generated.vi->Get Report for Web UI.vi->GenerateReport.vi->GenerateReport.vi.ProxyCaller',)\n",
      "ServerCallError('Cannot generate a report because one is being generated for user \"pbstech\" in Hello UI\\nCustom Error Message.vi->Check if Report Being Generated.vi->Get Report for Web UI.vi->GenerateReport.vi->GenerateReport.vi.ProxyCaller',)\n",
      "ServerCallError('Cannot generate a report because one is being generated for user \"pbstech\" in Hello UI\\nCustom Error Message.vi->Check if Report Being Generated.vi->Get Report for Web UI.vi->GenerateReport.vi->GenerateReport.vi.ProxyCaller',)\n",
      "ServerCallError('Cannot generate a report because one is being generated for user \"pbstech\" in Hello UI\\nCustom Error Message.vi->Check if Report Being Generated.vi->Get Report for Web UI.vi->GenerateReport.vi->GenerateReport.vi.ProxyCaller',)\n",
      "ServerCallError('Cannot generate a report because one is being generated for user \"pbstech\" in Hello UI\\nCustom Error Message.vi->Check if Report Being Generated.vi->Get Report for Web UI.vi->GenerateReport.vi->GenerateReport.vi.ProxyCaller',)\n",
      "ServerCallError('Cannot generate a report because one is being generated for user \"pbstech\" in Hello UI\\nCustom Error Message.vi->Check if Report Being Generated.vi->Get Report for Web UI.vi->GenerateReport.vi->GenerateReport.vi.ProxyCaller',)\n",
      "ServerCallError('Cannot generate a report because one is being generated for user \"pbstech\" in Hello UI\\nCustom Error Message.vi->Check if Report Being Generated.vi->Get Report for Web UI.vi->GenerateReport.vi->GenerateReport.vi.ProxyCaller',)\n",
      "ServerCallError('Cannot generate a report because one is being generated for user \"pbstech\" in Hello UI\\nCustom Error Message.vi->Check if Report Being Generated.vi->Get Report for Web UI.vi->GenerateReport.vi->GenerateReport.vi.ProxyCaller',)\n",
      "ServerCallError('Cannot generate a report because one is being generated for user \"pbstech\" in Hello UI\\nCustom Error Message.vi->Check if Report Being Generated.vi->Get Report for Web UI.vi->GenerateReport.vi->GenerateReport.vi.ProxyCaller',)\n",
      "ServerCallError('Cannot generate a report because one is being generated for user \"pbstech\" in Hello UI\\nCustom Error Message.vi->Check if Report Being Generated.vi->Get Report for Web UI.vi->GenerateReport.vi->GenerateReport.vi.ProxyCaller',)\n",
      "ServerCallError('Cannot generate a report because one is being generated for user \"pbstech\" in Hello UI\\nCustom Error Message.vi->Check if Report Being Generated.vi->Get Report for Web UI.vi->GenerateReport.vi->GenerateReport.vi.ProxyCaller',)\n",
      "ServerCallError('Cannot generate a report because one is being generated for user \"pbstech\" in Hello UI\\nCustom Error Message.vi->Check if Report Being Generated.vi->Get Report for Web UI.vi->GenerateReport.vi->GenerateReport.vi.ProxyCaller',)\n",
      "ServerCallError('Cannot generate a report because one is being generated for user \"pbstech\" in Hello UI\\nCustom Error Message.vi->Check if Report Being Generated.vi->Get Report for Web UI.vi->GenerateReport.vi->GenerateReport.vi.ProxyCaller',)\n",
      "ServerCallError('Cannot generate a report because one is being generated for user \"pbstech\" in Hello UI\\nCustom Error Message.vi->Check if Report Being Generated.vi->Get Report for Web UI.vi->GenerateReport.vi->GenerateReport.vi.ProxyCaller',)\n",
      "ServerCallError('Cannot generate a report because one is being generated for user \"pbstech\" in Hello UI\\nCustom Error Message.vi->Check if Report Being Generated.vi->Get Report for Web UI.vi->GenerateReport.vi->GenerateReport.vi.ProxyCaller',)\n",
      "ServerCallError('Cannot generate a report because one is being generated for user \"pbstech\" in Hello UI\\nCustom Error Message.vi->Check if Report Being Generated.vi->Get Report for Web UI.vi->GenerateReport.vi->GenerateReport.vi.ProxyCaller',)\n",
      "ServerCallError('Cannot generate a report because one is being generated for user \"pbstech\" in Hello UI\\nCustom Error Message.vi->Check if Report Being Generated.vi->Get Report for Web UI.vi->GenerateReport.vi->GenerateReport.vi.ProxyCaller',)\n",
      "ServerCallError('Cannot generate a report because one is being generated for user \"pbstech\" in Hello UI\\nCustom Error Message.vi->Check if Report Being Generated.vi->Get Report for Web UI.vi->GenerateReport.vi->GenerateReport.vi.ProxyCaller',)\n",
      "ServerCallError('Cannot generate a report because one is being generated for user \"pbstech\" in Hello UI\\nCustom Error Message.vi->Check if Report Being Generated.vi->Get Report for Web UI.vi->GenerateReport.vi->GenerateReport.vi.ProxyCaller',)\n",
      "ServerCallError('Cannot generate a report because one is being generated for user \"pbstech\" in Hello UI\\nCustom Error Message.vi->Check if Report Being Generated.vi->Get Report for Web UI.vi->GenerateReport.vi->GenerateReport.vi.ProxyCaller',)\n",
      "ServerCallError('Cannot generate a report because one is being generated for user \"pbstech\" in Hello UI\\nCustom Error Message.vi->Check if Report Being Generated.vi->Get Report for Web UI.vi->GenerateReport.vi->GenerateReport.vi.ProxyCaller',)\n",
      "ServerCallError('Cannot generate a report because one is being generated for user \"pbstech\" in Hello UI\\nCustom Error Message.vi->Check if Report Being Generated.vi->Get Report for Web UI.vi->GenerateReport.vi->GenerateReport.vi.ProxyCaller',)\n",
      "ServerCallError('Cannot generate a report because one is being generated for user \"pbstech\" in Hello UI\\nCustom Error Message.vi->Check if Report Being Generated.vi->Get Report for Web UI.vi->GenerateReport.vi->GenerateReport.vi.ProxyCaller',)\n",
      "ServerCallError('Cannot generate a report because one is being generated for user \"pbstech\" in Hello UI\\nCustom Error Message.vi->Check if Report Being Generated.vi->Get Report for Web UI.vi->GenerateReport.vi->GenerateReport.vi.ProxyCaller',)\n",
      "ServerCallError('Cannot generate a report because one is being generated for user \"pbstech\" in Hello UI\\nCustom Error Message.vi->Check if Report Being Generated.vi->Get Report for Web UI.vi->GenerateReport.vi->GenerateReport.vi.ProxyCaller',)\n",
      "ServerCallError('Cannot generate a report because one is being generated for user \"pbstech\" in Hello UI\\nCustom Error Message.vi->Check if Report Being Generated.vi->Get Report for Web UI.vi->GenerateReport.vi->GenerateReport.vi.ProxyCaller',)\n",
      "ServerCallError('Cannot generate a report because one is being generated for user \"pbstech\" in Hello UI\\nCustom Error Message.vi->Check if Report Being Generated.vi->Get Report for Web UI.vi->GenerateReport.vi->GenerateReport.vi.ProxyCaller',)\n",
      "ServerCallError('Cannot generate a report because one is being generated for user \"pbstech\" in Hello UI\\nCustom Error Message.vi->Check if Report Being Generated.vi->Get Report for Web UI.vi->GenerateReport.vi->GenerateReport.vi.ProxyCaller',)\n",
      "ServerCallError('Cannot generate a report because one is being generated for user \"pbstech\" in Hello UI\\nCustom Error Message.vi->Check if Report Being Generated.vi->Get Report for Web UI.vi->GenerateReport.vi->GenerateReport.vi.ProxyCaller',)\n",
      "ServerCallError('Cannot generate a report because one is being generated for user \"pbstech\" in Hello UI\\nCustom Error Message.vi->Check if Report Being Generated.vi->Get Report for Web UI.vi->GenerateReport.vi->GenerateReport.vi.ProxyCaller',)\n",
      "ServerCallError('Cannot generate a report because one is being generated for user \"pbstech\" in Hello UI\\nCustom Error Message.vi->Check if Report Being Generated.vi->Get Report for Web UI.vi->GenerateReport.vi->GenerateReport.vi.ProxyCaller',)\n",
      "ServerCallError('Cannot generate a report because one is being generated for user \"pbstech\" in Hello UI\\nCustom Error Message.vi->Check if Report Being Generated.vi->Get Report for Web UI.vi->GenerateReport.vi->GenerateReport.vi.ProxyCaller',)\n",
      "ServerCallError('Cannot generate a report because one is being generated for user \"pbstech\" in Hello UI\\nCustom Error Message.vi->Check if Report Being Generated.vi->Get Report for Web UI.vi->GenerateReport.vi->GenerateReport.vi.ProxyCaller',)\n"
     ]
    },
    {
     "name": "stdout",
     "output_type": "stream",
     "text": [
      "ServerCallError('Cannot generate a report because one is being generated for user \"pbstech\" in Hello UI\\nCustom Error Message.vi->Check if Report Being Generated.vi->Get Report for Web UI.vi->GenerateReport.vi->GenerateReport.vi.ProxyCaller',)\n",
      "ServerCallError('Cannot generate a report because one is being generated for user \"pbstech\" in Hello UI\\nCustom Error Message.vi->Check if Report Being Generated.vi->Get Report for Web UI.vi->GenerateReport.vi->GenerateReport.vi.ProxyCaller',)\n",
      "ServerCallError('Cannot generate a report because one is being generated for user \"pbstech\" in Hello UI\\nCustom Error Message.vi->Check if Report Being Generated.vi->Get Report for Web UI.vi->GenerateReport.vi->GenerateReport.vi.ProxyCaller',)\n",
      "ServerCallError('Cannot generate a report because one is being generated for user \"pbstech\" in Hello UI\\nCustom Error Message.vi->Check if Report Being Generated.vi->Get Report for Web UI.vi->GenerateReport.vi->GenerateReport.vi.ProxyCaller',)\n",
      "ServerCallError('Cannot generate a report because one is being generated for user \"pbstech\" in Hello UI\\nCustom Error Message.vi->Check if Report Being Generated.vi->Get Report for Web UI.vi->GenerateReport.vi->GenerateReport.vi.ProxyCaller',)\n",
      "ServerCallError('Cannot generate a report because one is being generated for user \"pbstech\" in Hello UI\\nCustom Error Message.vi->Check if Report Being Generated.vi->Get Report for Web UI.vi->GenerateReport.vi->GenerateReport.vi.ProxyCaller',)\n",
      "ServerCallError('Cannot generate a report because one is being generated for user \"pbstech\" in Hello UI\\nCustom Error Message.vi->Check if Report Being Generated.vi->Get Report for Web UI.vi->GenerateReport.vi->GenerateReport.vi.ProxyCaller',)\n",
      "ServerCallError('Cannot generate a report because one is being generated for user \"pbstech\" in Hello UI\\nCustom Error Message.vi->Check if Report Being Generated.vi->Get Report for Web UI.vi->GenerateReport.vi->GenerateReport.vi.ProxyCaller',)\n",
      "ServerCallError('Cannot generate a report because one is being generated for user \"pbstech\" in Hello UI\\nCustom Error Message.vi->Check if Report Being Generated.vi->Get Report for Web UI.vi->GenerateReport.vi->GenerateReport.vi.ProxyCaller',)\n",
      "ServerCallError('Cannot generate a report because one is being generated for user \"pbstech\" in Hello UI\\nCustom Error Message.vi->Check if Report Being Generated.vi->Get Report for Web UI.vi->GenerateReport.vi->GenerateReport.vi.ProxyCaller',)\n",
      "ServerCallError('The operation took longer than the specified timeout of 150000 ms\\nCustom Error Message.vi->Timeout.vi->Get Report for Web UI.vi->GenerateReport.vi->GenerateReport.vi.ProxyCaller',)\n",
      "ServerCallError('Cannot generate a report because one is being generated for user \"pbstech\" in Hello UI\\nCustom Error Message.vi->Check if Report Being Generated.vi->Get Report for Web UI.vi->GenerateReport.vi->GenerateReport.vi.ProxyCaller',)\n",
      "ServerCallError('Cannot generate a report because one is being generated for user \"pbstech\" in Hello UI\\nCustom Error Message.vi->Check if Report Being Generated.vi->Get Report for Web UI.vi->GenerateReport.vi->GenerateReport.vi.ProxyCaller',)\n",
      "ServerCallError('Cannot generate a report because one is being generated for user \"pbstech\" in Hello UI\\nCustom Error Message.vi->Check if Report Being Generated.vi->Get Report for Web UI.vi->GenerateReport.vi->GenerateReport.vi.ProxyCaller',)\n",
      "ServerCallError('Cannot generate a report because one is being generated for user \"pbstech\" in Hello UI\\nCustom Error Message.vi->Check if Report Being Generated.vi->Get Report for Web UI.vi->GenerateReport.vi->GenerateReport.vi.ProxyCaller',)\n",
      "ServerCallError('Cannot generate a report because one is being generated for user \"pbstech\" in Hello UI\\nCustom Error Message.vi->Check if Report Being Generated.vi->Get Report for Web UI.vi->GenerateReport.vi->GenerateReport.vi.ProxyCaller',)\n",
      "ServerCallError('Cannot generate a report because one is being generated for user \"pbstech\" in Hello UI\\nCustom Error Message.vi->Check if Report Being Generated.vi->Get Report for Web UI.vi->GenerateReport.vi->GenerateReport.vi.ProxyCaller',)\n",
      "ServerCallError('Cannot generate a report because one is being generated for user \"pbstech\" in Hello UI\\nCustom Error Message.vi->Check if Report Being Generated.vi->Get Report for Web UI.vi->GenerateReport.vi->GenerateReport.vi.ProxyCaller',)\n",
      "ServerCallError('Cannot generate a report because one is being generated for user \"pbstech\" in Hello UI\\nCustom Error Message.vi->Check if Report Being Generated.vi->Get Report for Web UI.vi->GenerateReport.vi->GenerateReport.vi.ProxyCaller',)\n",
      "ServerCallError('Cannot generate a report because one is being generated for user \"pbstech\" in Hello UI\\nCustom Error Message.vi->Check if Report Being Generated.vi->Get Report for Web UI.vi->GenerateReport.vi->GenerateReport.vi.ProxyCaller',)\n",
      "ServerCallError('Cannot generate a report because one is being generated for user \"pbstech\" in Hello UI\\nCustom Error Message.vi->Check if Report Being Generated.vi->Get Report for Web UI.vi->GenerateReport.vi->GenerateReport.vi.ProxyCaller',)\n",
      "ServerCallError('Cannot generate a report because one is being generated for user \"pbstech\" in Hello UI\\nCustom Error Message.vi->Check if Report Being Generated.vi->Get Report for Web UI.vi->GenerateReport.vi->GenerateReport.vi.ProxyCaller',)\n",
      "ServerCallError('Cannot generate a report because one is being generated for user \"pbstech\" in Hello UI\\nCustom Error Message.vi->Check if Report Being Generated.vi->Get Report for Web UI.vi->GenerateReport.vi->GenerateReport.vi.ProxyCaller',)\n",
      "ServerCallError('Cannot generate a report because one is being generated for user \"pbstech\" in Hello UI\\nCustom Error Message.vi->Check if Report Being Generated.vi->Get Report for Web UI.vi->GenerateReport.vi->GenerateReport.vi.ProxyCaller',)\n",
      "ServerCallError('Cannot generate a report because one is being generated for user \"pbstech\" in Hello UI\\nCustom Error Message.vi->Check if Report Being Generated.vi->Get Report for Web UI.vi->GenerateReport.vi->GenerateReport.vi.ProxyCaller',)\n",
      "ServerCallError('Cannot generate a report because one is being generated for user \"pbstech\" in Hello UI\\nCustom Error Message.vi->Check if Report Being Generated.vi->Get Report for Web UI.vi->GenerateReport.vi->GenerateReport.vi.ProxyCaller',)\n",
      "ServerCallError('The operation took longer than the specified timeout of 150000 ms\\nCustom Error Message.vi->Timeout.vi->Get Report for Web UI.vi->GenerateReport.vi->GenerateReport.vi.ProxyCaller',)\n",
      "ServerCallError('Cannot generate a report because one is being generated for user \"pbstech\" in Hello UI\\nCustom Error Message.vi->Check if Report Being Generated.vi->Get Report for Web UI.vi->GenerateReport.vi->GenerateReport.vi.ProxyCaller',)\n",
      "ServerCallError('Cannot generate a report because one is being generated for user \"pbstech\" in Hello UI\\nCustom Error Message.vi->Check if Report Being Generated.vi->Get Report for Web UI.vi->GenerateReport.vi->GenerateReport.vi.ProxyCaller',)\n",
      "ServerCallError('Cannot generate a report because one is being generated for user \"pbstech\" in Hello UI\\nCustom Error Message.vi->Check if Report Being Generated.vi->Get Report for Web UI.vi->GenerateReport.vi->GenerateReport.vi.ProxyCaller',)\n",
      "ServerCallError('Cannot generate a report because one is being generated for user \"pbstech\" in Hello UI\\nCustom Error Message.vi->Check if Report Being Generated.vi->Get Report for Web UI.vi->GenerateReport.vi->GenerateReport.vi.ProxyCaller',)\n",
      "ServerCallError('Cannot generate a report because one is being generated for user \"pbstech\" in Hello UI\\nCustom Error Message.vi->Check if Report Being Generated.vi->Get Report for Web UI.vi->GenerateReport.vi->GenerateReport.vi.ProxyCaller',)\n",
      "ServerCallError('Cannot generate a report because one is being generated for user \"pbstech\" in Hello UI\\nCustom Error Message.vi->Check if Report Being Generated.vi->Get Report for Web UI.vi->GenerateReport.vi->GenerateReport.vi.ProxyCaller',)\n",
      "ServerCallError('Cannot generate a report because one is being generated for user \"pbstech\" in Hello UI\\nCustom Error Message.vi->Check if Report Being Generated.vi->Get Report for Web UI.vi->GenerateReport.vi->GenerateReport.vi.ProxyCaller',)\n"
     ]
    },
    {
     "name": "stdout",
     "output_type": "stream",
     "text": [
      "ServerCallError('Cannot generate a report because one is being generated for user \"pbstech\" in Hello UI\\nCustom Error Message.vi->Check if Report Being Generated.vi->Get Report for Web UI.vi->GenerateReport.vi->GenerateReport.vi.ProxyCaller',)\n",
      "ServerCallError('Cannot generate a report because one is being generated for user \"pbstech\" in Hello UI\\nCustom Error Message.vi->Check if Report Being Generated.vi->Get Report for Web UI.vi->GenerateReport.vi->GenerateReport.vi.ProxyCaller',)\n",
      "ServerCallError('Cannot generate a report because one is being generated for user \"pbstech\" in Hello UI\\nCustom Error Message.vi->Check if Report Being Generated.vi->Get Report for Web UI.vi->GenerateReport.vi->GenerateReport.vi.ProxyCaller',)\n",
      "ServerCallError('Cannot generate a report because one is being generated for user \"pbstech\" in Hello UI\\nCustom Error Message.vi->Check if Report Being Generated.vi->Get Report for Web UI.vi->GenerateReport.vi->GenerateReport.vi.ProxyCaller',)\n",
      "ServerCallError('Cannot generate a report because one is being generated for user \"pbstech\" in Hello UI\\nCustom Error Message.vi->Check if Report Being Generated.vi->Get Report for Web UI.vi->GenerateReport.vi->GenerateReport.vi.ProxyCaller',)\n",
      "ServerCallError('Cannot generate a report because one is being generated for user \"pbstech\" in Hello UI\\nCustom Error Message.vi->Check if Report Being Generated.vi->Get Report for Web UI.vi->GenerateReport.vi->GenerateReport.vi.ProxyCaller',)\n",
      "ServerCallError('The operation took longer than the specified timeout of 150000 ms\\nCustom Error Message.vi->Timeout.vi->Get Report for Web UI.vi->GenerateReport.vi->GenerateReport.vi.ProxyCaller',)\n",
      "ServerCallError('Cannot generate a report because one is being generated for user \"pbstech\" in Hello UI\\nCustom Error Message.vi->Check if Report Being Generated.vi->Get Report for Web UI.vi->GenerateReport.vi->GenerateReport.vi.ProxyCaller',)\n",
      "ServerCallError('Cannot generate a report because one is being generated for user \"pbstech\" in Hello UI\\nCustom Error Message.vi->Check if Report Being Generated.vi->Get Report for Web UI.vi->GenerateReport.vi->GenerateReport.vi.ProxyCaller',)\n",
      "ServerCallError('Cannot generate a report because one is being generated for user \"pbstech\" in Hello UI\\nCustom Error Message.vi->Check if Report Being Generated.vi->Get Report for Web UI.vi->GenerateReport.vi->GenerateReport.vi.ProxyCaller',)\n",
      "ServerCallError('Cannot generate a report because one is being generated for user \"pbstech\" in Hello UI\\nCustom Error Message.vi->Check if Report Being Generated.vi->Get Report for Web UI.vi->GenerateReport.vi->GenerateReport.vi.ProxyCaller',)\n",
      "ServerCallError('Cannot generate a report because one is being generated for user \"pbstech\" in Hello UI\\nCustom Error Message.vi->Check if Report Being Generated.vi->Get Report for Web UI.vi->GenerateReport.vi->GenerateReport.vi.ProxyCaller',)\n",
      "ServerCallError('Cannot generate a report because one is being generated for user \"pbstech\" in Hello UI\\nCustom Error Message.vi->Check if Report Being Generated.vi->Get Report for Web UI.vi->GenerateReport.vi->GenerateReport.vi.ProxyCaller',)\n",
      "ServerCallError('Cannot generate a report because one is being generated for user \"pbstech\" in Hello UI\\nCustom Error Message.vi->Check if Report Being Generated.vi->Get Report for Web UI.vi->GenerateReport.vi->GenerateReport.vi.ProxyCaller',)\n",
      "ServerCallError('Cannot generate a report because one is being generated for user \"pbstech\" in Hello UI\\nCustom Error Message.vi->Check if Report Being Generated.vi->Get Report for Web UI.vi->GenerateReport.vi->GenerateReport.vi.ProxyCaller',)\n",
      "ServerCallError('Cannot generate a report because one is being generated for user \"pbstech\" in Hello UI\\nCustom Error Message.vi->Check if Report Being Generated.vi->Get Report for Web UI.vi->GenerateReport.vi->GenerateReport.vi.ProxyCaller',)\n",
      "ServerCallError('Cannot generate a report because one is being generated for user \"pbstech\" in Hello UI\\nCustom Error Message.vi->Check if Report Being Generated.vi->Get Report for Web UI.vi->GenerateReport.vi->GenerateReport.vi.ProxyCaller',)\n",
      "ServerCallError('Cannot generate a report because one is being generated for user \"pbstech\" in Hello UI\\nCustom Error Message.vi->Check if Report Being Generated.vi->Get Report for Web UI.vi->GenerateReport.vi->GenerateReport.vi.ProxyCaller',)\n",
      "ServerCallError('Cannot generate a report because one is being generated for user \"pbstech\" in Hello UI\\nCustom Error Message.vi->Check if Report Being Generated.vi->Get Report for Web UI.vi->GenerateReport.vi->GenerateReport.vi.ProxyCaller',)\n",
      "ServerCallError('Cannot generate a report because one is being generated for user \"pbstech\" in Hello UI\\nCustom Error Message.vi->Check if Report Being Generated.vi->Get Report for Web UI.vi->GenerateReport.vi->GenerateReport.vi.ProxyCaller',)\n",
      "ServerCallError('Cannot generate a report because one is being generated for user \"pbstech\" in Hello UI\\nCustom Error Message.vi->Check if Report Being Generated.vi->Get Report for Web UI.vi->GenerateReport.vi->GenerateReport.vi.ProxyCaller',)\n",
      "ServerCallError('Cannot generate a report because one is being generated for user \"pbstech\" in Hello UI\\nCustom Error Message.vi->Check if Report Being Generated.vi->Get Report for Web UI.vi->GenerateReport.vi->GenerateReport.vi.ProxyCaller',)\n",
      "ServerCallError('The operation took longer than the specified timeout of 150000 ms\\nCustom Error Message.vi->Timeout.vi->Get Report for Web UI.vi->GenerateReport.vi->GenerateReport.vi.ProxyCaller',)\n",
      "ServerCallError('Cannot generate a report because one is being generated for user \"pbstech\" in Hello UI\\nCustom Error Message.vi->Check if Report Being Generated.vi->Get Report for Web UI.vi->GenerateReport.vi->GenerateReport.vi.ProxyCaller',)\n",
      "ServerCallError('Cannot generate a report because one is being generated for user \"pbstech\" in Hello UI\\nCustom Error Message.vi->Check if Report Being Generated.vi->Get Report for Web UI.vi->GenerateReport.vi->GenerateReport.vi.ProxyCaller',)\n",
      "ServerCallError('Cannot generate a report because one is being generated for user \"pbstech\" in Hello UI\\nCustom Error Message.vi->Check if Report Being Generated.vi->Get Report for Web UI.vi->GenerateReport.vi->GenerateReport.vi.ProxyCaller',)\n",
      "ServerCallError('Cannot generate a report because one is being generated for user \"pbstech\" in Hello UI\\nCustom Error Message.vi->Check if Report Being Generated.vi->Get Report for Web UI.vi->GenerateReport.vi->GenerateReport.vi.ProxyCaller',)\n",
      "ServerCallError('Cannot generate a report because one is being generated for user \"pbstech\" in Hello UI\\nCustom Error Message.vi->Check if Report Being Generated.vi->Get Report for Web UI.vi->GenerateReport.vi->GenerateReport.vi.ProxyCaller',)\n",
      "ServerCallError('Cannot generate a report because one is being generated for user \"pbstech\" in Hello UI\\nCustom Error Message.vi->Check if Report Being Generated.vi->Get Report for Web UI.vi->GenerateReport.vi->GenerateReport.vi.ProxyCaller',)\n",
      "ServerCallError('Cannot generate a report because one is being generated for user \"pbstech\" in Hello UI\\nCustom Error Message.vi->Check if Report Being Generated.vi->Get Report for Web UI.vi->GenerateReport.vi->GenerateReport.vi.ProxyCaller',)\n",
      "ServerCallError('Cannot generate a report because one is being generated for user \"pbstech\" in Hello UI\\nCustom Error Message.vi->Check if Report Being Generated.vi->Get Report for Web UI.vi->GenerateReport.vi->GenerateReport.vi.ProxyCaller',)\n",
      "ServerCallError('Cannot generate a report because one is being generated for user \"pbstech\" in Hello UI\\nCustom Error Message.vi->Check if Report Being Generated.vi->Get Report for Web UI.vi->GenerateReport.vi->GenerateReport.vi.ProxyCaller',)\n",
      "ServerCallError('Cannot generate a report because one is being generated for user \"pbstech\" in Hello UI\\nCustom Error Message.vi->Check if Report Being Generated.vi->Get Report for Web UI.vi->GenerateReport.vi->GenerateReport.vi.ProxyCaller',)\n",
      "ServerCallError('Cannot generate a report because one is being generated for user \"pbstech\" in Hello UI\\nCustom Error Message.vi->Check if Report Being Generated.vi->Get Report for Web UI.vi->GenerateReport.vi->GenerateReport.vi.ProxyCaller',)\n"
     ]
    },
    {
     "name": "stdout",
     "output_type": "stream",
     "text": [
      "ServerCallError('Cannot generate a report because one is being generated for user \"pbstech\" in Hello UI\\nCustom Error Message.vi->Check if Report Being Generated.vi->Get Report for Web UI.vi->GenerateReport.vi->GenerateReport.vi.ProxyCaller',)\n",
      "ServerCallError('Cannot generate a report because one is being generated for user \"pbstech\" in Hello UI\\nCustom Error Message.vi->Check if Report Being Generated.vi->Get Report for Web UI.vi->GenerateReport.vi->GenerateReport.vi.ProxyCaller',)\n",
      "ServerCallError('Cannot generate a report because one is being generated for user \"pbstech\" in Hello UI\\nCustom Error Message.vi->Check if Report Being Generated.vi->Get Report for Web UI.vi->GenerateReport.vi->GenerateReport.vi.ProxyCaller',)\n",
      "ServerCallError('Cannot generate a report because one is being generated for user \"pbstech\" in Hello UI\\nCustom Error Message.vi->Check if Report Being Generated.vi->Get Report for Web UI.vi->GenerateReport.vi->GenerateReport.vi.ProxyCaller',)\n",
      "ServerCallError('Cannot generate a report because one is being generated for user \"pbstech\" in Hello UI\\nCustom Error Message.vi->Check if Report Being Generated.vi->Get Report for Web UI.vi->GenerateReport.vi->GenerateReport.vi.ProxyCaller',)\n",
      "ServerCallError('Cannot generate a report because one is being generated for user \"pbstech\" in Hello UI\\nCustom Error Message.vi->Check if Report Being Generated.vi->Get Report for Web UI.vi->GenerateReport.vi->GenerateReport.vi.ProxyCaller',)\n",
      "ServerCallError('Cannot generate a report because one is being generated for user \"pbstech\" in Hello UI\\nCustom Error Message.vi->Check if Report Being Generated.vi->Get Report for Web UI.vi->GenerateReport.vi->GenerateReport.vi.ProxyCaller',)\n",
      "ServerCallError('Cannot generate a report because one is being generated for user \"pbstech\" in Hello UI\\nCustom Error Message.vi->Check if Report Being Generated.vi->Get Report for Web UI.vi->GenerateReport.vi->GenerateReport.vi.ProxyCaller',)\n",
      "ServerCallError('Cannot generate a report because one is being generated for user \"pbstech\" in Hello UI\\nCustom Error Message.vi->Check if Report Being Generated.vi->Get Report for Web UI.vi->GenerateReport.vi->GenerateReport.vi.ProxyCaller',)\n",
      "ServerCallError('Cannot generate a report because one is being generated for user \"pbstech\" in Hello UI\\nCustom Error Message.vi->Check if Report Being Generated.vi->Get Report for Web UI.vi->GenerateReport.vi->GenerateReport.vi.ProxyCaller',)\n",
      "ServerCallError('Cannot generate a report because one is being generated for user \"pbstech\" in Hello UI\\nCustom Error Message.vi->Check if Report Being Generated.vi->Get Report for Web UI.vi->GenerateReport.vi->GenerateReport.vi.ProxyCaller',)\n",
      "ServerCallError('Cannot generate a report because one is being generated for user \"pbstech\" in Hello UI\\nCustom Error Message.vi->Check if Report Being Generated.vi->Get Report for Web UI.vi->GenerateReport.vi->GenerateReport.vi.ProxyCaller',)\n",
      "ServerCallError('Cannot generate a report because one is being generated for user \"pbstech\" in Hello UI\\nCustom Error Message.vi->Check if Report Being Generated.vi->Get Report for Web UI.vi->GenerateReport.vi->GenerateReport.vi.ProxyCaller',)\n",
      "ServerCallError('Cannot generate a report because one is being generated for user \"pbstech\" in Hello UI\\nCustom Error Message.vi->Check if Report Being Generated.vi->Get Report for Web UI.vi->GenerateReport.vi->GenerateReport.vi.ProxyCaller',)\n",
      "ServerCallError('The operation took longer than the specified timeout of 150000 ms\\nCustom Error Message.vi->Timeout.vi->Get Report for Web UI.vi->GenerateReport.vi->GenerateReport.vi.ProxyCaller',)\n",
      "ServerCallError('Cannot generate a report because one is being generated for user \"pbstech\" in Hello UI\\nCustom Error Message.vi->Check if Report Being Generated.vi->Get Report for Web UI.vi->GenerateReport.vi->GenerateReport.vi.ProxyCaller',)\n",
      "ServerCallError('Cannot generate a report because one is being generated for user \"pbstech\" in Hello UI\\nCustom Error Message.vi->Check if Report Being Generated.vi->Get Report for Web UI.vi->GenerateReport.vi->GenerateReport.vi.ProxyCaller',)\n",
      "ServerCallError('Cannot generate a report because one is being generated for user \"pbstech\" in Hello UI\\nCustom Error Message.vi->Check if Report Being Generated.vi->Get Report for Web UI.vi->GenerateReport.vi->GenerateReport.vi.ProxyCaller',)\n",
      "ServerCallError('Cannot generate a report because one is being generated for user \"pbstech\" in Hello UI\\nCustom Error Message.vi->Check if Report Being Generated.vi->Get Report for Web UI.vi->GenerateReport.vi->GenerateReport.vi.ProxyCaller',)\n",
      "ServerCallError('Cannot generate a report because one is being generated for user \"pbstech\" in Hello UI\\nCustom Error Message.vi->Check if Report Being Generated.vi->Get Report for Web UI.vi->GenerateReport.vi->GenerateReport.vi.ProxyCaller',)\n",
      "ServerCallError('Cannot generate a report because one is being generated for user \"pbstech\" in Hello UI\\nCustom Error Message.vi->Check if Report Being Generated.vi->Get Report for Web UI.vi->GenerateReport.vi->GenerateReport.vi.ProxyCaller',)\n",
      "ServerCallError('Cannot generate a report because one is being generated for user \"pbstech\" in Hello UI\\nCustom Error Message.vi->Check if Report Being Generated.vi->Get Report for Web UI.vi->GenerateReport.vi->GenerateReport.vi.ProxyCaller',)\n",
      "ServerCallError('Cannot generate a report because one is being generated for user \"pbstech\" in Hello UI\\nCustom Error Message.vi->Check if Report Being Generated.vi->Get Report for Web UI.vi->GenerateReport.vi->GenerateReport.vi.ProxyCaller',)\n",
      "ServerCallError('Cannot generate a report because one is being generated for user \"pbstech\" in Hello UI\\nCustom Error Message.vi->Check if Report Being Generated.vi->Get Report for Web UI.vi->GenerateReport.vi->GenerateReport.vi.ProxyCaller',)\n",
      "ServerCallError('Cannot generate a report because one is being generated for user \"pbstech\" in Hello UI\\nCustom Error Message.vi->Check if Report Being Generated.vi->Get Report for Web UI.vi->GenerateReport.vi->GenerateReport.vi.ProxyCaller',)\n",
      "ServerCallError('Cannot generate a report because one is being generated for user \"pbstech\" in Hello UI\\nCustom Error Message.vi->Check if Report Being Generated.vi->Get Report for Web UI.vi->GenerateReport.vi->GenerateReport.vi.ProxyCaller',)\n",
      "ServerCallError('Cannot generate a report because one is being generated for user \"pbstech\" in Hello UI\\nCustom Error Message.vi->Check if Report Being Generated.vi->Get Report for Web UI.vi->GenerateReport.vi->GenerateReport.vi.ProxyCaller',)\n",
      "ServerCallError('Cannot generate a report because one is being generated for user \"pbstech\" in Hello UI\\nCustom Error Message.vi->Check if Report Being Generated.vi->Get Report for Web UI.vi->GenerateReport.vi->GenerateReport.vi.ProxyCaller',)\n",
      "ServerCallError('Cannot generate a report because one is being generated for user \"pbstech\" in Hello UI\\nCustom Error Message.vi->Check if Report Being Generated.vi->Get Report for Web UI.vi->GenerateReport.vi->GenerateReport.vi.ProxyCaller',)\n",
      "ServerCallError('Cannot generate a report because one is being generated for user \"pbstech\" in Hello UI\\nCustom Error Message.vi->Check if Report Being Generated.vi->Get Report for Web UI.vi->GenerateReport.vi->GenerateReport.vi.ProxyCaller',)\n",
      "ServerCallError('Cannot generate a report because one is being generated for user \"pbstech\" in Hello UI\\nCustom Error Message.vi->Check if Report Being Generated.vi->Get Report for Web UI.vi->GenerateReport.vi->GenerateReport.vi.ProxyCaller',)\n",
      "ServerCallError('Cannot generate a report because one is being generated for user \"pbstech\" in Hello UI\\nCustom Error Message.vi->Check if Report Being Generated.vi->Get Report for Web UI.vi->GenerateReport.vi->GenerateReport.vi.ProxyCaller',)\n",
      "ServerCallError('Cannot generate a report because one is being generated for user \"pbstech\" in Hello UI\\nCustom Error Message.vi->Check if Report Being Generated.vi->Get Report for Web UI.vi->GenerateReport.vi->GenerateReport.vi.ProxyCaller',)\n",
      "ServerCallError('Cannot generate a report because one is being generated for user \"pbstech\" in Hello UI\\nCustom Error Message.vi->Check if Report Being Generated.vi->Get Report for Web UI.vi->GenerateReport.vi->GenerateReport.vi.ProxyCaller',)\n"
     ]
    },
    {
     "name": "stdout",
     "output_type": "stream",
     "text": [
      "ServerCallError('Cannot generate a report because one is being generated for user \"pbstech\" in Hello UI\\nCustom Error Message.vi->Check if Report Being Generated.vi->Get Report for Web UI.vi->GenerateReport.vi->GenerateReport.vi.ProxyCaller',)\n",
      "ServerCallError('Cannot generate a report because one is being generated for user \"pbstech\" in Hello UI\\nCustom Error Message.vi->Check if Report Being Generated.vi->Get Report for Web UI.vi->GenerateReport.vi->GenerateReport.vi.ProxyCaller',)\n",
      "ServerCallError('Cannot generate a report because one is being generated for user \"pbstech\" in Hello UI\\nCustom Error Message.vi->Check if Report Being Generated.vi->Get Report for Web UI.vi->GenerateReport.vi->GenerateReport.vi.ProxyCaller',)\n",
      "ServerCallError('Cannot generate a report because one is being generated for user \"pbstech\" in Hello UI\\nCustom Error Message.vi->Check if Report Being Generated.vi->Get Report for Web UI.vi->GenerateReport.vi->GenerateReport.vi.ProxyCaller',)\n",
      "ServerCallError('Cannot generate a report because one is being generated for user \"pbstech\" in Hello UI\\nCustom Error Message.vi->Check if Report Being Generated.vi->Get Report for Web UI.vi->GenerateReport.vi->GenerateReport.vi.ProxyCaller',)\n",
      "ServerCallError('Cannot generate a report because one is being generated for user \"pbstech\" in Hello UI\\nCustom Error Message.vi->Check if Report Being Generated.vi->Get Report for Web UI.vi->GenerateReport.vi->GenerateReport.vi.ProxyCaller',)\n",
      "ServerCallError('Cannot generate a report because one is being generated for user \"pbstech\" in Hello UI\\nCustom Error Message.vi->Check if Report Being Generated.vi->Get Report for Web UI.vi->GenerateReport.vi->GenerateReport.vi.ProxyCaller',)\n",
      "ServerCallError('Cannot generate a report because one is being generated for user \"pbstech\" in Hello UI\\nCustom Error Message.vi->Check if Report Being Generated.vi->Get Report for Web UI.vi->GenerateReport.vi->GenerateReport.vi.ProxyCaller',)\n",
      "ServerCallError('Cannot generate a report because one is being generated for user \"pbstech\" in Hello UI\\nCustom Error Message.vi->Check if Report Being Generated.vi->Get Report for Web UI.vi->GenerateReport.vi->GenerateReport.vi.ProxyCaller',)\n",
      "ServerCallError('Cannot generate a report because one is being generated for user \"pbstech\" in Hello UI\\nCustom Error Message.vi->Check if Report Being Generated.vi->Get Report for Web UI.vi->GenerateReport.vi->GenerateReport.vi.ProxyCaller',)\n",
      "ServerCallError('Cannot generate a report because one is being generated for user \"pbstech\" in Hello UI\\nCustom Error Message.vi->Check if Report Being Generated.vi->Get Report for Web UI.vi->GenerateReport.vi->GenerateReport.vi.ProxyCaller',)\n",
      "ServerCallError('Cannot generate a report because one is being generated for user \"pbstech\" in Hello UI\\nCustom Error Message.vi->Check if Report Being Generated.vi->Get Report for Web UI.vi->GenerateReport.vi->GenerateReport.vi.ProxyCaller',)\n",
      "ServerCallError('Cannot generate a report because one is being generated for user \"pbstech\" in Hello UI\\nCustom Error Message.vi->Check if Report Being Generated.vi->Get Report for Web UI.vi->GenerateReport.vi->GenerateReport.vi.ProxyCaller',)\n",
      "ServerCallError('Cannot generate a report because one is being generated for user \"pbstech\" in Hello UI\\nCustom Error Message.vi->Check if Report Being Generated.vi->Get Report for Web UI.vi->GenerateReport.vi->GenerateReport.vi.ProxyCaller',)\n",
      "ServerCallError('Cannot generate a report because one is being generated for user \"pbstech\" in Hello UI\\nCustom Error Message.vi->Check if Report Being Generated.vi->Get Report for Web UI.vi->GenerateReport.vi->GenerateReport.vi.ProxyCaller',)\n",
      "ServerCallError('The operation took longer than the specified timeout of 150000 ms\\nCustom Error Message.vi->Timeout.vi->Get Report for Web UI.vi->GenerateReport.vi->GenerateReport.vi.ProxyCaller',)\n",
      "ServerCallError('Cannot generate a report because one is being generated for user \"pbstech\" in Hello UI\\nCustom Error Message.vi->Check if Report Being Generated.vi->Get Report for Web UI.vi->GenerateReport.vi->GenerateReport.vi.ProxyCaller',)\n",
      "ServerCallError('Cannot generate a report because one is being generated for user \"pbstech\" in Hello UI\\nCustom Error Message.vi->Check if Report Being Generated.vi->Get Report for Web UI.vi->GenerateReport.vi->GenerateReport.vi.ProxyCaller',)\n",
      "ServerCallError('Cannot generate a report because one is being generated for user \"pbstech\" in Hello UI\\nCustom Error Message.vi->Check if Report Being Generated.vi->Get Report for Web UI.vi->GenerateReport.vi->GenerateReport.vi.ProxyCaller',)\n",
      "ServerCallError('Cannot generate a report because one is being generated for user \"pbstech\" in Hello UI\\nCustom Error Message.vi->Check if Report Being Generated.vi->Get Report for Web UI.vi->GenerateReport.vi->GenerateReport.vi.ProxyCaller',)\n",
      "ServerCallError('Cannot generate a report because one is being generated for user \"pbstech\" in Hello UI\\nCustom Error Message.vi->Check if Report Being Generated.vi->Get Report for Web UI.vi->GenerateReport.vi->GenerateReport.vi.ProxyCaller',)\n",
      "ServerCallError('Cannot generate a report because one is being generated for user \"pbstech\" in Hello UI\\nCustom Error Message.vi->Check if Report Being Generated.vi->Get Report for Web UI.vi->GenerateReport.vi->GenerateReport.vi.ProxyCaller',)\n",
      "ServerCallError('Cannot generate a report because one is being generated for user \"pbstech\" in Hello UI\\nCustom Error Message.vi->Check if Report Being Generated.vi->Get Report for Web UI.vi->GenerateReport.vi->GenerateReport.vi.ProxyCaller',)\n",
      "ServerCallError('Cannot generate a report because one is being generated for user \"pbstech\" in Hello UI\\nCustom Error Message.vi->Check if Report Being Generated.vi->Get Report for Web UI.vi->GenerateReport.vi->GenerateReport.vi.ProxyCaller',)\n",
      "ServerCallError('Cannot generate a report because one is being generated for user \"pbstech\" in Hello UI\\nCustom Error Message.vi->Check if Report Being Generated.vi->Get Report for Web UI.vi->GenerateReport.vi->GenerateReport.vi.ProxyCaller',)\n",
      "ServerCallError('Cannot generate a report because one is being generated for user \"pbstech\" in Hello UI\\nCustom Error Message.vi->Check if Report Being Generated.vi->Get Report for Web UI.vi->GenerateReport.vi->GenerateReport.vi.ProxyCaller',)\n",
      "ServerCallError('Cannot generate a report because one is being generated for user \"pbstech\" in Hello UI\\nCustom Error Message.vi->Check if Report Being Generated.vi->Get Report for Web UI.vi->GenerateReport.vi->GenerateReport.vi.ProxyCaller',)\n",
      "ServerCallError('Cannot generate a report because one is being generated for user \"pbstech\" in Hello UI\\nCustom Error Message.vi->Check if Report Being Generated.vi->Get Report for Web UI.vi->GenerateReport.vi->GenerateReport.vi.ProxyCaller',)\n",
      "ServerCallError('Cannot generate a report because one is being generated for user \"pbstech\" in Hello UI\\nCustom Error Message.vi->Check if Report Being Generated.vi->Get Report for Web UI.vi->GenerateReport.vi->GenerateReport.vi.ProxyCaller',)\n",
      "ServerCallError('Cannot generate a report because one is being generated for user \"pbstech\" in Hello UI\\nCustom Error Message.vi->Check if Report Being Generated.vi->Get Report for Web UI.vi->GenerateReport.vi->GenerateReport.vi.ProxyCaller',)\n",
      "ServerCallError('Cannot generate a report because one is being generated for user \"pbstech\" in Hello UI\\nCustom Error Message.vi->Check if Report Being Generated.vi->Get Report for Web UI.vi->GenerateReport.vi->GenerateReport.vi.ProxyCaller',)\n",
      "ServerCallError('Cannot generate a report because one is being generated for user \"pbstech\" in Hello UI\\nCustom Error Message.vi->Check if Report Being Generated.vi->Get Report for Web UI.vi->GenerateReport.vi->GenerateReport.vi.ProxyCaller',)\n",
      "ServerCallError('Cannot generate a report because one is being generated for user \"pbstech\" in Hello UI\\nCustom Error Message.vi->Check if Report Being Generated.vi->Get Report for Web UI.vi->GenerateReport.vi->GenerateReport.vi.ProxyCaller',)\n",
      "ServerCallError('Cannot generate a report because one is being generated for user \"pbstech\" in Hello UI\\nCustom Error Message.vi->Check if Report Being Generated.vi->Get Report for Web UI.vi->GenerateReport.vi->GenerateReport.vi.ProxyCaller',)\n"
     ]
    },
    {
     "name": "stdout",
     "output_type": "stream",
     "text": [
      "ServerCallError('Cannot generate a report because one is being generated for user \"pbstech\" in Hello UI\\nCustom Error Message.vi->Check if Report Being Generated.vi->Get Report for Web UI.vi->GenerateReport.vi->GenerateReport.vi.ProxyCaller',)\n",
      "ServerCallError('Cannot generate a report because one is being generated for user \"pbstech\" in Hello UI\\nCustom Error Message.vi->Check if Report Being Generated.vi->Get Report for Web UI.vi->GenerateReport.vi->GenerateReport.vi.ProxyCaller',)\n",
      "ServerCallError('Cannot generate a report because one is being generated for user \"pbstech\" in Hello UI\\nCustom Error Message.vi->Check if Report Being Generated.vi->Get Report for Web UI.vi->GenerateReport.vi->GenerateReport.vi.ProxyCaller',)\n",
      "ServerCallError('Cannot generate a report because one is being generated for user \"pbstech\" in Hello UI\\nCustom Error Message.vi->Check if Report Being Generated.vi->Get Report for Web UI.vi->GenerateReport.vi->GenerateReport.vi.ProxyCaller',)\n",
      "ServerCallError('Cannot generate a report because one is being generated for user \"pbstech\" in Hello UI\\nCustom Error Message.vi->Check if Report Being Generated.vi->Get Report for Web UI.vi->GenerateReport.vi->GenerateReport.vi.ProxyCaller',)\n"
     ]
    },
    {
     "ename": "KeyboardInterrupt",
     "evalue": "",
     "output_type": "error",
     "traceback": [
      "\u001b[1;31m---------------------------------------------------------------------------\u001b[0m",
      "\u001b[1;31mTypeError\u001b[0m                                 Traceback (most recent call last)",
      "\u001b[1;32mc:\\program files\\python 3.5\\lib\\site-packages\\urllib3\\connectionpool.py\u001b[0m in \u001b[0;36m_make_request\u001b[1;34m(self, conn, method, url, timeout, chunked, **httplib_request_kw)\u001b[0m\n\u001b[0;32m    378\u001b[0m             \u001b[1;32mtry\u001b[0m\u001b[1;33m:\u001b[0m  \u001b[1;31m# Python 2.7, use buffering of HTTP responses\u001b[0m\u001b[1;33m\u001b[0m\u001b[0m\n\u001b[1;32m--> 379\u001b[1;33m                 \u001b[0mhttplib_response\u001b[0m \u001b[1;33m=\u001b[0m \u001b[0mconn\u001b[0m\u001b[1;33m.\u001b[0m\u001b[0mgetresponse\u001b[0m\u001b[1;33m(\u001b[0m\u001b[0mbuffering\u001b[0m\u001b[1;33m=\u001b[0m\u001b[1;32mTrue\u001b[0m\u001b[1;33m)\u001b[0m\u001b[1;33m\u001b[0m\u001b[0m\n\u001b[0m\u001b[0;32m    380\u001b[0m             \u001b[1;32mexcept\u001b[0m \u001b[0mTypeError\u001b[0m\u001b[1;33m:\u001b[0m  \u001b[1;31m# Python 2.6 and older, Python 3\u001b[0m\u001b[1;33m\u001b[0m\u001b[0m\n",
      "\u001b[1;31mTypeError\u001b[0m: getresponse() got an unexpected keyword argument 'buffering'",
      "\nDuring handling of the above exception, another exception occurred:\n",
      "\u001b[1;31mKeyboardInterrupt\u001b[0m                         Traceback (most recent call last)",
      "\u001b[1;32m<ipython-input-27-3d76cad4863e>\u001b[0m in \u001b[0;36m<module>\u001b[1;34m()\u001b[0m\n\u001b[0;32m      6\u001b[0m \u001b[1;32mfor\u001b[0m \u001b[0mi\u001b[0m \u001b[1;32min\u001b[0m \u001b[0mrange\u001b[0m\u001b[1;33m(\u001b[0m\u001b[1;36m10\u001b[0m\u001b[1;33m)\u001b[0m\u001b[1;33m:\u001b[0m\u001b[1;33m\u001b[0m\u001b[0m\n\u001b[0;32m      7\u001b[0m     \u001b[1;32mfor\u001b[0m \u001b[0mb\u001b[0m \u001b[1;32min\u001b[0m \u001b[0mbl\u001b[0m\u001b[1;33m.\u001b[0m\u001b[0mgetbatches\u001b[0m\u001b[1;33m(\u001b[0m\u001b[1;33m)\u001b[0m\u001b[1;33m:\u001b[0m\u001b[1;33m\u001b[0m\u001b[0m\n\u001b[1;32m----> 8\u001b[1;33m         \u001b[0mtest\u001b[0m\u001b[1;33m(\u001b[0m\u001b[0mb\u001b[0m\u001b[1;33m)\u001b[0m\u001b[1;33m\u001b[0m\u001b[0m\n\u001b[0m\u001b[0;32m      9\u001b[0m         \u001b[0mj\u001b[0m \u001b[1;33m+=\u001b[0m \u001b[1;36m1\u001b[0m\u001b[1;33m\u001b[0m\u001b[0m\n",
      "\u001b[1;32m<ipython-input-26-3f63bb06af15>\u001b[0m in \u001b[0;36mtest\u001b[1;34m(b)\u001b[0m\n\u001b[0;32m      3\u001b[0m \u001b[1;32mdef\u001b[0m \u001b[0mtest\u001b[0m\u001b[1;33m(\u001b[0m\u001b[0mb\u001b[0m\u001b[1;33m)\u001b[0m\u001b[1;33m:\u001b[0m\u001b[1;33m\u001b[0m\u001b[0m\n\u001b[0;32m      4\u001b[0m     \u001b[0mprint\u001b[0m\u001b[1;33m(\u001b[0m\u001b[1;34m\"Downloading (%d/%d) %r...\"\u001b[0m\u001b[1;33m%\u001b[0m\u001b[1;33m(\u001b[0m\u001b[0mj\u001b[0m\u001b[1;33m,\u001b[0m \u001b[0mn\u001b[0m\u001b[1;33m,\u001b[0m \u001b[0mb\u001b[0m\u001b[1;33m.\u001b[0m\u001b[0mname\u001b[0m\u001b[1;33m)\u001b[0m\u001b[1;33m,\u001b[0m \u001b[0mend\u001b[0m\u001b[1;33m=\u001b[0m\u001b[1;34m\"\"\u001b[0m\u001b[1;33m)\u001b[0m\u001b[1;33m\u001b[0m\u001b[0m\n\u001b[1;32m----> 5\u001b[1;33m     \u001b[0mt\u001b[0m \u001b[1;33m=\u001b[0m \u001b[0mtest_once\u001b[0m\u001b[1;33m(\u001b[0m\u001b[0mb\u001b[0m\u001b[1;33m.\u001b[0m\u001b[0mid\u001b[0m\u001b[1;33m)\u001b[0m\u001b[1;33m\u001b[0m\u001b[0m\n\u001b[0m\u001b[0;32m      6\u001b[0m     \u001b[0mprint\u001b[0m\u001b[1;33m(\u001b[0m\u001b[1;34m\" completed in %.1f seconds\"\u001b[0m\u001b[1;33m%\u001b[0m\u001b[0mt\u001b[0m\u001b[1;33m)\u001b[0m\u001b[1;33m\u001b[0m\u001b[0m\n\u001b[0;32m      7\u001b[0m     \u001b[0mtag\u001b[0m \u001b[1;33m=\u001b[0m \u001b[1;34m\"%s(%d)\"\u001b[0m\u001b[1;33m%\u001b[0m\u001b[1;33m(\u001b[0m\u001b[0mb\u001b[0m\u001b[1;33m.\u001b[0m\u001b[0mname\u001b[0m\u001b[1;33m,\u001b[0m \u001b[0mb\u001b[0m\u001b[1;33m.\u001b[0m\u001b[0mid\u001b[0m\u001b[1;33m)\u001b[0m\u001b[1;33m\u001b[0m\u001b[0m\n",
      "\u001b[1;32m<ipython-input-25-04d733e6e58f>\u001b[0m in \u001b[0;36mtest_once\u001b[1;34m(bid)\u001b[0m\n\u001b[0;32m     11\u001b[0m     \u001b[0mstart\u001b[0m \u001b[1;33m=\u001b[0m \u001b[0mtime\u001b[0m\u001b[1;33m.\u001b[0m\u001b[0mtime\u001b[0m\u001b[1;33m(\u001b[0m\u001b[1;33m)\u001b[0m\u001b[1;33m\u001b[0m\u001b[0m\n\u001b[0;32m     12\u001b[0m     \u001b[0mcall\u001b[0m\u001b[1;33m(\u001b[0m\u001b[0mh\u001b[0m\u001b[1;33m.\u001b[0m\u001b[0mgetbatches\u001b[0m\u001b[1;33m)\u001b[0m\u001b[1;33m\u001b[0m\u001b[0m\n\u001b[1;32m---> 13\u001b[1;33m     \u001b[0mcall\u001b[0m\u001b[1;33m(\u001b[0m\u001b[0mh\u001b[0m\u001b[1;33m.\u001b[0m\u001b[0mgetdatareport_bybatchid\u001b[0m\u001b[1;33m,\u001b[0m \u001b[0mbid\u001b[0m\u001b[1;33m)\u001b[0m\u001b[1;33m\u001b[0m\u001b[0m\n\u001b[0m\u001b[0;32m     14\u001b[0m     \u001b[1;32mreturn\u001b[0m \u001b[0mtime\u001b[0m\u001b[1;33m.\u001b[0m\u001b[0mtime\u001b[0m\u001b[1;33m(\u001b[0m\u001b[1;33m)\u001b[0m \u001b[1;33m-\u001b[0m \u001b[0mstart\u001b[0m\u001b[1;33m\u001b[0m\u001b[0m\n",
      "\u001b[1;32m<ipython-input-25-04d733e6e58f>\u001b[0m in \u001b[0;36mcall\u001b[1;34m(f, *args)\u001b[0m\n\u001b[0;32m      2\u001b[0m     \u001b[1;32mwhile\u001b[0m \u001b[1;32mTrue\u001b[0m\u001b[1;33m:\u001b[0m\u001b[1;33m\u001b[0m\u001b[0m\n\u001b[0;32m      3\u001b[0m         \u001b[1;32mtry\u001b[0m\u001b[1;33m:\u001b[0m\u001b[1;33m\u001b[0m\u001b[0m\n\u001b[1;32m----> 4\u001b[1;33m             \u001b[1;32mreturn\u001b[0m \u001b[0mf\u001b[0m\u001b[1;33m(\u001b[0m\u001b[1;33m*\u001b[0m\u001b[0margs\u001b[0m\u001b[1;33m)\u001b[0m\u001b[1;33m\u001b[0m\u001b[0m\n\u001b[0m\u001b[0;32m      5\u001b[0m         \u001b[1;32mexcept\u001b[0m \u001b[0mHelloError\u001b[0m \u001b[1;32mas\u001b[0m \u001b[0me\u001b[0m\u001b[1;33m:\u001b[0m\u001b[1;33m\u001b[0m\u001b[0m\n\u001b[0;32m      6\u001b[0m             \u001b[0mprint\u001b[0m\u001b[1;33m(\u001b[0m\u001b[0mrepr\u001b[0m\u001b[1;33m(\u001b[0m\u001b[0me\u001b[0m\u001b[1;33m)\u001b[0m\u001b[1;33m)\u001b[0m\u001b[1;33m\u001b[0m\u001b[0m\n",
      "\u001b[1;32m~\\Documents\\Dropbox\\Python\\hello\\hello3.py\u001b[0m in \u001b[0;36mgetdatareport_bybatchid\u001b[1;34m(self, val1)\u001b[0m\n\u001b[0;32m    477\u001b[0m         \u001b[1;33m@\u001b[0m\u001b[0mrtype\u001b[0m\u001b[1;33m:\u001b[0m \u001b[0mbytes\u001b[0m\u001b[1;33m\u001b[0m\u001b[0m\n\u001b[0;32m    478\u001b[0m         \"\"\"\n\u001b[1;32m--> 479\u001b[1;33m         \u001b[0mfname\u001b[0m \u001b[1;33m=\u001b[0m \u001b[0mself\u001b[0m\u001b[1;33m.\u001b[0m\u001b[0mgetReport\u001b[0m\u001b[1;33m(\u001b[0m\u001b[1;34m'byBatch'\u001b[0m\u001b[1;33m,\u001b[0m \u001b[1;34m'process_data'\u001b[0m\u001b[1;33m,\u001b[0m \u001b[0mval1\u001b[0m\u001b[1;33m)\u001b[0m\u001b[1;33m\u001b[0m\u001b[0m\n\u001b[0m\u001b[0;32m    480\u001b[0m         \u001b[1;32mreturn\u001b[0m \u001b[0mself\u001b[0m\u001b[1;33m.\u001b[0m\u001b[0mgetfile\u001b[0m\u001b[1;33m(\u001b[0m\u001b[0mfname\u001b[0m\u001b[1;33m)\u001b[0m\u001b[1;33m\u001b[0m\u001b[0m\n\u001b[0;32m    481\u001b[0m \u001b[1;33m\u001b[0m\u001b[0m\n",
      "\u001b[1;32m~\\Documents\\Dropbox\\Python\\hello\\hello3.py\u001b[0m in \u001b[0;36mgetReport\u001b[1;34m(self, mode, type, val1, val2, timeout)\u001b[0m\n\u001b[0;32m    449\u001b[0m         \u001b[0murl\u001b[0m \u001b[1;33m=\u001b[0m \u001b[1;34m\"/webservice/getReport/?&mode=%s&type=%s&val1=%s&val2=%s&timeout=%s\"\u001b[0m \u001b[1;33m%\u001b[0m\u001b[0;31m \u001b[0m\u001b[0;31m\\\u001b[0m\u001b[1;33m\u001b[0m\u001b[0m\n\u001b[0;32m    450\u001b[0m                 \u001b[1;33m(\u001b[0m\u001b[0mmode\u001b[0m\u001b[1;33m,\u001b[0m \u001b[0mtype\u001b[0m\u001b[1;33m,\u001b[0m \u001b[0mval1\u001b[0m\u001b[1;33m,\u001b[0m \u001b[0mval2\u001b[0m\u001b[1;33m,\u001b[0m \u001b[0mtimeout\u001b[0m\u001b[1;33m)\u001b[0m\u001b[1;33m\u001b[0m\u001b[0m\n\u001b[1;32m--> 451\u001b[1;33m         \u001b[0mrsp\u001b[0m \u001b[1;33m=\u001b[0m \u001b[0mself\u001b[0m\u001b[1;33m.\u001b[0m\u001b[0m_send_request_raw\u001b[0m\u001b[1;33m(\u001b[0m\u001b[0murl\u001b[0m\u001b[1;33m)\u001b[0m\u001b[1;33m\u001b[0m\u001b[0m\n\u001b[0m\u001b[0;32m    452\u001b[0m \u001b[1;33m\u001b[0m\u001b[0m\n\u001b[0;32m    453\u001b[0m         \u001b[1;31m# getreport uses a different webserver\u001b[0m\u001b[1;33m\u001b[0m\u001b[1;33m\u001b[0m\u001b[0m\n",
      "\u001b[1;32m~\\Documents\\Dropbox\\Python\\hello\\hello3.py\u001b[0m in \u001b[0;36m_send_request_raw\u001b[1;34m(self, url)\u001b[0m\n\u001b[0;32m    218\u001b[0m         \u001b[1;33m@\u001b[0m\u001b[0mrtype\u001b[0m\u001b[1;33m:\u001b[0m \u001b[0mhttp\u001b[0m\u001b[1;33m.\u001b[0m\u001b[0mclient\u001b[0m\u001b[1;33m.\u001b[0m\u001b[0mHTTPResponse\u001b[0m\u001b[1;33m\u001b[0m\u001b[0m\n\u001b[0;32m    219\u001b[0m         \"\"\"\n\u001b[1;32m--> 220\u001b[1;33m         \u001b[0mrsp\u001b[0m \u001b[1;33m=\u001b[0m \u001b[0mself\u001b[0m\u001b[1;33m.\u001b[0m\u001b[0m_do_request\u001b[0m\u001b[1;33m(\u001b[0m\u001b[0murl\u001b[0m\u001b[1;33m)\u001b[0m\u001b[1;33m\u001b[0m\u001b[0m\n\u001b[0m\u001b[0;32m    221\u001b[0m         \u001b[0mcookie\u001b[0m \u001b[1;33m=\u001b[0m \u001b[0mrsp\u001b[0m\u001b[1;33m.\u001b[0m\u001b[0mheaders\u001b[0m\u001b[1;33m.\u001b[0m\u001b[0mget\u001b[0m\u001b[1;33m(\u001b[0m\u001b[1;34m\"Set-Cookie\"\u001b[0m\u001b[1;33m)\u001b[0m\u001b[1;33m\u001b[0m\u001b[0m\n\u001b[0;32m    222\u001b[0m         \u001b[1;32mif\u001b[0m \u001b[0mcookie\u001b[0m\u001b[1;33m:\u001b[0m\u001b[1;33m\u001b[0m\u001b[0m\n",
      "\u001b[1;32m~\\Documents\\Dropbox\\Python\\hello\\hello3.py\u001b[0m in \u001b[0;36m_do_request\u001b[1;34m(self, url)\u001b[0m\n\u001b[0;32m    211\u001b[0m     \u001b[1;32mdef\u001b[0m \u001b[0m_do_request\u001b[0m\u001b[1;33m(\u001b[0m\u001b[0mself\u001b[0m\u001b[1;33m,\u001b[0m \u001b[0murl\u001b[0m\u001b[1;33m)\u001b[0m\u001b[1;33m:\u001b[0m\u001b[1;33m\u001b[0m\u001b[0m\n\u001b[0;32m    212\u001b[0m         \u001b[1;31m# Requests package handles retries\u001b[0m\u001b[1;33m\u001b[0m\u001b[1;33m\u001b[0m\u001b[0m\n\u001b[1;32m--> 213\u001b[1;33m         \u001b[1;32mreturn\u001b[0m \u001b[0mself\u001b[0m\u001b[1;33m.\u001b[0m\u001b[0m_connection\u001b[0m\u001b[1;33m.\u001b[0m\u001b[0mdo_request\u001b[0m\u001b[1;33m(\u001b[0m\u001b[1;34m'GET'\u001b[0m\u001b[1;33m,\u001b[0m \u001b[0murl\u001b[0m\u001b[1;33m,\u001b[0m \u001b[1;32mNone\u001b[0m\u001b[1;33m,\u001b[0m \u001b[0mself\u001b[0m\u001b[1;33m.\u001b[0m\u001b[0mheaders\u001b[0m\u001b[1;33m)\u001b[0m\u001b[1;33m\u001b[0m\u001b[0m\n\u001b[0m\u001b[0;32m    214\u001b[0m \u001b[1;33m\u001b[0m\u001b[0m\n\u001b[0;32m    215\u001b[0m     \u001b[1;32mdef\u001b[0m \u001b[0m_send_request_raw\u001b[0m\u001b[1;33m(\u001b[0m\u001b[0mself\u001b[0m\u001b[1;33m,\u001b[0m \u001b[0murl\u001b[0m\u001b[1;33m)\u001b[0m\u001b[1;33m:\u001b[0m\u001b[1;33m\u001b[0m\u001b[0m\n",
      "\u001b[1;32m~\\Documents\\Dropbox\\Python\\hello\\hello3.py\u001b[0m in \u001b[0;36mdo_request\u001b[1;34m(self, meth, url, body, headers)\u001b[0m\n\u001b[0;32m    147\u001b[0m     \u001b[1;32mdef\u001b[0m \u001b[0mdo_request\u001b[0m\u001b[1;33m(\u001b[0m\u001b[0mself\u001b[0m\u001b[1;33m,\u001b[0m \u001b[0mmeth\u001b[0m\u001b[1;33m,\u001b[0m \u001b[0murl\u001b[0m\u001b[1;33m,\u001b[0m \u001b[0mbody\u001b[0m\u001b[1;33m=\u001b[0m\u001b[1;32mNone\u001b[0m\u001b[1;33m,\u001b[0m \u001b[0mheaders\u001b[0m\u001b[1;33m=\u001b[0m\u001b[1;32mNone\u001b[0m\u001b[1;33m)\u001b[0m\u001b[1;33m:\u001b[0m\u001b[1;33m\u001b[0m\u001b[0m\n\u001b[0;32m    148\u001b[0m         \u001b[0murl\u001b[0m \u001b[1;33m=\u001b[0m \u001b[0mself\u001b[0m\u001b[1;33m.\u001b[0m\u001b[0m_base\u001b[0m \u001b[1;33m+\u001b[0m \u001b[0murl\u001b[0m\u001b[1;33m\u001b[0m\u001b[0m\n\u001b[1;32m--> 149\u001b[1;33m         \u001b[0mrsp\u001b[0m \u001b[1;33m=\u001b[0m \u001b[0mself\u001b[0m\u001b[1;33m.\u001b[0m\u001b[0msess\u001b[0m\u001b[1;33m.\u001b[0m\u001b[0mrequest\u001b[0m\u001b[1;33m(\u001b[0m\u001b[0mmeth\u001b[0m\u001b[1;33m,\u001b[0m \u001b[0murl\u001b[0m\u001b[1;33m,\u001b[0m \u001b[0mbody\u001b[0m\u001b[1;33m,\u001b[0m \u001b[1;32mNone\u001b[0m\u001b[1;33m,\u001b[0m \u001b[0mtimeout\u001b[0m\u001b[1;33m=\u001b[0m\u001b[0mself\u001b[0m\u001b[1;33m.\u001b[0m\u001b[0mtimeout\u001b[0m\u001b[1;33m,\u001b[0m \u001b[0mverify\u001b[0m\u001b[1;33m=\u001b[0m\u001b[1;32mFalse\u001b[0m\u001b[1;33m)\u001b[0m\u001b[1;33m\u001b[0m\u001b[0m\n\u001b[0m\u001b[0;32m    150\u001b[0m         \u001b[1;31m# XXX Sloppy. Refactor HelloApp to not use read()\u001b[0m\u001b[1;33m\u001b[0m\u001b[1;33m\u001b[0m\u001b[0m\n\u001b[0;32m    151\u001b[0m         \u001b[0mfile\u001b[0m \u001b[1;33m=\u001b[0m \u001b[0mio\u001b[0m\u001b[1;33m.\u001b[0m\u001b[0mBytesIO\u001b[0m\u001b[1;33m(\u001b[0m\u001b[0mrsp\u001b[0m\u001b[1;33m.\u001b[0m\u001b[0mcontent\u001b[0m\u001b[1;33m)\u001b[0m\u001b[1;33m\u001b[0m\u001b[0m\n",
      "\u001b[1;32mc:\\program files\\python 3.5\\lib\\site-packages\\requests\\sessions.py\u001b[0m in \u001b[0;36mrequest\u001b[1;34m(self, method, url, params, data, headers, cookies, files, auth, timeout, allow_redirects, proxies, hooks, stream, verify, cert, json)\u001b[0m\n\u001b[0;32m    511\u001b[0m         }\n\u001b[0;32m    512\u001b[0m         \u001b[0msend_kwargs\u001b[0m\u001b[1;33m.\u001b[0m\u001b[0mupdate\u001b[0m\u001b[1;33m(\u001b[0m\u001b[0msettings\u001b[0m\u001b[1;33m)\u001b[0m\u001b[1;33m\u001b[0m\u001b[0m\n\u001b[1;32m--> 513\u001b[1;33m         \u001b[0mresp\u001b[0m \u001b[1;33m=\u001b[0m \u001b[0mself\u001b[0m\u001b[1;33m.\u001b[0m\u001b[0msend\u001b[0m\u001b[1;33m(\u001b[0m\u001b[0mprep\u001b[0m\u001b[1;33m,\u001b[0m \u001b[1;33m**\u001b[0m\u001b[0msend_kwargs\u001b[0m\u001b[1;33m)\u001b[0m\u001b[1;33m\u001b[0m\u001b[0m\n\u001b[0m\u001b[0;32m    514\u001b[0m \u001b[1;33m\u001b[0m\u001b[0m\n\u001b[0;32m    515\u001b[0m         \u001b[1;32mreturn\u001b[0m \u001b[0mresp\u001b[0m\u001b[1;33m\u001b[0m\u001b[0m\n",
      "\u001b[1;32mc:\\program files\\python 3.5\\lib\\site-packages\\requests\\sessions.py\u001b[0m in \u001b[0;36msend\u001b[1;34m(self, request, **kwargs)\u001b[0m\n\u001b[0;32m    621\u001b[0m \u001b[1;33m\u001b[0m\u001b[0m\n\u001b[0;32m    622\u001b[0m         \u001b[1;31m# Send the request\u001b[0m\u001b[1;33m\u001b[0m\u001b[1;33m\u001b[0m\u001b[0m\n\u001b[1;32m--> 623\u001b[1;33m         \u001b[0mr\u001b[0m \u001b[1;33m=\u001b[0m \u001b[0madapter\u001b[0m\u001b[1;33m.\u001b[0m\u001b[0msend\u001b[0m\u001b[1;33m(\u001b[0m\u001b[0mrequest\u001b[0m\u001b[1;33m,\u001b[0m \u001b[1;33m**\u001b[0m\u001b[0mkwargs\u001b[0m\u001b[1;33m)\u001b[0m\u001b[1;33m\u001b[0m\u001b[0m\n\u001b[0m\u001b[0;32m    624\u001b[0m \u001b[1;33m\u001b[0m\u001b[0m\n\u001b[0;32m    625\u001b[0m         \u001b[1;31m# Total elapsed time of the request (approximately)\u001b[0m\u001b[1;33m\u001b[0m\u001b[1;33m\u001b[0m\u001b[0m\n",
      "\u001b[1;32mc:\\program files\\python 3.5\\lib\\site-packages\\requests\\adapters.py\u001b[0m in \u001b[0;36msend\u001b[1;34m(self, request, stream, timeout, verify, cert, proxies)\u001b[0m\n\u001b[0;32m    438\u001b[0m                     \u001b[0mdecode_content\u001b[0m\u001b[1;33m=\u001b[0m\u001b[1;32mFalse\u001b[0m\u001b[1;33m,\u001b[0m\u001b[1;33m\u001b[0m\u001b[0m\n\u001b[0;32m    439\u001b[0m                     \u001b[0mretries\u001b[0m\u001b[1;33m=\u001b[0m\u001b[0mself\u001b[0m\u001b[1;33m.\u001b[0m\u001b[0mmax_retries\u001b[0m\u001b[1;33m,\u001b[0m\u001b[1;33m\u001b[0m\u001b[0m\n\u001b[1;32m--> 440\u001b[1;33m                     \u001b[0mtimeout\u001b[0m\u001b[1;33m=\u001b[0m\u001b[0mtimeout\u001b[0m\u001b[1;33m\u001b[0m\u001b[0m\n\u001b[0m\u001b[0;32m    441\u001b[0m                 )\n\u001b[0;32m    442\u001b[0m \u001b[1;33m\u001b[0m\u001b[0m\n",
      "\u001b[1;32mc:\\program files\\python 3.5\\lib\\site-packages\\urllib3\\connectionpool.py\u001b[0m in \u001b[0;36murlopen\u001b[1;34m(self, method, url, body, headers, retries, redirect, assert_same_host, timeout, pool_timeout, release_conn, chunked, body_pos, **response_kw)\u001b[0m\n\u001b[0;32m    598\u001b[0m                                                   \u001b[0mtimeout\u001b[0m\u001b[1;33m=\u001b[0m\u001b[0mtimeout_obj\u001b[0m\u001b[1;33m,\u001b[0m\u001b[1;33m\u001b[0m\u001b[0m\n\u001b[0;32m    599\u001b[0m                                                   \u001b[0mbody\u001b[0m\u001b[1;33m=\u001b[0m\u001b[0mbody\u001b[0m\u001b[1;33m,\u001b[0m \u001b[0mheaders\u001b[0m\u001b[1;33m=\u001b[0m\u001b[0mheaders\u001b[0m\u001b[1;33m,\u001b[0m\u001b[1;33m\u001b[0m\u001b[0m\n\u001b[1;32m--> 600\u001b[1;33m                                                   chunked=chunked)\n\u001b[0m\u001b[0;32m    601\u001b[0m \u001b[1;33m\u001b[0m\u001b[0m\n\u001b[0;32m    602\u001b[0m             \u001b[1;31m# If we're going to release the connection in ``finally:``, then\u001b[0m\u001b[1;33m\u001b[0m\u001b[1;33m\u001b[0m\u001b[0m\n",
      "\u001b[1;32mc:\\program files\\python 3.5\\lib\\site-packages\\urllib3\\connectionpool.py\u001b[0m in \u001b[0;36m_make_request\u001b[1;34m(self, conn, method, url, timeout, chunked, **httplib_request_kw)\u001b[0m\n\u001b[0;32m    380\u001b[0m             \u001b[1;32mexcept\u001b[0m \u001b[0mTypeError\u001b[0m\u001b[1;33m:\u001b[0m  \u001b[1;31m# Python 2.6 and older, Python 3\u001b[0m\u001b[1;33m\u001b[0m\u001b[0m\n\u001b[0;32m    381\u001b[0m                 \u001b[1;32mtry\u001b[0m\u001b[1;33m:\u001b[0m\u001b[1;33m\u001b[0m\u001b[0m\n\u001b[1;32m--> 382\u001b[1;33m                     \u001b[0mhttplib_response\u001b[0m \u001b[1;33m=\u001b[0m \u001b[0mconn\u001b[0m\u001b[1;33m.\u001b[0m\u001b[0mgetresponse\u001b[0m\u001b[1;33m(\u001b[0m\u001b[1;33m)\u001b[0m\u001b[1;33m\u001b[0m\u001b[0m\n\u001b[0m\u001b[0;32m    383\u001b[0m                 \u001b[1;32mexcept\u001b[0m \u001b[0mException\u001b[0m \u001b[1;32mas\u001b[0m \u001b[0me\u001b[0m\u001b[1;33m:\u001b[0m\u001b[1;33m\u001b[0m\u001b[0m\n\u001b[0;32m    384\u001b[0m                     \u001b[1;31m# Remove the TypeError from the exception chain in Python 3;\u001b[0m\u001b[1;33m\u001b[0m\u001b[1;33m\u001b[0m\u001b[0m\n",
      "\u001b[1;32mc:\\program files\\python 3.5\\lib\\http\\client.py\u001b[0m in \u001b[0;36mgetresponse\u001b[1;34m(self)\u001b[0m\n\u001b[0;32m   1172\u001b[0m         \u001b[1;32mtry\u001b[0m\u001b[1;33m:\u001b[0m\u001b[1;33m\u001b[0m\u001b[0m\n\u001b[0;32m   1173\u001b[0m             \u001b[1;32mtry\u001b[0m\u001b[1;33m:\u001b[0m\u001b[1;33m\u001b[0m\u001b[0m\n\u001b[1;32m-> 1174\u001b[1;33m                 \u001b[0mresponse\u001b[0m\u001b[1;33m.\u001b[0m\u001b[0mbegin\u001b[0m\u001b[1;33m(\u001b[0m\u001b[1;33m)\u001b[0m\u001b[1;33m\u001b[0m\u001b[0m\n\u001b[0m\u001b[0;32m   1175\u001b[0m             \u001b[1;32mexcept\u001b[0m \u001b[0mConnectionError\u001b[0m\u001b[1;33m:\u001b[0m\u001b[1;33m\u001b[0m\u001b[0m\n\u001b[0;32m   1176\u001b[0m                 \u001b[0mself\u001b[0m\u001b[1;33m.\u001b[0m\u001b[0mclose\u001b[0m\u001b[1;33m(\u001b[0m\u001b[1;33m)\u001b[0m\u001b[1;33m\u001b[0m\u001b[0m\n",
      "\u001b[1;32mc:\\program files\\python 3.5\\lib\\http\\client.py\u001b[0m in \u001b[0;36mbegin\u001b[1;34m(self)\u001b[0m\n\u001b[0;32m    280\u001b[0m         \u001b[1;31m# read until we get a non-100 response\u001b[0m\u001b[1;33m\u001b[0m\u001b[1;33m\u001b[0m\u001b[0m\n\u001b[0;32m    281\u001b[0m         \u001b[1;32mwhile\u001b[0m \u001b[1;32mTrue\u001b[0m\u001b[1;33m:\u001b[0m\u001b[1;33m\u001b[0m\u001b[0m\n\u001b[1;32m--> 282\u001b[1;33m             \u001b[0mversion\u001b[0m\u001b[1;33m,\u001b[0m \u001b[0mstatus\u001b[0m\u001b[1;33m,\u001b[0m \u001b[0mreason\u001b[0m \u001b[1;33m=\u001b[0m \u001b[0mself\u001b[0m\u001b[1;33m.\u001b[0m\u001b[0m_read_status\u001b[0m\u001b[1;33m(\u001b[0m\u001b[1;33m)\u001b[0m\u001b[1;33m\u001b[0m\u001b[0m\n\u001b[0m\u001b[0;32m    283\u001b[0m             \u001b[1;32mif\u001b[0m \u001b[0mstatus\u001b[0m \u001b[1;33m!=\u001b[0m \u001b[0mCONTINUE\u001b[0m\u001b[1;33m:\u001b[0m\u001b[1;33m\u001b[0m\u001b[0m\n\u001b[0;32m    284\u001b[0m                 \u001b[1;32mbreak\u001b[0m\u001b[1;33m\u001b[0m\u001b[0m\n",
      "\u001b[1;32mc:\\program files\\python 3.5\\lib\\http\\client.py\u001b[0m in \u001b[0;36m_read_status\u001b[1;34m(self)\u001b[0m\n\u001b[0;32m    241\u001b[0m \u001b[1;33m\u001b[0m\u001b[0m\n\u001b[0;32m    242\u001b[0m     \u001b[1;32mdef\u001b[0m \u001b[0m_read_status\u001b[0m\u001b[1;33m(\u001b[0m\u001b[0mself\u001b[0m\u001b[1;33m)\u001b[0m\u001b[1;33m:\u001b[0m\u001b[1;33m\u001b[0m\u001b[0m\n\u001b[1;32m--> 243\u001b[1;33m         \u001b[0mline\u001b[0m \u001b[1;33m=\u001b[0m \u001b[0mstr\u001b[0m\u001b[1;33m(\u001b[0m\u001b[0mself\u001b[0m\u001b[1;33m.\u001b[0m\u001b[0mfp\u001b[0m\u001b[1;33m.\u001b[0m\u001b[0mreadline\u001b[0m\u001b[1;33m(\u001b[0m\u001b[0m_MAXLINE\u001b[0m \u001b[1;33m+\u001b[0m \u001b[1;36m1\u001b[0m\u001b[1;33m)\u001b[0m\u001b[1;33m,\u001b[0m \u001b[1;34m\"iso-8859-1\"\u001b[0m\u001b[1;33m)\u001b[0m\u001b[1;33m\u001b[0m\u001b[0m\n\u001b[0m\u001b[0;32m    244\u001b[0m         \u001b[1;32mif\u001b[0m \u001b[0mlen\u001b[0m\u001b[1;33m(\u001b[0m\u001b[0mline\u001b[0m\u001b[1;33m)\u001b[0m \u001b[1;33m>\u001b[0m \u001b[0m_MAXLINE\u001b[0m\u001b[1;33m:\u001b[0m\u001b[1;33m\u001b[0m\u001b[0m\n\u001b[0;32m    245\u001b[0m             \u001b[1;32mraise\u001b[0m \u001b[0mLineTooLong\u001b[0m\u001b[1;33m(\u001b[0m\u001b[1;34m\"status line\"\u001b[0m\u001b[1;33m)\u001b[0m\u001b[1;33m\u001b[0m\u001b[0m\n",
      "\u001b[1;32mc:\\program files\\python 3.5\\lib\\socket.py\u001b[0m in \u001b[0;36mreadinto\u001b[1;34m(self, b)\u001b[0m\n\u001b[0;32m    569\u001b[0m         \u001b[1;32mwhile\u001b[0m \u001b[1;32mTrue\u001b[0m\u001b[1;33m:\u001b[0m\u001b[1;33m\u001b[0m\u001b[0m\n\u001b[0;32m    570\u001b[0m             \u001b[1;32mtry\u001b[0m\u001b[1;33m:\u001b[0m\u001b[1;33m\u001b[0m\u001b[0m\n\u001b[1;32m--> 571\u001b[1;33m                 \u001b[1;32mreturn\u001b[0m \u001b[0mself\u001b[0m\u001b[1;33m.\u001b[0m\u001b[0m_sock\u001b[0m\u001b[1;33m.\u001b[0m\u001b[0mrecv_into\u001b[0m\u001b[1;33m(\u001b[0m\u001b[0mb\u001b[0m\u001b[1;33m)\u001b[0m\u001b[1;33m\u001b[0m\u001b[0m\n\u001b[0m\u001b[0;32m    572\u001b[0m             \u001b[1;32mexcept\u001b[0m \u001b[0mtimeout\u001b[0m\u001b[1;33m:\u001b[0m\u001b[1;33m\u001b[0m\u001b[0m\n\u001b[0;32m    573\u001b[0m                 \u001b[0mself\u001b[0m\u001b[1;33m.\u001b[0m\u001b[0m_timeout_occurred\u001b[0m \u001b[1;33m=\u001b[0m \u001b[1;32mTrue\u001b[0m\u001b[1;33m\u001b[0m\u001b[0m\n",
      "\u001b[1;32mc:\\program files\\python 3.5\\lib\\ssl.py\u001b[0m in \u001b[0;36mrecv_into\u001b[1;34m(self, buffer, nbytes, flags)\u001b[0m\n\u001b[0;32m    922\u001b[0m                   \u001b[1;34m\"non-zero flags not allowed in calls to recv_into() on %s\"\u001b[0m \u001b[1;33m%\u001b[0m\u001b[1;33m\u001b[0m\u001b[0m\n\u001b[0;32m    923\u001b[0m                   self.__class__)\n\u001b[1;32m--> 924\u001b[1;33m             \u001b[1;32mreturn\u001b[0m \u001b[0mself\u001b[0m\u001b[1;33m.\u001b[0m\u001b[0mread\u001b[0m\u001b[1;33m(\u001b[0m\u001b[0mnbytes\u001b[0m\u001b[1;33m,\u001b[0m \u001b[0mbuffer\u001b[0m\u001b[1;33m)\u001b[0m\u001b[1;33m\u001b[0m\u001b[0m\n\u001b[0m\u001b[0;32m    925\u001b[0m         \u001b[1;32melse\u001b[0m\u001b[1;33m:\u001b[0m\u001b[1;33m\u001b[0m\u001b[0m\n\u001b[0;32m    926\u001b[0m             \u001b[1;32mreturn\u001b[0m \u001b[0msocket\u001b[0m\u001b[1;33m.\u001b[0m\u001b[0mrecv_into\u001b[0m\u001b[1;33m(\u001b[0m\u001b[0mself\u001b[0m\u001b[1;33m,\u001b[0m \u001b[0mbuffer\u001b[0m\u001b[1;33m,\u001b[0m \u001b[0mnbytes\u001b[0m\u001b[1;33m,\u001b[0m \u001b[0mflags\u001b[0m\u001b[1;33m)\u001b[0m\u001b[1;33m\u001b[0m\u001b[0m\n",
      "\u001b[1;32mc:\\program files\\python 3.5\\lib\\ssl.py\u001b[0m in \u001b[0;36mread\u001b[1;34m(self, len, buffer)\u001b[0m\n\u001b[0;32m    784\u001b[0m             \u001b[1;32mraise\u001b[0m \u001b[0mValueError\u001b[0m\u001b[1;33m(\u001b[0m\u001b[1;34m\"Read on closed or unwrapped SSL socket.\"\u001b[0m\u001b[1;33m)\u001b[0m\u001b[1;33m\u001b[0m\u001b[0m\n\u001b[0;32m    785\u001b[0m         \u001b[1;32mtry\u001b[0m\u001b[1;33m:\u001b[0m\u001b[1;33m\u001b[0m\u001b[0m\n\u001b[1;32m--> 786\u001b[1;33m             \u001b[1;32mreturn\u001b[0m \u001b[0mself\u001b[0m\u001b[1;33m.\u001b[0m\u001b[0m_sslobj\u001b[0m\u001b[1;33m.\u001b[0m\u001b[0mread\u001b[0m\u001b[1;33m(\u001b[0m\u001b[0mlen\u001b[0m\u001b[1;33m,\u001b[0m \u001b[0mbuffer\u001b[0m\u001b[1;33m)\u001b[0m\u001b[1;33m\u001b[0m\u001b[0m\n\u001b[0m\u001b[0;32m    787\u001b[0m         \u001b[1;32mexcept\u001b[0m \u001b[0mSSLError\u001b[0m \u001b[1;32mas\u001b[0m \u001b[0mx\u001b[0m\u001b[1;33m:\u001b[0m\u001b[1;33m\u001b[0m\u001b[0m\n\u001b[0;32m    788\u001b[0m             \u001b[1;32mif\u001b[0m \u001b[0mx\u001b[0m\u001b[1;33m.\u001b[0m\u001b[0margs\u001b[0m\u001b[1;33m[\u001b[0m\u001b[1;36m0\u001b[0m\u001b[1;33m]\u001b[0m \u001b[1;33m==\u001b[0m \u001b[0mSSL_ERROR_EOF\u001b[0m \u001b[1;32mand\u001b[0m \u001b[0mself\u001b[0m\u001b[1;33m.\u001b[0m\u001b[0msuppress_ragged_eofs\u001b[0m\u001b[1;33m:\u001b[0m\u001b[1;33m\u001b[0m\u001b[0m\n",
      "\u001b[1;32mc:\\program files\\python 3.5\\lib\\ssl.py\u001b[0m in \u001b[0;36mread\u001b[1;34m(self, len, buffer)\u001b[0m\n\u001b[0;32m    568\u001b[0m         \"\"\"\n\u001b[0;32m    569\u001b[0m         \u001b[1;32mif\u001b[0m \u001b[0mbuffer\u001b[0m \u001b[1;32mis\u001b[0m \u001b[1;32mnot\u001b[0m \u001b[1;32mNone\u001b[0m\u001b[1;33m:\u001b[0m\u001b[1;33m\u001b[0m\u001b[0m\n\u001b[1;32m--> 570\u001b[1;33m             \u001b[0mv\u001b[0m \u001b[1;33m=\u001b[0m \u001b[0mself\u001b[0m\u001b[1;33m.\u001b[0m\u001b[0m_sslobj\u001b[0m\u001b[1;33m.\u001b[0m\u001b[0mread\u001b[0m\u001b[1;33m(\u001b[0m\u001b[0mlen\u001b[0m\u001b[1;33m,\u001b[0m \u001b[0mbuffer\u001b[0m\u001b[1;33m)\u001b[0m\u001b[1;33m\u001b[0m\u001b[0m\n\u001b[0m\u001b[0;32m    571\u001b[0m         \u001b[1;32melse\u001b[0m\u001b[1;33m:\u001b[0m\u001b[1;33m\u001b[0m\u001b[0m\n\u001b[0;32m    572\u001b[0m             \u001b[0mv\u001b[0m \u001b[1;33m=\u001b[0m \u001b[0mself\u001b[0m\u001b[1;33m.\u001b[0m\u001b[0m_sslobj\u001b[0m\u001b[1;33m.\u001b[0m\u001b[0mread\u001b[0m\u001b[1;33m(\u001b[0m\u001b[0mlen\u001b[0m \u001b[1;32mor\u001b[0m \u001b[1;36m1024\u001b[0m\u001b[1;33m)\u001b[0m\u001b[1;33m\u001b[0m\u001b[0m\n",
      "\u001b[1;31mKeyboardInterrupt\u001b[0m: "
     ]
    }
   ],
   "source": [
    "h = HelloApp('192.168.1.9')\n",
    "h.login(\"pbstech\", 727246)\n",
    "bl = h.getbatches()\n",
    "n = len(bl.getbatches()) * 10\n",
    "j = 1\n",
    "for i in range(10):\n",
    "    for b in bl.getbatches():\n",
    "        test(b)\n",
    "        j += 1"
   ]
  },
  {
   "cell_type": "code",
   "execution_count": null,
   "metadata": {
    "collapsed": true
   },
   "outputs": [],
   "source": []
  },
  {
   "cell_type": "code",
   "execution_count": 54,
   "metadata": {
    "collapsed": true
   },
   "outputs": [],
   "source": [
    "import copy\n",
    "new_ssd = copy.deepcopy(results)"
   ]
  },
  {
   "cell_type": "code",
   "execution_count": 55,
   "metadata": {
    "collapsed": true
   },
   "outputs": [],
   "source": [
    "new_ssd2 = defaultdict(list)\n",
    "for b in bl.getbatches():\n",
    "    tag = \"%s(%d)\"%(b.name, b.id)\n",
    "    new_ssd2[tag] = new_ssd[b.name]\n",
    "\n",
    "new_ssd2['sop(4)'] = new_ssd2['sop(4)'][::2]\n",
    "new_ssd2['sop(6)'] = new_ssd2['sop(6)'][1::2]"
   ]
  },
  {
   "cell_type": "code",
   "execution_count": 64,
   "metadata": {
    "collapsed": true
   },
   "outputs": [],
   "source": [
    "def average(o):\n",
    "    return sum(o)/len(o)\n",
    "\n",
    "def display(ssd):\n",
    "    for name, times in sorted(ssd.items()):\n",
    "        tsrs = \"\".join([\"%8.1f\"%t for t in times])\n",
    "        print(\"%-30s %s %8.1f\"%(name, tsrs, average(times)))"
   ]
  },
  {
   "cell_type": "code",
   "execution_count": 65,
   "metadata": {},
   "outputs": [
    {
     "name": "stdout",
     "output_type": "stream",
     "text": [
      "8jun18nab3ltest(12)                64.8    63.8    64.2    59.0    57.6    69.0    60.5    69.8    64.0    65.2     63.8\n",
      "da r06(8)                          24.0    22.8    23.8    22.9    22.2    25.6    23.4    28.7    33.5    23.7     25.1\n",
      "da run 06_2(10)                   131.3   118.7   139.3   119.4   141.5   122.7   121.7   113.4   140.2   140.4    128.9\n",
      "hla ips perf r01(2)               118.4   112.8   117.6   104.2   106.1   108.4   105.2   117.6   120.3   106.0    111.7\n",
      "mjs hpc run 1(14)                  70.7    72.2    69.8    70.2    75.4    69.5    73.8    76.8    70.7    75.6     72.5\n",
      "sop(4)                             24.1    26.1    24.2    24.9    23.5    24.1    21.2    22.7    26.3    24.1     24.1\n",
      "sop(6)                             14.4    14.9    14.2    15.1    13.9    14.9    14.3    14.3    15.3    13.7     14.5\n"
     ]
    }
   ],
   "source": [
    "display(old_ssd2)"
   ]
  },
  {
   "cell_type": "code",
   "execution_count": 66,
   "metadata": {},
   "outputs": [
    {
     "name": "stdout",
     "output_type": "stream",
     "text": [
      "8jun18nab3ltest(12)                66.6    64.5    65.0    56.6    65.0    61.4    65.0    61.1    60.3    59.2     62.5\n",
      "da r06(8)                          30.3    27.4    24.7    23.0    22.8    23.7    22.2    22.4    27.5    22.7     24.7\n",
      "da run 06_2(10)                   117.1   132.7   139.1   133.9   100.4   117.7   119.7   117.6   108.2   109.9    119.6\n",
      "hla ips perf r01(2)                99.9    91.3   106.7    86.5   104.3   121.2   119.6   103.4   100.5    86.4    102.0\n",
      "mjs hpc run 1(14)                  59.5    67.8    69.5    71.1    72.1    66.4    62.0    68.5    60.2    68.4     66.6\n",
      "sop(4)                             20.5    20.5    23.5    21.6    24.4    23.2    24.7    24.7    21.6    21.6     22.6\n",
      "sop(6)                             14.4    14.4    13.2    13.7    13.1    14.1    13.5    14.7    13.7    13.4     13.8\n"
     ]
    }
   ],
   "source": [
    "display(new_ssd2)"
   ]
  },
  {
   "cell_type": "code",
   "execution_count": null,
   "metadata": {
    "collapsed": true
   },
   "outputs": [],
   "source": [
    "display(old_ssd_rnd)"
   ]
  },
  {
   "cell_type": "code",
   "execution_count": null,
   "metadata": {
    "collapsed": true
   },
   "outputs": [],
   "source": []
  }
 ],
 "metadata": {
  "kernelspec": {
   "display_name": "Python 3",
   "language": "python",
   "name": "python3"
  },
  "language_info": {
   "codemirror_mode": {
    "name": "ipython",
    "version": 3
   },
   "file_extension": ".py",
   "mimetype": "text/x-python",
   "name": "python",
   "nbconvert_exporter": "python",
   "pygments_lexer": "ipython3",
   "version": "3.5.0"
  }
 },
 "nbformat": 4,
 "nbformat_minor": 2
}
