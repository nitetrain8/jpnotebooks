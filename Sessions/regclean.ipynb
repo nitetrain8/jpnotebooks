{
 "cells": [
  {
   "cell_type": "code",
   "execution_count": 73,
   "metadata": {
    "collapsed": true
   },
   "outputs": [],
   "source": [
    "import winreg, sys, os\n",
    "from winreg import *"
   ]
  },
  {
   "cell_type": "code",
   "execution_count": 76,
   "metadata": {},
   "outputs": [],
   "source": [
    "class RegIterer:\n",
    "    def __init__(self):\n",
    "        pass\n",
    "    \n",
    "    def onValue(self, name, data, typ, path):\n",
    "        pass  # hook\n",
    "    \n",
    "    def onKey(self, key, path):\n",
    "        self.iterKeys(key, path)\n",
    "        self.iterValues(key, path)\n",
    "    \n",
    "    def iterValues(self, key, path):\n",
    "        i = 0\n",
    "        while True:\n",
    "            try:\n",
    "                name, data, typ = EnumValue(key, i)\n",
    "            except OSError:\n",
    "                break\n",
    "            self.onValue(name, data, typ, path + \"\\\\\" + name)\n",
    "            i += 1\n",
    "            \n",
    "    def iterKeys(self, key, path=\"\"):\n",
    "        i = 0\n",
    "        while True:\n",
    "            try:\n",
    "                name = EnumKey(key, i)\n",
    "            except OSError:\n",
    "                break\n",
    "            try:\n",
    "                subkey = OpenKey(key, name, 0, KEY_READ | KEY_QUERY_VALUE)\n",
    "            except PermissionError:\n",
    "                pass\n",
    "                # print(\"Unable to access key: \", path+\"\\\\\"+name)\n",
    "            else:\n",
    "                self.onKey(subkey, path+\"\\\\\"+name)\n",
    "                # no CloseKey - handled by python finalizer\n",
    "            i += 1\n",
    "\n",
    "            \n",
    "class ExtSearcher(RegIterer):\n",
    "    def __init__(self, filename, exts):\n",
    "        self.filename = filename\n",
    "        self.file = None\n",
    "        self.exts = tuple(set(exts))\n",
    "        \n",
    "        self.startwith_filtered = {\n",
    "            \"C:\\\\Users\\\\Administrator\\\\AppData\\\\Local\\\\Microsoft\\\\Windows\\\\Notifications\\\\wpnidm\",\n",
    "            \"wpnidm:https://site-cdn.onenote.net/\",\n",
    "            \"@{Microsoft.\"\n",
    "        }\n",
    "        self.keys_filtered = {\n",
    "            \"Software\\\\Classes\\\\Extensions\\\\ContractId\",\n",
    "            \"Software\\\\Classes\\\\Local Settings\\\\MrtCache\\\\\"\n",
    "        }\n",
    "        \n",
    "        \n",
    "    def onValue(self, name, data, typ, path):\n",
    "        p2 = path.split(\"\\\\\",1)[1]\n",
    "        for kf in self.keys_filtered:\n",
    "            if p2.startswith(kf):\n",
    "                return\n",
    "        if typ == REG_SZ:\n",
    "            if any(e in data for e in self.exts):\n",
    "                if any(data.startswith(f) for f in self.startwith_filtered):\n",
    "                    return\n",
    "                dname = os.path.basename(data)\n",
    "                print(\"%-50s :: %s\"%(dname, path), file=(self.file or sys.stdout))\n",
    "                \n",
    "    def doiterKeys(self, key, path):\n",
    "        with open(self.filename, 'w') as f:\n",
    "            self.file = f\n",
    "            self.iterKeys(key, path)"
   ]
  },
  {
   "cell_type": "code",
   "execution_count": 63,
   "metadata": {},
   "outputs": [],
   "source": [
    "fn = \"C:\\\\users\\\\administrator\\\\documents\\\\reg.txt\"\n",
    "searcher = ExtSearcher(fn, [\".jpg\",\".avi\",\".rar\",\".zip\",\".png\"])\n",
    "\n",
    "searcher.doiterKeys(HKEY_CURRENT_USER, \"HKEY_CURRENT_USER\")"
   ]
  },
  {
   "cell_type": "code",
   "execution_count": 68,
   "metadata": {
    "collapsed": true
   },
   "outputs": [],
   "source": [
    "class XSearcher(RegIterer):\n",
    "    def onValue(self, name, data, typ, path):\n",
    "        if typ == REG_SZ:\n",
    "            if data.startswith(\"X:\"):\n",
    "                print(\"%-50s :: %s\"%(path, data))"
   ]
  },
  {
   "cell_type": "code",
   "execution_count": 69,
   "metadata": {
    "collapsed": true
   },
   "outputs": [
    {
     "name": "stdout",
     "output_type": "stream",
     "text": [
      "HKEY_CURRENT_USER\\Software\\Microsoft\\Windows\\CurrentVersion\\Uninstall\\{3196C62F-9C7B-4392-88B4-05C037D05518}_is1\\Inno Setup: App Path :: X:\\Freenet\n",
      "HKEY_CURRENT_USER\\Software\\Microsoft\\Windows\\CurrentVersion\\Uninstall\\{3196C62F-9C7B-4392-88B4-05C037D05518}_is1\\InstallLocation :: X:\\Freenet\\\n",
      "HKEY_USERS\\S-1-5-21-3480973611-4170425562-2601081845-500\\Software\\Microsoft\\Windows\\CurrentVersion\\Uninstall\\{3196C62F-9C7B-4392-88B4-05C037D05518}_is1\\Inno Setup: App Path :: X:\\Freenet\n",
      "HKEY_USERS\\S-1-5-21-3480973611-4170425562-2601081845-500\\Software\\Microsoft\\Windows\\CurrentVersion\\Uninstall\\{3196C62F-9C7B-4392-88B4-05C037D05518}_is1\\InstallLocation :: X:\\Freenet\\\n"
     ]
    }
   ],
   "source": [
    "hkeys = [\n",
    "    \"HKEY_CLASSES_ROOT\", \n",
    "    \"HKEY_CURRENT_USER\",\n",
    "    \"HKEY_LOCAL_MACHINE\",\n",
    "    \"HKEY_USERS\",\n",
    "    \"HKEY_CURRENT_CONFIG\"\n",
    "]\n",
    "\n",
    "for hkey in hkeys:\n",
    "    XSearcher().iterKeys(globals()[hkey], hkey)"
   ]
  },
  {
   "cell_type": "code",
   "execution_count": 78,
   "metadata": {},
   "outputs": [],
   "source": [
    "hkeys = [\n",
    "    \"HKEY_CLASSES_ROOT\", \n",
    "    \"HKEY_CURRENT_USER\",\n",
    "    \"HKEY_LOCAL_MACHINE\",\n",
    "    \"HKEY_USERS\",\n",
    "    \"HKEY_CURRENT_CONFIG\"\n",
    "]\n",
    "\n",
    "for hkey in hkeys:\n",
    "    fn = \"C:\\\\users\\\\administrator\\\\documents\\\\reg_%s.txt\"%hkey\n",
    "    searcher = ExtSearcher(fn, [\".gif\",\".jpeg\"])\n",
    "    searcher.doiterKeys(globals()[hkey], hkey)"
   ]
  },
  {
   "cell_type": "code",
   "execution_count": null,
   "metadata": {
    "collapsed": true
   },
   "outputs": [],
   "source": []
  }
 ],
 "metadata": {
  "kernelspec": {
   "display_name": "Python 3",
   "language": "python",
   "name": "python3"
  },
  "language_info": {
   "codemirror_mode": {
    "name": "ipython",
    "version": 3
   },
   "file_extension": ".py",
   "mimetype": "text/x-python",
   "name": "python",
   "nbconvert_exporter": "python",
   "pygments_lexer": "ipython3",
   "version": "3.6.1"
  }
 },
 "nbformat": 4,
 "nbformat_minor": 2
}
