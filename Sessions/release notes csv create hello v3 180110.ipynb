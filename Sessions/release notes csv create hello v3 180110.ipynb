{
 "cells": [
  {
   "cell_type": "code",
   "execution_count": 96,
   "metadata": {},
   "outputs": [],
   "source": [
    "from officelib.xllib import *\n",
    "from officelib.const import xlconst as xlc\n",
    "import os\n",
    "xl = Excel()\n",
    "\n",
    "for rf in xl.RecentFiles:\n",
    "    if os.path.basename(rf.Name) == \"release notes test 3.0 categorize.xlsx\":\n",
    "        wb = rf.Open()\n",
    "        break\n",
    "else:\n",
    "    raise NameError(\"Couldn't find the thing\")\n",
    "#wb = xl.Workbooks(\"release notes test 2 categorize.xlsx\")\n",
    "ws = wb.Worksheets(1)\n",
    "cells = ws.Cells\n",
    "cell_range = cells.Range\n",
    "cr = cell_range"
   ]
  },
  {
   "cell_type": "code",
   "execution_count": 125,
   "metadata": {},
   "outputs": [],
   "source": [
    "c1 = cr2(\"D1\")\n",
    "while c1.Value:\n",
    "    ind = len(c1.Value)-1\n",
    "    ind = ind * 2\n",
    "    c1.Offset(1,2).IndentLevel = ind\n",
    "    c1 = c1.Offset(2,1)\n",
    "\n",
    "c1 = cr2(\"D1\")\n",
    "while c1.Value:\n",
    "    stars = len(c1.Value)\n",
    "    if stars == 1:\n",
    "        c1.EntireRow.Insert()\n",
    "    c1=c1.Offset(2,1)"
   ]
  },
  {
   "cell_type": "code",
   "execution_count": 97,
   "metadata": {},
   "outputs": [
    {
     "name": "stdout",
     "output_type": "stream",
     "text": [
      "$D$237\n"
     ]
    }
   ],
   "source": [
    "# remove italics\n",
    "for cell in xl.Selection:\n",
    "    if not cell.Value:\n",
    "        print(cell.Address)\n",
    "        break\n",
    "    cell.Value = cell.Value.replace(\"_\", \"\")"
   ]
  },
  {
   "cell_type": "code",
   "execution_count": 126,
   "metadata": {},
   "outputs": [],
   "source": [
    "c = cr2(\"D2\")\n",
    "while True:\n",
    "    if c.Value is None:\n",
    "        break\n",
    "    c2 = c.Offset(2,1)\n",
    "    if c2.Value is None:\n",
    "        c2.EntireRow.Delete()\n",
    "        if c.Offset(2,1).Value is None:\n",
    "            break\n",
    "    else:\n",
    "        c = c.Offset(2,1)"
   ]
  },
  {
   "cell_type": "code",
   "execution_count": 128,
   "metadata": {},
   "outputs": [],
   "source": [
    "from collections import OrderedDict\n",
    "\n",
    "cat_map = {\n",
    "    \"webui\": \"Hello UI\",\n",
    "    \"bugfix\": \"Bug Fixes\",\n",
    "    \"misc\": \"Miscellaneous\",\n",
    "    \"other\": \"Miscellaneous\",\n",
    "    \"gmp\": \"GMP and CFR 21 part 11 Compliance\",\n",
    "    \"shell\": \"Desktop UI\",\n",
    "    \"harvest\": \"Harvest Mode (15L and greater only)\",\n",
    "    \"controls\": \"Controls\",\n",
    "    \"permissions\": \"Permissions\",\n",
    "    \"data_and_reports\": \"Data and Reports\",\n",
    "    \"decaytest\": \"Pressure Decay Test (15L and greater only)\",\n",
    "    \"security\": \"Security\",\n",
    "    \"alarms\": \"Alarms\",\n",
    "    'improvements': \"Improvements\",\n",
    "    \"bug\": \"Bug Fixes\",\n",
    "    \"exclude\": \"Exclude\",\n",
    "    \"summary\": \"Summary\"\n",
    "    \n",
    "}\n",
    "\n",
    "def add_note(cat1, cat2, issue, indent, note):\n",
    "    cat1 = cat_map.get(cat1, cat1.title())\n",
    "    cat2 = cat_map.get(cat2, cat2.title()) if cat2 is not None else None\n",
    "    if cat1 not in notesd:\n",
    "        notesd[cat1] = OrderedDict()\n",
    "    l1 = notesd[cat1]\n",
    "    if cat2 not in l1:\n",
    "        l1[cat2] = []\n",
    "    l2 = l1[cat2]\n",
    "    l2.append((indent, note))\n",
    "    \n",
    "c1 = cr2(\"A2\")\n",
    "notesd = OrderedDict()\n",
    "data = cr2(c1, c1.End(xlc.xlDown).Offset(1,5)).Value\n",
    "    \n",
    "for cat1, cat2, issue, indent, notes in data:\n",
    "    add_note(cat1, cat2, issue, indent, notes)\n",
    "    "
   ]
  },
  {
   "cell_type": "code",
   "execution_count": 103,
   "metadata": {},
   "outputs": [],
   "source": [
    "def text_out(notesd, fn):\n",
    "    out = []\n",
    "    summary = notesd['Summary'][None]\n",
    "    out.append(\"Summary:\")\n",
    "    for ind, note in summary:\n",
    "        out.append(\"\".join((\"    \", ind, \" \", note)))\n",
    "        \n",
    "    for cat1, l1 in notesd.items():\n",
    "        if cat1 in (\"Summary\", \"Exclude\"):\n",
    "            continue\n",
    "        out.append(\"\\n%s: \"%cat1)\n",
    "        for cat2, l2 in l1.items():\n",
    "            if cat2 is not None:\n",
    "                pre = \"        \"\n",
    "                out.append(\"    %s:\"%cat2)\n",
    "            else:\n",
    "                pre = \"    \"\n",
    "            for indent, note in l2:\n",
    "                out.append(''.join((pre, (len(indent)-1)*\"    \",indent,\" \",note)))\n",
    "\n",
    "    with open(fn, 'w') as f:\n",
    "        f.write(\"\\n\".join(out))\n",
    "text_out(notesd, \"notes test2.txt\")"
   ]
  },
  {
   "cell_type": "code",
   "execution_count": 104,
   "metadata": {},
   "outputs": [
    {
     "name": "stdout",
     "output_type": "stream",
     "text": [
      "The autoreload extension is already loaded. To reload it, use:\n",
      "  %reload_ext autoreload\n"
     ]
    }
   ],
   "source": [
    "%load_ext autoreload\n",
    "%autoreload 2\n",
    "from officelib.wordlib import Word\n",
    "from officelib.wordlib import c as wdc\n",
    "from officelib import wordlib\n",
    "from pythoncom import com_error\n",
    "from officelib import const as wdc"
   ]
  },
  {
   "cell_type": "code",
   "execution_count": 105,
   "metadata": {},
   "outputs": [],
   "source": [
    "def make_style(doc, name=\"PY_RN_TITLE\", font_size=24, font=\"Calibri\", \n",
    "                     alignment=wdc.wdAlignParagraphLeft, indent=None, tabstops=None, space_after=None):\n",
    "    \n",
    "    if alignment is None:\n",
    "        alignment = wordlib.c.wdAlignParagraphCenter\n",
    "    \n",
    "    style = doc.Styles.Add(name)\n",
    "    style.BaseStyle = doc.Styles(\"Normal\")\n",
    "    style.NoSpaceBetweenParagraphsOfSameStyle = True\n",
    "    \n",
    "    style.Font.Size = font_size\n",
    "    style.Font.Name = font\n",
    "    \n",
    "    style.ParagraphFormat.Alignment = alignment\n",
    "    style.ParagraphFormat.SpaceBeforeAuto = False\n",
    "    style.ParagraphFormat.SpaceAfterAuto = False\n",
    "    style.ParagraphFormat.LineSpacingRule = wordlib.c.wdLineSpaceSingle\n",
    "    \n",
    "    if indent is not None:\n",
    "        style.ParagraphFormat.LeftIndent = wordlib.inches_to_points(indent)\n",
    "    \n",
    "    if tabstops is not None:\n",
    "        style.ParagraphFormat.TabStops.Add(wordlib.inches_to_points(tabstops), \n",
    "                                           wordlib.c.wdAlignTabLeft, \n",
    "                                           wordlib.c.wdTabLeaderDots)\n",
    "    \n",
    "    if space_after is not None:\n",
    "        style.ParagraphFormat.SpaceAfter = space_after\n",
    "    \n",
    "    return style"
   ]
  },
  {
   "cell_type": "code",
   "execution_count": 129,
   "metadata": {},
   "outputs": [],
   "source": [
    "_styles = {}\n",
    "def get_style(d, indent, cat):\n",
    "    n = len(indent)\n",
    "    i = n\n",
    "    if cat is not None:\n",
    "        i += 1\n",
    "    name = \"PY_RN_BULLET%d_%d\"%(i, n)\n",
    "    style = _styles.get(name)\n",
    "    if style is None:\n",
    "        style = bulletstyle(d, name, n, 9)\n",
    "        _styles[name] = style\n",
    "    return style\n",
    "\n",
    "def move(r,n):\n",
    "    r.MoveStart(wdc.wdCharacter, n)\n",
    "    \n",
    "def pwrite(r, txt, style):\n",
    "    if isinstance(style, str):\n",
    "        style = _styles[style]\n",
    "    r.Text = txt\n",
    "    r.Style = style\n",
    "    r.InsertAfter(\"\\r\")\n",
    "    move(r, len(txt)+1)\n",
    "    \n",
    "def _unpack_styles(d):\n",
    "    for style in d.Styles:\n",
    "        _styles[style.NameLocal] = style\n",
    "            \n",
    "def _normal_style(d):\n",
    "    style = make_style(d, \"PY_RN_NORMAL\", 9, 0)\n",
    "    _styles[style.NameLocal] = style\n",
    "    \n",
    "def clear(d):\n",
    "    r = d.Paragraphs(1).Range\n",
    "    r.MoveEnd(wdc.wdStory, 1)\n",
    "    r.Text = \"\"\n",
    "    r.Style = \"Normal\"\n",
    "    \n",
    "def word_out(w, d, notesd):\n",
    "    clear(d)\n",
    "    _unpack_styles(d)\n",
    "    pgs = d.Paragraphs\n",
    "    r = pgs(1).Range\n",
    "    \n",
    "    # summary first\n",
    "    l2 = notesd[\"Summary\"]\n",
    "    pwrite(r, \"%s:\"%\"Summary\", \"PY_RN_CAT1\")\n",
    "    for _, lines in l2.items():\n",
    "        for _, line in lines:\n",
    "            pwrite(r, line, \"PY_RN_BULLET_1_0\")\n",
    "    \n",
    "    # all items except 'Summary' and 'Exclude'\n",
    "    for cat1, l2 in notesd.items():\n",
    "        if cat1 == \"Summary\" or cat1 == \"Exclude\":\n",
    "            continue\n",
    "        pwrite(r, \"%s:\"%cat1, 'PY_RN_CAT1')\n",
    "        for cat2, l2 in l2.items():\n",
    "            if cat2 is not None:\n",
    "                pwrite(r, \"%s:\"%cat2, 'PY_RN_CAT2')\n",
    "            for ind, note in l2:\n",
    "                n = len(ind)\n",
    "                i = int(bool(cat2))\n",
    "                pwrite(r,note, 'PY_RN_BULLET_%d_%d'%(n,i))\n",
    "    "
   ]
  },
  {
   "cell_type": "code",
   "execution_count": 130,
   "metadata": {},
   "outputs": [],
   "source": [
    "w = Word()\n",
    "for rf in w.RecentFiles:\n",
    "    if rf.Name.endswith(\"Release Notes Template5.docx\"):\n",
    "        d = w.Documents.Open(rf.Path + \"\\\\\" + rf.Name, ReadOnly=True)\n",
    "        break\n",
    "else:\n",
    "    raise ValueError\n",
    "#clear(d)"
   ]
  },
  {
   "cell_type": "code",
   "execution_count": 131,
   "metadata": {},
   "outputs": [],
   "source": [
    "with wordlib.screen_lock(w):\n",
    "    word_out(w,d,notesd)"
   ]
  },
  {
   "cell_type": "code",
   "execution_count": 122,
   "metadata": {},
   "outputs": [],
   "source": [
    "try:\n",
    "    ws2 = wb.Worksheets(\"Sheet1\")\n",
    "except com_error:\n",
    "    ws2 = wb.Worksheets.Add()\n",
    "    \n",
    "cr2 = ws2.Cells.Range\n",
    "c2_1 = cr2(\"A1\")\n",
    "c1 = cr(\"A2\")\n",
    "\n",
    "def writerow(*args):\n",
    "    global c2_1\n",
    "    cr2(c2_1, c2_1.Offset(1, len(args))).Value = [args]\n",
    "    c2_1 = c2_1.Offset(2,1)\n",
    "    \n",
    "data = cr(c1, c1.End(xlc.xlDown).Offset(1,5)).Value\n",
    "cats = {(cat1, cat2) for cat1, cat2, _, _, _ in data}\n",
    "order = \"summary shell webui gmp controls alarms harvest misc bugfix exclude\".split()\n",
    "order2 = [cat_map[o] for o in order]\n",
    "set(cat_map[c[0]] for c in cats)-set(order2)\n",
    "for o in order2:\n",
    "    for c1, c2, i, ind, note in data:\n",
    "        if cat_map[c1] == o:\n",
    "            writerow(c1, c2, i, ind, note)"
   ]
  },
  {
   "cell_type": "code",
   "execution_count": 118,
   "metadata": {},
   "outputs": [
    {
     "data": {
      "text/plain": [
       "'release notes test 3.0 categori'"
      ]
     },
     "execution_count": 118,
     "metadata": {},
     "output_type": "execute_result"
    }
   ],
   "source": [
    "ws2.Name"
   ]
  },
  {
   "cell_type": "code",
   "execution_count": null,
   "metadata": {},
   "outputs": [],
   "source": [
    "cat_map"
   ]
  }
 ],
 "metadata": {
  "kernelspec": {
   "display_name": "Python 3",
   "language": "python",
   "name": "python3"
  },
  "language_info": {
   "codemirror_mode": {
    "name": "ipython",
    "version": 3
   },
   "file_extension": ".py",
   "mimetype": "text/x-python",
   "name": "python",
   "nbconvert_exporter": "python",
   "pygments_lexer": "ipython3",
   "version": "3.5.2"
  }
 },
 "nbformat": 4,
 "nbformat_minor": 2
}
