{
 "cells": [
  {
   "cell_type": "code",
   "execution_count": 55,
   "metadata": {},
   "outputs": [],
   "source": [
    "import os\n",
    "\n",
    "appsdir = '\\\\\\\\pbsstation\\\\pbsicmi\\\\Applications Engineering\\\\(4) Backup Bioreactor Databases'\n",
    "cfgdir = '\\\\\\\\pbsstation\\\\pbsicmi\\\\Documents\\\\Manufacturing\\\\Mfg Released\\\\IM\\\\IM00226\\\\%s\\\\USB\\\\Install\\\\PBS Biotech Desktop\\\\1 Install RIO'\n",
    "\n",
    "def getapp(sn):\n",
    "    d1 = os.path.join(appsdir, sn)\n",
    "    d2 = None\n",
    "    ddate = 0\n",
    "    if not os.path.exists(d1):\n",
    "        raise FileNotFoundError(d1)\n",
    "    for d in os.listdir(d1):\n",
    "        if os.path.isdir(os.path.join(d1, d)) and d.startswith(\"factory\"):\n",
    "            factory, date = d.split()\n",
    "            date = int(date)\n",
    "            if date > ddate:\n",
    "                ddate = date\n",
    "                d2 = d\n",
    "    if not d2:\n",
    "        raise FileNotFoundError(\"Failed to find subdir for '%s'\"%sn)\n",
    "    return os.path.join(d1, d2)\n",
    "\n",
    "def getapplv(sn):\n",
    "    d = getapp(sn)\n",
    "    return os.path.join(d, \"LabVIEW_Data\")\n",
    "        \n",
    "def get_lvdir(model, im226=\"IM00226 E\"):\n",
    "    return os.path.join(cfgdir%im226, model, \"config\\\\LabVIEW data\")\n",
    "\n",
    "def lcmp(fn, ll1, ll2, doskip=lambda a,b,c: False):\n",
    "    i = 0\n",
    "    for l1, l2 in zip(ll1, ll2):\n",
    "        if l1 != l2:\n",
    "            try:\n",
    "                s1 = l1.decode()\n",
    "                s2 = l2.decode()\n",
    "            except UnicodeDecodeError:\n",
    "                s1 = repr(l1)\n",
    "                s2 = repr(l2)\n",
    "            if doskip(fn, s1, s2):\n",
    "                continue\n",
    "            print(\"'%s' != '%s'\" % (s1, s2))\n",
    "            i += 1\n",
    "    return i\n",
    "\n",
    "def fcmp(fn, f1, f2, doskip=lambda a,b,c: False):\n",
    "    with open(f1, 'rb') as f:\n",
    "        lines1 = f.read().splitlines()\n",
    "    with open(f2, 'rb') as f:\n",
    "        lines2 = f.read().splitlines()\n",
    "    return lcmp(fn, lines1, lines2, doskip)\n",
    "\n",
    "def skipline(fn, l1, l2):\n",
    "    if fn == \"Email Alerts Settings.xml\":\n",
    "        if l1.startswith(\"Subject\") and l2.startswith(\"Subject\"):\n",
    "            return True\n",
    "        if l1.startswith(\"Return Address\") and l2.startswith(\"Return Address\"):\n",
    "            return True\n",
    "    return False\n",
    "\n",
    "skipfiles = set()\n",
    "def isskip(s):\n",
    "    return s in skipfiles"
   ]
  },
  {
   "cell_type": "code",
   "execution_count": 56,
   "metadata": {},
   "outputs": [
    {
     "name": "stdout",
     "output_type": "stream",
     "text": [
      "0 mismatching items\n"
     ]
    }
   ],
   "source": [
    "sns = [\n",
    "    '000318N0404',\n",
    "    '000318N0405',\n",
    "    '000318N2201',\n",
    "    '000318Q1701',\n",
    "]\n",
    "\n",
    "skipfiles = {\n",
    "    'Email Password.cfgx',\n",
    "}\n",
    "\n",
    "reflv = get_lvdir(\"Mag 03\", \"IM00226 E\")\n",
    "mismatch = 0\n",
    "for sn in sns:\n",
    "    snlv = getapplv(sn)\n",
    "    sn_files = os.listdir(snlv)\n",
    "    for file in sn_files:\n",
    "        if isskip(file):\n",
    "            continue\n",
    "        sfp = os.path.join(snlv, file)\n",
    "        rfp = os.path.join(reflv, file)\n",
    "        mismatch += fcmp(file, sfp, rfp, skipline)\n",
    "        \n",
    "print(\"%d mismatching items\"%mismatch)"
   ]
  },
  {
   "cell_type": "code",
   "execution_count": null,
   "metadata": {},
   "outputs": [],
   "source": []
  }
 ],
 "metadata": {
  "kernelspec": {
   "display_name": "Python 3",
   "language": "python",
   "name": "python3"
  },
  "language_info": {
   "codemirror_mode": {
    "name": "ipython",
    "version": 3
   },
   "file_extension": ".py",
   "mimetype": "text/x-python",
   "name": "python",
   "nbconvert_exporter": "python",
   "pygments_lexer": "ipython3",
   "version": "3.5.2"
  }
 },
 "nbformat": 4,
 "nbformat_minor": 2
}
