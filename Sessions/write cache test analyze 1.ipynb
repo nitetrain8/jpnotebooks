{
 "cells": [
  {
   "cell_type": "code",
   "execution_count": 1,
   "metadata": {},
   "outputs": [],
   "source": [
    "import clipboard, os\n",
    "from officelib.xllib import *\n",
    "def crp():\n",
    "    clipboard.copy(repr(clipboard.paste()))"
   ]
  },
  {
   "cell_type": "code",
   "execution_count": 18,
   "metadata": {},
   "outputs": [],
   "source": [
    "crp()"
   ]
  },
  {
   "cell_type": "code",
   "execution_count": 3,
   "metadata": {},
   "outputs": [
    {
     "name": "stdout",
     "output_type": "stream",
     "text": [
      "Analyzing 'write cache test 1 per sec no cache.csv'... Done\n",
      "Analyzing 'write cache test 1 per sec with cache.csv'... Done\n",
      "Analyzing 'write cache test 10 per sec no cache.csv'... Done\n",
      "Analyzing 'write cache test 10 per sec with cache.csv'... Done\n",
      "Analyzing 'write cache test 100 per sec no cache.csv'... Done\n",
      "Analyzing 'write cache test 100 per sec with cache.csv'... Done\n",
      "Analyzing 'write cache test 1000 per sec no cache.csv'... Done\n",
      "Analyzing 'write cache test 1000 per sec with cache.csv'... Done\n",
      "Inserting 'WPS %' column... Done\n"
     ]
    }
   ],
   "source": [
    "fdir = 'D:\\\\Write Cache Test Runner\\\\Evo'\n",
    "xl = Excel()\n",
    "mwb = xl.Workbooks.Add()\n",
    "mws = mwb.Worksheets(1)\n",
    "row = 2\n",
    "headers = [('Query Drive', 'Report Settings Drive', 'Output Drive', 'Batch ID', 'Total(s)', 'Batch Info(s)', 'Execute Query(s)', 'Parse Report(s)', 'Write Disk(s)', 'Sustained Write/sec', 'Write Cache', 'WPS Req', \"WPS %\")]\n",
    "mws.Cells.Range(mws.Cells(1,1), mws.Cells(1, len(headers[0]))).Value = headers\n",
    "mws.Name = \"Data\"\n",
    "# Delete the last two worksheets\n",
    "mwb.Worksheets(3).Delete()\n",
    "mwb.Worksheets(2).Delete()\n",
    "\n",
    "def put(wps, yn, v):\n",
    "    global row\n",
    "    c = mws.Cells(row, 1)\n",
    "    nr = len(v)\n",
    "    nc = len(v[0])\n",
    "    c2 = c.Offset(nr, nc)\n",
    "    mws.Cells.Range(c, c2).Value = v\n",
    "    yns = [\"no cache\", 'cache'][yn == \"with\"]\n",
    "    fill = [(yns, wps)]\n",
    "    #import pdb;pdb.set_trace()\n",
    "    mws.Cells.Range(c.Offset(1, nc+1), c2.Offset(1, 3)).Value = fill\n",
    "#     for i in range(nr):\n",
    "#         mws.Cells(i + row, nc+1).Value = yns\n",
    "#         mws.Cells(i + row, nc+2).Value = wps\n",
    "    row += nr\n",
    "    \n",
    "with screen_lock(xl):\n",
    "    for fp in os.listdir(fdir):\n",
    "        print(\"Analyzing '%s'... \"%fp, end=\"\")\n",
    "        parts = fp.split()\n",
    "        wps = parts[3]\n",
    "        yn = parts[6]\n",
    "        wb = xl.Workbooks.Open(os.path.join(fdir, fp))\n",
    "        ws = wb.Worksheets(1)\n",
    "        cells = ws.Cells\n",
    "        c1 = cells(2, 1)\n",
    "        c2 = c1.End(xlc.xlDown).End(xlc.xlToRight)\n",
    "        v = cells.Range(c1, c2).Value\n",
    "        put(wps, yn, v)\n",
    "        wb.Close()\n",
    "        print(\"Done\")\n",
    "    print(\"Inserting 'WPS %' column... \", end=\"\")\n",
    "    wpsc1 = mws.Cells(1,1).End(xlc.xlToRight).Offset(2,1)\n",
    "    wpsc1.Value = \"=%s/%s*100\" % (wpsc1.Offset(1, -2).GetAddress(False,False), wpsc1.Offset(1, 0).GetAddress(False,False))\n",
    "    c2 = wpsc1.Offset(1, 0).End(xlc.xlDown).Offset(1, 2)\n",
    "    wpsc1.AutoFill((mws.Cells.Range(wpsc1, c2)))\n",
    "    print(\"Done\")"
   ]
  },
  {
   "cell_type": "code",
   "execution_count": 4,
   "metadata": {},
   "outputs": [
    {
     "name": "stdout",
     "output_type": "stream",
     "text": [
      "Preparing to insert pivot tables\n",
      "Preparing to create pivot tables for 'Summary - Report Generation'\n",
      "Preparing to create pivot tables for 'Summary - Report Generation'\n",
      "Preparing table 1/3\n",
      "Copying and resizing.\n",
      "Preparing table 2/3\n",
      "Copying and resizing.\n",
      "Preparing table 3/3\n",
      "Copying and resizing.\n",
      "Done\n",
      "Preparing to create pivot tables for 'Summary - Database Writes'\n",
      "Preparing to create pivot tables for 'Summary - Database Writes'\n",
      "Preparing table 1/3\n",
      "Copying and resizing.\n",
      "Preparing table 2/3\n",
      "Copying and resizing.\n",
      "Preparing table 3/3\n",
      "Copying and resizing.\n",
      "Done\n"
     ]
    }
   ],
   "source": [
    "print(\"Preparing to insert pivot tables\")\n",
    "\n",
    "ur = \"%s!%s\"%(mws.Name, mws.UsedRange.GetAddress(ReferenceStyle=xlc.xlR1C1))\n",
    "cache = mwb.PivotCaches().Create(SourceType=xlc.xlDatabase, SourceData=ur, Version=xlc.xlPivotTableVersion12)\n",
    "mwb.ShowPivotChartActiveFields=True\n",
    "\n",
    "total_cfg = [\n",
    "    # WS Name,  yvar Name, xvars, xlabel, ylabel, coord\n",
    "    ('ReportGenByCache', \"Report Generation Speed\", \"Total(s)\", [\"Write Cache\"], [\"Write Cache\"], \"Report Generation Time(s)\", (0.0, 0.0, 360.0, 211.0)),\n",
    "    ('ReportGenByCacheBatchID', \"Report Generation Speed\", \"Total(s)\", [\"Batch ID\", \"Write Cache\"], [\"Batch ID\", \"Write Cache\"], \"Report Generation Time(s)\", (0.0, 215.39999389648438, 360.0, 211.0)),\n",
    "    ('ReportGenByCacheWPSBatchID', \"Report Generation Speed\", \"Total(s)\", [\"Batch ID\", \"WPS Req\", \"Write Cache\"], [\"Batch ID\", \"Writes / Sec Requested\", \"Write Cache\"], \"Report Generation Time(s)\", (360.6000061035156, 0.0, 598.8, 423.4)),\n",
    "]\n",
    "\n",
    "wps_cfg = [\n",
    "    # WS Name,  title, yvar Name, xvars, xlabel, ylabel, coord\n",
    "    ('WPSByCache', \"Write Speed\", \"Sustained Write/sec\", [\"Write Cache\"], [\"Write Cache\"], \"Writes per Second\", (0.0, 0.0, 360.0, 211.0)),\n",
    "    ('WPSByCacheBatchID', \"Write Speed\", \"Sustained Write/sec\", [\"Batch ID\", \"Write Cache\"], [\"Batch ID\", \"Write Cache\"], \"Writes per Second\", (0.0, 215.39999389648438, 360.0, 211.0)),\n",
    "    ('WPSByCacheWPSBatchID', \"Write Speed\", \"Sustained Write/sec\", [\"Batch ID\", \"WPS Req\", \"Write Cache\"], [\"Batch ID\", \"Writes / Sec Requested\", \"Write Cache\"], \"Writes per Second\", (360.6000061035156, 0.0, 598.8, 423.4)),\n",
    "]\n",
    "\n",
    "def _mk_pvts(cfg, sheetname):\n",
    "    print(\"Preparing to create pivot tables for '%s'\"%sheetname)\n",
    "    summary = mwb.Worksheets.Add()\n",
    "    summary.Name = sheetname\n",
    "    summary.Move(After=mwb.Worksheets(mwb.Worksheets.Count - 1))\n",
    "    print(\"Preparing to create pivot tables for '%s'\"%sheetname)\n",
    "    for i, (wsn, title, yvar, xvars, xlabels, ylabel, coord) in enumerate(cfg, 1):\n",
    "        print(\"Preparing table %d/%d\"%(i, len(cfg)))\n",
    "        \n",
    "        sh = mwb.Worksheets.Add()\n",
    "        sh.Name = wsn\n",
    "        \n",
    "        pt = cache.CreatePivotTable(TableDestination=\"%s!R1C1\"%sh.Name, TableName=\"PT\"+wsn, DefaultVersion=xlc.xlPivotTableVersion12)\n",
    "        ch = sh.Shapes.AddChart().Chart\n",
    "        ch.SetSourceData(Source=sh.Cells.Range(\"$A$1:$C$18\"))\n",
    "        ch.ChartType = xlc.xlColumnClustered\n",
    "        \n",
    "        co = ch.Parent\n",
    "        co.Width, co.Height = coord[2:]\n",
    "        co.Left, co.Top = 170, 12\n",
    "        \n",
    "        pt.AddDataField(pt.PivotFields(yvar), \"Ave of %s\"%yvar, xlc.xlAverage)\n",
    "        for i, xv in enumerate(xvars, 1):\n",
    "            xvf = pt.PivotFields(xv)\n",
    "            xvf.Orientation = xlc.xlRowField\n",
    "            xvf.Position = i\n",
    "        \n",
    "        xax = ch.Axes(xlc.xlCategory)\n",
    "        xax.HasTitle = True\n",
    "        xax.AxisTitle.Text = \"\\n\".join(reversed(xlabels))\n",
    "        yax = ch.Axes(xlc.xlValue)\n",
    "        yax.HasTitle = True\n",
    "        yax.AxisTitle.Text = ylabel\n",
    "        ch.HasLegend=False\n",
    "        ch.HasTitle = True\n",
    "        ch.ChartTitle.Text = title\n",
    "        \n",
    "        print(\"Copying and resizing.\")\n",
    "        co.Copy()\n",
    "        summary.Paste()\n",
    "        ncho = summary.ChartObjects(i)\n",
    "        ncho.Left, ncho.Top, ncho.Width, ncho.Height = coord\n",
    "    \n",
    "    print(\"Done\")\n",
    "    return summary\n",
    "    \n",
    "def mk_pvts(cfg, name):\n",
    "    return _mk_pvts(cfg, name)\n",
    "    \n",
    "with screen_lock(xl):\n",
    "    s1 = mk_pvts(total_cfg, \"Summary - Report Generation\")\n",
    "    s2 = mk_pvts(wps_cfg, \"Summary - Database Writes\")\n",
    "\n",
    "    s1.Move(After=mwb.Worksheets(mwb.Worksheets.Count - 1))\n",
    "    s2.Move(After=s1)"
   ]
  },
  {
   "cell_type": "code",
   "execution_count": 87,
   "metadata": {},
   "outputs": [
    {
     "data": {
      "text/plain": [
       "(169.1999969482422, 12.600000381469727)"
      ]
     },
     "execution_count": 87,
     "metadata": {},
     "output_type": "execute_result"
    }
   ],
   "source": [
    "s = xl.Selection\n",
    "s.Left, s.Top"
   ]
  },
  {
   "cell_type": "code",
   "execution_count": 104,
   "metadata": {},
   "outputs": [
    {
     "data": {
      "text/plain": [
       "True"
      ]
     },
     "execution_count": 104,
     "metadata": {},
     "output_type": "execute_result"
    }
   ],
   "source": [
    "xl.Selection.Parent.HasTitle"
   ]
  },
  {
   "cell_type": "code",
   "execution_count": null,
   "metadata": {},
   "outputs": [],
   "source": []
  }
 ],
 "metadata": {
  "kernelspec": {
   "display_name": "Python 3",
   "language": "python",
   "name": "python3"
  },
  "language_info": {
   "codemirror_mode": {
    "name": "ipython",
    "version": 3
   },
   "file_extension": ".py",
   "mimetype": "text/x-python",
   "name": "python",
   "nbconvert_exporter": "python",
   "pygments_lexer": "ipython3",
   "version": "3.5.2"
  }
 },
 "nbformat": 4,
 "nbformat_minor": 2
}
