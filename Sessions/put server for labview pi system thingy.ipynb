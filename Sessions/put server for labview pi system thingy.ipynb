{
 "cells": [
  {
   "cell_type": "code",
   "execution_count": 2,
   "metadata": {},
   "outputs": [],
   "source": [
    "from http.server import HTTPServer, SimpleHTTPRequestHandler, BaseHTTPRequestHandler, HTTPStatus\n",
    "import http.client\n",
    "\n",
    "class MyHandler(BaseHTTPRequestHandler):\n",
    "    def do_PUT(self):\n",
    "        print(\"PUT\")\n",
    "        self.close_connection = True\n",
    "        print(self.rfile.readline())\n",
    "        self.send_response(200)\n",
    "        self.end_headers()\n",
    "    \n",
    "    def do_GET(self):\n",
    "        print(\"GET\")\n",
    "        self.close_connection = False\n",
    "        \n",
    "    \n",
    "    def parse_request(self):\n",
    "        print(\"GOT REQUEST\")\n",
    "        \"\"\"Parse a request (internal).\n",
    "\n",
    "        The request should be stored in self.raw_requestline; the results\n",
    "        are in self.command, self.path, self.request_version and\n",
    "        self.headers.\n",
    "\n",
    "        Return True for success, False for failure; on failure, an\n",
    "        error is sent back.\n",
    "\n",
    "        \"\"\"\n",
    "        self.command = None  # set in case of error on the first line\n",
    "        self.request_version = version = self.default_request_version\n",
    "        self.close_connection = True\n",
    "        requestline = str(self.raw_requestline, 'iso-8859-1')\n",
    "        requestline = requestline.rstrip('\\r\\n')\n",
    "        self.requestline = requestline\n",
    "        words = requestline.split()\n",
    "        if len(words) == 3:\n",
    "            command, path, version = words\n",
    "            if version[:5] != 'HTTP/':\n",
    "                self.send_error(\n",
    "                    HTTPStatus.BAD_REQUEST,\n",
    "                    \"Bad request version (%r)\" % version)\n",
    "                return False\n",
    "            try:\n",
    "                base_version_number = version.split('/', 1)[1]\n",
    "                version_number = base_version_number.split(\".\")\n",
    "                # RFC 2145 section 3.1 says there can be only one \".\" and\n",
    "                #   - major and minor numbers MUST be treated as\n",
    "                #      separate integers;\n",
    "                #   - HTTP/2.4 is a lower version than HTTP/2.13, which in\n",
    "                #      turn is lower than HTTP/12.3;\n",
    "                #   - Leading zeros MUST be ignored by recipients.\n",
    "                if len(version_number) != 2:\n",
    "                    raise ValueError\n",
    "                version_number = int(version_number[0]), int(version_number[1])\n",
    "            except (ValueError, IndexError):\n",
    "                self.send_error(\n",
    "                    HTTPStatus.BAD_REQUEST,\n",
    "                    \"Bad request version (%r)\" % version)\n",
    "                return False\n",
    "            if version_number >= (1, 1) and self.protocol_version >= \"HTTP/1.1\":\n",
    "                self.close_connection = False\n",
    "            if version_number >= (2, 0):\n",
    "                self.send_error(\n",
    "                    HTTPStatus.HTTP_VERSION_NOT_SUPPORTED,\n",
    "                    \"Invalid HTTP Version (%s)\" % base_version_number)\n",
    "                return False\n",
    "        elif len(words) == 2:\n",
    "            command, path = words\n",
    "            self.close_connection = True\n",
    "            if command != 'GET':\n",
    "                self.send_error(\n",
    "                    HTTPStatus.BAD_REQUEST,\n",
    "                    \"Bad HTTP/0.9 request type (%r)\" % command)\n",
    "                return False\n",
    "        elif not words:\n",
    "            return False\n",
    "        else:\n",
    "            self.send_error(\n",
    "                HTTPStatus.BAD_REQUEST,\n",
    "                \"Bad request syntax (%r)\" % requestline)\n",
    "            return False\n",
    "        self.command, self.path, self.request_version = command, path, version\n",
    "\n",
    "        # Examine the headers and look for a Connection directive.\n",
    "        try:\n",
    "            self.headers = http.client.parse_headers(self.rfile,\n",
    "                                                     _class=self.MessageClass)\n",
    "        except http.client.LineTooLong:\n",
    "            self.send_error(\n",
    "                HTTPStatus.BAD_REQUEST,\n",
    "                \"Line too long\")\n",
    "            return False\n",
    "        except http.client.HTTPException as err:\n",
    "            self.send_error(\n",
    "                HTTPStatus.REQUEST_HEADER_FIELDS_TOO_LARGE,\n",
    "                \"Too many headers\",\n",
    "                str(err)\n",
    "            )\n",
    "            return False\n",
    "\n",
    "        conntype = self.headers.get('Connection', \"\")\n",
    "        if conntype.lower() == 'close':\n",
    "            self.close_connection = True\n",
    "        elif (conntype.lower() == 'keep-alive' and\n",
    "              self.protocol_version >= \"HTTP/1.1\"):\n",
    "            self.close_connection = False\n",
    "        # Examine the headers and look for an Expect directive\n",
    "        expect = self.headers.get('Expect', \"\")\n",
    "        if (expect.lower() == \"100-continue\" and\n",
    "                self.protocol_version >= \"HTTP/1.1\" and\n",
    "                self.request_version >= \"HTTP/1.1\"):\n",
    "            if not self.handle_expect_100():\n",
    "                return False\n",
    "        return True\n",
    "    \n",
    "class MyServer(HTTPServer):\n",
    "    def __init__(self):\n",
    "        super().__init__((\"localhost\", 12389), MyHandler)"
   ]
  },
  {
   "cell_type": "code",
   "execution_count": 3,
   "metadata": {},
   "outputs": [],
   "source": [
    "s = MyServer()"
   ]
  },
  {
   "cell_type": "code",
   "execution_count": 27,
   "metadata": {
    "scrolled": true
   },
   "outputs": [],
   "source": [
    "import threading\n",
    "t = threading.Thread(None, target=s.serve_forever)\n",
    "t.start()"
   ]
  },
  {
   "cell_type": "code",
   "execution_count": 25,
   "metadata": {},
   "outputs": [],
   "source": [
    "s.shutdown()"
   ]
  },
  {
   "cell_type": "code",
   "execution_count": 26,
   "metadata": {},
   "outputs": [
    {
     "data": {
      "text/plain": [
       "False"
      ]
     },
     "execution_count": 26,
     "metadata": {},
     "output_type": "execute_result"
    }
   ],
   "source": [
    "t.is_alive()"
   ]
  },
  {
   "cell_type": "code",
   "execution_count": null,
   "metadata": {},
   "outputs": [],
   "source": []
  }
 ],
 "metadata": {
  "kernelspec": {
   "display_name": "Python 3",
   "language": "python",
   "name": "python3"
  },
  "language_info": {
   "codemirror_mode": {
    "name": "ipython",
    "version": 3
   },
   "file_extension": ".py",
   "mimetype": "text/x-python",
   "name": "python",
   "nbconvert_exporter": "python",
   "pygments_lexer": "ipython3",
   "version": "3.5.2"
  }
 },
 "nbformat": 4,
 "nbformat_minor": 2
}
