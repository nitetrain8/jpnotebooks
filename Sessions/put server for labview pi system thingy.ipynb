{
 "cells": [
  {
   "cell_type": "code",
   "execution_count": 44,
   "metadata": {},
   "outputs": [],
   "source": [
    "from http.server import HTTPServer, SimpleHTTPRequestHandler, BaseHTTPRequestHandler, HTTPStatus\n",
    "import http.client, json\n",
    "\n",
    "class MyHandler(BaseHTTPRequestHandler):\n",
    "    def do_PUT(self):\n",
    "        self.close_connection = True\n",
    "        msg = self.rfile.readline().decode('utf-8')\n",
    "        print(msg.strip())\n",
    "        self.send_response(200)\n",
    "        self.end_headers()\n",
    "    \n",
    "class MyServer(HTTPServer):\n",
    "    def __init__(self):\n",
    "        super().__init__((\"localhost\", 12389), MyHandler)"
   ]
  },
  {
   "cell_type": "code",
   "execution_count": 45,
   "metadata": {},
   "outputs": [],
   "source": [
    "s = MyServer()"
   ]
  },
  {
   "cell_type": "code",
   "execution_count": 46,
   "metadata": {
    "scrolled": true
   },
   "outputs": [
    {
     "name": "stdout",
     "output_type": "stream",
     "text": [
      "PBSBioreactor,path_to_template.ini,PBS_X_DEMO_X,2018-05-21T21:57:07ZUnknown Type: Double FloatUnknown Type: Double FloatUnknown Type: Double FloatUnknown Type: Double Float\n"
     ]
    },
    {
     "name": "stderr",
     "output_type": "stream",
     "text": [
      "127.0.0.1 - - [21/May/2018 14:57:08] \"PUT / HTTP/1.1\" 200 -\n"
     ]
    },
    {
     "name": "stdout",
     "output_type": "stream",
     "text": [
      "PBSBioreactor,path_to_template.ini,PBS_X_DEMO_X,2018-05-21T21:57:08ZUnknown Type: Double FloatUnknown Type: Double FloatUnknown Type: Double FloatUnknown Type: Double Float\n"
     ]
    },
    {
     "name": "stderr",
     "output_type": "stream",
     "text": [
      "127.0.0.1 - - [21/May/2018 14:57:09] \"PUT / HTTP/1.1\" 200 -\n"
     ]
    },
    {
     "name": "stdout",
     "output_type": "stream",
     "text": [
      "PBSBioreactor,path_to_template.ini,PBS_X_DEMO_X,2018-05-21T21:57:09ZUnknown Type: Double FloatUnknown Type: Double FloatUnknown Type: Double FloatUnknown Type: Double Float\n"
     ]
    },
    {
     "name": "stderr",
     "output_type": "stream",
     "text": [
      "127.0.0.1 - - [21/May/2018 14:57:10] \"PUT / HTTP/1.1\" 200 -\n"
     ]
    },
    {
     "name": "stdout",
     "output_type": "stream",
     "text": [
      "PBSBioreactor,path_to_template.ini,PBS_X_DEMO_X,2018-05-21T21:57:10Z,AgPV(RPM),0.000000,TempPV(C),20.972105,DOPV(%),0.322758,pHPV,0.000000\n"
     ]
    },
    {
     "name": "stderr",
     "output_type": "stream",
     "text": [
      "127.0.0.1 - - [21/May/2018 14:57:11] \"PUT / HTTP/1.1\" 200 -\n"
     ]
    },
    {
     "name": "stdout",
     "output_type": "stream",
     "text": [
      "PBSBioreactor,path_to_template.ini,PBS_X_DEMO_X,2018-05-21T21:57:11Z,AgPV(RPM),0.000000,TempPV(C),20.972223,DOPV(%),0.320724,pHPV,0.000000\n"
     ]
    },
    {
     "name": "stderr",
     "output_type": "stream",
     "text": [
      "127.0.0.1 - - [21/May/2018 14:57:12] \"PUT / HTTP/1.1\" 200 -\n"
     ]
    },
    {
     "name": "stdout",
     "output_type": "stream",
     "text": [
      "PBSBioreactor,path_to_template.ini,PBS_X_DEMO_X,2018-05-21T21:57:12Z,AgPV(RPM),0.000000,TempPV(C),20.972532,DOPV(%),0.318893,pHPV,0.000000\n"
     ]
    },
    {
     "name": "stderr",
     "output_type": "stream",
     "text": [
      "127.0.0.1 - - [21/May/2018 14:57:13] \"PUT / HTTP/1.1\" 200 -\n"
     ]
    },
    {
     "name": "stdout",
     "output_type": "stream",
     "text": [
      "PBSBioreactor,path_to_template.ini,PBS_X_DEMO_X,2018-05-21T21:57:13Z,AgPV(RPM),0.000000,TempPV(C),20.972780,DOPV(%),0.316833,pHPV,0.000000\n"
     ]
    },
    {
     "name": "stderr",
     "output_type": "stream",
     "text": [
      "127.0.0.1 - - [21/May/2018 14:57:14] \"PUT / HTTP/1.1\" 200 -\n"
     ]
    },
    {
     "name": "stdout",
     "output_type": "stream",
     "text": [
      "PBSBioreactor,path_to_template.ini,PBS_X_DEMO_X,2018-05-21T21:57:14Z,AgPV(RPM),0.000000,TempPV(C),20.973375,DOPV(%),0.314827,pHPV,0.000000\n"
     ]
    },
    {
     "name": "stderr",
     "output_type": "stream",
     "text": [
      "127.0.0.1 - - [21/May/2018 14:57:15] \"PUT / HTTP/1.1\" 200 -\n"
     ]
    },
    {
     "name": "stdout",
     "output_type": "stream",
     "text": [
      "PBSBioreactor,path_to_template.ini,PBS_X_DEMO_X,2018-05-21T21:57:15Z,AgPV(RPM),0.000000,TempPV(C),20.973576,DOPV(%),0.313171,pHPV,0.000000\n"
     ]
    },
    {
     "name": "stderr",
     "output_type": "stream",
     "text": [
      "127.0.0.1 - - [21/May/2018 14:57:16] \"PUT / HTTP/1.1\" 200 -\n"
     ]
    },
    {
     "name": "stdout",
     "output_type": "stream",
     "text": [
      "PBSBioreactor,path_to_template.ini,PBS_X_DEMO_X,2018-05-21T22:04:02ZUnknown Type: Double FloatUnknown Type: Double FloatUnknown Type: Double FloatUnknown Type: Double Float\n"
     ]
    },
    {
     "name": "stderr",
     "output_type": "stream",
     "text": [
      "127.0.0.1 - - [21/May/2018 15:04:03] \"PUT / HTTP/1.1\" 200 -\n"
     ]
    },
    {
     "name": "stdout",
     "output_type": "stream",
     "text": [
      "PBSBioreactor,path_to_template.ini,PBS_X_DEMO_X,2018-05-21T22:04:03ZUnknown Type: Double FloatUnknown Type: Double FloatUnknown Type: Double FloatUnknown Type: Double Float\n"
     ]
    },
    {
     "name": "stderr",
     "output_type": "stream",
     "text": [
      "127.0.0.1 - - [21/May/2018 15:04:04] \"PUT / HTTP/1.1\" 200 -\n"
     ]
    },
    {
     "name": "stdout",
     "output_type": "stream",
     "text": [
      "PBSBioreactor,path_to_template.ini,PBS_X_DEMO_X,2018-05-21T22:04:04ZUnknown Type: Double FloatUnknown Type: Double FloatUnknown Type: Double FloatUnknown Type: Double Float\n"
     ]
    },
    {
     "name": "stderr",
     "output_type": "stream",
     "text": [
      "127.0.0.1 - - [21/May/2018 15:04:05] \"PUT / HTTP/1.1\" 200 -\n"
     ]
    },
    {
     "name": "stdout",
     "output_type": "stream",
     "text": [
      "PBSBioreactor,path_to_template.ini,PBS_X_DEMO_X,2018-05-21T22:04:05Z,AgPV(RPM),0.000000,TempPV(C),21.021912,DOPV(%),0.305767,pHPV,0.000000\n"
     ]
    },
    {
     "name": "stderr",
     "output_type": "stream",
     "text": [
      "127.0.0.1 - - [21/May/2018 15:04:06] \"PUT / HTTP/1.1\" 200 -\n"
     ]
    },
    {
     "name": "stdout",
     "output_type": "stream",
     "text": [
      "PBSBioreactor,path_to_template.ini,PBS_X_DEMO_X,2018-05-21T22:04:06Z,AgPV(RPM),0.000000,TempPV(C),21.021687,DOPV(%),0.305222,pHPV,0.000000\n"
     ]
    },
    {
     "name": "stderr",
     "output_type": "stream",
     "text": [
      "127.0.0.1 - - [21/May/2018 15:04:07] \"PUT / HTTP/1.1\" 200 -\n"
     ]
    },
    {
     "name": "stdout",
     "output_type": "stream",
     "text": [
      "PBSBioreactor,path_to_template.ini,PBS_X_DEMO_X,2018-05-21T22:04:07Z,AgPV(RPM),0.000000,TempPV(C),21.021646,DOPV(%),0.304161,pHPV,0.000000\n"
     ]
    },
    {
     "name": "stderr",
     "output_type": "stream",
     "text": [
      "127.0.0.1 - - [21/May/2018 15:04:08] \"PUT / HTTP/1.1\" 200 -\n"
     ]
    },
    {
     "name": "stdout",
     "output_type": "stream",
     "text": [
      "PBSBioreactor,path_to_template.ini,PBS_X_DEMO_X,2018-05-21T22:04:08Z,AgPV(RPM),0.000000,TempPV(C),21.021578,DOPV(%),0.302788,pHPV,0.000000\n"
     ]
    },
    {
     "name": "stderr",
     "output_type": "stream",
     "text": [
      "127.0.0.1 - - [21/May/2018 15:04:09] \"PUT / HTTP/1.1\" 200 -\n"
     ]
    },
    {
     "name": "stdout",
     "output_type": "stream",
     "text": [
      "PBSBioreactor,path_to_template.ini,PBS_X_DEMO_X,2018-05-21T22:04:09Z,AgPV(RPM),0.000000,TempPV(C),21.021633,DOPV(%),0.301609,pHPV,0.000000\n"
     ]
    },
    {
     "name": "stderr",
     "output_type": "stream",
     "text": [
      "127.0.0.1 - - [21/May/2018 15:04:10] \"PUT / HTTP/1.1\" 200 -\n"
     ]
    },
    {
     "name": "stdout",
     "output_type": "stream",
     "text": [
      "PBSBioreactor,path_to_template.ini,PBS_X_DEMO_X,2018-05-21T22:04:10Z,AgPV(RPM),0.000000,TempPV(C),21.021851,DOPV(%),0.300014,pHPV,0.000000\n"
     ]
    },
    {
     "name": "stderr",
     "output_type": "stream",
     "text": [
      "127.0.0.1 - - [21/May/2018 15:04:11] \"PUT / HTTP/1.1\" 200 -\n"
     ]
    },
    {
     "name": "stdout",
     "output_type": "stream",
     "text": [
      "PBSBioreactor,path_to_template.ini,PBS_X_DEMO_X,2018-05-21T22:04:11Z,AgPV(RPM),0.000000,TempPV(C),21.022022,DOPV(%),0.298820,pHPV,0.000000\n"
     ]
    },
    {
     "name": "stderr",
     "output_type": "stream",
     "text": [
      "127.0.0.1 - - [21/May/2018 15:04:12] \"PUT / HTTP/1.1\" 200 -\n"
     ]
    },
    {
     "name": "stdout",
     "output_type": "stream",
     "text": [
      "PBSBioreactor,path_to_template.ini,PBS_X_DEMO_X,2018-05-21T22:05:23ZUnknown Type: Double FloatUnknown Type: Double FloatUnknown Type: Double FloatUnknown Type: Double Float\n"
     ]
    },
    {
     "name": "stderr",
     "output_type": "stream",
     "text": [
      "127.0.0.1 - - [21/May/2018 15:05:24] \"PUT / HTTP/1.1\" 200 -\n"
     ]
    },
    {
     "name": "stdout",
     "output_type": "stream",
     "text": [
      "PBSBioreactor,path_to_template.ini,PBS_X_DEMO_X,2018-05-21T22:05:24ZUnknown Type: Double FloatUnknown Type: Double FloatUnknown Type: Double FloatUnknown Type: Double Float\n"
     ]
    },
    {
     "name": "stderr",
     "output_type": "stream",
     "text": [
      "127.0.0.1 - - [21/May/2018 15:05:25] \"PUT / HTTP/1.1\" 200 -\n"
     ]
    },
    {
     "name": "stdout",
     "output_type": "stream",
     "text": [
      "PBSBioreactor,path_to_template.ini,PBS_X_DEMO_X,2018-05-21T22:05:25ZUnknown Type: Double FloatUnknown Type: Double FloatUnknown Type: Double FloatUnknown Type: Double Float\n"
     ]
    },
    {
     "name": "stderr",
     "output_type": "stream",
     "text": [
      "127.0.0.1 - - [21/May/2018 15:05:26] \"PUT / HTTP/1.1\" 200 -\n"
     ]
    },
    {
     "name": "stdout",
     "output_type": "stream",
     "text": [
      "PBSBioreactor,path_to_template.ini,PBS_X_DEMO_X,2018-05-21T22:05:26Z,AgPV(RPM),0.000000,TempPV(C),21.031132,DOPV(%),0.289902,pHPV,0.000000\n"
     ]
    },
    {
     "name": "stderr",
     "output_type": "stream",
     "text": [
      "127.0.0.1 - - [21/May/2018 15:05:27] \"PUT / HTTP/1.1\" 200 -\n"
     ]
    },
    {
     "name": "stdout",
     "output_type": "stream",
     "text": [
      "PBSBioreactor,path_to_template.ini,PBS_X_DEMO_X,2018-05-21T22:05:27Z,AgPV(RPM),0.000000,TempPV(C),21.031101,DOPV(%),0.290688,pHPV,0.000000\n"
     ]
    },
    {
     "name": "stderr",
     "output_type": "stream",
     "text": [
      "127.0.0.1 - - [21/May/2018 15:05:28] \"PUT / HTTP/1.1\" 200 -\n"
     ]
    },
    {
     "name": "stdout",
     "output_type": "stream",
     "text": [
      "PBSBioreactor,path_to_template.ini,PBS_X_DEMO_X,2018-05-21T22:05:28Z,AgPV(RPM),0.000000,TempPV(C),21.031069,DOPV(%),0.290821,pHPV,0.000000\n"
     ]
    },
    {
     "name": "stderr",
     "output_type": "stream",
     "text": [
      "127.0.0.1 - - [21/May/2018 15:05:29] \"PUT / HTTP/1.1\" 200 -\n"
     ]
    },
    {
     "name": "stdout",
     "output_type": "stream",
     "text": [
      "PBSBioreactor,path_to_template.ini,PBS_X_DEMO_X,2018-05-21T22:05:29Z,AgPV(RPM),0.000000,TempPV(C),21.030441,DOPV(%),0.290768,pHPV,0.000000\n"
     ]
    },
    {
     "name": "stderr",
     "output_type": "stream",
     "text": [
      "127.0.0.1 - - [21/May/2018 15:05:30] \"PUT / HTTP/1.1\" 200 -\n"
     ]
    },
    {
     "name": "stdout",
     "output_type": "stream",
     "text": [
      "PBSBioreactor,path_to_template.ini,PBS_X_DEMO_X,2018-05-21T22:05:30Z,AgPV(RPM),0.000000,TempPV(C),21.030365,DOPV(%),0.290688,pHPV,0.000000\n"
     ]
    },
    {
     "name": "stderr",
     "output_type": "stream",
     "text": [
      "127.0.0.1 - - [21/May/2018 15:05:31] \"PUT / HTTP/1.1\" 200 -\n"
     ]
    },
    {
     "name": "stdout",
     "output_type": "stream",
     "text": [
      "PBSBioreactor,path_to_template.ini,PBS_X_DEMO_X,2018-05-21T22:05:31Z,AgPV(RPM),0.000000,TempPV(C),21.030209,DOPV(%),0.290722,pHPV,0.000000\n"
     ]
    },
    {
     "name": "stderr",
     "output_type": "stream",
     "text": [
      "127.0.0.1 - - [21/May/2018 15:05:32] \"PUT / HTTP/1.1\" 200 -\n"
     ]
    },
    {
     "name": "stdout",
     "output_type": "stream",
     "text": [
      "PBSBioreactor,path_to_template.ini,PBS_X_DEMO_X,2018-05-21T22:11:10ZUnknown Type: Double FloatUnknown Type: Double FloatUnknown Type: Double FloatUnknown Type: Double Float\n"
     ]
    },
    {
     "name": "stderr",
     "output_type": "stream",
     "text": [
      "127.0.0.1 - - [21/May/2018 15:11:11] \"PUT / HTTP/1.1\" 200 -\n"
     ]
    },
    {
     "name": "stdout",
     "output_type": "stream",
     "text": [
      "PBSBioreactor,path_to_template.ini,PBS_X_DEMO_X,2018-05-21T22:11:11ZUnknown Type: Double FloatUnknown Type: Double FloatUnknown Type: Double FloatUnknown Type: Double Float\n"
     ]
    },
    {
     "name": "stderr",
     "output_type": "stream",
     "text": [
      "127.0.0.1 - - [21/May/2018 15:11:12] \"PUT / HTTP/1.1\" 200 -\n"
     ]
    },
    {
     "name": "stdout",
     "output_type": "stream",
     "text": [
      "PBSBioreactor,path_to_template.ini,PBS_X_DEMO_X,2018-05-21T22:11:12ZUnknown Type: Double FloatUnknown Type: Double FloatUnknown Type: Double FloatUnknown Type: Double Float\n"
     ]
    },
    {
     "name": "stderr",
     "output_type": "stream",
     "text": [
      "127.0.0.1 - - [21/May/2018 15:11:13] \"PUT / HTTP/1.1\" 200 -\n"
     ]
    },
    {
     "name": "stdout",
     "output_type": "stream",
     "text": [
      "PBSBioreactor,path_to_template.ini,PBS_X_DEMO_X,2018-05-21T22:11:13Z,AgPV(RPM),0.000000,TempPV(C),21.049603,DOPV(%),0.304436,pHPV,0.000000\n"
     ]
    },
    {
     "name": "stderr",
     "output_type": "stream",
     "text": [
      "127.0.0.1 - - [21/May/2018 15:11:14] \"PUT / HTTP/1.1\" 200 -\n"
     ]
    },
    {
     "name": "stdout",
     "output_type": "stream",
     "text": [
      "PBSBioreactor,path_to_template.ini,PBS_X_DEMO_X,2018-05-21T22:11:14Z,AgPV(RPM),0.000000,TempPV(C),21.049826,DOPV(%),0.306309,pHPV,0.000000\n"
     ]
    },
    {
     "name": "stderr",
     "output_type": "stream",
     "text": [
      "127.0.0.1 - - [21/May/2018 15:11:15] \"PUT / HTTP/1.1\" 200 -\n"
     ]
    },
    {
     "name": "stdout",
     "output_type": "stream",
     "text": [
      "PBSBioreactor,path_to_template.ini,PBS_X_DEMO_X,2018-05-21T22:11:15Z,AgPV(RPM),0.000000,TempPV(C),21.050152,DOPV(%),0.307411,pHPV,0.000000\n"
     ]
    },
    {
     "name": "stderr",
     "output_type": "stream",
     "text": [
      "127.0.0.1 - - [21/May/2018 15:11:16] \"PUT / HTTP/1.1\" 200 -\n"
     ]
    },
    {
     "name": "stdout",
     "output_type": "stream",
     "text": [
      "PBSBioreactor,path_to_template.ini,PBS_X_DEMO_X,2018-05-21T22:11:16Z,AgPV(RPM),0.000000,TempPV(C),21.050610,DOPV(%),0.308464,pHPV,0.000000\n"
     ]
    },
    {
     "name": "stderr",
     "output_type": "stream",
     "text": [
      "127.0.0.1 - - [21/May/2018 15:11:17] \"PUT / HTTP/1.1\" 200 -\n"
     ]
    },
    {
     "name": "stdout",
     "output_type": "stream",
     "text": [
      "PBSBioreactor,path_to_template.ini,PBS_X_DEMO_X,2018-05-21T22:11:17Z,AgPV(RPM),0.000000,TempPV(C),21.050718,DOPV(%),0.308018,pHPV,0.000000\n"
     ]
    },
    {
     "name": "stderr",
     "output_type": "stream",
     "text": [
      "127.0.0.1 - - [21/May/2018 15:11:18] \"PUT / HTTP/1.1\" 200 -\n"
     ]
    },
    {
     "name": "stdout",
     "output_type": "stream",
     "text": [
      "PBSBioreactor,path_to_template.ini,PBS_X_DEMO_X,2018-05-21T22:11:18Z,AgPV(RPM),0.000000,TempPV(C),21.050842,DOPV(%),0.307442,pHPV,0.000000\n"
     ]
    },
    {
     "name": "stderr",
     "output_type": "stream",
     "text": [
      "127.0.0.1 - - [21/May/2018 15:11:19] \"PUT / HTTP/1.1\" 200 -\n"
     ]
    }
   ],
   "source": [
    "import threading\n",
    "t = threading.Thread(None, target=s.serve_forever)\n",
    "t.start()"
   ]
  },
  {
   "cell_type": "code",
   "execution_count": 43,
   "metadata": {},
   "outputs": [],
   "source": [
    "s.shutdown()"
   ]
  },
  {
   "cell_type": "code",
   "execution_count": 42,
   "metadata": {},
   "outputs": [
    {
     "data": {
      "text/plain": [
       "True"
      ]
     },
     "execution_count": 42,
     "metadata": {},
     "output_type": "execute_result"
    },
    {
     "name": "stdout",
     "output_type": "stream",
     "text": [
      "PUT\n",
      "b'PBSBioreactor,path_to_template.ini,PBS_X_DEMO_X,2018-05-21T21:54:11ZUnknown Type: Double FloatUnknown Type: Double FloatUnknown Type: Double FloatUnknown Type: Double Float\\r\\n'\n",
      "PUT\n"
     ]
    },
    {
     "name": "stderr",
     "output_type": "stream",
     "text": [
      "127.0.0.1 - - [21/May/2018 14:54:12] \"PUT / HTTP/1.1\" 200 -\n"
     ]
    },
    {
     "name": "stdout",
     "output_type": "stream",
     "text": [
      "b'PBSBioreactor,path_to_template.ini,PBS_X_DEMO_X,2018-05-21T21:54:12ZUnknown Type: Double FloatUnknown Type: Double FloatUnknown Type: Double FloatUnknown Type: Double Float\\r\\n'\n",
      "PUT\n"
     ]
    },
    {
     "name": "stderr",
     "output_type": "stream",
     "text": [
      "127.0.0.1 - - [21/May/2018 14:54:13] \"PUT / HTTP/1.1\" 200 -\n"
     ]
    },
    {
     "name": "stdout",
     "output_type": "stream",
     "text": [
      "b'PBSBioreactor,path_to_template.ini,PBS_X_DEMO_X,2018-05-21T21:54:13Z,AgPV(RPM),0.000000,TempPV(C),20.960287,DOPV(%),0.300663,pHPV,0.000000\\r\\n'\n",
      "PUT\n"
     ]
    },
    {
     "name": "stderr",
     "output_type": "stream",
     "text": [
      "127.0.0.1 - - [21/May/2018 14:54:14] \"PUT / HTTP/1.1\" 200 -\n"
     ]
    },
    {
     "name": "stdout",
     "output_type": "stream",
     "text": [
      "b'PBSBioreactor,path_to_template.ini,PBS_X_DEMO_X,2018-05-21T21:54:14Z,AgPV(RPM),0.000000,TempPV(C),20.960527,DOPV(%),0.302448,pHPV,0.000000\\r\\n'\n",
      "PUT\n"
     ]
    },
    {
     "name": "stderr",
     "output_type": "stream",
     "text": [
      "127.0.0.1 - - [21/May/2018 14:54:15] \"PUT / HTTP/1.1\" 200 -\n"
     ]
    },
    {
     "name": "stdout",
     "output_type": "stream",
     "text": [
      "b'PBSBioreactor,path_to_template.ini,PBS_X_DEMO_X,2018-05-21T21:54:15Z,AgPV(RPM),0.000000,TempPV(C),20.960814,DOPV(%),0.303894,pHPV,0.000000\\r\\n'\n",
      "PUT\n"
     ]
    },
    {
     "name": "stderr",
     "output_type": "stream",
     "text": [
      "127.0.0.1 - - [21/May/2018 14:54:16] \"PUT / HTTP/1.1\" 200 -\n"
     ]
    },
    {
     "name": "stdout",
     "output_type": "stream",
     "text": [
      "b'PBSBioreactor,path_to_template.ini,PBS_X_DEMO_X,2018-05-21T21:54:16Z,AgPV(RPM),0.000000,TempPV(C),20.960814,DOPV(%),0.305733,pHPV,0.000000\\r\\n'\n",
      "PUT\n"
     ]
    },
    {
     "name": "stderr",
     "output_type": "stream",
     "text": [
      "127.0.0.1 - - [21/May/2018 14:54:17] \"PUT / HTTP/1.1\" 200 -\n"
     ]
    },
    {
     "name": "stdout",
     "output_type": "stream",
     "text": [
      "b'PBSBioreactor,path_to_template.ini,PBS_X_DEMO_X,2018-05-21T21:54:17Z,AgPV(RPM),0.000000,TempPV(C),20.960859,DOPV(%),0.307167,pHPV,0.000000\\r\\n'\n",
      "PUT\n"
     ]
    },
    {
     "name": "stderr",
     "output_type": "stream",
     "text": [
      "127.0.0.1 - - [21/May/2018 14:54:18] \"PUT / HTTP/1.1\" 200 -\n"
     ]
    },
    {
     "name": "stdout",
     "output_type": "stream",
     "text": [
      "b'PBSBioreactor,path_to_template.ini,PBS_X_DEMO_X,2018-05-21T21:54:18Z,AgPV(RPM),0.000000,TempPV(C),20.961256,DOPV(%),0.308273,pHPV,0.000000\\r\\n'\n"
     ]
    },
    {
     "name": "stderr",
     "output_type": "stream",
     "text": [
      "127.0.0.1 - - [21/May/2018 14:54:19] \"PUT / HTTP/1.1\" 200 -\n"
     ]
    }
   ],
   "source": [
    "t.is_alive()"
   ]
  },
  {
   "cell_type": "code",
   "execution_count": null,
   "metadata": {},
   "outputs": [],
   "source": []
  }
 ],
 "metadata": {
  "kernelspec": {
   "display_name": "Python 3",
   "language": "python",
   "name": "python3"
  },
  "language_info": {
   "codemirror_mode": {
    "name": "ipython",
    "version": 3
   },
   "file_extension": ".py",
   "mimetype": "text/x-python",
   "name": "python",
   "nbconvert_exporter": "python",
   "pygments_lexer": "ipython3",
   "version": "3.5.2"
  }
 },
 "nbformat": 4,
 "nbformat_minor": 2
}
