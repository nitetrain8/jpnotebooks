{
 "cells": [
  {
   "cell_type": "code",
   "execution_count": 2,
   "metadata": {},
   "outputs": [],
   "source": [
    "from http.server import HTTPServer, SimpleHTTPRequestHandler, BaseHTTPRequestHandler, HTTPStatus\n",
    "import http.client\n",
    "\n",
    "class MyHandler(BaseHTTPRequestHandler):\n",
    "    def do_PUT(self):\n",
    "        print(\"PUT\")\n",
    "        self.close_connection = True\n",
    "        print(self.rfile.readline())\n",
    "        self.send_response(200)\n",
    "        self.end_headers()\n",
    "    \n",
    "    def do_GET(self):\n",
    "        print(\"GET\")\n",
    "        self.close_connection = False\n",
    "        \n",
    "    \n",
    "    def parse_request(self):\n",
    "        print(\"GOT REQUEST\")\n",
    "        \"\"\"Parse a request (internal).\n",
    "\n",
    "        The request should be stored in self.raw_requestline; the results\n",
    "        are in self.command, self.path, self.request_version and\n",
    "        self.headers.\n",
    "\n",
    "        Return True for success, False for failure; on failure, an\n",
    "        error is sent back.\n",
    "\n",
    "        \"\"\"\n",
    "        self.command = None  # set in case of error on the first line\n",
    "        self.request_version = version = self.default_request_version\n",
    "        self.close_connection = True\n",
    "        requestline = str(self.raw_requestline, 'iso-8859-1')\n",
    "        requestline = requestline.rstrip('\\r\\n')\n",
    "        self.requestline = requestline\n",
    "        words = requestline.split()\n",
    "        if len(words) == 3:\n",
    "            command, path, version = words\n",
    "            if version[:5] != 'HTTP/':\n",
    "                self.send_error(\n",
    "                    HTTPStatus.BAD_REQUEST,\n",
    "                    \"Bad request version (%r)\" % version)\n",
    "                return False\n",
    "            try:\n",
    "                base_version_number = version.split('/', 1)[1]\n",
    "                version_number = base_version_number.split(\".\")\n",
    "                # RFC 2145 section 3.1 says there can be only one \".\" and\n",
    "                #   - major and minor numbers MUST be treated as\n",
    "                #      separate integers;\n",
    "                #   - HTTP/2.4 is a lower version than HTTP/2.13, which in\n",
    "                #      turn is lower than HTTP/12.3;\n",
    "                #   - Leading zeros MUST be ignored by recipients.\n",
    "                if len(version_number) != 2:\n",
    "                    raise ValueError\n",
    "                version_number = int(version_number[0]), int(version_number[1])\n",
    "            except (ValueError, IndexError):\n",
    "                self.send_error(\n",
    "                    HTTPStatus.BAD_REQUEST,\n",
    "                    \"Bad request version (%r)\" % version)\n",
    "                return False\n",
    "            if version_number >= (1, 1) and self.protocol_version >= \"HTTP/1.1\":\n",
    "                self.close_connection = False\n",
    "            if version_number >= (2, 0):\n",
    "                self.send_error(\n",
    "                    HTTPStatus.HTTP_VERSION_NOT_SUPPORTED,\n",
    "                    \"Invalid HTTP Version (%s)\" % base_version_number)\n",
    "                return False\n",
    "        elif len(words) == 2:\n",
    "            command, path = words\n",
    "            self.close_connection = True\n",
    "            if command != 'GET':\n",
    "                self.send_error(\n",
    "                    HTTPStatus.BAD_REQUEST,\n",
    "                    \"Bad HTTP/0.9 request type (%r)\" % command)\n",
    "                return False\n",
    "        elif not words:\n",
    "            return False\n",
    "        else:\n",
    "            self.send_error(\n",
    "                HTTPStatus.BAD_REQUEST,\n",
    "                \"Bad request syntax (%r)\" % requestline)\n",
    "            return False\n",
    "        self.command, self.path, self.request_version = command, path, version\n",
    "\n",
    "        # Examine the headers and look for a Connection directive.\n",
    "        try:\n",
    "            self.headers = http.client.parse_headers(self.rfile,\n",
    "                                                     _class=self.MessageClass)\n",
    "        except http.client.LineTooLong:\n",
    "            self.send_error(\n",
    "                HTTPStatus.BAD_REQUEST,\n",
    "                \"Line too long\")\n",
    "            return False\n",
    "        except http.client.HTTPException as err:\n",
    "            self.send_error(\n",
    "                HTTPStatus.REQUEST_HEADER_FIELDS_TOO_LARGE,\n",
    "                \"Too many headers\",\n",
    "                str(err)\n",
    "            )\n",
    "            return False\n",
    "\n",
    "        conntype = self.headers.get('Connection', \"\")\n",
    "        if conntype.lower() == 'close':\n",
    "            self.close_connection = True\n",
    "        elif (conntype.lower() == 'keep-alive' and\n",
    "              self.protocol_version >= \"HTTP/1.1\"):\n",
    "            self.close_connection = False\n",
    "        # Examine the headers and look for an Expect directive\n",
    "        expect = self.headers.get('Expect', \"\")\n",
    "        if (expect.lower() == \"100-continue\" and\n",
    "                self.protocol_version >= \"HTTP/1.1\" and\n",
    "                self.request_version >= \"HTTP/1.1\"):\n",
    "            if not self.handle_expect_100():\n",
    "                return False\n",
    "        return True\n",
    "    \n",
    "class MyServer(HTTPServer):\n",
    "    def __init__(self):\n",
    "        super().__init__((\"localhost\", 12389), MyHandler)"
   ]
  },
  {
   "cell_type": "code",
   "execution_count": 3,
   "metadata": {},
   "outputs": [],
   "source": [
    "s = MyServer()"
   ]
  },
  {
   "cell_type": "code",
   "execution_count": 8,
   "metadata": {
    "scrolled": true
   },
   "outputs": [
    {
     "name": "stdout",
     "output_type": "stream",
     "text": [
      "GOT REQUEST\n",
      "PUT\n",
      "b'PBSBioreactor,path_to_template.ini,PBS_X_DEMO_X,2018-05-16T00:31:22Z,AgPV(RPM),0.000000,TempPV(C),22.285763,DOPV(%),0.298695,pHPV,0.000000\\r\\n'\n",
      "GOT REQUEST\n",
      "PUT\n"
     ]
    },
    {
     "name": "stderr",
     "output_type": "stream",
     "text": [
      "127.0.0.1 - - [15/May/2018 17:31:27] \"PUT / HTTP/1.1\" 200 -\n"
     ]
    },
    {
     "name": "stdout",
     "output_type": "stream",
     "text": [
      "b'PBSBioreactor,path_to_template.ini,PBS_X_DEMO_X,2018-05-16T00:31:27Z,AgPV(RPM),0.000000,TempPV(C),22.285023,DOPV(%),0.303658,pHPV,0.000000\\r\\n'\n",
      "GOT REQUEST\n",
      "PUT\n"
     ]
    },
    {
     "name": "stderr",
     "output_type": "stream",
     "text": [
      "127.0.0.1 - - [15/May/2018 17:31:28] \"PUT / HTTP/1.1\" 200 -\n"
     ]
    },
    {
     "name": "stdout",
     "output_type": "stream",
     "text": [
      "b'PBSBioreactor,path_to_template.ini,PBS_X_DEMO_X,2018-05-16T00:31:28Z,AgPV(RPM),0.000000,TempPV(C),22.284853,DOPV(%),0.304890,pHPV,0.000000\\r\\n'\n",
      "GOT REQUEST\n",
      "PUT\n"
     ]
    },
    {
     "name": "stderr",
     "output_type": "stream",
     "text": [
      "127.0.0.1 - - [15/May/2018 17:31:29] \"PUT / HTTP/1.1\" 200 -\n"
     ]
    },
    {
     "name": "stdout",
     "output_type": "stream",
     "text": [
      "b'PBSBioreactor,path_to_template.ini,PBS_X_DEMO_X,2018-05-16T00:31:29Z,AgPV(RPM),0.000000,TempPV(C),22.285055,DOPV(%),0.305733,pHPV,0.000000\\r\\n'\n",
      "GOT REQUEST\n",
      "PUT\n"
     ]
    },
    {
     "name": "stderr",
     "output_type": "stream",
     "text": [
      "127.0.0.1 - - [15/May/2018 17:31:30] \"PUT / HTTP/1.1\" 200 -\n"
     ]
    },
    {
     "name": "stdout",
     "output_type": "stream",
     "text": [
      "b'PBSBioreactor,path_to_template.ini,PBS_X_DEMO_X,2018-05-16T00:31:30Z,AgPV(RPM),0.000000,TempPV(C),22.284969,DOPV(%),0.305828,pHPV,0.000000\\r\\n'\n",
      "GOT REQUEST\n",
      "PUT\n"
     ]
    },
    {
     "name": "stderr",
     "output_type": "stream",
     "text": [
      "127.0.0.1 - - [15/May/2018 17:31:31] \"PUT / HTTP/1.1\" 200 -\n"
     ]
    },
    {
     "name": "stdout",
     "output_type": "stream",
     "text": [
      "b'PBSBioreactor,path_to_template.ini,PBS_X_DEMO_X,2018-05-16T00:31:31Z,AgPV(RPM),0.000000,TempPV(C),22.285101,DOPV(%),0.305958,pHPV,0.000000\\r\\n'\n",
      "GOT REQUEST\n",
      "PUT\n"
     ]
    },
    {
     "name": "stderr",
     "output_type": "stream",
     "text": [
      "127.0.0.1 - - [15/May/2018 17:31:32] \"PUT / HTTP/1.1\" 200 -\n"
     ]
    },
    {
     "name": "stdout",
     "output_type": "stream",
     "text": [
      "b'PBSBioreactor,path_to_template.ini,PBS_X_DEMO_X,2018-05-16T00:31:32Z,AgPV(RPM),0.000000,TempPV(C),22.285223,DOPV(%),0.306175,pHPV,0.000000\\r\\n'\n",
      "GOT REQUEST\n",
      "PUT\n"
     ]
    },
    {
     "name": "stderr",
     "output_type": "stream",
     "text": [
      "127.0.0.1 - - [15/May/2018 17:31:33] \"PUT / HTTP/1.1\" 200 -\n"
     ]
    },
    {
     "name": "stdout",
     "output_type": "stream",
     "text": [
      "b'PBSBioreactor,path_to_template.ini,PBS_X_DEMO_X,2018-05-16T00:31:33Z,AgPV(RPM),0.000000,TempPV(C),22.285086,DOPV(%),0.306591,pHPV,0.000000\\r\\n'\n",
      "GOT REQUEST\n",
      "PUT\n"
     ]
    },
    {
     "name": "stderr",
     "output_type": "stream",
     "text": [
      "127.0.0.1 - - [15/May/2018 17:31:34] \"PUT / HTTP/1.1\" 200 -\n"
     ]
    },
    {
     "name": "stdout",
     "output_type": "stream",
     "text": [
      "b'PBSBioreactor,path_to_template.ini,PBS_X_DEMO_X,2018-05-16T00:31:34Z,AgPV(RPM),0.000000,TempPV(C),22.285196,DOPV(%),0.308029,pHPV,0.000000\\r\\n'\n",
      "GOT REQUEST\n",
      "PUT\n"
     ]
    },
    {
     "name": "stderr",
     "output_type": "stream",
     "text": [
      "127.0.0.1 - - [15/May/2018 17:31:35] \"PUT / HTTP/1.1\" 200 -\n"
     ]
    },
    {
     "name": "stdout",
     "output_type": "stream",
     "text": [
      "b'PBSBioreactor,path_to_template.ini,PBS_X_DEMO_X,2018-05-16T00:31:35Z,AgPV(RPM),0.000000,TempPV(C),22.285290,DOPV(%),0.309334,pHPV,0.000000\\r\\n'\n",
      "GOT REQUEST\n",
      "PUT\n"
     ]
    },
    {
     "name": "stderr",
     "output_type": "stream",
     "text": [
      "127.0.0.1 - - [15/May/2018 17:31:36] \"PUT / HTTP/1.1\" 200 -\n"
     ]
    },
    {
     "name": "stdout",
     "output_type": "stream",
     "text": [
      "b'PBSBioreactor,path_to_template.ini,PBS_X_DEMO_X,2018-05-16T00:31:36Z,AgPV(RPM),0.000000,TempPV(C),22.285507,DOPV(%),0.310249,pHPV,0.000000\\r\\n'\n",
      "GOT REQUEST\n",
      "PUT\n"
     ]
    },
    {
     "name": "stderr",
     "output_type": "stream",
     "text": [
      "127.0.0.1 - - [15/May/2018 17:31:37] \"PUT / HTTP/1.1\" 200 -\n"
     ]
    },
    {
     "name": "stdout",
     "output_type": "stream",
     "text": [
      "b'PBSBioreactor,path_to_template.ini,PBS_X_DEMO_X,2018-05-16T00:31:37Z,AgPV(RPM),0.000000,TempPV(C),22.285967,DOPV(%),0.311043,pHPV,0.000000\\r\\n'\n",
      "GOT REQUEST\n",
      "PUT\n"
     ]
    },
    {
     "name": "stderr",
     "output_type": "stream",
     "text": [
      "127.0.0.1 - - [15/May/2018 17:31:38] \"PUT / HTTP/1.1\" 200 -\n"
     ]
    },
    {
     "name": "stdout",
     "output_type": "stream",
     "text": [
      "b'PBSBioreactor,path_to_template.ini,PBS_X_DEMO_X,2018-05-16T00:31:38Z,AgPV(RPM),0.000000,TempPV(C),22.286114,DOPV(%),0.311176,pHPV,0.000000\\r\\n'\n",
      "GOT REQUEST\n",
      "PUT\n"
     ]
    },
    {
     "name": "stderr",
     "output_type": "stream",
     "text": [
      "127.0.0.1 - - [15/May/2018 17:31:39] \"PUT / HTTP/1.1\" 200 -\n"
     ]
    },
    {
     "name": "stdout",
     "output_type": "stream",
     "text": [
      "b'PBSBioreactor,path_to_template.ini,PBS_X_DEMO_X,2018-05-16T00:31:39Z,AgPV(RPM),0.000000,TempPV(C),22.286266,DOPV(%),0.311451,pHPV,0.000000\\r\\n'\n",
      "GOT REQUEST\n",
      "PUT\n"
     ]
    },
    {
     "name": "stderr",
     "output_type": "stream",
     "text": [
      "127.0.0.1 - - [15/May/2018 17:31:40] \"PUT / HTTP/1.1\" 200 -\n"
     ]
    },
    {
     "name": "stdout",
     "output_type": "stream",
     "text": [
      "b'PBSBioreactor,path_to_template.ini,PBS_X_DEMO_X,2018-05-16T00:31:40Z,AgPV(RPM),0.000000,TempPV(C),22.286423,DOPV(%),0.311951,pHPV,0.000000\\r\\n'\n",
      "GOT REQUEST\n",
      "PUT\n"
     ]
    },
    {
     "name": "stderr",
     "output_type": "stream",
     "text": [
      "127.0.0.1 - - [15/May/2018 17:31:41] \"PUT / HTTP/1.1\" 200 -\n"
     ]
    }
   ],
   "source": [
    "import threading\n",
    "t = threading.Thread(None, target=s.serve_forever)\n",
    "t.start()"
   ]
  },
  {
   "cell_type": "code",
   "execution_count": 9,
   "metadata": {},
   "outputs": [
    {
     "name": "stdout",
     "output_type": "stream",
     "text": [
      "b'PBSBioreactor,path_to_template.ini,PBS_X_DEMO_X,2018-05-16T00:31:41Z,AgPV(RPM),0.000000,TempPV(C),22.286562,DOPV(%),0.312664,pHPV,0.000000\\r\\n'\n"
     ]
    },
    {
     "name": "stderr",
     "output_type": "stream",
     "text": [
      "127.0.0.1 - - [15/May/2018 17:31:42] \"PUT / HTTP/1.1\" 200 -\n"
     ]
    }
   ],
   "source": [
    "s.shutdown()"
   ]
  },
  {
   "cell_type": "code",
   "execution_count": null,
   "metadata": {},
   "outputs": [],
   "source": []
  }
 ],
 "metadata": {
  "kernelspec": {
   "display_name": "Python 3",
   "language": "python",
   "name": "python3"
  },
  "language_info": {
   "codemirror_mode": {
    "name": "ipython",
    "version": 3
   },
   "file_extension": ".py",
   "mimetype": "text/x-python",
   "name": "python",
   "nbconvert_exporter": "python",
   "pygments_lexer": "ipython3",
   "version": "3.5.2"
  }
 },
 "nbformat": 4,
 "nbformat_minor": 2
}
