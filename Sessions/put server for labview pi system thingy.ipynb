{
 "cells": [
  {
   "cell_type": "code",
   "execution_count": 7,
   "metadata": {},
   "outputs": [],
   "source": [
    "from http.server import HTTPServer, SimpleHTTPRequestHandler, BaseHTTPRequestHandler, HTTPStatus\n",
    "import http.client, json, threading\n",
    "\n",
    "class MyHandler(BaseHTTPRequestHandler):\n",
    "    def do_PUT(self):\n",
    "        self.close_connection = True\n",
    "        msg = self.rfile.readline().decode('utf-8')\n",
    "        event_handler.fire(self.server.event, msg.strip())\n",
    "        self.send_response(200)\n",
    "        self.end_headers()\n",
    "        \n",
    "    def log_message(self, *args):\n",
    "        pass\n",
    "    \n",
    "class MyServer(HTTPServer):\n",
    "    def __init__(self, port=12389, event=\"PUT_MSG\"):\n",
    "        super().__init__((\"localhost\", port), MyHandler)\n",
    "        self.event = event\n",
    "        \n",
    "class ServerThread(threading.Thread):\n",
    "    def __init__(self, port=12389, event=\"PUT_MSG\"):\n",
    "        super().__init__(None)\n",
    "        self.port = port\n",
    "        self.event = event\n",
    "        self.server = None\n",
    "    \n",
    "    def run(self):\n",
    "        self.server = MyServer(self.port, self.event)\n",
    "        self.server.serve_forever()\n",
    "        \n",
    "    def shutdown(self):\n",
    "        if self.server:\n",
    "            self.server.shutdown()\n",
    "            self.join(10)\n",
    "            print(\"Thread Shutdown\")\n",
    "        self.server = None\n",
    "        \n",
    "class EventHandler():\n",
    "    def __init__(self):\n",
    "        self.events = {}\n",
    "        \n",
    "    def fire(self, event, *args):\n",
    "        handlers = self.events.get(event, ())\n",
    "        for h in handlers:\n",
    "            h(event, *args)\n",
    "        \n",
    "    def register(self, event, handler):\n",
    "        if not callable(handler):\n",
    "            raise TypeError(type(handler))\n",
    "        if event not in self.events:\n",
    "            self.events[event] = []\n",
    "        handlers = self.events[event]\n",
    "        if handler in handlers:\n",
    "            return\n",
    "        handlers.append(handler)\n",
    "event_handler = EventHandler()"
   ]
  },
  {
   "cell_type": "code",
   "execution_count": 8,
   "metadata": {},
   "outputs": [],
   "source": [
    "import tkinter as tk\n",
    "import tkinter.ttk as ttk"
   ]
  },
  {
   "cell_type": "code",
   "execution_count": 9,
   "metadata": {},
   "outputs": [
    {
     "name": "stdout",
     "output_type": "stream",
     "text": [
      "Thread Shutdown\n",
      "Thread Shutdown\n",
      "Thread Shutdown\n"
     ]
    }
   ],
   "source": [
    "def update_label(idx):\n",
    "    def update(_, msg):\n",
    "        labels[idx].config(text=msg)\n",
    "    return update\n",
    "    \n",
    "\n",
    "root = tk.Tk()\n",
    "mf = ttk.Frame(root)\n",
    "mf.grid()\n",
    "labels = []\n",
    "servers = []\n",
    "ports = 12346, 24321, 12389\n",
    "for i in range(3):\n",
    "    l = ttk.Label(mf, text=\"No Msg\")\n",
    "    l.config(width=200)\n",
    "    pl = ttk.Label(mf, text=\"Port %d: \"%ports[i])\n",
    "    pl.grid(row=i, column=0)\n",
    "    l.grid(row=i, column=1)\n",
    "    labels.append(l)\n",
    "    p = ports[i]\n",
    "    event = \"MSG_%d\"%p\n",
    "    s = ServerThread(p, event)\n",
    "    event_handler.register(event, update_label(i))\n",
    "    s.start()\n",
    "    servers.append(s)\n",
    "root.mainloop()\n",
    "event_handler.events.clear()\n",
    "for s in servers:\n",
    "    s.shutdown()"
   ]
  },
  {
   "cell_type": "code",
   "execution_count": null,
   "metadata": {},
   "outputs": [],
   "source": [
    "BaseHTTPRequestHandler??"
   ]
  },
  {
   "cell_type": "code",
   "execution_count": null,
   "metadata": {},
   "outputs": [],
   "source": []
  }
 ],
 "metadata": {
  "kernelspec": {
   "display_name": "Python 3",
   "language": "python",
   "name": "python3"
  },
  "language_info": {
   "codemirror_mode": {
    "name": "ipython",
    "version": 3
   },
   "file_extension": ".py",
   "mimetype": "text/x-python",
   "name": "python",
   "nbconvert_exporter": "python",
   "pygments_lexer": "ipython3",
   "version": "3.5.2"
  }
 },
 "nbformat": 4,
 "nbformat_minor": 2
}
