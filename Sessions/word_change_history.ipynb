{
 "cells": [
  {
   "cell_type": "code",
   "execution_count": 36,
   "metadata": {},
   "outputs": [],
   "source": [
    "from officelib.wordlib import *"
   ]
  },
  {
   "cell_type": "code",
   "execution_count": 37,
   "metadata": {},
   "outputs": [
    {
     "data": {
      "text/plain": [
       "'PBS_BrCtl_Development_v6.docx'"
      ]
     },
     "execution_count": 37,
     "metadata": {},
     "output_type": "execute_result"
    }
   ],
   "source": [
    "w = Word()\n",
    "d = w.ActiveDocument\n",
    "d.Name"
   ]
  },
  {
   "cell_type": "code",
   "execution_count": 38,
   "metadata": {},
   "outputs": [],
   "source": [
    "rev_name_to_val = {\n",
    "    'wdNoRevision': '0',\n",
    "    'wdRevisionCellDeletion': '17',\n",
    "    'wdRevisionCellInsertion': '16', \n",
    "    'wdRevisionCellMerge': '18', \n",
    "    'wdRevisionCellSplit': '19', \n",
    "    'wdRevisionConflict': '7', \n",
    "    'wdRevisionConflictDelete': '21', \n",
    "    'wdRevisionConflictInsert': '20', \n",
    "    'wdRevisionDelete': '2',\n",
    "    'wdRevisionDisplayField': '5',\n",
    "    'wdRevisionInsert': '1', \n",
    "    'wdRevisionMovedFrom': '14', \n",
    "    'wdRevisionMovedTo': '15', \n",
    "    'wdRevisionParagraphNumber': '4', \n",
    "    'wdRevisionParagraphProperty': '10', \n",
    "    'wdRevisionProperty': '3', \n",
    "    'wdRevisionReconcile': '6',\n",
    "    'wdRevisionReplace': '9',\n",
    "    'wdRevisionSectionProperty': '12',\n",
    "    'wdRevisionStyle': '8',\n",
    "    'wdRevisionStyleDefinition': '13',\n",
    "    'wdRevisionTableProperty': '11'\n",
    "}\n",
    "rev_name_to_val = {name: int(val) for name,val in rev_name_to_val.items()}\n",
    "rev_val_to_name = {val: name for name, val in rev_name_to_val.items()}"
   ]
  },
  {
   "cell_type": "code",
   "execution_count": 39,
   "metadata": {},
   "outputs": [
    {
     "name": "stdout",
     "output_type": "stream",
     "text": [
      "Nathan Starkweather 11:35 AM\n",
      "Nathan Starkweather 11:35 AM\n",
      "Nathan Starkweather 11:04 AM\n",
      "Nathan Starkweather 11:08 AM\n",
      "Nathan Starkweather 11:08 AM\n",
      "Nathan Starkweather 11:08 AM\n",
      "Nathan Starkweather 11:06 AM\n",
      "Nathan Starkweather 11:03 AM\n",
      "Yas Hashimura 08:57 PM\n",
      "Yas Hashimura 08:57 PM\n",
      "Nathan Starkweather 11:14 AM\n",
      "Yas Hashimura 08:57 PM\n",
      "Yas Hashimura 08:58 PM\n",
      "Yas Hashimura 08:59 PM\n",
      "Yas Hashimura 09:00 PM\n",
      "Yas Hashimura 09:00 PM\n",
      "Yas Hashimura 09:02 PM\n",
      "Yas Hashimura 09:02 PM\n"
     ]
    }
   ],
   "source": [
    "import datetime, pytz\n",
    "tz = pytz.timezone(\"GMT\")\n",
    "since = datetime.datetime(2020, 6, 17, 11, tzinfo=tz)\n",
    "for rev in d.Revisions:\n",
    "#     print(rev.Author, rev.Date.strftime(\"%y-%m-%d\"))\n",
    "    date = rev.Date\n",
    "    if date > since:\n",
    "        print(rev.Author, date.strftime(\"%I:%M %p\"))\n",
    "        \n",
    "for comment in d.Comments:\n",
    "    date = comment.Date\n",
    "    if date > since:\n",
    "        print(comment.Author, date.strftime(\"%I:%M %p\"))"
   ]
  },
  {
   "cell_type": "code",
   "execution_count": null,
   "metadata": {},
   "outputs": [],
   "source": []
  }
 ],
 "metadata": {
  "kernelspec": {
   "display_name": "Python 3",
   "language": "python",
   "name": "python3"
  },
  "language_info": {
   "codemirror_mode": {
    "name": "ipython",
    "version": 3
   },
   "file_extension": ".py",
   "mimetype": "text/x-python",
   "name": "python",
   "nbconvert_exporter": "python",
   "pygments_lexer": "ipython3",
   "version": "3.8.2"
  }
 },
 "nbformat": 4,
 "nbformat_minor": 4
}
