{
 "cells": [
  {
   "cell_type": "code",
   "execution_count": 1,
   "metadata": {},
   "outputs": [],
   "source": [
    "from officelib.xllib import *\n",
    "from officelib.const import xlconst as xlc\n",
    "import os"
   ]
  },
  {
   "cell_type": "code",
   "execution_count": 2,
   "metadata": {},
   "outputs": [],
   "source": [
    "files = [\n",
    "    'D:\\\\2018112015393748.csv',\n",
    "    'D:\\\\2018112015410370.csv',\n",
    "    'D:\\\\2018112015444864.csv'\n",
    "]"
   ]
  },
  {
   "cell_type": "code",
   "execution_count": 3,
   "metadata": {},
   "outputs": [],
   "source": [
    "def find(ws, v):\n",
    "    return ws.Cells.Find(What=v, SearchOrder=xlc.xlByRows)\n",
    "\n",
    "def data_range(ws, v):\n",
    "    cr = ws.Cells.Range\n",
    "    c = find(ws, v)\n",
    "    c1 = c.Offset(2, 1)\n",
    "    c2 = c1.End(xlc.xlDown)\n",
    "    c3 = c1.Offset(1, 2)\n",
    "    c4 = c2.Offset(1, 2)\n",
    "    \n",
    "    return cr(c1, c2), cr(c3, c4)\n",
    "\n",
    "def plot(ws, v, title):\n",
    "    c = CreateChart(ws)\n",
    "    xr, yr = data_range(ws, v)\n",
    "    CreateDataSeries(c, xr, yr)\n",
    "    FormatChart(c, None, title, \"Time\", v, None, False)\n",
    "    c.Parent.Height = 291\n",
    "    c.Parent.Width = 665\n",
    "    c.Axes(xlc.xlCategory).TickLabels.Orientation = 10\n",
    "    return c\n",
    "\n",
    "def batch_name(ws):\n",
    "    return find(ws, \"Batch Name\").Offset(2, 1).Value"
   ]
  },
  {
   "cell_type": "code",
   "execution_count": 4,
   "metadata": {},
   "outputs": [],
   "source": [
    "xl = Excel()\n",
    "with screen_lock(xl):\n",
    "    for f in files:\n",
    "        wb =xl.Workbooks.Open(f)\n",
    "        ws = wb.Worksheets(1)\n",
    "        bn = batch_name(ws)\n",
    "        wb.Name = bn\n",
    "        \n",
    "        ttitle = \"%s - %s\" \n",
    "        \n",
    "        plot(ws, \"DOPV(%)\", ttitle % (\"DOPV(%)\", bn))\n",
    "        plot(ws, \"pHPV\", ttitle % (\"pHPV\", bn))\n",
    "        wb.SaveAs(\"D:\\\\%s.xlsx\"%bn)"
   ]
  },
  {
   "cell_type": "code",
   "execution_count": 8,
   "metadata": {},
   "outputs": [],
   "source": [
    "with screen_lock(xl):\n",
    "    for wb in xl.Workbooks:\n",
    "        ws = wb.Worksheets(1)\n",
    "        for co in ws.ChartObjects():\n",
    "            co.Chart.Location(xlc.xlLocationAsNewSheet)\n",
    "        for c in wb.Charts:\n",
    "            c.PrintOut()"
   ]
  },
  {
   "cell_type": "code",
   "execution_count": null,
   "metadata": {},
   "outputs": [],
   "source": []
  }
 ],
 "metadata": {
  "kernelspec": {
   "display_name": "Python 3",
   "language": "python",
   "name": "python3"
  },
  "language_info": {
   "codemirror_mode": {
    "name": "ipython",
    "version": 3
   },
   "file_extension": ".py",
   "mimetype": "text/x-python",
   "name": "python",
   "nbconvert_exporter": "python",
   "pygments_lexer": "ipython3",
   "version": "3.5.2"
  }
 },
 "nbformat": 4,
 "nbformat_minor": 2
}
