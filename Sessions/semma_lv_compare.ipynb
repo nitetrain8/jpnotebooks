{
 "cells": [
  {
   "cell_type": "code",
   "execution_count": 1,
   "metadata": {
    "hideCode": false,
    "hideOutput": false,
    "hidePrompt": false
   },
   "outputs": [],
   "source": [
    "from hello import lv_parse\n",
    "import os\n",
    "from collections import OrderedDict"
   ]
  },
  {
   "cell_type": "code",
   "execution_count": 2,
   "metadata": {},
   "outputs": [],
   "source": [
    "fdir = \"D:/Semma PD SV/\"\n",
    "\n",
    "files = []\n",
    "allkeys = OrderedDict({(\"\",\"Name\"): []})\n",
    "for file in os.listdir(fdir):\n",
    "    ffp = os.path.join(fdir,file)\n",
    "    p = lv_parse.fromfn(ffp).todict()\n",
    "    for gk, gv in p.items():\n",
    "        for sk, sv in gv.items():\n",
    "            key = (gk, sk)\n",
    "            allkeys[key] = allkeys.get(key, [])\n",
    "            \n",
    "    files.append((file, p))"
   ]
  },
  {
   "cell_type": "code",
   "execution_count": 3,
   "metadata": {},
   "outputs": [],
   "source": [
    "for file, p in files:\n",
    "    bn = os.path.splitext(file)[0]\n",
    "    for key, lst in allkeys.items():\n",
    "        if key[1] == \"Name\":\n",
    "            lst.append(bn)\n",
    "        else:\n",
    "            k1, k2 = key\n",
    "            try:\n",
    "                v = p[k1][k2]\n",
    "            except KeyError:\n",
    "                #print(bn, key, k1, k2)\n",
    "                v = \"x\"\n",
    "            lst.append(v)\n",
    "        "
   ]
  },
  {
   "cell_type": "code",
   "execution_count": 4,
   "metadata": {},
   "outputs": [],
   "source": [
    "lorder2 = {k: i for i,k in enumerate(allkeys.keys())}\n",
    "\n",
    "def key(t, seen=set()):\n",
    "    k1 = t[0][0]\n",
    "    k2 = lorder2[t[0]]\n",
    "    kk = (k1, k2)\n",
    "    if kk not in seen:\n",
    "        pass \n",
    "        #print(kk, t[0][1])\n",
    "    seen.add(kk)\n",
    "    return kk\n",
    "\n",
    "sdata = sorted(allkeys.items(), key=key)"
   ]
  },
  {
   "cell_type": "code",
   "execution_count": 5,
   "metadata": {},
   "outputs": [],
   "source": [
    "from officelib.xllib import *\n",
    "xl = Excel()\n",
    "wb = xl.Workbooks.Add()\n",
    "ws = wb.Worksheets(1)\n",
    "cells = ws.Cells\n",
    "cr = cells.Range"
   ]
  },
  {
   "cell_type": "code",
   "execution_count": 6,
   "metadata": {},
   "outputs": [],
   "source": [
    "xdata = []\n",
    "for (k,v), lst in sdata:\n",
    "    row = [k,v]\n",
    "    row.extend(lst)\n",
    "    xdata.append(row)\n",
    "xdata = list(zip(*xdata))\n",
    "xdata.sort(key=lambda l: l[0])\n",
    "xdata = list(zip(*xdata))\n",
    "\n",
    "c1 = cr(\"A1\")\n",
    "c2 = c1.GetOffset(len(xdata) - 1, len(xdata[0]) - 1)\n",
    "cr(c1, c2).Value2 = xdata"
   ]
  },
  {
   "cell_type": "code",
   "execution_count": null,
   "metadata": {},
   "outputs": [],
   "source": []
  }
 ],
 "metadata": {
  "hide_code_all_hidden": true,
  "kernelspec": {
   "display_name": "Python 3",
   "language": "python",
   "name": "python3"
  },
  "language_info": {
   "codemirror_mode": {
    "name": "ipython",
    "version": 3
   },
   "file_extension": ".py",
   "mimetype": "text/x-python",
   "name": "python",
   "nbconvert_exporter": "python",
   "pygments_lexer": "ipython3",
   "version": "3.5.2"
  }
 },
 "nbformat": 4,
 "nbformat_minor": 2
}
