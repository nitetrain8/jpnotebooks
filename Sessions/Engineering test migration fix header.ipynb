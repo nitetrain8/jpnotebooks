{
 "cells": [
  {
   "cell_type": "code",
   "execution_count": 1,
   "metadata": {
    "collapsed": true
   },
   "outputs": [],
   "source": [
    "from officelib.wordlib import *\n",
    "from officelib.const import wdconst as wc"
   ]
  },
  {
   "cell_type": "code",
   "execution_count": 3,
   "metadata": {
    "collapsed": false
   },
   "outputs": [],
   "source": [
    "w = Word()\n",
    "d = w.ActiveDocument\n",
    "hs = d.Sections(1).Headers\n",
    "h = hs(wc.wdHeaderFooterFirstPage)"
   ]
  },
  {
   "cell_type": "code",
   "execution_count": 6,
   "metadata": {
    "collapsed": true
   },
   "outputs": [],
   "source": [
    "def pd(o):\n",
    "    return sorted(o._prop_map_get_.keys())"
   ]
  },
  {
   "cell_type": "code",
   "execution_count": 7,
   "metadata": {
    "collapsed": true
   },
   "outputs": [
    {
     "data": {
      "text/plain": [
       "['AllowAutoFit',\n",
       " 'AllowPageBreaks',\n",
       " 'Application',\n",
       " 'ApplyStyleColumnBands',\n",
       " 'ApplyStyleFirstColumn',\n",
       " 'ApplyStyleHeadingRows',\n",
       " 'ApplyStyleLastColumn',\n",
       " 'ApplyStyleLastRow',\n",
       " 'ApplyStyleRowBands',\n",
       " 'AutoFormatType',\n",
       " 'Borders',\n",
       " 'BottomPadding',\n",
       " 'Columns',\n",
       " 'Creator',\n",
       " 'ID',\n",
       " 'LeftPadding',\n",
       " 'NestingLevel',\n",
       " 'Parent',\n",
       " 'PreferredWidth',\n",
       " 'PreferredWidthType',\n",
       " 'Range',\n",
       " 'RightPadding',\n",
       " 'Rows',\n",
       " 'Shading',\n",
       " 'Spacing',\n",
       " 'Style',\n",
       " 'TableDirection',\n",
       " 'Tables',\n",
       " 'TopPadding',\n",
       " 'Uniform']"
      ]
     },
     "execution_count": 7,
     "metadata": {},
     "output_type": "execute_result"
    }
   ],
   "source": [
    "pd(d.Tables(1))"
   ]
  },
  {
   "cell_type": "code",
   "execution_count": 14,
   "metadata": {
    "collapsed": false
   },
   "outputs": [
    {
     "data": {
      "text/plain": [
       "['Application', 'Count', 'Creator', 'NestingLevel', 'Parent']"
      ]
     },
     "execution_count": 14,
     "metadata": {},
     "output_type": "execute_result"
    }
   ],
   "source": [
    "pd(h.Range.Tables)"
   ]
  },
  {
   "cell_type": "code",
   "execution_count": 24,
   "metadata": {
    "collapsed": false
   },
   "outputs": [],
   "source": [
    "h.Range.Copy()"
   ]
  },
  {
   "cell_type": "code",
   "execution_count": 22,
   "metadata": {
    "collapsed": false
   },
   "outputs": [],
   "source": [
    "w.Selection.Cut()"
   ]
  },
  {
   "cell_type": "code",
   "execution_count": 86,
   "metadata": {
    "collapsed": false
   },
   "outputs": [],
   "source": [
    "def fh(d, ids):\n",
    "    h = d.Sections(1).Headers(wc.wdHeaderFooterFirstPage)\n",
    "    h.Range.Cut()\n",
    "    r = d.Range()\n",
    "    r.Move(wc.wdStory, -1)\n",
    "    r.Paste()\n",
    "    \n",
    "    hr = h.Range\n",
    "    hr.Text = ids\n",
    "    hr.ParagraphFormat.Alignment = wc.wdAlignParagraphRight\n",
    "    "
   ]
  },
  {
   "cell_type": "code",
   "execution_count": 45,
   "metadata": {
    "collapsed": true
   },
   "outputs": [],
   "source": [
    "ft(d)"
   ]
  },
  {
   "cell_type": "code",
   "execution_count": 33,
   "metadata": {
    "collapsed": true
   },
   "outputs": [],
   "source": [
    "r = d.Range()"
   ]
  },
  {
   "cell_type": "code",
   "execution_count": 42,
   "metadata": {
    "collapsed": false
   },
   "outputs": [],
   "source": [
    "r.Move(wc.wdStory, -1)\n",
    "r.Text=\"bob3\""
   ]
  },
  {
   "cell_type": "code",
   "execution_count": 43,
   "metadata": {
    "collapsed": true
   },
   "outputs": [],
   "source": [
    "r.Move(wc.wdCharacter, 5)\n",
    "r.Text = 'bob4'"
   ]
  },
  {
   "cell_type": "code",
   "execution_count": 58,
   "metadata": {
    "collapsed": false
   },
   "outputs": [],
   "source": [
    "h = d.Sections(1).Headers(wc.wdHeaderFooterFirstPage)\n",
    "h.Range.Text = \"IE000XX\"\n",
    "h.Range.ParagraphFormat.Alignment = wc.wdAlignParagraphLeft"
   ]
  },
  {
   "cell_type": "code",
   "execution_count": 94,
   "metadata": {
    "collapsed": true
   },
   "outputs": [],
   "source": [
    "def fix(p, fn):\n",
    "    print(\"Updating %s\"%fn)\n",
    "    ids = fn.split()[0]\n",
    "    fp = os.path.join(p, fn)\n",
    "    d = w.Documents.Open(fp)\n",
    "    fh(d, ids)\n",
    "    os.makedirs((os.path.join(p, 'conv')), exist_ok=True)\n",
    "    d.SaveAs(os.path.join(p, \"conv\", fn))\n",
    "    d.Close()"
   ]
  },
  {
   "cell_type": "code",
   "execution_count": 70,
   "metadata": {
    "collapsed": true
   },
   "outputs": [],
   "source": [
    "e1 = '\\\\\\\\PBSStation\\\\pbsicmi\\\\Engineering\\\\Phase Books - Current 15-2-4\\\\15L-80L Mag Drive\\\\Phase 2\\\\IE00001'"
   ]
  },
  {
   "cell_type": "code",
   "execution_count": 89,
   "metadata": {
    "collapsed": true
   },
   "outputs": [],
   "source": [
    "clipboard.copy(repr(clipboard.paste()))"
   ]
  },
  {
   "cell_type": "code",
   "execution_count": 64,
   "metadata": {
    "collapsed": true
   },
   "outputs": [
    {
     "data": {
      "text/plain": [
       "['IE00001-03 160314.docx',\n",
       " 'IE00001-04 160311.docx',\n",
       " 'IE00001-05 160314.docx',\n",
       " 'IE00001-06 160314.docx',\n",
       " 'IE00001-07 160314.docx',\n",
       " 'IE00001-08 160315.docx',\n",
       " 'IE00001-09 160315.docx',\n",
       " 'IE00001-10 160315.docx',\n",
       " 'IE00001-11 160315.docx',\n",
       " 'IE00001-16 160316.docx',\n",
       " 'IE00001-17 160317.docx',\n",
       " 'IE00001-19 160318.docx',\n",
       " 'IE00001-20 160318.docx',\n",
       " 'IE00001-21 160318.docx',\n",
       " 'IE00001-23 160324.docx',\n",
       " 'IE00001-24 160328.docx',\n",
       " 'IE00001-25 160331.docx',\n",
       " 'IE00001-26 160331.docx',\n",
       " 'IE00001-27 160331.docx',\n",
       " 'IE00001-28 160331.docx',\n",
       " 'IE00001-29 160401.docx',\n",
       " 'IE00001-30 160401.docx',\n",
       " 'IE00001-31 160401.docx']"
      ]
     },
     "execution_count": 64,
     "metadata": {},
     "output_type": "execute_result"
    }
   ],
   "source": [
    "files=os.listdir(clipboard.paste())\n",
    "files = filter(lambda f: f.endswith(\".docx\"), files)\n",
    "files = list(files)\n",
    "files = files[3:]\n",
    "files"
   ]
  },
  {
   "cell_type": "code",
   "execution_count": 93,
   "metadata": {
    "collapsed": false
   },
   "outputs": [],
   "source": [
    "w = Word()\n",
    "for file in files:\n",
    "    fix(e1, file)"
   ]
  },
  {
   "cell_type": "code",
   "execution_count": 95,
   "metadata": {
    "collapsed": true
   },
   "outputs": [],
   "source": [
    "w = Word()\n",
    "for file in os.listdir(os.path.join(e1, 'conv')):\n",
    "    w.Documents.Open(os.path.join(e1, 'conv', file))"
   ]
  },
  {
   "cell_type": "code",
   "execution_count": null,
   "metadata": {
    "collapsed": true
   },
   "outputs": [],
   "source": []
  }
 ],
 "metadata": {
  "kernelspec": {
   "display_name": "Python 3",
   "language": "python",
   "name": "python3"
  },
  "language_info": {
   "codemirror_mode": {
    "name": "ipython",
    "version": 3
   },
   "file_extension": ".py",
   "mimetype": "text/x-python",
   "name": "python",
   "nbconvert_exporter": "python",
   "pygments_lexer": "ipython3",
   "version": "3.5.2"
  }
 },
 "nbformat": 4,
 "nbformat_minor": 1
}
