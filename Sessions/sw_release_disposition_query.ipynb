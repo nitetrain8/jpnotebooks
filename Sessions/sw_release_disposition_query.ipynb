{
 "cells": [
  {
   "cell_type": "code",
   "execution_count": 1,
   "metadata": {},
   "outputs": [],
   "source": [
    "from officelib.xllib import *"
   ]
  },
  {
   "cell_type": "code",
   "execution_count": 2,
   "metadata": {},
   "outputs": [],
   "source": [
    "xl = Excel()\n",
    "wb = xl.Workbooks.Open(\"C:\\\\Users\\\\nstar\\\\Documents\\\\Dropbox\\\\LogMeIn Info\\\\Product Configuration unlocked.xlsx\")"
   ]
  },
  {
   "cell_type": "code",
   "execution_count": 51,
   "metadata": {},
   "outputs": [],
   "source": [
    "class Sheet():\n",
    "    def __init__(self, wb, Name):\n",
    "        self.wb = wb\n",
    "        self.xl = wb.Application\n",
    "        self.ws = wb.Worksheets(Name)\n",
    "        self.cells = self.ws.Cells\n",
    "        self.cr = self.cells.Range\n",
    "\n",
    "class Data():\n",
    "    def __init__(self, sheet, tbl_name):\n",
    "        self.sheet = sheet\n",
    "        self.tbl_name = tbl_name\n",
    "        self.tbl = self.sheet.ws.ListObjects(self.tbl_name)\n",
    "        self.data = self.tbl.DataBodyRange.Value\n",
    "        \n",
    "        col = self.tbl.HeaderRowRange.Value[0]\n",
    "        self.columns = {name: i for i, name in enumerate(col)}\n",
    "        \n",
    "    def rowq(self, row, column):\n",
    "        return row[self.columns[column]]\n",
    "    "
   ]
  },
  {
   "cell_type": "code",
   "execution_count": 52,
   "metadata": {},
   "outputs": [],
   "source": [
    "ws_br = Sheet(wb, \"Bioreactors\")\n",
    "ws_cust = Sheet(wb, \"Customer Info\")\n",
    "ws_cont = Sheet(wb, \"Contacts\")"
   ]
  },
  {
   "cell_type": "code",
   "execution_count": 53,
   "metadata": {},
   "outputs": [],
   "source": [
    "data_br = Data(ws_br, \"BioreactorDatabase\")\n",
    "data_cust = Data(ws_cust, \"CustomerInfo\")\n",
    "data_cont = Data(ws_cont, \"Contacts\")"
   ]
  },
  {
   "cell_type": "code",
   "execution_count": 54,
   "metadata": {},
   "outputs": [],
   "source": [
    "def rowq(row, column):\n",
    "    return row[columns[column]].Value\n",
    "\n",
    "def br_needs_notification(row):\n",
    "    version = data_br.rowq(row, \"Software Version\")\n",
    "    return version is not None and version.startswith(\"3.0\")\n",
    "\n",
    "def company_from_row(row):\n",
    "    return data_br.rowq(row, \"Division/Group\")\n",
    "\n",
    "def contact(row):\n",
    "    company = data_cont.rowq(row, \"Division/Group\")\n",
    "    first = data_cont.rowq(row, \"First Name\")\n",
    "    last = data_cont.rowq(row, \"Last Name\")\n",
    "    email = data_cont.rowq(row, \"Email address\")\n",
    "    return (company, first, last, email)\n",
    "\n",
    "def should_notify(row):\n",
    "    return data_cont.rowq(row, \"Division/Group\") in companies_to_notify\n",
    "\n",
    "brs_to_update = filter(br_needs_notification, data_br.data)\n",
    "companies_to_notify = set(map(company_from_row, brs_to_update))\n",
    "\n",
    "contacts = sorted(set(map(contact, filter(should_notify, data_cont.data))))"
   ]
  },
  {
   "cell_type": "code",
   "execution_count": 72,
   "metadata": {},
   "outputs": [],
   "source": [
    "out_wb = xl.Workbooks.Add()\n",
    "out_ws = Sheet(out_wb, \"Sheet1\")\n",
    "\n",
    "headers = [(\"Company\", \"Contact Name\", \"Email Address\", \"Completed By\", \"Date\", \"Comments\")]\n",
    "h1 = out_ws.cr(\"A1\")\n",
    "h2 = h1.GetOffset(0, len(headers[0])-1)\n",
    "r1 = out_ws.cr(h1, h2)\n",
    "r1.Value2 = headers\n",
    "\n",
    "# contacts_data_out = [(company, f\"{fn} {ln}\", email) for company, fn, ln, email in contacts]\n",
    "\n",
    "def make_contacts_data(contacts):\n",
    "    lastc = \"\"\n",
    "    lastr = []\n",
    "    namel = []\n",
    "    emaill = []\n",
    "    out = []\n",
    "    for c, fn, ln, em in contacts:\n",
    "        if c != lastc:\n",
    "            namel = []\n",
    "            emaill = []\n",
    "            lastr = [c, namel, emaill]\n",
    "            out.append(lastr)\n",
    "            lastc = c\n",
    "        namel.append(f\"{fn} {ln}\")\n",
    "        emaill.append(em if em is not None else \"<none>\")\n",
    "    \n",
    "    # stringify\n",
    "    out2 =[]\n",
    "    for c, l1, l2 in out:\n",
    "        out2.append((c, \"\\n\".join(l1), \"\\n\".join(l2)))\n",
    "    return out2\n",
    "\n",
    "contacts_data_out = make_contacts_data(contacts)\n",
    "\n",
    "def off(cr, c1, c2, n):\n",
    "    c3 = c1.GetOffset(0, n)\n",
    "    c4 = c2.GetOffset(0, n)\n",
    "    return cr(c3, c4)\n",
    "\n",
    "with screen_lock(xl):\n",
    "    c1 = out_ws.cr(\"A2\")\n",
    "    c2 = c1.GetOffset(len(contacts_data_out) - 1, len(contacts_data_out[0]) - 1)\n",
    "    out_ws.cr(c1, c2).Value = contacts_data_out\n",
    "\n",
    "#     fc = c = c1\n",
    "#     company = c.Value2\n",
    "#     while True:\n",
    "#         nc = c.GetOffset(1,0)\n",
    "#         cm = nc.Value2\n",
    "#         if cm != company:\n",
    "#             if c != fc:\n",
    "#                 out_ws.cr(fc,c).Merge()\n",
    "#                 for i in range(1, 6):  # for each column other than the first\n",
    "#                     off(out_ws.cr, fc, c, i).Merge()\n",
    "                \n",
    "#             fc = nc\n",
    "#             company = cm\n",
    "#             if cm is None:\n",
    "#                 break\n",
    "#         c = nc\n",
    "    \n",
    "    ur = out_ws.ws.UsedRange\n",
    "    for col in ur.Columns:\n",
    "        col.EntireColumn.ColumnWidth = 255 # widen first to prevent wrap on autofit\n",
    "        col.EntireColumn.AutoFit()\n",
    "    for row in ur.Rows:\n",
    "        row.EntireRow.AutoFit()"
   ]
  },
  {
   "cell_type": "code",
   "execution_count": 68,
   "metadata": {},
   "outputs": [
    {
     "data": {
      "text/plain": [
       "'$A$1:$A$6'"
      ]
     },
     "execution_count": 68,
     "metadata": {},
     "output_type": "execute_result"
    }
   ],
   "source": [
    "r1.Address"
   ]
  },
  {
   "cell_type": "code",
   "execution_count": 71,
   "metadata": {},
   "outputs": [],
   "source": [
    "r1.Value2 = headers[0]"
   ]
  },
  {
   "cell_type": "code",
   "execution_count": null,
   "metadata": {},
   "outputs": [],
   "source": []
  }
 ],
 "metadata": {
  "kernelspec": {
   "display_name": "Python 3",
   "language": "python",
   "name": "python3"
  },
  "language_info": {
   "codemirror_mode": {
    "name": "ipython",
    "version": 3
   },
   "file_extension": ".py",
   "mimetype": "text/x-python",
   "name": "python",
   "nbconvert_exporter": "python",
   "pygments_lexer": "ipython3",
   "version": "3.8.2"
  }
 },
 "nbformat": 4,
 "nbformat_minor": 4
}
