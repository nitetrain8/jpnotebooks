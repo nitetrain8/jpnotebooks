{
 "cells": [
  {
   "cell_type": "code",
   "execution_count": 1,
   "metadata": {},
   "outputs": [],
   "source": [
    "import win32com.client.gencache as gc\n",
    "import win32com\n",
    "c = win32com.client.constants"
   ]
  },
  {
   "cell_type": "markdown",
   "metadata": {},
   "source": [
    "After a couple hours of trying everything I could think of, the following series of commands are the ONLY way I could figure out how to get data from the DataSocket to update. Specifically, The correct ReadMode, AccessMode must be used, and you must NOT call DataSocket.Update(). \n",
    "\n",
    "Other attempts resulted in complete failure to obtain data, obtain data only on 1st call, and in a couple places stalled the working thread. "
   ]
  },
  {
   "cell_type": "code",
   "execution_count": 2,
   "metadata": {},
   "outputs": [
    {
     "data": {
      "text/plain": [
       "False"
      ]
     },
     "execution_count": 2,
     "metadata": {},
     "output_type": "execute_result"
    }
   ],
   "source": [
    "try:\n",
    "    ds.SyncDisconnect(-1)\n",
    "except NameError:\n",
    "    pass\n",
    "\n",
    "ds = gc.EnsureDispatch(\"CWDSLib.CWDataSocket\")\n",
    "ds.ReadMode = c.cwdsReadsSynchronous        \n",
    "ds.SyncConnectTo(\"dstp://localhost/test\", c.cwdsReadAutoUpdate, -1)\n",
    "ds.SyncRead(-1)"
   ]
  },
  {
   "cell_type": "code",
   "execution_count": 3,
   "metadata": {},
   "outputs": [
    {
     "name": "stdout",
     "output_type": "stream",
     "text": [
      "0\n"
     ]
    }
   ],
   "source": [
    "if ds.Status == 2:\n",
    "    ds.SyncRead(10)\n",
    "    print(repr(ds.Data.Value))\n",
    "else:\n",
    "    print(ds.LastMessage)"
   ]
  },
  {
   "cell_type": "code",
   "execution_count": 4,
   "metadata": {},
   "outputs": [],
   "source": [
    "import tkinter as tk\n",
    "import tkinter.ttk as ttk\n",
    "from datetime import datetime"
   ]
  },
  {
   "cell_type": "code",
   "execution_count": 5,
   "metadata": {},
   "outputs": [],
   "source": [
    "class ScrollFrame(tk.Frame):\n",
    "    def __init__(self, master, height=100, width=100, yscroll=True, xscroll=False):\n",
    "        super().__init__(master, relief=tk.GROOVE, width=width, height=height)\n",
    "        self.width = width\n",
    "        self.height = height\n",
    "        self.canvas = tk.Canvas(self)\n",
    "        self.inner_frame = tk.Frame(self.canvas) #, width=width, height=height)\n",
    "        \n",
    "        if yscroll:\n",
    "            self.scrollbar = tk.Scrollbar(self, orient=\"vertical\", command=self.canvas.yview)\n",
    "            self.canvas.configure(yscrollcommand=self.scrollbar.set)\n",
    "        else:\n",
    "            self.scrollbar = None\n",
    "            \n",
    "        if xscroll:\n",
    "            self.xscrollbar = tk.Scrollbar(self, orient=\"horizontal\", command=self.canvas.xview)\n",
    "            self.canvas.configure(xscrollcommand=self.xscrollbar.set)\n",
    "        else:\n",
    "            self.xscrollbar = None\n",
    "        \n",
    "        self.window = self.canvas.create_window((0,0), window=self.inner_frame, anchor='nw')\n",
    "        self.inner_frame.bind(\"<Configure>\", self._on_frame_configure)\n",
    "        self.canvas.bind(\"<MouseWheel>\", self.on_mouse_scroll)\n",
    "        self.inner_frame.bind(\"<MouseWheel>\", self.on_mouse_scroll)\n",
    "        self.items = []\n",
    "        \n",
    "    def add_item(self, item):\n",
    "        self.items.append(item)\n",
    "    \n",
    "    def create_widget(self, klass, *args, **kw):\n",
    "        w = klass(self.inner_frame, *args, **kw)\n",
    "        self.add_item(w)\n",
    "        w.bind(\"<MouseWheel>\", self.on_mouse_scroll)\n",
    "        return w\n",
    "    \n",
    "    def _configure_widgets(self):\n",
    "        \n",
    "        if self.scrollbar:\n",
    "            self.scrollbar.pack(side=\"right\", fill=tk.Y)\n",
    "        if self.xscrollbar:\n",
    "            self.xscrollbar.pack(side=\"bottom\", fill=tk.X)\n",
    "        self.canvas.pack(side=\"left\", fill=tk.BOTH)\n",
    "        #self.canvas.configure(width=self.width-self.scrollbar.winfo_width(), height=self.height-self.xscrollbar.winfo_height())\n",
    "        #self.inner_frame.pack_configure(fill=tk.X)\n",
    "        #self.canvas.configure(width=self.width-self.scrollbar.winfo_width())\n",
    "        for it in self.items:\n",
    "            it.pack(anchor='w', expand=True, fill=tk.X)\n",
    "        for ob in self.inner_frame.children.values():\n",
    "            ob.bind(\"<MouseWheel>\", self.on_mouse_scroll)\n",
    "\n",
    "    def pack(self, **kw):\n",
    "        super().pack(**kw)\n",
    "        self._configure_widgets()\n",
    "    \n",
    "    def grid(self, **kw):\n",
    "        super().grid(**kw)\n",
    "        self._configure_widgets()            \n",
    "            \n",
    "    def _on_frame_configure(self, e):\n",
    "        self.canvas.configure(scrollregion=self.canvas.bbox(\"all\"), width=self.width, height=self.height)\n",
    "        \n",
    "    def on_mouse_scroll(self, e):\n",
    "        self.canvas.yview_scroll(-int(e.delta/120), \"units\")\n"
   ]
  },
  {
   "cell_type": "code",
   "execution_count": 7,
   "metadata": {
    "scrolled": true
   },
   "outputs": [],
   "source": [
    "root = tk.Tk()\n",
    "kvs = {}\n",
    "\n",
    "try:\n",
    "    ds.SyncDisconnect(-1)\n",
    "except NameError:\n",
    "    pass\n",
    "\n",
    "ds = gc.EnsureDispatch(\"CWDSLib.CWDataSocket\")\n",
    "ds.ReadMode = c.cwdsReadsSynchronous        \n",
    "ds.SyncConnectTo(\"dstp://localhost/pbsrioglobals\", c.cwdsReadAutoUpdate, -1)\n",
    "ds.SyncRead(-1)\n",
    "\n",
    "ts, keys, vals = ds.Data.Value\n",
    "frame = ScrollFrame(root, 400, 800)\n",
    "timel = ttk.Label(frame.inner_frame, text = \"Time:\")\n",
    "timet = ttk.Label(frame.inner_frame, text=datetime.fromtimestamp(ts).strftime(\"%H:%M:%S\"))\n",
    "\n",
    "timel.grid(column=0, row=1, sticky=tk.N+tk.W)\n",
    "timet.grid(column=1, row=1, sticky=tk.N+tk.W)\n",
    "\n",
    "for i, (key, val) in enumerate(zip(keys, vals), 2):\n",
    "    l = ttk.Label(frame.inner_frame, text=key)\n",
    "    t = ttk.Label(frame.inner_frame, text=str(val))\n",
    "    l.grid(column=0, row=i, sticky=tk.N+tk.W)\n",
    "    t.grid(column=1, row=i, sticky=tk.N+tk.W)\n",
    "    kvs[key] = (l, t)\n",
    "frame.grid()\n",
    "stop = False\n",
    "    \n",
    "lv_offset = datetime(1970, 1, 1) - datetime(1904, 1, 1)\n",
    "    \n",
    "def update():\n",
    "    if ds.Status==2:\n",
    "        if not ds.SyncRead(0):\n",
    "            ts, keys, vals = ds.Data.Value\n",
    "            text = (datetime.fromtimestamp(ts) - lv_offset).strftime(\"%m/%d/%Y %H:%M:%S\")\n",
    "            timet.config(text=text)\n",
    "            for k, v in zip(keys, vals):\n",
    "                kvs[k][1].config(text=repr(type(v))+\":\"+repr(v))\n",
    "    else:\n",
    "        print(\"Not Connected:\", ds.LastMessage)\n",
    "    if not stop:\n",
    "        root.after(500, update)\n",
    "root.after(500, update)\n",
    "\n",
    "root.mainloop()\n",
    "stop = True"
   ]
  },
  {
   "cell_type": "code",
   "execution_count": null,
   "metadata": {},
   "outputs": [],
   "source": [
    "oldvalue = -1"
   ]
  },
  {
   "cell_type": "code",
   "execution_count": null,
   "metadata": {},
   "outputs": [],
   "source": [
    "ds.SyncRead(-1)\n",
    "#ds.Update()\n",
    "#ds.SyncRead(-1)\n",
    "value = ds.Data.Value\n",
    "print(value == oldvalue)\n",
    "oldvalue = value\n",
    "value"
   ]
  },
  {
   "cell_type": "code",
   "execution_count": null,
   "metadata": {},
   "outputs": [],
   "source": [
    "import matplotlib.pyplot as plt\n",
    "%matplotlib"
   ]
  },
  {
   "cell_type": "code",
   "execution_count": null,
   "metadata": {},
   "outputs": [],
   "source": [
    "f = plt.figure()\n",
    "ax = f.add_subplot(111)\n",
    "line, = ax.plot(ds.Data.Value)\n",
    "f.show()"
   ]
  },
  {
   "cell_type": "code",
   "execution_count": null,
   "metadata": {},
   "outputs": [],
   "source": [
    "while True:\n",
    "    ds.SyncRead(-1)\n",
    "    y = ds.Data.Value\n",
    "    x = list(range(len(y)))\n",
    "    line.set_data(x, y)\n",
    "    f.canvas.flush_events()\n",
    "    f.canvas.draw()"
   ]
  },
  {
   "cell_type": "code",
   "execution_count": null,
   "metadata": {},
   "outputs": [],
   "source": [
    "import win32com.client.gencache as gc\n",
    "import win32com\n",
    "c = win32com.client.constants"
   ]
  },
  {
   "cell_type": "markdown",
   "metadata": {},
   "source": [
    "Just kidding, this way works too. \n",
    "\n",
    "http://zone.ni.com/reference/en-XX/help/375857A-01/html/t_nationalinstruments_net_readmode/\n",
    "http://zone.ni.com/reference/en-XX/help/375857A-01/xml/usingdatasocketeventsaccessmodesnet/\n",
    "\n",
    "tldr: in AutoUpdate access mode, the OnDataUpdated event is generated when data is changed. Otherwise, must use Update(). \n",
    "In ReadAsynchronous ReadMode, data is read automatically when updated from the server (aka pushed from server to client). Otherwise, muse use SyncRead(). \n",
    "\n",
    "TODO: Determine the difference between buffered and unbuffered reads. "
   ]
  },
  {
   "cell_type": "code",
   "execution_count": null,
   "metadata": {
    "scrolled": true
   },
   "outputs": [],
   "source": [
    "class EventHandler:\n",
    "    def OnStatusUpdated(self, *args):\n",
    "        #print(\"OnStatusUpdate\")\n",
    "        pass\n",
    "    def OnDataUpdated(self, ob):\n",
    "        ob.Invoke(1, 0, pythoncom.DISPATCH_PROPERTYGET, 1)\n",
    "        print(\"test\")\n",
    "\n",
    "ds = gc.EnsureDispatch(\"CWDSLib.CWDataSocket\")\n",
    "handler = win32com.client.WithEvents(ds, EventHandler)\n",
    "ds.ReadMode = c.cwdsReadsAsynchronous        \n",
    "# ds.SyncConnectTo(\"dstp://localhost/test\", c.cwdsReadAutoUpdate, -1)\n",
    "ds.ConnectTo(\"dstp://localhost/test\", c.cwdsReadAutoUpdate)\n",
    "#ds.SyncRead(-1)\n",
    "oldvalue = -1"
   ]
  },
  {
   "cell_type": "code",
   "execution_count": null,
   "metadata": {},
   "outputs": [],
   "source": [
    "#ds.SyncRead(-1)\n",
    "#ds.Update()\n",
    "#ds.SyncRead(-1)\n",
    "value = ds.Data.Value\n",
    "print(value == oldvalue)\n",
    "oldvalue = value\n",
    "value"
   ]
  },
  {
   "cell_type": "code",
   "execution_count": null,
   "metadata": {},
   "outputs": [],
   "source": [
    "ds.Disconnect()"
   ]
  },
  {
   "cell_type": "code",
   "execution_count": null,
   "metadata": {},
   "outputs": [],
   "source": [
    "dir(lastargs[0])"
   ]
  },
  {
   "cell_type": "code",
   "execution_count": null,
   "metadata": {},
   "outputs": [],
   "source": [
    "lastarg = lastargs[0]\n",
    "info = lastarg.GetTypeInfo()"
   ]
  },
  {
   "cell_type": "code",
   "execution_count": null,
   "metadata": {},
   "outputs": [],
   "source": [
    "dir(info)"
   ]
  },
  {
   "cell_type": "code",
   "execution_count": null,
   "metadata": {},
   "outputs": [],
   "source": [
    "info.GetNames(1)"
   ]
  },
  {
   "cell_type": "code",
   "execution_count": null,
   "metadata": {},
   "outputs": [],
   "source": [
    "lastarg.Value"
   ]
  },
  {
   "cell_type": "code",
   "execution_count": null,
   "metadata": {},
   "outputs": [],
   "source": [
    "import pythoncom"
   ]
  },
  {
   "cell_type": "code",
   "execution_count": null,
   "metadata": {},
   "outputs": [],
   "source": [
    "pythoncom.DISPATCH_"
   ]
  },
  {
   "cell_type": "code",
   "execution_count": null,
   "metadata": {},
   "outputs": [],
   "source": [
    "lastarg.Invoke(1, 0, pythoncom.DISPATCH_PROPERTYGET, 1)"
   ]
  },
  {
   "cell_type": "code",
   "execution_count": null,
   "metadata": {},
   "outputs": [],
   "source": []
  }
 ],
 "metadata": {
  "kernelspec": {
   "display_name": "Python 3",
   "language": "python",
   "name": "python3"
  },
  "language_info": {
   "codemirror_mode": {
    "name": "ipython",
    "version": 3
   },
   "file_extension": ".py",
   "mimetype": "text/x-python",
   "name": "python",
   "nbconvert_exporter": "python",
   "pygments_lexer": "ipython3",
   "version": "3.5.2"
  }
 },
 "nbformat": 4,
 "nbformat_minor": 2
}
