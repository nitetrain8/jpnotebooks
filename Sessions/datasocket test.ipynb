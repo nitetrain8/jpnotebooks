{
 "cells": [
  {
   "cell_type": "code",
   "execution_count": 7,
   "metadata": {},
   "outputs": [],
   "source": [
    "import win32com.client.gencache as gc\n",
    "import win32com\n",
    "c = win32com.client.constants"
   ]
  },
  {
   "cell_type": "markdown",
   "metadata": {},
   "source": [
    "After a couple hours of trying everything I could think of, the following series of commands are the ONLY way I could figure out how to get data from the DataSocket to update. Specifically, The correct ReadMode, AccessMode must be used, and you must NOT call DataSocket.Update(). \n",
    "\n",
    "Other attempts resulted in complete failure to obtain data, obtain data only on 1st call, and in a couple places stalled the working thread. "
   ]
  },
  {
   "cell_type": "code",
   "execution_count": 8,
   "metadata": {},
   "outputs": [
    {
     "data": {
      "text/plain": [
       "False"
      ]
     },
     "execution_count": 8,
     "metadata": {},
     "output_type": "execute_result"
    }
   ],
   "source": [
    "try:\n",
    "    ds.SyncDisconnect(-1)\n",
    "except NameError:\n",
    "    pass\n",
    "\n",
    "ds = gc.EnsureDispatch(\"CWDSLib.CWDataSocket\")\n",
    "ds.ReadMode = c.cwdsReadsSynchronous        \n",
    "ds.SyncConnectTo(\"dstp://localhost/test\", c.cwdsReadAutoUpdate, -1)\n",
    "ds.SyncRead(-1)"
   ]
  },
  {
   "cell_type": "code",
   "execution_count": 19,
   "metadata": {},
   "outputs": [
    {
     "name": "stdout",
     "output_type": "stream",
     "text": [
      "(3613143241.167845, ('TempPV(C)', 'TempAIsPrimaryActual', 'TempHeatDutyActual(%)', 'TempModeActual', 'TempARaw(C)', 'TempBRaw(C)', 'InterlockHeater', 'TempAIsActive', 'TempBIsActive', 'TempA(C)', 'TempB(C)', 'TempHeatDutyUser(%)', 'TempSP(C)', 'TempModeUser', 'TempHardware', 'TempUserConfig', 'FilterOvenDutyUser(%)', 'FilterOvenSP(C)', 'Not Used 0', 'AgModeActual', 'AgPV(RPM)', 'AgMainGasActualRequest(LPM)', 'AgMainGasUser(LPM)', 'AgModeUser', 'AgSP(RPM)', 'CalLimitsPressure', 'SystemVars(XML)', 'Flattened Bag String', 'RIO Version', 'BioreactorModel', 'Cal Values', 'LEDWhiteLEDOn', 'pHAIsPrimaryActual', 'pHBRaw', 'pHARaw', 'pHCO2ActualRequest(%)', 'pHBaseDutyActual(%)', 'pHA', 'pHModeActual', 'pHActiveMode', 'pHAIsActive', 'pHBIsActive', 'pHPV', 'pHB', 'pHCO2User(%)', 'pHBaseDutyUser(%)', 'pHSP', 'pHModeUser', 'pHHardware', 'pHUserConfig', 'DOAIsPrimaryActual', 'DOBRaw(%)', 'DOARaw(%)', 'DON2FlowActualRequest(%)', 'DOO2FlowControllerRequestLimited(mLPM)', 'DOA(%)', 'DOAisActive', 'DOBisActive', 'DOModeActual', 'DOB(%)', 'DOPV(%)', 'DOSP(%)', 'DON2FlowUser(%)', 'DOO2FlowUser(mLPM)', 'DOModeUser', 'DOHardware', 'DOUserConfig', 'MFCAirFlowFeedback(LPM)', 'MFCN2FlowFeedback(LPM)', 'MFCO2FlowFeedback(LPM)', 'MFCCO2FlowFeedback(LPM)', 'InterlockGasFlow', 'MFCAirMeasRaw(V)', 'MFCO2MeasRaw(V)', 'MFCN2MeasRaw(V)', 'MFCCO2MeasRaw(V)', 'Not Used 1', 'PressurePV(psi)', 'PressureRaw(V)', 'ReusablePressureConnected', 'Not Used 2', 'DoorLockActual', 'Sys_SN', 'Not Used 3', 'DOInRange_TempInRange_pHInrange', 'FilterOvenModeActual', 'FilterOvenDutyActual(%)', 'FilterOvenPV(C)', 'FilterOvenRaw(C)', 'FilterOvenSensorActive', 'Not Used 4', 'Manual Limits', 'Not Used 5', 'Not Used 6', 'Config Status', 'Not Used 7', 'Not Used 8', 'SensorStates', 'Not Used 9', 'Pumps&ValvesBasePumpSelection', 'Pumps&ValvesPumpUser2', 'Pumps&ValvesPumpUser1', 'Pumps&ValvesFillSpeed(RPM)', 'Pumps&ValvesFillSpeed(RPM) 2', 'Pumps&ValvesFillSpeed(RPM) 3', 'InterlockPumps', 'InterlockDoor', 'Recipe Index', 'RecipeSeq', 'RecipeStep', 'CalLimitsLevel', 'LevelCalCluster', 'LevelRaw(V)', 'LevelPV(L)', 'LevelSensorEnable', 'Not Used 10', 'Not Used 11', 'InterlockAgMotor', 'Alm_CombPlate', 'MainGasActualRequest(LPM)', 'MainGasModeActual', 'MainGasFeedback(LPM)', 'MainGasUser(LPM)', 'MainGasModeUser', 'Sys_StartupCond', 'SysSessionID', 'Pumps&ValvesPumpSmplRevrsReq', 'Pumps&ValvesPumpSmplReq', 'TempAIsPrimaryUser', 'AlarmBuzzerUser', 'HarvestDelay(s)', 'HarvestMode', 'HarvestTimeout', 'SysStop', 'pHAIsPrimaryUser', 'DOAisPrimaryUser', 'FilterOvenModeUser'), (6.226436719201756, 6.238963851662129, 3, 4.840253381849433, False, 1, True, 1.316466923242492, 0, 7.457233737824174, 1, 1, 2.9688492647752707, False, 6.836612805497156, True, 2, 3, False, 2, True, 1, 2, 2, 0.7656349852420341, 6.500070548937604, 8.996014193721171, 1.3181970466760617, 1, 0.6254933106347305, 6.805913443089057, 1, True, 9.870662983561045, True, 6.88396198599678, 2, 3, False, 3, 2, True, 6.626237879955675, True, 3, 4.091021370836732, 7.1431211033243525, 2, 6.293727040602926, True, 2, 0, 2, 1, 0.30758450168426155, 0, False, 0.7088594897413181, False, 2, True, 1, 2, 0, False, False, True, 8.66935774492635, True, 9.620165434889529, 2, 0, 7.547853846125121, True, 3, True, True, True, 7.395685230307842, 3.1324983941773055, 3, 3.8166825923329184, 0.9129842686449186, 8.601387480853441, 1, True, 2, 9.334731891204575, 2, 5.66746009930023, True, False, 1, 7.515837133717231, 7.534917299986022, True, True, True, False, True, 8.342436069376568, 1, False, False, 7.956385724597745, 2, False, 4.345620975063513, 0, 3.279352654773935, True, 1, 1, True, False, 2.6231550821002836, 3.0051316070145817, 2, True, 7.670378262193007, 9.0859226735137, 8.396752607877714, 0.3514173955540545, 7.149331104146408, 1, 9.479576519569346, False, 1, True, False, 0.43410270147061336, 6.777212393042631, False, True, False, 2, 8.133686733987638))\n"
     ]
    }
   ],
   "source": [
    "if ds.Status == 2:\n",
    "    ds.SyncRead(10)\n",
    "    print(repr(ds.Data.Value))\n",
    "else:\n",
    "    print(ds.LastMessage)"
   ]
  },
  {
   "cell_type": "code",
   "execution_count": 14,
   "metadata": {},
   "outputs": [],
   "source": [
    "oldvalue = -1"
   ]
  },
  {
   "cell_type": "code",
   "execution_count": 16,
   "metadata": {},
   "outputs": [
    {
     "name": "stdout",
     "output_type": "stream",
     "text": [
      "False\n"
     ]
    },
    {
     "data": {
      "text/plain": [
       "(('TempPV(C)',\n",
       "  'TempAIsPrimaryActual',\n",
       "  'TempHeatDutyActual(%)',\n",
       "  'TempModeActual',\n",
       "  'TempARaw(C)',\n",
       "  'TempBRaw(C)',\n",
       "  'InterlockHeater',\n",
       "  'TempAIsActive',\n",
       "  'TempBIsActive',\n",
       "  'TempA(C)',\n",
       "  'TempB(C)',\n",
       "  'TempHeatDutyUser(%)',\n",
       "  'TempSP(C)',\n",
       "  'TempModeUser',\n",
       "  'TempHardware',\n",
       "  'TempUserConfig',\n",
       "  'FilterOvenDutyUser(%)',\n",
       "  'FilterOvenSP(C)',\n",
       "  'Not Used 0',\n",
       "  'AgModeActual',\n",
       "  'AgPV(RPM)',\n",
       "  'AgMainGasActualRequest(LPM)',\n",
       "  'AgMainGasUser(LPM)',\n",
       "  'AgModeUser',\n",
       "  'AgSP(RPM)',\n",
       "  'CalLimitsPressure',\n",
       "  'SystemVars(XML)',\n",
       "  'Flattened Bag String',\n",
       "  'RIO Version',\n",
       "  'BioreactorModel',\n",
       "  'Cal Values',\n",
       "  'LEDWhiteLEDOn',\n",
       "  'pHAIsPrimaryActual',\n",
       "  'pHBRaw',\n",
       "  'pHARaw',\n",
       "  'pHCO2ActualRequest(%)',\n",
       "  'pHBaseDutyActual(%)',\n",
       "  'pHA',\n",
       "  'pHModeActual',\n",
       "  'pHActiveMode',\n",
       "  'pHAIsActive',\n",
       "  'pHBIsActive',\n",
       "  'pHPV',\n",
       "  'pHB',\n",
       "  'pHCO2User(%)',\n",
       "  'pHBaseDutyUser(%)',\n",
       "  'pHSP',\n",
       "  'pHModeUser',\n",
       "  'pHHardware',\n",
       "  'pHUserConfig',\n",
       "  'DOAIsPrimaryActual',\n",
       "  'DOBRaw(%)',\n",
       "  'DOARaw(%)',\n",
       "  'DON2FlowActualRequest(%)',\n",
       "  'DOO2FlowControllerRequestLimited(mLPM)',\n",
       "  'DOA(%)',\n",
       "  'DOAisActive',\n",
       "  'DOBisActive',\n",
       "  'DOModeActual',\n",
       "  'DOB(%)',\n",
       "  'DOPV(%)',\n",
       "  'DOSP(%)',\n",
       "  'DON2FlowUser(%)',\n",
       "  'DOO2FlowUser(mLPM)',\n",
       "  'DOModeUser',\n",
       "  'DOHardware',\n",
       "  'DOUserConfig',\n",
       "  'MFCAirFlowFeedback(LPM)',\n",
       "  'MFCN2FlowFeedback(LPM)',\n",
       "  'MFCO2FlowFeedback(LPM)',\n",
       "  'MFCCO2FlowFeedback(LPM)',\n",
       "  'InterlockGasFlow',\n",
       "  'MFCAirMeasRaw(V)',\n",
       "  'MFCO2MeasRaw(V)',\n",
       "  'MFCN2MeasRaw(V)',\n",
       "  'MFCCO2MeasRaw(V)',\n",
       "  'Not Used 1',\n",
       "  'PressurePV(psi)',\n",
       "  'PressureRaw(V)',\n",
       "  'ReusablePressureConnected',\n",
       "  'Not Used 2',\n",
       "  'DoorLockActual',\n",
       "  'Sys_SN',\n",
       "  'Not Used 3',\n",
       "  'DOInRange_TempInRange_pHInrange',\n",
       "  'FilterOvenModeActual',\n",
       "  'FilterOvenDutyActual(%)',\n",
       "  'FilterOvenPV(C)',\n",
       "  'FilterOvenRaw(C)',\n",
       "  'FilterOvenSensorActive',\n",
       "  'Not Used 4',\n",
       "  'Manual Limits',\n",
       "  'Not Used 5',\n",
       "  'Not Used 6',\n",
       "  'Config Status',\n",
       "  'Not Used 7',\n",
       "  'Not Used 8',\n",
       "  'SensorStates',\n",
       "  'Not Used 9',\n",
       "  'Pumps&ValvesBasePumpSelection',\n",
       "  'Pumps&ValvesPumpUser2',\n",
       "  'Pumps&ValvesPumpUser1',\n",
       "  'Pumps&ValvesFillSpeed(RPM)',\n",
       "  'Pumps&ValvesFillSpeed(RPM) 2',\n",
       "  'Pumps&ValvesFillSpeed(RPM) 3',\n",
       "  'InterlockPumps',\n",
       "  'InterlockDoor',\n",
       "  'Recipe Index',\n",
       "  'RecipeSeq',\n",
       "  'RecipeStep',\n",
       "  'CalLimitsLevel',\n",
       "  'LevelCalCluster',\n",
       "  'LevelRaw(V)',\n",
       "  'LevelPV(L)',\n",
       "  'LevelSensorEnable',\n",
       "  'Not Used 10',\n",
       "  'Not Used 11',\n",
       "  'InterlockAgMotor',\n",
       "  'Alm_CombPlate',\n",
       "  'MainGasActualRequest(LPM)',\n",
       "  'MainGasModeActual',\n",
       "  'MainGasFeedback(LPM)',\n",
       "  'MainGasUser(LPM)',\n",
       "  'MainGasModeUser',\n",
       "  'Sys_StartupCond',\n",
       "  'SysSessionID',\n",
       "  'Pumps&ValvesPumpSmplRevrsReq',\n",
       "  'Pumps&ValvesPumpSmplReq',\n",
       "  'TempAIsPrimaryUser',\n",
       "  'AlarmBuzzerUser',\n",
       "  'HarvestDelay(s)',\n",
       "  'HarvestMode',\n",
       "  'HarvestTimeout',\n",
       "  'SysStop',\n",
       "  'pHAIsPrimaryUser',\n",
       "  'DOAisPrimaryUser',\n",
       "  'FilterOvenModeUser'),\n",
       " (1,\n",
       "  2,\n",
       "  2,\n",
       "  2.9731676186694678,\n",
       "  8.716821700018036,\n",
       "  6.6202191477754475,\n",
       "  6.15930591425538,\n",
       "  False,\n",
       "  False,\n",
       "  0,\n",
       "  3,\n",
       "  2,\n",
       "  True,\n",
       "  8.032811033064993,\n",
       "  True,\n",
       "  2,\n",
       "  2,\n",
       "  1,\n",
       "  0,\n",
       "  3,\n",
       "  1,\n",
       "  1,\n",
       "  False,\n",
       "  2,\n",
       "  False,\n",
       "  False,\n",
       "  1,\n",
       "  4.746292805118582,\n",
       "  6.542279961556547,\n",
       "  2,\n",
       "  1,\n",
       "  2,\n",
       "  8.369935948489841,\n",
       "  3,\n",
       "  5.771659026454133,\n",
       "  4.838788339319981,\n",
       "  5.365186606161963,\n",
       "  0.14865885583656757,\n",
       "  True,\n",
       "  1,\n",
       "  6.610660777222721,\n",
       "  True,\n",
       "  8.255101078250302,\n",
       "  1,\n",
       "  True,\n",
       "  4.707690679665473,\n",
       "  9.381077085743962,\n",
       "  1,\n",
       "  0.04603801137709862,\n",
       "  8.479338747592156,\n",
       "  2.026146738896526,\n",
       "  6.758066715583531,\n",
       "  0,\n",
       "  True,\n",
       "  2,\n",
       "  3,\n",
       "  2,\n",
       "  0,\n",
       "  2,\n",
       "  2.155506292309526,\n",
       "  True,\n",
       "  False,\n",
       "  0,\n",
       "  False,\n",
       "  9.386655709707847,\n",
       "  0,\n",
       "  1,\n",
       "  3.931991381622626,\n",
       "  8.581211100521024,\n",
       "  False,\n",
       "  1,\n",
       "  4.028083490277428,\n",
       "  9.594439007868846,\n",
       "  False,\n",
       "  1,\n",
       "  2,\n",
       "  3,\n",
       "  1,\n",
       "  True,\n",
       "  2,\n",
       "  2,\n",
       "  0,\n",
       "  3,\n",
       "  9.158326057504782,\n",
       "  3.4173459761599556,\n",
       "  5.236973882668199,\n",
       "  6.764447311632131,\n",
       "  True,\n",
       "  0,\n",
       "  False,\n",
       "  True,\n",
       "  3,\n",
       "  False,\n",
       "  False,\n",
       "  1,\n",
       "  3,\n",
       "  True,\n",
       "  False,\n",
       "  False,\n",
       "  8.913174271316045,\n",
       "  3,\n",
       "  True,\n",
       "  0.5036264868204321,\n",
       "  True,\n",
       "  4.023012467750686,\n",
       "  2.56627016330516,\n",
       "  1,\n",
       "  2.3760593759981807,\n",
       "  False,\n",
       "  3.826446570472315,\n",
       "  3.753841671560214,\n",
       "  4.09708847830514,\n",
       "  3.217501155028273,\n",
       "  4.294066575175631,\n",
       "  1,\n",
       "  2,\n",
       "  3.494896506045546,\n",
       "  False,\n",
       "  True,\n",
       "  2,\n",
       "  1,\n",
       "  True,\n",
       "  2,\n",
       "  False,\n",
       "  1,\n",
       "  2,\n",
       "  False,\n",
       "  3.2489876008110663,\n",
       "  2,\n",
       "  0,\n",
       "  1,\n",
       "  2.057877048329526,\n",
       "  1,\n",
       "  2,\n",
       "  0,\n",
       "  0,\n",
       "  False))"
      ]
     },
     "execution_count": 16,
     "metadata": {},
     "output_type": "execute_result"
    }
   ],
   "source": [
    "ds.SyncRead(-1)\n",
    "#ds.Update()\n",
    "#ds.SyncRead(-1)\n",
    "value = ds.Data.Value\n",
    "print(value == oldvalue)\n",
    "oldvalue = value\n",
    "value"
   ]
  },
  {
   "cell_type": "code",
   "execution_count": null,
   "metadata": {},
   "outputs": [],
   "source": [
    "import matplotlib.pyplot as plt\n",
    "%matplotlib"
   ]
  },
  {
   "cell_type": "code",
   "execution_count": null,
   "metadata": {},
   "outputs": [],
   "source": [
    "f = plt.figure()\n",
    "ax = f.add_subplot(111)\n",
    "line, = ax.plot(ds.Data.Value)\n",
    "f.show()"
   ]
  },
  {
   "cell_type": "code",
   "execution_count": null,
   "metadata": {},
   "outputs": [],
   "source": [
    "while True:\n",
    "    ds.SyncRead(-1)\n",
    "    y = ds.Data.Value\n",
    "    x = list(range(len(y)))\n",
    "    line.set_data(x, y)\n",
    "    f.canvas.flush_events()\n",
    "    f.canvas.draw()"
   ]
  },
  {
   "cell_type": "code",
   "execution_count": null,
   "metadata": {},
   "outputs": [],
   "source": [
    "import win32com.client.gencache as gc\n",
    "import win32com\n",
    "c = win32com.client.constants"
   ]
  },
  {
   "cell_type": "markdown",
   "metadata": {},
   "source": [
    "Just kidding, this way works too. \n",
    "\n",
    "http://zone.ni.com/reference/en-XX/help/375857A-01/html/t_nationalinstruments_net_readmode/\n",
    "http://zone.ni.com/reference/en-XX/help/375857A-01/xml/usingdatasocketeventsaccessmodesnet/\n",
    "\n",
    "tldr: in AutoUpdate access mode, the OnDataUpdated event is generated when data is changed. Otherwise, must use Update(). \n",
    "In ReadAsynchronous ReadMode, data is read automatically when updated from the server (aka pushed from server to client). Otherwise, muse use SyncRead(). \n",
    "\n",
    "TODO: Determine the difference between buffered and unbuffered reads. "
   ]
  },
  {
   "cell_type": "code",
   "execution_count": null,
   "metadata": {
    "scrolled": true
   },
   "outputs": [],
   "source": [
    "class EventHandler:\n",
    "    def OnStatusUpdated(self, *args):\n",
    "        #print(\"OnStatusUpdate\")\n",
    "        pass\n",
    "    def OnDataUpdated(self, ob):\n",
    "        ob.Invoke(1, 0, pythoncom.DISPATCH_PROPERTYGET, 1)\n",
    "        print(\"test\")\n",
    "\n",
    "ds = gc.EnsureDispatch(\"CWDSLib.CWDataSocket\")\n",
    "handler = win32com.client.WithEvents(ds, EventHandler)\n",
    "ds.ReadMode = c.cwdsReadsAsynchronous        \n",
    "# ds.SyncConnectTo(\"dstp://localhost/test\", c.cwdsReadAutoUpdate, -1)\n",
    "ds.ConnectTo(\"dstp://localhost/test\", c.cwdsReadAutoUpdate)\n",
    "#ds.SyncRead(-1)\n",
    "oldvalue = -1"
   ]
  },
  {
   "cell_type": "code",
   "execution_count": null,
   "metadata": {},
   "outputs": [],
   "source": [
    "#ds.SyncRead(-1)\n",
    "#ds.Update()\n",
    "#ds.SyncRead(-1)\n",
    "value = ds.Data.Value\n",
    "print(value == oldvalue)\n",
    "oldvalue = value\n",
    "value"
   ]
  },
  {
   "cell_type": "code",
   "execution_count": null,
   "metadata": {},
   "outputs": [],
   "source": [
    "ds.Disconnect()"
   ]
  },
  {
   "cell_type": "code",
   "execution_count": null,
   "metadata": {},
   "outputs": [],
   "source": [
    "dir(lastargs[0])"
   ]
  },
  {
   "cell_type": "code",
   "execution_count": null,
   "metadata": {},
   "outputs": [],
   "source": [
    "lastarg = lastargs[0]\n",
    "info = lastarg.GetTypeInfo()"
   ]
  },
  {
   "cell_type": "code",
   "execution_count": null,
   "metadata": {},
   "outputs": [],
   "source": [
    "dir(info)"
   ]
  },
  {
   "cell_type": "code",
   "execution_count": null,
   "metadata": {},
   "outputs": [],
   "source": [
    "info.GetNames(1)"
   ]
  },
  {
   "cell_type": "code",
   "execution_count": null,
   "metadata": {},
   "outputs": [],
   "source": [
    "lastarg.Value"
   ]
  },
  {
   "cell_type": "code",
   "execution_count": null,
   "metadata": {},
   "outputs": [],
   "source": [
    "import pythoncom"
   ]
  },
  {
   "cell_type": "code",
   "execution_count": null,
   "metadata": {},
   "outputs": [],
   "source": [
    "pythoncom.DISPATCH_"
   ]
  },
  {
   "cell_type": "code",
   "execution_count": null,
   "metadata": {},
   "outputs": [],
   "source": [
    "lastarg.Invoke(1, 0, pythoncom.DISPATCH_PROPERTYGET, 1)"
   ]
  },
  {
   "cell_type": "code",
   "execution_count": null,
   "metadata": {},
   "outputs": [],
   "source": []
  }
 ],
 "metadata": {
  "kernelspec": {
   "display_name": "Python 3",
   "language": "python",
   "name": "python3"
  },
  "language_info": {
   "codemirror_mode": {
    "name": "ipython",
    "version": 3
   },
   "file_extension": ".py",
   "mimetype": "text/x-python",
   "name": "python",
   "nbconvert_exporter": "python",
   "pygments_lexer": "ipython3",
   "version": "3.5.2"
  }
 },
 "nbformat": 4,
 "nbformat_minor": 2
}
