{
 "cells": [
  {
   "cell_type": "code",
   "execution_count": 2,
   "metadata": {},
   "outputs": [],
   "source": [
    "import win32com.client.gencache as gc\n",
    "import win32com\n",
    "c = win32com.client.constants"
   ]
  },
  {
   "cell_type": "markdown",
   "metadata": {},
   "source": [
    "After a couple hours of trying everything I could think of, the following series of commands are the ONLY way I could figure out how to get data from the DataSocket to update. Specifically, The correct ReadMode, AccessMode must be used, and you must NOT call DataSocket.Update(). \n",
    "\n",
    "Other attempts resulted in complete failure to obtain data, obtain data only on 1st call, and in a couple places stalled the working thread. "
   ]
  },
  {
   "cell_type": "code",
   "execution_count": 32,
   "metadata": {},
   "outputs": [
    {
     "data": {
      "text/plain": [
       "False"
      ]
     },
     "execution_count": 32,
     "metadata": {},
     "output_type": "execute_result"
    }
   ],
   "source": [
    "try:\n",
    "    ds.SyncDisconnect(-1)\n",
    "except NameError:\n",
    "    pass\n",
    "\n",
    "ds = gc.EnsureDispatch(\"CWDSLib.CWDataSocket\")\n",
    "ds.ReadMode = c.cwdsReadsSynchronous        \n",
    "ds.SyncConnectTo(\"dstp://localhost/test\", c.cwdsReadAutoUpdate, -1)\n",
    "ds.SyncRead(-1)"
   ]
  },
  {
   "cell_type": "code",
   "execution_count": 5,
   "metadata": {},
   "outputs": [
    {
     "name": "stdout",
     "output_type": "stream",
     "text": [
      "(3616003193.5912175, ('TempPV(C)', 'TempAIsPrimaryActual', 'TempHeatDutyActual(%)', 'TempModeActual', 'TempARaw(C)', 'TempBRaw(C)', 'InterlockHeater', 'TempAIsActive', 'TempBIsActive', 'TempA(C)', 'TempB(C)', 'TempHeatDutyUser(%)', 'TempSP(C)', 'TempModeUser', 'TempHardware', 'TempUserConfig', 'FilterOvenDutyUser(%)', 'FilterOvenSP(C)', 'Not Used 0', 'AgModeActual', 'AgPV(RPM)', 'AgMainGasActualRequest(LPM)', 'AgMainGasUser(LPM)', 'AgModeUser', 'AgSP(RPM)', 'CalLimitsPressure', 'SystemVars(XML)', 'Flattened Bag String', 'RIO Version', 'BioreactorModel', 'Cal Values', 'LEDWhiteLEDOn', 'pHAIsPrimaryActual', 'pHBRaw', 'pHARaw', 'pHCO2ActualRequest(%)', 'pHBaseDutyActual(%)', 'pHA', 'pHModeActual', 'pHActiveMode', 'pHAIsActive', 'pHBIsActive', 'pHPV', 'pHB', 'pHCO2User(%)', 'pHBaseDutyUser(%)', 'pHSP', 'pHModeUser', 'pHHardware', 'pHUserConfig', 'DOAIsPrimaryActual', 'DOBRaw(%)', 'DOARaw(%)', 'DON2FlowActualRequest(%)', 'DOO2FlowControllerRequestLimited(mLPM)', 'DOA(%)', 'DOAisActive', 'DOBisActive', 'DOModeActual', 'DOB(%)', 'DOPV(%)', 'DOSP(%)', 'DON2FlowUser(%)', 'DOO2FlowUser(mLPM)', 'DOModeUser', 'DOHardware', 'DOUserConfig', 'MFCAirFlowFeedback(LPM)', 'MFCN2FlowFeedback(LPM)', 'MFCO2FlowFeedback(LPM)', 'MFCCO2FlowFeedback(LPM)', 'InterlockGasFlow', 'MFCAirMeasRaw(V)', 'MFCO2MeasRaw(V)', 'MFCN2MeasRaw(V)', 'MFCCO2MeasRaw(V)', 'Not Used 1', 'PressurePV(psi)', 'PressureRaw(V)', 'ReusablePressureConnected', 'Not Used 2', 'DoorLockActual', 'Sys_SN', 'Not Used 3', 'DOInRange_TempInRange_pHInrange', 'FilterOvenModeActual', 'FilterOvenDutyActual(%)', 'FilterOvenPV(C)', 'FilterOvenRaw(C)', 'FilterOvenSensorActive', 'Not Used 4', 'Manual Limits', 'Not Used 5', 'Not Used 6', 'Config Status', 'Not Used 7', 'Not Used 8', 'SensorStates', 'Not Used 9', 'Pumps&ValvesBasePumpSelection', 'Pumps&ValvesPumpUser2', 'Pumps&ValvesPumpUser1', 'Pumps&ValvesFillSpeed(RPM)', 'Pumps&ValvesFillSpeed(RPM) 2', 'Pumps&ValvesFillSpeed(RPM) 3', 'InterlockPumps', 'InterlockDoor', 'Recipe Index', 'RecipeSeq', 'RecipeStep', 'CalLimitsLevel', 'LevelCalCluster', 'LevelRaw(V)', 'LevelPV(L)', 'LevelSensorEnable', 'Not Used 10', 'Not Used 11', 'InterlockAgMotor', 'Alm_CombPlate', 'MainGasActualRequest(LPM)', 'MainGasModeActual', 'MainGasFeedback(LPM)', 'MainGasUser(LPM)', 'MainGasModeUser', 'Sys_StartupCond', 'SysSessionID', 'Pumps&ValvesPumpSmplRevrsReq', 'Pumps&ValvesPumpSmplReq', 'TempAIsPrimaryUser', 'AlarmBuzzerUser', 'HarvestDelay(s)', 'HarvestMode', 'HarvestTimeout', 'SysStop', 'pHAIsPrimaryUser', 'DOAisPrimaryUser', 'FilterOvenModeUser'), (0, 1, 2, 3, 4, 5, 6, 7, 8, 9, 10, 11, 12, 13, 14, 15, 16, 17, 18, 19, 20, 21, 22, 23, 24, 25, 26, 27, 28, 29, 30, 31, 32, 33, 34, 35, 36, 37, 38, 39, 40, 41, 42, 43, 44, 45, 46, 47, 48, 49, 50, 51, 52, 53, 54, 55, 56, 57, 58, 59, 60, 61, 62, 63, 64, 65, 66, 67, 68, 69, 70, 71, 72, 73, 74, 75, 76, 77, 78, 79, 80, 81, 82, 83, 84, 85, 86, 87, 88, 89, 90, 91, 92, 93, 94, 95, 96, 97, 98, 99, 100, 101, 102, 103, 104, 105, 106, 107, 108, 109, 110, 111, 112, 113, 114, 115, 116, 117, 118, 119, 120, 121, 122, 123, 124, 125, 126, 127, 128, 129, 130, 131, 132, 133, 134, 135, 136))\n"
     ]
    }
   ],
   "source": [
    "if ds.Status == 2:\n",
    "    ds.SyncRead(10)\n",
    "    print(repr(ds.Data.Value))\n",
    "else:\n",
    "    print(ds.LastMessage)"
   ]
  },
  {
   "cell_type": "code",
   "execution_count": 6,
   "metadata": {},
   "outputs": [],
   "source": [
    "import tkinter as tk\n",
    "import tkinter.ttk as ttk\n",
    "from datetime import datetime"
   ]
  },
  {
   "cell_type": "code",
   "execution_count": 27,
   "metadata": {},
   "outputs": [],
   "source": [
    "class ScrollFrame(tk.Frame):\n",
    "    def __init__(self, master, height=100, width=100, yscroll=True, xscroll=False):\n",
    "        super().__init__(master, relief=tk.GROOVE, width=width, height=height)\n",
    "        self.width = width\n",
    "        self.height = height\n",
    "        self.canvas = tk.Canvas(self)\n",
    "        self.inner_frame = tk.Frame(self.canvas) #, width=width, height=height)\n",
    "        \n",
    "        if yscroll:\n",
    "            self.scrollbar = tk.Scrollbar(self, orient=\"vertical\", command=self.canvas.yview)\n",
    "            self.canvas.configure(yscrollcommand=self.scrollbar.set)\n",
    "        else:\n",
    "            self.scrollbar = None\n",
    "            \n",
    "        if xscroll:\n",
    "            self.xscrollbar = tk.Scrollbar(self, orient=\"horizontal\", command=self.canvas.xview)\n",
    "            self.canvas.configure(xscrollcommand=self.xscrollbar.set)\n",
    "        else:\n",
    "            self.xscrollbar = None\n",
    "        \n",
    "        self.window = self.canvas.create_window((0,0), window=self.inner_frame, anchor='nw')\n",
    "        self.inner_frame.bind(\"<Configure>\", self._on_frame_configure)\n",
    "        self.canvas.bind(\"<MouseWheel>\", self.on_mouse_scroll)\n",
    "        self.inner_frame.bind(\"<MouseWheel>\", self.on_mouse_scroll)\n",
    "        self.items = []\n",
    "        \n",
    "    def add_item(self, item):\n",
    "        self.items.append(item)\n",
    "    \n",
    "    def create_widget(self, klass, *args, **kw):\n",
    "        w = klass(self.inner_frame, *args, **kw)\n",
    "        self.add_item(w)\n",
    "        w.bind(\"<MouseWheel>\", self.on_mouse_scroll)\n",
    "        return w\n",
    "    \n",
    "    def _configure_widgets(self):\n",
    "        \n",
    "        if self.scrollbar:\n",
    "            self.scrollbar.pack(side=\"right\", fill=tk.Y)\n",
    "        if self.xscrollbar:\n",
    "            self.xscrollbar.pack(side=\"bottom\", fill=tk.X)\n",
    "        self.canvas.pack(side=\"left\", fill=tk.BOTH)\n",
    "        #self.canvas.configure(width=self.width-self.scrollbar.winfo_width(), height=self.height-self.xscrollbar.winfo_height())\n",
    "        #self.inner_frame.pack_configure(fill=tk.X)\n",
    "        #self.canvas.configure(width=self.width-self.scrollbar.winfo_width())\n",
    "        for it in self.items:\n",
    "            it.pack(anchor='w', expand=True, fill=tk.X)\n",
    "        for ob in self.inner_frame.children.values():\n",
    "            ob.bind(\"<MouseWheel>\", self.on_mouse_scroll)\n",
    "\n",
    "    def pack(self, **kw):\n",
    "        super().pack(**kw)\n",
    "        self._configure_widgets()\n",
    "    \n",
    "    def grid(self, **kw):\n",
    "        super().grid(**kw)\n",
    "        self._configure_widgets()            \n",
    "            \n",
    "    def _on_frame_configure(self, e):\n",
    "        self.canvas.configure(scrollregion=self.canvas.bbox(\"all\"), width=self.width, height=self.height)\n",
    "        \n",
    "    def on_mouse_scroll(self, e):\n",
    "        self.canvas.yview_scroll(-int(e.delta/120), \"units\")\n"
   ]
  },
  {
   "cell_type": "code",
   "execution_count": 33,
   "metadata": {},
   "outputs": [
    {
     "ename": "TypeError",
     "evalue": "'int' object is not iterable",
     "output_type": "error",
     "traceback": [
      "\u001b[1;31m---------------------------------------------------------------------------\u001b[0m",
      "\u001b[1;31mTypeError\u001b[0m                                 Traceback (most recent call last)",
      "\u001b[1;32m<ipython-input-33-b2c9a34390c2>\u001b[0m in \u001b[0;36m<module>\u001b[1;34m()\u001b[0m\n\u001b[0;32m      1\u001b[0m \u001b[0mroot\u001b[0m \u001b[1;33m=\u001b[0m \u001b[0mtk\u001b[0m\u001b[1;33m.\u001b[0m\u001b[0mTk\u001b[0m\u001b[1;33m(\u001b[0m\u001b[1;33m)\u001b[0m\u001b[1;33m\u001b[0m\u001b[0m\n\u001b[0;32m      2\u001b[0m \u001b[0mkvs\u001b[0m \u001b[1;33m=\u001b[0m \u001b[1;33m{\u001b[0m\u001b[1;33m}\u001b[0m\u001b[1;33m\u001b[0m\u001b[0m\n\u001b[1;32m----> 3\u001b[1;33m \u001b[0mts\u001b[0m\u001b[1;33m,\u001b[0m \u001b[0mkeys\u001b[0m\u001b[1;33m,\u001b[0m \u001b[0mvals\u001b[0m \u001b[1;33m=\u001b[0m \u001b[0mds\u001b[0m\u001b[1;33m.\u001b[0m\u001b[0mData\u001b[0m\u001b[1;33m.\u001b[0m\u001b[0mValue\u001b[0m\u001b[1;33m\u001b[0m\u001b[0m\n\u001b[0m\u001b[0;32m      4\u001b[0m \u001b[0mframe\u001b[0m \u001b[1;33m=\u001b[0m \u001b[0mScrollFrame\u001b[0m\u001b[1;33m(\u001b[0m\u001b[0mroot\u001b[0m\u001b[1;33m,\u001b[0m \u001b[1;36m400\u001b[0m\u001b[1;33m,\u001b[0m \u001b[1;36m800\u001b[0m\u001b[1;33m)\u001b[0m\u001b[1;33m\u001b[0m\u001b[0m\n\u001b[0;32m      5\u001b[0m \u001b[0mtimel\u001b[0m \u001b[1;33m=\u001b[0m \u001b[0mttk\u001b[0m\u001b[1;33m.\u001b[0m\u001b[0mLabel\u001b[0m\u001b[1;33m(\u001b[0m\u001b[0mframe\u001b[0m\u001b[1;33m.\u001b[0m\u001b[0minner_frame\u001b[0m\u001b[1;33m,\u001b[0m \u001b[0mtext\u001b[0m \u001b[1;33m=\u001b[0m \u001b[1;34m\"Time:\"\u001b[0m\u001b[1;33m)\u001b[0m\u001b[1;33m\u001b[0m\u001b[0m\n",
      "\u001b[1;31mTypeError\u001b[0m: 'int' object is not iterable"
     ]
    }
   ],
   "source": [
    "root = tk.Tk()\n",
    "kvs = {}\n",
    "ts, keys, vals = ds.Data.Value\n",
    "frame = ScrollFrame(root, 400, 800)\n",
    "timel = ttk.Label(frame.inner_frame, text = \"Time:\")\n",
    "timet = ttk.Label(frame.inner_frame, text=datetime.fromtimestamp(ts).strftime(\"%H:%M:%S\"))\n",
    "\n",
    "timel.grid(column=0, row=1)\n",
    "timet.grid(column=1, row=1)\n",
    "\n",
    "for i, (key, val) in enumerate(zip(keys, vals), 2):\n",
    "    l = ttk.Label(frame.inner_frame, text=key)\n",
    "    t = ttk.Label(frame.inner_frame, text=str(val))\n",
    "    l.grid(column=0, row=i, sticky=tk.N)\n",
    "    t.grid(column=1, row=i, sticky=tk.N)\n",
    "    kvs[key] = (l, t)\n",
    "frame.grid()\n",
    "stop = False\n",
    "    \n",
    "def update():\n",
    "    print(ds.LastMessage)\n",
    "    if ds.Status==2:\n",
    "        if not ds.SyncRead(0):\n",
    "            ts, keys, vals = ds.Data.Value\n",
    "            timet.config(text=datetime.fromtimestamp(ts).strftime(\"%H:%M:%S\"))\n",
    "            for k, v in zip(keys, vals):\n",
    "                kvs[k][1].config(text=str(v))\n",
    "    else:\n",
    "        print(\"Not Connected:\", ds.LastMessage)\n",
    "    if not stop:\n",
    "        root.after(500, update)\n",
    "root.after(500, update)\n",
    "\n",
    "root.mainloop()\n",
    "stop = True"
   ]
  },
  {
   "cell_type": "code",
   "execution_count": null,
   "metadata": {},
   "outputs": [],
   "source": [
    "oldvalue = -1"
   ]
  },
  {
   "cell_type": "code",
   "execution_count": null,
   "metadata": {},
   "outputs": [],
   "source": [
    "ds.SyncRead(-1)\n",
    "#ds.Update()\n",
    "#ds.SyncRead(-1)\n",
    "value = ds.Data.Value\n",
    "print(value == oldvalue)\n",
    "oldvalue = value\n",
    "value"
   ]
  },
  {
   "cell_type": "code",
   "execution_count": null,
   "metadata": {},
   "outputs": [],
   "source": [
    "import matplotlib.pyplot as plt\n",
    "%matplotlib"
   ]
  },
  {
   "cell_type": "code",
   "execution_count": null,
   "metadata": {},
   "outputs": [],
   "source": [
    "f = plt.figure()\n",
    "ax = f.add_subplot(111)\n",
    "line, = ax.plot(ds.Data.Value)\n",
    "f.show()"
   ]
  },
  {
   "cell_type": "code",
   "execution_count": null,
   "metadata": {},
   "outputs": [],
   "source": [
    "while True:\n",
    "    ds.SyncRead(-1)\n",
    "    y = ds.Data.Value\n",
    "    x = list(range(len(y)))\n",
    "    line.set_data(x, y)\n",
    "    f.canvas.flush_events()\n",
    "    f.canvas.draw()"
   ]
  },
  {
   "cell_type": "code",
   "execution_count": null,
   "metadata": {},
   "outputs": [],
   "source": [
    "import win32com.client.gencache as gc\n",
    "import win32com\n",
    "c = win32com.client.constants"
   ]
  },
  {
   "cell_type": "markdown",
   "metadata": {},
   "source": [
    "Just kidding, this way works too. \n",
    "\n",
    "http://zone.ni.com/reference/en-XX/help/375857A-01/html/t_nationalinstruments_net_readmode/\n",
    "http://zone.ni.com/reference/en-XX/help/375857A-01/xml/usingdatasocketeventsaccessmodesnet/\n",
    "\n",
    "tldr: in AutoUpdate access mode, the OnDataUpdated event is generated when data is changed. Otherwise, must use Update(). \n",
    "In ReadAsynchronous ReadMode, data is read automatically when updated from the server (aka pushed from server to client). Otherwise, muse use SyncRead(). \n",
    "\n",
    "TODO: Determine the difference between buffered and unbuffered reads. "
   ]
  },
  {
   "cell_type": "code",
   "execution_count": null,
   "metadata": {
    "scrolled": true
   },
   "outputs": [],
   "source": [
    "class EventHandler:\n",
    "    def OnStatusUpdated(self, *args):\n",
    "        #print(\"OnStatusUpdate\")\n",
    "        pass\n",
    "    def OnDataUpdated(self, ob):\n",
    "        ob.Invoke(1, 0, pythoncom.DISPATCH_PROPERTYGET, 1)\n",
    "        print(\"test\")\n",
    "\n",
    "ds = gc.EnsureDispatch(\"CWDSLib.CWDataSocket\")\n",
    "handler = win32com.client.WithEvents(ds, EventHandler)\n",
    "ds.ReadMode = c.cwdsReadsAsynchronous        \n",
    "# ds.SyncConnectTo(\"dstp://localhost/test\", c.cwdsReadAutoUpdate, -1)\n",
    "ds.ConnectTo(\"dstp://localhost/test\", c.cwdsReadAutoUpdate)\n",
    "#ds.SyncRead(-1)\n",
    "oldvalue = -1"
   ]
  },
  {
   "cell_type": "code",
   "execution_count": null,
   "metadata": {},
   "outputs": [],
   "source": [
    "#ds.SyncRead(-1)\n",
    "#ds.Update()\n",
    "#ds.SyncRead(-1)\n",
    "value = ds.Data.Value\n",
    "print(value == oldvalue)\n",
    "oldvalue = value\n",
    "value"
   ]
  },
  {
   "cell_type": "code",
   "execution_count": null,
   "metadata": {},
   "outputs": [],
   "source": [
    "ds.Disconnect()"
   ]
  },
  {
   "cell_type": "code",
   "execution_count": null,
   "metadata": {},
   "outputs": [],
   "source": [
    "dir(lastargs[0])"
   ]
  },
  {
   "cell_type": "code",
   "execution_count": null,
   "metadata": {},
   "outputs": [],
   "source": [
    "lastarg = lastargs[0]\n",
    "info = lastarg.GetTypeInfo()"
   ]
  },
  {
   "cell_type": "code",
   "execution_count": null,
   "metadata": {},
   "outputs": [],
   "source": [
    "dir(info)"
   ]
  },
  {
   "cell_type": "code",
   "execution_count": null,
   "metadata": {},
   "outputs": [],
   "source": [
    "info.GetNames(1)"
   ]
  },
  {
   "cell_type": "code",
   "execution_count": null,
   "metadata": {},
   "outputs": [],
   "source": [
    "lastarg.Value"
   ]
  },
  {
   "cell_type": "code",
   "execution_count": null,
   "metadata": {},
   "outputs": [],
   "source": [
    "import pythoncom"
   ]
  },
  {
   "cell_type": "code",
   "execution_count": null,
   "metadata": {},
   "outputs": [],
   "source": [
    "pythoncom.DISPATCH_"
   ]
  },
  {
   "cell_type": "code",
   "execution_count": null,
   "metadata": {},
   "outputs": [],
   "source": [
    "lastarg.Invoke(1, 0, pythoncom.DISPATCH_PROPERTYGET, 1)"
   ]
  },
  {
   "cell_type": "code",
   "execution_count": null,
   "metadata": {},
   "outputs": [],
   "source": []
  }
 ],
 "metadata": {
  "kernelspec": {
   "display_name": "Python 3",
   "language": "python",
   "name": "python3"
  },
  "language_info": {
   "codemirror_mode": {
    "name": "ipython",
    "version": 3
   },
   "file_extension": ".py",
   "mimetype": "text/x-python",
   "name": "python",
   "nbconvert_exporter": "python",
   "pygments_lexer": "ipython3",
   "version": "3.5.2"
  }
 },
 "nbformat": 4,
 "nbformat_minor": 2
}
