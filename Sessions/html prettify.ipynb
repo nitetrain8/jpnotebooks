{
 "cells": [
  {
   "cell_type": "code",
   "execution_count": 30,
   "metadata": {},
   "outputs": [],
   "source": [
    "from lxml import etree"
   ]
  },
  {
   "cell_type": "code",
   "execution_count": 31,
   "metadata": {},
   "outputs": [],
   "source": [
    "with open(\"badhtml.html\", 'r') as f:\n",
    "    root = etree.HTML(f.read())"
   ]
  },
  {
   "cell_type": "code",
   "execution_count": 32,
   "metadata": {},
   "outputs": [],
   "source": [
    "def attrs(node):\n",
    "    if not node.attrib:\n",
    "        return \"\"\n",
    "    else:\n",
    "        return \" \" + \" \".join('%s=\"%s\"'%it for it in node.attrib.items())\n",
    "    \n",
    "def txt(node):\n",
    "    t = node.text or \"\"\n",
    "    s = t.strip()\n",
    "    if t and s:\n",
    "        return t\n",
    "    else:\n",
    "        return s\n",
    "\n",
    "def dump(node, level, out):\n",
    "    ch = node.getchildren()\n",
    "    space = \"  \" * level\n",
    "    if ch:\n",
    "        out(\"%s<%s%s>%s\"%(space, node.tag, attrs(node), txt(node).strip(\"\\r\\n\")))\n",
    "        for n in ch:\n",
    "            dump(n, level+1, out)\n",
    "        out(\"%s<%s/>\"%(space, node.tag))\n",
    "    else:\n",
    "        if not node.text:\n",
    "            out(\"%s<%s%s/>\"%(space, node.tag, attrs(node)))\n",
    "        else:\n",
    "            out(\"%s<%s%s>%s<%s/>\"%(space, node.tag, attrs(node), txt(node), node.tag))"
   ]
  },
  {
   "cell_type": "code",
   "execution_count": 33,
   "metadata": {},
   "outputs": [],
   "source": [
    "class PrintOut():\n",
    "    def __init__(self, file):\n",
    "        self.file = file\n",
    "        self.fp = None\n",
    "    def __call__(self, text):\n",
    "        print(text, file=self.fp)\n",
    "    def __enter__(self):\n",
    "        self.fp = open(self.file, 'w')\n",
    "        self.fp.__enter__()\n",
    "        return self\n",
    "    def __exit__(self, *args):\n",
    "        self.fp.__exit__()\n",
    "        self.fp = None\n",
    "        \n",
    "def printout(file):\n",
    "    return PrintOut(file)\n",
    "\n",
    "with PrintOut(\"test.html\") as pout:\n",
    "    pout(\"\\n<!DOCTYPE html PUBLIC \\\"-//W3C//DTD XHTML 1.0 Strict//EN\\\" \\\"http://www.w3.org/TR/xhtml1/DTD/xhtml1-strict.dtd\\\">\")\n",
    "    dump(root, 0, pout)"
   ]
  },
  {
   "cell_type": "code",
   "execution_count": 36,
   "metadata": {},
   "outputs": [
    {
     "name": "stdout",
     "output_type": "stream",
     "text": [
      "Column 1\n",
      "\n",
      "\n",
      "\n",
      "\n",
      "\n",
      "\n",
      "\n",
      "\n",
      "\n",
      "\n",
      "\n",
      "\n",
      "\n",
      "\n",
      "\n",
      "\n",
      "\n",
      "\n",
      "\n",
      "            \n",
      "\n",
      "\n",
      "\n",
      "\n",
      "\n",
      "\n",
      "\n",
      "\n",
      "\n",
      "\n",
      "\n",
      "\n",
      "\n",
      "\n",
      "\n",
      "\n",
      "\n"
     ]
    }
   ],
   "source": [
    "for tr in root.xpath(\"//tr[td]\"):\n",
    "    for td in tr.find(\"//td/\"):\n",
    "        print(td.text or \"\", end=\"\")\n",
    "    print()"
   ]
  },
  {
   "cell_type": "code",
   "execution_count": null,
   "metadata": {},
   "outputs": [],
   "source": [
    "import pandas as pd\n",
    "tables = pd.read_html(s)"
   ]
  },
  {
   "cell_type": "code",
   "execution_count": null,
   "metadata": {},
   "outputs": [],
   "source": [
    "df.to_excel(\"test.xlsx\", header=False, index=False, merge_cells=True, verbose=True)"
   ]
  },
  {
   "cell_type": "code",
   "execution_count": null,
   "metadata": {},
   "outputs": [],
   "source": [
    "df = tables[0]\n",
    "df.to_excel?"
   ]
  },
  {
   "cell_type": "code",
   "execution_count": 3,
   "metadata": {},
   "outputs": [],
   "source": [
    "from officelib.xllib import *\n",
    "xl = Excel()"
   ]
  },
  {
   "cell_type": "code",
   "execution_count": 28,
   "metadata": {},
   "outputs": [
    {
     "name": "stdout",
     "output_type": "stream",
     "text": [
      "start\n",
      "done\n"
     ]
    }
   ],
   "source": [
    "import time\n",
    "\n",
    "wb = xl.ActiveWorkbook\n",
    "ws = wb.Worksheets(1)\n",
    "columns = ws.UsedRange.Columns\n",
    "\n",
    "def highlight(c):\n",
    "    c.Interior.Color=65535\n",
    "    \n",
    "def dehighlight(c):\n",
    "    c.Interior.Pattern=xlc.xlNone\n",
    "\n",
    "def rowgetter(rows):\n",
    "    memo = {}\n",
    "    def getrow(i):\n",
    "        nonlocal memo\n",
    "        ret = memo.get(i, None)\n",
    "        if ret is None:\n",
    "            c = rows(i)\n",
    "            ret = c, c.Value2\n",
    "            memo[i] = ret\n",
    "        return ret\n",
    "    return getrow\n",
    "print(\"start\")  \n",
    "cell_range = ws.Cells.Range  \n",
    "for column in ws.UsedRange.Columns:\n",
    "    Rows = column.Rows\n",
    "    getrow = rowgetter(Rows)\n",
    "\n",
    "    row = 1\n",
    "    rc = Rows.Count\n",
    "    while row <= rc:\n",
    "        fc,fv = getrow(row)\n",
    "        sr = row\n",
    "        c, v = fc, fv\n",
    "        while v == fv:\n",
    "            highlight(c)\n",
    "            #time.sleep(.05)\n",
    "            row += 1\n",
    "            if not v or row > rc:\n",
    "                break\n",
    "            c, v = getrow(row)\n",
    "\n",
    "        row -= 1\n",
    "\n",
    "        if row != sr:\n",
    "            c, _ = getrow(row)\n",
    "            xl.DisplayAlerts = False\n",
    "            cell_range(fc, c).Merge()\n",
    "            fc.VerticalAlignment = xlc.xlTop\n",
    "            xl.DisplayAlerts = True\n",
    "        dehighlight(cell_range(fc, c))\n",
    "        row += 1\n",
    "print(\"done\")"
   ]
  },
  {
   "cell_type": "code",
   "execution_count": null,
   "metadata": {},
   "outputs": [],
   "source": []
  }
 ],
 "metadata": {
  "kernelspec": {
   "display_name": "Python 3",
   "language": "python",
   "name": "python3"
  },
  "language_info": {
   "codemirror_mode": {
    "name": "ipython",
    "version": 3
   },
   "file_extension": ".py",
   "mimetype": "text/x-python",
   "name": "python",
   "nbconvert_exporter": "python",
   "pygments_lexer": "ipython3",
   "version": "3.5.2"
  }
 },
 "nbformat": 4,
 "nbformat_minor": 2
}
