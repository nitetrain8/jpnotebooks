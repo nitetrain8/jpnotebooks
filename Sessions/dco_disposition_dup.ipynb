{
 "cells": [
  {
   "cell_type": "code",
   "execution_count": 2,
   "metadata": {},
   "outputs": [],
   "source": [
    "from pdfrw import PdfReader, PdfWriter\n",
    "import os"
   ]
  },
  {
   "cell_type": "code",
   "execution_count": 7,
   "metadata": {},
   "outputs": [],
   "source": [
    "def dup_page(fin, fout, spec):\n",
    "    \"\"\"\n",
    "    :param spec: dict of page # -> # of copies. 0 = skip, 1 = normal, 2+ = copy\n",
    "    \"\"\"\n",
    "    reader = PdfReader(fin)\n",
    "    writer = PdfWriter()\n",
    "\n",
    "    for i, p in enumerate(reader.pages):\n",
    "        copies = spec.get(i, 1)\n",
    "        for n in range(copies):\n",
    "            writer.addpage(p)\n",
    "    writer.write(fout)"
   ]
  },
  {
   "cell_type": "code",
   "execution_count": 8,
   "metadata": {},
   "outputs": [],
   "source": [
    "path = 'C:\\\\Users\\\\nstar\\\\OneDrive - PBS Biotech\\\\OneDrive Shared\\\\3.1.1 DHF'\n",
    "os.chdir(path)\n",
    "\n",
    "fin = \"DCO v3.1.1 software.pdf\"\n",
    "fout = \"DCO disp dup.pdf\"\n",
    "\n",
    "spec = {2:2}\n",
    "dup_page(os.path.join(path, fin), os.path.join(path, fout), spec)"
   ]
  },
  {
   "cell_type": "code",
   "execution_count": 10,
   "metadata": {},
   "outputs": [],
   "source": [
    "def prune(fin, fout, include):\n",
    "    \"\"\"\n",
    "    :param spec: dict of page # -> # of copies. 0 = skip, 1 = normal, 2+ = copy\n",
    "    \"\"\"\n",
    "    reader = PdfReader(fin)\n",
    "    writer = PdfWriter()\n",
    "\n",
    "    for i, p in enumerate(reader.pages):\n",
    "        if i in include:\n",
    "            writer.addpage(p)\n",
    "    writer.write(fout)"
   ]
  },
  {
   "cell_type": "code",
   "execution_count": 12,
   "metadata": {},
   "outputs": [
    {
     "name": "stderr",
     "output_type": "stream",
     "text": [
      "[WARNING] tokens.py:221 Did not find PDF object (1237, 0) (line=7051, col=1, token='endobj')\n"
     ]
    }
   ],
   "source": [
    "prune(\"DCO disp dup.pdf\", \"DCO disp manuals.pdf\", [2])"
   ]
  },
  {
   "cell_type": "code",
   "execution_count": null,
   "metadata": {},
   "outputs": [],
   "source": []
  }
 ],
 "metadata": {
  "kernelspec": {
   "display_name": "Python 3",
   "language": "python",
   "name": "python3"
  },
  "language_info": {
   "codemirror_mode": {
    "name": "ipython",
    "version": 3
   },
   "file_extension": ".py",
   "mimetype": "text/x-python",
   "name": "python",
   "nbconvert_exporter": "python",
   "pygments_lexer": "ipython3",
   "version": "3.8.2"
  }
 },
 "nbformat": 4,
 "nbformat_minor": 4
}
