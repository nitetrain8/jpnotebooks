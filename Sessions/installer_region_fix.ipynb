{
 "cells": [
  {
   "cell_type": "code",
   "execution_count": 1,
   "metadata": {},
   "outputs": [
    {
     "data": {
      "text/plain": [
       "' A bug in the region generation script caused the reported x and y coordinates in the `scan` function\\nto always report the current mouse coordinates, not the top left coordinates of the rectangle. I need to fix all those now ...\\n'"
      ]
     },
     "execution_count": 1,
     "metadata": {},
     "output_type": "execute_result"
    }
   ],
   "source": [
    "\"\"\" A bug in the region generation script caused the reported x and y coordinates in the `scan` function\n",
    "to always report the current mouse coordinates, not the top left coordinates of the rectangle. I need to fix all those now ...\n",
    "\"\"\""
   ]
  },
  {
   "cell_type": "code",
   "execution_count": 5,
   "metadata": {},
   "outputs": [],
   "source": [
    "import re\n",
    "s = 'WEBUI_NUMPAD1         = Region(472, 180, 256, 62)\\r\\nWEBUI_NUMPAD2         = Region(645, 203, 88, 51)\\r\\nWEBUI_NUMPAD3         = Region(743, 203, 90, 54)\\r\\nWEBUI_NUMPAD4         = Region(549, 262, 89, 53)\\r\\nWEBUI_NUMPAD5         = Region(646, 263, 90, 55)\\r\\nWEBUI_NUMPAD6         = Region(743, 261, 90, 51)\\r\\nWEBUI_NUMPAD7         = Region(548, 320, 88, 51)\\r\\nWEBUI_NUMPAD8         = Region(646, 322, 89, 52)\\r\\nWEBUI_NUMPAD9         = Region(744, 322, 90, 53)\\r\\nWEBUI_NUMPAD_DOT      = Region(551, 381, 91, 53)\\r\\nWEBUI_NUMPAD0         = Region(648, 380, 90, 51)\\r\\n\\r\\nWEBUI_ACTIONTAB                = Region(591, 575, 86, 71)\\r\\nWEBUI_LOGIN_NAME1              = Region(364, 140, 335, 42)\\r\\nWEBUI_ACTIONS_SHOWDESKTOP      = Region(766, 417, 164, 49)\\r\\nSHELLUI_LOGIN_USERNAME         = Region(466, 279, 148, 23)\\r\\nSHELLUI_LOGIN_PASSWORD         = Region(317, 298, 1, 42)\\r\\nSHELLUI_LOGIN_LOGIN            = Region(386, 373, 80, 45)\\r\\nSHELLUI_SYSTEM                 = Region(326, 264, 6, 6)\\r\\nSHELLUI_SYSTEMMENU_TOOLS       = Region(581, 88, 84, 37)\\r\\nSHELLUI_SYSTEMTOOLS_REBOOT     = Region(440, 318, 90, 39)\\r\\nSHELLUI_CONFIG                 = Region(198, 3, 152, 276)\\r\\nSHELLUI_CONFIGMENU_CALIBRATION = Region(203, 96, 61, 70)\\r\\nSHELLUI_CALIBRATE_MFC          = Region(784, 88, 72, 34)\\r\\nSHELLUI_ABOUT                  = Region(587, 6, 125, 48)\\r\\nAUTH_SBRIO_PASSWORD            = Region(363, 323, 128, 12)\\r\\nAUTH_SBRIO_RUN                 = Region(281, 215, 17, 18)\\r\\nAUTH_SBRIO_CLOSE               = Region(519, 151, 162, 3)\\r\\nNI_REGISTER_USERNAME           = Region(478, 366, 219, 15)\\r\\nNI_REGISTER_PASSWORD           = Region(480, 401, 223, 21)\\r\\nNI_REGISTER_NEXT               = Region(566, 502, 66, 16)'"
   ]
  },
  {
   "cell_type": "code",
   "execution_count": 7,
   "metadata": {},
   "outputs": [
    {
     "data": {
      "text/plain": [
       "('WEBUI_NUMPAD1', '         ', '= Region(', '472', '180', '256', '62')"
      ]
     },
     "execution_count": 7,
     "metadata": {},
     "output_type": "execute_result"
    }
   ],
   "source": [
    "lines = s.splitlines()\n",
    "pattern = re.compile(r\"(.*?)(\\s+)(\\= Region\\()(\\d+)\\, (\\d+)\\, (\\d+)\\, (\\d+)\\)\")\n",
    "pattern.match(lines[0]).groups()"
   ]
  },
  {
   "cell_type": "code",
   "execution_count": null,
   "metadata": {},
   "outputs": [],
   "source": [
    "lines2 = []\n",
    "for l in lines:\n",
    "    name, space, region, x, y, w, h = pattern.match(l).groups()\n",
    "    x = int(x)\n",
    "    y = int(y)\n",
    "    w = int(w)\n",
    "    h = int(h)\n",
    "    x -= w\n",
    "    y -= h\n",
    "    l2 = \"\""
   ]
  },
  {
   "cell_type": "code",
   "execution_count": 6,
   "metadata": {},
   "outputs": [
    {
     "data": {
      "text/plain": [
       "[\"    'A':0x41,\",\n",
       " \"    'B':0x42,\",\n",
       " \"    'C':0x43,\",\n",
       " \"    'D':0x44,\",\n",
       " \"    'E':0x45,\",\n",
       " \"    'F':0x46,\",\n",
       " \"    'G':0x47,\",\n",
       " \"    'H':0x48,\",\n",
       " \"    'I':0x49,\",\n",
       " \"    'J':0x4A,\",\n",
       " \"    'K':0x4B,\",\n",
       " \"    'L':0x4C,\",\n",
       " \"    'M':0x4D,\",\n",
       " \"    'N':0x4E,\",\n",
       " \"    'O':0x4F,\",\n",
       " \"    'P':0x50,\",\n",
       " \"    'Q':0x51,\",\n",
       " \"    'R':0x52,\",\n",
       " \"    'S':0x53,\",\n",
       " \"    'T':0x54,\",\n",
       " \"    'U':0x55,\",\n",
       " \"    'V':0x56,\",\n",
       " \"    'W':0x57,\",\n",
       " \"    'X':0x58,\",\n",
       " \"    'Y':0x59,\",\n",
       " \"    'Z':0x5A,\"]"
      ]
     },
     "execution_count": 6,
     "metadata": {},
     "output_type": "execute_result"
    }
   ],
   "source": [
    "from clipboard import copy,paste\n",
    "s = paste()\n",
    "s.splitlines()"
   ]
  },
  {
   "cell_type": "code",
   "execution_count": 11,
   "metadata": {},
   "outputs": [
    {
     "name": "stdout",
     "output_type": "stream",
     "text": [
      "    'A': _VK_LOWER['a'],\n",
      "    'B': _VK_LOWER['b'],\n",
      "    'C': _VK_LOWER['c'],\n",
      "    'D': _VK_LOWER['d'],\n",
      "    'E': _VK_LOWER['e'],\n",
      "    'F': _VK_LOWER['f'],\n",
      "    'G': _VK_LOWER['g'],\n",
      "    'H': _VK_LOWER['h'],\n",
      "    'I': _VK_LOWER['i'],\n",
      "    'J': _VK_LOWER['j'],\n",
      "    'K': _VK_LOWER['k'],\n",
      "    'L': _VK_LOWER['l'],\n",
      "    'M': _VK_LOWER['m'],\n",
      "    'N': _VK_LOWER['n'],\n",
      "    'O': _VK_LOWER['o'],\n",
      "    'P': _VK_LOWER['p'],\n",
      "    'Q': _VK_LOWER['q'],\n",
      "    'R': _VK_LOWER['r'],\n",
      "    'S': _VK_LOWER['s'],\n",
      "    'T': _VK_LOWER['t'],\n",
      "    'U': _VK_LOWER['u'],\n",
      "    'V': _VK_LOWER['v'],\n",
      "    'W': _VK_LOWER['w'],\n",
      "    'X': _VK_LOWER['x'],\n",
      "    'Y': _VK_LOWER['y'],\n",
      "    'Z': _VK_LOWER['z'],\n"
     ]
    }
   ],
   "source": [
    "out = []\n",
    "for l in s.splitlines():\n",
    "    a,b = l.split(\":\")\n",
    "    char = eval(a.strip())\n",
    "    out.append(\"    %r: _VK_LOWER[%r],\"%(char, char.lower()))\n",
    "print(\"\\n\".join(out))"
   ]
  },
  {
   "cell_type": "code",
   "execution_count": null,
   "metadata": {},
   "outputs": [],
   "source": []
  }
 ],
 "metadata": {
  "kernelspec": {
   "display_name": "Python 3",
   "language": "python",
   "name": "python3"
  },
  "language_info": {
   "codemirror_mode": {
    "name": "ipython",
    "version": 3
   },
   "file_extension": ".py",
   "mimetype": "text/x-python",
   "name": "python",
   "nbconvert_exporter": "python",
   "pygments_lexer": "ipython3",
   "version": "3.5.2"
  }
 },
 "nbformat": 4,
 "nbformat_minor": 2
}
