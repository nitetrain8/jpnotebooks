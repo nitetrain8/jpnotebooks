{
 "cells": [
  {
   "cell_type": "code",
   "execution_count": 1,
   "metadata": {},
   "outputs": [],
   "source": [
    "import zipfile, os\n",
    "\n",
    "def update(public, lvws):\n",
    "    \"\"\" Updates the labview webservice file 'lvws' using the \n",
    "    public content folder 'public'. No sanity checking - \n",
    "    just don't fuck up :)\n",
    "    \"\"\"\n",
    "    with zipfile.ZipFile(lvws, 'r') as old:\n",
    "        with zipfile.ZipFile(lvws+\".new\", 'w') as new:\n",
    "            for file in old.namelist():\n",
    "                if not file.lower().startswith(\"public/\"):\n",
    "                    new.writestr(file, old.read(file))\n",
    "            for d, _, files in os.walk(public):\n",
    "                for file in files:\n",
    "                    ffp = os.path.join(d,file)\n",
    "                    rel = os.path.relpath(ffp, public)\n",
    "                    out = os.path.join(\"Public\", rel)\n",
    "                    with open(ffp, 'rb') as f:\n",
    "                        new.writestr(out, f.read())\n",
    "    \n",
    "    bak = lvws+\".bak\"\n",
    "    try:\n",
    "        os.remove(bak)\n",
    "    except FileNotFoundError:\n",
    "        pass\n",
    "    os.rename(lvws, bak)\n",
    "    os.rename(lvws+\".new\", lvws)\n",
    "    "
   ]
  },
  {
   "cell_type": "code",
   "execution_count": 3,
   "metadata": {},
   "outputs": [],
   "source": [
    "ws = \"C:\\\\Users\\\\Nathan\\\\Documents\\\\PBS\\\\Software engineering\\\\webservice.lvws\"\n",
    "public = \"C:\\\\Users\\\\Nathan\\\\Documents\\\\PBS\\\\Software engineering\\\\uidev_311_dualsens\\\\public\"\n",
    "update(public, ws)"
   ]
  },
  {
   "cell_type": "code",
   "execution_count": null,
   "metadata": {},
   "outputs": [],
   "source": []
  }
 ],
 "metadata": {
  "kernelspec": {
   "display_name": "Python 3",
   "language": "python",
   "name": "python3"
  },
  "language_info": {
   "codemirror_mode": {
    "name": "ipython",
    "version": 3
   },
   "file_extension": ".py",
   "mimetype": "text/x-python",
   "name": "python",
   "nbconvert_exporter": "python",
   "pygments_lexer": "ipython3",
   "version": "3.5.2"
  }
 },
 "nbformat": 4,
 "nbformat_minor": 2
}
