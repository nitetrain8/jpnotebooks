{
 "cells": [
  {
   "cell_type": "code",
   "execution_count": 12,
   "metadata": {},
   "outputs": [],
   "source": [
    "import zipfile, os, subprocess, contextlib\n",
    "\n",
    "def update(public, lvws):\n",
    "    \"\"\" Updates the labview webservice file 'lvws' using the \n",
    "    public content folder 'public'. No sanity checking - \n",
    "    just don't fuck up :)\n",
    "    \"\"\"\n",
    "    with zipfile.ZipFile(lvws, 'r') as old:\n",
    "        with zipfile.ZipFile(lvws+\".new\", 'w') as new:\n",
    "            for file in old.namelist():\n",
    "                if not file.lower().startswith(\"public/\"):\n",
    "                    new.writestr(file, old.read(file))\n",
    "            for d, _, files in os.walk(public):\n",
    "                for file in files:\n",
    "                    ffp = os.path.join(d,file)\n",
    "                    rel = os.path.relpath(ffp, public)\n",
    "                    out = os.path.join(\"Public\", rel)\n",
    "                    with open(ffp, 'rb') as f:\n",
    "                        new.writestr(out, f.read())\n",
    "    \n",
    "    bak = lvws+\".bak\"\n",
    "    try:\n",
    "        os.remove(bak)\n",
    "    except FileNotFoundError:\n",
    "        pass\n",
    "    os.rename(lvws, bak)\n",
    "    os.rename(lvws+\".new\", lvws)\n",
    "    \n",
    "@contextlib.contextmanager\n",
    "def tchdir(new):\n",
    "    old = os.path.abspath(\".\")\n",
    "    os.chdir(new)\n",
    "    try:\n",
    "        yield\n",
    "    finally:\n",
    "        os.chdir(old)\n",
    "\n",
    "def build(bdir):\n",
    "    # move to the builds dir and run ant\n",
    "    # throw an error if the build fails\n",
    "    with tchdir(bdir):\n",
    "        subprocess.check_call(\"ant\", shell=True)\n",
    "    "
   ]
  },
  {
   "cell_type": "code",
   "execution_count": 13,
   "metadata": {},
   "outputs": [],
   "source": [
    "sweng = os.path.expanduser(\"~\\\\documents\\\\pbs\\\\software engineering\")\n",
    "\n",
    "ws = os.path.join(sweng, \"webservice.lvws\")\n",
    "repo = os.path.join(sweng, \"uidev_dualsens\")\n",
    "\n",
    "public = os.path.join(repo, \"public\")\n",
    "builds = os.path.join(repo, \"build\")\n",
    "\n",
    "build(builds)\n",
    "update(public, ws)"
   ]
  },
  {
   "cell_type": "code",
   "execution_count": null,
   "metadata": {},
   "outputs": [],
   "source": []
  }
 ],
 "metadata": {
  "kernelspec": {
   "display_name": "Python 3",
   "language": "python",
   "name": "python3"
  },
  "language_info": {
   "codemirror_mode": {
    "name": "ipython",
    "version": 3
   },
   "file_extension": ".py",
   "mimetype": "text/x-python",
   "name": "python",
   "nbconvert_exporter": "python",
   "pygments_lexer": "ipython3",
   "version": "3.8.2"
  }
 },
 "nbformat": 4,
 "nbformat_minor": 2
}
