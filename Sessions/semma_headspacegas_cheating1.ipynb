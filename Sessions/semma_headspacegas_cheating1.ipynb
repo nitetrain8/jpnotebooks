{
 "cells": [
  {
   "cell_type": "code",
   "execution_count": 1,
   "metadata": {},
   "outputs": [],
   "source": [
    "from officelib.xllib import *\n",
    "import numpy as np"
   ]
  },
  {
   "cell_type": "code",
   "execution_count": 5,
   "metadata": {},
   "outputs": [],
   "source": [
    "xl = Excel()\n",
    "wb = xl.RecentFiles(1).Open()\n",
    "ws = wb.Worksheets(2)\n",
    "cells = ws.Cells\n",
    "cr = cells.Range"
   ]
  },
  {
   "cell_type": "code",
   "execution_count": 16,
   "metadata": {},
   "outputs": [],
   "source": [
    "def gdata(addr):\n",
    "    c1 = cr(addr)\n",
    "    c2 = c1.End(xlc.xlDown).GetOffset(0, 1)\n",
    "    data = cr(c1, c2).Value2\n",
    "    return list(zip(*data))"
   ]
  },
  {
   "cell_type": "code",
   "execution_count": 17,
   "metadata": {},
   "outputs": [],
   "source": [
    "n2x, n2y = gdata(\"A2\")\n",
    "o2x, o2y = gdata(\"D2\")\n",
    "co2x, co2y = gdata(\"G2\")"
   ]
  },
  {
   "cell_type": "code",
   "execution_count": 39,
   "metadata": {},
   "outputs": [],
   "source": [
    "xx = np.sort(np.unique(n2x + o2x + co2x))"
   ]
  },
  {
   "cell_type": "code",
   "execution_count": 40,
   "metadata": {},
   "outputs": [],
   "source": [
    "n2d = np.interp(xx, n2x, n2y)\n",
    "o2d = np.interp(xx, o2x, o2y)\n",
    "co2d = np.interp(xx, co2x, co2y)"
   ]
  },
  {
   "cell_type": "code",
   "execution_count": 41,
   "metadata": {},
   "outputs": [],
   "source": [
    "def d2xl(x,y):\n",
    "    return list(zip(x,y))"
   ]
  },
  {
   "cell_type": "code",
   "execution_count": 42,
   "metadata": {},
   "outputs": [],
   "source": [
    "xldata = [(float(a), float(b), float(c), float(d)) for a,b,c,d in zip(xx, n2d, o2d, co2d)]"
   ]
  },
  {
   "cell_type": "code",
   "execution_count": 43,
   "metadata": {},
   "outputs": [],
   "source": [
    "ws2 = wb.Worksheets(\"Sheet2\")\n",
    "cells2 = ws2.Cells\n",
    "cr2 = cells2.Range"
   ]
  },
  {
   "cell_type": "code",
   "execution_count": 44,
   "metadata": {},
   "outputs": [],
   "source": [
    "cr2(\"A1:D1\").Value = [(\"Elapsed(hr)\", \"N2 Flow (%)\", \"O2 Flow (%)\", \"CO2 Flow (%)\")]\n",
    "c1 = cr2(\"A2\")\n",
    "c2 = c1.GetOffset(len(xldata)-1, len(xldata[0])-1)\n",
    "cr2(c1, c2).Value2 = xldata"
   ]
  },
  {
   "cell_type": "code",
   "execution_count": 52,
   "metadata": {},
   "outputs": [],
   "source": [
    "with screen_lock(xl):\n",
    "    for co in ws2.ChartObjects():\n",
    "        c = co.Chart\n",
    "        for s in c.SeriesCollection():\n",
    "            s.MarkerSize=4"
   ]
  },
  {
   "cell_type": "code",
   "execution_count": null,
   "metadata": {},
   "outputs": [],
   "source": []
  }
 ],
 "metadata": {
  "kernelspec": {
   "display_name": "Python 3",
   "language": "python",
   "name": "python3"
  },
  "language_info": {
   "codemirror_mode": {
    "name": "ipython",
    "version": 3
   },
   "file_extension": ".py",
   "mimetype": "text/x-python",
   "name": "python",
   "nbconvert_exporter": "python",
   "pygments_lexer": "ipython3",
   "version": "3.5.2"
  }
 },
 "nbformat": 4,
 "nbformat_minor": 2
}
