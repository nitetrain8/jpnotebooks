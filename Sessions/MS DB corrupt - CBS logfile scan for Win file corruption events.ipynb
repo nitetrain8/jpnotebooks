{
 "cells": [
  {
   "cell_type": "code",
   "execution_count": 16,
   "metadata": {},
   "outputs": [],
   "source": [
    "fp = \"D://CBS.log\"\n",
    "cl = []\n",
    "with open(fp, 'r') as f:\n",
    "    for line in f:\n",
    "        if \"[sr]\" in line.lower():\n",
    "            if \"Beginning Verify and Repair transaction\" in line:\n",
    "                continue\n",
    "            if \"Verify complete\\n\" in line:\n",
    "                continue\n",
    "            if \"Verifying 100 (0x000\" in line:\n",
    "                continue\n",
    "            cl.append(line)"
   ]
  },
  {
   "cell_type": "code",
   "execution_count": 17,
   "metadata": {},
   "outputs": [
    {
     "data": {
      "text/plain": [
       "['2019-12-27 14:11:16, Info                  CSI    00000058 [SR] Repairing corrupted file [ml:520{260},l:74{37}]\"\\\\??\\\\C:\\\\Windows\\\\system32\\\\drivers\\\\en-US\"\\\\[l:30{15}]\"usbport.sys.mui\" from store\\n',\n",
       " '2019-12-27 14:11:16, Info                  CSI    0000005a [SR] Repairing corrupted file [ml:520{260},l:74{37}]\"\\\\??\\\\C:\\\\Windows\\\\system32\\\\drivers\\\\en-US\"\\\\[l:28{14}]\"usbhub.sys.mui\" from store\\n',\n",
       " '2019-12-27 14:13:06, Info                  CSI    000000a7 [SR] Repairing corrupted file [ml:520{260},l:60{30}]\"\\\\??\\\\C:\\\\Windows\\\\Boot\\\\PCAT\\\\en-US\"\\\\[l:30{15}]\"bootmgr.exe.mui\" from store\\n',\n",
       " '2019-12-27 14:18:23, Info                  CSI    00000151 [SR] Cannot repair member file [l:16{8}]\"img0.jpg\" of Microsoft-Windows-Shell-Wallpaper-Windows, Version = 7.1.7600.16385, pA = PROCESSOR_ARCHITECTURE_INTEL (0), Culture neutral, VersionScope = 1 nonSxS, PublicKeyToken = {l:8 b:31bf3856ad364e35}, Type neutral, TypeName neutral, PublicKey neutral in the store, hash mismatch\\n',\n",
       " '2019-12-27 14:18:26, Info                  CSI    00000153 [SR] Cannot repair member file [l:16{8}]\"img0.jpg\" of Microsoft-Windows-Shell-Wallpaper-Windows, Version = 7.1.7600.16385, pA = PROCESSOR_ARCHITECTURE_INTEL (0), Culture neutral, VersionScope = 1 nonSxS, PublicKeyToken = {l:8 b:31bf3856ad364e35}, Type neutral, TypeName neutral, PublicKey neutral in the store, hash mismatch\\n',\n",
       " '2019-12-27 14:18:26, Info                  CSI    00000154 [SR] This component was referenced by [l:162{81}]\"WinEmb-Shell-Basic~31bf3856ad364e35~x86~~6.1.7601.17514.WinEmb-Shell-Basic-Update\"\\n',\n",
       " '2019-12-27 14:18:26, Info                  CSI    00000157 [SR] Could not reproject corrupted file [ml:520{260},l:72{36}]\"\\\\??\\\\C:\\\\Windows\\\\Web\\\\Wallpaper\\\\Windows\"\\\\[l:16{8}]\"img0.jpg\"; source file in store is also corrupted\\n',\n",
       " '2019-12-27 14:22:40, Info                  CSI    000001cd [SR] Verifying 31 (0x0000001f) components\\n',\n",
       " '2019-12-27 14:22:42, Info                  CSI    000001d1 [SR] Repairing 3 components\\n',\n",
       " '2019-12-27 14:22:42, Info                  CSI    000001d4 [SR] Cannot repair member file [l:16{8}]\"img0.jpg\" of Microsoft-Windows-Shell-Wallpaper-Windows, Version = 7.1.7600.16385, pA = PROCESSOR_ARCHITECTURE_INTEL (0), Culture neutral, VersionScope = 1 nonSxS, PublicKeyToken = {l:8 b:31bf3856ad364e35}, Type neutral, TypeName neutral, PublicKey neutral in the store, hash mismatch\\n',\n",
       " '2019-12-27 14:22:42, Info                  CSI    000001d6 [SR] Repairing corrupted file [ml:520{260},l:74{37}]\"\\\\??\\\\C:\\\\Windows\\\\system32\\\\drivers\\\\en-US\"\\\\[l:30{15}]\"usbport.sys.mui\" from store\\n',\n",
       " '2019-12-27 14:22:42, Info                  CSI    000001d8 [SR] Repairing corrupted file [ml:520{260},l:74{37}]\"\\\\??\\\\C:\\\\Windows\\\\system32\\\\drivers\\\\en-US\"\\\\[l:28{14}]\"usbhub.sys.mui\" from store\\n',\n",
       " '2019-12-27 14:22:43, Info                  CSI    000001dc [SR] Repairing corrupted file [ml:520{260},l:60{30}]\"\\\\??\\\\C:\\\\Windows\\\\Boot\\\\PCAT\\\\en-US\"\\\\[l:30{15}]\"bootmgr.exe.mui\" from store\\n',\n",
       " '2019-12-27 14:22:43, Info                  CSI    000001df [SR] Cannot repair member file [l:16{8}]\"img0.jpg\" of Microsoft-Windows-Shell-Wallpaper-Windows, Version = 7.1.7600.16385, pA = PROCESSOR_ARCHITECTURE_INTEL (0), Culture neutral, VersionScope = 1 nonSxS, PublicKeyToken = {l:8 b:31bf3856ad364e35}, Type neutral, TypeName neutral, PublicKey neutral in the store, hash mismatch\\n',\n",
       " '2019-12-27 14:22:43, Info                  CSI    000001e0 [SR] This component was referenced by [l:162{81}]\"WinEmb-Shell-Basic~31bf3856ad364e35~x86~~6.1.7601.17514.WinEmb-Shell-Basic-Update\"\\n',\n",
       " '2019-12-27 14:22:43, Info                  CSI    000001e3 [SR] Could not reproject corrupted file [ml:520{260},l:72{36}]\"\\\\??\\\\C:\\\\Windows\\\\Web\\\\Wallpaper\\\\Windows\"\\\\[l:16{8}]\"img0.jpg\"; source file in store is also corrupted\\n',\n",
       " '2019-12-27 14:22:43, Info                  CSI    000001e5 [SR] Repair complete\\n',\n",
       " '2019-12-27 14:22:43, Info                  CSI    000001e6 [SR] Committing transaction\\n',\n",
       " '2019-12-27 14:22:43, Info                  CSI    000001ea [SR] Verify and Repair Transaction completed. All files and registry keys listed in this transaction  have been successfully repaired\\n']"
      ]
     },
     "execution_count": 17,
     "metadata": {},
     "output_type": "execute_result"
    }
   ],
   "source": [
    "cl"
   ]
  },
  {
   "cell_type": "code",
   "execution_count": 3,
   "metadata": {},
   "outputs": [
    {
     "name": "stdout",
     "output_type": "stream",
     "text": [
      "2019-12-27 14:11:16, Info                  CSI    00000058 [SR] Repairing corrupted file [ml:520{260},l:74{37}]\"\\??\\C:\\Windows\\system32\\drivers\\en-US\"\\[l:30{15}]\"usbport.sys.mui\" from store\n",
      "\n",
      "2019-12-27 14:11:16, Info                  CSI    0000005a [SR] Repairing corrupted file [ml:520{260},l:74{37}]\"\\??\\C:\\Windows\\system32\\drivers\\en-US\"\\[l:28{14}]\"usbhub.sys.mui\" from store\n",
      "\n",
      "2019-12-27 14:13:06, Info                  CSI    000000a7 [SR] Repairing corrupted file [ml:520{260},l:60{30}]\"\\??\\C:\\Windows\\Boot\\PCAT\\en-US\"\\[l:30{15}]\"bootmgr.exe.mui\" from store\n",
      "\n",
      "2019-12-27 14:18:26, Info                  CSI    00000157 [SR] Could not reproject corrupted file [ml:520{260},l:72{36}]\"\\??\\C:\\Windows\\Web\\Wallpaper\\Windows\"\\[l:16{8}]\"img0.jpg\"; source file in store is also corrupted\n",
      "\n",
      "2019-12-27 14:22:42, Info                  CSI    000001d6 [SR] Repairing corrupted file [ml:520{260},l:74{37}]\"\\??\\C:\\Windows\\system32\\drivers\\en-US\"\\[l:30{15}]\"usbport.sys.mui\" from store\n",
      "\n",
      "2019-12-27 14:22:42, Info                  CSI    000001d8 [SR] Repairing corrupted file [ml:520{260},l:74{37}]\"\\??\\C:\\Windows\\system32\\drivers\\en-US\"\\[l:28{14}]\"usbhub.sys.mui\" from store\n",
      "\n",
      "2019-12-27 14:22:43, Info                  CSI    000001dc [SR] Repairing corrupted file [ml:520{260},l:60{30}]\"\\??\\C:\\Windows\\Boot\\PCAT\\en-US\"\\[l:30{15}]\"bootmgr.exe.mui\" from store\n",
      "\n",
      "2019-12-27 14:22:43, Info                  CSI    000001e3 [SR] Could not reproject corrupted file [ml:520{260},l:72{36}]\"\\??\\C:\\Windows\\Web\\Wallpaper\\Windows\"\\[l:16{8}]\"img0.jpg\"; source file in store is also corrupted\n",
      "\n"
     ]
    }
   ],
   "source": [
    "for line in cl:\n",
    "    print(line)"
   ]
  },
  {
   "cell_type": "code",
   "execution_count": 9,
   "metadata": {},
   "outputs": [
    {
     "data": {
      "text/plain": [
       "'    00000058 [SR] Repairing corrupted file [ml:520{260},l:74{37}]\"\\\\??\\\\C:\\\\Windows\\\\system32\\\\drivers\\\\en-US\"\\\\[l:30{15}]\"usbport.sys.mui\" from store\\n'"
      ]
     },
     "execution_count": 9,
     "metadata": {},
     "output_type": "execute_result"
    }
   ],
   "source": [
    "cl[0].split('CSI')[1]"
   ]
  },
  {
   "cell_type": "code",
   "execution_count": null,
   "metadata": {},
   "outputs": [],
   "source": []
  }
 ],
 "metadata": {
  "kernelspec": {
   "display_name": "Python 3",
   "language": "python",
   "name": "python3"
  },
  "language_info": {
   "codemirror_mode": {
    "name": "ipython",
    "version": 3
   },
   "file_extension": ".py",
   "mimetype": "text/x-python",
   "name": "python",
   "nbconvert_exporter": "python",
   "pygments_lexer": "ipython3",
   "version": "3.5.2"
  }
 },
 "nbformat": 4,
 "nbformat_minor": 2
}
