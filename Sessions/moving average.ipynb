{
 "cells": [
  {
   "cell_type": "code",
   "execution_count": 9,
   "metadata": {},
   "outputs": [],
   "source": [
    "class MovingAverage():\n",
    "    def __init__(self, pts):\n",
    "        self._pts = [0]*pts\n",
    "        self._npts = pts\n",
    "        self._cur = 0\n",
    "        self._sum = 0\n",
    "        \n",
    "    def add(self, pt):\n",
    "        cp = self._pts[self._cur]\n",
    "        self._pts[self._cur] = pt\n",
    "        self._inc()\n",
    "        self._sum = self._sum + pt - cp\n",
    "    \n",
    "    def _inc(self):\n",
    "        self._cur += 1\n",
    "        if self._cur >= self._npts:\n",
    "            self._cur = 0\n",
    "            \n",
    "    def ave(self):\n",
    "        return self._sum / self._npts\n",
    "    \n",
    "    def process(self, pt):\n",
    "        self.add(pt)\n",
    "        return self.ave()\n",
    "    \n",
    "    "
   ]
  },
  {
   "cell_type": "code",
   "execution_count": 23,
   "metadata": {},
   "outputs": [],
   "source": []
  },
  {
   "cell_type": "code",
   "execution_count": 27,
   "metadata": {},
   "outputs": [
    {
     "name": "stdout",
     "output_type": "stream",
     "text": [
      "0.0 0.0 [0, 0, 0] [0, 0, 0]\n",
      "0.3333333333333333 0.3333333333333333 [0, 1, 0] [1, 0, 0]\n",
      "1.0 0.6666666666666666 [0, 1, 2] [2, 0, 0]\n",
      "2.0 1.0 [3, 1, 2] [3, 0, 0]\n",
      "3.0 1.3333333333333333 [3, 4, 2] [4, 0, 0]\n",
      "4.0 1.6666666666666667 [3, 4, 5] [5, 0, 0]\n",
      "5.0 2.0 [6, 4, 5] [6, 0, 0]\n",
      "6.0 2.3333333333333335 [6, 7, 5] [7, 0, 0]\n",
      "7.0 2.6666666666666665 [6, 7, 8] [8, 0, 0]\n",
      "8.0 3.0 [9, 7, 8] [9, 0, 0]\n",
      "9.0 3.3333333333333335 [9, 10, 8] [10, 0, 0]\n",
      "10.0 3.6666666666666665 [9, 10, 11] [11, 0, 0]\n",
      "11.0 4.0 [12, 10, 11] [12, 0, 0]\n",
      "12.0 4.333333333333333 [12, 13, 11] [13, 0, 0]\n",
      "13.0 4.666666666666667 [12, 13, 14] [14, 0, 0]\n",
      "14.0 5.0 [15, 13, 14] [15, 0, 0]\n",
      "15.0 5.333333333333333 [15, 16, 14] [16, 0, 0]\n",
      "16.0 5.666666666666667 [15, 16, 17] [17, 0, 0]\n",
      "17.0 6.0 [18, 16, 17] [18, 0, 0]\n",
      "18.0 6.333333333333333 [18, 19, 17] [19, 0, 0]\n"
     ]
    }
   ],
   "source": [
    "from time import sleep\n",
    "ma = MovingAverage(3)\n",
    "l = [0]*23\n",
    "for i, n in enumerate(range(20)):\n",
    "    l[i] = n\n",
    "    print(ma.process(n), sum(l[i:i+3])/3, ma._pts, l[i:i+3])\n",
    "    "
   ]
  },
  {
   "cell_type": "code",
   "execution_count": null,
   "metadata": {},
   "outputs": [],
   "source": []
  }
 ],
 "metadata": {
  "kernelspec": {
   "display_name": "Python 3",
   "language": "python",
   "name": "python3"
  },
  "language_info": {
   "codemirror_mode": {
    "name": "ipython",
    "version": 3
   },
   "file_extension": ".py",
   "mimetype": "text/x-python",
   "name": "python",
   "nbconvert_exporter": "python",
   "pygments_lexer": "ipython3",
   "version": "3.5.2"
  }
 },
 "nbformat": 4,
 "nbformat_minor": 2
}
