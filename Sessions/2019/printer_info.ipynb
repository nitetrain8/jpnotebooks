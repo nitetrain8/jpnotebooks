{
 "cells": [
  {
   "cell_type": "code",
   "execution_count": 8,
   "metadata": {},
   "outputs": [
    {
     "name": "stdout",
     "output_type": "stream",
     "text": [
      "Brother HL-L2340D series\t\n",
      "Xerox WorkCentre 6605DN\tDC_PERSONALITY ()\n",
      "OneNote\tDC_PERSONALITY ()\n",
      "Microsoft XPS Document Writer\tDC_PERSONALITY ()\n",
      "Microsoft Print to PDF\tDC_PERSONALITY ()\n",
      "HPC325D6 (HP Officejet Pro 8600)\tDC_PERSONALITY ()\n",
      "HP3CAA04 (HP Officejet 4500 G510n-z)\tDC_PERSONALITY ()\n",
      "HP Officejet Pro 8600 Class Driver\tDC_PERSONALITY ()\n",
      "Fax\t\n",
      "EPSONB9893D (WF-3720 Series)\tDC_PERSONALITY ()\n",
      "EPSON44D42D (WF-3640 Series)\tDC_PERSONALITY ()\n",
      "Brother HL-L2350DW series Printer\tDC_PERSONALITY ()\n",
      "Brother HL-L2340D series Printer\t\n"
     ]
    }
   ],
   "source": [
    "import win32print\n",
    "from win32con import *\n",
    "\n",
    "DC_CONSTANTS = [\n",
    "    DC_BINNAMES, DC_BINS, DC_COLLATE, DC_COLORDEVICE, DC_COPIES, DC_DRIVER,\n",
    "    DC_DUPLEX, DC_ENUMRESOLUTIONS, DC_EXTRA, DC_FIELDS,\n",
    "    DC_FILEDEPENDENCIES, DC_MAXEXTENT, DC_MEDIAREADY, DC_MEDIATYPENAMES,\n",
    "    DC_MEDIATYPES, DC_MINEXTENT, DC_ORIENTATION, DC_NUP, DC_PAPERNAMES,\n",
    "    DC_PAPERS, DC_PAPERSIZE, DC_PERSONALITY, DC_PRINTERMEM, DC_PRINTRATE, DC_PRINTRATEPPM,\n",
    "    DC_PRINTRATEUNIT, DC_SIZE, DC_STAPLE, DC_TRUETYPE, DC_VERSION,\n",
    "]\n",
    "\n",
    "\n",
    "def DC_INFO(constant):\n",
    "    for a_global in globals().keys():\n",
    "        if a_global.startswith(\"DC_\") and globals().get(a_global) == constant:\n",
    "            return a_global\n",
    "    return \"DC_UNKONWN\"\n",
    "\n",
    "\n",
    "for printer in win32print.EnumPrinters(win32print.PRINTER_ENUM_LOCAL | win32print.PRINTER_ENUM_CONNECTIONS):\n",
    "    print(printer[2], end=\"\\t\")\n",
    "    try:\n",
    "        x = win32print.DeviceCapabilities(printer[2], '', DC_PERSONALITY)\n",
    "        print(\"DC_PERSONALITY\", x)\n",
    "    except Exception:\n",
    "        print()\n",
    "        pass\n",
    "#     for constant in DC_CONSTANTS:\n",
    "#         try:\n",
    "#             x = win32print.DeviceCapabilities(printer[2], '', constant)\n",
    "#             print(\"\\t\", DC_INFO(constant), x)\n",
    "#         except:\n",
    "#             pass"
   ]
  },
  {
   "cell_type": "code",
   "execution_count": 2,
   "metadata": {},
   "outputs": [],
   "source": [
    "win32print.DeviceCapabilities?"
   ]
  },
  {
   "cell_type": "code",
   "execution_count": null,
   "metadata": {},
   "outputs": [],
   "source": []
  }
 ],
 "metadata": {
  "kernelspec": {
   "display_name": "Python 3",
   "language": "python",
   "name": "python3"
  },
  "language_info": {
   "codemirror_mode": {
    "name": "ipython",
    "version": 3
   },
   "file_extension": ".py",
   "mimetype": "text/x-python",
   "name": "python",
   "nbconvert_exporter": "python",
   "pygments_lexer": "ipython3",
   "version": "3.5.2"
  }
 },
 "nbformat": 4,
 "nbformat_minor": 2
}
