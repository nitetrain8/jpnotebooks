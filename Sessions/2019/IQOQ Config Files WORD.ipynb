{
 "cells": [
  {
   "cell_type": "code",
   "execution_count": 1,
   "metadata": {},
   "outputs": [],
   "source": [
    "from officelib.wordlib import Word, wdc"
   ]
  },
  {
   "cell_type": "code",
   "execution_count": 3,
   "metadata": {},
   "outputs": [],
   "source": [
    "# verify for IS00043 Rev E logger settings are correct\n",
    "try:\n",
    "    del w\n",
    "except NameError:\n",
    "    pass\n",
    "w = Word()\n",
    "d = w.RecentFiles(1).Open()  # IS00043 Rev E"
   ]
  },
  {
   "cell_type": "code",
   "execution_count": 4,
   "metadata": {},
   "outputs": [],
   "source": [
    "# manually select logger table\n",
    "t = w.Selection.Tables(1)"
   ]
  },
  {
   "cell_type": "code",
   "execution_count": 14,
   "metadata": {},
   "outputs": [],
   "source": [
    "# IM00226 Logging On \n",
    "import clipboard\n",
    "clipboard.copy(repr(clipboard.paste()))"
   ]
  },
  {
   "cell_type": "code",
   "execution_count": 13,
   "metadata": {},
   "outputs": [
    {
     "name": "stdout",
     "output_type": "stream",
     "text": [
      "Scaning line 421...         "
     ]
    }
   ],
   "source": [
    "refp = '\\\\\\\\pbsstation\\\\pbsicmi\\\\Documents\\\\Manufacturing\\\\Mfg Released\\\\IM\\\\IM00226\\\\IM00226 Rev G\\\\USB\\\\Install\\\\PBS Biotech Desktop\\\\1 Install RIO\\\\IA-3-B-7xx\\\\Config\\\\LabVIEW Data\\\\Logging On.log'\n",
    "with open(refp, 'r') as f:\n",
    "    f.readline()  # header\n",
    "    lines = f.read().splitlines()\n",
    "tbl = [line.split(\"\\t\") for line in lines]\n",
    "itbl = iter(tbl)\n",
    "for i, r in enumerate(t.Rows):\n",
    "    if i == 0: continue\n",
    "    if \"Comments\" in r.Range.Text:\n",
    "        break\n",
    "\n",
    "    var = r.Cells(1).Range.Text.strip(\"\\r\\x07\")\n",
    "    db = r.Cells(2).Range.Text.strip(\"\\r\\x07\")\n",
    "    tf = r.Cells(3).Range.Text.strip(\"\\r\\x07\")\n",
    "    xvar, xdb, xtf, _ = next(itbl)\n",
    "    if var != xvar or db != xdb or tf != xtf:\n",
    "        print(\"\\nmismatch: %r %r %r != %r %r %r\" % (var, db, tf, xvar, xdb, xtf))\n",
    "    print(\"\\rScaning line %d...         \"%(i+1), end=\"\")"
   ]
  },
  {
   "cell_type": "code",
   "execution_count": 15,
   "metadata": {},
   "outputs": [],
   "source": [
    "# verify new IS00044 custom cfg file for temp verification has all the right variables\n",
    "tvfp = 'C:\\\\Users\\\\Nathan\\\\Documents\\\\PBS\\\\WIP procedures-reports\\\\IQOQ cfg file update\\\\Rev E (spaz)\\\\IS00044\\\\IS00044 Rev E - Config Files\\\\Mag 03 v3.0.8\\\\OQ - Temp Verification.log'\n",
    "with open(tvfp, 'r') as f:\n",
    "    f.readline() \n",
    "    lines2 = f.read().splitlines()\n",
    "tbl2 = [line.split(\"\\t\") for line in lines2]\n",
    "for (a,b,c,d), (e, f, g, h) in zip(tbl, tbl2):\n",
    "    if a != e:\n",
    "        print(\"mismatch: %s != %s\"%(a, e))"
   ]
  },
  {
   "cell_type": "code",
   "execution_count": null,
   "metadata": {},
   "outputs": [],
   "source": []
  }
 ],
 "metadata": {
  "kernelspec": {
   "display_name": "Python 3",
   "language": "python",
   "name": "python3"
  },
  "language_info": {
   "codemirror_mode": {
    "name": "ipython",
    "version": 3
   },
   "file_extension": ".py",
   "mimetype": "text/x-python",
   "name": "python",
   "nbconvert_exporter": "python",
   "pygments_lexer": "ipython3",
   "version": "3.5.2"
  }
 },
 "nbformat": 4,
 "nbformat_minor": 2
}
