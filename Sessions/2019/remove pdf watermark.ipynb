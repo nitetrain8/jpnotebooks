{
 "cells": [
  {
   "cell_type": "code",
   "execution_count": 19,
   "metadata": {},
   "outputs": [
    {
     "name": "stdout",
     "output_type": "stream",
     "text": [
      "\r",
      "Processing page 4/357[['A', 51, ' Risk-Based ', 59, 'Approach to Compliant GxP Computerized Systems']]\n",
      "[['New concept', 13, 's are being developed and applied, including science based risk management approaches, a focus on']]\n",
      "[['product and process underst', 13, 'anding, and the application of Quality by Design concept', 13, 's.']]\n",
      "[['Many of these ideas are defined and described in the FDA', 53, ' 21']]\n",
      "[[' Century Initiative, new ICH document', 13, 's such as Q8']]\n",
      "[['Pharmaceutical Development, Q9 Quality Risk Management, and Q10 Pharmaceutical Quality System, ISPE™', 13, 's']]\n",
      "[['Product Quality Lifecycle Implement', 13, 'ation (PQLI) initiative, and various supporting industry consensus st', 13, 'andards,']]\n",
      "[['ASTM E2500 S', 26, 't', 24, 'andard Guide for Specification, Design, and V', 26, 'erification of Pharmaceutical and']]\n",
      "[['As these new ideas and ways of working are being est', 13, 'ablished, the industry will for some time be in a period of']]\n",
      "[[' Guide on Commissioning and Qualification. ', 13, 'There is']]\n",
      "[['both a need and an opportunity to make activities related to all types of computerized systems ef', 13, 'ficient, ef', 26, 'fective,']]\n",
      "[['and focused on p', 13, 'atient safety', 66, '.']]\n",
      "[['New and Innovative ', 32, 'Approaches']]\n",
      "[['Where a computer system is regarded as one component of a wider manufacturing process or system, p', 13, 'articularly in']]\n",
      "[['an integrated Quality by Design environment, specific and sep', 13, 'arate computerized system validation may not be']]\n",
      "[['necessary', 80, '. ', 13, 'This environment requires both complete product and process underst', 27, 'anding and that the critical process']]\n",
      "[['p', 9, 'arameters can be accurately and reliably predicted and controlled over the design sp', 26, 'ace. In such a case, the']]\n",
      "[['engineering or project activities together with subsequent Process V', 66, 'alidation or continuous quality verification of the']]\n",
      "[['overall process or system. ', 13, 'The same principle applies to the adoption of Process ', 66, 'Analytical ', 13, 'T', 104, 'echnology (P', 67, 'A', 80, 'T).']]\n",
      "[['acknowledging that not all regulated comp', 27, 'anies will be in a position to, or will choose to, fully embrace the new']]\n",
      "[['approaches immediately', 66, ', this Guide is intended to encourage the adoption of such approaches and in no way to be a']]\n",
      "[['barrier', 56, '.']]\n",
      "[['giving practitioners the tools to do the job today', 66, ', while building a bridge to new approaches. ', 13, 'This Guide aims to']]\n",
      "[['Design environment. ', 13, 'These innovative approaches and the application of principles to specific system types will be']]\n",
      "[['explored in det', 13, 'ail in subsequent document', 26, 's.']]\n",
      "[['In the meantime, key aspect', 13, 's supportive of ISPE PQLI and ', 53, 'ASTM E2500 are addressed immediately to make current']]\n",
      "[['activities as ef', 27, 'fective and ef', 13, 'ficient as possible. ', 13, 'These include:']]\n"
     ]
    }
   ],
   "source": [
    "from PyPDF2 import PdfFileReader, PdfFileWriter\n",
    "from PyPDF2.pdf import ContentStream\n",
    "from PyPDF2.generic import TextStringObject, NameObject\n",
    "from PyPDF2.utils import b_\n",
    "\n",
    "wm_text = 'Persönliches Exemplar von'\n",
    "replace_with = ''\n",
    "#ops = set()\n",
    "# Load PDF into pyPDF\n",
    "with open('C:\\\\users\\\\nathan\\\\documents\\\\GAMP5.pdf', \"rb\") as f:\n",
    "    source = PdfFileReader(f)\n",
    "    output = PdfFileWriter()\n",
    "    # For each page\n",
    "    for page in range(source.getNumPages()):\n",
    "        print(\"\\rProcessing page %d/%d\"%(page + 1, source.getNumPages()), end=\"\")\n",
    "#         if page > 10:            break\n",
    "        # Get the current page and it's contents\n",
    "        page = source.getPage(page)\n",
    "        content_object = page[\"/Contents\"].getObject()\n",
    "        content = ContentStream(content_object, source)\n",
    "        \n",
    "        # Loop over all pdf elements\n",
    "        for operands, operator in content.operations:\n",
    "            # You might adapt this part depending on your PDF file\n",
    "            if operands:\n",
    "            if operator == b_(\"TJ\"):\n",
    "                text = operands[0][0]\n",
    "                #print(text)\n",
    "                if isinstance(text, TextStringObject) and text.startswith(wm_text):\n",
    "                    to = text\n",
    "                    operands[0] = TextStringObject(replace_with)\n",
    "\n",
    "\n",
    "        # Set the modified content as content object on the page\n",
    "        page.__setitem__(NameObject('/Contents'), content)\n",
    "\n",
    "        # Add the page to the output\n",
    "        output.addPage(page)\n",
    "\n",
    "    # Write the stream\n",
    "    with open(\"C:\\\\users\\\\nathan\\\\documents\\\\GAMP5 2.pdf\", \"wb\") as outputStream:\n",
    "        output.write(outputStream)"
   ]
  },
  {
   "cell_type": "code",
   "execution_count": 14,
   "metadata": {},
   "outputs": [
    {
     "data": {
      "text/plain": [
       "[['G',\n",
       "  -3,\n",
       "  'M',\n",
       "  -1,\n",
       "  'P',\n",
       "  -3,\n",
       "  ' c',\n",
       "  -2,\n",
       "  'ompl',\n",
       "  3,\n",
       "  'ia',\n",
       "  -4,\n",
       "  'n',\n",
       "  1,\n",
       "  'c',\n",
       "  -3,\n",
       "  'e',\n",
       "  20,\n",
       "  '.']]"
      ]
     },
     "execution_count": 14,
     "metadata": {},
     "output_type": "execute_result"
    }
   ],
   "source": [
    "op"
   ]
  },
  {
   "cell_type": "code",
   "execution_count": null,
   "metadata": {},
   "outputs": [],
   "source": []
  }
 ],
 "metadata": {
  "kernelspec": {
   "display_name": "Python 3",
   "language": "python",
   "name": "python3"
  },
  "language_info": {
   "codemirror_mode": {
    "name": "ipython",
    "version": 3
   },
   "file_extension": ".py",
   "mimetype": "text/x-python",
   "name": "python",
   "nbconvert_exporter": "python",
   "pygments_lexer": "ipython3",
   "version": "3.5.2"
  }
 },
 "nbformat": 4,
 "nbformat_minor": 2
}
