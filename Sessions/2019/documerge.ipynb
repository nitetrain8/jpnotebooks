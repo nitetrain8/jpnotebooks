{
 "cells": [
  {
   "cell_type": "code",
   "execution_count": 2,
   "metadata": {
    "hideCode": false,
    "hidePrompt": false
   },
   "outputs": [],
   "source": [
    "from officelib.wordlib import *\n",
    "import os\n",
    "\n",
    "os.chdir(\"C:\\\\users\\\\nathan\\\\documents\\\\dropbox\\\\pm\\\\cut my doc into pieces\")\n",
    "file = \"THIS IS MY LAST REPORT.docx\"\n",
    "master_document_path = os.path.abspath(file)"
   ]
  },
  {
   "cell_type": "code",
   "execution_count": null,
   "metadata": {
    "hideCode": false,
    "hidePrompt": false
   },
   "outputs": [],
   "source": [
    "sections = [\n",
    "    'Accessories.docx',\n",
    "    'Housing Components.docx',\n",
    "    'Heater Resistance.docx',\n",
    "    'Battery Replacement.docx',\n",
    "    'AC Outlet Grounding.docx',\n",
    "    'Fuse & RIO Functionality.docx',\n",
    "    'Pwr Supply Voltage Readings.docx',\n",
    "    'PCB Voltage Readings.docx',\n",
    "    'B&C Microtransmitters.docx',\n",
    "    'Data Management.docx',\n",
    "    'Agitation Verification.docx',\n",
    "    'MFC Accuracy.docx',\n",
    "    'MFC Calibration.docx',\n",
    "]"
   ]
  },
  {
   "cell_type": "code",
   "execution_count": null,
   "metadata": {
    "hideCode": false,
    "hidePrompt": false
   },
   "outputs": [],
   "source": [
    "def fix_table(t, s):\n",
    "    if t.Rows.Count <= 1:\n",
    "        return\n",
    "    t.Rows.Select()\n",
    "    s.ParagraphFormat.KeepTogether = True\n",
    "    s.MoveEnd(wdc.wdRow, -1)\n",
    "    s.ParagraphFormat.KeepWithNext = True\n",
    "\n",
    "def fix_tables(d,w):\n",
    "    d.Select()\n",
    "    s = w.Selection\n",
    "    tc = d.Tables.Count\n",
    "    for i, t in enumerate(d.Tables, 1):\n",
    "        print(\"Fixing table %d of %d\"%(i, tc))\n",
    "        fix_table(t, s)"
   ]
  },
  {
   "cell_type": "code",
   "execution_count": null,
   "metadata": {
    "hideCode": false,
    "hidePrompt": false
   },
   "outputs": [],
   "source": [
    "def import_sections(sections, m, w):\n",
    "    btwn_tables_style = m.Styles(\"BetweenTables\")\n",
    "\n",
    "    for i, section in enumerate(sections, 1):\n",
    "        print(\"importing section %s\"%os.path.splitext(os.path.split(section)[1])[0])\n",
    "        fullfp = os.path.abspath(section)\n",
    "\n",
    "        subdoc = w.Documents.Open(fullfp)\n",
    "        subdoc.Select()\n",
    "        w.Selection.Copy()\n",
    "\n",
    "        m.Select()\n",
    "        s = w.Selection\n",
    "        s.MoveDown(wdc.wdLine, 1, wdc.wdMove)\n",
    "        s.Paste()\n",
    "        s.MoveUp(wdc.wdLine, 1, wdc.wdMove)\n",
    "        s.Style = btwn_tables_style\n",
    "        s.MoveDown(wdc.wdLine, 1, wdc.wdMove)\n",
    "\n",
    "        subdoc.Close()\n",
    "\n",
    "    w.Selection.MoveUp(wdc.wdLine, 1, wdc.wdMove)\n",
    "    w.Selection.MoveDown(wdc.wdLine, 999, wdc.wdExtend)\n",
    "    w.Selection.Delete()\n",
    "\n",
    "    fix_tables(m,w)\n",
    "    \n",
    "word = Word()\n",
    "master = word.Documents.Open(master_document_path)\n",
    "    \n",
    "word.Visible=True\n",
    "with screen_lock(word):\n",
    "    import_sections(sections, master, word)\n",
    "word.Visible=True"
   ]
  },
  {
   "cell_type": "code",
   "execution_count": null,
   "metadata": {
    "hideCode": false,
    "hidePrompt": false
   },
   "outputs": [],
   "source": [
    "w = Word()\n",
    "d = w.RecentFiles(1).Open()\n",
    "t = d.Tables(1)"
   ]
  },
  {
   "cell_type": "code",
   "execution_count": null,
   "metadata": {
    "hideCode": false,
    "hidePrompt": false
   },
   "outputs": [],
   "source": [
    "d.Name"
   ]
  },
  {
   "cell_type": "code",
   "execution_count": null,
   "metadata": {
    "hideCode": false,
    "hidePrompt": false
   },
   "outputs": [],
   "source": [
    "w.Visible=True"
   ]
  },
  {
   "cell_type": "code",
   "execution_count": null,
   "metadata": {
    "hideCode": false,
    "hidePrompt": false
   },
   "outputs": [],
   "source": [
    "cell = t.Rows(1).Cells(1)"
   ]
  },
  {
   "cell_type": "code",
   "execution_count": null,
   "metadata": {
    "hideCode": false,
    "hidePrompt": false
   },
   "outputs": [],
   "source": [
    "sorted(cell._prop_map_get_.keys())"
   ]
  },
  {
   "cell_type": "code",
   "execution_count": null,
   "metadata": {
    "hideCode": false,
    "hidePrompt": false
   },
   "outputs": [],
   "source": [
    "d.Tables(2).Rows(1)"
   ]
  },
  {
   "cell_type": "code",
   "execution_count": null,
   "metadata": {
    "hideCode": false,
    "hidePrompt": false
   },
   "outputs": [],
   "source": [
    "seen = set()\n",
    "cells = d.Tables(2).Range.Cells\n",
    "for i in range(cells.Count, 0, -1):\n",
    "    c = cells(i)\n",
    "    if c.RowIndex in seen:\n",
    "        continue\n",
    "    seen.add(c.RowIndex)\n",
    "    style = c.Range.Style\n",
    "    if style and style.NameLocal  == \"testverif\":\n",
    "        print(c.RowIndex, c.Range.Text.strip(\"\\x07\"))\n",
    "        c.Select()\n",
    "        w.Selection.SplitTable()"
   ]
  },
  {
   "cell_type": "code",
   "execution_count": 24,
   "metadata": {
    "hideCode": false,
    "hidePrompt": false
   },
   "outputs": [
    {
     "data": {
      "text/plain": [
       "'doc.docx'"
      ]
     },
     "execution_count": 24,
     "metadata": {},
     "output_type": "execute_result"
    }
   ],
   "source": [
    "w = Word()\n",
    "w.Documents.Count\n",
    "\n",
    "d = w.RecentFiles(1).Open()\n",
    "d.Name"
   ]
  },
  {
   "cell_type": "code",
   "execution_count": null,
   "metadata": {},
   "outputs": [],
   "source": []
  },
  {
   "cell_type": "code",
   "execution_count": 25,
   "metadata": {
    "hideCode": false,
    "hidePrompt": false
   },
   "outputs": [
    {
     "name": "stdout",
     "output_type": "stream",
     "text": [
      "Inspect System for Damage\n",
      "Accessories\n",
      "Heater Resistance\n",
      "Replace Batteries\n",
      "Fuse Functionality\n",
      "RTOS & FPGA Functionality \n",
      "24 Volt Power Supply Performance\n",
      "12 Volt Power Supply Performance\n",
      "Main Board Performance \n",
      "pH and D.O. Microprocessor \n",
      "Non-PBS Software Version\n",
      "PBS Software Version\n",
      "Database and HD Space\n",
      "Agitation Verification and Accuracy\n",
      "MFC Accuracy \n",
      "MFC Calibration\n",
      "MFC Min Flow\n",
      "Pumps Functionality \n",
      "Level Accuracy\n",
      "Level Calibration\n",
      "Pressure Accuracy\n",
      "Pressure Calibration\n",
      "Comb Plate Verification\n",
      "Main Temperature Accuracy\n",
      "Main Temperature Calibration\n",
      "pH Verification\n",
      "DO Verification\n",
      "Filter Oven Temperature Accuracy\n",
      "Harvest Mode Alignment\n",
      "Remote Access Information\n",
      "Verify Email Function\n",
      "PBS Website Access\n",
      "Configure & Verify Settings\n",
      "Miscellaneous\n",
      "Other Procedures or Reports Performed, Referenced, or Created\n"
     ]
    }
   ],
   "source": [
    "def splitall(d):\n",
    "    nt = 2\n",
    "    table = d.Tables(nt) \n",
    "    cells = table.Range.Cells\n",
    "    i = 1\n",
    "    b = True\n",
    "    while b:\n",
    "        try:\n",
    "            c = cells(i)\n",
    "        except Exception as e:\n",
    "            print(e.message)\n",
    "            break\n",
    "        style = c.Range.Style\n",
    "        if style and style.NameLocal == 'testverif':\n",
    "            print(c.Range.Text.strip(\"\\x07\"))\n",
    "            c.Select()\n",
    "            w.Selection.SplitTable()\n",
    "            nt += 1\n",
    "            table = d.Tables(nt)\n",
    "            cells = table.Range.Cells\n",
    "            i = 1\n",
    "            ri = cells(i).RowIndex\n",
    "            try:\n",
    "                while cells(i+1).RowIndex == ri: i += 1\n",
    "            except com_error as e:\n",
    "                b = False # end of all tables\n",
    "                if e.hresult == -2147352567:\n",
    "                    break\n",
    "                raise  # unknown error\n",
    "        i += 1\n",
    "with screen_lock(w, False):\n",
    "    splitall(w.ActiveDocument)"
   ]
  },
  {
   "cell_type": "code",
   "execution_count": 29,
   "metadata": {
    "hideCode": false,
    "hidePrompt": false
   },
   "outputs": [
    {
     "name": "stdout",
     "output_type": "stream",
     "text": [
      "Inspect System for Damage\n",
      "  Section already exists: 'Accessories'. Manual review required\n",
      "  Section already exists: 'Heater Resistance'. Manual review required\n",
      "  Section already exists: 'Replace Batteries'. Manual review required\n",
      "  Section already exists: 'Fuse Functionality'. Manual review required\n",
      "  Section already exists: 'RTOS & FPGA Functionality'. Manual review required\n",
      "  Section already exists: '24 Volt Power Supply Performance'. Manual review required\n",
      "  Section already exists: '12 Volt Power Supply Performance'. Manual review required\n",
      "  Section already exists: 'Main Board Performance'. Manual review required\n",
      "  Section already exists: 'pH and D.O. Microprocessor'. Manual review required\n",
      "Non-PBS Software Version\n",
      "PBS Software Version\n",
      "Database and HD Space\n",
      "Agitation Verification and Accuracy\n",
      "  Section already exists: 'MFC Accuracy'. Manual review required\n",
      "  Section already exists: 'MFC Calibration'. Manual review required\n",
      "  Section already exists: 'MFC Min Flow'. Manual review required\n",
      "  Section already exists: 'Pumps Functionality'. Manual review required\n",
      "Level Accuracy\n",
      "  Section already exists: 'Level Calibration'. Manual review required\n",
      "Pressure Accuracy\n",
      "  Section already exists: 'Pressure Calibration'. Manual review required\n",
      "  Section already exists: 'Comb Plate Verification'. Manual review required\n",
      "Main Temperature Accuracy\n",
      "  Section already exists: 'Main Temperature Calibration'. Manual review required\n",
      "pH Verification\n",
      "DO Verification\n",
      "Filter Oven Temperature Accuracy\n",
      "  Section already exists: 'Harvest Mode Alignment'. Manual review required\n",
      "  Section already exists: 'Remote Access Information'. Manual review required\n",
      "Verify Email Function\n",
      "PBS Website Access\n",
      "Configure & Verify Settings\n",
      "  Section already exists: 'Miscellaneous'. Manual review required\n",
      "Other Procedures or Reports Performed, Referenced, or Created\n"
     ]
    }
   ],
   "source": [
    "import os\n",
    "os.chdir(\"C:\\\\users\\\\nathan\\\\documents\\\\dropbox\\\\pm\\\\\")\n",
    "os.makedirs(\"CUT MY DOC INTO PIECES2\", exist_ok=True)\n",
    "os.chdir(\".\\\\CUT MY DOC INTO PIECES2\")\n",
    "\n",
    "def export_tables(d):\n",
    "    for i in range(3, d.Tables.Count):\n",
    "        table = d.Tables(i)\n",
    "        firstcell = table.Range.Cells(1)\n",
    "        name = firstcell.Range.Text.strip(\"\\x07\").strip().replace(\"/\",\" \")\n",
    "        target = os.path.abspath(\"Sections\\\\\" +name+\".docx\")\n",
    "        if os.path.exists(target):\n",
    "            print(\"  Section already exists: %r. Manual review required\"%name)\n",
    "#             target = target.replace(name+\".docx\", name+\"_15L.docx\")\n",
    "            continue\n",
    "        else:\n",
    "            print(name)\n",
    "            continue\n",
    "        nd = w.Documents.Add()\n",
    "        d.Tables(i).Select()\n",
    "        w.Selection.Copy()\n",
    "        nd.Select()\n",
    "        w.Selection.Paste()\n",
    "        nd.PageSetup.LeftMargin = 0.5 * 72\n",
    "        nd.PageSetup.RightMargin = 0.5 * 72\n",
    "        #nd.Tables(1).Range.ParagraphFormat.Alignment = wdc.wdAlignParagraphLeft\n",
    "        nd.SaveAs(target)\n",
    "        nd.Close(False)\n",
    "with screen_lock(w, False):\n",
    "    export_tables(d)"
   ]
  },
  {
   "cell_type": "code",
   "execution_count": null,
   "metadata": {
    "hideCode": false,
    "hidePrompt": false
   },
   "outputs": [],
   "source": [
    "name"
   ]
  },
  {
   "cell_type": "code",
   "execution_count": null,
   "metadata": {
    "hideCode": false,
    "hidePrompt": false
   },
   "outputs": [],
   "source": [
    "nd.PageSetup.LeftMargin = 0.5 * 72\n",
    "nd.PageSetup.RightMargin = 0.5 * 72\n",
    "nd.Tables(1).Range.ParagraphFormat.Alignment = wdc.wdAlignParagraphLeft"
   ]
  },
  {
   "cell_type": "code",
   "execution_count": null,
   "metadata": {
    "hideCode": false,
    "hidePrompt": false
   },
   "outputs": [],
   "source": [
    "i = 1; cells = d.Tables(3).Range.Cells; ri = cells(i).RowIndex\n",
    "while cells(i+1).RowIndex == ri: \n",
    "    i += 1\n",
    "    cells(i).Select()\n",
    "    #w.Selection.Range.HighlightColorIndex = wdc.wdBrightGreen\n",
    "cells(i+1).Select()\n",
    "w.Selection.Range.HighlightColorIndex = wdc.wdBrightGreen"
   ]
  },
  {
   "cell_type": "code",
   "execution_count": null,
   "metadata": {
    "hideCode": false,
    "hidePrompt": false
   },
   "outputs": [],
   "source": [
    "cells(i).Select()"
   ]
  },
  {
   "cell_type": "code",
   "execution_count": null,
   "metadata": {
    "hideCode": false,
    "hidePrompt": false
   },
   "outputs": [],
   "source": [
    "w = Word()\n",
    "with screen_lock(w, False):\n",
    "    os.chdir('C:\\\\Users\\\\Nathan\\\\Documents\\\\Dropbox\\\\PM\\\\CUT MY DOC INTO PIECES2\\\\Sections')\n",
    "    for f in os.listdir():\n",
    "        print(\"fixing %s\"%f)\n",
    "        fp = os.path.abspath(f)\n",
    "        d = w.Documents.Open(fp)\n",
    "        d.Tables(1).Rows.LeftIndent = 0\n",
    "        d.Save()\n",
    "        d.Close()"
   ]
  },
  {
   "cell_type": "code",
   "execution_count": 16,
   "metadata": {},
   "outputs": [
    {
     "data": {
      "text/plain": [
       "'<win32com.gen_py.Microsoft Word 16.0 Object Library.Range instance at 0x1737264947720>'"
      ]
     },
     "execution_count": 16,
     "metadata": {},
     "output_type": "execute_result"
    }
   ],
   "source": [
    "repr(d.StoryRanges(wdc.wdMainTextStory))"
   ]
  },
  {
   "cell_type": "code",
   "execution_count": 88,
   "metadata": {},
   "outputs": [],
   "source": [
    "w = Word()\n",
    "d = w.RecentFiles(1).Open()"
   ]
  },
  {
   "cell_type": "code",
   "execution_count": 140,
   "metadata": {},
   "outputs": [
    {
     "name": "stdout",
     "output_type": "stream",
     "text": [
      "'Ne'\n",
      "'Te'\n",
      "'Dolo'\n",
      "'Qu'\n",
      "'Ut'\n",
      "'Cons'\n",
      "'Ut'\n",
      "'Quiqu'\n",
      "'Ut'\n",
      "'Tem'\n",
      "'Non'\n",
      "'of'\n",
      "'Adipis'\n",
      "'Porr'\n",
      "'Adip'\n",
      "'Dol'\n",
      "'Accuracy'\n",
      "'Point'\n",
      "'Numqu'\n",
      "'Labor'\n",
      "'Amet'\n",
      "'Non'\n",
      "'Quae'\n",
      "'Est'\n",
      "'Con'\n",
      "'Numq'\n",
      "'Co'\n",
      "'Ips'\n",
      "'Aliq'\n",
      "'Ut'\n",
      "'Volu'\n",
      "'Non'\n",
      "'Eius'\n",
      "'Numq'\n",
      "'Dol'\n",
      "'Calibration'\n",
      "'Quaer'\n",
      "'Ut'\n",
      "'Quiquia'\n",
      "'Ut'\n",
      "'No'\n",
      "'Ame'\n",
      "'Am'\n",
      "'Tem'\n",
      "'Volu'\n",
      "'Non'\n",
      "'Non'\n",
      "'Labor'\n",
      "'Amet'\n",
      "'Adipis'\n",
      "'flow'\n",
      "'Aliq'\n",
      "'at'\n",
      "'Sed'\n",
      "'specified'\n",
      "'Adi'\n",
      "'points'\n",
      "'Etin'\n",
      "'Neq'\n",
      "'Magnam'\n",
      "'Qui'\n",
      "'Mod'\n",
      "'Tempora'\n",
      "'Velit'\n",
      "'Sed'\n",
      "'enter'\n",
      "'Quiq'\n",
      "'in'\n",
      "'Por'\n",
      "'Desktop'\n",
      "'Qu'\n",
      "'Modi'\n",
      "'the'\n",
      "'Porro'\n",
      "'verification'\n",
      "'Ame'\n",
      "'any'\n",
      "'Amet'\n",
      "'Magn'\n",
      "'Mo'\n",
      "'Qui'\n",
      "'Sit'\n",
      "'Est'\n",
      "'Eius'\n",
      "'S'\n",
      "'Quiq'\n",
      "'Aliq'\n",
      "'Amet'\n",
      "'if'\n",
      "'D'\n",
      "'Adipi'\n",
      "'if'\n",
      "'S'\n",
      "'Ut'\n",
      "'La'\n",
      "'U'\n",
      "'Con'\n",
      "'Aliqu'\n",
      "'if'\n",
      "'N'\n",
      "'N'\n",
      "'A'\n",
      "'Adi'\n",
      "'Saved'\n",
      "'Qui'\n",
      "'Saved'\n",
      "'Num'\n",
      "'Saved'\n",
      "'Ut'\n",
      "'Saved'\n",
      "'Ma'\n",
      "'Porro'\n",
      "'Nequ'\n",
      "'Ali'\n",
      "'Qu'\n"
     ]
    }
   ],
   "source": [
    "from lorem.text import TextLorem\n",
    "l = TextLorem(srange=(1,1))\n",
    "c = False\n",
    "for sentence in d.StoryRanges:\n",
    "    for word in sentence.Words:\n",
    "        if c: \n",
    "            c = False\n",
    "            continue\n",
    "        if word.Text and word.Text[-1] == \" \":\n",
    "            word.MoveEnd(wdc.wdCharacter, -1)\n",
    "        else:\n",
    "            c = True\n",
    "        text = word.Text\n",
    "        if text.isalpha():\n",
    "            word.Text = l.sentence()[:len(text)]\n",
    "            print(repr(text))"
   ]
  },
  {
   "cell_type": "code",
   "execution_count": 120,
   "metadata": {},
   "outputs": [],
   "source": [
    "from lorem.text import TextLorem"
   ]
  },
  {
   "cell_type": "code",
   "execution_count": 134,
   "metadata": {},
   "outputs": [
    {
     "data": {
      "text/plain": [
       "'Magnam.'"
      ]
     },
     "execution_count": 134,
     "metadata": {},
     "output_type": "execute_result"
    }
   ],
   "source": [
    "TextLorem(srange=(1,1)).sentence()"
   ]
  },
  {
   "cell_type": "code",
   "execution_count": 125,
   "metadata": {},
   "outputs": [],
   "source": [
    "TextLorem?"
   ]
  },
  {
   "cell_type": "code",
   "execution_count": null,
   "metadata": {},
   "outputs": [],
   "source": []
  }
 ],
 "metadata": {
  "hide_code_all_hidden": false,
  "kernelspec": {
   "display_name": "Python 3",
   "language": "python",
   "name": "python3"
  },
  "language_info": {
   "codemirror_mode": {
    "name": "ipython",
    "version": 3
   },
   "file_extension": ".py",
   "mimetype": "text/x-python",
   "name": "python",
   "nbconvert_exporter": "python",
   "pygments_lexer": "ipython3",
   "version": "3.5.2"
  }
 },
 "nbformat": 4,
 "nbformat_minor": 2
}
