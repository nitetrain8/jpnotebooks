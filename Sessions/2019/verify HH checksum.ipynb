{
 "cells": [
  {
   "cell_type": "code",
   "execution_count": 2,
   "metadata": {},
   "outputs": [],
   "source": [
    "from hashlib import sha256\n",
    "import os"
   ]
  },
  {
   "cell_type": "code",
   "execution_count": 36,
   "metadata": {},
   "outputs": [],
   "source": [
    "def recursive_listdir(d):\n",
    "    retfiles = []\n",
    "    for root, dirs, files in os.walk(d):\n",
    "        for file in files:\n",
    "            fullfn = os.path.join(root, file)\n",
    "            retfiles.append(fullfn)\n",
    "    return sorted(retfiles, key=lambda s: s.lower())\n",
    "\n",
    "def contents(fp):\n",
    "    with open(fp, 'rb') as f:\n",
    "        return f.read()\n",
    "\n",
    "def total_checksum(dir):\n",
    "    h = sha256()\n",
    "    for file in recursive_listdir(dir):\n",
    "        h.update(contents(file))\n",
    "    return \"\".join(\"%02x\"%b for b in h.digest())"
   ]
  },
  {
   "cell_type": "code",
   "execution_count": 37,
   "metadata": {},
   "outputs": [
    {
     "data": {
      "text/plain": [
       "'b108ab715371854cd085af2cea2452b8593e40df2411872ff9bc38e81a8bf494'"
      ]
     },
     "execution_count": 37,
     "metadata": {},
     "output_type": "execute_result"
    }
   ],
   "source": [
    "total_checksum(\"E:\\\\\")"
   ]
  },
  {
   "cell_type": "code",
   "execution_count": null,
   "metadata": {},
   "outputs": [],
   "source": []
  }
 ],
 "metadata": {
  "kernelspec": {
   "display_name": "Python 3",
   "language": "python",
   "name": "python3"
  },
  "language_info": {
   "codemirror_mode": {
    "name": "ipython",
    "version": 3
   },
   "file_extension": ".py",
   "mimetype": "text/x-python",
   "name": "python",
   "nbconvert_exporter": "python",
   "pygments_lexer": "ipython3",
   "version": "3.5.2"
  }
 },
 "nbformat": 4,
 "nbformat_minor": 2
}
