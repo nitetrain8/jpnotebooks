{
 "cells": [
  {
   "cell_type": "code",
   "execution_count": 1,
   "metadata": {
    "collapsed": true
   },
   "outputs": [],
   "source": [
    "import requests, json"
   ]
  },
  {
   "cell_type": "code",
   "execution_count": 2,
   "metadata": {
    "collapsed": true
   },
   "outputs": [],
   "source": [
    "from pysrc.mfp import MFPApi"
   ]
  },
  {
   "cell_type": "code",
   "execution_count": 3,
   "metadata": {
    "collapsed": true
   },
   "outputs": [],
   "source": [
    "api = MFPApi()"
   ]
  },
  {
   "cell_type": "code",
   "execution_count": 4,
   "metadata": {},
   "outputs": [
    {
     "name": "stdout",
     "output_type": "stream",
     "text": [
      "Downloaded 2557 of 2557 (0 active threads)...         \n",
      "Parsing 2557 of 2557                \n"
     ]
    }
   ],
   "source": [
    "import datetime, dateutil, pytz\n",
    "start = datetime.datetime(2013, 1, 1, tzinfo=pytz.timezone('US/Pacific'))\n",
    "end = datetime.datetime(2020, 1, 1, tzinfo=pytz.timezone('US/Pacific'))\n",
    "data = api.load_cals_range_async(start, end, 500)"
   ]
  },
  {
   "cell_type": "code",
   "execution_count": 5,
   "metadata": {},
   "outputs": [
    {
     "name": "stdout",
     "output_type": "stream",
     "text": [
      "Using matplotlib backend: TkAgg\n"
     ]
    }
   ],
   "source": [
    "%matplotlib\n",
    "from matplotlib import pyplot as plt"
   ]
  },
  {
   "cell_type": "code",
   "execution_count": 32,
   "metadata": {},
   "outputs": [
    {
     "data": {
      "text/plain": [
       "<matplotlib.collections.PathCollection at 0x23d28505438>"
      ]
     },
     "execution_count": 32,
     "metadata": {},
     "output_type": "execute_result"
    }
   ],
   "source": [
    "data.sort(key=lambda t: t[0])\n",
    "x,y = list(zip(*data))\n",
    "plt.scatter(x,y, s=2)"
   ]
  },
  {
   "cell_type": "code",
   "execution_count": 6,
   "metadata": {
    "collapsed": true
   },
   "outputs": [],
   "source": [
    "def _deq(d1, d2):\n",
    "    return d1.year == d2.year and d1.month == d2.month and d1.day == d2.day\n",
    "def lookup(date):\n",
    "    date = dateutil.parser.parse(date)\n",
    "    for a,b in data:\n",
    "        if _deq(a, date):\n",
    "            return b\n",
    "    "
   ]
  },
  {
   "cell_type": "code",
   "execution_count": null,
   "metadata": {
    "collapsed": true
   },
   "outputs": [],
   "source": [
    "lookup('2016-04-15')"
   ]
  },
  {
   "cell_type": "code",
   "execution_count": null,
   "metadata": {
    "collapsed": true
   },
   "outputs": [],
   "source": [
    "src = api.session.get(\"https://www.myfitnesspal.com/food/diary?date=2016-04-15\").content"
   ]
  },
  {
   "cell_type": "code",
   "execution_count": null,
   "metadata": {
    "collapsed": true
   },
   "outputs": [],
   "source": [
    "import pyquery\n",
    "Q = pyquery.PyQuery"
   ]
  },
  {
   "cell_type": "code",
   "execution_count": null,
   "metadata": {
    "collapsed": true
   },
   "outputs": [],
   "source": [
    "import lxml.etree as etree\n",
    "for p in Q(api._wtf.encode('utf-8'))(\"#diary-table > tbody > .total\"):\n",
    "    print(p)"
   ]
  },
  {
   "cell_type": "code",
   "execution_count": 12,
   "metadata": {
    "collapsed": true
   },
   "outputs": [],
   "source": [
    "url = \"https://www.myfitnesspal.com/reports/results/nutrition/Calories/%s.json?report_name=Calories\"\n",
    "s = api.session\n",
    "days = 1800\n",
    "rsp = s.get(url%days)\n",
    "rsp.raise_for_status()\n",
    "obj = rsp.json()"
   ]
  },
  {
   "cell_type": "code",
   "execution_count": 15,
   "metadata": {},
   "outputs": [
    {
     "data": {
      "text/plain": [
       "<matplotlib.collections.PathCollection at 0x2bb7fb51a58>"
      ]
     },
     "execution_count": 15,
     "metadata": {},
     "output_type": "execute_result"
    }
   ],
   "source": [
    "def parse_obj(obj, days):\n",
    "    today = datetime.datetime.now()\n",
    "    then = today - datetime.timedelta(days=days-1)\n",
    "    day = datetime.timedelta(days=1)\n",
    "\n",
    "    odata = obj['data']\n",
    "    newdata = []\n",
    "    first = 0\n",
    "    for i, o in enumerate(odata):\n",
    "        date = o['date']\n",
    "        total = o['total']\n",
    "    #     if total != 0 and first == 0:\n",
    "    #         first = i\n",
    "        daystr = \"%s/%02d\"%(then.month, then.day)\n",
    "        if date != daystr:\n",
    "            print(\"date mismatch: got '%s' expected '%s'\"%(date, daystr))\n",
    "        newdata.append((then, total))\n",
    "        then += day\n",
    "    return newdata\n",
    "newdata = parse_obj(obj, days)\n",
    "x2,y2 = list(zip(*newdata))\n",
    "plt.close()\n",
    "plt.scatter(x2,y2, s=2)"
   ]
  },
  {
   "cell_type": "code",
   "execution_count": 16,
   "metadata": {},
   "outputs": [
    {
     "data": {
      "text/plain": [
       "<matplotlib.collections.PathCollection at 0x2bb7f3255f8>"
      ]
     },
     "execution_count": 16,
     "metadata": {},
     "output_type": "execute_result"
    }
   ],
   "source": [
    "data.sort(key=lambda t: t[0])\n",
    "x,y = list(zip(*data))\n",
    "plt.scatter(x,y, s=2)"
   ]
  },
  {
   "cell_type": "code",
   "execution_count": 17,
   "metadata": {
    "collapsed": true
   },
   "outputs": [],
   "source": [
    "url = \"https://www.myfitnesspal.com/reports/results/progress/1/%s.json?report_name=Weight\"\n",
    "s = api.session\n",
    "days = 1800\n",
    "rsp = s.get(url%days)\n",
    "rsp.raise_for_status()\n",
    "obj2 = rsp.json()"
   ]
  },
  {
   "cell_type": "code",
   "execution_count": 18,
   "metadata": {},
   "outputs": [
    {
     "data": {
      "text/plain": [
       "<matplotlib.collections.PathCollection at 0x2bb2e8a12b0>"
      ]
     },
     "execution_count": 18,
     "metadata": {},
     "output_type": "execute_result"
    }
   ],
   "source": [
    "data.sort(key=lambda t: t[0])\n",
    "x,y = list(zip(*data))\n",
    "plt.close()\n",
    "fig = plt.figure()\n",
    "ax1 = fig.add_subplot(1,1,1)\n",
    "ax1.scatter(x,y, s=2)"
   ]
  },
  {
   "cell_type": "code",
   "execution_count": 19,
   "metadata": {},
   "outputs": [
    {
     "data": {
      "text/plain": [
       "[<matplotlib.lines.Line2D at 0x2bb2c897908>]"
      ]
     },
     "execution_count": 19,
     "metadata": {},
     "output_type": "execute_result"
    }
   ],
   "source": [
    "weight = parse_obj(obj2, days)\n",
    "x3,y3 = list(zip(*weight))\n",
    "ax2 = ax1.twinx()\n",
    "ax2.plot(x3,y3, color=\"orange\")"
   ]
  },
  {
   "cell_type": "code",
   "execution_count": 71,
   "metadata": {},
   "outputs": [
    {
     "name": "stdout",
     "output_type": "stream",
     "text": [
      "Downloaded 176 of 176 (0 active threads)...        \n",
      "Parsing 176 of 176                \n"
     ]
    }
   ],
   "source": [
    "import datetime, dateutil, pytz\n",
    "start = datetime.datetime(2015, 2, 7)\n",
    "end = datetime.datetime(2015, 8, 1)\n",
    "data4 = api.load_cals_range_async(start, end, 100)"
   ]
  },
  {
   "cell_type": "code",
   "execution_count": 78,
   "metadata": {
    "collapsed": true
   },
   "outputs": [],
   "source": [
    "data5 = [(d, c) for d,c in data4 if c != 0]\n",
    "data5.sort(key=lambda t: t[0])"
   ]
  },
  {
   "cell_type": "code",
   "execution_count": 79,
   "metadata": {},
   "outputs": [
    {
     "data": {
      "text/plain": [
       "2107.1085714285714"
      ]
     },
     "execution_count": 79,
     "metadata": {},
     "output_type": "execute_result"
    }
   ],
   "source": [
    "sum(c for d,c in data5)/len(data5)"
   ]
  },
  {
   "cell_type": "code",
   "execution_count": 80,
   "metadata": {
    "collapsed": true
   },
   "outputs": [],
   "source": [
    "fi = next(i for i, (d,w) in enumerate(weight) if _deq(start, d))\n",
    "li = next(i for i, (d,w) in enumerate(weight) if _deq(end, d))"
   ]
  },
  {
   "cell_type": "code",
   "execution_count": 81,
   "metadata": {
    "collapsed": true
   },
   "outputs": [],
   "source": [
    "data6 = weight[fi:li]"
   ]
  },
  {
   "cell_type": "code",
   "execution_count": 82,
   "metadata": {},
   "outputs": [
    {
     "data": {
      "text/plain": [
       "(datetime.datetime(2015, 2, 7, 12, 16, 24, 733255),\n",
       " datetime.datetime(2015, 7, 31, 12, 16, 24, 733255))"
      ]
     },
     "execution_count": 82,
     "metadata": {},
     "output_type": "execute_result"
    }
   ],
   "source": [
    "data6[0][0], data6[-1][0]"
   ]
  },
  {
   "cell_type": "code",
   "execution_count": 83,
   "metadata": {},
   "outputs": [
    {
     "data": {
      "text/plain": [
       "(datetime.datetime(2015, 2, 7, 0, 0), datetime.datetime(2015, 8, 1, 0, 0))"
      ]
     },
     "execution_count": 83,
     "metadata": {},
     "output_type": "execute_result"
    }
   ],
   "source": [
    "data5[0][0], data5[-1][0]"
   ]
  },
  {
   "cell_type": "code",
   "execution_count": 84,
   "metadata": {
    "collapsed": true
   },
   "outputs": [],
   "source": [
    "wloss = data6[-1][1] - data6[0][1]"
   ]
  },
  {
   "cell_type": "code",
   "execution_count": 85,
   "metadata": {},
   "outputs": [
    {
     "data": {
      "text/plain": [
       "-17.799999999999983"
      ]
     },
     "execution_count": 85,
     "metadata": {},
     "output_type": "execute_result"
    }
   ],
   "source": [
    "wloss"
   ]
  },
  {
   "cell_type": "code",
   "execution_count": 86,
   "metadata": {
    "collapsed": true
   },
   "outputs": [],
   "source": [
    "wloss = abs(wloss)"
   ]
  },
  {
   "cell_type": "code",
   "execution_count": 87,
   "metadata": {
    "collapsed": true
   },
   "outputs": [],
   "source": [
    "cal_deficit = wloss * 3500"
   ]
  },
  {
   "cell_type": "code",
   "execution_count": 88,
   "metadata": {
    "collapsed": true
   },
   "outputs": [],
   "source": [
    "cal_eaten = len(data5)*2107.1"
   ]
  },
  {
   "cell_type": "code",
   "execution_count": 89,
   "metadata": {},
   "outputs": [
    {
     "data": {
      "text/plain": [
       "355.99999999999966"
      ]
     },
     "execution_count": 89,
     "metadata": {},
     "output_type": "execute_result"
    }
   ],
   "source": [
    "cal_deficit / len(data5)"
   ]
  },
  {
   "cell_type": "code",
   "execution_count": 90,
   "metadata": {},
   "outputs": [
    {
     "data": {
      "text/plain": [
       "2463.0999999999995"
      ]
     },
     "execution_count": 90,
     "metadata": {},
     "output_type": "execute_result"
    }
   ],
   "source": [
    "cal_deficit / len(data5) + 2107.1"
   ]
  },
  {
   "cell_type": "code",
   "execution_count": null,
   "metadata": {
    "collapsed": true
   },
   "outputs": [],
   "source": []
  }
 ],
 "metadata": {
  "kernelspec": {
   "display_name": "Python 3",
   "language": "python",
   "name": "python3"
  },
  "language_info": {
   "codemirror_mode": {
    "name": "ipython",
    "version": 3
   },
   "file_extension": ".py",
   "mimetype": "text/x-python",
   "name": "python",
   "nbconvert_exporter": "python",
   "pygments_lexer": "ipython3",
   "version": "3.6.1"
  }
 },
 "nbformat": 4,
 "nbformat_minor": 2
}
