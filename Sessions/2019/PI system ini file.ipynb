{
 "cells": [
  {
   "cell_type": "code",
   "execution_count": 1,
   "metadata": {},
   "outputs": [
    {
     "data": {
      "text/plain": [
       "{'Message': '', 'Result': True}"
      ]
     },
     "execution_count": 1,
     "metadata": {},
     "output_type": "execute_result"
    }
   ],
   "source": [
    "from hello.hello3 import HelloApp\n",
    "app = HelloApp(\"192.168.1.11\")\n",
    "app.login()"
   ]
  },
  {
   "cell_type": "code",
   "execution_count": 3,
   "metadata": {},
   "outputs": [
    {
     "name": "stdout",
     "output_type": "stream",
     "text": [
      "do.pv                          -1.8334236145019531\n",
      "do.outputDown                  0\n",
      "do.manUp                       0\n",
      "do.manDown                     0\n",
      "do.interlocked                 0\n",
      "do.sp                          0\n",
      "do.error                       90\n",
      "do.mode                        2\n",
      "do.outputUp                    0\n",
      "pressure.pv                    0.00510048121213913\n",
      "pressure.error                 0\n",
      "maingas.interlocked            0\n",
      "maingas.pv                     0\n",
      "maingas.error                  0\n",
      "maingas.mode                   2\n",
      "maingas.man                    0.5\n",
      "agitation.pv                   0\n",
      "agitation.man                  0\n",
      "agitation.output               0\n",
      "agitation.interlocked          3\n",
      "agitation.sp                   12345\n",
      "agitation.error                90\n",
      "agitation.mode                 2\n",
      "level.pv                       0\n",
      "level.error                    90\n",
      "MFCs.n2                        0\n",
      "MFCs.co2                       0\n",
      "MFCs.o2                        0\n",
      "MFCs.air                       0\n",
      "condenser.pv                   35.34270477294922\n",
      "condenser.man                  0\n",
      "condenser.output               0\n",
      "condenser.sp                   35\n",
      "condenser.error                0\n",
      "condenser.mode                 0\n",
      "temperature.pv                 22.75333023071289\n",
      "temperature.man                0\n",
      "temperature.output             0\n",
      "temperature.interlocked        6\n",
      "temperature.sp                 0\n",
      "temperature.error              90\n",
      "temperature.mode               2\n",
      "ph.pv                          0\n",
      "ph.outputDown                  0\n",
      "ph.manUp                       0\n",
      "ph.manDown                     0\n",
      "ph.interlocked                 0\n",
      "ph.sp                          8.109999656677246\n",
      "ph.error                       200\n",
      "ph.mode                        2\n",
      "ph.outputUp                    0\n"
     ]
    }
   ],
   "source": [
    "mv = app.gpmv()\n",
    "i = 6\n",
    "for group, vals in mv.items():\n",
    "    for key, v in vals.items():\n",
    "        "
   ]
  },
  {
   "cell_type": "code",
   "execution_count": null,
   "metadata": {},
   "outputs": [],
   "source": []
  }
 ],
 "metadata": {
  "kernelspec": {
   "display_name": "Python 3",
   "language": "python",
   "name": "python3"
  },
  "language_info": {
   "codemirror_mode": {
    "name": "ipython",
    "version": 3
   },
   "file_extension": ".py",
   "mimetype": "text/x-python",
   "name": "python",
   "nbconvert_exporter": "python",
   "pygments_lexer": "ipython3",
   "version": "3.5.2"
  }
 },
 "nbformat": 4,
 "nbformat_minor": 2
}
