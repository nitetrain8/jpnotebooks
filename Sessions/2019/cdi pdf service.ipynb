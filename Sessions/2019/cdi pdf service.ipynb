{
 "cells": [
  {
   "cell_type": "code",
   "execution_count": 7,
   "metadata": {},
   "outputs": [],
   "source": [
    "import os, pdfrw, shutil\n",
    "os.chdir(\"C:\\\\users\\\\nathan\\\\desktop\")"
   ]
  },
  {
   "cell_type": "code",
   "execution_count": 2,
   "metadata": {},
   "outputs": [],
   "source": [
    "pdfs = [\n",
    "    ('000317J1801', '1-2,25-32,33-36'),\n",
    "    ('000314Q1504', '23-24,7-14,15-18,19-22'),\n",
    "    ('000317P2502', '37-38,39-46,47-50,83-86'),\n",
    "    ('000317Q2402', '51-52,53-60,61-64'),\n",
    "    ('000311T2902', '69-70,71-78,3-6,79-82'),\n",
    "    ('001516U0101', '87-88,89-98,99-102,103-106')\n",
    "]"
   ]
  },
  {
   "cell_type": "code",
   "execution_count": 8,
   "metadata": {},
   "outputs": [
    {
     "name": "stdout",
     "output_type": "stream",
     "text": [
      "creating CDI PM\\000317J1801 PM 190501.pdf\n",
      "creating CDI PM\\000314Q1504 PM 190501.pdf\n",
      "creating CDI PM\\000317P2502 PM 190501.pdf\n",
      "creating CDI PM\\000317Q2402 PM 190501.pdf\n",
      "creating CDI PM\\000311T2902 PM 190501.pdf\n",
      "creating CDI PM\\001516U0101 PM 190501.pdf\n"
     ]
    }
   ],
   "source": [
    "os.makedirs(\"CDI PM\", exist_ok=True)\n",
    "\n",
    "src = pdfrw.PdfFileReader(\"CDI April 2019 PM Report.pdf\")\n",
    "for sn, rng in pdfs:\n",
    "    fname = \"CDI PM\\\\%s PM 190501.pdf\"%sn\n",
    "    print(\"creating %s\"%fname)\n",
    "    dst = pdfrw.PdfFileWriter(fname)\n",
    "    ranges = rng.split(\",\")\n",
    "    for r in ranges:\n",
    "        a,b = r.split(\"-\")\n",
    "        for page in range(int(a), int(b)+1):\n",
    "            p = src.getPage(page-1)\n",
    "            dst.addPage(p)\n",
    "    dst.write()\n",
    "    \n",
    "del dst\n",
    "del src"
   ]
  },
  {
   "cell_type": "code",
   "execution_count": null,
   "metadata": {},
   "outputs": [],
   "source": []
  }
 ],
 "metadata": {
  "kernelspec": {
   "display_name": "Python 3",
   "language": "python",
   "name": "python3"
  },
  "language_info": {
   "codemirror_mode": {
    "name": "ipython",
    "version": 3
   },
   "file_extension": ".py",
   "mimetype": "text/x-python",
   "name": "python",
   "nbconvert_exporter": "python",
   "pygments_lexer": "ipython3",
   "version": "3.5.2"
  }
 },
 "nbformat": 4,
 "nbformat_minor": 2
}
