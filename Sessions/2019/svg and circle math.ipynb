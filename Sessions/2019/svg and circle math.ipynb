{
 "cells": [
  {
   "cell_type": "code",
   "execution_count": 161,
   "metadata": {},
   "outputs": [
    {
     "name": "stdout",
     "output_type": "stream",
     "text": [
      "Using matplotlib backend: TkAgg\n"
     ]
    }
   ],
   "source": [
    "%matplotlib\n",
    "from matplotlib import pyplot as plt\n",
    "from math import sin, cos, pi, degrees, radians, sqrt\n",
    "import numpy as np"
   ]
  },
  {
   "cell_type": "code",
   "execution_count": 172,
   "metadata": {
    "collapsed": true
   },
   "outputs": [],
   "source": [
    "pt = '    <path\\r\\n       style=\"fill:none;fill-rule:evenodd;stroke:#000000;stroke-width:%spx;stroke-linecap:butt;stroke-linejoin:miter;stroke-opacity:1\"\\r\\n       d=\"%s\"\\r\\n       id=\"path4203\"\\r\\n       inkscape:connector-curvature=\"0\"\\r\\n       sodipodi:nodetypes=\"ccc\" />'"
   ]
  },
  {
   "cell_type": "code",
   "execution_count": 173,
   "metadata": {
    "collapsed": true
   },
   "outputs": [],
   "source": [
    "r1=float(\"397.62207\")\n",
    "r2=float(\"436.00787\")\n",
    "d3 = r2 - (r1+r2)/2\n",
    "cy=float(\"502.73727\")\n",
    "cx=float(\"436.26474\")\n",
    "cx = 744.09449/2"
   ]
  },
  {
   "cell_type": "code",
   "execution_count": 174,
   "metadata": {
    "collapsed": true
   },
   "outputs": [],
   "source": [
    "def d2t(d,r):\n",
    "    return 1.5*pi-d/r\n",
    "thetas = [d2t(d,r1) for d in mm2p(174)]"
   ]
  },
  {
   "cell_type": "code",
   "execution_count": 164,
   "metadata": {
    "collapsed": true
   },
   "outputs": [],
   "source": [
    "mm_to_px = 100 / 28.222\n",
    "def mm2p(mm):\n",
    "    for c in range(mm):\n",
    "        yield c * mm_to_px / 2"
   ]
  },
  {
   "cell_type": "code",
   "execution_count": 166,
   "metadata": {},
   "outputs": [],
   "source": [
    "def coord(t,r):\n",
    "    return r*cos(t), r*sin(t)\n",
    "\n",
    "def xy(r, md=20):\n",
    "    x, y = list(zip(*[coord(t,r) for t in thetas]))\n",
    "    return np.array(x),np.array(y)\n",
    "\n",
    "def xy2(r, md=20):\n",
    "    x = []\n",
    "    y = []\n",
    "    for i, t in enumerate(thetas):\n",
    "        if i % 10:\n",
    "            x1, y1 = coord(t, r-d3)\n",
    "        else:\n",
    "            x1, y1 = coord(t, r)\n",
    "        x.append(x1)\n",
    "        y.append(y1)\n",
    "    return np.array(x), np.array(y)"
   ]
  },
  {
   "cell_type": "code",
   "execution_count": 167,
   "metadata": {},
   "outputs": [],
   "source": [
    "x1, y1 = xy(r1, 100)\n",
    "x2, y2 = xy2(r2, 100)\n",
    "\n",
    "plt.close()\n",
    "fig = plt.figure()\n",
    "ax = fig.add_subplot(111)\n",
    "ax.scatter(x1+cx, cy-y1)\n",
    "ax.scatter(x2+cx, cy-y2)\n",
    "ax.invert_yaxis()"
   ]
  },
  {
   "cell_type": "code",
   "execution_count": 170,
   "metadata": {},
   "outputs": [],
   "source": [
    "svgt = '<?xml version=\"1.0\" encoding=\"UTF-8\" standalone=\"no\"?>\\r\\n<!-- Created with Inkscape (http://www.inkscape.org/) -->\\r\\n\\r\\n<svg\\r\\n   xmlns:dc=\"http://purl.org/dc/elements/1.1/\"\\r\\n   xmlns:cc=\"http://creativecommons.org/ns#\"\\r\\n   xmlns:rdf=\"http://www.w3.org/1999/02/22-rdf-syntax-ns#\"\\r\\n   xmlns:svg=\"http://www.w3.org/2000/svg\"\\r\\n   xmlns=\"http://www.w3.org/2000/svg\"\\r\\n   xmlns:sodipodi=\"http://sodipodi.sourceforge.net/DTD/sodipodi-0.dtd\"\\r\\n   xmlns:inkscape=\"http://www.inkscape.org/namespaces/inkscape\"\\r\\n   width=\"210mm\"\\r\\n   height=\"297mm\"\\r\\n   viewBox=\"0 0 744.09448819 1052.3622047\"\\r\\n   id=\"svg2\"\\r\\n   version=\"1.1\"\\r\\n   inkscape:version=\"0.91 r13725\"\\r\\n   sodipodi:docname=\"Protractor.svg\">\\r\\n  <defs\\r\\n     id=\"defs4\" />\\r\\n  <sodipodi:namedview\\r\\n     id=\"base\"\\r\\n     pagecolor=\"#ffffff\"\\r\\n     bordercolor=\"#666666\"\\r\\n     borderopacity=\"1.0\"\\r\\n     inkscape:pageopacity=\"0.0\"\\r\\n     inkscape:pageshadow=\"2\"\\r\\n     inkscape:zoom=\"0.49497475\"\\r\\n     inkscape:cx=\"-19.730156\"\\r\\n     inkscape:cy=\"409.19277\"\\r\\n     inkscape:document-units=\"px\"\\r\\n     inkscape:current-layer=\"layer1\"\\r\\n     showgrid=\"false\"\\r\\n     inkscape:snap-bbox=\"true\"\\r\\n     inkscape:snap-bbox-midpoints=\"true\"\\r\\n     inkscape:window-width=\"958\"\\r\\n     inkscape:window-height=\"1008\"\\r\\n     inkscape:window-x=\"2873\"\\r\\n     inkscape:window-y=\"0\"\\r\\n     inkscape:window-maximized=\"0\" />\\r\\n  <metadata\\r\\n     id=\"metadata7\">\\r\\n    <rdf:RDF>\\r\\n      <cc:Work\\r\\n         rdf:about=\"\">\\r\\n        <dc:format>image/svg+xml</dc:format>\\r\\n        <dc:type\\r\\n           rdf:resource=\"http://purl.org/dc/dcmitype/StillImage\" />\\r\\n        <dc:title></dc:title>\\r\\n      </cc:Work>\\r\\n    </rdf:RDF>\\r\\n  </metadata>\\r\\n  <g\\r\\n     inkscape:label=\"Layer 1\"\\r\\n     inkscape:groupmode=\"layer\"\\r\\n     id=\"layer1\">\\r\\n    <path\\r\\n       style=\"fill:none;fill-rule:evenodd;stroke:#000000;stroke-width:1px;stroke-linecap:butt;stroke-linejoin:miter;stroke-opacity:1\"\\r\\n       d=\"m -174.02296,789.77017 -0.7995,89.99645 -0.368,41.42696\"\\r\\n       id=\"path4203\"\\r\\n       inkscape:connector-curvature=\"0\"\\r\\n       sodipodi:nodetypes=\"ccc\" />\\r\\n    <g\\r\\n       id=\"g4226\"\\r\\n       transform=\"translate(0.74313354,0)\">\\r\\n      <circle\\r\\n         r=\"397.62207\"\\r\\n         cy=\"%s\"\\r\\n         cx=\"%s\"\\r\\n         id=\"path4136\"\\r\\n         style=\"color:#000000;clip-rule:nonzero;display:inline;overflow:visible;visibility:visible;opacity:1;isolation:auto;mix-blend-mode:normal;color-interpolation:sRGB;color-interpolation-filters:linearRGB;solid-color:#000000;solid-opacity:1;fill:none;fill-opacity:1;fill-rule:nonzero;stroke:#000000;stroke-width:2;stroke-linecap:butt;stroke-linejoin:miter;stroke-miterlimit:4;stroke-dasharray:none;stroke-dashoffset:0;stroke-opacity:1;color-rendering:auto;image-rendering:auto;shape-rendering:auto;text-rendering:auto;enable-background:accumulate\" />\\r\\n      <circle\\r\\n         r=\"436.00787\"\\r\\n         cy=\"%s\"\\r\\n         cx=\"%s\"\\r\\n         id=\"path4136-1\"\\r\\n         style=\"color:#000000;clip-rule:nonzero;display:inline;overflow:visible;visibility:visible;opacity:1;isolation:auto;mix-blend-mode:normal;color-interpolation:sRGB;color-interpolation-filters:linearRGB;solid-color:#000000;solid-opacity:1;fill:none;fill-opacity:1;fill-rule:nonzero;stroke:#000000;stroke-width:2;stroke-linecap:butt;stroke-linejoin:miter;stroke-miterlimit:4;stroke-dasharray:none;stroke-dashoffset:0;stroke-opacity:1;color-rendering:auto;image-rendering:auto;shape-rendering:auto;text-rendering:auto;enable-background:accumulate\" />\\r\\n    </g>\\r\\n    %%s\\r\\n  </g>\\r\\n</svg>\\r\\n'\n",
    "svgt %= (cy, cx, cy, cx)"
   ]
  },
  {
   "cell_type": "code",
   "execution_count": 171,
   "metadata": {},
   "outputs": [],
   "source": [
    "lines = []\n",
    "data = zip(zip(x1+cx, cy-y1), zip(x2+cx, cy-y2))\n",
    "for i, ((a, b), (c, d)) in enumerate(data):\n",
    "    dat = \"M %.5f,%.5f %.5f,%.5f\"%(a,b,c,d)\n",
    "    if i % 10: \n",
    "        lw = 0.2\n",
    "    else: \n",
    "        lw = 1\n",
    "    lines.append((lw, dat))\n",
    "    \n",
    "data2 = zip(zip(cx-x1, cy-y1), zip(cx-x2, cy-y2))\n",
    "for i, ((a, b), (c, d)) in enumerate(data2):\n",
    "    dat = \"M %.5f,%.5f %.5f,%.5f\"%(a,b,c,d)\n",
    "    if i % 10: \n",
    "        lw = 0.2\n",
    "    else: \n",
    "        lw = 1\n",
    "    lines.append((lw, dat))\n",
    "    \n",
    "paths = \"\\n\".join(pt%s for s in lines)\n",
    "clipboard.copy(svgt%paths)"
   ]
  },
  {
   "cell_type": "code",
   "execution_count": null,
   "metadata": {
    "collapsed": true
   },
   "outputs": [],
   "source": []
  }
 ],
 "metadata": {
  "kernelspec": {
   "display_name": "Python 3",
   "language": "python",
   "name": "python3"
  },
  "language_info": {
   "codemirror_mode": {
    "name": "ipython",
    "version": 3
   },
   "file_extension": ".py",
   "mimetype": "text/x-python",
   "name": "python",
   "nbconvert_exporter": "python",
   "pygments_lexer": "ipython3",
   "version": "3.5.2"
  }
 },
 "nbformat": 4,
 "nbformat_minor": 2
}
