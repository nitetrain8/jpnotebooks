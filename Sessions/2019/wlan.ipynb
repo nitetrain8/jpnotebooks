{
 "cells": [
  {
   "cell_type": "code",
   "execution_count": null,
   "metadata": {
    "collapsed": false
   },
   "outputs": [],
   "source": [
    "import ctypes\n",
    "k32 = ctypes.WinDLL(\"kernel32.dll\")\n",
    "wlanapi = ctypes.WinDLL(\"Wlanapi.dll\")"
   ]
  },
  {
   "cell_type": "code",
   "execution_count": null,
   "metadata": {
    "collapsed": false
   },
   "outputs": [],
   "source": [
    "import pywintypes\n",
    "import ctypes.wintypes as wt\n",
    "\n",
    "H = wt.HANDLE\n",
    "DWORD = wt.DWORD\n",
    "PVOID = ctypes.c_void_p\n",
    "WCHAR = wt.WCHAR\n",
    "WLAN_INTERFACE_STATE = ctypes.c_uint\n",
    "BYTE = wt.BYTE\n",
    "WORD = wt.WORD\n",
    "HANDLE = wt.HANDLE\n",
    "\n",
    "\n",
    "\n",
    "class GUID(ctypes.Structure):\n",
    "    _fields_ = [\n",
    "        ('Data1', DWORD),\n",
    "        ('Data2', WORD),\n",
    "        ('Data3', WORD),\n",
    "        ('Data4', BYTE*8)\n",
    "    ]\n",
    "\n",
    "class WLAN_INTERFACE_INFO(ctypes.Structure):\n",
    "    _fields_ = [\n",
    "        ('InterfaceGuid', GUID),\n",
    "        ('strInterfaceDescription', WCHAR),\n",
    "        ('isState', WLAN_INTERFACE_STATE)\n",
    "    ]\n",
    "\n",
    "class PWLAN_INTERFACE_INFO_LIST(ctypes.Structure):\n",
    "    _fields_ = [\n",
    "        (\"dwNumberOfItems\", ctypes.POINTER(DWORD)),\n",
    "        ('dwIndex', DWORD),\n",
    "        ('InterfaceInfo', ctypes.POINTER(WLAN_INTERFACE_INFO))\n",
    "    ]\n",
    "    \n",
    "PINFO = ctypes.POINTER(PWLAN_INTERFACE_INFO_LIST)\n",
    "PDWORD = ctypes.POINTER(DWORD)\n",
    "PHANDLE = ctypes.POINTER(HANDLE)\n",
    "\n",
    "# class PWLAN_AVAILABLE_NETWORK_LIST(ctypes.Structure):\n",
    "#     _fields_ = [\n",
    "#         ('dwNumberofItems', DWORD),\n",
    "#         ('dwIndex', DWORD),\n",
    "#         ('Network', WLAN_AVAILABLE_NETWORK*20)\n",
    "#     ]"
   ]
  },
  {
   "cell_type": "code",
   "execution_count": null,
   "metadata": {
    "collapsed": false
   },
   "outputs": [],
   "source": [
    "WlanEnumInterfaces = wlanapi.WlanEnumInterfaces\n",
    "WlanEnumInterfaces.argtypes = [HANDLE, PVOID, PINFO]\n",
    "WlanEnumInterfaces.restype = DWORD\n",
    "\n",
    "WlanOpenHandle = wlanapi.WlanOpenHandle\n",
    "WlanOpenHandle.argtypes = [DWORD, PVOID, PDWORD, PHANDLE]\n",
    "WlanOpenHandle.restype = DWORD\n",
    "\n",
    "# WlanGetAvailableNetworkList = wlanapi.WlanGetAvailableNetworkList\n",
    "# WlanGetAvailableNetworkList.argtypes = [HANDLE, GUID, DWORD, PVOID, PWLAN_AVAILABLE_NETWORK_LIST ]\n",
    "# WlanGetAvailableNetworkList.restype = DWORD\n",
    "\n",
    "WlanScan = wlanapi.WlanScan\n",
    "WlanScan.argtypes = [HANDLE, GUID, PVOID, PVOID, PVOID]\n",
    "WlanScan.restype = DWORD"
   ]
  },
  {
   "cell_type": "code",
   "execution_count": null,
   "metadata": {
    "collapsed": false
   },
   "outputs": [],
   "source": [
    "dwClientVersion = 2\n",
    "pres = None\n",
    "#pdwNegotiatedVersion = PDWORD(ctypes.c_ulong(2))\n",
    "#phClientHandle = PHANDLE(None)\n",
    "\n",
    "neg_version = ctypes.c_ulong(0)\n",
    "client_handle = HANDLE(0)\n",
    "br = ctypes.byref\n",
    "WlanOpenHandle(dwClientVersion, pres, br(neg_version), br(client_handle))"
   ]
  },
  {
   "cell_type": "code",
   "execution_count": null,
   "metadata": {
    "collapsed": false
   },
   "outputs": [],
   "source": [
    "ppi = PWLAN_INTERFACE_INFO_LIST()\n",
    "WlanEnumInterfaces(client_handle, None, br(ppi))"
   ]
  },
  {
   "cell_type": "code",
   "execution_count": null,
   "metadata": {
    "collapsed": false
   },
   "outputs": [],
   "source": [
    "ppi.dwNumberOfItems.contents"
   ]
  },
  {
   "cell_type": "code",
   "execution_count": null,
   "metadata": {
    "collapsed": false
   },
   "outputs": [],
   "source": [
    "guid = ppi.InterfaceInfo"
   ]
  },
  {
   "cell_type": "code",
   "execution_count": null,
   "metadata": {
    "collapsed": false
   },
   "outputs": [],
   "source": [
    "WlanScan(client_handle, br(guid), None, None, None)"
   ]
  },
  {
   "cell_type": "code",
   "execution_count": null,
   "metadata": {
    "collapsed": false
   },
   "outputs": [],
   "source": [
    "ppi.dwIndex, ppi.dwNumberOfItems.contents\n",
    "ppi.InterfaceInfo[0].InterfaceGuid.Data4"
   ]
  },
  {
   "cell_type": "code",
   "execution_count": null,
   "metadata": {
    "collapsed": false
   },
   "outputs": [],
   "source": [
    "import subprocess\n",
    "def get_current_wifi2():\n",
    "    lines = subprocess.getoutput(\"netsh wlan show interfaces\").splitlines()\n",
    "    ilines = iter(lines)\n",
    "    i = 0\n",
    "    def nl(ilines):\n",
    "        line = next(ilines, None)\n",
    "        if line is None:\n",
    "            return None, None\n",
    "        try:\n",
    "            key, val = line.split(\":\", 1)\n",
    "        except ValueError as e:\n",
    "            return \"\", \"\"\n",
    "        key = key.strip()\n",
    "        val = val.strip()\n",
    "        return key, val\n",
    "\n",
    "    k = v = 1\n",
    "    while k is not None:\n",
    "        k, v = nl(ilines)\n",
    "        if k == \"Name\" and v == \"Wi-Fi\":\n",
    "            while True:\n",
    "                k, v = nl(ilines)\n",
    "                if k == \"SSID\":\n",
    "                    return v\n",
    "                \n",
    "def get_current_wifi():\n",
    "    lines = subprocess.getoutput(\"netsh wlan show interfaces\").splitlines()\n",
    "    name = None\n",
    "    for line in lines:\n",
    "        try:\n",
    "            key, val = line.split(\":\", 1)\n",
    "        except ValueError:\n",
    "            continue\n",
    "        key = key.strip()\n",
    "        val = val.strip()\n",
    "        if key == \"Name\":\n",
    "            name = val\n",
    "            continue\n",
    "        if key == \"SSID\" and name == \"Wi-Fi\":\n",
    "            return val"
   ]
  },
  {
   "cell_type": "code",
   "execution_count": null,
   "metadata": {
    "collapsed": false
   },
   "outputs": [],
   "source": [
    "get_current_wifi()"
   ]
  },
  {
   "cell_type": "code",
   "execution_count": null,
   "metadata": {
    "collapsed": true
   },
   "outputs": [],
   "source": [
    "def connect_wifi(nw):\n",
    "    if get_current_wifi() == nw:\n",
    "        print(\"Already on %s\" % nw)\n",
    "        return\n",
    "    try:\n",
    "        subprocess.check_call(\"netsh wlan connect name=\\\"%s\\\"\"%nw)\n",
    "    except subprocess.CalledProcessError as e:\n",
    "        raise NameError(\"No network named %r found\" % nw) from None\n",
    "    print(\"Switched to %s\" % nw)"
   ]
  },
  {
   "cell_type": "code",
   "execution_count": null,
   "metadata": {
    "collapsed": false
   },
   "outputs": [],
   "source": [
    "connect_wifi(\"pbstech\")"
   ]
  },
  {
   "cell_type": "code",
   "execution_count": null,
   "metadata": {
    "collapsed": false
   },
   "outputs": [],
   "source": [
    "connect_wifi(\"PBSBIOTECH\")"
   ]
  },
  {
   "cell_type": "code",
   "execution_count": 1,
   "metadata": {
    "collapsed": false
   },
   "outputs": [],
   "source": [
    "from scripts import wlan"
   ]
  },
  {
   "cell_type": "code",
   "execution_count": 2,
   "metadata": {
    "collapsed": false
   },
   "outputs": [
    {
     "name": "stdout",
     "output_type": "stream",
     "text": [
      "Switched to pbstech\n"
     ]
    }
   ],
   "source": [
    "wlan.ensure_wifi('pbstech', 20)"
   ]
  },
  {
   "cell_type": "code",
   "execution_count": null,
   "metadata": {
    "collapsed": true
   },
   "outputs": [],
   "source": [
    "import clipboard\n",
    "clipboard.copy(repr(clipboard.paste()))"
   ]
  },
  {
   "cell_type": "code",
   "execution_count": null,
   "metadata": {
    "collapsed": false
   },
   "outputs": [],
   "source": [
    "import os\n",
    "os.path.dirname(\"C:\\\\foo\\\\bar\")"
   ]
  },
  {
   "cell_type": "code",
   "execution_count": null,
   "metadata": {
    "collapsed": true
   },
   "outputs": [],
   "source": []
  }
 ],
 "metadata": {
  "kernelspec": {
   "display_name": "Python 3",
   "language": "python",
   "name": "python3"
  },
  "language_info": {
   "codemirror_mode": {
    "name": "ipython",
    "version": 3
   },
   "file_extension": ".py",
   "mimetype": "text/x-python",
   "name": "python",
   "nbconvert_exporter": "python",
   "pygments_lexer": "ipython3",
   "version": "3.5.2"
  }
 },
 "nbformat": 4,
 "nbformat_minor": 1
}
