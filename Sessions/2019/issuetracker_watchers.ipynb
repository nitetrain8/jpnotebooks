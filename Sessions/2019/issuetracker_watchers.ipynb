{
 "cells": [
  {
   "cell_type": "code",
   "execution_count": 1,
   "metadata": {
    "collapsed": true
   },
   "outputs": [],
   "source": [
    "from scripts.tools.issuetracker import IssuetrackerAPI,Issue"
   ]
  },
  {
   "cell_type": "code",
   "execution_count": 2,
   "metadata": {
    "collapsed": false
   },
   "outputs": [],
   "source": [
    "api = IssuetrackerAPI('issue.pbsbiotech.com', 'nstarkweather@pbsbiotech.com', 'kookychemist')"
   ]
  },
  {
   "cell_type": "code",
   "execution_count": 3,
   "metadata": {
    "collapsed": false
   },
   "outputs": [
    {
     "name": "stdout",
     "output_type": "stream",
     "text": [
      "Downloading issues...Downloading projects...\n",
      "Downloading issues: 966/966      \n"
     ]
    }
   ],
   "source": [
    "iss = api.download_issues()"
   ]
  },
  {
   "cell_type": "code",
   "execution_count": 4,
   "metadata": {
    "collapsed": true
   },
   "outputs": [],
   "source": [
    "from urllib.parse import urljoin as uj\n",
    "def download_users(self, fmt='json', status=None, name=None, group_id=None):\n",
    "    url = \"/users.\"+fmt\n",
    "    url = uj(self._base_url, url)\n",
    "    kw = {}\n",
    "    if status:\n",
    "        kw['status'] = status\n",
    "    if name:\n",
    "        kw['name'] = name\n",
    "    if group_id:\n",
    "        kw['group_id'] = group_id\n",
    "    if kw:\n",
    "        url += \"?\" + urllib.parse.urlencode(ops)\n",
    "    r = self._sess.get(url, auth=self._auth)\n",
    "    r.raise_for_status()\n",
    "    d = json.loads(r.content.decode())['user']\n",
    "    rv = {}\n",
    "    for user in users:\n",
    "        name = user['firstname'] + \" \" + user['lastname']\n",
    "        id = user['id']\n",
    "        u = User(api, name, id)\n",
    "        for k, v in user.items():\n",
    "            setattr(u, k, v)\n",
    "        rv[id] = u\n",
    "    return rv"
   ]
  },
  {
   "cell_type": "code",
   "execution_count": 5,
   "metadata": {
    "collapsed": false,
    "scrolled": false
   },
   "outputs": [
    {
     "name": "stdout",
     "output_type": "stream",
     "text": [
      "User(name='Gary Evans', id=7)\n",
      "User(name='Jim Eby', id=46)\n",
      "User(name='Yas Hashimura', id=10)\n",
      "User(name='Nathan Starkweather', id=39)\n",
      "User(name='Pete Dry', id=84)\n",
      "User(name='Alan Rea', id=59)\n",
      "User(name='Sam Guerra', id=76)\n",
      "User(name='Tom Zevin', id=60)\n",
      "User(name='Cindy Aparicio', id=47)\n",
      "User(name='Neil Jeffers', id=71)\n",
      "User(name='Randy Ray', id=32)\n",
      "User(name='Robin Wesselschmidt', id=65)\n",
      "User(name='Chen Lim', id=63)\n",
      "User(name='Megan Crail', id=61)\n",
      "User(name='James Small', id=42)\n",
      "User(name='Veronica Custer', id=45)\n",
      "User(name='Jonathan Warner', id=6)\n",
      "User(name='Marcus VanKommer', id=8)\n",
      "User(name='Matt Botke', id=57)\n",
      "User(name='Oscar Garza', id=40)\n",
      "User(name='Darryl Patterson', id=82)\n",
      "User(name='Joe Brendle', id=25)\n",
      "User(name='Joe Petrosky', id=52)\n",
      "User(name='Derek Jennings', id=53)\n",
      "User(name='Ashley Harris', id=14)\n",
      "User(name='Christian Nilsson', id=3)\n",
      "User(name='Daniel Giroux', id=4)\n",
      "User(name='Steve Giovanetto', id=72)\n",
      "User(name='Jim Schultz', id=18)\n"
     ]
    }
   ],
   "source": [
    "users = set()\n",
    "for i in iss.values():\n",
    "    if i.assigned_to:\n",
    "        users.add(i.assigned_to)\n",
    "for u in users:\n",
    "    print(u)"
   ]
  },
  {
   "cell_type": "code",
   "execution_count": 6,
   "metadata": {
    "collapsed": true
   },
   "outputs": [],
   "source": [
    "api._sess.delete?"
   ]
  },
  {
   "cell_type": "code",
   "execution_count": 9,
   "metadata": {
    "collapsed": false
   },
   "outputs": [
    {
     "data": {
      "text/plain": [
       "'{\"a\": 1}'"
      ]
     },
     "execution_count": 9,
     "metadata": {},
     "output_type": "execute_result"
    }
   ],
   "source": [
    "import json; json.dumps({'a':1})"
   ]
  },
  {
   "cell_type": "code",
   "execution_count": 19,
   "metadata": {
    "collapsed": true
   },
   "outputs": [],
   "source": [
    "def add_watcher(self, iid, user_id):\n",
    "    j ='{\"user_id\": %d}'%iid\n",
    "    url = \"/issues/%s/watchers.json\"%iid\n",
    "    url = uj(self._base_url, url)\n",
    "    r = self._sess.post(url, data=j)\n",
    "    r.raise_for_status()\n",
    "    return r.content\n",
    "\n",
    "def delete_watcher(self, iid, user_id):\n",
    "    url = \"/issues/%s/watchers/%s.json\"%(iid, user_id)\n",
    "    url = uj(self._base_url, url)\n",
    "    r = self._sess.delete(url)\n",
    "    r.raise_for_status()\n",
    "    return r.content"
   ]
  },
  {
   "cell_type": "code",
   "execution_count": 20,
   "metadata": {
    "collapsed": false
   },
   "outputs": [
    {
     "ename": "HTTPError",
     "evalue": "401 Client Error: Unauthorized for url: https://issue.pbsbiotech.com/issues/3220/watchers/39.json",
     "output_type": "error",
     "traceback": [
      "\u001b[0;31m---------------------------------------------------------------------------\u001b[0m",
      "\u001b[0;31mHTTPError\u001b[0m                                 Traceback (most recent call last)",
      "\u001b[0;32m<ipython-input-20-ad64b958cf07>\u001b[0m in \u001b[0;36m<module>\u001b[0;34m()\u001b[0m\n\u001b[0;32m----> 1\u001b[0;31m \u001b[0mdelete_watcher\u001b[0m\u001b[1;33m(\u001b[0m\u001b[0mapi\u001b[0m\u001b[1;33m,\u001b[0m \u001b[1;36m3220\u001b[0m\u001b[1;33m,\u001b[0m \u001b[1;36m39\u001b[0m\u001b[1;33m)\u001b[0m\u001b[1;33m\u001b[0m\u001b[0m\n\u001b[0m",
      "\u001b[0;32m<ipython-input-19-c6fa4692b007>\u001b[0m in \u001b[0;36mdelete_watcher\u001b[0;34m(self, iid, user_id)\u001b[0m\n\u001b[1;32m     11\u001b[0m     \u001b[0murl\u001b[0m \u001b[1;33m=\u001b[0m \u001b[0muj\u001b[0m\u001b[1;33m(\u001b[0m\u001b[0mself\u001b[0m\u001b[1;33m.\u001b[0m\u001b[0m_base_url\u001b[0m\u001b[1;33m,\u001b[0m \u001b[0murl\u001b[0m\u001b[1;33m)\u001b[0m\u001b[1;33m\u001b[0m\u001b[0m\n\u001b[1;32m     12\u001b[0m     \u001b[0mr\u001b[0m \u001b[1;33m=\u001b[0m \u001b[0mself\u001b[0m\u001b[1;33m.\u001b[0m\u001b[0m_sess\u001b[0m\u001b[1;33m.\u001b[0m\u001b[0mdelete\u001b[0m\u001b[1;33m(\u001b[0m\u001b[0murl\u001b[0m\u001b[1;33m)\u001b[0m\u001b[1;33m\u001b[0m\u001b[0m\n\u001b[0;32m---> 13\u001b[0;31m     \u001b[0mr\u001b[0m\u001b[1;33m.\u001b[0m\u001b[0mraise_for_status\u001b[0m\u001b[1;33m(\u001b[0m\u001b[1;33m)\u001b[0m\u001b[1;33m\u001b[0m\u001b[0m\n\u001b[0m\u001b[1;32m     14\u001b[0m     \u001b[1;32mreturn\u001b[0m \u001b[0mr\u001b[0m\u001b[1;33m.\u001b[0m\u001b[0mcontent\u001b[0m\u001b[1;33m\u001b[0m\u001b[0m\n",
      "\u001b[0;32mc:\\program files\\python35\\lib\\site-packages\\requests\\models.py\u001b[0m in \u001b[0;36mraise_for_status\u001b[0;34m(self)\u001b[0m\n\u001b[1;32m    860\u001b[0m \u001b[1;33m\u001b[0m\u001b[0m\n\u001b[1;32m    861\u001b[0m         \u001b[1;32mif\u001b[0m \u001b[0mhttp_error_msg\u001b[0m\u001b[1;33m:\u001b[0m\u001b[1;33m\u001b[0m\u001b[0m\n\u001b[0;32m--> 862\u001b[0;31m             \u001b[1;32mraise\u001b[0m \u001b[0mHTTPError\u001b[0m\u001b[1;33m(\u001b[0m\u001b[0mhttp_error_msg\u001b[0m\u001b[1;33m,\u001b[0m \u001b[0mresponse\u001b[0m\u001b[1;33m=\u001b[0m\u001b[0mself\u001b[0m\u001b[1;33m)\u001b[0m\u001b[1;33m\u001b[0m\u001b[0m\n\u001b[0m\u001b[1;32m    863\u001b[0m \u001b[1;33m\u001b[0m\u001b[0m\n\u001b[1;32m    864\u001b[0m     \u001b[1;32mdef\u001b[0m \u001b[0mclose\u001b[0m\u001b[1;33m(\u001b[0m\u001b[0mself\u001b[0m\u001b[1;33m)\u001b[0m\u001b[1;33m:\u001b[0m\u001b[1;33m\u001b[0m\u001b[0m\n",
      "\u001b[0;31mHTTPError\u001b[0m: 401 Client Error: Unauthorized for url: https://issue.pbsbiotech.com/issues/3220/watchers/39.json"
     ]
    }
   ],
   "source": [
    "delete_watcher(api, 3220, 39)"
   ]
  },
  {
   "cell_type": "code",
   "execution_count": null,
   "metadata": {
    "collapsed": true
   },
   "outputs": [],
   "source": [
    "DELETE /issues/[id]/watchers/[user_id].[format]\n",
    "POST /issues/[id]/watchers.[format]"
   ]
  }
 ],
 "metadata": {
  "kernelspec": {
   "display_name": "Python 3",
   "language": "python",
   "name": "python3"
  },
  "language_info": {
   "codemirror_mode": {
    "name": "ipython",
    "version": 3
   },
   "file_extension": ".py",
   "mimetype": "text/x-python",
   "name": "python",
   "nbconvert_exporter": "python",
   "pygments_lexer": "ipython3",
   "version": "3.5.2"
  }
 },
 "nbformat": 4,
 "nbformat_minor": 1
}
