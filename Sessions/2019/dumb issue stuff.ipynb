{
 "cells": [
  {
   "cell_type": "code",
   "execution_count": 1,
   "metadata": {},
   "outputs": [],
   "source": [
    "from scripts.tools.issuetracker import IssuetrackerAPI"
   ]
  },
  {
   "cell_type": "code",
   "execution_count": 12,
   "metadata": {},
   "outputs": [
    {
     "name": "stdout",
     "output_type": "stream",
     "text": [
      "Downloading projects...\n",
      "Downloading issues: 703/703      \n"
     ]
    }
   ],
   "source": [
    "api = IssuetrackerAPI(\"https://issue.pbsbiotech.com\", 'nstarkweather', 'kookychemist')\n"
   ]
  },
  {
   "cell_type": "code",
   "execution_count": 15,
   "metadata": {},
   "outputs": [
    {
     "name": "stdout",
     "output_type": "stream",
     "text": [
      "Downloading issues: 1761/1761      \n"
     ]
    }
   ],
   "source": [
    "issues = list(api.download_issues('pbssoftware', status_id=\"*\"))"
   ]
  },
  {
   "cell_type": "code",
   "execution_count": 99,
   "metadata": {},
   "outputs": [],
   "source": [
    "from datetime import datetime\n",
    "import pytz\n",
    "when = datetime(2019, 5, 5, tzinfo=pytz.utc)\n",
    "def want(i): \n",
    "    return i.sprint_milestone in (\"Future Release\", \"3.1.0\", \"3.1.1\") and \\\n",
    "            i.tracker.name == 'Bug' and \\\n",
    "            (i.status.name not in (\"Closed\", \"Rejected\") or i.modified_on > when)\n",
    "            \n",
    "ilst = [i for i in issues if want(i)]"
   ]
  },
  {
   "cell_type": "code",
   "execution_count": 100,
   "metadata": {},
   "outputs": [
    {
     "data": {
      "text/plain": [
       "62"
      ]
     },
     "execution_count": 100,
     "metadata": {},
     "output_type": "execute_result"
    }
   ],
   "source": [
    "len(ilst)"
   ]
  },
  {
   "cell_type": "code",
   "execution_count": 101,
   "metadata": {},
   "outputs": [
    {
     "data": {
      "text/plain": [
       "[Issue('Install.bat on IM00226 USB not copying to Desktop'),\n",
       " Issue('Trigger leak/fuse/comb plate alarms when SUSTAINED'),\n",
       " Issue('Integrity/Decay Test fails when CPU is taxed'),\n",
       " Issue('Agitation High High'),\n",
       " Issue('IM00226 Update setting temporary variables problems'),\n",
       " Issue(\"IM00226 Install isn't putting EDC file onto Desktop\"),\n",
       " Issue('AlarmBuzzerPeriod(Cycle) not set correctly on startup'),\n",
       " Issue('Process data report truncates data from the first variable in the report if that variable has the most data points recorded. '),\n",
       " Issue('AlarmBuzzerPeriod(Cycle) not set correctly on startup (durable)'),\n",
       " Issue(\"Hello Restart/Shutdown doesn't work if user first did Shell > System > Power\"),\n",
       " Issue('Fix FindWindows API error on boot'),\n",
       " Issue('Manufacturing RIO reboot and white Hello'),\n",
       " Issue('Chrome open without Shell'),\n",
       " Issue('Early Server Logout'),\n",
       " Issue('Recipe editor can save recipes without steps'),\n",
       " Issue('RIO not rebooting cleanly'),\n",
       " Issue('PBS 3 shows pH B fail (range) alarms'),\n",
       " Issue('Stopping Bioreactor Startup user event is incorrect'),\n",
       " Issue('A user could delete ALL accounts'),\n",
       " Issue('Problems with \"Configure Users\" tab'),\n",
       " Issue('Shell crashing (PBS 3 CDI 4)'),\n",
       " Issue('Recipes not appearing in recipe list'),\n",
       " Issue('Update memory SMTP Settings if Email Password was modified'),\n",
       " Issue('PBS Users.conf file corrupted'),\n",
       " Issue('Selecting window'),\n",
       " Issue('Bioreactor installation occasionally fails. '),\n",
       " Issue('Load Bag menu truncating decimals'),\n",
       " Issue('Loading >100 alarms in Web UI fails on some remote clients'),\n",
       " Issue('Error 1026 from Execute SQL Write.vi or SQL Write.vi'),\n",
       " Issue('Harvest Timeout popup appears sometimes when starting Service UI'),\n",
       " Issue('Memory issue on Bosch machine'),\n",
       " Issue('queueing \"stop recipe\" command'),\n",
       " Issue('Schedule tab empty file'),\n",
       " Issue('Remove name restriction from Editor VI open dialog'),\n",
       " Issue('Level Span to value in Cal Actual 2 box not working'),\n",
       " Issue(\"Remove 'dig' and 'analog' from Service UI Pumps tab\"),\n",
       " Issue(\"Why doesn't LED stay on during RIO reboot?\"),\n",
       " Issue('Restructure Alarm and Email Settings Configuration'),\n",
       " Issue('Possibly use a true PDM for base control'),\n",
       " Issue('Create Mock Server interface for testing Web UI '),\n",
       " Issue('Remove looping when changing time range options on HELLO UI graph'),\n",
       " Issue('Select sensors locks sometimes need to be clicked twice. '),\n",
       " Issue('Split getReport into two server calls.'),\n",
       " Issue('Server \"Context Help\"'),\n",
       " Issue('Trial cal after inactivity logout'),\n",
       " Issue('Remove spaces from server calls'),\n",
       " Issue('Remote client shows weird timestamps if Bioreactor windows time is way behind. '),\n",
       " Issue('Auto logout during pH calibration'),\n",
       " Issue('3L has pressure interlock'),\n",
       " Issue('On occasion, settings tab fails to load collapsible tabs'),\n",
       " Issue('Recognize NaN errors when Web UI loads'),\n",
       " Issue(\"No report link generated if email isn't configured correctly\"),\n",
       " Issue('Pumps&ValvesFillSpeed(RPM) 2 and 3 Windows globals not changed by recipe'),\n",
       " Issue('Calendar display glitch in \"Export Data\"'),\n",
       " Issue('pH \"Fail Rate (pH/min)\" and \"Base Wait Time (s)\" work strangely'),\n",
       " Issue(\"iPhone - warning overlays aren't centered\"),\n",
       " Issue('Sensors updating needs new strategy'),\n",
       " Issue('Shutdown countdown should be 30s, 20s, 10s'),\n",
       " Issue('Memory Leak'),\n",
       " Issue('Calibration graphs show slight gap when switching screens'),\n",
       " Issue('3L Agitation problems at 1.5 L volume'),\n",
       " Issue('Modal Overlay Graphics and Functionality Break when toggling to/from Full Screen with Overlay Active.')]"
      ]
     },
     "execution_count": 101,
     "metadata": {},
     "output_type": "execute_result"
    }
   ],
   "source": [
    "ilst"
   ]
  },
  {
   "cell_type": "code",
   "execution_count": 28,
   "metadata": {},
   "outputs": [],
   "source": [
    "from officelib.xllib import *"
   ]
  },
  {
   "cell_type": "code",
   "execution_count": 29,
   "metadata": {},
   "outputs": [],
   "source": [
    "xl = Excel()"
   ]
  },
  {
   "cell_type": "code",
   "execution_count": 87,
   "metadata": {},
   "outputs": [],
   "source": [
    "wb = xl.Workbooks.Open(\"C:/users/nathan/downloads/TTf5729.tmp.xlsx\")\n",
    "ws = wb.Worksheets(1)\n",
    "cells = ws.Cells\n",
    "cr = cells.Range"
   ]
  },
  {
   "cell_type": "code",
   "execution_count": 88,
   "metadata": {},
   "outputs": [],
   "source": [
    "xl.Visible=True"
   ]
  },
  {
   "cell_type": "code",
   "execution_count": 89,
   "metadata": {},
   "outputs": [],
   "source": [
    "values = xl.Selection.Value2"
   ]
  },
  {
   "cell_type": "code",
   "execution_count": 90,
   "metadata": {},
   "outputs": [],
   "source": [
    "import re\n",
    "isid = re.compile(r\".*https\\:\\/\\/issue\\.pbsbiotech\\.com\\/issues\\/(\\d+)\").match"
   ]
  },
  {
   "cell_type": "code",
   "execution_count": 91,
   "metadata": {},
   "outputs": [],
   "source": [
    "imap = {i.id: i for i in ilst}"
   ]
  },
  {
   "cell_type": "code",
   "execution_count": 92,
   "metadata": {},
   "outputs": [],
   "source": [
    "imported = []\n",
    "for number, _title, _type, _priority, _status, cell, in values:\n",
    "    m = isid(cell)\n",
    "#     print(cell)\n",
    "    if m:\n",
    "        id = m.group(1)\n",
    "        imported.append((int(number), int(id)))"
   ]
  },
  {
   "cell_type": "code",
   "execution_count": 79,
   "metadata": {},
   "outputs": [],
   "source": [
    "data = []\n",
    "tmap = {id: number for number, id in imported}\n",
    "for number, id in imported:\n",
    "    data.append((id, imap[id].subject, tmap[id]))"
   ]
  },
  {
   "cell_type": "code",
   "execution_count": 104,
   "metadata": {},
   "outputs": [],
   "source": [
    "data = []\n",
    "tmap = {id: number for number, id in imported}\n",
    "for issue in ilst:\n",
    "    id = issue.id\n",
    "    data.append((id, issue.subject, tmap.get(id, issue.status.name)))"
   ]
  },
  {
   "cell_type": "code",
   "execution_count": 105,
   "metadata": {},
   "outputs": [],
   "source": [
    "c1 = xl.Selection.Parent.Range(\"A1\")\n",
    "c2 = c1.GetOffset(len(data)-1, len(data[0])-1)\n",
    "xl.Selection.Range(c1, c2).Value = data"
   ]
  },
  {
   "cell_type": "code",
   "execution_count": null,
   "metadata": {},
   "outputs": [],
   "source": []
  }
 ],
 "metadata": {
  "kernelspec": {
   "display_name": "Python 3",
   "language": "python",
   "name": "python3"
  },
  "language_info": {
   "codemirror_mode": {
    "name": "ipython",
    "version": 3
   },
   "file_extension": ".py",
   "mimetype": "text/x-python",
   "name": "python",
   "nbconvert_exporter": "python",
   "pygments_lexer": "ipython3",
   "version": "3.5.2"
  }
 },
 "nbformat": 4,
 "nbformat_minor": 2
}
