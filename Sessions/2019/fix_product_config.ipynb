{
 "cells": [
  {
   "cell_type": "code",
   "execution_count": 1,
   "metadata": {},
   "outputs": [],
   "source": [
    "from officelib.xllib import *"
   ]
  },
  {
   "cell_type": "code",
   "execution_count": 2,
   "metadata": {},
   "outputs": [],
   "source": [
    "xl = Excel()"
   ]
  },
  {
   "cell_type": "code",
   "execution_count": 3,
   "metadata": {},
   "outputs": [
    {
     "data": {
      "text/plain": [
       "'Product Configuration unlocked_CS.xlsx'"
      ]
     },
     "execution_count": 3,
     "metadata": {},
     "output_type": "execute_result"
    }
   ],
   "source": [
    "nwb = xl.Workbooks(\"Product Configuration unlocked_CS.xlsx\")\n",
    "nwb.Name"
   ]
  },
  {
   "cell_type": "code",
   "execution_count": 4,
   "metadata": {},
   "outputs": [
    {
     "data": {
      "text/plain": [
       "'Product Configuration unlocked.xlsx'"
      ]
     },
     "execution_count": 4,
     "metadata": {},
     "output_type": "execute_result"
    }
   ],
   "source": [
    "owb = xl.Workbooks(\"Product Configuration unlocked.xlsx\")\n",
    "owb.Name"
   ]
  },
  {
   "cell_type": "code",
   "execution_count": 5,
   "metadata": {},
   "outputs": [],
   "source": [
    "def getdata(ws):\n",
    "    c1 = ws.Cells.Range(\"A2\")\n",
    "    c2 = c1.End(xlc.xlToRight)\n",
    "    c3 = c1.End(xlc.xlDown)\n",
    "    c4 = ws.Cells(c3.Row, c2.Column)\n",
    "    return ws.Cells.Range(c1, c4).Value, ws.Cells.Range(c1.Offset(0, 1), c2.Offset(0, 1)).Value[0]"
   ]
  },
  {
   "cell_type": "code",
   "execution_count": 25,
   "metadata": {},
   "outputs": [],
   "source": [
    "from itertools import zip_longest \n",
    "\n",
    "for wsn in (\"Bioreactor Configuration\", \"Customer Info\", \"Product Information\", \"IQOQ Configurations\", \"LogMeIn Central Group Info\"):\n",
    "    nd, nh = getdata(nwb.Worksheets(wsn))\n",
    "    od, oh = getdata(owb.Worksheets(wsn))\n",
    "\n",
    "    for i, (o, n) in enumerate(zip_longest(od, nd, fillvalue=()), 2):\n",
    "        if o != n:\n",
    "            print(i) # o[0], n[0])\n",
    "            for a, b, h in zip_longest(o, n, nh, fillvalue=\"\"):\n",
    "                if a != b:\n",
    "                    print(\"   \", h, a, b)"
   ]
  },
  {
   "cell_type": "code",
   "execution_count": 8,
   "metadata": {},
   "outputs": [],
   "source": [
    "nd, nh = getdata(nwb.Worksheets(\"Bioreactor Configuration\"))\n",
    "od, oh = getdata(owb.Worksheets(\"Bioreactor Configuration\"))"
   ]
  },
  {
   "cell_type": "code",
   "execution_count": 9,
   "metadata": {},
   "outputs": [
    {
     "data": {
      "text/plain": [
       "('000312L2901',\n",
       " 113.0,\n",
       " pywintypes.datetime(2018, 9, 28, 0, 0, tzinfo=TimeZoneInfo('GMT Standard Time', True)),\n",
       " 'PBS 3 Biolab 5',\n",
       " 'Air 3',\n",
       " 'IA-3-B-591',\n",
       " 14.0,\n",
       " 'C')"
      ]
     },
     "execution_count": 9,
     "metadata": {},
     "output_type": "execute_result"
    }
   ],
   "source": [
    "od[-1]"
   ]
  },
  {
   "cell_type": "code",
   "execution_count": 10,
   "metadata": {},
   "outputs": [
    {
     "data": {
      "text/plain": [
       "('000318Q1702',\n",
       " None,\n",
       " pywintypes.datetime(2018, 9, 25, 0, 0, tzinfo=TimeZoneInfo('GMT Standard Time', True)),\n",
       " 'PS 3 Demo 58',\n",
       " 'Mag 3',\n",
       " 'IA-3-B-501',\n",
       " 58.0,\n",
       " 'H')"
      ]
     },
     "execution_count": 10,
     "metadata": {},
     "output_type": "execute_result"
    }
   ],
   "source": [
    "nd[-1]"
   ]
  },
  {
   "cell_type": "code",
   "execution_count": 17,
   "metadata": {},
   "outputs": [
    {
     "data": {
      "text/plain": [
       "'$A$113'"
      ]
     },
     "execution_count": 17,
     "metadata": {},
     "output_type": "execute_result"
    }
   ],
   "source": [
    "owb.Worksheets(1).Cells.Range(\"A2\").End(xlc.xlDown).End(xlc.xlDown).Address"
   ]
  },
  {
   "cell_type": "code",
   "execution_count": 13,
   "metadata": {},
   "outputs": [],
   "source": [
    "owb.Visible=True"
   ]
  },
  {
   "cell_type": "code",
   "execution_count": 14,
   "metadata": {},
   "outputs": [
    {
     "data": {
      "text/plain": [
       "'C:\\\\Users\\\\Nathan\\\\Documents\\\\Dropbox\\\\LogMeIn Info'"
      ]
     },
     "execution_count": 14,
     "metadata": {},
     "output_type": "execute_result"
    }
   ],
   "source": [
    "owb.Path"
   ]
  },
  {
   "cell_type": "code",
   "execution_count": 15,
   "metadata": {},
   "outputs": [
    {
     "data": {
      "text/plain": [
       "'C:\\\\PBSCloudStation\\\\(4) Manufacturing & Operations'"
      ]
     },
     "execution_count": 15,
     "metadata": {},
     "output_type": "execute_result"
    }
   ],
   "source": [
    "nwb.Path"
   ]
  },
  {
   "cell_type": "code",
   "execution_count": null,
   "metadata": {},
   "outputs": [],
   "source": []
  }
 ],
 "metadata": {
  "kernelspec": {
   "display_name": "Python 3",
   "language": "python",
   "name": "python3"
  },
  "language_info": {
   "codemirror_mode": {
    "name": "ipython",
    "version": 3
   },
   "file_extension": ".py",
   "mimetype": "text/x-python",
   "name": "python",
   "nbconvert_exporter": "python",
   "pygments_lexer": "ipython3",
   "version": "3.5.2"
  }
 },
 "nbformat": 4,
 "nbformat_minor": 2
}
