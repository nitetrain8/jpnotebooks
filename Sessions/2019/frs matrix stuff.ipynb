{
 "cells": [
  {
   "cell_type": "code",
   "execution_count": 1,
   "metadata": {},
   "outputs": [],
   "source": [
    "from officelib.xllib import *"
   ]
  },
  {
   "cell_type": "code",
   "execution_count": 2,
   "metadata": {},
   "outputs": [],
   "source": [
    "xl = Excel()"
   ]
  },
  {
   "cell_type": "code",
   "execution_count": 3,
   "metadata": {},
   "outputs": [],
   "source": [
    "def renumber():\n",
    "    c = xl.Selection\n",
    "    v = c.Value\n",
    "    if not v: return\n",
    "    lines = v.splitlines()\n",
    "    out = []\n",
    "    i = 1\n",
    "    for l in lines:\n",
    "        parts = l.split(\" \", 1)\n",
    "        if len(parts) == 1:\n",
    "            out.append(l)\n",
    "            continue\n",
    "        a,b = parts\n",
    "        if a.endswith(\")\"):\n",
    "            out.append(\"%s) %s\"%(i, b))\n",
    "            i += 1\n",
    "        else:\n",
    "            out.append(l)\n",
    "            continue\n",
    "    c.Value = \"\\n\".join(out)\n",
    "            \n",
    "\n",
    "renumber()"
   ]
  },
  {
   "cell_type": "code",
   "execution_count": 6,
   "metadata": {},
   "outputs": [],
   "source": [
    "def xlobs():\n",
    "    wb = xl.ActiveWorkbook\n",
    "    ws = wb.Worksheets(1)\n",
    "    cells = ws.Cells\n",
    "    cr = cells.Range\n",
    "    return wb, ws, cells, cr\n",
    "wb, ws, cells, cr = xlobs()"
   ]
  },
  {
   "cell_type": "code",
   "execution_count": 7,
   "metadata": {},
   "outputs": [],
   "source": [
    "for rf in xl.RecentFiles: \n",
    "    if rf.Name == \"FRS Tests 181127.xlsx\":\n",
    "        wb = rf.Open(); break"
   ]
  },
  {
   "cell_type": "code",
   "execution_count": 11,
   "metadata": {},
   "outputs": [],
   "source": [
    "wb = xl.ActiveWorkbook\n",
    "ws = wb.Worksheets(1)\n",
    "cells = ws.Cells\n",
    "cr = cells.Range"
   ]
  },
  {
   "cell_type": "code",
   "execution_count": 7,
   "metadata": {},
   "outputs": [],
   "source": [
    "c1 = cr(\"A1\")\n",
    "er = c1.End(xlc.xlDown).Row\n",
    "ec = c1.End(xlc.xlToRight).Column\n",
    "c2 = cells(er, ec)\n",
    "data = cr(c1, c2).Value2"
   ]
  },
  {
   "cell_type": "code",
   "execution_count": 8,
   "metadata": {},
   "outputs": [],
   "source": [
    "data2 = [[str(s if s is not None else \"\").lower() for s in row] for row in data]"
   ]
  },
  {
   "cell_type": "code",
   "execution_count": 9,
   "metadata": {},
   "outputs": [],
   "source": [
    "def searchrow(data, word):\n",
    "    out = []\n",
    "    word = word.lower()\n",
    "    for row in data:\n",
    "        for cell in row:\n",
    "            if cell is not None and word in cell.lower():\n",
    "                out.append(row)\n",
    "                break\n",
    "    return out"
   ]
  },
  {
   "cell_type": "code",
   "execution_count": 10,
   "metadata": {},
   "outputs": [],
   "source": [
    "idxes = {}\n",
    "for i, c in enumerate(data[0]):\n",
    "    idxes[c] = i\n",
    "    \n",
    "def lkup(c):\n",
    "    return idxes[c]"
   ]
  },
  {
   "cell_type": "code",
   "execution_count": 11,
   "metadata": {},
   "outputs": [],
   "source": [
    "def showrow1(row):\n",
    "    print(row[lkup(\"ID_TEST\")], row[lkup(\"PURPOSE\")])\n",
    "    print()"
   ]
  },
  {
   "cell_type": "code",
   "execution_count": 12,
   "metadata": {},
   "outputs": [
    {
     "ename": "KeyError",
     "evalue": "'ID_TEST'",
     "output_type": "error",
     "traceback": [
      "\u001b[1;31m---------------------------------------------------------------------------\u001b[0m",
      "\u001b[1;31mKeyError\u001b[0m                                  Traceback (most recent call last)",
      "\u001b[1;32m<ipython-input-12-fb2135477167>\u001b[0m in \u001b[0;36m<module>\u001b[1;34m()\u001b[0m\n\u001b[0;32m      1\u001b[0m \u001b[1;32mfor\u001b[0m \u001b[0mrow\u001b[0m \u001b[1;32min\u001b[0m \u001b[0msearchrow\u001b[0m\u001b[1;33m(\u001b[0m\u001b[0msearchrow\u001b[0m\u001b[1;33m(\u001b[0m\u001b[0mdata2\u001b[0m\u001b[1;33m,\u001b[0m \u001b[1;34m\"interlock\"\u001b[0m\u001b[1;33m)\u001b[0m\u001b[1;33m,\u001b[0m \u001b[1;34m\"agitation\"\u001b[0m\u001b[1;33m)\u001b[0m\u001b[1;33m:\u001b[0m\u001b[1;33m\u001b[0m\u001b[0m\n\u001b[1;32m----> 2\u001b[1;33m     \u001b[0mshowrow1\u001b[0m\u001b[1;33m(\u001b[0m\u001b[0mrow\u001b[0m\u001b[1;33m)\u001b[0m\u001b[1;33m\u001b[0m\u001b[0m\n\u001b[0m",
      "\u001b[1;32m<ipython-input-11-9efd4da35466>\u001b[0m in \u001b[0;36mshowrow1\u001b[1;34m(row)\u001b[0m\n\u001b[0;32m      1\u001b[0m \u001b[1;32mdef\u001b[0m \u001b[0mshowrow1\u001b[0m\u001b[1;33m(\u001b[0m\u001b[0mrow\u001b[0m\u001b[1;33m)\u001b[0m\u001b[1;33m:\u001b[0m\u001b[1;33m\u001b[0m\u001b[0m\n\u001b[1;32m----> 2\u001b[1;33m     \u001b[0mprint\u001b[0m\u001b[1;33m(\u001b[0m\u001b[0mrow\u001b[0m\u001b[1;33m[\u001b[0m\u001b[0mlkup\u001b[0m\u001b[1;33m(\u001b[0m\u001b[1;34m\"ID_TEST\"\u001b[0m\u001b[1;33m)\u001b[0m\u001b[1;33m]\u001b[0m\u001b[1;33m,\u001b[0m \u001b[0mrow\u001b[0m\u001b[1;33m[\u001b[0m\u001b[0mlkup\u001b[0m\u001b[1;33m(\u001b[0m\u001b[1;34m\"PURPOSE\"\u001b[0m\u001b[1;33m)\u001b[0m\u001b[1;33m]\u001b[0m\u001b[1;33m)\u001b[0m\u001b[1;33m\u001b[0m\u001b[0m\n\u001b[0m\u001b[0;32m      3\u001b[0m     \u001b[0mprint\u001b[0m\u001b[1;33m(\u001b[0m\u001b[1;33m)\u001b[0m\u001b[1;33m\u001b[0m\u001b[0m\n",
      "\u001b[1;32m<ipython-input-10-9e21475437d1>\u001b[0m in \u001b[0;36mlkup\u001b[1;34m(c)\u001b[0m\n\u001b[0;32m      4\u001b[0m \u001b[1;33m\u001b[0m\u001b[0m\n\u001b[0;32m      5\u001b[0m \u001b[1;32mdef\u001b[0m \u001b[0mlkup\u001b[0m\u001b[1;33m(\u001b[0m\u001b[0mc\u001b[0m\u001b[1;33m)\u001b[0m\u001b[1;33m:\u001b[0m\u001b[1;33m\u001b[0m\u001b[0m\n\u001b[1;32m----> 6\u001b[1;33m     \u001b[1;32mreturn\u001b[0m \u001b[0midxes\u001b[0m\u001b[1;33m[\u001b[0m\u001b[0mc\u001b[0m\u001b[1;33m]\u001b[0m\u001b[1;33m\u001b[0m\u001b[0m\n\u001b[0m",
      "\u001b[1;31mKeyError\u001b[0m: 'ID_TEST'"
     ]
    }
   ],
   "source": [
    "for row in searchrow(searchrow(data2, \"interlock\"), \"agitation\"):\n",
    "    showrow1(row)"
   ]
  },
  {
   "cell_type": "code",
   "execution_count": 47,
   "metadata": {},
   "outputs": [],
   "source": [
    "for row in searchrow(data2, \"calpressure\"):\n",
    "    showrow1(row)"
   ]
  },
  {
   "cell_type": "code",
   "execution_count": 5,
   "metadata": {},
   "outputs": [
    {
     "ename": "NameError",
     "evalue": "name 'searchrow' is not defined",
     "output_type": "error",
     "traceback": [
      "\u001b[1;31m---------------------------------------------------------------------------\u001b[0m",
      "\u001b[1;31mNameError\u001b[0m                                 Traceback (most recent call last)",
      "\u001b[1;32m<ipython-input-5-1e229de399b6>\u001b[0m in \u001b[0;36m<module>\u001b[1;34m()\u001b[0m\n\u001b[1;32m----> 1\u001b[1;33m \u001b[1;32mfor\u001b[0m \u001b[0mrow\u001b[0m \u001b[1;32min\u001b[0m \u001b[0msearchrow\u001b[0m\u001b[1;33m(\u001b[0m\u001b[0msearchrow\u001b[0m\u001b[1;33m(\u001b[0m\u001b[0mdata2\u001b[0m\u001b[1;33m,\u001b[0m \u001b[1;34m\"pump\"\u001b[0m\u001b[1;33m)\u001b[0m\u001b[1;33m,\u001b[0m \u001b[1;34m\"interlock\"\u001b[0m\u001b[1;33m)\u001b[0m\u001b[1;33m:\u001b[0m\u001b[1;33m\u001b[0m\u001b[0m\n\u001b[0m\u001b[0;32m      2\u001b[0m     \u001b[0mshowrow1\u001b[0m\u001b[1;33m(\u001b[0m\u001b[0mrow\u001b[0m\u001b[1;33m)\u001b[0m\u001b[1;33m\u001b[0m\u001b[0m\n",
      "\u001b[1;31mNameError\u001b[0m: name 'searchrow' is not defined"
     ]
    }
   ],
   "source": [
    "for row in searchrow(searchrow(data2, \"pump\"), \"interlock\"):\n",
    "    showrow1(row)"
   ]
  },
  {
   "cell_type": "code",
   "execution_count": 23,
   "metadata": {},
   "outputs": [],
   "source": [
    "wb, ws, cells, cr = xlobs()"
   ]
  },
  {
   "cell_type": "code",
   "execution_count": 4,
   "metadata": {},
   "outputs": [],
   "source": [
    "def acr(l):\n",
    "    return cr(\"%s2:%s131\"%(l,l))\n",
    "\n",
    "def acrv(l):\n",
    "    return [r[0] for r in acr(l).Value]\n",
    "\n",
    "with screen_lock(xl):\n",
    "    gop = acr(\"G\")\n",
    "    tested = acrv(\"C\")\n",
    "    ut = acrv(\"F\")\n",
    "    tn = acrv(\"H\")\n",
    "\n",
    "    for g, t, u, n in zip(gop, tested, ut, tn):\n",
    "        if (t and t in \"yY\") or (u and u in \"yY\"):\n",
    "            g.Value = \"Y\"\n",
    "        elif n and ((n == \"** CODE REVIEW\" or n == \"** SKIP\" or n == \"--\" or n[0] != \"*\")):\n",
    "            g.Value = \"Y\"\n",
    "        else:\n",
    "            g.Value = None"
   ]
  },
  {
   "cell_type": "code",
   "execution_count": 30,
   "metadata": {},
   "outputs": [
    {
     "data": {
      "text/plain": [
       "'** CODE REVIEW'"
      ]
     },
     "execution_count": 30,
     "metadata": {},
     "output_type": "execute_result"
    }
   ],
   "source": [
    "n"
   ]
  },
  {
   "cell_type": "code",
   "execution_count": null,
   "metadata": {},
   "outputs": [],
   "source": []
  }
 ],
 "metadata": {
  "kernelspec": {
   "display_name": "Python 3",
   "language": "python",
   "name": "python3"
  },
  "language_info": {
   "codemirror_mode": {
    "name": "ipython",
    "version": 3
   },
   "file_extension": ".py",
   "mimetype": "text/x-python",
   "name": "python",
   "nbconvert_exporter": "python",
   "pygments_lexer": "ipython3",
   "version": "3.5.2"
  }
 },
 "nbformat": 4,
 "nbformat_minor": 2
}
