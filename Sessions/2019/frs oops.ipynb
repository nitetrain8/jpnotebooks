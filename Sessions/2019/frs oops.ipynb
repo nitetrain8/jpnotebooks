{
 "cells": [
  {
   "cell_type": "code",
   "execution_count": 1,
   "metadata": {},
   "outputs": [],
   "source": [
    "import os, re\n",
    "from scripts.tools.issuetracker import IssuetrackerAPI\n",
    "from datetime import date\n",
    "\n",
    "cache = None\n",
    "api = None\n",
    "sync_date = None\n",
    "def _download():\n",
    "    global cache, api, sync_date\n",
    "    if api is None:\n",
    "        api = IssuetrackerAPI('issue.pbsbiotech.com', 'nstarkweather', 'kookychemist')\n",
    "    cache = api.download_issues(project_id=\"pbssoftware\")\n",
    "    sync_date = date.today()\n",
    "    return cache.copy()"
   ]
  },
  {
   "cell_type": "code",
   "execution_count": 2,
   "metadata": {},
   "outputs": [],
   "source": [
    "def download():\n",
    "    return _download()"
   ]
  },
  {
   "cell_type": "code",
   "execution_count": 3,
   "metadata": {},
   "outputs": [
    {
     "name": "stdout",
     "output_type": "stream",
     "text": [
      "Downloading projects...\n",
      "Downloading issues: 578/578      \n"
     ]
    }
   ],
   "source": [
    "issues = download()\n"
   ]
  },
  {
   "cell_type": "code",
   "execution_count": 74,
   "metadata": {},
   "outputs": [],
   "source": [
    "from officelib.xllib import *\n",
    "xl = Excel()"
   ]
  },
  {
   "cell_type": "code",
   "execution_count": 75,
   "metadata": {},
   "outputs": [],
   "source": [
    "wb = xl.RecentFiles(1).Open()"
   ]
  },
  {
   "cell_type": "code",
   "execution_count": 79,
   "metadata": {},
   "outputs": [],
   "source": [
    "ws = wb.Worksheets(1)\n",
    "xl.Visible=True"
   ]
  },
  {
   "cell_type": "code",
   "execution_count": 80,
   "metadata": {},
   "outputs": [],
   "source": [
    "cells = ws.Cells\n",
    "cell_range = cells.Range"
   ]
  },
  {
   "cell_type": "code",
   "execution_count": 81,
   "metadata": {},
   "outputs": [],
   "source": [
    "c1 = cell_range(\"H2\")\n",
    "c2 = c1.End(xlc.xlDown).Offset(1, 10)\n",
    "values = cell_range(c1, c2).Value"
   ]
  },
  {
   "cell_type": "code",
   "execution_count": 33,
   "metadata": {},
   "outputs": [],
   "source": [
    "import re\n",
    "fix = re.compile(r\"\\s+\").sub\n",
    "\n",
    "fixed = []\n",
    "for v in values:\n",
    "    f = list(v)\n",
    "    frs = str(f[-1] or \"\")\n",
    "    if frs == \"None\":\n",
    "        frs = \"\"\n",
    "    f[-1] = fix(\"\\n\", frs)\n",
    "    fixed.append(f)"
   ]
  },
  {
   "cell_type": "code",
   "execution_count": 34,
   "metadata": {},
   "outputs": [],
   "source": [
    "cell_range(c1, c2).Value = fixed"
   ]
  },
  {
   "cell_type": "code",
   "execution_count": 40,
   "metadata": {},
   "outputs": [],
   "source": [
    "rel = {i.id for i in issues.values() if i.sprint_milestone == \"Legacy\"}"
   ]
  },
  {
   "cell_type": "code",
   "execution_count": 58,
   "metadata": {},
   "outputs": [
    {
     "name": "stdout",
     "output_type": "stream",
     "text": [
      "1018 3771 3771\n"
     ]
    }
   ],
   "source": [
    "values = cell_range(c1, c2).Value\n",
    "for i, v in enumerate(values, 2):\n",
    "    frs = str(v[-1] or \"\").splitlines()\n",
    "    for s in frs:\n",
    "        if s.startswith(\"3.0Web\"): continue\n",
    "        f = s.lstrip(\"FRS\").split(\".\", 1)[0]\n",
    "        n = int(f)\n",
    "        if n not in rel and \"3646\" in v[-1]:\n",
    "            print(i, n, f)"
   ]
  },
  {
   "cell_type": "code",
   "execution_count": 83,
   "metadata": {},
   "outputs": [
    {
     "name": "stdout",
     "output_type": "stream",
     "text": [
      "Row: 40 ID: 21\n",
      "Row: 53 ID: 33\n",
      "Row: 66 ID: 2799\n",
      "Row: 105 ID: 88\n",
      "Row: 111 ID: 94\n",
      "Row: 116 ID: 100\n",
      "Row: 118 ID: 102\n",
      "Row: 121 ID: 105\n",
      "Row: 122 ID: 106\n",
      "Row: 123 ID: 107\n",
      "Row: 125 ID: 109\n",
      "Row: 128 ID: 114\n",
      "Row: 130 ID: 116\n",
      "Row: 131 ID: 117\n",
      "Row: 133 ID: 119\n",
      "Row: 134 ID: 120\n",
      "Row: 706 ID: 2815\n"
     ]
    }
   ],
   "source": [
    "search = \"3651\"\n",
    "values = cell_range(c1, c2).Value\n",
    "for i, v in enumerate(values, 2):\n",
    "    frs = str(v[-1] or \"\")\n",
    "    if search in frs:\n",
    "        print(\"Row:\", i, \"ID:\", int(v[0]))"
   ]
  },
  {
   "cell_type": "code",
   "execution_count": null,
   "metadata": {},
   "outputs": [],
   "source": []
  }
 ],
 "metadata": {
  "kernelspec": {
   "display_name": "Python 3",
   "language": "python",
   "name": "python3"
  },
  "language_info": {
   "codemirror_mode": {
    "name": "ipython",
    "version": 3
   },
   "file_extension": ".py",
   "mimetype": "text/x-python",
   "name": "python",
   "nbconvert_exporter": "python",
   "pygments_lexer": "ipython3",
   "version": "3.5.2"
  }
 },
 "nbformat": 4,
 "nbformat_minor": 2
}
