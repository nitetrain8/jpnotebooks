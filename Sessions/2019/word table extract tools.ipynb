{
 "cells": [
  {
   "cell_type": "code",
   "execution_count": 6,
   "metadata": {
    "collapsed": true
   },
   "outputs": [],
   "source": [
    "from officelib import wordlib as wd\n",
    "from clipboard import *"
   ]
  },
  {
   "cell_type": "code",
   "execution_count": 84,
   "metadata": {},
   "outputs": [
    {
     "ename": "KeyboardInterrupt",
     "evalue": "",
     "output_type": "error",
     "traceback": [
      "\u001b[1;31m---------------------------------------------------------------------------\u001b[0m",
      "\u001b[1;31mKeyboardInterrupt\u001b[0m                         Traceback (most recent call last)",
      "\u001b[1;31mKeyboardInterrupt\u001b[0m: "
     ]
    }
   ],
   "source": [
    "w = wd.Word()\n",
    "fn = '\\\\\\\\pbsstation\\\\pbsicmi\\\\Documents\\\\Manufacturing\\\\Mfg Released\\\\IM\\\\IM00208\\\\IM00208 B - 3L Mag Bioreactor Assembly Procedure.docx'\n",
    "doc = w.Documents.Open(fn)"
   ]
  },
  {
   "cell_type": "code",
   "execution_count": 85,
   "metadata": {
    "collapsed": true
   },
   "outputs": [],
   "source": [
    "w = wd.Word()\n",
    "fn = 'C:\\\\Users\\\\Nathan\\\\Documents\\\\PBS\\\\IM00208 B - 3L Mag Bioreactor Assembly Procedure.docx'\n",
    "doc = w.Documents.Open(fn)"
   ]
  },
  {
   "cell_type": "code",
   "execution_count": 2,
   "metadata": {
    "collapsed": true
   },
   "outputs": [],
   "source": [
    "def pd(o):\n",
    "    for a in sorted(dir(o)):\n",
    "        print(a, getattr(o,a))\n",
    "def pmg(o):\n",
    "    for a in sorted(o._prop_map_get_.keys()):\n",
    "        print(a)"
   ]
  },
  {
   "cell_type": "code",
   "execution_count": 4,
   "metadata": {
    "collapsed": true,
    "scrolled": false
   },
   "outputs": [],
   "source": [
    "def rows(r):\n",
    "    c = r.Count\n",
    "    return (r)\n",
    "\n",
    "import collections\n",
    "#seen = collections.defaultdict(set)\n",
    "#seen = collections.defaultdict(lambda: collections.defaultdict(list))\n",
    "def show(n,st):\n",
    "    st = st.replace(\"\\x07\", \"\")\n",
    "    if \"Tools:\" not in st:\n",
    "        st = st.replace(\"Tools\", \"Tools:\", 1)\n",
    "    _, tools = st.split(\":\", 1)\n",
    "    tools = [t.strip() for t in tools.split(\"\\r\")]\n",
    "    tools = [t for t in tools if t]\n",
    "    for t in tools:\n",
    "        pass\n",
    "        #print(repr(t))\n",
    "        #seen[t][n].append(s.Information(wd.c.wdActiveEndPageNumber))"
   ]
  },
  {
   "cell_type": "code",
   "execution_count": 7,
   "metadata": {},
   "outputs": [],
   "source": [
    "w = wd.Word()\n",
    "with wd.screen_lock(w):\n",
    "    for d in w.Documents:\n",
    "        print(\"Scanning\", d.Name)\n",
    "        for t in d.Tables:\n",
    "            for p in t.Range.Paragraphs:\n",
    "                txt = p.Range.Text\n",
    "                if \"Tools\" in txt:\n",
    "                    p.Range.Select()\n",
    "                    s = w.Selection\n",
    "                    s.Expand(wd.c.wdCell)\n",
    "                    #s.Move(wd.c.wdCell, 1)\n",
    "                    #s.Move(wd.c.wdCell, -1)\n",
    "                    print(repr(s.Text))\n",
    "                    show(d.Name.split()[0], s.Text)"
   ]
  },
  {
   "cell_type": "code",
   "execution_count": 132,
   "metadata": {
    "scrolled": false
   },
   "outputs": [
    {
     "name": "stdout",
     "output_type": "stream",
     "text": [
      "0.45mm Shim: \tIM00207 pgs. 13; \tIM00208 pgs. 20\n",
      "    - 10mm Crow Foot Driver: \tIM00207 pgs. 42\n",
      "    - 10mm Hex Driver: \tIM00207 pgs. 42,42,47; \tIM00208 pgs. 30,30,31\n",
      "    - 13mm Deep Socket Hex Driver: \tIM00208 pgs. 11\n",
      "    - 13mm Wrench: \tIM00207 pgs. 16,23\n",
      "    - 15mm Wrench: \tIM00207 pgs. 49; \tIM00208 pgs. 44\n",
      "    - 16mm Wrench: \tIM00207 pgs. 21\n",
      "    - 17mm Deep Socket: \tIM00207 pgs. 12\n",
      "    - 17mm Hex Driver: \tIM00208 pgs. 23\n",
      "    - 17mm Socket: \tIM00207 pgs. 11\n",
      "    - 17mm Wrench: \tIM00207 pgs. 11; \tIM00208 pgs. 23\n",
      "    - 19mm Wrench: \tIM00208 pgs. 22\n",
      "    - 2.5mm Driver Bit: \tIM00207 pgs. 26; \tIM00208 pgs. 40\n",
      "    - 2.5mm Elongated Allen Wrench, Calipers: \tIM00201 pgs. 11\n",
      "    - 2mm Allen Wrench: \tIM00208 pgs. 17\n",
      "    - 2mm Diver Bit [extended]: \tIM00208 pgs. 8\n",
      "    - 2mm Driver Bit: \tIM00207 pgs. 10,36; \tIM00208 pgs. 8,11\n",
      "    - 4mm Allen Torque Wrench, 10mm Crescent Wrench: \tIM00201 pgs. 10\n",
      "    - 5.5mm Driver Bit: \tIM00207 pgs. 46\n",
      "    - 5.5mm Hex Driver: \tIM00207 pgs. 9,13,24,29,30,43,51,52,52; \tIM00208 pgs. 20,33,39\n",
      "    - 5mm Driver Bit: \tIM00207 pgs. 19; \tIM00208 pgs. 15,17\n",
      "    - 70% IPA: \tIM00208 pgs. 8\n",
      "    - 7mm Hex Driver: \tIM00207 pgs. 19,32,35; \tIM00208 pgs. 10,42\n",
      "    - 7mm Wrench: \tIM00207 pgs. 8; \tIM00208 pgs. 17\n",
      "    - 9/16” Wrench: \tIM00207 pgs. 35; \tIM00208 pgs. 23\n",
      "    - 9mm Wrench: \tIM00207 pgs. 7\n",
      "    - AMP Terminal Punch 18awg: \tIM00209 pgs. 9\n",
      "    - Air Compressor at 30 psi: \tIM00207 pgs. 71\n",
      "    - Allen Wrench: \tIM00207 pgs. 12,18\n",
      "    - Allen Wrench 2.5mm: \tIM00208 pgs. 40\n",
      "    - Allen Wrench, 2.5mm: \tIM00209 pgs. 20\n",
      "    - Allen Wrench, 2mm: \tIM00209 pgs. 24\n",
      "    - Allen Wrench, 5mm: \tIM00209 pgs. 20\n",
      "    - Allen wrench, 2.5mm: \tIM00209 pgs. 14\n",
      "    - Allen wrench, 7mm: \tIM00209 pgs. 15\n",
      "    - Amp Terminal Punch 22awg: \tIM00209 pgs. 26\n",
      "    - Amp Wire Punch 18awg: \tIM00209 pgs. 30\n",
      "    - Arbor Press: \tIM00208 pgs. 40\n",
      "    - Backing Wrench: \tIM00208 pgs. 23\n",
      "    - Band Saw: \tIM00207 pgs. 37,43; \tIM00208 pgs. 26\n",
      "    - Blue or Black Pen: \tIM00207 pgs. 71; \tIM00208 pgs. 57\n",
      "    - C-ring pliers: \tIM00201 pgs. 9\n",
      "    - Caulking Gun: \tIM00207 pgs. 27\n",
      "    - Crimper, Terminal: \tIM00209 pgs. 31,47\n",
      "    - DMM Multimeter: \tIM00208 pgs. 35\n",
      "    - DMM, Multimeter: \tIM00208 pgs. 34\n",
      "    - Door Alignment Block: \tIM00207 pgs. 16\n",
      "    - Drill: \tIM00207 pgs. 25\n",
      "    - Driver Bit: \tIM00207 pgs. 14; \tIM00208 pgs. 18,38,39\n",
      "    - Driver Bit, 2.5mm: \tIM00209 pgs. 52\n",
      "    - Driver Bit, 7mm: \tIM00209 pgs. 8\n",
      "    - Driver Bit, Phillips: \tIM00209 pgs. 19,20,21,22,22\n",
      "    - Flathead Screwdriver: \tIM00208 pgs. 35,52\n",
      "    - Flexible Wrench Adapter: \tIM00207 pgs. 13; \tIM00208 pgs. 20\n",
      "    - Force Gauge (no attachments and in Real Time Mode), 4mm Allen Wrench x2: \tIM00201 pgs. 13\n",
      "    - Force Gauge (with Round, Flat attachment and in Real Time Mode), Torque Driver with 4mm Allen Wrench Attachment: \tIM00201 pgs. 14\n",
      "    - Gloves: \tIM00207 pgs. 13,27,29; \tIM00208 pgs. 20\n",
      "    - Green Tape: \tIM00207 pgs. 13,29; \tIM00208 pgs. 20\n",
      "    - Hammer, Ball peen: \tIM00209 pgs. 47\n",
      "    - Heat Gun: \tIM00209 pgs. 9,18,31,34,42,43,55; \tIM00207 pgs. 9,17,21,25,27,40,45,52,66,67; \tIM00208 pgs. 8,9,13,18,22,29,36,49,55\n",
      "    - Heat Shrink Labels: \tIM00208 pgs. 34,35\n",
      "    - Hex Bit: \tIM00208 pgs. 41\n",
      "    - Hex Driver: \tIM00208 pgs. 15\n",
      "    - Hex Driver, 2.5mm: \tIM00209 pgs. 52\n",
      "    - IF00018A Label Reconciliation Sheet: \tIM00207 pgs. 7; \tIM00208 pgs. 6\n",
      "    - IM00195 Workmanship Procedure: \tIM00207 pgs. 7; \tIM00208 pgs. 6\n",
      "    - IQ00018 Label Procedure: \tIM00207 pgs. 7; \tIM00208 pgs. 6\n",
      "    - IT00070 Magnet Polarity Tester: \tIM00208 pgs. 40\n",
      "    - IT00078 Wire Crimper: \tIM00208 pgs. 29,32,33\n",
      "    - IT00085 Bearing Press Tool: \tIM00208 pgs. 40\n",
      "    - IT00088 3L LED Test Cable: \tIM00208 pgs. 37\n",
      "    - IT00090 Gage Block: \tIM00208 pgs. 17\n",
      "    - IT00096 Term. Block Tool: \tIM00208 pgs. 34,35\n",
      "    - Label Maker: \tIM00207 pgs. 53; \tIM00208 pgs. 34,35\n",
      "    - Label Printer and Computer: \tIM00207 pgs. 7; \tIM00208 pgs. 6\n",
      "    - Label Printer/Maker: \tIM00201 pgs. 16\n",
      "    - Large Flathead Screwdriver: \tIM00207 pgs. 18\n",
      "    - Lint free wipes, IPA, 8mm Socket Wrench, Phillips #2 Torque Wrench: \tIM00201 pgs. 7\n",
      "    - Marker: \tIM00209 pgs. 63\n",
      "    - Multi-meter: \tIM00209 pgs. 34\n",
      "    - Multimeter: \tIM00207 pgs. 26,27,27,53,53,54; \tIM00208 pgs. 7\n",
      "    - NOTE: Ensure no insulation gets caught in the terminals, only metal should be in contact.: \tIM00207 pgs. 53,53\n",
      "    - Navajo White Spray Paint/Primer: \tIM00207 pgs. 25\n",
      "    - Nut Driver: \tIM00209 pgs. 36\n",
      "    - Nut Driver, 7mm: \tIM00209 pgs. 8\n",
      "    - Nut Driver, w/ flex-shaft: \tIM00209 pgs. 50\n",
      "    - Nut Driver, ¼” [or similar]: \tIM00209 pgs. 16\n",
      "    - Nut-Driver, 5mm: \tIM00209 pgs. 36\n",
      "    - Open-Ended Wrench: \tIM00207 pgs. 12\n",
      "    - PIC: \tIM00209 pgs. 42\n",
      "    - Pencil: \tIM00201 pgs. 5\n",
      "    - Phillips # 2: \tIM00208 pgs. 24\n",
      "    - Phillips #2: \tIM00207 pgs. 10,13,14,15,16,17,18,21,22,23,34,35,37,37,38,39,40,45,46; \tIM00208 pgs. 9,12,12,14,19,20,21,25,26,27,27,29,38,39\n",
      "    - Plastic Ruler, IT00070, Safety Glasses: \tIM00201 pgs. 4\n",
      "    - Pliers, Cutter/Stripper: \tIM00209 pgs. 9,18,46,47\n",
      "    - Pliers, Ribbon Cable Connector: \tIM00209 pgs. 63\n",
      "    - Pliers, Snap-ring: \tIM00209 pgs. 47\n",
      "    - Pliers, Wire Cutter/Stripper: \tIM00209 pgs. 28,38,44\n",
      "    - Pliers, Wire Cutters: \tIM00209 pgs. 42\n",
      "    - Pliers, Wire Cutters/Strippers: \tIM00209 pgs. 55\n",
      "    - Pliers, Wire Stripper: \tIM00209 pgs. 42\n",
      "    - Pliers, Wire Stripper/Cutter: \tIM00209 pgs. 29,30,31\n",
      "    - Pliers, Wire cutter/stripper: \tIM00209 pgs. 45\n",
      "    - Punch Connector: \tIM00207 pgs. 8,14,19,21,22,23,24,30,39,55,57,65,66; \tIM00208 pgs. 16,28,54\n",
      "    - Punch Connector – AMP 26awg: \tIM00208 pgs. 49\n",
      "    - Punch Tool Amp 22awg: \tIM00208 pgs. 21,54\n",
      "    - Punch Tool, 22awg: \tIM00209 pgs. 44,45\n",
      "    - Punch Tool, IDC Connector 22awg: \tIM00209 pgs. 46\n",
      "    - Punch tool 18awg AMP: \tIM00208 pgs. 10\n",
      "    - Punch, 3/16”: \tIM00209 pgs. 47\n",
      "    - RTV Gun: \tIM00209 pgs. 34,39,41\n",
      "    - Razor: \tIM00207 pgs. 29\n",
      "    - Razor Blade: \tIM00208 pgs. 37,38\n",
      "    - Required: \tIM00209 pgs. 68; \tIM00207 pgs. 74\n",
      "    - Ribbon Cable Connector Press: \tIM00207 pgs. 58; \tIM00208 pgs. 47\n",
      "    - Ruler: \tIM00209 pgs. 64\n",
      "    - Scissors: \tIM00209 pgs. 60,63; \tIM00207 pgs. 47,48,58; \tIM00208 pgs. 38,42,47\n",
      "    - Screwdriver: \tIM00209 pgs. 13\n",
      "    - Screwdriver, Blade: \tIM00209 pgs. 31,45,51\n",
      "    - Screwdriver, Blade Sm.: \tIM00209 pgs. 26,30,41,49,58\n",
      "    - Screwdriver, Med. Blade: \tIM00209 pgs. 23\n",
      "    - Screwdriver, Phillips: \tIM00209 pgs. 12,20,22,22,24,25,27,28,29,30,31,32,36,37,38,47\n",
      "    - Screwdriver, Phillips #2: \tIM00209 pgs. 19,21\n",
      "    - Screwdriver, Sm. Blade: \tIM00209 pgs. 23,32,37,43\n",
      "    - Scriber: \tIM00207 pgs. 25\n",
      "    - Shop Air @ 30psi: \tIM00208 pgs. 57\n",
      "    - Sm. Flathead Screwdriver: \tIM00208 pgs. 34\n",
      "    - Small Blade Screwdriver: \tIM00208 pgs. 32\n",
      "    - Small Flathead Screwdriver: \tIM00207 pgs. 34,41,44,53,53,54,54,55,62,62,64,67; \tIM00208 pgs. 9,24,28,53,55\n",
      "    - Small Syringe: \tIM00207 pgs. 13,29,30,39; \tIM00208 pgs. 20,38\n",
      "    - Snap Ring Pliers: \tIM00207 pgs. 16,22\n",
      "    - Socket & Rachet, 13mm: \tIM00209 pgs. 54\n",
      "    - Socket & Ratchet, 10mm: \tIM00209 pgs. 33\n",
      "    - Socket & Ratchet, 13mm: \tIM00209 pgs. 53\n",
      "    - Socket 10mm: \tIM00209 pgs. 25\n",
      "    - Socket, 11mm: \tIM00209 pgs. 57\n",
      "    - Socket, 5.5mm: \tIM00209 pgs. 50\n",
      "    - Socket, 5mm: \tIM00209 pgs. 12\n",
      "    - Socket, 7mm: \tIM00209 pgs. 39\n",
      "    - Socket, Deep 17mm: \tIM00209 pgs. 10,11\n",
      "    - Socket, M4: \tIM00209 pgs. 56\n",
      "    - Socket, ____: \tIM00209 pgs. 12\n",
      "    - Solder Gun: \tIM00209 pgs. 42\n",
      "    - Solder Iron: \tIM00207 pgs. 17,19,27,66; \tIM00208 pgs. 49,55\n",
      "    - Soldering Iron: \tIM00209 pgs. 18,34,44,55; \tIM00208 pgs. 13,37\n",
      "    - Square: \tIM00208 pgs. 47\n",
      "    - Square, Carpenter: \tIM00209 pgs. 63\n",
      "    - TBD: \tIM00209 pgs. 52\n",
      "    - Terminal Crimper: \tIM00209 pgs. 9,13,38\n",
      "    - Terminal Punch AMP 18awg: \tIM00209 pgs. 28\n",
      "    - Terminal Punch AMP 22awg: \tIM00209 pgs. 18,23\n",
      "    - Terminal Punch Tool - Amp: \tIM00209 pgs. 55\n",
      "    - Terminal Punch, 18awg: \tIM00209 pgs. 51\n",
      "    - Thin Flathead Screwdriver: \tIM00209 pgs. 55; \tIM00207 pgs. 25,39,45,59,66; \tIM00208 pgs. 36,48\n",
      "    - Tool Block: \tIM00208 pgs. 7\n",
      "    - Torque Bit 2mm: \tIM00209 pgs. 24\n",
      "    - Torque Bit, 2mm: \tIM00209 pgs. 16,17\n",
      "    - Torque Bit, Phillips: \tIM00209 pgs. 24\n",
      "    - Torque Driver, Hex Head 4mm Attachment, Allen Wrench 4mm: \tIM00201 pgs. 6\n",
      "    - Torque Screw Drive Phillips #1, 6mm Socket Wrench: \tIM00201 pgs. 15\n",
      "    - Torque Screwdriver Phillips #2: \tIM00201 pgs. 16\n",
      "    - Torque Screwdriver Phillips #2, 1/4\"mm Crescent Wrench: \tIM00201 pgs. 12\n",
      "    - Torque Wrench: \tIM00209 pgs. 8,15,19,20,21,22,22,24,24,25,33,33,36,39,44,52,53,54,56,57; \tIM00207 pgs. 9,10,14,15,16,18,18,19,26,29,30,32,34,35,36,37,37,38,40,42,42,43,46,46,47,51,52,52; \tIM00208 pgs. 8,8,9,10,11,11,12,12,14,15,17,18,19,23,24,25,26,27,27,29,30,30,31,33,36,39,40,41,42\n",
      "    - Tube Cutter: \tIM00209 pgs. 62\n",
      "    - Tube Cutters: \tIM00207 pgs. 49; \tIM00208 pgs. 44\n",
      "    - V-Block: \tIM00209 pgs. 47; \tIM00207 pgs. 22\n",
      "    - Wire Crimpers: \tIM00207 pgs. 9,21,22,40,52,54; \tIM00208 pgs. 36\n",
      "    - Wire Cutters: \tIM00207 pgs. 9,14,36,39,40,41,43,44,45,52,55,66; \tIM00208 pgs. 21,28,29,32,33,36,37,54,55\n",
      "    - Wire Cutters/Strippers: \tIM00208 pgs. 34\n",
      "    - Wire Punch Tool, Amp 22awg: \tIM00209 pgs. 17\n",
      "    - Wire Stripper: \tIM00209 pgs. 13\n",
      "    - Wire Strippers: \tIM00207 pgs. 9,22,27,30,39,40,41,43,44,45,52,54,55,66; \tIM00208 pgs. 28,29,32,33,36,37,54,55\n",
      "    - Wire cutter / stripper: \tIM00208 pgs. 35\n",
      "    - Wrench: \tIM00207 pgs. 33\n",
      "    - Wrench 9mm: \tIM00208 pgs. 41\n",
      "    - Wrench, Combination 14mm: \tIM00209 pgs. 11\n",
      "    - Wrench, Combination 18mm: \tIM00209 pgs. 10,11\n",
      "    - Wrench, Combination _____: \tIM00209 pgs. 47\n",
      "    - Wrench, Open-End: \tIM00209 pgs. 56\n",
      "    - Wrench, Open-end 13mm: \tIM00209 pgs. 53,54\n",
      "    - Wrenches, 13 & 15mm: \tIM00209 pgs. 21\n",
      "    - and Equipment: \tIM00201 pgs. 20\n",
      "    - none: \tIM00209 pgs. 7,7,14,29,59,61,65\n"
     ]
    }
   ],
   "source": [
    "def imrepr(seen):\n",
    "    for k in sorted(seen):\n",
    "        ims = seen[k]\n",
    "        line = []\n",
    "        for im, pgs in ims.items():\n",
    "            line.append(\"\\t%s pgs. %s\" % (im, \",\".join(map(str,pgs))))\n",
    "        yield \"%s: \"%k + \"; \".join(line)\n",
    "\n",
    "copy(\"\\n    - \".join(imrepr(seen)))\n",
    "print(paste())"
   ]
  },
  {
   "cell_type": "code",
   "execution_count": 87,
   "metadata": {
    "collapsed": true
   },
   "outputs": [],
   "source": [
    "def findit(im):\n",
    "    ims = '\\\\\\\\pbsstation\\\\pbsicmi\\\\Documents\\\\Manufacturing\\\\Mfg Released\\\\IM\\\\'\n",
    "    fp = os.path.join(ims, im)\n",
    "    files = os.listdir(fp)\n",
    "    files = [f for f in files if im in f and f[-5:] == \".docx\"]\n",
    "    if len(files) > 1:\n",
    "        raise ValueError(\"Multiple files for %r\"%im)\n",
    "    elif len(files) == 0:\n",
    "        raise ValueError(\"Could not find .docx for %r\"%im)\n",
    "    return os.path.join(fp, files[0])"
   ]
  },
  {
   "cell_type": "code",
   "execution_count": 112,
   "metadata": {},
   "outputs": [
    {
     "ename": "AttributeError",
     "evalue": "'<win32com.gen_py.Microsoft Word 12.0 Object Library.Selection instance at 0x1774392842784>' object has no attribute 'Page'",
     "output_type": "error",
     "traceback": [
      "\u001b[1;31m---------------------------------------------------------------------------\u001b[0m",
      "\u001b[1;31mAttributeError\u001b[0m                            Traceback (most recent call last)",
      "\u001b[1;32m<ipython-input-112-47e972ddb683>\u001b[0m in \u001b[0;36m<module>\u001b[1;34m()\u001b[0m\n\u001b[1;32m----> 1\u001b[1;33m \u001b[0ms\u001b[0m\u001b[1;33m.\u001b[0m\u001b[0mPage\u001b[0m\u001b[1;33m\u001b[0m\u001b[0m\n\u001b[0m",
      "\u001b[1;32mc:\\program files\\python35\\lib\\site-packages\\win32com\\client\\__init__.py\u001b[0m in \u001b[0;36m__getattr__\u001b[1;34m(self, attr)\u001b[0m\n\u001b[0;32m    463\u001b[0m                 \u001b[0margs\u001b[0m\u001b[1;33m=\u001b[0m\u001b[0mself\u001b[0m\u001b[1;33m.\u001b[0m\u001b[0m_prop_map_get_\u001b[0m\u001b[1;33m.\u001b[0m\u001b[0mget\u001b[0m\u001b[1;33m(\u001b[0m\u001b[0mattr\u001b[0m\u001b[1;33m)\u001b[0m\u001b[1;33m\u001b[0m\u001b[0m\n\u001b[0;32m    464\u001b[0m                 \u001b[1;32mif\u001b[0m \u001b[0margs\u001b[0m \u001b[1;32mis\u001b[0m \u001b[1;32mNone\u001b[0m\u001b[1;33m:\u001b[0m\u001b[1;33m\u001b[0m\u001b[0m\n\u001b[1;32m--> 465\u001b[1;33m                         \u001b[1;32mraise\u001b[0m \u001b[0mAttributeError\u001b[0m\u001b[1;33m(\u001b[0m\u001b[1;34m\"'%s' object has no attribute '%s'\"\u001b[0m \u001b[1;33m%\u001b[0m \u001b[1;33m(\u001b[0m\u001b[0mrepr\u001b[0m\u001b[1;33m(\u001b[0m\u001b[0mself\u001b[0m\u001b[1;33m)\u001b[0m\u001b[1;33m,\u001b[0m \u001b[0mattr\u001b[0m\u001b[1;33m)\u001b[0m\u001b[1;33m)\u001b[0m\u001b[1;33m\u001b[0m\u001b[0m\n\u001b[0m\u001b[0;32m    466\u001b[0m                 \u001b[1;32mreturn\u001b[0m \u001b[0mself\u001b[0m\u001b[1;33m.\u001b[0m\u001b[0m_ApplyTypes_\u001b[0m\u001b[1;33m(\u001b[0m\u001b[1;33m*\u001b[0m\u001b[0margs\u001b[0m\u001b[1;33m)\u001b[0m\u001b[1;33m\u001b[0m\u001b[0m\n\u001b[0;32m    467\u001b[0m \u001b[1;33m\u001b[0m\u001b[0m\n",
      "\u001b[1;31mAttributeError\u001b[0m: '<win32com.gen_py.Microsoft Word 12.0 Object Library.Selection instance at 0x1774392842784>' object has no attribute 'Page'"
     ]
    }
   ],
   "source": [
    "s.Page"
   ]
  },
  {
   "cell_type": "code",
   "execution_count": 107,
   "metadata": {
    "collapsed": true
   },
   "outputs": [],
   "source": [
    "for im in (\"IM00201\",):\n",
    "    w.Documents.Open(findit(im))"
   ]
  },
  {
   "cell_type": "code",
   "execution_count": 89,
   "metadata": {},
   "outputs": [
    {
     "name": "stdout",
     "output_type": "stream",
     "text": [
      "IM00209 Rev A.docx\n",
      "IM00207 A - PBS 15L Mag Bioreactor Assembly Procedure.docx\n",
      "IM00208 B - 3L Mag Bioreactor Assembly Procedure.docx\n"
     ]
    }
   ],
   "source": [
    "for d in w.Documents: print(d.Name)"
   ]
  },
  {
   "cell_type": "code",
   "execution_count": null,
   "metadata": {
    "collapsed": true
   },
   "outputs": [],
   "source": []
  }
 ],
 "metadata": {
  "kernelspec": {
   "display_name": "Python 3",
   "language": "python",
   "name": "python3"
  },
  "language_info": {
   "codemirror_mode": {
    "name": "ipython",
    "version": 3
   },
   "file_extension": ".py",
   "mimetype": "text/x-python",
   "name": "python",
   "nbconvert_exporter": "python",
   "pygments_lexer": "ipython3",
   "version": "3.5.2"
  }
 },
 "nbformat": 4,
 "nbformat_minor": 2
}
