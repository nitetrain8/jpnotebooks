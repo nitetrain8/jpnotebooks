{
 "cells": [
  {
   "cell_type": "code",
   "execution_count": 1,
   "metadata": {},
   "outputs": [],
   "source": [
    "import requests\n",
    "import http.client"
   ]
  },
  {
   "cell_type": "code",
   "execution_count": 2,
   "metadata": {},
   "outputs": [],
   "source": [
    "def verify(rsp):\n",
    "    try:\n",
    "        rsp.raise_for_status()\n",
    "    except Exception as e:\n",
    "        e.args = e.args[0] + \" \" + rsp.json()['error'],\n",
    "        raise e\n",
    "    print(rsp.json())"
   ]
  },
  {
   "cell_type": "code",
   "execution_count": 104,
   "metadata": {},
   "outputs": [
    {
     "name": "stdout",
     "output_type": "stream",
     "text": [
      "{'Message': 'Success!'}\n"
     ]
    }
   ],
   "source": [
    "url = \"http://localhost:8001/api_v0/someendpoint?foo=three&biff=as;ldjf\"\n",
    "auth = \"user1\",\"/U5XzhB7CQfo5ZfnVovDQvSL+dG3nF3fwCN2ijJ9cvhXeHwmT2IjuOUZyD1UZJUd\"\n",
    "rsp = requests.get(url, auth=auth)\n",
    "verify(rsp)"
   ]
  },
  {
   "cell_type": "code",
   "execution_count": 116,
   "metadata": {},
   "outputs": [],
   "source": [
    "def check_keys(keys, js):\n",
    "    for key in keys:\n",
    "        assert key in js\n",
    "    for key, _ in js.items():\n",
    "        assert key in keys\n",
    "        \n",
    "def do_req(endpoint, auth, params=None):\n",
    "    if not endpoint.startswith(\"/\"): endpoint += \"/\"+endpoint\n",
    "    rsp = requests.get(\"http://localhost:8001/api_v0\"+endpoint, auth=auth, params=params)\n",
    "    rsp.raise_for_status()\n",
    "    return rsp.json()\n",
    "\n",
    "def test_endpoint(ep, auth, keys, params=None):\n",
    "    print(\"Testing endpoint '%s'... \"%ep, end=\"\")\n",
    "    j = do_req(ep, auth, params)\n",
    "    try:\n",
    "        check_keys(keys, j)\n",
    "    except AssertionError as e:\n",
    "        print(\"Test Failed: %s\"%str(e))\n",
    "    else:\n",
    "        print(\"Success\")\n",
    "\n",
    "def test_infoversions(auth):\n",
    "    keys = {\"SystemSoftware\", \"DesktopUI\", \"HelloServer\",\"RIO\",\"Database\",\"Network\",\"DatabaseLogger\"}\n",
    "    test_endpoint(\"/info/versions\", auth, keys)\n",
    "    \n",
    "def test_infohardware(auth):\n",
    "    keys = {\"TempSensorConfig\", \"pHSensorConfig\", \"DOSensorConfig\"}\n",
    "    test_endpoint(\"/info/hardware\", auth, keys)\n",
    "    \n",
    "def test_infosystem(auth):\n",
    "    keys = {\"ReactorName\", \"Type\", \"Size\", \"ComputerName\", \"ComputerDescription\"}\n",
    "    test_endpoint(\"/info/system\", auth, keys)\n",
    "    \n",
    "def _chkky(a,b):\n",
    "    for key in a:\n",
    "        assert key in b\n",
    "    \n",
    "def test_vector(v, auth):\n",
    "    js = do_req(v['endpoint'], auth, v['params'])\n",
    "    assert js == v['ret']\n",
    "    \n",
    "# example test vector\n",
    "example_specs = [\n",
    "    {\n",
    "        \"endpoint\": \"/endpoint\",\n",
    "        \"params\": None,\n",
    "        \"body\": None,\n",
    "        \"ret\": {\n",
    "            \"key1\": \"val1\",\n",
    "            \"key2\": \"val2\"\n",
    "        }\n",
    "    }\n",
    "]"
   ]
  },
  {
   "cell_type": "code",
   "execution_count": 117,
   "metadata": {},
   "outputs": [
    {
     "name": "stdout",
     "output_type": "stream",
     "text": [
      "Testing endpoint '/info/versions'... Success\n",
      "Testing endpoint '/info/hardware'... Success\n",
      "Testing endpoint '/info/system'... Success\n"
     ]
    }
   ],
   "source": [
    "test_infoversions(auth)\n",
    "test_infohardware(auth)\n",
    "test_infosystem(auth)"
   ]
  },
  {
   "cell_type": "code",
   "execution_count": 129,
   "metadata": {},
   "outputs": [
    {
     "ename": "HTTPError",
     "evalue": "400 Client Error: Bad Request for url: http://localhost:8001/api_v0/controls/system Unknown control type: \"system\"",
     "output_type": "error",
     "traceback": [
      "\u001b[1;31m---------------------------------------------------------------------------\u001b[0m",
      "\u001b[1;31mHTTPError\u001b[0m                                 Traceback (most recent call last)",
      "\u001b[1;32m<ipython-input-129-2b6410b2052d>\u001b[0m in \u001b[0;36m<module>\u001b[1;34m()\u001b[0m\n\u001b[0;32m      1\u001b[0m \u001b[0murl2\u001b[0m \u001b[1;33m=\u001b[0m \u001b[1;34m\"http://localhost:8001/api_v0/controls/system\"\u001b[0m\u001b[1;33m\u001b[0m\u001b[0m\n\u001b[0;32m      2\u001b[0m \u001b[0mrsp\u001b[0m\u001b[1;33m=\u001b[0m\u001b[0mrequests\u001b[0m\u001b[1;33m.\u001b[0m\u001b[0mget\u001b[0m\u001b[1;33m(\u001b[0m\u001b[0murl2\u001b[0m\u001b[1;33m,\u001b[0m \u001b[0mauth\u001b[0m\u001b[1;33m=\u001b[0m\u001b[0mauth\u001b[0m\u001b[1;33m)\u001b[0m\u001b[1;33m\u001b[0m\u001b[0m\n\u001b[1;32m----> 3\u001b[1;33m \u001b[0mverify\u001b[0m\u001b[1;33m(\u001b[0m\u001b[0mrsp\u001b[0m\u001b[1;33m)\u001b[0m\u001b[1;33m\u001b[0m\u001b[0m\n\u001b[0m",
      "\u001b[1;32m<ipython-input-2-44f93286f07a>\u001b[0m in \u001b[0;36mverify\u001b[1;34m(rsp)\u001b[0m\n\u001b[0;32m      4\u001b[0m     \u001b[1;32mexcept\u001b[0m \u001b[0mException\u001b[0m \u001b[1;32mas\u001b[0m \u001b[0me\u001b[0m\u001b[1;33m:\u001b[0m\u001b[1;33m\u001b[0m\u001b[0m\n\u001b[0;32m      5\u001b[0m         \u001b[0me\u001b[0m\u001b[1;33m.\u001b[0m\u001b[0margs\u001b[0m \u001b[1;33m=\u001b[0m \u001b[0me\u001b[0m\u001b[1;33m.\u001b[0m\u001b[0margs\u001b[0m\u001b[1;33m[\u001b[0m\u001b[1;36m0\u001b[0m\u001b[1;33m]\u001b[0m \u001b[1;33m+\u001b[0m \u001b[1;34m\" \"\u001b[0m \u001b[1;33m+\u001b[0m \u001b[0mrsp\u001b[0m\u001b[1;33m.\u001b[0m\u001b[0mjson\u001b[0m\u001b[1;33m(\u001b[0m\u001b[1;33m)\u001b[0m\u001b[1;33m[\u001b[0m\u001b[1;34m'error'\u001b[0m\u001b[1;33m]\u001b[0m\u001b[1;33m,\u001b[0m\u001b[1;33m\u001b[0m\u001b[0m\n\u001b[1;32m----> 6\u001b[1;33m         \u001b[1;32mraise\u001b[0m \u001b[0me\u001b[0m\u001b[1;33m\u001b[0m\u001b[0m\n\u001b[0m\u001b[0;32m      7\u001b[0m     \u001b[0mprint\u001b[0m\u001b[1;33m(\u001b[0m\u001b[0mrsp\u001b[0m\u001b[1;33m.\u001b[0m\u001b[0mjson\u001b[0m\u001b[1;33m(\u001b[0m\u001b[1;33m)\u001b[0m\u001b[1;33m)\u001b[0m\u001b[1;33m\u001b[0m\u001b[0m\n",
      "\u001b[1;32m<ipython-input-2-44f93286f07a>\u001b[0m in \u001b[0;36mverify\u001b[1;34m(rsp)\u001b[0m\n\u001b[0;32m      1\u001b[0m \u001b[1;32mdef\u001b[0m \u001b[0mverify\u001b[0m\u001b[1;33m(\u001b[0m\u001b[0mrsp\u001b[0m\u001b[1;33m)\u001b[0m\u001b[1;33m:\u001b[0m\u001b[1;33m\u001b[0m\u001b[0m\n\u001b[0;32m      2\u001b[0m     \u001b[1;32mtry\u001b[0m\u001b[1;33m:\u001b[0m\u001b[1;33m\u001b[0m\u001b[0m\n\u001b[1;32m----> 3\u001b[1;33m         \u001b[0mrsp\u001b[0m\u001b[1;33m.\u001b[0m\u001b[0mraise_for_status\u001b[0m\u001b[1;33m(\u001b[0m\u001b[1;33m)\u001b[0m\u001b[1;33m\u001b[0m\u001b[0m\n\u001b[0m\u001b[0;32m      4\u001b[0m     \u001b[1;32mexcept\u001b[0m \u001b[0mException\u001b[0m \u001b[1;32mas\u001b[0m \u001b[0me\u001b[0m\u001b[1;33m:\u001b[0m\u001b[1;33m\u001b[0m\u001b[0m\n\u001b[0;32m      5\u001b[0m         \u001b[0me\u001b[0m\u001b[1;33m.\u001b[0m\u001b[0margs\u001b[0m \u001b[1;33m=\u001b[0m \u001b[0me\u001b[0m\u001b[1;33m.\u001b[0m\u001b[0margs\u001b[0m\u001b[1;33m[\u001b[0m\u001b[1;36m0\u001b[0m\u001b[1;33m]\u001b[0m \u001b[1;33m+\u001b[0m \u001b[1;34m\" \"\u001b[0m \u001b[1;33m+\u001b[0m \u001b[0mrsp\u001b[0m\u001b[1;33m.\u001b[0m\u001b[0mjson\u001b[0m\u001b[1;33m(\u001b[0m\u001b[1;33m)\u001b[0m\u001b[1;33m[\u001b[0m\u001b[1;34m'error'\u001b[0m\u001b[1;33m]\u001b[0m\u001b[1;33m,\u001b[0m\u001b[1;33m\u001b[0m\u001b[0m\n",
      "\u001b[1;32mc:\\program files\\python35\\lib\\site-packages\\requests\\models.py\u001b[0m in \u001b[0;36mraise_for_status\u001b[1;34m(self)\u001b[0m\n\u001b[0;32m    935\u001b[0m \u001b[1;33m\u001b[0m\u001b[0m\n\u001b[0;32m    936\u001b[0m         \u001b[1;32mif\u001b[0m \u001b[0mhttp_error_msg\u001b[0m\u001b[1;33m:\u001b[0m\u001b[1;33m\u001b[0m\u001b[0m\n\u001b[1;32m--> 937\u001b[1;33m             \u001b[1;32mraise\u001b[0m \u001b[0mHTTPError\u001b[0m\u001b[1;33m(\u001b[0m\u001b[0mhttp_error_msg\u001b[0m\u001b[1;33m,\u001b[0m \u001b[0mresponse\u001b[0m\u001b[1;33m=\u001b[0m\u001b[0mself\u001b[0m\u001b[1;33m)\u001b[0m\u001b[1;33m\u001b[0m\u001b[0m\n\u001b[0m\u001b[0;32m    938\u001b[0m \u001b[1;33m\u001b[0m\u001b[0m\n\u001b[0;32m    939\u001b[0m     \u001b[1;32mdef\u001b[0m \u001b[0mclose\u001b[0m\u001b[1;33m(\u001b[0m\u001b[0mself\u001b[0m\u001b[1;33m)\u001b[0m\u001b[1;33m:\u001b[0m\u001b[1;33m\u001b[0m\u001b[0m\n",
      "\u001b[1;31mHTTPError\u001b[0m: 400 Client Error: Bad Request for url: http://localhost:8001/api_v0/controls/system Unknown control type: \"system\""
     ]
    }
   ],
   "source": [
    "url2 = \"http://localhost:8001/api_v0/controls/system\"\n",
    "rsp=requests.get(url2, auth=auth)\n",
    "verify(rsp)"
   ]
  },
  {
   "cell_type": "code",
   "execution_count": 161,
   "metadata": {},
   "outputs": [],
   "source": [
    "def test_controls(auth):\n",
    "    def keyfix(key):\n",
    "        return key.lower()\n",
    "    ctrls = {\n",
    "        \"agitation\": {\n",
    "            \"pv\": \"pv\",\n",
    "            \"sp\": \"auto_sp\",\n",
    "            \"man\": \"man_sp\",\n",
    "            \"output\": \"output\"            \n",
    "        },\n",
    "        \"temperature\": {\n",
    "            \"pv\": \"pv\",\n",
    "            \"sp\": \"auto_sp\",\n",
    "            \"man\": \"man_sp\",\n",
    "            \"output\": \"output\"            \n",
    "        },\n",
    "        \"ph\": {\n",
    "            \"pv\": \"pv\",\n",
    "            \"sp\": \"auto_sp\",\n",
    "            \"manUp\": \"man_base_sp\",\n",
    "            \"manDown\": \"man_co2_sp\",\n",
    "            \"outputUp\": \"base_output\",\n",
    "            \"outputDown\": \"co2_output\",\n",
    "        },\n",
    "        \"do\": {\n",
    "            \"pv\": \"pv\",\n",
    "            \"sp\": \"auto_sp\",\n",
    "            \"manUp\": \"man_o2_sp\",\n",
    "            \"manDown\": \"man_n2_sp\",\n",
    "            \"outputUp\": \"o2_output\",\n",
    "            \"outputDown\": \"n2_output\",\n",
    "        },\n",
    "        \"level\": {\n",
    "            \"pv\": \"pv\",\n",
    "        }, \n",
    "        \"pressure\": {\n",
    "            \"pv\": \"pv\",\n",
    "        },\n",
    "        \"condenser\": {\n",
    "            \"pv\": \"pv\",\n",
    "            \"sp\": \"auto_sp\",\n",
    "            \"man\": \"man_sp\",\n",
    "            \"output\": \"output\"            \n",
    "        },\n",
    "        \"maingas\": {\n",
    "            \"pv\": \"pv\",\n",
    "            \"man\": \"man_sp\"\n",
    "        },\n",
    "        \"MFCs\": {\n",
    "            \"air\": \"air_flow\",\n",
    "            \"co2\":\"co2_flow\",\n",
    "            \"o2\":\"o2_flow\",\n",
    "            \"n2\":\"n2_flow\"\n",
    "        }\n",
    "    }\n",
    "    url1 = \"http://localhost:8001/webservice/interface?call=getMainValues&json=1\"\n",
    "    url2 = \"http://localhost:8001/api_v0/controls/\"\n",
    "    s = requests.Session()\n",
    "    mv = s.get(url1).json()\n",
    "    for ep, values in ctrls.items():\n",
    "        print(\"testing %s\"%ep)\n",
    "        vals = s.get(url2+keyfix(ep), auth=auth).json()\n",
    "        for k, v in values.items():\n",
    "            exp = mv[ep][k]\n",
    "            got = vals[v]\n",
    "            if isinstance(exp, float):\n",
    "                match = round(exp, 1) == round(got, 1)\n",
    "            else:\n",
    "                match = exp == got\n",
    "            assert match, (ep, k, exp, got)"
   ]
  },
  {
   "cell_type": "code",
   "execution_count": 163,
   "metadata": {},
   "outputs": [
    {
     "name": "stdout",
     "output_type": "stream",
     "text": [
      "testing do\n",
      "testing maingas\n",
      "testing pressure\n",
      "testing agitation\n",
      "testing ph\n",
      "testing MFCs\n",
      "testing temperature\n",
      "testing level\n",
      "testing condenser\n"
     ]
    }
   ],
   "source": [
    "test_controls(auth)"
   ]
  },
  {
   "cell_type": "code",
   "execution_count": 165,
   "metadata": {},
   "outputs": [
    {
     "data": {
      "text/plain": [
       "{'alarm_status': '',\n",
       " 'auto_sp': 20,\n",
       " 'interlocked': False,\n",
       " 'man_sp': 40,\n",
       " 'mode': 'auto',\n",
       " 'output': 35.67894744873047,\n",
       " 'pv': 20.01471710205078}"
      ]
     },
     "execution_count": 165,
     "metadata": {},
     "output_type": "execute_result"
    }
   ],
   "source": [
    "requests.get(\"http://localhost:8001/api_v0/controls/agitation\", auth=auth).json()"
   ]
  },
  {
   "cell_type": "code",
   "execution_count": 52,
   "metadata": {},
   "outputs": [],
   "source": [
    "import base64, clipboard\n",
    "clipboard.copy(\"Basic %s\"%base64.b64encode((\"%s:%s\"%auth).encode()).decode())"
   ]
  },
  {
   "cell_type": "code",
   "execution_count": 125,
   "metadata": {},
   "outputs": [
    {
     "name": "stdout",
     "output_type": "stream",
     "text": [
      "Request 10 completed after 0.01 seconds (total 2.13 elapsed)\n",
      "Request 20 completed after 0.01 seconds (total 2.24 elapsed)\n",
      "Request 30 completed after 0.01 seconds (total 2.35 elapsed)\n",
      "Request 40 completed after 0.01 seconds (total 2.48 elapsed)\n",
      "Request 50 completed after 0.01 seconds (total 2.60 elapsed)\n"
     ]
    }
   ],
   "source": [
    "s = requests.Session()\n",
    "\n",
    "url2 = \"http://localhost:8001/api_v0/someendpoint\"\n",
    "data = {\n",
    "    \"foo\": \"3\",\n",
    "    \"biff\": \"4\"\n",
    "}\n",
    "import time\n",
    "\n",
    "def update(i, start, last, rsp):\n",
    "    rsp.raise_for_status()\n",
    "    now = time.time()\n",
    "    total = now - start\n",
    "    diff = now - last\n",
    "    if i % 10 == 0: print(\"Request %d completed after %.2f seconds (total %.2f elapsed)\" % (i, diff, total))\n",
    "    return now\n",
    "\n",
    "unique_urls = set()\n",
    "iters = 50\n",
    "start = last = time.time()\n",
    "for i in range(iters):\n",
    "    data[\"foo\"] = str(i + 3)\n",
    "    data[\"biff\"] = str(i + 4)\n",
    "    req = requests.Request(\"GET\", url=url2, auth=auth, params=data)\n",
    "    prep = s.prepare_request(req)\n",
    "    unique_urls.add(prep.path_url)\n",
    "    rsp = s.get(url2, auth=auth, params=data)\n",
    "    last = update(i+1, start, last, rsp)\n",
    "assert len(unique_urls) == iters"
   ]
  },
  {
   "cell_type": "code",
   "execution_count": null,
   "metadata": {},
   "outputs": [],
   "source": []
  }
 ],
 "metadata": {
  "kernelspec": {
   "display_name": "Python 3",
   "language": "python",
   "name": "python3"
  },
  "language_info": {
   "codemirror_mode": {
    "name": "ipython",
    "version": 3
   },
   "file_extension": ".py",
   "mimetype": "text/x-python",
   "name": "python",
   "nbconvert_exporter": "python",
   "pygments_lexer": "ipython3",
   "version": "3.5.2"
  }
 },
 "nbformat": 4,
 "nbformat_minor": 2
}
