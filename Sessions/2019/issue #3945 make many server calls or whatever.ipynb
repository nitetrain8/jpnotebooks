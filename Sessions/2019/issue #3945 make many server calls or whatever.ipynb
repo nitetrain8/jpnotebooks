{
 "cells": [
  {
   "cell_type": "code",
   "execution_count": 17,
   "metadata": {
    "collapsed": true
   },
   "outputs": [],
   "source": [
    "import threading\n",
    "from hello import hello3\n",
    "from time import sleep, time\n",
    "\n",
    "class _Exit(Exception):\n",
    "    pass\n",
    "\n",
    "class RunThread(threading.Thread):\n",
    "    def __init__(self, ip, gpmv=False, timeout=60):\n",
    "        self.ip = ip\n",
    "        self.running = False\n",
    "        self.gpmv = gpmv\n",
    "        self.timeout = timeout\n",
    "        super().__init__()\n",
    "        \n",
    "    def stop(self):\n",
    "        self.running = False\n",
    "        \n",
    "    def _sleep(self, t):\n",
    "        end = time() + t\n",
    "        while time() < end:\n",
    "            if self.gpmv:\n",
    "                self.h.gpmv()\n",
    "            sleep(1)\n",
    "            if not self.running:\n",
    "                raise _Exit()\n",
    "        \n",
    "    def run(self):\n",
    "        try:\n",
    "            self._run()\n",
    "        except _Exit:\n",
    "            pass\n",
    "        print(\"%s: thread exit\" % self.ip)\n",
    "        \n",
    "    def _run(self):\n",
    "        self.running = True\n",
    "        self.h = h = hello3.HelloApp(self.ip)\n",
    "        while self.running:\n",
    "            for t in range(1,10):\n",
    "                if not self.running:\n",
    "                    raise _Exit()\n",
    "                call(h.login)\n",
    "                sp = h.gpmv()['agitation']['sp']\n",
    "                call(h.setag, 0, sp)\n",
    "                print(\"%s: sleep test for %.1f minute(s)\" % (self.ip, t*self.timeout/60))\n",
    "                self._sleep(self.timeout*t)\n",
    "                # not wrapped by call() - looking delibrately for \n",
    "                # error here\n",
    "                try:\n",
    "                    h.setag(0, sp)\n",
    "                except hello3.ServerCallError as e:\n",
    "                    print(\"%s: got error (timeout=%d, gmv=%s): %s\" % (self.ip, t, self.gpmv, str(e).splitlines()[0]))\n",
    "                call(h.logout)\n",
    "                    \n",
    "    def __hash__(self):\n",
    "        return hash(self.ip)\n",
    "    \n"
   ]
  },
  {
   "cell_type": "code",
   "execution_count": 14,
   "metadata": {
    "collapsed": true
   },
   "outputs": [],
   "source": [
    "threads = {}\n",
    "def new_thread(ip, mv=False, tm=60):\n",
    "    t = RunThread(ip, mv, tm)\n",
    "    threads[ip] = t\n",
    "    t.start()\n",
    "\n",
    "def stop_thread(ip):\n",
    "    threads[ip].stop()\n",
    "    del threads[ip]\n",
    "    \n",
    "def stop_all():\n",
    "    for t in threads.values():\n",
    "        t.stop()\n",
    "    threads.clear()"
   ]
  },
  {
   "cell_type": "code",
   "execution_count": 8,
   "metadata": {
    "collapsed": true
   },
   "outputs": [],
   "source": [
    "def call(f, *a, **k):\n",
    "    \n",
    "    while True:\n",
    "        try:\n",
    "            return f(*a, **k)\n",
    "        except NotLoggedInError:\n",
    "            f.__self__.login()\n",
    "        except hello3.ServerCallError as e:\n",
    "            print(\"ServerCallError calling %s for %s: %s\" % (f.__name__, f.__self__.ipv4, str(e)))\n",
    "        except (BadError, IOError, requests.exceptions.ConnectionError) as e:\n",
    "            print(\"Error occurred:\", e.__class__)   \n",
    "        time.sleep(1)"
   ]
  },
  {
   "cell_type": "code",
   "execution_count": 9,
   "metadata": {},
   "outputs": [
    {
     "name": "stdout",
     "output_type": "stream",
     "text": [
      "192.168.1.8: sleep test for 1 minute(s)\n",
      "192.168.1.14: sleep test for 1 minute(s)\n",
      "192.168.1.14: got error (timeout=1, gmv=False): No user associated with the set call\n",
      "192.168.1.8: got error (timeout=1, gmv=False): No user associated with the set call\n",
      "192.168.1.14: sleep test for 2 minute(s)\n",
      "192.168.1.8: sleep test for 2 minute(s)\n",
      "192.168.1.14: got error (timeout=2, gmv=False): No user associated with the set call\n",
      "192.168.1.8: got error (timeout=2, gmv=False): No user associated with the set call\n",
      "192.168.1.14: sleep test for 3 minute(s)\n",
      "192.168.1.8: sleep test for 3 minute(s)\n",
      "192.168.1.14: got error (timeout=3, gmv=False): No user associated with the set call\n",
      "192.168.1.8: got error (timeout=3, gmv=False): No user associated with the set call\n",
      "192.168.1.14: sleep test for 4 minute(s)\n",
      "192.168.1.8: sleep test for 4 minute(s)\n",
      "192.168.1.14: got error (timeout=4, gmv=False): No user associated with the set call\n",
      "192.168.1.8: got error (timeout=4, gmv=False): No user associated with the set call\n",
      "192.168.1.14: sleep test for 5 minute(s)\n",
      "192.168.1.8: sleep test for 5 minute(s)\n",
      "192.168.1.14: got error (timeout=5, gmv=False): No user associated with the set call\n",
      "192.168.1.8: got error (timeout=5, gmv=False): No user associated with the set call\n",
      "192.168.1.14: sleep test for 6 minute(s)\n",
      "192.168.1.8: sleep test for 6 minute(s)\n"
     ]
    }
   ],
   "source": [
    "new_thread(\"192.168.1.8\", False)\n",
    "new_thread(\"192.168.1.14\", False)"
   ]
  },
  {
   "cell_type": "code",
   "execution_count": 16,
   "metadata": {},
   "outputs": [
    {
     "name": "stdout",
     "output_type": "stream",
     "text": [
      "192.168.1.14: thread exit\n",
      "192.168.1.8: thread exit\n"
     ]
    }
   ],
   "source": [
    "stop_all()"
   ]
  },
  {
   "cell_type": "code",
   "execution_count": 11,
   "metadata": {},
   "outputs": [
    {
     "name": "stdout",
     "output_type": "stream",
     "text": [
      "192.168.1.8: sleep test for 1 minute(s)\n",
      "192.168.1.14: sleep test for 1 minute(s)\n",
      "192.168.1.8: sleep test for 2 minute(s)\n",
      "192.168.1.14: sleep test for 2 minute(s)\n",
      "192.168.1.8: sleep test for 3 minute(s)\n",
      "192.168.1.14: sleep test for 3 minute(s)\n",
      "192.168.1.8: sleep test for 4 minute(s)\n",
      "192.168.1.14: sleep test for 4 minute(s)\n",
      "192.168.1.14: sleep test for 5 minute(s)\n",
      "192.168.1.8: sleep test for 5 minute(s)\n"
     ]
    }
   ],
   "source": [
    "new_thread(\"192.168.1.8\", True)\n",
    "new_thread(\"192.168.1.14\", True)"
   ]
  },
  {
   "cell_type": "code",
   "execution_count": 15,
   "metadata": {},
   "outputs": [
    {
     "name": "stdout",
     "output_type": "stream",
     "text": [
      "192.168.1.8: sleep test for 0 minute(s)\n",
      "192.168.1.14: sleep test for 0 minute(s)\n",
      "192.168.1.8: sleep test for 1 minute(s)\n",
      "192.168.1.14: sleep test for 1 minute(s)\n",
      "192.168.1.14: got error (timeout=2, gmv=False): No user associated with the set call\n",
      "192.168.1.8: sleep test for 1 minute(s)\n",
      "192.168.1.14: sleep test for 1 minute(s)\n",
      "192.168.1.8: got error (timeout=3, gmv=False): No user associated with the set call\n",
      "192.168.1.14: got error (timeout=3, gmv=False): No user associated with the set call\n",
      "192.168.1.8: sleep test for 2 minute(s)\n",
      "192.168.1.14: sleep test for 2 minute(s)\n",
      "192.168.1.8: got error (timeout=4, gmv=False): No user associated with the set call\n",
      "192.168.1.14: got error (timeout=4, gmv=False): No user associated with the set call\n",
      "192.168.1.8: sleep test for 2 minute(s)\n",
      "192.168.1.14: sleep test for 2 minute(s)\n",
      "192.168.1.8: got error (timeout=5, gmv=False): No user associated with the set call\n",
      "192.168.1.14: got error (timeout=5, gmv=False): No user associated with the set call\n",
      "192.168.1.8: sleep test for 3 minute(s)\n",
      "192.168.1.14: sleep test for 3 minute(s)\n"
     ]
    }
   ],
   "source": [
    "new_thread(\"192.168.1.8\", False, 30)\n",
    "new_thread(\"192.168.1.14\", False, 30)"
   ]
  },
  {
   "cell_type": "code",
   "execution_count": null,
   "metadata": {
    "collapsed": true
   },
   "outputs": [],
   "source": []
  }
 ],
 "metadata": {
  "kernelspec": {
   "display_name": "Python 3",
   "language": "python",
   "name": "python3"
  },
  "language_info": {
   "codemirror_mode": {
    "name": "ipython",
    "version": 3
   },
   "file_extension": ".py",
   "mimetype": "text/x-python",
   "name": "python",
   "nbconvert_exporter": "python",
   "pygments_lexer": "ipython3",
   "version": "3.5.0"
  }
 },
 "nbformat": 4,
 "nbformat_minor": 2
}
