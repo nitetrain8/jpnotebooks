{
 "cells": [
  {
   "cell_type": "code",
   "execution_count": 1,
   "metadata": {},
   "outputs": [],
   "source": [
    "%load_ext autoreload\n",
    "%autoreload 2\n",
    "\n",
    "import datetime\n",
    "from scripts.tools.issuetracker import IssuetrackerAPI\n",
    "\n",
    "api = IssuetrackerAPI('issue.pbsbiotech.com', 'nstarkweather', 'kookychemist')"
   ]
  },
  {
   "cell_type": "code",
   "execution_count": 32,
   "metadata": {},
   "outputs": [],
   "source": [
    "from officelib.xllib import *\n",
    "xl = Excel()\n",
    "wb = xl.RecentFiles(1).Open()"
   ]
  },
  {
   "cell_type": "code",
   "execution_count": 42,
   "metadata": {
    "collapsed": true
   },
   "outputs": [],
   "source": [
    "def sel():\n",
    "    s = xl.Selection\n",
    "    val = s.Value\n",
    "    if isinstance(val, (list, tuple)):\n",
    "        return [v[0] for v in val]\n",
    "    return [val]"
   ]
  },
  {
   "cell_type": "code",
   "execution_count": null,
   "metadata": {
    "collapsed": true
   },
   "outputs": [],
   "source": [
    "# hack to get all user ids since the direct api is blocked off...\n",
    "_=api.download_issues()"
   ]
  },
  {
   "cell_type": "code",
   "execution_count": 34,
   "metadata": {},
   "outputs": [],
   "source": [
    "def watcher(name):\n",
    "    return api.users.lookup(name).id\n",
    "\n",
    "NATHAN = watcher(\"Nathan Starkweather\")\n",
    "SAM    = watcher(\"Sam Guerra\")\n",
    "YAS    = watcher(\"Yas Hashimura\")\n",
    "GARY   = watcher(\"Gary Evans\")\n",
    "\n",
    "status_id  = 1  # New\n",
    "pj = api.projects(\"3L Mag\")\n",
    "t = datetime.date.today()\n",
    "versions = pj.get_versions()\n",
    "pb = api.get_trackers().lookup(\"Phase Book\").id\n",
    "watchers = NATHAN, SAM, YAS, GARY"
   ]
  },
  {
   "cell_type": "code",
   "execution_count": 49,
   "metadata": {},
   "outputs": [
    {
     "name": "stdout",
     "output_type": "stream",
     "text": [
      "Training certification :: 3706\n",
      "Phase IV Completion & Product Launch :: 3707\n"
     ]
    }
   ],
   "source": [
    "for s in sel():\n",
    "    iss = api.create_issue(pj.id, s, status_id, \n",
    "                 start_date=datetime.date(2017, 12, 1).isoformat(), \n",
    "                 due_date=  datetime.date(2017, 12, 25).isoformat(), \n",
    "                 assigned_to_id=NATHAN,\n",
    "                 fixed_version_id=versions['Phase 4'].id,\n",
    "                 tracker_id=pb,\n",
    "                 description=s, watcher_user_ids=watchers)\n",
    "    print(s, \"::\", json.loads(iss.content.decode())['issue']['id'])"
   ]
  }
 ],
 "metadata": {
  "kernelspec": {
   "display_name": "Python 3",
   "language": "python",
   "name": "python3"
  },
  "language_info": {
   "codemirror_mode": {
    "name": "ipython",
    "version": 3
   },
   "file_extension": ".py",
   "mimetype": "text/x-python",
   "name": "python",
   "nbconvert_exporter": "python",
   "pygments_lexer": "ipython3",
   "version": "3.8.2"
  }
 },
 "nbformat": 4,
 "nbformat_minor": 2
}
