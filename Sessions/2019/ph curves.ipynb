{
 "cells": [
  {
   "cell_type": "code",
   "execution_count": 9,
   "metadata": {},
   "outputs": [
    {
     "name": "stdout",
     "output_type": "stream",
     "text": [
      "Using matplotlib backend: TkAgg\n"
     ]
    }
   ],
   "source": [
    "%matplotlib\n",
    "import numpy as np\n",
    "from matplotlib import pyplot as plt\n",
    "from matplotlib.ticker import FuncFormatter, StrMethodFormatter, FormatStrFormatter"
   ]
  },
  {
   "cell_type": "code",
   "execution_count": 2,
   "metadata": {},
   "outputs": [],
   "source": [
    "# Henry's law\n",
    "def calc_hcp(T):\n",
    "    C = 2400 \n",
    "    T0 = 298.15\n",
    "    hcp0 = 3.4e-2\n",
    "    return hcp0*np.exp(C*(1/T - 1/T0))\n",
    "\n",
    "hcp = calc_hcp(T=273.15 + 37)\n",
    "\n",
    "def qf(a,b,c):\n",
    "    return (-b+np.sqrt(b**2-4*a*c))/(2*a)\n",
    "\n",
    "def ph_to_co2(ph, hco3, hcp=hcp):\n",
    "    h = 10**(-ph)\n",
    "    w = 1e-7\n",
    "    ka = 4.45e-7\n",
    "    bc = hco3 + h - w\n",
    "    co2 = bc * h / ka\n",
    "    return co2 / hcp\n",
    "\n",
    "def general_ph(c1, c2, c3, ka):\n",
    "    a = 1\n",
    "    b = c2+c3+ka\n",
    "    c = c2*c3-ka*c1\n",
    "    x=qf(a,b,c)\n",
    "    return -np.log10(c2+x)\n",
    "\n",
    "def cpH(co2, bicarb, hcp=hcp):\n",
    "    # co2 as fraction of atmosphere\n",
    "    c1 = co2 * hcp # henry's law\n",
    "    c2 = 1e-7\n",
    "    c3 = bicarb\n",
    "    ka = 4.45e-7  # pka 6.35\n",
    "    a = 1\n",
    "    b = c2+c3+ka\n",
    "    c = c2*c3-ka*c1\n",
    "    x=qf(a,b,c)\n",
    "    return -np.log10(c2+x)"
   ]
  },
  {
   "cell_type": "code",
   "execution_count": 51,
   "metadata": {},
   "outputs": [],
   "source": [
    "fig = plt.figure()"
   ]
  },
  {
   "cell_type": "code",
   "execution_count": 52,
   "metadata": {},
   "outputs": [],
   "source": [
    "try:\n",
    "    fig.clear()\n",
    "except:\n",
    "    fig = plt.figure()\n",
    "\n",
    "co2 = np.arange(0, 101)\n",
    "bc = 2.02\n",
    "ax = fig.add_subplot(1,1,1)\n",
    "for bc in (1, 2.02, 3.7, 4.5):\n",
    "\n",
    "    # (1-co2/100) * 0.0004 should account for co2 in air\n",
    "    # assuming no other gasses flow. This value disappears into\n",
    "    # rounding error very quickly. \n",
    "    ph = cpH(co2/100 + (1-co2/100)*0.0004, bc/84)\n",
    "    ax.plot(co2, ph, label=\"%.2f g/L HCO\\u2083\"%bc)\n",
    "\n",
    "xax = ax.xaxis\n",
    "xax.set_label_text(\"CO\\u2082 %\")\n",
    "xax.set_major_formatter(FormatStrFormatter(\"%d%%\"))\n",
    "\n",
    "yax = ax.yaxis\n",
    "yax.set_label_text(\"pH\")\n",
    "yax.set_major_formatter(FormatStrFormatter(\"%.2f\"))\n",
    "\n",
    "ax.set_xlim(0, 100)\n",
    "ax.set_ylim(6, 8)\n",
    "\n",
    "ax.grid()\n",
    "ax.legend()\n",
    "\n",
    "fig.suptitle(\"CO\\u2082 vs. pH for different HCO\\u2083 concentrations\")\n",
    "\n",
    "\n",
    "fig.show()"
   ]
  },
  {
   "cell_type": "code",
   "execution_count": null,
   "metadata": {},
   "outputs": [],
   "source": []
  }
 ],
 "metadata": {
  "kernelspec": {
   "display_name": "Python 3",
   "language": "python",
   "name": "python3"
  },
  "language_info": {
   "codemirror_mode": {
    "name": "ipython",
    "version": 3
   },
   "file_extension": ".py",
   "mimetype": "text/x-python",
   "name": "python",
   "nbconvert_exporter": "python",
   "pygments_lexer": "ipython3",
   "version": "3.5.2"
  }
 },
 "nbformat": 4,
 "nbformat_minor": 2
}
