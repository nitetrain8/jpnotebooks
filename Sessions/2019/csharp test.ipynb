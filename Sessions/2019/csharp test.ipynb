{
 "cells": [
  {
   "cell_type": "code",
   "execution_count": 44,
   "metadata": {},
   "outputs": [],
   "source": [
    "#r \"NLua.dll\"\n",
    "using System;\n",
    "using System.Data;\n",
    "using System.IO;\n",
    "using NLua;\n",
    "using System.Reflection;"
   ]
  },
  {
   "cell_type": "code",
   "execution_count": 47,
   "metadata": {},
   "outputs": [
    {
     "data": {
      "text/html": [
       "im a little teapot"
      ],
      "text/plain": [
       "im a little teapot"
      ]
     },
     "metadata": {},
     "output_type": "display_data"
    }
   ],
   "source": [
    "public void print(string s)\n",
    "{\n",
    "    Console.WriteLine(s);\n",
    "}\n",
    "\n",
    "public void print(object o)\n",
    "{\n",
    "    Console.WriteLine(o.ToString());\n",
    "}\n",
    "\n",
    "print(\"im a little teapot\");"
   ]
  },
  {
   "cell_type": "code",
   "execution_count": 3,
   "metadata": {},
   "outputs": [
    {
     "data": {
      "text/html": [
       "<font style=\"color:Black\">C:\\Users\\Administrator\\Dropbox\\Python\\jpnotebooks\\Sessions\r\n",
       "</font>"
      ],
      "text/plain": [
       "C:\\Users\\Administrator\\Dropbox\\Python\\jpnotebooks\\Sessions\r\n"
      ]
     },
     "metadata": {},
     "output_type": "display_data"
    }
   ],
   "source": [
    "Directory.GetCurrentDirectory();"
   ]
  },
  {
   "cell_type": "code",
   "execution_count": 5,
   "metadata": {},
   "outputs": [],
   "source": [
    "Lua lua = new Lua();"
   ]
  },
  {
   "cell_type": "code",
   "execution_count": 6,
   "metadata": {
    "collapsed": true
   },
   "outputs": [],
   "source": [
    "var fp = @\"C:\\Program Files (x86)\\World of Warcraft\\_retail_\\WTF\\Account\\MYTHICSHADOW\\SavedVariables\";"
   ]
  },
  {
   "cell_type": "code",
   "execution_count": 9,
   "metadata": {},
   "outputs": [],
   "source": [
    "var result = lua.DoFile(fp+\"\\\\RCLootCouncil.lua\");"
   ]
  },
  {
   "cell_type": "code",
   "execution_count": 16,
   "metadata": {},
   "outputs": [],
   "source": [
    "var result = lua.GetTable(\"RCLootCouncilLootDB\");"
   ]
  },
  {
   "cell_type": "code",
   "execution_count": 22,
   "metadata": {},
   "outputs": [],
   "source": [
    "var res1 = result[\"factionrealm\"];"
   ]
  },
  {
   "cell_type": "code",
   "execution_count": 36,
   "metadata": {},
   "outputs": [],
   "source": [
    "var res2 = res1 as NLua.LuaTable;"
   ]
  },
  {
   "cell_type": "code",
   "execution_count": 46,
   "metadata": {},
   "outputs": [],
   "source": [
    "PropertyInfo[] properties = res2.GetType().GetProperties();"
   ]
  },
  {
   "cell_type": "code",
   "execution_count": 52,
   "metadata": {},
   "outputs": [
    {
     "data": {
      "text/html": [
       "Horde - Turalyon"
      ],
      "text/plain": [
       "Horde - Turalyon"
      ]
     },
     "metadata": {},
     "output_type": "display_data"
    }
   ],
   "source": [
    "foreach (var k in res2.Keys)\n",
    "{\n",
    "    print(k);\n",
    "}"
   ]
  },
  {
   "cell_type": "code",
   "execution_count": null,
   "metadata": {
    "collapsed": true
   },
   "outputs": [],
   "source": []
  }
 ],
 "metadata": {
  "kernelspec": {
   "display_name": "C#",
   "language": "csharp",
   "name": "csharp"
  },
  "language_info": {
   "file_extension": ".cs",
   "mimetype": "text/x-csharp",
   "name": "C#",
   "pygments_lexer": "c#",
   "version": "4.0.30319"
  }
 },
 "nbformat": 4,
 "nbformat_minor": 2
}
