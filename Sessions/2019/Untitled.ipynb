{
 "cells": [
  {
   "cell_type": "code",
   "execution_count": null,
   "metadata": {},
   "outputs": [],
   "source": [
    "def send_pi_messages():\n",
    "    piq = get_pi_queue()\n",
    "    netq = get_network_transfer_queue()\n",
    "    while True:\n",
    "        cfg = piq.peek()\n",
    "        if cfg.running:\n",
    "            set_pi_running_bool(True)\n",
    "            http = HTTPSession(cfg.username, cfg.password, verify_ssl=True)\n",
    "            prefix = \"%s,%s,%s,\"%(cfg.asset_name, cfg.template_name, cfg.token_name)\n",
    "            var_names = get_global_names_to_send()\n",
    "            run_message_pump(netq, var_names, prefix, url, http, cfg.wait)\n",
    "            http.close()\n",
    "        else:\n",
    "            wait_for_a_bit_like_500ms_or_cfg_change_notice()\n",
    "        stop = get_shutdown_boolean()\n",
    "        if stop:\n",
    "            break\n",
    "            \n",
    "        \n",
    "def run_message_pump(netq, var_names, prefix, url, http, wait):\n",
    "    while True:\n",
    "        pbs_globals = netq.peek()\n",
    "        msg = format_pi_message(pbs_globals, var_names, prefix)\n",
    "        send_put_message(http, msg, url)\n",
    "        stop = config_has_changed() or get_shutdown_boolean()\n",
    "        if stop:\n",
    "            break\n",
    "        wait_until_next_sane_time_interval(wait)"
   ]
  }
 ],
 "metadata": {
  "kernelspec": {
   "display_name": "Python 3",
   "language": "python",
   "name": "python3"
  },
  "language_info": {
   "codemirror_mode": {
    "name": "ipython",
    "version": 3
   },
   "file_extension": ".py",
   "mimetype": "text/x-python",
   "name": "python",
   "nbconvert_exporter": "python",
   "pygments_lexer": "ipython3",
   "version": "3.5.2"
  }
 },
 "nbformat": 4,
 "nbformat_minor": 2
}
