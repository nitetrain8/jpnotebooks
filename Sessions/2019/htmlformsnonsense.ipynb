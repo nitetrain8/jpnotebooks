{
 "cells": [
  {
   "cell_type": "code",
   "execution_count": 1,
   "metadata": {},
   "outputs": [],
   "source": [
    "import jinja2, webbrowser"
   ]
  },
  {
   "cell_type": "code",
   "execution_count": 2,
   "metadata": {
    "scrolled": false
   },
   "outputs": [],
   "source": [
    "templateLoader = jinja2.FileSystemLoader(searchpath=\"C:\\\\users\\\\nathan\\\\downloads\")\n",
    "templateEnv = jinja2.Environment(loader=templateLoader)"
   ]
  },
  {
   "cell_type": "code",
   "execution_count": 3,
   "metadata": {},
   "outputs": [
    {
     "ename": "NameError",
     "evalue": "name 'template' is not defined",
     "output_type": "error",
     "traceback": [
      "\u001b[1;31m---------------------------------------------------------------------------\u001b[0m",
      "\u001b[1;31mNameError\u001b[0m                                 Traceback (most recent call last)",
      "\u001b[1;32m<ipython-input-3-97489b9a4cd2>\u001b[0m in \u001b[0;36m<module>\u001b[1;34m()\u001b[0m\n\u001b[0;32m      9\u001b[0m \u001b[0mTEMPLATE_FILE\u001b[0m \u001b[1;33m=\u001b[0m \u001b[1;34m\"test.html.jinja2\"\u001b[0m\u001b[1;33m\u001b[0m\u001b[0m\n\u001b[0;32m     10\u001b[0m \u001b[1;33m\u001b[0m\u001b[0m\n\u001b[1;32m---> 11\u001b[1;33m \u001b[0mtxt\u001b[0m \u001b[1;33m=\u001b[0m \u001b[0mtemplate\u001b[0m\u001b[1;33m.\u001b[0m\u001b[0mrender\u001b[0m\u001b[1;33m(\u001b[0m\u001b[0msimpleqs\u001b[0m\u001b[1;33m=\u001b[0m\u001b[0mqs\u001b[0m\u001b[1;33m,\u001b[0m \u001b[0msection\u001b[0m\u001b[1;33m=\u001b[0m\u001b[1;36m1\u001b[0m\u001b[1;33m)\u001b[0m  \u001b[1;31m# this is where to put args to the template renderer\u001b[0m\u001b[1;33m\u001b[0m\u001b[0m\n\u001b[0m\u001b[0;32m     12\u001b[0m \u001b[1;32mwith\u001b[0m \u001b[0mopen\u001b[0m\u001b[1;33m(\u001b[0m\u001b[1;34m\"test4.html\"\u001b[0m\u001b[1;33m,\u001b[0m \u001b[1;34m'w'\u001b[0m\u001b[1;33m)\u001b[0m \u001b[1;32mas\u001b[0m \u001b[0mf\u001b[0m\u001b[1;33m:\u001b[0m\u001b[1;33m\u001b[0m\u001b[0m\n\u001b[0;32m     13\u001b[0m     \u001b[0mf\u001b[0m\u001b[1;33m.\u001b[0m\u001b[0mwrite\u001b[0m\u001b[1;33m(\u001b[0m\u001b[0mtxt\u001b[0m\u001b[1;33m)\u001b[0m\u001b[1;33m\u001b[0m\u001b[0m\n",
      "\u001b[1;31mNameError\u001b[0m: name 'template' is not defined"
     ]
    }
   ],
   "source": [
    "qs = [\n",
    "    \"pH/DO probes stored with solution and caps, if necessary\",\n",
    "    \"Thermowell present\",\n",
    "    \"Shade cloth present\",\n",
    "    \"Dip tube present\",\n",
    "    \"Housing keys present\",\n",
    "]\n",
    "\n",
    "TEMPLATE_FILE = \"test.html.jinja2\"\n",
    "\n",
    "txt = template.render(simpleqs=qs, section=1)  # this is where to put args to the template renderer\n",
    "with open(\"test4.html\", 'w') as f:\n",
    "    f.write(txt)\n",
    "#webbrowser.open_new_tab(\"test4.html\")"
   ]
  },
  {
   "cell_type": "code",
   "execution_count": 39,
   "metadata": {},
   "outputs": [
    {
     "name": "stderr",
     "output_type": "stream",
     "text": [
      "127.0.0.1 - - [18/Sep/2019 16:29:38] \"GET /test2.html.jinja2 HTTP/1.1\" 200 -\n",
      "127.0.0.1 - - [18/Sep/2019 16:29:57] \"GET /test2.html.jinja2 HTTP/1.1\" 200 -\n",
      "127.0.0.1 - - [18/Sep/2019 16:30:48] \"GET /test2.html.jinja2 HTTP/1.1\" 200 -\n",
      "127.0.0.1 - - [18/Sep/2019 16:53:26] \"GET /test2.html.jinja2 HTTP/1.1\" 200 -\n",
      "127.0.0.1 - - [18/Sep/2019 16:53:56] \"GET /test2.html.jinja2 HTTP/1.1\" 200 -\n",
      "127.0.0.1 - - [18/Sep/2019 16:54:08] \"GET /test2.html.jinja2 HTTP/1.1\" 200 -\n",
      "127.0.0.1 - - [18/Sep/2019 16:54:36] \"GET /test2.html.jinja2 HTTP/1.1\" 200 -\n",
      "127.0.0.1 - - [18/Sep/2019 16:54:58] \"GET /test2.html.jinja2 HTTP/1.1\" 200 -\n",
      "127.0.0.1 - - [18/Sep/2019 16:55:22] \"GET /test2.html.jinja2 HTTP/1.1\" 500 -\n",
      "127.0.0.1 - - [18/Sep/2019 16:56:13] \"GET /test2.html.jinja2 HTTP/1.1\" 500 -\n",
      "127.0.0.1 - - [18/Sep/2019 16:56:38] \"GET /test2.html.jinja2 HTTP/1.1\" 200 -\n",
      "127.0.0.1 - - [18/Sep/2019 16:57:03] \"GET /test2.html.jinja2 HTTP/1.1\" 200 -\n",
      "127.0.0.1 - - [18/Sep/2019 16:57:21] \"GET /test2.html.jinja2 HTTP/1.1\" 200 -\n",
      "127.0.0.1 - - [18/Sep/2019 16:57:38] \"GET /test2.html.jinja2 HTTP/1.1\" 200 -\n",
      "127.0.0.1 - - [18/Sep/2019 16:58:02] \"GET /test2.html.jinja2 HTTP/1.1\" 200 -\n",
      "127.0.0.1 - - [18/Sep/2019 16:59:04] \"GET /test2.html.jinja2 HTTP/1.1\" 200 -\n",
      "127.0.0.1 - - [18/Sep/2019 16:59:23] \"GET /test2.html.jinja2 HTTP/1.1\" 200 -\n",
      "127.0.0.1 - - [18/Sep/2019 16:59:32] \"GET /test2.html.jinja2 HTTP/1.1\" 200 -\n",
      "127.0.0.1 - - [18/Sep/2019 16:59:48] \"GET /test2.html.jinja2 HTTP/1.1\" 200 -\n",
      "127.0.0.1 - - [18/Sep/2019 16:59:58] \"GET /test2.html.jinja2 HTTP/1.1\" 200 -\n",
      "127.0.0.1 - - [18/Sep/2019 17:01:04] \"GET /test2.html.jinja2 HTTP/1.1\" 200 -\n",
      "127.0.0.1 - - [18/Sep/2019 17:01:46] \"GET /test2.html.jinja2 HTTP/1.1\" 200 -\n",
      "127.0.0.1 - - [18/Sep/2019 17:01:50] \"GET /test2.html.jinja2 HTTP/1.1\" 200 -\n",
      "127.0.0.1 - - [18/Sep/2019 17:01:59] \"GET /test2.html.jinja2 HTTP/1.1\" 200 -\n",
      "127.0.0.1 - - [18/Sep/2019 17:04:42] \"GET /test2.html.jinja2 HTTP/1.1\" 500 -\n",
      "127.0.0.1 - - [18/Sep/2019 17:04:57] \"GET /test2.html.jinja2 HTTP/1.1\" 200 -\n",
      "127.0.0.1 - - [18/Sep/2019 17:05:28] \"GET /test2.html.jinja2 HTTP/1.1\" 200 -\n",
      "127.0.0.1 - - [18/Sep/2019 17:05:54] \"GET /test2.html.jinja2 HTTP/1.1\" 200 -\n",
      "127.0.0.1 - - [18/Sep/2019 17:07:34] \"GET /test2.html.jinja2 HTTP/1.1\" 200 -\n",
      "127.0.0.1 - - [18/Sep/2019 17:08:20] \"GET /test2.html.jinja2 HTTP/1.1\" 200 -\n",
      "127.0.0.1 - - [18/Sep/2019 17:08:37] \"GET /test2.html.jinja2 HTTP/1.1\" 200 -\n",
      "127.0.0.1 - - [18/Sep/2019 17:09:45] \"GET /test2.html.jinja2 HTTP/1.1\" 200 -\n",
      "127.0.0.1 - - [18/Sep/2019 17:09:54] \"GET /test2.html.jinja2 HTTP/1.1\" 200 -\n",
      "127.0.0.1 - - [18/Sep/2019 17:10:05] \"GET /test2.html.jinja2 HTTP/1.1\" 200 -\n",
      "127.0.0.1 - - [18/Sep/2019 17:10:17] \"GET /test2.html.jinja2 HTTP/1.1\" 200 -\n",
      "127.0.0.1 - - [18/Sep/2019 17:10:29] \"GET /test2.html.jinja2 HTTP/1.1\" 200 -\n",
      "127.0.0.1 - - [18/Sep/2019 17:10:42] \"GET /test2.html.jinja2 HTTP/1.1\" 200 -\n",
      "127.0.0.1 - - [18/Sep/2019 17:11:06] \"GET /test2.html.jinja2 HTTP/1.1\" 200 -\n",
      "127.0.0.1 - - [18/Sep/2019 17:11:34] \"GET /test2.html.jinja2 HTTP/1.1\" 200 -\n",
      "127.0.0.1 - - [18/Sep/2019 17:14:03] \"GET /test2.html.jinja2 HTTP/1.1\" 200 -\n",
      "127.0.0.1 - - [18/Sep/2019 17:14:37] \"GET /test2.html.jinja2 HTTP/1.1\" 200 -\n",
      "127.0.0.1 - - [18/Sep/2019 17:15:00] \"GET /test2.html.jinja2 HTTP/1.1\" 200 -\n",
      "127.0.0.1 - - [18/Sep/2019 17:15:22] \"GET /test2.html.jinja2 HTTP/1.1\" 200 -\n",
      "127.0.0.1 - - [18/Sep/2019 17:24:27] \"GET /test2.html.jinja2 HTTP/1.1\" 200 -\n",
      "127.0.0.1 - - [18/Sep/2019 17:26:56] \"GET /test2.html.jinja2 HTTP/1.1\" 200 -\n",
      "127.0.0.1 - - [18/Sep/2019 17:27:17] \"GET /test2.html.jinja2 HTTP/1.1\" 200 -\n",
      "127.0.0.1 - - [18/Sep/2019 17:28:55] \"GET /test2.html.jinja2 HTTP/1.1\" 200 -\n",
      "127.0.0.1 - - [18/Sep/2019 17:30:15] \"GET /test2.html.jinja2 HTTP/1.1\" 200 -\n",
      "127.0.0.1 - - [18/Sep/2019 17:32:02] \"GET /test2.html.jinja2 HTTP/1.1\" 200 -\n",
      "127.0.0.1 - - [18/Sep/2019 17:32:31] \"GET /test2.html.jinja2 HTTP/1.1\" 200 -\n",
      "127.0.0.1 - - [18/Sep/2019 17:33:51] \"GET /test2.html.jinja2 HTTP/1.1\" 200 -\n",
      "127.0.0.1 - - [18/Sep/2019 17:36:12] \"GET /test2.html.jinja2 HTTP/1.1\" 200 -\n",
      "127.0.0.1 - - [18/Sep/2019 17:36:19] \"GET /test2.html.jinja2 HTTP/1.1\" 200 -\n",
      "127.0.0.1 - - [18/Sep/2019 17:37:21] \"GET /test2.html.jinja2 HTTP/1.1\" 200 -\n",
      "127.0.0.1 - - [18/Sep/2019 17:40:39] \"GET /test2.html.jinja2 HTTP/1.1\" 200 -\n",
      "127.0.0.1 - - [18/Sep/2019 17:40:51] \"GET /test2.html.jinja2 HTTP/1.1\" 200 -\n",
      "127.0.0.1 - - [18/Sep/2019 17:41:46] \"GET /test2.html.jinja2 HTTP/1.1\" 200 -\n",
      "127.0.0.1 - - [18/Sep/2019 17:42:00] \"GET /test2.html.jinja2 HTTP/1.1\" 200 -\n",
      "127.0.0.1 - - [18/Sep/2019 17:42:38] \"GET /test2.html.jinja2 HTTP/1.1\" 200 -\n",
      "127.0.0.1 - - [18/Sep/2019 17:43:00] \"GET /test2.html.jinja2 HTTP/1.1\" 200 -\n",
      "127.0.0.1 - - [18/Sep/2019 17:43:47] \"GET /test2.html.jinja2 HTTP/1.1\" 200 -\n",
      "127.0.0.1 - - [18/Sep/2019 17:44:02] \"GET /test2.html.jinja2 HTTP/1.1\" 200 -\n",
      "127.0.0.1 - - [18/Sep/2019 17:45:55] \"GET /test2.html.jinja2 HTTP/1.1\" 200 -\n",
      "127.0.0.1 - - [18/Sep/2019 17:46:00] \"GET /test2.html.jinja2 HTTP/1.1\" 200 -\n",
      "127.0.0.1 - - [18/Sep/2019 17:46:08] \"GET /test2.html.jinja2 HTTP/1.1\" 200 -\n",
      "127.0.0.1 - - [18/Sep/2019 17:46:40] \"GET /test2.html.jinja2 HTTP/1.1\" 200 -\n",
      "127.0.0.1 - - [18/Sep/2019 17:46:48] \"GET /test2.html.jinja2 HTTP/1.1\" 200 -\n",
      "127.0.0.1 - - [18/Sep/2019 17:47:03] \"GET /test2.html.jinja2 HTTP/1.1\" 200 -\n",
      "127.0.0.1 - - [18/Sep/2019 17:47:19] \"GET /test2.html.jinja2 HTTP/1.1\" 200 -\n",
      "127.0.0.1 - - [18/Sep/2019 17:47:57] \"GET /test2.html.jinja2 HTTP/1.1\" 200 -\n",
      "127.0.0.1 - - [18/Sep/2019 17:48:22] \"GET /test2.html.jinja2 HTTP/1.1\" 200 -\n",
      "127.0.0.1 - - [18/Sep/2019 17:49:19] \"GET /test2.html.jinja2 HTTP/1.1\" 200 -\n",
      "127.0.0.1 - - [18/Sep/2019 17:49:22] \"GET /test2.html.jinja2 HTTP/1.1\" 200 -\n",
      "127.0.0.1 - - [18/Sep/2019 17:49:35] \"GET /test2.html.jinja2 HTTP/1.1\" 200 -\n",
      "127.0.0.1 - - [18/Sep/2019 17:49:40] \"GET /test2.html.jinja2 HTTP/1.1\" 200 -\n",
      "127.0.0.1 - - [18/Sep/2019 17:49:49] \"GET /test2.html.jinja2 HTTP/1.1\" 200 -\n",
      "127.0.0.1 - - [18/Sep/2019 17:49:54] \"GET /test2.html.jinja2 HTTP/1.1\" 200 -\n",
      "127.0.0.1 - - [18/Sep/2019 17:50:17] \"GET /test2.html.jinja2 HTTP/1.1\" 200 -\n",
      "127.0.0.1 - - [18/Sep/2019 17:50:32] \"GET /test2.html.jinja2 HTTP/1.1\" 200 -\n",
      "127.0.0.1 - - [18/Sep/2019 17:50:45] \"GET /test2.html.jinja2 HTTP/1.1\" 200 -\n",
      "127.0.0.1 - - [18/Sep/2019 17:51:00] \"GET /test2.html.jinja2 HTTP/1.1\" 200 -\n",
      "127.0.0.1 - - [18/Sep/2019 17:51:40] \"GET /test2.html.jinja2 HTTP/1.1\" 200 -\n",
      "127.0.0.1 - - [18/Sep/2019 17:52:13] \"GET /test2.html.jinja2 HTTP/1.1\" 200 -\n",
      "127.0.0.1 - - [19/Sep/2019 09:27:30] \"GET /test2.html.jinja2 HTTP/1.1\" 200 -\n",
      "127.0.0.1 - - [19/Sep/2019 09:27:53] \"GET /test2.html.jinja2 HTTP/1.1\" 200 -\n",
      "127.0.0.1 - - [19/Sep/2019 09:28:08] \"GET /test2.html.jinja2 HTTP/1.1\" 200 -\n",
      "127.0.0.1 - - [19/Sep/2019 09:28:30] \"GET /test2.html.jinja2 HTTP/1.1\" 200 -\n",
      "127.0.0.1 - - [19/Sep/2019 09:30:54] \"GET /test2.html.jinja2 HTTP/1.1\" 200 -\n",
      "127.0.0.1 - - [19/Sep/2019 09:32:03] \"GET /test2.html.jinja2 HTTP/1.1\" 200 -\n",
      "127.0.0.1 - - [19/Sep/2019 09:32:42] \"GET /test2.html.jinja2 HTTP/1.1\" 200 -\n",
      "127.0.0.1 - - [19/Sep/2019 09:33:12] \"GET /test2.html.jinja2 HTTP/1.1\" 200 -\n",
      "127.0.0.1 - - [19/Sep/2019 09:33:15] \"GET /test2.html.jinja2 HTTP/1.1\" 200 -\n",
      "127.0.0.1 - - [19/Sep/2019 09:33:25] \"GET /test2.html.jinja2 HTTP/1.1\" 200 -\n"
     ]
    }
   ],
   "source": [
    "sections = [\n",
    "    {\n",
    "        \"Name\": \"install_inspection\",\n",
    "        \"Title\": \"Installation Inspection\",\n",
    "        \"Info\": \"Perform section only if performing as part of installation. Record additional observations in the comments at the end of this document.\",\n",
    "        \"Steps\": [\n",
    "            \"Verify no damage to Housing Crate\",\n",
    "            \"Verify no damage to RTD Probe\",\n",
    "            \"Verify Bottle Tray present and undamaged\",\n",
    "            \"Verify Power Cord present and undamaged\",\n",
    "            \"Verify User Manual present and undamaged\"\n",
    "        ]\n",
    "    },\n",
    "    {\n",
    "        \"Name\": \"accessories\",\n",
    "        \"Title\": \"Accessories\",\n",
    "        \"Info\": \"Identify all accessories stored with the bioreactor. Mark as “Pass” if accessories are stored communally and one per unit is present.\",\n",
    "        \"Steps\": [\n",
    "            \"pH/DO probes stored with solution and caps, if necessary\",\n",
    "            \"Thermowell present\",\n",
    "            \"Shade cloth present\",\n",
    "            \"Dip tube present\",\n",
    "            \"Housing keys present\"\n",
    "        ]\n",
    "    }\n",
    "]\n",
    "# check invariants\n",
    "for section in sections:\n",
    "    pass"
   ]
  },
  {
   "cell_type": "code",
   "execution_count": 40,
   "metadata": {},
   "outputs": [
    {
     "name": "stderr",
     "output_type": "stream",
     "text": [
      "127.0.0.1 - - [19/Sep/2019 09:55:57] \"GET /test2.html.jinja2 HTTP/1.1\" 200 -\n",
      "127.0.0.1 - - [19/Sep/2019 09:59:35] \"GET /test2.html.jinja2 HTTP/1.1\" 200 -\n",
      "127.0.0.1 - - [19/Sep/2019 10:07:50] \"GET /test2.html.jinja2 HTTP/1.1\" 200 -\n",
      "127.0.0.1 - - [19/Sep/2019 10:08:34] \"GET /test2.html.jinja2 HTTP/1.1\" 200 -\n",
      "127.0.0.1 - - [19/Sep/2019 10:09:25] \"GET /test2.html.jinja2 HTTP/1.1\" 200 -\n",
      "127.0.0.1 - - [19/Sep/2019 10:09:52] \"GET /test2.html.jinja2 HTTP/1.1\" 200 -\n",
      "127.0.0.1 - - [19/Sep/2019 10:11:16] \"GET /test2.html.jinja2 HTTP/1.1\" 200 -\n",
      "127.0.0.1 - - [19/Sep/2019 10:11:41] \"GET /test2.html.jinja2 HTTP/1.1\" 200 -\n",
      "127.0.0.1 - - [19/Sep/2019 10:12:33] \"GET /test2.html.jinja2 HTTP/1.1\" 200 -\n",
      "127.0.0.1 - - [19/Sep/2019 10:13:35] \"GET /test2.html.jinja2 HTTP/1.1\" 200 -\n",
      "127.0.0.1 - - [19/Sep/2019 10:15:49] \"GET /test2.html.jinja2 HTTP/1.1\" 200 -\n",
      "127.0.0.1 - - [19/Sep/2019 10:16:19] \"GET /test2.html.jinja2 HTTP/1.1\" 200 -\n"
     ]
    }
   ],
   "source": [
    "def test1_createtemplate(file):\n",
    "    template = templateEnv.get_template(file)\n",
    "    return template.render(simpleqs=qs, section=1)\n",
    "\n",
    "def test2_createtemplate(file):\n",
    "    template = templateEnv.get_template(file)\n",
    "    txt = template.render(sections=sections, section=1)\n",
    "    with open(\"last.html\", 'w') as f:\n",
    "        f.write(txt)\n",
    "    return txt\n",
    "\n",
    "TEMPLATE_FILES = {\n",
    "    \"test.html.jinja2\": test1_createtemplate,\n",
    "    \"test2.html.jinja2\": test2_createtemplate\n",
    "}"
   ]
  },
  {
   "cell_type": "code",
   "execution_count": 31,
   "metadata": {},
   "outputs": [],
   "source": [
    "from http.server import SimpleHTTPRequestHandler, HTTPServer\n",
    "from urllib.parse import urlparse"
   ]
  },
  {
   "cell_type": "code",
   "execution_count": 32,
   "metadata": {},
   "outputs": [],
   "source": [
    "class MyHandler(SimpleHTTPRequestHandler):\n",
    "    def do_GET(self):\n",
    "        parts = urlparse(self.path)\n",
    "        path = parts.path[1:]\n",
    "        func = TEMPLATE_FILES.get(path, None)\n",
    "        if func:\n",
    "            try:\n",
    "                txt = func(path)\n",
    "            except Exception as e:\n",
    "                txt = \"Error occurred: %s\"%str(e)\n",
    "                self.send_response(500)\n",
    "            else:\n",
    "                self.send_response(200)\n",
    "                self.send_header(\"Content-Type\", \"text/html; charset=utf-8\")\n",
    "            msg = txt.encode(\"utf-8\")    \n",
    "        else:\n",
    "            print(parts)\n",
    "            self.send_response(404)\n",
    "            self.send_header(\"Content-Type\", \"text/plain\")\n",
    "            msg = b\"Error 404: What are you doing???\"\n",
    "        \n",
    "        self.send_header(\"Content-Length\", len(msg))\n",
    "        self.end_headers()\n",
    "        self.wfile.write(msg)\n",
    "        self.wfile.flush()\n",
    "        \n",
    "class MyServer(HTTPServer):\n",
    "    def __init__(self):\n",
    "        super().__init__((\"localhost\", 8021), MyHandler)\n",
    "        \n",
    "import threading\n",
    "class MyServerRunner(threading.Thread):\n",
    "    def __init__(self, server=None):\n",
    "        super().__init__(None)\n",
    "        self.server = server or MyServer()\n",
    "    def run(self):\n",
    "        self.server.serve_forever()\n",
    "    def stop(self):\n",
    "        self.server.shutdown()\n",
    "        self.server.socket.close()\n",
    "        self.join()\n",
    "        "
   ]
  },
  {
   "cell_type": "code",
   "execution_count": 33,
   "metadata": {},
   "outputs": [],
   "source": [
    "def run():\n",
    "    global _THESERVER_\n",
    "    try:\n",
    "        if _THESERVER_.is_alive():\n",
    "            _THESERVER_.stop()\n",
    "    except NameError:\n",
    "        pass\n",
    "    _THESERVER_ = MyServerRunner()\n",
    "    _THESERVER_.start()\n",
    "    \n",
    "def stop():\n",
    "    global _THESERVER_\n",
    "    _THESERVER_.stop()"
   ]
  },
  {
   "cell_type": "code",
   "execution_count": 34,
   "metadata": {},
   "outputs": [
    {
     "name": "stderr",
     "output_type": "stream",
     "text": [
      "127.0.0.1 - - [18/Sep/2019 15:53:04] \"GET /test.html.jinja2 HTTP/1.1\" 200 -\n",
      "127.0.0.1 - - [18/Sep/2019 15:53:11] \"GET /test2.html.jinja2 HTTP/1.1\" 200 -\n",
      "127.0.0.1 - - [18/Sep/2019 15:53:32] \"GET /test2.html.jinja2 HTTP/1.1\" 200 -\n",
      "127.0.0.1 - - [18/Sep/2019 16:07:17] \"GET /test2.html.jinja2 HTTP/1.1\" 200 -\n"
     ]
    }
   ],
   "source": [
    "run()"
   ]
  },
  {
   "cell_type": "code",
   "execution_count": 25,
   "metadata": {},
   "outputs": [],
   "source": [
    "stop()"
   ]
  },
  {
   "cell_type": "code",
   "execution_count": null,
   "metadata": {},
   "outputs": [],
   "source": []
  }
 ],
 "metadata": {
  "kernelspec": {
   "display_name": "Python 3",
   "language": "python",
   "name": "python3"
  },
  "language_info": {
   "codemirror_mode": {
    "name": "ipython",
    "version": 3
   },
   "file_extension": ".py",
   "mimetype": "text/x-python",
   "name": "python",
   "nbconvert_exporter": "python",
   "pygments_lexer": "ipython3",
   "version": "3.5.2"
  }
 },
 "nbformat": 4,
 "nbformat_minor": 2
}
