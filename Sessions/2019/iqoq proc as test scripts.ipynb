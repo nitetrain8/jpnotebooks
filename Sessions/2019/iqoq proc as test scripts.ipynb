{
 "cells": [
  {
   "cell_type": "code",
   "execution_count": 2,
   "metadata": {
    "hideOutput": true
   },
   "outputs": [],
   "source": [
    "class Script():\n",
    "    def __init__(self):\n",
    "        self.title = \"\"\n",
    "        self.objective = \"\"\n",
    "        self.prerequisites = []\n",
    "        self.setup = []\n",
    "        self.acceptance_criteria = []\n",
    "        self.steps = []\n",
    "\n",
    "    @classmethod\n",
    "    def loadjson(cls, j):\n",
    "        self = cls()\n",
    "        self.__dict__.update(j)\n",
    "        return self"
   ]
  },
  {
   "cell_type": "code",
   "execution_count": null,
   "metadata": {},
   "outputs": [],
   "source": [
    "script1 = {\n",
    "    \"title\": \"Power Up Verification\",\n",
    "    \"objective\": \"Verify the bioreactor boots and initializes the Desktop UI correctly.\",\n",
    "    \"prerequisites\": [],\n",
    "    \"setup\": [\n",
    "        \"Fill in IF00127 item IQ.14a in the indicated space in the table below.\",\n",
    "        \"Using the table below, verify the system boots using the correct sequence of events. \"\n",
    "    ]\n",
    "}"
   ]
  }
 ],
 "metadata": {
  "kernelspec": {
   "display_name": "Python 3",
   "language": "python",
   "name": "python3"
  },
  "language_info": {
   "codemirror_mode": {
    "name": "ipython",
    "version": 3
   },
   "file_extension": ".py",
   "mimetype": "text/x-python",
   "name": "python",
   "nbconvert_exporter": "python",
   "pygments_lexer": "ipython3",
   "version": "3.5.2"
  }
 },
 "nbformat": 4,
 "nbformat_minor": 2
}
