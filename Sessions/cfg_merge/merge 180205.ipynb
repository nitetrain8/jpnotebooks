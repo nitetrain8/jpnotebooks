{
 "cells": [
  {
   "cell_type": "code",
   "execution_count": 6,
   "metadata": {},
   "outputs": [
    {
     "name": "stdout",
     "output_type": "stream",
     "text": [
      "The autoreload extension is already loaded. To reload it, use:\n",
      "  %reload_ext autoreload\n"
     ]
    }
   ],
   "source": [
    "%load_ext autoreload\n",
    "%autoreload 2\n",
    "import sys\n",
    "s = \"C:/users/nathan/documents/dropbox/python/jpnotebooks/Sessions/\"\n",
    "if s not in sys.path:\n",
    "    sys.path.append(s)"
   ]
  },
  {
   "cell_type": "code",
   "execution_count": 8,
   "metadata": {},
   "outputs": [],
   "source": [
    "import collections\n",
    "import inspect\n",
    "OD = collections.OrderedDict\n",
    "from cfg_merge.sys_vars import _parse_sysvars\n",
    "\n",
    "class NotFound(KeyError):\n",
    "    \"\"\" Signal that variable was not found in the list.\n",
    "    To be raised by user code as a signal to `compare_lists`. \n",
    "    \"\"\"\n",
    "    pass\n",
    "\n",
    "NotFoundErrors = (NotFound, KeyError, IndexError)\n",
    "\n",
    "def merge_lists(cf, of, nf, getvar, skipvar, vequal, notfound, setvar):\n",
    "    for name in nf:\n",
    "        if skipvar(name):\n",
    "            continue\n",
    "        nv = getvar(nf, name)\n",
    "        try:\n",
    "            cv = getvar(cf, name)\n",
    "            ov = getvar(of, name)\n",
    "        except NotFoundErrors:\n",
    "            v = notfound(name)\n",
    "            if v is None:\n",
    "                v = nv\n",
    "        else:\n",
    "            \n",
    "            if vequal(nv, ov) and vequal(ov, cv):\n",
    "                v = nv\n",
    "            elif not vequal(nv, ov) and vequal(ov, cv):\n",
    "                v = nv                \n",
    "            elif vequal(nv, ov) and not vequal(ov, cv):\n",
    "                # XXX Conflict\n",
    "                v = cv\n",
    "            elif vequal(nv, cv) and not vequal(ov, cv):\n",
    "                v = nv\n",
    "            elif not vequal(nv, cv) and not vequal(cv, ov):\n",
    "                # XXX Conflict\n",
    "                v = cv\n",
    "            else:\n",
    "                # should be unreachable\n",
    "                raise NameError(\"Unreachable code for %r\"%name)\n",
    "        setvar(name, v)\n",
    "        \n",
    "        \n",
    "def merge_sysvars_inner(cf, of, nf, new, user, force, transnew, transold):\n",
    "    \n",
    "    # Callbacks\n",
    "    def getvar(f,name):\n",
    "        if f == nf:\n",
    "            return f[name]\n",
    "        else:\n",
    "            if name in f:\n",
    "                n = name\n",
    "            else:\n",
    "                n = transnew[name]\n",
    "                if n not in f:\n",
    "                    raise KeyError(n)\n",
    "            return f[n]\n",
    "        \n",
    "    def skipvar(n):\n",
    "        # handle force & such here\n",
    "        if n in new:\n",
    "            skip = True \n",
    "        elif n in user:\n",
    "            nf[n].val = getvar(cf, n).val\n",
    "            skip = True\n",
    "        elif n in force:\n",
    "            nf[n].val = force[n]\n",
    "            skip = True\n",
    "        else:\n",
    "            skip = False\n",
    "        return skip\n",
    "        \n",
    "    def vequal(a,b):\n",
    "        return a.val == b.val\n",
    "    def notfound(n):\n",
    "        if n not in nf:\n",
    "            print(\"Old Name: %s\"%n)\n",
    "        return None\n",
    "    \n",
    "    def setvar(name, v):\n",
    "        #\n",
    "        if nf[name].val != v.val:\n",
    "            print(\"Updating %-45s: %.5f -> %.5f\"%(name, nf[name].val, v.val))\n",
    "            nf[name] = v\n",
    "    \n",
    "    return merge_lists(cf, of, nf, getvar, skipvar, vequal, notfound, setvar)\n",
    "    \n",
    "\n"
   ]
  },
  {
   "cell_type": "code",
   "execution_count": 9,
   "metadata": {},
   "outputs": [],
   "source": [
    "_FS = frozenset\n",
    "def merge_sysvars(cff, off, nff, outf=None, new=None, user=None, force=None, tn=None, to=None):\n",
    "    \"\"\"\n",
    "    1. Parse\n",
    "    2. Flatten (\"Group.Varname\" = \"Value\")\n",
    "    3. Merge\n",
    "    4. Output\n",
    "    \"\"\"\n",
    "    def parse_sysvars(ff): \n",
    "        return _parse_sysvars(ff)\n",
    "    \n",
    "    def _flatten(LV):\n",
    "        d = OD()\n",
    "        for g in LV.val:\n",
    "            for v in g.val:\n",
    "                d[g.name+\".\"+v.name] = v\n",
    "        return d\n",
    "            \n",
    "    cLV = _parse_sysvars(cff)\n",
    "    oLV = _parse_sysvars(off)\n",
    "    nLV = _parse_sysvars(nff)\n",
    "    \n",
    "    cf  = _flatten(cLV)\n",
    "    of  = _flatten(oLV)\n",
    "    nf  = _flatten(nLV)\n",
    "    \n",
    "    # unpack args...\n",
    "    new = new or _FS()\n",
    "    user = user or _FS()\n",
    "    force = force or {}\n",
    "    tn = tn or {}\n",
    "    to = to or {}\n",
    "    \n",
    "    merge_sysvars_inner(cf, of, nf, new, user, force, tn, to)\n",
    "\n",
    "    if outf:\n",
    "        with open(outf, 'w') as f:\n",
    "            f.write(nLV.toxml())"
   ]
  },
  {
   "cell_type": "code",
   "execution_count": 10,
   "metadata": {},
   "outputs": [
    {
     "ename": "NameError",
     "evalue": "name 'parse_config' is not defined",
     "output_type": "error",
     "traceback": [
      "\u001b[1;31m---------------------------------------------------------------------------\u001b[0m",
      "\u001b[1;31mNameError\u001b[0m                                 Traceback (most recent call last)",
      "\u001b[1;32m<ipython-input-10-764d2f5e6c21>\u001b[0m in \u001b[0;36m<module>\u001b[1;34m()\u001b[0m\n\u001b[0;32m      6\u001b[0m \u001b[0mnff\u001b[0m \u001b[1;33m=\u001b[0m \u001b[1;34m'D:\\\\auto_hd_install\\\\default configs\\\\IM00226 Rev B\\\\Mag 3\\\\System Variables.sys'\u001b[0m\u001b[1;33m\u001b[0m\u001b[0m\n\u001b[0;32m      7\u001b[0m \u001b[1;33m\u001b[0m\u001b[0m\n\u001b[1;32m----> 8\u001b[1;33m \u001b[0mo\u001b[0m \u001b[1;33m=\u001b[0m \u001b[0mparse_config\u001b[0m\u001b[1;33m(\u001b[0m\u001b[1;34m'test.sysvars.patch'\u001b[0m\u001b[1;33m)\u001b[0m\u001b[1;33m\u001b[0m\u001b[0m\n\u001b[0m\u001b[0;32m      9\u001b[0m \u001b[0mmerge_sysvars\u001b[0m\u001b[1;33m(\u001b[0m\u001b[0mcff\u001b[0m\u001b[1;33m,\u001b[0m \u001b[0moff\u001b[0m\u001b[1;33m,\u001b[0m \u001b[0mnff\u001b[0m\u001b[1;33m,\u001b[0m \u001b[1;34m\"test.xml\"\u001b[0m\u001b[1;33m,\u001b[0m \u001b[0mo\u001b[0m\u001b[1;33m.\u001b[0m\u001b[0muse_new\u001b[0m\u001b[1;33m,\u001b[0m \u001b[0mo\u001b[0m\u001b[1;33m.\u001b[0m\u001b[0muse_user\u001b[0m\u001b[1;33m,\u001b[0m \u001b[0mo\u001b[0m\u001b[1;33m.\u001b[0m\u001b[0mforce\u001b[0m\u001b[1;33m,\u001b[0m \u001b[0mo\u001b[0m\u001b[1;33m.\u001b[0m\u001b[0mtranslate_new\u001b[0m\u001b[1;33m,\u001b[0m \u001b[0mo\u001b[0m\u001b[1;33m.\u001b[0m\u001b[0mtranslate_old\u001b[0m\u001b[1;33m)\u001b[0m\u001b[1;33m\u001b[0m\u001b[0m\n",
      "\u001b[1;31mNameError\u001b[0m: name 'parse_config' is not defined"
     ]
    }
   ],
   "source": [
    "\n",
    "\n",
    "# Example using PBS 3 CDI 3\n",
    "cff = 'D:\\\\Customer_Backups\\\\000311T2902 180102\\\\Rio_Config\\\\System Variables.cfg'\n",
    "off = 'D:\\\\auto_hd_install\\\\default configs\\\\IC3405 Rev C\\\\Mag 3 150727\\\\System Variables.cfg'\n",
    "nff = 'D:\\\\auto_hd_install\\\\default configs\\\\IM00226 Rev B\\\\Mag 3\\\\System Variables.sys'\n",
    "\n",
    "o = parse_config('test.sysvars.patch')\n",
    "merge_sysvars(cff, off, nff, \"test.xml\", o.use_new, o.use_user, o.force, o.translate_new, o.translate_old)"
   ]
  },
  {
   "cell_type": "code",
   "execution_count": 31,
   "metadata": {
    "scrolled": false
   },
   "outputs": [
    {
     "name": "stdout",
     "output_type": "stream",
     "text": [
      "pH A Cal.m                                    <LVType('SGL', 'm', 4.0)>\n",
      "pH A Cal.b                                    <LVType('SGL', 'b', -3.5)>\n",
      "pH A Cal.Ex Temp                              <LVType('SGL', 'Ex Temp', 25.0)>\n",
      "pH B Cal.m                                    <LVType('SGL', 'm', 0.001)>\n",
      "pH B Cal.b                                    <LVType('SGL', 'b', 0.0)>\n",
      "pH B Cal.Ex Temp                              <LVType('SGL', 'Ex Temp', 0.0)>\n",
      "DO A Cal.m                                    <LVType('SGL', 'm', 55.0)>\n",
      "DO A Cal.b                                    <LVType('SGL', 'b', -50.0)>\n",
      "DO B Cal.m                                    <LVType('SGL', 'm', 0.001)>\n",
      "DO B Cal.b                                    <LVType('SGL', 'b', 0.0)>\n",
      "Temperature A Cal.m                           <LVType('SGL', 'm', 1.0)>\n",
      "Temperature A Cal.b                           <LVType('SGL', 'b', 0.0)>\n",
      "Temperature B Cal.m                           <LVType('SGL', 'm', 1e-05)>\n",
      "Temperature B Cal.b                           <LVType('SGL', 'b', 0.0)>\n",
      "Condenser Cal.m                               <LVType('SGL', 'm', 1.0)>\n",
      "Condenser Cal.b                               <LVType('SGL', 'b', 0.0)>\n",
      "Pressure Cal.m                                <LVType('SGL', 'm', 200.0)>\n",
      "Pressure Cal.b                                <LVType('SGL', 'b', 0.0)>\n",
      "Level Cal.m                                   <LVType('SGL', 'm', 6000.0)>\n",
      "Level Cal.b                                   <LVType('SGL', 'b', -5.0)>\n",
      "MFC Air Cal.m                                 <LVType('SGL', 'm', 0.1)>\n",
      "MFC Air Cal.b                                 <LVType('SGL', 'b', 0.0)>\n",
      "MFC CO2 Cal.m                                 <LVType('SGL', 'm', 0.02)>\n",
      "MFC CO2 Cal.b                                 <LVType('SGL', 'b', 0.0)>\n",
      "MFC O2 Cal.m                                  <LVType('SGL', 'm', 0.1)>\n",
      "MFC O2 Cal.b                                  <LVType('SGL', 'b', 0.0)>\n",
      "MFC N2 Cal.m                                  <LVType('SGL', 'm', 0.1)>\n",
      "MFC N2 Cal.b                                  <LVType('SGL', 'b', 0.0)>\n",
      "HarvestDelay(s)                               <LVType('SGL', 'HarvestDelay(s)', 0.0)>\n"
     ]
    }
   ],
   "source": [
    "from scripts.tools.patcher.src.merge import lv_parse\n",
    "nff = 'D:\\\\auto_hd_install\\\\default configs\\\\IM00226 Rev B\\\\Mag 3\\\\Cal factors.cfg'\n",
    "for a, b in lv_parse.flatten(lv_parse.fromfn(nff)).items():\n",
    "    print(\"%-45s %s\"%(a,b))"
   ]
  },
  {
   "cell_type": "code",
   "execution_count": null,
   "metadata": {},
   "outputs": [],
   "source": []
  }
 ],
 "metadata": {
  "kernelspec": {
   "display_name": "Python 3",
   "language": "python",
   "name": "python3"
  },
  "language_info": {
   "codemirror_mode": {
    "name": "ipython",
    "version": 3
   },
   "file_extension": ".py",
   "mimetype": "text/x-python",
   "name": "python",
   "nbconvert_exporter": "python",
   "pygments_lexer": "ipython3",
   "version": "3.5.2"
  }
 },
 "nbformat": 4,
 "nbformat_minor": 2
}
