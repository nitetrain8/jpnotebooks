{
 "cells": [
  {
   "cell_type": "code",
   "execution_count": 32,
   "metadata": {},
   "outputs": [
    {
     "data": {
      "text/plain": [
       "['test.sysvars.patch']"
      ]
     },
     "execution_count": 32,
     "metadata": {},
     "output_type": "execute_result"
    }
   ],
   "source": [
    "import configparser\n",
    "\n",
    "class Options():\n",
    "    def __init__(self):\n",
    "        self.type = None\n",
    "        self.use_new = None\n",
    "        self.use_user = None\n",
    "        self.force = None\n",
    "        self.translate_new = None\n",
    "        self.translate_old = None\n",
    "        \n",
    "def parse_config(fn):\n",
    "    \n",
    "    # optionxform transforms the parsed string\n",
    "    # into the value used internally.\n",
    "    # Setting it to str here forces everything to be\n",
    "    # case sensitive. \n",
    "    \n",
    "    c = configparser.ConfigParser(allow_no_value=True)\n",
    "    c.optionxform = str\n",
    "    \n",
    "    with open(fn, 'r') as f:\n",
    "        c.read_file(f)\n",
    "    \n",
    "    use_new  = set()\n",
    "    use_user = set()\n",
    "    force = {}\n",
    "    translate_new = {}\n",
    "    translate_old = {}\n",
    "\n",
    "    for option in c['New']:\n",
    "        use_new.add(option)\n",
    "    \n",
    "    for option in c['User']:\n",
    "        use_user.add(option)\n",
    "        \n",
    "    for option, value in c['Force'].items():\n",
    "        if value == \"New\":\n",
    "            use_new.add(option)\n",
    "        elif value == \"User\":\n",
    "            use_user.add(option)\n",
    "        else:\n",
    "            force[option] = value\n",
    "    \n",
    "    for oldname, newname in c['Translate'].items():\n",
    "        if oldname == \"Depreciated\" or newname == \"New Var\":\n",
    "            continue\n",
    "        translate_new[newname] = oldname\n",
    "        translate_old[oldname] = newname\n",
    "            \n",
    "    ftype = c['General']['Type']\n",
    "    \n",
    "    o = Options()\n",
    "    o.type = ftype\n",
    "    o.use_new = use_new \n",
    "    o.use_user = use_user\n",
    "    o.force = force\n",
    "    o.translate_new = translate_new\n",
    "    o.translate_old = translate_old\n",
    "    \n",
    "    return o"
   ]
  },
  {
   "cell_type": "code",
   "execution_count": 58,
   "metadata": {},
   "outputs": [],
   "source": [
    "%load_ext autoreload\n",
    "%autoreload 2"
   ]
  },
  {
   "cell_type": "code",
   "execution_count": 57,
   "metadata": {},
   "outputs": [],
   "source": [
    "import sys\n",
    "s = \"C:/users/nathan/documents/dropbox/python/jpnotebooks/Sessions/cfg_merge\"\n",
    "if s not in sys.path:\n",
    "    sys.path.append(s)"
   ]
  },
  {
   "cell_type": "code",
   "execution_count": null,
   "metadata": {},
   "outputs": [],
   "source": [
    "from patcher import parse_config\n",
    "o = parse_config.parse_config(\"test.sysvars.patch\")\n"
   ]
  }
 ],
 "metadata": {
  "kernelspec": {
   "display_name": "Python 3",
   "language": "python",
   "name": "python3"
  },
  "language_info": {
   "codemirror_mode": {
    "name": "ipython",
    "version": 3
   },
   "file_extension": ".py",
   "mimetype": "text/x-python",
   "name": "python",
   "nbconvert_exporter": "python",
   "pygments_lexer": "ipython3",
   "version": "3.5.2"
  }
 },
 "nbformat": 4,
 "nbformat_minor": 2
}
