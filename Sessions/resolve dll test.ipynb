{
 "cells": [
  {
   "cell_type": "code",
   "execution_count": null,
   "metadata": {},
   "outputs": [],
   "source": [
    "import os\n",
    "os.chdir(\"C:\\\\Users\\\\Nathan\\\\Documents\\\\Visual Studio 2017\\\\Projects\\\\send_input\\\\x64\\\\Release\")"
   ]
  },
  {
   "cell_type": "code",
   "execution_count": null,
   "metadata": {},
   "outputs": [],
   "source": [
    "import ctypes\n",
    "pbsdll = ctypes.cdll.LoadLibrary(\"pbsinstaller.dll\")\n",
    "_resolve = pbsdll.resolve\n",
    "_resolve.argtypes = [ctypes.c_char_p, ctypes.c_char_p]\n",
    "_resolve.restype = ctypes.c_int\n",
    "\n",
    "def unload():\n",
    "    libHandle = pbsdll._handle\n",
    "    del pbsdll\n",
    "    ctypes.windll.kernel32.FreeLibrary(libHandle)"
   ]
  },
  {
   "cell_type": "code",
   "execution_count": null,
   "metadata": {},
   "outputs": [],
   "source": [
    "def resolve(filename):\n",
    "    \"\"\" Resolve the given filename to its shortcut target. \n",
    "    Filename is encoded as utf8, as the underlying function uses\n",
    "    IShellLinkW, but must be converted to encoded bytes. \n",
    "    \n",
    "    Note that filenames for shortcuts MUST end in '.lnk'!\n",
    "    Otherwise, shortcut will not be found. This is added \n",
    "    automatically by the function. \n",
    "    \"\"\"\n",
    "    if not isinstance(filename, bytes):\n",
    "        filename = filename.encode(\"utf-8\")\n",
    "    if not filename.endswith(b\".lnk\"): \n",
    "        filename += b\".lnk\"\n",
    "    name = ctypes.create_string_buffer(255)\n",
    "    res = _resolve(filename, name)\n",
    "    if res != 0:\n",
    "        raise ctypes.WinError(ctypes.get_last_error())\n",
    "    return name.value.decode('ascii')"
   ]
  },
  {
   "cell_type": "code",
   "execution_count": null,
   "metadata": {},
   "outputs": [],
   "source": [
    "resolve(\"pycom.py\")"
   ]
  },
  {
   "cell_type": "code",
   "execution_count": null,
   "metadata": {},
   "outputs": [],
   "source": [
    "unload()"
   ]
  },
  {
   "cell_type": "code",
   "execution_count": null,
   "metadata": {},
   "outputs": [],
   "source": []
  }
 ],
 "metadata": {
  "kernelspec": {
   "display_name": "Python 3",
   "language": "python",
   "name": "python3"
  },
  "language_info": {
   "codemirror_mode": {
    "name": "ipython",
    "version": 3
   },
   "file_extension": ".py",
   "mimetype": "text/x-python",
   "name": "python",
   "nbconvert_exporter": "python",
   "pygments_lexer": "ipython3",
   "version": "3.5.2"
  }
 },
 "nbformat": 4,
 "nbformat_minor": 2
}
