{
 "cells": [
  {
   "cell_type": "code",
   "execution_count": 53,
   "metadata": {},
   "outputs": [],
   "source": [
    "import helix_client\n",
    "import importlib\n",
    "import zipfile, os\n",
    "\n",
    "# helix client uses the builtin urllib3, but this ensures the warning is disabled if that is ever fixed\n",
    "helix_client.rest.urllib3.disable_warnings(helix_client.rest.urllib3.exceptions.InsecureRequestWarning)"
   ]
  },
  {
   "cell_type": "code",
   "execution_count": 54,
   "metadata": {},
   "outputs": [],
   "source": [
    "# site_packages = \"C:\\\\Program Files\\\\Python35\\\\Lib\\\\site-packages\\\\\"\n",
    "# out = site_packages+\"helix-api\"\n",
    "# egg = site_packages + \"helix_api-1.0.0-py3.5.egg\"\n",
    "\n",
    "# z = zipfile.ZipFile(egg, 'r')\n",
    "# os.makedirs(out, exist_ok=True)\n",
    "# z.extractall(out)"
   ]
  },
  {
   "cell_type": "code",
   "execution_count": 172,
   "metadata": {},
   "outputs": [
    {
     "name": "stdout",
     "output_type": "stream",
     "text": [
      "thebody\n",
      "None\n",
      "thebody\n",
      "None\n"
     ]
    }
   ],
   "source": [
    "helix_client = importlib.reload(helix_client)\n",
    "api_key = \"8fbf73e9a9200034f8b5408221844f9353259377b6718f2ba17ef63ce700feb7:0d6df7a3e7e010e354dedcdf08e88dffc70a32c4fadfb95624a810ae58209f8d\"\n",
    "\n",
    "# double reload to ensure that the reload for recursive imports is done correctly\n",
    "\n",
    "helix_client = importlib.reload(helix_client)\n",
    "helix_client.rest = importlib.reload(helix_client.rest)\n",
    "helix_client.api_client = importlib.reload(helix_client.api_client)\n",
    "helix_client.api.projects_api = importlib.reload(helix_client.api.projects_api)\n",
    "helix_client.api = importlib.reload(helix_client.api)\n",
    "\n",
    "helix_client = importlib.reload(helix_client)\n",
    "\n",
    "\n",
    "config = helix_client.Configuration()\n",
    "config.host = \"https://tryhelixalm.perforce.com:8443/helix-alm/api/v0\"\n",
    "config.username = \"ccalayan@pbsbiotech.com\"\n",
    "config.password = \"KzQQcUK0\"\n",
    "config.api_key['Authorization'] = api_key\n",
    "config.verify_ssl = False\n",
    "base_client = helix_client.ApiClient(config)\n",
    "papi = helix_client.ProjectsApi(base_client)\n",
    "\n",
    "rapi = helix_client.RequirementsApi(base_client)\n",
    "prj = papi.get_project_list()\n",
    "rapi = helix_client.RequirementsApi(base_client)\n",
    "\n",
    "pid = None\n",
    "for proj in prj.projects:\n",
    "    if proj.name == 'Life Sciences 643PBSBiotech':\n",
    "        pid = proj.id\n",
    "if pid is None:\n",
    "    raise ValueError(\"failed to find project\")\n",
    "    \n",
    "sapi = helix_client.SecurityApi(base_client)\n",
    "token = sapi.get_access_token(pid)\n",
    "config.api_key['Authorization'] = token.access_token\n",
    "config.api_key_prefix['Authorization'] = token.token_type"
   ]
  },
  {
   "cell_type": "code",
   "execution_count": 220,
   "metadata": {},
   "outputs": [
    {
     "data": {
      "text/plain": [
       "{'Search': {'RQTP': [12]}, 'page': 1, 'per_page': 20}"
      ]
     },
     "execution_count": 220,
     "metadata": {},
     "output_type": "execute_result"
    }
   ],
   "source": [
    "base_client.sanitize_for_serialization(filt)"
   ]
  },
  {
   "cell_type": "code",
   "execution_count": 208,
   "metadata": {},
   "outputs": [],
   "source": [
    "rapi.get_requirements_by_post_with_http_info??"
   ]
  },
  {
   "cell_type": "code",
   "execution_count": 205,
   "metadata": {},
   "outputs": [],
   "source": [
    "for r in reqs.requirements:\n",
    "    pass"
   ]
  },
  {
   "cell_type": "code",
   "execution_count": null,
   "metadata": {},
   "outputs": [],
   "source": [
    "papi.get_project_list?"
   ]
  },
  {
   "cell_type": "code",
   "execution_count": null,
   "metadata": {},
   "outputs": [],
   "source": [
    "thread = papi.get_project_list(async_req=True)\n",
    "res = thread.get()"
   ]
  },
  {
   "cell_type": "code",
   "execution_count": null,
   "metadata": {},
   "outputs": [],
   "source": [
    "rapi.get_requirements?"
   ]
  },
  {
   "cell_type": "code",
   "execution_count": null,
   "metadata": {},
   "outputs": [],
   "source": [
    "helix_client.ApiClient?"
   ]
  },
  {
   "cell_type": "code",
   "execution_count": null,
   "metadata": {},
   "outputs": [],
   "source": [
    "config.host"
   ]
  }
 ],
 "metadata": {
  "kernelspec": {
   "display_name": "Python 3",
   "language": "python",
   "name": "python3"
  },
  "language_info": {
   "codemirror_mode": {
    "name": "ipython",
    "version": 3
   },
   "file_extension": ".py",
   "mimetype": "text/x-python",
   "name": "python",
   "nbconvert_exporter": "python",
   "pygments_lexer": "ipython3",
   "version": "3.5.2"
  }
 },
 "nbformat": 4,
 "nbformat_minor": 2
}
