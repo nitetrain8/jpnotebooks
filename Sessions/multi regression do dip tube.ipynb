{
 "cells": [
  {
   "cell_type": "code",
   "execution_count": 7,
   "metadata": {},
   "outputs": [],
   "source": [
    "from officelib.xllib import *\n",
    "xl = Excel()\n",
    "wb = xl.RecentFiles(3).Open()\n",
    "ws = wb.Worksheets(1)\n",
    "cells = ws.Cells\n",
    "cr = cells.Range"
   ]
  },
  {
   "cell_type": "code",
   "execution_count": 19,
   "metadata": {
    "collapsed": true
   },
   "outputs": [],
   "source": [
    "from officelib.const import xlconst as xlc"
   ]
  },
  {
   "cell_type": "code",
   "execution_count": 6,
   "metadata": {
    "collapsed": true
   },
   "outputs": [],
   "source": [
    "c1 = cr(\"Q5\")\n",
    "mgc = cr(\"Q4\")\n",
    "o2c = cr(\"P5\")\n",
    "c2 = cr(\"P19\")\n",
    "\n",
    "def xlr(i):\n",
    "    return range(1, i+1)\n",
    "\n",
    "for c in xlr(5):\n",
    "    for r in xlr(5):\n",
    "        cv = c1.Offset(r,c)\n",
    "        mg = mgc.Offset(1,c).Value\n",
    "        o2 = o2c.Offset(r,1).Value\n",
    "        cr(c2, c2.Offset(1,3)).Value = [(mg, o2, cv.Value)]\n",
    "        c2 =c2.Offset(2,1)"
   ]
  },
  {
   "cell_type": "code",
   "execution_count": 33,
   "metadata": {
    "collapsed": true
   },
   "outputs": [],
   "source": [
    "import contextlib\n",
    "\n",
    "@contextlib.contextmanager\n",
    "def highlight(*cells):\n",
    "    for c in cells:\n",
    "        c.Interior.Color = 65535\n",
    "        c.Interior.Pattern = xlc.xlSolid\n",
    "    try:\n",
    "        yield\n",
    "    finally:\n",
    "        for c in cells:\n",
    "            c.Interior.Pattern = xlc.xlNone"
   ]
  },
  {
   "cell_type": "code",
   "execution_count": 34,
   "metadata": {},
   "outputs": [],
   "source": [
    "from time import sleep\n",
    "# Matrix multiplication\n",
    "m1r, m1c = (5,6)\n",
    "m2r, m2c = (6,5)\n",
    "m1a = \"Z13\"\n",
    "m2a = \"AG13\"\n",
    "m3a = \"Z22\"\n",
    "\n",
    "def cd(j):\n",
    "    c1 = cr(m2a).Offset(1,j)\n",
    "    return cr(c1, c1.Offset(m2r))\n",
    "\n",
    "for r in xlr(m1r):\n",
    "    m1cl = cr(m1a).Offset(r,1)\n",
    "    m1rv = cr(m1cl, m1cl.Offset(1, m1c))\n",
    "    for c in xlr(m2c):\n",
    "        m2cv = cd(c)\n",
    "        assert len(list(m1rv)) == len(list(m2cv)), (m1rv.Address, m2rv.Address)\n",
    "        \n",
    "        parts = []\n",
    "        dstc = cr(m3a).Offset(r,c)\n",
    "        with highlight(dstc):\n",
    "            for a,b in zip(m1rv, m2cv):\n",
    "                with highlight(a,b):\n",
    "                    parts.append(\"%s*%s\"%(a.Address, b.Address))\n",
    "                    sleep(0.1)\n",
    "            dstc.Value = \"=\" + \"+\".join(parts)\n",
    "        \n",
    "    \n",
    "    "
   ]
  },
  {
   "cell_type": "code",
   "execution_count": 35,
   "metadata": {
    "collapsed": true
   },
   "outputs": [],
   "source": [
    "import numpy as np"
   ]
  },
  {
   "cell_type": "code",
   "execution_count": 36,
   "metadata": {
    "collapsed": true
   },
   "outputs": [],
   "source": [
    "np.matrix?"
   ]
  },
  {
   "cell_type": "code",
   "execution_count": 37,
   "metadata": {
    "collapsed": true
   },
   "outputs": [],
   "source": [
    "m = np.matrix(xl.Selection.Value)"
   ]
  },
  {
   "cell_type": "code",
   "execution_count": 53,
   "metadata": {},
   "outputs": [],
   "source": [
    "p = m*m.T"
   ]
  },
  {
   "cell_type": "code",
   "execution_count": 56,
   "metadata": {},
   "outputs": [
    {
     "data": {
      "text/plain": [
       "matrix([[  302.71236708,  -253.09000933,  -396.41927531,   288.52017766,\n",
       "            60.45445471],\n",
       "        [ -253.09000933,   644.78329957,  -451.68794959,   -12.54094692,\n",
       "            72.22754699],\n",
       "        [ -396.41927531,  -451.68794959,  2597.97748897, -2069.77132221,\n",
       "           322.07360235],\n",
       "        [  288.52017766,   -12.54094692, -2069.77132221,  2905.60954914,\n",
       "         -1118.14570061],\n",
       "        [   60.45445471,    72.22754699,   322.07360235, -1118.14570061,\n",
       "           666.57174431]])"
      ]
     },
     "execution_count": 56,
     "metadata": {},
     "output_type": "execute_result"
    }
   ],
   "source": [
    "np.linalg.inv(p)"
   ]
  },
  {
   "cell_type": "code",
   "execution_count": 57,
   "metadata": {},
   "outputs": [
    {
     "data": {
      "text/plain": [
       "matrix([[  265.15437713,  -248.37203191,  -331.80224108,   281.56311561,\n",
       "            31.97822366],\n",
       "        [ -248.37203191,   644.19063444,  -459.80504289,   -11.66701139,\n",
       "            75.80468771],\n",
       "        [ -331.80224108,  -459.80504289,  2486.80644075, -2057.80197248,\n",
       "           371.06583006],\n",
       "        [  281.56311561,   -11.66701139, -2057.80197249,  2904.32085631,\n",
       "         -1123.42050117],\n",
       "        [   31.97822366,    75.80468771,   371.06583006, -1123.42050117,\n",
       "           644.98124557]])"
      ]
     },
     "execution_count": 57,
     "metadata": {},
     "output_type": "execute_result"
    }
   ],
   "source": [
    "_m = np.matrix(xl.Selection.Value)\n",
    "np.linalg.inv(_m*_m.T)"
   ]
  },
  {
   "cell_type": "code",
   "execution_count": 112,
   "metadata": {},
   "outputs": [],
   "source": [
    "x = np.array(xl.Selection.Value).T"
   ]
  },
  {
   "cell_type": "code",
   "execution_count": 108,
   "metadata": {
    "collapsed": true
   },
   "outputs": [],
   "source": [
    "y = np.array([v[0] for v in xl.Selection.Value])"
   ]
  },
  {
   "cell_type": "code",
   "execution_count": 113,
   "metadata": {},
   "outputs": [
    {
     "data": {
      "text/plain": [
       "array([  4.00000000e-01,   2.00000000e-01,   9.80000000e-01,\n",
       "        -3.77570476e-17])"
      ]
     },
     "execution_count": 113,
     "metadata": {},
     "output_type": "execute_result"
    }
   ],
   "source": [
    "n = x.shape[0]\n",
    "X = np.vstack(list(itertools.chain([np.ones(30)], x))).T\n",
    "np.linalg.lstsq(X, y)[0]"
   ]
  },
  {
   "cell_type": "code",
   "execution_count": 76,
   "metadata": {},
   "outputs": [],
   "source": [
    "IdentityMatrix = np.zeros((30,30))\n",
    "np.fill_diagonal(IdentityMatrix, 1)"
   ]
  },
  {
   "cell_type": "code",
   "execution_count": 83,
   "metadata": {},
   "outputs": [
    {
     "ename": "ValueError",
     "evalue": "operands could not be broadcast together with shapes (3,3) (30,30) ",
     "output_type": "error",
     "traceback": [
      "\u001b[1;31m---------------------------------------------------------------------------\u001b[0m",
      "\u001b[1;31mValueError\u001b[0m                                Traceback (most recent call last)",
      "\u001b[1;32m<ipython-input-83-915636837a6e>\u001b[0m in \u001b[0;36m<module>\u001b[1;34m()\u001b[0m\n\u001b[0;32m      3\u001b[0m \u001b[0mxtdx\u001b[0m \u001b[1;33m=\u001b[0m \u001b[0mX\u001b[0m\u001b[1;33m.\u001b[0m\u001b[0mT\u001b[0m\u001b[1;33m.\u001b[0m\u001b[0mdot\u001b[0m\u001b[1;33m(\u001b[0m\u001b[0mX\u001b[0m\u001b[1;33m)\u001b[0m\u001b[1;33m\u001b[0m\u001b[0m\n\u001b[0;32m      4\u001b[0m \u001b[0mxtdy\u001b[0m \u001b[1;33m=\u001b[0m \u001b[0mX\u001b[0m\u001b[1;33m.\u001b[0m\u001b[0mT\u001b[0m\u001b[1;33m.\u001b[0m\u001b[0mdot\u001b[0m\u001b[1;33m(\u001b[0m\u001b[0my\u001b[0m\u001b[1;33m)\u001b[0m\u001b[1;33m\u001b[0m\u001b[0m\n\u001b[1;32m----> 5\u001b[1;33m \u001b[0mth\u001b[0m \u001b[1;33m=\u001b[0m \u001b[0mnp\u001b[0m\u001b[1;33m.\u001b[0m\u001b[0mlinalg\u001b[0m\u001b[1;33m.\u001b[0m\u001b[0mlstsq\u001b[0m\u001b[1;33m(\u001b[0m\u001b[0mxtdx\u001b[0m \u001b[1;33m+\u001b[0m \u001b[0mlamb\u001b[0m \u001b[1;33m*\u001b[0m \u001b[0mIdentityMatrix\u001b[0m\u001b[1;33m,\u001b[0m \u001b[0mxtdy\u001b[0m\u001b[1;33m)\u001b[0m\u001b[1;33m[\u001b[0m\u001b[1;36m0\u001b[0m\u001b[1;33m]\u001b[0m\u001b[1;33m\u001b[0m\u001b[0m\n\u001b[0m",
      "\u001b[1;31mValueError\u001b[0m: operands could not be broadcast together with shapes (3,3) (30,30) "
     ]
    }
   ],
   "source": [
    "lamb = 1\n",
    "X = x\n",
    "xtdx = X.T.dot(X)\n",
    "xtdy = X.T.dot(y)\n",
    "th = np.linalg.lstsq(xtdx + lamb * IdentityMatrix, xtdy)[0]  "
   ]
  },
  {
   "cell_type": "code",
   "execution_count": null,
   "metadata": {
    "collapsed": true
   },
   "outputs": [],
   "source": [
    "\n",
    "IdentityMatrix = np.zeros((30,30))\n",
    "np.fill_diagonal(IdentityMatrix, 1)\n",
    "lamb = 1\n",
    "\n",
    "xTx = X.T.dot(X) + lamb * IdentityMatrix\n",
    "XtX = np.linalg.inv(xTx)\n",
    "XtX_xT = XtX.dot(X.T)\n",
    "theta = XtX_xT.dot(y)"
   ]
  },
  {
   "cell_type": "code",
   "execution_count": null,
   "metadata": {
    "collapsed": true
   },
   "outputs": [],
   "source": []
  }
 ],
 "metadata": {
  "kernelspec": {
   "display_name": "Python 3",
   "language": "python",
   "name": "python3"
  },
  "language_info": {
   "codemirror_mode": {
    "name": "ipython",
    "version": 3
   },
   "file_extension": ".py",
   "mimetype": "text/x-python",
   "name": "python",
   "nbconvert_exporter": "python",
   "pygments_lexer": "ipython3",
   "version": "3.5.2"
  }
 },
 "nbformat": 4,
 "nbformat_minor": 2
}
