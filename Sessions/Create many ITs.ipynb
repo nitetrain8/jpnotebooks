{
 "cells": [
  {
   "cell_type": "code",
   "execution_count": 6,
   "metadata": {},
   "outputs": [],
   "source": [
    "import os\n",
    "from officelib.wordlib import *\n",
    "wdc = c"
   ]
  },
  {
   "cell_type": "code",
   "execution_count": 49,
   "metadata": {},
   "outputs": [],
   "source": [
    "its = [\n",
    "    (128, \"Loop Calibrator, 4-20mA\"),\n",
    "    (129, \"HiPot Checker\"),\n",
    "    (130, \"HiPot Tester\"),\n",
    "    (131, \"Multimeter\"),\n",
    "    (132, \"Ruler, 12in\"),\n",
    "    (133, \"Graduated Cylinder, 1L\"),\n",
    "    (134, \"Scale, 30kg\"),\n",
    "    (135, \"Pressure Gauge, 200psig\"),\n",
    "    (136, \"Mass Flow Meter, 0.5 LPM\"),\n",
    "    (137, \"Mass Flow Meter, 5.0 LPM\"),\n",
    "    (138, \"Mass Flow Meter, 20 LPM\"),\n",
    "    (139, \"Manometer, 1psig\"),\n",
    "    (140, \"PBS 3 MAG Vessel, Standard\"),\n",
    "    (141, \"PBS 3 AIR Vessel, Standard\"),\n",
    "    (142, \"PBS 15 MAG Vessel, Standard\"),\n",
    "    (143, \"PBS 15 AIR Vessel, Standard\"),\n",
    "    (144, \"PBS 80 MAG Vessel, Standard\"),\n",
    "    (145, \"PBS 80 AIR Vessel, Standard\"),\n",
    "]\n",
    "\n",
    "itdir = 'C:\\\\Users\\\\Nathan\\\\Documents\\\\PBS\\\\WIP procedures-reports\\\\Functional Testing\\\\ITs'\n",
    "reference = \"IT00127 Rev A - pH DO Simulator.docx\"\n",
    "rfp = os.path.join(itdir, reference)\n",
    "os.makedirs(os.path.join(itdir, \"gen\"), exist_ok=True)"
   ]
  },
  {
   "cell_type": "code",
   "execution_count": 72,
   "metadata": {},
   "outputs": [],
   "source": [
    "w = Word()\n",
    "with screen_lock(w):\n",
    "    for n, name in its:\n",
    "        it = \"IT00%d\"%n\n",
    "        title = \"%s Rev A - %s\" % (it, name)\n",
    "        fp = os.path.join(itdir, \"gen\", title + \".docx\")\n",
    "\n",
    "        d = w.Documents.Open(rfp)\n",
    "        d.SaveAs(fp)\n",
    "\n",
    "        fds = d.Sections(1).Headers(wdc.wdHeaderFooterPrimary).Range.Fields\n",
    "        f1 = fds(1)\n",
    "        f1.Update()\n",
    "        f1.Result.Text = f1.Result.Text.replace('.docx', \"\")\n",
    "\n",
    "        r = d.Tables(1).Rows(7).Cells(1).Range\n",
    "        r.MoveStart(wdc.wdCharacter, 6)\n",
    "        r.MoveEnd(wdc.wdCharacter, -1)\n",
    "        r.Text = name\n",
    "\n",
    "        r = d.Tables(1).Rows(1).Cells(2).Range\n",
    "        r.MoveStart(wdc.wdCharacter, 27)\n",
    "        r.MoveEnd(wdc.wdCharacter, -1)\n",
    "        r.Text = it\n",
    "        \n",
    "        r = d.Tables(1).Rows(8).Cells(1).Range\n",
    "        r.MoveStart(wdc.wdCharacter, 35)\n",
    "        r.MoveEnd(wdc.wdCharacter, -90)\n",
    "        r.Text = \"\"\n",
    "\n",
    "        d.Save()\n",
    "        d.Close()"
   ]
  },
  {
   "cell_type": "code",
   "execution_count": 53,
   "metadata": {},
   "outputs": [],
   "source": [
    "w = Word()\n",
    "d = w.Documents.Open(rfp)"
   ]
  },
  {
   "cell_type": "code",
   "execution_count": 56,
   "metadata": {},
   "outputs": [],
   "source": [
    "r = d.Tables(1).Rows(8).Cells(1).Range\n",
    "r.End = r.Start"
   ]
  },
  {
   "cell_type": "code",
   "execution_count": 41,
   "metadata": {},
   "outputs": [],
   "source": [
    "fds = d.Sections(1).Headers(wdc.wdHeaderFooterPrimary).Range.Fields\n",
    "f1 = fds(1)\n",
    "f1.Update()\n",
    "f1.Result.Text = f1.Result.Text.replace('.docx', \"\")\n",
    "\n",
    "r = d.Tables(1).Rows(7).Cells(1).Range\n",
    "r.MoveStart(wdc.wdCharacter, 6)\n",
    "r.MoveEnd(wdc.wdCharacter, -1)\n",
    "r.Text = \"Test\"\n",
    "\n",
    "r = d.Tables(1).Rows(1).Cells(2).Range\n",
    "r.MoveStart(wdc.wdCharacter, 27)\n",
    "r.MoveEnd(wdc.wdCharacter, -1)\n",
    "r.Text = \"Test2\""
   ]
  },
  {
   "cell_type": "code",
   "execution_count": 30,
   "metadata": {},
   "outputs": [],
   "source": [
    "r.MoveStart?"
   ]
  },
  {
   "cell_type": "code",
   "execution_count": 12,
   "metadata": {},
   "outputs": [],
   "source": [
    "def pmg(o):\n",
    "    for k in sorted(o._prop_map_get_.keys()):\n",
    "        print(k)"
   ]
  },
  {
   "cell_type": "code",
   "execution_count": 18,
   "metadata": {},
   "outputs": [
    {
     "name": "stdout",
     "output_type": "stream",
     "text": [
      "Application\n",
      "Borders\n",
      "BottomPadding\n",
      "Column\n",
      "ColumnIndex\n",
      "Creator\n",
      "FitText\n",
      "Height\n",
      "HeightRule\n",
      "ID\n",
      "LeftPadding\n",
      "NestingLevel\n",
      "Next\n",
      "Parent\n",
      "PreferredWidth\n",
      "PreferredWidthType\n",
      "Previous\n",
      "Range\n",
      "RightPadding\n",
      "Row\n",
      "RowIndex\n",
      "Shading\n",
      "Tables\n",
      "TopPadding\n",
      "VerticalAlignment\n",
      "Width\n",
      "WordWrap\n"
     ]
    }
   ],
   "source": [
    "pmg(d.Tables(1).Rows(7).Cells(1))"
   ]
  },
  {
   "cell_type": "code",
   "execution_count": 20,
   "metadata": {},
   "outputs": [
    {
     "data": {
      "text/plain": [
       "'Title\\rpH / DO Simulator (Broadley-James)\\r\\x07'"
      ]
     },
     "execution_count": 20,
     "metadata": {},
     "output_type": "execute_result"
    }
   ],
   "source": [
    "d.Tables(1).Rows(7).Cells(1).Range.Text"
   ]
  },
  {
   "cell_type": "code",
   "execution_count": null,
   "metadata": {},
   "outputs": [],
   "source": []
  }
 ],
 "metadata": {
  "kernelspec": {
   "display_name": "Python 3",
   "language": "python",
   "name": "python3"
  },
  "language_info": {
   "codemirror_mode": {
    "name": "ipython",
    "version": 3
   },
   "file_extension": ".py",
   "mimetype": "text/x-python",
   "name": "python",
   "nbconvert_exporter": "python",
   "pygments_lexer": "ipython3",
   "version": "3.5.2"
  }
 },
 "nbformat": 4,
 "nbformat_minor": 2
}
