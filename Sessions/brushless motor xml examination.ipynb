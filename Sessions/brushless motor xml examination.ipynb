{
 "cells": [
  {
   "cell_type": "markdown",
   "metadata": {},
   "source": [
    "# Brushless Motor Parameter Investigation"
   ]
  },
  {
   "cell_type": "markdown",
   "metadata": {},
   "source": [
    "Gary wiped the hard drive for IT00074 (Brushless Motor Configuration Tool), including the parameters used to configure the brushless motor. I exported the parameters from an already-configured motor, which should be the parameters which were originally uploaded. I don't know if these parameters are correct, but the file extension (.edc) was correct, so that's something."
   ]
  },
  {
   "cell_type": "code",
   "execution_count": 1,
   "metadata": {
    "collapsed": true
   },
   "outputs": [],
   "source": [
    "import lxml\n",
    "import lxml.etree"
   ]
  },
  {
   "cell_type": "code",
   "execution_count": 52,
   "metadata": {
    "collapsed": true
   },
   "outputs": [],
   "source": [
    "file = 'D:\\\\test.edc'\n",
    "with open(file, 'rb') as f:\n",
    "    tree = lxml.etree.parse(f)"
   ]
  },
  {
   "cell_type": "code",
   "execution_count": 53,
   "metadata": {
    "collapsed": false
   },
   "outputs": [],
   "source": [
    "root = tree.getroot()"
   ]
  },
  {
   "cell_type": "code",
   "execution_count": 59,
   "metadata": {
    "collapsed": false
   },
   "outputs": [],
   "source": [
    "for e in root.xpath(\".//label[not(@lang='en')]\"):\n",
    "    e.getparent().remove(e)"
   ]
  },
  {
   "cell_type": "code",
   "execution_count": 60,
   "metadata": {
    "collapsed": false
   },
   "outputs": [],
   "source": [
    "clipboard.copy(lxml.etree.tostring(root).decode())"
   ]
  },
  {
   "cell_type": "code",
   "execution_count": 61,
   "metadata": {
    "collapsed": false
   },
   "outputs": [
    {
     "data": {
      "text/plain": [
       "330851"
      ]
     },
     "execution_count": 61,
     "metadata": {},
     "output_type": "execute_result"
    }
   ],
   "source": [
    "len(clipboard.paste())"
   ]
  },
  {
   "cell_type": "code",
   "execution_count": 62,
   "metadata": {
    "collapsed": true
   },
   "outputs": [],
   "source": [
    "with open(\"D:\\\\test2.edc\", 'wb') as f:\n",
    "    f.write(lxml.etree.tostring(root, xml_declaration=True))"
   ]
  },
  {
   "cell_type": "code",
   "execution_count": 70,
   "metadata": {
    "collapsed": false
   },
   "outputs": [
    {
     "name": "stdout",
     "output_type": "stream",
     "text": [
      "Warning Mask 0x00000000\n",
      "Automatic Error Reset Mask 0x00000000\n",
      "Electrical Control Loop Resistance 5593\n",
      "Electrical Control Loop Inductance 237\n",
      "Electrical Control Loop Identification Frequency 1 582298\n",
      "Electrical Control Loop Identification Frequency 2 3348214\n",
      "Electrical Control Loop Proportional Gain 5642\n",
      "Electrical Control Loop Integral Action Time 42\n",
      "Electrical Control Loop Feed Forward Gain 1000\n",
      "Mechanical Control Loop Mass Moment of Inertia 297\n",
      "Mechanical Control Loop Motor Torque Constant 8876\n",
      "Mechanical Control Loop Viscous Friction Coefficient 1\n",
      "Mechanical Control Loop Identification Frequency 1 0\n",
      "Mechanical Control Loop Identification Frequency 2 0\n",
      "Mechanical Control Loop Proportional Gain 0\n",
      "Mechanical Control Loop Integral Action Time 0\n",
      "Mechanical Control Loop Feed Forward Gain 0\n",
      "Electromechanical Control Loop Proportional Gain 17954\n",
      "Electromechanical Control Loop Integral Action Time 21973\n",
      "Electromechanical Control Loop Feed Forward Gain 1000\n",
      "Mechanical Control Loop A1 (time constant) 0\n",
      "Mechanical Control Loop B0 low 0\n",
      "Mechanical Control Loop B0 high 0\n",
      "Electromechanical Control Loop A1 (time constant) 27006\n",
      "Electromechanical Control Loop B0 low 140314783\n",
      "Electromechanical Control Loop B0 high 0\n",
      "Electromechanical Control Loop Identification Frequency 1 12092\n",
      "Electromechanical Control Loop Identification Frequency 2 8626\n",
      "Motor Type 0\n",
      "Nominal Current 15000\n",
      "Max. Output Current Limit 30000\n",
      "Number of Pole Pairs 1\n",
      "Max. Permissible Speed 200000\n",
      "Thermal Time Constant Winding 10\n",
      "Terminal Resistance 5593\n",
      "Terminal Inductance 237\n",
      "Speed Constant 10200\n",
      "Rotor Inertia 2970\n",
      "Motor Stop Standstill Current 0\n",
      "Motor Polarity 0\n",
      "Detection of Rotor Position 0\n",
      "Speed Sensor 0\n",
      "Sensor Polarity 0x00\n",
      "Hall Sensor Maximum Error Counts 5\n",
      "Hall Sensor Averaging Period 21\n",
      "Mode of Configuration 0\n",
      "Mode of Operation 2\n",
      "Mode of Controller 3\n",
      "Mode of IxR Compensation 1\n",
      "Speed Ramp Acceleration 10000\n",
      "Speed Ramp Deceleration 10000\n",
      "Speed Ramp Deceleration Stop 100000\n",
      "Minimal Speed 0\n",
      "Digital I/O Configuration 0x00004444\n",
      "Digital Inputs Configuration 0x00000017\n",
      "Digital Inputs Functionalities Execution Mask 0x0001\n",
      "Digital Outputs Configuration 0x00000000\n",
      "Speed Comparator Lower Limit 0\n",
      "Speed Comparator Upper Limit 0\n",
      "Speed Comparator Deviation 0\n",
      "Speed Comparator Configuration 0x00\n",
      "Current Comparator Lower Limit 0\n",
      "DEV_lCurrentComparatorUpperLimit 0\n",
      "DEV_dCurrentComparatorDeviation 0\n",
      "DEV_nuCurrentComparatorConfiguration 0x00\n",
      "Analog Inputs Configuration 0x00000100\n",
      "Analog Inputs Functionalities Execution Mask 0x0002\n",
      "Analog Outputs Configuration 0x00\n",
      "Analog Output 1 Scaling 1000\n",
      "Analog Output 1 Offset 0\n",
      "Analog Output 1 fixed value 0\n",
      "Analog Output 1 First Target 0\n",
      "DRO_lAnalogOutput1FirstSource 0\n",
      "Analog Output 1 Second Target 0\n",
      "DRO_lAnalogOutput1SecondSource 0\n",
      "Analog Output 2 Scaling 1000\n",
      "Analog Output 2 Offset 0\n",
      "Analog Output 2 fixed value 0\n",
      "Analog Output 2 First Target 0\n",
      "DRO_lAnalogOutput2FirstSource 0\n",
      "Analog Output 2 Second Target 0\n",
      "DRO_lAnalogOutput2SecondSource 0\n",
      "Set Value Current Scaling 0\n",
      "Set Value Current Offset 0\n",
      "Set Value Current Fixed Value 1 30000\n",
      "Set Value Current Fixed Value 2 20000\n",
      "Set Value Current First Source 0\n",
      "REG_lSetValueCurrentFirstTarget 3750\n",
      "Set Value Current Second Source 0\n",
      "REG_lSetValueCurrentSecondTarget 3750\n",
      "Set Value Speed Scaling 98750\n",
      "Set Value Speed Offset -8875\n",
      "Set Value Speed Fixed Value 1 0\n",
      "Set Value Speed Fixed Value 2 0\n",
      "Set Value Speed First Source 100\n",
      "REG_lSetValueSpeedFirstTarget 1000\n",
      "Set Value Speed Second Source 900\n",
      "REG_lSetValueSpeedSecondTarget 80000\n",
      "Set Value Offset Adjust Scaling 0\n",
      "Set Value Offset Adjust Offset 0\n",
      "Set Value Offset Adjust Fixed Value 0\n",
      "Set Value Offset Adjust First Source 0\n",
      "REG_lSetValueOffsetAdjustFirstTarget 0\n",
      "Set Value Offset Adjust Second Source 0\n",
      "REG_lSetValueOffsetAdjustSecondTarget 0\n",
      "Speed Ramp Scaling 10000\n",
      "Speed Ramp Offset 0\n",
      "Speed Ramp First Source 0\n",
      "REG_lSpeedRampFirstTarget 0\n",
      "Speed Ramp Second Source 0\n",
      "REG_lSpeedRampSecondTarget 0\n",
      "Current Controller Gain Scaling 924\n",
      "Current Controller Gain Offset 693\n",
      "Speed Controller Gain Scaling 153\n",
      "Speed Controller Gain Offset 115\n",
      "Speed Controller Gain Scaling 10\n",
      "Speed Controller Gain Offset 0\n",
      "IxR Factor Scaling 200\n",
      "IxR Factor Offset 0\n",
      "P Gain 1155\n",
      "Integral Time Constant 42\n",
      "FR Gain 1000\n",
      "P Gain 50\n",
      "Integral Time Constant 219\n",
      "FR Gain 1000\n",
      "Speed Filter Cutoff Frequency 80\n",
      "IxR Factor 481\n",
      "IxR Time Constant 16\n",
      "Current Amplitude of Electrical Identification 7500\n",
      "Stiffness of Electrical Loop 1000\n",
      "Velocity Amplitude of Mechanical Identification 25000\n",
      "Maximum Amplitude of Displacement of Mechanical Identification 0\n",
      "Stiffness of Mechanical Loop 1000\n",
      "Data Recorder Variable 1 Idx 0\n",
      "Data Recorder Variable 2 Idx 0\n",
      "Data Recorder Variable 3 Idx 0\n",
      "Data Recorder Variable 4 Idx 0\n",
      "Data Recorder Sampling Period 10\n",
      "Data Recorder Preceding Samples Ratio 0\n",
      "Recorder Trigger 1 Idx 0\n",
      "Recorder Trigger 1 Mode 0\n",
      "Recorder Trigger 1 High Value 0\n",
      "Recorder Trigger 1 Low Value 0\n",
      "Recorder Trigger 1 Mask 4294967295\n",
      "Recorder Trigger 2 Idx 0\n",
      "Recorder Trigger 2 Mode 0\n",
      "Recorder Trigger 2 High Value 0\n",
      "Recorder Trigger 2 Low Value 0\n",
      "Recorder Trigger 2 Mask 4294967295\n"
     ]
    }
   ],
   "source": [
    "pl = root.find(\".//parameterList\")\n",
    "for param in pl:\n",
    "    name = param.find(\"label\")\n",
    "    if name is None:\n",
    "        name = param.attrib['variableName']\n",
    "    else:\n",
    "        name = name.text\n",
    "    value = param.find(\"actualValue\").text\n",
    "    print(name, value)\n",
    "    "
   ]
  },
  {
   "cell_type": "code",
   "execution_count": null,
   "metadata": {
    "collapsed": true
   },
   "outputs": [],
   "source": []
  }
 ],
 "metadata": {
  "kernelspec": {
   "display_name": "Python 3",
   "language": "python",
   "name": "python3"
  },
  "language_info": {
   "codemirror_mode": {
    "name": "ipython",
    "version": 3
   },
   "file_extension": ".py",
   "mimetype": "text/x-python",
   "name": "python",
   "nbconvert_exporter": "python",
   "pygments_lexer": "ipython3",
   "version": "3.5.2"
  }
 },
 "nbformat": 4,
 "nbformat_minor": 1
}
