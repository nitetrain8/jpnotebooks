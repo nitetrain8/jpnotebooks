{
 "cells": [
  {
   "cell_type": "code",
   "execution_count": 4,
   "metadata": {
    "collapsed": true
   },
   "outputs": [],
   "source": [
    "from officelib.xllib import *\n",
    "from officelib.const import xlconst as xlc\n",
    "xl = Excel()"
   ]
  },
  {
   "cell_type": "code",
   "execution_count": 9,
   "metadata": {
    "collapsed": true
   },
   "outputs": [],
   "source": [
    "wb = xl.Workbooks(\"Stability data 170501.xlsb\")\n",
    "ws = wb.Worksheets(\"Sheet1\")\n",
    "if wb.Worksheets.Count > 2:\n",
    "    ws2 = wb.Worksheets(\"Sheet2\")\n",
    "else:\n",
    "    ws2 = wb.Worksheets.Add()\n",
    "cr = ws.Cells.Range\n",
    "cr2 = ws2.Cells.Range"
   ]
  },
  {
   "cell_type": "code",
   "execution_count": 13,
   "metadata": {
    "collapsed": false
   },
   "outputs": [],
   "source": [
    "ws2.UsedRange.Clear()\n",
    "for c in \"A2\", \"D2\", \"G2\":\n",
    "    tl = cr(c)\n",
    "    br = tl.End(xlc.xlDown).Offset(1,2)\n",
    "    v = cr(tl, br).Value\n",
    "    if len(v) > 32000:\n",
    "        v = v[::2]\n",
    "    tlp = cr2(c)\n",
    "    brp = tlp.Offset(len(v), 2)\n",
    "    cr2(tlp, brp).Value = v"
   ]
  },
  {
   "cell_type": "code",
   "execution_count": null,
   "metadata": {
    "collapsed": true
   },
   "outputs": [],
   "source": []
  }
 ],
 "metadata": {
  "kernelspec": {
   "display_name": "Python 3",
   "language": "python",
   "name": "python3"
  },
  "language_info": {
   "codemirror_mode": {
    "name": "ipython",
    "version": 3
   },
   "file_extension": ".py",
   "mimetype": "text/x-python",
   "name": "python",
   "nbconvert_exporter": "python",
   "pygments_lexer": "ipython3",
   "version": "3.5.2"
  }
 },
 "nbformat": 4,
 "nbformat_minor": 1
}
