{
 "cells": [
  {
   "cell_type": "code",
   "execution_count": 77,
   "metadata": {},
   "outputs": [],
   "source": [
    "import os, clipboard, PIL, os.path, numpy as np\n",
    "from PIL import Image\n",
    "\n",
    "# https://stackoverflow.com/questions/765736/using-pil-to-make-all-white-pixels-transparent\n",
    "\n",
    "def is_white_background(pixel):\n",
    "    return pixel[0] == 255 and pixel[1] == 255 and pixel[2] == 255\n",
    "\n",
    "def convert(img: Image):\n",
    "    img = img.convert(\"RGBA\")\n",
    "    data = img.getdata()\n",
    "    newdata = []\n",
    "    pix1 = data[0]\n",
    "    for item in data:\n",
    "        if is_white_background(item):\n",
    "            newdata.append((255,255,255,0))\n",
    "        else:\n",
    "            newdata.append(item)\n",
    "    img.putdata(newdata)\n",
    "    return img\n",
    "\n",
    "def make_image_transparent(filename: str, suffix: str=\"_transparent\"):\n",
    "    img = PIL.Image.open(filename)\n",
    "    img2 = convert(img)\n",
    "    base, ext = os.path.splitext(filename)\n",
    "    new_file = base + suffix + ext\n",
    "    img2.save(new_file)\n",
    "\n",
    "os.chdir(\"C:/users/nathan/desktop/icons\")\n",
    "for file in os.listdir():\n",
    "    if file.endswith(\".png\") and \"_transparent\" not in file:\n",
    "        make_image_transparent(file)"
   ]
  },
  {
   "cell_type": "code",
   "execution_count": null,
   "metadata": {},
   "outputs": [],
   "source": []
  }
 ],
 "metadata": {
  "kernelspec": {
   "display_name": "Python 3",
   "language": "python",
   "name": "python3"
  },
  "language_info": {
   "codemirror_mode": {
    "name": "ipython",
    "version": 3
   },
   "file_extension": ".py",
   "mimetype": "text/x-python",
   "name": "python",
   "nbconvert_exporter": "python",
   "pygments_lexer": "ipython3",
   "version": "3.5.2"
  }
 },
 "nbformat": 4,
 "nbformat_minor": 2
}
