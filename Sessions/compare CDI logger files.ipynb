{
 "cells": [
  {
   "cell_type": "code",
   "execution_count": 36,
   "metadata": {},
   "outputs": [],
   "source": [
    "import os\n",
    "os.chdir(\"C:\\\\Users\\\\Nathan\\\\Desktop\\\\scp30701\")"
   ]
  },
  {
   "cell_type": "code",
   "execution_count": 65,
   "metadata": {},
   "outputs": [],
   "source": [
    "files = [f for f in os.listdir() if os.path.isfile(f)]\n",
    "def rl(fp):\n",
    "    with open(fp, 'r') as f:\n",
    "        f.readline()\n",
    "        return [l.split(\"\\t\") for l in f.read().splitlines()]\n",
    "lines = [rl(fp) for fp in files]\n",
    "\n",
    "def samevar(lines):\n",
    "    v = lines[0][0]\n",
    "    for l in lines:\n",
    "        assert l[0] == v\n",
    "        \n",
    "def printall(line):\n",
    "    tstr = \" \".join(l[2] for l in line)\n",
    "    print(\"%-30s %s\" % (line[0][0], tstr))\n",
    "        \n",
    "def record(lines):\n",
    "    for line in lines:\n",
    "        if line[2] == 'TRUE':\n",
    "#             print(\"ok\")\n",
    "            printall(lines)\n",
    "            break"
   ]
  },
  {
   "cell_type": "code",
   "execution_count": 75,
   "metadata": {},
   "outputs": [
    {
     "ename": "AssertionError",
     "evalue": "('AgAtLeast1GoodSensor', 'TempARaw(C)')",
     "output_type": "error",
     "traceback": [
      "\u001b[1;31m---------------------------------------------------------------------------\u001b[0m",
      "\u001b[1;31mAssertionError\u001b[0m                            Traceback (most recent call last)",
      "\u001b[1;32m<ipython-input-75-9e788e745bad>\u001b[0m in \u001b[0;36m<module>\u001b[1;34m()\u001b[0m\n\u001b[0;32m      8\u001b[0m \u001b[1;32mfor\u001b[0m \u001b[0mi\u001b[0m\u001b[1;33m,\u001b[0m \u001b[0mflines\u001b[0m \u001b[1;32min\u001b[0m \u001b[0menumerate\u001b[0m\u001b[1;33m(\u001b[0m\u001b[0mzip\u001b[0m\u001b[1;33m(\u001b[0m\u001b[1;33m*\u001b[0m\u001b[0mlines\u001b[0m\u001b[1;33m)\u001b[0m\u001b[1;33m)\u001b[0m\u001b[1;33m:\u001b[0m\u001b[1;33m\u001b[0m\u001b[0m\n\u001b[0;32m      9\u001b[0m     \u001b[1;32massert\u001b[0m \u001b[0mall\u001b[0m\u001b[1;33m(\u001b[0m\u001b[0mflines\u001b[0m\u001b[1;33m[\u001b[0m\u001b[1;36m0\u001b[0m\u001b[1;33m]\u001b[0m\u001b[1;33m[\u001b[0m\u001b[1;36m0\u001b[0m\u001b[1;33m]\u001b[0m \u001b[1;33m==\u001b[0m \u001b[0mline\u001b[0m\u001b[1;33m[\u001b[0m\u001b[1;36m0\u001b[0m\u001b[1;33m]\u001b[0m \u001b[1;32mfor\u001b[0m \u001b[0mline\u001b[0m \u001b[1;32min\u001b[0m \u001b[0mflines\u001b[0m\u001b[1;33m)\u001b[0m\u001b[1;33m\u001b[0m\u001b[0m\n\u001b[1;32m---> 10\u001b[1;33m     \u001b[1;32massert\u001b[0m \u001b[0moutf\u001b[0m\u001b[1;33m[\u001b[0m\u001b[0mi\u001b[0m\u001b[1;33m]\u001b[0m\u001b[1;33m[\u001b[0m\u001b[1;36m0\u001b[0m\u001b[1;33m]\u001b[0m \u001b[1;33m==\u001b[0m \u001b[0mflines\u001b[0m\u001b[1;33m[\u001b[0m\u001b[1;36m0\u001b[0m\u001b[1;33m]\u001b[0m\u001b[1;33m[\u001b[0m\u001b[1;36m0\u001b[0m\u001b[1;33m]\u001b[0m\u001b[1;33m,\u001b[0m \u001b[1;33m(\u001b[0m\u001b[0moutf\u001b[0m\u001b[1;33m[\u001b[0m\u001b[0mi\u001b[0m\u001b[1;33m]\u001b[0m\u001b[1;33m[\u001b[0m\u001b[1;36m0\u001b[0m\u001b[1;33m]\u001b[0m\u001b[1;33m,\u001b[0m \u001b[0mflines\u001b[0m\u001b[1;33m[\u001b[0m\u001b[1;36m0\u001b[0m\u001b[1;33m]\u001b[0m\u001b[1;33m[\u001b[0m\u001b[1;36m0\u001b[0m\u001b[1;33m]\u001b[0m\u001b[1;33m)\u001b[0m\u001b[1;33m\u001b[0m\u001b[0m\n\u001b[0m\u001b[0;32m     11\u001b[0m     \u001b[1;32mif\u001b[0m \u001b[1;32mnot\u001b[0m \u001b[0mall\u001b[0m\u001b[1;33m(\u001b[0m\u001b[0mflines\u001b[0m\u001b[1;33m[\u001b[0m\u001b[1;36m0\u001b[0m\u001b[1;33m]\u001b[0m\u001b[1;33m[\u001b[0m\u001b[1;36m1\u001b[0m\u001b[1;33m]\u001b[0m \u001b[1;33m==\u001b[0m \u001b[0mline\u001b[0m\u001b[1;33m[\u001b[0m\u001b[1;36m1\u001b[0m\u001b[1;33m]\u001b[0m \u001b[1;32mfor\u001b[0m \u001b[0mline\u001b[0m \u001b[1;32min\u001b[0m \u001b[0mflines\u001b[0m\u001b[1;33m)\u001b[0m\u001b[1;33m:\u001b[0m\u001b[1;33m\u001b[0m\u001b[0m\n\u001b[0;32m     12\u001b[0m         \u001b[0mprint\u001b[0m\u001b[1;33m(\u001b[0m\u001b[1;34m\"Value mismatch\"\u001b[0m\u001b[1;33m,\u001b[0m \u001b[0mflines\u001b[0m\u001b[1;33m[\u001b[0m\u001b[1;36m0\u001b[0m\u001b[1;33m]\u001b[0m\u001b[1;33m[\u001b[0m\u001b[1;36m0\u001b[0m\u001b[1;33m]\u001b[0m\u001b[1;33m,\u001b[0m \u001b[1;34m\" \"\u001b[0m\u001b[1;33m.\u001b[0m\u001b[0mjoin\u001b[0m\u001b[1;33m(\u001b[0m\u001b[0mline\u001b[0m\u001b[1;33m[\u001b[0m\u001b[1;36m1\u001b[0m\u001b[1;33m]\u001b[0m \u001b[1;32mfor\u001b[0m \u001b[0mline\u001b[0m \u001b[1;32min\u001b[0m \u001b[0mflines\u001b[0m\u001b[1;33m)\u001b[0m\u001b[1;33m)\u001b[0m\u001b[1;33m\u001b[0m\u001b[0m\n",
      "\u001b[1;31mAssertionError\u001b[0m: ('AgAtLeast1GoodSensor', 'TempARaw(C)')"
     ]
    }
   ],
   "source": [
    "#print(files)\n",
    "\n",
    "with open(thefile, 'r') as f:\n",
    "    outf = rl(thefile)\n",
    "\n",
    "unit5exclusive = alls-sets[3]\n",
    "    \n",
    "for i, flines in enumerate(zip(*lines)):\n",
    "    assert all(flines[0][0] == line[0] for line in flines)\n",
    "    assert outf[i][0] == flines[0][0], (outf[i][0], flines[0][0])\n",
    "    if not all(flines[0][1] == line[1] for line in flines):\n",
    "        print(\"Value mismatch\", flines[0][0], \" \".join(line[1] for line in flines))\n",
    "    else:\n",
    "        if any(line[2] == 'TRUE' for line in flines):\n",
    "            if outf[i][0] in unit5exclusive:\n",
    "                print(\"need value: \" + outf[i][0])\n",
    "            else:\n",
    "                outf[i][1] = flines[0][1]\n",
    "            outf[i][2] = 'TRUE'\n",
    "        else:\n",
    "            outf[i][2] = 'FALSE'\n",
    "            \n",
    "            \n",
    "with open(\"out.log\", 'w') as f:\n",
    "    f.write(open(thefile, 'r').readline())\n",
    "    f.write(\"\\n\".join(\"\\t\".join(line) for line in outf))"
   ]
  },
  {
   "cell_type": "code",
   "execution_count": 76,
   "metadata": {},
   "outputs": [
    {
     "data": {
      "text/plain": [
       "[['AgAtLeast1GoodSensor', '0', 'FALSE', 'Agitation'],\n",
       " ['AgAutoMaxStartup(%)', '0', 'FALSE', 'Agitation'],\n",
       " ['AgControlAlpha', '0', 'FALSE', 'Agitation'],\n",
       " ['AgControlBeta', '0', 'FALSE', 'Agitation'],\n",
       " ['AgControlGamma', '0', 'FALSE', 'Agitation']]"
      ]
     },
     "execution_count": 76,
     "metadata": {},
     "output_type": "execute_result"
    }
   ],
   "source": [
    "outf[:5]"
   ]
  },
  {
   "cell_type": "code",
   "execution_count": 80,
   "metadata": {},
   "outputs": [
    {
     "data": {
      "text/plain": [
       "[(['TempARaw(C)', '0', 'FALSE', ''],\n",
       "  ['TempARaw(C)', '0', 'FALSE', ''],\n",
       "  ['TempARaw(C)', '0', 'FALSE', ''],\n",
       "  ['TempARaw(C)', '0', 'FALSE', '']),\n",
       " (['TempHeatDutyActual(%)', '2', 'TRUE', ''],\n",
       "  ['TempHeatDutyActual(%)', '2', 'TRUE', ''],\n",
       "  ['TempHeatDutyActual(%)', '2', 'TRUE', ''],\n",
       "  ['TempHeatDutyActual(%)', '2', 'TRUE', '']),\n",
       " (['TempHeatPeriod(Cycle)', '0', 'FALSE', ''],\n",
       "  ['TempHeatPeriod(Cycle)', '0', 'FALSE', ''],\n",
       "  ['TempHeatPeriod(Cycle)', '0', 'FALSE', ''],\n",
       "  ['TempHeatPeriod(Cycle)', '0', 'FALSE', '']),\n",
       " (['TempA(C)', '0.1', 'TRUE', ''],\n",
       "  ['TempA(C)', '0.1', 'TRUE', ''],\n",
       "  ['TempA(C)', '0.1', 'TRUE', ''],\n",
       "  ['TempA(C)', '0.1', 'TRUE', '']),\n",
       " (['MFCAirMeasRaw(V)', '0', 'FALSE', ''],\n",
       "  ['MFCAirMeasRaw(V)', '0', 'FALSE', ''],\n",
       "  ['MFCAirMeasRaw(V)', '0', 'FALSE', ''],\n",
       "  ['MFCAirMeasRaw(V)', '0', 'FALSE', ''])]"
      ]
     },
     "execution_count": 80,
     "metadata": {},
     "output_type": "execute_result"
    }
   ],
   "source": [
    "list(zip(*lines))[:5]"
   ]
  },
  {
   "cell_type": "code",
   "execution_count": 116,
   "metadata": {},
   "outputs": [],
   "source": [
    "def gh(file):\n",
    "    with open(file, 'r') as f:\n",
    "        return f.readline().split(\",\")\n",
    "    \n",
    "rfiles = os.listdir(\"reports\")\n",
    "    \n",
    "lines = [gh(\"reports/\"+file) for file in rfiles]\n",
    "sets = [set(h) for h in lines]\n",
    "for s in sets:\n",
    "    alls.update(s)"
   ]
  },
  {
   "cell_type": "code",
   "execution_count": 117,
   "metadata": {},
   "outputs": [
    {
     "data": {
      "text/plain": [
       "False"
      ]
     },
     "execution_count": 117,
     "metadata": {},
     "output_type": "execute_result"
    }
   ],
   "source": [
    "sets[0] == sets[1] and sets[1] == sets[2] and sets[1] == sets[3]"
   ]
  },
  {
   "cell_type": "code",
   "execution_count": 118,
   "metadata": {},
   "outputs": [
    {
     "data": {
      "text/plain": [
       "['2019050620031151 CDI 2.csv',\n",
       " '2019050620054625 CDI 3.csv',\n",
       " '2019050620062590 CDI 4.csv',\n",
       " 'CDI 5.csv']"
      ]
     },
     "execution_count": 118,
     "metadata": {},
     "output_type": "execute_result"
    }
   ],
   "source": [
    "rfiles"
   ]
  },
  {
   "cell_type": "code",
   "execution_count": 47,
   "metadata": {},
   "outputs": [
    {
     "name": "stdout",
     "output_type": "stream",
     "text": [
      "FilterOvenDutyActual(%)\n",
      "Pumps&ValvesBasePumpSelection\n",
      "pHBaseDutyActual(%)\n",
      "pHBaseDutyUser(%)\n",
      "pHDeadband\n"
     ]
    }
   ],
   "source": [
    "for var in sorted(alls - sets[0]):\n",
    "    print(var)"
   ]
  },
  {
   "cell_type": "code",
   "execution_count": 48,
   "metadata": {},
   "outputs": [
    {
     "name": "stdout",
     "output_type": "stream",
     "text": [
      "AgModeUser\n",
      "CalDOA.Offset(%)\n",
      "CalDOA.Slope\n",
      "CalLevel.b\n",
      "CalLevel.m\n",
      "CalpHA.Offset(%)\n",
      "CalpHA.Slope\n",
      "CalpHA.Temp(C)\n",
      "DON2FlowControllerRequest(%)\n",
      "DOO2FlowControllerRequest(mLPM)\n",
      "MainGasFeedback(LPM)\n",
      "Pumps&ValvesFillSpeed(RPM)\n",
      "Pumps&ValvesPump1.Duty\n",
      "Pumps&ValvesPump2.Duty\n",
      "Pumps&ValvesPumpSmpl\n",
      "Pumps&ValvesPumpSmplRevrs\n",
      "TempA(C)\n",
      "pHCO2FlowControllerRequest(%)\n",
      "pHCO2User(%)\n"
     ]
    }
   ],
   "source": [
    "for var in sorted(alls-sets[3]):\n",
    "    print(var)"
   ]
  },
  {
   "cell_type": "code",
   "execution_count": 86,
   "metadata": {},
   "outputs": [],
   "source": [
    "from  clipboard import *; copy(repr(paste()))"
   ]
  },
  {
   "cell_type": "code",
   "execution_count": 56,
   "metadata": {
    "collapsed": true
   },
   "outputs": [
    {
     "name": "stdout",
     "output_type": "stream",
     "text": [
      "recording: AgModeActual\n",
      "recording: AgModeUser\n",
      "recording: AgPV(RPM)\n",
      "recording: AgPowerActualRequest(%)\n",
      "recording: AgPowerUser(%)\n",
      "recording: AgSP(RPM)\n",
      "recording: CalDOA.Offset(%)\n",
      "recording: CalDOA.Slope\n",
      "recording: CalLevel.b\n",
      "recording: CalLevel.m\n",
      "recording: CalpHA.Offset(%)\n",
      "recording: CalpHA.Slope\n",
      "recording: CalpHA.Temp(C)\n",
      "recording: DODeadband(%)\n",
      "recording: DOModeActual\n",
      "recording: DON2FlowActualRequest(%)\n",
      "recording: DON2FlowControllerRequest(%)\n",
      "recording: DON2FlowUser(%)\n",
      "recording: DOO2FlowControllerRequest(mLPM)\n",
      "recording: DOO2FlowControllerRequestLimited(%)\n",
      "recording: DOO2FlowUser(%)\n",
      "recording: DOPV(%)\n",
      "recording: DOSP(%)\n",
      "recording: FilterOvenDutyActual(%)\n",
      "recording: FilterOvenDutyUser(%)\n",
      "recording: FilterOvenModeActual\n",
      "recording: FilterOvenPV(C)\n",
      "recording: FilterOvenSP(C)\n",
      "recording: MFCAirFlowFeedback(LPM)\n",
      "recording: MFCCO2FlowFeedback(LPM)\n",
      "recording: MFCN2FlowFeedback(LPM)\n",
      "recording: MFCO2FlowFeedback(LPM)\n",
      "recording: LevelPV(L)\n",
      "recording: MainGasActualRequest(LPM)\n",
      "recording: MainGasFeedback(LPM)\n",
      "recording: MainGasModeActual\n",
      "recording: MainGasUser(LPM)\n",
      "recording: Pumps&ValvesBasePumpSelection\n",
      "recording: Pumps&ValvesFillSpeed(RPM)\n",
      "recording: Pumps&ValvesPump1.Duty\n",
      "recording: Pumps&ValvesPump2.Duty\n",
      "recording: Pumps&ValvesPumpSmpl\n",
      "recording: Pumps&ValvesPumpSmplRevrs\n",
      "recording: Pumps&ValvesPumpUser1\n",
      "recording: Pumps&ValvesPumpUser2\n",
      "recording: TempA(C)\n",
      "recording: TempHeatDutyActual(%)\n",
      "recording: TempHeatDutyUser(%)\n",
      "recording: TempModeActual\n",
      "recording: TempPV(C)\n",
      "recording: TempSP(C)\n",
      "recording: pHBaseDutyActual(%)\n",
      "recording: pHBaseDutyUser(%)\n",
      "recording: pHCO2ActualRequest(%)\n",
      "recording: pHCO2FlowControllerRequest(%)\n",
      "recording: pHCO2User(%)\n",
      "recording: pHDeadband\n",
      "recording: pHModeActual\n",
      "recording: pHPV\n",
      "recording: pHSP\n"
     ]
    }
   ],
   "source": [
    "\n",
    "\n",
    "outf = rl(thefile)\n",
    "for line in outf:\n",
    "    if line[0] in alls:\n",
    "        line[2] = 'TRUE'\n",
    "        print(\"recording: \"+line[0])\n",
    "    else:\n",
    "        line[2] = 'FALSE'\n",
    "with open(\"out.log\", 'w') as f:\n",
    "    f.write(open(thefile, 'r').readline())\n",
    "    f.write(\"\\n\".join(\"\\t\".join(line) for line in outf))"
   ]
  },
  {
   "cell_type": "code",
   "execution_count": 89,
   "metadata": {},
   "outputs": [],
   "source": [
    "thefile = '\\\\\\\\pbsstation\\\\pbsicmi\\\\Documents\\\\Manufacturing\\\\Mfg Released\\\\IM\\\\IM00226\\\\Obsolete\\\\IM00226 Rev C\\\\IM00226 Rev C\\\\USB\\\\Install\\\\Config\\\\logging off.log'\n",
    "outf = rl(thefile)"
   ]
  },
  {
   "cell_type": "code",
   "execution_count": 91,
   "metadata": {},
   "outputs": [],
   "source": [
    "def makemap(file):\n",
    "    with open(file, 'r') as f:\n",
    "        f.readline()\n",
    "        lines = [line.split(\"\\t\") for line in f.read().splitlines()]\n",
    "    return {line[0]: line[1:] for line in lines}\n",
    "\n",
    "alld = [makemap(fp) for fp in files]"
   ]
  },
  {
   "cell_type": "code",
   "execution_count": 132,
   "metadata": {},
   "outputs": [
    {
     "name": "stdout",
     "output_type": "stream",
     "text": [
      "HarvestMode needs value\n"
     ]
    }
   ],
   "source": [
    "def dbool(d, v):\n",
    "    return d[v][1]\n",
    "\n",
    "def dval(d, v):\n",
    "    return d[v][0]\n",
    "\n",
    "u5only = alls-sets[3]\n",
    "\n",
    "\n",
    "fix = {\n",
    "    'pHBaseDutyActual(%)': '1',\n",
    "    'pHBaseDutyUser(%)': '1',\n",
    "    'pHDeadband': '0',\n",
    "    'Pumps&ValvesBasePumpSelection': '0',\n",
    "    'FilterOvenDutyActual(%)': '50'\n",
    "}\n",
    "\n",
    "outf = rl(thefile)\n",
    "for line in outf:\n",
    "    v = line[0]\n",
    "    \n",
    "    if any(dbool(d,v) == 'TRUE' for d in alld):\n",
    "        #print(v, \"Should be TRUE\")\n",
    "        line[2] = 'TRUE'\n",
    "        v1 = dval(alld[0], v)\n",
    "        if not all(dval(d, v) == v1 for d in alld):\n",
    "            print(v, \"needs value\")\n",
    "        line[1] = v1\n",
    "    else:\n",
    "        line[2] = 'FALSE'\n",
    "        \n",
    "    if v in sets[3] and line[2] == 'FALSE':\n",
    "        line[2] = 'TRUE'\n",
    "        if v in fix:\n",
    "            line[1] = fix[v]\n",
    "        else:\n",
    "            print(v, \"from unit #5: needs value\")\n",
    "        \n",
    "\n",
    "        \n",
    "os.makedirs(\"out\", exist_ok=True)\n",
    "with open(\"out\\\\out.log\", 'w') as f:\n",
    "    f.write(open(thefile, 'r').readline())\n",
    "    f.write(\"\\n\".join(\"\\t\".join(line) for line in outf))"
   ]
  },
  {
   "cell_type": "code",
   "execution_count": 133,
   "metadata": {},
   "outputs": [
    {
     "name": "stdout",
     "output_type": "stream",
     "text": [
      "AgModeActual                        0.5   TRUE       Agitation\n",
      "AgModeUser                          0.5   TRUE       Agitation\n",
      "AgPV(RPM)                           0.5   TRUE       Agitation\n",
      "AgPowerActualRequest(%)             1     TRUE       Agitation\n",
      "AgPowerUser(%)                      0.1   TRUE       Agitation\n",
      "AgSP(RPM)                           0.5   TRUE       Agitation\n",
      "HarvestMode                         0.5   TRUE       Agitation\n",
      "CalDOA.Offset(%)                    0.01  TRUE       Calibration\n",
      "CalDOA.Slope                        0.01  TRUE       Calibration\n",
      "CalLevel.b                          0.01  TRUE       Calibration\n",
      "CalLevel.m                          0.01  TRUE       Calibration\n",
      "CalpHA.Offset(%)                    0.01  TRUE       Calibration\n",
      "CalpHA.Slope                        0.01  TRUE       Calibration\n",
      "CalpHA.Temp(C)                      0.01  TRUE       Calibration\n",
      "DODeadband(%)                       0.001 TRUE       DO\n",
      "DOModeActual                        0.5   TRUE       DO\n",
      "DON2FlowActualRequest(%)            2     TRUE       DO\n",
      "DON2FlowControllerRequest(%)        1     TRUE       DO\n",
      "DON2FlowUser(%)                     1     TRUE       DO\n",
      "DOO2FlowControllerRequest(mLPM)     1     TRUE       DO\n",
      "DOO2FlowControllerRequestLimited(%) 2     TRUE       DO\n",
      "DOO2FlowUser(%)                     0.1   TRUE       DO\n",
      "DOPV(%)                             1     TRUE       DO\n",
      "DOSP(%)                             1     TRUE       DO\n",
      "FilterOvenDutyActual(%)             50    TRUE       Filter Oven\n",
      "FilterOvenDutyUser(%)               1     TRUE       Filter Oven\n",
      "FilterOvenModeActual                0.5   TRUE       Filter Oven\n",
      "FilterOvenPV(C)                     5     TRUE       Filter Oven\n",
      "FilterOvenSP(C)                     1     TRUE       Filter Oven\n",
      "MFCAirFlowFeedback(LPM)             0.01  TRUE       Gases\n",
      "MFCCO2FlowFeedback(LPM)             0.01  TRUE       Gases\n",
      "MFCN2FlowFeedback(LPM)              0.01  TRUE       Gases\n",
      "MFCO2FlowFeedback(LPM)              0.01  TRUE       Gases\n",
      "LevelPV(L)                          0.1   TRUE       Level\n",
      "MainGasActualRequest(LPM)           0.05  TRUE       Main Gas\n",
      "MainGasFeedback(LPM)                0.1   TRUE       Main Gas\n",
      "MainGasModeActual                   0.5   TRUE       Main Gas\n",
      "MainGasUser(LPM)                    0.05  TRUE       Main Gas\n",
      "Pumps&ValvesBasePumpSelection       0     TRUE       Pumps and Valves\n",
      "Pumps&ValvesFillSpeed(RPM)          5     TRUE       Pumps and Valves\n",
      "Pumps&ValvesPump1.Duty              1     TRUE       Pumps and Valves\n",
      "Pumps&ValvesPump2.Duty              1     TRUE       Pumps and Valves\n",
      "Pumps&ValvesPumpSmpl                0.5   TRUE       Pumps and Valves\n",
      "Pumps&ValvesPumpSmplRevrs           0.5   TRUE       Pumps and Valves\n",
      "Pumps&ValvesPumpUser1               0.5   TRUE       Pumps and Valves\n",
      "Pumps&ValvesPumpUser2               0.5   TRUE       Pumps and Valves\n",
      "TempA(C)                            0.1   TRUE       Temperature\n",
      "TempHeatDutyActual(%)               2     TRUE       Temperature\n",
      "TempHeatDutyUser(%)                 1     TRUE       Temperature\n",
      "TempModeActual                      0.5   TRUE       Temperature\n",
      "TempPV(C)                           0.1   TRUE       Temperature\n",
      "TempSP(C)                           0.1   TRUE       Temperature\n",
      "pHBaseDutyActual(%)                 1     TRUE       pH\n",
      "pHBaseDutyUser(%)                   1     TRUE       pH\n",
      "pHCO2ActualRequest(%)               1     TRUE       pH\n",
      "pHCO2FlowControllerRequest(%)       1     TRUE       pH\n",
      "pHCO2User(%)                        1     TRUE       pH\n",
      "pHDeadband                          0     TRUE       pH\n",
      "pHModeActual                        0.5   TRUE       pH\n",
      "pHPV                                0.05  TRUE       pH\n",
      "pHSP                                0.01  TRUE       pH\n"
     ]
    }
   ],
   "source": [
    "for line in outf:\n",
    "    if line[2] == 'TRUE':\n",
    "        print(\"%-35s %-5s %-10s %s\"%tuple(line))"
   ]
  },
  {
   "cell_type": "code",
   "execution_count": 105,
   "metadata": {},
   "outputs": [
    {
     "data": {
      "text/plain": [
       "['AgModeActual', '0.5', 'TRUE', 'Agitation']"
      ]
     },
     "execution_count": 105,
     "metadata": {},
     "output_type": "execute_result"
    }
   ],
   "source": [
    "line"
   ]
  },
  {
   "cell_type": "code",
   "execution_count": 109,
   "metadata": {},
   "outputs": [
    {
     "data": {
      "text/plain": [
       "\"['AgModeActual', '0.5', 'TRUE', 'Agitation']\""
      ]
     },
     "execution_count": 109,
     "metadata": {},
     "output_type": "execute_result"
    }
   ],
   "source": [
    "\"%-30s\"%(line)"
   ]
  },
  {
   "cell_type": "code",
   "execution_count": 110,
   "metadata": {},
   "outputs": [
    {
     "data": {
      "text/plain": [
       "list"
      ]
     },
     "execution_count": 110,
     "metadata": {},
     "output_type": "execute_result"
    }
   ],
   "source": [
    "type(line)"
   ]
  },
  {
   "cell_type": "code",
   "execution_count": null,
   "metadata": {},
   "outputs": [],
   "source": []
  }
 ],
 "metadata": {
  "kernelspec": {
   "display_name": "Python 3",
   "language": "python",
   "name": "python3"
  },
  "language_info": {
   "codemirror_mode": {
    "name": "ipython",
    "version": 3
   },
   "file_extension": ".py",
   "mimetype": "text/x-python",
   "name": "python",
   "nbconvert_exporter": "python",
   "pygments_lexer": "ipython3",
   "version": "3.5.2"
  }
 },
 "nbformat": 4,
 "nbformat_minor": 2
}
