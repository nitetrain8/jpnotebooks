{
 "cells": [
  {
   "cell_type": "code",
   "execution_count": 1,
   "metadata": {},
   "outputs": [],
   "source": [
    "import os\n",
    "os.chdir(\"C:\\\\Users\\\\Nathan\\\\Desktop\\\\scp30701\")"
   ]
  },
  {
   "cell_type": "code",
   "execution_count": 29,
   "metadata": {},
   "outputs": [],
   "source": [
    "files = os.listdir()\n",
    "def rl(fp):\n",
    "    with open(fp, 'r') as f:\n",
    "        f.readline()\n",
    "        return [l.split(\"\\t\") for l in f.read().splitlines()]\n",
    "lines = [rl(fp) for fp in files]\n",
    "\n",
    "def samevar(lines):\n",
    "    v = lines[0][0]\n",
    "    for l in lines:\n",
    "        assert l[0] == v\n",
    "        \n",
    "def printall(line):\n",
    "    tstr = \" \".join(l[2] for l in line)\n",
    "    print(\"%-30s %s\" % (line[0][0], tstr))\n",
    "        \n",
    "def record(lines):\n",
    "    for line in lines:\n",
    "        if line[2] == 'TRUE':\n",
    "#             print(\"ok\")\n",
    "            printall(lines)\n",
    "            break"
   ]
  },
  {
   "cell_type": "code",
   "execution_count": 30,
   "metadata": {},
   "outputs": [
    {
     "name": "stdout",
     "output_type": "stream",
     "text": [
      "['Logger Settings CDI 15 2.log', 'Logger Settings CDI 2.log', 'Logger Settings CDI 3.log', 'Logger Settings CDI 4.log']\n",
      "TempHeatDutyActual(%)          TRUE TRUE TRUE TRUE\n",
      "TempA(C)                       TRUE TRUE TRUE TRUE\n",
      "FilterOvenPV(C)                TRUE TRUE TRUE TRUE\n",
      "pHCO2ActualRequest(%)          TRUE TRUE TRUE TRUE\n",
      "AgPV(RPM)                      TRUE TRUE TRUE TRUE\n",
      "TempModeActual                 TRUE TRUE TRUE TRUE\n",
      "TempPV(C)                      TRUE TRUE TRUE TRUE\n",
      "AgModeActual                   TRUE TRUE TRUE TRUE\n",
      "DOPV(%)                        TRUE TRUE TRUE TRUE\n",
      "Pumps&ValvesPumpSmplRevrs      TRUE TRUE TRUE TRUE\n",
      "Pumps&ValvesPumpSmpl           TRUE TRUE TRUE TRUE\n",
      "pHModeActual                   TRUE TRUE TRUE TRUE\n",
      "DOModeActual                   TRUE TRUE TRUE TRUE\n",
      "LevelPV(L)                     TRUE TRUE TRUE TRUE\n",
      "DON2FlowActualRequest(%)       TRUE TRUE TRUE TRUE\n",
      "pHPV                           TRUE TRUE TRUE TRUE\n",
      "CalDOA.Slope                   TRUE TRUE TRUE TRUE\n",
      "CalDOA.Offset(%)               TRUE TRUE TRUE TRUE\n",
      "CalpHA.Slope                   TRUE TRUE TRUE TRUE\n",
      "CalpHA.Offset(%)               TRUE TRUE TRUE TRUE\n",
      "CalpHA.Temp(C)                 TRUE TRUE TRUE TRUE\n",
      "FilterOvenModeActual           TRUE TRUE TRUE TRUE\n",
      "Pumps&ValvesPump2.Duty         TRUE TRUE TRUE TRUE\n",
      "Pumps&ValvesPump1.Duty         TRUE TRUE TRUE TRUE\n",
      "CalLevel.m                     TRUE TRUE TRUE TRUE\n",
      "CalLevel.b                     TRUE TRUE TRUE TRUE\n",
      "DOO2FlowControllerRequest(mLPM) TRUE TRUE TRUE TRUE\n",
      "DODeadband(%)                  TRUE TRUE TRUE TRUE\n",
      "DON2FlowControllerRequest(%)   TRUE TRUE TRUE TRUE\n",
      "pHCO2FlowControllerRequest(%)  TRUE TRUE TRUE TRUE\n",
      "MFCAirFlowFeedback(LPM)        TRUE TRUE TRUE TRUE\n",
      "MFCN2FlowFeedback(LPM)         TRUE TRUE TRUE TRUE\n",
      "MFCO2FlowFeedback(LPM)         TRUE TRUE TRUE TRUE\n",
      "MFCCO2FlowFeedback(LPM)        TRUE TRUE TRUE TRUE\n",
      "AgPowerActualRequest(%)        TRUE TRUE TRUE TRUE\n",
      "MainGasModeActual              TRUE TRUE TRUE TRUE\n",
      "MainGasActualRequest(LPM)      TRUE TRUE TRUE TRUE\n",
      "MainGasFeedback(LPM)           TRUE TRUE TRUE TRUE\n",
      "DOO2FlowControllerRequestLimited(%) TRUE TRUE TRUE TRUE\n",
      "Pumps&ValvesPumpUser1          TRUE TRUE TRUE TRUE\n",
      "Pumps&ValvesPumpUser2          TRUE TRUE TRUE TRUE\n",
      "TempSP(C)                      TRUE TRUE TRUE TRUE\n",
      "AgSP(RPM)                      TRUE TRUE TRUE TRUE\n",
      "AgModeUser                     TRUE TRUE TRUE TRUE\n",
      "TempHeatDutyUser(%)            TRUE TRUE TRUE TRUE\n",
      "Pumps&ValvesFillSpeed(RPM)     TRUE TRUE TRUE TRUE\n",
      "pHSP                           TRUE TRUE TRUE TRUE\n",
      "pHCO2User(%)                   TRUE TRUE TRUE TRUE\n",
      "DOSP(%)                        TRUE TRUE TRUE TRUE\n",
      "DON2FlowUser(%)                TRUE TRUE TRUE TRUE\n",
      "FilterOvenDutyUser(%)          TRUE TRUE TRUE TRUE\n",
      "FilterOvenSP(C)                TRUE TRUE TRUE TRUE\n",
      "AgPowerUser(%)                 TRUE TRUE TRUE TRUE\n",
      "MainGasUser(LPM)               TRUE TRUE TRUE TRUE\n",
      "HarvestMode                    TRUE FALSE FALSE FALSE\n",
      "DOO2FlowUser(%)                TRUE TRUE TRUE TRUE\n"
     ]
    }
   ],
   "source": [
    "print(files)\n",
    "for line in zip(*lines):\n",
    "    samevar(line)\n",
    "    record(line)\n",
    "    #print(line)"
   ]
  },
  {
   "cell_type": "code",
   "execution_count": 31,
   "metadata": {},
   "outputs": [],
   "source": [
    "def gh(file):\n",
    "    with open(file, 'r') as f:\n",
    "        return f.readline().split(\",\")\n",
    "    \n",
    "lines = [gh(\"reports/\"+file) for file in os.listdir(\"reports\")]\n",
    "sets = [set(h) for h in lines]\n",
    "alls = set()\n",
    "for s in sets:\n",
    "    alls.update(s)"
   ]
  },
  {
   "cell_type": "code",
   "execution_count": 33,
   "metadata": {},
   "outputs": [
    {
     "data": {
      "text/plain": [
       "True"
      ]
     },
     "execution_count": 33,
     "metadata": {},
     "output_type": "execute_result"
    }
   ],
   "source": [
    "sets[0] == sets[1] and sets[1] == sets[2]"
   ]
  },
  {
   "cell_type": "code",
   "execution_count": null,
   "metadata": {},
   "outputs": [],
   "source": []
  }
 ],
 "metadata": {
  "kernelspec": {
   "display_name": "Python 3",
   "language": "python",
   "name": "python3"
  },
  "language_info": {
   "codemirror_mode": {
    "name": "ipython",
    "version": 3
   },
   "file_extension": ".py",
   "mimetype": "text/x-python",
   "name": "python",
   "nbconvert_exporter": "python",
   "pygments_lexer": "ipython3",
   "version": "3.5.2"
  }
 },
 "nbformat": 4,
 "nbformat_minor": 2
}
