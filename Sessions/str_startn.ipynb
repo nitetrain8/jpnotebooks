{
 "cells": [
  {
   "cell_type": "code",
   "execution_count": 9,
   "metadata": {},
   "outputs": [],
   "source": [
    "from clipboard import copy, paste\n",
    "def startn(n=1):\n",
    "    fn = \"#define str_start%d(s, %s) (str_start%d(s, %s) && s[%d] == _%d)\"\n",
    "    nums = \", \".join(\"_%d\"%i for i in range(n))\n",
    "    nums2 = \", \".join(\"_%d\"%i for i in range(n-1))\n",
    "    return fn % (n, nums, n-1, nums2, n-1, n-1)"
   ]
  },
  {
   "cell_type": "code",
   "execution_count": 10,
   "metadata": {},
   "outputs": [
    {
     "data": {
      "text/plain": [
       "'#define str_start2(s, _0, _1) (str_start1(s, _0) && s[1] == _1)'"
      ]
     },
     "execution_count": 10,
     "metadata": {},
     "output_type": "execute_result"
    }
   ],
   "source": [
    "s = startn(2)\n",
    "copy(s)\n",
    "s"
   ]
  },
  {
   "cell_type": "code",
   "execution_count": 11,
   "metadata": {},
   "outputs": [],
   "source": [
    "out = []\n",
    "for i in range(2, 11):\n",
    "    out.append(startn(i))\n",
    "copy(\"\\n\".join(out))"
   ]
  },
  {
   "cell_type": "code",
   "execution_count": null,
   "metadata": {},
   "outputs": [],
   "source": []
  }
 ],
 "metadata": {
  "kernelspec": {
   "display_name": "Python 3",
   "language": "python",
   "name": "python3"
  },
  "language_info": {
   "codemirror_mode": {
    "name": "ipython",
    "version": 3
   },
   "file_extension": ".py",
   "mimetype": "text/x-python",
   "name": "python",
   "nbconvert_exporter": "python",
   "pygments_lexer": "ipython3",
   "version": "3.5.2"
  }
 },
 "nbformat": 4,
 "nbformat_minor": 2
}
