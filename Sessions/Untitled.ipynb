{
 "cells": [
  {
   "cell_type": "code",
   "execution_count": 12,
   "metadata": {
    "collapsed": true
   },
   "outputs": [],
   "source": [
    "from hello.hello3 import HelloApp\n",
    "from hello import hello3\n",
    "from hello import hello\n",
    "from hello.pid.ag_pid import agpid\n",
    "from hello.pid.ag_pid.agpid import *"
   ]
  },
  {
   "cell_type": "code",
   "execution_count": 13,
   "metadata": {
    "collapsed": true
   },
   "outputs": [],
   "source": [
    "def runagpid(r):\n",
    "    try:\n",
    "        r.doall()\n",
    "    except Exception as e:\n",
    "        import traceback\n",
    "        traceback.print_exc()\n",
    "    finally:\n",
    "        return r\n",
    "    \n",
    "def test1(ip='192.168.1.21'):\n",
    "    p = 0.1\n",
    "    i = 0.01\n",
    "    d = 0\n",
    "    info=PIDInfo(p, i, d, beta=0)\n",
    "    app = hello3.open_hello(ip)\n",
    "    tests = []\n",
    "    for sp in (8, 10, 12, 14, 30, 55):\n",
    "        t = AgOffToAutoTest(info, 0, sp, app)\n",
    "        tests.append(t)\n",
    "    for start_pv in (10, 12, 14):\n",
    "        t1 = AgManToAutoTest(info, start_pv, start_pv-2, app)\n",
    "        t2 = AgAutoToAutoTest(info, start_pv, start_pv-2, app)\n",
    "        tests.extend((t1, t2))\n",
    "    for start_pv in (8, 10, 12):\n",
    "        t1 = AgManToAutoTest(info, start_pv, start_pv+2, app)\n",
    "        t2 = AgAutoToAutoTest(info, start_pv, start_pv+2, app)\n",
    "        tests.extend((t1, t2))\n",
    "    r = PIDRunner(tests, wb_name='3L Mag Drive Agitation Test.xlsx')\n",
    "    return runagpid(r)"
   ]
  },
  {
   "cell_type": "code",
   "execution_count": null,
   "metadata": {
    "collapsed": false
   },
   "outputs": [
    {
     "name": "stdout",
     "output_type": "stream",
     "text": [
      "04/11/17 17:57:09 INFO <runall>: Running test 1 of 18: P:0.100 I:0.010 D:0.0000 SP:8\n",
      "04/11/17 17:57:09 INFO <run>: Beginning test run for OffToAuto SP:8.0\n",
      "04/11/17 17:57:09 INFO <setup_settings>: Setting PID Settings\n",
      "04/11/17 17:57:13 INFO <setup_test>: Setting Agitation to OFF and waiting 30 seconds\n",
      "04/11/17 17:57:13 INFO <off>: Setting Agitation to Off\n",
      "04/11/17 17:57:43 INFO <start_test>: Starting Test\n",
      "04/11/17 17:57:43 INFO <auto>: Setting Agitation to 8RPM\n",
      "04/11/17 17:57:43 INFO <wait_for_settle>: Waiting for PV to settle\n",
      "04/11/17 17:57:43 INFO <wait_for_settle>: Update: PV: 0.00 SP: 8.00 Settle Remaining: 120 Timeout: 179\n",
      "04/11/17 17:57:58 INFO <wait_for_settle>: Update: PV: 9.18 SP: 8.00 Settle Remaining: 120 Timeout: 164\n",
      "04/11/17 17:58:13 INFO <wait_for_settle>: Update: PV: 8.22 SP: 8.00 Settle Remaining: 115 Timeout: 149\n",
      "04/11/17 17:58:28 INFO <wait_for_settle>: Update: PV: 7.74 SP: 8.00 Settle Remaining: 100 Timeout: 134\n"
     ]
    }
   ],
   "source": [
    "r = test1()"
   ]
  },
  {
   "cell_type": "code",
   "execution_count": null,
   "metadata": {
    "collapsed": true
   },
   "outputs": [],
   "source": [
    "from hello.hello3 import HelloApp, NotLoggedInError\n",
    "from time import sleep\n",
    "import time\n",
    "\n",
    "def _bn():\n",
    "    i = 1\n",
    "    while True:\n",
    "        yield \"temp 1.%d\"%i\n",
    "        i += 1\n",
    "bn = _bn().__next__\n",
    "\n",
    "def call(f, *args):\n",
    "    print(\"Calling \", f.__name__, repr(args), sep=\"\")\n",
    "    for i in range(100):\n",
    "        try:\n",
    "            return f(*args)\n",
    "        except NotLoggedInError:\n",
    "            h.login()\n",
    "        except Exception as e:\n",
    "            print(repr(e))\n",
    "            "
   ]
  },
  {
   "cell_type": "code",
   "execution_count": null,
   "metadata": {
    "collapsed": true
   },
   "outputs": [],
   "source": [
    "h = HelloApp('192.168.1.21')"
   ]
  },
  {
   "cell_type": "code",
   "execution_count": null,
   "metadata": {
    "collapsed": true
   },
   "outputs": [],
   "source": [
    "hour = 3600\n",
    "h.login()\n",
    "if call(h.batchrunning):\n",
    "    call(h.endbatch)\n",
    "\n",
    "call(h.startbatch, bn())\n",
    "call(h.settemp, 0, 37)\n",
    "call(time.sleep, 8*hour)\n",
    "call(h.endbatch)\n",
    "call(h.startbatch, bn())\n",
    "call(h.temp, 2, 37)"
   ]
  },
  {
   "cell_type": "code",
   "execution_count": null,
   "metadata": {
    "collapsed": true
   },
   "outputs": [],
   "source": []
  }
 ],
 "metadata": {
  "kernelspec": {
   "display_name": "Python 3",
   "language": "python",
   "name": "python3"
  },
  "language_info": {
   "codemirror_mode": {
    "name": "ipython",
    "version": 3
   },
   "file_extension": ".py",
   "mimetype": "text/x-python",
   "name": "python",
   "nbconvert_exporter": "python",
   "pygments_lexer": "ipython3",
   "version": "3.5.2"
  }
 },
 "nbformat": 4,
 "nbformat_minor": 1
}
