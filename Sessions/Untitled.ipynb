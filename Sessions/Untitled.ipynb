{
 "cells": [
  {
   "cell_type": "code",
   "execution_count": 24,
   "metadata": {
    "collapsed": true
   },
   "outputs": [],
   "source": [
    "from hello.hello3 import HelloApp, NotLoggedInError\n",
    "from time import sleep\n",
    "import time"
   ]
  },
  {
   "cell_type": "code",
   "execution_count": 4,
   "metadata": {
    "collapsed": false
   },
   "outputs": [
    {
     "data": {
      "text/plain": [
       "<hello.hello3.HelloXML at 0x16e7f97e630>"
      ]
     },
     "execution_count": 4,
     "metadata": {},
     "output_type": "execute_result"
    }
   ],
   "source": [
    "h = HelloApp(\"71.189.82.196:88\")\n",
    "h.login()\n",
    "h.setag(0, 15)"
   ]
  },
  {
   "cell_type": "code",
   "execution_count": 9,
   "metadata": {
    "collapsed": true
   },
   "outputs": [],
   "source": [
    "def _bn():\n",
    "    i = 4\n",
    "    while True:\n",
    "        yield \"ph 1.%d\"%i\n",
    "        i += 1\n",
    "bn = _bn().__next__"
   ]
  },
  {
   "cell_type": "code",
   "execution_count": 20,
   "metadata": {
    "collapsed": true
   },
   "outputs": [],
   "source": [
    "def call(f, *args):\n",
    "    print(\"Calling \", f.__name__, repr(args), sep=\"\")\n",
    "    for i in range(100):\n",
    "        try:\n",
    "            return f(*args)\n",
    "        except NotLoggedInError:\n",
    "            h.login()\n",
    "        except Exception as e:\n",
    "            print(repr(e))"
   ]
  },
  {
   "cell_type": "code",
   "execution_count": null,
   "metadata": {
    "collapsed": false
   },
   "outputs": [
    {
     "name": "stdout",
     "output_type": "stream",
     "text": [
      "Calling batchrunning()\n",
      "Calling endbatch()\n",
      "Calling setph(0, 7.3)\n",
      "Calling startbatch('ph 1.11',)\n"
     ]
    }
   ],
   "source": [
    "hour = 3600\n",
    "h.login()\n",
    "if call(h.batchrunning):\n",
    "    call(h.endbatch)\n",
    "call(h.setph, 0, 7.3)\n",
    "call(h.startbatch, bn())\n",
    "time.sleep(8*hour)\n",
    "call(h.endbatch)\n",
    "call(h.setph, 0, 7.5)\n",
    "call(h.startbatch, bn())\n",
    "time.sleep(10*hour)\n",
    "call(h.endbatch)\n",
    "call(h.setph, 0, 7.3)\n",
    "call(h.startbatch, bn())\n",
    "time.sleep(10*hour)\n",
    "call(h.endbatch)\n",
    "call(h.setph, 2, 0, 0)"
   ]
  },
  {
   "cell_type": "code",
   "execution_count": null,
   "metadata": {
    "collapsed": true
   },
   "outputs": [],
   "source": []
  }
 ],
 "metadata": {
  "kernelspec": {
   "display_name": "Python 3",
   "language": "python",
   "name": "python3"
  },
  "language_info": {
   "codemirror_mode": {
    "name": "ipython",
    "version": 3
   },
   "file_extension": ".py",
   "mimetype": "text/x-python",
   "name": "python",
   "nbconvert_exporter": "python",
   "pygments_lexer": "ipython3",
   "version": "3.5.2"
  }
 },
 "nbformat": 4,
 "nbformat_minor": 1
}
