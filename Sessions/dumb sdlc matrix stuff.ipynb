{
 "cells": [
  {
   "cell_type": "code",
   "execution_count": 13,
   "metadata": {},
   "outputs": [],
   "source": [
    "from officelib.xllib import *\n",
    "import clipboard, os\n",
    "def crp():\n",
    "    clipboard.copy(repr(clipboard.paste()))"
   ]
  },
  {
   "cell_type": "code",
   "execution_count": 2,
   "metadata": {},
   "outputs": [],
   "source": [
    "xl = Excel()\n",
    "wb = xl.Workbooks.Add()\n",
    "ws = wb.Worksheets(\"Sheet1\")\n",
    "cells = ws.Cells\n",
    "cr = cells.Range"
   ]
  },
  {
   "cell_type": "code",
   "execution_count": 14,
   "metadata": {},
   "outputs": [],
   "source": [
    "dropbox = 'C:\\\\Users\\\\Nathan\\\\Documents\\\\Dropbox\\\\FRS'\n",
    "testfp = os.path.join(dropbox, \"FRS Tests 181127.xlsx\")\n",
    "twb = xl.Workbooks.Open(testfp)\n",
    "tws = twb.Worksheets(1)\n",
    "tcells = tws.Cells\n",
    "tcr = tcells.Range"
   ]
  },
  {
   "cell_type": "code",
   "execution_count": 9,
   "metadata": {},
   "outputs": [],
   "source": [
    "for c in xl.Selection:\n",
    "    v = c.Value\n",
    "    if v:\n",
    "        c.IndentLevel = v.count(\".\")"
   ]
  },
  {
   "cell_type": "code",
   "execution_count": 43,
   "metadata": {
    "scrolled": true
   },
   "outputs": [],
   "source": [
    "frs = [x[0] for x in cr(\"B2:B58\").Value2]"
   ]
  },
  {
   "cell_type": "code",
   "execution_count": 50,
   "metadata": {},
   "outputs": [],
   "source": [
    "test_cells = [(str(int(x[0])),x[9]) for x in tcr(\"G2:P1462\").Value2]"
   ]
  },
  {
   "cell_type": "code",
   "execution_count": 53,
   "metadata": {},
   "outputs": [],
   "source": [
    "frsi = {i: [] for i in frs}\n",
    "for tid, items in test_cells:\n",
    "    if items is not None:\n",
    "        v = items.splitlines()\n",
    "        for f in v:\n",
    "            if f in frsi:\n",
    "                frsi[f].append(tid)"
   ]
  },
  {
   "cell_type": "code",
   "execution_count": 60,
   "metadata": {},
   "outputs": [],
   "source": [
    "empty = []\n",
    "for cell in cr(\"B2:B58\"):\n",
    "    tests = frsi.get(cell.Value, empty)\n",
    "    tl = \",\".join(tests)\n",
    "    tgt = cell.Offset(1,4)\n",
    "    tgt.NumberFormat = \"@\"\n",
    "    tgt.Value2 = tl"
   ]
  },
  {
   "cell_type": "code",
   "execution_count": 61,
   "metadata": {},
   "outputs": [],
   "source": [
    "reqs = [x[0] for x in xl.Selection.Value2]"
   ]
  },
  {
   "cell_type": "code",
   "execution_count": 63,
   "metadata": {},
   "outputs": [],
   "source": [
    "import importlib\n",
    "try:\n",
    "    importlib.reload(jpnotebooks.Software.SDLC_traceability_tools.issuetracker_item_extracter)\n",
    "except NameError:\n",
    "    pass\n",
    "import jpnotebooks.Software.SDLC_traceability_tools.issuetracker_item_extracter\n",
    "RequirementExtracter = jpnotebooks.Software.SDLC_traceability_tools.issuetracker_item_extracter.RequirementExtracter"
   ]
  },
  {
   "cell_type": "code",
   "execution_count": 65,
   "metadata": {},
   "outputs": [],
   "source": [
    "rex = RequirementExtracter(['URS', 'FRS'])\n",
    "for c in xl.Selection:\n",
    "    txt = c.Value2\n",
    "    refs, ntext = rex._extract_refs(txt.splitlines())\n",
    "    c.Value2 = ntext\n",
    "    c2 = c.Offset(1, 2)\n",
    "    data = \"\\n\".join(a+b for a,b in refs)\n",
    "    c2.Value2 = data\n",
    "    "
   ]
  },
  {
   "cell_type": "code",
   "execution_count": null,
   "metadata": {},
   "outputs": [],
   "source": []
  }
 ],
 "metadata": {
  "kernelspec": {
   "display_name": "Python 3",
   "language": "python",
   "name": "python3"
  },
  "language_info": {
   "codemirror_mode": {
    "name": "ipython",
    "version": 3
   },
   "file_extension": ".py",
   "mimetype": "text/x-python",
   "name": "python",
   "nbconvert_exporter": "python",
   "pygments_lexer": "ipython3",
   "version": "3.5.2"
  }
 },
 "nbformat": 4,
 "nbformat_minor": 2
}
