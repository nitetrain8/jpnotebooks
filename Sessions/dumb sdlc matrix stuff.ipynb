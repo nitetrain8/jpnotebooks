{
 "cells": [
  {
   "cell_type": "code",
   "execution_count": 13,
   "metadata": {},
   "outputs": [],
   "source": [
    "from officelib.xllib import *\n",
    "import clipboard, os\n",
    "def crp():\n",
    "    clipboard.copy(repr(clipboard.paste()))"
   ]
  },
  {
   "cell_type": "code",
   "execution_count": 2,
   "metadata": {},
   "outputs": [],
   "source": [
    "xl = Excel()\n",
    "wb = xl.Workbooks.Add()\n",
    "ws = wb.Worksheets(\"Sheet1\")\n",
    "cells = ws.Cells\n",
    "cr = cells.Range"
   ]
  },
  {
   "cell_type": "code",
   "execution_count": 14,
   "metadata": {},
   "outputs": [],
   "source": [
    "dropbox = 'C:\\\\Users\\\\Nathan\\\\Documents\\\\Dropbox\\\\FRS'\n",
    "testfp = os.path.join(dropbox, \"FRS Tests 181127.xlsx\")\n",
    "twb = xl.Workbooks.Open(testfp)\n",
    "tws = twb.Worksheets(1)\n",
    "tcells = tws.Cells\n",
    "tcr = tcells.Range"
   ]
  },
  {
   "cell_type": "code",
   "execution_count": 9,
   "metadata": {},
   "outputs": [],
   "source": [
    "for c in xl.Selection:\n",
    "    v = c.Value\n",
    "    if v:\n",
    "        c.IndentLevel = v.count(\".\")"
   ]
  },
  {
   "cell_type": "code",
   "execution_count": 43,
   "metadata": {
    "scrolled": true
   },
   "outputs": [],
   "source": [
    "frs = [x[0] for x in cr(\"B2:B58\").Value2]"
   ]
  },
  {
   "cell_type": "code",
   "execution_count": 50,
   "metadata": {},
   "outputs": [],
   "source": [
    "test_cells = [(str(int(x[0])),x[9]) for x in tcr(\"G2:P1462\").Value2]"
   ]
  },
  {
   "cell_type": "code",
   "execution_count": 53,
   "metadata": {},
   "outputs": [],
   "source": [
    "frsi = {i: [] for i in frs}\n",
    "for tid, items in test_cells:\n",
    "    if items is not None:\n",
    "        v = items.splitlines()\n",
    "        for f in v:\n",
    "            if f in frsi:\n",
    "                frsi[f].append(tid)"
   ]
  },
  {
   "cell_type": "code",
   "execution_count": 60,
   "metadata": {},
   "outputs": [],
   "source": [
    "empty = []\n",
    "for cell in cr(\"B2:B58\"):\n",
    "    tests = frsi.get(cell.Value, empty)\n",
    "    tl = \",\".join(tests)\n",
    "    tgt = cell.Offset(1,4)\n",
    "    tgt.NumberFormat = \"@\"\n",
    "    tgt.Value2 = tl"
   ]
  },
  {
   "cell_type": "code",
   "execution_count": 61,
   "metadata": {},
   "outputs": [],
   "source": [
    "reqs = [x[0] for x in xl.Selection.Value2]"
   ]
  },
  {
   "cell_type": "code",
   "execution_count": 63,
   "metadata": {},
   "outputs": [],
   "source": [
    "import importlib\n",
    "try:\n",
    "    importlib.reload(jpnotebooks.Software.SDLC_traceability_tools.issuetracker_item_extracter)\n",
    "except NameError:\n",
    "    pass\n",
    "import jpnotebooks.Software.SDLC_traceability_tools.issuetracker_item_extracter\n",
    "RequirementExtracter = jpnotebooks.Software.SDLC_traceability_tools.issuetracker_item_extracter.RequirementExtracter"
   ]
  },
  {
   "cell_type": "code",
   "execution_count": 65,
   "metadata": {},
   "outputs": [],
   "source": [
    "rex = RequirementExtracter(['URS', 'FRS'])\n",
    "for c in xl.Selection:\n",
    "    txt = c.Value2\n",
    "    refs, ntext = rex._extract_refs(txt.splitlines())\n",
    "    c.Value2 = ntext\n",
    "    c2 = c.Offset(1, 2)\n",
    "    data = \"\\n\".join(a+b for a,b in refs)\n",
    "    c2.Value2 = data\n",
    "    "
   ]
  },
  {
   "cell_type": "code",
   "execution_count": 66,
   "metadata": {},
   "outputs": [
    {
     "name": "stdout",
     "output_type": "stream",
     "text": [
      "Downloading projects...\n",
      "Downloading issues: 648/648      \n"
     ]
    },
    {
     "ename": "KeyError",
     "evalue": "0",
     "output_type": "error",
     "traceback": [
      "\u001b[1;31m---------------------------------------------------------------------------\u001b[0m",
      "\u001b[1;31mKeyError\u001b[0m                                  Traceback (most recent call last)",
      "\u001b[1;32m<ipython-input-66-6181bc7e6ccb>\u001b[0m in \u001b[0;36m<module>\u001b[1;34m()\u001b[0m\n\u001b[0;32m      2\u001b[0m \u001b[0mapi\u001b[0m \u001b[1;33m=\u001b[0m \u001b[0mIssuetrackerAPI\u001b[0m\u001b[1;33m(\u001b[0m\u001b[1;34m'issue.pbsbiotech.com'\u001b[0m\u001b[1;33m,\u001b[0m \u001b[1;34m'nstarkweather'\u001b[0m\u001b[1;33m,\u001b[0m \u001b[1;34m'kookychemist'\u001b[0m\u001b[1;33m)\u001b[0m\u001b[1;33m\u001b[0m\u001b[0m\n\u001b[0;32m      3\u001b[0m \u001b[0missues\u001b[0m \u001b[1;33m=\u001b[0m \u001b[0mapi\u001b[0m\u001b[1;33m.\u001b[0m\u001b[0mdownload_issues\u001b[0m\u001b[1;33m(\u001b[0m\u001b[1;34m\"pbssoftware\"\u001b[0m\u001b[1;33m)\u001b[0m\u001b[1;33m\u001b[0m\u001b[0m\n\u001b[1;32m----> 4\u001b[1;33m \u001b[0missues\u001b[0m\u001b[1;33m[\u001b[0m\u001b[1;36m0\u001b[0m\u001b[1;33m]\u001b[0m\u001b[1;33m\u001b[0m\u001b[0m\n\u001b[0m",
      "\u001b[1;31mKeyError\u001b[0m: 0"
     ]
    }
   ],
   "source": [
    "from scripts.tools.issuetracker import IssuetrackerAPI\n",
    "api = IssuetrackerAPI('issue.pbsbiotech.com', 'nstarkweather', 'kookychemist')\n",
    "issues = api.download_issues(\"pbssoftware\")\n",
    "issues[0]"
   ]
  },
  {
   "cell_type": "code",
   "execution_count": 93,
   "metadata": {},
   "outputs": [
    {
     "name": "stdout",
     "output_type": "stream",
     "text": [
      "2922 Power VI\n",
      "2851 Report Generation\n",
      "2787 Correct RIO SN reporting\n",
      "2859 Graph Panel\n",
      "2998 Verify Action Before Writing to Database\n"
     ]
    }
   ],
   "source": [
    "import re\n",
    "match = re.compile(r\".*(URS)([\\d\\.]+?).*\").search\n",
    "o = set()\n",
    "for iss in issues.values():\n",
    "    if iss.sprint_milestone == \"Legacy\":\n",
    "        continue\n",
    "    lines = iss.description.splitlines()\n",
    "    for line in lines:\n",
    "        if 'URS3194' in line:\n",
    "            print(iss.id, iss.subject)\n",
    "            o.add(iss.id)\n",
    "            \n",
    "# import webbrowser\n",
    "# for iid in o:\n",
    "#     webbrowser.open_new_tab(\"https://issue.pbsbiotech.com/issues/%d\"%iid)"
   ]
  },
  {
   "cell_type": "code",
   "execution_count": 83,
   "metadata": {},
   "outputs": [
    {
     "data": {
      "text/plain": [
       "648"
      ]
     },
     "execution_count": 83,
     "metadata": {},
     "output_type": "execute_result"
    }
   ],
   "source": [
    "len(issues.values())"
   ]
  },
  {
   "cell_type": "code",
   "execution_count": 84,
   "metadata": {},
   "outputs": [
    {
     "data": {
      "text/plain": [
       "'*+URS4095+* Reactor Name\\r\\n* *URS4095.1:* Users should be able to set a human-friendly reactor name. \\r\\n \\r\\n*+FRS4095+* Reactor name [URS4095]\\r\\n* *FRS4095.1:* Users will be able to designate a name for the bioreactor. [URS4095.1]\\r\\n* *FRS4095.2:* The name will be clearly visible in the primary user interface. [URS4095.1]\\r\\n'"
      ]
     },
     "execution_count": 84,
     "metadata": {},
     "output_type": "execute_result"
    }
   ],
   "source": [
    "iss.description"
   ]
  },
  {
   "cell_type": "code",
   "execution_count": 85,
   "metadata": {},
   "outputs": [],
   "source": [
    "match(iss.description.splitlines()[0])"
   ]
  },
  {
   "cell_type": "code",
   "execution_count": null,
   "metadata": {},
   "outputs": [],
   "source": []
  }
 ],
 "metadata": {
  "kernelspec": {
   "display_name": "Python 3",
   "language": "python",
   "name": "python3"
  },
  "language_info": {
   "codemirror_mode": {
    "name": "ipython",
    "version": 3
   },
   "file_extension": ".py",
   "mimetype": "text/x-python",
   "name": "python",
   "nbconvert_exporter": "python",
   "pygments_lexer": "ipython3",
   "version": "3.5.2"
  }
 },
 "nbformat": 4,
 "nbformat_minor": 2
}
