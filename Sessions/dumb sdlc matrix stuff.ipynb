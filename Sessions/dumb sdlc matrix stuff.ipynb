{
 "cells": [
  {
   "cell_type": "code",
   "execution_count": 13,
   "metadata": {},
   "outputs": [],
   "source": [
    "from officelib.xllib import *\n",
    "import clipboard, os\n",
    "def crp():\n",
    "    clipboard.copy(repr(clipboard.paste()))"
   ]
  },
  {
   "cell_type": "code",
   "execution_count": 2,
   "metadata": {},
   "outputs": [],
   "source": [
    "xl = Excel()\n",
    "wb = xl.Workbooks.Add()\n",
    "ws = wb.Worksheets(\"Sheet1\")\n",
    "cells = ws.Cells\n",
    "cr = cells.Range"
   ]
  },
  {
   "cell_type": "code",
   "execution_count": 14,
   "metadata": {},
   "outputs": [],
   "source": [
    "dropbox = 'C:\\\\Users\\\\Nathan\\\\Documents\\\\Dropbox\\\\FRS'\n",
    "testfp = os.path.join(dropbox, \"FRS Tests 181127.xlsx\")\n",
    "twb = xl.Workbooks.Open(testfp)\n",
    "tws = twb.Worksheets(1)\n",
    "tcells = tws.Cells\n",
    "tcr = tcells.Range"
   ]
  },
  {
   "cell_type": "code",
   "execution_count": 9,
   "metadata": {},
   "outputs": [],
   "source": [
    "for c in xl.Selection:\n",
    "    v = c.Value\n",
    "    if v:\n",
    "        c.IndentLevel = v.count(\".\")"
   ]
  },
  {
   "cell_type": "code",
   "execution_count": 43,
   "metadata": {
    "scrolled": true
   },
   "outputs": [],
   "source": [
    "frs = [x[0] for x in cr(\"B2:B58\").Value2]"
   ]
  },
  {
   "cell_type": "code",
   "execution_count": 50,
   "metadata": {},
   "outputs": [],
   "source": [
    "test_cells = [(str(int(x[0])),x[9]) for x in tcr(\"G2:P1462\").Value2]"
   ]
  },
  {
   "cell_type": "code",
   "execution_count": 53,
   "metadata": {},
   "outputs": [],
   "source": [
    "frsi = {i: [] for i in frs}\n",
    "for tid, items in test_cells:\n",
    "    if items is not None:\n",
    "        v = items.splitlines()\n",
    "        for f in v:\n",
    "            if f in frsi:\n",
    "                frsi[f].append(tid)"
   ]
  },
  {
   "cell_type": "code",
   "execution_count": 60,
   "metadata": {},
   "outputs": [],
   "source": [
    "empty = []\n",
    "for cell in cr(\"B2:B58\"):\n",
    "    tests = frsi.get(cell.Value, empty)\n",
    "    tl = \",\".join(tests)\n",
    "    tgt = cell.Offset(1,4)\n",
    "    tgt.NumberFormat = \"@\"\n",
    "    tgt.Value2 = tl"
   ]
  },
  {
   "cell_type": "code",
   "execution_count": 61,
   "metadata": {},
   "outputs": [],
   "source": [
    "reqs = [x[0] for x in xl.Selection.Value2]"
   ]
  },
  {
   "cell_type": "code",
   "execution_count": 63,
   "metadata": {},
   "outputs": [],
   "source": [
    "import importlib\n",
    "try:\n",
    "    importlib.reload(jpnotebooks.Software.SDLC_traceability_tools.issuetracker_item_extracter)\n",
    "except NameError:\n",
    "    pass\n",
    "import jpnotebooks.Software.SDLC_traceability_tools.issuetracker_item_extracter\n",
    "RequirementExtracter = jpnotebooks.Software.SDLC_traceability_tools.issuetracker_item_extracter.RequirementExtracter"
   ]
  },
  {
   "cell_type": "code",
   "execution_count": 65,
   "metadata": {},
   "outputs": [],
   "source": [
    "rex = RequirementExtracter(['URS', 'FRS'])\n",
    "for c in xl.Selection:\n",
    "    txt = c.Value2\n",
    "    refs, ntext = rex._extract_refs(txt.splitlines())\n",
    "    c.Value2 = ntext\n",
    "    c2 = c.Offset(1, 2)\n",
    "    data = \"\\n\".join(a+b for a,b in refs)\n",
    "    c2.Value2 = data\n",
    "    "
   ]
  },
  {
   "cell_type": "code",
   "execution_count": 66,
   "metadata": {},
   "outputs": [
    {
     "name": "stdout",
     "output_type": "stream",
     "text": [
      "Downloading projects...\n",
      "Downloading issues: 648/648      \n"
     ]
    },
    {
     "ename": "KeyError",
     "evalue": "0",
     "output_type": "error",
     "traceback": [
      "\u001b[1;31m---------------------------------------------------------------------------\u001b[0m",
      "\u001b[1;31mKeyError\u001b[0m                                  Traceback (most recent call last)",
      "\u001b[1;32m<ipython-input-66-6181bc7e6ccb>\u001b[0m in \u001b[0;36m<module>\u001b[1;34m()\u001b[0m\n\u001b[0;32m      2\u001b[0m \u001b[0mapi\u001b[0m \u001b[1;33m=\u001b[0m \u001b[0mIssuetrackerAPI\u001b[0m\u001b[1;33m(\u001b[0m\u001b[1;34m'issue.pbsbiotech.com'\u001b[0m\u001b[1;33m,\u001b[0m \u001b[1;34m'nstarkweather'\u001b[0m\u001b[1;33m,\u001b[0m \u001b[1;34m'kookychemist'\u001b[0m\u001b[1;33m)\u001b[0m\u001b[1;33m\u001b[0m\u001b[0m\n\u001b[0;32m      3\u001b[0m \u001b[0missues\u001b[0m \u001b[1;33m=\u001b[0m \u001b[0mapi\u001b[0m\u001b[1;33m.\u001b[0m\u001b[0mdownload_issues\u001b[0m\u001b[1;33m(\u001b[0m\u001b[1;34m\"pbssoftware\"\u001b[0m\u001b[1;33m)\u001b[0m\u001b[1;33m\u001b[0m\u001b[0m\n\u001b[1;32m----> 4\u001b[1;33m \u001b[0missues\u001b[0m\u001b[1;33m[\u001b[0m\u001b[1;36m0\u001b[0m\u001b[1;33m]\u001b[0m\u001b[1;33m\u001b[0m\u001b[0m\n\u001b[0m",
      "\u001b[1;31mKeyError\u001b[0m: 0"
     ]
    }
   ],
   "source": [
    "from scripts.tools.issuetracker import IssuetrackerAPI\n",
    "api = IssuetrackerAPI('issue.pbsbiotech.com', 'nstarkweather', 'kookychemist')\n",
    "issues = api.download_issues(\"pbssoftware\")\n",
    "issues[0]"
   ]
  },
  {
   "cell_type": "code",
   "execution_count": 93,
   "metadata": {},
   "outputs": [
    {
     "name": "stdout",
     "output_type": "stream",
     "text": [
      "2922 Power VI\n",
      "2851 Report Generation\n",
      "2787 Correct RIO SN reporting\n",
      "2859 Graph Panel\n",
      "2998 Verify Action Before Writing to Database\n"
     ]
    }
   ],
   "source": [
    "import re\n",
    "match = re.compile(r\".*(URS)([\\d\\.]+?).*\").search\n",
    "o = set()\n",
    "for iss in issues.values():\n",
    "    if iss.sprint_milestone == \"Legacy\":\n",
    "        continue\n",
    "    lines = iss.description.splitlines()\n",
    "    for line in lines:\n",
    "        if 'URS3194' in line:\n",
    "            print(iss.id, iss.subject)\n",
    "            o.add(iss.id)\n",
    "            \n",
    "# import webbrowser\n",
    "# for iid in o:\n",
    "#     webbrowser.open_new_tab(\"https://issue.pbsbiotech.com/issues/%d\"%iid)"
   ]
  },
  {
   "cell_type": "code",
   "execution_count": 83,
   "metadata": {},
   "outputs": [
    {
     "data": {
      "text/plain": [
       "648"
      ]
     },
     "execution_count": 83,
     "metadata": {},
     "output_type": "execute_result"
    }
   ],
   "source": [
    "len(issues.values())"
   ]
  },
  {
   "cell_type": "code",
   "execution_count": 84,
   "metadata": {},
   "outputs": [
    {
     "data": {
      "text/plain": [
       "'*+URS4095+* Reactor Name\\r\\n* *URS4095.1:* Users should be able to set a human-friendly reactor name. \\r\\n \\r\\n*+FRS4095+* Reactor name [URS4095]\\r\\n* *FRS4095.1:* Users will be able to designate a name for the bioreactor. [URS4095.1]\\r\\n* *FRS4095.2:* The name will be clearly visible in the primary user interface. [URS4095.1]\\r\\n'"
      ]
     },
     "execution_count": 84,
     "metadata": {},
     "output_type": "execute_result"
    }
   ],
   "source": [
    "iss.description"
   ]
  },
  {
   "cell_type": "code",
   "execution_count": 85,
   "metadata": {},
   "outputs": [],
   "source": [
    "match(iss.description.splitlines()[0])"
   ]
  },
  {
   "cell_type": "code",
   "execution_count": 94,
   "metadata": {},
   "outputs": [],
   "source": [
    "xl = Excel()"
   ]
  },
  {
   "cell_type": "code",
   "execution_count": 97,
   "metadata": {},
   "outputs": [],
   "source": [
    "i3194 = '*1 CFR 21 Part 11 Compliance*\\r\\nNote: Many of the primary requirements needed for CFR 21 Part 11 compliance are intended to be met by a custom shell replacement for explorer.exe (\"LabVIEW Shell\"). While use of a custom shell is not an explicit CFR 21 Part 11 requirement, it is the most practical solution for us to implement these requirements. High level CFR requirements as well as requirements specific to our implementation are listed here. General Shell requirements are listed in Section 3. \\r\\n* 1.1 Record Retention and Protection\\r\\n** 1.1.1 User access must restricted to prevent unauthorized access through software. \\r\\n*** 1.1.1.1 Prevent modification or manipulation of database\\r\\n*** 1.1.1.2 Prevent unauthorized addition, deletion, or modification of files through file explorer, dialog, or other means.\\r\\n*** 1.1.1.3 Prevent unauthorized modification of BIOS settings\\r\\n*** 1.1.1.4 Prevent required third party programs, particularly Chrome, from bypassing security measures. \\r\\n** 1.1.2 Generate and store database checksum to guarantee validity of the database\\r\\n** 1.1.3 Add feature to allow client\\'s admin to set up LAN for backup and archiving of databases\\r\\n** 1.1.4 Correct report generation\\r\\n** 1.1.5 Create a custom file browsing dialog to prevent unauthorized access\\r\\n** 1.1.6 Configure our software to work with client email server for reports\\r\\n** 1.1.7 Add database security file\\r\\n* 1.2 Audit Trails\\r\\n** 1.2.1 Record user events in \"LabVIEW Shell\"\\r\\n** 1.2.2 Prevent session hijacking in Web UI\\r\\n** 1.2.3 Correct time recorded to database to be true time of events and process data points\\r\\n*** We have decided the RIO time should be in UTC.  When an experiment is taking place, and the Atom switches to Daylight Savings in the middle, all data from the RIO recorded to the database before and after the switch must be recorded in the correct local time.  Since the Atom will always know that the RIO is reporting in UTC, it will take every timestamp from the RIO, check the current local time and timezone, and convert that timestamp to local time.\\r\\n**** Rather than re-calculating and readjusting the conversion formula for each data point, it could re-calculate it at the top of every hour, as that\\'s when Daylight Savings transitions happen.  It should also re-calculate it when the database engine starts up.\\r\\n*** The RIO time might drift, although it would be slow.  To avoid this causing a problem, re-sync the RIO time to the Atom on a regular basis.\\r\\n*** The times reported to the Web UI must be in the same format they currently are in 2.0\\r\\n*** This must be able to handle the Atom switching to/from Daylight Savings time\\r\\n** 1.2.4 The user events for all actions should be clear and accurate\\r\\n** 1.2.5 User events for all actions should occur in the following sequence:\\r\\n### Perform the user-requested action\\r\\n### Wait until the user-requested action has been confirmed through confirmation string\\r\\n### Write the record\\r\\n** 1.2.6 Database file history, including archival dates and md5 checksum, must be maintained by the system and unmodifiable by users. \\r\\n* 1.3 Encryption for Open System\\r\\n** 1.3.1 Configure the web server for https encryption\\r\\n*** When users on the bioreactor navigate to the Web UI, the HD should be configured so the page loads without user input\\r\\n*** Remote users must be able to use the Web UI by navigating to it with Chrome on their own computers\\r\\n*** When remote users navigate to the Web UI, it would be acceptable if users have to tell Chrome to trust the page each time they navigate to it, and if Chrome indicates that it didn\\'t fully trust the site.\\r\\n** Each bioreactor configured will have its own unique SSL certificate generated during manufacturing as a self-signed root certificate registered to \"localhost\". \\r\\n* 1.4 Password Check and Aging\\r\\n** 1.4.1 Improve password complexity to allow alphanumeric\\r\\n*** Note: Web UI will still require numeric-only passwords\\r\\n** 1.4.2 Allow admin to reset password\\r\\n** 1.4.3 Failed login lock\\r\\n** 1.4.4 Record failed login to database\\r\\n** 1.4.5 Password expiration (CFR 21 Part 11.300(b)) ensuring that identification code and password issuance is periodically checked, recalled, or revised (e.g., to cover such events as password aging).\\r\\n** 1.4.6 Requirements for CFR 21 Part 11.300(d)\\r\\n*** Use of transaction safeguards to prevent unauthorized use of passwords and/or identification codes, and to detect and report in an immediate and urgent manner any attempts at their unauthorized use to the system security unit, and, as appropriate, to organizational management.\\r\\n*** Lock out users without Account Management permissions after 10 unsuccessful login attempts, and notify.  Users with Account Management permissions shouldn\\'t have Web login permissions (via procedure).  All users will not be allowed another login attempt for 3 seconds in Shell and Web UI.\\r\\n* 1.5 Control and Reporting of Unauthorized Usage\\r\\n** 1.5.1 Record User ID for logins and logouts\\r\\n\\r\\n*2 Suitability for Manufacturing*\\r\\n* 2.1 Control Loops\\r\\n** 2.1.1 Correct PID setup and re-tune PID loops to achieve desired response characteristic\\r\\n*** User and functional requirements for specific model sizes and controllers will be handled in separate documents\\r\\n*** Multiple sets of PID parameters may be generated for a controller, to cover for multiple use scenarios such as headspace vs. microsparger DO control. \\r\\n** 2.1.2 Set up software to expect correct RTD type\\r\\n** 2.1.3 Improve automatic sensor selection behavior\\r\\n### For each sensor pair (pH DO and Temp), introduce 3 configuration settings via globals:\\r\\n#### One, set at the factory, to indicate available hardware configuration (\"Present\")\\r\\n#### One, set by users, to indicate which sensors may be used (\"Enabled\")\\r\\n#### One, set by users, to indicate which sensor they would prefer to be used (\"Preferred\")\\r\\n#### For each setting, indicate sensor A, sensor B, or sensors A and B. \\r\\n### Selecting Sensors:\\r\\n#### Only trigger alarms for sensors that are actually Present and Enabled. \\r\\n#### If the machine only has hardware to support 1 sensor, use that sensor regardless of other settings. \\r\\n#### Never use a sensor the user has Disabled, unless that is the only sensor Present. \\r\\n#### Always use the user Preferred sensor, unless that sensor is not Present or in range. \\r\\n#### If both sensors are Present and Enabled, automatically switch sensors if the In Use sensor goes out of range. \\r\\n#### Refer to attachment \"Sensor_Changes_PV_160208_1.png\" for further details. \\r\\n* 2.2 Alarm Feature Improvements\\r\\n** 2.2.1 Remove outdated and unused alarms\\r\\n** 2.2.2 Add audible alarm for unintentional shutdown of bioreactor\\r\\n** 2.2.3 Add audible alarms for blown fuses\\r\\n** 2.2.4 Allow acknowledgement of alarms to span database archive events\\r\\n* 2.3 Calibration\\r\\n** 2.3.1 Prevent calibrations that can result in \"Inf\" value for m and b\\r\\n** 2.3.2 Add pressure \\'Zero\\' calibration button\\r\\n** -2.3.3 Load m and b correctly in calibration menu under all test cases-\\r\\n** 2.3.4 Get raw values for Web UI pH and DO calibration\\r\\n** 2.3.5 Expose calibration options for MFC configuration, including slope and intercept correction.\\r\\n* 2.4 Recipes\\r\\n** 2.4.1 Correct implementation of recipe looping\\r\\n** 2.4.2 Allow recipes to edit all relevant data types\\r\\n** 2.4.3 Eliminate \"Unknown Command\" in recipe steps report\\r\\n* 2.5 Corrections and improvments to internal machinery:\\r\\n2.5.1 Eliminate web server freezing and crashing under specific conditions\\r\\n** 2.5.2 Eliminate getDORAValues error when RIO is disconnected\\r\\n** 2.5.3 Report RIO SN correctly\\r\\n* 2.6 Ease of use and ease of validation\\r\\n** 2.6.1 Add granular user permissions to all categories and subcategories of access\\r\\n*** 2.6.1.1 Allow administrative access for administrators and lab directors\\r\\n*** 2.6.1.2 Allow restriction to operation or observation only for lab technicians\\r\\n** 2.6.2 Use SysPrep so that our manufacturing process can be supported by Microsoft\\r\\n** 2.6.3 Encrypt email passwords\\r\\n** 2.6.4 Remove unnecessary System Variables, globals, typedefs, and sub VIs\\r\\n** 2.6.5 Improvements to report generation\\r\\n*** Users must be able to generate reports from the LabVIEW Shell for the active and archived databases\\r\\n*** When selecting from a list of batches, users must be able to tell that a particular batch is either continued in the next database, or is continued from the previous database\\r\\n*** The generated report will have headers to help users identify the batch or time it is associated with\\r\\n* 2.7 Securing PBS software against piracy\\r\\n** 2.7.1 The auth sb RIO should have a secure, random password\\r\\n\\r\\n*3 LabVIEW Shell Misc Requirements*\\r\\nNote: The primary purpose of creating the LabVIEW Shell is to satisfy requirements of CFR 21 part 11, covered in URS Section 1. This section covers general requirements to create a suitable interface for customer use and any other requirements specific to the Shell UI\\'s design which are required to satisfy CFR 21 part 11. \\r\\n* 3.1 Power functions - allow user to perform the following functions in Web Server and LabVIEW Shell:\\r\\n** Shut down the Windows computer\\r\\n** Restart the Windows computer\\r\\n** Log out the Windows user\\r\\n* 3.2 Shell is to utilize a custom error dialog, which is to be consistent across all parts of the program\\r\\n* 3.3 Shell is to have a graph panel, which is to update graphs more frequently than in the Web UI.  Also, show graphs for the following parameters, which are not graphed in the Web UI:\\r\\n** Filter Oven\\r\\n** Pressure\\r\\n** Level\\r\\n** Gas Voltages\\r\\n** Main Gas flow (for Mag drive)\\r\\n* 3.4 All custom interfaces provided by the LabVIEW Shell must be accessible and usable without use of an external keyboard. \\r\\n* 3.5 Unless otherwise specified, all functionality available in the Hello 2.0 Service UI should be available to users through the LabVIEW shell. \\r\\n* 3.6 Users must be automatically logged out due to inactivity after 10 minutes. Inactivity is defined as no mouse movement, mouse clicks, or keyboard inputs. \\r\\n** 3.6.1 A small popup should warn users that the logout timer is about to expire, after 9 minutes of inactivity, and disappear when the timer expires or is reset. '"
   ]
  },
  {
   "cell_type": "code",
   "execution_count": 111,
   "metadata": {},
   "outputs": [
    {
     "data": {
      "text/plain": [
       "[('1',\n",
       "  'CFR 21 Part 11 Compliance*\\nNote: Many of the primary requirements needed for CFR 21 Part 11 compliance are intended to be met by a custom shell replacement for explorer.exe (\"LabVIEW Shell\"). While use of a custom shell is not an explicit CFR 21 Part 11 requirement, it is the most practical solution for us to implement these requirements. High level CFR requirements as well as requirements specific to our implementation are listed here. General Shell requirements are listed in Section 3. '),\n",
       " ('1.1', 'Record Retention and Protection'),\n",
       " ('1.1.1',\n",
       "  'User access must restricted to prevent unauthorized access through software. '),\n",
       " ('1.1.1.1', 'Prevent modification or manipulation of database'),\n",
       " ('1.1.1.2',\n",
       "  'Prevent unauthorized addition, deletion, or modification of files through file explorer, dialog, or other means.'),\n",
       " ('1.1.1.3', 'Prevent unauthorized modification of BIOS settings'),\n",
       " ('1.1.1.4',\n",
       "  'Prevent required third party programs, particularly Chrome, from bypassing security measures. '),\n",
       " ('1.1.2',\n",
       "  'Generate and store database checksum to guarantee validity of the database'),\n",
       " ('1.1.3',\n",
       "  \"Add feature to allow client's admin to set up LAN for backup and archiving of databases\"),\n",
       " ('1.1.4', 'Correct report generation'),\n",
       " ('1.1.5',\n",
       "  'Create a custom file browsing dialog to prevent unauthorized access'),\n",
       " ('1.1.6',\n",
       "  'Configure our software to work with client email server for reports'),\n",
       " ('1.1.7', 'Add database security file'),\n",
       " ('1.2', 'Audit Trails'),\n",
       " ('1.2.1', 'Record user events in \"LabVIEW Shell\"'),\n",
       " ('1.2.2', 'Prevent session hijacking in Web UI'),\n",
       " ('1.2.3',\n",
       "  \"Correct time recorded to database to be true time of events and process data points\\n*** We have decided the RIO time should be in UTC.  When an experiment is taking place, and the Atom switches to Daylight Savings in the middle, all data from the RIO recorded to the database before and after the switch must be recorded in the correct local time.  Since the Atom will always know that the RIO is reporting in UTC, it will take every timestamp from the RIO, check the current local time and timezone, and convert that timestamp to local time.\\n**** Rather than re-calculating and readjusting the conversion formula for each data point, it could re-calculate it at the top of every hour, as that's when Daylight Savings transitions happen.  It should also re-calculate it when the database engine starts up.\\n*** The RIO time might drift, although it would be slow.  To avoid this causing a problem, re-sync the RIO time to the Atom on a regular basis.\\n*** The times reported to the Web UI must be in the same format they currently are in 2.0\\n*** This must be able to handle the Atom switching to/from Daylight Savings time\"),\n",
       " ('1.2.4', 'The user events for all actions should be clear and accurate'),\n",
       " ('1.2.5',\n",
       "  'User events for all actions should occur in the following sequence:\\n### Perform the user-requested action\\n### Wait until the user-requested action has been confirmed through confirmation string\\n### Write the record'),\n",
       " ('1.2.6',\n",
       "  'Database file history, including archival dates and md5 checksum, must be maintained by the system and unmodifiable by users. '),\n",
       " ('1.3', 'Encryption for Open System'),\n",
       " ('1.3.1',\n",
       "  'Configure the web server for https encryption\\n*** When users on the bioreactor navigate to the Web UI, the HD should be configured so the page loads without user input\\n*** Remote users must be able to use the Web UI by navigating to it with Chrome on their own computers\\n*** When remote users navigate to the Web UI, it would be acceptable if users have to tell Chrome to trust the page each time they navigate to it, and if Chrome indicates that it didn\\'t fully trust the site.\\n** Each bioreactor configured will have its own unique SSL certificate generated during manufacturing as a self-signed root certificate registered to \"localhost\". '),\n",
       " ('1.4', 'Password Check and Aging'),\n",
       " ('1.4.1',\n",
       "  'Improve password complexity to allow alphanumeric\\n*** Note: Web UI will still require numeric-only passwords'),\n",
       " ('1.4.2', 'Allow admin to reset password'),\n",
       " ('1.4.3', 'Failed login lock'),\n",
       " ('1.4.4', 'Record failed login to database'),\n",
       " ('1.4.5',\n",
       "  'Password expiration (CFR 21 Part 11.300(b)) ensuring that identification code and password issuance is periodically checked, recalled, or revised (e.g., to cover such events as password aging).'),\n",
       " ('1.4.6',\n",
       "  \"Requirements for CFR 21 Part 11.300(d)\\n*** Use of transaction safeguards to prevent unauthorized use of passwords and/or identification codes, and to detect and report in an immediate and urgent manner any attempts at their unauthorized use to the system security unit, and, as appropriate, to organizational management.\\n*** Lock out users without Account Management permissions after 10 unsuccessful login attempts, and notify.  Users with Account Management permissions shouldn't have Web login permissions (via procedure).  All users will not be allowed another login attempt for 3 seconds in Shell and Web UI.\"),\n",
       " ('1.5', 'Control and Reporting of Unauthorized Usage'),\n",
       " ('1.5.1', 'Record User ID for logins and logouts\\n'),\n",
       " ('2', 'Suitability for Manufacturing*'),\n",
       " ('2.1', 'Control Loops'),\n",
       " ('2.1.1',\n",
       "  'Correct PID setup and re-tune PID loops to achieve desired response characteristic\\n*** User and functional requirements for specific model sizes and controllers will be handled in separate documents\\n*** Multiple sets of PID parameters may be generated for a controller, to cover for multiple use scenarios such as headspace vs. microsparger DO control. '),\n",
       " ('2.1.2', 'Set up software to expect correct RTD type'),\n",
       " ('2.1.3',\n",
       "  'Improve automatic sensor selection behavior\\n### For each sensor pair (pH DO and Temp), introduce 3 configuration settings via globals:\\n#### One, set at the factory, to indicate available hardware configuration (\"Present\")\\n#### One, set by users, to indicate which sensors may be used (\"Enabled\")\\n#### One, set by users, to indicate which sensor they would prefer to be used (\"Preferred\")\\n#### For each setting, indicate sensor A, sensor B, or sensors A and B. \\n### Selecting Sensors:\\n#### Only trigger alarms for sensors that are actually Present and Enabled. \\n#### If the machine only has hardware to support 1 sensor, use that sensor regardless of other settings. \\n#### Never use a sensor the user has Disabled, unless that is the only sensor Present. \\n#### Always use the user Preferred sensor, unless that sensor is not Present or in range. \\n#### If both sensors are Present and Enabled, automatically switch sensors if the In Use sensor goes out of range. \\n#### Refer to attachment \"Sensor_Changes_PV_160208_1.png\" for further details. '),\n",
       " ('2.2', 'Alarm Feature Improvements'),\n",
       " ('2.2.1', 'Remove outdated and unused alarms'),\n",
       " ('2.2.2', 'Add audible alarm for unintentional shutdown of bioreactor'),\n",
       " ('2.2.3', 'Add audible alarms for blown fuses'),\n",
       " ('2.2.4', 'Allow acknowledgement of alarms to span database archive events'),\n",
       " ('2.3', 'Calibration'),\n",
       " ('2.3.1', 'Prevent calibrations that can result in \"Inf\" value for m and b'),\n",
       " ('2.3.2',\n",
       "  \"Add pressure 'Zero' calibration button\\n** -2.3.3 Load m and b correctly in calibration menu under all test cases-\"),\n",
       " ('2.3.4', 'Get raw values for Web UI pH and DO calibration'),\n",
       " ('2.3.5',\n",
       "  'Expose calibration options for MFC configuration, including slope and intercept correction.'),\n",
       " ('2.4', 'Recipes'),\n",
       " ('2.4.1', 'Correct implementation of recipe looping'),\n",
       " ('2.4.2', 'Allow recipes to edit all relevant data types'),\n",
       " ('2.4.3', 'Eliminate \"Unknown Command\" in recipe steps report'),\n",
       " ('2.5', 'Corrections and improvments to internal machinery:'),\n",
       " ('2.5.1',\n",
       "  'Eliminate web server freezing and crashing under specific conditions'),\n",
       " ('2.5.2', 'Eliminate getDORAValues error when RIO is disconnected'),\n",
       " ('2.5.3', 'Report RIO SN correctly'),\n",
       " ('2.6', 'Ease of use and ease of validation'),\n",
       " ('2.6.1',\n",
       "  'Add granular user permissions to all categories and subcategories of access'),\n",
       " ('2.6.1.1',\n",
       "  'Allow administrative access for administrators and lab directors'),\n",
       " ('2.6.1.2',\n",
       "  'Allow restriction to operation or observation only for lab technicians'),\n",
       " ('2.6.2',\n",
       "  'Use SysPrep so that our manufacturing process can be supported by Microsoft'),\n",
       " ('2.6.3', 'Encrypt email passwords'),\n",
       " ('2.6.4',\n",
       "  'Remove unnecessary System Variables, globals, typedefs, and sub VIs'),\n",
       " ('2.6.5',\n",
       "  'Improvements to report generation\\n*** Users must be able to generate reports from the LabVIEW Shell for the active and archived databases\\n*** When selecting from a list of batches, users must be able to tell that a particular batch is either continued in the next database, or is continued from the previous database\\n*** The generated report will have headers to help users identify the batch or time it is associated with'),\n",
       " ('2.7', 'Securing PBS software against piracy'),\n",
       " ('2.7.1', 'The auth sb RIO should have a secure, random password\\n'),\n",
       " ('3',\n",
       "  \"LabVIEW Shell Misc Requirements*\\nNote: The primary purpose of creating the LabVIEW Shell is to satisfy requirements of CFR 21 part 11, covered in URS Section 1. This section covers general requirements to create a suitable interface for customer use and any other requirements specific to the Shell UI's design which are required to satisfy CFR 21 part 11. \"),\n",
       " ('3.1',\n",
       "  'Power functions - allow user to perform the following functions in Web Server and LabVIEW Shell:\\n** Shut down the Windows computer\\n** Restart the Windows computer\\n** Log out the Windows user'),\n",
       " ('3.2',\n",
       "  'Shell is to utilize a custom error dialog, which is to be consistent across all parts of the program'),\n",
       " ('3.3',\n",
       "  'Shell is to have a graph panel, which is to update graphs more frequently than in the Web UI.  Also, show graphs for the following parameters, which are not graphed in the Web UI:\\n** Filter Oven\\n** Pressure\\n** Level\\n** Gas Voltages\\n** Main Gas flow (for Mag drive)'),\n",
       " ('3.4',\n",
       "  'All custom interfaces provided by the LabVIEW Shell must be accessible and usable without use of an external keyboard. '),\n",
       " ('3.5',\n",
       "  'Unless otherwise specified, all functionality available in the Hello 2.0 Service UI should be available to users through the LabVIEW shell. '),\n",
       " ('3.6',\n",
       "  'Users must be automatically logged out due to inactivity after 10 minutes. Inactivity is defined as no mouse movement, mouse clicks, or keyboard inputs. '),\n",
       " ('3.6.1',\n",
       "  'A small popup should warn users that the logout timer is about to expire, after 9 minutes of inactivity, and disappear when the timer expires or is reset. ')]"
      ]
     },
     "execution_count": 111,
     "metadata": {},
     "output_type": "execute_result"
    }
   ],
   "source": [
    "match = re.compile(r\"^([\\*\\s]*)?([\\d\\.]+)\\s*(.*)\").match\n",
    "lines = i3194.splitlines()\n",
    "out = []\n",
    "i = 0\n",
    "it = []\n",
    "while i < len(lines):\n",
    "    l = lines[i]\n",
    "    m = match(l)\n",
    "    if m:\n",
    "        if it:\n",
    "            t = it[0], \"\\n\".join(it[1:])\n",
    "            out.append(t)\n",
    "        it = [m.group(2), m.group(3)]\n",
    "    else:\n",
    "        it.append(l)\n",
    "    i += 1\n",
    "out.append((it[0], \"\\n\".join(it[1:])))\n",
    "out"
   ]
  },
  {
   "cell_type": "code",
   "execution_count": 113,
   "metadata": {},
   "outputs": [],
   "source": [
    "c = xl.Selection\n",
    "e = c.Offset(len(out), len(out[0]))\n",
    "cr = xl.Selection.Parent.Cells.Range\n",
    "cr(c,e).Value = out"
   ]
  },
  {
   "cell_type": "code",
   "execution_count": null,
   "metadata": {},
   "outputs": [],
   "source": []
  }
 ],
 "metadata": {
  "kernelspec": {
   "display_name": "Python 3",
   "language": "python",
   "name": "python3"
  },
  "language_info": {
   "codemirror_mode": {
    "name": "ipython",
    "version": 3
   },
   "file_extension": ".py",
   "mimetype": "text/x-python",
   "name": "python",
   "nbconvert_exporter": "python",
   "pygments_lexer": "ipython3",
   "version": "3.5.2"
  }
 },
 "nbformat": 4,
 "nbformat_minor": 2
}
