{
 "cells": [
  {
   "cell_type": "code",
   "execution_count": 1,
   "metadata": {},
   "outputs": [],
   "source": [
    "from officelib.xllib import *"
   ]
  },
  {
   "cell_type": "code",
   "execution_count": 2,
   "metadata": {},
   "outputs": [],
   "source": [
    "xl = Excel()"
   ]
  },
  {
   "cell_type": "code",
   "execution_count": 3,
   "metadata": {},
   "outputs": [],
   "source": [
    "def renumber():\n",
    "    c = xl.Selection\n",
    "    v = c.Value\n",
    "    if not v: return\n",
    "    lines = v.splitlines()\n",
    "    out = []\n",
    "    i = 1\n",
    "    for l in lines:\n",
    "        parts = l.split(\" \", 1)\n",
    "        if len(parts) == 1:\n",
    "            out.append(l)\n",
    "            continue\n",
    "        a,b = parts\n",
    "        if a.endswith(\")\"):\n",
    "            out.append(\"%s) %s\"%(i, b))\n",
    "            i += 1\n",
    "        else:\n",
    "            out.append(l)\n",
    "            continue\n",
    "    c.Value = \"\\n\".join(out)\n",
    "            \n",
    "\n",
    "renumber()"
   ]
  },
  {
   "cell_type": "code",
   "execution_count": 4,
   "metadata": {},
   "outputs": [
    {
     "data": {
      "text/plain": [
       "'1) In the Actions tab, press the Unlock Door button.\\n2) Remove the magnet from the pressure connected sensor & verify that pressure reports as disconnected. \\n3) Press the Unlock Door button. '"
      ]
     },
     "execution_count": 4,
     "metadata": {},
     "output_type": "execute_result"
    }
   ],
   "source": [
    "xl.Selection.Value"
   ]
  },
  {
   "cell_type": "code",
   "execution_count": 7,
   "metadata": {},
   "outputs": [],
   "source": [
    "for rf in xl.RecentFiles: \n",
    "    if rf.Name == \"FRS Tests 181127.xlsx\":\n",
    "        wb = rf.Open(); break"
   ]
  },
  {
   "cell_type": "code",
   "execution_count": 8,
   "metadata": {},
   "outputs": [],
   "source": [
    "ws = wb.Worksheets(1)\n",
    "cells = ws.Cells\n",
    "cr = cells.Range"
   ]
  },
  {
   "cell_type": "code",
   "execution_count": 48,
   "metadata": {},
   "outputs": [],
   "source": [
    "c1 = cr(\"A1\")\n",
    "er = c1.End(xlc.xlDown).Row\n",
    "ec = c1.End(xlc.xlToRight).Column\n",
    "c2 = cells(er, ec)\n",
    "data = cr(c1, c2).Value2"
   ]
  },
  {
   "cell_type": "code",
   "execution_count": 49,
   "metadata": {},
   "outputs": [],
   "source": [
    "data2 = [[str(s if s is not None else \"\").lower() for s in row] for row in data]"
   ]
  },
  {
   "cell_type": "code",
   "execution_count": 50,
   "metadata": {},
   "outputs": [],
   "source": [
    "def searchrow(data, word):\n",
    "    out = []\n",
    "    word = word.lower()\n",
    "    for row in data:\n",
    "        for cell in row:\n",
    "            if cell is not None and word in cell.lower():\n",
    "                out.append(row)\n",
    "                break\n",
    "    return out"
   ]
  },
  {
   "cell_type": "code",
   "execution_count": 51,
   "metadata": {},
   "outputs": [],
   "source": [
    "idxes = {}\n",
    "for i, c in enumerate(data[0]):\n",
    "    idxes[c] = i\n",
    "    \n",
    "def lkup(c):\n",
    "    return idxes[c]"
   ]
  },
  {
   "cell_type": "code",
   "execution_count": 45,
   "metadata": {},
   "outputs": [],
   "source": [
    "def showrow1(row):\n",
    "    print(row[lkup(\"ID_TEST\")], row[lkup(\"PURPOSE\")])\n",
    "    print()"
   ]
  },
  {
   "cell_type": "code",
   "execution_count": 54,
   "metadata": {},
   "outputs": [
    {
     "name": "stdout",
     "output_type": "stream",
     "text": [
      "21.0 confirm that putting agitation in pulse and then lookup mode, and temperature, do, ph, and filter oven in broken sensor mode, results in their respective dashboard and advanced buttons saying \"broken\"\n",
      "\n",
      "26.0 confirm that when the pv is between the process alarm low and low low limits, text in the buttons and boxes in the dashboard and advanced view menu are formatted correctly\n",
      "\n",
      "38.0 confirm dashboard and advanced view menu indicate that gases will not flow if pressure pv is above safety \"max pressure (psi)\" setting\n",
      "\n",
      "2223.0 confirm the controller outputs displayed in the advanced view menu are correct, for both versions of the web ui (and for both air and mag models)\n",
      "\n",
      "2544.0 confirm the gas flows displayed in the advanced view column are correct\n",
      "\n",
      "2742.0 confirm the door permission works correctly in the web ui\n",
      "\n",
      "2726.0 confirm user cannot start agitation from web ui when harvest status is \"in harvest mode\"\n",
      "\n",
      "2738.0 confirm user can change modes and set points (except for agitation) from the web ui when harvest mode is true\n",
      "\n",
      "2727.0 confirm interlocks are enabled during ramp down\n",
      "\n",
      "2728.0 confirm interlocks are enabled while waiting for magnet pass\n",
      "\n",
      "2729.0 confirm interlocks are enabled during wait time\n",
      "\n",
      "2986.0 verify correct activities that occur throughout harvest mode. \n",
      "\n",
      "2019.0 ensure minimum rpm value is functional.\n",
      "\n",
      "2407.0 confirm the auto max startup setting works properly\n",
      "\n",
      "2467.0 ensure minimum rpm value is functional.\n",
      "\n",
      "2474.0 confirm the auto max startup setting works properly\n",
      "\n",
      "2058.0 ensure deadband value is functional.\n",
      "\n",
      "2421.0 confirm process alarms are generated correctly, and that everything depending on them operates properly as well.\n",
      "\n",
      "3090.0 confirm agitation is interlocked on the mag 15 and up\n",
      "\n",
      "2518.0 confirm the door pressure safety input works\n",
      "\n",
      "1154.0 confirm setpoints are maintained after rio reboot\n",
      "\n",
      "3096.0 confirm that a recipe picks up where it left off if it lost power during a \"wait until\" step\n",
      "\n"
     ]
    }
   ],
   "source": [
    "for row in searchrow(searchrow(data2, \"interlock\"), \"agitation\"):\n",
    "    showrow1(row)"
   ]
  },
  {
   "cell_type": "code",
   "execution_count": 47,
   "metadata": {},
   "outputs": [],
   "source": [
    "for row in searchrow(data2, \"calpressure\"):\n",
    "    showrow1(row)"
   ]
  },
  {
   "cell_type": "code",
   "execution_count": null,
   "metadata": {},
   "outputs": [],
   "source": []
  }
 ],
 "metadata": {
  "kernelspec": {
   "display_name": "Python 3",
   "language": "python",
   "name": "python3"
  },
  "language_info": {
   "codemirror_mode": {
    "name": "ipython",
    "version": 3
   },
   "file_extension": ".py",
   "mimetype": "text/x-python",
   "name": "python",
   "nbconvert_exporter": "python",
   "pygments_lexer": "ipython3",
   "version": "3.5.2"
  }
 },
 "nbformat": 4,
 "nbformat_minor": 2
}
