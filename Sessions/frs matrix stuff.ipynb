{
 "cells": [
  {
   "cell_type": "code",
   "execution_count": 1,
   "metadata": {},
   "outputs": [],
   "source": [
    "from officelib.xllib import *"
   ]
  },
  {
   "cell_type": "code",
   "execution_count": 2,
   "metadata": {},
   "outputs": [],
   "source": [
    "xl = Excel()"
   ]
  },
  {
   "cell_type": "code",
   "execution_count": 3,
   "metadata": {},
   "outputs": [],
   "source": [
    "def renumber():\n",
    "    c = xl.Selection\n",
    "    v = c.Value\n",
    "    if not v: return\n",
    "    lines = v.splitlines()\n",
    "    out = []\n",
    "    i = 1\n",
    "    for l in lines:\n",
    "        parts = l.split(\" \", 1)\n",
    "        if len(parts) == 1:\n",
    "            out.append(l)\n",
    "            continue\n",
    "        a,b = parts\n",
    "        if a.endswith(\")\"):\n",
    "            out.append(\"%s) %s\"%(i, b))\n",
    "            i += 1\n",
    "        else:\n",
    "            out.append(l)\n",
    "            continue\n",
    "    c.Value = \"\\n\".join(out)\n",
    "            \n",
    "\n",
    "renumber()"
   ]
  },
  {
   "cell_type": "code",
   "execution_count": 22,
   "metadata": {},
   "outputs": [],
   "source": [
    "def xlobs():\n",
    "    wb = xl.ActiveWorkbook\n",
    "    ws = wb.Worksheets(1)\n",
    "    cells = ws.Cells\n",
    "    cr = cells.Range\n",
    "    return wb, ws, cells, cr\n",
    "wb, ws, cells, cr = xlobs()"
   ]
  },
  {
   "cell_type": "code",
   "execution_count": 10,
   "metadata": {},
   "outputs": [
    {
     "data": {
      "text/plain": [
       "'Shell is not open\\nUser is logged in to PBS Engineer Windows account\\nBioreactor is not online\\nMcAfee is open\\nA copy of the \"Big DBs.zip\" file is in the C:\\\\Database folder (ask James for a copy if it is not present on the bioreactor)'"
      ]
     },
     "execution_count": 10,
     "metadata": {},
     "output_type": "execute_result"
    }
   ],
   "source": [
    "xl.Selection.Value"
   ]
  },
  {
   "cell_type": "code",
   "execution_count": 7,
   "metadata": {},
   "outputs": [],
   "source": [
    "for rf in xl.RecentFiles: \n",
    "    if rf.Name == \"FRS Tests 181127.xlsx\":\n",
    "        wb = rf.Open(); break"
   ]
  },
  {
   "cell_type": "code",
   "execution_count": null,
   "metadata": {},
   "outputs": [],
   "source": []
  },
  {
   "cell_type": "code",
   "execution_count": 11,
   "metadata": {},
   "outputs": [],
   "source": [
    "wb = xl.ActiveWorkbook\n",
    "ws = wb.Worksheets(1)\n",
    "cells = ws.Cells\n",
    "cr = cells.Range"
   ]
  },
  {
   "cell_type": "code",
   "execution_count": 12,
   "metadata": {},
   "outputs": [],
   "source": [
    "c1 = cr(\"A1\")\n",
    "er = c1.End(xlc.xlDown).Row\n",
    "ec = c1.End(xlc.xlToRight).Column\n",
    "c2 = cells(er, ec)\n",
    "data = cr(c1, c2).Value2"
   ]
  },
  {
   "cell_type": "code",
   "execution_count": 13,
   "metadata": {},
   "outputs": [],
   "source": [
    "data2 = [[str(s if s is not None else \"\").lower() for s in row] for row in data]"
   ]
  },
  {
   "cell_type": "code",
   "execution_count": 14,
   "metadata": {},
   "outputs": [],
   "source": [
    "def searchrow(data, word):\n",
    "    out = []\n",
    "    word = word.lower()\n",
    "    for row in data:\n",
    "        for cell in row:\n",
    "            if cell is not None and word in cell.lower():\n",
    "                out.append(row)\n",
    "                break\n",
    "    return out"
   ]
  },
  {
   "cell_type": "code",
   "execution_count": 15,
   "metadata": {},
   "outputs": [],
   "source": [
    "idxes = {}\n",
    "for i, c in enumerate(data[0]):\n",
    "    idxes[c] = i\n",
    "    \n",
    "def lkup(c):\n",
    "    return idxes[c]"
   ]
  },
  {
   "cell_type": "code",
   "execution_count": 18,
   "metadata": {},
   "outputs": [],
   "source": [
    "def showrow1(row):\n",
    "    print(row[lkup(\"ID_TEST\")], row[lkup(\"PURPOSE\")])\n",
    "    print()"
   ]
  },
  {
   "cell_type": "code",
   "execution_count": 54,
   "metadata": {
    "collapsed": true
   },
   "outputs": [
    {
     "name": "stdout",
     "output_type": "stream",
     "text": [
      "21.0 confirm that putting agitation in pulse and then lookup mode, and temperature, do, ph, and filter oven in broken sensor mode, results in their respective dashboard and advanced buttons saying \"broken\"\n",
      "\n",
      "26.0 confirm that when the pv is between the process alarm low and low low limits, text in the buttons and boxes in the dashboard and advanced view menu are formatted correctly\n",
      "\n",
      "38.0 confirm dashboard and advanced view menu indicate that gases will not flow if pressure pv is above safety \"max pressure (psi)\" setting\n",
      "\n",
      "2223.0 confirm the controller outputs displayed in the advanced view menu are correct, for both versions of the web ui (and for both air and mag models)\n",
      "\n",
      "2544.0 confirm the gas flows displayed in the advanced view column are correct\n",
      "\n",
      "2742.0 confirm the door permission works correctly in the web ui\n",
      "\n",
      "2726.0 confirm user cannot start agitation from web ui when harvest status is \"in harvest mode\"\n",
      "\n",
      "2738.0 confirm user can change modes and set points (except for agitation) from the web ui when harvest mode is true\n",
      "\n",
      "2727.0 confirm interlocks are enabled during ramp down\n",
      "\n",
      "2728.0 confirm interlocks are enabled while waiting for magnet pass\n",
      "\n",
      "2729.0 confirm interlocks are enabled during wait time\n",
      "\n",
      "2986.0 verify correct activities that occur throughout harvest mode. \n",
      "\n",
      "2019.0 ensure minimum rpm value is functional.\n",
      "\n",
      "2407.0 confirm the auto max startup setting works properly\n",
      "\n",
      "2467.0 ensure minimum rpm value is functional.\n",
      "\n",
      "2474.0 confirm the auto max startup setting works properly\n",
      "\n",
      "2058.0 ensure deadband value is functional.\n",
      "\n",
      "2421.0 confirm process alarms are generated correctly, and that everything depending on them operates properly as well.\n",
      "\n",
      "3090.0 confirm agitation is interlocked on the mag 15 and up\n",
      "\n",
      "2518.0 confirm the door pressure safety input works\n",
      "\n",
      "1154.0 confirm setpoints are maintained after rio reboot\n",
      "\n",
      "3096.0 confirm that a recipe picks up where it left off if it lost power during a \"wait until\" step\n",
      "\n"
     ]
    }
   ],
   "source": [
    "for row in searchrow(searchrow(data2, \"interlock\"), \"agitation\"):\n",
    "    showrow1(row)"
   ]
  },
  {
   "cell_type": "code",
   "execution_count": 47,
   "metadata": {},
   "outputs": [],
   "source": [
    "for row in searchrow(data2, \"calpressure\"):\n",
    "    showrow1(row)"
   ]
  },
  {
   "cell_type": "code",
   "execution_count": 19,
   "metadata": {
    "collapsed": true
   },
   "outputs": [
    {
     "name": "stdout",
     "output_type": "stream",
     "text": [
      "268.0 confirm that clicking \"save\" (after properly entering new setpoint) results in screen a: dashboard/dora bar being displayed, with ph button displaying the new base setpoint and that ph is in manual mode\n",
      "\n",
      "300.0 confirm that clicking \"control pumps\" results in screen 6.4: control pumps menu being displayed\n",
      "\n",
      "301.0 confirm that clicking \"go back\" from screen 6.4: control pumps menu results in screen 6: actions tab being displayed\n",
      "\n",
      "982.0 confirm that clicking \"start\" from warning screen results in the recipe steps being displayed\n",
      "\n",
      "2813.0 verify user events are generated correctly in the hello ui\n",
      "\n",
      "1002.0 confirm that the base pump pull-down menu works properly\n",
      "\n",
      "1003.0 confirm that changing selected base pump drop-down option functions correctly\n",
      "\n",
      "1011.0 confirm that clicking 'up' arrows (while pumps are off) results in:\n",
      "- the media pump box rpm increasing by 25 rpm (for pbs 15, 80, 500)\n",
      "- addition pumps a and b speeds increasing from 'slow' to 'medium' (for pbs 3, 15, 80)\n",
      "- addition pumps a and b rpm increasing by 25 rpm (pbs 500)\n",
      "\n",
      "1012.0 confirm that clicking the white sliders results in the pumps turning on\n",
      "\n",
      "2182.0 pbs 500 pump controls work correctly\n",
      "\n",
      "1013.0 confirm that clicking 'up' arrows (while the pumps are on) results in:\n",
      "- the media pump box rpm increasing up to but not above 500 rpm (for pbs 15, 80, 500)\n",
      "- addition pumps a and b speeds increasing up to but not above 'fast' (for pbs 3, 15, 80)\n",
      "- addition pumps a and b speeds increasing up to but not above 500 rpm (for pbs 500)\n",
      "\n",
      "1014.0 confirm that clicking 'down' arrows (while the pumps are on) results in:\n",
      "- the media pump box rpm decreasing by 25 rpm (for pbs 15, 80, 500)\n",
      "- addition pumps a and b speeds decreasing from 'fast' to 'medium' (for pbs 3, 15, 80)\n",
      "- addition pumps a and b rpm decreasing by 25 rpm (pbs 500)\n",
      "\n",
      "1015.0 confirm that clicking the white sliders results in the pumps turning off\n",
      "\n",
      "1016.0 confirm that clicking 'down' arrows (while the pumps are off) results in:\n",
      "- the media pump box decreasing down to but not below 25 rpm (for pbs 15, 80, 500)\n",
      "- addition pumps a and b speeds decreasing from 'medium' to 'slow' but not below (for pbs 3, 15, 80)\n",
      "- addition pumps a and b speeds decreasing down to but not below 25 rpm (for pbs 500)\n",
      "\n",
      "2214.0 confirm the default pump speeds are correct\n",
      "\n",
      "2266.0 confirm the sample pump can be controlled from the web ui as expected\n",
      "\n",
      "1049.0 confirm that clicking \"start\" from warning overlay works properly\n",
      "\n",
      "1050.0 confirm that the user can take a sample while a recipe is running\n",
      "\n",
      "2747.0 confirm the pumps permission works correctly in the web ui\n",
      "\n",
      "2776.0 confirm the controls permission works correctly in the web ui.\n",
      "\n",
      "1150.0 tests for changing a mode and setpoint with ios safari on iphone\n",
      "\n",
      "2763.0 tests to see whether a base pump can be selected through ios safari on iphone\n",
      "\n",
      "2764.0 tests whether pump speed can be changed with ios safari on iphone\n",
      "\n",
      "2135.0 tests for web ui compatibility with latest version of google chrome\n",
      "\n",
      "1149.0 tests for web ui compatibility with ios safari on ipad\n",
      "\n",
      "2796.0 verify web client never makes http requests for in-use server calls\n",
      "\n",
      "2102.0 ensure presample 1 is functional\n",
      "\n",
      "2103.0 ensure presample 2 is functional\n",
      "\n",
      "2104.0 ensure sample time m is functional\n",
      "\n",
      "2105.0 ensure sample time b is functional\n",
      "\n",
      "2106.0 ensure drain 1 is functional\n",
      "\n",
      "2107.0 ensure drain 2 is functional\n",
      "\n",
      "2824.0 verify shell ui permissions are implemented correctly.\n",
      "\n",
      "2634.0 confirm the alarm works\n",
      "\n",
      "2635.0 confirm the alarm works\n",
      "\n",
      "2582.0 confirm the \"perfusion pump unavailable\" alarm gets triggered when appropriate\n",
      "\n",
      "2583.0 confirm the \"cell bleed pump unavailable\" alarm gets triggered when appropriate\n",
      "\n",
      "2254.0 confirm the software defaults to the manual sampling state\n",
      "\n",
      "2727.0 confirm interlocks are enabled during ramp down\n",
      "\n",
      "2728.0 confirm interlocks are enabled while waiting for magnet pass\n",
      "\n",
      "2729.0 confirm interlocks are enabled during wait time\n",
      "\n",
      "2537.0 confirm when making lots of changes to controls in the service ui, it causes it to freeze\n",
      "\n",
      "3020.0 verify the configure groups panel appears correctly. \n",
      "\n",
      "2094.0 ensure base on time is functional\n",
      "\n",
      "2095.0 ensure base max period is functional\n",
      "\n",
      "2151.0 ensure analog base speed (rpm) is functional\n",
      "\n",
      "2140.0 ensure web ui renders correctly for all models\n",
      "\n",
      "2368.0 ensure reverse cw and ccw is functional\n",
      "\n",
      "2566.0 confirm cell density p works correctly\n",
      "\n",
      "2616.0 confirm cell density i works correctly\n",
      "\n",
      "2617.0 confirm cell density auto (on/off) works\n",
      "\n",
      "2618.0 confirm the cell density output is coerced correctly\n",
      "\n",
      "2384.0 confirm the \"resume\" alarm functions properly\n",
      "\n",
      "2619.0 confirm the cell density tab alerts work properly\n",
      "\n",
      "2823.0 verify fuse and circuit alarms are triggered properly.\n",
      "\n",
      "2258.0 confirm recipes loop as they are supposed to\n",
      "\n",
      "2561.0 confirm the get last time button functions correctly\n",
      "\n",
      "2564.0 confirm user-entered data affects alarms and controller output, when appropriate\n",
      "\n",
      "2369.0 confirm agitation outputs on correct channels for pbs 3 mag 9641\n",
      "\n",
      "2370.0 confirm agitation outputs on correct channels for mag non-3l 9641\n",
      "\n",
      "2497.0 confirm the sample pump outputs function correctly\n",
      "\n",
      "2498.0 same as setup test\n",
      "\n",
      "2499.0 confirm the media pump outputs correctly\n",
      "\n",
      "2500.0 same as setup test\n",
      "\n",
      "2520.0 confirm addition pump outputs work correctly on the non-500l reactor\n",
      "\n",
      "2521.0 same as setup test\n",
      "\n",
      "2522.0 confirm addition pump outputs work correctly on the 500l reactor\n",
      "\n",
      "2523.0 same as setup test\n",
      "\n",
      "2545.0 confirm level tab appears as it should\n",
      "\n",
      "2546.0 confirm the level tab's pump selection control works correctly\n",
      "\n",
      "2752.0 confirm that after disconnecting and reconnecting the rio, the user is able to change modes etc. on the rio from the atom\n",
      "\n",
      "2547.0 confirm that a pump selected as the level pump can't be controlled via other pump menus\n",
      "\n",
      "2548.0 confirm selected level pump speed works as intended\n",
      "\n",
      "1152.0 confirm that control isn't interrupted during a reboot of the atom\n",
      "\n",
      "2549.0 confirm the level controller functions correctly\n",
      "\n",
      "2550.0 confirm interlocks operate on level controller\n",
      "\n",
      "1154.0 confirm setpoints are maintained after rio reboot\n",
      "\n",
      "1155.0 confirm setpoints are maintained after unplugging rio\n",
      "\n",
      "2666.0 confirm when a recipe is running and is interrupted by a power loss, it picks up at the beginning of the recipe\n",
      "\n",
      "3095.0 confirm that if the rio is rebooted during a \"wait\" step, when it comes back it waits the appropriate amount of time.\n",
      "\n",
      "3096.0 confirm that a recipe picks up where it left off if it lost power during a \"wait until\" step\n",
      "\n",
      "2627.0 confirm miscellaneous things about the metabolite tab's appearance\n",
      "\n",
      "2567.0 confirm all p values work correctly\n",
      "\n",
      "2620.0 confirm the cell density multiplication factors work correctly\n",
      "\n",
      "2621.0 confirm metabolite i values work correctly\n",
      "\n",
      "2624.0 confirm the output is calculated correctly\n",
      "\n",
      "2625.0 confirm the metabolite output is coerced correctly\n",
      "\n",
      "2626.0 confirm the metabolite tab alerts work\n",
      "\n",
      "2570.0 confirm the perfusion and cell bleed features are correctly displayed\n",
      "\n",
      "2571.0 confirm the tubing id selectors work correctly\n",
      "\n",
      "2572.0 confirm the max nominal flowrate indicators show the correct values, given different pump m and b values\n",
      "\n",
      "2573.0 confirm the \"use calibrated flowrate\" controls function correctly\n",
      "\n",
      "2574.0 confirm the pump cal factor inputs work correctly\n",
      "\n",
      "2575.0 confirm the manual override control works correctly\n",
      "\n",
      "2576.0 confirm the manual override (rpm) input works correctly\n",
      "\n",
      "2665.0 confirm running recipes in all 3 channels at once works\n",
      "\n",
      "2610.0 confirm scheduled metabolite max rate works correctly\n",
      "\n",
      "2611.0 confirm metabolite manual rate works correctly\n",
      "\n",
      "2612.0 confirm scheduled metabolite min rate works correctly\n",
      "\n",
      "2613.0 confirm scheduled cell density max rate works correctly\n",
      "\n",
      "2614.0 confirm cell density manual rate works correctly\n",
      "\n",
      "2615.0 confirm scheduled cell density min rate works correctly\n",
      "\n"
     ]
    }
   ],
   "source": [
    "for row in searchrow(data2, \"pump\"):\n",
    "    showrow1(row)"
   ]
  },
  {
   "cell_type": "code",
   "execution_count": 23,
   "metadata": {},
   "outputs": [],
   "source": [
    "wb, ws, cells, cr = xlobs()"
   ]
  },
  {
   "cell_type": "code",
   "execution_count": 31,
   "metadata": {},
   "outputs": [],
   "source": [
    "def acr(l):\n",
    "    return cr(\"%s2:%s131\"%(l,l))\n",
    "\n",
    "def acrv(l):\n",
    "    return [r[0] for r in acr(l).Value]\n",
    "\n",
    "with screen_lock(xl):\n",
    "    gop = acr(\"G\")\n",
    "    tested = acrv(\"C\")\n",
    "    ut = acrv(\"F\")\n",
    "    tn = acrv(\"H\")\n",
    "\n",
    "    for g, t, u, n in zip(gop, tested, ut, tn):\n",
    "        if (t and t in \"yY\") or (u and u in \"yY\"):\n",
    "            g.Value = \"Y\"\n",
    "        elif n and ((n == \"** CODE REVIEW\" or n == \"** SKIP\" or n == \"--\" or n[0] != \"*\")):\n",
    "            g.Value = \"Y\"\n",
    "        else:\n",
    "            g.Value = None"
   ]
  },
  {
   "cell_type": "code",
   "execution_count": 30,
   "metadata": {},
   "outputs": [
    {
     "data": {
      "text/plain": [
       "'** CODE REVIEW'"
      ]
     },
     "execution_count": 30,
     "metadata": {},
     "output_type": "execute_result"
    }
   ],
   "source": [
    "n"
   ]
  },
  {
   "cell_type": "code",
   "execution_count": null,
   "metadata": {},
   "outputs": [],
   "source": []
  }
 ],
 "metadata": {
  "kernelspec": {
   "display_name": "Python 3",
   "language": "python",
   "name": "python3"
  },
  "language_info": {
   "codemirror_mode": {
    "name": "ipython",
    "version": 3
   },
   "file_extension": ".py",
   "mimetype": "text/x-python",
   "name": "python",
   "nbconvert_exporter": "python",
   "pygments_lexer": "ipython3",
   "version": "3.5.2"
  }
 },
 "nbformat": 4,
 "nbformat_minor": 2
}
