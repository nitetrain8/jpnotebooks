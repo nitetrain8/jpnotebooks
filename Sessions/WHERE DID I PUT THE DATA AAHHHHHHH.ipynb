{
 "cells": [
  {
   "cell_type": "code",
   "execution_count": 1,
   "metadata": {},
   "outputs": [],
   "source": [
    "import os\n",
    "os.chdir(\"Z:\\\\Applications Engineering\\\\(4) Backup Bioreactor Databases\\\\\")"
   ]
  },
  {
   "cell_type": "code",
   "execution_count": 3,
   "metadata": {},
   "outputs": [
    {
     "name": "stdout",
     "output_type": "stream",
     "text": [
      ".\\000314P2201\\backup 180326\\LabVIEW_Data\\Bioreactor Recipes.cfg\n",
      ".\\000314P2201\\backup 180410\\LabVIEW_Data\\Bioreactor Recipes.cfg\n",
      ".\\000314P2201\\backup 180604\\LabVIEW_Data\\Bioreactor Recipes.cfg\n",
      ".\\000314P2201\\updated 180326\\LabVIEW_Data\\Bioreactor Recipes.cfg\n",
      ".\\00314P2201\\backup 180410\\LabVIEW_Data\\Bioreactor Recipes.cfg\n"
     ]
    }
   ],
   "source": [
    "for d, _, files in os.walk(\".\"):\n",
    "    for file in files:\n",
    "        ffp = os.path.join(d, file)\n",
    "        if file == \"Bioreactor Recipes.cfg\":\n",
    "            with open(ffp, 'r') as f:\n",
    "                lines = f.read().splitlines()\n",
    "            for line in lines:\n",
    "                if \"intelliaheat\" in line:\n",
    "                    print(ffp)"
   ]
  },
  {
   "cell_type": "code",
   "execution_count": 4,
   "metadata": {},
   "outputs": [],
   "source": [
    "import clipboard\n",
    "clipboard.copy(repr(clipboard.paste().splitlines()))"
   ]
  },
  {
   "cell_type": "code",
   "execution_count": 5,
   "metadata": {},
   "outputs": [
    {
     "name": "stdout",
     "output_type": "stream",
     "text": [
      "Bioreactor Recipes.cfg\n",
      "\n",
      "Func intelliaheat\n",
      "Set \"TempModeUser\" to Man\n",
      "Set \"TempHeatDutyUser(%)\" to 100\n",
      "Wait until \"TempPV(C)\" >= 33\n",
      "Set \"TempModeUser\" to Off\n",
      "Wait 5 seconds\n",
      "Set \"TempSP(C)\" to 37\n",
      "Set \"TempModeUser\" to Auto\n",
      "\n",
      "Bioreactor Recipes.cfg\n",
      "\n",
      "Func intelliaheat\n",
      "Set \"TempModeUser\" to Man\n",
      "Set \"TempHeatDutyUser(%)\" to 100\n",
      "Wait until \"TempPV(C)\" >= 33\n",
      "Set \"TempModeUser\" to Off\n",
      "Wait 5 seconds\n",
      "Set \"TempSP(C)\" to 37\n",
      "Set \"TempModeUser\" to Auto\n",
      "\n",
      "Bioreactor Recipes.cfg\n",
      "\n",
      "Func intelliaheat\n",
      "Set \"TempModeUser\" to Man\n",
      "Set \"TempHeatDutyUser(%)\" to 100\n",
      "Wait until \"TempPV(C)\" >= 33\n",
      "Set \"TempModeUser\" to Off\n",
      "Wait 5 seconds\n",
      "Set \"TempSP(C)\" to 37\n",
      "Set \"TempModeUser\" to Auto\n",
      "\n",
      "Bioreactor Recipes.cfg\n",
      "\n",
      "Func intelliaheat\n",
      "Set \"TempModeUser\" to Man\n",
      "Set \"TempHeatDutyUser(%)\" to 100\n",
      "Wait until \"TempPV(C)\" >= 33\n",
      "Set \"TempModeUser\" to Off\n",
      "Wait 5 seconds\n",
      "Set \"TempSP(C)\" to 37\n",
      "Set \"TempModeUser\" to Auto\n",
      "\n",
      "Bioreactor Recipes.cfg\n",
      "\n",
      "Func intelliaheat\n",
      "Set \"TempModeUser\" to Man\n",
      "Set \"TempHeatDutyUser(%)\" to 100\n",
      "Wait until \"TempPV(C)\" >= 33\n",
      "Set \"TempModeUser\" to Off\n",
      "Wait 5 seconds\n",
      "Set \"TempSP(C)\" to 37\n",
      "Set \"TempModeUser\" to Auto\n",
      "\n"
     ]
    }
   ],
   "source": [
    "files_with_intellia = ['.\\\\000314P2201\\\\backup 180326\\\\LabVIEW_Data\\\\Bioreactor Recipes.cfg', \n",
    "                       '.\\\\000314P2201\\\\backup 180410\\\\LabVIEW_Data\\\\Bioreactor Recipes.cfg', \n",
    "                       '.\\\\000314P2201\\\\backup 180604\\\\LabVIEW_Data\\\\Bioreactor Recipes.cfg',\n",
    "                       '.\\\\000314P2201\\\\updated 180326\\\\LabVIEW_Data\\\\Bioreactor Recipes.cfg', \n",
    "                       '.\\\\00314P2201\\\\backup 180410\\\\LabVIEW_Data\\\\Bioreactor Recipes.cfg'\n",
    "]\n",
    "\n",
    "def showintellia(lines):\n",
    "    it = iter(lines)\n",
    "    while True:\n",
    "        try:\n",
    "            line = next(it)\n",
    "        except StopIteration:\n",
    "            return\n",
    "        if \"intelliaheat\" in line:\n",
    "            print(line)\n",
    "            while True:\n",
    "                try:\n",
    "                    line = next(it)\n",
    "                except StopIteration:\n",
    "                    return\n",
    "                if not line.strip():\n",
    "                    return\n",
    "                print(line)\n",
    "            \n",
    "\n",
    "for file in files_with_intellia:\n",
    "    with open(file, 'r') as f:\n",
    "        lines = f.read().splitlines()\n",
    "    print(os.path.basename(file))\n",
    "    print()\n",
    "    showintellia(lines)\n",
    "    print()"
   ]
  },
  {
   "cell_type": "code",
   "execution_count": null,
   "metadata": {},
   "outputs": [],
   "source": []
  }
 ],
 "metadata": {
  "kernelspec": {
   "display_name": "Python 3",
   "language": "python",
   "name": "python3"
  },
  "language_info": {
   "codemirror_mode": {
    "name": "ipython",
    "version": 3
   },
   "file_extension": ".py",
   "mimetype": "text/x-python",
   "name": "python",
   "nbconvert_exporter": "python",
   "pygments_lexer": "ipython3",
   "version": "3.5.2"
  }
 },
 "nbformat": 4,
 "nbformat_minor": 2
}
