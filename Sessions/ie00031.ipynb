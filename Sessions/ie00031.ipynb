{
 "cells": [
  {
   "cell_type": "code",
   "execution_count": 1,
   "metadata": {},
   "outputs": [],
   "source": [
    "from officelib.xllib import *\n",
    "from officelib.const import xlconst as xlc\n",
    "import os"
   ]
  },
  {
   "cell_type": "code",
   "execution_count": 151,
   "metadata": {},
   "outputs": [],
   "source": [
    "files_80L = [\n",
    "    ('IE00031.1.csv', 8.8),\n",
    "    ('IE00031.2.csv', 10),\n",
    "    ('IE00031.3.csv', 11)\n",
    "]\n",
    "\n",
    "fdir = 'C:\\\\Users\\\\Nathan\\\\Desktop\\\\IE00031 Raw'\n",
    "\n",
    "files_80L = [(os.path.join(fdir, f), pc) for f, pc in files_80L]\n",
    "file_3L = os.path.join(fdir, \"3L_data2.csv\")"
   ]
  },
  {
   "cell_type": "code",
   "execution_count": 152,
   "metadata": {},
   "outputs": [],
   "source": [
    "def find(ws, v):\n",
    "    # the topleft corner isn't searched by Excel. Apparently this is by design. \n",
    "    # https://docs.microsoft.com/en-us/office/vba/api/excel.range.find\n",
    "    c1 = ws.Cells(1,1)\n",
    "    if c1.Value == v:\n",
    "        return c1\n",
    "    return ws.Cells.Find(What=v, SearchOrder=xlc.xlByRows)\n",
    "\n",
    "def data_corners(ws, v):\n",
    "    cr = ws.Cells.Range\n",
    "    c = find(ws, v)\n",
    "    topleft = c.Offset(2, 1)\n",
    "    botleft = topleft.End(xlc.xlDown)\n",
    "    topright = topleft.Offset(1, 2)\n",
    "    botright = botleft.Offset(1, 2)\n",
    "    return topleft, botleft, topright, botright\n",
    "\n",
    "def data_range(ws, v):\n",
    "    c1, c2, c3, c4 = data_corners(ws, v)\n",
    "    cr = ws.Cells.Range\n",
    "    return cr(c1, c2), cr(c3, c4)\n",
    "\n",
    "def data(ws, v):\n",
    "    a,b = data_range(ws, v)\n",
    "    return ws.Cells.Range(a,b).Value\n",
    "\n",
    "def plot(ws, vars, title):\n",
    "    c = CreateChart(ws, xlc.xlXYScatterLinesNoMarkers, 20, 20, 845, 463)\n",
    "    fd = None\n",
    "    for v in vars:\n",
    "        xr, yr = data_range(ws, v)\n",
    "        s = CreateDataSeries(c, xr, yr, xr.Cells(1,1).Offset(0, 1).Value)\n",
    "        s.MarkerSize = 4\n",
    "        x = xr[1].Value2  # gets datetime as float\n",
    "        if fd is None or x < fd:\n",
    "            fd = x\n",
    "        \n",
    "    FormatChart(c, None, title, \"Time\", \"Temp(C)\", None, True)    \n",
    "    c.Axes(xlc.xlCategory).TickLabels.Orientation = 10\n",
    "    c.SeriesCollection(2).AxisGroup = xlc.xlSecondary\n",
    "    \n",
    "    xax = c.Axes(xlc.xlCategory)\n",
    "    yax = c.Axes(xlc.xlValue, xlc.xlPrimary)\n",
    "    yax2 = c.Axes(xlc.xlValue, xlc.xlSecondary)\n",
    "    \n",
    "    xax.MinimumScale = fd\n",
    "    xax.MaximumScale = fd + (48 * 10) / (60 * 24)\n",
    "    \n",
    "    yax.MinimumScale = 38 - 3\n",
    "    yax.MaximumScale = 38 + 3\n",
    "    \n",
    "    yax2.HasTitle = True\n",
    "    yax2.AxisTitle.Text = \"Heater Temp(C)\"\n",
    "    yax2.MinimumScale = 40 - 3\n",
    "    yax2.MaximumScale = 40 + 3\n",
    "\n",
    "def batch_name(ws):\n",
    "    return find(ws, \"Batch Name\").Offset(2, 1).Value\n",
    "\n",
    "def paste(ws, topleft, data):\n",
    "    cr = ws.Cells.Range\n",
    "    br = topleft.Offset(len(data), len(data[0]))\n",
    "    cr(topleft, br).Value = data\n",
    "    \n",
    "def foreach_chart(xl, func):\n",
    "    for wb in xl.Workbooks:\n",
    "        ws = wb.Worksheets(1)\n",
    "        for co in ws.ChartObjects():\n",
    "            func(co.Chart)\n",
    "\n",
    "def last_less(it, v):\n",
    "    for i, (x, y) in enumerate(it):\n",
    "        if x >= v:\n",
    "            return max(0, i - 1)\n",
    "    return i\n",
    "\n",
    "def first_greater(it, v):\n",
    "    return next((i for i, (x,y) in enumerate(it) if x > v), len(it))\n",
    "\n",
    "def data_by_ts(data, first, last):\n",
    "    i1 = first_greater(data, first)\n",
    "    i2 = last_less(data, last)\n",
    "    return data[i1:i2]"
   ]
  },
  {
   "cell_type": "code",
   "execution_count": 154,
   "metadata": {},
   "outputs": [],
   "source": [
    "xl = Excel()\n",
    "with screen_lock(xl):\n",
    "    wb3L = xl.Workbooks.Open(file_3L)\n",
    "    ws3L = wb3L.Worksheets(1)\n",
    "    heater_data = data(ws3L, \"FilterOvenPV(C)\")\n",
    "    water_data = data(ws3L, \"TempPV(C)\")\n",
    "    wb3L.Close()\n",
    "\n",
    "    for fp, pc in files_80L:\n",
    "        wb = xl.Workbooks.Open(fp)\n",
    "        ws = wb.Worksheets(1)\n",
    "        cells = ws.Cells\n",
    "        tl, bl, tr, br = data_corners(ws, \"TempPV(C)\")\n",
    "        first_timestamp = tl.Value\n",
    "        last_timestamp = bl.Value\n",
    "\n",
    "        hdata = data_by_ts(heater_data, first_timestamp, last_timestamp)\n",
    "        wdata = data_by_ts(water_data, first_timestamp, last_timestamp)\n",
    "\n",
    "        # Insert data, using the \"Batch Name\" cell as reference on where to insert\n",
    "        bncell = cells.Find(\"Batch Name\", SearchOrder=xlc.xlByRows)\n",
    "        bnc = bncell.Column\n",
    "        bnr = bncell.Row\n",
    "        bncol = bncell.EntireColumn\n",
    "        for i in range(6):\n",
    "            bncol.Insert()\n",
    "\n",
    "        paste(ws, cells(bnr + 1, bnc), hdata)\n",
    "        cells.Range(cells(bnr, bnc), cells(bnr, bnc+1)).Value = [('Heater Temp(C)', 'Heater Temp(c)')]\n",
    "\n",
    "        bnc += 3\n",
    "        paste(ws, cells(bnr + 1, bnc), wdata)\n",
    "        cells.Range(cells(bnr, bnc), cells(bnr, bnc+1)).Value = [('Water Temp(C)', 'Water Temp(c)')]\n",
    "    \n",
    "        vars = [\n",
    "            \"TempPV(C)\",\n",
    "            \"Heater Temp(C)\",\n",
    "            \"Water Temp(C)\"\n",
    "        ]\n",
    "        title = os.path.splitext(os.path.basename(fp))[0]\n",
    "        plot(ws, vars, \"%s - %s%% Duty\" % (title, pc))\n",
    "        wb.SaveAs(fp.replace(\".csv\", \".xlsx\"), FileFormat=xlc.xlOpenXMLWorkbook)\n",
    "    "
   ]
  },
  {
   "cell_type": "code",
   "execution_count": 141,
   "metadata": {},
   "outputs": [],
   "source": [
    "def mkmid(mid, num=xlc.xlSecondary, delta=1.5, c=None):\n",
    "    if c is None:\n",
    "        c = xl.Selection.Parent\n",
    "        if c.__class__.__name__ != \"_Chart\":\n",
    "            c = c.Parent\n",
    "        if c.__class__.__name__ != \"_Chart\":\n",
    "            print(\"OOPS\", c.__class__.__name__)\n",
    "            return\n",
    "    hi = mid + delta\n",
    "    lo = mid - delta\n",
    "    y2 = c.Axes(xlc.xlValue, num)\n",
    "    y2.MinimumScale = lo\n",
    "    y2.MaximumScale = hi\n",
    "#mkmid(40)"
   ]
  },
  {
   "cell_type": "code",
   "execution_count": 131,
   "metadata": {},
   "outputs": [],
   "source": [
    "mkmid(38, xlc.xlPrimary, 3)"
   ]
  },
  {
   "cell_type": "code",
   "execution_count": 143,
   "metadata": {},
   "outputs": [],
   "source": [
    "mkmid(40, xlc.xlSecondary, 3)"
   ]
  },
  {
   "cell_type": "code",
   "execution_count": 145,
   "metadata": {},
   "outputs": [],
   "source": [
    "foreach_chart(xl, lambda c: mkmid(38, xlc.xlPrimary, 3, c))\n",
    "foreach_chart(xl, lambda c: mkmid(40, xlc.xlSecondary, 3, c))"
   ]
  },
  {
   "cell_type": "code",
   "execution_count": null,
   "metadata": {},
   "outputs": [],
   "source": []
  },
  {
   "cell_type": "code",
   "execution_count": null,
   "metadata": {},
   "outputs": [],
   "source": []
  },
  {
   "cell_type": "code",
   "execution_count": 107,
   "metadata": {},
   "outputs": [],
   "source": [
    "def add_secondary(c):\n",
    "    c.SeriesCollection(2).AxisGroup = xlc.xlSecondary\n",
    "    y2 = c.Axes(xlc.xlValue, xlc.xlSecondary)\n",
    "    y2.HasTitle = True\n",
    "    y2.AxisTitle.Text = \"Heater Temp(C)\"\n",
    "    y2.MinimumScale = 39.5\n",
    "    y2.MaximumScale = 42.5\n",
    "foreach_chart(xl, add_secondary)"
   ]
  },
  {
   "cell_type": "code",
   "execution_count": 70,
   "metadata": {},
   "outputs": [],
   "source": [
    "def fix_series_size(c):\n",
    "    for s in c.SeriesCollection():\n",
    "        s.MarkerSize = 4\n",
    "foreach_chart(xl, fix_series_size)"
   ]
  },
  {
   "cell_type": "code",
   "execution_count": 75,
   "metadata": {},
   "outputs": [],
   "source": [
    "def charttype(c):\n",
    "    c.ChartType = xlc.xlXYScatterLinesNoMarkers\n",
    "foreach_chart(xl, charttype)"
   ]
  },
  {
   "cell_type": "code",
   "execution_count": 156,
   "metadata": {},
   "outputs": [],
   "source": [
    "def printout(c):\n",
    "    c.PrintOut()\n",
    "    \n",
    "foreach_chart(xl, printout)"
   ]
  },
  {
   "cell_type": "code",
   "execution_count": 8,
   "metadata": {},
   "outputs": [],
   "source": [
    "with screen_lock(xl):\n",
    "    for wb in xl.Workbooks:\n",
    "        ws = wb.Worksheets(1)\n",
    "        for co in ws.ChartObjects():\n",
    "            co.Chart.Location(xlc.xlLocationAsNewSheet)\n",
    "        for c in wb.Charts:\n",
    "            c.PrintOut()"
   ]
  },
  {
   "cell_type": "code",
   "execution_count": null,
   "metadata": {},
   "outputs": [],
   "source": []
  }
 ],
 "metadata": {
  "kernelspec": {
   "display_name": "Python 3",
   "language": "python",
   "name": "python3"
  },
  "language_info": {
   "codemirror_mode": {
    "name": "ipython",
    "version": 3
   },
   "file_extension": ".py",
   "mimetype": "text/x-python",
   "name": "python",
   "nbconvert_exporter": "python",
   "pygments_lexer": "ipython3",
   "version": "3.5.2"
  }
 },
 "nbformat": 4,
 "nbformat_minor": 2
}
