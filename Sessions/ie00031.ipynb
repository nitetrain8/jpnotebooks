{
 "cells": [
  {
   "cell_type": "code",
   "execution_count": 3,
   "metadata": {},
   "outputs": [],
   "source": [
    "from officelib.xllib import *\n",
    "from officelib.const import xlconst as xlc\n",
    "import os"
   ]
  },
  {
   "cell_type": "code",
   "execution_count": 7,
   "metadata": {},
   "outputs": [],
   "source": [
    "files_80L = [\n",
    "    'IE00031.1.csv',\n",
    "    'IE00031.2.csv',\n",
    "    'IE00031.3.csv'\n",
    "]\n",
    "\n",
    "fdir = 'C:\\\\Users\\\\Nathan\\\\Desktop\\\\IE00031 Raw'\n",
    "\n",
    "files_80L = [os.path.join(fdir, f) for f in files_80L]\n",
    "file_3L = os.path.join(fdir, \"3L_data.csv\")"
   ]
  },
  {
   "cell_type": "code",
   "execution_count": 87,
   "metadata": {},
   "outputs": [],
   "source": [
    "def find(ws, v):\n",
    "    # the topleft corner isn't searched by Excel. Apparently this is by design. \n",
    "    # https://docs.microsoft.com/en-us/office/vba/api/excel.range.find\n",
    "    c1 = ws.Cells(1,1)\n",
    "    if c1.Value == v:\n",
    "        return c1\n",
    "    return ws.Cells.Find(What=v, SearchOrder=xlc.xlByRows)\n",
    "\n",
    "def data_corners(ws, v):\n",
    "    cr = ws.Cells.Range\n",
    "    c = find(ws, v)\n",
    "    topleft = c.Offset(2, 1)\n",
    "    botleft = topleft.End(xlc.xlDown)\n",
    "    topright = topleft.Offset(1, 2)\n",
    "    botright = botleft.Offset(1, 2)\n",
    "    return topleft, botleft, topright, botright\n",
    "\n",
    "def data_range(ws, v):\n",
    "    c1, c2, c3, c4 = data_corners(ws, v)\n",
    "    cr = ws.Cells.Range\n",
    "    return cr(c1, c2), cr(c3, c4)\n",
    "\n",
    "def data(ws, v):\n",
    "    a,b = data_range(ws, v)\n",
    "    return ws.Cells.Range(a,b).Value\n",
    "\n",
    "def plot(ws, v, title):\n",
    "    c = CreateChart(ws)\n",
    "    xr, yr = data_range(ws, v)\n",
    "    CreateDataSeries(c, xr, yr)\n",
    "    FormatChart(c, None, title, \"Time\", v, None, False)\n",
    "    c.Parent.Height = 291\n",
    "    c.Parent.Width = 665\n",
    "    c.Axes(xlc.xlCategory).TickLabels.Orientation = 10\n",
    "    return c\n",
    "\n",
    "def plot(ws, vars, title):\n",
    "    c = CreateChart(ws)\n",
    "    for v in vars:\n",
    "        xr, yr = data_range(ws, v)\n",
    "        CreateDataSeries(c, xr, yr)\n",
    "    FormatChart(c, None, title, \"Time\", \"Temp(C)\", None, False)    \n",
    "    c.Axes(xlc.xlCategory).TickLabels.Orientation = 10\n",
    "\n",
    "def batch_name(ws):\n",
    "    return find(ws, \"Batch Name\").Offset(2, 1).Value\n",
    "\n",
    "def paste(ws, topleft, data):\n",
    "    cr = ws.Cells.Range\n",
    "    br = topleft.Offset(len(data), len(data[0]))\n",
    "    cr(topleft, br).Value = data\n",
    "    "
   ]
  },
  {
   "cell_type": "code",
   "execution_count": 88,
   "metadata": {},
   "outputs": [],
   "source": [
    "def last_less(it, v):\n",
    "    idx = first_greater(it, v)\n",
    "    return max(idx - 2, 0)\n",
    "\n",
    "def first_greater(it, v):\n",
    "    idx = next((i for i, (x,y) in enumerate(it) if x > v), len(it))\n",
    "    return idx"
   ]
  },
  {
   "cell_type": "code",
   "execution_count": 89,
   "metadata": {},
   "outputs": [],
   "source": [
    "def data_by_ts(data, first, last):\n",
    "    i1 = first_greater(data, first)\n",
    "    i2 = last_less(data, last)\n",
    "    return data[i1:i2]"
   ]
  },
  {
   "cell_type": "code",
   "execution_count": 91,
   "metadata": {},
   "outputs": [],
   "source": [
    "xl = Excel()\n",
    "with screen_lock(xl):\n",
    "    wb3L = xl.Workbooks.Open(file_3L)\n",
    "    ws3L = wb3L.Worksheets(1)\n",
    "    heater_data = data(ws3L, \"FilterOvenPV(C)\")\n",
    "    water_data = data(ws3L, \"TempPV(C)\")\n",
    "\n",
    "    for fp in files_80L:\n",
    "        wb = xl.Workbooks.Open(fp)\n",
    "        ws = wb.Worksheets(1)\n",
    "        cells = ws.Cells\n",
    "        tl, bl, tr, br = data_corners(ws, \"TempPV(C)\")\n",
    "        first_timestamp = tl.Value\n",
    "        last_timestamp = bl.Value\n",
    "\n",
    "        hdata = data_by_ts(heater_data, first_timestamp, last_timestamp)\n",
    "        wdata = data_by_ts(water_data, first_timestamp, last_timestamp)\n",
    "\n",
    "        # Insert data, using the \"Batch Name\" cell as reference on where to insert\n",
    "        bncell = cells.Find(\"Batch Name\", SearchOrder=xlc.xlByRows)\n",
    "        bnc = bncell.Column\n",
    "        bnr = bncell.Row\n",
    "        bncol = bncell.EntireColumn\n",
    "        for i in range(6):\n",
    "            bncol.Insert()\n",
    "\n",
    "        paste(ws, cells(bnr + 1, bnc), hdata)\n",
    "        cells.Range(cells(bnr, bnc), cells(bnr, bnc+1)).Value = [('Heater Temp(C)', 'Heater Temp(c)')]\n",
    "\n",
    "        bnc += 3\n",
    "        paste(ws, cells(bnr + 1, bnc), wdata)\n",
    "        cells.Range(cells(bnr, bnc), cells(bnr, bnc+1)).Value = [('Water Temp(C)', 'Water Temp(c)')]\n",
    "    \n",
    "        vars = [\n",
    "            \"TempPV(C)\",\n",
    "            \"Heater Temp(C)\",\n",
    "            \"Water Temp(C)\"\n",
    "        ]\n",
    "        title = os.path.splitext(os.path.basename(fp))[0]\n",
    "        plot(ws, vars, title)\n",
    "    "
   ]
  },
  {
   "cell_type": "code",
   "execution_count": null,
   "metadata": {},
   "outputs": [],
   "source": []
  },
  {
   "cell_type": "code",
   "execution_count": 4,
   "metadata": {},
   "outputs": [],
   "source": [
    "xl = Excel()\n",
    "with screen_lock(xl):\n",
    "    for f in files:\n",
    "        wb = xl.Workbooks.Open(f)\n",
    "        ws = wb.Worksheets(1)\n",
    "        bn = batch_name(ws)\n",
    "        wb.Name = bn\n",
    "        \n",
    "        ttitle = \"%s - %s\" \n",
    "        \n",
    "        plot(ws, \"DOPV(%)\", )\n",
    "        plot(ws, \"pHPV\", ttitle % (\"pHPV\", bn))\n",
    "        wb.SaveAs(\"D:\\\\%s.xlsx\"%bn)"
   ]
  },
  {
   "cell_type": "code",
   "execution_count": 8,
   "metadata": {},
   "outputs": [],
   "source": [
    "with screen_lock(xl):\n",
    "    for wb in xl.Workbooks:\n",
    "        ws = wb.Worksheets(1)\n",
    "        for co in ws.ChartObjects():\n",
    "            co.Chart.Location(xlc.xlLocationAsNewSheet)\n",
    "        for c in wb.Charts:\n",
    "            c.PrintOut()"
   ]
  },
  {
   "cell_type": "code",
   "execution_count": null,
   "metadata": {},
   "outputs": [],
   "source": []
  }
 ],
 "metadata": {
  "kernelspec": {
   "display_name": "Python 3",
   "language": "python",
   "name": "python3"
  },
  "language_info": {
   "codemirror_mode": {
    "name": "ipython",
    "version": 3
   },
   "file_extension": ".py",
   "mimetype": "text/x-python",
   "name": "python",
   "nbconvert_exporter": "python",
   "pygments_lexer": "ipython3",
   "version": "3.5.2"
  }
 },
 "nbformat": 4,
 "nbformat_minor": 2
}
