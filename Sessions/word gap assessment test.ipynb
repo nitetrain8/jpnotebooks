{
 "cells": [
  {
   "cell_type": "code",
   "execution_count": 1,
   "metadata": {},
   "outputs": [
    {
     "ename": "com_error",
     "evalue": "(-2147352567, 'Exception occurred.', (0, 'Microsoft Word', 'This command is not available because no document is open.', 'C:\\\\Program Files (x86)\\\\Microsoft Office\\\\Office12\\\\1033\\\\WDMAIN11.CHM', 37016, -2146824040), None)",
     "output_type": "error",
     "traceback": [
      "\u001b[1;31m---------------------------------------------------------------------------\u001b[0m",
      "\u001b[1;31mcom_error\u001b[0m                                 Traceback (most recent call last)",
      "\u001b[1;32m<ipython-input-1-b866eafa3127>\u001b[0m in \u001b[0;36m<module>\u001b[1;34m()\u001b[0m\n\u001b[0;32m      1\u001b[0m \u001b[1;32mfrom\u001b[0m \u001b[0mofficelib\u001b[0m\u001b[1;33m.\u001b[0m\u001b[0mwordlib\u001b[0m \u001b[1;32mimport\u001b[0m \u001b[1;33m*\u001b[0m\u001b[1;33m\u001b[0m\u001b[0m\n\u001b[0;32m      2\u001b[0m \u001b[0mw\u001b[0m \u001b[1;33m=\u001b[0m \u001b[0mWord\u001b[0m\u001b[1;33m(\u001b[0m\u001b[1;33m)\u001b[0m\u001b[1;33m\u001b[0m\u001b[0m\n\u001b[1;32m----> 3\u001b[1;33m \u001b[0md\u001b[0m \u001b[1;33m=\u001b[0m \u001b[0mw\u001b[0m\u001b[1;33m.\u001b[0m\u001b[0mActiveDocument\u001b[0m\u001b[1;33m\u001b[0m\u001b[0m\n\u001b[0m",
      "\u001b[1;32mc:\\program files\\python35\\lib\\site-packages\\win32com\\client\\__init__.py\u001b[0m in \u001b[0;36m__getattr__\u001b[1;34m(self, attr)\u001b[0m\n\u001b[0;32m    472\u001b[0m                 \u001b[1;32mif\u001b[0m \u001b[0margs\u001b[0m \u001b[1;32mis\u001b[0m \u001b[1;32mNone\u001b[0m\u001b[1;33m:\u001b[0m\u001b[1;33m\u001b[0m\u001b[0m\n\u001b[0;32m    473\u001b[0m                         \u001b[1;32mraise\u001b[0m \u001b[0mAttributeError\u001b[0m\u001b[1;33m(\u001b[0m\u001b[1;34m\"'%s' object has no attribute '%s'\"\u001b[0m \u001b[1;33m%\u001b[0m \u001b[1;33m(\u001b[0m\u001b[0mrepr\u001b[0m\u001b[1;33m(\u001b[0m\u001b[0mself\u001b[0m\u001b[1;33m)\u001b[0m\u001b[1;33m,\u001b[0m \u001b[0mattr\u001b[0m\u001b[1;33m)\u001b[0m\u001b[1;33m)\u001b[0m\u001b[1;33m\u001b[0m\u001b[0m\n\u001b[1;32m--> 474\u001b[1;33m                 \u001b[1;32mreturn\u001b[0m \u001b[0mself\u001b[0m\u001b[1;33m.\u001b[0m\u001b[0m_ApplyTypes_\u001b[0m\u001b[1;33m(\u001b[0m\u001b[1;33m*\u001b[0m\u001b[0margs\u001b[0m\u001b[1;33m)\u001b[0m\u001b[1;33m\u001b[0m\u001b[0m\n\u001b[0m\u001b[0;32m    475\u001b[0m \u001b[1;33m\u001b[0m\u001b[0m\n\u001b[0;32m    476\u001b[0m         \u001b[1;32mdef\u001b[0m \u001b[0m__setattr__\u001b[0m\u001b[1;33m(\u001b[0m\u001b[0mself\u001b[0m\u001b[1;33m,\u001b[0m \u001b[0mattr\u001b[0m\u001b[1;33m,\u001b[0m \u001b[0mvalue\u001b[0m\u001b[1;33m)\u001b[0m\u001b[1;33m:\u001b[0m\u001b[1;33m\u001b[0m\u001b[0m\n",
      "\u001b[1;32mc:\\program files\\python35\\lib\\site-packages\\win32com\\client\\__init__.py\u001b[0m in \u001b[0;36m_ApplyTypes_\u001b[1;34m(self, dispid, wFlags, retType, argTypes, user, resultCLSID, *args)\u001b[0m\n\u001b[0;32m    465\u001b[0m         \u001b[1;32mdef\u001b[0m \u001b[0m_ApplyTypes_\u001b[0m\u001b[1;33m(\u001b[0m\u001b[0mself\u001b[0m\u001b[1;33m,\u001b[0m \u001b[0mdispid\u001b[0m\u001b[1;33m,\u001b[0m \u001b[0mwFlags\u001b[0m\u001b[1;33m,\u001b[0m \u001b[0mretType\u001b[0m\u001b[1;33m,\u001b[0m \u001b[0margTypes\u001b[0m\u001b[1;33m,\u001b[0m \u001b[0muser\u001b[0m\u001b[1;33m,\u001b[0m \u001b[0mresultCLSID\u001b[0m\u001b[1;33m,\u001b[0m \u001b[1;33m*\u001b[0m\u001b[0margs\u001b[0m\u001b[1;33m)\u001b[0m\u001b[1;33m:\u001b[0m\u001b[1;33m\u001b[0m\u001b[0m\n\u001b[0;32m    466\u001b[0m \t\treturn self._get_good_object_(\n\u001b[1;32m--> 467\u001b[1;33m                         \u001b[0mself\u001b[0m\u001b[1;33m.\u001b[0m\u001b[0m_oleobj_\u001b[0m\u001b[1;33m.\u001b[0m\u001b[0mInvokeTypes\u001b[0m\u001b[1;33m(\u001b[0m\u001b[0mdispid\u001b[0m\u001b[1;33m,\u001b[0m \u001b[1;36m0\u001b[0m\u001b[1;33m,\u001b[0m \u001b[0mwFlags\u001b[0m\u001b[1;33m,\u001b[0m \u001b[0mretType\u001b[0m\u001b[1;33m,\u001b[0m \u001b[0margTypes\u001b[0m\u001b[1;33m,\u001b[0m \u001b[1;33m*\u001b[0m\u001b[0margs\u001b[0m\u001b[1;33m)\u001b[0m\u001b[1;33m,\u001b[0m\u001b[1;33m\u001b[0m\u001b[0m\n\u001b[0m\u001b[0;32m    468\u001b[0m \t\t\tuser, resultCLSID)\n\u001b[0;32m    469\u001b[0m \u001b[1;33m\u001b[0m\u001b[0m\n",
      "\u001b[1;31mcom_error\u001b[0m: (-2147352567, 'Exception occurred.', (0, 'Microsoft Word', 'This command is not available because no document is open.', 'C:\\\\Program Files (x86)\\\\Microsoft Office\\\\Office12\\\\1033\\\\WDMAIN11.CHM', 37016, -2146824040), None)"
     ]
    }
   ],
   "source": [
    "from officelib.wordlib import *\n",
    "w = Word()\n",
    "# d = w.ActiveDocument"
   ]
  },
  {
   "cell_type": "code",
   "execution_count": 2,
   "metadata": {},
   "outputs": [],
   "source": [
    "d = w.ActiveDocument"
   ]
  },
  {
   "cell_type": "code",
   "execution_count": 19,
   "metadata": {},
   "outputs": [
    {
     "name": "stdout",
     "output_type": "stream",
     "text": [
      "The procedural controls do not address:\n",
      "Bug fixes do not require requirement analysis to determine whether a specification requirement needs to be updated.\n",
      "Coding can be performed without an approved requirement, particularly if the code changes are based upon an issue. SOP IQ00113, Rev B: Software Development Procedure, §3.14 does not require specification requirements to be approved prior to coding.\n",
      "\u0007he system cannot print out compliant reports or data for inspection (e.g. audit trails, manufacturing data, system parameters). The system can export .csv files for viewing in Microsoft Excel or the database can be copied and viewed using Microsoft Access. Either process for generating human readable reports allows the opportunity to edit data without an audit trail or a clear chain of custody.\n",
      "\u0007he user manual does not describe how to restore the database. \n",
      "The database restoration process requires the administrator to disable McAfee’s write protection functionality and use Windows Explorer to copy the backup to the system. Windows Explorer does not verify that an exact copy was restored.\n",
      "When backups are performed, the system only records backup failures in the audit trail. It does not record successful backups. Therefore, there is no history of successful backups occurring. A review of backup history can only determine information about backup failures.\n",
      "LabView functionality is used to copy the database to make backup copies. However, LabView does not verify an exact copy was made.\n",
      "The system does not have the ability to backup configuration files.\n",
      "Access does not provide sufficient access security and has limited scalability. Examples of security vulnerabilities, access stores the password for linked table in plain text format, Access no longer supports creating and managing user accounts (therefore, any user who has rights to get to the file has rights to use anything in the database).\n",
      "Passwords are not sufficiently complex. Currently the system only allows passwords that are five digits (0-9).\n",
      "The baseline configuration is not set up to force a periodic password change. Regulations require password aging.\n",
      "The system does not have the capability to force a user to change their password when an administrator initially sets or is required to reset the user’s password. The user’s password should only be known by the user. The current design will result in the administrator always knowing every user’s password.\n",
      "Because the system deletes the user account ID rather than disables, the system allows the same user account ID to be assigned to different people for non-concurrent time spans. User account IDs should be related to only one person in perpetuity. (A conforming example would be: John Smith has an ID jsmith. He leaves company. Jane Smith is hired but cannot be assign jsmith as an access ID since it had been previously assigned to John Smith.)\n",
      "The system does not have the capability to disable user account IDs. The system requires the user account IDs to be deleted from the system to terminate the user’s access to the system. Note: The addition, modification, and deletion of a user account ID is captured in the audit trail (user event log). \n",
      "For the Windows 7 embedded operating system, the system ships with generic access accounts (e.g. Admin, PBS Tech). GMP systems should not have generic accounts when released for use.\n",
      "For the PBS Software, the system ships with generic access accounts (e.g. user1, admin, pbstech). GMP systems should not have generic accounts when released for use.\n",
      "For the PBS Software, the permissions for the configurable, generic user1 account allow the user to copy and delete the database tables containing GMP data. Only administrator level accounts (e.g. admin) and the PBS service level accounts (e.g. pbstech) should have the capability to copy or delete the database. \n",
      "Data generated between backups will be lost if the hard drive fails. The system does not provide fault tolerance.\n"
     ]
    }
   ],
   "source": [
    "for p in d.ListParagraphs:\n",
    "    style = p.Style\n",
    "    if p.Style.NameLocal == 'MyList1':\n",
    "        print(p.Range.Text)"
   ]
  },
  {
   "cell_type": "code",
   "execution_count": 22,
   "metadata": {},
   "outputs": [
    {
     "name": "stdout",
     "output_type": "stream",
     "text": [
      "For the PBS Software, the permissions for the configurable, generic user1 account allow the user to copy and delete the database tables containing GMP data. Only administrator level accounts (e.g. admin) and the PBS service level accounts (e.g. pbstech) should have the capability to copy or delete the database. \n",
      "\n",
      "Data generated between backups will be lost if the hard drive fails. The system does not provide fault tolerance.\n",
      "\n",
      "Access does not provide sufficient access security and has limited scalability. Examples of security vulnerabilities, access stores the password for linked table in plain text format, Access no longer supports creating and managing user accounts (therefore, any user who has rights to get to the file has rights to use anything in the database).\n",
      "\n",
      "Passwords are not sufficiently complex. Currently the system only allows passwords that are five digits (0-9).\n",
      "\n",
      "The baseline configuration is not set up to force a periodic password change. Regulations require password aging.\n",
      "\n",
      "The system does not have the capability to force a user to change their password when an administrator initially sets or is required to reset the user’s password. The user’s password should only be known by the user. The current design will result in the administrator always knowing every user’s password.\n",
      "\n",
      "Because the system deletes the user account ID rather than disables, the system allows the same user account ID to be assigned to different people for non-concurrent time spans. User account IDs should be related to only one person in perpetuity. (A conforming example would be: John Smith has an ID jsmith. He leaves company. Jane Smith is hired but cannot be assign jsmith as an access ID since it had been previously assigned to John Smith.)\n",
      "\n",
      "The system does not have the capability to disable user account IDs. The system requires the user account IDs to be deleted from the system to terminate the user’s access to the system. Note: The addition, modification, and deletion of a user account ID is captured in the audit trail (user event log). \n",
      "\n",
      "For the Windows 7 embedded operating system, the system ships with generic access accounts (e.g. Admin, PBS Tech). GMP systems should not have generic accounts when released for use.\n",
      "\n",
      "For the PBS Software, the system ships with generic access accounts (e.g. user1, admin, pbstech). GMP systems should not have generic accounts when released for use.\n",
      "\n",
      "\u0007he user manual does not describe how to restore the database. \n",
      "\n",
      "The database restoration process requires the administrator to disable McAfee’s write protection functionality and use Windows Explorer to copy the backup to the system. Windows Explorer does not verify that an exact copy was restored.\n",
      "\n",
      "When backups are performed, the system only records backup failures in the audit trail. It does not record successful backups. Therefore, there is no history of successful backups occurring. A review of backup history can only determine information about backup failures.\n",
      "\n",
      "LabView functionality is used to copy the database to make backup copies. However, LabView does not verify an exact copy was made.\n",
      "\n",
      "The system does not have the ability to backup configuration files.\n",
      "\n",
      "\u0007he system cannot print out compliant reports or data for inspection (e.g. audit trails, manufacturing data, system parameters). The system can export .csv files for viewing in Microsoft Excel or the database can be copied and viewed using Microsoft Access. Either process for generating human readable reports allows the opportunity to edit data without an audit trail or a clear chain of custody.\n",
      "\n",
      "Bug fixes do not require requirement analysis to determine whether a specification requirement needs to be updated.\n",
      "\n",
      "Coding can be performed without an approved requirement, particularly if the code changes are based upon an issue. SOP IQ00113, Rev B: Software Development Procedure, §3.14 does not require specification requirements to be approved prior to coding.\n",
      "\n",
      "The procedural controls do not address:\n",
      "\n"
     ]
    }
   ],
   "source": [
    "for t in d.Tables:\n",
    "    if t.Rows.Count < 3:\n",
    "        continue\n",
    "    for p in t.Rows(3).Range.ListParagraphs:\n",
    "        if p.Style.NameLocal == 'MyList1':\n",
    "            print(p.Range.Text)\n",
    "            print()"
   ]
  },
  {
   "cell_type": "code",
   "execution_count": null,
   "metadata": {},
   "outputs": [],
   "source": []
  }
 ],
 "metadata": {
  "kernelspec": {
   "display_name": "Python 3",
   "language": "python",
   "name": "python3"
  },
  "language_info": {
   "codemirror_mode": {
    "name": "ipython",
    "version": 3
   },
   "file_extension": ".py",
   "mimetype": "text/x-python",
   "name": "python",
   "nbconvert_exporter": "python",
   "pygments_lexer": "ipython3",
   "version": "3.5.2"
  }
 },
 "nbformat": 4,
 "nbformat_minor": 2
}
