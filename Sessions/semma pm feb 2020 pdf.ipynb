{
 "cells": [
  {
   "cell_type": "code",
   "execution_count": 1,
   "metadata": {},
   "outputs": [],
   "source": [
    "import os, pdfrw, shutil, clipboard\n",
    "os.chdir('C:\\\\Users\\\\Nathan\\\\Desktop\\\\Semma DFCI 4x PM')"
   ]
  },
  {
   "cell_type": "code",
   "execution_count": 2,
   "metadata": {},
   "outputs": [],
   "source": [
    "pdfs = [\n",
    "    ('Service Report', '1-2'),\n",
    "    ('PM_000318Q1701_SEM_DFCI_4', '3-6'),\n",
    "    ('PM_000318N0405_SEM_DFCI_1', '7-12'),\n",
    "    ('PM_000318N0404_SEM_DFCI_3', '13-16'),\n",
    "    ('PM_000318N2201_SEM_DFCI_2', '17-23')\n",
    "]"
   ]
  },
  {
   "cell_type": "code",
   "execution_count": 4,
   "metadata": {},
   "outputs": [
    {
     "name": "stdout",
     "output_type": "stream",
     "text": [
      "finished opening source file,beginning split...\n",
      "creating Service Report.pdf ...  done\n",
      "creating PM_000318Q1701_SEM_DFCI_4.pdf ...  done\n",
      "creating PM_000318N0405_SEM_DFCI_1.pdf ...  done\n",
      "creating PM_000318N0404_SEM_DFCI_3.pdf ...  done\n",
      "creating PM_000318N2201_SEM_DFCI_2.pdf ...  done\n"
     ]
    }
   ],
   "source": [
    "outd = \"C:\\\\Users\\\\Nathan\\\\Documents\\\\Personal\\\\test\\\\sem-dfci-pm-feb2020\"\n",
    "try:\n",
    "    shutil.rmtree(outd)\n",
    "except FileNotFoundError:\n",
    "    pass\n",
    "os.makedirs(outd, exist_ok=True)\n",
    "\n",
    "src = pdfrw.PdfFileReader(\"Sharp Scanner_20200213_145953.pdf\")\n",
    "\n",
    "print(\"finished opening source file,beginning split...\")\n",
    "\n",
    "for fn, rng in pdfs:\n",
    "    fname = \"%s\\\\%s.pdf\"%(outd,fn)\n",
    "    print(\"creating %s.pdf ... \"%fn, end=\" \")\n",
    "    dst = pdfrw.PdfFileWriter(fname)\n",
    "    ranges = rng.split(\",\")\n",
    "    for r in ranges:\n",
    "        if \"-\" in r:\n",
    "            a,b = r.split(\"-\")\n",
    "        else:\n",
    "            a = r\n",
    "            b = r\n",
    "        for page in range(int(a), int(b)+1):\n",
    "            p = src.getPage(page-1)\n",
    "            dst.addPage(p)\n",
    "    dst.write()\n",
    "    print(\"done\")\n",
    "    \n",
    "del dst\n",
    "del src"
   ]
  },
  {
   "cell_type": "code",
   "execution_count": null,
   "metadata": {},
   "outputs": [],
   "source": []
  }
 ],
 "metadata": {
  "kernelspec": {
   "display_name": "Python 3",
   "language": "python",
   "name": "python3"
  },
  "language_info": {
   "codemirror_mode": {
    "name": "ipython",
    "version": 3
   },
   "file_extension": ".py",
   "mimetype": "text/x-python",
   "name": "python",
   "nbconvert_exporter": "python",
   "pygments_lexer": "ipython3",
   "version": "3.5.2"
  }
 },
 "nbformat": 4,
 "nbformat_minor": 2
}
