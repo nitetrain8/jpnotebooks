{
 "cells": [
  {
   "cell_type": "code",
   "execution_count": 1,
   "metadata": {
    "collapsed": true
   },
   "outputs": [],
   "source": [
    "from officelib.xllib import *\n",
    "xl = Excel()"
   ]
  },
  {
   "cell_type": "code",
   "execution_count": 2,
   "metadata": {
    "collapsed": true
   },
   "outputs": [],
   "source": [
    "wb = xl.RecentFiles(1).Open()"
   ]
  },
  {
   "cell_type": "code",
   "execution_count": 3,
   "metadata": {},
   "outputs": [
    {
     "data": {
      "text/plain": [
       "'Temperature, Aggressive'"
      ]
     },
     "execution_count": 3,
     "metadata": {},
     "output_type": "execute_result"
    }
   ],
   "source": [
    "xl.Selection.Value"
   ]
  },
  {
   "cell_type": "code",
   "execution_count": 9,
   "metadata": {},
   "outputs": [],
   "source": [
    "ws3 = wb.Worksheets(\"Sheet3\")\n",
    "cells3 = ws3.Cells\n",
    "cr3 = cells3.Range"
   ]
  },
  {
   "cell_type": "code",
   "execution_count": 10,
   "metadata": {},
   "outputs": [],
   "source": [
    "ws2 = wb.Worksheets(\"Sheet2\")\n",
    "cells2 = ws2.Cells\n",
    "cr2 = cells2.Range"
   ]
  },
  {
   "cell_type": "code",
   "execution_count": 22,
   "metadata": {},
   "outputs": [],
   "source": [
    "ctrls = ['Agitation', 'Temperature', 'pH CO2', 'pH Base', 'DO O2', 'DO N2']"
   ]
  },
  {
   "cell_type": "code",
   "execution_count": null,
   "metadata": {
    "collapsed": true
   },
   "outputs": [],
   "source": []
  },
  {
   "cell_type": "code",
   "execution_count": 27,
   "metadata": {},
   "outputs": [],
   "source": [
    "pcell = cr3(\"B3\")\n",
    "\n",
    "def pdata(*data):\n",
    "    global pcell\n",
    "    cr3(pcell, pcell.Offset(1, len(data))).Value = data\n",
    "    pcell = pcell.Offset(2, 1)\n",
    "\n",
    "for i, typ in enumerate(ctrls):\n",
    "    for j, sz in enumerate((3, 15, 80)):\n",
    "        r = i*5 + 3\n",
    "        r2 = i*5 + 7\n",
    "        c = j*2+3\n",
    "        name = typ + \"_\" + str(sz) + \"L\"\n",
    "        data = cr2(cells2(r, c), cells2(r2, c)).Value\n",
    "        data = [d[0] for d in data]\n",
    "        pdata(name, typ, str(sz)+\"L\", \"M\", *data)\n",
    "        \n",
    "    "
   ]
  },
  {
   "cell_type": "code",
   "execution_count": null,
   "metadata": {
    "collapsed": true
   },
   "outputs": [],
   "source": []
  }
 ],
 "metadata": {
  "kernelspec": {
   "display_name": "Python 3",
   "language": "python",
   "name": "python3"
  },
  "language_info": {
   "codemirror_mode": {
    "name": "ipython",
    "version": 3
   },
   "file_extension": ".py",
   "mimetype": "text/x-python",
   "name": "python",
   "nbconvert_exporter": "python",
   "pygments_lexer": "ipython3",
   "version": "3.5.2"
  }
 },
 "nbformat": 4,
 "nbformat_minor": 2
}
