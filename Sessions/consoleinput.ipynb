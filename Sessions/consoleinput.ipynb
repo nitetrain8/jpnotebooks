{
 "cells": [
  {
   "cell_type": "code",
   "execution_count": null,
   "metadata": {},
   "outputs": [],
   "source": [
    "import os\n",
    "os.path.abspath(\".\")\n",
    "\n",
    "with open(\"test.bat\", 'w') as f:\n",
    "    f.write(\"@echo off\\nSET /p MYVAL=Enter Your Input:\\necho %MYVAL% > test.bob\\npause\")\n",
    "\n",
    "import subprocess\n",
    "subprocess.Popen(\"test.bat\",stdin=subprocess.PIPE, shell=True, stdout=subprocess.PIPE)\n",
    "\n",
    "p.stdin.write(b\"test\\r\\n\")"
   ]
  }
 ],
 "metadata": {
  "kernelspec": {
   "display_name": "Python 3",
   "language": "python",
   "name": "python3"
  },
  "language_info": {
   "codemirror_mode": {
    "name": "ipython",
    "version": 3
   },
   "file_extension": ".py",
   "mimetype": "text/x-python",
   "name": "python",
   "nbconvert_exporter": "python",
   "pygments_lexer": "ipython3",
   "version": "3.5.2"
  }
 },
 "nbformat": 4,
 "nbformat_minor": 2
}
