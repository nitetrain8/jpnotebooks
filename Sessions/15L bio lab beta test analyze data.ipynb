{
 "cells": [
  {
   "cell_type": "code",
   "execution_count": 6,
   "metadata": {
    "collapsed": true
   },
   "outputs": [],
   "source": [
    "from officelib.xllib import *\n",
    "from officelib.const import xlconst as xlc\n",
    "from hello.hello3 import HelloApp, NotLoggedInError"
   ]
  },
  {
   "cell_type": "code",
   "execution_count": 7,
   "metadata": {
    "collapsed": true
   },
   "outputs": [],
   "source": [
    "def call(f, *args, m=None):\n",
    "    if m is None:\n",
    "        s = \"(\" + \", \".join(map(repr, args)) + \")\"\n",
    "        m = \"%s%s\" % (f.__name__, s)\n",
    "    print(m)\n",
    "    while True:\n",
    "        try:\n",
    "            rv = f(*args)\n",
    "        except NotLoggedInError:\n",
    "            h.login()\n",
    "        except requests.exceptions.ConnectTimeout as e:\n",
    "            print(\"Make sure you're on the right network!\")\n",
    "            raise\n",
    "        else:\n",
    "            return rv"
   ]
  },
  {
   "cell_type": "code",
   "execution_count": 8,
   "metadata": {
    "collapsed": true
   },
   "outputs": [],
   "source": [
    "def bt():\n",
    "    import datetime; return datetime.datetime.now().strftime(\"%y%m%d\")\n",
    "\n",
    "def dl(bn, p):\n",
    "    if isinstance(bn, str):\n",
    "        b = call(h.getdatareport_bybatchname, bn)\n",
    "    elif isinstance(bn, tuple):\n",
    "        name, d1, d2 = bn\n",
    "        b = call(h.getreport_bydate, 'process_data', d1, d2)\n",
    "        bn = name\n",
    "    fn = p+bn+\"15L \" + bt() + \".csv\"\n",
    "    with open(fn, 'wb') as f:\n",
    "        f.write(b)\n",
    "    return fn"
   ]
  },
  {
   "cell_type": "code",
   "execution_count": 30,
   "metadata": {},
   "outputs": [],
   "source": [
    "def open_file(file):\n",
    "    global xl, wb, ws, cells, cr\n",
    "    global ws2, cells2, cr2\n",
    "    try:\n",
    "        xl\n",
    "    except NameError:\n",
    "        xl = Excel()\n",
    "    try:\n",
    "        xl.Visible\n",
    "    except Exception:\n",
    "        xl = Excel()\n",
    "    wb = xl.Workbooks.Open(file)\n",
    "    ws2 = wb.Worksheets(1)\n",
    "    cells2 = ws2.Cells\n",
    "    cr2 = cells2.Range\n",
    "    \n",
    "    ws = wb.Worksheets.Add()\n",
    "    cells = ws.Cells\n",
    "    cr = cells.Range\n",
    "\n",
    "def elform(c, ref):\n",
    "    a1 = c.GetAddress(0,0)\n",
    "    a2 = ref.GetAddress(1,1)\n",
    "    a3 = ref.Offset(0,2).GetAddress(1,1)\n",
    "    form = \"=(%s-%s)*%s\"%(a1, a2, a3)\n",
    "    return form\n",
    "    \n",
    "def mk_elapsed(c, ref, ins=True):\n",
    "    \n",
    "    if ins:\n",
    "        c.Offset(1,2).EntireColumn.Insert()\n",
    "    top = c.Offset(1,2)\n",
    "    bot = c.End(xlc.xlDown).Offset(1,2)\n",
    "    top.Value = elform(c, ref)\n",
    "    r = cr(top, bot)\n",
    "    top.AutoFill(r)\n",
    "    r.NumberFormat = \"0.00\"\n",
    "    \n",
    "def chart_rng(c):\n",
    "    x1 = c.Offset(1,2)\n",
    "    x2 = x1.End(xlc.xlDown)\n",
    "    y1 = c.Offset(1,3)\n",
    "    y2 = y1.End(xlc.xlDown)\n",
    "    return cr(x1, x2), cr(y1, y2)\n",
    "\n",
    "def mkch(c,v):\n",
    "    chart = CreateChart(ws, xlc.xlXYScatterLinesNoMarkers)\n",
    "    mkser(chart, c,v)\n",
    "    chart.ApplyLayout(8)\n",
    "    return chart\n",
    "    \n",
    "def mkser(ch, c,v):\n",
    "    x, y = chart_rng(c)\n",
    "    return CreateDataSeries(ch, x, y, v)\n",
    "    \n",
    "def fixaxes():\n",
    "    cl = [co.Chart for co in ws.ChartObjects()]\n",
    "    cl.extend(wb.Charts)\n",
    "    for c in cl:\n",
    "        ax = c.Axes(xlc.xlCategory, xlc.xlPrimary)\n",
    "        ax.MinimumScale = 0\n",
    "        ax.HasTitle = True\n",
    "        ax.AxisTitle.Text = \"Time (hr)\"\n",
    "        \n",
    "        ax2 = c.Axes(xlc.xlValue, xlc.xlPrimary)\n",
    "        ax2.HasTitle = True\n",
    "        \n",
    "    for c in wb.Charts:\n",
    "        ax2 = c.Axes(xlc.xlValue, xlc.xlPrimary)\n",
    "        ax2.AxisTitle.Text = c.Name\n",
    "        \n",
    "    \n",
    "def analyze(params=(), ref1s=None):\n",
    "    if not params:\n",
    "        return\n",
    "    if ref1s is None:\n",
    "        ref1s = params[0][0][0]\n",
    "    c1 = cells.Find(ref1s).Offset(2,1)\n",
    "    ref1 = c1\n",
    "    mk_elapsed(c1, ref1)\n",
    "    ref1.Offset(0, 2).Value = \"24\"\n",
    "    \n",
    "    for (ref, sp), vars in params:\n",
    "        \n",
    "        # make chart\n",
    "        print(\"Making chart for\", ref)\n",
    "        c = cells.Find(ref).Offset(2,1)\n",
    "        if ref != ref1s:\n",
    "            mk_elapsed(c, ref1)\n",
    "        ch1 = mkch(c, ref)\n",
    "        ch2 = mkch(c, ref)\n",
    "        \n",
    "        # add set point\n",
    "        c = cells.Find(sp).Offset(2,1)\n",
    "        mk_elapsed(c, ref1)\n",
    "        for ch in ch1, ch2:\n",
    "            s = mkser(ch, c, sp)\n",
    "            s.MarkerSize = 2\n",
    "            s.MarkerStyle = 1\n",
    "            s.Border.ColorIndex = xlc.xlNone\n",
    "            s.MarkerForegroundColor = 0\n",
    "            s.MarkerBackgroundColor = 0\n",
    "        \n",
    "        for v in vars:\n",
    "            print(\"Adding data series\", v)\n",
    "            c = cells.Find(v).Offset(2,1)\n",
    "            mk_elapsed(c, ref1)\n",
    "            s=mkser(ch2, c, v)\n",
    "            s.AxisGroup = xlc.xlSecondary\n",
    "        ch1.Location(xlc.xlLocationAsNewSheet, ref)\n",
    "        \n",
    "    # special for DO\n",
    "    ch = wb.Charts(\"DOPV(%)\")\n",
    "    c = cells.Find(\"DOModeActual\")\n",
    "    mk_elapsed(c, ref1)\n",
    "    s = mkser(ch, c, \"DOModeActual\")\n",
    "    s.AxisGroup = xlc.xlSecondary\n",
    "    s.ChartType = xlc.xlXYScatter\n",
    "    s.MarkerSize = 4\n",
    "    \n",
    "    # MFCs\n",
    "    c = cells.Find(\"MainGasActualRequest(LPM)\").Offset(2,1)\n",
    "    mk_elapsed(c, ref1)\n",
    "    ch3 = mkch(c, \"MainGasActualRequest(LPM)\")\n",
    "    for s in (\"Air\", \"N2\", \"CO2\", \"O2\"):\n",
    "        m = \"MFC%sFlowFeedback(LPM)\"%s\n",
    "        c = cells.Find(m).Offset(2,1)\n",
    "        mk_elapsed(c, ref1)\n",
    "        s=mkser(ch3, c, s)\n",
    "    ch3.Location(xlc.xlLocationAsNewSheet, \"Gases\")\n",
    "\n",
    "    fixaxes()\n",
    "    wb.SaveAs(fn.replace('.csv','.xlsb'), FileFormat=xlc.xlExcel12, AddToMru=True)\n",
    "        \n",
    "def migrate_data():\n",
    "    for col in list(ws2.UsedRange.Columns)[::3]:\n",
    "        c1 = col.Cells(1,1)\n",
    "        c2 = c1.End(xlc.xlDown).Offset(1,2)\n",
    "        step = (c2.Row - c1.Row) // 30000 + 1\n",
    "        \n",
    "        data = cr2(c1, c2).Value\n",
    "        if step > 1:\n",
    "            data = data[::step]\n",
    "            \n",
    "        c3 = ws.Columns(c1.Column).Cells(1,1)\n",
    "        c4 = c3.Offset(len(data), 2)\n",
    "        \n",
    "        cr(c3, c4).Value = data\n",
    "        \n",
    "        \n",
    "\n",
    "        \n",
    "def analf(f, params=(), ref1=None):\n",
    "    open_file(f)\n",
    "    migrate_data()\n",
    "    analyze(params, ref1)\n",
    "    wb.Close()"
   ]
  },
  {
   "cell_type": "code",
   "execution_count": 31,
   "metadata": {},
   "outputs": [],
   "source": [
    "#h = HelloApp('192.168.1.3')\n",
    "p='C:\\\\PBSCloudStation\\\\(2) R&D-Product Engineering\\\\Software Development\\\\3.0 Project\\\\Phase 2 Working Copy\\\\IE00005 PID Tuning\\\\IE00005-08 Bio Lab Test'\n",
    "#dl(\"kls-pbs exp9 n-0\", p)"
   ]
  },
  {
   "cell_type": "code",
   "execution_count": 32,
   "metadata": {},
   "outputs": [
    {
     "name": "stdout",
     "output_type": "stream",
     "text": [
      "Making chart for DOPV(%)\n",
      "Adding data series DOO2FlowControllerRequestLimited(%)\n",
      "Adding data series DON2FlowActualRequest(%)\n",
      "Making chart for pHPV\n",
      "Adding data series pHCO2ActualRequest(%)\n",
      "Making chart for TempPV(C)\n",
      "Adding data series TempHeatDutyActual(%)\n",
      "Making chart for AgPV(RPM)\n",
      "Adding data series AgPowerActualRequest(%)\n"
     ]
    },
    {
     "data": {
      "text/plain": [
       "<win32com.gen_py.None.Workbook>"
      ]
     },
     "execution_count": 32,
     "metadata": {},
     "output_type": "execute_result"
    }
   ],
   "source": [
    "import os\n",
    "fn = os.path.join(p, \"15L Biolab Data 170630.csv\")\n",
    "\n",
    "params = [((\"DOPV(%)\", \"DOSP(%)\"), (\"DOO2FlowControllerRequestLimited(%)\", \"DON2FlowActualRequest(%)\")),\n",
    "         ((\"pHPV\", \"pHSP\"), (\"pHCO2ActualRequest(%)\",)),\n",
    "         ((\"TempPV(C)\", \"TempSP(C)\"), (\"TempHeatDutyActual(%)\",)),\n",
    "         ((\"AgPV(RPM)\",\"AgSP(RPM)\"), (\"AgPowerActualRequest(%)\",)),\n",
    "         ]\n",
    "\n",
    "analf(fn, params)\n",
    "xl.Visible=True\n",
    "xl.RecentFiles(1).Open()"
   ]
  },
  {
   "cell_type": "code",
   "execution_count": null,
   "metadata": {
    "collapsed": true
   },
   "outputs": [],
   "source": [
    "from hello.hello3 import HelloApp\n",
    "from datetime import datetime\n",
    "%matplotlib\n",
    "import matplotlib.pyplot as plt\n",
    "from matplotlib.ticker import *\n",
    "from matplotlib import ticker"
   ]
  },
  {
   "cell_type": "code",
   "execution_count": null,
   "metadata": {
    "collapsed": true
   },
   "outputs": [],
   "source": [
    "def data(span, group, typ=\"last\"):\n",
    "    h = HelloApp(\"71.189.82.196:81\")\n",
    "    td = h.getTrendData(span, group)\n",
    "    x, y = list(zip(*td[typ]))\n",
    "    x2 = [datetime.fromtimestamp(d/1000) for d in x]\n",
    "    first = x2[0]\n",
    "    x3 = [(d-first).total_seconds()/60 for d in x2]\n",
    "    return x3, y"
   ]
  },
  {
   "cell_type": "code",
   "execution_count": null,
   "metadata": {},
   "outputs": [],
   "source": [
    "def plotxy(ax, x, y):\n",
    "    ax.plot(x,y)\n",
    "    ax.yaxis.set_major_formatter(ticker.FormatStrFormatter(\"%s\"))\n",
    "\n",
    "def plot(span='15min', group='agitation'):\n",
    "    plt.close()\n",
    "    x, y = data(span, group)\n",
    "    fig = plt.figure()\n",
    "    ax = plt.add_subplot(1,1,1)\n",
    "    plotxy(ax, x, y)"
   ]
  },
  {
   "cell_type": "code",
   "execution_count": null,
   "metadata": {},
   "outputs": [],
   "source": [
    "plot('24hr')"
   ]
  },
  {
   "cell_type": "code",
   "execution_count": null,
   "metadata": {},
   "outputs": [],
   "source": [
    "def plot2(group='agitation'):\n",
    "    fig = plt.figure()\n",
    "    for i, span in enumerate((\"15min\", \"2hr\", \"12hr\"), 1):\n",
    "        ax = fig.add_subplot(3, 1, i)\n",
    "        for typ in \"min\", \"max\", \"last\":\n",
    "            x, y = data(span, group, typ)\n",
    "            plotxy(ax, x, y)\n",
    "        ax.set_ylabel(span)"
   ]
  },
  {
   "cell_type": "code",
   "execution_count": null,
   "metadata": {},
   "outputs": [],
   "source": [
    "plot2()"
   ]
  },
  {
   "cell_type": "code",
   "execution_count": null,
   "metadata": {
    "collapsed": true
   },
   "outputs": [],
   "source": [
    "ax = plt.gca()"
   ]
  },
  {
   "cell_type": "code",
   "execution_count": null,
   "metadata": {},
   "outputs": [],
   "source": [
    "plt.gcf().axes[0].set_ylabel(\"15 min\")\n",
    "plt.gcf().axes[1].set_ylabel(\"2 hr\")\n",
    "plt.gcf().axes[2].set_ylabel(\"12 hr\")\n",
    "for ax in plt.gcf().axes:\n",
    "    ax.set_xlabel(\"Time(min)\")"
   ]
  },
  {
   "cell_type": "code",
   "execution_count": null,
   "metadata": {
    "collapsed": true
   },
   "outputs": [],
   "source": []
  }
 ],
 "metadata": {
  "kernelspec": {
   "display_name": "Python 3",
   "language": "python",
   "name": "python3"
  },
  "language_info": {
   "codemirror_mode": {
    "name": "ipython",
    "version": 3
   },
   "file_extension": ".py",
   "mimetype": "text/x-python",
   "name": "python",
   "nbconvert_exporter": "python",
   "pygments_lexer": "ipython3",
   "version": "3.5.2"
  }
 },
 "nbformat": 4,
 "nbformat_minor": 1
}
