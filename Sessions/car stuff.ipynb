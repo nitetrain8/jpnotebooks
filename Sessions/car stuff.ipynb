{
 "cells": [
  {
   "cell_type": "code",
   "execution_count": 82,
   "metadata": {
    "collapsed": true
   },
   "outputs": [],
   "source": [
    "import pyquery\n",
    "import requests\n",
    "import urllib\n",
    "Q = pyquery.PyQuery\n",
    "import collections\n",
    "\n",
    "%matplotlib\n",
    "from matplotlib import pyplot as plt\n",
    "from matplotlib.ticker import StrMethodFormatter, FuncFormatter"
   ]
  },
  {
   "cell_type": "code",
   "execution_count": 100,
   "metadata": {},
   "outputs": [],
   "source": [
    "def get_cars(car_list, results):\n",
    "    # I suck at using JQuery, so I sloppily make my way down the \n",
    "    # HTML chain. The hertz HTML isn't super friendly, but each item seems\n",
    "    # to have a unique CSS class to seek to. \n",
    "    # In a couple places, I hardcode child indices because it was easier\n",
    "    # than making a new Q object to go down one level. \n",
    "    for listing in car_list.getchildren():\n",
    "        ql = Q(listing)\n",
    "        desc = ql(\".gv-description\")[0]\n",
    "        odo = desc[0][1].text\n",
    "        mi, unit = odo.split()\n",
    "        mi = int(mi.replace(\",\",\"\"))\n",
    "        year = ql(\".inventory-title.single-line-text\")[0][0].text.split()[0]\n",
    "        year = int(year)\n",
    "\n",
    "        price = ql(\"span.askingPrice.finalPrice\")[0]\n",
    "        value = price[1].text.replace(\"\\\"\", \"\").strip().replace(\"$\", \"\").replace(\",\", \"\")\n",
    "        value = int(value)\n",
    "        results[year].append((mi, value))\n",
    "            \n",
    "def get_listing(url, params):\n",
    "    rsp = requests.get(url, params=params)\n",
    "    content = rsp.content\n",
    "    return Q(content)\n",
    "\n",
    "def get_car_list(q):\n",
    "    return q(\".gv-inventory-list\")[0]\n",
    "\n",
    "def get_num_results(q):\n",
    "    return int(q(\".total-count\")[0][0].text)\n",
    "\n",
    "def c2l(cc):\n",
    "    return list(zip(*cc))\n",
    "\n",
    "def ann(ax, xx, yy):\n",
    "    for x, y in zip(xx,yy):\n",
    "        ax.annotate(y, (x,y))\n",
    "        \n",
    "def mmy(params):\n",
    "    return params['make'],params['model'],params['year']"
   ]
  },
  {
   "cell_type": "code",
   "execution_count": 103,
   "metadata": {
    "collapsed": true
   },
   "outputs": [],
   "source": [
    "qp2 = {\n",
    "     'geoRadius': '500',\n",
    "     'geoZip': '93012',\n",
    "     'compositeType': 'certified, Rent2Buy',\n",
    "     'model': 'Corolla',\n",
    "     'make': 'Toyota',\n",
    "     'normalBodyStyle': 'Sedan',\n",
    "     'normalExteriorColor': 'Black,Gray,Other',\n",
    "     'odometer': '10-200000',\n",
    "     'sortBy': 'odometer asc',\n",
    "     'trim': 'LE',\n",
    "     'year': '2015-2018',\n",
    "     'start': '0'\n",
    "}"
   ]
  },
  {
   "cell_type": "code",
   "execution_count": 98,
   "metadata": {},
   "outputs": [
    {
     "name": "stdout",
     "output_type": "stream",
     "text": [
      "parsing cars 1-35 of 206\n",
      "parsing cars 1-70 of 206\n",
      "parsing cars 1-105 of 206\n",
      "parsing cars 1-140 of 206\n",
      "parsing cars 1-175 of 206\n",
      "parsing cars 1-206 of 206\n"
     ]
    }
   ],
   "source": [
    "qp2['start'] = '0'\n",
    "pq = get_listing(url, qp2)\n",
    "nresults = get_num_results(pq)\n",
    "cars_listing = get_car_list(pq)\n",
    "got = 0\n",
    "results = collections.defaultdict(list)\n",
    "while True:\n",
    "    got += len(cars_listing)\n",
    "    print(\"parsing cars 1-%d of %d\"%(got, nresults))\n",
    "    get_cars(cars_listing, results)\n",
    "    if got >= nresults:\n",
    "        break\n",
    "    qp2['start'] = str(got)\n",
    "    pq = get_listing(url, qp2)\n",
    "    cars_listing = get_car_list(pq)"
   ]
  },
  {
   "cell_type": "code",
   "execution_count": 105,
   "metadata": {},
   "outputs": [],
   "source": [
    "# NameError card so it runs correctly on first execution\n",
    "try:\n",
    "    fig.clear()\n",
    "    plt.close(fig)\n",
    "except NameError: \n",
    "    pass\n",
    "\n",
    "fig = plt.figure()\n",
    "ax = fig.add_subplot(1,1,1)\n",
    "\n",
    "for year, cars in sorted(results.items(), key=lambda item: item[0], reverse=True): # sort by year\n",
    "    x, y = c2l(cars)\n",
    "    ax.scatter(x,y, label=str(year))\n",
    "\n",
    "# Add \",\" separator and $ sign\n",
    "xf = FuncFormatter(lambda x, p: format(int(x), ','))\n",
    "yf = FuncFormatter(lambda y, p: \"$%s\"%format(int(y), \",\"))\n",
    "ax.xaxis.set_major_formatter(xf)\n",
    "ax.yaxis.set_major_formatter(yf)\n",
    "\n",
    "ax.xaxis.set_label_text(\"Miles Driven\")\n",
    "ax.yaxis.set_label_text(\"Price (No haggle)\")\n",
    "\n",
    "ax.set_title(\"%s %s %s\"%(mmy(qp2)))\n",
    "\n",
    "# Yaxis label doesn't quite fit, so fudge it over a bit\n",
    "b = ax.get_position()\n",
    "shift = 0.02\n",
    "ax.set_position([b.x0+shift, b.y0, b.width*(1-shift), b.height])\n",
    "\n",
    "# assign just so it doesn't get stuck in global Jupyter memory\n",
    "_=ax.legend()"
   ]
  },
  {
   "cell_type": "code",
   "execution_count": 106,
   "metadata": {
    "collapsed": true
   },
   "outputs": [],
   "source": [
    "ax.grid()"
   ]
  },
  {
   "cell_type": "code",
   "execution_count": null,
   "metadata": {
    "collapsed": true
   },
   "outputs": [],
   "source": []
  }
 ],
 "metadata": {
  "kernelspec": {
   "display_name": "Python 3",
   "language": "python",
   "name": "python3"
  },
  "language_info": {
   "codemirror_mode": {
    "name": "ipython",
    "version": 3
   },
   "file_extension": ".py",
   "mimetype": "text/x-python",
   "name": "python",
   "nbconvert_exporter": "python",
   "pygments_lexer": "ipython3",
   "version": "3.6.1"
  }
 },
 "nbformat": 4,
 "nbformat_minor": 2
}
