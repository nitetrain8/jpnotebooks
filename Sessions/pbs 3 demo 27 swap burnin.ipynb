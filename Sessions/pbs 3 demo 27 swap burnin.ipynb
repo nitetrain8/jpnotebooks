{
 "cells": [
  {
   "cell_type": "code",
   "execution_count": 1,
   "metadata": {
    "collapsed": true
   },
   "outputs": [],
   "source": [
    "from hello.hello3 import *\n",
    "import datetime\n",
    "import requests\n",
    "\n",
    "def call(f, *a, _quiet=False, **k):\n",
    "    if not _quiet:\n",
    "        now = datetime.datetime.now().strftime(\"%H:%M:%S\")\n",
    "        s = \"(\" + \", \".join(map(repr, a)) + \")\"\n",
    "        print(\"%s Calling %s%s\" % (now, f.__name__, s))\n",
    "    while True:\n",
    "        try:\n",
    "            rv = f(*a, **k)\n",
    "        except NotLoggedInError:\n",
    "            h.login()\n",
    "        except requests.exceptions.Timeout as e:\n",
    "            print(\"Got timeout! Make sure you're on the right network!\")\n",
    "        except (BadError, IOError, requests.exceptions.ConnectionError) as e:\n",
    "            print(\"Error occurred:\", e.__class__, e.args[0])\n",
    "        else:\n",
    "            return rv  "
   ]
  },
  {
   "cell_type": "code",
   "execution_count": null,
   "metadata": {},
   "outputs": [],
   "source": [
    "from time import sleep\n",
    "hour = 3600\n",
    "minute = 60\n",
    "sleep(24*hour-35*minute)\n",
    "app = HelloApp('192.168.1.8')\n",
    "call(app.login)\n",
    "call(app.setag, 0, 25)\n",
    "call(app.setdo, 1, 60, 10)\n",
    "call(app.setph, 1, 10, 0)"
   ]
  },
  {
   "cell_type": "code",
   "execution_count": null,
   "metadata": {
    "collapsed": true
   },
   "outputs": [],
   "source": []
  }
 ],
 "metadata": {
  "kernelspec": {
   "display_name": "Python 3",
   "language": "python",
   "name": "python3"
  },
  "language_info": {
   "codemirror_mode": {
    "name": "ipython",
    "version": 3
   },
   "file_extension": ".py",
   "mimetype": "text/x-python",
   "name": "python",
   "nbconvert_exporter": "python",
   "pygments_lexer": "ipython3",
   "version": "3.5.0"
  }
 },
 "nbformat": 4,
 "nbformat_minor": 2
}
