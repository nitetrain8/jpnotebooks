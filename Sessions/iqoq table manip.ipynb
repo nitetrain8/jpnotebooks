{
 "cells": [
  {
   "cell_type": "code",
   "execution_count": 1,
   "metadata": {},
   "outputs": [],
   "source": [
    "from officelib.wordlib import *\n",
    "from pywintypes import com_error\n",
    "w=Word()"
   ]
  },
  {
   "cell_type": "code",
   "execution_count": 2,
   "metadata": {},
   "outputs": [],
   "source": [
    "d = w.RecentFiles(1).Open()"
   ]
  },
  {
   "cell_type": "code",
   "execution_count": 5,
   "metadata": {},
   "outputs": [
    {
     "name": "stdout",
     "output_type": "stream",
     "text": [
      "Error accessing table 1\n",
      "Error accessing table 11\n",
      "Error accessing table 12\n",
      "Error accessing table 15\n"
     ]
    }
   ],
   "source": [
    "for i, t in enumerate(d.Tables, 1):\n",
    "    try:\n",
    "        rc = list(t.Rows(1).Cells)[-1]\n",
    "    except com_error:\n",
    "        print(\"Error accessing table %d\"%i)\n",
    "    else:\n",
    "        t = rc.Range.Text\n",
    "        if \"Results\" in t:\n",
    "            rc.Range.Text = t.replace(\"Results\", \"Result\")"
   ]
  },
  {
   "cell_type": "code",
   "execution_count": 6,
   "metadata": {},
   "outputs": [
    {
     "ename": "AttributeError",
     "evalue": "'str' object has no attribute 'Page'",
     "output_type": "error",
     "traceback": [
      "\u001b[1;31m---------------------------------------------------------------------------\u001b[0m",
      "\u001b[1;31mAttributeError\u001b[0m                            Traceback (most recent call last)",
      "\u001b[1;32m<ipython-input-6-a95e4ea658c4>\u001b[0m in \u001b[0;36m<module>\u001b[1;34m()\u001b[0m\n\u001b[1;32m----> 1\u001b[1;33m \u001b[0mt\u001b[0m\u001b[1;33m.\u001b[0m\u001b[0mPage\u001b[0m\u001b[1;33m\u001b[0m\u001b[0m\n\u001b[0m",
      "\u001b[1;31mAttributeError\u001b[0m: 'str' object has no attribute 'Page'"
     ]
    }
   ],
   "source": [
    "t.Page"
   ]
  },
  {
   "cell_type": "code",
   "execution_count": 33,
   "metadata": {},
   "outputs": [
    {
     "name": "stdout",
     "output_type": "stream",
     "text": [
      "#\n",
      "Step\n",
      "Result\n",
      "\n",
      "\n",
      "Collect supplies for DO sensor calibration:\r",
      "\tAir calibration adapter\r",
      "\tDO Sensor\n",
      "(Pass(Fail\n",
      "\n",
      "\n",
      "Verify the DO sensor has been attached to the bioreactor’s DO Sensor cable for at least 12 hours. \r",
      "Log into the Desktop UI and navigate to Config -> Calibrate -> DO and select 2 point cal.\n",
      "(Pass(Fail\n",
      "\n",
      "\n",
      "Attach the air calibration adapter to the main gas connector on the bioreactor housing. Insert the DO probe into the open syringe end.\r",
      "Set Main Gas to 0.2 LPM. Verify that DO and pH are Off.\r",
      "Allow the reading to stabilize for 2 min or until stable. \r",
      "Enter “100” in the Cal Actual 1 box and press “Tare Now”.\n",
      "(Pass(Fail\n",
      "\n",
      "\n",
      "Disconnect the cable and allow the reading to stabilize. \r",
      "Enter “0” in the Cal Actual 2 box and press “Tare Now”.\r",
      "Press “Save” and record calibration values. \n",
      "Slope:\n",
      "\n",
      "\n",
      "\n",
      "Intercept:\n",
      "\n",
      "\n",
      "Verify values fall within acceptable range: TBD\n",
      "(Pass(Fail\n",
      "\n",
      "Comments:\n",
      "\n",
      "Initials: ___________      Date: ____________\n",
      "Acceptance Criteria Met?\r",
      "( Pass   ( Fail   ( Acceptable Deviation\n",
      "\n",
      "\n"
     ]
    }
   ],
   "source": [
    "print(t.Range.Text.replace(\"\\r\\x07\", \"\\n\"))"
   ]
  },
  {
   "cell_type": "code",
   "execution_count": 39,
   "metadata": {},
   "outputs": [],
   "source": [
    "for t in d.Tables:\n",
    "    t.Rows.WrapAroundText = False\n",
    "    t.Rows.Alignment = c.wdAlignRowCenter"
   ]
  },
  {
   "cell_type": "code",
   "execution_count": 9,
   "metadata": {},
   "outputs": [],
   "source": [
    "t = d.Tables(20)"
   ]
  },
  {
   "cell_type": "code",
   "execution_count": 13,
   "metadata": {},
   "outputs": [],
   "source": [
    "def pmg(t):\n",
    "    return sorted(t._prop_map_get_.keys())"
   ]
  },
  {
   "cell_type": "code",
   "execution_count": 37,
   "metadata": {},
   "outputs": [
    {
     "data": {
      "text/plain": [
       "['Alignment',\n",
       " 'AllowBreakAcrossPage',\n",
       " 'AllowPageBreaks',\n",
       " 'Application',\n",
       " 'Borders',\n",
       " 'BottomPadding',\n",
       " 'ColumnStripe',\n",
       " 'Creator',\n",
       " 'LeftIndent',\n",
       " 'LeftPadding',\n",
       " 'Parent',\n",
       " 'RightPadding',\n",
       " 'RowStripe',\n",
       " 'Shading',\n",
       " 'Spacing',\n",
       " 'TableDirection',\n",
       " 'TopPadding']"
      ]
     },
     "execution_count": 37,
     "metadata": {},
     "output_type": "execute_result"
    }
   ],
   "source": [
    "pmg(t.Style.Table)"
   ]
  },
  {
   "cell_type": "code",
   "execution_count": 27,
   "metadata": {},
   "outputs": [
    {
     "data": {
      "text/plain": [
       "['wd70FE',\n",
       " 'wdActiveEndAdjustedPageNumber',\n",
       " 'wdAdjustProportional',\n",
       " 'wdAlignPageNumberCenter',\n",
       " 'wdAlignParagraphCenter',\n",
       " 'wdAlignRowCenter',\n",
       " 'wdAlignTabCenter',\n",
       " 'wdAlignVerticalCenter',\n",
       " 'wdAllAtOnce',\n",
       " 'wdAllowOnlyComments',\n",
       " 'wdAlwaysConvert',\n",
       " 'wdAnimationLasVegasLights',\n",
       " 'wdArtApples',\n",
       " 'wdAutoFitContent',\n",
       " 'wdAutoNew',\n",
       " 'wdAutoVersionOnClose',\n",
       " 'wdBalloonPrintOrientationPreserve',\n",
       " 'wdBalloonWidthPoints',\n",
       " 'wdBaselineAlignCenter',\n",
       " 'wdBeneathText',\n",
       " 'wdBlack',\n",
       " 'wdBorderDistanceFromPageEdge',\n",
       " 'wdBrowsePage',\n",
       " 'wdBrowserLevelMicrosoftInternetExplorer5',\n",
       " 'wdBulletGallery',\n",
       " 'wdCROnly',\n",
       " 'wdCalendarArabic',\n",
       " 'wdCancelInterrupt',\n",
       " 'wdCaptionNumberStyleUppercaseRoman',\n",
       " 'wdCaptionPositionBelow',\n",
       " 'wdCellAlignVerticalCenter',\n",
       " 'wdCellColorPink',\n",
       " 'wdCenter',\n",
       " 'wdCenterPortrait',\n",
       " 'wdCentimeters',\n",
       " 'wdCharacter',\n",
       " 'wdCheckInMajorVersion',\n",
       " 'wdCollapseStart',\n",
       " 'wdCompareDestinationRevised',\n",
       " 'wdCompareTargetCurrent',\n",
       " 'wdContentControlDateStorageDate',\n",
       " 'wdContentControlText',\n",
       " 'wdControlSmartTag',\n",
       " 'wdCursorIBeam',\n",
       " 'wdCursorMovementVisual',\n",
       " 'wdCustomLabelLetterLS',\n",
       " 'wdDefaultFirstRecord',\n",
       " 'wdDeleteCellsShiftUp',\n",
       " 'wdDeletedTextMarkStrikeThrough',\n",
       " 'wdDiacriticColorLatin',\n",
       " 'wdDocument',\n",
       " 'wdDocumentLetter',\n",
       " 'wdDocumentViewLtr',\n",
       " 'wdDropNormal',\n",
       " 'wdEmailHTMLFidelityLow',\n",
       " 'wdEmphasisMarkOverSolidCircle',\n",
       " 'wdEncloseStyleSmall',\n",
       " 'wdEnclosureSquare',\n",
       " 'wdEndOfDocument',\n",
       " 'wdExportCreateHeadingBookmarks',\n",
       " 'wdExportOptimizeForOnScreen',\n",
       " 'wdExportSelection',\n",
       " 'wdExtend',\n",
       " 'wdFarEastLineBreakLevelStrict',\n",
       " 'wdFieldKindHot',\n",
       " 'wdFieldShadingAlways',\n",
       " 'wdFindContinue',\n",
       " 'wdFirst',\n",
       " 'wdFloatOverText',\n",
       " 'wdFlowRtl',\n",
       " 'wdFontBiasFareast',\n",
       " 'wdFormatTemplate',\n",
       " 'wdFormatTemplate97',\n",
       " 'wdFormattingFromSelected',\n",
       " 'wdFrameAtLeast',\n",
       " 'wdFramesetNewFrameBelow',\n",
       " 'wdFramesetSizeTypeFixed',\n",
       " 'wdFramesetTypeFrame',\n",
       " 'wdFrenchPreReform',\n",
       " 'wdGenderMale',\n",
       " 'wdGlobalTemplate',\n",
       " 'wdGoToAbsolute',\n",
       " 'wdGoToFirst',\n",
       " 'wdGoToPage',\n",
       " 'wdGrammar',\n",
       " 'wdGrammaticalError',\n",
       " 'wdGranularityWordLevel',\n",
       " 'wdGutterPosTop',\n",
       " 'wdHanjaToHangul',\n",
       " 'wdHeaderFooterPrimary',\n",
       " 'wdHeadingSeparatorBlankLine',\n",
       " 'wdHelpAbout',\n",
       " 'wdHighAnsiIsHighAnsi',\n",
       " 'wdHorizontalInVerticalFitInLine',\n",
       " 'wdHorizontalLineAlignCenter',\n",
       " 'wdIMEModeOn',\n",
       " 'wdIcons',\n",
       " 'wdInLineRevisions',\n",
       " 'wdIndent',\n",
       " 'wdIndexClassic',\n",
       " 'wdIndexFilterAiueo',\n",
       " 'wdIndexRunin',\n",
       " 'wdIndexSortBySyllable',\n",
       " 'wdInitialAlef',\n",
       " 'wdInlineShapeEmbeddedOLEObject',\n",
       " 'wdInsertCellsShiftDown',\n",
       " 'wdInsertParagraph',\n",
       " 'wdInsertedTextMarkBold',\n",
       " 'wdJustificationModeCompress',\n",
       " 'wdKeyCategoryCommand',\n",
       " 'wdLastRow',\n",
       " 'wdLayoutModeGrid',\n",
       " 'wdLetterBottom',\n",
       " 'wdLineSpace1pt5',\n",
       " 'wdLineStyleSingle',\n",
       " 'wdLinkDataInDoc',\n",
       " 'wdLinkTypePicture',\n",
       " 'wdListApplyToThisPointForward',\n",
       " 'wdListLevelAlignCenter',\n",
       " 'wdListListNumOnly',\n",
       " 'wdListNumberStyleUppercaseRoman',\n",
       " 'wdMAPI',\n",
       " 'wdMailFormatHTML',\n",
       " 'wdMailingLabels',\n",
       " 'wdMainDocumentOnly',\n",
       " 'wdMainTextStory',\n",
       " 'wdMatchDestinationFormatting',\n",
       " 'wdMatchGraphic',\n",
       " 'wdMergeFormatFromRevised',\n",
       " 'wdMergeIfNotEqual',\n",
       " 'wdMergeInfoFromAccessDDE',\n",
       " 'wdMergeSubTypeAccess',\n",
       " 'wdMergeTargetCurrent',\n",
       " 'wdModifiedBlock',\n",
       " 'wdMonthNamesEnglish',\n",
       " 'wdMoveFromTextMarkDoubleStrikeThrough',\n",
       " 'wdMoveToTextMarkBold',\n",
       " 'wdNewWebPage',\n",
       " 'wdNoTabHangIndent',\n",
       " 'wdNormalView',\n",
       " 'wdNoteNumberStyleUppercaseRoman',\n",
       " 'wdNoun',\n",
       " 'wdNumberParagraph',\n",
       " 'wdNumberText',\n",
       " 'wdNumeralHindi',\n",
       " 'wdOLEEmbed',\n",
       " 'wdOMathBreakBinAfter',\n",
       " 'wdOMathBreakSubPlusMinus',\n",
       " 'wdOMathFracNoBar',\n",
       " 'wdOMathFunctionAcc',\n",
       " 'wdOMathHorizAlignLeft',\n",
       " 'wdOMathInline',\n",
       " 'wdOMathJcCenterGroup',\n",
       " 'wdOMathShapeMatch',\n",
       " 'wdOMathSpacing1pt5',\n",
       " 'wdOMathVertAlignTop',\n",
       " 'wdOpenFormatDocument',\n",
       " 'wdOpenFormatDocument97',\n",
       " 'wdOrganizerObjectAutoText',\n",
       " 'wdOrientLandscape',\n",
       " 'wdOriginalDocumentFormat',\n",
       " 'wdOutlineLevel1',\n",
       " 'wdPageFitFullPage',\n",
       " 'wdPageNumberStyleUppercaseRoman',\n",
       " 'wdPanePrimaryHeader',\n",
       " 'wdPaper11x17',\n",
       " 'wdPartialScript',\n",
       " 'wdPasteRTF',\n",
       " 'wdPhoneticGuideAlignmentZeroOneZero',\n",
       " 'wdPicturesPath',\n",
       " 'wdPreferredWidthAuto',\n",
       " 'wdPrintOddPagesOnly',\n",
       " 'wdPrintProperties',\n",
       " 'wdPrintSelection',\n",
       " 'wdPrinterOnlyBin',\n",
       " 'wdPrinterUpperBin',\n",
       " 'wdPriorityNormal',\n",
       " 'wdPropertyTitle',\n",
       " 'wdRDIComments',\n",
       " 'wdReadingOrderLtr',\n",
       " 'wdRefTypeHeading',\n",
       " 'wdRelativeHorizontalPositionPage',\n",
       " 'wdRelativeHorizontalSizePage',\n",
       " 'wdRelativeVerticalPositionPage',\n",
       " 'wdRelativeVerticalSizePage',\n",
       " 'wdRelocateDown',\n",
       " 'wdReplaceOne',\n",
       " 'wdResetList',\n",
       " 'wdRestartSection',\n",
       " 'wdRevisedLinesMarkLeftBorder',\n",
       " 'wdRevisedPropertiesMarkBold',\n",
       " 'wdRevisionInsert',\n",
       " 'wdRevisionsViewOriginal',\n",
       " 'wdRightMargin',\n",
       " 'wdRightToLeft',\n",
       " 'wdRouteInProgress',\n",
       " 'wdRowHeightAtLeast',\n",
       " 'wdSalutationFormal',\n",
       " 'wdScrollbarTypeYes',\n",
       " 'wdSectionDirectionLtr',\n",
       " 'wdSectionNewColumn',\n",
       " 'wdSeekPrimaryHeader',\n",
       " 'wdSelStartActive',\n",
       " 'wdSelectionIP',\n",
       " 'wdSendPublisher',\n",
       " 'wdSendToPrinter',\n",
       " 'wdSeparateByTabs',\n",
       " 'wdSeparatorPeriod',\n",
       " 'wdShapeRectangle',\n",
       " 'wdShowFilterStylesInUse',\n",
       " 'wdShowSourceDocumentsOriginal',\n",
       " 'wdSortByLocation',\n",
       " 'wdSortFieldNumeric',\n",
       " 'wdSortOrderDescending',\n",
       " 'wdSortSeparateByCommas',\n",
       " 'wdSpellingNotInDictionary',\n",
       " 'wdStatisticLines',\n",
       " 'wdStyleSheetLinkTypeImported',\n",
       " 'wdStyleSheetPrecedenceHighest',\n",
       " 'wdStyleSortRecommended',\n",
       " 'wdStyleTypeParagraph',\n",
       " 'wdSubscriber',\n",
       " 'wdSubscriberRTF',\n",
       " 'wdSummaryModeHideAllButSummary',\n",
       " 'wdSuppressMargin',\n",
       " 'wdTCSCConverterDirectionTCSC',\n",
       " 'wdTOAClassic',\n",
       " 'wdTOCClassic',\n",
       " 'wdTOFClassic',\n",
       " 'wdTabLeaderDots',\n",
       " 'wdTableDirectionLtr',\n",
       " 'wdTableFormatApplyBorders',\n",
       " 'wdTableFormatSimple1',\n",
       " 'wdTableRow',\n",
       " 'wdTaskPaneRevealFormatting',\n",
       " 'wdTextOrientationVerticalFarEast',\n",
       " 'wdThemeColorMainLight1',\n",
       " 'wdTightAll',\n",
       " 'wdTrailingSpace',\n",
       " 'wdTwoLinesInOneNoBrackets',\n",
       " 'wdTypeQuickParts',\n",
       " 'wdTypeTemplate',\n",
       " 'wdUS',\n",
       " 'wdUnderlineSingle',\n",
       " 'wdUniqueIdentifier',\n",
       " 'wdUpperCase',\n",
       " 'wdVisualSelectionContinuous',\n",
       " 'wdWildcard',\n",
       " 'wdWindowStateMaximize',\n",
       " 'wdWindowTemplate',\n",
       " 'wdWord9ListBehavior',\n",
       " 'wdWord9TableBehavior',\n",
       " 'wdWrapAlways',\n",
       " 'wdWrapLeft',\n",
       " 'wdWrapMergeSquare',\n",
       " 'wdWrapTight',\n",
       " 'wdXMLNodeElement',\n",
       " 'wdXMLNodeLevelParagraph',\n",
       " 'wdXMLSelectionChangeReasonInsert']"
      ]
     },
     "execution_count": 27,
     "metadata": {},
     "output_type": "execute_result"
    }
   ],
   "source": [
    "cd = wincom_const.__dicts__[0]\n",
    "td = t.TableDirection\n",
    "v = []\n",
    "for key, value in cd.items():\n",
    "    if value == td and key[:2] == \"wd\":\n",
    "        v.append(key)\n",
    "        \n",
    "sorted(v)\n",
    "    "
   ]
  },
  {
   "cell_type": "code",
   "execution_count": 34,
   "metadata": {},
   "outputs": [
    {
     "data": {
      "text/plain": [
       "1"
      ]
     },
     "execution_count": 34,
     "metadata": {},
     "output_type": "execute_result"
    }
   ],
   "source": [
    "t.TableDirection"
   ]
  },
  {
   "cell_type": "code",
   "execution_count": 35,
   "metadata": {},
   "outputs": [
    {
     "data": {
      "text/plain": [
       "1"
      ]
     },
     "execution_count": 35,
     "metadata": {},
     "output_type": "execute_result"
    }
   ],
   "source": [
    "td"
   ]
  },
  {
   "cell_type": "code",
   "execution_count": null,
   "metadata": {},
   "outputs": [],
   "source": []
  }
 ],
 "metadata": {
  "kernelspec": {
   "display_name": "Python 3",
   "language": "python",
   "name": "python3"
  },
  "language_info": {
   "codemirror_mode": {
    "name": "ipython",
    "version": 3
   },
   "file_extension": ".py",
   "mimetype": "text/x-python",
   "name": "python",
   "nbconvert_exporter": "python",
   "pygments_lexer": "ipython3",
   "version": "3.5.2"
  }
 },
 "nbformat": 4,
 "nbformat_minor": 2
}
