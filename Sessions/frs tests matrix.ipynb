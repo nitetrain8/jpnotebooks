{
 "cells": [
  {
   "cell_type": "code",
   "execution_count": 12,
   "metadata": {},
   "outputs": [],
   "source": [
    "from officelib.xllib import *\n",
    "from officelib.const import xlconst as xlc\n",
    "\n",
    "from scripts.tools.redmine_cache import RedmineClient\n",
    "import importlib\n",
    "import jpnotebooks.Software.SDLC_traceability_tools.issuetracker_item_extracter2 as iie\n",
    "import collections\n",
    "\n",
    "iie = importlib.reload(iie)\n",
    "\n",
    "_client = None\n",
    "_get_client()\n",
    "\n",
    "def _get_client():\n",
    "    global _client\n",
    "    if _client is None:\n",
    "        _client = RedmineClient()\n",
    "    return _client\n",
    "def _download_issues():\n",
    "    _client = _get_client()\n",
    "    return _client.get_filtered([('project.identifier', '==', 'pbssoftware')])\n",
    "\n",
    "def get_issues():\n",
    "    return _download_issues()"
   ]
  },
  {
   "cell_type": "code",
   "execution_count": 22,
   "metadata": {},
   "outputs": [],
   "source": [
    "def _load_trm_inner(fp):\n",
    "    xl = Excel()\n",
    "    with screen_lock(xl):\n",
    "        wb = xl.Workbooks.Open(fp)\n",
    "        ws = wb.Worksheets(1)\n",
    "        ret = ws.UsedRange.Value2\n",
    "        wb.Close(False)\n",
    "    xl.Quit()\n",
    "    return ret\n",
    "    \n",
    "def load_trm(fp):\n",
    "    data = _load_trm_inner(fp)\n",
    "    ret = collections.defaultdict(set)\n",
    "    for vi, frs, btested in data:\n",
    "        frs = frs.strip()\n",
    "        vi = vi.strip()\n",
    "        ret[frs].add(vi)\n",
    "    return ret"
   ]
  },
  {
   "cell_type": "code",
   "execution_count": 96,
   "metadata": {},
   "outputs": [
    {
     "name": "stdout",
     "output_type": "stream",
     "text": [
      "Parsing relevant issues\n"
     ]
    }
   ],
   "source": [
    "def relevant(i):\n",
    "    return i.id == 4443 or (i.sprint_milestone.name == '3.0.8' and i.priority.name in ('High', 'Urgent', 'Immediate'))\n",
    "\n",
    "iie = importlib.reload(iie)\n",
    "issues = get_issues()\n",
    "print(\"Parsing relevant issues\")\n",
    "relevant = [i for i in issues.values() if relevant(i)]\n",
    "reqs = iie.IssuetrackerParser([\"URS\",\"FRS\",\"SWDS\"]).parse_all(relevant)\n",
    "trm = load_trm(\"C:\\\\users\\\\nathan\\\\documents\\\\personal\\\\test\\\\3.0.8\\\\Traceability Matrix (Reqs and VI).csv\")\n",
    "#dreqs = {r.tag: r for r in reqs if not r.obs}\n",
    "reqs = [r for r in reqs if not r.obs]\n",
    "mout = []\n",
    "for r in reqs:\n",
    "    vis = trm[r.tag]\n",
    "    mout.append((r.tag, \"\\n\".join(vis)))"
   ]
  },
  {
   "cell_type": "code",
   "execution_count": 97,
   "metadata": {},
   "outputs": [],
   "source": [
    "xl = Excel()\n",
    "with screen_lock(xl):\n",
    "    wb = xl.Workbooks.Add()\n",
    "    ws = wb.Worksheets(1)\n",
    "    cells = ws.Cells\n",
    "    cr = cells.Range\n",
    "    c1 = cr(\"A1\")\n",
    "    c2 = c1.GetOffset(len(mout)-1, len(mout[0])-1)\n",
    "    cr(c1, c2).Value2 = mout"
   ]
  },
  {
   "cell_type": "code",
   "execution_count": 98,
   "metadata": {},
   "outputs": [],
   "source": [
    "iie = importlib.reload(iie)\n",
    "import re\n",
    "def parse_line(find, line):\n",
    "    typenums = find(line)\n",
    "    for typ, num in typenums:\n",
    "        yield typ + num\n",
    "    \n",
    "covers_find = re.compile(r\".*\\[Covers\\:(.*)\\].*\").match\n",
    "\n",
    "def comment_to_line(comment):\n",
    "    m = covers_find(comment)\n",
    "    if m:\n",
    "        return m.group(1)\n",
    "    else:\n",
    "        return \"\"\n",
    "\n",
    "def parse_lvtest_file(fp):\n",
    "    with open(fp, 'r', encoding=\"utf_16_le\") as f:\n",
    "        lines = f.read().splitlines()\n",
    "    data = [line.split(\"\\t\") for line in lines]\n",
    "    \n",
    "    it = iter(data)\n",
    "    allrefs = set()\n",
    "    _, _, _, ref_find = iie._make_regex_ctx([\"URS\", \"FRS\", \"SWDS\", \"SDS\"])\n",
    "    \n",
    "    # section 1: metadata\n",
    "    next(it)  # skip header\n",
    "    for values in it:\n",
    "        if len(values) == 1 and values[0] == \"\":\n",
    "            break\n",
    "        if values[0] == \"Requirement ID\":\n",
    "            allrefs.update(parse_line(ref_find, values[1]))\n",
    "        #print(repr(values))\n",
    "    \n",
    "    # section2: test cases & comments\n",
    "    next(it)  # skip header\n",
    "    for values in it:\n",
    "        if len(values) == 1 and values[0] == \"\":\n",
    "            break\n",
    "        line = comment_to_line(values[1])\n",
    "        allrefs.update(parse_line(ref_find, line))\n",
    "        \n",
    "    return allrefs\n",
    "\n",
    "def extract_lvtest_files(fps):\n",
    "    mtx = collections.defaultdict(set)\n",
    "    for fp in fps:\n",
    "        refs = parse_lvtest_file(fp)\n",
    "        fn = os.path.split(fp)[1]\n",
    "        for ref in refs:\n",
    "            mtx[ref].add(fn)\n",
    "    return mtx\n",
    "\n",
    "def mtx_to_data(mtx, reqs):\n",
    "    data = []\n",
    "    for r in reqs:\n",
    "        vis = mtx[r.tag]\n",
    "        data.append((r.tag, \"\\n\".join(vis)))\n",
    "    return data\n",
    "    \n",
    "def data_to_xl(data):\n",
    "    xl = Excel()\n",
    "    with screen_lock(xl):\n",
    "        wb = xl.Workbooks.Add()\n",
    "        ws=wb.Worksheets(1)\n",
    "        cells =ws.Cells\n",
    "        cr = cells.Range\n",
    "        c1 = cr(\"A1\")\n",
    "        c2 = c1.GetOffset(len(data)-1, len(data[0])-1)\n",
    "        cr(c1, c2).Value2 = data"
   ]
  },
  {
   "cell_type": "code",
   "execution_count": 99,
   "metadata": {},
   "outputs": [],
   "source": [
    "fd = \"C:\\\\users\\\\nathan\\\\documents\\\\personal\\\\test\\\\3.0.8\"\n",
    "files = [f for f in os.listdir(fd) if f.endswith(\".lvtest\")]\n",
    "fps = [os.path.join(fd, f) for f in files]"
   ]
  },
  {
   "cell_type": "code",
   "execution_count": 100,
   "metadata": {},
   "outputs": [],
   "source": [
    "mtx = extract_lvtest_files(fps)\n",
    "data = mtx_to_data(mtx, reqs)\n",
    "data_to_xl(data)"
   ]
  },
  {
   "cell_type": "code",
   "execution_count": null,
   "metadata": {},
   "outputs": [],
   "source": []
  }
 ],
 "metadata": {
  "kernelspec": {
   "display_name": "Python 3",
   "language": "python",
   "name": "python3"
  },
  "language_info": {
   "codemirror_mode": {
    "name": "ipython",
    "version": 3
   },
   "file_extension": ".py",
   "mimetype": "text/x-python",
   "name": "python",
   "nbconvert_exporter": "python",
   "pygments_lexer": "ipython3",
   "version": "3.5.2"
  }
 },
 "nbformat": 4,
 "nbformat_minor": 2
}
