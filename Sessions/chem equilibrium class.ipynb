{
 "cells": [
  {
   "cell_type": "code",
   "execution_count": 14,
   "metadata": {
    "collapsed": true
   },
   "outputs": [],
   "source": [
    "import numpy as np\n",
    "from pysrc.optimize import make_constants\n",
    "\n",
    "@make_constants({'sqrt': np.sqrt})\n",
    "def qf(a,b,c):\n",
    "    return (-b+sqrt(b**2-4*a*c))/(2*a)\n",
    "\n",
    "class AcidEquilibrium():\n",
    "    def __init__(self, ka, c2, c3):\n",
    "        self.ka = ka\n",
    "        self.c2 = c2\n",
    "        self.c3 = c3\n",
    "        \n",
    "    def pH(self, c1):\n",
    "        a = 1\n",
    "        b = self.c2 + self.c3 + self.ka\n",
    "        c = self.c2 * self.c3 - c1 * self.ka\n",
    "        x = qf(a,b,c)\n",
    "        self.c2 += x\n",
    "        self.c3 += x\n",
    "        \n",
    "        if self.c2 < 0:\n",
    "            self.c2 = 0\n",
    "        if self.c3 < 0: \n",
    "            self.c3 = 0\n",
    "        \n",
    "        return -np.log10(self.c2)\n",
    "        \n",
    "\n",
    "        "
   ]
  },
  {
   "cell_type": "code",
   "execution_count": 27,
   "metadata": {
    "collapsed": true
   },
   "outputs": [],
   "source": [
    "a = AcidEquilibrium(4.45e-7, 1e-7, 2.02/84)"
   ]
  },
  {
   "cell_type": "code",
   "execution_count": 28,
   "metadata": {
    "collapsed": false
   },
   "outputs": [
    {
     "data": {
      "text/plain": [
       "11.732718352753357"
      ]
     },
     "execution_count": 28,
     "metadata": {},
     "output_type": "execute_result"
    }
   ],
   "source": [
    "hcp = 3.4e-2\n",
    "a.pH(0*hcp)"
   ]
  },
  {
   "cell_type": "code",
   "execution_count": null,
   "metadata": {
    "collapsed": true
   },
   "outputs": [],
   "source": []
  },
  {
   "cell_type": "code",
   "execution_count": null,
   "metadata": {
    "collapsed": true
   },
   "outputs": [],
   "source": []
  }
 ],
 "metadata": {
  "kernelspec": {
   "display_name": "Python 3",
   "language": "python",
   "name": "python3"
  },
  "language_info": {
   "codemirror_mode": {
    "name": "ipython",
    "version": 3
   },
   "file_extension": ".py",
   "mimetype": "text/x-python",
   "name": "python",
   "nbconvert_exporter": "python",
   "pygments_lexer": "ipython3",
   "version": "3.5.2"
  }
 },
 "nbformat": 4,
 "nbformat_minor": 1
}
