{
 "cells": [
  {
   "cell_type": "code",
   "execution_count": 29,
   "metadata": {
    "collapsed": true
   },
   "outputs": [],
   "source": [
    "import numpy as np\n",
    "from pysrc.optimize import make_constants\n",
    "\n",
    "@make_constants({'sqrt': np.sqrt})\n",
    "def qf(a,b,c):\n",
    "    return (-b+sqrt(b**2-4*a*c))/(2*a)\n",
    "\n",
    "class AcidEquilibrium():\n",
    "    def __init__(self, ka, c2, c3):\n",
    "        self.ka = ka\n",
    "        self.c2 = c2\n",
    "        self.c3 = c3\n",
    "        \n",
    "    def pH(self, c1):\n",
    "        a = 1\n",
    "        b = self.c2 + self.c3 + self.ka\n",
    "        c = self.c2 * self.c3 - c1 * self.ka\n",
    "        x = qf(a,b,c)\n",
    "        self.c2 += x\n",
    "        self.c3 += x\n",
    "        \n",
    "        if self.c2 < 0:\n",
    "            self.c2 = 0\n",
    "        if self.c3 < 0: \n",
    "            self.c3 = 0\n",
    "        \n",
    "        return -np.log10(self.c2)\n",
    "        \n",
    "\n",
    "        "
   ]
  },
  {
   "cell_type": "code",
   "execution_count": 30,
   "metadata": {
    "collapsed": true
   },
   "outputs": [],
   "source": [
    "a = AcidEquilibrium(4.45e-7, 1e-7, 2.02/84)"
   ]
  },
  {
   "cell_type": "code",
   "execution_count": 31,
   "metadata": {
    "collapsed": false
   },
   "outputs": [
    {
     "data": {
      "text/plain": [
       "11.732718352753357"
      ]
     },
     "execution_count": 31,
     "metadata": {},
     "output_type": "execute_result"
    }
   ],
   "source": [
    "hcp = 3.4e-2\n",
    "a.pH(0*hcp)"
   ]
  },
  {
   "cell_type": "code",
   "execution_count": 33,
   "metadata": {
    "collapsed": false
   },
   "outputs": [
    {
     "name": "stdout",
     "output_type": "stream",
     "text": [
      "Using matplotlib backend: TkAgg\n"
     ]
    }
   ],
   "source": [
    "from matplotlib import pyplot as plt\n",
    "%matplotlib"
   ]
  },
  {
   "cell_type": "code",
   "execution_count": 34,
   "metadata": {
    "collapsed": true
   },
   "outputs": [],
   "source": [
    "z = np.linspace(0, 1) * 3.4e-2\n",
    "\n",
    "def equil(c1, c2, c3, ka):\n",
    "    a = 1\n",
    "    b = c2+c3+ka\n",
    "    c = c2*c3 - ka*c1\n",
    "    x = qf(a,b,c)\n",
    "    return c1-x, c2+x, c3+x\n",
    "\n",
    "c1 = z\n",
    "c2 = 1e-7\n",
    "c3 = 2.02/84\n",
    "ka = 4.45e-7\n",
    "\n",
    "z, y, x = equil(c1, c3, c3, ka)"
   ]
  },
  {
   "cell_type": "code",
   "execution_count": 39,
   "metadata": {
    "collapsed": false
   },
   "outputs": [
    {
     "data": {
      "text/plain": [
       "<matplotlib.legend.Legend at 0x1d2a806b3c8>"
      ]
     },
     "execution_count": 39,
     "metadata": {},
     "output_type": "execute_result"
    }
   ],
   "source": [
    "plt.plot(z,y, label=\"H+ v CO2\")\n",
    "plt.plot(x*100,y, label=\"HCO3 v CO2\")\n",
    "#plt.gca().set_xscale('log')\n",
    "plt.legend()"
   ]
  },
  {
   "cell_type": "code",
   "execution_count": 42,
   "metadata": {
    "collapsed": false
   },
   "outputs": [
    {
     "data": {
      "text/plain": [
       "[<matplotlib.lines.Line2D at 0x1d2a6d1f710>]"
      ]
     },
     "execution_count": 42,
     "metadata": {},
     "output_type": "execute_result"
    }
   ],
   "source": [
    "dxdz = np.gradient(ka/y)\n",
    "\n",
    "plt.plot(z, dxdz)\n"
   ]
  },
  {
   "cell_type": "code",
   "execution_count": 72,
   "metadata": {
    "collapsed": false
   },
   "outputs": [
    {
     "data": {
      "text/plain": [
       "(-1.5166293303517375e-07, 1.5166293303517375e-07, 1.5166293303517375e-07)"
      ]
     },
     "execution_count": 72,
     "metadata": {},
     "output_type": "execute_result"
    }
   ],
   "source": [
    "c1 = .4 *3.4e-2\n",
    "c2 = 1e-7\n",
    "c3 = 2.02/84\n",
    "e1, e2, e3 = equil(c1, c2, c3, ka)\n",
    "e1-c1, e2 - c2, e3 - c3"
   ]
  },
  {
   "cell_type": "code",
   "execution_count": 73,
   "metadata": {
    "collapsed": false,
    "scrolled": true
   },
   "outputs": [
    {
     "data": {
      "text/plain": [
       "(0.020399774178378429, 3.7748455460583086e-07, 3.7748455460409613e-07)"
      ]
     },
     "execution_count": 73,
     "metadata": {},
     "output_type": "execute_result"
    }
   ],
   "source": [
    "x1, x2, x3 = equil(c1, c2, c3, ka)\n",
    "e1, e2, e3 = equil(1*3.4e-2, x2, x3, ka)\n",
    "e1-x1, e2 - x2, e3 - x3"
   ]
  },
  {
   "cell_type": "code",
   "execution_count": 54,
   "metadata": {
    "collapsed": false
   },
   "outputs": [
    {
     "data": {
      "text/plain": [
       "1.2582988288302455e-07"
      ]
     },
     "execution_count": 54,
     "metadata": {},
     "output_type": "execute_result"
    }
   ],
   "source": [
    "c1 = .4 *3.4e-2\n",
    "c2 = 1e-7\n",
    "c3 = 2.02/84\n",
    "x1, x2, x3 = equil(c1, c2, c3, ka)\n",
    "dc1 = -.2 * 3.4e-2\n",
    "e1, e2, e3 = equil(x1+dc1, x2, x3, ka)\n",
    "x2 - e2"
   ]
  },
  {
   "cell_type": "code",
   "execution_count": 84,
   "metadata": {
    "collapsed": false
   },
   "outputs": [],
   "source": [
    "from matplotlib.ticker import FormatStrFormatter\n",
    "co2 = np.linspace(0, .99, 100)\n",
    "dco2 = 0.2\n",
    "hco3 = 2.02/84\n",
    "h = 1e-7\n",
    "data = [equil(co2 *3.4e-2, 1e-7, hco3, ka) for co2 in np.linspace(0, 1-dco2, 100)]\n",
    "data2 = []\n",
    "for c, h, b in data:\n",
    "    c2 = c + dco2 * 3.4e-2\n",
    "    e1, e2, e3 = equil(c2, h, b, ka)\n",
    "    dh = e2-h\n",
    "    db = e3-b\n",
    "    data2.append((c, dh, db))\n",
    "    \n",
    "x, dh, db = list(zip(*data2))\n",
    "plt.plot(x, dh)\n",
    "plt.gca().yaxis.set_major_formatter(FormatStrFormatter(\"%s\"))"
   ]
  },
  {
   "cell_type": "code",
   "execution_count": 82,
   "metadata": {
    "collapsed": false
   },
   "outputs": [
    {
     "data": {
      "text/plain": [
       "array([  1.25831200e-07,   1.25831146e-07,   1.25831093e-07,\n",
       "         1.25831040e-07,   1.25830987e-07,   1.25830934e-07,\n",
       "         1.25830880e-07,   1.25830827e-07,   1.25830774e-07,\n",
       "         1.25830721e-07,   1.25830668e-07,   1.25830614e-07,\n",
       "         1.25830561e-07,   1.25830508e-07,   1.25830455e-07,\n",
       "         1.25830402e-07,   1.25830348e-07,   1.25830295e-07,\n",
       "         1.25830242e-07,   1.25830189e-07,   1.25830136e-07,\n",
       "         1.25830082e-07,   1.25830029e-07,   1.25829976e-07,\n",
       "         1.25829923e-07,   1.25829870e-07,   1.25829816e-07,\n",
       "         1.25829763e-07,   1.25829710e-07,   1.25829657e-07,\n",
       "         1.25829604e-07,   1.25829550e-07,   1.25829497e-07,\n",
       "         1.25829444e-07,   1.25829391e-07,   1.25829338e-07,\n",
       "         1.25829284e-07,   1.25829231e-07,   1.25829178e-07,\n",
       "         1.25829125e-07,   1.25829072e-07,   1.25829018e-07,\n",
       "         1.25828965e-07,   1.25828912e-07,   1.25828859e-07,\n",
       "         1.25828806e-07,   1.25828752e-07,   1.25828699e-07,\n",
       "         1.25828646e-07,   1.25828593e-07,   1.25828540e-07,\n",
       "         1.25828486e-07,   1.25828433e-07,   1.25828380e-07,\n",
       "         1.25828327e-07,   1.25828274e-07,   1.25828220e-07,\n",
       "         1.25828167e-07,   1.25828114e-07,   1.25828061e-07,\n",
       "         1.25828008e-07,   1.25827954e-07,   1.25827901e-07,\n",
       "         1.25827848e-07,   1.25827795e-07,   1.25827742e-07,\n",
       "         1.25827688e-07,   1.25827635e-07,   1.25827582e-07,\n",
       "         1.25827529e-07,   1.25827476e-07,   1.25827422e-07,\n",
       "         1.25827369e-07,   1.25827316e-07,   1.25827263e-07,\n",
       "         1.25827210e-07,   1.25827156e-07,   1.25827103e-07,\n",
       "         1.25827050e-07,   1.25826997e-07,   1.25826944e-07,\n",
       "         1.25826890e-07,   1.25826837e-07,   1.25826784e-07,\n",
       "         1.25826731e-07,   1.25826678e-07,   1.25826624e-07,\n",
       "         1.25826571e-07,   1.25826518e-07,   1.25826465e-07,\n",
       "         1.25826412e-07,   1.25826358e-07,   1.25826305e-07,\n",
       "         1.25826252e-07,   1.25826199e-07,   1.25826146e-07,\n",
       "         1.25826092e-07,   1.25826039e-07,   1.25825986e-07,\n",
       "         1.25825933e-07])"
      ]
     },
     "execution_count": 82,
     "metadata": {},
     "output_type": "execute_result"
    }
   ],
   "source": [
    "dh = np.array(dh)\n",
    "db = np.array(db)\n",
    "dh == db\n",
    "dh"
   ]
  },
  {
   "cell_type": "code",
   "execution_count": 86,
   "metadata": {
    "collapsed": true
   },
   "outputs": [],
   "source": [
    "def ph(c1, c2, c3, ka=4.45e-7):\n",
    "    e1, e2, e3 = equil(c1*3.4e-2, c2, c3, ka)\n",
    "    return - np.log10(e2)"
   ]
  },
  {
   "cell_type": "code",
   "execution_count": 88,
   "metadata": {
    "collapsed": false
   },
   "outputs": [
    {
     "data": {
      "text/plain": [
       "11.732718352753357"
      ]
     },
     "execution_count": 88,
     "metadata": {},
     "output_type": "execute_result"
    }
   ],
   "source": [
    "f=1\n",
    "ph(0, 1e-7, 2.02/84/f)"
   ]
  },
  {
   "cell_type": "code",
   "execution_count": 89,
   "metadata": {
    "collapsed": false
   },
   "outputs": [
    {
     "name": "stdout",
     "output_type": "stream",
     "text": [
      "2.02 11.7327183528\n",
      "0.202 10.7327743756\n",
      "0.0202 9.73333502121\n",
      "0.00202 8.73893089946\n",
      "0.000202 7.79346876715\n",
      "2.0200000000000003e-05 7.16692834949\n",
      "2.0199999999999997e-06 7.01889659585\n",
      "2.0199999999999998e-07 7.0019136091\n",
      "2.0200000000000002e-08 7.00019160165\n",
      "2.02e-09 7.00001916257\n"
     ]
    }
   ],
   "source": [
    "for f in range(10):\n",
    "    f = 10**-f\n",
    "    bc = 2.02 * f\n",
    "    p = ph(0, 1e-7, bc/84)\n",
    "    print(bc, p)"
   ]
  },
  {
   "cell_type": "code",
   "execution_count": 90,
   "metadata": {
    "collapsed": false
   },
   "outputs": [
    {
     "data": {
      "text/plain": [
       "7.0"
      ]
     },
     "execution_count": 90,
     "metadata": {},
     "output_type": "execute_result"
    }
   ],
   "source": [
    "ph(0, 1e-7, 0)"
   ]
  },
  {
   "cell_type": "code",
   "execution_count": null,
   "metadata": {
    "collapsed": true
   },
   "outputs": [],
   "source": [
    "c = []\n",
    "co2 = 0\n",
    "for co2 in range(100):\n",
    "    co2 /= 100\n",
    "    co2 *= 3.4e-2\n",
    "    p = ph(co2, )"
   ]
  }
 ],
 "metadata": {
  "kernelspec": {
   "display_name": "Python 3",
   "language": "python",
   "name": "python3"
  },
  "language_info": {
   "codemirror_mode": {
    "name": "ipython",
    "version": 3
   },
   "file_extension": ".py",
   "mimetype": "text/x-python",
   "name": "python",
   "nbconvert_exporter": "python",
   "pygments_lexer": "ipython3",
   "version": "3.5.2"
  }
 },
 "nbformat": 4,
 "nbformat_minor": 1
}
