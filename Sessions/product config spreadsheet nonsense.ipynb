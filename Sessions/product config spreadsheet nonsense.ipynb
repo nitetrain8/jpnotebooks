{
 "cells": [
  {
   "cell_type": "code",
   "execution_count": 1,
   "metadata": {},
   "outputs": [],
   "source": [
    "from officelib.xllib import *\n",
    "xl = Excel()"
   ]
  },
  {
   "cell_type": "code",
   "execution_count": 14,
   "metadata": {},
   "outputs": [],
   "source": [
    "rf = xl.RecentFiles(1).Path\n",
    "wb = xl.Workbooks.Open(rf, Password=\"pbsaccess\", WriteResPassword=\"pbsaccess\", IgnoreReadOnlyRecommended=True)"
   ]
  },
  {
   "cell_type": "code",
   "execution_count": 25,
   "metadata": {},
   "outputs": [],
   "source": [
    "sns = xl.Selection"
   ]
  },
  {
   "cell_type": "code",
   "execution_count": 18,
   "metadata": {},
   "outputs": [],
   "source": [
    "updates = xl.Selection"
   ]
  },
  {
   "cell_type": "code",
   "execution_count": 23,
   "metadata": {},
   "outputs": [],
   "source": [
    "import pytz\n",
    "from datetime import datetime, date"
   ]
  },
  {
   "cell_type": "code",
   "execution_count": 36,
   "metadata": {},
   "outputs": [],
   "source": [
    "def iter2(o):\n",
    "    it = iter(o)\n",
    "    while True:\n",
    "        a = next(it)\n",
    "        yield a, next(it)"
   ]
  },
  {
   "cell_type": "code",
   "execution_count": 34,
   "metadata": {},
   "outputs": [],
   "source": [
    "mr = {}\n",
    "for sn, updated in sns.Value:\n",
    "    date = datetime(1970, 1, 1, tzinfo=pytz.utc)\n",
    "    for d, _, changes in updates.Value:\n",
    "        if sn in changes and d > date:\n",
    "            date = d\n",
    "    mr[sn] = date"
   ]
  },
  {
   "cell_type": "code",
   "execution_count": 39,
   "metadata": {},
   "outputs": [],
   "source": [
    "for sn, d in iter2(sns):\n",
    "    date = mr[sn.Value]\n",
    "    if date == datetime(1970, 1, 1, tzinfo=pytz.utc):\n",
    "        d.Value = \"\"\n",
    "    else:\n",
    "        d.Value = date"
   ]
  },
  {
   "cell_type": "code",
   "execution_count": 40,
   "metadata": {},
   "outputs": [],
   "source": [
    "for sn, _ in iter2(sns):\n",
    "    v = sn.Value\n",
    "    if len(v) < 11:\n",
    "        v = \"0\"*(11-len(v))+v\n",
    "        sn.Value = v"
   ]
  },
  {
   "cell_type": "code",
   "execution_count": null,
   "metadata": {},
   "outputs": [],
   "source": []
  }
 ],
 "metadata": {
  "kernelspec": {
   "display_name": "Python 3",
   "language": "python",
   "name": "python3"
  },
  "language_info": {
   "codemirror_mode": {
    "name": "ipython",
    "version": 3
   },
   "file_extension": ".py",
   "mimetype": "text/x-python",
   "name": "python",
   "nbconvert_exporter": "python",
   "pygments_lexer": "ipython3",
   "version": "3.5.2"
  }
 },
 "nbformat": 4,
 "nbformat_minor": 2
}
