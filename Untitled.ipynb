{
 "cells": [
  {
   "cell_type": "code",
   "execution_count": 1,
   "metadata": {
    "collapsed": true
   },
   "outputs": [],
   "source": [
    "import json"
   ]
  },
  {
   "cell_type": "code",
   "execution_count": 3,
   "metadata": {
    "collapsed": false
   },
   "outputs": [
    {
     "name": "stdout",
     "output_type": "stream",
     "text": [
      "GOT FLOAT: '0.12345'\n",
      "GOT FLOAT: '2.3456'\n"
     ]
    },
    {
     "data": {
      "text/plain": [
       "{'key1': 0.12345, 'key2': {'key2.1': 2.3456}}"
      ]
     },
     "execution_count": 3,
     "metadata": {},
     "output_type": "execute_result"
    }
   ],
   "source": [
    "ex1 = \"\"\"\n",
    "{\n",
    "    \"key1\": 0.12345,\n",
    "    \"key2\": {\n",
    "        \"key2.1\": 2.3456\n",
    "    }\n",
    "}\n",
    "\"\"\"\n",
    "def parse_float(f):\n",
    "    print(\"GOT FLOAT: %r\" % (str(f)))\n",
    "    return float(f)\n",
    "\n",
    "json.loads(ex1, parse_float = parse_float)"
   ]
  },
  {
   "cell_type": "code",
   "execution_count": null,
   "metadata": {
    "collapsed": true
   },
   "outputs": [],
   "source": []
  }
 ],
 "metadata": {
  "kernelspec": {
   "display_name": "Python 3",
   "language": "python",
   "name": "python3"
  },
  "language_info": {
   "codemirror_mode": {
    "name": "ipython",
    "version": 3
   },
   "file_extension": ".py",
   "mimetype": "text/x-python",
   "name": "python",
   "nbconvert_exporter": "python",
   "pygments_lexer": "ipython3",
   "version": "3.5.2"
  }
 },
 "nbformat": 4,
 "nbformat_minor": 1
}
