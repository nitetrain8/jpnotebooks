{
 "cells": [
  {
   "cell_type": "code",
   "execution_count": 15,
   "metadata": {
    "collapsed": false
   },
   "outputs": [
    {
     "name": "stdout",
     "output_type": "stream",
     "text": [
      "* *FRS2856.2.1*: The taskbar will all be grayed out initially, except for item 2, which will never be grayed out.\n",
      "* *FRS2856.2.2*: On startup, the shell will start the DB Logger, the NetworkSetOnAtom and NetworkFetchOnAtom, and the Command Handler subVI (Use queue to relay information, front panels for networking codes are removed)\n",
      "* *FRS2856.2.3*: While connecting to the RIO, a subVI will be displayed in the subpanel showing the different progress.\n",
      "* *FRS2856.2.4*: Start the Hello UI after verifying calibration, web server, and connection from Atom to RIO and back.\n",
      "* *FRS2856.2.5*: After all connection and verification processes are completed, show the welcome screen with the message \"Click anywhere to log in\".\n",
      "* *FRS2856.2.6*: The user will click on the welcome screen. This will show a login screen.\n",
      "* *FRS2856.2.7*: After successful login, the taskbar will only enable the buttons that the user has permissions for. The screen will show the welcome screen with the following message: \"Please navigate using the taskbar above.\"\n",
      "* *FRS2856.2.8*: The program will check if the user has moved the mouse within 10 minutes. If not, log out the user. A user event will be created, indicating the user was logged out of the Desktop due to inactivity.  The welcome screen will be displayed, with the message \"Click anywhere to log in\".\n",
      "* *FRS2856.2.9*: If there is a disconnection to the RIO while the user is using the Shell, Item 10 will turn from green to red.\n",
      "* *FRS2856.2.10*: Shell will restart Chrome between midnight and 12:10 am.\n",
      "* *FRS2856.2.11*: Item 1 - labeled System\n",
      "** Will show the System Menu\n",
      "** Clicking on System Tools shows the System Tools Panel\n",
      "** Clicking on the Power Options button shows the Power Options Panel with the following Boolean buttons and behaviors:\n",
      "** Shutdown - Execute the Shutdown case of the Power sub VI (issue #2922)\n",
      "** Reboot - Execute the Reboot case of the Power sub VI (issue #2922)\n",
      "** Log Off - Execute the Log Off case of the Power sub VI (issue #2922)\n",
      "** Cancel - The dialog is closed. and returned to the previous panel\n",
      "* *FRS2856.2.12*: Item 2 - labeled Hello UI\n",
      "** Will navigate the focus to Chrome\n",
      "** If Chrome is already running, go to that instance of Chrome.\n",
      "** If Chrome is not running, open it the way the PBS Biotech.exe does when it's started up (specify Incognito and Full Screen mode, and going to Web UI, and whatever else). Only open it when getTrendData calls go through successfully.\n",
      "* *FRS2856.2.13*: Item 3 - labeled Graph\n",
      "** Will run the Graph Panel.vi in the subpanel\n",
      "* *FRS2856.2.14*: Item 4 - labeled File Browser\n",
      "** Will run the File Browser.vi in the subpanel\n",
      "* *FRS2856.2.15*: Item 5 - labeled Editors\n",
      "** Will show a menu option for Alarm, Calibration, Logger, Recipe, and Settings### Alarm will start the program for configuring alarm options\n",
      "** Calibration will start the program for calibrating sensors\n",
      "** Logger will start the program for determining when to log data\n",
      "** Recipe will start the program for creating new recipes and editing existing recipes.\n",
      "** Settings will start the program for editing the System Variables config file\n",
      "* *FRS2856.2.16*: Item 6 - labeled About\n",
      "** Will show the RIO status, version, start options, config status, and the information found in system tab\n",
      "* *FRS2856.2.17*: Item 7 - labeled Account\n",
      "** Pressing on Manage will have two different behaviors. If the user has account management permission, they will see a panel allowing them to add users, set permissions, and change passwords. If the user does not have account management permission, they will only be able to change their passwords and email address.\n",
      "** Pressing on the Log out button will log the user out.  A user event will be created, indicating the user logged out of the Desktop.  The user will see the welcome screen.\n",
      "* *FRS2856.2.18*: Item 8 - labeled Reports\n",
      "** Pressing on the Reports button will take the user to the Reports layout\n",
      "* *FRS2856.2.19*: Item 9 - subpanel - this is where subVI panels are loaded and displayed to the user. It acts as an indicator.\n"
     ]
    }
   ],
   "source": [
    "lines = \"\"\"# The taskbar will all be grayed out initially, except for item 2, which will never be grayed out.\n",
    "# On startup, the shell will start the DB Logger, the NetworkSetOnAtom and NetworkFetchOnAtom, and the Command Handler subVI (Use queue to relay information, front panels for networking codes are removed)\n",
    "# While connecting to the RIO, a subVI will be displayed in the subpanel showing the different progress.\n",
    "# Start the Hello UI after verifying calibration, web server, and connection from Atom to RIO and back.\n",
    "# After all connection and verification processes are completed, show the welcome screen with the message \"Click anywhere to log in\".\n",
    "# The user will click on the welcome screen. This will show a login screen.\n",
    "# After successful login, the taskbar will only enable the buttons that the user has permissions for. The screen will show the welcome screen with the following message: \"Please navigate using the taskbar above.\"\n",
    "# The program will check if the user has moved the mouse within 10 minutes. If not, log out the user. A user event will be created, indicating the user was logged out of the Desktop due to inactivity.  The welcome screen will be displayed, with the message \"Click anywhere to log in\".\n",
    "# If there is a disconnection to the RIO while the user is using the Shell, Item 10 will turn from green to red.\n",
    "# Shell will restart Chrome between midnight and 12:10 am.\n",
    "# Item 1 - labeled System\n",
    "## Will show the System Menu\n",
    "## Clicking on System Tools shows the System Tools Panel\n",
    "## Clicking on the Power Options button shows the Power Options Panel with the following Boolean buttons and behaviors:\n",
    "### Shutdown - Execute the Shutdown case of the Power sub VI (issue #2922)\n",
    "### Reboot - Execute the Reboot case of the Power sub VI (issue #2922)\n",
    "### Log Off - Execute the Log Off case of the Power sub VI (issue #2922)\n",
    "### Cancel - The dialog is closed. and returned to the previous panel\n",
    "# Item 2 - labeled Hello UI\n",
    "## Will navigate the focus to Chrome\n",
    "## If Chrome is already running, go to that instance of Chrome.\n",
    "## If Chrome is not running, open it the way the PBS Biotech.exe does when it's started up (specify Incognito and Full Screen mode, and going to Web UI, and whatever else). Only open it when getTrendData calls go through successfully.\n",
    "# Item 3 - labeled Graph\n",
    "## Will run the Graph Panel.vi in the subpanel\n",
    "# Item 4 - labeled File Browser\n",
    "## Will run the File Browser.vi in the subpanel\n",
    "# Item 5 - labeled Editors\n",
    "## Will show a menu option for Alarm, Calibration, Logger, Recipe, and Settings\\\n",
    "### Alarm will start the program for configuring alarm options\n",
    "### Calibration will start the program for calibrating sensors\n",
    "### Logger will start the program for determining when to log data\n",
    "### Recipe will start the program for creating new recipes and editing existing recipes.\n",
    "### Settings will start the program for editing the System Variables config file\n",
    "# Item 6 - labeled About\n",
    "## Will show the RIO status, version, start options, config status, and the information found in system tab\n",
    "# Item 7 - labeled Account\n",
    "## Pressing on Manage will have two different behaviors. If the user has account management permission, they will see a panel allowing them to add users, set permissions, and change passwords. If the user does not have account management permission, they will only be able to change their passwords and email address.\n",
    "## Pressing on the Log out button will log the user out.  A user event will be created, indicating the user logged out of the Desktop.  The user will see the welcome screen.\n",
    "# Item 8 - labeled Reports\n",
    "## Pressing on the Reports button will take the user to the Reports layout\n",
    "# Item 9 - subpanel - this is where subVI panels are loaded and displayed to the user. It acts as an indicator.\"\"\"\n",
    "\n",
    "lines2 = lines.split(\"\\n\")\n",
    "\n",
    "start = \"%s *FRS2856.2.%s*:\"\n",
    "l1 = 0\n",
    "l2 = 0\n",
    "lines3 = []\n",
    "def lvl(l):\n",
    "    return l.split(\" \", 1)[0].count(\"#\"), l.split(\" \", 1)[1]\n",
    "for l in lines2:\n",
    "    if not l.startswith(\"#\"):\n",
    "        lines3.append(l)\n",
    "        continue\n",
    "    lv, frag = lvl(l)\n",
    "    if lv == 1:\n",
    "        l1 += 1\n",
    "        l2 = 0\n",
    "        lines3.append(start % (\"*\", l1) + \" \" + frag)\n",
    "    else:\n",
    "        l2 += 1\n",
    "        num = \"%d.%d\" % (l1, l2)\n",
    "        # lines3.append(start % (\"**\", num) + \" \" + frag)\n",
    "        lines3.append(\"** \" + frag)\n",
    "for l in lines3:\n",
    "    print(l)"
   ]
  },
  {
   "cell_type": "code",
   "execution_count": 16,
   "metadata": {
    "collapsed": false
   },
   "outputs": [],
   "source": [
    "for l in lines2:\n",
    "    try:\n",
    "        l.split(\" \", 1)[0].count(\"#\"), l.split(\" \", 1)[1]\n",
    "    except:\n",
    "        print(l)"
   ]
  },
  {
   "cell_type": "code",
   "execution_count": null,
   "metadata": {
    "collapsed": true
   },
   "outputs": [],
   "source": []
  }
 ],
 "metadata": {
  "kernelspec": {
   "display_name": "Python 3",
   "language": "python",
   "name": "python3"
  },
  "language_info": {
   "codemirror_mode": {
    "name": "ipython",
    "version": 3
   },
   "file_extension": ".py",
   "mimetype": "text/x-python",
   "name": "python",
   "nbconvert_exporter": "python",
   "pygments_lexer": "ipython3",
   "version": "3.5.2"
  }
 },
 "nbformat": 4,
 "nbformat_minor": 1
}
