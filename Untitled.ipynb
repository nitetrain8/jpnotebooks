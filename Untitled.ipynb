{
 "cells": [
  {
   "cell_type": "code",
   "execution_count": 1,
   "metadata": {
    "collapsed": true
   },
   "outputs": [],
   "source": [
    "lines = \"\"\"# Item 1 will show the folders the user has access to.\n",
    "# Item 4 will show the available removable drive and mapped network drive.\n",
    "# In Item 1 and 4, each entry will have unique identifier to the left of the text\n",
    "## For drives, it will be a cylinder with a gray face and white top.\n",
    "## For folder, it will be a folder icon\n",
    "## For files, there will a paper icon.\n",
    "## If a user double clicks on a folder or drive, it will open the contents of the drive with the first entry being \"...\" Clicking on \"...\" will return the folder one level up until it reaches the drive level.\n",
    "# Item 5 shows the current destination folder path\n",
    "# Item 2 shows the selected folder or file size in kilobytes\n",
    "# Item 6 shows the free space for the destination in MB\n",
    "# Item 3 allows a user to delete a file in the database or reports folder, granted the user has permission.\n",
    "## If the user attempts to delete the Database or Reports folder, the following error message will be displayed: \"Cannot delete selected folder. The folder is a protected resource.\"\n",
    "## If the user attempts to delete the active database, the following error message will be displayed: \"Cannot delete the active database. It is a protected resource.\"\n",
    "## If the user attempts to delete an archived database, the program will update the Database History record with the user who deleted the database and the timestamp. \n",
    "# Item 7 copies the selected folder or file to the destination, overwriting any duplicate files.\n",
    "## Show an error dialog if there isn't enough free space on the destination\n",
    "# Only allow deleting archived DBs\n",
    "# Item 8 will bring up a modal window that allows the user to type in the network location, their username, and password. See issue #3010 for the complete details.\n",
    "# Pressing on Item 9 will archive DB as specified in issue #1759 without checking for size limitation\"\"\""
   ]
  },
  {
   "cell_type": "code",
   "execution_count": 2,
   "metadata": {
    "collapsed": false
   },
   "outputs": [
    {
     "data": {
      "text/plain": [
       "['# Item 1 will show the folders the user has access to.',\n",
       " '# Item 4 will show the available removable drive and mapped network drive.',\n",
       " '# In Item 1 and 4, each entry will have unique identifier to the left of the text',\n",
       " '## For drives, it will be a cylinder with a gray face and white top.',\n",
       " '## For folder, it will be a folder icon',\n",
       " '## For files, there will a paper icon.',\n",
       " '## If a user double clicks on a folder or drive, it will open the contents of the drive with the first entry being \"...\" Clicking on \"...\" will return the folder one level up until it reaches the drive level.',\n",
       " '# Item 5 shows the current destination folder path',\n",
       " '# Item 2 shows the selected folder or file size in kilobytes',\n",
       " '# Item 6 shows the free space for the destination in MB',\n",
       " '# Item 3 allows a user to delete a file in the database or reports folder, granted the user has permission.',\n",
       " '## If the user attempts to delete the Database or Reports folder, the following error message will be displayed: \"Cannot delete selected folder. The folder is a protected resource.\"',\n",
       " '## If the user attempts to delete the active database, the following error message will be displayed: \"Cannot delete the active database. It is a protected resource.\"',\n",
       " '## If the user attempts to delete an archived database, the program will update the Database History record with the user who deleted the database and the timestamp. ',\n",
       " '# Item 7 copies the selected folder or file to the destination, overwriting any duplicate files.',\n",
       " \"## Show an error dialog if there isn't enough free space on the destination\",\n",
       " '# Only allow deleting archived DBs',\n",
       " '# Item 8 will bring up a modal window that allows the user to type in the network location, their username, and password. See issue #3010 for the complete details.',\n",
       " '# Pressing on Item 9 will archive DB as specified in issue #1759 without checking for size limitation']"
      ]
     },
     "execution_count": 2,
     "metadata": {},
     "output_type": "execute_result"
    }
   ],
   "source": [
    "lines2 = lines.split(\"\\n\")\n",
    "lines2"
   ]
  },
  {
   "cell_type": "code",
   "execution_count": 19,
   "metadata": {
    "collapsed": false
   },
   "outputs": [
    {
     "name": "stdout",
     "output_type": "stream",
     "text": [
      "* *FRS2819.3.1*: Item 1 will show the folders the user has access to.\n",
      "* *FRS2819.3.2*: Item 4 will show the available removable drive and mapped network drive.\n",
      "* *FRS2819.3.3*: In Item 1 and 4, each entry will have unique identifier to the left of the text\n",
      "** For drives, it will be a cylinder with a gray face and white top.\n",
      "** For folder, it will be a folder icon\n",
      "** For files, there will a paper icon.\n",
      "** If a user double clicks on a folder or drive, it will open the contents of the drive with the first entry being \"...\" Clicking on \"...\" will return the folder one level up until it reaches the drive level.\n",
      "* *FRS2819.3.4*: Item 5 shows the current destination folder path\n",
      "* *FRS2819.3.5*: Item 2 shows the selected folder or file size in kilobytes\n",
      "* *FRS2819.3.6*: Item 6 shows the free space for the destination in MB\n",
      "* *FRS2819.3.7*: Item 3 allows a user to delete a file in the database or reports folder, granted the user has permission.\n",
      "** If the user attempts to delete the Database or Reports folder, the following error message will be displayed: \"Cannot delete selected folder. The folder is a protected resource.\"\n",
      "** If the user attempts to delete the active database, the following error message will be displayed: \"Cannot delete the active database. It is a protected resource.\"\n",
      "** If the user attempts to delete an archived database, the program will update the Database History record with the user who deleted the database and the timestamp. \n",
      "* *FRS2819.3.8*: Item 7 copies the selected folder or file to the destination, overwriting any duplicate files.\n",
      "** Show an error dialog if there isn't enough free space on the destination\n",
      "* *FRS2819.3.9*: Only allow deleting archived DBs\n",
      "* *FRS2819.3.10*: Item 8 will bring up a modal window that allows the user to type in the network location, their username, and password. See issue #3010 for the complete details.\n",
      "* *FRS2819.3.11*: Pressing on Item 9 will archive DB as specified in issue #1759 without checking for size limitation\n"
     ]
    }
   ],
   "source": [
    "start = \"%s *FRS2819.3.%s*:\"\n",
    "l1 = 0\n",
    "l2 = 0\n",
    "lines3 = []\n",
    "def lvl(l):\n",
    "    return l.split(\" \", 1)[0].count(\"#\"), l.split(\" \", 1)[1]\n",
    "for l in lines2:\n",
    "    lv, frag = lvl(l)\n",
    "    if lv == 1:\n",
    "        l1 += 1\n",
    "        l2 = 0\n",
    "        lines3.append(start % (\"*\", l1) + \" \" + frag)\n",
    "    else:\n",
    "        l2 += 1\n",
    "        num = \"%d.%d\" % (l1, l2)\n",
    "        # lines3.append(start % (\"**\", num) + \" \" + frag)\n",
    "        lines3.append(\"** \" + frag)\n",
    "for l in lines3:\n",
    "    print(l)"
   ]
  },
  {
   "cell_type": "code",
   "execution_count": 9,
   "metadata": {
    "collapsed": true
   },
   "outputs": [],
   "source": [
    "for l in lines2:\n",
    "    try:\n",
    "        l.split(\" \", 1)[0].count(\"#\"), l.split(\" \", 1)[1]\n",
    "    except:\n",
    "        print(l)"
   ]
  },
  {
   "cell_type": "code",
   "execution_count": null,
   "metadata": {
    "collapsed": true
   },
   "outputs": [],
   "source": []
  }
 ],
 "metadata": {
  "kernelspec": {
   "display_name": "Python 3",
   "language": "python",
   "name": "python3"
  },
  "language_info": {
   "codemirror_mode": {
    "name": "ipython",
    "version": 3
   },
   "file_extension": ".py",
   "mimetype": "text/x-python",
   "name": "python",
   "nbconvert_exporter": "python",
   "pygments_lexer": "ipython3",
   "version": "3.5.2"
  }
 },
 "nbformat": 4,
 "nbformat_minor": 1
}
