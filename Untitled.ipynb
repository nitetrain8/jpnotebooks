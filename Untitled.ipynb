{
 "cells": [
  {
   "cell_type": "code",
   "execution_count": 21,
   "metadata": {
    "collapsed": true
   },
   "outputs": [],
   "source": [
    "lines = \"\"\"*FRS2864.2* Functionality\n",
    "# On initialization:\n",
    "## Item 1 is empty\n",
    "## Item 4, 5, and 6 are disabled and grayed out\n",
    "## Item 7 is grayed out and empty\n",
    "# When there are unsaved changes, the Shell navigation buttons and the Make Active button will be grayed out.\n",
    "## When the user press save and is successful or the user press reset, the two buttons are enabled.\n",
    "# When user clicks on Item 2, Item 7 will populate with the names of all globals that can be logged.\n",
    "# When user clicks on Item 3, a custom file dialog will display allowing the user to select the desired Logger settings file to open.\n",
    "# When user clicks on Item 4, a custom file dialog will display, allowing the user to save the file with a desired name.  The name will be XXX.log where XXX is the user-desired name.  It will have a \"Save\" and \"Cancel\" button.\n",
    "## If the file is new, pass an empty path to the file dialog.\n",
    "## If the file was opened, pass the existing file name to the file dialog.\n",
    "## Clicking the \"Save\" button\n",
    "### If the entered file name is valid, commit the changes to the file.  The \"Make Active\" button and the Shell navigation buttons the user has access to will no longer be grayed out.\n",
    "### If the entered file name is not valid, alert the user and then return them to the state before saving.\n",
    "# When user clicks on Item 5, the contents of 7 will be sent to RIO to be made active. A user event will be generated in database to include the contents of Item 5 in the event description.\n",
    "## Item 5 will be grayed out if there are unsaved changes, or if no file is currently loaded in the editor.\n",
    "# Clicking item 6 will throw out all changes made by the user.  If an existing file was opened, the UI will be refreshed to show that file's saved contents.  If it was a new file, the editor should display as it does when opened.  At that point, the Shell navigation buttons the user has access to will no longer be grayed out.  If a file is open, the \"Make Active\" button will also no longer be grayed out.\n",
    "# For Item 2, 3, and 6, if there are unsaved changes, a prompt will be displayed asking if the user want to continue or cancel. If the user cancel, the program returns to the previous state. Otherwise, the changes are discarded and the user action is performed.\"\"\""
   ]
  },
  {
   "cell_type": "code",
   "execution_count": 22,
   "metadata": {
    "collapsed": false
   },
   "outputs": [
    {
     "name": "stdout",
     "output_type": "stream",
     "text": [
      "*FRS2864.2* Functionality\n",
      "* *FRS2864.2.1*: On initialization:\n",
      "** Item 1 is empty\n",
      "** Item 4, 5, and 6 are disabled and grayed out\n",
      "** Item 7 is grayed out and empty\n",
      "* *FRS2864.2.2*: When there are unsaved changes, the Shell navigation buttons and the Make Active button will be grayed out.\n",
      "** When the user press save and is successful or the user press reset, the two buttons are enabled.\n",
      "* *FRS2864.2.3*: When user clicks on Item 2, Item 7 will populate with the names of all globals that can be logged.\n",
      "* *FRS2864.2.4*: When user clicks on Item 3, a custom file dialog will display allowing the user to select the desired Logger settings file to open.\n",
      "* *FRS2864.2.5*: When user clicks on Item 4, a custom file dialog will display, allowing the user to save the file with a desired name.  The name will be XXX.log where XXX is the user-desired name.  It will have a \"Save\" and \"Cancel\" button.\n",
      "** If the file is new, pass an empty path to the file dialog.\n",
      "** If the file was opened, pass the existing file name to the file dialog.\n",
      "** Clicking the \"Save\" button\n",
      "*** If the entered file name is valid, commit the changes to the file.  The \"Make Active\" button and the Shell navigation buttons the user has access to will no longer be grayed out.\n",
      "*** If the entered file name is not valid, alert the user and then return them to the state before saving.\n",
      "* *FRS2864.2.6*: When user clicks on Item 5, the contents of 7 will be sent to RIO to be made active. A user event will be generated in database to include the contents of Item 5 in the event description.\n",
      "** Item 5 will be grayed out if there are unsaved changes, or if no file is currently loaded in the editor.\n",
      "* *FRS2864.2.7*: Clicking item 6 will throw out all changes made by the user.  If an existing file was opened, the UI will be refreshed to show that file's saved contents.  If it was a new file, the editor should display as it does when opened.  At that point, the Shell navigation buttons the user has access to will no longer be grayed out.  If a file is open, the \"Make Active\" button will also no longer be grayed out.\n",
      "* *FRS2864.2.8*: For Item 2, 3, and 6, if there are unsaved changes, a prompt will be displayed asking if the user want to continue or cancel. If the user cancel, the program returns to the previous state. Otherwise, the changes are discarded and the user action is performed.\n"
     ]
    }
   ],
   "source": [
    "\n",
    "\n",
    "lines2 = lines.split(\"\\n\")\n",
    "\n",
    "start = \"%s *FRS2864.2.%s*:\"\n",
    "import re\n",
    "start_re = re.compile(r\"^([\\+\\* ]*)(FRS[\\d\\.]*)([\\+\\*])\")\n",
    "l1 = 0\n",
    "l2 = 0\n",
    "lines3 = []\n",
    "\n",
    "def new_start(m):\n",
    "    lead, frs, end = m.groups()\n",
    "    start = \"%s \" + lead + frs + \".%s\" + end + \":\"\n",
    "    return start\n",
    "\n",
    "def lvl(l):\n",
    "    return l.split(\" \", 1)[0].count(\"#\"), l.split(\" \", 1)[1]\n",
    "for l in lines2:\n",
    "    m = start_re.match(l)\n",
    "    if m:\n",
    "        start = new_start(m)\n",
    "        l1 = 0\n",
    "        l2 = 0\n",
    "        lines3.append(l)\n",
    "        continue\n",
    "    if not l.startswith(\"#\"):\n",
    "        lines3.append(l)\n",
    "        continue\n",
    "    lv, frag = lvl(l)\n",
    "    if lv == 1:\n",
    "        l1 += 1\n",
    "        l2 = 0\n",
    "        lines3.append(start % (\"*\", l1) + \" \" + frag)\n",
    "    else:\n",
    "        l2 += 1\n",
    "        num = \"%d.%d\" % (l1, l2)\n",
    "        # lines3.append(start % (\"**\", num) + \" \" + frag)\n",
    "        lines3.append(\"*\" * lv +\" \" + frag)\n",
    "for l in lines3:\n",
    "    print(l)"
   ]
  },
  {
   "cell_type": "code",
   "execution_count": 16,
   "metadata": {
    "collapsed": false
   },
   "outputs": [],
   "source": [
    "for l in lines2:\n",
    "    try:\n",
    "        l.split(\" \", 1)[0].count(\"#\"), l.split(\" \", 1)[1]\n",
    "    except:\n",
    "        print(l)"
   ]
  },
  {
   "cell_type": "code",
   "execution_count": 10,
   "metadata": {
    "collapsed": false
   },
   "outputs": [
    {
     "name": "stdout",
     "output_type": "stream",
     "text": [
      "('*', 'FRS2860.1', '*')\n",
      "('*', 'FRS2860.2', '*')\n",
      "('*', 'FRS2860.3', '*')\n",
      "('*', 'FRS2860.4', '*')\n",
      "('*', 'FRS2860.5', '*')\n"
     ]
    }
   ],
   "source": [
    "import re\n",
    "start_re = re.compile(r\"^([\\+\\* ]*)(FRS[\\d\\.]*)([\\+\\*])\")\n",
    "for l in lines.split(\"\\n\"):\n",
    "    if start_re.match(l):\n",
    "        print(start_re.match(l).groups(1))"
   ]
  },
  {
   "cell_type": "code",
   "execution_count": null,
   "metadata": {
    "collapsed": true
   },
   "outputs": [],
   "source": []
  }
 ],
 "metadata": {
  "kernelspec": {
   "display_name": "Python 3",
   "language": "python",
   "name": "python3"
  },
  "language_info": {
   "codemirror_mode": {
    "name": "ipython",
    "version": 3
   },
   "file_extension": ".py",
   "mimetype": "text/x-python",
   "name": "python",
   "nbconvert_exporter": "python",
   "pygments_lexer": "ipython3",
   "version": "3.5.2"
  }
 },
 "nbformat": 4,
 "nbformat_minor": 1
}
