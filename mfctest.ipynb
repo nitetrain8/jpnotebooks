{
 "cells": [
  {
   "cell_type": "code",
   "execution_count": 1,
   "metadata": {
    "collapsed": true
   },
   "outputs": [],
   "source": [
    "from hello.hello import *\n",
    "from officelib.xllib import *\n",
    "from officelib import const"
   ]
  },
  {
   "cell_type": "code",
   "execution_count": 2,
   "metadata": {
    "collapsed": false
   },
   "outputs": [],
   "source": [
    "app = HelloApp(\"192.168.1.7\")\n",
    "def set_mg(sp):\n",
    "    try:\n",
    "        app.setmg(1, sp)\n",
    "    except HelloError:\n",
    "        app.login()\n",
    "        app.setmg(1, sp)\n",
    "        \n",
    "def update_ss(cell, val):\n",
    "    cell.Value = val\n",
    "    c = cell.Offset(2, 1)\n",
    "    c.Select()\n",
    "    return c\n",
    "        \n",
    "\n",
    "def run_test(name, mfc_max, c=None):\n",
    "    mfc_max *= 10\n",
    "    imt = int(mfc_max/10)\n",
    "    print(\"Testing \", name, \"MFC: %d LPM Max\" % imt)\n",
    "    for fr in range(imt, mfc_max+1, imt):\n",
    "        fr /= 10\n",
    "        set_mg(fr)\n",
    "        v = input(\"%.1f LPM:\" % fr)\n",
    "        if v.lower() in (\"break\", \"quit\", \"q\", \"stop\"):\n",
    "            break\n",
    "        c = update_ss(c, v)\n",
    "    \n",
    "\n",
    "xl = Excel()\n",
    "def s():\n",
    "    return xl.Selection\n",
    "\n",
    "def run(name, mfcm):\n",
    "    run_test(name, mfcm, s())"
   ]
  },
  {
   "cell_type": "code",
   "execution_count": 13,
   "metadata": {
    "collapsed": false
   },
   "outputs": [
    {
     "name": "stdout",
     "output_type": "stream",
     "text": [
      "Testing  air\n",
      "Req 1.0 LPM:1.06\n",
      "Req 2.0 LPM:2.09\n",
      "Req 3.0 LPM:3.13\n",
      "Req 4.0 LPM:4.16\n",
      "Req 5.0 LPM:5.19\n",
      "Req 6.0 LPM:6.20\n",
      "Req 7.0 LPM:7.23\n",
      "Req 8.0 LPM:8.26\n",
      "Req 9.0 LPM:9.28\n",
      "Req 10.0 LPM:10.3\n"
     ]
    }
   ],
   "source": [
    "run(\"air\", 10)"
   ]
  },
  {
   "cell_type": "raw",
   "metadata": {},
   "source": [
    "run(\"n2 off\", 10)"
   ]
  },
  {
   "cell_type": "code",
   "execution_count": 27,
   "metadata": {
    "collapsed": false
   },
   "outputs": [
    {
     "name": "stdout",
     "output_type": "stream",
     "text": [
      "Testing  o2 off MFC: 10 LPM Max\n",
      "1.0 LPM:1.07\n",
      "2.0 LPM:2.11\n",
      "3.0 LPM:3.16\n",
      "4.0 LPM:4.21\n",
      "5.0 LPM:5.25\n",
      "6.0 LPM:6.28\n",
      "7.0 LPM:7.34\n",
      "8.0 LPM:8.37\n",
      "9.0 LPM:9.42\n",
      "10.0 LPM:10.44\n"
     ]
    }
   ],
   "source": [
    "run(\"o2 off\", 10)"
   ]
  },
  {
   "cell_type": "code",
   "execution_count": 7,
   "metadata": {
    "collapsed": false
   },
   "outputs": [
    {
     "name": "stdout",
     "output_type": "stream",
     "text": [
      "Testing  co2 off MFC: 2 LPM Max\n",
      "0.2 LPM:.226\n",
      "0.4 LPM:.434\n",
      "0.6 LPM:.643\n",
      "0.8 LPM:.848\n",
      "1.0 LPM:1.054\n",
      "1.2 LPM:1.261\n",
      "1.4 LPM:1.465\n",
      "1.6 LPM:1.670\n",
      "1.8 LPM:1.875\n",
      "2.0 LPM:2.074\n"
     ]
    }
   ],
   "source": [
    "run(\"co2 off\", 2)"
   ]
  },
  {
   "cell_type": "code",
   "execution_count": 6,
   "metadata": {
    "collapsed": false
   },
   "outputs": [
    {
     "name": "stdout",
     "output_type": "stream",
     "text": [
      "Testing  co2 on MFC: 2 LPM Max\n",
      "0.2 LPM:.235\n",
      "0.4 LPM:.444\n",
      "0.6 LPM:.653\n",
      "0.8 LPM:.858\n",
      "1.0 LPM:1.065\n",
      "1.2 LPM:1.274\n",
      "1.4 LPM:1.479\n",
      "1.6 LPM:1.687\n",
      "1.8 LPM:1.894\n",
      "2.0 LPM:2.085\n"
     ]
    }
   ],
   "source": [
    "run(\"co2 on\", 2)"
   ]
  },
  {
   "cell_type": "code",
   "execution_count": 8,
   "metadata": {
    "collapsed": false
   },
   "outputs": [
    {
     "name": "stdout",
     "output_type": "stream",
     "text": [
      "Testing  air on MFC: 10 LPM Max\n",
      "1.0 LPM:1.11\n",
      "2.0 LPM:2.14\n",
      "3.0 LPM:3.17\n",
      "4.0 LPM:4.21\n",
      "5.0 LPM:5.24\n",
      "6.0 LPM:6.28\n",
      "7.0 LPM:7.30\n",
      "8.0 LPM:8.33\n",
      "9.0 LPM:9.35\n",
      "10.0 LPM:10.33\n"
     ]
    }
   ],
   "source": [
    "run(\"air on\", 10)"
   ]
  },
  {
   "cell_type": "code",
   "execution_count": 9,
   "metadata": {
    "collapsed": false
   },
   "outputs": [
    {
     "name": "stdout",
     "output_type": "stream",
     "text": [
      "Testing  n2 on MFC: 10 LPM Max\n",
      "1.0 LPM:1.11\n",
      "2.0 LPM:2.14\n",
      "3.0 LPM:3.18\n",
      "4.0 LPM:4.21\n",
      "5.0 LPM:5.24\n",
      "6.0 LPM:6.26\n",
      "7.0 LPM:7.29\n",
      "8.0 LPM:8.32\n",
      "9.0 LPM:9.35\n",
      "10.0 LPM:10.33\n"
     ]
    }
   ],
   "source": [
    "run(\"n2 on\", 10)"
   ]
  },
  {
   "cell_type": "code",
   "execution_count": 11,
   "metadata": {
    "collapsed": false
   },
   "outputs": [
    {
     "name": "stdout",
     "output_type": "stream",
     "text": [
      "Testing  o2 on MFC: 10 LPM Max\n",
      "1.0 LPM:1.12\n",
      "2.0 LPM:2.16\n",
      "3.0 LPM:3.23\n",
      "4.0 LPM:4.3\n",
      "5.0 LPM:5.30\n",
      "6.0 LPM:6.35\n",
      "7.0 LPM:7.40\n",
      "8.0 LPM:8.43\n",
      "9.0 LPM:9.48\n",
      "10.0 LPM:10.44\n"
     ]
    }
   ],
   "source": [
    "run(\"o2 on\", 10)"
   ]
  },
  {
   "cell_type": "code",
   "execution_count": 19,
   "metadata": {
    "collapsed": false
   },
   "outputs": [
    {
     "data": {
      "text/plain": [
       "b'<?xml version=\"1.0\" encoding=\"windows-1252\" standalone=\"no\" ?><Reply><Result>True</Result><Message>True</Message></Reply>'"
      ]
     },
     "execution_count": 19,
     "metadata": {},
     "output_type": "execute_result"
    }
   ],
   "source": [
    "_.read()"
   ]
  },
  {
   "cell_type": "code",
   "execution_count": null,
   "metadata": {
    "collapsed": true
   },
   "outputs": [],
   "source": []
  }
 ],
 "metadata": {
  "kernelspec": {
   "display_name": "Python 3",
   "language": "python",
   "name": "python3"
  },
  "language_info": {
   "codemirror_mode": {
    "name": "ipython",
    "version": 3
   },
   "file_extension": ".py",
   "mimetype": "text/x-python",
   "name": "python",
   "nbconvert_exporter": "python",
   "pygments_lexer": "ipython3",
   "version": "3.4.1"
  }
 },
 "nbformat": 4,
 "nbformat_minor": 0
}
